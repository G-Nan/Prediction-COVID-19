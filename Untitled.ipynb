{
 "cells": [
  {
   "cell_type": "code",
   "execution_count": 2,
   "id": "d5e6588d",
   "metadata": {
    "ExecuteTime": {
     "end_time": "2023-06-21T06:23:04.213530Z",
     "start_time": "2023-06-21T06:23:04.199565Z"
    }
   },
   "outputs": [],
   "source": [
    "import os\n",
    "os.chdir('D:\\\\Gnan\\\\DA\\\\KMU\\\\Prediction-COVID-19')\n",
    "from utils import *\n",
    "from model import *\n",
    "from trainer import *\n",
    "\n",
    "from tqdm.notebook import tqdm\n",
    "from torch.optim.adam import Adam\n",
    "device = torch.device('cuda:0' if torch.cuda.is_available() else 'cpu')\n",
    "\n",
    "import warnings\n",
    "warnings.filterwarnings('ignore')"
   ]
  },
  {
   "cell_type": "code",
   "execution_count": null,
   "id": "3efc18cc",
   "metadata": {},
   "outputs": [],
   "source": [
    "path = f'Data/.csv'"
   ]
  },
  {
   "cell_type": "code",
   "execution_count": 31,
   "id": "1afae67f",
   "metadata": {
    "ExecuteTime": {
     "end_time": "2023-06-20T05:34:56.274352Z",
     "start_time": "2023-06-20T05:34:56.226480Z"
    }
   },
   "outputs": [],
   "source": [
    "cities = ['강원', '경기', '경남', '경북', '광주', '대구', '대전', '부산', \n",
    "             '서울', '세종', '울산', '인천', '전남', '전북', '제주', '충남', '충북']\n",
    "key = '23A'\n",
    "\n",
    "k = 0\n",
    "dic_model = {}\n",
    "for city in cities:\n",
    "    path = f'model/Infected/{key}/{city}/*.pth'\n",
    "    files = glob.glob(path)\n",
    "    for file in files:\n",
    "        new_file = file[:22] + file[24 + (k//10):]\n",
    "        os.rename(file, new_file)\n",
    "    \n",
    "    k += 1\n"
   ]
  },
  {
   "cell_type": "code",
   "execution_count": 27,
   "id": "a8871c73",
   "metadata": {
    "ExecuteTime": {
     "end_time": "2023-06-20T05:32:59.095304Z",
     "start_time": "2023-06-20T05:32:59.084332Z"
    }
   },
   "outputs": [
    {
     "data": {
      "text/plain": [
       "1"
      ]
     },
     "execution_count": 27,
     "metadata": {},
     "output_type": "execute_result"
    }
   ],
   "source": [
    "10//10"
   ]
  },
  {
   "cell_type": "code",
   "execution_count": 19,
   "id": "0413ce40",
   "metadata": {
    "ExecuteTime": {
     "end_time": "2023-06-20T05:26:36.189405Z",
     "start_time": "2023-06-20T05:26:36.174443Z"
    }
   },
   "outputs": [
    {
     "name": "stdout",
     "output_type": "stream",
     "text": [
      "['model/Infected/22D/충북\\\\16_BiGRU.pth', 'model/Infected/22D/충북\\\\16_BiLSTM.pth', 'model/Infected/22D/충북\\\\16_BiRNN.pth', 'model/Infected/22D/충북\\\\16_GRU.pth', 'model/Infected/22D/충북\\\\16_LSTM.pth', 'model/Infected/22D/충북\\\\16_RNN.pth', 'model/Infected/22D/충북\\\\16_seq2seq_BiGRU.pth', 'model/Infected/22D/충북\\\\16_seq2seq_BiLSTM.pth', 'model/Infected/22D/충북\\\\16_seq2seq_BiRNN.pth', 'model/Infected/22D/충북\\\\16_seq2seq_GRU.pth', 'model/Infected/22D/충북\\\\16_seq2seq_LSTM.pth', 'model/Infected/22D/충북\\\\16_seq2seq_RNN.pth']\n"
     ]
    }
   ],
   "source": [
    "print(files)"
   ]
  },
  {
   "cell_type": "code",
   "execution_count": null,
   "id": "21e9741f",
   "metadata": {},
   "outputs": [],
   "source": []
  }
 ],
 "metadata": {
  "kernelspec": {
   "display_name": "KDA_DA",
   "language": "python",
   "name": "kda_da"
  },
  "language_info": {
   "codemirror_mode": {
    "name": "ipython",
    "version": 3
   },
   "file_extension": ".py",
   "mimetype": "text/x-python",
   "name": "python",
   "nbconvert_exporter": "python",
   "pygments_lexer": "ipython3",
   "version": "3.10.8"
  },
  "toc": {
   "base_numbering": 1,
   "nav_menu": {},
   "number_sections": true,
   "sideBar": true,
   "skip_h1_title": false,
   "title_cell": "Table of Contents",
   "title_sidebar": "Contents",
   "toc_cell": false,
   "toc_position": {},
   "toc_section_display": true,
   "toc_window_display": false
  }
 },
 "nbformat": 4,
 "nbformat_minor": 5
}
