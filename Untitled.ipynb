{
 "cells": [
  {
   "cell_type": "code",
   "execution_count": 1,
   "id": "ab058f4f",
   "metadata": {
    "ExecuteTime": {
     "end_time": "2023-05-02T05:53:31.109850Z",
     "start_time": "2023-05-02T05:53:28.945923Z"
    }
   },
   "outputs": [],
   "source": [
    "from utils import *\n",
    "from train import train\n"
   ]
  },
  {
   "cell_type": "code",
   "execution_count": 2,
   "id": "8ebccf87",
   "metadata": {
    "ExecuteTime": {
     "end_time": "2023-05-02T05:53:32.637762Z",
     "start_time": "2023-05-02T05:53:32.566714Z"
    }
   },
   "outputs": [],
   "source": [
    "path = 'Data/CleanedData/*.csv'\n",
    "file_list, name_list = Load_files.load_files(path)"
   ]
  },
  {
   "cell_type": "code",
   "execution_count": 3,
   "id": "7390f934",
   "metadata": {
    "ExecuteTime": {
     "end_time": "2023-05-02T05:53:32.899471Z",
     "start_time": "2023-05-02T05:53:32.872391Z"
    }
   },
   "outputs": [
    {
     "data": {
      "text/html": [
       "<div>\n",
       "<style scoped>\n",
       "    .dataframe tbody tr th:only-of-type {\n",
       "        vertical-align: middle;\n",
       "    }\n",
       "\n",
       "    .dataframe tbody tr th {\n",
       "        vertical-align: top;\n",
       "    }\n",
       "\n",
       "    .dataframe thead th {\n",
       "        text-align: right;\n",
       "    }\n",
       "</style>\n",
       "<table border=\"1\" class=\"dataframe\">\n",
       "  <thead>\n",
       "    <tr style=\"text-align: right;\">\n",
       "      <th></th>\n",
       "      <th>Unnamed: 0</th>\n",
       "      <th>deathCnt</th>\n",
       "      <th>defCnt</th>\n",
       "      <th>gubun</th>\n",
       "      <th>gubunEn</th>\n",
       "      <th>incDec</th>\n",
       "      <th>isolClearCnt</th>\n",
       "      <th>isolIngCnt</th>\n",
       "      <th>localOccCnt</th>\n",
       "      <th>overFlowCnt</th>\n",
       "      <th>qurRate</th>\n",
       "      <th>stdDay</th>\n",
       "    </tr>\n",
       "  </thead>\n",
       "  <tbody>\n",
       "    <tr>\n",
       "      <th>0</th>\n",
       "      <td>0</td>\n",
       "      <td>0</td>\n",
       "      <td>0</td>\n",
       "      <td>강원</td>\n",
       "      <td>Gangwon-do</td>\n",
       "      <td>0</td>\n",
       "      <td>0</td>\n",
       "      <td>0</td>\n",
       "      <td>0</td>\n",
       "      <td>0</td>\n",
       "      <td>0.0</td>\n",
       "      <td>2020-01-20</td>\n",
       "    </tr>\n",
       "    <tr>\n",
       "      <th>1</th>\n",
       "      <td>1</td>\n",
       "      <td>0</td>\n",
       "      <td>0</td>\n",
       "      <td>강원</td>\n",
       "      <td>Gangwon-do</td>\n",
       "      <td>0</td>\n",
       "      <td>0</td>\n",
       "      <td>0</td>\n",
       "      <td>0</td>\n",
       "      <td>0</td>\n",
       "      <td>0.0</td>\n",
       "      <td>2020-01-21</td>\n",
       "    </tr>\n",
       "    <tr>\n",
       "      <th>2</th>\n",
       "      <td>2</td>\n",
       "      <td>0</td>\n",
       "      <td>0</td>\n",
       "      <td>강원</td>\n",
       "      <td>Gangwon-do</td>\n",
       "      <td>0</td>\n",
       "      <td>0</td>\n",
       "      <td>0</td>\n",
       "      <td>0</td>\n",
       "      <td>0</td>\n",
       "      <td>0.0</td>\n",
       "      <td>2020-01-22</td>\n",
       "    </tr>\n",
       "    <tr>\n",
       "      <th>3</th>\n",
       "      <td>3</td>\n",
       "      <td>0</td>\n",
       "      <td>0</td>\n",
       "      <td>강원</td>\n",
       "      <td>Gangwon-do</td>\n",
       "      <td>0</td>\n",
       "      <td>0</td>\n",
       "      <td>0</td>\n",
       "      <td>0</td>\n",
       "      <td>0</td>\n",
       "      <td>0.0</td>\n",
       "      <td>2020-01-23</td>\n",
       "    </tr>\n",
       "    <tr>\n",
       "      <th>4</th>\n",
       "      <td>4</td>\n",
       "      <td>0</td>\n",
       "      <td>0</td>\n",
       "      <td>강원</td>\n",
       "      <td>Gangwon-do</td>\n",
       "      <td>0</td>\n",
       "      <td>0</td>\n",
       "      <td>0</td>\n",
       "      <td>0</td>\n",
       "      <td>0</td>\n",
       "      <td>0.0</td>\n",
       "      <td>2020-01-24</td>\n",
       "    </tr>\n",
       "    <tr>\n",
       "      <th>...</th>\n",
       "      <td>...</td>\n",
       "      <td>...</td>\n",
       "      <td>...</td>\n",
       "      <td>...</td>\n",
       "      <td>...</td>\n",
       "      <td>...</td>\n",
       "      <td>...</td>\n",
       "      <td>...</td>\n",
       "      <td>...</td>\n",
       "      <td>...</td>\n",
       "      <td>...</td>\n",
       "      <td>...</td>\n",
       "    </tr>\n",
       "    <tr>\n",
       "      <th>1167</th>\n",
       "      <td>1167</td>\n",
       "      <td>1320</td>\n",
       "      <td>905366</td>\n",
       "      <td>강원</td>\n",
       "      <td>Gangwon-do</td>\n",
       "      <td>213</td>\n",
       "      <td>0</td>\n",
       "      <td>0</td>\n",
       "      <td>213</td>\n",
       "      <td>0</td>\n",
       "      <td>58924.0</td>\n",
       "      <td>2023-04-01</td>\n",
       "    </tr>\n",
       "    <tr>\n",
       "      <th>1168</th>\n",
       "      <td>1168</td>\n",
       "      <td>1320</td>\n",
       "      <td>905564</td>\n",
       "      <td>강원</td>\n",
       "      <td>Gangwon-do</td>\n",
       "      <td>198</td>\n",
       "      <td>0</td>\n",
       "      <td>0</td>\n",
       "      <td>198</td>\n",
       "      <td>0</td>\n",
       "      <td>58937.0</td>\n",
       "      <td>2023-04-02</td>\n",
       "    </tr>\n",
       "    <tr>\n",
       "      <th>1169</th>\n",
       "      <td>1169</td>\n",
       "      <td>1320</td>\n",
       "      <td>905697</td>\n",
       "      <td>강원</td>\n",
       "      <td>Gangwon-do</td>\n",
       "      <td>133</td>\n",
       "      <td>0</td>\n",
       "      <td>0</td>\n",
       "      <td>133</td>\n",
       "      <td>0</td>\n",
       "      <td>58946.0</td>\n",
       "      <td>2023-04-03</td>\n",
       "    </tr>\n",
       "    <tr>\n",
       "      <th>1170</th>\n",
       "      <td>1170</td>\n",
       "      <td>1321</td>\n",
       "      <td>905963</td>\n",
       "      <td>강원</td>\n",
       "      <td>Gangwon-do</td>\n",
       "      <td>266</td>\n",
       "      <td>0</td>\n",
       "      <td>0</td>\n",
       "      <td>264</td>\n",
       "      <td>2</td>\n",
       "      <td>58963.0</td>\n",
       "      <td>2023-04-04</td>\n",
       "    </tr>\n",
       "    <tr>\n",
       "      <th>1171</th>\n",
       "      <td>1171</td>\n",
       "      <td>1321</td>\n",
       "      <td>906344</td>\n",
       "      <td>강원</td>\n",
       "      <td>Gangwon-do</td>\n",
       "      <td>381</td>\n",
       "      <td>0</td>\n",
       "      <td>0</td>\n",
       "      <td>381</td>\n",
       "      <td>0</td>\n",
       "      <td>58988.0</td>\n",
       "      <td>2023-04-05</td>\n",
       "    </tr>\n",
       "  </tbody>\n",
       "</table>\n",
       "<p>1172 rows × 12 columns</p>\n",
       "</div>"
      ],
      "text/plain": [
       "      Unnamed: 0  deathCnt  defCnt gubun     gubunEn  incDec  isolClearCnt  \\\n",
       "0              0         0       0    강원  Gangwon-do       0             0   \n",
       "1              1         0       0    강원  Gangwon-do       0             0   \n",
       "2              2         0       0    강원  Gangwon-do       0             0   \n",
       "3              3         0       0    강원  Gangwon-do       0             0   \n",
       "4              4         0       0    강원  Gangwon-do       0             0   \n",
       "...          ...       ...     ...   ...         ...     ...           ...   \n",
       "1167        1167      1320  905366    강원  Gangwon-do     213             0   \n",
       "1168        1168      1320  905564    강원  Gangwon-do     198             0   \n",
       "1169        1169      1320  905697    강원  Gangwon-do     133             0   \n",
       "1170        1170      1321  905963    강원  Gangwon-do     266             0   \n",
       "1171        1171      1321  906344    강원  Gangwon-do     381             0   \n",
       "\n",
       "      isolIngCnt  localOccCnt  overFlowCnt  qurRate      stdDay  \n",
       "0              0            0            0      0.0  2020-01-20  \n",
       "1              0            0            0      0.0  2020-01-21  \n",
       "2              0            0            0      0.0  2020-01-22  \n",
       "3              0            0            0      0.0  2020-01-23  \n",
       "4              0            0            0      0.0  2020-01-24  \n",
       "...          ...          ...          ...      ...         ...  \n",
       "1167           0          213            0  58924.0  2023-04-01  \n",
       "1168           0          198            0  58937.0  2023-04-02  \n",
       "1169           0          133            0  58946.0  2023-04-03  \n",
       "1170           0          264            2  58963.0  2023-04-04  \n",
       "1171           0          381            0  58988.0  2023-04-05  \n",
       "\n",
       "[1172 rows x 12 columns]"
      ]
     },
     "execution_count": 3,
     "metadata": {},
     "output_type": "execute_result"
    }
   ],
   "source": [
    "file = file_list[0]\n",
    "file"
   ]
  },
  {
   "cell_type": "code",
   "execution_count": 4,
   "id": "c83f8ebe",
   "metadata": {
    "ExecuteTime": {
     "end_time": "2023-05-02T05:53:35.086487Z",
     "start_time": "2023-05-02T05:53:34.984731Z"
    }
   },
   "outputs": [],
   "source": [
    "df = Prepare_df.Processing(file)\n",
    "x, y, x_ss, y_ms, train_loader, test_loader = Prepare_df.Split_data(df, int(len(df)*0.75), 60, 7)"
   ]
  },
  {
   "cell_type": "code",
   "execution_count": 5,
   "id": "43a8dca5",
   "metadata": {
    "ExecuteTime": {
     "end_time": "2023-05-02T05:55:00.858457Z",
     "start_time": "2023-05-02T05:55:00.850477Z"
    }
   },
   "outputs": [
    {
     "data": {
      "text/plain": [
       "torch.Size([1103, 60, 3])"
      ]
     },
     "execution_count": 5,
     "metadata": {},
     "output_type": "execute_result"
    }
   ],
   "source": [
    "x_ss.size()"
   ]
  },
  {
   "cell_type": "code",
   "execution_count": null,
   "id": "58ee48de",
   "metadata": {},
   "outputs": [],
   "source": []
  }
 ],
 "metadata": {
  "kernelspec": {
   "display_name": "KDA_DA",
   "language": "python",
   "name": "kda_da"
  },
  "language_info": {
   "codemirror_mode": {
    "name": "ipython",
    "version": 3
   },
   "file_extension": ".py",
   "mimetype": "text/x-python",
   "name": "python",
   "nbconvert_exporter": "python",
   "pygments_lexer": "ipython3",
   "version": "3.10.8"
  },
  "toc": {
   "base_numbering": 1,
   "nav_menu": {},
   "number_sections": true,
   "sideBar": true,
   "skip_h1_title": false,
   "title_cell": "Table of Contents",
   "title_sidebar": "Contents",
   "toc_cell": false,
   "toc_position": {},
   "toc_section_display": true,
   "toc_window_display": false
  }
 },
 "nbformat": 4,
 "nbformat_minor": 5
}
