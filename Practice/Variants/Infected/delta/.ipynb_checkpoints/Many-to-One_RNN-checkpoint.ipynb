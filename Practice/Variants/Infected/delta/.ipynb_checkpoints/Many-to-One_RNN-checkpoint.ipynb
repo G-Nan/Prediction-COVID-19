{
 "cells": [
  {
   "cell_type": "code",
   "execution_count": 1,
   "id": "7ef1b38b",
   "metadata": {
    "ExecuteTime": {
     "end_time": "2023-06-06T07:39:50.151575Z",
     "start_time": "2023-06-06T07:39:47.845396Z"
    }
   },
   "outputs": [],
   "source": [
    "import os\n",
    "os.chdir('D:\\\\Gnan\\\\DA\\\\KMU\\\\Prediction-COVID-19')\n",
    "from utils import *\n",
    "from model import *\n",
    "from trainer import *\n",
    "\n",
    "from tqdm.notebook import tqdm\n",
    "from torch.optim.adam import Adam\n",
    "device = torch.device('cuda:0' if torch.cuda.is_available() else 'cpu')\n",
    "\n",
    "import warnings\n",
    "warnings.filterwarnings('ignore')"
   ]
  },
  {
   "cell_type": "code",
   "execution_count": 2,
   "id": "90d1bf81",
   "metadata": {
    "ExecuteTime": {
     "end_time": "2023-06-06T07:39:50.260257Z",
     "start_time": "2023-06-06T07:39:50.153216Z"
    }
   },
   "outputs": [
    {
     "data": {
      "text/html": [
       "<div>\n",
       "<style scoped>\n",
       "    .dataframe tbody tr th:only-of-type {\n",
       "        vertical-align: middle;\n",
       "    }\n",
       "\n",
       "    .dataframe tbody tr th {\n",
       "        vertical-align: top;\n",
       "    }\n",
       "\n",
       "    .dataframe thead th {\n",
       "        text-align: right;\n",
       "    }\n",
       "</style>\n",
       "<table border=\"1\" class=\"dataframe\">\n",
       "  <thead>\n",
       "    <tr style=\"text-align: right;\">\n",
       "      <th></th>\n",
       "      <th>stdDay</th>\n",
       "      <th>incDec</th>\n",
       "      <th>alpha_variants</th>\n",
       "      <th>delta_variants</th>\n",
       "    </tr>\n",
       "  </thead>\n",
       "  <tbody>\n",
       "    <tr>\n",
       "      <th>0</th>\n",
       "      <td>2021-04-12</td>\n",
       "      <td>16.0</td>\n",
       "      <td>4.16</td>\n",
       "      <td>0.32</td>\n",
       "    </tr>\n",
       "    <tr>\n",
       "      <th>1</th>\n",
       "      <td>2021-04-13</td>\n",
       "      <td>9.0</td>\n",
       "      <td>2.34</td>\n",
       "      <td>0.18</td>\n",
       "    </tr>\n",
       "    <tr>\n",
       "      <th>2</th>\n",
       "      <td>2021-04-14</td>\n",
       "      <td>11.0</td>\n",
       "      <td>2.86</td>\n",
       "      <td>0.22</td>\n",
       "    </tr>\n",
       "    <tr>\n",
       "      <th>3</th>\n",
       "      <td>2021-04-15</td>\n",
       "      <td>18.0</td>\n",
       "      <td>4.68</td>\n",
       "      <td>0.36</td>\n",
       "    </tr>\n",
       "    <tr>\n",
       "      <th>4</th>\n",
       "      <td>2021-04-16</td>\n",
       "      <td>4.0</td>\n",
       "      <td>1.04</td>\n",
       "      <td>0.08</td>\n",
       "    </tr>\n",
       "    <tr>\n",
       "      <th>...</th>\n",
       "      <td>...</td>\n",
       "      <td>...</td>\n",
       "      <td>...</td>\n",
       "      <td>...</td>\n",
       "    </tr>\n",
       "    <tr>\n",
       "      <th>121</th>\n",
       "      <td>2021-08-11</td>\n",
       "      <td>66.0</td>\n",
       "      <td>0.66</td>\n",
       "      <td>62.70</td>\n",
       "    </tr>\n",
       "    <tr>\n",
       "      <th>122</th>\n",
       "      <td>2021-08-12</td>\n",
       "      <td>39.0</td>\n",
       "      <td>0.39</td>\n",
       "      <td>37.05</td>\n",
       "    </tr>\n",
       "    <tr>\n",
       "      <th>123</th>\n",
       "      <td>2021-08-13</td>\n",
       "      <td>57.0</td>\n",
       "      <td>0.57</td>\n",
       "      <td>54.15</td>\n",
       "    </tr>\n",
       "    <tr>\n",
       "      <th>124</th>\n",
       "      <td>2021-08-14</td>\n",
       "      <td>82.0</td>\n",
       "      <td>0.82</td>\n",
       "      <td>77.90</td>\n",
       "    </tr>\n",
       "    <tr>\n",
       "      <th>125</th>\n",
       "      <td>2021-08-15</td>\n",
       "      <td>57.0</td>\n",
       "      <td>0.57</td>\n",
       "      <td>54.15</td>\n",
       "    </tr>\n",
       "  </tbody>\n",
       "</table>\n",
       "<p>126 rows × 4 columns</p>\n",
       "</div>"
      ],
      "text/plain": [
       "         stdDay  incDec  alpha_variants  delta_variants\n",
       "0    2021-04-12    16.0            4.16            0.32\n",
       "1    2021-04-13     9.0            2.34            0.18\n",
       "2    2021-04-14    11.0            2.86            0.22\n",
       "3    2021-04-15    18.0            4.68            0.36\n",
       "4    2021-04-16     4.0            1.04            0.08\n",
       "..          ...     ...             ...             ...\n",
       "121  2021-08-11    66.0            0.66           62.70\n",
       "122  2021-08-12    39.0            0.39           37.05\n",
       "123  2021-08-13    57.0            0.57           54.15\n",
       "124  2021-08-14    82.0            0.82           77.90\n",
       "125  2021-08-15    57.0            0.57           54.15\n",
       "\n",
       "[126 rows x 4 columns]"
      ]
     },
     "execution_count": 2,
     "metadata": {},
     "output_type": "execute_result"
    }
   ],
   "source": [
    "path = 'Data/Variants/alpha_delta/*.csv'\n",
    "dic_files = Load_files.load_files(path, -18, -16)\n",
    "data = dic_files['대구']\n",
    "data"
   ]
  },
  {
   "cell_type": "code",
   "execution_count": 3,
   "id": "e30ef389",
   "metadata": {
    "ExecuteTime": {
     "end_time": "2023-06-06T07:39:50.275481Z",
     "start_time": "2023-06-06T07:39:50.261258Z"
    }
   },
   "outputs": [
    {
     "name": "stdout",
     "output_type": "stream",
     "text": [
      "144\n"
     ]
    }
   ],
   "source": [
    "learning_rates_list = [1e-3, 1e-4, 1e-5]\n",
    "patiences_list = [20, 50]\n",
    "num_layers_list = [1, 2, 4, 8]\n",
    "batch_sizes_list = [32, 64]\n",
    "hidden_sizes_list = [8, 16, 32]\n",
    "dropout_list = [0.25]\n",
    "\n",
    "hyperparameter_dict = {}\n",
    "i = 0\n",
    "\n",
    "for lr in learning_rates_list:\n",
    "    for patience in patiences_list:\n",
    "        for num_layers in num_layers_list:\n",
    "            for batch_sizes in batch_sizes_list:\n",
    "                for hidden_size in hidden_sizes_list:    \n",
    "                    for dropout in dropout_list:\n",
    "                        hyperparameter_dict[i] = [lr, patience, num_layers, batch_sizes, hidden_size, dropout]\n",
    "                        i += 1\n",
    "                        \n",
    "print(i)"
   ]
  },
  {
   "cell_type": "code",
   "execution_count": 4,
   "id": "4434e081",
   "metadata": {
    "ExecuteTime": {
     "end_time": "2023-06-06T07:55:05.901380Z",
     "start_time": "2023-06-06T07:39:50.278475Z"
    },
    "scrolled": true
   },
   "outputs": [
    {
     "data": {
      "application/vnd.jupyter.widget-view+json": {
       "model_id": "3e0212110f7145c59b77eaa044668397",
       "version_major": 2,
       "version_minor": 0
      },
      "text/plain": [
       "대구_RNN:   0%|          | 0/144 [00:00<?, ?it/s]"
      ]
     },
     "metadata": {},
     "output_type": "display_data"
    },
    {
     "name": "stdout",
     "output_type": "stream",
     "text": [
      "-------------------------------------------------------------------------------------\n",
      "lr: 0.001  patience: 20  num_layers: 1  batch_size: 32  hidden_size: 8  dropout: 0.25\n"
     ]
    },
    {
     "data": {
      "application/vnd.jupyter.widget-view+json": {
       "model_id": "9c3664d12e484a009932a85ed094e1f7",
       "version_major": 2,
       "version_minor": 0
      },
      "text/plain": [
       "  0%|          | 0/10000 [00:00<?, ?it/s]"
      ]
     },
     "metadata": {},
     "output_type": "display_data"
    },
    {
     "name": "stdout",
     "output_type": "stream",
     "text": [
      "\n",
      " Early Stopping / epoch: 137 loss: 0.0003\n",
      "-------------------------------------------------------------------------------------\n",
      "lr: 0.001  patience: 20  num_layers: 1  batch_size: 32  hidden_size: 16  dropout: 0.25\n"
     ]
    },
    {
     "data": {
      "application/vnd.jupyter.widget-view+json": {
       "model_id": "f5988b76796c4d3780383276fdbc234c",
       "version_major": 2,
       "version_minor": 0
      },
      "text/plain": [
       "  0%|          | 0/10000 [00:00<?, ?it/s]"
      ]
     },
     "metadata": {},
     "output_type": "display_data"
    },
    {
     "name": "stdout",
     "output_type": "stream",
     "text": [
      "\n",
      " Early Stopping / epoch: 145 loss: 0.0002\n",
      "-------------------------------------------------------------------------------------\n",
      "lr: 0.001  patience: 20  num_layers: 1  batch_size: 32  hidden_size: 32  dropout: 0.25\n"
     ]
    },
    {
     "data": {
      "application/vnd.jupyter.widget-view+json": {
       "model_id": "af5bc446aa8c4cc7b2ebc83aec3268ed",
       "version_major": 2,
       "version_minor": 0
      },
      "text/plain": [
       "  0%|          | 0/10000 [00:00<?, ?it/s]"
      ]
     },
     "metadata": {},
     "output_type": "display_data"
    },
    {
     "name": "stdout",
     "output_type": "stream",
     "text": [
      "\n",
      " Early Stopping / epoch: 186 loss: 0.0002\n",
      "-------------------------------------------------------------------------------------\n",
      "lr: 0.001  patience: 20  num_layers: 1  batch_size: 64  hidden_size: 8  dropout: 0.25\n"
     ]
    },
    {
     "data": {
      "application/vnd.jupyter.widget-view+json": {
       "model_id": "7741ffc2f1054a36b48d639f75cf8367",
       "version_major": 2,
       "version_minor": 0
      },
      "text/plain": [
       "  0%|          | 0/10000 [00:00<?, ?it/s]"
      ]
     },
     "metadata": {},
     "output_type": "display_data"
    },
    {
     "name": "stdout",
     "output_type": "stream",
     "text": [
      "\n",
      " Early Stopping / epoch: 364 loss: 0.0000\n",
      "-------------------------------------------------------------------------------------\n",
      "lr: 0.001  patience: 20  num_layers: 1  batch_size: 64  hidden_size: 16  dropout: 0.25\n"
     ]
    },
    {
     "data": {
      "application/vnd.jupyter.widget-view+json": {
       "model_id": "65f7d643f25f42f1b1d7281d28fea512",
       "version_major": 2,
       "version_minor": 0
      },
      "text/plain": [
       "  0%|          | 0/10000 [00:00<?, ?it/s]"
      ]
     },
     "metadata": {},
     "output_type": "display_data"
    },
    {
     "name": "stdout",
     "output_type": "stream",
     "text": [
      "\n",
      " Early Stopping / epoch: 576 loss: 0.0000\n",
      "-------------------------------------------------------------------------------------\n",
      "lr: 0.001  patience: 20  num_layers: 1  batch_size: 64  hidden_size: 32  dropout: 0.25\n"
     ]
    },
    {
     "data": {
      "application/vnd.jupyter.widget-view+json": {
       "model_id": "bf763730dec5466899e95ba878cfcea3",
       "version_major": 2,
       "version_minor": 0
      },
      "text/plain": [
       "  0%|          | 0/10000 [00:00<?, ?it/s]"
      ]
     },
     "metadata": {},
     "output_type": "display_data"
    },
    {
     "name": "stdout",
     "output_type": "stream",
     "text": [
      "\n",
      " Early Stopping / epoch: 506 loss: 0.0000\n",
      "-------------------------------------------------------------------------------------\n",
      "lr: 0.001  patience: 20  num_layers: 2  batch_size: 32  hidden_size: 8  dropout: 0.25\n"
     ]
    },
    {
     "data": {
      "application/vnd.jupyter.widget-view+json": {
       "model_id": "ee21e10c171844478631c11118d83d4c",
       "version_major": 2,
       "version_minor": 0
      },
      "text/plain": [
       "  0%|          | 0/10000 [00:00<?, ?it/s]"
      ]
     },
     "metadata": {},
     "output_type": "display_data"
    },
    {
     "name": "stdout",
     "output_type": "stream",
     "text": [
      "\n",
      " Early Stopping / epoch: 137 loss: 0.0020\n",
      "-------------------------------------------------------------------------------------\n",
      "lr: 0.001  patience: 20  num_layers: 2  batch_size: 32  hidden_size: 16  dropout: 0.25\n"
     ]
    },
    {
     "data": {
      "application/vnd.jupyter.widget-view+json": {
       "model_id": "e3482066aabc4c428dc8458bc5063e1c",
       "version_major": 2,
       "version_minor": 0
      },
      "text/plain": [
       "  0%|          | 0/10000 [00:00<?, ?it/s]"
      ]
     },
     "metadata": {},
     "output_type": "display_data"
    },
    {
     "name": "stdout",
     "output_type": "stream",
     "text": [
      "\n",
      " Early Stopping / epoch: 83 loss: 0.0013\n",
      "-------------------------------------------------------------------------------------\n",
      "lr: 0.001  patience: 20  num_layers: 2  batch_size: 32  hidden_size: 32  dropout: 0.25\n"
     ]
    },
    {
     "data": {
      "application/vnd.jupyter.widget-view+json": {
       "model_id": "eaf99e76847b4130aecacbf059e8287c",
       "version_major": 2,
       "version_minor": 0
      },
      "text/plain": [
       "  0%|          | 0/10000 [00:00<?, ?it/s]"
      ]
     },
     "metadata": {},
     "output_type": "display_data"
    },
    {
     "name": "stdout",
     "output_type": "stream",
     "text": [
      "\n",
      " Early Stopping / epoch: 121 loss: 0.0007\n",
      "-------------------------------------------------------------------------------------\n",
      "lr: 0.001  patience: 20  num_layers: 2  batch_size: 64  hidden_size: 8  dropout: 0.25\n"
     ]
    },
    {
     "data": {
      "application/vnd.jupyter.widget-view+json": {
       "model_id": "90bf0766328f46febee8a84e7a9ecee8",
       "version_major": 2,
       "version_minor": 0
      },
      "text/plain": [
       "  0%|          | 0/10000 [00:00<?, ?it/s]"
      ]
     },
     "metadata": {},
     "output_type": "display_data"
    },
    {
     "name": "stdout",
     "output_type": "stream",
     "text": [
      "\n",
      " Early Stopping / epoch: 154 loss: 0.0008\n",
      "-------------------------------------------------------------------------------------\n",
      "lr: 0.001  patience: 20  num_layers: 2  batch_size: 64  hidden_size: 16  dropout: 0.25\n"
     ]
    },
    {
     "data": {
      "application/vnd.jupyter.widget-view+json": {
       "model_id": "2907ef6be33946238cdf45ae0395b112",
       "version_major": 2,
       "version_minor": 0
      },
      "text/plain": [
       "  0%|          | 0/10000 [00:00<?, ?it/s]"
      ]
     },
     "metadata": {},
     "output_type": "display_data"
    },
    {
     "name": "stdout",
     "output_type": "stream",
     "text": [
      "\n",
      " Early Stopping / epoch: 154 loss: 0.0008\n",
      "-------------------------------------------------------------------------------------\n",
      "lr: 0.001  patience: 20  num_layers: 2  batch_size: 64  hidden_size: 32  dropout: 0.25\n"
     ]
    },
    {
     "data": {
      "application/vnd.jupyter.widget-view+json": {
       "model_id": "419780b6a2794fef8ab59210e07a6e99",
       "version_major": 2,
       "version_minor": 0
      },
      "text/plain": [
       "  0%|          | 0/10000 [00:00<?, ?it/s]"
      ]
     },
     "metadata": {},
     "output_type": "display_data"
    },
    {
     "name": "stdout",
     "output_type": "stream",
     "text": [
      "\n",
      " Early Stopping / epoch: 156 loss: 0.0007\n",
      "-------------------------------------------------------------------------------------\n",
      "lr: 0.001  patience: 20  num_layers: 4  batch_size: 32  hidden_size: 8  dropout: 0.25\n"
     ]
    },
    {
     "data": {
      "application/vnd.jupyter.widget-view+json": {
       "model_id": "d3b1b19b32b24f05bf0262581193b28b",
       "version_major": 2,
       "version_minor": 0
      },
      "text/plain": [
       "  0%|          | 0/10000 [00:00<?, ?it/s]"
      ]
     },
     "metadata": {},
     "output_type": "display_data"
    },
    {
     "name": "stdout",
     "output_type": "stream",
     "text": [
      "\n",
      " Early Stopping / epoch: 172 loss: 0.0025\n",
      "-------------------------------------------------------------------------------------\n",
      "lr: 0.001  patience: 20  num_layers: 4  batch_size: 32  hidden_size: 16  dropout: 0.25\n"
     ]
    },
    {
     "data": {
      "application/vnd.jupyter.widget-view+json": {
       "model_id": "265eccb1e94f4888abb45ba99ae5a4cf",
       "version_major": 2,
       "version_minor": 0
      },
      "text/plain": [
       "  0%|          | 0/10000 [00:00<?, ?it/s]"
      ]
     },
     "metadata": {},
     "output_type": "display_data"
    },
    {
     "name": "stdout",
     "output_type": "stream",
     "text": [
      "\n",
      " Early Stopping / epoch: 96 loss: 0.0025\n",
      "-------------------------------------------------------------------------------------\n",
      "lr: 0.001  patience: 20  num_layers: 4  batch_size: 32  hidden_size: 32  dropout: 0.25\n"
     ]
    },
    {
     "data": {
      "application/vnd.jupyter.widget-view+json": {
       "model_id": "8b00ca179ce64c5b8e787fcdfde8312d",
       "version_major": 2,
       "version_minor": 0
      },
      "text/plain": [
       "  0%|          | 0/10000 [00:00<?, ?it/s]"
      ]
     },
     "metadata": {},
     "output_type": "display_data"
    },
    {
     "name": "stdout",
     "output_type": "stream",
     "text": [
      "\n",
      " Early Stopping / epoch: 127 loss: 0.0011\n",
      "-------------------------------------------------------------------------------------\n",
      "lr: 0.001  patience: 20  num_layers: 4  batch_size: 64  hidden_size: 8  dropout: 0.25\n"
     ]
    },
    {
     "data": {
      "application/vnd.jupyter.widget-view+json": {
       "model_id": "b941322487bd43138d609e37142d6ba7",
       "version_major": 2,
       "version_minor": 0
      },
      "text/plain": [
       "  0%|          | 0/10000 [00:00<?, ?it/s]"
      ]
     },
     "metadata": {},
     "output_type": "display_data"
    },
    {
     "name": "stdout",
     "output_type": "stream",
     "text": [
      "\n",
      " Early Stopping / epoch: 58 loss: 0.0113\n",
      "-------------------------------------------------------------------------------------\n",
      "lr: 0.001  patience: 20  num_layers: 4  batch_size: 64  hidden_size: 16  dropout: 0.25\n"
     ]
    },
    {
     "data": {
      "application/vnd.jupyter.widget-view+json": {
       "model_id": "74fc797c12ed419e9aa5b16645849502",
       "version_major": 2,
       "version_minor": 0
      },
      "text/plain": [
       "  0%|          | 0/10000 [00:00<?, ?it/s]"
      ]
     },
     "metadata": {},
     "output_type": "display_data"
    },
    {
     "name": "stdout",
     "output_type": "stream",
     "text": [
      "\n",
      " Early Stopping / epoch: 156 loss: 0.0026\n",
      "-------------------------------------------------------------------------------------\n",
      "lr: 0.001  patience: 20  num_layers: 4  batch_size: 64  hidden_size: 32  dropout: 0.25\n"
     ]
    },
    {
     "data": {
      "application/vnd.jupyter.widget-view+json": {
       "model_id": "9da0a15e29614d7b88e5734b1c2ccbe3",
       "version_major": 2,
       "version_minor": 0
      },
      "text/plain": [
       "  0%|          | 0/10000 [00:00<?, ?it/s]"
      ]
     },
     "metadata": {},
     "output_type": "display_data"
    },
    {
     "name": "stdout",
     "output_type": "stream",
     "text": [
      "\n",
      " Early Stopping / epoch: 170 loss: 0.0015\n",
      "-------------------------------------------------------------------------------------\n",
      "lr: 0.001  patience: 20  num_layers: 8  batch_size: 32  hidden_size: 8  dropout: 0.25\n"
     ]
    },
    {
     "data": {
      "application/vnd.jupyter.widget-view+json": {
       "model_id": "01548f7caa4e4d9da4dad0bdf0672d5f",
       "version_major": 2,
       "version_minor": 0
      },
      "text/plain": [
       "  0%|          | 0/10000 [00:00<?, ?it/s]"
      ]
     },
     "metadata": {},
     "output_type": "display_data"
    },
    {
     "name": "stdout",
     "output_type": "stream",
     "text": [
      "\n",
      " Early Stopping / epoch: 29 loss: 0.0528\n",
      "-------------------------------------------------------------------------------------\n",
      "lr: 0.001  patience: 20  num_layers: 8  batch_size: 32  hidden_size: 16  dropout: 0.25\n"
     ]
    },
    {
     "data": {
      "application/vnd.jupyter.widget-view+json": {
       "model_id": "dd95d4241a9740b3bec96b4272e8b622",
       "version_major": 2,
       "version_minor": 0
      },
      "text/plain": [
       "  0%|          | 0/10000 [00:00<?, ?it/s]"
      ]
     },
     "metadata": {},
     "output_type": "display_data"
    },
    {
     "name": "stdout",
     "output_type": "stream",
     "text": [
      "\n",
      " Early Stopping / epoch: 22 loss: 0.0525\n",
      "-------------------------------------------------------------------------------------\n",
      "lr: 0.001  patience: 20  num_layers: 8  batch_size: 32  hidden_size: 32  dropout: 0.25\n"
     ]
    },
    {
     "data": {
      "application/vnd.jupyter.widget-view+json": {
       "model_id": "fa2ff19784b64440ab2e5234ce5b4c45",
       "version_major": 2,
       "version_minor": 0
      },
      "text/plain": [
       "  0%|          | 0/10000 [00:00<?, ?it/s]"
      ]
     },
     "metadata": {},
     "output_type": "display_data"
    },
    {
     "name": "stdout",
     "output_type": "stream",
     "text": [
      "\n",
      " Early Stopping / epoch: 132 loss: 0.0046\n",
      "-------------------------------------------------------------------------------------\n",
      "lr: 0.001  patience: 20  num_layers: 8  batch_size: 64  hidden_size: 8  dropout: 0.25\n"
     ]
    },
    {
     "data": {
      "application/vnd.jupyter.widget-view+json": {
       "model_id": "fc3b6176eb11477cbc23c88d40fe9945",
       "version_major": 2,
       "version_minor": 0
      },
      "text/plain": [
       "  0%|          | 0/10000 [00:00<?, ?it/s]"
      ]
     },
     "metadata": {},
     "output_type": "display_data"
    },
    {
     "name": "stdout",
     "output_type": "stream",
     "text": [
      "\n",
      " Early Stopping / epoch: 26 loss: 0.0510\n",
      "-------------------------------------------------------------------------------------\n",
      "lr: 0.001  patience: 20  num_layers: 8  batch_size: 64  hidden_size: 16  dropout: 0.25\n"
     ]
    },
    {
     "data": {
      "application/vnd.jupyter.widget-view+json": {
       "model_id": "28f124a3b9d0448dbbdcbe18dc32998e",
       "version_major": 2,
       "version_minor": 0
      },
      "text/plain": [
       "  0%|          | 0/10000 [00:00<?, ?it/s]"
      ]
     },
     "metadata": {},
     "output_type": "display_data"
    },
    {
     "name": "stdout",
     "output_type": "stream",
     "text": [
      "\n",
      " Early Stopping / epoch: 172 loss: 0.0037\n",
      "-------------------------------------------------------------------------------------\n",
      "lr: 0.001  patience: 20  num_layers: 8  batch_size: 64  hidden_size: 32  dropout: 0.25\n"
     ]
    },
    {
     "data": {
      "application/vnd.jupyter.widget-view+json": {
       "model_id": "748191a257fa4abdb0ff8d4d4c5aaedf",
       "version_major": 2,
       "version_minor": 0
      },
      "text/plain": [
       "  0%|          | 0/10000 [00:00<?, ?it/s]"
      ]
     },
     "metadata": {},
     "output_type": "display_data"
    },
    {
     "name": "stdout",
     "output_type": "stream",
     "text": [
      "\n",
      " Early Stopping / epoch: 94 loss: 0.0076\n",
      "-------------------------------------------------------------------------------------\n",
      "lr: 0.001  patience: 50  num_layers: 1  batch_size: 32  hidden_size: 8  dropout: 0.25\n"
     ]
    },
    {
     "data": {
      "application/vnd.jupyter.widget-view+json": {
       "model_id": "6615a77a935c47b683f67d4888b323ba",
       "version_major": 2,
       "version_minor": 0
      },
      "text/plain": [
       "  0%|          | 0/10000 [00:00<?, ?it/s]"
      ]
     },
     "metadata": {},
     "output_type": "display_data"
    },
    {
     "name": "stdout",
     "output_type": "stream",
     "text": [
      "\n",
      " Early Stopping / epoch: 571 loss: 0.0000\n",
      "-------------------------------------------------------------------------------------\n",
      "lr: 0.001  patience: 50  num_layers: 1  batch_size: 32  hidden_size: 16  dropout: 0.25\n"
     ]
    },
    {
     "data": {
      "application/vnd.jupyter.widget-view+json": {
       "model_id": "968b3d8be26344c487a4e7b06eff08c1",
       "version_major": 2,
       "version_minor": 0
      },
      "text/plain": [
       "  0%|          | 0/10000 [00:00<?, ?it/s]"
      ]
     },
     "metadata": {},
     "output_type": "display_data"
    },
    {
     "name": "stdout",
     "output_type": "stream",
     "text": [
      "\n",
      " Early Stopping / epoch: 312 loss: 0.0001\n",
      "-------------------------------------------------------------------------------------\n",
      "lr: 0.001  patience: 50  num_layers: 1  batch_size: 32  hidden_size: 32  dropout: 0.25\n"
     ]
    },
    {
     "data": {
      "application/vnd.jupyter.widget-view+json": {
       "model_id": "601139d1f62241aeacd5ebd1a6f27a58",
       "version_major": 2,
       "version_minor": 0
      },
      "text/plain": [
       "  0%|          | 0/10000 [00:00<?, ?it/s]"
      ]
     },
     "metadata": {},
     "output_type": "display_data"
    },
    {
     "name": "stdout",
     "output_type": "stream",
     "text": [
      "\n",
      " Early Stopping / epoch: 545 loss: 0.0000\n",
      "-------------------------------------------------------------------------------------\n",
      "lr: 0.001  patience: 50  num_layers: 1  batch_size: 64  hidden_size: 8  dropout: 0.25\n"
     ]
    },
    {
     "data": {
      "application/vnd.jupyter.widget-view+json": {
       "model_id": "538df8853e374dc68e4608fd4d18c0b0",
       "version_major": 2,
       "version_minor": 0
      },
      "text/plain": [
       "  0%|          | 0/10000 [00:00<?, ?it/s]"
      ]
     },
     "metadata": {},
     "output_type": "display_data"
    },
    {
     "name": "stdout",
     "output_type": "stream",
     "text": [
      "\n",
      " Early Stopping / epoch: 849 loss: 0.0000\n",
      "-------------------------------------------------------------------------------------\n",
      "lr: 0.001  patience: 50  num_layers: 1  batch_size: 64  hidden_size: 16  dropout: 0.25\n"
     ]
    },
    {
     "data": {
      "application/vnd.jupyter.widget-view+json": {
       "model_id": "d5c2e17480ba43b19d8b18dc5c83072e",
       "version_major": 2,
       "version_minor": 0
      },
      "text/plain": [
       "  0%|          | 0/10000 [00:00<?, ?it/s]"
      ]
     },
     "metadata": {},
     "output_type": "display_data"
    },
    {
     "name": "stdout",
     "output_type": "stream",
     "text": [
      "\n",
      " Early Stopping / epoch: 602 loss: 0.0000\n",
      "-------------------------------------------------------------------------------------\n",
      "lr: 0.001  patience: 50  num_layers: 1  batch_size: 64  hidden_size: 32  dropout: 0.25\n"
     ]
    },
    {
     "data": {
      "application/vnd.jupyter.widget-view+json": {
       "model_id": "03b74d1bc21749c48dacf932a43995fb",
       "version_major": 2,
       "version_minor": 0
      },
      "text/plain": [
       "  0%|          | 0/10000 [00:00<?, ?it/s]"
      ]
     },
     "metadata": {},
     "output_type": "display_data"
    },
    {
     "name": "stdout",
     "output_type": "stream",
     "text": [
      "\n",
      " Early Stopping / epoch: 643 loss: 0.0000\n",
      "-------------------------------------------------------------------------------------\n",
      "lr: 0.001  patience: 50  num_layers: 2  batch_size: 32  hidden_size: 8  dropout: 0.25\n"
     ]
    },
    {
     "data": {
      "application/vnd.jupyter.widget-view+json": {
       "model_id": "fbd47aa699624d738fd27782f457ec05",
       "version_major": 2,
       "version_minor": 0
      },
      "text/plain": [
       "  0%|          | 0/10000 [00:00<?, ?it/s]"
      ]
     },
     "metadata": {},
     "output_type": "display_data"
    },
    {
     "name": "stdout",
     "output_type": "stream",
     "text": [
      "\n",
      " Early Stopping / epoch: 554 loss: 0.0004\n",
      "-------------------------------------------------------------------------------------\n",
      "lr: 0.001  patience: 50  num_layers: 2  batch_size: 32  hidden_size: 16  dropout: 0.25\n"
     ]
    },
    {
     "data": {
      "application/vnd.jupyter.widget-view+json": {
       "model_id": "f5ccd4a67baa48deaf1db51b4b5091f4",
       "version_major": 2,
       "version_minor": 0
      },
      "text/plain": [
       "  0%|          | 0/10000 [00:00<?, ?it/s]"
      ]
     },
     "metadata": {},
     "output_type": "display_data"
    },
    {
     "name": "stdout",
     "output_type": "stream",
     "text": [
      "\n",
      " Early Stopping / epoch: 190 loss: 0.0005\n",
      "-------------------------------------------------------------------------------------\n",
      "lr: 0.001  patience: 50  num_layers: 2  batch_size: 32  hidden_size: 32  dropout: 0.25\n"
     ]
    },
    {
     "data": {
      "application/vnd.jupyter.widget-view+json": {
       "model_id": "beb4d74a330f4793bf63c108c88ea7a1",
       "version_major": 2,
       "version_minor": 0
      },
      "text/plain": [
       "  0%|          | 0/10000 [00:00<?, ?it/s]"
      ]
     },
     "metadata": {},
     "output_type": "display_data"
    },
    {
     "name": "stdout",
     "output_type": "stream",
     "text": [
      "\n",
      " Early Stopping / epoch: 315 loss: 0.0002\n",
      "-------------------------------------------------------------------------------------\n",
      "lr: 0.001  patience: 50  num_layers: 2  batch_size: 64  hidden_size: 8  dropout: 0.25\n"
     ]
    },
    {
     "data": {
      "application/vnd.jupyter.widget-view+json": {
       "model_id": "dcd9e604b4304f91a77bd163bf9cf3f4",
       "version_major": 2,
       "version_minor": 0
      },
      "text/plain": [
       "  0%|          | 0/10000 [00:00<?, ?it/s]"
      ]
     },
     "metadata": {},
     "output_type": "display_data"
    },
    {
     "name": "stdout",
     "output_type": "stream",
     "text": [
      "\n",
      " Early Stopping / epoch: 397 loss: 0.0009\n",
      "-------------------------------------------------------------------------------------\n",
      "lr: 0.001  patience: 50  num_layers: 2  batch_size: 64  hidden_size: 16  dropout: 0.25\n"
     ]
    },
    {
     "data": {
      "application/vnd.jupyter.widget-view+json": {
       "model_id": "2a25f61a264d4e88944357e8f7f21bcc",
       "version_major": 2,
       "version_minor": 0
      },
      "text/plain": [
       "  0%|          | 0/10000 [00:00<?, ?it/s]"
      ]
     },
     "metadata": {},
     "output_type": "display_data"
    },
    {
     "name": "stdout",
     "output_type": "stream",
     "text": [
      "\n",
      " Early Stopping / epoch: 275 loss: 0.0005\n",
      "-------------------------------------------------------------------------------------\n",
      "lr: 0.001  patience: 50  num_layers: 2  batch_size: 64  hidden_size: 32  dropout: 0.25\n"
     ]
    },
    {
     "data": {
      "application/vnd.jupyter.widget-view+json": {
       "model_id": "5511e6134d664677929ad60ce4beb91d",
       "version_major": 2,
       "version_minor": 0
      },
      "text/plain": [
       "  0%|          | 0/10000 [00:00<?, ?it/s]"
      ]
     },
     "metadata": {},
     "output_type": "display_data"
    },
    {
     "name": "stdout",
     "output_type": "stream",
     "text": [
      "\n",
      " Early Stopping / epoch: 380 loss: 0.0003\n",
      "-------------------------------------------------------------------------------------\n",
      "lr: 0.001  patience: 50  num_layers: 4  batch_size: 32  hidden_size: 8  dropout: 0.25\n"
     ]
    },
    {
     "data": {
      "application/vnd.jupyter.widget-view+json": {
       "model_id": "e0d19db7a78f48d5b54709e9ba5b59a9",
       "version_major": 2,
       "version_minor": 0
      },
      "text/plain": [
       "  0%|          | 0/10000 [00:00<?, ?it/s]"
      ]
     },
     "metadata": {},
     "output_type": "display_data"
    },
    {
     "name": "stdout",
     "output_type": "stream",
     "text": [
      "\n",
      " Early Stopping / epoch: 287 loss: 0.0022\n",
      "-------------------------------------------------------------------------------------\n",
      "lr: 0.001  patience: 50  num_layers: 4  batch_size: 32  hidden_size: 16  dropout: 0.25\n"
     ]
    },
    {
     "data": {
      "application/vnd.jupyter.widget-view+json": {
       "model_id": "ee249f5184e442e09979efa3baefb090",
       "version_major": 2,
       "version_minor": 0
      },
      "text/plain": [
       "  0%|          | 0/10000 [00:00<?, ?it/s]"
      ]
     },
     "metadata": {},
     "output_type": "display_data"
    },
    {
     "name": "stdout",
     "output_type": "stream",
     "text": [
      "\n",
      " Early Stopping / epoch: 252 loss: 0.0014\n",
      "-------------------------------------------------------------------------------------\n",
      "lr: 0.001  patience: 50  num_layers: 4  batch_size: 32  hidden_size: 32  dropout: 0.25\n"
     ]
    },
    {
     "data": {
      "application/vnd.jupyter.widget-view+json": {
       "model_id": "e47d04caaeb64c88aa689ea731f26c71",
       "version_major": 2,
       "version_minor": 0
      },
      "text/plain": [
       "  0%|          | 0/10000 [00:00<?, ?it/s]"
      ]
     },
     "metadata": {},
     "output_type": "display_data"
    },
    {
     "name": "stdout",
     "output_type": "stream",
     "text": [
      "\n",
      " Early Stopping / epoch: 389 loss: 0.0002\n",
      "-------------------------------------------------------------------------------------\n",
      "lr: 0.001  patience: 50  num_layers: 4  batch_size: 64  hidden_size: 8  dropout: 0.25\n"
     ]
    },
    {
     "data": {
      "application/vnd.jupyter.widget-view+json": {
       "model_id": "058ba3bdad5d4412bff66852fc49cbf7",
       "version_major": 2,
       "version_minor": 0
      },
      "text/plain": [
       "  0%|          | 0/10000 [00:00<?, ?it/s]"
      ]
     },
     "metadata": {},
     "output_type": "display_data"
    },
    {
     "name": "stdout",
     "output_type": "stream",
     "text": [
      "\n",
      " Early Stopping / epoch: 214 loss: 0.0028\n",
      "-------------------------------------------------------------------------------------\n",
      "lr: 0.001  patience: 50  num_layers: 4  batch_size: 64  hidden_size: 16  dropout: 0.25\n"
     ]
    },
    {
     "data": {
      "application/vnd.jupyter.widget-view+json": {
       "model_id": "98c9a68aa0274cd4aad08c34dae10611",
       "version_major": 2,
       "version_minor": 0
      },
      "text/plain": [
       "  0%|          | 0/10000 [00:00<?, ?it/s]"
      ]
     },
     "metadata": {},
     "output_type": "display_data"
    },
    {
     "name": "stdout",
     "output_type": "stream",
     "text": [
      "\n",
      " Early Stopping / epoch: 454 loss: 0.0006\n",
      "-------------------------------------------------------------------------------------\n",
      "lr: 0.001  patience: 50  num_layers: 4  batch_size: 64  hidden_size: 32  dropout: 0.25\n"
     ]
    },
    {
     "data": {
      "application/vnd.jupyter.widget-view+json": {
       "model_id": "26088e2e66ca4731b059334e75b0468c",
       "version_major": 2,
       "version_minor": 0
      },
      "text/plain": [
       "  0%|          | 0/10000 [00:00<?, ?it/s]"
      ]
     },
     "metadata": {},
     "output_type": "display_data"
    },
    {
     "name": "stdout",
     "output_type": "stream",
     "text": [
      "\n",
      " Early Stopping / epoch: 519 loss: 0.0002\n",
      "-------------------------------------------------------------------------------------\n",
      "lr: 0.001  patience: 50  num_layers: 8  batch_size: 32  hidden_size: 8  dropout: 0.25\n"
     ]
    },
    {
     "data": {
      "application/vnd.jupyter.widget-view+json": {
       "model_id": "683a1f522d9c4488a5b6aa1d092933ab",
       "version_major": 2,
       "version_minor": 0
      },
      "text/plain": [
       "  0%|          | 0/10000 [00:00<?, ?it/s]"
      ]
     },
     "metadata": {},
     "output_type": "display_data"
    },
    {
     "name": "stdout",
     "output_type": "stream",
     "text": [
      "\n",
      " Early Stopping / epoch: 429 loss: 0.0024\n",
      "-------------------------------------------------------------------------------------\n",
      "lr: 0.001  patience: 50  num_layers: 8  batch_size: 32  hidden_size: 16  dropout: 0.25\n"
     ]
    },
    {
     "data": {
      "application/vnd.jupyter.widget-view+json": {
       "model_id": "7268114fab6c46e780ec7f55f7dfb230",
       "version_major": 2,
       "version_minor": 0
      },
      "text/plain": [
       "  0%|          | 0/10000 [00:00<?, ?it/s]"
      ]
     },
     "metadata": {},
     "output_type": "display_data"
    },
    {
     "name": "stdout",
     "output_type": "stream",
     "text": [
      "\n",
      " Early Stopping / epoch: 357 loss: 0.0021\n",
      "-------------------------------------------------------------------------------------\n",
      "lr: 0.001  patience: 50  num_layers: 8  batch_size: 32  hidden_size: 32  dropout: 0.25\n"
     ]
    },
    {
     "data": {
      "application/vnd.jupyter.widget-view+json": {
       "model_id": "ecb5012f7bd141bf9a50a35c9f9f4e29",
       "version_major": 2,
       "version_minor": 0
      },
      "text/plain": [
       "  0%|          | 0/10000 [00:00<?, ?it/s]"
      ]
     },
     "metadata": {},
     "output_type": "display_data"
    },
    {
     "name": "stdout",
     "output_type": "stream",
     "text": [
      "\n",
      " Early Stopping / epoch: 219 loss: 0.0028\n",
      "-------------------------------------------------------------------------------------\n",
      "lr: 0.001  patience: 50  num_layers: 8  batch_size: 64  hidden_size: 8  dropout: 0.25\n"
     ]
    },
    {
     "data": {
      "application/vnd.jupyter.widget-view+json": {
       "model_id": "cb11ed259c0f4338954bbf7d5b019a15",
       "version_major": 2,
       "version_minor": 0
      },
      "text/plain": [
       "  0%|          | 0/10000 [00:00<?, ?it/s]"
      ]
     },
     "metadata": {},
     "output_type": "display_data"
    },
    {
     "name": "stdout",
     "output_type": "stream",
     "text": [
      "\n",
      " Early Stopping / epoch: 393 loss: 0.0040\n",
      "-------------------------------------------------------------------------------------\n",
      "lr: 0.001  patience: 50  num_layers: 8  batch_size: 64  hidden_size: 16  dropout: 0.25\n"
     ]
    },
    {
     "data": {
      "application/vnd.jupyter.widget-view+json": {
       "model_id": "7bce28e597ef4717b0baf1cc4438b406",
       "version_major": 2,
       "version_minor": 0
      },
      "text/plain": [
       "  0%|          | 0/10000 [00:00<?, ?it/s]"
      ]
     },
     "metadata": {},
     "output_type": "display_data"
    },
    {
     "name": "stdout",
     "output_type": "stream",
     "text": [
      "\n",
      " Early Stopping / epoch: 354 loss: 0.0016\n",
      "-------------------------------------------------------------------------------------\n",
      "lr: 0.001  patience: 50  num_layers: 8  batch_size: 64  hidden_size: 32  dropout: 0.25\n"
     ]
    },
    {
     "data": {
      "application/vnd.jupyter.widget-view+json": {
       "model_id": "c770c899619742dd846444ae28033ea0",
       "version_major": 2,
       "version_minor": 0
      },
      "text/plain": [
       "  0%|          | 0/10000 [00:00<?, ?it/s]"
      ]
     },
     "metadata": {},
     "output_type": "display_data"
    },
    {
     "name": "stdout",
     "output_type": "stream",
     "text": [
      "\n",
      " Early Stopping / epoch: 248 loss: 0.0018\n",
      "-------------------------------------------------------------------------------------\n",
      "lr: 0.0001  patience: 20  num_layers: 1  batch_size: 32  hidden_size: 8  dropout: 0.25\n"
     ]
    },
    {
     "data": {
      "application/vnd.jupyter.widget-view+json": {
       "model_id": "147c5bac4b6544419b27d248dbcdea4a",
       "version_major": 2,
       "version_minor": 0
      },
      "text/plain": [
       "  0%|          | 0/10000 [00:00<?, ?it/s]"
      ]
     },
     "metadata": {},
     "output_type": "display_data"
    },
    {
     "name": "stdout",
     "output_type": "stream",
     "text": [
      "\n",
      " Early Stopping / epoch: 1350 loss: 0.0000\n",
      "-------------------------------------------------------------------------------------\n",
      "lr: 0.0001  patience: 20  num_layers: 1  batch_size: 32  hidden_size: 16  dropout: 0.25\n"
     ]
    },
    {
     "data": {
      "application/vnd.jupyter.widget-view+json": {
       "model_id": "8c91ebef28bb4ee4a58d35d90f9742ec",
       "version_major": 2,
       "version_minor": 0
      },
      "text/plain": [
       "  0%|          | 0/10000 [00:00<?, ?it/s]"
      ]
     },
     "metadata": {},
     "output_type": "display_data"
    },
    {
     "name": "stdout",
     "output_type": "stream",
     "text": [
      "\n",
      " Early Stopping / epoch: 923 loss: 0.0000\n",
      "-------------------------------------------------------------------------------------\n",
      "lr: 0.0001  patience: 20  num_layers: 1  batch_size: 32  hidden_size: 32  dropout: 0.25\n"
     ]
    },
    {
     "data": {
      "application/vnd.jupyter.widget-view+json": {
       "model_id": "16e79f3d3263419eae7fa4c4978a8c50",
       "version_major": 2,
       "version_minor": 0
      },
      "text/plain": [
       "  0%|          | 0/10000 [00:00<?, ?it/s]"
      ]
     },
     "metadata": {},
     "output_type": "display_data"
    },
    {
     "name": "stdout",
     "output_type": "stream",
     "text": [
      "\n",
      " Early Stopping / epoch: 1385 loss: 0.0000\n",
      "-------------------------------------------------------------------------------------\n",
      "lr: 0.0001  patience: 20  num_layers: 1  batch_size: 64  hidden_size: 8  dropout: 0.25\n"
     ]
    },
    {
     "data": {
      "application/vnd.jupyter.widget-view+json": {
       "model_id": "2ba92ef78ab449cab45c35b76c8bd4cb",
       "version_major": 2,
       "version_minor": 0
      },
      "text/plain": [
       "  0%|          | 0/10000 [00:00<?, ?it/s]"
      ]
     },
     "metadata": {},
     "output_type": "display_data"
    },
    {
     "name": "stdout",
     "output_type": "stream",
     "text": [
      "\n",
      " Early Stopping / epoch: 3452 loss: 0.0000\n",
      "-------------------------------------------------------------------------------------\n",
      "lr: 0.0001  patience: 20  num_layers: 1  batch_size: 64  hidden_size: 16  dropout: 0.25\n"
     ]
    },
    {
     "data": {
      "application/vnd.jupyter.widget-view+json": {
       "model_id": "3e4e40dc3560478aa192f4dd120f04f8",
       "version_major": 2,
       "version_minor": 0
      },
      "text/plain": [
       "  0%|          | 0/10000 [00:00<?, ?it/s]"
      ]
     },
     "metadata": {},
     "output_type": "display_data"
    },
    {
     "name": "stdout",
     "output_type": "stream",
     "text": [
      "\n",
      " Early Stopping / epoch: 2545 loss: 0.0000\n",
      "-------------------------------------------------------------------------------------\n",
      "lr: 0.0001  patience: 20  num_layers: 1  batch_size: 64  hidden_size: 32  dropout: 0.25\n"
     ]
    },
    {
     "data": {
      "application/vnd.jupyter.widget-view+json": {
       "model_id": "dc5b5a166bf2467b81fe090a48f1deab",
       "version_major": 2,
       "version_minor": 0
      },
      "text/plain": [
       "  0%|          | 0/10000 [00:00<?, ?it/s]"
      ]
     },
     "metadata": {},
     "output_type": "display_data"
    },
    {
     "name": "stdout",
     "output_type": "stream",
     "text": [
      "\n",
      " Early Stopping / epoch: 1241 loss: 0.0000\n",
      "-------------------------------------------------------------------------------------\n",
      "lr: 0.0001  patience: 20  num_layers: 2  batch_size: 32  hidden_size: 8  dropout: 0.25\n"
     ]
    },
    {
     "data": {
      "application/vnd.jupyter.widget-view+json": {
       "model_id": "8ff7d03240e449c1b64105a4be6a1cac",
       "version_major": 2,
       "version_minor": 0
      },
      "text/plain": [
       "  0%|          | 0/10000 [00:00<?, ?it/s]"
      ]
     },
     "metadata": {},
     "output_type": "display_data"
    },
    {
     "name": "stdout",
     "output_type": "stream",
     "text": [
      "\n",
      " Early Stopping / epoch: 272 loss: 0.0032\n",
      "-------------------------------------------------------------------------------------\n",
      "lr: 0.0001  patience: 20  num_layers: 2  batch_size: 32  hidden_size: 16  dropout: 0.25\n"
     ]
    },
    {
     "data": {
      "application/vnd.jupyter.widget-view+json": {
       "model_id": "7f71122ed951407b8e4d8c30a7f315bb",
       "version_major": 2,
       "version_minor": 0
      },
      "text/plain": [
       "  0%|          | 0/10000 [00:00<?, ?it/s]"
      ]
     },
     "metadata": {},
     "output_type": "display_data"
    },
    {
     "name": "stdout",
     "output_type": "stream",
     "text": [
      "\n",
      " Early Stopping / epoch: 158 loss: 0.0053\n",
      "-------------------------------------------------------------------------------------\n",
      "lr: 0.0001  patience: 20  num_layers: 2  batch_size: 32  hidden_size: 32  dropout: 0.25\n"
     ]
    },
    {
     "data": {
      "application/vnd.jupyter.widget-view+json": {
       "model_id": "b75b2478822048d99bfa3dc901a2d11c",
       "version_major": 2,
       "version_minor": 0
      },
      "text/plain": [
       "  0%|          | 0/10000 [00:00<?, ?it/s]"
      ]
     },
     "metadata": {},
     "output_type": "display_data"
    },
    {
     "name": "stdout",
     "output_type": "stream",
     "text": [
      "\n",
      " Early Stopping / epoch: 232 loss: 0.0017\n",
      "-------------------------------------------------------------------------------------\n",
      "lr: 0.0001  patience: 20  num_layers: 2  batch_size: 64  hidden_size: 8  dropout: 0.25\n"
     ]
    },
    {
     "data": {
      "application/vnd.jupyter.widget-view+json": {
       "model_id": "4614fe27872b4efcb028b949b1ca7c47",
       "version_major": 2,
       "version_minor": 0
      },
      "text/plain": [
       "  0%|          | 0/10000 [00:00<?, ?it/s]"
      ]
     },
     "metadata": {},
     "output_type": "display_data"
    },
    {
     "name": "stdout",
     "output_type": "stream",
     "text": [
      "\n",
      " Early Stopping / epoch: 231 loss: 0.0051\n",
      "-------------------------------------------------------------------------------------\n",
      "lr: 0.0001  patience: 20  num_layers: 2  batch_size: 64  hidden_size: 16  dropout: 0.25\n"
     ]
    },
    {
     "data": {
      "application/vnd.jupyter.widget-view+json": {
       "model_id": "722e55d1c4dd4efaa4a4a7a17323c0fd",
       "version_major": 2,
       "version_minor": 0
      },
      "text/plain": [
       "  0%|          | 0/10000 [00:00<?, ?it/s]"
      ]
     },
     "metadata": {},
     "output_type": "display_data"
    },
    {
     "name": "stdout",
     "output_type": "stream",
     "text": [
      "\n",
      " Early Stopping / epoch: 201 loss: 0.0024\n",
      "-------------------------------------------------------------------------------------\n",
      "lr: 0.0001  patience: 20  num_layers: 2  batch_size: 64  hidden_size: 32  dropout: 0.25\n"
     ]
    },
    {
     "data": {
      "application/vnd.jupyter.widget-view+json": {
       "model_id": "2ef5458060e74349bfc5f3463e8f2b14",
       "version_major": 2,
       "version_minor": 0
      },
      "text/plain": [
       "  0%|          | 0/10000 [00:00<?, ?it/s]"
      ]
     },
     "metadata": {},
     "output_type": "display_data"
    },
    {
     "name": "stdout",
     "output_type": "stream",
     "text": [
      "\n",
      " Early Stopping / epoch: 343 loss: 0.0021\n",
      "-------------------------------------------------------------------------------------\n",
      "lr: 0.0001  patience: 20  num_layers: 4  batch_size: 32  hidden_size: 8  dropout: 0.25\n"
     ]
    },
    {
     "data": {
      "application/vnd.jupyter.widget-view+json": {
       "model_id": "0630cbb4a4f74d06978ed9ab5f61f1d9",
       "version_major": 2,
       "version_minor": 0
      },
      "text/plain": [
       "  0%|          | 0/10000 [00:00<?, ?it/s]"
      ]
     },
     "metadata": {},
     "output_type": "display_data"
    },
    {
     "name": "stdout",
     "output_type": "stream",
     "text": [
      "\n",
      " Early Stopping / epoch: 178 loss: 0.0190\n",
      "-------------------------------------------------------------------------------------\n",
      "lr: 0.0001  patience: 20  num_layers: 4  batch_size: 32  hidden_size: 16  dropout: 0.25\n"
     ]
    },
    {
     "data": {
      "application/vnd.jupyter.widget-view+json": {
       "model_id": "b42115d3ca514f8e9b62524853a2f2fe",
       "version_major": 2,
       "version_minor": 0
      },
      "text/plain": [
       "  0%|          | 0/10000 [00:00<?, ?it/s]"
      ]
     },
     "metadata": {},
     "output_type": "display_data"
    },
    {
     "name": "stdout",
     "output_type": "stream",
     "text": [
      "\n",
      " Early Stopping / epoch: 291 loss: 0.0039\n",
      "-------------------------------------------------------------------------------------\n",
      "lr: 0.0001  patience: 20  num_layers: 4  batch_size: 32  hidden_size: 32  dropout: 0.25\n"
     ]
    },
    {
     "data": {
      "application/vnd.jupyter.widget-view+json": {
       "model_id": "bd78a142294b4b3bb6328638b0c94ab2",
       "version_major": 2,
       "version_minor": 0
      },
      "text/plain": [
       "  0%|          | 0/10000 [00:00<?, ?it/s]"
      ]
     },
     "metadata": {},
     "output_type": "display_data"
    },
    {
     "name": "stdout",
     "output_type": "stream",
     "text": [
      "\n",
      " Early Stopping / epoch: 108 loss: 0.0118\n",
      "-------------------------------------------------------------------------------------\n",
      "lr: 0.0001  patience: 20  num_layers: 4  batch_size: 64  hidden_size: 8  dropout: 0.25\n"
     ]
    },
    {
     "data": {
      "application/vnd.jupyter.widget-view+json": {
       "model_id": "376219596103412ba922db9448707e4e",
       "version_major": 2,
       "version_minor": 0
      },
      "text/plain": [
       "  0%|          | 0/10000 [00:00<?, ?it/s]"
      ]
     },
     "metadata": {},
     "output_type": "display_data"
    },
    {
     "name": "stdout",
     "output_type": "stream",
     "text": [
      "\n",
      " Early Stopping / epoch: 177 loss: 0.0140\n",
      "-------------------------------------------------------------------------------------\n",
      "lr: 0.0001  patience: 20  num_layers: 4  batch_size: 64  hidden_size: 16  dropout: 0.25\n"
     ]
    },
    {
     "data": {
      "application/vnd.jupyter.widget-view+json": {
       "model_id": "55752a054192443b8ffb2800ff09cafc",
       "version_major": 2,
       "version_minor": 0
      },
      "text/plain": [
       "  0%|          | 0/10000 [00:00<?, ?it/s]"
      ]
     },
     "metadata": {},
     "output_type": "display_data"
    },
    {
     "name": "stdout",
     "output_type": "stream",
     "text": [
      "\n",
      " Early Stopping / epoch: 120 loss: 0.0142\n",
      "-------------------------------------------------------------------------------------\n",
      "lr: 0.0001  patience: 20  num_layers: 4  batch_size: 64  hidden_size: 32  dropout: 0.25\n"
     ]
    },
    {
     "data": {
      "application/vnd.jupyter.widget-view+json": {
       "model_id": "92a9d96d394a4885bf33cf83eef74d78",
       "version_major": 2,
       "version_minor": 0
      },
      "text/plain": [
       "  0%|          | 0/10000 [00:00<?, ?it/s]"
      ]
     },
     "metadata": {},
     "output_type": "display_data"
    },
    {
     "name": "stdout",
     "output_type": "stream",
     "text": [
      "\n",
      " Early Stopping / epoch: 123 loss: 0.0101\n",
      "-------------------------------------------------------------------------------------\n",
      "lr: 0.0001  patience: 20  num_layers: 8  batch_size: 32  hidden_size: 8  dropout: 0.25\n"
     ]
    },
    {
     "data": {
      "application/vnd.jupyter.widget-view+json": {
       "model_id": "4d68b69014d1464c9610c55396f1682d",
       "version_major": 2,
       "version_minor": 0
      },
      "text/plain": [
       "  0%|          | 0/10000 [00:00<?, ?it/s]"
      ]
     },
     "metadata": {},
     "output_type": "display_data"
    },
    {
     "name": "stdout",
     "output_type": "stream",
     "text": [
      "\n",
      " Early Stopping / epoch: 48 loss: 0.0516\n",
      "-------------------------------------------------------------------------------------\n",
      "lr: 0.0001  patience: 20  num_layers: 8  batch_size: 32  hidden_size: 16  dropout: 0.25\n"
     ]
    },
    {
     "data": {
      "application/vnd.jupyter.widget-view+json": {
       "model_id": "5f098b67d3ec4f358af1438a17888af9",
       "version_major": 2,
       "version_minor": 0
      },
      "text/plain": [
       "  0%|          | 0/10000 [00:00<?, ?it/s]"
      ]
     },
     "metadata": {},
     "output_type": "display_data"
    },
    {
     "name": "stdout",
     "output_type": "stream",
     "text": [
      "\n",
      " Early Stopping / epoch: 196 loss: 0.0117\n",
      "-------------------------------------------------------------------------------------\n",
      "lr: 0.0001  patience: 20  num_layers: 8  batch_size: 32  hidden_size: 32  dropout: 0.25\n"
     ]
    },
    {
     "data": {
      "application/vnd.jupyter.widget-view+json": {
       "model_id": "94f63dd6a52a490891a3820cf8617bd2",
       "version_major": 2,
       "version_minor": 0
      },
      "text/plain": [
       "  0%|          | 0/10000 [00:00<?, ?it/s]"
      ]
     },
     "metadata": {},
     "output_type": "display_data"
    },
    {
     "name": "stdout",
     "output_type": "stream",
     "text": [
      "\n",
      " Early Stopping / epoch: 29 loss: 0.0521\n",
      "-------------------------------------------------------------------------------------\n",
      "lr: 0.0001  patience: 20  num_layers: 8  batch_size: 64  hidden_size: 8  dropout: 0.25\n"
     ]
    },
    {
     "data": {
      "application/vnd.jupyter.widget-view+json": {
       "model_id": "b2ea05c4a9a24be3bd5ba6a6f9d653c7",
       "version_major": 2,
       "version_minor": 0
      },
      "text/plain": [
       "  0%|          | 0/10000 [00:00<?, ?it/s]"
      ]
     },
     "metadata": {},
     "output_type": "display_data"
    },
    {
     "name": "stdout",
     "output_type": "stream",
     "text": [
      "\n",
      " Early Stopping / epoch: 64 loss: 0.0504\n",
      "-------------------------------------------------------------------------------------\n",
      "lr: 0.0001  patience: 20  num_layers: 8  batch_size: 64  hidden_size: 16  dropout: 0.25\n"
     ]
    },
    {
     "data": {
      "application/vnd.jupyter.widget-view+json": {
       "model_id": "aac5b27fd8ee4f779775cdc126ea0ca7",
       "version_major": 2,
       "version_minor": 0
      },
      "text/plain": [
       "  0%|          | 0/10000 [00:00<?, ?it/s]"
      ]
     },
     "metadata": {},
     "output_type": "display_data"
    },
    {
     "name": "stdout",
     "output_type": "stream",
     "text": [
      "\n",
      " Early Stopping / epoch: 64 loss: 0.0510\n",
      "-------------------------------------------------------------------------------------\n",
      "lr: 0.0001  patience: 20  num_layers: 8  batch_size: 64  hidden_size: 32  dropout: 0.25\n"
     ]
    },
    {
     "data": {
      "application/vnd.jupyter.widget-view+json": {
       "model_id": "e57f2070ce1d47a299bbd9f188695bb3",
       "version_major": 2,
       "version_minor": 0
      },
      "text/plain": [
       "  0%|          | 0/10000 [00:00<?, ?it/s]"
      ]
     },
     "metadata": {},
     "output_type": "display_data"
    },
    {
     "name": "stdout",
     "output_type": "stream",
     "text": [
      "\n",
      " Early Stopping / epoch: 36 loss: 0.0512\n",
      "-------------------------------------------------------------------------------------\n",
      "lr: 0.0001  patience: 50  num_layers: 1  batch_size: 32  hidden_size: 8  dropout: 0.25\n"
     ]
    },
    {
     "data": {
      "application/vnd.jupyter.widget-view+json": {
       "model_id": "b06718d8550945ac9a4e4d41ce6c5cea",
       "version_major": 2,
       "version_minor": 0
      },
      "text/plain": [
       "  0%|          | 0/10000 [00:00<?, ?it/s]"
      ]
     },
     "metadata": {},
     "output_type": "display_data"
    },
    {
     "name": "stdout",
     "output_type": "stream",
     "text": [
      "\n",
      " Early Stopping / epoch: 1381 loss: 0.0000\n",
      "-------------------------------------------------------------------------------------\n",
      "lr: 0.0001  patience: 50  num_layers: 1  batch_size: 32  hidden_size: 16  dropout: 0.25\n"
     ]
    },
    {
     "data": {
      "application/vnd.jupyter.widget-view+json": {
       "model_id": "acd1bdfb12a14908a6e19e6e57a28405",
       "version_major": 2,
       "version_minor": 0
      },
      "text/plain": [
       "  0%|          | 0/10000 [00:00<?, ?it/s]"
      ]
     },
     "metadata": {},
     "output_type": "display_data"
    },
    {
     "name": "stdout",
     "output_type": "stream",
     "text": [
      "\n",
      " Early Stopping / epoch: 1644 loss: 0.0000\n",
      "-------------------------------------------------------------------------------------\n",
      "lr: 0.0001  patience: 50  num_layers: 1  batch_size: 32  hidden_size: 32  dropout: 0.25\n"
     ]
    },
    {
     "data": {
      "application/vnd.jupyter.widget-view+json": {
       "model_id": "7747e46aa6384eb298d89f09b0fdaf13",
       "version_major": 2,
       "version_minor": 0
      },
      "text/plain": [
       "  0%|          | 0/10000 [00:00<?, ?it/s]"
      ]
     },
     "metadata": {},
     "output_type": "display_data"
    },
    {
     "name": "stdout",
     "output_type": "stream",
     "text": [
      "\n",
      " Early Stopping / epoch: 1466 loss: 0.0000\n",
      "-------------------------------------------------------------------------------------\n",
      "lr: 0.0001  patience: 50  num_layers: 1  batch_size: 64  hidden_size: 8  dropout: 0.25\n"
     ]
    },
    {
     "data": {
      "application/vnd.jupyter.widget-view+json": {
       "model_id": "5bc55ad9e124417a8279db61bb0ab91d",
       "version_major": 2,
       "version_minor": 0
      },
      "text/plain": [
       "  0%|          | 0/10000 [00:00<?, ?it/s]"
      ]
     },
     "metadata": {},
     "output_type": "display_data"
    },
    {
     "name": "stdout",
     "output_type": "stream",
     "text": [
      "\n",
      " Early Stopping / epoch: 3802 loss: 0.0000\n",
      "-------------------------------------------------------------------------------------\n",
      "lr: 0.0001  patience: 50  num_layers: 1  batch_size: 64  hidden_size: 16  dropout: 0.25\n"
     ]
    },
    {
     "data": {
      "application/vnd.jupyter.widget-view+json": {
       "model_id": "17bf0f0065df483d813e9efdd2afc73f",
       "version_major": 2,
       "version_minor": 0
      },
      "text/plain": [
       "  0%|          | 0/10000 [00:00<?, ?it/s]"
      ]
     },
     "metadata": {},
     "output_type": "display_data"
    },
    {
     "name": "stdout",
     "output_type": "stream",
     "text": [
      "\n",
      " Early Stopping / epoch: 4237 loss: 0.0000\n",
      "-------------------------------------------------------------------------------------\n",
      "lr: 0.0001  patience: 50  num_layers: 1  batch_size: 64  hidden_size: 32  dropout: 0.25\n"
     ]
    },
    {
     "data": {
      "application/vnd.jupyter.widget-view+json": {
       "model_id": "68ae8344fec94ab1abbda528e0a4f216",
       "version_major": 2,
       "version_minor": 0
      },
      "text/plain": [
       "  0%|          | 0/10000 [00:00<?, ?it/s]"
      ]
     },
     "metadata": {},
     "output_type": "display_data"
    },
    {
     "name": "stdout",
     "output_type": "stream",
     "text": [
      "\n",
      " Early Stopping / epoch: 1411 loss: 0.0000\n",
      "-------------------------------------------------------------------------------------\n",
      "lr: 0.0001  patience: 50  num_layers: 2  batch_size: 32  hidden_size: 8  dropout: 0.25\n"
     ]
    },
    {
     "data": {
      "application/vnd.jupyter.widget-view+json": {
       "model_id": "12b485ad98934f3c86cbdb8955425553",
       "version_major": 2,
       "version_minor": 0
      },
      "text/plain": [
       "  0%|          | 0/10000 [00:00<?, ?it/s]"
      ]
     },
     "metadata": {},
     "output_type": "display_data"
    },
    {
     "name": "stdout",
     "output_type": "stream",
     "text": [
      "\n",
      " Early Stopping / epoch: 340 loss: 0.0029\n",
      "-------------------------------------------------------------------------------------\n",
      "lr: 0.0001  patience: 50  num_layers: 2  batch_size: 32  hidden_size: 16  dropout: 0.25\n"
     ]
    },
    {
     "data": {
      "application/vnd.jupyter.widget-view+json": {
       "model_id": "5b29821708e24b35bb0e228afc8650bf",
       "version_major": 2,
       "version_minor": 0
      },
      "text/plain": [
       "  0%|          | 0/10000 [00:00<?, ?it/s]"
      ]
     },
     "metadata": {},
     "output_type": "display_data"
    },
    {
     "name": "stdout",
     "output_type": "stream",
     "text": [
      "\n",
      " Early Stopping / epoch: 542 loss: 0.0011\n",
      "-------------------------------------------------------------------------------------\n",
      "lr: 0.0001  patience: 50  num_layers: 2  batch_size: 32  hidden_size: 32  dropout: 0.25\n"
     ]
    },
    {
     "data": {
      "application/vnd.jupyter.widget-view+json": {
       "model_id": "db0b33c139df483d82ac9d7881fecfef",
       "version_major": 2,
       "version_minor": 0
      },
      "text/plain": [
       "  0%|          | 0/10000 [00:00<?, ?it/s]"
      ]
     },
     "metadata": {},
     "output_type": "display_data"
    },
    {
     "name": "stdout",
     "output_type": "stream",
     "text": [
      "\n",
      " Early Stopping / epoch: 398 loss: 0.0008\n",
      "-------------------------------------------------------------------------------------\n",
      "lr: 0.0001  patience: 50  num_layers: 2  batch_size: 64  hidden_size: 8  dropout: 0.25\n"
     ]
    },
    {
     "data": {
      "application/vnd.jupyter.widget-view+json": {
       "model_id": "efbbfb693aab4bd8a7e61bd26fb264da",
       "version_major": 2,
       "version_minor": 0
      },
      "text/plain": [
       "  0%|          | 0/10000 [00:00<?, ?it/s]"
      ]
     },
     "metadata": {},
     "output_type": "display_data"
    },
    {
     "name": "stdout",
     "output_type": "stream",
     "text": [
      "\n",
      " Early Stopping / epoch: 233 loss: 0.0051\n",
      "-------------------------------------------------------------------------------------\n",
      "lr: 0.0001  patience: 50  num_layers: 2  batch_size: 64  hidden_size: 16  dropout: 0.25\n"
     ]
    },
    {
     "data": {
      "application/vnd.jupyter.widget-view+json": {
       "model_id": "eaae398972ee4f0eb2f76f3b7e24e8b8",
       "version_major": 2,
       "version_minor": 0
      },
      "text/plain": [
       "  0%|          | 0/10000 [00:00<?, ?it/s]"
      ]
     },
     "metadata": {},
     "output_type": "display_data"
    },
    {
     "name": "stdout",
     "output_type": "stream",
     "text": [
      "\n",
      " Early Stopping / epoch: 367 loss: 0.0018\n",
      "-------------------------------------------------------------------------------------\n",
      "lr: 0.0001  patience: 50  num_layers: 2  batch_size: 64  hidden_size: 32  dropout: 0.25\n"
     ]
    },
    {
     "data": {
      "application/vnd.jupyter.widget-view+json": {
       "model_id": "32794dc943ad4988ac69ab8efa16beb1",
       "version_major": 2,
       "version_minor": 0
      },
      "text/plain": [
       "  0%|          | 0/10000 [00:00<?, ?it/s]"
      ]
     },
     "metadata": {},
     "output_type": "display_data"
    },
    {
     "name": "stdout",
     "output_type": "stream",
     "text": [
      "\n",
      " Early Stopping / epoch: 588 loss: 0.0007\n",
      "-------------------------------------------------------------------------------------\n",
      "lr: 0.0001  patience: 50  num_layers: 4  batch_size: 32  hidden_size: 8  dropout: 0.25\n"
     ]
    },
    {
     "data": {
      "application/vnd.jupyter.widget-view+json": {
       "model_id": "6ca19fef78fc48afbb436b55f5a3de71",
       "version_major": 2,
       "version_minor": 0
      },
      "text/plain": [
       "  0%|          | 0/10000 [00:00<?, ?it/s]"
      ]
     },
     "metadata": {},
     "output_type": "display_data"
    },
    {
     "name": "stdout",
     "output_type": "stream",
     "text": [
      "\n",
      " Early Stopping / epoch: 317 loss: 0.0115\n",
      "-------------------------------------------------------------------------------------\n",
      "lr: 0.0001  patience: 50  num_layers: 4  batch_size: 32  hidden_size: 16  dropout: 0.25\n"
     ]
    },
    {
     "data": {
      "application/vnd.jupyter.widget-view+json": {
       "model_id": "ed223539ee464b9787161c284c082593",
       "version_major": 2,
       "version_minor": 0
      },
      "text/plain": [
       "  0%|          | 0/10000 [00:00<?, ?it/s]"
      ]
     },
     "metadata": {},
     "output_type": "display_data"
    },
    {
     "name": "stdout",
     "output_type": "stream",
     "text": [
      "\n",
      " Early Stopping / epoch: 183 loss: 0.0135\n",
      "-------------------------------------------------------------------------------------\n",
      "lr: 0.0001  patience: 50  num_layers: 4  batch_size: 32  hidden_size: 32  dropout: 0.25\n"
     ]
    },
    {
     "data": {
      "application/vnd.jupyter.widget-view+json": {
       "model_id": "d16478eb31b24cc3b016a3f4fb92c802",
       "version_major": 2,
       "version_minor": 0
      },
      "text/plain": [
       "  0%|          | 0/10000 [00:00<?, ?it/s]"
      ]
     },
     "metadata": {},
     "output_type": "display_data"
    },
    {
     "name": "stdout",
     "output_type": "stream",
     "text": [
      "\n",
      " Early Stopping / epoch: 534 loss: 0.0014\n",
      "-------------------------------------------------------------------------------------\n",
      "lr: 0.0001  patience: 50  num_layers: 4  batch_size: 64  hidden_size: 8  dropout: 0.25\n"
     ]
    },
    {
     "data": {
      "application/vnd.jupyter.widget-view+json": {
       "model_id": "a1ea1da4351b47e5a4cc4c8cf201f251",
       "version_major": 2,
       "version_minor": 0
      },
      "text/plain": [
       "  0%|          | 0/10000 [00:00<?, ?it/s]"
      ]
     },
     "metadata": {},
     "output_type": "display_data"
    },
    {
     "name": "stdout",
     "output_type": "stream",
     "text": [
      "\n",
      " Early Stopping / epoch: 637 loss: 0.0086\n",
      "-------------------------------------------------------------------------------------\n",
      "lr: 0.0001  patience: 50  num_layers: 4  batch_size: 64  hidden_size: 16  dropout: 0.25\n"
     ]
    },
    {
     "data": {
      "application/vnd.jupyter.widget-view+json": {
       "model_id": "e3e968790bff4b94ac601d655785ad30",
       "version_major": 2,
       "version_minor": 0
      },
      "text/plain": [
       "  0%|          | 0/10000 [00:00<?, ?it/s]"
      ]
     },
     "metadata": {},
     "output_type": "display_data"
    },
    {
     "name": "stdout",
     "output_type": "stream",
     "text": [
      "\n",
      " Early Stopping / epoch: 452 loss: 0.0035\n",
      "-------------------------------------------------------------------------------------\n",
      "lr: 0.0001  patience: 50  num_layers: 4  batch_size: 64  hidden_size: 32  dropout: 0.25\n"
     ]
    },
    {
     "data": {
      "application/vnd.jupyter.widget-view+json": {
       "model_id": "e8e022a841a24e0689f78465565144ac",
       "version_major": 2,
       "version_minor": 0
      },
      "text/plain": [
       "  0%|          | 0/10000 [00:00<?, ?it/s]"
      ]
     },
     "metadata": {},
     "output_type": "display_data"
    },
    {
     "name": "stdout",
     "output_type": "stream",
     "text": [
      "\n",
      " Early Stopping / epoch: 300 loss: 0.0031\n",
      "-------------------------------------------------------------------------------------\n",
      "lr: 0.0001  patience: 50  num_layers: 8  batch_size: 32  hidden_size: 8  dropout: 0.25\n"
     ]
    },
    {
     "data": {
      "application/vnd.jupyter.widget-view+json": {
       "model_id": "ed29653a24f5426aaa6ce025d986bbef",
       "version_major": 2,
       "version_minor": 0
      },
      "text/plain": [
       "  0%|          | 0/10000 [00:00<?, ?it/s]"
      ]
     },
     "metadata": {},
     "output_type": "display_data"
    },
    {
     "name": "stdout",
     "output_type": "stream",
     "text": [
      "\n",
      " Early Stopping / epoch: 57 loss: 0.0510\n",
      "-------------------------------------------------------------------------------------\n",
      "lr: 0.0001  patience: 50  num_layers: 8  batch_size: 32  hidden_size: 16  dropout: 0.25\n"
     ]
    },
    {
     "data": {
      "application/vnd.jupyter.widget-view+json": {
       "model_id": "36a6754d81c34fa99a9a2d1ff76c7031",
       "version_major": 2,
       "version_minor": 0
      },
      "text/plain": [
       "  0%|          | 0/10000 [00:00<?, ?it/s]"
      ]
     },
     "metadata": {},
     "output_type": "display_data"
    },
    {
     "name": "stdout",
     "output_type": "stream",
     "text": [
      "\n",
      " Early Stopping / epoch: 123 loss: 0.0523\n",
      "-------------------------------------------------------------------------------------\n",
      "lr: 0.0001  patience: 50  num_layers: 8  batch_size: 32  hidden_size: 32  dropout: 0.25\n"
     ]
    },
    {
     "data": {
      "application/vnd.jupyter.widget-view+json": {
       "model_id": "86fce85430ed4ede9802356d00cfd5d7",
       "version_major": 2,
       "version_minor": 0
      },
      "text/plain": [
       "  0%|          | 0/10000 [00:00<?, ?it/s]"
      ]
     },
     "metadata": {},
     "output_type": "display_data"
    },
    {
     "name": "stdout",
     "output_type": "stream",
     "text": [
      "\n",
      " Early Stopping / epoch: 376 loss: 0.0057\n",
      "-------------------------------------------------------------------------------------\n",
      "lr: 0.0001  patience: 50  num_layers: 8  batch_size: 64  hidden_size: 8  dropout: 0.25\n"
     ]
    },
    {
     "data": {
      "application/vnd.jupyter.widget-view+json": {
       "model_id": "962db99fea0f4e4cb6c9ec02b1cff0d5",
       "version_major": 2,
       "version_minor": 0
      },
      "text/plain": [
       "  0%|          | 0/10000 [00:00<?, ?it/s]"
      ]
     },
     "metadata": {},
     "output_type": "display_data"
    },
    {
     "name": "stdout",
     "output_type": "stream",
     "text": [
      "\n",
      " Early Stopping / epoch: 118 loss: 0.0504\n",
      "-------------------------------------------------------------------------------------\n",
      "lr: 0.0001  patience: 50  num_layers: 8  batch_size: 64  hidden_size: 16  dropout: 0.25\n"
     ]
    },
    {
     "data": {
      "application/vnd.jupyter.widget-view+json": {
       "model_id": "73f9aeac454a4fc08ef7a28fb3d41d70",
       "version_major": 2,
       "version_minor": 0
      },
      "text/plain": [
       "  0%|          | 0/10000 [00:00<?, ?it/s]"
      ]
     },
     "metadata": {},
     "output_type": "display_data"
    },
    {
     "name": "stdout",
     "output_type": "stream",
     "text": [
      "\n",
      " Early Stopping / epoch: 378 loss: 0.0083\n",
      "-------------------------------------------------------------------------------------\n",
      "lr: 0.0001  patience: 50  num_layers: 8  batch_size: 64  hidden_size: 32  dropout: 0.25\n"
     ]
    },
    {
     "data": {
      "application/vnd.jupyter.widget-view+json": {
       "model_id": "cfc65109d83a4e358d2955d04b8a776a",
       "version_major": 2,
       "version_minor": 0
      },
      "text/plain": [
       "  0%|          | 0/10000 [00:00<?, ?it/s]"
      ]
     },
     "metadata": {},
     "output_type": "display_data"
    },
    {
     "name": "stdout",
     "output_type": "stream",
     "text": [
      "\n",
      " Early Stopping / epoch: 257 loss: 0.0098\n",
      "-------------------------------------------------------------------------------------\n",
      "lr: 1e-05  patience: 20  num_layers: 1  batch_size: 32  hidden_size: 8  dropout: 0.25\n"
     ]
    },
    {
     "data": {
      "application/vnd.jupyter.widget-view+json": {
       "model_id": "e91e3b45965e45758135eb2fb494fe07",
       "version_major": 2,
       "version_minor": 0
      },
      "text/plain": [
       "  0%|          | 0/10000 [00:00<?, ?it/s]"
      ]
     },
     "metadata": {},
     "output_type": "display_data"
    },
    {
     "name": "stdout",
     "output_type": "stream",
     "text": [
      "\n",
      " Early Stopping / epoch: 5718 loss: 0.0000\n",
      "-------------------------------------------------------------------------------------\n",
      "lr: 1e-05  patience: 20  num_layers: 1  batch_size: 32  hidden_size: 16  dropout: 0.25\n"
     ]
    },
    {
     "data": {
      "application/vnd.jupyter.widget-view+json": {
       "model_id": "9603e70d5b304746a73e9937737baa41",
       "version_major": 2,
       "version_minor": 0
      },
      "text/plain": [
       "  0%|          | 0/10000 [00:00<?, ?it/s]"
      ]
     },
     "metadata": {},
     "output_type": "display_data"
    },
    {
     "name": "stdout",
     "output_type": "stream",
     "text": [
      "\n",
      " Early Stopping / epoch: 4831 loss: 0.0000\n",
      "-------------------------------------------------------------------------------------\n",
      "lr: 1e-05  patience: 20  num_layers: 1  batch_size: 32  hidden_size: 32  dropout: 0.25\n"
     ]
    },
    {
     "data": {
      "application/vnd.jupyter.widget-view+json": {
       "model_id": "e9645d062ada488f8800db33aeb309b1",
       "version_major": 2,
       "version_minor": 0
      },
      "text/plain": [
       "  0%|          | 0/10000 [00:00<?, ?it/s]"
      ]
     },
     "metadata": {},
     "output_type": "display_data"
    },
    {
     "name": "stdout",
     "output_type": "stream",
     "text": [
      "\n",
      " Early Stopping / epoch: 4746 loss: 0.0000\n",
      "-------------------------------------------------------------------------------------\n",
      "lr: 1e-05  patience: 20  num_layers: 1  batch_size: 64  hidden_size: 8  dropout: 0.25\n"
     ]
    },
    {
     "data": {
      "application/vnd.jupyter.widget-view+json": {
       "model_id": "878d4dcd18c04a74ab77daf3837d12ed",
       "version_major": 2,
       "version_minor": 0
      },
      "text/plain": [
       "  0%|          | 0/10000 [00:00<?, ?it/s]"
      ]
     },
     "metadata": {},
     "output_type": "display_data"
    },
    {
     "name": "stdout",
     "output_type": "stream",
     "text": [
      "\n",
      " Early Stopping / epoch: 9430 loss: 0.0000\n",
      "-------------------------------------------------------------------------------------\n",
      "lr: 1e-05  patience: 20  num_layers: 1  batch_size: 64  hidden_size: 16  dropout: 0.25\n"
     ]
    },
    {
     "data": {
      "application/vnd.jupyter.widget-view+json": {
       "model_id": "a32618e5115a4d2fad5aa18ac113126e",
       "version_major": 2,
       "version_minor": 0
      },
      "text/plain": [
       "  0%|          | 0/10000 [00:00<?, ?it/s]"
      ]
     },
     "metadata": {},
     "output_type": "display_data"
    },
    {
     "name": "stdout",
     "output_type": "stream",
     "text": [
      "\n",
      " Early Stopping / epoch: 6852 loss: 0.0000\n",
      "-------------------------------------------------------------------------------------\n",
      "lr: 1e-05  patience: 20  num_layers: 1  batch_size: 64  hidden_size: 32  dropout: 0.25\n"
     ]
    },
    {
     "data": {
      "application/vnd.jupyter.widget-view+json": {
       "model_id": "23fbf7ef80614e4d986cb8081992ddbf",
       "version_major": 2,
       "version_minor": 0
      },
      "text/plain": [
       "  0%|          | 0/10000 [00:00<?, ?it/s]"
      ]
     },
     "metadata": {},
     "output_type": "display_data"
    },
    {
     "name": "stdout",
     "output_type": "stream",
     "text": [
      "\n",
      " Early Stopping / epoch: 8022 loss: 0.0000\n",
      "-------------------------------------------------------------------------------------\n",
      "lr: 1e-05  patience: 20  num_layers: 2  batch_size: 32  hidden_size: 8  dropout: 0.25\n"
     ]
    },
    {
     "data": {
      "application/vnd.jupyter.widget-view+json": {
       "model_id": "3d9c0e995064477bb6996da2cf3adc54",
       "version_major": 2,
       "version_minor": 0
      },
      "text/plain": [
       "  0%|          | 0/10000 [00:00<?, ?it/s]"
      ]
     },
     "metadata": {},
     "output_type": "display_data"
    },
    {
     "name": "stdout",
     "output_type": "stream",
     "text": [
      "\n",
      " Early Stopping / epoch: 122 loss: 0.0545\n",
      "-------------------------------------------------------------------------------------\n",
      "lr: 1e-05  patience: 20  num_layers: 2  batch_size: 32  hidden_size: 16  dropout: 0.25\n"
     ]
    },
    {
     "data": {
      "application/vnd.jupyter.widget-view+json": {
       "model_id": "f594973063e9430fae0db79bcba8db65",
       "version_major": 2,
       "version_minor": 0
      },
      "text/plain": [
       "  0%|          | 0/10000 [00:00<?, ?it/s]"
      ]
     },
     "metadata": {},
     "output_type": "display_data"
    },
    {
     "name": "stdout",
     "output_type": "stream",
     "text": [
      "\n",
      " Early Stopping / epoch: 503 loss: 0.0146\n",
      "-------------------------------------------------------------------------------------\n",
      "lr: 1e-05  patience: 20  num_layers: 2  batch_size: 32  hidden_size: 32  dropout: 0.25\n"
     ]
    },
    {
     "data": {
      "application/vnd.jupyter.widget-view+json": {
       "model_id": "090320f190ab4909aeddee1fef2cbf29",
       "version_major": 2,
       "version_minor": 0
      },
      "text/plain": [
       "  0%|          | 0/10000 [00:00<?, ?it/s]"
      ]
     },
     "metadata": {},
     "output_type": "display_data"
    },
    {
     "name": "stdout",
     "output_type": "stream",
     "text": [
      "\n",
      " Early Stopping / epoch: 328 loss: 0.0122\n",
      "-------------------------------------------------------------------------------------\n",
      "lr: 1e-05  patience: 20  num_layers: 2  batch_size: 64  hidden_size: 8  dropout: 0.25\n"
     ]
    },
    {
     "data": {
      "application/vnd.jupyter.widget-view+json": {
       "model_id": "42cdc879f1e842eebe39729088d679ab",
       "version_major": 2,
       "version_minor": 0
      },
      "text/plain": [
       "  0%|          | 0/10000 [00:00<?, ?it/s]"
      ]
     },
     "metadata": {},
     "output_type": "display_data"
    },
    {
     "name": "stdout",
     "output_type": "stream",
     "text": [
      "\n",
      " Early Stopping / epoch: 490 loss: 0.0160\n",
      "-------------------------------------------------------------------------------------\n",
      "lr: 1e-05  patience: 20  num_layers: 2  batch_size: 64  hidden_size: 16  dropout: 0.25\n"
     ]
    },
    {
     "data": {
      "application/vnd.jupyter.widget-view+json": {
       "model_id": "21d34e2c249640078ed35ae75f91d440",
       "version_major": 2,
       "version_minor": 0
      },
      "text/plain": [
       "  0%|          | 0/10000 [00:00<?, ?it/s]"
      ]
     },
     "metadata": {},
     "output_type": "display_data"
    },
    {
     "name": "stdout",
     "output_type": "stream",
     "text": [
      "\n",
      " Early Stopping / epoch: 361 loss: 0.0380\n",
      "-------------------------------------------------------------------------------------\n",
      "lr: 1e-05  patience: 20  num_layers: 2  batch_size: 64  hidden_size: 32  dropout: 0.25\n"
     ]
    },
    {
     "data": {
      "application/vnd.jupyter.widget-view+json": {
       "model_id": "c7a88f8c7d234b5ea62cdd30b20b1386",
       "version_major": 2,
       "version_minor": 0
      },
      "text/plain": [
       "  0%|          | 0/10000 [00:00<?, ?it/s]"
      ]
     },
     "metadata": {},
     "output_type": "display_data"
    },
    {
     "name": "stdout",
     "output_type": "stream",
     "text": [
      "\n",
      " Early Stopping / epoch: 515 loss: 0.0099\n",
      "-------------------------------------------------------------------------------------\n",
      "lr: 1e-05  patience: 20  num_layers: 4  batch_size: 32  hidden_size: 8  dropout: 0.25\n"
     ]
    },
    {
     "data": {
      "application/vnd.jupyter.widget-view+json": {
       "model_id": "1c44c8cfe31e4f8c900521968a229376",
       "version_major": 2,
       "version_minor": 0
      },
      "text/plain": [
       "  0%|          | 0/10000 [00:00<?, ?it/s]"
      ]
     },
     "metadata": {},
     "output_type": "display_data"
    },
    {
     "name": "stdout",
     "output_type": "stream",
     "text": [
      "\n",
      " Early Stopping / epoch: 162 loss: 0.0502\n",
      "-------------------------------------------------------------------------------------\n",
      "lr: 1e-05  patience: 20  num_layers: 4  batch_size: 32  hidden_size: 16  dropout: 0.25\n"
     ]
    },
    {
     "data": {
      "application/vnd.jupyter.widget-view+json": {
       "model_id": "1b3da841e21d40309f75041ce2f43ac5",
       "version_major": 2,
       "version_minor": 0
      },
      "text/plain": [
       "  0%|          | 0/10000 [00:00<?, ?it/s]"
      ]
     },
     "metadata": {},
     "output_type": "display_data"
    },
    {
     "name": "stdout",
     "output_type": "stream",
     "text": [
      "\n",
      " Early Stopping / epoch: 79 loss: 0.0521\n",
      "-------------------------------------------------------------------------------------\n",
      "lr: 1e-05  patience: 20  num_layers: 4  batch_size: 32  hidden_size: 32  dropout: 0.25\n"
     ]
    },
    {
     "data": {
      "application/vnd.jupyter.widget-view+json": {
       "model_id": "7dfe89942cad4be68469fd8e0bab8ba4",
       "version_major": 2,
       "version_minor": 0
      },
      "text/plain": [
       "  0%|          | 0/10000 [00:00<?, ?it/s]"
      ]
     },
     "metadata": {},
     "output_type": "display_data"
    },
    {
     "name": "stdout",
     "output_type": "stream",
     "text": [
      "\n",
      " Early Stopping / epoch: 306 loss: 0.0149\n",
      "-------------------------------------------------------------------------------------\n",
      "lr: 1e-05  patience: 20  num_layers: 4  batch_size: 64  hidden_size: 8  dropout: 0.25\n"
     ]
    },
    {
     "data": {
      "application/vnd.jupyter.widget-view+json": {
       "model_id": "4ff5d392f6c84b439c401282284b5d4d",
       "version_major": 2,
       "version_minor": 0
      },
      "text/plain": [
       "  0%|          | 0/10000 [00:00<?, ?it/s]"
      ]
     },
     "metadata": {},
     "output_type": "display_data"
    },
    {
     "name": "stdout",
     "output_type": "stream",
     "text": [
      "\n",
      " Early Stopping / epoch: 246 loss: 0.0515\n",
      "-------------------------------------------------------------------------------------\n",
      "lr: 1e-05  patience: 20  num_layers: 4  batch_size: 64  hidden_size: 16  dropout: 0.25\n"
     ]
    },
    {
     "data": {
      "application/vnd.jupyter.widget-view+json": {
       "model_id": "73f634e3963046a3abf556d2c1aa42f6",
       "version_major": 2,
       "version_minor": 0
      },
      "text/plain": [
       "  0%|          | 0/10000 [00:00<?, ?it/s]"
      ]
     },
     "metadata": {},
     "output_type": "display_data"
    },
    {
     "name": "stdout",
     "output_type": "stream",
     "text": [
      "\n",
      " Early Stopping / epoch: 197 loss: 0.0472\n",
      "-------------------------------------------------------------------------------------\n",
      "lr: 1e-05  patience: 20  num_layers: 4  batch_size: 64  hidden_size: 32  dropout: 0.25\n"
     ]
    },
    {
     "data": {
      "application/vnd.jupyter.widget-view+json": {
       "model_id": "87eb4e6f7ec34002b1f91e8743ca738c",
       "version_major": 2,
       "version_minor": 0
      },
      "text/plain": [
       "  0%|          | 0/10000 [00:00<?, ?it/s]"
      ]
     },
     "metadata": {},
     "output_type": "display_data"
    },
    {
     "name": "stdout",
     "output_type": "stream",
     "text": [
      "\n",
      " Early Stopping / epoch: 476 loss: 0.0135\n",
      "-------------------------------------------------------------------------------------\n",
      "lr: 1e-05  patience: 20  num_layers: 8  batch_size: 32  hidden_size: 8  dropout: 0.25\n"
     ]
    },
    {
     "data": {
      "application/vnd.jupyter.widget-view+json": {
       "model_id": "8a67893df1a9465ea229104ad47056e1",
       "version_major": 2,
       "version_minor": 0
      },
      "text/plain": [
       "  0%|          | 0/10000 [00:00<?, ?it/s]"
      ]
     },
     "metadata": {},
     "output_type": "display_data"
    },
    {
     "name": "stdout",
     "output_type": "stream",
     "text": [
      "\n",
      " Early Stopping / epoch: 185 loss: 0.0524\n",
      "-------------------------------------------------------------------------------------\n",
      "lr: 1e-05  patience: 20  num_layers: 8  batch_size: 32  hidden_size: 16  dropout: 0.25\n"
     ]
    },
    {
     "data": {
      "application/vnd.jupyter.widget-view+json": {
       "model_id": "3882a39317f54308a7d5029342f536b8",
       "version_major": 2,
       "version_minor": 0
      },
      "text/plain": [
       "  0%|          | 0/10000 [00:00<?, ?it/s]"
      ]
     },
     "metadata": {},
     "output_type": "display_data"
    },
    {
     "name": "stdout",
     "output_type": "stream",
     "text": [
      "\n",
      " Early Stopping / epoch: 129 loss: 0.0530\n",
      "-------------------------------------------------------------------------------------\n",
      "lr: 1e-05  patience: 20  num_layers: 8  batch_size: 32  hidden_size: 32  dropout: 0.25\n"
     ]
    },
    {
     "data": {
      "application/vnd.jupyter.widget-view+json": {
       "model_id": "36aef918518f43f294347dd35a01e3eb",
       "version_major": 2,
       "version_minor": 0
      },
      "text/plain": [
       "  0%|          | 0/10000 [00:00<?, ?it/s]"
      ]
     },
     "metadata": {},
     "output_type": "display_data"
    },
    {
     "name": "stdout",
     "output_type": "stream",
     "text": [
      "\n",
      " Early Stopping / epoch: 101 loss: 0.0534\n",
      "-------------------------------------------------------------------------------------\n",
      "lr: 1e-05  patience: 20  num_layers: 8  batch_size: 64  hidden_size: 8  dropout: 0.25\n"
     ]
    },
    {
     "data": {
      "application/vnd.jupyter.widget-view+json": {
       "model_id": "7f6b41d1a13d4a138b5c255af05c81af",
       "version_major": 2,
       "version_minor": 0
      },
      "text/plain": [
       "  0%|          | 0/10000 [00:00<?, ?it/s]"
      ]
     },
     "metadata": {},
     "output_type": "display_data"
    },
    {
     "name": "stdout",
     "output_type": "stream",
     "text": [
      "\n",
      " Early Stopping / epoch: 293 loss: 0.0502\n",
      "-------------------------------------------------------------------------------------\n",
      "lr: 1e-05  patience: 20  num_layers: 8  batch_size: 64  hidden_size: 16  dropout: 0.25\n"
     ]
    },
    {
     "data": {
      "application/vnd.jupyter.widget-view+json": {
       "model_id": "dbc185fe035043d3a44634e851ac7f48",
       "version_major": 2,
       "version_minor": 0
      },
      "text/plain": [
       "  0%|          | 0/10000 [00:00<?, ?it/s]"
      ]
     },
     "metadata": {},
     "output_type": "display_data"
    },
    {
     "name": "stdout",
     "output_type": "stream",
     "text": [
      "\n",
      " Early Stopping / epoch: 150 loss: 0.0515\n",
      "-------------------------------------------------------------------------------------\n",
      "lr: 1e-05  patience: 20  num_layers: 8  batch_size: 64  hidden_size: 32  dropout: 0.25\n"
     ]
    },
    {
     "data": {
      "application/vnd.jupyter.widget-view+json": {
       "model_id": "659821c8090241c8a9e99a6c5cfe20b7",
       "version_major": 2,
       "version_minor": 0
      },
      "text/plain": [
       "  0%|          | 0/10000 [00:00<?, ?it/s]"
      ]
     },
     "metadata": {},
     "output_type": "display_data"
    },
    {
     "name": "stdout",
     "output_type": "stream",
     "text": [
      "\n",
      " Early Stopping / epoch: 41 loss: 0.0494\n",
      "-------------------------------------------------------------------------------------\n",
      "lr: 1e-05  patience: 50  num_layers: 1  batch_size: 32  hidden_size: 8  dropout: 0.25\n"
     ]
    },
    {
     "data": {
      "application/vnd.jupyter.widget-view+json": {
       "model_id": "a8283276b9624fbe816acc57cfc2a944",
       "version_major": 2,
       "version_minor": 0
      },
      "text/plain": [
       "  0%|          | 0/10000 [00:00<?, ?it/s]"
      ]
     },
     "metadata": {},
     "output_type": "display_data"
    },
    {
     "name": "stdout",
     "output_type": "stream",
     "text": [
      "\n",
      " Early Stopping / epoch: 9221 loss: 0.0000\n",
      "-------------------------------------------------------------------------------------\n",
      "lr: 1e-05  patience: 50  num_layers: 1  batch_size: 32  hidden_size: 16  dropout: 0.25\n"
     ]
    },
    {
     "data": {
      "application/vnd.jupyter.widget-view+json": {
       "model_id": "241cd342007348a894965c2ca9f02ba2",
       "version_major": 2,
       "version_minor": 0
      },
      "text/plain": [
       "  0%|          | 0/10000 [00:00<?, ?it/s]"
      ]
     },
     "metadata": {},
     "output_type": "display_data"
    },
    {
     "name": "stdout",
     "output_type": "stream",
     "text": [
      "\n",
      " Early Stopping / epoch: 4790 loss: 0.0000\n",
      "-------------------------------------------------------------------------------------\n",
      "lr: 1e-05  patience: 50  num_layers: 1  batch_size: 32  hidden_size: 32  dropout: 0.25\n"
     ]
    },
    {
     "data": {
      "application/vnd.jupyter.widget-view+json": {
       "model_id": "e5fb3106f3524598a33f3c6671fc9757",
       "version_major": 2,
       "version_minor": 0
      },
      "text/plain": [
       "  0%|          | 0/10000 [00:00<?, ?it/s]"
      ]
     },
     "metadata": {},
     "output_type": "display_data"
    },
    {
     "name": "stdout",
     "output_type": "stream",
     "text": [
      "\n",
      " Early Stopping / epoch: 4825 loss: 0.0000\n",
      "-------------------------------------------------------------------------------------\n",
      "lr: 1e-05  patience: 50  num_layers: 1  batch_size: 64  hidden_size: 8  dropout: 0.25\n"
     ]
    },
    {
     "data": {
      "application/vnd.jupyter.widget-view+json": {
       "model_id": "7a13ddcab98f45a98987e52a248951b9",
       "version_major": 2,
       "version_minor": 0
      },
      "text/plain": [
       "  0%|          | 0/10000 [00:00<?, ?it/s]"
      ]
     },
     "metadata": {},
     "output_type": "display_data"
    },
    {
     "name": "stdout",
     "output_type": "stream",
     "text": [
      "-------------------------------------------------------------------------------------\n",
      "lr: 1e-05  patience: 50  num_layers: 1  batch_size: 64  hidden_size: 16  dropout: 0.25\n"
     ]
    },
    {
     "data": {
      "application/vnd.jupyter.widget-view+json": {
       "model_id": "6c03d27276c94aaaad88e1d68ec4b0db",
       "version_major": 2,
       "version_minor": 0
      },
      "text/plain": [
       "  0%|          | 0/10000 [00:00<?, ?it/s]"
      ]
     },
     "metadata": {},
     "output_type": "display_data"
    },
    {
     "name": "stdout",
     "output_type": "stream",
     "text": [
      "\n",
      " Early Stopping / epoch: 7959 loss: 0.0000\n",
      "-------------------------------------------------------------------------------------\n",
      "lr: 1e-05  patience: 50  num_layers: 1  batch_size: 64  hidden_size: 32  dropout: 0.25\n"
     ]
    },
    {
     "data": {
      "application/vnd.jupyter.widget-view+json": {
       "model_id": "c9f4ad38839b419e96c61c89a85ebd92",
       "version_major": 2,
       "version_minor": 0
      },
      "text/plain": [
       "  0%|          | 0/10000 [00:00<?, ?it/s]"
      ]
     },
     "metadata": {},
     "output_type": "display_data"
    },
    {
     "name": "stdout",
     "output_type": "stream",
     "text": [
      "\n",
      " Early Stopping / epoch: 6492 loss: 0.0000\n",
      "-------------------------------------------------------------------------------------\n",
      "lr: 1e-05  patience: 50  num_layers: 2  batch_size: 32  hidden_size: 8  dropout: 0.25\n"
     ]
    },
    {
     "data": {
      "application/vnd.jupyter.widget-view+json": {
       "model_id": "78a108c9875b4ce59a69cb8aaaded41c",
       "version_major": 2,
       "version_minor": 0
      },
      "text/plain": [
       "  0%|          | 0/10000 [00:00<?, ?it/s]"
      ]
     },
     "metadata": {},
     "output_type": "display_data"
    },
    {
     "name": "stdout",
     "output_type": "stream",
     "text": [
      "\n",
      " Early Stopping / epoch: 154 loss: 0.0512\n",
      "-------------------------------------------------------------------------------------\n",
      "lr: 1e-05  patience: 50  num_layers: 2  batch_size: 32  hidden_size: 16  dropout: 0.25\n"
     ]
    },
    {
     "data": {
      "application/vnd.jupyter.widget-view+json": {
       "model_id": "afec5d6511614bc4830ae19f7040bada",
       "version_major": 2,
       "version_minor": 0
      },
      "text/plain": [
       "  0%|          | 0/10000 [00:00<?, ?it/s]"
      ]
     },
     "metadata": {},
     "output_type": "display_data"
    },
    {
     "name": "stdout",
     "output_type": "stream",
     "text": [
      "\n",
      " Early Stopping / epoch: 781 loss: 0.0109\n",
      "-------------------------------------------------------------------------------------\n",
      "lr: 1e-05  patience: 50  num_layers: 2  batch_size: 32  hidden_size: 32  dropout: 0.25\n"
     ]
    },
    {
     "data": {
      "application/vnd.jupyter.widget-view+json": {
       "model_id": "af6eabb0b31f447a99357bd73271dfa3",
       "version_major": 2,
       "version_minor": 0
      },
      "text/plain": [
       "  0%|          | 0/10000 [00:00<?, ?it/s]"
      ]
     },
     "metadata": {},
     "output_type": "display_data"
    },
    {
     "name": "stdout",
     "output_type": "stream",
     "text": [
      "\n",
      " Early Stopping / epoch: 456 loss: 0.0098\n",
      "-------------------------------------------------------------------------------------\n",
      "lr: 1e-05  patience: 50  num_layers: 2  batch_size: 64  hidden_size: 8  dropout: 0.25\n"
     ]
    },
    {
     "data": {
      "application/vnd.jupyter.widget-view+json": {
       "model_id": "f20021599b564b6dac0e44f01dd6238f",
       "version_major": 2,
       "version_minor": 0
      },
      "text/plain": [
       "  0%|          | 0/10000 [00:00<?, ?it/s]"
      ]
     },
     "metadata": {},
     "output_type": "display_data"
    },
    {
     "name": "stdout",
     "output_type": "stream",
     "text": [
      "\n",
      " Early Stopping / epoch: 716 loss: 0.0121\n",
      "-------------------------------------------------------------------------------------\n",
      "lr: 1e-05  patience: 50  num_layers: 2  batch_size: 64  hidden_size: 16  dropout: 0.25\n"
     ]
    },
    {
     "data": {
      "application/vnd.jupyter.widget-view+json": {
       "model_id": "5c18f9577d1045b38c804f5ea285c589",
       "version_major": 2,
       "version_minor": 0
      },
      "text/plain": [
       "  0%|          | 0/10000 [00:00<?, ?it/s]"
      ]
     },
     "metadata": {},
     "output_type": "display_data"
    },
    {
     "name": "stdout",
     "output_type": "stream",
     "text": [
      "\n",
      " Early Stopping / epoch: 676 loss: 0.0087\n",
      "-------------------------------------------------------------------------------------\n",
      "lr: 1e-05  patience: 50  num_layers: 2  batch_size: 64  hidden_size: 32  dropout: 0.25\n"
     ]
    },
    {
     "data": {
      "application/vnd.jupyter.widget-view+json": {
       "model_id": "4958074162da4643ba30ae6100f7b2db",
       "version_major": 2,
       "version_minor": 0
      },
      "text/plain": [
       "  0%|          | 0/10000 [00:00<?, ?it/s]"
      ]
     },
     "metadata": {},
     "output_type": "display_data"
    },
    {
     "name": "stdout",
     "output_type": "stream",
     "text": [
      "\n",
      " Early Stopping / epoch: 413 loss: 0.0089\n",
      "-------------------------------------------------------------------------------------\n",
      "lr: 1e-05  patience: 50  num_layers: 4  batch_size: 32  hidden_size: 8  dropout: 0.25\n"
     ]
    },
    {
     "data": {
      "application/vnd.jupyter.widget-view+json": {
       "model_id": "1e6382c88eca4f8ea88f3a6f7d04df0d",
       "version_major": 2,
       "version_minor": 0
      },
      "text/plain": [
       "  0%|          | 0/10000 [00:00<?, ?it/s]"
      ]
     },
     "metadata": {},
     "output_type": "display_data"
    },
    {
     "name": "stdout",
     "output_type": "stream",
     "text": [
      "\n",
      " Early Stopping / epoch: 255 loss: 0.0508\n",
      "-------------------------------------------------------------------------------------\n",
      "lr: 1e-05  patience: 50  num_layers: 4  batch_size: 32  hidden_size: 16  dropout: 0.25\n"
     ]
    },
    {
     "data": {
      "application/vnd.jupyter.widget-view+json": {
       "model_id": "4490eb751b0249a0a82ab61e3fcb6b06",
       "version_major": 2,
       "version_minor": 0
      },
      "text/plain": [
       "  0%|          | 0/10000 [00:00<?, ?it/s]"
      ]
     },
     "metadata": {},
     "output_type": "display_data"
    },
    {
     "name": "stdout",
     "output_type": "stream",
     "text": [
      "\n",
      " Early Stopping / epoch: 326 loss: 0.0452\n",
      "-------------------------------------------------------------------------------------\n",
      "lr: 1e-05  patience: 50  num_layers: 4  batch_size: 32  hidden_size: 32  dropout: 0.25\n"
     ]
    },
    {
     "data": {
      "application/vnd.jupyter.widget-view+json": {
       "model_id": "2eeecc4669b244c7b400469988e720e1",
       "version_major": 2,
       "version_minor": 0
      },
      "text/plain": [
       "  0%|          | 0/10000 [00:00<?, ?it/s]"
      ]
     },
     "metadata": {},
     "output_type": "display_data"
    },
    {
     "name": "stdout",
     "output_type": "stream",
     "text": [
      "\n",
      " Early Stopping / epoch: 448 loss: 0.0120\n",
      "-------------------------------------------------------------------------------------\n",
      "lr: 1e-05  patience: 50  num_layers: 4  batch_size: 64  hidden_size: 8  dropout: 0.25\n"
     ]
    },
    {
     "data": {
      "application/vnd.jupyter.widget-view+json": {
       "model_id": "9c1f445448264957b9bc92d300b7d460",
       "version_major": 2,
       "version_minor": 0
      },
      "text/plain": [
       "  0%|          | 0/10000 [00:00<?, ?it/s]"
      ]
     },
     "metadata": {},
     "output_type": "display_data"
    },
    {
     "name": "stdout",
     "output_type": "stream",
     "text": [
      "\n",
      " Early Stopping / epoch: 279 loss: 0.0495\n",
      "-------------------------------------------------------------------------------------\n",
      "lr: 1e-05  patience: 50  num_layers: 4  batch_size: 64  hidden_size: 16  dropout: 0.25\n"
     ]
    },
    {
     "data": {
      "application/vnd.jupyter.widget-view+json": {
       "model_id": "9043375bb4b7444cb3ab9c702b5e1d84",
       "version_major": 2,
       "version_minor": 0
      },
      "text/plain": [
       "  0%|          | 0/10000 [00:00<?, ?it/s]"
      ]
     },
     "metadata": {},
     "output_type": "display_data"
    },
    {
     "name": "stdout",
     "output_type": "stream",
     "text": [
      "\n",
      " Early Stopping / epoch: 869 loss: 0.0129\n",
      "-------------------------------------------------------------------------------------\n",
      "lr: 1e-05  patience: 50  num_layers: 4  batch_size: 64  hidden_size: 32  dropout: 0.25\n"
     ]
    },
    {
     "data": {
      "application/vnd.jupyter.widget-view+json": {
       "model_id": "7e34a08fef134a1e9399a1b225377d69",
       "version_major": 2,
       "version_minor": 0
      },
      "text/plain": [
       "  0%|          | 0/10000 [00:00<?, ?it/s]"
      ]
     },
     "metadata": {},
     "output_type": "display_data"
    },
    {
     "name": "stdout",
     "output_type": "stream",
     "text": [
      "\n",
      " Early Stopping / epoch: 502 loss: 0.0118\n",
      "-------------------------------------------------------------------------------------\n",
      "lr: 1e-05  patience: 50  num_layers: 8  batch_size: 32  hidden_size: 8  dropout: 0.25\n"
     ]
    },
    {
     "data": {
      "application/vnd.jupyter.widget-view+json": {
       "model_id": "4426a99446b84615960061a9aaa33db8",
       "version_major": 2,
       "version_minor": 0
      },
      "text/plain": [
       "  0%|          | 0/10000 [00:00<?, ?it/s]"
      ]
     },
     "metadata": {},
     "output_type": "display_data"
    },
    {
     "name": "stdout",
     "output_type": "stream",
     "text": [
      "\n",
      " Early Stopping / epoch: 206 loss: 0.0517\n",
      "-------------------------------------------------------------------------------------\n",
      "lr: 1e-05  patience: 50  num_layers: 8  batch_size: 32  hidden_size: 16  dropout: 0.25\n"
     ]
    },
    {
     "data": {
      "application/vnd.jupyter.widget-view+json": {
       "model_id": "6c261e52d9a04025bdcc3fdf5daf09da",
       "version_major": 2,
       "version_minor": 0
      },
      "text/plain": [
       "  0%|          | 0/10000 [00:00<?, ?it/s]"
      ]
     },
     "metadata": {},
     "output_type": "display_data"
    },
    {
     "name": "stdout",
     "output_type": "stream",
     "text": [
      "\n",
      " Early Stopping / epoch: 178 loss: 0.0516\n",
      "-------------------------------------------------------------------------------------\n",
      "lr: 1e-05  patience: 50  num_layers: 8  batch_size: 32  hidden_size: 32  dropout: 0.25\n"
     ]
    },
    {
     "data": {
      "application/vnd.jupyter.widget-view+json": {
       "model_id": "fef727f48a594947aafb210b0704d5b1",
       "version_major": 2,
       "version_minor": 0
      },
      "text/plain": [
       "  0%|          | 0/10000 [00:00<?, ?it/s]"
      ]
     },
     "metadata": {},
     "output_type": "display_data"
    },
    {
     "name": "stdout",
     "output_type": "stream",
     "text": [
      "\n",
      " Early Stopping / epoch: 110 loss: 0.0532\n",
      "-------------------------------------------------------------------------------------\n",
      "lr: 1e-05  patience: 50  num_layers: 8  batch_size: 64  hidden_size: 8  dropout: 0.25\n"
     ]
    },
    {
     "data": {
      "application/vnd.jupyter.widget-view+json": {
       "model_id": "a56391c496e5431986ba3b003cfda3f9",
       "version_major": 2,
       "version_minor": 0
      },
      "text/plain": [
       "  0%|          | 0/10000 [00:00<?, ?it/s]"
      ]
     },
     "metadata": {},
     "output_type": "display_data"
    },
    {
     "name": "stdout",
     "output_type": "stream",
     "text": [
      "\n",
      " Early Stopping / epoch: 186 loss: 0.0509\n",
      "-------------------------------------------------------------------------------------\n",
      "lr: 1e-05  patience: 50  num_layers: 8  batch_size: 64  hidden_size: 16  dropout: 0.25\n"
     ]
    },
    {
     "data": {
      "application/vnd.jupyter.widget-view+json": {
       "model_id": "4a8dad679f774e51a468767591340da4",
       "version_major": 2,
       "version_minor": 0
      },
      "text/plain": [
       "  0%|          | 0/10000 [00:00<?, ?it/s]"
      ]
     },
     "metadata": {},
     "output_type": "display_data"
    },
    {
     "name": "stdout",
     "output_type": "stream",
     "text": [
      "\n",
      " Early Stopping / epoch: 170 loss: 0.0504\n",
      "-------------------------------------------------------------------------------------\n",
      "lr: 1e-05  patience: 50  num_layers: 8  batch_size: 64  hidden_size: 32  dropout: 0.25\n"
     ]
    },
    {
     "data": {
      "application/vnd.jupyter.widget-view+json": {
       "model_id": "a5aef72a6e7b4945a4ce83bd4b1a8367",
       "version_major": 2,
       "version_minor": 0
      },
      "text/plain": [
       "  0%|          | 0/10000 [00:00<?, ?it/s]"
      ]
     },
     "metadata": {},
     "output_type": "display_data"
    },
    {
     "name": "stdout",
     "output_type": "stream",
     "text": [
      "\n",
      " Early Stopping / epoch: 111 loss: 0.0522\n"
     ]
    }
   ],
   "source": [
    "criterion = nn.MSELoss()\n",
    "\n",
    "input_size = 3\n",
    "sequence_length = 60\n",
    "num_epochs = 10000\n",
    "\n",
    "df = Prepare_df.processing(data, 'stdDay', 'delta_variants')\n",
    "\n",
    "x = df.iloc[:, 0:]\n",
    "y = df.iloc[:,:1]\n",
    "\n",
    "ms = MinMaxScaler()\n",
    "ss = StandardScaler()\n",
    "\n",
    "ss.fit(x)\n",
    "ms.fit(y)\n",
    "\n",
    "rmse_min = np.inf\n",
    "best_model = {}\n",
    "\n",
    "for hyperparameter in tqdm(hyperparameter_dict.values(), desc = '대구_RNN', position = 0):\n",
    "    lr = hyperparameter[0]\n",
    "    patience = hyperparameter[1]\n",
    "    num_layers = hyperparameter[2]\n",
    "    batch_size = hyperparameter[3]\n",
    "    hidden_size = hyperparameter[4]\n",
    "    dropout = hyperparameter[5]\n",
    "    print('-------------------------------------------------------------------------------------')\n",
    "    print('lr:', lr, ' patience:', patience, ' num_layers:', num_layers, \n",
    "          ' batch_size:', batch_size, ' hidden_size:', hidden_size, ' dropout:', dropout)\n",
    "    \n",
    "    x, y, x_ss, y_ms, train_loader, test_loader = Prepare_df.split_data(df, 59, 60, 1, batch_size, 'mto')\n",
    "    \n",
    "\n",
    "    model = RNN(input_size = input_size,\n",
    "                hidden_size = hidden_size,\n",
    "                sequence_length = sequence_length,\n",
    "                num_layers = num_layers, \n",
    "                dropout = dropout, \n",
    "                device = device).to(device)\n",
    "\n",
    "    optimizer = Adam(model.parameters(), lr = lr)\n",
    "    \n",
    "    loss_list, model, epoch = Trainer.Many_to_One(train_loader, \n",
    "                                                  test_loader, \n",
    "                                                  model, \n",
    "                                                  criterion, \n",
    "                                                  optimizer, \n",
    "                                                  num_epochs, \n",
    "                                                  patience,\n",
    "                                                  device)\n",
    "    \n",
    "    label_y, predicted = predict_mto(model, df, x_ss, y_ms)\n",
    "    \n",
    "    if rmse_min > rmse(label_y[-7:], predicted[-7:]):\n",
    "        rmse_min = rmse(label_y[-7:], predicted[-7:])\n",
    "        best_model['RNN'] = [rmse_min, model, loss_list, epoch, lr, patience, \n",
    "                             num_layers, batch_size, hidden_size, dropout]"
   ]
  },
  {
   "cell_type": "code",
   "execution_count": 5,
   "id": "3a966905",
   "metadata": {
    "ExecuteTime": {
     "end_time": "2023-06-06T07:55:05.933295Z",
     "start_time": "2023-06-06T07:55:05.904373Z"
    }
   },
   "outputs": [
    {
     "data": {
      "text/plain": [
       "{'RNN': [4.053481905832698,\n",
       "  RNN(\n",
       "    (rnn): RNN(3, 8, batch_first=True, dropout=0.25)\n",
       "    (fc1): Linear(in_features=480, out_features=128, bias=True)\n",
       "    (fc2): Linear(in_features=128, out_features=64, bias=True)\n",
       "    (fc3): Linear(in_features=64, out_features=1, bias=True)\n",
       "    (relu): ReLU()\n",
       "  ),\n",
       "  [0.10616245120763779,\n",
       "   0.10543087869882584,\n",
       "   0.10470395535230637,\n",
       "   0.10398267209529877,\n",
       "   0.10326603800058365,\n",
       "   0.10255181789398193,\n",
       "   0.10184080898761749,\n",
       "   0.10113401710987091,\n",
       "   0.10043187439441681,\n",
       "   0.09973514825105667,\n",
       "   0.09904340654611588,\n",
       "   0.09835661947727203,\n",
       "   0.09767688810825348,\n",
       "   0.09700503945350647,\n",
       "   0.09634015709161758,\n",
       "   0.09568115323781967,\n",
       "   0.09502781182527542,\n",
       "   0.09438065439462662,\n",
       "   0.09374010562896729,\n",
       "   0.09310589730739594,\n",
       "   0.09247870743274689,\n",
       "   0.09185831248760223,\n",
       "   0.09124631434679031,\n",
       "   0.09064041823148727,\n",
       "   0.09004251658916473,\n",
       "   0.0894494578242302,\n",
       "   0.08886120468378067,\n",
       "   0.08827817440032959,\n",
       "   0.08769971132278442,\n",
       "   0.08712377399206161,\n",
       "   0.0865529254078865,\n",
       "   0.08598597347736359,\n",
       "   0.08542414009571075,\n",
       "   0.08486780524253845,\n",
       "   0.08431541919708252,\n",
       "   0.08376826345920563,\n",
       "   0.0832270085811615,\n",
       "   0.0826912447810173,\n",
       "   0.08216197043657303,\n",
       "   0.08164122700691223,\n",
       "   0.08112916350364685,\n",
       "   0.08062536269426346,\n",
       "   0.08012925833463669,\n",
       "   0.07964032143354416,\n",
       "   0.07915639132261276,\n",
       "   0.07867737859487534,\n",
       "   0.07820494472980499,\n",
       "   0.07774196565151215,\n",
       "   0.07728536427021027,\n",
       "   0.07683362811803818,\n",
       "   0.07638828456401825,\n",
       "   0.07594947516918182,\n",
       "   0.07551799714565277,\n",
       "   0.07509320974349976,\n",
       "   0.07467622309923172,\n",
       "   0.07426521927118301,\n",
       "   0.07386033236980438,\n",
       "   0.07346078008413315,\n",
       "   0.07306674867868423,\n",
       "   0.07267892360687256,\n",
       "   0.07229729741811752,\n",
       "   0.07192275673151016,\n",
       "   0.07155483216047287,\n",
       "   0.07119081169366837,\n",
       "   0.07083290815353394,\n",
       "   0.0704820305109024,\n",
       "   0.0701383650302887,\n",
       "   0.06979979574680328,\n",
       "   0.06946468353271484,\n",
       "   0.06912917643785477,\n",
       "   0.06879615783691406,\n",
       "   0.06846850365400314,\n",
       "   0.06814511865377426,\n",
       "   0.06782491505146027,\n",
       "   0.06750882416963577,\n",
       "   0.06719637662172318,\n",
       "   0.06688784062862396,\n",
       "   0.06658285856246948,\n",
       "   0.06627914309501648,\n",
       "   0.0659782737493515,\n",
       "   0.0656823143362999,\n",
       "   0.06539051979780197,\n",
       "   0.06510426849126816,\n",
       "   0.06482383608818054,\n",
       "   0.06454731523990631,\n",
       "   0.0642748698592186,\n",
       "   0.06400573253631592,\n",
       "   0.06373953074216843,\n",
       "   0.06347619742155075,\n",
       "   0.06321433186531067,\n",
       "   0.0629546120762825,\n",
       "   0.06269676238298416,\n",
       "   0.062441445887088776,\n",
       "   0.062188610434532166,\n",
       "   0.06193771958351135,\n",
       "   0.06168955937027931,\n",
       "   0.06144402548670769,\n",
       "   0.06120169535279274,\n",
       "   0.06096207723021507,\n",
       "   0.06072516739368439,\n",
       "   0.06049138307571411,\n",
       "   0.06026073917746544,\n",
       "   0.06003275886178017,\n",
       "   0.05980673432350159,\n",
       "   0.05958310514688492,\n",
       "   0.05936245247721672,\n",
       "   0.05914435163140297,\n",
       "   0.05892915651202202,\n",
       "   0.05871644988656044,\n",
       "   0.0585077665746212,\n",
       "   0.05830121412873268,\n",
       "   0.05809684842824936,\n",
       "   0.057894520461559296,\n",
       "   0.057694852352142334,\n",
       "   0.0574982650578022,\n",
       "   0.057303138077259064,\n",
       "   0.05710997059941292,\n",
       "   0.05692041665315628,\n",
       "   0.05673237890005112,\n",
       "   0.0565454438328743,\n",
       "   0.05636030435562134,\n",
       "   0.05617683008313179,\n",
       "   0.055994752794504166,\n",
       "   0.055813733488321304,\n",
       "   0.05563398078083992,\n",
       "   0.055454667657613754,\n",
       "   0.055275917053222656,\n",
       "   0.05509808287024498,\n",
       "   0.054920025169849396,\n",
       "   0.05474315956234932,\n",
       "   0.054567594081163406,\n",
       "   0.054392874240875244,\n",
       "   0.05421866476535797,\n",
       "   0.05404527857899666,\n",
       "   0.053872834891080856,\n",
       "   0.05370029807090759,\n",
       "   0.053527556359767914,\n",
       "   0.05335491523146629,\n",
       "   0.05318308249115944,\n",
       "   0.053011875599622726,\n",
       "   0.05284054949879646,\n",
       "   0.05266912281513214,\n",
       "   0.05249800905585289,\n",
       "   0.05232755467295647,\n",
       "   0.05215730890631676,\n",
       "   0.05198737606406212,\n",
       "   0.05181816220283508,\n",
       "   0.05164947360754013,\n",
       "   0.05148093029856682,\n",
       "   0.05131449177861214,\n",
       "   0.051149409264326096,\n",
       "   0.05098510906100273,\n",
       "   0.05082174390554428,\n",
       "   0.0506594218313694,\n",
       "   0.05049732327461243,\n",
       "   0.05033605545759201,\n",
       "   0.05017504841089249,\n",
       "   0.05001471936702728,\n",
       "   0.049855075776576996,\n",
       "   0.0496956966817379,\n",
       "   0.04953682795166969,\n",
       "   0.04937947914004326,\n",
       "   0.04922240227460861,\n",
       "   0.04906618967652321,\n",
       "   0.04891086369752884,\n",
       "   0.04875607416033745,\n",
       "   0.04860169067978859,\n",
       "   0.048447974026203156,\n",
       "   0.048295293003320694,\n",
       "   0.04814349114894867,\n",
       "   0.04799305647611618,\n",
       "   0.04784331098198891,\n",
       "   0.04769541695713997,\n",
       "   0.04754819720983505,\n",
       "   0.04740099608898163,\n",
       "   0.047254618257284164,\n",
       "   0.04710874706506729,\n",
       "   0.04696320742368698,\n",
       "   0.04681791737675667,\n",
       "   0.04667315259575844,\n",
       "   0.04652903601527214,\n",
       "   0.04638595134019852,\n",
       "   0.046243198215961456,\n",
       "   0.04610074311494827,\n",
       "   0.04595918580889702,\n",
       "   0.04581771790981293,\n",
       "   0.04567769169807434,\n",
       "   0.04553861916065216,\n",
       "   0.04539965093135834,\n",
       "   0.045260507613420486,\n",
       "   0.04512157291173935,\n",
       "   0.044983282685279846,\n",
       "   0.04484544321894646,\n",
       "   0.044708188623189926,\n",
       "   0.044571418315172195,\n",
       "   0.044435348361730576,\n",
       "   0.044298626482486725,\n",
       "   0.04416201263666153,\n",
       "   0.04402551427483559,\n",
       "   0.043889645487070084,\n",
       "   0.04375399276614189,\n",
       "   0.04361889511346817,\n",
       "   0.04348362982273102,\n",
       "   0.04334831237792969,\n",
       "   0.043213896453380585,\n",
       "   0.04308006167411804,\n",
       "   0.04294687137007713,\n",
       "   0.04281372204422951,\n",
       "   0.042681388556957245,\n",
       "   0.04254944995045662,\n",
       "   0.04241782799363136,\n",
       "   0.04228692129254341,\n",
       "   0.04215698689222336,\n",
       "   0.04202757775783539,\n",
       "   0.04189887270331383,\n",
       "   0.04177071526646614,\n",
       "   0.041643176227808,\n",
       "   0.04151536151766777,\n",
       "   0.04138787463307381,\n",
       "   0.04126132279634476,\n",
       "   0.04113493859767914,\n",
       "   0.041008949279785156,\n",
       "   0.0408831462264061,\n",
       "   0.04075724259018898,\n",
       "   0.04063159227371216,\n",
       "   0.04050617665052414,\n",
       "   0.040381334722042084,\n",
       "   0.04025685414671898,\n",
       "   0.04013267904520035,\n",
       "   0.04000956565141678,\n",
       "   0.039886899292469025,\n",
       "   0.03976510092616081,\n",
       "   0.03964380919933319,\n",
       "   0.039522916078567505,\n",
       "   0.039402082562446594,\n",
       "   0.039281584322452545,\n",
       "   0.039162036031484604,\n",
       "   0.03904277831315994,\n",
       "   0.038924045860767365,\n",
       "   0.03880636394023895,\n",
       "   0.03868890553712845,\n",
       "   0.03857184946537018,\n",
       "   0.03845582529902458,\n",
       "   0.03834047541022301,\n",
       "   0.038225576281547546,\n",
       "   0.03811093047261238,\n",
       "   0.037996940314769745,\n",
       "   0.0378832072019577,\n",
       "   0.03776982054114342,\n",
       "   0.03765689954161644,\n",
       "   0.03754407912492752,\n",
       "   0.037431295961141586,\n",
       "   0.03731883689761162,\n",
       "   0.03720662742853165,\n",
       "   0.0370946079492569,\n",
       "   0.036982662975788116,\n",
       "   0.03687089681625366,\n",
       "   0.03675920516252518,\n",
       "   0.03664775192737579,\n",
       "   0.0365363210439682,\n",
       "   0.036424845457077026,\n",
       "   0.03631366416811943,\n",
       "   0.03620292618870735,\n",
       "   0.036091942340135574,\n",
       "   0.03598089888691902,\n",
       "   0.03586988151073456,\n",
       "   0.03575886785984039,\n",
       "   0.035648174583911896,\n",
       "   0.03553767874836922,\n",
       "   0.03542753681540489,\n",
       "   0.03531753271818161,\n",
       "   0.035207804292440414,\n",
       "   0.0350983664393425,\n",
       "   0.03498923406004906,\n",
       "   0.03488120809197426,\n",
       "   0.03477348014712334,\n",
       "   0.03466590866446495,\n",
       "   0.03455837443470955,\n",
       "   0.034450989216566086,\n",
       "   0.034343548119068146,\n",
       "   0.0342361144721508,\n",
       "   0.03412877768278122,\n",
       "   0.034021999686956406,\n",
       "   0.03391527757048607,\n",
       "   0.03380858898162842,\n",
       "   0.033702049404382706,\n",
       "   0.03359558805823326,\n",
       "   0.03348895162343979,\n",
       "   0.03338243067264557,\n",
       "   0.0332757793366909,\n",
       "   0.03316954895853996,\n",
       "   0.03306318819522858,\n",
       "   0.032956600189208984,\n",
       "   0.03284979984164238,\n",
       "   0.03274274617433548,\n",
       "   0.032635677605867386,\n",
       "   0.03252864629030228,\n",
       "   0.03242161497473717,\n",
       "   0.03231443092226982,\n",
       "   0.03220740333199501,\n",
       "   0.032100602984428406,\n",
       "   0.031993985176086426,\n",
       "   0.03188760578632355,\n",
       "   0.03178109973669052,\n",
       "   0.03167470172047615,\n",
       "   0.03156832605600357,\n",
       "   0.031462009996175766,\n",
       "   0.03135593608021736,\n",
       "   0.03124997951090336,\n",
       "   0.031143974512815475,\n",
       "   0.031038183718919754,\n",
       "   0.030932655557990074,\n",
       "   0.030827241018414497,\n",
       "   0.030721915885806084,\n",
       "   0.0306167583912611,\n",
       "   0.030511589720845222,\n",
       "   0.030406564474105835,\n",
       "   0.030301697552204132,\n",
       "   0.030197281390428543,\n",
       "   0.030092788860201836,\n",
       "   0.029988408088684082,\n",
       "   0.029884252697229385,\n",
       "   0.02978026308119297,\n",
       "   0.029676437377929688,\n",
       "   0.02957265079021454,\n",
       "   0.02946954220533371,\n",
       "   0.029366428032517433,\n",
       "   0.02926357090473175,\n",
       "   0.029160628095269203,\n",
       "   0.029057839885354042,\n",
       "   0.02895539067685604,\n",
       "   0.028853051364421844,\n",
       "   0.02875092811882496,\n",
       "   0.028648942708969116,\n",
       "   0.028547003865242004,\n",
       "   0.028445644304156303,\n",
       "   0.028344586491584778,\n",
       "   0.02824384719133377,\n",
       "   0.02814333699643612,\n",
       "   0.02804306335747242,\n",
       "   0.027943294495344162,\n",
       "   0.027843482792377472,\n",
       "   0.027744008228182793,\n",
       "   0.027644937857985497,\n",
       "   0.027546370401978493,\n",
       "   0.027447707951068878,\n",
       "   0.027349403128027916,\n",
       "   0.027251247316598892,\n",
       "   0.02715306542813778,\n",
       "   0.027055181562900543,\n",
       "   0.026957407593727112,\n",
       "   0.026859808713197708,\n",
       "   0.026762356981635094,\n",
       "   0.026664962992072105,\n",
       "   0.026568088680505753,\n",
       "   0.026471786201000214,\n",
       "   0.026375429704785347,\n",
       "   0.026279253885149956,\n",
       "   0.026183556765317917,\n",
       "   0.026088139042258263,\n",
       "   0.025992676615715027,\n",
       "   0.025896979495882988,\n",
       "   0.02580079436302185,\n",
       "   0.02570444531738758,\n",
       "   0.02560778334736824,\n",
       "   0.02551136538386345,\n",
       "   0.025415008887648582,\n",
       "   0.025318512693047523,\n",
       "   0.025221996009349823,\n",
       "   0.025125039741396904,\n",
       "   0.025028100237250328,\n",
       "   0.024931369349360466,\n",
       "   0.024834711104631424,\n",
       "   0.02473796345293522,\n",
       "   0.024641113355755806,\n",
       "   0.024544503539800644,\n",
       "   0.024447983130812645,\n",
       "   0.024351568892598152,\n",
       "   0.02425547130405903,\n",
       "   0.02415946125984192,\n",
       "   0.02406376227736473,\n",
       "   0.02396818809211254,\n",
       "   0.02387274242937565,\n",
       "   0.023777462542057037,\n",
       "   0.023682421073317528,\n",
       "   0.023587344214320183,\n",
       "   0.023492546752095222,\n",
       "   0.023398099467158318,\n",
       "   0.023303896188735962,\n",
       "   0.023210007697343826,\n",
       "   0.02311619184911251,\n",
       "   0.023022254928946495,\n",
       "   0.02292843721807003,\n",
       "   0.022834833711385727,\n",
       "   0.022741414606571198,\n",
       "   0.022647926583886147,\n",
       "   0.022554639726877213,\n",
       "   0.022461671382188797,\n",
       "   0.02236917056143284,\n",
       "   0.022276822477579117,\n",
       "   0.022184468805789948,\n",
       "   0.022092435508966446,\n",
       "   0.022000694647431374,\n",
       "   0.021909531205892563,\n",
       "   0.021818682551383972,\n",
       "   0.02172795869410038,\n",
       "   0.021637726575136185,\n",
       "   0.021547822281718254,\n",
       "   0.021458247676491737,\n",
       "   0.021369097754359245,\n",
       "   0.021279998123645782,\n",
       "   0.02119099348783493,\n",
       "   0.02110208012163639,\n",
       "   0.021013636142015457,\n",
       "   0.020925208926200867,\n",
       "   0.02083679288625717,\n",
       "   0.020748788490891457,\n",
       "   0.02066083624958992,\n",
       "   0.020573008805513382,\n",
       "   0.020485449582338333,\n",
       "   0.020398098975419998,\n",
       "   0.02031084895133972,\n",
       "   0.020223848521709442,\n",
       "   0.020137088373303413,\n",
       "   0.02005060762166977,\n",
       "   0.01996426098048687,\n",
       "   0.01987825334072113,\n",
       "   0.01979261077940464,\n",
       "   0.019707193598151207,\n",
       "   0.019621970131993294,\n",
       "   0.01953699253499508,\n",
       "   0.01945214532315731,\n",
       "   0.01936766318976879,\n",
       "   0.01928362250328064,\n",
       "   0.019199904054403305,\n",
       "   0.019116215407848358,\n",
       "   0.019032863900065422,\n",
       "   0.01894974894821644,\n",
       "   0.01886690966784954,\n",
       "   0.018784301355481148,\n",
       "   0.018702078610658646,\n",
       "   0.01862027682363987,\n",
       "   0.018539266660809517,\n",
       "   0.018458237871527672,\n",
       "   0.018377408385276794,\n",
       "   0.01829690858721733,\n",
       "   0.01821696199476719,\n",
       "   0.018137099221348763,\n",
       "   0.01805739849805832,\n",
       "   0.0179778840392828,\n",
       "   0.017898526042699814,\n",
       "   0.017819786444306374,\n",
       "   0.017741108313202858,\n",
       "   0.01766282506287098,\n",
       "   0.017584824934601784,\n",
       "   0.017506884410977364,\n",
       "   0.017429189756512642,\n",
       "   0.01735181361436844,\n",
       "   0.01727461628615856,\n",
       "   0.01719789206981659,\n",
       "   0.01712142862379551,\n",
       "   0.017045069485902786,\n",
       "   0.016969146206974983,\n",
       "   0.0168935377150774,\n",
       "   0.016818173229694366,\n",
       "   0.016742924228310585,\n",
       "   0.0166681669652462,\n",
       "   0.01659359037876129,\n",
       "   0.016519373282790184,\n",
       "   0.016445202752947807,\n",
       "   0.016371386125683784,\n",
       "   0.016297869384288788,\n",
       "   0.01622423715889454,\n",
       "   0.016150690615177155,\n",
       "   0.016077440232038498,\n",
       "   0.0160045325756073,\n",
       "   0.015931731089949608,\n",
       "   0.015859030187129974,\n",
       "   0.015786686912178993,\n",
       "   0.015714483335614204,\n",
       "   0.0156425628811121,\n",
       "   0.015571054071187973,\n",
       "   0.015499688684940338,\n",
       "   0.015428255312144756,\n",
       "   0.01535719819366932,\n",
       "   0.015286318026483059,\n",
       "   0.015215694904327393,\n",
       "   0.015145324170589447,\n",
       "   0.015075219795107841,\n",
       "   0.015005400404334068,\n",
       "   0.01493588276207447,\n",
       "   0.01486663892865181,\n",
       "   0.01479768194258213,\n",
       "   0.014729274436831474,\n",
       "   0.014661012217402458,\n",
       "   0.014592762105166912,\n",
       "   0.014524796046316624,\n",
       "   0.014457161538302898,\n",
       "   0.014389872550964355,\n",
       "   0.014322924427688122,\n",
       "   0.014256183989346027,\n",
       "   0.014189877547323704,\n",
       "   0.01412375457584858,\n",
       "   0.01405796967446804,\n",
       "   0.013992560096085072,\n",
       "   0.013927281834185123,\n",
       "   0.013862143270671368,\n",
       "   0.013797423802316189,\n",
       "   0.013733256608247757,\n",
       "   0.013669359497725964,\n",
       "   0.013605440966784954,\n",
       "   0.013541786931455135,\n",
       "   0.013478572480380535,\n",
       "   0.013415702618658543,\n",
       "   0.013352945446968079,\n",
       "   0.01329024974256754,\n",
       "   0.013227986171841621,\n",
       "   0.013165878131985664,\n",
       "   0.01310402899980545,\n",
       "   0.013042567297816277,\n",
       "   0.012981556355953217,\n",
       "   0.012920787557959557,\n",
       "   0.012860417366027832,\n",
       "   0.01280029583722353,\n",
       "   0.012740511447191238,\n",
       "   0.012680991552770138,\n",
       "   0.012621821835637093,\n",
       "   0.012563109397888184,\n",
       "   0.012504803016781807,\n",
       "   0.01244682539254427,\n",
       "   0.012389055453240871,\n",
       "   0.01233171671628952,\n",
       "   0.012274659238755703,\n",
       "   0.012217875570058823,\n",
       "   0.01216132566332817,\n",
       "   0.012105378322303295,\n",
       "   0.01204962283372879,\n",
       "   0.011993837542831898,\n",
       "   0.011938097886741161,\n",
       "   0.011882702820003033,\n",
       "   0.011827564798295498,\n",
       "   0.011772708967328072,\n",
       "   0.011717723682522774,\n",
       "   0.011662633158266544,\n",
       "   0.011607752181589603,\n",
       "   0.011553218588232994,\n",
       "   0.01149900071322918,\n",
       "   0.011444996111094952,\n",
       "   0.011391153559088707,\n",
       "   0.011337817646563053,\n",
       "   0.01128470804542303,\n",
       "   0.011231886222958565,\n",
       "   0.011179438792169094,\n",
       "   0.011127174831926823,\n",
       "   0.011075159534811974,\n",
       "   0.011023517698049545,\n",
       "   0.010972187854349613,\n",
       "   0.010921345092356205,\n",
       "   0.01087066251784563,\n",
       "   0.010820250026881695,\n",
       "   0.010770037770271301,\n",
       "   0.010720141232013702,\n",
       "   0.010670577175915241,\n",
       "   0.010621375404298306,\n",
       "   0.010572453029453754,\n",
       "   0.010523853823542595,\n",
       "   0.010475522838532925,\n",
       "   0.010427406057715416,\n",
       "   0.010379376821219921,\n",
       "   0.010331334546208382,\n",
       "   0.01028364896774292,\n",
       "   0.010236113332211971,\n",
       "   0.010188670828938484,\n",
       "   0.010141282342374325,\n",
       "   0.010094297118484974,\n",
       "   0.01004777941852808,\n",
       "   0.010001404210925102,\n",
       "   0.009955179877579212,\n",
       "   0.009909266605973244,\n",
       "   0.009863490238785744,\n",
       "   0.009818139486014843,\n",
       "   0.009772970341145992,\n",
       "   0.009727979078888893,\n",
       "   0.00968335010111332,\n",
       "   0.009639144875109196,\n",
       "   0.00959520973265171,\n",
       "   0.009551363065838814,\n",
       "   0.009507524780929089,\n",
       "   0.009463825263082981,\n",
       "   0.009420350193977356,\n",
       "   0.009377160109579563,\n",
       "   0.009334184229373932,\n",
       "   0.009291351772844791,\n",
       "   0.009248927235603333,\n",
       "   0.009206704795360565,\n",
       "   0.009164750576019287,\n",
       "   0.009123033843934536,\n",
       "   0.009081515483558178,\n",
       "   0.009040222503244877,\n",
       "   0.008999204263091087,\n",
       "   0.008958462625741959,\n",
       "   0.00891787651926279,\n",
       "   0.008877655491232872,\n",
       "   0.00883761327713728,\n",
       "   0.008797918446362019,\n",
       "   0.008758505806326866,\n",
       "   0.008719297125935555,\n",
       "   0.008680346421897411,\n",
       "   0.008641649037599564,\n",
       "   0.008603231981396675,\n",
       "   0.008564967662096024,\n",
       "   0.008526916615664959,\n",
       "   0.00848899595439434,\n",
       "   0.008451396599411964,\n",
       "   0.00841397512704134,\n",
       "   0.008376732468605042,\n",
       "   0.008339816704392433,\n",
       "   0.008303189650177956,\n",
       "   0.008266692981123924,\n",
       "   0.008230495266616344,\n",
       "   0.008194612339138985,\n",
       "   0.008158962242305279,\n",
       "   0.008123479783535004,\n",
       "   0.008088367059826851,\n",
       "   0.00805352907627821,\n",
       "   0.008018888533115387,\n",
       "   0.007984462194144726,\n",
       "   0.007950235158205032,\n",
       "   0.00791644025593996,\n",
       "   0.00788282509893179,\n",
       "   0.007849574089050293,\n",
       "   0.007816613651812077,\n",
       "   0.007783875800669193,\n",
       "   0.0077513461001217365,\n",
       "   0.007718955632299185,\n",
       "   0.007687021978199482,\n",
       "   0.007655255030840635,\n",
       "   0.007623652461916208,\n",
       "   0.007592302281409502,\n",
       "   0.007561353966593742,\n",
       "   0.007530479226261377,\n",
       "   0.007499874569475651,\n",
       "   0.007469476666301489,\n",
       "   0.0074393125250935555,\n",
       "   0.007409357465803623,\n",
       "   0.007379521150141954,\n",
       "   0.007349999155849218,\n",
       "   0.0073206136003136635,\n",
       "   0.007291420828551054,\n",
       "   0.007262446451932192,\n",
       "   0.0072336052544415,\n",
       "   0.007205043453723192,\n",
       "   0.007176671642810106,\n",
       "   0.007148392032831907,\n",
       "   0.00712044071406126,\n",
       "   0.007092636078596115,\n",
       "   0.0070649124681949615,\n",
       "   0.007037346251308918,\n",
       "   0.00700992438942194,\n",
       "   0.006982697173953056,\n",
       "   0.00695560360327363,\n",
       "   0.006928733084350824,\n",
       "   0.006902033928781748,\n",
       "   0.006875360384583473,\n",
       "   0.006848881486803293,\n",
       "   0.0068224589340388775,\n",
       "   0.006796283181756735,\n",
       "   0.006770400796085596,\n",
       "   0.00674460781738162,\n",
       "   0.006719058845192194,\n",
       "   0.006693573202937841,\n",
       "   0.006668223533779383,\n",
       "   0.006643158849328756,\n",
       "   0.006618237588554621,\n",
       "   0.0065934848971664906,\n",
       "   0.006568846758455038,\n",
       "   0.006544411648064852,\n",
       "   0.006520090624690056,\n",
       "   0.006495926529169083,\n",
       "   0.006471824832260609,\n",
       "   0.006447897292673588,\n",
       "   0.0064241280779242516,\n",
       "   0.006400490179657936,\n",
       "   0.006377047393471003,\n",
       "   0.006353757344186306,\n",
       "   0.006330608390271664,\n",
       "   0.00630749249830842,\n",
       "   0.006284541916102171,\n",
       "   0.006261694245040417,\n",
       "   0.006239093840122223,\n",
       "   0.006216599605977535,\n",
       "   0.006194234825670719,\n",
       "   0.006172020919620991,\n",
       "   0.006149935070425272,\n",
       "   0.0061278557404875755,\n",
       "   0.006105853244662285,\n",
       "   0.006083975546061993,\n",
       "   0.006062254775315523,\n",
       "   0.006040629930794239,\n",
       "   0.006019060034304857,\n",
       "   0.005997617729008198,\n",
       "   0.005976291373372078,\n",
       "   0.005955130327492952,\n",
       "   0.005934016313403845,\n",
       "   0.0059130373410880566,\n",
       "   0.005892186891287565,\n",
       "   0.005871478468179703,\n",
       "   0.005850845482200384,\n",
       "   0.005830170586705208,\n",
       "   0.005809479858726263,\n",
       "   0.00578880961984396,\n",
       "   0.005768127273768187,\n",
       "   0.005747543647885323,\n",
       "   0.005727072712033987,\n",
       "   0.005706691183149815,\n",
       "   0.005686332006007433,\n",
       "   0.005666147917509079,\n",
       "   0.005646121688187122,\n",
       "   0.005626236088573933,\n",
       "   0.00560646690428257,\n",
       "   0.005586797371506691,\n",
       "   0.005567204672843218,\n",
       "   0.005547689273953438,\n",
       "   0.005528375040739775,\n",
       "   0.005509114824235439,\n",
       "   0.005489953327924013,\n",
       "   0.005470970645546913,\n",
       "   0.0054520899429917336,\n",
       "   0.005433347076177597,\n",
       "   0.005414681043475866,\n",
       "   0.005396056454628706,\n",
       "   0.005377622786909342,\n",
       "   0.005359273869544268,\n",
       "   0.0053410157561302185,\n",
       "   0.005322908516973257,\n",
       "   0.005304861348122358,\n",
       "   0.005286877509206533,\n",
       "   0.005269009619951248,\n",
       "   0.005251314491033554,\n",
       "   0.005233719013631344,\n",
       "   0.005216199439018965,\n",
       "   0.005198715720325708,\n",
       "   0.005181353539228439,\n",
       "   0.005164112895727158,\n",
       "   0.005147002171725035,\n",
       "   0.005129991099238396,\n",
       "   0.0051130251958966255,\n",
       "   0.0050962259992957115,\n",
       "   0.005079524591565132,\n",
       "   0.00506292749196291,\n",
       "   0.005046388134360313,\n",
       "   0.005029894411563873,\n",
       "   0.005013559013605118,\n",
       "   0.0049973404966294765,\n",
       "   0.004981141071766615,\n",
       "   0.004965027328580618,\n",
       "   0.004949074704200029,\n",
       "   0.004933157004415989,\n",
       "   0.004917332902550697,\n",
       "   0.004901568405330181,\n",
       "   0.0048858546651899815,\n",
       "   0.004870276898145676,\n",
       "   0.004854782950133085,\n",
       "   0.004839387722313404,\n",
       "   0.004824094008654356,\n",
       "   0.0048087844625115395,\n",
       "   0.004793619737029076,\n",
       "   0.004778599366545677,\n",
       "   0.004763585980981588,\n",
       "   0.004748559556901455,\n",
       "   0.004733657464385033,\n",
       "   0.004718875512480736,\n",
       "   0.004704111255705357,\n",
       "   0.004689464345574379,\n",
       "   0.004674863535910845,\n",
       "   0.004660321865230799,\n",
       "   0.004645823501050472,\n",
       "   0.004631460178643465,\n",
       "   0.0046171569265425205,\n",
       "   0.004602932371199131,\n",
       "   0.004588818643242121,\n",
       "   0.0045746988616883755,\n",
       "   0.004560616798698902,\n",
       "   0.004546730313450098,\n",
       "   0.004532889928668737,\n",
       "   0.004519112873822451,\n",
       "   0.0045053716748952866,\n",
       "   0.004491796717047691,\n",
       "   0.004478283692151308,\n",
       "   0.00446477672085166,\n",
       "   0.004451305605471134,\n",
       "   0.0044379765167832375,\n",
       "   0.004424649756401777,\n",
       "   0.004411385860294104,\n",
       "   0.004398221615701914,\n",
       "   0.004385108128190041,\n",
       "   0.004372101277112961,\n",
       "   0.004359127022325993,\n",
       "   0.004346173256635666,\n",
       "   0.004333300981670618,\n",
       "   0.00432048412039876,\n",
       "   0.004307753872126341,\n",
       "   0.004295031074434519,\n",
       "   0.004282345529645681,\n",
       "   0.00426971772685647,\n",
       "   0.0042571742087602615,\n",
       "   0.004244666080921888,\n",
       "   0.004232222214341164,\n",
       "   0.0042198230512440205,\n",
       "   0.0042074741795659065,\n",
       "   0.004195170942693949,\n",
       "   0.004182933364063501,\n",
       "   0.004170757718384266,\n",
       "   0.004158688243478537,\n",
       "   0.004146639257669449,\n",
       "   0.004134588874876499,\n",
       "   0.004122613463550806,\n",
       "   0.004110661335289478,\n",
       "   0.004098781384527683,\n",
       "   0.004086947534233332,\n",
       "   0.004075182601809502,\n",
       "   0.00406348891556263,\n",
       "   0.004051867872476578,\n",
       "   0.004040286410599947,\n",
       "   0.004028705880045891,\n",
       "   0.004017211031168699,\n",
       "   0.004005785100162029,\n",
       "   0.003994378726929426,\n",
       "   0.003982989117503166,\n",
       "   0.0039717210456728935,\n",
       "   0.003960475791245699,\n",
       "   0.003949284553527832,\n",
       "   0.003938124980777502,\n",
       "   0.003927045501768589,\n",
       "   0.003916014917194843,\n",
       "   0.0039050441700965166,\n",
       "   0.003894162829965353,\n",
       "   0.0038832572754472494,\n",
       "   0.0038724238984286785,\n",
       "   0.003861667588353157,\n",
       "   0.003850930370390415,\n",
       "   0.0038402534555643797,\n",
       "   0.003829627064988017,\n",
       "   0.0038190651684999466,\n",
       "   0.0038085405249148607,\n",
       "   0.0037980873603373766,\n",
       "   0.0037877385038882494,\n",
       "   0.0037774094380438328,\n",
       "   0.0037671190220862627,\n",
       "   0.0037568751722574234,\n",
       "   0.003746670437976718,\n",
       "   0.0037365159951150417,\n",
       "   0.0037263771519064903,\n",
       "   0.0037162809167057276,\n",
       "   0.0037062522023916245,\n",
       "   0.0036962456069886684,\n",
       "   0.0036862746346741915,\n",
       "   0.003676352323964238,\n",
       "   0.003666509874165058,\n",
       "   0.0036566874478012323,\n",
       "   0.0036468924954533577,\n",
       "   0.0036371254827827215,\n",
       "   0.003627460915595293,\n",
       "   0.0036178079899400473,\n",
       "   0.003608184400945902,\n",
       "   0.0035985764116048813,\n",
       "   0.003589050844311714,\n",
       "   0.0035795150324702263,\n",
       "   0.003570044878870249,\n",
       "   0.0035606413148343563,\n",
       "   0.003551264526322484,\n",
       "   0.0035419005434960127,\n",
       "   0.00353256962262094,\n",
       "   0.003523280145600438,\n",
       "   0.003514031646773219,\n",
       "   0.0035048360005021095,\n",
       "   0.0034956547897309065,\n",
       "   0.0034865024499595165,\n",
       "   0.003477406455203891,\n",
       "   0.0034683644771575928,\n",
       "   0.0034593255259096622,\n",
       "   0.003450355026870966,\n",
       "   0.0034414546098560095,\n",
       "   0.003432577010244131,\n",
       "   0.0034236896317452192,\n",
       "   0.0034148748964071274,\n",
       "   0.003406065981835127,\n",
       "   0.003397262655198574,\n",
       "   0.003388546872884035,\n",
       "   0.0033798476215451956,\n",
       "   0.003371146274730563,\n",
       "   0.003362544346600771,\n",
       "   0.003353968495503068,\n",
       "   0.0033453861251473427,\n",
       "   0.0033368682488799095,\n",
       "   0.0033283501397818327,\n",
       "   0.0033198606688529253,\n",
       "   0.0033114615362137556,\n",
       "   0.0033030586782842875,\n",
       "   0.0032946651335805655,\n",
       "   0.003286328399553895,\n",
       "   0.0032780058681964874,\n",
       "   0.0032697170972824097,\n",
       "   0.003261470003053546,\n",
       "   0.0032532494515180588,\n",
       "   0.003244995139539242,\n",
       "   0.003236819989979267,\n",
       "   0.003228679997846484,\n",
       "   0.0032205842435359955,\n",
       "   0.003212520619854331,\n",
       "   0.0032044677063822746,\n",
       "   0.003196458797901869,\n",
       "   0.0031884510535746813,\n",
       "   0.00318045262247324,\n",
       "   0.0031724697910249233,\n",
       "   0.003164545865729451,\n",
       "   0.003156650345772505,\n",
       "   0.0031487743835896254,\n",
       "   0.0031409184448421,\n",
       "   0.0031331197824329138,\n",
       "   0.003125365823507309,\n",
       "   0.0031176097691059113,\n",
       "   0.0031098779290914536,\n",
       "   0.0031022117473185062,\n",
       "   0.003094574436545372,\n",
       "   0.003086994169279933,\n",
       "   0.0030793845653533936,\n",
       "   0.003071862505748868,\n",
       "   0.003064426826313138,\n",
       "   0.003056972287595272,\n",
       "   0.003049543360248208,\n",
       "   0.0030421887058764696,\n",
       "   0.0030348808504641056,\n",
       "   0.0030275355093181133,\n",
       "   0.003020209725946188,\n",
       "   0.003012951696291566,\n",
       "   0.0030057283584028482,\n",
       "   0.002998526208102703,\n",
       "   0.002991345478221774,\n",
       "   0.0029841940850019455,\n",
       "   0.00297704990953207,\n",
       "   0.0029699387960135937,\n",
       "   0.0029628651682287455,\n",
       "   0.002955883741378784,\n",
       "   0.0029488445725291967,\n",
       "   0.0029418636113405228,\n",
       "   0.0029349266551434994,\n",
       "   0.0029279908630996943,\n",
       "   0.0029210620559751987,\n",
       "   0.0029142030980437994,\n",
       "   0.0029073755722492933,\n",
       "   0.0029005580581724644,\n",
       "   0.0028937379829585552,\n",
       "   0.002886973088607192,\n",
       "   0.0028803045861423016,\n",
       "   0.00287373224273324,\n",
       "   0.002867192029953003,\n",
       "   0.002860617358237505,\n",
       "   0.0028540906496345997,\n",
       "   0.0028476144652813673,\n",
       "   0.0028410863596946,\n",
       "   0.00283465045504272,\n",
       "   0.0028282266575843096,\n",
       "   0.002821859670802951,\n",
       "   0.002815488027408719,\n",
       "   0.002809100551530719,\n",
       "   0.0028027587104588747,\n",
       "   0.002796441549435258,\n",
       "   0.0027901434805244207,\n",
       "   0.0027838509995490313,\n",
       "   0.0027776393108069897,\n",
       "   0.0027714248280972242,\n",
       "   0.002765221521258354,\n",
       "   0.0027590286917984486,\n",
       "   0.002752881497144699,\n",
       "   0.0027467471081763506,\n",
       "   0.0027406567241996527,\n",
       "   0.0027345807757228613,\n",
       "   0.0027285057585686445,\n",
       "   0.0027224586810916662,\n",
       "   0.002716445829719305,\n",
       "   0.0027104320470243692,\n",
       "   0.002704458776861429,\n",
       "   0.002698492258787155,\n",
       "   0.0026925543788820505,\n",
       "   0.0026866206899285316,\n",
       "   0.0026807154063135386,\n",
       "   0.0026748322416096926,\n",
       "   0.0026689593214541674,\n",
       "   0.002663141116499901,\n",
       "   0.002657340606674552,\n",
       "   0.002651515416800976,\n",
       "   0.0026457246858626604,\n",
       "   0.0026399658527225256,\n",
       "   0.0026342333294451237,\n",
       "   0.002628528978675604,\n",
       "   0.0026228483766317368,\n",
       "   0.0026171510107815266,\n",
       "   0.002611493691802025,\n",
       "   0.002605814952403307,\n",
       "   ...],\n",
       "  9429,\n",
       "  1e-05,\n",
       "  20,\n",
       "  1,\n",
       "  64,\n",
       "  8,\n",
       "  0.25]}"
      ]
     },
     "execution_count": 5,
     "metadata": {},
     "output_type": "execute_result"
    }
   ],
   "source": [
    "best_model"
   ]
  },
  {
   "cell_type": "code",
   "execution_count": 6,
   "id": "c575ec69",
   "metadata": {
    "ExecuteTime": {
     "end_time": "2023-06-06T07:55:05.948256Z",
     "start_time": "2023-06-06T07:55:05.935292Z"
    }
   },
   "outputs": [],
   "source": [
    "save_model(best_model['RNN'][1].state_dict(), \"model/Infected/delta/RNN.pth\")\n",
    "save_hyperparameter(best_model['RNN'][3:], \"hyperparameter/Infected/delta/RNN.pkl\")"
   ]
  },
  {
   "cell_type": "code",
   "execution_count": 7,
   "id": "503b34a7",
   "metadata": {
    "ExecuteTime": {
     "end_time": "2023-06-06T07:55:06.116040Z",
     "start_time": "2023-06-06T07:55:05.951248Z"
    }
   },
   "outputs": [
    {
     "data": {
      "text/plain": [
       "[<matplotlib.lines.Line2D at 0x1788397f8b0>]"
      ]
     },
     "execution_count": 7,
     "metadata": {},
     "output_type": "execute_result"
    },
    {
     "data": {
      "image/png": "[encoded data removed]",
      "text/plain": [
       "<Figure size 640x480 with 1 Axes>"
      ]
     },
     "metadata": {},
     "output_type": "display_data"
    }
   ],
   "source": [
    "plt.plot(best_model['RNN'][2])"
   ]
  },
  {
   "cell_type": "code",
   "execution_count": 8,
   "id": "d1f53718",
   "metadata": {
    "ExecuteTime": {
     "end_time": "2023-06-06T07:55:06.132114Z",
     "start_time": "2023-06-06T07:55:06.118935Z"
    }
   },
   "outputs": [],
   "source": [
    "label_y, predicted = predict_mto(best_model['RNN'][1], df, x_ss, y_ms)"
   ]
  },
  {
   "cell_type": "code",
   "execution_count": 9,
   "id": "c8bd41f8",
   "metadata": {
    "ExecuteTime": {
     "end_time": "2023-06-06T07:55:06.303876Z",
     "start_time": "2023-06-06T07:55:06.135078Z"
    }
   },
   "outputs": [
    {
     "name": "stdout",
     "output_type": "stream",
     "text": [
      "4.053481905832698\n"
     ]
    },
    {
     "data": {
      "image/png": "[encoded data removed]",
      "text/plain": [
       "<Figure size 1000x600 with 1 Axes>"
      ]
     },
     "metadata": {},
     "output_type": "display_data"
    }
   ],
   "source": [
    "print(rmse(label_y[-7:], predicted[-7:]))\n",
    "plotting(label_y, predicted, 58)"
   ]
  },
  {
   "cell_type": "code",
   "execution_count": 10,
   "id": "ce891ad6",
   "metadata": {
    "ExecuteTime": {
     "end_time": "2023-06-06T07:55:06.319838Z",
     "start_time": "2023-06-06T07:55:06.306988Z"
    }
   },
   "outputs": [
    {
     "data": {
      "text/plain": [
       "(64, 1)"
      ]
     },
     "execution_count": 10,
     "metadata": {},
     "output_type": "execute_result"
    }
   ],
   "source": [
    "label_y.shape"
   ]
  },
  {
   "cell_type": "code",
   "execution_count": null,
   "id": "b2f9684b",
   "metadata": {},
   "outputs": [],
   "source": []
  }
 ],
 "metadata": {
  "kernelspec": {
   "display_name": "KDA_DA",
   "language": "python",
   "name": "kda_da"
  },
  "language_info": {
   "codemirror_mode": {
    "name": "ipython",
    "version": 3
   },
   "file_extension": ".py",
   "mimetype": "text/x-python",
   "name": "python",
   "nbconvert_exporter": "python",
   "pygments_lexer": "ipython3",
   "version": "3.10.8"
  },
  "toc": {
   "base_numbering": 1,
   "nav_menu": {},
   "number_sections": true,
   "sideBar": true,
   "skip_h1_title": false,
   "title_cell": "Table of Contents",
   "title_sidebar": "Contents",
   "toc_cell": false,
   "toc_position": {},
   "toc_section_display": true,
   "toc_window_display": false
  }
 },
 "nbformat": 4,
 "nbformat_minor": 5
}
