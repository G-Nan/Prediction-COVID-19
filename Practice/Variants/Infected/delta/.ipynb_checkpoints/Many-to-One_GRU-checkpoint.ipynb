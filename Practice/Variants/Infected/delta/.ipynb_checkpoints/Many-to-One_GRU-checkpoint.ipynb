{
 "cells": [
  {
   "cell_type": "code",
   "execution_count": 1,
   "id": "7ef1b38b",
   "metadata": {
    "ExecuteTime": {
     "end_time": "2023-06-06T09:09:30.954094Z",
     "start_time": "2023-06-06T09:09:28.284640Z"
    }
   },
   "outputs": [],
   "source": [
    "import os\n",
    "os.chdir('D:\\\\Gnan\\\\DA\\\\KMU\\\\Prediction-COVID-19')\n",
    "from utils import *\n",
    "from model import *\n",
    "from trainer import *\n",
    "\n",
    "from tqdm.notebook import tqdm\n",
    "from torch.optim.adam import Adam\n",
    "device = torch.device('cuda:0' if torch.cuda.is_available() else 'cpu')\n",
    "\n",
    "import warnings\n",
    "warnings.filterwarnings('ignore')"
   ]
  },
  {
   "cell_type": "code",
   "execution_count": 2,
   "id": "90d1bf81",
   "metadata": {
    "ExecuteTime": {
     "end_time": "2023-06-06T09:09:31.016926Z",
     "start_time": "2023-06-06T09:09:30.957087Z"
    }
   },
   "outputs": [
    {
     "data": {
      "text/html": [
       "<div>\n",
       "<style scoped>\n",
       "    .dataframe tbody tr th:only-of-type {\n",
       "        vertical-align: middle;\n",
       "    }\n",
       "\n",
       "    .dataframe tbody tr th {\n",
       "        vertical-align: top;\n",
       "    }\n",
       "\n",
       "    .dataframe thead th {\n",
       "        text-align: right;\n",
       "    }\n",
       "</style>\n",
       "<table border=\"1\" class=\"dataframe\">\n",
       "  <thead>\n",
       "    <tr style=\"text-align: right;\">\n",
       "      <th></th>\n",
       "      <th>stdDay</th>\n",
       "      <th>incDec</th>\n",
       "      <th>alpha_variants</th>\n",
       "      <th>delta_variants</th>\n",
       "    </tr>\n",
       "  </thead>\n",
       "  <tbody>\n",
       "    <tr>\n",
       "      <th>0</th>\n",
       "      <td>2021-04-12</td>\n",
       "      <td>16.0</td>\n",
       "      <td>4.16</td>\n",
       "      <td>0.32</td>\n",
       "    </tr>\n",
       "    <tr>\n",
       "      <th>1</th>\n",
       "      <td>2021-04-13</td>\n",
       "      <td>9.0</td>\n",
       "      <td>2.34</td>\n",
       "      <td>0.18</td>\n",
       "    </tr>\n",
       "    <tr>\n",
       "      <th>2</th>\n",
       "      <td>2021-04-14</td>\n",
       "      <td>11.0</td>\n",
       "      <td>2.86</td>\n",
       "      <td>0.22</td>\n",
       "    </tr>\n",
       "    <tr>\n",
       "      <th>3</th>\n",
       "      <td>2021-04-15</td>\n",
       "      <td>18.0</td>\n",
       "      <td>4.68</td>\n",
       "      <td>0.36</td>\n",
       "    </tr>\n",
       "    <tr>\n",
       "      <th>4</th>\n",
       "      <td>2021-04-16</td>\n",
       "      <td>4.0</td>\n",
       "      <td>1.04</td>\n",
       "      <td>0.08</td>\n",
       "    </tr>\n",
       "    <tr>\n",
       "      <th>...</th>\n",
       "      <td>...</td>\n",
       "      <td>...</td>\n",
       "      <td>...</td>\n",
       "      <td>...</td>\n",
       "    </tr>\n",
       "    <tr>\n",
       "      <th>121</th>\n",
       "      <td>2021-08-11</td>\n",
       "      <td>66.0</td>\n",
       "      <td>0.66</td>\n",
       "      <td>62.70</td>\n",
       "    </tr>\n",
       "    <tr>\n",
       "      <th>122</th>\n",
       "      <td>2021-08-12</td>\n",
       "      <td>39.0</td>\n",
       "      <td>0.39</td>\n",
       "      <td>37.05</td>\n",
       "    </tr>\n",
       "    <tr>\n",
       "      <th>123</th>\n",
       "      <td>2021-08-13</td>\n",
       "      <td>57.0</td>\n",
       "      <td>0.57</td>\n",
       "      <td>54.15</td>\n",
       "    </tr>\n",
       "    <tr>\n",
       "      <th>124</th>\n",
       "      <td>2021-08-14</td>\n",
       "      <td>82.0</td>\n",
       "      <td>0.82</td>\n",
       "      <td>77.90</td>\n",
       "    </tr>\n",
       "    <tr>\n",
       "      <th>125</th>\n",
       "      <td>2021-08-15</td>\n",
       "      <td>57.0</td>\n",
       "      <td>0.57</td>\n",
       "      <td>54.15</td>\n",
       "    </tr>\n",
       "  </tbody>\n",
       "</table>\n",
       "<p>126 rows × 4 columns</p>\n",
       "</div>"
      ],
      "text/plain": [
       "         stdDay  incDec  alpha_variants  delta_variants\n",
       "0    2021-04-12    16.0            4.16            0.32\n",
       "1    2021-04-13     9.0            2.34            0.18\n",
       "2    2021-04-14    11.0            2.86            0.22\n",
       "3    2021-04-15    18.0            4.68            0.36\n",
       "4    2021-04-16     4.0            1.04            0.08\n",
       "..          ...     ...             ...             ...\n",
       "121  2021-08-11    66.0            0.66           62.70\n",
       "122  2021-08-12    39.0            0.39           37.05\n",
       "123  2021-08-13    57.0            0.57           54.15\n",
       "124  2021-08-14    82.0            0.82           77.90\n",
       "125  2021-08-15    57.0            0.57           54.15\n",
       "\n",
       "[126 rows x 4 columns]"
      ]
     },
     "execution_count": 2,
     "metadata": {},
     "output_type": "execute_result"
    }
   ],
   "source": [
    "path = 'Data/Variants/alpha_delta/*.csv'\n",
    "dic_files = Load_files.load_files(path, -18, -16)\n",
    "data = dic_files['대구']\n",
    "data"
   ]
  },
  {
   "cell_type": "code",
   "execution_count": 3,
   "id": "18f6706c",
   "metadata": {
    "ExecuteTime": {
     "end_time": "2023-06-06T09:09:31.032911Z",
     "start_time": "2023-06-06T09:09:31.018921Z"
    }
   },
   "outputs": [
    {
     "name": "stdout",
     "output_type": "stream",
     "text": [
      "144\n"
     ]
    }
   ],
   "source": [
    "learning_rates_list = [1e-3, 1e-4, 1e-5]\n",
    "patiences_list = [20, 50]\n",
    "num_layers_list = [1, 2, 4, 8]\n",
    "batch_sizes_list = [32, 64]\n",
    "hidden_sizes_list = [8, 16, 32]\n",
    "dropout_list = [0.25]\n",
    "\n",
    "hyperparameter_dict = {}\n",
    "i = 0\n",
    "\n",
    "for lr in learning_rates_list:\n",
    "    for patience in patiences_list:\n",
    "        for num_layers in num_layers_list:\n",
    "            for batch_sizes in batch_sizes_list:\n",
    "                for hidden_size in hidden_sizes_list:    \n",
    "                    for dropout in dropout_list:\n",
    "                        hyperparameter_dict[i] = [lr, patience, num_layers, batch_sizes, hidden_size, dropout]\n",
    "                        i += 1\n",
    "                        \n",
    "print(i)"
   ]
  },
  {
   "cell_type": "code",
   "execution_count": 4,
   "id": "5aa998ee",
   "metadata": {
    "ExecuteTime": {
     "end_time": "2023-06-06T09:27:29.777104Z",
     "start_time": "2023-06-06T09:09:31.036872Z"
    },
    "scrolled": true
   },
   "outputs": [
    {
     "data": {
      "application/vnd.jupyter.widget-view+json": {
       "model_id": "b9f854a5263a46c8bdaf326645d7e2c2",
       "version_major": 2,
       "version_minor": 0
      },
      "text/plain": [
       "대구_GRU:   0%|          | 0/144 [00:00<?, ?it/s]"
      ]
     },
     "metadata": {},
     "output_type": "display_data"
    },
    {
     "name": "stdout",
     "output_type": "stream",
     "text": [
      "-------------------------------------------------------------------------------------\n",
      "lr: 0.001  patience: 20  num_layers: 1  batch_size: 32  hidden_size: 8  dropout: 0.25\n"
     ]
    },
    {
     "data": {
      "application/vnd.jupyter.widget-view+json": {
       "model_id": "90a93a660031472ea1deca84d0582218",
       "version_major": 2,
       "version_minor": 0
      },
      "text/plain": [
       "  0%|          | 0/10000 [00:00<?, ?it/s]"
      ]
     },
     "metadata": {},
     "output_type": "display_data"
    },
    {
     "name": "stdout",
     "output_type": "stream",
     "text": [
      "\n",
      " Early Stopping / epoch: 187 loss: 0.0001\n",
      "-------------------------------------------------------------------------------------\n",
      "lr: 0.001  patience: 20  num_layers: 1  batch_size: 32  hidden_size: 16  dropout: 0.25\n"
     ]
    },
    {
     "data": {
      "application/vnd.jupyter.widget-view+json": {
       "model_id": "255bc5937a8b4f85897a09ad44e2ff06",
       "version_major": 2,
       "version_minor": 0
      },
      "text/plain": [
       "  0%|          | 0/10000 [00:00<?, ?it/s]"
      ]
     },
     "metadata": {},
     "output_type": "display_data"
    },
    {
     "name": "stdout",
     "output_type": "stream",
     "text": [
      "\n",
      " Early Stopping / epoch: 146 loss: 0.0005\n",
      "-------------------------------------------------------------------------------------\n",
      "lr: 0.001  patience: 20  num_layers: 1  batch_size: 32  hidden_size: 32  dropout: 0.25\n"
     ]
    },
    {
     "data": {
      "application/vnd.jupyter.widget-view+json": {
       "model_id": "e3dc3f92f68b401fb5c4995a143e31b5",
       "version_major": 2,
       "version_minor": 0
      },
      "text/plain": [
       "  0%|          | 0/10000 [00:00<?, ?it/s]"
      ]
     },
     "metadata": {},
     "output_type": "display_data"
    },
    {
     "name": "stdout",
     "output_type": "stream",
     "text": [
      "\n",
      " Early Stopping / epoch: 173 loss: 0.0002\n",
      "-------------------------------------------------------------------------------------\n",
      "lr: 0.001  patience: 20  num_layers: 1  batch_size: 64  hidden_size: 8  dropout: 0.25\n"
     ]
    },
    {
     "data": {
      "application/vnd.jupyter.widget-view+json": {
       "model_id": "e34fc4c33d09455b83be8a669fabe848",
       "version_major": 2,
       "version_minor": 0
      },
      "text/plain": [
       "  0%|          | 0/10000 [00:00<?, ?it/s]"
      ]
     },
     "metadata": {},
     "output_type": "display_data"
    },
    {
     "name": "stdout",
     "output_type": "stream",
     "text": [
      "\n",
      " Early Stopping / epoch: 536 loss: 0.0001\n",
      "-------------------------------------------------------------------------------------\n",
      "lr: 0.001  patience: 20  num_layers: 1  batch_size: 64  hidden_size: 16  dropout: 0.25\n"
     ]
    },
    {
     "data": {
      "application/vnd.jupyter.widget-view+json": {
       "model_id": "7ab2b3a78cf24f1f9eeb1baf1bce331b",
       "version_major": 2,
       "version_minor": 0
      },
      "text/plain": [
       "  0%|          | 0/10000 [00:00<?, ?it/s]"
      ]
     },
     "metadata": {},
     "output_type": "display_data"
    },
    {
     "name": "stdout",
     "output_type": "stream",
     "text": [
      "\n",
      " Early Stopping / epoch: 367 loss: 0.0000\n",
      "-------------------------------------------------------------------------------------\n",
      "lr: 0.001  patience: 20  num_layers: 1  batch_size: 64  hidden_size: 32  dropout: 0.25\n"
     ]
    },
    {
     "data": {
      "application/vnd.jupyter.widget-view+json": {
       "model_id": "a64a580d86014245bc222102442ed095",
       "version_major": 2,
       "version_minor": 0
      },
      "text/plain": [
       "  0%|          | 0/10000 [00:00<?, ?it/s]"
      ]
     },
     "metadata": {},
     "output_type": "display_data"
    },
    {
     "name": "stdout",
     "output_type": "stream",
     "text": [
      "\n",
      " Early Stopping / epoch: 445 loss: 0.0000\n",
      "-------------------------------------------------------------------------------------\n",
      "lr: 0.001  patience: 20  num_layers: 2  batch_size: 32  hidden_size: 8  dropout: 0.25\n"
     ]
    },
    {
     "data": {
      "application/vnd.jupyter.widget-view+json": {
       "model_id": "9dfe5206354e4846ae5c593b96fbbad6",
       "version_major": 2,
       "version_minor": 0
      },
      "text/plain": [
       "  0%|          | 0/10000 [00:00<?, ?it/s]"
      ]
     },
     "metadata": {},
     "output_type": "display_data"
    },
    {
     "name": "stdout",
     "output_type": "stream",
     "text": [
      "\n",
      " Early Stopping / epoch: 130 loss: 0.0050\n",
      "-------------------------------------------------------------------------------------\n",
      "lr: 0.001  patience: 20  num_layers: 2  batch_size: 32  hidden_size: 16  dropout: 0.25\n"
     ]
    },
    {
     "data": {
      "application/vnd.jupyter.widget-view+json": {
       "model_id": "acdc3f1cd98148cda71be9c3f3139065",
       "version_major": 2,
       "version_minor": 0
      },
      "text/plain": [
       "  0%|          | 0/10000 [00:00<?, ?it/s]"
      ]
     },
     "metadata": {},
     "output_type": "display_data"
    },
    {
     "name": "stdout",
     "output_type": "stream",
     "text": [
      "\n",
      " Early Stopping / epoch: 112 loss: 0.0022\n",
      "-------------------------------------------------------------------------------------\n",
      "lr: 0.001  patience: 20  num_layers: 2  batch_size: 32  hidden_size: 32  dropout: 0.25\n"
     ]
    },
    {
     "data": {
      "application/vnd.jupyter.widget-view+json": {
       "model_id": "87fb63df20ad4e03a9c060aaf6ef0caf",
       "version_major": 2,
       "version_minor": 0
      },
      "text/plain": [
       "  0%|          | 0/10000 [00:00<?, ?it/s]"
      ]
     },
     "metadata": {},
     "output_type": "display_data"
    },
    {
     "name": "stdout",
     "output_type": "stream",
     "text": [
      "\n",
      " Early Stopping / epoch: 129 loss: 0.0007\n",
      "-------------------------------------------------------------------------------------\n",
      "lr: 0.001  patience: 20  num_layers: 2  batch_size: 64  hidden_size: 8  dropout: 0.25\n"
     ]
    },
    {
     "data": {
      "application/vnd.jupyter.widget-view+json": {
       "model_id": "bbfbd4df269a4cd48678ae52d442e6e9",
       "version_major": 2,
       "version_minor": 0
      },
      "text/plain": [
       "  0%|          | 0/10000 [00:00<?, ?it/s]"
      ]
     },
     "metadata": {},
     "output_type": "display_data"
    },
    {
     "name": "stdout",
     "output_type": "stream",
     "text": [
      "\n",
      " Early Stopping / epoch: 210 loss: 0.0017\n",
      "-------------------------------------------------------------------------------------\n",
      "lr: 0.001  patience: 20  num_layers: 2  batch_size: 64  hidden_size: 16  dropout: 0.25\n"
     ]
    },
    {
     "data": {
      "application/vnd.jupyter.widget-view+json": {
       "model_id": "5e8ec7a145264c758885acf8fbb46750",
       "version_major": 2,
       "version_minor": 0
      },
      "text/plain": [
       "  0%|          | 0/10000 [00:00<?, ?it/s]"
      ]
     },
     "metadata": {},
     "output_type": "display_data"
    },
    {
     "name": "stdout",
     "output_type": "stream",
     "text": [
      "\n",
      " Early Stopping / epoch: 177 loss: 0.0011\n",
      "-------------------------------------------------------------------------------------\n",
      "lr: 0.001  patience: 20  num_layers: 2  batch_size: 64  hidden_size: 32  dropout: 0.25\n"
     ]
    },
    {
     "data": {
      "application/vnd.jupyter.widget-view+json": {
       "model_id": "e60ff171d6f54376b5a2c506440cba4d",
       "version_major": 2,
       "version_minor": 0
      },
      "text/plain": [
       "  0%|          | 0/10000 [00:00<?, ?it/s]"
      ]
     },
     "metadata": {},
     "output_type": "display_data"
    },
    {
     "name": "stdout",
     "output_type": "stream",
     "text": [
      "\n",
      " Early Stopping / epoch: 175 loss: 0.0007\n",
      "-------------------------------------------------------------------------------------\n",
      "lr: 0.001  patience: 20  num_layers: 4  batch_size: 32  hidden_size: 8  dropout: 0.25\n"
     ]
    },
    {
     "data": {
      "application/vnd.jupyter.widget-view+json": {
       "model_id": "5074324efb87450fa2f62f12cd93cf6a",
       "version_major": 2,
       "version_minor": 0
      },
      "text/plain": [
       "  0%|          | 0/10000 [00:00<?, ?it/s]"
      ]
     },
     "metadata": {},
     "output_type": "display_data"
    },
    {
     "name": "stdout",
     "output_type": "stream",
     "text": [
      "\n",
      " Early Stopping / epoch: 25 loss: 0.0502\n",
      "-------------------------------------------------------------------------------------\n",
      "lr: 0.001  patience: 20  num_layers: 4  batch_size: 32  hidden_size: 16  dropout: 0.25\n"
     ]
    },
    {
     "data": {
      "application/vnd.jupyter.widget-view+json": {
       "model_id": "9a27ec392c954ffbb87a13497bc41485",
       "version_major": 2,
       "version_minor": 0
      },
      "text/plain": [
       "  0%|          | 0/10000 [00:00<?, ?it/s]"
      ]
     },
     "metadata": {},
     "output_type": "display_data"
    },
    {
     "name": "stdout",
     "output_type": "stream",
     "text": [
      "\n",
      " Early Stopping / epoch: 192 loss: 0.0028\n",
      "-------------------------------------------------------------------------------------\n",
      "lr: 0.001  patience: 20  num_layers: 4  batch_size: 32  hidden_size: 32  dropout: 0.25\n"
     ]
    },
    {
     "data": {
      "application/vnd.jupyter.widget-view+json": {
       "model_id": "7295ad9f5c294586886586acf495abd7",
       "version_major": 2,
       "version_minor": 0
      },
      "text/plain": [
       "  0%|          | 0/10000 [00:00<?, ?it/s]"
      ]
     },
     "metadata": {},
     "output_type": "display_data"
    },
    {
     "name": "stdout",
     "output_type": "stream",
     "text": [
      "\n",
      " Early Stopping / epoch: 182 loss: 0.0022\n",
      "-------------------------------------------------------------------------------------\n",
      "lr: 0.001  patience: 20  num_layers: 4  batch_size: 64  hidden_size: 8  dropout: 0.25\n"
     ]
    },
    {
     "data": {
      "application/vnd.jupyter.widget-view+json": {
       "model_id": "08cbf9f7f7f44bda8630a43595789593",
       "version_major": 2,
       "version_minor": 0
      },
      "text/plain": [
       "  0%|          | 0/10000 [00:00<?, ?it/s]"
      ]
     },
     "metadata": {},
     "output_type": "display_data"
    },
    {
     "name": "stdout",
     "output_type": "stream",
     "text": [
      "\n",
      " Early Stopping / epoch: 141 loss: 0.0105\n",
      "-------------------------------------------------------------------------------------\n",
      "lr: 0.001  patience: 20  num_layers: 4  batch_size: 64  hidden_size: 16  dropout: 0.25\n"
     ]
    },
    {
     "data": {
      "application/vnd.jupyter.widget-view+json": {
       "model_id": "881b570bf640471095fe0dd98b8c5aa9",
       "version_major": 2,
       "version_minor": 0
      },
      "text/plain": [
       "  0%|          | 0/10000 [00:00<?, ?it/s]"
      ]
     },
     "metadata": {},
     "output_type": "display_data"
    },
    {
     "name": "stdout",
     "output_type": "stream",
     "text": [
      "\n",
      " Early Stopping / epoch: 94 loss: 0.0119\n",
      "-------------------------------------------------------------------------------------\n",
      "lr: 0.001  patience: 20  num_layers: 4  batch_size: 64  hidden_size: 32  dropout: 0.25\n"
     ]
    },
    {
     "data": {
      "application/vnd.jupyter.widget-view+json": {
       "model_id": "d62f3d8d17f64c9aa718e501fce8a6f7",
       "version_major": 2,
       "version_minor": 0
      },
      "text/plain": [
       "  0%|          | 0/10000 [00:00<?, ?it/s]"
      ]
     },
     "metadata": {},
     "output_type": "display_data"
    },
    {
     "name": "stdout",
     "output_type": "stream",
     "text": [
      "\n",
      " Early Stopping / epoch: 154 loss: 0.0064\n",
      "-------------------------------------------------------------------------------------\n",
      "lr: 0.001  patience: 20  num_layers: 8  batch_size: 32  hidden_size: 8  dropout: 0.25\n"
     ]
    },
    {
     "data": {
      "application/vnd.jupyter.widget-view+json": {
       "model_id": "8c932cdd7b944dd38ac6d290b8019d6b",
       "version_major": 2,
       "version_minor": 0
      },
      "text/plain": [
       "  0%|          | 0/10000 [00:00<?, ?it/s]"
      ]
     },
     "metadata": {},
     "output_type": "display_data"
    },
    {
     "name": "stdout",
     "output_type": "stream",
     "text": [
      "\n",
      " Early Stopping / epoch: 26 loss: 0.0537\n",
      "-------------------------------------------------------------------------------------\n",
      "lr: 0.001  patience: 20  num_layers: 8  batch_size: 32  hidden_size: 16  dropout: 0.25\n"
     ]
    },
    {
     "data": {
      "application/vnd.jupyter.widget-view+json": {
       "model_id": "fce8e8ef4ae24d71ad0dfc1aa87cfd5d",
       "version_major": 2,
       "version_minor": 0
      },
      "text/plain": [
       "  0%|          | 0/10000 [00:00<?, ?it/s]"
      ]
     },
     "metadata": {},
     "output_type": "display_data"
    },
    {
     "name": "stdout",
     "output_type": "stream",
     "text": [
      "\n",
      " Early Stopping / epoch: 26 loss: 0.0517\n",
      "-------------------------------------------------------------------------------------\n",
      "lr: 0.001  patience: 20  num_layers: 8  batch_size: 32  hidden_size: 32  dropout: 0.25\n"
     ]
    },
    {
     "data": {
      "application/vnd.jupyter.widget-view+json": {
       "model_id": "ac5edbf71e054351aa44e7a39dac13a4",
       "version_major": 2,
       "version_minor": 0
      },
      "text/plain": [
       "  0%|          | 0/10000 [00:00<?, ?it/s]"
      ]
     },
     "metadata": {},
     "output_type": "display_data"
    },
    {
     "name": "stdout",
     "output_type": "stream",
     "text": [
      "\n",
      " Early Stopping / epoch: 247 loss: 0.0035\n",
      "-------------------------------------------------------------------------------------\n",
      "lr: 0.001  patience: 20  num_layers: 8  batch_size: 64  hidden_size: 8  dropout: 0.25\n"
     ]
    },
    {
     "data": {
      "application/vnd.jupyter.widget-view+json": {
       "model_id": "3d0c6801a2ba434aa6b9226a55e2dc36",
       "version_major": 2,
       "version_minor": 0
      },
      "text/plain": [
       "  0%|          | 0/10000 [00:00<?, ?it/s]"
      ]
     },
     "metadata": {},
     "output_type": "display_data"
    },
    {
     "name": "stdout",
     "output_type": "stream",
     "text": [
      "\n",
      " Early Stopping / epoch: 38 loss: 0.0501\n",
      "-------------------------------------------------------------------------------------\n",
      "lr: 0.001  patience: 20  num_layers: 8  batch_size: 64  hidden_size: 16  dropout: 0.25\n"
     ]
    },
    {
     "data": {
      "application/vnd.jupyter.widget-view+json": {
       "model_id": "e1d47acf423743929e20b7be5923333f",
       "version_major": 2,
       "version_minor": 0
      },
      "text/plain": [
       "  0%|          | 0/10000 [00:00<?, ?it/s]"
      ]
     },
     "metadata": {},
     "output_type": "display_data"
    },
    {
     "name": "stdout",
     "output_type": "stream",
     "text": [
      "\n",
      " Early Stopping / epoch: 84 loss: 0.0103\n",
      "-------------------------------------------------------------------------------------\n",
      "lr: 0.001  patience: 20  num_layers: 8  batch_size: 64  hidden_size: 32  dropout: 0.25\n"
     ]
    },
    {
     "data": {
      "application/vnd.jupyter.widget-view+json": {
       "model_id": "6d90684dc5f243e09c1b5f4190c99624",
       "version_major": 2,
       "version_minor": 0
      },
      "text/plain": [
       "  0%|          | 0/10000 [00:00<?, ?it/s]"
      ]
     },
     "metadata": {},
     "output_type": "display_data"
    },
    {
     "name": "stdout",
     "output_type": "stream",
     "text": [
      "\n",
      " Early Stopping / epoch: 231 loss: 0.0047\n",
      "-------------------------------------------------------------------------------------\n",
      "lr: 0.001  patience: 50  num_layers: 1  batch_size: 32  hidden_size: 8  dropout: 0.25\n"
     ]
    },
    {
     "data": {
      "application/vnd.jupyter.widget-view+json": {
       "model_id": "1e0ad6dd37904dd1a454915c30a14fe3",
       "version_major": 2,
       "version_minor": 0
      },
      "text/plain": [
       "  0%|          | 0/10000 [00:00<?, ?it/s]"
      ]
     },
     "metadata": {},
     "output_type": "display_data"
    },
    {
     "name": "stdout",
     "output_type": "stream",
     "text": [
      "\n",
      " Early Stopping / epoch: 529 loss: 0.0000\n",
      "-------------------------------------------------------------------------------------\n",
      "lr: 0.001  patience: 50  num_layers: 1  batch_size: 32  hidden_size: 16  dropout: 0.25\n"
     ]
    },
    {
     "data": {
      "application/vnd.jupyter.widget-view+json": {
       "model_id": "28d00fe8ab9d4bf6a2056bef54b1fa2f",
       "version_major": 2,
       "version_minor": 0
      },
      "text/plain": [
       "  0%|          | 0/10000 [00:00<?, ?it/s]"
      ]
     },
     "metadata": {},
     "output_type": "display_data"
    },
    {
     "name": "stdout",
     "output_type": "stream",
     "text": [
      "\n",
      " Early Stopping / epoch: 896 loss: 0.0000\n",
      "-------------------------------------------------------------------------------------\n",
      "lr: 0.001  patience: 50  num_layers: 1  batch_size: 32  hidden_size: 32  dropout: 0.25\n"
     ]
    },
    {
     "data": {
      "application/vnd.jupyter.widget-view+json": {
       "model_id": "7da0c2620ff54242876704bb583d206d",
       "version_major": 2,
       "version_minor": 0
      },
      "text/plain": [
       "  0%|          | 0/10000 [00:00<?, ?it/s]"
      ]
     },
     "metadata": {},
     "output_type": "display_data"
    },
    {
     "name": "stdout",
     "output_type": "stream",
     "text": [
      "\n",
      " Early Stopping / epoch: 354 loss: 0.0007\n",
      "-------------------------------------------------------------------------------------\n",
      "lr: 0.001  patience: 50  num_layers: 1  batch_size: 64  hidden_size: 8  dropout: 0.25\n"
     ]
    },
    {
     "data": {
      "application/vnd.jupyter.widget-view+json": {
       "model_id": "f0455849c9a04ddcbb7785652a7b4f44",
       "version_major": 2,
       "version_minor": 0
      },
      "text/plain": [
       "  0%|          | 0/10000 [00:00<?, ?it/s]"
      ]
     },
     "metadata": {},
     "output_type": "display_data"
    },
    {
     "name": "stdout",
     "output_type": "stream",
     "text": [
      "\n",
      " Early Stopping / epoch: 1347 loss: 0.0000\n",
      "-------------------------------------------------------------------------------------\n",
      "lr: 0.001  patience: 50  num_layers: 1  batch_size: 64  hidden_size: 16  dropout: 0.25\n"
     ]
    },
    {
     "data": {
      "application/vnd.jupyter.widget-view+json": {
       "model_id": "e19aa0527ac3465892cb55633fdc398e",
       "version_major": 2,
       "version_minor": 0
      },
      "text/plain": [
       "  0%|          | 0/10000 [00:00<?, ?it/s]"
      ]
     },
     "metadata": {},
     "output_type": "display_data"
    },
    {
     "name": "stdout",
     "output_type": "stream",
     "text": [
      "\n",
      " Early Stopping / epoch: 800 loss: 0.0001\n",
      "-------------------------------------------------------------------------------------\n",
      "lr: 0.001  patience: 50  num_layers: 1  batch_size: 64  hidden_size: 32  dropout: 0.25\n"
     ]
    },
    {
     "data": {
      "application/vnd.jupyter.widget-view+json": {
       "model_id": "cf1c74a60c6a4eb3a0392c14d2e8d711",
       "version_major": 2,
       "version_minor": 0
      },
      "text/plain": [
       "  0%|          | 0/10000 [00:00<?, ?it/s]"
      ]
     },
     "metadata": {},
     "output_type": "display_data"
    },
    {
     "name": "stdout",
     "output_type": "stream",
     "text": [
      "\n",
      " Early Stopping / epoch: 503 loss: 0.0000\n",
      "-------------------------------------------------------------------------------------\n",
      "lr: 0.001  patience: 50  num_layers: 2  batch_size: 32  hidden_size: 8  dropout: 0.25\n"
     ]
    },
    {
     "data": {
      "application/vnd.jupyter.widget-view+json": {
       "model_id": "7f6d5369d72a4123999aa6a2fde708d9",
       "version_major": 2,
       "version_minor": 0
      },
      "text/plain": [
       "  0%|          | 0/10000 [00:00<?, ?it/s]"
      ]
     },
     "metadata": {},
     "output_type": "display_data"
    },
    {
     "name": "stdout",
     "output_type": "stream",
     "text": [
      "\n",
      " Early Stopping / epoch: 428 loss: 0.0006\n",
      "-------------------------------------------------------------------------------------\n",
      "lr: 0.001  patience: 50  num_layers: 2  batch_size: 32  hidden_size: 16  dropout: 0.25\n"
     ]
    },
    {
     "data": {
      "application/vnd.jupyter.widget-view+json": {
       "model_id": "960d3b6e21da473c82a930ce666c0b59",
       "version_major": 2,
       "version_minor": 0
      },
      "text/plain": [
       "  0%|          | 0/10000 [00:00<?, ?it/s]"
      ]
     },
     "metadata": {},
     "output_type": "display_data"
    },
    {
     "name": "stdout",
     "output_type": "stream",
     "text": [
      "\n",
      " Early Stopping / epoch: 433 loss: 0.0003\n",
      "-------------------------------------------------------------------------------------\n",
      "lr: 0.001  patience: 50  num_layers: 2  batch_size: 32  hidden_size: 32  dropout: 0.25\n"
     ]
    },
    {
     "data": {
      "application/vnd.jupyter.widget-view+json": {
       "model_id": "25b88e2f36f44100810bf816f89f2745",
       "version_major": 2,
       "version_minor": 0
      },
      "text/plain": [
       "  0%|          | 0/10000 [00:00<?, ?it/s]"
      ]
     },
     "metadata": {},
     "output_type": "display_data"
    },
    {
     "name": "stdout",
     "output_type": "stream",
     "text": [
      "\n",
      " Early Stopping / epoch: 356 loss: 0.0002\n",
      "-------------------------------------------------------------------------------------\n",
      "lr: 0.001  patience: 50  num_layers: 2  batch_size: 64  hidden_size: 8  dropout: 0.25\n"
     ]
    },
    {
     "data": {
      "application/vnd.jupyter.widget-view+json": {
       "model_id": "b1476756ea114812801204a17ce9da92",
       "version_major": 2,
       "version_minor": 0
      },
      "text/plain": [
       "  0%|          | 0/10000 [00:00<?, ?it/s]"
      ]
     },
     "metadata": {},
     "output_type": "display_data"
    },
    {
     "name": "stdout",
     "output_type": "stream",
     "text": [
      "\n",
      " Early Stopping / epoch: 544 loss: 0.0008\n",
      "-------------------------------------------------------------------------------------\n",
      "lr: 0.001  patience: 50  num_layers: 2  batch_size: 64  hidden_size: 16  dropout: 0.25\n"
     ]
    },
    {
     "data": {
      "application/vnd.jupyter.widget-view+json": {
       "model_id": "649f02a116414474b18aa6a791a220bd",
       "version_major": 2,
       "version_minor": 0
      },
      "text/plain": [
       "  0%|          | 0/10000 [00:00<?, ?it/s]"
      ]
     },
     "metadata": {},
     "output_type": "display_data"
    },
    {
     "name": "stdout",
     "output_type": "stream",
     "text": [
      "\n",
      " Early Stopping / epoch: 440 loss: 0.0007\n",
      "-------------------------------------------------------------------------------------\n",
      "lr: 0.001  patience: 50  num_layers: 2  batch_size: 64  hidden_size: 32  dropout: 0.25\n"
     ]
    },
    {
     "data": {
      "application/vnd.jupyter.widget-view+json": {
       "model_id": "7d9a6df885fc4d188aada98758f5f1ad",
       "version_major": 2,
       "version_minor": 0
      },
      "text/plain": [
       "  0%|          | 0/10000 [00:00<?, ?it/s]"
      ]
     },
     "metadata": {},
     "output_type": "display_data"
    },
    {
     "name": "stdout",
     "output_type": "stream",
     "text": [
      "\n",
      " Early Stopping / epoch: 410 loss: 0.0002\n",
      "-------------------------------------------------------------------------------------\n",
      "lr: 0.001  patience: 50  num_layers: 4  batch_size: 32  hidden_size: 8  dropout: 0.25\n"
     ]
    },
    {
     "data": {
      "application/vnd.jupyter.widget-view+json": {
       "model_id": "52a3d0928e664945906b51e0545fd518",
       "version_major": 2,
       "version_minor": 0
      },
      "text/plain": [
       "  0%|          | 0/10000 [00:00<?, ?it/s]"
      ]
     },
     "metadata": {},
     "output_type": "display_data"
    },
    {
     "name": "stdout",
     "output_type": "stream",
     "text": [
      "\n",
      " Early Stopping / epoch: 426 loss: 0.0020\n",
      "-------------------------------------------------------------------------------------\n",
      "lr: 0.001  patience: 50  num_layers: 4  batch_size: 32  hidden_size: 16  dropout: 0.25\n"
     ]
    },
    {
     "data": {
      "application/vnd.jupyter.widget-view+json": {
       "model_id": "5b3bbfddd8914084a809a0ccf96c6cfb",
       "version_major": 2,
       "version_minor": 0
      },
      "text/plain": [
       "  0%|          | 0/10000 [00:00<?, ?it/s]"
      ]
     },
     "metadata": {},
     "output_type": "display_data"
    },
    {
     "name": "stdout",
     "output_type": "stream",
     "text": [
      "\n",
      " Early Stopping / epoch: 259 loss: 0.0024\n",
      "-------------------------------------------------------------------------------------\n",
      "lr: 0.001  patience: 50  num_layers: 4  batch_size: 32  hidden_size: 32  dropout: 0.25\n"
     ]
    },
    {
     "data": {
      "application/vnd.jupyter.widget-view+json": {
       "model_id": "e8288e10f556426baa9c76fe63aa1f06",
       "version_major": 2,
       "version_minor": 0
      },
      "text/plain": [
       "  0%|          | 0/10000 [00:00<?, ?it/s]"
      ]
     },
     "metadata": {},
     "output_type": "display_data"
    },
    {
     "name": "stdout",
     "output_type": "stream",
     "text": [
      "\n",
      " Early Stopping / epoch: 455 loss: 0.0005\n",
      "-------------------------------------------------------------------------------------\n",
      "lr: 0.001  patience: 50  num_layers: 4  batch_size: 64  hidden_size: 8  dropout: 0.25\n"
     ]
    },
    {
     "data": {
      "application/vnd.jupyter.widget-view+json": {
       "model_id": "787eaa2ce5ca4c41bad32a0d4469e691",
       "version_major": 2,
       "version_minor": 0
      },
      "text/plain": [
       "  0%|          | 0/10000 [00:00<?, ?it/s]"
      ]
     },
     "metadata": {},
     "output_type": "display_data"
    },
    {
     "name": "stdout",
     "output_type": "stream",
     "text": [
      "\n",
      " Early Stopping / epoch: 413 loss: 0.0034\n",
      "-------------------------------------------------------------------------------------\n",
      "lr: 0.001  patience: 50  num_layers: 4  batch_size: 64  hidden_size: 16  dropout: 0.25\n"
     ]
    },
    {
     "data": {
      "application/vnd.jupyter.widget-view+json": {
       "model_id": "88df9c0bb2dd49beb14618f23e52701e",
       "version_major": 2,
       "version_minor": 0
      },
      "text/plain": [
       "  0%|          | 0/10000 [00:00<?, ?it/s]"
      ]
     },
     "metadata": {},
     "output_type": "display_data"
    },
    {
     "name": "stdout",
     "output_type": "stream",
     "text": [
      "\n",
      " Early Stopping / epoch: 463 loss: 0.0013\n",
      "-------------------------------------------------------------------------------------\n",
      "lr: 0.001  patience: 50  num_layers: 4  batch_size: 64  hidden_size: 32  dropout: 0.25\n"
     ]
    },
    {
     "data": {
      "application/vnd.jupyter.widget-view+json": {
       "model_id": "19a0ad66b4a74c18846ac7dadd86684c",
       "version_major": 2,
       "version_minor": 0
      },
      "text/plain": [
       "  0%|          | 0/10000 [00:00<?, ?it/s]"
      ]
     },
     "metadata": {},
     "output_type": "display_data"
    },
    {
     "name": "stdout",
     "output_type": "stream",
     "text": [
      "\n",
      " Early Stopping / epoch: 509 loss: 0.0003\n",
      "-------------------------------------------------------------------------------------\n",
      "lr: 0.001  patience: 50  num_layers: 8  batch_size: 32  hidden_size: 8  dropout: 0.25\n"
     ]
    },
    {
     "data": {
      "application/vnd.jupyter.widget-view+json": {
       "model_id": "d32d745927464cd39c4e2c4fd93d109c",
       "version_major": 2,
       "version_minor": 0
      },
      "text/plain": [
       "  0%|          | 0/10000 [00:00<?, ?it/s]"
      ]
     },
     "metadata": {},
     "output_type": "display_data"
    },
    {
     "name": "stdout",
     "output_type": "stream",
     "text": [
      "\n",
      " Early Stopping / epoch: 54 loss: 0.0523\n",
      "-------------------------------------------------------------------------------------\n",
      "lr: 0.001  patience: 50  num_layers: 8  batch_size: 32  hidden_size: 16  dropout: 0.25\n"
     ]
    },
    {
     "data": {
      "application/vnd.jupyter.widget-view+json": {
       "model_id": "278cc2540a74465aa1ea4c693366e09d",
       "version_major": 2,
       "version_minor": 0
      },
      "text/plain": [
       "  0%|          | 0/10000 [00:00<?, ?it/s]"
      ]
     },
     "metadata": {},
     "output_type": "display_data"
    },
    {
     "name": "stdout",
     "output_type": "stream",
     "text": [
      "\n",
      " Early Stopping / epoch: 349 loss: 0.0022\n",
      "-------------------------------------------------------------------------------------\n",
      "lr: 0.001  patience: 50  num_layers: 8  batch_size: 32  hidden_size: 32  dropout: 0.25\n"
     ]
    },
    {
     "data": {
      "application/vnd.jupyter.widget-view+json": {
       "model_id": "6a279c8c36fb45d8a3c8655ec5aa31c2",
       "version_major": 2,
       "version_minor": 0
      },
      "text/plain": [
       "  0%|          | 0/10000 [00:00<?, ?it/s]"
      ]
     },
     "metadata": {},
     "output_type": "display_data"
    },
    {
     "name": "stdout",
     "output_type": "stream",
     "text": [
      "\n",
      " Early Stopping / epoch: 480 loss: 0.0012\n",
      "-------------------------------------------------------------------------------------\n",
      "lr: 0.001  patience: 50  num_layers: 8  batch_size: 64  hidden_size: 8  dropout: 0.25\n"
     ]
    },
    {
     "data": {
      "application/vnd.jupyter.widget-view+json": {
       "model_id": "8d971c97f7034a00bd0ad90932e68510",
       "version_major": 2,
       "version_minor": 0
      },
      "text/plain": [
       "  0%|          | 0/10000 [00:00<?, ?it/s]"
      ]
     },
     "metadata": {},
     "output_type": "display_data"
    },
    {
     "name": "stdout",
     "output_type": "stream",
     "text": [
      "\n",
      " Early Stopping / epoch: 437 loss: 0.0044\n",
      "-------------------------------------------------------------------------------------\n",
      "lr: 0.001  patience: 50  num_layers: 8  batch_size: 64  hidden_size: 16  dropout: 0.25\n"
     ]
    },
    {
     "data": {
      "application/vnd.jupyter.widget-view+json": {
       "model_id": "1765d810187241b6a5ca9f44d9226a23",
       "version_major": 2,
       "version_minor": 0
      },
      "text/plain": [
       "  0%|          | 0/10000 [00:00<?, ?it/s]"
      ]
     },
     "metadata": {},
     "output_type": "display_data"
    },
    {
     "name": "stdout",
     "output_type": "stream",
     "text": [
      "\n",
      " Early Stopping / epoch: 559 loss: 0.0018\n",
      "-------------------------------------------------------------------------------------\n",
      "lr: 0.001  patience: 50  num_layers: 8  batch_size: 64  hidden_size: 32  dropout: 0.25\n"
     ]
    },
    {
     "data": {
      "application/vnd.jupyter.widget-view+json": {
       "model_id": "76654a933ff84b41a50e2ad9fbdf4727",
       "version_major": 2,
       "version_minor": 0
      },
      "text/plain": [
       "  0%|          | 0/10000 [00:00<?, ?it/s]"
      ]
     },
     "metadata": {},
     "output_type": "display_data"
    },
    {
     "name": "stdout",
     "output_type": "stream",
     "text": [
      "\n",
      " Early Stopping / epoch: 370 loss: 0.0024\n",
      "-------------------------------------------------------------------------------------\n",
      "lr: 0.0001  patience: 20  num_layers: 1  batch_size: 32  hidden_size: 8  dropout: 0.25\n"
     ]
    },
    {
     "data": {
      "application/vnd.jupyter.widget-view+json": {
       "model_id": "7fccd59a7f14457c86f99706e5c04142",
       "version_major": 2,
       "version_minor": 0
      },
      "text/plain": [
       "  0%|          | 0/10000 [00:00<?, ?it/s]"
      ]
     },
     "metadata": {},
     "output_type": "display_data"
    },
    {
     "name": "stdout",
     "output_type": "stream",
     "text": [
      "\n",
      " Early Stopping / epoch: 1363 loss: 0.0000\n",
      "-------------------------------------------------------------------------------------\n",
      "lr: 0.0001  patience: 20  num_layers: 1  batch_size: 32  hidden_size: 16  dropout: 0.25\n"
     ]
    },
    {
     "data": {
      "application/vnd.jupyter.widget-view+json": {
       "model_id": "b00ad00f8723497b822afeb7c4c62ef9",
       "version_major": 2,
       "version_minor": 0
      },
      "text/plain": [
       "  0%|          | 0/10000 [00:00<?, ?it/s]"
      ]
     },
     "metadata": {},
     "output_type": "display_data"
    },
    {
     "name": "stdout",
     "output_type": "stream",
     "text": [
      "\n",
      " Early Stopping / epoch: 1058 loss: 0.0000\n",
      "-------------------------------------------------------------------------------------\n",
      "lr: 0.0001  patience: 20  num_layers: 1  batch_size: 32  hidden_size: 32  dropout: 0.25\n"
     ]
    },
    {
     "data": {
      "application/vnd.jupyter.widget-view+json": {
       "model_id": "62f3fb0b1bf847baa3163462e0b995c8",
       "version_major": 2,
       "version_minor": 0
      },
      "text/plain": [
       "  0%|          | 0/10000 [00:00<?, ?it/s]"
      ]
     },
     "metadata": {},
     "output_type": "display_data"
    },
    {
     "name": "stdout",
     "output_type": "stream",
     "text": [
      "\n",
      " Early Stopping / epoch: 1138 loss: 0.0000\n",
      "-------------------------------------------------------------------------------------\n",
      "lr: 0.0001  patience: 20  num_layers: 1  batch_size: 64  hidden_size: 8  dropout: 0.25\n"
     ]
    },
    {
     "data": {
      "application/vnd.jupyter.widget-view+json": {
       "model_id": "17398d9d43c04eca9155fd3b443e41fd",
       "version_major": 2,
       "version_minor": 0
      },
      "text/plain": [
       "  0%|          | 0/10000 [00:00<?, ?it/s]"
      ]
     },
     "metadata": {},
     "output_type": "display_data"
    },
    {
     "name": "stdout",
     "output_type": "stream",
     "text": [
      "\n",
      " Early Stopping / epoch: 2875 loss: 0.0000\n",
      "-------------------------------------------------------------------------------------\n",
      "lr: 0.0001  patience: 20  num_layers: 1  batch_size: 64  hidden_size: 16  dropout: 0.25\n"
     ]
    },
    {
     "data": {
      "application/vnd.jupyter.widget-view+json": {
       "model_id": "b60ce4f38b7a4bb7842468b55d9c7999",
       "version_major": 2,
       "version_minor": 0
      },
      "text/plain": [
       "  0%|          | 0/10000 [00:00<?, ?it/s]"
      ]
     },
     "metadata": {},
     "output_type": "display_data"
    },
    {
     "name": "stdout",
     "output_type": "stream",
     "text": [
      "\n",
      " Early Stopping / epoch: 2789 loss: 0.0000\n",
      "-------------------------------------------------------------------------------------\n",
      "lr: 0.0001  patience: 20  num_layers: 1  batch_size: 64  hidden_size: 32  dropout: 0.25\n"
     ]
    },
    {
     "data": {
      "application/vnd.jupyter.widget-view+json": {
       "model_id": "6351c0b1c09f42029e50b5c1cd08d407",
       "version_major": 2,
       "version_minor": 0
      },
      "text/plain": [
       "  0%|          | 0/10000 [00:00<?, ?it/s]"
      ]
     },
     "metadata": {},
     "output_type": "display_data"
    },
    {
     "name": "stdout",
     "output_type": "stream",
     "text": [
      "\n",
      " Early Stopping / epoch: 2557 loss: 0.0000\n",
      "-------------------------------------------------------------------------------------\n",
      "lr: 0.0001  patience: 20  num_layers: 2  batch_size: 32  hidden_size: 8  dropout: 0.25\n"
     ]
    },
    {
     "data": {
      "application/vnd.jupyter.widget-view+json": {
       "model_id": "ebf4a7a7bb9b43b5b9cf6548aa10cacb",
       "version_major": 2,
       "version_minor": 0
      },
      "text/plain": [
       "  0%|          | 0/10000 [00:00<?, ?it/s]"
      ]
     },
     "metadata": {},
     "output_type": "display_data"
    },
    {
     "name": "stdout",
     "output_type": "stream",
     "text": [
      "\n",
      " Early Stopping / epoch: 153 loss: 0.0082\n",
      "-------------------------------------------------------------------------------------\n",
      "lr: 0.0001  patience: 20  num_layers: 2  batch_size: 32  hidden_size: 16  dropout: 0.25\n"
     ]
    },
    {
     "data": {
      "application/vnd.jupyter.widget-view+json": {
       "model_id": "4659a01504414b5b9941b4332f694b10",
       "version_major": 2,
       "version_minor": 0
      },
      "text/plain": [
       "  0%|          | 0/10000 [00:00<?, ?it/s]"
      ]
     },
     "metadata": {},
     "output_type": "display_data"
    },
    {
     "name": "stdout",
     "output_type": "stream",
     "text": [
      "\n",
      " Early Stopping / epoch: 177 loss: 0.0118\n",
      "-------------------------------------------------------------------------------------\n",
      "lr: 0.0001  patience: 20  num_layers: 2  batch_size: 32  hidden_size: 32  dropout: 0.25\n"
     ]
    },
    {
     "data": {
      "application/vnd.jupyter.widget-view+json": {
       "model_id": "63f3ee672b4d42d6b88ae3687a2e62f1",
       "version_major": 2,
       "version_minor": 0
      },
      "text/plain": [
       "  0%|          | 0/10000 [00:00<?, ?it/s]"
      ]
     },
     "metadata": {},
     "output_type": "display_data"
    },
    {
     "name": "stdout",
     "output_type": "stream",
     "text": [
      "\n",
      " Early Stopping / epoch: 355 loss: 0.0024\n",
      "-------------------------------------------------------------------------------------\n",
      "lr: 0.0001  patience: 20  num_layers: 2  batch_size: 64  hidden_size: 8  dropout: 0.25\n"
     ]
    },
    {
     "data": {
      "application/vnd.jupyter.widget-view+json": {
       "model_id": "19178ea68545489f8b2cc0ca9709550a",
       "version_major": 2,
       "version_minor": 0
      },
      "text/plain": [
       "  0%|          | 0/10000 [00:00<?, ?it/s]"
      ]
     },
     "metadata": {},
     "output_type": "display_data"
    },
    {
     "name": "stdout",
     "output_type": "stream",
     "text": [
      "\n",
      " Early Stopping / epoch: 188 loss: 0.0102\n",
      "-------------------------------------------------------------------------------------\n",
      "lr: 0.0001  patience: 20  num_layers: 2  batch_size: 64  hidden_size: 16  dropout: 0.25\n"
     ]
    },
    {
     "data": {
      "application/vnd.jupyter.widget-view+json": {
       "model_id": "a86f790e91e140c9b70283b7e2ffa04c",
       "version_major": 2,
       "version_minor": 0
      },
      "text/plain": [
       "  0%|          | 0/10000 [00:00<?, ?it/s]"
      ]
     },
     "metadata": {},
     "output_type": "display_data"
    },
    {
     "name": "stdout",
     "output_type": "stream",
     "text": [
      "\n",
      " Early Stopping / epoch: 142 loss: 0.0102\n",
      "-------------------------------------------------------------------------------------\n",
      "lr: 0.0001  patience: 20  num_layers: 2  batch_size: 64  hidden_size: 32  dropout: 0.25\n"
     ]
    },
    {
     "data": {
      "application/vnd.jupyter.widget-view+json": {
       "model_id": "8c412048e26c4a10b959d610f6cc978a",
       "version_major": 2,
       "version_minor": 0
      },
      "text/plain": [
       "  0%|          | 0/10000 [00:00<?, ?it/s]"
      ]
     },
     "metadata": {},
     "output_type": "display_data"
    },
    {
     "name": "stdout",
     "output_type": "stream",
     "text": [
      "\n",
      " Early Stopping / epoch: 327 loss: 0.0022\n",
      "-------------------------------------------------------------------------------------\n",
      "lr: 0.0001  patience: 20  num_layers: 4  batch_size: 32  hidden_size: 8  dropout: 0.25\n"
     ]
    },
    {
     "data": {
      "application/vnd.jupyter.widget-view+json": {
       "model_id": "406e8994ced94385868995e3ac4d844f",
       "version_major": 2,
       "version_minor": 0
      },
      "text/plain": [
       "  0%|          | 0/10000 [00:00<?, ?it/s]"
      ]
     },
     "metadata": {},
     "output_type": "display_data"
    },
    {
     "name": "stdout",
     "output_type": "stream",
     "text": [
      "\n",
      " Early Stopping / epoch: 216 loss: 0.0173\n",
      "-------------------------------------------------------------------------------------\n",
      "lr: 0.0001  patience: 20  num_layers: 4  batch_size: 32  hidden_size: 16  dropout: 0.25\n"
     ]
    },
    {
     "data": {
      "application/vnd.jupyter.widget-view+json": {
       "model_id": "66671a8eddd44693896e214f16b736c5",
       "version_major": 2,
       "version_minor": 0
      },
      "text/plain": [
       "  0%|          | 0/10000 [00:00<?, ?it/s]"
      ]
     },
     "metadata": {},
     "output_type": "display_data"
    },
    {
     "name": "stdout",
     "output_type": "stream",
     "text": [
      "\n",
      " Early Stopping / epoch: 152 loss: 0.0152\n",
      "-------------------------------------------------------------------------------------\n",
      "lr: 0.0001  patience: 20  num_layers: 4  batch_size: 32  hidden_size: 32  dropout: 0.25\n"
     ]
    },
    {
     "data": {
      "application/vnd.jupyter.widget-view+json": {
       "model_id": "7d27a354530a4332a28fa52dc0998ea3",
       "version_major": 2,
       "version_minor": 0
      },
      "text/plain": [
       "  0%|          | 0/10000 [00:00<?, ?it/s]"
      ]
     },
     "metadata": {},
     "output_type": "display_data"
    },
    {
     "name": "stdout",
     "output_type": "stream",
     "text": [
      "\n",
      " Early Stopping / epoch: 110 loss: 0.0134\n",
      "-------------------------------------------------------------------------------------\n",
      "lr: 0.0001  patience: 20  num_layers: 4  batch_size: 64  hidden_size: 8  dropout: 0.25\n"
     ]
    },
    {
     "data": {
      "application/vnd.jupyter.widget-view+json": {
       "model_id": "137ba6bce6184e52b2f2c74b024c2e42",
       "version_major": 2,
       "version_minor": 0
      },
      "text/plain": [
       "  0%|          | 0/10000 [00:00<?, ?it/s]"
      ]
     },
     "metadata": {},
     "output_type": "display_data"
    },
    {
     "name": "stdout",
     "output_type": "stream",
     "text": [
      "\n",
      " Early Stopping / epoch: 191 loss: 0.0146\n",
      "-------------------------------------------------------------------------------------\n",
      "lr: 0.0001  patience: 20  num_layers: 4  batch_size: 64  hidden_size: 16  dropout: 0.25\n"
     ]
    },
    {
     "data": {
      "application/vnd.jupyter.widget-view+json": {
       "model_id": "7e26a2ee266548cbb090292ace9d303f",
       "version_major": 2,
       "version_minor": 0
      },
      "text/plain": [
       "  0%|          | 0/10000 [00:00<?, ?it/s]"
      ]
     },
     "metadata": {},
     "output_type": "display_data"
    },
    {
     "name": "stdout",
     "output_type": "stream",
     "text": [
      "\n",
      " Early Stopping / epoch: 156 loss: 0.0119\n",
      "-------------------------------------------------------------------------------------\n",
      "lr: 0.0001  patience: 20  num_layers: 4  batch_size: 64  hidden_size: 32  dropout: 0.25\n"
     ]
    },
    {
     "data": {
      "application/vnd.jupyter.widget-view+json": {
       "model_id": "e418282579c6417d88fff85953d4fb31",
       "version_major": 2,
       "version_minor": 0
      },
      "text/plain": [
       "  0%|          | 0/10000 [00:00<?, ?it/s]"
      ]
     },
     "metadata": {},
     "output_type": "display_data"
    },
    {
     "name": "stdout",
     "output_type": "stream",
     "text": [
      "\n",
      " Early Stopping / epoch: 136 loss: 0.0126\n",
      "-------------------------------------------------------------------------------------\n",
      "lr: 0.0001  patience: 20  num_layers: 8  batch_size: 32  hidden_size: 8  dropout: 0.25\n"
     ]
    },
    {
     "data": {
      "application/vnd.jupyter.widget-view+json": {
       "model_id": "f0c983b6f3164446a3c7249f8cae7423",
       "version_major": 2,
       "version_minor": 0
      },
      "text/plain": [
       "  0%|          | 0/10000 [00:00<?, ?it/s]"
      ]
     },
     "metadata": {},
     "output_type": "display_data"
    },
    {
     "name": "stdout",
     "output_type": "stream",
     "text": [
      "\n",
      " Early Stopping / epoch: 39 loss: 0.0523\n",
      "-------------------------------------------------------------------------------------\n",
      "lr: 0.0001  patience: 20  num_layers: 8  batch_size: 32  hidden_size: 16  dropout: 0.25\n"
     ]
    },
    {
     "data": {
      "application/vnd.jupyter.widget-view+json": {
       "model_id": "167047ce325a484b98e2e1f3af7f5245",
       "version_major": 2,
       "version_minor": 0
      },
      "text/plain": [
       "  0%|          | 0/10000 [00:00<?, ?it/s]"
      ]
     },
     "metadata": {},
     "output_type": "display_data"
    },
    {
     "name": "stdout",
     "output_type": "stream",
     "text": [
      "\n",
      " Early Stopping / epoch: 44 loss: 0.0524\n",
      "-------------------------------------------------------------------------------------\n",
      "lr: 0.0001  patience: 20  num_layers: 8  batch_size: 32  hidden_size: 32  dropout: 0.25\n"
     ]
    },
    {
     "data": {
      "application/vnd.jupyter.widget-view+json": {
       "model_id": "a8f9afbde42344d8af746f6d2f5845f2",
       "version_major": 2,
       "version_minor": 0
      },
      "text/plain": [
       "  0%|          | 0/10000 [00:00<?, ?it/s]"
      ]
     },
     "metadata": {},
     "output_type": "display_data"
    },
    {
     "name": "stdout",
     "output_type": "stream",
     "text": [
      "\n",
      " Early Stopping / epoch: 31 loss: 0.0524\n",
      "-------------------------------------------------------------------------------------\n",
      "lr: 0.0001  patience: 20  num_layers: 8  batch_size: 64  hidden_size: 8  dropout: 0.25\n"
     ]
    },
    {
     "data": {
      "application/vnd.jupyter.widget-view+json": {
       "model_id": "0226a882db5d4c3dac51f277eaa15b4e",
       "version_major": 2,
       "version_minor": 0
      },
      "text/plain": [
       "  0%|          | 0/10000 [00:00<?, ?it/s]"
      ]
     },
     "metadata": {},
     "output_type": "display_data"
    },
    {
     "name": "stdout",
     "output_type": "stream",
     "text": [
      "\n",
      " Early Stopping / epoch: 88 loss: 0.0499\n",
      "-------------------------------------------------------------------------------------\n",
      "lr: 0.0001  patience: 20  num_layers: 8  batch_size: 64  hidden_size: 16  dropout: 0.25\n"
     ]
    },
    {
     "data": {
      "application/vnd.jupyter.widget-view+json": {
       "model_id": "a4be238d31914daa89fb1daed5890a58",
       "version_major": 2,
       "version_minor": 0
      },
      "text/plain": [
       "  0%|          | 0/10000 [00:00<?, ?it/s]"
      ]
     },
     "metadata": {},
     "output_type": "display_data"
    },
    {
     "name": "stdout",
     "output_type": "stream",
     "text": [
      "\n",
      " Early Stopping / epoch: 113 loss: 0.0500\n",
      "-------------------------------------------------------------------------------------\n",
      "lr: 0.0001  patience: 20  num_layers: 8  batch_size: 64  hidden_size: 32  dropout: 0.25\n"
     ]
    },
    {
     "data": {
      "application/vnd.jupyter.widget-view+json": {
       "model_id": "dd9f56f5dbbc47919c60dfe3aee24ae5",
       "version_major": 2,
       "version_minor": 0
      },
      "text/plain": [
       "  0%|          | 0/10000 [00:00<?, ?it/s]"
      ]
     },
     "metadata": {},
     "output_type": "display_data"
    },
    {
     "name": "stdout",
     "output_type": "stream",
     "text": [
      "\n",
      " Early Stopping / epoch: 59 loss: 0.0504\n",
      "-------------------------------------------------------------------------------------\n",
      "lr: 0.0001  patience: 50  num_layers: 1  batch_size: 32  hidden_size: 8  dropout: 0.25\n"
     ]
    },
    {
     "data": {
      "application/vnd.jupyter.widget-view+json": {
       "model_id": "007f267c8d064182a33d4a1ddf41cffd",
       "version_major": 2,
       "version_minor": 0
      },
      "text/plain": [
       "  0%|          | 0/10000 [00:00<?, ?it/s]"
      ]
     },
     "metadata": {},
     "output_type": "display_data"
    },
    {
     "name": "stdout",
     "output_type": "stream",
     "text": [
      "\n",
      " Early Stopping / epoch: 1881 loss: 0.0000\n",
      "-------------------------------------------------------------------------------------\n",
      "lr: 0.0001  patience: 50  num_layers: 1  batch_size: 32  hidden_size: 16  dropout: 0.25\n"
     ]
    },
    {
     "data": {
      "application/vnd.jupyter.widget-view+json": {
       "model_id": "403d075abdc34e3bbd8a44f1400e8fa0",
       "version_major": 2,
       "version_minor": 0
      },
      "text/plain": [
       "  0%|          | 0/10000 [00:00<?, ?it/s]"
      ]
     },
     "metadata": {},
     "output_type": "display_data"
    },
    {
     "name": "stdout",
     "output_type": "stream",
     "text": [
      "\n",
      " Early Stopping / epoch: 1559 loss: 0.0000\n",
      "-------------------------------------------------------------------------------------\n",
      "lr: 0.0001  patience: 50  num_layers: 1  batch_size: 32  hidden_size: 32  dropout: 0.25\n"
     ]
    },
    {
     "data": {
      "application/vnd.jupyter.widget-view+json": {
       "model_id": "a48f1c61fdbb403f99e1a2885c0c781b",
       "version_major": 2,
       "version_minor": 0
      },
      "text/plain": [
       "  0%|          | 0/10000 [00:00<?, ?it/s]"
      ]
     },
     "metadata": {},
     "output_type": "display_data"
    },
    {
     "name": "stdout",
     "output_type": "stream",
     "text": [
      "\n",
      " Early Stopping / epoch: 2421 loss: 0.0000\n",
      "-------------------------------------------------------------------------------------\n",
      "lr: 0.0001  patience: 50  num_layers: 1  batch_size: 64  hidden_size: 8  dropout: 0.25\n"
     ]
    },
    {
     "data": {
      "application/vnd.jupyter.widget-view+json": {
       "model_id": "28753b9dc899480dab335ace05dcdb7d",
       "version_major": 2,
       "version_minor": 0
      },
      "text/plain": [
       "  0%|          | 0/10000 [00:00<?, ?it/s]"
      ]
     },
     "metadata": {},
     "output_type": "display_data"
    },
    {
     "name": "stdout",
     "output_type": "stream",
     "text": [
      "\n",
      " Early Stopping / epoch: 3984 loss: 0.0000\n",
      "-------------------------------------------------------------------------------------\n",
      "lr: 0.0001  patience: 50  num_layers: 1  batch_size: 64  hidden_size: 16  dropout: 0.25\n"
     ]
    },
    {
     "data": {
      "application/vnd.jupyter.widget-view+json": {
       "model_id": "f3cc066bba3d44af83128cc93793533e",
       "version_major": 2,
       "version_minor": 0
      },
      "text/plain": [
       "  0%|          | 0/10000 [00:00<?, ?it/s]"
      ]
     },
     "metadata": {},
     "output_type": "display_data"
    },
    {
     "name": "stdout",
     "output_type": "stream",
     "text": [
      "\n",
      " Early Stopping / epoch: 2019 loss: 0.0000\n",
      "-------------------------------------------------------------------------------------\n",
      "lr: 0.0001  patience: 50  num_layers: 1  batch_size: 64  hidden_size: 32  dropout: 0.25\n"
     ]
    },
    {
     "data": {
      "application/vnd.jupyter.widget-view+json": {
       "model_id": "a41ff6b783fa4a19b8f417b7c5ef76bb",
       "version_major": 2,
       "version_minor": 0
      },
      "text/plain": [
       "  0%|          | 0/10000 [00:00<?, ?it/s]"
      ]
     },
     "metadata": {},
     "output_type": "display_data"
    },
    {
     "name": "stdout",
     "output_type": "stream",
     "text": [
      "\n",
      " Early Stopping / epoch: 2860 loss: 0.0000\n",
      "-------------------------------------------------------------------------------------\n",
      "lr: 0.0001  patience: 50  num_layers: 2  batch_size: 32  hidden_size: 8  dropout: 0.25\n"
     ]
    },
    {
     "data": {
      "application/vnd.jupyter.widget-view+json": {
       "model_id": "d9fc314af8d041268bd7a9dbccd3c87f",
       "version_major": 2,
       "version_minor": 0
      },
      "text/plain": [
       "  0%|          | 0/10000 [00:00<?, ?it/s]"
      ]
     },
     "metadata": {},
     "output_type": "display_data"
    },
    {
     "name": "stdout",
     "output_type": "stream",
     "text": [
      "\n",
      " Early Stopping / epoch: 230 loss: 0.0113\n",
      "-------------------------------------------------------------------------------------\n",
      "lr: 0.0001  patience: 50  num_layers: 2  batch_size: 32  hidden_size: 16  dropout: 0.25\n"
     ]
    },
    {
     "data": {
      "application/vnd.jupyter.widget-view+json": {
       "model_id": "6ab31fd5b37844ab99a9e5bde07283f7",
       "version_major": 2,
       "version_minor": 0
      },
      "text/plain": [
       "  0%|          | 0/10000 [00:00<?, ?it/s]"
      ]
     },
     "metadata": {},
     "output_type": "display_data"
    },
    {
     "name": "stdout",
     "output_type": "stream",
     "text": [
      "\n",
      " Early Stopping / epoch: 733 loss: 0.0017\n",
      "-------------------------------------------------------------------------------------\n",
      "lr: 0.0001  patience: 50  num_layers: 2  batch_size: 32  hidden_size: 32  dropout: 0.25\n"
     ]
    },
    {
     "data": {
      "application/vnd.jupyter.widget-view+json": {
       "model_id": "3dcf274e4db740dda2a96a18d80d1af3",
       "version_major": 2,
       "version_minor": 0
      },
      "text/plain": [
       "  0%|          | 0/10000 [00:00<?, ?it/s]"
      ]
     },
     "metadata": {},
     "output_type": "display_data"
    },
    {
     "name": "stdout",
     "output_type": "stream",
     "text": [
      "\n",
      " Early Stopping / epoch: 685 loss: 0.0010\n",
      "-------------------------------------------------------------------------------------\n",
      "lr: 0.0001  patience: 50  num_layers: 2  batch_size: 64  hidden_size: 8  dropout: 0.25\n"
     ]
    },
    {
     "data": {
      "application/vnd.jupyter.widget-view+json": {
       "model_id": "57621186320d4185bd3f0d344d007db8",
       "version_major": 2,
       "version_minor": 0
      },
      "text/plain": [
       "  0%|          | 0/10000 [00:00<?, ?it/s]"
      ]
     },
     "metadata": {},
     "output_type": "display_data"
    },
    {
     "name": "stdout",
     "output_type": "stream",
     "text": [
      "\n",
      " Early Stopping / epoch: 697 loss: 0.0025\n",
      "-------------------------------------------------------------------------------------\n",
      "lr: 0.0001  patience: 50  num_layers: 2  batch_size: 64  hidden_size: 16  dropout: 0.25\n"
     ]
    },
    {
     "data": {
      "application/vnd.jupyter.widget-view+json": {
       "model_id": "a16f2164d6594c20b5de0dce1494e80a",
       "version_major": 2,
       "version_minor": 0
      },
      "text/plain": [
       "  0%|          | 0/10000 [00:00<?, ?it/s]"
      ]
     },
     "metadata": {},
     "output_type": "display_data"
    },
    {
     "name": "stdout",
     "output_type": "stream",
     "text": [
      "\n",
      " Early Stopping / epoch: 660 loss: 0.0026\n",
      "-------------------------------------------------------------------------------------\n",
      "lr: 0.0001  patience: 50  num_layers: 2  batch_size: 64  hidden_size: 32  dropout: 0.25\n"
     ]
    },
    {
     "data": {
      "application/vnd.jupyter.widget-view+json": {
       "model_id": "d1724797f47c43eea35569d539720a13",
       "version_major": 2,
       "version_minor": 0
      },
      "text/plain": [
       "  0%|          | 0/10000 [00:00<?, ?it/s]"
      ]
     },
     "metadata": {},
     "output_type": "display_data"
    },
    {
     "name": "stdout",
     "output_type": "stream",
     "text": [
      "\n",
      " Early Stopping / epoch: 542 loss: 0.0013\n",
      "-------------------------------------------------------------------------------------\n",
      "lr: 0.0001  patience: 50  num_layers: 4  batch_size: 32  hidden_size: 8  dropout: 0.25\n"
     ]
    },
    {
     "data": {
      "application/vnd.jupyter.widget-view+json": {
       "model_id": "ae31f3f1fb944802ba7edfc9562db9cf",
       "version_major": 2,
       "version_minor": 0
      },
      "text/plain": [
       "  0%|          | 0/10000 [00:00<?, ?it/s]"
      ]
     },
     "metadata": {},
     "output_type": "display_data"
    },
    {
     "name": "stdout",
     "output_type": "stream",
     "text": [
      "\n",
      " Early Stopping / epoch: 298 loss: 0.0132\n",
      "-------------------------------------------------------------------------------------\n",
      "lr: 0.0001  patience: 50  num_layers: 4  batch_size: 32  hidden_size: 16  dropout: 0.25\n"
     ]
    },
    {
     "data": {
      "application/vnd.jupyter.widget-view+json": {
       "model_id": "96d3105ac8c24e7a81af5b679b0fbe26",
       "version_major": 2,
       "version_minor": 0
      },
      "text/plain": [
       "  0%|          | 0/10000 [00:00<?, ?it/s]"
      ]
     },
     "metadata": {},
     "output_type": "display_data"
    },
    {
     "name": "stdout",
     "output_type": "stream",
     "text": [
      "\n",
      " Early Stopping / epoch: 247 loss: 0.0151\n",
      "-------------------------------------------------------------------------------------\n",
      "lr: 0.0001  patience: 50  num_layers: 4  batch_size: 32  hidden_size: 32  dropout: 0.25\n"
     ]
    },
    {
     "data": {
      "application/vnd.jupyter.widget-view+json": {
       "model_id": "56aadc800a3e42cfbf11053eded896d1",
       "version_major": 2,
       "version_minor": 0
      },
      "text/plain": [
       "  0%|          | 0/10000 [00:00<?, ?it/s]"
      ]
     },
     "metadata": {},
     "output_type": "display_data"
    },
    {
     "name": "stdout",
     "output_type": "stream",
     "text": [
      "\n",
      " Early Stopping / epoch: 197 loss: 0.0125\n",
      "-------------------------------------------------------------------------------------\n",
      "lr: 0.0001  patience: 50  num_layers: 4  batch_size: 64  hidden_size: 8  dropout: 0.25\n"
     ]
    },
    {
     "data": {
      "application/vnd.jupyter.widget-view+json": {
       "model_id": "7baecda280384afe8ce23a17c197fe28",
       "version_major": 2,
       "version_minor": 0
      },
      "text/plain": [
       "  0%|          | 0/10000 [00:00<?, ?it/s]"
      ]
     },
     "metadata": {},
     "output_type": "display_data"
    },
    {
     "name": "stdout",
     "output_type": "stream",
     "text": [
      "\n",
      " Early Stopping / epoch: 311 loss: 0.0148\n",
      "-------------------------------------------------------------------------------------\n",
      "lr: 0.0001  patience: 50  num_layers: 4  batch_size: 64  hidden_size: 16  dropout: 0.25\n"
     ]
    },
    {
     "data": {
      "application/vnd.jupyter.widget-view+json": {
       "model_id": "1b80aff6069147b6ac61adc865b0760c",
       "version_major": 2,
       "version_minor": 0
      },
      "text/plain": [
       "  0%|          | 0/10000 [00:00<?, ?it/s]"
      ]
     },
     "metadata": {},
     "output_type": "display_data"
    },
    {
     "name": "stdout",
     "output_type": "stream",
     "text": [
      "\n",
      " Early Stopping / epoch: 293 loss: 0.0132\n",
      "-------------------------------------------------------------------------------------\n",
      "lr: 0.0001  patience: 50  num_layers: 4  batch_size: 64  hidden_size: 32  dropout: 0.25\n"
     ]
    },
    {
     "data": {
      "application/vnd.jupyter.widget-view+json": {
       "model_id": "789ebd0ab0e549058c75beaccce51a5e",
       "version_major": 2,
       "version_minor": 0
      },
      "text/plain": [
       "  0%|          | 0/10000 [00:00<?, ?it/s]"
      ]
     },
     "metadata": {},
     "output_type": "display_data"
    },
    {
     "name": "stdout",
     "output_type": "stream",
     "text": [
      "\n",
      " Early Stopping / epoch: 340 loss: 0.0099\n",
      "-------------------------------------------------------------------------------------\n",
      "lr: 0.0001  patience: 50  num_layers: 8  batch_size: 32  hidden_size: 8  dropout: 0.25\n"
     ]
    },
    {
     "data": {
      "application/vnd.jupyter.widget-view+json": {
       "model_id": "8ca6ac3ea10f4c548290d3142a4e1931",
       "version_major": 2,
       "version_minor": 0
      },
      "text/plain": [
       "  0%|          | 0/10000 [00:00<?, ?it/s]"
      ]
     },
     "metadata": {},
     "output_type": "display_data"
    },
    {
     "name": "stdout",
     "output_type": "stream",
     "text": [
      "\n",
      " Early Stopping / epoch: 165 loss: 0.0519\n",
      "-------------------------------------------------------------------------------------\n",
      "lr: 0.0001  patience: 50  num_layers: 8  batch_size: 32  hidden_size: 16  dropout: 0.25\n"
     ]
    },
    {
     "data": {
      "application/vnd.jupyter.widget-view+json": {
       "model_id": "83089afe14b347b09f0539ce13f976f7",
       "version_major": 2,
       "version_minor": 0
      },
      "text/plain": [
       "  0%|          | 0/10000 [00:00<?, ?it/s]"
      ]
     },
     "metadata": {},
     "output_type": "display_data"
    },
    {
     "name": "stdout",
     "output_type": "stream",
     "text": [
      "\n",
      " Early Stopping / epoch: 575 loss: 0.0065\n",
      "-------------------------------------------------------------------------------------\n",
      "lr: 0.0001  patience: 50  num_layers: 8  batch_size: 32  hidden_size: 32  dropout: 0.25\n"
     ]
    },
    {
     "data": {
      "application/vnd.jupyter.widget-view+json": {
       "model_id": "d3703c8eb0da4be9b97cbf917a4a52d8",
       "version_major": 2,
       "version_minor": 0
      },
      "text/plain": [
       "  0%|          | 0/10000 [00:00<?, ?it/s]"
      ]
     },
     "metadata": {},
     "output_type": "display_data"
    },
    {
     "name": "stdout",
     "output_type": "stream",
     "text": [
      "\n",
      " Early Stopping / epoch: 64 loss: 0.0522\n",
      "-------------------------------------------------------------------------------------\n",
      "lr: 0.0001  patience: 50  num_layers: 8  batch_size: 64  hidden_size: 8  dropout: 0.25\n"
     ]
    },
    {
     "data": {
      "application/vnd.jupyter.widget-view+json": {
       "model_id": "737e2acb952f4d069674e83654a7599c",
       "version_major": 2,
       "version_minor": 0
      },
      "text/plain": [
       "  0%|          | 0/10000 [00:00<?, ?it/s]"
      ]
     },
     "metadata": {},
     "output_type": "display_data"
    },
    {
     "name": "stdout",
     "output_type": "stream",
     "text": [
      "\n",
      " Early Stopping / epoch: 115 loss: 0.0505\n",
      "-------------------------------------------------------------------------------------\n",
      "lr: 0.0001  patience: 50  num_layers: 8  batch_size: 64  hidden_size: 16  dropout: 0.25\n"
     ]
    },
    {
     "data": {
      "application/vnd.jupyter.widget-view+json": {
       "model_id": "03a2e3260b9e4e4faff9026b1781a336",
       "version_major": 2,
       "version_minor": 0
      },
      "text/plain": [
       "  0%|          | 0/10000 [00:00<?, ?it/s]"
      ]
     },
     "metadata": {},
     "output_type": "display_data"
    },
    {
     "name": "stdout",
     "output_type": "stream",
     "text": [
      "\n",
      " Early Stopping / epoch: 336 loss: 0.0103\n",
      "-------------------------------------------------------------------------------------\n",
      "lr: 0.0001  patience: 50  num_layers: 8  batch_size: 64  hidden_size: 32  dropout: 0.25\n"
     ]
    },
    {
     "data": {
      "application/vnd.jupyter.widget-view+json": {
       "model_id": "6c48bd48278046579bfb223893cfbbfb",
       "version_major": 2,
       "version_minor": 0
      },
      "text/plain": [
       "  0%|          | 0/10000 [00:00<?, ?it/s]"
      ]
     },
     "metadata": {},
     "output_type": "display_data"
    },
    {
     "name": "stdout",
     "output_type": "stream",
     "text": [
      "\n",
      " Early Stopping / epoch: 303 loss: 0.0118\n",
      "-------------------------------------------------------------------------------------\n",
      "lr: 1e-05  patience: 20  num_layers: 1  batch_size: 32  hidden_size: 8  dropout: 0.25\n"
     ]
    },
    {
     "data": {
      "application/vnd.jupyter.widget-view+json": {
       "model_id": "fa6de225eca1462ea24322822866c950",
       "version_major": 2,
       "version_minor": 0
      },
      "text/plain": [
       "  0%|          | 0/10000 [00:00<?, ?it/s]"
      ]
     },
     "metadata": {},
     "output_type": "display_data"
    },
    {
     "name": "stdout",
     "output_type": "stream",
     "text": [
      "\n",
      " Early Stopping / epoch: 6578 loss: 0.0000\n",
      "-------------------------------------------------------------------------------------\n",
      "lr: 1e-05  patience: 20  num_layers: 1  batch_size: 32  hidden_size: 16  dropout: 0.25\n"
     ]
    },
    {
     "data": {
      "application/vnd.jupyter.widget-view+json": {
       "model_id": "6ec01c3b55ff40f3831256b07f99d00d",
       "version_major": 2,
       "version_minor": 0
      },
      "text/plain": [
       "  0%|          | 0/10000 [00:00<?, ?it/s]"
      ]
     },
     "metadata": {},
     "output_type": "display_data"
    },
    {
     "name": "stdout",
     "output_type": "stream",
     "text": [
      "\n",
      " Early Stopping / epoch: 5611 loss: 0.0000\n",
      "-------------------------------------------------------------------------------------\n",
      "lr: 1e-05  patience: 20  num_layers: 1  batch_size: 32  hidden_size: 32  dropout: 0.25\n"
     ]
    },
    {
     "data": {
      "application/vnd.jupyter.widget-view+json": {
       "model_id": "441f0b7ed7f04233b400fca51f851412",
       "version_major": 2,
       "version_minor": 0
      },
      "text/plain": [
       "  0%|          | 0/10000 [00:00<?, ?it/s]"
      ]
     },
     "metadata": {},
     "output_type": "display_data"
    },
    {
     "name": "stdout",
     "output_type": "stream",
     "text": [
      "\n",
      " Early Stopping / epoch: 5430 loss: 0.0000\n",
      "-------------------------------------------------------------------------------------\n",
      "lr: 1e-05  patience: 20  num_layers: 1  batch_size: 64  hidden_size: 8  dropout: 0.25\n"
     ]
    },
    {
     "data": {
      "application/vnd.jupyter.widget-view+json": {
       "model_id": "625dc2dfae204446a22e5c51465640bb",
       "version_major": 2,
       "version_minor": 0
      },
      "text/plain": [
       "  0%|          | 0/10000 [00:00<?, ?it/s]"
      ]
     },
     "metadata": {},
     "output_type": "display_data"
    },
    {
     "name": "stdout",
     "output_type": "stream",
     "text": [
      "-------------------------------------------------------------------------------------\n",
      "lr: 1e-05  patience: 20  num_layers: 1  batch_size: 64  hidden_size: 16  dropout: 0.25\n"
     ]
    },
    {
     "data": {
      "application/vnd.jupyter.widget-view+json": {
       "model_id": "7a64f086944f41979ef6a40feeb21ebb",
       "version_major": 2,
       "version_minor": 0
      },
      "text/plain": [
       "  0%|          | 0/10000 [00:00<?, ?it/s]"
      ]
     },
     "metadata": {},
     "output_type": "display_data"
    },
    {
     "name": "stdout",
     "output_type": "stream",
     "text": [
      "-------------------------------------------------------------------------------------\n",
      "lr: 1e-05  patience: 20  num_layers: 1  batch_size: 64  hidden_size: 32  dropout: 0.25\n"
     ]
    },
    {
     "data": {
      "application/vnd.jupyter.widget-view+json": {
       "model_id": "5c1ce5e28ec9426ab00ed2f0d9ca5084",
       "version_major": 2,
       "version_minor": 0
      },
      "text/plain": [
       "  0%|          | 0/10000 [00:00<?, ?it/s]"
      ]
     },
     "metadata": {},
     "output_type": "display_data"
    },
    {
     "name": "stdout",
     "output_type": "stream",
     "text": [
      "-------------------------------------------------------------------------------------\n",
      "lr: 1e-05  patience: 20  num_layers: 2  batch_size: 32  hidden_size: 8  dropout: 0.25\n"
     ]
    },
    {
     "data": {
      "application/vnd.jupyter.widget-view+json": {
       "model_id": "4cd43fd65be648ae9f0ddf734673c21f",
       "version_major": 2,
       "version_minor": 0
      },
      "text/plain": [
       "  0%|          | 0/10000 [00:00<?, ?it/s]"
      ]
     },
     "metadata": {},
     "output_type": "display_data"
    },
    {
     "name": "stdout",
     "output_type": "stream",
     "text": [
      "\n",
      " Early Stopping / epoch: 604 loss: 0.0160\n",
      "-------------------------------------------------------------------------------------\n",
      "lr: 1e-05  patience: 20  num_layers: 2  batch_size: 32  hidden_size: 16  dropout: 0.25\n"
     ]
    },
    {
     "data": {
      "application/vnd.jupyter.widget-view+json": {
       "model_id": "9116cbe1a7a14e7991c925ef6a5a9fbf",
       "version_major": 2,
       "version_minor": 0
      },
      "text/plain": [
       "  0%|          | 0/10000 [00:00<?, ?it/s]"
      ]
     },
     "metadata": {},
     "output_type": "display_data"
    },
    {
     "name": "stdout",
     "output_type": "stream",
     "text": [
      "\n",
      " Early Stopping / epoch: 462 loss: 0.0135\n",
      "-------------------------------------------------------------------------------------\n",
      "lr: 1e-05  patience: 20  num_layers: 2  batch_size: 32  hidden_size: 32  dropout: 0.25\n"
     ]
    },
    {
     "data": {
      "application/vnd.jupyter.widget-view+json": {
       "model_id": "d3f2482278b34199b405563a6ec5a5f5",
       "version_major": 2,
       "version_minor": 0
      },
      "text/plain": [
       "  0%|          | 0/10000 [00:00<?, ?it/s]"
      ]
     },
     "metadata": {},
     "output_type": "display_data"
    },
    {
     "name": "stdout",
     "output_type": "stream",
     "text": [
      "\n",
      " Early Stopping / epoch: 436 loss: 0.0126\n",
      "-------------------------------------------------------------------------------------\n",
      "lr: 1e-05  patience: 20  num_layers: 2  batch_size: 64  hidden_size: 8  dropout: 0.25\n"
     ]
    },
    {
     "data": {
      "application/vnd.jupyter.widget-view+json": {
       "model_id": "822b026ca51d4fdf84c614dc513ac921",
       "version_major": 2,
       "version_minor": 0
      },
      "text/plain": [
       "  0%|          | 0/10000 [00:00<?, ?it/s]"
      ]
     },
     "metadata": {},
     "output_type": "display_data"
    },
    {
     "name": "stdout",
     "output_type": "stream",
     "text": [
      "\n",
      " Early Stopping / epoch: 528 loss: 0.0317\n",
      "-------------------------------------------------------------------------------------\n",
      "lr: 1e-05  patience: 20  num_layers: 2  batch_size: 64  hidden_size: 16  dropout: 0.25\n"
     ]
    },
    {
     "data": {
      "application/vnd.jupyter.widget-view+json": {
       "model_id": "a52abc5989d0453c90345337a04339bd",
       "version_major": 2,
       "version_minor": 0
      },
      "text/plain": [
       "  0%|          | 0/10000 [00:00<?, ?it/s]"
      ]
     },
     "metadata": {},
     "output_type": "display_data"
    },
    {
     "name": "stdout",
     "output_type": "stream",
     "text": [
      "\n",
      " Early Stopping / epoch: 756 loss: 0.0112\n",
      "-------------------------------------------------------------------------------------\n",
      "lr: 1e-05  patience: 20  num_layers: 2  batch_size: 64  hidden_size: 32  dropout: 0.25\n"
     ]
    },
    {
     "data": {
      "application/vnd.jupyter.widget-view+json": {
       "model_id": "f7501a429df24fa78287ade7f30ed880",
       "version_major": 2,
       "version_minor": 0
      },
      "text/plain": [
       "  0%|          | 0/10000 [00:00<?, ?it/s]"
      ]
     },
     "metadata": {},
     "output_type": "display_data"
    },
    {
     "name": "stdout",
     "output_type": "stream",
     "text": [
      "\n",
      " Early Stopping / epoch: 421 loss: 0.0123\n",
      "-------------------------------------------------------------------------------------\n",
      "lr: 1e-05  patience: 20  num_layers: 4  batch_size: 32  hidden_size: 8  dropout: 0.25\n"
     ]
    },
    {
     "data": {
      "application/vnd.jupyter.widget-view+json": {
       "model_id": "e08bcaeb74364d189310fe177aa85e29",
       "version_major": 2,
       "version_minor": 0
      },
      "text/plain": [
       "  0%|          | 0/10000 [00:00<?, ?it/s]"
      ]
     },
     "metadata": {},
     "output_type": "display_data"
    },
    {
     "name": "stdout",
     "output_type": "stream",
     "text": [
      "\n",
      " Early Stopping / epoch: 192 loss: 0.0524\n",
      "-------------------------------------------------------------------------------------\n",
      "lr: 1e-05  patience: 20  num_layers: 4  batch_size: 32  hidden_size: 16  dropout: 0.25\n"
     ]
    },
    {
     "data": {
      "application/vnd.jupyter.widget-view+json": {
       "model_id": "5166508723cb4e9c94701619b35e53f6",
       "version_major": 2,
       "version_minor": 0
      },
      "text/plain": [
       "  0%|          | 0/10000 [00:00<?, ?it/s]"
      ]
     },
     "metadata": {},
     "output_type": "display_data"
    },
    {
     "name": "stdout",
     "output_type": "stream",
     "text": [
      "\n",
      " Early Stopping / epoch: 286 loss: 0.0494\n",
      "-------------------------------------------------------------------------------------\n",
      "lr: 1e-05  patience: 20  num_layers: 4  batch_size: 32  hidden_size: 32  dropout: 0.25\n"
     ]
    },
    {
     "data": {
      "application/vnd.jupyter.widget-view+json": {
       "model_id": "38c71561419e456c9a6922c3cd981034",
       "version_major": 2,
       "version_minor": 0
      },
      "text/plain": [
       "  0%|          | 0/10000 [00:00<?, ?it/s]"
      ]
     },
     "metadata": {},
     "output_type": "display_data"
    },
    {
     "name": "stdout",
     "output_type": "stream",
     "text": [
      "\n",
      " Early Stopping / epoch: 209 loss: 0.0494\n",
      "-------------------------------------------------------------------------------------\n",
      "lr: 1e-05  patience: 20  num_layers: 4  batch_size: 64  hidden_size: 8  dropout: 0.25\n"
     ]
    },
    {
     "data": {
      "application/vnd.jupyter.widget-view+json": {
       "model_id": "67f8b306455f497491085064ad879a91",
       "version_major": 2,
       "version_minor": 0
      },
      "text/plain": [
       "  0%|          | 0/10000 [00:00<?, ?it/s]"
      ]
     },
     "metadata": {},
     "output_type": "display_data"
    },
    {
     "name": "stdout",
     "output_type": "stream",
     "text": [
      "\n",
      " Early Stopping / epoch: 133 loss: 0.0490\n",
      "-------------------------------------------------------------------------------------\n",
      "lr: 1e-05  patience: 20  num_layers: 4  batch_size: 64  hidden_size: 16  dropout: 0.25\n"
     ]
    },
    {
     "data": {
      "application/vnd.jupyter.widget-view+json": {
       "model_id": "40398887ef5e45cf9feb12d51e38c325",
       "version_major": 2,
       "version_minor": 0
      },
      "text/plain": [
       "  0%|          | 0/10000 [00:00<?, ?it/s]"
      ]
     },
     "metadata": {},
     "output_type": "display_data"
    },
    {
     "name": "stdout",
     "output_type": "stream",
     "text": [
      "\n",
      " Early Stopping / epoch: 267 loss: 0.0501\n",
      "-------------------------------------------------------------------------------------\n",
      "lr: 1e-05  patience: 20  num_layers: 4  batch_size: 64  hidden_size: 32  dropout: 0.25\n"
     ]
    },
    {
     "data": {
      "application/vnd.jupyter.widget-view+json": {
       "model_id": "9c3f3458c9b54a33a01d70329451687a",
       "version_major": 2,
       "version_minor": 0
      },
      "text/plain": [
       "  0%|          | 0/10000 [00:00<?, ?it/s]"
      ]
     },
     "metadata": {},
     "output_type": "display_data"
    },
    {
     "name": "stdout",
     "output_type": "stream",
     "text": [
      "\n",
      " Early Stopping / epoch: 167 loss: 0.0490\n",
      "-------------------------------------------------------------------------------------\n",
      "lr: 1e-05  patience: 20  num_layers: 8  batch_size: 32  hidden_size: 8  dropout: 0.25\n"
     ]
    },
    {
     "data": {
      "application/vnd.jupyter.widget-view+json": {
       "model_id": "310a90a44589436d9bd2ae621aa72d16",
       "version_major": 2,
       "version_minor": 0
      },
      "text/plain": [
       "  0%|          | 0/10000 [00:00<?, ?it/s]"
      ]
     },
     "metadata": {},
     "output_type": "display_data"
    },
    {
     "name": "stdout",
     "output_type": "stream",
     "text": [
      "\n",
      " Early Stopping / epoch: 173 loss: 0.0524\n",
      "-------------------------------------------------------------------------------------\n",
      "lr: 1e-05  patience: 20  num_layers: 8  batch_size: 32  hidden_size: 16  dropout: 0.25\n"
     ]
    },
    {
     "data": {
      "application/vnd.jupyter.widget-view+json": {
       "model_id": "6bcdef3b443d4932ac9be0c1e0fdde76",
       "version_major": 2,
       "version_minor": 0
      },
      "text/plain": [
       "  0%|          | 0/10000 [00:00<?, ?it/s]"
      ]
     },
     "metadata": {},
     "output_type": "display_data"
    },
    {
     "name": "stdout",
     "output_type": "stream",
     "text": [
      "\n",
      " Early Stopping / epoch: 148 loss: 0.0528\n",
      "-------------------------------------------------------------------------------------\n",
      "lr: 1e-05  patience: 20  num_layers: 8  batch_size: 32  hidden_size: 32  dropout: 0.25\n"
     ]
    },
    {
     "data": {
      "application/vnd.jupyter.widget-view+json": {
       "model_id": "26f0a706abd84a2593d7b3b6eb32432d",
       "version_major": 2,
       "version_minor": 0
      },
      "text/plain": [
       "  0%|          | 0/10000 [00:00<?, ?it/s]"
      ]
     },
     "metadata": {},
     "output_type": "display_data"
    },
    {
     "name": "stdout",
     "output_type": "stream",
     "text": [
      "\n",
      " Early Stopping / epoch: 211 loss: 0.0522\n",
      "-------------------------------------------------------------------------------------\n",
      "lr: 1e-05  patience: 20  num_layers: 8  batch_size: 64  hidden_size: 8  dropout: 0.25\n"
     ]
    },
    {
     "data": {
      "application/vnd.jupyter.widget-view+json": {
       "model_id": "201d8e7d3e924faebac41beae31af7d3",
       "version_major": 2,
       "version_minor": 0
      },
      "text/plain": [
       "  0%|          | 0/10000 [00:00<?, ?it/s]"
      ]
     },
     "metadata": {},
     "output_type": "display_data"
    },
    {
     "name": "stdout",
     "output_type": "stream",
     "text": [
      "\n",
      " Early Stopping / epoch: 277 loss: 0.0498\n",
      "-------------------------------------------------------------------------------------\n",
      "lr: 1e-05  patience: 20  num_layers: 8  batch_size: 64  hidden_size: 16  dropout: 0.25\n"
     ]
    },
    {
     "data": {
      "application/vnd.jupyter.widget-view+json": {
       "model_id": "c825a84494be4c82bac75201f12abf3b",
       "version_major": 2,
       "version_minor": 0
      },
      "text/plain": [
       "  0%|          | 0/10000 [00:00<?, ?it/s]"
      ]
     },
     "metadata": {},
     "output_type": "display_data"
    },
    {
     "name": "stdout",
     "output_type": "stream",
     "text": [
      "\n",
      " Early Stopping / epoch: 94 loss: 0.0507\n",
      "-------------------------------------------------------------------------------------\n",
      "lr: 1e-05  patience: 20  num_layers: 8  batch_size: 64  hidden_size: 32  dropout: 0.25\n"
     ]
    },
    {
     "data": {
      "application/vnd.jupyter.widget-view+json": {
       "model_id": "76a1d9944c1f41749da7916fad793a43",
       "version_major": 2,
       "version_minor": 0
      },
      "text/plain": [
       "  0%|          | 0/10000 [00:00<?, ?it/s]"
      ]
     },
     "metadata": {},
     "output_type": "display_data"
    },
    {
     "name": "stdout",
     "output_type": "stream",
     "text": [
      "\n",
      " Early Stopping / epoch: 93 loss: 0.0502\n",
      "-------------------------------------------------------------------------------------\n",
      "lr: 1e-05  patience: 50  num_layers: 1  batch_size: 32  hidden_size: 8  dropout: 0.25\n"
     ]
    },
    {
     "data": {
      "application/vnd.jupyter.widget-view+json": {
       "model_id": "460a0feeccc44cc58e1068a9879cfe4a",
       "version_major": 2,
       "version_minor": 0
      },
      "text/plain": [
       "  0%|          | 0/10000 [00:00<?, ?it/s]"
      ]
     },
     "metadata": {},
     "output_type": "display_data"
    },
    {
     "name": "stdout",
     "output_type": "stream",
     "text": [
      "\n",
      " Early Stopping / epoch: 8456 loss: 0.0000\n",
      "-------------------------------------------------------------------------------------\n",
      "lr: 1e-05  patience: 50  num_layers: 1  batch_size: 32  hidden_size: 16  dropout: 0.25\n"
     ]
    },
    {
     "data": {
      "application/vnd.jupyter.widget-view+json": {
       "model_id": "fb5d5470c9d64e6a84ee2d24fad1f65a",
       "version_major": 2,
       "version_minor": 0
      },
      "text/plain": [
       "  0%|          | 0/10000 [00:00<?, ?it/s]"
      ]
     },
     "metadata": {},
     "output_type": "display_data"
    },
    {
     "name": "stdout",
     "output_type": "stream",
     "text": [
      "\n",
      " Early Stopping / epoch: 7975 loss: 0.0000\n",
      "-------------------------------------------------------------------------------------\n",
      "lr: 1e-05  patience: 50  num_layers: 1  batch_size: 32  hidden_size: 32  dropout: 0.25\n"
     ]
    },
    {
     "data": {
      "application/vnd.jupyter.widget-view+json": {
       "model_id": "44bf1cdce0c142eb9e472574ad1bd906",
       "version_major": 2,
       "version_minor": 0
      },
      "text/plain": [
       "  0%|          | 0/10000 [00:00<?, ?it/s]"
      ]
     },
     "metadata": {},
     "output_type": "display_data"
    },
    {
     "name": "stdout",
     "output_type": "stream",
     "text": [
      "\n",
      " Early Stopping / epoch: 6709 loss: 0.0000\n",
      "-------------------------------------------------------------------------------------\n",
      "lr: 1e-05  patience: 50  num_layers: 1  batch_size: 64  hidden_size: 8  dropout: 0.25\n"
     ]
    },
    {
     "data": {
      "application/vnd.jupyter.widget-view+json": {
       "model_id": "d07a375403cd4269af7200d0978d8f2c",
       "version_major": 2,
       "version_minor": 0
      },
      "text/plain": [
       "  0%|          | 0/10000 [00:00<?, ?it/s]"
      ]
     },
     "metadata": {},
     "output_type": "display_data"
    },
    {
     "name": "stdout",
     "output_type": "stream",
     "text": [
      "-------------------------------------------------------------------------------------\n",
      "lr: 1e-05  patience: 50  num_layers: 1  batch_size: 64  hidden_size: 16  dropout: 0.25\n"
     ]
    },
    {
     "data": {
      "application/vnd.jupyter.widget-view+json": {
       "model_id": "708ab4be14314f5b87ebf3ffb51da8bd",
       "version_major": 2,
       "version_minor": 0
      },
      "text/plain": [
       "  0%|          | 0/10000 [00:00<?, ?it/s]"
      ]
     },
     "metadata": {},
     "output_type": "display_data"
    },
    {
     "name": "stdout",
     "output_type": "stream",
     "text": [
      "-------------------------------------------------------------------------------------\n",
      "lr: 1e-05  patience: 50  num_layers: 1  batch_size: 64  hidden_size: 32  dropout: 0.25\n"
     ]
    },
    {
     "data": {
      "application/vnd.jupyter.widget-view+json": {
       "model_id": "e81800b251024d52b236c6f1080e8f95",
       "version_major": 2,
       "version_minor": 0
      },
      "text/plain": [
       "  0%|          | 0/10000 [00:00<?, ?it/s]"
      ]
     },
     "metadata": {},
     "output_type": "display_data"
    },
    {
     "name": "stdout",
     "output_type": "stream",
     "text": [
      "-------------------------------------------------------------------------------------\n",
      "lr: 1e-05  patience: 50  num_layers: 2  batch_size: 32  hidden_size: 8  dropout: 0.25\n"
     ]
    },
    {
     "data": {
      "application/vnd.jupyter.widget-view+json": {
       "model_id": "485b52f7219b44a5841d5f6e522e5a8d",
       "version_major": 2,
       "version_minor": 0
      },
      "text/plain": [
       "  0%|          | 0/10000 [00:00<?, ?it/s]"
      ]
     },
     "metadata": {},
     "output_type": "display_data"
    },
    {
     "name": "stdout",
     "output_type": "stream",
     "text": [
      "\n",
      " Early Stopping / epoch: 1087 loss: 0.0108\n",
      "-------------------------------------------------------------------------------------\n",
      "lr: 1e-05  patience: 50  num_layers: 2  batch_size: 32  hidden_size: 16  dropout: 0.25\n"
     ]
    },
    {
     "data": {
      "application/vnd.jupyter.widget-view+json": {
       "model_id": "9847da3ac3c7431f937ea5b66c6922b5",
       "version_major": 2,
       "version_minor": 0
      },
      "text/plain": [
       "  0%|          | 0/10000 [00:00<?, ?it/s]"
      ]
     },
     "metadata": {},
     "output_type": "display_data"
    },
    {
     "name": "stdout",
     "output_type": "stream",
     "text": [
      "\n",
      " Early Stopping / epoch: 847 loss: 0.0114\n",
      "-------------------------------------------------------------------------------------\n",
      "lr: 1e-05  patience: 50  num_layers: 2  batch_size: 32  hidden_size: 32  dropout: 0.25\n"
     ]
    },
    {
     "data": {
      "application/vnd.jupyter.widget-view+json": {
       "model_id": "9cecb649944e45c6b19bb060c13e91b9",
       "version_major": 2,
       "version_minor": 0
      },
      "text/plain": [
       "  0%|          | 0/10000 [00:00<?, ?it/s]"
      ]
     },
     "metadata": {},
     "output_type": "display_data"
    },
    {
     "name": "stdout",
     "output_type": "stream",
     "text": [
      "\n",
      " Early Stopping / epoch: 457 loss: 0.0110\n",
      "-------------------------------------------------------------------------------------\n",
      "lr: 1e-05  patience: 50  num_layers: 2  batch_size: 64  hidden_size: 8  dropout: 0.25\n"
     ]
    },
    {
     "data": {
      "application/vnd.jupyter.widget-view+json": {
       "model_id": "fb0814cc8ed2495384eb953890923105",
       "version_major": 2,
       "version_minor": 0
      },
      "text/plain": [
       "  0%|          | 0/10000 [00:00<?, ?it/s]"
      ]
     },
     "metadata": {},
     "output_type": "display_data"
    },
    {
     "name": "stdout",
     "output_type": "stream",
     "text": [
      "\n",
      " Early Stopping / epoch: 972 loss: 0.0107\n",
      "-------------------------------------------------------------------------------------\n",
      "lr: 1e-05  patience: 50  num_layers: 2  batch_size: 64  hidden_size: 16  dropout: 0.25\n"
     ]
    },
    {
     "data": {
      "application/vnd.jupyter.widget-view+json": {
       "model_id": "5c4e93ba8ec545218c71b88c6438538b",
       "version_major": 2,
       "version_minor": 0
      },
      "text/plain": [
       "  0%|          | 0/10000 [00:00<?, ?it/s]"
      ]
     },
     "metadata": {},
     "output_type": "display_data"
    },
    {
     "name": "stdout",
     "output_type": "stream",
     "text": [
      "\n",
      " Early Stopping / epoch: 714 loss: 0.0123\n",
      "-------------------------------------------------------------------------------------\n",
      "lr: 1e-05  patience: 50  num_layers: 2  batch_size: 64  hidden_size: 32  dropout: 0.25\n"
     ]
    },
    {
     "data": {
      "application/vnd.jupyter.widget-view+json": {
       "model_id": "c4d58b4ca8c243059c9b664df27bc27f",
       "version_major": 2,
       "version_minor": 0
      },
      "text/plain": [
       "  0%|          | 0/10000 [00:00<?, ?it/s]"
      ]
     },
     "metadata": {},
     "output_type": "display_data"
    },
    {
     "name": "stdout",
     "output_type": "stream",
     "text": [
      "\n",
      " Early Stopping / epoch: 888 loss: 0.0093\n",
      "-------------------------------------------------------------------------------------\n",
      "lr: 1e-05  patience: 50  num_layers: 4  batch_size: 32  hidden_size: 8  dropout: 0.25\n"
     ]
    },
    {
     "data": {
      "application/vnd.jupyter.widget-view+json": {
       "model_id": "4757a14da9ec4b03bc151ccfb17a0425",
       "version_major": 2,
       "version_minor": 0
      },
      "text/plain": [
       "  0%|          | 0/10000 [00:00<?, ?it/s]"
      ]
     },
     "metadata": {},
     "output_type": "display_data"
    },
    {
     "name": "stdout",
     "output_type": "stream",
     "text": [
      "\n",
      " Early Stopping / epoch: 233 loss: 0.0513\n",
      "-------------------------------------------------------------------------------------\n",
      "lr: 1e-05  patience: 50  num_layers: 4  batch_size: 32  hidden_size: 16  dropout: 0.25\n"
     ]
    },
    {
     "data": {
      "application/vnd.jupyter.widget-view+json": {
       "model_id": "73ace0a368904d6e8b22737bf2836b83",
       "version_major": 2,
       "version_minor": 0
      },
      "text/plain": [
       "  0%|          | 0/10000 [00:00<?, ?it/s]"
      ]
     },
     "metadata": {},
     "output_type": "display_data"
    },
    {
     "name": "stdout",
     "output_type": "stream",
     "text": [
      "\n",
      " Early Stopping / epoch: 1262 loss: 0.0151\n",
      "-------------------------------------------------------------------------------------\n",
      "lr: 1e-05  patience: 50  num_layers: 4  batch_size: 32  hidden_size: 32  dropout: 0.25\n"
     ]
    },
    {
     "data": {
      "application/vnd.jupyter.widget-view+json": {
       "model_id": "56a7f2a5ba484657ac4d6a891c1a2c2c",
       "version_major": 2,
       "version_minor": 0
      },
      "text/plain": [
       "  0%|          | 0/10000 [00:00<?, ?it/s]"
      ]
     },
     "metadata": {},
     "output_type": "display_data"
    },
    {
     "name": "stdout",
     "output_type": "stream",
     "text": [
      "\n",
      " Early Stopping / epoch: 830 loss: 0.0126\n",
      "-------------------------------------------------------------------------------------\n",
      "lr: 1e-05  patience: 50  num_layers: 4  batch_size: 64  hidden_size: 8  dropout: 0.25\n"
     ]
    },
    {
     "data": {
      "application/vnd.jupyter.widget-view+json": {
       "model_id": "0165c9b994e645e2a635763d5a702aaa",
       "version_major": 2,
       "version_minor": 0
      },
      "text/plain": [
       "  0%|          | 0/10000 [00:00<?, ?it/s]"
      ]
     },
     "metadata": {},
     "output_type": "display_data"
    },
    {
     "name": "stdout",
     "output_type": "stream",
     "text": [
      "\n",
      " Early Stopping / epoch: 296 loss: 0.0504\n",
      "-------------------------------------------------------------------------------------\n",
      "lr: 1e-05  patience: 50  num_layers: 4  batch_size: 64  hidden_size: 16  dropout: 0.25\n"
     ]
    },
    {
     "data": {
      "application/vnd.jupyter.widget-view+json": {
       "model_id": "692ac58c6c57489eb573c80cbcddb296",
       "version_major": 2,
       "version_minor": 0
      },
      "text/plain": [
       "  0%|          | 0/10000 [00:00<?, ?it/s]"
      ]
     },
     "metadata": {},
     "output_type": "display_data"
    },
    {
     "name": "stdout",
     "output_type": "stream",
     "text": [
      "\n",
      " Early Stopping / epoch: 900 loss: 0.0138\n",
      "-------------------------------------------------------------------------------------\n",
      "lr: 1e-05  patience: 50  num_layers: 4  batch_size: 64  hidden_size: 32  dropout: 0.25\n"
     ]
    },
    {
     "data": {
      "application/vnd.jupyter.widget-view+json": {
       "model_id": "6f288c5e1ff5485c91efec4a147c6478",
       "version_major": 2,
       "version_minor": 0
      },
      "text/plain": [
       "  0%|          | 0/10000 [00:00<?, ?it/s]"
      ]
     },
     "metadata": {},
     "output_type": "display_data"
    },
    {
     "name": "stdout",
     "output_type": "stream",
     "text": [
      "\n",
      " Early Stopping / epoch: 966 loss: 0.0123\n",
      "-------------------------------------------------------------------------------------\n",
      "lr: 1e-05  patience: 50  num_layers: 8  batch_size: 32  hidden_size: 8  dropout: 0.25\n"
     ]
    },
    {
     "data": {
      "application/vnd.jupyter.widget-view+json": {
       "model_id": "9d519070e819497d8b3121765647f377",
       "version_major": 2,
       "version_minor": 0
      },
      "text/plain": [
       "  0%|          | 0/10000 [00:00<?, ?it/s]"
      ]
     },
     "metadata": {},
     "output_type": "display_data"
    },
    {
     "name": "stdout",
     "output_type": "stream",
     "text": [
      "\n",
      " Early Stopping / epoch: 221 loss: 0.0520\n",
      "-------------------------------------------------------------------------------------\n",
      "lr: 1e-05  patience: 50  num_layers: 8  batch_size: 32  hidden_size: 16  dropout: 0.25\n"
     ]
    },
    {
     "data": {
      "application/vnd.jupyter.widget-view+json": {
       "model_id": "054ead1f4fb846c1ad4f2a8140c2cb7a",
       "version_major": 2,
       "version_minor": 0
      },
      "text/plain": [
       "  0%|          | 0/10000 [00:00<?, ?it/s]"
      ]
     },
     "metadata": {},
     "output_type": "display_data"
    },
    {
     "name": "stdout",
     "output_type": "stream",
     "text": [
      "\n",
      " Early Stopping / epoch: 307 loss: 0.0523\n",
      "-------------------------------------------------------------------------------------\n",
      "lr: 1e-05  patience: 50  num_layers: 8  batch_size: 32  hidden_size: 32  dropout: 0.25\n"
     ]
    },
    {
     "data": {
      "application/vnd.jupyter.widget-view+json": {
       "model_id": "85a9e2f5dbd846be94a191322f002a9f",
       "version_major": 2,
       "version_minor": 0
      },
      "text/plain": [
       "  0%|          | 0/10000 [00:00<?, ?it/s]"
      ]
     },
     "metadata": {},
     "output_type": "display_data"
    },
    {
     "name": "stdout",
     "output_type": "stream",
     "text": [
      "\n",
      " Early Stopping / epoch: 201 loss: 0.0520\n",
      "-------------------------------------------------------------------------------------\n",
      "lr: 1e-05  patience: 50  num_layers: 8  batch_size: 64  hidden_size: 8  dropout: 0.25\n"
     ]
    },
    {
     "data": {
      "application/vnd.jupyter.widget-view+json": {
       "model_id": "ae4de7cbd7c8475da2f21b5735ff7c34",
       "version_major": 2,
       "version_minor": 0
      },
      "text/plain": [
       "  0%|          | 0/10000 [00:00<?, ?it/s]"
      ]
     },
     "metadata": {},
     "output_type": "display_data"
    },
    {
     "name": "stdout",
     "output_type": "stream",
     "text": [
      "\n",
      " Early Stopping / epoch: 285 loss: 0.0502\n",
      "-------------------------------------------------------------------------------------\n",
      "lr: 1e-05  patience: 50  num_layers: 8  batch_size: 64  hidden_size: 16  dropout: 0.25\n"
     ]
    },
    {
     "data": {
      "application/vnd.jupyter.widget-view+json": {
       "model_id": "c91855365730417c9a7e5768287b0c06",
       "version_major": 2,
       "version_minor": 0
      },
      "text/plain": [
       "  0%|          | 0/10000 [00:00<?, ?it/s]"
      ]
     },
     "metadata": {},
     "output_type": "display_data"
    },
    {
     "name": "stdout",
     "output_type": "stream",
     "text": [
      "\n",
      " Early Stopping / epoch: 167 loss: 0.0494\n",
      "-------------------------------------------------------------------------------------\n",
      "lr: 1e-05  patience: 50  num_layers: 8  batch_size: 64  hidden_size: 32  dropout: 0.25\n"
     ]
    },
    {
     "data": {
      "application/vnd.jupyter.widget-view+json": {
       "model_id": "763911d6748f4a06890de0d68370199b",
       "version_major": 2,
       "version_minor": 0
      },
      "text/plain": [
       "  0%|          | 0/10000 [00:00<?, ?it/s]"
      ]
     },
     "metadata": {},
     "output_type": "display_data"
    },
    {
     "name": "stdout",
     "output_type": "stream",
     "text": [
      "\n",
      " Early Stopping / epoch: 184 loss: 0.0501\n"
     ]
    }
   ],
   "source": [
    "criterion = nn.MSELoss()\n",
    "\n",
    "input_size = 3\n",
    "sequence_length = 60\n",
    "num_epochs = 10000\n",
    "\n",
    "df = Prepare_df.processing(data, 'stdDay', 'delta_variants')\n",
    "\n",
    "x = df.iloc[:, 0:]\n",
    "y = df.iloc[:,:1]\n",
    "\n",
    "ms = MinMaxScaler()\n",
    "ss = StandardScaler()\n",
    "\n",
    "ss.fit(x)\n",
    "ms.fit(y)\n",
    "\n",
    "rmse_min = np.inf\n",
    "best_model = {}\n",
    "\n",
    "for hyperparameter in tqdm(hyperparameter_dict.values(), desc = '대구_GRU', position = 0):\n",
    "    lr = hyperparameter[0]\n",
    "    patience = hyperparameter[1]\n",
    "    num_layers = hyperparameter[2]\n",
    "    batch_size = hyperparameter[3]\n",
    "    hidden_size = hyperparameter[4]\n",
    "    dropout = hyperparameter[5]\n",
    "    print('-------------------------------------------------------------------------------------')\n",
    "    print('lr:', lr, ' patience:', patience, ' num_layers:', num_layers, \n",
    "          ' batch_size:', batch_size, ' hidden_size:', hidden_size, ' dropout:', dropout)\n",
    "    \n",
    "    x, y, x_ss, y_ms, train_loader, test_loader = Prepare_df.split_data(df, 59, 60, 1, batch_size, 'mto')\n",
    "    \n",
    "\n",
    "    model = GRU(input_size = input_size,\n",
    "                 hidden_size = hidden_size,\n",
    "                 sequence_length = sequence_length,\n",
    "                 num_layers = num_layers, \n",
    "                 dropout = dropout, \n",
    "                 device = device).to(device)\n",
    "\n",
    "    optimizer = Adam(model.parameters(), lr = lr)\n",
    "    \n",
    "    loss_list, model, epoch = Trainer.Many_to_One(train_loader, \n",
    "                                                  test_loader, \n",
    "                                                  model, \n",
    "                                                  criterion, \n",
    "                                                  optimizer, \n",
    "                                                  num_epochs, \n",
    "                                                  patience,\n",
    "                                                  device)\n",
    "    \n",
    "    label_y, predicted = predict_mto(model, df, x_ss, y_ms)\n",
    "    \n",
    "    if rmse_min > rmse(label_y[-7:], predicted[-7:]):\n",
    "        rmse_min = rmse(label_y[-7:], predicted[-7:])\n",
    "        best_model['GRU'] = [rmse_min, model, loss_list, epoch, lr, patience, \n",
    "                             num_layers, batch_size, hidden_size, dropout]"
   ]
  },
  {
   "cell_type": "code",
   "execution_count": 5,
   "id": "c8a5a2de",
   "metadata": {
    "ExecuteTime": {
     "end_time": "2023-06-06T09:27:29.807026Z",
     "start_time": "2023-06-06T09:27:29.779101Z"
    }
   },
   "outputs": [
    {
     "data": {
      "text/plain": [
       "{'GRU': [4.4402895473885975,\n",
       "  GRU(\n",
       "    (gru): GRU(3, 8, batch_first=True, dropout=0.25)\n",
       "    (fc1): Linear(in_features=480, out_features=128, bias=True)\n",
       "    (fc2): Linear(in_features=128, out_features=64, bias=True)\n",
       "    (fc3): Linear(in_features=64, out_features=1, bias=True)\n",
       "    (relu): ReLU()\n",
       "  ),\n",
       "  [0.1019335389137268,\n",
       "   0.10135632753372192,\n",
       "   0.10078344494104385,\n",
       "   0.10021564364433289,\n",
       "   0.09965121001005173,\n",
       "   0.09909047186374664,\n",
       "   0.09853401780128479,\n",
       "   0.09798230975866318,\n",
       "   0.09743590652942657,\n",
       "   0.09689542651176453,\n",
       "   0.09636285156011581,\n",
       "   0.09583591669797897,\n",
       "   0.09531601518392563,\n",
       "   0.09480149298906326,\n",
       "   0.09429348260164261,\n",
       "   0.09379379451274872,\n",
       "   0.09329820424318314,\n",
       "   0.09280635416507721,\n",
       "   0.09231679141521454,\n",
       "   0.09183007478713989,\n",
       "   0.09134651720523834,\n",
       "   0.0908689871430397,\n",
       "   0.09039519727230072,\n",
       "   0.08992436528205872,\n",
       "   0.0894559919834137,\n",
       "   0.08899468928575516,\n",
       "   0.08853833377361298,\n",
       "   0.0880873054265976,\n",
       "   0.08764152228832245,\n",
       "   0.08720273524522781,\n",
       "   0.08676882833242416,\n",
       "   0.08634290844202042,\n",
       "   0.08592395484447479,\n",
       "   0.08550810068845749,\n",
       "   0.08509744703769684,\n",
       "   0.08469142019748688,\n",
       "   0.08429212123155594,\n",
       "   0.08389890193939209,\n",
       "   0.08351215720176697,\n",
       "   0.08312972635030746,\n",
       "   0.08275265991687775,\n",
       "   0.08237922936677933,\n",
       "   0.08200903236865997,\n",
       "   0.08164215087890625,\n",
       "   0.08127394318580627,\n",
       "   0.0809079185128212,\n",
       "   0.08054376393556595,\n",
       "   0.08018393814563751,\n",
       "   0.07982669770717621,\n",
       "   0.07947193831205368,\n",
       "   0.07911835610866547,\n",
       "   0.07876680791378021,\n",
       "   0.07841578871011734,\n",
       "   0.07806467264890671,\n",
       "   0.07771659642457962,\n",
       "   0.07737128436565399,\n",
       "   0.07702858000993729,\n",
       "   0.0766884982585907,\n",
       "   0.0763506293296814,\n",
       "   0.07601720839738846,\n",
       "   0.07568655908107758,\n",
       "   0.07535966485738754,\n",
       "   0.07503642141819,\n",
       "   0.07471571117639542,\n",
       "   0.07439713925123215,\n",
       "   0.07407864183187485,\n",
       "   0.07376228272914886,\n",
       "   0.07344953715801239,\n",
       "   0.07314029335975647,\n",
       "   0.07283343374729156,\n",
       "   0.07252882421016693,\n",
       "   0.07222568243741989,\n",
       "   0.07192423194646835,\n",
       "   0.0716257244348526,\n",
       "   0.07133010029792786,\n",
       "   0.07103701680898666,\n",
       "   0.07074552029371262,\n",
       "   0.07045470923185349,\n",
       "   0.07016582787036896,\n",
       "   0.06987853348255157,\n",
       "   0.0695934072136879,\n",
       "   0.06930950284004211,\n",
       "   0.06902769207954407,\n",
       "   0.06874741613864899,\n",
       "   0.06846854835748672,\n",
       "   0.06818991899490356,\n",
       "   0.06791333109140396,\n",
       "   0.06763909757137299,\n",
       "   0.06736627966165543,\n",
       "   0.06709495931863785,\n",
       "   0.06682518869638443,\n",
       "   0.06655728071928024,\n",
       "   0.06629140675067902,\n",
       "   0.06602896004915237,\n",
       "   0.06576874852180481,\n",
       "   0.06551014631986618,\n",
       "   0.06525375694036484,\n",
       "   0.0650002509355545,\n",
       "   0.0647490993142128,\n",
       "   0.06450022757053375,\n",
       "   0.0642535611987114,\n",
       "   0.06401032209396362,\n",
       "   0.06377019733190536,\n",
       "   0.06353087723255157,\n",
       "   0.06329268962144852,\n",
       "   0.063056081533432,\n",
       "   0.06282154470682144,\n",
       "   0.06258846819400787,\n",
       "   0.062356963753700256,\n",
       "   0.06212867423892021,\n",
       "   0.06190256029367447,\n",
       "   0.061677902936935425,\n",
       "   0.061455387622117996,\n",
       "   0.06123477220535278,\n",
       "   0.06101526692509651,\n",
       "   0.060797836631536484,\n",
       "   0.060581330209970474,\n",
       "   0.06036544218659401,\n",
       "   0.06015121191740036,\n",
       "   0.059937432408332825,\n",
       "   0.059724390506744385,\n",
       "   0.05951257050037384,\n",
       "   0.05930238589644432,\n",
       "   0.05909385532140732,\n",
       "   0.05888739973306656,\n",
       "   0.05868224427103996,\n",
       "   0.05847853422164917,\n",
       "   0.058276619762182236,\n",
       "   0.05807552486658096,\n",
       "   0.057875435799360275,\n",
       "   0.05767674371600151,\n",
       "   0.05748051032423973,\n",
       "   0.05728529393672943,\n",
       "   0.057090695947408676,\n",
       "   0.05689666420221329,\n",
       "   0.05670372024178505,\n",
       "   0.05651147663593292,\n",
       "   0.0563201867043972,\n",
       "   0.05612991005182266,\n",
       "   0.05594058707356453,\n",
       "   0.05575278028845787,\n",
       "   0.05556559935212135,\n",
       "   0.05537876859307289,\n",
       "   0.05519251897931099,\n",
       "   0.05500718206167221,\n",
       "   0.05482318624854088,\n",
       "   0.054639704525470734,\n",
       "   0.054456524550914764,\n",
       "   0.054274026304483414,\n",
       "   0.05409152805805206,\n",
       "   0.05390927940607071,\n",
       "   0.05372689291834831,\n",
       "   0.053544823080301285,\n",
       "   0.05336332321166992,\n",
       "   0.05318288505077362,\n",
       "   0.053004007786512375,\n",
       "   0.05282767117023468,\n",
       "   0.05265180021524429,\n",
       "   0.052476536482572556,\n",
       "   0.05230078846216202,\n",
       "   0.052125684916973114,\n",
       "   0.051950521767139435,\n",
       "   0.05177672207355499,\n",
       "   0.05160408839583397,\n",
       "   0.05143166705965996,\n",
       "   0.051260147243738174,\n",
       "   0.05108853802084923,\n",
       "   0.050917115062475204,\n",
       "   0.05074675753712654,\n",
       "   0.050578974187374115,\n",
       "   0.050412848591804504,\n",
       "   0.05024848133325577,\n",
       "   0.05008530616760254,\n",
       "   0.04992317780852318,\n",
       "   0.04976142570376396,\n",
       "   0.04960135743021965,\n",
       "   0.049442339688539505,\n",
       "   0.0492841973900795,\n",
       "   0.049126725643873215,\n",
       "   0.04897000268101692,\n",
       "   0.048814184963703156,\n",
       "   0.04865948110818863,\n",
       "   0.048505816608667374,\n",
       "   0.048353660851716995,\n",
       "   0.04820200428366661,\n",
       "   0.04805044084787369,\n",
       "   0.04789973795413971,\n",
       "   0.04774966090917587,\n",
       "   0.04760023206472397,\n",
       "   0.04745156317949295,\n",
       "   0.04730340838432312,\n",
       "   0.0471564419567585,\n",
       "   0.047010451555252075,\n",
       "   0.046865314245224,\n",
       "   0.046720728278160095,\n",
       "   0.046576935797929764,\n",
       "   0.0464339554309845,\n",
       "   0.04629209637641907,\n",
       "   0.04615078121423721,\n",
       "   0.04601007327437401,\n",
       "   0.04587067291140556,\n",
       "   0.04573221132159233,\n",
       "   0.045594822615385056,\n",
       "   0.0454583503305912,\n",
       "   0.045322485268116,\n",
       "   0.04518747329711914,\n",
       "   0.045053038746118546,\n",
       "   0.044918954372406006,\n",
       "   0.04478507861495018,\n",
       "   0.044651098549366,\n",
       "   0.04451664164662361,\n",
       "   0.04438287764787674,\n",
       "   0.04424973577260971,\n",
       "   0.04411683604121208,\n",
       "   0.04398446902632713,\n",
       "   0.043852660804986954,\n",
       "   0.04372158646583557,\n",
       "   0.043591078370809555,\n",
       "   0.04346099868416786,\n",
       "   0.0433315634727478,\n",
       "   0.04320286959409714,\n",
       "   0.04307487607002258,\n",
       "   0.04294785112142563,\n",
       "   0.04282161593437195,\n",
       "   0.04269599914550781,\n",
       "   0.042570728808641434,\n",
       "   0.04244551435112953,\n",
       "   0.04232074320316315,\n",
       "   0.04219638556241989,\n",
       "   0.04207230731844902,\n",
       "   0.04194819554686546,\n",
       "   0.04182454198598862,\n",
       "   0.041701167821884155,\n",
       "   0.041577767580747604,\n",
       "   0.04145433008670807,\n",
       "   0.04133100062608719,\n",
       "   0.04120797663927078,\n",
       "   0.04108520597219467,\n",
       "   0.04096296429634094,\n",
       "   0.04084038361907005,\n",
       "   0.04071648791432381,\n",
       "   0.0405922494828701,\n",
       "   0.040468133985996246,\n",
       "   0.040344320237636566,\n",
       "   0.04022093862295151,\n",
       "   0.040097858756780624,\n",
       "   0.03997519239783287,\n",
       "   0.039853040128946304,\n",
       "   0.0397314690053463,\n",
       "   0.03961065784096718,\n",
       "   0.039490312337875366,\n",
       "   0.03937052562832832,\n",
       "   0.03925101086497307,\n",
       "   0.03913179412484169,\n",
       "   0.039013221859931946,\n",
       "   0.03889498487114906,\n",
       "   0.0387771800160408,\n",
       "   0.03865976631641388,\n",
       "   0.038542795926332474,\n",
       "   0.03842618688941002,\n",
       "   0.03830970451235771,\n",
       "   0.03819330036640167,\n",
       "   0.03807716444134712,\n",
       "   0.0379614420235157,\n",
       "   0.03784599155187607,\n",
       "   0.03773084655404091,\n",
       "   0.03761604428291321,\n",
       "   0.03750159218907356,\n",
       "   0.03738749399781227,\n",
       "   0.037273652851581573,\n",
       "   0.03715985268354416,\n",
       "   0.037046268582344055,\n",
       "   0.03693303465843201,\n",
       "   0.03682013228535652,\n",
       "   0.03670749068260193,\n",
       "   0.03659532219171524,\n",
       "   0.03648357465863228,\n",
       "   0.036372095346450806,\n",
       "   0.03626087307929993,\n",
       "   0.03615002706646919,\n",
       "   0.0360395722091198,\n",
       "   0.03592958301305771,\n",
       "   0.0358198806643486,\n",
       "   0.03571067377924919,\n",
       "   0.03560180589556694,\n",
       "   0.035493187606334686,\n",
       "   0.03538480028510094,\n",
       "   0.035276640206575394,\n",
       "   0.03516872972249985,\n",
       "   0.03506104275584221,\n",
       "   0.034953463822603226,\n",
       "   0.03484615311026573,\n",
       "   0.03473909571766853,\n",
       "   0.034632254391908646,\n",
       "   0.03452583774924278,\n",
       "   0.03441985696554184,\n",
       "   0.03431414067745209,\n",
       "   0.03420868143439293,\n",
       "   0.034103427082300186,\n",
       "   0.03399839624762535,\n",
       "   0.03389362245798111,\n",
       "   0.033789072185754776,\n",
       "   0.03368474170565605,\n",
       "   0.03358067199587822,\n",
       "   0.03347678482532501,\n",
       "   0.0333731509745121,\n",
       "   0.03326978161931038,\n",
       "   0.03316661715507507,\n",
       "   0.033063746988773346,\n",
       "   0.03296136483550072,\n",
       "   0.032859183847904205,\n",
       "   0.03275720775127411,\n",
       "   0.03265555202960968,\n",
       "   0.03255416080355644,\n",
       "   0.03245293349027634,\n",
       "   0.032351959496736526,\n",
       "   0.032251257449388504,\n",
       "   0.032150689512491226,\n",
       "   0.032050348818302155,\n",
       "   0.0319502167403698,\n",
       "   0.03185031935572624,\n",
       "   0.03175060451030731,\n",
       "   0.03165114298462868,\n",
       "   0.03155192732810974,\n",
       "   0.031452909111976624,\n",
       "   0.03135412186384201,\n",
       "   0.03125552460551262,\n",
       "   0.031157048419117928,\n",
       "   0.031058819964528084,\n",
       "   0.03096080757677555,\n",
       "   0.030862977728247643,\n",
       "   0.030765585601329803,\n",
       "   0.03066842071712017,\n",
       "   0.030571557581424713,\n",
       "   0.030475066974759102,\n",
       "   0.030378954485058784,\n",
       "   0.030283398926258087,\n",
       "   0.030187828466296196,\n",
       "   0.03009246103465557,\n",
       "   0.029997218400239944,\n",
       "   0.02990209311246872,\n",
       "   0.02980717457830906,\n",
       "   0.029712725430727005,\n",
       "   0.02961878664791584,\n",
       "   0.029525134712457657,\n",
       "   0.029431644827127457,\n",
       "   0.029338326305150986,\n",
       "   0.02924518845975399,\n",
       "   0.02915230579674244,\n",
       "   0.029059607535600662,\n",
       "   0.028967073187232018,\n",
       "   0.02887471206486225,\n",
       "   0.028782526031136513,\n",
       "   0.028690557926893234,\n",
       "   0.028598854318261147,\n",
       "   0.028507232666015625,\n",
       "   0.028415778651833534,\n",
       "   0.028324583545327187,\n",
       "   0.028233559802174568,\n",
       "   0.028142672032117844,\n",
       "   0.028051940724253654,\n",
       "   0.02796129509806633,\n",
       "   0.027870869264006615,\n",
       "   0.027780622243881226,\n",
       "   0.027690628543496132,\n",
       "   0.027600746601819992,\n",
       "   0.027511127293109894,\n",
       "   0.0274216178804636,\n",
       "   0.02733219414949417,\n",
       "   0.02724302187561989,\n",
       "   0.02715408056974411,\n",
       "   0.02706531435251236,\n",
       "   0.02697669342160225,\n",
       "   0.02688824012875557,\n",
       "   0.026800088584423065,\n",
       "   0.02671217918395996,\n",
       "   0.02662440948188305,\n",
       "   0.02653689682483673,\n",
       "   0.026449790224432945,\n",
       "   0.02636283077299595,\n",
       "   0.02627606876194477,\n",
       "   0.026189986616373062,\n",
       "   0.026104196906089783,\n",
       "   0.026018688455224037,\n",
       "   0.025933369994163513,\n",
       "   0.025848273187875748,\n",
       "   0.025763316079974174,\n",
       "   0.025678563863039017,\n",
       "   0.02559400163590908,\n",
       "   0.025509746745228767,\n",
       "   0.025425679981708527,\n",
       "   0.025341777130961418,\n",
       "   0.025258097797632217,\n",
       "   0.025174690410494804,\n",
       "   0.025091253221035004,\n",
       "   0.0250080656260252,\n",
       "   0.02492522820830345,\n",
       "   0.024842532351613045,\n",
       "   0.02475995197892189,\n",
       "   0.024677658453583717,\n",
       "   0.02459571324288845,\n",
       "   0.02451396733522415,\n",
       "   0.02443241886794567,\n",
       "   0.024351034313440323,\n",
       "   0.024269912391901016,\n",
       "   0.024188973009586334,\n",
       "   0.0241081602871418,\n",
       "   0.024027537554502487,\n",
       "   0.0239472184330225,\n",
       "   0.023867227137088776,\n",
       "   0.02378743328154087,\n",
       "   0.02370789647102356,\n",
       "   0.023628614842891693,\n",
       "   0.023549482226371765,\n",
       "   0.02347065880894661,\n",
       "   0.02339201234281063,\n",
       "   0.02331351861357689,\n",
       "   0.023235298693180084,\n",
       "   0.02315746247768402,\n",
       "   0.02307969518005848,\n",
       "   0.023002034053206444,\n",
       "   0.02292468398809433,\n",
       "   0.022847628220915794,\n",
       "   0.02277076244354248,\n",
       "   0.022694386541843414,\n",
       "   0.022618232294917107,\n",
       "   0.02254236675798893,\n",
       "   0.022466788068413734,\n",
       "   0.0223914235830307,\n",
       "   0.022316327318549156,\n",
       "   0.022241393104195595,\n",
       "   0.02216673083603382,\n",
       "   0.022092245519161224,\n",
       "   0.02201806753873825,\n",
       "   0.021944083273410797,\n",
       "   0.021870268508791924,\n",
       "   0.021796731278300285,\n",
       "   0.02172350324690342,\n",
       "   0.021650515496730804,\n",
       "   0.02157776802778244,\n",
       "   0.021505290642380714,\n",
       "   0.021432990208268166,\n",
       "   0.021361012011766434,\n",
       "   0.02128930762410164,\n",
       "   0.02121787890791893,\n",
       "   0.02114669792354107,\n",
       "   0.021075688302516937,\n",
       "   0.021004946902394295,\n",
       "   0.020934496074914932,\n",
       "   0.020864255726337433,\n",
       "   0.02079436182975769,\n",
       "   0.020724644884467125,\n",
       "   0.02065507508814335,\n",
       "   0.02058582939207554,\n",
       "   0.02051682025194168,\n",
       "   0.0204479843378067,\n",
       "   0.020379433408379555,\n",
       "   0.020311107859015465,\n",
       "   0.020242905244231224,\n",
       "   0.02017500437796116,\n",
       "   0.020107273012399673,\n",
       "   0.020039748400449753,\n",
       "   0.019972465932369232,\n",
       "   0.019905416294932365,\n",
       "   0.019838523119688034,\n",
       "   0.019771885126829147,\n",
       "   0.01970549114048481,\n",
       "   0.019639398902654648,\n",
       "   0.019573470577597618,\n",
       "   0.019507642835378647,\n",
       "   0.01944207213819027,\n",
       "   0.019376767799258232,\n",
       "   0.019311683252453804,\n",
       "   0.019246790558099747,\n",
       "   0.019182205200195312,\n",
       "   0.01911781169474125,\n",
       "   0.019053630530834198,\n",
       "   0.01898963563144207,\n",
       "   0.018925925716757774,\n",
       "   0.018862461671233177,\n",
       "   0.01879924349486828,\n",
       "   0.0187362227588892,\n",
       "   0.018673500046133995,\n",
       "   0.01861097849905491,\n",
       "   0.018548719584941864,\n",
       "   0.018486566841602325,\n",
       "   0.018424764275550842,\n",
       "   0.018363220617175102,\n",
       "   0.018301822245121002,\n",
       "   0.01824064739048481,\n",
       "   0.018179669976234436,\n",
       "   0.018118971958756447,\n",
       "   0.018058551475405693,\n",
       "   0.017998311668634415,\n",
       "   0.017938222736120224,\n",
       "   0.017878500744700432,\n",
       "   0.017819024622440338,\n",
       "   0.017759723588824272,\n",
       "   0.01770065166056156,\n",
       "   0.01764189824461937,\n",
       "   0.017583370208740234,\n",
       "   0.017525091767311096,\n",
       "   0.017467103898525238,\n",
       "   0.017409387975931168,\n",
       "   0.017351845279335976,\n",
       "   0.017294539138674736,\n",
       "   0.017237503081560135,\n",
       "   0.01718072034418583,\n",
       "   0.017124127596616745,\n",
       "   0.01706777513027191,\n",
       "   0.017011674121022224,\n",
       "   0.016956085339188576,\n",
       "   0.01690060831606388,\n",
       "   0.016845254227519035,\n",
       "   0.01679016649723053,\n",
       "   0.016735324636101723,\n",
       "   0.016680797562003136,\n",
       "   0.016626503318548203,\n",
       "   0.01657240465283394,\n",
       "   0.016518549993634224,\n",
       "   0.01646488532423973,\n",
       "   0.016411511227488518,\n",
       "   0.01635836996138096,\n",
       "   0.016305511817336082,\n",
       "   0.01625288836658001,\n",
       "   0.01620047353208065,\n",
       "   0.016148248687386513,\n",
       "   0.01609635353088379,\n",
       "   0.0160446185618639,\n",
       "   0.015993062406778336,\n",
       "   0.015941843390464783,\n",
       "   0.015890834853053093,\n",
       "   0.015840034931898117,\n",
       "   0.015789490193128586,\n",
       "   0.015739331021904945,\n",
       "   0.01568935438990593,\n",
       "   0.015639526769518852,\n",
       "   0.015589992515742779,\n",
       "   0.015540805645287037,\n",
       "   0.015491743572056293,\n",
       "   0.015442983247339725,\n",
       "   0.015394444577395916,\n",
       "   0.015346135012805462,\n",
       "   0.015298069454729557,\n",
       "   0.01525031216442585,\n",
       "   0.015202752314507961,\n",
       "   0.015155444853007793,\n",
       "   0.015108324587345123,\n",
       "   0.015061466954648495,\n",
       "   0.015015030279755592,\n",
       "   0.0149687509983778,\n",
       "   0.014922700822353363,\n",
       "   0.014876965433359146,\n",
       "   0.014831451699137688,\n",
       "   0.01478610746562481,\n",
       "   0.014741040766239166,\n",
       "   0.014696168713271618,\n",
       "   0.014651552774012089,\n",
       "   0.01460715290158987,\n",
       "   0.014563020318746567,\n",
       "   0.014519083313643932,\n",
       "   0.014475368894636631,\n",
       "   0.014431849122047424,\n",
       "   0.014388524927198887,\n",
       "   0.014345407485961914,\n",
       "   0.014302530325949192,\n",
       "   0.014259877614676952,\n",
       "   0.014217421412467957,\n",
       "   0.014175212942063808,\n",
       "   0.014133231714367867,\n",
       "   0.014091475866734982,\n",
       "   0.014050010591745377,\n",
       "   0.014008734375238419,\n",
       "   0.013967690989375114,\n",
       "   0.013926875777542591,\n",
       "   0.013886277563869953,\n",
       "   0.01384589821100235,\n",
       "   0.013805762864649296,\n",
       "   0.013765813782811165,\n",
       "   0.013726121746003628,\n",
       "   0.01368662342429161,\n",
       "   0.013647301122546196,\n",
       "   0.013608136214315891,\n",
       "   0.013569142669439316,\n",
       "   0.013530408032238483,\n",
       "   0.013491776771843433,\n",
       "   0.013453354127705097,\n",
       "   0.013415188528597355,\n",
       "   0.01337717566639185,\n",
       "   0.013339350000023842,\n",
       "   0.013301720842719078,\n",
       "   0.013264293782413006,\n",
       "   0.013227035291492939,\n",
       "   0.013190035708248615,\n",
       "   0.013153194449841976,\n",
       "   0.013116559945046902,\n",
       "   0.013080131262540817,\n",
       "   0.013043886981904507,\n",
       "   0.013007867150008678,\n",
       "   0.012972135096788406,\n",
       "   0.012936482205986977,\n",
       "   0.012901080772280693,\n",
       "   0.012865922413766384,\n",
       "   0.012830856256186962,\n",
       "   0.012796011753380299,\n",
       "   0.012761371210217476,\n",
       "   0.012726893648505211,\n",
       "   0.012692674063146114,\n",
       "   0.012658711522817612,\n",
       "   0.012624966911971569,\n",
       "   0.012591422535479069,\n",
       "   0.012558010406792164,\n",
       "   0.01252485066652298,\n",
       "   0.01249189767986536,\n",
       "   0.012459146790206432,\n",
       "   0.012426578439772129,\n",
       "   0.012393868528306484,\n",
       "   0.01236139889806509,\n",
       "   0.01232911180704832,\n",
       "   0.012296934612095356,\n",
       "   0.012264822609722614,\n",
       "   0.012232816778123379,\n",
       "   0.012200913392007351,\n",
       "   0.012169205583631992,\n",
       "   0.012137641198933125,\n",
       "   0.012106288224458694,\n",
       "   0.012075003236532211,\n",
       "   0.012043928727507591,\n",
       "   0.0120130255818367,\n",
       "   0.011982234194874763,\n",
       "   0.011951534077525139,\n",
       "   0.011920858174562454,\n",
       "   0.011890267953276634,\n",
       "   0.011859779246151447,\n",
       "   0.011829440481960773,\n",
       "   0.011799260042607784,\n",
       "   0.0117691271007061,\n",
       "   0.011738970875740051,\n",
       "   0.011708882637321949,\n",
       "   0.011678886599838734,\n",
       "   0.011649009771645069,\n",
       "   0.011619491502642632,\n",
       "   0.0115900207310915,\n",
       "   0.011560714803636074,\n",
       "   0.011531601659953594,\n",
       "   0.01150274183601141,\n",
       "   0.011474333703517914,\n",
       "   0.011446395888924599,\n",
       "   0.011419156566262245,\n",
       "   0.011392232030630112,\n",
       "   0.011365472339093685,\n",
       "   0.011339012533426285,\n",
       "   0.011312771588563919,\n",
       "   0.011286656372249126,\n",
       "   0.011260594241321087,\n",
       "   0.011234748177230358,\n",
       "   0.011209109798073769,\n",
       "   0.011183573864400387,\n",
       "   0.011158145032823086,\n",
       "   0.011132840067148209,\n",
       "   0.011107750236988068,\n",
       "   0.011082679964601994,\n",
       "   0.011057822033762932,\n",
       "   0.011033162474632263,\n",
       "   0.01100863516330719,\n",
       "   0.010984254069626331,\n",
       "   0.010960015468299389,\n",
       "   0.010936016216874123,\n",
       "   0.01091256644576788,\n",
       "   0.01088927872478962,\n",
       "   0.010866077616810799,\n",
       "   0.010842989198863506,\n",
       "   0.01081995852291584,\n",
       "   0.01079700980335474,\n",
       "   0.010774115100502968,\n",
       "   0.010751423425972462,\n",
       "   0.010728876106441021,\n",
       "   0.010706420056521893,\n",
       "   0.01068444736301899,\n",
       "   0.010662617161870003,\n",
       "   0.010640908032655716,\n",
       "   0.010619280859827995,\n",
       "   0.01059772726148367,\n",
       "   0.010576250962913036,\n",
       "   0.010554887354373932,\n",
       "   0.010533631779253483,\n",
       "   0.01051249448210001,\n",
       "   0.010491692461073399,\n",
       "   0.010471192188560963,\n",
       "   0.010450629517436028,\n",
       "   0.010430019348859787,\n",
       "   0.010409675538539886,\n",
       "   0.010389556176960468,\n",
       "   0.01036949921399355,\n",
       "   0.010349607095122337,\n",
       "   0.010329840704798698,\n",
       "   0.010310286656022072,\n",
       "   0.01029079221189022,\n",
       "   0.010271323844790459,\n",
       "   0.010251965373754501,\n",
       "   0.01023283414542675,\n",
       "   0.01021383237093687,\n",
       "   0.0101949293166399,\n",
       "   0.010176031850278378,\n",
       "   0.010157275944948196,\n",
       "   0.010138699784874916,\n",
       "   0.010120293125510216,\n",
       "   0.010102001018822193,\n",
       "   0.010083913803100586,\n",
       "   0.010065911337733269,\n",
       "   0.010048075579106808,\n",
       "   0.010030368342995644,\n",
       "   0.01001270953565836,\n",
       "   0.009995123371481895,\n",
       "   0.009977687150239944,\n",
       "   0.009960439056158066,\n",
       "   0.009943206794559956,\n",
       "   0.0099260238930583,\n",
       "   0.009909125976264477,\n",
       "   0.009892280213534832,\n",
       "   0.009875459596514702,\n",
       "   0.009858748875558376,\n",
       "   0.00984218530356884,\n",
       "   0.009825745597481728,\n",
       "   0.009809349663555622,\n",
       "   0.009793146513402462,\n",
       "   0.009776968508958817,\n",
       "   0.009760900400578976,\n",
       "   0.009744882583618164,\n",
       "   0.009728958830237389,\n",
       "   0.00971311330795288,\n",
       "   0.009697369299829006,\n",
       "   0.00968177616596222,\n",
       "   0.009666173718869686,\n",
       "   0.009650738909840584,\n",
       "   0.009635374881327152,\n",
       "   0.009620110504329205,\n",
       "   0.00960493553429842,\n",
       "   0.00958983600139618,\n",
       "   0.00957485567778349,\n",
       "   0.009559906087815762,\n",
       "   0.00954506266862154,\n",
       "   0.009530303999781609,\n",
       "   0.00951559841632843,\n",
       "   0.009501012973487377,\n",
       "   0.009486546739935875,\n",
       "   0.009472093544900417,\n",
       "   0.009457696229219437,\n",
       "   0.009443452581763268,\n",
       "   0.009429244324564934,\n",
       "   0.009415175765752792,\n",
       "   0.009401103481650352,\n",
       "   0.009387144818902016,\n",
       "   0.009373250417411327,\n",
       "   0.009359368123114109,\n",
       "   0.009345603175461292,\n",
       "   0.00933192577213049,\n",
       "   0.009318272583186626,\n",
       "   0.009304700419306755,\n",
       "   0.009291255846619606,\n",
       "   0.009277904406189919,\n",
       "   0.009264564141631126,\n",
       "   0.009251262992620468,\n",
       "   0.009238000027835369,\n",
       "   0.009224997833371162,\n",
       "   0.009211898781359196,\n",
       "   0.00919879600405693,\n",
       "   0.009186264127492905,\n",
       "   0.009173783473670483,\n",
       "   0.009161180816590786,\n",
       "   0.009148533456027508,\n",
       "   0.009135998785495758,\n",
       "   0.00912352092564106,\n",
       "   0.00911097601056099,\n",
       "   0.009098369628190994,\n",
       "   0.009086097590625286,\n",
       "   0.009074052795767784,\n",
       "   0.009061994031071663,\n",
       "   0.00904991663992405,\n",
       "   0.00903800968080759,\n",
       "   0.009026010520756245,\n",
       "   0.009014041163027287,\n",
       "   0.009002156555652618,\n",
       "   0.00899030826985836,\n",
       "   0.008978507481515408,\n",
       "   0.008966987021267414,\n",
       "   0.008955473080277443,\n",
       "   0.008943967521190643,\n",
       "   0.008932442404329777,\n",
       "   0.008920912630856037,\n",
       "   0.00890947226434946,\n",
       "   0.008898036554455757,\n",
       "   0.008886873722076416,\n",
       "   0.008875583298504353,\n",
       "   0.008864345028996468,\n",
       "   0.008853177540004253,\n",
       "   0.008842024020850658,\n",
       "   0.008831081911921501,\n",
       "   0.008820080198347569,\n",
       "   0.00880899466574192,\n",
       "   0.008798116818070412,\n",
       "   0.008787263184785843,\n",
       "   0.008776492439210415,\n",
       "   0.008765768259763718,\n",
       "   0.008755004033446312,\n",
       "   0.008744359947741032,\n",
       "   0.008733781985938549,\n",
       "   0.00872323103249073,\n",
       "   0.008712648414075375,\n",
       "   0.00870214682072401,\n",
       "   0.008691727183759212,\n",
       "   0.008681352250277996,\n",
       "   0.008670932613313198,\n",
       "   0.008660618215799332,\n",
       "   0.008650573901832104,\n",
       "   0.008640478365123272,\n",
       "   0.00863024964928627,\n",
       "   0.00862007588148117,\n",
       "   0.008610137738287449,\n",
       "   0.008600172586739063,\n",
       "   0.008590169250965118,\n",
       "   0.008580119349062443,\n",
       "   0.008570162579417229,\n",
       "   0.008560274727642536,\n",
       "   0.008550459519028664,\n",
       "   0.008540555834770203,\n",
       "   0.008530748076736927,\n",
       "   0.008521008305251598,\n",
       "   0.008511209860444069,\n",
       "   0.008501484990119934,\n",
       "   0.008491811342537403,\n",
       "   0.008482138626277447,\n",
       "   0.008472475223243237,\n",
       "   0.008462895639240742,\n",
       "   0.008453279733657837,\n",
       "   0.00844369176775217,\n",
       "   0.008434059098362923,\n",
       "   0.00842457264661789,\n",
       "   0.008415035903453827,\n",
       "   0.008405539207160473,\n",
       "   0.008396065793931484,\n",
       "   0.008386676199734211,\n",
       "   0.008377328515052795,\n",
       "   0.008367917500436306,\n",
       "   0.00835866667330265,\n",
       "   0.008349345996975899,\n",
       "   0.008339844644069672,\n",
       "   0.008330573327839375,\n",
       "   0.008320910856127739,\n",
       "   0.008311102166771889,\n",
       "   0.008301381021738052,\n",
       "   0.008291452191770077,\n",
       "   0.008281586691737175,\n",
       "   0.008271741680800915,\n",
       "   0.00826181098818779,\n",
       "   0.008251864463090897,\n",
       "   0.008241958916187286,\n",
       "   0.008232072927057743,\n",
       "   0.008222176693379879,\n",
       "   0.008212287910282612,\n",
       "   0.00820227526128292,\n",
       "   0.008192366920411587,\n",
       "   0.008182409219443798,\n",
       "   0.008172492496669292,\n",
       "   0.008162427693605423,\n",
       "   0.008152385242283344,\n",
       "   0.008142504841089249,\n",
       "   0.008132675662636757,\n",
       "   0.008122796192765236,\n",
       "   0.008112573996186256,\n",
       "   0.008102219551801682,\n",
       "   0.008092103525996208,\n",
       "   0.008081866428256035,\n",
       "   0.00807184912264347,\n",
       "   0.008061961270868778,\n",
       "   0.008051932789385319,\n",
       "   0.00804197508841753,\n",
       "   0.008032337762415409,\n",
       "   0.008022747002542019,\n",
       "   0.008012994192540646,\n",
       "   0.008003123104572296,\n",
       "   0.007993184961378574,\n",
       "   0.007983233779668808,\n",
       "   0.007973229512572289,\n",
       "   0.007963222451508045,\n",
       "   0.00795353390276432,\n",
       "   0.007943818345665932,\n",
       "   0.00793420523405075,\n",
       "   0.007924679666757584,\n",
       "   0.007915248163044453,\n",
       "   0.007905932143330574,\n",
       "   0.007896593771874905,\n",
       "   0.007887146435678005,\n",
       "   0.00787770003080368,\n",
       "   0.007868356071412563,\n",
       "   0.007858931086957455,\n",
       "   0.007849577814340591,\n",
       "   0.007840289734303951,\n",
       "   0.007831137627363205,\n",
       "   0.007822079584002495,\n",
       "   0.00781325250864029,\n",
       "   0.007804590743035078,\n",
       "   0.007796204183250666,\n",
       "   0.007787778042256832,\n",
       "   0.007779412437230349,\n",
       "   0.007771098054945469,\n",
       "   0.0077627068385481834,\n",
       "   0.0077542997896671295,\n",
       "   0.007746008690446615,\n",
       "   0.0077377669513225555,\n",
       "   0.007729589473456144,\n",
       "   0.007721340283751488,\n",
       "   0.007713038008660078,\n",
       "   0.007704762741923332,\n",
       "   0.0076965889893472195,\n",
       "   0.007688502781093121,\n",
       "   0.007680290844291449,\n",
       "   0.007672012783586979,\n",
       "   0.007663857191801071,\n",
       "   0.007655687630176544,\n",
       "   0.007647370919585228,\n",
       "   0.007639145944267511,\n",
       "   0.007630901411175728,\n",
       "   0.007622718345373869,\n",
       "   0.007614343427121639,\n",
       "   0.007606153842061758,\n",
       "   0.0075978790409862995,\n",
       "   0.007590074557811022,\n",
       "   0.0075821480713784695,\n",
       "   0.007574109826236963,\n",
       "   0.007566029671579599,\n",
       "   0.007557894103229046,\n",
       "   0.007549736648797989,\n",
       "   0.007541606202721596,\n",
       "   0.007533535826951265,\n",
       "   0.0075254980474710464,\n",
       "   0.007517654914408922,\n",
       "   0.007509723771363497,\n",
       "   0.0075017111375927925,\n",
       "   0.007493769749999046,\n",
       "   0.00748582324013114,\n",
       "   0.007477869745343924,\n",
       "   0.007469917647540569,\n",
       "   0.007461968343704939,\n",
       "   0.007454050704836845,\n",
       "   0.007446121424436569,\n",
       "   0.007438236847519875,\n",
       "   0.0074301413260400295,\n",
       "   0.00742220738902688,\n",
       "   0.007414280902594328,\n",
       "   0.007406353950500488,\n",
       "   0.007398396730422974,\n",
       "   0.0073904963210225105,\n",
       "   0.007382678333669901,\n",
       "   0.007374858949333429,\n",
       "   0.0073669785633683205,\n",
       "   0.007359189447015524,\n",
       "   0.007351465057581663,\n",
       "   0.007343739736825228,\n",
       "   0.007336007431149483,\n",
       "   0.007328294217586517,\n",
       "   0.0073205092921853065,\n",
       "   0.007312833331525326,\n",
       "   0.007305075414478779,\n",
       "   0.00729747349396348,\n",
       "   0.0072899009101092815,\n",
       "   0.0072821700014173985,\n",
       "   0.0072744134813547134,\n",
       "   0.007266749162226915,\n",
       "   0.007259146776050329,\n",
       "   0.007251466158777475,\n",
       "   0.007243900094181299,\n",
       "   0.007236339617520571,\n",
       "   0.007228725589811802,\n",
       "   0.007221164181828499,\n",
       "   0.007213603239506483,\n",
       "   0.007206042297184467,\n",
       "   0.007198575418442488,\n",
       "   0.007191199343651533,\n",
       "   0.00718380231410265,\n",
       "   0.007176362443715334,\n",
       "   0.00716893607750535,\n",
       "   0.007161497138440609,\n",
       "   0.007154018152505159,\n",
       "   0.007146638818085194,\n",
       "   0.007139237597584724,\n",
       "   0.00713191507384181,\n",
       "   0.007124555297195911,\n",
       "   0.007117248140275478,\n",
       "   0.007109890691936016,\n",
       "   0.007102539297193289,\n",
       "   0.007095205597579479,\n",
       "   0.007087900303304195,\n",
       "   0.007080576382577419,\n",
       "   0.007073347922414541,\n",
       "   0.007066056597977877,\n",
       "   0.007058704737573862,\n",
       "   0.007051471155136824,\n",
       "   0.007044223137199879,\n",
       "   0.007036861032247543,\n",
       "   ...],\n",
       "  9999,\n",
       "  1e-05,\n",
       "  20,\n",
       "  1,\n",
       "  64,\n",
       "  8,\n",
       "  0.25]}"
      ]
     },
     "execution_count": 5,
     "metadata": {},
     "output_type": "execute_result"
    }
   ],
   "source": [
    "best_model"
   ]
  },
  {
   "cell_type": "code",
   "execution_count": 6,
   "id": "2f9547e3",
   "metadata": {
    "ExecuteTime": {
     "end_time": "2023-06-06T09:27:29.822984Z",
     "start_time": "2023-06-06T09:27:29.810019Z"
    }
   },
   "outputs": [],
   "source": [
    "save_model(best_model['GRU'][1].state_dict(), \"model/Infected/delta/GRU.pth\")\n",
    "save_hyperparameter(best_model['GRU'][3:], \"hyperparameter/Infected/delta/GRU.pkl\")"
   ]
  },
  {
   "cell_type": "code",
   "execution_count": 7,
   "id": "e6c49a0a",
   "metadata": {
    "ExecuteTime": {
     "end_time": "2023-06-06T09:27:29.993400Z",
     "start_time": "2023-06-06T09:27:29.825975Z"
    }
   },
   "outputs": [
    {
     "data": {
      "text/plain": [
       "[<matplotlib.lines.Line2D at 0x21b7c77f8b0>]"
      ]
     },
     "execution_count": 7,
     "metadata": {},
     "output_type": "execute_result"
    },
    {
     "data": {
      "image/png": "[encoded data removed]",
      "text/plain": [
       "<Figure size 640x480 with 1 Axes>"
      ]
     },
     "metadata": {},
     "output_type": "display_data"
    }
   ],
   "source": [
    "plt.plot(best_model['GRU'][2])"
   ]
  },
  {
   "cell_type": "code",
   "execution_count": 8,
   "id": "231048d5",
   "metadata": {
    "ExecuteTime": {
     "end_time": "2023-06-06T09:27:30.009567Z",
     "start_time": "2023-06-06T09:27:29.995233Z"
    }
   },
   "outputs": [],
   "source": [
    "label_y, predicted = predict_mto(best_model['GRU'][1], df, x_ss, y_ms)"
   ]
  },
  {
   "cell_type": "code",
   "execution_count": 9,
   "id": "71838bf2",
   "metadata": {
    "ExecuteTime": {
     "end_time": "2023-06-06T09:27:30.180383Z",
     "start_time": "2023-06-06T09:27:30.011465Z"
    }
   },
   "outputs": [
    {
     "name": "stdout",
     "output_type": "stream",
     "text": [
      "4.4402895473885975\n"
     ]
    },
    {
     "data": {
      "image/png": "[encoded data removed]",
      "text/plain": [
       "<Figure size 1000x600 with 1 Axes>"
      ]
     },
     "metadata": {},
     "output_type": "display_data"
    }
   ],
   "source": [
    "print(rmse(label_y[-7:], predicted[-7:]))\n",
    "plotting(label_y, predicted, 58)"
   ]
  },
  {
   "cell_type": "code",
   "execution_count": null,
   "id": "1ae67c59",
   "metadata": {},
   "outputs": [],
   "source": []
  },
  {
   "cell_type": "code",
   "execution_count": null,
   "id": "6f70f3a6",
   "metadata": {},
   "outputs": [],
   "source": []
  },
  {
   "cell_type": "code",
   "execution_count": null,
   "id": "36c808bc",
   "metadata": {},
   "outputs": [],
   "source": []
  },
  {
   "cell_type": "code",
   "execution_count": null,
   "id": "3ef0ceb0",
   "metadata": {},
   "outputs": [],
   "source": []
  }
 ],
 "metadata": {
  "kernelspec": {
   "display_name": "KDA_DA",
   "language": "python",
   "name": "kda_da"
  },
  "language_info": {
   "codemirror_mode": {
    "name": "ipython",
    "version": 3
   },
   "file_extension": ".py",
   "mimetype": "text/x-python",
   "name": "python",
   "nbconvert_exporter": "python",
   "pygments_lexer": "ipython3",
   "version": "3.10.8"
  },
  "toc": {
   "base_numbering": 1,
   "nav_menu": {},
   "number_sections": true,
   "sideBar": true,
   "skip_h1_title": false,
   "title_cell": "Table of Contents",
   "title_sidebar": "Contents",
   "toc_cell": false,
   "toc_position": {},
   "toc_section_display": true,
   "toc_window_display": false
  }
 },
 "nbformat": 4,
 "nbformat_minor": 5
}
