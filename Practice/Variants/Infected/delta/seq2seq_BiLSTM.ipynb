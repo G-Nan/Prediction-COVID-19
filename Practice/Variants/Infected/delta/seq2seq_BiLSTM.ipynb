{
 "cells": [
  {
   "cell_type": "code",
   "execution_count": 1,
   "id": "7ef1b38b",
   "metadata": {
    "ExecuteTime": {
     "end_time": "2023-05-24T15:40:57.129553Z",
     "start_time": "2023-05-24T15:40:54.447729Z"
    }
   },
   "outputs": [],
   "source": [
    "import os\n",
    "os.chdir('D:\\\\Gnan\\\\DA\\\\KMU\\\\Prediction-COVID-19')\n",
    "from utils import *\n",
    "from model import *\n",
    "from trainer import *\n",
    "\n",
    "from torch.optim.adam import Adam\n",
    "device = torch.device('cuda:0' if torch.cuda.is_available() else 'cpu')"
   ]
  },
  {
   "cell_type": "code",
   "execution_count": 2,
   "id": "90d1bf81",
   "metadata": {
    "ExecuteTime": {
     "end_time": "2023-05-24T15:40:57.193383Z",
     "start_time": "2023-05-24T15:40:57.132547Z"
    }
   },
   "outputs": [
    {
     "data": {
      "text/html": [
       "<div>\n",
       "<style scoped>\n",
       "    .dataframe tbody tr th:only-of-type {\n",
       "        vertical-align: middle;\n",
       "    }\n",
       "\n",
       "    .dataframe tbody tr th {\n",
       "        vertical-align: top;\n",
       "    }\n",
       "\n",
       "    .dataframe thead th {\n",
       "        text-align: right;\n",
       "    }\n",
       "</style>\n",
       "<table border=\"1\" class=\"dataframe\">\n",
       "  <thead>\n",
       "    <tr style=\"text-align: right;\">\n",
       "      <th></th>\n",
       "      <th>stdDay</th>\n",
       "      <th>incDec</th>\n",
       "      <th>alpha_variants</th>\n",
       "      <th>delta_variants</th>\n",
       "    </tr>\n",
       "  </thead>\n",
       "  <tbody>\n",
       "    <tr>\n",
       "      <th>0</th>\n",
       "      <td>2021-04-12</td>\n",
       "      <td>16.0</td>\n",
       "      <td>4.16</td>\n",
       "      <td>0.32</td>\n",
       "    </tr>\n",
       "    <tr>\n",
       "      <th>1</th>\n",
       "      <td>2021-04-13</td>\n",
       "      <td>9.0</td>\n",
       "      <td>2.34</td>\n",
       "      <td>0.18</td>\n",
       "    </tr>\n",
       "    <tr>\n",
       "      <th>2</th>\n",
       "      <td>2021-04-14</td>\n",
       "      <td>11.0</td>\n",
       "      <td>2.86</td>\n",
       "      <td>0.22</td>\n",
       "    </tr>\n",
       "    <tr>\n",
       "      <th>3</th>\n",
       "      <td>2021-04-15</td>\n",
       "      <td>18.0</td>\n",
       "      <td>4.68</td>\n",
       "      <td>0.36</td>\n",
       "    </tr>\n",
       "    <tr>\n",
       "      <th>4</th>\n",
       "      <td>2021-04-16</td>\n",
       "      <td>4.0</td>\n",
       "      <td>1.04</td>\n",
       "      <td>0.08</td>\n",
       "    </tr>\n",
       "    <tr>\n",
       "      <th>...</th>\n",
       "      <td>...</td>\n",
       "      <td>...</td>\n",
       "      <td>...</td>\n",
       "      <td>...</td>\n",
       "    </tr>\n",
       "    <tr>\n",
       "      <th>121</th>\n",
       "      <td>2021-08-11</td>\n",
       "      <td>66.0</td>\n",
       "      <td>0.66</td>\n",
       "      <td>62.70</td>\n",
       "    </tr>\n",
       "    <tr>\n",
       "      <th>122</th>\n",
       "      <td>2021-08-12</td>\n",
       "      <td>39.0</td>\n",
       "      <td>0.39</td>\n",
       "      <td>37.05</td>\n",
       "    </tr>\n",
       "    <tr>\n",
       "      <th>123</th>\n",
       "      <td>2021-08-13</td>\n",
       "      <td>57.0</td>\n",
       "      <td>0.57</td>\n",
       "      <td>54.15</td>\n",
       "    </tr>\n",
       "    <tr>\n",
       "      <th>124</th>\n",
       "      <td>2021-08-14</td>\n",
       "      <td>82.0</td>\n",
       "      <td>0.82</td>\n",
       "      <td>77.90</td>\n",
       "    </tr>\n",
       "    <tr>\n",
       "      <th>125</th>\n",
       "      <td>2021-08-15</td>\n",
       "      <td>57.0</td>\n",
       "      <td>0.57</td>\n",
       "      <td>54.15</td>\n",
       "    </tr>\n",
       "  </tbody>\n",
       "</table>\n",
       "<p>126 rows × 4 columns</p>\n",
       "</div>"
      ],
      "text/plain": [
       "         stdDay  incDec  alpha_variants  delta_variants\n",
       "0    2021-04-12    16.0            4.16            0.32\n",
       "1    2021-04-13     9.0            2.34            0.18\n",
       "2    2021-04-14    11.0            2.86            0.22\n",
       "3    2021-04-15    18.0            4.68            0.36\n",
       "4    2021-04-16     4.0            1.04            0.08\n",
       "..          ...     ...             ...             ...\n",
       "121  2021-08-11    66.0            0.66           62.70\n",
       "122  2021-08-12    39.0            0.39           37.05\n",
       "123  2021-08-13    57.0            0.57           54.15\n",
       "124  2021-08-14    82.0            0.82           77.90\n",
       "125  2021-08-15    57.0            0.57           54.15\n",
       "\n",
       "[126 rows x 4 columns]"
      ]
     },
     "execution_count": 2,
     "metadata": {},
     "output_type": "execute_result"
    }
   ],
   "source": [
    "#path = 'Data/SIR_Origin/*.csv'\n",
    "#dic_files = Load_files.load_files(path, -17, -15)\n",
    "#path = 'Data/Cleaned_deathCnt/*.csv'\n",
    "#dic_files = Load_files.load_files(path, -14, -12)\n",
    "path = 'Data/Variants/alpha_delta/*.csv'\n",
    "dic_files = Load_files.load_files(path, -18, -16)\n",
    "data = dic_files['대구']\n",
    "data"
   ]
  },
  {
   "cell_type": "code",
   "execution_count": 3,
   "id": "fdbfaa5c",
   "metadata": {
    "ExecuteTime": {
     "end_time": "2023-05-24T15:40:58.897824Z",
     "start_time": "2023-05-24T15:40:57.196376Z"
    }
   },
   "outputs": [
    {
     "name": "stdout",
     "output_type": "stream",
     "text": [
      "torch.Size([51, 60, 3])\n",
      "torch.Size([51, 7, 1])\n",
      "torch.Size([7, 60, 3])\n",
      "torch.Size([7, 7, 1])\n"
     ]
    }
   ],
   "source": [
    "criterion = nn.MSELoss()\n",
    "lr = 1e-4\n",
    "patience = 300\n",
    "hidden_size = 32\n",
    "num_layers = 4\n",
    "batch_size = 8\n",
    "dropout = 0.25\n",
    "\n",
    "input_size = 3\n",
    "sequence_length = 60\n",
    "num_epochs = 10000\n",
    "\n",
    "df = Prepare_df.processing(data, 'stdDay', 'alpha_variants')\n",
    "\n",
    "x = df.iloc[:, 0:]\n",
    "y = df.iloc[:,:1]\n",
    "\n",
    "ms = MinMaxScaler()\n",
    "ss = StandardScaler()\n",
    "\n",
    "ss.fit(x)\n",
    "ms.fit(y)\n",
    "\n",
    "x, y, x_ss, y_ms, train_loader, test_loader = Prepare_df.split_data(df, 51, 60, 7, batch_size, 'mtm')\n",
    "\n",
    "model_BiLSTM_seq2seq = BiLSTM_encoder_decoder(input_size = input_size,\n",
    "                                        hidden_size = hidden_size,\n",
    "                                        num_layers = num_layers, \n",
    "                                        dropout = dropout, \n",
    "                                        device = device).to(device)\n",
    "\n",
    "model = model_BiLSTM_seq2seq\n",
    "\n",
    "optimizer = Adam(model.parameters(), lr = lr)"
   ]
  },
  {
   "cell_type": "code",
   "execution_count": null,
   "id": "c9cb079a",
   "metadata": {
    "ExecuteTime": {
     "start_time": "2023-05-24T15:40:54.450Z"
    }
   },
   "outputs": [
    {
     "name": "stdout",
     "output_type": "stream",
     "text": [
      "epoch: 100 loss: 0.001483\n",
      "epoch: 200 loss: 0.000846\n",
      "epoch: 300 loss: 0.000691\n",
      "epoch: 400 loss: 0.000577\n",
      "epoch: 500 loss: 0.000506\n",
      "epoch: 600 loss: 0.000480\n",
      "epoch: 700 loss: 0.000474\n",
      "epoch: 800 loss: 0.000416\n",
      "epoch: 900 loss: 0.000407\n",
      "epoch: 1000 loss: 0.000374\n",
      "epoch: 1100 loss: 0.000311\n",
      "epoch: 1200 loss: 0.000314\n",
      "epoch: 1300 loss: 0.000275\n",
      "epoch: 1400 loss: 0.000271\n",
      "epoch: 1500 loss: 0.000246\n",
      "epoch: 1600 loss: 0.000239\n",
      "epoch: 1700 loss: 0.000243\n",
      "epoch: 1800 loss: 0.000214\n",
      "epoch: 1900 loss: 0.000194\n",
      "epoch: 2000 loss: 0.000197\n",
      "epoch: 2100 loss: 0.000170\n",
      "epoch: 2200 loss: 0.000158\n",
      "epoch: 2300 loss: 0.000152\n",
      "epoch: 2400 loss: 0.000128\n",
      "epoch: 2500 loss: 0.000132\n",
      "epoch: 2600 loss: 0.000112\n",
      "epoch: 2700 loss: 0.000090\n",
      "epoch: 2800 loss: 0.000108\n",
      "epoch: 2900 loss: 0.000088\n",
      "epoch: 3000 loss: 0.000086\n",
      "epoch: 3100 loss: 0.000093\n",
      "epoch: 3200 loss: 0.000073\n",
      "epoch: 3300 loss: 0.000070\n",
      "epoch: 3400 loss: 0.000073\n",
      "epoch: 3500 loss: 0.000069\n"
     ]
    }
   ],
   "source": [
    "loss_list, model = Trainer.Many_to_Many(train_loader, \n",
    "                                        test_loader, \n",
    "                                        model, \n",
    "                                        criterion, \n",
    "                                        optimizer, \n",
    "                                        num_epochs, \n",
    "                                        patience,\n",
    "                                        device)"
   ]
  },
  {
   "cell_type": "code",
   "execution_count": null,
   "id": "83891926",
   "metadata": {
    "ExecuteTime": {
     "start_time": "2023-05-24T15:40:54.451Z"
    }
   },
   "outputs": [],
   "source": [
    "plt.plot(loss_list)"
   ]
  },
  {
   "cell_type": "code",
   "execution_count": null,
   "id": "2867cf68",
   "metadata": {
    "ExecuteTime": {
     "start_time": "2023-05-24T15:40:54.452Z"
    }
   },
   "outputs": [],
   "source": [
    "label_y, predicted, first_label_y, first_predicted = predict_mtm(model, df, x_ss, y_ms, 58, 7, 0.5, device)\n",
    "print(mape(first_label_y, first_predicted))\n",
    "final_predicted = np.concatenate((first_predicted.squeeze(-1)[:-6], predicted[-1].squeeze(-1)))\n",
    "plotting(first_label_y, final_predicted, 51)"
   ]
  },
  {
   "cell_type": "code",
   "execution_count": null,
   "id": "13f1cadf",
   "metadata": {},
   "outputs": [],
   "source": []
  },
  {
   "cell_type": "code",
   "execution_count": null,
   "id": "dba353d9",
   "metadata": {},
   "outputs": [],
   "source": []
  }
 ],
 "metadata": {
  "kernelspec": {
   "display_name": "KDA_DA",
   "language": "python",
   "name": "kda_da"
  },
  "language_info": {
   "codemirror_mode": {
    "name": "ipython",
    "version": 3
   },
   "file_extension": ".py",
   "mimetype": "text/x-python",
   "name": "python",
   "nbconvert_exporter": "python",
   "pygments_lexer": "ipython3",
   "version": "3.10.8"
  },
  "toc": {
   "base_numbering": 1,
   "nav_menu": {},
   "number_sections": true,
   "sideBar": true,
   "skip_h1_title": false,
   "title_cell": "Table of Contents",
   "title_sidebar": "Contents",
   "toc_cell": false,
   "toc_position": {},
   "toc_section_display": true,
   "toc_window_display": false
  }
 },
 "nbformat": 4,
 "nbformat_minor": 5
}
