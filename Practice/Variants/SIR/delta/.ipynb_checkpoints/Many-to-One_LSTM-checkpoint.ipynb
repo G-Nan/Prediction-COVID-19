{
 "cells": [
  {
   "cell_type": "code",
   "execution_count": 1,
   "id": "7ef1b38b",
   "metadata": {
    "ExecuteTime": {
     "end_time": "2023-06-06T08:34:40.660799Z",
     "start_time": "2023-06-06T08:34:37.874251Z"
    }
   },
   "outputs": [],
   "source": [
    "import os\n",
    "os.chdir('D:\\\\Gnan\\\\DA\\\\KMU\\\\Prediction-COVID-19')\n",
    "from utils import *\n",
    "from model import *\n",
    "from trainer import *\n",
    "\n",
    "from tqdm.notebook import tqdm\n",
    "from torch.optim.adam import Adam\n",
    "device = torch.device('cuda:0' if torch.cuda.is_available() else 'cpu')\n",
    "\n",
    "import warnings\n",
    "warnings.filterwarnings('ignore')"
   ]
  },
  {
   "cell_type": "code",
   "execution_count": 2,
   "id": "90d1bf81",
   "metadata": {
    "ExecuteTime": {
     "end_time": "2023-06-06T08:34:40.721636Z",
     "start_time": "2023-06-06T08:34:40.663792Z"
    }
   },
   "outputs": [
    {
     "data": {
      "text/html": [
       "<div>\n",
       "<style scoped>\n",
       "    .dataframe tbody tr th:only-of-type {\n",
       "        vertical-align: middle;\n",
       "    }\n",
       "\n",
       "    .dataframe tbody tr th {\n",
       "        vertical-align: top;\n",
       "    }\n",
       "\n",
       "    .dataframe thead th {\n",
       "        text-align: right;\n",
       "    }\n",
       "</style>\n",
       "<table border=\"1\" class=\"dataframe\">\n",
       "  <thead>\n",
       "    <tr style=\"text-align: right;\">\n",
       "      <th></th>\n",
       "      <th>stdDay</th>\n",
       "      <th>incDec</th>\n",
       "      <th>alpha_variants</th>\n",
       "      <th>delta_variants</th>\n",
       "    </tr>\n",
       "  </thead>\n",
       "  <tbody>\n",
       "    <tr>\n",
       "      <th>0</th>\n",
       "      <td>2021-04-12</td>\n",
       "      <td>16.0</td>\n",
       "      <td>4.16</td>\n",
       "      <td>0.32</td>\n",
       "    </tr>\n",
       "    <tr>\n",
       "      <th>1</th>\n",
       "      <td>2021-04-13</td>\n",
       "      <td>9.0</td>\n",
       "      <td>2.34</td>\n",
       "      <td>0.18</td>\n",
       "    </tr>\n",
       "    <tr>\n",
       "      <th>2</th>\n",
       "      <td>2021-04-14</td>\n",
       "      <td>11.0</td>\n",
       "      <td>2.86</td>\n",
       "      <td>0.22</td>\n",
       "    </tr>\n",
       "    <tr>\n",
       "      <th>3</th>\n",
       "      <td>2021-04-15</td>\n",
       "      <td>18.0</td>\n",
       "      <td>4.68</td>\n",
       "      <td>0.36</td>\n",
       "    </tr>\n",
       "    <tr>\n",
       "      <th>4</th>\n",
       "      <td>2021-04-16</td>\n",
       "      <td>4.0</td>\n",
       "      <td>1.04</td>\n",
       "      <td>0.08</td>\n",
       "    </tr>\n",
       "    <tr>\n",
       "      <th>...</th>\n",
       "      <td>...</td>\n",
       "      <td>...</td>\n",
       "      <td>...</td>\n",
       "      <td>...</td>\n",
       "    </tr>\n",
       "    <tr>\n",
       "      <th>121</th>\n",
       "      <td>2021-08-11</td>\n",
       "      <td>66.0</td>\n",
       "      <td>0.66</td>\n",
       "      <td>62.70</td>\n",
       "    </tr>\n",
       "    <tr>\n",
       "      <th>122</th>\n",
       "      <td>2021-08-12</td>\n",
       "      <td>39.0</td>\n",
       "      <td>0.39</td>\n",
       "      <td>37.05</td>\n",
       "    </tr>\n",
       "    <tr>\n",
       "      <th>123</th>\n",
       "      <td>2021-08-13</td>\n",
       "      <td>57.0</td>\n",
       "      <td>0.57</td>\n",
       "      <td>54.15</td>\n",
       "    </tr>\n",
       "    <tr>\n",
       "      <th>124</th>\n",
       "      <td>2021-08-14</td>\n",
       "      <td>82.0</td>\n",
       "      <td>0.82</td>\n",
       "      <td>77.90</td>\n",
       "    </tr>\n",
       "    <tr>\n",
       "      <th>125</th>\n",
       "      <td>2021-08-15</td>\n",
       "      <td>57.0</td>\n",
       "      <td>0.57</td>\n",
       "      <td>54.15</td>\n",
       "    </tr>\n",
       "  </tbody>\n",
       "</table>\n",
       "<p>126 rows × 4 columns</p>\n",
       "</div>"
      ],
      "text/plain": [
       "         stdDay  incDec  alpha_variants  delta_variants\n",
       "0    2021-04-12    16.0            4.16            0.32\n",
       "1    2021-04-13     9.0            2.34            0.18\n",
       "2    2021-04-14    11.0            2.86            0.22\n",
       "3    2021-04-15    18.0            4.68            0.36\n",
       "4    2021-04-16     4.0            1.04            0.08\n",
       "..          ...     ...             ...             ...\n",
       "121  2021-08-11    66.0            0.66           62.70\n",
       "122  2021-08-12    39.0            0.39           37.05\n",
       "123  2021-08-13    57.0            0.57           54.15\n",
       "124  2021-08-14    82.0            0.82           77.90\n",
       "125  2021-08-15    57.0            0.57           54.15\n",
       "\n",
       "[126 rows x 4 columns]"
      ]
     },
     "execution_count": 2,
     "metadata": {},
     "output_type": "execute_result"
    }
   ],
   "source": [
    "path = 'Data/Variants/alpha_delta/*.csv'\n",
    "dic_files = Load_files.load_files(path, -18, -16)\n",
    "data = dic_files['대구']\n",
    "data"
   ]
  },
  {
   "cell_type": "code",
   "execution_count": 3,
   "id": "1f040e27",
   "metadata": {
    "ExecuteTime": {
     "end_time": "2023-06-06T08:34:40.736596Z",
     "start_time": "2023-06-06T08:34:40.723632Z"
    }
   },
   "outputs": [
    {
     "name": "stdout",
     "output_type": "stream",
     "text": [
      "144\n"
     ]
    }
   ],
   "source": [
    "learning_rates_list = [1e-3, 1e-4, 1e-5]\n",
    "patiences_list = [20, 50]\n",
    "num_layers_list = [1, 2, 4, 8]\n",
    "batch_sizes_list = [32, 64]\n",
    "hidden_sizes_list = [8, 16, 32]\n",
    "dropout_list = [0.25]\n",
    "\n",
    "hyperparameter_dict = {}\n",
    "i = 0\n",
    "\n",
    "for lr in learning_rates_list:\n",
    "    for patience in patiences_list:\n",
    "        for num_layers in num_layers_list:\n",
    "            for batch_sizes in batch_sizes_list:\n",
    "                for hidden_size in hidden_sizes_list:    \n",
    "                    for dropout in dropout_list:\n",
    "                        hyperparameter_dict[i] = [lr, patience, num_layers, batch_sizes, hidden_size, dropout]\n",
    "                        i += 1\n",
    "                        \n",
    "print(i)"
   ]
  },
  {
   "cell_type": "code",
   "execution_count": 4,
   "id": "1fd60883",
   "metadata": {
    "ExecuteTime": {
     "end_time": "2023-06-06T08:56:21.334053Z",
     "start_time": "2023-06-06T08:34:40.739587Z"
    },
    "scrolled": true
   },
   "outputs": [
    {
     "data": {
      "application/vnd.jupyter.widget-view+json": {
       "model_id": "6e87d490844f4b708a3da4002cb28e1c",
       "version_major": 2,
       "version_minor": 0
      },
      "text/plain": [
       "대구_LSTM:   0%|          | 0/144 [00:00<?, ?it/s]"
      ]
     },
     "metadata": {},
     "output_type": "display_data"
    },
    {
     "name": "stdout",
     "output_type": "stream",
     "text": [
      "-------------------------------------------------------------------------------------\n",
      "lr: 0.001  patience: 20  num_layers: 1  batch_size: 32  hidden_size: 8  dropout: 0.25\n"
     ]
    },
    {
     "data": {
      "application/vnd.jupyter.widget-view+json": {
       "model_id": "7f57b15fc60a44f59b98b676ed1001d3",
       "version_major": 2,
       "version_minor": 0
      },
      "text/plain": [
       "  0%|          | 0/10000 [00:00<?, ?it/s]"
      ]
     },
     "metadata": {},
     "output_type": "display_data"
    },
    {
     "name": "stdout",
     "output_type": "stream",
     "text": [
      "\n",
      " Early Stopping / epoch: 314 loss: 0.0002\n",
      "-------------------------------------------------------------------------------------\n",
      "lr: 0.001  patience: 20  num_layers: 1  batch_size: 32  hidden_size: 16  dropout: 0.25\n"
     ]
    },
    {
     "data": {
      "application/vnd.jupyter.widget-view+json": {
       "model_id": "ecf2dff0c9b94b0192fc18d7eaefe992",
       "version_major": 2,
       "version_minor": 0
      },
      "text/plain": [
       "  0%|          | 0/10000 [00:00<?, ?it/s]"
      ]
     },
     "metadata": {},
     "output_type": "display_data"
    },
    {
     "name": "stdout",
     "output_type": "stream",
     "text": [
      "\n",
      " Early Stopping / epoch: 216 loss: 0.0019\n",
      "-------------------------------------------------------------------------------------\n",
      "lr: 0.001  patience: 20  num_layers: 1  batch_size: 32  hidden_size: 32  dropout: 0.25\n"
     ]
    },
    {
     "data": {
      "application/vnd.jupyter.widget-view+json": {
       "model_id": "02d3162e029c4d40847dd566ccb38d2a",
       "version_major": 2,
       "version_minor": 0
      },
      "text/plain": [
       "  0%|          | 0/10000 [00:00<?, ?it/s]"
      ]
     },
     "metadata": {},
     "output_type": "display_data"
    },
    {
     "name": "stdout",
     "output_type": "stream",
     "text": [
      "\n",
      " Early Stopping / epoch: 276 loss: 0.0002\n",
      "-------------------------------------------------------------------------------------\n",
      "lr: 0.001  patience: 20  num_layers: 1  batch_size: 64  hidden_size: 8  dropout: 0.25\n"
     ]
    },
    {
     "data": {
      "application/vnd.jupyter.widget-view+json": {
       "model_id": "4f307cbf7eaf4e4e87f40f65b7369d65",
       "version_major": 2,
       "version_minor": 0
      },
      "text/plain": [
       "  0%|          | 0/10000 [00:00<?, ?it/s]"
      ]
     },
     "metadata": {},
     "output_type": "display_data"
    },
    {
     "name": "stdout",
     "output_type": "stream",
     "text": [
      "\n",
      " Early Stopping / epoch: 620 loss: 0.0000\n",
      "-------------------------------------------------------------------------------------\n",
      "lr: 0.001  patience: 20  num_layers: 1  batch_size: 64  hidden_size: 16  dropout: 0.25\n"
     ]
    },
    {
     "data": {
      "application/vnd.jupyter.widget-view+json": {
       "model_id": "55169fc8fdfd4313a3ab6ae7926bc137",
       "version_major": 2,
       "version_minor": 0
      },
      "text/plain": [
       "  0%|          | 0/10000 [00:00<?, ?it/s]"
      ]
     },
     "metadata": {},
     "output_type": "display_data"
    },
    {
     "name": "stdout",
     "output_type": "stream",
     "text": [
      "\n",
      " Early Stopping / epoch: 499 loss: 0.0001\n",
      "-------------------------------------------------------------------------------------\n",
      "lr: 0.001  patience: 20  num_layers: 1  batch_size: 64  hidden_size: 32  dropout: 0.25\n"
     ]
    },
    {
     "data": {
      "application/vnd.jupyter.widget-view+json": {
       "model_id": "a873cec5422143f6ac4920152914e588",
       "version_major": 2,
       "version_minor": 0
      },
      "text/plain": [
       "  0%|          | 0/10000 [00:00<?, ?it/s]"
      ]
     },
     "metadata": {},
     "output_type": "display_data"
    },
    {
     "name": "stdout",
     "output_type": "stream",
     "text": [
      "\n",
      " Early Stopping / epoch: 339 loss: 0.0000\n",
      "-------------------------------------------------------------------------------------\n",
      "lr: 0.001  patience: 20  num_layers: 2  batch_size: 32  hidden_size: 8  dropout: 0.25\n"
     ]
    },
    {
     "data": {
      "application/vnd.jupyter.widget-view+json": {
       "model_id": "c9d26fa69e604838b9189af2d32d4b64",
       "version_major": 2,
       "version_minor": 0
      },
      "text/plain": [
       "  0%|          | 0/10000 [00:00<?, ?it/s]"
      ]
     },
     "metadata": {},
     "output_type": "display_data"
    },
    {
     "name": "stdout",
     "output_type": "stream",
     "text": [
      "\n",
      " Early Stopping / epoch: 108 loss: 0.0113\n",
      "-------------------------------------------------------------------------------------\n",
      "lr: 0.001  patience: 20  num_layers: 2  batch_size: 32  hidden_size: 16  dropout: 0.25\n"
     ]
    },
    {
     "data": {
      "application/vnd.jupyter.widget-view+json": {
       "model_id": "b32974e31af44747b52f71f4f4f22114",
       "version_major": 2,
       "version_minor": 0
      },
      "text/plain": [
       "  0%|          | 0/10000 [00:00<?, ?it/s]"
      ]
     },
     "metadata": {},
     "output_type": "display_data"
    },
    {
     "name": "stdout",
     "output_type": "stream",
     "text": [
      "\n",
      " Early Stopping / epoch: 244 loss: 0.0016\n",
      "-------------------------------------------------------------------------------------\n",
      "lr: 0.001  patience: 20  num_layers: 2  batch_size: 32  hidden_size: 32  dropout: 0.25\n"
     ]
    },
    {
     "data": {
      "application/vnd.jupyter.widget-view+json": {
       "model_id": "6409b6c31e5d47a2bd840144981af0b9",
       "version_major": 2,
       "version_minor": 0
      },
      "text/plain": [
       "  0%|          | 0/10000 [00:00<?, ?it/s]"
      ]
     },
     "metadata": {},
     "output_type": "display_data"
    },
    {
     "name": "stdout",
     "output_type": "stream",
     "text": [
      "\n",
      " Early Stopping / epoch: 188 loss: 0.0009\n",
      "-------------------------------------------------------------------------------------\n",
      "lr: 0.001  patience: 20  num_layers: 2  batch_size: 64  hidden_size: 8  dropout: 0.25\n"
     ]
    },
    {
     "data": {
      "application/vnd.jupyter.widget-view+json": {
       "model_id": "df2bc429bcec41b184334fbdafa118f6",
       "version_major": 2,
       "version_minor": 0
      },
      "text/plain": [
       "  0%|          | 0/10000 [00:00<?, ?it/s]"
      ]
     },
     "metadata": {},
     "output_type": "display_data"
    },
    {
     "name": "stdout",
     "output_type": "stream",
     "text": [
      "\n",
      " Early Stopping / epoch: 184 loss: 0.0028\n",
      "-------------------------------------------------------------------------------------\n",
      "lr: 0.001  patience: 20  num_layers: 2  batch_size: 64  hidden_size: 16  dropout: 0.25\n"
     ]
    },
    {
     "data": {
      "application/vnd.jupyter.widget-view+json": {
       "model_id": "550dd23cf3e3474782bdc353a801fc82",
       "version_major": 2,
       "version_minor": 0
      },
      "text/plain": [
       "  0%|          | 0/10000 [00:00<?, ?it/s]"
      ]
     },
     "metadata": {},
     "output_type": "display_data"
    },
    {
     "name": "stdout",
     "output_type": "stream",
     "text": [
      "\n",
      " Early Stopping / epoch: 259 loss: 0.0012\n",
      "-------------------------------------------------------------------------------------\n",
      "lr: 0.001  patience: 20  num_layers: 2  batch_size: 64  hidden_size: 32  dropout: 0.25\n"
     ]
    },
    {
     "data": {
      "application/vnd.jupyter.widget-view+json": {
       "model_id": "a5840a9e584f4143b9ac526e0401b183",
       "version_major": 2,
       "version_minor": 0
      },
      "text/plain": [
       "  0%|          | 0/10000 [00:00<?, ?it/s]"
      ]
     },
     "metadata": {},
     "output_type": "display_data"
    },
    {
     "name": "stdout",
     "output_type": "stream",
     "text": [
      "\n",
      " Early Stopping / epoch: 241 loss: 0.0006\n",
      "-------------------------------------------------------------------------------------\n",
      "lr: 0.001  patience: 20  num_layers: 4  batch_size: 32  hidden_size: 8  dropout: 0.25\n"
     ]
    },
    {
     "data": {
      "application/vnd.jupyter.widget-view+json": {
       "model_id": "79833718628547bb9c4d0ee6407f475a",
       "version_major": 2,
       "version_minor": 0
      },
      "text/plain": [
       "  0%|          | 0/10000 [00:00<?, ?it/s]"
      ]
     },
     "metadata": {},
     "output_type": "display_data"
    },
    {
     "name": "stdout",
     "output_type": "stream",
     "text": [
      "\n",
      " Early Stopping / epoch: 26 loss: 0.0533\n",
      "-------------------------------------------------------------------------------------\n",
      "lr: 0.001  patience: 20  num_layers: 4  batch_size: 32  hidden_size: 16  dropout: 0.25\n"
     ]
    },
    {
     "data": {
      "application/vnd.jupyter.widget-view+json": {
       "model_id": "898cf7da4ca747f7bfec32cfba2b1eed",
       "version_major": 2,
       "version_minor": 0
      },
      "text/plain": [
       "  0%|          | 0/10000 [00:00<?, ?it/s]"
      ]
     },
     "metadata": {},
     "output_type": "display_data"
    },
    {
     "name": "stdout",
     "output_type": "stream",
     "text": [
      "\n",
      " Early Stopping / epoch: 25 loss: 0.0515\n",
      "-------------------------------------------------------------------------------------\n",
      "lr: 0.001  patience: 20  num_layers: 4  batch_size: 32  hidden_size: 32  dropout: 0.25\n"
     ]
    },
    {
     "data": {
      "application/vnd.jupyter.widget-view+json": {
       "model_id": "d58ea8f5c14d4ed6b48ce6f381c341c0",
       "version_major": 2,
       "version_minor": 0
      },
      "text/plain": [
       "  0%|          | 0/10000 [00:00<?, ?it/s]"
      ]
     },
     "metadata": {},
     "output_type": "display_data"
    },
    {
     "name": "stdout",
     "output_type": "stream",
     "text": [
      "\n",
      " Early Stopping / epoch: 24 loss: 0.0497\n",
      "-------------------------------------------------------------------------------------\n",
      "lr: 0.001  patience: 20  num_layers: 4  batch_size: 64  hidden_size: 8  dropout: 0.25\n"
     ]
    },
    {
     "data": {
      "application/vnd.jupyter.widget-view+json": {
       "model_id": "7386ffd8687a424a8e82b0d4962dff1f",
       "version_major": 2,
       "version_minor": 0
      },
      "text/plain": [
       "  0%|          | 0/10000 [00:00<?, ?it/s]"
      ]
     },
     "metadata": {},
     "output_type": "display_data"
    },
    {
     "name": "stdout",
     "output_type": "stream",
     "text": [
      "\n",
      " Early Stopping / epoch: 237 loss: 0.0081\n",
      "-------------------------------------------------------------------------------------\n",
      "lr: 0.001  patience: 20  num_layers: 4  batch_size: 64  hidden_size: 16  dropout: 0.25\n"
     ]
    },
    {
     "data": {
      "application/vnd.jupyter.widget-view+json": {
       "model_id": "a962a11aba174ab0b94c5b7348405963",
       "version_major": 2,
       "version_minor": 0
      },
      "text/plain": [
       "  0%|          | 0/10000 [00:00<?, ?it/s]"
      ]
     },
     "metadata": {},
     "output_type": "display_data"
    },
    {
     "name": "stdout",
     "output_type": "stream",
     "text": [
      "\n",
      " Early Stopping / epoch: 143 loss: 0.0092\n",
      "-------------------------------------------------------------------------------------\n",
      "lr: 0.001  patience: 20  num_layers: 4  batch_size: 64  hidden_size: 32  dropout: 0.25\n"
     ]
    },
    {
     "data": {
      "application/vnd.jupyter.widget-view+json": {
       "model_id": "bf3dab7266344830ba5760e4bd45aaf0",
       "version_major": 2,
       "version_minor": 0
      },
      "text/plain": [
       "  0%|          | 0/10000 [00:00<?, ?it/s]"
      ]
     },
     "metadata": {},
     "output_type": "display_data"
    },
    {
     "name": "stdout",
     "output_type": "stream",
     "text": [
      "\n",
      " Early Stopping / epoch: 109 loss: 0.0099\n",
      "-------------------------------------------------------------------------------------\n",
      "lr: 0.001  patience: 20  num_layers: 8  batch_size: 32  hidden_size: 8  dropout: 0.25\n"
     ]
    },
    {
     "data": {
      "application/vnd.jupyter.widget-view+json": {
       "model_id": "a2828ad53ed64af7990e5dfc269c44d7",
       "version_major": 2,
       "version_minor": 0
      },
      "text/plain": [
       "  0%|          | 0/10000 [00:00<?, ?it/s]"
      ]
     },
     "metadata": {},
     "output_type": "display_data"
    },
    {
     "name": "stdout",
     "output_type": "stream",
     "text": [
      "\n",
      " Early Stopping / epoch: 24 loss: 0.0531\n",
      "-------------------------------------------------------------------------------------\n",
      "lr: 0.001  patience: 20  num_layers: 8  batch_size: 32  hidden_size: 16  dropout: 0.25\n"
     ]
    },
    {
     "data": {
      "application/vnd.jupyter.widget-view+json": {
       "model_id": "e96f4413b9ef4045a60b61e1071a8b00",
       "version_major": 2,
       "version_minor": 0
      },
      "text/plain": [
       "  0%|          | 0/10000 [00:00<?, ?it/s]"
      ]
     },
     "metadata": {},
     "output_type": "display_data"
    },
    {
     "name": "stdout",
     "output_type": "stream",
     "text": [
      "\n",
      " Early Stopping / epoch: 24 loss: 0.0530\n",
      "-------------------------------------------------------------------------------------\n",
      "lr: 0.001  patience: 20  num_layers: 8  batch_size: 32  hidden_size: 32  dropout: 0.25\n"
     ]
    },
    {
     "data": {
      "application/vnd.jupyter.widget-view+json": {
       "model_id": "ae7fc55dfc484566ac352fb67285746d",
       "version_major": 2,
       "version_minor": 0
      },
      "text/plain": [
       "  0%|          | 0/10000 [00:00<?, ?it/s]"
      ]
     },
     "metadata": {},
     "output_type": "display_data"
    },
    {
     "name": "stdout",
     "output_type": "stream",
     "text": [
      "\n",
      " Early Stopping / epoch: 28 loss: 0.0524\n",
      "-------------------------------------------------------------------------------------\n",
      "lr: 0.001  patience: 20  num_layers: 8  batch_size: 64  hidden_size: 8  dropout: 0.25\n"
     ]
    },
    {
     "data": {
      "application/vnd.jupyter.widget-view+json": {
       "model_id": "ae59ee4b240b4d19949666426db0145c",
       "version_major": 2,
       "version_minor": 0
      },
      "text/plain": [
       "  0%|          | 0/10000 [00:00<?, ?it/s]"
      ]
     },
     "metadata": {},
     "output_type": "display_data"
    },
    {
     "name": "stdout",
     "output_type": "stream",
     "text": [
      "\n",
      " Early Stopping / epoch: 49 loss: 0.0505\n",
      "-------------------------------------------------------------------------------------\n",
      "lr: 0.001  patience: 20  num_layers: 8  batch_size: 64  hidden_size: 16  dropout: 0.25\n"
     ]
    },
    {
     "data": {
      "application/vnd.jupyter.widget-view+json": {
       "model_id": "28f40dbac9f648e882a276ccad7d0d1e",
       "version_major": 2,
       "version_minor": 0
      },
      "text/plain": [
       "  0%|          | 0/10000 [00:00<?, ?it/s]"
      ]
     },
     "metadata": {},
     "output_type": "display_data"
    },
    {
     "name": "stdout",
     "output_type": "stream",
     "text": [
      "\n",
      " Early Stopping / epoch: 33 loss: 0.0503\n",
      "-------------------------------------------------------------------------------------\n",
      "lr: 0.001  patience: 20  num_layers: 8  batch_size: 64  hidden_size: 32  dropout: 0.25\n"
     ]
    },
    {
     "data": {
      "application/vnd.jupyter.widget-view+json": {
       "model_id": "9ee3cf34340d46ceac3d077fa4a8d1a7",
       "version_major": 2,
       "version_minor": 0
      },
      "text/plain": [
       "  0%|          | 0/10000 [00:00<?, ?it/s]"
      ]
     },
     "metadata": {},
     "output_type": "display_data"
    },
    {
     "name": "stdout",
     "output_type": "stream",
     "text": [
      "\n",
      " Early Stopping / epoch: 237 loss: 0.0071\n",
      "-------------------------------------------------------------------------------------\n",
      "lr: 0.001  patience: 50  num_layers: 1  batch_size: 32  hidden_size: 8  dropout: 0.25\n"
     ]
    },
    {
     "data": {
      "application/vnd.jupyter.widget-view+json": {
       "model_id": "ae8e232473d74bfcb0512fd415d73a93",
       "version_major": 2,
       "version_minor": 0
      },
      "text/plain": [
       "  0%|          | 0/10000 [00:00<?, ?it/s]"
      ]
     },
     "metadata": {},
     "output_type": "display_data"
    },
    {
     "name": "stdout",
     "output_type": "stream",
     "text": [
      "\n",
      " Early Stopping / epoch: 257 loss: 0.0000\n",
      "-------------------------------------------------------------------------------------\n",
      "lr: 0.001  patience: 50  num_layers: 1  batch_size: 32  hidden_size: 16  dropout: 0.25\n"
     ]
    },
    {
     "data": {
      "application/vnd.jupyter.widget-view+json": {
       "model_id": "6dd4faf3044041a58db8fd517b66b973",
       "version_major": 2,
       "version_minor": 0
      },
      "text/plain": [
       "  0%|          | 0/10000 [00:00<?, ?it/s]"
      ]
     },
     "metadata": {},
     "output_type": "display_data"
    },
    {
     "name": "stdout",
     "output_type": "stream",
     "text": [
      "\n",
      " Early Stopping / epoch: 674 loss: 0.0000\n",
      "-------------------------------------------------------------------------------------\n",
      "lr: 0.001  patience: 50  num_layers: 1  batch_size: 32  hidden_size: 32  dropout: 0.25\n"
     ]
    },
    {
     "data": {
      "application/vnd.jupyter.widget-view+json": {
       "model_id": "2b64d53e546e4a8ea0700a5583961e9d",
       "version_major": 2,
       "version_minor": 0
      },
      "text/plain": [
       "  0%|          | 0/10000 [00:00<?, ?it/s]"
      ]
     },
     "metadata": {},
     "output_type": "display_data"
    },
    {
     "name": "stdout",
     "output_type": "stream",
     "text": [
      "\n",
      " Early Stopping / epoch: 857 loss: 0.0001\n",
      "-------------------------------------------------------------------------------------\n",
      "lr: 0.001  patience: 50  num_layers: 1  batch_size: 64  hidden_size: 8  dropout: 0.25\n"
     ]
    },
    {
     "data": {
      "application/vnd.jupyter.widget-view+json": {
       "model_id": "1fe31bc44f934b6898bd6527ad081c2a",
       "version_major": 2,
       "version_minor": 0
      },
      "text/plain": [
       "  0%|          | 0/10000 [00:00<?, ?it/s]"
      ]
     },
     "metadata": {},
     "output_type": "display_data"
    },
    {
     "name": "stdout",
     "output_type": "stream",
     "text": [
      "\n",
      " Early Stopping / epoch: 1552 loss: 0.0000\n",
      "-------------------------------------------------------------------------------------\n",
      "lr: 0.001  patience: 50  num_layers: 1  batch_size: 64  hidden_size: 16  dropout: 0.25\n"
     ]
    },
    {
     "data": {
      "application/vnd.jupyter.widget-view+json": {
       "model_id": "f1a479522e9e47f3af70e48219a8aacd",
       "version_major": 2,
       "version_minor": 0
      },
      "text/plain": [
       "  0%|          | 0/10000 [00:00<?, ?it/s]"
      ]
     },
     "metadata": {},
     "output_type": "display_data"
    },
    {
     "name": "stdout",
     "output_type": "stream",
     "text": [
      "\n",
      " Early Stopping / epoch: 1101 loss: 0.0000\n",
      "-------------------------------------------------------------------------------------\n",
      "lr: 0.001  patience: 50  num_layers: 1  batch_size: 64  hidden_size: 32  dropout: 0.25\n"
     ]
    },
    {
     "data": {
      "application/vnd.jupyter.widget-view+json": {
       "model_id": "d987a8f0489a46d4a24abb828e645418",
       "version_major": 2,
       "version_minor": 0
      },
      "text/plain": [
       "  0%|          | 0/10000 [00:00<?, ?it/s]"
      ]
     },
     "metadata": {},
     "output_type": "display_data"
    },
    {
     "name": "stdout",
     "output_type": "stream",
     "text": [
      "\n",
      " Early Stopping / epoch: 1145 loss: 0.0000\n",
      "-------------------------------------------------------------------------------------\n",
      "lr: 0.001  patience: 50  num_layers: 2  batch_size: 32  hidden_size: 8  dropout: 0.25\n"
     ]
    },
    {
     "data": {
      "application/vnd.jupyter.widget-view+json": {
       "model_id": "e11494b1a06647bb8ab4303609243642",
       "version_major": 2,
       "version_minor": 0
      },
      "text/plain": [
       "  0%|          | 0/10000 [00:00<?, ?it/s]"
      ]
     },
     "metadata": {},
     "output_type": "display_data"
    },
    {
     "name": "stdout",
     "output_type": "stream",
     "text": [
      "\n",
      " Early Stopping / epoch: 327 loss: 0.0016\n",
      "-------------------------------------------------------------------------------------\n",
      "lr: 0.001  patience: 50  num_layers: 2  batch_size: 32  hidden_size: 16  dropout: 0.25\n"
     ]
    },
    {
     "data": {
      "application/vnd.jupyter.widget-view+json": {
       "model_id": "c49db0644b2d41bf98a6834e961a47ad",
       "version_major": 2,
       "version_minor": 0
      },
      "text/plain": [
       "  0%|          | 0/10000 [00:00<?, ?it/s]"
      ]
     },
     "metadata": {},
     "output_type": "display_data"
    },
    {
     "name": "stdout",
     "output_type": "stream",
     "text": [
      "\n",
      " Early Stopping / epoch: 561 loss: 0.0004\n",
      "-------------------------------------------------------------------------------------\n",
      "lr: 0.001  patience: 50  num_layers: 2  batch_size: 32  hidden_size: 32  dropout: 0.25\n"
     ]
    },
    {
     "data": {
      "application/vnd.jupyter.widget-view+json": {
       "model_id": "e71be5d8fd5f4bf480deab008aa2b387",
       "version_major": 2,
       "version_minor": 0
      },
      "text/plain": [
       "  0%|          | 0/10000 [00:00<?, ?it/s]"
      ]
     },
     "metadata": {},
     "output_type": "display_data"
    },
    {
     "name": "stdout",
     "output_type": "stream",
     "text": [
      "\n",
      " Early Stopping / epoch: 441 loss: 0.0003\n",
      "-------------------------------------------------------------------------------------\n",
      "lr: 0.001  patience: 50  num_layers: 2  batch_size: 64  hidden_size: 8  dropout: 0.25\n"
     ]
    },
    {
     "data": {
      "application/vnd.jupyter.widget-view+json": {
       "model_id": "579af7a76ff3433a8e4b2967c64243df",
       "version_major": 2,
       "version_minor": 0
      },
      "text/plain": [
       "  0%|          | 0/10000 [00:00<?, ?it/s]"
      ]
     },
     "metadata": {},
     "output_type": "display_data"
    },
    {
     "name": "stdout",
     "output_type": "stream",
     "text": [
      "\n",
      " Early Stopping / epoch: 274 loss: 0.0038\n",
      "-------------------------------------------------------------------------------------\n",
      "lr: 0.001  patience: 50  num_layers: 2  batch_size: 64  hidden_size: 16  dropout: 0.25\n"
     ]
    },
    {
     "data": {
      "application/vnd.jupyter.widget-view+json": {
       "model_id": "07db3a67356e4e7c828e9911fd7c6d6f",
       "version_major": 2,
       "version_minor": 0
      },
      "text/plain": [
       "  0%|          | 0/10000 [00:00<?, ?it/s]"
      ]
     },
     "metadata": {},
     "output_type": "display_data"
    },
    {
     "name": "stdout",
     "output_type": "stream",
     "text": [
      "\n",
      " Early Stopping / epoch: 472 loss: 0.0011\n",
      "-------------------------------------------------------------------------------------\n",
      "lr: 0.001  patience: 50  num_layers: 2  batch_size: 64  hidden_size: 32  dropout: 0.25\n"
     ]
    },
    {
     "data": {
      "application/vnd.jupyter.widget-view+json": {
       "model_id": "653bb5a6fc2440f8a326fce1df0af2eb",
       "version_major": 2,
       "version_minor": 0
      },
      "text/plain": [
       "  0%|          | 0/10000 [00:00<?, ?it/s]"
      ]
     },
     "metadata": {},
     "output_type": "display_data"
    },
    {
     "name": "stdout",
     "output_type": "stream",
     "text": [
      "\n",
      " Early Stopping / epoch: 364 loss: 0.0004\n",
      "-------------------------------------------------------------------------------------\n",
      "lr: 0.001  patience: 50  num_layers: 4  batch_size: 32  hidden_size: 8  dropout: 0.25\n"
     ]
    },
    {
     "data": {
      "application/vnd.jupyter.widget-view+json": {
       "model_id": "97f71e4124c84a3897d1113306799948",
       "version_major": 2,
       "version_minor": 0
      },
      "text/plain": [
       "  0%|          | 0/10000 [00:00<?, ?it/s]"
      ]
     },
     "metadata": {},
     "output_type": "display_data"
    },
    {
     "name": "stdout",
     "output_type": "stream",
     "text": [
      "\n",
      " Early Stopping / epoch: 54 loss: 0.0524\n",
      "-------------------------------------------------------------------------------------\n",
      "lr: 0.001  patience: 50  num_layers: 4  batch_size: 32  hidden_size: 16  dropout: 0.25\n"
     ]
    },
    {
     "data": {
      "application/vnd.jupyter.widget-view+json": {
       "model_id": "56165cffe404431aa210035f7f1c51c4",
       "version_major": 2,
       "version_minor": 0
      },
      "text/plain": [
       "  0%|          | 0/10000 [00:00<?, ?it/s]"
      ]
     },
     "metadata": {},
     "output_type": "display_data"
    },
    {
     "name": "stdout",
     "output_type": "stream",
     "text": [
      "\n",
      " Early Stopping / epoch: 326 loss: 0.0030\n",
      "-------------------------------------------------------------------------------------\n",
      "lr: 0.001  patience: 50  num_layers: 4  batch_size: 32  hidden_size: 32  dropout: 0.25\n"
     ]
    },
    {
     "data": {
      "application/vnd.jupyter.widget-view+json": {
       "model_id": "8853bcfae9a74c7e88e9568e1b6e56ea",
       "version_major": 2,
       "version_minor": 0
      },
      "text/plain": [
       "  0%|          | 0/10000 [00:00<?, ?it/s]"
      ]
     },
     "metadata": {},
     "output_type": "display_data"
    },
    {
     "name": "stdout",
     "output_type": "stream",
     "text": [
      "\n",
      " Early Stopping / epoch: 302 loss: 0.0019\n",
      "-------------------------------------------------------------------------------------\n",
      "lr: 0.001  patience: 50  num_layers: 4  batch_size: 64  hidden_size: 8  dropout: 0.25\n"
     ]
    },
    {
     "data": {
      "application/vnd.jupyter.widget-view+json": {
       "model_id": "13c54c4c95b146f1867a10abe36fbaf4",
       "version_major": 2,
       "version_minor": 0
      },
      "text/plain": [
       "  0%|          | 0/10000 [00:00<?, ?it/s]"
      ]
     },
     "metadata": {},
     "output_type": "display_data"
    },
    {
     "name": "stdout",
     "output_type": "stream",
     "text": [
      "\n",
      " Early Stopping / epoch: 272 loss: 0.0116\n",
      "-------------------------------------------------------------------------------------\n",
      "lr: 0.001  patience: 50  num_layers: 4  batch_size: 64  hidden_size: 16  dropout: 0.25\n"
     ]
    },
    {
     "data": {
      "application/vnd.jupyter.widget-view+json": {
       "model_id": "fde3e58273fb4168a7459c9d44305b7c",
       "version_major": 2,
       "version_minor": 0
      },
      "text/plain": [
       "  0%|          | 0/10000 [00:00<?, ?it/s]"
      ]
     },
     "metadata": {},
     "output_type": "display_data"
    },
    {
     "name": "stdout",
     "output_type": "stream",
     "text": [
      "\n",
      " Early Stopping / epoch: 642 loss: 0.0011\n",
      "-------------------------------------------------------------------------------------\n",
      "lr: 0.001  patience: 50  num_layers: 4  batch_size: 64  hidden_size: 32  dropout: 0.25\n"
     ]
    },
    {
     "data": {
      "application/vnd.jupyter.widget-view+json": {
       "model_id": "ce04e29aeb134d3fbe226b4a7ab6f71d",
       "version_major": 2,
       "version_minor": 0
      },
      "text/plain": [
       "  0%|          | 0/10000 [00:00<?, ?it/s]"
      ]
     },
     "metadata": {},
     "output_type": "display_data"
    },
    {
     "name": "stdout",
     "output_type": "stream",
     "text": [
      "\n",
      " Early Stopping / epoch: 350 loss: 0.0032\n",
      "-------------------------------------------------------------------------------------\n",
      "lr: 0.001  patience: 50  num_layers: 8  batch_size: 32  hidden_size: 8  dropout: 0.25\n"
     ]
    },
    {
     "data": {
      "application/vnd.jupyter.widget-view+json": {
       "model_id": "524a50c2c2d14a9090c82d553044f445",
       "version_major": 2,
       "version_minor": 0
      },
      "text/plain": [
       "  0%|          | 0/10000 [00:00<?, ?it/s]"
      ]
     },
     "metadata": {},
     "output_type": "display_data"
    },
    {
     "name": "stdout",
     "output_type": "stream",
     "text": [
      "\n",
      " Early Stopping / epoch: 56 loss: 0.0525\n",
      "-------------------------------------------------------------------------------------\n",
      "lr: 0.001  patience: 50  num_layers: 8  batch_size: 32  hidden_size: 16  dropout: 0.25\n"
     ]
    },
    {
     "data": {
      "application/vnd.jupyter.widget-view+json": {
       "model_id": "4b17d69772944898b4a6292becc4432c",
       "version_major": 2,
       "version_minor": 0
      },
      "text/plain": [
       "  0%|          | 0/10000 [00:00<?, ?it/s]"
      ]
     },
     "metadata": {},
     "output_type": "display_data"
    },
    {
     "name": "stdout",
     "output_type": "stream",
     "text": [
      "\n",
      " Early Stopping / epoch: 55 loss: 0.0527\n",
      "-------------------------------------------------------------------------------------\n",
      "lr: 0.001  patience: 50  num_layers: 8  batch_size: 32  hidden_size: 32  dropout: 0.25\n"
     ]
    },
    {
     "data": {
      "application/vnd.jupyter.widget-view+json": {
       "model_id": "9b2487a0e374432aa1b3389a1756114c",
       "version_major": 2,
       "version_minor": 0
      },
      "text/plain": [
       "  0%|          | 0/10000 [00:00<?, ?it/s]"
      ]
     },
     "metadata": {},
     "output_type": "display_data"
    },
    {
     "name": "stdout",
     "output_type": "stream",
     "text": [
      "\n",
      " Early Stopping / epoch: 341 loss: 0.0035\n",
      "-------------------------------------------------------------------------------------\n",
      "lr: 0.001  patience: 50  num_layers: 8  batch_size: 64  hidden_size: 8  dropout: 0.25\n"
     ]
    },
    {
     "data": {
      "application/vnd.jupyter.widget-view+json": {
       "model_id": "6e5378fd9d8a42bd89f03605220434ec",
       "version_major": 2,
       "version_minor": 0
      },
      "text/plain": [
       "  0%|          | 0/10000 [00:00<?, ?it/s]"
      ]
     },
     "metadata": {},
     "output_type": "display_data"
    },
    {
     "name": "stdout",
     "output_type": "stream",
     "text": [
      "\n",
      " Early Stopping / epoch: 77 loss: 0.0504\n",
      "-------------------------------------------------------------------------------------\n",
      "lr: 0.001  patience: 50  num_layers: 8  batch_size: 64  hidden_size: 16  dropout: 0.25\n"
     ]
    },
    {
     "data": {
      "application/vnd.jupyter.widget-view+json": {
       "model_id": "ed1b778090754746b143e346edc80943",
       "version_major": 2,
       "version_minor": 0
      },
      "text/plain": [
       "  0%|          | 0/10000 [00:00<?, ?it/s]"
      ]
     },
     "metadata": {},
     "output_type": "display_data"
    },
    {
     "name": "stdout",
     "output_type": "stream",
     "text": [
      "\n",
      " Early Stopping / epoch: 360 loss: 0.0047\n",
      "-------------------------------------------------------------------------------------\n",
      "lr: 0.001  patience: 50  num_layers: 8  batch_size: 64  hidden_size: 32  dropout: 0.25\n"
     ]
    },
    {
     "data": {
      "application/vnd.jupyter.widget-view+json": {
       "model_id": "47d54d153b7f416e8afbb7a8ce2f1b99",
       "version_major": 2,
       "version_minor": 0
      },
      "text/plain": [
       "  0%|          | 0/10000 [00:00<?, ?it/s]"
      ]
     },
     "metadata": {},
     "output_type": "display_data"
    },
    {
     "name": "stdout",
     "output_type": "stream",
     "text": [
      "\n",
      " Early Stopping / epoch: 476 loss: 0.0034\n",
      "-------------------------------------------------------------------------------------\n",
      "lr: 0.0001  patience: 20  num_layers: 1  batch_size: 32  hidden_size: 8  dropout: 0.25\n"
     ]
    },
    {
     "data": {
      "application/vnd.jupyter.widget-view+json": {
       "model_id": "4c01fcf96cb343c68d7ac4ffe0929283",
       "version_major": 2,
       "version_minor": 0
      },
      "text/plain": [
       "  0%|          | 0/10000 [00:00<?, ?it/s]"
      ]
     },
     "metadata": {},
     "output_type": "display_data"
    },
    {
     "name": "stdout",
     "output_type": "stream",
     "text": [
      "\n",
      " Early Stopping / epoch: 1934 loss: 0.0000\n",
      "-------------------------------------------------------------------------------------\n",
      "lr: 0.0001  patience: 20  num_layers: 1  batch_size: 32  hidden_size: 16  dropout: 0.25\n"
     ]
    },
    {
     "data": {
      "application/vnd.jupyter.widget-view+json": {
       "model_id": "52c4bb97dd41497fa1b149622cb9f680",
       "version_major": 2,
       "version_minor": 0
      },
      "text/plain": [
       "  0%|          | 0/10000 [00:00<?, ?it/s]"
      ]
     },
     "metadata": {},
     "output_type": "display_data"
    },
    {
     "name": "stdout",
     "output_type": "stream",
     "text": [
      "\n",
      " Early Stopping / epoch: 1798 loss: 0.0000\n",
      "-------------------------------------------------------------------------------------\n",
      "lr: 0.0001  patience: 20  num_layers: 1  batch_size: 32  hidden_size: 32  dropout: 0.25\n"
     ]
    },
    {
     "data": {
      "application/vnd.jupyter.widget-view+json": {
       "model_id": "d9329fef65eb4af480f88ddde9d01d7f",
       "version_major": 2,
       "version_minor": 0
      },
      "text/plain": [
       "  0%|          | 0/10000 [00:00<?, ?it/s]"
      ]
     },
     "metadata": {},
     "output_type": "display_data"
    },
    {
     "name": "stdout",
     "output_type": "stream",
     "text": [
      "\n",
      " Early Stopping / epoch: 1585 loss: 0.0000\n",
      "-------------------------------------------------------------------------------------\n",
      "lr: 0.0001  patience: 20  num_layers: 1  batch_size: 64  hidden_size: 8  dropout: 0.25\n"
     ]
    },
    {
     "data": {
      "application/vnd.jupyter.widget-view+json": {
       "model_id": "9091d2bccbed41d89f9b6a7d201b7fb9",
       "version_major": 2,
       "version_minor": 0
      },
      "text/plain": [
       "  0%|          | 0/10000 [00:00<?, ?it/s]"
      ]
     },
     "metadata": {},
     "output_type": "display_data"
    },
    {
     "name": "stdout",
     "output_type": "stream",
     "text": [
      "\n",
      " Early Stopping / epoch: 2802 loss: 0.0000\n",
      "-------------------------------------------------------------------------------------\n",
      "lr: 0.0001  patience: 20  num_layers: 1  batch_size: 64  hidden_size: 16  dropout: 0.25\n"
     ]
    },
    {
     "data": {
      "application/vnd.jupyter.widget-view+json": {
       "model_id": "85faa1aa585243e08a6346737eb755c8",
       "version_major": 2,
       "version_minor": 0
      },
      "text/plain": [
       "  0%|          | 0/10000 [00:00<?, ?it/s]"
      ]
     },
     "metadata": {},
     "output_type": "display_data"
    },
    {
     "name": "stdout",
     "output_type": "stream",
     "text": [
      "\n",
      " Early Stopping / epoch: 3006 loss: 0.0000\n",
      "-------------------------------------------------------------------------------------\n",
      "lr: 0.0001  patience: 20  num_layers: 1  batch_size: 64  hidden_size: 32  dropout: 0.25\n"
     ]
    },
    {
     "data": {
      "application/vnd.jupyter.widget-view+json": {
       "model_id": "c297068ba28d420c91757503aebd95a0",
       "version_major": 2,
       "version_minor": 0
      },
      "text/plain": [
       "  0%|          | 0/10000 [00:00<?, ?it/s]"
      ]
     },
     "metadata": {},
     "output_type": "display_data"
    },
    {
     "name": "stdout",
     "output_type": "stream",
     "text": [
      "\n",
      " Early Stopping / epoch: 2583 loss: 0.0000\n",
      "-------------------------------------------------------------------------------------\n",
      "lr: 0.0001  patience: 20  num_layers: 2  batch_size: 32  hidden_size: 8  dropout: 0.25\n"
     ]
    },
    {
     "data": {
      "application/vnd.jupyter.widget-view+json": {
       "model_id": "2df7e3e82c354737a84c44064a4928e8",
       "version_major": 2,
       "version_minor": 0
      },
      "text/plain": [
       "  0%|          | 0/10000 [00:00<?, ?it/s]"
      ]
     },
     "metadata": {},
     "output_type": "display_data"
    },
    {
     "name": "stdout",
     "output_type": "stream",
     "text": [
      "\n",
      " Early Stopping / epoch: 325 loss: 0.0136\n",
      "-------------------------------------------------------------------------------------\n",
      "lr: 0.0001  patience: 20  num_layers: 2  batch_size: 32  hidden_size: 16  dropout: 0.25\n"
     ]
    },
    {
     "data": {
      "application/vnd.jupyter.widget-view+json": {
       "model_id": "618fee78a7a24ef8b1e32acbaf765038",
       "version_major": 2,
       "version_minor": 0
      },
      "text/plain": [
       "  0%|          | 0/10000 [00:00<?, ?it/s]"
      ]
     },
     "metadata": {},
     "output_type": "display_data"
    },
    {
     "name": "stdout",
     "output_type": "stream",
     "text": [
      "\n",
      " Early Stopping / epoch: 174 loss: 0.0125\n",
      "-------------------------------------------------------------------------------------\n",
      "lr: 0.0001  patience: 20  num_layers: 2  batch_size: 32  hidden_size: 32  dropout: 0.25\n"
     ]
    },
    {
     "data": {
      "application/vnd.jupyter.widget-view+json": {
       "model_id": "fcdc6db00c524e24958ce45ea0e55638",
       "version_major": 2,
       "version_minor": 0
      },
      "text/plain": [
       "  0%|          | 0/10000 [00:00<?, ?it/s]"
      ]
     },
     "metadata": {},
     "output_type": "display_data"
    },
    {
     "name": "stdout",
     "output_type": "stream",
     "text": [
      "\n",
      " Early Stopping / epoch: 187 loss: 0.0120\n",
      "-------------------------------------------------------------------------------------\n",
      "lr: 0.0001  patience: 20  num_layers: 2  batch_size: 64  hidden_size: 8  dropout: 0.25\n"
     ]
    },
    {
     "data": {
      "application/vnd.jupyter.widget-view+json": {
       "model_id": "d9bbc0ea669f4f3bb36d647bc2236117",
       "version_major": 2,
       "version_minor": 0
      },
      "text/plain": [
       "  0%|          | 0/10000 [00:00<?, ?it/s]"
      ]
     },
     "metadata": {},
     "output_type": "display_data"
    },
    {
     "name": "stdout",
     "output_type": "stream",
     "text": [
      "\n",
      " Early Stopping / epoch: 325 loss: 0.0107\n",
      "-------------------------------------------------------------------------------------\n",
      "lr: 0.0001  patience: 20  num_layers: 2  batch_size: 64  hidden_size: 16  dropout: 0.25\n"
     ]
    },
    {
     "data": {
      "application/vnd.jupyter.widget-view+json": {
       "model_id": "2716337c15ae4bc5aaa7657ca63496f6",
       "version_major": 2,
       "version_minor": 0
      },
      "text/plain": [
       "  0%|          | 0/10000 [00:00<?, ?it/s]"
      ]
     },
     "metadata": {},
     "output_type": "display_data"
    },
    {
     "name": "stdout",
     "output_type": "stream",
     "text": [
      "\n",
      " Early Stopping / epoch: 209 loss: 0.0116\n",
      "-------------------------------------------------------------------------------------\n",
      "lr: 0.0001  patience: 20  num_layers: 2  batch_size: 64  hidden_size: 32  dropout: 0.25\n"
     ]
    },
    {
     "data": {
      "application/vnd.jupyter.widget-view+json": {
       "model_id": "ac34df5c05f841e1bb5276ead6a19464",
       "version_major": 2,
       "version_minor": 0
      },
      "text/plain": [
       "  0%|          | 0/10000 [00:00<?, ?it/s]"
      ]
     },
     "metadata": {},
     "output_type": "display_data"
    },
    {
     "name": "stdout",
     "output_type": "stream",
     "text": [
      "\n",
      " Early Stopping / epoch: 317 loss: 0.0076\n",
      "-------------------------------------------------------------------------------------\n",
      "lr: 0.0001  patience: 20  num_layers: 4  batch_size: 32  hidden_size: 8  dropout: 0.25\n"
     ]
    },
    {
     "data": {
      "application/vnd.jupyter.widget-view+json": {
       "model_id": "3996e5e1c44d40e1a085810e03e1a86f",
       "version_major": 2,
       "version_minor": 0
      },
      "text/plain": [
       "  0%|          | 0/10000 [00:00<?, ?it/s]"
      ]
     },
     "metadata": {},
     "output_type": "display_data"
    },
    {
     "name": "stdout",
     "output_type": "stream",
     "text": [
      "\n",
      " Early Stopping / epoch: 60 loss: 0.0519\n",
      "-------------------------------------------------------------------------------------\n",
      "lr: 0.0001  patience: 20  num_layers: 4  batch_size: 32  hidden_size: 16  dropout: 0.25\n"
     ]
    },
    {
     "data": {
      "application/vnd.jupyter.widget-view+json": {
       "model_id": "5f747509ce43466898cc2de68ce83bff",
       "version_major": 2,
       "version_minor": 0
      },
      "text/plain": [
       "  0%|          | 0/10000 [00:00<?, ?it/s]"
      ]
     },
     "metadata": {},
     "output_type": "display_data"
    },
    {
     "name": "stdout",
     "output_type": "stream",
     "text": [
      "\n",
      " Early Stopping / epoch: 40 loss: 0.0522\n",
      "-------------------------------------------------------------------------------------\n",
      "lr: 0.0001  patience: 20  num_layers: 4  batch_size: 32  hidden_size: 32  dropout: 0.25\n"
     ]
    },
    {
     "data": {
      "application/vnd.jupyter.widget-view+json": {
       "model_id": "61f85dfe4999405790f00b1d3c9e65a0",
       "version_major": 2,
       "version_minor": 0
      },
      "text/plain": [
       "  0%|          | 0/10000 [00:00<?, ?it/s]"
      ]
     },
     "metadata": {},
     "output_type": "display_data"
    },
    {
     "name": "stdout",
     "output_type": "stream",
     "text": [
      "\n",
      " Early Stopping / epoch: 49 loss: 0.0523\n",
      "-------------------------------------------------------------------------------------\n",
      "lr: 0.0001  patience: 20  num_layers: 4  batch_size: 64  hidden_size: 8  dropout: 0.25\n"
     ]
    },
    {
     "data": {
      "application/vnd.jupyter.widget-view+json": {
       "model_id": "cd676756b5914c12a9fdcf1e4495b453",
       "version_major": 2,
       "version_minor": 0
      },
      "text/plain": [
       "  0%|          | 0/10000 [00:00<?, ?it/s]"
      ]
     },
     "metadata": {},
     "output_type": "display_data"
    },
    {
     "name": "stdout",
     "output_type": "stream",
     "text": [
      "\n",
      " Early Stopping / epoch: 114 loss: 0.0498\n",
      "-------------------------------------------------------------------------------------\n",
      "lr: 0.0001  patience: 20  num_layers: 4  batch_size: 64  hidden_size: 16  dropout: 0.25\n"
     ]
    },
    {
     "data": {
      "application/vnd.jupyter.widget-view+json": {
       "model_id": "87ae25c876334477aff5fbe9867d6d4d",
       "version_major": 2,
       "version_minor": 0
      },
      "text/plain": [
       "  0%|          | 0/10000 [00:00<?, ?it/s]"
      ]
     },
     "metadata": {},
     "output_type": "display_data"
    },
    {
     "name": "stdout",
     "output_type": "stream",
     "text": [
      "\n",
      " Early Stopping / epoch: 80 loss: 0.0503\n",
      "-------------------------------------------------------------------------------------\n",
      "lr: 0.0001  patience: 20  num_layers: 4  batch_size: 64  hidden_size: 32  dropout: 0.25\n"
     ]
    },
    {
     "data": {
      "application/vnd.jupyter.widget-view+json": {
       "model_id": "69dea8aeddf643acad1f98656ae66e3e",
       "version_major": 2,
       "version_minor": 0
      },
      "text/plain": [
       "  0%|          | 0/10000 [00:00<?, ?it/s]"
      ]
     },
     "metadata": {},
     "output_type": "display_data"
    },
    {
     "name": "stdout",
     "output_type": "stream",
     "text": [
      "\n",
      " Early Stopping / epoch: 84 loss: 0.0503\n",
      "-------------------------------------------------------------------------------------\n",
      "lr: 0.0001  patience: 20  num_layers: 8  batch_size: 32  hidden_size: 8  dropout: 0.25\n"
     ]
    },
    {
     "data": {
      "application/vnd.jupyter.widget-view+json": {
       "model_id": "a262065287524a5e8e91a3a3a24f6950",
       "version_major": 2,
       "version_minor": 0
      },
      "text/plain": [
       "  0%|          | 0/10000 [00:00<?, ?it/s]"
      ]
     },
     "metadata": {},
     "output_type": "display_data"
    },
    {
     "name": "stdout",
     "output_type": "stream",
     "text": [
      "\n",
      " Early Stopping / epoch: 42 loss: 0.0520\n",
      "-------------------------------------------------------------------------------------\n",
      "lr: 0.0001  patience: 20  num_layers: 8  batch_size: 32  hidden_size: 16  dropout: 0.25\n"
     ]
    },
    {
     "data": {
      "application/vnd.jupyter.widget-view+json": {
       "model_id": "19f4c51e2846446cb934d3d9049056a6",
       "version_major": 2,
       "version_minor": 0
      },
      "text/plain": [
       "  0%|          | 0/10000 [00:00<?, ?it/s]"
      ]
     },
     "metadata": {},
     "output_type": "display_data"
    },
    {
     "name": "stdout",
     "output_type": "stream",
     "text": [
      "\n",
      " Early Stopping / epoch: 52 loss: 0.0523\n",
      "-------------------------------------------------------------------------------------\n",
      "lr: 0.0001  patience: 20  num_layers: 8  batch_size: 32  hidden_size: 32  dropout: 0.25\n"
     ]
    },
    {
     "data": {
      "application/vnd.jupyter.widget-view+json": {
       "model_id": "ebf0ec2961484b3ab519508ee4731136",
       "version_major": 2,
       "version_minor": 0
      },
      "text/plain": [
       "  0%|          | 0/10000 [00:00<?, ?it/s]"
      ]
     },
     "metadata": {},
     "output_type": "display_data"
    },
    {
     "name": "stdout",
     "output_type": "stream",
     "text": [
      "\n",
      " Early Stopping / epoch: 38 loss: 0.0522\n",
      "-------------------------------------------------------------------------------------\n",
      "lr: 0.0001  patience: 20  num_layers: 8  batch_size: 64  hidden_size: 8  dropout: 0.25\n"
     ]
    },
    {
     "data": {
      "application/vnd.jupyter.widget-view+json": {
       "model_id": "84c29033275848409c6f27a8af39a192",
       "version_major": 2,
       "version_minor": 0
      },
      "text/plain": [
       "  0%|          | 0/10000 [00:00<?, ?it/s]"
      ]
     },
     "metadata": {},
     "output_type": "display_data"
    },
    {
     "name": "stdout",
     "output_type": "stream",
     "text": [
      "\n",
      " Early Stopping / epoch: 74 loss: 0.0504\n",
      "-------------------------------------------------------------------------------------\n",
      "lr: 0.0001  patience: 20  num_layers: 8  batch_size: 64  hidden_size: 16  dropout: 0.25\n"
     ]
    },
    {
     "data": {
      "application/vnd.jupyter.widget-view+json": {
       "model_id": "b18dcaab71cb4adebe45396ea48b4e48",
       "version_major": 2,
       "version_minor": 0
      },
      "text/plain": [
       "  0%|          | 0/10000 [00:00<?, ?it/s]"
      ]
     },
     "metadata": {},
     "output_type": "display_data"
    },
    {
     "name": "stdout",
     "output_type": "stream",
     "text": [
      "\n",
      " Early Stopping / epoch: 65 loss: 0.0504\n",
      "-------------------------------------------------------------------------------------\n",
      "lr: 0.0001  patience: 20  num_layers: 8  batch_size: 64  hidden_size: 32  dropout: 0.25\n"
     ]
    },
    {
     "data": {
      "application/vnd.jupyter.widget-view+json": {
       "model_id": "fe1fa48743e34014a3f8d8ad0695d508",
       "version_major": 2,
       "version_minor": 0
      },
      "text/plain": [
       "  0%|          | 0/10000 [00:00<?, ?it/s]"
      ]
     },
     "metadata": {},
     "output_type": "display_data"
    },
    {
     "name": "stdout",
     "output_type": "stream",
     "text": [
      "\n",
      " Early Stopping / epoch: 53 loss: 0.0503\n",
      "-------------------------------------------------------------------------------------\n",
      "lr: 0.0001  patience: 50  num_layers: 1  batch_size: 32  hidden_size: 8  dropout: 0.25\n"
     ]
    },
    {
     "data": {
      "application/vnd.jupyter.widget-view+json": {
       "model_id": "bf452e2f559c45709a060970d814c526",
       "version_major": 2,
       "version_minor": 0
      },
      "text/plain": [
       "  0%|          | 0/10000 [00:00<?, ?it/s]"
      ]
     },
     "metadata": {},
     "output_type": "display_data"
    },
    {
     "name": "stdout",
     "output_type": "stream",
     "text": [
      "\n",
      " Early Stopping / epoch: 1474 loss: 0.0000\n",
      "-------------------------------------------------------------------------------------\n",
      "lr: 0.0001  patience: 50  num_layers: 1  batch_size: 32  hidden_size: 16  dropout: 0.25\n"
     ]
    },
    {
     "data": {
      "application/vnd.jupyter.widget-view+json": {
       "model_id": "cda5dbb9aec2402384471ed25db162f2",
       "version_major": 2,
       "version_minor": 0
      },
      "text/plain": [
       "  0%|          | 0/10000 [00:00<?, ?it/s]"
      ]
     },
     "metadata": {},
     "output_type": "display_data"
    },
    {
     "name": "stdout",
     "output_type": "stream",
     "text": [
      "\n",
      " Early Stopping / epoch: 2867 loss: 0.0000\n",
      "-------------------------------------------------------------------------------------\n",
      "lr: 0.0001  patience: 50  num_layers: 1  batch_size: 32  hidden_size: 32  dropout: 0.25\n"
     ]
    },
    {
     "data": {
      "application/vnd.jupyter.widget-view+json": {
       "model_id": "928d6bbad365416d97d35c58b32f4ced",
       "version_major": 2,
       "version_minor": 0
      },
      "text/plain": [
       "  0%|          | 0/10000 [00:00<?, ?it/s]"
      ]
     },
     "metadata": {},
     "output_type": "display_data"
    },
    {
     "name": "stdout",
     "output_type": "stream",
     "text": [
      "\n",
      " Early Stopping / epoch: 2635 loss: 0.0000\n",
      "-------------------------------------------------------------------------------------\n",
      "lr: 0.0001  patience: 50  num_layers: 1  batch_size: 64  hidden_size: 8  dropout: 0.25\n"
     ]
    },
    {
     "data": {
      "application/vnd.jupyter.widget-view+json": {
       "model_id": "cde6501a706943c7b187dbf7198789f5",
       "version_major": 2,
       "version_minor": 0
      },
      "text/plain": [
       "  0%|          | 0/10000 [00:00<?, ?it/s]"
      ]
     },
     "metadata": {},
     "output_type": "display_data"
    },
    {
     "name": "stdout",
     "output_type": "stream",
     "text": [
      "\n",
      " Early Stopping / epoch: 5194 loss: 0.0000\n",
      "-------------------------------------------------------------------------------------\n",
      "lr: 0.0001  patience: 50  num_layers: 1  batch_size: 64  hidden_size: 16  dropout: 0.25\n"
     ]
    },
    {
     "data": {
      "application/vnd.jupyter.widget-view+json": {
       "model_id": "e6cc47d8fe754390867613da8a2cea1d",
       "version_major": 2,
       "version_minor": 0
      },
      "text/plain": [
       "  0%|          | 0/10000 [00:00<?, ?it/s]"
      ]
     },
     "metadata": {},
     "output_type": "display_data"
    },
    {
     "name": "stdout",
     "output_type": "stream",
     "text": [
      "\n",
      " Early Stopping / epoch: 5678 loss: 0.0000\n",
      "-------------------------------------------------------------------------------------\n",
      "lr: 0.0001  patience: 50  num_layers: 1  batch_size: 64  hidden_size: 32  dropout: 0.25\n"
     ]
    },
    {
     "data": {
      "application/vnd.jupyter.widget-view+json": {
       "model_id": "7a654b9ee4104b39aacc331ad480b5b9",
       "version_major": 2,
       "version_minor": 0
      },
      "text/plain": [
       "  0%|          | 0/10000 [00:00<?, ?it/s]"
      ]
     },
     "metadata": {},
     "output_type": "display_data"
    },
    {
     "name": "stdout",
     "output_type": "stream",
     "text": [
      "\n",
      " Early Stopping / epoch: 3026 loss: 0.0000\n",
      "-------------------------------------------------------------------------------------\n",
      "lr: 0.0001  patience: 50  num_layers: 2  batch_size: 32  hidden_size: 8  dropout: 0.25\n"
     ]
    },
    {
     "data": {
      "application/vnd.jupyter.widget-view+json": {
       "model_id": "a4740897af3b43efa7020c488263fb8a",
       "version_major": 2,
       "version_minor": 0
      },
      "text/plain": [
       "  0%|          | 0/10000 [00:00<?, ?it/s]"
      ]
     },
     "metadata": {},
     "output_type": "display_data"
    },
    {
     "name": "stdout",
     "output_type": "stream",
     "text": [
      "\n",
      " Early Stopping / epoch: 273 loss: 0.0115\n",
      "-------------------------------------------------------------------------------------\n",
      "lr: 0.0001  patience: 50  num_layers: 2  batch_size: 32  hidden_size: 16  dropout: 0.25\n"
     ]
    },
    {
     "data": {
      "application/vnd.jupyter.widget-view+json": {
       "model_id": "551711ef7da7486289f93de90117e107",
       "version_major": 2,
       "version_minor": 0
      },
      "text/plain": [
       "  0%|          | 0/10000 [00:00<?, ?it/s]"
      ]
     },
     "metadata": {},
     "output_type": "display_data"
    },
    {
     "name": "stdout",
     "output_type": "stream",
     "text": [
      "\n",
      " Early Stopping / epoch: 824 loss: 0.0016\n",
      "-------------------------------------------------------------------------------------\n",
      "lr: 0.0001  patience: 50  num_layers: 2  batch_size: 32  hidden_size: 32  dropout: 0.25\n"
     ]
    },
    {
     "data": {
      "application/vnd.jupyter.widget-view+json": {
       "model_id": "b31cbaf508fc446fadb55ae26fa7ca68",
       "version_major": 2,
       "version_minor": 0
      },
      "text/plain": [
       "  0%|          | 0/10000 [00:00<?, ?it/s]"
      ]
     },
     "metadata": {},
     "output_type": "display_data"
    },
    {
     "name": "stdout",
     "output_type": "stream",
     "text": [
      "\n",
      " Early Stopping / epoch: 653 loss: 0.0012\n",
      "-------------------------------------------------------------------------------------\n",
      "lr: 0.0001  patience: 50  num_layers: 2  batch_size: 64  hidden_size: 8  dropout: 0.25\n"
     ]
    },
    {
     "data": {
      "application/vnd.jupyter.widget-view+json": {
       "model_id": "bad5e73ce6e14c09a310cba3a4361e91",
       "version_major": 2,
       "version_minor": 0
      },
      "text/plain": [
       "  0%|          | 0/10000 [00:00<?, ?it/s]"
      ]
     },
     "metadata": {},
     "output_type": "display_data"
    },
    {
     "name": "stdout",
     "output_type": "stream",
     "text": [
      "\n",
      " Early Stopping / epoch: 233 loss: 0.0110\n",
      "-------------------------------------------------------------------------------------\n",
      "lr: 0.0001  patience: 50  num_layers: 2  batch_size: 64  hidden_size: 16  dropout: 0.25\n"
     ]
    },
    {
     "data": {
      "application/vnd.jupyter.widget-view+json": {
       "model_id": "f808db5235754f7089c50593ee2aa9ac",
       "version_major": 2,
       "version_minor": 0
      },
      "text/plain": [
       "  0%|          | 0/10000 [00:00<?, ?it/s]"
      ]
     },
     "metadata": {},
     "output_type": "display_data"
    },
    {
     "name": "stdout",
     "output_type": "stream",
     "text": [
      "\n",
      " Early Stopping / epoch: 689 loss: 0.0029\n",
      "-------------------------------------------------------------------------------------\n",
      "lr: 0.0001  patience: 50  num_layers: 2  batch_size: 64  hidden_size: 32  dropout: 0.25\n"
     ]
    },
    {
     "data": {
      "application/vnd.jupyter.widget-view+json": {
       "model_id": "87c069da3b0d419c9c2e1db050382792",
       "version_major": 2,
       "version_minor": 0
      },
      "text/plain": [
       "  0%|          | 0/10000 [00:00<?, ?it/s]"
      ]
     },
     "metadata": {},
     "output_type": "display_data"
    },
    {
     "name": "stdout",
     "output_type": "stream",
     "text": [
      "\n",
      " Early Stopping / epoch: 940 loss: 0.0017\n",
      "-------------------------------------------------------------------------------------\n",
      "lr: 0.0001  patience: 50  num_layers: 4  batch_size: 32  hidden_size: 8  dropout: 0.25\n"
     ]
    },
    {
     "data": {
      "application/vnd.jupyter.widget-view+json": {
       "model_id": "fa23a1bbdef4471d94750beaae682614",
       "version_major": 2,
       "version_minor": 0
      },
      "text/plain": [
       "  0%|          | 0/10000 [00:00<?, ?it/s]"
      ]
     },
     "metadata": {},
     "output_type": "display_data"
    },
    {
     "name": "stdout",
     "output_type": "stream",
     "text": [
      "\n",
      " Early Stopping / epoch: 110 loss: 0.0522\n",
      "-------------------------------------------------------------------------------------\n",
      "lr: 0.0001  patience: 50  num_layers: 4  batch_size: 32  hidden_size: 16  dropout: 0.25\n"
     ]
    },
    {
     "data": {
      "application/vnd.jupyter.widget-view+json": {
       "model_id": "0f7049e6753e4f42b96e3b11d5498aee",
       "version_major": 2,
       "version_minor": 0
      },
      "text/plain": [
       "  0%|          | 0/10000 [00:00<?, ?it/s]"
      ]
     },
     "metadata": {},
     "output_type": "display_data"
    },
    {
     "name": "stdout",
     "output_type": "stream",
     "text": [
      "\n",
      " Early Stopping / epoch: 565 loss: 0.0090\n",
      "-------------------------------------------------------------------------------------\n",
      "lr: 0.0001  patience: 50  num_layers: 4  batch_size: 32  hidden_size: 32  dropout: 0.25\n"
     ]
    },
    {
     "data": {
      "application/vnd.jupyter.widget-view+json": {
       "model_id": "058625e5e99a4beca1596bc1ab1d82c9",
       "version_major": 2,
       "version_minor": 0
      },
      "text/plain": [
       "  0%|          | 0/10000 [00:00<?, ?it/s]"
      ]
     },
     "metadata": {},
     "output_type": "display_data"
    },
    {
     "name": "stdout",
     "output_type": "stream",
     "text": [
      "\n",
      " Early Stopping / epoch: 78 loss: 0.0519\n",
      "-------------------------------------------------------------------------------------\n",
      "lr: 0.0001  patience: 50  num_layers: 4  batch_size: 64  hidden_size: 8  dropout: 0.25\n"
     ]
    },
    {
     "data": {
      "application/vnd.jupyter.widget-view+json": {
       "model_id": "77c3e2c98f6a45e0a238ddd0751ea7d9",
       "version_major": 2,
       "version_minor": 0
      },
      "text/plain": [
       "  0%|          | 0/10000 [00:00<?, ?it/s]"
      ]
     },
     "metadata": {},
     "output_type": "display_data"
    },
    {
     "name": "stdout",
     "output_type": "stream",
     "text": [
      "\n",
      " Early Stopping / epoch: 196 loss: 0.0503\n",
      "-------------------------------------------------------------------------------------\n",
      "lr: 0.0001  patience: 50  num_layers: 4  batch_size: 64  hidden_size: 16  dropout: 0.25\n"
     ]
    },
    {
     "data": {
      "application/vnd.jupyter.widget-view+json": {
       "model_id": "8bfb0ac1fe04485f9e97f73240b77325",
       "version_major": 2,
       "version_minor": 0
      },
      "text/plain": [
       "  0%|          | 0/10000 [00:00<?, ?it/s]"
      ]
     },
     "metadata": {},
     "output_type": "display_data"
    },
    {
     "name": "stdout",
     "output_type": "stream",
     "text": [
      "\n",
      " Early Stopping / epoch: 456 loss: 0.0113\n",
      "-------------------------------------------------------------------------------------\n",
      "lr: 0.0001  patience: 50  num_layers: 4  batch_size: 64  hidden_size: 32  dropout: 0.25\n"
     ]
    },
    {
     "data": {
      "application/vnd.jupyter.widget-view+json": {
       "model_id": "23de384921874104bc2af3c0ef8694c5",
       "version_major": 2,
       "version_minor": 0
      },
      "text/plain": [
       "  0%|          | 0/10000 [00:00<?, ?it/s]"
      ]
     },
     "metadata": {},
     "output_type": "display_data"
    },
    {
     "name": "stdout",
     "output_type": "stream",
     "text": [
      "\n",
      " Early Stopping / epoch: 251 loss: 0.0113\n",
      "-------------------------------------------------------------------------------------\n",
      "lr: 0.0001  patience: 50  num_layers: 8  batch_size: 32  hidden_size: 8  dropout: 0.25\n"
     ]
    },
    {
     "data": {
      "application/vnd.jupyter.widget-view+json": {
       "model_id": "4c3f49b9baf74d788e900bb633fc92b9",
       "version_major": 2,
       "version_minor": 0
      },
      "text/plain": [
       "  0%|          | 0/10000 [00:00<?, ?it/s]"
      ]
     },
     "metadata": {},
     "output_type": "display_data"
    },
    {
     "name": "stdout",
     "output_type": "stream",
     "text": [
      "\n",
      " Early Stopping / epoch: 90 loss: 0.0522\n",
      "-------------------------------------------------------------------------------------\n",
      "lr: 0.0001  patience: 50  num_layers: 8  batch_size: 32  hidden_size: 16  dropout: 0.25\n"
     ]
    },
    {
     "data": {
      "application/vnd.jupyter.widget-view+json": {
       "model_id": "f8f42b70ce574e43a808e011908cc561",
       "version_major": 2,
       "version_minor": 0
      },
      "text/plain": [
       "  0%|          | 0/10000 [00:00<?, ?it/s]"
      ]
     },
     "metadata": {},
     "output_type": "display_data"
    },
    {
     "name": "stdout",
     "output_type": "stream",
     "text": [
      "\n",
      " Early Stopping / epoch: 125 loss: 0.0524\n",
      "-------------------------------------------------------------------------------------\n",
      "lr: 0.0001  patience: 50  num_layers: 8  batch_size: 32  hidden_size: 32  dropout: 0.25\n"
     ]
    },
    {
     "data": {
      "application/vnd.jupyter.widget-view+json": {
       "model_id": "891c82fa07354c5c8ae0a6e371dab65f",
       "version_major": 2,
       "version_minor": 0
      },
      "text/plain": [
       "  0%|          | 0/10000 [00:00<?, ?it/s]"
      ]
     },
     "metadata": {},
     "output_type": "display_data"
    },
    {
     "name": "stdout",
     "output_type": "stream",
     "text": [
      "\n",
      " Early Stopping / epoch: 69 loss: 0.0523\n",
      "-------------------------------------------------------------------------------------\n",
      "lr: 0.0001  patience: 50  num_layers: 8  batch_size: 64  hidden_size: 8  dropout: 0.25\n"
     ]
    },
    {
     "data": {
      "application/vnd.jupyter.widget-view+json": {
       "model_id": "ca6752a2e21445689023ffa4ab47f8a6",
       "version_major": 2,
       "version_minor": 0
      },
      "text/plain": [
       "  0%|          | 0/10000 [00:00<?, ?it/s]"
      ]
     },
     "metadata": {},
     "output_type": "display_data"
    },
    {
     "name": "stdout",
     "output_type": "stream",
     "text": [
      "\n",
      " Early Stopping / epoch: 134 loss: 0.0504\n",
      "-------------------------------------------------------------------------------------\n",
      "lr: 0.0001  patience: 50  num_layers: 8  batch_size: 64  hidden_size: 16  dropout: 0.25\n"
     ]
    },
    {
     "data": {
      "application/vnd.jupyter.widget-view+json": {
       "model_id": "1b0fb9e518c440cc8daa7bdbcdeb64fb",
       "version_major": 2,
       "version_minor": 0
      },
      "text/plain": [
       "  0%|          | 0/10000 [00:00<?, ?it/s]"
      ]
     },
     "metadata": {},
     "output_type": "display_data"
    },
    {
     "name": "stdout",
     "output_type": "stream",
     "text": [
      "\n",
      " Early Stopping / epoch: 94 loss: 0.0503\n",
      "-------------------------------------------------------------------------------------\n",
      "lr: 0.0001  patience: 50  num_layers: 8  batch_size: 64  hidden_size: 32  dropout: 0.25\n"
     ]
    },
    {
     "data": {
      "application/vnd.jupyter.widget-view+json": {
       "model_id": "58f6c892631e41cdaa74af44dd8722e4",
       "version_major": 2,
       "version_minor": 0
      },
      "text/plain": [
       "  0%|          | 0/10000 [00:00<?, ?it/s]"
      ]
     },
     "metadata": {},
     "output_type": "display_data"
    },
    {
     "name": "stdout",
     "output_type": "stream",
     "text": [
      "\n",
      " Early Stopping / epoch: 72 loss: 0.0504\n",
      "-------------------------------------------------------------------------------------\n",
      "lr: 1e-05  patience: 20  num_layers: 1  batch_size: 32  hidden_size: 8  dropout: 0.25\n"
     ]
    },
    {
     "data": {
      "application/vnd.jupyter.widget-view+json": {
       "model_id": "3033dafcf25a4eae9d580c872db49f78",
       "version_major": 2,
       "version_minor": 0
      },
      "text/plain": [
       "  0%|          | 0/10000 [00:00<?, ?it/s]"
      ]
     },
     "metadata": {},
     "output_type": "display_data"
    },
    {
     "name": "stdout",
     "output_type": "stream",
     "text": [
      "\n",
      " Early Stopping / epoch: 8245 loss: 0.0000\n",
      "-------------------------------------------------------------------------------------\n",
      "lr: 1e-05  patience: 20  num_layers: 1  batch_size: 32  hidden_size: 16  dropout: 0.25\n"
     ]
    },
    {
     "data": {
      "application/vnd.jupyter.widget-view+json": {
       "model_id": "e97316cb8e95463893444d25f75a1552",
       "version_major": 2,
       "version_minor": 0
      },
      "text/plain": [
       "  0%|          | 0/10000 [00:00<?, ?it/s]"
      ]
     },
     "metadata": {},
     "output_type": "display_data"
    },
    {
     "name": "stdout",
     "output_type": "stream",
     "text": [
      "\n",
      " Early Stopping / epoch: 7417 loss: 0.0000\n",
      "-------------------------------------------------------------------------------------\n",
      "lr: 1e-05  patience: 20  num_layers: 1  batch_size: 32  hidden_size: 32  dropout: 0.25\n"
     ]
    },
    {
     "data": {
      "application/vnd.jupyter.widget-view+json": {
       "model_id": "52d8c12094fd464fb0a7d0249f4df213",
       "version_major": 2,
       "version_minor": 0
      },
      "text/plain": [
       "  0%|          | 0/10000 [00:00<?, ?it/s]"
      ]
     },
     "metadata": {},
     "output_type": "display_data"
    },
    {
     "name": "stdout",
     "output_type": "stream",
     "text": [
      "\n",
      " Early Stopping / epoch: 7111 loss: 0.0000\n",
      "-------------------------------------------------------------------------------------\n",
      "lr: 1e-05  patience: 20  num_layers: 1  batch_size: 64  hidden_size: 8  dropout: 0.25\n"
     ]
    },
    {
     "data": {
      "application/vnd.jupyter.widget-view+json": {
       "model_id": "a02a31d121484525b2aeee21d5a1f3c1",
       "version_major": 2,
       "version_minor": 0
      },
      "text/plain": [
       "  0%|          | 0/10000 [00:00<?, ?it/s]"
      ]
     },
     "metadata": {},
     "output_type": "display_data"
    },
    {
     "name": "stdout",
     "output_type": "stream",
     "text": [
      "-------------------------------------------------------------------------------------\n",
      "lr: 1e-05  patience: 20  num_layers: 1  batch_size: 64  hidden_size: 16  dropout: 0.25\n"
     ]
    },
    {
     "data": {
      "application/vnd.jupyter.widget-view+json": {
       "model_id": "dfb1a93e21ae4d1d99b45d89d2875a2d",
       "version_major": 2,
       "version_minor": 0
      },
      "text/plain": [
       "  0%|          | 0/10000 [00:00<?, ?it/s]"
      ]
     },
     "metadata": {},
     "output_type": "display_data"
    },
    {
     "name": "stdout",
     "output_type": "stream",
     "text": [
      "-------------------------------------------------------------------------------------\n",
      "lr: 1e-05  patience: 20  num_layers: 1  batch_size: 64  hidden_size: 32  dropout: 0.25\n"
     ]
    },
    {
     "data": {
      "application/vnd.jupyter.widget-view+json": {
       "model_id": "3c4a1720c5b64ad891158982e098b25f",
       "version_major": 2,
       "version_minor": 0
      },
      "text/plain": [
       "  0%|          | 0/10000 [00:00<?, ?it/s]"
      ]
     },
     "metadata": {},
     "output_type": "display_data"
    },
    {
     "name": "stdout",
     "output_type": "stream",
     "text": [
      "-------------------------------------------------------------------------------------\n",
      "lr: 1e-05  patience: 20  num_layers: 2  batch_size: 32  hidden_size: 8  dropout: 0.25\n"
     ]
    },
    {
     "data": {
      "application/vnd.jupyter.widget-view+json": {
       "model_id": "2239226d90a7493a997eec93c2e7128f",
       "version_major": 2,
       "version_minor": 0
      },
      "text/plain": [
       "  0%|          | 0/10000 [00:00<?, ?it/s]"
      ]
     },
     "metadata": {},
     "output_type": "display_data"
    },
    {
     "name": "stdout",
     "output_type": "stream",
     "text": [
      "\n",
      " Early Stopping / epoch: 1087 loss: 0.0177\n",
      "-------------------------------------------------------------------------------------\n",
      "lr: 1e-05  patience: 20  num_layers: 2  batch_size: 32  hidden_size: 16  dropout: 0.25\n"
     ]
    },
    {
     "data": {
      "application/vnd.jupyter.widget-view+json": {
       "model_id": "46895fd735b74944afeac5ec99078238",
       "version_major": 2,
       "version_minor": 0
      },
      "text/plain": [
       "  0%|          | 0/10000 [00:00<?, ?it/s]"
      ]
     },
     "metadata": {},
     "output_type": "display_data"
    },
    {
     "name": "stdout",
     "output_type": "stream",
     "text": [
      "\n",
      " Early Stopping / epoch: 1229 loss: 0.0159\n",
      "-------------------------------------------------------------------------------------\n",
      "lr: 1e-05  patience: 20  num_layers: 2  batch_size: 32  hidden_size: 32  dropout: 0.25\n"
     ]
    },
    {
     "data": {
      "application/vnd.jupyter.widget-view+json": {
       "model_id": "9fc39ed9ce7645f2a1a534dcd1f8c128",
       "version_major": 2,
       "version_minor": 0
      },
      "text/plain": [
       "  0%|          | 0/10000 [00:00<?, ?it/s]"
      ]
     },
     "metadata": {},
     "output_type": "display_data"
    },
    {
     "name": "stdout",
     "output_type": "stream",
     "text": [
      "\n",
      " Early Stopping / epoch: 595 loss: 0.0429\n",
      "-------------------------------------------------------------------------------------\n",
      "lr: 1e-05  patience: 20  num_layers: 2  batch_size: 64  hidden_size: 8  dropout: 0.25\n"
     ]
    },
    {
     "data": {
      "application/vnd.jupyter.widget-view+json": {
       "model_id": "9bb87ed9c8634cbeab52f24849dd5264",
       "version_major": 2,
       "version_minor": 0
      },
      "text/plain": [
       "  0%|          | 0/10000 [00:00<?, ?it/s]"
      ]
     },
     "metadata": {},
     "output_type": "display_data"
    },
    {
     "name": "stdout",
     "output_type": "stream",
     "text": [
      "\n",
      " Early Stopping / epoch: 393 loss: 0.0473\n",
      "-------------------------------------------------------------------------------------\n",
      "lr: 1e-05  patience: 20  num_layers: 2  batch_size: 64  hidden_size: 16  dropout: 0.25\n"
     ]
    },
    {
     "data": {
      "application/vnd.jupyter.widget-view+json": {
       "model_id": "316910ca5dd347f49a4f2cd45469da25",
       "version_major": 2,
       "version_minor": 0
      },
      "text/plain": [
       "  0%|          | 0/10000 [00:00<?, ?it/s]"
      ]
     },
     "metadata": {},
     "output_type": "display_data"
    },
    {
     "name": "stdout",
     "output_type": "stream",
     "text": [
      "\n",
      " Early Stopping / epoch: 1036 loss: 0.0127\n",
      "-------------------------------------------------------------------------------------\n",
      "lr: 1e-05  patience: 20  num_layers: 2  batch_size: 64  hidden_size: 32  dropout: 0.25\n"
     ]
    },
    {
     "data": {
      "application/vnd.jupyter.widget-view+json": {
       "model_id": "6081eabeb2a84009b8c0fb4d3334065b",
       "version_major": 2,
       "version_minor": 0
      },
      "text/plain": [
       "  0%|          | 0/10000 [00:00<?, ?it/s]"
      ]
     },
     "metadata": {},
     "output_type": "display_data"
    },
    {
     "name": "stdout",
     "output_type": "stream",
     "text": [
      "\n",
      " Early Stopping / epoch: 1088 loss: 0.0135\n",
      "-------------------------------------------------------------------------------------\n",
      "lr: 1e-05  patience: 20  num_layers: 4  batch_size: 32  hidden_size: 8  dropout: 0.25\n"
     ]
    },
    {
     "data": {
      "application/vnd.jupyter.widget-view+json": {
       "model_id": "0f42da9a737b4b8d86de98c3501cd01c",
       "version_major": 2,
       "version_minor": 0
      },
      "text/plain": [
       "  0%|          | 0/10000 [00:00<?, ?it/s]"
      ]
     },
     "metadata": {},
     "output_type": "display_data"
    },
    {
     "name": "stdout",
     "output_type": "stream",
     "text": [
      "\n",
      " Early Stopping / epoch: 491 loss: 0.0522\n",
      "-------------------------------------------------------------------------------------\n",
      "lr: 1e-05  patience: 20  num_layers: 4  batch_size: 32  hidden_size: 16  dropout: 0.25\n"
     ]
    },
    {
     "data": {
      "application/vnd.jupyter.widget-view+json": {
       "model_id": "0b8f2960d2b948b3aedd756a20b87692",
       "version_major": 2,
       "version_minor": 0
      },
      "text/plain": [
       "  0%|          | 0/10000 [00:00<?, ?it/s]"
      ]
     },
     "metadata": {},
     "output_type": "display_data"
    },
    {
     "name": "stdout",
     "output_type": "stream",
     "text": [
      "\n",
      " Early Stopping / epoch: 344 loss: 0.0522\n",
      "-------------------------------------------------------------------------------------\n",
      "lr: 1e-05  patience: 20  num_layers: 4  batch_size: 32  hidden_size: 32  dropout: 0.25\n"
     ]
    },
    {
     "data": {
      "application/vnd.jupyter.widget-view+json": {
       "model_id": "45b38638b00c4a5fa6905488d42b3341",
       "version_major": 2,
       "version_minor": 0
      },
      "text/plain": [
       "  0%|          | 0/10000 [00:00<?, ?it/s]"
      ]
     },
     "metadata": {},
     "output_type": "display_data"
    },
    {
     "name": "stdout",
     "output_type": "stream",
     "text": [
      "\n",
      " Early Stopping / epoch: 287 loss: 0.0522\n",
      "-------------------------------------------------------------------------------------\n",
      "lr: 1e-05  patience: 20  num_layers: 4  batch_size: 64  hidden_size: 8  dropout: 0.25\n"
     ]
    },
    {
     "data": {
      "application/vnd.jupyter.widget-view+json": {
       "model_id": "64a90510185549888919d8d578ab5ce4",
       "version_major": 2,
       "version_minor": 0
      },
      "text/plain": [
       "  0%|          | 0/10000 [00:00<?, ?it/s]"
      ]
     },
     "metadata": {},
     "output_type": "display_data"
    },
    {
     "name": "stdout",
     "output_type": "stream",
     "text": [
      "\n",
      " Early Stopping / epoch: 436 loss: 0.0502\n",
      "-------------------------------------------------------------------------------------\n",
      "lr: 1e-05  patience: 20  num_layers: 4  batch_size: 64  hidden_size: 16  dropout: 0.25\n"
     ]
    },
    {
     "data": {
      "application/vnd.jupyter.widget-view+json": {
       "model_id": "c5da02dbf484472a92d0960490bc41c6",
       "version_major": 2,
       "version_minor": 0
      },
      "text/plain": [
       "  0%|          | 0/10000 [00:00<?, ?it/s]"
      ]
     },
     "metadata": {},
     "output_type": "display_data"
    },
    {
     "name": "stdout",
     "output_type": "stream",
     "text": [
      "\n",
      " Early Stopping / epoch: 356 loss: 0.0503\n",
      "-------------------------------------------------------------------------------------\n",
      "lr: 1e-05  patience: 20  num_layers: 4  batch_size: 64  hidden_size: 32  dropout: 0.25\n"
     ]
    },
    {
     "data": {
      "application/vnd.jupyter.widget-view+json": {
       "model_id": "5e216b125cc94095aa46c2b466b89386",
       "version_major": 2,
       "version_minor": 0
      },
      "text/plain": [
       "  0%|          | 0/10000 [00:00<?, ?it/s]"
      ]
     },
     "metadata": {},
     "output_type": "display_data"
    },
    {
     "name": "stdout",
     "output_type": "stream",
     "text": [
      "\n",
      " Early Stopping / epoch: 208 loss: 0.0503\n",
      "-------------------------------------------------------------------------------------\n",
      "lr: 1e-05  patience: 20  num_layers: 8  batch_size: 32  hidden_size: 8  dropout: 0.25\n"
     ]
    },
    {
     "data": {
      "application/vnd.jupyter.widget-view+json": {
       "model_id": "1970e46bbfe948b2b637a475e6bbc76e",
       "version_major": 2,
       "version_minor": 0
      },
      "text/plain": [
       "  0%|          | 0/10000 [00:00<?, ?it/s]"
      ]
     },
     "metadata": {},
     "output_type": "display_data"
    },
    {
     "name": "stdout",
     "output_type": "stream",
     "text": [
      "\n",
      " Early Stopping / epoch: 373 loss: 0.0523\n",
      "-------------------------------------------------------------------------------------\n",
      "lr: 1e-05  patience: 20  num_layers: 8  batch_size: 32  hidden_size: 16  dropout: 0.25\n"
     ]
    },
    {
     "data": {
      "application/vnd.jupyter.widget-view+json": {
       "model_id": "aec913af14ee42bbb14d073813f8a983",
       "version_major": 2,
       "version_minor": 0
      },
      "text/plain": [
       "  0%|          | 0/10000 [00:00<?, ?it/s]"
      ]
     },
     "metadata": {},
     "output_type": "display_data"
    },
    {
     "name": "stdout",
     "output_type": "stream",
     "text": [
      "\n",
      " Early Stopping / epoch: 320 loss: 0.0521\n",
      "-------------------------------------------------------------------------------------\n",
      "lr: 1e-05  patience: 20  num_layers: 8  batch_size: 32  hidden_size: 32  dropout: 0.25\n"
     ]
    },
    {
     "data": {
      "application/vnd.jupyter.widget-view+json": {
       "model_id": "41cdd2f59f5842a3964396bf7e7d187b",
       "version_major": 2,
       "version_minor": 0
      },
      "text/plain": [
       "  0%|          | 0/10000 [00:00<?, ?it/s]"
      ]
     },
     "metadata": {},
     "output_type": "display_data"
    },
    {
     "name": "stdout",
     "output_type": "stream",
     "text": [
      "\n",
      " Early Stopping / epoch: 425 loss: 0.0521\n",
      "-------------------------------------------------------------------------------------\n",
      "lr: 1e-05  patience: 20  num_layers: 8  batch_size: 64  hidden_size: 8  dropout: 0.25\n"
     ]
    },
    {
     "data": {
      "application/vnd.jupyter.widget-view+json": {
       "model_id": "2398f701c471480c9949dc95f2c57d77",
       "version_major": 2,
       "version_minor": 0
      },
      "text/plain": [
       "  0%|          | 0/10000 [00:00<?, ?it/s]"
      ]
     },
     "metadata": {},
     "output_type": "display_data"
    },
    {
     "name": "stdout",
     "output_type": "stream",
     "text": [
      "\n",
      " Early Stopping / epoch: 335 loss: 0.0505\n",
      "-------------------------------------------------------------------------------------\n",
      "lr: 1e-05  patience: 20  num_layers: 8  batch_size: 64  hidden_size: 16  dropout: 0.25\n"
     ]
    },
    {
     "data": {
      "application/vnd.jupyter.widget-view+json": {
       "model_id": "f20ef61936124168bd51ab9ea3a55759",
       "version_major": 2,
       "version_minor": 0
      },
      "text/plain": [
       "  0%|          | 0/10000 [00:00<?, ?it/s]"
      ]
     },
     "metadata": {},
     "output_type": "display_data"
    },
    {
     "name": "stdout",
     "output_type": "stream",
     "text": [
      "\n",
      " Early Stopping / epoch: 326 loss: 0.0504\n",
      "-------------------------------------------------------------------------------------\n",
      "lr: 1e-05  patience: 20  num_layers: 8  batch_size: 64  hidden_size: 32  dropout: 0.25\n"
     ]
    },
    {
     "data": {
      "application/vnd.jupyter.widget-view+json": {
       "model_id": "1e1d103cc971425f8d056c10940197f8",
       "version_major": 2,
       "version_minor": 0
      },
      "text/plain": [
       "  0%|          | 0/10000 [00:00<?, ?it/s]"
      ]
     },
     "metadata": {},
     "output_type": "display_data"
    },
    {
     "name": "stdout",
     "output_type": "stream",
     "text": [
      "\n",
      " Early Stopping / epoch: 301 loss: 0.0504\n",
      "-------------------------------------------------------------------------------------\n",
      "lr: 1e-05  patience: 50  num_layers: 1  batch_size: 32  hidden_size: 8  dropout: 0.25\n"
     ]
    },
    {
     "data": {
      "application/vnd.jupyter.widget-view+json": {
       "model_id": "48220063a56d4ad5b6325e6b09765630",
       "version_major": 2,
       "version_minor": 0
      },
      "text/plain": [
       "  0%|          | 0/10000 [00:00<?, ?it/s]"
      ]
     },
     "metadata": {},
     "output_type": "display_data"
    },
    {
     "name": "stdout",
     "output_type": "stream",
     "text": [
      "-------------------------------------------------------------------------------------\n",
      "lr: 1e-05  patience: 50  num_layers: 1  batch_size: 32  hidden_size: 16  dropout: 0.25\n"
     ]
    },
    {
     "data": {
      "application/vnd.jupyter.widget-view+json": {
       "model_id": "ba1613da370d4bef8107c9a2af096434",
       "version_major": 2,
       "version_minor": 0
      },
      "text/plain": [
       "  0%|          | 0/10000 [00:00<?, ?it/s]"
      ]
     },
     "metadata": {},
     "output_type": "display_data"
    },
    {
     "name": "stdout",
     "output_type": "stream",
     "text": [
      "-------------------------------------------------------------------------------------\n",
      "lr: 1e-05  patience: 50  num_layers: 1  batch_size: 32  hidden_size: 32  dropout: 0.25\n"
     ]
    },
    {
     "data": {
      "application/vnd.jupyter.widget-view+json": {
       "model_id": "18bbcc28481c4caea3129ecbf7625476",
       "version_major": 2,
       "version_minor": 0
      },
      "text/plain": [
       "  0%|          | 0/10000 [00:00<?, ?it/s]"
      ]
     },
     "metadata": {},
     "output_type": "display_data"
    },
    {
     "name": "stdout",
     "output_type": "stream",
     "text": [
      "\n",
      " Early Stopping / epoch: 9024 loss: 0.0000\n",
      "-------------------------------------------------------------------------------------\n",
      "lr: 1e-05  patience: 50  num_layers: 1  batch_size: 64  hidden_size: 8  dropout: 0.25\n"
     ]
    },
    {
     "data": {
      "application/vnd.jupyter.widget-view+json": {
       "model_id": "2e62bf85bbb04707adef551afb575fa1",
       "version_major": 2,
       "version_minor": 0
      },
      "text/plain": [
       "  0%|          | 0/10000 [00:00<?, ?it/s]"
      ]
     },
     "metadata": {},
     "output_type": "display_data"
    },
    {
     "name": "stdout",
     "output_type": "stream",
     "text": [
      "-------------------------------------------------------------------------------------\n",
      "lr: 1e-05  patience: 50  num_layers: 1  batch_size: 64  hidden_size: 16  dropout: 0.25\n"
     ]
    },
    {
     "data": {
      "application/vnd.jupyter.widget-view+json": {
       "model_id": "7fb967a253224b3aad647f5aa965e83d",
       "version_major": 2,
       "version_minor": 0
      },
      "text/plain": [
       "  0%|          | 0/10000 [00:00<?, ?it/s]"
      ]
     },
     "metadata": {},
     "output_type": "display_data"
    },
    {
     "name": "stdout",
     "output_type": "stream",
     "text": [
      "-------------------------------------------------------------------------------------\n",
      "lr: 1e-05  patience: 50  num_layers: 1  batch_size: 64  hidden_size: 32  dropout: 0.25\n"
     ]
    },
    {
     "data": {
      "application/vnd.jupyter.widget-view+json": {
       "model_id": "72e0a68af2cb489dbfe2e74f7d8fd764",
       "version_major": 2,
       "version_minor": 0
      },
      "text/plain": [
       "  0%|          | 0/10000 [00:00<?, ?it/s]"
      ]
     },
     "metadata": {},
     "output_type": "display_data"
    },
    {
     "name": "stdout",
     "output_type": "stream",
     "text": [
      "-------------------------------------------------------------------------------------\n",
      "lr: 1e-05  patience: 50  num_layers: 2  batch_size: 32  hidden_size: 8  dropout: 0.25\n"
     ]
    },
    {
     "data": {
      "application/vnd.jupyter.widget-view+json": {
       "model_id": "f9e95380691c4b82ab880fbc10640262",
       "version_major": 2,
       "version_minor": 0
      },
      "text/plain": [
       "  0%|          | 0/10000 [00:00<?, ?it/s]"
      ]
     },
     "metadata": {},
     "output_type": "display_data"
    },
    {
     "name": "stdout",
     "output_type": "stream",
     "text": [
      "\n",
      " Early Stopping / epoch: 2273 loss: 0.0170\n",
      "-------------------------------------------------------------------------------------\n",
      "lr: 1e-05  patience: 50  num_layers: 2  batch_size: 32  hidden_size: 16  dropout: 0.25\n"
     ]
    },
    {
     "data": {
      "application/vnd.jupyter.widget-view+json": {
       "model_id": "818a02ad945a45ae970e2c061551b925",
       "version_major": 2,
       "version_minor": 0
      },
      "text/plain": [
       "  0%|          | 0/10000 [00:00<?, ?it/s]"
      ]
     },
     "metadata": {},
     "output_type": "display_data"
    },
    {
     "name": "stdout",
     "output_type": "stream",
     "text": [
      "\n",
      " Early Stopping / epoch: 1431 loss: 0.0140\n",
      "-------------------------------------------------------------------------------------\n",
      "lr: 1e-05  patience: 50  num_layers: 2  batch_size: 32  hidden_size: 32  dropout: 0.25\n"
     ]
    },
    {
     "data": {
      "application/vnd.jupyter.widget-view+json": {
       "model_id": "25b8355ef0164eaaaf4d7490f230630d",
       "version_major": 2,
       "version_minor": 0
      },
      "text/plain": [
       "  0%|          | 0/10000 [00:00<?, ?it/s]"
      ]
     },
     "metadata": {},
     "output_type": "display_data"
    },
    {
     "name": "stdout",
     "output_type": "stream",
     "text": [
      "\n",
      " Early Stopping / epoch: 1182 loss: 0.0116\n",
      "-------------------------------------------------------------------------------------\n",
      "lr: 1e-05  patience: 50  num_layers: 2  batch_size: 64  hidden_size: 8  dropout: 0.25\n"
     ]
    },
    {
     "data": {
      "application/vnd.jupyter.widget-view+json": {
       "model_id": "7e7e77c051184d2584d9112de25cf436",
       "version_major": 2,
       "version_minor": 0
      },
      "text/plain": [
       "  0%|          | 0/10000 [00:00<?, ?it/s]"
      ]
     },
     "metadata": {},
     "output_type": "display_data"
    },
    {
     "name": "stdout",
     "output_type": "stream",
     "text": [
      "\n",
      " Early Stopping / epoch: 2114 loss: 0.0111\n",
      "-------------------------------------------------------------------------------------\n",
      "lr: 1e-05  patience: 50  num_layers: 2  batch_size: 64  hidden_size: 16  dropout: 0.25\n"
     ]
    },
    {
     "data": {
      "application/vnd.jupyter.widget-view+json": {
       "model_id": "dd919a59839a4383909267e6c24613f8",
       "version_major": 2,
       "version_minor": 0
      },
      "text/plain": [
       "  0%|          | 0/10000 [00:00<?, ?it/s]"
      ]
     },
     "metadata": {},
     "output_type": "display_data"
    },
    {
     "name": "stdout",
     "output_type": "stream",
     "text": [
      "\n",
      " Early Stopping / epoch: 1453 loss: 0.0114\n",
      "-------------------------------------------------------------------------------------\n",
      "lr: 1e-05  patience: 50  num_layers: 2  batch_size: 64  hidden_size: 32  dropout: 0.25\n"
     ]
    },
    {
     "data": {
      "application/vnd.jupyter.widget-view+json": {
       "model_id": "485ed3ad0cf94a04b85f235a75e5ad4e",
       "version_major": 2,
       "version_minor": 0
      },
      "text/plain": [
       "  0%|          | 0/10000 [00:00<?, ?it/s]"
      ]
     },
     "metadata": {},
     "output_type": "display_data"
    },
    {
     "name": "stdout",
     "output_type": "stream",
     "text": [
      "\n",
      " Early Stopping / epoch: 1118 loss: 0.0113\n",
      "-------------------------------------------------------------------------------------\n",
      "lr: 1e-05  patience: 50  num_layers: 4  batch_size: 32  hidden_size: 8  dropout: 0.25\n"
     ]
    },
    {
     "data": {
      "application/vnd.jupyter.widget-view+json": {
       "model_id": "7f96f333b076410ab51d301c020a1ca0",
       "version_major": 2,
       "version_minor": 0
      },
      "text/plain": [
       "  0%|          | 0/10000 [00:00<?, ?it/s]"
      ]
     },
     "metadata": {},
     "output_type": "display_data"
    },
    {
     "name": "stdout",
     "output_type": "stream",
     "text": [
      "\n",
      " Early Stopping / epoch: 470 loss: 0.0523\n",
      "-------------------------------------------------------------------------------------\n",
      "lr: 1e-05  patience: 50  num_layers: 4  batch_size: 32  hidden_size: 16  dropout: 0.25\n"
     ]
    },
    {
     "data": {
      "application/vnd.jupyter.widget-view+json": {
       "model_id": "485d9b2acf00477784f63205732818c4",
       "version_major": 2,
       "version_minor": 0
      },
      "text/plain": [
       "  0%|          | 0/10000 [00:00<?, ?it/s]"
      ]
     },
     "metadata": {},
     "output_type": "display_data"
    },
    {
     "name": "stdout",
     "output_type": "stream",
     "text": [
      "\n",
      " Early Stopping / epoch: 516 loss: 0.0519\n",
      "-------------------------------------------------------------------------------------\n",
      "lr: 1e-05  patience: 50  num_layers: 4  batch_size: 32  hidden_size: 32  dropout: 0.25\n"
     ]
    },
    {
     "data": {
      "application/vnd.jupyter.widget-view+json": {
       "model_id": "379a9f1256d848f590d875055bc8d1fe",
       "version_major": 2,
       "version_minor": 0
      },
      "text/plain": [
       "  0%|          | 0/10000 [00:00<?, ?it/s]"
      ]
     },
     "metadata": {},
     "output_type": "display_data"
    },
    {
     "name": "stdout",
     "output_type": "stream",
     "text": [
      "\n",
      " Early Stopping / epoch: 214 loss: 0.0520\n",
      "-------------------------------------------------------------------------------------\n",
      "lr: 1e-05  patience: 50  num_layers: 4  batch_size: 64  hidden_size: 8  dropout: 0.25\n"
     ]
    },
    {
     "data": {
      "application/vnd.jupyter.widget-view+json": {
       "model_id": "413f495cbd6f4c9cbae29a39ac1c332a",
       "version_major": 2,
       "version_minor": 0
      },
      "text/plain": [
       "  0%|          | 0/10000 [00:00<?, ?it/s]"
      ]
     },
     "metadata": {},
     "output_type": "display_data"
    },
    {
     "name": "stdout",
     "output_type": "stream",
     "text": [
      "\n",
      " Early Stopping / epoch: 574 loss: 0.0503\n",
      "-------------------------------------------------------------------------------------\n",
      "lr: 1e-05  patience: 50  num_layers: 4  batch_size: 64  hidden_size: 16  dropout: 0.25\n"
     ]
    },
    {
     "data": {
      "application/vnd.jupyter.widget-view+json": {
       "model_id": "f3d6466870334357abb7b52fb4d896bc",
       "version_major": 2,
       "version_minor": 0
      },
      "text/plain": [
       "  0%|          | 0/10000 [00:00<?, ?it/s]"
      ]
     },
     "metadata": {},
     "output_type": "display_data"
    },
    {
     "name": "stdout",
     "output_type": "stream",
     "text": [
      "\n",
      " Early Stopping / epoch: 645 loss: 0.0500\n",
      "-------------------------------------------------------------------------------------\n",
      "lr: 1e-05  patience: 50  num_layers: 4  batch_size: 64  hidden_size: 32  dropout: 0.25\n"
     ]
    },
    {
     "data": {
      "application/vnd.jupyter.widget-view+json": {
       "model_id": "9aff2c5746fa461cbdec5601cb1bcdc4",
       "version_major": 2,
       "version_minor": 0
      },
      "text/plain": [
       "  0%|          | 0/10000 [00:00<?, ?it/s]"
      ]
     },
     "metadata": {},
     "output_type": "display_data"
    },
    {
     "name": "stdout",
     "output_type": "stream",
     "text": [
      "\n",
      " Early Stopping / epoch: 531 loss: 0.0501\n",
      "-------------------------------------------------------------------------------------\n",
      "lr: 1e-05  patience: 50  num_layers: 8  batch_size: 32  hidden_size: 8  dropout: 0.25\n"
     ]
    },
    {
     "data": {
      "application/vnd.jupyter.widget-view+json": {
       "model_id": "6155801524f044ed949f087e942bd7e1",
       "version_major": 2,
       "version_minor": 0
      },
      "text/plain": [
       "  0%|          | 0/10000 [00:00<?, ?it/s]"
      ]
     },
     "metadata": {},
     "output_type": "display_data"
    },
    {
     "name": "stdout",
     "output_type": "stream",
     "text": [
      "\n",
      " Early Stopping / epoch: 508 loss: 0.0522\n",
      "-------------------------------------------------------------------------------------\n",
      "lr: 1e-05  patience: 50  num_layers: 8  batch_size: 32  hidden_size: 16  dropout: 0.25\n"
     ]
    },
    {
     "data": {
      "application/vnd.jupyter.widget-view+json": {
       "model_id": "3c49fec5a31149faa3547a212102e575",
       "version_major": 2,
       "version_minor": 0
      },
      "text/plain": [
       "  0%|          | 0/10000 [00:00<?, ?it/s]"
      ]
     },
     "metadata": {},
     "output_type": "display_data"
    },
    {
     "name": "stdout",
     "output_type": "stream",
     "text": [
      "\n",
      " Early Stopping / epoch: 433 loss: 0.0522\n",
      "-------------------------------------------------------------------------------------\n",
      "lr: 1e-05  patience: 50  num_layers: 8  batch_size: 32  hidden_size: 32  dropout: 0.25\n"
     ]
    },
    {
     "data": {
      "application/vnd.jupyter.widget-view+json": {
       "model_id": "e398bc0cdc6a43aba0e5a8c6cf1648a8",
       "version_major": 2,
       "version_minor": 0
      },
      "text/plain": [
       "  0%|          | 0/10000 [00:00<?, ?it/s]"
      ]
     },
     "metadata": {},
     "output_type": "display_data"
    },
    {
     "name": "stdout",
     "output_type": "stream",
     "text": [
      "\n",
      " Early Stopping / epoch: 349 loss: 0.0523\n",
      "-------------------------------------------------------------------------------------\n",
      "lr: 1e-05  patience: 50  num_layers: 8  batch_size: 64  hidden_size: 8  dropout: 0.25\n"
     ]
    },
    {
     "data": {
      "application/vnd.jupyter.widget-view+json": {
       "model_id": "63ffed98da8a42c6a62ad7a807670a6c",
       "version_major": 2,
       "version_minor": 0
      },
      "text/plain": [
       "  0%|          | 0/10000 [00:00<?, ?it/s]"
      ]
     },
     "metadata": {},
     "output_type": "display_data"
    },
    {
     "name": "stdout",
     "output_type": "stream",
     "text": [
      "\n",
      " Early Stopping / epoch: 560 loss: 0.0503\n",
      "-------------------------------------------------------------------------------------\n",
      "lr: 1e-05  patience: 50  num_layers: 8  batch_size: 64  hidden_size: 16  dropout: 0.25\n"
     ]
    },
    {
     "data": {
      "application/vnd.jupyter.widget-view+json": {
       "model_id": "fa28dced09214b4f8010eb09fde29921",
       "version_major": 2,
       "version_minor": 0
      },
      "text/plain": [
       "  0%|          | 0/10000 [00:00<?, ?it/s]"
      ]
     },
     "metadata": {},
     "output_type": "display_data"
    },
    {
     "name": "stdout",
     "output_type": "stream",
     "text": [
      "\n",
      " Early Stopping / epoch: 397 loss: 0.0504\n",
      "-------------------------------------------------------------------------------------\n",
      "lr: 1e-05  patience: 50  num_layers: 8  batch_size: 64  hidden_size: 32  dropout: 0.25\n"
     ]
    },
    {
     "data": {
      "application/vnd.jupyter.widget-view+json": {
       "model_id": "0d94888e6f07422f9782838f0893c150",
       "version_major": 2,
       "version_minor": 0
      },
      "text/plain": [
       "  0%|          | 0/10000 [00:00<?, ?it/s]"
      ]
     },
     "metadata": {},
     "output_type": "display_data"
    },
    {
     "name": "stdout",
     "output_type": "stream",
     "text": [
      "\n",
      " Early Stopping / epoch: 385 loss: 0.0504\n"
     ]
    }
   ],
   "source": [
    "criterion = nn.MSELoss()\n",
    "\n",
    "input_size = 3\n",
    "sequence_length = 60\n",
    "num_epochs = 10000\n",
    "\n",
    "df = Prepare_df.processing(data, 'stdDay', 'delta_variants')\n",
    "\n",
    "x = df.iloc[:, 0:]\n",
    "y = df.iloc[:,:1]\n",
    "\n",
    "ms = MinMaxScaler()\n",
    "ss = StandardScaler()\n",
    "\n",
    "ss.fit(x)\n",
    "ms.fit(y)\n",
    "\n",
    "rmse_min = np.inf\n",
    "best_model = {}\n",
    "\n",
    "for hyperparameter in tqdm(hyperparameter_dict.values(), desc = '대구_LSTM', position = 0):\n",
    "    lr = hyperparameter[0]\n",
    "    patience = hyperparameter[1]\n",
    "    num_layers = hyperparameter[2]\n",
    "    batch_size = hyperparameter[3]\n",
    "    hidden_size = hyperparameter[4]\n",
    "    dropout = hyperparameter[5]\n",
    "    print('-------------------------------------------------------------------------------------')\n",
    "    print('lr:', lr, ' patience:', patience, ' num_layers:', num_layers, \n",
    "          ' batch_size:', batch_size, ' hidden_size:', hidden_size, ' dropout:', dropout)\n",
    "    \n",
    "    x, y, x_ss, y_ms, train_loader, test_loader = Prepare_df.split_data(df, 59, 60, 1, batch_size, 'mto')\n",
    "    \n",
    "\n",
    "    model = LSTM(input_size = input_size,\n",
    "                 hidden_size = hidden_size,\n",
    "                 sequence_length = sequence_length,\n",
    "                 num_layers = num_layers, \n",
    "                 dropout = dropout, \n",
    "                 device = device).to(device)\n",
    "\n",
    "    optimizer = Adam(model.parameters(), lr = lr)\n",
    "    \n",
    "    loss_list, model, epoch = Trainer.Many_to_One(train_loader, \n",
    "                                                  test_loader, \n",
    "                                                  model, \n",
    "                                                  criterion, \n",
    "                                                  optimizer, \n",
    "                                                  num_epochs, \n",
    "                                                  patience,\n",
    "                                                  device)\n",
    "    \n",
    "    label_y, predicted = predict_mto(model, df, x_ss, y_ms)\n",
    "    \n",
    "    if rmse_min > rmse(label_y[-7:], predicted[-7:]):\n",
    "        rmse_min = rmse(label_y[-7:], predicted[-7:])\n",
    "        best_model['LSTM'] = [rmse_min, model, loss_list, epoch, lr, patience, \n",
    "                             num_layers, batch_size, hidden_size, dropout]"
   ]
  },
  {
   "cell_type": "code",
   "execution_count": 5,
   "id": "636422f2",
   "metadata": {
    "ExecuteTime": {
     "end_time": "2023-06-06T08:56:21.364970Z",
     "start_time": "2023-06-06T08:56:21.337047Z"
    }
   },
   "outputs": [
    {
     "data": {
      "text/plain": [
       "{'LSTM': [4.48447516459073,\n",
       "  LSTM(\n",
       "    (lstm): LSTM(3, 8, batch_first=True, dropout=0.25)\n",
       "    (fc1): Linear(in_features=480, out_features=128, bias=True)\n",
       "    (fc2): Linear(in_features=128, out_features=64, bias=True)\n",
       "    (fc3): Linear(in_features=64, out_features=1, bias=True)\n",
       "    (relu): ReLU()\n",
       "  ),\n",
       "  [0.07824939663987607,\n",
       "   0.07534005388151854,\n",
       "   0.07252827007323503,\n",
       "   0.06983145233243704,\n",
       "   0.0672775860875845,\n",
       "   0.06480821897275746,\n",
       "   0.06244338024407625,\n",
       "   0.06024776236154139,\n",
       "   0.05823315563611686,\n",
       "   0.056329355807974935,\n",
       "   0.05447331955656409,\n",
       "   0.05266533466055989,\n",
       "   0.05092691909521818,\n",
       "   0.04926445707678795,\n",
       "   0.04774361290037632,\n",
       "   0.04645397653803229,\n",
       "   0.045314806047827005,\n",
       "   0.04427708312869072,\n",
       "   0.043317765928804874,\n",
       "   0.042426601983606815,\n",
       "   0.04157843813300133,\n",
       "   0.04076310992240906,\n",
       "   0.03997509926557541,\n",
       "   0.03922736644744873,\n",
       "   0.038530876860022545,\n",
       "   0.037850772961974144,\n",
       "   0.03717052564024925,\n",
       "   0.03649864625185728,\n",
       "   0.035829225555062294,\n",
       "   0.03515507094562054,\n",
       "   0.03449396602809429,\n",
       "   0.03385247103869915,\n",
       "   0.033214216120541096,\n",
       "   0.03257288411259651,\n",
       "   0.03193032741546631,\n",
       "   0.03128955978900194,\n",
       "   0.03065039962530136,\n",
       "   0.030008163768798113,\n",
       "   0.029372788965702057,\n",
       "   0.02874296298250556,\n",
       "   0.02811218425631523,\n",
       "   0.027481770142912865,\n",
       "   0.02683580433949828,\n",
       "   0.026189546566456556,\n",
       "   0.02554471604526043,\n",
       "   0.024912547320127487,\n",
       "   0.0242792759090662,\n",
       "   0.0236580241471529,\n",
       "   0.023047472815960646,\n",
       "   0.022441876586526632,\n",
       "   0.021858038380742073,\n",
       "   0.02128943894058466,\n",
       "   0.02072986727580428,\n",
       "   0.02018105238676071,\n",
       "   0.019645357970148325,\n",
       "   0.019125627353787422,\n",
       "   0.018615123350173235,\n",
       "   0.01811644691042602,\n",
       "   0.01763082528486848,\n",
       "   0.01715819677338004,\n",
       "   0.016703208908438683,\n",
       "   0.016262002289295197,\n",
       "   0.015833762241527438,\n",
       "   0.015420459443703294,\n",
       "   0.015024799155071378,\n",
       "   0.014647341100499034,\n",
       "   0.014284057542681694,\n",
       "   0.013936268398538232,\n",
       "   0.013604000210762024,\n",
       "   0.01328784110955894,\n",
       "   0.012985181645490229,\n",
       "   0.01269669586326927,\n",
       "   0.012420523911714554,\n",
       "   0.012158160097897053,\n",
       "   0.011910299072042108,\n",
       "   0.011678885319270194,\n",
       "   0.011461337329819798,\n",
       "   0.011256576515734196,\n",
       "   0.01106094231363386,\n",
       "   0.01087759097572416,\n",
       "   0.010706831002607942,\n",
       "   0.010545454453676939,\n",
       "   0.010396029334515333,\n",
       "   0.010254534252453595,\n",
       "   0.010122437262907624,\n",
       "   0.00999694416532293,\n",
       "   0.00987802044255659,\n",
       "   0.009765627328306437,\n",
       "   0.009661809192039073,\n",
       "   0.009564823471009731,\n",
       "   0.00947552069555968,\n",
       "   0.009386878926306963,\n",
       "   0.00930194219108671,\n",
       "   0.009222559747286141,\n",
       "   0.009146473370492458,\n",
       "   0.009072528744582087,\n",
       "   0.009000197052955627,\n",
       "   0.008928932773415,\n",
       "   0.00886230543255806,\n",
       "   0.008796909300144762,\n",
       "   0.00873087119543925,\n",
       "   0.008658041944727302,\n",
       "   0.008590618846938014,\n",
       "   0.008525611599907279,\n",
       "   0.008462338359095156,\n",
       "   0.00839968177024275,\n",
       "   0.00833493989193812,\n",
       "   0.008274286228697747,\n",
       "   0.008212903281673789,\n",
       "   0.008153329428751022,\n",
       "   0.008093474199995399,\n",
       "   0.00803183572134003,\n",
       "   0.00797118991613388,\n",
       "   0.007911071821581572,\n",
       "   0.00785142439417541,\n",
       "   0.007791609736159444,\n",
       "   0.007731804100330919,\n",
       "   0.007672352134250104,\n",
       "   0.007612903427798301,\n",
       "   0.007553181843832135,\n",
       "   0.0074924693326465786,\n",
       "   0.007433602644596249,\n",
       "   0.0073739439831115305,\n",
       "   0.007313474314287305,\n",
       "   0.007255240343511105,\n",
       "   0.007195990008767694,\n",
       "   0.00713689683470875,\n",
       "   0.007077167043462396,\n",
       "   0.007019221025984734,\n",
       "   0.006960873957723379,\n",
       "   0.006901457149069756,\n",
       "   0.006842450937256217,\n",
       "   0.006785181467421353,\n",
       "   0.006726769672241062,\n",
       "   0.006669238908216357,\n",
       "   0.0066117895185016096,\n",
       "   0.006553788087330759,\n",
       "   0.006496021989732981,\n",
       "   0.006440332625061274,\n",
       "   0.006383061641827226,\n",
       "   0.006326253584120423,\n",
       "   0.006270367419347167,\n",
       "   0.006213585729710758,\n",
       "   0.006157927971798927,\n",
       "   0.006101283535826951,\n",
       "   0.00604515930172056,\n",
       "   0.0059898425242863595,\n",
       "   0.005935212364420295,\n",
       "   0.005879669508431107,\n",
       "   0.005824898660648614,\n",
       "   0.005769656854681671,\n",
       "   0.005715641716960818,\n",
       "   0.005661928444169462,\n",
       "   0.005607858300209045,\n",
       "   0.005554518254939467,\n",
       "   0.005500833154655993,\n",
       "   0.005447780597023666,\n",
       "   0.0053957547643221915,\n",
       "   0.00534216349478811,\n",
       "   0.005290204077027738,\n",
       "   0.005238948273472488,\n",
       "   0.0051862942054867744,\n",
       "   0.005134619539603591,\n",
       "   0.005083803785964847,\n",
       "   0.005033783381804824,\n",
       "   0.004982934944564477,\n",
       "   0.004932687035761774,\n",
       "   0.004882502136752009,\n",
       "   0.004833300947211683,\n",
       "   0.004783645563293248,\n",
       "   0.004736301023513079,\n",
       "   0.004688254382926971,\n",
       "   0.004640567407477647,\n",
       "   0.004592768760630861,\n",
       "   0.004545479227090254,\n",
       "   0.004497857473324984,\n",
       "   0.004451202577911317,\n",
       "   0.004405522195156664,\n",
       "   0.0043602369842119515,\n",
       "   0.004313917219405994,\n",
       "   0.00426906204666011,\n",
       "   0.004224575648549944,\n",
       "   0.004180479096248746,\n",
       "   0.004136689676670358,\n",
       "   0.004092689312528819,\n",
       "   0.004049221926834434,\n",
       "   0.004006380651844665,\n",
       "   0.003963146824389696,\n",
       "   0.003922031755791977,\n",
       "   0.0038805667136330158,\n",
       "   0.0038393698050640523,\n",
       "   0.003797610814217478,\n",
       "   0.003757936501642689,\n",
       "   0.003717811167007312,\n",
       "   0.0036786201817449182,\n",
       "   0.003639299509814009,\n",
       "   0.003600051044486463,\n",
       "   0.003563229984138161,\n",
       "   0.003524616709910333,\n",
       "   0.0034875106357503682,\n",
       "   0.0034506322990637273,\n",
       "   0.003414386766962707,\n",
       "   0.0033777655917219818,\n",
       "   0.003342765470733866,\n",
       "   0.003306865692138672,\n",
       "   0.0032719610608182847,\n",
       "   0.0032376243616454303,\n",
       "   0.0032033562019933015,\n",
       "   0.003170173498801887,\n",
       "   0.003137419029371813,\n",
       "   0.003103992930846289,\n",
       "   0.003070176928304136,\n",
       "   0.003037570306332782,\n",
       "   0.0030047437467146665,\n",
       "   0.0029722079052589834,\n",
       "   0.0029394065495580435,\n",
       "   0.0029073282203171402,\n",
       "   0.002876539045246318,\n",
       "   0.002845108654582873,\n",
       "   0.0028143262898083776,\n",
       "   0.0027847677702084184,\n",
       "   0.0027556780842132866,\n",
       "   0.0027260533533990383,\n",
       "   0.0026965311844833195,\n",
       "   0.0026680706650950015,\n",
       "   0.002641164406668395,\n",
       "   0.0026138564571738243,\n",
       "   0.0025861454487312585,\n",
       "   0.002559745917096734,\n",
       "   0.002534024359192699,\n",
       "   0.002508191391825676,\n",
       "   0.0024826450389809906,\n",
       "   0.0024576958967372775,\n",
       "   0.0024327593855559826,\n",
       "   0.00240937463240698,\n",
       "   0.0023857838823460042,\n",
       "   0.0023615776444785297,\n",
       "   0.002338116697501391,\n",
       "   0.0023166597238741815,\n",
       "   0.002294585225172341,\n",
       "   0.0022723055444657803,\n",
       "   0.002251054043881595,\n",
       "   0.0022300361306406558,\n",
       "   0.002209171245340258,\n",
       "   0.002188703540014103,\n",
       "   0.0021689817658625543,\n",
       "   0.0021498522837646306,\n",
       "   0.0021306088310666382,\n",
       "   0.0021106331259943545,\n",
       "   0.002091694565024227,\n",
       "   0.0020721154869534075,\n",
       "   0.0020516823860816658,\n",
       "   0.0020329575054347515,\n",
       "   0.00201523958821781,\n",
       "   0.001997156592551619,\n",
       "   0.0019797635031864047,\n",
       "   0.0019623939879238605,\n",
       "   0.001945533585967496,\n",
       "   0.0019290015916340053,\n",
       "   0.0019122566445730627,\n",
       "   0.001895402790978551,\n",
       "   0.0018789878231473267,\n",
       "   0.0018625815282575786,\n",
       "   0.0018475391552783549,\n",
       "   0.0018313338805455714,\n",
       "   0.001815162890125066,\n",
       "   0.0018000228446908295,\n",
       "   0.0017853153694886714,\n",
       "   0.0017698542214930058,\n",
       "   0.001755296892952174,\n",
       "   0.0017405662219971418,\n",
       "   0.0017261481552850455,\n",
       "   0.001711824384983629,\n",
       "   0.0016971087898127735,\n",
       "   0.0016835140413604677,\n",
       "   0.0016715427045710385,\n",
       "   0.0016565194237045944,\n",
       "   0.0016436493024230003,\n",
       "   0.0016303175943903625,\n",
       "   0.00161702572950162,\n",
       "   0.001604129240149632,\n",
       "   0.0015910184883978218,\n",
       "   0.001578181516379118,\n",
       "   0.0015650875284336507,\n",
       "   0.001554499554913491,\n",
       "   0.0015422895085066557,\n",
       "   0.0015297595236916095,\n",
       "   0.0015162233612500131,\n",
       "   0.0015053320094011724,\n",
       "   0.0014936700463294983,\n",
       "   0.0014809158747084439,\n",
       "   0.0014692971599288285,\n",
       "   0.0014580724819097668,\n",
       "   0.001446325855795294,\n",
       "   0.001434978301404044,\n",
       "   0.0014251154498197138,\n",
       "   0.0014139350678306073,\n",
       "   0.001403131493134424,\n",
       "   0.001393185870256275,\n",
       "   0.001381607144139707,\n",
       "   0.0013717571564484388,\n",
       "   0.0013613533519674093,\n",
       "   0.0013526251423172653,\n",
       "   0.001340567454462871,\n",
       "   0.0013315838004928082,\n",
       "   0.001321739109698683,\n",
       "   0.0013114853063598275,\n",
       "   0.0013021179765928537,\n",
       "   0.0012937718711327761,\n",
       "   0.001284293713979423,\n",
       "   0.0012765981955453753,\n",
       "   0.0012643102672882378,\n",
       "   0.0012575694709084928,\n",
       "   0.001247736974619329,\n",
       "   0.0012414265656843781,\n",
       "   0.0012293144827708602,\n",
       "   0.0012217388721182942,\n",
       "   0.001213166571687907,\n",
       "   0.0012040965375490487,\n",
       "   0.0011954782239627093,\n",
       "   0.0011889166489709169,\n",
       "   0.0011798221385106444,\n",
       "   0.0011715686414390802,\n",
       "   0.0011651022650767118,\n",
       "   0.00115634361281991,\n",
       "   0.0011488802847452462,\n",
       "   0.0011430036975070834,\n",
       "   0.00113164191134274,\n",
       "   0.0011254904966335744,\n",
       "   0.0011172168306075037,\n",
       "   0.0011090979096479714,\n",
       "   0.0011016494245268404,\n",
       "   0.001094760635169223,\n",
       "   0.0010897348402068019,\n",
       "   0.0010822936310432851,\n",
       "   0.001075614447472617,\n",
       "   0.001066360651748255,\n",
       "   0.0010609485034365207,\n",
       "   0.0010541325027588755,\n",
       "   0.0010461319470778108,\n",
       "   0.0010398141748737544,\n",
       "   0.0010328988428227603,\n",
       "   0.0010260033304803073,\n",
       "   0.0010196521179750562,\n",
       "   0.0010131454328075051,\n",
       "   0.0010065759997814894,\n",
       "   0.0010020641493611038,\n",
       "   0.0009952425607480109,\n",
       "   0.0009898660646285862,\n",
       "   0.0009820981067605317,\n",
       "   0.0009765216673258692,\n",
       "   0.0009696455090306699,\n",
       "   0.000964949547778815,\n",
       "   0.0009579829929862171,\n",
       "   0.0009525104542262852,\n",
       "   0.0009461677691433579,\n",
       "   0.0009397400135640055,\n",
       "   0.0009339470707345754,\n",
       "   0.0009280740632675588,\n",
       "   0.0009228599374182522,\n",
       "   0.0009167310199700296,\n",
       "   0.0009116184082813561,\n",
       "   0.0009062168537639081,\n",
       "   0.0009013627714011818,\n",
       "   0.0008953753858804703,\n",
       "   0.0008901160035748035,\n",
       "   0.000883721251739189,\n",
       "   0.0008782650111243129,\n",
       "   0.0008731128764338791,\n",
       "   0.0008687660738360137,\n",
       "   0.0008636824204586446,\n",
       "   0.0008571337384637445,\n",
       "   0.0008533967193216085,\n",
       "   0.0008472224872093648,\n",
       "   0.000842157838633284,\n",
       "   0.0008371534931939095,\n",
       "   0.0008326366951223463,\n",
       "   0.000828724674647674,\n",
       "   0.0008231139800045639,\n",
       "   0.0008185576880350709,\n",
       "   0.0008129789493978024,\n",
       "   0.0008086419256869704,\n",
       "   0.0008032788173295557,\n",
       "   0.000800068024545908,\n",
       "   0.0007959591457620263,\n",
       "   0.0007918353658169508,\n",
       "   0.0007855497533455491,\n",
       "   0.0007833670533727854,\n",
       "   0.000777745561208576,\n",
       "   0.0007722802401985973,\n",
       "   0.0007683329458814114,\n",
       "   0.0007648570463061333,\n",
       "   0.000760697788791731,\n",
       "   0.0007544455584138632,\n",
       "   0.0007537113269791007,\n",
       "   0.0007469449192285538,\n",
       "   0.0007426803058478981,\n",
       "   0.0007385244534816593,\n",
       "   0.0007342720637097955,\n",
       "   0.000730108207790181,\n",
       "   0.0007263563165906817,\n",
       "   0.000722227938240394,\n",
       "   0.0007182646077126265,\n",
       "   0.0007141836977098137,\n",
       "   0.0007101299124769866,\n",
       "   0.000708504841895774,\n",
       "   0.000703309808159247,\n",
       "   0.0007011417183093727,\n",
       "   0.0006967313238419592,\n",
       "   0.0006924329500179738,\n",
       "   0.0006900550797581673,\n",
       "   0.0006844079180154949,\n",
       "   0.0006808532343711704,\n",
       "   0.0006762871926184744,\n",
       "   0.0006742472760379314,\n",
       "   0.0006710148009005934,\n",
       "   0.0006664977699983865,\n",
       "   0.0006632085714954883,\n",
       "   0.000659589160932228,\n",
       "   0.0006563283386640251,\n",
       "   0.0006524705095216632,\n",
       "   0.0006489188526757061,\n",
       "   0.0006455733382608742,\n",
       "   0.0006420749996323138,\n",
       "   0.0006397437246050686,\n",
       "   0.0006370389019139111,\n",
       "   0.0006330837204586715,\n",
       "   0.0006304223206825554,\n",
       "   0.0006268839642871171,\n",
       "   0.0006235907494556159,\n",
       "   0.0006199343770276755,\n",
       "   0.0006171528366394341,\n",
       "   0.0006136927404440939,\n",
       "   0.0006104155036155134,\n",
       "   0.0006075887940824032,\n",
       "   0.0006044081237632781,\n",
       "   0.0006018690182827413,\n",
       "   0.0005980587739031762,\n",
       "   0.0005952605861239135,\n",
       "   0.0005932817293796688,\n",
       "   0.0005897361843381077,\n",
       "   0.0005877860530745238,\n",
       "   0.0005848947330377996,\n",
       "   0.0005815907788928598,\n",
       "   0.0005792592419311404,\n",
       "   0.0005761994398199022,\n",
       "   0.0005731068958994001,\n",
       "   0.0005715583683922887,\n",
       "   0.0005677083681803197,\n",
       "   0.0005650213861372322,\n",
       "   0.0005625190970022231,\n",
       "   0.0005595258553512394,\n",
       "   0.0005564050225075334,\n",
       "   0.0005556959367822856,\n",
       "   0.0005515130760613829,\n",
       "   0.0005487546150106937,\n",
       "   0.0005461836699396372,\n",
       "   0.000543872156413272,\n",
       "   0.0005419007793534547,\n",
       "   0.000539778673555702,\n",
       "   0.0005361224175430834,\n",
       "   0.0005342083459254354,\n",
       "   0.0005326834798324853,\n",
       "   0.0005289243417792022,\n",
       "   0.0005294462898746133,\n",
       "   0.000524984032381326,\n",
       "   0.000523391121532768,\n",
       "   0.0005200107989367098,\n",
       "   0.0005180546140763909,\n",
       "   0.0005161024892004207,\n",
       "   0.0005131525831529871,\n",
       "   0.0005107218457851559,\n",
       "   0.0005085008888272569,\n",
       "   0.0005061315023340285,\n",
       "   0.0005052638880442828,\n",
       "   0.000501843896927312,\n",
       "   0.000499460962601006,\n",
       "   0.0004987787106074393,\n",
       "   0.0004963873652741313,\n",
       "   0.0004929913120577112,\n",
       "   0.0004924900131300092,\n",
       "   0.0004905948735540733,\n",
       "   0.00048768713895697147,\n",
       "   0.0004858245520154014,\n",
       "   0.00048356705519836396,\n",
       "   0.00048090226482599974,\n",
       "   0.000479761918541044,\n",
       "   0.0004773570690304041,\n",
       "   0.0004750886291731149,\n",
       "   0.000472698564408347,\n",
       "   0.00047086986887734383,\n",
       "   0.00046888538054190576,\n",
       "   0.00046648918942082673,\n",
       "   0.0004647251917049289,\n",
       "   0.0004629906179616228,\n",
       "   0.000460857612779364,\n",
       "   0.0004590329772327095,\n",
       "   0.0004569867014652118,\n",
       "   0.00045604785555042326,\n",
       "   0.0004528845602180809,\n",
       "   0.00045180798042565584,\n",
       "   0.00044953206088393927,\n",
       "   0.00044642019202001393,\n",
       "   0.0004449106636457145,\n",
       "   0.00044311639794614166,\n",
       "   0.0004400844336487353,\n",
       "   0.0004384880157886073,\n",
       "   0.00043656787602230906,\n",
       "   0.0004332814132794738,\n",
       "   0.0004320969892432913,\n",
       "   0.00043043091136496514,\n",
       "   0.00042737912735901773,\n",
       "   0.00042582550668157637,\n",
       "   0.0004240881826262921,\n",
       "   0.0004214027721900493,\n",
       "   0.00042049009061884135,\n",
       "   0.00041824761137831956,\n",
       "   0.00041509789298288524,\n",
       "   0.0004143415571888909,\n",
       "   0.0004123980615986511,\n",
       "   0.00040991767309606075,\n",
       "   0.00040719528624322265,\n",
       "   0.0004060279024997726,\n",
       "   0.0004042132059112191,\n",
       "   0.0004021141357952729,\n",
       "   0.00039989563811104745,\n",
       "   0.000397985553718172,\n",
       "   0.0003968620585510507,\n",
       "   0.0003945400385418907,\n",
       "   0.00039181475585792214,\n",
       "   0.0003905412304447964,\n",
       "   0.0003889439831255004,\n",
       "   0.0003868369967676699,\n",
       "   0.0003846610925393179,\n",
       "   0.0003834147210000083,\n",
       "   0.00038121978286653757,\n",
       "   0.00038023605884518474,\n",
       "   0.0003779818507609889,\n",
       "   0.0003761882253456861,\n",
       "   0.0003743047418538481,\n",
       "   0.00037283946585375816,\n",
       "   0.0003707937430590391,\n",
       "   0.00036919354170095176,\n",
       "   0.00036770064616575837,\n",
       "   0.00036627928784582764,\n",
       "   0.00036380585515871644,\n",
       "   0.0003623665397753939,\n",
       "   0.00036070252826903015,\n",
       "   0.00035946253046859056,\n",
       "   0.00035769783426076174,\n",
       "   0.0003563442878657952,\n",
       "   0.0003542311824276112,\n",
       "   0.00035301874595461413,\n",
       "   0.00035183385625714436,\n",
       "   0.00034954067814396694,\n",
       "   0.00034871486423071474,\n",
       "   0.00034669004526222125,\n",
       "   0.0003454013276495971,\n",
       "   0.0003442129382165149,\n",
       "   0.0003426078546908684,\n",
       "   0.0003427306219236925,\n",
       "   0.0003410794379306026,\n",
       "   0.0003385462041478604,\n",
       "   0.0003386736279935576,\n",
       "   0.00033671622804831713,\n",
       "   0.0003352733256178908,\n",
       "   0.0003327626909594983,\n",
       "   0.00033364980481565,\n",
       "   0.00033064180752262473,\n",
       "   0.00033014071959769353,\n",
       "   0.0003271463792771101,\n",
       "   0.0003271144669270143,\n",
       "   0.00032519565866095945,\n",
       "   0.00032461330556543544,\n",
       "   0.0003223475214326754,\n",
       "   0.0003211881485185586,\n",
       "   0.00032011007715482265,\n",
       "   0.00031953870347933844,\n",
       "   0.00031783172744326293,\n",
       "   0.0003160158230457455,\n",
       "   0.0003159086045343429,\n",
       "   0.00031458980083698407,\n",
       "   0.00031377526465803385,\n",
       "   0.000311230804072693,\n",
       "   0.000310440402245149,\n",
       "   0.00030895478994352743,\n",
       "   0.00030756566411582753,\n",
       "   0.0003063980329898186,\n",
       "   0.00030491978395730257,\n",
       "   0.00030398899980355054,\n",
       "   0.00030276818870333955,\n",
       "   0.00030201183835742995,\n",
       "   0.00030035436066100374,\n",
       "   0.000299382176308427,\n",
       "   0.00029844198434147984,\n",
       "   0.0002969462366309017,\n",
       "   0.00029616083338623866,\n",
       "   0.0002948075780295767,\n",
       "   0.0002940234189736657,\n",
       "   0.0002931791605078615,\n",
       "   0.00029205624014139175,\n",
       "   0.00029032997554168105,\n",
       "   0.00029027504206169397,\n",
       "   0.00028959086921531707,\n",
       "   0.0002884644127334468,\n",
       "   0.0002875526770367287,\n",
       "   0.0002860228414647281,\n",
       "   0.00028481733897933736,\n",
       "   0.00028360353462630883,\n",
       "   0.00028266970912227407,\n",
       "   0.00028170384030090645,\n",
       "   0.0002809175130096264,\n",
       "   0.0002798197965603322,\n",
       "   0.00027865020820172504,\n",
       "   0.0002779859278234653,\n",
       "   0.0002772861407720484,\n",
       "   0.0002758807095233351,\n",
       "   0.00027472640795167536,\n",
       "   0.00027411799237597734,\n",
       "   0.0002729482439463027,\n",
       "   0.00027224527002545074,\n",
       "   0.00027092037635156885,\n",
       "   0.000270062722847797,\n",
       "   0.0002691264671739191,\n",
       "   0.00026822862128028646,\n",
       "   0.0002674165880307555,\n",
       "   0.0002665032880031504,\n",
       "   0.00026536545919952914,\n",
       "   0.0002645713320816867,\n",
       "   0.00026373893342679366,\n",
       "   0.00026278563746018335,\n",
       "   0.0002618375438032672,\n",
       "   0.00026121301925741136,\n",
       "   0.00026054382760776207,\n",
       "   0.0002594092002254911,\n",
       "   0.0002588188217487186,\n",
       "   0.0002571943223301787,\n",
       "   0.00025674927383079194,\n",
       "   0.0002568554336903617,\n",
       "   0.0002553108934080228,\n",
       "   0.0002544585586292669,\n",
       "   0.0002539789020374883,\n",
       "   0.0002540570239943918,\n",
       "   0.00025364908651681617,\n",
       "   0.00025076674864976667,\n",
       "   0.0002522692229831591,\n",
       "   0.0002501069029676728,\n",
       "   0.0002506205091776792,\n",
       "   0.0002483642165316269,\n",
       "   0.0002474150860507507,\n",
       "   0.00024628320534247905,\n",
       "   0.00024585681603639387,\n",
       "   0.0002445799036649987,\n",
       "   0.00024374434724450111,\n",
       "   0.00024341122480109334,\n",
       "   0.00024223215586971492,\n",
       "   0.000241790919972118,\n",
       "   0.00024057296104729176,\n",
       "   0.0002401118508714717,\n",
       "   0.00023925016284920275,\n",
       "   0.00023850739671615884,\n",
       "   0.0002376058546360582,\n",
       "   0.00023682750907028094,\n",
       "   0.00023618647173861973,\n",
       "   0.00023542303824797273,\n",
       "   0.00023484177654609084,\n",
       "   0.0002340181526960805,\n",
       "   0.00023359617262030952,\n",
       "   0.00023278169828699902,\n",
       "   0.00023201298972708173,\n",
       "   0.0002314142184332013,\n",
       "   0.00023045562920742668,\n",
       "   0.0002301335844094865,\n",
       "   0.0002292838180437684,\n",
       "   0.0002286542221554555,\n",
       "   0.00022775865727453493,\n",
       "   0.0002272245728818234,\n",
       "   0.0002265592192998156,\n",
       "   0.00022586918930755928,\n",
       "   0.00022547658227267675,\n",
       "   0.0002247605698357802,\n",
       "   0.0002239947789348662,\n",
       "   0.0002233866798633244,\n",
       "   0.00022321148571791127,\n",
       "   0.00022236242512008175,\n",
       "   0.00022168720897752792,\n",
       "   0.00022102570801507682,\n",
       "   0.00022052334679756314,\n",
       "   0.00021974905030219816,\n",
       "   0.00021927750640315935,\n",
       "   0.0002184116565331351,\n",
       "   0.00021826498414156958,\n",
       "   0.00021736810231232084,\n",
       "   0.0002168857099604793,\n",
       "   0.0002164503384847194,\n",
       "   0.00021605127767543308,\n",
       "   0.00021549353186856024,\n",
       "   0.00021477662812685594,\n",
       "   0.00021413272770587355,\n",
       "   0.00021428204490803182,\n",
       "   0.00021323544933693483,\n",
       "   0.00021296969134709798,\n",
       "   0.00021222002760623582,\n",
       "   0.0002115726201736834,\n",
       "   0.00021153262787265703,\n",
       "   0.00021039719285909086,\n",
       "   0.00020969909019186161,\n",
       "   0.00020919749294989742,\n",
       "   0.0002087830325763207,\n",
       "   0.00020817346376134083,\n",
       "   0.0002076383025269024,\n",
       "   0.0002068231078737881,\n",
       "   0.00020639322974602692,\n",
       "   0.00020579556075972505,\n",
       "   0.00020537407544907182,\n",
       "   0.00020488263544393703,\n",
       "   0.00020428820062079467,\n",
       "   0.0002037275189650245,\n",
       "   0.00020315597794251516,\n",
       "   0.00020291710461606272,\n",
       "   0.00020223423416609876,\n",
       "   0.00020202960877213627,\n",
       "   0.0002018342784140259,\n",
       "   0.0002007784896704834,\n",
       "   0.00020058439622516744,\n",
       "   0.00019986079496447928,\n",
       "   0.00019939026969950646,\n",
       "   0.00019883360073436052,\n",
       "   0.00019838719890685752,\n",
       "   0.00019806259660981596,\n",
       "   0.00019763662203331478,\n",
       "   0.0001970494595298078,\n",
       "   0.00019666052685352042,\n",
       "   0.00019633947158581577,\n",
       "   0.00019552614685380831,\n",
       "   0.00019546455587260425,\n",
       "   0.00019528250777511857,\n",
       "   0.00019501127462717704,\n",
       "   0.00019435615467955358,\n",
       "   0.0001936682401719736,\n",
       "   0.00019311290270707104,\n",
       "   0.00019262668683950324,\n",
       "   0.0001921406546898652,\n",
       "   0.00019173962573404424,\n",
       "   0.0001911345880216686,\n",
       "   0.00019074741067015566,\n",
       "   0.00019027895905310288,\n",
       "   0.00018981931316375267,\n",
       "   0.0001893521039164625,\n",
       "   0.0001891211559268413,\n",
       "   0.00018892931802838575,\n",
       "   0.0001884288139990531,\n",
       "   0.0001880160161817912,\n",
       "   0.000187550533155445,\n",
       "   0.00018703735986491665,\n",
       "   0.00018659071065485477,\n",
       "   0.0001862567169155227,\n",
       "   0.00018573847228253726,\n",
       "   0.0001852116492955247,\n",
       "   0.00018499592988518998,\n",
       "   0.00018461593026586343,\n",
       "   0.0001841505782067543,\n",
       "   0.00018394239123153966,\n",
       "   0.00018346150318393484,\n",
       "   0.00018318080765311606,\n",
       "   0.00018248512424179353,\n",
       "   0.00018266297229274642,\n",
       "   0.00018180794904765207,\n",
       "   0.00018155489306082018,\n",
       "   0.00018102788271789905,\n",
       "   0.0001808094293664908,\n",
       "   0.00018066699522023555,\n",
       "   0.00017997123359236866,\n",
       "   0.00017944690443982836,\n",
       "   0.00017940502402780112,\n",
       "   0.0001791266677173553,\n",
       "   0.0001786327084118966,\n",
       "   0.0001785241547622718,\n",
       "   0.0001777110228431411,\n",
       "   0.00017750892038748134,\n",
       "   0.000176993502464029,\n",
       "   0.00017655276133154985,\n",
       "   0.00017640913756622467,\n",
       "   0.00017593528173165396,\n",
       "   0.0001755572793626925,\n",
       "   0.0001751251438690815,\n",
       "   0.0001748847553244559,\n",
       "   0.00017439030852983706,\n",
       "   0.0001740301031531999,\n",
       "   0.00017372074580634944,\n",
       "   0.0001733831722958712,\n",
       "   0.00017309495706285816,\n",
       "   0.00017278080485993996,\n",
       "   0.00017234287406608928,\n",
       "   0.0001719065930956276,\n",
       "   0.00017169172497233376,\n",
       "   0.00017130712876678444,\n",
       "   0.00017090491201088298,\n",
       "   0.00017067367843992542,\n",
       "   0.00017043597108568065,\n",
       "   0.0001700937264104141,\n",
       "   0.00016969270109257195,\n",
       "   0.00016933534425334074,\n",
       "   0.00016897260138648562,\n",
       "   0.00016857048649399076,\n",
       "   0.00016828401567181572,\n",
       "   0.00016802132995508146,\n",
       "   0.00016769548346928786,\n",
       "   0.00016738474914745893,\n",
       "   0.0001675878211244708,\n",
       "   0.00016670906006766018,\n",
       "   0.0001665168019826524,\n",
       "   0.00016659018365317024,\n",
       "   0.0001661817186686676,\n",
       "   0.0001657061711739516,\n",
       "   0.0001655239575484302,\n",
       "   0.0001647060962568503,\n",
       "   0.00016455350669275504,\n",
       "   0.0001641614089749055,\n",
       "   0.00016380371380364522,\n",
       "   0.00016350277292076498,\n",
       "   0.0001633997162571177,\n",
       "   0.0001629463949939236,\n",
       "   0.00016266094280581456,\n",
       "   0.00016227366540988442,\n",
       "   0.00016202566075662617,\n",
       "   0.00016154780860233586,\n",
       "   0.00016128623065014835,\n",
       "   0.00016104351561807562,\n",
       "   0.0001608966886124108,\n",
       "   0.0001603413747943705,\n",
       "   0.00016014562970667612,\n",
       "   0.00015993762644939125,\n",
       "   0.00015962427642080002,\n",
       "   0.0001592797943885671,\n",
       "   0.00015900372454780154,\n",
       "   0.00015866304238443263,\n",
       "   0.00015832528515602462,\n",
       "   0.00015798026288393885,\n",
       "   0.00015775707106513437,\n",
       "   0.00015753143634356093,\n",
       "   0.0001571709981362801,\n",
       "   0.00015684767458878923,\n",
       "   0.0001565743841638323,\n",
       "   0.00015621220154571347,\n",
       "   0.00015613124560331926,\n",
       "   0.00015582242849632166,\n",
       "   0.00015547978910035454,\n",
       "   0.00015511370838794392,\n",
       "   0.0001547816973470617,\n",
       "   0.00015457219888048712,\n",
       "   0.00015437738329637796,\n",
       "   0.0001543768939882284,\n",
       "   0.0001538502601761138,\n",
       "   0.0001534285802335944,\n",
       "   0.0001533888680569362,\n",
       "   0.00015290875671780668,\n",
       "   0.00015264259309333283,\n",
       "   0.00015232167061185464,\n",
       "   0.0001523382161394693,\n",
       "   0.00015175784756138455,\n",
       "   0.00015148238526307978,\n",
       "   0.00015147801786952186,\n",
       "   0.0001510824149590917,\n",
       "   0.0001506237513240194,\n",
       "   0.00015039938807603903,\n",
       "   0.00015016591896710452,\n",
       "   0.0001499131067248527,\n",
       "   0.00014961513261368964,\n",
       "   0.00014927582924428862,\n",
       "   0.0001490007580287056,\n",
       "   0.00014874852604407351,\n",
       "   0.00014840939365967643,\n",
       "   0.0001481262061133748,\n",
       "   0.00014798514530411921,\n",
       "   0.00014760405247216113,\n",
       "   0.00014736071534571238,\n",
       "   0.00014711653420818038,\n",
       "   0.00014678272964374628,\n",
       "   0.0001465569257561583,\n",
       "   0.0001465047007513931,\n",
       "   0.00014620533147535753,\n",
       "   0.00014583322627004236,\n",
       "   0.00014560422823706176,\n",
       "   0.00014539432049787138,\n",
       "   0.0001449905612389557,\n",
       "   0.0001448337843612535,\n",
       "   0.00014455827295023482,\n",
       "   0.0001441764488845365,\n",
       "   0.00014392311823030468,\n",
       "   0.0001437595383322332,\n",
       "   0.00014350487981573679,\n",
       "   0.00014334142178995535,\n",
       "   0.0001429591729902313,\n",
       "   0.0001426962089681183,\n",
       "   0.0001424625461368123,\n",
       "   0.00014223655762179988,\n",
       "   0.00014191345599101624,\n",
       "   0.0001416254917785409,\n",
       "   0.00014139893755782396,\n",
       "   0.00014110755910223816,\n",
       "   0.00014082664984016446,\n",
       "   0.00014062102127354592,\n",
       "   0.00014033288698556134,\n",
       "   0.0001401535164404777,\n",
       "   0.0001399179518557503,\n",
       "   0.00013975509500596672,\n",
       "   0.0001395032604705193,\n",
       "   0.0001392731282976456,\n",
       "   0.00013902404953114456,\n",
       "   0.00013859031787433196,\n",
       "   0.0001384057086397661,\n",
       "   0.0001381783577016904,\n",
       "   0.00013785400642518653,\n",
       "   0.00013756932457908988,\n",
       "   0.00013753453731624177,\n",
       "   0.0001375362435283023,\n",
       "   0.00013711886003875406,\n",
       "   0.00013677256629307522,\n",
       "   0.00013656770988745848,\n",
       "   0.0001361344538963749,\n",
       "   0.00013593288895208389,\n",
       "   0.00013571716499427566,\n",
       "   0.00013550025141739752,\n",
       "   0.00013522991503123194,\n",
       "   0.0001350115599052515,\n",
       "   0.0001347670213363017,\n",
       "   0.00013454975123750046,\n",
       "   0.0001342125297014718,\n",
       "   0.00013407563983491855,\n",
       "   0.0001337169323960552,\n",
       "   0.00013352085989026818,\n",
       "   0.00013341900012164842,\n",
       "   0.00013313442195794778,\n",
       "   0.00013286284593050368,\n",
       "   0.00013246416983747622,\n",
       "   0.0001323411906923866,\n",
       "   0.00013220482105680276,\n",
       "   0.00013194381790526677,\n",
       "   0.0001316425050390535,\n",
       "   0.00013152311203157296,\n",
       "   0.00013143608885002322,\n",
       "   0.00013091114306007512,\n",
       "   0.00013070776094536996,\n",
       "   0.0001305612267969991,\n",
       "   0.00013029861202085158,\n",
       "   0.00012999889986531343,\n",
       "   0.00012977596270502545,\n",
       "   0.00012949592201039195,\n",
       "   0.0001292815750275622,\n",
       "   0.00012909240285807755,\n",
       "   0.0001288290122829494,\n",
       "   0.00012863467691204278,\n",
       "   0.00012832695301767671,\n",
       "   0.000128261433019361,\n",
       "   0.00012824034274672158,\n",
       "   0.00012791668086720165,\n",
       "   0.00012753931150655262,\n",
       "   0.0001271578894375125,\n",
       "   0.00012705851804639678,\n",
       "   0.00012689125014730962,\n",
       "   0.00012665821668633725,\n",
       "   0.0001264227275896701,\n",
       "   0.0001261466923097032,\n",
       "   0.00012580650127347326,\n",
       "   0.00012568188867589924,\n",
       "   0.00012540717671072343,\n",
       "   0.0001251437397513655,\n",
       "   0.00012493975191318896,\n",
       "   0.00012474629784264835,\n",
       "   0.00012453002545953495,\n",
       "   0.00012436910219548736,\n",
       "   0.00012418007008818677,\n",
       "   0.0001239789426108473,\n",
       "   0.00012374223206279567,\n",
       "   0.0001235867657669587,\n",
       "   0.00012363962468953105,\n",
       "   0.00012329126457188977,\n",
       "   0.00012294358566578012,\n",
       "   0.00012253504246473312,\n",
       "   0.00012242723460076377,\n",
       "   0.00012241608783369884,\n",
       "   0.00012207347208459396,\n",
       "   0.00012183503804408247,\n",
       "   0.00012157941273471806,\n",
       "   0.0001212231090903515,\n",
       "   0.00012103346762160072,\n",
       "   0.00012078800500603393,\n",
       "   0.00012053600130457198,\n",
       "   0.00012028595210722415,\n",
       "   0.00012000635888398392,\n",
       "   0.00011974762674071826,\n",
       "   0.00011949313557124697,\n",
       "   0.00011920964243472554,\n",
       "   0.00011897794047399657,\n",
       "   0.00011873912444571033,\n",
       "   0.00011847708810819313,\n",
       "   0.00011820054805866675,\n",
       "   0.00011803255074482877,\n",
       "   0.00011776730389101431,\n",
       "   ...],\n",
       "  1933,\n",
       "  0.0001,\n",
       "  20,\n",
       "  1,\n",
       "  32,\n",
       "  8,\n",
       "  0.25]}"
      ]
     },
     "execution_count": 5,
     "metadata": {},
     "output_type": "execute_result"
    }
   ],
   "source": [
    "best_model"
   ]
  },
  {
   "cell_type": "code",
   "execution_count": 6,
   "id": "aef4f9b1",
   "metadata": {
    "ExecuteTime": {
     "end_time": "2023-06-06T08:56:21.379957Z",
     "start_time": "2023-06-06T08:56:21.366964Z"
    }
   },
   "outputs": [],
   "source": [
    "save_model(best_model['LSTM'][1].state_dict(), \"model/Infected/delta/LSTM.pth\")\n",
    "save_hyperparameter(best_model['LSTM'][3:], \"hyperparameter/Infected/delta/LSTM.pkl\")"
   ]
  },
  {
   "cell_type": "code",
   "execution_count": 7,
   "id": "c1c955fe",
   "metadata": {
    "ExecuteTime": {
     "end_time": "2023-06-06T08:56:21.580448Z",
     "start_time": "2023-06-06T08:56:21.381924Z"
    }
   },
   "outputs": [
    {
     "data": {
      "text/plain": [
       "[<matplotlib.lines.Line2D at 0x1d68385b280>]"
      ]
     },
     "execution_count": 7,
     "metadata": {},
     "output_type": "execute_result"
    },
    {
     "data": {
      "image/png": "[encoded data removed]",
      "text/plain": [
       "<Figure size 640x480 with 1 Axes>"
      ]
     },
     "metadata": {},
     "output_type": "display_data"
    }
   ],
   "source": [
    "plt.plot(best_model['LSTM'][2])"
   ]
  },
  {
   "cell_type": "code",
   "execution_count": 8,
   "id": "35bcc721",
   "metadata": {
    "ExecuteTime": {
     "end_time": "2023-06-06T08:56:21.596379Z",
     "start_time": "2023-06-06T08:56:21.583412Z"
    }
   },
   "outputs": [],
   "source": [
    "label_y, predicted = predict_mto(best_model['LSTM'][1], df, x_ss, y_ms)"
   ]
  },
  {
   "cell_type": "code",
   "execution_count": 9,
   "id": "d08ac62c",
   "metadata": {
    "ExecuteTime": {
     "end_time": "2023-06-06T08:56:21.780718Z",
     "start_time": "2023-06-06T08:56:21.599372Z"
    }
   },
   "outputs": [
    {
     "name": "stdout",
     "output_type": "stream",
     "text": [
      "4.48447516459073\n"
     ]
    },
    {
     "data": {
      "image/png": "[encoded data removed]",
      "text/plain": [
       "<Figure size 1000x600 with 1 Axes>"
      ]
     },
     "metadata": {},
     "output_type": "display_data"
    }
   ],
   "source": [
    "print(rmse(label_y[-7:], predicted[-7:]))\n",
    "plotting(label_y, predicted, 58)"
   ]
  },
  {
   "cell_type": "code",
   "execution_count": null,
   "id": "e26912da",
   "metadata": {},
   "outputs": [],
   "source": []
  },
  {
   "cell_type": "code",
   "execution_count": null,
   "id": "4436077d",
   "metadata": {},
   "outputs": [],
   "source": []
  },
  {
   "cell_type": "code",
   "execution_count": null,
   "id": "63ae556f",
   "metadata": {},
   "outputs": [],
   "source": []
  }
 ],
 "metadata": {
  "kernelspec": {
   "display_name": "KDA_DA",
   "language": "python",
   "name": "kda_da"
  },
  "language_info": {
   "codemirror_mode": {
    "name": "ipython",
    "version": 3
   },
   "file_extension": ".py",
   "mimetype": "text/x-python",
   "name": "python",
   "nbconvert_exporter": "python",
   "pygments_lexer": "ipython3",
   "version": "3.10.8"
  },
  "toc": {
   "base_numbering": 1,
   "nav_menu": {},
   "number_sections": true,
   "sideBar": true,
   "skip_h1_title": false,
   "title_cell": "Table of Contents",
   "title_sidebar": "Contents",
   "toc_cell": false,
   "toc_position": {},
   "toc_section_display": true,
   "toc_window_display": false
  }
 },
 "nbformat": 4,
 "nbformat_minor": 5
}
