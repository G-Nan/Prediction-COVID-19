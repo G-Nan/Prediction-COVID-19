{
 "cells": [
  {
   "cell_type": "code",
   "execution_count": 1,
   "id": "1c1c19e4",
   "metadata": {
    "ExecuteTime": {
     "end_time": "2023-05-31T04:21:49.037244Z",
     "start_time": "2023-05-31T04:21:46.478433Z"
    }
   },
   "outputs": [],
   "source": [
    "import os\n",
    "os.chdir('D:\\\\Gnan\\\\DA\\\\KMU\\\\Prediction-COVID-19')\n",
    "from utils import *\n",
    "from model import *\n",
    "from trainer import *\n",
    "\n",
    "from torch.optim.adam import Adam\n",
    "device = torch.device('cuda:0' if torch.cuda.is_available() else 'cpu')"
   ]
  },
  {
   "cell_type": "code",
   "execution_count": 2,
   "id": "8457706a",
   "metadata": {
    "ExecuteTime": {
     "end_time": "2023-05-31T04:21:49.133052Z",
     "start_time": "2023-05-31T04:21:49.040206Z"
    }
   },
   "outputs": [
    {
     "data": {
      "text/html": [
       "<div>\n",
       "<style scoped>\n",
       "    .dataframe tbody tr th:only-of-type {\n",
       "        vertical-align: middle;\n",
       "    }\n",
       "\n",
       "    .dataframe tbody tr th {\n",
       "        vertical-align: top;\n",
       "    }\n",
       "\n",
       "    .dataframe thead th {\n",
       "        text-align: right;\n",
       "    }\n",
       "</style>\n",
       "<table border=\"1\" class=\"dataframe\">\n",
       "  <thead>\n",
       "    <tr style=\"text-align: right;\">\n",
       "      <th></th>\n",
       "      <th>Date</th>\n",
       "      <th>City</th>\n",
       "      <th>Susceptible</th>\n",
       "      <th>Infected</th>\n",
       "      <th>Dead</th>\n",
       "      <th>Recovered</th>\n",
       "      <th>alpha</th>\n",
       "      <th>beta</th>\n",
       "      <th>gamma</th>\n",
       "    </tr>\n",
       "  </thead>\n",
       "  <tbody>\n",
       "    <tr>\n",
       "      <th>0</th>\n",
       "      <td>2020-01-20</td>\n",
       "      <td>서울</td>\n",
       "      <td>9535432</td>\n",
       "      <td>0</td>\n",
       "      <td>0</td>\n",
       "      <td>0</td>\n",
       "      <td>0.000000</td>\n",
       "      <td>0.000000</td>\n",
       "      <td>0.000000</td>\n",
       "    </tr>\n",
       "    <tr>\n",
       "      <th>1</th>\n",
       "      <td>2020-01-21</td>\n",
       "      <td>서울</td>\n",
       "      <td>9535432</td>\n",
       "      <td>0</td>\n",
       "      <td>0</td>\n",
       "      <td>0</td>\n",
       "      <td>0.000000</td>\n",
       "      <td>0.000000</td>\n",
       "      <td>0.000000</td>\n",
       "    </tr>\n",
       "    <tr>\n",
       "      <th>2</th>\n",
       "      <td>2020-01-22</td>\n",
       "      <td>서울</td>\n",
       "      <td>9535432</td>\n",
       "      <td>0</td>\n",
       "      <td>0</td>\n",
       "      <td>0</td>\n",
       "      <td>0.000000</td>\n",
       "      <td>0.000000</td>\n",
       "      <td>0.000000</td>\n",
       "    </tr>\n",
       "    <tr>\n",
       "      <th>3</th>\n",
       "      <td>2020-01-23</td>\n",
       "      <td>서울</td>\n",
       "      <td>9535432</td>\n",
       "      <td>0</td>\n",
       "      <td>0</td>\n",
       "      <td>0</td>\n",
       "      <td>0.000000</td>\n",
       "      <td>0.000000</td>\n",
       "      <td>0.000000</td>\n",
       "    </tr>\n",
       "    <tr>\n",
       "      <th>4</th>\n",
       "      <td>2020-01-24</td>\n",
       "      <td>서울</td>\n",
       "      <td>9535431</td>\n",
       "      <td>1</td>\n",
       "      <td>0</td>\n",
       "      <td>0</td>\n",
       "      <td>0.000000</td>\n",
       "      <td>0.000000</td>\n",
       "      <td>0.000000</td>\n",
       "    </tr>\n",
       "    <tr>\n",
       "      <th>...</th>\n",
       "      <td>...</td>\n",
       "      <td>...</td>\n",
       "      <td>...</td>\n",
       "      <td>...</td>\n",
       "      <td>...</td>\n",
       "      <td>...</td>\n",
       "      <td>...</td>\n",
       "      <td>...</td>\n",
       "      <td>...</td>\n",
       "    </tr>\n",
       "    <tr>\n",
       "      <th>1214</th>\n",
       "      <td>2023-05-20</td>\n",
       "      <td>서울</td>\n",
       "      <td>3372946</td>\n",
       "      <td>63591</td>\n",
       "      <td>6471</td>\n",
       "      <td>6092424</td>\n",
       "      <td>0.186540</td>\n",
       "      <td>0.169175</td>\n",
       "      <td>0.000031</td>\n",
       "    </tr>\n",
       "    <tr>\n",
       "      <th>1215</th>\n",
       "      <td>2023-05-21</td>\n",
       "      <td>서울</td>\n",
       "      <td>3368750</td>\n",
       "      <td>57027</td>\n",
       "      <td>6473</td>\n",
       "      <td>6103182</td>\n",
       "      <td>0.063087</td>\n",
       "      <td>0.028793</td>\n",
       "      <td>0.000053</td>\n",
       "    </tr>\n",
       "    <tr>\n",
       "      <th>1216</th>\n",
       "      <td>2023-05-22</td>\n",
       "      <td>서울</td>\n",
       "      <td>3367479</td>\n",
       "      <td>56653</td>\n",
       "      <td>6476</td>\n",
       "      <td>6104824</td>\n",
       "      <td>0.268003</td>\n",
       "      <td>0.101407</td>\n",
       "      <td>0.000018</td>\n",
       "    </tr>\n",
       "    <tr>\n",
       "      <th>1217</th>\n",
       "      <td>2023-05-23</td>\n",
       "      <td>서울</td>\n",
       "      <td>3362117</td>\n",
       "      <td>56269</td>\n",
       "      <td>6477</td>\n",
       "      <td>6110569</td>\n",
       "      <td>0.267742</td>\n",
       "      <td>0.099895</td>\n",
       "      <td>0.000036</td>\n",
       "    </tr>\n",
       "    <tr>\n",
       "      <th>1218</th>\n",
       "      <td>2023-05-24</td>\n",
       "      <td>서울</td>\n",
       "      <td>3356805</td>\n",
       "      <td>55958</td>\n",
       "      <td>6479</td>\n",
       "      <td>6116190</td>\n",
       "      <td>0.000000</td>\n",
       "      <td>0.000000</td>\n",
       "      <td>0.000000</td>\n",
       "    </tr>\n",
       "  </tbody>\n",
       "</table>\n",
       "<p>1219 rows × 9 columns</p>\n",
       "</div>"
      ],
      "text/plain": [
       "            Date City  Susceptible  Infected  Dead  Recovered     alpha  \\\n",
       "0     2020-01-20   서울      9535432         0     0          0  0.000000   \n",
       "1     2020-01-21   서울      9535432         0     0          0  0.000000   \n",
       "2     2020-01-22   서울      9535432         0     0          0  0.000000   \n",
       "3     2020-01-23   서울      9535432         0     0          0  0.000000   \n",
       "4     2020-01-24   서울      9535431         1     0          0  0.000000   \n",
       "...          ...  ...          ...       ...   ...        ...       ...   \n",
       "1214  2023-05-20   서울      3372946     63591  6471    6092424  0.186540   \n",
       "1215  2023-05-21   서울      3368750     57027  6473    6103182  0.063087   \n",
       "1216  2023-05-22   서울      3367479     56653  6476    6104824  0.268003   \n",
       "1217  2023-05-23   서울      3362117     56269  6477    6110569  0.267742   \n",
       "1218  2023-05-24   서울      3356805     55958  6479    6116190  0.000000   \n",
       "\n",
       "          beta     gamma  \n",
       "0     0.000000  0.000000  \n",
       "1     0.000000  0.000000  \n",
       "2     0.000000  0.000000  \n",
       "3     0.000000  0.000000  \n",
       "4     0.000000  0.000000  \n",
       "...        ...       ...  \n",
       "1214  0.169175  0.000031  \n",
       "1215  0.028793  0.000053  \n",
       "1216  0.101407  0.000018  \n",
       "1217  0.099895  0.000036  \n",
       "1218  0.000000  0.000000  \n",
       "\n",
       "[1219 rows x 9 columns]"
      ]
     },
     "execution_count": 2,
     "metadata": {},
     "output_type": "execute_result"
    }
   ],
   "source": [
    "path = 'Data/SIR_Origin/*.csv'\n",
    "dic_files = Load_files.load_files(path, -17, -15)\n",
    "data = dic_files['서울']\n",
    "data"
   ]
  },
  {
   "cell_type": "code",
   "execution_count": 3,
   "id": "b1c8dda3",
   "metadata": {
    "ExecuteTime": {
     "end_time": "2023-05-31T04:21:49.149012Z",
     "start_time": "2023-05-31T04:21:49.135047Z"
    }
   },
   "outputs": [
    {
     "name": "stdout",
     "output_type": "stream",
     "text": [
      "1458\n"
     ]
    }
   ],
   "source": [
    "learning_rates_list = [1e-3, 1e-4, 1e-5]\n",
    "criterions_list = [nn.MSELoss(), criterion2, criterion3]\n",
    "patiences_list = [20, 50, 100]\n",
    "num_layers_list = [2, 4, 8]\n",
    "batch_sizes_list = [16, 32, 64]\n",
    "hidden_sizes_list = [8, 16, 32]\n",
    "dropout_list = [0.25, 0.5]\n",
    "\n",
    "Train_dict = {}\n",
    "i = 0\n",
    "\n",
    "\n",
    "for lr in learning_rates_list:\n",
    "    for criterion in criterions_list:\n",
    "        for patience in patiences_list:\n",
    "            for num_layers in num_layers_list:\n",
    "                for batch_sizes in batch_sizes_list:\n",
    "                    for hidden_size in hidden_sizes_list:    \n",
    "                        for dropout in dropout_list:\n",
    "                            Train_dict[i] = [lr, criterion, patience, num_layers, batch_sizes, hidden_size, dropout]\n",
    "                            i += 1\n",
    "\n",
    "                        \n",
    "print(i)"
   ]
  },
  {
   "cell_type": "code",
   "execution_count": 4,
   "id": "dc7a5b94",
   "metadata": {
    "ExecuteTime": {
     "end_time": "2023-05-31T04:21:49.164996Z",
     "start_time": "2023-05-31T04:21:49.153000Z"
    }
   },
   "outputs": [
    {
     "data": {
      "text/plain": [
       "[0.001, MSELoss(), 20, 2, 16, 8, 0.25]"
      ]
     },
     "execution_count": 4,
     "metadata": {},
     "output_type": "execute_result"
    }
   ],
   "source": [
    "Train_dict[0]"
   ]
  },
  {
   "cell_type": "code",
   "execution_count": 5,
   "id": "3899b1dd",
   "metadata": {
    "ExecuteTime": {
     "end_time": "2023-05-31T04:21:49.195884Z",
     "start_time": "2023-05-31T04:21:49.166962Z"
    }
   },
   "outputs": [
    {
     "data": {
      "text/html": [
       "<style>#sk-container-id-1 {color: black;background-color: white;}#sk-container-id-1 pre{padding: 0;}#sk-container-id-1 div.sk-toggleable {background-color: white;}#sk-container-id-1 label.sk-toggleable__label {cursor: pointer;display: block;width: 100%;margin-bottom: 0;padding: 0.3em;box-sizing: border-box;text-align: center;}#sk-container-id-1 label.sk-toggleable__label-arrow:before {content: \"▸\";float: left;margin-right: 0.25em;color: #696969;}#sk-container-id-1 label.sk-toggleable__label-arrow:hover:before {color: black;}#sk-container-id-1 div.sk-estimator:hover label.sk-toggleable__label-arrow:before {color: black;}#sk-container-id-1 div.sk-toggleable__content {max-height: 0;max-width: 0;overflow: hidden;text-align: left;background-color: #f0f8ff;}#sk-container-id-1 div.sk-toggleable__content pre {margin: 0.2em;color: black;border-radius: 0.25em;background-color: #f0f8ff;}#sk-container-id-1 input.sk-toggleable__control:checked~div.sk-toggleable__content {max-height: 200px;max-width: 100%;overflow: auto;}#sk-container-id-1 input.sk-toggleable__control:checked~label.sk-toggleable__label-arrow:before {content: \"▾\";}#sk-container-id-1 div.sk-estimator input.sk-toggleable__control:checked~label.sk-toggleable__label {background-color: #d4ebff;}#sk-container-id-1 div.sk-label input.sk-toggleable__control:checked~label.sk-toggleable__label {background-color: #d4ebff;}#sk-container-id-1 input.sk-hidden--visually {border: 0;clip: rect(1px 1px 1px 1px);clip: rect(1px, 1px, 1px, 1px);height: 1px;margin: -1px;overflow: hidden;padding: 0;position: absolute;width: 1px;}#sk-container-id-1 div.sk-estimator {font-family: monospace;background-color: #f0f8ff;border: 1px dotted black;border-radius: 0.25em;box-sizing: border-box;margin-bottom: 0.5em;}#sk-container-id-1 div.sk-estimator:hover {background-color: #d4ebff;}#sk-container-id-1 div.sk-parallel-item::after {content: \"\";width: 100%;border-bottom: 1px solid gray;flex-grow: 1;}#sk-container-id-1 div.sk-label:hover label.sk-toggleable__label {background-color: #d4ebff;}#sk-container-id-1 div.sk-serial::before {content: \"\";position: absolute;border-left: 1px solid gray;box-sizing: border-box;top: 0;bottom: 0;left: 50%;z-index: 0;}#sk-container-id-1 div.sk-serial {display: flex;flex-direction: column;align-items: center;background-color: white;padding-right: 0.2em;padding-left: 0.2em;position: relative;}#sk-container-id-1 div.sk-item {position: relative;z-index: 1;}#sk-container-id-1 div.sk-parallel {display: flex;align-items: stretch;justify-content: center;background-color: white;position: relative;}#sk-container-id-1 div.sk-item::before, #sk-container-id-1 div.sk-parallel-item::before {content: \"\";position: absolute;border-left: 1px solid gray;box-sizing: border-box;top: 0;bottom: 0;left: 50%;z-index: -1;}#sk-container-id-1 div.sk-parallel-item {display: flex;flex-direction: column;z-index: 1;position: relative;background-color: white;}#sk-container-id-1 div.sk-parallel-item:first-child::after {align-self: flex-end;width: 50%;}#sk-container-id-1 div.sk-parallel-item:last-child::after {align-self: flex-start;width: 50%;}#sk-container-id-1 div.sk-parallel-item:only-child::after {width: 0;}#sk-container-id-1 div.sk-dashed-wrapped {border: 1px dashed gray;margin: 0 0.4em 0.5em 0.4em;box-sizing: border-box;padding-bottom: 0.4em;background-color: white;}#sk-container-id-1 div.sk-label label {font-family: monospace;font-weight: bold;display: inline-block;line-height: 1.2em;}#sk-container-id-1 div.sk-label-container {text-align: center;}#sk-container-id-1 div.sk-container {/* jupyter's `normalize.less` sets `[hidden] { display: none; }` but bootstrap.min.css set `[hidden] { display: none !important; }` so we also need the `!important` here to be able to override the default hidden behavior on the sphinx rendered scikit-learn.org. See: https://github.com/scikit-learn/scikit-learn/issues/21755 */display: inline-block !important;position: relative;}#sk-container-id-1 div.sk-text-repr-fallback {display: none;}</style><div id=\"sk-container-id-1\" class=\"sk-top-container\"><div class=\"sk-text-repr-fallback\"><pre>MinMaxScaler()</pre><b>In a Jupyter environment, please rerun this cell to show the HTML representation or trust the notebook. <br />On GitHub, the HTML representation is unable to render, please try loading this page with nbviewer.org.</b></div><div class=\"sk-container\" hidden><div class=\"sk-item\"><div class=\"sk-estimator sk-toggleable\"><input class=\"sk-toggleable__control sk-hidden--visually\" id=\"sk-estimator-id-1\" type=\"checkbox\" checked><label for=\"sk-estimator-id-1\" class=\"sk-toggleable__label sk-toggleable__label-arrow\">MinMaxScaler</label><div class=\"sk-toggleable__content\"><pre>MinMaxScaler()</pre></div></div></div></div></div>"
      ],
      "text/plain": [
       "MinMaxScaler()"
      ]
     },
     "execution_count": 5,
     "metadata": {},
     "output_type": "execute_result"
    }
   ],
   "source": [
    "lr = Train_dict[0][0]\n",
    "criterion = Train_dict[0][1]\n",
    "patience = Train_dict[0][2]\n",
    "num_layers = Train_dict[0][3]\n",
    "batch_size = Train_dict[0][4]\n",
    "hidden_size = Train_dict[0][5]\n",
    "dropout = Train_dict[0][6]\n",
    "\n",
    "input_size = 3\n",
    "sequence_length = 60\n",
    "num_epochs = 10000\n",
    "\n",
    "df = Prepare_df.processing(data, 'Date', 'alpha')\n",
    "\n",
    "x = df.iloc[:, 0:]\n",
    "y = df.iloc[:,:1]\n",
    "\n",
    "ms = MinMaxScaler()\n",
    "ss = StandardScaler()\n",
    "\n",
    "ss.fit(x)\n",
    "ms.fit(y)\n"
   ]
  },
  {
   "cell_type": "code",
   "execution_count": 6,
   "id": "153d3df1",
   "metadata": {
    "ExecuteTime": {
     "end_time": "2023-05-31T04:21:50.787016Z",
     "start_time": "2023-05-31T04:21:49.197880Z"
    }
   },
   "outputs": [],
   "source": [
    "model_RNN = RNN(input_size = input_size,\n",
    "                hidden_size = hidden_size,\n",
    "                sequence_length = sequence_length,\n",
    "                num_layers = num_layers, \n",
    "                dropout = dropout, \n",
    "                device = device).to(device)\n",
    "\n",
    "model_LSTM = LSTM(input_size = input_size,\n",
    "                  hidden_size = hidden_size,\n",
    "                  sequence_length = sequence_length,\n",
    "                  num_layers = num_layers, \n",
    "                  dropout = dropout, \n",
    "                  device = device).to(device)\n",
    "\n",
    "model_GRU = GRU(input_size = input_size,\n",
    "                hidden_size = hidden_size,\n",
    "                sequence_length = sequence_length,\n",
    "                num_layers = num_layers, \n",
    "                dropout = dropout, \n",
    "                device = device).to(device)\n",
    "\n",
    "model_BiRNN = BiRNN(input_size = input_size,\n",
    "                    hidden_size = hidden_size,\n",
    "                    sequence_length = sequence_length,\n",
    "                    num_layers = num_layers, \n",
    "                    dropout = dropout, \n",
    "                    device = device).to(device)\n",
    "\n",
    "model_BiLSTM = BiLSTM(input_size = input_size,\n",
    "                      hidden_size = hidden_size,\n",
    "                      sequence_length = sequence_length,\n",
    "                      num_layers = num_layers, \n",
    "                      dropout = dropout, \n",
    "                      device = device).to(device)\n",
    "\n",
    "model_BiGRU = BiGRU(input_size = input_size,\n",
    "                    hidden_size = hidden_size,\n",
    "                    sequence_length = sequence_length,\n",
    "                    num_layers = num_layers, \n",
    "                    dropout = dropout, \n",
    "                    device = device).to(device)\n",
    "\n",
    "model_seq2seq_RNN = RNN_encoder_decoder(input_size = input_size, \n",
    "                                        hidden_size = hidden_size,\n",
    "                                        num_layers = num_layers, \n",
    "                                        dropout = dropout,\n",
    "                                        device = device).to(device)\n",
    "\n",
    "model_seq2seq_LSTM = LSTM_encoder_decoder(input_size = input_size, \n",
    "                                         hidden_size = hidden_size,\n",
    "                                         num_layers = num_layers, \n",
    "                                         dropout = dropout,\n",
    "                                         device = device).to(device)\n",
    "\n",
    "model_seq2seq_GRU = GRU_encoder_decoder(input_size = input_size, \n",
    "                                        hidden_size = hidden_size,\n",
    "                                        num_layers = num_layers, \n",
    "                                        dropout = dropout,\n",
    "                                        device = device).to(device)\n",
    "\n",
    "model_seq2seq_BiRNN = BiRNN_encoder_decoder(input_size = input_size, \n",
    "                                            hidden_size = hidden_size,\n",
    "                                            num_layers = num_layers, \n",
    "                                            dropout = dropout,\n",
    "                                            device = device).to(device)\n",
    "\n",
    "model_seq2seq_BiLSTM = BiLSTM_encoder_decoder(input_size = input_size, \n",
    "                                              hidden_size = hidden_size,\n",
    "                                              num_layers = num_layers, \n",
    "                                              dropout = dropout,\n",
    "                                              device = device).to(device)\n",
    "\n",
    "model_seq2seq_BiGRU = BiGRU_encoder_decoder(input_size = input_size, \n",
    "                                            hidden_size = hidden_size,\n",
    "                                            num_layers = num_layers, \n",
    "                                            dropout = dropout,\n",
    "                                            device = device).to(device)\n",
    "\n",
    "model_dict = {}\n",
    "\n",
    "keys = ['RNN', 'LSTM', 'GRU', 'BiRNN', 'BiLSTM', 'BiGRU', \n",
    "        'seq2seq_RNN', 'seq2seq_LSTM', 'seq2seq_GRU', 'seq2seq_BiRNN', 'seq2seq_BiLSTM', 'seq2seq_BiGRU']\n",
    "\n",
    "models_list = [model_RNN, model_LSTM, model_GRU, \n",
    "              model_BiRNN, model_BiLSTM, model_BiGRU,\n",
    "              model_seq2seq_RNN, model_seq2seq_LSTM, model_seq2seq_GRU, \n",
    "              model_seq2seq_BiRNN, model_seq2seq_BiLSTM, model_seq2seq_BiGRU]\n",
    "\n",
    "for i, key in enumerate(keys):\n",
    "    model_dict[key] = models_list[i]"
   ]
  },
  {
   "cell_type": "code",
   "execution_count": 7,
   "id": "1efb91e4",
   "metadata": {
    "ExecuteTime": {
     "end_time": "2023-05-31T04:27:47.102791Z",
     "start_time": "2023-05-31T04:21:50.789011Z"
    }
   },
   "outputs": [
    {
     "name": "stdout",
     "output_type": "stream",
     "text": [
      "torch.Size([800, 60, 3])\n",
      "torch.Size([800, 1])\n",
      "torch.Size([357, 60, 3])\n",
      "torch.Size([357, 1])\n",
      "\n",
      " Early Stopping / epoch: 81 loss: 0.0000\n",
      "torch.Size([800, 60, 3])\n",
      "torch.Size([800, 1])\n",
      "torch.Size([357, 60, 3])\n",
      "torch.Size([357, 1])\n",
      "epoch: 100 loss: 0.0001\n",
      "\n",
      " Early Stopping / epoch: 101 loss: 0.0001\n",
      "torch.Size([800, 60, 3])\n",
      "torch.Size([800, 1])\n",
      "torch.Size([357, 60, 3])\n",
      "torch.Size([357, 1])\n",
      "epoch: 100 loss: 0.0000\n",
      "\n",
      " Early Stopping / epoch: 121 loss: 0.0001\n",
      "torch.Size([800, 60, 3])\n",
      "torch.Size([800, 1])\n",
      "torch.Size([357, 60, 3])\n",
      "torch.Size([357, 1])\n",
      "\n",
      " Early Stopping / epoch: 81 loss: 0.0001\n",
      "torch.Size([800, 60, 3])\n",
      "torch.Size([800, 1])\n",
      "torch.Size([357, 60, 3])\n",
      "torch.Size([357, 1])\n",
      "\n",
      " Early Stopping / epoch: 81 loss: 0.0001\n",
      "torch.Size([800, 60, 3])\n",
      "torch.Size([800, 1])\n",
      "torch.Size([357, 60, 3])\n",
      "torch.Size([357, 1])\n",
      "\n",
      " Early Stopping / epoch: 81 loss: 0.0001\n",
      "torch.Size([800, 60, 3])\n",
      "torch.Size([800, 7, 1])\n",
      "torch.Size([351, 60, 3])\n",
      "torch.Size([351, 7, 1])\n",
      "epoch: 100 loss: 0.000671\n",
      "epoch: 200 loss: 0.000559\n",
      "epoch: 300 loss: 0.000367\n",
      "\n",
      " Early Stopping / epoch: 341 loss: 0.000295\n"
     ]
    },
    {
     "ename": "TypeError",
     "evalue": "predict_mtm() missing 1 required positional argument: 'device'",
     "output_type": "error",
     "traceback": [
      "\u001b[1;31m---------------------------------------------------------------------------\u001b[0m",
      "\u001b[1;31mTypeError\u001b[0m                                 Traceback (most recent call last)",
      "Cell \u001b[1;32mIn[7], line 34\u001b[0m\n\u001b[0;32m     25\u001b[0m x, y, x_ss, y_ms, train_loader, test_loader \u001b[38;5;241m=\u001b[39m Prepare_df\u001b[38;5;241m.\u001b[39msplit_data(df, \u001b[38;5;241m800\u001b[39m, \u001b[38;5;241m60\u001b[39m, \u001b[38;5;241m7\u001b[39m, batch_size, \u001b[38;5;124m'\u001b[39m\u001b[38;5;124mmtm\u001b[39m\u001b[38;5;124m'\u001b[39m)\n\u001b[0;32m     26\u001b[0m loss_list, model \u001b[38;5;241m=\u001b[39m Trainer\u001b[38;5;241m.\u001b[39mMany_to_Many(train_loader, \n\u001b[0;32m     27\u001b[0m                                         test_loader, \n\u001b[0;32m     28\u001b[0m                                         model, \n\u001b[1;32m   (...)\u001b[0m\n\u001b[0;32m     32\u001b[0m                                         patience,\n\u001b[0;32m     33\u001b[0m                                         device)\n\u001b[1;32m---> 34\u001b[0m first_label_y, first_predicted \u001b[38;5;241m=\u001b[39m \u001b[43mpredict_mtm\u001b[49m\u001b[43m(\u001b[49m\u001b[43mmodel\u001b[49m\u001b[43m,\u001b[49m\u001b[43m \u001b[49m\u001b[43mdf\u001b[49m\u001b[43m,\u001b[49m\u001b[43m \u001b[49m\u001b[43mx_ss\u001b[49m\u001b[43m,\u001b[49m\u001b[43m \u001b[49m\u001b[43my_ms\u001b[49m\u001b[43m,\u001b[49m\u001b[43m \u001b[49m\u001b[38;5;241;43m7\u001b[39;49m\u001b[43m,\u001b[49m\u001b[43m \u001b[49m\u001b[38;5;241;43m0.5\u001b[39;49m\u001b[43m,\u001b[49m\u001b[43m \u001b[49m\u001b[43mdevice\u001b[49m\u001b[43m)\u001b[49m\n\u001b[0;32m     35\u001b[0m \u001b[38;5;28;01mif\u001b[39;00m mape_val \u001b[38;5;241m>\u001b[39m mape(label_y\u001b[38;5;241m+\u001b[39m\u001b[38;5;241m1\u001b[39m, predicted):\n\u001b[0;32m     36\u001b[0m     mape_val \u001b[38;5;241m=\u001b[39m vape_val \u001b[38;5;241m=\u001b[39m mape(label_y\u001b[38;5;241m+\u001b[39m\u001b[38;5;241m1\u001b[39m, predicted)\n",
      "\u001b[1;31mTypeError\u001b[0m: predict_mtm() missing 1 required positional argument: 'device'"
     ]
    }
   ],
   "source": [
    "Trained_dict = {}\n",
    "num_model = 0\n",
    "mape_val = 10000\n",
    "for model in models_list:\n",
    "    \n",
    "    optimizer = Adam(model.parameters(), lr = lr)\n",
    "    num_model += 1\n",
    "    if num_model <= 6:\n",
    "        x, y, x_ss, y_ms, train_loader, test_loader = Prepare_df.split_data(df, 800, 60, 1, batch_size, 'mto')\n",
    "        loss_list, model = Trainer.Many_to_One(train_loader, \n",
    "                                               test_loader, \n",
    "                                               model, \n",
    "                                               criterion, \n",
    "                                               optimizer, \n",
    "                                               num_epochs, \n",
    "                                               patience,\n",
    "                                               device)\n",
    "        label_y, predicted = predict_mto(model, df, x_ss, y_ms)\n",
    "        if mape_val > mape(label_y+1, predicted):\n",
    "            mape_val = vape_val = mape(label_y+1, predicted)\n",
    "            Trained_dict['서울'] = [mape_val, model, data, lr, criterion, patience, num_layers, batch_size, hidden_size, dropout]\n",
    "        \n",
    "        \n",
    "    else:\n",
    "        x, y, x_ss, y_ms, train_loader, test_loader = Prepare_df.split_data(df, 800, 60, 7, batch_size, 'mtm')\n",
    "        loss_list, model = Trainer.Many_to_Many(train_loader, \n",
    "                                                test_loader, \n",
    "                                                model, \n",
    "                                                criterion, \n",
    "                                                optimizer, \n",
    "                                                num_epochs, \n",
    "                                                patience,\n",
    "                                                device)\n",
    "        first_label_y, first_predicted = predict_mtm(model, df, x_ss, y_ms, len(df), 7, 0.5, device)\n",
    "        if mape_val > mape(label_y+1, predicted):\n",
    "            mape_val = vape_val = mape(label_y+1, predicted)\n",
    "            Trained_dict['서울'] = [mape_val, model, data, lr, criterion, patience, num_layers, batch_size, hidden_size, dropout]\n",
    "       "
   ]
  },
  {
   "cell_type": "code",
   "execution_count": 10,
   "id": "6e2e2654",
   "metadata": {
    "ExecuteTime": {
     "end_time": "2023-05-31T04:29:38.385651Z",
     "start_time": "2023-05-31T04:29:38.375681Z"
    }
   },
   "outputs": [
    {
     "data": {
      "text/plain": [
       "0"
      ]
     },
     "execution_count": 10,
     "metadata": {},
     "output_type": "execute_result"
    }
   ],
   "source": [
    "mape_val"
   ]
  },
  {
   "cell_type": "code",
   "execution_count": null,
   "id": "6971027e",
   "metadata": {},
   "outputs": [],
   "source": []
  }
 ],
 "metadata": {
  "kernelspec": {
   "display_name": "KDA_DA",
   "language": "python",
   "name": "kda_da"
  },
  "language_info": {
   "codemirror_mode": {
    "name": "ipython",
    "version": 3
   },
   "file_extension": ".py",
   "mimetype": "text/x-python",
   "name": "python",
   "nbconvert_exporter": "python",
   "pygments_lexer": "ipython3",
   "version": "3.10.8"
  },
  "toc": {
   "base_numbering": 1,
   "nav_menu": {},
   "number_sections": true,
   "sideBar": true,
   "skip_h1_title": false,
   "title_cell": "Table of Contents",
   "title_sidebar": "Contents",
   "toc_cell": false,
   "toc_position": {},
   "toc_section_display": true,
   "toc_window_display": false
  }
 },
 "nbformat": 4,
 "nbformat_minor": 5
}
