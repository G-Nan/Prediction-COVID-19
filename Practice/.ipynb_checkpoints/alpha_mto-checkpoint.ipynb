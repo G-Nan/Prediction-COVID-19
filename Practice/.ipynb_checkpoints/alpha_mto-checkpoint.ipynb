{
 "cells": [
  {
   "cell_type": "code",
   "execution_count": 1,
   "id": "1c1c19e4",
   "metadata": {
    "ExecuteTime": {
     "end_time": "2023-06-06T12:38:27.755660Z",
     "start_time": "2023-06-06T12:38:25.494350Z"
    }
   },
   "outputs": [],
   "source": [
    "import os\n",
    "os.chdir('D:\\\\Gnan\\\\DA\\\\KMU\\\\Prediction-COVID-19')\n",
    "from utils import *\n",
    "from model import *\n",
    "from trainer import *\n",
    "\n",
    "from tqdm.notebook import tqdm\n",
    "from torch.optim.adam import Adam\n",
    "device = torch.device('cuda:0' if torch.cuda.is_available() else 'cpu')\n",
    "\n",
    "import warnings\n",
    "warnings.filterwarnings('ignore')"
   ]
  },
  {
   "cell_type": "code",
   "execution_count": 2,
   "id": "a49c067e",
   "metadata": {
    "ExecuteTime": {
     "end_time": "2023-06-06T12:38:27.864798Z",
     "start_time": "2023-06-06T12:38:27.757224Z"
    }
   },
   "outputs": [
    {
     "data": {
      "text/html": [
       "<div>\n",
       "<style scoped>\n",
       "    .dataframe tbody tr th:only-of-type {\n",
       "        vertical-align: middle;\n",
       "    }\n",
       "\n",
       "    .dataframe tbody tr th {\n",
       "        vertical-align: top;\n",
       "    }\n",
       "\n",
       "    .dataframe thead th {\n",
       "        text-align: right;\n",
       "    }\n",
       "</style>\n",
       "<table border=\"1\" class=\"dataframe\">\n",
       "  <thead>\n",
       "    <tr style=\"text-align: right;\">\n",
       "      <th></th>\n",
       "      <th>stdDay</th>\n",
       "      <th>incDec</th>\n",
       "      <th>alpha_variants</th>\n",
       "      <th>delta_variants</th>\n",
       "    </tr>\n",
       "  </thead>\n",
       "  <tbody>\n",
       "    <tr>\n",
       "      <th>0</th>\n",
       "      <td>2021-04-12</td>\n",
       "      <td>16.0</td>\n",
       "      <td>4.16</td>\n",
       "      <td>0.32</td>\n",
       "    </tr>\n",
       "    <tr>\n",
       "      <th>1</th>\n",
       "      <td>2021-04-13</td>\n",
       "      <td>9.0</td>\n",
       "      <td>2.34</td>\n",
       "      <td>0.18</td>\n",
       "    </tr>\n",
       "    <tr>\n",
       "      <th>2</th>\n",
       "      <td>2021-04-14</td>\n",
       "      <td>11.0</td>\n",
       "      <td>2.86</td>\n",
       "      <td>0.22</td>\n",
       "    </tr>\n",
       "    <tr>\n",
       "      <th>3</th>\n",
       "      <td>2021-04-15</td>\n",
       "      <td>18.0</td>\n",
       "      <td>4.68</td>\n",
       "      <td>0.36</td>\n",
       "    </tr>\n",
       "    <tr>\n",
       "      <th>4</th>\n",
       "      <td>2021-04-16</td>\n",
       "      <td>4.0</td>\n",
       "      <td>1.04</td>\n",
       "      <td>0.08</td>\n",
       "    </tr>\n",
       "    <tr>\n",
       "      <th>...</th>\n",
       "      <td>...</td>\n",
       "      <td>...</td>\n",
       "      <td>...</td>\n",
       "      <td>...</td>\n",
       "    </tr>\n",
       "    <tr>\n",
       "      <th>121</th>\n",
       "      <td>2021-08-11</td>\n",
       "      <td>66.0</td>\n",
       "      <td>0.66</td>\n",
       "      <td>62.70</td>\n",
       "    </tr>\n",
       "    <tr>\n",
       "      <th>122</th>\n",
       "      <td>2021-08-12</td>\n",
       "      <td>39.0</td>\n",
       "      <td>0.39</td>\n",
       "      <td>37.05</td>\n",
       "    </tr>\n",
       "    <tr>\n",
       "      <th>123</th>\n",
       "      <td>2021-08-13</td>\n",
       "      <td>57.0</td>\n",
       "      <td>0.57</td>\n",
       "      <td>54.15</td>\n",
       "    </tr>\n",
       "    <tr>\n",
       "      <th>124</th>\n",
       "      <td>2021-08-14</td>\n",
       "      <td>82.0</td>\n",
       "      <td>0.82</td>\n",
       "      <td>77.90</td>\n",
       "    </tr>\n",
       "    <tr>\n",
       "      <th>125</th>\n",
       "      <td>2021-08-15</td>\n",
       "      <td>57.0</td>\n",
       "      <td>0.57</td>\n",
       "      <td>54.15</td>\n",
       "    </tr>\n",
       "  </tbody>\n",
       "</table>\n",
       "<p>126 rows × 4 columns</p>\n",
       "</div>"
      ],
      "text/plain": [
       "         stdDay  incDec  alpha_variants  delta_variants\n",
       "0    2021-04-12    16.0            4.16            0.32\n",
       "1    2021-04-13     9.0            2.34            0.18\n",
       "2    2021-04-14    11.0            2.86            0.22\n",
       "3    2021-04-15    18.0            4.68            0.36\n",
       "4    2021-04-16     4.0            1.04            0.08\n",
       "..          ...     ...             ...             ...\n",
       "121  2021-08-11    66.0            0.66           62.70\n",
       "122  2021-08-12    39.0            0.39           37.05\n",
       "123  2021-08-13    57.0            0.57           54.15\n",
       "124  2021-08-14    82.0            0.82           77.90\n",
       "125  2021-08-15    57.0            0.57           54.15\n",
       "\n",
       "[126 rows x 4 columns]"
      ]
     },
     "execution_count": 2,
     "metadata": {},
     "output_type": "execute_result"
    }
   ],
   "source": [
    "path = 'Data/Variants/alpha_delta/*.csv'\n",
    "dic_files = Load_files.load_files(path, -18, -16)\n",
    "data = dic_files['대구']\n",
    "data"
   ]
  },
  {
   "cell_type": "code",
   "execution_count": 12,
   "id": "8457706a",
   "metadata": {
    "ExecuteTime": {
     "end_time": "2023-05-31T04:30:28.119295Z",
     "start_time": "2023-05-31T04:30:28.033953Z"
    }
   },
   "outputs": [
    {
     "data": {
      "text/html": [
       "<div>\n",
       "<style scoped>\n",
       "    .dataframe tbody tr th:only-of-type {\n",
       "        vertical-align: middle;\n",
       "    }\n",
       "\n",
       "    .dataframe tbody tr th {\n",
       "        vertical-align: top;\n",
       "    }\n",
       "\n",
       "    .dataframe thead th {\n",
       "        text-align: right;\n",
       "    }\n",
       "</style>\n",
       "<table border=\"1\" class=\"dataframe\">\n",
       "  <thead>\n",
       "    <tr style=\"text-align: right;\">\n",
       "      <th></th>\n",
       "      <th>Date</th>\n",
       "      <th>City</th>\n",
       "      <th>Susceptible</th>\n",
       "      <th>Infected</th>\n",
       "      <th>Dead</th>\n",
       "      <th>Recovered</th>\n",
       "      <th>alpha</th>\n",
       "      <th>beta</th>\n",
       "      <th>gamma</th>\n",
       "    </tr>\n",
       "  </thead>\n",
       "  <tbody>\n",
       "    <tr>\n",
       "      <th>0</th>\n",
       "      <td>2020-01-20</td>\n",
       "      <td>서울</td>\n",
       "      <td>9535432</td>\n",
       "      <td>0</td>\n",
       "      <td>0</td>\n",
       "      <td>0</td>\n",
       "      <td>0.000000</td>\n",
       "      <td>0.000000</td>\n",
       "      <td>0.000000</td>\n",
       "    </tr>\n",
       "    <tr>\n",
       "      <th>1</th>\n",
       "      <td>2020-01-21</td>\n",
       "      <td>서울</td>\n",
       "      <td>9535432</td>\n",
       "      <td>0</td>\n",
       "      <td>0</td>\n",
       "      <td>0</td>\n",
       "      <td>0.000000</td>\n",
       "      <td>0.000000</td>\n",
       "      <td>0.000000</td>\n",
       "    </tr>\n",
       "    <tr>\n",
       "      <th>2</th>\n",
       "      <td>2020-01-22</td>\n",
       "      <td>서울</td>\n",
       "      <td>9535432</td>\n",
       "      <td>0</td>\n",
       "      <td>0</td>\n",
       "      <td>0</td>\n",
       "      <td>0.000000</td>\n",
       "      <td>0.000000</td>\n",
       "      <td>0.000000</td>\n",
       "    </tr>\n",
       "    <tr>\n",
       "      <th>3</th>\n",
       "      <td>2020-01-23</td>\n",
       "      <td>서울</td>\n",
       "      <td>9535432</td>\n",
       "      <td>0</td>\n",
       "      <td>0</td>\n",
       "      <td>0</td>\n",
       "      <td>0.000000</td>\n",
       "      <td>0.000000</td>\n",
       "      <td>0.000000</td>\n",
       "    </tr>\n",
       "    <tr>\n",
       "      <th>4</th>\n",
       "      <td>2020-01-24</td>\n",
       "      <td>서울</td>\n",
       "      <td>9535431</td>\n",
       "      <td>1</td>\n",
       "      <td>0</td>\n",
       "      <td>0</td>\n",
       "      <td>0.000000</td>\n",
       "      <td>0.000000</td>\n",
       "      <td>0.000000</td>\n",
       "    </tr>\n",
       "    <tr>\n",
       "      <th>...</th>\n",
       "      <td>...</td>\n",
       "      <td>...</td>\n",
       "      <td>...</td>\n",
       "      <td>...</td>\n",
       "      <td>...</td>\n",
       "      <td>...</td>\n",
       "      <td>...</td>\n",
       "      <td>...</td>\n",
       "      <td>...</td>\n",
       "    </tr>\n",
       "    <tr>\n",
       "      <th>1214</th>\n",
       "      <td>2023-05-20</td>\n",
       "      <td>서울</td>\n",
       "      <td>3372946</td>\n",
       "      <td>63591</td>\n",
       "      <td>6471</td>\n",
       "      <td>6092424</td>\n",
       "      <td>0.186540</td>\n",
       "      <td>0.169175</td>\n",
       "      <td>0.000031</td>\n",
       "    </tr>\n",
       "    <tr>\n",
       "      <th>1215</th>\n",
       "      <td>2023-05-21</td>\n",
       "      <td>서울</td>\n",
       "      <td>3368750</td>\n",
       "      <td>57027</td>\n",
       "      <td>6473</td>\n",
       "      <td>6103182</td>\n",
       "      <td>0.063087</td>\n",
       "      <td>0.028793</td>\n",
       "      <td>0.000053</td>\n",
       "    </tr>\n",
       "    <tr>\n",
       "      <th>1216</th>\n",
       "      <td>2023-05-22</td>\n",
       "      <td>서울</td>\n",
       "      <td>3367479</td>\n",
       "      <td>56653</td>\n",
       "      <td>6476</td>\n",
       "      <td>6104824</td>\n",
       "      <td>0.268003</td>\n",
       "      <td>0.101407</td>\n",
       "      <td>0.000018</td>\n",
       "    </tr>\n",
       "    <tr>\n",
       "      <th>1217</th>\n",
       "      <td>2023-05-23</td>\n",
       "      <td>서울</td>\n",
       "      <td>3362117</td>\n",
       "      <td>56269</td>\n",
       "      <td>6477</td>\n",
       "      <td>6110569</td>\n",
       "      <td>0.267742</td>\n",
       "      <td>0.099895</td>\n",
       "      <td>0.000036</td>\n",
       "    </tr>\n",
       "    <tr>\n",
       "      <th>1218</th>\n",
       "      <td>2023-05-24</td>\n",
       "      <td>서울</td>\n",
       "      <td>3356805</td>\n",
       "      <td>55958</td>\n",
       "      <td>6479</td>\n",
       "      <td>6116190</td>\n",
       "      <td>0.000000</td>\n",
       "      <td>0.000000</td>\n",
       "      <td>0.000000</td>\n",
       "    </tr>\n",
       "  </tbody>\n",
       "</table>\n",
       "<p>1219 rows × 9 columns</p>\n",
       "</div>"
      ],
      "text/plain": [
       "            Date City  Susceptible  Infected  Dead  Recovered     alpha  \\\n",
       "0     2020-01-20   서울      9535432         0     0          0  0.000000   \n",
       "1     2020-01-21   서울      9535432         0     0          0  0.000000   \n",
       "2     2020-01-22   서울      9535432         0     0          0  0.000000   \n",
       "3     2020-01-23   서울      9535432         0     0          0  0.000000   \n",
       "4     2020-01-24   서울      9535431         1     0          0  0.000000   \n",
       "...          ...  ...          ...       ...   ...        ...       ...   \n",
       "1214  2023-05-20   서울      3372946     63591  6471    6092424  0.186540   \n",
       "1215  2023-05-21   서울      3368750     57027  6473    6103182  0.063087   \n",
       "1216  2023-05-22   서울      3367479     56653  6476    6104824  0.268003   \n",
       "1217  2023-05-23   서울      3362117     56269  6477    6110569  0.267742   \n",
       "1218  2023-05-24   서울      3356805     55958  6479    6116190  0.000000   \n",
       "\n",
       "          beta     gamma  \n",
       "0     0.000000  0.000000  \n",
       "1     0.000000  0.000000  \n",
       "2     0.000000  0.000000  \n",
       "3     0.000000  0.000000  \n",
       "4     0.000000  0.000000  \n",
       "...        ...       ...  \n",
       "1214  0.169175  0.000031  \n",
       "1215  0.028793  0.000053  \n",
       "1216  0.101407  0.000018  \n",
       "1217  0.099895  0.000036  \n",
       "1218  0.000000  0.000000  \n",
       "\n",
       "[1219 rows x 9 columns]"
      ]
     },
     "execution_count": 12,
     "metadata": {},
     "output_type": "execute_result"
    }
   ],
   "source": [
    "path = 'Data/SIR_Origin/*.csv'\n",
    "dic_files = Load_files.load_files(path, -17, -15)\n",
    "data = dic_files['서울']\n",
    "data"
   ]
  },
  {
   "cell_type": "code",
   "execution_count": 3,
   "id": "b1c8dda3",
   "metadata": {
    "ExecuteTime": {
     "end_time": "2023-06-06T12:38:30.303333Z",
     "start_time": "2023-06-06T12:38:30.280395Z"
    }
   },
   "outputs": [
    {
     "name": "stdout",
     "output_type": "stream",
     "text": [
      "144\n"
     ]
    }
   ],
   "source": [
    "learning_rates_list = [1e-3, 1e-4, 1e-5]\n",
    "patiences_list = [20, 50]\n",
    "num_layers_list = [1, 2, 4, 8]\n",
    "batch_sizes_list = [32, 64]\n",
    "hidden_sizes_list = [8, 16, 32]\n",
    "dropout_list = [0.25]\n",
    "\n",
    "hyperparameter_dict = {}\n",
    "i = 0\n",
    "\n",
    "for lr in learning_rates_list:\n",
    "    for patience in patiences_list:\n",
    "        for num_layers in num_layers_list:\n",
    "            for batch_sizes in batch_sizes_list:\n",
    "                for hidden_size in hidden_sizes_list:    \n",
    "                    for dropout in dropout_list:\n",
    "                        hyperparameter_dict[i] = [lr, patience, num_layers, batch_sizes, hidden_size, dropout]\n",
    "                        i += 1\n",
    "                        \n",
    "print(i)"
   ]
  },
  {
   "cell_type": "code",
   "execution_count": 5,
   "id": "6c616224",
   "metadata": {
    "ExecuteTime": {
     "end_time": "2023-06-06T12:38:58.391872Z",
     "start_time": "2023-06-06T12:38:58.370929Z"
    }
   },
   "outputs": [
    {
     "data": {
      "text/html": [
       "<style>#sk-container-id-2 {color: black;background-color: white;}#sk-container-id-2 pre{padding: 0;}#sk-container-id-2 div.sk-toggleable {background-color: white;}#sk-container-id-2 label.sk-toggleable__label {cursor: pointer;display: block;width: 100%;margin-bottom: 0;padding: 0.3em;box-sizing: border-box;text-align: center;}#sk-container-id-2 label.sk-toggleable__label-arrow:before {content: \"▸\";float: left;margin-right: 0.25em;color: #696969;}#sk-container-id-2 label.sk-toggleable__label-arrow:hover:before {color: black;}#sk-container-id-2 div.sk-estimator:hover label.sk-toggleable__label-arrow:before {color: black;}#sk-container-id-2 div.sk-toggleable__content {max-height: 0;max-width: 0;overflow: hidden;text-align: left;background-color: #f0f8ff;}#sk-container-id-2 div.sk-toggleable__content pre {margin: 0.2em;color: black;border-radius: 0.25em;background-color: #f0f8ff;}#sk-container-id-2 input.sk-toggleable__control:checked~div.sk-toggleable__content {max-height: 200px;max-width: 100%;overflow: auto;}#sk-container-id-2 input.sk-toggleable__control:checked~label.sk-toggleable__label-arrow:before {content: \"▾\";}#sk-container-id-2 div.sk-estimator input.sk-toggleable__control:checked~label.sk-toggleable__label {background-color: #d4ebff;}#sk-container-id-2 div.sk-label input.sk-toggleable__control:checked~label.sk-toggleable__label {background-color: #d4ebff;}#sk-container-id-2 input.sk-hidden--visually {border: 0;clip: rect(1px 1px 1px 1px);clip: rect(1px, 1px, 1px, 1px);height: 1px;margin: -1px;overflow: hidden;padding: 0;position: absolute;width: 1px;}#sk-container-id-2 div.sk-estimator {font-family: monospace;background-color: #f0f8ff;border: 1px dotted black;border-radius: 0.25em;box-sizing: border-box;margin-bottom: 0.5em;}#sk-container-id-2 div.sk-estimator:hover {background-color: #d4ebff;}#sk-container-id-2 div.sk-parallel-item::after {content: \"\";width: 100%;border-bottom: 1px solid gray;flex-grow: 1;}#sk-container-id-2 div.sk-label:hover label.sk-toggleable__label {background-color: #d4ebff;}#sk-container-id-2 div.sk-serial::before {content: \"\";position: absolute;border-left: 1px solid gray;box-sizing: border-box;top: 0;bottom: 0;left: 50%;z-index: 0;}#sk-container-id-2 div.sk-serial {display: flex;flex-direction: column;align-items: center;background-color: white;padding-right: 0.2em;padding-left: 0.2em;position: relative;}#sk-container-id-2 div.sk-item {position: relative;z-index: 1;}#sk-container-id-2 div.sk-parallel {display: flex;align-items: stretch;justify-content: center;background-color: white;position: relative;}#sk-container-id-2 div.sk-item::before, #sk-container-id-2 div.sk-parallel-item::before {content: \"\";position: absolute;border-left: 1px solid gray;box-sizing: border-box;top: 0;bottom: 0;left: 50%;z-index: -1;}#sk-container-id-2 div.sk-parallel-item {display: flex;flex-direction: column;z-index: 1;position: relative;background-color: white;}#sk-container-id-2 div.sk-parallel-item:first-child::after {align-self: flex-end;width: 50%;}#sk-container-id-2 div.sk-parallel-item:last-child::after {align-self: flex-start;width: 50%;}#sk-container-id-2 div.sk-parallel-item:only-child::after {width: 0;}#sk-container-id-2 div.sk-dashed-wrapped {border: 1px dashed gray;margin: 0 0.4em 0.5em 0.4em;box-sizing: border-box;padding-bottom: 0.4em;background-color: white;}#sk-container-id-2 div.sk-label label {font-family: monospace;font-weight: bold;display: inline-block;line-height: 1.2em;}#sk-container-id-2 div.sk-label-container {text-align: center;}#sk-container-id-2 div.sk-container {/* jupyter's `normalize.less` sets `[hidden] { display: none; }` but bootstrap.min.css set `[hidden] { display: none !important; }` so we also need the `!important` here to be able to override the default hidden behavior on the sphinx rendered scikit-learn.org. See: https://github.com/scikit-learn/scikit-learn/issues/21755 */display: inline-block !important;position: relative;}#sk-container-id-2 div.sk-text-repr-fallback {display: none;}</style><div id=\"sk-container-id-2\" class=\"sk-top-container\"><div class=\"sk-text-repr-fallback\"><pre>MinMaxScaler()</pre><b>In a Jupyter environment, please rerun this cell to show the HTML representation or trust the notebook. <br />On GitHub, the HTML representation is unable to render, please try loading this page with nbviewer.org.</b></div><div class=\"sk-container\" hidden><div class=\"sk-item\"><div class=\"sk-estimator sk-toggleable\"><input class=\"sk-toggleable__control sk-hidden--visually\" id=\"sk-estimator-id-2\" type=\"checkbox\" checked><label for=\"sk-estimator-id-2\" class=\"sk-toggleable__label sk-toggleable__label-arrow\">MinMaxScaler</label><div class=\"sk-toggleable__content\"><pre>MinMaxScaler()</pre></div></div></div></div></div>"
      ],
      "text/plain": [
       "MinMaxScaler()"
      ]
     },
     "execution_count": 5,
     "metadata": {},
     "output_type": "execute_result"
    }
   ],
   "source": [
    "criterion = nn.MSELoss()\n",
    "\n",
    "input_size = 3\n",
    "sequence_length = 60\n",
    "num_epochs = 10000\n",
    "\n",
    "df = Prepare_df.processing(data, 'stdDay', 'alpha_variants')\n",
    "\n",
    "x = df.iloc[:, 0:]\n",
    "y = df.iloc[:,:1]\n",
    "\n",
    "ms = MinMaxScaler()\n",
    "ss = StandardScaler()\n",
    "\n",
    "ss.fit(x)\n",
    "ms.fit(y)"
   ]
  },
  {
   "cell_type": "code",
   "execution_count": 6,
   "id": "dc7a5b94",
   "metadata": {
    "ExecuteTime": {
     "end_time": "2023-06-06T12:42:55.297574Z",
     "start_time": "2023-06-06T12:41:52.275495Z"
    }
   },
   "outputs": [
    {
     "data": {
      "application/vnd.jupyter.widget-view+json": {
       "model_id": "9e5551ca1a5f479ab916b7442502a139",
       "version_major": 2,
       "version_minor": 0
      },
      "text/plain": [
       "대구_RNN:   0%|          | 0/144 [00:00<?, ?it/s]"
      ]
     },
     "metadata": {},
     "output_type": "display_data"
    },
    {
     "name": "stdout",
     "output_type": "stream",
     "text": [
      "-------------------------------------------------------------------------------------\n",
      "lr: 0.001  patience: 20  num_layers: 1  batch_size: 32  hidden_size: 8  dropout: 0.25\n"
     ]
    },
    {
     "data": {
      "application/vnd.jupyter.widget-view+json": {
       "model_id": "19dd7181da174343a2413a44f7cc5ce5",
       "version_major": 2,
       "version_minor": 0
      },
      "text/plain": [
       "  0%|          | 0/10000 [00:00<?, ?it/s]"
      ]
     },
     "metadata": {},
     "output_type": "display_data"
    },
    {
     "name": "stdout",
     "output_type": "stream",
     "text": [
      "\n",
      " Early Stopping / epoch: 259 loss: 0.0000\n",
      "-------------------------------------------------------------------------------------\n",
      "lr: 0.001  patience: 20  num_layers: 1  batch_size: 32  hidden_size: 16  dropout: 0.25\n"
     ]
    },
    {
     "data": {
      "application/vnd.jupyter.widget-view+json": {
       "model_id": "b2a2054219064636ab47203dc1f4ea3b",
       "version_major": 2,
       "version_minor": 0
      },
      "text/plain": [
       "  0%|          | 0/10000 [00:00<?, ?it/s]"
      ]
     },
     "metadata": {},
     "output_type": "display_data"
    },
    {
     "name": "stdout",
     "output_type": "stream",
     "text": [
      "\n",
      " Early Stopping / epoch: 280 loss: 0.0000\n",
      "-------------------------------------------------------------------------------------\n",
      "lr: 0.001  patience: 20  num_layers: 1  batch_size: 32  hidden_size: 32  dropout: 0.25\n"
     ]
    },
    {
     "data": {
      "application/vnd.jupyter.widget-view+json": {
       "model_id": "213021f7d5ae4e5194b0632c1f1b41a1",
       "version_major": 2,
       "version_minor": 0
      },
      "text/plain": [
       "  0%|          | 0/10000 [00:00<?, ?it/s]"
      ]
     },
     "metadata": {},
     "output_type": "display_data"
    },
    {
     "name": "stdout",
     "output_type": "stream",
     "text": [
      "\n",
      " Early Stopping / epoch: 220 loss: 0.0000\n",
      "-------------------------------------------------------------------------------------\n",
      "lr: 0.001  patience: 20  num_layers: 1  batch_size: 64  hidden_size: 8  dropout: 0.25\n"
     ]
    },
    {
     "data": {
      "application/vnd.jupyter.widget-view+json": {
       "model_id": "d8337d1a37e547459d37b5342f1091ac",
       "version_major": 2,
       "version_minor": 0
      },
      "text/plain": [
       "  0%|          | 0/10000 [00:00<?, ?it/s]"
      ]
     },
     "metadata": {},
     "output_type": "display_data"
    },
    {
     "name": "stdout",
     "output_type": "stream",
     "text": [
      "\n",
      " Early Stopping / epoch: 552 loss: 0.0000\n",
      "-------------------------------------------------------------------------------------\n",
      "lr: 0.001  patience: 20  num_layers: 1  batch_size: 64  hidden_size: 16  dropout: 0.25\n"
     ]
    },
    {
     "data": {
      "application/vnd.jupyter.widget-view+json": {
       "model_id": "96303001bd9c48c6920dcc396b3e59ff",
       "version_major": 2,
       "version_minor": 0
      },
      "text/plain": [
       "  0%|          | 0/10000 [00:00<?, ?it/s]"
      ]
     },
     "metadata": {},
     "output_type": "display_data"
    },
    {
     "name": "stdout",
     "output_type": "stream",
     "text": [
      "\n",
      " Early Stopping / epoch: 329 loss: 0.0000\n",
      "-------------------------------------------------------------------------------------\n",
      "lr: 0.001  patience: 20  num_layers: 1  batch_size: 64  hidden_size: 32  dropout: 0.25\n"
     ]
    },
    {
     "data": {
      "application/vnd.jupyter.widget-view+json": {
       "model_id": "2e3d2906dc4a47b0bd37097a5d038da1",
       "version_major": 2,
       "version_minor": 0
      },
      "text/plain": [
       "  0%|          | 0/10000 [00:00<?, ?it/s]"
      ]
     },
     "metadata": {},
     "output_type": "display_data"
    },
    {
     "name": "stdout",
     "output_type": "stream",
     "text": [
      "\n",
      " Early Stopping / epoch: 381 loss: 0.0000\n",
      "-------------------------------------------------------------------------------------\n",
      "lr: 0.001  patience: 20  num_layers: 2  batch_size: 32  hidden_size: 8  dropout: 0.25\n"
     ]
    },
    {
     "data": {
      "application/vnd.jupyter.widget-view+json": {
       "model_id": "75a35d5736e84ee5a197fa7c9da4f56c",
       "version_major": 2,
       "version_minor": 0
      },
      "text/plain": [
       "  0%|          | 0/10000 [00:00<?, ?it/s]"
      ]
     },
     "metadata": {},
     "output_type": "display_data"
    },
    {
     "name": "stdout",
     "output_type": "stream",
     "text": [
      "\n",
      " Early Stopping / epoch: 82 loss: 0.0001\n",
      "-------------------------------------------------------------------------------------\n",
      "lr: 0.001  patience: 20  num_layers: 2  batch_size: 32  hidden_size: 16  dropout: 0.25\n"
     ]
    },
    {
     "data": {
      "application/vnd.jupyter.widget-view+json": {
       "model_id": "6000e9b952c24459ba794df0c3205821",
       "version_major": 2,
       "version_minor": 0
      },
      "text/plain": [
       "  0%|          | 0/10000 [00:00<?, ?it/s]"
      ]
     },
     "metadata": {},
     "output_type": "display_data"
    },
    {
     "name": "stdout",
     "output_type": "stream",
     "text": [
      "\n",
      " Early Stopping / epoch: 112 loss: 0.0001\n",
      "-------------------------------------------------------------------------------------\n",
      "lr: 0.001  patience: 20  num_layers: 2  batch_size: 32  hidden_size: 32  dropout: 0.25\n"
     ]
    },
    {
     "data": {
      "application/vnd.jupyter.widget-view+json": {
       "model_id": "92b77305c459401caab90f3a3eeb8dbc",
       "version_major": 2,
       "version_minor": 0
      },
      "text/plain": [
       "  0%|          | 0/10000 [00:00<?, ?it/s]"
      ]
     },
     "metadata": {},
     "output_type": "display_data"
    },
    {
     "name": "stdout",
     "output_type": "stream",
     "text": [
      "\n",
      " Early Stopping / epoch: 154 loss: 0.0000\n",
      "-------------------------------------------------------------------------------------\n",
      "lr: 0.001  patience: 20  num_layers: 2  batch_size: 64  hidden_size: 8  dropout: 0.25\n"
     ]
    },
    {
     "data": {
      "application/vnd.jupyter.widget-view+json": {
       "model_id": "62460e24df2448548bf265034d98bb91",
       "version_major": 2,
       "version_minor": 0
      },
      "text/plain": [
       "  0%|          | 0/10000 [00:00<?, ?it/s]"
      ]
     },
     "metadata": {},
     "output_type": "display_data"
    },
    {
     "name": "stdout",
     "output_type": "stream",
     "text": [
      "\n",
      " Early Stopping / epoch: 152 loss: 0.0001\n",
      "-------------------------------------------------------------------------------------\n",
      "lr: 0.001  patience: 20  num_layers: 2  batch_size: 64  hidden_size: 16  dropout: 0.25\n"
     ]
    },
    {
     "data": {
      "application/vnd.jupyter.widget-view+json": {
       "model_id": "5908b790e2f54d6bbeae483f5eac5ae1",
       "version_major": 2,
       "version_minor": 0
      },
      "text/plain": [
       "  0%|          | 0/10000 [00:00<?, ?it/s]"
      ]
     },
     "metadata": {},
     "output_type": "display_data"
    },
    {
     "name": "stdout",
     "output_type": "stream",
     "text": [
      "\n",
      " Early Stopping / epoch: 216 loss: 0.0000\n",
      "-------------------------------------------------------------------------------------\n",
      "lr: 0.001  patience: 20  num_layers: 2  batch_size: 64  hidden_size: 32  dropout: 0.25\n"
     ]
    },
    {
     "data": {
      "application/vnd.jupyter.widget-view+json": {
       "model_id": "9ef301af579a44f38ce4f12393f8a024",
       "version_major": 2,
       "version_minor": 0
      },
      "text/plain": [
       "  0%|          | 0/10000 [00:00<?, ?it/s]"
      ]
     },
     "metadata": {},
     "output_type": "display_data"
    },
    {
     "name": "stdout",
     "output_type": "stream",
     "text": [
      "\n",
      " Early Stopping / epoch: 151 loss: 0.0000\n",
      "-------------------------------------------------------------------------------------\n",
      "lr: 0.001  patience: 20  num_layers: 4  batch_size: 32  hidden_size: 8  dropout: 0.25\n"
     ]
    },
    {
     "data": {
      "application/vnd.jupyter.widget-view+json": {
       "model_id": "7f8442da553d4dea995a24398af03d3d",
       "version_major": 2,
       "version_minor": 0
      },
      "text/plain": [
       "  0%|          | 0/10000 [00:00<?, ?it/s]"
      ]
     },
     "metadata": {},
     "output_type": "display_data"
    },
    {
     "name": "stdout",
     "output_type": "stream",
     "text": [
      "\n",
      " Early Stopping / epoch: 244 loss: 0.0001\n",
      "-------------------------------------------------------------------------------------\n",
      "lr: 0.001  patience: 20  num_layers: 4  batch_size: 32  hidden_size: 16  dropout: 0.25\n"
     ]
    },
    {
     "data": {
      "application/vnd.jupyter.widget-view+json": {
       "model_id": "fe439f821f6d4fc3abb594e314afb44a",
       "version_major": 2,
       "version_minor": 0
      },
      "text/plain": [
       "  0%|          | 0/10000 [00:00<?, ?it/s]"
      ]
     },
     "metadata": {},
     "output_type": "display_data"
    },
    {
     "name": "stdout",
     "output_type": "stream",
     "text": [
      "\n",
      " Early Stopping / epoch: 212 loss: 0.0001\n",
      "-------------------------------------------------------------------------------------\n",
      "lr: 0.001  patience: 20  num_layers: 4  batch_size: 32  hidden_size: 32  dropout: 0.25\n"
     ]
    },
    {
     "data": {
      "application/vnd.jupyter.widget-view+json": {
       "model_id": "efbd9b8661664921a411da5922443b4f",
       "version_major": 2,
       "version_minor": 0
      },
      "text/plain": [
       "  0%|          | 0/10000 [00:00<?, ?it/s]"
      ]
     },
     "metadata": {},
     "output_type": "display_data"
    },
    {
     "name": "stdout",
     "output_type": "stream",
     "text": [
      "\n",
      " Early Stopping / epoch: 115 loss: 0.0001\n",
      "-------------------------------------------------------------------------------------\n",
      "lr: 0.001  patience: 20  num_layers: 4  batch_size: 64  hidden_size: 8  dropout: 0.25\n"
     ]
    },
    {
     "data": {
      "application/vnd.jupyter.widget-view+json": {
       "model_id": "f588fdfa651c473081752e1855b2238a",
       "version_major": 2,
       "version_minor": 0
      },
      "text/plain": [
       "  0%|          | 0/10000 [00:00<?, ?it/s]"
      ]
     },
     "metadata": {},
     "output_type": "display_data"
    },
    {
     "name": "stdout",
     "output_type": "stream",
     "text": [
      "\n",
      " Early Stopping / epoch: 156 loss: 0.0007\n",
      "-------------------------------------------------------------------------------------\n",
      "lr: 0.001  patience: 20  num_layers: 4  batch_size: 64  hidden_size: 16  dropout: 0.25\n"
     ]
    },
    {
     "data": {
      "application/vnd.jupyter.widget-view+json": {
       "model_id": "326129e614a44f96a30c5542188d4f85",
       "version_major": 2,
       "version_minor": 0
      },
      "text/plain": [
       "  0%|          | 0/10000 [00:00<?, ?it/s]"
      ]
     },
     "metadata": {},
     "output_type": "display_data"
    },
    {
     "name": "stdout",
     "output_type": "stream",
     "text": [
      "\n",
      " Early Stopping / epoch: 37 loss: 0.0017\n",
      "-------------------------------------------------------------------------------------\n",
      "lr: 0.001  patience: 20  num_layers: 4  batch_size: 64  hidden_size: 32  dropout: 0.25\n"
     ]
    },
    {
     "data": {
      "application/vnd.jupyter.widget-view+json": {
       "model_id": "857f5c03dc1f4f25925ab8fc48893a0f",
       "version_major": 2,
       "version_minor": 0
      },
      "text/plain": [
       "  0%|          | 0/10000 [00:00<?, ?it/s]"
      ]
     },
     "metadata": {},
     "output_type": "display_data"
    },
    {
     "name": "stdout",
     "output_type": "stream",
     "text": [
      "\n",
      " Early Stopping / epoch: 125 loss: 0.0001\n",
      "-------------------------------------------------------------------------------------\n",
      "lr: 0.001  patience: 20  num_layers: 8  batch_size: 32  hidden_size: 8  dropout: 0.25\n"
     ]
    },
    {
     "data": {
      "application/vnd.jupyter.widget-view+json": {
       "model_id": "04b3a0526e9d46dd80f48148517e41bd",
       "version_major": 2,
       "version_minor": 0
      },
      "text/plain": [
       "  0%|          | 0/10000 [00:00<?, ?it/s]"
      ]
     },
     "metadata": {},
     "output_type": "display_data"
    },
    {
     "name": "stdout",
     "output_type": "stream",
     "text": [
      "\n",
      " Early Stopping / epoch: 63 loss: 0.0017\n",
      "-------------------------------------------------------------------------------------\n",
      "lr: 0.001  patience: 20  num_layers: 8  batch_size: 32  hidden_size: 16  dropout: 0.25\n"
     ]
    },
    {
     "data": {
      "application/vnd.jupyter.widget-view+json": {
       "model_id": "5b4a5a09105c4d3fa2cdb2b945668332",
       "version_major": 2,
       "version_minor": 0
      },
      "text/plain": [
       "  0%|          | 0/10000 [00:00<?, ?it/s]"
      ]
     },
     "metadata": {},
     "output_type": "display_data"
    },
    {
     "name": "stdout",
     "output_type": "stream",
     "text": [
      "\n",
      " Early Stopping / epoch: 54 loss: 0.0018\n",
      "-------------------------------------------------------------------------------------\n",
      "lr: 0.001  patience: 20  num_layers: 8  batch_size: 32  hidden_size: 32  dropout: 0.25\n"
     ]
    },
    {
     "data": {
      "application/vnd.jupyter.widget-view+json": {
       "model_id": "38aa672813fa4003905a205081bc6620",
       "version_major": 2,
       "version_minor": 0
      },
      "text/plain": [
       "  0%|          | 0/10000 [00:00<?, ?it/s]"
      ]
     },
     "metadata": {},
     "output_type": "display_data"
    },
    {
     "name": "stdout",
     "output_type": "stream",
     "text": [
      "\n",
      " Early Stopping / epoch: 174 loss: 0.0000\n",
      "-------------------------------------------------------------------------------------\n",
      "lr: 0.001  patience: 20  num_layers: 8  batch_size: 64  hidden_size: 8  dropout: 0.25\n"
     ]
    },
    {
     "data": {
      "application/vnd.jupyter.widget-view+json": {
       "model_id": "541bbd56715745dbb5208f700040ed2c",
       "version_major": 2,
       "version_minor": 0
      },
      "text/plain": [
       "  0%|          | 0/10000 [00:00<?, ?it/s]"
      ]
     },
     "metadata": {},
     "output_type": "display_data"
    },
    {
     "name": "stdout",
     "output_type": "stream",
     "text": [
      "\n",
      " Early Stopping / epoch: 24 loss: 0.0021\n",
      "-------------------------------------------------------------------------------------\n",
      "lr: 0.001  patience: 20  num_layers: 8  batch_size: 64  hidden_size: 16  dropout: 0.25\n"
     ]
    },
    {
     "data": {
      "application/vnd.jupyter.widget-view+json": {
       "model_id": "4cf1af94587c45579663da71c35e74c0",
       "version_major": 2,
       "version_minor": 0
      },
      "text/plain": [
       "  0%|          | 0/10000 [00:00<?, ?it/s]"
      ]
     },
     "metadata": {},
     "output_type": "display_data"
    },
    {
     "name": "stdout",
     "output_type": "stream",
     "text": [
      "\n",
      " Early Stopping / epoch: 64 loss: 0.0018\n",
      "-------------------------------------------------------------------------------------\n",
      "lr: 0.001  patience: 20  num_layers: 8  batch_size: 64  hidden_size: 32  dropout: 0.25\n"
     ]
    },
    {
     "data": {
      "application/vnd.jupyter.widget-view+json": {
       "model_id": "1378ceb1fb0442ca88c28a39461616dc",
       "version_major": 2,
       "version_minor": 0
      },
      "text/plain": [
       "  0%|          | 0/10000 [00:00<?, ?it/s]"
      ]
     },
     "metadata": {},
     "output_type": "display_data"
    },
    {
     "name": "stdout",
     "output_type": "stream",
     "text": [
      "\n",
      " Early Stopping / epoch: 319 loss: 0.0001\n",
      "-------------------------------------------------------------------------------------\n",
      "lr: 0.001  patience: 50  num_layers: 1  batch_size: 32  hidden_size: 8  dropout: 0.25\n"
     ]
    },
    {
     "data": {
      "application/vnd.jupyter.widget-view+json": {
       "model_id": "8a7af28dcffa4bc0bd12cc35e72d2ee8",
       "version_major": 2,
       "version_minor": 0
      },
      "text/plain": [
       "  0%|          | 0/10000 [00:00<?, ?it/s]"
      ]
     },
     "metadata": {},
     "output_type": "display_data"
    },
    {
     "name": "stdout",
     "output_type": "stream",
     "text": [
      "\n",
      " Early Stopping / epoch: 235 loss: 0.0000\n",
      "-------------------------------------------------------------------------------------\n",
      "lr: 0.001  patience: 50  num_layers: 1  batch_size: 32  hidden_size: 16  dropout: 0.25\n"
     ]
    },
    {
     "data": {
      "application/vnd.jupyter.widget-view+json": {
       "model_id": "2deb7751ab844d78811f3440e3f15ca4",
       "version_major": 2,
       "version_minor": 0
      },
      "text/plain": [
       "  0%|          | 0/10000 [00:00<?, ?it/s]"
      ]
     },
     "metadata": {},
     "output_type": "display_data"
    },
    {
     "name": "stdout",
     "output_type": "stream",
     "text": [
      "\n",
      " Early Stopping / epoch: 266 loss: 0.0000\n",
      "-------------------------------------------------------------------------------------\n",
      "lr: 0.001  patience: 50  num_layers: 1  batch_size: 32  hidden_size: 32  dropout: 0.25\n"
     ]
    },
    {
     "data": {
      "application/vnd.jupyter.widget-view+json": {
       "model_id": "e82c88b8785545ba92c1001ae4b72085",
       "version_major": 2,
       "version_minor": 0
      },
      "text/plain": [
       "  0%|          | 0/10000 [00:00<?, ?it/s]"
      ]
     },
     "metadata": {},
     "output_type": "display_data"
    },
    {
     "name": "stdout",
     "output_type": "stream",
     "text": [
      "\n",
      " Early Stopping / epoch: 319 loss: 0.0000\n",
      "-------------------------------------------------------------------------------------\n",
      "lr: 0.001  patience: 50  num_layers: 1  batch_size: 64  hidden_size: 8  dropout: 0.25\n"
     ]
    },
    {
     "data": {
      "application/vnd.jupyter.widget-view+json": {
       "model_id": "64837a7a52c94569b585acd456f71be4",
       "version_major": 2,
       "version_minor": 0
      },
      "text/plain": [
       "  0%|          | 0/10000 [00:00<?, ?it/s]"
      ]
     },
     "metadata": {},
     "output_type": "display_data"
    },
    {
     "name": "stdout",
     "output_type": "stream",
     "text": [
      "\n",
      " Early Stopping / epoch: 709 loss: 0.0000\n",
      "-------------------------------------------------------------------------------------\n",
      "lr: 0.001  patience: 50  num_layers: 1  batch_size: 64  hidden_size: 16  dropout: 0.25\n"
     ]
    },
    {
     "data": {
      "application/vnd.jupyter.widget-view+json": {
       "model_id": "01acfb0f0ed3457ab80500bebc254544",
       "version_major": 2,
       "version_minor": 0
      },
      "text/plain": [
       "  0%|          | 0/10000 [00:00<?, ?it/s]"
      ]
     },
     "metadata": {},
     "output_type": "display_data"
    },
    {
     "name": "stdout",
     "output_type": "stream",
     "text": [
      "\n",
      " Early Stopping / epoch: 595 loss: 0.0000\n",
      "-------------------------------------------------------------------------------------\n",
      "lr: 0.001  patience: 50  num_layers: 1  batch_size: 64  hidden_size: 32  dropout: 0.25\n"
     ]
    },
    {
     "data": {
      "application/vnd.jupyter.widget-view+json": {
       "model_id": "671636ed24c5434d98e85747cecb94c5",
       "version_major": 2,
       "version_minor": 0
      },
      "text/plain": [
       "  0%|          | 0/10000 [00:00<?, ?it/s]"
      ]
     },
     "metadata": {},
     "output_type": "display_data"
    },
    {
     "name": "stdout",
     "output_type": "stream",
     "text": [
      "\n",
      " Early Stopping / epoch: 502 loss: 0.0000\n",
      "-------------------------------------------------------------------------------------\n",
      "lr: 0.001  patience: 50  num_layers: 2  batch_size: 32  hidden_size: 8  dropout: 0.25\n"
     ]
    },
    {
     "data": {
      "application/vnd.jupyter.widget-view+json": {
       "model_id": "ec5f276a5daa4867bc329f4134aad4f5",
       "version_major": 2,
       "version_minor": 0
      },
      "text/plain": [
       "  0%|          | 0/10000 [00:00<?, ?it/s]"
      ]
     },
     "metadata": {},
     "output_type": "display_data"
    },
    {
     "name": "stdout",
     "output_type": "stream",
     "text": [
      "\n",
      " Early Stopping / epoch: 276 loss: 0.0001\n",
      "-------------------------------------------------------------------------------------\n",
      "lr: 0.001  patience: 50  num_layers: 2  batch_size: 32  hidden_size: 16  dropout: 0.25\n"
     ]
    },
    {
     "data": {
      "application/vnd.jupyter.widget-view+json": {
       "model_id": "aadf5bb87ff446c790a4a195ac581420",
       "version_major": 2,
       "version_minor": 0
      },
      "text/plain": [
       "  0%|          | 0/10000 [00:00<?, ?it/s]"
      ]
     },
     "metadata": {},
     "output_type": "display_data"
    },
    {
     "name": "stdout",
     "output_type": "stream",
     "text": [
      "\n",
      " Early Stopping / epoch: 259 loss: 0.0000\n",
      "-------------------------------------------------------------------------------------\n",
      "lr: 0.001  patience: 50  num_layers: 2  batch_size: 32  hidden_size: 32  dropout: 0.25\n"
     ]
    },
    {
     "data": {
      "application/vnd.jupyter.widget-view+json": {
       "model_id": "6803cde21cb14d5590c1dea3e132fad3",
       "version_major": 2,
       "version_minor": 0
      },
      "text/plain": [
       "  0%|          | 0/10000 [00:00<?, ?it/s]"
      ]
     },
     "metadata": {},
     "output_type": "display_data"
    },
    {
     "name": "stdout",
     "output_type": "stream",
     "text": [
      "\n",
      " Early Stopping / epoch: 375 loss: 0.0000\n",
      "-------------------------------------------------------------------------------------\n",
      "lr: 0.001  patience: 50  num_layers: 2  batch_size: 64  hidden_size: 8  dropout: 0.25\n"
     ]
    },
    {
     "data": {
      "application/vnd.jupyter.widget-view+json": {
       "model_id": "3a2228d91c1f4a739ab8dff8cd966705",
       "version_major": 2,
       "version_minor": 0
      },
      "text/plain": [
       "  0%|          | 0/10000 [00:00<?, ?it/s]"
      ]
     },
     "metadata": {},
     "output_type": "display_data"
    },
    {
     "name": "stdout",
     "output_type": "stream",
     "text": [
      "\n",
      " Early Stopping / epoch: 352 loss: 0.0000\n",
      "-------------------------------------------------------------------------------------\n",
      "lr: 0.001  patience: 50  num_layers: 2  batch_size: 64  hidden_size: 16  dropout: 0.25\n"
     ]
    },
    {
     "data": {
      "application/vnd.jupyter.widget-view+json": {
       "model_id": "49a7a4e11b02486395ac9a5497f6fcff",
       "version_major": 2,
       "version_minor": 0
      },
      "text/plain": [
       "  0%|          | 0/10000 [00:00<?, ?it/s]"
      ]
     },
     "metadata": {},
     "output_type": "display_data"
    },
    {
     "name": "stdout",
     "output_type": "stream",
     "text": [
      "\n",
      " Early Stopping / epoch: 314 loss: 0.0000\n",
      "-------------------------------------------------------------------------------------\n",
      "lr: 0.001  patience: 50  num_layers: 2  batch_size: 64  hidden_size: 32  dropout: 0.25\n"
     ]
    },
    {
     "data": {
      "application/vnd.jupyter.widget-view+json": {
       "model_id": "95cd2ac49756467987e910d5f344edbb",
       "version_major": 2,
       "version_minor": 0
      },
      "text/plain": [
       "  0%|          | 0/10000 [00:00<?, ?it/s]"
      ]
     },
     "metadata": {},
     "output_type": "display_data"
    },
    {
     "name": "stdout",
     "output_type": "stream",
     "text": [
      "\n",
      " Early Stopping / epoch: 359 loss: 0.0000\n",
      "-------------------------------------------------------------------------------------\n",
      "lr: 0.001  patience: 50  num_layers: 4  batch_size: 32  hidden_size: 8  dropout: 0.25\n"
     ]
    },
    {
     "data": {
      "application/vnd.jupyter.widget-view+json": {
       "model_id": "04615285269a4f6ea027afda9d5c2970",
       "version_major": 2,
       "version_minor": 0
      },
      "text/plain": [
       "  0%|          | 0/10000 [00:00<?, ?it/s]"
      ]
     },
     "metadata": {},
     "output_type": "display_data"
    },
    {
     "ename": "KeyboardInterrupt",
     "evalue": "",
     "output_type": "error",
     "traceback": [
      "\u001b[1;31m---------------------------------------------------------------------------\u001b[0m",
      "\u001b[1;31mKeyboardInterrupt\u001b[0m                         Traceback (most recent call last)",
      "Cell \u001b[1;32mIn[6], line 70\u001b[0m\n\u001b[0;32m     61\u001b[0m     model \u001b[38;5;241m=\u001b[39m BiGRU(input_size \u001b[38;5;241m=\u001b[39m input_size,\n\u001b[0;32m     62\u001b[0m                   hidden_size \u001b[38;5;241m=\u001b[39m hidden_size,\n\u001b[0;32m     63\u001b[0m                   sequence_length \u001b[38;5;241m=\u001b[39m sequence_length,\n\u001b[0;32m     64\u001b[0m                   num_layers \u001b[38;5;241m=\u001b[39m num_layers, \n\u001b[0;32m     65\u001b[0m                   dropout \u001b[38;5;241m=\u001b[39m dropout, \n\u001b[0;32m     66\u001b[0m                   device \u001b[38;5;241m=\u001b[39m device)\u001b[38;5;241m.\u001b[39mto(device)\n\u001b[0;32m     68\u001b[0m optimizer \u001b[38;5;241m=\u001b[39m Adam(model\u001b[38;5;241m.\u001b[39mparameters(), lr \u001b[38;5;241m=\u001b[39m lr)\n\u001b[1;32m---> 70\u001b[0m loss_list, model, epoch \u001b[38;5;241m=\u001b[39m \u001b[43mTrainer\u001b[49m\u001b[38;5;241;43m.\u001b[39;49m\u001b[43mMany_to_One\u001b[49m\u001b[43m(\u001b[49m\u001b[43mtrain_loader\u001b[49m\u001b[43m,\u001b[49m\u001b[43m \u001b[49m\n\u001b[0;32m     71\u001b[0m \u001b[43m                                              \u001b[49m\u001b[43mtest_loader\u001b[49m\u001b[43m,\u001b[49m\u001b[43m \u001b[49m\n\u001b[0;32m     72\u001b[0m \u001b[43m                                              \u001b[49m\u001b[43mmodel\u001b[49m\u001b[43m,\u001b[49m\u001b[43m \u001b[49m\n\u001b[0;32m     73\u001b[0m \u001b[43m                                              \u001b[49m\u001b[43mcriterion\u001b[49m\u001b[43m,\u001b[49m\u001b[43m \u001b[49m\n\u001b[0;32m     74\u001b[0m \u001b[43m                                              \u001b[49m\u001b[43moptimizer\u001b[49m\u001b[43m,\u001b[49m\u001b[43m \u001b[49m\n\u001b[0;32m     75\u001b[0m \u001b[43m                                              \u001b[49m\u001b[43mnum_epochs\u001b[49m\u001b[43m,\u001b[49m\u001b[43m \u001b[49m\n\u001b[0;32m     76\u001b[0m \u001b[43m                                              \u001b[49m\u001b[43mpatience\u001b[49m\u001b[43m,\u001b[49m\n\u001b[0;32m     77\u001b[0m \u001b[43m                                              \u001b[49m\u001b[43mdevice\u001b[49m\u001b[43m)\u001b[49m\n\u001b[0;32m     79\u001b[0m label_y, predicted \u001b[38;5;241m=\u001b[39m predict_mto(model, df, x_ss, y_ms)\n\u001b[0;32m     81\u001b[0m \u001b[38;5;28;01mif\u001b[39;00m rmse_min \u001b[38;5;241m>\u001b[39m rmse(label_y[\u001b[38;5;241m-\u001b[39m\u001b[38;5;241m7\u001b[39m:], predicted[\u001b[38;5;241m-\u001b[39m\u001b[38;5;241m7\u001b[39m:]):\n",
      "File \u001b[1;32mD:\\Gnan\\DA\\KMU\\Prediction-COVID-19\\trainer.py:40\u001b[0m, in \u001b[0;36mTrainer.Many_to_One\u001b[1;34m(train_loader, test_loader, model, criterion, optimizer, num_epochs, patience, device)\u001b[0m\n\u001b[0;32m     37\u001b[0m loss \u001b[38;5;241m=\u001b[39m criterion(out, target)\n\u001b[0;32m     39\u001b[0m optimizer\u001b[38;5;241m.\u001b[39mzero_grad()\n\u001b[1;32m---> 40\u001b[0m \u001b[43mloss\u001b[49m\u001b[38;5;241;43m.\u001b[39;49m\u001b[43mbackward\u001b[49m\u001b[43m(\u001b[49m\u001b[43m)\u001b[49m\n\u001b[0;32m     41\u001b[0m optimizer\u001b[38;5;241m.\u001b[39mstep()\n\u001b[0;32m     42\u001b[0m running_loss \u001b[38;5;241m+\u001b[39m\u001b[38;5;241m=\u001b[39m loss\u001b[38;5;241m.\u001b[39mitem()\n",
      "File \u001b[1;32m~\\anaconda3\\envs\\KMU_DA\\lib\\site-packages\\torch\\_tensor.py:396\u001b[0m, in \u001b[0;36mTensor.backward\u001b[1;34m(self, gradient, retain_graph, create_graph, inputs)\u001b[0m\n\u001b[0;32m    387\u001b[0m \u001b[38;5;28;01mif\u001b[39;00m has_torch_function_unary(\u001b[38;5;28mself\u001b[39m):\n\u001b[0;32m    388\u001b[0m     \u001b[38;5;28;01mreturn\u001b[39;00m handle_torch_function(\n\u001b[0;32m    389\u001b[0m         Tensor\u001b[38;5;241m.\u001b[39mbackward,\n\u001b[0;32m    390\u001b[0m         (\u001b[38;5;28mself\u001b[39m,),\n\u001b[1;32m   (...)\u001b[0m\n\u001b[0;32m    394\u001b[0m         create_graph\u001b[38;5;241m=\u001b[39mcreate_graph,\n\u001b[0;32m    395\u001b[0m         inputs\u001b[38;5;241m=\u001b[39minputs)\n\u001b[1;32m--> 396\u001b[0m \u001b[43mtorch\u001b[49m\u001b[38;5;241;43m.\u001b[39;49m\u001b[43mautograd\u001b[49m\u001b[38;5;241;43m.\u001b[39;49m\u001b[43mbackward\u001b[49m\u001b[43m(\u001b[49m\u001b[38;5;28;43mself\u001b[39;49m\u001b[43m,\u001b[49m\u001b[43m \u001b[49m\u001b[43mgradient\u001b[49m\u001b[43m,\u001b[49m\u001b[43m \u001b[49m\u001b[43mretain_graph\u001b[49m\u001b[43m,\u001b[49m\u001b[43m \u001b[49m\u001b[43mcreate_graph\u001b[49m\u001b[43m,\u001b[49m\u001b[43m \u001b[49m\u001b[43minputs\u001b[49m\u001b[38;5;241;43m=\u001b[39;49m\u001b[43minputs\u001b[49m\u001b[43m)\u001b[49m\n",
      "File \u001b[1;32m~\\anaconda3\\envs\\KMU_DA\\lib\\site-packages\\torch\\autograd\\__init__.py:173\u001b[0m, in \u001b[0;36mbackward\u001b[1;34m(tensors, grad_tensors, retain_graph, create_graph, grad_variables, inputs)\u001b[0m\n\u001b[0;32m    168\u001b[0m     retain_graph \u001b[38;5;241m=\u001b[39m create_graph\n\u001b[0;32m    170\u001b[0m \u001b[38;5;66;03m# The reason we repeat same the comment below is that\u001b[39;00m\n\u001b[0;32m    171\u001b[0m \u001b[38;5;66;03m# some Python versions print out the first line of a multi-line function\u001b[39;00m\n\u001b[0;32m    172\u001b[0m \u001b[38;5;66;03m# calls in the traceback and some print out the last line\u001b[39;00m\n\u001b[1;32m--> 173\u001b[0m \u001b[43mVariable\u001b[49m\u001b[38;5;241;43m.\u001b[39;49m\u001b[43m_execution_engine\u001b[49m\u001b[38;5;241;43m.\u001b[39;49m\u001b[43mrun_backward\u001b[49m\u001b[43m(\u001b[49m\u001b[43m  \u001b[49m\u001b[38;5;66;43;03m# Calls into the C++ engine to run the backward pass\u001b[39;49;00m\n\u001b[0;32m    174\u001b[0m \u001b[43m    \u001b[49m\u001b[43mtensors\u001b[49m\u001b[43m,\u001b[49m\u001b[43m \u001b[49m\u001b[43mgrad_tensors_\u001b[49m\u001b[43m,\u001b[49m\u001b[43m \u001b[49m\u001b[43mretain_graph\u001b[49m\u001b[43m,\u001b[49m\u001b[43m \u001b[49m\u001b[43mcreate_graph\u001b[49m\u001b[43m,\u001b[49m\u001b[43m \u001b[49m\u001b[43minputs\u001b[49m\u001b[43m,\u001b[49m\n\u001b[0;32m    175\u001b[0m \u001b[43m    \u001b[49m\u001b[43mallow_unreachable\u001b[49m\u001b[38;5;241;43m=\u001b[39;49m\u001b[38;5;28;43;01mTrue\u001b[39;49;00m\u001b[43m,\u001b[49m\u001b[43m \u001b[49m\u001b[43maccumulate_grad\u001b[49m\u001b[38;5;241;43m=\u001b[39;49m\u001b[38;5;28;43;01mTrue\u001b[39;49;00m\u001b[43m)\u001b[49m\n",
      "\u001b[1;31mKeyboardInterrupt\u001b[0m: "
     ]
    }
   ],
   "source": [
    "best_model = {}\n",
    "models_list = ['RNN', 'LSTM', 'GRU', 'BiRNN', 'BiLSTM', 'BiGRU']\n",
    "\n",
    "for num_model in range(6):\n",
    "    rmse_min = np.inf\n",
    "    for hyperparameter in tqdm(hyperparameter_dict.values(), desc = f'대구_{models_list[num_model]}', position = 0):\n",
    "        \n",
    "        lr = hyperparameter[0]\n",
    "        patience = hyperparameter[1]\n",
    "        num_layers = hyperparameter[2]\n",
    "        batch_size = hyperparameter[3]\n",
    "        hidden_size = hyperparameter[4]\n",
    "        dropout = hyperparameter[5]\n",
    "        print('-------------------------------------------------------------------------------------')\n",
    "        print('lr:', lr, ' patience:', patience, ' num_layers:', num_layers, \n",
    "              ' batch_size:', batch_size, ' hidden_size:', hidden_size, ' dropout:', dropout)\n",
    "    \n",
    "        x, y, x_ss, y_ms, train_loader, test_loader = Prepare_df.split_data(df, 59, 60, 1, batch_size, 'mto')\n",
    "        \n",
    "        if num_model == 0:\n",
    "            model = RNN(input_size = input_size,\n",
    "                        hidden_size = hidden_size,\n",
    "                        sequence_length = sequence_length,\n",
    "                        num_layers = num_layers, \n",
    "                        dropout = dropout, \n",
    "                        device = device).to(device)\n",
    "            \n",
    "        elif num_model == 1:\n",
    "            model = LSTM(input_size = input_size,\n",
    "                         hidden_size = hidden_size,\n",
    "                         sequence_length = sequence_length,\n",
    "                         num_layers = num_layers, \n",
    "                         dropout = dropout, \n",
    "                         device = device).to(device)\n",
    "        \n",
    "        elif num_model == 2:\n",
    "            model = GRU(input_size = input_size,\n",
    "                        hidden_size = hidden_size,\n",
    "                        sequence_length = sequence_length,\n",
    "                        num_layers = num_layers, \n",
    "                        dropout = dropout, \n",
    "                        device = device).to(device)\n",
    "            \n",
    "        elif num_model == 3:\n",
    "            model = BiRNN(input_size = input_size,\n",
    "                          hidden_size = hidden_size,\n",
    "                          sequence_length = sequence_length,\n",
    "                          num_layers = num_layers, \n",
    "                          dropout = dropout, \n",
    "                          device = device).to(device)\n",
    "\n",
    "        elif num_model == 4:\n",
    "            model = BiLSTM(input_size = input_size,\n",
    "                           hidden_size = hidden_size,\n",
    "                           sequence_length = sequence_length,\n",
    "                           num_layers = num_layers, \n",
    "                           dropout = dropout, \n",
    "                           device = device).to(device)\n",
    "\n",
    "        elif num_model == 5:\n",
    "            model = BiGRU(input_size = input_size,\n",
    "                          hidden_size = hidden_size,\n",
    "                          sequence_length = sequence_length,\n",
    "                          num_layers = num_layers, \n",
    "                          dropout = dropout, \n",
    "                          device = device).to(device)\n",
    "\n",
    "        optimizer = Adam(model.parameters(), lr = lr)\n",
    "    \n",
    "        loss_list, model, epoch = Trainer.Many_to_One(train_loader, \n",
    "                                                      test_loader, \n",
    "                                                      model, \n",
    "                                                      criterion, \n",
    "                                                      optimizer, \n",
    "                                                      num_epochs, \n",
    "                                                      patience,\n",
    "                                                      device)\n",
    "    \n",
    "        label_y, predicted = predict_mto(model, df, x_ss, y_ms)\n",
    "    \n",
    "        if rmse_min > rmse(label_y[-7:], predicted[-7:]):\n",
    "            rmse_min = rmse(label_y[-7:], predicted[-7:])\n",
    "            best_model[models_list[num_model]] = [rmse_min, model, loss_list, epoch, lr, patience, \n",
    "                                                  num_layers, batch_size, hidden_size, dropout]"
   ]
  },
  {
   "cell_type": "code",
   "execution_count": 7,
   "id": "44eaffab",
   "metadata": {
    "ExecuteTime": {
     "end_time": "2023-06-06T12:42:59.979917Z",
     "start_time": "2023-06-06T12:42:59.958184Z"
    }
   },
   "outputs": [
    {
     "data": {
      "text/plain": [
       "{'RNN': [0.12844654679051942,\n",
       "  RNN(\n",
       "    (rnn): RNN(3, 32, num_layers=2, batch_first=True, dropout=0.25)\n",
       "    (fc1): Linear(in_features=1920, out_features=128, bias=True)\n",
       "    (fc2): Linear(in_features=128, out_features=64, bias=True)\n",
       "    (fc3): Linear(in_features=64, out_features=1, bias=True)\n",
       "    (relu): ReLU()\n",
       "  ),\n",
       "  [0.008096200414001942,\n",
       "   0.032576289027929306,\n",
       "   0.0017458695219829679,\n",
       "   0.007418449502438307,\n",
       "   0.006154830101877451,\n",
       "   0.00318750087171793,\n",
       "   0.0018498150166124105,\n",
       "   0.0015694721369072795,\n",
       "   0.0018393804784864187,\n",
       "   0.0019276377279311419,\n",
       "   0.0019807424396276474,\n",
       "   0.0016840514726936817,\n",
       "   0.0014858993235975504,\n",
       "   0.0013448667014017701,\n",
       "   0.001306244288571179,\n",
       "   0.0012742681428790092,\n",
       "   0.0012334729544818401,\n",
       "   0.0012703239917755127,\n",
       "   0.0011512563796713948,\n",
       "   0.0011317331809550524,\n",
       "   0.0009225658141076565,\n",
       "   0.0010031572310253978,\n",
       "   0.0009273126488551497,\n",
       "   0.0009051239467225969,\n",
       "   0.0008483328856527805,\n",
       "   0.0006951811374165118,\n",
       "   0.0006264651892706752,\n",
       "   0.0006573180435225368,\n",
       "   0.000627222703769803,\n",
       "   0.0004956460907123983,\n",
       "   0.00048089935444295406,\n",
       "   0.0004504288954194635,\n",
       "   0.0003718712250702083,\n",
       "   0.0004282758745830506,\n",
       "   0.00035498529905453324,\n",
       "   0.00045134342508390546,\n",
       "   0.00038232357474043965,\n",
       "   0.00032305793138220906,\n",
       "   0.0003010448708664626,\n",
       "   0.0003159622137900442,\n",
       "   0.00020616615074686706,\n",
       "   0.0002882261760532856,\n",
       "   0.00024368336016777903,\n",
       "   0.0002988213091157377,\n",
       "   0.00023691826208960265,\n",
       "   0.00018035451648756862,\n",
       "   0.00022564592654816806,\n",
       "   0.00018280684889759868,\n",
       "   0.00022027372324373573,\n",
       "   0.000134743022499606,\n",
       "   0.00021370145259425044,\n",
       "   0.00022962935327086598,\n",
       "   0.00018039332644548267,\n",
       "   0.00012861994036938995,\n",
       "   0.0001579381787450984,\n",
       "   0.00010201773693552241,\n",
       "   0.00011993671796517447,\n",
       "   0.00011174866813234985,\n",
       "   0.00011481433466542512,\n",
       "   0.00010363769979448989,\n",
       "   0.00014619553985539824,\n",
       "   0.00014447892317548394,\n",
       "   0.0001527689746581018,\n",
       "   0.00012755196075886488,\n",
       "   0.00011059905227739364,\n",
       "   0.00010312310769222677,\n",
       "   8.14735540188849e-05,\n",
       "   0.00010004104842664674,\n",
       "   9.281715756515041e-05,\n",
       "   0.00010046921670436859,\n",
       "   9.819510160014033e-05,\n",
       "   8.232305845012888e-05,\n",
       "   0.0001144626148743555,\n",
       "   0.00010224849393125623,\n",
       "   0.00013195970677770674,\n",
       "   6.660670624114573e-05,\n",
       "   9.751987818162888e-05,\n",
       "   6.786956510040909e-05,\n",
       "   6.011567893438041e-05,\n",
       "   8.688357047503814e-05,\n",
       "   0.00010632368503138423,\n",
       "   6.491821841336787e-05,\n",
       "   5.580793003900908e-05,\n",
       "   5.737227911595255e-05,\n",
       "   8.540078852092847e-05,\n",
       "   7.534241740358993e-05,\n",
       "   7.485530659323558e-05,\n",
       "   7.027602259768173e-05,\n",
       "   4.5497748942580074e-05,\n",
       "   4.912219810648821e-05,\n",
       "   6.288574513746426e-05,\n",
       "   6.432046211557463e-05,\n",
       "   5.834220064571127e-05,\n",
       "   5.071857231087051e-05,\n",
       "   5.6327298807445914e-05,\n",
       "   3.7866313505219296e-05,\n",
       "   5.338867413229309e-05,\n",
       "   6.647233385592699e-05,\n",
       "   3.8459176721517e-05,\n",
       "   4.748471110360697e-05,\n",
       "   3.9742702938383445e-05,\n",
       "   5.516790406545624e-05,\n",
       "   7.974616892170161e-05,\n",
       "   4.929244823870249e-05,\n",
       "   4.4511274609249085e-05,\n",
       "   4.019453626824543e-05,\n",
       "   5.581807636190206e-05,\n",
       "   5.389655416365713e-05,\n",
       "   5.607427010545507e-05,\n",
       "   4.2140993173234165e-05,\n",
       "   4.597498627845198e-05,\n",
       "   5.874912312719971e-05,\n",
       "   4.9239828513236716e-05,\n",
       "   4.243893636157736e-05,\n",
       "   3.539490353432484e-05,\n",
       "   5.3189549362286925e-05,\n",
       "   5.1105100283166394e-05,\n",
       "   4.019072002847679e-05,\n",
       "   4.9761456466512755e-05,\n",
       "   6.53959286864847e-05,\n",
       "   4.702740989159793e-05,\n",
       "   4.627706221072003e-05,\n",
       "   2.762261647148989e-05,\n",
       "   3.724266207427718e-05,\n",
       "   3.3853499189717695e-05,\n",
       "   3.379303598194383e-05,\n",
       "   4.618847742676735e-05,\n",
       "   4.175643334747292e-05,\n",
       "   3.2709936931496486e-05,\n",
       "   4.038977203890681e-05,\n",
       "   3.349670078023337e-05,\n",
       "   3.459486470092088e-05,\n",
       "   2.9158683901187032e-05,\n",
       "   4.0398350392933935e-05,\n",
       "   2.9601882488350384e-05,\n",
       "   5.6218119425466284e-05,\n",
       "   3.235728217987344e-05,\n",
       "   3.217975972802378e-05,\n",
       "   4.633580829249695e-05,\n",
       "   3.652270243037492e-05,\n",
       "   4.89630619995296e-05,\n",
       "   2.408214277238585e-05,\n",
       "   3.7514597352128476e-05,\n",
       "   5.111036807647906e-05,\n",
       "   4.586140130413696e-05,\n",
       "   4.667894609156065e-05,\n",
       "   4.405675281304866e-05,\n",
       "   4.008231553598307e-05,\n",
       "   4.571208410197869e-05,\n",
       "   3.1543462682748213e-05,\n",
       "   3.411044235690497e-05,\n",
       "   3.800589183811098e-05,\n",
       "   3.085354182985611e-05,\n",
       "   3.235123949707486e-05,\n",
       "   3.30124530592002e-05,\n",
       "   2.921434133895673e-05,\n",
       "   2.6137675376958214e-05,\n",
       "   3.2030548027250916e-05,\n",
       "   4.622984124580398e-05,\n",
       "   5.043822238803841e-05,\n",
       "   3.665707117761485e-05,\n",
       "   2.472108644724358e-05,\n",
       "   3.3498654374852777e-05,\n",
       "   3.63376566383522e-05,\n",
       "   2.5732357244123705e-05,\n",
       "   2.9303066185093485e-05,\n",
       "   3.4548236726550385e-05,\n",
       "   3.178977203788236e-05,\n",
       "   3.593771907617338e-05,\n",
       "   3.753686178242788e-05,\n",
       "   2.8740711059072055e-05,\n",
       "   2.4208506147260778e-05,\n",
       "   2.6244410037179478e-05,\n",
       "   3.031597771041561e-05,\n",
       "   2.4927820049924776e-05,\n",
       "   2.4453129299217835e-05,\n",
       "   2.6403255105833523e-05,\n",
       "   3.0458406399702653e-05,\n",
       "   2.6573339710012078e-05,\n",
       "   3.532546907081269e-05,\n",
       "   3.1592731829732656e-05,\n",
       "   2.8147263947175816e-05,\n",
       "   2.2307174731395207e-05,\n",
       "   2.899494211305864e-05,\n",
       "   2.199600567109883e-05,\n",
       "   2.5342535082018003e-05,\n",
       "   3.306522194179706e-05,\n",
       "   2.4872684662113898e-05,\n",
       "   1.7083155398722738e-05,\n",
       "   2.5166329578496516e-05,\n",
       "   1.7750160623108968e-05,\n",
       "   3.6341003578854725e-05,\n",
       "   1.6515890820301138e-05,\n",
       "   2.5096474928432144e-05,\n",
       "   2.3457716451957822e-05,\n",
       "   2.153284367523156e-05,\n",
       "   1.7575497622601688e-05,\n",
       "   2.3860158762545325e-05,\n",
       "   2.4900298740249127e-05,\n",
       "   1.6688480172888376e-05,\n",
       "   2.2027321392670274e-05,\n",
       "   2.874648998840712e-05,\n",
       "   2.8415839551598765e-05,\n",
       "   1.993998375837691e-05,\n",
       "   2.8699019821942784e-05,\n",
       "   3.38016907335259e-05,\n",
       "   2.578513158368878e-05,\n",
       "   1.9272642020951025e-05,\n",
       "   2.7608157324721105e-05,\n",
       "   3.309969179099426e-05,\n",
       "   2.7186104489373975e-05,\n",
       "   2.3814091036911123e-05,\n",
       "   1.7282209228142165e-05,\n",
       "   2.154229696316179e-05,\n",
       "   2.2372989405994304e-05,\n",
       "   2.8705231670755893e-05,\n",
       "   2.2517144316225313e-05,\n",
       "   2.5164037651848048e-05,\n",
       "   2.7214986403123476e-05,\n",
       "   3.1603980460204184e-05,\n",
       "   3.709901648107916e-05,\n",
       "   2.3760158001095988e-05,\n",
       "   2.028918606811203e-05,\n",
       "   1.765261185937561e-05,\n",
       "   1.9619075828813948e-05,\n",
       "   3.128032403765246e-05,\n",
       "   2.1433452275232412e-05,\n",
       "   2.3656171833863482e-05,\n",
       "   2.1282892703311518e-05,\n",
       "   2.2175016056280583e-05,\n",
       "   1.922401315823663e-05,\n",
       "   1.604275530553423e-05,\n",
       "   1.4577309229935054e-05,\n",
       "   2.7165626306668855e-05,\n",
       "   1.778335172275547e-05,\n",
       "   2.8958686016267166e-05,\n",
       "   2.5111863578786142e-05,\n",
       "   3.386580283404328e-05,\n",
       "   1.9898787286365405e-05,\n",
       "   2.6774943762575276e-05,\n",
       "   2.6071033062180504e-05,\n",
       "   1.7443206161260605e-05,\n",
       "   2.7851936465594918e-05,\n",
       "   2.2350166545948014e-05,\n",
       "   1.80574061232619e-05,\n",
       "   2.1126310457475483e-05,\n",
       "   2.1412432033685036e-05,\n",
       "   2.0562920326483436e-05,\n",
       "   1.784411506378092e-05,\n",
       "   1.8510760128265247e-05,\n",
       "   2.3860866349423304e-05,\n",
       "   1.6802941900095902e-05,\n",
       "   2.0557990865199827e-05,\n",
       "   1.654981133469846e-05,\n",
       "   3.105741416220553e-05,\n",
       "   2.5178373107337393e-05,\n",
       "   2.8433076295186765e-05,\n",
       "   2.1734605979872867e-05,\n",
       "   1.858918221842032e-05,\n",
       "   2.2409021767089143e-05,\n",
       "   1.4060105968383141e-05,\n",
       "   2.0044102711835876e-05,\n",
       "   2.072164170385804e-05,\n",
       "   2.3331702323048376e-05,\n",
       "   1.820681973185856e-05,\n",
       "   1.591540058143437e-05,\n",
       "   1.8315295164939016e-05,\n",
       "   2.4681103241164237e-05,\n",
       "   1.541791425552219e-05,\n",
       "   2.3059617888065986e-05,\n",
       "   2.7303958631819114e-05,\n",
       "   2.3764880097587593e-05,\n",
       "   1.9536997569957748e-05,\n",
       "   1.6184414562303573e-05,\n",
       "   2.3863482056185603e-05,\n",
       "   2.2284997612587176e-05,\n",
       "   1.6540190699743107e-05,\n",
       "   2.1002015273552388e-05,\n",
       "   1.9472779968054965e-05,\n",
       "   1.6539557691430673e-05,\n",
       "   1.812416303437203e-05,\n",
       "   1.8503891624277458e-05,\n",
       "   1.6217672964558005e-05,\n",
       "   1.527155291114468e-05,\n",
       "   2.118171687470749e-05,\n",
       "   2.1611380361719057e-05,\n",
       "   1.834939575928729e-05,\n",
       "   1.6703479559510015e-05,\n",
       "   2.5201408789143898e-05,\n",
       "   1.882336255221162e-05,\n",
       "   2.0725903596030548e-05,\n",
       "   2.0827679691137746e-05,\n",
       "   1.988884832826443e-05,\n",
       "   1.6754476746427827e-05,\n",
       "   2.0002902601845562e-05,\n",
       "   2.1254241801216267e-05,\n",
       "   2.280573608004488e-05,\n",
       "   2.168897117371671e-05,\n",
       "   1.9257186067989096e-05,\n",
       "   1.8980532331625e-05,\n",
       "   1.552537469251547e-05,\n",
       "   1.9294833691674285e-05,\n",
       "   1.7028032743837684e-05,\n",
       "   1.3050036614004057e-05,\n",
       "   2.3686470740358345e-05,\n",
       "   1.9515717212925665e-05,\n",
       "   1.6433499695267528e-05,\n",
       "   9.446158401260618e-06,\n",
       "   1.4292876585386693e-05,\n",
       "   1.906013858388178e-05,\n",
       "   1.852389505074825e-05,\n",
       "   1.6093817976070568e-05,\n",
       "   1.3820073036185931e-05,\n",
       "   1.6864129065652378e-05,\n",
       "   2.435371425235644e-05,\n",
       "   1.481167691963492e-05,\n",
       "   1.3681649761565495e-05,\n",
       "   1.2909714314446319e-05,\n",
       "   1.8688509953790344e-05,\n",
       "   2.3924205379444174e-05,\n",
       "   1.8306411220692098e-05,\n",
       "   1.6444861103082076e-05,\n",
       "   1.3865759683540091e-05,\n",
       "   1.4062607988307718e-05,\n",
       "   1.3392976143222768e-05,\n",
       "   1.840381810325198e-05,\n",
       "   1.9179409719072282e-05,\n",
       "   1.7416483387933113e-05,\n",
       "   1.3500624845619313e-05,\n",
       "   1.52636621351121e-05,\n",
       "   1.761158273438923e-05,\n",
       "   1.0657849998096935e-05,\n",
       "   1.5487554264836945e-05,\n",
       "   1.53402525029378e-05,\n",
       "   2.1599433239316568e-05,\n",
       "   2.0304863937781192e-05,\n",
       "   1.2584538126247935e-05,\n",
       "   1.0953259334200993e-05,\n",
       "   1.775723103492055e-05,\n",
       "   2.217624023614917e-05,\n",
       "   1.511167920398293e-05,\n",
       "   1.456301561120199e-05,\n",
       "   1.103936301660724e-05,\n",
       "   1.2880456779384986e-05,\n",
       "   1.2529712876130361e-05,\n",
       "   1.7105458027799614e-05,\n",
       "   1.0695212040445767e-05,\n",
       "   1.4433319847739767e-05,\n",
       "   1.8999660824192688e-05,\n",
       "   1.3897804819862358e-05,\n",
       "   2.345419670746196e-05,\n",
       "   1.4356507563206833e-05,\n",
       "   1.874080226116348e-05,\n",
       "   1.7800693967728876e-05,\n",
       "   2.0762770873261616e-05,\n",
       "   1.27986422739923e-05,\n",
       "   1.750610135786701e-05,\n",
       "   1.9206179786124267e-05,\n",
       "   1.3655157999892253e-05],\n",
       "  358,\n",
       "  0.001,\n",
       "  50,\n",
       "  2,\n",
       "  64,\n",
       "  32,\n",
       "  0.25]}"
      ]
     },
     "execution_count": 7,
     "metadata": {},
     "output_type": "execute_result"
    }
   ],
   "source": [
    "best_model"
   ]
  },
  {
   "cell_type": "code",
   "execution_count": null,
   "id": "f975b751",
   "metadata": {},
   "outputs": [],
   "source": []
  },
  {
   "cell_type": "code",
   "execution_count": 19,
   "id": "153d3df1",
   "metadata": {
    "ExecuteTime": {
     "end_time": "2023-05-31T04:30:49.104184Z",
     "start_time": "2023-05-31T04:30:49.044070Z"
    }
   },
   "outputs": [],
   "source": [
    "model_RNN = RNN(input_size = input_size,\n",
    "                hidden_size = hidden_size,\n",
    "                sequence_length = sequence_length,\n",
    "                num_layers = num_layers, \n",
    "                dropout = dropout, \n",
    "                device = device).to(device)\n",
    "\n",
    "model_LSTM = LSTM(input_size = input_size,\n",
    "                  hidden_size = hidden_size,\n",
    "                  sequence_length = sequence_length,\n",
    "                  num_layers = num_layers, \n",
    "                  dropout = dropout, \n",
    "                  device = device).to(device)\n",
    "\n",
    "model_GRU = GRU(input_size = input_size,\n",
    "                hidden_size = hidden_size,\n",
    "                sequence_length = sequence_length,\n",
    "                num_layers = num_layers, \n",
    "                dropout = dropout, \n",
    "                device = device).to(device)\n",
    "\n",
    "model_BiRNN = BiRNN(input_size = input_size,\n",
    "                    hidden_size = hidden_size,\n",
    "                    sequence_length = sequence_length,\n",
    "                    num_layers = num_layers, \n",
    "                    dropout = dropout, \n",
    "                    device = device).to(device)\n",
    "\n",
    "model_BiLSTM = BiLSTM(input_size = input_size,\n",
    "                      hidden_size = hidden_size,\n",
    "                      sequence_length = sequence_length,\n",
    "                      num_layers = num_layers, \n",
    "                      dropout = dropout, \n",
    "                      device = device).to(device)\n",
    "\n",
    "model_BiGRU = BiGRU(input_size = input_size,\n",
    "                    hidden_size = hidden_size,\n",
    "                    sequence_length = sequence_length,\n",
    "                    num_layers = num_layers, \n",
    "                    dropout = dropout, \n",
    "                    device = device).to(device)\n",
    "\n",
    "model_seq2seq_RNN = RNN_encoder_decoder(input_size = input_size, \n",
    "                                        hidden_size = hidden_size,\n",
    "                                        num_layers = num_layers, \n",
    "                                        dropout = dropout,\n",
    "                                        device = device).to(device)\n",
    "\n",
    "model_seq2seq_LSTM = LSTM_encoder_decoder(input_size = input_size, \n",
    "                                         hidden_size = hidden_size,\n",
    "                                         num_layers = num_layers, \n",
    "                                         dropout = dropout,\n",
    "                                         device = device).to(device)\n",
    "\n",
    "model_seq2seq_GRU = GRU_encoder_decoder(input_size = input_size, \n",
    "                                        hidden_size = hidden_size,\n",
    "                                        num_layers = num_layers, \n",
    "                                        dropout = dropout,\n",
    "                                        device = device).to(device)\n",
    "\n",
    "model_seq2seq_BiRNN = BiRNN_encoder_decoder(input_size = input_size, \n",
    "                                            hidden_size = hidden_size,\n",
    "                                            num_layers = num_layers, \n",
    "                                            dropout = dropout,\n",
    "                                            device = device).to(device)\n",
    "\n",
    "model_seq2seq_BiLSTM = BiLSTM_encoder_decoder(input_size = input_size, \n",
    "                                              hidden_size = hidden_size,\n",
    "                                              num_layers = num_layers, \n",
    "                                              dropout = dropout,\n",
    "                                              device = device).to(device)\n",
    "\n",
    "model_seq2seq_BiGRU = BiGRU_encoder_decoder(input_size = input_size, \n",
    "                                            hidden_size = hidden_size,\n",
    "                                            num_layers = num_layers, \n",
    "                                            dropout = dropout,\n",
    "                                            device = device).to(device)\n",
    "\n",
    "model_dict = {}\n",
    "\n",
    "keys = ['RNN', 'LSTM', 'GRU', 'BiRNN', 'BiLSTM', 'BiGRU', \n",
    "        'seq2seq_RNN', 'seq2seq_LSTM', 'seq2seq_GRU', 'seq2seq_BiRNN', 'seq2seq_BiLSTM', 'seq2seq_BiGRU']\n",
    "\n",
    "models_list = [model_RNN, model_LSTM, model_GRU, \n",
    "              model_BiRNN, model_BiLSTM, model_BiGRU,\n",
    "              model_seq2seq_RNN, model_seq2seq_LSTM, model_seq2seq_GRU, \n",
    "              model_seq2seq_BiRNN, model_seq2seq_BiLSTM, model_seq2seq_BiGRU]\n",
    "\n",
    "for i, key in enumerate(keys):\n",
    "    model_dict[key] = models_list[i]"
   ]
  },
  {
   "cell_type": "code",
   "execution_count": 20,
   "id": "1efb91e4",
   "metadata": {
    "ExecuteTime": {
     "end_time": "2023-05-31T04:32:09.363320Z",
     "start_time": "2023-05-31T04:30:49.351250Z"
    }
   },
   "outputs": [
    {
     "name": "stdout",
     "output_type": "stream",
     "text": [
      "torch.Size([800, 60, 3])\n",
      "torch.Size([800, 1])\n",
      "torch.Size([357, 60, 3])\n",
      "torch.Size([357, 1])\n",
      "\n",
      " Early Stopping / epoch: 81 loss: 0.0005\n",
      "torch.Size([800, 60, 3])\n",
      "torch.Size([800, 1])\n",
      "torch.Size([357, 60, 3])\n",
      "torch.Size([357, 1])\n",
      "epoch: 100 loss: 0.0001\n",
      "\n",
      " Early Stopping / epoch: 121 loss: 0.0001\n",
      "torch.Size([800, 60, 3])\n",
      "torch.Size([800, 1])\n",
      "torch.Size([357, 60, 3])\n",
      "torch.Size([357, 1])\n",
      "epoch: 100 loss: 0.0000\n",
      "\n",
      " Early Stopping / epoch: 121 loss: 0.0001\n",
      "torch.Size([800, 60, 3])\n",
      "torch.Size([800, 1])\n",
      "torch.Size([357, 60, 3])\n",
      "torch.Size([357, 1])\n",
      "epoch: 100 loss: 0.0000\n",
      "\n",
      " Early Stopping / epoch: 121 loss: 0.0000\n",
      "torch.Size([800, 60, 3])\n",
      "torch.Size([800, 1])\n",
      "torch.Size([357, 60, 3])\n",
      "torch.Size([357, 1])\n",
      "epoch: 100 loss: 0.0001\n",
      "\n",
      " Early Stopping / epoch: 161 loss: 0.0000\n",
      "torch.Size([800, 60, 3])\n",
      "torch.Size([800, 1])\n",
      "torch.Size([357, 60, 3])\n",
      "torch.Size([357, 1])\n",
      "\n",
      " Early Stopping / epoch: 61 loss: 0.0001\n",
      "torch.Size([800, 60, 3])\n",
      "torch.Size([800, 7, 1])\n",
      "torch.Size([351, 60, 3])\n",
      "torch.Size([351, 7, 1])\n",
      "epoch: 100 loss: 0.000701\n",
      "epoch: 200 loss: 0.000647\n",
      "\n",
      " Early Stopping / epoch: 201 loss: 0.000657\n"
     ]
    },
    {
     "ename": "ValueError",
     "evalue": "cannot reshape array of size 1151 into shape (1217,1)",
     "output_type": "error",
     "traceback": [
      "\u001b[1;31m---------------------------------------------------------------------------\u001b[0m",
      "\u001b[1;31mValueError\u001b[0m                                Traceback (most recent call last)",
      "Cell \u001b[1;32mIn[20], line 34\u001b[0m\n\u001b[0;32m     25\u001b[0m x, y, x_ss, y_ms, train_loader, test_loader \u001b[38;5;241m=\u001b[39m Prepare_df\u001b[38;5;241m.\u001b[39msplit_data(df, \u001b[38;5;241m800\u001b[39m, \u001b[38;5;241m60\u001b[39m, \u001b[38;5;241m7\u001b[39m, batch_size, \u001b[38;5;124m'\u001b[39m\u001b[38;5;124mmtm\u001b[39m\u001b[38;5;124m'\u001b[39m)\n\u001b[0;32m     26\u001b[0m loss_list, model \u001b[38;5;241m=\u001b[39m Trainer\u001b[38;5;241m.\u001b[39mMany_to_Many(train_loader, \n\u001b[0;32m     27\u001b[0m                                         test_loader, \n\u001b[0;32m     28\u001b[0m                                         model, \n\u001b[1;32m   (...)\u001b[0m\n\u001b[0;32m     32\u001b[0m                                         patience,\n\u001b[0;32m     33\u001b[0m                                         device)\n\u001b[1;32m---> 34\u001b[0m first_label_y, first_predicted \u001b[38;5;241m=\u001b[39m \u001b[43mpredict_mtm\u001b[49m\u001b[43m(\u001b[49m\u001b[43mmodel\u001b[49m\u001b[43m,\u001b[49m\u001b[43m \u001b[49m\u001b[43mdf\u001b[49m\u001b[43m,\u001b[49m\u001b[43m \u001b[49m\u001b[43mx_ss\u001b[49m\u001b[43m,\u001b[49m\u001b[43m \u001b[49m\u001b[43my_ms\u001b[49m\u001b[43m,\u001b[49m\u001b[43m \u001b[49m\u001b[38;5;28;43mlen\u001b[39;49m\u001b[43m(\u001b[49m\u001b[43mdf\u001b[49m\u001b[43m)\u001b[49m\u001b[43m,\u001b[49m\u001b[43m \u001b[49m\u001b[38;5;241;43m7\u001b[39;49m\u001b[43m,\u001b[49m\u001b[43m \u001b[49m\u001b[38;5;241;43m0.5\u001b[39;49m\u001b[43m,\u001b[49m\u001b[43m \u001b[49m\u001b[43mdevice\u001b[49m\u001b[43m)\u001b[49m\n\u001b[0;32m     35\u001b[0m \u001b[38;5;28;01mif\u001b[39;00m mape_val \u001b[38;5;241m>\u001b[39m mape(label_y\u001b[38;5;241m+\u001b[39m\u001b[38;5;241m1\u001b[39m, predicted):\n\u001b[0;32m     36\u001b[0m     mape_val \u001b[38;5;241m=\u001b[39m vape_val \u001b[38;5;241m=\u001b[39m mape(label_y\u001b[38;5;241m+\u001b[39m\u001b[38;5;241m1\u001b[39m, predicted)\n",
      "File \u001b[1;32mD:\\Gnan\\DA\\KMU\\Prediction-COVID-19\\utils.py:218\u001b[0m, in \u001b[0;36mpredict_mtm\u001b[1;34m(model, df, x_ss, y_ms, len_df, target_len, teacher_forcing_ratio, device)\u001b[0m\n\u001b[0;32m    215\u001b[0m predicted \u001b[38;5;241m=\u001b[39m train_predict\u001b[38;5;241m.\u001b[39mcpu()\u001b[38;5;241m.\u001b[39mdata\u001b[38;5;241m.\u001b[39mnumpy()\n\u001b[0;32m    216\u001b[0m label_y \u001b[38;5;241m=\u001b[39m y_ms\u001b[38;5;241m.\u001b[39mcpu()\u001b[38;5;241m.\u001b[39mdata\u001b[38;5;241m.\u001b[39mnumpy()\n\u001b[1;32m--> 218\u001b[0m first_predicted \u001b[38;5;241m=\u001b[39m \u001b[43mpredicted\u001b[49m\u001b[43m[\u001b[49m\u001b[43m:\u001b[49m\u001b[43m,\u001b[49m\u001b[43m \u001b[49m\u001b[38;5;241;43m0\u001b[39;49m\u001b[43m,\u001b[49m\u001b[43m \u001b[49m\u001b[38;5;241;43m0\u001b[39;49m\u001b[43m]\u001b[49m\u001b[38;5;241;43m.\u001b[39;49m\u001b[43mreshape\u001b[49m\u001b[43m(\u001b[49m\u001b[43mlen_df\u001b[49m\u001b[43m,\u001b[49m\u001b[43m \u001b[49m\u001b[38;5;241;43m1\u001b[39;49m\u001b[43m)\u001b[49m\n\u001b[0;32m    219\u001b[0m first_label_y \u001b[38;5;241m=\u001b[39m label_y[:, \u001b[38;5;241m0\u001b[39m, :]\u001b[38;5;241m.\u001b[39mreshape(len_df, \u001b[38;5;241m1\u001b[39m)\n\u001b[0;32m    221\u001b[0m first_predicted \u001b[38;5;241m=\u001b[39m ms\u001b[38;5;241m.\u001b[39minverse_transform(first_predicted)\n",
      "\u001b[1;31mValueError\u001b[0m: cannot reshape array of size 1151 into shape (1217,1)"
     ]
    }
   ],
   "source": [
    "Trained_dict = {}\n",
    "num_model = 0\n",
    "mape_val = 10000\n",
    "for model in models_list:\n",
    "    \n",
    "    optimizer = Adam(model.parameters(), lr = lr)\n",
    "    num_model += 1\n",
    "    if num_model <= 6:\n",
    "        x, y, x_ss, y_ms, train_loader, test_loader = Prepare_df.split_data(df, 800, 60, 1, batch_size, 'mto')\n",
    "        loss_list, model = Trainer.Many_to_One(train_loader, \n",
    "                                               test_loader, \n",
    "                                               model, \n",
    "                                               criterion, \n",
    "                                               optimizer, \n",
    "                                               num_epochs, \n",
    "                                               patience,\n",
    "                                               device)\n",
    "        label_y, predicted = predict_mto(model, df, x_ss, y_ms)\n",
    "        if mape_val > mape(label_y+1, predicted):\n",
    "            mape_val = vape_val = mape(label_y+1, predicted)\n",
    "            Trained_dict['서울'] = [mape_val, model, data, lr, criterion, patience, num_layers, batch_size, hidden_size, dropout]\n",
    "        \n",
    "        \n",
    "    else:\n",
    "        x, y, x_ss, y_ms, train_loader, test_loader = Prepare_df.split_data(df, 800, 60, 7, batch_size, 'mtm')\n",
    "        loss_list, model = Trainer.Many_to_Many(train_loader, \n",
    "                                                test_loader, \n",
    "                                                model, \n",
    "                                                criterion, \n",
    "                                                optimizer, \n",
    "                                                num_epochs, \n",
    "                                                patience,\n",
    "                                                device)\n",
    "        first_label_y, first_predicted = predict_mtm(model, df, x_ss, y_ms, len(df), 7, 0.5, device)\n",
    "        if mape_val > mape(label_y+1, predicted):\n",
    "            mape_val = vape_val = mape(label_y+1, predicted)\n",
    "            Trained_dict['서울'] = [mape_val, model, data, lr, criterion, patience, num_layers, batch_size, hidden_size, dropout]\n",
    "       "
   ]
  },
  {
   "cell_type": "code",
   "execution_count": 10,
   "id": "6e2e2654",
   "metadata": {
    "ExecuteTime": {
     "end_time": "2023-05-31T04:29:38.385651Z",
     "start_time": "2023-05-31T04:29:38.375681Z"
    }
   },
   "outputs": [
    {
     "data": {
      "text/plain": [
       "0"
      ]
     },
     "execution_count": 10,
     "metadata": {},
     "output_type": "execute_result"
    }
   ],
   "source": [
    "mape_val"
   ]
  },
  {
   "cell_type": "code",
   "execution_count": null,
   "id": "6971027e",
   "metadata": {},
   "outputs": [],
   "source": []
  }
 ],
 "metadata": {
  "kernelspec": {
   "display_name": "KDA_DA",
   "language": "python",
   "name": "kda_da"
  },
  "language_info": {
   "codemirror_mode": {
    "name": "ipython",
    "version": 3
   },
   "file_extension": ".py",
   "mimetype": "text/x-python",
   "name": "python",
   "nbconvert_exporter": "python",
   "pygments_lexer": "ipython3",
   "version": "3.10.8"
  },
  "toc": {
   "base_numbering": 1,
   "nav_menu": {},
   "number_sections": true,
   "sideBar": true,
   "skip_h1_title": false,
   "title_cell": "Table of Contents",
   "title_sidebar": "Contents",
   "toc_cell": false,
   "toc_position": {},
   "toc_section_display": true,
   "toc_window_display": false
  }
 },
 "nbformat": 4,
 "nbformat_minor": 5
}
