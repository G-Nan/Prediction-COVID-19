{
 "cells": [
  {
   "cell_type": "markdown",
   "id": "4206ab91",
   "metadata": {},
   "source": [
    "# Packages & Functions"
   ]
  },
  {
   "cell_type": "markdown",
   "id": "2e7fbda4",
   "metadata": {},
   "source": [
    "## Packages"
   ]
  },
  {
   "cell_type": "code",
   "execution_count": 1,
   "id": "fe619aa0",
   "metadata": {
    "ExecuteTime": {
     "end_time": "2023-05-02T13:07:48.081114Z",
     "start_time": "2023-05-02T13:07:45.793876Z"
    }
   },
   "outputs": [],
   "source": [
    "import os\n",
    "import time\n",
    "import warnings\n",
    "\n",
    "import numpy as np\n",
    "import pandas as pd\n",
    "import matplotlib.pyplot as plt\n",
    "\n",
    "import torch\n",
    "import torch.nn as nn\n",
    "from torch.optim.adam import Adam\n",
    "from torch.utils.data import TensorDataset, DataLoader\n",
    "from torch.autograd import Variable\n",
    "from tqdm import tqdm_notebook\n",
    "from sklearn.preprocessing import StandardScaler, MinMaxScaler\n",
    "from sklearn.model_selection import train_test_split\n",
    "\n",
    "warnings.filterwarnings('ignore')\n",
    "device = torch.device('cuda:0' if torch.cuda.is_available() else 'cpu')"
   ]
  },
  {
   "cell_type": "markdown",
   "id": "93c4000a",
   "metadata": {},
   "source": [
    "## Functions"
   ]
  },
  {
   "cell_type": "code",
   "execution_count": 2,
   "id": "b61d1ca4",
   "metadata": {
    "ExecuteTime": {
     "end_time": "2023-05-02T13:07:48.096679Z",
     "start_time": "2023-05-02T13:07:48.083112Z"
    }
   },
   "outputs": [],
   "source": [
    "def outlier(df, col, z):\n",
    "    return df[abs(df[col] - np.mean(df[col]))/np.std(df[col])>z]"
   ]
  },
  {
   "cell_type": "code",
   "execution_count": 3,
   "id": "1a95fb6f",
   "metadata": {
    "ExecuteTime": {
     "end_time": "2023-05-02T13:07:48.111999Z",
     "start_time": "2023-05-02T13:07:48.098679Z"
    }
   },
   "outputs": [],
   "source": [
    "def scailing(x, y):\n",
    "\n",
    "    ms = MinMaxScaler()\n",
    "    ss = StandardScaler()\n",
    "\n",
    "    x_ss = ss.fit_transform(x)\n",
    "    y_ms = ms.fit_transform(y)\n",
    "\n",
    "    return x_ss, y_ms"
   ]
  },
  {
   "cell_type": "code",
   "execution_count": 4,
   "id": "91dc5e00",
   "metadata": {
    "ExecuteTime": {
     "end_time": "2023-05-02T13:07:48.127922Z",
     "start_time": "2023-05-02T13:07:48.113959Z"
    }
   },
   "outputs": [],
   "source": [
    "def window_sliding(x, y, step):\n",
    "    \n",
    "    x_ws, y_ws = list(), list()\n",
    "    for i in range(len(df)):\n",
    "        x_end = i + step\n",
    "        y_end = x_end + 1\n",
    "        \n",
    "        if y_end > len(df):\n",
    "            break\n",
    "        \n",
    "        tx = x[i:x_end, :]\n",
    "        ty = y[x_end:y_end, :]\n",
    "        \n",
    "        x_ws.append(tx)\n",
    "        y_ws.append(ty)\n",
    "        \n",
    "    return torch.FloatTensor(x_ws).to(device), torch.FloatTensor(y_ws).to(device).view([-1, 1])"
   ]
  },
  {
   "cell_type": "code",
   "execution_count": 5,
   "id": "5328c388",
   "metadata": {
    "ExecuteTime": {
     "end_time": "2023-05-02T13:07:48.143880Z",
     "start_time": "2023-05-02T13:07:48.129919Z"
    }
   },
   "outputs": [],
   "source": [
    "def plotting(train_loader, test_loader, actual):\n",
    "    with torch.no_grad():\n",
    "        train_pred = []\n",
    "        test_pred = []\n",
    "\n",
    "        for data in train_loader:\n",
    "            seq, target = data\n",
    "            out = model(seq)\n",
    "            train_pred += out.cpu().numpy().tolist()\n",
    "\n",
    "        for data in test_loader:\n",
    "            seq, target = data\n",
    "            out = model(seq)\n",
    "            test_pred += out.cpu().numpy().tolist()\n",
    "      \n",
    "    total = train_pred + test_pred\n",
    "    plt.figure(figsize=(20,10))\n",
    "    plt.plot(np.ones(100)*len(train_pred), np.linspace(0,1,100), '--', linewidth=0.6)\n",
    "    plt.plot(actual, '--')\n",
    "    plt.plot(total, 'b', linewidth=0.6)\n",
    "\n",
    "    plt.legend(['train boundary', 'actual', 'prediction'])\n",
    "    plt.show()\n"
   ]
  },
  {
   "cell_type": "markdown",
   "id": "03d3afe0",
   "metadata": {
    "ExecuteTime": {
     "end_time": "2023-02-24T08:26:15.543024Z",
     "start_time": "2023-02-24T08:26:15.540034Z"
    }
   },
   "source": [
    "# Data Processing"
   ]
  },
  {
   "cell_type": "markdown",
   "id": "367ce088",
   "metadata": {},
   "source": [
    "## Load Data"
   ]
  },
  {
   "cell_type": "code",
   "execution_count": 6,
   "id": "bbebe8c0",
   "metadata": {
    "ExecuteTime": {
     "end_time": "2023-05-02T13:07:48.159838Z",
     "start_time": "2023-05-02T13:07:48.145873Z"
    }
   },
   "outputs": [
    {
     "name": "stdout",
     "output_type": "stream",
     "text": [
      "Unnamed: 0        int64\n",
      "deathCnt          int64\n",
      "defCnt            int64\n",
      "gubun            object\n",
      "gubunEn          object\n",
      "incDec            int64\n",
      "isolClearCnt      int64\n",
      "isolIngCnt        int64\n",
      "localOccCnt       int64\n",
      "overFlowCnt       int64\n",
      "qurRate         float64\n",
      "stdDay           object\n",
      "dtype: object\n"
     ]
    }
   ],
   "source": [
    "data = pd.read_csv('../../Data/CleanedData/서울_Cleaned.csv')\n",
    "print(data.dtypes)"
   ]
  },
  {
   "cell_type": "markdown",
   "id": "11855838",
   "metadata": {},
   "source": [
    "## Index & Col"
   ]
  },
  {
   "cell_type": "code",
   "execution_count": 7,
   "id": "5c55afe3",
   "metadata": {
    "ExecuteTime": {
     "end_time": "2023-05-02T13:07:48.175807Z",
     "start_time": "2023-05-02T13:07:48.161831Z"
    }
   },
   "outputs": [],
   "source": [
    "df = data.loc[:, ['stdDay', 'defCnt']]\n",
    "df.rename(columns = {'defCnt':'ACC', 'stdDay':'Date'}, inplace = True)\n",
    "df['AC'] = df['ACC'] - df['ACC'].shift(1)\n",
    "df['DAC'] = df['AC'] - df['AC'].shift(1)\n",
    "df['DDAC'] = df['DAC'] - df['DAC'].shift(1)\n",
    "df['Date'] = pd.to_datetime(df['Date'])\n",
    "df.set_index('Date', inplace = True)\n",
    "df = df.loc[:, ['AC', 'DAC', 'DDAC']]"
   ]
  },
  {
   "cell_type": "code",
   "execution_count": 8,
   "id": "0414647c",
   "metadata": {
    "ExecuteTime": {
     "end_time": "2023-05-02T13:07:48.206890Z",
     "start_time": "2023-05-02T13:07:48.178786Z"
    }
   },
   "outputs": [
    {
     "data": {
      "text/html": [
       "<div>\n",
       "<style scoped>\n",
       "    .dataframe tbody tr th:only-of-type {\n",
       "        vertical-align: middle;\n",
       "    }\n",
       "\n",
       "    .dataframe tbody tr th {\n",
       "        vertical-align: top;\n",
       "    }\n",
       "\n",
       "    .dataframe thead th {\n",
       "        text-align: right;\n",
       "    }\n",
       "</style>\n",
       "<table border=\"1\" class=\"dataframe\">\n",
       "  <thead>\n",
       "    <tr style=\"text-align: right;\">\n",
       "      <th></th>\n",
       "      <th>AC</th>\n",
       "      <th>DAC</th>\n",
       "      <th>DDAC</th>\n",
       "    </tr>\n",
       "    <tr>\n",
       "      <th>Date</th>\n",
       "      <th></th>\n",
       "      <th></th>\n",
       "      <th></th>\n",
       "    </tr>\n",
       "  </thead>\n",
       "  <tbody>\n",
       "    <tr>\n",
       "      <th>2020-01-20</th>\n",
       "      <td>NaN</td>\n",
       "      <td>NaN</td>\n",
       "      <td>NaN</td>\n",
       "    </tr>\n",
       "    <tr>\n",
       "      <th>2020-01-21</th>\n",
       "      <td>0.0</td>\n",
       "      <td>NaN</td>\n",
       "      <td>NaN</td>\n",
       "    </tr>\n",
       "    <tr>\n",
       "      <th>2020-01-22</th>\n",
       "      <td>0.0</td>\n",
       "      <td>0.0</td>\n",
       "      <td>NaN</td>\n",
       "    </tr>\n",
       "    <tr>\n",
       "      <th>2020-01-23</th>\n",
       "      <td>0.0</td>\n",
       "      <td>0.0</td>\n",
       "      <td>0.0</td>\n",
       "    </tr>\n",
       "    <tr>\n",
       "      <th>2020-01-24</th>\n",
       "      <td>1.0</td>\n",
       "      <td>1.0</td>\n",
       "      <td>1.0</td>\n",
       "    </tr>\n",
       "  </tbody>\n",
       "</table>\n",
       "</div>"
      ],
      "text/plain": [
       "             AC  DAC  DDAC\n",
       "Date                      \n",
       "2020-01-20  NaN  NaN   NaN\n",
       "2020-01-21  0.0  NaN   NaN\n",
       "2020-01-22  0.0  0.0   NaN\n",
       "2020-01-23  0.0  0.0   0.0\n",
       "2020-01-24  1.0  1.0   1.0"
      ]
     },
     "execution_count": 8,
     "metadata": {},
     "output_type": "execute_result"
    }
   ],
   "source": [
    "df.head()"
   ]
  },
  {
   "cell_type": "markdown",
   "id": "47b4aba9",
   "metadata": {},
   "source": [
    "## Outlier Values"
   ]
  },
  {
   "cell_type": "code",
   "execution_count": 9,
   "id": "39740091",
   "metadata": {
    "ExecuteTime": {
     "end_time": "2023-05-02T12:31:51.986510Z",
     "start_time": "2023-05-02T12:31:51.956591Z"
    }
   },
   "outputs": [
    {
     "data": {
      "text/html": [
       "<div>\n",
       "<style scoped>\n",
       "    .dataframe tbody tr th:only-of-type {\n",
       "        vertical-align: middle;\n",
       "    }\n",
       "\n",
       "    .dataframe tbody tr th {\n",
       "        vertical-align: top;\n",
       "    }\n",
       "\n",
       "    .dataframe thead th {\n",
       "        text-align: right;\n",
       "    }\n",
       "</style>\n",
       "<table border=\"1\" class=\"dataframe\">\n",
       "  <thead>\n",
       "    <tr style=\"text-align: right;\">\n",
       "      <th></th>\n",
       "      <th>AC</th>\n",
       "      <th>DAC</th>\n",
       "      <th>DDAC</th>\n",
       "    </tr>\n",
       "  </thead>\n",
       "  <tbody>\n",
       "    <tr>\n",
       "      <th>count</th>\n",
       "      <td>1171.000000</td>\n",
       "      <td>1170.000000</td>\n",
       "      <td>1169.000000</td>\n",
       "    </tr>\n",
       "    <tr>\n",
       "      <th>mean</th>\n",
       "      <td>5124.964987</td>\n",
       "      <td>2.865812</td>\n",
       "      <td>-0.201027</td>\n",
       "    </tr>\n",
       "    <tr>\n",
       "      <th>std</th>\n",
       "      <td>12307.605125</td>\n",
       "      <td>4482.294851</td>\n",
       "      <td>7060.800099</td>\n",
       "    </tr>\n",
       "    <tr>\n",
       "      <th>min</th>\n",
       "      <td>0.000000</td>\n",
       "      <td>-46374.000000</td>\n",
       "      <td>-93354.000000</td>\n",
       "    </tr>\n",
       "    <tr>\n",
       "      <th>25%</th>\n",
       "      <td>98.500000</td>\n",
       "      <td>-194.500000</td>\n",
       "      <td>-76.000000</td>\n",
       "    </tr>\n",
       "    <tr>\n",
       "      <th>50%</th>\n",
       "      <td>522.000000</td>\n",
       "      <td>-7.000000</td>\n",
       "      <td>1.000000</td>\n",
       "    </tr>\n",
       "    <tr>\n",
       "      <th>75%</th>\n",
       "      <td>3929.500000</td>\n",
       "      <td>10.000000</td>\n",
       "      <td>84.000000</td>\n",
       "    </tr>\n",
       "    <tr>\n",
       "      <th>max</th>\n",
       "      <td>128371.000000</td>\n",
       "      <td>46980.000000</td>\n",
       "      <td>56804.000000</td>\n",
       "    </tr>\n",
       "  </tbody>\n",
       "</table>\n",
       "</div>"
      ],
      "text/plain": [
       "                  AC           DAC          DDAC\n",
       "count    1171.000000   1170.000000   1169.000000\n",
       "mean     5124.964987      2.865812     -0.201027\n",
       "std     12307.605125   4482.294851   7060.800099\n",
       "min         0.000000 -46374.000000 -93354.000000\n",
       "25%        98.500000   -194.500000    -76.000000\n",
       "50%       522.000000     -7.000000      1.000000\n",
       "75%      3929.500000     10.000000     84.000000\n",
       "max    128371.000000  46980.000000  56804.000000"
      ]
     },
     "execution_count": 9,
     "metadata": {},
     "output_type": "execute_result"
    }
   ],
   "source": [
    "df.describe()"
   ]
  },
  {
   "cell_type": "code",
   "execution_count": 10,
   "id": "79e4d65a",
   "metadata": {
    "ExecuteTime": {
     "end_time": "2023-05-02T12:31:52.002496Z",
     "start_time": "2023-05-02T12:31:51.988505Z"
    }
   },
   "outputs": [
    {
     "data": {
      "text/html": [
       "<div>\n",
       "<style scoped>\n",
       "    .dataframe tbody tr th:only-of-type {\n",
       "        vertical-align: middle;\n",
       "    }\n",
       "\n",
       "    .dataframe tbody tr th {\n",
       "        vertical-align: top;\n",
       "    }\n",
       "\n",
       "    .dataframe thead th {\n",
       "        text-align: right;\n",
       "    }\n",
       "</style>\n",
       "<table border=\"1\" class=\"dataframe\">\n",
       "  <thead>\n",
       "    <tr style=\"text-align: right;\">\n",
       "      <th></th>\n",
       "      <th>AC</th>\n",
       "      <th>DAC</th>\n",
       "      <th>DDAC</th>\n",
       "    </tr>\n",
       "    <tr>\n",
       "      <th>Date</th>\n",
       "      <th></th>\n",
       "      <th></th>\n",
       "      <th></th>\n",
       "    </tr>\n",
       "  </thead>\n",
       "  <tbody>\n",
       "    <tr>\n",
       "      <th>2022-02-18</th>\n",
       "      <td>25651.0</td>\n",
       "      <td>5963.0</td>\n",
       "      <td>5154.0</td>\n",
       "    </tr>\n",
       "    <tr>\n",
       "      <th>2022-02-23</th>\n",
       "      <td>41465.0</td>\n",
       "      <td>19659.0</td>\n",
       "      <td>17868.0</td>\n",
       "    </tr>\n",
       "    <tr>\n",
       "      <th>2022-02-24</th>\n",
       "      <td>37170.0</td>\n",
       "      <td>-4295.0</td>\n",
       "      <td>-23954.0</td>\n",
       "    </tr>\n",
       "    <tr>\n",
       "      <th>2022-02-25</th>\n",
       "      <td>35614.0</td>\n",
       "      <td>-1556.0</td>\n",
       "      <td>2739.0</td>\n",
       "    </tr>\n",
       "    <tr>\n",
       "      <th>2022-02-26</th>\n",
       "      <td>36829.0</td>\n",
       "      <td>1215.0</td>\n",
       "      <td>2771.0</td>\n",
       "    </tr>\n",
       "  </tbody>\n",
       "</table>\n",
       "</div>"
      ],
      "text/plain": [
       "                 AC      DAC     DDAC\n",
       "Date                                 \n",
       "2022-02-18  25651.0   5963.0   5154.0\n",
       "2022-02-23  41465.0  19659.0  17868.0\n",
       "2022-02-24  37170.0  -4295.0 -23954.0\n",
       "2022-02-25  35614.0  -1556.0   2739.0\n",
       "2022-02-26  36829.0   1215.0   2771.0"
      ]
     },
     "execution_count": 10,
     "metadata": {},
     "output_type": "execute_result"
    }
   ],
   "source": [
    "outlier_list = outlier(df, 'AC', 1.58)\n",
    "\n",
    "outlier_list.head()"
   ]
  },
  {
   "cell_type": "markdown",
   "id": "b8393335",
   "metadata": {},
   "source": [
    "## Null Values"
   ]
  },
  {
   "cell_type": "code",
   "execution_count": 11,
   "id": "f578f9b0",
   "metadata": {
    "ExecuteTime": {
     "end_time": "2023-05-02T12:31:52.018453Z",
     "start_time": "2023-05-02T12:31:52.004464Z"
    }
   },
   "outputs": [
    {
     "data": {
      "text/plain": [
       "AC      1\n",
       "DAC     2\n",
       "DDAC    3\n",
       "dtype: int64"
      ]
     },
     "execution_count": 11,
     "metadata": {},
     "output_type": "execute_result"
    }
   ],
   "source": [
    "df.isnull().sum()"
   ]
  },
  {
   "cell_type": "code",
   "execution_count": 9,
   "id": "b461ebc1",
   "metadata": {
    "ExecuteTime": {
     "end_time": "2023-05-02T13:07:52.091997Z",
     "start_time": "2023-05-02T13:07:52.079032Z"
    }
   },
   "outputs": [
    {
     "data": {
      "text/html": [
       "<div>\n",
       "<style scoped>\n",
       "    .dataframe tbody tr th:only-of-type {\n",
       "        vertical-align: middle;\n",
       "    }\n",
       "\n",
       "    .dataframe tbody tr th {\n",
       "        vertical-align: top;\n",
       "    }\n",
       "\n",
       "    .dataframe thead th {\n",
       "        text-align: right;\n",
       "    }\n",
       "</style>\n",
       "<table border=\"1\" class=\"dataframe\">\n",
       "  <thead>\n",
       "    <tr style=\"text-align: right;\">\n",
       "      <th></th>\n",
       "      <th>AC</th>\n",
       "      <th>DAC</th>\n",
       "      <th>DDAC</th>\n",
       "    </tr>\n",
       "    <tr>\n",
       "      <th>Date</th>\n",
       "      <th></th>\n",
       "      <th></th>\n",
       "      <th></th>\n",
       "    </tr>\n",
       "  </thead>\n",
       "  <tbody>\n",
       "    <tr>\n",
       "      <th>2020-01-23</th>\n",
       "      <td>0.0</td>\n",
       "      <td>0.0</td>\n",
       "      <td>0.0</td>\n",
       "    </tr>\n",
       "    <tr>\n",
       "      <th>2020-01-24</th>\n",
       "      <td>1.0</td>\n",
       "      <td>1.0</td>\n",
       "      <td>1.0</td>\n",
       "    </tr>\n",
       "    <tr>\n",
       "      <th>2020-01-25</th>\n",
       "      <td>0.0</td>\n",
       "      <td>-1.0</td>\n",
       "      <td>-2.0</td>\n",
       "    </tr>\n",
       "    <tr>\n",
       "      <th>2020-01-26</th>\n",
       "      <td>0.0</td>\n",
       "      <td>0.0</td>\n",
       "      <td>1.0</td>\n",
       "    </tr>\n",
       "    <tr>\n",
       "      <th>2020-01-27</th>\n",
       "      <td>0.0</td>\n",
       "      <td>0.0</td>\n",
       "      <td>0.0</td>\n",
       "    </tr>\n",
       "  </tbody>\n",
       "</table>\n",
       "</div>"
      ],
      "text/plain": [
       "             AC  DAC  DDAC\n",
       "Date                      \n",
       "2020-01-23  0.0  0.0   0.0\n",
       "2020-01-24  1.0  1.0   1.0\n",
       "2020-01-25  0.0 -1.0  -2.0\n",
       "2020-01-26  0.0  0.0   1.0\n",
       "2020-01-27  0.0  0.0   0.0"
      ]
     },
     "execution_count": 9,
     "metadata": {},
     "output_type": "execute_result"
    }
   ],
   "source": [
    "df.dropna(inplace = True)\n",
    "df.head()"
   ]
  },
  {
   "cell_type": "markdown",
   "id": "89a32c1a",
   "metadata": {
    "ExecuteTime": {
     "end_time": "2023-02-24T08:43:00.522699Z",
     "start_time": "2023-02-24T08:43:00.518710Z"
    }
   },
   "source": [
    "## Split Target"
   ]
  },
  {
   "cell_type": "code",
   "execution_count": 10,
   "id": "c3617012",
   "metadata": {
    "ExecuteTime": {
     "end_time": "2023-05-02T13:07:53.487651Z",
     "start_time": "2023-05-02T13:07:53.476679Z"
    }
   },
   "outputs": [
    {
     "name": "stdout",
     "output_type": "stream",
     "text": [
      "             AC  DAC  DDAC\n",
      "Date                      \n",
      "2020-01-23  0.0  0.0   0.0\n",
      "2020-01-24  1.0  1.0   1.0\n",
      "2020-01-25  0.0 -1.0  -2.0\n",
      "2020-01-26  0.0  0.0   1.0\n",
      "2020-01-27  0.0  0.0   0.0\n",
      "\n",
      "             AC\n",
      "Date           \n",
      "2020-01-23  0.0\n",
      "2020-01-24  1.0\n",
      "2020-01-25  0.0\n",
      "2020-01-26  0.0\n",
      "2020-01-27  0.0\n"
     ]
    }
   ],
   "source": [
    "x = df.iloc[:, 0:]\n",
    "y = df.iloc[:,:1]\n",
    "print(x.head())\n",
    "print()\n",
    "print(y.head())"
   ]
  },
  {
   "cell_type": "markdown",
   "id": "73a0fbf4",
   "metadata": {},
   "source": [
    "## Scailing"
   ]
  },
  {
   "cell_type": "code",
   "execution_count": 11,
   "id": "64ccac4d",
   "metadata": {
    "ExecuteTime": {
     "end_time": "2023-05-02T13:07:53.857700Z",
     "start_time": "2023-05-02T13:07:53.835663Z"
    }
   },
   "outputs": [],
   "source": [
    "ms = MinMaxScaler()\n",
    "ss = StandardScaler()\n",
    "\n",
    "x_ss = ss.fit_transform(x)\n",
    "y_ms = ms.fit_transform(y)"
   ]
  },
  {
   "cell_type": "code",
   "execution_count": 12,
   "id": "3f9d8acc",
   "metadata": {
    "ExecuteTime": {
     "end_time": "2023-05-02T13:07:54.013576Z",
     "start_time": "2023-05-02T13:07:54.001608Z"
    }
   },
   "outputs": [
    {
     "name": "stdout",
     "output_type": "stream",
     "text": [
      "[[-4.17002386e-01 -6.39909593e-04  2.84829698e-05]\n",
      " [-4.16921158e-01 -4.16809589e-04  1.70170594e-04]\n",
      " [-4.17002386e-01 -8.63009597e-04 -2.54892278e-04]\n",
      " [-4.17002386e-01 -6.39909593e-04  1.70170594e-04]\n",
      " [-4.17002386e-01 -6.39909593e-04  2.84829698e-05]]\n",
      "\n",
      "[[0.0000000e+00]\n",
      " [7.7899214e-06]\n",
      " [0.0000000e+00]\n",
      " [0.0000000e+00]\n",
      " [0.0000000e+00]]\n"
     ]
    }
   ],
   "source": [
    "print(x_ss[:5])\n",
    "print()\n",
    "print(y_ms[:5])"
   ]
  },
  {
   "cell_type": "code",
   "execution_count": 13,
   "id": "b66da8d3",
   "metadata": {
    "ExecuteTime": {
     "end_time": "2023-05-02T13:07:54.388333Z",
     "start_time": "2023-05-02T13:07:54.177703Z"
    }
   },
   "outputs": [],
   "source": [
    "x = x.to_numpy()\n",
    "y = y.to_numpy()\n",
    "x, y = window_sliding(x, y, 60)\n",
    "x_ss, y_ms = window_sliding(x_ss, y_ms, 60)"
   ]
  },
  {
   "cell_type": "code",
   "execution_count": 14,
   "id": "4b067b1a",
   "metadata": {
    "ExecuteTime": {
     "end_time": "2023-05-02T13:07:54.604251Z",
     "start_time": "2023-05-02T13:07:54.594278Z"
    }
   },
   "outputs": [
    {
     "name": "stdout",
     "output_type": "stream",
     "text": [
      "torch.Size([800, 60, 3])\n",
      "torch.Size([800, 1])\n",
      "torch.Size([309, 60, 3])\n",
      "torch.Size([309, 1])\n"
     ]
    }
   ],
   "source": [
    "x_train = x_ss[:800]\n",
    "y_train = y_ms[:800]\n",
    "x_test = x_ss[800:]\n",
    "y_test = y_ms[800:]\n",
    "print(x_train.shape)\n",
    "print(y_train.shape)\n",
    "print(x_test.shape)\n",
    "print(y_test.shape)"
   ]
  },
  {
   "cell_type": "code",
   "execution_count": 15,
   "id": "7dac198f",
   "metadata": {
    "ExecuteTime": {
     "end_time": "2023-05-02T13:07:55.098621Z",
     "start_time": "2023-05-02T13:07:55.083634Z"
    }
   },
   "outputs": [],
   "source": [
    "train = torch.utils.data.TensorDataset(x_train, y_train)\n",
    "test = torch.utils.data.TensorDataset(x_test, y_test)\n",
    "\n",
    "batch_size = 32\n",
    "train_loader = torch.utils.data.DataLoader(dataset = train, batch_size = batch_size, shuffle = False)\n",
    "test_loader = torch.utils.data.DataLoader(dataset = test, batch_size = batch_size, shuffle = False)"
   ]
  },
  {
   "cell_type": "markdown",
   "id": "22aae3fe",
   "metadata": {
    "ExecuteTime": {
     "end_time": "2023-02-24T09:29:26.258494Z",
     "start_time": "2023-02-24T09:29:26.187683Z"
    }
   },
   "source": [
    "# Model"
   ]
  },
  {
   "cell_type": "markdown",
   "id": "7b0c840b",
   "metadata": {
    "ExecuteTime": {
     "end_time": "2023-02-24T13:14:29.037267Z",
     "start_time": "2023-02-24T13:14:29.033276Z"
    }
   },
   "source": [
    "## Define Model"
   ]
  },
  {
   "cell_type": "code",
   "execution_count": 16,
   "id": "1fa31a1b",
   "metadata": {
    "ExecuteTime": {
     "end_time": "2023-05-02T13:07:57.297709Z",
     "start_time": "2023-05-02T13:07:57.276764Z"
    }
   },
   "outputs": [],
   "source": [
    "class RNN(nn.Module):\n",
    "    def __init__(self, input_size, hidden_size, sequence_length, num_layers, dropout, device):\n",
    "        super(RNN, self).__init__()\n",
    "        self.device = device\n",
    "        self.hidden_size = hidden_size\n",
    "        self.num_layers = num_layers\n",
    "        self.rnn = nn.RNN(input_size,\n",
    "                          hidden_size, \n",
    "                          num_layers, \n",
    "                          batch_first = True,  \n",
    "                          dropout = 0.3)\n",
    "        self.fc1 = nn.Linear(hidden_size * sequence_length, 64)\n",
    "        self.fc2 = nn.Linear(64, 1)\n",
    "        self.relu = nn.ReLU()\n",
    "\n",
    "    def forward(self, x):\n",
    "        h0 = torch.zeros(self.num_layers, x.size()[0], self.hidden_size).to(self.device)\n",
    "        out, hn = self.rnn(x, h0)\n",
    "        out = out.reshape(out.shape[0], -1)\n",
    "        out = self.fc1(out)\n",
    "        out = self.relu(out)\n",
    "        out = self.fc2(out)\n",
    "        out = torch.flatten(out)\n",
    "        return out"
   ]
  },
  {
   "cell_type": "code",
   "execution_count": 17,
   "id": "8dbec965",
   "metadata": {
    "ExecuteTime": {
     "end_time": "2023-05-02T13:07:58.164688Z",
     "start_time": "2023-05-02T13:07:58.153729Z"
    }
   },
   "outputs": [],
   "source": [
    "input_size = x_ss.size(2)\n",
    "num_layers = 1\n",
    "hidden_size = 16\n",
    "sequence_length = 60"
   ]
  },
  {
   "cell_type": "code",
   "execution_count": 18,
   "id": "1648c850",
   "metadata": {
    "ExecuteTime": {
     "end_time": "2023-05-02T13:08:05.705308Z",
     "start_time": "2023-05-02T13:08:04.210746Z"
    }
   },
   "outputs": [],
   "source": [
    "model = RNN(input_size = input_size,\n",
    "           hidden_size = hidden_size,\n",
    "           sequence_length = sequence_length,\n",
    "           num_layers = num_layers, \n",
    "           dropout = 0.3, \n",
    "           device = device).to(device)\n",
    "\n",
    "#criterion = nn.MSELoss()\n",
    "criterion = \n",
    "lr = 1e-3\n",
    "num_epochs = 10000\n",
    "optimizer = Adam(model.parameters(), lr = lr)\n",
    "patience = 10"
   ]
  },
  {
   "cell_type": "markdown",
   "id": "6c3c52e8",
   "metadata": {},
   "source": [
    "## Training"
   ]
  },
  {
   "cell_type": "code",
   "execution_count": 19,
   "id": "ba8ddecb",
   "metadata": {
    "ExecuteTime": {
     "end_time": "2023-05-02T13:09:09.045529Z",
     "start_time": "2023-05-02T13:09:05.936543Z"
    }
   },
   "outputs": [
    {
     "name": "stdout",
     "output_type": "stream",
     "text": [
      "\n",
      " Early Stopping / epoch: 41 loss: 0.0034\n"
     ]
    }
   ],
   "source": [
    "loss_list = []\n",
    "n = len(train_loader)\n",
    "\n",
    "for epoch in range(num_epochs):\n",
    "    running_loss = 0.0\n",
    "    \n",
    "    for data in train_loader:\n",
    "        seq, target = data\n",
    "        out = model(seq)\n",
    "        loss = criterion(out, target)\n",
    "        \n",
    "        optimizer.zero_grad()\n",
    "        loss.backward()\n",
    "        optimizer.step()\n",
    "        running_loss += loss.item()\n",
    "    loss_list.append(running_loss/n)\n",
    "    if (epoch+1) % 100 == 0:\n",
    "        print('epoch: %d loss: %.4f'%(epoch+1, running_loss/n))\n",
    "        \n",
    "    if (epoch % patience == 0) & (epoch != 0):\n",
    "            \n",
    "            if loss_list[epoch-patience] < loss_list[epoch]:\n",
    "                print('\\n Early Stopping / epoch: %d loss: %.4f'%(epoch+1, running_loss/n))\n",
    "                \n",
    "                break"
   ]
  },
  {
   "cell_type": "markdown",
   "id": "f921669f",
   "metadata": {},
   "source": [
    "## Visualize Loss Graph"
   ]
  },
  {
   "cell_type": "code",
   "execution_count": 31,
   "id": "84a929c6",
   "metadata": {
    "ExecuteTime": {
     "end_time": "2023-05-02T12:33:22.691578Z",
     "start_time": "2023-05-02T12:33:22.495550Z"
    }
   },
   "outputs": [
    {
     "data": {
      "image/png": "[encoded data removed]",
      "text/plain": [
       "<Figure size 2000x1000 with 1 Axes>"
      ]
     },
     "metadata": {},
     "output_type": "display_data"
    }
   ],
   "source": [
    "plt.figure(figsize = (20, 10))\n",
    "plt.plot(loss_list)\n",
    "plt.show()"
   ]
  },
  {
   "cell_type": "markdown",
   "id": "cb7362b2",
   "metadata": {
    "ExecuteTime": {
     "end_time": "2023-02-24T13:12:11.489529Z",
     "start_time": "2023-02-24T13:12:11.485539Z"
    }
   },
   "source": [
    "## Model Save and Load"
   ]
  },
  {
   "cell_type": "code",
   "execution_count": 32,
   "id": "b0bf867f",
   "metadata": {
    "ExecuteTime": {
     "end_time": "2023-05-02T12:33:26.730582Z",
     "start_time": "2023-05-02T12:33:26.709638Z"
    }
   },
   "outputs": [],
   "source": [
    "PATH = \"../../model/RNN_many_to_one.pth\"\n",
    "torch.save(model.state_dict(), PATH)"
   ]
  },
  {
   "cell_type": "code",
   "execution_count": 33,
   "id": "0b7145b6",
   "metadata": {
    "ExecuteTime": {
     "end_time": "2023-05-02T12:33:28.678429Z",
     "start_time": "2023-05-02T12:33:28.646454Z"
    }
   },
   "outputs": [
    {
     "data": {
      "text/plain": [
       "RNN(\n",
       "  (rnn): RNN(3, 16, batch_first=True, dropout=0.3)\n",
       "  (fc1): Linear(in_features=960, out_features=64, bias=True)\n",
       "  (fc2): Linear(in_features=64, out_features=1, bias=True)\n",
       "  (relu): ReLU()\n",
       ")"
      ]
     },
     "execution_count": 33,
     "metadata": {},
     "output_type": "execute_result"
    }
   ],
   "source": [
    "PATH = \"../../model/RNN_many_to_one.pth\"\n",
    "model = RNN(input_size = input_size,\n",
    "           hidden_size = hidden_size,\n",
    "           sequence_length = sequence_length,\n",
    "           num_layers = num_layers,\n",
    "           dropout = 0.3, \n",
    "           device = device).to(device)\n",
    "model.load_state_dict(torch.load(PATH), strict=False)\n",
    "model.eval()"
   ]
  },
  {
   "cell_type": "markdown",
   "id": "beac9a08",
   "metadata": {},
   "source": [
    "## Visualize and Compare predicted values with actual values"
   ]
  },
  {
   "cell_type": "code",
   "execution_count": 35,
   "id": "a8042a80",
   "metadata": {
    "ExecuteTime": {
     "end_time": "2023-05-02T12:33:34.017493Z",
     "start_time": "2023-05-02T12:33:33.846637Z"
    }
   },
   "outputs": [
    {
     "data": {
      "image/png": "[encoded data removed]",
      "text/plain": [
       "<Figure size 1000x600 with 1 Axes>"
      ]
     },
     "metadata": {},
     "output_type": "display_data"
    }
   ],
   "source": [
    "train_predict = model(x_ss)\n",
    "predicted = train_predict.cpu().data.numpy()\n",
    "label_y = y_ms.cpu().data.numpy()\n",
    "\n",
    "predicted = predicted.reshape(1109, 1)\n",
    "predicted = ms.inverse_transform(predicted)\n",
    "label_y = ms.inverse_transform(label_y)\n",
    "\n",
    "plt.figure(figsize = (10, 6))\n",
    "plt.axvline(x = 800, c = 'r', linestyle = '--')\n",
    "\n",
    "plt.plot(label_y, label = 'Actual Data')\n",
    "plt.plot(predicted, label = 'Predicted Data')\n",
    "plt.title('Time-Series Prediction')\n",
    "plt.legend()\n",
    "plt.show()"
   ]
  },
  {
   "cell_type": "markdown",
   "id": "5da725dc",
   "metadata": {},
   "source": [
    "## Calculate MAE, RMSE, MAPE"
   ]
  },
  {
   "cell_type": "code",
   "execution_count": 36,
   "id": "0cbcc332",
   "metadata": {
    "ExecuteTime": {
     "end_time": "2023-05-02T12:33:36.665725Z",
     "start_time": "2023-05-02T12:33:36.650541Z"
    }
   },
   "outputs": [
    {
     "name": "stdout",
     "output_type": "stream",
     "text": [
      "MAE SCORE :  3371.726\n",
      "RMSE SCORE :  5686.66897225432\n",
      "MAPE SCORE :  118.44719648361206\n"
     ]
    }
   ],
   "source": [
    "def MAE(true, pred):\n",
    "    return np.mean(np.abs(true-pred))\n",
    "def RMSE(true, pred):\n",
    "    return np.mean((true-pred)**2)**(1/2)\n",
    "def MAPE(true, pred):\n",
    "    return 100 * np.mean(np.abs((true-pred)/true))\n",
    "\n",
    "print('MAE SCORE : ', MAE(predicted, label_y))\n",
    "print('RMSE SCORE : ', RMSE(predicted, label_y))\n",
    "print('MAPE SCORE : ', MAPE(predicted, label_y))"
   ]
  },
  {
   "cell_type": "markdown",
   "id": "2367d18f",
   "metadata": {},
   "source": [
    "# Predict"
   ]
  },
  {
   "cell_type": "markdown",
   "id": "c92586a9",
   "metadata": {
    "ExecuteTime": {
     "end_time": "2023-02-26T15:20:16.790573Z",
     "start_time": "2023-02-26T15:20:16.781597Z"
    }
   },
   "source": [
    "## Predict more values"
   ]
  },
  {
   "cell_type": "code",
   "execution_count": 37,
   "id": "af00df66",
   "metadata": {
    "ExecuteTime": {
     "end_time": "2023-05-02T12:33:52.117521Z",
     "start_time": "2023-05-02T12:33:52.084587Z"
    },
    "scrolled": true
   },
   "outputs": [
    {
     "name": "stdout",
     "output_type": "stream",
     "text": [
      "[6797.6006, 6771.5527, 7042.5156, 7225.756, 7379.3906, 7991.544, 9024.457]\n"
     ]
    }
   ],
   "source": [
    "pre_ori_df = torch.zeros(1, 60, 3)\n",
    "pre_ori_df[0] = x[-1]\n",
    "val7 = [10000, 12000, 18000, 30000, 38000, 60000, 120000]\n",
    "pre7 = []\n",
    "\n",
    "for i in range(len(val7)):\n",
    "    pre_ori_df[0][:-1] = pre_ori_df[0][1:].clone()\n",
    "    pre_ori_df[0][-1][0] = val7[i]\n",
    "    pre_ori_df[0][-1][1] = pre_ori_df[0][-1][0] - pre_ori_df[0][-2][0]\n",
    "    pre_ori_df[0][-1][2] = pre_ori_df[0][-1][1] - pre_ori_df[0][-2][1]\n",
    "    \n",
    "    pre_ms_df = pre_ori_df.reshape(-1, 1)\n",
    "    pre_ms_df = ms.transform(pre_ms_df).reshape(1, 60, 3)\n",
    "    \n",
    "    pre_ms_value = model(torch.FloatTensor(pre_ms_df).to(device))\n",
    "    pre_ms_value = pre_ms_value.cpu().detach().numpy().reshape(-1, 1)\n",
    "    pre_ori_value = ms.inverse_transform(pre_ms_value)\n",
    "\n",
    "    pre7.append(pre_ori_value[0][0])\n",
    "\n",
    "print(pre7) \n",
    "\n",
    "pre7 = np.array(pre7).reshape(-1, 1)\n",
    "predicted_final = np.vstack((predicted, pre7))\n",
    "label_y_final = np.vstack((label_y, np.array(val7).reshape(-1, 1)))"
   ]
  },
  {
   "cell_type": "code",
   "execution_count": 38,
   "id": "263e5e6f",
   "metadata": {
    "ExecuteTime": {
     "end_time": "2023-05-02T12:33:52.597700Z",
     "start_time": "2023-05-02T12:33:52.423550Z"
    }
   },
   "outputs": [
    {
     "data": {
      "image/png": "[encoded data removed]",
      "text/plain": [
       "<Figure size 1000x600 with 1 Axes>"
      ]
     },
     "metadata": {},
     "output_type": "display_data"
    }
   ],
   "source": [
    "plt.figure(figsize = (10, 6)) \n",
    "plt.axvline(x = 42, c = 'g', linestyle = '--')\n",
    "\n",
    "plt.plot(label_y_final[-50:], label = 'Actual Data')\n",
    "plt.plot(predicted_final[-50:], label = 'Predicted Data')\n",
    "plt.title('Time-Series Prediction')\n",
    "plt.legend()\n",
    "plt.show()"
   ]
  },
  {
   "cell_type": "code",
   "execution_count": 39,
   "id": "d0dae6a4",
   "metadata": {
    "ExecuteTime": {
     "end_time": "2023-05-02T12:33:53.003807Z",
     "start_time": "2023-05-02T12:33:52.839693Z"
    }
   },
   "outputs": [
    {
     "data": {
      "image/png": "[encoded data removed]",
      "text/plain": [
       "<Figure size 640x480 with 1 Axes>"
      ]
     },
     "metadata": {},
     "output_type": "display_data"
    }
   ],
   "source": [
    "plt.plot(label_y_final[-8:], label = 'Actual Data')\n",
    "plt.plot(predicted_final[-8:], label = 'Predicted Data')\n",
    "plt.title('Time-Series Prediction')\n",
    "plt.legend()\n",
    "plt.show()"
   ]
  },
  {
   "cell_type": "code",
   "execution_count": null,
   "id": "7e896baf",
   "metadata": {},
   "outputs": [],
   "source": []
  }
 ],
 "metadata": {
  "kernelspec": {
   "display_name": "KDA_DA",
   "language": "python",
   "name": "kda_da"
  },
  "language_info": {
   "codemirror_mode": {
    "name": "ipython",
    "version": 3
   },
   "file_extension": ".py",
   "mimetype": "text/x-python",
   "name": "python",
   "nbconvert_exporter": "python",
   "pygments_lexer": "ipython3",
   "version": "3.10.8"
  },
  "toc": {
   "base_numbering": 1,
   "nav_menu": {},
   "number_sections": true,
   "sideBar": true,
   "skip_h1_title": false,
   "title_cell": "Table of Contents",
   "title_sidebar": "Contents",
   "toc_cell": false,
   "toc_position": {},
   "toc_section_display": true,
   "toc_window_display": false
  }
 },
 "nbformat": 4,
 "nbformat_minor": 5
}
