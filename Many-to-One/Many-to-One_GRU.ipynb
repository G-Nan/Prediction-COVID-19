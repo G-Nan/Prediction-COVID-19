{
 "cells": [
  {
   "cell_type": "markdown",
   "id": "4206ab91",
   "metadata": {},
   "source": [
    "# Packages & Functions"
   ]
  },
  {
   "cell_type": "markdown",
   "id": "2e7fbda4",
   "metadata": {},
   "source": [
    "## Packages"
   ]
  },
  {
   "cell_type": "code",
   "execution_count": 49,
   "id": "fe619aa0",
   "metadata": {
    "ExecuteTime": {
     "end_time": "2023-03-14T12:49:16.020768Z",
     "start_time": "2023-03-14T12:49:16.016767Z"
    }
   },
   "outputs": [],
   "source": [
    "import os\n",
    "import time\n",
    "import warnings\n",
    "\n",
    "import numpy as np\n",
    "import pandas as pd\n",
    "import matplotlib.pyplot as plt\n",
    "\n",
    "import torch\n",
    "import torch.nn as nn\n",
    "from torch.optim.adam import Adam\n",
    "from torch.utils.data import TensorDataset, DataLoader\n",
    "from torch.autograd import Variable\n",
    "from tqdm import tqdm_notebook\n",
    "from sklearn.preprocessing import StandardScaler, MinMaxScaler\n",
    "from sklearn.model_selection import train_test_split\n",
    "\n",
    "warnings.filterwarnings('ignore')\n",
    "device = torch.device('cuda:0' if torch.cuda.is_available() else 'cpu')"
   ]
  },
  {
   "cell_type": "markdown",
   "id": "93c4000a",
   "metadata": {},
   "source": [
    "## Functions"
   ]
  },
  {
   "cell_type": "code",
   "execution_count": 50,
   "id": "b61d1ca4",
   "metadata": {
    "ExecuteTime": {
     "end_time": "2023-03-14T12:49:16.370383Z",
     "start_time": "2023-03-14T12:49:16.365396Z"
    }
   },
   "outputs": [],
   "source": [
    "def outlier(df, col, z):\n",
    "    return df[abs(df[col] - np.mean(df[col]))/np.std(df[col])>z]"
   ]
  },
  {
   "cell_type": "code",
   "execution_count": 51,
   "id": "1a95fb6f",
   "metadata": {
    "ExecuteTime": {
     "end_time": "2023-03-14T12:49:16.546187Z",
     "start_time": "2023-03-14T12:49:16.541201Z"
    }
   },
   "outputs": [],
   "source": [
    "def scailing(x, y):\n",
    "\n",
    "    ms = MinMaxScaler()\n",
    "    ss = StandardScaler()\n",
    "\n",
    "    x_ss = ss.fit_transform(x)\n",
    "    y_ms = ms.fit_transform(y)\n",
    "\n",
    "    return x_ss, y_ms"
   ]
  },
  {
   "cell_type": "code",
   "execution_count": 52,
   "id": "91dc5e00",
   "metadata": {
    "ExecuteTime": {
     "end_time": "2023-03-14T12:49:16.720991Z",
     "start_time": "2023-03-14T12:49:16.714981Z"
    }
   },
   "outputs": [],
   "source": [
    "def window_sliding(x, y, step):\n",
    "    \n",
    "    x_ws, y_ws = list(), list()\n",
    "    for i in range(len(df)):\n",
    "        x_end = i + step\n",
    "        y_end = x_end + 1\n",
    "        \n",
    "        if y_end > len(df):\n",
    "            break\n",
    "        \n",
    "        tx = x[i:x_end, :]\n",
    "        ty = y[x_end:y_end, :]\n",
    "        \n",
    "        x_ws.append(tx)\n",
    "        y_ws.append(ty)\n",
    "        \n",
    "    return torch.FloatTensor(x_ws).to(device), torch.FloatTensor(y_ws).to(device).view([-1, 1])"
   ]
  },
  {
   "cell_type": "code",
   "execution_count": 53,
   "id": "5328c388",
   "metadata": {
    "ExecuteTime": {
     "end_time": "2023-03-14T12:49:16.898252Z",
     "start_time": "2023-03-14T12:49:16.891271Z"
    }
   },
   "outputs": [],
   "source": [
    "def plotting(train_loader, test_loader, actual):\n",
    "    with torch.no_grad():\n",
    "        train_pred = []\n",
    "        test_pred = []\n",
    "\n",
    "        for data in train_loader:\n",
    "            seq, target = data\n",
    "            out = model(seq)\n",
    "            train_pred += out.cpu().numpy().tolist()\n",
    "\n",
    "        for data in test_loader:\n",
    "            seq, target = data\n",
    "            out = model(seq)\n",
    "            test_pred += out.cpu().numpy().tolist()\n",
    "      \n",
    "    total = train_pred + test_pred\n",
    "    plt.figure(figsize=(20,10))\n",
    "    plt.plot(np.ones(100)*len(train_pred), np.linspace(0,1,100), '--', linewidth=0.6)\n",
    "    plt.plot(actual, '--')\n",
    "    plt.plot(total, 'b', linewidth=0.6)\n",
    "\n",
    "    plt.legend(['train boundary', 'actual', 'prediction'])\n",
    "    plt.show()\n"
   ]
  },
  {
   "cell_type": "markdown",
   "id": "03d3afe0",
   "metadata": {
    "ExecuteTime": {
     "end_time": "2023-02-24T08:26:15.543024Z",
     "start_time": "2023-02-24T08:26:15.540034Z"
    }
   },
   "source": [
    "# Data Processing"
   ]
  },
  {
   "cell_type": "markdown",
   "id": "367ce088",
   "metadata": {},
   "source": [
    "## Load Data"
   ]
  },
  {
   "cell_type": "code",
   "execution_count": 54,
   "id": "bbebe8c0",
   "metadata": {
    "ExecuteTime": {
     "end_time": "2023-03-14T12:49:18.312493Z",
     "start_time": "2023-03-14T12:49:18.303489Z"
    }
   },
   "outputs": [
    {
     "name": "stdout",
     "output_type": "stream",
     "text": [
      "date          object\n",
      "시도명           object\n",
      "def_Acc        int64\n",
      "daily_Acc    float64\n",
      "DAC          float64\n",
      "DDAC         float64\n",
      "dtype: object\n"
     ]
    }
   ],
   "source": [
    "data = pd.read_csv('../Data/서울_data.csv')\n",
    "print(data.dtypes)"
   ]
  },
  {
   "cell_type": "markdown",
   "id": "11855838",
   "metadata": {},
   "source": [
    "## Index & Col"
   ]
  },
  {
   "cell_type": "code",
   "execution_count": 55,
   "id": "5c55afe3",
   "metadata": {
    "ExecuteTime": {
     "end_time": "2023-03-14T12:49:19.132577Z",
     "start_time": "2023-03-14T12:49:19.123602Z"
    }
   },
   "outputs": [],
   "source": [
    "df = data.loc[:, ['date', 'daily_Acc']]\n",
    "df.rename(columns = {'daily_Acc':'AC', 'date':'Date'}, inplace = True)\n",
    "df['DAC'] = df['AC'] - df['AC'].shift(1)\n",
    "df['DDAC'] = df['DAC'] - df['DAC'].shift(1)\n",
    "df['Date'] = pd.to_datetime(df['Date'])\n",
    "df.set_index('Date', inplace = True)"
   ]
  },
  {
   "cell_type": "code",
   "execution_count": 56,
   "id": "0414647c",
   "metadata": {
    "ExecuteTime": {
     "end_time": "2023-03-14T12:49:19.530687Z",
     "start_time": "2023-03-14T12:49:19.519723Z"
    }
   },
   "outputs": [
    {
     "data": {
      "text/html": [
       "<div>\n",
       "<style scoped>\n",
       "    .dataframe tbody tr th:only-of-type {\n",
       "        vertical-align: middle;\n",
       "    }\n",
       "\n",
       "    .dataframe tbody tr th {\n",
       "        vertical-align: top;\n",
       "    }\n",
       "\n",
       "    .dataframe thead th {\n",
       "        text-align: right;\n",
       "    }\n",
       "</style>\n",
       "<table border=\"1\" class=\"dataframe\">\n",
       "  <thead>\n",
       "    <tr style=\"text-align: right;\">\n",
       "      <th></th>\n",
       "      <th>AC</th>\n",
       "      <th>DAC</th>\n",
       "      <th>DDAC</th>\n",
       "    </tr>\n",
       "    <tr>\n",
       "      <th>Date</th>\n",
       "      <th></th>\n",
       "      <th></th>\n",
       "      <th></th>\n",
       "    </tr>\n",
       "  </thead>\n",
       "  <tbody>\n",
       "    <tr>\n",
       "      <th>2020-07-29</th>\n",
       "      <td>NaN</td>\n",
       "      <td>NaN</td>\n",
       "      <td>NaN</td>\n",
       "    </tr>\n",
       "    <tr>\n",
       "      <th>2020-07-30</th>\n",
       "      <td>3.0</td>\n",
       "      <td>NaN</td>\n",
       "      <td>NaN</td>\n",
       "    </tr>\n",
       "    <tr>\n",
       "      <th>2020-07-31</th>\n",
       "      <td>8.0</td>\n",
       "      <td>5.0</td>\n",
       "      <td>NaN</td>\n",
       "    </tr>\n",
       "    <tr>\n",
       "      <th>2020-08-01</th>\n",
       "      <td>2.0</td>\n",
       "      <td>-6.0</td>\n",
       "      <td>-11.0</td>\n",
       "    </tr>\n",
       "    <tr>\n",
       "      <th>2020-08-02</th>\n",
       "      <td>5.0</td>\n",
       "      <td>3.0</td>\n",
       "      <td>9.0</td>\n",
       "    </tr>\n",
       "  </tbody>\n",
       "</table>\n",
       "</div>"
      ],
      "text/plain": [
       "             AC  DAC  DDAC\n",
       "Date                      \n",
       "2020-07-29  NaN  NaN   NaN\n",
       "2020-07-30  3.0  NaN   NaN\n",
       "2020-07-31  8.0  5.0   NaN\n",
       "2020-08-01  2.0 -6.0 -11.0\n",
       "2020-08-02  5.0  3.0   9.0"
      ]
     },
     "execution_count": 56,
     "metadata": {},
     "output_type": "execute_result"
    }
   ],
   "source": [
    "df.head()"
   ]
  },
  {
   "cell_type": "markdown",
   "id": "47b4aba9",
   "metadata": {},
   "source": [
    "## Outlier Values"
   ]
  },
  {
   "cell_type": "code",
   "execution_count": 57,
   "id": "39740091",
   "metadata": {
    "ExecuteTime": {
     "end_time": "2023-03-14T12:49:20.818603Z",
     "start_time": "2023-03-14T12:49:20.801648Z"
    }
   },
   "outputs": [
    {
     "data": {
      "text/html": [
       "<div>\n",
       "<style scoped>\n",
       "    .dataframe tbody tr th:only-of-type {\n",
       "        vertical-align: middle;\n",
       "    }\n",
       "\n",
       "    .dataframe tbody tr th {\n",
       "        vertical-align: top;\n",
       "    }\n",
       "\n",
       "    .dataframe thead th {\n",
       "        text-align: right;\n",
       "    }\n",
       "</style>\n",
       "<table border=\"1\" class=\"dataframe\">\n",
       "  <thead>\n",
       "    <tr style=\"text-align: right;\">\n",
       "      <th></th>\n",
       "      <th>AC</th>\n",
       "      <th>DAC</th>\n",
       "      <th>DDAC</th>\n",
       "    </tr>\n",
       "  </thead>\n",
       "  <tbody>\n",
       "    <tr>\n",
       "      <th>count</th>\n",
       "      <td>9.490000e+02</td>\n",
       "      <td>9.480000e+02</td>\n",
       "      <td>9.470000e+02</td>\n",
       "    </tr>\n",
       "    <tr>\n",
       "      <th>mean</th>\n",
       "      <td>6.251764e+03</td>\n",
       "      <td>2.114979e+00</td>\n",
       "      <td>-1.478353e-01</td>\n",
       "    </tr>\n",
       "    <tr>\n",
       "      <th>std</th>\n",
       "      <td>1.240460e+05</td>\n",
       "      <td>2.139547e+05</td>\n",
       "      <td>3.910851e+05</td>\n",
       "    </tr>\n",
       "    <tr>\n",
       "      <th>min</th>\n",
       "      <td>-2.613846e+06</td>\n",
       "      <td>-2.704101e+06</td>\n",
       "      <td>-8.073727e+06</td>\n",
       "    </tr>\n",
       "    <tr>\n",
       "      <th>25%</th>\n",
       "      <td>1.830000e+02</td>\n",
       "      <td>-4.177500e+02</td>\n",
       "      <td>-1.290000e+02</td>\n",
       "    </tr>\n",
       "    <tr>\n",
       "      <th>50%</th>\n",
       "      <td>8.590000e+02</td>\n",
       "      <td>-2.150000e+01</td>\n",
       "      <td>3.000000e+00</td>\n",
       "    </tr>\n",
       "    <tr>\n",
       "      <th>75%</th>\n",
       "      <td>5.967000e+03</td>\n",
       "      <td>1.900000e+01</td>\n",
       "      <td>1.390000e+02</td>\n",
       "    </tr>\n",
       "    <tr>\n",
       "      <th>max</th>\n",
       "      <td>2.755780e+06</td>\n",
       "      <td>5.369626e+06</td>\n",
       "      <td>8.049505e+06</td>\n",
       "    </tr>\n",
       "  </tbody>\n",
       "</table>\n",
       "</div>"
      ],
      "text/plain": [
       "                 AC           DAC          DDAC\n",
       "count  9.490000e+02  9.480000e+02  9.470000e+02\n",
       "mean   6.251764e+03  2.114979e+00 -1.478353e-01\n",
       "std    1.240460e+05  2.139547e+05  3.910851e+05\n",
       "min   -2.613846e+06 -2.704101e+06 -8.073727e+06\n",
       "25%    1.830000e+02 -4.177500e+02 -1.290000e+02\n",
       "50%    8.590000e+02 -2.150000e+01  3.000000e+00\n",
       "75%    5.967000e+03  1.900000e+01  1.390000e+02\n",
       "max    2.755780e+06  5.369626e+06  8.049505e+06"
      ]
     },
     "execution_count": 57,
     "metadata": {},
     "output_type": "execute_result"
    }
   ],
   "source": [
    "df.describe()"
   ]
  },
  {
   "cell_type": "code",
   "execution_count": 58,
   "id": "79e4d65a",
   "metadata": {
    "ExecuteTime": {
     "end_time": "2023-03-14T12:49:27.003986Z",
     "start_time": "2023-03-14T12:49:26.994005Z"
    }
   },
   "outputs": [
    {
     "data": {
      "text/html": [
       "<div>\n",
       "<style scoped>\n",
       "    .dataframe tbody tr th:only-of-type {\n",
       "        vertical-align: middle;\n",
       "    }\n",
       "\n",
       "    .dataframe tbody tr th {\n",
       "        vertical-align: top;\n",
       "    }\n",
       "\n",
       "    .dataframe thead th {\n",
       "        text-align: right;\n",
       "    }\n",
       "</style>\n",
       "<table border=\"1\" class=\"dataframe\">\n",
       "  <thead>\n",
       "    <tr style=\"text-align: right;\">\n",
       "      <th></th>\n",
       "      <th>AC</th>\n",
       "      <th>DAC</th>\n",
       "      <th>DDAC</th>\n",
       "    </tr>\n",
       "    <tr>\n",
       "      <th>Date</th>\n",
       "      <th></th>\n",
       "      <th></th>\n",
       "      <th></th>\n",
       "    </tr>\n",
       "  </thead>\n",
       "  <tbody>\n",
       "    <tr>\n",
       "      <th>2022-03-30</th>\n",
       "      <td>-2613846.0</td>\n",
       "      <td>-2679879.0</td>\n",
       "      <td>-2711722.0</td>\n",
       "    </tr>\n",
       "    <tr>\n",
       "      <th>2022-03-31</th>\n",
       "      <td>2755780.0</td>\n",
       "      <td>5369626.0</td>\n",
       "      <td>8049505.0</td>\n",
       "    </tr>\n",
       "  </tbody>\n",
       "</table>\n",
       "</div>"
      ],
      "text/plain": [
       "                   AC        DAC       DDAC\n",
       "Date                                       \n",
       "2022-03-30 -2613846.0 -2679879.0 -2711722.0\n",
       "2022-03-31  2755780.0  5369626.0  8049505.0"
      ]
     },
     "execution_count": 58,
     "metadata": {},
     "output_type": "execute_result"
    }
   ],
   "source": [
    "outlier_list = outlier(df, 'AC', 1.58)\n",
    "\n",
    "outlier_list"
   ]
  },
  {
   "cell_type": "code",
   "execution_count": 59,
   "id": "acabc421",
   "metadata": {
    "ExecuteTime": {
     "end_time": "2023-03-14T12:49:27.650803Z",
     "start_time": "2023-03-14T12:49:27.637854Z"
    }
   },
   "outputs": [],
   "source": [
    "data = data.copy()\n",
    "data['def_Acc'][609] = 2699163\n",
    "df = data.loc[:, ['date', 'def_Acc']]\n",
    "df.rename(columns = {'def_Acc':'AC', 'date':'Date'}, inplace = True)\n",
    "df['DAC'] = df['AC'] - df['AC'].shift(1)\n",
    "df['DDAC'] = df['DAC'] - df['DAC'].shift(1)\n",
    "df['DDDAC'] = df['DDAC'] - df['DDAC'].shift(1)\n",
    "df['Date'] = pd.to_datetime(df['Date'])\n",
    "df.set_index('Date', inplace = True)\n",
    "df = df.loc[:, ['DAC', 'DDAC', 'DDDAC']]"
   ]
  },
  {
   "cell_type": "code",
   "execution_count": 60,
   "id": "bc1a8c50",
   "metadata": {
    "ExecuteTime": {
     "end_time": "2023-03-14T12:49:28.318064Z",
     "start_time": "2023-03-14T12:49:28.302106Z"
    }
   },
   "outputs": [
    {
     "data": {
      "text/html": [
       "<div>\n",
       "<style scoped>\n",
       "    .dataframe tbody tr th:only-of-type {\n",
       "        vertical-align: middle;\n",
       "    }\n",
       "\n",
       "    .dataframe tbody tr th {\n",
       "        vertical-align: top;\n",
       "    }\n",
       "\n",
       "    .dataframe thead th {\n",
       "        text-align: right;\n",
       "    }\n",
       "</style>\n",
       "<table border=\"1\" class=\"dataframe\">\n",
       "  <thead>\n",
       "    <tr style=\"text-align: right;\">\n",
       "      <th></th>\n",
       "      <th>DAC</th>\n",
       "      <th>DDAC</th>\n",
       "      <th>DDDAC</th>\n",
       "    </tr>\n",
       "  </thead>\n",
       "  <tbody>\n",
       "    <tr>\n",
       "      <th>count</th>\n",
       "      <td>949.000000</td>\n",
       "      <td>948.000000</td>\n",
       "      <td>947.000000</td>\n",
       "    </tr>\n",
       "    <tr>\n",
       "      <th>mean</th>\n",
       "      <td>6251.763962</td>\n",
       "      <td>2.114979</td>\n",
       "      <td>-0.147835</td>\n",
       "    </tr>\n",
       "    <tr>\n",
       "      <th>std</th>\n",
       "      <td>13432.845603</td>\n",
       "      <td>5081.627059</td>\n",
       "      <td>8056.829294</td>\n",
       "    </tr>\n",
       "    <tr>\n",
       "      <th>min</th>\n",
       "      <td>0.000000</td>\n",
       "      <td>-46374.000000</td>\n",
       "      <td>-93354.000000</td>\n",
       "    </tr>\n",
       "    <tr>\n",
       "      <th>25%</th>\n",
       "      <td>184.000000</td>\n",
       "      <td>-417.750000</td>\n",
       "      <td>-129.000000</td>\n",
       "    </tr>\n",
       "    <tr>\n",
       "      <th>50%</th>\n",
       "      <td>905.000000</td>\n",
       "      <td>-21.500000</td>\n",
       "      <td>3.000000</td>\n",
       "    </tr>\n",
       "    <tr>\n",
       "      <th>75%</th>\n",
       "      <td>5970.000000</td>\n",
       "      <td>19.000000</td>\n",
       "      <td>139.000000</td>\n",
       "    </tr>\n",
       "    <tr>\n",
       "      <th>max</th>\n",
       "      <td>128371.000000</td>\n",
       "      <td>46980.000000</td>\n",
       "      <td>56804.000000</td>\n",
       "    </tr>\n",
       "  </tbody>\n",
       "</table>\n",
       "</div>"
      ],
      "text/plain": [
       "                 DAC          DDAC         DDDAC\n",
       "count     949.000000    948.000000    947.000000\n",
       "mean     6251.763962      2.114979     -0.147835\n",
       "std     13432.845603   5081.627059   8056.829294\n",
       "min         0.000000 -46374.000000 -93354.000000\n",
       "25%       184.000000   -417.750000   -129.000000\n",
       "50%       905.000000    -21.500000      3.000000\n",
       "75%      5970.000000     19.000000    139.000000\n",
       "max    128371.000000  46980.000000  56804.000000"
      ]
     },
     "execution_count": 60,
     "metadata": {},
     "output_type": "execute_result"
    }
   ],
   "source": [
    "df.describe()"
   ]
  },
  {
   "cell_type": "markdown",
   "id": "b8393335",
   "metadata": {},
   "source": [
    "## Null Values"
   ]
  },
  {
   "cell_type": "code",
   "execution_count": 61,
   "id": "f578f9b0",
   "metadata": {
    "ExecuteTime": {
     "end_time": "2023-03-14T12:49:30.182493Z",
     "start_time": "2023-03-14T12:49:30.175535Z"
    }
   },
   "outputs": [
    {
     "data": {
      "text/plain": [
       "DAC      1\n",
       "DDAC     2\n",
       "DDDAC    3\n",
       "dtype: int64"
      ]
     },
     "execution_count": 61,
     "metadata": {},
     "output_type": "execute_result"
    }
   ],
   "source": [
    "df.isnull().sum()"
   ]
  },
  {
   "cell_type": "code",
   "execution_count": 62,
   "id": "b461ebc1",
   "metadata": {
    "ExecuteTime": {
     "end_time": "2023-03-14T12:49:33.609758Z",
     "start_time": "2023-03-14T12:49:33.597784Z"
    }
   },
   "outputs": [
    {
     "data": {
      "text/html": [
       "<div>\n",
       "<style scoped>\n",
       "    .dataframe tbody tr th:only-of-type {\n",
       "        vertical-align: middle;\n",
       "    }\n",
       "\n",
       "    .dataframe tbody tr th {\n",
       "        vertical-align: top;\n",
       "    }\n",
       "\n",
       "    .dataframe thead th {\n",
       "        text-align: right;\n",
       "    }\n",
       "</style>\n",
       "<table border=\"1\" class=\"dataframe\">\n",
       "  <thead>\n",
       "    <tr style=\"text-align: right;\">\n",
       "      <th></th>\n",
       "      <th>DAC</th>\n",
       "      <th>DDAC</th>\n",
       "      <th>DDDAC</th>\n",
       "    </tr>\n",
       "    <tr>\n",
       "      <th>Date</th>\n",
       "      <th></th>\n",
       "      <th></th>\n",
       "      <th></th>\n",
       "    </tr>\n",
       "  </thead>\n",
       "  <tbody>\n",
       "    <tr>\n",
       "      <th>2020-08-01</th>\n",
       "      <td>2.0</td>\n",
       "      <td>-6.0</td>\n",
       "      <td>-11.0</td>\n",
       "    </tr>\n",
       "    <tr>\n",
       "      <th>2020-08-02</th>\n",
       "      <td>5.0</td>\n",
       "      <td>3.0</td>\n",
       "      <td>9.0</td>\n",
       "    </tr>\n",
       "    <tr>\n",
       "      <th>2020-08-03</th>\n",
       "      <td>5.0</td>\n",
       "      <td>0.0</td>\n",
       "      <td>-3.0</td>\n",
       "    </tr>\n",
       "    <tr>\n",
       "      <th>2020-08-04</th>\n",
       "      <td>9.0</td>\n",
       "      <td>4.0</td>\n",
       "      <td>4.0</td>\n",
       "    </tr>\n",
       "    <tr>\n",
       "      <th>2020-08-05</th>\n",
       "      <td>6.0</td>\n",
       "      <td>-3.0</td>\n",
       "      <td>-7.0</td>\n",
       "    </tr>\n",
       "  </tbody>\n",
       "</table>\n",
       "</div>"
      ],
      "text/plain": [
       "            DAC  DDAC  DDDAC\n",
       "Date                        \n",
       "2020-08-01  2.0  -6.0  -11.0\n",
       "2020-08-02  5.0   3.0    9.0\n",
       "2020-08-03  5.0   0.0   -3.0\n",
       "2020-08-04  9.0   4.0    4.0\n",
       "2020-08-05  6.0  -3.0   -7.0"
      ]
     },
     "execution_count": 62,
     "metadata": {},
     "output_type": "execute_result"
    }
   ],
   "source": [
    "df.dropna(inplace = True)\n",
    "df.head()"
   ]
  },
  {
   "cell_type": "markdown",
   "id": "89a32c1a",
   "metadata": {
    "ExecuteTime": {
     "end_time": "2023-02-24T08:43:00.522699Z",
     "start_time": "2023-02-24T08:43:00.518710Z"
    }
   },
   "source": [
    "## Split Target"
   ]
  },
  {
   "cell_type": "code",
   "execution_count": 63,
   "id": "c3617012",
   "metadata": {
    "ExecuteTime": {
     "end_time": "2023-03-14T12:49:43.766333Z",
     "start_time": "2023-03-14T12:49:43.756358Z"
    }
   },
   "outputs": [
    {
     "name": "stdout",
     "output_type": "stream",
     "text": [
      "            DAC  DDAC  DDDAC\n",
      "Date                        \n",
      "2020-08-01  2.0  -6.0  -11.0\n",
      "2020-08-02  5.0   3.0    9.0\n",
      "2020-08-03  5.0   0.0   -3.0\n",
      "2020-08-04  9.0   4.0    4.0\n",
      "2020-08-05  6.0  -3.0   -7.0\n",
      "\n",
      "            DAC\n",
      "Date           \n",
      "2020-08-01  2.0\n",
      "2020-08-02  5.0\n",
      "2020-08-03  5.0\n",
      "2020-08-04  9.0\n",
      "2020-08-05  6.0\n"
     ]
    }
   ],
   "source": [
    "x = df.iloc[:, 0:]\n",
    "y = df.iloc[:,:1]\n",
    "print(x.head())\n",
    "print()\n",
    "print(y.head())"
   ]
  },
  {
   "cell_type": "markdown",
   "id": "73a0fbf4",
   "metadata": {},
   "source": [
    "## Scailing"
   ]
  },
  {
   "cell_type": "code",
   "execution_count": 64,
   "id": "64ccac4d",
   "metadata": {
    "ExecuteTime": {
     "end_time": "2023-03-14T12:49:44.919131Z",
     "start_time": "2023-03-14T12:49:44.909173Z"
    }
   },
   "outputs": [],
   "source": [
    "ms = MinMaxScaler()\n",
    "ss = StandardScaler()\n",
    "\n",
    "x_ss = ss.fit_transform(x)\n",
    "y_ms = ms.fit_transform(y)"
   ]
  },
  {
   "cell_type": "code",
   "execution_count": 67,
   "id": "3f9d8acc",
   "metadata": {
    "ExecuteTime": {
     "end_time": "2023-03-14T12:50:02.189349Z",
     "start_time": "2023-03-14T12:50:02.184362Z"
    }
   },
   "outputs": [
    {
     "name": "stdout",
     "output_type": "stream",
     "text": [
      "[[-4.66102489e-01 -1.59632581e-03 -1.34766403e-03]\n",
      " [-4.65879223e-01  1.74760480e-04  1.13601377e-03]\n",
      " [-4.65879223e-01 -4.15601616e-04 -3.54192911e-04]\n",
      " [-4.65581534e-01  3.71547845e-04  5.15094318e-04]\n",
      " [-4.65804800e-01 -1.00596371e-03 -8.50928470e-04]]\n",
      "\n",
      "[[1.55798428e-05]\n",
      " [3.89496070e-05]\n",
      " [3.89496070e-05]\n",
      " [7.01092926e-05]\n",
      " [4.67395284e-05]]\n"
     ]
    }
   ],
   "source": [
    "print(x_ss[:5])\n",
    "print()\n",
    "print(y_ms[:5])"
   ]
  },
  {
   "cell_type": "code",
   "execution_count": 68,
   "id": "b66da8d3",
   "metadata": {
    "ExecuteTime": {
     "end_time": "2023-03-14T12:50:03.333430Z",
     "start_time": "2023-03-14T12:50:03.217647Z"
    }
   },
   "outputs": [],
   "source": [
    "x = x.to_numpy()\n",
    "y = y.to_numpy()\n",
    "x, y = window_sliding(x, y, 60)\n",
    "x_ss, y_ms = window_sliding(x_ss, y_ms, 60)"
   ]
  },
  {
   "cell_type": "code",
   "execution_count": 69,
   "id": "4b067b1a",
   "metadata": {
    "ExecuteTime": {
     "end_time": "2023-03-14T12:50:03.915552Z",
     "start_time": "2023-03-14T12:50:03.909570Z"
    }
   },
   "outputs": [
    {
     "name": "stdout",
     "output_type": "stream",
     "text": [
      "torch.Size([650, 60, 3])\n",
      "torch.Size([650, 1])\n",
      "torch.Size([237, 60, 3])\n",
      "torch.Size([237, 1])\n"
     ]
    }
   ],
   "source": [
    "x_train = x_ss[:650]\n",
    "y_train = y_ms[:650]\n",
    "x_test = x_ss[650:]\n",
    "y_test = y_ms[650:]\n",
    "print(x_train.shape)\n",
    "print(y_train.shape)\n",
    "print(x_test.shape)\n",
    "print(y_test.shape)"
   ]
  },
  {
   "cell_type": "code",
   "execution_count": 70,
   "id": "4b8d4ee7",
   "metadata": {
    "ExecuteTime": {
     "end_time": "2023-03-14T12:50:04.284196Z",
     "start_time": "2023-03-14T12:50:04.278240Z"
    }
   },
   "outputs": [],
   "source": [
    "train = torch.utils.data.TensorDataset(x_train, y_train)\n",
    "test = torch.utils.data.TensorDataset(x_test, y_test)\n",
    "\n",
    "batch_size = 32\n",
    "train_loader = torch.utils.data.DataLoader(dataset = train, batch_size = batch_size, shuffle = False)\n",
    "test_loader = torch.utils.data.DataLoader(dataset = test, batch_size = batch_size, shuffle = False)"
   ]
  },
  {
   "cell_type": "markdown",
   "id": "22aae3fe",
   "metadata": {
    "ExecuteTime": {
     "end_time": "2023-02-24T09:29:26.258494Z",
     "start_time": "2023-02-24T09:29:26.187683Z"
    }
   },
   "source": [
    "# Model"
   ]
  },
  {
   "cell_type": "markdown",
   "id": "7b0c840b",
   "metadata": {
    "ExecuteTime": {
     "end_time": "2023-02-24T13:14:29.037267Z",
     "start_time": "2023-02-24T13:14:29.033276Z"
    }
   },
   "source": [
    "## Define Model"
   ]
  },
  {
   "cell_type": "code",
   "execution_count": 71,
   "id": "1fa31a1b",
   "metadata": {
    "ExecuteTime": {
     "end_time": "2023-03-14T12:50:05.925693Z",
     "start_time": "2023-03-14T12:50:05.918712Z"
    }
   },
   "outputs": [],
   "source": [
    "class GRU(nn.Module):\n",
    "    def __init__(self, input_size, hidden_size, sequence_length, num_layers, dropout, device):\n",
    "        super(GRU, self).__init__()\n",
    "        self.device = device\n",
    "        self.hidden_size = hidden_size\n",
    "        self.num_layers = num_layers\n",
    "        self.gru = nn.GRU(input_size, hidden_size, num_layers, batch_first = True, dropout = 0.3)\n",
    "        self.fc1 = nn.Linear(hidden_size * sequence_length, 64)\n",
    "        self.fc2 = nn.Linear(64, 1)\n",
    "        self.relu = nn.ReLU()\n",
    "\n",
    "    def forward(self, x):\n",
    "        h0 = torch.zeros(self.num_layers, x.size()[0], self.hidden_size).to(self.device)\n",
    "        out, hn = self.gru(x, h0)\n",
    "        out = out.reshape(out.shape[0], -1)\n",
    "        out = self.fc1(out)\n",
    "        out = self.relu(out)\n",
    "        out = self.fc2(out)\n",
    "        out = torch.flatten(out)\n",
    "        return out"
   ]
  },
  {
   "cell_type": "code",
   "execution_count": 72,
   "id": "8dbec965",
   "metadata": {
    "ExecuteTime": {
     "end_time": "2023-03-14T12:50:06.533859Z",
     "start_time": "2023-03-14T12:50:06.528873Z"
    }
   },
   "outputs": [],
   "source": [
    "input_size = x_ss.size(2)\n",
    "num_layers = 1\n",
    "hidden_size = 16\n",
    "sequence_length = 60"
   ]
  },
  {
   "cell_type": "code",
   "execution_count": 73,
   "id": "1648c850",
   "metadata": {
    "ExecuteTime": {
     "end_time": "2023-03-14T12:50:07.513870Z",
     "start_time": "2023-03-14T12:50:07.505865Z"
    }
   },
   "outputs": [],
   "source": [
    "model = GRU(input_size = input_size,\n",
    "            hidden_size = hidden_size,\n",
    "            sequence_length = sequence_length,\n",
    "            num_layers = num_layers, \n",
    "            dropout = 0.3, \n",
    "            device = device).to(device)\n",
    "\n",
    "criterion = nn.MSELoss()\n",
    "lr = 1e-3\n",
    "num_epochs = 10000\n",
    "optimizer = Adam(model.parameters(), lr = lr)\n",
    "patience = 10"
   ]
  },
  {
   "cell_type": "markdown",
   "id": "6c3c52e8",
   "metadata": {},
   "source": [
    "## Training"
   ]
  },
  {
   "cell_type": "code",
   "execution_count": 74,
   "id": "ba8ddecb",
   "metadata": {
    "ExecuteTime": {
     "end_time": "2023-03-14T12:50:12.218487Z",
     "start_time": "2023-03-14T12:50:09.352062Z"
    }
   },
   "outputs": [
    {
     "name": "stdout",
     "output_type": "stream",
     "text": [
      "\n",
      " Early Stopping / epoch: 41 loss: 0.0036\n"
     ]
    }
   ],
   "source": [
    "loss_list = []\n",
    "n = len(train_loader)\n",
    "\n",
    "for epoch in range(num_epochs):\n",
    "    running_loss = 0.0\n",
    "    \n",
    "    for data in train_loader:\n",
    "        seq, target = data\n",
    "        out = model(seq)\n",
    "        loss = criterion(out, target)\n",
    "        \n",
    "        optimizer.zero_grad()\n",
    "        loss.backward()\n",
    "        optimizer.step()\n",
    "        running_loss += loss.item()\n",
    "    loss_list.append(running_loss/n)\n",
    "    if (epoch+1) % 100 == 0:\n",
    "        print('epoch: %d loss: %.4f'%(epoch+1, running_loss/n))\n",
    "        \n",
    "    if (epoch % patience == 0) & (epoch != 0):\n",
    "            \n",
    "            if loss_list[epoch-patience] < loss_list[epoch]:\n",
    "                print('\\n Early Stopping / epoch: %d loss: %.4f'%(epoch+1, running_loss/n))\n",
    "                \n",
    "                break"
   ]
  },
  {
   "cell_type": "markdown",
   "id": "f921669f",
   "metadata": {},
   "source": [
    "## Visualize Loss Graph"
   ]
  },
  {
   "cell_type": "code",
   "execution_count": 75,
   "id": "84a929c6",
   "metadata": {
    "ExecuteTime": {
     "end_time": "2023-03-14T12:50:12.383075Z",
     "start_time": "2023-03-14T12:50:12.221480Z"
    }
   },
   "outputs": [
    {
     "data": {
      "image/png": "[encoded data removed]",
      "text/plain": [
       "<Figure size 2000x1000 with 1 Axes>"
      ]
     },
     "metadata": {},
     "output_type": "display_data"
    }
   ],
   "source": [
    "plt.figure(figsize = (20, 10))\n",
    "plt.plot(loss_list)\n",
    "plt.show()"
   ]
  },
  {
   "cell_type": "markdown",
   "id": "cb7362b2",
   "metadata": {
    "ExecuteTime": {
     "end_time": "2023-02-24T13:12:11.489529Z",
     "start_time": "2023-02-24T13:12:11.485539Z"
    }
   },
   "source": [
    "## Model Save and Load"
   ]
  },
  {
   "cell_type": "code",
   "execution_count": 76,
   "id": "b0bf867f",
   "metadata": {
    "ExecuteTime": {
     "end_time": "2023-03-14T12:50:12.671186Z",
     "start_time": "2023-03-14T12:50:12.663210Z"
    }
   },
   "outputs": [],
   "source": [
    "PATH = \"../model/GRU_many_to_one.pth\"\n",
    "torch.save(model.state_dict(), PATH)"
   ]
  },
  {
   "cell_type": "code",
   "execution_count": 77,
   "id": "0b7145b6",
   "metadata": {
    "ExecuteTime": {
     "end_time": "2023-03-14T12:50:13.084899Z",
     "start_time": "2023-03-14T12:50:13.066919Z"
    }
   },
   "outputs": [
    {
     "data": {
      "text/plain": [
       "GRU(\n",
       "  (gru): GRU(3, 16, batch_first=True, dropout=0.3)\n",
       "  (fc1): Linear(in_features=960, out_features=64, bias=True)\n",
       "  (fc2): Linear(in_features=64, out_features=1, bias=True)\n",
       "  (relu): ReLU()\n",
       ")"
      ]
     },
     "execution_count": 77,
     "metadata": {},
     "output_type": "execute_result"
    }
   ],
   "source": [
    "PATH = \"../model/GRU_many_to_one.pth\"\n",
    "model = GRU(input_size = input_size,\n",
    "            hidden_size = hidden_size,\n",
    "            sequence_length = sequence_length,\n",
    "            num_layers = num_layers,\n",
    "            dropout = 0.3, \n",
    "            device = device).to(device)\n",
    "model.load_state_dict(torch.load(PATH), strict=False)\n",
    "model.eval()"
   ]
  },
  {
   "cell_type": "markdown",
   "id": "beac9a08",
   "metadata": {},
   "source": [
    "## Visualize and Compare predicted values with actual values"
   ]
  },
  {
   "cell_type": "code",
   "execution_count": 78,
   "id": "a8042a80",
   "metadata": {
    "ExecuteTime": {
     "end_time": "2023-03-14T12:50:14.226068Z",
     "start_time": "2023-03-14T12:50:14.073480Z"
    }
   },
   "outputs": [
    {
     "data": {
      "image/png": "[encoded data removed]",
      "text/plain": [
       "<Figure size 1000x600 with 1 Axes>"
      ]
     },
     "metadata": {},
     "output_type": "display_data"
    }
   ],
   "source": [
    "train_predict = model(x_ss)\n",
    "predicted = train_predict.cpu().data.numpy()\n",
    "label_y = y_ms.cpu().data.numpy()\n",
    "\n",
    "predicted = predicted.reshape(887, 1)\n",
    "predicted = ms.inverse_transform(predicted)\n",
    "label_y = ms.inverse_transform(label_y)\n",
    "\n",
    "plt.figure(figsize = (10, 6))\n",
    "plt.axvline(x = 650, c = 'r', linestyle = '--')\n",
    "\n",
    "plt.plot(label_y, label = 'Actual Data')\n",
    "plt.plot(predicted, label = 'Predicted Data')\n",
    "plt.title('Time-Series Prediction')\n",
    "plt.legend()\n",
    "plt.show()"
   ]
  },
  {
   "cell_type": "markdown",
   "id": "5da725dc",
   "metadata": {},
   "source": [
    "## Calculate MAE, RMSE, MAPE"
   ]
  },
  {
   "cell_type": "code",
   "execution_count": 79,
   "id": "0cbcc332",
   "metadata": {
    "ExecuteTime": {
     "end_time": "2023-03-14T12:50:14.994220Z",
     "start_time": "2023-03-14T12:50:14.987239Z"
    }
   },
   "outputs": [
    {
     "name": "stdout",
     "output_type": "stream",
     "text": [
      "MAE SCORE :  2997.8726\n",
      "RMSE SCORE :  5736.908923802085\n",
      "MAPE SCORE :  213.9634609222412\n"
     ]
    }
   ],
   "source": [
    "def MAE(true, pred):\n",
    "    return np.mean(np.abs(true-pred))\n",
    "def RMSE(true, pred):\n",
    "    return np.mean((true-pred)**2)**(1/2)\n",
    "def MAPE(true, pred):\n",
    "    return 100 * np.mean(np.abs((true-pred)/true))\n",
    "\n",
    "print('MAE SCORE : ', MAE(predicted, label_y))\n",
    "print('RMSE SCORE : ', RMSE(predicted, label_y))\n",
    "print('MAPE SCORE : ', MAPE(predicted, label_y))"
   ]
  },
  {
   "cell_type": "markdown",
   "id": "2367d18f",
   "metadata": {},
   "source": [
    "# Predict"
   ]
  },
  {
   "cell_type": "markdown",
   "id": "c92586a9",
   "metadata": {
    "ExecuteTime": {
     "end_time": "2023-02-26T15:20:16.790573Z",
     "start_time": "2023-02-26T15:20:16.781597Z"
    }
   },
   "source": [
    "## Predict more values"
   ]
  },
  {
   "cell_type": "code",
   "execution_count": 80,
   "id": "af00df66",
   "metadata": {
    "ExecuteTime": {
     "end_time": "2023-03-14T12:50:16.307360Z",
     "start_time": "2023-03-14T12:50:16.286415Z"
    },
    "scrolled": true
   },
   "outputs": [
    {
     "name": "stdout",
     "output_type": "stream",
     "text": [
      "[11136.246, 11282.459, 11494.371, 11909.839, 12333.118, 13233.161, 14915.627]\n"
     ]
    }
   ],
   "source": [
    "pre_ori_df = torch.zeros(1, 60, 3)\n",
    "pre_ori_df[0] = x[-1]\n",
    "val7 = [10000, 12000, 18000, 30000, 38000, 60000, 120000]\n",
    "pre7 = []\n",
    "\n",
    "for i in range(len(val7)):\n",
    "    pre_ori_df[0][:-1] = pre_ori_df[0][1:].clone()\n",
    "    pre_ori_df[0][-1][0] = val7[i]\n",
    "    pre_ori_df[0][-1][1] = pre_ori_df[0][-1][0] - pre_ori_df[0][-2][0]\n",
    "    pre_ori_df[0][-1][2] = pre_ori_df[0][-1][1] - pre_ori_df[0][-2][1]\n",
    "    \n",
    "    pre_ms_df = pre_ori_df.reshape(-1, 1)\n",
    "    pre_ms_df = ms.transform(pre_ms_df).reshape(1, 60, 3)\n",
    "    \n",
    "    pre_ms_value = model(torch.FloatTensor(pre_ms_df).to(device))\n",
    "    pre_ms_value = pre_ms_value.cpu().detach().numpy().reshape(-1, 1)\n",
    "    pre_ori_value = ms.inverse_transform(pre_ms_value)\n",
    "\n",
    "    pre7.append(pre_ori_value[0][0])\n",
    "\n",
    "print(pre7) \n",
    "\n",
    "pre7 = np.array(pre7).reshape(-1, 1)\n",
    "predicted_final = np.vstack((predicted, pre7))\n",
    "label_y_final = np.vstack((label_y, np.array(val7).reshape(-1, 1)))"
   ]
  },
  {
   "cell_type": "code",
   "execution_count": 81,
   "id": "263e5e6f",
   "metadata": {
    "ExecuteTime": {
     "end_time": "2023-03-14T12:50:16.859535Z",
     "start_time": "2023-03-14T12:50:16.630148Z"
    }
   },
   "outputs": [
    {
     "data": {
      "image/png": "[encoded data removed]",
      "text/plain": [
       "<Figure size 1000x600 with 1 Axes>"
      ]
     },
     "metadata": {},
     "output_type": "display_data"
    }
   ],
   "source": [
    "plt.figure(figsize = (10, 6)) \n",
    "plt.axvline(x = 42, c = 'g', linestyle = '--')\n",
    "\n",
    "plt.plot(label_y_final[-50:], label = 'Actual Data')\n",
    "plt.plot(predicted_final[-50:], label = 'Predicted Data')\n",
    "plt.title('Time-Series Prediction')\n",
    "plt.legend()\n",
    "plt.show()"
   ]
  },
  {
   "cell_type": "code",
   "execution_count": 82,
   "id": "d0dae6a4",
   "metadata": {
    "ExecuteTime": {
     "end_time": "2023-03-14T12:50:17.188783Z",
     "start_time": "2023-03-14T12:50:17.043145Z"
    }
   },
   "outputs": [
    {
     "data": {
      "image/png": "[encoded data removed]",
      "text/plain": [
       "<Figure size 640x480 with 1 Axes>"
      ]
     },
     "metadata": {},
     "output_type": "display_data"
    }
   ],
   "source": [
    "plt.plot(label_y_final[-8:], label = 'Actual Data')\n",
    "plt.plot(predicted_final[-8:], label = 'Predicted Data')\n",
    "plt.title('Time-Series Prediction')\n",
    "plt.legend()\n",
    "plt.show()"
   ]
  },
  {
   "cell_type": "code",
   "execution_count": null,
   "id": "7e896baf",
   "metadata": {},
   "outputs": [],
   "source": []
  }
 ],
 "metadata": {
  "kernelspec": {
   "display_name": "KDA_DA",
   "language": "python",
   "name": "kda_da"
  },
  "language_info": {
   "codemirror_mode": {
    "name": "ipython",
    "version": 3
   },
   "file_extension": ".py",
   "mimetype": "text/x-python",
   "name": "python",
   "nbconvert_exporter": "python",
   "pygments_lexer": "ipython3",
   "version": "3.10.8"
  },
  "toc": {
   "base_numbering": 1,
   "nav_menu": {},
   "number_sections": true,
   "sideBar": true,
   "skip_h1_title": false,
   "title_cell": "Table of Contents",
   "title_sidebar": "Contents",
   "toc_cell": false,
   "toc_position": {},
   "toc_section_display": true,
   "toc_window_display": false
  }
 },
 "nbformat": 4,
 "nbformat_minor": 5
}
