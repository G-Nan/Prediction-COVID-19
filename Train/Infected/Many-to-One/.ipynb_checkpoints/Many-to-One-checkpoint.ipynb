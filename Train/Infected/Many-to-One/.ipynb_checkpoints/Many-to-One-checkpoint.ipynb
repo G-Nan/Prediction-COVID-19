{
 "cells": [
  {
   "cell_type": "markdown",
   "id": "4206ab91",
   "metadata": {},
   "source": [
    "# Packages & Functions"
   ]
  },
  {
   "cell_type": "markdown",
   "id": "2e7fbda4",
   "metadata": {},
   "source": [
    "## Packages"
   ]
  },
  {
   "cell_type": "code",
   "execution_count": 1,
   "id": "fe619aa0",
   "metadata": {
    "ExecuteTime": {
     "end_time": "2023-03-14T11:43:15.043521Z",
     "start_time": "2023-03-14T11:43:12.750113Z"
    }
   },
   "outputs": [],
   "source": [
    "import os\n",
    "import time\n",
    "import warnings\n",
    "\n",
    "import numpy as np\n",
    "import pandas as pd\n",
    "import matplotlib.pyplot as plt\n",
    "\n",
    "import torch\n",
    "import torch.nn as nn\n",
    "from torch.optim.adam import Adam\n",
    "from torch.utils.data import TensorDataset, DataLoader\n",
    "from torch.autograd import Variable\n",
    "from tqdm import tqdm_notebook\n",
    "from sklearn.preprocessing import StandardScaler, MinMaxScaler\n",
    "from sklearn.model_selection import train_test_split\n",
    "\n",
    "warnings.filterwarnings('ignore')\n",
    "device = torch.device('cuda:0' if torch.cuda.is_available() else 'cpu')"
   ]
  },
  {
   "cell_type": "markdown",
   "id": "93c4000a",
   "metadata": {},
   "source": [
    "## Functions"
   ]
  },
  {
   "cell_type": "code",
   "execution_count": 2,
   "id": "b61d1ca4",
   "metadata": {
    "ExecuteTime": {
     "end_time": "2023-03-14T11:43:15.049507Z",
     "start_time": "2023-03-14T11:43:15.045518Z"
    }
   },
   "outputs": [],
   "source": [
    "def outlier(df, col, z):\n",
    "    return df[abs(df[col] - np.mean(df[col]))/np.std(df[col])>z]"
   ]
  },
  {
   "cell_type": "code",
   "execution_count": 3,
   "id": "1a95fb6f",
   "metadata": {
    "ExecuteTime": {
     "end_time": "2023-03-14T11:43:15.056489Z",
     "start_time": "2023-03-14T11:43:15.051502Z"
    }
   },
   "outputs": [],
   "source": [
    "def scailing(x, y):\n",
    "\n",
    "    ms = MinMaxScaler()\n",
    "    ss = StandardScaler()\n",
    "\n",
    "    x_ss = ss.fit_transform(x)\n",
    "    y_ms = ms.fit_transform(y)\n",
    "\n",
    "    return x_ss, y_ms"
   ]
  },
  {
   "cell_type": "code",
   "execution_count": 4,
   "id": "91dc5e00",
   "metadata": {
    "ExecuteTime": {
     "end_time": "2023-03-14T11:43:15.064466Z",
     "start_time": "2023-03-14T11:43:15.058485Z"
    }
   },
   "outputs": [],
   "source": [
    "def window_sliding(x, y, step):\n",
    "    \n",
    "    x_ws, y_ws = list(), list()\n",
    "    for i in range(len(df)):\n",
    "        x_end = i + step\n",
    "        y_end = x_end + 1\n",
    "        \n",
    "        if y_end > len(df):\n",
    "            break\n",
    "        \n",
    "        tx = x[i:x_end, :]\n",
    "        ty = y[x_end:y_end, :]\n",
    "        \n",
    "        x_ws.append(tx)\n",
    "        y_ws.append(ty)\n",
    "        \n",
    "    return torch.FloatTensor(x_ws).to(device), torch.FloatTensor(y_ws).to(device).view([-1, 1])"
   ]
  },
  {
   "cell_type": "code",
   "execution_count": 5,
   "id": "5328c388",
   "metadata": {
    "ExecuteTime": {
     "end_time": "2023-03-14T11:43:15.072446Z",
     "start_time": "2023-03-14T11:43:15.066462Z"
    }
   },
   "outputs": [],
   "source": [
    "def plotting(train_loader, test_loader, actual):\n",
    "    with torch.no_grad():\n",
    "        train_pred = []\n",
    "        test_pred = []\n",
    "\n",
    "        for data in train_loader:\n",
    "            seq, target = data\n",
    "            out = model(seq)\n",
    "            train_pred += out.cpu().numpy().tolist()\n",
    "\n",
    "        for data in test_loader:\n",
    "            seq, target = data\n",
    "            out = model(seq)\n",
    "            test_pred += out.cpu().numpy().tolist()\n",
    "      \n",
    "    total = train_pred + test_pred\n",
    "    plt.figure(figsize=(20,10))\n",
    "    plt.plot(np.ones(100)*len(train_pred), np.linspace(0,1,100), '--', linewidth=0.6)\n",
    "    plt.plot(actual, '--')\n",
    "    plt.plot(total, 'b', linewidth=0.6)\n",
    "\n",
    "    plt.legend(['train boundary', 'actual', 'prediction'])\n",
    "    plt.show()\n"
   ]
  },
  {
   "cell_type": "markdown",
   "id": "03d3afe0",
   "metadata": {
    "ExecuteTime": {
     "end_time": "2023-02-24T08:26:15.543024Z",
     "start_time": "2023-02-24T08:26:15.540034Z"
    }
   },
   "source": [
    "# Data Processing"
   ]
  },
  {
   "cell_type": "markdown",
   "id": "367ce088",
   "metadata": {},
   "source": [
    "## Load Data"
   ]
  },
  {
   "cell_type": "code",
   "execution_count": 6,
   "id": "bbebe8c0",
   "metadata": {
    "ExecuteTime": {
     "end_time": "2023-03-14T11:43:15.085411Z",
     "start_time": "2023-03-14T11:43:15.074440Z"
    }
   },
   "outputs": [
    {
     "name": "stdout",
     "output_type": "stream",
     "text": [
      "date          object\n",
      "시도명           object\n",
      "def_Acc        int64\n",
      "daily_Acc    float64\n",
      "DAC          float64\n",
      "DDAC         float64\n",
      "dtype: object\n"
     ]
    }
   ],
   "source": [
    "data = pd.read_csv('../Data/서울_data.csv')\n",
    "print(data.dtypes)"
   ]
  },
  {
   "cell_type": "markdown",
   "id": "11855838",
   "metadata": {},
   "source": [
    "## Index & Col"
   ]
  },
  {
   "cell_type": "code",
   "execution_count": 7,
   "id": "5c55afe3",
   "metadata": {
    "ExecuteTime": {
     "end_time": "2023-03-14T11:43:15.158319Z",
     "start_time": "2023-03-14T11:43:15.147346Z"
    }
   },
   "outputs": [],
   "source": [
    "df = data.loc[:, ['date', 'daily_Acc']]\n",
    "df.rename(columns = {'daily_Acc':'AC', 'date':'Date'}, inplace = True)\n",
    "df['DAC'] = df['AC'] - df['AC'].shift(1)\n",
    "df['DDAC'] = df['DAC'] - df['DAC'].shift(1)\n",
    "df['Date'] = pd.to_datetime(df['Date'])\n",
    "df.set_index('Date', inplace = True)"
   ]
  },
  {
   "cell_type": "code",
   "execution_count": 8,
   "id": "0414647c",
   "metadata": {
    "ExecuteTime": {
     "end_time": "2023-03-14T11:43:15.359751Z",
     "start_time": "2023-03-14T11:43:15.342796Z"
    }
   },
   "outputs": [
    {
     "data": {
      "text/html": [
       "<div>\n",
       "<style scoped>\n",
       "    .dataframe tbody tr th:only-of-type {\n",
       "        vertical-align: middle;\n",
       "    }\n",
       "\n",
       "    .dataframe tbody tr th {\n",
       "        vertical-align: top;\n",
       "    }\n",
       "\n",
       "    .dataframe thead th {\n",
       "        text-align: right;\n",
       "    }\n",
       "</style>\n",
       "<table border=\"1\" class=\"dataframe\">\n",
       "  <thead>\n",
       "    <tr style=\"text-align: right;\">\n",
       "      <th></th>\n",
       "      <th>AC</th>\n",
       "      <th>DAC</th>\n",
       "      <th>DDAC</th>\n",
       "    </tr>\n",
       "    <tr>\n",
       "      <th>Date</th>\n",
       "      <th></th>\n",
       "      <th></th>\n",
       "      <th></th>\n",
       "    </tr>\n",
       "  </thead>\n",
       "  <tbody>\n",
       "    <tr>\n",
       "      <th>2020-07-29</th>\n",
       "      <td>NaN</td>\n",
       "      <td>NaN</td>\n",
       "      <td>NaN</td>\n",
       "    </tr>\n",
       "    <tr>\n",
       "      <th>2020-07-30</th>\n",
       "      <td>3.0</td>\n",
       "      <td>NaN</td>\n",
       "      <td>NaN</td>\n",
       "    </tr>\n",
       "    <tr>\n",
       "      <th>2020-07-31</th>\n",
       "      <td>8.0</td>\n",
       "      <td>5.0</td>\n",
       "      <td>NaN</td>\n",
       "    </tr>\n",
       "    <tr>\n",
       "      <th>2020-08-01</th>\n",
       "      <td>2.0</td>\n",
       "      <td>-6.0</td>\n",
       "      <td>-11.0</td>\n",
       "    </tr>\n",
       "    <tr>\n",
       "      <th>2020-08-02</th>\n",
       "      <td>5.0</td>\n",
       "      <td>3.0</td>\n",
       "      <td>9.0</td>\n",
       "    </tr>\n",
       "    <tr>\n",
       "      <th>...</th>\n",
       "      <td>...</td>\n",
       "      <td>...</td>\n",
       "      <td>...</td>\n",
       "    </tr>\n",
       "    <tr>\n",
       "      <th>2023-03-01</th>\n",
       "      <td>2301.0</td>\n",
       "      <td>-25.0</td>\n",
       "      <td>-1728.0</td>\n",
       "    </tr>\n",
       "    <tr>\n",
       "      <th>2023-03-02</th>\n",
       "      <td>1200.0</td>\n",
       "      <td>-1101.0</td>\n",
       "      <td>-1076.0</td>\n",
       "    </tr>\n",
       "    <tr>\n",
       "      <th>2023-03-03</th>\n",
       "      <td>2296.0</td>\n",
       "      <td>1096.0</td>\n",
       "      <td>2197.0</td>\n",
       "    </tr>\n",
       "    <tr>\n",
       "      <th>2023-03-04</th>\n",
       "      <td>2143.0</td>\n",
       "      <td>-153.0</td>\n",
       "      <td>-1249.0</td>\n",
       "    </tr>\n",
       "    <tr>\n",
       "      <th>2023-03-05</th>\n",
       "      <td>2008.0</td>\n",
       "      <td>-135.0</td>\n",
       "      <td>18.0</td>\n",
       "    </tr>\n",
       "  </tbody>\n",
       "</table>\n",
       "<p>950 rows × 3 columns</p>\n",
       "</div>"
      ],
      "text/plain": [
       "                AC     DAC    DDAC\n",
       "Date                              \n",
       "2020-07-29     NaN     NaN     NaN\n",
       "2020-07-30     3.0     NaN     NaN\n",
       "2020-07-31     8.0     5.0     NaN\n",
       "2020-08-01     2.0    -6.0   -11.0\n",
       "2020-08-02     5.0     3.0     9.0\n",
       "...            ...     ...     ...\n",
       "2023-03-01  2301.0   -25.0 -1728.0\n",
       "2023-03-02  1200.0 -1101.0 -1076.0\n",
       "2023-03-03  2296.0  1096.0  2197.0\n",
       "2023-03-04  2143.0  -153.0 -1249.0\n",
       "2023-03-05  2008.0  -135.0    18.0\n",
       "\n",
       "[950 rows x 3 columns]"
      ]
     },
     "execution_count": 8,
     "metadata": {},
     "output_type": "execute_result"
    }
   ],
   "source": [
    "df"
   ]
  },
  {
   "cell_type": "markdown",
   "id": "47b4aba9",
   "metadata": {},
   "source": [
    "## Outlier Values"
   ]
  },
  {
   "cell_type": "code",
   "execution_count": 9,
   "id": "39740091",
   "metadata": {
    "ExecuteTime": {
     "end_time": "2023-03-14T11:43:15.726777Z",
     "start_time": "2023-03-14T11:43:15.709824Z"
    }
   },
   "outputs": [
    {
     "data": {
      "text/html": [
       "<div>\n",
       "<style scoped>\n",
       "    .dataframe tbody tr th:only-of-type {\n",
       "        vertical-align: middle;\n",
       "    }\n",
       "\n",
       "    .dataframe tbody tr th {\n",
       "        vertical-align: top;\n",
       "    }\n",
       "\n",
       "    .dataframe thead th {\n",
       "        text-align: right;\n",
       "    }\n",
       "</style>\n",
       "<table border=\"1\" class=\"dataframe\">\n",
       "  <thead>\n",
       "    <tr style=\"text-align: right;\">\n",
       "      <th></th>\n",
       "      <th>AC</th>\n",
       "      <th>DAC</th>\n",
       "      <th>DDAC</th>\n",
       "    </tr>\n",
       "  </thead>\n",
       "  <tbody>\n",
       "    <tr>\n",
       "      <th>count</th>\n",
       "      <td>9.490000e+02</td>\n",
       "      <td>9.480000e+02</td>\n",
       "      <td>9.470000e+02</td>\n",
       "    </tr>\n",
       "    <tr>\n",
       "      <th>mean</th>\n",
       "      <td>6.251764e+03</td>\n",
       "      <td>2.114979e+00</td>\n",
       "      <td>-1.478353e-01</td>\n",
       "    </tr>\n",
       "    <tr>\n",
       "      <th>std</th>\n",
       "      <td>1.240460e+05</td>\n",
       "      <td>2.139547e+05</td>\n",
       "      <td>3.910851e+05</td>\n",
       "    </tr>\n",
       "    <tr>\n",
       "      <th>min</th>\n",
       "      <td>-2.613846e+06</td>\n",
       "      <td>-2.704101e+06</td>\n",
       "      <td>-8.073727e+06</td>\n",
       "    </tr>\n",
       "    <tr>\n",
       "      <th>25%</th>\n",
       "      <td>1.830000e+02</td>\n",
       "      <td>-4.177500e+02</td>\n",
       "      <td>-1.290000e+02</td>\n",
       "    </tr>\n",
       "    <tr>\n",
       "      <th>50%</th>\n",
       "      <td>8.590000e+02</td>\n",
       "      <td>-2.150000e+01</td>\n",
       "      <td>3.000000e+00</td>\n",
       "    </tr>\n",
       "    <tr>\n",
       "      <th>75%</th>\n",
       "      <td>5.967000e+03</td>\n",
       "      <td>1.900000e+01</td>\n",
       "      <td>1.390000e+02</td>\n",
       "    </tr>\n",
       "    <tr>\n",
       "      <th>max</th>\n",
       "      <td>2.755780e+06</td>\n",
       "      <td>5.369626e+06</td>\n",
       "      <td>8.049505e+06</td>\n",
       "    </tr>\n",
       "  </tbody>\n",
       "</table>\n",
       "</div>"
      ],
      "text/plain": [
       "                 AC           DAC          DDAC\n",
       "count  9.490000e+02  9.480000e+02  9.470000e+02\n",
       "mean   6.251764e+03  2.114979e+00 -1.478353e-01\n",
       "std    1.240460e+05  2.139547e+05  3.910851e+05\n",
       "min   -2.613846e+06 -2.704101e+06 -8.073727e+06\n",
       "25%    1.830000e+02 -4.177500e+02 -1.290000e+02\n",
       "50%    8.590000e+02 -2.150000e+01  3.000000e+00\n",
       "75%    5.967000e+03  1.900000e+01  1.390000e+02\n",
       "max    2.755780e+06  5.369626e+06  8.049505e+06"
      ]
     },
     "execution_count": 9,
     "metadata": {},
     "output_type": "execute_result"
    }
   ],
   "source": [
    "df.describe()"
   ]
  },
  {
   "cell_type": "code",
   "execution_count": 10,
   "id": "79e4d65a",
   "metadata": {
    "ExecuteTime": {
     "end_time": "2023-03-14T11:43:15.906580Z",
     "start_time": "2023-03-14T11:43:15.895610Z"
    }
   },
   "outputs": [
    {
     "data": {
      "text/html": [
       "<div>\n",
       "<style scoped>\n",
       "    .dataframe tbody tr th:only-of-type {\n",
       "        vertical-align: middle;\n",
       "    }\n",
       "\n",
       "    .dataframe tbody tr th {\n",
       "        vertical-align: top;\n",
       "    }\n",
       "\n",
       "    .dataframe thead th {\n",
       "        text-align: right;\n",
       "    }\n",
       "</style>\n",
       "<table border=\"1\" class=\"dataframe\">\n",
       "  <thead>\n",
       "    <tr style=\"text-align: right;\">\n",
       "      <th></th>\n",
       "      <th>AC</th>\n",
       "      <th>DAC</th>\n",
       "      <th>DDAC</th>\n",
       "    </tr>\n",
       "    <tr>\n",
       "      <th>Date</th>\n",
       "      <th></th>\n",
       "      <th></th>\n",
       "      <th></th>\n",
       "    </tr>\n",
       "  </thead>\n",
       "  <tbody>\n",
       "    <tr>\n",
       "      <th>2022-03-30</th>\n",
       "      <td>-2613846.0</td>\n",
       "      <td>-2679879.0</td>\n",
       "      <td>-2711722.0</td>\n",
       "    </tr>\n",
       "    <tr>\n",
       "      <th>2022-03-31</th>\n",
       "      <td>2755780.0</td>\n",
       "      <td>5369626.0</td>\n",
       "      <td>8049505.0</td>\n",
       "    </tr>\n",
       "  </tbody>\n",
       "</table>\n",
       "</div>"
      ],
      "text/plain": [
       "                   AC        DAC       DDAC\n",
       "Date                                       \n",
       "2022-03-30 -2613846.0 -2679879.0 -2711722.0\n",
       "2022-03-31  2755780.0  5369626.0  8049505.0"
      ]
     },
     "execution_count": 10,
     "metadata": {},
     "output_type": "execute_result"
    }
   ],
   "source": [
    "outlier_list = outlier(df, 'AC', 1.58)\n",
    "\n",
    "outlier_list"
   ]
  },
  {
   "cell_type": "code",
   "execution_count": 11,
   "id": "acabc421",
   "metadata": {
    "ExecuteTime": {
     "end_time": "2023-03-14T11:43:16.092158Z",
     "start_time": "2023-03-14T11:43:16.079194Z"
    }
   },
   "outputs": [],
   "source": [
    "data = data.copy()\n",
    "data['def_Acc'][609] = 2699163\n",
    "df = data.loc[:, ['date', 'def_Acc']]\n",
    "df.rename(columns = {'def_Acc':'AC', 'date':'Date'}, inplace = True)\n",
    "df['DAC'] = df['AC'] - df['AC'].shift(1)\n",
    "df['DDAC'] = df['DAC'] - df['DAC'].shift(1)\n",
    "df['DDDAC'] = df['DDAC'] - df['DDAC'].shift(1)\n",
    "df['Date'] = pd.to_datetime(df['Date'])\n",
    "df.set_index('Date', inplace = True)\n",
    "df = df.loc[:, ['DAC', 'DDAC', 'DDDAC']]"
   ]
  },
  {
   "cell_type": "code",
   "execution_count": 12,
   "id": "bc1a8c50",
   "metadata": {
    "ExecuteTime": {
     "end_time": "2023-03-14T11:43:16.280069Z",
     "start_time": "2023-03-14T11:43:16.264111Z"
    }
   },
   "outputs": [
    {
     "data": {
      "text/html": [
       "<div>\n",
       "<style scoped>\n",
       "    .dataframe tbody tr th:only-of-type {\n",
       "        vertical-align: middle;\n",
       "    }\n",
       "\n",
       "    .dataframe tbody tr th {\n",
       "        vertical-align: top;\n",
       "    }\n",
       "\n",
       "    .dataframe thead th {\n",
       "        text-align: right;\n",
       "    }\n",
       "</style>\n",
       "<table border=\"1\" class=\"dataframe\">\n",
       "  <thead>\n",
       "    <tr style=\"text-align: right;\">\n",
       "      <th></th>\n",
       "      <th>DAC</th>\n",
       "      <th>DDAC</th>\n",
       "      <th>DDDAC</th>\n",
       "    </tr>\n",
       "  </thead>\n",
       "  <tbody>\n",
       "    <tr>\n",
       "      <th>count</th>\n",
       "      <td>949.000000</td>\n",
       "      <td>948.000000</td>\n",
       "      <td>947.000000</td>\n",
       "    </tr>\n",
       "    <tr>\n",
       "      <th>mean</th>\n",
       "      <td>6251.763962</td>\n",
       "      <td>2.114979</td>\n",
       "      <td>-0.147835</td>\n",
       "    </tr>\n",
       "    <tr>\n",
       "      <th>std</th>\n",
       "      <td>13432.845603</td>\n",
       "      <td>5081.627059</td>\n",
       "      <td>8056.829294</td>\n",
       "    </tr>\n",
       "    <tr>\n",
       "      <th>min</th>\n",
       "      <td>0.000000</td>\n",
       "      <td>-46374.000000</td>\n",
       "      <td>-93354.000000</td>\n",
       "    </tr>\n",
       "    <tr>\n",
       "      <th>25%</th>\n",
       "      <td>184.000000</td>\n",
       "      <td>-417.750000</td>\n",
       "      <td>-129.000000</td>\n",
       "    </tr>\n",
       "    <tr>\n",
       "      <th>50%</th>\n",
       "      <td>905.000000</td>\n",
       "      <td>-21.500000</td>\n",
       "      <td>3.000000</td>\n",
       "    </tr>\n",
       "    <tr>\n",
       "      <th>75%</th>\n",
       "      <td>5970.000000</td>\n",
       "      <td>19.000000</td>\n",
       "      <td>139.000000</td>\n",
       "    </tr>\n",
       "    <tr>\n",
       "      <th>max</th>\n",
       "      <td>128371.000000</td>\n",
       "      <td>46980.000000</td>\n",
       "      <td>56804.000000</td>\n",
       "    </tr>\n",
       "  </tbody>\n",
       "</table>\n",
       "</div>"
      ],
      "text/plain": [
       "                 DAC          DDAC         DDDAC\n",
       "count     949.000000    948.000000    947.000000\n",
       "mean     6251.763962      2.114979     -0.147835\n",
       "std     13432.845603   5081.627059   8056.829294\n",
       "min         0.000000 -46374.000000 -93354.000000\n",
       "25%       184.000000   -417.750000   -129.000000\n",
       "50%       905.000000    -21.500000      3.000000\n",
       "75%      5970.000000     19.000000    139.000000\n",
       "max    128371.000000  46980.000000  56804.000000"
      ]
     },
     "execution_count": 12,
     "metadata": {},
     "output_type": "execute_result"
    }
   ],
   "source": [
    "df.describe()"
   ]
  },
  {
   "cell_type": "markdown",
   "id": "b8393335",
   "metadata": {},
   "source": [
    "## Null Values"
   ]
  },
  {
   "cell_type": "code",
   "execution_count": 13,
   "id": "f578f9b0",
   "metadata": {
    "ExecuteTime": {
     "end_time": "2023-03-14T11:43:16.659276Z",
     "start_time": "2023-03-14T11:43:16.652295Z"
    }
   },
   "outputs": [
    {
     "data": {
      "text/plain": [
       "DAC      1\n",
       "DDAC     2\n",
       "DDDAC    3\n",
       "dtype: int64"
      ]
     },
     "execution_count": 13,
     "metadata": {},
     "output_type": "execute_result"
    }
   ],
   "source": [
    "df.isnull().sum()"
   ]
  },
  {
   "cell_type": "code",
   "execution_count": 14,
   "id": "b461ebc1",
   "metadata": {
    "ExecuteTime": {
     "end_time": "2023-03-14T11:43:16.849708Z",
     "start_time": "2023-03-14T11:43:16.835746Z"
    }
   },
   "outputs": [
    {
     "data": {
      "text/html": [
       "<div>\n",
       "<style scoped>\n",
       "    .dataframe tbody tr th:only-of-type {\n",
       "        vertical-align: middle;\n",
       "    }\n",
       "\n",
       "    .dataframe tbody tr th {\n",
       "        vertical-align: top;\n",
       "    }\n",
       "\n",
       "    .dataframe thead th {\n",
       "        text-align: right;\n",
       "    }\n",
       "</style>\n",
       "<table border=\"1\" class=\"dataframe\">\n",
       "  <thead>\n",
       "    <tr style=\"text-align: right;\">\n",
       "      <th></th>\n",
       "      <th>DAC</th>\n",
       "      <th>DDAC</th>\n",
       "      <th>DDDAC</th>\n",
       "    </tr>\n",
       "    <tr>\n",
       "      <th>Date</th>\n",
       "      <th></th>\n",
       "      <th></th>\n",
       "      <th></th>\n",
       "    </tr>\n",
       "  </thead>\n",
       "  <tbody>\n",
       "    <tr>\n",
       "      <th>2020-08-01</th>\n",
       "      <td>2.0</td>\n",
       "      <td>-6.0</td>\n",
       "      <td>-11.0</td>\n",
       "    </tr>\n",
       "    <tr>\n",
       "      <th>2020-08-02</th>\n",
       "      <td>5.0</td>\n",
       "      <td>3.0</td>\n",
       "      <td>9.0</td>\n",
       "    </tr>\n",
       "    <tr>\n",
       "      <th>2020-08-03</th>\n",
       "      <td>5.0</td>\n",
       "      <td>0.0</td>\n",
       "      <td>-3.0</td>\n",
       "    </tr>\n",
       "    <tr>\n",
       "      <th>2020-08-04</th>\n",
       "      <td>9.0</td>\n",
       "      <td>4.0</td>\n",
       "      <td>4.0</td>\n",
       "    </tr>\n",
       "    <tr>\n",
       "      <th>2020-08-05</th>\n",
       "      <td>6.0</td>\n",
       "      <td>-3.0</td>\n",
       "      <td>-7.0</td>\n",
       "    </tr>\n",
       "    <tr>\n",
       "      <th>...</th>\n",
       "      <td>...</td>\n",
       "      <td>...</td>\n",
       "      <td>...</td>\n",
       "    </tr>\n",
       "    <tr>\n",
       "      <th>2023-03-01</th>\n",
       "      <td>2301.0</td>\n",
       "      <td>-25.0</td>\n",
       "      <td>-1728.0</td>\n",
       "    </tr>\n",
       "    <tr>\n",
       "      <th>2023-03-02</th>\n",
       "      <td>1200.0</td>\n",
       "      <td>-1101.0</td>\n",
       "      <td>-1076.0</td>\n",
       "    </tr>\n",
       "    <tr>\n",
       "      <th>2023-03-03</th>\n",
       "      <td>2296.0</td>\n",
       "      <td>1096.0</td>\n",
       "      <td>2197.0</td>\n",
       "    </tr>\n",
       "    <tr>\n",
       "      <th>2023-03-04</th>\n",
       "      <td>2143.0</td>\n",
       "      <td>-153.0</td>\n",
       "      <td>-1249.0</td>\n",
       "    </tr>\n",
       "    <tr>\n",
       "      <th>2023-03-05</th>\n",
       "      <td>2008.0</td>\n",
       "      <td>-135.0</td>\n",
       "      <td>18.0</td>\n",
       "    </tr>\n",
       "  </tbody>\n",
       "</table>\n",
       "<p>947 rows × 3 columns</p>\n",
       "</div>"
      ],
      "text/plain": [
       "               DAC    DDAC   DDDAC\n",
       "Date                              \n",
       "2020-08-01     2.0    -6.0   -11.0\n",
       "2020-08-02     5.0     3.0     9.0\n",
       "2020-08-03     5.0     0.0    -3.0\n",
       "2020-08-04     9.0     4.0     4.0\n",
       "2020-08-05     6.0    -3.0    -7.0\n",
       "...            ...     ...     ...\n",
       "2023-03-01  2301.0   -25.0 -1728.0\n",
       "2023-03-02  1200.0 -1101.0 -1076.0\n",
       "2023-03-03  2296.0  1096.0  2197.0\n",
       "2023-03-04  2143.0  -153.0 -1249.0\n",
       "2023-03-05  2008.0  -135.0    18.0\n",
       "\n",
       "[947 rows x 3 columns]"
      ]
     },
     "execution_count": 14,
     "metadata": {},
     "output_type": "execute_result"
    }
   ],
   "source": [
    "df.dropna(inplace = True)\n",
    "df"
   ]
  },
  {
   "cell_type": "markdown",
   "id": "89a32c1a",
   "metadata": {
    "ExecuteTime": {
     "end_time": "2023-02-24T08:43:00.522699Z",
     "start_time": "2023-02-24T08:43:00.518710Z"
    }
   },
   "source": [
    "## Split Target"
   ]
  },
  {
   "cell_type": "code",
   "execution_count": 15,
   "id": "c3617012",
   "metadata": {
    "ExecuteTime": {
     "end_time": "2023-03-14T11:43:17.205895Z",
     "start_time": "2023-03-14T11:43:17.194925Z"
    }
   },
   "outputs": [
    {
     "name": "stdout",
     "output_type": "stream",
     "text": [
      "               DAC    DDAC   DDDAC\n",
      "Date                              \n",
      "2020-08-01     2.0    -6.0   -11.0\n",
      "2020-08-02     5.0     3.0     9.0\n",
      "2020-08-03     5.0     0.0    -3.0\n",
      "2020-08-04     9.0     4.0     4.0\n",
      "2020-08-05     6.0    -3.0    -7.0\n",
      "...            ...     ...     ...\n",
      "2023-03-01  2301.0   -25.0 -1728.0\n",
      "2023-03-02  1200.0 -1101.0 -1076.0\n",
      "2023-03-03  2296.0  1096.0  2197.0\n",
      "2023-03-04  2143.0  -153.0 -1249.0\n",
      "2023-03-05  2008.0  -135.0    18.0\n",
      "\n",
      "[947 rows x 3 columns]\n",
      "               DAC\n",
      "Date              \n",
      "2020-08-01     2.0\n",
      "2020-08-02     5.0\n",
      "2020-08-03     5.0\n",
      "2020-08-04     9.0\n",
      "2020-08-05     6.0\n",
      "...            ...\n",
      "2023-03-01  2301.0\n",
      "2023-03-02  1200.0\n",
      "2023-03-03  2296.0\n",
      "2023-03-04  2143.0\n",
      "2023-03-05  2008.0\n",
      "\n",
      "[947 rows x 1 columns]\n"
     ]
    }
   ],
   "source": [
    "x = df.iloc[:, 0:]\n",
    "y = df.iloc[:,:1]\n",
    "print(x)\n",
    "print(y)"
   ]
  },
  {
   "cell_type": "markdown",
   "id": "73a0fbf4",
   "metadata": {},
   "source": [
    "## Scailing"
   ]
  },
  {
   "cell_type": "code",
   "execution_count": 16,
   "id": "64ccac4d",
   "metadata": {
    "ExecuteTime": {
     "end_time": "2023-03-14T11:43:17.583612Z",
     "start_time": "2023-03-14T11:43:17.573639Z"
    }
   },
   "outputs": [],
   "source": [
    "ms = MinMaxScaler()\n",
    "ss = StandardScaler()\n",
    "\n",
    "x_ss = ss.fit_transform(x)\n",
    "y_ms = ms.fit_transform(y)"
   ]
  },
  {
   "cell_type": "code",
   "execution_count": 17,
   "id": "3f9d8acc",
   "metadata": {
    "ExecuteTime": {
     "end_time": "2023-03-14T11:43:17.776924Z",
     "start_time": "2023-03-14T11:43:17.758973Z"
    }
   },
   "outputs": [
    {
     "data": {
      "text/plain": [
       "(array([[-4.66102489e-01, -1.59632581e-03, -1.34766403e-03],\n",
       "        [-4.65879223e-01,  1.74760480e-04,  1.13601377e-03],\n",
       "        [-4.65879223e-01, -4.15601616e-04, -3.54192911e-04],\n",
       "        ...,\n",
       "        [-2.95378127e-01,  2.15263351e-01,  2.72850365e-01],\n",
       "        [-3.06764712e-01, -3.05240685e-02, -1.55087320e-01],\n",
       "        [-3.16811700e-01, -2.69818959e-02,  2.25366878e-03]]),\n",
       " array([[1.55798428e-05],\n",
       "        [3.89496070e-05],\n",
       "        [3.89496070e-05],\n",
       "        [7.01092926e-05],\n",
       "        [4.67395284e-05],\n",
       "        [7.01092926e-05],\n",
       "        [7.01092926e-05],\n",
       "        [1.32428664e-04],\n",
       "        [1.01268978e-04],\n",
       "        [1.01268978e-04],\n",
       "        [4.67395284e-05],\n",
       "        [1.16848821e-04],\n",
       "        [2.02537956e-04],\n",
       "        [2.49277485e-04],\n",
       "        [5.76454184e-04],\n",
       "        [1.13732852e-03],\n",
       "        [7.01092926e-04],\n",
       "        [1.02826962e-03],\n",
       "        [1.17627813e-03],\n",
       "        [1.05163939e-03],\n",
       "        [9.81530096e-04],\n",
       "        [1.00489986e-03],\n",
       "        [1.09058900e-03],\n",
       "        [7.55622376e-04],\n",
       "        [1.05163939e-03],\n",
       "        [8.64681275e-04],\n",
       "        [1.19964790e-03],\n",
       "        [1.13732852e-03],\n",
       "        [9.73740175e-04],\n",
       "        [9.03630882e-04],\n",
       "        [7.32252612e-04],\n",
       "        [7.32252612e-04],\n",
       "        [7.86782061e-04],\n",
       "        [5.37504577e-04],\n",
       "        [5.29714655e-04],\n",
       "        [3.97285991e-04],\n",
       "        [4.90765048e-04],\n",
       "        [3.73916227e-04],\n",
       "        [5.21924734e-04],\n",
       "        [3.81706149e-04],\n",
       "        [3.73916227e-04],\n",
       "        [4.90765048e-04],\n",
       "        [3.89496070e-04],\n",
       "        [2.41487563e-04],\n",
       "        [3.19386777e-04],\n",
       "        [2.49277485e-04],\n",
       "        [3.97285991e-04],\n",
       "        [4.98554970e-04],\n",
       "        [3.58336384e-04],\n",
       "        [3.11596856e-04],\n",
       "        [2.18117799e-04],\n",
       "        [1.79168192e-04],\n",
       "        [1.63588349e-04],\n",
       "        [3.11596856e-04],\n",
       "        [3.03806935e-04],\n",
       "        [4.44025520e-04],\n",
       "        [2.02537956e-04],\n",
       "        [2.64857328e-04],\n",
       "        [1.48008507e-04],\n",
       "        [8.56891354e-05],\n",
       "        [3.97285991e-04],\n",
       "        [2.33697642e-04],\n",
       "        [8.56891354e-05],\n",
       "        [2.02537956e-04],\n",
       "        [1.24638742e-04],\n",
       "        [1.48008507e-04],\n",
       "        [1.16848821e-04],\n",
       "        [2.57067406e-04],\n",
       "        [1.55798428e-04],\n",
       "        [1.71378271e-04],\n",
       "        [1.94748035e-04],\n",
       "        [1.79168192e-04],\n",
       "        [2.41487563e-04],\n",
       "        [1.55798428e-04],\n",
       "        [1.79168192e-04],\n",
       "        [1.94748035e-04],\n",
       "        [1.40218585e-04],\n",
       "        [1.40218585e-04],\n",
       "        [1.55798428e-04],\n",
       "        [1.09058900e-04],\n",
       "        [8.56891354e-05],\n",
       "        [1.32428664e-04],\n",
       "        [1.40218585e-04],\n",
       "        [1.55798428e-04],\n",
       "        [1.71378271e-04],\n",
       "        [1.32428664e-04],\n",
       "        [1.55798428e-04],\n",
       "        [1.86958114e-04],\n",
       "        [1.94748035e-04],\n",
       "        [2.80437170e-04],\n",
       "        [3.66126306e-04],\n",
       "        [4.05075913e-04],\n",
       "        [3.50546463e-04],\n",
       "        [1.94748035e-04],\n",
       "        [1.71378271e-04],\n",
       "        [3.27176699e-04],\n",
       "        [3.89496070e-04],\n",
       "        [3.11596856e-04],\n",
       "        [2.88227092e-04],\n",
       "        [4.20655756e-04],\n",
       "        [3.58336384e-04],\n",
       "        [2.72647249e-04],\n",
       "        [3.50546463e-04],\n",
       "        [4.12865834e-04],\n",
       "        [5.76454184e-04],\n",
       "        [5.37504577e-04],\n",
       "        [6.62143319e-04],\n",
       "        [6.23193712e-04],\n",
       "        [7.01092926e-04],\n",
       "        [7.16672769e-04],\n",
       "        [8.49101433e-04],\n",
       "        [1.02826962e-03],\n",
       "        [1.21522774e-03],\n",
       "        [9.42580489e-04],\n",
       "        [8.72471197e-04],\n",
       "        [1.03605955e-03],\n",
       "        [1.10616884e-03],\n",
       "        [1.65146334e-03],\n",
       "        [1.58914397e-03],\n",
       "        [1.38660601e-03],\n",
       "        [1.23080758e-03],\n",
       "        [1.23859750e-03],\n",
       "        [1.20743782e-03],\n",
       "        [1.50345483e-03],\n",
       "        [2.04095941e-03],\n",
       "        [2.29802681e-03],\n",
       "        [1.83063153e-03],\n",
       "        [1.97864004e-03],\n",
       "        [1.90074082e-03],\n",
       "        [1.64367342e-03],\n",
       "        [2.04095941e-03],\n",
       "        [1.94748035e-03],\n",
       "        [1.96306019e-03],\n",
       "        [2.81995155e-03],\n",
       "        [3.10817864e-03],\n",
       "        [1.70599279e-03],\n",
       "        [1.95527027e-03],\n",
       "        [2.94459029e-03],\n",
       "        [3.29513675e-03],\n",
       "        [3.10038872e-03],\n",
       "        [2.96017013e-03],\n",
       "        [3.67684290e-03],\n",
       "        [2.54730430e-03],\n",
       "        [2.46161516e-03],\n",
       "        [2.92122052e-03],\n",
       "        [2.48498493e-03],\n",
       "        [4.30003661e-03],\n",
       "        [3.62231345e-03],\n",
       "        [2.81995155e-03],\n",
       "        [2.32918650e-03],\n",
       "        [4.05854905e-03],\n",
       "        [3.01469958e-03],\n",
       "        [2.85111123e-03],\n",
       "        [2.78100194e-03],\n",
       "        [1.94748035e-03],\n",
       "        [1.54240444e-03],\n",
       "        [2.56288414e-03],\n",
       "        [1.55019436e-03],\n",
       "        [2.04874933e-03],\n",
       "        [2.31360666e-03],\n",
       "        [1.48787499e-03],\n",
       "        [1.46450522e-03],\n",
       "        [1.45671530e-03],\n",
       "        [1.09837892e-03],\n",
       "        [1.30091687e-03],\n",
       "        [1.18406805e-03],\n",
       "        [1.04384947e-03],\n",
       "        [9.89320018e-04],\n",
       "        [1.21522774e-03],\n",
       "        [1.12953860e-03],\n",
       "        [1.02826962e-03],\n",
       "        [7.86782061e-04],\n",
       "        [1.11395876e-03],\n",
       "        [9.73740175e-04],\n",
       "        [8.95840961e-04],\n",
       "        [9.89320018e-04],\n",
       "        [1.03605955e-03],\n",
       "        [7.86782061e-04],\n",
       "        [8.10151826e-04],\n",
       "        [1.00489986e-03],\n",
       "        [8.17941747e-04],\n",
       "        [8.72471197e-04],\n",
       "        [1.18406805e-03],\n",
       "        [7.78992140e-04],\n",
       "        [8.33521590e-04],\n",
       "        [9.97109939e-04],\n",
       "        [1.46450522e-03],\n",
       "        [1.33986648e-03],\n",
       "        [9.81530096e-04],\n",
       "        [1.11395876e-03],\n",
       "        [1.12174868e-03],\n",
       "        [8.72471197e-04],\n",
       "        [7.01092926e-04],\n",
       "        [1.36323624e-03],\n",
       "        [1.42555562e-03],\n",
       "        [1.23080758e-03],\n",
       "        [1.05942931e-03],\n",
       "        [1.18406805e-03],\n",
       "        [1.16848821e-03],\n",
       "        [1.25417735e-03],\n",
       "        [2.00979972e-03],\n",
       "        [1.44113546e-03],\n",
       "        [1.40218585e-03],\n",
       "        [9.58160332e-04],\n",
       "        [1.01268978e-03],\n",
       "        [8.25731668e-04],\n",
       "        [9.73740175e-04],\n",
       "        [1.12174868e-03],\n",
       "        [9.50370411e-04],\n",
       "        [1.02047970e-03],\n",
       "        [1.02047970e-03],\n",
       "        [9.34790568e-04],\n",
       "        [7.16672769e-04],\n",
       "        [9.50370411e-04],\n",
       "        [9.27000647e-04],\n",
       "        [9.19210725e-04],\n",
       "        [1.00489986e-03],\n",
       "        [9.97109939e-04],\n",
       "        [1.02826962e-03],\n",
       "        [7.78992140e-04],\n",
       "        [7.94571983e-04],\n",
       "        [1.07500915e-03],\n",
       "        [1.07500915e-03],\n",
       "        [1.09058900e-03],\n",
       "        [1.09058900e-03],\n",
       "        [8.72471197e-04],\n",
       "        [8.49101433e-04],\n",
       "        [6.15403791e-04],\n",
       "        [9.34790568e-04],\n",
       "        [9.65950254e-04],\n",
       "        [1.13732852e-03],\n",
       "        [8.95840961e-04],\n",
       "        [9.73740175e-04],\n",
       "        [8.49101433e-04],\n",
       "        [7.55622376e-04],\n",
       "        [1.06721923e-03],\n",
       "        [9.89320018e-04],\n",
       "        [9.42580489e-04],\n",
       "        [9.89320018e-04],\n",
       "        [1.07500915e-03],\n",
       "        [8.33521590e-04],\n",
       "        [1.12953860e-03],\n",
       "        [1.23080758e-03],\n",
       "        [1.55019436e-03],\n",
       "        [1.29312695e-03],\n",
       "        [1.20743782e-03],\n",
       "        [1.16069829e-03],\n",
       "        [1.18406805e-03],\n",
       "        [1.14511845e-03],\n",
       "        [1.54240444e-03],\n",
       "        [1.90074082e-03],\n",
       "        [1.67483310e-03],\n",
       "        [1.56577420e-03],\n",
       "        [1.66704318e-03],\n",
       "        [1.26196727e-03],\n",
       "        [1.23080758e-03],\n",
       "        [1.92411059e-03],\n",
       "        [1.69041294e-03],\n",
       "        [1.68262302e-03],\n",
       "        [1.69041294e-03],\n",
       "        [1.58914397e-03],\n",
       "        [1.06721923e-03],\n",
       "        [1.15290837e-03],\n",
       "        [1.69820287e-03],\n",
       "        [1.79168192e-03],\n",
       "        [1.58914397e-03],\n",
       "        [1.97085011e-03],\n",
       "        [1.36323624e-03],\n",
       "        [1.19964790e-03],\n",
       "        [9.03630882e-04],\n",
       "        [2.00200980e-03],\n",
       "        [1.76831216e-03],\n",
       "        [1.76831216e-03],\n",
       "        [1.51903467e-03],\n",
       "        [1.41776569e-03],\n",
       "        [9.89320018e-04],\n",
       "        [1.43334554e-03],\n",
       "        [1.85400129e-03],\n",
       "        [1.65146334e-03],\n",
       "        [1.39439593e-03],\n",
       "        [1.88516098e-03],\n",
       "        [1.51903467e-03],\n",
       "        [1.09837892e-03],\n",
       "        [1.26975719e-03],\n",
       "        [1.72936255e-03],\n",
       "        [1.76831216e-03],\n",
       "        [1.79947184e-03],\n",
       "        [1.97864004e-03],\n",
       "        [1.65925326e-03],\n",
       "        [1.51903467e-03],\n",
       "        [1.33986648e-03],\n",
       "        [1.93969043e-03],\n",
       "        [1.88516098e-03],\n",
       "        [1.33986648e-03],\n",
       "        [1.62030365e-03],\n",
       "        [1.40997577e-03],\n",
       "        [1.08279907e-03],\n",
       "        [1.07500915e-03],\n",
       "        [2.03316949e-03],\n",
       "        [1.69820287e-03],\n",
       "        [1.66704318e-03],\n",
       "        [1.51124475e-03],\n",
       "        [1.24638742e-03],\n",
       "        [1.01268978e-03],\n",
       "        [1.14511845e-03],\n",
       "        [2.00979972e-03],\n",
       "        [1.67483310e-03],\n",
       "        [1.60472381e-03],\n",
       "        [2.15780823e-03],\n",
       "        [1.39439593e-03],\n",
       "        [1.23859750e-03],\n",
       "        [1.08279907e-03],\n",
       "        [1.42555562e-03],\n",
       "        [1.65146334e-03],\n",
       "        [1.58914397e-03],\n",
       "        [1.62030365e-03],\n",
       "        [1.37102617e-03],\n",
       "        [9.50370411e-04],\n",
       "        [1.02047970e-03],\n",
       "        [1.56577420e-03],\n",
       "        [1.56577420e-03],\n",
       "        [1.55798428e-03],\n",
       "        [1.53461452e-03],\n",
       "        [1.28533703e-03],\n",
       "        [1.04384947e-03],\n",
       "        [1.02047970e-03],\n",
       "        [1.83842145e-03],\n",
       "        [1.96306019e-03],\n",
       "        [2.09548886e-03],\n",
       "        [2.04874933e-03],\n",
       "        [1.88516098e-03],\n",
       "        [1.44113546e-03],\n",
       "        [1.59693389e-03],\n",
       "        [2.92122052e-03],\n",
       "        [2.59404383e-03],\n",
       "        [2.69531280e-03],\n",
       "        [2.79658178e-03],\n",
       "        [2.25128728e-03],\n",
       "        [2.39150587e-03],\n",
       "        [2.49277485e-03],\n",
       "        [4.53373425e-03],\n",
       "        [4.28445677e-03],\n",
       "        [3.91833046e-03],\n",
       "        [3.96506999e-03],\n",
       "        [3.96506999e-03],\n",
       "        [3.13933832e-03],\n",
       "        [3.24839722e-03],\n",
       "        [4.96217993e-03],\n",
       "        [4.04296921e-03],\n",
       "        [4.43246528e-03],\n",
       "        [4.35456606e-03],\n",
       "        [4.06633897e-03],\n",
       "        [3.26397707e-03],\n",
       "        [3.06922903e-03],\n",
       "        [4.70511253e-03],\n",
       "        [3.88717078e-03],\n",
       "        [4.04296921e-03],\n",
       "        [3.62231345e-03],\n",
       "        [3.80927156e-03],\n",
       "        [2.65636320e-03],\n",
       "        [2.73426241e-03],\n",
       "        [4.46362496e-03],\n",
       "        [4.00401960e-03],\n",
       "        [3.80148164e-03],\n",
       "        [3.70021266e-03],\n",
       "        [3.68463282e-03],\n",
       "        [2.83553139e-03],\n",
       "        [2.42266556e-03],\n",
       "        [3.78590180e-03],\n",
       "        [3.63010337e-03],\n",
       "        [3.61452353e-03],\n",
       "        [3.91833046e-03],\n",
       "        [3.50546463e-03],\n",
       "        [3.23281738e-03],\n",
       "        [2.79658178e-03],\n",
       "        [5.14134812e-03],\n",
       "        [4.09749866e-03],\n",
       "        [4.08191881e-03],\n",
       "        [3.99622968e-03],\n",
       "        [3.80148164e-03],\n",
       "        [2.83553139e-03],\n",
       "        [2.84332131e-03],\n",
       "        [3.96506999e-03],\n",
       "        [4.47920480e-03],\n",
       "        [4.31561646e-03],\n",
       "        [4.08970873e-03],\n",
       "        [3.87159094e-03],\n",
       "        [3.02248950e-03],\n",
       "        [3.39640573e-03],\n",
       "        [5.27377679e-03],\n",
       "        [4.44025520e-03],\n",
       "        [4.33119630e-03],\n",
       "        [4.43246528e-03],\n",
       "        [4.02738936e-03],\n",
       "        [3.44314526e-03],\n",
       "        [3.55220416e-03],\n",
       "        [5.17250781e-03],\n",
       "        [4.35456606e-03],\n",
       "        [4.22213740e-03],\n",
       "        [4.40130559e-03],\n",
       "        [3.95728007e-03],\n",
       "        [3.61452353e-03],\n",
       "        [3.75474211e-03],\n",
       "        [5.22703726e-03],\n",
       "        [5.19587757e-03],\n",
       "        [5.21924734e-03],\n",
       "        [5.13355820e-03],\n",
       "        [5.12576828e-03],\n",
       "        [4.33119630e-03],\n",
       "        [4.19876763e-03],\n",
       "        [6.29425649e-03],\n",
       "        [5.60095349e-03],\n",
       "        [5.81128136e-03],\n",
       "        [5.47631474e-03],\n",
       "        [5.77233176e-03],\n",
       "        [4.54152418e-03],\n",
       "        [5.26598687e-03],\n",
       "        [5.01670938e-03],\n",
       "        [5.02449930e-03],\n",
       "        [7.04987887e-03],\n",
       "        [9.51928395e-03],\n",
       "        [7.22904706e-03],\n",
       "        [6.06055885e-03],\n",
       "        [6.55911382e-03],\n",
       "        [8.18720739e-03],\n",
       "        [7.36147572e-03],\n",
       "        [7.11998816e-03],\n",
       "        [6.16961775e-03],\n",
       "        [5.72559223e-03],\n",
       "        [4.44804512e-03],\n",
       "        [4.05854905e-03],\n",
       "        [5.37504577e-03],\n",
       "        [6.49679445e-03],\n",
       "        [6.03718908e-03],\n",
       "        [5.54642404e-03],\n",
       "        [4.54152418e-03],\n",
       "        [3.98064984e-03],\n",
       "        [3.75474211e-03],\n",
       "        [4.54152418e-03],\n",
       "        [5.79570152e-03],\n",
       "        [5.30493647e-03],\n",
       "        [4.55710402e-03],\n",
       "        [3.93391031e-03],\n",
       "        [2.76542210e-03],\n",
       "        [2.32139658e-03],\n",
       "        [3.91833046e-03],\n",
       "        [3.94170023e-03],\n",
       "        [4.04296921e-03],\n",
       "        [4.29224669e-03],\n",
       "        [4.05075913e-03],\n",
       "        [3.54441424e-03],\n",
       "        [3.32629644e-03],\n",
       "        [5.67106278e-03],\n",
       "        [6.12287822e-03],\n",
       "        [5.99823948e-03],\n",
       "        [5.49968451e-03],\n",
       "        [5.92034026e-03],\n",
       "        [5.03228922e-03],\n",
       "        [4.67395284e-03],\n",
       "        [7.81329116e-03],\n",
       "        [7.36926564e-03],\n",
       "        [7.63412297e-03],\n",
       "        [7.13556800e-03],\n",
       "        [6.60585335e-03],\n",
       "        [5.51526435e-03],\n",
       "        [5.14134812e-03],\n",
       "        [7.57959352e-03],\n",
       "        [7.82108109e-03],\n",
       "        [7.39263541e-03],\n",
       "        [7.82108109e-03],\n",
       "        [7.61854313e-03],\n",
       "        [6.69154248e-03],\n",
       "        [6.58248358e-03],\n",
       "        [1.11785372e-02],\n",
       "        [1.11240078e-02],\n",
       "        [1.09136799e-02],\n",
       "        [1.07267218e-02],\n",
       "        [1.02515366e-02],\n",
       "        [9.95551955e-03],\n",
       "        [9.07525843e-03],\n",
       "        [1.34999338e-02],\n",
       "        [1.37102617e-02],\n",
       "        [1.35622532e-02],\n",
       "        [1.47073716e-02],\n",
       "        [1.30559083e-02],\n",
       "        [1.08202008e-02],\n",
       "        [9.23884678e-03],\n",
       "        [1.73014154e-02],\n",
       "        [1.76597518e-02],\n",
       "        [1.63510450e-02],\n",
       "        [1.77064913e-02],\n",
       "        [1.58291203e-02],\n",
       "        [1.09682093e-02],\n",
       "        [1.65068434e-02],\n",
       "        [2.25985620e-02],\n",
       "        [2.17338807e-02],\n",
       "        [2.18117799e-02],\n",
       "        [2.20844272e-02],\n",
       "        [1.96851314e-02],\n",
       "        [1.98642996e-02],\n",
       "        [1.60550280e-02],\n",
       "        [2.46395214e-02],\n",
       "        [2.38137897e-02],\n",
       "        [2.21623264e-02],\n",
       "        [2.17650404e-02],\n",
       "        [1.80648277e-02],\n",
       "        [1.48631700e-02],\n",
       "        [1.55331033e-02],\n",
       "        [2.18039900e-02],\n",
       "        [2.11885862e-02],\n",
       "        [1.82751556e-02],\n",
       "        [1.65068434e-02],\n",
       "        [1.49332793e-02],\n",
       "        [1.16537224e-02],\n",
       "        [1.00334188e-02],\n",
       "        [1.49021196e-02],\n",
       "        [1.33986648e-02],\n",
       "        [1.29935889e-02],\n",
       "        [1.13966550e-02],\n",
       "        [9.19989717e-03],\n",
       "        [7.69644234e-03],\n",
       "        [7.27578659e-03],\n",
       "        [1.09993690e-02],\n",
       "        [9.39464521e-03],\n",
       "        [8.08593841e-03],\n",
       "        [7.72760203e-03],\n",
       "        [7.52506407e-03],\n",
       "        [6.05276893e-03],\n",
       "        [5.87360074e-03],\n",
       "        [8.51438409e-03],\n",
       "        [7.59517336e-03],\n",
       "        [7.29136643e-03],\n",
       "        [7.10440832e-03],\n",
       "        [7.18230753e-03],\n",
       "        [6.15403791e-03],\n",
       "        [5.94371003e-03],\n",
       "        [9.56602348e-03],\n",
       "        [1.05942931e-02],\n",
       "        [1.20743782e-02],\n",
       "        [1.23859750e-02],\n",
       "        [1.31883369e-02],\n",
       "        [1.30792780e-02],\n",
       "        [1.34220346e-02],\n",
       "        [2.46940508e-02],\n",
       "        [2.66960606e-02],\n",
       "        [3.10895763e-02],\n",
       "        [3.27098800e-02],\n",
       "        [3.26008211e-02],\n",
       "        [3.26631404e-02],\n",
       "        [3.21801653e-02],\n",
       "        [3.27877792e-02],\n",
       "        [4.06478099e-02],\n",
       "        [4.79859158e-02],\n",
       "        [6.69777442e-02],\n",
       "        [6.09249753e-02],\n",
       "        [0.00000000e+00],\n",
       "        [9.96408846e-02],\n",
       "        [9.09629122e-02],\n",
       "        [9.25053166e-02],\n",
       "        [8.98255837e-02],\n",
       "        [1.02811383e-01],\n",
       "        [9.21080306e-02],\n",
       "        [9.03552983e-02],\n",
       "        [9.70078912e-02],\n",
       "        [1.47065926e-01],\n",
       "        [1.53367973e-01],\n",
       "        [1.99819274e-01],\n",
       "        [1.80671647e-01],\n",
       "        [1.72172843e-01],\n",
       "        [1.55915277e-01],\n",
       "        [1.69867026e-01],\n",
       "        [3.23009091e-01],\n",
       "        [2.89551378e-01],\n",
       "        [2.77430261e-01],\n",
       "        [2.86895015e-01],\n",
       "        [2.75381511e-01],\n",
       "        [2.17891891e-01],\n",
       "        [2.17221958e-01],\n",
       "        [3.65604381e-01],\n",
       "        [3.40224817e-01],\n",
       "        [4.61700851e-01],\n",
       "        [4.14369289e-01],\n",
       "        [3.85203823e-01],\n",
       "        [3.08153711e-01],\n",
       "        [2.91989624e-01],\n",
       "        [5.78121227e-01],\n",
       "        [5.20818565e-01],\n",
       "        [4.40925131e-01],\n",
       "        [6.26551168e-01],\n",
       "        [5.28218990e-01],\n",
       "        [4.42389636e-01],\n",
       "        [5.14617788e-01],\n",
       "        [6.34029493e-01],\n",
       "        [1.00000000e+00],\n",
       "        [6.38750185e-01],\n",
       "        [6.39762875e-01],\n",
       "        [5.13122123e-01],\n",
       "        [3.19994391e-01],\n",
       "        [5.06329311e-01],\n",
       "        [7.87748012e-01],\n",
       "        [6.05822187e-01],\n",
       "        [5.21262590e-01],\n",
       "        [4.98484860e-01],\n",
       "        [4.60781641e-01],\n",
       "        [2.66337413e-01],\n",
       "        [5.14391880e-01],\n",
       "        [6.37238940e-01],\n",
       "        [4.68415764e-01],\n",
       "        [4.02575348e-01],\n",
       "        [3.79057575e-01],\n",
       "        [3.28025800e-01],\n",
       "        [1.62762618e-01],\n",
       "        [4.00775876e-01],\n",
       "        [4.08339890e-01],\n",
       "        [3.10607536e-01],\n",
       "        [2.82002945e-01],\n",
       "        [2.51707940e-01],\n",
       "        [2.25136518e-01],\n",
       "        [1.10983010e-01],\n",
       "        [3.07662946e-01],\n",
       "        [2.57620491e-01],\n",
       "        [1.94522127e-01],\n",
       "        [1.67062654e-01],\n",
       "        [1.41091056e-01],\n",
       "        [1.15329786e-01],\n",
       "        [5.72169727e-02],\n",
       "        [1.69937135e-01],\n",
       "        [1.42571141e-01],\n",
       "        [1.18282167e-01],\n",
       "        [1.02577685e-01],\n",
       "        [9.61821595e-02],\n",
       "        [8.08360144e-02],\n",
       "        [3.71033956e-02],\n",
       "        [1.05561225e-01],\n",
       "        [8.97165248e-02],\n",
       "        [7.08571251e-02],\n",
       "        [6.01693529e-02],\n",
       "        [5.02839426e-02],\n",
       "        [4.25485507e-02],\n",
       "        [2.06666615e-02],\n",
       "        [6.73828201e-02],\n",
       "        [5.79102757e-02],\n",
       "        [5.17328680e-02],\n",
       "        [2.80125574e-02],\n",
       "        [5.17250781e-02],\n",
       "        [4.65759400e-02],\n",
       "        [2.11496366e-02],\n",
       "        [6.33476408e-02],\n",
       "        [4.83130925e-02],\n",
       "        [4.43246528e-02],\n",
       "        [4.02738936e-02],\n",
       "        [3.70956057e-02],\n",
       "        [3.13544336e-02],\n",
       "        [1.31182276e-02],\n",
       "        [4.57424185e-02],\n",
       "        [3.92767837e-02],\n",
       "        [3.54519323e-02],\n",
       "        [3.19776273e-02],\n",
       "        [2.79424481e-02],\n",
       "        [2.26141418e-02],\n",
       "        [9.44917466e-03],\n",
       "        [3.32318047e-02],\n",
       "        [2.78723388e-02],\n",
       "        [2.17105109e-02],\n",
       "        [2.35723022e-02],\n",
       "        [1.77220712e-02],\n",
       "        [1.57200614e-02],\n",
       "        [8.72471197e-03],\n",
       "        [2.60183375e-02],\n",
       "        [2.27699403e-02],\n",
       "        [1.42010267e-02],\n",
       "        [1.89918284e-02],\n",
       "        [1.75506929e-02],\n",
       "        [1.33908749e-02],\n",
       "        [5.74896199e-03],\n",
       "        [7.41600517e-03],\n",
       "        [2.04018041e-02],\n",
       "        [1.56421622e-02],\n",
       "        [1.19653193e-02],\n",
       "        [1.07500915e-02],\n",
       "        [9.03630882e-03],\n",
       "        [5.16471789e-03],\n",
       "        [1.37336314e-02],\n",
       "        [1.31493873e-02],\n",
       "        [1.20665882e-02],\n",
       "        [9.95551955e-03],\n",
       "        [9.68287230e-03],\n",
       "        [8.63123291e-03],\n",
       "        [5.60095349e-03],\n",
       "        [1.58291203e-02],\n",
       "        [1.38426903e-02],\n",
       "        [1.23002859e-02],\n",
       "        [1.24716642e-02],\n",
       "        [1.20899580e-02],\n",
       "        [1.02047970e-02],\n",
       "        [4.67395284e-03],\n",
       "        [1.92177361e-02],\n",
       "        [1.92878454e-02],\n",
       "        [1.77610208e-02],\n",
       "        [1.82128362e-02],\n",
       "        [2.16014520e-02],\n",
       "        [1.90074082e-02],\n",
       "        [9.04409875e-03],\n",
       "        [3.72046646e-02],\n",
       "        [3.71501352e-02],\n",
       "        [3.56700501e-02],\n",
       "        [3.58258485e-02],\n",
       "        [3.81628249e-02],\n",
       "        [4.08503478e-02],\n",
       "        [2.04251739e-02],\n",
       "        [7.32720007e-02],\n",
       "        [7.28980845e-02],\n",
       "        [7.51961113e-02],\n",
       "        [6.96886368e-02],\n",
       "        [7.36537068e-02],\n",
       "        [6.67206768e-02],\n",
       "        [3.81394552e-02],\n",
       "        [1.40374384e-01],\n",
       "        [1.33908749e-01],\n",
       "        [1.29795670e-01],\n",
       "        [1.19762252e-01],\n",
       "        [1.15462215e-01],\n",
       "        [1.07571025e-01],\n",
       "        [4.64824610e-02],\n",
       "        [1.79791386e-01],\n",
       "        [1.56351512e-01],\n",
       "        [1.41231275e-01],\n",
       "        [1.36417104e-01],\n",
       "        [1.29133527e-01],\n",
       "        [1.10219598e-01],\n",
       "        [5.71780231e-02],\n",
       "        [1.91569747e-01],\n",
       "        [1.79183772e-01],\n",
       "        [1.57590110e-01],\n",
       "        [1.62131634e-01],\n",
       "        [1.56896807e-01],\n",
       "        [1.43069696e-01],\n",
       "        [6.12833117e-02],\n",
       "        [2.29491084e-01],\n",
       "        [2.02981982e-01],\n",
       "        [1.90907604e-01],\n",
       "        [1.77812746e-01],\n",
       "        [1.70217573e-01],\n",
       "        [1.52651300e-01],\n",
       "        [6.42356919e-02],\n",
       "        [1.01736373e-01],\n",
       "        [2.52790739e-01],\n",
       "        [2.20797532e-01],\n",
       "        [1.63541610e-01],\n",
       "        [1.55486831e-01],\n",
       "        [1.30426654e-01],\n",
       "        [5.76064688e-02],\n",
       "        [1.99936123e-01],\n",
       "        [1.60043935e-01],\n",
       "        [1.37827079e-01],\n",
       "        [1.22488724e-01],\n",
       "        [1.13670533e-01],\n",
       "        [1.01674054e-01],\n",
       "        [4.48387876e-02],\n",
       "        [1.58961136e-01],\n",
       "        [1.23890910e-01],\n",
       "        [1.03637114e-01],\n",
       "        [1.21032009e-01],\n",
       "        [1.07905991e-01],\n",
       "        [9.30038716e-02],\n",
       "        [4.14345919e-02],\n",
       "        [1.46014287e-01],\n",
       "        [1.13086289e-01],\n",
       "        [1.01666264e-01],\n",
       "        [9.59095123e-02],\n",
       "        [4.73705120e-02],\n",
       "        [3.74461522e-02],\n",
       "        [4.89908157e-02],\n",
       "        [7.44093292e-02],\n",
       "        [1.35357674e-01],\n",
       "        [9.20301314e-02],\n",
       "        [7.17997055e-02],\n",
       "        [5.96162685e-02],\n",
       "        [4.65058308e-02],\n",
       "        [2.49199586e-02],\n",
       "        [7.56868763e-02],\n",
       "        [5.72247626e-02],\n",
       "        [4.79080166e-02],\n",
       "        [4.37793583e-02],\n",
       "        [4.39273668e-02],\n",
       "        [3.80771358e-02],\n",
       "        [1.81894665e-02],\n",
       "        [6.66194078e-02],\n",
       "        [5.54019210e-02],\n",
       "        [4.87804878e-02],\n",
       "        [4.50569054e-02],\n",
       "        [4.34443916e-02],\n",
       "        [3.73682530e-02],\n",
       "        [1.57745908e-02],\n",
       "        [2.40396974e-02],\n",
       "        [5.97175375e-02],\n",
       "        [4.29380468e-02],\n",
       "        [3.35589814e-02],\n",
       "        [3.06767105e-02],\n",
       "        [2.76698008e-02],\n",
       "        [1.16381426e-02],\n",
       "        [2.37904200e-02],\n",
       "        [5.29480958e-02],\n",
       "        [4.09204571e-02],\n",
       "        [3.76019506e-02],\n",
       "        [3.56311005e-02],\n",
       "        [3.26475606e-02],\n",
       "        [1.49644390e-02],\n",
       "        [5.85802089e-02],\n",
       "        [4.59215867e-02],\n",
       "        [4.21201050e-02],\n",
       "        [3.93546829e-02],\n",
       "        [4.67784780e-02],\n",
       "        [4.03206332e-02],\n",
       "        [1.89918284e-02],\n",
       "        [7.83042899e-02],\n",
       "        [6.14546899e-02],\n",
       "        [5.32207430e-02],\n",
       "        [5.81751330e-02],\n",
       "        [5.90320244e-02],\n",
       "        [5.22547927e-02],\n",
       "        [2.41409664e-02],\n",
       "        [1.01354667e-01],\n",
       "        [8.51672107e-02],\n",
       "        [7.43314300e-02],\n",
       "        [6.75308286e-02],\n",
       "        [6.30905734e-02],\n",
       "        [5.57992070e-02],\n",
       "        [2.58625390e-02],\n",
       "        [1.10289707e-01],\n",
       "        [9.72260090e-02],\n",
       "        [8.62577997e-02],\n",
       "        [8.49335130e-02],\n",
       "        [8.42557899e-02],\n",
       "        [7.21580419e-02],\n",
       "        [2.84254232e-02],\n",
       "        [1.21047589e-01],\n",
       "        [9.72415888e-02],\n",
       "        [8.44894875e-02],\n",
       "        [7.58894143e-02],\n",
       "        [7.86080968e-02],\n",
       "        [6.85824680e-02],\n",
       "        [2.98042393e-02],\n",
       "        [1.21624043e-01],\n",
       "        [1.05156149e-01],\n",
       "        [0.00000000e+00],\n",
       "        [1.72468860e-01],\n",
       "        [7.89508534e-02],\n",
       "        [7.13556800e-02],\n",
       "        [2.95549618e-02],\n",
       "        [1.20751572e-01],\n",
       "        [9.57381340e-02],\n",
       "        [8.59539927e-02],\n",
       "        [8.16929057e-02],\n",
       "        [8.05711570e-02],\n",
       "        [6.64168699e-02],\n",
       "        [3.05442818e-02],\n",
       "        [1.27536593e-01],\n",
       "        [1.07088049e-01],\n",
       "        [9.32998886e-02],\n",
       "        [9.23339384e-02],\n",
       "        [9.08149037e-02],\n",
       "        [7.48066152e-02],\n",
       "        [3.04585927e-02],\n",
       "        [1.37850449e-01],\n",
       "        [1.18251007e-01],\n",
       "        [9.99446916e-02],\n",
       "        [9.66106052e-02],\n",
       "        [9.62133192e-02],\n",
       "        [8.29548730e-02],\n",
       "        [3.26475606e-02],\n",
       "        [1.41955738e-01],\n",
       "        [1.21242337e-01],\n",
       "        [1.08638244e-01],\n",
       "        [9.67040843e-02],\n",
       "        [9.37283343e-02],\n",
       "        [8.18564941e-02],\n",
       "        [2.79268682e-02],\n",
       "        [1.45866278e-01],\n",
       "        [1.22948329e-01],\n",
       "        [1.04353787e-01],\n",
       "        [9.08928029e-02],\n",
       "        [8.99891720e-02],\n",
       "        [7.78213148e-02],\n",
       "        [2.57379003e-02],\n",
       "        [1.32163806e-01],\n",
       "        [1.08396756e-01],\n",
       "        [8.96619953e-02],\n",
       "        [8.11008717e-02],\n",
       "        [7.70968521e-02],\n",
       "        [6.09483450e-02],\n",
       "        [2.22012760e-02],\n",
       "        [9.45696458e-02],\n",
       "        [7.42691106e-02],\n",
       "        [6.19142953e-02],\n",
       "        [5.61108038e-02],\n",
       "        [5.14680107e-02],\n",
       "        [4.47842581e-02],\n",
       "        [1.66626419e-02],\n",
       "        [6.66038280e-02],\n",
       "        [5.17017083e-02],\n",
       "        [4.28523576e-02],\n",
       "        [3.90742457e-02],\n",
       "        [4.00324061e-02],\n",
       "        [1.80336680e-02],\n",
       "        [1.12096969e-02],\n",
       "        [1.65691628e-02],\n",
       "        [2.48264795e-02],\n",
       "        [5.30883143e-02],\n",
       "        [3.95805906e-02],\n",
       "        [3.14868623e-02],\n",
       "        [2.27777302e-02],\n",
       "        [7.18230753e-03],\n",
       "        [2.87915495e-02],\n",
       "        [2.55197825e-02],\n",
       "        [2.24661333e-02],\n",
       "        [1.98720895e-02],\n",
       "        [1.89139292e-02],\n",
       "        [1.79090293e-02],\n",
       "        [6.34878594e-03],\n",
       "        [2.37281006e-02],\n",
       "        [2.26219317e-02],\n",
       "        [1.91632066e-02],\n",
       "        [1.84621137e-02],\n",
       "        [1.75117433e-02],\n",
       "        [1.65613729e-02],\n",
       "        [5.81128136e-03],\n",
       "        [2.10561575e-02],\n",
       "        [2.00200980e-02],\n",
       "        [1.77766006e-02],\n",
       "        [1.63354652e-02],\n",
       "        [1.52838258e-02],\n",
       "        [1.48475902e-02],\n",
       "        [5.48410467e-03],\n",
       "        [1.94981733e-02],\n",
       "        [1.83374750e-02],\n",
       "        [1.64834737e-02],\n",
       "        [1.52604560e-02],\n",
       "        [1.48865398e-02],\n",
       "        [1.37647911e-02],\n",
       "        [4.85312103e-03],\n",
       "        [1.81193572e-02],\n",
       "        [1.79246091e-02],\n",
       "        [9.34790568e-03],\n",
       "        [1.78856595e-02],\n",
       "        [1.66938016e-02],\n",
       "        [1.56421622e-02]]))"
      ]
     },
     "execution_count": 17,
     "metadata": {},
     "output_type": "execute_result"
    }
   ],
   "source": [
    "x_ss, y_ms"
   ]
  },
  {
   "cell_type": "code",
   "execution_count": 18,
   "id": "b66da8d3",
   "metadata": {
    "ExecuteTime": {
     "end_time": "2023-03-14T11:43:18.123625Z",
     "start_time": "2023-03-14T11:43:17.951088Z"
    }
   },
   "outputs": [],
   "source": [
    "x = x.to_numpy()\n",
    "y = y.to_numpy()\n",
    "x, y = window_sliding(x, y, 60)\n",
    "x_ss, y_ms = window_sliding(x_ss, y_ms, 60)"
   ]
  },
  {
   "cell_type": "code",
   "execution_count": 19,
   "id": "4b067b1a",
   "metadata": {
    "ExecuteTime": {
     "end_time": "2023-03-14T11:43:18.150632Z",
     "start_time": "2023-03-14T11:43:18.145645Z"
    }
   },
   "outputs": [
    {
     "name": "stdout",
     "output_type": "stream",
     "text": [
      "torch.Size([650, 60, 3])\n",
      "torch.Size([650, 1])\n",
      "torch.Size([237, 60, 3])\n",
      "torch.Size([237, 1])\n"
     ]
    }
   ],
   "source": [
    "x_train = x_ss[:650]\n",
    "y_train = y_ms[:650]\n",
    "x_test = x_ss[650:]\n",
    "y_test = y_ms[650:]\n",
    "print(x_train.shape)\n",
    "print(y_train.shape)\n",
    "print(x_test.shape)\n",
    "print(y_test.shape)"
   ]
  },
  {
   "cell_type": "code",
   "execution_count": 20,
   "id": "4b8d4ee7",
   "metadata": {
    "ExecuteTime": {
     "end_time": "2023-03-14T11:43:18.364704Z",
     "start_time": "2023-03-14T11:43:18.358721Z"
    }
   },
   "outputs": [],
   "source": [
    "train = torch.utils.data.TensorDataset(x_train, y_train)\n",
    "test = torch.utils.data.TensorDataset(x_test, y_test)\n",
    "\n",
    "batch_size = 32\n",
    "train_loader = torch.utils.data.DataLoader(dataset = train, batch_size = batch_size, shuffle = False)\n",
    "test_loader = torch.utils.data.DataLoader(dataset = test, batch_size = batch_size, shuffle = False)"
   ]
  },
  {
   "cell_type": "markdown",
   "id": "22aae3fe",
   "metadata": {
    "ExecuteTime": {
     "end_time": "2023-02-24T09:29:26.258494Z",
     "start_time": "2023-02-24T09:29:26.187683Z"
    }
   },
   "source": [
    "# Model"
   ]
  },
  {
   "cell_type": "markdown",
   "id": "7b0c840b",
   "metadata": {
    "ExecuteTime": {
     "end_time": "2023-02-24T13:14:29.037267Z",
     "start_time": "2023-02-24T13:14:29.033276Z"
    }
   },
   "source": [
    "## Define Model"
   ]
  },
  {
   "cell_type": "code",
   "execution_count": 21,
   "id": "1fa31a1b",
   "metadata": {
    "ExecuteTime": {
     "end_time": "2023-03-14T11:43:18.944344Z",
     "start_time": "2023-03-14T11:43:18.938360Z"
    }
   },
   "outputs": [],
   "source": [
    "class RNN(nn.Module):\n",
    "    def __init__(self, input_size, hidden_size, sequence_length, num_layers, dropout, device):\n",
    "        super(RNN, self).__init__()\n",
    "        self.device = device\n",
    "        self.hidden_size = hidden_size\n",
    "        self.num_layers = num_layers\n",
    "        self.rnn = nn.RNN(input_size, hidden_size, num_layers, batch_first = True, dropout = 0.3)\n",
    "        self.fc1 = nn.Linear(hidden_size * sequence_length, 64)\n",
    "        self.fc2 = nn.Linear(64, 1)\n",
    "        self.relu = nn.ReLU()\n",
    "\n",
    "    def forward(self, x):\n",
    "        h0 = torch.zeros(self.num_layers, x.size()[0], self.hidden_size).to(self.device)\n",
    "        out, hn = self.rnn(x, h0)\n",
    "        out = out.reshape(out.shape[0], -1)\n",
    "        out = self.fc1(out)\n",
    "        out = self.relu(out)\n",
    "        out = self.fc2(out)\n",
    "        out = torch.flatten(out)\n",
    "        return out"
   ]
  },
  {
   "cell_type": "code",
   "execution_count": 31,
   "id": "8dbec965",
   "metadata": {
    "ExecuteTime": {
     "end_time": "2023-03-14T11:45:19.465239Z",
     "start_time": "2023-03-14T11:45:19.461250Z"
    }
   },
   "outputs": [],
   "source": [
    "input_size = x_ss.size(2)\n",
    "num_layers = 1\n",
    "hidden_size = 16\n",
    "sequence_length = 60"
   ]
  },
  {
   "cell_type": "code",
   "execution_count": 32,
   "id": "1648c850",
   "metadata": {
    "ExecuteTime": {
     "end_time": "2023-03-14T11:45:19.838555Z",
     "start_time": "2023-03-14T11:45:19.831573Z"
    }
   },
   "outputs": [],
   "source": [
    "model = RNN(input_size = input_size,\n",
    "           hidden_size = hidden_size,\n",
    "           sequence_length = sequence_length,\n",
    "           num_layers = num_layers, \n",
    "           dropout = 0.3, \n",
    "           device = device).to(device)\n",
    "\n",
    "criterion = nn.MSELoss()\n",
    "lr = 1e-3\n",
    "num_epochs = 1000\n",
    "optimizer = Adam(model.parameters(), lr = lr)\n",
    "patience = 20"
   ]
  },
  {
   "cell_type": "markdown",
   "id": "6c3c52e8",
   "metadata": {},
   "source": [
    "## Training"
   ]
  },
  {
   "cell_type": "code",
   "execution_count": 33,
   "id": "ba8ddecb",
   "metadata": {
    "ExecuteTime": {
     "end_time": "2023-03-14T11:45:35.925523Z",
     "start_time": "2023-03-14T11:45:20.771305Z"
    }
   },
   "outputs": [
    {
     "name": "stdout",
     "output_type": "stream",
     "text": [
      "epoch: 100 loss: 0.0032\n",
      "epoch: 200 loss: 0.0032\n",
      "\n",
      " Early Stopping / epoch: 201 loss: 0.0031\n"
     ]
    }
   ],
   "source": [
    "loss_list = []\n",
    "n = len(train_loader)\n",
    "\n",
    "for epoch in range(num_epochs):\n",
    "    running_loss = 0.0\n",
    "    \n",
    "    for data in train_loader:\n",
    "        seq, target = data\n",
    "        out = model(seq)\n",
    "        loss = criterion(out, target)\n",
    "        \n",
    "        optimizer.zero_grad()\n",
    "        loss.backward()\n",
    "        optimizer.step()\n",
    "        running_loss += loss.item()\n",
    "    loss_list.append(running_loss/n)\n",
    "    if (epoch+1) % 100 == 0:\n",
    "        print('epoch: %d loss: %.4f'%(epoch+1, running_loss/n))\n",
    "        \n",
    "    if (epoch % patience == 0) & (epoch != 0):\n",
    "            \n",
    "            if loss_list[epoch-patience] < loss_list[epoch]:\n",
    "                print('\\n Early Stopping / epoch: %d loss: %.4f'%(epoch+1, running_loss/n))\n",
    "                \n",
    "                break"
   ]
  },
  {
   "cell_type": "markdown",
   "id": "f921669f",
   "metadata": {},
   "source": [
    "## Visualize Loss Graph"
   ]
  },
  {
   "cell_type": "code",
   "execution_count": 34,
   "id": "84a929c6",
   "metadata": {
    "ExecuteTime": {
     "end_time": "2023-03-14T11:45:42.673172Z",
     "start_time": "2023-03-14T11:45:42.509611Z"
    }
   },
   "outputs": [
    {
     "data": {
      "image/png": "[encoded data removed]",
      "text/plain": [
       "<Figure size 2000x1000 with 1 Axes>"
      ]
     },
     "metadata": {},
     "output_type": "display_data"
    }
   ],
   "source": [
    "plt.figure(figsize = (20, 10))\n",
    "plt.plot(loss_list)\n",
    "plt.show()"
   ]
  },
  {
   "cell_type": "markdown",
   "id": "cb7362b2",
   "metadata": {
    "ExecuteTime": {
     "end_time": "2023-02-24T13:12:11.489529Z",
     "start_time": "2023-02-24T13:12:11.485539Z"
    }
   },
   "source": [
    "## Model Save and Load"
   ]
  },
  {
   "cell_type": "code",
   "execution_count": 35,
   "id": "b0bf867f",
   "metadata": {
    "ExecuteTime": {
     "end_time": "2023-03-14T11:45:44.109135Z",
     "start_time": "2023-03-14T11:45:44.103153Z"
    }
   },
   "outputs": [],
   "source": [
    "PATH = \"../model/RNN_many_to_one.pth\"\n",
    "torch.save(model.state_dict(), PATH)"
   ]
  },
  {
   "cell_type": "code",
   "execution_count": 36,
   "id": "0b7145b6",
   "metadata": {
    "ExecuteTime": {
     "end_time": "2023-03-14T11:45:44.298028Z",
     "start_time": "2023-03-14T11:45:44.279067Z"
    }
   },
   "outputs": [
    {
     "data": {
      "text/plain": [
       "RNN(\n",
       "  (rnn): RNN(3, 16, batch_first=True, dropout=0.3)\n",
       "  (fc1): Linear(in_features=960, out_features=64, bias=True)\n",
       "  (fc2): Linear(in_features=64, out_features=1, bias=True)\n",
       "  (relu): ReLU()\n",
       ")"
      ]
     },
     "execution_count": 36,
     "metadata": {},
     "output_type": "execute_result"
    }
   ],
   "source": [
    "PATH = \"../model/RNN_many_to_one.pth\"\n",
    "model = RNN(input_size = input_size,\n",
    "           hidden_size = hidden_size,\n",
    "           sequence_length = sequence_length,\n",
    "           num_layers = num_layers,\n",
    "           dropout = 0.3, \n",
    "           device = device).to(device)\n",
    "model.load_state_dict(torch.load(PATH), strict=False)\n",
    "model.eval()"
   ]
  },
  {
   "cell_type": "markdown",
   "id": "beac9a08",
   "metadata": {},
   "source": [
    "## Visualize and Compare predicted values with actual values"
   ]
  },
  {
   "cell_type": "code",
   "execution_count": 37,
   "id": "a8042a80",
   "metadata": {
    "ExecuteTime": {
     "end_time": "2023-03-14T11:45:45.476156Z",
     "start_time": "2023-03-14T11:45:45.298632Z"
    }
   },
   "outputs": [
    {
     "data": {
      "image/png": "[encoded data removed]",
      "text/plain": [
       "<Figure size 1000x600 with 1 Axes>"
      ]
     },
     "metadata": {},
     "output_type": "display_data"
    }
   ],
   "source": [
    "train_predict = model(x_ss)\n",
    "predicted = train_predict.cpu().data.numpy()\n",
    "label_y = y_ms.cpu().data.numpy()\n",
    "\n",
    "predicted = predicted.reshape(887, 1)\n",
    "predicted = ms.inverse_transform(predicted)\n",
    "label_y = ms.inverse_transform(label_y)\n",
    "\n",
    "plt.figure(figsize = (10, 6))\n",
    "plt.axvline(x = 650, c = 'r', linestyle = '--')\n",
    "\n",
    "plt.plot(label_y, label = 'Actual Data')\n",
    "plt.plot(predicted, label = 'Predicted Data')\n",
    "plt.title('Time-Series Prediction')\n",
    "plt.legend()\n",
    "plt.show()"
   ]
  },
  {
   "cell_type": "markdown",
   "id": "5da725dc",
   "metadata": {},
   "source": [
    "## Calculate MAE, RMSE, MAPE"
   ]
  },
  {
   "cell_type": "code",
   "execution_count": 38,
   "id": "0cbcc332",
   "metadata": {
    "ExecuteTime": {
     "end_time": "2023-03-14T11:45:47.420347Z",
     "start_time": "2023-03-14T11:45:47.413367Z"
    }
   },
   "outputs": [
    {
     "name": "stdout",
     "output_type": "stream",
     "text": [
      "MAE SCORE :  4770.4243\n",
      "RMSE SCORE :  7714.584888378635\n",
      "MAPE SCORE :  167.90958642959595\n"
     ]
    }
   ],
   "source": [
    "def MAE(true, pred):\n",
    "    return np.mean(np.abs(true-pred))\n",
    "def RMSE(true, pred):\n",
    "    return np.mean((true-pred)**2)**(1/2)\n",
    "def MAPE(true, pred):\n",
    "    return 100 * np.mean(np.abs((true-pred)/true))\n",
    "\n",
    "print('MAE SCORE : ', MAE(predicted, label_y))\n",
    "print('RMSE SCORE : ', RMSE(predicted, label_y))\n",
    "print('MAPE SCORE : ', MAPE(predicted, label_y))"
   ]
  },
  {
   "cell_type": "markdown",
   "id": "2367d18f",
   "metadata": {},
   "source": [
    "# Predict"
   ]
  },
  {
   "cell_type": "markdown",
   "id": "c92586a9",
   "metadata": {
    "ExecuteTime": {
     "end_time": "2023-02-26T15:20:16.790573Z",
     "start_time": "2023-02-26T15:20:16.781597Z"
    }
   },
   "source": [
    "## Predict more values"
   ]
  },
  {
   "cell_type": "code",
   "execution_count": 42,
   "id": "af00df66",
   "metadata": {
    "ExecuteTime": {
     "end_time": "2023-03-14T11:46:44.201743Z",
     "start_time": "2023-03-14T11:46:44.179801Z"
    },
    "scrolled": true
   },
   "outputs": [
    {
     "name": "stdout",
     "output_type": "stream",
     "text": [
      "[10125.664, 10270.248, 10452.521, 10826.026, 10938.386, 12447.741, 14616.553]\n"
     ]
    }
   ],
   "source": [
    "pre_ori_df = torch.zeros(1, 60, 3)\n",
    "pre_ori_df[0] = x[-1]\n",
    "val7 = [10000, 12000, 18000, 30000, 38000, 60000, 120000]\n",
    "pre7 = []\n",
    "\n",
    "for i in range(len(val7)):\n",
    "    pre_ori_df[0][:-1] = pre_ori_df[0][1:].clone()\n",
    "    pre_ori_df[0][-1][0] = val7[i]\n",
    "    pre_ori_df[0][-1][1] = pre_ori_df[0][-1][0] - pre_ori_df[0][-2][0]\n",
    "    pre_ori_df[0][-1][2] = pre_ori_df[0][-1][1] - pre_ori_df[0][-2][1]\n",
    "    \n",
    "    pre_ms_df = pre_ori_df.reshape(-1, 1)\n",
    "    pre_ms_df = ms.transform(pre_ms_df).reshape(1, 60, 3)\n",
    "    \n",
    "    pre_ms_value = model(torch.FloatTensor(pre_ms_df).to(device))\n",
    "    pre_ms_value = pre_ms_value.cpu().detach().numpy().reshape(-1, 1)\n",
    "    pre_ori_value = ms.inverse_transform(pre_ms_value)\n",
    "\n",
    "    pre7.append(pre_ori_value[0][0])\n",
    "\n",
    "print(pre7) \n",
    "\n",
    "pre7 = np.array(pre7).reshape(-1, 1)\n",
    "predicted_final = np.vstack((predicted, pre7))\n",
    "label_y_final = np.vstack((label_y, np.array(val7).reshape(-1, 1)))"
   ]
  },
  {
   "cell_type": "code",
   "execution_count": 43,
   "id": "263e5e6f",
   "metadata": {
    "ExecuteTime": {
     "end_time": "2023-03-14T11:46:44.768584Z",
     "start_time": "2023-03-14T11:46:44.613998Z"
    }
   },
   "outputs": [
    {
     "data": {
      "image/png": "[encoded data removed]",
      "text/plain": [
       "<Figure size 1000x600 with 1 Axes>"
      ]
     },
     "metadata": {},
     "output_type": "display_data"
    }
   ],
   "source": [
    "plt.figure(figsize = (10, 6)) \n",
    "plt.axvline(x = 42, c = 'g', linestyle = '--')\n",
    "\n",
    "plt.plot(label_y_final[-50:], label = 'Actual Data')\n",
    "plt.plot(predicted_final[-50:], label = 'Predicted Data')\n",
    "plt.title('Time-Series Prediction')\n",
    "plt.legend()\n",
    "plt.show()"
   ]
  },
  {
   "cell_type": "code",
   "execution_count": 44,
   "id": "d0dae6a4",
   "metadata": {
    "ExecuteTime": {
     "end_time": "2023-03-14T11:46:49.814752Z",
     "start_time": "2023-03-14T11:46:49.667148Z"
    }
   },
   "outputs": [
    {
     "data": {
      "image/png": "[encoded data removed]",
      "text/plain": [
       "<Figure size 640x480 with 1 Axes>"
      ]
     },
     "metadata": {},
     "output_type": "display_data"
    }
   ],
   "source": [
    "plt.plot(label_y_final[-8:], label = 'Actual Data')\n",
    "plt.plot(predicted_final[-8:], label = 'Predicted Data')\n",
    "plt.title('Time-Series Prediction')\n",
    "plt.legend()\n",
    "plt.show()"
   ]
  },
  {
   "cell_type": "code",
   "execution_count": null,
   "id": "7e896baf",
   "metadata": {},
   "outputs": [],
   "source": []
  }
 ],
 "metadata": {
  "kernelspec": {
   "display_name": "KDA_DA",
   "language": "python",
   "name": "kda_da"
  },
  "language_info": {
   "codemirror_mode": {
    "name": "ipython",
    "version": 3
   },
   "file_extension": ".py",
   "mimetype": "text/x-python",
   "name": "python",
   "nbconvert_exporter": "python",
   "pygments_lexer": "ipython3",
   "version": "3.10.8"
  },
  "toc": {
   "base_numbering": 1,
   "nav_menu": {},
   "number_sections": true,
   "sideBar": true,
   "skip_h1_title": false,
   "title_cell": "Table of Contents",
   "title_sidebar": "Contents",
   "toc_cell": false,
   "toc_position": {},
   "toc_section_display": true,
   "toc_window_display": false
  }
 },
 "nbformat": 4,
 "nbformat_minor": 5
}
