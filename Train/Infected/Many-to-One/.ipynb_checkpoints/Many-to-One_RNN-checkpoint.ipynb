{
 "cells": [
  {
   "cell_type": "code",
   "execution_count": 1,
   "id": "7ef1b38b",
   "metadata": {
    "ExecuteTime": {
     "end_time": "2023-05-30T12:18:00.237740Z",
     "start_time": "2023-05-30T12:17:58.002440Z"
    }
   },
   "outputs": [],
   "source": [
    "import os\n",
    "os.chdir('D:\\\\Gnan\\\\DA\\\\KMU\\\\Prediction-COVID-19')\n",
    "from utils import *\n",
    "from model import *\n",
    "from trainer import *\n",
    "\n",
    "from torch.optim.adam import Adam\n",
    "device = torch.device('cuda:0' if torch.cuda.is_available() else 'cpu')"
   ]
  },
  {
   "cell_type": "code",
   "execution_count": 2,
   "id": "90d1bf81",
   "metadata": {
    "ExecuteTime": {
     "end_time": "2023-05-30T12:18:01.155741Z",
     "start_time": "2023-05-30T12:18:01.068968Z"
    },
    "scrolled": false
   },
   "outputs": [
    {
     "data": {
      "text/html": [
       "<div>\n",
       "<style scoped>\n",
       "    .dataframe tbody tr th:only-of-type {\n",
       "        vertical-align: middle;\n",
       "    }\n",
       "\n",
       "    .dataframe tbody tr th {\n",
       "        vertical-align: top;\n",
       "    }\n",
       "\n",
       "    .dataframe thead th {\n",
       "        text-align: right;\n",
       "    }\n",
       "</style>\n",
       "<table border=\"1\" class=\"dataframe\">\n",
       "  <thead>\n",
       "    <tr style=\"text-align: right;\">\n",
       "      <th></th>\n",
       "      <th>deathCnt</th>\n",
       "      <th>defCnt</th>\n",
       "      <th>gubun</th>\n",
       "      <th>gubunEn</th>\n",
       "      <th>incDec</th>\n",
       "      <th>isolClearCnt</th>\n",
       "      <th>isolIngCnt</th>\n",
       "      <th>localOccCnt</th>\n",
       "      <th>overFlowCnt</th>\n",
       "      <th>qurRate</th>\n",
       "      <th>stdDay</th>\n",
       "      <th>dailyCnt</th>\n",
       "    </tr>\n",
       "  </thead>\n",
       "  <tbody>\n",
       "    <tr>\n",
       "      <th>0</th>\n",
       "      <td>0</td>\n",
       "      <td>0</td>\n",
       "      <td>서울</td>\n",
       "      <td>Seoul</td>\n",
       "      <td>0.0</td>\n",
       "      <td>0</td>\n",
       "      <td>0</td>\n",
       "      <td>0</td>\n",
       "      <td>0</td>\n",
       "      <td>0.0</td>\n",
       "      <td>2020-01-20</td>\n",
       "      <td>0.0</td>\n",
       "    </tr>\n",
       "    <tr>\n",
       "      <th>1</th>\n",
       "      <td>0</td>\n",
       "      <td>0</td>\n",
       "      <td>서울</td>\n",
       "      <td>Seoul</td>\n",
       "      <td>0.0</td>\n",
       "      <td>0</td>\n",
       "      <td>0</td>\n",
       "      <td>0</td>\n",
       "      <td>0</td>\n",
       "      <td>0.0</td>\n",
       "      <td>2020-01-21</td>\n",
       "      <td>0.0</td>\n",
       "    </tr>\n",
       "    <tr>\n",
       "      <th>2</th>\n",
       "      <td>0</td>\n",
       "      <td>0</td>\n",
       "      <td>서울</td>\n",
       "      <td>Seoul</td>\n",
       "      <td>0.0</td>\n",
       "      <td>0</td>\n",
       "      <td>0</td>\n",
       "      <td>0</td>\n",
       "      <td>0</td>\n",
       "      <td>0.0</td>\n",
       "      <td>2020-01-22</td>\n",
       "      <td>0.0</td>\n",
       "    </tr>\n",
       "    <tr>\n",
       "      <th>3</th>\n",
       "      <td>0</td>\n",
       "      <td>0</td>\n",
       "      <td>서울</td>\n",
       "      <td>Seoul</td>\n",
       "      <td>0.0</td>\n",
       "      <td>0</td>\n",
       "      <td>0</td>\n",
       "      <td>0</td>\n",
       "      <td>0</td>\n",
       "      <td>0.0</td>\n",
       "      <td>2020-01-23</td>\n",
       "      <td>0.0</td>\n",
       "    </tr>\n",
       "    <tr>\n",
       "      <th>4</th>\n",
       "      <td>0</td>\n",
       "      <td>1</td>\n",
       "      <td>서울</td>\n",
       "      <td>Seoul</td>\n",
       "      <td>1.0</td>\n",
       "      <td>0</td>\n",
       "      <td>1</td>\n",
       "      <td>0</td>\n",
       "      <td>1</td>\n",
       "      <td>0.0</td>\n",
       "      <td>2020-01-24</td>\n",
       "      <td>1.0</td>\n",
       "    </tr>\n",
       "    <tr>\n",
       "      <th>...</th>\n",
       "      <td>...</td>\n",
       "      <td>...</td>\n",
       "      <td>...</td>\n",
       "      <td>...</td>\n",
       "      <td>...</td>\n",
       "      <td>...</td>\n",
       "      <td>...</td>\n",
       "      <td>...</td>\n",
       "      <td>...</td>\n",
       "      <td>...</td>\n",
       "      <td>...</td>\n",
       "      <td>...</td>\n",
       "    </tr>\n",
       "    <tr>\n",
       "      <th>1214</th>\n",
       "      <td>6471</td>\n",
       "      <td>6162486</td>\n",
       "      <td>서울</td>\n",
       "      <td>Seoul</td>\n",
       "      <td>4329.0</td>\n",
       "      <td>0</td>\n",
       "      <td>0</td>\n",
       "      <td>4371</td>\n",
       "      <td>0</td>\n",
       "      <td>65361.0</td>\n",
       "      <td>2023-05-20</td>\n",
       "      <td>4329.0</td>\n",
       "    </tr>\n",
       "    <tr>\n",
       "      <th>1215</th>\n",
       "      <td>6473</td>\n",
       "      <td>6166682</td>\n",
       "      <td>서울</td>\n",
       "      <td>Seoul</td>\n",
       "      <td>4196.0</td>\n",
       "      <td>0</td>\n",
       "      <td>0</td>\n",
       "      <td>4195</td>\n",
       "      <td>1</td>\n",
       "      <td>65406.0</td>\n",
       "      <td>2023-05-21</td>\n",
       "      <td>4196.0</td>\n",
       "    </tr>\n",
       "    <tr>\n",
       "      <th>1216</th>\n",
       "      <td>6476</td>\n",
       "      <td>6167953</td>\n",
       "      <td>서울</td>\n",
       "      <td>Seoul</td>\n",
       "      <td>1271.0</td>\n",
       "      <td>0</td>\n",
       "      <td>0</td>\n",
       "      <td>1271</td>\n",
       "      <td>0</td>\n",
       "      <td>65419.0</td>\n",
       "      <td>2023-05-22</td>\n",
       "      <td>1271.0</td>\n",
       "    </tr>\n",
       "    <tr>\n",
       "      <th>1217</th>\n",
       "      <td>6477</td>\n",
       "      <td>6173315</td>\n",
       "      <td>서울</td>\n",
       "      <td>Seoul</td>\n",
       "      <td>5362.0</td>\n",
       "      <td>0</td>\n",
       "      <td>0</td>\n",
       "      <td>5359</td>\n",
       "      <td>3</td>\n",
       "      <td>65476.0</td>\n",
       "      <td>2023-05-23</td>\n",
       "      <td>5362.0</td>\n",
       "    </tr>\n",
       "    <tr>\n",
       "      <th>1218</th>\n",
       "      <td>6479</td>\n",
       "      <td>6178627</td>\n",
       "      <td>서울</td>\n",
       "      <td>Seoul</td>\n",
       "      <td>5312.0</td>\n",
       "      <td>0</td>\n",
       "      <td>0</td>\n",
       "      <td>5310</td>\n",
       "      <td>2</td>\n",
       "      <td>65532.0</td>\n",
       "      <td>2023-05-24</td>\n",
       "      <td>5312.0</td>\n",
       "    </tr>\n",
       "  </tbody>\n",
       "</table>\n",
       "<p>1219 rows × 12 columns</p>\n",
       "</div>"
      ],
      "text/plain": [
       "      deathCnt   defCnt gubun gubunEn  incDec  isolClearCnt  isolIngCnt  \\\n",
       "0            0        0    서울   Seoul     0.0             0           0   \n",
       "1            0        0    서울   Seoul     0.0             0           0   \n",
       "2            0        0    서울   Seoul     0.0             0           0   \n",
       "3            0        0    서울   Seoul     0.0             0           0   \n",
       "4            0        1    서울   Seoul     1.0             0           1   \n",
       "...        ...      ...   ...     ...     ...           ...         ...   \n",
       "1214      6471  6162486    서울   Seoul  4329.0             0           0   \n",
       "1215      6473  6166682    서울   Seoul  4196.0             0           0   \n",
       "1216      6476  6167953    서울   Seoul  1271.0             0           0   \n",
       "1217      6477  6173315    서울   Seoul  5362.0             0           0   \n",
       "1218      6479  6178627    서울   Seoul  5312.0             0           0   \n",
       "\n",
       "      localOccCnt  overFlowCnt  qurRate      stdDay  dailyCnt  \n",
       "0               0            0      0.0  2020-01-20       0.0  \n",
       "1               0            0      0.0  2020-01-21       0.0  \n",
       "2               0            0      0.0  2020-01-22       0.0  \n",
       "3               0            0      0.0  2020-01-23       0.0  \n",
       "4               0            1      0.0  2020-01-24       1.0  \n",
       "...           ...          ...      ...         ...       ...  \n",
       "1214         4371            0  65361.0  2023-05-20    4329.0  \n",
       "1215         4195            1  65406.0  2023-05-21    4196.0  \n",
       "1216         1271            0  65419.0  2023-05-22    1271.0  \n",
       "1217         5359            3  65476.0  2023-05-23    5362.0  \n",
       "1218         5310            2  65532.0  2023-05-24    5312.0  \n",
       "\n",
       "[1219 rows x 12 columns]"
      ]
     },
     "execution_count": 2,
     "metadata": {},
     "output_type": "execute_result"
    }
   ],
   "source": [
    "#path = 'Data/SIR_Origin/*.csv'\n",
    "#dic_files = Load_files.load_files(path, -17, -15)\n",
    "path = 'Data/Cleaned_deathCnt/*.csv'\n",
    "dic_files = Load_files.load_files(path, -14, -12)\n",
    "data = dic_files['서울']\n",
    "data['dailyCnt'] = data['defCnt'].diff().fillna(0)\n",
    "data"
   ]
  },
  {
   "cell_type": "code",
   "execution_count": 3,
   "id": "fdbfaa5c",
   "metadata": {
    "ExecuteTime": {
     "end_time": "2023-05-30T12:18:03.075893Z",
     "start_time": "2023-05-30T12:18:01.622575Z"
    }
   },
   "outputs": [
    {
     "name": "stdout",
     "output_type": "stream",
     "text": [
      "torch.Size([800, 60, 3])\n",
      "torch.Size([800, 1])\n",
      "torch.Size([357, 60, 3])\n",
      "torch.Size([357, 1])\n"
     ]
    }
   ],
   "source": [
    "criterion = nn.MSELoss()\n",
    "lr = 1e-4\n",
    "patience = 20\n",
    "hidden_size = 16\n",
    "num_layers = 2\n",
    "batch_size = 32\n",
    "dropout = 0.25\n",
    "\n",
    "input_size = 3\n",
    "sequence_length = 60\n",
    "num_epochs = 10000\n",
    "\n",
    "#df = Prepare_df.processing(data, 'Date', 'alpha')\n",
    "df = Prepare_df.processing(data, 'stdDay', 'dailyCnt')\n",
    "\n",
    "x = df.iloc[:, 0:]\n",
    "y = df.iloc[:,:1]\n",
    "\n",
    "ms = MinMaxScaler()\n",
    "ss = StandardScaler()\n",
    "\n",
    "ss.fit(x)\n",
    "ms.fit(y)\n",
    "\n",
    "x, y, x_ss, y_ms, train_loader, test_loader = Prepare_df.split_data(df, 800, 60, 1, batch_size, 'mto')\n",
    "\n",
    "model_RNN = RNN(input_size = input_size,\n",
    "                hidden_size = hidden_size,\n",
    "                sequence_length = sequence_length,\n",
    "                num_layers = num_layers, \n",
    "                dropout = dropout, \n",
    "                device = device).to(device)\n",
    "\n",
    "model = model_RNN\n",
    "\n",
    "optimizer = Adam(model.parameters(), lr = lr)"
   ]
  },
  {
   "cell_type": "code",
   "execution_count": 4,
   "id": "88146989",
   "metadata": {
    "ExecuteTime": {
     "end_time": "2023-05-30T12:18:03.105858Z",
     "start_time": "2023-05-30T12:18:03.077889Z"
    }
   },
   "outputs": [
    {
     "data": {
      "text/html": [
       "<div>\n",
       "<style scoped>\n",
       "    .dataframe tbody tr th:only-of-type {\n",
       "        vertical-align: middle;\n",
       "    }\n",
       "\n",
       "    .dataframe tbody tr th {\n",
       "        vertical-align: top;\n",
       "    }\n",
       "\n",
       "    .dataframe thead th {\n",
       "        text-align: right;\n",
       "    }\n",
       "</style>\n",
       "<table border=\"1\" class=\"dataframe\">\n",
       "  <thead>\n",
       "    <tr style=\"text-align: right;\">\n",
       "      <th></th>\n",
       "      <th>AC</th>\n",
       "      <th>DAC</th>\n",
       "      <th>DDAC</th>\n",
       "    </tr>\n",
       "    <tr>\n",
       "      <th>Date</th>\n",
       "      <th></th>\n",
       "      <th></th>\n",
       "      <th></th>\n",
       "    </tr>\n",
       "  </thead>\n",
       "  <tbody>\n",
       "    <tr>\n",
       "      <th>2020-01-22</th>\n",
       "      <td>0.0</td>\n",
       "      <td>0.0</td>\n",
       "      <td>0.0</td>\n",
       "    </tr>\n",
       "    <tr>\n",
       "      <th>2020-01-23</th>\n",
       "      <td>0.0</td>\n",
       "      <td>0.0</td>\n",
       "      <td>0.0</td>\n",
       "    </tr>\n",
       "    <tr>\n",
       "      <th>2020-01-24</th>\n",
       "      <td>1.0</td>\n",
       "      <td>1.0</td>\n",
       "      <td>1.0</td>\n",
       "    </tr>\n",
       "    <tr>\n",
       "      <th>2020-01-25</th>\n",
       "      <td>0.0</td>\n",
       "      <td>-1.0</td>\n",
       "      <td>-2.0</td>\n",
       "    </tr>\n",
       "    <tr>\n",
       "      <th>2020-01-26</th>\n",
       "      <td>0.0</td>\n",
       "      <td>0.0</td>\n",
       "      <td>1.0</td>\n",
       "    </tr>\n",
       "    <tr>\n",
       "      <th>...</th>\n",
       "      <td>...</td>\n",
       "      <td>...</td>\n",
       "      <td>...</td>\n",
       "    </tr>\n",
       "    <tr>\n",
       "      <th>2023-05-20</th>\n",
       "      <td>4329.0</td>\n",
       "      <td>-305.0</td>\n",
       "      <td>122.0</td>\n",
       "    </tr>\n",
       "    <tr>\n",
       "      <th>2023-05-21</th>\n",
       "      <td>4196.0</td>\n",
       "      <td>-133.0</td>\n",
       "      <td>172.0</td>\n",
       "    </tr>\n",
       "    <tr>\n",
       "      <th>2023-05-22</th>\n",
       "      <td>1271.0</td>\n",
       "      <td>-2925.0</td>\n",
       "      <td>-2792.0</td>\n",
       "    </tr>\n",
       "    <tr>\n",
       "      <th>2023-05-23</th>\n",
       "      <td>5362.0</td>\n",
       "      <td>4091.0</td>\n",
       "      <td>7016.0</td>\n",
       "    </tr>\n",
       "    <tr>\n",
       "      <th>2023-05-24</th>\n",
       "      <td>5312.0</td>\n",
       "      <td>-50.0</td>\n",
       "      <td>-4141.0</td>\n",
       "    </tr>\n",
       "  </tbody>\n",
       "</table>\n",
       "<p>1217 rows × 3 columns</p>\n",
       "</div>"
      ],
      "text/plain": [
       "                AC     DAC    DDAC\n",
       "Date                              \n",
       "2020-01-22     0.0     0.0     0.0\n",
       "2020-01-23     0.0     0.0     0.0\n",
       "2020-01-24     1.0     1.0     1.0\n",
       "2020-01-25     0.0    -1.0    -2.0\n",
       "2020-01-26     0.0     0.0     1.0\n",
       "...            ...     ...     ...\n",
       "2023-05-20  4329.0  -305.0   122.0\n",
       "2023-05-21  4196.0  -133.0   172.0\n",
       "2023-05-22  1271.0 -2925.0 -2792.0\n",
       "2023-05-23  5362.0  4091.0  7016.0\n",
       "2023-05-24  5312.0   -50.0 -4141.0\n",
       "\n",
       "[1217 rows x 3 columns]"
      ]
     },
     "execution_count": 4,
     "metadata": {},
     "output_type": "execute_result"
    }
   ],
   "source": [
    "df"
   ]
  },
  {
   "cell_type": "code",
   "execution_count": 5,
   "id": "c9cb079a",
   "metadata": {
    "ExecuteTime": {
     "end_time": "2023-05-30T12:18:06.919967Z",
     "start_time": "2023-05-30T12:18:03.107855Z"
    }
   },
   "outputs": [
    {
     "name": "stdout",
     "output_type": "stream",
     "text": [
      "\n",
      " Early Stopping / epoch: 41 loss: 0.0006\n"
     ]
    }
   ],
   "source": [
    "loss_list, model = Trainer.Many_to_One(train_loader, \n",
    "                                       test_loader, \n",
    "                                       model, \n",
    "                                       criterion, \n",
    "                                       optimizer, \n",
    "                                       num_epochs, \n",
    "                                       patience,\n",
    "                                       device)"
   ]
  },
  {
   "cell_type": "code",
   "execution_count": 6,
   "id": "4b63bc95",
   "metadata": {
    "ExecuteTime": {
     "end_time": "2023-05-30T12:18:07.090858Z",
     "start_time": "2023-05-30T12:18:06.922980Z"
    }
   },
   "outputs": [
    {
     "data": {
      "text/plain": [
       "[<matplotlib.lines.Line2D at 0x1e06a829570>]"
      ]
     },
     "execution_count": 6,
     "metadata": {},
     "output_type": "execute_result"
    },
    {
     "data": {
      "image/png": "[encoded data removed]",
      "text/plain": [
       "<Figure size 640x480 with 1 Axes>"
      ]
     },
     "metadata": {},
     "output_type": "display_data"
    }
   ],
   "source": [
    "plt.plot(loss_list)"
   ]
  },
  {
   "cell_type": "code",
   "execution_count": 7,
   "id": "181aeb0b",
   "metadata": {
    "ExecuteTime": {
     "end_time": "2023-05-30T12:18:11.207526Z",
     "start_time": "2023-05-30T12:18:11.180844Z"
    }
   },
   "outputs": [],
   "source": [
    "save_and_load(model, 'model/Infected/RNN.pth')"
   ]
  },
  {
   "cell_type": "code",
   "execution_count": 8,
   "id": "e6009153",
   "metadata": {
    "ExecuteTime": {
     "end_time": "2023-05-30T12:18:11.593492Z",
     "start_time": "2023-05-30T12:18:11.559584Z"
    }
   },
   "outputs": [],
   "source": [
    "label_y, predicted = predict_mto(model, df, x_ss, y_ms)"
   ]
  },
  {
   "cell_type": "code",
   "execution_count": 9,
   "id": "2867cf68",
   "metadata": {
    "ExecuteTime": {
     "end_time": "2023-05-30T12:18:12.455225Z",
     "start_time": "2023-05-30T12:18:12.224513Z"
    }
   },
   "outputs": [
    {
     "name": "stdout",
     "output_type": "stream",
     "text": [
      "3801.1524200439453\n"
     ]
    },
    {
     "data": {
      "image/png": "[encoded data removed]",
      "text/plain": [
       "<Figure size 1000x600 with 1 Axes>"
      ]
     },
     "metadata": {},
     "output_type": "display_data"
    }
   ],
   "source": [
    "print(mape(label_y+1, predicted))\n",
    "plotting(label_y, predicted, 800)"
   ]
  },
  {
   "cell_type": "code",
   "execution_count": null,
   "id": "881a4699",
   "metadata": {},
   "outputs": [],
   "source": []
  }
 ],
 "metadata": {
  "kernelspec": {
   "display_name": "KDA_DA",
   "language": "python",
   "name": "kda_da"
  },
  "language_info": {
   "codemirror_mode": {
    "name": "ipython",
    "version": 3
   },
   "file_extension": ".py",
   "mimetype": "text/x-python",
   "name": "python",
   "nbconvert_exporter": "python",
   "pygments_lexer": "ipython3",
   "version": "3.10.8"
  },
  "toc": {
   "base_numbering": 1,
   "nav_menu": {},
   "number_sections": true,
   "sideBar": true,
   "skip_h1_title": false,
   "title_cell": "Table of Contents",
   "title_sidebar": "Contents",
   "toc_cell": false,
   "toc_position": {},
   "toc_section_display": true,
   "toc_window_display": false
  }
 },
 "nbformat": 4,
 "nbformat_minor": 5
}
