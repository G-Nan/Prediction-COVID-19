{
 "cells": [
  {
   "cell_type": "code",
   "execution_count": 1,
   "id": "069fbcf7",
   "metadata": {
    "ExecuteTime": {
     "end_time": "2023-06-02T21:15:56.278682Z",
     "start_time": "2023-06-02T21:15:53.872594Z"
    }
   },
   "outputs": [],
   "source": [
    "import os\n",
    "os.chdir('D:\\\\Gnan\\\\DA\\\\KMU\\\\Prediction-COVID-19')\n",
    "from utils import *\n",
    "from model import *\n",
    "from trainer import *\n",
    "\n",
    "from tqdm.notebook import tqdm\n",
    "from torch.optim.adam import Adam\n",
    "device = torch.device('cuda:0' if torch.cuda.is_available() else 'cpu')\n",
    "\n",
    "import warnings\n",
    "warnings.filterwarnings('ignore')"
   ]
  },
  {
   "cell_type": "code",
   "execution_count": 2,
   "id": "42f2cb9c",
   "metadata": {
    "ExecuteTime": {
     "end_time": "2023-06-02T21:15:56.373271Z",
     "start_time": "2023-06-02T21:15:56.282671Z"
    }
   },
   "outputs": [
    {
     "data": {
      "text/html": [
       "<div>\n",
       "<style scoped>\n",
       "    .dataframe tbody tr th:only-of-type {\n",
       "        vertical-align: middle;\n",
       "    }\n",
       "\n",
       "    .dataframe tbody tr th {\n",
       "        vertical-align: top;\n",
       "    }\n",
       "\n",
       "    .dataframe thead th {\n",
       "        text-align: right;\n",
       "    }\n",
       "</style>\n",
       "<table border=\"1\" class=\"dataframe\">\n",
       "  <thead>\n",
       "    <tr style=\"text-align: right;\">\n",
       "      <th></th>\n",
       "      <th>deathCnt</th>\n",
       "      <th>defCnt</th>\n",
       "      <th>gubun</th>\n",
       "      <th>gubunEn</th>\n",
       "      <th>incDec</th>\n",
       "      <th>isolClearCnt</th>\n",
       "      <th>isolIngCnt</th>\n",
       "      <th>localOccCnt</th>\n",
       "      <th>overFlowCnt</th>\n",
       "      <th>qurRate</th>\n",
       "      <th>stdDay</th>\n",
       "      <th>dailyCnt</th>\n",
       "    </tr>\n",
       "  </thead>\n",
       "  <tbody>\n",
       "    <tr>\n",
       "      <th>0</th>\n",
       "      <td>0</td>\n",
       "      <td>0</td>\n",
       "      <td>서울</td>\n",
       "      <td>Seoul</td>\n",
       "      <td>0.0</td>\n",
       "      <td>0</td>\n",
       "      <td>0</td>\n",
       "      <td>0</td>\n",
       "      <td>0</td>\n",
       "      <td>0.0</td>\n",
       "      <td>2020-01-20</td>\n",
       "      <td>0.0</td>\n",
       "    </tr>\n",
       "    <tr>\n",
       "      <th>1</th>\n",
       "      <td>0</td>\n",
       "      <td>0</td>\n",
       "      <td>서울</td>\n",
       "      <td>Seoul</td>\n",
       "      <td>0.0</td>\n",
       "      <td>0</td>\n",
       "      <td>0</td>\n",
       "      <td>0</td>\n",
       "      <td>0</td>\n",
       "      <td>0.0</td>\n",
       "      <td>2020-01-21</td>\n",
       "      <td>0.0</td>\n",
       "    </tr>\n",
       "    <tr>\n",
       "      <th>2</th>\n",
       "      <td>0</td>\n",
       "      <td>0</td>\n",
       "      <td>서울</td>\n",
       "      <td>Seoul</td>\n",
       "      <td>0.0</td>\n",
       "      <td>0</td>\n",
       "      <td>0</td>\n",
       "      <td>0</td>\n",
       "      <td>0</td>\n",
       "      <td>0.0</td>\n",
       "      <td>2020-01-22</td>\n",
       "      <td>0.0</td>\n",
       "    </tr>\n",
       "    <tr>\n",
       "      <th>3</th>\n",
       "      <td>0</td>\n",
       "      <td>0</td>\n",
       "      <td>서울</td>\n",
       "      <td>Seoul</td>\n",
       "      <td>0.0</td>\n",
       "      <td>0</td>\n",
       "      <td>0</td>\n",
       "      <td>0</td>\n",
       "      <td>0</td>\n",
       "      <td>0.0</td>\n",
       "      <td>2020-01-23</td>\n",
       "      <td>0.0</td>\n",
       "    </tr>\n",
       "    <tr>\n",
       "      <th>4</th>\n",
       "      <td>0</td>\n",
       "      <td>1</td>\n",
       "      <td>서울</td>\n",
       "      <td>Seoul</td>\n",
       "      <td>1.0</td>\n",
       "      <td>0</td>\n",
       "      <td>1</td>\n",
       "      <td>0</td>\n",
       "      <td>1</td>\n",
       "      <td>0.0</td>\n",
       "      <td>2020-01-24</td>\n",
       "      <td>1.0</td>\n",
       "    </tr>\n",
       "    <tr>\n",
       "      <th>...</th>\n",
       "      <td>...</td>\n",
       "      <td>...</td>\n",
       "      <td>...</td>\n",
       "      <td>...</td>\n",
       "      <td>...</td>\n",
       "      <td>...</td>\n",
       "      <td>...</td>\n",
       "      <td>...</td>\n",
       "      <td>...</td>\n",
       "      <td>...</td>\n",
       "      <td>...</td>\n",
       "      <td>...</td>\n",
       "    </tr>\n",
       "    <tr>\n",
       "      <th>1214</th>\n",
       "      <td>6471</td>\n",
       "      <td>6162486</td>\n",
       "      <td>서울</td>\n",
       "      <td>Seoul</td>\n",
       "      <td>4329.0</td>\n",
       "      <td>0</td>\n",
       "      <td>0</td>\n",
       "      <td>4371</td>\n",
       "      <td>0</td>\n",
       "      <td>65361.0</td>\n",
       "      <td>2023-05-20</td>\n",
       "      <td>4329.0</td>\n",
       "    </tr>\n",
       "    <tr>\n",
       "      <th>1215</th>\n",
       "      <td>6473</td>\n",
       "      <td>6166682</td>\n",
       "      <td>서울</td>\n",
       "      <td>Seoul</td>\n",
       "      <td>4196.0</td>\n",
       "      <td>0</td>\n",
       "      <td>0</td>\n",
       "      <td>4195</td>\n",
       "      <td>1</td>\n",
       "      <td>65406.0</td>\n",
       "      <td>2023-05-21</td>\n",
       "      <td>4196.0</td>\n",
       "    </tr>\n",
       "    <tr>\n",
       "      <th>1216</th>\n",
       "      <td>6476</td>\n",
       "      <td>6167953</td>\n",
       "      <td>서울</td>\n",
       "      <td>Seoul</td>\n",
       "      <td>1271.0</td>\n",
       "      <td>0</td>\n",
       "      <td>0</td>\n",
       "      <td>1271</td>\n",
       "      <td>0</td>\n",
       "      <td>65419.0</td>\n",
       "      <td>2023-05-22</td>\n",
       "      <td>1271.0</td>\n",
       "    </tr>\n",
       "    <tr>\n",
       "      <th>1217</th>\n",
       "      <td>6477</td>\n",
       "      <td>6173315</td>\n",
       "      <td>서울</td>\n",
       "      <td>Seoul</td>\n",
       "      <td>5362.0</td>\n",
       "      <td>0</td>\n",
       "      <td>0</td>\n",
       "      <td>5359</td>\n",
       "      <td>3</td>\n",
       "      <td>65476.0</td>\n",
       "      <td>2023-05-23</td>\n",
       "      <td>5362.0</td>\n",
       "    </tr>\n",
       "    <tr>\n",
       "      <th>1218</th>\n",
       "      <td>6479</td>\n",
       "      <td>6178627</td>\n",
       "      <td>서울</td>\n",
       "      <td>Seoul</td>\n",
       "      <td>5312.0</td>\n",
       "      <td>0</td>\n",
       "      <td>0</td>\n",
       "      <td>5310</td>\n",
       "      <td>2</td>\n",
       "      <td>65532.0</td>\n",
       "      <td>2023-05-24</td>\n",
       "      <td>5312.0</td>\n",
       "    </tr>\n",
       "  </tbody>\n",
       "</table>\n",
       "<p>1219 rows × 12 columns</p>\n",
       "</div>"
      ],
      "text/plain": [
       "      deathCnt   defCnt gubun gubunEn  incDec  isolClearCnt  isolIngCnt  \\\n",
       "0            0        0    서울   Seoul     0.0             0           0   \n",
       "1            0        0    서울   Seoul     0.0             0           0   \n",
       "2            0        0    서울   Seoul     0.0             0           0   \n",
       "3            0        0    서울   Seoul     0.0             0           0   \n",
       "4            0        1    서울   Seoul     1.0             0           1   \n",
       "...        ...      ...   ...     ...     ...           ...         ...   \n",
       "1214      6471  6162486    서울   Seoul  4329.0             0           0   \n",
       "1215      6473  6166682    서울   Seoul  4196.0             0           0   \n",
       "1216      6476  6167953    서울   Seoul  1271.0             0           0   \n",
       "1217      6477  6173315    서울   Seoul  5362.0             0           0   \n",
       "1218      6479  6178627    서울   Seoul  5312.0             0           0   \n",
       "\n",
       "      localOccCnt  overFlowCnt  qurRate      stdDay  dailyCnt  \n",
       "0               0            0      0.0  2020-01-20       0.0  \n",
       "1               0            0      0.0  2020-01-21       0.0  \n",
       "2               0            0      0.0  2020-01-22       0.0  \n",
       "3               0            0      0.0  2020-01-23       0.0  \n",
       "4               0            1      0.0  2020-01-24       1.0  \n",
       "...           ...          ...      ...         ...       ...  \n",
       "1214         4371            0  65361.0  2023-05-20    4329.0  \n",
       "1215         4195            1  65406.0  2023-05-21    4196.0  \n",
       "1216         1271            0  65419.0  2023-05-22    1271.0  \n",
       "1217         5359            3  65476.0  2023-05-23    5362.0  \n",
       "1218         5310            2  65532.0  2023-05-24    5312.0  \n",
       "\n",
       "[1219 rows x 12 columns]"
      ]
     },
     "execution_count": 2,
     "metadata": {},
     "output_type": "execute_result"
    }
   ],
   "source": [
    "path = 'Data/Cleaned_deathCnt/*.csv'\n",
    "dic_files = Load_files.load_files(path, -14, -12)\n",
    "data = dic_files['서울']\n",
    "data['dailyCnt'] = data['defCnt'].diff().fillna(0)\n",
    "data"
   ]
  },
  {
   "cell_type": "code",
   "execution_count": 3,
   "id": "0d105cfc",
   "metadata": {
    "ExecuteTime": {
     "end_time": "2023-06-02T21:15:56.388231Z",
     "start_time": "2023-06-02T21:15:56.375265Z"
    }
   },
   "outputs": [
    {
     "name": "stdout",
     "output_type": "stream",
     "text": [
      "648\n"
     ]
    }
   ],
   "source": [
    "learning_rates_list = [1e-3, 1e-4]\n",
    "patiences_list = [20, 50]\n",
    "num_layers_list = [1, 2, 4]\n",
    "batch_sizes_list = [32, 64, 128]\n",
    "hidden_sizes_list = [8, 16, 32]\n",
    "dropout_list = [0.25, 0.5]\n",
    "criterions_list = [nn.MSELoss(), criterion2, criterion3]\n",
    "\n",
    "hyperparameter_dict = {}\n",
    "i = 0\n",
    "\n",
    "for lr in learning_rates_list:\n",
    "    for patience in patiences_list:\n",
    "        for num_layers in num_layers_list:\n",
    "            for batch_sizes in batch_sizes_list:\n",
    "                for hidden_size in hidden_sizes_list:    \n",
    "                    for dropout in dropout_list:\n",
    "                        for criterion in criterions_list:\n",
    "                            hyperparameter_dict[i] = [lr, patience, num_layers, batch_sizes, hidden_size, dropout, criterion]\n",
    "                            i += 1\n",
    "                        \n",
    "print(i)"
   ]
  },
  {
   "cell_type": "code",
   "execution_count": 4,
   "id": "d6b9fc2c",
   "metadata": {
    "ExecuteTime": {
     "end_time": "2023-06-04T05:36:59.140053Z",
     "start_time": "2023-06-02T21:15:56.392220Z"
    }
   },
   "outputs": [
    {
     "data": {
      "application/vnd.jupyter.widget-view+json": {
       "model_id": "b3bbcb66a2a348c594775441ebcda264",
       "version_major": 2,
       "version_minor": 0
      },
      "text/plain": [
       "서울_seq2seq_RNN:   0%|          | 0/648 [00:00<?, ?it/s]"
      ]
     },
     "metadata": {},
     "output_type": "display_data"
    },
    {
     "name": "stdout",
     "output_type": "stream",
     "text": [
      "----------------------------------------------------------------------------------------------------------\n",
      "lr: 0.001  patience: 20  num_layers: 2  batch_size: 32  hidden_size: 8  dropout: 0.25 criterion: MSELoss()\n"
     ]
    },
    {
     "data": {
      "application/vnd.jupyter.widget-view+json": {
       "model_id": "880a48248471486195f8f7fd291b675d",
       "version_major": 2,
       "version_minor": 0
      },
      "text/plain": [
       "  0%|          | 0/10000 [00:00<?, ?it/s]"
      ]
     },
     "metadata": {},
     "output_type": "display_data"
    },
    {
     "name": "stdout",
     "output_type": "stream",
     "text": [
      "\n",
      " Early Stopping / epoch: 153 loss: 0.001515\n",
      "----------------------------------------------------------------------------------------------------------\n",
      "lr: 0.001  patience: 20  num_layers: 2  batch_size: 32  hidden_size: 8  dropout: 0.25 criterion: <function criterion2 at 0x000001C7862F77F0>\n"
     ]
    },
    {
     "data": {
      "application/vnd.jupyter.widget-view+json": {
       "model_id": "c9e44f36f8bb40b8a29d8b47fa11a219",
       "version_major": 2,
       "version_minor": 0
      },
      "text/plain": [
       "  0%|          | 0/10000 [00:00<?, ?it/s]"
      ]
     },
     "metadata": {},
     "output_type": "display_data"
    },
    {
     "name": "stdout",
     "output_type": "stream",
     "text": [
      "\n",
      " Early Stopping / epoch: 165 loss: 0.014420\n",
      "----------------------------------------------------------------------------------------------------------\n",
      "lr: 0.001  patience: 20  num_layers: 2  batch_size: 32  hidden_size: 8  dropout: 0.25 criterion: <function criterion3 at 0x000001C7862F7880>\n"
     ]
    },
    {
     "data": {
      "application/vnd.jupyter.widget-view+json": {
       "model_id": "cfdaef5b3eda49c497505de768044936",
       "version_major": 2,
       "version_minor": 0
      },
      "text/plain": [
       "  0%|          | 0/10000 [00:00<?, ?it/s]"
      ]
     },
     "metadata": {},
     "output_type": "display_data"
    },
    {
     "name": "stdout",
     "output_type": "stream",
     "text": [
      "\n",
      " Early Stopping / epoch: 142 loss: 0.003530\n",
      "----------------------------------------------------------------------------------------------------------\n",
      "lr: 0.001  patience: 20  num_layers: 2  batch_size: 32  hidden_size: 8  dropout: 0.5 criterion: MSELoss()\n"
     ]
    },
    {
     "data": {
      "application/vnd.jupyter.widget-view+json": {
       "model_id": "43ae0422fcc24192935b00bd9d4d3d53",
       "version_major": 2,
       "version_minor": 0
      },
      "text/plain": [
       "  0%|          | 0/10000 [00:00<?, ?it/s]"
      ]
     },
     "metadata": {},
     "output_type": "display_data"
    },
    {
     "name": "stdout",
     "output_type": "stream",
     "text": [
      "\n",
      " Early Stopping / epoch: 70 loss: 0.001923\n",
      "----------------------------------------------------------------------------------------------------------\n",
      "lr: 0.001  patience: 20  num_layers: 2  batch_size: 32  hidden_size: 8  dropout: 0.5 criterion: <function criterion2 at 0x000001C7862F77F0>\n"
     ]
    },
    {
     "data": {
      "application/vnd.jupyter.widget-view+json": {
       "model_id": "10e9c56c58274eb1b48b5e2bff2387f3",
       "version_major": 2,
       "version_minor": 0
      },
      "text/plain": [
       "  0%|          | 0/10000 [00:00<?, ?it/s]"
      ]
     },
     "metadata": {},
     "output_type": "display_data"
    },
    {
     "name": "stdout",
     "output_type": "stream",
     "text": [
      "\n",
      " Early Stopping / epoch: 178 loss: 0.018744\n",
      "----------------------------------------------------------------------------------------------------------\n",
      "lr: 0.001  patience: 20  num_layers: 2  batch_size: 32  hidden_size: 8  dropout: 0.5 criterion: <function criterion3 at 0x000001C7862F7880>\n"
     ]
    },
    {
     "data": {
      "application/vnd.jupyter.widget-view+json": {
       "model_id": "8ea410d852ac424f96ec2580bcae729a",
       "version_major": 2,
       "version_minor": 0
      },
      "text/plain": [
       "  0%|          | 0/10000 [00:00<?, ?it/s]"
      ]
     },
     "metadata": {},
     "output_type": "display_data"
    },
    {
     "name": "stdout",
     "output_type": "stream",
     "text": [
      "\n",
      " Early Stopping / epoch: 175 loss: 0.003165\n",
      "----------------------------------------------------------------------------------------------------------\n",
      "lr: 0.001  patience: 20  num_layers: 2  batch_size: 32  hidden_size: 16  dropout: 0.25 criterion: MSELoss()\n"
     ]
    },
    {
     "data": {
      "application/vnd.jupyter.widget-view+json": {
       "model_id": "24dc1871608f4a43bddc9010d674dc03",
       "version_major": 2,
       "version_minor": 0
      },
      "text/plain": [
       "  0%|          | 0/10000 [00:00<?, ?it/s]"
      ]
     },
     "metadata": {},
     "output_type": "display_data"
    },
    {
     "name": "stdout",
     "output_type": "stream",
     "text": [
      "\n",
      " Early Stopping / epoch: 100 loss: 0.001084\n",
      "----------------------------------------------------------------------------------------------------------\n",
      "lr: 0.001  patience: 20  num_layers: 2  batch_size: 32  hidden_size: 16  dropout: 0.25 criterion: <function criterion2 at 0x000001C7862F77F0>\n"
     ]
    },
    {
     "data": {
      "application/vnd.jupyter.widget-view+json": {
       "model_id": "6f4471b5bc57423798437f4cc69f268f",
       "version_major": 2,
       "version_minor": 0
      },
      "text/plain": [
       "  0%|          | 0/10000 [00:00<?, ?it/s]"
      ]
     },
     "metadata": {},
     "output_type": "display_data"
    },
    {
     "name": "stdout",
     "output_type": "stream",
     "text": [
      "\n",
      " Early Stopping / epoch: 92 loss: 0.015591\n",
      "----------------------------------------------------------------------------------------------------------\n",
      "lr: 0.001  patience: 20  num_layers: 2  batch_size: 32  hidden_size: 16  dropout: 0.25 criterion: <function criterion3 at 0x000001C7862F7880>\n"
     ]
    },
    {
     "data": {
      "application/vnd.jupyter.widget-view+json": {
       "model_id": "f65a013475d24e6194e01532ca0b9a0c",
       "version_major": 2,
       "version_minor": 0
      },
      "text/plain": [
       "  0%|          | 0/10000 [00:00<?, ?it/s]"
      ]
     },
     "metadata": {},
     "output_type": "display_data"
    },
    {
     "name": "stdout",
     "output_type": "stream",
     "text": [
      "\n",
      " Early Stopping / epoch: 71 loss: 0.003649\n",
      "----------------------------------------------------------------------------------------------------------\n",
      "lr: 0.001  patience: 20  num_layers: 2  batch_size: 32  hidden_size: 16  dropout: 0.5 criterion: MSELoss()\n"
     ]
    },
    {
     "data": {
      "application/vnd.jupyter.widget-view+json": {
       "model_id": "efd6c273b00844799f5b91c3c12db23e",
       "version_major": 2,
       "version_minor": 0
      },
      "text/plain": [
       "  0%|          | 0/10000 [00:00<?, ?it/s]"
      ]
     },
     "metadata": {},
     "output_type": "display_data"
    },
    {
     "name": "stdout",
     "output_type": "stream",
     "text": [
      "\n",
      " Early Stopping / epoch: 132 loss: 0.001150\n",
      "----------------------------------------------------------------------------------------------------------\n",
      "lr: 0.001  patience: 20  num_layers: 2  batch_size: 32  hidden_size: 16  dropout: 0.5 criterion: <function criterion2 at 0x000001C7862F77F0>\n"
     ]
    },
    {
     "data": {
      "application/vnd.jupyter.widget-view+json": {
       "model_id": "2de292e5f796473b88a3ae4e228d4f64",
       "version_major": 2,
       "version_minor": 0
      },
      "text/plain": [
       "  0%|          | 0/10000 [00:00<?, ?it/s]"
      ]
     },
     "metadata": {},
     "output_type": "display_data"
    },
    {
     "name": "stdout",
     "output_type": "stream",
     "text": [
      "\n",
      " Early Stopping / epoch: 98 loss: 0.012645\n",
      "----------------------------------------------------------------------------------------------------------\n",
      "lr: 0.001  patience: 20  num_layers: 2  batch_size: 32  hidden_size: 16  dropout: 0.5 criterion: <function criterion3 at 0x000001C7862F7880>\n"
     ]
    },
    {
     "data": {
      "application/vnd.jupyter.widget-view+json": {
       "model_id": "14d2124ee8c247fe84d7f40a96d1af1e",
       "version_major": 2,
       "version_minor": 0
      },
      "text/plain": [
       "  0%|          | 0/10000 [00:00<?, ?it/s]"
      ]
     },
     "metadata": {},
     "output_type": "display_data"
    },
    {
     "name": "stdout",
     "output_type": "stream",
     "text": [
      "\n",
      " Early Stopping / epoch: 108 loss: 0.003212\n",
      "----------------------------------------------------------------------------------------------------------\n",
      "lr: 0.001  patience: 20  num_layers: 2  batch_size: 32  hidden_size: 32  dropout: 0.25 criterion: MSELoss()\n"
     ]
    },
    {
     "data": {
      "application/vnd.jupyter.widget-view+json": {
       "model_id": "571ae44b6db145599f385ad9eaa82a93",
       "version_major": 2,
       "version_minor": 0
      },
      "text/plain": [
       "  0%|          | 0/10000 [00:00<?, ?it/s]"
      ]
     },
     "metadata": {},
     "output_type": "display_data"
    },
    {
     "name": "stdout",
     "output_type": "stream",
     "text": [
      "\n",
      " Early Stopping / epoch: 93 loss: 0.001212\n",
      "----------------------------------------------------------------------------------------------------------\n",
      "lr: 0.001  patience: 20  num_layers: 2  batch_size: 32  hidden_size: 32  dropout: 0.25 criterion: <function criterion2 at 0x000001C7862F77F0>\n"
     ]
    },
    {
     "data": {
      "application/vnd.jupyter.widget-view+json": {
       "model_id": "ed5d7290915247278cfab6c8c669dde3",
       "version_major": 2,
       "version_minor": 0
      },
      "text/plain": [
       "  0%|          | 0/10000 [00:00<?, ?it/s]"
      ]
     },
     "metadata": {},
     "output_type": "display_data"
    },
    {
     "name": "stdout",
     "output_type": "stream",
     "text": [
      "\n",
      " Early Stopping / epoch: 89 loss: 0.015609\n",
      "----------------------------------------------------------------------------------------------------------\n",
      "lr: 0.001  patience: 20  num_layers: 2  batch_size: 32  hidden_size: 32  dropout: 0.25 criterion: <function criterion3 at 0x000001C7862F7880>\n"
     ]
    },
    {
     "data": {
      "application/vnd.jupyter.widget-view+json": {
       "model_id": "07e8c2d17f424ba981304e5e0e95eadb",
       "version_major": 2,
       "version_minor": 0
      },
      "text/plain": [
       "  0%|          | 0/10000 [00:00<?, ?it/s]"
      ]
     },
     "metadata": {},
     "output_type": "display_data"
    },
    {
     "name": "stdout",
     "output_type": "stream",
     "text": [
      "\n",
      " Early Stopping / epoch: 65 loss: 0.003592\n",
      "----------------------------------------------------------------------------------------------------------\n",
      "lr: 0.001  patience: 20  num_layers: 2  batch_size: 32  hidden_size: 32  dropout: 0.5 criterion: MSELoss()\n"
     ]
    },
    {
     "data": {
      "application/vnd.jupyter.widget-view+json": {
       "model_id": "8b78c69766f04a78b4fca821af020856",
       "version_major": 2,
       "version_minor": 0
      },
      "text/plain": [
       "  0%|          | 0/10000 [00:00<?, ?it/s]"
      ]
     },
     "metadata": {},
     "output_type": "display_data"
    },
    {
     "name": "stdout",
     "output_type": "stream",
     "text": [
      "\n",
      " Early Stopping / epoch: 111 loss: 0.001209\n",
      "----------------------------------------------------------------------------------------------------------\n",
      "lr: 0.001  patience: 20  num_layers: 2  batch_size: 32  hidden_size: 32  dropout: 0.5 criterion: <function criterion2 at 0x000001C7862F77F0>\n"
     ]
    },
    {
     "data": {
      "application/vnd.jupyter.widget-view+json": {
       "model_id": "dc92ffb350b843d48ee6f6e05b8110a4",
       "version_major": 2,
       "version_minor": 0
      },
      "text/plain": [
       "  0%|          | 0/10000 [00:00<?, ?it/s]"
      ]
     },
     "metadata": {},
     "output_type": "display_data"
    },
    {
     "name": "stdout",
     "output_type": "stream",
     "text": [
      "\n",
      " Early Stopping / epoch: 91 loss: 0.012922\n",
      "----------------------------------------------------------------------------------------------------------\n",
      "lr: 0.001  patience: 20  num_layers: 2  batch_size: 32  hidden_size: 32  dropout: 0.5 criterion: <function criterion3 at 0x000001C7862F7880>\n"
     ]
    },
    {
     "data": {
      "application/vnd.jupyter.widget-view+json": {
       "model_id": "6af9b7f663164d91a1c0813a01782642",
       "version_major": 2,
       "version_minor": 0
      },
      "text/plain": [
       "  0%|          | 0/10000 [00:00<?, ?it/s]"
      ]
     },
     "metadata": {},
     "output_type": "display_data"
    },
    {
     "name": "stdout",
     "output_type": "stream",
     "text": [
      "\n",
      " Early Stopping / epoch: 81 loss: 0.003350\n",
      "----------------------------------------------------------------------------------------------------------\n",
      "lr: 0.001  patience: 20  num_layers: 2  batch_size: 64  hidden_size: 8  dropout: 0.25 criterion: MSELoss()\n"
     ]
    },
    {
     "data": {
      "application/vnd.jupyter.widget-view+json": {
       "model_id": "2a625e21f9f24c0aa4d8a0460456f316",
       "version_major": 2,
       "version_minor": 0
      },
      "text/plain": [
       "  0%|          | 0/10000 [00:00<?, ?it/s]"
      ]
     },
     "metadata": {},
     "output_type": "display_data"
    },
    {
     "name": "stdout",
     "output_type": "stream",
     "text": [
      "\n",
      " Early Stopping / epoch: 117 loss: 0.001389\n",
      "----------------------------------------------------------------------------------------------------------\n",
      "lr: 0.001  patience: 20  num_layers: 2  batch_size: 64  hidden_size: 8  dropout: 0.25 criterion: <function criterion2 at 0x000001C7862F77F0>\n"
     ]
    },
    {
     "data": {
      "application/vnd.jupyter.widget-view+json": {
       "model_id": "87377bb100de4d01a04a56db0ac63f4c",
       "version_major": 2,
       "version_minor": 0
      },
      "text/plain": [
       "  0%|          | 0/10000 [00:00<?, ?it/s]"
      ]
     },
     "metadata": {},
     "output_type": "display_data"
    },
    {
     "name": "stdout",
     "output_type": "stream",
     "text": [
      "\n",
      " Early Stopping / epoch: 236 loss: 0.013048\n",
      "----------------------------------------------------------------------------------------------------------\n",
      "lr: 0.001  patience: 20  num_layers: 2  batch_size: 64  hidden_size: 8  dropout: 0.25 criterion: <function criterion3 at 0x000001C7862F7880>\n"
     ]
    },
    {
     "data": {
      "application/vnd.jupyter.widget-view+json": {
       "model_id": "ccb0e749ed2e488ba81c77b485204c50",
       "version_major": 2,
       "version_minor": 0
      },
      "text/plain": [
       "  0%|          | 0/10000 [00:00<?, ?it/s]"
      ]
     },
     "metadata": {},
     "output_type": "display_data"
    },
    {
     "name": "stdout",
     "output_type": "stream",
     "text": [
      "\n",
      " Early Stopping / epoch: 117 loss: 0.002409\n",
      "----------------------------------------------------------------------------------------------------------\n",
      "lr: 0.001  patience: 20  num_layers: 2  batch_size: 64  hidden_size: 8  dropout: 0.5 criterion: MSELoss()\n"
     ]
    },
    {
     "data": {
      "application/vnd.jupyter.widget-view+json": {
       "model_id": "bc3ca3320b7d4182870117d630f6e130",
       "version_major": 2,
       "version_minor": 0
      },
      "text/plain": [
       "  0%|          | 0/10000 [00:00<?, ?it/s]"
      ]
     },
     "metadata": {},
     "output_type": "display_data"
    },
    {
     "name": "stdout",
     "output_type": "stream",
     "text": [
      "\n",
      " Early Stopping / epoch: 152 loss: 0.001787\n",
      "----------------------------------------------------------------------------------------------------------\n",
      "lr: 0.001  patience: 20  num_layers: 2  batch_size: 64  hidden_size: 8  dropout: 0.5 criterion: <function criterion2 at 0x000001C7862F77F0>\n"
     ]
    },
    {
     "data": {
      "application/vnd.jupyter.widget-view+json": {
       "model_id": "deb5f3b7c1cd4c56a391892c12762d92",
       "version_major": 2,
       "version_minor": 0
      },
      "text/plain": [
       "  0%|          | 0/10000 [00:00<?, ?it/s]"
      ]
     },
     "metadata": {},
     "output_type": "display_data"
    },
    {
     "name": "stdout",
     "output_type": "stream",
     "text": [
      "\n",
      " Early Stopping / epoch: 122 loss: 0.015916\n",
      "----------------------------------------------------------------------------------------------------------\n",
      "lr: 0.001  patience: 20  num_layers: 2  batch_size: 64  hidden_size: 8  dropout: 0.5 criterion: <function criterion3 at 0x000001C7862F7880>\n"
     ]
    },
    {
     "data": {
      "application/vnd.jupyter.widget-view+json": {
       "model_id": "c6797573692f4d9abfa17254fd867f7a",
       "version_major": 2,
       "version_minor": 0
      },
      "text/plain": [
       "  0%|          | 0/10000 [00:00<?, ?it/s]"
      ]
     },
     "metadata": {},
     "output_type": "display_data"
    },
    {
     "name": "stdout",
     "output_type": "stream",
     "text": [
      "\n",
      " Early Stopping / epoch: 154 loss: 0.002853\n",
      "----------------------------------------------------------------------------------------------------------\n",
      "lr: 0.001  patience: 20  num_layers: 2  batch_size: 64  hidden_size: 16  dropout: 0.25 criterion: MSELoss()\n"
     ]
    },
    {
     "data": {
      "application/vnd.jupyter.widget-view+json": {
       "model_id": "d1545f033352487b86edf88ad7c02703",
       "version_major": 2,
       "version_minor": 0
      },
      "text/plain": [
       "  0%|          | 0/10000 [00:00<?, ?it/s]"
      ]
     },
     "metadata": {},
     "output_type": "display_data"
    },
    {
     "name": "stdout",
     "output_type": "stream",
     "text": [
      "\n",
      " Early Stopping / epoch: 146 loss: 0.000955\n",
      "----------------------------------------------------------------------------------------------------------\n",
      "lr: 0.001  patience: 20  num_layers: 2  batch_size: 64  hidden_size: 16  dropout: 0.25 criterion: <function criterion2 at 0x000001C7862F77F0>\n"
     ]
    },
    {
     "data": {
      "application/vnd.jupyter.widget-view+json": {
       "model_id": "095529a17fc84ed29b1b7cce4e0b39ae",
       "version_major": 2,
       "version_minor": 0
      },
      "text/plain": [
       "  0%|          | 0/10000 [00:00<?, ?it/s]"
      ]
     },
     "metadata": {},
     "output_type": "display_data"
    },
    {
     "name": "stdout",
     "output_type": "stream",
     "text": [
      "\n",
      " Early Stopping / epoch: 129 loss: 0.016587\n",
      "----------------------------------------------------------------------------------------------------------\n",
      "lr: 0.001  patience: 20  num_layers: 2  batch_size: 64  hidden_size: 16  dropout: 0.25 criterion: <function criterion3 at 0x000001C7862F7880>\n"
     ]
    },
    {
     "data": {
      "application/vnd.jupyter.widget-view+json": {
       "model_id": "0b9882f2b2904105b9fa8e06fb09a10d",
       "version_major": 2,
       "version_minor": 0
      },
      "text/plain": [
       "  0%|          | 0/10000 [00:00<?, ?it/s]"
      ]
     },
     "metadata": {},
     "output_type": "display_data"
    },
    {
     "name": "stdout",
     "output_type": "stream",
     "text": [
      "\n",
      " Early Stopping / epoch: 111 loss: 0.002333\n",
      "----------------------------------------------------------------------------------------------------------\n",
      "lr: 0.001  patience: 20  num_layers: 2  batch_size: 64  hidden_size: 16  dropout: 0.5 criterion: MSELoss()\n"
     ]
    },
    {
     "data": {
      "application/vnd.jupyter.widget-view+json": {
       "model_id": "8262fb2ebd2d493fa538d13f8e21f318",
       "version_major": 2,
       "version_minor": 0
      },
      "text/plain": [
       "  0%|          | 0/10000 [00:00<?, ?it/s]"
      ]
     },
     "metadata": {},
     "output_type": "display_data"
    },
    {
     "name": "stdout",
     "output_type": "stream",
     "text": [
      "\n",
      " Early Stopping / epoch: 140 loss: 0.001162\n",
      "----------------------------------------------------------------------------------------------------------\n",
      "lr: 0.001  patience: 20  num_layers: 2  batch_size: 64  hidden_size: 16  dropout: 0.5 criterion: <function criterion2 at 0x000001C7862F77F0>\n"
     ]
    },
    {
     "data": {
      "application/vnd.jupyter.widget-view+json": {
       "model_id": "6ed3414a28d7478cb58e7147385e35bd",
       "version_major": 2,
       "version_minor": 0
      },
      "text/plain": [
       "  0%|          | 0/10000 [00:00<?, ?it/s]"
      ]
     },
     "metadata": {},
     "output_type": "display_data"
    },
    {
     "name": "stdout",
     "output_type": "stream",
     "text": [
      "\n",
      " Early Stopping / epoch: 140 loss: 0.018600\n",
      "----------------------------------------------------------------------------------------------------------\n",
      "lr: 0.001  patience: 20  num_layers: 2  batch_size: 64  hidden_size: 16  dropout: 0.5 criterion: <function criterion3 at 0x000001C7862F7880>\n"
     ]
    },
    {
     "data": {
      "application/vnd.jupyter.widget-view+json": {
       "model_id": "62d1e61df49141efbbca2721dbe2a7d0",
       "version_major": 2,
       "version_minor": 0
      },
      "text/plain": [
       "  0%|          | 0/10000 [00:00<?, ?it/s]"
      ]
     },
     "metadata": {},
     "output_type": "display_data"
    },
    {
     "name": "stdout",
     "output_type": "stream",
     "text": [
      "\n",
      " Early Stopping / epoch: 180 loss: 0.002234\n",
      "----------------------------------------------------------------------------------------------------------\n",
      "lr: 0.001  patience: 20  num_layers: 2  batch_size: 64  hidden_size: 32  dropout: 0.25 criterion: MSELoss()\n"
     ]
    },
    {
     "data": {
      "application/vnd.jupyter.widget-view+json": {
       "model_id": "a96fe98038e34fbfb385d183a77b51d0",
       "version_major": 2,
       "version_minor": 0
      },
      "text/plain": [
       "  0%|          | 0/10000 [00:00<?, ?it/s]"
      ]
     },
     "metadata": {},
     "output_type": "display_data"
    },
    {
     "name": "stdout",
     "output_type": "stream",
     "text": [
      "\n",
      " Early Stopping / epoch: 117 loss: 0.001018\n",
      "----------------------------------------------------------------------------------------------------------\n",
      "lr: 0.001  patience: 20  num_layers: 2  batch_size: 64  hidden_size: 32  dropout: 0.25 criterion: <function criterion2 at 0x000001C7862F77F0>\n"
     ]
    },
    {
     "data": {
      "application/vnd.jupyter.widget-view+json": {
       "model_id": "fa812bec8f194a95b198ed3133675d7d",
       "version_major": 2,
       "version_minor": 0
      },
      "text/plain": [
       "  0%|          | 0/10000 [00:00<?, ?it/s]"
      ]
     },
     "metadata": {},
     "output_type": "display_data"
    },
    {
     "name": "stdout",
     "output_type": "stream",
     "text": [
      "\n",
      " Early Stopping / epoch: 134 loss: 0.014947\n",
      "----------------------------------------------------------------------------------------------------------\n",
      "lr: 0.001  patience: 20  num_layers: 2  batch_size: 64  hidden_size: 32  dropout: 0.25 criterion: <function criterion3 at 0x000001C7862F7880>\n"
     ]
    },
    {
     "data": {
      "application/vnd.jupyter.widget-view+json": {
       "model_id": "9213bf4df5c9454f8f341f712d18f635",
       "version_major": 2,
       "version_minor": 0
      },
      "text/plain": [
       "  0%|          | 0/10000 [00:00<?, ?it/s]"
      ]
     },
     "metadata": {},
     "output_type": "display_data"
    },
    {
     "name": "stdout",
     "output_type": "stream",
     "text": [
      "\n",
      " Early Stopping / epoch: 127 loss: 0.003056\n",
      "----------------------------------------------------------------------------------------------------------\n",
      "lr: 0.001  patience: 20  num_layers: 2  batch_size: 64  hidden_size: 32  dropout: 0.5 criterion: MSELoss()\n"
     ]
    },
    {
     "data": {
      "application/vnd.jupyter.widget-view+json": {
       "model_id": "6a016e5d800c40649e017149a74d8ac1",
       "version_major": 2,
       "version_minor": 0
      },
      "text/plain": [
       "  0%|          | 0/10000 [00:00<?, ?it/s]"
      ]
     },
     "metadata": {},
     "output_type": "display_data"
    },
    {
     "name": "stdout",
     "output_type": "stream",
     "text": [
      "\n",
      " Early Stopping / epoch: 69 loss: 0.001153\n",
      "----------------------------------------------------------------------------------------------------------\n",
      "lr: 0.001  patience: 20  num_layers: 2  batch_size: 64  hidden_size: 32  dropout: 0.5 criterion: <function criterion2 at 0x000001C7862F77F0>\n"
     ]
    },
    {
     "data": {
      "application/vnd.jupyter.widget-view+json": {
       "model_id": "6189a99a676343ac8d7bb5790bb42e13",
       "version_major": 2,
       "version_minor": 0
      },
      "text/plain": [
       "  0%|          | 0/10000 [00:00<?, ?it/s]"
      ]
     },
     "metadata": {},
     "output_type": "display_data"
    },
    {
     "name": "stdout",
     "output_type": "stream",
     "text": [
      "\n",
      " Early Stopping / epoch: 154 loss: 0.013677\n",
      "----------------------------------------------------------------------------------------------------------\n",
      "lr: 0.001  patience: 20  num_layers: 2  batch_size: 64  hidden_size: 32  dropout: 0.5 criterion: <function criterion3 at 0x000001C7862F7880>\n"
     ]
    },
    {
     "data": {
      "application/vnd.jupyter.widget-view+json": {
       "model_id": "ae49308435c041cf9f8c887191d15baf",
       "version_major": 2,
       "version_minor": 0
      },
      "text/plain": [
       "  0%|          | 0/10000 [00:00<?, ?it/s]"
      ]
     },
     "metadata": {},
     "output_type": "display_data"
    },
    {
     "name": "stdout",
     "output_type": "stream",
     "text": [
      "\n",
      " Early Stopping / epoch: 85 loss: 0.002570\n",
      "----------------------------------------------------------------------------------------------------------\n",
      "lr: 0.001  patience: 20  num_layers: 2  batch_size: 128  hidden_size: 8  dropout: 0.25 criterion: MSELoss()\n"
     ]
    },
    {
     "data": {
      "application/vnd.jupyter.widget-view+json": {
       "model_id": "1479c48fee3142d1882b3cd0d0a4e289",
       "version_major": 2,
       "version_minor": 0
      },
      "text/plain": [
       "  0%|          | 0/10000 [00:00<?, ?it/s]"
      ]
     },
     "metadata": {},
     "output_type": "display_data"
    },
    {
     "name": "stdout",
     "output_type": "stream",
     "text": [
      "\n",
      " Early Stopping / epoch: 267 loss: 0.001146\n",
      "----------------------------------------------------------------------------------------------------------\n",
      "lr: 0.001  patience: 20  num_layers: 2  batch_size: 128  hidden_size: 8  dropout: 0.25 criterion: <function criterion2 at 0x000001C7862F77F0>\n"
     ]
    },
    {
     "data": {
      "application/vnd.jupyter.widget-view+json": {
       "model_id": "5736e4062c34429eac1881e2d9f5f481",
       "version_major": 2,
       "version_minor": 0
      },
      "text/plain": [
       "  0%|          | 0/10000 [00:00<?, ?it/s]"
      ]
     },
     "metadata": {},
     "output_type": "display_data"
    },
    {
     "name": "stdout",
     "output_type": "stream",
     "text": [
      "\n",
      " Early Stopping / epoch: 202 loss: 0.014196\n",
      "----------------------------------------------------------------------------------------------------------\n",
      "lr: 0.001  patience: 20  num_layers: 2  batch_size: 128  hidden_size: 8  dropout: 0.25 criterion: <function criterion3 at 0x000001C7862F7880>\n"
     ]
    },
    {
     "data": {
      "application/vnd.jupyter.widget-view+json": {
       "model_id": "c19011459350448fa51d3d8bb3725c9d",
       "version_major": 2,
       "version_minor": 0
      },
      "text/plain": [
       "  0%|          | 0/10000 [00:00<?, ?it/s]"
      ]
     },
     "metadata": {},
     "output_type": "display_data"
    },
    {
     "name": "stdout",
     "output_type": "stream",
     "text": [
      "\n",
      " Early Stopping / epoch: 171 loss: 0.002234\n",
      "----------------------------------------------------------------------------------------------------------\n",
      "lr: 0.001  patience: 20  num_layers: 2  batch_size: 128  hidden_size: 8  dropout: 0.5 criterion: MSELoss()\n"
     ]
    },
    {
     "data": {
      "application/vnd.jupyter.widget-view+json": {
       "model_id": "50ac04b8d360434caef373ea4712962c",
       "version_major": 2,
       "version_minor": 0
      },
      "text/plain": [
       "  0%|          | 0/10000 [00:00<?, ?it/s]"
      ]
     },
     "metadata": {},
     "output_type": "display_data"
    },
    {
     "name": "stdout",
     "output_type": "stream",
     "text": [
      "\n",
      " Early Stopping / epoch: 189 loss: 0.001701\n",
      "----------------------------------------------------------------------------------------------------------\n",
      "lr: 0.001  patience: 20  num_layers: 2  batch_size: 128  hidden_size: 8  dropout: 0.5 criterion: <function criterion2 at 0x000001C7862F77F0>\n"
     ]
    },
    {
     "data": {
      "application/vnd.jupyter.widget-view+json": {
       "model_id": "0dfa3fd9722e48359cf0da129465bd20",
       "version_major": 2,
       "version_minor": 0
      },
      "text/plain": [
       "  0%|          | 0/10000 [00:00<?, ?it/s]"
      ]
     },
     "metadata": {},
     "output_type": "display_data"
    },
    {
     "name": "stdout",
     "output_type": "stream",
     "text": [
      "\n",
      " Early Stopping / epoch: 290 loss: 0.012776\n",
      "----------------------------------------------------------------------------------------------------------\n",
      "lr: 0.001  patience: 20  num_layers: 2  batch_size: 128  hidden_size: 8  dropout: 0.5 criterion: <function criterion3 at 0x000001C7862F7880>\n"
     ]
    },
    {
     "data": {
      "application/vnd.jupyter.widget-view+json": {
       "model_id": "4c6a8fbbfe5a4b4bb19ad4d37799a219",
       "version_major": 2,
       "version_minor": 0
      },
      "text/plain": [
       "  0%|          | 0/10000 [00:00<?, ?it/s]"
      ]
     },
     "metadata": {},
     "output_type": "display_data"
    },
    {
     "name": "stdout",
     "output_type": "stream",
     "text": [
      "\n",
      " Early Stopping / epoch: 137 loss: 0.001927\n",
      "----------------------------------------------------------------------------------------------------------\n",
      "lr: 0.001  patience: 20  num_layers: 2  batch_size: 128  hidden_size: 16  dropout: 0.25 criterion: MSELoss()\n"
     ]
    },
    {
     "data": {
      "application/vnd.jupyter.widget-view+json": {
       "model_id": "7b77a98784af4042a2e4fde5294aa803",
       "version_major": 2,
       "version_minor": 0
      },
      "text/plain": [
       "  0%|          | 0/10000 [00:00<?, ?it/s]"
      ]
     },
     "metadata": {},
     "output_type": "display_data"
    },
    {
     "name": "stdout",
     "output_type": "stream",
     "text": [
      "\n",
      " Early Stopping / epoch: 202 loss: 0.000777\n",
      "----------------------------------------------------------------------------------------------------------\n",
      "lr: 0.001  patience: 20  num_layers: 2  batch_size: 128  hidden_size: 16  dropout: 0.25 criterion: <function criterion2 at 0x000001C7862F77F0>\n"
     ]
    },
    {
     "data": {
      "application/vnd.jupyter.widget-view+json": {
       "model_id": "6d440e757e6949f5a3f0c60d06c727e3",
       "version_major": 2,
       "version_minor": 0
      },
      "text/plain": [
       "  0%|          | 0/10000 [00:00<?, ?it/s]"
      ]
     },
     "metadata": {},
     "output_type": "display_data"
    },
    {
     "name": "stdout",
     "output_type": "stream",
     "text": [
      "\n",
      " Early Stopping / epoch: 72 loss: 0.014613\n",
      "----------------------------------------------------------------------------------------------------------\n",
      "lr: 0.001  patience: 20  num_layers: 2  batch_size: 128  hidden_size: 16  dropout: 0.25 criterion: <function criterion3 at 0x000001C7862F7880>\n"
     ]
    },
    {
     "data": {
      "application/vnd.jupyter.widget-view+json": {
       "model_id": "67dfd50160ff47f7b2861594ada7457a",
       "version_major": 2,
       "version_minor": 0
      },
      "text/plain": [
       "  0%|          | 0/10000 [00:00<?, ?it/s]"
      ]
     },
     "metadata": {},
     "output_type": "display_data"
    },
    {
     "name": "stdout",
     "output_type": "stream",
     "text": [
      "\n",
      " Early Stopping / epoch: 93 loss: 0.002090\n",
      "----------------------------------------------------------------------------------------------------------\n",
      "lr: 0.001  patience: 20  num_layers: 2  batch_size: 128  hidden_size: 16  dropout: 0.5 criterion: MSELoss()\n"
     ]
    },
    {
     "data": {
      "application/vnd.jupyter.widget-view+json": {
       "model_id": "1112b8086edf47559eeff333d352161c",
       "version_major": 2,
       "version_minor": 0
      },
      "text/plain": [
       "  0%|          | 0/10000 [00:00<?, ?it/s]"
      ]
     },
     "metadata": {},
     "output_type": "display_data"
    },
    {
     "name": "stdout",
     "output_type": "stream",
     "text": [
      "\n",
      " Early Stopping / epoch: 281 loss: 0.000798\n",
      "----------------------------------------------------------------------------------------------------------\n",
      "lr: 0.001  patience: 20  num_layers: 2  batch_size: 128  hidden_size: 16  dropout: 0.5 criterion: <function criterion2 at 0x000001C7862F77F0>\n"
     ]
    },
    {
     "data": {
      "application/vnd.jupyter.widget-view+json": {
       "model_id": "138234cdb2b8404caa43199db522bad0",
       "version_major": 2,
       "version_minor": 0
      },
      "text/plain": [
       "  0%|          | 0/10000 [00:00<?, ?it/s]"
      ]
     },
     "metadata": {},
     "output_type": "display_data"
    },
    {
     "name": "stdout",
     "output_type": "stream",
     "text": [
      "\n",
      " Early Stopping / epoch: 167 loss: 0.012126\n",
      "----------------------------------------------------------------------------------------------------------\n",
      "lr: 0.001  patience: 20  num_layers: 2  batch_size: 128  hidden_size: 16  dropout: 0.5 criterion: <function criterion3 at 0x000001C7862F7880>\n"
     ]
    },
    {
     "data": {
      "application/vnd.jupyter.widget-view+json": {
       "model_id": "fef61ef0fb2c4d369ff89ef06b4b287d",
       "version_major": 2,
       "version_minor": 0
      },
      "text/plain": [
       "  0%|          | 0/10000 [00:00<?, ?it/s]"
      ]
     },
     "metadata": {},
     "output_type": "display_data"
    },
    {
     "name": "stdout",
     "output_type": "stream",
     "text": [
      "\n",
      " Early Stopping / epoch: 100 loss: 0.002056\n",
      "----------------------------------------------------------------------------------------------------------\n",
      "lr: 0.001  patience: 20  num_layers: 2  batch_size: 128  hidden_size: 32  dropout: 0.25 criterion: MSELoss()\n"
     ]
    },
    {
     "data": {
      "application/vnd.jupyter.widget-view+json": {
       "model_id": "f8dcf44475f9413dae6577a1a7cf8d55",
       "version_major": 2,
       "version_minor": 0
      },
      "text/plain": [
       "  0%|          | 0/10000 [00:00<?, ?it/s]"
      ]
     },
     "metadata": {},
     "output_type": "display_data"
    },
    {
     "name": "stdout",
     "output_type": "stream",
     "text": [
      "\n",
      " Early Stopping / epoch: 176 loss: 0.000569\n",
      "----------------------------------------------------------------------------------------------------------\n",
      "lr: 0.001  patience: 20  num_layers: 2  batch_size: 128  hidden_size: 32  dropout: 0.25 criterion: <function criterion2 at 0x000001C7862F77F0>\n"
     ]
    },
    {
     "data": {
      "application/vnd.jupyter.widget-view+json": {
       "model_id": "050c05c04f5f42d9ab67c15964c137c1",
       "version_major": 2,
       "version_minor": 0
      },
      "text/plain": [
       "  0%|          | 0/10000 [00:00<?, ?it/s]"
      ]
     },
     "metadata": {},
     "output_type": "display_data"
    },
    {
     "name": "stdout",
     "output_type": "stream",
     "text": [
      "\n",
      " Early Stopping / epoch: 69 loss: 0.012612\n",
      "----------------------------------------------------------------------------------------------------------\n",
      "lr: 0.001  patience: 20  num_layers: 2  batch_size: 128  hidden_size: 32  dropout: 0.25 criterion: <function criterion3 at 0x000001C7862F7880>\n"
     ]
    },
    {
     "data": {
      "application/vnd.jupyter.widget-view+json": {
       "model_id": "9c923331e0ad4b23a4d09227a8560f4a",
       "version_major": 2,
       "version_minor": 0
      },
      "text/plain": [
       "  0%|          | 0/10000 [00:00<?, ?it/s]"
      ]
     },
     "metadata": {},
     "output_type": "display_data"
    },
    {
     "name": "stdout",
     "output_type": "stream",
     "text": [
      "\n",
      " Early Stopping / epoch: 164 loss: 0.001976\n",
      "----------------------------------------------------------------------------------------------------------\n",
      "lr: 0.001  patience: 20  num_layers: 2  batch_size: 128  hidden_size: 32  dropout: 0.5 criterion: MSELoss()\n"
     ]
    },
    {
     "data": {
      "application/vnd.jupyter.widget-view+json": {
       "model_id": "d00915a76e0e4ecbb99afccecd87c669",
       "version_major": 2,
       "version_minor": 0
      },
      "text/plain": [
       "  0%|          | 0/10000 [00:00<?, ?it/s]"
      ]
     },
     "metadata": {},
     "output_type": "display_data"
    },
    {
     "name": "stdout",
     "output_type": "stream",
     "text": [
      "\n",
      " Early Stopping / epoch: 92 loss: 0.001060\n",
      "----------------------------------------------------------------------------------------------------------\n",
      "lr: 0.001  patience: 20  num_layers: 2  batch_size: 128  hidden_size: 32  dropout: 0.5 criterion: <function criterion2 at 0x000001C7862F77F0>\n"
     ]
    },
    {
     "data": {
      "application/vnd.jupyter.widget-view+json": {
       "model_id": "d3f65952b06b44f888d1902ad79e7fac",
       "version_major": 2,
       "version_minor": 0
      },
      "text/plain": [
       "  0%|          | 0/10000 [00:00<?, ?it/s]"
      ]
     },
     "metadata": {},
     "output_type": "display_data"
    },
    {
     "name": "stdout",
     "output_type": "stream",
     "text": [
      "\n",
      " Early Stopping / epoch: 206 loss: 0.010200\n",
      "----------------------------------------------------------------------------------------------------------\n",
      "lr: 0.001  patience: 20  num_layers: 2  batch_size: 128  hidden_size: 32  dropout: 0.5 criterion: <function criterion3 at 0x000001C7862F7880>\n"
     ]
    },
    {
     "data": {
      "application/vnd.jupyter.widget-view+json": {
       "model_id": "86767a2461aa42f7bf4728c79934e4f8",
       "version_major": 2,
       "version_minor": 0
      },
      "text/plain": [
       "  0%|          | 0/10000 [00:00<?, ?it/s]"
      ]
     },
     "metadata": {},
     "output_type": "display_data"
    },
    {
     "name": "stdout",
     "output_type": "stream",
     "text": [
      "\n",
      " Early Stopping / epoch: 211 loss: 0.001473\n",
      "----------------------------------------------------------------------------------------------------------\n",
      "lr: 0.001  patience: 20  num_layers: 4  batch_size: 32  hidden_size: 8  dropout: 0.25 criterion: MSELoss()\n"
     ]
    },
    {
     "data": {
      "application/vnd.jupyter.widget-view+json": {
       "model_id": "3358c91272c74c638de7dd7b2d624558",
       "version_major": 2,
       "version_minor": 0
      },
      "text/plain": [
       "  0%|          | 0/10000 [00:00<?, ?it/s]"
      ]
     },
     "metadata": {},
     "output_type": "display_data"
    },
    {
     "name": "stdout",
     "output_type": "stream",
     "text": [
      "\n",
      " Early Stopping / epoch: 171 loss: 0.001747\n",
      "----------------------------------------------------------------------------------------------------------\n",
      "lr: 0.001  patience: 20  num_layers: 4  batch_size: 32  hidden_size: 8  dropout: 0.25 criterion: <function criterion2 at 0x000001C7862F77F0>\n"
     ]
    },
    {
     "data": {
      "application/vnd.jupyter.widget-view+json": {
       "model_id": "968a5fea269f47e18f6dd48fa701ec50",
       "version_major": 2,
       "version_minor": 0
      },
      "text/plain": [
       "  0%|          | 0/10000 [00:00<?, ?it/s]"
      ]
     },
     "metadata": {},
     "output_type": "display_data"
    },
    {
     "name": "stdout",
     "output_type": "stream",
     "text": [
      "\n",
      " Early Stopping / epoch: 131 loss: 0.017575\n",
      "----------------------------------------------------------------------------------------------------------\n",
      "lr: 0.001  patience: 20  num_layers: 4  batch_size: 32  hidden_size: 8  dropout: 0.25 criterion: <function criterion3 at 0x000001C7862F7880>\n"
     ]
    },
    {
     "data": {
      "application/vnd.jupyter.widget-view+json": {
       "model_id": "267d258984a947d1abe4a1312f954d2e",
       "version_major": 2,
       "version_minor": 0
      },
      "text/plain": [
       "  0%|          | 0/10000 [00:00<?, ?it/s]"
      ]
     },
     "metadata": {},
     "output_type": "display_data"
    },
    {
     "name": "stdout",
     "output_type": "stream",
     "text": [
      "\n",
      " Early Stopping / epoch: 47 loss: 0.007388\n",
      "----------------------------------------------------------------------------------------------------------\n",
      "lr: 0.001  patience: 20  num_layers: 4  batch_size: 32  hidden_size: 8  dropout: 0.5 criterion: MSELoss()\n"
     ]
    },
    {
     "data": {
      "application/vnd.jupyter.widget-view+json": {
       "model_id": "9fc64289a60a4406a1d0031cc7e8d2b1",
       "version_major": 2,
       "version_minor": 0
      },
      "text/plain": [
       "  0%|          | 0/10000 [00:00<?, ?it/s]"
      ]
     },
     "metadata": {},
     "output_type": "display_data"
    },
    {
     "name": "stdout",
     "output_type": "stream",
     "text": [
      "\n",
      " Early Stopping / epoch: 148 loss: 0.001984\n",
      "----------------------------------------------------------------------------------------------------------\n",
      "lr: 0.001  patience: 20  num_layers: 4  batch_size: 32  hidden_size: 8  dropout: 0.5 criterion: <function criterion2 at 0x000001C7862F77F0>\n"
     ]
    },
    {
     "data": {
      "application/vnd.jupyter.widget-view+json": {
       "model_id": "dcd2e384f4804a0497e188ad5583d012",
       "version_major": 2,
       "version_minor": 0
      },
      "text/plain": [
       "  0%|          | 0/10000 [00:00<?, ?it/s]"
      ]
     },
     "metadata": {},
     "output_type": "display_data"
    },
    {
     "name": "stdout",
     "output_type": "stream",
     "text": [
      "\n",
      " Early Stopping / epoch: 183 loss: 0.029118\n",
      "----------------------------------------------------------------------------------------------------------\n",
      "lr: 0.001  patience: 20  num_layers: 4  batch_size: 32  hidden_size: 8  dropout: 0.5 criterion: <function criterion3 at 0x000001C7862F7880>\n"
     ]
    },
    {
     "data": {
      "application/vnd.jupyter.widget-view+json": {
       "model_id": "21d60d5225c54847b2e3c32178df42bd",
       "version_major": 2,
       "version_minor": 0
      },
      "text/plain": [
       "  0%|          | 0/10000 [00:00<?, ?it/s]"
      ]
     },
     "metadata": {},
     "output_type": "display_data"
    },
    {
     "name": "stdout",
     "output_type": "stream",
     "text": [
      "\n",
      " Early Stopping / epoch: 94 loss: 0.007164\n",
      "----------------------------------------------------------------------------------------------------------\n",
      "lr: 0.001  patience: 20  num_layers: 4  batch_size: 32  hidden_size: 16  dropout: 0.25 criterion: MSELoss()\n"
     ]
    },
    {
     "data": {
      "application/vnd.jupyter.widget-view+json": {
       "model_id": "897c82c43cac4a4e9f0a84d14cbd661c",
       "version_major": 2,
       "version_minor": 0
      },
      "text/plain": [
       "  0%|          | 0/10000 [00:00<?, ?it/s]"
      ]
     },
     "metadata": {},
     "output_type": "display_data"
    },
    {
     "name": "stdout",
     "output_type": "stream",
     "text": [
      "\n",
      " Early Stopping / epoch: 68 loss: 0.002101\n",
      "----------------------------------------------------------------------------------------------------------\n",
      "lr: 0.001  patience: 20  num_layers: 4  batch_size: 32  hidden_size: 16  dropout: 0.25 criterion: <function criterion2 at 0x000001C7862F77F0>\n"
     ]
    },
    {
     "data": {
      "application/vnd.jupyter.widget-view+json": {
       "model_id": "89f8c037ad634f5b9b639ada019ccb49",
       "version_major": 2,
       "version_minor": 0
      },
      "text/plain": [
       "  0%|          | 0/10000 [00:00<?, ?it/s]"
      ]
     },
     "metadata": {},
     "output_type": "display_data"
    },
    {
     "name": "stdout",
     "output_type": "stream",
     "text": [
      "\n",
      " Early Stopping / epoch: 67 loss: 0.014673\n",
      "----------------------------------------------------------------------------------------------------------\n",
      "lr: 0.001  patience: 20  num_layers: 4  batch_size: 32  hidden_size: 16  dropout: 0.25 criterion: <function criterion3 at 0x000001C7862F7880>\n"
     ]
    },
    {
     "data": {
      "application/vnd.jupyter.widget-view+json": {
       "model_id": "96cbb6426fab4950bb1325dcbfd68f65",
       "version_major": 2,
       "version_minor": 0
      },
      "text/plain": [
       "  0%|          | 0/10000 [00:00<?, ?it/s]"
      ]
     },
     "metadata": {},
     "output_type": "display_data"
    },
    {
     "name": "stdout",
     "output_type": "stream",
     "text": [
      "\n",
      " Early Stopping / epoch: 191 loss: 0.004480\n",
      "----------------------------------------------------------------------------------------------------------\n",
      "lr: 0.001  patience: 20  num_layers: 4  batch_size: 32  hidden_size: 16  dropout: 0.5 criterion: MSELoss()\n"
     ]
    },
    {
     "data": {
      "application/vnd.jupyter.widget-view+json": {
       "model_id": "45694717f1d24caa8901e55a79aaef8a",
       "version_major": 2,
       "version_minor": 0
      },
      "text/plain": [
       "  0%|          | 0/10000 [00:00<?, ?it/s]"
      ]
     },
     "metadata": {},
     "output_type": "display_data"
    },
    {
     "name": "stdout",
     "output_type": "stream",
     "text": [
      "\n",
      " Early Stopping / epoch: 186 loss: 0.001399\n",
      "----------------------------------------------------------------------------------------------------------\n",
      "lr: 0.001  patience: 20  num_layers: 4  batch_size: 32  hidden_size: 16  dropout: 0.5 criterion: <function criterion2 at 0x000001C7862F77F0>\n"
     ]
    },
    {
     "data": {
      "application/vnd.jupyter.widget-view+json": {
       "model_id": "de53746302484ff88af375d49b9fbce5",
       "version_major": 2,
       "version_minor": 0
      },
      "text/plain": [
       "  0%|          | 0/10000 [00:00<?, ?it/s]"
      ]
     },
     "metadata": {},
     "output_type": "display_data"
    },
    {
     "name": "stdout",
     "output_type": "stream",
     "text": [
      "\n",
      " Early Stopping / epoch: 86 loss: 0.022076\n",
      "----------------------------------------------------------------------------------------------------------\n",
      "lr: 0.001  patience: 20  num_layers: 4  batch_size: 32  hidden_size: 16  dropout: 0.5 criterion: <function criterion3 at 0x000001C7862F7880>\n"
     ]
    },
    {
     "data": {
      "application/vnd.jupyter.widget-view+json": {
       "model_id": "5798fb36f6474043b3fa9494cb1635e5",
       "version_major": 2,
       "version_minor": 0
      },
      "text/plain": [
       "  0%|          | 0/10000 [00:00<?, ?it/s]"
      ]
     },
     "metadata": {},
     "output_type": "display_data"
    },
    {
     "name": "stdout",
     "output_type": "stream",
     "text": [
      "\n",
      " Early Stopping / epoch: 102 loss: 0.005182\n",
      "----------------------------------------------------------------------------------------------------------\n",
      "lr: 0.001  patience: 20  num_layers: 4  batch_size: 32  hidden_size: 32  dropout: 0.25 criterion: MSELoss()\n"
     ]
    },
    {
     "data": {
      "application/vnd.jupyter.widget-view+json": {
       "model_id": "d1789d616f264f71a705167c28ec6ea9",
       "version_major": 2,
       "version_minor": 0
      },
      "text/plain": [
       "  0%|          | 0/10000 [00:00<?, ?it/s]"
      ]
     },
     "metadata": {},
     "output_type": "display_data"
    },
    {
     "name": "stdout",
     "output_type": "stream",
     "text": [
      "\n",
      " Early Stopping / epoch: 133 loss: 0.000791\n",
      "----------------------------------------------------------------------------------------------------------\n",
      "lr: 0.001  patience: 20  num_layers: 4  batch_size: 32  hidden_size: 32  dropout: 0.25 criterion: <function criterion2 at 0x000001C7862F77F0>\n"
     ]
    },
    {
     "data": {
      "application/vnd.jupyter.widget-view+json": {
       "model_id": "1773d66406d14a3ba8b0f636d43da1d6",
       "version_major": 2,
       "version_minor": 0
      },
      "text/plain": [
       "  0%|          | 0/10000 [00:00<?, ?it/s]"
      ]
     },
     "metadata": {},
     "output_type": "display_data"
    },
    {
     "name": "stdout",
     "output_type": "stream",
     "text": [
      "\n",
      " Early Stopping / epoch: 56 loss: 0.016249\n",
      "----------------------------------------------------------------------------------------------------------\n",
      "lr: 0.001  patience: 20  num_layers: 4  batch_size: 32  hidden_size: 32  dropout: 0.25 criterion: <function criterion3 at 0x000001C7862F7880>\n"
     ]
    },
    {
     "data": {
      "application/vnd.jupyter.widget-view+json": {
       "model_id": "4afafcd65eda4bfea5c6566f2e73cc40",
       "version_major": 2,
       "version_minor": 0
      },
      "text/plain": [
       "  0%|          | 0/10000 [00:00<?, ?it/s]"
      ]
     },
     "metadata": {},
     "output_type": "display_data"
    },
    {
     "name": "stdout",
     "output_type": "stream",
     "text": [
      "\n",
      " Early Stopping / epoch: 105 loss: 0.003915\n",
      "----------------------------------------------------------------------------------------------------------\n",
      "lr: 0.001  patience: 20  num_layers: 4  batch_size: 32  hidden_size: 32  dropout: 0.5 criterion: MSELoss()\n"
     ]
    },
    {
     "data": {
      "application/vnd.jupyter.widget-view+json": {
       "model_id": "b9aa740182d34eee808b76c5c9abf2c8",
       "version_major": 2,
       "version_minor": 0
      },
      "text/plain": [
       "  0%|          | 0/10000 [00:00<?, ?it/s]"
      ]
     },
     "metadata": {},
     "output_type": "display_data"
    },
    {
     "name": "stdout",
     "output_type": "stream",
     "text": [
      "\n",
      " Early Stopping / epoch: 192 loss: 0.000830\n",
      "----------------------------------------------------------------------------------------------------------\n",
      "lr: 0.001  patience: 20  num_layers: 4  batch_size: 32  hidden_size: 32  dropout: 0.5 criterion: <function criterion2 at 0x000001C7862F77F0>\n"
     ]
    },
    {
     "data": {
      "application/vnd.jupyter.widget-view+json": {
       "model_id": "2973d05ed74b4ad0b6f9bf16e6d70ea2",
       "version_major": 2,
       "version_minor": 0
      },
      "text/plain": [
       "  0%|          | 0/10000 [00:00<?, ?it/s]"
      ]
     },
     "metadata": {},
     "output_type": "display_data"
    },
    {
     "name": "stdout",
     "output_type": "stream",
     "text": [
      "\n",
      " Early Stopping / epoch: 80 loss: 0.024020\n",
      "----------------------------------------------------------------------------------------------------------\n",
      "lr: 0.001  patience: 20  num_layers: 4  batch_size: 32  hidden_size: 32  dropout: 0.5 criterion: <function criterion3 at 0x000001C7862F7880>\n"
     ]
    },
    {
     "data": {
      "application/vnd.jupyter.widget-view+json": {
       "model_id": "7990e870759f40b482c0091a152e35b1",
       "version_major": 2,
       "version_minor": 0
      },
      "text/plain": [
       "  0%|          | 0/10000 [00:00<?, ?it/s]"
      ]
     },
     "metadata": {},
     "output_type": "display_data"
    },
    {
     "name": "stdout",
     "output_type": "stream",
     "text": [
      "\n",
      " Early Stopping / epoch: 99 loss: 0.004719\n",
      "----------------------------------------------------------------------------------------------------------\n",
      "lr: 0.001  patience: 20  num_layers: 4  batch_size: 64  hidden_size: 8  dropout: 0.25 criterion: MSELoss()\n"
     ]
    },
    {
     "data": {
      "application/vnd.jupyter.widget-view+json": {
       "model_id": "baf451d0069b4425a7eb1bfb39de3416",
       "version_major": 2,
       "version_minor": 0
      },
      "text/plain": [
       "  0%|          | 0/10000 [00:00<?, ?it/s]"
      ]
     },
     "metadata": {},
     "output_type": "display_data"
    },
    {
     "name": "stdout",
     "output_type": "stream",
     "text": [
      "\n",
      " Early Stopping / epoch: 254 loss: 0.001430\n",
      "----------------------------------------------------------------------------------------------------------\n",
      "lr: 0.001  patience: 20  num_layers: 4  batch_size: 64  hidden_size: 8  dropout: 0.25 criterion: <function criterion2 at 0x000001C7862F77F0>\n"
     ]
    },
    {
     "data": {
      "application/vnd.jupyter.widget-view+json": {
       "model_id": "843a7a58929c4a4da245f7fb7a985e60",
       "version_major": 2,
       "version_minor": 0
      },
      "text/plain": [
       "  0%|          | 0/10000 [00:00<?, ?it/s]"
      ]
     },
     "metadata": {},
     "output_type": "display_data"
    },
    {
     "name": "stdout",
     "output_type": "stream",
     "text": [
      "\n",
      " Early Stopping / epoch: 213 loss: 0.025562\n",
      "----------------------------------------------------------------------------------------------------------\n",
      "lr: 0.001  patience: 20  num_layers: 4  batch_size: 64  hidden_size: 8  dropout: 0.25 criterion: <function criterion3 at 0x000001C7862F7880>\n"
     ]
    },
    {
     "data": {
      "application/vnd.jupyter.widget-view+json": {
       "model_id": "4600f83aa17642db9e3f87a2c121d75e",
       "version_major": 2,
       "version_minor": 0
      },
      "text/plain": [
       "  0%|          | 0/10000 [00:00<?, ?it/s]"
      ]
     },
     "metadata": {},
     "output_type": "display_data"
    },
    {
     "name": "stdout",
     "output_type": "stream",
     "text": [
      "\n",
      " Early Stopping / epoch: 154 loss: 0.002549\n",
      "----------------------------------------------------------------------------------------------------------\n",
      "lr: 0.001  patience: 20  num_layers: 4  batch_size: 64  hidden_size: 8  dropout: 0.5 criterion: MSELoss()\n"
     ]
    },
    {
     "data": {
      "application/vnd.jupyter.widget-view+json": {
       "model_id": "e27a70b35a074bf5a8b5e1c59d7127ba",
       "version_major": 2,
       "version_minor": 0
      },
      "text/plain": [
       "  0%|          | 0/10000 [00:00<?, ?it/s]"
      ]
     },
     "metadata": {},
     "output_type": "display_data"
    },
    {
     "name": "stdout",
     "output_type": "stream",
     "text": [
      "\n",
      " Early Stopping / epoch: 233 loss: 0.001584\n",
      "----------------------------------------------------------------------------------------------------------\n",
      "lr: 0.001  patience: 20  num_layers: 4  batch_size: 64  hidden_size: 8  dropout: 0.5 criterion: <function criterion2 at 0x000001C7862F77F0>\n"
     ]
    },
    {
     "data": {
      "application/vnd.jupyter.widget-view+json": {
       "model_id": "b181ba344d824157aa057b06769014dd",
       "version_major": 2,
       "version_minor": 0
      },
      "text/plain": [
       "  0%|          | 0/10000 [00:00<?, ?it/s]"
      ]
     },
     "metadata": {},
     "output_type": "display_data"
    },
    {
     "name": "stdout",
     "output_type": "stream",
     "text": [
      "\n",
      " Early Stopping / epoch: 179 loss: 0.013727\n",
      "----------------------------------------------------------------------------------------------------------\n",
      "lr: 0.001  patience: 20  num_layers: 4  batch_size: 64  hidden_size: 8  dropout: 0.5 criterion: <function criterion3 at 0x000001C7862F7880>\n"
     ]
    },
    {
     "data": {
      "application/vnd.jupyter.widget-view+json": {
       "model_id": "10fd55a2196543948b781559289ec6e5",
       "version_major": 2,
       "version_minor": 0
      },
      "text/plain": [
       "  0%|          | 0/10000 [00:00<?, ?it/s]"
      ]
     },
     "metadata": {},
     "output_type": "display_data"
    },
    {
     "name": "stdout",
     "output_type": "stream",
     "text": [
      "\n",
      " Early Stopping / epoch: 155 loss: 0.003777\n",
      "----------------------------------------------------------------------------------------------------------\n",
      "lr: 0.001  patience: 20  num_layers: 4  batch_size: 64  hidden_size: 16  dropout: 0.25 criterion: MSELoss()\n"
     ]
    },
    {
     "data": {
      "application/vnd.jupyter.widget-view+json": {
       "model_id": "92fd760b24b745a0b0f5c833f814d150",
       "version_major": 2,
       "version_minor": 0
      },
      "text/plain": [
       "  0%|          | 0/10000 [00:00<?, ?it/s]"
      ]
     },
     "metadata": {},
     "output_type": "display_data"
    },
    {
     "name": "stdout",
     "output_type": "stream",
     "text": [
      "\n",
      " Early Stopping / epoch: 286 loss: 0.000744\n",
      "----------------------------------------------------------------------------------------------------------\n",
      "lr: 0.001  patience: 20  num_layers: 4  batch_size: 64  hidden_size: 16  dropout: 0.25 criterion: <function criterion2 at 0x000001C7862F77F0>\n"
     ]
    },
    {
     "data": {
      "application/vnd.jupyter.widget-view+json": {
       "model_id": "745f876415ac428f877bd4dea703ef1c",
       "version_major": 2,
       "version_minor": 0
      },
      "text/plain": [
       "  0%|          | 0/10000 [00:00<?, ?it/s]"
      ]
     },
     "metadata": {},
     "output_type": "display_data"
    },
    {
     "name": "stdout",
     "output_type": "stream",
     "text": [
      "\n",
      " Early Stopping / epoch: 193 loss: 0.013772\n",
      "----------------------------------------------------------------------------------------------------------\n",
      "lr: 0.001  patience: 20  num_layers: 4  batch_size: 64  hidden_size: 16  dropout: 0.25 criterion: <function criterion3 at 0x000001C7862F7880>\n"
     ]
    },
    {
     "data": {
      "application/vnd.jupyter.widget-view+json": {
       "model_id": "9d43602c48d5480e93bec5bcaa72e05d",
       "version_major": 2,
       "version_minor": 0
      },
      "text/plain": [
       "  0%|          | 0/10000 [00:00<?, ?it/s]"
      ]
     },
     "metadata": {},
     "output_type": "display_data"
    },
    {
     "name": "stdout",
     "output_type": "stream",
     "text": [
      "\n",
      " Early Stopping / epoch: 151 loss: 0.003095\n",
      "----------------------------------------------------------------------------------------------------------\n",
      "lr: 0.001  patience: 20  num_layers: 4  batch_size: 64  hidden_size: 16  dropout: 0.5 criterion: MSELoss()\n"
     ]
    },
    {
     "data": {
      "application/vnd.jupyter.widget-view+json": {
       "model_id": "720e48d061ab42eaa5aefb66fbb641f1",
       "version_major": 2,
       "version_minor": 0
      },
      "text/plain": [
       "  0%|          | 0/10000 [00:00<?, ?it/s]"
      ]
     },
     "metadata": {},
     "output_type": "display_data"
    },
    {
     "name": "stdout",
     "output_type": "stream",
     "text": [
      "\n",
      " Early Stopping / epoch: 121 loss: 0.001791\n",
      "----------------------------------------------------------------------------------------------------------\n",
      "lr: 0.001  patience: 20  num_layers: 4  batch_size: 64  hidden_size: 16  dropout: 0.5 criterion: <function criterion2 at 0x000001C7862F77F0>\n"
     ]
    },
    {
     "data": {
      "application/vnd.jupyter.widget-view+json": {
       "model_id": "51676034c5df487d830e3494b46490a0",
       "version_major": 2,
       "version_minor": 0
      },
      "text/plain": [
       "  0%|          | 0/10000 [00:00<?, ?it/s]"
      ]
     },
     "metadata": {},
     "output_type": "display_data"
    },
    {
     "name": "stdout",
     "output_type": "stream",
     "text": [
      "\n",
      " Early Stopping / epoch: 259 loss: 0.013201\n",
      "----------------------------------------------------------------------------------------------------------\n",
      "lr: 0.001  patience: 20  num_layers: 4  batch_size: 64  hidden_size: 16  dropout: 0.5 criterion: <function criterion3 at 0x000001C7862F7880>\n"
     ]
    },
    {
     "data": {
      "application/vnd.jupyter.widget-view+json": {
       "model_id": "7e20691d546347a89c76da60f9ef21bf",
       "version_major": 2,
       "version_minor": 0
      },
      "text/plain": [
       "  0%|          | 0/10000 [00:00<?, ?it/s]"
      ]
     },
     "metadata": {},
     "output_type": "display_data"
    },
    {
     "name": "stdout",
     "output_type": "stream",
     "text": [
      "\n",
      " Early Stopping / epoch: 139 loss: 0.002901\n",
      "----------------------------------------------------------------------------------------------------------\n",
      "lr: 0.001  patience: 20  num_layers: 4  batch_size: 64  hidden_size: 32  dropout: 0.25 criterion: MSELoss()\n"
     ]
    },
    {
     "data": {
      "application/vnd.jupyter.widget-view+json": {
       "model_id": "130ad22da32441c585064920c5ae9ad5",
       "version_major": 2,
       "version_minor": 0
      },
      "text/plain": [
       "  0%|          | 0/10000 [00:00<?, ?it/s]"
      ]
     },
     "metadata": {},
     "output_type": "display_data"
    },
    {
     "name": "stdout",
     "output_type": "stream",
     "text": [
      "\n",
      " Early Stopping / epoch: 91 loss: 0.001258\n",
      "----------------------------------------------------------------------------------------------------------\n",
      "lr: 0.001  patience: 20  num_layers: 4  batch_size: 64  hidden_size: 32  dropout: 0.25 criterion: <function criterion2 at 0x000001C7862F77F0>\n"
     ]
    },
    {
     "data": {
      "application/vnd.jupyter.widget-view+json": {
       "model_id": "3e2b6d5b817745a8abf8b1f725882d29",
       "version_major": 2,
       "version_minor": 0
      },
      "text/plain": [
       "  0%|          | 0/10000 [00:00<?, ?it/s]"
      ]
     },
     "metadata": {},
     "output_type": "display_data"
    },
    {
     "name": "stdout",
     "output_type": "stream",
     "text": [
      "\n",
      " Early Stopping / epoch: 62 loss: 0.018408\n",
      "----------------------------------------------------------------------------------------------------------\n",
      "lr: 0.001  patience: 20  num_layers: 4  batch_size: 64  hidden_size: 32  dropout: 0.25 criterion: <function criterion3 at 0x000001C7862F7880>\n"
     ]
    },
    {
     "data": {
      "application/vnd.jupyter.widget-view+json": {
       "model_id": "4b5c8d3e89d24c9fb33d5333edc8e34e",
       "version_major": 2,
       "version_minor": 0
      },
      "text/plain": [
       "  0%|          | 0/10000 [00:00<?, ?it/s]"
      ]
     },
     "metadata": {},
     "output_type": "display_data"
    },
    {
     "name": "stdout",
     "output_type": "stream",
     "text": [
      "\n",
      " Early Stopping / epoch: 83 loss: 0.003099\n",
      "----------------------------------------------------------------------------------------------------------\n",
      "lr: 0.001  patience: 20  num_layers: 4  batch_size: 64  hidden_size: 32  dropout: 0.5 criterion: MSELoss()\n"
     ]
    },
    {
     "data": {
      "application/vnd.jupyter.widget-view+json": {
       "model_id": "de446ecb87444a0dad6aa67667445fbb",
       "version_major": 2,
       "version_minor": 0
      },
      "text/plain": [
       "  0%|          | 0/10000 [00:00<?, ?it/s]"
      ]
     },
     "metadata": {},
     "output_type": "display_data"
    },
    {
     "name": "stdout",
     "output_type": "stream",
     "text": [
      "\n",
      " Early Stopping / epoch: 103 loss: 0.001417\n",
      "----------------------------------------------------------------------------------------------------------\n",
      "lr: 0.001  patience: 20  num_layers: 4  batch_size: 64  hidden_size: 32  dropout: 0.5 criterion: <function criterion2 at 0x000001C7862F77F0>\n"
     ]
    },
    {
     "data": {
      "application/vnd.jupyter.widget-view+json": {
       "model_id": "bd4dbf186601442b890ad3d54bee2166",
       "version_major": 2,
       "version_minor": 0
      },
      "text/plain": [
       "  0%|          | 0/10000 [00:00<?, ?it/s]"
      ]
     },
     "metadata": {},
     "output_type": "display_data"
    },
    {
     "name": "stdout",
     "output_type": "stream",
     "text": [
      "\n",
      " Early Stopping / epoch: 77 loss: 0.015852\n",
      "----------------------------------------------------------------------------------------------------------\n",
      "lr: 0.001  patience: 20  num_layers: 4  batch_size: 64  hidden_size: 32  dropout: 0.5 criterion: <function criterion3 at 0x000001C7862F7880>\n"
     ]
    },
    {
     "data": {
      "application/vnd.jupyter.widget-view+json": {
       "model_id": "f100bb7ef51a42cda02553ef594c0701",
       "version_major": 2,
       "version_minor": 0
      },
      "text/plain": [
       "  0%|          | 0/10000 [00:00<?, ?it/s]"
      ]
     },
     "metadata": {},
     "output_type": "display_data"
    },
    {
     "name": "stdout",
     "output_type": "stream",
     "text": [
      "\n",
      " Early Stopping / epoch: 91 loss: 0.004276\n",
      "----------------------------------------------------------------------------------------------------------\n",
      "lr: 0.001  patience: 20  num_layers: 4  batch_size: 128  hidden_size: 8  dropout: 0.25 criterion: MSELoss()\n"
     ]
    },
    {
     "data": {
      "application/vnd.jupyter.widget-view+json": {
       "model_id": "f4404e1771c34b1384bc2486812091a9",
       "version_major": 2,
       "version_minor": 0
      },
      "text/plain": [
       "  0%|          | 0/10000 [00:00<?, ?it/s]"
      ]
     },
     "metadata": {},
     "output_type": "display_data"
    },
    {
     "name": "stdout",
     "output_type": "stream",
     "text": [
      "\n",
      " Early Stopping / epoch: 226 loss: 0.001290\n",
      "----------------------------------------------------------------------------------------------------------\n",
      "lr: 0.001  patience: 20  num_layers: 4  batch_size: 128  hidden_size: 8  dropout: 0.25 criterion: <function criterion2 at 0x000001C7862F77F0>\n"
     ]
    },
    {
     "data": {
      "application/vnd.jupyter.widget-view+json": {
       "model_id": "1dbe9f63c8e24f538b99dc4064613b11",
       "version_major": 2,
       "version_minor": 0
      },
      "text/plain": [
       "  0%|          | 0/10000 [00:00<?, ?it/s]"
      ]
     },
     "metadata": {},
     "output_type": "display_data"
    },
    {
     "name": "stdout",
     "output_type": "stream",
     "text": [
      "\n",
      " Early Stopping / epoch: 158 loss: 0.017681\n",
      "----------------------------------------------------------------------------------------------------------\n",
      "lr: 0.001  patience: 20  num_layers: 4  batch_size: 128  hidden_size: 8  dropout: 0.25 criterion: <function criterion3 at 0x000001C7862F7880>\n"
     ]
    },
    {
     "data": {
      "application/vnd.jupyter.widget-view+json": {
       "model_id": "423bb80e77de44528e0a20752967dcf6",
       "version_major": 2,
       "version_minor": 0
      },
      "text/plain": [
       "  0%|          | 0/10000 [00:00<?, ?it/s]"
      ]
     },
     "metadata": {},
     "output_type": "display_data"
    },
    {
     "name": "stdout",
     "output_type": "stream",
     "text": [
      "\n",
      " Early Stopping / epoch: 137 loss: 0.002315\n",
      "----------------------------------------------------------------------------------------------------------\n",
      "lr: 0.001  patience: 20  num_layers: 4  batch_size: 128  hidden_size: 8  dropout: 0.5 criterion: MSELoss()\n"
     ]
    },
    {
     "data": {
      "application/vnd.jupyter.widget-view+json": {
       "model_id": "ae546224c9eb4de0b28c9150c725d329",
       "version_major": 2,
       "version_minor": 0
      },
      "text/plain": [
       "  0%|          | 0/10000 [00:00<?, ?it/s]"
      ]
     },
     "metadata": {},
     "output_type": "display_data"
    },
    {
     "name": "stdout",
     "output_type": "stream",
     "text": [
      "\n",
      " Early Stopping / epoch: 147 loss: 0.001851\n",
      "----------------------------------------------------------------------------------------------------------\n",
      "lr: 0.001  patience: 20  num_layers: 4  batch_size: 128  hidden_size: 8  dropout: 0.5 criterion: <function criterion2 at 0x000001C7862F77F0>\n"
     ]
    },
    {
     "data": {
      "application/vnd.jupyter.widget-view+json": {
       "model_id": "fb0b0c5a755542aeb5dbfa92ec4dcc7c",
       "version_major": 2,
       "version_minor": 0
      },
      "text/plain": [
       "  0%|          | 0/10000 [00:00<?, ?it/s]"
      ]
     },
     "metadata": {},
     "output_type": "display_data"
    },
    {
     "name": "stdout",
     "output_type": "stream",
     "text": [
      "\n",
      " Early Stopping / epoch: 245 loss: 0.022945\n",
      "----------------------------------------------------------------------------------------------------------\n",
      "lr: 0.001  patience: 20  num_layers: 4  batch_size: 128  hidden_size: 8  dropout: 0.5 criterion: <function criterion3 at 0x000001C7862F7880>\n"
     ]
    },
    {
     "data": {
      "application/vnd.jupyter.widget-view+json": {
       "model_id": "5fc5df09a2c14f0d80fed7767414695e",
       "version_major": 2,
       "version_minor": 0
      },
      "text/plain": [
       "  0%|          | 0/10000 [00:00<?, ?it/s]"
      ]
     },
     "metadata": {},
     "output_type": "display_data"
    },
    {
     "name": "stdout",
     "output_type": "stream",
     "text": [
      "\n",
      " Early Stopping / epoch: 214 loss: 0.002256\n",
      "----------------------------------------------------------------------------------------------------------\n",
      "lr: 0.001  patience: 20  num_layers: 4  batch_size: 128  hidden_size: 16  dropout: 0.25 criterion: MSELoss()\n"
     ]
    },
    {
     "data": {
      "application/vnd.jupyter.widget-view+json": {
       "model_id": "6fffe02cf6ae4b8396ded9d32f6841f1",
       "version_major": 2,
       "version_minor": 0
      },
      "text/plain": [
       "  0%|          | 0/10000 [00:00<?, ?it/s]"
      ]
     },
     "metadata": {},
     "output_type": "display_data"
    },
    {
     "name": "stdout",
     "output_type": "stream",
     "text": [
      "\n",
      " Early Stopping / epoch: 124 loss: 0.001422\n",
      "----------------------------------------------------------------------------------------------------------\n",
      "lr: 0.001  patience: 20  num_layers: 4  batch_size: 128  hidden_size: 16  dropout: 0.25 criterion: <function criterion2 at 0x000001C7862F77F0>\n"
     ]
    },
    {
     "data": {
      "application/vnd.jupyter.widget-view+json": {
       "model_id": "4aaef48c8c4e4793b69847b451aea3b9",
       "version_major": 2,
       "version_minor": 0
      },
      "text/plain": [
       "  0%|          | 0/10000 [00:00<?, ?it/s]"
      ]
     },
     "metadata": {},
     "output_type": "display_data"
    },
    {
     "name": "stdout",
     "output_type": "stream",
     "text": [
      "\n",
      " Early Stopping / epoch: 166 loss: 0.014386\n",
      "----------------------------------------------------------------------------------------------------------\n",
      "lr: 0.001  patience: 20  num_layers: 4  batch_size: 128  hidden_size: 16  dropout: 0.25 criterion: <function criterion3 at 0x000001C7862F7880>\n"
     ]
    },
    {
     "data": {
      "application/vnd.jupyter.widget-view+json": {
       "model_id": "d703490cc56e42c3aa6c1e4567deb2c0",
       "version_major": 2,
       "version_minor": 0
      },
      "text/plain": [
       "  0%|          | 0/10000 [00:00<?, ?it/s]"
      ]
     },
     "metadata": {},
     "output_type": "display_data"
    },
    {
     "name": "stdout",
     "output_type": "stream",
     "text": [
      "\n",
      " Early Stopping / epoch: 171 loss: 0.002015\n",
      "----------------------------------------------------------------------------------------------------------\n",
      "lr: 0.001  patience: 20  num_layers: 4  batch_size: 128  hidden_size: 16  dropout: 0.5 criterion: MSELoss()\n"
     ]
    },
    {
     "data": {
      "application/vnd.jupyter.widget-view+json": {
       "model_id": "dcc59699d86c4cc6905c47a91e927e61",
       "version_major": 2,
       "version_minor": 0
      },
      "text/plain": [
       "  0%|          | 0/10000 [00:00<?, ?it/s]"
      ]
     },
     "metadata": {},
     "output_type": "display_data"
    },
    {
     "name": "stdout",
     "output_type": "stream",
     "text": [
      "\n",
      " Early Stopping / epoch: 160 loss: 0.001478\n",
      "----------------------------------------------------------------------------------------------------------\n",
      "lr: 0.001  patience: 20  num_layers: 4  batch_size: 128  hidden_size: 16  dropout: 0.5 criterion: <function criterion2 at 0x000001C7862F77F0>\n"
     ]
    },
    {
     "data": {
      "application/vnd.jupyter.widget-view+json": {
       "model_id": "1471f064f64743d18d1deb8739363707",
       "version_major": 2,
       "version_minor": 0
      },
      "text/plain": [
       "  0%|          | 0/10000 [00:00<?, ?it/s]"
      ]
     },
     "metadata": {},
     "output_type": "display_data"
    },
    {
     "name": "stdout",
     "output_type": "stream",
     "text": [
      "\n",
      " Early Stopping / epoch: 135 loss: 0.013076\n",
      "----------------------------------------------------------------------------------------------------------\n",
      "lr: 0.001  patience: 20  num_layers: 4  batch_size: 128  hidden_size: 16  dropout: 0.5 criterion: <function criterion3 at 0x000001C7862F7880>\n"
     ]
    },
    {
     "data": {
      "application/vnd.jupyter.widget-view+json": {
       "model_id": "a0a807cd67be4e22b2e9fc785a3cf81e",
       "version_major": 2,
       "version_minor": 0
      },
      "text/plain": [
       "  0%|          | 0/10000 [00:00<?, ?it/s]"
      ]
     },
     "metadata": {},
     "output_type": "display_data"
    },
    {
     "name": "stdout",
     "output_type": "stream",
     "text": [
      "\n",
      " Early Stopping / epoch: 218 loss: 0.002359\n",
      "----------------------------------------------------------------------------------------------------------\n",
      "lr: 0.001  patience: 20  num_layers: 4  batch_size: 128  hidden_size: 32  dropout: 0.25 criterion: MSELoss()\n"
     ]
    },
    {
     "data": {
      "application/vnd.jupyter.widget-view+json": {
       "model_id": "10c3cc9659c5418481c991c24ebd4c0d",
       "version_major": 2,
       "version_minor": 0
      },
      "text/plain": [
       "  0%|          | 0/10000 [00:00<?, ?it/s]"
      ]
     },
     "metadata": {},
     "output_type": "display_data"
    },
    {
     "name": "stdout",
     "output_type": "stream",
     "text": [
      "\n",
      " Early Stopping / epoch: 188 loss: 0.000665\n",
      "----------------------------------------------------------------------------------------------------------\n",
      "lr: 0.001  patience: 20  num_layers: 4  batch_size: 128  hidden_size: 32  dropout: 0.25 criterion: <function criterion2 at 0x000001C7862F77F0>\n"
     ]
    },
    {
     "data": {
      "application/vnd.jupyter.widget-view+json": {
       "model_id": "fbeee1b1cec84291932ee1e5da78c18e",
       "version_major": 2,
       "version_minor": 0
      },
      "text/plain": [
       "  0%|          | 0/10000 [00:00<?, ?it/s]"
      ]
     },
     "metadata": {},
     "output_type": "display_data"
    },
    {
     "name": "stdout",
     "output_type": "stream",
     "text": [
      "\n",
      " Early Stopping / epoch: 183 loss: 0.010539\n",
      "----------------------------------------------------------------------------------------------------------\n",
      "lr: 0.001  patience: 20  num_layers: 4  batch_size: 128  hidden_size: 32  dropout: 0.25 criterion: <function criterion3 at 0x000001C7862F7880>\n"
     ]
    },
    {
     "data": {
      "application/vnd.jupyter.widget-view+json": {
       "model_id": "320c06d528ea4005bf6a928d197b6e93",
       "version_major": 2,
       "version_minor": 0
      },
      "text/plain": [
       "  0%|          | 0/10000 [00:00<?, ?it/s]"
      ]
     },
     "metadata": {},
     "output_type": "display_data"
    },
    {
     "name": "stdout",
     "output_type": "stream",
     "text": [
      "\n",
      " Early Stopping / epoch: 67 loss: 0.002543\n",
      "----------------------------------------------------------------------------------------------------------\n",
      "lr: 0.001  patience: 20  num_layers: 4  batch_size: 128  hidden_size: 32  dropout: 0.5 criterion: MSELoss()\n"
     ]
    },
    {
     "data": {
      "application/vnd.jupyter.widget-view+json": {
       "model_id": "5c692300397742c0a0b03bce8aefb0b9",
       "version_major": 2,
       "version_minor": 0
      },
      "text/plain": [
       "  0%|          | 0/10000 [00:00<?, ?it/s]"
      ]
     },
     "metadata": {},
     "output_type": "display_data"
    },
    {
     "name": "stdout",
     "output_type": "stream",
     "text": [
      "\n",
      " Early Stopping / epoch: 136 loss: 0.001115\n",
      "----------------------------------------------------------------------------------------------------------\n",
      "lr: 0.001  patience: 20  num_layers: 4  batch_size: 128  hidden_size: 32  dropout: 0.5 criterion: <function criterion2 at 0x000001C7862F77F0>\n"
     ]
    },
    {
     "data": {
      "application/vnd.jupyter.widget-view+json": {
       "model_id": "b1a3c209f25f4122be23230b05860bba",
       "version_major": 2,
       "version_minor": 0
      },
      "text/plain": [
       "  0%|          | 0/10000 [00:00<?, ?it/s]"
      ]
     },
     "metadata": {},
     "output_type": "display_data"
    },
    {
     "name": "stdout",
     "output_type": "stream",
     "text": [
      "\n",
      " Early Stopping / epoch: 95 loss: 0.015199\n",
      "----------------------------------------------------------------------------------------------------------\n",
      "lr: 0.001  patience: 20  num_layers: 4  batch_size: 128  hidden_size: 32  dropout: 0.5 criterion: <function criterion3 at 0x000001C7862F7880>\n"
     ]
    },
    {
     "data": {
      "application/vnd.jupyter.widget-view+json": {
       "model_id": "810ee141a7cb4f61b85e7db25c0eac44",
       "version_major": 2,
       "version_minor": 0
      },
      "text/plain": [
       "  0%|          | 0/10000 [00:00<?, ?it/s]"
      ]
     },
     "metadata": {},
     "output_type": "display_data"
    },
    {
     "name": "stdout",
     "output_type": "stream",
     "text": [
      "\n",
      " Early Stopping / epoch: 183 loss: 0.001894\n",
      "----------------------------------------------------------------------------------------------------------\n",
      "lr: 0.001  patience: 50  num_layers: 2  batch_size: 32  hidden_size: 8  dropout: 0.25 criterion: MSELoss()\n"
     ]
    },
    {
     "data": {
      "application/vnd.jupyter.widget-view+json": {
       "model_id": "7a4963badf0741d98514b1aa9fe9894b",
       "version_major": 2,
       "version_minor": 0
      },
      "text/plain": [
       "  0%|          | 0/10000 [00:00<?, ?it/s]"
      ]
     },
     "metadata": {},
     "output_type": "display_data"
    },
    {
     "name": "stdout",
     "output_type": "stream",
     "text": [
      "\n",
      " Early Stopping / epoch: 473 loss: 0.000994\n",
      "----------------------------------------------------------------------------------------------------------\n",
      "lr: 0.001  patience: 50  num_layers: 2  batch_size: 32  hidden_size: 8  dropout: 0.25 criterion: <function criterion2 at 0x000001C7862F77F0>\n"
     ]
    },
    {
     "data": {
      "application/vnd.jupyter.widget-view+json": {
       "model_id": "e5d9011e82d643458dd73c1bbb20de7b",
       "version_major": 2,
       "version_minor": 0
      },
      "text/plain": [
       "  0%|          | 0/10000 [00:00<?, ?it/s]"
      ]
     },
     "metadata": {},
     "output_type": "display_data"
    },
    {
     "name": "stdout",
     "output_type": "stream",
     "text": [
      "\n",
      " Early Stopping / epoch: 341 loss: 0.013155\n",
      "----------------------------------------------------------------------------------------------------------\n",
      "lr: 0.001  patience: 50  num_layers: 2  batch_size: 32  hidden_size: 8  dropout: 0.25 criterion: <function criterion3 at 0x000001C7862F7880>\n"
     ]
    },
    {
     "data": {
      "application/vnd.jupyter.widget-view+json": {
       "model_id": "10373e96061b4237b33b2d8e46b941b9",
       "version_major": 2,
       "version_minor": 0
      },
      "text/plain": [
       "  0%|          | 0/10000 [00:00<?, ?it/s]"
      ]
     },
     "metadata": {},
     "output_type": "display_data"
    },
    {
     "name": "stdout",
     "output_type": "stream",
     "text": [
      "\n",
      " Early Stopping / epoch: 465 loss: 0.003144\n",
      "----------------------------------------------------------------------------------------------------------\n",
      "lr: 0.001  patience: 50  num_layers: 2  batch_size: 32  hidden_size: 8  dropout: 0.5 criterion: MSELoss()\n"
     ]
    },
    {
     "data": {
      "application/vnd.jupyter.widget-view+json": {
       "model_id": "7a5766215c2d40dfb51602d92b30567b",
       "version_major": 2,
       "version_minor": 0
      },
      "text/plain": [
       "  0%|          | 0/10000 [00:00<?, ?it/s]"
      ]
     },
     "metadata": {},
     "output_type": "display_data"
    },
    {
     "name": "stdout",
     "output_type": "stream",
     "text": [
      "\n",
      " Early Stopping / epoch: 353 loss: 0.001240\n",
      "----------------------------------------------------------------------------------------------------------\n",
      "lr: 0.001  patience: 50  num_layers: 2  batch_size: 32  hidden_size: 8  dropout: 0.5 criterion: <function criterion2 at 0x000001C7862F77F0>\n"
     ]
    },
    {
     "data": {
      "application/vnd.jupyter.widget-view+json": {
       "model_id": "3cca3d6656b544669659188592733beb",
       "version_major": 2,
       "version_minor": 0
      },
      "text/plain": [
       "  0%|          | 0/10000 [00:00<?, ?it/s]"
      ]
     },
     "metadata": {},
     "output_type": "display_data"
    },
    {
     "name": "stdout",
     "output_type": "stream",
     "text": [
      "\n",
      " Early Stopping / epoch: 335 loss: 0.012273\n",
      "----------------------------------------------------------------------------------------------------------\n",
      "lr: 0.001  patience: 50  num_layers: 2  batch_size: 32  hidden_size: 8  dropout: 0.5 criterion: <function criterion3 at 0x000001C7862F7880>\n"
     ]
    },
    {
     "data": {
      "application/vnd.jupyter.widget-view+json": {
       "model_id": "a0d96cd4f0e741ca8ca96eea8a948225",
       "version_major": 2,
       "version_minor": 0
      },
      "text/plain": [
       "  0%|          | 0/10000 [00:00<?, ?it/s]"
      ]
     },
     "metadata": {},
     "output_type": "display_data"
    },
    {
     "name": "stdout",
     "output_type": "stream",
     "text": [
      "\n",
      " Early Stopping / epoch: 278 loss: 0.003288\n",
      "----------------------------------------------------------------------------------------------------------\n",
      "lr: 0.001  patience: 50  num_layers: 2  batch_size: 32  hidden_size: 16  dropout: 0.25 criterion: MSELoss()\n"
     ]
    },
    {
     "data": {
      "application/vnd.jupyter.widget-view+json": {
       "model_id": "0f9a4a6c03c94e0fab3155cda3d2e7ed",
       "version_major": 2,
       "version_minor": 0
      },
      "text/plain": [
       "  0%|          | 0/10000 [00:00<?, ?it/s]"
      ]
     },
     "metadata": {},
     "output_type": "display_data"
    },
    {
     "name": "stdout",
     "output_type": "stream",
     "text": [
      "\n",
      " Early Stopping / epoch: 333 loss: 0.000515\n",
      "----------------------------------------------------------------------------------------------------------\n",
      "lr: 0.001  patience: 50  num_layers: 2  batch_size: 32  hidden_size: 16  dropout: 0.25 criterion: <function criterion2 at 0x000001C7862F77F0>\n"
     ]
    },
    {
     "data": {
      "application/vnd.jupyter.widget-view+json": {
       "model_id": "87ae6bd0fd7146eaac8d414cb5965586",
       "version_major": 2,
       "version_minor": 0
      },
      "text/plain": [
       "  0%|          | 0/10000 [00:00<?, ?it/s]"
      ]
     },
     "metadata": {},
     "output_type": "display_data"
    },
    {
     "name": "stdout",
     "output_type": "stream",
     "text": [
      "\n",
      " Early Stopping / epoch: 208 loss: 0.014700\n",
      "----------------------------------------------------------------------------------------------------------\n",
      "lr: 0.001  patience: 50  num_layers: 2  batch_size: 32  hidden_size: 16  dropout: 0.25 criterion: <function criterion3 at 0x000001C7862F7880>\n"
     ]
    },
    {
     "data": {
      "application/vnd.jupyter.widget-view+json": {
       "model_id": "7060fcd69b954ff88a7f2d5c4b3acb8a",
       "version_major": 2,
       "version_minor": 0
      },
      "text/plain": [
       "  0%|          | 0/10000 [00:00<?, ?it/s]"
      ]
     },
     "metadata": {},
     "output_type": "display_data"
    },
    {
     "name": "stdout",
     "output_type": "stream",
     "text": [
      "\n",
      " Early Stopping / epoch: 299 loss: 0.002789\n",
      "----------------------------------------------------------------------------------------------------------\n",
      "lr: 0.001  patience: 50  num_layers: 2  batch_size: 32  hidden_size: 16  dropout: 0.5 criterion: MSELoss()\n"
     ]
    },
    {
     "data": {
      "application/vnd.jupyter.widget-view+json": {
       "model_id": "96e744beb65f49e091ead00805a365cb",
       "version_major": 2,
       "version_minor": 0
      },
      "text/plain": [
       "  0%|          | 0/10000 [00:00<?, ?it/s]"
      ]
     },
     "metadata": {},
     "output_type": "display_data"
    },
    {
     "name": "stdout",
     "output_type": "stream",
     "text": [
      "\n",
      " Early Stopping / epoch: 457 loss: 0.001096\n",
      "----------------------------------------------------------------------------------------------------------\n",
      "lr: 0.001  patience: 50  num_layers: 2  batch_size: 32  hidden_size: 16  dropout: 0.5 criterion: <function criterion2 at 0x000001C7862F77F0>\n"
     ]
    },
    {
     "data": {
      "application/vnd.jupyter.widget-view+json": {
       "model_id": "f7fcb5e2f09949d2b87f762b97f3544a",
       "version_major": 2,
       "version_minor": 0
      },
      "text/plain": [
       "  0%|          | 0/10000 [00:00<?, ?it/s]"
      ]
     },
     "metadata": {},
     "output_type": "display_data"
    },
    {
     "name": "stdout",
     "output_type": "stream",
     "text": [
      "\n",
      " Early Stopping / epoch: 212 loss: 0.012911\n",
      "----------------------------------------------------------------------------------------------------------\n",
      "lr: 0.001  patience: 50  num_layers: 2  batch_size: 32  hidden_size: 16  dropout: 0.5 criterion: <function criterion3 at 0x000001C7862F7880>\n"
     ]
    },
    {
     "data": {
      "application/vnd.jupyter.widget-view+json": {
       "model_id": "04794a69c0b242d49f0e4e6456829a8e",
       "version_major": 2,
       "version_minor": 0
      },
      "text/plain": [
       "  0%|          | 0/10000 [00:00<?, ?it/s]"
      ]
     },
     "metadata": {},
     "output_type": "display_data"
    },
    {
     "name": "stdout",
     "output_type": "stream",
     "text": [
      "\n",
      " Early Stopping / epoch: 273 loss: 0.002302\n",
      "----------------------------------------------------------------------------------------------------------\n",
      "lr: 0.001  patience: 50  num_layers: 2  batch_size: 32  hidden_size: 32  dropout: 0.25 criterion: MSELoss()\n"
     ]
    },
    {
     "data": {
      "application/vnd.jupyter.widget-view+json": {
       "model_id": "2992bf31c6604d4082e6610f6c69e95b",
       "version_major": 2,
       "version_minor": 0
      },
      "text/plain": [
       "  0%|          | 0/10000 [00:00<?, ?it/s]"
      ]
     },
     "metadata": {},
     "output_type": "display_data"
    },
    {
     "name": "stdout",
     "output_type": "stream",
     "text": [
      "\n",
      " Early Stopping / epoch: 331 loss: 0.000251\n",
      "----------------------------------------------------------------------------------------------------------\n",
      "lr: 0.001  patience: 50  num_layers: 2  batch_size: 32  hidden_size: 32  dropout: 0.25 criterion: <function criterion2 at 0x000001C7862F77F0>\n"
     ]
    },
    {
     "data": {
      "application/vnd.jupyter.widget-view+json": {
       "model_id": "7b2be8575b8b48eea5eb0b747b7abbb7",
       "version_major": 2,
       "version_minor": 0
      },
      "text/plain": [
       "  0%|          | 0/10000 [00:00<?, ?it/s]"
      ]
     },
     "metadata": {},
     "output_type": "display_data"
    },
    {
     "name": "stdout",
     "output_type": "stream",
     "text": [
      "\n",
      " Early Stopping / epoch: 184 loss: 0.013495\n",
      "----------------------------------------------------------------------------------------------------------\n",
      "lr: 0.001  patience: 50  num_layers: 2  batch_size: 32  hidden_size: 32  dropout: 0.25 criterion: <function criterion3 at 0x000001C7862F7880>\n"
     ]
    },
    {
     "data": {
      "application/vnd.jupyter.widget-view+json": {
       "model_id": "53b16a600f7c4da092bb51826b764710",
       "version_major": 2,
       "version_minor": 0
      },
      "text/plain": [
       "  0%|          | 0/10000 [00:00<?, ?it/s]"
      ]
     },
     "metadata": {},
     "output_type": "display_data"
    },
    {
     "name": "stdout",
     "output_type": "stream",
     "text": [
      "\n",
      " Early Stopping / epoch: 222 loss: 0.003396\n",
      "----------------------------------------------------------------------------------------------------------\n",
      "lr: 0.001  patience: 50  num_layers: 2  batch_size: 32  hidden_size: 32  dropout: 0.5 criterion: MSELoss()\n"
     ]
    },
    {
     "data": {
      "application/vnd.jupyter.widget-view+json": {
       "model_id": "d36e0bdb797f4adcb7d8d72ba79081eb",
       "version_major": 2,
       "version_minor": 0
      },
      "text/plain": [
       "  0%|          | 0/10000 [00:00<?, ?it/s]"
      ]
     },
     "metadata": {},
     "output_type": "display_data"
    },
    {
     "name": "stdout",
     "output_type": "stream",
     "text": [
      "\n",
      " Early Stopping / epoch: 161 loss: 0.000818\n",
      "----------------------------------------------------------------------------------------------------------\n",
      "lr: 0.001  patience: 50  num_layers: 2  batch_size: 32  hidden_size: 32  dropout: 0.5 criterion: <function criterion2 at 0x000001C7862F77F0>\n"
     ]
    },
    {
     "data": {
      "application/vnd.jupyter.widget-view+json": {
       "model_id": "e948e924195f4a679d9580d62663d842",
       "version_major": 2,
       "version_minor": 0
      },
      "text/plain": [
       "  0%|          | 0/10000 [00:00<?, ?it/s]"
      ]
     },
     "metadata": {},
     "output_type": "display_data"
    },
    {
     "name": "stdout",
     "output_type": "stream",
     "text": [
      "\n",
      " Early Stopping / epoch: 137 loss: 0.015575\n",
      "----------------------------------------------------------------------------------------------------------\n",
      "lr: 0.001  patience: 50  num_layers: 2  batch_size: 32  hidden_size: 32  dropout: 0.5 criterion: <function criterion3 at 0x000001C7862F7880>\n"
     ]
    },
    {
     "data": {
      "application/vnd.jupyter.widget-view+json": {
       "model_id": "a8e24da6f24141a4a8aaf91c00c6d718",
       "version_major": 2,
       "version_minor": 0
      },
      "text/plain": [
       "  0%|          | 0/10000 [00:00<?, ?it/s]"
      ]
     },
     "metadata": {},
     "output_type": "display_data"
    },
    {
     "name": "stdout",
     "output_type": "stream",
     "text": [
      "\n",
      " Early Stopping / epoch: 251 loss: 0.002746\n",
      "----------------------------------------------------------------------------------------------------------\n",
      "lr: 0.001  patience: 50  num_layers: 2  batch_size: 64  hidden_size: 8  dropout: 0.25 criterion: MSELoss()\n"
     ]
    },
    {
     "data": {
      "application/vnd.jupyter.widget-view+json": {
       "model_id": "c04cd7abfbe3440a952179eaa13de634",
       "version_major": 2,
       "version_minor": 0
      },
      "text/plain": [
       "  0%|          | 0/10000 [00:00<?, ?it/s]"
      ]
     },
     "metadata": {},
     "output_type": "display_data"
    },
    {
     "name": "stdout",
     "output_type": "stream",
     "text": [
      "\n",
      " Early Stopping / epoch: 835 loss: 0.000574\n",
      "----------------------------------------------------------------------------------------------------------\n",
      "lr: 0.001  patience: 50  num_layers: 2  batch_size: 64  hidden_size: 8  dropout: 0.25 criterion: <function criterion2 at 0x000001C7862F77F0>\n"
     ]
    },
    {
     "data": {
      "application/vnd.jupyter.widget-view+json": {
       "model_id": "fa7a179fe30f4990953cda15c954874a",
       "version_major": 2,
       "version_minor": 0
      },
      "text/plain": [
       "  0%|          | 0/10000 [00:00<?, ?it/s]"
      ]
     },
     "metadata": {},
     "output_type": "display_data"
    },
    {
     "name": "stdout",
     "output_type": "stream",
     "text": [
      "\n",
      " Early Stopping / epoch: 252 loss: 0.010498\n",
      "----------------------------------------------------------------------------------------------------------\n",
      "lr: 0.001  patience: 50  num_layers: 2  batch_size: 64  hidden_size: 8  dropout: 0.25 criterion: <function criterion3 at 0x000001C7862F7880>\n"
     ]
    },
    {
     "data": {
      "application/vnd.jupyter.widget-view+json": {
       "model_id": "fc82a3834465474db6987599086bd024",
       "version_major": 2,
       "version_minor": 0
      },
      "text/plain": [
       "  0%|          | 0/10000 [00:00<?, ?it/s]"
      ]
     },
     "metadata": {},
     "output_type": "display_data"
    },
    {
     "name": "stdout",
     "output_type": "stream",
     "text": [
      "\n",
      " Early Stopping / epoch: 342 loss: 0.002016\n",
      "----------------------------------------------------------------------------------------------------------\n",
      "lr: 0.001  patience: 50  num_layers: 2  batch_size: 64  hidden_size: 8  dropout: 0.5 criterion: MSELoss()\n"
     ]
    },
    {
     "data": {
      "application/vnd.jupyter.widget-view+json": {
       "model_id": "025cab1c8edf4230aaad80b704f5f8a8",
       "version_major": 2,
       "version_minor": 0
      },
      "text/plain": [
       "  0%|          | 0/10000 [00:00<?, ?it/s]"
      ]
     },
     "metadata": {},
     "output_type": "display_data"
    },
    {
     "name": "stdout",
     "output_type": "stream",
     "text": [
      "\n",
      " Early Stopping / epoch: 219 loss: 0.001341\n",
      "----------------------------------------------------------------------------------------------------------\n",
      "lr: 0.001  patience: 50  num_layers: 2  batch_size: 64  hidden_size: 8  dropout: 0.5 criterion: <function criterion2 at 0x000001C7862F77F0>\n"
     ]
    },
    {
     "data": {
      "application/vnd.jupyter.widget-view+json": {
       "model_id": "64a25500cb234214ae6d368f4d0103ce",
       "version_major": 2,
       "version_minor": 0
      },
      "text/plain": [
       "  0%|          | 0/10000 [00:00<?, ?it/s]"
      ]
     },
     "metadata": {},
     "output_type": "display_data"
    },
    {
     "name": "stdout",
     "output_type": "stream",
     "text": [
      "\n",
      " Early Stopping / epoch: 480 loss: 0.013662\n",
      "----------------------------------------------------------------------------------------------------------\n",
      "lr: 0.001  patience: 50  num_layers: 2  batch_size: 64  hidden_size: 8  dropout: 0.5 criterion: <function criterion3 at 0x000001C7862F7880>\n"
     ]
    },
    {
     "data": {
      "application/vnd.jupyter.widget-view+json": {
       "model_id": "f410e83715dc4e0193f4806b185f04a6",
       "version_major": 2,
       "version_minor": 0
      },
      "text/plain": [
       "  0%|          | 0/10000 [00:00<?, ?it/s]"
      ]
     },
     "metadata": {},
     "output_type": "display_data"
    },
    {
     "name": "stdout",
     "output_type": "stream",
     "text": [
      "\n",
      " Early Stopping / epoch: 579 loss: 0.002023\n",
      "----------------------------------------------------------------------------------------------------------\n",
      "lr: 0.001  patience: 50  num_layers: 2  batch_size: 64  hidden_size: 16  dropout: 0.25 criterion: MSELoss()\n"
     ]
    },
    {
     "data": {
      "application/vnd.jupyter.widget-view+json": {
       "model_id": "e5863fcf9c894d1baf91fe3de61070d9",
       "version_major": 2,
       "version_minor": 0
      },
      "text/plain": [
       "  0%|          | 0/10000 [00:00<?, ?it/s]"
      ]
     },
     "metadata": {},
     "output_type": "display_data"
    },
    {
     "name": "stdout",
     "output_type": "stream",
     "text": [
      "\n",
      " Early Stopping / epoch: 387 loss: 0.000872\n",
      "----------------------------------------------------------------------------------------------------------\n",
      "lr: 0.001  patience: 50  num_layers: 2  batch_size: 64  hidden_size: 16  dropout: 0.25 criterion: <function criterion2 at 0x000001C7862F77F0>\n"
     ]
    },
    {
     "data": {
      "application/vnd.jupyter.widget-view+json": {
       "model_id": "7591e06ff60c4777ad88be3c691c8cd9",
       "version_major": 2,
       "version_minor": 0
      },
      "text/plain": [
       "  0%|          | 0/10000 [00:00<?, ?it/s]"
      ]
     },
     "metadata": {},
     "output_type": "display_data"
    },
    {
     "name": "stdout",
     "output_type": "stream",
     "text": [
      "\n",
      " Early Stopping / epoch: 433 loss: 0.010229\n",
      "----------------------------------------------------------------------------------------------------------\n",
      "lr: 0.001  patience: 50  num_layers: 2  batch_size: 64  hidden_size: 16  dropout: 0.25 criterion: <function criterion3 at 0x000001C7862F7880>\n"
     ]
    },
    {
     "data": {
      "application/vnd.jupyter.widget-view+json": {
       "model_id": "73b365f5485c4f95b0b4968e7a20cc15",
       "version_major": 2,
       "version_minor": 0
      },
      "text/plain": [
       "  0%|          | 0/10000 [00:00<?, ?it/s]"
      ]
     },
     "metadata": {},
     "output_type": "display_data"
    },
    {
     "name": "stdout",
     "output_type": "stream",
     "text": [
      "\n",
      " Early Stopping / epoch: 219 loss: 0.001813\n",
      "----------------------------------------------------------------------------------------------------------\n",
      "lr: 0.001  patience: 50  num_layers: 2  batch_size: 64  hidden_size: 16  dropout: 0.5 criterion: MSELoss()\n"
     ]
    },
    {
     "data": {
      "application/vnd.jupyter.widget-view+json": {
       "model_id": "3922ab46451f451d8719a3658851a867",
       "version_major": 2,
       "version_minor": 0
      },
      "text/plain": [
       "  0%|          | 0/10000 [00:00<?, ?it/s]"
      ]
     },
     "metadata": {},
     "output_type": "display_data"
    },
    {
     "name": "stdout",
     "output_type": "stream",
     "text": [
      "\n",
      " Early Stopping / epoch: 732 loss: 0.000516\n",
      "----------------------------------------------------------------------------------------------------------\n",
      "lr: 0.001  patience: 50  num_layers: 2  batch_size: 64  hidden_size: 16  dropout: 0.5 criterion: <function criterion2 at 0x000001C7862F77F0>\n"
     ]
    },
    {
     "data": {
      "application/vnd.jupyter.widget-view+json": {
       "model_id": "01674268cd1048afb8f7210a5d0a61d4",
       "version_major": 2,
       "version_minor": 0
      },
      "text/plain": [
       "  0%|          | 0/10000 [00:00<?, ?it/s]"
      ]
     },
     "metadata": {},
     "output_type": "display_data"
    },
    {
     "name": "stdout",
     "output_type": "stream",
     "text": [
      "\n",
      " Early Stopping / epoch: 344 loss: 0.011283\n",
      "----------------------------------------------------------------------------------------------------------\n",
      "lr: 0.001  patience: 50  num_layers: 2  batch_size: 64  hidden_size: 16  dropout: 0.5 criterion: <function criterion3 at 0x000001C7862F7880>\n"
     ]
    },
    {
     "data": {
      "application/vnd.jupyter.widget-view+json": {
       "model_id": "bc862fe76c6f42cd888c0a55782cc9e9",
       "version_major": 2,
       "version_minor": 0
      },
      "text/plain": [
       "  0%|          | 0/10000 [00:00<?, ?it/s]"
      ]
     },
     "metadata": {},
     "output_type": "display_data"
    },
    {
     "name": "stdout",
     "output_type": "stream",
     "text": [
      "\n",
      " Early Stopping / epoch: 294 loss: 0.002261\n",
      "----------------------------------------------------------------------------------------------------------\n",
      "lr: 0.001  patience: 50  num_layers: 2  batch_size: 64  hidden_size: 32  dropout: 0.25 criterion: MSELoss()\n"
     ]
    },
    {
     "data": {
      "application/vnd.jupyter.widget-view+json": {
       "model_id": "e9df05d0f46a4642acd8397cca7a2e9a",
       "version_major": 2,
       "version_minor": 0
      },
      "text/plain": [
       "  0%|          | 0/10000 [00:00<?, ?it/s]"
      ]
     },
     "metadata": {},
     "output_type": "display_data"
    },
    {
     "name": "stdout",
     "output_type": "stream",
     "text": [
      "\n",
      " Early Stopping / epoch: 391 loss: 0.000243\n",
      "----------------------------------------------------------------------------------------------------------\n",
      "lr: 0.001  patience: 50  num_layers: 2  batch_size: 64  hidden_size: 32  dropout: 0.25 criterion: <function criterion2 at 0x000001C7862F77F0>\n"
     ]
    },
    {
     "data": {
      "application/vnd.jupyter.widget-view+json": {
       "model_id": "0720b2e9762e40f3b673788aa43b8326",
       "version_major": 2,
       "version_minor": 0
      },
      "text/plain": [
       "  0%|          | 0/10000 [00:00<?, ?it/s]"
      ]
     },
     "metadata": {},
     "output_type": "display_data"
    },
    {
     "name": "stdout",
     "output_type": "stream",
     "text": [
      "\n",
      " Early Stopping / epoch: 187 loss: 0.017279\n",
      "----------------------------------------------------------------------------------------------------------\n",
      "lr: 0.001  patience: 50  num_layers: 2  batch_size: 64  hidden_size: 32  dropout: 0.25 criterion: <function criterion3 at 0x000001C7862F7880>\n"
     ]
    },
    {
     "data": {
      "application/vnd.jupyter.widget-view+json": {
       "model_id": "b3fda1e2ac1c48e19969375f62fefc1d",
       "version_major": 2,
       "version_minor": 0
      },
      "text/plain": [
       "  0%|          | 0/10000 [00:00<?, ?it/s]"
      ]
     },
     "metadata": {},
     "output_type": "display_data"
    },
    {
     "name": "stdout",
     "output_type": "stream",
     "text": [
      "\n",
      " Early Stopping / epoch: 187 loss: 0.001826\n",
      "----------------------------------------------------------------------------------------------------------\n",
      "lr: 0.001  patience: 50  num_layers: 2  batch_size: 64  hidden_size: 32  dropout: 0.5 criterion: MSELoss()\n"
     ]
    },
    {
     "data": {
      "application/vnd.jupyter.widget-view+json": {
       "model_id": "62d079efdfe64bb3a0876072f72e55e2",
       "version_major": 2,
       "version_minor": 0
      },
      "text/plain": [
       "  0%|          | 0/10000 [00:00<?, ?it/s]"
      ]
     },
     "metadata": {},
     "output_type": "display_data"
    },
    {
     "name": "stdout",
     "output_type": "stream",
     "text": [
      "\n",
      " Early Stopping / epoch: 645 loss: 0.000426\n",
      "----------------------------------------------------------------------------------------------------------\n",
      "lr: 0.001  patience: 50  num_layers: 2  batch_size: 64  hidden_size: 32  dropout: 0.5 criterion: <function criterion2 at 0x000001C7862F77F0>\n"
     ]
    },
    {
     "data": {
      "application/vnd.jupyter.widget-view+json": {
       "model_id": "2c405b7b598e493bb2beca6bcb038f75",
       "version_major": 2,
       "version_minor": 0
      },
      "text/plain": [
       "  0%|          | 0/10000 [00:00<?, ?it/s]"
      ]
     },
     "metadata": {},
     "output_type": "display_data"
    },
    {
     "name": "stdout",
     "output_type": "stream",
     "text": [
      "\n",
      " Early Stopping / epoch: 130 loss: 0.017441\n",
      "----------------------------------------------------------------------------------------------------------\n",
      "lr: 0.001  patience: 50  num_layers: 2  batch_size: 64  hidden_size: 32  dropout: 0.5 criterion: <function criterion3 at 0x000001C7862F7880>\n"
     ]
    },
    {
     "data": {
      "application/vnd.jupyter.widget-view+json": {
       "model_id": "0279c943f9464312aec3b00b5d9a0505",
       "version_major": 2,
       "version_minor": 0
      },
      "text/plain": [
       "  0%|          | 0/10000 [00:00<?, ?it/s]"
      ]
     },
     "metadata": {},
     "output_type": "display_data"
    },
    {
     "name": "stdout",
     "output_type": "stream",
     "text": [
      "\n",
      " Early Stopping / epoch: 264 loss: 0.001987\n",
      "----------------------------------------------------------------------------------------------------------\n",
      "lr: 0.001  patience: 50  num_layers: 2  batch_size: 128  hidden_size: 8  dropout: 0.25 criterion: MSELoss()\n"
     ]
    },
    {
     "data": {
      "application/vnd.jupyter.widget-view+json": {
       "model_id": "75ba91b7417242049abbc7b2aaa5eec1",
       "version_major": 2,
       "version_minor": 0
      },
      "text/plain": [
       "  0%|          | 0/10000 [00:00<?, ?it/s]"
      ]
     },
     "metadata": {},
     "output_type": "display_data"
    },
    {
     "name": "stdout",
     "output_type": "stream",
     "text": [
      "\n",
      " Early Stopping / epoch: 630 loss: 0.000743\n",
      "----------------------------------------------------------------------------------------------------------\n",
      "lr: 0.001  patience: 50  num_layers: 2  batch_size: 128  hidden_size: 8  dropout: 0.25 criterion: <function criterion2 at 0x000001C7862F77F0>\n"
     ]
    },
    {
     "data": {
      "application/vnd.jupyter.widget-view+json": {
       "model_id": "527bc6d020d744ad9b5c284538544b01",
       "version_major": 2,
       "version_minor": 0
      },
      "text/plain": [
       "  0%|          | 0/10000 [00:00<?, ?it/s]"
      ]
     },
     "metadata": {},
     "output_type": "display_data"
    },
    {
     "name": "stdout",
     "output_type": "stream",
     "text": [
      "\n",
      " Early Stopping / epoch: 422 loss: 0.012989\n",
      "----------------------------------------------------------------------------------------------------------\n",
      "lr: 0.001  patience: 50  num_layers: 2  batch_size: 128  hidden_size: 8  dropout: 0.25 criterion: <function criterion3 at 0x000001C7862F7880>\n"
     ]
    },
    {
     "data": {
      "application/vnd.jupyter.widget-view+json": {
       "model_id": "7dbaab58c4cc46bca0940faa0d69217b",
       "version_major": 2,
       "version_minor": 0
      },
      "text/plain": [
       "  0%|          | 0/10000 [00:00<?, ?it/s]"
      ]
     },
     "metadata": {},
     "output_type": "display_data"
    },
    {
     "name": "stdout",
     "output_type": "stream",
     "text": [
      "\n",
      " Early Stopping / epoch: 317 loss: 0.001830\n",
      "----------------------------------------------------------------------------------------------------------\n",
      "lr: 0.001  patience: 50  num_layers: 2  batch_size: 128  hidden_size: 8  dropout: 0.5 criterion: MSELoss()\n"
     ]
    },
    {
     "data": {
      "application/vnd.jupyter.widget-view+json": {
       "model_id": "df4ddce0556b432ea59166279b9e226d",
       "version_major": 2,
       "version_minor": 0
      },
      "text/plain": [
       "  0%|          | 0/10000 [00:00<?, ?it/s]"
      ]
     },
     "metadata": {},
     "output_type": "display_data"
    },
    {
     "name": "stdout",
     "output_type": "stream",
     "text": [
      "\n",
      " Early Stopping / epoch: 452 loss: 0.000916\n",
      "----------------------------------------------------------------------------------------------------------\n",
      "lr: 0.001  patience: 50  num_layers: 2  batch_size: 128  hidden_size: 8  dropout: 0.5 criterion: <function criterion2 at 0x000001C7862F77F0>\n"
     ]
    },
    {
     "data": {
      "application/vnd.jupyter.widget-view+json": {
       "model_id": "bd48f73ab85549e5aeef8ff7b4e1f028",
       "version_major": 2,
       "version_minor": 0
      },
      "text/plain": [
       "  0%|          | 0/10000 [00:00<?, ?it/s]"
      ]
     },
     "metadata": {},
     "output_type": "display_data"
    },
    {
     "name": "stdout",
     "output_type": "stream",
     "text": [
      "\n",
      " Early Stopping / epoch: 438 loss: 0.013818\n",
      "----------------------------------------------------------------------------------------------------------\n",
      "lr: 0.001  patience: 50  num_layers: 2  batch_size: 128  hidden_size: 8  dropout: 0.5 criterion: <function criterion3 at 0x000001C7862F7880>\n"
     ]
    },
    {
     "data": {
      "application/vnd.jupyter.widget-view+json": {
       "model_id": "0364539017964fe8a68edd8b5ac72582",
       "version_major": 2,
       "version_minor": 0
      },
      "text/plain": [
       "  0%|          | 0/10000 [00:00<?, ?it/s]"
      ]
     },
     "metadata": {},
     "output_type": "display_data"
    },
    {
     "name": "stdout",
     "output_type": "stream",
     "text": [
      "\n",
      " Early Stopping / epoch: 388 loss: 0.001704\n",
      "----------------------------------------------------------------------------------------------------------\n",
      "lr: 0.001  patience: 50  num_layers: 2  batch_size: 128  hidden_size: 16  dropout: 0.25 criterion: MSELoss()\n"
     ]
    },
    {
     "data": {
      "application/vnd.jupyter.widget-view+json": {
       "model_id": "f577c56b113448fdb594757868ee0adc",
       "version_major": 2,
       "version_minor": 0
      },
      "text/plain": [
       "  0%|          | 0/10000 [00:00<?, ?it/s]"
      ]
     },
     "metadata": {},
     "output_type": "display_data"
    },
    {
     "name": "stdout",
     "output_type": "stream",
     "text": [
      "\n",
      " Early Stopping / epoch: 691 loss: 0.000400\n",
      "----------------------------------------------------------------------------------------------------------\n",
      "lr: 0.001  patience: 50  num_layers: 2  batch_size: 128  hidden_size: 16  dropout: 0.25 criterion: <function criterion2 at 0x000001C7862F77F0>\n"
     ]
    },
    {
     "data": {
      "application/vnd.jupyter.widget-view+json": {
       "model_id": "7406b4c43bd6419aaee77cb2ebc7486b",
       "version_major": 2,
       "version_minor": 0
      },
      "text/plain": [
       "  0%|          | 0/10000 [00:00<?, ?it/s]"
      ]
     },
     "metadata": {},
     "output_type": "display_data"
    },
    {
     "name": "stdout",
     "output_type": "stream",
     "text": [
      "\n",
      " Early Stopping / epoch: 388 loss: 0.013262\n",
      "----------------------------------------------------------------------------------------------------------\n",
      "lr: 0.001  patience: 50  num_layers: 2  batch_size: 128  hidden_size: 16  dropout: 0.25 criterion: <function criterion3 at 0x000001C7862F7880>\n"
     ]
    },
    {
     "data": {
      "application/vnd.jupyter.widget-view+json": {
       "model_id": "384a0accb5fe4345accfe73b7621eb6a",
       "version_major": 2,
       "version_minor": 0
      },
      "text/plain": [
       "  0%|          | 0/10000 [00:00<?, ?it/s]"
      ]
     },
     "metadata": {},
     "output_type": "display_data"
    },
    {
     "name": "stdout",
     "output_type": "stream",
     "text": [
      "\n",
      " Early Stopping / epoch: 309 loss: 0.001855\n",
      "----------------------------------------------------------------------------------------------------------\n",
      "lr: 0.001  patience: 50  num_layers: 2  batch_size: 128  hidden_size: 16  dropout: 0.5 criterion: MSELoss()\n"
     ]
    },
    {
     "data": {
      "application/vnd.jupyter.widget-view+json": {
       "model_id": "8ae947a4b62041419b7ff6d1736fde1f",
       "version_major": 2,
       "version_minor": 0
      },
      "text/plain": [
       "  0%|          | 0/10000 [00:00<?, ?it/s]"
      ]
     },
     "metadata": {},
     "output_type": "display_data"
    },
    {
     "name": "stdout",
     "output_type": "stream",
     "text": [
      "\n",
      " Early Stopping / epoch: 474 loss: 0.000606\n",
      "----------------------------------------------------------------------------------------------------------\n",
      "lr: 0.001  patience: 50  num_layers: 2  batch_size: 128  hidden_size: 16  dropout: 0.5 criterion: <function criterion2 at 0x000001C7862F77F0>\n"
     ]
    },
    {
     "data": {
      "application/vnd.jupyter.widget-view+json": {
       "model_id": "05158eb39ed04921a1364b61a40a634d",
       "version_major": 2,
       "version_minor": 0
      },
      "text/plain": [
       "  0%|          | 0/10000 [00:00<?, ?it/s]"
      ]
     },
     "metadata": {},
     "output_type": "display_data"
    },
    {
     "name": "stdout",
     "output_type": "stream",
     "text": [
      "\n",
      " Early Stopping / epoch: 315 loss: 0.009694\n",
      "----------------------------------------------------------------------------------------------------------\n",
      "lr: 0.001  patience: 50  num_layers: 2  batch_size: 128  hidden_size: 16  dropout: 0.5 criterion: <function criterion3 at 0x000001C7862F7880>\n"
     ]
    },
    {
     "data": {
      "application/vnd.jupyter.widget-view+json": {
       "model_id": "f9fef6f0d6914d5ab245ddae0c896aa3",
       "version_major": 2,
       "version_minor": 0
      },
      "text/plain": [
       "  0%|          | 0/10000 [00:00<?, ?it/s]"
      ]
     },
     "metadata": {},
     "output_type": "display_data"
    },
    {
     "name": "stdout",
     "output_type": "stream",
     "text": [
      "\n",
      " Early Stopping / epoch: 276 loss: 0.001862\n",
      "----------------------------------------------------------------------------------------------------------\n",
      "lr: 0.001  patience: 50  num_layers: 2  batch_size: 128  hidden_size: 32  dropout: 0.25 criterion: MSELoss()\n"
     ]
    },
    {
     "data": {
      "application/vnd.jupyter.widget-view+json": {
       "model_id": "477a31531b7449ccb2a2aa49820c2d89",
       "version_major": 2,
       "version_minor": 0
      },
      "text/plain": [
       "  0%|          | 0/10000 [00:00<?, ?it/s]"
      ]
     },
     "metadata": {},
     "output_type": "display_data"
    },
    {
     "name": "stdout",
     "output_type": "stream",
     "text": [
      "\n",
      " Early Stopping / epoch: 949 loss: 0.000146\n",
      "----------------------------------------------------------------------------------------------------------\n",
      "lr: 0.001  patience: 50  num_layers: 2  batch_size: 128  hidden_size: 32  dropout: 0.25 criterion: <function criterion2 at 0x000001C7862F77F0>\n"
     ]
    },
    {
     "data": {
      "application/vnd.jupyter.widget-view+json": {
       "model_id": "754233bc29b04fa2aabf73024b71f5b0",
       "version_major": 2,
       "version_minor": 0
      },
      "text/plain": [
       "  0%|          | 0/10000 [00:00<?, ?it/s]"
      ]
     },
     "metadata": {},
     "output_type": "display_data"
    },
    {
     "name": "stdout",
     "output_type": "stream",
     "text": [
      "\n",
      " Early Stopping / epoch: 354 loss: 0.007388\n",
      "----------------------------------------------------------------------------------------------------------\n",
      "lr: 0.001  patience: 50  num_layers: 2  batch_size: 128  hidden_size: 32  dropout: 0.25 criterion: <function criterion3 at 0x000001C7862F7880>\n"
     ]
    },
    {
     "data": {
      "application/vnd.jupyter.widget-view+json": {
       "model_id": "b557ce3668784026a798873e6278396a",
       "version_major": 2,
       "version_minor": 0
      },
      "text/plain": [
       "  0%|          | 0/10000 [00:00<?, ?it/s]"
      ]
     },
     "metadata": {},
     "output_type": "display_data"
    },
    {
     "name": "stdout",
     "output_type": "stream",
     "text": [
      "\n",
      " Early Stopping / epoch: 348 loss: 0.001245\n",
      "----------------------------------------------------------------------------------------------------------\n",
      "lr: 0.001  patience: 50  num_layers: 2  batch_size: 128  hidden_size: 32  dropout: 0.5 criterion: MSELoss()\n"
     ]
    },
    {
     "data": {
      "application/vnd.jupyter.widget-view+json": {
       "model_id": "325b9c2fa9004172a6334dced0ebd7f6",
       "version_major": 2,
       "version_minor": 0
      },
      "text/plain": [
       "  0%|          | 0/10000 [00:00<?, ?it/s]"
      ]
     },
     "metadata": {},
     "output_type": "display_data"
    },
    {
     "name": "stdout",
     "output_type": "stream",
     "text": [
      "\n",
      " Early Stopping / epoch: 674 loss: 0.000337\n",
      "----------------------------------------------------------------------------------------------------------\n",
      "lr: 0.001  patience: 50  num_layers: 2  batch_size: 128  hidden_size: 32  dropout: 0.5 criterion: <function criterion2 at 0x000001C7862F77F0>\n"
     ]
    },
    {
     "data": {
      "application/vnd.jupyter.widget-view+json": {
       "model_id": "b77e1ba1da974641be59c073802ad894",
       "version_major": 2,
       "version_minor": 0
      },
      "text/plain": [
       "  0%|          | 0/10000 [00:00<?, ?it/s]"
      ]
     },
     "metadata": {},
     "output_type": "display_data"
    },
    {
     "name": "stdout",
     "output_type": "stream",
     "text": [
      "\n",
      " Early Stopping / epoch: 319 loss: 0.015541\n",
      "----------------------------------------------------------------------------------------------------------\n",
      "lr: 0.001  patience: 50  num_layers: 2  batch_size: 128  hidden_size: 32  dropout: 0.5 criterion: <function criterion3 at 0x000001C7862F7880>\n"
     ]
    },
    {
     "data": {
      "application/vnd.jupyter.widget-view+json": {
       "model_id": "82ad8975ee56457bb60e4c21523591e0",
       "version_major": 2,
       "version_minor": 0
      },
      "text/plain": [
       "  0%|          | 0/10000 [00:00<?, ?it/s]"
      ]
     },
     "metadata": {},
     "output_type": "display_data"
    },
    {
     "name": "stdout",
     "output_type": "stream",
     "text": [
      "\n",
      " Early Stopping / epoch: 217 loss: 0.001949\n",
      "----------------------------------------------------------------------------------------------------------\n",
      "lr: 0.001  patience: 50  num_layers: 4  batch_size: 32  hidden_size: 8  dropout: 0.25 criterion: MSELoss()\n"
     ]
    },
    {
     "data": {
      "application/vnd.jupyter.widget-view+json": {
       "model_id": "d2a590b8ca614b80ac7a0b1a6e265e07",
       "version_major": 2,
       "version_minor": 0
      },
      "text/plain": [
       "  0%|          | 0/10000 [00:00<?, ?it/s]"
      ]
     },
     "metadata": {},
     "output_type": "display_data"
    },
    {
     "name": "stdout",
     "output_type": "stream",
     "text": [
      "\n",
      " Early Stopping / epoch: 407 loss: 0.001183\n",
      "----------------------------------------------------------------------------------------------------------\n",
      "lr: 0.001  patience: 50  num_layers: 4  batch_size: 32  hidden_size: 8  dropout: 0.25 criterion: <function criterion2 at 0x000001C7862F77F0>\n"
     ]
    },
    {
     "data": {
      "application/vnd.jupyter.widget-view+json": {
       "model_id": "2ed0575c1b33407b885b89247bf7995d",
       "version_major": 2,
       "version_minor": 0
      },
      "text/plain": [
       "  0%|          | 0/10000 [00:00<?, ?it/s]"
      ]
     },
     "metadata": {},
     "output_type": "display_data"
    },
    {
     "name": "stdout",
     "output_type": "stream",
     "text": [
      "\n",
      " Early Stopping / epoch: 152 loss: 0.018736\n",
      "----------------------------------------------------------------------------------------------------------\n",
      "lr: 0.001  patience: 50  num_layers: 4  batch_size: 32  hidden_size: 8  dropout: 0.25 criterion: <function criterion3 at 0x000001C7862F7880>\n"
     ]
    },
    {
     "data": {
      "application/vnd.jupyter.widget-view+json": {
       "model_id": "f138bc51f6fe47328f24bce7c6cb6240",
       "version_major": 2,
       "version_minor": 0
      },
      "text/plain": [
       "  0%|          | 0/10000 [00:00<?, ?it/s]"
      ]
     },
     "metadata": {},
     "output_type": "display_data"
    },
    {
     "name": "stdout",
     "output_type": "stream",
     "text": [
      "\n",
      " Early Stopping / epoch: 423 loss: 0.004340\n",
      "----------------------------------------------------------------------------------------------------------\n",
      "lr: 0.001  patience: 50  num_layers: 4  batch_size: 32  hidden_size: 8  dropout: 0.5 criterion: MSELoss()\n"
     ]
    },
    {
     "data": {
      "application/vnd.jupyter.widget-view+json": {
       "model_id": "1c07e4b789a34158841bcb9e40c18dd7",
       "version_major": 2,
       "version_minor": 0
      },
      "text/plain": [
       "  0%|          | 0/10000 [00:00<?, ?it/s]"
      ]
     },
     "metadata": {},
     "output_type": "display_data"
    },
    {
     "name": "stdout",
     "output_type": "stream",
     "text": [
      "\n",
      " Early Stopping / epoch: 434 loss: 0.001564\n",
      "----------------------------------------------------------------------------------------------------------\n",
      "lr: 0.001  patience: 50  num_layers: 4  batch_size: 32  hidden_size: 8  dropout: 0.5 criterion: <function criterion2 at 0x000001C7862F77F0>\n"
     ]
    },
    {
     "data": {
      "application/vnd.jupyter.widget-view+json": {
       "model_id": "4bb2d44fd84348cca7f7c45f5ea152ba",
       "version_major": 2,
       "version_minor": 0
      },
      "text/plain": [
       "  0%|          | 0/10000 [00:00<?, ?it/s]"
      ]
     },
     "metadata": {},
     "output_type": "display_data"
    },
    {
     "name": "stdout",
     "output_type": "stream",
     "text": [
      "\n",
      " Early Stopping / epoch: 411 loss: 0.015440\n",
      "----------------------------------------------------------------------------------------------------------\n",
      "lr: 0.001  patience: 50  num_layers: 4  batch_size: 32  hidden_size: 8  dropout: 0.5 criterion: <function criterion3 at 0x000001C7862F7880>\n"
     ]
    },
    {
     "data": {
      "application/vnd.jupyter.widget-view+json": {
       "model_id": "8a2c867401484301b433bd297528144c",
       "version_major": 2,
       "version_minor": 0
      },
      "text/plain": [
       "  0%|          | 0/10000 [00:00<?, ?it/s]"
      ]
     },
     "metadata": {},
     "output_type": "display_data"
    },
    {
     "name": "stdout",
     "output_type": "stream",
     "text": [
      "\n",
      " Early Stopping / epoch: 291 loss: 0.005116\n",
      "----------------------------------------------------------------------------------------------------------\n",
      "lr: 0.001  patience: 50  num_layers: 4  batch_size: 32  hidden_size: 16  dropout: 0.25 criterion: MSELoss()\n"
     ]
    },
    {
     "data": {
      "application/vnd.jupyter.widget-view+json": {
       "model_id": "c98ffea20da34c26bc8afd87a91486ae",
       "version_major": 2,
       "version_minor": 0
      },
      "text/plain": [
       "  0%|          | 0/10000 [00:00<?, ?it/s]"
      ]
     },
     "metadata": {},
     "output_type": "display_data"
    },
    {
     "name": "stdout",
     "output_type": "stream",
     "text": [
      "\n",
      " Early Stopping / epoch: 669 loss: 0.000715\n",
      "----------------------------------------------------------------------------------------------------------\n",
      "lr: 0.001  patience: 50  num_layers: 4  batch_size: 32  hidden_size: 16  dropout: 0.25 criterion: <function criterion2 at 0x000001C7862F77F0>\n"
     ]
    },
    {
     "data": {
      "application/vnd.jupyter.widget-view+json": {
       "model_id": "f20763af2f17478dbf587b9a3f8cd8f5",
       "version_major": 2,
       "version_minor": 0
      },
      "text/plain": [
       "  0%|          | 0/10000 [00:00<?, ?it/s]"
      ]
     },
     "metadata": {},
     "output_type": "display_data"
    },
    {
     "name": "stdout",
     "output_type": "stream",
     "text": [
      "\n",
      " Early Stopping / epoch: 184 loss: 0.017270\n",
      "----------------------------------------------------------------------------------------------------------\n",
      "lr: 0.001  patience: 50  num_layers: 4  batch_size: 32  hidden_size: 16  dropout: 0.25 criterion: <function criterion3 at 0x000001C7862F7880>\n"
     ]
    },
    {
     "data": {
      "application/vnd.jupyter.widget-view+json": {
       "model_id": "82ab2476a0a749df9e6034a7634c45d3",
       "version_major": 2,
       "version_minor": 0
      },
      "text/plain": [
       "  0%|          | 0/10000 [00:00<?, ?it/s]"
      ]
     },
     "metadata": {},
     "output_type": "display_data"
    },
    {
     "name": "stdout",
     "output_type": "stream",
     "text": [
      "\n",
      " Early Stopping / epoch: 135 loss: 0.004277\n",
      "----------------------------------------------------------------------------------------------------------\n",
      "lr: 0.001  patience: 50  num_layers: 4  batch_size: 32  hidden_size: 16  dropout: 0.5 criterion: MSELoss()\n"
     ]
    },
    {
     "data": {
      "application/vnd.jupyter.widget-view+json": {
       "model_id": "5b5c58d40ed94985b81c075be60891c7",
       "version_major": 2,
       "version_minor": 0
      },
      "text/plain": [
       "  0%|          | 0/10000 [00:00<?, ?it/s]"
      ]
     },
     "metadata": {},
     "output_type": "display_data"
    },
    {
     "name": "stdout",
     "output_type": "stream",
     "text": [
      "\n",
      " Early Stopping / epoch: 287 loss: 0.001586\n",
      "----------------------------------------------------------------------------------------------------------\n",
      "lr: 0.001  patience: 50  num_layers: 4  batch_size: 32  hidden_size: 16  dropout: 0.5 criterion: <function criterion2 at 0x000001C7862F77F0>\n"
     ]
    },
    {
     "data": {
      "application/vnd.jupyter.widget-view+json": {
       "model_id": "1831b453e65e484aa5d203f8ec557808",
       "version_major": 2,
       "version_minor": 0
      },
      "text/plain": [
       "  0%|          | 0/10000 [00:00<?, ?it/s]"
      ]
     },
     "metadata": {},
     "output_type": "display_data"
    },
    {
     "name": "stdout",
     "output_type": "stream",
     "text": [
      "\n",
      " Early Stopping / epoch: 179 loss: 0.023907\n",
      "----------------------------------------------------------------------------------------------------------\n",
      "lr: 0.001  patience: 50  num_layers: 4  batch_size: 32  hidden_size: 16  dropout: 0.5 criterion: <function criterion3 at 0x000001C7862F7880>\n"
     ]
    },
    {
     "data": {
      "application/vnd.jupyter.widget-view+json": {
       "model_id": "ed54b6ded9d84a34b703e995ee8e8fd3",
       "version_major": 2,
       "version_minor": 0
      },
      "text/plain": [
       "  0%|          | 0/10000 [00:00<?, ?it/s]"
      ]
     },
     "metadata": {},
     "output_type": "display_data"
    },
    {
     "name": "stdout",
     "output_type": "stream",
     "text": [
      "\n",
      " Early Stopping / epoch: 377 loss: 0.003146\n",
      "----------------------------------------------------------------------------------------------------------\n",
      "lr: 0.001  patience: 50  num_layers: 4  batch_size: 32  hidden_size: 32  dropout: 0.25 criterion: MSELoss()\n"
     ]
    },
    {
     "data": {
      "application/vnd.jupyter.widget-view+json": {
       "model_id": "8a1b206b779044c6b57abca5ba205a10",
       "version_major": 2,
       "version_minor": 0
      },
      "text/plain": [
       "  0%|          | 0/10000 [00:00<?, ?it/s]"
      ]
     },
     "metadata": {},
     "output_type": "display_data"
    },
    {
     "name": "stdout",
     "output_type": "stream",
     "text": [
      "\n",
      " Early Stopping / epoch: 310 loss: 0.000582\n",
      "----------------------------------------------------------------------------------------------------------\n",
      "lr: 0.001  patience: 50  num_layers: 4  batch_size: 32  hidden_size: 32  dropout: 0.25 criterion: <function criterion2 at 0x000001C7862F77F0>\n"
     ]
    },
    {
     "data": {
      "application/vnd.jupyter.widget-view+json": {
       "model_id": "50b9ad62f10b4bbfb0f8b8ba863d4f37",
       "version_major": 2,
       "version_minor": 0
      },
      "text/plain": [
       "  0%|          | 0/10000 [00:00<?, ?it/s]"
      ]
     },
     "metadata": {},
     "output_type": "display_data"
    },
    {
     "name": "stdout",
     "output_type": "stream",
     "text": [
      "\n",
      " Early Stopping / epoch: 175 loss: 0.011627\n",
      "----------------------------------------------------------------------------------------------------------\n",
      "lr: 0.001  patience: 50  num_layers: 4  batch_size: 32  hidden_size: 32  dropout: 0.25 criterion: <function criterion3 at 0x000001C7862F7880>\n"
     ]
    },
    {
     "data": {
      "application/vnd.jupyter.widget-view+json": {
       "model_id": "cd13df861f4548599fde2f79775f01e2",
       "version_major": 2,
       "version_minor": 0
      },
      "text/plain": [
       "  0%|          | 0/10000 [00:00<?, ?it/s]"
      ]
     },
     "metadata": {},
     "output_type": "display_data"
    },
    {
     "name": "stdout",
     "output_type": "stream",
     "text": [
      "\n",
      " Early Stopping / epoch: 404 loss: 0.002498\n",
      "----------------------------------------------------------------------------------------------------------\n",
      "lr: 0.001  patience: 50  num_layers: 4  batch_size: 32  hidden_size: 32  dropout: 0.5 criterion: MSELoss()\n"
     ]
    },
    {
     "data": {
      "application/vnd.jupyter.widget-view+json": {
       "model_id": "e3fdeb38d48441fca0b3e37570c9bc06",
       "version_major": 2,
       "version_minor": 0
      },
      "text/plain": [
       "  0%|          | 0/10000 [00:00<?, ?it/s]"
      ]
     },
     "metadata": {},
     "output_type": "display_data"
    },
    {
     "name": "stdout",
     "output_type": "stream",
     "text": [
      "\n",
      " Early Stopping / epoch: 323 loss: 0.000581\n",
      "----------------------------------------------------------------------------------------------------------\n",
      "lr: 0.001  patience: 50  num_layers: 4  batch_size: 32  hidden_size: 32  dropout: 0.5 criterion: <function criterion2 at 0x000001C7862F77F0>\n"
     ]
    },
    {
     "data": {
      "application/vnd.jupyter.widget-view+json": {
       "model_id": "f51e0dbb33d34919bba2e5a6988f86c3",
       "version_major": 2,
       "version_minor": 0
      },
      "text/plain": [
       "  0%|          | 0/10000 [00:00<?, ?it/s]"
      ]
     },
     "metadata": {},
     "output_type": "display_data"
    },
    {
     "name": "stdout",
     "output_type": "stream",
     "text": [
      "\n",
      " Early Stopping / epoch: 196 loss: 0.017914\n",
      "----------------------------------------------------------------------------------------------------------\n",
      "lr: 0.001  patience: 50  num_layers: 4  batch_size: 32  hidden_size: 32  dropout: 0.5 criterion: <function criterion3 at 0x000001C7862F7880>\n"
     ]
    },
    {
     "data": {
      "application/vnd.jupyter.widget-view+json": {
       "model_id": "71a4ac68d8354d8fbc65069e480d9ce7",
       "version_major": 2,
       "version_minor": 0
      },
      "text/plain": [
       "  0%|          | 0/10000 [00:00<?, ?it/s]"
      ]
     },
     "metadata": {},
     "output_type": "display_data"
    },
    {
     "name": "stdout",
     "output_type": "stream",
     "text": [
      "\n",
      " Early Stopping / epoch: 288 loss: 0.002717\n",
      "----------------------------------------------------------------------------------------------------------\n",
      "lr: 0.001  patience: 50  num_layers: 4  batch_size: 64  hidden_size: 8  dropout: 0.25 criterion: MSELoss()\n"
     ]
    },
    {
     "data": {
      "application/vnd.jupyter.widget-view+json": {
       "model_id": "6507ba5da0c848b79d0ff2f459299653",
       "version_major": 2,
       "version_minor": 0
      },
      "text/plain": [
       "  0%|          | 0/10000 [00:00<?, ?it/s]"
      ]
     },
     "metadata": {},
     "output_type": "display_data"
    },
    {
     "name": "stdout",
     "output_type": "stream",
     "text": [
      "\n",
      " Early Stopping / epoch: 799 loss: 0.001000\n",
      "----------------------------------------------------------------------------------------------------------\n",
      "lr: 0.001  patience: 50  num_layers: 4  batch_size: 64  hidden_size: 8  dropout: 0.25 criterion: <function criterion2 at 0x000001C7862F77F0>\n"
     ]
    },
    {
     "data": {
      "application/vnd.jupyter.widget-view+json": {
       "model_id": "7907957fad8549f4b6bdfa2a1a95066c",
       "version_major": 2,
       "version_minor": 0
      },
      "text/plain": [
       "  0%|          | 0/10000 [00:00<?, ?it/s]"
      ]
     },
     "metadata": {},
     "output_type": "display_data"
    },
    {
     "name": "stdout",
     "output_type": "stream",
     "text": [
      "\n",
      " Early Stopping / epoch: 281 loss: 0.016549\n",
      "----------------------------------------------------------------------------------------------------------\n",
      "lr: 0.001  patience: 50  num_layers: 4  batch_size: 64  hidden_size: 8  dropout: 0.25 criterion: <function criterion3 at 0x000001C7862F7880>\n"
     ]
    },
    {
     "data": {
      "application/vnd.jupyter.widget-view+json": {
       "model_id": "36834e434c984e9695fbc10073d7ab10",
       "version_major": 2,
       "version_minor": 0
      },
      "text/plain": [
       "  0%|          | 0/10000 [00:00<?, ?it/s]"
      ]
     },
     "metadata": {},
     "output_type": "display_data"
    },
    {
     "name": "stdout",
     "output_type": "stream",
     "text": [
      "\n",
      " Early Stopping / epoch: 534 loss: 0.001977\n",
      "----------------------------------------------------------------------------------------------------------\n",
      "lr: 0.001  patience: 50  num_layers: 4  batch_size: 64  hidden_size: 8  dropout: 0.5 criterion: MSELoss()\n"
     ]
    },
    {
     "data": {
      "application/vnd.jupyter.widget-view+json": {
       "model_id": "a1a86c6735144451b2862466c83f629b",
       "version_major": 2,
       "version_minor": 0
      },
      "text/plain": [
       "  0%|          | 0/10000 [00:00<?, ?it/s]"
      ]
     },
     "metadata": {},
     "output_type": "display_data"
    },
    {
     "name": "stdout",
     "output_type": "stream",
     "text": [
      "\n",
      " Early Stopping / epoch: 292 loss: 0.001303\n",
      "----------------------------------------------------------------------------------------------------------\n",
      "lr: 0.001  patience: 50  num_layers: 4  batch_size: 64  hidden_size: 8  dropout: 0.5 criterion: <function criterion2 at 0x000001C7862F77F0>\n"
     ]
    },
    {
     "data": {
      "application/vnd.jupyter.widget-view+json": {
       "model_id": "83ac51cd3c4145ff854f033dfd578b1a",
       "version_major": 2,
       "version_minor": 0
      },
      "text/plain": [
       "  0%|          | 0/10000 [00:00<?, ?it/s]"
      ]
     },
     "metadata": {},
     "output_type": "display_data"
    },
    {
     "name": "stdout",
     "output_type": "stream",
     "text": [
      "\n",
      " Early Stopping / epoch: 399 loss: 0.017180\n",
      "----------------------------------------------------------------------------------------------------------\n",
      "lr: 0.001  patience: 50  num_layers: 4  batch_size: 64  hidden_size: 8  dropout: 0.5 criterion: <function criterion3 at 0x000001C7862F7880>\n"
     ]
    },
    {
     "data": {
      "application/vnd.jupyter.widget-view+json": {
       "model_id": "cf873ee55c2a4cc3885895a2e3a71e11",
       "version_major": 2,
       "version_minor": 0
      },
      "text/plain": [
       "  0%|          | 0/10000 [00:00<?, ?it/s]"
      ]
     },
     "metadata": {},
     "output_type": "display_data"
    },
    {
     "name": "stdout",
     "output_type": "stream",
     "text": [
      "\n",
      " Early Stopping / epoch: 541 loss: 0.002258\n",
      "----------------------------------------------------------------------------------------------------------\n",
      "lr: 0.001  patience: 50  num_layers: 4  batch_size: 64  hidden_size: 16  dropout: 0.25 criterion: MSELoss()\n"
     ]
    },
    {
     "data": {
      "application/vnd.jupyter.widget-view+json": {
       "model_id": "2720b445f3b5486ebee1cddc490f9f88",
       "version_major": 2,
       "version_minor": 0
      },
      "text/plain": [
       "  0%|          | 0/10000 [00:00<?, ?it/s]"
      ]
     },
     "metadata": {},
     "output_type": "display_data"
    },
    {
     "name": "stdout",
     "output_type": "stream",
     "text": [
      "\n",
      " Early Stopping / epoch: 449 loss: 0.000562\n",
      "----------------------------------------------------------------------------------------------------------\n",
      "lr: 0.001  patience: 50  num_layers: 4  batch_size: 64  hidden_size: 16  dropout: 0.25 criterion: <function criterion2 at 0x000001C7862F77F0>\n"
     ]
    },
    {
     "data": {
      "application/vnd.jupyter.widget-view+json": {
       "model_id": "c22df251cc5e4d0f87fdeab841786aaa",
       "version_major": 2,
       "version_minor": 0
      },
      "text/plain": [
       "  0%|          | 0/10000 [00:00<?, ?it/s]"
      ]
     },
     "metadata": {},
     "output_type": "display_data"
    },
    {
     "name": "stdout",
     "output_type": "stream",
     "text": [
      "\n",
      " Early Stopping / epoch: 396 loss: 0.010317\n",
      "----------------------------------------------------------------------------------------------------------\n",
      "lr: 0.001  patience: 50  num_layers: 4  batch_size: 64  hidden_size: 16  dropout: 0.25 criterion: <function criterion3 at 0x000001C7862F7880>\n"
     ]
    },
    {
     "data": {
      "application/vnd.jupyter.widget-view+json": {
       "model_id": "e84b78815901433a8ce22c7961a8cd1f",
       "version_major": 2,
       "version_minor": 0
      },
      "text/plain": [
       "  0%|          | 0/10000 [00:00<?, ?it/s]"
      ]
     },
     "metadata": {},
     "output_type": "display_data"
    },
    {
     "name": "stdout",
     "output_type": "stream",
     "text": [
      "\n",
      " Early Stopping / epoch: 230 loss: 0.002098\n",
      "----------------------------------------------------------------------------------------------------------\n",
      "lr: 0.001  patience: 50  num_layers: 4  batch_size: 64  hidden_size: 16  dropout: 0.5 criterion: MSELoss()\n"
     ]
    },
    {
     "data": {
      "application/vnd.jupyter.widget-view+json": {
       "model_id": "0aa014acc6eb41b5acf82b09fed535b7",
       "version_major": 2,
       "version_minor": 0
      },
      "text/plain": [
       "  0%|          | 0/10000 [00:00<?, ?it/s]"
      ]
     },
     "metadata": {},
     "output_type": "display_data"
    },
    {
     "name": "stdout",
     "output_type": "stream",
     "text": [
      "\n",
      " Early Stopping / epoch: 337 loss: 0.001080\n",
      "----------------------------------------------------------------------------------------------------------\n",
      "lr: 0.001  patience: 50  num_layers: 4  batch_size: 64  hidden_size: 16  dropout: 0.5 criterion: <function criterion2 at 0x000001C7862F77F0>\n"
     ]
    },
    {
     "data": {
      "application/vnd.jupyter.widget-view+json": {
       "model_id": "6b2b0d798f2545abb5f4cab52360e94b",
       "version_major": 2,
       "version_minor": 0
      },
      "text/plain": [
       "  0%|          | 0/10000 [00:00<?, ?it/s]"
      ]
     },
     "metadata": {},
     "output_type": "display_data"
    },
    {
     "name": "stdout",
     "output_type": "stream",
     "text": [
      "\n",
      " Early Stopping / epoch: 442 loss: 0.016231\n",
      "----------------------------------------------------------------------------------------------------------\n",
      "lr: 0.001  patience: 50  num_layers: 4  batch_size: 64  hidden_size: 16  dropout: 0.5 criterion: <function criterion3 at 0x000001C7862F7880>\n"
     ]
    },
    {
     "data": {
      "application/vnd.jupyter.widget-view+json": {
       "model_id": "9e96fe87fa0b406b84f50c10b9053a55",
       "version_major": 2,
       "version_minor": 0
      },
      "text/plain": [
       "  0%|          | 0/10000 [00:00<?, ?it/s]"
      ]
     },
     "metadata": {},
     "output_type": "display_data"
    },
    {
     "name": "stdout",
     "output_type": "stream",
     "text": [
      "\n",
      " Early Stopping / epoch: 298 loss: 0.001996\n",
      "----------------------------------------------------------------------------------------------------------\n",
      "lr: 0.001  patience: 50  num_layers: 4  batch_size: 64  hidden_size: 32  dropout: 0.25 criterion: MSELoss()\n"
     ]
    },
    {
     "data": {
      "application/vnd.jupyter.widget-view+json": {
       "model_id": "f72430c6931e4d01a62474d826173d3b",
       "version_major": 2,
       "version_minor": 0
      },
      "text/plain": [
       "  0%|          | 0/10000 [00:00<?, ?it/s]"
      ]
     },
     "metadata": {},
     "output_type": "display_data"
    },
    {
     "name": "stdout",
     "output_type": "stream",
     "text": [
      "\n",
      " Early Stopping / epoch: 416 loss: 0.000382\n",
      "----------------------------------------------------------------------------------------------------------\n",
      "lr: 0.001  patience: 50  num_layers: 4  batch_size: 64  hidden_size: 32  dropout: 0.25 criterion: <function criterion2 at 0x000001C7862F77F0>\n"
     ]
    },
    {
     "data": {
      "application/vnd.jupyter.widget-view+json": {
       "model_id": "65491aa5106048beac2e385689902aa2",
       "version_major": 2,
       "version_minor": 0
      },
      "text/plain": [
       "  0%|          | 0/10000 [00:00<?, ?it/s]"
      ]
     },
     "metadata": {},
     "output_type": "display_data"
    },
    {
     "name": "stdout",
     "output_type": "stream",
     "text": [
      "\n",
      " Early Stopping / epoch: 315 loss: 0.014128\n",
      "----------------------------------------------------------------------------------------------------------\n",
      "lr: 0.001  patience: 50  num_layers: 4  batch_size: 64  hidden_size: 32  dropout: 0.25 criterion: <function criterion3 at 0x000001C7862F7880>\n"
     ]
    },
    {
     "data": {
      "application/vnd.jupyter.widget-view+json": {
       "model_id": "139fd9880cdc4930bfc1a2b6eca99abe",
       "version_major": 2,
       "version_minor": 0
      },
      "text/plain": [
       "  0%|          | 0/10000 [00:00<?, ?it/s]"
      ]
     },
     "metadata": {},
     "output_type": "display_data"
    },
    {
     "name": "stdout",
     "output_type": "stream",
     "text": [
      "\n",
      " Early Stopping / epoch: 350 loss: 0.001622\n",
      "----------------------------------------------------------------------------------------------------------\n",
      "lr: 0.001  patience: 50  num_layers: 4  batch_size: 64  hidden_size: 32  dropout: 0.5 criterion: MSELoss()\n"
     ]
    },
    {
     "data": {
      "application/vnd.jupyter.widget-view+json": {
       "model_id": "29dd69a1c16849df84df22c3becaab35",
       "version_major": 2,
       "version_minor": 0
      },
      "text/plain": [
       "  0%|          | 0/10000 [00:00<?, ?it/s]"
      ]
     },
     "metadata": {},
     "output_type": "display_data"
    },
    {
     "name": "stdout",
     "output_type": "stream",
     "text": [
      "\n",
      " Early Stopping / epoch: 821 loss: 0.000294\n",
      "----------------------------------------------------------------------------------------------------------\n",
      "lr: 0.001  patience: 50  num_layers: 4  batch_size: 64  hidden_size: 32  dropout: 0.5 criterion: <function criterion2 at 0x000001C7862F77F0>\n"
     ]
    },
    {
     "data": {
      "application/vnd.jupyter.widget-view+json": {
       "model_id": "bfc960a997544f5682045b7c357432e8",
       "version_major": 2,
       "version_minor": 0
      },
      "text/plain": [
       "  0%|          | 0/10000 [00:00<?, ?it/s]"
      ]
     },
     "metadata": {},
     "output_type": "display_data"
    },
    {
     "name": "stdout",
     "output_type": "stream",
     "text": [
      "\n",
      " Early Stopping / epoch: 253 loss: 0.011847\n",
      "----------------------------------------------------------------------------------------------------------\n",
      "lr: 0.001  patience: 50  num_layers: 4  batch_size: 64  hidden_size: 32  dropout: 0.5 criterion: <function criterion3 at 0x000001C7862F7880>\n"
     ]
    },
    {
     "data": {
      "application/vnd.jupyter.widget-view+json": {
       "model_id": "2f584e6766354f52b294d22db7a432e5",
       "version_major": 2,
       "version_minor": 0
      },
      "text/plain": [
       "  0%|          | 0/10000 [00:00<?, ?it/s]"
      ]
     },
     "metadata": {},
     "output_type": "display_data"
    },
    {
     "name": "stdout",
     "output_type": "stream",
     "text": [
      "\n",
      " Early Stopping / epoch: 277 loss: 0.002059\n",
      "----------------------------------------------------------------------------------------------------------\n",
      "lr: 0.001  patience: 50  num_layers: 4  batch_size: 128  hidden_size: 8  dropout: 0.25 criterion: MSELoss()\n"
     ]
    },
    {
     "data": {
      "application/vnd.jupyter.widget-view+json": {
       "model_id": "9979a5eb03484eeeaca4cf582799f046",
       "version_major": 2,
       "version_minor": 0
      },
      "text/plain": [
       "  0%|          | 0/10000 [00:00<?, ?it/s]"
      ]
     },
     "metadata": {},
     "output_type": "display_data"
    },
    {
     "name": "stdout",
     "output_type": "stream",
     "text": [
      "\n",
      " Early Stopping / epoch: 865 loss: 0.000771\n",
      "----------------------------------------------------------------------------------------------------------\n",
      "lr: 0.001  patience: 50  num_layers: 4  batch_size: 128  hidden_size: 8  dropout: 0.25 criterion: <function criterion2 at 0x000001C7862F77F0>\n"
     ]
    },
    {
     "data": {
      "application/vnd.jupyter.widget-view+json": {
       "model_id": "1b37fe794fcb4ce089fae1b0ac23ebf0",
       "version_major": 2,
       "version_minor": 0
      },
      "text/plain": [
       "  0%|          | 0/10000 [00:00<?, ?it/s]"
      ]
     },
     "metadata": {},
     "output_type": "display_data"
    },
    {
     "name": "stdout",
     "output_type": "stream",
     "text": [
      "\n",
      " Early Stopping / epoch: 451 loss: 0.012022\n",
      "----------------------------------------------------------------------------------------------------------\n",
      "lr: 0.001  patience: 50  num_layers: 4  batch_size: 128  hidden_size: 8  dropout: 0.25 criterion: <function criterion3 at 0x000001C7862F7880>\n"
     ]
    },
    {
     "data": {
      "application/vnd.jupyter.widget-view+json": {
       "model_id": "b1f1f05974cf459fbe777b11ba3b7d20",
       "version_major": 2,
       "version_minor": 0
      },
      "text/plain": [
       "  0%|          | 0/10000 [00:00<?, ?it/s]"
      ]
     },
     "metadata": {},
     "output_type": "display_data"
    },
    {
     "name": "stdout",
     "output_type": "stream",
     "text": [
      "\n",
      " Early Stopping / epoch: 528 loss: 0.001581\n",
      "----------------------------------------------------------------------------------------------------------\n",
      "lr: 0.001  patience: 50  num_layers: 4  batch_size: 128  hidden_size: 8  dropout: 0.5 criterion: MSELoss()\n"
     ]
    },
    {
     "data": {
      "application/vnd.jupyter.widget-view+json": {
       "model_id": "4d29b1cad77c458e96d9b373f526ff5b",
       "version_major": 2,
       "version_minor": 0
      },
      "text/plain": [
       "  0%|          | 0/10000 [00:00<?, ?it/s]"
      ]
     },
     "metadata": {},
     "output_type": "display_data"
    },
    {
     "name": "stdout",
     "output_type": "stream",
     "text": [
      "\n",
      " Early Stopping / epoch: 748 loss: 0.001078\n",
      "----------------------------------------------------------------------------------------------------------\n",
      "lr: 0.001  patience: 50  num_layers: 4  batch_size: 128  hidden_size: 8  dropout: 0.5 criterion: <function criterion2 at 0x000001C7862F77F0>\n"
     ]
    },
    {
     "data": {
      "application/vnd.jupyter.widget-view+json": {
       "model_id": "92a2ab1432f94a779bd87748aaaa068b",
       "version_major": 2,
       "version_minor": 0
      },
      "text/plain": [
       "  0%|          | 0/10000 [00:00<?, ?it/s]"
      ]
     },
     "metadata": {},
     "output_type": "display_data"
    },
    {
     "name": "stdout",
     "output_type": "stream",
     "text": [
      "\n",
      " Early Stopping / epoch: 397 loss: 0.018053\n",
      "----------------------------------------------------------------------------------------------------------\n",
      "lr: 0.001  patience: 50  num_layers: 4  batch_size: 128  hidden_size: 8  dropout: 0.5 criterion: <function criterion3 at 0x000001C7862F7880>\n"
     ]
    },
    {
     "data": {
      "application/vnd.jupyter.widget-view+json": {
       "model_id": "47a146ddda2841c0806a89b864ed3c44",
       "version_major": 2,
       "version_minor": 0
      },
      "text/plain": [
       "  0%|          | 0/10000 [00:00<?, ?it/s]"
      ]
     },
     "metadata": {},
     "output_type": "display_data"
    },
    {
     "name": "stdout",
     "output_type": "stream",
     "text": [
      "\n",
      " Early Stopping / epoch: 324 loss: 0.001947\n",
      "----------------------------------------------------------------------------------------------------------\n",
      "lr: 0.001  patience: 50  num_layers: 4  batch_size: 128  hidden_size: 16  dropout: 0.25 criterion: MSELoss()\n"
     ]
    },
    {
     "data": {
      "application/vnd.jupyter.widget-view+json": {
       "model_id": "226711fc191d4346adf1a09d99ea0ea6",
       "version_major": 2,
       "version_minor": 0
      },
      "text/plain": [
       "  0%|          | 0/10000 [00:00<?, ?it/s]"
      ]
     },
     "metadata": {},
     "output_type": "display_data"
    },
    {
     "name": "stdout",
     "output_type": "stream",
     "text": [
      "\n",
      " Early Stopping / epoch: 492 loss: 0.000555\n",
      "----------------------------------------------------------------------------------------------------------\n",
      "lr: 0.001  patience: 50  num_layers: 4  batch_size: 128  hidden_size: 16  dropout: 0.25 criterion: <function criterion2 at 0x000001C7862F77F0>\n"
     ]
    },
    {
     "data": {
      "application/vnd.jupyter.widget-view+json": {
       "model_id": "1cf71d056b12480886acece2858d2a62",
       "version_major": 2,
       "version_minor": 0
      },
      "text/plain": [
       "  0%|          | 0/10000 [00:00<?, ?it/s]"
      ]
     },
     "metadata": {},
     "output_type": "display_data"
    },
    {
     "name": "stdout",
     "output_type": "stream",
     "text": [
      "\n",
      " Early Stopping / epoch: 199 loss: 0.011375\n",
      "----------------------------------------------------------------------------------------------------------\n",
      "lr: 0.001  patience: 50  num_layers: 4  batch_size: 128  hidden_size: 16  dropout: 0.25 criterion: <function criterion3 at 0x000001C7862F7880>\n"
     ]
    },
    {
     "data": {
      "application/vnd.jupyter.widget-view+json": {
       "model_id": "efcde7e516564eba836de1c5116c2ab0",
       "version_major": 2,
       "version_minor": 0
      },
      "text/plain": [
       "  0%|          | 0/10000 [00:00<?, ?it/s]"
      ]
     },
     "metadata": {},
     "output_type": "display_data"
    },
    {
     "name": "stdout",
     "output_type": "stream",
     "text": [
      "\n",
      " Early Stopping / epoch: 483 loss: 0.001552\n",
      "----------------------------------------------------------------------------------------------------------\n",
      "lr: 0.001  patience: 50  num_layers: 4  batch_size: 128  hidden_size: 16  dropout: 0.5 criterion: MSELoss()\n"
     ]
    },
    {
     "data": {
      "application/vnd.jupyter.widget-view+json": {
       "model_id": "fc30c1837cbb4fed99e28c7c2b30d726",
       "version_major": 2,
       "version_minor": 0
      },
      "text/plain": [
       "  0%|          | 0/10000 [00:00<?, ?it/s]"
      ]
     },
     "metadata": {},
     "output_type": "display_data"
    },
    {
     "name": "stdout",
     "output_type": "stream",
     "text": [
      "\n",
      " Early Stopping / epoch: 338 loss: 0.001155\n",
      "----------------------------------------------------------------------------------------------------------\n",
      "lr: 0.001  patience: 50  num_layers: 4  batch_size: 128  hidden_size: 16  dropout: 0.5 criterion: <function criterion2 at 0x000001C7862F77F0>\n"
     ]
    },
    {
     "data": {
      "application/vnd.jupyter.widget-view+json": {
       "model_id": "52ca51c2857a421ea3c3688ff5f01d54",
       "version_major": 2,
       "version_minor": 0
      },
      "text/plain": [
       "  0%|          | 0/10000 [00:00<?, ?it/s]"
      ]
     },
     "metadata": {},
     "output_type": "display_data"
    },
    {
     "name": "stdout",
     "output_type": "stream",
     "text": [
      "\n",
      " Early Stopping / epoch: 317 loss: 0.013222\n",
      "----------------------------------------------------------------------------------------------------------\n",
      "lr: 0.001  patience: 50  num_layers: 4  batch_size: 128  hidden_size: 16  dropout: 0.5 criterion: <function criterion3 at 0x000001C7862F7880>\n"
     ]
    },
    {
     "data": {
      "application/vnd.jupyter.widget-view+json": {
       "model_id": "480f7ce71a374969b45edd80599e208b",
       "version_major": 2,
       "version_minor": 0
      },
      "text/plain": [
       "  0%|          | 0/10000 [00:00<?, ?it/s]"
      ]
     },
     "metadata": {},
     "output_type": "display_data"
    },
    {
     "name": "stdout",
     "output_type": "stream",
     "text": [
      "\n",
      " Early Stopping / epoch: 371 loss: 0.002693\n",
      "----------------------------------------------------------------------------------------------------------\n",
      "lr: 0.001  patience: 50  num_layers: 4  batch_size: 128  hidden_size: 32  dropout: 0.25 criterion: MSELoss()\n"
     ]
    },
    {
     "data": {
      "application/vnd.jupyter.widget-view+json": {
       "model_id": "f9a805f36a0243529bf26bce1984317d",
       "version_major": 2,
       "version_minor": 0
      },
      "text/plain": [
       "  0%|          | 0/10000 [00:00<?, ?it/s]"
      ]
     },
     "metadata": {},
     "output_type": "display_data"
    },
    {
     "name": "stdout",
     "output_type": "stream",
     "text": [
      "\n",
      " Early Stopping / epoch: 445 loss: 0.000420\n",
      "----------------------------------------------------------------------------------------------------------\n",
      "lr: 0.001  patience: 50  num_layers: 4  batch_size: 128  hidden_size: 32  dropout: 0.25 criterion: <function criterion2 at 0x000001C7862F77F0>\n"
     ]
    },
    {
     "data": {
      "application/vnd.jupyter.widget-view+json": {
       "model_id": "30ca2351b1584b7298734b0ebf003e4d",
       "version_major": 2,
       "version_minor": 0
      },
      "text/plain": [
       "  0%|          | 0/10000 [00:00<?, ?it/s]"
      ]
     },
     "metadata": {},
     "output_type": "display_data"
    },
    {
     "name": "stdout",
     "output_type": "stream",
     "text": [
      "\n",
      " Early Stopping / epoch: 574 loss: 0.011300\n",
      "----------------------------------------------------------------------------------------------------------\n",
      "lr: 0.001  patience: 50  num_layers: 4  batch_size: 128  hidden_size: 32  dropout: 0.25 criterion: <function criterion3 at 0x000001C7862F7880>\n"
     ]
    },
    {
     "data": {
      "application/vnd.jupyter.widget-view+json": {
       "model_id": "64ab61f3c1224bf9a3c3870fd681827b",
       "version_major": 2,
       "version_minor": 0
      },
      "text/plain": [
       "  0%|          | 0/10000 [00:00<?, ?it/s]"
      ]
     },
     "metadata": {},
     "output_type": "display_data"
    },
    {
     "name": "stdout",
     "output_type": "stream",
     "text": [
      "\n",
      " Early Stopping / epoch: 177 loss: 0.002028\n",
      "----------------------------------------------------------------------------------------------------------\n",
      "lr: 0.001  patience: 50  num_layers: 4  batch_size: 128  hidden_size: 32  dropout: 0.5 criterion: MSELoss()\n"
     ]
    },
    {
     "data": {
      "application/vnd.jupyter.widget-view+json": {
       "model_id": "7706628cfc704cdcad987b151421289b",
       "version_major": 2,
       "version_minor": 0
      },
      "text/plain": [
       "  0%|          | 0/10000 [00:00<?, ?it/s]"
      ]
     },
     "metadata": {},
     "output_type": "display_data"
    },
    {
     "name": "stdout",
     "output_type": "stream",
     "text": [
      "\n",
      " Early Stopping / epoch: 361 loss: 0.000615\n",
      "----------------------------------------------------------------------------------------------------------\n",
      "lr: 0.001  patience: 50  num_layers: 4  batch_size: 128  hidden_size: 32  dropout: 0.5 criterion: <function criterion2 at 0x000001C7862F77F0>\n"
     ]
    },
    {
     "data": {
      "application/vnd.jupyter.widget-view+json": {
       "model_id": "658ca1e756ff4edd823ae27abe422684",
       "version_major": 2,
       "version_minor": 0
      },
      "text/plain": [
       "  0%|          | 0/10000 [00:00<?, ?it/s]"
      ]
     },
     "metadata": {},
     "output_type": "display_data"
    },
    {
     "name": "stdout",
     "output_type": "stream",
     "text": [
      "\n",
      " Early Stopping / epoch: 357 loss: 0.011354\n",
      "----------------------------------------------------------------------------------------------------------\n",
      "lr: 0.001  patience: 50  num_layers: 4  batch_size: 128  hidden_size: 32  dropout: 0.5 criterion: <function criterion3 at 0x000001C7862F7880>\n"
     ]
    },
    {
     "data": {
      "application/vnd.jupyter.widget-view+json": {
       "model_id": "b192689b40ee4fa182271191d6cf7537",
       "version_major": 2,
       "version_minor": 0
      },
      "text/plain": [
       "  0%|          | 0/10000 [00:00<?, ?it/s]"
      ]
     },
     "metadata": {},
     "output_type": "display_data"
    },
    {
     "name": "stdout",
     "output_type": "stream",
     "text": [
      "\n",
      " Early Stopping / epoch: 249 loss: 0.001940\n",
      "----------------------------------------------------------------------------------------------------------\n",
      "lr: 0.0001  patience: 20  num_layers: 2  batch_size: 32  hidden_size: 8  dropout: 0.25 criterion: MSELoss()\n"
     ]
    },
    {
     "data": {
      "application/vnd.jupyter.widget-view+json": {
       "model_id": "7326982bd20f4771adefec7849f5d940",
       "version_major": 2,
       "version_minor": 0
      },
      "text/plain": [
       "  0%|          | 0/10000 [00:00<?, ?it/s]"
      ]
     },
     "metadata": {},
     "output_type": "display_data"
    },
    {
     "name": "stdout",
     "output_type": "stream",
     "text": [
      "\n",
      " Early Stopping / epoch: 440 loss: 0.001709\n",
      "----------------------------------------------------------------------------------------------------------\n",
      "lr: 0.0001  patience: 20  num_layers: 2  batch_size: 32  hidden_size: 8  dropout: 0.25 criterion: <function criterion2 at 0x000001C7862F77F0>\n"
     ]
    },
    {
     "data": {
      "application/vnd.jupyter.widget-view+json": {
       "model_id": "e5a2c066165d4608940be6ce89b9d337",
       "version_major": 2,
       "version_minor": 0
      },
      "text/plain": [
       "  0%|          | 0/10000 [00:00<?, ?it/s]"
      ]
     },
     "metadata": {},
     "output_type": "display_data"
    },
    {
     "name": "stdout",
     "output_type": "stream",
     "text": [
      "\n",
      " Early Stopping / epoch: 275 loss: 0.014594\n",
      "----------------------------------------------------------------------------------------------------------\n",
      "lr: 0.0001  patience: 20  num_layers: 2  batch_size: 32  hidden_size: 8  dropout: 0.25 criterion: <function criterion3 at 0x000001C7862F7880>\n"
     ]
    },
    {
     "data": {
      "application/vnd.jupyter.widget-view+json": {
       "model_id": "fba5d5a17a574203945ec991c760f0a4",
       "version_major": 2,
       "version_minor": 0
      },
      "text/plain": [
       "  0%|          | 0/10000 [00:00<?, ?it/s]"
      ]
     },
     "metadata": {},
     "output_type": "display_data"
    },
    {
     "name": "stdout",
     "output_type": "stream",
     "text": [
      "\n",
      " Early Stopping / epoch: 270 loss: 0.003550\n",
      "----------------------------------------------------------------------------------------------------------\n",
      "lr: 0.0001  patience: 20  num_layers: 2  batch_size: 32  hidden_size: 8  dropout: 0.5 criterion: MSELoss()\n"
     ]
    },
    {
     "data": {
      "application/vnd.jupyter.widget-view+json": {
       "model_id": "bf289399eda543c5a40e610f6915a74c",
       "version_major": 2,
       "version_minor": 0
      },
      "text/plain": [
       "  0%|          | 0/10000 [00:00<?, ?it/s]"
      ]
     },
     "metadata": {},
     "output_type": "display_data"
    },
    {
     "name": "stdout",
     "output_type": "stream",
     "text": [
      "\n",
      " Early Stopping / epoch: 258 loss: 0.002599\n",
      "----------------------------------------------------------------------------------------------------------\n",
      "lr: 0.0001  patience: 20  num_layers: 2  batch_size: 32  hidden_size: 8  dropout: 0.5 criterion: <function criterion2 at 0x000001C7862F77F0>\n"
     ]
    },
    {
     "data": {
      "application/vnd.jupyter.widget-view+json": {
       "model_id": "94527d7c86cc406b899a657bfd809319",
       "version_major": 2,
       "version_minor": 0
      },
      "text/plain": [
       "  0%|          | 0/10000 [00:00<?, ?it/s]"
      ]
     },
     "metadata": {},
     "output_type": "display_data"
    },
    {
     "name": "stdout",
     "output_type": "stream",
     "text": [
      "\n",
      " Early Stopping / epoch: 447 loss: 0.015385\n",
      "----------------------------------------------------------------------------------------------------------\n",
      "lr: 0.0001  patience: 20  num_layers: 2  batch_size: 32  hidden_size: 8  dropout: 0.5 criterion: <function criterion3 at 0x000001C7862F7880>\n"
     ]
    },
    {
     "data": {
      "application/vnd.jupyter.widget-view+json": {
       "model_id": "9dfb0188f70d4a6e96ef223c52f413f3",
       "version_major": 2,
       "version_minor": 0
      },
      "text/plain": [
       "  0%|          | 0/10000 [00:00<?, ?it/s]"
      ]
     },
     "metadata": {},
     "output_type": "display_data"
    },
    {
     "name": "stdout",
     "output_type": "stream",
     "text": [
      "\n",
      " Early Stopping / epoch: 286 loss: 0.003742\n",
      "----------------------------------------------------------------------------------------------------------\n",
      "lr: 0.0001  patience: 20  num_layers: 2  batch_size: 32  hidden_size: 16  dropout: 0.25 criterion: MSELoss()\n"
     ]
    },
    {
     "data": {
      "application/vnd.jupyter.widget-view+json": {
       "model_id": "c580f63bee94437eb33911a8758861ae",
       "version_major": 2,
       "version_minor": 0
      },
      "text/plain": [
       "  0%|          | 0/10000 [00:00<?, ?it/s]"
      ]
     },
     "metadata": {},
     "output_type": "display_data"
    },
    {
     "name": "stdout",
     "output_type": "stream",
     "text": [
      "\n",
      " Early Stopping / epoch: 235 loss: 0.001639\n",
      "----------------------------------------------------------------------------------------------------------\n",
      "lr: 0.0001  patience: 20  num_layers: 2  batch_size: 32  hidden_size: 16  dropout: 0.25 criterion: <function criterion2 at 0x000001C7862F77F0>\n"
     ]
    },
    {
     "data": {
      "application/vnd.jupyter.widget-view+json": {
       "model_id": "9fb5b1c94cce447a8dd9dbbe15146e31",
       "version_major": 2,
       "version_minor": 0
      },
      "text/plain": [
       "  0%|          | 0/10000 [00:00<?, ?it/s]"
      ]
     },
     "metadata": {},
     "output_type": "display_data"
    },
    {
     "name": "stdout",
     "output_type": "stream",
     "text": [
      "\n",
      " Early Stopping / epoch: 244 loss: 0.012868\n",
      "----------------------------------------------------------------------------------------------------------\n",
      "lr: 0.0001  patience: 20  num_layers: 2  batch_size: 32  hidden_size: 16  dropout: 0.25 criterion: <function criterion3 at 0x000001C7862F7880>\n"
     ]
    },
    {
     "data": {
      "application/vnd.jupyter.widget-view+json": {
       "model_id": "d7af85c1b2a84f8d807bc596da7f2218",
       "version_major": 2,
       "version_minor": 0
      },
      "text/plain": [
       "  0%|          | 0/10000 [00:00<?, ?it/s]"
      ]
     },
     "metadata": {},
     "output_type": "display_data"
    },
    {
     "name": "stdout",
     "output_type": "stream",
     "text": [
      "\n",
      " Early Stopping / epoch: 141 loss: 0.004644\n",
      "----------------------------------------------------------------------------------------------------------\n",
      "lr: 0.0001  patience: 20  num_layers: 2  batch_size: 32  hidden_size: 16  dropout: 0.5 criterion: MSELoss()\n"
     ]
    },
    {
     "data": {
      "application/vnd.jupyter.widget-view+json": {
       "model_id": "02a8d4afe65e4266b3a82becd2f75431",
       "version_major": 2,
       "version_minor": 0
      },
      "text/plain": [
       "  0%|          | 0/10000 [00:00<?, ?it/s]"
      ]
     },
     "metadata": {},
     "output_type": "display_data"
    },
    {
     "name": "stdout",
     "output_type": "stream",
     "text": [
      "\n",
      " Early Stopping / epoch: 187 loss: 0.002532\n",
      "----------------------------------------------------------------------------------------------------------\n",
      "lr: 0.0001  patience: 20  num_layers: 2  batch_size: 32  hidden_size: 16  dropout: 0.5 criterion: <function criterion2 at 0x000001C7862F77F0>\n"
     ]
    },
    {
     "data": {
      "application/vnd.jupyter.widget-view+json": {
       "model_id": "d8eff2d4e76a45a388af40e6754b4819",
       "version_major": 2,
       "version_minor": 0
      },
      "text/plain": [
       "  0%|          | 0/10000 [00:00<?, ?it/s]"
      ]
     },
     "metadata": {},
     "output_type": "display_data"
    },
    {
     "name": "stdout",
     "output_type": "stream",
     "text": [
      "\n",
      " Early Stopping / epoch: 220 loss: 0.014718\n",
      "----------------------------------------------------------------------------------------------------------\n",
      "lr: 0.0001  patience: 20  num_layers: 2  batch_size: 32  hidden_size: 16  dropout: 0.5 criterion: <function criterion3 at 0x000001C7862F7880>\n"
     ]
    },
    {
     "data": {
      "application/vnd.jupyter.widget-view+json": {
       "model_id": "a3f8eccc1b32410a8def64781969fd01",
       "version_major": 2,
       "version_minor": 0
      },
      "text/plain": [
       "  0%|          | 0/10000 [00:00<?, ?it/s]"
      ]
     },
     "metadata": {},
     "output_type": "display_data"
    },
    {
     "name": "stdout",
     "output_type": "stream",
     "text": [
      "\n",
      " Early Stopping / epoch: 127 loss: 0.003852\n",
      "----------------------------------------------------------------------------------------------------------\n",
      "lr: 0.0001  patience: 20  num_layers: 2  batch_size: 32  hidden_size: 32  dropout: 0.25 criterion: MSELoss()\n"
     ]
    },
    {
     "data": {
      "application/vnd.jupyter.widget-view+json": {
       "model_id": "4599e1fc7ed543eb947702032b2d716b",
       "version_major": 2,
       "version_minor": 0
      },
      "text/plain": [
       "  0%|          | 0/10000 [00:00<?, ?it/s]"
      ]
     },
     "metadata": {},
     "output_type": "display_data"
    },
    {
     "name": "stdout",
     "output_type": "stream",
     "text": [
      "\n",
      " Early Stopping / epoch: 339 loss: 0.000563\n",
      "----------------------------------------------------------------------------------------------------------\n",
      "lr: 0.0001  patience: 20  num_layers: 2  batch_size: 32  hidden_size: 32  dropout: 0.25 criterion: <function criterion2 at 0x000001C7862F77F0>\n"
     ]
    },
    {
     "data": {
      "application/vnd.jupyter.widget-view+json": {
       "model_id": "f05bbc7485db4da388f3470e309f40a4",
       "version_major": 2,
       "version_minor": 0
      },
      "text/plain": [
       "  0%|          | 0/10000 [00:00<?, ?it/s]"
      ]
     },
     "metadata": {},
     "output_type": "display_data"
    },
    {
     "name": "stdout",
     "output_type": "stream",
     "text": [
      "\n",
      " Early Stopping / epoch: 181 loss: 0.011333\n",
      "----------------------------------------------------------------------------------------------------------\n",
      "lr: 0.0001  patience: 20  num_layers: 2  batch_size: 32  hidden_size: 32  dropout: 0.25 criterion: <function criterion3 at 0x000001C7862F7880>\n"
     ]
    },
    {
     "data": {
      "application/vnd.jupyter.widget-view+json": {
       "model_id": "0d139382059540889e033d5773afa605",
       "version_major": 2,
       "version_minor": 0
      },
      "text/plain": [
       "  0%|          | 0/10000 [00:00<?, ?it/s]"
      ]
     },
     "metadata": {},
     "output_type": "display_data"
    },
    {
     "name": "stdout",
     "output_type": "stream",
     "text": [
      "\n",
      " Early Stopping / epoch: 301 loss: 0.001845\n",
      "----------------------------------------------------------------------------------------------------------\n",
      "lr: 0.0001  patience: 20  num_layers: 2  batch_size: 32  hidden_size: 32  dropout: 0.5 criterion: MSELoss()\n"
     ]
    },
    {
     "data": {
      "application/vnd.jupyter.widget-view+json": {
       "model_id": "6614fa212ce54f7cb962e7e6f99c91f0",
       "version_major": 2,
       "version_minor": 0
      },
      "text/plain": [
       "  0%|          | 0/10000 [00:00<?, ?it/s]"
      ]
     },
     "metadata": {},
     "output_type": "display_data"
    },
    {
     "name": "stdout",
     "output_type": "stream",
     "text": [
      "\n",
      " Early Stopping / epoch: 324 loss: 0.001018\n",
      "----------------------------------------------------------------------------------------------------------\n",
      "lr: 0.0001  patience: 20  num_layers: 2  batch_size: 32  hidden_size: 32  dropout: 0.5 criterion: <function criterion2 at 0x000001C7862F77F0>\n"
     ]
    },
    {
     "data": {
      "application/vnd.jupyter.widget-view+json": {
       "model_id": "c5b632dbf961429492b612d4b3ee2bf6",
       "version_major": 2,
       "version_minor": 0
      },
      "text/plain": [
       "  0%|          | 0/10000 [00:00<?, ?it/s]"
      ]
     },
     "metadata": {},
     "output_type": "display_data"
    },
    {
     "name": "stdout",
     "output_type": "stream",
     "text": [
      "\n",
      " Early Stopping / epoch: 122 loss: 0.013711\n",
      "----------------------------------------------------------------------------------------------------------\n",
      "lr: 0.0001  patience: 20  num_layers: 2  batch_size: 32  hidden_size: 32  dropout: 0.5 criterion: <function criterion3 at 0x000001C7862F7880>\n"
     ]
    },
    {
     "data": {
      "application/vnd.jupyter.widget-view+json": {
       "model_id": "9d11b5e0f3464767bbed77a103233c5d",
       "version_major": 2,
       "version_minor": 0
      },
      "text/plain": [
       "  0%|          | 0/10000 [00:00<?, ?it/s]"
      ]
     },
     "metadata": {},
     "output_type": "display_data"
    },
    {
     "name": "stdout",
     "output_type": "stream",
     "text": [
      "\n",
      " Early Stopping / epoch: 312 loss: 0.002231\n",
      "----------------------------------------------------------------------------------------------------------\n",
      "lr: 0.0001  patience: 20  num_layers: 2  batch_size: 64  hidden_size: 8  dropout: 0.25 criterion: MSELoss()\n"
     ]
    },
    {
     "data": {
      "application/vnd.jupyter.widget-view+json": {
       "model_id": "3647d83cbdee458391c5f0d63c3a85b9",
       "version_major": 2,
       "version_minor": 0
      },
      "text/plain": [
       "  0%|          | 0/10000 [00:00<?, ?it/s]"
      ]
     },
     "metadata": {},
     "output_type": "display_data"
    },
    {
     "name": "stdout",
     "output_type": "stream",
     "text": [
      "\n",
      " Early Stopping / epoch: 413 loss: 0.002110\n",
      "----------------------------------------------------------------------------------------------------------\n",
      "lr: 0.0001  patience: 20  num_layers: 2  batch_size: 64  hidden_size: 8  dropout: 0.25 criterion: <function criterion2 at 0x000001C7862F77F0>\n"
     ]
    },
    {
     "data": {
      "application/vnd.jupyter.widget-view+json": {
       "model_id": "a8369c6985b84eabbeb879ef9bf1dc35",
       "version_major": 2,
       "version_minor": 0
      },
      "text/plain": [
       "  0%|          | 0/10000 [00:00<?, ?it/s]"
      ]
     },
     "metadata": {},
     "output_type": "display_data"
    },
    {
     "name": "stdout",
     "output_type": "stream",
     "text": [
      "\n",
      " Early Stopping / epoch: 702 loss: 0.016061\n",
      "----------------------------------------------------------------------------------------------------------\n",
      "lr: 0.0001  patience: 20  num_layers: 2  batch_size: 64  hidden_size: 8  dropout: 0.25 criterion: <function criterion3 at 0x000001C7862F7880>\n"
     ]
    },
    {
     "data": {
      "application/vnd.jupyter.widget-view+json": {
       "model_id": "aa18b49ad58a45b29dd8442677fb8060",
       "version_major": 2,
       "version_minor": 0
      },
      "text/plain": [
       "  0%|          | 0/10000 [00:00<?, ?it/s]"
      ]
     },
     "metadata": {},
     "output_type": "display_data"
    },
    {
     "name": "stdout",
     "output_type": "stream",
     "text": [
      "\n",
      " Early Stopping / epoch: 437 loss: 0.002929\n",
      "----------------------------------------------------------------------------------------------------------\n",
      "lr: 0.0001  patience: 20  num_layers: 2  batch_size: 64  hidden_size: 8  dropout: 0.5 criterion: MSELoss()\n"
     ]
    },
    {
     "data": {
      "application/vnd.jupyter.widget-view+json": {
       "model_id": "fbc11633da454b3a8cf39c453b4a6205",
       "version_major": 2,
       "version_minor": 0
      },
      "text/plain": [
       "  0%|          | 0/10000 [00:00<?, ?it/s]"
      ]
     },
     "metadata": {},
     "output_type": "display_data"
    },
    {
     "name": "stdout",
     "output_type": "stream",
     "text": [
      "\n",
      " Early Stopping / epoch: 442 loss: 0.003008\n",
      "----------------------------------------------------------------------------------------------------------\n",
      "lr: 0.0001  patience: 20  num_layers: 2  batch_size: 64  hidden_size: 8  dropout: 0.5 criterion: <function criterion2 at 0x000001C7862F77F0>\n"
     ]
    },
    {
     "data": {
      "application/vnd.jupyter.widget-view+json": {
       "model_id": "c8f3d5dacdb54d8ba342cdda26739b8c",
       "version_major": 2,
       "version_minor": 0
      },
      "text/plain": [
       "  0%|          | 0/10000 [00:00<?, ?it/s]"
      ]
     },
     "metadata": {},
     "output_type": "display_data"
    },
    {
     "name": "stdout",
     "output_type": "stream",
     "text": [
      "\n",
      " Early Stopping / epoch: 415 loss: 0.016457\n",
      "----------------------------------------------------------------------------------------------------------\n",
      "lr: 0.0001  patience: 20  num_layers: 2  batch_size: 64  hidden_size: 8  dropout: 0.5 criterion: <function criterion3 at 0x000001C7862F7880>\n"
     ]
    },
    {
     "data": {
      "application/vnd.jupyter.widget-view+json": {
       "model_id": "62745623b1cb4c80a0890adc52a305c0",
       "version_major": 2,
       "version_minor": 0
      },
      "text/plain": [
       "  0%|          | 0/10000 [00:00<?, ?it/s]"
      ]
     },
     "metadata": {},
     "output_type": "display_data"
    },
    {
     "name": "stdout",
     "output_type": "stream",
     "text": [
      "\n",
      " Early Stopping / epoch: 412 loss: 0.002927\n",
      "----------------------------------------------------------------------------------------------------------\n",
      "lr: 0.0001  patience: 20  num_layers: 2  batch_size: 64  hidden_size: 16  dropout: 0.25 criterion: MSELoss()\n"
     ]
    },
    {
     "data": {
      "application/vnd.jupyter.widget-view+json": {
       "model_id": "c0740982121d49379152130dc8c38013",
       "version_major": 2,
       "version_minor": 0
      },
      "text/plain": [
       "  0%|          | 0/10000 [00:00<?, ?it/s]"
      ]
     },
     "metadata": {},
     "output_type": "display_data"
    },
    {
     "name": "stdout",
     "output_type": "stream",
     "text": [
      "\n",
      " Early Stopping / epoch: 388 loss: 0.001183\n",
      "----------------------------------------------------------------------------------------------------------\n",
      "lr: 0.0001  patience: 20  num_layers: 2  batch_size: 64  hidden_size: 16  dropout: 0.25 criterion: <function criterion2 at 0x000001C7862F77F0>\n"
     ]
    },
    {
     "data": {
      "application/vnd.jupyter.widget-view+json": {
       "model_id": "1e4bb03b1f99445cb4c9cd9e99cdc4a6",
       "version_major": 2,
       "version_minor": 0
      },
      "text/plain": [
       "  0%|          | 0/10000 [00:00<?, ?it/s]"
      ]
     },
     "metadata": {},
     "output_type": "display_data"
    },
    {
     "name": "stdout",
     "output_type": "stream",
     "text": [
      "\n",
      " Early Stopping / epoch: 309 loss: 0.011747\n",
      "----------------------------------------------------------------------------------------------------------\n",
      "lr: 0.0001  patience: 20  num_layers: 2  batch_size: 64  hidden_size: 16  dropout: 0.25 criterion: <function criterion3 at 0x000001C7862F7880>\n"
     ]
    },
    {
     "data": {
      "application/vnd.jupyter.widget-view+json": {
       "model_id": "8f031d5f2f9342b88f47fbec175cdf4f",
       "version_major": 2,
       "version_minor": 0
      },
      "text/plain": [
       "  0%|          | 0/10000 [00:00<?, ?it/s]"
      ]
     },
     "metadata": {},
     "output_type": "display_data"
    },
    {
     "name": "stdout",
     "output_type": "stream",
     "text": [
      "\n",
      " Early Stopping / epoch: 192 loss: 0.002326\n",
      "----------------------------------------------------------------------------------------------------------\n",
      "lr: 0.0001  patience: 20  num_layers: 2  batch_size: 64  hidden_size: 16  dropout: 0.5 criterion: MSELoss()\n"
     ]
    },
    {
     "data": {
      "application/vnd.jupyter.widget-view+json": {
       "model_id": "6d28b9a0db7a478980b9e09e6a576fb4",
       "version_major": 2,
       "version_minor": 0
      },
      "text/plain": [
       "  0%|          | 0/10000 [00:00<?, ?it/s]"
      ]
     },
     "metadata": {},
     "output_type": "display_data"
    },
    {
     "name": "stdout",
     "output_type": "stream",
     "text": [
      "\n",
      " Early Stopping / epoch: 258 loss: 0.002094\n",
      "----------------------------------------------------------------------------------------------------------\n",
      "lr: 0.0001  patience: 20  num_layers: 2  batch_size: 64  hidden_size: 16  dropout: 0.5 criterion: <function criterion2 at 0x000001C7862F77F0>\n"
     ]
    },
    {
     "data": {
      "application/vnd.jupyter.widget-view+json": {
       "model_id": "eb244fd1b3d74310a2adbc3f2b511923",
       "version_major": 2,
       "version_minor": 0
      },
      "text/plain": [
       "  0%|          | 0/10000 [00:00<?, ?it/s]"
      ]
     },
     "metadata": {},
     "output_type": "display_data"
    },
    {
     "name": "stdout",
     "output_type": "stream",
     "text": [
      "\n",
      " Early Stopping / epoch: 230 loss: 0.014247\n",
      "----------------------------------------------------------------------------------------------------------\n",
      "lr: 0.0001  patience: 20  num_layers: 2  batch_size: 64  hidden_size: 16  dropout: 0.5 criterion: <function criterion3 at 0x000001C7862F7880>\n"
     ]
    },
    {
     "data": {
      "application/vnd.jupyter.widget-view+json": {
       "model_id": "875dfdc2dd13431294ab31e74dca593e",
       "version_major": 2,
       "version_minor": 0
      },
      "text/plain": [
       "  0%|          | 0/10000 [00:00<?, ?it/s]"
      ]
     },
     "metadata": {},
     "output_type": "display_data"
    },
    {
     "name": "stdout",
     "output_type": "stream",
     "text": [
      "\n",
      " Early Stopping / epoch: 300 loss: 0.002181\n",
      "----------------------------------------------------------------------------------------------------------\n",
      "lr: 0.0001  patience: 20  num_layers: 2  batch_size: 64  hidden_size: 32  dropout: 0.25 criterion: MSELoss()\n"
     ]
    },
    {
     "data": {
      "application/vnd.jupyter.widget-view+json": {
       "model_id": "f2af983c2fa745aeb1ed2127a8426649",
       "version_major": 2,
       "version_minor": 0
      },
      "text/plain": [
       "  0%|          | 0/10000 [00:00<?, ?it/s]"
      ]
     },
     "metadata": {},
     "output_type": "display_data"
    },
    {
     "name": "stdout",
     "output_type": "stream",
     "text": [
      "\n",
      " Early Stopping / epoch: 263 loss: 0.000886\n",
      "----------------------------------------------------------------------------------------------------------\n",
      "lr: 0.0001  patience: 20  num_layers: 2  batch_size: 64  hidden_size: 32  dropout: 0.25 criterion: <function criterion2 at 0x000001C7862F77F0>\n"
     ]
    },
    {
     "data": {
      "application/vnd.jupyter.widget-view+json": {
       "model_id": "c962446d483743faa2a74855921113c3",
       "version_major": 2,
       "version_minor": 0
      },
      "text/plain": [
       "  0%|          | 0/10000 [00:00<?, ?it/s]"
      ]
     },
     "metadata": {},
     "output_type": "display_data"
    },
    {
     "name": "stdout",
     "output_type": "stream",
     "text": [
      "\n",
      " Early Stopping / epoch: 264 loss: 0.011658\n",
      "----------------------------------------------------------------------------------------------------------\n",
      "lr: 0.0001  patience: 20  num_layers: 2  batch_size: 64  hidden_size: 32  dropout: 0.25 criterion: <function criterion3 at 0x000001C7862F7880>\n"
     ]
    },
    {
     "data": {
      "application/vnd.jupyter.widget-view+json": {
       "model_id": "6348a35bd81d4fddae71bc8885fb4260",
       "version_major": 2,
       "version_minor": 0
      },
      "text/plain": [
       "  0%|          | 0/10000 [00:00<?, ?it/s]"
      ]
     },
     "metadata": {},
     "output_type": "display_data"
    },
    {
     "name": "stdout",
     "output_type": "stream",
     "text": [
      "\n",
      " Early Stopping / epoch: 187 loss: 0.002012\n",
      "----------------------------------------------------------------------------------------------------------\n",
      "lr: 0.0001  patience: 20  num_layers: 2  batch_size: 64  hidden_size: 32  dropout: 0.5 criterion: MSELoss()\n"
     ]
    },
    {
     "data": {
      "application/vnd.jupyter.widget-view+json": {
       "model_id": "47ad3b9bae264cdb8e5391ce3348165c",
       "version_major": 2,
       "version_minor": 0
      },
      "text/plain": [
       "  0%|          | 0/10000 [00:00<?, ?it/s]"
      ]
     },
     "metadata": {},
     "output_type": "display_data"
    },
    {
     "name": "stdout",
     "output_type": "stream",
     "text": [
      "\n",
      " Early Stopping / epoch: 369 loss: 0.000861\n",
      "----------------------------------------------------------------------------------------------------------\n",
      "lr: 0.0001  patience: 20  num_layers: 2  batch_size: 64  hidden_size: 32  dropout: 0.5 criterion: <function criterion2 at 0x000001C7862F77F0>\n"
     ]
    },
    {
     "data": {
      "application/vnd.jupyter.widget-view+json": {
       "model_id": "4a74cf81ef0246bd9fd0b777c2ce08a7",
       "version_major": 2,
       "version_minor": 0
      },
      "text/plain": [
       "  0%|          | 0/10000 [00:00<?, ?it/s]"
      ]
     },
     "metadata": {},
     "output_type": "display_data"
    },
    {
     "name": "stdout",
     "output_type": "stream",
     "text": [
      "\n",
      " Early Stopping / epoch: 326 loss: 0.009994\n",
      "----------------------------------------------------------------------------------------------------------\n",
      "lr: 0.0001  patience: 20  num_layers: 2  batch_size: 64  hidden_size: 32  dropout: 0.5 criterion: <function criterion3 at 0x000001C7862F7880>\n"
     ]
    },
    {
     "data": {
      "application/vnd.jupyter.widget-view+json": {
       "model_id": "43eec2db1f8e4ad4ad4bf4fe699f63a4",
       "version_major": 2,
       "version_minor": 0
      },
      "text/plain": [
       "  0%|          | 0/10000 [00:00<?, ?it/s]"
      ]
     },
     "metadata": {},
     "output_type": "display_data"
    },
    {
     "name": "stdout",
     "output_type": "stream",
     "text": [
      "\n",
      " Early Stopping / epoch: 323 loss: 0.001837\n",
      "----------------------------------------------------------------------------------------------------------\n",
      "lr: 0.0001  patience: 20  num_layers: 2  batch_size: 128  hidden_size: 8  dropout: 0.25 criterion: MSELoss()\n"
     ]
    },
    {
     "data": {
      "application/vnd.jupyter.widget-view+json": {
       "model_id": "4e104e66193e40f19878412dd3d2d402",
       "version_major": 2,
       "version_minor": 0
      },
      "text/plain": [
       "  0%|          | 0/10000 [00:00<?, ?it/s]"
      ]
     },
     "metadata": {},
     "output_type": "display_data"
    },
    {
     "name": "stdout",
     "output_type": "stream",
     "text": [
      "\n",
      " Early Stopping / epoch: 550 loss: 0.002094\n",
      "----------------------------------------------------------------------------------------------------------\n",
      "lr: 0.0001  patience: 20  num_layers: 2  batch_size: 128  hidden_size: 8  dropout: 0.25 criterion: <function criterion2 at 0x000001C7862F77F0>\n"
     ]
    },
    {
     "data": {
      "application/vnd.jupyter.widget-view+json": {
       "model_id": "21abf2574577491082692670d05f2dcf",
       "version_major": 2,
       "version_minor": 0
      },
      "text/plain": [
       "  0%|          | 0/10000 [00:00<?, ?it/s]"
      ]
     },
     "metadata": {},
     "output_type": "display_data"
    },
    {
     "name": "stdout",
     "output_type": "stream",
     "text": [
      "\n",
      " Early Stopping / epoch: 508 loss: 0.019623\n",
      "----------------------------------------------------------------------------------------------------------\n",
      "lr: 0.0001  patience: 20  num_layers: 2  batch_size: 128  hidden_size: 8  dropout: 0.25 criterion: <function criterion3 at 0x000001C7862F7880>\n"
     ]
    },
    {
     "data": {
      "application/vnd.jupyter.widget-view+json": {
       "model_id": "a875a5d3a8424d5da50f2214d0cf852f",
       "version_major": 2,
       "version_minor": 0
      },
      "text/plain": [
       "  0%|          | 0/10000 [00:00<?, ?it/s]"
      ]
     },
     "metadata": {},
     "output_type": "display_data"
    },
    {
     "name": "stdout",
     "output_type": "stream",
     "text": [
      "\n",
      " Early Stopping / epoch: 247 loss: 0.004108\n",
      "----------------------------------------------------------------------------------------------------------\n",
      "lr: 0.0001  patience: 20  num_layers: 2  batch_size: 128  hidden_size: 8  dropout: 0.5 criterion: MSELoss()\n"
     ]
    },
    {
     "data": {
      "application/vnd.jupyter.widget-view+json": {
       "model_id": "71049d0a3a03439d9435ac3401c15591",
       "version_major": 2,
       "version_minor": 0
      },
      "text/plain": [
       "  0%|          | 0/10000 [00:00<?, ?it/s]"
      ]
     },
     "metadata": {},
     "output_type": "display_data"
    },
    {
     "name": "stdout",
     "output_type": "stream",
     "text": [
      "\n",
      " Early Stopping / epoch: 295 loss: 0.010112\n",
      "----------------------------------------------------------------------------------------------------------\n",
      "lr: 0.0001  patience: 20  num_layers: 2  batch_size: 128  hidden_size: 8  dropout: 0.5 criterion: <function criterion2 at 0x000001C7862F77F0>\n"
     ]
    },
    {
     "data": {
      "application/vnd.jupyter.widget-view+json": {
       "model_id": "f8f93a6fd15341ee8343b093c281f9be",
       "version_major": 2,
       "version_minor": 0
      },
      "text/plain": [
       "  0%|          | 0/10000 [00:00<?, ?it/s]"
      ]
     },
     "metadata": {},
     "output_type": "display_data"
    },
    {
     "name": "stdout",
     "output_type": "stream",
     "text": [
      "\n",
      " Early Stopping / epoch: 320 loss: 0.023937\n",
      "----------------------------------------------------------------------------------------------------------\n",
      "lr: 0.0001  patience: 20  num_layers: 2  batch_size: 128  hidden_size: 8  dropout: 0.5 criterion: <function criterion3 at 0x000001C7862F7880>\n"
     ]
    },
    {
     "data": {
      "application/vnd.jupyter.widget-view+json": {
       "model_id": "26c92fe2dde64d0e8c276847f948f93d",
       "version_major": 2,
       "version_minor": 0
      },
      "text/plain": [
       "  0%|          | 0/10000 [00:00<?, ?it/s]"
      ]
     },
     "metadata": {},
     "output_type": "display_data"
    },
    {
     "name": "stdout",
     "output_type": "stream",
     "text": [
      "\n",
      " Early Stopping / epoch: 733 loss: 0.002317\n",
      "----------------------------------------------------------------------------------------------------------\n",
      "lr: 0.0001  patience: 20  num_layers: 2  batch_size: 128  hidden_size: 16  dropout: 0.25 criterion: MSELoss()\n"
     ]
    },
    {
     "data": {
      "application/vnd.jupyter.widget-view+json": {
       "model_id": "cb28db43b60c4e38ae94c36dc5dc6a98",
       "version_major": 2,
       "version_minor": 0
      },
      "text/plain": [
       "  0%|          | 0/10000 [00:00<?, ?it/s]"
      ]
     },
     "metadata": {},
     "output_type": "display_data"
    },
    {
     "name": "stdout",
     "output_type": "stream",
     "text": [
      "\n",
      " Early Stopping / epoch: 326 loss: 0.002212\n",
      "----------------------------------------------------------------------------------------------------------\n",
      "lr: 0.0001  patience: 20  num_layers: 2  batch_size: 128  hidden_size: 16  dropout: 0.25 criterion: <function criterion2 at 0x000001C7862F77F0>\n"
     ]
    },
    {
     "data": {
      "application/vnd.jupyter.widget-view+json": {
       "model_id": "74bddfbbc0ce4aff8b30c68294bb56c2",
       "version_major": 2,
       "version_minor": 0
      },
      "text/plain": [
       "  0%|          | 0/10000 [00:00<?, ?it/s]"
      ]
     },
     "metadata": {},
     "output_type": "display_data"
    },
    {
     "name": "stdout",
     "output_type": "stream",
     "text": [
      "\n",
      " Early Stopping / epoch: 316 loss: 0.014406\n",
      "----------------------------------------------------------------------------------------------------------\n",
      "lr: 0.0001  patience: 20  num_layers: 2  batch_size: 128  hidden_size: 16  dropout: 0.25 criterion: <function criterion3 at 0x000001C7862F7880>\n"
     ]
    },
    {
     "data": {
      "application/vnd.jupyter.widget-view+json": {
       "model_id": "0fe2ffd843054396948497daf4d5f58f",
       "version_major": 2,
       "version_minor": 0
      },
      "text/plain": [
       "  0%|          | 0/10000 [00:00<?, ?it/s]"
      ]
     },
     "metadata": {},
     "output_type": "display_data"
    },
    {
     "name": "stdout",
     "output_type": "stream",
     "text": [
      "\n",
      " Early Stopping / epoch: 407 loss: 0.001911\n",
      "----------------------------------------------------------------------------------------------------------\n",
      "lr: 0.0001  patience: 20  num_layers: 2  batch_size: 128  hidden_size: 16  dropout: 0.5 criterion: MSELoss()\n"
     ]
    },
    {
     "data": {
      "application/vnd.jupyter.widget-view+json": {
       "model_id": "44605ff8d35b45438f51f0101c0f04ca",
       "version_major": 2,
       "version_minor": 0
      },
      "text/plain": [
       "  0%|          | 0/10000 [00:00<?, ?it/s]"
      ]
     },
     "metadata": {},
     "output_type": "display_data"
    },
    {
     "name": "stdout",
     "output_type": "stream",
     "text": [
      "\n",
      " Early Stopping / epoch: 366 loss: 0.002484\n",
      "----------------------------------------------------------------------------------------------------------\n",
      "lr: 0.0001  patience: 20  num_layers: 2  batch_size: 128  hidden_size: 16  dropout: 0.5 criterion: <function criterion2 at 0x000001C7862F77F0>\n"
     ]
    },
    {
     "data": {
      "application/vnd.jupyter.widget-view+json": {
       "model_id": "ba379bc24cb24f3ab39022b6eb474c6b",
       "version_major": 2,
       "version_minor": 0
      },
      "text/plain": [
       "  0%|          | 0/10000 [00:00<?, ?it/s]"
      ]
     },
     "metadata": {},
     "output_type": "display_data"
    },
    {
     "name": "stdout",
     "output_type": "stream",
     "text": [
      "\n",
      " Early Stopping / epoch: 321 loss: 0.017693\n",
      "----------------------------------------------------------------------------------------------------------\n",
      "lr: 0.0001  patience: 20  num_layers: 2  batch_size: 128  hidden_size: 16  dropout: 0.5 criterion: <function criterion3 at 0x000001C7862F7880>\n"
     ]
    },
    {
     "data": {
      "application/vnd.jupyter.widget-view+json": {
       "model_id": "0a02ad72dcd34a219972be9b2006f229",
       "version_major": 2,
       "version_minor": 0
      },
      "text/plain": [
       "  0%|          | 0/10000 [00:00<?, ?it/s]"
      ]
     },
     "metadata": {},
     "output_type": "display_data"
    },
    {
     "name": "stdout",
     "output_type": "stream",
     "text": [
      "\n",
      " Early Stopping / epoch: 383 loss: 0.002694\n",
      "----------------------------------------------------------------------------------------------------------\n",
      "lr: 0.0001  patience: 20  num_layers: 2  batch_size: 128  hidden_size: 32  dropout: 0.25 criterion: MSELoss()\n"
     ]
    },
    {
     "data": {
      "application/vnd.jupyter.widget-view+json": {
       "model_id": "0a45bff3d7a44995a83c17719ae62a4d",
       "version_major": 2,
       "version_minor": 0
      },
      "text/plain": [
       "  0%|          | 0/10000 [00:00<?, ?it/s]"
      ]
     },
     "metadata": {},
     "output_type": "display_data"
    },
    {
     "name": "stdout",
     "output_type": "stream",
     "text": [
      "\n",
      " Early Stopping / epoch: 371 loss: 0.001241\n",
      "----------------------------------------------------------------------------------------------------------\n",
      "lr: 0.0001  patience: 20  num_layers: 2  batch_size: 128  hidden_size: 32  dropout: 0.25 criterion: <function criterion2 at 0x000001C7862F77F0>\n"
     ]
    },
    {
     "data": {
      "application/vnd.jupyter.widget-view+json": {
       "model_id": "4b6389f0181e4a538c5376b8ef794485",
       "version_major": 2,
       "version_minor": 0
      },
      "text/plain": [
       "  0%|          | 0/10000 [00:00<?, ?it/s]"
      ]
     },
     "metadata": {},
     "output_type": "display_data"
    },
    {
     "name": "stdout",
     "output_type": "stream",
     "text": [
      "\n",
      " Early Stopping / epoch: 346 loss: 0.010890\n",
      "----------------------------------------------------------------------------------------------------------\n",
      "lr: 0.0001  patience: 20  num_layers: 2  batch_size: 128  hidden_size: 32  dropout: 0.25 criterion: <function criterion3 at 0x000001C7862F7880>\n"
     ]
    },
    {
     "data": {
      "application/vnd.jupyter.widget-view+json": {
       "model_id": "bcb08fb709744bbe874988d35335d052",
       "version_major": 2,
       "version_minor": 0
      },
      "text/plain": [
       "  0%|          | 0/10000 [00:00<?, ?it/s]"
      ]
     },
     "metadata": {},
     "output_type": "display_data"
    },
    {
     "name": "stdout",
     "output_type": "stream",
     "text": [
      "\n",
      " Early Stopping / epoch: 391 loss: 0.001351\n",
      "----------------------------------------------------------------------------------------------------------\n",
      "lr: 0.0001  patience: 20  num_layers: 2  batch_size: 128  hidden_size: 32  dropout: 0.5 criterion: MSELoss()\n"
     ]
    },
    {
     "data": {
      "application/vnd.jupyter.widget-view+json": {
       "model_id": "70b87d1e99b94416a8d48b3420a05612",
       "version_major": 2,
       "version_minor": 0
      },
      "text/plain": [
       "  0%|          | 0/10000 [00:00<?, ?it/s]"
      ]
     },
     "metadata": {},
     "output_type": "display_data"
    },
    {
     "name": "stdout",
     "output_type": "stream",
     "text": [
      "\n",
      " Early Stopping / epoch: 232 loss: 0.001671\n",
      "----------------------------------------------------------------------------------------------------------\n",
      "lr: 0.0001  patience: 20  num_layers: 2  batch_size: 128  hidden_size: 32  dropout: 0.5 criterion: <function criterion2 at 0x000001C7862F77F0>\n"
     ]
    },
    {
     "data": {
      "application/vnd.jupyter.widget-view+json": {
       "model_id": "ae0eb2bfbef14b848858baf7cdc93d29",
       "version_major": 2,
       "version_minor": 0
      },
      "text/plain": [
       "  0%|          | 0/10000 [00:00<?, ?it/s]"
      ]
     },
     "metadata": {},
     "output_type": "display_data"
    },
    {
     "name": "stdout",
     "output_type": "stream",
     "text": [
      "\n",
      " Early Stopping / epoch: 277 loss: 0.012929\n",
      "----------------------------------------------------------------------------------------------------------\n",
      "lr: 0.0001  patience: 20  num_layers: 2  batch_size: 128  hidden_size: 32  dropout: 0.5 criterion: <function criterion3 at 0x000001C7862F7880>\n"
     ]
    },
    {
     "data": {
      "application/vnd.jupyter.widget-view+json": {
       "model_id": "ae4497d155ff437b91135817cded3c8c",
       "version_major": 2,
       "version_minor": 0
      },
      "text/plain": [
       "  0%|          | 0/10000 [00:00<?, ?it/s]"
      ]
     },
     "metadata": {},
     "output_type": "display_data"
    },
    {
     "name": "stdout",
     "output_type": "stream",
     "text": [
      "\n",
      " Early Stopping / epoch: 331 loss: 0.001847\n",
      "----------------------------------------------------------------------------------------------------------\n",
      "lr: 0.0001  patience: 20  num_layers: 4  batch_size: 32  hidden_size: 8  dropout: 0.25 criterion: MSELoss()\n"
     ]
    },
    {
     "data": {
      "application/vnd.jupyter.widget-view+json": {
       "model_id": "d08ae097c84640929bfec811609967a4",
       "version_major": 2,
       "version_minor": 0
      },
      "text/plain": [
       "  0%|          | 0/10000 [00:00<?, ?it/s]"
      ]
     },
     "metadata": {},
     "output_type": "display_data"
    },
    {
     "name": "stdout",
     "output_type": "stream",
     "text": [
      "\n",
      " Early Stopping / epoch: 299 loss: 0.001719\n",
      "----------------------------------------------------------------------------------------------------------\n",
      "lr: 0.0001  patience: 20  num_layers: 4  batch_size: 32  hidden_size: 8  dropout: 0.25 criterion: <function criterion2 at 0x000001C7862F77F0>\n"
     ]
    },
    {
     "data": {
      "application/vnd.jupyter.widget-view+json": {
       "model_id": "57d3705699b44ca18fd20d38dc626c18",
       "version_major": 2,
       "version_minor": 0
      },
      "text/plain": [
       "  0%|          | 0/10000 [00:00<?, ?it/s]"
      ]
     },
     "metadata": {},
     "output_type": "display_data"
    },
    {
     "name": "stdout",
     "output_type": "stream",
     "text": [
      "\n",
      " Early Stopping / epoch: 270 loss: 0.017839\n",
      "----------------------------------------------------------------------------------------------------------\n",
      "lr: 0.0001  patience: 20  num_layers: 4  batch_size: 32  hidden_size: 8  dropout: 0.25 criterion: <function criterion3 at 0x000001C7862F7880>\n"
     ]
    },
    {
     "data": {
      "application/vnd.jupyter.widget-view+json": {
       "model_id": "4867c2b7282d49928729ce447c09e2e9",
       "version_major": 2,
       "version_minor": 0
      },
      "text/plain": [
       "  0%|          | 0/10000 [00:00<?, ?it/s]"
      ]
     },
     "metadata": {},
     "output_type": "display_data"
    },
    {
     "name": "stdout",
     "output_type": "stream",
     "text": [
      "\n",
      " Early Stopping / epoch: 236 loss: 0.003968\n",
      "----------------------------------------------------------------------------------------------------------\n",
      "lr: 0.0001  patience: 20  num_layers: 4  batch_size: 32  hidden_size: 8  dropout: 0.5 criterion: MSELoss()\n"
     ]
    },
    {
     "data": {
      "application/vnd.jupyter.widget-view+json": {
       "model_id": "e3d1ffc93d0d46d18395647a4e7dd51a",
       "version_major": 2,
       "version_minor": 0
      },
      "text/plain": [
       "  0%|          | 0/10000 [00:00<?, ?it/s]"
      ]
     },
     "metadata": {},
     "output_type": "display_data"
    },
    {
     "name": "stdout",
     "output_type": "stream",
     "text": [
      "\n",
      " Early Stopping / epoch: 229 loss: 0.003122\n",
      "----------------------------------------------------------------------------------------------------------\n",
      "lr: 0.0001  patience: 20  num_layers: 4  batch_size: 32  hidden_size: 8  dropout: 0.5 criterion: <function criterion2 at 0x000001C7862F77F0>\n"
     ]
    },
    {
     "data": {
      "application/vnd.jupyter.widget-view+json": {
       "model_id": "af9f7403bcd643bcb934d5acbc2f31fa",
       "version_major": 2,
       "version_minor": 0
      },
      "text/plain": [
       "  0%|          | 0/10000 [00:00<?, ?it/s]"
      ]
     },
     "metadata": {},
     "output_type": "display_data"
    },
    {
     "name": "stdout",
     "output_type": "stream",
     "text": [
      "\n",
      " Early Stopping / epoch: 512 loss: 0.018226\n",
      "----------------------------------------------------------------------------------------------------------\n",
      "lr: 0.0001  patience: 20  num_layers: 4  batch_size: 32  hidden_size: 8  dropout: 0.5 criterion: <function criterion3 at 0x000001C7862F7880>\n"
     ]
    },
    {
     "data": {
      "application/vnd.jupyter.widget-view+json": {
       "model_id": "abf4efb4f238455196ca89908350f7ed",
       "version_major": 2,
       "version_minor": 0
      },
      "text/plain": [
       "  0%|          | 0/10000 [00:00<?, ?it/s]"
      ]
     },
     "metadata": {},
     "output_type": "display_data"
    },
    {
     "name": "stdout",
     "output_type": "stream",
     "text": [
      "\n",
      " Early Stopping / epoch: 481 loss: 0.003620\n",
      "----------------------------------------------------------------------------------------------------------\n",
      "lr: 0.0001  patience: 20  num_layers: 4  batch_size: 32  hidden_size: 16  dropout: 0.25 criterion: MSELoss()\n"
     ]
    },
    {
     "data": {
      "application/vnd.jupyter.widget-view+json": {
       "model_id": "4fe46eedde3149259d13fde00752edff",
       "version_major": 2,
       "version_minor": 0
      },
      "text/plain": [
       "  0%|          | 0/10000 [00:00<?, ?it/s]"
      ]
     },
     "metadata": {},
     "output_type": "display_data"
    },
    {
     "name": "stdout",
     "output_type": "stream",
     "text": [
      "\n",
      " Early Stopping / epoch: 136 loss: 0.002042\n",
      "----------------------------------------------------------------------------------------------------------\n",
      "lr: 0.0001  patience: 20  num_layers: 4  batch_size: 32  hidden_size: 16  dropout: 0.25 criterion: <function criterion2 at 0x000001C7862F77F0>\n"
     ]
    },
    {
     "data": {
      "application/vnd.jupyter.widget-view+json": {
       "model_id": "6c196a28edaa40a7b7d6195ea535e688",
       "version_major": 2,
       "version_minor": 0
      },
      "text/plain": [
       "  0%|          | 0/10000 [00:00<?, ?it/s]"
      ]
     },
     "metadata": {},
     "output_type": "display_data"
    },
    {
     "name": "stdout",
     "output_type": "stream",
     "text": [
      "\n",
      " Early Stopping / epoch: 119 loss: 0.018307\n",
      "----------------------------------------------------------------------------------------------------------\n",
      "lr: 0.0001  patience: 20  num_layers: 4  batch_size: 32  hidden_size: 16  dropout: 0.25 criterion: <function criterion3 at 0x000001C7862F7880>\n"
     ]
    },
    {
     "data": {
      "application/vnd.jupyter.widget-view+json": {
       "model_id": "81315f7778a14d80b21f74609a7ac1c6",
       "version_major": 2,
       "version_minor": 0
      },
      "text/plain": [
       "  0%|          | 0/10000 [00:00<?, ?it/s]"
      ]
     },
     "metadata": {},
     "output_type": "display_data"
    },
    {
     "name": "stdout",
     "output_type": "stream",
     "text": [
      "\n",
      " Early Stopping / epoch: 349 loss: 0.002872\n",
      "----------------------------------------------------------------------------------------------------------\n",
      "lr: 0.0001  patience: 20  num_layers: 4  batch_size: 32  hidden_size: 16  dropout: 0.5 criterion: MSELoss()\n"
     ]
    },
    {
     "data": {
      "application/vnd.jupyter.widget-view+json": {
       "model_id": "2d81b797991e4cef82b8028b8632905c",
       "version_major": 2,
       "version_minor": 0
      },
      "text/plain": [
       "  0%|          | 0/10000 [00:00<?, ?it/s]"
      ]
     },
     "metadata": {},
     "output_type": "display_data"
    },
    {
     "name": "stdout",
     "output_type": "stream",
     "text": [
      "\n",
      " Early Stopping / epoch: 330 loss: 0.001886\n",
      "----------------------------------------------------------------------------------------------------------\n",
      "lr: 0.0001  patience: 20  num_layers: 4  batch_size: 32  hidden_size: 16  dropout: 0.5 criterion: <function criterion2 at 0x000001C7862F77F0>\n"
     ]
    },
    {
     "data": {
      "application/vnd.jupyter.widget-view+json": {
       "model_id": "823585d73bff49d4a5b01955274c1111",
       "version_major": 2,
       "version_minor": 0
      },
      "text/plain": [
       "  0%|          | 0/10000 [00:00<?, ?it/s]"
      ]
     },
     "metadata": {},
     "output_type": "display_data"
    },
    {
     "name": "stdout",
     "output_type": "stream",
     "text": [
      "\n",
      " Early Stopping / epoch: 162 loss: 0.020052\n",
      "----------------------------------------------------------------------------------------------------------\n",
      "lr: 0.0001  patience: 20  num_layers: 4  batch_size: 32  hidden_size: 16  dropout: 0.5 criterion: <function criterion3 at 0x000001C7862F7880>\n"
     ]
    },
    {
     "data": {
      "application/vnd.jupyter.widget-view+json": {
       "model_id": "c40169bedc104bc6b9f5bb2d0a5f59fd",
       "version_major": 2,
       "version_minor": 0
      },
      "text/plain": [
       "  0%|          | 0/10000 [00:00<?, ?it/s]"
      ]
     },
     "metadata": {},
     "output_type": "display_data"
    },
    {
     "name": "stdout",
     "output_type": "stream",
     "text": [
      "\n",
      " Early Stopping / epoch: 203 loss: 0.003832\n",
      "----------------------------------------------------------------------------------------------------------\n",
      "lr: 0.0001  patience: 20  num_layers: 4  batch_size: 32  hidden_size: 32  dropout: 0.25 criterion: MSELoss()\n"
     ]
    },
    {
     "data": {
      "application/vnd.jupyter.widget-view+json": {
       "model_id": "43d95ee1a04a4bd5b0f2f052572cfb8f",
       "version_major": 2,
       "version_minor": 0
      },
      "text/plain": [
       "  0%|          | 0/10000 [00:00<?, ?it/s]"
      ]
     },
     "metadata": {},
     "output_type": "display_data"
    },
    {
     "name": "stdout",
     "output_type": "stream",
     "text": [
      "\n",
      " Early Stopping / epoch: 154 loss: 0.001276\n",
      "----------------------------------------------------------------------------------------------------------\n",
      "lr: 0.0001  patience: 20  num_layers: 4  batch_size: 32  hidden_size: 32  dropout: 0.25 criterion: <function criterion2 at 0x000001C7862F77F0>\n"
     ]
    },
    {
     "data": {
      "application/vnd.jupyter.widget-view+json": {
       "model_id": "e68597e4edad48a69aec0668e6c60b6b",
       "version_major": 2,
       "version_minor": 0
      },
      "text/plain": [
       "  0%|          | 0/10000 [00:00<?, ?it/s]"
      ]
     },
     "metadata": {},
     "output_type": "display_data"
    },
    {
     "name": "stdout",
     "output_type": "stream",
     "text": [
      "\n",
      " Early Stopping / epoch: 275 loss: 0.012161\n",
      "----------------------------------------------------------------------------------------------------------\n",
      "lr: 0.0001  patience: 20  num_layers: 4  batch_size: 32  hidden_size: 32  dropout: 0.25 criterion: <function criterion3 at 0x000001C7862F7880>\n"
     ]
    },
    {
     "data": {
      "application/vnd.jupyter.widget-view+json": {
       "model_id": "d24276132f3244ce8f8203871951d60e",
       "version_major": 2,
       "version_minor": 0
      },
      "text/plain": [
       "  0%|          | 0/10000 [00:00<?, ?it/s]"
      ]
     },
     "metadata": {},
     "output_type": "display_data"
    },
    {
     "name": "stdout",
     "output_type": "stream",
     "text": [
      "\n",
      " Early Stopping / epoch: 152 loss: 0.003165\n",
      "----------------------------------------------------------------------------------------------------------\n",
      "lr: 0.0001  patience: 20  num_layers: 4  batch_size: 32  hidden_size: 32  dropout: 0.5 criterion: MSELoss()\n"
     ]
    },
    {
     "data": {
      "application/vnd.jupyter.widget-view+json": {
       "model_id": "a026d9e9b4a641c7a972ff174c66ee67",
       "version_major": 2,
       "version_minor": 0
      },
      "text/plain": [
       "  0%|          | 0/10000 [00:00<?, ?it/s]"
      ]
     },
     "metadata": {},
     "output_type": "display_data"
    },
    {
     "name": "stdout",
     "output_type": "stream",
     "text": [
      "\n",
      " Early Stopping / epoch: 355 loss: 0.001203\n",
      "----------------------------------------------------------------------------------------------------------\n",
      "lr: 0.0001  patience: 20  num_layers: 4  batch_size: 32  hidden_size: 32  dropout: 0.5 criterion: <function criterion2 at 0x000001C7862F77F0>\n"
     ]
    },
    {
     "data": {
      "application/vnd.jupyter.widget-view+json": {
       "model_id": "e723f30050f841a28b59caa7fe4204e4",
       "version_major": 2,
       "version_minor": 0
      },
      "text/plain": [
       "  0%|          | 0/10000 [00:00<?, ?it/s]"
      ]
     },
     "metadata": {},
     "output_type": "display_data"
    },
    {
     "name": "stdout",
     "output_type": "stream",
     "text": [
      "\n",
      " Early Stopping / epoch: 250 loss: 0.011733\n",
      "----------------------------------------------------------------------------------------------------------\n",
      "lr: 0.0001  patience: 20  num_layers: 4  batch_size: 32  hidden_size: 32  dropout: 0.5 criterion: <function criterion3 at 0x000001C7862F7880>\n"
     ]
    },
    {
     "data": {
      "application/vnd.jupyter.widget-view+json": {
       "model_id": "9cfe4401d7b64ef4a7de233864288dd8",
       "version_major": 2,
       "version_minor": 0
      },
      "text/plain": [
       "  0%|          | 0/10000 [00:00<?, ?it/s]"
      ]
     },
     "metadata": {},
     "output_type": "display_data"
    },
    {
     "name": "stdout",
     "output_type": "stream",
     "text": [
      "\n",
      " Early Stopping / epoch: 116 loss: 0.004159\n",
      "----------------------------------------------------------------------------------------------------------\n",
      "lr: 0.0001  patience: 20  num_layers: 4  batch_size: 64  hidden_size: 8  dropout: 0.25 criterion: MSELoss()\n"
     ]
    },
    {
     "data": {
      "application/vnd.jupyter.widget-view+json": {
       "model_id": "f80e96919bda41859aa5453bd3c07214",
       "version_major": 2,
       "version_minor": 0
      },
      "text/plain": [
       "  0%|          | 0/10000 [00:00<?, ?it/s]"
      ]
     },
     "metadata": {},
     "output_type": "display_data"
    },
    {
     "name": "stdout",
     "output_type": "stream",
     "text": [
      "\n",
      " Early Stopping / epoch: 422 loss: 0.002344\n",
      "----------------------------------------------------------------------------------------------------------\n",
      "lr: 0.0001  patience: 20  num_layers: 4  batch_size: 64  hidden_size: 8  dropout: 0.25 criterion: <function criterion2 at 0x000001C7862F77F0>\n"
     ]
    },
    {
     "data": {
      "application/vnd.jupyter.widget-view+json": {
       "model_id": "96511a56df684260a0e4ddf0fa601619",
       "version_major": 2,
       "version_minor": 0
      },
      "text/plain": [
       "  0%|          | 0/10000 [00:00<?, ?it/s]"
      ]
     },
     "metadata": {},
     "output_type": "display_data"
    },
    {
     "name": "stdout",
     "output_type": "stream",
     "text": [
      "\n",
      " Early Stopping / epoch: 575 loss: 0.016595\n",
      "----------------------------------------------------------------------------------------------------------\n",
      "lr: 0.0001  patience: 20  num_layers: 4  batch_size: 64  hidden_size: 8  dropout: 0.25 criterion: <function criterion3 at 0x000001C7862F7880>\n"
     ]
    },
    {
     "data": {
      "application/vnd.jupyter.widget-view+json": {
       "model_id": "4a1709a9192a4fba904d34c89ea2b6af",
       "version_major": 2,
       "version_minor": 0
      },
      "text/plain": [
       "  0%|          | 0/10000 [00:00<?, ?it/s]"
      ]
     },
     "metadata": {},
     "output_type": "display_data"
    },
    {
     "name": "stdout",
     "output_type": "stream",
     "text": [
      "\n",
      " Early Stopping / epoch: 675 loss: 0.002501\n",
      "----------------------------------------------------------------------------------------------------------\n",
      "lr: 0.0001  patience: 20  num_layers: 4  batch_size: 64  hidden_size: 8  dropout: 0.5 criterion: MSELoss()\n"
     ]
    },
    {
     "data": {
      "application/vnd.jupyter.widget-view+json": {
       "model_id": "3a84db11d1a64404b0282ad7d2ac710a",
       "version_major": 2,
       "version_minor": 0
      },
      "text/plain": [
       "  0%|          | 0/10000 [00:00<?, ?it/s]"
      ]
     },
     "metadata": {},
     "output_type": "display_data"
    },
    {
     "name": "stdout",
     "output_type": "stream",
     "text": [
      "\n",
      " Early Stopping / epoch: 694 loss: 0.002991\n",
      "----------------------------------------------------------------------------------------------------------\n",
      "lr: 0.0001  patience: 20  num_layers: 4  batch_size: 64  hidden_size: 8  dropout: 0.5 criterion: <function criterion2 at 0x000001C7862F77F0>\n"
     ]
    },
    {
     "data": {
      "application/vnd.jupyter.widget-view+json": {
       "model_id": "b850e8e19bb546528139e32b5c0b9b6f",
       "version_major": 2,
       "version_minor": 0
      },
      "text/plain": [
       "  0%|          | 0/10000 [00:00<?, ?it/s]"
      ]
     },
     "metadata": {},
     "output_type": "display_data"
    },
    {
     "name": "stdout",
     "output_type": "stream",
     "text": [
      "\n",
      " Early Stopping / epoch: 587 loss: 0.018310\n",
      "----------------------------------------------------------------------------------------------------------\n",
      "lr: 0.0001  patience: 20  num_layers: 4  batch_size: 64  hidden_size: 8  dropout: 0.5 criterion: <function criterion3 at 0x000001C7862F7880>\n"
     ]
    },
    {
     "data": {
      "application/vnd.jupyter.widget-view+json": {
       "model_id": "0ae3a6e1223349c6b14d906f5f7d7e1f",
       "version_major": 2,
       "version_minor": 0
      },
      "text/plain": [
       "  0%|          | 0/10000 [00:00<?, ?it/s]"
      ]
     },
     "metadata": {},
     "output_type": "display_data"
    },
    {
     "name": "stdout",
     "output_type": "stream",
     "text": [
      "\n",
      " Early Stopping / epoch: 404 loss: 0.003323\n",
      "----------------------------------------------------------------------------------------------------------\n",
      "lr: 0.0001  patience: 20  num_layers: 4  batch_size: 64  hidden_size: 16  dropout: 0.25 criterion: MSELoss()\n"
     ]
    },
    {
     "data": {
      "application/vnd.jupyter.widget-view+json": {
       "model_id": "67f6e77716414f39b0586a7c6bd5f8b2",
       "version_major": 2,
       "version_minor": 0
      },
      "text/plain": [
       "  0%|          | 0/10000 [00:00<?, ?it/s]"
      ]
     },
     "metadata": {},
     "output_type": "display_data"
    },
    {
     "name": "stdout",
     "output_type": "stream",
     "text": [
      "\n",
      " Early Stopping / epoch: 444 loss: 0.001096\n",
      "----------------------------------------------------------------------------------------------------------\n",
      "lr: 0.0001  patience: 20  num_layers: 4  batch_size: 64  hidden_size: 16  dropout: 0.25 criterion: <function criterion2 at 0x000001C7862F77F0>\n"
     ]
    },
    {
     "data": {
      "application/vnd.jupyter.widget-view+json": {
       "model_id": "045350da747b48eb88995e33f80e3fa4",
       "version_major": 2,
       "version_minor": 0
      },
      "text/plain": [
       "  0%|          | 0/10000 [00:00<?, ?it/s]"
      ]
     },
     "metadata": {},
     "output_type": "display_data"
    },
    {
     "name": "stdout",
     "output_type": "stream",
     "text": [
      "\n",
      " Early Stopping / epoch: 415 loss: 0.012142\n",
      "----------------------------------------------------------------------------------------------------------\n",
      "lr: 0.0001  patience: 20  num_layers: 4  batch_size: 64  hidden_size: 16  dropout: 0.25 criterion: <function criterion3 at 0x000001C7862F7880>\n"
     ]
    },
    {
     "data": {
      "application/vnd.jupyter.widget-view+json": {
       "model_id": "3d226c7d48624e96833a9a65e18c450c",
       "version_major": 2,
       "version_minor": 0
      },
      "text/plain": [
       "  0%|          | 0/10000 [00:00<?, ?it/s]"
      ]
     },
     "metadata": {},
     "output_type": "display_data"
    },
    {
     "name": "stdout",
     "output_type": "stream",
     "text": [
      "\n",
      " Early Stopping / epoch: 258 loss: 0.002767\n",
      "----------------------------------------------------------------------------------------------------------\n",
      "lr: 0.0001  patience: 20  num_layers: 4  batch_size: 64  hidden_size: 16  dropout: 0.5 criterion: MSELoss()\n"
     ]
    },
    {
     "data": {
      "application/vnd.jupyter.widget-view+json": {
       "model_id": "b7c9e990332d458abc7ec5b4f1d8f746",
       "version_major": 2,
       "version_minor": 0
      },
      "text/plain": [
       "  0%|          | 0/10000 [00:00<?, ?it/s]"
      ]
     },
     "metadata": {},
     "output_type": "display_data"
    },
    {
     "name": "stdout",
     "output_type": "stream",
     "text": [
      "\n",
      " Early Stopping / epoch: 368 loss: 0.002008\n",
      "----------------------------------------------------------------------------------------------------------\n",
      "lr: 0.0001  patience: 20  num_layers: 4  batch_size: 64  hidden_size: 16  dropout: 0.5 criterion: <function criterion2 at 0x000001C7862F77F0>\n"
     ]
    },
    {
     "data": {
      "application/vnd.jupyter.widget-view+json": {
       "model_id": "cfe7bbaf8a334905ac647dd43c7b3523",
       "version_major": 2,
       "version_minor": 0
      },
      "text/plain": [
       "  0%|          | 0/10000 [00:00<?, ?it/s]"
      ]
     },
     "metadata": {},
     "output_type": "display_data"
    },
    {
     "name": "stdout",
     "output_type": "stream",
     "text": [
      "\n",
      " Early Stopping / epoch: 576 loss: 0.017223\n",
      "----------------------------------------------------------------------------------------------------------\n",
      "lr: 0.0001  patience: 20  num_layers: 4  batch_size: 64  hidden_size: 16  dropout: 0.5 criterion: <function criterion3 at 0x000001C7862F7880>\n"
     ]
    },
    {
     "data": {
      "application/vnd.jupyter.widget-view+json": {
       "model_id": "cf5aba3162544975b284e25e4ef42fbb",
       "version_major": 2,
       "version_minor": 0
      },
      "text/plain": [
       "  0%|          | 0/10000 [00:00<?, ?it/s]"
      ]
     },
     "metadata": {},
     "output_type": "display_data"
    },
    {
     "name": "stdout",
     "output_type": "stream",
     "text": [
      "\n",
      " Early Stopping / epoch: 302 loss: 0.002694\n",
      "----------------------------------------------------------------------------------------------------------\n",
      "lr: 0.0001  patience: 20  num_layers: 4  batch_size: 64  hidden_size: 32  dropout: 0.25 criterion: MSELoss()\n"
     ]
    },
    {
     "data": {
      "application/vnd.jupyter.widget-view+json": {
       "model_id": "431dca9d11dc4411bc2dc6f72de7eda5",
       "version_major": 2,
       "version_minor": 0
      },
      "text/plain": [
       "  0%|          | 0/10000 [00:00<?, ?it/s]"
      ]
     },
     "metadata": {},
     "output_type": "display_data"
    },
    {
     "name": "stdout",
     "output_type": "stream",
     "text": [
      "\n",
      " Early Stopping / epoch: 195 loss: 0.001267\n",
      "----------------------------------------------------------------------------------------------------------\n",
      "lr: 0.0001  patience: 20  num_layers: 4  batch_size: 64  hidden_size: 32  dropout: 0.25 criterion: <function criterion2 at 0x000001C7862F77F0>\n"
     ]
    },
    {
     "data": {
      "application/vnd.jupyter.widget-view+json": {
       "model_id": "e9ff76d667574d47991a20abdb9066d1",
       "version_major": 2,
       "version_minor": 0
      },
      "text/plain": [
       "  0%|          | 0/10000 [00:00<?, ?it/s]"
      ]
     },
     "metadata": {},
     "output_type": "display_data"
    },
    {
     "name": "stdout",
     "output_type": "stream",
     "text": [
      "\n",
      " Early Stopping / epoch: 194 loss: 0.013230\n",
      "----------------------------------------------------------------------------------------------------------\n",
      "lr: 0.0001  patience: 20  num_layers: 4  batch_size: 64  hidden_size: 32  dropout: 0.25 criterion: <function criterion3 at 0x000001C7862F7880>\n"
     ]
    },
    {
     "data": {
      "application/vnd.jupyter.widget-view+json": {
       "model_id": "66d0e55ba7bd4d10bde1b1dc8e9cdf80",
       "version_major": 2,
       "version_minor": 0
      },
      "text/plain": [
       "  0%|          | 0/10000 [00:00<?, ?it/s]"
      ]
     },
     "metadata": {},
     "output_type": "display_data"
    },
    {
     "name": "stdout",
     "output_type": "stream",
     "text": [
      "\n",
      " Early Stopping / epoch: 343 loss: 0.002168\n",
      "----------------------------------------------------------------------------------------------------------\n",
      "lr: 0.0001  patience: 20  num_layers: 4  batch_size: 64  hidden_size: 32  dropout: 0.5 criterion: MSELoss()\n"
     ]
    },
    {
     "data": {
      "application/vnd.jupyter.widget-view+json": {
       "model_id": "98cdba171af54c21977c48e6effa2382",
       "version_major": 2,
       "version_minor": 0
      },
      "text/plain": [
       "  0%|          | 0/10000 [00:00<?, ?it/s]"
      ]
     },
     "metadata": {},
     "output_type": "display_data"
    },
    {
     "name": "stdout",
     "output_type": "stream",
     "text": [
      "\n",
      " Early Stopping / epoch: 283 loss: 0.001372\n",
      "----------------------------------------------------------------------------------------------------------\n",
      "lr: 0.0001  patience: 20  num_layers: 4  batch_size: 64  hidden_size: 32  dropout: 0.5 criterion: <function criterion2 at 0x000001C7862F77F0>\n"
     ]
    },
    {
     "data": {
      "application/vnd.jupyter.widget-view+json": {
       "model_id": "6b0b21c69a9e480a9776737b725fb987",
       "version_major": 2,
       "version_minor": 0
      },
      "text/plain": [
       "  0%|          | 0/10000 [00:00<?, ?it/s]"
      ]
     },
     "metadata": {},
     "output_type": "display_data"
    },
    {
     "name": "stdout",
     "output_type": "stream",
     "text": [
      "\n",
      " Early Stopping / epoch: 300 loss: 0.013719\n",
      "----------------------------------------------------------------------------------------------------------\n",
      "lr: 0.0001  patience: 20  num_layers: 4  batch_size: 64  hidden_size: 32  dropout: 0.5 criterion: <function criterion3 at 0x000001C7862F7880>\n"
     ]
    },
    {
     "data": {
      "application/vnd.jupyter.widget-view+json": {
       "model_id": "319389f4eeca4035b82ceeae513e4a3c",
       "version_major": 2,
       "version_minor": 0
      },
      "text/plain": [
       "  0%|          | 0/10000 [00:00<?, ?it/s]"
      ]
     },
     "metadata": {},
     "output_type": "display_data"
    },
    {
     "name": "stdout",
     "output_type": "stream",
     "text": [
      "\n",
      " Early Stopping / epoch: 291 loss: 0.002476\n",
      "----------------------------------------------------------------------------------------------------------\n",
      "lr: 0.0001  patience: 20  num_layers: 4  batch_size: 128  hidden_size: 8  dropout: 0.25 criterion: MSELoss()\n"
     ]
    },
    {
     "data": {
      "application/vnd.jupyter.widget-view+json": {
       "model_id": "607430a45cc2493c8e1fe2075275f1cf",
       "version_major": 2,
       "version_minor": 0
      },
      "text/plain": [
       "  0%|          | 0/10000 [00:00<?, ?it/s]"
      ]
     },
     "metadata": {},
     "output_type": "display_data"
    },
    {
     "name": "stdout",
     "output_type": "stream",
     "text": [
      "\n",
      " Early Stopping / epoch: 409 loss: 0.002484\n",
      "----------------------------------------------------------------------------------------------------------\n",
      "lr: 0.0001  patience: 20  num_layers: 4  batch_size: 128  hidden_size: 8  dropout: 0.25 criterion: <function criterion2 at 0x000001C7862F77F0>\n"
     ]
    },
    {
     "data": {
      "application/vnd.jupyter.widget-view+json": {
       "model_id": "b3390513ac16474882499c8e0adef1fa",
       "version_major": 2,
       "version_minor": 0
      },
      "text/plain": [
       "  0%|          | 0/10000 [00:00<?, ?it/s]"
      ]
     },
     "metadata": {},
     "output_type": "display_data"
    },
    {
     "name": "stdout",
     "output_type": "stream",
     "text": [
      "\n",
      " Early Stopping / epoch: 1109 loss: 0.019131\n",
      "----------------------------------------------------------------------------------------------------------\n",
      "lr: 0.0001  patience: 20  num_layers: 4  batch_size: 128  hidden_size: 8  dropout: 0.25 criterion: <function criterion3 at 0x000001C7862F7880>\n"
     ]
    },
    {
     "data": {
      "application/vnd.jupyter.widget-view+json": {
       "model_id": "36c779f045f6450297814c8aa9381a96",
       "version_major": 2,
       "version_minor": 0
      },
      "text/plain": [
       "  0%|          | 0/10000 [00:00<?, ?it/s]"
      ]
     },
     "metadata": {},
     "output_type": "display_data"
    },
    {
     "name": "stdout",
     "output_type": "stream",
     "text": [
      "\n",
      " Early Stopping / epoch: 480 loss: 0.004151\n",
      "----------------------------------------------------------------------------------------------------------\n",
      "lr: 0.0001  patience: 20  num_layers: 4  batch_size: 128  hidden_size: 8  dropout: 0.5 criterion: MSELoss()\n"
     ]
    },
    {
     "data": {
      "application/vnd.jupyter.widget-view+json": {
       "model_id": "6ce6c9966f224d68bee4ada93afd9bcc",
       "version_major": 2,
       "version_minor": 0
      },
      "text/plain": [
       "  0%|          | 0/10000 [00:00<?, ?it/s]"
      ]
     },
     "metadata": {},
     "output_type": "display_data"
    },
    {
     "name": "stdout",
     "output_type": "stream",
     "text": [
      "\n",
      " Early Stopping / epoch: 336 loss: 0.011121\n",
      "----------------------------------------------------------------------------------------------------------\n",
      "lr: 0.0001  patience: 20  num_layers: 4  batch_size: 128  hidden_size: 8  dropout: 0.5 criterion: <function criterion2 at 0x000001C7862F77F0>\n"
     ]
    },
    {
     "data": {
      "application/vnd.jupyter.widget-view+json": {
       "model_id": "3751ce498c7b45bc9338a37f9faa9474",
       "version_major": 2,
       "version_minor": 0
      },
      "text/plain": [
       "  0%|          | 0/10000 [00:00<?, ?it/s]"
      ]
     },
     "metadata": {},
     "output_type": "display_data"
    },
    {
     "name": "stdout",
     "output_type": "stream",
     "text": [
      "\n",
      " Early Stopping / epoch: 582 loss: 0.023424\n",
      "----------------------------------------------------------------------------------------------------------\n",
      "lr: 0.0001  patience: 20  num_layers: 4  batch_size: 128  hidden_size: 8  dropout: 0.5 criterion: <function criterion3 at 0x000001C7862F7880>\n"
     ]
    },
    {
     "data": {
      "application/vnd.jupyter.widget-view+json": {
       "model_id": "1e2523b4402d44379b2051417994a3b3",
       "version_major": 2,
       "version_minor": 0
      },
      "text/plain": [
       "  0%|          | 0/10000 [00:00<?, ?it/s]"
      ]
     },
     "metadata": {},
     "output_type": "display_data"
    },
    {
     "name": "stdout",
     "output_type": "stream",
     "text": [
      "\n",
      " Early Stopping / epoch: 367 loss: 0.004933\n",
      "----------------------------------------------------------------------------------------------------------\n",
      "lr: 0.0001  patience: 20  num_layers: 4  batch_size: 128  hidden_size: 16  dropout: 0.25 criterion: MSELoss()\n"
     ]
    },
    {
     "data": {
      "application/vnd.jupyter.widget-view+json": {
       "model_id": "5b34a90b9e41400d8e6dd73a1ec6c35f",
       "version_major": 2,
       "version_minor": 0
      },
      "text/plain": [
       "  0%|          | 0/10000 [00:00<?, ?it/s]"
      ]
     },
     "metadata": {},
     "output_type": "display_data"
    },
    {
     "name": "stdout",
     "output_type": "stream",
     "text": [
      "\n",
      " Early Stopping / epoch: 293 loss: 0.002366\n",
      "----------------------------------------------------------------------------------------------------------\n",
      "lr: 0.0001  patience: 20  num_layers: 4  batch_size: 128  hidden_size: 16  dropout: 0.25 criterion: <function criterion2 at 0x000001C7862F77F0>\n"
     ]
    },
    {
     "data": {
      "application/vnd.jupyter.widget-view+json": {
       "model_id": "a8a300961b484df4acd502bcb4138f91",
       "version_major": 2,
       "version_minor": 0
      },
      "text/plain": [
       "  0%|          | 0/10000 [00:00<?, ?it/s]"
      ]
     },
     "metadata": {},
     "output_type": "display_data"
    },
    {
     "name": "stdout",
     "output_type": "stream",
     "text": [
      "\n",
      " Early Stopping / epoch: 429 loss: 0.012489\n",
      "----------------------------------------------------------------------------------------------------------\n",
      "lr: 0.0001  patience: 20  num_layers: 4  batch_size: 128  hidden_size: 16  dropout: 0.25 criterion: <function criterion3 at 0x000001C7862F7880>\n"
     ]
    },
    {
     "data": {
      "application/vnd.jupyter.widget-view+json": {
       "model_id": "eb679054b79e455bab511dbfff86ce33",
       "version_major": 2,
       "version_minor": 0
      },
      "text/plain": [
       "  0%|          | 0/10000 [00:00<?, ?it/s]"
      ]
     },
     "metadata": {},
     "output_type": "display_data"
    },
    {
     "name": "stdout",
     "output_type": "stream",
     "text": [
      "\n",
      " Early Stopping / epoch: 487 loss: 0.001764\n",
      "----------------------------------------------------------------------------------------------------------\n",
      "lr: 0.0001  patience: 20  num_layers: 4  batch_size: 128  hidden_size: 16  dropout: 0.5 criterion: MSELoss()\n"
     ]
    },
    {
     "data": {
      "application/vnd.jupyter.widget-view+json": {
       "model_id": "bed74f5e92484a94a59b8dc646d3b6a3",
       "version_major": 2,
       "version_minor": 0
      },
      "text/plain": [
       "  0%|          | 0/10000 [00:00<?, ?it/s]"
      ]
     },
     "metadata": {},
     "output_type": "display_data"
    },
    {
     "name": "stdout",
     "output_type": "stream",
     "text": [
      "\n",
      " Early Stopping / epoch: 347 loss: 0.002260\n",
      "----------------------------------------------------------------------------------------------------------\n",
      "lr: 0.0001  patience: 20  num_layers: 4  batch_size: 128  hidden_size: 16  dropout: 0.5 criterion: <function criterion2 at 0x000001C7862F77F0>\n"
     ]
    },
    {
     "data": {
      "application/vnd.jupyter.widget-view+json": {
       "model_id": "b21ff10f35574e789546f83ceea050e4",
       "version_major": 2,
       "version_minor": 0
      },
      "text/plain": [
       "  0%|          | 0/10000 [00:00<?, ?it/s]"
      ]
     },
     "metadata": {},
     "output_type": "display_data"
    },
    {
     "name": "stdout",
     "output_type": "stream",
     "text": [
      "\n",
      " Early Stopping / epoch: 532 loss: 0.016686\n",
      "----------------------------------------------------------------------------------------------------------\n",
      "lr: 0.0001  patience: 20  num_layers: 4  batch_size: 128  hidden_size: 16  dropout: 0.5 criterion: <function criterion3 at 0x000001C7862F7880>\n"
     ]
    },
    {
     "data": {
      "application/vnd.jupyter.widget-view+json": {
       "model_id": "55f53e13624c4709873db070a30065ff",
       "version_major": 2,
       "version_minor": 0
      },
      "text/plain": [
       "  0%|          | 0/10000 [00:00<?, ?it/s]"
      ]
     },
     "metadata": {},
     "output_type": "display_data"
    },
    {
     "name": "stdout",
     "output_type": "stream",
     "text": [
      "\n",
      " Early Stopping / epoch: 226 loss: 0.003673\n",
      "----------------------------------------------------------------------------------------------------------\n",
      "lr: 0.0001  patience: 20  num_layers: 4  batch_size: 128  hidden_size: 32  dropout: 0.25 criterion: MSELoss()\n"
     ]
    },
    {
     "data": {
      "application/vnd.jupyter.widget-view+json": {
       "model_id": "a125e975863243008ed82deede8f0336",
       "version_major": 2,
       "version_minor": 0
      },
      "text/plain": [
       "  0%|          | 0/10000 [00:00<?, ?it/s]"
      ]
     },
     "metadata": {},
     "output_type": "display_data"
    },
    {
     "name": "stdout",
     "output_type": "stream",
     "text": [
      "\n",
      " Early Stopping / epoch: 403 loss: 0.000885\n",
      "----------------------------------------------------------------------------------------------------------\n",
      "lr: 0.0001  patience: 20  num_layers: 4  batch_size: 128  hidden_size: 32  dropout: 0.25 criterion: <function criterion2 at 0x000001C7862F77F0>\n"
     ]
    },
    {
     "data": {
      "application/vnd.jupyter.widget-view+json": {
       "model_id": "d576714ece4141dfb6bef87b2ccddcf6",
       "version_major": 2,
       "version_minor": 0
      },
      "text/plain": [
       "  0%|          | 0/10000 [00:00<?, ?it/s]"
      ]
     },
     "metadata": {},
     "output_type": "display_data"
    },
    {
     "name": "stdout",
     "output_type": "stream",
     "text": [
      "\n",
      " Early Stopping / epoch: 374 loss: 0.010065\n",
      "----------------------------------------------------------------------------------------------------------\n",
      "lr: 0.0001  patience: 20  num_layers: 4  batch_size: 128  hidden_size: 32  dropout: 0.25 criterion: <function criterion3 at 0x000001C7862F7880>\n"
     ]
    },
    {
     "data": {
      "application/vnd.jupyter.widget-view+json": {
       "model_id": "be330e86063a4ae4b87bb37c2cbba317",
       "version_major": 2,
       "version_minor": 0
      },
      "text/plain": [
       "  0%|          | 0/10000 [00:00<?, ?it/s]"
      ]
     },
     "metadata": {},
     "output_type": "display_data"
    },
    {
     "name": "stdout",
     "output_type": "stream",
     "text": [
      "\n",
      " Early Stopping / epoch: 336 loss: 0.001641\n",
      "----------------------------------------------------------------------------------------------------------\n",
      "lr: 0.0001  patience: 20  num_layers: 4  batch_size: 128  hidden_size: 32  dropout: 0.5 criterion: MSELoss()\n"
     ]
    },
    {
     "data": {
      "application/vnd.jupyter.widget-view+json": {
       "model_id": "a3d44a6cd58c47bc933382ad3cf3bd6d",
       "version_major": 2,
       "version_minor": 0
      },
      "text/plain": [
       "  0%|          | 0/10000 [00:00<?, ?it/s]"
      ]
     },
     "metadata": {},
     "output_type": "display_data"
    },
    {
     "name": "stdout",
     "output_type": "stream",
     "text": [
      "\n",
      " Early Stopping / epoch: 395 loss: 0.001082\n",
      "----------------------------------------------------------------------------------------------------------\n",
      "lr: 0.0001  patience: 20  num_layers: 4  batch_size: 128  hidden_size: 32  dropout: 0.5 criterion: <function criterion2 at 0x000001C7862F77F0>\n"
     ]
    },
    {
     "data": {
      "application/vnd.jupyter.widget-view+json": {
       "model_id": "73e86a18cc6242af8e227889157ef85d",
       "version_major": 2,
       "version_minor": 0
      },
      "text/plain": [
       "  0%|          | 0/10000 [00:00<?, ?it/s]"
      ]
     },
     "metadata": {},
     "output_type": "display_data"
    },
    {
     "name": "stdout",
     "output_type": "stream",
     "text": [
      "\n",
      " Early Stopping / epoch: 429 loss: 0.012639\n",
      "----------------------------------------------------------------------------------------------------------\n",
      "lr: 0.0001  patience: 20  num_layers: 4  batch_size: 128  hidden_size: 32  dropout: 0.5 criterion: <function criterion3 at 0x000001C7862F7880>\n"
     ]
    },
    {
     "data": {
      "application/vnd.jupyter.widget-view+json": {
       "model_id": "a060a7fcd867430d83a8c105ea7fd322",
       "version_major": 2,
       "version_minor": 0
      },
      "text/plain": [
       "  0%|          | 0/10000 [00:00<?, ?it/s]"
      ]
     },
     "metadata": {},
     "output_type": "display_data"
    },
    {
     "name": "stdout",
     "output_type": "stream",
     "text": [
      "\n",
      " Early Stopping / epoch: 467 loss: 0.001838\n",
      "----------------------------------------------------------------------------------------------------------\n",
      "lr: 0.0001  patience: 50  num_layers: 2  batch_size: 32  hidden_size: 8  dropout: 0.25 criterion: MSELoss()\n"
     ]
    },
    {
     "data": {
      "application/vnd.jupyter.widget-view+json": {
       "model_id": "46d2ed01a3fc4b168a97cc8c307f33d3",
       "version_major": 2,
       "version_minor": 0
      },
      "text/plain": [
       "  0%|          | 0/10000 [00:00<?, ?it/s]"
      ]
     },
     "metadata": {},
     "output_type": "display_data"
    },
    {
     "name": "stdout",
     "output_type": "stream",
     "text": [
      "\n",
      " Early Stopping / epoch: 349 loss: 0.001763\n",
      "----------------------------------------------------------------------------------------------------------\n",
      "lr: 0.0001  patience: 50  num_layers: 2  batch_size: 32  hidden_size: 8  dropout: 0.25 criterion: <function criterion2 at 0x000001C7862F77F0>\n"
     ]
    },
    {
     "data": {
      "application/vnd.jupyter.widget-view+json": {
       "model_id": "9f5be16897c842fb8fe030521cd122d7",
       "version_major": 2,
       "version_minor": 0
      },
      "text/plain": [
       "  0%|          | 0/10000 [00:00<?, ?it/s]"
      ]
     },
     "metadata": {},
     "output_type": "display_data"
    },
    {
     "name": "stdout",
     "output_type": "stream",
     "text": [
      "\n",
      " Early Stopping / epoch: 940 loss: 0.011223\n",
      "----------------------------------------------------------------------------------------------------------\n",
      "lr: 0.0001  patience: 50  num_layers: 2  batch_size: 32  hidden_size: 8  dropout: 0.25 criterion: <function criterion3 at 0x000001C7862F7880>\n"
     ]
    },
    {
     "data": {
      "application/vnd.jupyter.widget-view+json": {
       "model_id": "bd71645574954c3aba2f217ab8aca0b7",
       "version_major": 2,
       "version_minor": 0
      },
      "text/plain": [
       "  0%|          | 0/10000 [00:00<?, ?it/s]"
      ]
     },
     "metadata": {},
     "output_type": "display_data"
    },
    {
     "name": "stdout",
     "output_type": "stream",
     "text": [
      "\n",
      " Early Stopping / epoch: 684 loss: 0.002934\n",
      "----------------------------------------------------------------------------------------------------------\n",
      "lr: 0.0001  patience: 50  num_layers: 2  batch_size: 32  hidden_size: 8  dropout: 0.5 criterion: MSELoss()\n"
     ]
    },
    {
     "data": {
      "application/vnd.jupyter.widget-view+json": {
       "model_id": "6494805d05c34e7cbe954eae1a540f3d",
       "version_major": 2,
       "version_minor": 0
      },
      "text/plain": [
       "  0%|          | 0/10000 [00:00<?, ?it/s]"
      ]
     },
     "metadata": {},
     "output_type": "display_data"
    },
    {
     "name": "stdout",
     "output_type": "stream",
     "text": [
      "\n",
      " Early Stopping / epoch: 708 loss: 0.001451\n",
      "----------------------------------------------------------------------------------------------------------\n",
      "lr: 0.0001  patience: 50  num_layers: 2  batch_size: 32  hidden_size: 8  dropout: 0.5 criterion: <function criterion2 at 0x000001C7862F77F0>\n"
     ]
    },
    {
     "data": {
      "application/vnd.jupyter.widget-view+json": {
       "model_id": "7a127aafa71549fb8b0ba4d380727407",
       "version_major": 2,
       "version_minor": 0
      },
      "text/plain": [
       "  0%|          | 0/10000 [00:00<?, ?it/s]"
      ]
     },
     "metadata": {},
     "output_type": "display_data"
    },
    {
     "name": "stdout",
     "output_type": "stream",
     "text": [
      "\n",
      " Early Stopping / epoch: 488 loss: 0.016737\n",
      "----------------------------------------------------------------------------------------------------------\n",
      "lr: 0.0001  patience: 50  num_layers: 2  batch_size: 32  hidden_size: 8  dropout: 0.5 criterion: <function criterion3 at 0x000001C7862F7880>\n"
     ]
    },
    {
     "data": {
      "application/vnd.jupyter.widget-view+json": {
       "model_id": "d25ecb5789bb430b8754b34316624073",
       "version_major": 2,
       "version_minor": 0
      },
      "text/plain": [
       "  0%|          | 0/10000 [00:00<?, ?it/s]"
      ]
     },
     "metadata": {},
     "output_type": "display_data"
    },
    {
     "name": "stdout",
     "output_type": "stream",
     "text": [
      "\n",
      " Early Stopping / epoch: 245 loss: 0.003929\n",
      "----------------------------------------------------------------------------------------------------------\n",
      "lr: 0.0001  patience: 50  num_layers: 2  batch_size: 32  hidden_size: 16  dropout: 0.25 criterion: MSELoss()\n"
     ]
    },
    {
     "data": {
      "application/vnd.jupyter.widget-view+json": {
       "model_id": "e73b4ca57e614f7cbead8d210f2c8096",
       "version_major": 2,
       "version_minor": 0
      },
      "text/plain": [
       "  0%|          | 0/10000 [00:00<?, ?it/s]"
      ]
     },
     "metadata": {},
     "output_type": "display_data"
    },
    {
     "name": "stdout",
     "output_type": "stream",
     "text": [
      "\n",
      " Early Stopping / epoch: 1202 loss: 0.000511\n",
      "----------------------------------------------------------------------------------------------------------\n",
      "lr: 0.0001  patience: 50  num_layers: 2  batch_size: 32  hidden_size: 16  dropout: 0.25 criterion: <function criterion2 at 0x000001C7862F77F0>\n"
     ]
    },
    {
     "data": {
      "application/vnd.jupyter.widget-view+json": {
       "model_id": "0ed82d1aadf744aca853390ad312f3f0",
       "version_major": 2,
       "version_minor": 0
      },
      "text/plain": [
       "  0%|          | 0/10000 [00:00<?, ?it/s]"
      ]
     },
     "metadata": {},
     "output_type": "display_data"
    },
    {
     "name": "stdout",
     "output_type": "stream",
     "text": [
      "\n",
      " Early Stopping / epoch: 590 loss: 0.011456\n",
      "----------------------------------------------------------------------------------------------------------\n",
      "lr: 0.0001  patience: 50  num_layers: 2  batch_size: 32  hidden_size: 16  dropout: 0.25 criterion: <function criterion3 at 0x000001C7862F7880>\n"
     ]
    },
    {
     "data": {
      "application/vnd.jupyter.widget-view+json": {
       "model_id": "de6b62a74dd3471e8c6960c9d2a737d4",
       "version_major": 2,
       "version_minor": 0
      },
      "text/plain": [
       "  0%|          | 0/10000 [00:00<?, ?it/s]"
      ]
     },
     "metadata": {},
     "output_type": "display_data"
    },
    {
     "name": "stdout",
     "output_type": "stream",
     "text": [
      "\n",
      " Early Stopping / epoch: 482 loss: 0.002186\n",
      "----------------------------------------------------------------------------------------------------------\n",
      "lr: 0.0001  patience: 50  num_layers: 2  batch_size: 32  hidden_size: 16  dropout: 0.5 criterion: MSELoss()\n"
     ]
    },
    {
     "data": {
      "application/vnd.jupyter.widget-view+json": {
       "model_id": "06f9a33ee8cb48fb8a393d2bcacdb934",
       "version_major": 2,
       "version_minor": 0
      },
      "text/plain": [
       "  0%|          | 0/10000 [00:00<?, ?it/s]"
      ]
     },
     "metadata": {},
     "output_type": "display_data"
    },
    {
     "name": "stdout",
     "output_type": "stream",
     "text": [
      "\n",
      " Early Stopping / epoch: 775 loss: 0.001048\n",
      "----------------------------------------------------------------------------------------------------------\n",
      "lr: 0.0001  patience: 50  num_layers: 2  batch_size: 32  hidden_size: 16  dropout: 0.5 criterion: <function criterion2 at 0x000001C7862F77F0>\n"
     ]
    },
    {
     "data": {
      "application/vnd.jupyter.widget-view+json": {
       "model_id": "83f1e88c9c654a3880fdc3cd147d2c15",
       "version_major": 2,
       "version_minor": 0
      },
      "text/plain": [
       "  0%|          | 0/10000 [00:00<?, ?it/s]"
      ]
     },
     "metadata": {},
     "output_type": "display_data"
    },
    {
     "name": "stdout",
     "output_type": "stream",
     "text": [
      "\n",
      " Early Stopping / epoch: 630 loss: 0.009569\n",
      "----------------------------------------------------------------------------------------------------------\n",
      "lr: 0.0001  patience: 50  num_layers: 2  batch_size: 32  hidden_size: 16  dropout: 0.5 criterion: <function criterion3 at 0x000001C7862F7880>\n"
     ]
    },
    {
     "data": {
      "application/vnd.jupyter.widget-view+json": {
       "model_id": "847213f3c6f44a77876a53fe98255641",
       "version_major": 2,
       "version_minor": 0
      },
      "text/plain": [
       "  0%|          | 0/10000 [00:00<?, ?it/s]"
      ]
     },
     "metadata": {},
     "output_type": "display_data"
    },
    {
     "name": "stdout",
     "output_type": "stream",
     "text": [
      "\n",
      " Early Stopping / epoch: 445 loss: 0.002901\n",
      "----------------------------------------------------------------------------------------------------------\n",
      "lr: 0.0001  patience: 50  num_layers: 2  batch_size: 32  hidden_size: 32  dropout: 0.25 criterion: MSELoss()\n"
     ]
    },
    {
     "data": {
      "application/vnd.jupyter.widget-view+json": {
       "model_id": "300ab908706b4144ad3e85d062b036a7",
       "version_major": 2,
       "version_minor": 0
      },
      "text/plain": [
       "  0%|          | 0/10000 [00:00<?, ?it/s]"
      ]
     },
     "metadata": {},
     "output_type": "display_data"
    },
    {
     "name": "stdout",
     "output_type": "stream",
     "text": [
      "\n",
      " Early Stopping / epoch: 589 loss: 0.000518\n",
      "----------------------------------------------------------------------------------------------------------\n",
      "lr: 0.0001  patience: 50  num_layers: 2  batch_size: 32  hidden_size: 32  dropout: 0.25 criterion: <function criterion2 at 0x000001C7862F77F0>\n"
     ]
    },
    {
     "data": {
      "application/vnd.jupyter.widget-view+json": {
       "model_id": "527e148c2e3443bf9ab55eabf31611f5",
       "version_major": 2,
       "version_minor": 0
      },
      "text/plain": [
       "  0%|          | 0/10000 [00:00<?, ?it/s]"
      ]
     },
     "metadata": {},
     "output_type": "display_data"
    },
    {
     "name": "stdout",
     "output_type": "stream",
     "text": [
      "\n",
      " Early Stopping / epoch: 556 loss: 0.006982\n",
      "----------------------------------------------------------------------------------------------------------\n",
      "lr: 0.0001  patience: 50  num_layers: 2  batch_size: 32  hidden_size: 32  dropout: 0.25 criterion: <function criterion3 at 0x000001C7862F7880>\n"
     ]
    },
    {
     "data": {
      "application/vnd.jupyter.widget-view+json": {
       "model_id": "bcb07684931e42759d28a038bc655ecb",
       "version_major": 2,
       "version_minor": 0
      },
      "text/plain": [
       "  0%|          | 0/10000 [00:00<?, ?it/s]"
      ]
     },
     "metadata": {},
     "output_type": "display_data"
    },
    {
     "name": "stdout",
     "output_type": "stream",
     "text": [
      "\n",
      " Early Stopping / epoch: 695 loss: 0.001874\n",
      "----------------------------------------------------------------------------------------------------------\n",
      "lr: 0.0001  patience: 50  num_layers: 2  batch_size: 32  hidden_size: 32  dropout: 0.5 criterion: MSELoss()\n"
     ]
    },
    {
     "data": {
      "application/vnd.jupyter.widget-view+json": {
       "model_id": "cead3683a68c498ba791050705c34b08",
       "version_major": 2,
       "version_minor": 0
      },
      "text/plain": [
       "  0%|          | 0/10000 [00:00<?, ?it/s]"
      ]
     },
     "metadata": {},
     "output_type": "display_data"
    },
    {
     "name": "stdout",
     "output_type": "stream",
     "text": [
      "\n",
      " Early Stopping / epoch: 876 loss: 0.000558\n",
      "----------------------------------------------------------------------------------------------------------\n",
      "lr: 0.0001  patience: 50  num_layers: 2  batch_size: 32  hidden_size: 32  dropout: 0.5 criterion: <function criterion2 at 0x000001C7862F77F0>\n"
     ]
    },
    {
     "data": {
      "application/vnd.jupyter.widget-view+json": {
       "model_id": "43222139a65e40c0b531cc3d66ae3c80",
       "version_major": 2,
       "version_minor": 0
      },
      "text/plain": [
       "  0%|          | 0/10000 [00:00<?, ?it/s]"
      ]
     },
     "metadata": {},
     "output_type": "display_data"
    },
    {
     "name": "stdout",
     "output_type": "stream",
     "text": [
      "\n",
      " Early Stopping / epoch: 381 loss: 0.009856\n",
      "----------------------------------------------------------------------------------------------------------\n",
      "lr: 0.0001  patience: 50  num_layers: 2  batch_size: 32  hidden_size: 32  dropout: 0.5 criterion: <function criterion3 at 0x000001C7862F7880>\n"
     ]
    },
    {
     "data": {
      "application/vnd.jupyter.widget-view+json": {
       "model_id": "c51b762ae8fd43388a614a3f24fad94d",
       "version_major": 2,
       "version_minor": 0
      },
      "text/plain": [
       "  0%|          | 0/10000 [00:00<?, ?it/s]"
      ]
     },
     "metadata": {},
     "output_type": "display_data"
    },
    {
     "name": "stdout",
     "output_type": "stream",
     "text": [
      "\n",
      " Early Stopping / epoch: 232 loss: 0.002578\n",
      "----------------------------------------------------------------------------------------------------------\n",
      "lr: 0.0001  patience: 50  num_layers: 2  batch_size: 64  hidden_size: 8  dropout: 0.25 criterion: MSELoss()\n"
     ]
    },
    {
     "data": {
      "application/vnd.jupyter.widget-view+json": {
       "model_id": "8447d7355f184c10883313fdd93eeb8a",
       "version_major": 2,
       "version_minor": 0
      },
      "text/plain": [
       "  0%|          | 0/10000 [00:00<?, ?it/s]"
      ]
     },
     "metadata": {},
     "output_type": "display_data"
    },
    {
     "name": "stdout",
     "output_type": "stream",
     "text": [
      "\n",
      " Early Stopping / epoch: 553 loss: 0.001673\n",
      "----------------------------------------------------------------------------------------------------------\n",
      "lr: 0.0001  patience: 50  num_layers: 2  batch_size: 64  hidden_size: 8  dropout: 0.25 criterion: <function criterion2 at 0x000001C7862F77F0>\n"
     ]
    },
    {
     "data": {
      "application/vnd.jupyter.widget-view+json": {
       "model_id": "7edbb770736f4609ab859abbf145ebd0",
       "version_major": 2,
       "version_minor": 0
      },
      "text/plain": [
       "  0%|          | 0/10000 [00:00<?, ?it/s]"
      ]
     },
     "metadata": {},
     "output_type": "display_data"
    },
    {
     "name": "stdout",
     "output_type": "stream",
     "text": [
      "\n",
      " Early Stopping / epoch: 886 loss: 0.013875\n",
      "----------------------------------------------------------------------------------------------------------\n",
      "lr: 0.0001  patience: 50  num_layers: 2  batch_size: 64  hidden_size: 8  dropout: 0.25 criterion: <function criterion3 at 0x000001C7862F7880>\n"
     ]
    },
    {
     "data": {
      "application/vnd.jupyter.widget-view+json": {
       "model_id": "9ed4d94561d54e0ba613c7e4f856e88c",
       "version_major": 2,
       "version_minor": 0
      },
      "text/plain": [
       "  0%|          | 0/10000 [00:00<?, ?it/s]"
      ]
     },
     "metadata": {},
     "output_type": "display_data"
    },
    {
     "name": "stdout",
     "output_type": "stream",
     "text": [
      "\n",
      " Early Stopping / epoch: 881 loss: 0.002262\n",
      "----------------------------------------------------------------------------------------------------------\n",
      "lr: 0.0001  patience: 50  num_layers: 2  batch_size: 64  hidden_size: 8  dropout: 0.5 criterion: MSELoss()\n"
     ]
    },
    {
     "data": {
      "application/vnd.jupyter.widget-view+json": {
       "model_id": "09c924d998f34608ac389cab8c8203db",
       "version_major": 2,
       "version_minor": 0
      },
      "text/plain": [
       "  0%|          | 0/10000 [00:00<?, ?it/s]"
      ]
     },
     "metadata": {},
     "output_type": "display_data"
    },
    {
     "name": "stdout",
     "output_type": "stream",
     "text": [
      "\n",
      " Early Stopping / epoch: 460 loss: 0.002295\n",
      "----------------------------------------------------------------------------------------------------------\n",
      "lr: 0.0001  patience: 50  num_layers: 2  batch_size: 64  hidden_size: 8  dropout: 0.5 criterion: <function criterion2 at 0x000001C7862F77F0>\n"
     ]
    },
    {
     "data": {
      "application/vnd.jupyter.widget-view+json": {
       "model_id": "4745cc93084941238aa62fbe06f773ef",
       "version_major": 2,
       "version_minor": 0
      },
      "text/plain": [
       "  0%|          | 0/10000 [00:00<?, ?it/s]"
      ]
     },
     "metadata": {},
     "output_type": "display_data"
    },
    {
     "name": "stdout",
     "output_type": "stream",
     "text": [
      "\n",
      " Early Stopping / epoch: 462 loss: 0.015620\n",
      "----------------------------------------------------------------------------------------------------------\n",
      "lr: 0.0001  patience: 50  num_layers: 2  batch_size: 64  hidden_size: 8  dropout: 0.5 criterion: <function criterion3 at 0x000001C7862F7880>\n"
     ]
    },
    {
     "data": {
      "application/vnd.jupyter.widget-view+json": {
       "model_id": "e61410e7c96d4372bfefdbbb56a421b9",
       "version_major": 2,
       "version_minor": 0
      },
      "text/plain": [
       "  0%|          | 0/10000 [00:00<?, ?it/s]"
      ]
     },
     "metadata": {},
     "output_type": "display_data"
    },
    {
     "name": "stdout",
     "output_type": "stream",
     "text": [
      "\n",
      " Early Stopping / epoch: 529 loss: 0.002719\n",
      "----------------------------------------------------------------------------------------------------------\n",
      "lr: 0.0001  patience: 50  num_layers: 2  batch_size: 64  hidden_size: 16  dropout: 0.25 criterion: MSELoss()\n"
     ]
    },
    {
     "data": {
      "application/vnd.jupyter.widget-view+json": {
       "model_id": "1d4f666bce7d46d1a609cbdcc231dee4",
       "version_major": 2,
       "version_minor": 0
      },
      "text/plain": [
       "  0%|          | 0/10000 [00:00<?, ?it/s]"
      ]
     },
     "metadata": {},
     "output_type": "display_data"
    },
    {
     "name": "stdout",
     "output_type": "stream",
     "text": [
      "\n",
      " Early Stopping / epoch: 1304 loss: 0.000540\n",
      "----------------------------------------------------------------------------------------------------------\n",
      "lr: 0.0001  patience: 50  num_layers: 2  batch_size: 64  hidden_size: 16  dropout: 0.25 criterion: <function criterion2 at 0x000001C7862F77F0>\n"
     ]
    },
    {
     "data": {
      "application/vnd.jupyter.widget-view+json": {
       "model_id": "02cafbeda3dc4aca803d9fee1baf3c50",
       "version_major": 2,
       "version_minor": 0
      },
      "text/plain": [
       "  0%|          | 0/10000 [00:00<?, ?it/s]"
      ]
     },
     "metadata": {},
     "output_type": "display_data"
    },
    {
     "name": "stdout",
     "output_type": "stream",
     "text": [
      "\n",
      " Early Stopping / epoch: 763 loss: 0.009054\n",
      "----------------------------------------------------------------------------------------------------------\n",
      "lr: 0.0001  patience: 50  num_layers: 2  batch_size: 64  hidden_size: 16  dropout: 0.25 criterion: <function criterion3 at 0x000001C7862F7880>\n"
     ]
    },
    {
     "data": {
      "application/vnd.jupyter.widget-view+json": {
       "model_id": "af153eded4b14db3b82f315ad6bcf950",
       "version_major": 2,
       "version_minor": 0
      },
      "text/plain": [
       "  0%|          | 0/10000 [00:00<?, ?it/s]"
      ]
     },
     "metadata": {},
     "output_type": "display_data"
    },
    {
     "name": "stdout",
     "output_type": "stream",
     "text": [
      "\n",
      " Early Stopping / epoch: 617 loss: 0.002046\n",
      "----------------------------------------------------------------------------------------------------------\n",
      "lr: 0.0001  patience: 50  num_layers: 2  batch_size: 64  hidden_size: 16  dropout: 0.5 criterion: MSELoss()\n"
     ]
    },
    {
     "data": {
      "application/vnd.jupyter.widget-view+json": {
       "model_id": "680b751cdedf44728bef77e989a283f9",
       "version_major": 2,
       "version_minor": 0
      },
      "text/plain": [
       "  0%|          | 0/10000 [00:00<?, ?it/s]"
      ]
     },
     "metadata": {},
     "output_type": "display_data"
    },
    {
     "name": "stdout",
     "output_type": "stream",
     "text": [
      "\n",
      " Early Stopping / epoch: 1123 loss: 0.000811\n",
      "----------------------------------------------------------------------------------------------------------\n",
      "lr: 0.0001  patience: 50  num_layers: 2  batch_size: 64  hidden_size: 16  dropout: 0.5 criterion: <function criterion2 at 0x000001C7862F77F0>\n"
     ]
    },
    {
     "data": {
      "application/vnd.jupyter.widget-view+json": {
       "model_id": "a4e20813bb6a43939a2bea3f5ef62917",
       "version_major": 2,
       "version_minor": 0
      },
      "text/plain": [
       "  0%|          | 0/10000 [00:00<?, ?it/s]"
      ]
     },
     "metadata": {},
     "output_type": "display_data"
    },
    {
     "name": "stdout",
     "output_type": "stream",
     "text": [
      "\n",
      " Early Stopping / epoch: 704 loss: 0.012267\n",
      "----------------------------------------------------------------------------------------------------------\n",
      "lr: 0.0001  patience: 50  num_layers: 2  batch_size: 64  hidden_size: 16  dropout: 0.5 criterion: <function criterion3 at 0x000001C7862F7880>\n"
     ]
    },
    {
     "data": {
      "application/vnd.jupyter.widget-view+json": {
       "model_id": "e9afca930c3c47e2a3add4e400922e07",
       "version_major": 2,
       "version_minor": 0
      },
      "text/plain": [
       "  0%|          | 0/10000 [00:00<?, ?it/s]"
      ]
     },
     "metadata": {},
     "output_type": "display_data"
    },
    {
     "name": "stdout",
     "output_type": "stream",
     "text": [
      "\n",
      " Early Stopping / epoch: 735 loss: 0.001771\n",
      "----------------------------------------------------------------------------------------------------------\n",
      "lr: 0.0001  patience: 50  num_layers: 2  batch_size: 64  hidden_size: 32  dropout: 0.25 criterion: MSELoss()\n"
     ]
    },
    {
     "data": {
      "application/vnd.jupyter.widget-view+json": {
       "model_id": "155fba2a772c4013a9b27243d6ff7ab6",
       "version_major": 2,
       "version_minor": 0
      },
      "text/plain": [
       "  0%|          | 0/10000 [00:00<?, ?it/s]"
      ]
     },
     "metadata": {},
     "output_type": "display_data"
    },
    {
     "name": "stdout",
     "output_type": "stream",
     "text": [
      "\n",
      " Early Stopping / epoch: 962 loss: 0.000432\n",
      "----------------------------------------------------------------------------------------------------------\n",
      "lr: 0.0001  patience: 50  num_layers: 2  batch_size: 64  hidden_size: 32  dropout: 0.25 criterion: <function criterion2 at 0x000001C7862F77F0>\n"
     ]
    },
    {
     "data": {
      "application/vnd.jupyter.widget-view+json": {
       "model_id": "4a3016f31ac14757bda81cdc355bcf32",
       "version_major": 2,
       "version_minor": 0
      },
      "text/plain": [
       "  0%|          | 0/10000 [00:00<?, ?it/s]"
      ]
     },
     "metadata": {},
     "output_type": "display_data"
    },
    {
     "name": "stdout",
     "output_type": "stream",
     "text": [
      "\n",
      " Early Stopping / epoch: 415 loss: 0.008684\n",
      "----------------------------------------------------------------------------------------------------------\n",
      "lr: 0.0001  patience: 50  num_layers: 2  batch_size: 64  hidden_size: 32  dropout: 0.25 criterion: <function criterion3 at 0x000001C7862F7880>\n"
     ]
    },
    {
     "data": {
      "application/vnd.jupyter.widget-view+json": {
       "model_id": "79966703ea534313a414be241f7510e0",
       "version_major": 2,
       "version_minor": 0
      },
      "text/plain": [
       "  0%|          | 0/10000 [00:00<?, ?it/s]"
      ]
     },
     "metadata": {},
     "output_type": "display_data"
    },
    {
     "name": "stdout",
     "output_type": "stream",
     "text": [
      "\n",
      " Early Stopping / epoch: 750 loss: 0.001411\n",
      "----------------------------------------------------------------------------------------------------------\n",
      "lr: 0.0001  patience: 50  num_layers: 2  batch_size: 64  hidden_size: 32  dropout: 0.5 criterion: MSELoss()\n"
     ]
    },
    {
     "data": {
      "application/vnd.jupyter.widget-view+json": {
       "model_id": "e0a1d47068ed4ff281e89a0c7a6bdafb",
       "version_major": 2,
       "version_minor": 0
      },
      "text/plain": [
       "  0%|          | 0/10000 [00:00<?, ?it/s]"
      ]
     },
     "metadata": {},
     "output_type": "display_data"
    },
    {
     "name": "stdout",
     "output_type": "stream",
     "text": [
      "\n",
      " Early Stopping / epoch: 862 loss: 0.000507\n",
      "----------------------------------------------------------------------------------------------------------\n",
      "lr: 0.0001  patience: 50  num_layers: 2  batch_size: 64  hidden_size: 32  dropout: 0.5 criterion: <function criterion2 at 0x000001C7862F77F0>\n"
     ]
    },
    {
     "data": {
      "application/vnd.jupyter.widget-view+json": {
       "model_id": "f4a8c36848d24fde969fa171c40fc637",
       "version_major": 2,
       "version_minor": 0
      },
      "text/plain": [
       "  0%|          | 0/10000 [00:00<?, ?it/s]"
      ]
     },
     "metadata": {},
     "output_type": "display_data"
    },
    {
     "name": "stdout",
     "output_type": "stream",
     "text": [
      "\n",
      " Early Stopping / epoch: 405 loss: 0.008832\n",
      "----------------------------------------------------------------------------------------------------------\n",
      "lr: 0.0001  patience: 50  num_layers: 2  batch_size: 64  hidden_size: 32  dropout: 0.5 criterion: <function criterion3 at 0x000001C7862F7880>\n"
     ]
    },
    {
     "data": {
      "application/vnd.jupyter.widget-view+json": {
       "model_id": "fdb39a3eba9749dcb893608b169003a5",
       "version_major": 2,
       "version_minor": 0
      },
      "text/plain": [
       "  0%|          | 0/10000 [00:00<?, ?it/s]"
      ]
     },
     "metadata": {},
     "output_type": "display_data"
    },
    {
     "name": "stdout",
     "output_type": "stream",
     "text": [
      "\n",
      " Early Stopping / epoch: 394 loss: 0.001741\n",
      "----------------------------------------------------------------------------------------------------------\n",
      "lr: 0.0001  patience: 50  num_layers: 2  batch_size: 128  hidden_size: 8  dropout: 0.25 criterion: MSELoss()\n"
     ]
    },
    {
     "data": {
      "application/vnd.jupyter.widget-view+json": {
       "model_id": "30c2362c176c4f33a66d5bedb54a1c78",
       "version_major": 2,
       "version_minor": 0
      },
      "text/plain": [
       "  0%|          | 0/10000 [00:00<?, ?it/s]"
      ]
     },
     "metadata": {},
     "output_type": "display_data"
    },
    {
     "name": "stdout",
     "output_type": "stream",
     "text": [
      "\n",
      " Early Stopping / epoch: 1413 loss: 0.000947\n",
      "----------------------------------------------------------------------------------------------------------\n",
      "lr: 0.0001  patience: 50  num_layers: 2  batch_size: 128  hidden_size: 8  dropout: 0.25 criterion: <function criterion2 at 0x000001C7862F77F0>\n"
     ]
    },
    {
     "data": {
      "application/vnd.jupyter.widget-view+json": {
       "model_id": "2b7cb4ee655f4520989c3b4c829c78d0",
       "version_major": 2,
       "version_minor": 0
      },
      "text/plain": [
       "  0%|          | 0/10000 [00:00<?, ?it/s]"
      ]
     },
     "metadata": {},
     "output_type": "display_data"
    },
    {
     "name": "stdout",
     "output_type": "stream",
     "text": [
      "\n",
      " Early Stopping / epoch: 1402 loss: 0.017848\n",
      "----------------------------------------------------------------------------------------------------------\n",
      "lr: 0.0001  patience: 50  num_layers: 2  batch_size: 128  hidden_size: 8  dropout: 0.25 criterion: <function criterion3 at 0x000001C7862F7880>\n"
     ]
    },
    {
     "data": {
      "application/vnd.jupyter.widget-view+json": {
       "model_id": "b86ee6903cb3463180f6ba1b85e9051f",
       "version_major": 2,
       "version_minor": 0
      },
      "text/plain": [
       "  0%|          | 0/10000 [00:00<?, ?it/s]"
      ]
     },
     "metadata": {},
     "output_type": "display_data"
    },
    {
     "name": "stdout",
     "output_type": "stream",
     "text": [
      "\n",
      " Early Stopping / epoch: 1046 loss: 0.002018\n",
      "----------------------------------------------------------------------------------------------------------\n",
      "lr: 0.0001  patience: 50  num_layers: 2  batch_size: 128  hidden_size: 8  dropout: 0.5 criterion: MSELoss()\n"
     ]
    },
    {
     "data": {
      "application/vnd.jupyter.widget-view+json": {
       "model_id": "b89296eae2044c4bbdc2467d9bf46ecc",
       "version_major": 2,
       "version_minor": 0
      },
      "text/plain": [
       "  0%|          | 0/10000 [00:00<?, ?it/s]"
      ]
     },
     "metadata": {},
     "output_type": "display_data"
    },
    {
     "name": "stdout",
     "output_type": "stream",
     "text": [
      "\n",
      " Early Stopping / epoch: 1015 loss: 0.001741\n",
      "----------------------------------------------------------------------------------------------------------\n",
      "lr: 0.0001  patience: 50  num_layers: 2  batch_size: 128  hidden_size: 8  dropout: 0.5 criterion: <function criterion2 at 0x000001C7862F77F0>\n"
     ]
    },
    {
     "data": {
      "application/vnd.jupyter.widget-view+json": {
       "model_id": "56129d61ece246baa8003f47627c36a2",
       "version_major": 2,
       "version_minor": 0
      },
      "text/plain": [
       "  0%|          | 0/10000 [00:00<?, ?it/s]"
      ]
     },
     "metadata": {},
     "output_type": "display_data"
    },
    {
     "name": "stdout",
     "output_type": "stream",
     "text": [
      "\n",
      " Early Stopping / epoch: 733 loss: 0.017417\n",
      "----------------------------------------------------------------------------------------------------------\n",
      "lr: 0.0001  patience: 50  num_layers: 2  batch_size: 128  hidden_size: 8  dropout: 0.5 criterion: <function criterion3 at 0x000001C7862F7880>\n"
     ]
    },
    {
     "data": {
      "application/vnd.jupyter.widget-view+json": {
       "model_id": "c9e05223303c4409af163740197fc69b",
       "version_major": 2,
       "version_minor": 0
      },
      "text/plain": [
       "  0%|          | 0/10000 [00:00<?, ?it/s]"
      ]
     },
     "metadata": {},
     "output_type": "display_data"
    },
    {
     "name": "stdout",
     "output_type": "stream",
     "text": [
      "\n",
      " Early Stopping / epoch: 594 loss: 0.002681\n",
      "----------------------------------------------------------------------------------------------------------\n",
      "lr: 0.0001  patience: 50  num_layers: 2  batch_size: 128  hidden_size: 16  dropout: 0.25 criterion: MSELoss()\n"
     ]
    },
    {
     "data": {
      "application/vnd.jupyter.widget-view+json": {
       "model_id": "baeacbfa05d34d9a9ce6790b71eaadd3",
       "version_major": 2,
       "version_minor": 0
      },
      "text/plain": [
       "  0%|          | 0/10000 [00:00<?, ?it/s]"
      ]
     },
     "metadata": {},
     "output_type": "display_data"
    },
    {
     "name": "stdout",
     "output_type": "stream",
     "text": [
      "\n",
      " Early Stopping / epoch: 807 loss: 0.000931\n",
      "----------------------------------------------------------------------------------------------------------\n",
      "lr: 0.0001  patience: 50  num_layers: 2  batch_size: 128  hidden_size: 16  dropout: 0.25 criterion: <function criterion2 at 0x000001C7862F77F0>\n"
     ]
    },
    {
     "data": {
      "application/vnd.jupyter.widget-view+json": {
       "model_id": "bad859b1b8c84585bc4ca2d5dc1c0b41",
       "version_major": 2,
       "version_minor": 0
      },
      "text/plain": [
       "  0%|          | 0/10000 [00:00<?, ?it/s]"
      ]
     },
     "metadata": {},
     "output_type": "display_data"
    },
    {
     "name": "stdout",
     "output_type": "stream",
     "text": [
      "\n",
      " Early Stopping / epoch: 915 loss: 0.010373\n",
      "----------------------------------------------------------------------------------------------------------\n",
      "lr: 0.0001  patience: 50  num_layers: 2  batch_size: 128  hidden_size: 16  dropout: 0.25 criterion: <function criterion3 at 0x000001C7862F7880>\n"
     ]
    },
    {
     "data": {
      "application/vnd.jupyter.widget-view+json": {
       "model_id": "776fb3335a694680bce1f6f6e0442100",
       "version_major": 2,
       "version_minor": 0
      },
      "text/plain": [
       "  0%|          | 0/10000 [00:00<?, ?it/s]"
      ]
     },
     "metadata": {},
     "output_type": "display_data"
    },
    {
     "name": "stdout",
     "output_type": "stream",
     "text": [
      "\n",
      " Early Stopping / epoch: 707 loss: 0.001635\n",
      "----------------------------------------------------------------------------------------------------------\n",
      "lr: 0.0001  patience: 50  num_layers: 2  batch_size: 128  hidden_size: 16  dropout: 0.5 criterion: MSELoss()\n"
     ]
    },
    {
     "data": {
      "application/vnd.jupyter.widget-view+json": {
       "model_id": "8b3a6bae020841639ba3e99012491398",
       "version_major": 2,
       "version_minor": 0
      },
      "text/plain": [
       "  0%|          | 0/10000 [00:00<?, ?it/s]"
      ]
     },
     "metadata": {},
     "output_type": "display_data"
    },
    {
     "name": "stdout",
     "output_type": "stream",
     "text": [
      "\n",
      " Early Stopping / epoch: 878 loss: 0.001673\n",
      "----------------------------------------------------------------------------------------------------------\n",
      "lr: 0.0001  patience: 50  num_layers: 2  batch_size: 128  hidden_size: 16  dropout: 0.5 criterion: <function criterion2 at 0x000001C7862F77F0>\n"
     ]
    },
    {
     "data": {
      "application/vnd.jupyter.widget-view+json": {
       "model_id": "b07ca2317e314584b2782df5c6732514",
       "version_major": 2,
       "version_minor": 0
      },
      "text/plain": [
       "  0%|          | 0/10000 [00:00<?, ?it/s]"
      ]
     },
     "metadata": {},
     "output_type": "display_data"
    },
    {
     "name": "stdout",
     "output_type": "stream",
     "text": [
      "\n",
      " Early Stopping / epoch: 873 loss: 0.012107\n",
      "----------------------------------------------------------------------------------------------------------\n",
      "lr: 0.0001  patience: 50  num_layers: 2  batch_size: 128  hidden_size: 16  dropout: 0.5 criterion: <function criterion3 at 0x000001C7862F7880>\n"
     ]
    },
    {
     "data": {
      "application/vnd.jupyter.widget-view+json": {
       "model_id": "6c2ffbdda8f14cb5a0374af880fe9fa0",
       "version_major": 2,
       "version_minor": 0
      },
      "text/plain": [
       "  0%|          | 0/10000 [00:00<?, ?it/s]"
      ]
     },
     "metadata": {},
     "output_type": "display_data"
    },
    {
     "name": "stdout",
     "output_type": "stream",
     "text": [
      "\n",
      " Early Stopping / epoch: 893 loss: 0.001595\n",
      "----------------------------------------------------------------------------------------------------------\n",
      "lr: 0.0001  patience: 50  num_layers: 2  batch_size: 128  hidden_size: 32  dropout: 0.25 criterion: MSELoss()\n"
     ]
    },
    {
     "data": {
      "application/vnd.jupyter.widget-view+json": {
       "model_id": "52d4b44d6d144ac7aa24ef97656209f6",
       "version_major": 2,
       "version_minor": 0
      },
      "text/plain": [
       "  0%|          | 0/10000 [00:00<?, ?it/s]"
      ]
     },
     "metadata": {},
     "output_type": "display_data"
    },
    {
     "name": "stdout",
     "output_type": "stream",
     "text": [
      "\n",
      " Early Stopping / epoch: 1053 loss: 0.000449\n",
      "----------------------------------------------------------------------------------------------------------\n",
      "lr: 0.0001  patience: 50  num_layers: 2  batch_size: 128  hidden_size: 32  dropout: 0.25 criterion: <function criterion2 at 0x000001C7862F77F0>\n"
     ]
    },
    {
     "data": {
      "application/vnd.jupyter.widget-view+json": {
       "model_id": "8085f9424cd24b86a67c78aeb96f6317",
       "version_major": 2,
       "version_minor": 0
      },
      "text/plain": [
       "  0%|          | 0/10000 [00:00<?, ?it/s]"
      ]
     },
     "metadata": {},
     "output_type": "display_data"
    },
    {
     "name": "stdout",
     "output_type": "stream",
     "text": [
      "\n",
      " Early Stopping / epoch: 788 loss: 0.008444\n",
      "----------------------------------------------------------------------------------------------------------\n",
      "lr: 0.0001  patience: 50  num_layers: 2  batch_size: 128  hidden_size: 32  dropout: 0.25 criterion: <function criterion3 at 0x000001C7862F7880>\n"
     ]
    },
    {
     "data": {
      "application/vnd.jupyter.widget-view+json": {
       "model_id": "e209f4b77fe84e198e7ba6934a55bc06",
       "version_major": 2,
       "version_minor": 0
      },
      "text/plain": [
       "  0%|          | 0/10000 [00:00<?, ?it/s]"
      ]
     },
     "metadata": {},
     "output_type": "display_data"
    },
    {
     "name": "stdout",
     "output_type": "stream",
     "text": [
      "\n",
      " Early Stopping / epoch: 723 loss: 0.001287\n",
      "----------------------------------------------------------------------------------------------------------\n",
      "lr: 0.0001  patience: 50  num_layers: 2  batch_size: 128  hidden_size: 32  dropout: 0.5 criterion: MSELoss()\n"
     ]
    },
    {
     "data": {
      "application/vnd.jupyter.widget-view+json": {
       "model_id": "4182568f4ab748aaa0f53e01ab542c50",
       "version_major": 2,
       "version_minor": 0
      },
      "text/plain": [
       "  0%|          | 0/10000 [00:00<?, ?it/s]"
      ]
     },
     "metadata": {},
     "output_type": "display_data"
    },
    {
     "name": "stdout",
     "output_type": "stream",
     "text": [
      "\n",
      " Early Stopping / epoch: 734 loss: 0.000688\n",
      "----------------------------------------------------------------------------------------------------------\n",
      "lr: 0.0001  patience: 50  num_layers: 2  batch_size: 128  hidden_size: 32  dropout: 0.5 criterion: <function criterion2 at 0x000001C7862F77F0>\n"
     ]
    },
    {
     "data": {
      "application/vnd.jupyter.widget-view+json": {
       "model_id": "d6e9cd075ac14df1a70f7fe27158ab5c",
       "version_major": 2,
       "version_minor": 0
      },
      "text/plain": [
       "  0%|          | 0/10000 [00:00<?, ?it/s]"
      ]
     },
     "metadata": {},
     "output_type": "display_data"
    },
    {
     "name": "stdout",
     "output_type": "stream",
     "text": [
      "\n",
      " Early Stopping / epoch: 750 loss: 0.010172\n",
      "----------------------------------------------------------------------------------------------------------\n",
      "lr: 0.0001  patience: 50  num_layers: 2  batch_size: 128  hidden_size: 32  dropout: 0.5 criterion: <function criterion3 at 0x000001C7862F7880>\n"
     ]
    },
    {
     "data": {
      "application/vnd.jupyter.widget-view+json": {
       "model_id": "9393fbaac5044f38b8765580d01525e3",
       "version_major": 2,
       "version_minor": 0
      },
      "text/plain": [
       "  0%|          | 0/10000 [00:00<?, ?it/s]"
      ]
     },
     "metadata": {},
     "output_type": "display_data"
    },
    {
     "name": "stdout",
     "output_type": "stream",
     "text": [
      "\n",
      " Early Stopping / epoch: 412 loss: 0.001813\n",
      "----------------------------------------------------------------------------------------------------------\n",
      "lr: 0.0001  patience: 50  num_layers: 4  batch_size: 32  hidden_size: 8  dropout: 0.25 criterion: MSELoss()\n"
     ]
    },
    {
     "data": {
      "application/vnd.jupyter.widget-view+json": {
       "model_id": "f9d996c5bde647a2a5c9f9acbb7a2c9d",
       "version_major": 2,
       "version_minor": 0
      },
      "text/plain": [
       "  0%|          | 0/10000 [00:00<?, ?it/s]"
      ]
     },
     "metadata": {},
     "output_type": "display_data"
    },
    {
     "name": "stdout",
     "output_type": "stream",
     "text": [
      "\n",
      " Early Stopping / epoch: 480 loss: 0.001800\n",
      "----------------------------------------------------------------------------------------------------------\n",
      "lr: 0.0001  patience: 50  num_layers: 4  batch_size: 32  hidden_size: 8  dropout: 0.25 criterion: <function criterion2 at 0x000001C7862F77F0>\n"
     ]
    },
    {
     "data": {
      "application/vnd.jupyter.widget-view+json": {
       "model_id": "bab747ecb65c4bcda9fa42b0590cdd50",
       "version_major": 2,
       "version_minor": 0
      },
      "text/plain": [
       "  0%|          | 0/10000 [00:00<?, ?it/s]"
      ]
     },
     "metadata": {},
     "output_type": "display_data"
    },
    {
     "name": "stdout",
     "output_type": "stream",
     "text": [
      "\n",
      " Early Stopping / epoch: 983 loss: 0.012006\n",
      "----------------------------------------------------------------------------------------------------------\n",
      "lr: 0.0001  patience: 50  num_layers: 4  batch_size: 32  hidden_size: 8  dropout: 0.25 criterion: <function criterion3 at 0x000001C7862F7880>\n"
     ]
    },
    {
     "data": {
      "application/vnd.jupyter.widget-view+json": {
       "model_id": "13e4db36718d49d1aa21bbc3071a5c2f",
       "version_major": 2,
       "version_minor": 0
      },
      "text/plain": [
       "  0%|          | 0/10000 [00:00<?, ?it/s]"
      ]
     },
     "metadata": {},
     "output_type": "display_data"
    },
    {
     "name": "stdout",
     "output_type": "stream",
     "text": [
      "\n",
      " Early Stopping / epoch: 752 loss: 0.003124\n",
      "----------------------------------------------------------------------------------------------------------\n",
      "lr: 0.0001  patience: 50  num_layers: 4  batch_size: 32  hidden_size: 8  dropout: 0.5 criterion: MSELoss()\n"
     ]
    },
    {
     "data": {
      "application/vnd.jupyter.widget-view+json": {
       "model_id": "aad9984718ca43dd91ad2bcc31645fb3",
       "version_major": 2,
       "version_minor": 0
      },
      "text/plain": [
       "  0%|          | 0/10000 [00:00<?, ?it/s]"
      ]
     },
     "metadata": {},
     "output_type": "display_data"
    },
    {
     "name": "stdout",
     "output_type": "stream",
     "text": [
      "\n",
      " Early Stopping / epoch: 357 loss: 0.002256\n",
      "----------------------------------------------------------------------------------------------------------\n",
      "lr: 0.0001  patience: 50  num_layers: 4  batch_size: 32  hidden_size: 8  dropout: 0.5 criterion: <function criterion2 at 0x000001C7862F77F0>\n"
     ]
    },
    {
     "data": {
      "application/vnd.jupyter.widget-view+json": {
       "model_id": "8929c5739f6040829c3f7a8007be1e8b",
       "version_major": 2,
       "version_minor": 0
      },
      "text/plain": [
       "  0%|          | 0/10000 [00:00<?, ?it/s]"
      ]
     },
     "metadata": {},
     "output_type": "display_data"
    },
    {
     "name": "stdout",
     "output_type": "stream",
     "text": [
      "\n",
      " Early Stopping / epoch: 607 loss: 0.015620\n",
      "----------------------------------------------------------------------------------------------------------\n",
      "lr: 0.0001  patience: 50  num_layers: 4  batch_size: 32  hidden_size: 8  dropout: 0.5 criterion: <function criterion3 at 0x000001C7862F7880>\n"
     ]
    },
    {
     "data": {
      "application/vnd.jupyter.widget-view+json": {
       "model_id": "2b2ad6b273994d94a2ec8a26f9a7f0ff",
       "version_major": 2,
       "version_minor": 0
      },
      "text/plain": [
       "  0%|          | 0/10000 [00:00<?, ?it/s]"
      ]
     },
     "metadata": {},
     "output_type": "display_data"
    },
    {
     "name": "stdout",
     "output_type": "stream",
     "text": [
      "\n",
      " Early Stopping / epoch: 526 loss: 0.004298\n",
      "----------------------------------------------------------------------------------------------------------\n",
      "lr: 0.0001  patience: 50  num_layers: 4  batch_size: 32  hidden_size: 16  dropout: 0.25 criterion: MSELoss()\n"
     ]
    },
    {
     "data": {
      "application/vnd.jupyter.widget-view+json": {
       "model_id": "f459d240baf64330adfc7d3d9676905b",
       "version_major": 2,
       "version_minor": 0
      },
      "text/plain": [
       "  0%|          | 0/10000 [00:00<?, ?it/s]"
      ]
     },
     "metadata": {},
     "output_type": "display_data"
    },
    {
     "name": "stdout",
     "output_type": "stream",
     "text": [
      "\n",
      " Early Stopping / epoch: 637 loss: 0.000794\n",
      "----------------------------------------------------------------------------------------------------------\n",
      "lr: 0.0001  patience: 50  num_layers: 4  batch_size: 32  hidden_size: 16  dropout: 0.25 criterion: <function criterion2 at 0x000001C7862F77F0>\n"
     ]
    },
    {
     "data": {
      "application/vnd.jupyter.widget-view+json": {
       "model_id": "2954c6b64cdc44b798cd13cfcbfc98ca",
       "version_major": 2,
       "version_minor": 0
      },
      "text/plain": [
       "  0%|          | 0/10000 [00:00<?, ?it/s]"
      ]
     },
     "metadata": {},
     "output_type": "display_data"
    },
    {
     "name": "stdout",
     "output_type": "stream",
     "text": [
      "\n",
      " Early Stopping / epoch: 432 loss: 0.010479\n",
      "----------------------------------------------------------------------------------------------------------\n",
      "lr: 0.0001  patience: 50  num_layers: 4  batch_size: 32  hidden_size: 16  dropout: 0.25 criterion: <function criterion3 at 0x000001C7862F7880>\n"
     ]
    },
    {
     "data": {
      "application/vnd.jupyter.widget-view+json": {
       "model_id": "c9fd9ed8db2e41b29f836381607d6da3",
       "version_major": 2,
       "version_minor": 0
      },
      "text/plain": [
       "  0%|          | 0/10000 [00:00<?, ?it/s]"
      ]
     },
     "metadata": {},
     "output_type": "display_data"
    },
    {
     "name": "stdout",
     "output_type": "stream",
     "text": [
      "\n",
      " Early Stopping / epoch: 549 loss: 0.002489\n",
      "----------------------------------------------------------------------------------------------------------\n",
      "lr: 0.0001  patience: 50  num_layers: 4  batch_size: 32  hidden_size: 16  dropout: 0.5 criterion: MSELoss()\n"
     ]
    },
    {
     "data": {
      "application/vnd.jupyter.widget-view+json": {
       "model_id": "251ef344f619414d94fb94c0b81a1aaf",
       "version_major": 2,
       "version_minor": 0
      },
      "text/plain": [
       "  0%|          | 0/10000 [00:00<?, ?it/s]"
      ]
     },
     "metadata": {},
     "output_type": "display_data"
    },
    {
     "name": "stdout",
     "output_type": "stream",
     "text": [
      "\n",
      " Early Stopping / epoch: 477 loss: 0.001496\n",
      "----------------------------------------------------------------------------------------------------------\n",
      "lr: 0.0001  patience: 50  num_layers: 4  batch_size: 32  hidden_size: 16  dropout: 0.5 criterion: <function criterion2 at 0x000001C7862F77F0>\n"
     ]
    },
    {
     "data": {
      "application/vnd.jupyter.widget-view+json": {
       "model_id": "b50539accf9d422ea33ae1b0d4232ea4",
       "version_major": 2,
       "version_minor": 0
      },
      "text/plain": [
       "  0%|          | 0/10000 [00:00<?, ?it/s]"
      ]
     },
     "metadata": {},
     "output_type": "display_data"
    },
    {
     "name": "stdout",
     "output_type": "stream",
     "text": [
      "\n",
      " Early Stopping / epoch: 585 loss: 0.013454\n",
      "----------------------------------------------------------------------------------------------------------\n",
      "lr: 0.0001  patience: 50  num_layers: 4  batch_size: 32  hidden_size: 16  dropout: 0.5 criterion: <function criterion3 at 0x000001C7862F7880>\n"
     ]
    },
    {
     "data": {
      "application/vnd.jupyter.widget-view+json": {
       "model_id": "c2dede482b0f47d987f5ddbf053f2439",
       "version_major": 2,
       "version_minor": 0
      },
      "text/plain": [
       "  0%|          | 0/10000 [00:00<?, ?it/s]"
      ]
     },
     "metadata": {},
     "output_type": "display_data"
    },
    {
     "name": "stdout",
     "output_type": "stream",
     "text": [
      "\n",
      " Early Stopping / epoch: 514 loss: 0.003307\n",
      "----------------------------------------------------------------------------------------------------------\n",
      "lr: 0.0001  patience: 50  num_layers: 4  batch_size: 32  hidden_size: 32  dropout: 0.25 criterion: MSELoss()\n"
     ]
    },
    {
     "data": {
      "application/vnd.jupyter.widget-view+json": {
       "model_id": "a3a52ff3bc174eb4a6acb85de704d6d6",
       "version_major": 2,
       "version_minor": 0
      },
      "text/plain": [
       "  0%|          | 0/10000 [00:00<?, ?it/s]"
      ]
     },
     "metadata": {},
     "output_type": "display_data"
    },
    {
     "name": "stdout",
     "output_type": "stream",
     "text": [
      "\n",
      " Early Stopping / epoch: 556 loss: 0.000542\n",
      "----------------------------------------------------------------------------------------------------------\n",
      "lr: 0.0001  patience: 50  num_layers: 4  batch_size: 32  hidden_size: 32  dropout: 0.25 criterion: <function criterion2 at 0x000001C7862F77F0>\n"
     ]
    },
    {
     "data": {
      "application/vnd.jupyter.widget-view+json": {
       "model_id": "0230af41f97c459b848d73a58edbfa14",
       "version_major": 2,
       "version_minor": 0
      },
      "text/plain": [
       "  0%|          | 0/10000 [00:00<?, ?it/s]"
      ]
     },
     "metadata": {},
     "output_type": "display_data"
    },
    {
     "name": "stdout",
     "output_type": "stream",
     "text": [
      "\n",
      " Early Stopping / epoch: 422 loss: 0.010648\n",
      "----------------------------------------------------------------------------------------------------------\n",
      "lr: 0.0001  patience: 50  num_layers: 4  batch_size: 32  hidden_size: 32  dropout: 0.25 criterion: <function criterion3 at 0x000001C7862F7880>\n"
     ]
    },
    {
     "data": {
      "application/vnd.jupyter.widget-view+json": {
       "model_id": "f9f68441732e4142aafd16ee50a98f93",
       "version_major": 2,
       "version_minor": 0
      },
      "text/plain": [
       "  0%|          | 0/10000 [00:00<?, ?it/s]"
      ]
     },
     "metadata": {},
     "output_type": "display_data"
    },
    {
     "name": "stdout",
     "output_type": "stream",
     "text": [
      "\n",
      " Early Stopping / epoch: 584 loss: 0.002434\n",
      "----------------------------------------------------------------------------------------------------------\n",
      "lr: 0.0001  patience: 50  num_layers: 4  batch_size: 32  hidden_size: 32  dropout: 0.5 criterion: MSELoss()\n"
     ]
    },
    {
     "data": {
      "application/vnd.jupyter.widget-view+json": {
       "model_id": "ae7917226ef646c5bf04a556ac981c42",
       "version_major": 2,
       "version_minor": 0
      },
      "text/plain": [
       "  0%|          | 0/10000 [00:00<?, ?it/s]"
      ]
     },
     "metadata": {},
     "output_type": "display_data"
    },
    {
     "name": "stdout",
     "output_type": "stream",
     "text": [
      "\n",
      " Early Stopping / epoch: 391 loss: 0.001079\n",
      "----------------------------------------------------------------------------------------------------------\n",
      "lr: 0.0001  patience: 50  num_layers: 4  batch_size: 32  hidden_size: 32  dropout: 0.5 criterion: <function criterion2 at 0x000001C7862F77F0>\n"
     ]
    },
    {
     "data": {
      "application/vnd.jupyter.widget-view+json": {
       "model_id": "9dcc7a1452e5429db92dcbf799a14925",
       "version_major": 2,
       "version_minor": 0
      },
      "text/plain": [
       "  0%|          | 0/10000 [00:00<?, ?it/s]"
      ]
     },
     "metadata": {},
     "output_type": "display_data"
    },
    {
     "name": "stdout",
     "output_type": "stream",
     "text": [
      "\n",
      " Early Stopping / epoch: 285 loss: 0.016089\n",
      "----------------------------------------------------------------------------------------------------------\n",
      "lr: 0.0001  patience: 50  num_layers: 4  batch_size: 32  hidden_size: 32  dropout: 0.5 criterion: <function criterion3 at 0x000001C7862F7880>\n"
     ]
    },
    {
     "data": {
      "application/vnd.jupyter.widget-view+json": {
       "model_id": "8c3c7dbb7c604951bca075984f79a21d",
       "version_major": 2,
       "version_minor": 0
      },
      "text/plain": [
       "  0%|          | 0/10000 [00:00<?, ?it/s]"
      ]
     },
     "metadata": {},
     "output_type": "display_data"
    },
    {
     "name": "stdout",
     "output_type": "stream",
     "text": [
      "\n",
      " Early Stopping / epoch: 300 loss: 0.002980\n",
      "----------------------------------------------------------------------------------------------------------\n",
      "lr: 0.0001  patience: 50  num_layers: 4  batch_size: 64  hidden_size: 8  dropout: 0.25 criterion: MSELoss()\n"
     ]
    },
    {
     "data": {
      "application/vnd.jupyter.widget-view+json": {
       "model_id": "3f7cd205968f4a94b7a393b36c58e185",
       "version_major": 2,
       "version_minor": 0
      },
      "text/plain": [
       "  0%|          | 0/10000 [00:00<?, ?it/s]"
      ]
     },
     "metadata": {},
     "output_type": "display_data"
    },
    {
     "name": "stdout",
     "output_type": "stream",
     "text": [
      "\n",
      " Early Stopping / epoch: 485 loss: 0.001856\n",
      "----------------------------------------------------------------------------------------------------------\n",
      "lr: 0.0001  patience: 50  num_layers: 4  batch_size: 64  hidden_size: 8  dropout: 0.25 criterion: <function criterion2 at 0x000001C7862F77F0>\n"
     ]
    },
    {
     "data": {
      "application/vnd.jupyter.widget-view+json": {
       "model_id": "62274aa6d9cc4ede939b1dd55d52ef0a",
       "version_major": 2,
       "version_minor": 0
      },
      "text/plain": [
       "  0%|          | 0/10000 [00:00<?, ?it/s]"
      ]
     },
     "metadata": {},
     "output_type": "display_data"
    },
    {
     "name": "stdout",
     "output_type": "stream",
     "text": [
      "\n",
      " Early Stopping / epoch: 1454 loss: 0.012041\n",
      "----------------------------------------------------------------------------------------------------------\n",
      "lr: 0.0001  patience: 50  num_layers: 4  batch_size: 64  hidden_size: 8  dropout: 0.25 criterion: <function criterion3 at 0x000001C7862F7880>\n"
     ]
    },
    {
     "data": {
      "application/vnd.jupyter.widget-view+json": {
       "model_id": "491b595ca6c64cd4b5ed5093ee2d21af",
       "version_major": 2,
       "version_minor": 0
      },
      "text/plain": [
       "  0%|          | 0/10000 [00:00<?, ?it/s]"
      ]
     },
     "metadata": {},
     "output_type": "display_data"
    },
    {
     "name": "stdout",
     "output_type": "stream",
     "text": [
      "\n",
      " Early Stopping / epoch: 903 loss: 0.002920\n",
      "----------------------------------------------------------------------------------------------------------\n",
      "lr: 0.0001  patience: 50  num_layers: 4  batch_size: 64  hidden_size: 8  dropout: 0.5 criterion: MSELoss()\n"
     ]
    },
    {
     "data": {
      "application/vnd.jupyter.widget-view+json": {
       "model_id": "cadc8818771e4c5da07cbb78fcebfbaa",
       "version_major": 2,
       "version_minor": 0
      },
      "text/plain": [
       "  0%|          | 0/10000 [00:00<?, ?it/s]"
      ]
     },
     "metadata": {},
     "output_type": "display_data"
    },
    {
     "name": "stdout",
     "output_type": "stream",
     "text": [
      "\n",
      " Early Stopping / epoch: 457 loss: 0.002345\n",
      "----------------------------------------------------------------------------------------------------------\n",
      "lr: 0.0001  patience: 50  num_layers: 4  batch_size: 64  hidden_size: 8  dropout: 0.5 criterion: <function criterion2 at 0x000001C7862F77F0>\n"
     ]
    },
    {
     "data": {
      "application/vnd.jupyter.widget-view+json": {
       "model_id": "2676046ae3934deba1f443ca686cd9be",
       "version_major": 2,
       "version_minor": 0
      },
      "text/plain": [
       "  0%|          | 0/10000 [00:00<?, ?it/s]"
      ]
     },
     "metadata": {},
     "output_type": "display_data"
    },
    {
     "name": "stdout",
     "output_type": "stream",
     "text": [
      "\n",
      " Early Stopping / epoch: 887 loss: 0.016782\n",
      "----------------------------------------------------------------------------------------------------------\n",
      "lr: 0.0001  patience: 50  num_layers: 4  batch_size: 64  hidden_size: 8  dropout: 0.5 criterion: <function criterion3 at 0x000001C7862F7880>\n"
     ]
    },
    {
     "data": {
      "application/vnd.jupyter.widget-view+json": {
       "model_id": "8ffe6f5160114fa4a50eb70db74f8836",
       "version_major": 2,
       "version_minor": 0
      },
      "text/plain": [
       "  0%|          | 0/10000 [00:00<?, ?it/s]"
      ]
     },
     "metadata": {},
     "output_type": "display_data"
    },
    {
     "name": "stdout",
     "output_type": "stream",
     "text": [
      "\n",
      " Early Stopping / epoch: 854 loss: 0.002484\n",
      "----------------------------------------------------------------------------------------------------------\n",
      "lr: 0.0001  patience: 50  num_layers: 4  batch_size: 64  hidden_size: 16  dropout: 0.25 criterion: MSELoss()\n"
     ]
    },
    {
     "data": {
      "application/vnd.jupyter.widget-view+json": {
       "model_id": "17e49cb74d0946e48f721e94a4c1b251",
       "version_major": 2,
       "version_minor": 0
      },
      "text/plain": [
       "  0%|          | 0/10000 [00:00<?, ?it/s]"
      ]
     },
     "metadata": {},
     "output_type": "display_data"
    },
    {
     "name": "stdout",
     "output_type": "stream",
     "text": [
      "\n",
      " Early Stopping / epoch: 857 loss: 0.000848\n",
      "----------------------------------------------------------------------------------------------------------\n",
      "lr: 0.0001  patience: 50  num_layers: 4  batch_size: 64  hidden_size: 16  dropout: 0.25 criterion: <function criterion2 at 0x000001C7862F77F0>\n"
     ]
    },
    {
     "data": {
      "application/vnd.jupyter.widget-view+json": {
       "model_id": "f903e08bf8624a29adcf6e386efccff5",
       "version_major": 2,
       "version_minor": 0
      },
      "text/plain": [
       "  0%|          | 0/10000 [00:00<?, ?it/s]"
      ]
     },
     "metadata": {},
     "output_type": "display_data"
    },
    {
     "name": "stdout",
     "output_type": "stream",
     "text": [
      "\n",
      " Early Stopping / epoch: 508 loss: 0.011627\n",
      "----------------------------------------------------------------------------------------------------------\n",
      "lr: 0.0001  patience: 50  num_layers: 4  batch_size: 64  hidden_size: 16  dropout: 0.25 criterion: <function criterion3 at 0x000001C7862F7880>\n"
     ]
    },
    {
     "data": {
      "application/vnd.jupyter.widget-view+json": {
       "model_id": "b2cf1a56ac5d49fbbed3703b39dab8cf",
       "version_major": 2,
       "version_minor": 0
      },
      "text/plain": [
       "  0%|          | 0/10000 [00:00<?, ?it/s]"
      ]
     },
     "metadata": {},
     "output_type": "display_data"
    },
    {
     "name": "stdout",
     "output_type": "stream",
     "text": [
      "\n",
      " Early Stopping / epoch: 544 loss: 0.001965\n",
      "----------------------------------------------------------------------------------------------------------\n",
      "lr: 0.0001  patience: 50  num_layers: 4  batch_size: 64  hidden_size: 16  dropout: 0.5 criterion: MSELoss()\n"
     ]
    },
    {
     "data": {
      "application/vnd.jupyter.widget-view+json": {
       "model_id": "6528043c2acc4e86b02402f44b220aad",
       "version_major": 2,
       "version_minor": 0
      },
      "text/plain": [
       "  0%|          | 0/10000 [00:00<?, ?it/s]"
      ]
     },
     "metadata": {},
     "output_type": "display_data"
    },
    {
     "name": "stdout",
     "output_type": "stream",
     "text": [
      "\n",
      " Early Stopping / epoch: 352 loss: 0.001946\n",
      "----------------------------------------------------------------------------------------------------------\n",
      "lr: 0.0001  patience: 50  num_layers: 4  batch_size: 64  hidden_size: 16  dropout: 0.5 criterion: <function criterion2 at 0x000001C7862F77F0>\n"
     ]
    },
    {
     "data": {
      "application/vnd.jupyter.widget-view+json": {
       "model_id": "6877f4aae08047e3aecfe141fda45788",
       "version_major": 2,
       "version_minor": 0
      },
      "text/plain": [
       "  0%|          | 0/10000 [00:00<?, ?it/s]"
      ]
     },
     "metadata": {},
     "output_type": "display_data"
    },
    {
     "name": "stdout",
     "output_type": "stream",
     "text": [
      "\n",
      " Early Stopping / epoch: 579 loss: 0.012157\n",
      "----------------------------------------------------------------------------------------------------------\n",
      "lr: 0.0001  patience: 50  num_layers: 4  batch_size: 64  hidden_size: 16  dropout: 0.5 criterion: <function criterion3 at 0x000001C7862F7880>\n"
     ]
    },
    {
     "data": {
      "application/vnd.jupyter.widget-view+json": {
       "model_id": "cdf8feacfd644dfdaa2c440b3239c4f0",
       "version_major": 2,
       "version_minor": 0
      },
      "text/plain": [
       "  0%|          | 0/10000 [00:00<?, ?it/s]"
      ]
     },
     "metadata": {},
     "output_type": "display_data"
    },
    {
     "name": "stdout",
     "output_type": "stream",
     "text": [
      "\n",
      " Early Stopping / epoch: 927 loss: 0.002010\n",
      "----------------------------------------------------------------------------------------------------------\n",
      "lr: 0.0001  patience: 50  num_layers: 4  batch_size: 64  hidden_size: 32  dropout: 0.25 criterion: MSELoss()\n"
     ]
    },
    {
     "data": {
      "application/vnd.jupyter.widget-view+json": {
       "model_id": "3369f0b6b5f24e29a0ab3e5f2d88f92d",
       "version_major": 2,
       "version_minor": 0
      },
      "text/plain": [
       "  0%|          | 0/10000 [00:00<?, ?it/s]"
      ]
     },
     "metadata": {},
     "output_type": "display_data"
    },
    {
     "name": "stdout",
     "output_type": "stream",
     "text": [
      "\n",
      " Early Stopping / epoch: 1230 loss: 0.000354\n",
      "----------------------------------------------------------------------------------------------------------\n",
      "lr: 0.0001  patience: 50  num_layers: 4  batch_size: 64  hidden_size: 32  dropout: 0.25 criterion: <function criterion2 at 0x000001C7862F77F0>\n"
     ]
    },
    {
     "data": {
      "application/vnd.jupyter.widget-view+json": {
       "model_id": "c700dd245dfd46f4a171a5b47a46a6d6",
       "version_major": 2,
       "version_minor": 0
      },
      "text/plain": [
       "  0%|          | 0/10000 [00:00<?, ?it/s]"
      ]
     },
     "metadata": {},
     "output_type": "display_data"
    },
    {
     "name": "stdout",
     "output_type": "stream",
     "text": [
      "\n",
      " Early Stopping / epoch: 658 loss: 0.008399\n",
      "----------------------------------------------------------------------------------------------------------\n",
      "lr: 0.0001  patience: 50  num_layers: 4  batch_size: 64  hidden_size: 32  dropout: 0.25 criterion: <function criterion3 at 0x000001C7862F7880>\n"
     ]
    },
    {
     "data": {
      "application/vnd.jupyter.widget-view+json": {
       "model_id": "d08598a6ff504e10b134ff3630f81d40",
       "version_major": 2,
       "version_minor": 0
      },
      "text/plain": [
       "  0%|          | 0/10000 [00:00<?, ?it/s]"
      ]
     },
     "metadata": {},
     "output_type": "display_data"
    },
    {
     "name": "stdout",
     "output_type": "stream",
     "text": [
      "\n",
      " Early Stopping / epoch: 567 loss: 0.001648\n",
      "----------------------------------------------------------------------------------------------------------\n",
      "lr: 0.0001  patience: 50  num_layers: 4  batch_size: 64  hidden_size: 32  dropout: 0.5 criterion: MSELoss()\n"
     ]
    },
    {
     "data": {
      "application/vnd.jupyter.widget-view+json": {
       "model_id": "8b9e47ee1b294cf5a9d83161543d0741",
       "version_major": 2,
       "version_minor": 0
      },
      "text/plain": [
       "  0%|          | 0/10000 [00:00<?, ?it/s]"
      ]
     },
     "metadata": {},
     "output_type": "display_data"
    },
    {
     "name": "stdout",
     "output_type": "stream",
     "text": [
      "\n",
      " Early Stopping / epoch: 797 loss: 0.000787\n",
      "----------------------------------------------------------------------------------------------------------\n",
      "lr: 0.0001  patience: 50  num_layers: 4  batch_size: 64  hidden_size: 32  dropout: 0.5 criterion: <function criterion2 at 0x000001C7862F77F0>\n"
     ]
    },
    {
     "data": {
      "application/vnd.jupyter.widget-view+json": {
       "model_id": "3b8bc16439c141fc873445744a128561",
       "version_major": 2,
       "version_minor": 0
      },
      "text/plain": [
       "  0%|          | 0/10000 [00:00<?, ?it/s]"
      ]
     },
     "metadata": {},
     "output_type": "display_data"
    },
    {
     "name": "stdout",
     "output_type": "stream",
     "text": [
      "\n",
      " Early Stopping / epoch: 364 loss: 0.014562\n",
      "----------------------------------------------------------------------------------------------------------\n",
      "lr: 0.0001  patience: 50  num_layers: 4  batch_size: 64  hidden_size: 32  dropout: 0.5 criterion: <function criterion3 at 0x000001C7862F7880>\n"
     ]
    },
    {
     "data": {
      "application/vnd.jupyter.widget-view+json": {
       "model_id": "c20718b4057649d8adc8de51c01c39d2",
       "version_major": 2,
       "version_minor": 0
      },
      "text/plain": [
       "  0%|          | 0/10000 [00:00<?, ?it/s]"
      ]
     },
     "metadata": {},
     "output_type": "display_data"
    },
    {
     "name": "stdout",
     "output_type": "stream",
     "text": [
      "\n",
      " Early Stopping / epoch: 432 loss: 0.002078\n",
      "----------------------------------------------------------------------------------------------------------\n",
      "lr: 0.0001  patience: 50  num_layers: 4  batch_size: 128  hidden_size: 8  dropout: 0.25 criterion: MSELoss()\n"
     ]
    },
    {
     "data": {
      "application/vnd.jupyter.widget-view+json": {
       "model_id": "866d2e1ef95a4b68b4d0f1f202552565",
       "version_major": 2,
       "version_minor": 0
      },
      "text/plain": [
       "  0%|          | 0/10000 [00:00<?, ?it/s]"
      ]
     },
     "metadata": {},
     "output_type": "display_data"
    },
    {
     "name": "stdout",
     "output_type": "stream",
     "text": [
      "\n",
      " Early Stopping / epoch: 1260 loss: 0.001088\n",
      "----------------------------------------------------------------------------------------------------------\n",
      "lr: 0.0001  patience: 50  num_layers: 4  batch_size: 128  hidden_size: 8  dropout: 0.25 criterion: <function criterion2 at 0x000001C7862F77F0>\n"
     ]
    },
    {
     "data": {
      "application/vnd.jupyter.widget-view+json": {
       "model_id": "a988e1c6e64a4e74b77caf9983ec514d",
       "version_major": 2,
       "version_minor": 0
      },
      "text/plain": [
       "  0%|          | 0/10000 [00:00<?, ?it/s]"
      ]
     },
     "metadata": {},
     "output_type": "display_data"
    },
    {
     "name": "stdout",
     "output_type": "stream",
     "text": [
      "\n",
      " Early Stopping / epoch: 872 loss: 0.012694\n",
      "----------------------------------------------------------------------------------------------------------\n",
      "lr: 0.0001  patience: 50  num_layers: 4  batch_size: 128  hidden_size: 8  dropout: 0.25 criterion: <function criterion3 at 0x000001C7862F7880>\n"
     ]
    },
    {
     "data": {
      "application/vnd.jupyter.widget-view+json": {
       "model_id": "38d406200fd04254847e5b1e9948be18",
       "version_major": 2,
       "version_minor": 0
      },
      "text/plain": [
       "  0%|          | 0/10000 [00:00<?, ?it/s]"
      ]
     },
     "metadata": {},
     "output_type": "display_data"
    },
    {
     "name": "stdout",
     "output_type": "stream",
     "text": [
      "\n",
      " Early Stopping / epoch: 627 loss: 0.002398\n",
      "----------------------------------------------------------------------------------------------------------\n",
      "lr: 0.0001  patience: 50  num_layers: 4  batch_size: 128  hidden_size: 8  dropout: 0.5 criterion: MSELoss()\n"
     ]
    },
    {
     "data": {
      "application/vnd.jupyter.widget-view+json": {
       "model_id": "916fb0a5c80c470684108d38654bdc0f",
       "version_major": 2,
       "version_minor": 0
      },
      "text/plain": [
       "  0%|          | 0/10000 [00:00<?, ?it/s]"
      ]
     },
     "metadata": {},
     "output_type": "display_data"
    },
    {
     "name": "stdout",
     "output_type": "stream",
     "text": [
      "\n",
      " Early Stopping / epoch: 725 loss: 0.001925\n",
      "----------------------------------------------------------------------------------------------------------\n",
      "lr: 0.0001  patience: 50  num_layers: 4  batch_size: 128  hidden_size: 8  dropout: 0.5 criterion: <function criterion2 at 0x000001C7862F77F0>\n"
     ]
    },
    {
     "data": {
      "application/vnd.jupyter.widget-view+json": {
       "model_id": "45892d075d294834834909aef66ee294",
       "version_major": 2,
       "version_minor": 0
      },
      "text/plain": [
       "  0%|          | 0/10000 [00:00<?, ?it/s]"
      ]
     },
     "metadata": {},
     "output_type": "display_data"
    },
    {
     "name": "stdout",
     "output_type": "stream",
     "text": [
      "\n",
      " Early Stopping / epoch: 655 loss: 0.017733\n",
      "----------------------------------------------------------------------------------------------------------\n",
      "lr: 0.0001  patience: 50  num_layers: 4  batch_size: 128  hidden_size: 8  dropout: 0.5 criterion: <function criterion3 at 0x000001C7862F7880>\n"
     ]
    },
    {
     "data": {
      "application/vnd.jupyter.widget-view+json": {
       "model_id": "b0b598a3fee14dde9e6e4e351d6df93a",
       "version_major": 2,
       "version_minor": 0
      },
      "text/plain": [
       "  0%|          | 0/10000 [00:00<?, ?it/s]"
      ]
     },
     "metadata": {},
     "output_type": "display_data"
    },
    {
     "name": "stdout",
     "output_type": "stream",
     "text": [
      "\n",
      " Early Stopping / epoch: 1185 loss: 0.002637\n",
      "----------------------------------------------------------------------------------------------------------\n",
      "lr: 0.0001  patience: 50  num_layers: 4  batch_size: 128  hidden_size: 16  dropout: 0.25 criterion: MSELoss()\n"
     ]
    },
    {
     "data": {
      "application/vnd.jupyter.widget-view+json": {
       "model_id": "cc1fcc47861247949f67fd674a4274c8",
       "version_major": 2,
       "version_minor": 0
      },
      "text/plain": [
       "  0%|          | 0/10000 [00:00<?, ?it/s]"
      ]
     },
     "metadata": {},
     "output_type": "display_data"
    },
    {
     "name": "stdout",
     "output_type": "stream",
     "text": [
      "\n",
      " Early Stopping / epoch: 628 loss: 0.001151\n",
      "----------------------------------------------------------------------------------------------------------\n",
      "lr: 0.0001  patience: 50  num_layers: 4  batch_size: 128  hidden_size: 16  dropout: 0.25 criterion: <function criterion2 at 0x000001C7862F77F0>\n"
     ]
    },
    {
     "data": {
      "application/vnd.jupyter.widget-view+json": {
       "model_id": "c39a6f535b2743f4b3b042b3a1a46d0a",
       "version_major": 2,
       "version_minor": 0
      },
      "text/plain": [
       "  0%|          | 0/10000 [00:00<?, ?it/s]"
      ]
     },
     "metadata": {},
     "output_type": "display_data"
    },
    {
     "name": "stdout",
     "output_type": "stream",
     "text": [
      "\n",
      " Early Stopping / epoch: 1233 loss: 0.009155\n",
      "----------------------------------------------------------------------------------------------------------\n",
      "lr: 0.0001  patience: 50  num_layers: 4  batch_size: 128  hidden_size: 16  dropout: 0.25 criterion: <function criterion3 at 0x000001C7862F7880>\n"
     ]
    },
    {
     "data": {
      "application/vnd.jupyter.widget-view+json": {
       "model_id": "8fb509fddfc34b038c0e38db542defc9",
       "version_major": 2,
       "version_minor": 0
      },
      "text/plain": [
       "  0%|          | 0/10000 [00:00<?, ?it/s]"
      ]
     },
     "metadata": {},
     "output_type": "display_data"
    },
    {
     "name": "stdout",
     "output_type": "stream",
     "text": [
      "\n",
      " Early Stopping / epoch: 651 loss: 0.001618\n",
      "----------------------------------------------------------------------------------------------------------\n",
      "lr: 0.0001  patience: 50  num_layers: 4  batch_size: 128  hidden_size: 16  dropout: 0.5 criterion: MSELoss()\n"
     ]
    },
    {
     "data": {
      "application/vnd.jupyter.widget-view+json": {
       "model_id": "9a87bb2621d74b01889efa493c94fb27",
       "version_major": 2,
       "version_minor": 0
      },
      "text/plain": [
       "  0%|          | 0/10000 [00:00<?, ?it/s]"
      ]
     },
     "metadata": {},
     "output_type": "display_data"
    },
    {
     "name": "stdout",
     "output_type": "stream",
     "text": [
      "\n",
      " Early Stopping / epoch: 648 loss: 0.001689\n",
      "----------------------------------------------------------------------------------------------------------\n",
      "lr: 0.0001  patience: 50  num_layers: 4  batch_size: 128  hidden_size: 16  dropout: 0.5 criterion: <function criterion2 at 0x000001C7862F77F0>\n"
     ]
    },
    {
     "data": {
      "application/vnd.jupyter.widget-view+json": {
       "model_id": "03895a968fd848deb789f0a83ceefacd",
       "version_major": 2,
       "version_minor": 0
      },
      "text/plain": [
       "  0%|          | 0/10000 [00:00<?, ?it/s]"
      ]
     },
     "metadata": {},
     "output_type": "display_data"
    },
    {
     "name": "stdout",
     "output_type": "stream",
     "text": [
      "\n",
      " Early Stopping / epoch: 764 loss: 0.013614\n",
      "----------------------------------------------------------------------------------------------------------\n",
      "lr: 0.0001  patience: 50  num_layers: 4  batch_size: 128  hidden_size: 16  dropout: 0.5 criterion: <function criterion3 at 0x000001C7862F7880>\n"
     ]
    },
    {
     "data": {
      "application/vnd.jupyter.widget-view+json": {
       "model_id": "5a4ab9b5a1e74bf9a93e2ac32cc3e4e6",
       "version_major": 2,
       "version_minor": 0
      },
      "text/plain": [
       "  0%|          | 0/10000 [00:00<?, ?it/s]"
      ]
     },
     "metadata": {},
     "output_type": "display_data"
    },
    {
     "name": "stdout",
     "output_type": "stream",
     "text": [
      "\n",
      " Early Stopping / epoch: 760 loss: 0.002008\n",
      "----------------------------------------------------------------------------------------------------------\n",
      "lr: 0.0001  patience: 50  num_layers: 4  batch_size: 128  hidden_size: 32  dropout: 0.25 criterion: MSELoss()\n"
     ]
    },
    {
     "data": {
      "application/vnd.jupyter.widget-view+json": {
       "model_id": "b4f01d47f9a84772835eacd69469adc9",
       "version_major": 2,
       "version_minor": 0
      },
      "text/plain": [
       "  0%|          | 0/10000 [00:00<?, ?it/s]"
      ]
     },
     "metadata": {},
     "output_type": "display_data"
    },
    {
     "name": "stdout",
     "output_type": "stream",
     "text": [
      "\n",
      " Early Stopping / epoch: 556 loss: 0.000737\n",
      "----------------------------------------------------------------------------------------------------------\n",
      "lr: 0.0001  patience: 50  num_layers: 4  batch_size: 128  hidden_size: 32  dropout: 0.25 criterion: <function criterion2 at 0x000001C7862F77F0>\n"
     ]
    },
    {
     "data": {
      "application/vnd.jupyter.widget-view+json": {
       "model_id": "460c332bdada4d04850b7dd52346ed4d",
       "version_major": 2,
       "version_minor": 0
      },
      "text/plain": [
       "  0%|          | 0/10000 [00:00<?, ?it/s]"
      ]
     },
     "metadata": {},
     "output_type": "display_data"
    },
    {
     "name": "stdout",
     "output_type": "stream",
     "text": [
      "\n",
      " Early Stopping / epoch: 688 loss: 0.009099\n",
      "----------------------------------------------------------------------------------------------------------\n",
      "lr: 0.0001  patience: 50  num_layers: 4  batch_size: 128  hidden_size: 32  dropout: 0.25 criterion: <function criterion3 at 0x000001C7862F7880>\n"
     ]
    },
    {
     "data": {
      "application/vnd.jupyter.widget-view+json": {
       "model_id": "4e67a5b513a54f419d54e0d0adffd858",
       "version_major": 2,
       "version_minor": 0
      },
      "text/plain": [
       "  0%|          | 0/10000 [00:00<?, ?it/s]"
      ]
     },
     "metadata": {},
     "output_type": "display_data"
    },
    {
     "name": "stdout",
     "output_type": "stream",
     "text": [
      "\n",
      " Early Stopping / epoch: 552 loss: 0.001479\n",
      "----------------------------------------------------------------------------------------------------------\n",
      "lr: 0.0001  patience: 50  num_layers: 4  batch_size: 128  hidden_size: 32  dropout: 0.5 criterion: MSELoss()\n"
     ]
    },
    {
     "data": {
      "application/vnd.jupyter.widget-view+json": {
       "model_id": "8290e580e309461d95d1ae114255266d",
       "version_major": 2,
       "version_minor": 0
      },
      "text/plain": [
       "  0%|          | 0/10000 [00:00<?, ?it/s]"
      ]
     },
     "metadata": {},
     "output_type": "display_data"
    },
    {
     "name": "stdout",
     "output_type": "stream",
     "text": [
      "\n",
      " Early Stopping / epoch: 910 loss: 0.000749\n",
      "----------------------------------------------------------------------------------------------------------\n",
      "lr: 0.0001  patience: 50  num_layers: 4  batch_size: 128  hidden_size: 32  dropout: 0.5 criterion: <function criterion2 at 0x000001C7862F77F0>\n"
     ]
    },
    {
     "data": {
      "application/vnd.jupyter.widget-view+json": {
       "model_id": "2763e1e2779349f486f35c7bb08a8b1c",
       "version_major": 2,
       "version_minor": 0
      },
      "text/plain": [
       "  0%|          | 0/10000 [00:00<?, ?it/s]"
      ]
     },
     "metadata": {},
     "output_type": "display_data"
    },
    {
     "name": "stdout",
     "output_type": "stream",
     "text": [
      "\n",
      " Early Stopping / epoch: 605 loss: 0.010806\n",
      "----------------------------------------------------------------------------------------------------------\n",
      "lr: 0.0001  patience: 50  num_layers: 4  batch_size: 128  hidden_size: 32  dropout: 0.5 criterion: <function criterion3 at 0x000001C7862F7880>\n"
     ]
    },
    {
     "data": {
      "application/vnd.jupyter.widget-view+json": {
       "model_id": "ec922ae044504d2195e4dfd6a9198022",
       "version_major": 2,
       "version_minor": 0
      },
      "text/plain": [
       "  0%|          | 0/10000 [00:00<?, ?it/s]"
      ]
     },
     "metadata": {},
     "output_type": "display_data"
    },
    {
     "name": "stdout",
     "output_type": "stream",
     "text": [
      "\n",
      " Early Stopping / epoch: 530 loss: 0.001662\n",
      "----------------------------------------------------------------------------------------------------------\n",
      "lr: 1e-05  patience: 20  num_layers: 2  batch_size: 32  hidden_size: 8  dropout: 0.25 criterion: MSELoss()\n"
     ]
    },
    {
     "data": {
      "application/vnd.jupyter.widget-view+json": {
       "model_id": "085c1f36733346388b4dd2119b0073f7",
       "version_major": 2,
       "version_minor": 0
      },
      "text/plain": [
       "  0%|          | 0/10000 [00:00<?, ?it/s]"
      ]
     },
     "metadata": {},
     "output_type": "display_data"
    },
    {
     "name": "stdout",
     "output_type": "stream",
     "text": [
      "\n",
      " Early Stopping / epoch: 226 loss: 0.014868\n",
      "----------------------------------------------------------------------------------------------------------\n",
      "lr: 1e-05  patience: 20  num_layers: 2  batch_size: 32  hidden_size: 8  dropout: 0.25 criterion: <function criterion2 at 0x000001C7862F77F0>\n"
     ]
    },
    {
     "data": {
      "application/vnd.jupyter.widget-view+json": {
       "model_id": "62e7cfed5cb446c5a2d7b8eb3d901080",
       "version_major": 2,
       "version_minor": 0
      },
      "text/plain": [
       "  0%|          | 0/10000 [00:00<?, ?it/s]"
      ]
     },
     "metadata": {},
     "output_type": "display_data"
    },
    {
     "name": "stdout",
     "output_type": "stream",
     "text": [
      "\n",
      " Early Stopping / epoch: 609 loss: 0.032314\n",
      "----------------------------------------------------------------------------------------------------------\n",
      "lr: 1e-05  patience: 20  num_layers: 2  batch_size: 32  hidden_size: 8  dropout: 0.25 criterion: <function criterion3 at 0x000001C7862F7880>\n"
     ]
    },
    {
     "data": {
      "application/vnd.jupyter.widget-view+json": {
       "model_id": "b2a052dec4f649ba9bb99719dc9015af",
       "version_major": 2,
       "version_minor": 0
      },
      "text/plain": [
       "  0%|          | 0/10000 [00:00<?, ?it/s]"
      ]
     },
     "metadata": {},
     "output_type": "display_data"
    },
    {
     "name": "stdout",
     "output_type": "stream",
     "text": [
      "\n",
      " Early Stopping / epoch: 936 loss: 0.005810\n",
      "----------------------------------------------------------------------------------------------------------\n",
      "lr: 1e-05  patience: 20  num_layers: 2  batch_size: 32  hidden_size: 8  dropout: 0.5 criterion: MSELoss()\n"
     ]
    },
    {
     "data": {
      "application/vnd.jupyter.widget-view+json": {
       "model_id": "2e5c5cba5d544e1f8480c8a8d1b6b2ec",
       "version_major": 2,
       "version_minor": 0
      },
      "text/plain": [
       "  0%|          | 0/10000 [00:00<?, ?it/s]"
      ]
     },
     "metadata": {},
     "output_type": "display_data"
    },
    {
     "name": "stdout",
     "output_type": "stream",
     "text": [
      "\n",
      " Early Stopping / epoch: 365 loss: 0.014499\n",
      "----------------------------------------------------------------------------------------------------------\n",
      "lr: 1e-05  patience: 20  num_layers: 2  batch_size: 32  hidden_size: 8  dropout: 0.5 criterion: <function criterion2 at 0x000001C7862F77F0>\n"
     ]
    },
    {
     "data": {
      "application/vnd.jupyter.widget-view+json": {
       "model_id": "5ecccd63c2034066a2367e2057def2d7",
       "version_major": 2,
       "version_minor": 0
      },
      "text/plain": [
       "  0%|          | 0/10000 [00:00<?, ?it/s]"
      ]
     },
     "metadata": {},
     "output_type": "display_data"
    },
    {
     "name": "stdout",
     "output_type": "stream",
     "text": [
      "\n",
      " Early Stopping / epoch: 794 loss: 0.028677\n",
      "----------------------------------------------------------------------------------------------------------\n",
      "lr: 1e-05  patience: 20  num_layers: 2  batch_size: 32  hidden_size: 8  dropout: 0.5 criterion: <function criterion3 at 0x000001C7862F7880>\n"
     ]
    },
    {
     "data": {
      "application/vnd.jupyter.widget-view+json": {
       "model_id": "0dde0436f70c4395892e7c219f00465d",
       "version_major": 2,
       "version_minor": 0
      },
      "text/plain": [
       "  0%|          | 0/10000 [00:00<?, ?it/s]"
      ]
     },
     "metadata": {},
     "output_type": "display_data"
    },
    {
     "name": "stdout",
     "output_type": "stream",
     "text": [
      "\n",
      " Early Stopping / epoch: 640 loss: 0.006633\n",
      "----------------------------------------------------------------------------------------------------------\n",
      "lr: 1e-05  patience: 20  num_layers: 2  batch_size: 32  hidden_size: 16  dropout: 0.25 criterion: MSELoss()\n"
     ]
    },
    {
     "data": {
      "application/vnd.jupyter.widget-view+json": {
       "model_id": "eedab75eedde4162a15c332cbe1626cc",
       "version_major": 2,
       "version_minor": 0
      },
      "text/plain": [
       "  0%|          | 0/10000 [00:00<?, ?it/s]"
      ]
     },
     "metadata": {},
     "output_type": "display_data"
    },
    {
     "name": "stdout",
     "output_type": "stream",
     "text": [
      "\n",
      " Early Stopping / epoch: 382 loss: 0.003310\n",
      "----------------------------------------------------------------------------------------------------------\n",
      "lr: 1e-05  patience: 20  num_layers: 2  batch_size: 32  hidden_size: 16  dropout: 0.25 criterion: <function criterion2 at 0x000001C7862F77F0>\n"
     ]
    },
    {
     "data": {
      "application/vnd.jupyter.widget-view+json": {
       "model_id": "6f635138f1634aadad44635b903ac1f2",
       "version_major": 2,
       "version_minor": 0
      },
      "text/plain": [
       "  0%|          | 0/10000 [00:00<?, ?it/s]"
      ]
     },
     "metadata": {},
     "output_type": "display_data"
    },
    {
     "name": "stdout",
     "output_type": "stream",
     "text": [
      "\n",
      " Early Stopping / epoch: 692 loss: 0.016731\n",
      "----------------------------------------------------------------------------------------------------------\n",
      "lr: 1e-05  patience: 20  num_layers: 2  batch_size: 32  hidden_size: 16  dropout: 0.25 criterion: <function criterion3 at 0x000001C7862F7880>\n"
     ]
    },
    {
     "data": {
      "application/vnd.jupyter.widget-view+json": {
       "model_id": "8fd2fa1bfabd4256ad4106400f6905c3",
       "version_major": 2,
       "version_minor": 0
      },
      "text/plain": [
       "  0%|          | 0/10000 [00:00<?, ?it/s]"
      ]
     },
     "metadata": {},
     "output_type": "display_data"
    },
    {
     "name": "stdout",
     "output_type": "stream",
     "text": [
      "\n",
      " Early Stopping / epoch: 707 loss: 0.003980\n",
      "----------------------------------------------------------------------------------------------------------\n",
      "lr: 1e-05  patience: 20  num_layers: 2  batch_size: 32  hidden_size: 16  dropout: 0.5 criterion: MSELoss()\n"
     ]
    },
    {
     "data": {
      "application/vnd.jupyter.widget-view+json": {
       "model_id": "bc4a1536ff564ef193b68ee147f9f425",
       "version_major": 2,
       "version_minor": 0
      },
      "text/plain": [
       "  0%|          | 0/10000 [00:00<?, ?it/s]"
      ]
     },
     "metadata": {},
     "output_type": "display_data"
    },
    {
     "name": "stdout",
     "output_type": "stream",
     "text": [
      "\n",
      " Early Stopping / epoch: 468 loss: 0.012353\n",
      "----------------------------------------------------------------------------------------------------------\n",
      "lr: 1e-05  patience: 20  num_layers: 2  batch_size: 32  hidden_size: 16  dropout: 0.5 criterion: <function criterion2 at 0x000001C7862F77F0>\n"
     ]
    },
    {
     "data": {
      "application/vnd.jupyter.widget-view+json": {
       "model_id": "55856026074f45db83b6c89c29d16431",
       "version_major": 2,
       "version_minor": 0
      },
      "text/plain": [
       "  0%|          | 0/10000 [00:00<?, ?it/s]"
      ]
     },
     "metadata": {},
     "output_type": "display_data"
    },
    {
     "name": "stdout",
     "output_type": "stream",
     "text": [
      "\n",
      " Early Stopping / epoch: 574 loss: 0.022809\n",
      "----------------------------------------------------------------------------------------------------------\n",
      "lr: 1e-05  patience: 20  num_layers: 2  batch_size: 32  hidden_size: 16  dropout: 0.5 criterion: <function criterion3 at 0x000001C7862F7880>\n"
     ]
    },
    {
     "data": {
      "application/vnd.jupyter.widget-view+json": {
       "model_id": "34787dc8e4a84398a6dc9a66c3e0b79a",
       "version_major": 2,
       "version_minor": 0
      },
      "text/plain": [
       "  0%|          | 0/10000 [00:00<?, ?it/s]"
      ]
     },
     "metadata": {},
     "output_type": "display_data"
    },
    {
     "name": "stdout",
     "output_type": "stream",
     "text": [
      "\n",
      " Early Stopping / epoch: 383 loss: 0.006269\n",
      "----------------------------------------------------------------------------------------------------------\n",
      "lr: 1e-05  patience: 20  num_layers: 2  batch_size: 32  hidden_size: 32  dropout: 0.25 criterion: MSELoss()\n"
     ]
    },
    {
     "data": {
      "application/vnd.jupyter.widget-view+json": {
       "model_id": "e30611729eb54e9194e561e9ffbea6d9",
       "version_major": 2,
       "version_minor": 0
      },
      "text/plain": [
       "  0%|          | 0/10000 [00:00<?, ?it/s]"
      ]
     },
     "metadata": {},
     "output_type": "display_data"
    },
    {
     "name": "stdout",
     "output_type": "stream",
     "text": [
      "\n",
      " Early Stopping / epoch: 359 loss: 0.002648\n",
      "----------------------------------------------------------------------------------------------------------\n",
      "lr: 1e-05  patience: 20  num_layers: 2  batch_size: 32  hidden_size: 32  dropout: 0.25 criterion: <function criterion2 at 0x000001C7862F77F0>\n"
     ]
    },
    {
     "data": {
      "application/vnd.jupyter.widget-view+json": {
       "model_id": "4512af53f37a4d7780b14a94306a17a8",
       "version_major": 2,
       "version_minor": 0
      },
      "text/plain": [
       "  0%|          | 0/10000 [00:00<?, ?it/s]"
      ]
     },
     "metadata": {},
     "output_type": "display_data"
    },
    {
     "name": "stdout",
     "output_type": "stream",
     "text": [
      "\n",
      " Early Stopping / epoch: 500 loss: 0.015034\n",
      "----------------------------------------------------------------------------------------------------------\n",
      "lr: 1e-05  patience: 20  num_layers: 2  batch_size: 32  hidden_size: 32  dropout: 0.25 criterion: <function criterion3 at 0x000001C7862F7880>\n"
     ]
    },
    {
     "data": {
      "application/vnd.jupyter.widget-view+json": {
       "model_id": "edf029ea915a43cb917ef1c2695bb7f0",
       "version_major": 2,
       "version_minor": 0
      },
      "text/plain": [
       "  0%|          | 0/10000 [00:00<?, ?it/s]"
      ]
     },
     "metadata": {},
     "output_type": "display_data"
    },
    {
     "name": "stdout",
     "output_type": "stream",
     "text": [
      "\n",
      " Early Stopping / epoch: 541 loss: 0.003508\n",
      "----------------------------------------------------------------------------------------------------------\n",
      "lr: 1e-05  patience: 20  num_layers: 2  batch_size: 32  hidden_size: 32  dropout: 0.5 criterion: MSELoss()\n"
     ]
    },
    {
     "data": {
      "application/vnd.jupyter.widget-view+json": {
       "model_id": "76a03bfb89c142f1aa0e2f82eb5e856d",
       "version_major": 2,
       "version_minor": 0
      },
      "text/plain": [
       "  0%|          | 0/10000 [00:00<?, ?it/s]"
      ]
     },
     "metadata": {},
     "output_type": "display_data"
    },
    {
     "name": "stdout",
     "output_type": "stream",
     "text": [
      "\n",
      " Early Stopping / epoch: 421 loss: 0.002509\n",
      "----------------------------------------------------------------------------------------------------------\n",
      "lr: 1e-05  patience: 20  num_layers: 2  batch_size: 32  hidden_size: 32  dropout: 0.5 criterion: <function criterion2 at 0x000001C7862F77F0>\n"
     ]
    },
    {
     "data": {
      "application/vnd.jupyter.widget-view+json": {
       "model_id": "b4e694ad85ea4d6a83612d42c62b1fdf",
       "version_major": 2,
       "version_minor": 0
      },
      "text/plain": [
       "  0%|          | 0/10000 [00:00<?, ?it/s]"
      ]
     },
     "metadata": {},
     "output_type": "display_data"
    },
    {
     "name": "stdout",
     "output_type": "stream",
     "text": [
      "\n",
      " Early Stopping / epoch: 513 loss: 0.016613\n",
      "----------------------------------------------------------------------------------------------------------\n",
      "lr: 1e-05  patience: 20  num_layers: 2  batch_size: 32  hidden_size: 32  dropout: 0.5 criterion: <function criterion3 at 0x000001C7862F7880>\n"
     ]
    },
    {
     "data": {
      "application/vnd.jupyter.widget-view+json": {
       "model_id": "d072313cd8e34dd3af9db923b63bcfe8",
       "version_major": 2,
       "version_minor": 0
      },
      "text/plain": [
       "  0%|          | 0/10000 [00:00<?, ?it/s]"
      ]
     },
     "metadata": {},
     "output_type": "display_data"
    },
    {
     "name": "stdout",
     "output_type": "stream",
     "text": [
      "\n",
      " Early Stopping / epoch: 353 loss: 0.003676\n",
      "----------------------------------------------------------------------------------------------------------\n",
      "lr: 1e-05  patience: 20  num_layers: 2  batch_size: 64  hidden_size: 8  dropout: 0.25 criterion: MSELoss()\n"
     ]
    },
    {
     "data": {
      "application/vnd.jupyter.widget-view+json": {
       "model_id": "604d8135eca6424288ca3cdaff83163b",
       "version_major": 2,
       "version_minor": 0
      },
      "text/plain": [
       "  0%|          | 0/10000 [00:00<?, ?it/s]"
      ]
     },
     "metadata": {},
     "output_type": "display_data"
    },
    {
     "name": "stdout",
     "output_type": "stream",
     "text": [
      "\n",
      " Early Stopping / epoch: 223 loss: 0.010838\n",
      "----------------------------------------------------------------------------------------------------------\n",
      "lr: 1e-05  patience: 20  num_layers: 2  batch_size: 64  hidden_size: 8  dropout: 0.25 criterion: <function criterion2 at 0x000001C7862F77F0>\n"
     ]
    },
    {
     "data": {
      "application/vnd.jupyter.widget-view+json": {
       "model_id": "63cc3cb3c0dc4270ba63d021276e115b",
       "version_major": 2,
       "version_minor": 0
      },
      "text/plain": [
       "  0%|          | 0/10000 [00:00<?, ?it/s]"
      ]
     },
     "metadata": {},
     "output_type": "display_data"
    },
    {
     "name": "stdout",
     "output_type": "stream",
     "text": [
      "\n",
      " Early Stopping / epoch: 259 loss: 0.056789\n",
      "----------------------------------------------------------------------------------------------------------\n",
      "lr: 1e-05  patience: 20  num_layers: 2  batch_size: 64  hidden_size: 8  dropout: 0.25 criterion: <function criterion3 at 0x000001C7862F7880>\n"
     ]
    },
    {
     "data": {
      "application/vnd.jupyter.widget-view+json": {
       "model_id": "77ef75cc14454bd99ba3362fea84a83f",
       "version_major": 2,
       "version_minor": 0
      },
      "text/plain": [
       "  0%|          | 0/10000 [00:00<?, ?it/s]"
      ]
     },
     "metadata": {},
     "output_type": "display_data"
    },
    {
     "name": "stdout",
     "output_type": "stream",
     "text": [
      "\n",
      " Early Stopping / epoch: 841 loss: 0.007626\n",
      "----------------------------------------------------------------------------------------------------------\n",
      "lr: 1e-05  patience: 20  num_layers: 2  batch_size: 64  hidden_size: 8  dropout: 0.5 criterion: MSELoss()\n"
     ]
    },
    {
     "data": {
      "application/vnd.jupyter.widget-view+json": {
       "model_id": "b060ea9a325f40fca179fbd02aa168d4",
       "version_major": 2,
       "version_minor": 0
      },
      "text/plain": [
       "  0%|          | 0/10000 [00:00<?, ?it/s]"
      ]
     },
     "metadata": {},
     "output_type": "display_data"
    },
    {
     "name": "stdout",
     "output_type": "stream",
     "text": [
      "\n",
      " Early Stopping / epoch: 315 loss: 0.027015\n",
      "----------------------------------------------------------------------------------------------------------\n",
      "lr: 1e-05  patience: 20  num_layers: 2  batch_size: 64  hidden_size: 8  dropout: 0.5 criterion: <function criterion2 at 0x000001C7862F77F0>\n"
     ]
    },
    {
     "data": {
      "application/vnd.jupyter.widget-view+json": {
       "model_id": "3d1303d3d0844a25a4f3f3243578780c",
       "version_major": 2,
       "version_minor": 0
      },
      "text/plain": [
       "  0%|          | 0/10000 [00:00<?, ?it/s]"
      ]
     },
     "metadata": {},
     "output_type": "display_data"
    },
    {
     "name": "stdout",
     "output_type": "stream",
     "text": [
      "\n",
      " Early Stopping / epoch: 785 loss: 0.042363\n",
      "----------------------------------------------------------------------------------------------------------\n",
      "lr: 1e-05  patience: 20  num_layers: 2  batch_size: 64  hidden_size: 8  dropout: 0.5 criterion: <function criterion3 at 0x000001C7862F7880>\n"
     ]
    },
    {
     "data": {
      "application/vnd.jupyter.widget-view+json": {
       "model_id": "f70ffd4889f94b08b4af4d803b90d930",
       "version_major": 2,
       "version_minor": 0
      },
      "text/plain": [
       "  0%|          | 0/10000 [00:00<?, ?it/s]"
      ]
     },
     "metadata": {},
     "output_type": "display_data"
    },
    {
     "name": "stdout",
     "output_type": "stream",
     "text": [
      "\n",
      " Early Stopping / epoch: 968 loss: 0.008218\n",
      "----------------------------------------------------------------------------------------------------------\n",
      "lr: 1e-05  patience: 20  num_layers: 2  batch_size: 64  hidden_size: 16  dropout: 0.25 criterion: MSELoss()\n"
     ]
    },
    {
     "data": {
      "application/vnd.jupyter.widget-view+json": {
       "model_id": "bd4eccfac29040e4965ed20c44dba8bc",
       "version_major": 2,
       "version_minor": 0
      },
      "text/plain": [
       "  0%|          | 0/10000 [00:00<?, ?it/s]"
      ]
     },
     "metadata": {},
     "output_type": "display_data"
    },
    {
     "name": "stdout",
     "output_type": "stream",
     "text": [
      "\n",
      " Early Stopping / epoch: 254 loss: 0.010671\n",
      "----------------------------------------------------------------------------------------------------------\n",
      "lr: 1e-05  patience: 20  num_layers: 2  batch_size: 64  hidden_size: 16  dropout: 0.25 criterion: <function criterion2 at 0x000001C7862F77F0>\n"
     ]
    },
    {
     "data": {
      "application/vnd.jupyter.widget-view+json": {
       "model_id": "a7dc83bd40284afbbe87fa4ef3adbc83",
       "version_major": 2,
       "version_minor": 0
      },
      "text/plain": [
       "  0%|          | 0/10000 [00:00<?, ?it/s]"
      ]
     },
     "metadata": {},
     "output_type": "display_data"
    },
    {
     "name": "stdout",
     "output_type": "stream",
     "text": [
      "\n",
      " Early Stopping / epoch: 739 loss: 0.020933\n",
      "----------------------------------------------------------------------------------------------------------\n",
      "lr: 1e-05  patience: 20  num_layers: 2  batch_size: 64  hidden_size: 16  dropout: 0.25 criterion: <function criterion3 at 0x000001C7862F7880>\n"
     ]
    },
    {
     "data": {
      "application/vnd.jupyter.widget-view+json": {
       "model_id": "2703a62aa4e24b00ab9f9e72eb1e9e53",
       "version_major": 2,
       "version_minor": 0
      },
      "text/plain": [
       "  0%|          | 0/10000 [00:00<?, ?it/s]"
      ]
     },
     "metadata": {},
     "output_type": "display_data"
    },
    {
     "name": "stdout",
     "output_type": "stream",
     "text": [
      "\n",
      " Early Stopping / epoch: 1049 loss: 0.003245\n",
      "----------------------------------------------------------------------------------------------------------\n",
      "lr: 1e-05  patience: 20  num_layers: 2  batch_size: 64  hidden_size: 16  dropout: 0.5 criterion: MSELoss()\n"
     ]
    },
    {
     "data": {
      "application/vnd.jupyter.widget-view+json": {
       "model_id": "bce993e971bc46d6a3f966d675f996ba",
       "version_major": 2,
       "version_minor": 0
      },
      "text/plain": [
       "  0%|          | 0/10000 [00:00<?, ?it/s]"
      ]
     },
     "metadata": {},
     "output_type": "display_data"
    },
    {
     "name": "stdout",
     "output_type": "stream",
     "text": [
      "\n",
      " Early Stopping / epoch: 399 loss: 0.012344\n",
      "----------------------------------------------------------------------------------------------------------\n",
      "lr: 1e-05  patience: 20  num_layers: 2  batch_size: 64  hidden_size: 16  dropout: 0.5 criterion: <function criterion2 at 0x000001C7862F77F0>\n"
     ]
    },
    {
     "data": {
      "application/vnd.jupyter.widget-view+json": {
       "model_id": "1739ec6b3be643d3bdd30c6573a7ca00",
       "version_major": 2,
       "version_minor": 0
      },
      "text/plain": [
       "  0%|          | 0/10000 [00:00<?, ?it/s]"
      ]
     },
     "metadata": {},
     "output_type": "display_data"
    },
    {
     "name": "stdout",
     "output_type": "stream",
     "text": [
      "\n",
      " Early Stopping / epoch: 582 loss: 0.032819\n",
      "----------------------------------------------------------------------------------------------------------\n",
      "lr: 1e-05  patience: 20  num_layers: 2  batch_size: 64  hidden_size: 16  dropout: 0.5 criterion: <function criterion3 at 0x000001C7862F7880>\n"
     ]
    },
    {
     "data": {
      "application/vnd.jupyter.widget-view+json": {
       "model_id": "935561e8ab5345fbac2a32c2543041c4",
       "version_major": 2,
       "version_minor": 0
      },
      "text/plain": [
       "  0%|          | 0/10000 [00:00<?, ?it/s]"
      ]
     },
     "metadata": {},
     "output_type": "display_data"
    },
    {
     "name": "stdout",
     "output_type": "stream",
     "text": [
      "\n",
      " Early Stopping / epoch: 628 loss: 0.004380\n",
      "----------------------------------------------------------------------------------------------------------\n",
      "lr: 1e-05  patience: 20  num_layers: 2  batch_size: 64  hidden_size: 32  dropout: 0.25 criterion: MSELoss()\n"
     ]
    },
    {
     "data": {
      "application/vnd.jupyter.widget-view+json": {
       "model_id": "ca392d62b04947e7a22c1ac709130e42",
       "version_major": 2,
       "version_minor": 0
      },
      "text/plain": [
       "  0%|          | 0/10000 [00:00<?, ?it/s]"
      ]
     },
     "metadata": {},
     "output_type": "display_data"
    },
    {
     "name": "stdout",
     "output_type": "stream",
     "text": [
      "\n",
      " Early Stopping / epoch: 301 loss: 0.003656\n",
      "----------------------------------------------------------------------------------------------------------\n",
      "lr: 1e-05  patience: 20  num_layers: 2  batch_size: 64  hidden_size: 32  dropout: 0.25 criterion: <function criterion2 at 0x000001C7862F77F0>\n"
     ]
    },
    {
     "data": {
      "application/vnd.jupyter.widget-view+json": {
       "model_id": "97d240b30bbe459cbab71e69ab8e41c5",
       "version_major": 2,
       "version_minor": 0
      },
      "text/plain": [
       "  0%|          | 0/10000 [00:00<?, ?it/s]"
      ]
     },
     "metadata": {},
     "output_type": "display_data"
    },
    {
     "name": "stdout",
     "output_type": "stream",
     "text": [
      "\n",
      " Early Stopping / epoch: 444 loss: 0.021055\n",
      "----------------------------------------------------------------------------------------------------------\n",
      "lr: 1e-05  patience: 20  num_layers: 2  batch_size: 64  hidden_size: 32  dropout: 0.25 criterion: <function criterion3 at 0x000001C7862F7880>\n"
     ]
    },
    {
     "data": {
      "application/vnd.jupyter.widget-view+json": {
       "model_id": "058ae00f352e40ec9f8e4a3a93834c36",
       "version_major": 2,
       "version_minor": 0
      },
      "text/plain": [
       "  0%|          | 0/10000 [00:00<?, ?it/s]"
      ]
     },
     "metadata": {},
     "output_type": "display_data"
    },
    {
     "name": "stdout",
     "output_type": "stream",
     "text": [
      "\n",
      " Early Stopping / epoch: 480 loss: 0.003027\n",
      "----------------------------------------------------------------------------------------------------------\n",
      "lr: 1e-05  patience: 20  num_layers: 2  batch_size: 64  hidden_size: 32  dropout: 0.5 criterion: MSELoss()\n"
     ]
    },
    {
     "data": {
      "application/vnd.jupyter.widget-view+json": {
       "model_id": "d0d2cc6a14394df0baf0ec0f6409aad3",
       "version_major": 2,
       "version_minor": 0
      },
      "text/plain": [
       "  0%|          | 0/10000 [00:00<?, ?it/s]"
      ]
     },
     "metadata": {},
     "output_type": "display_data"
    },
    {
     "name": "stdout",
     "output_type": "stream",
     "text": [
      "\n",
      " Early Stopping / epoch: 552 loss: 0.003041\n",
      "----------------------------------------------------------------------------------------------------------\n",
      "lr: 1e-05  patience: 20  num_layers: 2  batch_size: 64  hidden_size: 32  dropout: 0.5 criterion: <function criterion2 at 0x000001C7862F77F0>\n"
     ]
    },
    {
     "data": {
      "application/vnd.jupyter.widget-view+json": {
       "model_id": "6d5b42321c1f499ca25126509bad71d2",
       "version_major": 2,
       "version_minor": 0
      },
      "text/plain": [
       "  0%|          | 0/10000 [00:00<?, ?it/s]"
      ]
     },
     "metadata": {},
     "output_type": "display_data"
    },
    {
     "name": "stdout",
     "output_type": "stream",
     "text": [
      "\n",
      " Early Stopping / epoch: 692 loss: 0.018725\n",
      "----------------------------------------------------------------------------------------------------------\n",
      "lr: 1e-05  patience: 20  num_layers: 2  batch_size: 64  hidden_size: 32  dropout: 0.5 criterion: <function criterion3 at 0x000001C7862F7880>\n"
     ]
    },
    {
     "data": {
      "application/vnd.jupyter.widget-view+json": {
       "model_id": "0ab9979ef20a4e6b99cef7a0cc1ad621",
       "version_major": 2,
       "version_minor": 0
      },
      "text/plain": [
       "  0%|          | 0/10000 [00:00<?, ?it/s]"
      ]
     },
     "metadata": {},
     "output_type": "display_data"
    },
    {
     "name": "stdout",
     "output_type": "stream",
     "text": [
      "\n",
      " Early Stopping / epoch: 527 loss: 0.003259\n",
      "----------------------------------------------------------------------------------------------------------\n",
      "lr: 1e-05  patience: 20  num_layers: 2  batch_size: 128  hidden_size: 8  dropout: 0.25 criterion: MSELoss()\n"
     ]
    },
    {
     "data": {
      "application/vnd.jupyter.widget-view+json": {
       "model_id": "82e19d8165d8488d87560a6490d0f6c2",
       "version_major": 2,
       "version_minor": 0
      },
      "text/plain": [
       "  0%|          | 0/10000 [00:00<?, ?it/s]"
      ]
     },
     "metadata": {},
     "output_type": "display_data"
    },
    {
     "name": "stdout",
     "output_type": "stream",
     "text": [
      "\n",
      " Early Stopping / epoch: 116 loss: 0.015587\n",
      "----------------------------------------------------------------------------------------------------------\n",
      "lr: 1e-05  patience: 20  num_layers: 2  batch_size: 128  hidden_size: 8  dropout: 0.25 criterion: <function criterion2 at 0x000001C7862F77F0>\n"
     ]
    },
    {
     "data": {
      "application/vnd.jupyter.widget-view+json": {
       "model_id": "9adfaed1ae884e4d86f2fa601e1a31aa",
       "version_major": 2,
       "version_minor": 0
      },
      "text/plain": [
       "  0%|          | 0/10000 [00:00<?, ?it/s]"
      ]
     },
     "metadata": {},
     "output_type": "display_data"
    },
    {
     "name": "stdout",
     "output_type": "stream",
     "text": [
      "\n",
      " Early Stopping / epoch: 630 loss: 0.040326\n",
      "----------------------------------------------------------------------------------------------------------\n",
      "lr: 1e-05  patience: 20  num_layers: 2  batch_size: 128  hidden_size: 8  dropout: 0.25 criterion: <function criterion3 at 0x000001C7862F7880>\n"
     ]
    },
    {
     "data": {
      "application/vnd.jupyter.widget-view+json": {
       "model_id": "1286a3a68f644d10bcf498cff22f1a6c",
       "version_major": 2,
       "version_minor": 0
      },
      "text/plain": [
       "  0%|          | 0/10000 [00:00<?, ?it/s]"
      ]
     },
     "metadata": {},
     "output_type": "display_data"
    },
    {
     "name": "stdout",
     "output_type": "stream",
     "text": [
      "\n",
      " Early Stopping / epoch: 290 loss: 0.008128\n",
      "----------------------------------------------------------------------------------------------------------\n",
      "lr: 1e-05  patience: 20  num_layers: 2  batch_size: 128  hidden_size: 8  dropout: 0.5 criterion: MSELoss()\n"
     ]
    },
    {
     "data": {
      "application/vnd.jupyter.widget-view+json": {
       "model_id": "a1c75f1526b94847a3a5b81572c88864",
       "version_major": 2,
       "version_minor": 0
      },
      "text/plain": [
       "  0%|          | 0/10000 [00:00<?, ?it/s]"
      ]
     },
     "metadata": {},
     "output_type": "display_data"
    },
    {
     "name": "stdout",
     "output_type": "stream",
     "text": [
      "\n",
      " Early Stopping / epoch: 426 loss: 0.019733\n",
      "----------------------------------------------------------------------------------------------------------\n",
      "lr: 1e-05  patience: 20  num_layers: 2  batch_size: 128  hidden_size: 8  dropout: 0.5 criterion: <function criterion2 at 0x000001C7862F77F0>\n"
     ]
    },
    {
     "data": {
      "application/vnd.jupyter.widget-view+json": {
       "model_id": "8043e19c4a6643609146b80ec3d50adb",
       "version_major": 2,
       "version_minor": 0
      },
      "text/plain": [
       "  0%|          | 0/10000 [00:00<?, ?it/s]"
      ]
     },
     "metadata": {},
     "output_type": "display_data"
    },
    {
     "name": "stdout",
     "output_type": "stream",
     "text": [
      "\n",
      " Early Stopping / epoch: 246 loss: 0.102404\n",
      "----------------------------------------------------------------------------------------------------------\n",
      "lr: 1e-05  patience: 20  num_layers: 2  batch_size: 128  hidden_size: 8  dropout: 0.5 criterion: <function criterion3 at 0x000001C7862F7880>\n"
     ]
    },
    {
     "data": {
      "application/vnd.jupyter.widget-view+json": {
       "model_id": "7ccc059f95a34dd7813e8bd26ee07071",
       "version_major": 2,
       "version_minor": 0
      },
      "text/plain": [
       "  0%|          | 0/10000 [00:00<?, ?it/s]"
      ]
     },
     "metadata": {},
     "output_type": "display_data"
    },
    {
     "name": "stdout",
     "output_type": "stream",
     "text": [
      "\n",
      " Early Stopping / epoch: 506 loss: 0.011908\n",
      "----------------------------------------------------------------------------------------------------------\n",
      "lr: 1e-05  patience: 20  num_layers: 2  batch_size: 128  hidden_size: 16  dropout: 0.25 criterion: MSELoss()\n"
     ]
    },
    {
     "data": {
      "application/vnd.jupyter.widget-view+json": {
       "model_id": "3319f6f09c7a437ba3c8ece0d1c08a84",
       "version_major": 2,
       "version_minor": 0
      },
      "text/plain": [
       "  0%|          | 0/10000 [00:00<?, ?it/s]"
      ]
     },
     "metadata": {},
     "output_type": "display_data"
    },
    {
     "name": "stdout",
     "output_type": "stream",
     "text": [
      "\n",
      " Early Stopping / epoch: 206 loss: 0.013617\n",
      "----------------------------------------------------------------------------------------------------------\n",
      "lr: 1e-05  patience: 20  num_layers: 2  batch_size: 128  hidden_size: 16  dropout: 0.25 criterion: <function criterion2 at 0x000001C7862F77F0>\n"
     ]
    },
    {
     "data": {
      "application/vnd.jupyter.widget-view+json": {
       "model_id": "455e6ef9eb3a4122bbede53f3db6bfab",
       "version_major": 2,
       "version_minor": 0
      },
      "text/plain": [
       "  0%|          | 0/10000 [00:00<?, ?it/s]"
      ]
     },
     "metadata": {},
     "output_type": "display_data"
    },
    {
     "name": "stdout",
     "output_type": "stream",
     "text": [
      "\n",
      " Early Stopping / epoch: 263 loss: 0.054616\n",
      "----------------------------------------------------------------------------------------------------------\n",
      "lr: 1e-05  patience: 20  num_layers: 2  batch_size: 128  hidden_size: 16  dropout: 0.25 criterion: <function criterion3 at 0x000001C7862F7880>\n"
     ]
    },
    {
     "data": {
      "application/vnd.jupyter.widget-view+json": {
       "model_id": "431ca9e699684cec87ca88b010e3ed0a",
       "version_major": 2,
       "version_minor": 0
      },
      "text/plain": [
       "  0%|          | 0/10000 [00:00<?, ?it/s]"
      ]
     },
     "metadata": {},
     "output_type": "display_data"
    },
    {
     "name": "stdout",
     "output_type": "stream",
     "text": [
      "\n",
      " Early Stopping / epoch: 379 loss: 0.006624\n",
      "----------------------------------------------------------------------------------------------------------\n",
      "lr: 1e-05  patience: 20  num_layers: 2  batch_size: 128  hidden_size: 16  dropout: 0.5 criterion: MSELoss()\n"
     ]
    },
    {
     "data": {
      "application/vnd.jupyter.widget-view+json": {
       "model_id": "f256db80ea40466794ca1b691e938c1c",
       "version_major": 2,
       "version_minor": 0
      },
      "text/plain": [
       "  0%|          | 0/10000 [00:00<?, ?it/s]"
      ]
     },
     "metadata": {},
     "output_type": "display_data"
    },
    {
     "name": "stdout",
     "output_type": "stream",
     "text": [
      "\n",
      " Early Stopping / epoch: 505 loss: 0.010529\n",
      "----------------------------------------------------------------------------------------------------------\n",
      "lr: 1e-05  patience: 20  num_layers: 2  batch_size: 128  hidden_size: 16  dropout: 0.5 criterion: <function criterion2 at 0x000001C7862F77F0>\n"
     ]
    },
    {
     "data": {
      "application/vnd.jupyter.widget-view+json": {
       "model_id": "ebf4b7d83f2446c4b4888c194423af44",
       "version_major": 2,
       "version_minor": 0
      },
      "text/plain": [
       "  0%|          | 0/10000 [00:00<?, ?it/s]"
      ]
     },
     "metadata": {},
     "output_type": "display_data"
    },
    {
     "name": "stdout",
     "output_type": "stream",
     "text": [
      "\n",
      " Early Stopping / epoch: 775 loss: 0.037600\n",
      "----------------------------------------------------------------------------------------------------------\n",
      "lr: 1e-05  patience: 20  num_layers: 2  batch_size: 128  hidden_size: 16  dropout: 0.5 criterion: <function criterion3 at 0x000001C7862F7880>\n"
     ]
    },
    {
     "data": {
      "application/vnd.jupyter.widget-view+json": {
       "model_id": "6d6ec3bf623c4ee995f948f6faf01ccc",
       "version_major": 2,
       "version_minor": 0
      },
      "text/plain": [
       "  0%|          | 0/10000 [00:00<?, ?it/s]"
      ]
     },
     "metadata": {},
     "output_type": "display_data"
    },
    {
     "name": "stdout",
     "output_type": "stream",
     "text": [
      "\n",
      " Early Stopping / epoch: 692 loss: 0.006141\n",
      "----------------------------------------------------------------------------------------------------------\n",
      "lr: 1e-05  patience: 20  num_layers: 2  batch_size: 128  hidden_size: 32  dropout: 0.25 criterion: MSELoss()\n"
     ]
    },
    {
     "data": {
      "application/vnd.jupyter.widget-view+json": {
       "model_id": "cbf2872692964a20a97d834576418467",
       "version_major": 2,
       "version_minor": 0
      },
      "text/plain": [
       "  0%|          | 0/10000 [00:00<?, ?it/s]"
      ]
     },
     "metadata": {},
     "output_type": "display_data"
    },
    {
     "name": "stdout",
     "output_type": "stream",
     "text": [
      "\n",
      " Early Stopping / epoch: 627 loss: 0.002872\n",
      "----------------------------------------------------------------------------------------------------------\n",
      "lr: 1e-05  patience: 20  num_layers: 2  batch_size: 128  hidden_size: 32  dropout: 0.25 criterion: <function criterion2 at 0x000001C7862F77F0>\n"
     ]
    },
    {
     "data": {
      "application/vnd.jupyter.widget-view+json": {
       "model_id": "62409b70a86c4df48f68e4a7d5165f15",
       "version_major": 2,
       "version_minor": 0
      },
      "text/plain": [
       "  0%|          | 0/10000 [00:00<?, ?it/s]"
      ]
     },
     "metadata": {},
     "output_type": "display_data"
    },
    {
     "name": "stdout",
     "output_type": "stream",
     "text": [
      "\n",
      " Early Stopping / epoch: 690 loss: 0.022032\n",
      "----------------------------------------------------------------------------------------------------------\n",
      "lr: 1e-05  patience: 20  num_layers: 2  batch_size: 128  hidden_size: 32  dropout: 0.25 criterion: <function criterion3 at 0x000001C7862F7880>\n"
     ]
    },
    {
     "data": {
      "application/vnd.jupyter.widget-view+json": {
       "model_id": "b81501edffd4412884b6eb103b3e2e55",
       "version_major": 2,
       "version_minor": 0
      },
      "text/plain": [
       "  0%|          | 0/10000 [00:00<?, ?it/s]"
      ]
     },
     "metadata": {},
     "output_type": "display_data"
    },
    {
     "name": "stdout",
     "output_type": "stream",
     "text": [
      "\n",
      " Early Stopping / epoch: 137 loss: 0.006588\n",
      "----------------------------------------------------------------------------------------------------------\n",
      "lr: 1e-05  patience: 20  num_layers: 2  batch_size: 128  hidden_size: 32  dropout: 0.5 criterion: MSELoss()\n"
     ]
    },
    {
     "data": {
      "application/vnd.jupyter.widget-view+json": {
       "model_id": "f8b05ac65ed543e08dfca79de1bde770",
       "version_major": 2,
       "version_minor": 0
      },
      "text/plain": [
       "  0%|          | 0/10000 [00:00<?, ?it/s]"
      ]
     },
     "metadata": {},
     "output_type": "display_data"
    },
    {
     "name": "stdout",
     "output_type": "stream",
     "text": [
      "\n",
      " Early Stopping / epoch: 154 loss: 0.011517\n",
      "----------------------------------------------------------------------------------------------------------\n",
      "lr: 1e-05  patience: 20  num_layers: 2  batch_size: 128  hidden_size: 32  dropout: 0.5 criterion: <function criterion2 at 0x000001C7862F77F0>\n"
     ]
    },
    {
     "data": {
      "application/vnd.jupyter.widget-view+json": {
       "model_id": "beb14d4c689946d9913bc291ecd07c72",
       "version_major": 2,
       "version_minor": 0
      },
      "text/plain": [
       "  0%|          | 0/10000 [00:00<?, ?it/s]"
      ]
     },
     "metadata": {},
     "output_type": "display_data"
    },
    {
     "name": "stdout",
     "output_type": "stream",
     "text": [
      "\n",
      " Early Stopping / epoch: 527 loss: 0.025919\n",
      "----------------------------------------------------------------------------------------------------------\n",
      "lr: 1e-05  patience: 20  num_layers: 2  batch_size: 128  hidden_size: 32  dropout: 0.5 criterion: <function criterion3 at 0x000001C7862F7880>\n"
     ]
    },
    {
     "data": {
      "application/vnd.jupyter.widget-view+json": {
       "model_id": "556db5bbf4694709ba8eed8cba204b9c",
       "version_major": 2,
       "version_minor": 0
      },
      "text/plain": [
       "  0%|          | 0/10000 [00:00<?, ?it/s]"
      ]
     },
     "metadata": {},
     "output_type": "display_data"
    },
    {
     "name": "stdout",
     "output_type": "stream",
     "text": [
      "\n",
      " Early Stopping / epoch: 827 loss: 0.003025\n",
      "----------------------------------------------------------------------------------------------------------\n",
      "lr: 1e-05  patience: 20  num_layers: 4  batch_size: 32  hidden_size: 8  dropout: 0.25 criterion: MSELoss()\n"
     ]
    },
    {
     "data": {
      "application/vnd.jupyter.widget-view+json": {
       "model_id": "bcaca5ced3334b3bbaa46ac23868f122",
       "version_major": 2,
       "version_minor": 0
      },
      "text/plain": [
       "  0%|          | 0/10000 [00:00<?, ?it/s]"
      ]
     },
     "metadata": {},
     "output_type": "display_data"
    },
    {
     "name": "stdout",
     "output_type": "stream",
     "text": [
      "\n",
      " Early Stopping / epoch: 588 loss: 0.008865\n",
      "----------------------------------------------------------------------------------------------------------\n",
      "lr: 1e-05  patience: 20  num_layers: 4  batch_size: 32  hidden_size: 8  dropout: 0.25 criterion: <function criterion2 at 0x000001C7862F77F0>\n"
     ]
    },
    {
     "data": {
      "application/vnd.jupyter.widget-view+json": {
       "model_id": "c4ce61973f364c928c9e552ba55974f6",
       "version_major": 2,
       "version_minor": 0
      },
      "text/plain": [
       "  0%|          | 0/10000 [00:00<?, ?it/s]"
      ]
     },
     "metadata": {},
     "output_type": "display_data"
    },
    {
     "name": "stdout",
     "output_type": "stream",
     "text": [
      "\n",
      " Early Stopping / epoch: 1232 loss: 0.025056\n",
      "----------------------------------------------------------------------------------------------------------\n",
      "lr: 1e-05  patience: 20  num_layers: 4  batch_size: 32  hidden_size: 8  dropout: 0.25 criterion: <function criterion3 at 0x000001C7862F7880>\n"
     ]
    },
    {
     "data": {
      "application/vnd.jupyter.widget-view+json": {
       "model_id": "81da51da73c145dca150b8b8ff4cb72c",
       "version_major": 2,
       "version_minor": 0
      },
      "text/plain": [
       "  0%|          | 0/10000 [00:00<?, ?it/s]"
      ]
     },
     "metadata": {},
     "output_type": "display_data"
    },
    {
     "name": "stdout",
     "output_type": "stream",
     "text": [
      "\n",
      " Early Stopping / epoch: 1251 loss: 0.005064\n",
      "----------------------------------------------------------------------------------------------------------\n",
      "lr: 1e-05  patience: 20  num_layers: 4  batch_size: 32  hidden_size: 8  dropout: 0.5 criterion: MSELoss()\n"
     ]
    },
    {
     "data": {
      "application/vnd.jupyter.widget-view+json": {
       "model_id": "287a08608d3d463da16574b794c7899b",
       "version_major": 2,
       "version_minor": 0
      },
      "text/plain": [
       "  0%|          | 0/10000 [00:00<?, ?it/s]"
      ]
     },
     "metadata": {},
     "output_type": "display_data"
    },
    {
     "name": "stdout",
     "output_type": "stream",
     "text": [
      "\n",
      " Early Stopping / epoch: 420 loss: 0.015201\n",
      "----------------------------------------------------------------------------------------------------------\n",
      "lr: 1e-05  patience: 20  num_layers: 4  batch_size: 32  hidden_size: 8  dropout: 0.5 criterion: <function criterion2 at 0x000001C7862F77F0>\n"
     ]
    },
    {
     "data": {
      "application/vnd.jupyter.widget-view+json": {
       "model_id": "3fd630a2f6be4ac48c562d48e44f1044",
       "version_major": 2,
       "version_minor": 0
      },
      "text/plain": [
       "  0%|          | 0/10000 [00:00<?, ?it/s]"
      ]
     },
     "metadata": {},
     "output_type": "display_data"
    },
    {
     "name": "stdout",
     "output_type": "stream",
     "text": [
      "\n",
      " Early Stopping / epoch: 781 loss: 0.033997\n",
      "----------------------------------------------------------------------------------------------------------\n",
      "lr: 1e-05  patience: 20  num_layers: 4  batch_size: 32  hidden_size: 8  dropout: 0.5 criterion: <function criterion3 at 0x000001C7862F7880>\n"
     ]
    },
    {
     "data": {
      "application/vnd.jupyter.widget-view+json": {
       "model_id": "c7d7dae4941948129fd61566450ae9e3",
       "version_major": 2,
       "version_minor": 0
      },
      "text/plain": [
       "  0%|          | 0/10000 [00:00<?, ?it/s]"
      ]
     },
     "metadata": {},
     "output_type": "display_data"
    },
    {
     "name": "stdout",
     "output_type": "stream",
     "text": [
      "\n",
      " Early Stopping / epoch: 1141 loss: 0.007041\n",
      "----------------------------------------------------------------------------------------------------------\n",
      "lr: 1e-05  patience: 20  num_layers: 4  batch_size: 32  hidden_size: 16  dropout: 0.25 criterion: MSELoss()\n"
     ]
    },
    {
     "data": {
      "application/vnd.jupyter.widget-view+json": {
       "model_id": "eec869c33eb9447f86b9f61ed298e9f8",
       "version_major": 2,
       "version_minor": 0
      },
      "text/plain": [
       "  0%|          | 0/10000 [00:00<?, ?it/s]"
      ]
     },
     "metadata": {},
     "output_type": "display_data"
    },
    {
     "name": "stdout",
     "output_type": "stream",
     "text": [
      "\n",
      " Early Stopping / epoch: 440 loss: 0.002795\n",
      "----------------------------------------------------------------------------------------------------------\n",
      "lr: 1e-05  patience: 20  num_layers: 4  batch_size: 32  hidden_size: 16  dropout: 0.25 criterion: <function criterion2 at 0x000001C7862F77F0>\n"
     ]
    },
    {
     "data": {
      "application/vnd.jupyter.widget-view+json": {
       "model_id": "a54045bdb15440fb9f8bdcb3790e11e8",
       "version_major": 2,
       "version_minor": 0
      },
      "text/plain": [
       "  0%|          | 0/10000 [00:00<?, ?it/s]"
      ]
     },
     "metadata": {},
     "output_type": "display_data"
    },
    {
     "name": "stdout",
     "output_type": "stream",
     "text": [
      "\n",
      " Early Stopping / epoch: 828 loss: 0.017932\n",
      "----------------------------------------------------------------------------------------------------------\n",
      "lr: 1e-05  patience: 20  num_layers: 4  batch_size: 32  hidden_size: 16  dropout: 0.25 criterion: <function criterion3 at 0x000001C7862F7880>\n"
     ]
    },
    {
     "data": {
      "application/vnd.jupyter.widget-view+json": {
       "model_id": "ef66030aec2e47449ad4c56c47beecb2",
       "version_major": 2,
       "version_minor": 0
      },
      "text/plain": [
       "  0%|          | 0/10000 [00:00<?, ?it/s]"
      ]
     },
     "metadata": {},
     "output_type": "display_data"
    },
    {
     "name": "stdout",
     "output_type": "stream",
     "text": [
      "\n",
      " Early Stopping / epoch: 757 loss: 0.004039\n",
      "----------------------------------------------------------------------------------------------------------\n",
      "lr: 1e-05  patience: 20  num_layers: 4  batch_size: 32  hidden_size: 16  dropout: 0.5 criterion: MSELoss()\n"
     ]
    },
    {
     "data": {
      "application/vnd.jupyter.widget-view+json": {
       "model_id": "6dca728e9e1d4043bd3e26ebd4b503c8",
       "version_major": 2,
       "version_minor": 0
      },
      "text/plain": [
       "  0%|          | 0/10000 [00:00<?, ?it/s]"
      ]
     },
     "metadata": {},
     "output_type": "display_data"
    },
    {
     "name": "stdout",
     "output_type": "stream",
     "text": [
      "\n",
      " Early Stopping / epoch: 686 loss: 0.003896\n",
      "----------------------------------------------------------------------------------------------------------\n",
      "lr: 1e-05  patience: 20  num_layers: 4  batch_size: 32  hidden_size: 16  dropout: 0.5 criterion: <function criterion2 at 0x000001C7862F77F0>\n"
     ]
    },
    {
     "data": {
      "application/vnd.jupyter.widget-view+json": {
       "model_id": "02ca5fcf08724263a7bcc392ccec98e7",
       "version_major": 2,
       "version_minor": 0
      },
      "text/plain": [
       "  0%|          | 0/10000 [00:00<?, ?it/s]"
      ]
     },
     "metadata": {},
     "output_type": "display_data"
    },
    {
     "name": "stdout",
     "output_type": "stream",
     "text": [
      "\n",
      " Early Stopping / epoch: 863 loss: 0.023127\n",
      "----------------------------------------------------------------------------------------------------------\n",
      "lr: 1e-05  patience: 20  num_layers: 4  batch_size: 32  hidden_size: 16  dropout: 0.5 criterion: <function criterion3 at 0x000001C7862F7880>\n"
     ]
    },
    {
     "data": {
      "application/vnd.jupyter.widget-view+json": {
       "model_id": "c7d26f4073e145afb942f90466e0c5a2",
       "version_major": 2,
       "version_minor": 0
      },
      "text/plain": [
       "  0%|          | 0/10000 [00:00<?, ?it/s]"
      ]
     },
     "metadata": {},
     "output_type": "display_data"
    },
    {
     "name": "stdout",
     "output_type": "stream",
     "text": [
      "\n",
      " Early Stopping / epoch: 498 loss: 0.005304\n",
      "----------------------------------------------------------------------------------------------------------\n",
      "lr: 1e-05  patience: 20  num_layers: 4  batch_size: 32  hidden_size: 32  dropout: 0.25 criterion: MSELoss()\n"
     ]
    },
    {
     "data": {
      "application/vnd.jupyter.widget-view+json": {
       "model_id": "cffc8293fcda4414a08b39a52f8bc271",
       "version_major": 2,
       "version_minor": 0
      },
      "text/plain": [
       "  0%|          | 0/10000 [00:00<?, ?it/s]"
      ]
     },
     "metadata": {},
     "output_type": "display_data"
    },
    {
     "name": "stdout",
     "output_type": "stream",
     "text": [
      "\n",
      " Early Stopping / epoch: 302 loss: 0.003804\n",
      "----------------------------------------------------------------------------------------------------------\n",
      "lr: 1e-05  patience: 20  num_layers: 4  batch_size: 32  hidden_size: 32  dropout: 0.25 criterion: <function criterion2 at 0x000001C7862F77F0>\n"
     ]
    },
    {
     "data": {
      "application/vnd.jupyter.widget-view+json": {
       "model_id": "46c64e59d1484811b5d02f99d593ed58",
       "version_major": 2,
       "version_minor": 0
      },
      "text/plain": [
       "  0%|          | 0/10000 [00:00<?, ?it/s]"
      ]
     },
     "metadata": {},
     "output_type": "display_data"
    },
    {
     "name": "stdout",
     "output_type": "stream",
     "text": [
      "\n",
      " Early Stopping / epoch: 530 loss: 0.021020\n",
      "----------------------------------------------------------------------------------------------------------\n",
      "lr: 1e-05  patience: 20  num_layers: 4  batch_size: 32  hidden_size: 32  dropout: 0.25 criterion: <function criterion3 at 0x000001C7862F7880>\n"
     ]
    },
    {
     "data": {
      "application/vnd.jupyter.widget-view+json": {
       "model_id": "07bf48b1ee9048898043e5887bcff709",
       "version_major": 2,
       "version_minor": 0
      },
      "text/plain": [
       "  0%|          | 0/10000 [00:00<?, ?it/s]"
      ]
     },
     "metadata": {},
     "output_type": "display_data"
    },
    {
     "name": "stdout",
     "output_type": "stream",
     "text": [
      "\n",
      " Early Stopping / epoch: 642 loss: 0.003855\n",
      "----------------------------------------------------------------------------------------------------------\n",
      "lr: 1e-05  patience: 20  num_layers: 4  batch_size: 32  hidden_size: 32  dropout: 0.5 criterion: MSELoss()\n"
     ]
    },
    {
     "data": {
      "application/vnd.jupyter.widget-view+json": {
       "model_id": "74c248e8b4e1428b9a24a89da3617710",
       "version_major": 2,
       "version_minor": 0
      },
      "text/plain": [
       "  0%|          | 0/10000 [00:00<?, ?it/s]"
      ]
     },
     "metadata": {},
     "output_type": "display_data"
    },
    {
     "name": "stdout",
     "output_type": "stream",
     "text": [
      "\n",
      " Early Stopping / epoch: 328 loss: 0.003454\n",
      "----------------------------------------------------------------------------------------------------------\n",
      "lr: 1e-05  patience: 20  num_layers: 4  batch_size: 32  hidden_size: 32  dropout: 0.5 criterion: <function criterion2 at 0x000001C7862F77F0>\n"
     ]
    },
    {
     "data": {
      "application/vnd.jupyter.widget-view+json": {
       "model_id": "300861e50764484b89d60a26169e6fd9",
       "version_major": 2,
       "version_minor": 0
      },
      "text/plain": [
       "  0%|          | 0/10000 [00:00<?, ?it/s]"
      ]
     },
     "metadata": {},
     "output_type": "display_data"
    },
    {
     "name": "stdout",
     "output_type": "stream",
     "text": [
      "\n",
      " Early Stopping / epoch: 605 loss: 0.018735\n",
      "----------------------------------------------------------------------------------------------------------\n",
      "lr: 1e-05  patience: 20  num_layers: 4  batch_size: 32  hidden_size: 32  dropout: 0.5 criterion: <function criterion3 at 0x000001C7862F7880>\n"
     ]
    },
    {
     "data": {
      "application/vnd.jupyter.widget-view+json": {
       "model_id": "988fac0d704a48da94ececcd8138f4ec",
       "version_major": 2,
       "version_minor": 0
      },
      "text/plain": [
       "  0%|          | 0/10000 [00:00<?, ?it/s]"
      ]
     },
     "metadata": {},
     "output_type": "display_data"
    },
    {
     "name": "stdout",
     "output_type": "stream",
     "text": [
      "\n",
      " Early Stopping / epoch: 692 loss: 0.003987\n",
      "----------------------------------------------------------------------------------------------------------\n",
      "lr: 1e-05  patience: 20  num_layers: 4  batch_size: 64  hidden_size: 8  dropout: 0.25 criterion: MSELoss()\n"
     ]
    },
    {
     "data": {
      "application/vnd.jupyter.widget-view+json": {
       "model_id": "1e8f2ff0980444f9bf5ed8208182b758",
       "version_major": 2,
       "version_minor": 0
      },
      "text/plain": [
       "  0%|          | 0/10000 [00:00<?, ?it/s]"
      ]
     },
     "metadata": {},
     "output_type": "display_data"
    },
    {
     "name": "stdout",
     "output_type": "stream",
     "text": [
      "\n",
      " Early Stopping / epoch: 360 loss: 0.025259\n",
      "----------------------------------------------------------------------------------------------------------\n",
      "lr: 1e-05  patience: 20  num_layers: 4  batch_size: 64  hidden_size: 8  dropout: 0.25 criterion: <function criterion2 at 0x000001C7862F77F0>\n"
     ]
    },
    {
     "data": {
      "application/vnd.jupyter.widget-view+json": {
       "model_id": "a7992343f98d4846a1f62b2cee8604ea",
       "version_major": 2,
       "version_minor": 0
      },
      "text/plain": [
       "  0%|          | 0/10000 [00:00<?, ?it/s]"
      ]
     },
     "metadata": {},
     "output_type": "display_data"
    },
    {
     "name": "stdout",
     "output_type": "stream",
     "text": [
      "\n",
      " Early Stopping / epoch: 154 loss: 0.077693\n",
      "----------------------------------------------------------------------------------------------------------\n",
      "lr: 1e-05  patience: 20  num_layers: 4  batch_size: 64  hidden_size: 8  dropout: 0.25 criterion: <function criterion3 at 0x000001C7862F7880>\n"
     ]
    },
    {
     "data": {
      "application/vnd.jupyter.widget-view+json": {
       "model_id": "ae94a98f165946d3a0f947ade233aec0",
       "version_major": 2,
       "version_minor": 0
      },
      "text/plain": [
       "  0%|          | 0/10000 [00:00<?, ?it/s]"
      ]
     },
     "metadata": {},
     "output_type": "display_data"
    },
    {
     "name": "stdout",
     "output_type": "stream",
     "text": [
      "\n",
      " Early Stopping / epoch: 1052 loss: 0.005785\n",
      "----------------------------------------------------------------------------------------------------------\n",
      "lr: 1e-05  patience: 20  num_layers: 4  batch_size: 64  hidden_size: 8  dropout: 0.5 criterion: MSELoss()\n"
     ]
    },
    {
     "data": {
      "application/vnd.jupyter.widget-view+json": {
       "model_id": "3d5ea9e0b89540d98d57267a337eafa2",
       "version_major": 2,
       "version_minor": 0
      },
      "text/plain": [
       "  0%|          | 0/10000 [00:00<?, ?it/s]"
      ]
     },
     "metadata": {},
     "output_type": "display_data"
    },
    {
     "name": "stdout",
     "output_type": "stream",
     "text": [
      "\n",
      " Early Stopping / epoch: 354 loss: 0.014920\n",
      "----------------------------------------------------------------------------------------------------------\n",
      "lr: 1e-05  patience: 20  num_layers: 4  batch_size: 64  hidden_size: 8  dropout: 0.5 criterion: <function criterion2 at 0x000001C7862F77F0>\n"
     ]
    },
    {
     "data": {
      "application/vnd.jupyter.widget-view+json": {
       "model_id": "00bf52529f6d4d4fb6cfdc7beac8a235",
       "version_major": 2,
       "version_minor": 0
      },
      "text/plain": [
       "  0%|          | 0/10000 [00:00<?, ?it/s]"
      ]
     },
     "metadata": {},
     "output_type": "display_data"
    },
    {
     "name": "stdout",
     "output_type": "stream",
     "text": [
      "\n",
      " Early Stopping / epoch: 1362 loss: 0.030574\n",
      "----------------------------------------------------------------------------------------------------------\n",
      "lr: 1e-05  patience: 20  num_layers: 4  batch_size: 64  hidden_size: 8  dropout: 0.5 criterion: <function criterion3 at 0x000001C7862F7880>\n"
     ]
    },
    {
     "data": {
      "application/vnd.jupyter.widget-view+json": {
       "model_id": "da301db7e9e149a7abffcfe4a258ac6b",
       "version_major": 2,
       "version_minor": 0
      },
      "text/plain": [
       "  0%|          | 0/10000 [00:00<?, ?it/s]"
      ]
     },
     "metadata": {},
     "output_type": "display_data"
    },
    {
     "name": "stdout",
     "output_type": "stream",
     "text": [
      "\n",
      " Early Stopping / epoch: 1018 loss: 0.006619\n",
      "----------------------------------------------------------------------------------------------------------\n",
      "lr: 1e-05  patience: 20  num_layers: 4  batch_size: 64  hidden_size: 16  dropout: 0.25 criterion: MSELoss()\n"
     ]
    },
    {
     "data": {
      "application/vnd.jupyter.widget-view+json": {
       "model_id": "abe2bdc6bc064dcc898c44d4f19eb641",
       "version_major": 2,
       "version_minor": 0
      },
      "text/plain": [
       "  0%|          | 0/10000 [00:00<?, ?it/s]"
      ]
     },
     "metadata": {},
     "output_type": "display_data"
    },
    {
     "name": "stdout",
     "output_type": "stream",
     "text": [
      "\n",
      " Early Stopping / epoch: 180 loss: 0.016494\n",
      "----------------------------------------------------------------------------------------------------------\n",
      "lr: 1e-05  patience: 20  num_layers: 4  batch_size: 64  hidden_size: 16  dropout: 0.25 criterion: <function criterion2 at 0x000001C7862F77F0>\n"
     ]
    },
    {
     "data": {
      "application/vnd.jupyter.widget-view+json": {
       "model_id": "ac7703e694b04f999c8d951cf68af725",
       "version_major": 2,
       "version_minor": 0
      },
      "text/plain": [
       "  0%|          | 0/10000 [00:00<?, ?it/s]"
      ]
     },
     "metadata": {},
     "output_type": "display_data"
    },
    {
     "name": "stdout",
     "output_type": "stream",
     "text": [
      "\n",
      " Early Stopping / epoch: 1094 loss: 0.022451\n",
      "----------------------------------------------------------------------------------------------------------\n",
      "lr: 1e-05  patience: 20  num_layers: 4  batch_size: 64  hidden_size: 16  dropout: 0.25 criterion: <function criterion3 at 0x000001C7862F7880>\n"
     ]
    },
    {
     "data": {
      "application/vnd.jupyter.widget-view+json": {
       "model_id": "5dbb3c7e30624cbd807117f76012d6a7",
       "version_major": 2,
       "version_minor": 0
      },
      "text/plain": [
       "  0%|          | 0/10000 [00:00<?, ?it/s]"
      ]
     },
     "metadata": {},
     "output_type": "display_data"
    },
    {
     "name": "stdout",
     "output_type": "stream",
     "text": [
      "\n",
      " Early Stopping / epoch: 564 loss: 0.005595\n",
      "----------------------------------------------------------------------------------------------------------\n",
      "lr: 1e-05  patience: 20  num_layers: 4  batch_size: 64  hidden_size: 16  dropout: 0.5 criterion: MSELoss()\n"
     ]
    },
    {
     "data": {
      "application/vnd.jupyter.widget-view+json": {
       "model_id": "ea30f5fdcacb48cd9d387ec42c210941",
       "version_major": 2,
       "version_minor": 0
      },
      "text/plain": [
       "  0%|          | 0/10000 [00:00<?, ?it/s]"
      ]
     },
     "metadata": {},
     "output_type": "display_data"
    },
    {
     "name": "stdout",
     "output_type": "stream",
     "text": [
      "\n",
      " Early Stopping / epoch: 455 loss: 0.009516\n",
      "----------------------------------------------------------------------------------------------------------\n",
      "lr: 1e-05  patience: 20  num_layers: 4  batch_size: 64  hidden_size: 16  dropout: 0.5 criterion: <function criterion2 at 0x000001C7862F77F0>\n"
     ]
    },
    {
     "data": {
      "application/vnd.jupyter.widget-view+json": {
       "model_id": "3c55221ac2ed4208994196e74b766c17",
       "version_major": 2,
       "version_minor": 0
      },
      "text/plain": [
       "  0%|          | 0/10000 [00:00<?, ?it/s]"
      ]
     },
     "metadata": {},
     "output_type": "display_data"
    },
    {
     "name": "stdout",
     "output_type": "stream",
     "text": [
      "\n",
      " Early Stopping / epoch: 1328 loss: 0.031059\n",
      "----------------------------------------------------------------------------------------------------------\n",
      "lr: 1e-05  patience: 20  num_layers: 4  batch_size: 64  hidden_size: 16  dropout: 0.5 criterion: <function criterion3 at 0x000001C7862F7880>\n"
     ]
    },
    {
     "data": {
      "application/vnd.jupyter.widget-view+json": {
       "model_id": "9341f557157f47dc930ab18aa783122b",
       "version_major": 2,
       "version_minor": 0
      },
      "text/plain": [
       "  0%|          | 0/10000 [00:00<?, ?it/s]"
      ]
     },
     "metadata": {},
     "output_type": "display_data"
    },
    {
     "name": "stdout",
     "output_type": "stream",
     "text": [
      "\n",
      " Early Stopping / epoch: 639 loss: 0.006572\n",
      "----------------------------------------------------------------------------------------------------------\n",
      "lr: 1e-05  patience: 20  num_layers: 4  batch_size: 64  hidden_size: 32  dropout: 0.25 criterion: MSELoss()\n"
     ]
    },
    {
     "data": {
      "application/vnd.jupyter.widget-view+json": {
       "model_id": "836d40b2112649f9b8e45c4104ad9c3e",
       "version_major": 2,
       "version_minor": 0
      },
      "text/plain": [
       "  0%|          | 0/10000 [00:00<?, ?it/s]"
      ]
     },
     "metadata": {},
     "output_type": "display_data"
    },
    {
     "name": "stdout",
     "output_type": "stream",
     "text": [
      "\n",
      " Early Stopping / epoch: 480 loss: 0.002694\n",
      "----------------------------------------------------------------------------------------------------------\n",
      "lr: 1e-05  patience: 20  num_layers: 4  batch_size: 64  hidden_size: 32  dropout: 0.25 criterion: <function criterion2 at 0x000001C7862F77F0>\n"
     ]
    },
    {
     "data": {
      "application/vnd.jupyter.widget-view+json": {
       "model_id": "f183947347ff4d12bdeafdfd11131258",
       "version_major": 2,
       "version_minor": 0
      },
      "text/plain": [
       "  0%|          | 0/10000 [00:00<?, ?it/s]"
      ]
     },
     "metadata": {},
     "output_type": "display_data"
    },
    {
     "name": "stdout",
     "output_type": "stream",
     "text": [
      "\n",
      " Early Stopping / epoch: 723 loss: 0.021194\n",
      "----------------------------------------------------------------------------------------------------------\n",
      "lr: 1e-05  patience: 20  num_layers: 4  batch_size: 64  hidden_size: 32  dropout: 0.25 criterion: <function criterion3 at 0x000001C7862F7880>\n"
     ]
    },
    {
     "data": {
      "application/vnd.jupyter.widget-view+json": {
       "model_id": "ec5d8b41ed524dbd9f13587fad90570f",
       "version_major": 2,
       "version_minor": 0
      },
      "text/plain": [
       "  0%|          | 0/10000 [00:00<?, ?it/s]"
      ]
     },
     "metadata": {},
     "output_type": "display_data"
    },
    {
     "name": "stdout",
     "output_type": "stream",
     "text": [
      "\n",
      " Early Stopping / epoch: 460 loss: 0.003621\n",
      "----------------------------------------------------------------------------------------------------------\n",
      "lr: 1e-05  patience: 20  num_layers: 4  batch_size: 64  hidden_size: 32  dropout: 0.5 criterion: MSELoss()\n"
     ]
    },
    {
     "data": {
      "application/vnd.jupyter.widget-view+json": {
       "model_id": "56b46adc57de4cf4b42b4534642a0be5",
       "version_major": 2,
       "version_minor": 0
      },
      "text/plain": [
       "  0%|          | 0/10000 [00:00<?, ?it/s]"
      ]
     },
     "metadata": {},
     "output_type": "display_data"
    },
    {
     "name": "stdout",
     "output_type": "stream",
     "text": [
      "\n",
      " Early Stopping / epoch: 563 loss: 0.005390\n",
      "----------------------------------------------------------------------------------------------------------\n",
      "lr: 1e-05  patience: 20  num_layers: 4  batch_size: 64  hidden_size: 32  dropout: 0.5 criterion: <function criterion2 at 0x000001C7862F77F0>\n"
     ]
    },
    {
     "data": {
      "application/vnd.jupyter.widget-view+json": {
       "model_id": "bc755b1e65ab4888815ac2a3dbc31c14",
       "version_major": 2,
       "version_minor": 0
      },
      "text/plain": [
       "  0%|          | 0/10000 [00:00<?, ?it/s]"
      ]
     },
     "metadata": {},
     "output_type": "display_data"
    },
    {
     "name": "stdout",
     "output_type": "stream",
     "text": [
      "\n",
      " Early Stopping / epoch: 557 loss: 0.021134\n",
      "----------------------------------------------------------------------------------------------------------\n",
      "lr: 1e-05  patience: 20  num_layers: 4  batch_size: 64  hidden_size: 32  dropout: 0.5 criterion: <function criterion3 at 0x000001C7862F7880>\n"
     ]
    },
    {
     "data": {
      "application/vnd.jupyter.widget-view+json": {
       "model_id": "b788ba1edbdc4a3bb0b81577bf5eda45",
       "version_major": 2,
       "version_minor": 0
      },
      "text/plain": [
       "  0%|          | 0/10000 [00:00<?, ?it/s]"
      ]
     },
     "metadata": {},
     "output_type": "display_data"
    },
    {
     "name": "stdout",
     "output_type": "stream",
     "text": [
      "\n",
      " Early Stopping / epoch: 875 loss: 0.002917\n",
      "----------------------------------------------------------------------------------------------------------\n",
      "lr: 1e-05  patience: 20  num_layers: 4  batch_size: 128  hidden_size: 8  dropout: 0.25 criterion: MSELoss()\n"
     ]
    },
    {
     "data": {
      "application/vnd.jupyter.widget-view+json": {
       "model_id": "d836f716b538473ca2e5fb8582977e35",
       "version_major": 2,
       "version_minor": 0
      },
      "text/plain": [
       "  0%|          | 0/10000 [00:00<?, ?it/s]"
      ]
     },
     "metadata": {},
     "output_type": "display_data"
    },
    {
     "name": "stdout",
     "output_type": "stream",
     "text": [
      "\n",
      " Early Stopping / epoch: 265 loss: 0.018412\n",
      "----------------------------------------------------------------------------------------------------------\n",
      "lr: 1e-05  patience: 20  num_layers: 4  batch_size: 128  hidden_size: 8  dropout: 0.25 criterion: <function criterion2 at 0x000001C7862F77F0>\n"
     ]
    },
    {
     "data": {
      "application/vnd.jupyter.widget-view+json": {
       "model_id": "de552ebeb2024cb6924b16bdc075a0d0",
       "version_major": 2,
       "version_minor": 0
      },
      "text/plain": [
       "  0%|          | 0/10000 [00:00<?, ?it/s]"
      ]
     },
     "metadata": {},
     "output_type": "display_data"
    },
    {
     "name": "stdout",
     "output_type": "stream",
     "text": [
      "\n",
      " Early Stopping / epoch: 313 loss: 0.087738\n",
      "----------------------------------------------------------------------------------------------------------\n",
      "lr: 1e-05  patience: 20  num_layers: 4  batch_size: 128  hidden_size: 8  dropout: 0.25 criterion: <function criterion3 at 0x000001C7862F7880>\n"
     ]
    },
    {
     "data": {
      "application/vnd.jupyter.widget-view+json": {
       "model_id": "dcfbabfbd86c45faadbd8e7b17f47788",
       "version_major": 2,
       "version_minor": 0
      },
      "text/plain": [
       "  0%|          | 0/10000 [00:00<?, ?it/s]"
      ]
     },
     "metadata": {},
     "output_type": "display_data"
    },
    {
     "name": "stdout",
     "output_type": "stream",
     "text": [
      "\n",
      " Early Stopping / epoch: 276 loss: 0.010093\n",
      "----------------------------------------------------------------------------------------------------------\n",
      "lr: 1e-05  patience: 20  num_layers: 4  batch_size: 128  hidden_size: 8  dropout: 0.5 criterion: MSELoss()\n"
     ]
    },
    {
     "data": {
      "application/vnd.jupyter.widget-view+json": {
       "model_id": "73bbcde3663043a0ab1d815276001963",
       "version_major": 2,
       "version_minor": 0
      },
      "text/plain": [
       "  0%|          | 0/10000 [00:00<?, ?it/s]"
      ]
     },
     "metadata": {},
     "output_type": "display_data"
    },
    {
     "name": "stdout",
     "output_type": "stream",
     "text": [
      "\n",
      " Early Stopping / epoch: 409 loss: 0.026975\n",
      "----------------------------------------------------------------------------------------------------------\n",
      "lr: 1e-05  patience: 20  num_layers: 4  batch_size: 128  hidden_size: 8  dropout: 0.5 criterion: <function criterion2 at 0x000001C7862F77F0>\n"
     ]
    },
    {
     "data": {
      "application/vnd.jupyter.widget-view+json": {
       "model_id": "b6fb7cedf6694b63b9fa7f0e341a17d1",
       "version_major": 2,
       "version_minor": 0
      },
      "text/plain": [
       "  0%|          | 0/10000 [00:00<?, ?it/s]"
      ]
     },
     "metadata": {},
     "output_type": "display_data"
    },
    {
     "name": "stdout",
     "output_type": "stream",
     "text": [
      "\n",
      " Early Stopping / epoch: 263 loss: 0.075068\n",
      "----------------------------------------------------------------------------------------------------------\n",
      "lr: 1e-05  patience: 20  num_layers: 4  batch_size: 128  hidden_size: 8  dropout: 0.5 criterion: <function criterion3 at 0x000001C7862F7880>\n"
     ]
    },
    {
     "data": {
      "application/vnd.jupyter.widget-view+json": {
       "model_id": "8941f7ea1b6148ad8e4b5d0fc816b9ad",
       "version_major": 2,
       "version_minor": 0
      },
      "text/plain": [
       "  0%|          | 0/10000 [00:00<?, ?it/s]"
      ]
     },
     "metadata": {},
     "output_type": "display_data"
    },
    {
     "name": "stdout",
     "output_type": "stream",
     "text": [
      "\n",
      " Early Stopping / epoch: 410 loss: 0.011527\n",
      "----------------------------------------------------------------------------------------------------------\n",
      "lr: 1e-05  patience: 20  num_layers: 4  batch_size: 128  hidden_size: 16  dropout: 0.25 criterion: MSELoss()\n"
     ]
    },
    {
     "data": {
      "application/vnd.jupyter.widget-view+json": {
       "model_id": "26303fb7a4134cab92c2b81a47105114",
       "version_major": 2,
       "version_minor": 0
      },
      "text/plain": [
       "  0%|          | 0/10000 [00:00<?, ?it/s]"
      ]
     },
     "metadata": {},
     "output_type": "display_data"
    },
    {
     "name": "stdout",
     "output_type": "stream",
     "text": [
      "\n",
      " Early Stopping / epoch: 428 loss: 0.014982\n",
      "----------------------------------------------------------------------------------------------------------\n",
      "lr: 1e-05  patience: 20  num_layers: 4  batch_size: 128  hidden_size: 16  dropout: 0.25 criterion: <function criterion2 at 0x000001C7862F77F0>\n"
     ]
    },
    {
     "data": {
      "application/vnd.jupyter.widget-view+json": {
       "model_id": "521f8cbd82514d8aabe818cbcfbbd0c9",
       "version_major": 2,
       "version_minor": 0
      },
      "text/plain": [
       "  0%|          | 0/10000 [00:00<?, ?it/s]"
      ]
     },
     "metadata": {},
     "output_type": "display_data"
    },
    {
     "name": "stdout",
     "output_type": "stream",
     "text": [
      "\n",
      " Early Stopping / epoch: 378 loss: 0.060698\n",
      "----------------------------------------------------------------------------------------------------------\n",
      "lr: 1e-05  patience: 20  num_layers: 4  batch_size: 128  hidden_size: 16  dropout: 0.25 criterion: <function criterion3 at 0x000001C7862F7880>\n"
     ]
    },
    {
     "data": {
      "application/vnd.jupyter.widget-view+json": {
       "model_id": "cd7910783b7045f7a911988d256cdd5d",
       "version_major": 2,
       "version_minor": 0
      },
      "text/plain": [
       "  0%|          | 0/10000 [00:00<?, ?it/s]"
      ]
     },
     "metadata": {},
     "output_type": "display_data"
    },
    {
     "name": "stdout",
     "output_type": "stream",
     "text": [
      "\n",
      " Early Stopping / epoch: 269 loss: 0.006673\n",
      "----------------------------------------------------------------------------------------------------------\n",
      "lr: 1e-05  patience: 20  num_layers: 4  batch_size: 128  hidden_size: 16  dropout: 0.5 criterion: MSELoss()\n"
     ]
    },
    {
     "data": {
      "application/vnd.jupyter.widget-view+json": {
       "model_id": "88ede62f9f084f31b8b50362fe5829e6",
       "version_major": 2,
       "version_minor": 0
      },
      "text/plain": [
       "  0%|          | 0/10000 [00:00<?, ?it/s]"
      ]
     },
     "metadata": {},
     "output_type": "display_data"
    },
    {
     "name": "stdout",
     "output_type": "stream",
     "text": [
      "\n",
      " Early Stopping / epoch: 282 loss: 0.033890\n",
      "----------------------------------------------------------------------------------------------------------\n",
      "lr: 1e-05  patience: 20  num_layers: 4  batch_size: 128  hidden_size: 16  dropout: 0.5 criterion: <function criterion2 at 0x000001C7862F77F0>\n"
     ]
    },
    {
     "data": {
      "application/vnd.jupyter.widget-view+json": {
       "model_id": "eedfedfdd9a846fab422486114bb6340",
       "version_major": 2,
       "version_minor": 0
      },
      "text/plain": [
       "  0%|          | 0/10000 [00:00<?, ?it/s]"
      ]
     },
     "metadata": {},
     "output_type": "display_data"
    },
    {
     "name": "stdout",
     "output_type": "stream",
     "text": [
      "\n",
      " Early Stopping / epoch: 1108 loss: 0.042232\n",
      "----------------------------------------------------------------------------------------------------------\n",
      "lr: 1e-05  patience: 20  num_layers: 4  batch_size: 128  hidden_size: 16  dropout: 0.5 criterion: <function criterion3 at 0x000001C7862F7880>\n"
     ]
    },
    {
     "data": {
      "application/vnd.jupyter.widget-view+json": {
       "model_id": "7a9e678194cf402582c0f2cdf7b8fcb6",
       "version_major": 2,
       "version_minor": 0
      },
      "text/plain": [
       "  0%|          | 0/10000 [00:00<?, ?it/s]"
      ]
     },
     "metadata": {},
     "output_type": "display_data"
    },
    {
     "name": "stdout",
     "output_type": "stream",
     "text": [
      "\n",
      " Early Stopping / epoch: 677 loss: 0.006413\n",
      "----------------------------------------------------------------------------------------------------------\n",
      "lr: 1e-05  patience: 20  num_layers: 4  batch_size: 128  hidden_size: 32  dropout: 0.25 criterion: MSELoss()\n"
     ]
    },
    {
     "data": {
      "application/vnd.jupyter.widget-view+json": {
       "model_id": "f86cf497ee4045df9e0e65022dacd952",
       "version_major": 2,
       "version_minor": 0
      },
      "text/plain": [
       "  0%|          | 0/10000 [00:00<?, ?it/s]"
      ]
     },
     "metadata": {},
     "output_type": "display_data"
    },
    {
     "name": "stdout",
     "output_type": "stream",
     "text": [
      "\n",
      " Early Stopping / epoch: 425 loss: 0.004480\n",
      "----------------------------------------------------------------------------------------------------------\n",
      "lr: 1e-05  patience: 20  num_layers: 4  batch_size: 128  hidden_size: 32  dropout: 0.25 criterion: <function criterion2 at 0x000001C7862F77F0>\n"
     ]
    },
    {
     "data": {
      "application/vnd.jupyter.widget-view+json": {
       "model_id": "52bdd93a76af498995e7d24880ec85d1",
       "version_major": 2,
       "version_minor": 0
      },
      "text/plain": [
       "  0%|          | 0/10000 [00:00<?, ?it/s]"
      ]
     },
     "metadata": {},
     "output_type": "display_data"
    },
    {
     "name": "stdout",
     "output_type": "stream",
     "text": [
      "\n",
      " Early Stopping / epoch: 609 loss: 0.029398\n",
      "----------------------------------------------------------------------------------------------------------\n",
      "lr: 1e-05  patience: 20  num_layers: 4  batch_size: 128  hidden_size: 32  dropout: 0.25 criterion: <function criterion3 at 0x000001C7862F7880>\n"
     ]
    },
    {
     "data": {
      "application/vnd.jupyter.widget-view+json": {
       "model_id": "f81a60c88603428781b2c7116594b05f",
       "version_major": 2,
       "version_minor": 0
      },
      "text/plain": [
       "  0%|          | 0/10000 [00:00<?, ?it/s]"
      ]
     },
     "metadata": {},
     "output_type": "display_data"
    },
    {
     "name": "stdout",
     "output_type": "stream",
     "text": [
      "\n",
      " Early Stopping / epoch: 488 loss: 0.004427\n",
      "----------------------------------------------------------------------------------------------------------\n",
      "lr: 1e-05  patience: 20  num_layers: 4  batch_size: 128  hidden_size: 32  dropout: 0.5 criterion: MSELoss()\n"
     ]
    },
    {
     "data": {
      "application/vnd.jupyter.widget-view+json": {
       "model_id": "441b0cfb19cc476e86e3be11a40d4e1f",
       "version_major": 2,
       "version_minor": 0
      },
      "text/plain": [
       "  0%|          | 0/10000 [00:00<?, ?it/s]"
      ]
     },
     "metadata": {},
     "output_type": "display_data"
    },
    {
     "name": "stdout",
     "output_type": "stream",
     "text": [
      "\n",
      " Early Stopping / epoch: 360 loss: 0.009462\n",
      "----------------------------------------------------------------------------------------------------------\n",
      "lr: 1e-05  patience: 20  num_layers: 4  batch_size: 128  hidden_size: 32  dropout: 0.5 criterion: <function criterion2 at 0x000001C7862F77F0>\n"
     ]
    },
    {
     "data": {
      "application/vnd.jupyter.widget-view+json": {
       "model_id": "6fc9f460f9c74a25bdabf076cc3f1df0",
       "version_major": 2,
       "version_minor": 0
      },
      "text/plain": [
       "  0%|          | 0/10000 [00:00<?, ?it/s]"
      ]
     },
     "metadata": {},
     "output_type": "display_data"
    },
    {
     "name": "stdout",
     "output_type": "stream",
     "text": [
      "\n",
      " Early Stopping / epoch: 903 loss: 0.029199\n",
      "----------------------------------------------------------------------------------------------------------\n",
      "lr: 1e-05  patience: 20  num_layers: 4  batch_size: 128  hidden_size: 32  dropout: 0.5 criterion: <function criterion3 at 0x000001C7862F7880>\n"
     ]
    },
    {
     "data": {
      "application/vnd.jupyter.widget-view+json": {
       "model_id": "9f6c2e555d8b442db315b574fc81eaf4",
       "version_major": 2,
       "version_minor": 0
      },
      "text/plain": [
       "  0%|          | 0/10000 [00:00<?, ?it/s]"
      ]
     },
     "metadata": {},
     "output_type": "display_data"
    },
    {
     "name": "stdout",
     "output_type": "stream",
     "text": [
      "\n",
      " Early Stopping / epoch: 359 loss: 0.006209\n",
      "----------------------------------------------------------------------------------------------------------\n",
      "lr: 1e-05  patience: 50  num_layers: 2  batch_size: 32  hidden_size: 8  dropout: 0.25 criterion: MSELoss()\n"
     ]
    },
    {
     "data": {
      "application/vnd.jupyter.widget-view+json": {
       "model_id": "eefb48d0eb6042438cc49247d39a3e80",
       "version_major": 2,
       "version_minor": 0
      },
      "text/plain": [
       "  0%|          | 0/10000 [00:00<?, ?it/s]"
      ]
     },
     "metadata": {},
     "output_type": "display_data"
    },
    {
     "name": "stdout",
     "output_type": "stream",
     "text": [
      "\n",
      " Early Stopping / epoch: 1299 loss: 0.003488\n",
      "----------------------------------------------------------------------------------------------------------\n",
      "lr: 1e-05  patience: 50  num_layers: 2  batch_size: 32  hidden_size: 8  dropout: 0.25 criterion: <function criterion2 at 0x000001C7862F77F0>\n"
     ]
    },
    {
     "data": {
      "application/vnd.jupyter.widget-view+json": {
       "model_id": "4b81aa27a6db43f7b66972f546773580",
       "version_major": 2,
       "version_minor": 0
      },
      "text/plain": [
       "  0%|          | 0/10000 [00:00<?, ?it/s]"
      ]
     },
     "metadata": {},
     "output_type": "display_data"
    },
    {
     "name": "stdout",
     "output_type": "stream",
     "text": [
      "\n",
      " Early Stopping / epoch: 1529 loss: 0.021238\n",
      "----------------------------------------------------------------------------------------------------------\n",
      "lr: 1e-05  patience: 50  num_layers: 2  batch_size: 32  hidden_size: 8  dropout: 0.25 criterion: <function criterion3 at 0x000001C7862F7880>\n"
     ]
    },
    {
     "data": {
      "application/vnd.jupyter.widget-view+json": {
       "model_id": "3ce1b79eaf9d4d778d30748dba043c50",
       "version_major": 2,
       "version_minor": 0
      },
      "text/plain": [
       "  0%|          | 0/10000 [00:00<?, ?it/s]"
      ]
     },
     "metadata": {},
     "output_type": "display_data"
    },
    {
     "name": "stdout",
     "output_type": "stream",
     "text": [
      "\n",
      " Early Stopping / epoch: 974 loss: 0.004382\n",
      "----------------------------------------------------------------------------------------------------------\n",
      "lr: 1e-05  patience: 50  num_layers: 2  batch_size: 32  hidden_size: 8  dropout: 0.5 criterion: MSELoss()\n"
     ]
    },
    {
     "data": {
      "application/vnd.jupyter.widget-view+json": {
       "model_id": "87bdb9f25e054499b702027706c1279b",
       "version_major": 2,
       "version_minor": 0
      },
      "text/plain": [
       "  0%|          | 0/10000 [00:00<?, ?it/s]"
      ]
     },
     "metadata": {},
     "output_type": "display_data"
    },
    {
     "name": "stdout",
     "output_type": "stream",
     "text": [
      "\n",
      " Early Stopping / epoch: 1164 loss: 0.003577\n",
      "----------------------------------------------------------------------------------------------------------\n",
      "lr: 1e-05  patience: 50  num_layers: 2  batch_size: 32  hidden_size: 8  dropout: 0.5 criterion: <function criterion2 at 0x000001C7862F77F0>\n"
     ]
    },
    {
     "data": {
      "application/vnd.jupyter.widget-view+json": {
       "model_id": "96dab835466d403d8a23c2f43d925da0",
       "version_major": 2,
       "version_minor": 0
      },
      "text/plain": [
       "  0%|          | 0/10000 [00:00<?, ?it/s]"
      ]
     },
     "metadata": {},
     "output_type": "display_data"
    },
    {
     "name": "stdout",
     "output_type": "stream",
     "text": [
      "\n",
      " Early Stopping / epoch: 1560 loss: 0.024124\n",
      "----------------------------------------------------------------------------------------------------------\n",
      "lr: 1e-05  patience: 50  num_layers: 2  batch_size: 32  hidden_size: 8  dropout: 0.5 criterion: <function criterion3 at 0x000001C7862F7880>\n"
     ]
    },
    {
     "data": {
      "application/vnd.jupyter.widget-view+json": {
       "model_id": "8c5ea1ae7d5344889279af5d0578f625",
       "version_major": 2,
       "version_minor": 0
      },
      "text/plain": [
       "  0%|          | 0/10000 [00:00<?, ?it/s]"
      ]
     },
     "metadata": {},
     "output_type": "display_data"
    },
    {
     "name": "stdout",
     "output_type": "stream",
     "text": [
      "\n",
      " Early Stopping / epoch: 863 loss: 0.005504\n",
      "----------------------------------------------------------------------------------------------------------\n",
      "lr: 1e-05  patience: 50  num_layers: 2  batch_size: 32  hidden_size: 16  dropout: 0.25 criterion: MSELoss()\n"
     ]
    },
    {
     "data": {
      "application/vnd.jupyter.widget-view+json": {
       "model_id": "1a69925e102c4fd890c257a046c153d5",
       "version_major": 2,
       "version_minor": 0
      },
      "text/plain": [
       "  0%|          | 0/10000 [00:00<?, ?it/s]"
      ]
     },
     "metadata": {},
     "output_type": "display_data"
    },
    {
     "name": "stdout",
     "output_type": "stream",
     "text": [
      "\n",
      " Early Stopping / epoch: 1117 loss: 0.001898\n",
      "----------------------------------------------------------------------------------------------------------\n",
      "lr: 1e-05  patience: 50  num_layers: 2  batch_size: 32  hidden_size: 16  dropout: 0.25 criterion: <function criterion2 at 0x000001C7862F77F0>\n"
     ]
    },
    {
     "data": {
      "application/vnd.jupyter.widget-view+json": {
       "model_id": "3a39de362ad841b68367ba07cbe63677",
       "version_major": 2,
       "version_minor": 0
      },
      "text/plain": [
       "  0%|          | 0/10000 [00:00<?, ?it/s]"
      ]
     },
     "metadata": {},
     "output_type": "display_data"
    },
    {
     "name": "stdout",
     "output_type": "stream",
     "text": [
      "\n",
      " Early Stopping / epoch: 1387 loss: 0.013848\n",
      "----------------------------------------------------------------------------------------------------------\n",
      "lr: 1e-05  patience: 50  num_layers: 2  batch_size: 32  hidden_size: 16  dropout: 0.25 criterion: <function criterion3 at 0x000001C7862F7880>\n"
     ]
    },
    {
     "data": {
      "application/vnd.jupyter.widget-view+json": {
       "model_id": "0a2492caccfc4034a2f6949c82639339",
       "version_major": 2,
       "version_minor": 0
      },
      "text/plain": [
       "  0%|          | 0/10000 [00:00<?, ?it/s]"
      ]
     },
     "metadata": {},
     "output_type": "display_data"
    },
    {
     "name": "stdout",
     "output_type": "stream",
     "text": [
      "\n",
      " Early Stopping / epoch: 1464 loss: 0.003509\n",
      "----------------------------------------------------------------------------------------------------------\n",
      "lr: 1e-05  patience: 50  num_layers: 2  batch_size: 32  hidden_size: 16  dropout: 0.5 criterion: MSELoss()\n"
     ]
    },
    {
     "data": {
      "application/vnd.jupyter.widget-view+json": {
       "model_id": "74efdd9da72a4d6abb369ed4cce5fe85",
       "version_major": 2,
       "version_minor": 0
      },
      "text/plain": [
       "  0%|          | 0/10000 [00:00<?, ?it/s]"
      ]
     },
     "metadata": {},
     "output_type": "display_data"
    },
    {
     "name": "stdout",
     "output_type": "stream",
     "text": [
      "\n",
      " Early Stopping / epoch: 981 loss: 0.002216\n",
      "----------------------------------------------------------------------------------------------------------\n",
      "lr: 1e-05  patience: 50  num_layers: 2  batch_size: 32  hidden_size: 16  dropout: 0.5 criterion: <function criterion2 at 0x000001C7862F77F0>\n"
     ]
    },
    {
     "data": {
      "application/vnd.jupyter.widget-view+json": {
       "model_id": "24863600c7974ee9ae1c1e8c55383e24",
       "version_major": 2,
       "version_minor": 0
      },
      "text/plain": [
       "  0%|          | 0/10000 [00:00<?, ?it/s]"
      ]
     },
     "metadata": {},
     "output_type": "display_data"
    },
    {
     "name": "stdout",
     "output_type": "stream",
     "text": [
      "\n",
      " Early Stopping / epoch: 854 loss: 0.016462\n",
      "----------------------------------------------------------------------------------------------------------\n",
      "lr: 1e-05  patience: 50  num_layers: 2  batch_size: 32  hidden_size: 16  dropout: 0.5 criterion: <function criterion3 at 0x000001C7862F7880>\n"
     ]
    },
    {
     "data": {
      "application/vnd.jupyter.widget-view+json": {
       "model_id": "dd1408847c264000928d986759f929d5",
       "version_major": 2,
       "version_minor": 0
      },
      "text/plain": [
       "  0%|          | 0/10000 [00:00<?, ?it/s]"
      ]
     },
     "metadata": {},
     "output_type": "display_data"
    },
    {
     "name": "stdout",
     "output_type": "stream",
     "text": [
      "\n",
      " Early Stopping / epoch: 954 loss: 0.004323\n",
      "----------------------------------------------------------------------------------------------------------\n",
      "lr: 1e-05  patience: 50  num_layers: 2  batch_size: 32  hidden_size: 32  dropout: 0.25 criterion: MSELoss()\n"
     ]
    },
    {
     "data": {
      "application/vnd.jupyter.widget-view+json": {
       "model_id": "c90e8be35c4f4536b09e45b0c1204090",
       "version_major": 2,
       "version_minor": 0
      },
      "text/plain": [
       "  0%|          | 0/10000 [00:00<?, ?it/s]"
      ]
     },
     "metadata": {},
     "output_type": "display_data"
    },
    {
     "name": "stdout",
     "output_type": "stream",
     "text": [
      "\n",
      " Early Stopping / epoch: 1203 loss: 0.001047\n",
      "----------------------------------------------------------------------------------------------------------\n",
      "lr: 1e-05  patience: 50  num_layers: 2  batch_size: 32  hidden_size: 32  dropout: 0.25 criterion: <function criterion2 at 0x000001C7862F77F0>\n"
     ]
    },
    {
     "data": {
      "application/vnd.jupyter.widget-view+json": {
       "model_id": "efbbafd66b07436d98e362759114104b",
       "version_major": 2,
       "version_minor": 0
      },
      "text/plain": [
       "  0%|          | 0/10000 [00:00<?, ?it/s]"
      ]
     },
     "metadata": {},
     "output_type": "display_data"
    },
    {
     "name": "stdout",
     "output_type": "stream",
     "text": [
      "\n",
      " Early Stopping / epoch: 1031 loss: 0.010420\n",
      "----------------------------------------------------------------------------------------------------------\n",
      "lr: 1e-05  patience: 50  num_layers: 2  batch_size: 32  hidden_size: 32  dropout: 0.25 criterion: <function criterion3 at 0x000001C7862F7880>\n"
     ]
    },
    {
     "data": {
      "application/vnd.jupyter.widget-view+json": {
       "model_id": "5425cc6625ed4e8fafb8578513c464d9",
       "version_major": 2,
       "version_minor": 0
      },
      "text/plain": [
       "  0%|          | 0/10000 [00:00<?, ?it/s]"
      ]
     },
     "metadata": {},
     "output_type": "display_data"
    },
    {
     "name": "stdout",
     "output_type": "stream",
     "text": [
      "\n",
      " Early Stopping / epoch: 1162 loss: 0.002644\n",
      "----------------------------------------------------------------------------------------------------------\n",
      "lr: 1e-05  patience: 50  num_layers: 2  batch_size: 32  hidden_size: 32  dropout: 0.5 criterion: MSELoss()\n"
     ]
    },
    {
     "data": {
      "application/vnd.jupyter.widget-view+json": {
       "model_id": "d2abe4ba021e4145a9ffc91a5e6c14de",
       "version_major": 2,
       "version_minor": 0
      },
      "text/plain": [
       "  0%|          | 0/10000 [00:00<?, ?it/s]"
      ]
     },
     "metadata": {},
     "output_type": "display_data"
    },
    {
     "name": "stdout",
     "output_type": "stream",
     "text": [
      "\n",
      " Early Stopping / epoch: 806 loss: 0.001758\n",
      "----------------------------------------------------------------------------------------------------------\n",
      "lr: 1e-05  patience: 50  num_layers: 2  batch_size: 32  hidden_size: 32  dropout: 0.5 criterion: <function criterion2 at 0x000001C7862F77F0>\n"
     ]
    },
    {
     "data": {
      "application/vnd.jupyter.widget-view+json": {
       "model_id": "ebe3767232bc4cc09b5fae87969b019a",
       "version_major": 2,
       "version_minor": 0
      },
      "text/plain": [
       "  0%|          | 0/10000 [00:00<?, ?it/s]"
      ]
     },
     "metadata": {},
     "output_type": "display_data"
    },
    {
     "name": "stdout",
     "output_type": "stream",
     "text": [
      "\n",
      " Early Stopping / epoch: 1044 loss: 0.012245\n",
      "----------------------------------------------------------------------------------------------------------\n",
      "lr: 1e-05  patience: 50  num_layers: 2  batch_size: 32  hidden_size: 32  dropout: 0.5 criterion: <function criterion3 at 0x000001C7862F7880>\n"
     ]
    },
    {
     "data": {
      "application/vnd.jupyter.widget-view+json": {
       "model_id": "5c4d887b5099454198b2d7a4d0c22c3c",
       "version_major": 2,
       "version_minor": 0
      },
      "text/plain": [
       "  0%|          | 0/10000 [00:00<?, ?it/s]"
      ]
     },
     "metadata": {},
     "output_type": "display_data"
    },
    {
     "name": "stdout",
     "output_type": "stream",
     "text": [
      "\n",
      " Early Stopping / epoch: 769 loss: 0.003397\n",
      "----------------------------------------------------------------------------------------------------------\n",
      "lr: 1e-05  patience: 50  num_layers: 2  batch_size: 64  hidden_size: 8  dropout: 0.25 criterion: MSELoss()\n"
     ]
    },
    {
     "data": {
      "application/vnd.jupyter.widget-view+json": {
       "model_id": "a3f4c0270a614f86bbea52b2e2053d82",
       "version_major": 2,
       "version_minor": 0
      },
      "text/plain": [
       "  0%|          | 0/10000 [00:00<?, ?it/s]"
      ]
     },
     "metadata": {},
     "output_type": "display_data"
    },
    {
     "name": "stdout",
     "output_type": "stream",
     "text": [
      "\n",
      " Early Stopping / epoch: 1177 loss: 0.004345\n",
      "----------------------------------------------------------------------------------------------------------\n",
      "lr: 1e-05  patience: 50  num_layers: 2  batch_size: 64  hidden_size: 8  dropout: 0.25 criterion: <function criterion2 at 0x000001C7862F77F0>\n"
     ]
    },
    {
     "data": {
      "application/vnd.jupyter.widget-view+json": {
       "model_id": "a247c5232a7744cdb0619de8a97812cc",
       "version_major": 2,
       "version_minor": 0
      },
      "text/plain": [
       "  0%|          | 0/10000 [00:00<?, ?it/s]"
      ]
     },
     "metadata": {},
     "output_type": "display_data"
    },
    {
     "name": "stdout",
     "output_type": "stream",
     "text": [
      "\n",
      " Early Stopping / epoch: 1520 loss: 0.024791\n",
      "----------------------------------------------------------------------------------------------------------\n",
      "lr: 1e-05  patience: 50  num_layers: 2  batch_size: 64  hidden_size: 8  dropout: 0.25 criterion: <function criterion3 at 0x000001C7862F7880>\n"
     ]
    },
    {
     "data": {
      "application/vnd.jupyter.widget-view+json": {
       "model_id": "2fb5c8e2671342a7bb49755524282445",
       "version_major": 2,
       "version_minor": 0
      },
      "text/plain": [
       "  0%|          | 0/10000 [00:00<?, ?it/s]"
      ]
     },
     "metadata": {},
     "output_type": "display_data"
    },
    {
     "name": "stdout",
     "output_type": "stream",
     "text": [
      "\n",
      " Early Stopping / epoch: 1975 loss: 0.005028\n",
      "----------------------------------------------------------------------------------------------------------\n",
      "lr: 1e-05  patience: 50  num_layers: 2  batch_size: 64  hidden_size: 8  dropout: 0.5 criterion: MSELoss()\n"
     ]
    },
    {
     "data": {
      "application/vnd.jupyter.widget-view+json": {
       "model_id": "5a2dd97aa20b478da82af03d8a85ce25",
       "version_major": 2,
       "version_minor": 0
      },
      "text/plain": [
       "  0%|          | 0/10000 [00:00<?, ?it/s]"
      ]
     },
     "metadata": {},
     "output_type": "display_data"
    },
    {
     "name": "stdout",
     "output_type": "stream",
     "text": [
      "\n",
      " Early Stopping / epoch: 1441 loss: 0.004387\n",
      "----------------------------------------------------------------------------------------------------------\n",
      "lr: 1e-05  patience: 50  num_layers: 2  batch_size: 64  hidden_size: 8  dropout: 0.5 criterion: <function criterion2 at 0x000001C7862F77F0>\n"
     ]
    },
    {
     "data": {
      "application/vnd.jupyter.widget-view+json": {
       "model_id": "f11e1ff20070481ea6a17a411cd63711",
       "version_major": 2,
       "version_minor": 0
      },
      "text/plain": [
       "  0%|          | 0/10000 [00:00<?, ?it/s]"
      ]
     },
     "metadata": {},
     "output_type": "display_data"
    },
    {
     "name": "stdout",
     "output_type": "stream",
     "text": [
      "\n",
      " Early Stopping / epoch: 1982 loss: 0.023414\n",
      "----------------------------------------------------------------------------------------------------------\n",
      "lr: 1e-05  patience: 50  num_layers: 2  batch_size: 64  hidden_size: 8  dropout: 0.5 criterion: <function criterion3 at 0x000001C7862F7880>\n"
     ]
    },
    {
     "data": {
      "application/vnd.jupyter.widget-view+json": {
       "model_id": "bb0c17d06a9d431cb3b53f1e7913bfb9",
       "version_major": 2,
       "version_minor": 0
      },
      "text/plain": [
       "  0%|          | 0/10000 [00:00<?, ?it/s]"
      ]
     },
     "metadata": {},
     "output_type": "display_data"
    },
    {
     "name": "stdout",
     "output_type": "stream",
     "text": [
      "\n",
      " Early Stopping / epoch: 1382 loss: 0.005788\n",
      "----------------------------------------------------------------------------------------------------------\n",
      "lr: 1e-05  patience: 50  num_layers: 2  batch_size: 64  hidden_size: 16  dropout: 0.25 criterion: MSELoss()\n"
     ]
    },
    {
     "data": {
      "application/vnd.jupyter.widget-view+json": {
       "model_id": "5980b555d90140c58c02ba79ad8a9f25",
       "version_major": 2,
       "version_minor": 0
      },
      "text/plain": [
       "  0%|          | 0/10000 [00:00<?, ?it/s]"
      ]
     },
     "metadata": {},
     "output_type": "display_data"
    },
    {
     "name": "stdout",
     "output_type": "stream",
     "text": [
      "\n",
      " Early Stopping / epoch: 1595 loss: 0.001900\n",
      "----------------------------------------------------------------------------------------------------------\n",
      "lr: 1e-05  patience: 50  num_layers: 2  batch_size: 64  hidden_size: 16  dropout: 0.25 criterion: <function criterion2 at 0x000001C7862F77F0>\n"
     ]
    },
    {
     "data": {
      "application/vnd.jupyter.widget-view+json": {
       "model_id": "0a8fe65a27e1435b8f1b10910ae5f1bc",
       "version_major": 2,
       "version_minor": 0
      },
      "text/plain": [
       "  0%|          | 0/10000 [00:00<?, ?it/s]"
      ]
     },
     "metadata": {},
     "output_type": "display_data"
    },
    {
     "name": "stdout",
     "output_type": "stream",
     "text": [
      "\n",
      " Early Stopping / epoch: 1299 loss: 0.017753\n",
      "----------------------------------------------------------------------------------------------------------\n",
      "lr: 1e-05  patience: 50  num_layers: 2  batch_size: 64  hidden_size: 16  dropout: 0.25 criterion: <function criterion3 at 0x000001C7862F7880>\n"
     ]
    },
    {
     "data": {
      "application/vnd.jupyter.widget-view+json": {
       "model_id": "6032306f0ed54014859fa32e692dea45",
       "version_major": 2,
       "version_minor": 0
      },
      "text/plain": [
       "  0%|          | 0/10000 [00:00<?, ?it/s]"
      ]
     },
     "metadata": {},
     "output_type": "display_data"
    },
    {
     "name": "stdout",
     "output_type": "stream",
     "text": [
      "\n",
      " Early Stopping / epoch: 1827 loss: 0.003107\n",
      "----------------------------------------------------------------------------------------------------------\n",
      "lr: 1e-05  patience: 50  num_layers: 2  batch_size: 64  hidden_size: 16  dropout: 0.5 criterion: MSELoss()\n"
     ]
    },
    {
     "data": {
      "application/vnd.jupyter.widget-view+json": {
       "model_id": "94cf61a584eb454d9cbc7743c3d66f94",
       "version_major": 2,
       "version_minor": 0
      },
      "text/plain": [
       "  0%|          | 0/10000 [00:00<?, ?it/s]"
      ]
     },
     "metadata": {},
     "output_type": "display_data"
    },
    {
     "name": "stdout",
     "output_type": "stream",
     "text": [
      "\n",
      " Early Stopping / epoch: 749 loss: 0.005484\n",
      "----------------------------------------------------------------------------------------------------------\n",
      "lr: 1e-05  patience: 50  num_layers: 2  batch_size: 64  hidden_size: 16  dropout: 0.5 criterion: <function criterion2 at 0x000001C7862F77F0>\n"
     ]
    },
    {
     "data": {
      "application/vnd.jupyter.widget-view+json": {
       "model_id": "3aa2ce9ea3da415195e1b5a56a6c6a47",
       "version_major": 2,
       "version_minor": 0
      },
      "text/plain": [
       "  0%|          | 0/10000 [00:00<?, ?it/s]"
      ]
     },
     "metadata": {},
     "output_type": "display_data"
    },
    {
     "name": "stdout",
     "output_type": "stream",
     "text": [
      "\n",
      " Early Stopping / epoch: 1012 loss: 0.023000\n",
      "----------------------------------------------------------------------------------------------------------\n",
      "lr: 1e-05  patience: 50  num_layers: 2  batch_size: 64  hidden_size: 16  dropout: 0.5 criterion: <function criterion3 at 0x000001C7862F7880>\n"
     ]
    },
    {
     "data": {
      "application/vnd.jupyter.widget-view+json": {
       "model_id": "a73988df63db4b2d87d5c29711643109",
       "version_major": 2,
       "version_minor": 0
      },
      "text/plain": [
       "  0%|          | 0/10000 [00:00<?, ?it/s]"
      ]
     },
     "metadata": {},
     "output_type": "display_data"
    },
    {
     "name": "stdout",
     "output_type": "stream",
     "text": [
      "\n",
      " Early Stopping / epoch: 1765 loss: 0.003578\n",
      "----------------------------------------------------------------------------------------------------------\n",
      "lr: 1e-05  patience: 50  num_layers: 2  batch_size: 64  hidden_size: 32  dropout: 0.25 criterion: MSELoss()\n"
     ]
    },
    {
     "data": {
      "application/vnd.jupyter.widget-view+json": {
       "model_id": "58df536fb8f348fdab3663b6c83c9622",
       "version_major": 2,
       "version_minor": 0
      },
      "text/plain": [
       "  0%|          | 0/10000 [00:00<?, ?it/s]"
      ]
     },
     "metadata": {},
     "output_type": "display_data"
    },
    {
     "name": "stdout",
     "output_type": "stream",
     "text": [
      "\n",
      " Early Stopping / epoch: 999 loss: 0.001604\n",
      "----------------------------------------------------------------------------------------------------------\n",
      "lr: 1e-05  patience: 50  num_layers: 2  batch_size: 64  hidden_size: 32  dropout: 0.25 criterion: <function criterion2 at 0x000001C7862F77F0>\n"
     ]
    },
    {
     "data": {
      "application/vnd.jupyter.widget-view+json": {
       "model_id": "33a27a8fdc924aec811cd2228c79c13c",
       "version_major": 2,
       "version_minor": 0
      },
      "text/plain": [
       "  0%|          | 0/10000 [00:00<?, ?it/s]"
      ]
     },
     "metadata": {},
     "output_type": "display_data"
    },
    {
     "name": "stdout",
     "output_type": "stream",
     "text": [
      "\n",
      " Early Stopping / epoch: 1158 loss: 0.012152\n",
      "----------------------------------------------------------------------------------------------------------\n",
      "lr: 1e-05  patience: 50  num_layers: 2  batch_size: 64  hidden_size: 32  dropout: 0.25 criterion: <function criterion3 at 0x000001C7862F7880>\n"
     ]
    },
    {
     "data": {
      "application/vnd.jupyter.widget-view+json": {
       "model_id": "1b658c86672f4a0abd040a6c22e47964",
       "version_major": 2,
       "version_minor": 0
      },
      "text/plain": [
       "  0%|          | 0/10000 [00:00<?, ?it/s]"
      ]
     },
     "metadata": {},
     "output_type": "display_data"
    },
    {
     "name": "stdout",
     "output_type": "stream",
     "text": [
      "\n",
      " Early Stopping / epoch: 1171 loss: 0.002043\n",
      "----------------------------------------------------------------------------------------------------------\n",
      "lr: 1e-05  patience: 50  num_layers: 2  batch_size: 64  hidden_size: 32  dropout: 0.5 criterion: MSELoss()\n"
     ]
    },
    {
     "data": {
      "application/vnd.jupyter.widget-view+json": {
       "model_id": "f558d2deec194a5ab69a8b6f801caa7b",
       "version_major": 2,
       "version_minor": 0
      },
      "text/plain": [
       "  0%|          | 0/10000 [00:00<?, ?it/s]"
      ]
     },
     "metadata": {},
     "output_type": "display_data"
    },
    {
     "name": "stdout",
     "output_type": "stream",
     "text": [
      "\n",
      " Early Stopping / epoch: 648 loss: 0.002832\n",
      "----------------------------------------------------------------------------------------------------------\n",
      "lr: 1e-05  patience: 50  num_layers: 2  batch_size: 64  hidden_size: 32  dropout: 0.5 criterion: <function criterion2 at 0x000001C7862F77F0>\n"
     ]
    },
    {
     "data": {
      "application/vnd.jupyter.widget-view+json": {
       "model_id": "6696b64452a1413fbc7e01381d29caf5",
       "version_major": 2,
       "version_minor": 0
      },
      "text/plain": [
       "  0%|          | 0/10000 [00:00<?, ?it/s]"
      ]
     },
     "metadata": {},
     "output_type": "display_data"
    },
    {
     "name": "stdout",
     "output_type": "stream",
     "text": [
      "\n",
      " Early Stopping / epoch: 943 loss: 0.013243\n",
      "----------------------------------------------------------------------------------------------------------\n",
      "lr: 1e-05  patience: 50  num_layers: 2  batch_size: 64  hidden_size: 32  dropout: 0.5 criterion: <function criterion3 at 0x000001C7862F7880>\n"
     ]
    },
    {
     "data": {
      "application/vnd.jupyter.widget-view+json": {
       "model_id": "9e060aefd8b54ee2a7ddd4512d16804a",
       "version_major": 2,
       "version_minor": 0
      },
      "text/plain": [
       "  0%|          | 0/10000 [00:00<?, ?it/s]"
      ]
     },
     "metadata": {},
     "output_type": "display_data"
    },
    {
     "name": "stdout",
     "output_type": "stream",
     "text": [
      "\n",
      " Early Stopping / epoch: 1247 loss: 0.002112\n",
      "----------------------------------------------------------------------------------------------------------\n",
      "lr: 1e-05  patience: 50  num_layers: 2  batch_size: 128  hidden_size: 8  dropout: 0.25 criterion: MSELoss()\n"
     ]
    },
    {
     "data": {
      "application/vnd.jupyter.widget-view+json": {
       "model_id": "9df0580b53c24181a60905b6333749a8",
       "version_major": 2,
       "version_minor": 0
      },
      "text/plain": [
       "  0%|          | 0/10000 [00:00<?, ?it/s]"
      ]
     },
     "metadata": {},
     "output_type": "display_data"
    },
    {
     "name": "stdout",
     "output_type": "stream",
     "text": [
      "\n",
      " Early Stopping / epoch: 363 loss: 0.015835\n",
      "----------------------------------------------------------------------------------------------------------\n",
      "lr: 1e-05  patience: 50  num_layers: 2  batch_size: 128  hidden_size: 8  dropout: 0.25 criterion: <function criterion2 at 0x000001C7862F77F0>\n"
     ]
    },
    {
     "data": {
      "application/vnd.jupyter.widget-view+json": {
       "model_id": "37fab7d83303437eb0f7329b58220a33",
       "version_major": 2,
       "version_minor": 0
      },
      "text/plain": [
       "  0%|          | 0/10000 [00:00<?, ?it/s]"
      ]
     },
     "metadata": {},
     "output_type": "display_data"
    },
    {
     "name": "stdout",
     "output_type": "stream",
     "text": [
      "\n",
      " Early Stopping / epoch: 2177 loss: 0.038039\n",
      "----------------------------------------------------------------------------------------------------------\n",
      "lr: 1e-05  patience: 50  num_layers: 2  batch_size: 128  hidden_size: 8  dropout: 0.25 criterion: <function criterion3 at 0x000001C7862F7880>\n"
     ]
    },
    {
     "data": {
      "application/vnd.jupyter.widget-view+json": {
       "model_id": "8efddb3c6a914371a5d6d44108f3a94f",
       "version_major": 2,
       "version_minor": 0
      },
      "text/plain": [
       "  0%|          | 0/10000 [00:00<?, ?it/s]"
      ]
     },
     "metadata": {},
     "output_type": "display_data"
    },
    {
     "name": "stdout",
     "output_type": "stream",
     "text": [
      "\n",
      " Early Stopping / epoch: 2649 loss: 0.004855\n",
      "----------------------------------------------------------------------------------------------------------\n",
      "lr: 1e-05  patience: 50  num_layers: 2  batch_size: 128  hidden_size: 8  dropout: 0.5 criterion: MSELoss()\n"
     ]
    },
    {
     "data": {
      "application/vnd.jupyter.widget-view+json": {
       "model_id": "1f918e68e6184feea57dec985b570cf5",
       "version_major": 2,
       "version_minor": 0
      },
      "text/plain": [
       "  0%|          | 0/10000 [00:00<?, ?it/s]"
      ]
     },
     "metadata": {},
     "output_type": "display_data"
    },
    {
     "name": "stdout",
     "output_type": "stream",
     "text": [
      "\n",
      " Early Stopping / epoch: 1129 loss: 0.010906\n",
      "----------------------------------------------------------------------------------------------------------\n",
      "lr: 1e-05  patience: 50  num_layers: 2  batch_size: 128  hidden_size: 8  dropout: 0.5 criterion: <function criterion2 at 0x000001C7862F77F0>\n"
     ]
    },
    {
     "data": {
      "application/vnd.jupyter.widget-view+json": {
       "model_id": "a86d3b0e8f734f4689d1d814aa4e48c6",
       "version_major": 2,
       "version_minor": 0
      },
      "text/plain": [
       "  0%|          | 0/10000 [00:00<?, ?it/s]"
      ]
     },
     "metadata": {},
     "output_type": "display_data"
    },
    {
     "name": "stdout",
     "output_type": "stream",
     "text": [
      "\n",
      " Early Stopping / epoch: 1727 loss: 0.028816\n",
      "----------------------------------------------------------------------------------------------------------\n",
      "lr: 1e-05  patience: 50  num_layers: 2  batch_size: 128  hidden_size: 8  dropout: 0.5 criterion: <function criterion3 at 0x000001C7862F7880>\n"
     ]
    },
    {
     "data": {
      "application/vnd.jupyter.widget-view+json": {
       "model_id": "5e15d53c1d8c430986f4b7a5b896591a",
       "version_major": 2,
       "version_minor": 0
      },
      "text/plain": [
       "  0%|          | 0/10000 [00:00<?, ?it/s]"
      ]
     },
     "metadata": {},
     "output_type": "display_data"
    },
    {
     "name": "stdout",
     "output_type": "stream",
     "text": [
      "\n",
      " Early Stopping / epoch: 1301 loss: 0.005964\n",
      "----------------------------------------------------------------------------------------------------------\n",
      "lr: 1e-05  patience: 50  num_layers: 2  batch_size: 128  hidden_size: 16  dropout: 0.25 criterion: MSELoss()\n"
     ]
    },
    {
     "data": {
      "application/vnd.jupyter.widget-view+json": {
       "model_id": "9c393a400d4e4aae811119dd16041139",
       "version_major": 2,
       "version_minor": 0
      },
      "text/plain": [
       "  0%|          | 0/10000 [00:00<?, ?it/s]"
      ]
     },
     "metadata": {},
     "output_type": "display_data"
    },
    {
     "name": "stdout",
     "output_type": "stream",
     "text": [
      "\n",
      " Early Stopping / epoch: 462 loss: 0.011740\n",
      "----------------------------------------------------------------------------------------------------------\n",
      "lr: 1e-05  patience: 50  num_layers: 2  batch_size: 128  hidden_size: 16  dropout: 0.25 criterion: <function criterion2 at 0x000001C7862F77F0>\n"
     ]
    },
    {
     "data": {
      "application/vnd.jupyter.widget-view+json": {
       "model_id": "31fc876c298a4337b26a89bfe6357569",
       "version_major": 2,
       "version_minor": 0
      },
      "text/plain": [
       "  0%|          | 0/10000 [00:00<?, ?it/s]"
      ]
     },
     "metadata": {},
     "output_type": "display_data"
    },
    {
     "name": "stdout",
     "output_type": "stream",
     "text": [
      "\n",
      " Early Stopping / epoch: 3022 loss: 0.018281\n",
      "----------------------------------------------------------------------------------------------------------\n",
      "lr: 1e-05  patience: 50  num_layers: 2  batch_size: 128  hidden_size: 16  dropout: 0.25 criterion: <function criterion3 at 0x000001C7862F7880>\n"
     ]
    },
    {
     "data": {
      "application/vnd.jupyter.widget-view+json": {
       "model_id": "7624e20e8bff43928ce5b984736bc297",
       "version_major": 2,
       "version_minor": 0
      },
      "text/plain": [
       "  0%|          | 0/10000 [00:00<?, ?it/s]"
      ]
     },
     "metadata": {},
     "output_type": "display_data"
    },
    {
     "name": "stdout",
     "output_type": "stream",
     "text": [
      "\n",
      " Early Stopping / epoch: 1590 loss: 0.003511\n",
      "----------------------------------------------------------------------------------------------------------\n",
      "lr: 1e-05  patience: 50  num_layers: 2  batch_size: 128  hidden_size: 16  dropout: 0.5 criterion: MSELoss()\n"
     ]
    },
    {
     "data": {
      "application/vnd.jupyter.widget-view+json": {
       "model_id": "d6a7a714a8844311a47bdf5e662fc689",
       "version_major": 2,
       "version_minor": 0
      },
      "text/plain": [
       "  0%|          | 0/10000 [00:00<?, ?it/s]"
      ]
     },
     "metadata": {},
     "output_type": "display_data"
    },
    {
     "name": "stdout",
     "output_type": "stream",
     "text": [
      "\n",
      " Early Stopping / epoch: 1762 loss: 0.003976\n",
      "----------------------------------------------------------------------------------------------------------\n",
      "lr: 1e-05  patience: 50  num_layers: 2  batch_size: 128  hidden_size: 16  dropout: 0.5 criterion: <function criterion2 at 0x000001C7862F77F0>\n"
     ]
    },
    {
     "data": {
      "application/vnd.jupyter.widget-view+json": {
       "model_id": "a9be4c1f8aa340c198490ab8d6e7402d",
       "version_major": 2,
       "version_minor": 0
      },
      "text/plain": [
       "  0%|          | 0/10000 [00:00<?, ?it/s]"
      ]
     },
     "metadata": {},
     "output_type": "display_data"
    },
    {
     "name": "stdout",
     "output_type": "stream",
     "text": [
      "\n",
      " Early Stopping / epoch: 2451 loss: 0.025085\n",
      "----------------------------------------------------------------------------------------------------------\n",
      "lr: 1e-05  patience: 50  num_layers: 2  batch_size: 128  hidden_size: 16  dropout: 0.5 criterion: <function criterion3 at 0x000001C7862F7880>\n"
     ]
    },
    {
     "data": {
      "application/vnd.jupyter.widget-view+json": {
       "model_id": "29289793728645f1a6b021f01f71e3be",
       "version_major": 2,
       "version_minor": 0
      },
      "text/plain": [
       "  0%|          | 0/10000 [00:00<?, ?it/s]"
      ]
     },
     "metadata": {},
     "output_type": "display_data"
    },
    {
     "name": "stdout",
     "output_type": "stream",
     "text": [
      "\n",
      " Early Stopping / epoch: 1560 loss: 0.003344\n",
      "----------------------------------------------------------------------------------------------------------\n",
      "lr: 1e-05  patience: 50  num_layers: 2  batch_size: 128  hidden_size: 32  dropout: 0.25 criterion: MSELoss()\n"
     ]
    },
    {
     "data": {
      "application/vnd.jupyter.widget-view+json": {
       "model_id": "252a82a513a549a38a0b7933cf69775e",
       "version_major": 2,
       "version_minor": 0
      },
      "text/plain": [
       "  0%|          | 0/10000 [00:00<?, ?it/s]"
      ]
     },
     "metadata": {},
     "output_type": "display_data"
    },
    {
     "name": "stdout",
     "output_type": "stream",
     "text": [
      "\n",
      " Early Stopping / epoch: 1222 loss: 0.002295\n",
      "----------------------------------------------------------------------------------------------------------\n",
      "lr: 1e-05  patience: 50  num_layers: 2  batch_size: 128  hidden_size: 32  dropout: 0.25 criterion: <function criterion2 at 0x000001C7862F77F0>\n"
     ]
    },
    {
     "data": {
      "application/vnd.jupyter.widget-view+json": {
       "model_id": "3f13c2d3a79643d88fa5b2483de86f01",
       "version_major": 2,
       "version_minor": 0
      },
      "text/plain": [
       "  0%|          | 0/10000 [00:00<?, ?it/s]"
      ]
     },
     "metadata": {},
     "output_type": "display_data"
    },
    {
     "name": "stdout",
     "output_type": "stream",
     "text": [
      "\n",
      " Early Stopping / epoch: 1378 loss: 0.012353\n",
      "----------------------------------------------------------------------------------------------------------\n",
      "lr: 1e-05  patience: 50  num_layers: 2  batch_size: 128  hidden_size: 32  dropout: 0.25 criterion: <function criterion3 at 0x000001C7862F7880>\n"
     ]
    },
    {
     "data": {
      "application/vnd.jupyter.widget-view+json": {
       "model_id": "8f95e9e95d4247a0bd94d60f5b26ec5e",
       "version_major": 2,
       "version_minor": 0
      },
      "text/plain": [
       "  0%|          | 0/10000 [00:00<?, ?it/s]"
      ]
     },
     "metadata": {},
     "output_type": "display_data"
    },
    {
     "name": "stdout",
     "output_type": "stream",
     "text": [
      "\n",
      " Early Stopping / epoch: 1138 loss: 0.002249\n",
      "----------------------------------------------------------------------------------------------------------\n",
      "lr: 1e-05  patience: 50  num_layers: 2  batch_size: 128  hidden_size: 32  dropout: 0.5 criterion: MSELoss()\n"
     ]
    },
    {
     "data": {
      "application/vnd.jupyter.widget-view+json": {
       "model_id": "14a2b5f6c8464910873dabd6484f3ab3",
       "version_major": 2,
       "version_minor": 0
      },
      "text/plain": [
       "  0%|          | 0/10000 [00:00<?, ?it/s]"
      ]
     },
     "metadata": {},
     "output_type": "display_data"
    },
    {
     "name": "stdout",
     "output_type": "stream",
     "text": [
      "\n",
      " Early Stopping / epoch: 1641 loss: 0.001701\n",
      "----------------------------------------------------------------------------------------------------------\n",
      "lr: 1e-05  patience: 50  num_layers: 2  batch_size: 128  hidden_size: 32  dropout: 0.5 criterion: <function criterion2 at 0x000001C7862F77F0>\n"
     ]
    },
    {
     "data": {
      "application/vnd.jupyter.widget-view+json": {
       "model_id": "fe89503fe96f4dcd8b82cef502e41292",
       "version_major": 2,
       "version_minor": 0
      },
      "text/plain": [
       "  0%|          | 0/10000 [00:00<?, ?it/s]"
      ]
     },
     "metadata": {},
     "output_type": "display_data"
    },
    {
     "name": "stdout",
     "output_type": "stream",
     "text": [
      "\n",
      " Early Stopping / epoch: 1329 loss: 0.017152\n",
      "----------------------------------------------------------------------------------------------------------\n",
      "lr: 1e-05  patience: 50  num_layers: 2  batch_size: 128  hidden_size: 32  dropout: 0.5 criterion: <function criterion3 at 0x000001C7862F7880>\n"
     ]
    },
    {
     "data": {
      "application/vnd.jupyter.widget-view+json": {
       "model_id": "dcffc3e511c64e9ea64aee148eebb672",
       "version_major": 2,
       "version_minor": 0
      },
      "text/plain": [
       "  0%|          | 0/10000 [00:00<?, ?it/s]"
      ]
     },
     "metadata": {},
     "output_type": "display_data"
    },
    {
     "name": "stdout",
     "output_type": "stream",
     "text": [
      "\n",
      " Early Stopping / epoch: 905 loss: 0.003494\n",
      "----------------------------------------------------------------------------------------------------------\n",
      "lr: 1e-05  patience: 50  num_layers: 4  batch_size: 32  hidden_size: 8  dropout: 0.25 criterion: MSELoss()\n"
     ]
    },
    {
     "data": {
      "application/vnd.jupyter.widget-view+json": {
       "model_id": "59bba45e307d49a699c549a58e8254d8",
       "version_major": 2,
       "version_minor": 0
      },
      "text/plain": [
       "  0%|          | 0/10000 [00:00<?, ?it/s]"
      ]
     },
     "metadata": {},
     "output_type": "display_data"
    },
    {
     "name": "stdout",
     "output_type": "stream",
     "text": [
      "\n",
      " Early Stopping / epoch: 1063 loss: 0.004325\n",
      "----------------------------------------------------------------------------------------------------------\n",
      "lr: 1e-05  patience: 50  num_layers: 4  batch_size: 32  hidden_size: 8  dropout: 0.25 criterion: <function criterion2 at 0x000001C7862F77F0>\n"
     ]
    },
    {
     "data": {
      "application/vnd.jupyter.widget-view+json": {
       "model_id": "a07bdfc9af1947d2a8180b536d8404b4",
       "version_major": 2,
       "version_minor": 0
      },
      "text/plain": [
       "  0%|          | 0/10000 [00:00<?, ?it/s]"
      ]
     },
     "metadata": {},
     "output_type": "display_data"
    },
    {
     "name": "stdout",
     "output_type": "stream",
     "text": [
      "\n",
      " Early Stopping / epoch: 2006 loss: 0.018099\n",
      "----------------------------------------------------------------------------------------------------------\n",
      "lr: 1e-05  patience: 50  num_layers: 4  batch_size: 32  hidden_size: 8  dropout: 0.25 criterion: <function criterion3 at 0x000001C7862F7880>\n"
     ]
    },
    {
     "data": {
      "application/vnd.jupyter.widget-view+json": {
       "model_id": "c69d9b02b8364c8fb078d19b51507a23",
       "version_major": 2,
       "version_minor": 0
      },
      "text/plain": [
       "  0%|          | 0/10000 [00:00<?, ?it/s]"
      ]
     },
     "metadata": {},
     "output_type": "display_data"
    },
    {
     "name": "stdout",
     "output_type": "stream",
     "text": [
      "\n",
      " Early Stopping / epoch: 2228 loss: 0.003764\n",
      "----------------------------------------------------------------------------------------------------------\n",
      "lr: 1e-05  patience: 50  num_layers: 4  batch_size: 32  hidden_size: 8  dropout: 0.5 criterion: MSELoss()\n"
     ]
    },
    {
     "data": {
      "application/vnd.jupyter.widget-view+json": {
       "model_id": "b3da1433680746ef9da785fd629dea48",
       "version_major": 2,
       "version_minor": 0
      },
      "text/plain": [
       "  0%|          | 0/10000 [00:00<?, ?it/s]"
      ]
     },
     "metadata": {},
     "output_type": "display_data"
    },
    {
     "name": "stdout",
     "output_type": "stream",
     "text": [
      "\n",
      " Early Stopping / epoch: 663 loss: 0.011700\n",
      "----------------------------------------------------------------------------------------------------------\n",
      "lr: 1e-05  patience: 50  num_layers: 4  batch_size: 32  hidden_size: 8  dropout: 0.5 criterion: <function criterion2 at 0x000001C7862F77F0>\n"
     ]
    },
    {
     "data": {
      "application/vnd.jupyter.widget-view+json": {
       "model_id": "6e31be42fded4475b46c3e51da282dba",
       "version_major": 2,
       "version_minor": 0
      },
      "text/plain": [
       "  0%|          | 0/10000 [00:00<?, ?it/s]"
      ]
     },
     "metadata": {},
     "output_type": "display_data"
    },
    {
     "name": "stdout",
     "output_type": "stream",
     "text": [
      "\n",
      " Early Stopping / epoch: 1744 loss: 0.021441\n",
      "----------------------------------------------------------------------------------------------------------\n",
      "lr: 1e-05  patience: 50  num_layers: 4  batch_size: 32  hidden_size: 8  dropout: 0.5 criterion: <function criterion3 at 0x000001C7862F7880>\n"
     ]
    },
    {
     "data": {
      "application/vnd.jupyter.widget-view+json": {
       "model_id": "a0e5b61333f54b74be9e9c987dfb3c58",
       "version_major": 2,
       "version_minor": 0
      },
      "text/plain": [
       "  0%|          | 0/10000 [00:00<?, ?it/s]"
      ]
     },
     "metadata": {},
     "output_type": "display_data"
    },
    {
     "name": "stdout",
     "output_type": "stream",
     "text": [
      "\n",
      " Early Stopping / epoch: 2383 loss: 0.004691\n",
      "----------------------------------------------------------------------------------------------------------\n",
      "lr: 1e-05  patience: 50  num_layers: 4  batch_size: 32  hidden_size: 16  dropout: 0.25 criterion: MSELoss()\n"
     ]
    },
    {
     "data": {
      "application/vnd.jupyter.widget-view+json": {
       "model_id": "af31aeae5e84421c92b8553830c52cad",
       "version_major": 2,
       "version_minor": 0
      },
      "text/plain": [
       "  0%|          | 0/10000 [00:00<?, ?it/s]"
      ]
     },
     "metadata": {},
     "output_type": "display_data"
    },
    {
     "name": "stdout",
     "output_type": "stream",
     "text": [
      "\n",
      " Early Stopping / epoch: 1123 loss: 0.002039\n",
      "----------------------------------------------------------------------------------------------------------\n",
      "lr: 1e-05  patience: 50  num_layers: 4  batch_size: 32  hidden_size: 16  dropout: 0.25 criterion: <function criterion2 at 0x000001C7862F77F0>\n"
     ]
    },
    {
     "data": {
      "application/vnd.jupyter.widget-view+json": {
       "model_id": "33a95a78654f40e792c512e40195951b",
       "version_major": 2,
       "version_minor": 0
      },
      "text/plain": [
       "  0%|          | 0/10000 [00:00<?, ?it/s]"
      ]
     },
     "metadata": {},
     "output_type": "display_data"
    },
    {
     "name": "stdout",
     "output_type": "stream",
     "text": [
      "\n",
      " Early Stopping / epoch: 1523 loss: 0.015500\n",
      "----------------------------------------------------------------------------------------------------------\n",
      "lr: 1e-05  patience: 50  num_layers: 4  batch_size: 32  hidden_size: 16  dropout: 0.25 criterion: <function criterion3 at 0x000001C7862F7880>\n"
     ]
    },
    {
     "data": {
      "application/vnd.jupyter.widget-view+json": {
       "model_id": "bbbd6eec66c744449a611ac9fdf7c86c",
       "version_major": 2,
       "version_minor": 0
      },
      "text/plain": [
       "  0%|          | 0/10000 [00:00<?, ?it/s]"
      ]
     },
     "metadata": {},
     "output_type": "display_data"
    },
    {
     "name": "stdout",
     "output_type": "stream",
     "text": [
      "\n",
      " Early Stopping / epoch: 1222 loss: 0.003742\n",
      "----------------------------------------------------------------------------------------------------------\n",
      "lr: 1e-05  patience: 50  num_layers: 4  batch_size: 32  hidden_size: 16  dropout: 0.5 criterion: MSELoss()\n"
     ]
    },
    {
     "data": {
      "application/vnd.jupyter.widget-view+json": {
       "model_id": "a48be3238d264e3aaebe2cff6cbc2d04",
       "version_major": 2,
       "version_minor": 0
      },
      "text/plain": [
       "  0%|          | 0/10000 [00:00<?, ?it/s]"
      ]
     },
     "metadata": {},
     "output_type": "display_data"
    },
    {
     "name": "stdout",
     "output_type": "stream",
     "text": [
      "\n",
      " Early Stopping / epoch: 581 loss: 0.003773\n",
      "----------------------------------------------------------------------------------------------------------\n",
      "lr: 1e-05  patience: 50  num_layers: 4  batch_size: 32  hidden_size: 16  dropout: 0.5 criterion: <function criterion2 at 0x000001C7862F77F0>\n"
     ]
    },
    {
     "data": {
      "application/vnd.jupyter.widget-view+json": {
       "model_id": "70eddfb984564491a0bf59c4cddbfe9e",
       "version_major": 2,
       "version_minor": 0
      },
      "text/plain": [
       "  0%|          | 0/10000 [00:00<?, ?it/s]"
      ]
     },
     "metadata": {},
     "output_type": "display_data"
    },
    {
     "name": "stdout",
     "output_type": "stream",
     "text": [
      "\n",
      " Early Stopping / epoch: 1707 loss: 0.018304\n",
      "----------------------------------------------------------------------------------------------------------\n",
      "lr: 1e-05  patience: 50  num_layers: 4  batch_size: 32  hidden_size: 16  dropout: 0.5 criterion: <function criterion3 at 0x000001C7862F7880>\n"
     ]
    },
    {
     "data": {
      "application/vnd.jupyter.widget-view+json": {
       "model_id": "0b55bad5d14547ecb11a8ce2dc7ff091",
       "version_major": 2,
       "version_minor": 0
      },
      "text/plain": [
       "  0%|          | 0/10000 [00:00<?, ?it/s]"
      ]
     },
     "metadata": {},
     "output_type": "display_data"
    },
    {
     "name": "stdout",
     "output_type": "stream",
     "text": [
      "\n",
      " Early Stopping / epoch: 1306 loss: 0.004297\n",
      "----------------------------------------------------------------------------------------------------------\n",
      "lr: 1e-05  patience: 50  num_layers: 4  batch_size: 32  hidden_size: 32  dropout: 0.25 criterion: MSELoss()\n"
     ]
    },
    {
     "data": {
      "application/vnd.jupyter.widget-view+json": {
       "model_id": "ebcea61c11554f8e974407cbdf4b7b60",
       "version_major": 2,
       "version_minor": 0
      },
      "text/plain": [
       "  0%|          | 0/10000 [00:00<?, ?it/s]"
      ]
     },
     "metadata": {},
     "output_type": "display_data"
    },
    {
     "name": "stdout",
     "output_type": "stream",
     "text": [
      "\n",
      " Early Stopping / epoch: 891 loss: 0.001317\n",
      "----------------------------------------------------------------------------------------------------------\n",
      "lr: 1e-05  patience: 50  num_layers: 4  batch_size: 32  hidden_size: 32  dropout: 0.25 criterion: <function criterion2 at 0x000001C7862F77F0>\n"
     ]
    },
    {
     "data": {
      "application/vnd.jupyter.widget-view+json": {
       "model_id": "256aaaf918ad449fa01fac28f3660ebe",
       "version_major": 2,
       "version_minor": 0
      },
      "text/plain": [
       "  0%|          | 0/10000 [00:00<?, ?it/s]"
      ]
     },
     "metadata": {},
     "output_type": "display_data"
    },
    {
     "name": "stdout",
     "output_type": "stream",
     "text": [
      "\n",
      " Early Stopping / epoch: 1053 loss: 0.011204\n",
      "----------------------------------------------------------------------------------------------------------\n",
      "lr: 1e-05  patience: 50  num_layers: 4  batch_size: 32  hidden_size: 32  dropout: 0.25 criterion: <function criterion3 at 0x000001C7862F7880>\n"
     ]
    },
    {
     "data": {
      "application/vnd.jupyter.widget-view+json": {
       "model_id": "44423b7246e342dbab38414d9ed0baa1",
       "version_major": 2,
       "version_minor": 0
      },
      "text/plain": [
       "  0%|          | 0/10000 [00:00<?, ?it/s]"
      ]
     },
     "metadata": {},
     "output_type": "display_data"
    },
    {
     "name": "stdout",
     "output_type": "stream",
     "text": [
      "\n",
      " Early Stopping / epoch: 1209 loss: 0.003328\n",
      "----------------------------------------------------------------------------------------------------------\n",
      "lr: 1e-05  patience: 50  num_layers: 4  batch_size: 32  hidden_size: 32  dropout: 0.5 criterion: MSELoss()\n"
     ]
    },
    {
     "data": {
      "application/vnd.jupyter.widget-view+json": {
       "model_id": "4827e7fc47154f97a1f21325f4a6a58c",
       "version_major": 2,
       "version_minor": 0
      },
      "text/plain": [
       "  0%|          | 0/10000 [00:00<?, ?it/s]"
      ]
     },
     "metadata": {},
     "output_type": "display_data"
    },
    {
     "name": "stdout",
     "output_type": "stream",
     "text": [
      "\n",
      " Early Stopping / epoch: 716 loss: 0.002532\n",
      "----------------------------------------------------------------------------------------------------------\n",
      "lr: 1e-05  patience: 50  num_layers: 4  batch_size: 32  hidden_size: 32  dropout: 0.5 criterion: <function criterion2 at 0x000001C7862F77F0>\n"
     ]
    },
    {
     "data": {
      "application/vnd.jupyter.widget-view+json": {
       "model_id": "821af8f3af19426f81a429428e0c6996",
       "version_major": 2,
       "version_minor": 0
      },
      "text/plain": [
       "  0%|          | 0/10000 [00:00<?, ?it/s]"
      ]
     },
     "metadata": {},
     "output_type": "display_data"
    },
    {
     "name": "stdout",
     "output_type": "stream",
     "text": [
      "\n",
      " Early Stopping / epoch: 887 loss: 0.013589\n",
      "----------------------------------------------------------------------------------------------------------\n",
      "lr: 1e-05  patience: 50  num_layers: 4  batch_size: 32  hidden_size: 32  dropout: 0.5 criterion: <function criterion3 at 0x000001C7862F7880>\n"
     ]
    },
    {
     "data": {
      "application/vnd.jupyter.widget-view+json": {
       "model_id": "87e3e64246584cadbd83d524717fc39f",
       "version_major": 2,
       "version_minor": 0
      },
      "text/plain": [
       "  0%|          | 0/10000 [00:00<?, ?it/s]"
      ]
     },
     "metadata": {},
     "output_type": "display_data"
    },
    {
     "name": "stdout",
     "output_type": "stream",
     "text": [
      "\n",
      " Early Stopping / epoch: 1299 loss: 0.003104\n",
      "----------------------------------------------------------------------------------------------------------\n",
      "lr: 1e-05  patience: 50  num_layers: 4  batch_size: 64  hidden_size: 8  dropout: 0.25 criterion: MSELoss()\n"
     ]
    },
    {
     "data": {
      "application/vnd.jupyter.widget-view+json": {
       "model_id": "e06e645afafe41948a0ac28bca473c8c",
       "version_major": 2,
       "version_minor": 0
      },
      "text/plain": [
       "  0%|          | 0/10000 [00:00<?, ?it/s]"
      ]
     },
     "metadata": {},
     "output_type": "display_data"
    },
    {
     "name": "stdout",
     "output_type": "stream",
     "text": [
      "\n",
      " Early Stopping / epoch: 1992 loss: 0.004293\n",
      "----------------------------------------------------------------------------------------------------------\n",
      "lr: 1e-05  patience: 50  num_layers: 4  batch_size: 64  hidden_size: 8  dropout: 0.25 criterion: <function criterion2 at 0x000001C7862F77F0>\n"
     ]
    },
    {
     "data": {
      "application/vnd.jupyter.widget-view+json": {
       "model_id": "92fe2cd55a8844fab47b9ef31f6645c9",
       "version_major": 2,
       "version_minor": 0
      },
      "text/plain": [
       "  0%|          | 0/10000 [00:00<?, ?it/s]"
      ]
     },
     "metadata": {},
     "output_type": "display_data"
    },
    {
     "name": "stdout",
     "output_type": "stream",
     "text": [
      "\n",
      " Early Stopping / epoch: 1319 loss: 0.038594\n",
      "----------------------------------------------------------------------------------------------------------\n",
      "lr: 1e-05  patience: 50  num_layers: 4  batch_size: 64  hidden_size: 8  dropout: 0.25 criterion: <function criterion3 at 0x000001C7862F7880>\n"
     ]
    },
    {
     "data": {
      "application/vnd.jupyter.widget-view+json": {
       "model_id": "377fb78e825d47e3a71d68e8a4199e8a",
       "version_major": 2,
       "version_minor": 0
      },
      "text/plain": [
       "  0%|          | 0/10000 [00:00<?, ?it/s]"
      ]
     },
     "metadata": {},
     "output_type": "display_data"
    },
    {
     "name": "stdout",
     "output_type": "stream",
     "text": [
      "\n",
      " Early Stopping / epoch: 1441 loss: 0.005670\n",
      "----------------------------------------------------------------------------------------------------------\n",
      "lr: 1e-05  patience: 50  num_layers: 4  batch_size: 64  hidden_size: 8  dropout: 0.5 criterion: MSELoss()\n"
     ]
    },
    {
     "data": {
      "application/vnd.jupyter.widget-view+json": {
       "model_id": "87c6b08b6ac04c3f972b0e9eea47228b",
       "version_major": 2,
       "version_minor": 0
      },
      "text/plain": [
       "  0%|          | 0/10000 [00:00<?, ?it/s]"
      ]
     },
     "metadata": {},
     "output_type": "display_data"
    },
    {
     "name": "stdout",
     "output_type": "stream",
     "text": [
      "\n",
      " Early Stopping / epoch: 1458 loss: 0.008406\n",
      "----------------------------------------------------------------------------------------------------------\n",
      "lr: 1e-05  patience: 50  num_layers: 4  batch_size: 64  hidden_size: 8  dropout: 0.5 criterion: <function criterion2 at 0x000001C7862F77F0>\n"
     ]
    },
    {
     "data": {
      "application/vnd.jupyter.widget-view+json": {
       "model_id": "f1fe72c41ed24d0aac161329cfc46cbc",
       "version_major": 2,
       "version_minor": 0
      },
      "text/plain": [
       "  0%|          | 0/10000 [00:00<?, ?it/s]"
      ]
     },
     "metadata": {},
     "output_type": "display_data"
    },
    {
     "name": "stdout",
     "output_type": "stream",
     "text": [
      "\n",
      " Early Stopping / epoch: 2194 loss: 0.025386\n",
      "----------------------------------------------------------------------------------------------------------\n",
      "lr: 1e-05  patience: 50  num_layers: 4  batch_size: 64  hidden_size: 8  dropout: 0.5 criterion: <function criterion3 at 0x000001C7862F7880>\n"
     ]
    },
    {
     "data": {
      "application/vnd.jupyter.widget-view+json": {
       "model_id": "2bc1d9421b7843ac909c10be0f177c42",
       "version_major": 2,
       "version_minor": 0
      },
      "text/plain": [
       "  0%|          | 0/10000 [00:00<?, ?it/s]"
      ]
     },
     "metadata": {},
     "output_type": "display_data"
    },
    {
     "name": "stdout",
     "output_type": "stream",
     "text": [
      "\n",
      " Early Stopping / epoch: 1830 loss: 0.004816\n",
      "----------------------------------------------------------------------------------------------------------\n",
      "lr: 1e-05  patience: 50  num_layers: 4  batch_size: 64  hidden_size: 16  dropout: 0.25 criterion: MSELoss()\n"
     ]
    },
    {
     "data": {
      "application/vnd.jupyter.widget-view+json": {
       "model_id": "7e24b71a90b44b24b9c47910172048b2",
       "version_major": 2,
       "version_minor": 0
      },
      "text/plain": [
       "  0%|          | 0/10000 [00:00<?, ?it/s]"
      ]
     },
     "metadata": {},
     "output_type": "display_data"
    },
    {
     "name": "stdout",
     "output_type": "stream",
     "text": [
      "\n",
      " Early Stopping / epoch: 1421 loss: 0.002357\n",
      "----------------------------------------------------------------------------------------------------------\n",
      "lr: 1e-05  patience: 50  num_layers: 4  batch_size: 64  hidden_size: 16  dropout: 0.25 criterion: <function criterion2 at 0x000001C7862F77F0>\n"
     ]
    },
    {
     "data": {
      "application/vnd.jupyter.widget-view+json": {
       "model_id": "38bc66349a1d46f09971380fcae4721a",
       "version_major": 2,
       "version_minor": 0
      },
      "text/plain": [
       "  0%|          | 0/10000 [00:00<?, ?it/s]"
      ]
     },
     "metadata": {},
     "output_type": "display_data"
    },
    {
     "name": "stdout",
     "output_type": "stream",
     "text": [
      "\n",
      " Early Stopping / epoch: 1749 loss: 0.015729\n",
      "----------------------------------------------------------------------------------------------------------\n",
      "lr: 1e-05  patience: 50  num_layers: 4  batch_size: 64  hidden_size: 16  dropout: 0.25 criterion: <function criterion3 at 0x000001C7862F7880>\n"
     ]
    },
    {
     "data": {
      "application/vnd.jupyter.widget-view+json": {
       "model_id": "1dcb0a4a8d0d48a8b7adbbbb36dea335",
       "version_major": 2,
       "version_minor": 0
      },
      "text/plain": [
       "  0%|          | 0/10000 [00:00<?, ?it/s]"
      ]
     },
     "metadata": {},
     "output_type": "display_data"
    },
    {
     "name": "stdout",
     "output_type": "stream",
     "text": [
      "\n",
      " Early Stopping / epoch: 1250 loss: 0.004246\n",
      "----------------------------------------------------------------------------------------------------------\n",
      "lr: 1e-05  patience: 50  num_layers: 4  batch_size: 64  hidden_size: 16  dropout: 0.5 criterion: MSELoss()\n"
     ]
    },
    {
     "data": {
      "application/vnd.jupyter.widget-view+json": {
       "model_id": "08b2d162bf3c49d48bfe386517e680f5",
       "version_major": 2,
       "version_minor": 0
      },
      "text/plain": [
       "  0%|          | 0/10000 [00:00<?, ?it/s]"
      ]
     },
     "metadata": {},
     "output_type": "display_data"
    },
    {
     "name": "stdout",
     "output_type": "stream",
     "text": [
      "\n",
      " Early Stopping / epoch: 1333 loss: 0.005385\n",
      "----------------------------------------------------------------------------------------------------------\n",
      "lr: 1e-05  patience: 50  num_layers: 4  batch_size: 64  hidden_size: 16  dropout: 0.5 criterion: <function criterion2 at 0x000001C7862F77F0>\n"
     ]
    },
    {
     "data": {
      "application/vnd.jupyter.widget-view+json": {
       "model_id": "ef17b54f301c42ffa07a4eb860a9c263",
       "version_major": 2,
       "version_minor": 0
      },
      "text/plain": [
       "  0%|          | 0/10000 [00:00<?, ?it/s]"
      ]
     },
     "metadata": {},
     "output_type": "display_data"
    },
    {
     "name": "stdout",
     "output_type": "stream",
     "text": [
      "\n",
      " Early Stopping / epoch: 1543 loss: 0.018352\n",
      "----------------------------------------------------------------------------------------------------------\n",
      "lr: 1e-05  patience: 50  num_layers: 4  batch_size: 64  hidden_size: 16  dropout: 0.5 criterion: <function criterion3 at 0x000001C7862F7880>\n"
     ]
    },
    {
     "data": {
      "application/vnd.jupyter.widget-view+json": {
       "model_id": "f55aa3ad9e604d448caf314326b30e35",
       "version_major": 2,
       "version_minor": 0
      },
      "text/plain": [
       "  0%|          | 0/10000 [00:00<?, ?it/s]"
      ]
     },
     "metadata": {},
     "output_type": "display_data"
    },
    {
     "name": "stdout",
     "output_type": "stream",
     "text": [
      "\n",
      " Early Stopping / epoch: 1041 loss: 0.003420\n",
      "----------------------------------------------------------------------------------------------------------\n",
      "lr: 1e-05  patience: 50  num_layers: 4  batch_size: 64  hidden_size: 32  dropout: 0.25 criterion: MSELoss()\n"
     ]
    },
    {
     "data": {
      "application/vnd.jupyter.widget-view+json": {
       "model_id": "0f262b32e6c64e609f0aea6db9a84131",
       "version_major": 2,
       "version_minor": 0
      },
      "text/plain": [
       "  0%|          | 0/10000 [00:00<?, ?it/s]"
      ]
     },
     "metadata": {},
     "output_type": "display_data"
    },
    {
     "name": "stdout",
     "output_type": "stream",
     "text": [
      "\n",
      " Early Stopping / epoch: 1285 loss: 0.001098\n",
      "----------------------------------------------------------------------------------------------------------\n",
      "lr: 1e-05  patience: 50  num_layers: 4  batch_size: 64  hidden_size: 32  dropout: 0.25 criterion: <function criterion2 at 0x000001C7862F77F0>\n"
     ]
    },
    {
     "data": {
      "application/vnd.jupyter.widget-view+json": {
       "model_id": "c2ec31fed9514bf782e10987dd411e43",
       "version_major": 2,
       "version_minor": 0
      },
      "text/plain": [
       "  0%|          | 0/10000 [00:00<?, ?it/s]"
      ]
     },
     "metadata": {},
     "output_type": "display_data"
    },
    {
     "name": "stdout",
     "output_type": "stream",
     "text": [
      "\n",
      " Early Stopping / epoch: 997 loss: 0.013421\n",
      "----------------------------------------------------------------------------------------------------------\n",
      "lr: 1e-05  patience: 50  num_layers: 4  batch_size: 64  hidden_size: 32  dropout: 0.25 criterion: <function criterion3 at 0x000001C7862F7880>\n"
     ]
    },
    {
     "data": {
      "application/vnd.jupyter.widget-view+json": {
       "model_id": "9327843e9f5e43fbbf3e4ef1ae1db0ab",
       "version_major": 2,
       "version_minor": 0
      },
      "text/plain": [
       "  0%|          | 0/10000 [00:00<?, ?it/s]"
      ]
     },
     "metadata": {},
     "output_type": "display_data"
    },
    {
     "name": "stdout",
     "output_type": "stream",
     "text": [
      "\n",
      " Early Stopping / epoch: 1170 loss: 0.002333\n",
      "----------------------------------------------------------------------------------------------------------\n",
      "lr: 1e-05  patience: 50  num_layers: 4  batch_size: 64  hidden_size: 32  dropout: 0.5 criterion: MSELoss()\n"
     ]
    },
    {
     "data": {
      "application/vnd.jupyter.widget-view+json": {
       "model_id": "b751a00fe35446e8a8828a73851e2d4d",
       "version_major": 2,
       "version_minor": 0
      },
      "text/plain": [
       "  0%|          | 0/10000 [00:00<?, ?it/s]"
      ]
     },
     "metadata": {},
     "output_type": "display_data"
    },
    {
     "name": "stdout",
     "output_type": "stream",
     "text": [
      "\n",
      " Early Stopping / epoch: 975 loss: 0.001772\n",
      "----------------------------------------------------------------------------------------------------------\n",
      "lr: 1e-05  patience: 50  num_layers: 4  batch_size: 64  hidden_size: 32  dropout: 0.5 criterion: <function criterion2 at 0x000001C7862F77F0>\n"
     ]
    },
    {
     "data": {
      "application/vnd.jupyter.widget-view+json": {
       "model_id": "ca80467b07e2442bb20ad978dfdab813",
       "version_major": 2,
       "version_minor": 0
      },
      "text/plain": [
       "  0%|          | 0/10000 [00:00<?, ?it/s]"
      ]
     },
     "metadata": {},
     "output_type": "display_data"
    },
    {
     "name": "stdout",
     "output_type": "stream",
     "text": [
      "\n",
      " Early Stopping / epoch: 1104 loss: 0.013380\n",
      "----------------------------------------------------------------------------------------------------------\n",
      "lr: 1e-05  patience: 50  num_layers: 4  batch_size: 64  hidden_size: 32  dropout: 0.5 criterion: <function criterion3 at 0x000001C7862F7880>\n"
     ]
    },
    {
     "data": {
      "application/vnd.jupyter.widget-view+json": {
       "model_id": "5367df965d62421c8e9ddf3e7b037931",
       "version_major": 2,
       "version_minor": 0
      },
      "text/plain": [
       "  0%|          | 0/10000 [00:00<?, ?it/s]"
      ]
     },
     "metadata": {},
     "output_type": "display_data"
    },
    {
     "name": "stdout",
     "output_type": "stream",
     "text": [
      "\n",
      " Early Stopping / epoch: 917 loss: 0.002531\n",
      "----------------------------------------------------------------------------------------------------------\n",
      "lr: 1e-05  patience: 50  num_layers: 4  batch_size: 128  hidden_size: 8  dropout: 0.25 criterion: MSELoss()\n"
     ]
    },
    {
     "data": {
      "application/vnd.jupyter.widget-view+json": {
       "model_id": "d04c613f6fab42c5b22efef995976f52",
       "version_major": 2,
       "version_minor": 0
      },
      "text/plain": [
       "  0%|          | 0/10000 [00:00<?, ?it/s]"
      ]
     },
     "metadata": {},
     "output_type": "display_data"
    },
    {
     "name": "stdout",
     "output_type": "stream",
     "text": [
      "\n",
      " Early Stopping / epoch: 1034 loss: 0.010331\n",
      "----------------------------------------------------------------------------------------------------------\n",
      "lr: 1e-05  patience: 50  num_layers: 4  batch_size: 128  hidden_size: 8  dropout: 0.25 criterion: <function criterion2 at 0x000001C7862F77F0>\n"
     ]
    },
    {
     "data": {
      "application/vnd.jupyter.widget-view+json": {
       "model_id": "427728cdbd834188bc012219066e6293",
       "version_major": 2,
       "version_minor": 0
      },
      "text/plain": [
       "  0%|          | 0/10000 [00:00<?, ?it/s]"
      ]
     },
     "metadata": {},
     "output_type": "display_data"
    },
    {
     "name": "stdout",
     "output_type": "stream",
     "text": [
      "\n",
      " Early Stopping / epoch: 2262 loss: 0.037557\n",
      "----------------------------------------------------------------------------------------------------------\n",
      "lr: 1e-05  patience: 50  num_layers: 4  batch_size: 128  hidden_size: 8  dropout: 0.25 criterion: <function criterion3 at 0x000001C7862F7880>\n"
     ]
    },
    {
     "data": {
      "application/vnd.jupyter.widget-view+json": {
       "model_id": "10abdd84a5f5468b98ec51107dfcea8c",
       "version_major": 2,
       "version_minor": 0
      },
      "text/plain": [
       "  0%|          | 0/10000 [00:00<?, ?it/s]"
      ]
     },
     "metadata": {},
     "output_type": "display_data"
    },
    {
     "name": "stdout",
     "output_type": "stream",
     "text": [
      "\n",
      " Early Stopping / epoch: 1923 loss: 0.004905\n",
      "----------------------------------------------------------------------------------------------------------\n",
      "lr: 1e-05  patience: 50  num_layers: 4  batch_size: 128  hidden_size: 8  dropout: 0.5 criterion: MSELoss()\n"
     ]
    },
    {
     "data": {
      "application/vnd.jupyter.widget-view+json": {
       "model_id": "3f00c88f208c4d838f5fe5d7ae92c6dd",
       "version_major": 2,
       "version_minor": 0
      },
      "text/plain": [
       "  0%|          | 0/10000 [00:00<?, ?it/s]"
      ]
     },
     "metadata": {},
     "output_type": "display_data"
    },
    {
     "name": "stdout",
     "output_type": "stream",
     "text": [
      "\n",
      " Early Stopping / epoch: 1463 loss: 0.010787\n",
      "----------------------------------------------------------------------------------------------------------\n",
      "lr: 1e-05  patience: 50  num_layers: 4  batch_size: 128  hidden_size: 8  dropout: 0.5 criterion: <function criterion2 at 0x000001C7862F77F0>\n"
     ]
    },
    {
     "data": {
      "application/vnd.jupyter.widget-view+json": {
       "model_id": "1d1556356b5449bdbd2fb490dffa9506",
       "version_major": 2,
       "version_minor": 0
      },
      "text/plain": [
       "  0%|          | 0/10000 [00:00<?, ?it/s]"
      ]
     },
     "metadata": {},
     "output_type": "display_data"
    },
    {
     "name": "stdout",
     "output_type": "stream",
     "text": [
      "\n",
      " Early Stopping / epoch: 1950 loss: 0.036476\n",
      "----------------------------------------------------------------------------------------------------------\n",
      "lr: 1e-05  patience: 50  num_layers: 4  batch_size: 128  hidden_size: 8  dropout: 0.5 criterion: <function criterion3 at 0x000001C7862F7880>\n"
     ]
    },
    {
     "data": {
      "application/vnd.jupyter.widget-view+json": {
       "model_id": "2ba1140ced904273ab78593140a4a7ae",
       "version_major": 2,
       "version_minor": 0
      },
      "text/plain": [
       "  0%|          | 0/10000 [00:00<?, ?it/s]"
      ]
     },
     "metadata": {},
     "output_type": "display_data"
    },
    {
     "name": "stdout",
     "output_type": "stream",
     "text": [
      "\n",
      " Early Stopping / epoch: 1864 loss: 0.004850\n",
      "----------------------------------------------------------------------------------------------------------\n",
      "lr: 1e-05  patience: 50  num_layers: 4  batch_size: 128  hidden_size: 16  dropout: 0.25 criterion: MSELoss()\n"
     ]
    },
    {
     "data": {
      "application/vnd.jupyter.widget-view+json": {
       "model_id": "957a7117834347758775fc73cbca9526",
       "version_major": 2,
       "version_minor": 0
      },
      "text/plain": [
       "  0%|          | 0/10000 [00:00<?, ?it/s]"
      ]
     },
     "metadata": {},
     "output_type": "display_data"
    },
    {
     "name": "stdout",
     "output_type": "stream",
     "text": [
      "\n",
      " Early Stopping / epoch: 1215 loss: 0.004951\n",
      "----------------------------------------------------------------------------------------------------------\n",
      "lr: 1e-05  patience: 50  num_layers: 4  batch_size: 128  hidden_size: 16  dropout: 0.25 criterion: <function criterion2 at 0x000001C7862F77F0>\n"
     ]
    },
    {
     "data": {
      "application/vnd.jupyter.widget-view+json": {
       "model_id": "d7a1767fea524241953fca76d1864346",
       "version_major": 2,
       "version_minor": 0
      },
      "text/plain": [
       "  0%|          | 0/10000 [00:00<?, ?it/s]"
      ]
     },
     "metadata": {},
     "output_type": "display_data"
    },
    {
     "name": "stdout",
     "output_type": "stream",
     "text": [
      "\n",
      " Early Stopping / epoch: 2116 loss: 0.017576\n",
      "----------------------------------------------------------------------------------------------------------\n",
      "lr: 1e-05  patience: 50  num_layers: 4  batch_size: 128  hidden_size: 16  dropout: 0.25 criterion: <function criterion3 at 0x000001C7862F7880>\n"
     ]
    },
    {
     "data": {
      "application/vnd.jupyter.widget-view+json": {
       "model_id": "2a88cf987f5d4a9383a9f7d350e3b0db",
       "version_major": 2,
       "version_minor": 0
      },
      "text/plain": [
       "  0%|          | 0/10000 [00:00<?, ?it/s]"
      ]
     },
     "metadata": {},
     "output_type": "display_data"
    },
    {
     "name": "stdout",
     "output_type": "stream",
     "text": [
      "\n",
      " Early Stopping / epoch: 1694 loss: 0.003927\n",
      "----------------------------------------------------------------------------------------------------------\n",
      "lr: 1e-05  patience: 50  num_layers: 4  batch_size: 128  hidden_size: 16  dropout: 0.5 criterion: MSELoss()\n"
     ]
    },
    {
     "data": {
      "application/vnd.jupyter.widget-view+json": {
       "model_id": "0b667ddabf3f4ed3a6a17955970ae3cc",
       "version_major": 2,
       "version_minor": 0
      },
      "text/plain": [
       "  0%|          | 0/10000 [00:00<?, ?it/s]"
      ]
     },
     "metadata": {},
     "output_type": "display_data"
    },
    {
     "name": "stdout",
     "output_type": "stream",
     "text": [
      "\n",
      " Early Stopping / epoch: 1306 loss: 0.009171\n",
      "----------------------------------------------------------------------------------------------------------\n",
      "lr: 1e-05  patience: 50  num_layers: 4  batch_size: 128  hidden_size: 16  dropout: 0.5 criterion: <function criterion2 at 0x000001C7862F77F0>\n"
     ]
    },
    {
     "data": {
      "application/vnd.jupyter.widget-view+json": {
       "model_id": "3ceff77c2b6e4ce9b49f1e81ab33a07a",
       "version_major": 2,
       "version_minor": 0
      },
      "text/plain": [
       "  0%|          | 0/10000 [00:00<?, ?it/s]"
      ]
     },
     "metadata": {},
     "output_type": "display_data"
    },
    {
     "name": "stdout",
     "output_type": "stream",
     "text": [
      "\n",
      " Early Stopping / epoch: 2137 loss: 0.022155\n",
      "----------------------------------------------------------------------------------------------------------\n",
      "lr: 1e-05  patience: 50  num_layers: 4  batch_size: 128  hidden_size: 16  dropout: 0.5 criterion: <function criterion3 at 0x000001C7862F7880>\n"
     ]
    },
    {
     "data": {
      "application/vnd.jupyter.widget-view+json": {
       "model_id": "2dd5d601e4b7425e8119025682f230d8",
       "version_major": 2,
       "version_minor": 0
      },
      "text/plain": [
       "  0%|          | 0/10000 [00:00<?, ?it/s]"
      ]
     },
     "metadata": {},
     "output_type": "display_data"
    },
    {
     "name": "stdout",
     "output_type": "stream",
     "text": [
      "\n",
      " Early Stopping / epoch: 3391 loss: 0.002878\n",
      "----------------------------------------------------------------------------------------------------------\n",
      "lr: 1e-05  patience: 50  num_layers: 4  batch_size: 128  hidden_size: 32  dropout: 0.25 criterion: MSELoss()\n"
     ]
    },
    {
     "data": {
      "application/vnd.jupyter.widget-view+json": {
       "model_id": "bce54a31f0b84ecf9ec06567aa25271b",
       "version_major": 2,
       "version_minor": 0
      },
      "text/plain": [
       "  0%|          | 0/10000 [00:00<?, ?it/s]"
      ]
     },
     "metadata": {},
     "output_type": "display_data"
    },
    {
     "name": "stdout",
     "output_type": "stream",
     "text": [
      "\n",
      " Early Stopping / epoch: 1511 loss: 0.001317\n",
      "----------------------------------------------------------------------------------------------------------\n",
      "lr: 1e-05  patience: 50  num_layers: 4  batch_size: 128  hidden_size: 32  dropout: 0.25 criterion: <function criterion2 at 0x000001C7862F77F0>\n"
     ]
    },
    {
     "data": {
      "application/vnd.jupyter.widget-view+json": {
       "model_id": "aeb4350f8ac44b3bb5abd92f67783f51",
       "version_major": 2,
       "version_minor": 0
      },
      "text/plain": [
       "  0%|          | 0/10000 [00:00<?, ?it/s]"
      ]
     },
     "metadata": {},
     "output_type": "display_data"
    },
    {
     "name": "stdout",
     "output_type": "stream",
     "text": [
      "\n",
      " Early Stopping / epoch: 1800 loss: 0.013396\n",
      "----------------------------------------------------------------------------------------------------------\n",
      "lr: 1e-05  patience: 50  num_layers: 4  batch_size: 128  hidden_size: 32  dropout: 0.25 criterion: <function criterion3 at 0x000001C7862F7880>\n"
     ]
    },
    {
     "data": {
      "application/vnd.jupyter.widget-view+json": {
       "model_id": "a1307c1af8934d8ea5565da7932163f7",
       "version_major": 2,
       "version_minor": 0
      },
      "text/plain": [
       "  0%|          | 0/10000 [00:00<?, ?it/s]"
      ]
     },
     "metadata": {},
     "output_type": "display_data"
    },
    {
     "name": "stdout",
     "output_type": "stream",
     "text": [
      "\n",
      " Early Stopping / epoch: 1737 loss: 0.002108\n",
      "----------------------------------------------------------------------------------------------------------\n",
      "lr: 1e-05  patience: 50  num_layers: 4  batch_size: 128  hidden_size: 32  dropout: 0.5 criterion: MSELoss()\n"
     ]
    },
    {
     "data": {
      "application/vnd.jupyter.widget-view+json": {
       "model_id": "a95c7591655944e291cbfcef94583884",
       "version_major": 2,
       "version_minor": 0
      },
      "text/plain": [
       "  0%|          | 0/10000 [00:00<?, ?it/s]"
      ]
     },
     "metadata": {},
     "output_type": "display_data"
    },
    {
     "name": "stdout",
     "output_type": "stream",
     "text": [
      "\n",
      " Early Stopping / epoch: 1247 loss: 0.002465\n",
      "----------------------------------------------------------------------------------------------------------\n",
      "lr: 1e-05  patience: 50  num_layers: 4  batch_size: 128  hidden_size: 32  dropout: 0.5 criterion: <function criterion2 at 0x000001C7862F77F0>\n"
     ]
    },
    {
     "data": {
      "application/vnd.jupyter.widget-view+json": {
       "model_id": "629e7957e7c04fddbb4990d823c50228",
       "version_major": 2,
       "version_minor": 0
      },
      "text/plain": [
       "  0%|          | 0/10000 [00:00<?, ?it/s]"
      ]
     },
     "metadata": {},
     "output_type": "display_data"
    },
    {
     "name": "stdout",
     "output_type": "stream",
     "text": [
      "\n",
      " Early Stopping / epoch: 2453 loss: 0.015052\n",
      "----------------------------------------------------------------------------------------------------------\n",
      "lr: 1e-05  patience: 50  num_layers: 4  batch_size: 128  hidden_size: 32  dropout: 0.5 criterion: <function criterion3 at 0x000001C7862F7880>\n"
     ]
    },
    {
     "data": {
      "application/vnd.jupyter.widget-view+json": {
       "model_id": "d625a9c578ab4b90b6fc18b36cc266a8",
       "version_major": 2,
       "version_minor": 0
      },
      "text/plain": [
       "  0%|          | 0/10000 [00:00<?, ?it/s]"
      ]
     },
     "metadata": {},
     "output_type": "display_data"
    },
    {
     "name": "stdout",
     "output_type": "stream",
     "text": [
      "\n",
      " Early Stopping / epoch: 1352 loss: 0.002606\n"
     ]
    }
   ],
   "source": [
    "criterion = nn.MSELoss()\n",
    "\n",
    "input_size = 3\n",
    "sequence_length = 60\n",
    "num_epochs = 10000\n",
    "\n",
    "df = Prepare_df.processing(data, 'stdDay', 'dailyCnt')\n",
    "\n",
    "x = df.iloc[:, 0:]\n",
    "y = df.iloc[:,:1]\n",
    "\n",
    "ms = MinMaxScaler()\n",
    "ss = StandardScaler()\n",
    "\n",
    "ss.fit(x)\n",
    "ms.fit(y)\n",
    "\n",
    "mape_min = np.inf\n",
    "best_model = {}\n",
    "\n",
    "for hyperparameter in tqdm(hyperparameter_dict.values(), desc = '서울_seq2seq_RNN', position = 0):\n",
    "    lr = hyperparameter[0]\n",
    "    patience = hyperparameter[1]\n",
    "    num_layers = hyperparameter[2]\n",
    "    batch_size = hyperparameter[3]\n",
    "    hidden_size = hyperparameter[4]\n",
    "    dropout = hyperparameter[5]\n",
    "    criterion = hyperparameter[6]\n",
    "    print('----------------------------------------------------------------------------------------------------------')\n",
    "    print('lr:', lr, ' patience:', patience, ' num_layers:', num_layers, \n",
    "          ' batch_size:', batch_size, ' hidden_size:', hidden_size, ' dropout:', dropout, 'criterion:', criterion)\n",
    "    \n",
    "    x, y, x_ss, y_ms, train_loader, test_loader = Prepare_df.split_data(df, 800, 60, 7, batch_size, 'mtm')\n",
    "    \n",
    "\n",
    "    model = RNN_encoder_decoder(input_size = input_size,\n",
    "                                hidden_size = hidden_size,\n",
    "                                num_layers = num_layers, \n",
    "                                dropout = dropout, \n",
    "                                device = device).to(device)\n",
    "\n",
    "    optimizer = Adam(model.parameters(), lr = lr)\n",
    "    \n",
    "    loss_list, model, epoch = Trainer.Many_to_Many(train_loader, \n",
    "                                                   test_loader, \n",
    "                                                   model, \n",
    "                                                   criterion, \n",
    "                                                   optimizer, \n",
    "                                                   num_epochs, \n",
    "                                                   patience,\n",
    "                                                   device)\n",
    "    \n",
    "    label_y, predicted, first_label_y, first_predicted = predict_mtm(model, df, x_ss, y_ms, 1151, 7, 0.5, device)\n",
    "    \n",
    "    if mape_min > mape(label_y+1, predicted):\n",
    "        mape_min = mape(label_y+1, predicted)\n",
    "        best_model['seq2seq_RNN'] = [mape_min, model, loss_list, epoch, lr, patience, \n",
    "                                     num_layers, batch_size, hidden_size, dropout, criterion]"
   ]
  },
  {
   "cell_type": "code",
   "execution_count": 5,
   "id": "b8c52db3",
   "metadata": {
    "ExecuteTime": {
     "end_time": "2023-06-04T05:36:59.156010Z",
     "start_time": "2023-06-04T05:36:59.142047Z"
    }
   },
   "outputs": [
    {
     "data": {
      "text/plain": [
       "{'seq2seq_RNN': [93.43019127845764,\n",
       "  RNN_encoder_decoder(\n",
       "    (RNN_encoder): RNN_encoder(\n",
       "      (rnn): RNN(3, 8, num_layers=2, batch_first=True, dropout=0.5)\n",
       "    )\n",
       "    (RNN_decoder): RNN_decoder(\n",
       "      (rnn): RNN(3, 8, num_layers=2, batch_first=True, dropout=0.5)\n",
       "      (linear): Linear(in_features=8, out_features=1, bias=True)\n",
       "    )\n",
       "  ),\n",
       "  [0.22080969597612107,\n",
       "   0.21877326497009822,\n",
       "   0.2143122319664274,\n",
       "   0.2152350161756788,\n",
       "   0.22052446007728577,\n",
       "   0.21896115371159144,\n",
       "   0.21806269245488302,\n",
       "   0.2288370600768498,\n",
       "   0.210319812808718,\n",
       "   0.2188491608415331,\n",
       "   0.20796068225588119,\n",
       "   0.21912255883216858,\n",
       "   0.20673667745930807,\n",
       "   0.21598186663218907,\n",
       "   0.2050958914416177,\n",
       "   0.21170209561075484,\n",
       "   0.21080171210425241,\n",
       "   0.21809078327247075,\n",
       "   0.2025265438216073,\n",
       "   0.207292018192155,\n",
       "   0.1994761824607849,\n",
       "   0.2086122568164553,\n",
       "   0.20366336618150985,\n",
       "   0.20191524284226553,\n",
       "   0.2005437740257808,\n",
       "   0.20585820930344717,\n",
       "   0.1920906071152006,\n",
       "   0.2007308793919427,\n",
       "   0.20055014959403447,\n",
       "   0.19833550708634512,\n",
       "   0.20491025277546474,\n",
       "   0.19635340571403503,\n",
       "   0.2017910352775029,\n",
       "   0.1978606049503599,\n",
       "   0.1900178917816707,\n",
       "   0.18788019248417445,\n",
       "   0.19093674847057887,\n",
       "   0.18308686358588083,\n",
       "   0.19201354256698064,\n",
       "   0.1850278228521347,\n",
       "   0.2158990055322647,\n",
       "   0.1931202177490507,\n",
       "   0.18677134811878204,\n",
       "   0.18829675018787384,\n",
       "   0.19282923213073186,\n",
       "   0.19073576373713358,\n",
       "   0.1955789476633072,\n",
       "   0.18370959162712097,\n",
       "   0.18382217628615244,\n",
       "   0.18224003272397177,\n",
       "   0.1790488064289093,\n",
       "   0.19113879331520625,\n",
       "   0.18163953295775823,\n",
       "   0.17937014358384268,\n",
       "   0.1794135080916541,\n",
       "   0.18364115059375763,\n",
       "   0.1825633602482932,\n",
       "   0.18112146428653172,\n",
       "   0.18409910585199082,\n",
       "   0.17952238661902292,\n",
       "   0.17342496131147658,\n",
       "   0.17604568813528335,\n",
       "   0.17917582179818833,\n",
       "   0.17644081371171133,\n",
       "   0.17481176342282975,\n",
       "   0.1661984920501709,\n",
       "   0.17261197524411337,\n",
       "   0.1743396988936833,\n",
       "   0.1659563864980425,\n",
       "   0.16151164684976851,\n",
       "   0.16548021563461848,\n",
       "   0.17073932928698404,\n",
       "   0.17245290960584367,\n",
       "   0.1657716908625194,\n",
       "   0.15934855384486063,\n",
       "   0.16866865115506308,\n",
       "   0.16429899632930756,\n",
       "   0.16298888197966985,\n",
       "   0.17043946470533097,\n",
       "   0.15890581692968095,\n",
       "   0.1687856721026557,\n",
       "   0.16643916070461273,\n",
       "   0.16512419070516313,\n",
       "   0.16006680684430258,\n",
       "   0.1573431364127568,\n",
       "   0.15381681067602976,\n",
       "   0.15549618005752563,\n",
       "   0.16032311746052333,\n",
       "   0.1586499022586005,\n",
       "   0.15480563044548035,\n",
       "   0.15446941341672624,\n",
       "   0.15594997150557383,\n",
       "   0.1568604005234582,\n",
       "   0.15745563166482107,\n",
       "   0.15524986279862268,\n",
       "   0.1534692943096161,\n",
       "   0.14821126844201768,\n",
       "   0.15603947639465332,\n",
       "   0.15519352470125472,\n",
       "   0.1549111647265298,\n",
       "   0.15454465789454325,\n",
       "   0.1497916259935924,\n",
       "   0.1505447349378041,\n",
       "   0.1468061081000737,\n",
       "   0.15108989817755564,\n",
       "   0.15313926339149475,\n",
       "   0.147691405245236,\n",
       "   0.14148815082652227,\n",
       "   0.1436954757996968,\n",
       "   0.14559161875929152,\n",
       "   0.1480097281081336,\n",
       "   0.14415343425103597,\n",
       "   0.15109076031616755,\n",
       "   0.1409921475819179,\n",
       "   0.14432182695184434,\n",
       "   0.14052401908806392,\n",
       "   0.14065805609737123,\n",
       "   0.14372418927294867,\n",
       "   0.13840193727186748,\n",
       "   0.14352249779871531,\n",
       "   0.1485754389848028,\n",
       "   0.13973074619259154,\n",
       "   0.14662289406572068,\n",
       "   0.14101278569017137,\n",
       "   0.14318101746695383,\n",
       "   0.13919783915792192,\n",
       "   0.1363707972424371,\n",
       "   0.13275419494935445,\n",
       "   0.13052334636449814,\n",
       "   0.14097882700817926,\n",
       "   0.1366386083619935,\n",
       "   0.13894308997052057,\n",
       "   0.1294208179627146,\n",
       "   0.13300285062619618,\n",
       "   0.1375659161380359,\n",
       "   0.13734626663582666,\n",
       "   0.13104273485285894,\n",
       "   0.12855188229254313,\n",
       "   0.13016285747289658,\n",
       "   0.1300665055002485,\n",
       "   0.1282675340771675,\n",
       "   0.1310296133160591,\n",
       "   0.1323803322655814,\n",
       "   0.130817354789802,\n",
       "   0.12766754733664648,\n",
       "   0.1356860441820962,\n",
       "   0.12815871089696884,\n",
       "   0.13023064604827336,\n",
       "   0.12527757350887572,\n",
       "   0.12674975501639502,\n",
       "   0.12845513969659805,\n",
       "   0.12443713630948748,\n",
       "   0.12425544538668223,\n",
       "   0.12662901410034724,\n",
       "   0.1242408539567675,\n",
       "   0.11984621626990181,\n",
       "   0.12137703384671893,\n",
       "   0.1240195387176105,\n",
       "   0.11958499039922442,\n",
       "   0.12434295458453042,\n",
       "   0.12220354165349688,\n",
       "   0.12383274414709636,\n",
       "   0.11796841663973671,\n",
       "   0.12066315114498138,\n",
       "   0.11732571572065353,\n",
       "   0.12048054380076272,\n",
       "   0.11818162671157292,\n",
       "   0.1194385683962277,\n",
       "   0.11790568381547928,\n",
       "   0.11951340415648051,\n",
       "   0.11876045380319868,\n",
       "   0.11764030584267207,\n",
       "   0.11447794096810478,\n",
       "   0.1155989042350224,\n",
       "   0.11871130870921272,\n",
       "   0.1129002720117569,\n",
       "   0.12079393225056785,\n",
       "   0.1199047320655414,\n",
       "   0.11398230812379292,\n",
       "   0.11383458120482308,\n",
       "   0.11486095935106277,\n",
       "   0.11827110392706734,\n",
       "   0.11494433773415429,\n",
       "   0.1141347980925015,\n",
       "   0.11664249854428428,\n",
       "   0.11445121786424092,\n",
       "   0.11064274821962629,\n",
       "   0.11134672164916992,\n",
       "   0.11254282402140754,\n",
       "   0.11102334409952164,\n",
       "   0.11446010853563036,\n",
       "   0.1074635705777577,\n",
       "   0.1102721957223756,\n",
       "   0.11038017379386085,\n",
       "   0.10911960580519267,\n",
       "   0.1144665458372661,\n",
       "   0.11520854383707047,\n",
       "   0.10705313192946571,\n",
       "   0.10848676626171384,\n",
       "   0.10868580426488604,\n",
       "   0.10711320702518735,\n",
       "   0.11114568369729179,\n",
       "   0.10716821891920907,\n",
       "   0.11108996719121933,\n",
       "   0.10891890738691602,\n",
       "   0.10794007139546531,\n",
       "   0.10842955644641604,\n",
       "   0.11177198588848114,\n",
       "   0.1092168635555676,\n",
       "   0.10581011644431523,\n",
       "   0.1056668439081737,\n",
       "   0.10541163917098727,\n",
       "   0.10431153114352908,\n",
       "   0.10342666719641004,\n",
       "   0.10968757527215141,\n",
       "   0.1059409614120211,\n",
       "   0.10452582048518318,\n",
       "   0.10187523705618722,\n",
       "   0.10653778804200036,\n",
       "   0.10384364426136017,\n",
       "   0.10400439692395073,\n",
       "   0.10104367882013321,\n",
       "   0.10624268757445472,\n",
       "   0.10515028664043971,\n",
       "   0.0979498273559979,\n",
       "   0.10209244915417262,\n",
       "   0.10375762624400002,\n",
       "   0.09890432762248176,\n",
       "   0.09891943314245769,\n",
       "   0.10024235929761614,\n",
       "   0.10597612602370125,\n",
       "   0.10500533027308327,\n",
       "   0.10463868294443403,\n",
       "   0.10479278010981423,\n",
       "   0.10168512165546417,\n",
       "   0.09805208444595337,\n",
       "   0.10102481714316777,\n",
       "   0.10210155482803072,\n",
       "   0.10196984027113233,\n",
       "   0.10143094722713743,\n",
       "   0.10016257635184697,\n",
       "   0.09981400519609451,\n",
       "   0.10303016326257161,\n",
       "   0.09997881203889847,\n",
       "   0.09815919612135206,\n",
       "   0.10240430810621806],\n",
       "  245,\n",
       "  1e-05,\n",
       "  20,\n",
       "  2,\n",
       "  128,\n",
       "  8,\n",
       "  0.5,\n",
       "  <function utils.criterion2(actual, predict)>]}"
      ]
     },
     "execution_count": 5,
     "metadata": {},
     "output_type": "execute_result"
    }
   ],
   "source": [
    "best_model"
   ]
  },
  {
   "cell_type": "code",
   "execution_count": 6,
   "id": "d3432182",
   "metadata": {
    "ExecuteTime": {
     "end_time": "2023-06-04T05:36:59.171967Z",
     "start_time": "2023-06-04T05:36:59.159002Z"
    }
   },
   "outputs": [],
   "source": [
    "save_model(best_model['seq2seq_RNN'][1].state_dict(), \"model/Infected/seq2seq_RNN.pth\")\n",
    "save_hyperparameter(best_model['seq2seq_RNN'][3:], \"hyperparameter/Infected/seq2seq_RNN.pkl\")"
   ]
  },
  {
   "cell_type": "code",
   "execution_count": 7,
   "id": "06d79eb2",
   "metadata": {
    "ExecuteTime": {
     "end_time": "2023-06-04T05:36:59.441113Z",
     "start_time": "2023-06-04T05:36:59.175957Z"
    },
    "scrolled": true
   },
   "outputs": [
    {
     "data": {
      "text/plain": [
       "[<matplotlib.lines.Line2D at 0x1c839fb1990>]"
      ]
     },
     "execution_count": 7,
     "metadata": {},
     "output_type": "execute_result"
    },
    {
     "data": {
      "image/png": "[encoded data removed]",
      "text/plain": [
       "<Figure size 640x480 with 1 Axes>"
      ]
     },
     "metadata": {},
     "output_type": "display_data"
    }
   ],
   "source": [
    "plt.plot(best_model['seq2seq_RNN'][2])"
   ]
  },
  {
   "cell_type": "code",
   "execution_count": 8,
   "id": "c0270f26",
   "metadata": {
    "ExecuteTime": {
     "end_time": "2023-06-04T05:36:59.473045Z",
     "start_time": "2023-06-04T05:36:59.444107Z"
    }
   },
   "outputs": [],
   "source": [
    "label_y, predicted, first_label_y, first_predicted = predict_mtm(best_model['seq2seq_RNN'][1], df, x_ss, y_ms, 1151, 7, 0.5, device)"
   ]
  },
  {
   "cell_type": "code",
   "execution_count": 9,
   "id": "3612a0a2",
   "metadata": {
    "ExecuteTime": {
     "end_time": "2023-06-04T05:36:59.696450Z",
     "start_time": "2023-06-04T05:36:59.476044Z"
    }
   },
   "outputs": [
    {
     "name": "stdout",
     "output_type": "stream",
     "text": [
      "93.389892578125\n"
     ]
    },
    {
     "data": {
      "image/png": "[encoded data removed]",
      "text/plain": [
       "<Figure size 1000x600 with 1 Axes>"
      ]
     },
     "metadata": {},
     "output_type": "display_data"
    }
   ],
   "source": [
    "print(mape(label_y + 1, predicted))\n",
    "plotting(first_label_y, first_predicted, 800)"
   ]
  },
  {
   "cell_type": "code",
   "execution_count": null,
   "id": "184bd89a",
   "metadata": {},
   "outputs": [],
   "source": []
  },
  {
   "cell_type": "code",
   "execution_count": null,
   "id": "c531a2de",
   "metadata": {},
   "outputs": [],
   "source": []
  },
  {
   "cell_type": "code",
   "execution_count": null,
   "id": "c098189d",
   "metadata": {},
   "outputs": [],
   "source": []
  },
  {
   "cell_type": "code",
   "execution_count": null,
   "id": "c6f6403f",
   "metadata": {},
   "outputs": [],
   "source": []
  },
  {
   "cell_type": "code",
   "execution_count": null,
   "id": "fcb3aa0d",
   "metadata": {},
   "outputs": [],
   "source": []
  },
  {
   "cell_type": "code",
   "execution_count": null,
   "id": "1be82c52",
   "metadata": {},
   "outputs": [],
   "source": []
  },
  {
   "cell_type": "code",
   "execution_count": null,
   "id": "870782e7",
   "metadata": {},
   "outputs": [],
   "source": []
  },
  {
   "cell_type": "code",
   "execution_count": null,
   "id": "06aa1d0f",
   "metadata": {},
   "outputs": [],
   "source": []
  },
  {
   "cell_type": "code",
   "execution_count": null,
   "id": "9049b954",
   "metadata": {},
   "outputs": [],
   "source": []
  },
  {
   "cell_type": "code",
   "execution_count": null,
   "id": "6097f9d5",
   "metadata": {},
   "outputs": [],
   "source": []
  },
  {
   "cell_type": "code",
   "execution_count": null,
   "id": "d3b9f9db",
   "metadata": {},
   "outputs": [],
   "source": []
  }
 ],
 "metadata": {
  "kernelspec": {
   "display_name": "KDA_DA",
   "language": "python",
   "name": "kda_da"
  },
  "language_info": {
   "codemirror_mode": {
    "name": "ipython",
    "version": 3
   },
   "file_extension": ".py",
   "mimetype": "text/x-python",
   "name": "python",
   "nbconvert_exporter": "python",
   "pygments_lexer": "ipython3",
   "version": "3.10.8"
  },
  "toc": {
   "base_numbering": 1,
   "nav_menu": {},
   "number_sections": true,
   "sideBar": true,
   "skip_h1_title": false,
   "title_cell": "Table of Contents",
   "title_sidebar": "Contents",
   "toc_cell": false,
   "toc_position": {},
   "toc_section_display": true,
   "toc_window_display": false
  }
 },
 "nbformat": 4,
 "nbformat_minor": 5
}
