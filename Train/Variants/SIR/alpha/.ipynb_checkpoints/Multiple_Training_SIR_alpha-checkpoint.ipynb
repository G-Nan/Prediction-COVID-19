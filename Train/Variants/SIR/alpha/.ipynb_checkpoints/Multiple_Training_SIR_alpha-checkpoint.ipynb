{
 "cells": [
  {
   "cell_type": "code",
   "execution_count": 1,
   "id": "d97d8d30",
   "metadata": {
    "ExecuteTime": {
     "end_time": "2023-06-14T13:53:25.469351Z",
     "start_time": "2023-06-14T13:53:22.987948Z"
    }
   },
   "outputs": [],
   "source": [
    "import os\n",
    "os.chdir('D:\\\\Gnan\\\\DA\\\\KMU\\\\Prediction-COVID-19')\n",
    "from utils import *\n",
    "from model import *\n",
    "from trainer import *\n",
    "\n",
    "from tqdm.notebook import tqdm\n",
    "from torch.optim.adam import Adam\n",
    "device = torch.device('cuda:0' if torch.cuda.is_available() else 'cpu')\n",
    "\n",
    "import warnings\n",
    "warnings.filterwarnings('ignore')"
   ]
  },
  {
   "cell_type": "code",
   "execution_count": 2,
   "id": "241510fc",
   "metadata": {
    "ExecuteTime": {
     "end_time": "2023-06-14T13:53:25.550138Z",
     "start_time": "2023-06-14T13:53:25.472344Z"
    }
   },
   "outputs": [
    {
     "data": {
      "text/html": [
       "<div>\n",
       "<style scoped>\n",
       "    .dataframe tbody tr th:only-of-type {\n",
       "        vertical-align: middle;\n",
       "    }\n",
       "\n",
       "    .dataframe tbody tr th {\n",
       "        vertical-align: top;\n",
       "    }\n",
       "\n",
       "    .dataframe thead th {\n",
       "        text-align: right;\n",
       "    }\n",
       "</style>\n",
       "<table border=\"1\" class=\"dataframe\">\n",
       "  <thead>\n",
       "    <tr style=\"text-align: right;\">\n",
       "      <th></th>\n",
       "      <th>stdDay</th>\n",
       "      <th>Susceptible</th>\n",
       "      <th>Alpha_Infected</th>\n",
       "      <th>Alpha_Recovered</th>\n",
       "      <th>Alpha_Dead</th>\n",
       "      <th>Alpha_alpha</th>\n",
       "      <th>Alpha_beta</th>\n",
       "      <th>Alpha_gamma</th>\n",
       "      <th>Delta_Infected</th>\n",
       "      <th>Delta_Recovered</th>\n",
       "      <th>Delta_Dead</th>\n",
       "      <th>Delta_alpha</th>\n",
       "      <th>Delta_beta</th>\n",
       "      <th>Delta_gamma</th>\n",
       "    </tr>\n",
       "  </thead>\n",
       "  <tbody>\n",
       "    <tr>\n",
       "      <th>0</th>\n",
       "      <td>2021-04-12</td>\n",
       "      <td>2380065</td>\n",
       "      <td>39.65</td>\n",
       "      <td>163.36</td>\n",
       "      <td>2.00</td>\n",
       "      <td>0.059242</td>\n",
       "      <td>0.058260</td>\n",
       "      <td>0.005296</td>\n",
       "      <td>0.32</td>\n",
       "      <td>0.00</td>\n",
       "      <td>0.00</td>\n",
       "      <td>0.564647</td>\n",
       "      <td>0.000000</td>\n",
       "      <td>0.0</td>\n",
       "    </tr>\n",
       "    <tr>\n",
       "      <th>1</th>\n",
       "      <td>2021-04-13</td>\n",
       "      <td>2380056</td>\n",
       "      <td>39.47</td>\n",
       "      <td>165.67</td>\n",
       "      <td>2.21</td>\n",
       "      <td>0.072737</td>\n",
       "      <td>0.079807</td>\n",
       "      <td>0.000000</td>\n",
       "      <td>0.50</td>\n",
       "      <td>0.00</td>\n",
       "      <td>0.00</td>\n",
       "      <td>0.441681</td>\n",
       "      <td>0.000000</td>\n",
       "      <td>0.0</td>\n",
       "    </tr>\n",
       "    <tr>\n",
       "      <th>2</th>\n",
       "      <td>2021-04-14</td>\n",
       "      <td>2380045</td>\n",
       "      <td>39.18</td>\n",
       "      <td>168.82</td>\n",
       "      <td>2.21</td>\n",
       "      <td>0.119906</td>\n",
       "      <td>0.037519</td>\n",
       "      <td>0.000000</td>\n",
       "      <td>0.72</td>\n",
       "      <td>0.00</td>\n",
       "      <td>0.00</td>\n",
       "      <td>0.501913</td>\n",
       "      <td>0.000000</td>\n",
       "      <td>0.0</td>\n",
       "    </tr>\n",
       "    <tr>\n",
       "      <th>3</th>\n",
       "      <td>2021-04-15</td>\n",
       "      <td>2380027</td>\n",
       "      <td>42.39</td>\n",
       "      <td>170.29</td>\n",
       "      <td>2.21</td>\n",
       "      <td>0.024628</td>\n",
       "      <td>0.084218</td>\n",
       "      <td>0.000000</td>\n",
       "      <td>1.08</td>\n",
       "      <td>0.00</td>\n",
       "      <td>0.00</td>\n",
       "      <td>0.074358</td>\n",
       "      <td>0.000000</td>\n",
       "      <td>0.0</td>\n",
       "    </tr>\n",
       "    <tr>\n",
       "      <th>4</th>\n",
       "      <td>2021-04-16</td>\n",
       "      <td>2380023</td>\n",
       "      <td>39.86</td>\n",
       "      <td>173.86</td>\n",
       "      <td>2.21</td>\n",
       "      <td>0.078574</td>\n",
       "      <td>0.052684</td>\n",
       "      <td>0.000000</td>\n",
       "      <td>1.16</td>\n",
       "      <td>0.00</td>\n",
       "      <td>0.00</td>\n",
       "      <td>0.207690</td>\n",
       "      <td>0.000000</td>\n",
       "      <td>0.0</td>\n",
       "    </tr>\n",
       "    <tr>\n",
       "      <th>...</th>\n",
       "      <td>...</td>\n",
       "      <td>...</td>\n",
       "      <td>...</td>\n",
       "      <td>...</td>\n",
       "      <td>...</td>\n",
       "      <td>...</td>\n",
       "      <td>...</td>\n",
       "      <td>...</td>\n",
       "      <td>...</td>\n",
       "      <td>...</td>\n",
       "      <td>...</td>\n",
       "      <td>...</td>\n",
       "      <td>...</td>\n",
       "      <td>...</td>\n",
       "    </tr>\n",
       "    <tr>\n",
       "      <th>121</th>\n",
       "      <td>2021-08-11</td>\n",
       "      <td>2376752</td>\n",
       "      <td>12.67</td>\n",
       "      <td>486.64</td>\n",
       "      <td>3.05</td>\n",
       "      <td>0.030942</td>\n",
       "      <td>0.132597</td>\n",
       "      <td>0.000000</td>\n",
       "      <td>814.69</td>\n",
       "      <td>726.09</td>\n",
       "      <td>0.84</td>\n",
       "      <td>0.045715</td>\n",
       "      <td>0.052928</td>\n",
       "      <td>0.0</td>\n",
       "    </tr>\n",
       "    <tr>\n",
       "      <th>122</th>\n",
       "      <td>2021-08-12</td>\n",
       "      <td>2376713</td>\n",
       "      <td>11.38</td>\n",
       "      <td>488.32</td>\n",
       "      <td>3.05</td>\n",
       "      <td>0.050350</td>\n",
       "      <td>0.163445</td>\n",
       "      <td>0.000000</td>\n",
       "      <td>808.62</td>\n",
       "      <td>769.21</td>\n",
       "      <td>0.84</td>\n",
       "      <td>0.067316</td>\n",
       "      <td>0.059039</td>\n",
       "      <td>0.0</td>\n",
       "    </tr>\n",
       "    <tr>\n",
       "      <th>123</th>\n",
       "      <td>2021-08-13</td>\n",
       "      <td>2376656</td>\n",
       "      <td>10.09</td>\n",
       "      <td>490.18</td>\n",
       "      <td>3.05</td>\n",
       "      <td>0.081696</td>\n",
       "      <td>0.136769</td>\n",
       "      <td>0.000000</td>\n",
       "      <td>815.03</td>\n",
       "      <td>816.95</td>\n",
       "      <td>0.84</td>\n",
       "      <td>0.096082</td>\n",
       "      <td>0.043459</td>\n",
       "      <td>0.0</td>\n",
       "    </tr>\n",
       "    <tr>\n",
       "      <th>124</th>\n",
       "      <td>2021-08-14</td>\n",
       "      <td>2376574</td>\n",
       "      <td>9.53</td>\n",
       "      <td>491.56</td>\n",
       "      <td>3.05</td>\n",
       "      <td>0.060128</td>\n",
       "      <td>0.072403</td>\n",
       "      <td>0.000000</td>\n",
       "      <td>857.51</td>\n",
       "      <td>852.37</td>\n",
       "      <td>0.84</td>\n",
       "      <td>0.063482</td>\n",
       "      <td>0.020653</td>\n",
       "      <td>0.0</td>\n",
       "    </tr>\n",
       "    <tr>\n",
       "      <th>125</th>\n",
       "      <td>2021-08-15</td>\n",
       "      <td>2376517</td>\n",
       "      <td>9.41</td>\n",
       "      <td>492.25</td>\n",
       "      <td>3.05</td>\n",
       "      <td>0.000000</td>\n",
       "      <td>0.000000</td>\n",
       "      <td>0.000000</td>\n",
       "      <td>893.95</td>\n",
       "      <td>870.08</td>\n",
       "      <td>0.84</td>\n",
       "      <td>0.000000</td>\n",
       "      <td>0.000000</td>\n",
       "      <td>0.0</td>\n",
       "    </tr>\n",
       "  </tbody>\n",
       "</table>\n",
       "<p>126 rows × 14 columns</p>\n",
       "</div>"
      ],
      "text/plain": [
       "         stdDay  Susceptible  Alpha_Infected  Alpha_Recovered  Alpha_Dead  \\\n",
       "0    2021-04-12      2380065           39.65           163.36        2.00   \n",
       "1    2021-04-13      2380056           39.47           165.67        2.21   \n",
       "2    2021-04-14      2380045           39.18           168.82        2.21   \n",
       "3    2021-04-15      2380027           42.39           170.29        2.21   \n",
       "4    2021-04-16      2380023           39.86           173.86        2.21   \n",
       "..          ...          ...             ...              ...         ...   \n",
       "121  2021-08-11      2376752           12.67           486.64        3.05   \n",
       "122  2021-08-12      2376713           11.38           488.32        3.05   \n",
       "123  2021-08-13      2376656           10.09           490.18        3.05   \n",
       "124  2021-08-14      2376574            9.53           491.56        3.05   \n",
       "125  2021-08-15      2376517            9.41           492.25        3.05   \n",
       "\n",
       "     Alpha_alpha  Alpha_beta  Alpha_gamma  Delta_Infected  Delta_Recovered  \\\n",
       "0       0.059242    0.058260     0.005296            0.32             0.00   \n",
       "1       0.072737    0.079807     0.000000            0.50             0.00   \n",
       "2       0.119906    0.037519     0.000000            0.72             0.00   \n",
       "3       0.024628    0.084218     0.000000            1.08             0.00   \n",
       "4       0.078574    0.052684     0.000000            1.16             0.00   \n",
       "..           ...         ...          ...             ...              ...   \n",
       "121     0.030942    0.132597     0.000000          814.69           726.09   \n",
       "122     0.050350    0.163445     0.000000          808.62           769.21   \n",
       "123     0.081696    0.136769     0.000000          815.03           816.95   \n",
       "124     0.060128    0.072403     0.000000          857.51           852.37   \n",
       "125     0.000000    0.000000     0.000000          893.95           870.08   \n",
       "\n",
       "     Delta_Dead  Delta_alpha  Delta_beta  Delta_gamma  \n",
       "0          0.00     0.564647    0.000000          0.0  \n",
       "1          0.00     0.441681    0.000000          0.0  \n",
       "2          0.00     0.501913    0.000000          0.0  \n",
       "3          0.00     0.074358    0.000000          0.0  \n",
       "4          0.00     0.207690    0.000000          0.0  \n",
       "..          ...          ...         ...          ...  \n",
       "121        0.84     0.045715    0.052928          0.0  \n",
       "122        0.84     0.067316    0.059039          0.0  \n",
       "123        0.84     0.096082    0.043459          0.0  \n",
       "124        0.84     0.063482    0.020653          0.0  \n",
       "125        0.84     0.000000    0.000000          0.0  \n",
       "\n",
       "[126 rows x 14 columns]"
      ]
     },
     "execution_count": 2,
     "metadata": {},
     "output_type": "execute_result"
    }
   ],
   "source": [
    "city = '대구'\n",
    "\n",
    "path = 'Data/Variants/SIR/alpha_delta/*.csv'\n",
    "dic_files = Load_files.load_files(path, -18, -16)\n",
    "data = dic_files[city]\n",
    "data"
   ]
  },
  {
   "cell_type": "code",
   "execution_count": 3,
   "id": "47c7287b",
   "metadata": {
    "ExecuteTime": {
     "end_time": "2023-06-14T13:53:25.565096Z",
     "start_time": "2023-06-14T13:53:25.553128Z"
    },
    "scrolled": true
   },
   "outputs": [
    {
     "name": "stdout",
     "output_type": "stream",
     "text": [
      "72\n"
     ]
    }
   ],
   "source": [
    "learning_rates_list = [1e-3, 1e-4]\n",
    "patiences_list = [20, 50]\n",
    "num_layers_list = [1, 2, 4]\n",
    "hidden_sizes_list = [8, 16, 32]\n",
    "dropout_list = [0.25]\n",
    "criterions_list = [nn.MSELoss(), criterion3]\n",
    "batch_size = 64\n",
    "hyperparameter_dict = {}\n",
    "i = 0\n",
    "\n",
    "for lr in learning_rates_list:\n",
    "    for patience in patiences_list:\n",
    "        for num_layers in num_layers_list:\n",
    "            for hidden_size in hidden_sizes_list:    \n",
    "                for dropout in dropout_list:\n",
    "                    for criterion in criterions_list:\n",
    "                        hyperparameter_dict[i] = [lr, patience, num_layers, hidden_size, dropout, criterion]\n",
    "                        i += 1\n",
    "\n",
    "print(i)"
   ]
  },
  {
   "cell_type": "code",
   "execution_count": 4,
   "id": "e0243b9d",
   "metadata": {
    "ExecuteTime": {
     "end_time": "2023-06-16T01:07:59.522028Z",
     "start_time": "2023-06-14T13:53:25.568091Z"
    },
    "scrolled": true
   },
   "outputs": [
    {
     "data": {
      "application/vnd.jupyter.widget-view+json": {
       "model_id": "ae71e29dbcb647459c31c5725f817736",
       "version_major": 2,
       "version_minor": 0
      },
      "text/plain": [
       "cities:   0%|          | 0/17 [00:00<?, ?it/s]"
      ]
     },
     "metadata": {},
     "output_type": "display_data"
    },
    {
     "data": {
      "application/vnd.jupyter.widget-view+json": {
       "model_id": "89ed072514ad46c5aa5410917ca23af3",
       "version_major": 2,
       "version_minor": 0
      },
      "text/plain": [
       "강원:   0%|          | 0/12 [00:00<?, ?it/s]"
      ]
     },
     "metadata": {},
     "output_type": "display_data"
    },
    {
     "data": {
      "application/vnd.jupyter.widget-view+json": {
       "model_id": "d539ecc7edfe41b6a33978846ea7c2be",
       "version_major": 2,
       "version_minor": 0
      },
      "text/plain": [
       "강원_RNN:   0%|          | 0/72 [00:00<?, ?it/s]"
      ]
     },
     "metadata": {},
     "output_type": "display_data"
    },
    {
     "data": {
      "application/vnd.jupyter.widget-view+json": {
       "model_id": "a087e6560062482fa736f66ca93036b1",
       "version_major": 2,
       "version_minor": 0
      },
      "text/plain": [
       "강원_LSTM:   0%|          | 0/72 [00:00<?, ?it/s]"
      ]
     },
     "metadata": {},
     "output_type": "display_data"
    },
    {
     "data": {
      "application/vnd.jupyter.widget-view+json": {
       "model_id": "6754a2ad0a0d497f9dea55d38b84cfd9",
       "version_major": 2,
       "version_minor": 0
      },
      "text/plain": [
       "강원_GRU:   0%|          | 0/72 [00:00<?, ?it/s]"
      ]
     },
     "metadata": {},
     "output_type": "display_data"
    },
    {
     "data": {
      "application/vnd.jupyter.widget-view+json": {
       "model_id": "6c70c86b9e7e4652b7d5c4c44f81757c",
       "version_major": 2,
       "version_minor": 0
      },
      "text/plain": [
       "강원_BiRNN:   0%|          | 0/72 [00:00<?, ?it/s]"
      ]
     },
     "metadata": {},
     "output_type": "display_data"
    },
    {
     "data": {
      "application/vnd.jupyter.widget-view+json": {
       "model_id": "1d221b62849944eb93210314f20f1714",
       "version_major": 2,
       "version_minor": 0
      },
      "text/plain": [
       "강원_BiLSTM:   0%|          | 0/72 [00:00<?, ?it/s]"
      ]
     },
     "metadata": {},
     "output_type": "display_data"
    },
    {
     "data": {
      "application/vnd.jupyter.widget-view+json": {
       "model_id": "8e3168dbdee34ef18b8744b23ade5efe",
       "version_major": 2,
       "version_minor": 0
      },
      "text/plain": [
       "강원_BiGRU:   0%|          | 0/72 [00:00<?, ?it/s]"
      ]
     },
     "metadata": {},
     "output_type": "display_data"
    },
    {
     "data": {
      "application/vnd.jupyter.widget-view+json": {
       "model_id": "f7362c4e4c62422eb862f8a55cc88238",
       "version_major": 2,
       "version_minor": 0
      },
      "text/plain": [
       "강원_seq2seq_RNN:   0%|          | 0/72 [00:00<?, ?it/s]"
      ]
     },
     "metadata": {},
     "output_type": "display_data"
    },
    {
     "data": {
      "application/vnd.jupyter.widget-view+json": {
       "model_id": "0411abf5382b4c13823d25dfc968d84f",
       "version_major": 2,
       "version_minor": 0
      },
      "text/plain": [
       "강원_seq2seq_LSTM:   0%|          | 0/72 [00:00<?, ?it/s]"
      ]
     },
     "metadata": {},
     "output_type": "display_data"
    },
    {
     "data": {
      "application/vnd.jupyter.widget-view+json": {
       "model_id": "30fb16314e0244198cb3955b4b1b330d",
       "version_major": 2,
       "version_minor": 0
      },
      "text/plain": [
       "강원_seq2seq_GRU:   0%|          | 0/72 [00:00<?, ?it/s]"
      ]
     },
     "metadata": {},
     "output_type": "display_data"
    },
    {
     "data": {
      "application/vnd.jupyter.widget-view+json": {
       "model_id": "a7a3ca2847154ce086ebfa54fdb38d55",
       "version_major": 2,
       "version_minor": 0
      },
      "text/plain": [
       "강원_seq2seq_BiRNN:   0%|          | 0/72 [00:00<?, ?it/s]"
      ]
     },
     "metadata": {},
     "output_type": "display_data"
    },
    {
     "data": {
      "application/vnd.jupyter.widget-view+json": {
       "model_id": "84495d272c1e4691b43780937c3b6805",
       "version_major": 2,
       "version_minor": 0
      },
      "text/plain": [
       "강원_seq2seq_BiLSTM:   0%|          | 0/72 [00:00<?, ?it/s]"
      ]
     },
     "metadata": {},
     "output_type": "display_data"
    },
    {
     "data": {
      "application/vnd.jupyter.widget-view+json": {
       "model_id": "c6f52aed94534f4d8815a7ff07b4deae",
       "version_major": 2,
       "version_minor": 0
      },
      "text/plain": [
       "강원_seq2seq_BiGRU:   0%|          | 0/72 [00:00<?, ?it/s]"
      ]
     },
     "metadata": {},
     "output_type": "display_data"
    },
    {
     "data": {
      "application/vnd.jupyter.widget-view+json": {
       "model_id": "b0dcf1f004f54ad2a9669188187ee3b7",
       "version_major": 2,
       "version_minor": 0
      },
      "text/plain": [
       "경기:   0%|          | 0/12 [00:00<?, ?it/s]"
      ]
     },
     "metadata": {},
     "output_type": "display_data"
    },
    {
     "data": {
      "application/vnd.jupyter.widget-view+json": {
       "model_id": "cb93d89817544e8ab0faccc771de1e8a",
       "version_major": 2,
       "version_minor": 0
      },
      "text/plain": [
       "경기_RNN:   0%|          | 0/72 [00:00<?, ?it/s]"
      ]
     },
     "metadata": {},
     "output_type": "display_data"
    },
    {
     "data": {
      "application/vnd.jupyter.widget-view+json": {
       "model_id": "d6b7bb6f14d349d4a5d7ff3097858ae8",
       "version_major": 2,
       "version_minor": 0
      },
      "text/plain": [
       "경기_LSTM:   0%|          | 0/72 [00:00<?, ?it/s]"
      ]
     },
     "metadata": {},
     "output_type": "display_data"
    },
    {
     "data": {
      "application/vnd.jupyter.widget-view+json": {
       "model_id": "d51763e6726a44ff9d0afe912ec2c66b",
       "version_major": 2,
       "version_minor": 0
      },
      "text/plain": [
       "경기_GRU:   0%|          | 0/72 [00:00<?, ?it/s]"
      ]
     },
     "metadata": {},
     "output_type": "display_data"
    },
    {
     "data": {
      "application/vnd.jupyter.widget-view+json": {
       "model_id": "cf7c36ecdf724f7cb4b7f8f1d1915d24",
       "version_major": 2,
       "version_minor": 0
      },
      "text/plain": [
       "경기_BiRNN:   0%|          | 0/72 [00:00<?, ?it/s]"
      ]
     },
     "metadata": {},
     "output_type": "display_data"
    },
    {
     "data": {
      "application/vnd.jupyter.widget-view+json": {
       "model_id": "b8ffbff6e38048138ee77760b9b7b93f",
       "version_major": 2,
       "version_minor": 0
      },
      "text/plain": [
       "경기_BiLSTM:   0%|          | 0/72 [00:00<?, ?it/s]"
      ]
     },
     "metadata": {},
     "output_type": "display_data"
    },
    {
     "data": {
      "application/vnd.jupyter.widget-view+json": {
       "model_id": "ed9c3f5e775340dea3eb8a5c66f2f22c",
       "version_major": 2,
       "version_minor": 0
      },
      "text/plain": [
       "경기_BiGRU:   0%|          | 0/72 [00:00<?, ?it/s]"
      ]
     },
     "metadata": {},
     "output_type": "display_data"
    },
    {
     "data": {
      "application/vnd.jupyter.widget-view+json": {
       "model_id": "8709723f303f4dba89c6e7158a5d9313",
       "version_major": 2,
       "version_minor": 0
      },
      "text/plain": [
       "경기_seq2seq_RNN:   0%|          | 0/72 [00:00<?, ?it/s]"
      ]
     },
     "metadata": {},
     "output_type": "display_data"
    },
    {
     "data": {
      "application/vnd.jupyter.widget-view+json": {
       "model_id": "e97bfd170948431bb7cadcce71e161fd",
       "version_major": 2,
       "version_minor": 0
      },
      "text/plain": [
       "경기_seq2seq_LSTM:   0%|          | 0/72 [00:00<?, ?it/s]"
      ]
     },
     "metadata": {},
     "output_type": "display_data"
    },
    {
     "data": {
      "application/vnd.jupyter.widget-view+json": {
       "model_id": "6625bc6933bc4bb79e3cd8a2a335e83e",
       "version_major": 2,
       "version_minor": 0
      },
      "text/plain": [
       "경기_seq2seq_GRU:   0%|          | 0/72 [00:00<?, ?it/s]"
      ]
     },
     "metadata": {},
     "output_type": "display_data"
    },
    {
     "data": {
      "application/vnd.jupyter.widget-view+json": {
       "model_id": "35cede413102409cb908076f2ad69ccb",
       "version_major": 2,
       "version_minor": 0
      },
      "text/plain": [
       "경기_seq2seq_BiRNN:   0%|          | 0/72 [00:00<?, ?it/s]"
      ]
     },
     "metadata": {},
     "output_type": "display_data"
    },
    {
     "data": {
      "application/vnd.jupyter.widget-view+json": {
       "model_id": "19bc2c9b6b5045e1af917cc088f2f455",
       "version_major": 2,
       "version_minor": 0
      },
      "text/plain": [
       "경기_seq2seq_BiLSTM:   0%|          | 0/72 [00:00<?, ?it/s]"
      ]
     },
     "metadata": {},
     "output_type": "display_data"
    },
    {
     "data": {
      "application/vnd.jupyter.widget-view+json": {
       "model_id": "296ce8ac1cf34e088629a803d32a65bd",
       "version_major": 2,
       "version_minor": 0
      },
      "text/plain": [
       "경기_seq2seq_BiGRU:   0%|          | 0/72 [00:00<?, ?it/s]"
      ]
     },
     "metadata": {},
     "output_type": "display_data"
    },
    {
     "data": {
      "application/vnd.jupyter.widget-view+json": {
       "model_id": "425ff231b6c04a818b18ebef7d105440",
       "version_major": 2,
       "version_minor": 0
      },
      "text/plain": [
       "경남:   0%|          | 0/12 [00:00<?, ?it/s]"
      ]
     },
     "metadata": {},
     "output_type": "display_data"
    },
    {
     "data": {
      "application/vnd.jupyter.widget-view+json": {
       "model_id": "cf42d264147747408b6d9ee78495804f",
       "version_major": 2,
       "version_minor": 0
      },
      "text/plain": [
       "경남_RNN:   0%|          | 0/72 [00:00<?, ?it/s]"
      ]
     },
     "metadata": {},
     "output_type": "display_data"
    },
    {
     "data": {
      "application/vnd.jupyter.widget-view+json": {
       "model_id": "5f6963736c7b485580ee6c0b980f8e5d",
       "version_major": 2,
       "version_minor": 0
      },
      "text/plain": [
       "경남_LSTM:   0%|          | 0/72 [00:00<?, ?it/s]"
      ]
     },
     "metadata": {},
     "output_type": "display_data"
    },
    {
     "data": {
      "application/vnd.jupyter.widget-view+json": {
       "model_id": "9855a5d83a3c441f9f08bcfb0d0523ba",
       "version_major": 2,
       "version_minor": 0
      },
      "text/plain": [
       "경남_GRU:   0%|          | 0/72 [00:00<?, ?it/s]"
      ]
     },
     "metadata": {},
     "output_type": "display_data"
    },
    {
     "data": {
      "application/vnd.jupyter.widget-view+json": {
       "model_id": "302e7adc56da4f7595a4447dfeb167d9",
       "version_major": 2,
       "version_minor": 0
      },
      "text/plain": [
       "경남_BiRNN:   0%|          | 0/72 [00:00<?, ?it/s]"
      ]
     },
     "metadata": {},
     "output_type": "display_data"
    },
    {
     "data": {
      "application/vnd.jupyter.widget-view+json": {
       "model_id": "2c94accf1ba241d4bf79505fdad89d88",
       "version_major": 2,
       "version_minor": 0
      },
      "text/plain": [
       "경남_BiLSTM:   0%|          | 0/72 [00:00<?, ?it/s]"
      ]
     },
     "metadata": {},
     "output_type": "display_data"
    },
    {
     "data": {
      "application/vnd.jupyter.widget-view+json": {
       "model_id": "74efd8f4eb3840288be3c619384d9b02",
       "version_major": 2,
       "version_minor": 0
      },
      "text/plain": [
       "경남_BiGRU:   0%|          | 0/72 [00:00<?, ?it/s]"
      ]
     },
     "metadata": {},
     "output_type": "display_data"
    },
    {
     "data": {
      "application/vnd.jupyter.widget-view+json": {
       "model_id": "815c9ff9710f4646ad1f3ddb8bd90756",
       "version_major": 2,
       "version_minor": 0
      },
      "text/plain": [
       "경남_seq2seq_RNN:   0%|          | 0/72 [00:00<?, ?it/s]"
      ]
     },
     "metadata": {},
     "output_type": "display_data"
    },
    {
     "data": {
      "application/vnd.jupyter.widget-view+json": {
       "model_id": "e043ef8e3f5a4b21b08dff9f16168049",
       "version_major": 2,
       "version_minor": 0
      },
      "text/plain": [
       "경남_seq2seq_LSTM:   0%|          | 0/72 [00:00<?, ?it/s]"
      ]
     },
     "metadata": {},
     "output_type": "display_data"
    },
    {
     "data": {
      "application/vnd.jupyter.widget-view+json": {
       "model_id": "7dea840d4cf04322bc25d674544b9237",
       "version_major": 2,
       "version_minor": 0
      },
      "text/plain": [
       "경남_seq2seq_GRU:   0%|          | 0/72 [00:00<?, ?it/s]"
      ]
     },
     "metadata": {},
     "output_type": "display_data"
    },
    {
     "data": {
      "application/vnd.jupyter.widget-view+json": {
       "model_id": "712e1c54522b4b5a9e14810812e29f29",
       "version_major": 2,
       "version_minor": 0
      },
      "text/plain": [
       "경남_seq2seq_BiRNN:   0%|          | 0/72 [00:00<?, ?it/s]"
      ]
     },
     "metadata": {},
     "output_type": "display_data"
    },
    {
     "data": {
      "application/vnd.jupyter.widget-view+json": {
       "model_id": "879c7978ef3b40499dccdaffa750fa19",
       "version_major": 2,
       "version_minor": 0
      },
      "text/plain": [
       "경남_seq2seq_BiLSTM:   0%|          | 0/72 [00:00<?, ?it/s]"
      ]
     },
     "metadata": {},
     "output_type": "display_data"
    },
    {
     "data": {
      "application/vnd.jupyter.widget-view+json": {
       "model_id": "d552fc6e1b82458f8038d5b2230cdcda",
       "version_major": 2,
       "version_minor": 0
      },
      "text/plain": [
       "경남_seq2seq_BiGRU:   0%|          | 0/72 [00:00<?, ?it/s]"
      ]
     },
     "metadata": {},
     "output_type": "display_data"
    },
    {
     "data": {
      "application/vnd.jupyter.widget-view+json": {
       "model_id": "177aa98c9b1e4e1dbfd206fba25d2c94",
       "version_major": 2,
       "version_minor": 0
      },
      "text/plain": [
       "경북:   0%|          | 0/12 [00:00<?, ?it/s]"
      ]
     },
     "metadata": {},
     "output_type": "display_data"
    },
    {
     "data": {
      "application/vnd.jupyter.widget-view+json": {
       "model_id": "190b957e3e8c4554800661a36bc6a9a8",
       "version_major": 2,
       "version_minor": 0
      },
      "text/plain": [
       "경북_RNN:   0%|          | 0/72 [00:00<?, ?it/s]"
      ]
     },
     "metadata": {},
     "output_type": "display_data"
    },
    {
     "data": {
      "application/vnd.jupyter.widget-view+json": {
       "model_id": "51afa665386c4df1bf44fa761e7ab5a9",
       "version_major": 2,
       "version_minor": 0
      },
      "text/plain": [
       "경북_LSTM:   0%|          | 0/72 [00:00<?, ?it/s]"
      ]
     },
     "metadata": {},
     "output_type": "display_data"
    },
    {
     "data": {
      "application/vnd.jupyter.widget-view+json": {
       "model_id": "58fc2588baff446697e9a8255c27e769",
       "version_major": 2,
       "version_minor": 0
      },
      "text/plain": [
       "경북_GRU:   0%|          | 0/72 [00:00<?, ?it/s]"
      ]
     },
     "metadata": {},
     "output_type": "display_data"
    },
    {
     "data": {
      "application/vnd.jupyter.widget-view+json": {
       "model_id": "48d08a2a1b994f0ca37027e7db393718",
       "version_major": 2,
       "version_minor": 0
      },
      "text/plain": [
       "경북_BiRNN:   0%|          | 0/72 [00:00<?, ?it/s]"
      ]
     },
     "metadata": {},
     "output_type": "display_data"
    },
    {
     "data": {
      "application/vnd.jupyter.widget-view+json": {
       "model_id": "bcea9ae679df40aa893ee64cf491679a",
       "version_major": 2,
       "version_minor": 0
      },
      "text/plain": [
       "경북_BiLSTM:   0%|          | 0/72 [00:00<?, ?it/s]"
      ]
     },
     "metadata": {},
     "output_type": "display_data"
    },
    {
     "data": {
      "application/vnd.jupyter.widget-view+json": {
       "model_id": "c01c441bf8ad43b5bdd6c6868faeca05",
       "version_major": 2,
       "version_minor": 0
      },
      "text/plain": [
       "경북_BiGRU:   0%|          | 0/72 [00:00<?, ?it/s]"
      ]
     },
     "metadata": {},
     "output_type": "display_data"
    },
    {
     "data": {
      "application/vnd.jupyter.widget-view+json": {
       "model_id": "f859dca4ca364bb5b58e667efd8418fb",
       "version_major": 2,
       "version_minor": 0
      },
      "text/plain": [
       "경북_seq2seq_RNN:   0%|          | 0/72 [00:00<?, ?it/s]"
      ]
     },
     "metadata": {},
     "output_type": "display_data"
    },
    {
     "data": {
      "application/vnd.jupyter.widget-view+json": {
       "model_id": "17c18bfa0c1b44a7abf415892289f35f",
       "version_major": 2,
       "version_minor": 0
      },
      "text/plain": [
       "경북_seq2seq_LSTM:   0%|          | 0/72 [00:00<?, ?it/s]"
      ]
     },
     "metadata": {},
     "output_type": "display_data"
    },
    {
     "data": {
      "application/vnd.jupyter.widget-view+json": {
       "model_id": "ce9a54040b1143bbac59a1b539148a48",
       "version_major": 2,
       "version_minor": 0
      },
      "text/plain": [
       "경북_seq2seq_GRU:   0%|          | 0/72 [00:00<?, ?it/s]"
      ]
     },
     "metadata": {},
     "output_type": "display_data"
    },
    {
     "data": {
      "application/vnd.jupyter.widget-view+json": {
       "model_id": "dba3b319a7a9457294ed0dfbe4c1ddb7",
       "version_major": 2,
       "version_minor": 0
      },
      "text/plain": [
       "경북_seq2seq_BiRNN:   0%|          | 0/72 [00:00<?, ?it/s]"
      ]
     },
     "metadata": {},
     "output_type": "display_data"
    },
    {
     "data": {
      "application/vnd.jupyter.widget-view+json": {
       "model_id": "89917926f7f84757aa1300da57bb58ad",
       "version_major": 2,
       "version_minor": 0
      },
      "text/plain": [
       "경북_seq2seq_BiLSTM:   0%|          | 0/72 [00:00<?, ?it/s]"
      ]
     },
     "metadata": {},
     "output_type": "display_data"
    },
    {
     "data": {
      "application/vnd.jupyter.widget-view+json": {
       "model_id": "0e6fce4756094f3fb19b74367a993316",
       "version_major": 2,
       "version_minor": 0
      },
      "text/plain": [
       "경북_seq2seq_BiGRU:   0%|          | 0/72 [00:00<?, ?it/s]"
      ]
     },
     "metadata": {},
     "output_type": "display_data"
    },
    {
     "data": {
      "application/vnd.jupyter.widget-view+json": {
       "model_id": "55fa679a695c4536a580094847c91b3f",
       "version_major": 2,
       "version_minor": 0
      },
      "text/plain": [
       "광주:   0%|          | 0/12 [00:00<?, ?it/s]"
      ]
     },
     "metadata": {},
     "output_type": "display_data"
    },
    {
     "data": {
      "application/vnd.jupyter.widget-view+json": {
       "model_id": "23f7f6a57117431daf9e206486f3c4d2",
       "version_major": 2,
       "version_minor": 0
      },
      "text/plain": [
       "광주_RNN:   0%|          | 0/72 [00:00<?, ?it/s]"
      ]
     },
     "metadata": {},
     "output_type": "display_data"
    },
    {
     "data": {
      "application/vnd.jupyter.widget-view+json": {
       "model_id": "88a1620e07c5408380470c40a0f8c613",
       "version_major": 2,
       "version_minor": 0
      },
      "text/plain": [
       "광주_LSTM:   0%|          | 0/72 [00:00<?, ?it/s]"
      ]
     },
     "metadata": {},
     "output_type": "display_data"
    },
    {
     "data": {
      "application/vnd.jupyter.widget-view+json": {
       "model_id": "01965e227a1b4d3783d2830cd9b91348",
       "version_major": 2,
       "version_minor": 0
      },
      "text/plain": [
       "광주_GRU:   0%|          | 0/72 [00:00<?, ?it/s]"
      ]
     },
     "metadata": {},
     "output_type": "display_data"
    },
    {
     "data": {
      "application/vnd.jupyter.widget-view+json": {
       "model_id": "6eac2626115044239e613c0870d0cce4",
       "version_major": 2,
       "version_minor": 0
      },
      "text/plain": [
       "광주_BiRNN:   0%|          | 0/72 [00:00<?, ?it/s]"
      ]
     },
     "metadata": {},
     "output_type": "display_data"
    },
    {
     "data": {
      "application/vnd.jupyter.widget-view+json": {
       "model_id": "128badc3b989444f8e68ea6db36da285",
       "version_major": 2,
       "version_minor": 0
      },
      "text/plain": [
       "광주_BiLSTM:   0%|          | 0/72 [00:00<?, ?it/s]"
      ]
     },
     "metadata": {},
     "output_type": "display_data"
    },
    {
     "data": {
      "application/vnd.jupyter.widget-view+json": {
       "model_id": "09e9ce522ca14e9daf977d55d315585e",
       "version_major": 2,
       "version_minor": 0
      },
      "text/plain": [
       "광주_BiGRU:   0%|          | 0/72 [00:00<?, ?it/s]"
      ]
     },
     "metadata": {},
     "output_type": "display_data"
    },
    {
     "data": {
      "application/vnd.jupyter.widget-view+json": {
       "model_id": "eb5ce9d6c904461480e0408b8e4facaf",
       "version_major": 2,
       "version_minor": 0
      },
      "text/plain": [
       "광주_seq2seq_RNN:   0%|          | 0/72 [00:00<?, ?it/s]"
      ]
     },
     "metadata": {},
     "output_type": "display_data"
    },
    {
     "data": {
      "application/vnd.jupyter.widget-view+json": {
       "model_id": "32b69b1b81aa46e9a9d1bdbe80225296",
       "version_major": 2,
       "version_minor": 0
      },
      "text/plain": [
       "광주_seq2seq_LSTM:   0%|          | 0/72 [00:00<?, ?it/s]"
      ]
     },
     "metadata": {},
     "output_type": "display_data"
    },
    {
     "data": {
      "application/vnd.jupyter.widget-view+json": {
       "model_id": "95f31d4a232c43fe8131c713f97a9586",
       "version_major": 2,
       "version_minor": 0
      },
      "text/plain": [
       "광주_seq2seq_GRU:   0%|          | 0/72 [00:00<?, ?it/s]"
      ]
     },
     "metadata": {},
     "output_type": "display_data"
    },
    {
     "data": {
      "application/vnd.jupyter.widget-view+json": {
       "model_id": "9bcaf987148f4680af31cb1a64acb098",
       "version_major": 2,
       "version_minor": 0
      },
      "text/plain": [
       "광주_seq2seq_BiRNN:   0%|          | 0/72 [00:00<?, ?it/s]"
      ]
     },
     "metadata": {},
     "output_type": "display_data"
    },
    {
     "data": {
      "application/vnd.jupyter.widget-view+json": {
       "model_id": "ee8f4eaae60f473da18e9aca45731bb6",
       "version_major": 2,
       "version_minor": 0
      },
      "text/plain": [
       "광주_seq2seq_BiLSTM:   0%|          | 0/72 [00:00<?, ?it/s]"
      ]
     },
     "metadata": {},
     "output_type": "display_data"
    },
    {
     "data": {
      "application/vnd.jupyter.widget-view+json": {
       "model_id": "e249b4f41f0a4c2593cb94038cbe49c8",
       "version_major": 2,
       "version_minor": 0
      },
      "text/plain": [
       "광주_seq2seq_BiGRU:   0%|          | 0/72 [00:00<?, ?it/s]"
      ]
     },
     "metadata": {},
     "output_type": "display_data"
    },
    {
     "data": {
      "application/vnd.jupyter.widget-view+json": {
       "model_id": "6cff4c202d17465caa522a46e2759c39",
       "version_major": 2,
       "version_minor": 0
      },
      "text/plain": [
       "대구:   0%|          | 0/12 [00:00<?, ?it/s]"
      ]
     },
     "metadata": {},
     "output_type": "display_data"
    },
    {
     "data": {
      "application/vnd.jupyter.widget-view+json": {
       "model_id": "19a928ac1ae0486f9eb286b244504c03",
       "version_major": 2,
       "version_minor": 0
      },
      "text/plain": [
       "대구_RNN:   0%|          | 0/72 [00:00<?, ?it/s]"
      ]
     },
     "metadata": {},
     "output_type": "display_data"
    },
    {
     "data": {
      "application/vnd.jupyter.widget-view+json": {
       "model_id": "10f9c9ad05534bf2942c1f7782e1ebe6",
       "version_major": 2,
       "version_minor": 0
      },
      "text/plain": [
       "대구_LSTM:   0%|          | 0/72 [00:00<?, ?it/s]"
      ]
     },
     "metadata": {},
     "output_type": "display_data"
    },
    {
     "data": {
      "application/vnd.jupyter.widget-view+json": {
       "model_id": "e7d1f6062bd84c4089b652c383a55f84",
       "version_major": 2,
       "version_minor": 0
      },
      "text/plain": [
       "대구_GRU:   0%|          | 0/72 [00:00<?, ?it/s]"
      ]
     },
     "metadata": {},
     "output_type": "display_data"
    },
    {
     "data": {
      "application/vnd.jupyter.widget-view+json": {
       "model_id": "89fd94cdef9140408ed49e1800c5b198",
       "version_major": 2,
       "version_minor": 0
      },
      "text/plain": [
       "대구_BiRNN:   0%|          | 0/72 [00:00<?, ?it/s]"
      ]
     },
     "metadata": {},
     "output_type": "display_data"
    },
    {
     "data": {
      "application/vnd.jupyter.widget-view+json": {
       "model_id": "fabf302b7e01410396391c18a8dec959",
       "version_major": 2,
       "version_minor": 0
      },
      "text/plain": [
       "대구_BiLSTM:   0%|          | 0/72 [00:00<?, ?it/s]"
      ]
     },
     "metadata": {},
     "output_type": "display_data"
    },
    {
     "data": {
      "application/vnd.jupyter.widget-view+json": {
       "model_id": "c5c644107f784bf6963895d7f40f4b05",
       "version_major": 2,
       "version_minor": 0
      },
      "text/plain": [
       "대구_BiGRU:   0%|          | 0/72 [00:00<?, ?it/s]"
      ]
     },
     "metadata": {},
     "output_type": "display_data"
    },
    {
     "data": {
      "application/vnd.jupyter.widget-view+json": {
       "model_id": "7ed56faf80364812bbc9dc80e45bff4a",
       "version_major": 2,
       "version_minor": 0
      },
      "text/plain": [
       "대구_seq2seq_RNN:   0%|          | 0/72 [00:00<?, ?it/s]"
      ]
     },
     "metadata": {},
     "output_type": "display_data"
    },
    {
     "data": {
      "application/vnd.jupyter.widget-view+json": {
       "model_id": "a18e3ad7e24946a8a1a8530dc424224c",
       "version_major": 2,
       "version_minor": 0
      },
      "text/plain": [
       "대구_seq2seq_LSTM:   0%|          | 0/72 [00:00<?, ?it/s]"
      ]
     },
     "metadata": {},
     "output_type": "display_data"
    },
    {
     "data": {
      "application/vnd.jupyter.widget-view+json": {
       "model_id": "d476a6c417d24544b47c9007fd50d235",
       "version_major": 2,
       "version_minor": 0
      },
      "text/plain": [
       "대구_seq2seq_GRU:   0%|          | 0/72 [00:00<?, ?it/s]"
      ]
     },
     "metadata": {},
     "output_type": "display_data"
    },
    {
     "data": {
      "application/vnd.jupyter.widget-view+json": {
       "model_id": "70b8291f276c45358d71ac9f25877b8e",
       "version_major": 2,
       "version_minor": 0
      },
      "text/plain": [
       "대구_seq2seq_BiRNN:   0%|          | 0/72 [00:00<?, ?it/s]"
      ]
     },
     "metadata": {},
     "output_type": "display_data"
    },
    {
     "data": {
      "application/vnd.jupyter.widget-view+json": {
       "model_id": "140b74711a81469aa87cc7e55e5e2e9a",
       "version_major": 2,
       "version_minor": 0
      },
      "text/plain": [
       "대구_seq2seq_BiLSTM:   0%|          | 0/72 [00:00<?, ?it/s]"
      ]
     },
     "metadata": {},
     "output_type": "display_data"
    },
    {
     "data": {
      "application/vnd.jupyter.widget-view+json": {
       "model_id": "2d5b7399136a454b9b02dc8836e3d17a",
       "version_major": 2,
       "version_minor": 0
      },
      "text/plain": [
       "대구_seq2seq_BiGRU:   0%|          | 0/72 [00:00<?, ?it/s]"
      ]
     },
     "metadata": {},
     "output_type": "display_data"
    },
    {
     "data": {
      "application/vnd.jupyter.widget-view+json": {
       "model_id": "03de4fe9e51c459aa39b964a7a77e03b",
       "version_major": 2,
       "version_minor": 0
      },
      "text/plain": [
       "대전:   0%|          | 0/12 [00:00<?, ?it/s]"
      ]
     },
     "metadata": {},
     "output_type": "display_data"
    },
    {
     "data": {
      "application/vnd.jupyter.widget-view+json": {
       "model_id": "4ee679b684d44447b0508686bb50954d",
       "version_major": 2,
       "version_minor": 0
      },
      "text/plain": [
       "대전_RNN:   0%|          | 0/72 [00:00<?, ?it/s]"
      ]
     },
     "metadata": {},
     "output_type": "display_data"
    },
    {
     "data": {
      "application/vnd.jupyter.widget-view+json": {
       "model_id": "3961215898414bac8e214e9e6e64ccdf",
       "version_major": 2,
       "version_minor": 0
      },
      "text/plain": [
       "대전_LSTM:   0%|          | 0/72 [00:00<?, ?it/s]"
      ]
     },
     "metadata": {},
     "output_type": "display_data"
    },
    {
     "data": {
      "application/vnd.jupyter.widget-view+json": {
       "model_id": "127615a0e2684e1a97db6146a24a176c",
       "version_major": 2,
       "version_minor": 0
      },
      "text/plain": [
       "대전_GRU:   0%|          | 0/72 [00:00<?, ?it/s]"
      ]
     },
     "metadata": {},
     "output_type": "display_data"
    },
    {
     "data": {
      "application/vnd.jupyter.widget-view+json": {
       "model_id": "7476aedc832d40a0ac1b45e4ac3f45ce",
       "version_major": 2,
       "version_minor": 0
      },
      "text/plain": [
       "대전_BiRNN:   0%|          | 0/72 [00:00<?, ?it/s]"
      ]
     },
     "metadata": {},
     "output_type": "display_data"
    },
    {
     "data": {
      "application/vnd.jupyter.widget-view+json": {
       "model_id": "28e3c736fcfc4ee78ac777ab106abc63",
       "version_major": 2,
       "version_minor": 0
      },
      "text/plain": [
       "대전_BiLSTM:   0%|          | 0/72 [00:00<?, ?it/s]"
      ]
     },
     "metadata": {},
     "output_type": "display_data"
    },
    {
     "data": {
      "application/vnd.jupyter.widget-view+json": {
       "model_id": "f87306d5ae034024929a34c782813351",
       "version_major": 2,
       "version_minor": 0
      },
      "text/plain": [
       "대전_BiGRU:   0%|          | 0/72 [00:00<?, ?it/s]"
      ]
     },
     "metadata": {},
     "output_type": "display_data"
    },
    {
     "data": {
      "application/vnd.jupyter.widget-view+json": {
       "model_id": "c212a2e3847d4f2e9991984c1c7ee78b",
       "version_major": 2,
       "version_minor": 0
      },
      "text/plain": [
       "대전_seq2seq_RNN:   0%|          | 0/72 [00:00<?, ?it/s]"
      ]
     },
     "metadata": {},
     "output_type": "display_data"
    },
    {
     "data": {
      "application/vnd.jupyter.widget-view+json": {
       "model_id": "92fa2b9bcaa64832b705ebb28a01e1cf",
       "version_major": 2,
       "version_minor": 0
      },
      "text/plain": [
       "대전_seq2seq_LSTM:   0%|          | 0/72 [00:00<?, ?it/s]"
      ]
     },
     "metadata": {},
     "output_type": "display_data"
    },
    {
     "data": {
      "application/vnd.jupyter.widget-view+json": {
       "model_id": "0f9bc0fa3d534a1faea750b5d778ffec",
       "version_major": 2,
       "version_minor": 0
      },
      "text/plain": [
       "대전_seq2seq_GRU:   0%|          | 0/72 [00:00<?, ?it/s]"
      ]
     },
     "metadata": {},
     "output_type": "display_data"
    },
    {
     "data": {
      "application/vnd.jupyter.widget-view+json": {
       "model_id": "b146d6ab2f19415dacaa335ecf9ba83b",
       "version_major": 2,
       "version_minor": 0
      },
      "text/plain": [
       "대전_seq2seq_BiRNN:   0%|          | 0/72 [00:00<?, ?it/s]"
      ]
     },
     "metadata": {},
     "output_type": "display_data"
    },
    {
     "data": {
      "application/vnd.jupyter.widget-view+json": {
       "model_id": "a9b1e41360a542a4bb5fc5e6b9e643d5",
       "version_major": 2,
       "version_minor": 0
      },
      "text/plain": [
       "대전_seq2seq_BiLSTM:   0%|          | 0/72 [00:00<?, ?it/s]"
      ]
     },
     "metadata": {},
     "output_type": "display_data"
    },
    {
     "data": {
      "application/vnd.jupyter.widget-view+json": {
       "model_id": "947abc81fdcc4aa9a8a1caf40bb0aa80",
       "version_major": 2,
       "version_minor": 0
      },
      "text/plain": [
       "대전_seq2seq_BiGRU:   0%|          | 0/72 [00:00<?, ?it/s]"
      ]
     },
     "metadata": {},
     "output_type": "display_data"
    },
    {
     "data": {
      "application/vnd.jupyter.widget-view+json": {
       "model_id": "44cf5aeacdc6442c8ccfc6a396528f43",
       "version_major": 2,
       "version_minor": 0
      },
      "text/plain": [
       "부산:   0%|          | 0/12 [00:00<?, ?it/s]"
      ]
     },
     "metadata": {},
     "output_type": "display_data"
    },
    {
     "data": {
      "application/vnd.jupyter.widget-view+json": {
       "model_id": "63644818ffca43808ba98ff67239be39",
       "version_major": 2,
       "version_minor": 0
      },
      "text/plain": [
       "부산_RNN:   0%|          | 0/72 [00:00<?, ?it/s]"
      ]
     },
     "metadata": {},
     "output_type": "display_data"
    },
    {
     "data": {
      "application/vnd.jupyter.widget-view+json": {
       "model_id": "3d7a67c682424d69a0f1251bcd62548b",
       "version_major": 2,
       "version_minor": 0
      },
      "text/plain": [
       "부산_LSTM:   0%|          | 0/72 [00:00<?, ?it/s]"
      ]
     },
     "metadata": {},
     "output_type": "display_data"
    },
    {
     "data": {
      "application/vnd.jupyter.widget-view+json": {
       "model_id": "88c03ad527c0481d8a2db83074957335",
       "version_major": 2,
       "version_minor": 0
      },
      "text/plain": [
       "부산_GRU:   0%|          | 0/72 [00:00<?, ?it/s]"
      ]
     },
     "metadata": {},
     "output_type": "display_data"
    },
    {
     "data": {
      "application/vnd.jupyter.widget-view+json": {
       "model_id": "8f1800dc569d4a7f96a7ed7d1cfa0324",
       "version_major": 2,
       "version_minor": 0
      },
      "text/plain": [
       "부산_BiRNN:   0%|          | 0/72 [00:00<?, ?it/s]"
      ]
     },
     "metadata": {},
     "output_type": "display_data"
    },
    {
     "data": {
      "application/vnd.jupyter.widget-view+json": {
       "model_id": "a8e602075fad4c21a202cc4041c8b740",
       "version_major": 2,
       "version_minor": 0
      },
      "text/plain": [
       "부산_BiLSTM:   0%|          | 0/72 [00:00<?, ?it/s]"
      ]
     },
     "metadata": {},
     "output_type": "display_data"
    },
    {
     "data": {
      "application/vnd.jupyter.widget-view+json": {
       "model_id": "4bc9ecc478764f7b9f491ef33cba6ff5",
       "version_major": 2,
       "version_minor": 0
      },
      "text/plain": [
       "부산_BiGRU:   0%|          | 0/72 [00:00<?, ?it/s]"
      ]
     },
     "metadata": {},
     "output_type": "display_data"
    },
    {
     "data": {
      "application/vnd.jupyter.widget-view+json": {
       "model_id": "9ebed95a0e9146649c92663418db12a1",
       "version_major": 2,
       "version_minor": 0
      },
      "text/plain": [
       "부산_seq2seq_RNN:   0%|          | 0/72 [00:00<?, ?it/s]"
      ]
     },
     "metadata": {},
     "output_type": "display_data"
    },
    {
     "data": {
      "application/vnd.jupyter.widget-view+json": {
       "model_id": "87205fbc71774a729f7125a18b6d12e6",
       "version_major": 2,
       "version_minor": 0
      },
      "text/plain": [
       "부산_seq2seq_LSTM:   0%|          | 0/72 [00:00<?, ?it/s]"
      ]
     },
     "metadata": {},
     "output_type": "display_data"
    },
    {
     "data": {
      "application/vnd.jupyter.widget-view+json": {
       "model_id": "1976f1db999641fab711cb62bb81aca0",
       "version_major": 2,
       "version_minor": 0
      },
      "text/plain": [
       "부산_seq2seq_GRU:   0%|          | 0/72 [00:00<?, ?it/s]"
      ]
     },
     "metadata": {},
     "output_type": "display_data"
    },
    {
     "data": {
      "application/vnd.jupyter.widget-view+json": {
       "model_id": "022e812dff6b4137b283e8be7de2d7e2",
       "version_major": 2,
       "version_minor": 0
      },
      "text/plain": [
       "부산_seq2seq_BiRNN:   0%|          | 0/72 [00:00<?, ?it/s]"
      ]
     },
     "metadata": {},
     "output_type": "display_data"
    },
    {
     "data": {
      "application/vnd.jupyter.widget-view+json": {
       "model_id": "0ba0da8c5a004cb182da1efe9ab19ec1",
       "version_major": 2,
       "version_minor": 0
      },
      "text/plain": [
       "부산_seq2seq_BiLSTM:   0%|          | 0/72 [00:00<?, ?it/s]"
      ]
     },
     "metadata": {},
     "output_type": "display_data"
    },
    {
     "data": {
      "application/vnd.jupyter.widget-view+json": {
       "model_id": "3cef25c3a78e479483a9794817f2b287",
       "version_major": 2,
       "version_minor": 0
      },
      "text/plain": [
       "부산_seq2seq_BiGRU:   0%|          | 0/72 [00:00<?, ?it/s]"
      ]
     },
     "metadata": {},
     "output_type": "display_data"
    },
    {
     "data": {
      "application/vnd.jupyter.widget-view+json": {
       "model_id": "5e55eeeefaf94eb0baff4932143bc56f",
       "version_major": 2,
       "version_minor": 0
      },
      "text/plain": [
       "서울:   0%|          | 0/12 [00:00<?, ?it/s]"
      ]
     },
     "metadata": {},
     "output_type": "display_data"
    },
    {
     "data": {
      "application/vnd.jupyter.widget-view+json": {
       "model_id": "16b3797025404c8ea426e24b05e17755",
       "version_major": 2,
       "version_minor": 0
      },
      "text/plain": [
       "서울_RNN:   0%|          | 0/72 [00:00<?, ?it/s]"
      ]
     },
     "metadata": {},
     "output_type": "display_data"
    },
    {
     "data": {
      "application/vnd.jupyter.widget-view+json": {
       "model_id": "85faded8d3964b5aa5b103c78d6073a8",
       "version_major": 2,
       "version_minor": 0
      },
      "text/plain": [
       "서울_LSTM:   0%|          | 0/72 [00:00<?, ?it/s]"
      ]
     },
     "metadata": {},
     "output_type": "display_data"
    },
    {
     "data": {
      "application/vnd.jupyter.widget-view+json": {
       "model_id": "81a14d446a83428286d3ebe74cb92d66",
       "version_major": 2,
       "version_minor": 0
      },
      "text/plain": [
       "서울_GRU:   0%|          | 0/72 [00:00<?, ?it/s]"
      ]
     },
     "metadata": {},
     "output_type": "display_data"
    },
    {
     "data": {
      "application/vnd.jupyter.widget-view+json": {
       "model_id": "4dfd1893af76487e90eea0b919f20c17",
       "version_major": 2,
       "version_minor": 0
      },
      "text/plain": [
       "서울_BiRNN:   0%|          | 0/72 [00:00<?, ?it/s]"
      ]
     },
     "metadata": {},
     "output_type": "display_data"
    },
    {
     "data": {
      "application/vnd.jupyter.widget-view+json": {
       "model_id": "34fba1f4d62b4b57ba6a836f3d6e20fb",
       "version_major": 2,
       "version_minor": 0
      },
      "text/plain": [
       "서울_BiLSTM:   0%|          | 0/72 [00:00<?, ?it/s]"
      ]
     },
     "metadata": {},
     "output_type": "display_data"
    },
    {
     "data": {
      "application/vnd.jupyter.widget-view+json": {
       "model_id": "958d56a9692346be9704805927f510df",
       "version_major": 2,
       "version_minor": 0
      },
      "text/plain": [
       "서울_BiGRU:   0%|          | 0/72 [00:00<?, ?it/s]"
      ]
     },
     "metadata": {},
     "output_type": "display_data"
    },
    {
     "data": {
      "application/vnd.jupyter.widget-view+json": {
       "model_id": "bb3028e8127b4b02a1ddaf35e7352fe1",
       "version_major": 2,
       "version_minor": 0
      },
      "text/plain": [
       "서울_seq2seq_RNN:   0%|          | 0/72 [00:00<?, ?it/s]"
      ]
     },
     "metadata": {},
     "output_type": "display_data"
    },
    {
     "data": {
      "application/vnd.jupyter.widget-view+json": {
       "model_id": "53f663ea087c47c2acaa0ed8c99981fa",
       "version_major": 2,
       "version_minor": 0
      },
      "text/plain": [
       "서울_seq2seq_LSTM:   0%|          | 0/72 [00:00<?, ?it/s]"
      ]
     },
     "metadata": {},
     "output_type": "display_data"
    },
    {
     "data": {
      "application/vnd.jupyter.widget-view+json": {
       "model_id": "310de4e1483a4bc1a798c4616eb4e64e",
       "version_major": 2,
       "version_minor": 0
      },
      "text/plain": [
       "서울_seq2seq_GRU:   0%|          | 0/72 [00:00<?, ?it/s]"
      ]
     },
     "metadata": {},
     "output_type": "display_data"
    },
    {
     "data": {
      "application/vnd.jupyter.widget-view+json": {
       "model_id": "a0d7484dde164b7e9344902232eb89b0",
       "version_major": 2,
       "version_minor": 0
      },
      "text/plain": [
       "서울_seq2seq_BiRNN:   0%|          | 0/72 [00:00<?, ?it/s]"
      ]
     },
     "metadata": {},
     "output_type": "display_data"
    },
    {
     "data": {
      "application/vnd.jupyter.widget-view+json": {
       "model_id": "3b4839d616a34c02b2e4741d546c50e1",
       "version_major": 2,
       "version_minor": 0
      },
      "text/plain": [
       "서울_seq2seq_BiLSTM:   0%|          | 0/72 [00:00<?, ?it/s]"
      ]
     },
     "metadata": {},
     "output_type": "display_data"
    },
    {
     "data": {
      "application/vnd.jupyter.widget-view+json": {
       "model_id": "d2cc7e19ac3b4b109434532ee5965bd7",
       "version_major": 2,
       "version_minor": 0
      },
      "text/plain": [
       "서울_seq2seq_BiGRU:   0%|          | 0/72 [00:00<?, ?it/s]"
      ]
     },
     "metadata": {},
     "output_type": "display_data"
    },
    {
     "data": {
      "application/vnd.jupyter.widget-view+json": {
       "model_id": "f962beeba2104771850b7034d439c28e",
       "version_major": 2,
       "version_minor": 0
      },
      "text/plain": [
       "세종:   0%|          | 0/12 [00:00<?, ?it/s]"
      ]
     },
     "metadata": {},
     "output_type": "display_data"
    },
    {
     "data": {
      "application/vnd.jupyter.widget-view+json": {
       "model_id": "3f07c92aed804164a76acce65c5832f8",
       "version_major": 2,
       "version_minor": 0
      },
      "text/plain": [
       "세종_RNN:   0%|          | 0/72 [00:00<?, ?it/s]"
      ]
     },
     "metadata": {},
     "output_type": "display_data"
    },
    {
     "data": {
      "application/vnd.jupyter.widget-view+json": {
       "model_id": "330cd14a83eb4cc8ada57d0dc8e0114f",
       "version_major": 2,
       "version_minor": 0
      },
      "text/plain": [
       "세종_LSTM:   0%|          | 0/72 [00:00<?, ?it/s]"
      ]
     },
     "metadata": {},
     "output_type": "display_data"
    },
    {
     "data": {
      "application/vnd.jupyter.widget-view+json": {
       "model_id": "d1c25affa36e454dbb7f31316b3c1a9f",
       "version_major": 2,
       "version_minor": 0
      },
      "text/plain": [
       "세종_GRU:   0%|          | 0/72 [00:00<?, ?it/s]"
      ]
     },
     "metadata": {},
     "output_type": "display_data"
    },
    {
     "data": {
      "application/vnd.jupyter.widget-view+json": {
       "model_id": "c15d6b53be4e40de873c490c36a30da6",
       "version_major": 2,
       "version_minor": 0
      },
      "text/plain": [
       "세종_BiRNN:   0%|          | 0/72 [00:00<?, ?it/s]"
      ]
     },
     "metadata": {},
     "output_type": "display_data"
    },
    {
     "data": {
      "application/vnd.jupyter.widget-view+json": {
       "model_id": "ca911722f0ea47eba1aef5bc2180ccc9",
       "version_major": 2,
       "version_minor": 0
      },
      "text/plain": [
       "세종_BiLSTM:   0%|          | 0/72 [00:00<?, ?it/s]"
      ]
     },
     "metadata": {},
     "output_type": "display_data"
    },
    {
     "data": {
      "application/vnd.jupyter.widget-view+json": {
       "model_id": "0e2fc93735644af3a382d66765fbefb0",
       "version_major": 2,
       "version_minor": 0
      },
      "text/plain": [
       "세종_BiGRU:   0%|          | 0/72 [00:00<?, ?it/s]"
      ]
     },
     "metadata": {},
     "output_type": "display_data"
    },
    {
     "data": {
      "application/vnd.jupyter.widget-view+json": {
       "model_id": "c1e50086678840d69dce031eed7cafc4",
       "version_major": 2,
       "version_minor": 0
      },
      "text/plain": [
       "세종_seq2seq_RNN:   0%|          | 0/72 [00:00<?, ?it/s]"
      ]
     },
     "metadata": {},
     "output_type": "display_data"
    },
    {
     "data": {
      "application/vnd.jupyter.widget-view+json": {
       "model_id": "f916bad9cf3a4533aededca789e990af",
       "version_major": 2,
       "version_minor": 0
      },
      "text/plain": [
       "세종_seq2seq_LSTM:   0%|          | 0/72 [00:00<?, ?it/s]"
      ]
     },
     "metadata": {},
     "output_type": "display_data"
    },
    {
     "data": {
      "application/vnd.jupyter.widget-view+json": {
       "model_id": "bde8c65ac3ca468580dc8ddc13cf4310",
       "version_major": 2,
       "version_minor": 0
      },
      "text/plain": [
       "세종_seq2seq_GRU:   0%|          | 0/72 [00:00<?, ?it/s]"
      ]
     },
     "metadata": {},
     "output_type": "display_data"
    },
    {
     "data": {
      "application/vnd.jupyter.widget-view+json": {
       "model_id": "6aae6125573d4051b3981e8196c17126",
       "version_major": 2,
       "version_minor": 0
      },
      "text/plain": [
       "세종_seq2seq_BiRNN:   0%|          | 0/72 [00:00<?, ?it/s]"
      ]
     },
     "metadata": {},
     "output_type": "display_data"
    },
    {
     "data": {
      "application/vnd.jupyter.widget-view+json": {
       "model_id": "d7d95cc83a504681969c8234ad3d2e69",
       "version_major": 2,
       "version_minor": 0
      },
      "text/plain": [
       "세종_seq2seq_BiLSTM:   0%|          | 0/72 [00:00<?, ?it/s]"
      ]
     },
     "metadata": {},
     "output_type": "display_data"
    },
    {
     "data": {
      "application/vnd.jupyter.widget-view+json": {
       "model_id": "00be798d04574089a73107bfa5676755",
       "version_major": 2,
       "version_minor": 0
      },
      "text/plain": [
       "세종_seq2seq_BiGRU:   0%|          | 0/72 [00:00<?, ?it/s]"
      ]
     },
     "metadata": {},
     "output_type": "display_data"
    },
    {
     "data": {
      "application/vnd.jupyter.widget-view+json": {
       "model_id": "656e0a563ec64ad58bbedeeb4dd478db",
       "version_major": 2,
       "version_minor": 0
      },
      "text/plain": [
       "울산:   0%|          | 0/12 [00:00<?, ?it/s]"
      ]
     },
     "metadata": {},
     "output_type": "display_data"
    },
    {
     "data": {
      "application/vnd.jupyter.widget-view+json": {
       "model_id": "cbeb1b6580c14cb1861af3a983f8623a",
       "version_major": 2,
       "version_minor": 0
      },
      "text/plain": [
       "울산_RNN:   0%|          | 0/72 [00:00<?, ?it/s]"
      ]
     },
     "metadata": {},
     "output_type": "display_data"
    },
    {
     "data": {
      "application/vnd.jupyter.widget-view+json": {
       "model_id": "3669deb571074a8daff152508a822343",
       "version_major": 2,
       "version_minor": 0
      },
      "text/plain": [
       "울산_LSTM:   0%|          | 0/72 [00:00<?, ?it/s]"
      ]
     },
     "metadata": {},
     "output_type": "display_data"
    },
    {
     "data": {
      "application/vnd.jupyter.widget-view+json": {
       "model_id": "0cb0c96090e049f4a952cbaebc2f0f00",
       "version_major": 2,
       "version_minor": 0
      },
      "text/plain": [
       "울산_GRU:   0%|          | 0/72 [00:00<?, ?it/s]"
      ]
     },
     "metadata": {},
     "output_type": "display_data"
    },
    {
     "data": {
      "application/vnd.jupyter.widget-view+json": {
       "model_id": "a704550bd2d44434bc427a5fd15ec819",
       "version_major": 2,
       "version_minor": 0
      },
      "text/plain": [
       "울산_BiRNN:   0%|          | 0/72 [00:00<?, ?it/s]"
      ]
     },
     "metadata": {},
     "output_type": "display_data"
    },
    {
     "data": {
      "application/vnd.jupyter.widget-view+json": {
       "model_id": "f981dd6004944dcebdee9d2a96a1bf25",
       "version_major": 2,
       "version_minor": 0
      },
      "text/plain": [
       "울산_BiLSTM:   0%|          | 0/72 [00:00<?, ?it/s]"
      ]
     },
     "metadata": {},
     "output_type": "display_data"
    },
    {
     "data": {
      "application/vnd.jupyter.widget-view+json": {
       "model_id": "73f8bf6682ee4e93b17d3892fbb091f4",
       "version_major": 2,
       "version_minor": 0
      },
      "text/plain": [
       "울산_BiGRU:   0%|          | 0/72 [00:00<?, ?it/s]"
      ]
     },
     "metadata": {},
     "output_type": "display_data"
    },
    {
     "data": {
      "application/vnd.jupyter.widget-view+json": {
       "model_id": "2d7e811bc8ef414696c012808985aaa6",
       "version_major": 2,
       "version_minor": 0
      },
      "text/plain": [
       "울산_seq2seq_RNN:   0%|          | 0/72 [00:00<?, ?it/s]"
      ]
     },
     "metadata": {},
     "output_type": "display_data"
    },
    {
     "data": {
      "application/vnd.jupyter.widget-view+json": {
       "model_id": "7de9637c8f4741fdaae4007214a3b282",
       "version_major": 2,
       "version_minor": 0
      },
      "text/plain": [
       "울산_seq2seq_LSTM:   0%|          | 0/72 [00:00<?, ?it/s]"
      ]
     },
     "metadata": {},
     "output_type": "display_data"
    },
    {
     "data": {
      "application/vnd.jupyter.widget-view+json": {
       "model_id": "ba7e17372851448791b2be3a7aba7def",
       "version_major": 2,
       "version_minor": 0
      },
      "text/plain": [
       "울산_seq2seq_GRU:   0%|          | 0/72 [00:00<?, ?it/s]"
      ]
     },
     "metadata": {},
     "output_type": "display_data"
    },
    {
     "data": {
      "application/vnd.jupyter.widget-view+json": {
       "model_id": "b643f592f2cb4a9d83ce92842309ec58",
       "version_major": 2,
       "version_minor": 0
      },
      "text/plain": [
       "울산_seq2seq_BiRNN:   0%|          | 0/72 [00:00<?, ?it/s]"
      ]
     },
     "metadata": {},
     "output_type": "display_data"
    },
    {
     "data": {
      "application/vnd.jupyter.widget-view+json": {
       "model_id": "50f8266cd2f04d128986b1d635fc96d6",
       "version_major": 2,
       "version_minor": 0
      },
      "text/plain": [
       "울산_seq2seq_BiLSTM:   0%|          | 0/72 [00:00<?, ?it/s]"
      ]
     },
     "metadata": {},
     "output_type": "display_data"
    },
    {
     "data": {
      "application/vnd.jupyter.widget-view+json": {
       "model_id": "ebbdfef00e504c6f85b3d00bec2f3f91",
       "version_major": 2,
       "version_minor": 0
      },
      "text/plain": [
       "울산_seq2seq_BiGRU:   0%|          | 0/72 [00:00<?, ?it/s]"
      ]
     },
     "metadata": {},
     "output_type": "display_data"
    },
    {
     "data": {
      "application/vnd.jupyter.widget-view+json": {
       "model_id": "8041c85a2e8b4a0f9b1f261a14b8cf97",
       "version_major": 2,
       "version_minor": 0
      },
      "text/plain": [
       "인천:   0%|          | 0/12 [00:00<?, ?it/s]"
      ]
     },
     "metadata": {},
     "output_type": "display_data"
    },
    {
     "data": {
      "application/vnd.jupyter.widget-view+json": {
       "model_id": "9731d05f009e445d8d0b348102ef711b",
       "version_major": 2,
       "version_minor": 0
      },
      "text/plain": [
       "인천_RNN:   0%|          | 0/72 [00:00<?, ?it/s]"
      ]
     },
     "metadata": {},
     "output_type": "display_data"
    },
    {
     "data": {
      "application/vnd.jupyter.widget-view+json": {
       "model_id": "8c9f036d816345709c8aa7b53ab26290",
       "version_major": 2,
       "version_minor": 0
      },
      "text/plain": [
       "인천_LSTM:   0%|          | 0/72 [00:00<?, ?it/s]"
      ]
     },
     "metadata": {},
     "output_type": "display_data"
    },
    {
     "data": {
      "application/vnd.jupyter.widget-view+json": {
       "model_id": "4e3e51c6bf1947388d9d9c1baee2491b",
       "version_major": 2,
       "version_minor": 0
      },
      "text/plain": [
       "인천_GRU:   0%|          | 0/72 [00:00<?, ?it/s]"
      ]
     },
     "metadata": {},
     "output_type": "display_data"
    },
    {
     "data": {
      "application/vnd.jupyter.widget-view+json": {
       "model_id": "af068ef91c9b49a58d4dfe27fc358078",
       "version_major": 2,
       "version_minor": 0
      },
      "text/plain": [
       "인천_BiRNN:   0%|          | 0/72 [00:00<?, ?it/s]"
      ]
     },
     "metadata": {},
     "output_type": "display_data"
    },
    {
     "data": {
      "application/vnd.jupyter.widget-view+json": {
       "model_id": "a8b6c6f626914f2fa6dc83edd1f96878",
       "version_major": 2,
       "version_minor": 0
      },
      "text/plain": [
       "인천_BiLSTM:   0%|          | 0/72 [00:00<?, ?it/s]"
      ]
     },
     "metadata": {},
     "output_type": "display_data"
    },
    {
     "data": {
      "application/vnd.jupyter.widget-view+json": {
       "model_id": "787bb7f48d8f4b69814244bf3b6e9bde",
       "version_major": 2,
       "version_minor": 0
      },
      "text/plain": [
       "인천_BiGRU:   0%|          | 0/72 [00:00<?, ?it/s]"
      ]
     },
     "metadata": {},
     "output_type": "display_data"
    },
    {
     "data": {
      "application/vnd.jupyter.widget-view+json": {
       "model_id": "e52a747e9dc246c08ed64fc409b4e8c8",
       "version_major": 2,
       "version_minor": 0
      },
      "text/plain": [
       "인천_seq2seq_RNN:   0%|          | 0/72 [00:00<?, ?it/s]"
      ]
     },
     "metadata": {},
     "output_type": "display_data"
    },
    {
     "data": {
      "application/vnd.jupyter.widget-view+json": {
       "model_id": "6f25e464015640aba106759dd1fde391",
       "version_major": 2,
       "version_minor": 0
      },
      "text/plain": [
       "인천_seq2seq_LSTM:   0%|          | 0/72 [00:00<?, ?it/s]"
      ]
     },
     "metadata": {},
     "output_type": "display_data"
    },
    {
     "data": {
      "application/vnd.jupyter.widget-view+json": {
       "model_id": "4f03f4e7fc124e30ba309394a3db53a5",
       "version_major": 2,
       "version_minor": 0
      },
      "text/plain": [
       "인천_seq2seq_GRU:   0%|          | 0/72 [00:00<?, ?it/s]"
      ]
     },
     "metadata": {},
     "output_type": "display_data"
    },
    {
     "data": {
      "application/vnd.jupyter.widget-view+json": {
       "model_id": "91c8cc6be356466192d4eb9868689c42",
       "version_major": 2,
       "version_minor": 0
      },
      "text/plain": [
       "인천_seq2seq_BiRNN:   0%|          | 0/72 [00:00<?, ?it/s]"
      ]
     },
     "metadata": {},
     "output_type": "display_data"
    },
    {
     "data": {
      "application/vnd.jupyter.widget-view+json": {
       "model_id": "653a56e0cc984324be3b5b34e3f6c32b",
       "version_major": 2,
       "version_minor": 0
      },
      "text/plain": [
       "인천_seq2seq_BiLSTM:   0%|          | 0/72 [00:00<?, ?it/s]"
      ]
     },
     "metadata": {},
     "output_type": "display_data"
    },
    {
     "data": {
      "application/vnd.jupyter.widget-view+json": {
       "model_id": "1c7410c854584fe29ac78201b8461f06",
       "version_major": 2,
       "version_minor": 0
      },
      "text/plain": [
       "인천_seq2seq_BiGRU:   0%|          | 0/72 [00:00<?, ?it/s]"
      ]
     },
     "metadata": {},
     "output_type": "display_data"
    },
    {
     "data": {
      "application/vnd.jupyter.widget-view+json": {
       "model_id": "924e3b4c1598400c8fce0b186bed6a21",
       "version_major": 2,
       "version_minor": 0
      },
      "text/plain": [
       "전남:   0%|          | 0/12 [00:00<?, ?it/s]"
      ]
     },
     "metadata": {},
     "output_type": "display_data"
    },
    {
     "data": {
      "application/vnd.jupyter.widget-view+json": {
       "model_id": "f7a1422ce90d47e3a9671d545017d9f0",
       "version_major": 2,
       "version_minor": 0
      },
      "text/plain": [
       "전남_RNN:   0%|          | 0/72 [00:00<?, ?it/s]"
      ]
     },
     "metadata": {},
     "output_type": "display_data"
    },
    {
     "data": {
      "application/vnd.jupyter.widget-view+json": {
       "model_id": "680370295e4e41279dd53031a6b5eed9",
       "version_major": 2,
       "version_minor": 0
      },
      "text/plain": [
       "전남_LSTM:   0%|          | 0/72 [00:00<?, ?it/s]"
      ]
     },
     "metadata": {},
     "output_type": "display_data"
    },
    {
     "data": {
      "application/vnd.jupyter.widget-view+json": {
       "model_id": "90423851438e47f49c91b449a93d4986",
       "version_major": 2,
       "version_minor": 0
      },
      "text/plain": [
       "전남_GRU:   0%|          | 0/72 [00:00<?, ?it/s]"
      ]
     },
     "metadata": {},
     "output_type": "display_data"
    },
    {
     "data": {
      "application/vnd.jupyter.widget-view+json": {
       "model_id": "1f38fc1ddd174a68a8485c81c33dfdd4",
       "version_major": 2,
       "version_minor": 0
      },
      "text/plain": [
       "전남_BiRNN:   0%|          | 0/72 [00:00<?, ?it/s]"
      ]
     },
     "metadata": {},
     "output_type": "display_data"
    },
    {
     "data": {
      "application/vnd.jupyter.widget-view+json": {
       "model_id": "a63aa5495a9c45c788229c3d4ec2e6d8",
       "version_major": 2,
       "version_minor": 0
      },
      "text/plain": [
       "전남_BiLSTM:   0%|          | 0/72 [00:00<?, ?it/s]"
      ]
     },
     "metadata": {},
     "output_type": "display_data"
    },
    {
     "data": {
      "application/vnd.jupyter.widget-view+json": {
       "model_id": "fca1aa8ab1984c02b3b98e71c17f9c48",
       "version_major": 2,
       "version_minor": 0
      },
      "text/plain": [
       "전남_BiGRU:   0%|          | 0/72 [00:00<?, ?it/s]"
      ]
     },
     "metadata": {},
     "output_type": "display_data"
    },
    {
     "data": {
      "application/vnd.jupyter.widget-view+json": {
       "model_id": "61429b2bcf8f4f0490850a68816a3188",
       "version_major": 2,
       "version_minor": 0
      },
      "text/plain": [
       "전남_seq2seq_RNN:   0%|          | 0/72 [00:00<?, ?it/s]"
      ]
     },
     "metadata": {},
     "output_type": "display_data"
    },
    {
     "data": {
      "application/vnd.jupyter.widget-view+json": {
       "model_id": "540295c274464ce79325b12e835c8bd7",
       "version_major": 2,
       "version_minor": 0
      },
      "text/plain": [
       "전남_seq2seq_LSTM:   0%|          | 0/72 [00:00<?, ?it/s]"
      ]
     },
     "metadata": {},
     "output_type": "display_data"
    },
    {
     "data": {
      "application/vnd.jupyter.widget-view+json": {
       "model_id": "b93c85152b8745aeb906245ae5511bd6",
       "version_major": 2,
       "version_minor": 0
      },
      "text/plain": [
       "전남_seq2seq_GRU:   0%|          | 0/72 [00:00<?, ?it/s]"
      ]
     },
     "metadata": {},
     "output_type": "display_data"
    },
    {
     "data": {
      "application/vnd.jupyter.widget-view+json": {
       "model_id": "8c968307406144d9bae681b002f30353",
       "version_major": 2,
       "version_minor": 0
      },
      "text/plain": [
       "전남_seq2seq_BiRNN:   0%|          | 0/72 [00:00<?, ?it/s]"
      ]
     },
     "metadata": {},
     "output_type": "display_data"
    },
    {
     "data": {
      "application/vnd.jupyter.widget-view+json": {
       "model_id": "e381a7c422d44993aa1c1e11c2833aec",
       "version_major": 2,
       "version_minor": 0
      },
      "text/plain": [
       "전남_seq2seq_BiLSTM:   0%|          | 0/72 [00:00<?, ?it/s]"
      ]
     },
     "metadata": {},
     "output_type": "display_data"
    },
    {
     "data": {
      "application/vnd.jupyter.widget-view+json": {
       "model_id": "1af8af3eb580489eabfe6c99546b380b",
       "version_major": 2,
       "version_minor": 0
      },
      "text/plain": [
       "전남_seq2seq_BiGRU:   0%|          | 0/72 [00:00<?, ?it/s]"
      ]
     },
     "metadata": {},
     "output_type": "display_data"
    },
    {
     "data": {
      "application/vnd.jupyter.widget-view+json": {
       "model_id": "76f77089ae134c378e9f3bf92e2f84cd",
       "version_major": 2,
       "version_minor": 0
      },
      "text/plain": [
       "전북:   0%|          | 0/12 [00:00<?, ?it/s]"
      ]
     },
     "metadata": {},
     "output_type": "display_data"
    },
    {
     "data": {
      "application/vnd.jupyter.widget-view+json": {
       "model_id": "9723f2bfc37e42c78e776052ed99a164",
       "version_major": 2,
       "version_minor": 0
      },
      "text/plain": [
       "전북_RNN:   0%|          | 0/72 [00:00<?, ?it/s]"
      ]
     },
     "metadata": {},
     "output_type": "display_data"
    },
    {
     "data": {
      "application/vnd.jupyter.widget-view+json": {
       "model_id": "eee2d92c0264436590306c68ce031d21",
       "version_major": 2,
       "version_minor": 0
      },
      "text/plain": [
       "전북_LSTM:   0%|          | 0/72 [00:00<?, ?it/s]"
      ]
     },
     "metadata": {},
     "output_type": "display_data"
    },
    {
     "data": {
      "application/vnd.jupyter.widget-view+json": {
       "model_id": "27fb44a17c8f45b2a66ccbd9252c129d",
       "version_major": 2,
       "version_minor": 0
      },
      "text/plain": [
       "전북_GRU:   0%|          | 0/72 [00:00<?, ?it/s]"
      ]
     },
     "metadata": {},
     "output_type": "display_data"
    },
    {
     "data": {
      "application/vnd.jupyter.widget-view+json": {
       "model_id": "1d48ccc2a26444d899d88ac83e478b1f",
       "version_major": 2,
       "version_minor": 0
      },
      "text/plain": [
       "전북_BiRNN:   0%|          | 0/72 [00:00<?, ?it/s]"
      ]
     },
     "metadata": {},
     "output_type": "display_data"
    },
    {
     "data": {
      "application/vnd.jupyter.widget-view+json": {
       "model_id": "fb5538ac608343cc92604f5fdb39e48d",
       "version_major": 2,
       "version_minor": 0
      },
      "text/plain": [
       "전북_BiLSTM:   0%|          | 0/72 [00:00<?, ?it/s]"
      ]
     },
     "metadata": {},
     "output_type": "display_data"
    },
    {
     "data": {
      "application/vnd.jupyter.widget-view+json": {
       "model_id": "3e34e910fe0c468b9149a539eeceec9a",
       "version_major": 2,
       "version_minor": 0
      },
      "text/plain": [
       "전북_BiGRU:   0%|          | 0/72 [00:00<?, ?it/s]"
      ]
     },
     "metadata": {},
     "output_type": "display_data"
    },
    {
     "data": {
      "application/vnd.jupyter.widget-view+json": {
       "model_id": "281aa279f95e4e12af775a43e315a24b",
       "version_major": 2,
       "version_minor": 0
      },
      "text/plain": [
       "전북_seq2seq_RNN:   0%|          | 0/72 [00:00<?, ?it/s]"
      ]
     },
     "metadata": {},
     "output_type": "display_data"
    },
    {
     "data": {
      "application/vnd.jupyter.widget-view+json": {
       "model_id": "94346876907940bda6c2b6c0560fae76",
       "version_major": 2,
       "version_minor": 0
      },
      "text/plain": [
       "전북_seq2seq_LSTM:   0%|          | 0/72 [00:00<?, ?it/s]"
      ]
     },
     "metadata": {},
     "output_type": "display_data"
    },
    {
     "data": {
      "application/vnd.jupyter.widget-view+json": {
       "model_id": "bb39402fd55740c3b5ddb312ce299a52",
       "version_major": 2,
       "version_minor": 0
      },
      "text/plain": [
       "전북_seq2seq_GRU:   0%|          | 0/72 [00:00<?, ?it/s]"
      ]
     },
     "metadata": {},
     "output_type": "display_data"
    },
    {
     "data": {
      "application/vnd.jupyter.widget-view+json": {
       "model_id": "02bf5630009c4ac3bb017f37e8752006",
       "version_major": 2,
       "version_minor": 0
      },
      "text/plain": [
       "전북_seq2seq_BiRNN:   0%|          | 0/72 [00:00<?, ?it/s]"
      ]
     },
     "metadata": {},
     "output_type": "display_data"
    },
    {
     "data": {
      "application/vnd.jupyter.widget-view+json": {
       "model_id": "c99aa8aeeee143658f46b146203aaf93",
       "version_major": 2,
       "version_minor": 0
      },
      "text/plain": [
       "전북_seq2seq_BiLSTM:   0%|          | 0/72 [00:00<?, ?it/s]"
      ]
     },
     "metadata": {},
     "output_type": "display_data"
    },
    {
     "data": {
      "application/vnd.jupyter.widget-view+json": {
       "model_id": "f970ae5efdf842aa8062e300c0170083",
       "version_major": 2,
       "version_minor": 0
      },
      "text/plain": [
       "전북_seq2seq_BiGRU:   0%|          | 0/72 [00:00<?, ?it/s]"
      ]
     },
     "metadata": {},
     "output_type": "display_data"
    },
    {
     "data": {
      "application/vnd.jupyter.widget-view+json": {
       "model_id": "b773c5fac2994566b5ede9d48502412e",
       "version_major": 2,
       "version_minor": 0
      },
      "text/plain": [
       "제주:   0%|          | 0/12 [00:00<?, ?it/s]"
      ]
     },
     "metadata": {},
     "output_type": "display_data"
    },
    {
     "data": {
      "application/vnd.jupyter.widget-view+json": {
       "model_id": "bb1406f1ffd2434a90a2ebdf1b076a85",
       "version_major": 2,
       "version_minor": 0
      },
      "text/plain": [
       "제주_RNN:   0%|          | 0/72 [00:00<?, ?it/s]"
      ]
     },
     "metadata": {},
     "output_type": "display_data"
    },
    {
     "data": {
      "application/vnd.jupyter.widget-view+json": {
       "model_id": "d3708de087064a968fa318ec500c7a76",
       "version_major": 2,
       "version_minor": 0
      },
      "text/plain": [
       "제주_LSTM:   0%|          | 0/72 [00:00<?, ?it/s]"
      ]
     },
     "metadata": {},
     "output_type": "display_data"
    },
    {
     "data": {
      "application/vnd.jupyter.widget-view+json": {
       "model_id": "c4e3b60e5691460094a86791ee493554",
       "version_major": 2,
       "version_minor": 0
      },
      "text/plain": [
       "제주_GRU:   0%|          | 0/72 [00:00<?, ?it/s]"
      ]
     },
     "metadata": {},
     "output_type": "display_data"
    },
    {
     "data": {
      "application/vnd.jupyter.widget-view+json": {
       "model_id": "e05b90da95974ff1a62386bd9a72c4f6",
       "version_major": 2,
       "version_minor": 0
      },
      "text/plain": [
       "제주_BiRNN:   0%|          | 0/72 [00:00<?, ?it/s]"
      ]
     },
     "metadata": {},
     "output_type": "display_data"
    },
    {
     "data": {
      "application/vnd.jupyter.widget-view+json": {
       "model_id": "721b331d39644d3cac571cefd492cd5e",
       "version_major": 2,
       "version_minor": 0
      },
      "text/plain": [
       "제주_BiLSTM:   0%|          | 0/72 [00:00<?, ?it/s]"
      ]
     },
     "metadata": {},
     "output_type": "display_data"
    },
    {
     "data": {
      "application/vnd.jupyter.widget-view+json": {
       "model_id": "e0273bd0201c4567a413461f943d5f5e",
       "version_major": 2,
       "version_minor": 0
      },
      "text/plain": [
       "제주_BiGRU:   0%|          | 0/72 [00:00<?, ?it/s]"
      ]
     },
     "metadata": {},
     "output_type": "display_data"
    },
    {
     "data": {
      "application/vnd.jupyter.widget-view+json": {
       "model_id": "bf4c5f6cf80d4f39aa73eb60aa23db8e",
       "version_major": 2,
       "version_minor": 0
      },
      "text/plain": [
       "제주_seq2seq_RNN:   0%|          | 0/72 [00:00<?, ?it/s]"
      ]
     },
     "metadata": {},
     "output_type": "display_data"
    },
    {
     "data": {
      "application/vnd.jupyter.widget-view+json": {
       "model_id": "4af01372238649caa01066fa4ce7890a",
       "version_major": 2,
       "version_minor": 0
      },
      "text/plain": [
       "제주_seq2seq_LSTM:   0%|          | 0/72 [00:00<?, ?it/s]"
      ]
     },
     "metadata": {},
     "output_type": "display_data"
    },
    {
     "data": {
      "application/vnd.jupyter.widget-view+json": {
       "model_id": "e6281d1192804753a5ea5f11146c5cfa",
       "version_major": 2,
       "version_minor": 0
      },
      "text/plain": [
       "제주_seq2seq_GRU:   0%|          | 0/72 [00:00<?, ?it/s]"
      ]
     },
     "metadata": {},
     "output_type": "display_data"
    },
    {
     "data": {
      "application/vnd.jupyter.widget-view+json": {
       "model_id": "d0687b0d2d6748978697373c8c889e87",
       "version_major": 2,
       "version_minor": 0
      },
      "text/plain": [
       "제주_seq2seq_BiRNN:   0%|          | 0/72 [00:00<?, ?it/s]"
      ]
     },
     "metadata": {},
     "output_type": "display_data"
    },
    {
     "data": {
      "application/vnd.jupyter.widget-view+json": {
       "model_id": "0ecedcaa489041c2b8d43c99941e3439",
       "version_major": 2,
       "version_minor": 0
      },
      "text/plain": [
       "제주_seq2seq_BiLSTM:   0%|          | 0/72 [00:00<?, ?it/s]"
      ]
     },
     "metadata": {},
     "output_type": "display_data"
    },
    {
     "data": {
      "application/vnd.jupyter.widget-view+json": {
       "model_id": "1726c04bb63f4c6e9b4b66e1ed0aedbf",
       "version_major": 2,
       "version_minor": 0
      },
      "text/plain": [
       "제주_seq2seq_BiGRU:   0%|          | 0/72 [00:00<?, ?it/s]"
      ]
     },
     "metadata": {},
     "output_type": "display_data"
    },
    {
     "data": {
      "application/vnd.jupyter.widget-view+json": {
       "model_id": "b2bf4725c3094847a6ed93774648a88e",
       "version_major": 2,
       "version_minor": 0
      },
      "text/plain": [
       "충남:   0%|          | 0/12 [00:00<?, ?it/s]"
      ]
     },
     "metadata": {},
     "output_type": "display_data"
    },
    {
     "data": {
      "application/vnd.jupyter.widget-view+json": {
       "model_id": "618ff3cb70414483aea202b13e001bea",
       "version_major": 2,
       "version_minor": 0
      },
      "text/plain": [
       "충남_RNN:   0%|          | 0/72 [00:00<?, ?it/s]"
      ]
     },
     "metadata": {},
     "output_type": "display_data"
    },
    {
     "data": {
      "application/vnd.jupyter.widget-view+json": {
       "model_id": "fb1ce86aa45e44038924504f05858b4e",
       "version_major": 2,
       "version_minor": 0
      },
      "text/plain": [
       "충남_LSTM:   0%|          | 0/72 [00:00<?, ?it/s]"
      ]
     },
     "metadata": {},
     "output_type": "display_data"
    },
    {
     "data": {
      "application/vnd.jupyter.widget-view+json": {
       "model_id": "9bfa69054da54bb4ad0964a43c1087bd",
       "version_major": 2,
       "version_minor": 0
      },
      "text/plain": [
       "충남_GRU:   0%|          | 0/72 [00:00<?, ?it/s]"
      ]
     },
     "metadata": {},
     "output_type": "display_data"
    },
    {
     "data": {
      "application/vnd.jupyter.widget-view+json": {
       "model_id": "200df6289ec44e87b67135b39dd76521",
       "version_major": 2,
       "version_minor": 0
      },
      "text/plain": [
       "충남_BiRNN:   0%|          | 0/72 [00:00<?, ?it/s]"
      ]
     },
     "metadata": {},
     "output_type": "display_data"
    },
    {
     "data": {
      "application/vnd.jupyter.widget-view+json": {
       "model_id": "0156cb0d69d5490db74aa4d0c0539db3",
       "version_major": 2,
       "version_minor": 0
      },
      "text/plain": [
       "충남_BiLSTM:   0%|          | 0/72 [00:00<?, ?it/s]"
      ]
     },
     "metadata": {},
     "output_type": "display_data"
    },
    {
     "data": {
      "application/vnd.jupyter.widget-view+json": {
       "model_id": "f884d988e15b4a4ea4fe164633bf86fd",
       "version_major": 2,
       "version_minor": 0
      },
      "text/plain": [
       "충남_BiGRU:   0%|          | 0/72 [00:00<?, ?it/s]"
      ]
     },
     "metadata": {},
     "output_type": "display_data"
    },
    {
     "data": {
      "application/vnd.jupyter.widget-view+json": {
       "model_id": "61b1cd062b9e481c9645398261fae4e0",
       "version_major": 2,
       "version_minor": 0
      },
      "text/plain": [
       "충남_seq2seq_RNN:   0%|          | 0/72 [00:00<?, ?it/s]"
      ]
     },
     "metadata": {},
     "output_type": "display_data"
    },
    {
     "data": {
      "application/vnd.jupyter.widget-view+json": {
       "model_id": "85a83153ce77453daecb8ca831273928",
       "version_major": 2,
       "version_minor": 0
      },
      "text/plain": [
       "충남_seq2seq_LSTM:   0%|          | 0/72 [00:00<?, ?it/s]"
      ]
     },
     "metadata": {},
     "output_type": "display_data"
    },
    {
     "data": {
      "application/vnd.jupyter.widget-view+json": {
       "model_id": "db891e89066d4825b191bc50643b0264",
       "version_major": 2,
       "version_minor": 0
      },
      "text/plain": [
       "충남_seq2seq_GRU:   0%|          | 0/72 [00:00<?, ?it/s]"
      ]
     },
     "metadata": {},
     "output_type": "display_data"
    },
    {
     "data": {
      "application/vnd.jupyter.widget-view+json": {
       "model_id": "86f9c4a73f8e46d7acb4ba968b77c4ac",
       "version_major": 2,
       "version_minor": 0
      },
      "text/plain": [
       "충남_seq2seq_BiRNN:   0%|          | 0/72 [00:00<?, ?it/s]"
      ]
     },
     "metadata": {},
     "output_type": "display_data"
    },
    {
     "data": {
      "application/vnd.jupyter.widget-view+json": {
       "model_id": "fbfab9daf6b84eb8be3d3ec0af3de145",
       "version_major": 2,
       "version_minor": 0
      },
      "text/plain": [
       "충남_seq2seq_BiLSTM:   0%|          | 0/72 [00:00<?, ?it/s]"
      ]
     },
     "metadata": {},
     "output_type": "display_data"
    },
    {
     "data": {
      "application/vnd.jupyter.widget-view+json": {
       "model_id": "9fe102691916438a88cffd9182a89daf",
       "version_major": 2,
       "version_minor": 0
      },
      "text/plain": [
       "충남_seq2seq_BiGRU:   0%|          | 0/72 [00:00<?, ?it/s]"
      ]
     },
     "metadata": {},
     "output_type": "display_data"
    },
    {
     "data": {
      "application/vnd.jupyter.widget-view+json": {
       "model_id": "61683836a6e442a9901a830aeef30ceb",
       "version_major": 2,
       "version_minor": 0
      },
      "text/plain": [
       "충북:   0%|          | 0/12 [00:00<?, ?it/s]"
      ]
     },
     "metadata": {},
     "output_type": "display_data"
    },
    {
     "data": {
      "application/vnd.jupyter.widget-view+json": {
       "model_id": "2b709005cb834c0892198e368efc8156",
       "version_major": 2,
       "version_minor": 0
      },
      "text/plain": [
       "충북_RNN:   0%|          | 0/72 [00:00<?, ?it/s]"
      ]
     },
     "metadata": {},
     "output_type": "display_data"
    },
    {
     "data": {
      "application/vnd.jupyter.widget-view+json": {
       "model_id": "324eb0c911464bdb8d806dc439d413d4",
       "version_major": 2,
       "version_minor": 0
      },
      "text/plain": [
       "충북_LSTM:   0%|          | 0/72 [00:00<?, ?it/s]"
      ]
     },
     "metadata": {},
     "output_type": "display_data"
    },
    {
     "data": {
      "application/vnd.jupyter.widget-view+json": {
       "model_id": "e7c73947cb4a45f3969349f33be565e9",
       "version_major": 2,
       "version_minor": 0
      },
      "text/plain": [
       "충북_GRU:   0%|          | 0/72 [00:00<?, ?it/s]"
      ]
     },
     "metadata": {},
     "output_type": "display_data"
    },
    {
     "data": {
      "application/vnd.jupyter.widget-view+json": {
       "model_id": "3a4f78556df44e3ebd853511c493b774",
       "version_major": 2,
       "version_minor": 0
      },
      "text/plain": [
       "충북_BiRNN:   0%|          | 0/72 [00:00<?, ?it/s]"
      ]
     },
     "metadata": {},
     "output_type": "display_data"
    },
    {
     "data": {
      "application/vnd.jupyter.widget-view+json": {
       "model_id": "126933cd43534924ab8eb08e267387c5",
       "version_major": 2,
       "version_minor": 0
      },
      "text/plain": [
       "충북_BiLSTM:   0%|          | 0/72 [00:00<?, ?it/s]"
      ]
     },
     "metadata": {},
     "output_type": "display_data"
    },
    {
     "data": {
      "application/vnd.jupyter.widget-view+json": {
       "model_id": "0bbc7d5b8f3b443f9a45746155a9895f",
       "version_major": 2,
       "version_minor": 0
      },
      "text/plain": [
       "충북_BiGRU:   0%|          | 0/72 [00:00<?, ?it/s]"
      ]
     },
     "metadata": {},
     "output_type": "display_data"
    },
    {
     "data": {
      "application/vnd.jupyter.widget-view+json": {
       "model_id": "23b0e9887a7d4e4f85e179dd5c9f444b",
       "version_major": 2,
       "version_minor": 0
      },
      "text/plain": [
       "충북_seq2seq_RNN:   0%|          | 0/72 [00:00<?, ?it/s]"
      ]
     },
     "metadata": {},
     "output_type": "display_data"
    },
    {
     "data": {
      "application/vnd.jupyter.widget-view+json": {
       "model_id": "93cac9c3a4e44f748e5b0190601ab9ca",
       "version_major": 2,
       "version_minor": 0
      },
      "text/plain": [
       "충북_seq2seq_LSTM:   0%|          | 0/72 [00:00<?, ?it/s]"
      ]
     },
     "metadata": {},
     "output_type": "display_data"
    },
    {
     "data": {
      "application/vnd.jupyter.widget-view+json": {
       "model_id": "eaf88dc498c84e1793ca4430239c1038",
       "version_major": 2,
       "version_minor": 0
      },
      "text/plain": [
       "충북_seq2seq_GRU:   0%|          | 0/72 [00:00<?, ?it/s]"
      ]
     },
     "metadata": {},
     "output_type": "display_data"
    },
    {
     "data": {
      "application/vnd.jupyter.widget-view+json": {
       "model_id": "84db9bc0e00a4565a664c5a18a39de70",
       "version_major": 2,
       "version_minor": 0
      },
      "text/plain": [
       "충북_seq2seq_BiRNN:   0%|          | 0/72 [00:00<?, ?it/s]"
      ]
     },
     "metadata": {},
     "output_type": "display_data"
    },
    {
     "data": {
      "application/vnd.jupyter.widget-view+json": {
       "model_id": "df2ba16f9f9b474ebb4a99722489446e",
       "version_major": 2,
       "version_minor": 0
      },
      "text/plain": [
       "충북_seq2seq_BiLSTM:   0%|          | 0/72 [00:00<?, ?it/s]"
      ]
     },
     "metadata": {},
     "output_type": "display_data"
    },
    {
     "data": {
      "application/vnd.jupyter.widget-view+json": {
       "model_id": "01b1547fa7b546c8aab2c767b5a3c998",
       "version_major": 2,
       "version_minor": 0
      },
      "text/plain": [
       "충북_seq2seq_BiGRU:   0%|          | 0/72 [00:00<?, ?it/s]"
      ]
     },
     "metadata": {},
     "output_type": "display_data"
    }
   ],
   "source": [
    "trained_data = {}\n",
    "city_list = ['강원', '경기', '경남', '경북', '광주', '대구', '대전', '부산', \n",
    "             '서울', '세종', '울산', '인천', '전남', '전북', '제주', '충남', '충북']\n",
    "models_list = ['RNN', 'LSTM', 'GRU', 'BiRNN', 'BiLSTM', 'BiGRU', \n",
    "               'seq2seq_RNN', 'seq2seq_LSTM', 'seq2seq_GRU', 'seq2seq_BiRNN', 'seq2seq_BiLSTM', 'seq2seq_BiGRU']\n",
    "\n",
    "\n",
    "for city in tqdm(city_list, desc = 'cities', position = 0):\n",
    "    data = dic_files[city]\n",
    "    best_model = {}\n",
    "    \n",
    "    input_size = 3\n",
    "    sequence_length = 60\n",
    "    num_epochs = 10000\n",
    "\n",
    "    df = Prepare_df.processing(data, 'stdDay', 'Alpha_alpha')\n",
    "\n",
    "    x = df.iloc[:, 0:]\n",
    "    y = df.iloc[:,:1]\n",
    "\n",
    "    ms = MinMaxScaler()\n",
    "    ss = StandardScaler()\n",
    "\n",
    "    ss.fit(x)\n",
    "    ms.fit(y)\n",
    "\n",
    "    for num_model in tqdm(range(12), desc = f'{city}', position = 1):\n",
    "        rmse_min = np.inf\n",
    "        h = -1\n",
    "        \n",
    "        for hyperparameter in tqdm(hyperparameter_dict.values(), desc = f'{city}_{models_list[num_model]}', position = 2):\n",
    "            h += 1\n",
    "            if (num_model < 6) and (h % 2 == 1):\n",
    "                continue\n",
    "            model_name = models_list[num_model]\n",
    "            lr = hyperparameter[0]\n",
    "            patience = hyperparameter[1]\n",
    "            num_layers = hyperparameter[2]\n",
    "            hidden_size = hyperparameter[3]\n",
    "            dropout = hyperparameter[4]\n",
    "\n",
    "            if num_model < 6:\n",
    "                criterion = nn.MSELoss()\n",
    "            else:\n",
    "                criterion = hyperparameter[5]\n",
    "\n",
    "            if num_model < 6:\n",
    "                x, y, x_ss, y_ms, train_loader, test_loader = Prepare_df.split_data(df, 50, 60, 1, batch_size, 'mto')\n",
    "            else:\n",
    "                x, y, x_ss, y_ms, train_loader, test_loader = Prepare_df.split_data(df, 37, 60, 14, batch_size, 'mtm')\n",
    "\n",
    "            if num_model == 0:\n",
    "                model = RNN(input_size = input_size,\n",
    "                            hidden_size = hidden_size,\n",
    "                            sequence_length = sequence_length,\n",
    "                            num_layers = num_layers, \n",
    "                            dropout = dropout, \n",
    "                            device = device).to(device)\n",
    "\n",
    "            elif num_model == 1:\n",
    "                model = LSTM(input_size = input_size,\n",
    "                             hidden_size = hidden_size,\n",
    "                             sequence_length = sequence_length,\n",
    "                             num_layers = num_layers, \n",
    "                             dropout = dropout, \n",
    "                             device = device).to(device)\n",
    "\n",
    "            elif num_model == 2:\n",
    "                model = GRU(input_size = input_size,\n",
    "                            hidden_size = hidden_size,\n",
    "                            sequence_length = sequence_length,\n",
    "                            num_layers = num_layers, \n",
    "                            dropout = dropout, \n",
    "                            device = device).to(device)\n",
    "\n",
    "            elif num_model == 3:\n",
    "                model = BiRNN(input_size = input_size,\n",
    "                              hidden_size = hidden_size,\n",
    "                              sequence_length = sequence_length,\n",
    "                              num_layers = num_layers, \n",
    "                              dropout = dropout, \n",
    "                              device = device).to(device)\n",
    "\n",
    "            elif num_model == 4:\n",
    "                model = BiLSTM(input_size = input_size,\n",
    "                               hidden_size = hidden_size,\n",
    "                               sequence_length = sequence_length,\n",
    "                               num_layers = num_layers, \n",
    "                               dropout = dropout, \n",
    "                               device = device).to(device)\n",
    "\n",
    "            elif num_model == 5:\n",
    "                model = BiGRU(input_size = input_size,\n",
    "                              hidden_size = hidden_size,\n",
    "                              sequence_length = sequence_length,\n",
    "                              num_layers = num_layers, \n",
    "                              dropout = dropout, \n",
    "                              device = device).to(device)\n",
    "\n",
    "            elif num_model == 6:\n",
    "                model = RNN_encoder_decoder(input_size = input_size, \n",
    "                                            hidden_size = hidden_size,\n",
    "                                            num_layers = num_layers, \n",
    "                                            dropout = dropout,\n",
    "                                            device = device).to(device)\n",
    "\n",
    "            elif num_model == 7:\n",
    "                model = LSTM_encoder_decoder(input_size = input_size, \n",
    "                                             hidden_size = hidden_size,\n",
    "                                             num_layers = num_layers, \n",
    "                                             dropout = dropout,\n",
    "                                             device = device).to(device)\n",
    "\n",
    "            elif num_model == 8:\n",
    "                model = GRU_encoder_decoder(input_size = input_size, \n",
    "                                            hidden_size = hidden_size,\n",
    "                                            num_layers = num_layers, \n",
    "                                            dropout = dropout,\n",
    "                                            device = device).to(device)\n",
    "\n",
    "            elif num_model == 9:\n",
    "                model = BiRNN_encoder_decoder(input_size = input_size, \n",
    "                                                hidden_size = hidden_size,\n",
    "                                                num_layers = num_layers, \n",
    "                                                dropout = dropout,\n",
    "                                                device = device).to(device)\n",
    "\n",
    "            elif num_model == 10:\n",
    "                model = BiLSTM_encoder_decoder(input_size = input_size, \n",
    "                                                  hidden_size = hidden_size,\n",
    "                                                  num_layers = num_layers, \n",
    "                                                  dropout = dropout,\n",
    "                                                  device = device).to(device)\n",
    "\n",
    "            elif num_model == 11:\n",
    "                model = BiGRU_encoder_decoder(input_size = input_size, \n",
    "                                                hidden_size = hidden_size,\n",
    "                                                num_layers = num_layers, \n",
    "                                                dropout = dropout,\n",
    "                                                device = device).to(device)            \n",
    "\n",
    "            optimizer = Adam(model.parameters(), lr = lr)\n",
    "\n",
    "            if num_model < 6:\n",
    "                loss_list, model, epoch = Trainer.Many_to_One(train_loader, \n",
    "                                                              test_loader, \n",
    "                                                              model, \n",
    "                                                              criterion, \n",
    "                                                              optimizer, \n",
    "                                                              num_epochs, \n",
    "                                                              patience,\n",
    "                                                              device)\n",
    "\n",
    "                label_y, predicted = predict_mto(model, df, x_ss, y_ms)\n",
    "                \n",
    "                if rmse_min > rmse(label_y[-14:], predicted[-14:]):\n",
    "                    rmse_min = rmse(label_y[-14:], predicted[-14:])\n",
    "                    best_model[models_list[num_model]] = [rmse_min, model, loss_list, epoch, lr, patience, \n",
    "                                                          num_layers,hidden_size, dropout]\n",
    "                \n",
    "                \n",
    "            else:\n",
    "                loss_list, model, epoch = Trainer.Many_to_Many(train_loader, \n",
    "                                                               test_loader, \n",
    "                                                               model, \n",
    "                                                               criterion, \n",
    "                                                               optimizer, \n",
    "                                                               num_epochs, \n",
    "                                                               patience,\n",
    "                                                               14,\n",
    "                                                               device)        \n",
    "                \n",
    "                label_y, predicted, first_label_y, first_predicted, all_predicted = predict_mtm(model, df, x_ss, y_ms, \n",
    "                                                                                                14, 0.5, device)\n",
    "    \n",
    "                if rmse_min > rmse(label_y[-14:], predicted[-14:]):\n",
    "                    rmse_min = rmse(label_y[-14:], predicted[-14:])\n",
    "                    best_model[models_list[num_model]] = [rmse_min, model, loss_list, epoch, lr, patience, \n",
    "                                                          num_layers, hidden_size, dropout, criterion]\n",
    "            \n",
    "        \n",
    "            \n",
    "    trained_data[city] = best_model"
   ]
  },
  {
   "cell_type": "code",
   "execution_count": 6,
   "id": "3f549f94",
   "metadata": {
    "ExecuteTime": {
     "end_time": "2023-06-16T04:03:20.541683Z",
     "start_time": "2023-06-16T04:03:19.898376Z"
    }
   },
   "outputs": [],
   "source": [
    "for city in trained_data:\n",
    "    for name, values in trained_data[city].items():\n",
    "        save_model(values[1].state_dict(), f\"model/SIR/alpha/{city}/{name}.pth\")\n",
    "        save_hyperparameter(values[3:], f\"hyperparameter/SIR/alpha/{city}/{name}.pkl\")"
   ]
  },
  {
   "cell_type": "code",
   "execution_count": null,
   "id": "6919b301",
   "metadata": {},
   "outputs": [],
   "source": []
  },
  {
   "cell_type": "code",
   "execution_count": null,
   "id": "eb865b79",
   "metadata": {},
   "outputs": [],
   "source": []
  }
 ],
 "metadata": {
  "kernelspec": {
   "display_name": "KDA_DA",
   "language": "python",
   "name": "kda_da"
  },
  "language_info": {
   "codemirror_mode": {
    "name": "ipython",
    "version": 3
   },
   "file_extension": ".py",
   "mimetype": "text/x-python",
   "name": "python",
   "nbconvert_exporter": "python",
   "pygments_lexer": "ipython3",
   "version": "3.10.8"
  },
  "toc": {
   "base_numbering": 1,
   "nav_menu": {},
   "number_sections": true,
   "sideBar": true,
   "skip_h1_title": false,
   "title_cell": "Table of Contents",
   "title_sidebar": "Contents",
   "toc_cell": false,
   "toc_position": {},
   "toc_section_display": true,
   "toc_window_display": false
  }
 },
 "nbformat": 4,
 "nbformat_minor": 5
}
