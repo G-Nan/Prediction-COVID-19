{
 "cells": [
  {
   "cell_type": "code",
   "execution_count": 1,
   "id": "7ef1b38b",
   "metadata": {
    "ExecuteTime": {
     "end_time": "2023-06-06T09:04:22.369531Z",
     "start_time": "2023-06-06T09:04:20.090899Z"
    }
   },
   "outputs": [],
   "source": [
    "import os\n",
    "os.chdir('D:\\\\Gnan\\\\DA\\\\KMU\\\\Prediction-COVID-19')\n",
    "from utils import *\n",
    "from model import *\n",
    "from trainer import *\n",
    "\n",
    "from tqdm.notebook import tqdm\n",
    "from torch.optim.adam import Adam\n",
    "device = torch.device('cuda:0' if torch.cuda.is_available() else 'cpu')\n",
    "\n",
    "import warnings\n",
    "warnings.filterwarnings('ignore')"
   ]
  },
  {
   "cell_type": "code",
   "execution_count": 2,
   "id": "90d1bf81",
   "metadata": {
    "ExecuteTime": {
     "end_time": "2023-06-06T09:04:22.415410Z",
     "start_time": "2023-06-06T09:04:22.371528Z"
    },
    "scrolled": false
   },
   "outputs": [
    {
     "data": {
      "text/html": [
       "<div>\n",
       "<style scoped>\n",
       "    .dataframe tbody tr th:only-of-type {\n",
       "        vertical-align: middle;\n",
       "    }\n",
       "\n",
       "    .dataframe tbody tr th {\n",
       "        vertical-align: top;\n",
       "    }\n",
       "\n",
       "    .dataframe thead th {\n",
       "        text-align: right;\n",
       "    }\n",
       "</style>\n",
       "<table border=\"1\" class=\"dataframe\">\n",
       "  <thead>\n",
       "    <tr style=\"text-align: right;\">\n",
       "      <th></th>\n",
       "      <th>stdDay</th>\n",
       "      <th>incDec</th>\n",
       "      <th>alpha_variants</th>\n",
       "      <th>delta_variants</th>\n",
       "    </tr>\n",
       "  </thead>\n",
       "  <tbody>\n",
       "    <tr>\n",
       "      <th>0</th>\n",
       "      <td>2021-04-12</td>\n",
       "      <td>16.0</td>\n",
       "      <td>4.16</td>\n",
       "      <td>0.32</td>\n",
       "    </tr>\n",
       "    <tr>\n",
       "      <th>1</th>\n",
       "      <td>2021-04-13</td>\n",
       "      <td>9.0</td>\n",
       "      <td>2.34</td>\n",
       "      <td>0.18</td>\n",
       "    </tr>\n",
       "    <tr>\n",
       "      <th>2</th>\n",
       "      <td>2021-04-14</td>\n",
       "      <td>11.0</td>\n",
       "      <td>2.86</td>\n",
       "      <td>0.22</td>\n",
       "    </tr>\n",
       "    <tr>\n",
       "      <th>3</th>\n",
       "      <td>2021-04-15</td>\n",
       "      <td>18.0</td>\n",
       "      <td>4.68</td>\n",
       "      <td>0.36</td>\n",
       "    </tr>\n",
       "    <tr>\n",
       "      <th>4</th>\n",
       "      <td>2021-04-16</td>\n",
       "      <td>4.0</td>\n",
       "      <td>1.04</td>\n",
       "      <td>0.08</td>\n",
       "    </tr>\n",
       "    <tr>\n",
       "      <th>...</th>\n",
       "      <td>...</td>\n",
       "      <td>...</td>\n",
       "      <td>...</td>\n",
       "      <td>...</td>\n",
       "    </tr>\n",
       "    <tr>\n",
       "      <th>121</th>\n",
       "      <td>2021-08-11</td>\n",
       "      <td>66.0</td>\n",
       "      <td>0.66</td>\n",
       "      <td>62.70</td>\n",
       "    </tr>\n",
       "    <tr>\n",
       "      <th>122</th>\n",
       "      <td>2021-08-12</td>\n",
       "      <td>39.0</td>\n",
       "      <td>0.39</td>\n",
       "      <td>37.05</td>\n",
       "    </tr>\n",
       "    <tr>\n",
       "      <th>123</th>\n",
       "      <td>2021-08-13</td>\n",
       "      <td>57.0</td>\n",
       "      <td>0.57</td>\n",
       "      <td>54.15</td>\n",
       "    </tr>\n",
       "    <tr>\n",
       "      <th>124</th>\n",
       "      <td>2021-08-14</td>\n",
       "      <td>82.0</td>\n",
       "      <td>0.82</td>\n",
       "      <td>77.90</td>\n",
       "    </tr>\n",
       "    <tr>\n",
       "      <th>125</th>\n",
       "      <td>2021-08-15</td>\n",
       "      <td>57.0</td>\n",
       "      <td>0.57</td>\n",
       "      <td>54.15</td>\n",
       "    </tr>\n",
       "  </tbody>\n",
       "</table>\n",
       "<p>126 rows × 4 columns</p>\n",
       "</div>"
      ],
      "text/plain": [
       "         stdDay  incDec  alpha_variants  delta_variants\n",
       "0    2021-04-12    16.0            4.16            0.32\n",
       "1    2021-04-13     9.0            2.34            0.18\n",
       "2    2021-04-14    11.0            2.86            0.22\n",
       "3    2021-04-15    18.0            4.68            0.36\n",
       "4    2021-04-16     4.0            1.04            0.08\n",
       "..          ...     ...             ...             ...\n",
       "121  2021-08-11    66.0            0.66           62.70\n",
       "122  2021-08-12    39.0            0.39           37.05\n",
       "123  2021-08-13    57.0            0.57           54.15\n",
       "124  2021-08-14    82.0            0.82           77.90\n",
       "125  2021-08-15    57.0            0.57           54.15\n",
       "\n",
       "[126 rows x 4 columns]"
      ]
     },
     "execution_count": 2,
     "metadata": {},
     "output_type": "execute_result"
    }
   ],
   "source": [
    "path = 'Data/Variants/alpha_delta/*.csv'\n",
    "dic_files = Load_files.load_files(path, -18, -16)\n",
    "data = dic_files['대구']\n",
    "data"
   ]
  },
  {
   "cell_type": "code",
   "execution_count": 3,
   "id": "3eab9d6e",
   "metadata": {
    "ExecuteTime": {
     "end_time": "2023-06-06T09:04:22.431389Z",
     "start_time": "2023-06-06T09:04:22.418402Z"
    }
   },
   "outputs": [
    {
     "name": "stdout",
     "output_type": "stream",
     "text": [
      "144\n"
     ]
    }
   ],
   "source": [
    "learning_rates_list = [1e-3, 1e-4, 1e-5]\n",
    "patiences_list = [20, 50]\n",
    "num_layers_list = [1, 2, 4, 8]\n",
    "batch_sizes_list = [32, 64]\n",
    "hidden_sizes_list = [8, 16, 32]\n",
    "dropout_list = [0.25]\n",
    "\n",
    "hyperparameter_dict = {}\n",
    "i = 0\n",
    "\n",
    "for lr in learning_rates_list:\n",
    "    for patience in patiences_list:\n",
    "        for num_layers in num_layers_list:\n",
    "            for batch_sizes in batch_sizes_list:\n",
    "                for hidden_size in hidden_sizes_list:    \n",
    "                    for dropout in dropout_list:\n",
    "                        hyperparameter_dict[i] = [lr, patience, num_layers, batch_sizes, hidden_size, dropout]\n",
    "                        i += 1\n",
    "                        \n",
    "print(i)"
   ]
  },
  {
   "cell_type": "code",
   "execution_count": 4,
   "id": "b782dd4c",
   "metadata": {
    "ExecuteTime": {
     "end_time": "2023-06-06T09:16:11.377486Z",
     "start_time": "2023-06-06T09:04:22.435360Z"
    },
    "scrolled": true
   },
   "outputs": [
    {
     "data": {
      "application/vnd.jupyter.widget-view+json": {
       "model_id": "e7740bb0295948f8be0a956841ac4cc0",
       "version_major": 2,
       "version_minor": 0
      },
      "text/plain": [
       "대구_GRU:   0%|          | 0/144 [00:00<?, ?it/s]"
      ]
     },
     "metadata": {},
     "output_type": "display_data"
    },
    {
     "name": "stdout",
     "output_type": "stream",
     "text": [
      "-------------------------------------------------------------------------------------\n",
      "lr: 0.001  patience: 20  num_layers: 1  batch_size: 32  hidden_size: 8  dropout: 0.25\n"
     ]
    },
    {
     "data": {
      "application/vnd.jupyter.widget-view+json": {
       "model_id": "38ea4e20448d4cbda98b0e2191fbfbf2",
       "version_major": 2,
       "version_minor": 0
      },
      "text/plain": [
       "  0%|          | 0/10000 [00:00<?, ?it/s]"
      ]
     },
     "metadata": {},
     "output_type": "display_data"
    },
    {
     "name": "stdout",
     "output_type": "stream",
     "text": [
      "\n",
      " Early Stopping / epoch: 105 loss: 0.0000\n",
      "-------------------------------------------------------------------------------------\n",
      "lr: 0.001  patience: 20  num_layers: 1  batch_size: 32  hidden_size: 16  dropout: 0.25\n"
     ]
    },
    {
     "data": {
      "application/vnd.jupyter.widget-view+json": {
       "model_id": "bb467755aca24211b17cd68220fec12d",
       "version_major": 2,
       "version_minor": 0
      },
      "text/plain": [
       "  0%|          | 0/10000 [00:00<?, ?it/s]"
      ]
     },
     "metadata": {},
     "output_type": "display_data"
    },
    {
     "name": "stdout",
     "output_type": "stream",
     "text": [
      "\n",
      " Early Stopping / epoch: 229 loss: 0.0000\n",
      "-------------------------------------------------------------------------------------\n",
      "lr: 0.001  patience: 20  num_layers: 1  batch_size: 32  hidden_size: 32  dropout: 0.25\n"
     ]
    },
    {
     "data": {
      "application/vnd.jupyter.widget-view+json": {
       "model_id": "fb54e242698f442fab0f8dd209ac8a93",
       "version_major": 2,
       "version_minor": 0
      },
      "text/plain": [
       "  0%|          | 0/10000 [00:00<?, ?it/s]"
      ]
     },
     "metadata": {},
     "output_type": "display_data"
    },
    {
     "name": "stdout",
     "output_type": "stream",
     "text": [
      "\n",
      " Early Stopping / epoch: 116 loss: 0.0000\n",
      "-------------------------------------------------------------------------------------\n",
      "lr: 0.001  patience: 20  num_layers: 1  batch_size: 64  hidden_size: 8  dropout: 0.25\n"
     ]
    },
    {
     "data": {
      "application/vnd.jupyter.widget-view+json": {
       "model_id": "8bbf602da0914c6ebb028f16c677558b",
       "version_major": 2,
       "version_minor": 0
      },
      "text/plain": [
       "  0%|          | 0/10000 [00:00<?, ?it/s]"
      ]
     },
     "metadata": {},
     "output_type": "display_data"
    },
    {
     "name": "stdout",
     "output_type": "stream",
     "text": [
      "\n",
      " Early Stopping / epoch: 620 loss: 0.0000\n",
      "-------------------------------------------------------------------------------------\n",
      "lr: 0.001  patience: 20  num_layers: 1  batch_size: 64  hidden_size: 16  dropout: 0.25\n"
     ]
    },
    {
     "data": {
      "application/vnd.jupyter.widget-view+json": {
       "model_id": "b3516e899ef0495bb1e95ab38c6e5a7e",
       "version_major": 2,
       "version_minor": 0
      },
      "text/plain": [
       "  0%|          | 0/10000 [00:00<?, ?it/s]"
      ]
     },
     "metadata": {},
     "output_type": "display_data"
    },
    {
     "name": "stdout",
     "output_type": "stream",
     "text": [
      "\n",
      " Early Stopping / epoch: 694 loss: 0.0000\n",
      "-------------------------------------------------------------------------------------\n",
      "lr: 0.001  patience: 20  num_layers: 1  batch_size: 64  hidden_size: 32  dropout: 0.25\n"
     ]
    },
    {
     "data": {
      "application/vnd.jupyter.widget-view+json": {
       "model_id": "8fed1cf3f43c4465a86320b2ad471529",
       "version_major": 2,
       "version_minor": 0
      },
      "text/plain": [
       "  0%|          | 0/10000 [00:00<?, ?it/s]"
      ]
     },
     "metadata": {},
     "output_type": "display_data"
    },
    {
     "name": "stdout",
     "output_type": "stream",
     "text": [
      "\n",
      " Early Stopping / epoch: 455 loss: 0.0000\n",
      "-------------------------------------------------------------------------------------\n",
      "lr: 0.001  patience: 20  num_layers: 2  batch_size: 32  hidden_size: 8  dropout: 0.25\n"
     ]
    },
    {
     "data": {
      "application/vnd.jupyter.widget-view+json": {
       "model_id": "22fb3448ff6e4761b797b9773367cc20",
       "version_major": 2,
       "version_minor": 0
      },
      "text/plain": [
       "  0%|          | 0/10000 [00:00<?, ?it/s]"
      ]
     },
     "metadata": {},
     "output_type": "display_data"
    },
    {
     "name": "stdout",
     "output_type": "stream",
     "text": [
      "\n",
      " Early Stopping / epoch: 106 loss: 0.0001\n",
      "-------------------------------------------------------------------------------------\n",
      "lr: 0.001  patience: 20  num_layers: 2  batch_size: 32  hidden_size: 16  dropout: 0.25\n"
     ]
    },
    {
     "data": {
      "application/vnd.jupyter.widget-view+json": {
       "model_id": "9100bfd8804149b3b7d4ccf9e4d4324a",
       "version_major": 2,
       "version_minor": 0
      },
      "text/plain": [
       "  0%|          | 0/10000 [00:00<?, ?it/s]"
      ]
     },
     "metadata": {},
     "output_type": "display_data"
    },
    {
     "name": "stdout",
     "output_type": "stream",
     "text": [
      "\n",
      " Early Stopping / epoch: 117 loss: 0.0001\n",
      "-------------------------------------------------------------------------------------\n",
      "lr: 0.001  patience: 20  num_layers: 2  batch_size: 32  hidden_size: 32  dropout: 0.25\n"
     ]
    },
    {
     "data": {
      "application/vnd.jupyter.widget-view+json": {
       "model_id": "a9f0618b3fcd41239c6263af1034ee85",
       "version_major": 2,
       "version_minor": 0
      },
      "text/plain": [
       "  0%|          | 0/10000 [00:00<?, ?it/s]"
      ]
     },
     "metadata": {},
     "output_type": "display_data"
    },
    {
     "name": "stdout",
     "output_type": "stream",
     "text": [
      "\n",
      " Early Stopping / epoch: 171 loss: 0.0000\n",
      "-------------------------------------------------------------------------------------\n",
      "lr: 0.001  patience: 20  num_layers: 2  batch_size: 64  hidden_size: 8  dropout: 0.25\n"
     ]
    },
    {
     "data": {
      "application/vnd.jupyter.widget-view+json": {
       "model_id": "9c8983a25e5f4803be4a3444c0c687ac",
       "version_major": 2,
       "version_minor": 0
      },
      "text/plain": [
       "  0%|          | 0/10000 [00:00<?, ?it/s]"
      ]
     },
     "metadata": {},
     "output_type": "display_data"
    },
    {
     "name": "stdout",
     "output_type": "stream",
     "text": [
      "\n",
      " Early Stopping / epoch: 155 loss: 0.0001\n",
      "-------------------------------------------------------------------------------------\n",
      "lr: 0.001  patience: 20  num_layers: 2  batch_size: 64  hidden_size: 16  dropout: 0.25\n"
     ]
    },
    {
     "data": {
      "application/vnd.jupyter.widget-view+json": {
       "model_id": "e1b5e1ea2a9243779e705d1a5693a8da",
       "version_major": 2,
       "version_minor": 0
      },
      "text/plain": [
       "  0%|          | 0/10000 [00:00<?, ?it/s]"
      ]
     },
     "metadata": {},
     "output_type": "display_data"
    },
    {
     "name": "stdout",
     "output_type": "stream",
     "text": [
      "\n",
      " Early Stopping / epoch: 175 loss: 0.0002\n",
      "-------------------------------------------------------------------------------------\n",
      "lr: 0.001  patience: 20  num_layers: 2  batch_size: 64  hidden_size: 32  dropout: 0.25\n"
     ]
    },
    {
     "data": {
      "application/vnd.jupyter.widget-view+json": {
       "model_id": "45eeb0dd970c425196feec51782461c2",
       "version_major": 2,
       "version_minor": 0
      },
      "text/plain": [
       "  0%|          | 0/10000 [00:00<?, ?it/s]"
      ]
     },
     "metadata": {},
     "output_type": "display_data"
    },
    {
     "name": "stdout",
     "output_type": "stream",
     "text": [
      "\n",
      " Early Stopping / epoch: 152 loss: 0.0001\n",
      "-------------------------------------------------------------------------------------\n",
      "lr: 0.001  patience: 20  num_layers: 4  batch_size: 32  hidden_size: 8  dropout: 0.25\n"
     ]
    },
    {
     "data": {
      "application/vnd.jupyter.widget-view+json": {
       "model_id": "6a455e61a970474c98b38154191c5d1c",
       "version_major": 2,
       "version_minor": 0
      },
      "text/plain": [
       "  0%|          | 0/10000 [00:00<?, ?it/s]"
      ]
     },
     "metadata": {},
     "output_type": "display_data"
    },
    {
     "name": "stdout",
     "output_type": "stream",
     "text": [
      "\n",
      " Early Stopping / epoch: 144 loss: 0.0005\n",
      "-------------------------------------------------------------------------------------\n",
      "lr: 0.001  patience: 20  num_layers: 4  batch_size: 32  hidden_size: 16  dropout: 0.25\n"
     ]
    },
    {
     "data": {
      "application/vnd.jupyter.widget-view+json": {
       "model_id": "09fbdaad2420451db00722fe00ff1ef9",
       "version_major": 2,
       "version_minor": 0
      },
      "text/plain": [
       "  0%|          | 0/10000 [00:00<?, ?it/s]"
      ]
     },
     "metadata": {},
     "output_type": "display_data"
    },
    {
     "name": "stdout",
     "output_type": "stream",
     "text": [
      "\n",
      " Early Stopping / epoch: 166 loss: 0.0002\n",
      "-------------------------------------------------------------------------------------\n",
      "lr: 0.001  patience: 20  num_layers: 4  batch_size: 32  hidden_size: 32  dropout: 0.25\n"
     ]
    },
    {
     "data": {
      "application/vnd.jupyter.widget-view+json": {
       "model_id": "6e81ac49dd874be18f21080bd7a091f6",
       "version_major": 2,
       "version_minor": 0
      },
      "text/plain": [
       "  0%|          | 0/10000 [00:00<?, ?it/s]"
      ]
     },
     "metadata": {},
     "output_type": "display_data"
    },
    {
     "name": "stdout",
     "output_type": "stream",
     "text": [
      "\n",
      " Early Stopping / epoch: 132 loss: 0.0002\n",
      "-------------------------------------------------------------------------------------\n",
      "lr: 0.001  patience: 20  num_layers: 4  batch_size: 64  hidden_size: 8  dropout: 0.25\n"
     ]
    },
    {
     "data": {
      "application/vnd.jupyter.widget-view+json": {
       "model_id": "ed38383184a042f98c4bb5d31c6d1140",
       "version_major": 2,
       "version_minor": 0
      },
      "text/plain": [
       "  0%|          | 0/10000 [00:00<?, ?it/s]"
      ]
     },
     "metadata": {},
     "output_type": "display_data"
    },
    {
     "name": "stdout",
     "output_type": "stream",
     "text": [
      "\n",
      " Early Stopping / epoch: 211 loss: 0.0004\n",
      "-------------------------------------------------------------------------------------\n",
      "lr: 0.001  patience: 20  num_layers: 4  batch_size: 64  hidden_size: 16  dropout: 0.25\n"
     ]
    },
    {
     "data": {
      "application/vnd.jupyter.widget-view+json": {
       "model_id": "45d1b8fced234a14bfdcdbba2531e672",
       "version_major": 2,
       "version_minor": 0
      },
      "text/plain": [
       "  0%|          | 0/10000 [00:00<?, ?it/s]"
      ]
     },
     "metadata": {},
     "output_type": "display_data"
    },
    {
     "name": "stdout",
     "output_type": "stream",
     "text": [
      "\n",
      " Early Stopping / epoch: 244 loss: 0.0002\n",
      "-------------------------------------------------------------------------------------\n",
      "lr: 0.001  patience: 20  num_layers: 4  batch_size: 64  hidden_size: 32  dropout: 0.25\n"
     ]
    },
    {
     "data": {
      "application/vnd.jupyter.widget-view+json": {
       "model_id": "ca4d93fb472c485e93fcf564b6dac1ad",
       "version_major": 2,
       "version_minor": 0
      },
      "text/plain": [
       "  0%|          | 0/10000 [00:00<?, ?it/s]"
      ]
     },
     "metadata": {},
     "output_type": "display_data"
    },
    {
     "name": "stdout",
     "output_type": "stream",
     "text": [
      "\n",
      " Early Stopping / epoch: 134 loss: 0.0004\n",
      "-------------------------------------------------------------------------------------\n",
      "lr: 0.001  patience: 20  num_layers: 8  batch_size: 32  hidden_size: 8  dropout: 0.25\n"
     ]
    },
    {
     "data": {
      "application/vnd.jupyter.widget-view+json": {
       "model_id": "e6726551bfd047899abe6b639b6aaffe",
       "version_major": 2,
       "version_minor": 0
      },
      "text/plain": [
       "  0%|          | 0/10000 [00:00<?, ?it/s]"
      ]
     },
     "metadata": {},
     "output_type": "display_data"
    },
    {
     "name": "stdout",
     "output_type": "stream",
     "text": [
      "\n",
      " Early Stopping / epoch: 31 loss: 0.0017\n",
      "-------------------------------------------------------------------------------------\n",
      "lr: 0.001  patience: 20  num_layers: 8  batch_size: 32  hidden_size: 16  dropout: 0.25\n"
     ]
    },
    {
     "data": {
      "application/vnd.jupyter.widget-view+json": {
       "model_id": "1a58599ddba347c2bd7c8a64ff63aaf0",
       "version_major": 2,
       "version_minor": 0
      },
      "text/plain": [
       "  0%|          | 0/10000 [00:00<?, ?it/s]"
      ]
     },
     "metadata": {},
     "output_type": "display_data"
    },
    {
     "name": "stdout",
     "output_type": "stream",
     "text": [
      "\n",
      " Early Stopping / epoch: 134 loss: 0.0004\n",
      "-------------------------------------------------------------------------------------\n",
      "lr: 0.001  patience: 20  num_layers: 8  batch_size: 32  hidden_size: 32  dropout: 0.25\n"
     ]
    },
    {
     "data": {
      "application/vnd.jupyter.widget-view+json": {
       "model_id": "cf8753d2a03c45ed938af96a00b6473a",
       "version_major": 2,
       "version_minor": 0
      },
      "text/plain": [
       "  0%|          | 0/10000 [00:00<?, ?it/s]"
      ]
     },
     "metadata": {},
     "output_type": "display_data"
    },
    {
     "name": "stdout",
     "output_type": "stream",
     "text": [
      "\n",
      " Early Stopping / epoch: 95 loss: 0.0004\n",
      "-------------------------------------------------------------------------------------\n",
      "lr: 0.001  patience: 20  num_layers: 8  batch_size: 64  hidden_size: 8  dropout: 0.25\n"
     ]
    },
    {
     "data": {
      "application/vnd.jupyter.widget-view+json": {
       "model_id": "9b6baefe9d924f81b096a35f134f2fbf",
       "version_major": 2,
       "version_minor": 0
      },
      "text/plain": [
       "  0%|          | 0/10000 [00:00<?, ?it/s]"
      ]
     },
     "metadata": {},
     "output_type": "display_data"
    },
    {
     "name": "stdout",
     "output_type": "stream",
     "text": [
      "\n",
      " Early Stopping / epoch: 81 loss: 0.0017\n",
      "-------------------------------------------------------------------------------------\n",
      "lr: 0.001  patience: 20  num_layers: 8  batch_size: 64  hidden_size: 16  dropout: 0.25\n"
     ]
    },
    {
     "data": {
      "application/vnd.jupyter.widget-view+json": {
       "model_id": "23f0361533c24fc8bcb9ce7eba2471b9",
       "version_major": 2,
       "version_minor": 0
      },
      "text/plain": [
       "  0%|          | 0/10000 [00:00<?, ?it/s]"
      ]
     },
     "metadata": {},
     "output_type": "display_data"
    },
    {
     "name": "stdout",
     "output_type": "stream",
     "text": [
      "\n",
      " Early Stopping / epoch: 49 loss: 0.0017\n",
      "-------------------------------------------------------------------------------------\n",
      "lr: 0.001  patience: 20  num_layers: 8  batch_size: 64  hidden_size: 32  dropout: 0.25\n"
     ]
    },
    {
     "data": {
      "application/vnd.jupyter.widget-view+json": {
       "model_id": "59823a5b1c234875bf91c390505332d7",
       "version_major": 2,
       "version_minor": 0
      },
      "text/plain": [
       "  0%|          | 0/10000 [00:00<?, ?it/s]"
      ]
     },
     "metadata": {},
     "output_type": "display_data"
    },
    {
     "name": "stdout",
     "output_type": "stream",
     "text": [
      "\n",
      " Early Stopping / epoch: 208 loss: 0.0002\n",
      "-------------------------------------------------------------------------------------\n",
      "lr: 0.001  patience: 50  num_layers: 1  batch_size: 32  hidden_size: 8  dropout: 0.25\n"
     ]
    },
    {
     "data": {
      "application/vnd.jupyter.widget-view+json": {
       "model_id": "8ddd93d793ed4d6a9d42d35485dfcc6f",
       "version_major": 2,
       "version_minor": 0
      },
      "text/plain": [
       "  0%|          | 0/10000 [00:00<?, ?it/s]"
      ]
     },
     "metadata": {},
     "output_type": "display_data"
    },
    {
     "name": "stdout",
     "output_type": "stream",
     "text": [
      "\n",
      " Early Stopping / epoch: 412 loss: 0.0000\n",
      "-------------------------------------------------------------------------------------\n",
      "lr: 0.001  patience: 50  num_layers: 1  batch_size: 32  hidden_size: 16  dropout: 0.25\n"
     ]
    },
    {
     "data": {
      "application/vnd.jupyter.widget-view+json": {
       "model_id": "114a34fcdb6e47a2ae49348bb59e1149",
       "version_major": 2,
       "version_minor": 0
      },
      "text/plain": [
       "  0%|          | 0/10000 [00:00<?, ?it/s]"
      ]
     },
     "metadata": {},
     "output_type": "display_data"
    },
    {
     "name": "stdout",
     "output_type": "stream",
     "text": [
      "\n",
      " Early Stopping / epoch: 387 loss: 0.0000\n",
      "-------------------------------------------------------------------------------------\n",
      "lr: 0.001  patience: 50  num_layers: 1  batch_size: 32  hidden_size: 32  dropout: 0.25\n"
     ]
    },
    {
     "data": {
      "application/vnd.jupyter.widget-view+json": {
       "model_id": "4529d33fa1a24540a5481d4ce737fa10",
       "version_major": 2,
       "version_minor": 0
      },
      "text/plain": [
       "  0%|          | 0/10000 [00:00<?, ?it/s]"
      ]
     },
     "metadata": {},
     "output_type": "display_data"
    },
    {
     "name": "stdout",
     "output_type": "stream",
     "text": [
      "\n",
      " Early Stopping / epoch: 652 loss: 0.0000\n",
      "-------------------------------------------------------------------------------------\n",
      "lr: 0.001  patience: 50  num_layers: 1  batch_size: 64  hidden_size: 8  dropout: 0.25\n"
     ]
    },
    {
     "data": {
      "application/vnd.jupyter.widget-view+json": {
       "model_id": "a3c371a6cb084ebb8405913d313c869e",
       "version_major": 2,
       "version_minor": 0
      },
      "text/plain": [
       "  0%|          | 0/10000 [00:00<?, ?it/s]"
      ]
     },
     "metadata": {},
     "output_type": "display_data"
    },
    {
     "name": "stdout",
     "output_type": "stream",
     "text": [
      "\n",
      " Early Stopping / epoch: 963 loss: 0.0000\n",
      "-------------------------------------------------------------------------------------\n",
      "lr: 0.001  patience: 50  num_layers: 1  batch_size: 64  hidden_size: 16  dropout: 0.25\n"
     ]
    },
    {
     "data": {
      "application/vnd.jupyter.widget-view+json": {
       "model_id": "7b4fa693ddcc4f8ba3f28eaed6d661cf",
       "version_major": 2,
       "version_minor": 0
      },
      "text/plain": [
       "  0%|          | 0/10000 [00:00<?, ?it/s]"
      ]
     },
     "metadata": {},
     "output_type": "display_data"
    },
    {
     "name": "stdout",
     "output_type": "stream",
     "text": [
      "\n",
      " Early Stopping / epoch: 1014 loss: 0.0000\n",
      "-------------------------------------------------------------------------------------\n",
      "lr: 0.001  patience: 50  num_layers: 1  batch_size: 64  hidden_size: 32  dropout: 0.25\n"
     ]
    },
    {
     "data": {
      "application/vnd.jupyter.widget-view+json": {
       "model_id": "1d7a18908f5d49fba225be0c6a608bca",
       "version_major": 2,
       "version_minor": 0
      },
      "text/plain": [
       "  0%|          | 0/10000 [00:00<?, ?it/s]"
      ]
     },
     "metadata": {},
     "output_type": "display_data"
    },
    {
     "name": "stdout",
     "output_type": "stream",
     "text": [
      "\n",
      " Early Stopping / epoch: 264 loss: 0.0000\n",
      "-------------------------------------------------------------------------------------\n",
      "lr: 0.001  patience: 50  num_layers: 2  batch_size: 32  hidden_size: 8  dropout: 0.25\n"
     ]
    },
    {
     "data": {
      "application/vnd.jupyter.widget-view+json": {
       "model_id": "abdc43f894fb4a7a8fe8087717d73ec5",
       "version_major": 2,
       "version_minor": 0
      },
      "text/plain": [
       "  0%|          | 0/10000 [00:00<?, ?it/s]"
      ]
     },
     "metadata": {},
     "output_type": "display_data"
    },
    {
     "name": "stdout",
     "output_type": "stream",
     "text": [
      "\n",
      " Early Stopping / epoch: 390 loss: 0.0000\n",
      "-------------------------------------------------------------------------------------\n",
      "lr: 0.001  patience: 50  num_layers: 2  batch_size: 32  hidden_size: 16  dropout: 0.25\n"
     ]
    },
    {
     "data": {
      "application/vnd.jupyter.widget-view+json": {
       "model_id": "7902305dce414da4a8f1380f39e5e6b2",
       "version_major": 2,
       "version_minor": 0
      },
      "text/plain": [
       "  0%|          | 0/10000 [00:00<?, ?it/s]"
      ]
     },
     "metadata": {},
     "output_type": "display_data"
    },
    {
     "name": "stdout",
     "output_type": "stream",
     "text": [
      "\n",
      " Early Stopping / epoch: 197 loss: 0.0000\n",
      "-------------------------------------------------------------------------------------\n",
      "lr: 0.001  patience: 50  num_layers: 2  batch_size: 32  hidden_size: 32  dropout: 0.25\n"
     ]
    },
    {
     "data": {
      "application/vnd.jupyter.widget-view+json": {
       "model_id": "4d6515624e674c188cbe42596fbbaca0",
       "version_major": 2,
       "version_minor": 0
      },
      "text/plain": [
       "  0%|          | 0/10000 [00:00<?, ?it/s]"
      ]
     },
     "metadata": {},
     "output_type": "display_data"
    },
    {
     "name": "stdout",
     "output_type": "stream",
     "text": [
      "\n",
      " Early Stopping / epoch: 182 loss: 0.0000\n",
      "-------------------------------------------------------------------------------------\n",
      "lr: 0.001  patience: 50  num_layers: 2  batch_size: 64  hidden_size: 8  dropout: 0.25\n"
     ]
    },
    {
     "data": {
      "application/vnd.jupyter.widget-view+json": {
       "model_id": "ffe65c5c0a854bff96928ea9d6757a83",
       "version_major": 2,
       "version_minor": 0
      },
      "text/plain": [
       "  0%|          | 0/10000 [00:00<?, ?it/s]"
      ]
     },
     "metadata": {},
     "output_type": "display_data"
    },
    {
     "name": "stdout",
     "output_type": "stream",
     "text": [
      "\n",
      " Early Stopping / epoch: 258 loss: 0.0001\n",
      "-------------------------------------------------------------------------------------\n",
      "lr: 0.001  patience: 50  num_layers: 2  batch_size: 64  hidden_size: 16  dropout: 0.25\n"
     ]
    },
    {
     "data": {
      "application/vnd.jupyter.widget-view+json": {
       "model_id": "296156e6365e47eb816af597ba9b4d76",
       "version_major": 2,
       "version_minor": 0
      },
      "text/plain": [
       "  0%|          | 0/10000 [00:00<?, ?it/s]"
      ]
     },
     "metadata": {},
     "output_type": "display_data"
    },
    {
     "name": "stdout",
     "output_type": "stream",
     "text": [
      "\n",
      " Early Stopping / epoch: 493 loss: 0.0000\n",
      "-------------------------------------------------------------------------------------\n",
      "lr: 0.001  patience: 50  num_layers: 2  batch_size: 64  hidden_size: 32  dropout: 0.25\n"
     ]
    },
    {
     "data": {
      "application/vnd.jupyter.widget-view+json": {
       "model_id": "7b388afe9a1241b0a9205fecd24d2c65",
       "version_major": 2,
       "version_minor": 0
      },
      "text/plain": [
       "  0%|          | 0/10000 [00:00<?, ?it/s]"
      ]
     },
     "metadata": {},
     "output_type": "display_data"
    },
    {
     "name": "stdout",
     "output_type": "stream",
     "text": [
      "\n",
      " Early Stopping / epoch: 402 loss: 0.0000\n",
      "-------------------------------------------------------------------------------------\n",
      "lr: 0.001  patience: 50  num_layers: 4  batch_size: 32  hidden_size: 8  dropout: 0.25\n"
     ]
    },
    {
     "data": {
      "application/vnd.jupyter.widget-view+json": {
       "model_id": "9bcefc7d78ee43228056ce36dd3ebc28",
       "version_major": 2,
       "version_minor": 0
      },
      "text/plain": [
       "  0%|          | 0/10000 [00:00<?, ?it/s]"
      ]
     },
     "metadata": {},
     "output_type": "display_data"
    },
    {
     "name": "stdout",
     "output_type": "stream",
     "text": [
      "\n",
      " Early Stopping / epoch: 611 loss: 0.0000\n",
      "-------------------------------------------------------------------------------------\n",
      "lr: 0.001  patience: 50  num_layers: 4  batch_size: 32  hidden_size: 16  dropout: 0.25\n"
     ]
    },
    {
     "data": {
      "application/vnd.jupyter.widget-view+json": {
       "model_id": "e96f516bca5749af87f9f62f820e1c9c",
       "version_major": 2,
       "version_minor": 0
      },
      "text/plain": [
       "  0%|          | 0/10000 [00:00<?, ?it/s]"
      ]
     },
     "metadata": {},
     "output_type": "display_data"
    },
    {
     "name": "stdout",
     "output_type": "stream",
     "text": [
      "\n",
      " Early Stopping / epoch: 819 loss: 0.0000\n",
      "-------------------------------------------------------------------------------------\n",
      "lr: 0.001  patience: 50  num_layers: 4  batch_size: 32  hidden_size: 32  dropout: 0.25\n"
     ]
    },
    {
     "data": {
      "application/vnd.jupyter.widget-view+json": {
       "model_id": "5e0d1356487f439fb65967fba4eeed20",
       "version_major": 2,
       "version_minor": 0
      },
      "text/plain": [
       "  0%|          | 0/10000 [00:00<?, ?it/s]"
      ]
     },
     "metadata": {},
     "output_type": "display_data"
    },
    {
     "name": "stdout",
     "output_type": "stream",
     "text": [
      "\n",
      " Early Stopping / epoch: 448 loss: 0.0000\n",
      "-------------------------------------------------------------------------------------\n",
      "lr: 0.001  patience: 50  num_layers: 4  batch_size: 64  hidden_size: 8  dropout: 0.25\n"
     ]
    },
    {
     "data": {
      "application/vnd.jupyter.widget-view+json": {
       "model_id": "0f700205873a41c886432c805e0d50fa",
       "version_major": 2,
       "version_minor": 0
      },
      "text/plain": [
       "  0%|          | 0/10000 [00:00<?, ?it/s]"
      ]
     },
     "metadata": {},
     "output_type": "display_data"
    },
    {
     "name": "stdout",
     "output_type": "stream",
     "text": [
      "\n",
      " Early Stopping / epoch: 568 loss: 0.0001\n",
      "-------------------------------------------------------------------------------------\n",
      "lr: 0.001  patience: 50  num_layers: 4  batch_size: 64  hidden_size: 16  dropout: 0.25\n"
     ]
    },
    {
     "data": {
      "application/vnd.jupyter.widget-view+json": {
       "model_id": "a10583071fe543188d7c469c742b450d",
       "version_major": 2,
       "version_minor": 0
      },
      "text/plain": [
       "  0%|          | 0/10000 [00:00<?, ?it/s]"
      ]
     },
     "metadata": {},
     "output_type": "display_data"
    },
    {
     "name": "stdout",
     "output_type": "stream",
     "text": [
      "\n",
      " Early Stopping / epoch: 790 loss: 0.0000\n",
      "-------------------------------------------------------------------------------------\n",
      "lr: 0.001  patience: 50  num_layers: 4  batch_size: 64  hidden_size: 32  dropout: 0.25\n"
     ]
    },
    {
     "data": {
      "application/vnd.jupyter.widget-view+json": {
       "model_id": "4a5907d95cf54c72a6981f6ac3cd70df",
       "version_major": 2,
       "version_minor": 0
      },
      "text/plain": [
       "  0%|          | 0/10000 [00:00<?, ?it/s]"
      ]
     },
     "metadata": {},
     "output_type": "display_data"
    },
    {
     "name": "stdout",
     "output_type": "stream",
     "text": [
      "\n",
      " Early Stopping / epoch: 444 loss: 0.0000\n",
      "-------------------------------------------------------------------------------------\n",
      "lr: 0.001  patience: 50  num_layers: 8  batch_size: 32  hidden_size: 8  dropout: 0.25\n"
     ]
    },
    {
     "data": {
      "application/vnd.jupyter.widget-view+json": {
       "model_id": "64ecdca62c354e9896d121e1ae58c03f",
       "version_major": 2,
       "version_minor": 0
      },
      "text/plain": [
       "  0%|          | 0/10000 [00:00<?, ?it/s]"
      ]
     },
     "metadata": {},
     "output_type": "display_data"
    },
    {
     "name": "stdout",
     "output_type": "stream",
     "text": [
      "\n",
      " Early Stopping / epoch: 438 loss: 0.0002\n",
      "-------------------------------------------------------------------------------------\n",
      "lr: 0.001  patience: 50  num_layers: 8  batch_size: 32  hidden_size: 16  dropout: 0.25\n"
     ]
    },
    {
     "data": {
      "application/vnd.jupyter.widget-view+json": {
       "model_id": "5a7e2080ba4949e19086d7e99c55d65b",
       "version_major": 2,
       "version_minor": 0
      },
      "text/plain": [
       "  0%|          | 0/10000 [00:00<?, ?it/s]"
      ]
     },
     "metadata": {},
     "output_type": "display_data"
    },
    {
     "name": "stdout",
     "output_type": "stream",
     "text": [
      "\n",
      " Early Stopping / epoch: 325 loss: 0.0001\n",
      "-------------------------------------------------------------------------------------\n",
      "lr: 0.001  patience: 50  num_layers: 8  batch_size: 32  hidden_size: 32  dropout: 0.25\n"
     ]
    },
    {
     "data": {
      "application/vnd.jupyter.widget-view+json": {
       "model_id": "67cb329f098d44ce97e3cc32cf5b4dc3",
       "version_major": 2,
       "version_minor": 0
      },
      "text/plain": [
       "  0%|          | 0/10000 [00:00<?, ?it/s]"
      ]
     },
     "metadata": {},
     "output_type": "display_data"
    },
    {
     "name": "stdout",
     "output_type": "stream",
     "text": [
      "\n",
      " Early Stopping / epoch: 337 loss: 0.0000\n",
      "-------------------------------------------------------------------------------------\n",
      "lr: 0.001  patience: 50  num_layers: 8  batch_size: 64  hidden_size: 8  dropout: 0.25\n"
     ]
    },
    {
     "data": {
      "application/vnd.jupyter.widget-view+json": {
       "model_id": "c6dff6dfc8f9413e9bb2dba8d4eb4216",
       "version_major": 2,
       "version_minor": 0
      },
      "text/plain": [
       "  0%|          | 0/10000 [00:00<?, ?it/s]"
      ]
     },
     "metadata": {},
     "output_type": "display_data"
    },
    {
     "name": "stdout",
     "output_type": "stream",
     "text": [
      "\n",
      " Early Stopping / epoch: 85 loss: 0.0017\n",
      "-------------------------------------------------------------------------------------\n",
      "lr: 0.001  patience: 50  num_layers: 8  batch_size: 64  hidden_size: 16  dropout: 0.25\n"
     ]
    },
    {
     "data": {
      "application/vnd.jupyter.widget-view+json": {
       "model_id": "04ad0cfeaae64cb28561b6a116ee7427",
       "version_major": 2,
       "version_minor": 0
      },
      "text/plain": [
       "  0%|          | 0/10000 [00:00<?, ?it/s]"
      ]
     },
     "metadata": {},
     "output_type": "display_data"
    },
    {
     "name": "stdout",
     "output_type": "stream",
     "text": [
      "\n",
      " Early Stopping / epoch: 591 loss: 0.0001\n",
      "-------------------------------------------------------------------------------------\n",
      "lr: 0.001  patience: 50  num_layers: 8  batch_size: 64  hidden_size: 32  dropout: 0.25\n"
     ]
    },
    {
     "data": {
      "application/vnd.jupyter.widget-view+json": {
       "model_id": "3f4d30cca049444aafe766791726cd67",
       "version_major": 2,
       "version_minor": 0
      },
      "text/plain": [
       "  0%|          | 0/10000 [00:00<?, ?it/s]"
      ]
     },
     "metadata": {},
     "output_type": "display_data"
    },
    {
     "name": "stdout",
     "output_type": "stream",
     "text": [
      "\n",
      " Early Stopping / epoch: 361 loss: 0.0002\n",
      "-------------------------------------------------------------------------------------\n",
      "lr: 0.0001  patience: 20  num_layers: 1  batch_size: 32  hidden_size: 8  dropout: 0.25\n"
     ]
    },
    {
     "data": {
      "application/vnd.jupyter.widget-view+json": {
       "model_id": "a096b0072f324793a636c060396946c7",
       "version_major": 2,
       "version_minor": 0
      },
      "text/plain": [
       "  0%|          | 0/10000 [00:00<?, ?it/s]"
      ]
     },
     "metadata": {},
     "output_type": "display_data"
    },
    {
     "name": "stdout",
     "output_type": "stream",
     "text": [
      "\n",
      " Early Stopping / epoch: 724 loss: 0.0000\n",
      "-------------------------------------------------------------------------------------\n",
      "lr: 0.0001  patience: 20  num_layers: 1  batch_size: 32  hidden_size: 16  dropout: 0.25\n"
     ]
    },
    {
     "data": {
      "application/vnd.jupyter.widget-view+json": {
       "model_id": "ce2ab54cb50e44a9aa001c7b0d0593c9",
       "version_major": 2,
       "version_minor": 0
      },
      "text/plain": [
       "  0%|          | 0/10000 [00:00<?, ?it/s]"
      ]
     },
     "metadata": {},
     "output_type": "display_data"
    },
    {
     "name": "stdout",
     "output_type": "stream",
     "text": [
      "\n",
      " Early Stopping / epoch: 561 loss: 0.0000\n",
      "-------------------------------------------------------------------------------------\n",
      "lr: 0.0001  patience: 20  num_layers: 1  batch_size: 32  hidden_size: 32  dropout: 0.25\n"
     ]
    },
    {
     "data": {
      "application/vnd.jupyter.widget-view+json": {
       "model_id": "fa4b6fe525194c3f9176d98321629073",
       "version_major": 2,
       "version_minor": 0
      },
      "text/plain": [
       "  0%|          | 0/10000 [00:00<?, ?it/s]"
      ]
     },
     "metadata": {},
     "output_type": "display_data"
    },
    {
     "name": "stdout",
     "output_type": "stream",
     "text": [
      "\n",
      " Early Stopping / epoch: 175 loss: 0.0000\n",
      "-------------------------------------------------------------------------------------\n",
      "lr: 0.0001  patience: 20  num_layers: 1  batch_size: 64  hidden_size: 8  dropout: 0.25\n"
     ]
    },
    {
     "data": {
      "application/vnd.jupyter.widget-view+json": {
       "model_id": "34e95fd3995e4532be059700a71ca52f",
       "version_major": 2,
       "version_minor": 0
      },
      "text/plain": [
       "  0%|          | 0/10000 [00:00<?, ?it/s]"
      ]
     },
     "metadata": {},
     "output_type": "display_data"
    },
    {
     "name": "stdout",
     "output_type": "stream",
     "text": [
      "\n",
      " Early Stopping / epoch: 1395 loss: 0.0000\n",
      "-------------------------------------------------------------------------------------\n",
      "lr: 0.0001  patience: 20  num_layers: 1  batch_size: 64  hidden_size: 16  dropout: 0.25\n"
     ]
    },
    {
     "data": {
      "application/vnd.jupyter.widget-view+json": {
       "model_id": "84b83f66841345d38213359a7e0e841c",
       "version_major": 2,
       "version_minor": 0
      },
      "text/plain": [
       "  0%|          | 0/10000 [00:00<?, ?it/s]"
      ]
     },
     "metadata": {},
     "output_type": "display_data"
    },
    {
     "name": "stdout",
     "output_type": "stream",
     "text": [
      "\n",
      " Early Stopping / epoch: 1339 loss: 0.0000\n",
      "-------------------------------------------------------------------------------------\n",
      "lr: 0.0001  patience: 20  num_layers: 1  batch_size: 64  hidden_size: 32  dropout: 0.25\n"
     ]
    },
    {
     "data": {
      "application/vnd.jupyter.widget-view+json": {
       "model_id": "c11039404af64f3cb12648e6a0895aeb",
       "version_major": 2,
       "version_minor": 0
      },
      "text/plain": [
       "  0%|          | 0/10000 [00:00<?, ?it/s]"
      ]
     },
     "metadata": {},
     "output_type": "display_data"
    },
    {
     "name": "stdout",
     "output_type": "stream",
     "text": [
      "\n",
      " Early Stopping / epoch: 158 loss: 0.0000\n",
      "-------------------------------------------------------------------------------------\n",
      "lr: 0.0001  patience: 20  num_layers: 2  batch_size: 32  hidden_size: 8  dropout: 0.25\n"
     ]
    },
    {
     "data": {
      "application/vnd.jupyter.widget-view+json": {
       "model_id": "dd92134b7d7847e0bb180546877efb24",
       "version_major": 2,
       "version_minor": 0
      },
      "text/plain": [
       "  0%|          | 0/10000 [00:00<?, ?it/s]"
      ]
     },
     "metadata": {},
     "output_type": "display_data"
    },
    {
     "name": "stdout",
     "output_type": "stream",
     "text": [
      "\n",
      " Early Stopping / epoch: 144 loss: 0.0002\n",
      "-------------------------------------------------------------------------------------\n",
      "lr: 0.0001  patience: 20  num_layers: 2  batch_size: 32  hidden_size: 16  dropout: 0.25\n"
     ]
    },
    {
     "data": {
      "application/vnd.jupyter.widget-view+json": {
       "model_id": "1e74c5240b884bde993a803f441ff15c",
       "version_major": 2,
       "version_minor": 0
      },
      "text/plain": [
       "  0%|          | 0/10000 [00:00<?, ?it/s]"
      ]
     },
     "metadata": {},
     "output_type": "display_data"
    },
    {
     "name": "stdout",
     "output_type": "stream",
     "text": [
      "\n",
      " Early Stopping / epoch: 261 loss: 0.0001\n",
      "-------------------------------------------------------------------------------------\n",
      "lr: 0.0001  patience: 20  num_layers: 2  batch_size: 32  hidden_size: 32  dropout: 0.25\n"
     ]
    },
    {
     "data": {
      "application/vnd.jupyter.widget-view+json": {
       "model_id": "1beda551c2014b2da6c1ec5bd62f18ab",
       "version_major": 2,
       "version_minor": 0
      },
      "text/plain": [
       "  0%|          | 0/10000 [00:00<?, ?it/s]"
      ]
     },
     "metadata": {},
     "output_type": "display_data"
    },
    {
     "name": "stdout",
     "output_type": "stream",
     "text": [
      "\n",
      " Early Stopping / epoch: 203 loss: 0.0001\n",
      "-------------------------------------------------------------------------------------\n",
      "lr: 0.0001  patience: 20  num_layers: 2  batch_size: 64  hidden_size: 8  dropout: 0.25\n"
     ]
    },
    {
     "data": {
      "application/vnd.jupyter.widget-view+json": {
       "model_id": "fc8dca46fed64189a79cc60080933797",
       "version_major": 2,
       "version_minor": 0
      },
      "text/plain": [
       "  0%|          | 0/10000 [00:00<?, ?it/s]"
      ]
     },
     "metadata": {},
     "output_type": "display_data"
    },
    {
     "name": "stdout",
     "output_type": "stream",
     "text": [
      "\n",
      " Early Stopping / epoch: 139 loss: 0.0003\n",
      "-------------------------------------------------------------------------------------\n",
      "lr: 0.0001  patience: 20  num_layers: 2  batch_size: 64  hidden_size: 16  dropout: 0.25\n"
     ]
    },
    {
     "data": {
      "application/vnd.jupyter.widget-view+json": {
       "model_id": "288e9812c9124de09ad379dbf9af7435",
       "version_major": 2,
       "version_minor": 0
      },
      "text/plain": [
       "  0%|          | 0/10000 [00:00<?, ?it/s]"
      ]
     },
     "metadata": {},
     "output_type": "display_data"
    },
    {
     "name": "stdout",
     "output_type": "stream",
     "text": [
      "\n",
      " Early Stopping / epoch: 89 loss: 0.0002\n",
      "-------------------------------------------------------------------------------------\n",
      "lr: 0.0001  patience: 20  num_layers: 2  batch_size: 64  hidden_size: 32  dropout: 0.25\n"
     ]
    },
    {
     "data": {
      "application/vnd.jupyter.widget-view+json": {
       "model_id": "7cc4ee455f70498f8bbbac7db2d52def",
       "version_major": 2,
       "version_minor": 0
      },
      "text/plain": [
       "  0%|          | 0/10000 [00:00<?, ?it/s]"
      ]
     },
     "metadata": {},
     "output_type": "display_data"
    },
    {
     "name": "stdout",
     "output_type": "stream",
     "text": [
      "\n",
      " Early Stopping / epoch: 273 loss: 0.0002\n",
      "-------------------------------------------------------------------------------------\n",
      "lr: 0.0001  patience: 20  num_layers: 4  batch_size: 32  hidden_size: 8  dropout: 0.25\n"
     ]
    },
    {
     "data": {
      "application/vnd.jupyter.widget-view+json": {
       "model_id": "1430cd1382f743cbaf636b84da61b500",
       "version_major": 2,
       "version_minor": 0
      },
      "text/plain": [
       "  0%|          | 0/10000 [00:00<?, ?it/s]"
      ]
     },
     "metadata": {},
     "output_type": "display_data"
    },
    {
     "name": "stdout",
     "output_type": "stream",
     "text": [
      "\n",
      " Early Stopping / epoch: 242 loss: 0.0008\n",
      "-------------------------------------------------------------------------------------\n",
      "lr: 0.0001  patience: 20  num_layers: 4  batch_size: 32  hidden_size: 16  dropout: 0.25\n"
     ]
    },
    {
     "data": {
      "application/vnd.jupyter.widget-view+json": {
       "model_id": "4c9e7ff7b90446f79f4807779e3a0d12",
       "version_major": 2,
       "version_minor": 0
      },
      "text/plain": [
       "  0%|          | 0/10000 [00:00<?, ?it/s]"
      ]
     },
     "metadata": {},
     "output_type": "display_data"
    },
    {
     "name": "stdout",
     "output_type": "stream",
     "text": [
      "\n",
      " Early Stopping / epoch: 118 loss: 0.0008\n",
      "-------------------------------------------------------------------------------------\n",
      "lr: 0.0001  patience: 20  num_layers: 4  batch_size: 32  hidden_size: 32  dropout: 0.25\n"
     ]
    },
    {
     "data": {
      "application/vnd.jupyter.widget-view+json": {
       "model_id": "83709d8ceaf547c1bf8ddea645f932b8",
       "version_major": 2,
       "version_minor": 0
      },
      "text/plain": [
       "  0%|          | 0/10000 [00:00<?, ?it/s]"
      ]
     },
     "metadata": {},
     "output_type": "display_data"
    },
    {
     "name": "stdout",
     "output_type": "stream",
     "text": [
      "\n",
      " Early Stopping / epoch: 142 loss: 0.0005\n",
      "-------------------------------------------------------------------------------------\n",
      "lr: 0.0001  patience: 20  num_layers: 4  batch_size: 64  hidden_size: 8  dropout: 0.25\n"
     ]
    },
    {
     "data": {
      "application/vnd.jupyter.widget-view+json": {
       "model_id": "60c9dfe158844589ba715ba49fb88ca8",
       "version_major": 2,
       "version_minor": 0
      },
      "text/plain": [
       "  0%|          | 0/10000 [00:00<?, ?it/s]"
      ]
     },
     "metadata": {},
     "output_type": "display_data"
    },
    {
     "name": "stdout",
     "output_type": "stream",
     "text": [
      "\n",
      " Early Stopping / epoch: 48 loss: 0.0018\n",
      "-------------------------------------------------------------------------------------\n",
      "lr: 0.0001  patience: 20  num_layers: 4  batch_size: 64  hidden_size: 16  dropout: 0.25\n"
     ]
    },
    {
     "data": {
      "application/vnd.jupyter.widget-view+json": {
       "model_id": "862befc7278e4512984d00e7710cbe7d",
       "version_major": 2,
       "version_minor": 0
      },
      "text/plain": [
       "  0%|          | 0/10000 [00:00<?, ?it/s]"
      ]
     },
     "metadata": {},
     "output_type": "display_data"
    },
    {
     "name": "stdout",
     "output_type": "stream",
     "text": [
      "\n",
      " Early Stopping / epoch: 167 loss: 0.0009\n",
      "-------------------------------------------------------------------------------------\n",
      "lr: 0.0001  patience: 20  num_layers: 4  batch_size: 64  hidden_size: 32  dropout: 0.25\n"
     ]
    },
    {
     "data": {
      "application/vnd.jupyter.widget-view+json": {
       "model_id": "97a42f87f9ed43ceb3d2d112f24ca050",
       "version_major": 2,
       "version_minor": 0
      },
      "text/plain": [
       "  0%|          | 0/10000 [00:00<?, ?it/s]"
      ]
     },
     "metadata": {},
     "output_type": "display_data"
    },
    {
     "name": "stdout",
     "output_type": "stream",
     "text": [
      "\n",
      " Early Stopping / epoch: 251 loss: 0.0006\n",
      "-------------------------------------------------------------------------------------\n",
      "lr: 0.0001  patience: 20  num_layers: 8  batch_size: 32  hidden_size: 8  dropout: 0.25\n"
     ]
    },
    {
     "data": {
      "application/vnd.jupyter.widget-view+json": {
       "model_id": "98e5432e9a984feca549b8c37cc4a79e",
       "version_major": 2,
       "version_minor": 0
      },
      "text/plain": [
       "  0%|          | 0/10000 [00:00<?, ?it/s]"
      ]
     },
     "metadata": {},
     "output_type": "display_data"
    },
    {
     "name": "stdout",
     "output_type": "stream",
     "text": [
      "\n",
      " Early Stopping / epoch: 48 loss: 0.0018\n",
      "-------------------------------------------------------------------------------------\n",
      "lr: 0.0001  patience: 20  num_layers: 8  batch_size: 32  hidden_size: 16  dropout: 0.25\n"
     ]
    },
    {
     "data": {
      "application/vnd.jupyter.widget-view+json": {
       "model_id": "71805cb12855411793d94093b6fc263e",
       "version_major": 2,
       "version_minor": 0
      },
      "text/plain": [
       "  0%|          | 0/10000 [00:00<?, ?it/s]"
      ]
     },
     "metadata": {},
     "output_type": "display_data"
    },
    {
     "name": "stdout",
     "output_type": "stream",
     "text": [
      "\n",
      " Early Stopping / epoch: 64 loss: 0.0018\n",
      "-------------------------------------------------------------------------------------\n",
      "lr: 0.0001  patience: 20  num_layers: 8  batch_size: 32  hidden_size: 32  dropout: 0.25\n"
     ]
    },
    {
     "data": {
      "application/vnd.jupyter.widget-view+json": {
       "model_id": "daaeeb7e1abf4b339b813661065eab24",
       "version_major": 2,
       "version_minor": 0
      },
      "text/plain": [
       "  0%|          | 0/10000 [00:00<?, ?it/s]"
      ]
     },
     "metadata": {},
     "output_type": "display_data"
    },
    {
     "name": "stdout",
     "output_type": "stream",
     "text": [
      "\n",
      " Early Stopping / epoch: 59 loss: 0.0017\n",
      "-------------------------------------------------------------------------------------\n",
      "lr: 0.0001  patience: 20  num_layers: 8  batch_size: 64  hidden_size: 8  dropout: 0.25\n"
     ]
    },
    {
     "data": {
      "application/vnd.jupyter.widget-view+json": {
       "model_id": "733c657edc424f37997461fc73ca6821",
       "version_major": 2,
       "version_minor": 0
      },
      "text/plain": [
       "  0%|          | 0/10000 [00:00<?, ?it/s]"
      ]
     },
     "metadata": {},
     "output_type": "display_data"
    },
    {
     "name": "stdout",
     "output_type": "stream",
     "text": [
      "\n",
      " Early Stopping / epoch: 28 loss: 0.0019\n",
      "-------------------------------------------------------------------------------------\n",
      "lr: 0.0001  patience: 20  num_layers: 8  batch_size: 64  hidden_size: 16  dropout: 0.25\n"
     ]
    },
    {
     "data": {
      "application/vnd.jupyter.widget-view+json": {
       "model_id": "511cd4a90c714f049d01c6a79ede69cf",
       "version_major": 2,
       "version_minor": 0
      },
      "text/plain": [
       "  0%|          | 0/10000 [00:00<?, ?it/s]"
      ]
     },
     "metadata": {},
     "output_type": "display_data"
    },
    {
     "name": "stdout",
     "output_type": "stream",
     "text": [
      "\n",
      " Early Stopping / epoch: 46 loss: 0.0018\n",
      "-------------------------------------------------------------------------------------\n",
      "lr: 0.0001  patience: 20  num_layers: 8  batch_size: 64  hidden_size: 32  dropout: 0.25\n"
     ]
    },
    {
     "data": {
      "application/vnd.jupyter.widget-view+json": {
       "model_id": "cf8ddb608a1b405ebea121a2ac94ef61",
       "version_major": 2,
       "version_minor": 0
      },
      "text/plain": [
       "  0%|          | 0/10000 [00:00<?, ?it/s]"
      ]
     },
     "metadata": {},
     "output_type": "display_data"
    },
    {
     "name": "stdout",
     "output_type": "stream",
     "text": [
      "\n",
      " Early Stopping / epoch: 86 loss: 0.0018\n",
      "-------------------------------------------------------------------------------------\n",
      "lr: 0.0001  patience: 50  num_layers: 1  batch_size: 32  hidden_size: 8  dropout: 0.25\n"
     ]
    },
    {
     "data": {
      "application/vnd.jupyter.widget-view+json": {
       "model_id": "45cc5f4c2824480d9b1b6e62d1539731",
       "version_major": 2,
       "version_minor": 0
      },
      "text/plain": [
       "  0%|          | 0/10000 [00:00<?, ?it/s]"
      ]
     },
     "metadata": {},
     "output_type": "display_data"
    },
    {
     "name": "stdout",
     "output_type": "stream",
     "text": [
      "\n",
      " Early Stopping / epoch: 375 loss: 0.0000\n",
      "-------------------------------------------------------------------------------------\n",
      "lr: 0.0001  patience: 50  num_layers: 1  batch_size: 32  hidden_size: 16  dropout: 0.25\n"
     ]
    },
    {
     "data": {
      "application/vnd.jupyter.widget-view+json": {
       "model_id": "a818bf62a4064391a42082d36c2e2dda",
       "version_major": 2,
       "version_minor": 0
      },
      "text/plain": [
       "  0%|          | 0/10000 [00:00<?, ?it/s]"
      ]
     },
     "metadata": {},
     "output_type": "display_data"
    },
    {
     "name": "stdout",
     "output_type": "stream",
     "text": [
      "\n",
      " Early Stopping / epoch: 346 loss: 0.0000\n",
      "-------------------------------------------------------------------------------------\n",
      "lr: 0.0001  patience: 50  num_layers: 1  batch_size: 32  hidden_size: 32  dropout: 0.25\n"
     ]
    },
    {
     "data": {
      "application/vnd.jupyter.widget-view+json": {
       "model_id": "f72b45ededb34618b40c86bf1fc13caf",
       "version_major": 2,
       "version_minor": 0
      },
      "text/plain": [
       "  0%|          | 0/10000 [00:00<?, ?it/s]"
      ]
     },
     "metadata": {},
     "output_type": "display_data"
    },
    {
     "name": "stdout",
     "output_type": "stream",
     "text": [
      "\n",
      " Early Stopping / epoch: 1054 loss: 0.0000\n",
      "-------------------------------------------------------------------------------------\n",
      "lr: 0.0001  patience: 50  num_layers: 1  batch_size: 64  hidden_size: 8  dropout: 0.25\n"
     ]
    },
    {
     "data": {
      "application/vnd.jupyter.widget-view+json": {
       "model_id": "3a654c1871a748f78f487a356168f204",
       "version_major": 2,
       "version_minor": 0
      },
      "text/plain": [
       "  0%|          | 0/10000 [00:00<?, ?it/s]"
      ]
     },
     "metadata": {},
     "output_type": "display_data"
    },
    {
     "name": "stdout",
     "output_type": "stream",
     "text": [
      "\n",
      " Early Stopping / epoch: 1526 loss: 0.0000\n",
      "-------------------------------------------------------------------------------------\n",
      "lr: 0.0001  patience: 50  num_layers: 1  batch_size: 64  hidden_size: 16  dropout: 0.25\n"
     ]
    },
    {
     "data": {
      "application/vnd.jupyter.widget-view+json": {
       "model_id": "7836032ec538494ab13eb28b286fead7",
       "version_major": 2,
       "version_minor": 0
      },
      "text/plain": [
       "  0%|          | 0/10000 [00:00<?, ?it/s]"
      ]
     },
     "metadata": {},
     "output_type": "display_data"
    },
    {
     "name": "stdout",
     "output_type": "stream",
     "text": [
      "\n",
      " Early Stopping / epoch: 912 loss: 0.0000\n",
      "-------------------------------------------------------------------------------------\n",
      "lr: 0.0001  patience: 50  num_layers: 1  batch_size: 64  hidden_size: 32  dropout: 0.25\n"
     ]
    },
    {
     "data": {
      "application/vnd.jupyter.widget-view+json": {
       "model_id": "4f51d8ef74484ae69127e4041236f78c",
       "version_major": 2,
       "version_minor": 0
      },
      "text/plain": [
       "  0%|          | 0/10000 [00:00<?, ?it/s]"
      ]
     },
     "metadata": {},
     "output_type": "display_data"
    },
    {
     "name": "stdout",
     "output_type": "stream",
     "text": [
      "\n",
      " Early Stopping / epoch: 640 loss: 0.0000\n",
      "-------------------------------------------------------------------------------------\n",
      "lr: 0.0001  patience: 50  num_layers: 2  batch_size: 32  hidden_size: 8  dropout: 0.25\n"
     ]
    },
    {
     "data": {
      "application/vnd.jupyter.widget-view+json": {
       "model_id": "f5812ca2b24144bfb46c37ee580663d8",
       "version_major": 2,
       "version_minor": 0
      },
      "text/plain": [
       "  0%|          | 0/10000 [00:00<?, ?it/s]"
      ]
     },
     "metadata": {},
     "output_type": "display_data"
    },
    {
     "name": "stdout",
     "output_type": "stream",
     "text": [
      "\n",
      " Early Stopping / epoch: 168 loss: 0.0004\n",
      "-------------------------------------------------------------------------------------\n",
      "lr: 0.0001  patience: 50  num_layers: 2  batch_size: 32  hidden_size: 16  dropout: 0.25\n"
     ]
    },
    {
     "data": {
      "application/vnd.jupyter.widget-view+json": {
       "model_id": "5c96ca65818543d292fe0a81bf8dea4f",
       "version_major": 2,
       "version_minor": 0
      },
      "text/plain": [
       "  0%|          | 0/10000 [00:00<?, ?it/s]"
      ]
     },
     "metadata": {},
     "output_type": "display_data"
    },
    {
     "name": "stdout",
     "output_type": "stream",
     "text": [
      "\n",
      " Early Stopping / epoch: 476 loss: 0.0000\n",
      "-------------------------------------------------------------------------------------\n",
      "lr: 0.0001  patience: 50  num_layers: 2  batch_size: 32  hidden_size: 32  dropout: 0.25\n"
     ]
    },
    {
     "data": {
      "application/vnd.jupyter.widget-view+json": {
       "model_id": "07769687549b4b9e8fef7f73059cac71",
       "version_major": 2,
       "version_minor": 0
      },
      "text/plain": [
       "  0%|          | 0/10000 [00:00<?, ?it/s]"
      ]
     },
     "metadata": {},
     "output_type": "display_data"
    },
    {
     "name": "stdout",
     "output_type": "stream",
     "text": [
      "\n",
      " Early Stopping / epoch: 328 loss: 0.0000\n",
      "-------------------------------------------------------------------------------------\n",
      "lr: 0.0001  patience: 50  num_layers: 2  batch_size: 64  hidden_size: 8  dropout: 0.25\n"
     ]
    },
    {
     "data": {
      "application/vnd.jupyter.widget-view+json": {
       "model_id": "df099df79dee4c99afc4d4f37968f7b1",
       "version_major": 2,
       "version_minor": 0
      },
      "text/plain": [
       "  0%|          | 0/10000 [00:00<?, ?it/s]"
      ]
     },
     "metadata": {},
     "output_type": "display_data"
    },
    {
     "name": "stdout",
     "output_type": "stream",
     "text": [
      "\n",
      " Early Stopping / epoch: 274 loss: 0.0001\n",
      "-------------------------------------------------------------------------------------\n",
      "lr: 0.0001  patience: 50  num_layers: 2  batch_size: 64  hidden_size: 16  dropout: 0.25\n"
     ]
    },
    {
     "data": {
      "application/vnd.jupyter.widget-view+json": {
       "model_id": "3fcc5e48ae6c439e96db879e305ad8ac",
       "version_major": 2,
       "version_minor": 0
      },
      "text/plain": [
       "  0%|          | 0/10000 [00:00<?, ?it/s]"
      ]
     },
     "metadata": {},
     "output_type": "display_data"
    },
    {
     "name": "stdout",
     "output_type": "stream",
     "text": [
      "\n",
      " Early Stopping / epoch: 379 loss: 0.0001\n",
      "-------------------------------------------------------------------------------------\n",
      "lr: 0.0001  patience: 50  num_layers: 2  batch_size: 64  hidden_size: 32  dropout: 0.25\n"
     ]
    },
    {
     "data": {
      "application/vnd.jupyter.widget-view+json": {
       "model_id": "ce9afda3e7f14b66aae9b30e3cbf4a06",
       "version_major": 2,
       "version_minor": 0
      },
      "text/plain": [
       "  0%|          | 0/10000 [00:00<?, ?it/s]"
      ]
     },
     "metadata": {},
     "output_type": "display_data"
    },
    {
     "name": "stdout",
     "output_type": "stream",
     "text": [
      "\n",
      " Early Stopping / epoch: 391 loss: 0.0001\n",
      "-------------------------------------------------------------------------------------\n",
      "lr: 0.0001  patience: 50  num_layers: 4  batch_size: 32  hidden_size: 8  dropout: 0.25\n"
     ]
    },
    {
     "data": {
      "application/vnd.jupyter.widget-view+json": {
       "model_id": "aacde2be998e41559916309348358c60",
       "version_major": 2,
       "version_minor": 0
      },
      "text/plain": [
       "  0%|          | 0/10000 [00:00<?, ?it/s]"
      ]
     },
     "metadata": {},
     "output_type": "display_data"
    },
    {
     "name": "stdout",
     "output_type": "stream",
     "text": [
      "\n",
      " Early Stopping / epoch: 354 loss: 0.0006\n",
      "-------------------------------------------------------------------------------------\n",
      "lr: 0.0001  patience: 50  num_layers: 4  batch_size: 32  hidden_size: 16  dropout: 0.25\n"
     ]
    },
    {
     "data": {
      "application/vnd.jupyter.widget-view+json": {
       "model_id": "c5b13bb0aed04fa983b59300a0d27ed2",
       "version_major": 2,
       "version_minor": 0
      },
      "text/plain": [
       "  0%|          | 0/10000 [00:00<?, ?it/s]"
      ]
     },
     "metadata": {},
     "output_type": "display_data"
    },
    {
     "name": "stdout",
     "output_type": "stream",
     "text": [
      "\n",
      " Early Stopping / epoch: 333 loss: 0.0004\n",
      "-------------------------------------------------------------------------------------\n",
      "lr: 0.0001  patience: 50  num_layers: 4  batch_size: 32  hidden_size: 32  dropout: 0.25\n"
     ]
    },
    {
     "data": {
      "application/vnd.jupyter.widget-view+json": {
       "model_id": "b1bb4b587fbe488b99803787336aafdc",
       "version_major": 2,
       "version_minor": 0
      },
      "text/plain": [
       "  0%|          | 0/10000 [00:00<?, ?it/s]"
      ]
     },
     "metadata": {},
     "output_type": "display_data"
    },
    {
     "name": "stdout",
     "output_type": "stream",
     "text": [
      "\n",
      " Early Stopping / epoch: 809 loss: 0.0001\n",
      "-------------------------------------------------------------------------------------\n",
      "lr: 0.0001  patience: 50  num_layers: 4  batch_size: 64  hidden_size: 8  dropout: 0.25\n"
     ]
    },
    {
     "data": {
      "application/vnd.jupyter.widget-view+json": {
       "model_id": "90762283be7d42ae92074c861ea6d919",
       "version_major": 2,
       "version_minor": 0
      },
      "text/plain": [
       "  0%|          | 0/10000 [00:00<?, ?it/s]"
      ]
     },
     "metadata": {},
     "output_type": "display_data"
    },
    {
     "name": "stdout",
     "output_type": "stream",
     "text": [
      "\n",
      " Early Stopping / epoch: 62 loss: 0.0017\n",
      "-------------------------------------------------------------------------------------\n",
      "lr: 0.0001  patience: 50  num_layers: 4  batch_size: 64  hidden_size: 16  dropout: 0.25\n"
     ]
    },
    {
     "data": {
      "application/vnd.jupyter.widget-view+json": {
       "model_id": "9d41c98231394c65ba0097837fd14ef9",
       "version_major": 2,
       "version_minor": 0
      },
      "text/plain": [
       "  0%|          | 0/10000 [00:00<?, ?it/s]"
      ]
     },
     "metadata": {},
     "output_type": "display_data"
    },
    {
     "name": "stdout",
     "output_type": "stream",
     "text": [
      "\n",
      " Early Stopping / epoch: 112 loss: 0.0017\n",
      "-------------------------------------------------------------------------------------\n",
      "lr: 0.0001  patience: 50  num_layers: 4  batch_size: 64  hidden_size: 32  dropout: 0.25\n"
     ]
    },
    {
     "data": {
      "application/vnd.jupyter.widget-view+json": {
       "model_id": "16618b5dde444f659e30393384770f53",
       "version_major": 2,
       "version_minor": 0
      },
      "text/plain": [
       "  0%|          | 0/10000 [00:00<?, ?it/s]"
      ]
     },
     "metadata": {},
     "output_type": "display_data"
    },
    {
     "name": "stdout",
     "output_type": "stream",
     "text": [
      "\n",
      " Early Stopping / epoch: 950 loss: 0.0000\n",
      "-------------------------------------------------------------------------------------\n",
      "lr: 0.0001  patience: 50  num_layers: 8  batch_size: 32  hidden_size: 8  dropout: 0.25\n"
     ]
    },
    {
     "data": {
      "application/vnd.jupyter.widget-view+json": {
       "model_id": "a32dfb6f21474c28868894aeb4490e6e",
       "version_major": 2,
       "version_minor": 0
      },
      "text/plain": [
       "  0%|          | 0/10000 [00:00<?, ?it/s]"
      ]
     },
     "metadata": {},
     "output_type": "display_data"
    },
    {
     "name": "stdout",
     "output_type": "stream",
     "text": [
      "\n",
      " Early Stopping / epoch: 129 loss: 0.0018\n",
      "-------------------------------------------------------------------------------------\n",
      "lr: 0.0001  patience: 50  num_layers: 8  batch_size: 32  hidden_size: 16  dropout: 0.25\n"
     ]
    },
    {
     "data": {
      "application/vnd.jupyter.widget-view+json": {
       "model_id": "88607618674341f29fdab23e5c6d6778",
       "version_major": 2,
       "version_minor": 0
      },
      "text/plain": [
       "  0%|          | 0/10000 [00:00<?, ?it/s]"
      ]
     },
     "metadata": {},
     "output_type": "display_data"
    },
    {
     "name": "stdout",
     "output_type": "stream",
     "text": [
      "\n",
      " Early Stopping / epoch: 393 loss: 0.0005\n",
      "-------------------------------------------------------------------------------------\n",
      "lr: 0.0001  patience: 50  num_layers: 8  batch_size: 32  hidden_size: 32  dropout: 0.25\n"
     ]
    },
    {
     "data": {
      "application/vnd.jupyter.widget-view+json": {
       "model_id": "bd0fad07f22f4dae961e7498b2b469cb",
       "version_major": 2,
       "version_minor": 0
      },
      "text/plain": [
       "  0%|          | 0/10000 [00:00<?, ?it/s]"
      ]
     },
     "metadata": {},
     "output_type": "display_data"
    },
    {
     "name": "stdout",
     "output_type": "stream",
     "text": [
      "\n",
      " Early Stopping / epoch: 530 loss: 0.0002\n",
      "-------------------------------------------------------------------------------------\n",
      "lr: 0.0001  patience: 50  num_layers: 8  batch_size: 64  hidden_size: 8  dropout: 0.25\n"
     ]
    },
    {
     "data": {
      "application/vnd.jupyter.widget-view+json": {
       "model_id": "71fca1a1677b4ac59848ba28c6e4b0fb",
       "version_major": 2,
       "version_minor": 0
      },
      "text/plain": [
       "  0%|          | 0/10000 [00:00<?, ?it/s]"
      ]
     },
     "metadata": {},
     "output_type": "display_data"
    },
    {
     "name": "stdout",
     "output_type": "stream",
     "text": [
      "\n",
      " Early Stopping / epoch: 227 loss: 0.0018\n",
      "-------------------------------------------------------------------------------------\n",
      "lr: 0.0001  patience: 50  num_layers: 8  batch_size: 64  hidden_size: 16  dropout: 0.25\n"
     ]
    },
    {
     "data": {
      "application/vnd.jupyter.widget-view+json": {
       "model_id": "fa1f33cdc6e64cf3be45ae177f3a7f3c",
       "version_major": 2,
       "version_minor": 0
      },
      "text/plain": [
       "  0%|          | 0/10000 [00:00<?, ?it/s]"
      ]
     },
     "metadata": {},
     "output_type": "display_data"
    },
    {
     "name": "stdout",
     "output_type": "stream",
     "text": [
      "\n",
      " Early Stopping / epoch: 67 loss: 0.0018\n",
      "-------------------------------------------------------------------------------------\n",
      "lr: 0.0001  patience: 50  num_layers: 8  batch_size: 64  hidden_size: 32  dropout: 0.25\n"
     ]
    },
    {
     "data": {
      "application/vnd.jupyter.widget-view+json": {
       "model_id": "db0f5da53fcf48b2b32bb58e1d43aa45",
       "version_major": 2,
       "version_minor": 0
      },
      "text/plain": [
       "  0%|          | 0/10000 [00:00<?, ?it/s]"
      ]
     },
     "metadata": {},
     "output_type": "display_data"
    },
    {
     "name": "stdout",
     "output_type": "stream",
     "text": [
      "\n",
      " Early Stopping / epoch: 584 loss: 0.0003\n",
      "-------------------------------------------------------------------------------------\n",
      "lr: 1e-05  patience: 20  num_layers: 1  batch_size: 32  hidden_size: 8  dropout: 0.25\n"
     ]
    },
    {
     "data": {
      "application/vnd.jupyter.widget-view+json": {
       "model_id": "663c3cfa6b2a419b99badc0a3c84d912",
       "version_major": 2,
       "version_minor": 0
      },
      "text/plain": [
       "  0%|          | 0/10000 [00:00<?, ?it/s]"
      ]
     },
     "metadata": {},
     "output_type": "display_data"
    },
    {
     "name": "stdout",
     "output_type": "stream",
     "text": [
      "\n",
      " Early Stopping / epoch: 3975 loss: 0.0000\n",
      "-------------------------------------------------------------------------------------\n",
      "lr: 1e-05  patience: 20  num_layers: 1  batch_size: 32  hidden_size: 16  dropout: 0.25\n"
     ]
    },
    {
     "data": {
      "application/vnd.jupyter.widget-view+json": {
       "model_id": "ca8d552dde6a4a7abc71fe04035fb8b5",
       "version_major": 2,
       "version_minor": 0
      },
      "text/plain": [
       "  0%|          | 0/10000 [00:00<?, ?it/s]"
      ]
     },
     "metadata": {},
     "output_type": "display_data"
    },
    {
     "name": "stdout",
     "output_type": "stream",
     "text": [
      "\n",
      " Early Stopping / epoch: 2816 loss: 0.0000\n",
      "-------------------------------------------------------------------------------------\n",
      "lr: 1e-05  patience: 20  num_layers: 1  batch_size: 32  hidden_size: 32  dropout: 0.25\n"
     ]
    },
    {
     "data": {
      "application/vnd.jupyter.widget-view+json": {
       "model_id": "acb2b7f5039641b2b53112e951600921",
       "version_major": 2,
       "version_minor": 0
      },
      "text/plain": [
       "  0%|          | 0/10000 [00:00<?, ?it/s]"
      ]
     },
     "metadata": {},
     "output_type": "display_data"
    },
    {
     "name": "stdout",
     "output_type": "stream",
     "text": [
      "\n",
      " Early Stopping / epoch: 2211 loss: 0.0000\n",
      "-------------------------------------------------------------------------------------\n",
      "lr: 1e-05  patience: 20  num_layers: 1  batch_size: 64  hidden_size: 8  dropout: 0.25\n"
     ]
    },
    {
     "data": {
      "application/vnd.jupyter.widget-view+json": {
       "model_id": "a189c6ef3ce04242ac7a88ad77ee00e5",
       "version_major": 2,
       "version_minor": 0
      },
      "text/plain": [
       "  0%|          | 0/10000 [00:00<?, ?it/s]"
      ]
     },
     "metadata": {},
     "output_type": "display_data"
    },
    {
     "name": "stdout",
     "output_type": "stream",
     "text": [
      "\n",
      " Early Stopping / epoch: 8781 loss: 0.0000\n",
      "-------------------------------------------------------------------------------------\n",
      "lr: 1e-05  patience: 20  num_layers: 1  batch_size: 64  hidden_size: 16  dropout: 0.25\n"
     ]
    },
    {
     "data": {
      "application/vnd.jupyter.widget-view+json": {
       "model_id": "999167971ef14b8cabfa2f703fe0231c",
       "version_major": 2,
       "version_minor": 0
      },
      "text/plain": [
       "  0%|          | 0/10000 [00:00<?, ?it/s]"
      ]
     },
     "metadata": {},
     "output_type": "display_data"
    },
    {
     "name": "stdout",
     "output_type": "stream",
     "text": [
      "\n",
      " Early Stopping / epoch: 4148 loss: 0.0000\n",
      "-------------------------------------------------------------------------------------\n",
      "lr: 1e-05  patience: 20  num_layers: 1  batch_size: 64  hidden_size: 32  dropout: 0.25\n"
     ]
    },
    {
     "data": {
      "application/vnd.jupyter.widget-view+json": {
       "model_id": "a3dc6e363c784d9d91cadb1cbeeb1405",
       "version_major": 2,
       "version_minor": 0
      },
      "text/plain": [
       "  0%|          | 0/10000 [00:00<?, ?it/s]"
      ]
     },
     "metadata": {},
     "output_type": "display_data"
    },
    {
     "name": "stdout",
     "output_type": "stream",
     "text": [
      "\n",
      " Early Stopping / epoch: 3568 loss: 0.0000\n",
      "-------------------------------------------------------------------------------------\n",
      "lr: 1e-05  patience: 20  num_layers: 2  batch_size: 32  hidden_size: 8  dropout: 0.25\n"
     ]
    },
    {
     "data": {
      "application/vnd.jupyter.widget-view+json": {
       "model_id": "85767735158d490c9c99e22cd44cec5d",
       "version_major": 2,
       "version_minor": 0
      },
      "text/plain": [
       "  0%|          | 0/10000 [00:00<?, ?it/s]"
      ]
     },
     "metadata": {},
     "output_type": "display_data"
    },
    {
     "name": "stdout",
     "output_type": "stream",
     "text": [
      "\n",
      " Early Stopping / epoch: 229 loss: 0.0008\n",
      "-------------------------------------------------------------------------------------\n",
      "lr: 1e-05  patience: 20  num_layers: 2  batch_size: 32  hidden_size: 16  dropout: 0.25\n"
     ]
    },
    {
     "data": {
      "application/vnd.jupyter.widget-view+json": {
       "model_id": "cc7db5c953774ae79c46b21feb54394f",
       "version_major": 2,
       "version_minor": 0
      },
      "text/plain": [
       "  0%|          | 0/10000 [00:00<?, ?it/s]"
      ]
     },
     "metadata": {},
     "output_type": "display_data"
    },
    {
     "name": "stdout",
     "output_type": "stream",
     "text": [
      "\n",
      " Early Stopping / epoch: 294 loss: 0.0004\n",
      "-------------------------------------------------------------------------------------\n",
      "lr: 1e-05  patience: 20  num_layers: 2  batch_size: 32  hidden_size: 32  dropout: 0.25\n"
     ]
    },
    {
     "data": {
      "application/vnd.jupyter.widget-view+json": {
       "model_id": "2b2963e67f014fde9f6c3aebf6a0daca",
       "version_major": 2,
       "version_minor": 0
      },
      "text/plain": [
       "  0%|          | 0/10000 [00:00<?, ?it/s]"
      ]
     },
     "metadata": {},
     "output_type": "display_data"
    },
    {
     "name": "stdout",
     "output_type": "stream",
     "text": [
      "\n",
      " Early Stopping / epoch: 487 loss: 0.0004\n",
      "-------------------------------------------------------------------------------------\n",
      "lr: 1e-05  patience: 20  num_layers: 2  batch_size: 64  hidden_size: 8  dropout: 0.25\n"
     ]
    },
    {
     "data": {
      "application/vnd.jupyter.widget-view+json": {
       "model_id": "685275285c164303bd60037a96d0e1fd",
       "version_major": 2,
       "version_minor": 0
      },
      "text/plain": [
       "  0%|          | 0/10000 [00:00<?, ?it/s]"
      ]
     },
     "metadata": {},
     "output_type": "display_data"
    },
    {
     "name": "stdout",
     "output_type": "stream",
     "text": [
      "\n",
      " Early Stopping / epoch: 152 loss: 0.0015\n",
      "-------------------------------------------------------------------------------------\n",
      "lr: 1e-05  patience: 20  num_layers: 2  batch_size: 64  hidden_size: 16  dropout: 0.25\n"
     ]
    },
    {
     "data": {
      "application/vnd.jupyter.widget-view+json": {
       "model_id": "60d95650475c400f9696f82963e2c2a1",
       "version_major": 2,
       "version_minor": 0
      },
      "text/plain": [
       "  0%|          | 0/10000 [00:00<?, ?it/s]"
      ]
     },
     "metadata": {},
     "output_type": "display_data"
    },
    {
     "name": "stdout",
     "output_type": "stream",
     "text": [
      "\n",
      " Early Stopping / epoch: 84 loss: 0.0017\n",
      "-------------------------------------------------------------------------------------\n",
      "lr: 1e-05  patience: 20  num_layers: 2  batch_size: 64  hidden_size: 32  dropout: 0.25\n"
     ]
    },
    {
     "data": {
      "application/vnd.jupyter.widget-view+json": {
       "model_id": "518dfa4f25804c589a04bc8abae1c260",
       "version_major": 2,
       "version_minor": 0
      },
      "text/plain": [
       "  0%|          | 0/10000 [00:00<?, ?it/s]"
      ]
     },
     "metadata": {},
     "output_type": "display_data"
    },
    {
     "name": "stdout",
     "output_type": "stream",
     "text": [
      "\n",
      " Early Stopping / epoch: 132 loss: 0.0016\n",
      "-------------------------------------------------------------------------------------\n",
      "lr: 1e-05  patience: 20  num_layers: 4  batch_size: 32  hidden_size: 8  dropout: 0.25\n"
     ]
    },
    {
     "data": {
      "application/vnd.jupyter.widget-view+json": {
       "model_id": "87520af80d5b4b5790028e3211b65d33",
       "version_major": 2,
       "version_minor": 0
      },
      "text/plain": [
       "  0%|          | 0/10000 [00:00<?, ?it/s]"
      ]
     },
     "metadata": {},
     "output_type": "display_data"
    },
    {
     "name": "stdout",
     "output_type": "stream",
     "text": [
      "\n",
      " Early Stopping / epoch: 126 loss: 0.0014\n",
      "-------------------------------------------------------------------------------------\n",
      "lr: 1e-05  patience: 20  num_layers: 4  batch_size: 32  hidden_size: 16  dropout: 0.25\n"
     ]
    },
    {
     "data": {
      "application/vnd.jupyter.widget-view+json": {
       "model_id": "53a94832406c4783baf7cd0e7a6a7ca7",
       "version_major": 2,
       "version_minor": 0
      },
      "text/plain": [
       "  0%|          | 0/10000 [00:00<?, ?it/s]"
      ]
     },
     "metadata": {},
     "output_type": "display_data"
    },
    {
     "name": "stdout",
     "output_type": "stream",
     "text": [
      "\n",
      " Early Stopping / epoch: 54 loss: 0.0017\n",
      "-------------------------------------------------------------------------------------\n",
      "lr: 1e-05  patience: 20  num_layers: 4  batch_size: 32  hidden_size: 32  dropout: 0.25\n"
     ]
    },
    {
     "data": {
      "application/vnd.jupyter.widget-view+json": {
       "model_id": "9901504a08624289b6d727b93789f425",
       "version_major": 2,
       "version_minor": 0
      },
      "text/plain": [
       "  0%|          | 0/10000 [00:00<?, ?it/s]"
      ]
     },
     "metadata": {},
     "output_type": "display_data"
    },
    {
     "name": "stdout",
     "output_type": "stream",
     "text": [
      "\n",
      " Early Stopping / epoch: 36 loss: 0.0018\n",
      "-------------------------------------------------------------------------------------\n",
      "lr: 1e-05  patience: 20  num_layers: 4  batch_size: 64  hidden_size: 8  dropout: 0.25\n"
     ]
    },
    {
     "data": {
      "application/vnd.jupyter.widget-view+json": {
       "model_id": "81d5b34054a844e19e470e608c0d934f",
       "version_major": 2,
       "version_minor": 0
      },
      "text/plain": [
       "  0%|          | 0/10000 [00:00<?, ?it/s]"
      ]
     },
     "metadata": {},
     "output_type": "display_data"
    },
    {
     "name": "stdout",
     "output_type": "stream",
     "text": [
      "\n",
      " Early Stopping / epoch: 153 loss: 0.0017\n",
      "-------------------------------------------------------------------------------------\n",
      "lr: 1e-05  patience: 20  num_layers: 4  batch_size: 64  hidden_size: 16  dropout: 0.25\n"
     ]
    },
    {
     "data": {
      "application/vnd.jupyter.widget-view+json": {
       "model_id": "ce89b0aad25d448f9e41c5edc6f95b71",
       "version_major": 2,
       "version_minor": 0
      },
      "text/plain": [
       "  0%|          | 0/10000 [00:00<?, ?it/s]"
      ]
     },
     "metadata": {},
     "output_type": "display_data"
    },
    {
     "name": "stdout",
     "output_type": "stream",
     "text": [
      "\n",
      " Early Stopping / epoch: 83 loss: 0.0017\n",
      "-------------------------------------------------------------------------------------\n",
      "lr: 1e-05  patience: 20  num_layers: 4  batch_size: 64  hidden_size: 32  dropout: 0.25\n"
     ]
    },
    {
     "data": {
      "application/vnd.jupyter.widget-view+json": {
       "model_id": "7721c8b97a0847bda755411aad4e6b9b",
       "version_major": 2,
       "version_minor": 0
      },
      "text/plain": [
       "  0%|          | 0/10000 [00:00<?, ?it/s]"
      ]
     },
     "metadata": {},
     "output_type": "display_data"
    },
    {
     "name": "stdout",
     "output_type": "stream",
     "text": [
      "\n",
      " Early Stopping / epoch: 70 loss: 0.0017\n",
      "-------------------------------------------------------------------------------------\n",
      "lr: 1e-05  patience: 20  num_layers: 8  batch_size: 32  hidden_size: 8  dropout: 0.25\n"
     ]
    },
    {
     "data": {
      "application/vnd.jupyter.widget-view+json": {
       "model_id": "011e09ebdc094c2f8df6af2ea97b0316",
       "version_major": 2,
       "version_minor": 0
      },
      "text/plain": [
       "  0%|          | 0/10000 [00:00<?, ?it/s]"
      ]
     },
     "metadata": {},
     "output_type": "display_data"
    },
    {
     "name": "stdout",
     "output_type": "stream",
     "text": [
      "\n",
      " Early Stopping / epoch: 52 loss: 0.0018\n",
      "-------------------------------------------------------------------------------------\n",
      "lr: 1e-05  patience: 20  num_layers: 8  batch_size: 32  hidden_size: 16  dropout: 0.25\n"
     ]
    },
    {
     "data": {
      "application/vnd.jupyter.widget-view+json": {
       "model_id": "6844b034ecb54516aaa27171396d9303",
       "version_major": 2,
       "version_minor": 0
      },
      "text/plain": [
       "  0%|          | 0/10000 [00:00<?, ?it/s]"
      ]
     },
     "metadata": {},
     "output_type": "display_data"
    },
    {
     "name": "stdout",
     "output_type": "stream",
     "text": [
      "\n",
      " Early Stopping / epoch: 35 loss: 0.0018\n",
      "-------------------------------------------------------------------------------------\n",
      "lr: 1e-05  patience: 20  num_layers: 8  batch_size: 32  hidden_size: 32  dropout: 0.25\n"
     ]
    },
    {
     "data": {
      "application/vnd.jupyter.widget-view+json": {
       "model_id": "569700d1e9754b769a03026a4e125982",
       "version_major": 2,
       "version_minor": 0
      },
      "text/plain": [
       "  0%|          | 0/10000 [00:00<?, ?it/s]"
      ]
     },
     "metadata": {},
     "output_type": "display_data"
    },
    {
     "name": "stdout",
     "output_type": "stream",
     "text": [
      "\n",
      " Early Stopping / epoch: 30 loss: 0.0018\n",
      "-------------------------------------------------------------------------------------\n",
      "lr: 1e-05  patience: 20  num_layers: 8  batch_size: 64  hidden_size: 8  dropout: 0.25\n"
     ]
    },
    {
     "data": {
      "application/vnd.jupyter.widget-view+json": {
       "model_id": "e5102cf8b0844649b1697001ccb14a7e",
       "version_major": 2,
       "version_minor": 0
      },
      "text/plain": [
       "  0%|          | 0/10000 [00:00<?, ?it/s]"
      ]
     },
     "metadata": {},
     "output_type": "display_data"
    },
    {
     "name": "stdout",
     "output_type": "stream",
     "text": [
      "\n",
      " Early Stopping / epoch: 26 loss: 0.0018\n",
      "-------------------------------------------------------------------------------------\n",
      "lr: 1e-05  patience: 20  num_layers: 8  batch_size: 64  hidden_size: 16  dropout: 0.25\n"
     ]
    },
    {
     "data": {
      "application/vnd.jupyter.widget-view+json": {
       "model_id": "e51f4ec8254440829c61671fb232b825",
       "version_major": 2,
       "version_minor": 0
      },
      "text/plain": [
       "  0%|          | 0/10000 [00:00<?, ?it/s]"
      ]
     },
     "metadata": {},
     "output_type": "display_data"
    },
    {
     "name": "stdout",
     "output_type": "stream",
     "text": [
      "\n",
      " Early Stopping / epoch: 50 loss: 0.0018\n",
      "-------------------------------------------------------------------------------------\n",
      "lr: 1e-05  patience: 20  num_layers: 8  batch_size: 64  hidden_size: 32  dropout: 0.25\n"
     ]
    },
    {
     "data": {
      "application/vnd.jupyter.widget-view+json": {
       "model_id": "5e3e3af6d97640958cc9746c9accaf2c",
       "version_major": 2,
       "version_minor": 0
      },
      "text/plain": [
       "  0%|          | 0/10000 [00:00<?, ?it/s]"
      ]
     },
     "metadata": {},
     "output_type": "display_data"
    },
    {
     "name": "stdout",
     "output_type": "stream",
     "text": [
      "\n",
      " Early Stopping / epoch: 136 loss: 0.0018\n",
      "-------------------------------------------------------------------------------------\n",
      "lr: 1e-05  patience: 50  num_layers: 1  batch_size: 32  hidden_size: 8  dropout: 0.25\n"
     ]
    },
    {
     "data": {
      "application/vnd.jupyter.widget-view+json": {
       "model_id": "4717fbd5b845499f96d2a6203fa5ef8f",
       "version_major": 2,
       "version_minor": 0
      },
      "text/plain": [
       "  0%|          | 0/10000 [00:00<?, ?it/s]"
      ]
     },
     "metadata": {},
     "output_type": "display_data"
    },
    {
     "name": "stdout",
     "output_type": "stream",
     "text": [
      "\n",
      " Early Stopping / epoch: 4151 loss: 0.0000\n",
      "-------------------------------------------------------------------------------------\n",
      "lr: 1e-05  patience: 50  num_layers: 1  batch_size: 32  hidden_size: 16  dropout: 0.25\n"
     ]
    },
    {
     "data": {
      "application/vnd.jupyter.widget-view+json": {
       "model_id": "d112b372d17647a892f3a85ce6ee0072",
       "version_major": 2,
       "version_minor": 0
      },
      "text/plain": [
       "  0%|          | 0/10000 [00:00<?, ?it/s]"
      ]
     },
     "metadata": {},
     "output_type": "display_data"
    },
    {
     "name": "stdout",
     "output_type": "stream",
     "text": [
      "\n",
      " Early Stopping / epoch: 2997 loss: 0.0000\n",
      "-------------------------------------------------------------------------------------\n",
      "lr: 1e-05  patience: 50  num_layers: 1  batch_size: 32  hidden_size: 32  dropout: 0.25\n"
     ]
    },
    {
     "data": {
      "application/vnd.jupyter.widget-view+json": {
       "model_id": "1cc437cac022456c880ea111c367b011",
       "version_major": 2,
       "version_minor": 0
      },
      "text/plain": [
       "  0%|          | 0/10000 [00:00<?, ?it/s]"
      ]
     },
     "metadata": {},
     "output_type": "display_data"
    },
    {
     "name": "stdout",
     "output_type": "stream",
     "text": [
      "\n",
      " Early Stopping / epoch: 3683 loss: 0.0000\n",
      "-------------------------------------------------------------------------------------\n",
      "lr: 1e-05  patience: 50  num_layers: 1  batch_size: 64  hidden_size: 8  dropout: 0.25\n"
     ]
    },
    {
     "data": {
      "application/vnd.jupyter.widget-view+json": {
       "model_id": "6ac115ef5484429e9eb2eb7b0c8d4f40",
       "version_major": 2,
       "version_minor": 0
      },
      "text/plain": [
       "  0%|          | 0/10000 [00:00<?, ?it/s]"
      ]
     },
     "metadata": {},
     "output_type": "display_data"
    },
    {
     "name": "stdout",
     "output_type": "stream",
     "text": [
      "\n",
      " Early Stopping / epoch: 7091 loss: 0.0000\n",
      "-------------------------------------------------------------------------------------\n",
      "lr: 1e-05  patience: 50  num_layers: 1  batch_size: 64  hidden_size: 16  dropout: 0.25\n"
     ]
    },
    {
     "data": {
      "application/vnd.jupyter.widget-view+json": {
       "model_id": "62518db9c572487e8fa8dc15fedc635b",
       "version_major": 2,
       "version_minor": 0
      },
      "text/plain": [
       "  0%|          | 0/10000 [00:00<?, ?it/s]"
      ]
     },
     "metadata": {},
     "output_type": "display_data"
    },
    {
     "name": "stdout",
     "output_type": "stream",
     "text": [
      "\n",
      " Early Stopping / epoch: 6710 loss: 0.0000\n",
      "-------------------------------------------------------------------------------------\n",
      "lr: 1e-05  patience: 50  num_layers: 1  batch_size: 64  hidden_size: 32  dropout: 0.25\n"
     ]
    },
    {
     "data": {
      "application/vnd.jupyter.widget-view+json": {
       "model_id": "a44983dd927c41faa95d59fee8622b3d",
       "version_major": 2,
       "version_minor": 0
      },
      "text/plain": [
       "  0%|          | 0/10000 [00:00<?, ?it/s]"
      ]
     },
     "metadata": {},
     "output_type": "display_data"
    },
    {
     "name": "stdout",
     "output_type": "stream",
     "text": [
      "\n",
      " Early Stopping / epoch: 4757 loss: 0.0000\n",
      "-------------------------------------------------------------------------------------\n",
      "lr: 1e-05  patience: 50  num_layers: 2  batch_size: 32  hidden_size: 8  dropout: 0.25\n"
     ]
    },
    {
     "data": {
      "application/vnd.jupyter.widget-view+json": {
       "model_id": "38892dea40b64830a685cc7395378cfd",
       "version_major": 2,
       "version_minor": 0
      },
      "text/plain": [
       "  0%|          | 0/10000 [00:00<?, ?it/s]"
      ]
     },
     "metadata": {},
     "output_type": "display_data"
    },
    {
     "name": "stdout",
     "output_type": "stream",
     "text": [
      "\n",
      " Early Stopping / epoch: 199 loss: 0.0015\n",
      "-------------------------------------------------------------------------------------\n",
      "lr: 1e-05  patience: 50  num_layers: 2  batch_size: 32  hidden_size: 16  dropout: 0.25\n"
     ]
    },
    {
     "data": {
      "application/vnd.jupyter.widget-view+json": {
       "model_id": "ab63aba50aa94373aa7cd4a7452399b8",
       "version_major": 2,
       "version_minor": 0
      },
      "text/plain": [
       "  0%|          | 0/10000 [00:00<?, ?it/s]"
      ]
     },
     "metadata": {},
     "output_type": "display_data"
    },
    {
     "name": "stdout",
     "output_type": "stream",
     "text": [
      "\n",
      " Early Stopping / epoch: 680 loss: 0.0003\n",
      "-------------------------------------------------------------------------------------\n",
      "lr: 1e-05  patience: 50  num_layers: 2  batch_size: 32  hidden_size: 32  dropout: 0.25\n"
     ]
    },
    {
     "data": {
      "application/vnd.jupyter.widget-view+json": {
       "model_id": "611b9e4782dd4e709f1002acf0d82c9c",
       "version_major": 2,
       "version_minor": 0
      },
      "text/plain": [
       "  0%|          | 0/10000 [00:00<?, ?it/s]"
      ]
     },
     "metadata": {},
     "output_type": "display_data"
    },
    {
     "name": "stdout",
     "output_type": "stream",
     "text": [
      "\n",
      " Early Stopping / epoch: 490 loss: 0.0003\n",
      "-------------------------------------------------------------------------------------\n",
      "lr: 1e-05  patience: 50  num_layers: 2  batch_size: 64  hidden_size: 8  dropout: 0.25\n"
     ]
    },
    {
     "data": {
      "application/vnd.jupyter.widget-view+json": {
       "model_id": "abcd8d0b151748bca5a3f5a2c624dba3",
       "version_major": 2,
       "version_minor": 0
      },
      "text/plain": [
       "  0%|          | 0/10000 [00:00<?, ?it/s]"
      ]
     },
     "metadata": {},
     "output_type": "display_data"
    },
    {
     "name": "stdout",
     "output_type": "stream",
     "text": [
      "\n",
      " Early Stopping / epoch: 599 loss: 0.0006\n",
      "-------------------------------------------------------------------------------------\n",
      "lr: 1e-05  patience: 50  num_layers: 2  batch_size: 64  hidden_size: 16  dropout: 0.25\n"
     ]
    },
    {
     "data": {
      "application/vnd.jupyter.widget-view+json": {
       "model_id": "ede03c6b79484f758b1a6cd49374677f",
       "version_major": 2,
       "version_minor": 0
      },
      "text/plain": [
       "  0%|          | 0/10000 [00:00<?, ?it/s]"
      ]
     },
     "metadata": {},
     "output_type": "display_data"
    },
    {
     "name": "stdout",
     "output_type": "stream",
     "text": [
      "\n",
      " Early Stopping / epoch: 857 loss: 0.0002\n",
      "-------------------------------------------------------------------------------------\n",
      "lr: 1e-05  patience: 50  num_layers: 2  batch_size: 64  hidden_size: 32  dropout: 0.25\n"
     ]
    },
    {
     "data": {
      "application/vnd.jupyter.widget-view+json": {
       "model_id": "ee546842d17f41dab04f5eabfa0ef6ad",
       "version_major": 2,
       "version_minor": 0
      },
      "text/plain": [
       "  0%|          | 0/10000 [00:00<?, ?it/s]"
      ]
     },
     "metadata": {},
     "output_type": "display_data"
    },
    {
     "name": "stdout",
     "output_type": "stream",
     "text": [
      "\n",
      " Early Stopping / epoch: 886 loss: 0.0003\n",
      "-------------------------------------------------------------------------------------\n",
      "lr: 1e-05  patience: 50  num_layers: 4  batch_size: 32  hidden_size: 8  dropout: 0.25\n"
     ]
    },
    {
     "data": {
      "application/vnd.jupyter.widget-view+json": {
       "model_id": "4068e7138a50418da7969ce51a35e025",
       "version_major": 2,
       "version_minor": 0
      },
      "text/plain": [
       "  0%|          | 0/10000 [00:00<?, ?it/s]"
      ]
     },
     "metadata": {},
     "output_type": "display_data"
    },
    {
     "name": "stdout",
     "output_type": "stream",
     "text": [
      "\n",
      " Early Stopping / epoch: 120 loss: 0.0018\n",
      "-------------------------------------------------------------------------------------\n",
      "lr: 1e-05  patience: 50  num_layers: 4  batch_size: 32  hidden_size: 16  dropout: 0.25\n"
     ]
    },
    {
     "data": {
      "application/vnd.jupyter.widget-view+json": {
       "model_id": "0296cc3dd29f4a4198f1f599df53d9c7",
       "version_major": 2,
       "version_minor": 0
      },
      "text/plain": [
       "  0%|          | 0/10000 [00:00<?, ?it/s]"
      ]
     },
     "metadata": {},
     "output_type": "display_data"
    },
    {
     "name": "stdout",
     "output_type": "stream",
     "text": [
      "\n",
      " Early Stopping / epoch: 159 loss: 0.0018\n",
      "-------------------------------------------------------------------------------------\n",
      "lr: 1e-05  patience: 50  num_layers: 4  batch_size: 32  hidden_size: 32  dropout: 0.25\n"
     ]
    },
    {
     "data": {
      "application/vnd.jupyter.widget-view+json": {
       "model_id": "c6dbd33210a549afb18e48d051bbe927",
       "version_major": 2,
       "version_minor": 0
      },
      "text/plain": [
       "  0%|          | 0/10000 [00:00<?, ?it/s]"
      ]
     },
     "metadata": {},
     "output_type": "display_data"
    },
    {
     "name": "stdout",
     "output_type": "stream",
     "text": [
      "\n",
      " Early Stopping / epoch: 656 loss: 0.0006\n",
      "-------------------------------------------------------------------------------------\n",
      "lr: 1e-05  patience: 50  num_layers: 4  batch_size: 64  hidden_size: 8  dropout: 0.25\n"
     ]
    },
    {
     "data": {
      "application/vnd.jupyter.widget-view+json": {
       "model_id": "195948b6c53843c1938054759cb15ef0",
       "version_major": 2,
       "version_minor": 0
      },
      "text/plain": [
       "  0%|          | 0/10000 [00:00<?, ?it/s]"
      ]
     },
     "metadata": {},
     "output_type": "display_data"
    },
    {
     "name": "stdout",
     "output_type": "stream",
     "text": [
      "\n",
      " Early Stopping / epoch: 370 loss: 0.0017\n",
      "-------------------------------------------------------------------------------------\n",
      "lr: 1e-05  patience: 50  num_layers: 4  batch_size: 64  hidden_size: 16  dropout: 0.25\n"
     ]
    },
    {
     "data": {
      "application/vnd.jupyter.widget-view+json": {
       "model_id": "c987e200a39f43ad9cf78a1a98facd86",
       "version_major": 2,
       "version_minor": 0
      },
      "text/plain": [
       "  0%|          | 0/10000 [00:00<?, ?it/s]"
      ]
     },
     "metadata": {},
     "output_type": "display_data"
    },
    {
     "name": "stdout",
     "output_type": "stream",
     "text": [
      "\n",
      " Early Stopping / epoch: 107 loss: 0.0017\n",
      "-------------------------------------------------------------------------------------\n",
      "lr: 1e-05  patience: 50  num_layers: 4  batch_size: 64  hidden_size: 32  dropout: 0.25\n"
     ]
    },
    {
     "data": {
      "application/vnd.jupyter.widget-view+json": {
       "model_id": "478eb2c507894020a0cba254b4ffe932",
       "version_major": 2,
       "version_minor": 0
      },
      "text/plain": [
       "  0%|          | 0/10000 [00:00<?, ?it/s]"
      ]
     },
     "metadata": {},
     "output_type": "display_data"
    },
    {
     "name": "stdout",
     "output_type": "stream",
     "text": [
      "\n",
      " Early Stopping / epoch: 104 loss: 0.0018\n",
      "-------------------------------------------------------------------------------------\n",
      "lr: 1e-05  patience: 50  num_layers: 8  batch_size: 32  hidden_size: 8  dropout: 0.25\n"
     ]
    },
    {
     "data": {
      "application/vnd.jupyter.widget-view+json": {
       "model_id": "ed8d5c7c70c045d3a87e33ab3ba3c17d",
       "version_major": 2,
       "version_minor": 0
      },
      "text/plain": [
       "  0%|          | 0/10000 [00:00<?, ?it/s]"
      ]
     },
     "metadata": {},
     "output_type": "display_data"
    },
    {
     "name": "stdout",
     "output_type": "stream",
     "text": [
      "\n",
      " Early Stopping / epoch: 94 loss: 0.0018\n",
      "-------------------------------------------------------------------------------------\n",
      "lr: 1e-05  patience: 50  num_layers: 8  batch_size: 32  hidden_size: 16  dropout: 0.25\n"
     ]
    },
    {
     "data": {
      "application/vnd.jupyter.widget-view+json": {
       "model_id": "da6e22bd984b4439b3107fe0faecb9b4",
       "version_major": 2,
       "version_minor": 0
      },
      "text/plain": [
       "  0%|          | 0/10000 [00:00<?, ?it/s]"
      ]
     },
     "metadata": {},
     "output_type": "display_data"
    },
    {
     "name": "stdout",
     "output_type": "stream",
     "text": [
      "\n",
      " Early Stopping / epoch: 147 loss: 0.0018\n",
      "-------------------------------------------------------------------------------------\n",
      "lr: 1e-05  patience: 50  num_layers: 8  batch_size: 32  hidden_size: 32  dropout: 0.25\n"
     ]
    },
    {
     "data": {
      "application/vnd.jupyter.widget-view+json": {
       "model_id": "2154ed505d3d4b0d8610ef05a448ddec",
       "version_major": 2,
       "version_minor": 0
      },
      "text/plain": [
       "  0%|          | 0/10000 [00:00<?, ?it/s]"
      ]
     },
     "metadata": {},
     "output_type": "display_data"
    },
    {
     "name": "stdout",
     "output_type": "stream",
     "text": [
      "\n",
      " Early Stopping / epoch: 132 loss: 0.0018\n",
      "-------------------------------------------------------------------------------------\n",
      "lr: 1e-05  patience: 50  num_layers: 8  batch_size: 64  hidden_size: 8  dropout: 0.25\n"
     ]
    },
    {
     "data": {
      "application/vnd.jupyter.widget-view+json": {
       "model_id": "967e6ffe8dcf477cafd2c2c13f0f90c7",
       "version_major": 2,
       "version_minor": 0
      },
      "text/plain": [
       "  0%|          | 0/10000 [00:00<?, ?it/s]"
      ]
     },
     "metadata": {},
     "output_type": "display_data"
    },
    {
     "name": "stdout",
     "output_type": "stream",
     "text": [
      "\n",
      " Early Stopping / epoch: 137 loss: 0.0018\n",
      "-------------------------------------------------------------------------------------\n",
      "lr: 1e-05  patience: 50  num_layers: 8  batch_size: 64  hidden_size: 16  dropout: 0.25\n"
     ]
    },
    {
     "data": {
      "application/vnd.jupyter.widget-view+json": {
       "model_id": "63316843ac984890b9aeed302f38d4de",
       "version_major": 2,
       "version_minor": 0
      },
      "text/plain": [
       "  0%|          | 0/10000 [00:00<?, ?it/s]"
      ]
     },
     "metadata": {},
     "output_type": "display_data"
    },
    {
     "name": "stdout",
     "output_type": "stream",
     "text": [
      "\n",
      " Early Stopping / epoch: 128 loss: 0.0019\n",
      "-------------------------------------------------------------------------------------\n",
      "lr: 1e-05  patience: 50  num_layers: 8  batch_size: 64  hidden_size: 32  dropout: 0.25\n"
     ]
    },
    {
     "data": {
      "application/vnd.jupyter.widget-view+json": {
       "model_id": "34415338af2449eabfdeb9856c893667",
       "version_major": 2,
       "version_minor": 0
      },
      "text/plain": [
       "  0%|          | 0/10000 [00:00<?, ?it/s]"
      ]
     },
     "metadata": {},
     "output_type": "display_data"
    },
    {
     "name": "stdout",
     "output_type": "stream",
     "text": [
      "\n",
      " Early Stopping / epoch: 133 loss: 0.0018\n"
     ]
    }
   ],
   "source": [
    "criterion = nn.MSELoss()\n",
    "\n",
    "input_size = 3\n",
    "sequence_length = 60\n",
    "num_epochs = 10000\n",
    "\n",
    "df = Prepare_df.processing(data, 'stdDay', 'alpha_variants')\n",
    "\n",
    "x = df.iloc[:, 0:]\n",
    "y = df.iloc[:,:1]\n",
    "\n",
    "ms = MinMaxScaler()\n",
    "ss = StandardScaler()\n",
    "\n",
    "ss.fit(x)\n",
    "ms.fit(y)\n",
    "\n",
    "rmse_min = np.inf\n",
    "best_model = {}\n",
    "\n",
    "for hyperparameter in tqdm(hyperparameter_dict.values(), desc = '대구_GRU', position = 0):\n",
    "    lr = hyperparameter[0]\n",
    "    patience = hyperparameter[1]\n",
    "    num_layers = hyperparameter[2]\n",
    "    batch_size = hyperparameter[3]\n",
    "    hidden_size = hyperparameter[4]\n",
    "    dropout = hyperparameter[5]\n",
    "    print('-------------------------------------------------------------------------------------')\n",
    "    print('lr:', lr, ' patience:', patience, ' num_layers:', num_layers, \n",
    "          ' batch_size:', batch_size, ' hidden_size:', hidden_size, ' dropout:', dropout)\n",
    "    \n",
    "    x, y, x_ss, y_ms, train_loader, test_loader = Prepare_df.split_data(df, 59, 60, 1, batch_size, 'mto')\n",
    "    \n",
    "\n",
    "    model = GRU(input_size = input_size,\n",
    "                hidden_size = hidden_size,\n",
    "                sequence_length = sequence_length,\n",
    "                num_layers = num_layers, \n",
    "                dropout = dropout, \n",
    "                device = device).to(device)\n",
    "\n",
    "    optimizer = Adam(model.parameters(), lr = lr)\n",
    "    \n",
    "    loss_list, model, epoch = Trainer.Many_to_One(train_loader, \n",
    "                                                  test_loader, \n",
    "                                                  model, \n",
    "                                                  criterion, \n",
    "                                                  optimizer, \n",
    "                                                  num_epochs, \n",
    "                                                  patience,\n",
    "                                                  device)\n",
    "    \n",
    "    label_y, predicted = predict_mto(model, df, x_ss, y_ms)\n",
    "    \n",
    "    if rmse_min > rmse(label_y[-7:], predicted[-7:]):\n",
    "        rmse_min = rmse(label_y[-7:], predicted[-7:])\n",
    "        best_model['GRU'] = [rmse_min, model, loss_list, epoch, lr, patience, \n",
    "                             num_layers, batch_size, hidden_size, dropout]"
   ]
  },
  {
   "cell_type": "code",
   "execution_count": 5,
   "id": "cbe685ed",
   "metadata": {
    "ExecuteTime": {
     "end_time": "2023-06-06T09:16:11.407406Z",
     "start_time": "2023-06-06T09:16:11.380477Z"
    }
   },
   "outputs": [
    {
     "data": {
      "text/plain": [
       "{'GRU': [0.06689627846990784,\n",
       "  GRU(\n",
       "    (gru): GRU(3, 8, batch_first=True, dropout=0.25)\n",
       "    (fc1): Linear(in_features=480, out_features=128, bias=True)\n",
       "    (fc2): Linear(in_features=128, out_features=64, bias=True)\n",
       "    (fc3): Linear(in_features=64, out_features=1, bias=True)\n",
       "    (relu): ReLU()\n",
       "  ),\n",
       "  [0.04441740736365318,\n",
       "   0.04398244991898537,\n",
       "   0.043550044298172,\n",
       "   0.043119415640830994,\n",
       "   0.042690470814704895,\n",
       "   0.0422632172703743,\n",
       "   0.041838157922029495,\n",
       "   0.04141448810696602,\n",
       "   0.0409921370446682,\n",
       "   0.040571581572294235,\n",
       "   0.04015425220131874,\n",
       "   0.0397396981716156,\n",
       "   0.03932870924472809,\n",
       "   0.03892024978995323,\n",
       "   0.03851402550935745,\n",
       "   0.03811106085777283,\n",
       "   0.03771067410707474,\n",
       "   0.03731318563222885,\n",
       "   0.03691926598548889,\n",
       "   0.03652804344892502,\n",
       "   0.036138519644737244,\n",
       "   0.03575179725885391,\n",
       "   0.035367753356695175,\n",
       "   0.03498615697026253,\n",
       "   0.03460780903697014,\n",
       "   0.03423169627785683,\n",
       "   0.03385740891098976,\n",
       "   0.03348585218191147,\n",
       "   0.03311799839138985,\n",
       "   0.03275427594780922,\n",
       "   0.03239336982369423,\n",
       "   0.03203480318188667,\n",
       "   0.031677454710006714,\n",
       "   0.03132201358675957,\n",
       "   0.03096788376569748,\n",
       "   0.030616220086812973,\n",
       "   0.030267542228102684,\n",
       "   0.029921796172857285,\n",
       "   0.029578519985079765,\n",
       "   0.02923770807683468,\n",
       "   0.02889884263277054,\n",
       "   0.0285614226013422,\n",
       "   0.028226584196090698,\n",
       "   0.02789456397294998,\n",
       "   0.027564575895667076,\n",
       "   0.027235927060246468,\n",
       "   0.026909109205007553,\n",
       "   0.02658611163496971,\n",
       "   0.026265786960721016,\n",
       "   0.025947848334908485,\n",
       "   0.025632474571466446,\n",
       "   0.02531982772052288,\n",
       "   0.02501009777188301,\n",
       "   0.024702055379748344,\n",
       "   0.024396825581789017,\n",
       "   0.024093177169561386,\n",
       "   0.02379138581454754,\n",
       "   0.023492103442549706,\n",
       "   0.023196052759885788,\n",
       "   0.022902343422174454,\n",
       "   0.022611064836382866,\n",
       "   0.02232222817838192,\n",
       "   0.0220355112105608,\n",
       "   0.02175127901136875,\n",
       "   0.021469924598932266,\n",
       "   0.0211902167648077,\n",
       "   0.0209127739071846,\n",
       "   0.020637718960642815,\n",
       "   0.020365849137306213,\n",
       "   0.020096052438020706,\n",
       "   0.019828585907816887,\n",
       "   0.019564608111977577,\n",
       "   0.019303347915410995,\n",
       "   0.019044913351535797,\n",
       "   0.018789011985063553,\n",
       "   0.018536094576120377,\n",
       "   0.018286554142832756,\n",
       "   0.018039869144558907,\n",
       "   0.01779627613723278,\n",
       "   0.017555734142661095,\n",
       "   0.01731763407588005,\n",
       "   0.017081771045923233,\n",
       "   0.01684805378317833,\n",
       "   0.016617722809314728,\n",
       "   0.016389790922403336,\n",
       "   0.016164228320121765,\n",
       "   0.015941133722662926,\n",
       "   0.015720155090093613,\n",
       "   0.015501442365348339,\n",
       "   0.015285641886293888,\n",
       "   0.015072478912770748,\n",
       "   0.01486159861087799,\n",
       "   0.014652921818196774,\n",
       "   0.014447486028075218,\n",
       "   0.014244051650166512,\n",
       "   0.014042491093277931,\n",
       "   0.013842734508216381,\n",
       "   0.013644479215145111,\n",
       "   0.013448024168610573,\n",
       "   0.013253757730126381,\n",
       "   0.013061782345175743,\n",
       "   0.012871598824858665,\n",
       "   0.012683755718171597,\n",
       "   0.012497634626924992,\n",
       "   0.012312923558056355,\n",
       "   0.01212992798537016,\n",
       "   0.011948655359447002,\n",
       "   0.011768963187932968,\n",
       "   0.011590800248086452,\n",
       "   0.011414619162678719,\n",
       "   0.01124049723148346,\n",
       "   0.01106866355985403,\n",
       "   0.010898766107857227,\n",
       "   0.010730876587331295,\n",
       "   0.010565433651208878,\n",
       "   0.010402445681393147,\n",
       "   0.010242168791592121,\n",
       "   0.010083970613777637,\n",
       "   0.009928158484399319,\n",
       "   0.00977476965636015,\n",
       "   0.009623214602470398,\n",
       "   0.009473235346376896,\n",
       "   0.00932533573359251,\n",
       "   0.009178913198411465,\n",
       "   0.009034708142280579,\n",
       "   0.008892564103007317,\n",
       "   0.008752275258302689,\n",
       "   0.008613952435553074,\n",
       "   0.00847745593637228,\n",
       "   0.008343196474015713,\n",
       "   0.008210605941712856,\n",
       "   0.00807935930788517,\n",
       "   0.007950142957270145,\n",
       "   0.007822874933481216,\n",
       "   0.007697569206357002,\n",
       "   0.007574867457151413,\n",
       "   0.007453744765371084,\n",
       "   0.0073343017138540745,\n",
       "   0.007216963917016983,\n",
       "   0.007101445458829403,\n",
       "   0.0069877528585493565,\n",
       "   0.0068758889101445675,\n",
       "   0.006765998434275389,\n",
       "   0.006658033933490515,\n",
       "   0.00655183382332325,\n",
       "   0.006447296589612961,\n",
       "   0.00634452560916543,\n",
       "   0.006243337877094746,\n",
       "   0.006143803242594004,\n",
       "   0.006045828573405743,\n",
       "   0.005949566140770912,\n",
       "   0.005854484625160694,\n",
       "   0.005760823842138052,\n",
       "   0.005668792873620987,\n",
       "   0.005578112322837114,\n",
       "   0.005488862283527851,\n",
       "   0.005401295609772205,\n",
       "   0.005315097514539957,\n",
       "   0.005230684764683247,\n",
       "   0.005147852469235659,\n",
       "   0.005066356621682644,\n",
       "   0.004986546002328396,\n",
       "   0.004908165894448757,\n",
       "   0.004831059370189905,\n",
       "   0.004755370318889618,\n",
       "   0.004680945072323084,\n",
       "   0.004607827868312597,\n",
       "   0.004536064807325602,\n",
       "   0.004465652629733086,\n",
       "   0.00439651682972908,\n",
       "   0.004328597337007523,\n",
       "   0.00426205201074481,\n",
       "   0.004197184927761555,\n",
       "   0.00413370318710804,\n",
       "   0.004071553237736225,\n",
       "   0.004010663367807865,\n",
       "   0.003950871527194977,\n",
       "   0.0038922415114939213,\n",
       "   0.0038348601665347815,\n",
       "   0.003778604092076421,\n",
       "   0.0037235738709568977,\n",
       "   0.0036697671748697758,\n",
       "   0.003617170499637723,\n",
       "   0.003565720748156309,\n",
       "   0.003515275428071618,\n",
       "   0.0034658019430935383,\n",
       "   0.0034174344036728144,\n",
       "   0.0033700678031891584,\n",
       "   0.0033237298484891653,\n",
       "   0.003278386779129505,\n",
       "   0.003234023926779628,\n",
       "   0.0031905630603432655,\n",
       "   0.0031480591278523207,\n",
       "   0.0031063836067914963,\n",
       "   0.003065538126975298,\n",
       "   0.0030254446901381016,\n",
       "   0.0029861684888601303,\n",
       "   0.0029477556236088276,\n",
       "   0.0029101967811584473,\n",
       "   0.0028734980151057243,\n",
       "   0.002837672596797347,\n",
       "   0.0028026963118463755,\n",
       "   0.0027685908135026693,\n",
       "   0.0027353293262422085,\n",
       "   0.002703018020838499,\n",
       "   0.002671543974429369,\n",
       "   0.0026408247649669647,\n",
       "   0.0026108529418706894,\n",
       "   0.002581654815003276,\n",
       "   0.0025531838182359934,\n",
       "   0.002525417832657695,\n",
       "   0.0024983431212604046,\n",
       "   0.0024719780776649714,\n",
       "   0.002446332247927785,\n",
       "   0.0024213187862187624,\n",
       "   0.0023969407193362713,\n",
       "   0.002373171504586935,\n",
       "   0.0023499808739870787,\n",
       "   0.0023274135310202837,\n",
       "   0.0023054175544530153,\n",
       "   0.002283965703099966,\n",
       "   0.0022630745079368353,\n",
       "   0.00224278774112463,\n",
       "   0.0022231184411793947,\n",
       "   0.0022039732430130243,\n",
       "   0.0021852850914001465,\n",
       "   0.002167108468711376,\n",
       "   0.0021494103129953146,\n",
       "   0.002132115885615349,\n",
       "   0.0021152240224182606,\n",
       "   0.002098735421895981,\n",
       "   0.002082640305161476,\n",
       "   0.0020669233053922653,\n",
       "   0.0020516158547252417,\n",
       "   0.0020367249380797148,\n",
       "   0.002022210508584976,\n",
       "   0.0020080695394426584,\n",
       "   0.0019942945800721645,\n",
       "   0.0019808325450867414,\n",
       "   0.001967672724276781,\n",
       "   0.0019547936972230673,\n",
       "   0.0019422026816755533,\n",
       "   0.0019298928091302514,\n",
       "   0.0019178717629984021,\n",
       "   0.0019061209168285131,\n",
       "   0.001894501387141645,\n",
       "   0.0018831065390259027,\n",
       "   0.0018719348590821028,\n",
       "   0.0018609606195241213,\n",
       "   0.0018501891754567623,\n",
       "   0.0018394681392237544,\n",
       "   0.0018288695719093084,\n",
       "   0.001818413962610066,\n",
       "   0.0018081172602251172,\n",
       "   0.0017979551339522004,\n",
       "   0.001787918503396213,\n",
       "   0.0017780247144401073,\n",
       "   0.0017682734178379178,\n",
       "   0.0017586490139365196,\n",
       "   0.001749183633364737,\n",
       "   0.0017398459604009986,\n",
       "   0.0017306733643636107,\n",
       "   0.0017216349951922894,\n",
       "   0.001712725730612874,\n",
       "   0.0017039498779922724,\n",
       "   0.0016953301383182406,\n",
       "   0.001686815288849175,\n",
       "   0.0016784052131697536,\n",
       "   0.0016701043350622058,\n",
       "   0.001661899033933878,\n",
       "   0.0016537826741114259,\n",
       "   0.0016457366291433573,\n",
       "   0.0016377760330215096,\n",
       "   0.0016299361595883965,\n",
       "   0.0016222491394728422,\n",
       "   0.0016146559501066804,\n",
       "   0.0016071435529738665,\n",
       "   0.0015997085720300674,\n",
       "   0.0015923688188195229,\n",
       "   0.0015851291827857494,\n",
       "   0.0015779715031385422,\n",
       "   0.0015708865830674767,\n",
       "   0.001563871861435473,\n",
       "   0.001556907780468464,\n",
       "   0.0015499606961384416,\n",
       "   0.0015430517960339785,\n",
       "   0.0015362190315499902,\n",
       "   0.0015294637996703386,\n",
       "   0.0015228037955239415,\n",
       "   0.0015162068884819746,\n",
       "   0.001509661553427577,\n",
       "   0.001503153471276164,\n",
       "   0.0014967072056606412,\n",
       "   0.0014903019182384014,\n",
       "   0.0014839593786746264,\n",
       "   0.0014776642201468349,\n",
       "   0.0014713779091835022,\n",
       "   0.0014651867095381021,\n",
       "   0.0014591473154723644,\n",
       "   0.0014531826600432396,\n",
       "   0.0014472936745733023,\n",
       "   0.0014414454344660044,\n",
       "   0.0014356407336890697,\n",
       "   0.0014298843452706933,\n",
       "   0.0014241680037230253,\n",
       "   0.0014185087056830525,\n",
       "   0.001412932644598186,\n",
       "   0.0014074679929763079,\n",
       "   0.0014020439703017473,\n",
       "   0.0013966686092317104,\n",
       "   0.0013913403963670135,\n",
       "   0.0013860544422641397,\n",
       "   0.0013808076037093997,\n",
       "   0.001375590800307691,\n",
       "   0.0013704138109460473,\n",
       "   0.0013652966590598226,\n",
       "   0.0013602181570604444,\n",
       "   0.0013551724841818213,\n",
       "   0.001350165344774723,\n",
       "   0.0013451984850689769,\n",
       "   0.0013402674812823534,\n",
       "   0.0013353941030800343,\n",
       "   0.0013305660104379058,\n",
       "   0.0013257765676826239,\n",
       "   0.0013210212346166372,\n",
       "   0.0013163089752197266,\n",
       "   0.0013116757618263364,\n",
       "   0.0013070611748844385,\n",
       "   0.0013024365762248635,\n",
       "   0.001297834562137723,\n",
       "   0.001293256413191557,\n",
       "   0.0012886838521808386,\n",
       "   0.0012841338757425547,\n",
       "   0.001279611955396831,\n",
       "   0.0012751296162605286,\n",
       "   0.0012706788256764412,\n",
       "   0.0012662445660680532,\n",
       "   0.0012618391774594784,\n",
       "   0.0012574653374031186,\n",
       "   0.001253128401003778,\n",
       "   0.0012488348875194788,\n",
       "   0.0012445591855794191,\n",
       "   0.0012403090950101614,\n",
       "   0.0012360895052552223,\n",
       "   0.001231898320838809,\n",
       "   0.0012277475325390697,\n",
       "   0.0012236293405294418,\n",
       "   0.0012195658637210727,\n",
       "   0.0012155267177149653,\n",
       "   0.001211503054946661,\n",
       "   0.0012075194390490651,\n",
       "   0.0012035602703690529,\n",
       "   0.0011995985405519605,\n",
       "   0.0011956747621297836,\n",
       "   0.0011918052332475781,\n",
       "   0.0011879777302965522,\n",
       "   0.001184173277579248,\n",
       "   0.0011804080568253994,\n",
       "   0.001176689867861569,\n",
       "   0.0011729954276233912,\n",
       "   0.0011693129781633615,\n",
       "   0.0011656383285298944,\n",
       "   0.0011619835859164596,\n",
       "   0.0011583745945245028,\n",
       "   0.0011547834146767855,\n",
       "   0.001151209115050733,\n",
       "   0.0011476563522592187,\n",
       "   0.0011441204696893692,\n",
       "   0.0011406027479097247,\n",
       "   0.0011371079599484801,\n",
       "   0.0011336328461766243,\n",
       "   0.001130182878114283,\n",
       "   0.0011267554946243763,\n",
       "   0.0011233538389205933,\n",
       "   0.0011199434520676732,\n",
       "   0.0011165332980453968,\n",
       "   0.0011131435167044401,\n",
       "   0.0011097638634964824,\n",
       "   0.0011064100544899702,\n",
       "   0.0011030900059267879,\n",
       "   0.0010997785720974207,\n",
       "   0.0010964650427922606,\n",
       "   0.0010931595461443067,\n",
       "   0.0010898655746132135,\n",
       "   0.0010865908116102219,\n",
       "   0.0010833346750587225,\n",
       "   0.001080088666640222,\n",
       "   0.0010768509237095714,\n",
       "   0.0010736294789239764,\n",
       "   0.001070423168130219,\n",
       "   0.0010672267526388168,\n",
       "   0.0010640518739819527,\n",
       "   0.001060894108377397,\n",
       "   0.0010577510111033916,\n",
       "   0.0010546089615672827,\n",
       "   0.0010514726163819432,\n",
       "   0.0010483459336683154,\n",
       "   0.0010452296119183302,\n",
       "   0.0010421124752610922,\n",
       "   0.0010390086099505424,\n",
       "   0.0010359218576923013,\n",
       "   0.0010328460484743118,\n",
       "   0.001029778504744172,\n",
       "   0.0010267229517921805,\n",
       "   0.0010236904490739107,\n",
       "   0.0010206714505329728,\n",
       "   0.0010176599025726318,\n",
       "   0.0010146613931283355,\n",
       "   0.0010116727789863944,\n",
       "   0.0010086970869451761,\n",
       "   0.0010057378094643354,\n",
       "   0.0010027934331446886,\n",
       "   0.0009998579043895006,\n",
       "   0.0009969240054488182,\n",
       "   0.0009939855663105845,\n",
       "   0.0009910536464303732,\n",
       "   0.0009881192818284035,\n",
       "   0.0009851839859038591,\n",
       "   0.0009822540450841188,\n",
       "   0.0009793329518288374,\n",
       "   0.0009764254791662097,\n",
       "   0.0009735336061567068,\n",
       "   0.0009706512792035937,\n",
       "   0.0009677818743512034,\n",
       "   0.0009649241692386568,\n",
       "   0.000962079968303442,\n",
       "   0.00095924868946895,\n",
       "   0.0009564312640577555,\n",
       "   0.0009536283905617893,\n",
       "   0.0009508405346423388,\n",
       "   0.0009480682201683521,\n",
       "   0.0009453085949644446,\n",
       "   0.0009425627649761736,\n",
       "   0.0009398340480402112,\n",
       "   0.0009371192427352071,\n",
       "   0.0009344218415208161,\n",
       "   0.0009317416115663946,\n",
       "   0.0009290762827731669,\n",
       "   0.0009264269028790295,\n",
       "   0.0009237902704626322,\n",
       "   0.0009211666183546185,\n",
       "   0.000918565783649683,\n",
       "   0.0009159825858660042,\n",
       "   0.0009134123683907092,\n",
       "   0.0009108527447097003,\n",
       "   0.0009083050535991788,\n",
       "   0.0009057670249603689,\n",
       "   0.0009032405796460807,\n",
       "   0.0009007250773720443,\n",
       "   0.0008982244180515409,\n",
       "   0.0008957383688539267,\n",
       "   0.0008932588971219957,\n",
       "   0.0008907885057851672,\n",
       "   0.0008883317350409925,\n",
       "   0.000885894289240241,\n",
       "   0.0008834862965159118,\n",
       "   0.0008810881990939379,\n",
       "   0.0008787060505710542,\n",
       "   0.0008763322257436812,\n",
       "   0.0008739715558476746,\n",
       "   0.0008716190350241959,\n",
       "   0.0008692886913195252,\n",
       "   0.0008669830276630819,\n",
       "   0.000864689121954143,\n",
       "   0.0008623984758742154,\n",
       "   0.0008601158042438328,\n",
       "   0.000857842096593231,\n",
       "   0.0008555813692510128,\n",
       "   0.0008533244836144149,\n",
       "   0.0008510738844051957,\n",
       "   0.0008488321327604353,\n",
       "   0.0008465975406579673,\n",
       "   0.000844369875267148,\n",
       "   0.0008421420934610069,\n",
       "   0.0008399201324209571,\n",
       "   0.0008377146441489458,\n",
       "   0.0008355371537618339,\n",
       "   0.0008333750884048641,\n",
       "   0.0008312195423059165,\n",
       "   0.0008290749392472208,\n",
       "   0.0008269354002550244,\n",
       "   0.0008247877121903002,\n",
       "   0.0008226357749663293,\n",
       "   0.0008204872137866914,\n",
       "   0.0008183431928046048,\n",
       "   0.0008162102312780917,\n",
       "   0.0008141134749166667,\n",
       "   0.0008120252750813961,\n",
       "   0.0008099437109194696,\n",
       "   0.0008078694809228182,\n",
       "   0.0008058020030148327,\n",
       "   0.0008037366787903011,\n",
       "   0.000801652146037668,\n",
       "   0.0007995755295269191,\n",
       "   0.0007975189364515245,\n",
       "   0.0007954570464789867,\n",
       "   0.0007933856686577201,\n",
       "   0.0007913001463748515,\n",
       "   0.0007892004796303809,\n",
       "   0.0007870937115512788,\n",
       "   0.0007849900284782052,\n",
       "   0.0007828818052075803,\n",
       "   0.0007807683432474732,\n",
       "   0.0007786555215716362,\n",
       "   0.0007765355985611677,\n",
       "   0.000774400366935879,\n",
       "   0.0007722617010585964,\n",
       "   0.0007701049908064306,\n",
       "   0.0007679396658204496,\n",
       "   0.0007657705573365092,\n",
       "   0.0007636012742295861,\n",
       "   0.0007614384521730244,\n",
       "   0.0007592721376568079,\n",
       "   0.0007570587331429124,\n",
       "   0.0007548400317318738,\n",
       "   0.0007526559638790786,\n",
       "   0.0007504618843086064,\n",
       "   0.000748265185393393,\n",
       "   0.0007460152264684439,\n",
       "   0.0007437622989527881,\n",
       "   0.0007414795109070837,\n",
       "   0.0007391875260509551,\n",
       "   0.000736889720428735,\n",
       "   0.0007345911581069231,\n",
       "   0.0007323044701479375,\n",
       "   0.0007300067227333784,\n",
       "   0.0007277103140950203,\n",
       "   0.0007254148949868977,\n",
       "   0.000723125587683171,\n",
       "   0.0007208668976090848,\n",
       "   0.0007186108850874007,\n",
       "   0.0007163422415032983,\n",
       "   0.0007140660309232771,\n",
       "   0.0007117897039279342,\n",
       "   0.0007094992324709892,\n",
       "   0.0007072135340422392,\n",
       "   0.0007049257983453572,\n",
       "   0.0007026423118077219,\n",
       "   0.000700361852068454,\n",
       "   0.0006980913458392024,\n",
       "   0.0006958505255170166,\n",
       "   0.0006936240242794156,\n",
       "   0.0006914158002473414,\n",
       "   0.0006892121164128184,\n",
       "   0.0006870673969388008,\n",
       "   0.0006849727942608297,\n",
       "   0.0006829038611613214,\n",
       "   0.0006808525649830699,\n",
       "   0.0006788084865547717,\n",
       "   0.0006767734885215759,\n",
       "   0.0006747475708834827,\n",
       "   0.0006727328873239458,\n",
       "   0.000670729554258287,\n",
       "   0.0006687396089546382,\n",
       "   0.0006667731795459986,\n",
       "   0.0006648146663792431,\n",
       "   0.0006628751289099455,\n",
       "   0.0006608787225559354,\n",
       "   0.0006588646792806685,\n",
       "   0.0006568505195900798,\n",
       "   0.0006548508536070585,\n",
       "   0.0006528514204546809,\n",
       "   0.0006508572841994464,\n",
       "   0.0006488708313554525,\n",
       "   0.0006468862411566079,\n",
       "   0.0006449052598327398,\n",
       "   0.0006429249770008028,\n",
       "   0.0006409412017092109,\n",
       "   0.0006389619666151702,\n",
       "   0.0006369854672811925,\n",
       "   0.0006350017501972616,\n",
       "   0.0006329737370833755,\n",
       "   0.0006309384480118752,\n",
       "   0.0006289365701377392,\n",
       "   0.0006269353907555342,\n",
       "   0.0006249519647099078,\n",
       "   0.0006230082944966853,\n",
       "   0.0006210722494870424,\n",
       "   0.0006192142027430236,\n",
       "   0.0006174115696921945,\n",
       "   0.0006156143499538302,\n",
       "   0.0006138180033303797,\n",
       "   0.0006120454054325819,\n",
       "   0.0006102781044319272,\n",
       "   0.0006085368804633617,\n",
       "   0.0006068440852686763,\n",
       "   0.0006051798118278384,\n",
       "   0.0006035141414031386,\n",
       "   0.0006018444546498358,\n",
       "   0.0006001890869811177,\n",
       "   0.0005985357565805316,\n",
       "   0.0005968852201476693,\n",
       "   0.0005952435894869268,\n",
       "   0.0005936064408160746,\n",
       "   0.0005919660325162113,\n",
       "   0.0005903266719542444,\n",
       "   0.0005886948783881962,\n",
       "   0.00058706448180601,\n",
       "   0.0005854382761754096,\n",
       "   0.0005838114302605391,\n",
       "   0.0005821888917125762,\n",
       "   0.0005805660621263087,\n",
       "   0.0005789488786831498,\n",
       "   0.0005773384473286569,\n",
       "   0.0005757253966294229,\n",
       "   0.0005741364439018071,\n",
       "   0.0005725506925955415,\n",
       "   0.0005709750694222748,\n",
       "   0.0005694039282388985,\n",
       "   0.0005678409361280501,\n",
       "   0.0005662788753397763,\n",
       "   0.0005647261859849095,\n",
       "   0.0005631812964566052,\n",
       "   0.0005616444395855069,\n",
       "   0.000560098618734628,\n",
       "   0.0005585515755228698,\n",
       "   0.0005570076173171401,\n",
       "   0.0005554710514843464,\n",
       "   0.0005539376870729029,\n",
       "   0.0005524092703126371,\n",
       "   0.0005508819594979286,\n",
       "   0.0005493562202900648,\n",
       "   0.0005478402599692345,\n",
       "   0.000546327093616128,\n",
       "   0.0005448159063234925,\n",
       "   0.0005433061742223799,\n",
       "   0.0005418003420345485,\n",
       "   0.0005402996321208775,\n",
       "   0.0005388034041970968,\n",
       "   0.0005373127642087638,\n",
       "   0.0005358277121558785,\n",
       "   0.0005343437660485506,\n",
       "   0.0005328624392859638,\n",
       "   0.0005314009031280875,\n",
       "   0.0005299531039781868,\n",
       "   0.0005285087390802801,\n",
       "   0.0005270702531561255,\n",
       "   0.0005256370641291142,\n",
       "   0.0005242054467089474,\n",
       "   0.0005227748770266771,\n",
       "   0.0005213512340560555,\n",
       "   0.0005199350998736918,\n",
       "   0.0005185290356166661,\n",
       "   0.0005171201191842556,\n",
       "   0.0005157145205885172,\n",
       "   0.0005143120069988072,\n",
       "   0.0005128968041390181,\n",
       "   0.0005114871310070157,\n",
       "   0.0005100815324112773,\n",
       "   0.0005086763994768262,\n",
       "   0.0005072812200523913,\n",
       "   0.0005058908136561513,\n",
       "   0.0005045010475441813,\n",
       "   0.0005031110486015677,\n",
       "   0.0005017276271246374,\n",
       "   0.000500341528095305,\n",
       "   0.0004989603185094893,\n",
       "   0.0004975800984539092,\n",
       "   0.000496203254442662,\n",
       "   0.0004948300193063915,\n",
       "   0.0004934539319947362,\n",
       "   0.0004920785431750119,\n",
       "   0.000490708218421787,\n",
       "   0.0004893409204669297,\n",
       "   0.000487976532895118,\n",
       "   0.0004866205854341388,\n",
       "   0.0004852555866818875,\n",
       "   0.0004838899476453662,\n",
       "   0.0004825281794182956,\n",
       "   0.0004811726976186037,\n",
       "   0.00047982350224629045,\n",
       "   0.0004784758493769914,\n",
       "   0.00047713410458527505,\n",
       "   0.0004758021386805922,\n",
       "   0.0004744732868857682,\n",
       "   0.0004731471708510071,\n",
       "   0.0004718269919976592,\n",
       "   0.0004705108585767448,\n",
       "   0.0004691936483141035,\n",
       "   0.0004678816767409444,\n",
       "   0.00046657302300445735,\n",
       "   0.0004652674251701683,\n",
       "   0.0004639641847461462,\n",
       "   0.0004626669397111982,\n",
       "   0.00046137618483044207,\n",
       "   0.00046008912613615394,\n",
       "   0.0004588112351484597,\n",
       "   0.0004575407365337014,\n",
       "   0.00045627375948242843,\n",
       "   0.00045500858686864376,\n",
       "   0.00045374370529316366,\n",
       "   0.00045248481910675764,\n",
       "   0.00045122861047275364,\n",
       "   0.0004499752540141344,\n",
       "   0.0004487267869990319,\n",
       "   0.000447483966127038,\n",
       "   0.0004462444339878857,\n",
       "   0.00044500670628622174,\n",
       "   0.00044377424637787044,\n",
       "   0.00044254661770537496,\n",
       "   0.0004413228016346693,\n",
       "   0.00044010576675646007,\n",
       "   0.0004388913803268224,\n",
       "   0.0004376739088911563,\n",
       "   0.0004364654887467623,\n",
       "   0.00043525558430701494,\n",
       "   0.00043404765892773867,\n",
       "   0.0004328415379859507,\n",
       "   0.0004316381528042257,\n",
       "   0.0004304428002797067,\n",
       "   0.0004292513185646385,\n",
       "   0.0004280616412870586,\n",
       "   0.00042688235407695174,\n",
       "   0.00042570079676806927,\n",
       "   0.0004245142627041787,\n",
       "   0.00042332810699008405,\n",
       "   0.0004221342969685793,\n",
       "   0.0004209262551739812,\n",
       "   0.0004197203670628369,\n",
       "   0.0004185141297057271,\n",
       "   0.0004173128982074559,\n",
       "   0.00041609336039982736,\n",
       "   0.0004148711741436273,\n",
       "   0.00041364756179973483,\n",
       "   0.0004124348342884332,\n",
       "   0.0004112238239031285,\n",
       "   0.000410014356020838,\n",
       "   0.0004088045097887516,\n",
       "   0.00040759568219073117,\n",
       "   0.00040639203507453203,\n",
       "   0.0004052033764310181,\n",
       "   0.00040401885053142905,\n",
       "   0.00040283292764797807,\n",
       "   0.0004016469174530357,\n",
       "   0.00040046192589215934,\n",
       "   0.0003992854035459459,\n",
       "   0.0003981120535172522,\n",
       "   0.0003969412937294692,\n",
       "   0.0003957836306653917,\n",
       "   0.0003946477663703263,\n",
       "   0.0003935206332243979,\n",
       "   0.0003923952463082969,\n",
       "   0.00039127242052927613,\n",
       "   0.0003901612653862685,\n",
       "   0.00038906425470486283,\n",
       "   0.0003879631694871932,\n",
       "   0.0003868632484227419,\n",
       "   0.000385763356462121,\n",
       "   0.0003846668405458331,\n",
       "   0.0003835704119410366,\n",
       "   0.00038247043266892433,\n",
       "   0.0003813761577475816,\n",
       "   0.0003802839491982013,\n",
       "   0.00037921316106803715,\n",
       "   0.000378153461497277,\n",
       "   0.000377088290406391,\n",
       "   0.00037601811345666647,\n",
       "   0.0003749502939172089,\n",
       "   0.0003738904488272965,\n",
       "   0.0003728322044480592,\n",
       "   0.000371776579413563,\n",
       "   0.0003707254654727876,\n",
       "   0.0003696786006912589,\n",
       "   0.0003686309210024774,\n",
       "   0.0003675825719255954,\n",
       "   0.0003665458643808961,\n",
       "   0.00036551119410432875,\n",
       "   0.0003644790849648416,\n",
       "   0.00036344537511467934,\n",
       "   0.0003624118980951607,\n",
       "   0.0003613863664213568,\n",
       "   0.00036036508390679955,\n",
       "   0.0003593410365283489,\n",
       "   0.0003583173092920333,\n",
       "   0.00035730539821088314,\n",
       "   0.00035629610647447407,\n",
       "   0.00035528812441043556,\n",
       "   0.00035428276169113815,\n",
       "   0.0003532789705786854,\n",
       "   0.00035228021442890167,\n",
       "   0.0003512882103677839,\n",
       "   0.0003502984473016113,\n",
       "   0.0003493063850328326,\n",
       "   0.00034832136589102447,\n",
       "   0.00034734138171188533,\n",
       "   0.00034636122290976346,\n",
       "   0.00034538254840299487,\n",
       "   0.0003444078320171684,\n",
       "   0.0003434339305385947,\n",
       "   0.0003424649185035378,\n",
       "   0.0003414948296267539,\n",
       "   0.000340532511472702,\n",
       "   0.0003395695530343801,\n",
       "   0.0003386086318641901,\n",
       "   0.0003376537642907351,\n",
       "   0.00033670576522126794,\n",
       "   0.0003357548557687551,\n",
       "   0.00033479847479611635,\n",
       "   0.00033384462585672736,\n",
       "   0.00033288833219558,\n",
       "   0.00033193707349710166,\n",
       "   0.0003309851745143533,\n",
       "   0.00033003801945596933,\n",
       "   0.0003290905151516199,\n",
       "   0.0003281462995801121,\n",
       "   0.0003272064495831728,\n",
       "   0.0003262657264713198,\n",
       "   0.00032532995101064444,\n",
       "   0.0003243969986215234,\n",
       "   0.0003234694304410368,\n",
       "   0.00032254206598736346,\n",
       "   0.00032161595299839973,\n",
       "   0.0003206934197805822,\n",
       "   0.000319771672366187,\n",
       "   0.0003188526607118547,\n",
       "   0.00031793685047887266,\n",
       "   0.00031702264095656574,\n",
       "   0.00031611151644028723,\n",
       "   0.0003152002755086869,\n",
       "   0.0003142961941193789,\n",
       "   0.00031339144334197044,\n",
       "   0.00031249766470864415,\n",
       "   0.0003115993458777666,\n",
       "   0.0003106966323684901,\n",
       "   0.0003098102461080998,\n",
       "   0.00030892499489709735,\n",
       "   0.00030804084963165224,\n",
       "   0.0003071642422582954,\n",
       "   0.000306283327518031,\n",
       "   0.00030541280284523964,\n",
       "   0.00030454082298092544,\n",
       "   0.00030366465216502547,\n",
       "   0.0003027961356565356,\n",
       "   0.00030193201382644475,\n",
       "   0.0003010706277564168,\n",
       "   0.0003002078738063574,\n",
       "   0.00029934829217381775,\n",
       "   0.00029849165002815425,\n",
       "   0.0002976396353915334,\n",
       "   0.00029679169529117644,\n",
       "   0.00029594547231681645,\n",
       "   0.000295100238872692,\n",
       "   0.0002942637074738741,\n",
       "   0.0002934252261184156,\n",
       "   0.0002925903245341033,\n",
       "   0.0002917646197602153,\n",
       "   0.00029094007913954556,\n",
       "   0.00029011914739385247,\n",
       "   0.00028929926338605583,\n",
       "   0.00028848438523709774,\n",
       "   0.00028767273761332035,\n",
       "   0.000286863767541945,\n",
       "   0.0002860589884221554,\n",
       "   0.0002852529287338257,\n",
       "   0.0002844512346200645,\n",
       "   0.0002836519561242312,\n",
       "   0.00028285756707191467,\n",
       "   0.00028206565184518695,\n",
       "   0.0002812727470882237,\n",
       "   0.00028048738022334874,\n",
       "   0.00027969779330305755,\n",
       "   0.0002789174614008516,\n",
       "   0.00027812941698357463,\n",
       "   0.0002773576707113534,\n",
       "   0.0002765800745692104,\n",
       "   0.0002757988986559212,\n",
       "   0.0002750302664935589,\n",
       "   0.0002742586366366595,\n",
       "   0.0002734858135227114,\n",
       "   0.0002727225364651531,\n",
       "   0.0002719619369599968,\n",
       "   0.0002711974084377289,\n",
       "   0.0002704387006815523,\n",
       "   0.00026968467864207923,\n",
       "   0.0002689327229745686,\n",
       "   0.0002681838523130864,\n",
       "   0.00026743271155282855,\n",
       "   0.00026668416103348136,\n",
       "   0.0002659352030605078,\n",
       "   0.00026519468519836664,\n",
       "   0.0002644516935106367,\n",
       "   0.0002637125726323575,\n",
       "   0.00026298107695765793,\n",
       "   0.00026224562316201627,\n",
       "   0.0002615138073451817,\n",
       "   0.0002607903734315187,\n",
       "   0.00026006600819528103,\n",
       "   0.00025933963479474187,\n",
       "   0.00025862877373583615,\n",
       "   0.0002579019928816706,\n",
       "   0.0002571928489487618,\n",
       "   0.00025647933944128454,\n",
       "   0.00025575433392077684,\n",
       "   0.00025504245422780514,\n",
       "   0.0002543155278544873,\n",
       "   0.000253602716838941,\n",
       "   0.0002528950572013855,\n",
       "   0.0002521742135286331,\n",
       "   0.00025146236293949187,\n",
       "   0.0002507604076527059,\n",
       "   0.00025004736380651593,\n",
       "   0.0002493358333595097,\n",
       "   0.00024863952421583235,\n",
       "   0.00024792621843516827,\n",
       "   0.000247212708927691,\n",
       "   0.00024652809952385724,\n",
       "   0.0002458337985444814,\n",
       "   0.00024513970129191875,\n",
       "   0.0002444627752993256,\n",
       "   0.00024377359659411013,\n",
       "   0.00024308015417773277,\n",
       "   0.00024239080084953457,\n",
       "   0.00024171498080249876,\n",
       "   0.00024103181203827262,\n",
       "   0.00024036124523263425,\n",
       "   0.00023968893219716847,\n",
       "   0.00023901295207906514,\n",
       "   0.00023834058083593845,\n",
       "   0.00023767321545165032,\n",
       "   0.00023700634483247995,\n",
       "   0.00023634446552023292,\n",
       "   0.00023569208860863,\n",
       "   0.00023503444390371442,\n",
       "   0.00023437464551534504,\n",
       "   0.00023372155555989593,\n",
       "   0.0002330717834411189,\n",
       "   0.0002324176748516038,\n",
       "   0.00023176815011538565,\n",
       "   0.0002311226271558553,\n",
       "   0.00023047556169331074,\n",
       "   0.00022983498638495803,\n",
       "   0.00022919184993952513,\n",
       "   0.00022854836424812675,\n",
       "   0.00022791122319176793,\n",
       "   0.00022726826136931777,\n",
       "   0.00022664280550088733,\n",
       "   0.00022600620286539197,\n",
       "   0.0002253770362585783,\n",
       "   0.00022475345758721232,\n",
       "   0.00022412346152123064,\n",
       "   0.0002234907733509317,\n",
       "   0.0002228613302577287,\n",
       "   0.00022224601707421243,\n",
       "   0.00022162449022289366,\n",
       "   0.00022099088528193533,\n",
       "   0.00022036957670934498,\n",
       "   0.0002197526628151536,\n",
       "   0.00021912889496888965,\n",
       "   0.00021850160555914044,\n",
       "   0.0002178927679779008,\n",
       "   0.0002172748208977282,\n",
       "   0.0002166534395655617,\n",
       "   0.0002160406729672104,\n",
       "   0.00021543224283959717,\n",
       "   0.00021481706062331796,\n",
       "   0.0002142091834684834,\n",
       "   0.00021360533719416708,\n",
       "   0.00021299257059581578,\n",
       "   0.00021239128545857966,\n",
       "   0.0002117883414030075,\n",
       "   0.00021118482982274145,\n",
       "   0.0002105899911839515,\n",
       "   0.00020999474509153515,\n",
       "   0.0002093960647471249,\n",
       "   0.00020880362717434764,\n",
       "   0.00020820801728405058,\n",
       "   0.00020761507039424032,\n",
       "   0.0002070274786092341,\n",
       "   0.00020643652533181012,\n",
       "   0.00020584397134371102,\n",
       "   0.00020526755542960018,\n",
       "   0.00020468153525143862,\n",
       "   0.0002041003026533872,\n",
       "   0.00020352240244392306,\n",
       "   0.00020293892885092646,\n",
       "   0.0002023611159529537,\n",
       "   0.000201778719201684,\n",
       "   0.00020120722183492035,\n",
       "   0.00020062370458617806,\n",
       "   0.00020004398538731039,\n",
       "   0.00019946860265918076,\n",
       "   0.00019888741371687502,\n",
       "   0.00019831066310871392,\n",
       "   0.00019773982057813555,\n",
       "   0.00019716870156116784,\n",
       "   0.0001966041891137138,\n",
       "   0.00019603270629886538,\n",
       "   0.00019547223928384483,\n",
       "   0.0001949090656125918,\n",
       "   0.00019433956185821444,\n",
       "   0.00019378439174033701,\n",
       "   0.00019322408479638398,\n",
       "   0.0001926592958625406,\n",
       "   0.00019210821483284235,\n",
       "   0.00019154988694936037,\n",
       "   0.00019098773191217333,\n",
       "   0.00019043716019950807,\n",
       "   0.0001898842165246606,\n",
       "   0.00018933459068648517,\n",
       "   0.00018879203707911074,\n",
       "   ...],\n",
       "  7090,\n",
       "  1e-05,\n",
       "  50,\n",
       "  1,\n",
       "  64,\n",
       "  8,\n",
       "  0.25]}"
      ]
     },
     "execution_count": 5,
     "metadata": {},
     "output_type": "execute_result"
    }
   ],
   "source": [
    "best_model"
   ]
  },
  {
   "cell_type": "code",
   "execution_count": 6,
   "id": "aad47098",
   "metadata": {
    "ExecuteTime": {
     "end_time": "2023-06-06T09:16:11.423362Z",
     "start_time": "2023-06-06T09:16:11.410397Z"
    }
   },
   "outputs": [],
   "source": [
    "save_model(best_model['GRU'][1].state_dict(), \"model/Infected/alpha/GRU.pth\")\n",
    "save_hyperparameter(best_model['GRU'][3:], \"hyperparameter/Infected/alpha/GRU.pkl\")"
   ]
  },
  {
   "cell_type": "code",
   "execution_count": 7,
   "id": "fea99149",
   "metadata": {
    "ExecuteTime": {
     "end_time": "2023-06-06T09:16:11.642776Z",
     "start_time": "2023-06-06T09:16:11.426354Z"
    }
   },
   "outputs": [
    {
     "data": {
      "text/plain": [
       "[<matplotlib.lines.Line2D at 0x25afb70f880>]"
      ]
     },
     "execution_count": 7,
     "metadata": {},
     "output_type": "execute_result"
    },
    {
     "data": {
      "image/png": "[encoded data removed]",
      "text/plain": [
       "<Figure size 640x480 with 1 Axes>"
      ]
     },
     "metadata": {},
     "output_type": "display_data"
    }
   ],
   "source": [
    "plt.plot(best_model['GRU'][2])"
   ]
  },
  {
   "cell_type": "code",
   "execution_count": 8,
   "id": "067da507",
   "metadata": {
    "ExecuteTime": {
     "end_time": "2023-06-06T09:16:11.658746Z",
     "start_time": "2023-06-06T09:16:11.646765Z"
    }
   },
   "outputs": [],
   "source": [
    "label_y, predicted = predict_mto(best_model['GRU'][1], df, x_ss, y_ms)"
   ]
  },
  {
   "cell_type": "code",
   "execution_count": 13,
   "id": "282fd157",
   "metadata": {
    "ExecuteTime": {
     "end_time": "2023-06-06T09:18:18.269084Z",
     "start_time": "2023-06-06T09:18:18.082584Z"
    }
   },
   "outputs": [
    {
     "name": "stdout",
     "output_type": "stream",
     "text": [
      "0.2022753238967935\n"
     ]
    },
    {
     "data": {
      "image/png": "[encoded data removed]",
      "text/plain": [
       "<Figure size 1000x600 with 1 Axes>"
      ]
     },
     "metadata": {},
     "output_type": "display_data"
    }
   ],
   "source": [
    "print(rmse(label_y[-7:], predicted[-7:]))\n",
    "plotting(label_y, predicted, 58)"
   ]
  },
  {
   "cell_type": "code",
   "execution_count": 12,
   "id": "bf06a5e5",
   "metadata": {
    "ExecuteTime": {
     "end_time": "2023-06-06T09:17:59.134678Z",
     "start_time": "2023-06-06T09:17:59.116727Z"
    }
   },
   "outputs": [
    {
     "data": {
      "text/plain": [
       "0.2022753238967935"
      ]
     },
     "execution_count": 12,
     "metadata": {},
     "output_type": "execute_result"
    }
   ],
   "source": [
    "rmse(label_y[-7:], predicted[-7:])"
   ]
  },
  {
   "cell_type": "code",
   "execution_count": null,
   "id": "6cd60ba8",
   "metadata": {},
   "outputs": [],
   "source": []
  }
 ],
 "metadata": {
  "kernelspec": {
   "display_name": "KDA_DA",
   "language": "python",
   "name": "kda_da"
  },
  "language_info": {
   "codemirror_mode": {
    "name": "ipython",
    "version": 3
   },
   "file_extension": ".py",
   "mimetype": "text/x-python",
   "name": "python",
   "nbconvert_exporter": "python",
   "pygments_lexer": "ipython3",
   "version": "3.10.8"
  },
  "toc": {
   "base_numbering": 1,
   "nav_menu": {},
   "number_sections": true,
   "sideBar": true,
   "skip_h1_title": false,
   "title_cell": "Table of Contents",
   "title_sidebar": "Contents",
   "toc_cell": false,
   "toc_position": {},
   "toc_section_display": true,
   "toc_window_display": false
  }
 },
 "nbformat": 4,
 "nbformat_minor": 5
}
