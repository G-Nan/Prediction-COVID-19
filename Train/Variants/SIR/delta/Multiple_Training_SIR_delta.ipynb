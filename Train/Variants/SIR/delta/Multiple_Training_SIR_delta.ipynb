{
 "cells": [
  {
   "cell_type": "code",
   "execution_count": 1,
   "id": "d97d8d30",
   "metadata": {
    "ExecuteTime": {
     "end_time": "2023-06-14T13:53:34.732798Z",
     "start_time": "2023-06-14T13:53:32.188501Z"
    }
   },
   "outputs": [],
   "source": [
    "import os\n",
    "os.chdir('D:\\\\Gnan\\\\DA\\\\KMU\\\\Prediction-COVID-19')\n",
    "from utils import *\n",
    "from model import *\n",
    "from trainer import *\n",
    "\n",
    "from tqdm.notebook import tqdm\n",
    "from torch.optim.adam import Adam\n",
    "device = torch.device('cuda:0' if torch.cuda.is_available() else 'cpu')\n",
    "\n",
    "import warnings\n",
    "warnings.filterwarnings('ignore')"
   ]
  },
  {
   "cell_type": "code",
   "execution_count": 2,
   "id": "241510fc",
   "metadata": {
    "ExecuteTime": {
     "end_time": "2023-06-14T13:53:34.812586Z",
     "start_time": "2023-06-14T13:53:34.734793Z"
    }
   },
   "outputs": [
    {
     "data": {
      "text/html": [
       "<div>\n",
       "<style scoped>\n",
       "    .dataframe tbody tr th:only-of-type {\n",
       "        vertical-align: middle;\n",
       "    }\n",
       "\n",
       "    .dataframe tbody tr th {\n",
       "        vertical-align: top;\n",
       "    }\n",
       "\n",
       "    .dataframe thead th {\n",
       "        text-align: right;\n",
       "    }\n",
       "</style>\n",
       "<table border=\"1\" class=\"dataframe\">\n",
       "  <thead>\n",
       "    <tr style=\"text-align: right;\">\n",
       "      <th></th>\n",
       "      <th>stdDay</th>\n",
       "      <th>Susceptible</th>\n",
       "      <th>Alpha_Infected</th>\n",
       "      <th>Alpha_Recovered</th>\n",
       "      <th>Alpha_Dead</th>\n",
       "      <th>Alpha_alpha</th>\n",
       "      <th>Alpha_beta</th>\n",
       "      <th>Alpha_gamma</th>\n",
       "      <th>Delta_Infected</th>\n",
       "      <th>Delta_Recovered</th>\n",
       "      <th>Delta_Dead</th>\n",
       "      <th>Delta_alpha</th>\n",
       "      <th>Delta_beta</th>\n",
       "      <th>Delta_gamma</th>\n",
       "    </tr>\n",
       "  </thead>\n",
       "  <tbody>\n",
       "    <tr>\n",
       "      <th>0</th>\n",
       "      <td>2021-04-12</td>\n",
       "      <td>2380065</td>\n",
       "      <td>39.65</td>\n",
       "      <td>163.36</td>\n",
       "      <td>2.00</td>\n",
       "      <td>0.059242</td>\n",
       "      <td>0.058260</td>\n",
       "      <td>0.005296</td>\n",
       "      <td>0.32</td>\n",
       "      <td>0.00</td>\n",
       "      <td>0.00</td>\n",
       "      <td>0.564647</td>\n",
       "      <td>0.000000</td>\n",
       "      <td>0.0</td>\n",
       "    </tr>\n",
       "    <tr>\n",
       "      <th>1</th>\n",
       "      <td>2021-04-13</td>\n",
       "      <td>2380056</td>\n",
       "      <td>39.47</td>\n",
       "      <td>165.67</td>\n",
       "      <td>2.21</td>\n",
       "      <td>0.072737</td>\n",
       "      <td>0.079807</td>\n",
       "      <td>0.000000</td>\n",
       "      <td>0.50</td>\n",
       "      <td>0.00</td>\n",
       "      <td>0.00</td>\n",
       "      <td>0.441681</td>\n",
       "      <td>0.000000</td>\n",
       "      <td>0.0</td>\n",
       "    </tr>\n",
       "    <tr>\n",
       "      <th>2</th>\n",
       "      <td>2021-04-14</td>\n",
       "      <td>2380045</td>\n",
       "      <td>39.18</td>\n",
       "      <td>168.82</td>\n",
       "      <td>2.21</td>\n",
       "      <td>0.119906</td>\n",
       "      <td>0.037519</td>\n",
       "      <td>0.000000</td>\n",
       "      <td>0.72</td>\n",
       "      <td>0.00</td>\n",
       "      <td>0.00</td>\n",
       "      <td>0.501913</td>\n",
       "      <td>0.000000</td>\n",
       "      <td>0.0</td>\n",
       "    </tr>\n",
       "    <tr>\n",
       "      <th>3</th>\n",
       "      <td>2021-04-15</td>\n",
       "      <td>2380027</td>\n",
       "      <td>42.39</td>\n",
       "      <td>170.29</td>\n",
       "      <td>2.21</td>\n",
       "      <td>0.024628</td>\n",
       "      <td>0.084218</td>\n",
       "      <td>0.000000</td>\n",
       "      <td>1.08</td>\n",
       "      <td>0.00</td>\n",
       "      <td>0.00</td>\n",
       "      <td>0.074358</td>\n",
       "      <td>0.000000</td>\n",
       "      <td>0.0</td>\n",
       "    </tr>\n",
       "    <tr>\n",
       "      <th>4</th>\n",
       "      <td>2021-04-16</td>\n",
       "      <td>2380023</td>\n",
       "      <td>39.86</td>\n",
       "      <td>173.86</td>\n",
       "      <td>2.21</td>\n",
       "      <td>0.078574</td>\n",
       "      <td>0.052684</td>\n",
       "      <td>0.000000</td>\n",
       "      <td>1.16</td>\n",
       "      <td>0.00</td>\n",
       "      <td>0.00</td>\n",
       "      <td>0.207690</td>\n",
       "      <td>0.000000</td>\n",
       "      <td>0.0</td>\n",
       "    </tr>\n",
       "    <tr>\n",
       "      <th>...</th>\n",
       "      <td>...</td>\n",
       "      <td>...</td>\n",
       "      <td>...</td>\n",
       "      <td>...</td>\n",
       "      <td>...</td>\n",
       "      <td>...</td>\n",
       "      <td>...</td>\n",
       "      <td>...</td>\n",
       "      <td>...</td>\n",
       "      <td>...</td>\n",
       "      <td>...</td>\n",
       "      <td>...</td>\n",
       "      <td>...</td>\n",
       "      <td>...</td>\n",
       "    </tr>\n",
       "    <tr>\n",
       "      <th>121</th>\n",
       "      <td>2021-08-11</td>\n",
       "      <td>2376752</td>\n",
       "      <td>12.67</td>\n",
       "      <td>486.64</td>\n",
       "      <td>3.05</td>\n",
       "      <td>0.030942</td>\n",
       "      <td>0.132597</td>\n",
       "      <td>0.000000</td>\n",
       "      <td>814.69</td>\n",
       "      <td>726.09</td>\n",
       "      <td>0.84</td>\n",
       "      <td>0.045715</td>\n",
       "      <td>0.052928</td>\n",
       "      <td>0.0</td>\n",
       "    </tr>\n",
       "    <tr>\n",
       "      <th>122</th>\n",
       "      <td>2021-08-12</td>\n",
       "      <td>2376713</td>\n",
       "      <td>11.38</td>\n",
       "      <td>488.32</td>\n",
       "      <td>3.05</td>\n",
       "      <td>0.050350</td>\n",
       "      <td>0.163445</td>\n",
       "      <td>0.000000</td>\n",
       "      <td>808.62</td>\n",
       "      <td>769.21</td>\n",
       "      <td>0.84</td>\n",
       "      <td>0.067316</td>\n",
       "      <td>0.059039</td>\n",
       "      <td>0.0</td>\n",
       "    </tr>\n",
       "    <tr>\n",
       "      <th>123</th>\n",
       "      <td>2021-08-13</td>\n",
       "      <td>2376656</td>\n",
       "      <td>10.09</td>\n",
       "      <td>490.18</td>\n",
       "      <td>3.05</td>\n",
       "      <td>0.081696</td>\n",
       "      <td>0.136769</td>\n",
       "      <td>0.000000</td>\n",
       "      <td>815.03</td>\n",
       "      <td>816.95</td>\n",
       "      <td>0.84</td>\n",
       "      <td>0.096082</td>\n",
       "      <td>0.043459</td>\n",
       "      <td>0.0</td>\n",
       "    </tr>\n",
       "    <tr>\n",
       "      <th>124</th>\n",
       "      <td>2021-08-14</td>\n",
       "      <td>2376574</td>\n",
       "      <td>9.53</td>\n",
       "      <td>491.56</td>\n",
       "      <td>3.05</td>\n",
       "      <td>0.060128</td>\n",
       "      <td>0.072403</td>\n",
       "      <td>0.000000</td>\n",
       "      <td>857.51</td>\n",
       "      <td>852.37</td>\n",
       "      <td>0.84</td>\n",
       "      <td>0.063482</td>\n",
       "      <td>0.020653</td>\n",
       "      <td>0.0</td>\n",
       "    </tr>\n",
       "    <tr>\n",
       "      <th>125</th>\n",
       "      <td>2021-08-15</td>\n",
       "      <td>2376517</td>\n",
       "      <td>9.41</td>\n",
       "      <td>492.25</td>\n",
       "      <td>3.05</td>\n",
       "      <td>0.000000</td>\n",
       "      <td>0.000000</td>\n",
       "      <td>0.000000</td>\n",
       "      <td>893.95</td>\n",
       "      <td>870.08</td>\n",
       "      <td>0.84</td>\n",
       "      <td>0.000000</td>\n",
       "      <td>0.000000</td>\n",
       "      <td>0.0</td>\n",
       "    </tr>\n",
       "  </tbody>\n",
       "</table>\n",
       "<p>126 rows × 14 columns</p>\n",
       "</div>"
      ],
      "text/plain": [
       "         stdDay  Susceptible  Alpha_Infected  Alpha_Recovered  Alpha_Dead  \\\n",
       "0    2021-04-12      2380065           39.65           163.36        2.00   \n",
       "1    2021-04-13      2380056           39.47           165.67        2.21   \n",
       "2    2021-04-14      2380045           39.18           168.82        2.21   \n",
       "3    2021-04-15      2380027           42.39           170.29        2.21   \n",
       "4    2021-04-16      2380023           39.86           173.86        2.21   \n",
       "..          ...          ...             ...              ...         ...   \n",
       "121  2021-08-11      2376752           12.67           486.64        3.05   \n",
       "122  2021-08-12      2376713           11.38           488.32        3.05   \n",
       "123  2021-08-13      2376656           10.09           490.18        3.05   \n",
       "124  2021-08-14      2376574            9.53           491.56        3.05   \n",
       "125  2021-08-15      2376517            9.41           492.25        3.05   \n",
       "\n",
       "     Alpha_alpha  Alpha_beta  Alpha_gamma  Delta_Infected  Delta_Recovered  \\\n",
       "0       0.059242    0.058260     0.005296            0.32             0.00   \n",
       "1       0.072737    0.079807     0.000000            0.50             0.00   \n",
       "2       0.119906    0.037519     0.000000            0.72             0.00   \n",
       "3       0.024628    0.084218     0.000000            1.08             0.00   \n",
       "4       0.078574    0.052684     0.000000            1.16             0.00   \n",
       "..           ...         ...          ...             ...              ...   \n",
       "121     0.030942    0.132597     0.000000          814.69           726.09   \n",
       "122     0.050350    0.163445     0.000000          808.62           769.21   \n",
       "123     0.081696    0.136769     0.000000          815.03           816.95   \n",
       "124     0.060128    0.072403     0.000000          857.51           852.37   \n",
       "125     0.000000    0.000000     0.000000          893.95           870.08   \n",
       "\n",
       "     Delta_Dead  Delta_alpha  Delta_beta  Delta_gamma  \n",
       "0          0.00     0.564647    0.000000          0.0  \n",
       "1          0.00     0.441681    0.000000          0.0  \n",
       "2          0.00     0.501913    0.000000          0.0  \n",
       "3          0.00     0.074358    0.000000          0.0  \n",
       "4          0.00     0.207690    0.000000          0.0  \n",
       "..          ...          ...         ...          ...  \n",
       "121        0.84     0.045715    0.052928          0.0  \n",
       "122        0.84     0.067316    0.059039          0.0  \n",
       "123        0.84     0.096082    0.043459          0.0  \n",
       "124        0.84     0.063482    0.020653          0.0  \n",
       "125        0.84     0.000000    0.000000          0.0  \n",
       "\n",
       "[126 rows x 14 columns]"
      ]
     },
     "execution_count": 2,
     "metadata": {},
     "output_type": "execute_result"
    }
   ],
   "source": [
    "city = '대구'\n",
    "\n",
    "path = 'Data/Variants/SIR/alpha_delta/*.csv'\n",
    "dic_files = Load_files.load_files(path, -18, -16)\n",
    "data = dic_files[city]\n",
    "data"
   ]
  },
  {
   "cell_type": "code",
   "execution_count": 3,
   "id": "47c7287b",
   "metadata": {
    "ExecuteTime": {
     "end_time": "2023-06-14T13:53:34.828543Z",
     "start_time": "2023-06-14T13:53:34.814582Z"
    },
    "scrolled": true
   },
   "outputs": [
    {
     "name": "stdout",
     "output_type": "stream",
     "text": [
      "72\n"
     ]
    }
   ],
   "source": [
    "learning_rates_list = [1e-3, 1e-4]\n",
    "patiences_list = [20, 50]\n",
    "num_layers_list = [1, 2, 4]\n",
    "hidden_sizes_list = [8, 16, 32]\n",
    "dropout_list = [0.25]\n",
    "criterions_list = [nn.MSELoss(), criterion3]\n",
    "batch_size = 64\n",
    "hyperparameter_dict = {}\n",
    "i = 0\n",
    "\n",
    "for lr in learning_rates_list:\n",
    "    for patience in patiences_list:\n",
    "        for num_layers in num_layers_list:\n",
    "            for hidden_size in hidden_sizes_list:    \n",
    "                for dropout in dropout_list:\n",
    "                    for criterion in criterions_list:\n",
    "                        hyperparameter_dict[i] = [lr, patience, num_layers, hidden_size, dropout, criterion]\n",
    "                        i += 1\n",
    "\n",
    "print(i)"
   ]
  },
  {
   "cell_type": "code",
   "execution_count": 4,
   "id": "14aa2d30",
   "metadata": {
    "ExecuteTime": {
     "end_time": "2023-06-16T00:15:14.497253Z",
     "start_time": "2023-06-14T13:53:34.830537Z"
    },
    "scrolled": true
   },
   "outputs": [
    {
     "data": {
      "application/vnd.jupyter.widget-view+json": {
       "model_id": "758cbc82e3fe4527b48e5cb009cf93d2",
       "version_major": 2,
       "version_minor": 0
      },
      "text/plain": [
       "cities:   0%|          | 0/17 [00:00<?, ?it/s]"
      ]
     },
     "metadata": {},
     "output_type": "display_data"
    },
    {
     "data": {
      "application/vnd.jupyter.widget-view+json": {
       "model_id": "c7926e42c7f247fb9ad5bfd42350eec8",
       "version_major": 2,
       "version_minor": 0
      },
      "text/plain": [
       "강원:   0%|          | 0/12 [00:00<?, ?it/s]"
      ]
     },
     "metadata": {},
     "output_type": "display_data"
    },
    {
     "data": {
      "application/vnd.jupyter.widget-view+json": {
       "model_id": "0ad4e22cf31c4cf4bdc4275f1ea7826e",
       "version_major": 2,
       "version_minor": 0
      },
      "text/plain": [
       "강원_RNN:   0%|          | 0/72 [00:00<?, ?it/s]"
      ]
     },
     "metadata": {},
     "output_type": "display_data"
    },
    {
     "data": {
      "application/vnd.jupyter.widget-view+json": {
       "model_id": "3687f7e5aa744cef896b905c8a884c9b",
       "version_major": 2,
       "version_minor": 0
      },
      "text/plain": [
       "강원_LSTM:   0%|          | 0/72 [00:00<?, ?it/s]"
      ]
     },
     "metadata": {},
     "output_type": "display_data"
    },
    {
     "data": {
      "application/vnd.jupyter.widget-view+json": {
       "model_id": "56501acbcc61409289533275ee002bb1",
       "version_major": 2,
       "version_minor": 0
      },
      "text/plain": [
       "강원_GRU:   0%|          | 0/72 [00:00<?, ?it/s]"
      ]
     },
     "metadata": {},
     "output_type": "display_data"
    },
    {
     "data": {
      "application/vnd.jupyter.widget-view+json": {
       "model_id": "6de1cf59633748d2b5a51ee1a2f82fb7",
       "version_major": 2,
       "version_minor": 0
      },
      "text/plain": [
       "강원_BiRNN:   0%|          | 0/72 [00:00<?, ?it/s]"
      ]
     },
     "metadata": {},
     "output_type": "display_data"
    },
    {
     "data": {
      "application/vnd.jupyter.widget-view+json": {
       "model_id": "c3a4b442624b456f8eaff9976a2497bf",
       "version_major": 2,
       "version_minor": 0
      },
      "text/plain": [
       "강원_BiLSTM:   0%|          | 0/72 [00:00<?, ?it/s]"
      ]
     },
     "metadata": {},
     "output_type": "display_data"
    },
    {
     "data": {
      "application/vnd.jupyter.widget-view+json": {
       "model_id": "633cce91540641c080966559b8a7e723",
       "version_major": 2,
       "version_minor": 0
      },
      "text/plain": [
       "강원_BiGRU:   0%|          | 0/72 [00:00<?, ?it/s]"
      ]
     },
     "metadata": {},
     "output_type": "display_data"
    },
    {
     "data": {
      "application/vnd.jupyter.widget-view+json": {
       "model_id": "c64169c6ac354a1da22ce8da21ce79dd",
       "version_major": 2,
       "version_minor": 0
      },
      "text/plain": [
       "강원_seq2seq_RNN:   0%|          | 0/72 [00:00<?, ?it/s]"
      ]
     },
     "metadata": {},
     "output_type": "display_data"
    },
    {
     "data": {
      "application/vnd.jupyter.widget-view+json": {
       "model_id": "5797921e47594ee19c2efa5c979dc869",
       "version_major": 2,
       "version_minor": 0
      },
      "text/plain": [
       "강원_seq2seq_LSTM:   0%|          | 0/72 [00:00<?, ?it/s]"
      ]
     },
     "metadata": {},
     "output_type": "display_data"
    },
    {
     "data": {
      "application/vnd.jupyter.widget-view+json": {
       "model_id": "a65d5f12b5b84a3ca28037c41c497878",
       "version_major": 2,
       "version_minor": 0
      },
      "text/plain": [
       "강원_seq2seq_GRU:   0%|          | 0/72 [00:00<?, ?it/s]"
      ]
     },
     "metadata": {},
     "output_type": "display_data"
    },
    {
     "data": {
      "application/vnd.jupyter.widget-view+json": {
       "model_id": "f6462f6b1dfc4f67b122abe87184194b",
       "version_major": 2,
       "version_minor": 0
      },
      "text/plain": [
       "강원_seq2seq_BiRNN:   0%|          | 0/72 [00:00<?, ?it/s]"
      ]
     },
     "metadata": {},
     "output_type": "display_data"
    },
    {
     "data": {
      "application/vnd.jupyter.widget-view+json": {
       "model_id": "2c103ba9fcae432daa82425313e9843f",
       "version_major": 2,
       "version_minor": 0
      },
      "text/plain": [
       "강원_seq2seq_BiLSTM:   0%|          | 0/72 [00:00<?, ?it/s]"
      ]
     },
     "metadata": {},
     "output_type": "display_data"
    },
    {
     "data": {
      "application/vnd.jupyter.widget-view+json": {
       "model_id": "2edd86fed63843fcb14b6335e4422ab3",
       "version_major": 2,
       "version_minor": 0
      },
      "text/plain": [
       "강원_seq2seq_BiGRU:   0%|          | 0/72 [00:00<?, ?it/s]"
      ]
     },
     "metadata": {},
     "output_type": "display_data"
    },
    {
     "data": {
      "application/vnd.jupyter.widget-view+json": {
       "model_id": "80b0feab901b4b78838e0ae51f366e06",
       "version_major": 2,
       "version_minor": 0
      },
      "text/plain": [
       "경기:   0%|          | 0/12 [00:00<?, ?it/s]"
      ]
     },
     "metadata": {},
     "output_type": "display_data"
    },
    {
     "data": {
      "application/vnd.jupyter.widget-view+json": {
       "model_id": "5bf4eed85c604b7f919694605bd29a18",
       "version_major": 2,
       "version_minor": 0
      },
      "text/plain": [
       "경기_RNN:   0%|          | 0/72 [00:00<?, ?it/s]"
      ]
     },
     "metadata": {},
     "output_type": "display_data"
    },
    {
     "data": {
      "application/vnd.jupyter.widget-view+json": {
       "model_id": "7f5eefd804c942488974b832a91f3ca3",
       "version_major": 2,
       "version_minor": 0
      },
      "text/plain": [
       "경기_LSTM:   0%|          | 0/72 [00:00<?, ?it/s]"
      ]
     },
     "metadata": {},
     "output_type": "display_data"
    },
    {
     "data": {
      "application/vnd.jupyter.widget-view+json": {
       "model_id": "e9d20fcbd2164505899c4bcac15eabbc",
       "version_major": 2,
       "version_minor": 0
      },
      "text/plain": [
       "경기_GRU:   0%|          | 0/72 [00:00<?, ?it/s]"
      ]
     },
     "metadata": {},
     "output_type": "display_data"
    },
    {
     "data": {
      "application/vnd.jupyter.widget-view+json": {
       "model_id": "11f5b8d14bcb4c94b388a20a9b0c07f8",
       "version_major": 2,
       "version_minor": 0
      },
      "text/plain": [
       "경기_BiRNN:   0%|          | 0/72 [00:00<?, ?it/s]"
      ]
     },
     "metadata": {},
     "output_type": "display_data"
    },
    {
     "data": {
      "application/vnd.jupyter.widget-view+json": {
       "model_id": "f90bc3dc98174346984c2a3ee11d8848",
       "version_major": 2,
       "version_minor": 0
      },
      "text/plain": [
       "경기_BiLSTM:   0%|          | 0/72 [00:00<?, ?it/s]"
      ]
     },
     "metadata": {},
     "output_type": "display_data"
    },
    {
     "data": {
      "application/vnd.jupyter.widget-view+json": {
       "model_id": "56136f98352c498db73e3459d647bf09",
       "version_major": 2,
       "version_minor": 0
      },
      "text/plain": [
       "경기_BiGRU:   0%|          | 0/72 [00:00<?, ?it/s]"
      ]
     },
     "metadata": {},
     "output_type": "display_data"
    },
    {
     "data": {
      "application/vnd.jupyter.widget-view+json": {
       "model_id": "ab21d071a9d04667983d95e27f74c901",
       "version_major": 2,
       "version_minor": 0
      },
      "text/plain": [
       "경기_seq2seq_RNN:   0%|          | 0/72 [00:00<?, ?it/s]"
      ]
     },
     "metadata": {},
     "output_type": "display_data"
    },
    {
     "data": {
      "application/vnd.jupyter.widget-view+json": {
       "model_id": "b17ccddec3164b7abbf69421b5b9bdea",
       "version_major": 2,
       "version_minor": 0
      },
      "text/plain": [
       "경기_seq2seq_LSTM:   0%|          | 0/72 [00:00<?, ?it/s]"
      ]
     },
     "metadata": {},
     "output_type": "display_data"
    },
    {
     "data": {
      "application/vnd.jupyter.widget-view+json": {
       "model_id": "351a5d8557a34ae6bdff8fa747432570",
       "version_major": 2,
       "version_minor": 0
      },
      "text/plain": [
       "경기_seq2seq_GRU:   0%|          | 0/72 [00:00<?, ?it/s]"
      ]
     },
     "metadata": {},
     "output_type": "display_data"
    },
    {
     "data": {
      "application/vnd.jupyter.widget-view+json": {
       "model_id": "8fcccc8378464a079a1108190ec190ff",
       "version_major": 2,
       "version_minor": 0
      },
      "text/plain": [
       "경기_seq2seq_BiRNN:   0%|          | 0/72 [00:00<?, ?it/s]"
      ]
     },
     "metadata": {},
     "output_type": "display_data"
    },
    {
     "data": {
      "application/vnd.jupyter.widget-view+json": {
       "model_id": "3b6832f9726b43f2856adaf5583842cd",
       "version_major": 2,
       "version_minor": 0
      },
      "text/plain": [
       "경기_seq2seq_BiLSTM:   0%|          | 0/72 [00:00<?, ?it/s]"
      ]
     },
     "metadata": {},
     "output_type": "display_data"
    },
    {
     "data": {
      "application/vnd.jupyter.widget-view+json": {
       "model_id": "e547239438f544049ba5d70fdf870f0f",
       "version_major": 2,
       "version_minor": 0
      },
      "text/plain": [
       "경기_seq2seq_BiGRU:   0%|          | 0/72 [00:00<?, ?it/s]"
      ]
     },
     "metadata": {},
     "output_type": "display_data"
    },
    {
     "data": {
      "application/vnd.jupyter.widget-view+json": {
       "model_id": "c556315c36e64fa395a271a6afe621aa",
       "version_major": 2,
       "version_minor": 0
      },
      "text/plain": [
       "경남:   0%|          | 0/12 [00:00<?, ?it/s]"
      ]
     },
     "metadata": {},
     "output_type": "display_data"
    },
    {
     "data": {
      "application/vnd.jupyter.widget-view+json": {
       "model_id": "cc386aaecf1942269bdc8e18c74f5785",
       "version_major": 2,
       "version_minor": 0
      },
      "text/plain": [
       "경남_RNN:   0%|          | 0/72 [00:00<?, ?it/s]"
      ]
     },
     "metadata": {},
     "output_type": "display_data"
    },
    {
     "data": {
      "application/vnd.jupyter.widget-view+json": {
       "model_id": "1efa5857bf3e442880f2081c37a16978",
       "version_major": 2,
       "version_minor": 0
      },
      "text/plain": [
       "경남_LSTM:   0%|          | 0/72 [00:00<?, ?it/s]"
      ]
     },
     "metadata": {},
     "output_type": "display_data"
    },
    {
     "data": {
      "application/vnd.jupyter.widget-view+json": {
       "model_id": "a442d0c2190c4cd6ac52781e41dc6a81",
       "version_major": 2,
       "version_minor": 0
      },
      "text/plain": [
       "경남_GRU:   0%|          | 0/72 [00:00<?, ?it/s]"
      ]
     },
     "metadata": {},
     "output_type": "display_data"
    },
    {
     "data": {
      "application/vnd.jupyter.widget-view+json": {
       "model_id": "5ac0cb801d004cc7af21138324cb9670",
       "version_major": 2,
       "version_minor": 0
      },
      "text/plain": [
       "경남_BiRNN:   0%|          | 0/72 [00:00<?, ?it/s]"
      ]
     },
     "metadata": {},
     "output_type": "display_data"
    },
    {
     "data": {
      "application/vnd.jupyter.widget-view+json": {
       "model_id": "fc95c94e0151430683cb9f6ba3a55ea3",
       "version_major": 2,
       "version_minor": 0
      },
      "text/plain": [
       "경남_BiLSTM:   0%|          | 0/72 [00:00<?, ?it/s]"
      ]
     },
     "metadata": {},
     "output_type": "display_data"
    },
    {
     "data": {
      "application/vnd.jupyter.widget-view+json": {
       "model_id": "ffcc749010ed4cbf9e830c4d8eda3e8e",
       "version_major": 2,
       "version_minor": 0
      },
      "text/plain": [
       "경남_BiGRU:   0%|          | 0/72 [00:00<?, ?it/s]"
      ]
     },
     "metadata": {},
     "output_type": "display_data"
    },
    {
     "data": {
      "application/vnd.jupyter.widget-view+json": {
       "model_id": "563f73b3649a4dd4a0e7fdca8e836f1f",
       "version_major": 2,
       "version_minor": 0
      },
      "text/plain": [
       "경남_seq2seq_RNN:   0%|          | 0/72 [00:00<?, ?it/s]"
      ]
     },
     "metadata": {},
     "output_type": "display_data"
    },
    {
     "data": {
      "application/vnd.jupyter.widget-view+json": {
       "model_id": "4a145161323f4af1b4d1f323e55e6917",
       "version_major": 2,
       "version_minor": 0
      },
      "text/plain": [
       "경남_seq2seq_LSTM:   0%|          | 0/72 [00:00<?, ?it/s]"
      ]
     },
     "metadata": {},
     "output_type": "display_data"
    },
    {
     "data": {
      "application/vnd.jupyter.widget-view+json": {
       "model_id": "beb41943513a40bab63e9efc6555cf42",
       "version_major": 2,
       "version_minor": 0
      },
      "text/plain": [
       "경남_seq2seq_GRU:   0%|          | 0/72 [00:00<?, ?it/s]"
      ]
     },
     "metadata": {},
     "output_type": "display_data"
    },
    {
     "data": {
      "application/vnd.jupyter.widget-view+json": {
       "model_id": "1d4e371e8aa7428487d200612f0edc59",
       "version_major": 2,
       "version_minor": 0
      },
      "text/plain": [
       "경남_seq2seq_BiRNN:   0%|          | 0/72 [00:00<?, ?it/s]"
      ]
     },
     "metadata": {},
     "output_type": "display_data"
    },
    {
     "data": {
      "application/vnd.jupyter.widget-view+json": {
       "model_id": "088f8e9f61f54817bba6176cde92ab57",
       "version_major": 2,
       "version_minor": 0
      },
      "text/plain": [
       "경남_seq2seq_BiLSTM:   0%|          | 0/72 [00:00<?, ?it/s]"
      ]
     },
     "metadata": {},
     "output_type": "display_data"
    },
    {
     "data": {
      "application/vnd.jupyter.widget-view+json": {
       "model_id": "2619f3769fe446e2a488192d9eed7de4",
       "version_major": 2,
       "version_minor": 0
      },
      "text/plain": [
       "경남_seq2seq_BiGRU:   0%|          | 0/72 [00:00<?, ?it/s]"
      ]
     },
     "metadata": {},
     "output_type": "display_data"
    },
    {
     "data": {
      "application/vnd.jupyter.widget-view+json": {
       "model_id": "b2b57401d4a94386815efdef7996e75f",
       "version_major": 2,
       "version_minor": 0
      },
      "text/plain": [
       "경북:   0%|          | 0/12 [00:00<?, ?it/s]"
      ]
     },
     "metadata": {},
     "output_type": "display_data"
    },
    {
     "data": {
      "application/vnd.jupyter.widget-view+json": {
       "model_id": "632736033a844ddcb3dafbf44ab51ce0",
       "version_major": 2,
       "version_minor": 0
      },
      "text/plain": [
       "경북_RNN:   0%|          | 0/72 [00:00<?, ?it/s]"
      ]
     },
     "metadata": {},
     "output_type": "display_data"
    },
    {
     "data": {
      "application/vnd.jupyter.widget-view+json": {
       "model_id": "d9428e920f0c439887b4f7745cfc0a49",
       "version_major": 2,
       "version_minor": 0
      },
      "text/plain": [
       "경북_LSTM:   0%|          | 0/72 [00:00<?, ?it/s]"
      ]
     },
     "metadata": {},
     "output_type": "display_data"
    },
    {
     "data": {
      "application/vnd.jupyter.widget-view+json": {
       "model_id": "2bf04974a6c64bfbb01e871f233f305c",
       "version_major": 2,
       "version_minor": 0
      },
      "text/plain": [
       "경북_GRU:   0%|          | 0/72 [00:00<?, ?it/s]"
      ]
     },
     "metadata": {},
     "output_type": "display_data"
    },
    {
     "data": {
      "application/vnd.jupyter.widget-view+json": {
       "model_id": "ae51a3137e8d4747b811b1d3a29f0928",
       "version_major": 2,
       "version_minor": 0
      },
      "text/plain": [
       "경북_BiRNN:   0%|          | 0/72 [00:00<?, ?it/s]"
      ]
     },
     "metadata": {},
     "output_type": "display_data"
    },
    {
     "data": {
      "application/vnd.jupyter.widget-view+json": {
       "model_id": "33c7c5dfcf804628a2679e28277ec7be",
       "version_major": 2,
       "version_minor": 0
      },
      "text/plain": [
       "경북_BiLSTM:   0%|          | 0/72 [00:00<?, ?it/s]"
      ]
     },
     "metadata": {},
     "output_type": "display_data"
    },
    {
     "data": {
      "application/vnd.jupyter.widget-view+json": {
       "model_id": "2a5882be209945dc80717dbc10b6eab0",
       "version_major": 2,
       "version_minor": 0
      },
      "text/plain": [
       "경북_BiGRU:   0%|          | 0/72 [00:00<?, ?it/s]"
      ]
     },
     "metadata": {},
     "output_type": "display_data"
    },
    {
     "data": {
      "application/vnd.jupyter.widget-view+json": {
       "model_id": "8c4634e5589f4ac29597c1639958aace",
       "version_major": 2,
       "version_minor": 0
      },
      "text/plain": [
       "경북_seq2seq_RNN:   0%|          | 0/72 [00:00<?, ?it/s]"
      ]
     },
     "metadata": {},
     "output_type": "display_data"
    },
    {
     "data": {
      "application/vnd.jupyter.widget-view+json": {
       "model_id": "60b9e8b2e30c48088cec18b7658e4704",
       "version_major": 2,
       "version_minor": 0
      },
      "text/plain": [
       "경북_seq2seq_LSTM:   0%|          | 0/72 [00:00<?, ?it/s]"
      ]
     },
     "metadata": {},
     "output_type": "display_data"
    },
    {
     "data": {
      "application/vnd.jupyter.widget-view+json": {
       "model_id": "d0c6dd7222bf44e8accb62059365fc61",
       "version_major": 2,
       "version_minor": 0
      },
      "text/plain": [
       "경북_seq2seq_GRU:   0%|          | 0/72 [00:00<?, ?it/s]"
      ]
     },
     "metadata": {},
     "output_type": "display_data"
    },
    {
     "data": {
      "application/vnd.jupyter.widget-view+json": {
       "model_id": "a3a96bdde47e42d88153b0aa1b0c28d7",
       "version_major": 2,
       "version_minor": 0
      },
      "text/plain": [
       "경북_seq2seq_BiRNN:   0%|          | 0/72 [00:00<?, ?it/s]"
      ]
     },
     "metadata": {},
     "output_type": "display_data"
    },
    {
     "data": {
      "application/vnd.jupyter.widget-view+json": {
       "model_id": "c9ab68fcc2254928b39e39540555b9cb",
       "version_major": 2,
       "version_minor": 0
      },
      "text/plain": [
       "경북_seq2seq_BiLSTM:   0%|          | 0/72 [00:00<?, ?it/s]"
      ]
     },
     "metadata": {},
     "output_type": "display_data"
    },
    {
     "data": {
      "application/vnd.jupyter.widget-view+json": {
       "model_id": "7af347eb6fd94f73bcb9603fb09d047d",
       "version_major": 2,
       "version_minor": 0
      },
      "text/plain": [
       "경북_seq2seq_BiGRU:   0%|          | 0/72 [00:00<?, ?it/s]"
      ]
     },
     "metadata": {},
     "output_type": "display_data"
    },
    {
     "data": {
      "application/vnd.jupyter.widget-view+json": {
       "model_id": "18e9e48fde5f43769f73f633259fd7b4",
       "version_major": 2,
       "version_minor": 0
      },
      "text/plain": [
       "광주:   0%|          | 0/12 [00:00<?, ?it/s]"
      ]
     },
     "metadata": {},
     "output_type": "display_data"
    },
    {
     "data": {
      "application/vnd.jupyter.widget-view+json": {
       "model_id": "3525ac8dc8924d4db5f9289c665e6226",
       "version_major": 2,
       "version_minor": 0
      },
      "text/plain": [
       "광주_RNN:   0%|          | 0/72 [00:00<?, ?it/s]"
      ]
     },
     "metadata": {},
     "output_type": "display_data"
    },
    {
     "data": {
      "application/vnd.jupyter.widget-view+json": {
       "model_id": "330e3a48298e48d094f074f7e975f4d9",
       "version_major": 2,
       "version_minor": 0
      },
      "text/plain": [
       "광주_LSTM:   0%|          | 0/72 [00:00<?, ?it/s]"
      ]
     },
     "metadata": {},
     "output_type": "display_data"
    },
    {
     "data": {
      "application/vnd.jupyter.widget-view+json": {
       "model_id": "5780f6885b87437abfbed8f207a039f7",
       "version_major": 2,
       "version_minor": 0
      },
      "text/plain": [
       "광주_GRU:   0%|          | 0/72 [00:00<?, ?it/s]"
      ]
     },
     "metadata": {},
     "output_type": "display_data"
    },
    {
     "data": {
      "application/vnd.jupyter.widget-view+json": {
       "model_id": "ade21dcd5b3d44bfb0fc4e0a5897915f",
       "version_major": 2,
       "version_minor": 0
      },
      "text/plain": [
       "광주_BiRNN:   0%|          | 0/72 [00:00<?, ?it/s]"
      ]
     },
     "metadata": {},
     "output_type": "display_data"
    },
    {
     "data": {
      "application/vnd.jupyter.widget-view+json": {
       "model_id": "6e61644688d0418c8226bfd3ef93caa2",
       "version_major": 2,
       "version_minor": 0
      },
      "text/plain": [
       "광주_BiLSTM:   0%|          | 0/72 [00:00<?, ?it/s]"
      ]
     },
     "metadata": {},
     "output_type": "display_data"
    },
    {
     "data": {
      "application/vnd.jupyter.widget-view+json": {
       "model_id": "3664b446c3334ce5a9290663ef63a21f",
       "version_major": 2,
       "version_minor": 0
      },
      "text/plain": [
       "광주_BiGRU:   0%|          | 0/72 [00:00<?, ?it/s]"
      ]
     },
     "metadata": {},
     "output_type": "display_data"
    },
    {
     "data": {
      "application/vnd.jupyter.widget-view+json": {
       "model_id": "d347bc3396f04af5ac968a88a4281faa",
       "version_major": 2,
       "version_minor": 0
      },
      "text/plain": [
       "광주_seq2seq_RNN:   0%|          | 0/72 [00:00<?, ?it/s]"
      ]
     },
     "metadata": {},
     "output_type": "display_data"
    },
    {
     "data": {
      "application/vnd.jupyter.widget-view+json": {
       "model_id": "d7499d9ddf8c4d558c52fd08d7b0b7af",
       "version_major": 2,
       "version_minor": 0
      },
      "text/plain": [
       "광주_seq2seq_LSTM:   0%|          | 0/72 [00:00<?, ?it/s]"
      ]
     },
     "metadata": {},
     "output_type": "display_data"
    },
    {
     "data": {
      "application/vnd.jupyter.widget-view+json": {
       "model_id": "ae5022b5e8354342a1295573ebc6b96d",
       "version_major": 2,
       "version_minor": 0
      },
      "text/plain": [
       "광주_seq2seq_GRU:   0%|          | 0/72 [00:00<?, ?it/s]"
      ]
     },
     "metadata": {},
     "output_type": "display_data"
    },
    {
     "data": {
      "application/vnd.jupyter.widget-view+json": {
       "model_id": "816fd091a9144d1789cde9b8adf45ead",
       "version_major": 2,
       "version_minor": 0
      },
      "text/plain": [
       "광주_seq2seq_BiRNN:   0%|          | 0/72 [00:00<?, ?it/s]"
      ]
     },
     "metadata": {},
     "output_type": "display_data"
    },
    {
     "data": {
      "application/vnd.jupyter.widget-view+json": {
       "model_id": "00728a4533cc4d309cc979f63453df07",
       "version_major": 2,
       "version_minor": 0
      },
      "text/plain": [
       "광주_seq2seq_BiLSTM:   0%|          | 0/72 [00:00<?, ?it/s]"
      ]
     },
     "metadata": {},
     "output_type": "display_data"
    },
    {
     "data": {
      "application/vnd.jupyter.widget-view+json": {
       "model_id": "b7ec26672a8b4467acdf7590341a4c52",
       "version_major": 2,
       "version_minor": 0
      },
      "text/plain": [
       "광주_seq2seq_BiGRU:   0%|          | 0/72 [00:00<?, ?it/s]"
      ]
     },
     "metadata": {},
     "output_type": "display_data"
    },
    {
     "data": {
      "application/vnd.jupyter.widget-view+json": {
       "model_id": "e836deb2d75040c192e475a17ffc26d9",
       "version_major": 2,
       "version_minor": 0
      },
      "text/plain": [
       "대구:   0%|          | 0/12 [00:00<?, ?it/s]"
      ]
     },
     "metadata": {},
     "output_type": "display_data"
    },
    {
     "data": {
      "application/vnd.jupyter.widget-view+json": {
       "model_id": "b733291f40db4c56a82249ca4e8b8526",
       "version_major": 2,
       "version_minor": 0
      },
      "text/plain": [
       "대구_RNN:   0%|          | 0/72 [00:00<?, ?it/s]"
      ]
     },
     "metadata": {},
     "output_type": "display_data"
    },
    {
     "data": {
      "application/vnd.jupyter.widget-view+json": {
       "model_id": "929a304c9998489f8529d12460632ac3",
       "version_major": 2,
       "version_minor": 0
      },
      "text/plain": [
       "대구_LSTM:   0%|          | 0/72 [00:00<?, ?it/s]"
      ]
     },
     "metadata": {},
     "output_type": "display_data"
    },
    {
     "data": {
      "application/vnd.jupyter.widget-view+json": {
       "model_id": "c8395eeb68594c7db2e384b8c2bc46fe",
       "version_major": 2,
       "version_minor": 0
      },
      "text/plain": [
       "대구_GRU:   0%|          | 0/72 [00:00<?, ?it/s]"
      ]
     },
     "metadata": {},
     "output_type": "display_data"
    },
    {
     "data": {
      "application/vnd.jupyter.widget-view+json": {
       "model_id": "50070194acc64fa0b60ed33e477c19b6",
       "version_major": 2,
       "version_minor": 0
      },
      "text/plain": [
       "대구_BiRNN:   0%|          | 0/72 [00:00<?, ?it/s]"
      ]
     },
     "metadata": {},
     "output_type": "display_data"
    },
    {
     "data": {
      "application/vnd.jupyter.widget-view+json": {
       "model_id": "1812ccd5ef354e3d92edf8b9f382fbd3",
       "version_major": 2,
       "version_minor": 0
      },
      "text/plain": [
       "대구_BiLSTM:   0%|          | 0/72 [00:00<?, ?it/s]"
      ]
     },
     "metadata": {},
     "output_type": "display_data"
    },
    {
     "data": {
      "application/vnd.jupyter.widget-view+json": {
       "model_id": "4f26536263a94fc4a1fd255f62e40f4c",
       "version_major": 2,
       "version_minor": 0
      },
      "text/plain": [
       "대구_BiGRU:   0%|          | 0/72 [00:00<?, ?it/s]"
      ]
     },
     "metadata": {},
     "output_type": "display_data"
    },
    {
     "data": {
      "application/vnd.jupyter.widget-view+json": {
       "model_id": "0e2dbad31dc942c282fb96da057db09c",
       "version_major": 2,
       "version_minor": 0
      },
      "text/plain": [
       "대구_seq2seq_RNN:   0%|          | 0/72 [00:00<?, ?it/s]"
      ]
     },
     "metadata": {},
     "output_type": "display_data"
    },
    {
     "data": {
      "application/vnd.jupyter.widget-view+json": {
       "model_id": "47dd689804f44bc6aefb1b6a88a84217",
       "version_major": 2,
       "version_minor": 0
      },
      "text/plain": [
       "대구_seq2seq_LSTM:   0%|          | 0/72 [00:00<?, ?it/s]"
      ]
     },
     "metadata": {},
     "output_type": "display_data"
    },
    {
     "data": {
      "application/vnd.jupyter.widget-view+json": {
       "model_id": "13c86a6bcb2c4c60bf07e9ce6592071f",
       "version_major": 2,
       "version_minor": 0
      },
      "text/plain": [
       "대구_seq2seq_GRU:   0%|          | 0/72 [00:00<?, ?it/s]"
      ]
     },
     "metadata": {},
     "output_type": "display_data"
    },
    {
     "data": {
      "application/vnd.jupyter.widget-view+json": {
       "model_id": "54f3481b5b5e4c558afa8ea382d48a56",
       "version_major": 2,
       "version_minor": 0
      },
      "text/plain": [
       "대구_seq2seq_BiRNN:   0%|          | 0/72 [00:00<?, ?it/s]"
      ]
     },
     "metadata": {},
     "output_type": "display_data"
    },
    {
     "data": {
      "application/vnd.jupyter.widget-view+json": {
       "model_id": "ca34649bebca4e37bdfe77cf2be10cae",
       "version_major": 2,
       "version_minor": 0
      },
      "text/plain": [
       "대구_seq2seq_BiLSTM:   0%|          | 0/72 [00:00<?, ?it/s]"
      ]
     },
     "metadata": {},
     "output_type": "display_data"
    },
    {
     "data": {
      "application/vnd.jupyter.widget-view+json": {
       "model_id": "afdf4f3faf57470884cfbed6c38a1834",
       "version_major": 2,
       "version_minor": 0
      },
      "text/plain": [
       "대구_seq2seq_BiGRU:   0%|          | 0/72 [00:00<?, ?it/s]"
      ]
     },
     "metadata": {},
     "output_type": "display_data"
    },
    {
     "data": {
      "application/vnd.jupyter.widget-view+json": {
       "model_id": "53190b25331e4509a94c02d9074b6822",
       "version_major": 2,
       "version_minor": 0
      },
      "text/plain": [
       "대전:   0%|          | 0/12 [00:00<?, ?it/s]"
      ]
     },
     "metadata": {},
     "output_type": "display_data"
    },
    {
     "data": {
      "application/vnd.jupyter.widget-view+json": {
       "model_id": "86c71e1ff75140eabc3705cfc579a199",
       "version_major": 2,
       "version_minor": 0
      },
      "text/plain": [
       "대전_RNN:   0%|          | 0/72 [00:00<?, ?it/s]"
      ]
     },
     "metadata": {},
     "output_type": "display_data"
    },
    {
     "data": {
      "application/vnd.jupyter.widget-view+json": {
       "model_id": "c1b5b9c846a74b4fa5f0252e680f69b8",
       "version_major": 2,
       "version_minor": 0
      },
      "text/plain": [
       "대전_LSTM:   0%|          | 0/72 [00:00<?, ?it/s]"
      ]
     },
     "metadata": {},
     "output_type": "display_data"
    },
    {
     "data": {
      "application/vnd.jupyter.widget-view+json": {
       "model_id": "dc7eb1a37a824d4ab3b8b37b04b79373",
       "version_major": 2,
       "version_minor": 0
      },
      "text/plain": [
       "대전_GRU:   0%|          | 0/72 [00:00<?, ?it/s]"
      ]
     },
     "metadata": {},
     "output_type": "display_data"
    },
    {
     "data": {
      "application/vnd.jupyter.widget-view+json": {
       "model_id": "0b6d7da0e0e3448da213aa9c68f6d2b4",
       "version_major": 2,
       "version_minor": 0
      },
      "text/plain": [
       "대전_BiRNN:   0%|          | 0/72 [00:00<?, ?it/s]"
      ]
     },
     "metadata": {},
     "output_type": "display_data"
    },
    {
     "data": {
      "application/vnd.jupyter.widget-view+json": {
       "model_id": "e3d737e6886f4da7a2b8c623a3ff2d58",
       "version_major": 2,
       "version_minor": 0
      },
      "text/plain": [
       "대전_BiLSTM:   0%|          | 0/72 [00:00<?, ?it/s]"
      ]
     },
     "metadata": {},
     "output_type": "display_data"
    },
    {
     "data": {
      "application/vnd.jupyter.widget-view+json": {
       "model_id": "6ca0add826114c1a908cb4758d726b86",
       "version_major": 2,
       "version_minor": 0
      },
      "text/plain": [
       "대전_BiGRU:   0%|          | 0/72 [00:00<?, ?it/s]"
      ]
     },
     "metadata": {},
     "output_type": "display_data"
    },
    {
     "data": {
      "application/vnd.jupyter.widget-view+json": {
       "model_id": "e277e3cc32e44cf4a723970f55c5723f",
       "version_major": 2,
       "version_minor": 0
      },
      "text/plain": [
       "대전_seq2seq_RNN:   0%|          | 0/72 [00:00<?, ?it/s]"
      ]
     },
     "metadata": {},
     "output_type": "display_data"
    },
    {
     "data": {
      "application/vnd.jupyter.widget-view+json": {
       "model_id": "bb7b44ff407944579b79b42bb7c530d8",
       "version_major": 2,
       "version_minor": 0
      },
      "text/plain": [
       "대전_seq2seq_LSTM:   0%|          | 0/72 [00:00<?, ?it/s]"
      ]
     },
     "metadata": {},
     "output_type": "display_data"
    },
    {
     "data": {
      "application/vnd.jupyter.widget-view+json": {
       "model_id": "7081c6824009410eb83c0f6ca5a6d518",
       "version_major": 2,
       "version_minor": 0
      },
      "text/plain": [
       "대전_seq2seq_GRU:   0%|          | 0/72 [00:00<?, ?it/s]"
      ]
     },
     "metadata": {},
     "output_type": "display_data"
    },
    {
     "data": {
      "application/vnd.jupyter.widget-view+json": {
       "model_id": "b2677fe74d2345b48e382d0dfcc960c6",
       "version_major": 2,
       "version_minor": 0
      },
      "text/plain": [
       "대전_seq2seq_BiRNN:   0%|          | 0/72 [00:00<?, ?it/s]"
      ]
     },
     "metadata": {},
     "output_type": "display_data"
    },
    {
     "data": {
      "application/vnd.jupyter.widget-view+json": {
       "model_id": "9e581ffd4f144f5293da7cd78c2fe787",
       "version_major": 2,
       "version_minor": 0
      },
      "text/plain": [
       "대전_seq2seq_BiLSTM:   0%|          | 0/72 [00:00<?, ?it/s]"
      ]
     },
     "metadata": {},
     "output_type": "display_data"
    },
    {
     "data": {
      "application/vnd.jupyter.widget-view+json": {
       "model_id": "f2f52f9bc20247bbbcaa765bf977e027",
       "version_major": 2,
       "version_minor": 0
      },
      "text/plain": [
       "대전_seq2seq_BiGRU:   0%|          | 0/72 [00:00<?, ?it/s]"
      ]
     },
     "metadata": {},
     "output_type": "display_data"
    },
    {
     "data": {
      "application/vnd.jupyter.widget-view+json": {
       "model_id": "bb33f8a7470145278eddedcd9bf28bef",
       "version_major": 2,
       "version_minor": 0
      },
      "text/plain": [
       "부산:   0%|          | 0/12 [00:00<?, ?it/s]"
      ]
     },
     "metadata": {},
     "output_type": "display_data"
    },
    {
     "data": {
      "application/vnd.jupyter.widget-view+json": {
       "model_id": "914234cad8204b7d8293df5594ebc45d",
       "version_major": 2,
       "version_minor": 0
      },
      "text/plain": [
       "부산_RNN:   0%|          | 0/72 [00:00<?, ?it/s]"
      ]
     },
     "metadata": {},
     "output_type": "display_data"
    },
    {
     "data": {
      "application/vnd.jupyter.widget-view+json": {
       "model_id": "1765c2af8f824037b667ad1ad25a251e",
       "version_major": 2,
       "version_minor": 0
      },
      "text/plain": [
       "부산_LSTM:   0%|          | 0/72 [00:00<?, ?it/s]"
      ]
     },
     "metadata": {},
     "output_type": "display_data"
    },
    {
     "data": {
      "application/vnd.jupyter.widget-view+json": {
       "model_id": "576fb24445f648b3874233e72c6fb352",
       "version_major": 2,
       "version_minor": 0
      },
      "text/plain": [
       "부산_GRU:   0%|          | 0/72 [00:00<?, ?it/s]"
      ]
     },
     "metadata": {},
     "output_type": "display_data"
    },
    {
     "data": {
      "application/vnd.jupyter.widget-view+json": {
       "model_id": "9cf97a2a3a7a42ddba265ecaf5fe1ec8",
       "version_major": 2,
       "version_minor": 0
      },
      "text/plain": [
       "부산_BiRNN:   0%|          | 0/72 [00:00<?, ?it/s]"
      ]
     },
     "metadata": {},
     "output_type": "display_data"
    },
    {
     "data": {
      "application/vnd.jupyter.widget-view+json": {
       "model_id": "df66ee40e18a421880ffd77d49025197",
       "version_major": 2,
       "version_minor": 0
      },
      "text/plain": [
       "부산_BiLSTM:   0%|          | 0/72 [00:00<?, ?it/s]"
      ]
     },
     "metadata": {},
     "output_type": "display_data"
    },
    {
     "data": {
      "application/vnd.jupyter.widget-view+json": {
       "model_id": "5471a1ce03a24a7ba83552bb6df5631e",
       "version_major": 2,
       "version_minor": 0
      },
      "text/plain": [
       "부산_BiGRU:   0%|          | 0/72 [00:00<?, ?it/s]"
      ]
     },
     "metadata": {},
     "output_type": "display_data"
    },
    {
     "data": {
      "application/vnd.jupyter.widget-view+json": {
       "model_id": "76abab5807404f0ba484b68227656da8",
       "version_major": 2,
       "version_minor": 0
      },
      "text/plain": [
       "부산_seq2seq_RNN:   0%|          | 0/72 [00:00<?, ?it/s]"
      ]
     },
     "metadata": {},
     "output_type": "display_data"
    },
    {
     "data": {
      "application/vnd.jupyter.widget-view+json": {
       "model_id": "49041756fabf4d7eb09ec8848be2a858",
       "version_major": 2,
       "version_minor": 0
      },
      "text/plain": [
       "부산_seq2seq_LSTM:   0%|          | 0/72 [00:00<?, ?it/s]"
      ]
     },
     "metadata": {},
     "output_type": "display_data"
    },
    {
     "data": {
      "application/vnd.jupyter.widget-view+json": {
       "model_id": "1ea79923c17d42809c03e636fb21d83a",
       "version_major": 2,
       "version_minor": 0
      },
      "text/plain": [
       "부산_seq2seq_GRU:   0%|          | 0/72 [00:00<?, ?it/s]"
      ]
     },
     "metadata": {},
     "output_type": "display_data"
    },
    {
     "data": {
      "application/vnd.jupyter.widget-view+json": {
       "model_id": "1e0a4239e8d7479288742b6f8f8908f8",
       "version_major": 2,
       "version_minor": 0
      },
      "text/plain": [
       "부산_seq2seq_BiRNN:   0%|          | 0/72 [00:00<?, ?it/s]"
      ]
     },
     "metadata": {},
     "output_type": "display_data"
    },
    {
     "data": {
      "application/vnd.jupyter.widget-view+json": {
       "model_id": "e323618461b748989f3d7970b205bd7d",
       "version_major": 2,
       "version_minor": 0
      },
      "text/plain": [
       "부산_seq2seq_BiLSTM:   0%|          | 0/72 [00:00<?, ?it/s]"
      ]
     },
     "metadata": {},
     "output_type": "display_data"
    },
    {
     "data": {
      "application/vnd.jupyter.widget-view+json": {
       "model_id": "c4838c38ffdc414d8aae836c24b8479d",
       "version_major": 2,
       "version_minor": 0
      },
      "text/plain": [
       "부산_seq2seq_BiGRU:   0%|          | 0/72 [00:00<?, ?it/s]"
      ]
     },
     "metadata": {},
     "output_type": "display_data"
    },
    {
     "data": {
      "application/vnd.jupyter.widget-view+json": {
       "model_id": "3e0c8d6c6ed34bc685a550012f12fdc7",
       "version_major": 2,
       "version_minor": 0
      },
      "text/plain": [
       "서울:   0%|          | 0/12 [00:00<?, ?it/s]"
      ]
     },
     "metadata": {},
     "output_type": "display_data"
    },
    {
     "data": {
      "application/vnd.jupyter.widget-view+json": {
       "model_id": "eda8ba22976b4f38a5903c422c7737b4",
       "version_major": 2,
       "version_minor": 0
      },
      "text/plain": [
       "서울_RNN:   0%|          | 0/72 [00:00<?, ?it/s]"
      ]
     },
     "metadata": {},
     "output_type": "display_data"
    },
    {
     "data": {
      "application/vnd.jupyter.widget-view+json": {
       "model_id": "b6117bb89bf9406ca4506e03c8e8d616",
       "version_major": 2,
       "version_minor": 0
      },
      "text/plain": [
       "서울_LSTM:   0%|          | 0/72 [00:00<?, ?it/s]"
      ]
     },
     "metadata": {},
     "output_type": "display_data"
    },
    {
     "data": {
      "application/vnd.jupyter.widget-view+json": {
       "model_id": "6131ba30a5d8450fa17c4d435ed55d52",
       "version_major": 2,
       "version_minor": 0
      },
      "text/plain": [
       "서울_GRU:   0%|          | 0/72 [00:00<?, ?it/s]"
      ]
     },
     "metadata": {},
     "output_type": "display_data"
    },
    {
     "data": {
      "application/vnd.jupyter.widget-view+json": {
       "model_id": "60e1683b6db649fcb98018bc1b7c23e6",
       "version_major": 2,
       "version_minor": 0
      },
      "text/plain": [
       "서울_BiRNN:   0%|          | 0/72 [00:00<?, ?it/s]"
      ]
     },
     "metadata": {},
     "output_type": "display_data"
    },
    {
     "data": {
      "application/vnd.jupyter.widget-view+json": {
       "model_id": "2a6820ec9d1043b6a30fe5386e668807",
       "version_major": 2,
       "version_minor": 0
      },
      "text/plain": [
       "서울_BiLSTM:   0%|          | 0/72 [00:00<?, ?it/s]"
      ]
     },
     "metadata": {},
     "output_type": "display_data"
    },
    {
     "data": {
      "application/vnd.jupyter.widget-view+json": {
       "model_id": "ff67e6c04f5e4cfc8a21871ea23090f3",
       "version_major": 2,
       "version_minor": 0
      },
      "text/plain": [
       "서울_BiGRU:   0%|          | 0/72 [00:00<?, ?it/s]"
      ]
     },
     "metadata": {},
     "output_type": "display_data"
    },
    {
     "data": {
      "application/vnd.jupyter.widget-view+json": {
       "model_id": "24467e7760e845b3b91ee5931776c23b",
       "version_major": 2,
       "version_minor": 0
      },
      "text/plain": [
       "서울_seq2seq_RNN:   0%|          | 0/72 [00:00<?, ?it/s]"
      ]
     },
     "metadata": {},
     "output_type": "display_data"
    },
    {
     "data": {
      "application/vnd.jupyter.widget-view+json": {
       "model_id": "7ff754caf7994cfead84d20df099b8af",
       "version_major": 2,
       "version_minor": 0
      },
      "text/plain": [
       "서울_seq2seq_LSTM:   0%|          | 0/72 [00:00<?, ?it/s]"
      ]
     },
     "metadata": {},
     "output_type": "display_data"
    },
    {
     "data": {
      "application/vnd.jupyter.widget-view+json": {
       "model_id": "01a24a5d4c6c48338b0dd545612ede1d",
       "version_major": 2,
       "version_minor": 0
      },
      "text/plain": [
       "서울_seq2seq_GRU:   0%|          | 0/72 [00:00<?, ?it/s]"
      ]
     },
     "metadata": {},
     "output_type": "display_data"
    },
    {
     "data": {
      "application/vnd.jupyter.widget-view+json": {
       "model_id": "8b945d5568c041f69782efb58faedd39",
       "version_major": 2,
       "version_minor": 0
      },
      "text/plain": [
       "서울_seq2seq_BiRNN:   0%|          | 0/72 [00:00<?, ?it/s]"
      ]
     },
     "metadata": {},
     "output_type": "display_data"
    },
    {
     "data": {
      "application/vnd.jupyter.widget-view+json": {
       "model_id": "ae818557d80a4da59f7c8b9be6a6a844",
       "version_major": 2,
       "version_minor": 0
      },
      "text/plain": [
       "서울_seq2seq_BiLSTM:   0%|          | 0/72 [00:00<?, ?it/s]"
      ]
     },
     "metadata": {},
     "output_type": "display_data"
    },
    {
     "data": {
      "application/vnd.jupyter.widget-view+json": {
       "model_id": "cdd5f790644149ebb7eab1ab2fc2cf51",
       "version_major": 2,
       "version_minor": 0
      },
      "text/plain": [
       "서울_seq2seq_BiGRU:   0%|          | 0/72 [00:00<?, ?it/s]"
      ]
     },
     "metadata": {},
     "output_type": "display_data"
    },
    {
     "data": {
      "application/vnd.jupyter.widget-view+json": {
       "model_id": "a27f0e5718664228ba287daa26ec179d",
       "version_major": 2,
       "version_minor": 0
      },
      "text/plain": [
       "세종:   0%|          | 0/12 [00:00<?, ?it/s]"
      ]
     },
     "metadata": {},
     "output_type": "display_data"
    },
    {
     "data": {
      "application/vnd.jupyter.widget-view+json": {
       "model_id": "a636be1bd54849548feca181ff5f2cec",
       "version_major": 2,
       "version_minor": 0
      },
      "text/plain": [
       "세종_RNN:   0%|          | 0/72 [00:00<?, ?it/s]"
      ]
     },
     "metadata": {},
     "output_type": "display_data"
    },
    {
     "data": {
      "application/vnd.jupyter.widget-view+json": {
       "model_id": "8dd9effc25c5443b9f7052403ca20f51",
       "version_major": 2,
       "version_minor": 0
      },
      "text/plain": [
       "세종_LSTM:   0%|          | 0/72 [00:00<?, ?it/s]"
      ]
     },
     "metadata": {},
     "output_type": "display_data"
    },
    {
     "data": {
      "application/vnd.jupyter.widget-view+json": {
       "model_id": "b257b6cf736e40ff9f7fd83f139568f4",
       "version_major": 2,
       "version_minor": 0
      },
      "text/plain": [
       "세종_GRU:   0%|          | 0/72 [00:00<?, ?it/s]"
      ]
     },
     "metadata": {},
     "output_type": "display_data"
    },
    {
     "data": {
      "application/vnd.jupyter.widget-view+json": {
       "model_id": "80892e3cd130401e95aa844b4889a660",
       "version_major": 2,
       "version_minor": 0
      },
      "text/plain": [
       "세종_BiRNN:   0%|          | 0/72 [00:00<?, ?it/s]"
      ]
     },
     "metadata": {},
     "output_type": "display_data"
    },
    {
     "data": {
      "application/vnd.jupyter.widget-view+json": {
       "model_id": "9ce572388c224417abb6236b9d89156a",
       "version_major": 2,
       "version_minor": 0
      },
      "text/plain": [
       "세종_BiLSTM:   0%|          | 0/72 [00:00<?, ?it/s]"
      ]
     },
     "metadata": {},
     "output_type": "display_data"
    },
    {
     "data": {
      "application/vnd.jupyter.widget-view+json": {
       "model_id": "24a2a5526f0f4de6b6cb839e9e171151",
       "version_major": 2,
       "version_minor": 0
      },
      "text/plain": [
       "세종_BiGRU:   0%|          | 0/72 [00:00<?, ?it/s]"
      ]
     },
     "metadata": {},
     "output_type": "display_data"
    },
    {
     "data": {
      "application/vnd.jupyter.widget-view+json": {
       "model_id": "17de19af997843abac3a71c7cee7e5f2",
       "version_major": 2,
       "version_minor": 0
      },
      "text/plain": [
       "세종_seq2seq_RNN:   0%|          | 0/72 [00:00<?, ?it/s]"
      ]
     },
     "metadata": {},
     "output_type": "display_data"
    },
    {
     "data": {
      "application/vnd.jupyter.widget-view+json": {
       "model_id": "bd387b750c484e728d8cf7eb411c5d0a",
       "version_major": 2,
       "version_minor": 0
      },
      "text/plain": [
       "세종_seq2seq_LSTM:   0%|          | 0/72 [00:00<?, ?it/s]"
      ]
     },
     "metadata": {},
     "output_type": "display_data"
    },
    {
     "data": {
      "application/vnd.jupyter.widget-view+json": {
       "model_id": "79cec39eac594b738316c883e191b6cb",
       "version_major": 2,
       "version_minor": 0
      },
      "text/plain": [
       "세종_seq2seq_GRU:   0%|          | 0/72 [00:00<?, ?it/s]"
      ]
     },
     "metadata": {},
     "output_type": "display_data"
    },
    {
     "data": {
      "application/vnd.jupyter.widget-view+json": {
       "model_id": "aac9687f5a784f03972bf02d745b36d5",
       "version_major": 2,
       "version_minor": 0
      },
      "text/plain": [
       "세종_seq2seq_BiRNN:   0%|          | 0/72 [00:00<?, ?it/s]"
      ]
     },
     "metadata": {},
     "output_type": "display_data"
    },
    {
     "data": {
      "application/vnd.jupyter.widget-view+json": {
       "model_id": "bfb2af33e8fc4be49a64135f77c597a6",
       "version_major": 2,
       "version_minor": 0
      },
      "text/plain": [
       "세종_seq2seq_BiLSTM:   0%|          | 0/72 [00:00<?, ?it/s]"
      ]
     },
     "metadata": {},
     "output_type": "display_data"
    },
    {
     "data": {
      "application/vnd.jupyter.widget-view+json": {
       "model_id": "acc58d35898642e48e9e1ac49c309c40",
       "version_major": 2,
       "version_minor": 0
      },
      "text/plain": [
       "세종_seq2seq_BiGRU:   0%|          | 0/72 [00:00<?, ?it/s]"
      ]
     },
     "metadata": {},
     "output_type": "display_data"
    },
    {
     "data": {
      "application/vnd.jupyter.widget-view+json": {
       "model_id": "422384ea1dba4214b5c7db08796d168a",
       "version_major": 2,
       "version_minor": 0
      },
      "text/plain": [
       "울산:   0%|          | 0/12 [00:00<?, ?it/s]"
      ]
     },
     "metadata": {},
     "output_type": "display_data"
    },
    {
     "data": {
      "application/vnd.jupyter.widget-view+json": {
       "model_id": "0629073f38584b12ba93c4cf74fbe947",
       "version_major": 2,
       "version_minor": 0
      },
      "text/plain": [
       "울산_RNN:   0%|          | 0/72 [00:00<?, ?it/s]"
      ]
     },
     "metadata": {},
     "output_type": "display_data"
    },
    {
     "data": {
      "application/vnd.jupyter.widget-view+json": {
       "model_id": "bb5b090a445c47e981ebee192d9428e2",
       "version_major": 2,
       "version_minor": 0
      },
      "text/plain": [
       "울산_LSTM:   0%|          | 0/72 [00:00<?, ?it/s]"
      ]
     },
     "metadata": {},
     "output_type": "display_data"
    },
    {
     "data": {
      "application/vnd.jupyter.widget-view+json": {
       "model_id": "4667c4bd9b2641bb88f9661533927940",
       "version_major": 2,
       "version_minor": 0
      },
      "text/plain": [
       "울산_GRU:   0%|          | 0/72 [00:00<?, ?it/s]"
      ]
     },
     "metadata": {},
     "output_type": "display_data"
    },
    {
     "data": {
      "application/vnd.jupyter.widget-view+json": {
       "model_id": "45f28f1a7f664d2e8484864ce91d2cd1",
       "version_major": 2,
       "version_minor": 0
      },
      "text/plain": [
       "울산_BiRNN:   0%|          | 0/72 [00:00<?, ?it/s]"
      ]
     },
     "metadata": {},
     "output_type": "display_data"
    },
    {
     "data": {
      "application/vnd.jupyter.widget-view+json": {
       "model_id": "2d3d24c9d6914a2e95fe574db34ef28d",
       "version_major": 2,
       "version_minor": 0
      },
      "text/plain": [
       "울산_BiLSTM:   0%|          | 0/72 [00:00<?, ?it/s]"
      ]
     },
     "metadata": {},
     "output_type": "display_data"
    },
    {
     "data": {
      "application/vnd.jupyter.widget-view+json": {
       "model_id": "3036237e24a14b1c8225f4a351e68799",
       "version_major": 2,
       "version_minor": 0
      },
      "text/plain": [
       "울산_BiGRU:   0%|          | 0/72 [00:00<?, ?it/s]"
      ]
     },
     "metadata": {},
     "output_type": "display_data"
    },
    {
     "data": {
      "application/vnd.jupyter.widget-view+json": {
       "model_id": "01bcbd42b0ac497ea96020bbfd65188b",
       "version_major": 2,
       "version_minor": 0
      },
      "text/plain": [
       "울산_seq2seq_RNN:   0%|          | 0/72 [00:00<?, ?it/s]"
      ]
     },
     "metadata": {},
     "output_type": "display_data"
    },
    {
     "data": {
      "application/vnd.jupyter.widget-view+json": {
       "model_id": "1d17fb1b1c7641a58a998952cef72f60",
       "version_major": 2,
       "version_minor": 0
      },
      "text/plain": [
       "울산_seq2seq_LSTM:   0%|          | 0/72 [00:00<?, ?it/s]"
      ]
     },
     "metadata": {},
     "output_type": "display_data"
    },
    {
     "data": {
      "application/vnd.jupyter.widget-view+json": {
       "model_id": "650df32720004f3e8d49f5741a666948",
       "version_major": 2,
       "version_minor": 0
      },
      "text/plain": [
       "울산_seq2seq_GRU:   0%|          | 0/72 [00:00<?, ?it/s]"
      ]
     },
     "metadata": {},
     "output_type": "display_data"
    },
    {
     "data": {
      "application/vnd.jupyter.widget-view+json": {
       "model_id": "8fc76a6a40114945aaf0d9f4a7d94cef",
       "version_major": 2,
       "version_minor": 0
      },
      "text/plain": [
       "울산_seq2seq_BiRNN:   0%|          | 0/72 [00:00<?, ?it/s]"
      ]
     },
     "metadata": {},
     "output_type": "display_data"
    },
    {
     "data": {
      "application/vnd.jupyter.widget-view+json": {
       "model_id": "b9e2557c856e445fb1d101941691af0b",
       "version_major": 2,
       "version_minor": 0
      },
      "text/plain": [
       "울산_seq2seq_BiLSTM:   0%|          | 0/72 [00:00<?, ?it/s]"
      ]
     },
     "metadata": {},
     "output_type": "display_data"
    },
    {
     "data": {
      "application/vnd.jupyter.widget-view+json": {
       "model_id": "654ee5255b9d458ba1cbd3366f685efb",
       "version_major": 2,
       "version_minor": 0
      },
      "text/plain": [
       "울산_seq2seq_BiGRU:   0%|          | 0/72 [00:00<?, ?it/s]"
      ]
     },
     "metadata": {},
     "output_type": "display_data"
    },
    {
     "data": {
      "application/vnd.jupyter.widget-view+json": {
       "model_id": "5813c3e76bd240d190bca091938b3a24",
       "version_major": 2,
       "version_minor": 0
      },
      "text/plain": [
       "인천:   0%|          | 0/12 [00:00<?, ?it/s]"
      ]
     },
     "metadata": {},
     "output_type": "display_data"
    },
    {
     "data": {
      "application/vnd.jupyter.widget-view+json": {
       "model_id": "f12ae65663c3400a92f7f77d6312267f",
       "version_major": 2,
       "version_minor": 0
      },
      "text/plain": [
       "인천_RNN:   0%|          | 0/72 [00:00<?, ?it/s]"
      ]
     },
     "metadata": {},
     "output_type": "display_data"
    },
    {
     "data": {
      "application/vnd.jupyter.widget-view+json": {
       "model_id": "8349f4a94160494aa92b35cd5a1e5a69",
       "version_major": 2,
       "version_minor": 0
      },
      "text/plain": [
       "인천_LSTM:   0%|          | 0/72 [00:00<?, ?it/s]"
      ]
     },
     "metadata": {},
     "output_type": "display_data"
    },
    {
     "data": {
      "application/vnd.jupyter.widget-view+json": {
       "model_id": "19a4beff14d549a390612fe07a4a21ff",
       "version_major": 2,
       "version_minor": 0
      },
      "text/plain": [
       "인천_GRU:   0%|          | 0/72 [00:00<?, ?it/s]"
      ]
     },
     "metadata": {},
     "output_type": "display_data"
    },
    {
     "data": {
      "application/vnd.jupyter.widget-view+json": {
       "model_id": "1102dd9ecfe54cafa17df52347954c09",
       "version_major": 2,
       "version_minor": 0
      },
      "text/plain": [
       "인천_BiRNN:   0%|          | 0/72 [00:00<?, ?it/s]"
      ]
     },
     "metadata": {},
     "output_type": "display_data"
    },
    {
     "data": {
      "application/vnd.jupyter.widget-view+json": {
       "model_id": "717d68f08a4c4c459120780b1a1458ba",
       "version_major": 2,
       "version_minor": 0
      },
      "text/plain": [
       "인천_BiLSTM:   0%|          | 0/72 [00:00<?, ?it/s]"
      ]
     },
     "metadata": {},
     "output_type": "display_data"
    },
    {
     "data": {
      "application/vnd.jupyter.widget-view+json": {
       "model_id": "eb784bb0d6b8424e8331dc5088b4a5a6",
       "version_major": 2,
       "version_minor": 0
      },
      "text/plain": [
       "인천_BiGRU:   0%|          | 0/72 [00:00<?, ?it/s]"
      ]
     },
     "metadata": {},
     "output_type": "display_data"
    },
    {
     "data": {
      "application/vnd.jupyter.widget-view+json": {
       "model_id": "e7f4ca39d8e946f8934d3195cd08caa2",
       "version_major": 2,
       "version_minor": 0
      },
      "text/plain": [
       "인천_seq2seq_RNN:   0%|          | 0/72 [00:00<?, ?it/s]"
      ]
     },
     "metadata": {},
     "output_type": "display_data"
    },
    {
     "data": {
      "application/vnd.jupyter.widget-view+json": {
       "model_id": "a87acb991887464dbd49077863268b6f",
       "version_major": 2,
       "version_minor": 0
      },
      "text/plain": [
       "인천_seq2seq_LSTM:   0%|          | 0/72 [00:00<?, ?it/s]"
      ]
     },
     "metadata": {},
     "output_type": "display_data"
    },
    {
     "data": {
      "application/vnd.jupyter.widget-view+json": {
       "model_id": "d90b35ca06784ab29579ae2d18bff4f7",
       "version_major": 2,
       "version_minor": 0
      },
      "text/plain": [
       "인천_seq2seq_GRU:   0%|          | 0/72 [00:00<?, ?it/s]"
      ]
     },
     "metadata": {},
     "output_type": "display_data"
    },
    {
     "data": {
      "application/vnd.jupyter.widget-view+json": {
       "model_id": "e6012e16a6e44803bcab1bf463e46824",
       "version_major": 2,
       "version_minor": 0
      },
      "text/plain": [
       "인천_seq2seq_BiRNN:   0%|          | 0/72 [00:00<?, ?it/s]"
      ]
     },
     "metadata": {},
     "output_type": "display_data"
    },
    {
     "data": {
      "application/vnd.jupyter.widget-view+json": {
       "model_id": "764568e58607479993581378e580e38c",
       "version_major": 2,
       "version_minor": 0
      },
      "text/plain": [
       "인천_seq2seq_BiLSTM:   0%|          | 0/72 [00:00<?, ?it/s]"
      ]
     },
     "metadata": {},
     "output_type": "display_data"
    },
    {
     "data": {
      "application/vnd.jupyter.widget-view+json": {
       "model_id": "b21420e89c6b480e9568bcbd2065561e",
       "version_major": 2,
       "version_minor": 0
      },
      "text/plain": [
       "인천_seq2seq_BiGRU:   0%|          | 0/72 [00:00<?, ?it/s]"
      ]
     },
     "metadata": {},
     "output_type": "display_data"
    },
    {
     "data": {
      "application/vnd.jupyter.widget-view+json": {
       "model_id": "ad8598681c564aab8dc3a73f3ced44e1",
       "version_major": 2,
       "version_minor": 0
      },
      "text/plain": [
       "전남:   0%|          | 0/12 [00:00<?, ?it/s]"
      ]
     },
     "metadata": {},
     "output_type": "display_data"
    },
    {
     "data": {
      "application/vnd.jupyter.widget-view+json": {
       "model_id": "cbfd078c797c403b85e6b70a2ed9e0ce",
       "version_major": 2,
       "version_minor": 0
      },
      "text/plain": [
       "전남_RNN:   0%|          | 0/72 [00:00<?, ?it/s]"
      ]
     },
     "metadata": {},
     "output_type": "display_data"
    },
    {
     "data": {
      "application/vnd.jupyter.widget-view+json": {
       "model_id": "889aec8b32f54af9aad311555d1abde3",
       "version_major": 2,
       "version_minor": 0
      },
      "text/plain": [
       "전남_LSTM:   0%|          | 0/72 [00:00<?, ?it/s]"
      ]
     },
     "metadata": {},
     "output_type": "display_data"
    },
    {
     "data": {
      "application/vnd.jupyter.widget-view+json": {
       "model_id": "16c9663b17e34200ba4c83c62b7e115e",
       "version_major": 2,
       "version_minor": 0
      },
      "text/plain": [
       "전남_GRU:   0%|          | 0/72 [00:00<?, ?it/s]"
      ]
     },
     "metadata": {},
     "output_type": "display_data"
    },
    {
     "data": {
      "application/vnd.jupyter.widget-view+json": {
       "model_id": "4748fd78a9b24856a36770f6390dc909",
       "version_major": 2,
       "version_minor": 0
      },
      "text/plain": [
       "전남_BiRNN:   0%|          | 0/72 [00:00<?, ?it/s]"
      ]
     },
     "metadata": {},
     "output_type": "display_data"
    },
    {
     "data": {
      "application/vnd.jupyter.widget-view+json": {
       "model_id": "3d7e617ff6d349b6851aebd7cbb5502a",
       "version_major": 2,
       "version_minor": 0
      },
      "text/plain": [
       "전남_BiLSTM:   0%|          | 0/72 [00:00<?, ?it/s]"
      ]
     },
     "metadata": {},
     "output_type": "display_data"
    },
    {
     "data": {
      "application/vnd.jupyter.widget-view+json": {
       "model_id": "3ceba98d4bdb4aaaa6b2d32b0b06c68d",
       "version_major": 2,
       "version_minor": 0
      },
      "text/plain": [
       "전남_BiGRU:   0%|          | 0/72 [00:00<?, ?it/s]"
      ]
     },
     "metadata": {},
     "output_type": "display_data"
    },
    {
     "data": {
      "application/vnd.jupyter.widget-view+json": {
       "model_id": "45225e7f645c4476838a390f9c73264c",
       "version_major": 2,
       "version_minor": 0
      },
      "text/plain": [
       "전남_seq2seq_RNN:   0%|          | 0/72 [00:00<?, ?it/s]"
      ]
     },
     "metadata": {},
     "output_type": "display_data"
    },
    {
     "data": {
      "application/vnd.jupyter.widget-view+json": {
       "model_id": "8450d7bd97e5423aae19415fe950dd17",
       "version_major": 2,
       "version_minor": 0
      },
      "text/plain": [
       "전남_seq2seq_LSTM:   0%|          | 0/72 [00:00<?, ?it/s]"
      ]
     },
     "metadata": {},
     "output_type": "display_data"
    },
    {
     "data": {
      "application/vnd.jupyter.widget-view+json": {
       "model_id": "585cc5c51e424430b80d3d44a4437819",
       "version_major": 2,
       "version_minor": 0
      },
      "text/plain": [
       "전남_seq2seq_GRU:   0%|          | 0/72 [00:00<?, ?it/s]"
      ]
     },
     "metadata": {},
     "output_type": "display_data"
    },
    {
     "data": {
      "application/vnd.jupyter.widget-view+json": {
       "model_id": "92a3787809874ee18e2b2049f65ddf81",
       "version_major": 2,
       "version_minor": 0
      },
      "text/plain": [
       "전남_seq2seq_BiRNN:   0%|          | 0/72 [00:00<?, ?it/s]"
      ]
     },
     "metadata": {},
     "output_type": "display_data"
    },
    {
     "data": {
      "application/vnd.jupyter.widget-view+json": {
       "model_id": "9282dbae62b64e628c989b3a842239d8",
       "version_major": 2,
       "version_minor": 0
      },
      "text/plain": [
       "전남_seq2seq_BiLSTM:   0%|          | 0/72 [00:00<?, ?it/s]"
      ]
     },
     "metadata": {},
     "output_type": "display_data"
    },
    {
     "data": {
      "application/vnd.jupyter.widget-view+json": {
       "model_id": "d66f5be54d00412287c985aa44a416c7",
       "version_major": 2,
       "version_minor": 0
      },
      "text/plain": [
       "전남_seq2seq_BiGRU:   0%|          | 0/72 [00:00<?, ?it/s]"
      ]
     },
     "metadata": {},
     "output_type": "display_data"
    },
    {
     "data": {
      "application/vnd.jupyter.widget-view+json": {
       "model_id": "b0f2331c69fa4a48be753a63cd275cd4",
       "version_major": 2,
       "version_minor": 0
      },
      "text/plain": [
       "전북:   0%|          | 0/12 [00:00<?, ?it/s]"
      ]
     },
     "metadata": {},
     "output_type": "display_data"
    },
    {
     "data": {
      "application/vnd.jupyter.widget-view+json": {
       "model_id": "d7d54eb434fc473da2dacd2569904876",
       "version_major": 2,
       "version_minor": 0
      },
      "text/plain": [
       "전북_RNN:   0%|          | 0/72 [00:00<?, ?it/s]"
      ]
     },
     "metadata": {},
     "output_type": "display_data"
    },
    {
     "data": {
      "application/vnd.jupyter.widget-view+json": {
       "model_id": "89d07aed1b84452fb0bbf1e541c93038",
       "version_major": 2,
       "version_minor": 0
      },
      "text/plain": [
       "전북_LSTM:   0%|          | 0/72 [00:00<?, ?it/s]"
      ]
     },
     "metadata": {},
     "output_type": "display_data"
    },
    {
     "data": {
      "application/vnd.jupyter.widget-view+json": {
       "model_id": "4e7c774cd8b0401299d8c029c31c4951",
       "version_major": 2,
       "version_minor": 0
      },
      "text/plain": [
       "전북_GRU:   0%|          | 0/72 [00:00<?, ?it/s]"
      ]
     },
     "metadata": {},
     "output_type": "display_data"
    },
    {
     "data": {
      "application/vnd.jupyter.widget-view+json": {
       "model_id": "9bf7a92e3fe74598be2eaeda41dfe88f",
       "version_major": 2,
       "version_minor": 0
      },
      "text/plain": [
       "전북_BiRNN:   0%|          | 0/72 [00:00<?, ?it/s]"
      ]
     },
     "metadata": {},
     "output_type": "display_data"
    },
    {
     "data": {
      "application/vnd.jupyter.widget-view+json": {
       "model_id": "790dbffd24cb4a6ca5f67f518ac86925",
       "version_major": 2,
       "version_minor": 0
      },
      "text/plain": [
       "전북_BiLSTM:   0%|          | 0/72 [00:00<?, ?it/s]"
      ]
     },
     "metadata": {},
     "output_type": "display_data"
    },
    {
     "data": {
      "application/vnd.jupyter.widget-view+json": {
       "model_id": "1bc231f3cc1649739914fcd4de0ca247",
       "version_major": 2,
       "version_minor": 0
      },
      "text/plain": [
       "전북_BiGRU:   0%|          | 0/72 [00:00<?, ?it/s]"
      ]
     },
     "metadata": {},
     "output_type": "display_data"
    },
    {
     "data": {
      "application/vnd.jupyter.widget-view+json": {
       "model_id": "62242ed69983454091da3813fbb07eb0",
       "version_major": 2,
       "version_minor": 0
      },
      "text/plain": [
       "전북_seq2seq_RNN:   0%|          | 0/72 [00:00<?, ?it/s]"
      ]
     },
     "metadata": {},
     "output_type": "display_data"
    },
    {
     "data": {
      "application/vnd.jupyter.widget-view+json": {
       "model_id": "80f372d940234ad5b4bb7c41676cd07a",
       "version_major": 2,
       "version_minor": 0
      },
      "text/plain": [
       "전북_seq2seq_LSTM:   0%|          | 0/72 [00:00<?, ?it/s]"
      ]
     },
     "metadata": {},
     "output_type": "display_data"
    },
    {
     "data": {
      "application/vnd.jupyter.widget-view+json": {
       "model_id": "e99e2e833a3f4a7da3c92953a6e257ff",
       "version_major": 2,
       "version_minor": 0
      },
      "text/plain": [
       "전북_seq2seq_GRU:   0%|          | 0/72 [00:00<?, ?it/s]"
      ]
     },
     "metadata": {},
     "output_type": "display_data"
    },
    {
     "data": {
      "application/vnd.jupyter.widget-view+json": {
       "model_id": "ee69ce6827f2415eb2434117cf1a13f2",
       "version_major": 2,
       "version_minor": 0
      },
      "text/plain": [
       "전북_seq2seq_BiRNN:   0%|          | 0/72 [00:00<?, ?it/s]"
      ]
     },
     "metadata": {},
     "output_type": "display_data"
    },
    {
     "data": {
      "application/vnd.jupyter.widget-view+json": {
       "model_id": "d6ddf13e2e444924899ed05905f46654",
       "version_major": 2,
       "version_minor": 0
      },
      "text/plain": [
       "전북_seq2seq_BiLSTM:   0%|          | 0/72 [00:00<?, ?it/s]"
      ]
     },
     "metadata": {},
     "output_type": "display_data"
    },
    {
     "data": {
      "application/vnd.jupyter.widget-view+json": {
       "model_id": "8f4bf1c9073242e8949fa01738958796",
       "version_major": 2,
       "version_minor": 0
      },
      "text/plain": [
       "전북_seq2seq_BiGRU:   0%|          | 0/72 [00:00<?, ?it/s]"
      ]
     },
     "metadata": {},
     "output_type": "display_data"
    },
    {
     "data": {
      "application/vnd.jupyter.widget-view+json": {
       "model_id": "47d2ac6a378040e49d61310800339d3a",
       "version_major": 2,
       "version_minor": 0
      },
      "text/plain": [
       "제주:   0%|          | 0/12 [00:00<?, ?it/s]"
      ]
     },
     "metadata": {},
     "output_type": "display_data"
    },
    {
     "data": {
      "application/vnd.jupyter.widget-view+json": {
       "model_id": "79a1008e4d0c43a9bf2720c9fbb5c4a6",
       "version_major": 2,
       "version_minor": 0
      },
      "text/plain": [
       "제주_RNN:   0%|          | 0/72 [00:00<?, ?it/s]"
      ]
     },
     "metadata": {},
     "output_type": "display_data"
    },
    {
     "data": {
      "application/vnd.jupyter.widget-view+json": {
       "model_id": "6a39bb9ff1fb44d0bb9a9fcd20d08d8a",
       "version_major": 2,
       "version_minor": 0
      },
      "text/plain": [
       "제주_LSTM:   0%|          | 0/72 [00:00<?, ?it/s]"
      ]
     },
     "metadata": {},
     "output_type": "display_data"
    },
    {
     "data": {
      "application/vnd.jupyter.widget-view+json": {
       "model_id": "0a7b0d9cdbf245d4a23ac05402b84ae5",
       "version_major": 2,
       "version_minor": 0
      },
      "text/plain": [
       "제주_GRU:   0%|          | 0/72 [00:00<?, ?it/s]"
      ]
     },
     "metadata": {},
     "output_type": "display_data"
    },
    {
     "data": {
      "application/vnd.jupyter.widget-view+json": {
       "model_id": "ce8b7cb7a4e0477c8873b47ce789a2de",
       "version_major": 2,
       "version_minor": 0
      },
      "text/plain": [
       "제주_BiRNN:   0%|          | 0/72 [00:00<?, ?it/s]"
      ]
     },
     "metadata": {},
     "output_type": "display_data"
    },
    {
     "data": {
      "application/vnd.jupyter.widget-view+json": {
       "model_id": "60ef3bb6e1cb4fb495bea4bf22455f6d",
       "version_major": 2,
       "version_minor": 0
      },
      "text/plain": [
       "제주_BiLSTM:   0%|          | 0/72 [00:00<?, ?it/s]"
      ]
     },
     "metadata": {},
     "output_type": "display_data"
    },
    {
     "data": {
      "application/vnd.jupyter.widget-view+json": {
       "model_id": "c4e0f0400df241e3892d3bef00d314af",
       "version_major": 2,
       "version_minor": 0
      },
      "text/plain": [
       "제주_BiGRU:   0%|          | 0/72 [00:00<?, ?it/s]"
      ]
     },
     "metadata": {},
     "output_type": "display_data"
    },
    {
     "data": {
      "application/vnd.jupyter.widget-view+json": {
       "model_id": "255b63cffdee4e2a944538868e81508b",
       "version_major": 2,
       "version_minor": 0
      },
      "text/plain": [
       "제주_seq2seq_RNN:   0%|          | 0/72 [00:00<?, ?it/s]"
      ]
     },
     "metadata": {},
     "output_type": "display_data"
    },
    {
     "data": {
      "application/vnd.jupyter.widget-view+json": {
       "model_id": "a3e7fcbed6b74ec4bef3e79e01c741ee",
       "version_major": 2,
       "version_minor": 0
      },
      "text/plain": [
       "제주_seq2seq_LSTM:   0%|          | 0/72 [00:00<?, ?it/s]"
      ]
     },
     "metadata": {},
     "output_type": "display_data"
    },
    {
     "data": {
      "application/vnd.jupyter.widget-view+json": {
       "model_id": "a369af85472c469c9cadd361f32190d0",
       "version_major": 2,
       "version_minor": 0
      },
      "text/plain": [
       "제주_seq2seq_GRU:   0%|          | 0/72 [00:00<?, ?it/s]"
      ]
     },
     "metadata": {},
     "output_type": "display_data"
    },
    {
     "data": {
      "application/vnd.jupyter.widget-view+json": {
       "model_id": "669b1a12622a4068b0dd3500332098b2",
       "version_major": 2,
       "version_minor": 0
      },
      "text/plain": [
       "제주_seq2seq_BiRNN:   0%|          | 0/72 [00:00<?, ?it/s]"
      ]
     },
     "metadata": {},
     "output_type": "display_data"
    },
    {
     "data": {
      "application/vnd.jupyter.widget-view+json": {
       "model_id": "ce9cb898d9144e19aceb3764fdd352d6",
       "version_major": 2,
       "version_minor": 0
      },
      "text/plain": [
       "제주_seq2seq_BiLSTM:   0%|          | 0/72 [00:00<?, ?it/s]"
      ]
     },
     "metadata": {},
     "output_type": "display_data"
    },
    {
     "data": {
      "application/vnd.jupyter.widget-view+json": {
       "model_id": "8e98ec9bb2e8404ea9f07a850f4947ad",
       "version_major": 2,
       "version_minor": 0
      },
      "text/plain": [
       "제주_seq2seq_BiGRU:   0%|          | 0/72 [00:00<?, ?it/s]"
      ]
     },
     "metadata": {},
     "output_type": "display_data"
    },
    {
     "data": {
      "application/vnd.jupyter.widget-view+json": {
       "model_id": "a9b6f257624d447ab3765b12010854ed",
       "version_major": 2,
       "version_minor": 0
      },
      "text/plain": [
       "충남:   0%|          | 0/12 [00:00<?, ?it/s]"
      ]
     },
     "metadata": {},
     "output_type": "display_data"
    },
    {
     "data": {
      "application/vnd.jupyter.widget-view+json": {
       "model_id": "ffa92dd34f9c4ed990d67938991ff153",
       "version_major": 2,
       "version_minor": 0
      },
      "text/plain": [
       "충남_RNN:   0%|          | 0/72 [00:00<?, ?it/s]"
      ]
     },
     "metadata": {},
     "output_type": "display_data"
    },
    {
     "data": {
      "application/vnd.jupyter.widget-view+json": {
       "model_id": "2cc922c789d240b4b29141636bba9792",
       "version_major": 2,
       "version_minor": 0
      },
      "text/plain": [
       "충남_LSTM:   0%|          | 0/72 [00:00<?, ?it/s]"
      ]
     },
     "metadata": {},
     "output_type": "display_data"
    },
    {
     "data": {
      "application/vnd.jupyter.widget-view+json": {
       "model_id": "7d0d74292dbd4bed8c8236020aba4177",
       "version_major": 2,
       "version_minor": 0
      },
      "text/plain": [
       "충남_GRU:   0%|          | 0/72 [00:00<?, ?it/s]"
      ]
     },
     "metadata": {},
     "output_type": "display_data"
    },
    {
     "data": {
      "application/vnd.jupyter.widget-view+json": {
       "model_id": "a14c785092a348f8b60d315cba66655d",
       "version_major": 2,
       "version_minor": 0
      },
      "text/plain": [
       "충남_BiRNN:   0%|          | 0/72 [00:00<?, ?it/s]"
      ]
     },
     "metadata": {},
     "output_type": "display_data"
    },
    {
     "data": {
      "application/vnd.jupyter.widget-view+json": {
       "model_id": "c68cc9d95d604323ab640f0c12089dac",
       "version_major": 2,
       "version_minor": 0
      },
      "text/plain": [
       "충남_BiLSTM:   0%|          | 0/72 [00:00<?, ?it/s]"
      ]
     },
     "metadata": {},
     "output_type": "display_data"
    },
    {
     "data": {
      "application/vnd.jupyter.widget-view+json": {
       "model_id": "5b1672cc99fc41bb83da71f58d4d98f3",
       "version_major": 2,
       "version_minor": 0
      },
      "text/plain": [
       "충남_BiGRU:   0%|          | 0/72 [00:00<?, ?it/s]"
      ]
     },
     "metadata": {},
     "output_type": "display_data"
    },
    {
     "data": {
      "application/vnd.jupyter.widget-view+json": {
       "model_id": "71e819ebc7c94ab7806663813cceac7a",
       "version_major": 2,
       "version_minor": 0
      },
      "text/plain": [
       "충남_seq2seq_RNN:   0%|          | 0/72 [00:00<?, ?it/s]"
      ]
     },
     "metadata": {},
     "output_type": "display_data"
    },
    {
     "data": {
      "application/vnd.jupyter.widget-view+json": {
       "model_id": "0b682f16bbb64ea7ac027352b5bc851b",
       "version_major": 2,
       "version_minor": 0
      },
      "text/plain": [
       "충남_seq2seq_LSTM:   0%|          | 0/72 [00:00<?, ?it/s]"
      ]
     },
     "metadata": {},
     "output_type": "display_data"
    },
    {
     "data": {
      "application/vnd.jupyter.widget-view+json": {
       "model_id": "f89e2a5292be4230977e28fe14e44a5c",
       "version_major": 2,
       "version_minor": 0
      },
      "text/plain": [
       "충남_seq2seq_GRU:   0%|          | 0/72 [00:00<?, ?it/s]"
      ]
     },
     "metadata": {},
     "output_type": "display_data"
    },
    {
     "data": {
      "application/vnd.jupyter.widget-view+json": {
       "model_id": "076517f581134926ac24e38b09141aae",
       "version_major": 2,
       "version_minor": 0
      },
      "text/plain": [
       "충남_seq2seq_BiRNN:   0%|          | 0/72 [00:00<?, ?it/s]"
      ]
     },
     "metadata": {},
     "output_type": "display_data"
    },
    {
     "data": {
      "application/vnd.jupyter.widget-view+json": {
       "model_id": "d432ef831d464b6580f72143dbf2427c",
       "version_major": 2,
       "version_minor": 0
      },
      "text/plain": [
       "충남_seq2seq_BiLSTM:   0%|          | 0/72 [00:00<?, ?it/s]"
      ]
     },
     "metadata": {},
     "output_type": "display_data"
    },
    {
     "data": {
      "application/vnd.jupyter.widget-view+json": {
       "model_id": "672c3928fb93452ebf59fab9cf7ab3a4",
       "version_major": 2,
       "version_minor": 0
      },
      "text/plain": [
       "충남_seq2seq_BiGRU:   0%|          | 0/72 [00:00<?, ?it/s]"
      ]
     },
     "metadata": {},
     "output_type": "display_data"
    },
    {
     "data": {
      "application/vnd.jupyter.widget-view+json": {
       "model_id": "ea222118485f48e5b37264690c9098d4",
       "version_major": 2,
       "version_minor": 0
      },
      "text/plain": [
       "충북:   0%|          | 0/12 [00:00<?, ?it/s]"
      ]
     },
     "metadata": {},
     "output_type": "display_data"
    },
    {
     "data": {
      "application/vnd.jupyter.widget-view+json": {
       "model_id": "c0a8619f71eb43a6b5a7ea5401c209f0",
       "version_major": 2,
       "version_minor": 0
      },
      "text/plain": [
       "충북_RNN:   0%|          | 0/72 [00:00<?, ?it/s]"
      ]
     },
     "metadata": {},
     "output_type": "display_data"
    },
    {
     "data": {
      "application/vnd.jupyter.widget-view+json": {
       "model_id": "625cbd8d94e644ad9aae5d92f289d484",
       "version_major": 2,
       "version_minor": 0
      },
      "text/plain": [
       "충북_LSTM:   0%|          | 0/72 [00:00<?, ?it/s]"
      ]
     },
     "metadata": {},
     "output_type": "display_data"
    },
    {
     "data": {
      "application/vnd.jupyter.widget-view+json": {
       "model_id": "928c141024b7405eb36d40f41d4b5d40",
       "version_major": 2,
       "version_minor": 0
      },
      "text/plain": [
       "충북_GRU:   0%|          | 0/72 [00:00<?, ?it/s]"
      ]
     },
     "metadata": {},
     "output_type": "display_data"
    },
    {
     "data": {
      "application/vnd.jupyter.widget-view+json": {
       "model_id": "73e0f64a88eb4e588b45124c81a97559",
       "version_major": 2,
       "version_minor": 0
      },
      "text/plain": [
       "충북_BiRNN:   0%|          | 0/72 [00:00<?, ?it/s]"
      ]
     },
     "metadata": {},
     "output_type": "display_data"
    },
    {
     "data": {
      "application/vnd.jupyter.widget-view+json": {
       "model_id": "62d25eb1c9e740c598afc3dceab9c226",
       "version_major": 2,
       "version_minor": 0
      },
      "text/plain": [
       "충북_BiLSTM:   0%|          | 0/72 [00:00<?, ?it/s]"
      ]
     },
     "metadata": {},
     "output_type": "display_data"
    },
    {
     "data": {
      "application/vnd.jupyter.widget-view+json": {
       "model_id": "e57e7364bd904edb96713f751246d754",
       "version_major": 2,
       "version_minor": 0
      },
      "text/plain": [
       "충북_BiGRU:   0%|          | 0/72 [00:00<?, ?it/s]"
      ]
     },
     "metadata": {},
     "output_type": "display_data"
    },
    {
     "data": {
      "application/vnd.jupyter.widget-view+json": {
       "model_id": "d801c3a6c8a5448183951a09aae3ea5f",
       "version_major": 2,
       "version_minor": 0
      },
      "text/plain": [
       "충북_seq2seq_RNN:   0%|          | 0/72 [00:00<?, ?it/s]"
      ]
     },
     "metadata": {},
     "output_type": "display_data"
    },
    {
     "data": {
      "application/vnd.jupyter.widget-view+json": {
       "model_id": "9c9724d1ef8d42adb2d4532adfa54032",
       "version_major": 2,
       "version_minor": 0
      },
      "text/plain": [
       "충북_seq2seq_LSTM:   0%|          | 0/72 [00:00<?, ?it/s]"
      ]
     },
     "metadata": {},
     "output_type": "display_data"
    },
    {
     "data": {
      "application/vnd.jupyter.widget-view+json": {
       "model_id": "97555e7f3d4542608c7697ea55ae7bed",
       "version_major": 2,
       "version_minor": 0
      },
      "text/plain": [
       "충북_seq2seq_GRU:   0%|          | 0/72 [00:00<?, ?it/s]"
      ]
     },
     "metadata": {},
     "output_type": "display_data"
    },
    {
     "data": {
      "application/vnd.jupyter.widget-view+json": {
       "model_id": "de7378e45cc540239e9dcfe0b203f041",
       "version_major": 2,
       "version_minor": 0
      },
      "text/plain": [
       "충북_seq2seq_BiRNN:   0%|          | 0/72 [00:00<?, ?it/s]"
      ]
     },
     "metadata": {},
     "output_type": "display_data"
    },
    {
     "data": {
      "application/vnd.jupyter.widget-view+json": {
       "model_id": "752757ae565c42bb8418e93e30b1a55e",
       "version_major": 2,
       "version_minor": 0
      },
      "text/plain": [
       "충북_seq2seq_BiLSTM:   0%|          | 0/72 [00:00<?, ?it/s]"
      ]
     },
     "metadata": {},
     "output_type": "display_data"
    },
    {
     "data": {
      "application/vnd.jupyter.widget-view+json": {
       "model_id": "382f5fae876a4c518068cd45a27aefbd",
       "version_major": 2,
       "version_minor": 0
      },
      "text/plain": [
       "충북_seq2seq_BiGRU:   0%|          | 0/72 [00:00<?, ?it/s]"
      ]
     },
     "metadata": {},
     "output_type": "display_data"
    }
   ],
   "source": [
    "trained_data = {}\n",
    "city_list = ['강원', '경기', '경남', '경북', '광주', '대구', '대전', '부산', \n",
    "             '서울', '세종', '울산', '인천', '전남', '전북', '제주', '충남', '충북']\n",
    "models_list = ['RNN', 'LSTM', 'GRU', 'BiRNN', 'BiLSTM', 'BiGRU', \n",
    "               'seq2seq_RNN', 'seq2seq_LSTM', 'seq2seq_GRU', 'seq2seq_BiRNN', 'seq2seq_BiLSTM', 'seq2seq_BiGRU']\n",
    "\n",
    "\n",
    "for city in tqdm(city_list, desc = 'cities', position = 0):\n",
    "    data = dic_files[city]\n",
    "    best_model = {}\n",
    "    \n",
    "    input_size = 3\n",
    "    sequence_length = 60\n",
    "    num_epochs = 10000\n",
    "\n",
    "    df = Prepare_df.processing(data, 'stdDay', 'Delta_alpha')\n",
    "\n",
    "    x = df.iloc[:, 0:]\n",
    "    y = df.iloc[:,:1]\n",
    "\n",
    "    ms = MinMaxScaler()\n",
    "    ss = StandardScaler()\n",
    "\n",
    "    ss.fit(x)\n",
    "    ms.fit(y)\n",
    "\n",
    "    for num_model in tqdm(range(12), desc = f'{city}', position = 1):\n",
    "        rmse_min = np.inf\n",
    "        h = -1\n",
    "        \n",
    "        for hyperparameter in tqdm(hyperparameter_dict.values(), desc = f'{city}_{models_list[num_model]}', position = 2):\n",
    "            h += 1\n",
    "            if (num_model < 6) and (h % 2 == 1):\n",
    "                continue\n",
    "            model_name = models_list[num_model]\n",
    "            lr = hyperparameter[0]\n",
    "            patience = hyperparameter[1]\n",
    "            num_layers = hyperparameter[2]\n",
    "            hidden_size = hyperparameter[3]\n",
    "            dropout = hyperparameter[4]\n",
    "\n",
    "            if num_model < 6:\n",
    "                criterion = nn.MSELoss()\n",
    "            else:\n",
    "                criterion = hyperparameter[5]\n",
    "\n",
    "            if num_model < 6:\n",
    "                x, y, x_ss, y_ms, train_loader, test_loader = Prepare_df.split_data(df, 50, 60, 1, batch_size, 'mto')\n",
    "            else:\n",
    "                x, y, x_ss, y_ms, train_loader, test_loader = Prepare_df.split_data(df, 37, 60, 14, batch_size, 'mtm')\n",
    "\n",
    "            if num_model == 0:\n",
    "                model = RNN(input_size = input_size,\n",
    "                            hidden_size = hidden_size,\n",
    "                            sequence_length = sequence_length,\n",
    "                            num_layers = num_layers, \n",
    "                            dropout = dropout, \n",
    "                            device = device).to(device)\n",
    "\n",
    "            elif num_model == 1:\n",
    "                model = LSTM(input_size = input_size,\n",
    "                             hidden_size = hidden_size,\n",
    "                             sequence_length = sequence_length,\n",
    "                             num_layers = num_layers, \n",
    "                             dropout = dropout, \n",
    "                             device = device).to(device)\n",
    "\n",
    "            elif num_model == 2:\n",
    "                model = GRU(input_size = input_size,\n",
    "                            hidden_size = hidden_size,\n",
    "                            sequence_length = sequence_length,\n",
    "                            num_layers = num_layers, \n",
    "                            dropout = dropout, \n",
    "                            device = device).to(device)\n",
    "\n",
    "            elif num_model == 3:\n",
    "                model = BiRNN(input_size = input_size,\n",
    "                              hidden_size = hidden_size,\n",
    "                              sequence_length = sequence_length,\n",
    "                              num_layers = num_layers, \n",
    "                              dropout = dropout, \n",
    "                              device = device).to(device)\n",
    "\n",
    "            elif num_model == 4:\n",
    "                model = BiLSTM(input_size = input_size,\n",
    "                               hidden_size = hidden_size,\n",
    "                               sequence_length = sequence_length,\n",
    "                               num_layers = num_layers, \n",
    "                               dropout = dropout, \n",
    "                               device = device).to(device)\n",
    "\n",
    "            elif num_model == 5:\n",
    "                model = BiGRU(input_size = input_size,\n",
    "                              hidden_size = hidden_size,\n",
    "                              sequence_length = sequence_length,\n",
    "                              num_layers = num_layers, \n",
    "                              dropout = dropout, \n",
    "                              device = device).to(device)\n",
    "\n",
    "            elif num_model == 6:\n",
    "                model = RNN_encoder_decoder(input_size = input_size, \n",
    "                                            hidden_size = hidden_size,\n",
    "                                            num_layers = num_layers, \n",
    "                                            dropout = dropout,\n",
    "                                            device = device).to(device)\n",
    "\n",
    "            elif num_model == 7:\n",
    "                model = LSTM_encoder_decoder(input_size = input_size, \n",
    "                                             hidden_size = hidden_size,\n",
    "                                             num_layers = num_layers, \n",
    "                                             dropout = dropout,\n",
    "                                             device = device).to(device)\n",
    "\n",
    "            elif num_model == 8:\n",
    "                model = GRU_encoder_decoder(input_size = input_size, \n",
    "                                            hidden_size = hidden_size,\n",
    "                                            num_layers = num_layers, \n",
    "                                            dropout = dropout,\n",
    "                                            device = device).to(device)\n",
    "\n",
    "            elif num_model == 9:\n",
    "                model = BiRNN_encoder_decoder(input_size = input_size, \n",
    "                                                hidden_size = hidden_size,\n",
    "                                                num_layers = num_layers, \n",
    "                                                dropout = dropout,\n",
    "                                                device = device).to(device)\n",
    "\n",
    "            elif num_model == 10:\n",
    "                model = BiLSTM_encoder_decoder(input_size = input_size, \n",
    "                                                  hidden_size = hidden_size,\n",
    "                                                  num_layers = num_layers, \n",
    "                                                  dropout = dropout,\n",
    "                                                  device = device).to(device)\n",
    "\n",
    "            elif num_model == 11:\n",
    "                model = BiGRU_encoder_decoder(input_size = input_size, \n",
    "                                                hidden_size = hidden_size,\n",
    "                                                num_layers = num_layers, \n",
    "                                                dropout = dropout,\n",
    "                                                device = device).to(device)            \n",
    "\n",
    "            optimizer = Adam(model.parameters(), lr = lr)\n",
    "\n",
    "            if num_model < 6:\n",
    "                loss_list, model, epoch = Trainer.Many_to_One(train_loader, \n",
    "                                                              test_loader, \n",
    "                                                              model, \n",
    "                                                              criterion, \n",
    "                                                              optimizer, \n",
    "                                                              num_epochs, \n",
    "                                                              patience,\n",
    "                                                              device)\n",
    "\n",
    "                label_y, predicted = predict_mto(model, df, x_ss, y_ms)\n",
    "                \n",
    "                if rmse_min > rmse(label_y[-14:], predicted[-14:]):\n",
    "                    rmse_min = rmse(label_y[-14:], predicted[-14:])\n",
    "                    best_model[models_list[num_model]] = [rmse_min, model, loss_list, epoch, lr, patience, \n",
    "                                                          num_layers,hidden_size, dropout]\n",
    "                \n",
    "                \n",
    "            else:\n",
    "                loss_list, model, epoch = Trainer.Many_to_Many(train_loader, \n",
    "                                                               test_loader, \n",
    "                                                               model, \n",
    "                                                               criterion, \n",
    "                                                               optimizer, \n",
    "                                                               num_epochs, \n",
    "                                                               patience,\n",
    "                                                               14,\n",
    "                                                               device)        \n",
    "                \n",
    "                label_y, predicted, first_label_y, first_predicted, all_predicted = predict_mtm(model, df, x_ss, y_ms, \n",
    "                                                                                                14, 0.5, device)\n",
    "    \n",
    "                if rmse_min > rmse(label_y[-14:], predicted[-14:]):\n",
    "                    rmse_min = rmse(label_y[-14:], predicted[-14:])\n",
    "                    best_model[models_list[num_model]] = [rmse_min, model, loss_list, epoch, lr, patience, \n",
    "                                                          num_layers, hidden_size, dropout, criterion]\n",
    "            \n",
    "        \n",
    "            \n",
    "    trained_data[city] = best_model"
   ]
  },
  {
   "cell_type": "code",
   "execution_count": 6,
   "id": "3f549f94",
   "metadata": {
    "ExecuteTime": {
     "end_time": "2023-06-16T04:03:21.527590Z",
     "start_time": "2023-06-16T04:03:20.882347Z"
    }
   },
   "outputs": [],
   "source": [
    "for city in trained_data:\n",
    "    for name, values in trained_data[city].items():\n",
    "        save_model(values[1].state_dict(), f\"model/SIR/delta/{city}/{name}.pth\")\n",
    "        save_hyperparameter(values[3:], f\"hyperparameter/SIR/delta/{city}/{name}.pkl\")"
   ]
  },
  {
   "cell_type": "code",
   "execution_count": null,
   "id": "6919b301",
   "metadata": {},
   "outputs": [],
   "source": []
  },
  {
   "cell_type": "code",
   "execution_count": null,
   "id": "eb865b79",
   "metadata": {},
   "outputs": [],
   "source": []
  }
 ],
 "metadata": {
  "kernelspec": {
   "display_name": "KDA_DA",
   "language": "python",
   "name": "kda_da"
  },
  "language_info": {
   "codemirror_mode": {
    "name": "ipython",
    "version": 3
   },
   "file_extension": ".py",
   "mimetype": "text/x-python",
   "name": "python",
   "nbconvert_exporter": "python",
   "pygments_lexer": "ipython3",
   "version": "3.10.8"
  },
  "toc": {
   "base_numbering": 1,
   "nav_menu": {},
   "number_sections": true,
   "sideBar": true,
   "skip_h1_title": false,
   "title_cell": "Table of Contents",
   "title_sidebar": "Contents",
   "toc_cell": false,
   "toc_position": {},
   "toc_section_display": true,
   "toc_window_display": false
  }
 },
 "nbformat": 4,
 "nbformat_minor": 5
}
