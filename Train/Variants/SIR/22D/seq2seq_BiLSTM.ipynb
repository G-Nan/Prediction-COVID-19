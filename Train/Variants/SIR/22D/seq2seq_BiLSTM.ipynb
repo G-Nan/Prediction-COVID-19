{
 "cells": [
  {
   "cell_type": "code",
   "execution_count": 1,
   "id": "7ef1b38b",
   "metadata": {
    "ExecuteTime": {
     "end_time": "2023-05-24T15:00:54.836641Z",
     "start_time": "2023-05-24T15:00:52.462923Z"
    }
   },
   "outputs": [],
   "source": [
    "import os\n",
    "os.chdir('D:\\\\Gnan\\\\DA\\\\KMU\\\\Prediction-COVID-19')\n",
    "from utils import *\n",
    "from model import *\n",
    "from trainer import *\n",
    "\n",
    "from torch.optim.adam import Adam\n",
    "device = torch.device('cuda:0' if torch.cuda.is_available() else 'cpu')"
   ]
  },
  {
   "cell_type": "code",
   "execution_count": 2,
   "id": "90d1bf81",
   "metadata": {
    "ExecuteTime": {
     "end_time": "2023-05-24T15:00:54.964327Z",
     "start_time": "2023-05-24T15:00:54.838636Z"
    }
   },
   "outputs": [
    {
     "data": {
      "text/html": [
       "<div>\n",
       "<style scoped>\n",
       "    .dataframe tbody tr th:only-of-type {\n",
       "        vertical-align: middle;\n",
       "    }\n",
       "\n",
       "    .dataframe tbody tr th {\n",
       "        vertical-align: top;\n",
       "    }\n",
       "\n",
       "    .dataframe thead th {\n",
       "        text-align: right;\n",
       "    }\n",
       "</style>\n",
       "<table border=\"1\" class=\"dataframe\">\n",
       "  <thead>\n",
       "    <tr style=\"text-align: right;\">\n",
       "      <th></th>\n",
       "      <th>stdDay</th>\n",
       "      <th>Susceptible</th>\n",
       "      <th>22D_Infected</th>\n",
       "      <th>22D_Recovered</th>\n",
       "      <th>22D_dead</th>\n",
       "      <th>22D_alpha</th>\n",
       "      <th>22D_beta</th>\n",
       "      <th>22D_gamma</th>\n",
       "      <th>23A_Infected</th>\n",
       "      <th>23A_Recovered</th>\n",
       "      <th>23A_dead</th>\n",
       "      <th>23A_alpha</th>\n",
       "      <th>23A_beta</th>\n",
       "      <th>23A_gamma</th>\n",
       "    </tr>\n",
       "  </thead>\n",
       "  <tbody>\n",
       "    <tr>\n",
       "      <th>0</th>\n",
       "      <td>2022-12-19</td>\n",
       "      <td>1154500</td>\n",
       "      <td>467.04</td>\n",
       "      <td>0.00</td>\n",
       "      <td>0.00</td>\n",
       "      <td>7.709827</td>\n",
       "      <td>0.000000</td>\n",
       "      <td>0.0</td>\n",
       "      <td>9.73</td>\n",
       "      <td>0.00</td>\n",
       "      <td>0.0</td>\n",
       "      <td>7.709827</td>\n",
       "      <td>0.000000</td>\n",
       "      <td>0.0</td>\n",
       "    </tr>\n",
       "    <tr>\n",
       "      <th>1</th>\n",
       "      <td>2022-12-20</td>\n",
       "      <td>1150875</td>\n",
       "      <td>2207.04</td>\n",
       "      <td>0.00</td>\n",
       "      <td>0.00</td>\n",
       "      <td>1.632581</td>\n",
       "      <td>0.000000</td>\n",
       "      <td>0.0</td>\n",
       "      <td>45.98</td>\n",
       "      <td>0.00</td>\n",
       "      <td>0.0</td>\n",
       "      <td>1.632581</td>\n",
       "      <td>0.000000</td>\n",
       "      <td>0.0</td>\n",
       "    </tr>\n",
       "    <tr>\n",
       "      <th>2</th>\n",
       "      <td>2022-12-21</td>\n",
       "      <td>1147259</td>\n",
       "      <td>3942.72</td>\n",
       "      <td>0.00</td>\n",
       "      <td>0.00</td>\n",
       "      <td>0.810531</td>\n",
       "      <td>0.000000</td>\n",
       "      <td>0.0</td>\n",
       "      <td>82.14</td>\n",
       "      <td>0.00</td>\n",
       "      <td>0.0</td>\n",
       "      <td>0.810531</td>\n",
       "      <td>0.000000</td>\n",
       "      <td>0.0</td>\n",
       "    </tr>\n",
       "    <tr>\n",
       "      <th>3</th>\n",
       "      <td>2022-12-22</td>\n",
       "      <td>1144062</td>\n",
       "      <td>5477.28</td>\n",
       "      <td>0.00</td>\n",
       "      <td>0.00</td>\n",
       "      <td>0.486252</td>\n",
       "      <td>0.000000</td>\n",
       "      <td>0.0</td>\n",
       "      <td>114.11</td>\n",
       "      <td>0.00</td>\n",
       "      <td>0.0</td>\n",
       "      <td>0.486252</td>\n",
       "      <td>0.000000</td>\n",
       "      <td>0.0</td>\n",
       "    </tr>\n",
       "    <tr>\n",
       "      <th>4</th>\n",
       "      <td>2022-12-23</td>\n",
       "      <td>1141405</td>\n",
       "      <td>6752.64</td>\n",
       "      <td>0.00</td>\n",
       "      <td>0.00</td>\n",
       "      <td>0.420776</td>\n",
       "      <td>0.000000</td>\n",
       "      <td>0.0</td>\n",
       "      <td>140.68</td>\n",
       "      <td>0.00</td>\n",
       "      <td>0.0</td>\n",
       "      <td>0.420776</td>\n",
       "      <td>0.000000</td>\n",
       "      <td>0.0</td>\n",
       "    </tr>\n",
       "    <tr>\n",
       "      <th>...</th>\n",
       "      <td>...</td>\n",
       "      <td>...</td>\n",
       "      <td>...</td>\n",
       "      <td>...</td>\n",
       "      <td>...</td>\n",
       "      <td>...</td>\n",
       "      <td>...</td>\n",
       "      <td>...</td>\n",
       "      <td>...</td>\n",
       "      <td>...</td>\n",
       "      <td>...</td>\n",
       "      <td>...</td>\n",
       "      <td>...</td>\n",
       "      <td>...</td>\n",
       "    </tr>\n",
       "    <tr>\n",
       "      <th>132</th>\n",
       "      <td>2023-04-30</td>\n",
       "      <td>1031603</td>\n",
       "      <td>503.31</td>\n",
       "      <td>68965.31</td>\n",
       "      <td>79.76</td>\n",
       "      <td>0.106662</td>\n",
       "      <td>0.063420</td>\n",
       "      <td>0.0</td>\n",
       "      <td>1695.36</td>\n",
       "      <td>9188.34</td>\n",
       "      <td>9.9</td>\n",
       "      <td>0.106662</td>\n",
       "      <td>0.063420</td>\n",
       "      <td>0.0</td>\n",
       "    </tr>\n",
       "    <tr>\n",
       "      <th>133</th>\n",
       "      <td>2023-05-01</td>\n",
       "      <td>1031481</td>\n",
       "      <td>494.57</td>\n",
       "      <td>68997.23</td>\n",
       "      <td>79.76</td>\n",
       "      <td>0.427119</td>\n",
       "      <td>0.164810</td>\n",
       "      <td>0.0</td>\n",
       "      <td>1665.92</td>\n",
       "      <td>9295.86</td>\n",
       "      <td>9.9</td>\n",
       "      <td>0.427119</td>\n",
       "      <td>0.164810</td>\n",
       "      <td>0.0</td>\n",
       "    </tr>\n",
       "    <tr>\n",
       "      <th>134</th>\n",
       "      <td>2023-05-02</td>\n",
       "      <td>1031001</td>\n",
       "      <td>504.26</td>\n",
       "      <td>69078.74</td>\n",
       "      <td>79.76</td>\n",
       "      <td>0.405137</td>\n",
       "      <td>0.161643</td>\n",
       "      <td>0.0</td>\n",
       "      <td>1698.56</td>\n",
       "      <td>9570.42</td>\n",
       "      <td>9.9</td>\n",
       "      <td>0.405137</td>\n",
       "      <td>0.161643</td>\n",
       "      <td>0.0</td>\n",
       "    </tr>\n",
       "    <tr>\n",
       "      <th>135</th>\n",
       "      <td>2023-05-03</td>\n",
       "      <td>1030537</td>\n",
       "      <td>510.91</td>\n",
       "      <td>69160.25</td>\n",
       "      <td>79.76</td>\n",
       "      <td>0.505227</td>\n",
       "      <td>0.147267</td>\n",
       "      <td>0.0</td>\n",
       "      <td>1720.96</td>\n",
       "      <td>9844.98</td>\n",
       "      <td>9.9</td>\n",
       "      <td>0.505227</td>\n",
       "      <td>0.147267</td>\n",
       "      <td>0.0</td>\n",
       "    </tr>\n",
       "    <tr>\n",
       "      <th>136</th>\n",
       "      <td>2023-05-04</td>\n",
       "      <td>1029951</td>\n",
       "      <td>547.01</td>\n",
       "      <td>69235.49</td>\n",
       "      <td>79.76</td>\n",
       "      <td>0.000000</td>\n",
       "      <td>0.000000</td>\n",
       "      <td>0.0</td>\n",
       "      <td>1842.56</td>\n",
       "      <td>10098.42</td>\n",
       "      <td>9.9</td>\n",
       "      <td>0.000000</td>\n",
       "      <td>0.000000</td>\n",
       "      <td>0.0</td>\n",
       "    </tr>\n",
       "  </tbody>\n",
       "</table>\n",
       "<p>137 rows × 14 columns</p>\n",
       "</div>"
      ],
      "text/plain": [
       "         stdDay  Susceptible  22D_Infected  22D_Recovered  22D_dead  \\\n",
       "0    2022-12-19      1154500        467.04           0.00      0.00   \n",
       "1    2022-12-20      1150875       2207.04           0.00      0.00   \n",
       "2    2022-12-21      1147259       3942.72           0.00      0.00   \n",
       "3    2022-12-22      1144062       5477.28           0.00      0.00   \n",
       "4    2022-12-23      1141405       6752.64           0.00      0.00   \n",
       "..          ...          ...           ...            ...       ...   \n",
       "132  2023-04-30      1031603        503.31       68965.31     79.76   \n",
       "133  2023-05-01      1031481        494.57       68997.23     79.76   \n",
       "134  2023-05-02      1031001        504.26       69078.74     79.76   \n",
       "135  2023-05-03      1030537        510.91       69160.25     79.76   \n",
       "136  2023-05-04      1029951        547.01       69235.49     79.76   \n",
       "\n",
       "     22D_alpha  22D_beta  22D_gamma  23A_Infected  23A_Recovered  23A_dead  \\\n",
       "0     7.709827  0.000000        0.0          9.73           0.00       0.0   \n",
       "1     1.632581  0.000000        0.0         45.98           0.00       0.0   \n",
       "2     0.810531  0.000000        0.0         82.14           0.00       0.0   \n",
       "3     0.486252  0.000000        0.0        114.11           0.00       0.0   \n",
       "4     0.420776  0.000000        0.0        140.68           0.00       0.0   \n",
       "..         ...       ...        ...           ...            ...       ...   \n",
       "132   0.106662  0.063420        0.0       1695.36        9188.34       9.9   \n",
       "133   0.427119  0.164810        0.0       1665.92        9295.86       9.9   \n",
       "134   0.405137  0.161643        0.0       1698.56        9570.42       9.9   \n",
       "135   0.505227  0.147267        0.0       1720.96        9844.98       9.9   \n",
       "136   0.000000  0.000000        0.0       1842.56       10098.42       9.9   \n",
       "\n",
       "     23A_alpha  23A_beta  23A_gamma  \n",
       "0     7.709827  0.000000        0.0  \n",
       "1     1.632581  0.000000        0.0  \n",
       "2     0.810531  0.000000        0.0  \n",
       "3     0.486252  0.000000        0.0  \n",
       "4     0.420776  0.000000        0.0  \n",
       "..         ...       ...        ...  \n",
       "132   0.106662  0.063420        0.0  \n",
       "133   0.427119  0.164810        0.0  \n",
       "134   0.405137  0.161643        0.0  \n",
       "135   0.505227  0.147267        0.0  \n",
       "136   0.000000  0.000000        0.0  \n",
       "\n",
       "[137 rows x 14 columns]"
      ]
     },
     "execution_count": 2,
     "metadata": {},
     "output_type": "execute_result"
    }
   ],
   "source": [
    "path = 'Data/Variants/omicron/*.csv'\n",
    "dic_files = Load_files.load_files(path, -14, -12)\n",
    "path = 'Data/SIR_Origin/*.csv'\n",
    "dic_SIRs = Load_files.load_files(path, -17, -15)\n",
    "\n",
    "data = dic_files['대구']\n",
    "data"
   ]
  },
  {
   "cell_type": "code",
   "execution_count": 3,
   "id": "fdbfaa5c",
   "metadata": {
    "ExecuteTime": {
     "end_time": "2023-05-24T15:00:56.411433Z",
     "start_time": "2023-05-24T15:00:54.966294Z"
    }
   },
   "outputs": [
    {
     "name": "stdout",
     "output_type": "stream",
     "text": [
      "torch.Size([54, 60, 3])\n",
      "torch.Size([54, 7, 1])\n",
      "torch.Size([14, 60, 3])\n",
      "torch.Size([14, 7, 1])\n"
     ]
    }
   ],
   "source": [
    "criterion = nn.MSELoss()\n",
    "lr = 1e-4\n",
    "patience = 300\n",
    "hidden_size = 32\n",
    "num_layers = 4\n",
    "batch_size = 8\n",
    "dropout = 0.25\n",
    "\n",
    "input_size = 3\n",
    "sequence_length = 60\n",
    "num_epochs = 10000\n",
    "\n",
    "df = Prepare_df.processing(data[:-1], 'stdDay', '22D_alpha')\n",
    "\n",
    "x = df.iloc[:, 0:]\n",
    "y = df.iloc[:,:1]\n",
    "\n",
    "ms = MinMaxScaler()\n",
    "ss = StandardScaler()\n",
    "\n",
    "ss.fit(x)\n",
    "ms.fit(y)\n",
    "\n",
    "x, y, x_ss, y_ms, train_loader, test_loader = Prepare_df.split_data(df, 54, 60, 7, batch_size, 'mtm')\n",
    "model_BiLSTM_seq2seq = BiLSTM_encoder_decoder(input_size = input_size,\n",
    "                                            hidden_size = hidden_size,\n",
    "                                            num_layers = num_layers, \n",
    "                                            dropout = dropout, \n",
    "                                            device = device).to(device)\n",
    "\n",
    "model = model_BiLSTM_seq2seq\n",
    "\n",
    "optimizer = Adam(model.parameters(), lr = lr)"
   ]
  },
  {
   "cell_type": "code",
   "execution_count": null,
   "id": "c9cb079a",
   "metadata": {
    "ExecuteTime": {
     "start_time": "2023-05-24T15:00:52.465Z"
    }
   },
   "outputs": [
    {
     "name": "stdout",
     "output_type": "stream",
     "text": [
      "epoch: 100 loss: 0.015929\n"
     ]
    }
   ],
   "source": [
    "loss_list, model = Trainer.Many_to_Many(train_loader, \n",
    "                                        test_loader, \n",
    "                                        model, \n",
    "                                        criterion, \n",
    "                                        optimizer, \n",
    "                                        num_epochs, \n",
    "                                        patience,\n",
    "                                        device)"
   ]
  },
  {
   "cell_type": "code",
   "execution_count": null,
   "id": "a11bb6a4",
   "metadata": {
    "ExecuteTime": {
     "start_time": "2023-05-24T15:00:52.466Z"
    }
   },
   "outputs": [],
   "source": [
    "plt.plot(loss_list)"
   ]
  },
  {
   "cell_type": "code",
   "execution_count": null,
   "id": "e6009153",
   "metadata": {
    "ExecuteTime": {
     "start_time": "2023-05-24T15:00:52.467Z"
    }
   },
   "outputs": [],
   "source": [
    "label_y, predicted, first_label_y, first_predicted = predict_mtm(model, df, x_ss, y_ms, len(x_ss), 7, 0.5, device)"
   ]
  },
  {
   "cell_type": "code",
   "execution_count": null,
   "id": "2867cf68",
   "metadata": {
    "ExecuteTime": {
     "start_time": "2023-05-24T15:00:52.468Z"
    }
   },
   "outputs": [],
   "source": [
    "print(mape(first_label_y, first_predicted))\n",
    "plotting(first_label_y, first_predicted, 54)"
   ]
  },
  {
   "cell_type": "code",
   "execution_count": null,
   "id": "35c70e19",
   "metadata": {
    "ExecuteTime": {
     "start_time": "2023-05-24T15:00:52.470Z"
    }
   },
   "outputs": [],
   "source": [
    "con_prediction = np.concatenate((predicted[-15].squeeze(-1), predicted[-8].squeeze(-1)), axis = 0)\n",
    "\n",
    "data_predicted = data[['stdDay']].copy()\n",
    "data_predicted['predicted_alpha'] = 0\n",
    "data_predicted.iloc[69:, -1] = first_predicted\n",
    "data_predicted.iloc[123:, -1] = con_prediction\n",
    "data_predicted['predicted_22D'] = data['22D_Infected']\n",
    "for i in range(123, len(data_predicted)):\n",
    "    data_predicted.iloc[i, -1] = (data_predicted.iloc[i-1, -1]\n",
    "                                  *(1-data.iloc[i-1, 6]-data.iloc[i-1, 7]\n",
    "                                    +(data_predicted.iloc[i-1, 1]*data.iloc[i-1, 1]\n",
    "                                      /dic_SIRs['대구'].iloc[0, 2])))\n",
    "data_predicted"
   ]
  },
  {
   "cell_type": "code",
   "execution_count": null,
   "id": "1745e652",
   "metadata": {
    "ExecuteTime": {
     "start_time": "2023-05-24T15:00:52.472Z"
    }
   },
   "outputs": [],
   "source": [
    "print(mape(data['22D_Infected'], data_predicted['predicted_22D']))\n",
    "plotting(data['22D_Infected'], data_predicted['predicted_22D'], 123)"
   ]
  },
  {
   "cell_type": "code",
   "execution_count": null,
   "id": "647fc7df",
   "metadata": {},
   "outputs": [],
   "source": []
  },
  {
   "cell_type": "code",
   "execution_count": null,
   "id": "f7a3ba71",
   "metadata": {},
   "outputs": [],
   "source": []
  },
  {
   "cell_type": "code",
   "execution_count": null,
   "id": "6b2ca2d5",
   "metadata": {},
   "outputs": [],
   "source": []
  },
  {
   "cell_type": "code",
   "execution_count": null,
   "id": "c7bb6b22",
   "metadata": {},
   "outputs": [],
   "source": []
  }
 ],
 "metadata": {
  "kernelspec": {
   "display_name": "KDA_DA",
   "language": "python",
   "name": "kda_da"
  },
  "language_info": {
   "codemirror_mode": {
    "name": "ipython",
    "version": 3
   },
   "file_extension": ".py",
   "mimetype": "text/x-python",
   "name": "python",
   "nbconvert_exporter": "python",
   "pygments_lexer": "ipython3",
   "version": "3.10.8"
  },
  "toc": {
   "base_numbering": 1,
   "nav_menu": {},
   "number_sections": true,
   "sideBar": true,
   "skip_h1_title": false,
   "title_cell": "Table of Contents",
   "title_sidebar": "Contents",
   "toc_cell": false,
   "toc_position": {},
   "toc_section_display": true,
   "toc_window_display": false
  }
 },
 "nbformat": 4,
 "nbformat_minor": 5
}
