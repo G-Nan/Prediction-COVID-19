{
 "cells": [
  {
   "cell_type": "code",
   "execution_count": 1,
   "id": "d97d8d30",
   "metadata": {
    "ExecuteTime": {
     "end_time": "2023-06-13T05:51:53.403648Z",
     "start_time": "2023-06-13T05:51:50.895616Z"
    }
   },
   "outputs": [],
   "source": [
    "import os\n",
    "os.chdir('D:\\\\Gnan\\\\DA\\\\KMU\\\\Prediction-COVID-19')\n",
    "from utils import *\n",
    "from model import *\n",
    "from trainer import *\n",
    "\n",
    "from tqdm.notebook import tqdm\n",
    "from torch.optim.adam import Adam\n",
    "device = torch.device('cuda:0' if torch.cuda.is_available() else 'cpu')\n",
    "\n",
    "import warnings\n",
    "warnings.filterwarnings('ignore')"
   ]
  },
  {
   "cell_type": "code",
   "execution_count": 2,
   "id": "241510fc",
   "metadata": {
    "ExecuteTime": {
     "end_time": "2023-06-13T05:51:53.465483Z",
     "start_time": "2023-06-13T05:51:53.414618Z"
    }
   },
   "outputs": [
    {
     "data": {
      "text/html": [
       "<div>\n",
       "<style scoped>\n",
       "    .dataframe tbody tr th:only-of-type {\n",
       "        vertical-align: middle;\n",
       "    }\n",
       "\n",
       "    .dataframe tbody tr th {\n",
       "        vertical-align: top;\n",
       "    }\n",
       "\n",
       "    .dataframe thead th {\n",
       "        text-align: right;\n",
       "    }\n",
       "</style>\n",
       "<table border=\"1\" class=\"dataframe\">\n",
       "  <thead>\n",
       "    <tr style=\"text-align: right;\">\n",
       "      <th></th>\n",
       "      <th>stdDay</th>\n",
       "      <th>incDec</th>\n",
       "      <th>alpha_variants</th>\n",
       "      <th>delta_variants</th>\n",
       "    </tr>\n",
       "  </thead>\n",
       "  <tbody>\n",
       "    <tr>\n",
       "      <th>0</th>\n",
       "      <td>2021-04-12</td>\n",
       "      <td>16.0</td>\n",
       "      <td>4.16</td>\n",
       "      <td>0.32</td>\n",
       "    </tr>\n",
       "    <tr>\n",
       "      <th>1</th>\n",
       "      <td>2021-04-13</td>\n",
       "      <td>9.0</td>\n",
       "      <td>2.34</td>\n",
       "      <td>0.18</td>\n",
       "    </tr>\n",
       "    <tr>\n",
       "      <th>2</th>\n",
       "      <td>2021-04-14</td>\n",
       "      <td>11.0</td>\n",
       "      <td>2.86</td>\n",
       "      <td>0.22</td>\n",
       "    </tr>\n",
       "    <tr>\n",
       "      <th>3</th>\n",
       "      <td>2021-04-15</td>\n",
       "      <td>18.0</td>\n",
       "      <td>4.68</td>\n",
       "      <td>0.36</td>\n",
       "    </tr>\n",
       "    <tr>\n",
       "      <th>4</th>\n",
       "      <td>2021-04-16</td>\n",
       "      <td>4.0</td>\n",
       "      <td>1.04</td>\n",
       "      <td>0.08</td>\n",
       "    </tr>\n",
       "    <tr>\n",
       "      <th>...</th>\n",
       "      <td>...</td>\n",
       "      <td>...</td>\n",
       "      <td>...</td>\n",
       "      <td>...</td>\n",
       "    </tr>\n",
       "    <tr>\n",
       "      <th>121</th>\n",
       "      <td>2021-08-11</td>\n",
       "      <td>66.0</td>\n",
       "      <td>0.66</td>\n",
       "      <td>62.70</td>\n",
       "    </tr>\n",
       "    <tr>\n",
       "      <th>122</th>\n",
       "      <td>2021-08-12</td>\n",
       "      <td>39.0</td>\n",
       "      <td>0.39</td>\n",
       "      <td>37.05</td>\n",
       "    </tr>\n",
       "    <tr>\n",
       "      <th>123</th>\n",
       "      <td>2021-08-13</td>\n",
       "      <td>57.0</td>\n",
       "      <td>0.57</td>\n",
       "      <td>54.15</td>\n",
       "    </tr>\n",
       "    <tr>\n",
       "      <th>124</th>\n",
       "      <td>2021-08-14</td>\n",
       "      <td>82.0</td>\n",
       "      <td>0.82</td>\n",
       "      <td>77.90</td>\n",
       "    </tr>\n",
       "    <tr>\n",
       "      <th>125</th>\n",
       "      <td>2021-08-15</td>\n",
       "      <td>57.0</td>\n",
       "      <td>0.57</td>\n",
       "      <td>54.15</td>\n",
       "    </tr>\n",
       "  </tbody>\n",
       "</table>\n",
       "<p>126 rows × 4 columns</p>\n",
       "</div>"
      ],
      "text/plain": [
       "         stdDay  incDec  alpha_variants  delta_variants\n",
       "0    2021-04-12    16.0            4.16            0.32\n",
       "1    2021-04-13     9.0            2.34            0.18\n",
       "2    2021-04-14    11.0            2.86            0.22\n",
       "3    2021-04-15    18.0            4.68            0.36\n",
       "4    2021-04-16     4.0            1.04            0.08\n",
       "..          ...     ...             ...             ...\n",
       "121  2021-08-11    66.0            0.66           62.70\n",
       "122  2021-08-12    39.0            0.39           37.05\n",
       "123  2021-08-13    57.0            0.57           54.15\n",
       "124  2021-08-14    82.0            0.82           77.90\n",
       "125  2021-08-15    57.0            0.57           54.15\n",
       "\n",
       "[126 rows x 4 columns]"
      ]
     },
     "execution_count": 2,
     "metadata": {},
     "output_type": "execute_result"
    }
   ],
   "source": [
    "city = '대구'\n",
    "\n",
    "path = 'Data/Variants/Infected/alpha_delta/*.csv'\n",
    "dic_files = Load_files.load_files(path, -18, -16)\n",
    "data = dic_files[city]\n",
    "data"
   ]
  },
  {
   "cell_type": "code",
   "execution_count": 3,
   "id": "e0243b9d",
   "metadata": {
    "ExecuteTime": {
     "end_time": "2023-06-13T05:51:53.481441Z",
     "start_time": "2023-06-13T05:51:53.467478Z"
    },
    "scrolled": true
   },
   "outputs": [
    {
     "name": "stdout",
     "output_type": "stream",
     "text": [
      "72\n"
     ]
    }
   ],
   "source": [
    "learning_rates_list = [1e-3, 1e-4]\n",
    "patiences_list = [20, 50]\n",
    "num_layers_list = [1, 2, 4]\n",
    "hidden_sizes_list = [8, 16, 32]\n",
    "dropout_list = [0.25]\n",
    "criterions_list = [nn.MSELoss(), criterion3]\n",
    "batch_size = 64\n",
    "hyperparameter_dict = {}\n",
    "i = 0\n",
    "\n",
    "for lr in learning_rates_list:\n",
    "    for patience in patiences_list:\n",
    "        for num_layers in num_layers_list:\n",
    "            for hidden_size in hidden_sizes_list:    \n",
    "                for dropout in dropout_list:\n",
    "                    for criterion in criterions_list:\n",
    "                        hyperparameter_dict[i] = [lr, patience, num_layers, hidden_size, dropout, criterion]\n",
    "                        i += 1\n",
    "\n",
    "print(i)"
   ]
  },
  {
   "cell_type": "code",
   "execution_count": 4,
   "id": "14aa2d30",
   "metadata": {
    "ExecuteTime": {
     "end_time": "2023-06-14T06:46:33.058330Z",
     "start_time": "2023-06-13T05:51:53.483434Z"
    },
    "scrolled": true
   },
   "outputs": [
    {
     "data": {
      "application/vnd.jupyter.widget-view+json": {
       "model_id": "8e6b2ccc5e1048f5bf0e01ef808988b1",
       "version_major": 2,
       "version_minor": 0
      },
      "text/plain": [
       "cities:   0%|          | 0/17 [00:00<?, ?it/s]"
      ]
     },
     "metadata": {},
     "output_type": "display_data"
    },
    {
     "data": {
      "application/vnd.jupyter.widget-view+json": {
       "model_id": "6184de67278c4c2b9e843bbb61241bf4",
       "version_major": 2,
       "version_minor": 0
      },
      "text/plain": [
       "강원:   0%|          | 0/12 [00:00<?, ?it/s]"
      ]
     },
     "metadata": {},
     "output_type": "display_data"
    },
    {
     "data": {
      "application/vnd.jupyter.widget-view+json": {
       "model_id": "eddcb1ee9fb54366b2f0c7108b56612c",
       "version_major": 2,
       "version_minor": 0
      },
      "text/plain": [
       "강원_RNN:   0%|          | 0/72 [00:00<?, ?it/s]"
      ]
     },
     "metadata": {},
     "output_type": "display_data"
    },
    {
     "data": {
      "application/vnd.jupyter.widget-view+json": {
       "model_id": "fed00ef216ba4400b251f385e8ce1279",
       "version_major": 2,
       "version_minor": 0
      },
      "text/plain": [
       "강원_LSTM:   0%|          | 0/72 [00:00<?, ?it/s]"
      ]
     },
     "metadata": {},
     "output_type": "display_data"
    },
    {
     "data": {
      "application/vnd.jupyter.widget-view+json": {
       "model_id": "76b8a4a2f8b547b2bf83b69431694918",
       "version_major": 2,
       "version_minor": 0
      },
      "text/plain": [
       "강원_GRU:   0%|          | 0/72 [00:00<?, ?it/s]"
      ]
     },
     "metadata": {},
     "output_type": "display_data"
    },
    {
     "data": {
      "application/vnd.jupyter.widget-view+json": {
       "model_id": "31a7d9c5648f44a39bd704122581a938",
       "version_major": 2,
       "version_minor": 0
      },
      "text/plain": [
       "강원_BiRNN:   0%|          | 0/72 [00:00<?, ?it/s]"
      ]
     },
     "metadata": {},
     "output_type": "display_data"
    },
    {
     "data": {
      "application/vnd.jupyter.widget-view+json": {
       "model_id": "afbbaf06cff846a0bd7d14a5d5462ab1",
       "version_major": 2,
       "version_minor": 0
      },
      "text/plain": [
       "강원_BiLSTM:   0%|          | 0/72 [00:00<?, ?it/s]"
      ]
     },
     "metadata": {},
     "output_type": "display_data"
    },
    {
     "data": {
      "application/vnd.jupyter.widget-view+json": {
       "model_id": "472e322c5ba246ecb01cf6e66b66013c",
       "version_major": 2,
       "version_minor": 0
      },
      "text/plain": [
       "강원_BiGRU:   0%|          | 0/72 [00:00<?, ?it/s]"
      ]
     },
     "metadata": {},
     "output_type": "display_data"
    },
    {
     "data": {
      "application/vnd.jupyter.widget-view+json": {
       "model_id": "ec66677cedb743bfaefb26ce60daa415",
       "version_major": 2,
       "version_minor": 0
      },
      "text/plain": [
       "강원_seq2seq_RNN:   0%|          | 0/72 [00:00<?, ?it/s]"
      ]
     },
     "metadata": {},
     "output_type": "display_data"
    },
    {
     "data": {
      "application/vnd.jupyter.widget-view+json": {
       "model_id": "8691a9def8e0478a939f07513ca6300c",
       "version_major": 2,
       "version_minor": 0
      },
      "text/plain": [
       "강원_seq2seq_LSTM:   0%|          | 0/72 [00:00<?, ?it/s]"
      ]
     },
     "metadata": {},
     "output_type": "display_data"
    },
    {
     "data": {
      "application/vnd.jupyter.widget-view+json": {
       "model_id": "fa2086ab5bed485d8b6d118abda3fba2",
       "version_major": 2,
       "version_minor": 0
      },
      "text/plain": [
       "강원_seq2seq_GRU:   0%|          | 0/72 [00:00<?, ?it/s]"
      ]
     },
     "metadata": {},
     "output_type": "display_data"
    },
    {
     "data": {
      "application/vnd.jupyter.widget-view+json": {
       "model_id": "be35f99eeda94fb1924f0f9568e6b3a1",
       "version_major": 2,
       "version_minor": 0
      },
      "text/plain": [
       "강원_seq2seq_BiRNN:   0%|          | 0/72 [00:00<?, ?it/s]"
      ]
     },
     "metadata": {},
     "output_type": "display_data"
    },
    {
     "data": {
      "application/vnd.jupyter.widget-view+json": {
       "model_id": "058baa5a878545e68d20eab3169db984",
       "version_major": 2,
       "version_minor": 0
      },
      "text/plain": [
       "강원_seq2seq_BiLSTM:   0%|          | 0/72 [00:00<?, ?it/s]"
      ]
     },
     "metadata": {},
     "output_type": "display_data"
    },
    {
     "data": {
      "application/vnd.jupyter.widget-view+json": {
       "model_id": "1689f19b91aa4e9aa6de63739ef7333a",
       "version_major": 2,
       "version_minor": 0
      },
      "text/plain": [
       "강원_seq2seq_BiGRU:   0%|          | 0/72 [00:00<?, ?it/s]"
      ]
     },
     "metadata": {},
     "output_type": "display_data"
    },
    {
     "data": {
      "application/vnd.jupyter.widget-view+json": {
       "model_id": "9d1e5f99861f449dbb82e6f9f409b7ad",
       "version_major": 2,
       "version_minor": 0
      },
      "text/plain": [
       "경기:   0%|          | 0/12 [00:00<?, ?it/s]"
      ]
     },
     "metadata": {},
     "output_type": "display_data"
    },
    {
     "data": {
      "application/vnd.jupyter.widget-view+json": {
       "model_id": "d7b80e05e2ab4cdd810718143feb3c53",
       "version_major": 2,
       "version_minor": 0
      },
      "text/plain": [
       "경기_RNN:   0%|          | 0/72 [00:00<?, ?it/s]"
      ]
     },
     "metadata": {},
     "output_type": "display_data"
    },
    {
     "data": {
      "application/vnd.jupyter.widget-view+json": {
       "model_id": "33e5c975bf1546909aa8a7f9c277c35e",
       "version_major": 2,
       "version_minor": 0
      },
      "text/plain": [
       "경기_LSTM:   0%|          | 0/72 [00:00<?, ?it/s]"
      ]
     },
     "metadata": {},
     "output_type": "display_data"
    },
    {
     "data": {
      "application/vnd.jupyter.widget-view+json": {
       "model_id": "35be1ef4b4774488a81855d6a5181038",
       "version_major": 2,
       "version_minor": 0
      },
      "text/plain": [
       "경기_GRU:   0%|          | 0/72 [00:00<?, ?it/s]"
      ]
     },
     "metadata": {},
     "output_type": "display_data"
    },
    {
     "data": {
      "application/vnd.jupyter.widget-view+json": {
       "model_id": "2fde4e6fc3d443b988f6dfb61bfc4f96",
       "version_major": 2,
       "version_minor": 0
      },
      "text/plain": [
       "경기_BiRNN:   0%|          | 0/72 [00:00<?, ?it/s]"
      ]
     },
     "metadata": {},
     "output_type": "display_data"
    },
    {
     "data": {
      "application/vnd.jupyter.widget-view+json": {
       "model_id": "77e3050ad80a4d4bb8bb948348a895f6",
       "version_major": 2,
       "version_minor": 0
      },
      "text/plain": [
       "경기_BiLSTM:   0%|          | 0/72 [00:00<?, ?it/s]"
      ]
     },
     "metadata": {},
     "output_type": "display_data"
    },
    {
     "data": {
      "application/vnd.jupyter.widget-view+json": {
       "model_id": "c7c017c9de064675a7da8b1283048b2e",
       "version_major": 2,
       "version_minor": 0
      },
      "text/plain": [
       "경기_BiGRU:   0%|          | 0/72 [00:00<?, ?it/s]"
      ]
     },
     "metadata": {},
     "output_type": "display_data"
    },
    {
     "data": {
      "application/vnd.jupyter.widget-view+json": {
       "model_id": "6d8a1ecc364e406098b5cda23732aba6",
       "version_major": 2,
       "version_minor": 0
      },
      "text/plain": [
       "경기_seq2seq_RNN:   0%|          | 0/72 [00:00<?, ?it/s]"
      ]
     },
     "metadata": {},
     "output_type": "display_data"
    },
    {
     "data": {
      "application/vnd.jupyter.widget-view+json": {
       "model_id": "f1282e361413468a98ec1875d8dbc77f",
       "version_major": 2,
       "version_minor": 0
      },
      "text/plain": [
       "경기_seq2seq_LSTM:   0%|          | 0/72 [00:00<?, ?it/s]"
      ]
     },
     "metadata": {},
     "output_type": "display_data"
    },
    {
     "data": {
      "application/vnd.jupyter.widget-view+json": {
       "model_id": "c8e442f70f83448087b2313d75b10bc2",
       "version_major": 2,
       "version_minor": 0
      },
      "text/plain": [
       "경기_seq2seq_GRU:   0%|          | 0/72 [00:00<?, ?it/s]"
      ]
     },
     "metadata": {},
     "output_type": "display_data"
    },
    {
     "data": {
      "application/vnd.jupyter.widget-view+json": {
       "model_id": "4f889121c196428a86ea125a83e803a2",
       "version_major": 2,
       "version_minor": 0
      },
      "text/plain": [
       "경기_seq2seq_BiRNN:   0%|          | 0/72 [00:00<?, ?it/s]"
      ]
     },
     "metadata": {},
     "output_type": "display_data"
    },
    {
     "data": {
      "application/vnd.jupyter.widget-view+json": {
       "model_id": "ff4bd98a12cc471daba8f0155f606720",
       "version_major": 2,
       "version_minor": 0
      },
      "text/plain": [
       "경기_seq2seq_BiLSTM:   0%|          | 0/72 [00:00<?, ?it/s]"
      ]
     },
     "metadata": {},
     "output_type": "display_data"
    },
    {
     "data": {
      "application/vnd.jupyter.widget-view+json": {
       "model_id": "319e88b5252f4e298b6f44a8dc8967f4",
       "version_major": 2,
       "version_minor": 0
      },
      "text/plain": [
       "경기_seq2seq_BiGRU:   0%|          | 0/72 [00:00<?, ?it/s]"
      ]
     },
     "metadata": {},
     "output_type": "display_data"
    },
    {
     "data": {
      "application/vnd.jupyter.widget-view+json": {
       "model_id": "94c97bd2b07946cf9fd191808ec3027a",
       "version_major": 2,
       "version_minor": 0
      },
      "text/plain": [
       "경남:   0%|          | 0/12 [00:00<?, ?it/s]"
      ]
     },
     "metadata": {},
     "output_type": "display_data"
    },
    {
     "data": {
      "application/vnd.jupyter.widget-view+json": {
       "model_id": "689305b6b4214015a535a3961174990e",
       "version_major": 2,
       "version_minor": 0
      },
      "text/plain": [
       "경남_RNN:   0%|          | 0/72 [00:00<?, ?it/s]"
      ]
     },
     "metadata": {},
     "output_type": "display_data"
    },
    {
     "data": {
      "application/vnd.jupyter.widget-view+json": {
       "model_id": "bca72186976a43da8d2dfc6595a85521",
       "version_major": 2,
       "version_minor": 0
      },
      "text/plain": [
       "경남_LSTM:   0%|          | 0/72 [00:00<?, ?it/s]"
      ]
     },
     "metadata": {},
     "output_type": "display_data"
    },
    {
     "data": {
      "application/vnd.jupyter.widget-view+json": {
       "model_id": "7cabb8f365f94c9b98fcc46dcf6d3d4f",
       "version_major": 2,
       "version_minor": 0
      },
      "text/plain": [
       "경남_GRU:   0%|          | 0/72 [00:00<?, ?it/s]"
      ]
     },
     "metadata": {},
     "output_type": "display_data"
    },
    {
     "data": {
      "application/vnd.jupyter.widget-view+json": {
       "model_id": "c7dd3f3a99ca4a5ab02665c010ae1931",
       "version_major": 2,
       "version_minor": 0
      },
      "text/plain": [
       "경남_BiRNN:   0%|          | 0/72 [00:00<?, ?it/s]"
      ]
     },
     "metadata": {},
     "output_type": "display_data"
    },
    {
     "data": {
      "application/vnd.jupyter.widget-view+json": {
       "model_id": "c90930f741ae4ab89f9f6b58f3f32069",
       "version_major": 2,
       "version_minor": 0
      },
      "text/plain": [
       "경남_BiLSTM:   0%|          | 0/72 [00:00<?, ?it/s]"
      ]
     },
     "metadata": {},
     "output_type": "display_data"
    },
    {
     "data": {
      "application/vnd.jupyter.widget-view+json": {
       "model_id": "534c12355ffc47f4b40a2bd2c53745b4",
       "version_major": 2,
       "version_minor": 0
      },
      "text/plain": [
       "경남_BiGRU:   0%|          | 0/72 [00:00<?, ?it/s]"
      ]
     },
     "metadata": {},
     "output_type": "display_data"
    },
    {
     "data": {
      "application/vnd.jupyter.widget-view+json": {
       "model_id": "5acb6bc0f1874c478b502a586dd27623",
       "version_major": 2,
       "version_minor": 0
      },
      "text/plain": [
       "경남_seq2seq_RNN:   0%|          | 0/72 [00:00<?, ?it/s]"
      ]
     },
     "metadata": {},
     "output_type": "display_data"
    },
    {
     "data": {
      "application/vnd.jupyter.widget-view+json": {
       "model_id": "ac0b4f6813a944468994ac8902b0eeda",
       "version_major": 2,
       "version_minor": 0
      },
      "text/plain": [
       "경남_seq2seq_LSTM:   0%|          | 0/72 [00:00<?, ?it/s]"
      ]
     },
     "metadata": {},
     "output_type": "display_data"
    },
    {
     "data": {
      "application/vnd.jupyter.widget-view+json": {
       "model_id": "337ddd3c1cff4dee90c28cd5ca7a4cc6",
       "version_major": 2,
       "version_minor": 0
      },
      "text/plain": [
       "경남_seq2seq_GRU:   0%|          | 0/72 [00:00<?, ?it/s]"
      ]
     },
     "metadata": {},
     "output_type": "display_data"
    },
    {
     "data": {
      "application/vnd.jupyter.widget-view+json": {
       "model_id": "b4ff479300ec456f88c21e082e0c7d6f",
       "version_major": 2,
       "version_minor": 0
      },
      "text/plain": [
       "경남_seq2seq_BiRNN:   0%|          | 0/72 [00:00<?, ?it/s]"
      ]
     },
     "metadata": {},
     "output_type": "display_data"
    },
    {
     "data": {
      "application/vnd.jupyter.widget-view+json": {
       "model_id": "b207062040c541b595bfcdbfeb7d5a2b",
       "version_major": 2,
       "version_minor": 0
      },
      "text/plain": [
       "경남_seq2seq_BiLSTM:   0%|          | 0/72 [00:00<?, ?it/s]"
      ]
     },
     "metadata": {},
     "output_type": "display_data"
    },
    {
     "data": {
      "application/vnd.jupyter.widget-view+json": {
       "model_id": "46d384bf98cf45e8a09623331ec69603",
       "version_major": 2,
       "version_minor": 0
      },
      "text/plain": [
       "경남_seq2seq_BiGRU:   0%|          | 0/72 [00:00<?, ?it/s]"
      ]
     },
     "metadata": {},
     "output_type": "display_data"
    },
    {
     "data": {
      "application/vnd.jupyter.widget-view+json": {
       "model_id": "dc3ef96916e844b587908bf4e8c5f65f",
       "version_major": 2,
       "version_minor": 0
      },
      "text/plain": [
       "경북:   0%|          | 0/12 [00:00<?, ?it/s]"
      ]
     },
     "metadata": {},
     "output_type": "display_data"
    },
    {
     "data": {
      "application/vnd.jupyter.widget-view+json": {
       "model_id": "5c5146f271634370ada8cba7c5ad0da4",
       "version_major": 2,
       "version_minor": 0
      },
      "text/plain": [
       "경북_RNN:   0%|          | 0/72 [00:00<?, ?it/s]"
      ]
     },
     "metadata": {},
     "output_type": "display_data"
    },
    {
     "data": {
      "application/vnd.jupyter.widget-view+json": {
       "model_id": "21704ef0432d4735bc59a8132a1da24b",
       "version_major": 2,
       "version_minor": 0
      },
      "text/plain": [
       "경북_LSTM:   0%|          | 0/72 [00:00<?, ?it/s]"
      ]
     },
     "metadata": {},
     "output_type": "display_data"
    },
    {
     "data": {
      "application/vnd.jupyter.widget-view+json": {
       "model_id": "ff526ea246884cd3b8bfab85d722aae9",
       "version_major": 2,
       "version_minor": 0
      },
      "text/plain": [
       "경북_GRU:   0%|          | 0/72 [00:00<?, ?it/s]"
      ]
     },
     "metadata": {},
     "output_type": "display_data"
    },
    {
     "data": {
      "application/vnd.jupyter.widget-view+json": {
       "model_id": "2d3e8e2e26dd493185b9121bf1f3c4fa",
       "version_major": 2,
       "version_minor": 0
      },
      "text/plain": [
       "경북_BiRNN:   0%|          | 0/72 [00:00<?, ?it/s]"
      ]
     },
     "metadata": {},
     "output_type": "display_data"
    },
    {
     "data": {
      "application/vnd.jupyter.widget-view+json": {
       "model_id": "26136dd7fce6482aa8c776bdb3b76f6a",
       "version_major": 2,
       "version_minor": 0
      },
      "text/plain": [
       "경북_BiLSTM:   0%|          | 0/72 [00:00<?, ?it/s]"
      ]
     },
     "metadata": {},
     "output_type": "display_data"
    },
    {
     "data": {
      "application/vnd.jupyter.widget-view+json": {
       "model_id": "2882842207b14b15ac011eab7860066d",
       "version_major": 2,
       "version_minor": 0
      },
      "text/plain": [
       "경북_BiGRU:   0%|          | 0/72 [00:00<?, ?it/s]"
      ]
     },
     "metadata": {},
     "output_type": "display_data"
    },
    {
     "data": {
      "application/vnd.jupyter.widget-view+json": {
       "model_id": "b598c580169444bc9277d8a8dc49eaf4",
       "version_major": 2,
       "version_minor": 0
      },
      "text/plain": [
       "경북_seq2seq_RNN:   0%|          | 0/72 [00:00<?, ?it/s]"
      ]
     },
     "metadata": {},
     "output_type": "display_data"
    },
    {
     "data": {
      "application/vnd.jupyter.widget-view+json": {
       "model_id": "35e57ba11acb43dd935910c4e19b770d",
       "version_major": 2,
       "version_minor": 0
      },
      "text/plain": [
       "경북_seq2seq_LSTM:   0%|          | 0/72 [00:00<?, ?it/s]"
      ]
     },
     "metadata": {},
     "output_type": "display_data"
    },
    {
     "data": {
      "application/vnd.jupyter.widget-view+json": {
       "model_id": "0663261bd632494e89a635e61b232de7",
       "version_major": 2,
       "version_minor": 0
      },
      "text/plain": [
       "경북_seq2seq_GRU:   0%|          | 0/72 [00:00<?, ?it/s]"
      ]
     },
     "metadata": {},
     "output_type": "display_data"
    },
    {
     "data": {
      "application/vnd.jupyter.widget-view+json": {
       "model_id": "20af08e2b2d8408fbd4933a95efb8935",
       "version_major": 2,
       "version_minor": 0
      },
      "text/plain": [
       "경북_seq2seq_BiRNN:   0%|          | 0/72 [00:00<?, ?it/s]"
      ]
     },
     "metadata": {},
     "output_type": "display_data"
    },
    {
     "data": {
      "application/vnd.jupyter.widget-view+json": {
       "model_id": "4345e4e2b602446f959c1e7d8314c6ac",
       "version_major": 2,
       "version_minor": 0
      },
      "text/plain": [
       "경북_seq2seq_BiLSTM:   0%|          | 0/72 [00:00<?, ?it/s]"
      ]
     },
     "metadata": {},
     "output_type": "display_data"
    },
    {
     "data": {
      "application/vnd.jupyter.widget-view+json": {
       "model_id": "0ffb71fb6fd549f288aad746b49e5a4c",
       "version_major": 2,
       "version_minor": 0
      },
      "text/plain": [
       "경북_seq2seq_BiGRU:   0%|          | 0/72 [00:00<?, ?it/s]"
      ]
     },
     "metadata": {},
     "output_type": "display_data"
    },
    {
     "data": {
      "application/vnd.jupyter.widget-view+json": {
       "model_id": "83c79a7a796444c7b3edcc74e4e22ba9",
       "version_major": 2,
       "version_minor": 0
      },
      "text/plain": [
       "광주:   0%|          | 0/12 [00:00<?, ?it/s]"
      ]
     },
     "metadata": {},
     "output_type": "display_data"
    },
    {
     "data": {
      "application/vnd.jupyter.widget-view+json": {
       "model_id": "5e31560f29f44f5d80115a4fe4a0bb50",
       "version_major": 2,
       "version_minor": 0
      },
      "text/plain": [
       "광주_RNN:   0%|          | 0/72 [00:00<?, ?it/s]"
      ]
     },
     "metadata": {},
     "output_type": "display_data"
    },
    {
     "data": {
      "application/vnd.jupyter.widget-view+json": {
       "model_id": "7c21eab15df54a58880d088021f5251b",
       "version_major": 2,
       "version_minor": 0
      },
      "text/plain": [
       "광주_LSTM:   0%|          | 0/72 [00:00<?, ?it/s]"
      ]
     },
     "metadata": {},
     "output_type": "display_data"
    },
    {
     "data": {
      "application/vnd.jupyter.widget-view+json": {
       "model_id": "65dff73bec4f4c8489a4f84e61d37e5a",
       "version_major": 2,
       "version_minor": 0
      },
      "text/plain": [
       "광주_GRU:   0%|          | 0/72 [00:00<?, ?it/s]"
      ]
     },
     "metadata": {},
     "output_type": "display_data"
    },
    {
     "data": {
      "application/vnd.jupyter.widget-view+json": {
       "model_id": "7172bb2be1ee4f6883679af7feb919c7",
       "version_major": 2,
       "version_minor": 0
      },
      "text/plain": [
       "광주_BiRNN:   0%|          | 0/72 [00:00<?, ?it/s]"
      ]
     },
     "metadata": {},
     "output_type": "display_data"
    },
    {
     "data": {
      "application/vnd.jupyter.widget-view+json": {
       "model_id": "6602728fded54697a45c90eac86313bb",
       "version_major": 2,
       "version_minor": 0
      },
      "text/plain": [
       "광주_BiLSTM:   0%|          | 0/72 [00:00<?, ?it/s]"
      ]
     },
     "metadata": {},
     "output_type": "display_data"
    },
    {
     "data": {
      "application/vnd.jupyter.widget-view+json": {
       "model_id": "505abc419e224930aa684f9df0f2a78c",
       "version_major": 2,
       "version_minor": 0
      },
      "text/plain": [
       "광주_BiGRU:   0%|          | 0/72 [00:00<?, ?it/s]"
      ]
     },
     "metadata": {},
     "output_type": "display_data"
    },
    {
     "data": {
      "application/vnd.jupyter.widget-view+json": {
       "model_id": "badfef9d9917412ea4796666d004286c",
       "version_major": 2,
       "version_minor": 0
      },
      "text/plain": [
       "광주_seq2seq_RNN:   0%|          | 0/72 [00:00<?, ?it/s]"
      ]
     },
     "metadata": {},
     "output_type": "display_data"
    },
    {
     "data": {
      "application/vnd.jupyter.widget-view+json": {
       "model_id": "04741cae2b5940fb8282a83353ba7969",
       "version_major": 2,
       "version_minor": 0
      },
      "text/plain": [
       "광주_seq2seq_LSTM:   0%|          | 0/72 [00:00<?, ?it/s]"
      ]
     },
     "metadata": {},
     "output_type": "display_data"
    },
    {
     "data": {
      "application/vnd.jupyter.widget-view+json": {
       "model_id": "c16b9ec1c23d494e93facaf2009a3353",
       "version_major": 2,
       "version_minor": 0
      },
      "text/plain": [
       "광주_seq2seq_GRU:   0%|          | 0/72 [00:00<?, ?it/s]"
      ]
     },
     "metadata": {},
     "output_type": "display_data"
    },
    {
     "data": {
      "application/vnd.jupyter.widget-view+json": {
       "model_id": "c0c04f1dd0fa4c18a177583627f2b3c1",
       "version_major": 2,
       "version_minor": 0
      },
      "text/plain": [
       "광주_seq2seq_BiRNN:   0%|          | 0/72 [00:00<?, ?it/s]"
      ]
     },
     "metadata": {},
     "output_type": "display_data"
    },
    {
     "data": {
      "application/vnd.jupyter.widget-view+json": {
       "model_id": "fdcc3e4ef97243b29a313b1124e8baaa",
       "version_major": 2,
       "version_minor": 0
      },
      "text/plain": [
       "광주_seq2seq_BiLSTM:   0%|          | 0/72 [00:00<?, ?it/s]"
      ]
     },
     "metadata": {},
     "output_type": "display_data"
    },
    {
     "data": {
      "application/vnd.jupyter.widget-view+json": {
       "model_id": "043d0b3ecc724c7cbe5cfb9c3a6875c9",
       "version_major": 2,
       "version_minor": 0
      },
      "text/plain": [
       "광주_seq2seq_BiGRU:   0%|          | 0/72 [00:00<?, ?it/s]"
      ]
     },
     "metadata": {},
     "output_type": "display_data"
    },
    {
     "data": {
      "application/vnd.jupyter.widget-view+json": {
       "model_id": "37c0366994ad4b079e19fe7e7991f776",
       "version_major": 2,
       "version_minor": 0
      },
      "text/plain": [
       "대구:   0%|          | 0/12 [00:00<?, ?it/s]"
      ]
     },
     "metadata": {},
     "output_type": "display_data"
    },
    {
     "data": {
      "application/vnd.jupyter.widget-view+json": {
       "model_id": "1fcb60a7767a48d080230df04738f7bd",
       "version_major": 2,
       "version_minor": 0
      },
      "text/plain": [
       "대구_RNN:   0%|          | 0/72 [00:00<?, ?it/s]"
      ]
     },
     "metadata": {},
     "output_type": "display_data"
    },
    {
     "data": {
      "application/vnd.jupyter.widget-view+json": {
       "model_id": "fd60c3fa64a44a01b2ccce733475a5b9",
       "version_major": 2,
       "version_minor": 0
      },
      "text/plain": [
       "대구_LSTM:   0%|          | 0/72 [00:00<?, ?it/s]"
      ]
     },
     "metadata": {},
     "output_type": "display_data"
    },
    {
     "data": {
      "application/vnd.jupyter.widget-view+json": {
       "model_id": "ad3bdb3de9b94c8cb0c7694b82cb539a",
       "version_major": 2,
       "version_minor": 0
      },
      "text/plain": [
       "대구_GRU:   0%|          | 0/72 [00:00<?, ?it/s]"
      ]
     },
     "metadata": {},
     "output_type": "display_data"
    },
    {
     "data": {
      "application/vnd.jupyter.widget-view+json": {
       "model_id": "a9c78c807cff4db1a3368a0e19fe4281",
       "version_major": 2,
       "version_minor": 0
      },
      "text/plain": [
       "대구_BiRNN:   0%|          | 0/72 [00:00<?, ?it/s]"
      ]
     },
     "metadata": {},
     "output_type": "display_data"
    },
    {
     "data": {
      "application/vnd.jupyter.widget-view+json": {
       "model_id": "a738a7b8a7c148878c01d35496518998",
       "version_major": 2,
       "version_minor": 0
      },
      "text/plain": [
       "대구_BiLSTM:   0%|          | 0/72 [00:00<?, ?it/s]"
      ]
     },
     "metadata": {},
     "output_type": "display_data"
    },
    {
     "data": {
      "application/vnd.jupyter.widget-view+json": {
       "model_id": "06c250b6e68b4904b31afb2cef626bb2",
       "version_major": 2,
       "version_minor": 0
      },
      "text/plain": [
       "대구_BiGRU:   0%|          | 0/72 [00:00<?, ?it/s]"
      ]
     },
     "metadata": {},
     "output_type": "display_data"
    },
    {
     "data": {
      "application/vnd.jupyter.widget-view+json": {
       "model_id": "cf21d9a5b5f749e0bebfee77d621aea7",
       "version_major": 2,
       "version_minor": 0
      },
      "text/plain": [
       "대구_seq2seq_RNN:   0%|          | 0/72 [00:00<?, ?it/s]"
      ]
     },
     "metadata": {},
     "output_type": "display_data"
    },
    {
     "data": {
      "application/vnd.jupyter.widget-view+json": {
       "model_id": "e5f89fd1614448d4ab8e39204084a6ca",
       "version_major": 2,
       "version_minor": 0
      },
      "text/plain": [
       "대구_seq2seq_LSTM:   0%|          | 0/72 [00:00<?, ?it/s]"
      ]
     },
     "metadata": {},
     "output_type": "display_data"
    },
    {
     "data": {
      "application/vnd.jupyter.widget-view+json": {
       "model_id": "b6eef397d1c24e69955724a41a6aa5eb",
       "version_major": 2,
       "version_minor": 0
      },
      "text/plain": [
       "대구_seq2seq_GRU:   0%|          | 0/72 [00:00<?, ?it/s]"
      ]
     },
     "metadata": {},
     "output_type": "display_data"
    },
    {
     "data": {
      "application/vnd.jupyter.widget-view+json": {
       "model_id": "7b8faa7a13584b68a728c2ed1de57262",
       "version_major": 2,
       "version_minor": 0
      },
      "text/plain": [
       "대구_seq2seq_BiRNN:   0%|          | 0/72 [00:00<?, ?it/s]"
      ]
     },
     "metadata": {},
     "output_type": "display_data"
    },
    {
     "data": {
      "application/vnd.jupyter.widget-view+json": {
       "model_id": "6d31b760c3654d62938ef548df167ee2",
       "version_major": 2,
       "version_minor": 0
      },
      "text/plain": [
       "대구_seq2seq_BiLSTM:   0%|          | 0/72 [00:00<?, ?it/s]"
      ]
     },
     "metadata": {},
     "output_type": "display_data"
    },
    {
     "data": {
      "application/vnd.jupyter.widget-view+json": {
       "model_id": "893e2f9c166a4a1b8b4a5622fdd01d82",
       "version_major": 2,
       "version_minor": 0
      },
      "text/plain": [
       "대구_seq2seq_BiGRU:   0%|          | 0/72 [00:00<?, ?it/s]"
      ]
     },
     "metadata": {},
     "output_type": "display_data"
    },
    {
     "data": {
      "application/vnd.jupyter.widget-view+json": {
       "model_id": "64575050a4f64b1ea4b520dfe9c16e04",
       "version_major": 2,
       "version_minor": 0
      },
      "text/plain": [
       "대전:   0%|          | 0/12 [00:00<?, ?it/s]"
      ]
     },
     "metadata": {},
     "output_type": "display_data"
    },
    {
     "data": {
      "application/vnd.jupyter.widget-view+json": {
       "model_id": "0553ab84c1124c53ad09ec5a1cca64da",
       "version_major": 2,
       "version_minor": 0
      },
      "text/plain": [
       "대전_RNN:   0%|          | 0/72 [00:00<?, ?it/s]"
      ]
     },
     "metadata": {},
     "output_type": "display_data"
    },
    {
     "data": {
      "application/vnd.jupyter.widget-view+json": {
       "model_id": "bf66a94be76d4b03b9f372a33bd95c5a",
       "version_major": 2,
       "version_minor": 0
      },
      "text/plain": [
       "대전_LSTM:   0%|          | 0/72 [00:00<?, ?it/s]"
      ]
     },
     "metadata": {},
     "output_type": "display_data"
    },
    {
     "data": {
      "application/vnd.jupyter.widget-view+json": {
       "model_id": "fb2f93d503414b1ead98fdc2fe565928",
       "version_major": 2,
       "version_minor": 0
      },
      "text/plain": [
       "대전_GRU:   0%|          | 0/72 [00:00<?, ?it/s]"
      ]
     },
     "metadata": {},
     "output_type": "display_data"
    },
    {
     "data": {
      "application/vnd.jupyter.widget-view+json": {
       "model_id": "30d8ec44ee2e447c8b22a929eda055ee",
       "version_major": 2,
       "version_minor": 0
      },
      "text/plain": [
       "대전_BiRNN:   0%|          | 0/72 [00:00<?, ?it/s]"
      ]
     },
     "metadata": {},
     "output_type": "display_data"
    },
    {
     "data": {
      "application/vnd.jupyter.widget-view+json": {
       "model_id": "9c577036cfee4f899424b1d42beb6519",
       "version_major": 2,
       "version_minor": 0
      },
      "text/plain": [
       "대전_BiLSTM:   0%|          | 0/72 [00:00<?, ?it/s]"
      ]
     },
     "metadata": {},
     "output_type": "display_data"
    },
    {
     "data": {
      "application/vnd.jupyter.widget-view+json": {
       "model_id": "0aa5e1ee0fb041d89387ca7eb51484cd",
       "version_major": 2,
       "version_minor": 0
      },
      "text/plain": [
       "대전_BiGRU:   0%|          | 0/72 [00:00<?, ?it/s]"
      ]
     },
     "metadata": {},
     "output_type": "display_data"
    },
    {
     "data": {
      "application/vnd.jupyter.widget-view+json": {
       "model_id": "2f193e55cc01417fa08a48529920bb7a",
       "version_major": 2,
       "version_minor": 0
      },
      "text/plain": [
       "대전_seq2seq_RNN:   0%|          | 0/72 [00:00<?, ?it/s]"
      ]
     },
     "metadata": {},
     "output_type": "display_data"
    },
    {
     "data": {
      "application/vnd.jupyter.widget-view+json": {
       "model_id": "038409d9b4984ad9b6186c15a1a5704c",
       "version_major": 2,
       "version_minor": 0
      },
      "text/plain": [
       "대전_seq2seq_LSTM:   0%|          | 0/72 [00:00<?, ?it/s]"
      ]
     },
     "metadata": {},
     "output_type": "display_data"
    },
    {
     "data": {
      "application/vnd.jupyter.widget-view+json": {
       "model_id": "f96bbd4580104d9aba4425f063aa5f6e",
       "version_major": 2,
       "version_minor": 0
      },
      "text/plain": [
       "대전_seq2seq_GRU:   0%|          | 0/72 [00:00<?, ?it/s]"
      ]
     },
     "metadata": {},
     "output_type": "display_data"
    },
    {
     "data": {
      "application/vnd.jupyter.widget-view+json": {
       "model_id": "01a29a9e9a7b4c6ab4a77871b2202abf",
       "version_major": 2,
       "version_minor": 0
      },
      "text/plain": [
       "대전_seq2seq_BiRNN:   0%|          | 0/72 [00:00<?, ?it/s]"
      ]
     },
     "metadata": {},
     "output_type": "display_data"
    },
    {
     "data": {
      "application/vnd.jupyter.widget-view+json": {
       "model_id": "0dc47e7fd0ab4d2fb7b8498282970549",
       "version_major": 2,
       "version_minor": 0
      },
      "text/plain": [
       "대전_seq2seq_BiLSTM:   0%|          | 0/72 [00:00<?, ?it/s]"
      ]
     },
     "metadata": {},
     "output_type": "display_data"
    },
    {
     "data": {
      "application/vnd.jupyter.widget-view+json": {
       "model_id": "dfd6a74cc14f4e5892bb04d6b8f175d6",
       "version_major": 2,
       "version_minor": 0
      },
      "text/plain": [
       "대전_seq2seq_BiGRU:   0%|          | 0/72 [00:00<?, ?it/s]"
      ]
     },
     "metadata": {},
     "output_type": "display_data"
    },
    {
     "data": {
      "application/vnd.jupyter.widget-view+json": {
       "model_id": "57b4813ac0a948aab9c753cf51295411",
       "version_major": 2,
       "version_minor": 0
      },
      "text/plain": [
       "부산:   0%|          | 0/12 [00:00<?, ?it/s]"
      ]
     },
     "metadata": {},
     "output_type": "display_data"
    },
    {
     "data": {
      "application/vnd.jupyter.widget-view+json": {
       "model_id": "6b59ec80cc5b4484bed45339ade5469c",
       "version_major": 2,
       "version_minor": 0
      },
      "text/plain": [
       "부산_RNN:   0%|          | 0/72 [00:00<?, ?it/s]"
      ]
     },
     "metadata": {},
     "output_type": "display_data"
    },
    {
     "data": {
      "application/vnd.jupyter.widget-view+json": {
       "model_id": "496e15eb548c4a958426ffcda08c5e98",
       "version_major": 2,
       "version_minor": 0
      },
      "text/plain": [
       "부산_LSTM:   0%|          | 0/72 [00:00<?, ?it/s]"
      ]
     },
     "metadata": {},
     "output_type": "display_data"
    },
    {
     "data": {
      "application/vnd.jupyter.widget-view+json": {
       "model_id": "c15f5331be0e43b89b802c43c18c004f",
       "version_major": 2,
       "version_minor": 0
      },
      "text/plain": [
       "부산_GRU:   0%|          | 0/72 [00:00<?, ?it/s]"
      ]
     },
     "metadata": {},
     "output_type": "display_data"
    },
    {
     "data": {
      "application/vnd.jupyter.widget-view+json": {
       "model_id": "9923211907074f3da4cfc9cbf47446c9",
       "version_major": 2,
       "version_minor": 0
      },
      "text/plain": [
       "부산_BiRNN:   0%|          | 0/72 [00:00<?, ?it/s]"
      ]
     },
     "metadata": {},
     "output_type": "display_data"
    },
    {
     "data": {
      "application/vnd.jupyter.widget-view+json": {
       "model_id": "237c2b6bdf794d298e45d0bf7ca45b15",
       "version_major": 2,
       "version_minor": 0
      },
      "text/plain": [
       "부산_BiLSTM:   0%|          | 0/72 [00:00<?, ?it/s]"
      ]
     },
     "metadata": {},
     "output_type": "display_data"
    },
    {
     "data": {
      "application/vnd.jupyter.widget-view+json": {
       "model_id": "84c3b31f588e40a4ac6db7971fb649a8",
       "version_major": 2,
       "version_minor": 0
      },
      "text/plain": [
       "부산_BiGRU:   0%|          | 0/72 [00:00<?, ?it/s]"
      ]
     },
     "metadata": {},
     "output_type": "display_data"
    },
    {
     "data": {
      "application/vnd.jupyter.widget-view+json": {
       "model_id": "a99fdb00f98b4da195bd84b501282ec6",
       "version_major": 2,
       "version_minor": 0
      },
      "text/plain": [
       "부산_seq2seq_RNN:   0%|          | 0/72 [00:00<?, ?it/s]"
      ]
     },
     "metadata": {},
     "output_type": "display_data"
    },
    {
     "data": {
      "application/vnd.jupyter.widget-view+json": {
       "model_id": "0d97e63c3ec2437aaa64d18f726218e3",
       "version_major": 2,
       "version_minor": 0
      },
      "text/plain": [
       "부산_seq2seq_LSTM:   0%|          | 0/72 [00:00<?, ?it/s]"
      ]
     },
     "metadata": {},
     "output_type": "display_data"
    },
    {
     "data": {
      "application/vnd.jupyter.widget-view+json": {
       "model_id": "e9a0534d2ec147ba870b5d8332d14696",
       "version_major": 2,
       "version_minor": 0
      },
      "text/plain": [
       "부산_seq2seq_GRU:   0%|          | 0/72 [00:00<?, ?it/s]"
      ]
     },
     "metadata": {},
     "output_type": "display_data"
    },
    {
     "data": {
      "application/vnd.jupyter.widget-view+json": {
       "model_id": "e7b7d85e34a647608c8c54476b1759cb",
       "version_major": 2,
       "version_minor": 0
      },
      "text/plain": [
       "부산_seq2seq_BiRNN:   0%|          | 0/72 [00:00<?, ?it/s]"
      ]
     },
     "metadata": {},
     "output_type": "display_data"
    },
    {
     "data": {
      "application/vnd.jupyter.widget-view+json": {
       "model_id": "9ce3f5f45aa64fb5bd45c5f692d64d0f",
       "version_major": 2,
       "version_minor": 0
      },
      "text/plain": [
       "부산_seq2seq_BiLSTM:   0%|          | 0/72 [00:00<?, ?it/s]"
      ]
     },
     "metadata": {},
     "output_type": "display_data"
    },
    {
     "data": {
      "application/vnd.jupyter.widget-view+json": {
       "model_id": "83e3c0cb9d0e4ad2a59f5f253f506fb3",
       "version_major": 2,
       "version_minor": 0
      },
      "text/plain": [
       "부산_seq2seq_BiGRU:   0%|          | 0/72 [00:00<?, ?it/s]"
      ]
     },
     "metadata": {},
     "output_type": "display_data"
    },
    {
     "data": {
      "application/vnd.jupyter.widget-view+json": {
       "model_id": "a77fc238d55a479fb4ef95685511b202",
       "version_major": 2,
       "version_minor": 0
      },
      "text/plain": [
       "서울:   0%|          | 0/12 [00:00<?, ?it/s]"
      ]
     },
     "metadata": {},
     "output_type": "display_data"
    },
    {
     "data": {
      "application/vnd.jupyter.widget-view+json": {
       "model_id": "73395673822840489ae3b5916362f477",
       "version_major": 2,
       "version_minor": 0
      },
      "text/plain": [
       "서울_RNN:   0%|          | 0/72 [00:00<?, ?it/s]"
      ]
     },
     "metadata": {},
     "output_type": "display_data"
    },
    {
     "data": {
      "application/vnd.jupyter.widget-view+json": {
       "model_id": "58441de752d44091b1db0e3d2bbdf1b7",
       "version_major": 2,
       "version_minor": 0
      },
      "text/plain": [
       "서울_LSTM:   0%|          | 0/72 [00:00<?, ?it/s]"
      ]
     },
     "metadata": {},
     "output_type": "display_data"
    },
    {
     "data": {
      "application/vnd.jupyter.widget-view+json": {
       "model_id": "3811cf02232b42e09eb3e5e8fe301675",
       "version_major": 2,
       "version_minor": 0
      },
      "text/plain": [
       "서울_GRU:   0%|          | 0/72 [00:00<?, ?it/s]"
      ]
     },
     "metadata": {},
     "output_type": "display_data"
    },
    {
     "data": {
      "application/vnd.jupyter.widget-view+json": {
       "model_id": "a883709bc3004b10b9bed1fa257c5f97",
       "version_major": 2,
       "version_minor": 0
      },
      "text/plain": [
       "서울_BiRNN:   0%|          | 0/72 [00:00<?, ?it/s]"
      ]
     },
     "metadata": {},
     "output_type": "display_data"
    },
    {
     "data": {
      "application/vnd.jupyter.widget-view+json": {
       "model_id": "3c9f3b2bd1dc42d2a39d21ee2f59df83",
       "version_major": 2,
       "version_minor": 0
      },
      "text/plain": [
       "서울_BiLSTM:   0%|          | 0/72 [00:00<?, ?it/s]"
      ]
     },
     "metadata": {},
     "output_type": "display_data"
    },
    {
     "data": {
      "application/vnd.jupyter.widget-view+json": {
       "model_id": "facbb69a6a0a41be819ca15274b37792",
       "version_major": 2,
       "version_minor": 0
      },
      "text/plain": [
       "서울_BiGRU:   0%|          | 0/72 [00:00<?, ?it/s]"
      ]
     },
     "metadata": {},
     "output_type": "display_data"
    },
    {
     "data": {
      "application/vnd.jupyter.widget-view+json": {
       "model_id": "bd0e0577953f44cfa059ab431cbf3490",
       "version_major": 2,
       "version_minor": 0
      },
      "text/plain": [
       "서울_seq2seq_RNN:   0%|          | 0/72 [00:00<?, ?it/s]"
      ]
     },
     "metadata": {},
     "output_type": "display_data"
    },
    {
     "data": {
      "application/vnd.jupyter.widget-view+json": {
       "model_id": "10cb0f9d09bd4a22aa883f453c493708",
       "version_major": 2,
       "version_minor": 0
      },
      "text/plain": [
       "서울_seq2seq_LSTM:   0%|          | 0/72 [00:00<?, ?it/s]"
      ]
     },
     "metadata": {},
     "output_type": "display_data"
    },
    {
     "data": {
      "application/vnd.jupyter.widget-view+json": {
       "model_id": "ba664d3f98e549b2a31cb5feadf0d848",
       "version_major": 2,
       "version_minor": 0
      },
      "text/plain": [
       "서울_seq2seq_GRU:   0%|          | 0/72 [00:00<?, ?it/s]"
      ]
     },
     "metadata": {},
     "output_type": "display_data"
    },
    {
     "data": {
      "application/vnd.jupyter.widget-view+json": {
       "model_id": "043c1b8c57664530b97ebde663ed7643",
       "version_major": 2,
       "version_minor": 0
      },
      "text/plain": [
       "서울_seq2seq_BiRNN:   0%|          | 0/72 [00:00<?, ?it/s]"
      ]
     },
     "metadata": {},
     "output_type": "display_data"
    },
    {
     "data": {
      "application/vnd.jupyter.widget-view+json": {
       "model_id": "5be4dfbf55ca4dd78a403015837d7598",
       "version_major": 2,
       "version_minor": 0
      },
      "text/plain": [
       "서울_seq2seq_BiLSTM:   0%|          | 0/72 [00:00<?, ?it/s]"
      ]
     },
     "metadata": {},
     "output_type": "display_data"
    },
    {
     "data": {
      "application/vnd.jupyter.widget-view+json": {
       "model_id": "35c68468f5984bc1ab36ac96835907f2",
       "version_major": 2,
       "version_minor": 0
      },
      "text/plain": [
       "서울_seq2seq_BiGRU:   0%|          | 0/72 [00:00<?, ?it/s]"
      ]
     },
     "metadata": {},
     "output_type": "display_data"
    },
    {
     "data": {
      "application/vnd.jupyter.widget-view+json": {
       "model_id": "8ccaae65ecb14149860762f217965740",
       "version_major": 2,
       "version_minor": 0
      },
      "text/plain": [
       "세종:   0%|          | 0/12 [00:00<?, ?it/s]"
      ]
     },
     "metadata": {},
     "output_type": "display_data"
    },
    {
     "data": {
      "application/vnd.jupyter.widget-view+json": {
       "model_id": "2d7bc822c522437bb9dfc18cf57bd70b",
       "version_major": 2,
       "version_minor": 0
      },
      "text/plain": [
       "세종_RNN:   0%|          | 0/72 [00:00<?, ?it/s]"
      ]
     },
     "metadata": {},
     "output_type": "display_data"
    },
    {
     "data": {
      "application/vnd.jupyter.widget-view+json": {
       "model_id": "61cc3fd2121f4445a4613d3191e1c580",
       "version_major": 2,
       "version_minor": 0
      },
      "text/plain": [
       "세종_LSTM:   0%|          | 0/72 [00:00<?, ?it/s]"
      ]
     },
     "metadata": {},
     "output_type": "display_data"
    },
    {
     "data": {
      "application/vnd.jupyter.widget-view+json": {
       "model_id": "54c99d0f27ce4cae9971a9c0acde4d6b",
       "version_major": 2,
       "version_minor": 0
      },
      "text/plain": [
       "세종_GRU:   0%|          | 0/72 [00:00<?, ?it/s]"
      ]
     },
     "metadata": {},
     "output_type": "display_data"
    },
    {
     "data": {
      "application/vnd.jupyter.widget-view+json": {
       "model_id": "928c413074794127939876e4e8381eb4",
       "version_major": 2,
       "version_minor": 0
      },
      "text/plain": [
       "세종_BiRNN:   0%|          | 0/72 [00:00<?, ?it/s]"
      ]
     },
     "metadata": {},
     "output_type": "display_data"
    },
    {
     "data": {
      "application/vnd.jupyter.widget-view+json": {
       "model_id": "8f525c7606ae467e9a618dafb1745624",
       "version_major": 2,
       "version_minor": 0
      },
      "text/plain": [
       "세종_BiLSTM:   0%|          | 0/72 [00:00<?, ?it/s]"
      ]
     },
     "metadata": {},
     "output_type": "display_data"
    },
    {
     "data": {
      "application/vnd.jupyter.widget-view+json": {
       "model_id": "136e14329e51475aa1bf8417406adeea",
       "version_major": 2,
       "version_minor": 0
      },
      "text/plain": [
       "세종_BiGRU:   0%|          | 0/72 [00:00<?, ?it/s]"
      ]
     },
     "metadata": {},
     "output_type": "display_data"
    },
    {
     "data": {
      "application/vnd.jupyter.widget-view+json": {
       "model_id": "306f69f6cded46a2a935f9184b514091",
       "version_major": 2,
       "version_minor": 0
      },
      "text/plain": [
       "세종_seq2seq_RNN:   0%|          | 0/72 [00:00<?, ?it/s]"
      ]
     },
     "metadata": {},
     "output_type": "display_data"
    },
    {
     "data": {
      "application/vnd.jupyter.widget-view+json": {
       "model_id": "be2eba75347e4adb8c29f91c1e37f6e8",
       "version_major": 2,
       "version_minor": 0
      },
      "text/plain": [
       "세종_seq2seq_LSTM:   0%|          | 0/72 [00:00<?, ?it/s]"
      ]
     },
     "metadata": {},
     "output_type": "display_data"
    },
    {
     "data": {
      "application/vnd.jupyter.widget-view+json": {
       "model_id": "c6f6bcb319b94be58172a6f289d1c324",
       "version_major": 2,
       "version_minor": 0
      },
      "text/plain": [
       "세종_seq2seq_GRU:   0%|          | 0/72 [00:00<?, ?it/s]"
      ]
     },
     "metadata": {},
     "output_type": "display_data"
    },
    {
     "data": {
      "application/vnd.jupyter.widget-view+json": {
       "model_id": "0c10068ac1d34b57b500f79e83e46e65",
       "version_major": 2,
       "version_minor": 0
      },
      "text/plain": [
       "세종_seq2seq_BiRNN:   0%|          | 0/72 [00:00<?, ?it/s]"
      ]
     },
     "metadata": {},
     "output_type": "display_data"
    },
    {
     "data": {
      "application/vnd.jupyter.widget-view+json": {
       "model_id": "272fb0153aa448749aab48b3c76438ee",
       "version_major": 2,
       "version_minor": 0
      },
      "text/plain": [
       "세종_seq2seq_BiLSTM:   0%|          | 0/72 [00:00<?, ?it/s]"
      ]
     },
     "metadata": {},
     "output_type": "display_data"
    },
    {
     "data": {
      "application/vnd.jupyter.widget-view+json": {
       "model_id": "05006db4247b4b1fa9d9dd3967c003eb",
       "version_major": 2,
       "version_minor": 0
      },
      "text/plain": [
       "세종_seq2seq_BiGRU:   0%|          | 0/72 [00:00<?, ?it/s]"
      ]
     },
     "metadata": {},
     "output_type": "display_data"
    },
    {
     "data": {
      "application/vnd.jupyter.widget-view+json": {
       "model_id": "a1857ba74c8740ff8cb7421028b5ad3d",
       "version_major": 2,
       "version_minor": 0
      },
      "text/plain": [
       "울산:   0%|          | 0/12 [00:00<?, ?it/s]"
      ]
     },
     "metadata": {},
     "output_type": "display_data"
    },
    {
     "data": {
      "application/vnd.jupyter.widget-view+json": {
       "model_id": "058f1542b3f04320a2dd9201fc1e8e5f",
       "version_major": 2,
       "version_minor": 0
      },
      "text/plain": [
       "울산_RNN:   0%|          | 0/72 [00:00<?, ?it/s]"
      ]
     },
     "metadata": {},
     "output_type": "display_data"
    },
    {
     "data": {
      "application/vnd.jupyter.widget-view+json": {
       "model_id": "cc8a55750dc4432f92cca14542ab7ca3",
       "version_major": 2,
       "version_minor": 0
      },
      "text/plain": [
       "울산_LSTM:   0%|          | 0/72 [00:00<?, ?it/s]"
      ]
     },
     "metadata": {},
     "output_type": "display_data"
    },
    {
     "data": {
      "application/vnd.jupyter.widget-view+json": {
       "model_id": "452b90da2e4643bea265ae55f1725303",
       "version_major": 2,
       "version_minor": 0
      },
      "text/plain": [
       "울산_GRU:   0%|          | 0/72 [00:00<?, ?it/s]"
      ]
     },
     "metadata": {},
     "output_type": "display_data"
    },
    {
     "data": {
      "application/vnd.jupyter.widget-view+json": {
       "model_id": "f94a6946bfdb4e9093dc237db53d3197",
       "version_major": 2,
       "version_minor": 0
      },
      "text/plain": [
       "울산_BiRNN:   0%|          | 0/72 [00:00<?, ?it/s]"
      ]
     },
     "metadata": {},
     "output_type": "display_data"
    },
    {
     "data": {
      "application/vnd.jupyter.widget-view+json": {
       "model_id": "87b8023cf39840c4b769182b65951a1c",
       "version_major": 2,
       "version_minor": 0
      },
      "text/plain": [
       "울산_BiLSTM:   0%|          | 0/72 [00:00<?, ?it/s]"
      ]
     },
     "metadata": {},
     "output_type": "display_data"
    },
    {
     "data": {
      "application/vnd.jupyter.widget-view+json": {
       "model_id": "a73ad88e8ba74fcab13a48325de3183c",
       "version_major": 2,
       "version_minor": 0
      },
      "text/plain": [
       "울산_BiGRU:   0%|          | 0/72 [00:00<?, ?it/s]"
      ]
     },
     "metadata": {},
     "output_type": "display_data"
    },
    {
     "data": {
      "application/vnd.jupyter.widget-view+json": {
       "model_id": "3fa2aa8c6fee4b909687379fe14a30db",
       "version_major": 2,
       "version_minor": 0
      },
      "text/plain": [
       "울산_seq2seq_RNN:   0%|          | 0/72 [00:00<?, ?it/s]"
      ]
     },
     "metadata": {},
     "output_type": "display_data"
    },
    {
     "data": {
      "application/vnd.jupyter.widget-view+json": {
       "model_id": "791a9bef113840549a888baeff8d7b01",
       "version_major": 2,
       "version_minor": 0
      },
      "text/plain": [
       "울산_seq2seq_LSTM:   0%|          | 0/72 [00:00<?, ?it/s]"
      ]
     },
     "metadata": {},
     "output_type": "display_data"
    },
    {
     "data": {
      "application/vnd.jupyter.widget-view+json": {
       "model_id": "c85d9a82c43c461d8568a691d6ce76f0",
       "version_major": 2,
       "version_minor": 0
      },
      "text/plain": [
       "울산_seq2seq_GRU:   0%|          | 0/72 [00:00<?, ?it/s]"
      ]
     },
     "metadata": {},
     "output_type": "display_data"
    },
    {
     "data": {
      "application/vnd.jupyter.widget-view+json": {
       "model_id": "00c4bbad4c4e4039a3432efddbddb999",
       "version_major": 2,
       "version_minor": 0
      },
      "text/plain": [
       "울산_seq2seq_BiRNN:   0%|          | 0/72 [00:00<?, ?it/s]"
      ]
     },
     "metadata": {},
     "output_type": "display_data"
    },
    {
     "data": {
      "application/vnd.jupyter.widget-view+json": {
       "model_id": "de739a34da25420b9bf9896e849f1196",
       "version_major": 2,
       "version_minor": 0
      },
      "text/plain": [
       "울산_seq2seq_BiLSTM:   0%|          | 0/72 [00:00<?, ?it/s]"
      ]
     },
     "metadata": {},
     "output_type": "display_data"
    },
    {
     "data": {
      "application/vnd.jupyter.widget-view+json": {
       "model_id": "e85cc40dd0594933ba672b5409abad1d",
       "version_major": 2,
       "version_minor": 0
      },
      "text/plain": [
       "울산_seq2seq_BiGRU:   0%|          | 0/72 [00:00<?, ?it/s]"
      ]
     },
     "metadata": {},
     "output_type": "display_data"
    },
    {
     "data": {
      "application/vnd.jupyter.widget-view+json": {
       "model_id": "1128f41f7ef44ee28719fa79987f5f70",
       "version_major": 2,
       "version_minor": 0
      },
      "text/plain": [
       "인천:   0%|          | 0/12 [00:00<?, ?it/s]"
      ]
     },
     "metadata": {},
     "output_type": "display_data"
    },
    {
     "data": {
      "application/vnd.jupyter.widget-view+json": {
       "model_id": "f4c953e28484403e8a9bf776c85e470b",
       "version_major": 2,
       "version_minor": 0
      },
      "text/plain": [
       "인천_RNN:   0%|          | 0/72 [00:00<?, ?it/s]"
      ]
     },
     "metadata": {},
     "output_type": "display_data"
    },
    {
     "data": {
      "application/vnd.jupyter.widget-view+json": {
       "model_id": "aa9233ec4b9c42779d14955ddd9b33e0",
       "version_major": 2,
       "version_minor": 0
      },
      "text/plain": [
       "인천_LSTM:   0%|          | 0/72 [00:00<?, ?it/s]"
      ]
     },
     "metadata": {},
     "output_type": "display_data"
    },
    {
     "data": {
      "application/vnd.jupyter.widget-view+json": {
       "model_id": "325e48ef0d694368ab993567d67ed67f",
       "version_major": 2,
       "version_minor": 0
      },
      "text/plain": [
       "인천_GRU:   0%|          | 0/72 [00:00<?, ?it/s]"
      ]
     },
     "metadata": {},
     "output_type": "display_data"
    },
    {
     "data": {
      "application/vnd.jupyter.widget-view+json": {
       "model_id": "02de7be9967644b292736b5f66d89d1e",
       "version_major": 2,
       "version_minor": 0
      },
      "text/plain": [
       "인천_BiRNN:   0%|          | 0/72 [00:00<?, ?it/s]"
      ]
     },
     "metadata": {},
     "output_type": "display_data"
    },
    {
     "data": {
      "application/vnd.jupyter.widget-view+json": {
       "model_id": "8f0a1bcdde424dceb35995ee234d27ef",
       "version_major": 2,
       "version_minor": 0
      },
      "text/plain": [
       "인천_BiLSTM:   0%|          | 0/72 [00:00<?, ?it/s]"
      ]
     },
     "metadata": {},
     "output_type": "display_data"
    },
    {
     "data": {
      "application/vnd.jupyter.widget-view+json": {
       "model_id": "4404d0de7844466aa3a23eaa6c62a03a",
       "version_major": 2,
       "version_minor": 0
      },
      "text/plain": [
       "인천_BiGRU:   0%|          | 0/72 [00:00<?, ?it/s]"
      ]
     },
     "metadata": {},
     "output_type": "display_data"
    },
    {
     "data": {
      "application/vnd.jupyter.widget-view+json": {
       "model_id": "4d040643eb21485d87f757a47ddbed1b",
       "version_major": 2,
       "version_minor": 0
      },
      "text/plain": [
       "인천_seq2seq_RNN:   0%|          | 0/72 [00:00<?, ?it/s]"
      ]
     },
     "metadata": {},
     "output_type": "display_data"
    },
    {
     "data": {
      "application/vnd.jupyter.widget-view+json": {
       "model_id": "ebd085124f114721a6c9cad791be97b3",
       "version_major": 2,
       "version_minor": 0
      },
      "text/plain": [
       "인천_seq2seq_LSTM:   0%|          | 0/72 [00:00<?, ?it/s]"
      ]
     },
     "metadata": {},
     "output_type": "display_data"
    },
    {
     "data": {
      "application/vnd.jupyter.widget-view+json": {
       "model_id": "0cac7c37e3224981a17633472ae3fcd9",
       "version_major": 2,
       "version_minor": 0
      },
      "text/plain": [
       "인천_seq2seq_GRU:   0%|          | 0/72 [00:00<?, ?it/s]"
      ]
     },
     "metadata": {},
     "output_type": "display_data"
    },
    {
     "data": {
      "application/vnd.jupyter.widget-view+json": {
       "model_id": "374ab7d7934b45568a8415239024ac8f",
       "version_major": 2,
       "version_minor": 0
      },
      "text/plain": [
       "인천_seq2seq_BiRNN:   0%|          | 0/72 [00:00<?, ?it/s]"
      ]
     },
     "metadata": {},
     "output_type": "display_data"
    },
    {
     "data": {
      "application/vnd.jupyter.widget-view+json": {
       "model_id": "a1668f2b9ba44971bcfa39c55c6679fb",
       "version_major": 2,
       "version_minor": 0
      },
      "text/plain": [
       "인천_seq2seq_BiLSTM:   0%|          | 0/72 [00:00<?, ?it/s]"
      ]
     },
     "metadata": {},
     "output_type": "display_data"
    },
    {
     "data": {
      "application/vnd.jupyter.widget-view+json": {
       "model_id": "36b16e9d087b40fabe882ad6a8f2d96a",
       "version_major": 2,
       "version_minor": 0
      },
      "text/plain": [
       "인천_seq2seq_BiGRU:   0%|          | 0/72 [00:00<?, ?it/s]"
      ]
     },
     "metadata": {},
     "output_type": "display_data"
    },
    {
     "data": {
      "application/vnd.jupyter.widget-view+json": {
       "model_id": "23de3f45d855464d87909a209f337313",
       "version_major": 2,
       "version_minor": 0
      },
      "text/plain": [
       "전남:   0%|          | 0/12 [00:00<?, ?it/s]"
      ]
     },
     "metadata": {},
     "output_type": "display_data"
    },
    {
     "data": {
      "application/vnd.jupyter.widget-view+json": {
       "model_id": "90e121abcd5a4783999d27ee7eed2ccf",
       "version_major": 2,
       "version_minor": 0
      },
      "text/plain": [
       "전남_RNN:   0%|          | 0/72 [00:00<?, ?it/s]"
      ]
     },
     "metadata": {},
     "output_type": "display_data"
    },
    {
     "data": {
      "application/vnd.jupyter.widget-view+json": {
       "model_id": "8f657a9fb1554887b8d7ff1ed8ff4036",
       "version_major": 2,
       "version_minor": 0
      },
      "text/plain": [
       "전남_LSTM:   0%|          | 0/72 [00:00<?, ?it/s]"
      ]
     },
     "metadata": {},
     "output_type": "display_data"
    },
    {
     "data": {
      "application/vnd.jupyter.widget-view+json": {
       "model_id": "544f0e13965e4ce49799b0f97d45ef1c",
       "version_major": 2,
       "version_minor": 0
      },
      "text/plain": [
       "전남_GRU:   0%|          | 0/72 [00:00<?, ?it/s]"
      ]
     },
     "metadata": {},
     "output_type": "display_data"
    },
    {
     "data": {
      "application/vnd.jupyter.widget-view+json": {
       "model_id": "349e527a52d044f09ffceb4989c58890",
       "version_major": 2,
       "version_minor": 0
      },
      "text/plain": [
       "전남_BiRNN:   0%|          | 0/72 [00:00<?, ?it/s]"
      ]
     },
     "metadata": {},
     "output_type": "display_data"
    },
    {
     "data": {
      "application/vnd.jupyter.widget-view+json": {
       "model_id": "1012838c40964e6daefed60ba7c63dea",
       "version_major": 2,
       "version_minor": 0
      },
      "text/plain": [
       "전남_BiLSTM:   0%|          | 0/72 [00:00<?, ?it/s]"
      ]
     },
     "metadata": {},
     "output_type": "display_data"
    },
    {
     "data": {
      "application/vnd.jupyter.widget-view+json": {
       "model_id": "aa5956d4181048f08326993b9803e272",
       "version_major": 2,
       "version_minor": 0
      },
      "text/plain": [
       "전남_BiGRU:   0%|          | 0/72 [00:00<?, ?it/s]"
      ]
     },
     "metadata": {},
     "output_type": "display_data"
    },
    {
     "data": {
      "application/vnd.jupyter.widget-view+json": {
       "model_id": "c1089fc174c241669e358fd28504f74a",
       "version_major": 2,
       "version_minor": 0
      },
      "text/plain": [
       "전남_seq2seq_RNN:   0%|          | 0/72 [00:00<?, ?it/s]"
      ]
     },
     "metadata": {},
     "output_type": "display_data"
    },
    {
     "data": {
      "application/vnd.jupyter.widget-view+json": {
       "model_id": "c436c351d2754d35bebb662c7f18a1aa",
       "version_major": 2,
       "version_minor": 0
      },
      "text/plain": [
       "전남_seq2seq_LSTM:   0%|          | 0/72 [00:00<?, ?it/s]"
      ]
     },
     "metadata": {},
     "output_type": "display_data"
    },
    {
     "data": {
      "application/vnd.jupyter.widget-view+json": {
       "model_id": "3a2095cc8fd64583893975320c391f4b",
       "version_major": 2,
       "version_minor": 0
      },
      "text/plain": [
       "전남_seq2seq_GRU:   0%|          | 0/72 [00:00<?, ?it/s]"
      ]
     },
     "metadata": {},
     "output_type": "display_data"
    },
    {
     "data": {
      "application/vnd.jupyter.widget-view+json": {
       "model_id": "a058c3ec25114ccf8b80c624294b3bd8",
       "version_major": 2,
       "version_minor": 0
      },
      "text/plain": [
       "전남_seq2seq_BiRNN:   0%|          | 0/72 [00:00<?, ?it/s]"
      ]
     },
     "metadata": {},
     "output_type": "display_data"
    },
    {
     "data": {
      "application/vnd.jupyter.widget-view+json": {
       "model_id": "4fe0a02d8a6642a7b2a97ee611839347",
       "version_major": 2,
       "version_minor": 0
      },
      "text/plain": [
       "전남_seq2seq_BiLSTM:   0%|          | 0/72 [00:00<?, ?it/s]"
      ]
     },
     "metadata": {},
     "output_type": "display_data"
    },
    {
     "data": {
      "application/vnd.jupyter.widget-view+json": {
       "model_id": "c862b556387b4f2f881b6df83d9c83a5",
       "version_major": 2,
       "version_minor": 0
      },
      "text/plain": [
       "전남_seq2seq_BiGRU:   0%|          | 0/72 [00:00<?, ?it/s]"
      ]
     },
     "metadata": {},
     "output_type": "display_data"
    },
    {
     "data": {
      "application/vnd.jupyter.widget-view+json": {
       "model_id": "4c617e2f3a6d450b9af57d85b737b0ed",
       "version_major": 2,
       "version_minor": 0
      },
      "text/plain": [
       "전북:   0%|          | 0/12 [00:00<?, ?it/s]"
      ]
     },
     "metadata": {},
     "output_type": "display_data"
    },
    {
     "data": {
      "application/vnd.jupyter.widget-view+json": {
       "model_id": "c0820924c5e04812a3ed5023a5a0bc51",
       "version_major": 2,
       "version_minor": 0
      },
      "text/plain": [
       "전북_RNN:   0%|          | 0/72 [00:00<?, ?it/s]"
      ]
     },
     "metadata": {},
     "output_type": "display_data"
    },
    {
     "data": {
      "application/vnd.jupyter.widget-view+json": {
       "model_id": "4a7357ff0cfe48b1a698184da97ec196",
       "version_major": 2,
       "version_minor": 0
      },
      "text/plain": [
       "전북_LSTM:   0%|          | 0/72 [00:00<?, ?it/s]"
      ]
     },
     "metadata": {},
     "output_type": "display_data"
    },
    {
     "data": {
      "application/vnd.jupyter.widget-view+json": {
       "model_id": "30165a82e67b4cc9a80b944408eb430f",
       "version_major": 2,
       "version_minor": 0
      },
      "text/plain": [
       "전북_GRU:   0%|          | 0/72 [00:00<?, ?it/s]"
      ]
     },
     "metadata": {},
     "output_type": "display_data"
    },
    {
     "data": {
      "application/vnd.jupyter.widget-view+json": {
       "model_id": "a8316ea11dd04dbd8528e65bc298e71a",
       "version_major": 2,
       "version_minor": 0
      },
      "text/plain": [
       "전북_BiRNN:   0%|          | 0/72 [00:00<?, ?it/s]"
      ]
     },
     "metadata": {},
     "output_type": "display_data"
    },
    {
     "data": {
      "application/vnd.jupyter.widget-view+json": {
       "model_id": "70a86a010a8041dcb520a1bbab1d7606",
       "version_major": 2,
       "version_minor": 0
      },
      "text/plain": [
       "전북_BiLSTM:   0%|          | 0/72 [00:00<?, ?it/s]"
      ]
     },
     "metadata": {},
     "output_type": "display_data"
    },
    {
     "data": {
      "application/vnd.jupyter.widget-view+json": {
       "model_id": "8f7e0b8ab12e4cfdb17af910b93ec892",
       "version_major": 2,
       "version_minor": 0
      },
      "text/plain": [
       "전북_BiGRU:   0%|          | 0/72 [00:00<?, ?it/s]"
      ]
     },
     "metadata": {},
     "output_type": "display_data"
    },
    {
     "data": {
      "application/vnd.jupyter.widget-view+json": {
       "model_id": "ffaaaa899400491290dc5056c52a5f7d",
       "version_major": 2,
       "version_minor": 0
      },
      "text/plain": [
       "전북_seq2seq_RNN:   0%|          | 0/72 [00:00<?, ?it/s]"
      ]
     },
     "metadata": {},
     "output_type": "display_data"
    },
    {
     "data": {
      "application/vnd.jupyter.widget-view+json": {
       "model_id": "3c01c194422a41359e0f620e3d3751b5",
       "version_major": 2,
       "version_minor": 0
      },
      "text/plain": [
       "전북_seq2seq_LSTM:   0%|          | 0/72 [00:00<?, ?it/s]"
      ]
     },
     "metadata": {},
     "output_type": "display_data"
    },
    {
     "data": {
      "application/vnd.jupyter.widget-view+json": {
       "model_id": "0871517671ef444c85a5a723d52b0771",
       "version_major": 2,
       "version_minor": 0
      },
      "text/plain": [
       "전북_seq2seq_GRU:   0%|          | 0/72 [00:00<?, ?it/s]"
      ]
     },
     "metadata": {},
     "output_type": "display_data"
    },
    {
     "data": {
      "application/vnd.jupyter.widget-view+json": {
       "model_id": "0efb5196622e4c31838d52bf12c0945d",
       "version_major": 2,
       "version_minor": 0
      },
      "text/plain": [
       "전북_seq2seq_BiRNN:   0%|          | 0/72 [00:00<?, ?it/s]"
      ]
     },
     "metadata": {},
     "output_type": "display_data"
    },
    {
     "data": {
      "application/vnd.jupyter.widget-view+json": {
       "model_id": "e8dd6334ea224cc7a02db15a475995d5",
       "version_major": 2,
       "version_minor": 0
      },
      "text/plain": [
       "전북_seq2seq_BiLSTM:   0%|          | 0/72 [00:00<?, ?it/s]"
      ]
     },
     "metadata": {},
     "output_type": "display_data"
    },
    {
     "data": {
      "application/vnd.jupyter.widget-view+json": {
       "model_id": "88c0d208ee164ab994c20724f03824f2",
       "version_major": 2,
       "version_minor": 0
      },
      "text/plain": [
       "전북_seq2seq_BiGRU:   0%|          | 0/72 [00:00<?, ?it/s]"
      ]
     },
     "metadata": {},
     "output_type": "display_data"
    },
    {
     "data": {
      "application/vnd.jupyter.widget-view+json": {
       "model_id": "3e80bc4046614538a6cddfafc6b5bd22",
       "version_major": 2,
       "version_minor": 0
      },
      "text/plain": [
       "제주:   0%|          | 0/12 [00:00<?, ?it/s]"
      ]
     },
     "metadata": {},
     "output_type": "display_data"
    },
    {
     "data": {
      "application/vnd.jupyter.widget-view+json": {
       "model_id": "0bf1cdb9f6e349a49234afcb7ab07ead",
       "version_major": 2,
       "version_minor": 0
      },
      "text/plain": [
       "제주_RNN:   0%|          | 0/72 [00:00<?, ?it/s]"
      ]
     },
     "metadata": {},
     "output_type": "display_data"
    },
    {
     "data": {
      "application/vnd.jupyter.widget-view+json": {
       "model_id": "7978f8910b704f16baa482fece78f88e",
       "version_major": 2,
       "version_minor": 0
      },
      "text/plain": [
       "제주_LSTM:   0%|          | 0/72 [00:00<?, ?it/s]"
      ]
     },
     "metadata": {},
     "output_type": "display_data"
    },
    {
     "data": {
      "application/vnd.jupyter.widget-view+json": {
       "model_id": "4f1beae33cf141d1b260215c76822974",
       "version_major": 2,
       "version_minor": 0
      },
      "text/plain": [
       "제주_GRU:   0%|          | 0/72 [00:00<?, ?it/s]"
      ]
     },
     "metadata": {},
     "output_type": "display_data"
    },
    {
     "data": {
      "application/vnd.jupyter.widget-view+json": {
       "model_id": "8b71bd2a63f5424393d69c4d14cbae6d",
       "version_major": 2,
       "version_minor": 0
      },
      "text/plain": [
       "제주_BiRNN:   0%|          | 0/72 [00:00<?, ?it/s]"
      ]
     },
     "metadata": {},
     "output_type": "display_data"
    },
    {
     "data": {
      "application/vnd.jupyter.widget-view+json": {
       "model_id": "ac566ccdbb6f42c7b54aa8aa3fed858d",
       "version_major": 2,
       "version_minor": 0
      },
      "text/plain": [
       "제주_BiLSTM:   0%|          | 0/72 [00:00<?, ?it/s]"
      ]
     },
     "metadata": {},
     "output_type": "display_data"
    },
    {
     "data": {
      "application/vnd.jupyter.widget-view+json": {
       "model_id": "43f9347a0ce6459aba8f10073bafee8d",
       "version_major": 2,
       "version_minor": 0
      },
      "text/plain": [
       "제주_BiGRU:   0%|          | 0/72 [00:00<?, ?it/s]"
      ]
     },
     "metadata": {},
     "output_type": "display_data"
    },
    {
     "data": {
      "application/vnd.jupyter.widget-view+json": {
       "model_id": "ec4fe8659ce44e01944673a5a5275144",
       "version_major": 2,
       "version_minor": 0
      },
      "text/plain": [
       "제주_seq2seq_RNN:   0%|          | 0/72 [00:00<?, ?it/s]"
      ]
     },
     "metadata": {},
     "output_type": "display_data"
    },
    {
     "data": {
      "application/vnd.jupyter.widget-view+json": {
       "model_id": "b9ea71b6a21643e2ba6f2feed9f26e31",
       "version_major": 2,
       "version_minor": 0
      },
      "text/plain": [
       "제주_seq2seq_LSTM:   0%|          | 0/72 [00:00<?, ?it/s]"
      ]
     },
     "metadata": {},
     "output_type": "display_data"
    },
    {
     "data": {
      "application/vnd.jupyter.widget-view+json": {
       "model_id": "e40eaa69c693450baad8ee89636abe7e",
       "version_major": 2,
       "version_minor": 0
      },
      "text/plain": [
       "제주_seq2seq_GRU:   0%|          | 0/72 [00:00<?, ?it/s]"
      ]
     },
     "metadata": {},
     "output_type": "display_data"
    },
    {
     "data": {
      "application/vnd.jupyter.widget-view+json": {
       "model_id": "ffc13a3b471f4b6aae7a2e5cec487fb1",
       "version_major": 2,
       "version_minor": 0
      },
      "text/plain": [
       "제주_seq2seq_BiRNN:   0%|          | 0/72 [00:00<?, ?it/s]"
      ]
     },
     "metadata": {},
     "output_type": "display_data"
    },
    {
     "data": {
      "application/vnd.jupyter.widget-view+json": {
       "model_id": "868de71da1004b9aa04ed73102d994dc",
       "version_major": 2,
       "version_minor": 0
      },
      "text/plain": [
       "제주_seq2seq_BiLSTM:   0%|          | 0/72 [00:00<?, ?it/s]"
      ]
     },
     "metadata": {},
     "output_type": "display_data"
    },
    {
     "data": {
      "application/vnd.jupyter.widget-view+json": {
       "model_id": "6cb3a2d8bd8741f3a3876fd34394fdcd",
       "version_major": 2,
       "version_minor": 0
      },
      "text/plain": [
       "제주_seq2seq_BiGRU:   0%|          | 0/72 [00:00<?, ?it/s]"
      ]
     },
     "metadata": {},
     "output_type": "display_data"
    },
    {
     "data": {
      "application/vnd.jupyter.widget-view+json": {
       "model_id": "f59164a61e394dd99ca94bc7ef41a659",
       "version_major": 2,
       "version_minor": 0
      },
      "text/plain": [
       "충남:   0%|          | 0/12 [00:00<?, ?it/s]"
      ]
     },
     "metadata": {},
     "output_type": "display_data"
    },
    {
     "data": {
      "application/vnd.jupyter.widget-view+json": {
       "model_id": "13a7d834d24f4e51a409f2ffddbc8bf2",
       "version_major": 2,
       "version_minor": 0
      },
      "text/plain": [
       "충남_RNN:   0%|          | 0/72 [00:00<?, ?it/s]"
      ]
     },
     "metadata": {},
     "output_type": "display_data"
    },
    {
     "data": {
      "application/vnd.jupyter.widget-view+json": {
       "model_id": "218ce0049aa94e0893ca2324627f5b53",
       "version_major": 2,
       "version_minor": 0
      },
      "text/plain": [
       "충남_LSTM:   0%|          | 0/72 [00:00<?, ?it/s]"
      ]
     },
     "metadata": {},
     "output_type": "display_data"
    },
    {
     "data": {
      "application/vnd.jupyter.widget-view+json": {
       "model_id": "dbfbf089b4e74c26a9daebdc8ff3e7d8",
       "version_major": 2,
       "version_minor": 0
      },
      "text/plain": [
       "충남_GRU:   0%|          | 0/72 [00:00<?, ?it/s]"
      ]
     },
     "metadata": {},
     "output_type": "display_data"
    },
    {
     "data": {
      "application/vnd.jupyter.widget-view+json": {
       "model_id": "3573494ae14442499e7ddb78ea3c936b",
       "version_major": 2,
       "version_minor": 0
      },
      "text/plain": [
       "충남_BiRNN:   0%|          | 0/72 [00:00<?, ?it/s]"
      ]
     },
     "metadata": {},
     "output_type": "display_data"
    },
    {
     "data": {
      "application/vnd.jupyter.widget-view+json": {
       "model_id": "cbf12677dc2345f28738e8486577ea6e",
       "version_major": 2,
       "version_minor": 0
      },
      "text/plain": [
       "충남_BiLSTM:   0%|          | 0/72 [00:00<?, ?it/s]"
      ]
     },
     "metadata": {},
     "output_type": "display_data"
    },
    {
     "data": {
      "application/vnd.jupyter.widget-view+json": {
       "model_id": "16eb5db6480e4a5ab8288d788bfb66bc",
       "version_major": 2,
       "version_minor": 0
      },
      "text/plain": [
       "충남_BiGRU:   0%|          | 0/72 [00:00<?, ?it/s]"
      ]
     },
     "metadata": {},
     "output_type": "display_data"
    },
    {
     "data": {
      "application/vnd.jupyter.widget-view+json": {
       "model_id": "e066bf3730f34dfc933bf2e69ebfa440",
       "version_major": 2,
       "version_minor": 0
      },
      "text/plain": [
       "충남_seq2seq_RNN:   0%|          | 0/72 [00:00<?, ?it/s]"
      ]
     },
     "metadata": {},
     "output_type": "display_data"
    },
    {
     "data": {
      "application/vnd.jupyter.widget-view+json": {
       "model_id": "eacc0e6772674304952b2607ad738464",
       "version_major": 2,
       "version_minor": 0
      },
      "text/plain": [
       "충남_seq2seq_LSTM:   0%|          | 0/72 [00:00<?, ?it/s]"
      ]
     },
     "metadata": {},
     "output_type": "display_data"
    },
    {
     "data": {
      "application/vnd.jupyter.widget-view+json": {
       "model_id": "c61080e28b2e4f5f8ebb769a4e2bb101",
       "version_major": 2,
       "version_minor": 0
      },
      "text/plain": [
       "충남_seq2seq_GRU:   0%|          | 0/72 [00:00<?, ?it/s]"
      ]
     },
     "metadata": {},
     "output_type": "display_data"
    },
    {
     "data": {
      "application/vnd.jupyter.widget-view+json": {
       "model_id": "1485353139c24c49a6099c64edc3e78b",
       "version_major": 2,
       "version_minor": 0
      },
      "text/plain": [
       "충남_seq2seq_BiRNN:   0%|          | 0/72 [00:00<?, ?it/s]"
      ]
     },
     "metadata": {},
     "output_type": "display_data"
    },
    {
     "data": {
      "application/vnd.jupyter.widget-view+json": {
       "model_id": "25219c11ff0d462fbb1b44a535be98c5",
       "version_major": 2,
       "version_minor": 0
      },
      "text/plain": [
       "충남_seq2seq_BiLSTM:   0%|          | 0/72 [00:00<?, ?it/s]"
      ]
     },
     "metadata": {},
     "output_type": "display_data"
    },
    {
     "data": {
      "application/vnd.jupyter.widget-view+json": {
       "model_id": "18c3562868dd4294bd48b2693a0fd59a",
       "version_major": 2,
       "version_minor": 0
      },
      "text/plain": [
       "충남_seq2seq_BiGRU:   0%|          | 0/72 [00:00<?, ?it/s]"
      ]
     },
     "metadata": {},
     "output_type": "display_data"
    },
    {
     "data": {
      "application/vnd.jupyter.widget-view+json": {
       "model_id": "50b01644d6074e49a926ae1801fedaf8",
       "version_major": 2,
       "version_minor": 0
      },
      "text/plain": [
       "충북:   0%|          | 0/12 [00:00<?, ?it/s]"
      ]
     },
     "metadata": {},
     "output_type": "display_data"
    },
    {
     "data": {
      "application/vnd.jupyter.widget-view+json": {
       "model_id": "3467803bdb6547ffa1722c626a793fed",
       "version_major": 2,
       "version_minor": 0
      },
      "text/plain": [
       "충북_RNN:   0%|          | 0/72 [00:00<?, ?it/s]"
      ]
     },
     "metadata": {},
     "output_type": "display_data"
    },
    {
     "data": {
      "application/vnd.jupyter.widget-view+json": {
       "model_id": "b252b8df116d4857820ca7892d8e1ead",
       "version_major": 2,
       "version_minor": 0
      },
      "text/plain": [
       "충북_LSTM:   0%|          | 0/72 [00:00<?, ?it/s]"
      ]
     },
     "metadata": {},
     "output_type": "display_data"
    },
    {
     "data": {
      "application/vnd.jupyter.widget-view+json": {
       "model_id": "e793d929ae0241cca5d63e3df8ea8f8d",
       "version_major": 2,
       "version_minor": 0
      },
      "text/plain": [
       "충북_GRU:   0%|          | 0/72 [00:00<?, ?it/s]"
      ]
     },
     "metadata": {},
     "output_type": "display_data"
    },
    {
     "data": {
      "application/vnd.jupyter.widget-view+json": {
       "model_id": "886830f1c2b545b883e9ec73ee081540",
       "version_major": 2,
       "version_minor": 0
      },
      "text/plain": [
       "충북_BiRNN:   0%|          | 0/72 [00:00<?, ?it/s]"
      ]
     },
     "metadata": {},
     "output_type": "display_data"
    },
    {
     "data": {
      "application/vnd.jupyter.widget-view+json": {
       "model_id": "d46058fa62084f27858fb93a5ce46a52",
       "version_major": 2,
       "version_minor": 0
      },
      "text/plain": [
       "충북_BiLSTM:   0%|          | 0/72 [00:00<?, ?it/s]"
      ]
     },
     "metadata": {},
     "output_type": "display_data"
    },
    {
     "data": {
      "application/vnd.jupyter.widget-view+json": {
       "model_id": "c6986ae18fd54bcda35ad19f2797e176",
       "version_major": 2,
       "version_minor": 0
      },
      "text/plain": [
       "충북_BiGRU:   0%|          | 0/72 [00:00<?, ?it/s]"
      ]
     },
     "metadata": {},
     "output_type": "display_data"
    },
    {
     "data": {
      "application/vnd.jupyter.widget-view+json": {
       "model_id": "eb081e41e3f7401e917c9d38172797fe",
       "version_major": 2,
       "version_minor": 0
      },
      "text/plain": [
       "충북_seq2seq_RNN:   0%|          | 0/72 [00:00<?, ?it/s]"
      ]
     },
     "metadata": {},
     "output_type": "display_data"
    },
    {
     "data": {
      "application/vnd.jupyter.widget-view+json": {
       "model_id": "12f9afede178421a8ad18e154839b621",
       "version_major": 2,
       "version_minor": 0
      },
      "text/plain": [
       "충북_seq2seq_LSTM:   0%|          | 0/72 [00:00<?, ?it/s]"
      ]
     },
     "metadata": {},
     "output_type": "display_data"
    },
    {
     "data": {
      "application/vnd.jupyter.widget-view+json": {
       "model_id": "d91ab355d9034de7ac64d613e3b985f2",
       "version_major": 2,
       "version_minor": 0
      },
      "text/plain": [
       "충북_seq2seq_GRU:   0%|          | 0/72 [00:00<?, ?it/s]"
      ]
     },
     "metadata": {},
     "output_type": "display_data"
    },
    {
     "data": {
      "application/vnd.jupyter.widget-view+json": {
       "model_id": "68106f642b2745adabd252640ffdb1bb",
       "version_major": 2,
       "version_minor": 0
      },
      "text/plain": [
       "충북_seq2seq_BiRNN:   0%|          | 0/72 [00:00<?, ?it/s]"
      ]
     },
     "metadata": {},
     "output_type": "display_data"
    },
    {
     "data": {
      "application/vnd.jupyter.widget-view+json": {
       "model_id": "63e0e3be827a4ebd892fbc4d8b96b3b8",
       "version_major": 2,
       "version_minor": 0
      },
      "text/plain": [
       "충북_seq2seq_BiLSTM:   0%|          | 0/72 [00:00<?, ?it/s]"
      ]
     },
     "metadata": {},
     "output_type": "display_data"
    },
    {
     "data": {
      "application/vnd.jupyter.widget-view+json": {
       "model_id": "0a4dfb8143604e1c939e975c460d7b30",
       "version_major": 2,
       "version_minor": 0
      },
      "text/plain": [
       "충북_seq2seq_BiGRU:   0%|          | 0/72 [00:00<?, ?it/s]"
      ]
     },
     "metadata": {},
     "output_type": "display_data"
    }
   ],
   "source": [
    "trained_data = {}\n",
    "city_list = ['강원', '경기', '경남', '경북', '광주', '대구', '대전', '부산', \n",
    "             '서울', '세종', '울산', '인천', '전남', '전북', '제주', '충남', '충북']\n",
    "models_list = ['RNN', 'LSTM', 'GRU', 'BiRNN', 'BiLSTM', 'BiGRU', \n",
    "               'seq2seq_RNN', 'seq2seq_LSTM', 'seq2seq_GRU', 'seq2seq_BiRNN', 'seq2seq_BiLSTM', 'seq2seq_BiGRU']\n",
    "\n",
    "\n",
    "for city in tqdm(city_list, desc = 'cities', position = 0):\n",
    "    data = dic_files[city]\n",
    "    best_model = {}\n",
    "    \n",
    "    input_size = 3\n",
    "    sequence_length = 60\n",
    "    num_epochs = 10000\n",
    "\n",
    "    df = Prepare_df.processing(data, 'stdDay', 'delta_variants')\n",
    "\n",
    "    x = df.iloc[:, 0:]\n",
    "    y = df.iloc[:,:1]\n",
    "\n",
    "    ms = MinMaxScaler()\n",
    "    ss = StandardScaler()\n",
    "\n",
    "    ss.fit(x)\n",
    "    ms.fit(y)\n",
    "    \n",
    "    for num_model in tqdm(range(12), desc = f'{city}', position = 1):\n",
    "        rmse_min = np.inf\n",
    "        h = -1\n",
    "        \n",
    "        for hyperparameter in tqdm(hyperparameter_dict.values(), desc = f'{city}_{models_list[num_model]}', position = 2):\n",
    "            h += 1\n",
    "            if (num_model < 6) and (h % 2 == 1):\n",
    "                continue\n",
    "            model_name = models_list[num_model]\n",
    "            lr = hyperparameter[0]\n",
    "            patience = hyperparameter[1]\n",
    "            num_layers = hyperparameter[2]\n",
    "            hidden_size = hyperparameter[3]\n",
    "            dropout = hyperparameter[4]\n",
    "\n",
    "            if num_model < 6:\n",
    "                criterion = nn.MSELoss()\n",
    "            else:\n",
    "                criterion = hyperparameter[5]\n",
    "\n",
    "            if num_model < 6:\n",
    "                x, y, x_ss, y_ms, train_loader, test_loader = Prepare_df.split_data(df, 57, 60, 1, batch_size, 'mto')\n",
    "            else:\n",
    "                x, y, x_ss, y_ms, train_loader, test_loader = Prepare_df.split_data(df, 51, 60, 7, batch_size, 'mtm')\n",
    "\n",
    "            if num_model == 0:\n",
    "                model = RNN(input_size = input_size,\n",
    "                            hidden_size = hidden_size,\n",
    "                            sequence_length = sequence_length,\n",
    "                            num_layers = num_layers, \n",
    "                            dropout = dropout, \n",
    "                            device = device).to(device)\n",
    "\n",
    "            elif num_model == 1:\n",
    "                model = LSTM(input_size = input_size,\n",
    "                             hidden_size = hidden_size,\n",
    "                             sequence_length = sequence_length,\n",
    "                             num_layers = num_layers, \n",
    "                             dropout = dropout, \n",
    "                             device = device).to(device)\n",
    "\n",
    "            elif num_model == 2:\n",
    "                model = GRU(input_size = input_size,\n",
    "                            hidden_size = hidden_size,\n",
    "                            sequence_length = sequence_length,\n",
    "                            num_layers = num_layers, \n",
    "                            dropout = dropout, \n",
    "                            device = device).to(device)\n",
    "\n",
    "            elif num_model == 3:\n",
    "                model = BiRNN(input_size = input_size,\n",
    "                              hidden_size = hidden_size,\n",
    "                              sequence_length = sequence_length,\n",
    "                              num_layers = num_layers, \n",
    "                              dropout = dropout, \n",
    "                              device = device).to(device)\n",
    "\n",
    "            elif num_model == 4:\n",
    "                model = BiLSTM(input_size = input_size,\n",
    "                               hidden_size = hidden_size,\n",
    "                               sequence_length = sequence_length,\n",
    "                               num_layers = num_layers, \n",
    "                               dropout = dropout, \n",
    "                               device = device).to(device)\n",
    "\n",
    "            elif num_model == 5:\n",
    "                model = BiGRU(input_size = input_size,\n",
    "                              hidden_size = hidden_size,\n",
    "                              sequence_length = sequence_length,\n",
    "                              num_layers = num_layers, \n",
    "                              dropout = dropout, \n",
    "                              device = device).to(device)\n",
    "\n",
    "            elif num_model == 6:\n",
    "                model = RNN_encoder_decoder(input_size = input_size, \n",
    "                                            hidden_size = hidden_size,\n",
    "                                            num_layers = num_layers, \n",
    "                                            dropout = dropout,\n",
    "                                            device = device).to(device)\n",
    "\n",
    "            elif num_model == 7:\n",
    "                model = LSTM_encoder_decoder(input_size = input_size, \n",
    "                                             hidden_size = hidden_size,\n",
    "                                             num_layers = num_layers, \n",
    "                                             dropout = dropout,\n",
    "                                             device = device).to(device)\n",
    "\n",
    "            elif num_model == 8:\n",
    "                model = GRU_encoder_decoder(input_size = input_size, \n",
    "                                            hidden_size = hidden_size,\n",
    "                                            num_layers = num_layers, \n",
    "                                            dropout = dropout,\n",
    "                                            device = device).to(device)\n",
    "\n",
    "            elif num_model == 9:\n",
    "                model = BiRNN_encoder_decoder(input_size = input_size, \n",
    "                                                hidden_size = hidden_size,\n",
    "                                                num_layers = num_layers, \n",
    "                                                dropout = dropout,\n",
    "                                                device = device).to(device)\n",
    "\n",
    "            elif num_model == 10:\n",
    "                model = BiLSTM_encoder_decoder(input_size = input_size, \n",
    "                                                  hidden_size = hidden_size,\n",
    "                                                  num_layers = num_layers, \n",
    "                                                  dropout = dropout,\n",
    "                                                  device = device).to(device)\n",
    "\n",
    "            elif num_model == 11:\n",
    "                model = BiGRU_encoder_decoder(input_size = input_size, \n",
    "                                                hidden_size = hidden_size,\n",
    "                                                num_layers = num_layers, \n",
    "                                                dropout = dropout,\n",
    "                                                device = device).to(device)            \n",
    "\n",
    "            optimizer = Adam(model.parameters(), lr = lr)\n",
    "\n",
    "            if num_model < 6:\n",
    "                loss_list, model, epoch = Trainer.Many_to_One(train_loader, \n",
    "                                                              test_loader, \n",
    "                                                              model, \n",
    "                                                              criterion, \n",
    "                                                              optimizer, \n",
    "                                                              num_epochs, \n",
    "                                                              patience,\n",
    "                                                              device)\n",
    "\n",
    "                label_y, predicted = predict_mto(model, df, x_ss, y_ms)\n",
    "                \n",
    "                if rmse_min > rmse(label_y[-7:], predicted[-7:]):\n",
    "                    rmse_min = rmse(label_y[-7:], predicted[-7:])\n",
    "                    best_model[models_list[num_model]] = [rmse_min, model, loss_list, epoch, lr, patience, \n",
    "                                                          num_layers,hidden_size, dropout]\n",
    "                \n",
    "                \n",
    "            else:\n",
    "                loss_list, model, epoch = Trainer.Many_to_Many(train_loader, \n",
    "                                                               test_loader, \n",
    "                                                               model, \n",
    "                                                               criterion, \n",
    "                                                               optimizer, \n",
    "                                                               num_epochs, \n",
    "                                                               patience,\n",
    "                                                               7,\n",
    "                                                               device)        \n",
    "                \n",
    "                label_y, predicted, first_label_y, first_predicted, all_predicted = predict_mtm(model, df, x_ss, y_ms, \n",
    "                                                                                                7, 0.5, device)\n",
    "    \n",
    "                if rmse_min > rmse(label_y[-7:], predicted[-7:]):\n",
    "                    rmse_min = rmse(label_y[-7:], predicted[-7:])\n",
    "                    best_model[models_list[num_model]] = [rmse_min, model, loss_list, epoch, lr, patience, \n",
    "                                                          num_layers, hidden_size, dropout, criterion]\n",
    "            \n",
    "        \n",
    "            \n",
    "    trained_data[city] = best_model"
   ]
  },
  {
   "cell_type": "code",
   "execution_count": 7,
   "id": "a8000d5c",
   "metadata": {
    "ExecuteTime": {
     "end_time": "2023-06-14T12:51:22.788051Z",
     "start_time": "2023-06-14T12:51:22.155742Z"
    }
   },
   "outputs": [],
   "source": [
    "for city in trained_data:\n",
    "    for name, values in trained_data[city].items():\n",
    "        pass\n",
    "        save_model(values[1].state_dict(), f\"model/Infected/delta/{city}/{name}.pth\")\n",
    "        save_hyperparameter(values[3:], f\"hyperparameter/Infected/delta/{city}/{name}.pth\")"
   ]
  },
  {
   "cell_type": "code",
   "execution_count": null,
   "id": "59e6ee6d",
   "metadata": {},
   "outputs": [],
   "source": []
  }
 ],
 "metadata": {
  "kernelspec": {
   "display_name": "KDA_DA",
   "language": "python",
   "name": "kda_da"
  },
  "language_info": {
   "codemirror_mode": {
    "name": "ipython",
    "version": 3
   },
   "file_extension": ".py",
   "mimetype": "text/x-python",
   "name": "python",
   "nbconvert_exporter": "python",
   "pygments_lexer": "ipython3",
   "version": "3.10.8"
  },
  "toc": {
   "base_numbering": 1,
   "nav_menu": {},
   "number_sections": true,
   "sideBar": true,
   "skip_h1_title": false,
   "title_cell": "Table of Contents",
   "title_sidebar": "Contents",
   "toc_cell": false,
   "toc_position": {},
   "toc_section_display": true,
   "toc_window_display": false
  }
 },
 "nbformat": 4,
 "nbformat_minor": 5
}
