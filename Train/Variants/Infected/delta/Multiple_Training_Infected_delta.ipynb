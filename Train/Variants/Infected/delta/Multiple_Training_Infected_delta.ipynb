{
 "cells": [
  {
   "cell_type": "code",
   "execution_count": 1,
   "id": "d97d8d30",
   "metadata": {
    "ExecuteTime": {
     "end_time": "2023-06-19T09:50:09.426813Z",
     "start_time": "2023-06-19T09:50:06.953860Z"
    }
   },
   "outputs": [],
   "source": [
    "import os\n",
    "os.chdir('D:\\\\Gnan\\\\DA\\\\KMU\\\\Prediction-COVID-19')\n",
    "from utils import *\n",
    "from model import *\n",
    "from trainer import *\n",
    "\n",
    "from tqdm.notebook import tqdm\n",
    "from torch.optim.adam import Adam\n",
    "device = torch.device('cuda:0' if torch.cuda.is_available() else 'cpu')\n",
    "\n",
    "import warnings\n",
    "warnings.filterwarnings('ignore')"
   ]
  },
  {
   "cell_type": "code",
   "execution_count": 2,
   "id": "241510fc",
   "metadata": {
    "ExecuteTime": {
     "end_time": "2023-06-19T09:50:09.474712Z",
     "start_time": "2023-06-19T09:50:09.429804Z"
    }
   },
   "outputs": [
    {
     "data": {
      "text/html": [
       "<div>\n",
       "<style scoped>\n",
       "    .dataframe tbody tr th:only-of-type {\n",
       "        vertical-align: middle;\n",
       "    }\n",
       "\n",
       "    .dataframe tbody tr th {\n",
       "        vertical-align: top;\n",
       "    }\n",
       "\n",
       "    .dataframe thead th {\n",
       "        text-align: right;\n",
       "    }\n",
       "</style>\n",
       "<table border=\"1\" class=\"dataframe\">\n",
       "  <thead>\n",
       "    <tr style=\"text-align: right;\">\n",
       "      <th></th>\n",
       "      <th>stdDay</th>\n",
       "      <th>incDec</th>\n",
       "      <th>alpha_variants</th>\n",
       "      <th>delta_variants</th>\n",
       "    </tr>\n",
       "  </thead>\n",
       "  <tbody>\n",
       "    <tr>\n",
       "      <th>0</th>\n",
       "      <td>2021-04-12</td>\n",
       "      <td>16.0</td>\n",
       "      <td>4.16</td>\n",
       "      <td>0.32</td>\n",
       "    </tr>\n",
       "    <tr>\n",
       "      <th>1</th>\n",
       "      <td>2021-04-13</td>\n",
       "      <td>9.0</td>\n",
       "      <td>2.34</td>\n",
       "      <td>0.18</td>\n",
       "    </tr>\n",
       "    <tr>\n",
       "      <th>2</th>\n",
       "      <td>2021-04-14</td>\n",
       "      <td>11.0</td>\n",
       "      <td>2.86</td>\n",
       "      <td>0.22</td>\n",
       "    </tr>\n",
       "    <tr>\n",
       "      <th>3</th>\n",
       "      <td>2021-04-15</td>\n",
       "      <td>18.0</td>\n",
       "      <td>4.68</td>\n",
       "      <td>0.36</td>\n",
       "    </tr>\n",
       "    <tr>\n",
       "      <th>4</th>\n",
       "      <td>2021-04-16</td>\n",
       "      <td>4.0</td>\n",
       "      <td>1.04</td>\n",
       "      <td>0.08</td>\n",
       "    </tr>\n",
       "    <tr>\n",
       "      <th>...</th>\n",
       "      <td>...</td>\n",
       "      <td>...</td>\n",
       "      <td>...</td>\n",
       "      <td>...</td>\n",
       "    </tr>\n",
       "    <tr>\n",
       "      <th>121</th>\n",
       "      <td>2021-08-11</td>\n",
       "      <td>66.0</td>\n",
       "      <td>0.66</td>\n",
       "      <td>62.70</td>\n",
       "    </tr>\n",
       "    <tr>\n",
       "      <th>122</th>\n",
       "      <td>2021-08-12</td>\n",
       "      <td>39.0</td>\n",
       "      <td>0.39</td>\n",
       "      <td>37.05</td>\n",
       "    </tr>\n",
       "    <tr>\n",
       "      <th>123</th>\n",
       "      <td>2021-08-13</td>\n",
       "      <td>57.0</td>\n",
       "      <td>0.57</td>\n",
       "      <td>54.15</td>\n",
       "    </tr>\n",
       "    <tr>\n",
       "      <th>124</th>\n",
       "      <td>2021-08-14</td>\n",
       "      <td>82.0</td>\n",
       "      <td>0.82</td>\n",
       "      <td>77.90</td>\n",
       "    </tr>\n",
       "    <tr>\n",
       "      <th>125</th>\n",
       "      <td>2021-08-15</td>\n",
       "      <td>57.0</td>\n",
       "      <td>0.57</td>\n",
       "      <td>54.15</td>\n",
       "    </tr>\n",
       "  </tbody>\n",
       "</table>\n",
       "<p>126 rows × 4 columns</p>\n",
       "</div>"
      ],
      "text/plain": [
       "         stdDay  incDec  alpha_variants  delta_variants\n",
       "0    2021-04-12    16.0            4.16            0.32\n",
       "1    2021-04-13     9.0            2.34            0.18\n",
       "2    2021-04-14    11.0            2.86            0.22\n",
       "3    2021-04-15    18.0            4.68            0.36\n",
       "4    2021-04-16     4.0            1.04            0.08\n",
       "..          ...     ...             ...             ...\n",
       "121  2021-08-11    66.0            0.66           62.70\n",
       "122  2021-08-12    39.0            0.39           37.05\n",
       "123  2021-08-13    57.0            0.57           54.15\n",
       "124  2021-08-14    82.0            0.82           77.90\n",
       "125  2021-08-15    57.0            0.57           54.15\n",
       "\n",
       "[126 rows x 4 columns]"
      ]
     },
     "execution_count": 2,
     "metadata": {},
     "output_type": "execute_result"
    }
   ],
   "source": [
    "city = '대구'\n",
    "\n",
    "path = 'Data/Variants/Infected/alpha_delta/*.csv'\n",
    "dic_files = Load_files.load_files(path, -18, -16)\n",
    "data = dic_files[city]\n",
    "data"
   ]
  },
  {
   "cell_type": "code",
   "execution_count": 3,
   "id": "e0243b9d",
   "metadata": {
    "ExecuteTime": {
     "end_time": "2023-06-19T09:50:09.490419Z",
     "start_time": "2023-06-19T09:50:09.476679Z"
    },
    "scrolled": true
   },
   "outputs": [
    {
     "name": "stdout",
     "output_type": "stream",
     "text": [
      "72\n"
     ]
    }
   ],
   "source": [
    "learning_rates_list = [1e-3, 1e-4]\n",
    "patiences_list = [20, 50]\n",
    "num_layers_list = [1, 2, 4]\n",
    "hidden_sizes_list = [8, 16, 32]\n",
    "dropout_list = [0.25]\n",
    "criterions_list = [nn.MSELoss(), criterion3]\n",
    "batch_size = 64\n",
    "hyperparameter_dict = {}\n",
    "i = 0\n",
    "\n",
    "for lr in learning_rates_list:\n",
    "    for patience in patiences_list:\n",
    "        for num_layers in num_layers_list:\n",
    "            for hidden_size in hidden_sizes_list:    \n",
    "                for dropout in dropout_list:\n",
    "                    for criterion in criterions_list:\n",
    "                        hyperparameter_dict[i] = [lr, patience, num_layers, hidden_size, dropout, criterion]\n",
    "                        i += 1\n",
    "\n",
    "print(i)"
   ]
  },
  {
   "cell_type": "code",
   "execution_count": 4,
   "id": "14aa2d30",
   "metadata": {
    "ExecuteTime": {
     "end_time": "2023-06-20T12:47:04.520357Z",
     "start_time": "2023-06-19T09:50:09.493390Z"
    },
    "scrolled": true
   },
   "outputs": [
    {
     "data": {
      "application/vnd.jupyter.widget-view+json": {
       "model_id": "205cd7a4b5ec4af5b696e1271005216c",
       "version_major": 2,
       "version_minor": 0
      },
      "text/plain": [
       "cities:   0%|          | 0/17 [00:00<?, ?it/s]"
      ]
     },
     "metadata": {},
     "output_type": "display_data"
    },
    {
     "data": {
      "application/vnd.jupyter.widget-view+json": {
       "model_id": "95ceb36440f54a219c7ce9d35fabd671",
       "version_major": 2,
       "version_minor": 0
      },
      "text/plain": [
       "강원:   0%|          | 0/12 [00:00<?, ?it/s]"
      ]
     },
     "metadata": {},
     "output_type": "display_data"
    },
    {
     "data": {
      "application/vnd.jupyter.widget-view+json": {
       "model_id": "a9034f01ce1a44d2ad8a924797959dd2",
       "version_major": 2,
       "version_minor": 0
      },
      "text/plain": [
       "강원_RNN:   0%|          | 0/72 [00:00<?, ?it/s]"
      ]
     },
     "metadata": {},
     "output_type": "display_data"
    },
    {
     "data": {
      "application/vnd.jupyter.widget-view+json": {
       "model_id": "0c2e3b1959204e68a418b941bc8c2d2f",
       "version_major": 2,
       "version_minor": 0
      },
      "text/plain": [
       "강원_LSTM:   0%|          | 0/72 [00:00<?, ?it/s]"
      ]
     },
     "metadata": {},
     "output_type": "display_data"
    },
    {
     "data": {
      "application/vnd.jupyter.widget-view+json": {
       "model_id": "83b20d4138e4440491bae2fe856de07f",
       "version_major": 2,
       "version_minor": 0
      },
      "text/plain": [
       "강원_GRU:   0%|          | 0/72 [00:00<?, ?it/s]"
      ]
     },
     "metadata": {},
     "output_type": "display_data"
    },
    {
     "data": {
      "application/vnd.jupyter.widget-view+json": {
       "model_id": "b4faf12aec1e4479a52ae6980b0b73ea",
       "version_major": 2,
       "version_minor": 0
      },
      "text/plain": [
       "강원_BiRNN:   0%|          | 0/72 [00:00<?, ?it/s]"
      ]
     },
     "metadata": {},
     "output_type": "display_data"
    },
    {
     "data": {
      "application/vnd.jupyter.widget-view+json": {
       "model_id": "24bf1ee6e3c84cd298d6cd53816b7096",
       "version_major": 2,
       "version_minor": 0
      },
      "text/plain": [
       "강원_BiLSTM:   0%|          | 0/72 [00:00<?, ?it/s]"
      ]
     },
     "metadata": {},
     "output_type": "display_data"
    },
    {
     "data": {
      "application/vnd.jupyter.widget-view+json": {
       "model_id": "9c5cf54ae67c475c9d0e07fc1c9d4d2f",
       "version_major": 2,
       "version_minor": 0
      },
      "text/plain": [
       "강원_BiGRU:   0%|          | 0/72 [00:00<?, ?it/s]"
      ]
     },
     "metadata": {},
     "output_type": "display_data"
    },
    {
     "data": {
      "application/vnd.jupyter.widget-view+json": {
       "model_id": "aaa9df018fd445d48ac169cac91a10c3",
       "version_major": 2,
       "version_minor": 0
      },
      "text/plain": [
       "강원_seq2seq_RNN:   0%|          | 0/72 [00:00<?, ?it/s]"
      ]
     },
     "metadata": {},
     "output_type": "display_data"
    },
    {
     "data": {
      "application/vnd.jupyter.widget-view+json": {
       "model_id": "4fb3a44d32444717991099e323dde309",
       "version_major": 2,
       "version_minor": 0
      },
      "text/plain": [
       "강원_seq2seq_LSTM:   0%|          | 0/72 [00:00<?, ?it/s]"
      ]
     },
     "metadata": {},
     "output_type": "display_data"
    },
    {
     "data": {
      "application/vnd.jupyter.widget-view+json": {
       "model_id": "8512335734ee48e1a6084815c6b5116f",
       "version_major": 2,
       "version_minor": 0
      },
      "text/plain": [
       "강원_seq2seq_GRU:   0%|          | 0/72 [00:00<?, ?it/s]"
      ]
     },
     "metadata": {},
     "output_type": "display_data"
    },
    {
     "data": {
      "application/vnd.jupyter.widget-view+json": {
       "model_id": "a6579ff9159a4f1396a283784a58da01",
       "version_major": 2,
       "version_minor": 0
      },
      "text/plain": [
       "강원_seq2seq_BiRNN:   0%|          | 0/72 [00:00<?, ?it/s]"
      ]
     },
     "metadata": {},
     "output_type": "display_data"
    },
    {
     "data": {
      "application/vnd.jupyter.widget-view+json": {
       "model_id": "ca1d38efb67f4e6bb6a11af7e149c42e",
       "version_major": 2,
       "version_minor": 0
      },
      "text/plain": [
       "강원_seq2seq_BiLSTM:   0%|          | 0/72 [00:00<?, ?it/s]"
      ]
     },
     "metadata": {},
     "output_type": "display_data"
    },
    {
     "data": {
      "application/vnd.jupyter.widget-view+json": {
       "model_id": "6ea6f970f1c044f88827e2a44cf5c8eb",
       "version_major": 2,
       "version_minor": 0
      },
      "text/plain": [
       "강원_seq2seq_BiGRU:   0%|          | 0/72 [00:00<?, ?it/s]"
      ]
     },
     "metadata": {},
     "output_type": "display_data"
    },
    {
     "data": {
      "application/vnd.jupyter.widget-view+json": {
       "model_id": "acd8b6cbaf2344dba3a546cbd9c8a49c",
       "version_major": 2,
       "version_minor": 0
      },
      "text/plain": [
       "경기:   0%|          | 0/12 [00:00<?, ?it/s]"
      ]
     },
     "metadata": {},
     "output_type": "display_data"
    },
    {
     "data": {
      "application/vnd.jupyter.widget-view+json": {
       "model_id": "a39d469e4d4040a2b2ebbb9eebddbc86",
       "version_major": 2,
       "version_minor": 0
      },
      "text/plain": [
       "경기_RNN:   0%|          | 0/72 [00:00<?, ?it/s]"
      ]
     },
     "metadata": {},
     "output_type": "display_data"
    },
    {
     "data": {
      "application/vnd.jupyter.widget-view+json": {
       "model_id": "53ceefccc05d4d49aaf456648fb4bbf5",
       "version_major": 2,
       "version_minor": 0
      },
      "text/plain": [
       "경기_LSTM:   0%|          | 0/72 [00:00<?, ?it/s]"
      ]
     },
     "metadata": {},
     "output_type": "display_data"
    },
    {
     "data": {
      "application/vnd.jupyter.widget-view+json": {
       "model_id": "826e821e679349adb581f4bc2888baf5",
       "version_major": 2,
       "version_minor": 0
      },
      "text/plain": [
       "경기_GRU:   0%|          | 0/72 [00:00<?, ?it/s]"
      ]
     },
     "metadata": {},
     "output_type": "display_data"
    },
    {
     "data": {
      "application/vnd.jupyter.widget-view+json": {
       "model_id": "6cf81942954b435182b90ecdb14021c9",
       "version_major": 2,
       "version_minor": 0
      },
      "text/plain": [
       "경기_BiRNN:   0%|          | 0/72 [00:00<?, ?it/s]"
      ]
     },
     "metadata": {},
     "output_type": "display_data"
    },
    {
     "data": {
      "application/vnd.jupyter.widget-view+json": {
       "model_id": "020db3d6559143daaee00a0fe4d2bcf9",
       "version_major": 2,
       "version_minor": 0
      },
      "text/plain": [
       "경기_BiLSTM:   0%|          | 0/72 [00:00<?, ?it/s]"
      ]
     },
     "metadata": {},
     "output_type": "display_data"
    },
    {
     "data": {
      "application/vnd.jupyter.widget-view+json": {
       "model_id": "f035aca3e708490d989ef2000a51d15a",
       "version_major": 2,
       "version_minor": 0
      },
      "text/plain": [
       "경기_BiGRU:   0%|          | 0/72 [00:00<?, ?it/s]"
      ]
     },
     "metadata": {},
     "output_type": "display_data"
    },
    {
     "data": {
      "application/vnd.jupyter.widget-view+json": {
       "model_id": "84fb310617ee4bf4a382a7919b96b157",
       "version_major": 2,
       "version_minor": 0
      },
      "text/plain": [
       "경기_seq2seq_RNN:   0%|          | 0/72 [00:00<?, ?it/s]"
      ]
     },
     "metadata": {},
     "output_type": "display_data"
    },
    {
     "data": {
      "application/vnd.jupyter.widget-view+json": {
       "model_id": "7494f621afea4a848c4faa564ed4548f",
       "version_major": 2,
       "version_minor": 0
      },
      "text/plain": [
       "경기_seq2seq_LSTM:   0%|          | 0/72 [00:00<?, ?it/s]"
      ]
     },
     "metadata": {},
     "output_type": "display_data"
    },
    {
     "data": {
      "application/vnd.jupyter.widget-view+json": {
       "model_id": "713663bd595d4214b8b3fba39cdedeec",
       "version_major": 2,
       "version_minor": 0
      },
      "text/plain": [
       "경기_seq2seq_GRU:   0%|          | 0/72 [00:00<?, ?it/s]"
      ]
     },
     "metadata": {},
     "output_type": "display_data"
    },
    {
     "data": {
      "application/vnd.jupyter.widget-view+json": {
       "model_id": "7d039f57b84b437cba53dfcc578f6e3e",
       "version_major": 2,
       "version_minor": 0
      },
      "text/plain": [
       "경기_seq2seq_BiRNN:   0%|          | 0/72 [00:00<?, ?it/s]"
      ]
     },
     "metadata": {},
     "output_type": "display_data"
    },
    {
     "data": {
      "application/vnd.jupyter.widget-view+json": {
       "model_id": "5db30c1275a744c59867927348811637",
       "version_major": 2,
       "version_minor": 0
      },
      "text/plain": [
       "경기_seq2seq_BiLSTM:   0%|          | 0/72 [00:00<?, ?it/s]"
      ]
     },
     "metadata": {},
     "output_type": "display_data"
    },
    {
     "data": {
      "application/vnd.jupyter.widget-view+json": {
       "model_id": "8f8dc59f00714069bcf1f97c542d5517",
       "version_major": 2,
       "version_minor": 0
      },
      "text/plain": [
       "경기_seq2seq_BiGRU:   0%|          | 0/72 [00:00<?, ?it/s]"
      ]
     },
     "metadata": {},
     "output_type": "display_data"
    },
    {
     "data": {
      "application/vnd.jupyter.widget-view+json": {
       "model_id": "5366420ad45242a8b4198bd4034ffd8a",
       "version_major": 2,
       "version_minor": 0
      },
      "text/plain": [
       "경남:   0%|          | 0/12 [00:00<?, ?it/s]"
      ]
     },
     "metadata": {},
     "output_type": "display_data"
    },
    {
     "data": {
      "application/vnd.jupyter.widget-view+json": {
       "model_id": "7ee132f4148f4748b7a98b5a7727c0df",
       "version_major": 2,
       "version_minor": 0
      },
      "text/plain": [
       "경남_RNN:   0%|          | 0/72 [00:00<?, ?it/s]"
      ]
     },
     "metadata": {},
     "output_type": "display_data"
    },
    {
     "data": {
      "application/vnd.jupyter.widget-view+json": {
       "model_id": "69c76e7b6c8d46d78be24fea979f40db",
       "version_major": 2,
       "version_minor": 0
      },
      "text/plain": [
       "경남_LSTM:   0%|          | 0/72 [00:00<?, ?it/s]"
      ]
     },
     "metadata": {},
     "output_type": "display_data"
    },
    {
     "data": {
      "application/vnd.jupyter.widget-view+json": {
       "model_id": "d2a88aa013ae4d04936fc0e5f075843c",
       "version_major": 2,
       "version_minor": 0
      },
      "text/plain": [
       "경남_GRU:   0%|          | 0/72 [00:00<?, ?it/s]"
      ]
     },
     "metadata": {},
     "output_type": "display_data"
    },
    {
     "data": {
      "application/vnd.jupyter.widget-view+json": {
       "model_id": "540b044d49fc4dafbdd29a19f146e5a9",
       "version_major": 2,
       "version_minor": 0
      },
      "text/plain": [
       "경남_BiRNN:   0%|          | 0/72 [00:00<?, ?it/s]"
      ]
     },
     "metadata": {},
     "output_type": "display_data"
    },
    {
     "data": {
      "application/vnd.jupyter.widget-view+json": {
       "model_id": "7d83578d48144cfbbfb3c5626a6a7577",
       "version_major": 2,
       "version_minor": 0
      },
      "text/plain": [
       "경남_BiLSTM:   0%|          | 0/72 [00:00<?, ?it/s]"
      ]
     },
     "metadata": {},
     "output_type": "display_data"
    },
    {
     "data": {
      "application/vnd.jupyter.widget-view+json": {
       "model_id": "d331129386994b688c227a900d3c4814",
       "version_major": 2,
       "version_minor": 0
      },
      "text/plain": [
       "경남_BiGRU:   0%|          | 0/72 [00:00<?, ?it/s]"
      ]
     },
     "metadata": {},
     "output_type": "display_data"
    },
    {
     "data": {
      "application/vnd.jupyter.widget-view+json": {
       "model_id": "486199f570d4446286de2def3bfea4fb",
       "version_major": 2,
       "version_minor": 0
      },
      "text/plain": [
       "경남_seq2seq_RNN:   0%|          | 0/72 [00:00<?, ?it/s]"
      ]
     },
     "metadata": {},
     "output_type": "display_data"
    },
    {
     "data": {
      "application/vnd.jupyter.widget-view+json": {
       "model_id": "848e916aab0d449a835429f04fd922b5",
       "version_major": 2,
       "version_minor": 0
      },
      "text/plain": [
       "경남_seq2seq_LSTM:   0%|          | 0/72 [00:00<?, ?it/s]"
      ]
     },
     "metadata": {},
     "output_type": "display_data"
    },
    {
     "data": {
      "application/vnd.jupyter.widget-view+json": {
       "model_id": "a1346749539949499ddc2fb6eda05908",
       "version_major": 2,
       "version_minor": 0
      },
      "text/plain": [
       "경남_seq2seq_GRU:   0%|          | 0/72 [00:00<?, ?it/s]"
      ]
     },
     "metadata": {},
     "output_type": "display_data"
    },
    {
     "data": {
      "application/vnd.jupyter.widget-view+json": {
       "model_id": "67d11f693f4a49d6a42d2b1c852c0523",
       "version_major": 2,
       "version_minor": 0
      },
      "text/plain": [
       "경남_seq2seq_BiRNN:   0%|          | 0/72 [00:00<?, ?it/s]"
      ]
     },
     "metadata": {},
     "output_type": "display_data"
    },
    {
     "data": {
      "application/vnd.jupyter.widget-view+json": {
       "model_id": "9bf03abc1b9a4de0abc69bec2bb88063",
       "version_major": 2,
       "version_minor": 0
      },
      "text/plain": [
       "경남_seq2seq_BiLSTM:   0%|          | 0/72 [00:00<?, ?it/s]"
      ]
     },
     "metadata": {},
     "output_type": "display_data"
    },
    {
     "data": {
      "application/vnd.jupyter.widget-view+json": {
       "model_id": "a4b5183c19f14dba936be8d52b220604",
       "version_major": 2,
       "version_minor": 0
      },
      "text/plain": [
       "경남_seq2seq_BiGRU:   0%|          | 0/72 [00:00<?, ?it/s]"
      ]
     },
     "metadata": {},
     "output_type": "display_data"
    },
    {
     "data": {
      "application/vnd.jupyter.widget-view+json": {
       "model_id": "6ea5ae6d7eb7402f94297e28c231fed9",
       "version_major": 2,
       "version_minor": 0
      },
      "text/plain": [
       "경북:   0%|          | 0/12 [00:00<?, ?it/s]"
      ]
     },
     "metadata": {},
     "output_type": "display_data"
    },
    {
     "data": {
      "application/vnd.jupyter.widget-view+json": {
       "model_id": "de2f1d41d4524a27ad3f902b977c224a",
       "version_major": 2,
       "version_minor": 0
      },
      "text/plain": [
       "경북_RNN:   0%|          | 0/72 [00:00<?, ?it/s]"
      ]
     },
     "metadata": {},
     "output_type": "display_data"
    },
    {
     "data": {
      "application/vnd.jupyter.widget-view+json": {
       "model_id": "a95aa114e3d14d9ab413172f71f98eb7",
       "version_major": 2,
       "version_minor": 0
      },
      "text/plain": [
       "경북_LSTM:   0%|          | 0/72 [00:00<?, ?it/s]"
      ]
     },
     "metadata": {},
     "output_type": "display_data"
    },
    {
     "data": {
      "application/vnd.jupyter.widget-view+json": {
       "model_id": "be04b97582e041a2815fd678f215d21a",
       "version_major": 2,
       "version_minor": 0
      },
      "text/plain": [
       "경북_GRU:   0%|          | 0/72 [00:00<?, ?it/s]"
      ]
     },
     "metadata": {},
     "output_type": "display_data"
    },
    {
     "data": {
      "application/vnd.jupyter.widget-view+json": {
       "model_id": "10418893ff2744b78bfeed1c344615c8",
       "version_major": 2,
       "version_minor": 0
      },
      "text/plain": [
       "경북_BiRNN:   0%|          | 0/72 [00:00<?, ?it/s]"
      ]
     },
     "metadata": {},
     "output_type": "display_data"
    },
    {
     "data": {
      "application/vnd.jupyter.widget-view+json": {
       "model_id": "8791105b23714d1293dcfff26014aed5",
       "version_major": 2,
       "version_minor": 0
      },
      "text/plain": [
       "경북_BiLSTM:   0%|          | 0/72 [00:00<?, ?it/s]"
      ]
     },
     "metadata": {},
     "output_type": "display_data"
    },
    {
     "data": {
      "application/vnd.jupyter.widget-view+json": {
       "model_id": "5d78bd319669489892fd6dbb1cc1b273",
       "version_major": 2,
       "version_minor": 0
      },
      "text/plain": [
       "경북_BiGRU:   0%|          | 0/72 [00:00<?, ?it/s]"
      ]
     },
     "metadata": {},
     "output_type": "display_data"
    },
    {
     "data": {
      "application/vnd.jupyter.widget-view+json": {
       "model_id": "14a633d7b9aa4157ab025725860d837c",
       "version_major": 2,
       "version_minor": 0
      },
      "text/plain": [
       "경북_seq2seq_RNN:   0%|          | 0/72 [00:00<?, ?it/s]"
      ]
     },
     "metadata": {},
     "output_type": "display_data"
    },
    {
     "data": {
      "application/vnd.jupyter.widget-view+json": {
       "model_id": "0cbafc2a1623451495bf1194fb1ef3dc",
       "version_major": 2,
       "version_minor": 0
      },
      "text/plain": [
       "경북_seq2seq_LSTM:   0%|          | 0/72 [00:00<?, ?it/s]"
      ]
     },
     "metadata": {},
     "output_type": "display_data"
    },
    {
     "data": {
      "application/vnd.jupyter.widget-view+json": {
       "model_id": "6cd177cc19ed4d67883e8c93bccb8e41",
       "version_major": 2,
       "version_minor": 0
      },
      "text/plain": [
       "경북_seq2seq_GRU:   0%|          | 0/72 [00:00<?, ?it/s]"
      ]
     },
     "metadata": {},
     "output_type": "display_data"
    },
    {
     "data": {
      "application/vnd.jupyter.widget-view+json": {
       "model_id": "98579b4e3359498099674b3057d25e58",
       "version_major": 2,
       "version_minor": 0
      },
      "text/plain": [
       "경북_seq2seq_BiRNN:   0%|          | 0/72 [00:00<?, ?it/s]"
      ]
     },
     "metadata": {},
     "output_type": "display_data"
    },
    {
     "data": {
      "application/vnd.jupyter.widget-view+json": {
       "model_id": "b7bf0df4eb314393995484b4bdc4a62e",
       "version_major": 2,
       "version_minor": 0
      },
      "text/plain": [
       "경북_seq2seq_BiLSTM:   0%|          | 0/72 [00:00<?, ?it/s]"
      ]
     },
     "metadata": {},
     "output_type": "display_data"
    },
    {
     "data": {
      "application/vnd.jupyter.widget-view+json": {
       "model_id": "84ded88f6e994239b85698ea82e4831c",
       "version_major": 2,
       "version_minor": 0
      },
      "text/plain": [
       "경북_seq2seq_BiGRU:   0%|          | 0/72 [00:00<?, ?it/s]"
      ]
     },
     "metadata": {},
     "output_type": "display_data"
    },
    {
     "data": {
      "application/vnd.jupyter.widget-view+json": {
       "model_id": "831f5f2c58f0464a856dd947afce5881",
       "version_major": 2,
       "version_minor": 0
      },
      "text/plain": [
       "광주:   0%|          | 0/12 [00:00<?, ?it/s]"
      ]
     },
     "metadata": {},
     "output_type": "display_data"
    },
    {
     "data": {
      "application/vnd.jupyter.widget-view+json": {
       "model_id": "fe7828a50a2b4d9da0edc628a181b982",
       "version_major": 2,
       "version_minor": 0
      },
      "text/plain": [
       "광주_RNN:   0%|          | 0/72 [00:00<?, ?it/s]"
      ]
     },
     "metadata": {},
     "output_type": "display_data"
    },
    {
     "data": {
      "application/vnd.jupyter.widget-view+json": {
       "model_id": "6c162c9637cf4169b11100e92b786d9c",
       "version_major": 2,
       "version_minor": 0
      },
      "text/plain": [
       "광주_LSTM:   0%|          | 0/72 [00:00<?, ?it/s]"
      ]
     },
     "metadata": {},
     "output_type": "display_data"
    },
    {
     "data": {
      "application/vnd.jupyter.widget-view+json": {
       "model_id": "04b51f012c2d4a20b7a8c746dc46dbbb",
       "version_major": 2,
       "version_minor": 0
      },
      "text/plain": [
       "광주_GRU:   0%|          | 0/72 [00:00<?, ?it/s]"
      ]
     },
     "metadata": {},
     "output_type": "display_data"
    },
    {
     "data": {
      "application/vnd.jupyter.widget-view+json": {
       "model_id": "885b3d8fbb064d578dc306c31636622b",
       "version_major": 2,
       "version_minor": 0
      },
      "text/plain": [
       "광주_BiRNN:   0%|          | 0/72 [00:00<?, ?it/s]"
      ]
     },
     "metadata": {},
     "output_type": "display_data"
    },
    {
     "data": {
      "application/vnd.jupyter.widget-view+json": {
       "model_id": "4580276586b94896b8ea11b436fd5cf4",
       "version_major": 2,
       "version_minor": 0
      },
      "text/plain": [
       "광주_BiLSTM:   0%|          | 0/72 [00:00<?, ?it/s]"
      ]
     },
     "metadata": {},
     "output_type": "display_data"
    },
    {
     "data": {
      "application/vnd.jupyter.widget-view+json": {
       "model_id": "5774dad09068414c9abe04439eddd81f",
       "version_major": 2,
       "version_minor": 0
      },
      "text/plain": [
       "광주_BiGRU:   0%|          | 0/72 [00:00<?, ?it/s]"
      ]
     },
     "metadata": {},
     "output_type": "display_data"
    },
    {
     "data": {
      "application/vnd.jupyter.widget-view+json": {
       "model_id": "2eb95fb32f5742e19241a8a9c9cf9c71",
       "version_major": 2,
       "version_minor": 0
      },
      "text/plain": [
       "광주_seq2seq_RNN:   0%|          | 0/72 [00:00<?, ?it/s]"
      ]
     },
     "metadata": {},
     "output_type": "display_data"
    },
    {
     "data": {
      "application/vnd.jupyter.widget-view+json": {
       "model_id": "e8c587613e4b41b3a059dca132e2b667",
       "version_major": 2,
       "version_minor": 0
      },
      "text/plain": [
       "광주_seq2seq_LSTM:   0%|          | 0/72 [00:00<?, ?it/s]"
      ]
     },
     "metadata": {},
     "output_type": "display_data"
    },
    {
     "data": {
      "application/vnd.jupyter.widget-view+json": {
       "model_id": "5e51e8a3611f48d2932469d818f0b786",
       "version_major": 2,
       "version_minor": 0
      },
      "text/plain": [
       "광주_seq2seq_GRU:   0%|          | 0/72 [00:00<?, ?it/s]"
      ]
     },
     "metadata": {},
     "output_type": "display_data"
    },
    {
     "data": {
      "application/vnd.jupyter.widget-view+json": {
       "model_id": "483ae168779049a1acd35b52c08a5aab",
       "version_major": 2,
       "version_minor": 0
      },
      "text/plain": [
       "광주_seq2seq_BiRNN:   0%|          | 0/72 [00:00<?, ?it/s]"
      ]
     },
     "metadata": {},
     "output_type": "display_data"
    },
    {
     "data": {
      "application/vnd.jupyter.widget-view+json": {
       "model_id": "7385d1bd8a614543ac50dc458e78b93d",
       "version_major": 2,
       "version_minor": 0
      },
      "text/plain": [
       "광주_seq2seq_BiLSTM:   0%|          | 0/72 [00:00<?, ?it/s]"
      ]
     },
     "metadata": {},
     "output_type": "display_data"
    },
    {
     "data": {
      "application/vnd.jupyter.widget-view+json": {
       "model_id": "66a88baedb1246d18a6ed53831176f65",
       "version_major": 2,
       "version_minor": 0
      },
      "text/plain": [
       "광주_seq2seq_BiGRU:   0%|          | 0/72 [00:00<?, ?it/s]"
      ]
     },
     "metadata": {},
     "output_type": "display_data"
    },
    {
     "data": {
      "application/vnd.jupyter.widget-view+json": {
       "model_id": "7cc06186e5fd45f0a39f36a4753c858f",
       "version_major": 2,
       "version_minor": 0
      },
      "text/plain": [
       "대구:   0%|          | 0/12 [00:00<?, ?it/s]"
      ]
     },
     "metadata": {},
     "output_type": "display_data"
    },
    {
     "data": {
      "application/vnd.jupyter.widget-view+json": {
       "model_id": "263d1ccb5da140c2b7e380a4c541b6c4",
       "version_major": 2,
       "version_minor": 0
      },
      "text/plain": [
       "대구_RNN:   0%|          | 0/72 [00:00<?, ?it/s]"
      ]
     },
     "metadata": {},
     "output_type": "display_data"
    },
    {
     "data": {
      "application/vnd.jupyter.widget-view+json": {
       "model_id": "01b2da75991242599b0ab96f586f4602",
       "version_major": 2,
       "version_minor": 0
      },
      "text/plain": [
       "대구_LSTM:   0%|          | 0/72 [00:00<?, ?it/s]"
      ]
     },
     "metadata": {},
     "output_type": "display_data"
    },
    {
     "data": {
      "application/vnd.jupyter.widget-view+json": {
       "model_id": "a1a8185806aa478e80df8ad98708f53d",
       "version_major": 2,
       "version_minor": 0
      },
      "text/plain": [
       "대구_GRU:   0%|          | 0/72 [00:00<?, ?it/s]"
      ]
     },
     "metadata": {},
     "output_type": "display_data"
    },
    {
     "data": {
      "application/vnd.jupyter.widget-view+json": {
       "model_id": "e7580e57ae62441d9b0d397c098a4ac2",
       "version_major": 2,
       "version_minor": 0
      },
      "text/plain": [
       "대구_BiRNN:   0%|          | 0/72 [00:00<?, ?it/s]"
      ]
     },
     "metadata": {},
     "output_type": "display_data"
    },
    {
     "data": {
      "application/vnd.jupyter.widget-view+json": {
       "model_id": "0b7f25abc7cb499293607058748474c6",
       "version_major": 2,
       "version_minor": 0
      },
      "text/plain": [
       "대구_BiLSTM:   0%|          | 0/72 [00:00<?, ?it/s]"
      ]
     },
     "metadata": {},
     "output_type": "display_data"
    },
    {
     "data": {
      "application/vnd.jupyter.widget-view+json": {
       "model_id": "aedab5a099664081b836d61435afb798",
       "version_major": 2,
       "version_minor": 0
      },
      "text/plain": [
       "대구_BiGRU:   0%|          | 0/72 [00:00<?, ?it/s]"
      ]
     },
     "metadata": {},
     "output_type": "display_data"
    },
    {
     "data": {
      "application/vnd.jupyter.widget-view+json": {
       "model_id": "1c69eae8f32c4e86b52e160c55075038",
       "version_major": 2,
       "version_minor": 0
      },
      "text/plain": [
       "대구_seq2seq_RNN:   0%|          | 0/72 [00:00<?, ?it/s]"
      ]
     },
     "metadata": {},
     "output_type": "display_data"
    },
    {
     "data": {
      "application/vnd.jupyter.widget-view+json": {
       "model_id": "d8510e3a333b40b6af0b7306d965ea64",
       "version_major": 2,
       "version_minor": 0
      },
      "text/plain": [
       "대구_seq2seq_LSTM:   0%|          | 0/72 [00:00<?, ?it/s]"
      ]
     },
     "metadata": {},
     "output_type": "display_data"
    },
    {
     "data": {
      "application/vnd.jupyter.widget-view+json": {
       "model_id": "ea315cbacc46498cbb47e369d70503d2",
       "version_major": 2,
       "version_minor": 0
      },
      "text/plain": [
       "대구_seq2seq_GRU:   0%|          | 0/72 [00:00<?, ?it/s]"
      ]
     },
     "metadata": {},
     "output_type": "display_data"
    },
    {
     "data": {
      "application/vnd.jupyter.widget-view+json": {
       "model_id": "0ebd7ecb6bb04319afe08b3878b4b3df",
       "version_major": 2,
       "version_minor": 0
      },
      "text/plain": [
       "대구_seq2seq_BiRNN:   0%|          | 0/72 [00:00<?, ?it/s]"
      ]
     },
     "metadata": {},
     "output_type": "display_data"
    },
    {
     "data": {
      "application/vnd.jupyter.widget-view+json": {
       "model_id": "5bf31c2c75264449a3ca7b57336059ed",
       "version_major": 2,
       "version_minor": 0
      },
      "text/plain": [
       "대구_seq2seq_BiLSTM:   0%|          | 0/72 [00:00<?, ?it/s]"
      ]
     },
     "metadata": {},
     "output_type": "display_data"
    },
    {
     "data": {
      "application/vnd.jupyter.widget-view+json": {
       "model_id": "9fe18174beb043d0b9fd45646dce6572",
       "version_major": 2,
       "version_minor": 0
      },
      "text/plain": [
       "대구_seq2seq_BiGRU:   0%|          | 0/72 [00:00<?, ?it/s]"
      ]
     },
     "metadata": {},
     "output_type": "display_data"
    },
    {
     "data": {
      "application/vnd.jupyter.widget-view+json": {
       "model_id": "59db3391b2904538a026bc609d0a3808",
       "version_major": 2,
       "version_minor": 0
      },
      "text/plain": [
       "대전:   0%|          | 0/12 [00:00<?, ?it/s]"
      ]
     },
     "metadata": {},
     "output_type": "display_data"
    },
    {
     "data": {
      "application/vnd.jupyter.widget-view+json": {
       "model_id": "c5b74933a2884a14b2c3a5cd765fb46e",
       "version_major": 2,
       "version_minor": 0
      },
      "text/plain": [
       "대전_RNN:   0%|          | 0/72 [00:00<?, ?it/s]"
      ]
     },
     "metadata": {},
     "output_type": "display_data"
    },
    {
     "data": {
      "application/vnd.jupyter.widget-view+json": {
       "model_id": "3d0b659a99184a5c92ccce24024ae99b",
       "version_major": 2,
       "version_minor": 0
      },
      "text/plain": [
       "대전_LSTM:   0%|          | 0/72 [00:00<?, ?it/s]"
      ]
     },
     "metadata": {},
     "output_type": "display_data"
    },
    {
     "data": {
      "application/vnd.jupyter.widget-view+json": {
       "model_id": "b846db79ee034f22938eb8cfb5e0bc58",
       "version_major": 2,
       "version_minor": 0
      },
      "text/plain": [
       "대전_GRU:   0%|          | 0/72 [00:00<?, ?it/s]"
      ]
     },
     "metadata": {},
     "output_type": "display_data"
    },
    {
     "data": {
      "application/vnd.jupyter.widget-view+json": {
       "model_id": "e9324236ddee47f6aa93318ba6ed51a5",
       "version_major": 2,
       "version_minor": 0
      },
      "text/plain": [
       "대전_BiRNN:   0%|          | 0/72 [00:00<?, ?it/s]"
      ]
     },
     "metadata": {},
     "output_type": "display_data"
    },
    {
     "data": {
      "application/vnd.jupyter.widget-view+json": {
       "model_id": "a291d7b0fab146ffb1319dd5ec2f9853",
       "version_major": 2,
       "version_minor": 0
      },
      "text/plain": [
       "대전_BiLSTM:   0%|          | 0/72 [00:00<?, ?it/s]"
      ]
     },
     "metadata": {},
     "output_type": "display_data"
    },
    {
     "data": {
      "application/vnd.jupyter.widget-view+json": {
       "model_id": "918fcfc814484007beb6f62c08a8b2f3",
       "version_major": 2,
       "version_minor": 0
      },
      "text/plain": [
       "대전_BiGRU:   0%|          | 0/72 [00:00<?, ?it/s]"
      ]
     },
     "metadata": {},
     "output_type": "display_data"
    },
    {
     "data": {
      "application/vnd.jupyter.widget-view+json": {
       "model_id": "2de70a6bcae545e9bef599cbc363f157",
       "version_major": 2,
       "version_minor": 0
      },
      "text/plain": [
       "대전_seq2seq_RNN:   0%|          | 0/72 [00:00<?, ?it/s]"
      ]
     },
     "metadata": {},
     "output_type": "display_data"
    },
    {
     "data": {
      "application/vnd.jupyter.widget-view+json": {
       "model_id": "1acc1ae1abd947428512e29433585c10",
       "version_major": 2,
       "version_minor": 0
      },
      "text/plain": [
       "대전_seq2seq_LSTM:   0%|          | 0/72 [00:00<?, ?it/s]"
      ]
     },
     "metadata": {},
     "output_type": "display_data"
    },
    {
     "data": {
      "application/vnd.jupyter.widget-view+json": {
       "model_id": "a04524c2511a4ec1901a2cba4e26c11c",
       "version_major": 2,
       "version_minor": 0
      },
      "text/plain": [
       "대전_seq2seq_GRU:   0%|          | 0/72 [00:00<?, ?it/s]"
      ]
     },
     "metadata": {},
     "output_type": "display_data"
    },
    {
     "data": {
      "application/vnd.jupyter.widget-view+json": {
       "model_id": "e72adb0513b5406e8893fc07abe2aa05",
       "version_major": 2,
       "version_minor": 0
      },
      "text/plain": [
       "대전_seq2seq_BiRNN:   0%|          | 0/72 [00:00<?, ?it/s]"
      ]
     },
     "metadata": {},
     "output_type": "display_data"
    },
    {
     "data": {
      "application/vnd.jupyter.widget-view+json": {
       "model_id": "3966c4dcbaf2478c81606475a6cdcd8a",
       "version_major": 2,
       "version_minor": 0
      },
      "text/plain": [
       "대전_seq2seq_BiLSTM:   0%|          | 0/72 [00:00<?, ?it/s]"
      ]
     },
     "metadata": {},
     "output_type": "display_data"
    },
    {
     "data": {
      "application/vnd.jupyter.widget-view+json": {
       "model_id": "4b0a41fb1c664e50b668547cc4acbddd",
       "version_major": 2,
       "version_minor": 0
      },
      "text/plain": [
       "대전_seq2seq_BiGRU:   0%|          | 0/72 [00:00<?, ?it/s]"
      ]
     },
     "metadata": {},
     "output_type": "display_data"
    },
    {
     "data": {
      "application/vnd.jupyter.widget-view+json": {
       "model_id": "0eff229e2d61405a8a69f89a43423e88",
       "version_major": 2,
       "version_minor": 0
      },
      "text/plain": [
       "부산:   0%|          | 0/12 [00:00<?, ?it/s]"
      ]
     },
     "metadata": {},
     "output_type": "display_data"
    },
    {
     "data": {
      "application/vnd.jupyter.widget-view+json": {
       "model_id": "1d118c59af4d433ab88e116b24170131",
       "version_major": 2,
       "version_minor": 0
      },
      "text/plain": [
       "부산_RNN:   0%|          | 0/72 [00:00<?, ?it/s]"
      ]
     },
     "metadata": {},
     "output_type": "display_data"
    },
    {
     "data": {
      "application/vnd.jupyter.widget-view+json": {
       "model_id": "8dde8a8a60644a379a0c8c7771d333f0",
       "version_major": 2,
       "version_minor": 0
      },
      "text/plain": [
       "부산_LSTM:   0%|          | 0/72 [00:00<?, ?it/s]"
      ]
     },
     "metadata": {},
     "output_type": "display_data"
    },
    {
     "data": {
      "application/vnd.jupyter.widget-view+json": {
       "model_id": "11ea3e99e99a4f02beed10ab9387b695",
       "version_major": 2,
       "version_minor": 0
      },
      "text/plain": [
       "부산_GRU:   0%|          | 0/72 [00:00<?, ?it/s]"
      ]
     },
     "metadata": {},
     "output_type": "display_data"
    },
    {
     "data": {
      "application/vnd.jupyter.widget-view+json": {
       "model_id": "4f4ea91ee340465d9d6c011b04b44f33",
       "version_major": 2,
       "version_minor": 0
      },
      "text/plain": [
       "부산_BiRNN:   0%|          | 0/72 [00:00<?, ?it/s]"
      ]
     },
     "metadata": {},
     "output_type": "display_data"
    },
    {
     "data": {
      "application/vnd.jupyter.widget-view+json": {
       "model_id": "ba6589d8c2fb49089c91af80e92d8279",
       "version_major": 2,
       "version_minor": 0
      },
      "text/plain": [
       "부산_BiLSTM:   0%|          | 0/72 [00:00<?, ?it/s]"
      ]
     },
     "metadata": {},
     "output_type": "display_data"
    },
    {
     "data": {
      "application/vnd.jupyter.widget-view+json": {
       "model_id": "f398298412f6450088d75acfdd4e4beb",
       "version_major": 2,
       "version_minor": 0
      },
      "text/plain": [
       "부산_BiGRU:   0%|          | 0/72 [00:00<?, ?it/s]"
      ]
     },
     "metadata": {},
     "output_type": "display_data"
    },
    {
     "data": {
      "application/vnd.jupyter.widget-view+json": {
       "model_id": "0db4465114ed44b0b9307df17040872c",
       "version_major": 2,
       "version_minor": 0
      },
      "text/plain": [
       "부산_seq2seq_RNN:   0%|          | 0/72 [00:00<?, ?it/s]"
      ]
     },
     "metadata": {},
     "output_type": "display_data"
    },
    {
     "data": {
      "application/vnd.jupyter.widget-view+json": {
       "model_id": "1a095e68994e408d82c79464a4122696",
       "version_major": 2,
       "version_minor": 0
      },
      "text/plain": [
       "부산_seq2seq_LSTM:   0%|          | 0/72 [00:00<?, ?it/s]"
      ]
     },
     "metadata": {},
     "output_type": "display_data"
    },
    {
     "data": {
      "application/vnd.jupyter.widget-view+json": {
       "model_id": "50a7e5516349487496cc6734309f678c",
       "version_major": 2,
       "version_minor": 0
      },
      "text/plain": [
       "부산_seq2seq_GRU:   0%|          | 0/72 [00:00<?, ?it/s]"
      ]
     },
     "metadata": {},
     "output_type": "display_data"
    },
    {
     "data": {
      "application/vnd.jupyter.widget-view+json": {
       "model_id": "609a76fbf02b473eb693ff2fcddeeea6",
       "version_major": 2,
       "version_minor": 0
      },
      "text/plain": [
       "부산_seq2seq_BiRNN:   0%|          | 0/72 [00:00<?, ?it/s]"
      ]
     },
     "metadata": {},
     "output_type": "display_data"
    },
    {
     "data": {
      "application/vnd.jupyter.widget-view+json": {
       "model_id": "bad68fae65c8494d814e720aa9afc42a",
       "version_major": 2,
       "version_minor": 0
      },
      "text/plain": [
       "부산_seq2seq_BiLSTM:   0%|          | 0/72 [00:00<?, ?it/s]"
      ]
     },
     "metadata": {},
     "output_type": "display_data"
    },
    {
     "data": {
      "application/vnd.jupyter.widget-view+json": {
       "model_id": "06470d37f6194ccbb170048e1e8f831e",
       "version_major": 2,
       "version_minor": 0
      },
      "text/plain": [
       "부산_seq2seq_BiGRU:   0%|          | 0/72 [00:00<?, ?it/s]"
      ]
     },
     "metadata": {},
     "output_type": "display_data"
    },
    {
     "data": {
      "application/vnd.jupyter.widget-view+json": {
       "model_id": "c34c55a9f51a4f9a9ba2e2c913f5fdce",
       "version_major": 2,
       "version_minor": 0
      },
      "text/plain": [
       "서울:   0%|          | 0/12 [00:00<?, ?it/s]"
      ]
     },
     "metadata": {},
     "output_type": "display_data"
    },
    {
     "data": {
      "application/vnd.jupyter.widget-view+json": {
       "model_id": "0f1e55f7806b423c9b68181c43706e8e",
       "version_major": 2,
       "version_minor": 0
      },
      "text/plain": [
       "서울_RNN:   0%|          | 0/72 [00:00<?, ?it/s]"
      ]
     },
     "metadata": {},
     "output_type": "display_data"
    },
    {
     "data": {
      "application/vnd.jupyter.widget-view+json": {
       "model_id": "e379f3e3a3974665b8f265f9593d8ea2",
       "version_major": 2,
       "version_minor": 0
      },
      "text/plain": [
       "서울_LSTM:   0%|          | 0/72 [00:00<?, ?it/s]"
      ]
     },
     "metadata": {},
     "output_type": "display_data"
    },
    {
     "data": {
      "application/vnd.jupyter.widget-view+json": {
       "model_id": "10e9a3e1d54040d5bfefed92dc16b678",
       "version_major": 2,
       "version_minor": 0
      },
      "text/plain": [
       "서울_GRU:   0%|          | 0/72 [00:00<?, ?it/s]"
      ]
     },
     "metadata": {},
     "output_type": "display_data"
    },
    {
     "data": {
      "application/vnd.jupyter.widget-view+json": {
       "model_id": "caa478bb5a6f49f3a2551bc9c50544cf",
       "version_major": 2,
       "version_minor": 0
      },
      "text/plain": [
       "서울_BiRNN:   0%|          | 0/72 [00:00<?, ?it/s]"
      ]
     },
     "metadata": {},
     "output_type": "display_data"
    },
    {
     "data": {
      "application/vnd.jupyter.widget-view+json": {
       "model_id": "1433b002c3c041c19ce3a3b27a1bc1d9",
       "version_major": 2,
       "version_minor": 0
      },
      "text/plain": [
       "서울_BiLSTM:   0%|          | 0/72 [00:00<?, ?it/s]"
      ]
     },
     "metadata": {},
     "output_type": "display_data"
    },
    {
     "data": {
      "application/vnd.jupyter.widget-view+json": {
       "model_id": "b939f1070b014e5fa9c2161390ad2740",
       "version_major": 2,
       "version_minor": 0
      },
      "text/plain": [
       "서울_BiGRU:   0%|          | 0/72 [00:00<?, ?it/s]"
      ]
     },
     "metadata": {},
     "output_type": "display_data"
    },
    {
     "data": {
      "application/vnd.jupyter.widget-view+json": {
       "model_id": "9f428c90ca794740aa573144dd82ce59",
       "version_major": 2,
       "version_minor": 0
      },
      "text/plain": [
       "서울_seq2seq_RNN:   0%|          | 0/72 [00:00<?, ?it/s]"
      ]
     },
     "metadata": {},
     "output_type": "display_data"
    },
    {
     "data": {
      "application/vnd.jupyter.widget-view+json": {
       "model_id": "c7e0a97a41324684a191fb9fd96395a0",
       "version_major": 2,
       "version_minor": 0
      },
      "text/plain": [
       "서울_seq2seq_LSTM:   0%|          | 0/72 [00:00<?, ?it/s]"
      ]
     },
     "metadata": {},
     "output_type": "display_data"
    },
    {
     "data": {
      "application/vnd.jupyter.widget-view+json": {
       "model_id": "cfab7c0763e34e3196de78581d07a672",
       "version_major": 2,
       "version_minor": 0
      },
      "text/plain": [
       "서울_seq2seq_GRU:   0%|          | 0/72 [00:00<?, ?it/s]"
      ]
     },
     "metadata": {},
     "output_type": "display_data"
    },
    {
     "data": {
      "application/vnd.jupyter.widget-view+json": {
       "model_id": "0f7f05e6589d4227ad83f3aa87d11093",
       "version_major": 2,
       "version_minor": 0
      },
      "text/plain": [
       "서울_seq2seq_BiRNN:   0%|          | 0/72 [00:00<?, ?it/s]"
      ]
     },
     "metadata": {},
     "output_type": "display_data"
    },
    {
     "data": {
      "application/vnd.jupyter.widget-view+json": {
       "model_id": "6fa6c8df83ac413ca5429fb32f51749d",
       "version_major": 2,
       "version_minor": 0
      },
      "text/plain": [
       "서울_seq2seq_BiLSTM:   0%|          | 0/72 [00:00<?, ?it/s]"
      ]
     },
     "metadata": {},
     "output_type": "display_data"
    },
    {
     "data": {
      "application/vnd.jupyter.widget-view+json": {
       "model_id": "6c498b9083bd4c1a9b1c63b7ef6951e9",
       "version_major": 2,
       "version_minor": 0
      },
      "text/plain": [
       "서울_seq2seq_BiGRU:   0%|          | 0/72 [00:00<?, ?it/s]"
      ]
     },
     "metadata": {},
     "output_type": "display_data"
    },
    {
     "data": {
      "application/vnd.jupyter.widget-view+json": {
       "model_id": "e97038ffca8c4a2287c77cf05b0f8a49",
       "version_major": 2,
       "version_minor": 0
      },
      "text/plain": [
       "세종:   0%|          | 0/12 [00:00<?, ?it/s]"
      ]
     },
     "metadata": {},
     "output_type": "display_data"
    },
    {
     "data": {
      "application/vnd.jupyter.widget-view+json": {
       "model_id": "1134bfc23b584a5b9d506ef8b50afcc9",
       "version_major": 2,
       "version_minor": 0
      },
      "text/plain": [
       "세종_RNN:   0%|          | 0/72 [00:00<?, ?it/s]"
      ]
     },
     "metadata": {},
     "output_type": "display_data"
    },
    {
     "data": {
      "application/vnd.jupyter.widget-view+json": {
       "model_id": "e0554ee2347c48e6aa690558a96ca69e",
       "version_major": 2,
       "version_minor": 0
      },
      "text/plain": [
       "세종_LSTM:   0%|          | 0/72 [00:00<?, ?it/s]"
      ]
     },
     "metadata": {},
     "output_type": "display_data"
    },
    {
     "data": {
      "application/vnd.jupyter.widget-view+json": {
       "model_id": "015a8fa118244427a7ecb620dad7f4c2",
       "version_major": 2,
       "version_minor": 0
      },
      "text/plain": [
       "세종_GRU:   0%|          | 0/72 [00:00<?, ?it/s]"
      ]
     },
     "metadata": {},
     "output_type": "display_data"
    },
    {
     "data": {
      "application/vnd.jupyter.widget-view+json": {
       "model_id": "5d105f94e5d14ba0af8b4a5b13835fac",
       "version_major": 2,
       "version_minor": 0
      },
      "text/plain": [
       "세종_BiRNN:   0%|          | 0/72 [00:00<?, ?it/s]"
      ]
     },
     "metadata": {},
     "output_type": "display_data"
    },
    {
     "data": {
      "application/vnd.jupyter.widget-view+json": {
       "model_id": "f4f3aa361acc4b489cb0e2cb1588d661",
       "version_major": 2,
       "version_minor": 0
      },
      "text/plain": [
       "세종_BiLSTM:   0%|          | 0/72 [00:00<?, ?it/s]"
      ]
     },
     "metadata": {},
     "output_type": "display_data"
    },
    {
     "data": {
      "application/vnd.jupyter.widget-view+json": {
       "model_id": "7247fde5c6624996803916bc96c34e77",
       "version_major": 2,
       "version_minor": 0
      },
      "text/plain": [
       "세종_BiGRU:   0%|          | 0/72 [00:00<?, ?it/s]"
      ]
     },
     "metadata": {},
     "output_type": "display_data"
    },
    {
     "data": {
      "application/vnd.jupyter.widget-view+json": {
       "model_id": "24c10787d36c4952a01b740b728533be",
       "version_major": 2,
       "version_minor": 0
      },
      "text/plain": [
       "세종_seq2seq_RNN:   0%|          | 0/72 [00:00<?, ?it/s]"
      ]
     },
     "metadata": {},
     "output_type": "display_data"
    },
    {
     "data": {
      "application/vnd.jupyter.widget-view+json": {
       "model_id": "f027ea0c071646a1b600612d1a2766e7",
       "version_major": 2,
       "version_minor": 0
      },
      "text/plain": [
       "세종_seq2seq_LSTM:   0%|          | 0/72 [00:00<?, ?it/s]"
      ]
     },
     "metadata": {},
     "output_type": "display_data"
    },
    {
     "data": {
      "application/vnd.jupyter.widget-view+json": {
       "model_id": "b084d25a35554b9ca33e3bfaebef1867",
       "version_major": 2,
       "version_minor": 0
      },
      "text/plain": [
       "세종_seq2seq_GRU:   0%|          | 0/72 [00:00<?, ?it/s]"
      ]
     },
     "metadata": {},
     "output_type": "display_data"
    },
    {
     "data": {
      "application/vnd.jupyter.widget-view+json": {
       "model_id": "771970ae20884c40a631b96622eb13b1",
       "version_major": 2,
       "version_minor": 0
      },
      "text/plain": [
       "세종_seq2seq_BiRNN:   0%|          | 0/72 [00:00<?, ?it/s]"
      ]
     },
     "metadata": {},
     "output_type": "display_data"
    },
    {
     "data": {
      "application/vnd.jupyter.widget-view+json": {
       "model_id": "85bc2cda0640493eb58459325417b8e2",
       "version_major": 2,
       "version_minor": 0
      },
      "text/plain": [
       "세종_seq2seq_BiLSTM:   0%|          | 0/72 [00:00<?, ?it/s]"
      ]
     },
     "metadata": {},
     "output_type": "display_data"
    },
    {
     "data": {
      "application/vnd.jupyter.widget-view+json": {
       "model_id": "8885c26267ad4b1ea3e3a324bd643179",
       "version_major": 2,
       "version_minor": 0
      },
      "text/plain": [
       "세종_seq2seq_BiGRU:   0%|          | 0/72 [00:00<?, ?it/s]"
      ]
     },
     "metadata": {},
     "output_type": "display_data"
    },
    {
     "data": {
      "application/vnd.jupyter.widget-view+json": {
       "model_id": "612be577451c45dfbc5cf4913ebca121",
       "version_major": 2,
       "version_minor": 0
      },
      "text/plain": [
       "울산:   0%|          | 0/12 [00:00<?, ?it/s]"
      ]
     },
     "metadata": {},
     "output_type": "display_data"
    },
    {
     "data": {
      "application/vnd.jupyter.widget-view+json": {
       "model_id": "8198006b3f26477db4f1513c715eebb2",
       "version_major": 2,
       "version_minor": 0
      },
      "text/plain": [
       "울산_RNN:   0%|          | 0/72 [00:00<?, ?it/s]"
      ]
     },
     "metadata": {},
     "output_type": "display_data"
    },
    {
     "data": {
      "application/vnd.jupyter.widget-view+json": {
       "model_id": "59f312f374ae443b886fbccedb257dbb",
       "version_major": 2,
       "version_minor": 0
      },
      "text/plain": [
       "울산_LSTM:   0%|          | 0/72 [00:00<?, ?it/s]"
      ]
     },
     "metadata": {},
     "output_type": "display_data"
    },
    {
     "data": {
      "application/vnd.jupyter.widget-view+json": {
       "model_id": "574c5800fa364d26b2e150cb12b2b3a6",
       "version_major": 2,
       "version_minor": 0
      },
      "text/plain": [
       "울산_GRU:   0%|          | 0/72 [00:00<?, ?it/s]"
      ]
     },
     "metadata": {},
     "output_type": "display_data"
    },
    {
     "data": {
      "application/vnd.jupyter.widget-view+json": {
       "model_id": "1717f4c013834559afe7db200e1c6161",
       "version_major": 2,
       "version_minor": 0
      },
      "text/plain": [
       "울산_BiRNN:   0%|          | 0/72 [00:00<?, ?it/s]"
      ]
     },
     "metadata": {},
     "output_type": "display_data"
    },
    {
     "data": {
      "application/vnd.jupyter.widget-view+json": {
       "model_id": "ce1cbe88f81d4ba6aa384abe92aec450",
       "version_major": 2,
       "version_minor": 0
      },
      "text/plain": [
       "울산_BiLSTM:   0%|          | 0/72 [00:00<?, ?it/s]"
      ]
     },
     "metadata": {},
     "output_type": "display_data"
    },
    {
     "data": {
      "application/vnd.jupyter.widget-view+json": {
       "model_id": "61d4dab0a9d74f6e89cefb2805095467",
       "version_major": 2,
       "version_minor": 0
      },
      "text/plain": [
       "울산_BiGRU:   0%|          | 0/72 [00:00<?, ?it/s]"
      ]
     },
     "metadata": {},
     "output_type": "display_data"
    },
    {
     "data": {
      "application/vnd.jupyter.widget-view+json": {
       "model_id": "2a663ab10f57432793fbe2b0f15d902c",
       "version_major": 2,
       "version_minor": 0
      },
      "text/plain": [
       "울산_seq2seq_RNN:   0%|          | 0/72 [00:00<?, ?it/s]"
      ]
     },
     "metadata": {},
     "output_type": "display_data"
    },
    {
     "data": {
      "application/vnd.jupyter.widget-view+json": {
       "model_id": "d849ad2633984ad990a51b8942ed0d0e",
       "version_major": 2,
       "version_minor": 0
      },
      "text/plain": [
       "울산_seq2seq_LSTM:   0%|          | 0/72 [00:00<?, ?it/s]"
      ]
     },
     "metadata": {},
     "output_type": "display_data"
    },
    {
     "data": {
      "application/vnd.jupyter.widget-view+json": {
       "model_id": "bec404ece7aa412fb595a290a8e30946",
       "version_major": 2,
       "version_minor": 0
      },
      "text/plain": [
       "울산_seq2seq_GRU:   0%|          | 0/72 [00:00<?, ?it/s]"
      ]
     },
     "metadata": {},
     "output_type": "display_data"
    },
    {
     "data": {
      "application/vnd.jupyter.widget-view+json": {
       "model_id": "b0b244934c234bbdbd5f2abd1253e4f6",
       "version_major": 2,
       "version_minor": 0
      },
      "text/plain": [
       "울산_seq2seq_BiRNN:   0%|          | 0/72 [00:00<?, ?it/s]"
      ]
     },
     "metadata": {},
     "output_type": "display_data"
    },
    {
     "data": {
      "application/vnd.jupyter.widget-view+json": {
       "model_id": "7b792c06f4fe4d66b015e8f6fc697f9b",
       "version_major": 2,
       "version_minor": 0
      },
      "text/plain": [
       "울산_seq2seq_BiLSTM:   0%|          | 0/72 [00:00<?, ?it/s]"
      ]
     },
     "metadata": {},
     "output_type": "display_data"
    },
    {
     "data": {
      "application/vnd.jupyter.widget-view+json": {
       "model_id": "be428ca137954b5184a303e4c77852c8",
       "version_major": 2,
       "version_minor": 0
      },
      "text/plain": [
       "울산_seq2seq_BiGRU:   0%|          | 0/72 [00:00<?, ?it/s]"
      ]
     },
     "metadata": {},
     "output_type": "display_data"
    },
    {
     "data": {
      "application/vnd.jupyter.widget-view+json": {
       "model_id": "c142a079af61472a8879c6859e2cbded",
       "version_major": 2,
       "version_minor": 0
      },
      "text/plain": [
       "인천:   0%|          | 0/12 [00:00<?, ?it/s]"
      ]
     },
     "metadata": {},
     "output_type": "display_data"
    },
    {
     "data": {
      "application/vnd.jupyter.widget-view+json": {
       "model_id": "9d7d7160df2947d4a2c333b161085750",
       "version_major": 2,
       "version_minor": 0
      },
      "text/plain": [
       "인천_RNN:   0%|          | 0/72 [00:00<?, ?it/s]"
      ]
     },
     "metadata": {},
     "output_type": "display_data"
    },
    {
     "data": {
      "application/vnd.jupyter.widget-view+json": {
       "model_id": "75f7f12a2cd84b0d881436f357d309ed",
       "version_major": 2,
       "version_minor": 0
      },
      "text/plain": [
       "인천_LSTM:   0%|          | 0/72 [00:00<?, ?it/s]"
      ]
     },
     "metadata": {},
     "output_type": "display_data"
    },
    {
     "data": {
      "application/vnd.jupyter.widget-view+json": {
       "model_id": "39b12bd291bf48fa9734566370ad515b",
       "version_major": 2,
       "version_minor": 0
      },
      "text/plain": [
       "인천_GRU:   0%|          | 0/72 [00:00<?, ?it/s]"
      ]
     },
     "metadata": {},
     "output_type": "display_data"
    },
    {
     "data": {
      "application/vnd.jupyter.widget-view+json": {
       "model_id": "350d1cf35a8a47be828b7766ba2188bc",
       "version_major": 2,
       "version_minor": 0
      },
      "text/plain": [
       "인천_BiRNN:   0%|          | 0/72 [00:00<?, ?it/s]"
      ]
     },
     "metadata": {},
     "output_type": "display_data"
    },
    {
     "data": {
      "application/vnd.jupyter.widget-view+json": {
       "model_id": "4090d7e072f74a358410e24a1f38dfa5",
       "version_major": 2,
       "version_minor": 0
      },
      "text/plain": [
       "인천_BiLSTM:   0%|          | 0/72 [00:00<?, ?it/s]"
      ]
     },
     "metadata": {},
     "output_type": "display_data"
    },
    {
     "data": {
      "application/vnd.jupyter.widget-view+json": {
       "model_id": "c87cf1b04ffc45cc8ae134d2bc8cf024",
       "version_major": 2,
       "version_minor": 0
      },
      "text/plain": [
       "인천_BiGRU:   0%|          | 0/72 [00:00<?, ?it/s]"
      ]
     },
     "metadata": {},
     "output_type": "display_data"
    },
    {
     "data": {
      "application/vnd.jupyter.widget-view+json": {
       "model_id": "ce993e3f7d7443ce9b28d948cf7c9f97",
       "version_major": 2,
       "version_minor": 0
      },
      "text/plain": [
       "인천_seq2seq_RNN:   0%|          | 0/72 [00:00<?, ?it/s]"
      ]
     },
     "metadata": {},
     "output_type": "display_data"
    },
    {
     "data": {
      "application/vnd.jupyter.widget-view+json": {
       "model_id": "57103ed2b4e845d79979906d58e87423",
       "version_major": 2,
       "version_minor": 0
      },
      "text/plain": [
       "인천_seq2seq_LSTM:   0%|          | 0/72 [00:00<?, ?it/s]"
      ]
     },
     "metadata": {},
     "output_type": "display_data"
    },
    {
     "data": {
      "application/vnd.jupyter.widget-view+json": {
       "model_id": "e59998524a784ff881ce224a0679852e",
       "version_major": 2,
       "version_minor": 0
      },
      "text/plain": [
       "인천_seq2seq_GRU:   0%|          | 0/72 [00:00<?, ?it/s]"
      ]
     },
     "metadata": {},
     "output_type": "display_data"
    },
    {
     "data": {
      "application/vnd.jupyter.widget-view+json": {
       "model_id": "00100039ddc94bddab092d0c4d3e8be6",
       "version_major": 2,
       "version_minor": 0
      },
      "text/plain": [
       "인천_seq2seq_BiRNN:   0%|          | 0/72 [00:00<?, ?it/s]"
      ]
     },
     "metadata": {},
     "output_type": "display_data"
    },
    {
     "data": {
      "application/vnd.jupyter.widget-view+json": {
       "model_id": "9fe144087bbd4312bd0dabc1ee17787e",
       "version_major": 2,
       "version_minor": 0
      },
      "text/plain": [
       "인천_seq2seq_BiLSTM:   0%|          | 0/72 [00:00<?, ?it/s]"
      ]
     },
     "metadata": {},
     "output_type": "display_data"
    },
    {
     "data": {
      "application/vnd.jupyter.widget-view+json": {
       "model_id": "bf719a3f25a6402e9bb503bf6dec6da0",
       "version_major": 2,
       "version_minor": 0
      },
      "text/plain": [
       "인천_seq2seq_BiGRU:   0%|          | 0/72 [00:00<?, ?it/s]"
      ]
     },
     "metadata": {},
     "output_type": "display_data"
    },
    {
     "data": {
      "application/vnd.jupyter.widget-view+json": {
       "model_id": "56e455c61cc8451087ed2337202a2569",
       "version_major": 2,
       "version_minor": 0
      },
      "text/plain": [
       "전남:   0%|          | 0/12 [00:00<?, ?it/s]"
      ]
     },
     "metadata": {},
     "output_type": "display_data"
    },
    {
     "data": {
      "application/vnd.jupyter.widget-view+json": {
       "model_id": "54e876825c7940039424319a97f83865",
       "version_major": 2,
       "version_minor": 0
      },
      "text/plain": [
       "전남_RNN:   0%|          | 0/72 [00:00<?, ?it/s]"
      ]
     },
     "metadata": {},
     "output_type": "display_data"
    },
    {
     "data": {
      "application/vnd.jupyter.widget-view+json": {
       "model_id": "cb58e95f7419407db6f8d97447bb7cae",
       "version_major": 2,
       "version_minor": 0
      },
      "text/plain": [
       "전남_LSTM:   0%|          | 0/72 [00:00<?, ?it/s]"
      ]
     },
     "metadata": {},
     "output_type": "display_data"
    },
    {
     "data": {
      "application/vnd.jupyter.widget-view+json": {
       "model_id": "76f596696a344d719a0109923bbe054b",
       "version_major": 2,
       "version_minor": 0
      },
      "text/plain": [
       "전남_GRU:   0%|          | 0/72 [00:00<?, ?it/s]"
      ]
     },
     "metadata": {},
     "output_type": "display_data"
    },
    {
     "data": {
      "application/vnd.jupyter.widget-view+json": {
       "model_id": "4ec4953e26a644029c2df95412758452",
       "version_major": 2,
       "version_minor": 0
      },
      "text/plain": [
       "전남_BiRNN:   0%|          | 0/72 [00:00<?, ?it/s]"
      ]
     },
     "metadata": {},
     "output_type": "display_data"
    },
    {
     "data": {
      "application/vnd.jupyter.widget-view+json": {
       "model_id": "fb05a1d154274ca7848e0dc028af171e",
       "version_major": 2,
       "version_minor": 0
      },
      "text/plain": [
       "전남_BiLSTM:   0%|          | 0/72 [00:00<?, ?it/s]"
      ]
     },
     "metadata": {},
     "output_type": "display_data"
    },
    {
     "data": {
      "application/vnd.jupyter.widget-view+json": {
       "model_id": "df0ecd2fb1374a3587fdfeda4a8d9413",
       "version_major": 2,
       "version_minor": 0
      },
      "text/plain": [
       "전남_BiGRU:   0%|          | 0/72 [00:00<?, ?it/s]"
      ]
     },
     "metadata": {},
     "output_type": "display_data"
    },
    {
     "data": {
      "application/vnd.jupyter.widget-view+json": {
       "model_id": "19c3659d767743eb833e6b4658967cb1",
       "version_major": 2,
       "version_minor": 0
      },
      "text/plain": [
       "전남_seq2seq_RNN:   0%|          | 0/72 [00:00<?, ?it/s]"
      ]
     },
     "metadata": {},
     "output_type": "display_data"
    },
    {
     "data": {
      "application/vnd.jupyter.widget-view+json": {
       "model_id": "18eeacb14b26497bb96c5defcc50076f",
       "version_major": 2,
       "version_minor": 0
      },
      "text/plain": [
       "전남_seq2seq_LSTM:   0%|          | 0/72 [00:00<?, ?it/s]"
      ]
     },
     "metadata": {},
     "output_type": "display_data"
    },
    {
     "data": {
      "application/vnd.jupyter.widget-view+json": {
       "model_id": "1aad89c0db334d7cbff1771d730f4816",
       "version_major": 2,
       "version_minor": 0
      },
      "text/plain": [
       "전남_seq2seq_GRU:   0%|          | 0/72 [00:00<?, ?it/s]"
      ]
     },
     "metadata": {},
     "output_type": "display_data"
    },
    {
     "data": {
      "application/vnd.jupyter.widget-view+json": {
       "model_id": "f04c4201036441dfa85bb7839239cad7",
       "version_major": 2,
       "version_minor": 0
      },
      "text/plain": [
       "전남_seq2seq_BiRNN:   0%|          | 0/72 [00:00<?, ?it/s]"
      ]
     },
     "metadata": {},
     "output_type": "display_data"
    },
    {
     "data": {
      "application/vnd.jupyter.widget-view+json": {
       "model_id": "31bfbb6d07974b3ab28127df03c96772",
       "version_major": 2,
       "version_minor": 0
      },
      "text/plain": [
       "전남_seq2seq_BiLSTM:   0%|          | 0/72 [00:00<?, ?it/s]"
      ]
     },
     "metadata": {},
     "output_type": "display_data"
    },
    {
     "data": {
      "application/vnd.jupyter.widget-view+json": {
       "model_id": "918a551bbc9f4c95bcbeb119b3aaf00a",
       "version_major": 2,
       "version_minor": 0
      },
      "text/plain": [
       "전남_seq2seq_BiGRU:   0%|          | 0/72 [00:00<?, ?it/s]"
      ]
     },
     "metadata": {},
     "output_type": "display_data"
    },
    {
     "data": {
      "application/vnd.jupyter.widget-view+json": {
       "model_id": "4c1e79e030f54aff97e5985c01105628",
       "version_major": 2,
       "version_minor": 0
      },
      "text/plain": [
       "전북:   0%|          | 0/12 [00:00<?, ?it/s]"
      ]
     },
     "metadata": {},
     "output_type": "display_data"
    },
    {
     "data": {
      "application/vnd.jupyter.widget-view+json": {
       "model_id": "b3048f6ab95844689883e71890b93e0b",
       "version_major": 2,
       "version_minor": 0
      },
      "text/plain": [
       "전북_RNN:   0%|          | 0/72 [00:00<?, ?it/s]"
      ]
     },
     "metadata": {},
     "output_type": "display_data"
    },
    {
     "data": {
      "application/vnd.jupyter.widget-view+json": {
       "model_id": "5e648be5a2614951a3ea123d44a810d1",
       "version_major": 2,
       "version_minor": 0
      },
      "text/plain": [
       "전북_LSTM:   0%|          | 0/72 [00:00<?, ?it/s]"
      ]
     },
     "metadata": {},
     "output_type": "display_data"
    },
    {
     "data": {
      "application/vnd.jupyter.widget-view+json": {
       "model_id": "8ba8cd0046154f40b6cff6a6a20cd528",
       "version_major": 2,
       "version_minor": 0
      },
      "text/plain": [
       "전북_GRU:   0%|          | 0/72 [00:00<?, ?it/s]"
      ]
     },
     "metadata": {},
     "output_type": "display_data"
    },
    {
     "data": {
      "application/vnd.jupyter.widget-view+json": {
       "model_id": "d5546a3e1de640b3bd91206cbcffefd6",
       "version_major": 2,
       "version_minor": 0
      },
      "text/plain": [
       "전북_BiRNN:   0%|          | 0/72 [00:00<?, ?it/s]"
      ]
     },
     "metadata": {},
     "output_type": "display_data"
    },
    {
     "data": {
      "application/vnd.jupyter.widget-view+json": {
       "model_id": "52c75c455e5e45c7943bcd892e0a4c6a",
       "version_major": 2,
       "version_minor": 0
      },
      "text/plain": [
       "전북_BiLSTM:   0%|          | 0/72 [00:00<?, ?it/s]"
      ]
     },
     "metadata": {},
     "output_type": "display_data"
    },
    {
     "data": {
      "application/vnd.jupyter.widget-view+json": {
       "model_id": "62bfa78f91b7424181d9c7422cd6f998",
       "version_major": 2,
       "version_minor": 0
      },
      "text/plain": [
       "전북_BiGRU:   0%|          | 0/72 [00:00<?, ?it/s]"
      ]
     },
     "metadata": {},
     "output_type": "display_data"
    },
    {
     "data": {
      "application/vnd.jupyter.widget-view+json": {
       "model_id": "e551e729b2164dbfaa0316dd25e2b0fc",
       "version_major": 2,
       "version_minor": 0
      },
      "text/plain": [
       "전북_seq2seq_RNN:   0%|          | 0/72 [00:00<?, ?it/s]"
      ]
     },
     "metadata": {},
     "output_type": "display_data"
    },
    {
     "data": {
      "application/vnd.jupyter.widget-view+json": {
       "model_id": "adbd2461c8f5455385429e72fbd6ad34",
       "version_major": 2,
       "version_minor": 0
      },
      "text/plain": [
       "전북_seq2seq_LSTM:   0%|          | 0/72 [00:00<?, ?it/s]"
      ]
     },
     "metadata": {},
     "output_type": "display_data"
    },
    {
     "data": {
      "application/vnd.jupyter.widget-view+json": {
       "model_id": "4305128d9c344275a6c6712f3749296b",
       "version_major": 2,
       "version_minor": 0
      },
      "text/plain": [
       "전북_seq2seq_GRU:   0%|          | 0/72 [00:00<?, ?it/s]"
      ]
     },
     "metadata": {},
     "output_type": "display_data"
    },
    {
     "data": {
      "application/vnd.jupyter.widget-view+json": {
       "model_id": "d9daf11ed0144ce996d059580af73e39",
       "version_major": 2,
       "version_minor": 0
      },
      "text/plain": [
       "전북_seq2seq_BiRNN:   0%|          | 0/72 [00:00<?, ?it/s]"
      ]
     },
     "metadata": {},
     "output_type": "display_data"
    },
    {
     "data": {
      "application/vnd.jupyter.widget-view+json": {
       "model_id": "074eaec841fb487c869b722b51a9b963",
       "version_major": 2,
       "version_minor": 0
      },
      "text/plain": [
       "전북_seq2seq_BiLSTM:   0%|          | 0/72 [00:00<?, ?it/s]"
      ]
     },
     "metadata": {},
     "output_type": "display_data"
    },
    {
     "data": {
      "application/vnd.jupyter.widget-view+json": {
       "model_id": "db355556a3ed411fa406d4a59dad6be9",
       "version_major": 2,
       "version_minor": 0
      },
      "text/plain": [
       "전북_seq2seq_BiGRU:   0%|          | 0/72 [00:00<?, ?it/s]"
      ]
     },
     "metadata": {},
     "output_type": "display_data"
    },
    {
     "data": {
      "application/vnd.jupyter.widget-view+json": {
       "model_id": "c156c4332cdd4e1ba73d043cb42d931c",
       "version_major": 2,
       "version_minor": 0
      },
      "text/plain": [
       "제주:   0%|          | 0/12 [00:00<?, ?it/s]"
      ]
     },
     "metadata": {},
     "output_type": "display_data"
    },
    {
     "data": {
      "application/vnd.jupyter.widget-view+json": {
       "model_id": "4d89ca1b15964fe4b97771942514cb38",
       "version_major": 2,
       "version_minor": 0
      },
      "text/plain": [
       "제주_RNN:   0%|          | 0/72 [00:00<?, ?it/s]"
      ]
     },
     "metadata": {},
     "output_type": "display_data"
    },
    {
     "data": {
      "application/vnd.jupyter.widget-view+json": {
       "model_id": "4b4c49eaa81f42c9858f071daecceedc",
       "version_major": 2,
       "version_minor": 0
      },
      "text/plain": [
       "제주_LSTM:   0%|          | 0/72 [00:00<?, ?it/s]"
      ]
     },
     "metadata": {},
     "output_type": "display_data"
    },
    {
     "data": {
      "application/vnd.jupyter.widget-view+json": {
       "model_id": "7d4d676cb71a45d8959a89894218c487",
       "version_major": 2,
       "version_minor": 0
      },
      "text/plain": [
       "제주_GRU:   0%|          | 0/72 [00:00<?, ?it/s]"
      ]
     },
     "metadata": {},
     "output_type": "display_data"
    },
    {
     "data": {
      "application/vnd.jupyter.widget-view+json": {
       "model_id": "6efde4023a13489dba45050182c7c956",
       "version_major": 2,
       "version_minor": 0
      },
      "text/plain": [
       "제주_BiRNN:   0%|          | 0/72 [00:00<?, ?it/s]"
      ]
     },
     "metadata": {},
     "output_type": "display_data"
    },
    {
     "data": {
      "application/vnd.jupyter.widget-view+json": {
       "model_id": "4794659380024819952529bd29182203",
       "version_major": 2,
       "version_minor": 0
      },
      "text/plain": [
       "제주_BiLSTM:   0%|          | 0/72 [00:00<?, ?it/s]"
      ]
     },
     "metadata": {},
     "output_type": "display_data"
    },
    {
     "data": {
      "application/vnd.jupyter.widget-view+json": {
       "model_id": "e84a4291850e4190af075d5b528a89a4",
       "version_major": 2,
       "version_minor": 0
      },
      "text/plain": [
       "제주_BiGRU:   0%|          | 0/72 [00:00<?, ?it/s]"
      ]
     },
     "metadata": {},
     "output_type": "display_data"
    },
    {
     "data": {
      "application/vnd.jupyter.widget-view+json": {
       "model_id": "47b28522522a4600af3c4f6ee9e6573b",
       "version_major": 2,
       "version_minor": 0
      },
      "text/plain": [
       "제주_seq2seq_RNN:   0%|          | 0/72 [00:00<?, ?it/s]"
      ]
     },
     "metadata": {},
     "output_type": "display_data"
    },
    {
     "data": {
      "application/vnd.jupyter.widget-view+json": {
       "model_id": "39e82f4011324bd9804d4e2ffe7c46bf",
       "version_major": 2,
       "version_minor": 0
      },
      "text/plain": [
       "제주_seq2seq_LSTM:   0%|          | 0/72 [00:00<?, ?it/s]"
      ]
     },
     "metadata": {},
     "output_type": "display_data"
    },
    {
     "data": {
      "application/vnd.jupyter.widget-view+json": {
       "model_id": "3cf31f5bc84442b6810418fec0e13078",
       "version_major": 2,
       "version_minor": 0
      },
      "text/plain": [
       "제주_seq2seq_GRU:   0%|          | 0/72 [00:00<?, ?it/s]"
      ]
     },
     "metadata": {},
     "output_type": "display_data"
    },
    {
     "data": {
      "application/vnd.jupyter.widget-view+json": {
       "model_id": "1d1336c47e0c463d818db0b422d00398",
       "version_major": 2,
       "version_minor": 0
      },
      "text/plain": [
       "제주_seq2seq_BiRNN:   0%|          | 0/72 [00:00<?, ?it/s]"
      ]
     },
     "metadata": {},
     "output_type": "display_data"
    },
    {
     "data": {
      "application/vnd.jupyter.widget-view+json": {
       "model_id": "9e357645a73a4505b44dd74df38ddd44",
       "version_major": 2,
       "version_minor": 0
      },
      "text/plain": [
       "제주_seq2seq_BiLSTM:   0%|          | 0/72 [00:00<?, ?it/s]"
      ]
     },
     "metadata": {},
     "output_type": "display_data"
    },
    {
     "data": {
      "application/vnd.jupyter.widget-view+json": {
       "model_id": "a5fdb478bcde4fc3af71e1828dbbf007",
       "version_major": 2,
       "version_minor": 0
      },
      "text/plain": [
       "제주_seq2seq_BiGRU:   0%|          | 0/72 [00:00<?, ?it/s]"
      ]
     },
     "metadata": {},
     "output_type": "display_data"
    },
    {
     "data": {
      "application/vnd.jupyter.widget-view+json": {
       "model_id": "941e49c0951d4107b16fbe4c64e54bdc",
       "version_major": 2,
       "version_minor": 0
      },
      "text/plain": [
       "충남:   0%|          | 0/12 [00:00<?, ?it/s]"
      ]
     },
     "metadata": {},
     "output_type": "display_data"
    },
    {
     "data": {
      "application/vnd.jupyter.widget-view+json": {
       "model_id": "0c2aed13d3234dff9a8e31774a22cf6b",
       "version_major": 2,
       "version_minor": 0
      },
      "text/plain": [
       "충남_RNN:   0%|          | 0/72 [00:00<?, ?it/s]"
      ]
     },
     "metadata": {},
     "output_type": "display_data"
    },
    {
     "data": {
      "application/vnd.jupyter.widget-view+json": {
       "model_id": "ab8661a0df9b43a483b93536a13b3291",
       "version_major": 2,
       "version_minor": 0
      },
      "text/plain": [
       "충남_LSTM:   0%|          | 0/72 [00:00<?, ?it/s]"
      ]
     },
     "metadata": {},
     "output_type": "display_data"
    },
    {
     "data": {
      "application/vnd.jupyter.widget-view+json": {
       "model_id": "e891ceb1c96b41b38dbb20a9a2f77b9b",
       "version_major": 2,
       "version_minor": 0
      },
      "text/plain": [
       "충남_GRU:   0%|          | 0/72 [00:00<?, ?it/s]"
      ]
     },
     "metadata": {},
     "output_type": "display_data"
    },
    {
     "data": {
      "application/vnd.jupyter.widget-view+json": {
       "model_id": "cd03d2c0897d4b37a9a98073e4a52fa5",
       "version_major": 2,
       "version_minor": 0
      },
      "text/plain": [
       "충남_BiRNN:   0%|          | 0/72 [00:00<?, ?it/s]"
      ]
     },
     "metadata": {},
     "output_type": "display_data"
    },
    {
     "data": {
      "application/vnd.jupyter.widget-view+json": {
       "model_id": "74428259e85f450b9273875554e6a0d3",
       "version_major": 2,
       "version_minor": 0
      },
      "text/plain": [
       "충남_BiLSTM:   0%|          | 0/72 [00:00<?, ?it/s]"
      ]
     },
     "metadata": {},
     "output_type": "display_data"
    },
    {
     "data": {
      "application/vnd.jupyter.widget-view+json": {
       "model_id": "03eca04e12904bf5ba3dc294c575b9af",
       "version_major": 2,
       "version_minor": 0
      },
      "text/plain": [
       "충남_BiGRU:   0%|          | 0/72 [00:00<?, ?it/s]"
      ]
     },
     "metadata": {},
     "output_type": "display_data"
    },
    {
     "data": {
      "application/vnd.jupyter.widget-view+json": {
       "model_id": "4485d5d90cf0417ab14fdd3ee5699cce",
       "version_major": 2,
       "version_minor": 0
      },
      "text/plain": [
       "충남_seq2seq_RNN:   0%|          | 0/72 [00:00<?, ?it/s]"
      ]
     },
     "metadata": {},
     "output_type": "display_data"
    },
    {
     "data": {
      "application/vnd.jupyter.widget-view+json": {
       "model_id": "0ed2a57d5a524349aa240f567cd49eb7",
       "version_major": 2,
       "version_minor": 0
      },
      "text/plain": [
       "충남_seq2seq_LSTM:   0%|          | 0/72 [00:00<?, ?it/s]"
      ]
     },
     "metadata": {},
     "output_type": "display_data"
    },
    {
     "data": {
      "application/vnd.jupyter.widget-view+json": {
       "model_id": "72cebc9d1b024d9c8151f8fb3fbc15f0",
       "version_major": 2,
       "version_minor": 0
      },
      "text/plain": [
       "충남_seq2seq_GRU:   0%|          | 0/72 [00:00<?, ?it/s]"
      ]
     },
     "metadata": {},
     "output_type": "display_data"
    },
    {
     "data": {
      "application/vnd.jupyter.widget-view+json": {
       "model_id": "b403bf97d5a5447a877cafe5f849e7af",
       "version_major": 2,
       "version_minor": 0
      },
      "text/plain": [
       "충남_seq2seq_BiRNN:   0%|          | 0/72 [00:00<?, ?it/s]"
      ]
     },
     "metadata": {},
     "output_type": "display_data"
    },
    {
     "data": {
      "application/vnd.jupyter.widget-view+json": {
       "model_id": "b34efbd68995448bae76cef78b53745e",
       "version_major": 2,
       "version_minor": 0
      },
      "text/plain": [
       "충남_seq2seq_BiLSTM:   0%|          | 0/72 [00:00<?, ?it/s]"
      ]
     },
     "metadata": {},
     "output_type": "display_data"
    },
    {
     "data": {
      "application/vnd.jupyter.widget-view+json": {
       "model_id": "c1695372e08c44af916ca3a458e8bfd5",
       "version_major": 2,
       "version_minor": 0
      },
      "text/plain": [
       "충남_seq2seq_BiGRU:   0%|          | 0/72 [00:00<?, ?it/s]"
      ]
     },
     "metadata": {},
     "output_type": "display_data"
    },
    {
     "data": {
      "application/vnd.jupyter.widget-view+json": {
       "model_id": "8ed4f9f026a247b2b80aca360799f624",
       "version_major": 2,
       "version_minor": 0
      },
      "text/plain": [
       "충북:   0%|          | 0/12 [00:00<?, ?it/s]"
      ]
     },
     "metadata": {},
     "output_type": "display_data"
    },
    {
     "data": {
      "application/vnd.jupyter.widget-view+json": {
       "model_id": "d408e3e1f3694d4380acff0696e38108",
       "version_major": 2,
       "version_minor": 0
      },
      "text/plain": [
       "충북_RNN:   0%|          | 0/72 [00:00<?, ?it/s]"
      ]
     },
     "metadata": {},
     "output_type": "display_data"
    },
    {
     "data": {
      "application/vnd.jupyter.widget-view+json": {
       "model_id": "6a6ede7d16c0499980d32b1bbc27b4fc",
       "version_major": 2,
       "version_minor": 0
      },
      "text/plain": [
       "충북_LSTM:   0%|          | 0/72 [00:00<?, ?it/s]"
      ]
     },
     "metadata": {},
     "output_type": "display_data"
    },
    {
     "data": {
      "application/vnd.jupyter.widget-view+json": {
       "model_id": "39ea03809ad045b1b5c5345acd2f0738",
       "version_major": 2,
       "version_minor": 0
      },
      "text/plain": [
       "충북_GRU:   0%|          | 0/72 [00:00<?, ?it/s]"
      ]
     },
     "metadata": {},
     "output_type": "display_data"
    },
    {
     "data": {
      "application/vnd.jupyter.widget-view+json": {
       "model_id": "72cc3b2f52384cbe941b200e038d485f",
       "version_major": 2,
       "version_minor": 0
      },
      "text/plain": [
       "충북_BiRNN:   0%|          | 0/72 [00:00<?, ?it/s]"
      ]
     },
     "metadata": {},
     "output_type": "display_data"
    },
    {
     "data": {
      "application/vnd.jupyter.widget-view+json": {
       "model_id": "6c6fd9eead804e48ba5007ba0a19fb8c",
       "version_major": 2,
       "version_minor": 0
      },
      "text/plain": [
       "충북_BiLSTM:   0%|          | 0/72 [00:00<?, ?it/s]"
      ]
     },
     "metadata": {},
     "output_type": "display_data"
    },
    {
     "data": {
      "application/vnd.jupyter.widget-view+json": {
       "model_id": "cdfc6db0fa034b489b7c4c436914f0cd",
       "version_major": 2,
       "version_minor": 0
      },
      "text/plain": [
       "충북_BiGRU:   0%|          | 0/72 [00:00<?, ?it/s]"
      ]
     },
     "metadata": {},
     "output_type": "display_data"
    },
    {
     "data": {
      "application/vnd.jupyter.widget-view+json": {
       "model_id": "359faceae47b41fcb4c986618124404c",
       "version_major": 2,
       "version_minor": 0
      },
      "text/plain": [
       "충북_seq2seq_RNN:   0%|          | 0/72 [00:00<?, ?it/s]"
      ]
     },
     "metadata": {},
     "output_type": "display_data"
    },
    {
     "data": {
      "application/vnd.jupyter.widget-view+json": {
       "model_id": "8cde43b3484a4d36bc675246dda8d639",
       "version_major": 2,
       "version_minor": 0
      },
      "text/plain": [
       "충북_seq2seq_LSTM:   0%|          | 0/72 [00:00<?, ?it/s]"
      ]
     },
     "metadata": {},
     "output_type": "display_data"
    },
    {
     "data": {
      "application/vnd.jupyter.widget-view+json": {
       "model_id": "762f60894aba4969afc30ae2239464e9",
       "version_major": 2,
       "version_minor": 0
      },
      "text/plain": [
       "충북_seq2seq_GRU:   0%|          | 0/72 [00:00<?, ?it/s]"
      ]
     },
     "metadata": {},
     "output_type": "display_data"
    },
    {
     "data": {
      "application/vnd.jupyter.widget-view+json": {
       "model_id": "edcbbc72c0e64a15b8c5e6d94a4d202a",
       "version_major": 2,
       "version_minor": 0
      },
      "text/plain": [
       "충북_seq2seq_BiRNN:   0%|          | 0/72 [00:00<?, ?it/s]"
      ]
     },
     "metadata": {},
     "output_type": "display_data"
    },
    {
     "data": {
      "application/vnd.jupyter.widget-view+json": {
       "model_id": "6fc1292da38b4c5c82a22bc38e9be9fe",
       "version_major": 2,
       "version_minor": 0
      },
      "text/plain": [
       "충북_seq2seq_BiLSTM:   0%|          | 0/72 [00:00<?, ?it/s]"
      ]
     },
     "metadata": {},
     "output_type": "display_data"
    },
    {
     "data": {
      "application/vnd.jupyter.widget-view+json": {
       "model_id": "b50506b3e86a4bf98a58e2c62e680dee",
       "version_major": 2,
       "version_minor": 0
      },
      "text/plain": [
       "충북_seq2seq_BiGRU:   0%|          | 0/72 [00:00<?, ?it/s]"
      ]
     },
     "metadata": {},
     "output_type": "display_data"
    }
   ],
   "source": [
    "trained_data = {}\n",
    "city_list = ['강원', '경기', '경남', '경북', '광주', '대구', '대전', '부산', \n",
    "             '서울', '세종', '울산', '인천', '전남', '전북', '제주', '충남', '충북']\n",
    "models_list = ['RNN', 'LSTM', 'GRU', 'BiRNN', 'BiLSTM', 'BiGRU', \n",
    "               'seq2seq_RNN', 'seq2seq_LSTM', 'seq2seq_GRU', 'seq2seq_BiRNN', 'seq2seq_BiLSTM', 'seq2seq_BiGRU']\n",
    "\n",
    "\n",
    "for city in tqdm(city_list, desc = 'cities', position = 0):\n",
    "    data = dic_files[city]\n",
    "    best_model = {}\n",
    "    \n",
    "    input_size = 3\n",
    "    sequence_length = 60\n",
    "    num_epochs = 10000\n",
    "\n",
    "    df = Prepare_df.processing(data, 'stdDay', 'delta_variants')\n",
    "\n",
    "    x = df.iloc[:, 0:]\n",
    "    y = df.iloc[:,:1]\n",
    "\n",
    "    ms = MinMaxScaler()\n",
    "    ss = StandardScaler()\n",
    "\n",
    "    ss.fit(x)\n",
    "    ms.fit(y)\n",
    "    \n",
    "    for num_model in tqdm(range(12), desc = f'{city}', position = 1):\n",
    "        rmse_min = np.inf\n",
    "        h = -1\n",
    "        \n",
    "        for hyperparameter in tqdm(hyperparameter_dict.values(), desc = f'{city}_{models_list[num_model]}', position = 2):\n",
    "            h += 1\n",
    "            if (num_model < 6) and (h % 2 == 1):\n",
    "                continue\n",
    "            model_name = models_list[num_model]\n",
    "            lr = hyperparameter[0]\n",
    "            patience = hyperparameter[1]\n",
    "            num_layers = hyperparameter[2]\n",
    "            hidden_size = hyperparameter[3]\n",
    "            dropout = hyperparameter[4]\n",
    "\n",
    "            if num_model < 6:\n",
    "                criterion = nn.MSELoss()\n",
    "            else:\n",
    "                criterion = hyperparameter[5]\n",
    "\n",
    "            if num_model < 6:\n",
    "                x, y, x_ss, y_ms, train_loader, test_loader = Prepare_df.split_data(df, 57, 60, 1, batch_size, 'mto')\n",
    "            else:\n",
    "                x, y, x_ss, y_ms, train_loader, test_loader = Prepare_df.split_data(df, 51, 60, 7, batch_size, 'mtm')\n",
    "\n",
    "            if num_model == 0:\n",
    "                model = RNN(input_size = input_size,\n",
    "                            hidden_size = hidden_size,\n",
    "                            sequence_length = sequence_length,\n",
    "                            num_layers = num_layers, \n",
    "                            dropout = dropout, \n",
    "                            device = device).to(device)\n",
    "\n",
    "            elif num_model == 1:\n",
    "                model = LSTM(input_size = input_size,\n",
    "                             hidden_size = hidden_size,\n",
    "                             sequence_length = sequence_length,\n",
    "                             num_layers = num_layers, \n",
    "                             dropout = dropout, \n",
    "                             device = device).to(device)\n",
    "\n",
    "            elif num_model == 2:\n",
    "                model = GRU(input_size = input_size,\n",
    "                            hidden_size = hidden_size,\n",
    "                            sequence_length = sequence_length,\n",
    "                            num_layers = num_layers, \n",
    "                            dropout = dropout, \n",
    "                            device = device).to(device)\n",
    "\n",
    "            elif num_model == 3:\n",
    "                model = BiRNN(input_size = input_size,\n",
    "                              hidden_size = hidden_size,\n",
    "                              sequence_length = sequence_length,\n",
    "                              num_layers = num_layers, \n",
    "                              dropout = dropout, \n",
    "                              device = device).to(device)\n",
    "\n",
    "            elif num_model == 4:\n",
    "                model = BiLSTM(input_size = input_size,\n",
    "                               hidden_size = hidden_size,\n",
    "                               sequence_length = sequence_length,\n",
    "                               num_layers = num_layers, \n",
    "                               dropout = dropout, \n",
    "                               device = device).to(device)\n",
    "\n",
    "            elif num_model == 5:\n",
    "                model = BiGRU(input_size = input_size,\n",
    "                              hidden_size = hidden_size,\n",
    "                              sequence_length = sequence_length,\n",
    "                              num_layers = num_layers, \n",
    "                              dropout = dropout, \n",
    "                              device = device).to(device)\n",
    "\n",
    "            elif num_model == 6:\n",
    "                model = RNN_encoder_decoder(input_size = input_size, \n",
    "                                            hidden_size = hidden_size,\n",
    "                                            num_layers = num_layers, \n",
    "                                            dropout = dropout,\n",
    "                                            device = device).to(device)\n",
    "\n",
    "            elif num_model == 7:\n",
    "                model = LSTM_encoder_decoder(input_size = input_size, \n",
    "                                             hidden_size = hidden_size,\n",
    "                                             num_layers = num_layers, \n",
    "                                             dropout = dropout,\n",
    "                                             device = device).to(device)\n",
    "\n",
    "            elif num_model == 8:\n",
    "                model = GRU_encoder_decoder(input_size = input_size, \n",
    "                                            hidden_size = hidden_size,\n",
    "                                            num_layers = num_layers, \n",
    "                                            dropout = dropout,\n",
    "                                            device = device).to(device)\n",
    "\n",
    "            elif num_model == 9:\n",
    "                model = BiRNN_encoder_decoder(input_size = input_size, \n",
    "                                                hidden_size = hidden_size,\n",
    "                                                num_layers = num_layers, \n",
    "                                                dropout = dropout,\n",
    "                                                device = device).to(device)\n",
    "\n",
    "            elif num_model == 10:\n",
    "                model = BiLSTM_encoder_decoder(input_size = input_size, \n",
    "                                                  hidden_size = hidden_size,\n",
    "                                                  num_layers = num_layers, \n",
    "                                                  dropout = dropout,\n",
    "                                                  device = device).to(device)\n",
    "\n",
    "            elif num_model == 11:\n",
    "                model = BiGRU_encoder_decoder(input_size = input_size, \n",
    "                                                hidden_size = hidden_size,\n",
    "                                                num_layers = num_layers, \n",
    "                                                dropout = dropout,\n",
    "                                                device = device).to(device)            \n",
    "\n",
    "            optimizer = Adam(model.parameters(), lr = lr)\n",
    "\n",
    "            if num_model < 6:\n",
    "                loss_list, model, epoch = Trainer.Many_to_One(train_loader, \n",
    "                                                              test_loader, \n",
    "                                                              model, \n",
    "                                                              criterion, \n",
    "                                                              optimizer, \n",
    "                                                              num_epochs, \n",
    "                                                              patience,\n",
    "                                                              device)\n",
    "\n",
    "                label_y, predicted = predict_mto(model, df, x_ss, y_ms)\n",
    "                \n",
    "                if rmse_min > rmse(label_y[-7:], predicted[-7:]):\n",
    "                    rmse_min = rmse(label_y[-7:], predicted[-7:])\n",
    "                    best_model[models_list[num_model]] = [rmse_min, model, loss_list, epoch, lr, patience, \n",
    "                                                          num_layers,hidden_size, dropout]\n",
    "                \n",
    "                \n",
    "            else:\n",
    "                loss_list, model, epoch = Trainer.Many_to_Many(train_loader, \n",
    "                                                               test_loader, \n",
    "                                                               model, \n",
    "                                                               criterion, \n",
    "                                                               optimizer, \n",
    "                                                               num_epochs, \n",
    "                                                               patience,\n",
    "                                                               7,\n",
    "                                                               device)        \n",
    "                \n",
    "                label_y, predicted, first_label_y, first_predicted, all_predicted = predict_mtm(model, df, x_ss, y_ms, \n",
    "                                                                                                7, 0.5, device)\n",
    "    \n",
    "                if rmse_min > rmse(label_y[-7:], predicted[-7:]):\n",
    "                    rmse_min = rmse(label_y[-7:], predicted[-7:])\n",
    "                    best_model[models_list[num_model]] = [rmse_min, model, loss_list, epoch, lr, patience, \n",
    "                                                          num_layers, hidden_size, dropout, criterion]\n",
    "            \n",
    "        \n",
    "            \n",
    "    trained_data[city] = best_model"
   ]
  },
  {
   "cell_type": "code",
   "execution_count": 6,
   "id": "a8000d5c",
   "metadata": {
    "ExecuteTime": {
     "end_time": "2023-06-20T12:53:40.935340Z",
     "start_time": "2023-06-20T12:53:40.207288Z"
    }
   },
   "outputs": [],
   "source": [
    "for city in trained_data:\n",
    "    for name, values in trained_data[city].items():\n",
    "        pass\n",
    "        save_model(values[1].state_dict(), f\"model/Infected/delta/{city}/{name}.pth\")\n",
    "        save_hyperparameter(values[3:], f\"hyperparameter/Infected/delta/{city}/{name}.pkl\")"
   ]
  },
  {
   "cell_type": "code",
   "execution_count": null,
   "id": "59e6ee6d",
   "metadata": {},
   "outputs": [],
   "source": []
  }
 ],
 "metadata": {
  "kernelspec": {
   "display_name": "KDA_DA",
   "language": "python",
   "name": "kda_da"
  },
  "language_info": {
   "codemirror_mode": {
    "name": "ipython",
    "version": 3
   },
   "file_extension": ".py",
   "mimetype": "text/x-python",
   "name": "python",
   "nbconvert_exporter": "python",
   "pygments_lexer": "ipython3",
   "version": "3.10.8"
  },
  "toc": {
   "base_numbering": 1,
   "nav_menu": {},
   "number_sections": true,
   "sideBar": true,
   "skip_h1_title": false,
   "title_cell": "Table of Contents",
   "title_sidebar": "Contents",
   "toc_cell": false,
   "toc_position": {},
   "toc_section_display": true,
   "toc_window_display": false
  }
 },
 "nbformat": 4,
 "nbformat_minor": 5
}
