{
 "cells": [
  {
   "cell_type": "code",
   "execution_count": 1,
   "id": "d97d8d30",
   "metadata": {
    "ExecuteTime": {
     "end_time": "2023-06-12T11:01:34.468767Z",
     "start_time": "2023-06-12T11:01:32.039262Z"
    }
   },
   "outputs": [],
   "source": [
    "import os\n",
    "os.chdir('D:\\\\Gnan\\\\DA\\\\KMU\\\\Prediction-COVID-19')\n",
    "from utils import *\n",
    "from model import *\n",
    "from trainer import *\n",
    "\n",
    "from tqdm.notebook import tqdm\n",
    "from torch.optim.adam import Adam\n",
    "device = torch.device('cuda:0' if torch.cuda.is_available() else 'cpu')\n",
    "\n",
    "import warnings\n",
    "warnings.filterwarnings('ignore')"
   ]
  },
  {
   "cell_type": "code",
   "execution_count": 2,
   "id": "241510fc",
   "metadata": {
    "ExecuteTime": {
     "end_time": "2023-06-12T11:01:34.530602Z",
     "start_time": "2023-06-12T11:01:34.470763Z"
    }
   },
   "outputs": [
    {
     "data": {
      "text/html": [
       "<div>\n",
       "<style scoped>\n",
       "    .dataframe tbody tr th:only-of-type {\n",
       "        vertical-align: middle;\n",
       "    }\n",
       "\n",
       "    .dataframe tbody tr th {\n",
       "        vertical-align: top;\n",
       "    }\n",
       "\n",
       "    .dataframe thead th {\n",
       "        text-align: right;\n",
       "    }\n",
       "</style>\n",
       "<table border=\"1\" class=\"dataframe\">\n",
       "  <thead>\n",
       "    <tr style=\"text-align: right;\">\n",
       "      <th></th>\n",
       "      <th>stdDay</th>\n",
       "      <th>incDec</th>\n",
       "      <th>22D_variants</th>\n",
       "      <th>23A_variants</th>\n",
       "    </tr>\n",
       "  </thead>\n",
       "  <tbody>\n",
       "    <tr>\n",
       "      <th>0</th>\n",
       "      <td>2022-12-19</td>\n",
       "      <td>973.0</td>\n",
       "      <td>467.04</td>\n",
       "      <td>9.73</td>\n",
       "    </tr>\n",
       "    <tr>\n",
       "      <th>1</th>\n",
       "      <td>2022-12-20</td>\n",
       "      <td>3625.0</td>\n",
       "      <td>1740.00</td>\n",
       "      <td>36.25</td>\n",
       "    </tr>\n",
       "    <tr>\n",
       "      <th>2</th>\n",
       "      <td>2022-12-21</td>\n",
       "      <td>3616.0</td>\n",
       "      <td>1735.68</td>\n",
       "      <td>36.16</td>\n",
       "    </tr>\n",
       "    <tr>\n",
       "      <th>3</th>\n",
       "      <td>2022-12-22</td>\n",
       "      <td>3197.0</td>\n",
       "      <td>1534.56</td>\n",
       "      <td>31.97</td>\n",
       "    </tr>\n",
       "    <tr>\n",
       "      <th>4</th>\n",
       "      <td>2022-12-23</td>\n",
       "      <td>2657.0</td>\n",
       "      <td>1275.36</td>\n",
       "      <td>26.57</td>\n",
       "    </tr>\n",
       "    <tr>\n",
       "      <th>...</th>\n",
       "      <td>...</td>\n",
       "      <td>...</td>\n",
       "      <td>...</td>\n",
       "      <td>...</td>\n",
       "    </tr>\n",
       "    <tr>\n",
       "      <th>132</th>\n",
       "      <td>2023-04-30</td>\n",
       "      <td>396.0</td>\n",
       "      <td>75.24</td>\n",
       "      <td>253.44</td>\n",
       "    </tr>\n",
       "    <tr>\n",
       "      <th>133</th>\n",
       "      <td>2023-05-01</td>\n",
       "      <td>122.0</td>\n",
       "      <td>23.18</td>\n",
       "      <td>78.08</td>\n",
       "    </tr>\n",
       "    <tr>\n",
       "      <th>134</th>\n",
       "      <td>2023-05-02</td>\n",
       "      <td>480.0</td>\n",
       "      <td>91.20</td>\n",
       "      <td>307.20</td>\n",
       "    </tr>\n",
       "    <tr>\n",
       "      <th>135</th>\n",
       "      <td>2023-05-03</td>\n",
       "      <td>464.0</td>\n",
       "      <td>88.16</td>\n",
       "      <td>296.96</td>\n",
       "    </tr>\n",
       "    <tr>\n",
       "      <th>136</th>\n",
       "      <td>2023-05-04</td>\n",
       "      <td>586.0</td>\n",
       "      <td>111.34</td>\n",
       "      <td>375.04</td>\n",
       "    </tr>\n",
       "  </tbody>\n",
       "</table>\n",
       "<p>137 rows × 4 columns</p>\n",
       "</div>"
      ],
      "text/plain": [
       "         stdDay  incDec  22D_variants  23A_variants\n",
       "0    2022-12-19   973.0        467.04          9.73\n",
       "1    2022-12-20  3625.0       1740.00         36.25\n",
       "2    2022-12-21  3616.0       1735.68         36.16\n",
       "3    2022-12-22  3197.0       1534.56         31.97\n",
       "4    2022-12-23  2657.0       1275.36         26.57\n",
       "..          ...     ...           ...           ...\n",
       "132  2023-04-30   396.0         75.24        253.44\n",
       "133  2023-05-01   122.0         23.18         78.08\n",
       "134  2023-05-02   480.0         91.20        307.20\n",
       "135  2023-05-03   464.0         88.16        296.96\n",
       "136  2023-05-04   586.0        111.34        375.04\n",
       "\n",
       "[137 rows x 4 columns]"
      ]
     },
     "execution_count": 2,
     "metadata": {},
     "output_type": "execute_result"
    }
   ],
   "source": [
    "city = '대구'\n",
    "\n",
    "path = 'Data/Variants/Infected/omicron/*.csv'\n",
    "dic_files = Load_files.load_files(path, -14, -12)\n",
    "data = dic_files[city]\n",
    "data"
   ]
  },
  {
   "cell_type": "code",
   "execution_count": 3,
   "id": "47c7287b",
   "metadata": {
    "ExecuteTime": {
     "end_time": "2023-06-12T11:01:34.546559Z",
     "start_time": "2023-06-12T11:01:34.532596Z"
    },
    "scrolled": true
   },
   "outputs": [
    {
     "data": {
      "text/plain": [
       "{'BiGRU': [132, 0.001, 20, 1, 32, 32, 0.25],\n",
       " 'BiLSTM': [1273, 0.0001, 50, 1, 32, 8, 0.25],\n",
       " 'BiRNN': [102, 0.001, 20, 1, 32, 32, 0.25],\n",
       " 'GRU': [2024, 0.0001, 50, 1, 64, 32, 0.25],\n",
       " 'LSTM': [1903, 0.0001, 50, 1, 64, 32, 0.25],\n",
       " 'RNN': [437, 0.0001, 50, 1, 32, 32, 0.25],\n",
       " 'seq2seq_BiGRU': [1014,\n",
       "  0.001,\n",
       "  50,\n",
       "  4,\n",
       "  64,\n",
       "  32,\n",
       "  0.25,\n",
       "  <function utils.criterion3(actual, predict)>],\n",
       " 'seq2seq_BiLSTM': [1214,\n",
       "  0.001,\n",
       "  50,\n",
       "  1,\n",
       "  32,\n",
       "  32,\n",
       "  0.25,\n",
       "  <function utils.criterion3(actual, predict)>],\n",
       " 'seq2seq_BiRNN': [343,\n",
       "  0.001,\n",
       "  20,\n",
       "  1,\n",
       "  64,\n",
       "  32,\n",
       "  0.25,\n",
       "  <function utils.criterion2(actual, predict)>],\n",
       " 'seq2seq_GRU': [989,\n",
       "  0.001,\n",
       "  50,\n",
       "  2,\n",
       "  64,\n",
       "  16,\n",
       "  0.25,\n",
       "  <function utils.criterion3(actual, predict)>],\n",
       " 'seq2seq_LSTM': [1084,\n",
       "  0.001,\n",
       "  50,\n",
       "  4,\n",
       "  64,\n",
       "  32,\n",
       "  0.25,\n",
       "  <function utils.criterion3(actual, predict)>],\n",
       " 'seq2seq_RNN': [2636,\n",
       "  0.0001,\n",
       "  50,\n",
       "  1,\n",
       "  64,\n",
       "  32,\n",
       "  0.25,\n",
       "  <function utils.criterion2(actual, predict)>]}"
      ]
     },
     "execution_count": 3,
     "metadata": {},
     "output_type": "execute_result"
    }
   ],
   "source": [
    "learning_rates_list = [1e-3, 1e-4]\n",
    "patiences_list = [20, 50]\n",
    "num_layers_list = [1, 2, 4]\n",
    "hidden_sizes_list = [8, 16, 32]\n",
    "dropout_list = [0.25]\n",
    "criterions_list = [nn.MSELoss(), criterion3]\n",
    "batch_size = 64\n",
    "hyperparameter_dict = {}\n",
    "i = 0\n",
    "\n",
    "for lr in learning_rates_list:\n",
    "    for patience in patiences_list:\n",
    "        for num_layers in num_layers_list:\n",
    "            for hidden_size in hidden_sizes_list:    \n",
    "                for dropout in dropout_list:\n",
    "                    for criterion in criterions_list:\n",
    "                        hyperparameter_dict[i] = [lr, patience, num_layers, hidden_size, dropout, criterion]\n",
    "                        i += 1\n",
    "\n",
    "print(i)"
   ]
  },
  {
   "cell_type": "code",
   "execution_count": 5,
   "id": "14aa2d30",
   "metadata": {
    "ExecuteTime": {
     "end_time": "2023-06-12T11:21:12.031821Z",
     "start_time": "2023-06-12T11:01:34.579471Z"
    },
    "scrolled": true
   },
   "outputs": [
    {
     "data": {
      "application/vnd.jupyter.widget-view+json": {
       "model_id": "3a925295a45f461b9dc28af728c15ecd",
       "version_major": 2,
       "version_minor": 0
      },
      "text/plain": [
       "cities:   0%|          | 0/5 [00:00<?, ?it/s]"
      ]
     },
     "metadata": {},
     "output_type": "display_data"
    },
    {
     "data": {
      "application/vnd.jupyter.widget-view+json": {
       "model_id": "128f0ae4be444cb8b32affcadd666daf",
       "version_major": 2,
       "version_minor": 0
      },
      "text/plain": [
       "대구:   0%|          | 0/12 [00:00<?, ?it/s]"
      ]
     },
     "metadata": {},
     "output_type": "display_data"
    },
    {
     "data": {
      "application/vnd.jupyter.widget-view+json": {
       "model_id": "962e2e919336451190a0a3f1ba89ea13",
       "version_major": 2,
       "version_minor": 0
      },
      "text/plain": [
       "세종:   0%|          | 0/12 [00:00<?, ?it/s]"
      ]
     },
     "metadata": {},
     "output_type": "display_data"
    },
    {
     "data": {
      "application/vnd.jupyter.widget-view+json": {
       "model_id": "95179f50019c49939028b4f4dcac66fb",
       "version_major": 2,
       "version_minor": 0
      },
      "text/plain": [
       "광주:   0%|          | 0/12 [00:00<?, ?it/s]"
      ]
     },
     "metadata": {},
     "output_type": "display_data"
    },
    {
     "data": {
      "application/vnd.jupyter.widget-view+json": {
       "model_id": "c9df8415958d4dcb8333c1dc15d8b0a1",
       "version_major": 2,
       "version_minor": 0
      },
      "text/plain": [
       "경기:   0%|          | 0/12 [00:00<?, ?it/s]"
      ]
     },
     "metadata": {},
     "output_type": "display_data"
    },
    {
     "data": {
      "application/vnd.jupyter.widget-view+json": {
       "model_id": "578f1b5326964e30a72cd18e570d2242",
       "version_major": 2,
       "version_minor": 0
      },
      "text/plain": [
       "경남:   0%|          | 0/12 [00:00<?, ?it/s]"
      ]
     },
     "metadata": {},
     "output_type": "display_data"
    }
   ],
   "source": [
    "trained_data = {}\n",
    "city_list = ['강원', '경기', '경남', '경북', '광주', '대구', '대전', '부산', \n",
    "             '서울', '세종', '울산', '인천', '전남', '전북', '제주', '충남', '충북']\n",
    "models_list = ['RNN', 'LSTM', 'GRU', 'BiRNN', 'BiLSTM', 'BiGRU', \n",
    "               'seq2seq_RNN', 'seq2seq_LSTM', 'seq2seq_GRU', 'seq2seq_BiRNN', 'seq2seq_BiLSTM', 'seq2seq_BiGRU']\n",
    "\n",
    "\n",
    "for city in tqdm(city_list, desc = 'cities', position = 0):\n",
    "    data = dic_files[city]\n",
    "    best_model = {}\n",
    "    \n",
    "    input_size = 3\n",
    "    sequence_length = 60\n",
    "    num_epochs = 10000\n",
    "\n",
    "    df = Prepare_df.processing(data, 'stdDay', '23A_variants')\n",
    "\n",
    "    x = df.iloc[:, 0:]\n",
    "    y = df.iloc[:,:1]\n",
    "\n",
    "    ms = MinMaxScaler()\n",
    "    ss = StandardScaler()\n",
    "\n",
    "    ss.fit(x)\n",
    "    ms.fit(y)\n",
    "    \n",
    "    for num_model in tqdm(range(12), desc = f'{city}', position = 1):\n",
    "        rmse_min = np.inf\n",
    "        h = -1\n",
    "        \n",
    "        for hyperparameter in tqdm(hyperparameter_dict.values(), desc = f'{city}_{models_list[num_model]}', position = 2):\n",
    "            h += 1\n",
    "            if (num_model < 6) and (h % 2 == 1):\n",
    "                continue\n",
    "            model_name = models_list[num_model]\n",
    "            lr = hyperparameter[0]\n",
    "            patience = hyperparameter[1]\n",
    "            num_layers = hyperparameter[2]\n",
    "            hidden_size = hyperparameter[3]\n",
    "            dropout = hyperparameter[4]\n",
    "\n",
    "            if num_model < 6:\n",
    "                criterion = nn.MSELoss()\n",
    "            else:\n",
    "                criterion = hyperparameter[5]\n",
    "\n",
    "            if num_model < 6:\n",
    "                x, y, x_ss, y_ms, train_loader, test_loader = Prepare_df.split_data(df, 68, 60, 1, batch_size, 'mto')\n",
    "            else:\n",
    "                x, y, x_ss, y_ms, train_loader, test_loader = Prepare_df.split_data(df, 62, 60, 7, batch_size, 'mtm')\n",
    "\n",
    "            if num_model == 0:\n",
    "                model = RNN(input_size = input_size,\n",
    "                            hidden_size = hidden_size,\n",
    "                            sequence_length = sequence_length,\n",
    "                            num_layers = num_layers, \n",
    "                            dropout = dropout, \n",
    "                            device = device).to(device)\n",
    "\n",
    "            elif num_model == 1:\n",
    "                model = LSTM(input_size = input_size,\n",
    "                             hidden_size = hidden_size,\n",
    "                             sequence_length = sequence_length,\n",
    "                             num_layers = num_layers, \n",
    "                             dropout = dropout, \n",
    "                             device = device).to(device)\n",
    "\n",
    "            elif num_model == 2:\n",
    "                model = GRU(input_size = input_size,\n",
    "                            hidden_size = hidden_size,\n",
    "                            sequence_length = sequence_length,\n",
    "                            num_layers = num_layers, \n",
    "                            dropout = dropout, \n",
    "                            device = device).to(device)\n",
    "\n",
    "            elif num_model == 3:\n",
    "                model = BiRNN(input_size = input_size,\n",
    "                              hidden_size = hidden_size,\n",
    "                              sequence_length = sequence_length,\n",
    "                              num_layers = num_layers, \n",
    "                              dropout = dropout, \n",
    "                              device = device).to(device)\n",
    "\n",
    "            elif num_model == 4:\n",
    "                model = BiLSTM(input_size = input_size,\n",
    "                               hidden_size = hidden_size,\n",
    "                               sequence_length = sequence_length,\n",
    "                               num_layers = num_layers, \n",
    "                               dropout = dropout, \n",
    "                               device = device).to(device)\n",
    "\n",
    "            elif num_model == 5:\n",
    "                model = BiGRU(input_size = input_size,\n",
    "                              hidden_size = hidden_size,\n",
    "                              sequence_length = sequence_length,\n",
    "                              num_layers = num_layers, \n",
    "                              dropout = dropout, \n",
    "                              device = device).to(device)\n",
    "\n",
    "            elif num_model == 6:\n",
    "                model = RNN_encoder_decoder(input_size = input_size, \n",
    "                                            hidden_size = hidden_size,\n",
    "                                            num_layers = num_layers, \n",
    "                                            dropout = dropout,\n",
    "                                            device = device).to(device)\n",
    "\n",
    "            elif num_model == 7:\n",
    "                model = LSTM_encoder_decoder(input_size = input_size, \n",
    "                                             hidden_size = hidden_size,\n",
    "                                             num_layers = num_layers, \n",
    "                                             dropout = dropout,\n",
    "                                             device = device).to(device)\n",
    "\n",
    "            elif num_model == 8:\n",
    "                model = GRU_encoder_decoder(input_size = input_size, \n",
    "                                            hidden_size = hidden_size,\n",
    "                                            num_layers = num_layers, \n",
    "                                            dropout = dropout,\n",
    "                                            device = device).to(device)\n",
    "\n",
    "            elif num_model == 9:\n",
    "                model = BiRNN_encoder_decoder(input_size = input_size, \n",
    "                                                hidden_size = hidden_size,\n",
    "                                                num_layers = num_layers, \n",
    "                                                dropout = dropout,\n",
    "                                                device = device).to(device)\n",
    "\n",
    "            elif num_model == 10:\n",
    "                model = BiLSTM_encoder_decoder(input_size = input_size, \n",
    "                                                  hidden_size = hidden_size,\n",
    "                                                  num_layers = num_layers, \n",
    "                                                  dropout = dropout,\n",
    "                                                  device = device).to(device)\n",
    "\n",
    "            elif num_model == 11:\n",
    "                model = BiGRU_encoder_decoder(input_size = input_size, \n",
    "                                                hidden_size = hidden_size,\n",
    "                                                num_layers = num_layers, \n",
    "                                                dropout = dropout,\n",
    "                                                device = device).to(device)            \n",
    "\n",
    "            optimizer = Adam(model.parameters(), lr = lr)\n",
    "\n",
    "            if num_model < 6:\n",
    "                loss_list, model, epoch = Trainer.Many_to_One(train_loader, \n",
    "                                                              test_loader, \n",
    "                                                              model, \n",
    "                                                              criterion, \n",
    "                                                              optimizer, \n",
    "                                                              num_epochs, \n",
    "                                                              patience,\n",
    "                                                              device)\n",
    "\n",
    "                label_y, predicted = predict_mto(model, df, x_ss, y_ms)\n",
    "                \n",
    "                if rmse_min > rmse(label_y[-7:], predicted[-7:]):\n",
    "                    rmse_min = rmse(label_y[-7:], predicted[-7:])\n",
    "                    best_model[models_list[num_model]] = [rmse_min, model, loss_list, epoch, lr, patience, \n",
    "                                                          num_layers,hidden_size, dropout]\n",
    "                \n",
    "                \n",
    "            else:\n",
    "                loss_list, model, epoch = Trainer.Many_to_Many(train_loader, \n",
    "                                                               test_loader, \n",
    "                                                               model, \n",
    "                                                               criterion, \n",
    "                                                               optimizer, \n",
    "                                                               num_epochs, \n",
    "                                                               patience,\n",
    "                                                               7,\n",
    "                                                               device)        \n",
    "                \n",
    "                label_y, predicted, first_label_y, first_predicted, all_predicted = predict_mtm(model, df, x_ss, y_ms, \n",
    "                                                                                                7, 0.5, device)\n",
    "    \n",
    "                if rmse_min > rmse(label_y[-7:], predicted[-7:]):\n",
    "                    rmse_min = rmse(label_y[-7:], predicted[-7:])\n",
    "                    best_model[models_list[num_model]] = [rmse_min, model, loss_list, epoch, lr, patience, \n",
    "                                                          num_layers, hidden_size, dropout, criterion]\n",
    "            \n",
    "        \n",
    "            \n",
    "    trained_data[city] = best_model"
   ]
  },
  {
   "cell_type": "code",
   "execution_count": null,
   "id": "99a2a1a0",
   "metadata": {},
   "outputs": [],
   "source": [
    "trained_data"
   ]
  },
  {
   "cell_type": "code",
   "execution_count": 6,
   "id": "3f549f94",
   "metadata": {
    "ExecuteTime": {
     "end_time": "2023-06-12T11:21:12.253228Z",
     "start_time": "2023-06-12T11:21:12.033816Z"
    }
   },
   "outputs": [],
   "source": [
    "#for city in trained_cities:\n",
    "#    for name, model in trained_cities[city].items():\n",
    "#        save_model(model.state_dict(), f\"model/Infected/{city}/23A/{name}.pth\")"
   ]
  },
  {
   "cell_type": "code",
   "execution_count": null,
   "id": "6919b301",
   "metadata": {},
   "outputs": [],
   "source": []
  }
 ],
 "metadata": {
  "kernelspec": {
   "display_name": "KDA_DA",
   "language": "python",
   "name": "kda_da"
  },
  "language_info": {
   "codemirror_mode": {
    "name": "ipython",
    "version": 3
   },
   "file_extension": ".py",
   "mimetype": "text/x-python",
   "name": "python",
   "nbconvert_exporter": "python",
   "pygments_lexer": "ipython3",
   "version": "3.10.8"
  },
  "toc": {
   "base_numbering": 1,
   "nav_menu": {},
   "number_sections": true,
   "sideBar": true,
   "skip_h1_title": false,
   "title_cell": "Table of Contents",
   "title_sidebar": "Contents",
   "toc_cell": false,
   "toc_position": {},
   "toc_section_display": true,
   "toc_window_display": false
  }
 },
 "nbformat": 4,
 "nbformat_minor": 5
}
