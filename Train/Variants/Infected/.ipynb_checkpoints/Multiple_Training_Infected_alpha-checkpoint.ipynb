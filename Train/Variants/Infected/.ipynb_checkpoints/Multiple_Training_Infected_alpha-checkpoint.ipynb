{
 "cells": [
  {
   "cell_type": "code",
   "execution_count": 1,
   "id": "d97d8d30",
   "metadata": {
    "ExecuteTime": {
     "end_time": "2023-06-12T09:54:42.605576Z",
     "start_time": "2023-06-12T09:54:40.255543Z"
    }
   },
   "outputs": [],
   "source": [
    "import os\n",
    "os.chdir('D:\\\\Gnan\\\\DA\\\\KMU\\\\Prediction-COVID-19')\n",
    "from utils import *\n",
    "from model import *\n",
    "from trainer import *\n",
    "\n",
    "from tqdm.notebook import tqdm\n",
    "from torch.optim.adam import Adam\n",
    "device = torch.device('cuda:0' if torch.cuda.is_available() else 'cpu')\n",
    "\n",
    "import warnings\n",
    "warnings.filterwarnings('ignore')"
   ]
  },
  {
   "cell_type": "code",
   "execution_count": 2,
   "id": "241510fc",
   "metadata": {
    "ExecuteTime": {
     "end_time": "2023-06-12T09:54:42.653442Z",
     "start_time": "2023-06-12T09:54:42.607574Z"
    }
   },
   "outputs": [
    {
     "data": {
      "text/html": [
       "<div>\n",
       "<style scoped>\n",
       "    .dataframe tbody tr th:only-of-type {\n",
       "        vertical-align: middle;\n",
       "    }\n",
       "\n",
       "    .dataframe tbody tr th {\n",
       "        vertical-align: top;\n",
       "    }\n",
       "\n",
       "    .dataframe thead th {\n",
       "        text-align: right;\n",
       "    }\n",
       "</style>\n",
       "<table border=\"1\" class=\"dataframe\">\n",
       "  <thead>\n",
       "    <tr style=\"text-align: right;\">\n",
       "      <th></th>\n",
       "      <th>stdDay</th>\n",
       "      <th>incDec</th>\n",
       "      <th>alpha_variants</th>\n",
       "      <th>delta_variants</th>\n",
       "    </tr>\n",
       "  </thead>\n",
       "  <tbody>\n",
       "    <tr>\n",
       "      <th>0</th>\n",
       "      <td>2021-04-12</td>\n",
       "      <td>16.0</td>\n",
       "      <td>4.16</td>\n",
       "      <td>0.32</td>\n",
       "    </tr>\n",
       "    <tr>\n",
       "      <th>1</th>\n",
       "      <td>2021-04-13</td>\n",
       "      <td>9.0</td>\n",
       "      <td>2.34</td>\n",
       "      <td>0.18</td>\n",
       "    </tr>\n",
       "    <tr>\n",
       "      <th>2</th>\n",
       "      <td>2021-04-14</td>\n",
       "      <td>11.0</td>\n",
       "      <td>2.86</td>\n",
       "      <td>0.22</td>\n",
       "    </tr>\n",
       "    <tr>\n",
       "      <th>3</th>\n",
       "      <td>2021-04-15</td>\n",
       "      <td>18.0</td>\n",
       "      <td>4.68</td>\n",
       "      <td>0.36</td>\n",
       "    </tr>\n",
       "    <tr>\n",
       "      <th>4</th>\n",
       "      <td>2021-04-16</td>\n",
       "      <td>4.0</td>\n",
       "      <td>1.04</td>\n",
       "      <td>0.08</td>\n",
       "    </tr>\n",
       "    <tr>\n",
       "      <th>...</th>\n",
       "      <td>...</td>\n",
       "      <td>...</td>\n",
       "      <td>...</td>\n",
       "      <td>...</td>\n",
       "    </tr>\n",
       "    <tr>\n",
       "      <th>121</th>\n",
       "      <td>2021-08-11</td>\n",
       "      <td>66.0</td>\n",
       "      <td>0.66</td>\n",
       "      <td>62.70</td>\n",
       "    </tr>\n",
       "    <tr>\n",
       "      <th>122</th>\n",
       "      <td>2021-08-12</td>\n",
       "      <td>39.0</td>\n",
       "      <td>0.39</td>\n",
       "      <td>37.05</td>\n",
       "    </tr>\n",
       "    <tr>\n",
       "      <th>123</th>\n",
       "      <td>2021-08-13</td>\n",
       "      <td>57.0</td>\n",
       "      <td>0.57</td>\n",
       "      <td>54.15</td>\n",
       "    </tr>\n",
       "    <tr>\n",
       "      <th>124</th>\n",
       "      <td>2021-08-14</td>\n",
       "      <td>82.0</td>\n",
       "      <td>0.82</td>\n",
       "      <td>77.90</td>\n",
       "    </tr>\n",
       "    <tr>\n",
       "      <th>125</th>\n",
       "      <td>2021-08-15</td>\n",
       "      <td>57.0</td>\n",
       "      <td>0.57</td>\n",
       "      <td>54.15</td>\n",
       "    </tr>\n",
       "  </tbody>\n",
       "</table>\n",
       "<p>126 rows × 4 columns</p>\n",
       "</div>"
      ],
      "text/plain": [
       "         stdDay  incDec  alpha_variants  delta_variants\n",
       "0    2021-04-12    16.0            4.16            0.32\n",
       "1    2021-04-13     9.0            2.34            0.18\n",
       "2    2021-04-14    11.0            2.86            0.22\n",
       "3    2021-04-15    18.0            4.68            0.36\n",
       "4    2021-04-16     4.0            1.04            0.08\n",
       "..          ...     ...             ...             ...\n",
       "121  2021-08-11    66.0            0.66           62.70\n",
       "122  2021-08-12    39.0            0.39           37.05\n",
       "123  2021-08-13    57.0            0.57           54.15\n",
       "124  2021-08-14    82.0            0.82           77.90\n",
       "125  2021-08-15    57.0            0.57           54.15\n",
       "\n",
       "[126 rows x 4 columns]"
      ]
     },
     "execution_count": 2,
     "metadata": {},
     "output_type": "execute_result"
    }
   ],
   "source": [
    "city = '대구'\n",
    "\n",
    "path = 'Data/Variants/Infected/alpha_delta/*.csv'\n",
    "dic_files = Load_files.load_files(path, -18, -16)\n",
    "data = dic_files[city]\n",
    "data"
   ]
  },
  {
   "cell_type": "code",
   "execution_count": 3,
   "id": "47c7287b",
   "metadata": {
    "ExecuteTime": {
     "end_time": "2023-06-12T09:54:42.669401Z",
     "start_time": "2023-06-12T09:54:42.657432Z"
    },
    "scrolled": true
   },
   "outputs": [
    {
     "data": {
      "text/plain": [
       "{'BiGRU': [539, 1e-05, 50, 2, 64, 8, 0.25],\n",
       " 'BiLSTM': [332, 0.0001, 50, 4, 32, 16, 0.25],\n",
       " 'BiRNN': [643, 1e-05, 50, 8, 32, 32, 0.25],\n",
       " 'GRU': [508, 0.0001, 50, 4, 32, 32, 0.25],\n",
       " 'LSTM': [450, 0.001, 50, 4, 32, 16, 0.25],\n",
       " 'RNN': [407, 0.001, 50, 4, 64, 32, 0.25],\n",
       " 'seq2seq_BiGRU': [434,\n",
       "  0.001,\n",
       "  20,\n",
       "  1,\n",
       "  32,\n",
       "  16,\n",
       "  0.25,\n",
       "  <function utils.criterion2(actual, predict)>],\n",
       " 'seq2seq_BiLSTM': [461,\n",
       "  0.001,\n",
       "  50,\n",
       "  2,\n",
       "  32,\n",
       "  8,\n",
       "  0.25,\n",
       "  <function utils.criterion3(actual, predict)>],\n",
       " 'seq2seq_BiRNN': [572,\n",
       "  0.001,\n",
       "  50,\n",
       "  4,\n",
       "  32,\n",
       "  8,\n",
       "  0.25,\n",
       "  <function utils.criterion3(actual, predict)>],\n",
       " 'seq2seq_GRU': [1298,\n",
       "  0.001,\n",
       "  50,\n",
       "  2,\n",
       "  64,\n",
       "  16,\n",
       "  0.25,\n",
       "  <function utils.criterion2(actual, predict)>],\n",
       " 'seq2seq_LSTM': [1237,\n",
       "  0.001,\n",
       "  50,\n",
       "  2,\n",
       "  64,\n",
       "  16,\n",
       "  0.25,\n",
       "  <function utils.criterion3(actual, predict)>],\n",
       " 'seq2seq_RNN': [1039,\n",
       "  0.001,\n",
       "  50,\n",
       "  2,\n",
       "  32,\n",
       "  32,\n",
       "  0.25,\n",
       "  <function utils.criterion2(actual, predict)>]}"
      ]
     },
     "execution_count": 3,
     "metadata": {},
     "output_type": "execute_result"
    }
   ],
   "source": [
    "path = 'hyperparameter/Infected/alpha/*.pkl'\n",
    "files = glob.glob(path)\n",
    "dic_hyperparameter = {}\n",
    "for file in files:\n",
    "    dic_hyperparameter[file[30:-4]] = load_hyperparameter(file)\n",
    "    \n",
    "dic_hyperparameter"
   ]
  },
  {
   "cell_type": "code",
   "execution_count": 4,
   "id": "e0243b9d",
   "metadata": {
    "ExecuteTime": {
     "end_time": "2023-06-12T09:54:42.700555Z",
     "start_time": "2023-06-12T09:54:42.671395Z"
    }
   },
   "outputs": [
    {
     "data": {
      "text/html": [
       "<style>#sk-container-id-1 {color: black;background-color: white;}#sk-container-id-1 pre{padding: 0;}#sk-container-id-1 div.sk-toggleable {background-color: white;}#sk-container-id-1 label.sk-toggleable__label {cursor: pointer;display: block;width: 100%;margin-bottom: 0;padding: 0.3em;box-sizing: border-box;text-align: center;}#sk-container-id-1 label.sk-toggleable__label-arrow:before {content: \"▸\";float: left;margin-right: 0.25em;color: #696969;}#sk-container-id-1 label.sk-toggleable__label-arrow:hover:before {color: black;}#sk-container-id-1 div.sk-estimator:hover label.sk-toggleable__label-arrow:before {color: black;}#sk-container-id-1 div.sk-toggleable__content {max-height: 0;max-width: 0;overflow: hidden;text-align: left;background-color: #f0f8ff;}#sk-container-id-1 div.sk-toggleable__content pre {margin: 0.2em;color: black;border-radius: 0.25em;background-color: #f0f8ff;}#sk-container-id-1 input.sk-toggleable__control:checked~div.sk-toggleable__content {max-height: 200px;max-width: 100%;overflow: auto;}#sk-container-id-1 input.sk-toggleable__control:checked~label.sk-toggleable__label-arrow:before {content: \"▾\";}#sk-container-id-1 div.sk-estimator input.sk-toggleable__control:checked~label.sk-toggleable__label {background-color: #d4ebff;}#sk-container-id-1 div.sk-label input.sk-toggleable__control:checked~label.sk-toggleable__label {background-color: #d4ebff;}#sk-container-id-1 input.sk-hidden--visually {border: 0;clip: rect(1px 1px 1px 1px);clip: rect(1px, 1px, 1px, 1px);height: 1px;margin: -1px;overflow: hidden;padding: 0;position: absolute;width: 1px;}#sk-container-id-1 div.sk-estimator {font-family: monospace;background-color: #f0f8ff;border: 1px dotted black;border-radius: 0.25em;box-sizing: border-box;margin-bottom: 0.5em;}#sk-container-id-1 div.sk-estimator:hover {background-color: #d4ebff;}#sk-container-id-1 div.sk-parallel-item::after {content: \"\";width: 100%;border-bottom: 1px solid gray;flex-grow: 1;}#sk-container-id-1 div.sk-label:hover label.sk-toggleable__label {background-color: #d4ebff;}#sk-container-id-1 div.sk-serial::before {content: \"\";position: absolute;border-left: 1px solid gray;box-sizing: border-box;top: 0;bottom: 0;left: 50%;z-index: 0;}#sk-container-id-1 div.sk-serial {display: flex;flex-direction: column;align-items: center;background-color: white;padding-right: 0.2em;padding-left: 0.2em;position: relative;}#sk-container-id-1 div.sk-item {position: relative;z-index: 1;}#sk-container-id-1 div.sk-parallel {display: flex;align-items: stretch;justify-content: center;background-color: white;position: relative;}#sk-container-id-1 div.sk-item::before, #sk-container-id-1 div.sk-parallel-item::before {content: \"\";position: absolute;border-left: 1px solid gray;box-sizing: border-box;top: 0;bottom: 0;left: 50%;z-index: -1;}#sk-container-id-1 div.sk-parallel-item {display: flex;flex-direction: column;z-index: 1;position: relative;background-color: white;}#sk-container-id-1 div.sk-parallel-item:first-child::after {align-self: flex-end;width: 50%;}#sk-container-id-1 div.sk-parallel-item:last-child::after {align-self: flex-start;width: 50%;}#sk-container-id-1 div.sk-parallel-item:only-child::after {width: 0;}#sk-container-id-1 div.sk-dashed-wrapped {border: 1px dashed gray;margin: 0 0.4em 0.5em 0.4em;box-sizing: border-box;padding-bottom: 0.4em;background-color: white;}#sk-container-id-1 div.sk-label label {font-family: monospace;font-weight: bold;display: inline-block;line-height: 1.2em;}#sk-container-id-1 div.sk-label-container {text-align: center;}#sk-container-id-1 div.sk-container {/* jupyter's `normalize.less` sets `[hidden] { display: none; }` but bootstrap.min.css set `[hidden] { display: none !important; }` so we also need the `!important` here to be able to override the default hidden behavior on the sphinx rendered scikit-learn.org. See: https://github.com/scikit-learn/scikit-learn/issues/21755 */display: inline-block !important;position: relative;}#sk-container-id-1 div.sk-text-repr-fallback {display: none;}</style><div id=\"sk-container-id-1\" class=\"sk-top-container\"><div class=\"sk-text-repr-fallback\"><pre>MinMaxScaler()</pre><b>In a Jupyter environment, please rerun this cell to show the HTML representation or trust the notebook. <br />On GitHub, the HTML representation is unable to render, please try loading this page with nbviewer.org.</b></div><div class=\"sk-container\" hidden><div class=\"sk-item\"><div class=\"sk-estimator sk-toggleable\"><input class=\"sk-toggleable__control sk-hidden--visually\" id=\"sk-estimator-id-1\" type=\"checkbox\" checked><label for=\"sk-estimator-id-1\" class=\"sk-toggleable__label sk-toggleable__label-arrow\">MinMaxScaler</label><div class=\"sk-toggleable__content\"><pre>MinMaxScaler()</pre></div></div></div></div></div>"
      ],
      "text/plain": [
       "MinMaxScaler()"
      ]
     },
     "execution_count": 4,
     "metadata": {},
     "output_type": "execute_result"
    }
   ],
   "source": [
    "criterion = nn.MSELoss()\n",
    "\n",
    "input_size = 3\n",
    "sequence_length = 60\n",
    "num_epochs = 10000\n",
    "\n",
    "df = Prepare_df.processing(data, 'stdDay', 'alpha_variants')\n",
    "\n",
    "x = df.iloc[:, 0:]\n",
    "y = df.iloc[:,:1]\n",
    "\n",
    "ms = MinMaxScaler()\n",
    "ss = StandardScaler()\n",
    "\n",
    "ss.fit(x)\n",
    "ms.fit(y)"
   ]
  },
  {
   "cell_type": "code",
   "execution_count": 9,
   "id": "14aa2d30",
   "metadata": {
    "ExecuteTime": {
     "end_time": "2023-06-12T10:13:57.254205Z",
     "start_time": "2023-06-12T10:01:22.558954Z"
    },
    "scrolled": true
   },
   "outputs": [
    {
     "data": {
      "application/vnd.jupyter.widget-view+json": {
       "model_id": "197ea3f7e638485b9e58f31eb10323bd",
       "version_major": 2,
       "version_minor": 0
      },
      "text/plain": [
       "cities:   0%|          | 0/5 [00:00<?, ?it/s]"
      ]
     },
     "metadata": {},
     "output_type": "display_data"
    },
    {
     "data": {
      "application/vnd.jupyter.widget-view+json": {
       "model_id": "5a7dde8996e8499cb18825352cd6b145",
       "version_major": 2,
       "version_minor": 0
      },
      "text/plain": [
       "models:   0%|          | 0/12 [00:00<?, ?it/s]"
      ]
     },
     "metadata": {},
     "output_type": "display_data"
    },
    {
     "data": {
      "application/vnd.jupyter.widget-view+json": {
       "model_id": "daeeef0853c34218b0ec0758ae4e96b5",
       "version_major": 2,
       "version_minor": 0
      },
      "text/plain": [
       "models:   0%|          | 0/12 [00:00<?, ?it/s]"
      ]
     },
     "metadata": {},
     "output_type": "display_data"
    },
    {
     "data": {
      "application/vnd.jupyter.widget-view+json": {
       "model_id": "5c4e41d069894c89b2748e8426063960",
       "version_major": 2,
       "version_minor": 0
      },
      "text/plain": [
       "models:   0%|          | 0/12 [00:00<?, ?it/s]"
      ]
     },
     "metadata": {},
     "output_type": "display_data"
    },
    {
     "data": {
      "application/vnd.jupyter.widget-view+json": {
       "model_id": "30bf7cade3fa4b11a5aaecc97e593166",
       "version_major": 2,
       "version_minor": 0
      },
      "text/plain": [
       "models:   0%|          | 0/12 [00:00<?, ?it/s]"
      ]
     },
     "metadata": {},
     "output_type": "display_data"
    },
    {
     "data": {
      "application/vnd.jupyter.widget-view+json": {
       "model_id": "f12bf33526d14ed3bbd2a21f41ddc66a",
       "version_major": 2,
       "version_minor": 0
      },
      "text/plain": [
       "models:   0%|          | 0/12 [00:00<?, ?it/s]"
      ]
     },
     "metadata": {},
     "output_type": "display_data"
    }
   ],
   "source": [
    "trained_cities = {}\n",
    "trained_models = {}\n",
    "city_list = ['대구', '세종', '광주', '경기', '경남']\n",
    "models_list = ['RNN', 'LSTM', 'GRU', 'BiRNN', 'BiLSTM', 'BiGRU', \n",
    "               'seq2seq_RNN', 'seq2seq_LSTM', 'seq2seq_GRU', 'seq2seq_BiRNN', 'seq2seq_BiLSTM', 'seq2seq_BiGRU']\n",
    "\n",
    "\n",
    "for city in tqdm(city_list, desc = 'cities', position = 0):\n",
    "    data = dic_files[city]\n",
    "    \n",
    "    input_size = 3\n",
    "    sequence_length = 60\n",
    "    num_epochs = 10000\n",
    "\n",
    "    df = Prepare_df.processing(data, 'stdDay', 'alpha_variants')\n",
    "\n",
    "    x = df.iloc[:, 0:]\n",
    "    y = df.iloc[:,:1]\n",
    "\n",
    "    ms = MinMaxScaler()\n",
    "    ss = StandardScaler()\n",
    "\n",
    "    ss.fit(x)\n",
    "    ms.fit(y)\n",
    "\n",
    "    for num_model in tqdm(range(12), desc = f'{city}', position = 1):\n",
    "        rmse_min = np.inf\n",
    "        model_name = models_list[num_model]\n",
    "        lr = dic_hyperparameter[model_name][1]\n",
    "        patience = dic_hyperparameter[model_name][2]\n",
    "        num_layers = dic_hyperparameter[model_name][3]\n",
    "        batch_size = dic_hyperparameter[model_name][4]\n",
    "        hidden_size = dic_hyperparameter[model_name][5]\n",
    "        dropout = dic_hyperparameter[model_name][6]\n",
    "\n",
    "        if num_model < 6:\n",
    "            criterion = nn.MSELoss()\n",
    "        else:\n",
    "            criterion = dic_hyperparameter[model_name][7]\n",
    "        #print('-------------------------------------------------------------------------------------')\n",
    "        #print('lr:', lr, ' patience:', patience, ' num_layers:', num_layers, \n",
    "        #      ' batch_size:', batch_size, ' hidden_size:', hidden_size, ' dropout:', dropout)\n",
    "\n",
    "        if num_model < 6:\n",
    "            x, y, x_ss, y_ms, train_loader, test_loader = Prepare_df.split_data(df, 57, 60, 1, batch_size, 'mto')\n",
    "        else:\n",
    "            x, y, x_ss, y_ms, train_loader, test_loader = Prepare_df.split_data(df, 51, 60, 7, batch_size, 'mtm')\n",
    "\n",
    "        if num_model == 0:\n",
    "            model = RNN(input_size = input_size,\n",
    "                        hidden_size = hidden_size,\n",
    "                        sequence_length = sequence_length,\n",
    "                        num_layers = num_layers, \n",
    "                        dropout = dropout, \n",
    "                        device = device).to(device)\n",
    "\n",
    "        elif num_model == 1:\n",
    "            model = LSTM(input_size = input_size,\n",
    "                         hidden_size = hidden_size,\n",
    "                         sequence_length = sequence_length,\n",
    "                         num_layers = num_layers, \n",
    "                         dropout = dropout, \n",
    "                         device = device).to(device)\n",
    "\n",
    "        elif num_model == 2:\n",
    "            model = GRU(input_size = input_size,\n",
    "                        hidden_size = hidden_size,\n",
    "                        sequence_length = sequence_length,\n",
    "                        num_layers = num_layers, \n",
    "                        dropout = dropout, \n",
    "                        device = device).to(device)\n",
    "\n",
    "        elif num_model == 3:\n",
    "            model = BiRNN(input_size = input_size,\n",
    "                          hidden_size = hidden_size,\n",
    "                          sequence_length = sequence_length,\n",
    "                          num_layers = num_layers, \n",
    "                          dropout = dropout, \n",
    "                          device = device).to(device)\n",
    "\n",
    "        elif num_model == 4:\n",
    "            model = BiLSTM(input_size = input_size,\n",
    "                           hidden_size = hidden_size,\n",
    "                           sequence_length = sequence_length,\n",
    "                           num_layers = num_layers, \n",
    "                           dropout = dropout, \n",
    "                           device = device).to(device)\n",
    "\n",
    "        elif num_model == 5:\n",
    "            model = BiGRU(input_size = input_size,\n",
    "                          hidden_size = hidden_size,\n",
    "                          sequence_length = sequence_length,\n",
    "                          num_layers = num_layers, \n",
    "                          dropout = dropout, \n",
    "                          device = device).to(device)\n",
    "\n",
    "        elif num_model == 6:\n",
    "            model = RNN_encoder_decoder(input_size = input_size, \n",
    "                                        hidden_size = hidden_size,\n",
    "                                        num_layers = num_layers, \n",
    "                                        dropout = dropout,\n",
    "                                        device = device).to(device)\n",
    "\n",
    "        elif num_model == 7:\n",
    "            model = LSTM_encoder_decoder(input_size = input_size, \n",
    "                                         hidden_size = hidden_size,\n",
    "                                         num_layers = num_layers, \n",
    "                                         dropout = dropout,\n",
    "                                         device = device).to(device)\n",
    "\n",
    "        elif num_model == 8:\n",
    "            model = GRU_encoder_decoder(input_size = input_size, \n",
    "                                        hidden_size = hidden_size,\n",
    "                                        num_layers = num_layers, \n",
    "                                        dropout = dropout,\n",
    "                                        device = device).to(device)\n",
    "\n",
    "        elif num_model == 9:\n",
    "            model = BiRNN_encoder_decoder(input_size = input_size, \n",
    "                                            hidden_size = hidden_size,\n",
    "                                            num_layers = num_layers, \n",
    "                                            dropout = dropout,\n",
    "                                            device = device).to(device)\n",
    "\n",
    "        elif num_model == 10:\n",
    "            model = BiLSTM_encoder_decoder(input_size = input_size, \n",
    "                                              hidden_size = hidden_size,\n",
    "                                              num_layers = num_layers, \n",
    "                                              dropout = dropout,\n",
    "                                              device = device).to(device)\n",
    "\n",
    "        elif num_model == 11:\n",
    "            model = BiGRU_encoder_decoder(input_size = input_size, \n",
    "                                            hidden_size = hidden_size,\n",
    "                                            num_layers = num_layers, \n",
    "                                            dropout = dropout,\n",
    "                                            device = device).to(device)            \n",
    "\n",
    "        optimizer = Adam(model.parameters(), lr = lr)\n",
    "\n",
    "        if num_model < 6:\n",
    "            loss_list, model, epoch = Trainer.Many_to_One(train_loader, \n",
    "                                                          test_loader, \n",
    "                                                          model, \n",
    "                                                          criterion, \n",
    "                                                          optimizer, \n",
    "                                                          num_epochs, \n",
    "                                                          patience,\n",
    "                                                          device)\n",
    "\n",
    "        else:\n",
    "            loss_list, model, epoch = Trainer.Many_to_Many(train_loader, \n",
    "                                                           test_loader, \n",
    "                                                           model, \n",
    "                                                           criterion, \n",
    "                                                           optimizer, \n",
    "                                                           num_epochs, \n",
    "                                                           patience,\n",
    "                                                           7,\n",
    "                                                           device)            \n",
    "\n",
    "        trained_models[models_list[num_model]] = model\n",
    "        \n",
    "                \n",
    "    trained_cities[city] = trained_models"
   ]
  },
  {
   "cell_type": "code",
   "execution_count": 18,
   "id": "3f549f94",
   "metadata": {
    "ExecuteTime": {
     "end_time": "2023-06-12T10:18:09.754473Z",
     "start_time": "2023-06-12T10:18:09.534280Z"
    }
   },
   "outputs": [],
   "source": [
    "for city in trained_cities:\n",
    "    for name, model in trained_cities[city].items():\n",
    "        save_model(model.state_dict(), f\"model/Infected/{city}/alpha/{name}.pth\")"
   ]
  },
  {
   "cell_type": "code",
   "execution_count": null,
   "id": "6919b301",
   "metadata": {},
   "outputs": [],
   "source": []
  }
 ],
 "metadata": {
  "kernelspec": {
   "display_name": "KDA_DA",
   "language": "python",
   "name": "kda_da"
  },
  "language_info": {
   "codemirror_mode": {
    "name": "ipython",
    "version": 3
   },
   "file_extension": ".py",
   "mimetype": "text/x-python",
   "name": "python",
   "nbconvert_exporter": "python",
   "pygments_lexer": "ipython3",
   "version": "3.10.8"
  },
  "toc": {
   "base_numbering": 1,
   "nav_menu": {},
   "number_sections": true,
   "sideBar": true,
   "skip_h1_title": false,
   "title_cell": "Table of Contents",
   "title_sidebar": "Contents",
   "toc_cell": false,
   "toc_position": {},
   "toc_section_display": true,
   "toc_window_display": false
  }
 },
 "nbformat": 4,
 "nbformat_minor": 5
}
