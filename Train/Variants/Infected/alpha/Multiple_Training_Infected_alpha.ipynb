{
 "cells": [
  {
   "cell_type": "code",
   "execution_count": 1,
   "id": "d97d8d30",
   "metadata": {
    "ExecuteTime": {
     "end_time": "2023-06-13T05:51:56.682805Z",
     "start_time": "2023-06-13T05:51:54.189548Z"
    }
   },
   "outputs": [],
   "source": [
    "import os\n",
    "os.chdir('D:\\\\Gnan\\\\DA\\\\KMU\\\\Prediction-COVID-19')\n",
    "from utils import *\n",
    "from model import *\n",
    "from trainer import *\n",
    "\n",
    "from tqdm.notebook import tqdm\n",
    "from torch.optim.adam import Adam\n",
    "device = torch.device('cuda:0' if torch.cuda.is_available() else 'cpu')\n",
    "\n",
    "import warnings\n",
    "warnings.filterwarnings('ignore')"
   ]
  },
  {
   "cell_type": "code",
   "execution_count": 2,
   "id": "241510fc",
   "metadata": {
    "ExecuteTime": {
     "end_time": "2023-06-13T05:51:56.744642Z",
     "start_time": "2023-06-13T05:51:56.685798Z"
    }
   },
   "outputs": [
    {
     "data": {
      "text/html": [
       "<div>\n",
       "<style scoped>\n",
       "    .dataframe tbody tr th:only-of-type {\n",
       "        vertical-align: middle;\n",
       "    }\n",
       "\n",
       "    .dataframe tbody tr th {\n",
       "        vertical-align: top;\n",
       "    }\n",
       "\n",
       "    .dataframe thead th {\n",
       "        text-align: right;\n",
       "    }\n",
       "</style>\n",
       "<table border=\"1\" class=\"dataframe\">\n",
       "  <thead>\n",
       "    <tr style=\"text-align: right;\">\n",
       "      <th></th>\n",
       "      <th>stdDay</th>\n",
       "      <th>incDec</th>\n",
       "      <th>alpha_variants</th>\n",
       "      <th>delta_variants</th>\n",
       "    </tr>\n",
       "  </thead>\n",
       "  <tbody>\n",
       "    <tr>\n",
       "      <th>0</th>\n",
       "      <td>2021-04-12</td>\n",
       "      <td>16.0</td>\n",
       "      <td>4.16</td>\n",
       "      <td>0.32</td>\n",
       "    </tr>\n",
       "    <tr>\n",
       "      <th>1</th>\n",
       "      <td>2021-04-13</td>\n",
       "      <td>9.0</td>\n",
       "      <td>2.34</td>\n",
       "      <td>0.18</td>\n",
       "    </tr>\n",
       "    <tr>\n",
       "      <th>2</th>\n",
       "      <td>2021-04-14</td>\n",
       "      <td>11.0</td>\n",
       "      <td>2.86</td>\n",
       "      <td>0.22</td>\n",
       "    </tr>\n",
       "    <tr>\n",
       "      <th>3</th>\n",
       "      <td>2021-04-15</td>\n",
       "      <td>18.0</td>\n",
       "      <td>4.68</td>\n",
       "      <td>0.36</td>\n",
       "    </tr>\n",
       "    <tr>\n",
       "      <th>4</th>\n",
       "      <td>2021-04-16</td>\n",
       "      <td>4.0</td>\n",
       "      <td>1.04</td>\n",
       "      <td>0.08</td>\n",
       "    </tr>\n",
       "    <tr>\n",
       "      <th>...</th>\n",
       "      <td>...</td>\n",
       "      <td>...</td>\n",
       "      <td>...</td>\n",
       "      <td>...</td>\n",
       "    </tr>\n",
       "    <tr>\n",
       "      <th>121</th>\n",
       "      <td>2021-08-11</td>\n",
       "      <td>66.0</td>\n",
       "      <td>0.66</td>\n",
       "      <td>62.70</td>\n",
       "    </tr>\n",
       "    <tr>\n",
       "      <th>122</th>\n",
       "      <td>2021-08-12</td>\n",
       "      <td>39.0</td>\n",
       "      <td>0.39</td>\n",
       "      <td>37.05</td>\n",
       "    </tr>\n",
       "    <tr>\n",
       "      <th>123</th>\n",
       "      <td>2021-08-13</td>\n",
       "      <td>57.0</td>\n",
       "      <td>0.57</td>\n",
       "      <td>54.15</td>\n",
       "    </tr>\n",
       "    <tr>\n",
       "      <th>124</th>\n",
       "      <td>2021-08-14</td>\n",
       "      <td>82.0</td>\n",
       "      <td>0.82</td>\n",
       "      <td>77.90</td>\n",
       "    </tr>\n",
       "    <tr>\n",
       "      <th>125</th>\n",
       "      <td>2021-08-15</td>\n",
       "      <td>57.0</td>\n",
       "      <td>0.57</td>\n",
       "      <td>54.15</td>\n",
       "    </tr>\n",
       "  </tbody>\n",
       "</table>\n",
       "<p>126 rows × 4 columns</p>\n",
       "</div>"
      ],
      "text/plain": [
       "         stdDay  incDec  alpha_variants  delta_variants\n",
       "0    2021-04-12    16.0            4.16            0.32\n",
       "1    2021-04-13     9.0            2.34            0.18\n",
       "2    2021-04-14    11.0            2.86            0.22\n",
       "3    2021-04-15    18.0            4.68            0.36\n",
       "4    2021-04-16     4.0            1.04            0.08\n",
       "..          ...     ...             ...             ...\n",
       "121  2021-08-11    66.0            0.66           62.70\n",
       "122  2021-08-12    39.0            0.39           37.05\n",
       "123  2021-08-13    57.0            0.57           54.15\n",
       "124  2021-08-14    82.0            0.82           77.90\n",
       "125  2021-08-15    57.0            0.57           54.15\n",
       "\n",
       "[126 rows x 4 columns]"
      ]
     },
     "execution_count": 2,
     "metadata": {},
     "output_type": "execute_result"
    }
   ],
   "source": [
    "city = '대구'\n",
    "\n",
    "path = 'Data/Variants/Infected/alpha_delta/*.csv'\n",
    "dic_files = Load_files.load_files(path, -18, -16)\n",
    "data = dic_files[city]\n",
    "data"
   ]
  },
  {
   "cell_type": "code",
   "execution_count": 3,
   "id": "e0243b9d",
   "metadata": {
    "ExecuteTime": {
     "end_time": "2023-06-13T05:51:56.760599Z",
     "start_time": "2023-06-13T05:51:56.746636Z"
    },
    "scrolled": true
   },
   "outputs": [
    {
     "name": "stdout",
     "output_type": "stream",
     "text": [
      "72\n"
     ]
    }
   ],
   "source": [
    "learning_rates_list = [1e-3, 1e-4]\n",
    "patiences_list = [20, 50]\n",
    "num_layers_list = [1, 2, 4]\n",
    "hidden_sizes_list = [8, 16, 32]\n",
    "dropout_list = [0.25]\n",
    "criterions_list = [nn.MSELoss(), criterion3]\n",
    "batch_size = 64\n",
    "hyperparameter_dict = {}\n",
    "i = 0\n",
    "\n",
    "for lr in learning_rates_list:\n",
    "    for patience in patiences_list:\n",
    "        for num_layers in num_layers_list:\n",
    "            for hidden_size in hidden_sizes_list:    \n",
    "                for dropout in dropout_list:\n",
    "                    for criterion in criterions_list:\n",
    "                        hyperparameter_dict[i] = [lr, patience, num_layers, hidden_size, dropout, criterion]\n",
    "                        i += 1\n",
    "\n",
    "print(i)"
   ]
  },
  {
   "cell_type": "code",
   "execution_count": 4,
   "id": "14aa2d30",
   "metadata": {
    "ExecuteTime": {
     "end_time": "2023-06-14T04:33:45.409468Z",
     "start_time": "2023-06-13T05:51:56.763590Z"
    },
    "scrolled": true
   },
   "outputs": [
    {
     "data": {
      "application/vnd.jupyter.widget-view+json": {
       "model_id": "3be1502ef7f74d38ab7c131f453e0f50",
       "version_major": 2,
       "version_minor": 0
      },
      "text/plain": [
       "cities:   0%|          | 0/17 [00:00<?, ?it/s]"
      ]
     },
     "metadata": {},
     "output_type": "display_data"
    },
    {
     "data": {
      "application/vnd.jupyter.widget-view+json": {
       "model_id": "842ec231588a4da9937acf6a59a06890",
       "version_major": 2,
       "version_minor": 0
      },
      "text/plain": [
       "강원:   0%|          | 0/12 [00:00<?, ?it/s]"
      ]
     },
     "metadata": {},
     "output_type": "display_data"
    },
    {
     "data": {
      "application/vnd.jupyter.widget-view+json": {
       "model_id": "645d9ecbdc674110b7f52d9db982ccbd",
       "version_major": 2,
       "version_minor": 0
      },
      "text/plain": [
       "강원_RNN:   0%|          | 0/72 [00:00<?, ?it/s]"
      ]
     },
     "metadata": {},
     "output_type": "display_data"
    },
    {
     "data": {
      "application/vnd.jupyter.widget-view+json": {
       "model_id": "2634aec6a6394ac0b25d2309db688a8f",
       "version_major": 2,
       "version_minor": 0
      },
      "text/plain": [
       "강원_LSTM:   0%|          | 0/72 [00:00<?, ?it/s]"
      ]
     },
     "metadata": {},
     "output_type": "display_data"
    },
    {
     "data": {
      "application/vnd.jupyter.widget-view+json": {
       "model_id": "67b4ae7d47e640c581fdf0e15789c473",
       "version_major": 2,
       "version_minor": 0
      },
      "text/plain": [
       "강원_GRU:   0%|          | 0/72 [00:00<?, ?it/s]"
      ]
     },
     "metadata": {},
     "output_type": "display_data"
    },
    {
     "data": {
      "application/vnd.jupyter.widget-view+json": {
       "model_id": "a61073fe9261478aa95be08695ff2dce",
       "version_major": 2,
       "version_minor": 0
      },
      "text/plain": [
       "강원_BiRNN:   0%|          | 0/72 [00:00<?, ?it/s]"
      ]
     },
     "metadata": {},
     "output_type": "display_data"
    },
    {
     "data": {
      "application/vnd.jupyter.widget-view+json": {
       "model_id": "32841a7ff5b14306b21f506c952a619d",
       "version_major": 2,
       "version_minor": 0
      },
      "text/plain": [
       "강원_BiLSTM:   0%|          | 0/72 [00:00<?, ?it/s]"
      ]
     },
     "metadata": {},
     "output_type": "display_data"
    },
    {
     "data": {
      "application/vnd.jupyter.widget-view+json": {
       "model_id": "4b1de080e5794504a51ec22750fbd55c",
       "version_major": 2,
       "version_minor": 0
      },
      "text/plain": [
       "강원_BiGRU:   0%|          | 0/72 [00:00<?, ?it/s]"
      ]
     },
     "metadata": {},
     "output_type": "display_data"
    },
    {
     "data": {
      "application/vnd.jupyter.widget-view+json": {
       "model_id": "41bf0d14763b40aebded106da8d461f3",
       "version_major": 2,
       "version_minor": 0
      },
      "text/plain": [
       "강원_seq2seq_RNN:   0%|          | 0/72 [00:00<?, ?it/s]"
      ]
     },
     "metadata": {},
     "output_type": "display_data"
    },
    {
     "data": {
      "application/vnd.jupyter.widget-view+json": {
       "model_id": "5ff72b9ff5444f879042e9cc3b2c5429",
       "version_major": 2,
       "version_minor": 0
      },
      "text/plain": [
       "강원_seq2seq_LSTM:   0%|          | 0/72 [00:00<?, ?it/s]"
      ]
     },
     "metadata": {},
     "output_type": "display_data"
    },
    {
     "data": {
      "application/vnd.jupyter.widget-view+json": {
       "model_id": "2c7f5779d49e47b0b332f26d966e4efb",
       "version_major": 2,
       "version_minor": 0
      },
      "text/plain": [
       "강원_seq2seq_GRU:   0%|          | 0/72 [00:00<?, ?it/s]"
      ]
     },
     "metadata": {},
     "output_type": "display_data"
    },
    {
     "data": {
      "application/vnd.jupyter.widget-view+json": {
       "model_id": "2c51a0ae37d143b9af8c3b074ea78f66",
       "version_major": 2,
       "version_minor": 0
      },
      "text/plain": [
       "강원_seq2seq_BiRNN:   0%|          | 0/72 [00:00<?, ?it/s]"
      ]
     },
     "metadata": {},
     "output_type": "display_data"
    },
    {
     "data": {
      "application/vnd.jupyter.widget-view+json": {
       "model_id": "bcfe2a1754a34d90acc22c6798e2dfbf",
       "version_major": 2,
       "version_minor": 0
      },
      "text/plain": [
       "강원_seq2seq_BiLSTM:   0%|          | 0/72 [00:00<?, ?it/s]"
      ]
     },
     "metadata": {},
     "output_type": "display_data"
    },
    {
     "data": {
      "application/vnd.jupyter.widget-view+json": {
       "model_id": "6030748160004e64ba73c5626ed904ed",
       "version_major": 2,
       "version_minor": 0
      },
      "text/plain": [
       "강원_seq2seq_BiGRU:   0%|          | 0/72 [00:00<?, ?it/s]"
      ]
     },
     "metadata": {},
     "output_type": "display_data"
    },
    {
     "data": {
      "application/vnd.jupyter.widget-view+json": {
       "model_id": "4ef8c386bf3242e18a67614bf240dcd9",
       "version_major": 2,
       "version_minor": 0
      },
      "text/plain": [
       "경기:   0%|          | 0/12 [00:00<?, ?it/s]"
      ]
     },
     "metadata": {},
     "output_type": "display_data"
    },
    {
     "data": {
      "application/vnd.jupyter.widget-view+json": {
       "model_id": "711b3f60fc954453aa3a27c0bc0792da",
       "version_major": 2,
       "version_minor": 0
      },
      "text/plain": [
       "경기_RNN:   0%|          | 0/72 [00:00<?, ?it/s]"
      ]
     },
     "metadata": {},
     "output_type": "display_data"
    },
    {
     "data": {
      "application/vnd.jupyter.widget-view+json": {
       "model_id": "0bc67801022e49a78c55d8d2f5310110",
       "version_major": 2,
       "version_minor": 0
      },
      "text/plain": [
       "경기_LSTM:   0%|          | 0/72 [00:00<?, ?it/s]"
      ]
     },
     "metadata": {},
     "output_type": "display_data"
    },
    {
     "data": {
      "application/vnd.jupyter.widget-view+json": {
       "model_id": "6b13ab3a6ad5406ca86a164e5d21fd31",
       "version_major": 2,
       "version_minor": 0
      },
      "text/plain": [
       "경기_GRU:   0%|          | 0/72 [00:00<?, ?it/s]"
      ]
     },
     "metadata": {},
     "output_type": "display_data"
    },
    {
     "data": {
      "application/vnd.jupyter.widget-view+json": {
       "model_id": "b77abd38dea54a119dbf6cdfe50af2e7",
       "version_major": 2,
       "version_minor": 0
      },
      "text/plain": [
       "경기_BiRNN:   0%|          | 0/72 [00:00<?, ?it/s]"
      ]
     },
     "metadata": {},
     "output_type": "display_data"
    },
    {
     "data": {
      "application/vnd.jupyter.widget-view+json": {
       "model_id": "65a83d3f1611472dbc2895bf569e425a",
       "version_major": 2,
       "version_minor": 0
      },
      "text/plain": [
       "경기_BiLSTM:   0%|          | 0/72 [00:00<?, ?it/s]"
      ]
     },
     "metadata": {},
     "output_type": "display_data"
    },
    {
     "data": {
      "application/vnd.jupyter.widget-view+json": {
       "model_id": "7e836544e2c949c0a5271e8d0a884038",
       "version_major": 2,
       "version_minor": 0
      },
      "text/plain": [
       "경기_BiGRU:   0%|          | 0/72 [00:00<?, ?it/s]"
      ]
     },
     "metadata": {},
     "output_type": "display_data"
    },
    {
     "data": {
      "application/vnd.jupyter.widget-view+json": {
       "model_id": "f3fc7cc6573e4c5c9c127b807212b1da",
       "version_major": 2,
       "version_minor": 0
      },
      "text/plain": [
       "경기_seq2seq_RNN:   0%|          | 0/72 [00:00<?, ?it/s]"
      ]
     },
     "metadata": {},
     "output_type": "display_data"
    },
    {
     "data": {
      "application/vnd.jupyter.widget-view+json": {
       "model_id": "9199db82815344d0a7b298b14af3eb2f",
       "version_major": 2,
       "version_minor": 0
      },
      "text/plain": [
       "경기_seq2seq_LSTM:   0%|          | 0/72 [00:00<?, ?it/s]"
      ]
     },
     "metadata": {},
     "output_type": "display_data"
    },
    {
     "data": {
      "application/vnd.jupyter.widget-view+json": {
       "model_id": "e647ce2d684a4a08a5fc4f2bb179043a",
       "version_major": 2,
       "version_minor": 0
      },
      "text/plain": [
       "경기_seq2seq_GRU:   0%|          | 0/72 [00:00<?, ?it/s]"
      ]
     },
     "metadata": {},
     "output_type": "display_data"
    },
    {
     "data": {
      "application/vnd.jupyter.widget-view+json": {
       "model_id": "efd5909cb7904773bc69b3cba85ae2aa",
       "version_major": 2,
       "version_minor": 0
      },
      "text/plain": [
       "경기_seq2seq_BiRNN:   0%|          | 0/72 [00:00<?, ?it/s]"
      ]
     },
     "metadata": {},
     "output_type": "display_data"
    },
    {
     "data": {
      "application/vnd.jupyter.widget-view+json": {
       "model_id": "98d77cc1255c4b7d8ccf2d3424ea7ff8",
       "version_major": 2,
       "version_minor": 0
      },
      "text/plain": [
       "경기_seq2seq_BiLSTM:   0%|          | 0/72 [00:00<?, ?it/s]"
      ]
     },
     "metadata": {},
     "output_type": "display_data"
    },
    {
     "data": {
      "application/vnd.jupyter.widget-view+json": {
       "model_id": "e37ee4ef955e473bafc2f47b386b063c",
       "version_major": 2,
       "version_minor": 0
      },
      "text/plain": [
       "경기_seq2seq_BiGRU:   0%|          | 0/72 [00:00<?, ?it/s]"
      ]
     },
     "metadata": {},
     "output_type": "display_data"
    },
    {
     "data": {
      "application/vnd.jupyter.widget-view+json": {
       "model_id": "a11556fd222443388e195c97b6dead10",
       "version_major": 2,
       "version_minor": 0
      },
      "text/plain": [
       "경남:   0%|          | 0/12 [00:00<?, ?it/s]"
      ]
     },
     "metadata": {},
     "output_type": "display_data"
    },
    {
     "data": {
      "application/vnd.jupyter.widget-view+json": {
       "model_id": "9d3b7e82bc3d453e9fd75a715193e319",
       "version_major": 2,
       "version_minor": 0
      },
      "text/plain": [
       "경남_RNN:   0%|          | 0/72 [00:00<?, ?it/s]"
      ]
     },
     "metadata": {},
     "output_type": "display_data"
    },
    {
     "data": {
      "application/vnd.jupyter.widget-view+json": {
       "model_id": "a8f9fdfdd2924ba6aa68b37af4587889",
       "version_major": 2,
       "version_minor": 0
      },
      "text/plain": [
       "경남_LSTM:   0%|          | 0/72 [00:00<?, ?it/s]"
      ]
     },
     "metadata": {},
     "output_type": "display_data"
    },
    {
     "data": {
      "application/vnd.jupyter.widget-view+json": {
       "model_id": "d1e4e6bbff1e4431be0b0aacba539f22",
       "version_major": 2,
       "version_minor": 0
      },
      "text/plain": [
       "경남_GRU:   0%|          | 0/72 [00:00<?, ?it/s]"
      ]
     },
     "metadata": {},
     "output_type": "display_data"
    },
    {
     "data": {
      "application/vnd.jupyter.widget-view+json": {
       "model_id": "ce06470a36a549cf97e8b473146faeff",
       "version_major": 2,
       "version_minor": 0
      },
      "text/plain": [
       "경남_BiRNN:   0%|          | 0/72 [00:00<?, ?it/s]"
      ]
     },
     "metadata": {},
     "output_type": "display_data"
    },
    {
     "data": {
      "application/vnd.jupyter.widget-view+json": {
       "model_id": "b74253659db74eca827eb08aa5936a06",
       "version_major": 2,
       "version_minor": 0
      },
      "text/plain": [
       "경남_BiLSTM:   0%|          | 0/72 [00:00<?, ?it/s]"
      ]
     },
     "metadata": {},
     "output_type": "display_data"
    },
    {
     "data": {
      "application/vnd.jupyter.widget-view+json": {
       "model_id": "ba0848f3616645239f36e72fff370fb4",
       "version_major": 2,
       "version_minor": 0
      },
      "text/plain": [
       "경남_BiGRU:   0%|          | 0/72 [00:00<?, ?it/s]"
      ]
     },
     "metadata": {},
     "output_type": "display_data"
    },
    {
     "data": {
      "application/vnd.jupyter.widget-view+json": {
       "model_id": "56823e1f51a34271a63569ff2c0247f9",
       "version_major": 2,
       "version_minor": 0
      },
      "text/plain": [
       "경남_seq2seq_RNN:   0%|          | 0/72 [00:00<?, ?it/s]"
      ]
     },
     "metadata": {},
     "output_type": "display_data"
    },
    {
     "data": {
      "application/vnd.jupyter.widget-view+json": {
       "model_id": "45bd572bc47c4813a86b17a1c6f58863",
       "version_major": 2,
       "version_minor": 0
      },
      "text/plain": [
       "경남_seq2seq_LSTM:   0%|          | 0/72 [00:00<?, ?it/s]"
      ]
     },
     "metadata": {},
     "output_type": "display_data"
    },
    {
     "data": {
      "application/vnd.jupyter.widget-view+json": {
       "model_id": "867cff58b1314c39b42104884356a4a3",
       "version_major": 2,
       "version_minor": 0
      },
      "text/plain": [
       "경남_seq2seq_GRU:   0%|          | 0/72 [00:00<?, ?it/s]"
      ]
     },
     "metadata": {},
     "output_type": "display_data"
    },
    {
     "data": {
      "application/vnd.jupyter.widget-view+json": {
       "model_id": "e18ce78de51742ebbb7e2570fc5f944c",
       "version_major": 2,
       "version_minor": 0
      },
      "text/plain": [
       "경남_seq2seq_BiRNN:   0%|          | 0/72 [00:00<?, ?it/s]"
      ]
     },
     "metadata": {},
     "output_type": "display_data"
    },
    {
     "data": {
      "application/vnd.jupyter.widget-view+json": {
       "model_id": "ec4b85f2b0794a90bfcfe4c0a91a17fc",
       "version_major": 2,
       "version_minor": 0
      },
      "text/plain": [
       "경남_seq2seq_BiLSTM:   0%|          | 0/72 [00:00<?, ?it/s]"
      ]
     },
     "metadata": {},
     "output_type": "display_data"
    },
    {
     "data": {
      "application/vnd.jupyter.widget-view+json": {
       "model_id": "9b71e9338c1c46a2a2543397e64421f9",
       "version_major": 2,
       "version_minor": 0
      },
      "text/plain": [
       "경남_seq2seq_BiGRU:   0%|          | 0/72 [00:00<?, ?it/s]"
      ]
     },
     "metadata": {},
     "output_type": "display_data"
    },
    {
     "data": {
      "application/vnd.jupyter.widget-view+json": {
       "model_id": "cae9adaad869499098bcdb3661a11263",
       "version_major": 2,
       "version_minor": 0
      },
      "text/plain": [
       "경북:   0%|          | 0/12 [00:00<?, ?it/s]"
      ]
     },
     "metadata": {},
     "output_type": "display_data"
    },
    {
     "data": {
      "application/vnd.jupyter.widget-view+json": {
       "model_id": "e2d06be817414fbfb7d70f5182fe8e45",
       "version_major": 2,
       "version_minor": 0
      },
      "text/plain": [
       "경북_RNN:   0%|          | 0/72 [00:00<?, ?it/s]"
      ]
     },
     "metadata": {},
     "output_type": "display_data"
    },
    {
     "data": {
      "application/vnd.jupyter.widget-view+json": {
       "model_id": "ea52709c0e4446e7b8e2622ab30a6c98",
       "version_major": 2,
       "version_minor": 0
      },
      "text/plain": [
       "경북_LSTM:   0%|          | 0/72 [00:00<?, ?it/s]"
      ]
     },
     "metadata": {},
     "output_type": "display_data"
    },
    {
     "data": {
      "application/vnd.jupyter.widget-view+json": {
       "model_id": "1bbc8b3a834f458cac49e0e8ecb05448",
       "version_major": 2,
       "version_minor": 0
      },
      "text/plain": [
       "경북_GRU:   0%|          | 0/72 [00:00<?, ?it/s]"
      ]
     },
     "metadata": {},
     "output_type": "display_data"
    },
    {
     "data": {
      "application/vnd.jupyter.widget-view+json": {
       "model_id": "140128a57969499ba7d13718a7ff1641",
       "version_major": 2,
       "version_minor": 0
      },
      "text/plain": [
       "경북_BiRNN:   0%|          | 0/72 [00:00<?, ?it/s]"
      ]
     },
     "metadata": {},
     "output_type": "display_data"
    },
    {
     "data": {
      "application/vnd.jupyter.widget-view+json": {
       "model_id": "074adae39e6e414a9d01addb010e2878",
       "version_major": 2,
       "version_minor": 0
      },
      "text/plain": [
       "경북_BiLSTM:   0%|          | 0/72 [00:00<?, ?it/s]"
      ]
     },
     "metadata": {},
     "output_type": "display_data"
    },
    {
     "data": {
      "application/vnd.jupyter.widget-view+json": {
       "model_id": "8932487e4a0e4955b7c96e2cee110ee1",
       "version_major": 2,
       "version_minor": 0
      },
      "text/plain": [
       "경북_BiGRU:   0%|          | 0/72 [00:00<?, ?it/s]"
      ]
     },
     "metadata": {},
     "output_type": "display_data"
    },
    {
     "data": {
      "application/vnd.jupyter.widget-view+json": {
       "model_id": "dc815456f60a401c80c68bee0f76e97a",
       "version_major": 2,
       "version_minor": 0
      },
      "text/plain": [
       "경북_seq2seq_RNN:   0%|          | 0/72 [00:00<?, ?it/s]"
      ]
     },
     "metadata": {},
     "output_type": "display_data"
    },
    {
     "data": {
      "application/vnd.jupyter.widget-view+json": {
       "model_id": "73fc2212b05e464ebd708846e73634cd",
       "version_major": 2,
       "version_minor": 0
      },
      "text/plain": [
       "경북_seq2seq_LSTM:   0%|          | 0/72 [00:00<?, ?it/s]"
      ]
     },
     "metadata": {},
     "output_type": "display_data"
    },
    {
     "data": {
      "application/vnd.jupyter.widget-view+json": {
       "model_id": "ae7e5b6fafe541ce820c4e1fbce73412",
       "version_major": 2,
       "version_minor": 0
      },
      "text/plain": [
       "경북_seq2seq_GRU:   0%|          | 0/72 [00:00<?, ?it/s]"
      ]
     },
     "metadata": {},
     "output_type": "display_data"
    },
    {
     "data": {
      "application/vnd.jupyter.widget-view+json": {
       "model_id": "833889ce28834c22956ff78bd216980a",
       "version_major": 2,
       "version_minor": 0
      },
      "text/plain": [
       "경북_seq2seq_BiRNN:   0%|          | 0/72 [00:00<?, ?it/s]"
      ]
     },
     "metadata": {},
     "output_type": "display_data"
    },
    {
     "data": {
      "application/vnd.jupyter.widget-view+json": {
       "model_id": "2bb09bcfd9f7456899e0e206a3aa848a",
       "version_major": 2,
       "version_minor": 0
      },
      "text/plain": [
       "경북_seq2seq_BiLSTM:   0%|          | 0/72 [00:00<?, ?it/s]"
      ]
     },
     "metadata": {},
     "output_type": "display_data"
    },
    {
     "data": {
      "application/vnd.jupyter.widget-view+json": {
       "model_id": "9cd35c56a8d848049f3b7dd4c65074fa",
       "version_major": 2,
       "version_minor": 0
      },
      "text/plain": [
       "경북_seq2seq_BiGRU:   0%|          | 0/72 [00:00<?, ?it/s]"
      ]
     },
     "metadata": {},
     "output_type": "display_data"
    },
    {
     "data": {
      "application/vnd.jupyter.widget-view+json": {
       "model_id": "1ded1b634c5d4920809d672184e55bc6",
       "version_major": 2,
       "version_minor": 0
      },
      "text/plain": [
       "광주:   0%|          | 0/12 [00:00<?, ?it/s]"
      ]
     },
     "metadata": {},
     "output_type": "display_data"
    },
    {
     "data": {
      "application/vnd.jupyter.widget-view+json": {
       "model_id": "406778b82c1e4b1b85ec410e4d3bd2d5",
       "version_major": 2,
       "version_minor": 0
      },
      "text/plain": [
       "광주_RNN:   0%|          | 0/72 [00:00<?, ?it/s]"
      ]
     },
     "metadata": {},
     "output_type": "display_data"
    },
    {
     "data": {
      "application/vnd.jupyter.widget-view+json": {
       "model_id": "6058fbe40f66404a9199a52290b4625e",
       "version_major": 2,
       "version_minor": 0
      },
      "text/plain": [
       "광주_LSTM:   0%|          | 0/72 [00:00<?, ?it/s]"
      ]
     },
     "metadata": {},
     "output_type": "display_data"
    },
    {
     "data": {
      "application/vnd.jupyter.widget-view+json": {
       "model_id": "d827046917814336b55a75d97273e778",
       "version_major": 2,
       "version_minor": 0
      },
      "text/plain": [
       "광주_GRU:   0%|          | 0/72 [00:00<?, ?it/s]"
      ]
     },
     "metadata": {},
     "output_type": "display_data"
    },
    {
     "data": {
      "application/vnd.jupyter.widget-view+json": {
       "model_id": "547e4d1c4185417994fed96cc2ce81d9",
       "version_major": 2,
       "version_minor": 0
      },
      "text/plain": [
       "광주_BiRNN:   0%|          | 0/72 [00:00<?, ?it/s]"
      ]
     },
     "metadata": {},
     "output_type": "display_data"
    },
    {
     "data": {
      "application/vnd.jupyter.widget-view+json": {
       "model_id": "7acd9251d51d47fca91e944672cd9cbf",
       "version_major": 2,
       "version_minor": 0
      },
      "text/plain": [
       "광주_BiLSTM:   0%|          | 0/72 [00:00<?, ?it/s]"
      ]
     },
     "metadata": {},
     "output_type": "display_data"
    },
    {
     "data": {
      "application/vnd.jupyter.widget-view+json": {
       "model_id": "e27621f3525448b3a43799369d389e58",
       "version_major": 2,
       "version_minor": 0
      },
      "text/plain": [
       "광주_BiGRU:   0%|          | 0/72 [00:00<?, ?it/s]"
      ]
     },
     "metadata": {},
     "output_type": "display_data"
    },
    {
     "data": {
      "application/vnd.jupyter.widget-view+json": {
       "model_id": "68f89ec80d12401196c195e5f6e2c16d",
       "version_major": 2,
       "version_minor": 0
      },
      "text/plain": [
       "광주_seq2seq_RNN:   0%|          | 0/72 [00:00<?, ?it/s]"
      ]
     },
     "metadata": {},
     "output_type": "display_data"
    },
    {
     "data": {
      "application/vnd.jupyter.widget-view+json": {
       "model_id": "de634f931fd34c45983a852757fe9570",
       "version_major": 2,
       "version_minor": 0
      },
      "text/plain": [
       "광주_seq2seq_LSTM:   0%|          | 0/72 [00:00<?, ?it/s]"
      ]
     },
     "metadata": {},
     "output_type": "display_data"
    },
    {
     "data": {
      "application/vnd.jupyter.widget-view+json": {
       "model_id": "1b075d7410b640ada7eec9e1e808645b",
       "version_major": 2,
       "version_minor": 0
      },
      "text/plain": [
       "광주_seq2seq_GRU:   0%|          | 0/72 [00:00<?, ?it/s]"
      ]
     },
     "metadata": {},
     "output_type": "display_data"
    },
    {
     "data": {
      "application/vnd.jupyter.widget-view+json": {
       "model_id": "a361813d71044f858f4ce7d93b6e9301",
       "version_major": 2,
       "version_minor": 0
      },
      "text/plain": [
       "광주_seq2seq_BiRNN:   0%|          | 0/72 [00:00<?, ?it/s]"
      ]
     },
     "metadata": {},
     "output_type": "display_data"
    },
    {
     "data": {
      "application/vnd.jupyter.widget-view+json": {
       "model_id": "b6d4e84fd34849a885308d5efe280e9b",
       "version_major": 2,
       "version_minor": 0
      },
      "text/plain": [
       "광주_seq2seq_BiLSTM:   0%|          | 0/72 [00:00<?, ?it/s]"
      ]
     },
     "metadata": {},
     "output_type": "display_data"
    },
    {
     "data": {
      "application/vnd.jupyter.widget-view+json": {
       "model_id": "82ed1a2a76644d2dbab191adbfee8413",
       "version_major": 2,
       "version_minor": 0
      },
      "text/plain": [
       "광주_seq2seq_BiGRU:   0%|          | 0/72 [00:00<?, ?it/s]"
      ]
     },
     "metadata": {},
     "output_type": "display_data"
    },
    {
     "data": {
      "application/vnd.jupyter.widget-view+json": {
       "model_id": "d428782655d64ace8c5b2fc3c56ea44d",
       "version_major": 2,
       "version_minor": 0
      },
      "text/plain": [
       "대구:   0%|          | 0/12 [00:00<?, ?it/s]"
      ]
     },
     "metadata": {},
     "output_type": "display_data"
    },
    {
     "data": {
      "application/vnd.jupyter.widget-view+json": {
       "model_id": "66aad074402e49379327a20fb52e36de",
       "version_major": 2,
       "version_minor": 0
      },
      "text/plain": [
       "대구_RNN:   0%|          | 0/72 [00:00<?, ?it/s]"
      ]
     },
     "metadata": {},
     "output_type": "display_data"
    },
    {
     "data": {
      "application/vnd.jupyter.widget-view+json": {
       "model_id": "b2a51342e2fb46528638facb6fcbc57f",
       "version_major": 2,
       "version_minor": 0
      },
      "text/plain": [
       "대구_LSTM:   0%|          | 0/72 [00:00<?, ?it/s]"
      ]
     },
     "metadata": {},
     "output_type": "display_data"
    },
    {
     "data": {
      "application/vnd.jupyter.widget-view+json": {
       "model_id": "8117ae3a1f0a4bdbb5aac6a4f80c516f",
       "version_major": 2,
       "version_minor": 0
      },
      "text/plain": [
       "대구_GRU:   0%|          | 0/72 [00:00<?, ?it/s]"
      ]
     },
     "metadata": {},
     "output_type": "display_data"
    },
    {
     "data": {
      "application/vnd.jupyter.widget-view+json": {
       "model_id": "ce466cd285fb4e19ba0f6b69595ea744",
       "version_major": 2,
       "version_minor": 0
      },
      "text/plain": [
       "대구_BiRNN:   0%|          | 0/72 [00:00<?, ?it/s]"
      ]
     },
     "metadata": {},
     "output_type": "display_data"
    },
    {
     "data": {
      "application/vnd.jupyter.widget-view+json": {
       "model_id": "6793baea940b4836b9262edd6c49ff90",
       "version_major": 2,
       "version_minor": 0
      },
      "text/plain": [
       "대구_BiLSTM:   0%|          | 0/72 [00:00<?, ?it/s]"
      ]
     },
     "metadata": {},
     "output_type": "display_data"
    },
    {
     "data": {
      "application/vnd.jupyter.widget-view+json": {
       "model_id": "2dffedefdcab49be831fa5989378e15f",
       "version_major": 2,
       "version_minor": 0
      },
      "text/plain": [
       "대구_BiGRU:   0%|          | 0/72 [00:00<?, ?it/s]"
      ]
     },
     "metadata": {},
     "output_type": "display_data"
    },
    {
     "data": {
      "application/vnd.jupyter.widget-view+json": {
       "model_id": "0ede06b8eb8940eeb2e0c69ff08acb93",
       "version_major": 2,
       "version_minor": 0
      },
      "text/plain": [
       "대구_seq2seq_RNN:   0%|          | 0/72 [00:00<?, ?it/s]"
      ]
     },
     "metadata": {},
     "output_type": "display_data"
    },
    {
     "data": {
      "application/vnd.jupyter.widget-view+json": {
       "model_id": "352eae2d9d09484484149db37038c630",
       "version_major": 2,
       "version_minor": 0
      },
      "text/plain": [
       "대구_seq2seq_LSTM:   0%|          | 0/72 [00:00<?, ?it/s]"
      ]
     },
     "metadata": {},
     "output_type": "display_data"
    },
    {
     "data": {
      "application/vnd.jupyter.widget-view+json": {
       "model_id": "0bb74dec32b64217aa33509eb421093c",
       "version_major": 2,
       "version_minor": 0
      },
      "text/plain": [
       "대구_seq2seq_GRU:   0%|          | 0/72 [00:00<?, ?it/s]"
      ]
     },
     "metadata": {},
     "output_type": "display_data"
    },
    {
     "data": {
      "application/vnd.jupyter.widget-view+json": {
       "model_id": "a19555dd5b2444b8a4ffb3d0c4bab7a7",
       "version_major": 2,
       "version_minor": 0
      },
      "text/plain": [
       "대구_seq2seq_BiRNN:   0%|          | 0/72 [00:00<?, ?it/s]"
      ]
     },
     "metadata": {},
     "output_type": "display_data"
    },
    {
     "data": {
      "application/vnd.jupyter.widget-view+json": {
       "model_id": "ede3353ccf6b4b47a0ad0dca4ac1ed1e",
       "version_major": 2,
       "version_minor": 0
      },
      "text/plain": [
       "대구_seq2seq_BiLSTM:   0%|          | 0/72 [00:00<?, ?it/s]"
      ]
     },
     "metadata": {},
     "output_type": "display_data"
    },
    {
     "data": {
      "application/vnd.jupyter.widget-view+json": {
       "model_id": "a66ce08e29414e128ab053802d912a02",
       "version_major": 2,
       "version_minor": 0
      },
      "text/plain": [
       "대구_seq2seq_BiGRU:   0%|          | 0/72 [00:00<?, ?it/s]"
      ]
     },
     "metadata": {},
     "output_type": "display_data"
    },
    {
     "data": {
      "application/vnd.jupyter.widget-view+json": {
       "model_id": "04496587e2cc4dba85d73bd96aaf308e",
       "version_major": 2,
       "version_minor": 0
      },
      "text/plain": [
       "대전:   0%|          | 0/12 [00:00<?, ?it/s]"
      ]
     },
     "metadata": {},
     "output_type": "display_data"
    },
    {
     "data": {
      "application/vnd.jupyter.widget-view+json": {
       "model_id": "7c98a18a01b14e0184e6ef8f279d0d38",
       "version_major": 2,
       "version_minor": 0
      },
      "text/plain": [
       "대전_RNN:   0%|          | 0/72 [00:00<?, ?it/s]"
      ]
     },
     "metadata": {},
     "output_type": "display_data"
    },
    {
     "data": {
      "application/vnd.jupyter.widget-view+json": {
       "model_id": "0477572a29ff4ea2be32c4bde08849b4",
       "version_major": 2,
       "version_minor": 0
      },
      "text/plain": [
       "대전_LSTM:   0%|          | 0/72 [00:00<?, ?it/s]"
      ]
     },
     "metadata": {},
     "output_type": "display_data"
    },
    {
     "data": {
      "application/vnd.jupyter.widget-view+json": {
       "model_id": "67266c84ea5b418d9a59efad0de3e5e6",
       "version_major": 2,
       "version_minor": 0
      },
      "text/plain": [
       "대전_GRU:   0%|          | 0/72 [00:00<?, ?it/s]"
      ]
     },
     "metadata": {},
     "output_type": "display_data"
    },
    {
     "data": {
      "application/vnd.jupyter.widget-view+json": {
       "model_id": "a3328aea1b154d6da3baf6d52c8432e5",
       "version_major": 2,
       "version_minor": 0
      },
      "text/plain": [
       "대전_BiRNN:   0%|          | 0/72 [00:00<?, ?it/s]"
      ]
     },
     "metadata": {},
     "output_type": "display_data"
    },
    {
     "data": {
      "application/vnd.jupyter.widget-view+json": {
       "model_id": "136463ffe6144706aa9d5fd976509d94",
       "version_major": 2,
       "version_minor": 0
      },
      "text/plain": [
       "대전_BiLSTM:   0%|          | 0/72 [00:00<?, ?it/s]"
      ]
     },
     "metadata": {},
     "output_type": "display_data"
    },
    {
     "data": {
      "application/vnd.jupyter.widget-view+json": {
       "model_id": "e53a6a0cf90a4a1c86dcb4293a461e7e",
       "version_major": 2,
       "version_minor": 0
      },
      "text/plain": [
       "대전_BiGRU:   0%|          | 0/72 [00:00<?, ?it/s]"
      ]
     },
     "metadata": {},
     "output_type": "display_data"
    },
    {
     "data": {
      "application/vnd.jupyter.widget-view+json": {
       "model_id": "f75a7c73aba042c6af6dd19848960741",
       "version_major": 2,
       "version_minor": 0
      },
      "text/plain": [
       "대전_seq2seq_RNN:   0%|          | 0/72 [00:00<?, ?it/s]"
      ]
     },
     "metadata": {},
     "output_type": "display_data"
    },
    {
     "data": {
      "application/vnd.jupyter.widget-view+json": {
       "model_id": "6cf3ad753d1f4b1c99ef34b1ab6dbff1",
       "version_major": 2,
       "version_minor": 0
      },
      "text/plain": [
       "대전_seq2seq_LSTM:   0%|          | 0/72 [00:00<?, ?it/s]"
      ]
     },
     "metadata": {},
     "output_type": "display_data"
    },
    {
     "data": {
      "application/vnd.jupyter.widget-view+json": {
       "model_id": "0279ea11dd734ea8b833eb6015ebf107",
       "version_major": 2,
       "version_minor": 0
      },
      "text/plain": [
       "대전_seq2seq_GRU:   0%|          | 0/72 [00:00<?, ?it/s]"
      ]
     },
     "metadata": {},
     "output_type": "display_data"
    },
    {
     "data": {
      "application/vnd.jupyter.widget-view+json": {
       "model_id": "02f4c476e0c249159e2e4ba7ad52124d",
       "version_major": 2,
       "version_minor": 0
      },
      "text/plain": [
       "대전_seq2seq_BiRNN:   0%|          | 0/72 [00:00<?, ?it/s]"
      ]
     },
     "metadata": {},
     "output_type": "display_data"
    },
    {
     "data": {
      "application/vnd.jupyter.widget-view+json": {
       "model_id": "3ebe615c0d8a42dd86a74b5bb89d4e12",
       "version_major": 2,
       "version_minor": 0
      },
      "text/plain": [
       "대전_seq2seq_BiLSTM:   0%|          | 0/72 [00:00<?, ?it/s]"
      ]
     },
     "metadata": {},
     "output_type": "display_data"
    },
    {
     "data": {
      "application/vnd.jupyter.widget-view+json": {
       "model_id": "53e9833f148b42c8a6abc99bf66eaabd",
       "version_major": 2,
       "version_minor": 0
      },
      "text/plain": [
       "대전_seq2seq_BiGRU:   0%|          | 0/72 [00:00<?, ?it/s]"
      ]
     },
     "metadata": {},
     "output_type": "display_data"
    },
    {
     "data": {
      "application/vnd.jupyter.widget-view+json": {
       "model_id": "b0b43e74c57741e5946a9a43b4c9ef5b",
       "version_major": 2,
       "version_minor": 0
      },
      "text/plain": [
       "부산:   0%|          | 0/12 [00:00<?, ?it/s]"
      ]
     },
     "metadata": {},
     "output_type": "display_data"
    },
    {
     "data": {
      "application/vnd.jupyter.widget-view+json": {
       "model_id": "7338befbc5284a46b39ce0e4c1fb7811",
       "version_major": 2,
       "version_minor": 0
      },
      "text/plain": [
       "부산_RNN:   0%|          | 0/72 [00:00<?, ?it/s]"
      ]
     },
     "metadata": {},
     "output_type": "display_data"
    },
    {
     "data": {
      "application/vnd.jupyter.widget-view+json": {
       "model_id": "8fab4de768c94f869da446dd48288d67",
       "version_major": 2,
       "version_minor": 0
      },
      "text/plain": [
       "부산_LSTM:   0%|          | 0/72 [00:00<?, ?it/s]"
      ]
     },
     "metadata": {},
     "output_type": "display_data"
    },
    {
     "data": {
      "application/vnd.jupyter.widget-view+json": {
       "model_id": "93adb843e87f4553b4b9f76aea335b20",
       "version_major": 2,
       "version_minor": 0
      },
      "text/plain": [
       "부산_GRU:   0%|          | 0/72 [00:00<?, ?it/s]"
      ]
     },
     "metadata": {},
     "output_type": "display_data"
    },
    {
     "data": {
      "application/vnd.jupyter.widget-view+json": {
       "model_id": "ca5b0b7cf8b746298e7fd7cd8b288b4b",
       "version_major": 2,
       "version_minor": 0
      },
      "text/plain": [
       "부산_BiRNN:   0%|          | 0/72 [00:00<?, ?it/s]"
      ]
     },
     "metadata": {},
     "output_type": "display_data"
    },
    {
     "data": {
      "application/vnd.jupyter.widget-view+json": {
       "model_id": "3fc776c92079491ca4f80e8a2b381d97",
       "version_major": 2,
       "version_minor": 0
      },
      "text/plain": [
       "부산_BiLSTM:   0%|          | 0/72 [00:00<?, ?it/s]"
      ]
     },
     "metadata": {},
     "output_type": "display_data"
    },
    {
     "data": {
      "application/vnd.jupyter.widget-view+json": {
       "model_id": "cbfaac52720648ee8298407f8f0c1564",
       "version_major": 2,
       "version_minor": 0
      },
      "text/plain": [
       "부산_BiGRU:   0%|          | 0/72 [00:00<?, ?it/s]"
      ]
     },
     "metadata": {},
     "output_type": "display_data"
    },
    {
     "data": {
      "application/vnd.jupyter.widget-view+json": {
       "model_id": "7242f0af647740db87db64d6e3dd61c0",
       "version_major": 2,
       "version_minor": 0
      },
      "text/plain": [
       "부산_seq2seq_RNN:   0%|          | 0/72 [00:00<?, ?it/s]"
      ]
     },
     "metadata": {},
     "output_type": "display_data"
    },
    {
     "data": {
      "application/vnd.jupyter.widget-view+json": {
       "model_id": "aa74897bdf824ccca3ab94f2191f0056",
       "version_major": 2,
       "version_minor": 0
      },
      "text/plain": [
       "부산_seq2seq_LSTM:   0%|          | 0/72 [00:00<?, ?it/s]"
      ]
     },
     "metadata": {},
     "output_type": "display_data"
    },
    {
     "data": {
      "application/vnd.jupyter.widget-view+json": {
       "model_id": "538fbf2ec6bf4142a851223f229e4cc3",
       "version_major": 2,
       "version_minor": 0
      },
      "text/plain": [
       "부산_seq2seq_GRU:   0%|          | 0/72 [00:00<?, ?it/s]"
      ]
     },
     "metadata": {},
     "output_type": "display_data"
    },
    {
     "data": {
      "application/vnd.jupyter.widget-view+json": {
       "model_id": "a13056d4ddf7413db5e8376ad19aa310",
       "version_major": 2,
       "version_minor": 0
      },
      "text/plain": [
       "부산_seq2seq_BiRNN:   0%|          | 0/72 [00:00<?, ?it/s]"
      ]
     },
     "metadata": {},
     "output_type": "display_data"
    },
    {
     "data": {
      "application/vnd.jupyter.widget-view+json": {
       "model_id": "042443578c8f4900ac493be3e49ff070",
       "version_major": 2,
       "version_minor": 0
      },
      "text/plain": [
       "부산_seq2seq_BiLSTM:   0%|          | 0/72 [00:00<?, ?it/s]"
      ]
     },
     "metadata": {},
     "output_type": "display_data"
    },
    {
     "data": {
      "application/vnd.jupyter.widget-view+json": {
       "model_id": "8ba4e50cb1d64b34b14aa0140ad58df7",
       "version_major": 2,
       "version_minor": 0
      },
      "text/plain": [
       "부산_seq2seq_BiGRU:   0%|          | 0/72 [00:00<?, ?it/s]"
      ]
     },
     "metadata": {},
     "output_type": "display_data"
    },
    {
     "data": {
      "application/vnd.jupyter.widget-view+json": {
       "model_id": "e21fc932e0864320af7bf082f29fed2a",
       "version_major": 2,
       "version_minor": 0
      },
      "text/plain": [
       "서울:   0%|          | 0/12 [00:00<?, ?it/s]"
      ]
     },
     "metadata": {},
     "output_type": "display_data"
    },
    {
     "data": {
      "application/vnd.jupyter.widget-view+json": {
       "model_id": "6771c787d9664b8bbf01fa31bdb7e49d",
       "version_major": 2,
       "version_minor": 0
      },
      "text/plain": [
       "서울_RNN:   0%|          | 0/72 [00:00<?, ?it/s]"
      ]
     },
     "metadata": {},
     "output_type": "display_data"
    },
    {
     "data": {
      "application/vnd.jupyter.widget-view+json": {
       "model_id": "f4dd01d1840a47afa2b6c6f99eafd054",
       "version_major": 2,
       "version_minor": 0
      },
      "text/plain": [
       "서울_LSTM:   0%|          | 0/72 [00:00<?, ?it/s]"
      ]
     },
     "metadata": {},
     "output_type": "display_data"
    },
    {
     "data": {
      "application/vnd.jupyter.widget-view+json": {
       "model_id": "c12763161ff64cfe80cff19405333587",
       "version_major": 2,
       "version_minor": 0
      },
      "text/plain": [
       "서울_GRU:   0%|          | 0/72 [00:00<?, ?it/s]"
      ]
     },
     "metadata": {},
     "output_type": "display_data"
    },
    {
     "data": {
      "application/vnd.jupyter.widget-view+json": {
       "model_id": "d139c0e868984832a13d214cc8cb430b",
       "version_major": 2,
       "version_minor": 0
      },
      "text/plain": [
       "서울_BiRNN:   0%|          | 0/72 [00:00<?, ?it/s]"
      ]
     },
     "metadata": {},
     "output_type": "display_data"
    },
    {
     "data": {
      "application/vnd.jupyter.widget-view+json": {
       "model_id": "e57f592777f7467da2d28921c9dc5c2b",
       "version_major": 2,
       "version_minor": 0
      },
      "text/plain": [
       "서울_BiLSTM:   0%|          | 0/72 [00:00<?, ?it/s]"
      ]
     },
     "metadata": {},
     "output_type": "display_data"
    },
    {
     "data": {
      "application/vnd.jupyter.widget-view+json": {
       "model_id": "0ce04e7d85874df49f622d022b10a92f",
       "version_major": 2,
       "version_minor": 0
      },
      "text/plain": [
       "서울_BiGRU:   0%|          | 0/72 [00:00<?, ?it/s]"
      ]
     },
     "metadata": {},
     "output_type": "display_data"
    },
    {
     "data": {
      "application/vnd.jupyter.widget-view+json": {
       "model_id": "cba9801f62f642729b61e894d9246255",
       "version_major": 2,
       "version_minor": 0
      },
      "text/plain": [
       "서울_seq2seq_RNN:   0%|          | 0/72 [00:00<?, ?it/s]"
      ]
     },
     "metadata": {},
     "output_type": "display_data"
    },
    {
     "data": {
      "application/vnd.jupyter.widget-view+json": {
       "model_id": "f270d8517419471db141e578ce9af9e9",
       "version_major": 2,
       "version_minor": 0
      },
      "text/plain": [
       "서울_seq2seq_LSTM:   0%|          | 0/72 [00:00<?, ?it/s]"
      ]
     },
     "metadata": {},
     "output_type": "display_data"
    },
    {
     "data": {
      "application/vnd.jupyter.widget-view+json": {
       "model_id": "3fbddb39289d449dadc563ebde489ef2",
       "version_major": 2,
       "version_minor": 0
      },
      "text/plain": [
       "서울_seq2seq_GRU:   0%|          | 0/72 [00:00<?, ?it/s]"
      ]
     },
     "metadata": {},
     "output_type": "display_data"
    },
    {
     "data": {
      "application/vnd.jupyter.widget-view+json": {
       "model_id": "5a03f98bfadc4e6e9cf5d9cf552e3149",
       "version_major": 2,
       "version_minor": 0
      },
      "text/plain": [
       "서울_seq2seq_BiRNN:   0%|          | 0/72 [00:00<?, ?it/s]"
      ]
     },
     "metadata": {},
     "output_type": "display_data"
    },
    {
     "data": {
      "application/vnd.jupyter.widget-view+json": {
       "model_id": "d41c73b3e5fb4c1d9f60a695ebc7e07a",
       "version_major": 2,
       "version_minor": 0
      },
      "text/plain": [
       "서울_seq2seq_BiLSTM:   0%|          | 0/72 [00:00<?, ?it/s]"
      ]
     },
     "metadata": {},
     "output_type": "display_data"
    },
    {
     "data": {
      "application/vnd.jupyter.widget-view+json": {
       "model_id": "1dadcaf61afd4ba1925148b7168ae718",
       "version_major": 2,
       "version_minor": 0
      },
      "text/plain": [
       "서울_seq2seq_BiGRU:   0%|          | 0/72 [00:00<?, ?it/s]"
      ]
     },
     "metadata": {},
     "output_type": "display_data"
    },
    {
     "data": {
      "application/vnd.jupyter.widget-view+json": {
       "model_id": "22efbd2e7b4440c190af6dcb06fb6c99",
       "version_major": 2,
       "version_minor": 0
      },
      "text/plain": [
       "세종:   0%|          | 0/12 [00:00<?, ?it/s]"
      ]
     },
     "metadata": {},
     "output_type": "display_data"
    },
    {
     "data": {
      "application/vnd.jupyter.widget-view+json": {
       "model_id": "d38f3d881d824e60a05088c8c3e2a8ff",
       "version_major": 2,
       "version_minor": 0
      },
      "text/plain": [
       "세종_RNN:   0%|          | 0/72 [00:00<?, ?it/s]"
      ]
     },
     "metadata": {},
     "output_type": "display_data"
    },
    {
     "data": {
      "application/vnd.jupyter.widget-view+json": {
       "model_id": "b83201cd60a1489486189e9202a9a2ff",
       "version_major": 2,
       "version_minor": 0
      },
      "text/plain": [
       "세종_LSTM:   0%|          | 0/72 [00:00<?, ?it/s]"
      ]
     },
     "metadata": {},
     "output_type": "display_data"
    },
    {
     "data": {
      "application/vnd.jupyter.widget-view+json": {
       "model_id": "71ee06b364454ff4be7c59f350a339bb",
       "version_major": 2,
       "version_minor": 0
      },
      "text/plain": [
       "세종_GRU:   0%|          | 0/72 [00:00<?, ?it/s]"
      ]
     },
     "metadata": {},
     "output_type": "display_data"
    },
    {
     "data": {
      "application/vnd.jupyter.widget-view+json": {
       "model_id": "514e13c260bd424185ec6aa810a1baa4",
       "version_major": 2,
       "version_minor": 0
      },
      "text/plain": [
       "세종_BiRNN:   0%|          | 0/72 [00:00<?, ?it/s]"
      ]
     },
     "metadata": {},
     "output_type": "display_data"
    },
    {
     "data": {
      "application/vnd.jupyter.widget-view+json": {
       "model_id": "5f23195a97bc4167a8d04a193d06cecb",
       "version_major": 2,
       "version_minor": 0
      },
      "text/plain": [
       "세종_BiLSTM:   0%|          | 0/72 [00:00<?, ?it/s]"
      ]
     },
     "metadata": {},
     "output_type": "display_data"
    },
    {
     "data": {
      "application/vnd.jupyter.widget-view+json": {
       "model_id": "c9f8135da1dd4408b88db0cbd8453ce7",
       "version_major": 2,
       "version_minor": 0
      },
      "text/plain": [
       "세종_BiGRU:   0%|          | 0/72 [00:00<?, ?it/s]"
      ]
     },
     "metadata": {},
     "output_type": "display_data"
    },
    {
     "data": {
      "application/vnd.jupyter.widget-view+json": {
       "model_id": "badf9c05f2a348f4bdd8214c21f89472",
       "version_major": 2,
       "version_minor": 0
      },
      "text/plain": [
       "세종_seq2seq_RNN:   0%|          | 0/72 [00:00<?, ?it/s]"
      ]
     },
     "metadata": {},
     "output_type": "display_data"
    },
    {
     "data": {
      "application/vnd.jupyter.widget-view+json": {
       "model_id": "a1c47ceec8c740b7b07a4ca63fbdc396",
       "version_major": 2,
       "version_minor": 0
      },
      "text/plain": [
       "세종_seq2seq_LSTM:   0%|          | 0/72 [00:00<?, ?it/s]"
      ]
     },
     "metadata": {},
     "output_type": "display_data"
    },
    {
     "data": {
      "application/vnd.jupyter.widget-view+json": {
       "model_id": "ccf6383066494544ab3510756c87c3fe",
       "version_major": 2,
       "version_minor": 0
      },
      "text/plain": [
       "세종_seq2seq_GRU:   0%|          | 0/72 [00:00<?, ?it/s]"
      ]
     },
     "metadata": {},
     "output_type": "display_data"
    },
    {
     "data": {
      "application/vnd.jupyter.widget-view+json": {
       "model_id": "2aa0ad5dcfca4b10997f6d7a79b6a861",
       "version_major": 2,
       "version_minor": 0
      },
      "text/plain": [
       "세종_seq2seq_BiRNN:   0%|          | 0/72 [00:00<?, ?it/s]"
      ]
     },
     "metadata": {},
     "output_type": "display_data"
    },
    {
     "data": {
      "application/vnd.jupyter.widget-view+json": {
       "model_id": "1ac1fb461d134cc09cb5953fe2adb59c",
       "version_major": 2,
       "version_minor": 0
      },
      "text/plain": [
       "세종_seq2seq_BiLSTM:   0%|          | 0/72 [00:00<?, ?it/s]"
      ]
     },
     "metadata": {},
     "output_type": "display_data"
    },
    {
     "data": {
      "application/vnd.jupyter.widget-view+json": {
       "model_id": "43db36cb83bf43b0b0f1830a88bb885a",
       "version_major": 2,
       "version_minor": 0
      },
      "text/plain": [
       "세종_seq2seq_BiGRU:   0%|          | 0/72 [00:00<?, ?it/s]"
      ]
     },
     "metadata": {},
     "output_type": "display_data"
    },
    {
     "data": {
      "application/vnd.jupyter.widget-view+json": {
       "model_id": "6a6121846bbf46ce9984ec53df248731",
       "version_major": 2,
       "version_minor": 0
      },
      "text/plain": [
       "울산:   0%|          | 0/12 [00:00<?, ?it/s]"
      ]
     },
     "metadata": {},
     "output_type": "display_data"
    },
    {
     "data": {
      "application/vnd.jupyter.widget-view+json": {
       "model_id": "5c75f386acf24495a34715ffe172df87",
       "version_major": 2,
       "version_minor": 0
      },
      "text/plain": [
       "울산_RNN:   0%|          | 0/72 [00:00<?, ?it/s]"
      ]
     },
     "metadata": {},
     "output_type": "display_data"
    },
    {
     "data": {
      "application/vnd.jupyter.widget-view+json": {
       "model_id": "bd08962146c04f03b0cf54aa699458df",
       "version_major": 2,
       "version_minor": 0
      },
      "text/plain": [
       "울산_LSTM:   0%|          | 0/72 [00:00<?, ?it/s]"
      ]
     },
     "metadata": {},
     "output_type": "display_data"
    },
    {
     "data": {
      "application/vnd.jupyter.widget-view+json": {
       "model_id": "7b351e1fc0c84593a3f44d943bb25bda",
       "version_major": 2,
       "version_minor": 0
      },
      "text/plain": [
       "울산_GRU:   0%|          | 0/72 [00:00<?, ?it/s]"
      ]
     },
     "metadata": {},
     "output_type": "display_data"
    },
    {
     "data": {
      "application/vnd.jupyter.widget-view+json": {
       "model_id": "985a24e565e141c5a2c0fe6ae8108873",
       "version_major": 2,
       "version_minor": 0
      },
      "text/plain": [
       "울산_BiRNN:   0%|          | 0/72 [00:00<?, ?it/s]"
      ]
     },
     "metadata": {},
     "output_type": "display_data"
    },
    {
     "data": {
      "application/vnd.jupyter.widget-view+json": {
       "model_id": "de1ea76ee0bb46f896cf0f748f78ce20",
       "version_major": 2,
       "version_minor": 0
      },
      "text/plain": [
       "울산_BiLSTM:   0%|          | 0/72 [00:00<?, ?it/s]"
      ]
     },
     "metadata": {},
     "output_type": "display_data"
    },
    {
     "data": {
      "application/vnd.jupyter.widget-view+json": {
       "model_id": "c20fbcce2c8940bf8badad79274f108c",
       "version_major": 2,
       "version_minor": 0
      },
      "text/plain": [
       "울산_BiGRU:   0%|          | 0/72 [00:00<?, ?it/s]"
      ]
     },
     "metadata": {},
     "output_type": "display_data"
    },
    {
     "data": {
      "application/vnd.jupyter.widget-view+json": {
       "model_id": "4682cf838f7744c0aad6519e48a6fe38",
       "version_major": 2,
       "version_minor": 0
      },
      "text/plain": [
       "울산_seq2seq_RNN:   0%|          | 0/72 [00:00<?, ?it/s]"
      ]
     },
     "metadata": {},
     "output_type": "display_data"
    },
    {
     "data": {
      "application/vnd.jupyter.widget-view+json": {
       "model_id": "1977bbd910354be4a175c783c612d306",
       "version_major": 2,
       "version_minor": 0
      },
      "text/plain": [
       "울산_seq2seq_LSTM:   0%|          | 0/72 [00:00<?, ?it/s]"
      ]
     },
     "metadata": {},
     "output_type": "display_data"
    },
    {
     "data": {
      "application/vnd.jupyter.widget-view+json": {
       "model_id": "398f2065f16d4f028ad72532a11e7a9b",
       "version_major": 2,
       "version_minor": 0
      },
      "text/plain": [
       "울산_seq2seq_GRU:   0%|          | 0/72 [00:00<?, ?it/s]"
      ]
     },
     "metadata": {},
     "output_type": "display_data"
    },
    {
     "data": {
      "application/vnd.jupyter.widget-view+json": {
       "model_id": "9be98f2d38614e5c85759f877cc3a2f9",
       "version_major": 2,
       "version_minor": 0
      },
      "text/plain": [
       "울산_seq2seq_BiRNN:   0%|          | 0/72 [00:00<?, ?it/s]"
      ]
     },
     "metadata": {},
     "output_type": "display_data"
    },
    {
     "data": {
      "application/vnd.jupyter.widget-view+json": {
       "model_id": "a48128dd6fa84e3c83e9c0fe6d09333c",
       "version_major": 2,
       "version_minor": 0
      },
      "text/plain": [
       "울산_seq2seq_BiLSTM:   0%|          | 0/72 [00:00<?, ?it/s]"
      ]
     },
     "metadata": {},
     "output_type": "display_data"
    },
    {
     "data": {
      "application/vnd.jupyter.widget-view+json": {
       "model_id": "c155034ab84a416a9b5332b9bcb96b2b",
       "version_major": 2,
       "version_minor": 0
      },
      "text/plain": [
       "울산_seq2seq_BiGRU:   0%|          | 0/72 [00:00<?, ?it/s]"
      ]
     },
     "metadata": {},
     "output_type": "display_data"
    },
    {
     "data": {
      "application/vnd.jupyter.widget-view+json": {
       "model_id": "d840a38600294c2285557d5e31e52cbe",
       "version_major": 2,
       "version_minor": 0
      },
      "text/plain": [
       "인천:   0%|          | 0/12 [00:00<?, ?it/s]"
      ]
     },
     "metadata": {},
     "output_type": "display_data"
    },
    {
     "data": {
      "application/vnd.jupyter.widget-view+json": {
       "model_id": "dcbdeb1373ca4b85a93107deeb065d93",
       "version_major": 2,
       "version_minor": 0
      },
      "text/plain": [
       "인천_RNN:   0%|          | 0/72 [00:00<?, ?it/s]"
      ]
     },
     "metadata": {},
     "output_type": "display_data"
    },
    {
     "data": {
      "application/vnd.jupyter.widget-view+json": {
       "model_id": "900ce3e99451472bb8a60736da49f709",
       "version_major": 2,
       "version_minor": 0
      },
      "text/plain": [
       "인천_LSTM:   0%|          | 0/72 [00:00<?, ?it/s]"
      ]
     },
     "metadata": {},
     "output_type": "display_data"
    },
    {
     "data": {
      "application/vnd.jupyter.widget-view+json": {
       "model_id": "8046a8a0a9c04327b6ffb0f8737302e9",
       "version_major": 2,
       "version_minor": 0
      },
      "text/plain": [
       "인천_GRU:   0%|          | 0/72 [00:00<?, ?it/s]"
      ]
     },
     "metadata": {},
     "output_type": "display_data"
    },
    {
     "data": {
      "application/vnd.jupyter.widget-view+json": {
       "model_id": "8d492a45df164fa2985815d1363fc94b",
       "version_major": 2,
       "version_minor": 0
      },
      "text/plain": [
       "인천_BiRNN:   0%|          | 0/72 [00:00<?, ?it/s]"
      ]
     },
     "metadata": {},
     "output_type": "display_data"
    },
    {
     "data": {
      "application/vnd.jupyter.widget-view+json": {
       "model_id": "d7efb3162ade4f369a4f0c8764d19825",
       "version_major": 2,
       "version_minor": 0
      },
      "text/plain": [
       "인천_BiLSTM:   0%|          | 0/72 [00:00<?, ?it/s]"
      ]
     },
     "metadata": {},
     "output_type": "display_data"
    },
    {
     "data": {
      "application/vnd.jupyter.widget-view+json": {
       "model_id": "288b00e0a0bb40bbb9266d3e2751094a",
       "version_major": 2,
       "version_minor": 0
      },
      "text/plain": [
       "인천_BiGRU:   0%|          | 0/72 [00:00<?, ?it/s]"
      ]
     },
     "metadata": {},
     "output_type": "display_data"
    },
    {
     "data": {
      "application/vnd.jupyter.widget-view+json": {
       "model_id": "ad2e4bd578fc4af1a6c0f23ad4de22a3",
       "version_major": 2,
       "version_minor": 0
      },
      "text/plain": [
       "인천_seq2seq_RNN:   0%|          | 0/72 [00:00<?, ?it/s]"
      ]
     },
     "metadata": {},
     "output_type": "display_data"
    },
    {
     "data": {
      "application/vnd.jupyter.widget-view+json": {
       "model_id": "bfbdf47cdced419fb227793a3477f3a6",
       "version_major": 2,
       "version_minor": 0
      },
      "text/plain": [
       "인천_seq2seq_LSTM:   0%|          | 0/72 [00:00<?, ?it/s]"
      ]
     },
     "metadata": {},
     "output_type": "display_data"
    },
    {
     "data": {
      "application/vnd.jupyter.widget-view+json": {
       "model_id": "b38083a9b3964aa6aa0c7a7507d5e9b8",
       "version_major": 2,
       "version_minor": 0
      },
      "text/plain": [
       "인천_seq2seq_GRU:   0%|          | 0/72 [00:00<?, ?it/s]"
      ]
     },
     "metadata": {},
     "output_type": "display_data"
    },
    {
     "data": {
      "application/vnd.jupyter.widget-view+json": {
       "model_id": "6570ba61e2544d0bae2f865a6a9b2c8c",
       "version_major": 2,
       "version_minor": 0
      },
      "text/plain": [
       "인천_seq2seq_BiRNN:   0%|          | 0/72 [00:00<?, ?it/s]"
      ]
     },
     "metadata": {},
     "output_type": "display_data"
    },
    {
     "data": {
      "application/vnd.jupyter.widget-view+json": {
       "model_id": "bb716e4d4a0c487ea91e9d1aa0964f29",
       "version_major": 2,
       "version_minor": 0
      },
      "text/plain": [
       "인천_seq2seq_BiLSTM:   0%|          | 0/72 [00:00<?, ?it/s]"
      ]
     },
     "metadata": {},
     "output_type": "display_data"
    },
    {
     "data": {
      "application/vnd.jupyter.widget-view+json": {
       "model_id": "de4717e71d544097bba73725ce1d9254",
       "version_major": 2,
       "version_minor": 0
      },
      "text/plain": [
       "인천_seq2seq_BiGRU:   0%|          | 0/72 [00:00<?, ?it/s]"
      ]
     },
     "metadata": {},
     "output_type": "display_data"
    },
    {
     "data": {
      "application/vnd.jupyter.widget-view+json": {
       "model_id": "f191008512314ecd919f63f1125399f9",
       "version_major": 2,
       "version_minor": 0
      },
      "text/plain": [
       "전남:   0%|          | 0/12 [00:00<?, ?it/s]"
      ]
     },
     "metadata": {},
     "output_type": "display_data"
    },
    {
     "data": {
      "application/vnd.jupyter.widget-view+json": {
       "model_id": "f60c9c847e8f4d1d826ba268b4497b16",
       "version_major": 2,
       "version_minor": 0
      },
      "text/plain": [
       "전남_RNN:   0%|          | 0/72 [00:00<?, ?it/s]"
      ]
     },
     "metadata": {},
     "output_type": "display_data"
    },
    {
     "data": {
      "application/vnd.jupyter.widget-view+json": {
       "model_id": "12175549e641448cb06f3ec4aed2824a",
       "version_major": 2,
       "version_minor": 0
      },
      "text/plain": [
       "전남_LSTM:   0%|          | 0/72 [00:00<?, ?it/s]"
      ]
     },
     "metadata": {},
     "output_type": "display_data"
    },
    {
     "data": {
      "application/vnd.jupyter.widget-view+json": {
       "model_id": "e51af2240fe5432bb7ff6ee7b7abaea0",
       "version_major": 2,
       "version_minor": 0
      },
      "text/plain": [
       "전남_GRU:   0%|          | 0/72 [00:00<?, ?it/s]"
      ]
     },
     "metadata": {},
     "output_type": "display_data"
    },
    {
     "data": {
      "application/vnd.jupyter.widget-view+json": {
       "model_id": "0819aeec9fc743199a47f2fe4acd8aeb",
       "version_major": 2,
       "version_minor": 0
      },
      "text/plain": [
       "전남_BiRNN:   0%|          | 0/72 [00:00<?, ?it/s]"
      ]
     },
     "metadata": {},
     "output_type": "display_data"
    },
    {
     "data": {
      "application/vnd.jupyter.widget-view+json": {
       "model_id": "421fae4d70ee464497274ce75ba9add7",
       "version_major": 2,
       "version_minor": 0
      },
      "text/plain": [
       "전남_BiLSTM:   0%|          | 0/72 [00:00<?, ?it/s]"
      ]
     },
     "metadata": {},
     "output_type": "display_data"
    },
    {
     "data": {
      "application/vnd.jupyter.widget-view+json": {
       "model_id": "7ec81541041c45d886c58a36c2591fc9",
       "version_major": 2,
       "version_minor": 0
      },
      "text/plain": [
       "전남_BiGRU:   0%|          | 0/72 [00:00<?, ?it/s]"
      ]
     },
     "metadata": {},
     "output_type": "display_data"
    },
    {
     "data": {
      "application/vnd.jupyter.widget-view+json": {
       "model_id": "14144afe74ff408bb72f3bc235f5893d",
       "version_major": 2,
       "version_minor": 0
      },
      "text/plain": [
       "전남_seq2seq_RNN:   0%|          | 0/72 [00:00<?, ?it/s]"
      ]
     },
     "metadata": {},
     "output_type": "display_data"
    },
    {
     "data": {
      "application/vnd.jupyter.widget-view+json": {
       "model_id": "e59befada1e24668a89015fc6bcf3b79",
       "version_major": 2,
       "version_minor": 0
      },
      "text/plain": [
       "전남_seq2seq_LSTM:   0%|          | 0/72 [00:00<?, ?it/s]"
      ]
     },
     "metadata": {},
     "output_type": "display_data"
    },
    {
     "data": {
      "application/vnd.jupyter.widget-view+json": {
       "model_id": "2d13af6ec6f44467a0649305a5858cab",
       "version_major": 2,
       "version_minor": 0
      },
      "text/plain": [
       "전남_seq2seq_GRU:   0%|          | 0/72 [00:00<?, ?it/s]"
      ]
     },
     "metadata": {},
     "output_type": "display_data"
    },
    {
     "data": {
      "application/vnd.jupyter.widget-view+json": {
       "model_id": "fc3169d0ce174bc6bb239fcbd16e5e20",
       "version_major": 2,
       "version_minor": 0
      },
      "text/plain": [
       "전남_seq2seq_BiRNN:   0%|          | 0/72 [00:00<?, ?it/s]"
      ]
     },
     "metadata": {},
     "output_type": "display_data"
    },
    {
     "data": {
      "application/vnd.jupyter.widget-view+json": {
       "model_id": "1f3e2261c68648bc9e7e916150f96510",
       "version_major": 2,
       "version_minor": 0
      },
      "text/plain": [
       "전남_seq2seq_BiLSTM:   0%|          | 0/72 [00:00<?, ?it/s]"
      ]
     },
     "metadata": {},
     "output_type": "display_data"
    },
    {
     "data": {
      "application/vnd.jupyter.widget-view+json": {
       "model_id": "73cf2503df7d4638a94b02d880c0f740",
       "version_major": 2,
       "version_minor": 0
      },
      "text/plain": [
       "전남_seq2seq_BiGRU:   0%|          | 0/72 [00:00<?, ?it/s]"
      ]
     },
     "metadata": {},
     "output_type": "display_data"
    },
    {
     "data": {
      "application/vnd.jupyter.widget-view+json": {
       "model_id": "d83f8fa252f54863ac3486f8e0e1bb86",
       "version_major": 2,
       "version_minor": 0
      },
      "text/plain": [
       "전북:   0%|          | 0/12 [00:00<?, ?it/s]"
      ]
     },
     "metadata": {},
     "output_type": "display_data"
    },
    {
     "data": {
      "application/vnd.jupyter.widget-view+json": {
       "model_id": "048455c206274c0887eeaaaf881f0a94",
       "version_major": 2,
       "version_minor": 0
      },
      "text/plain": [
       "전북_RNN:   0%|          | 0/72 [00:00<?, ?it/s]"
      ]
     },
     "metadata": {},
     "output_type": "display_data"
    },
    {
     "data": {
      "application/vnd.jupyter.widget-view+json": {
       "model_id": "84bafab4518247bb89b699880b26081e",
       "version_major": 2,
       "version_minor": 0
      },
      "text/plain": [
       "전북_LSTM:   0%|          | 0/72 [00:00<?, ?it/s]"
      ]
     },
     "metadata": {},
     "output_type": "display_data"
    },
    {
     "data": {
      "application/vnd.jupyter.widget-view+json": {
       "model_id": "0a475c482a914cbaa462dc65999f845f",
       "version_major": 2,
       "version_minor": 0
      },
      "text/plain": [
       "전북_GRU:   0%|          | 0/72 [00:00<?, ?it/s]"
      ]
     },
     "metadata": {},
     "output_type": "display_data"
    },
    {
     "data": {
      "application/vnd.jupyter.widget-view+json": {
       "model_id": "5692580d8cb2419ea0585c9586cd6ed2",
       "version_major": 2,
       "version_minor": 0
      },
      "text/plain": [
       "전북_BiRNN:   0%|          | 0/72 [00:00<?, ?it/s]"
      ]
     },
     "metadata": {},
     "output_type": "display_data"
    },
    {
     "data": {
      "application/vnd.jupyter.widget-view+json": {
       "model_id": "fa90393aa097439bae5bd3c4e5788348",
       "version_major": 2,
       "version_minor": 0
      },
      "text/plain": [
       "전북_BiLSTM:   0%|          | 0/72 [00:00<?, ?it/s]"
      ]
     },
     "metadata": {},
     "output_type": "display_data"
    },
    {
     "data": {
      "application/vnd.jupyter.widget-view+json": {
       "model_id": "0dce1453589e4d589d283fce9decb34f",
       "version_major": 2,
       "version_minor": 0
      },
      "text/plain": [
       "전북_BiGRU:   0%|          | 0/72 [00:00<?, ?it/s]"
      ]
     },
     "metadata": {},
     "output_type": "display_data"
    },
    {
     "data": {
      "application/vnd.jupyter.widget-view+json": {
       "model_id": "b2a9f1ee0136492f9828ccc24d86c090",
       "version_major": 2,
       "version_minor": 0
      },
      "text/plain": [
       "전북_seq2seq_RNN:   0%|          | 0/72 [00:00<?, ?it/s]"
      ]
     },
     "metadata": {},
     "output_type": "display_data"
    },
    {
     "data": {
      "application/vnd.jupyter.widget-view+json": {
       "model_id": "1d05952174664caf9f33a6fee9295e5c",
       "version_major": 2,
       "version_minor": 0
      },
      "text/plain": [
       "전북_seq2seq_LSTM:   0%|          | 0/72 [00:00<?, ?it/s]"
      ]
     },
     "metadata": {},
     "output_type": "display_data"
    },
    {
     "data": {
      "application/vnd.jupyter.widget-view+json": {
       "model_id": "f1871b71d167490facb4c6cdc2719f54",
       "version_major": 2,
       "version_minor": 0
      },
      "text/plain": [
       "전북_seq2seq_GRU:   0%|          | 0/72 [00:00<?, ?it/s]"
      ]
     },
     "metadata": {},
     "output_type": "display_data"
    },
    {
     "data": {
      "application/vnd.jupyter.widget-view+json": {
       "model_id": "6991957008c64338861e83edd6362981",
       "version_major": 2,
       "version_minor": 0
      },
      "text/plain": [
       "전북_seq2seq_BiRNN:   0%|          | 0/72 [00:00<?, ?it/s]"
      ]
     },
     "metadata": {},
     "output_type": "display_data"
    },
    {
     "data": {
      "application/vnd.jupyter.widget-view+json": {
       "model_id": "1bd113b86f1b4096953b9810a23b6b79",
       "version_major": 2,
       "version_minor": 0
      },
      "text/plain": [
       "전북_seq2seq_BiLSTM:   0%|          | 0/72 [00:00<?, ?it/s]"
      ]
     },
     "metadata": {},
     "output_type": "display_data"
    },
    {
     "data": {
      "application/vnd.jupyter.widget-view+json": {
       "model_id": "7fc4d673134245109a7f0e96ebcb821e",
       "version_major": 2,
       "version_minor": 0
      },
      "text/plain": [
       "전북_seq2seq_BiGRU:   0%|          | 0/72 [00:00<?, ?it/s]"
      ]
     },
     "metadata": {},
     "output_type": "display_data"
    },
    {
     "data": {
      "application/vnd.jupyter.widget-view+json": {
       "model_id": "494574f511df4118852f0f39e68d6871",
       "version_major": 2,
       "version_minor": 0
      },
      "text/plain": [
       "제주:   0%|          | 0/12 [00:00<?, ?it/s]"
      ]
     },
     "metadata": {},
     "output_type": "display_data"
    },
    {
     "data": {
      "application/vnd.jupyter.widget-view+json": {
       "model_id": "e4038f8742874b01a895139f8336934a",
       "version_major": 2,
       "version_minor": 0
      },
      "text/plain": [
       "제주_RNN:   0%|          | 0/72 [00:00<?, ?it/s]"
      ]
     },
     "metadata": {},
     "output_type": "display_data"
    },
    {
     "data": {
      "application/vnd.jupyter.widget-view+json": {
       "model_id": "0e492462a0e948c399cb110983bd4f9f",
       "version_major": 2,
       "version_minor": 0
      },
      "text/plain": [
       "제주_LSTM:   0%|          | 0/72 [00:00<?, ?it/s]"
      ]
     },
     "metadata": {},
     "output_type": "display_data"
    },
    {
     "data": {
      "application/vnd.jupyter.widget-view+json": {
       "model_id": "82f8a3d86c114e13a3147b576f8095cc",
       "version_major": 2,
       "version_minor": 0
      },
      "text/plain": [
       "제주_GRU:   0%|          | 0/72 [00:00<?, ?it/s]"
      ]
     },
     "metadata": {},
     "output_type": "display_data"
    },
    {
     "data": {
      "application/vnd.jupyter.widget-view+json": {
       "model_id": "8f15a25ffa1942148cd97cf7822b5a27",
       "version_major": 2,
       "version_minor": 0
      },
      "text/plain": [
       "제주_BiRNN:   0%|          | 0/72 [00:00<?, ?it/s]"
      ]
     },
     "metadata": {},
     "output_type": "display_data"
    },
    {
     "data": {
      "application/vnd.jupyter.widget-view+json": {
       "model_id": "40e2428b9b1c4c178484929da3e841b7",
       "version_major": 2,
       "version_minor": 0
      },
      "text/plain": [
       "제주_BiLSTM:   0%|          | 0/72 [00:00<?, ?it/s]"
      ]
     },
     "metadata": {},
     "output_type": "display_data"
    },
    {
     "data": {
      "application/vnd.jupyter.widget-view+json": {
       "model_id": "6ddadde2a8ed4a9b93056a9394c45137",
       "version_major": 2,
       "version_minor": 0
      },
      "text/plain": [
       "제주_BiGRU:   0%|          | 0/72 [00:00<?, ?it/s]"
      ]
     },
     "metadata": {},
     "output_type": "display_data"
    },
    {
     "data": {
      "application/vnd.jupyter.widget-view+json": {
       "model_id": "c32afd5f879647ce890a3645c5db37f1",
       "version_major": 2,
       "version_minor": 0
      },
      "text/plain": [
       "제주_seq2seq_RNN:   0%|          | 0/72 [00:00<?, ?it/s]"
      ]
     },
     "metadata": {},
     "output_type": "display_data"
    },
    {
     "data": {
      "application/vnd.jupyter.widget-view+json": {
       "model_id": "80d760f673964cddbb6f60700b81d9ca",
       "version_major": 2,
       "version_minor": 0
      },
      "text/plain": [
       "제주_seq2seq_LSTM:   0%|          | 0/72 [00:00<?, ?it/s]"
      ]
     },
     "metadata": {},
     "output_type": "display_data"
    },
    {
     "data": {
      "application/vnd.jupyter.widget-view+json": {
       "model_id": "65d4dd0455804d2ab16b394646a96aae",
       "version_major": 2,
       "version_minor": 0
      },
      "text/plain": [
       "제주_seq2seq_GRU:   0%|          | 0/72 [00:00<?, ?it/s]"
      ]
     },
     "metadata": {},
     "output_type": "display_data"
    },
    {
     "data": {
      "application/vnd.jupyter.widget-view+json": {
       "model_id": "e6cae687939047eeb7787a59106c6514",
       "version_major": 2,
       "version_minor": 0
      },
      "text/plain": [
       "제주_seq2seq_BiRNN:   0%|          | 0/72 [00:00<?, ?it/s]"
      ]
     },
     "metadata": {},
     "output_type": "display_data"
    },
    {
     "data": {
      "application/vnd.jupyter.widget-view+json": {
       "model_id": "bc70f90894774566ae0612aaadc9e04a",
       "version_major": 2,
       "version_minor": 0
      },
      "text/plain": [
       "제주_seq2seq_BiLSTM:   0%|          | 0/72 [00:00<?, ?it/s]"
      ]
     },
     "metadata": {},
     "output_type": "display_data"
    },
    {
     "data": {
      "application/vnd.jupyter.widget-view+json": {
       "model_id": "675cea85711d43db83defca363a0feb8",
       "version_major": 2,
       "version_minor": 0
      },
      "text/plain": [
       "제주_seq2seq_BiGRU:   0%|          | 0/72 [00:00<?, ?it/s]"
      ]
     },
     "metadata": {},
     "output_type": "display_data"
    },
    {
     "data": {
      "application/vnd.jupyter.widget-view+json": {
       "model_id": "de2a2946c542442e8c8798557007792c",
       "version_major": 2,
       "version_minor": 0
      },
      "text/plain": [
       "충남:   0%|          | 0/12 [00:00<?, ?it/s]"
      ]
     },
     "metadata": {},
     "output_type": "display_data"
    },
    {
     "data": {
      "application/vnd.jupyter.widget-view+json": {
       "model_id": "8a6aba9bac174ace85b60c9997366e56",
       "version_major": 2,
       "version_minor": 0
      },
      "text/plain": [
       "충남_RNN:   0%|          | 0/72 [00:00<?, ?it/s]"
      ]
     },
     "metadata": {},
     "output_type": "display_data"
    },
    {
     "data": {
      "application/vnd.jupyter.widget-view+json": {
       "model_id": "f09eeca66d1f40539c0ff27676d78c6e",
       "version_major": 2,
       "version_minor": 0
      },
      "text/plain": [
       "충남_LSTM:   0%|          | 0/72 [00:00<?, ?it/s]"
      ]
     },
     "metadata": {},
     "output_type": "display_data"
    },
    {
     "data": {
      "application/vnd.jupyter.widget-view+json": {
       "model_id": "7f7f0da90d7a4432991937d9b13ab9a0",
       "version_major": 2,
       "version_minor": 0
      },
      "text/plain": [
       "충남_GRU:   0%|          | 0/72 [00:00<?, ?it/s]"
      ]
     },
     "metadata": {},
     "output_type": "display_data"
    },
    {
     "data": {
      "application/vnd.jupyter.widget-view+json": {
       "model_id": "7f15f95a6a354666b5d8e4c53c01761b",
       "version_major": 2,
       "version_minor": 0
      },
      "text/plain": [
       "충남_BiRNN:   0%|          | 0/72 [00:00<?, ?it/s]"
      ]
     },
     "metadata": {},
     "output_type": "display_data"
    },
    {
     "data": {
      "application/vnd.jupyter.widget-view+json": {
       "model_id": "eb34936958d9469c983e29901dbc1c06",
       "version_major": 2,
       "version_minor": 0
      },
      "text/plain": [
       "충남_BiLSTM:   0%|          | 0/72 [00:00<?, ?it/s]"
      ]
     },
     "metadata": {},
     "output_type": "display_data"
    },
    {
     "data": {
      "application/vnd.jupyter.widget-view+json": {
       "model_id": "2ccbe120cf224fa8b213315e62be0b93",
       "version_major": 2,
       "version_minor": 0
      },
      "text/plain": [
       "충남_BiGRU:   0%|          | 0/72 [00:00<?, ?it/s]"
      ]
     },
     "metadata": {},
     "output_type": "display_data"
    },
    {
     "data": {
      "application/vnd.jupyter.widget-view+json": {
       "model_id": "34edd10af16b48718a0ce03b67ebc8d9",
       "version_major": 2,
       "version_minor": 0
      },
      "text/plain": [
       "충남_seq2seq_RNN:   0%|          | 0/72 [00:00<?, ?it/s]"
      ]
     },
     "metadata": {},
     "output_type": "display_data"
    },
    {
     "data": {
      "application/vnd.jupyter.widget-view+json": {
       "model_id": "bb5ff49ec7424779a5ba50e44c05cef4",
       "version_major": 2,
       "version_minor": 0
      },
      "text/plain": [
       "충남_seq2seq_LSTM:   0%|          | 0/72 [00:00<?, ?it/s]"
      ]
     },
     "metadata": {},
     "output_type": "display_data"
    },
    {
     "data": {
      "application/vnd.jupyter.widget-view+json": {
       "model_id": "796249bf06ae4ae6a4b35e7c13b8f0c6",
       "version_major": 2,
       "version_minor": 0
      },
      "text/plain": [
       "충남_seq2seq_GRU:   0%|          | 0/72 [00:00<?, ?it/s]"
      ]
     },
     "metadata": {},
     "output_type": "display_data"
    },
    {
     "data": {
      "application/vnd.jupyter.widget-view+json": {
       "model_id": "76e848f2d12f49abb28c3cb50c698015",
       "version_major": 2,
       "version_minor": 0
      },
      "text/plain": [
       "충남_seq2seq_BiRNN:   0%|          | 0/72 [00:00<?, ?it/s]"
      ]
     },
     "metadata": {},
     "output_type": "display_data"
    },
    {
     "data": {
      "application/vnd.jupyter.widget-view+json": {
       "model_id": "6418e01409144fe9985bf558fa878b8f",
       "version_major": 2,
       "version_minor": 0
      },
      "text/plain": [
       "충남_seq2seq_BiLSTM:   0%|          | 0/72 [00:00<?, ?it/s]"
      ]
     },
     "metadata": {},
     "output_type": "display_data"
    },
    {
     "data": {
      "application/vnd.jupyter.widget-view+json": {
       "model_id": "67da714bb9f6411db89264b6c902f630",
       "version_major": 2,
       "version_minor": 0
      },
      "text/plain": [
       "충남_seq2seq_BiGRU:   0%|          | 0/72 [00:00<?, ?it/s]"
      ]
     },
     "metadata": {},
     "output_type": "display_data"
    },
    {
     "data": {
      "application/vnd.jupyter.widget-view+json": {
       "model_id": "a4745b68f1b24fa8a73a9d84cd8d4891",
       "version_major": 2,
       "version_minor": 0
      },
      "text/plain": [
       "충북:   0%|          | 0/12 [00:00<?, ?it/s]"
      ]
     },
     "metadata": {},
     "output_type": "display_data"
    },
    {
     "data": {
      "application/vnd.jupyter.widget-view+json": {
       "model_id": "cc6ffc8dffc54afca9002d5b386b418c",
       "version_major": 2,
       "version_minor": 0
      },
      "text/plain": [
       "충북_RNN:   0%|          | 0/72 [00:00<?, ?it/s]"
      ]
     },
     "metadata": {},
     "output_type": "display_data"
    },
    {
     "data": {
      "application/vnd.jupyter.widget-view+json": {
       "model_id": "bc91965d4c3a49c1a0b64eef007555ba",
       "version_major": 2,
       "version_minor": 0
      },
      "text/plain": [
       "충북_LSTM:   0%|          | 0/72 [00:00<?, ?it/s]"
      ]
     },
     "metadata": {},
     "output_type": "display_data"
    },
    {
     "data": {
      "application/vnd.jupyter.widget-view+json": {
       "model_id": "7979e4d667d54bd8a60642e7120c46a6",
       "version_major": 2,
       "version_minor": 0
      },
      "text/plain": [
       "충북_GRU:   0%|          | 0/72 [00:00<?, ?it/s]"
      ]
     },
     "metadata": {},
     "output_type": "display_data"
    },
    {
     "data": {
      "application/vnd.jupyter.widget-view+json": {
       "model_id": "19621d013b36494082888174c6c3f057",
       "version_major": 2,
       "version_minor": 0
      },
      "text/plain": [
       "충북_BiRNN:   0%|          | 0/72 [00:00<?, ?it/s]"
      ]
     },
     "metadata": {},
     "output_type": "display_data"
    },
    {
     "data": {
      "application/vnd.jupyter.widget-view+json": {
       "model_id": "d78f85470c194f869a9df3d2c16db506",
       "version_major": 2,
       "version_minor": 0
      },
      "text/plain": [
       "충북_BiLSTM:   0%|          | 0/72 [00:00<?, ?it/s]"
      ]
     },
     "metadata": {},
     "output_type": "display_data"
    },
    {
     "data": {
      "application/vnd.jupyter.widget-view+json": {
       "model_id": "343e70bd3198414e8160696a9d9569e0",
       "version_major": 2,
       "version_minor": 0
      },
      "text/plain": [
       "충북_BiGRU:   0%|          | 0/72 [00:00<?, ?it/s]"
      ]
     },
     "metadata": {},
     "output_type": "display_data"
    },
    {
     "data": {
      "application/vnd.jupyter.widget-view+json": {
       "model_id": "8ff2829089e0477dbcee686f669732f2",
       "version_major": 2,
       "version_minor": 0
      },
      "text/plain": [
       "충북_seq2seq_RNN:   0%|          | 0/72 [00:00<?, ?it/s]"
      ]
     },
     "metadata": {},
     "output_type": "display_data"
    },
    {
     "data": {
      "application/vnd.jupyter.widget-view+json": {
       "model_id": "a9eeb398e0654414a5c56e8b37943332",
       "version_major": 2,
       "version_minor": 0
      },
      "text/plain": [
       "충북_seq2seq_LSTM:   0%|          | 0/72 [00:00<?, ?it/s]"
      ]
     },
     "metadata": {},
     "output_type": "display_data"
    },
    {
     "data": {
      "application/vnd.jupyter.widget-view+json": {
       "model_id": "a617964aa5b74b04b7defe248dab40af",
       "version_major": 2,
       "version_minor": 0
      },
      "text/plain": [
       "충북_seq2seq_GRU:   0%|          | 0/72 [00:00<?, ?it/s]"
      ]
     },
     "metadata": {},
     "output_type": "display_data"
    },
    {
     "data": {
      "application/vnd.jupyter.widget-view+json": {
       "model_id": "398ce639d82341b7ab5eae282f131b7e",
       "version_major": 2,
       "version_minor": 0
      },
      "text/plain": [
       "충북_seq2seq_BiRNN:   0%|          | 0/72 [00:00<?, ?it/s]"
      ]
     },
     "metadata": {},
     "output_type": "display_data"
    },
    {
     "data": {
      "application/vnd.jupyter.widget-view+json": {
       "model_id": "fa197cbe580246fb9bdedefb0f191203",
       "version_major": 2,
       "version_minor": 0
      },
      "text/plain": [
       "충북_seq2seq_BiLSTM:   0%|          | 0/72 [00:00<?, ?it/s]"
      ]
     },
     "metadata": {},
     "output_type": "display_data"
    },
    {
     "data": {
      "application/vnd.jupyter.widget-view+json": {
       "model_id": "75d4f604f1e64322b452169640afd987",
       "version_major": 2,
       "version_minor": 0
      },
      "text/plain": [
       "충북_seq2seq_BiGRU:   0%|          | 0/72 [00:00<?, ?it/s]"
      ]
     },
     "metadata": {},
     "output_type": "display_data"
    }
   ],
   "source": [
    "trained_data = {}\n",
    "city_list = ['강원', '경기', '경남', '경북', '광주', '대구', '대전', '부산', \n",
    "             '서울', '세종', '울산', '인천', '전남', '전북', '제주', '충남', '충북']\n",
    "models_list = ['RNN', 'LSTM', 'GRU', 'BiRNN', 'BiLSTM', 'BiGRU', \n",
    "               'seq2seq_RNN', 'seq2seq_LSTM', 'seq2seq_GRU', 'seq2seq_BiRNN', 'seq2seq_BiLSTM', 'seq2seq_BiGRU']\n",
    "\n",
    "\n",
    "for city in tqdm(city_list, desc = 'cities', position = 0):\n",
    "    data = dic_files[city]\n",
    "    best_model = {}\n",
    "    \n",
    "    input_size = 3\n",
    "    sequence_length = 60\n",
    "    num_epochs = 10000\n",
    "\n",
    "    df = Prepare_df.processing(data, 'stdDay', 'alpha_variants')\n",
    "\n",
    "    x = df.iloc[:, 0:]\n",
    "    y = df.iloc[:,:1]\n",
    "\n",
    "    ms = MinMaxScaler()\n",
    "    ss = StandardScaler()\n",
    "\n",
    "    ss.fit(x)\n",
    "    ms.fit(y)\n",
    "\n",
    "    for num_model in tqdm(range(12), desc = f'{city}', position = 1):\n",
    "        rmse_min = np.inf\n",
    "        h = -1\n",
    "        \n",
    "        for hyperparameter in tqdm(hyperparameter_dict.values(), desc = f'{city}_{models_list[num_model]}', position = 2):\n",
    "            h += 1\n",
    "            if (num_model < 6) and (h % 2 == 1):\n",
    "                continue\n",
    "            model_name = models_list[num_model]\n",
    "            lr = hyperparameter[0]\n",
    "            patience = hyperparameter[1]\n",
    "            num_layers = hyperparameter[2]\n",
    "            hidden_size = hyperparameter[3]\n",
    "            dropout = hyperparameter[4]\n",
    "\n",
    "            if num_model < 6:\n",
    "                criterion = nn.MSELoss()\n",
    "            else:\n",
    "                criterion = hyperparameter[5]\n",
    "\n",
    "            if num_model < 6:\n",
    "                x, y, x_ss, y_ms, train_loader, test_loader = Prepare_df.split_data(df, 57, 60, 1, batch_size, 'mto')\n",
    "            else:\n",
    "                x, y, x_ss, y_ms, train_loader, test_loader = Prepare_df.split_data(df, 51, 60, 7, batch_size, 'mtm')\n",
    "\n",
    "            if num_model == 0:\n",
    "                model = RNN(input_size = input_size,\n",
    "                            hidden_size = hidden_size,\n",
    "                            sequence_length = sequence_length,\n",
    "                            num_layers = num_layers, \n",
    "                            dropout = dropout, \n",
    "                            device = device).to(device)\n",
    "\n",
    "            elif num_model == 1:\n",
    "                model = LSTM(input_size = input_size,\n",
    "                             hidden_size = hidden_size,\n",
    "                             sequence_length = sequence_length,\n",
    "                             num_layers = num_layers, \n",
    "                             dropout = dropout, \n",
    "                             device = device).to(device)\n",
    "\n",
    "            elif num_model == 2:\n",
    "                model = GRU(input_size = input_size,\n",
    "                            hidden_size = hidden_size,\n",
    "                            sequence_length = sequence_length,\n",
    "                            num_layers = num_layers, \n",
    "                            dropout = dropout, \n",
    "                            device = device).to(device)\n",
    "\n",
    "            elif num_model == 3:\n",
    "                model = BiRNN(input_size = input_size,\n",
    "                              hidden_size = hidden_size,\n",
    "                              sequence_length = sequence_length,\n",
    "                              num_layers = num_layers, \n",
    "                              dropout = dropout, \n",
    "                              device = device).to(device)\n",
    "\n",
    "            elif num_model == 4:\n",
    "                model = BiLSTM(input_size = input_size,\n",
    "                               hidden_size = hidden_size,\n",
    "                               sequence_length = sequence_length,\n",
    "                               num_layers = num_layers, \n",
    "                               dropout = dropout, \n",
    "                               device = device).to(device)\n",
    "\n",
    "            elif num_model == 5:\n",
    "                model = BiGRU(input_size = input_size,\n",
    "                              hidden_size = hidden_size,\n",
    "                              sequence_length = sequence_length,\n",
    "                              num_layers = num_layers, \n",
    "                              dropout = dropout, \n",
    "                              device = device).to(device)\n",
    "\n",
    "            elif num_model == 6:\n",
    "                model = RNN_encoder_decoder(input_size = input_size, \n",
    "                                            hidden_size = hidden_size,\n",
    "                                            num_layers = num_layers, \n",
    "                                            dropout = dropout,\n",
    "                                            device = device).to(device)\n",
    "\n",
    "            elif num_model == 7:\n",
    "                model = LSTM_encoder_decoder(input_size = input_size, \n",
    "                                             hidden_size = hidden_size,\n",
    "                                             num_layers = num_layers, \n",
    "                                             dropout = dropout,\n",
    "                                             device = device).to(device)\n",
    "\n",
    "            elif num_model == 8:\n",
    "                model = GRU_encoder_decoder(input_size = input_size, \n",
    "                                            hidden_size = hidden_size,\n",
    "                                            num_layers = num_layers, \n",
    "                                            dropout = dropout,\n",
    "                                            device = device).to(device)\n",
    "\n",
    "            elif num_model == 9:\n",
    "                model = BiRNN_encoder_decoder(input_size = input_size, \n",
    "                                                hidden_size = hidden_size,\n",
    "                                                num_layers = num_layers, \n",
    "                                                dropout = dropout,\n",
    "                                                device = device).to(device)\n",
    "\n",
    "            elif num_model == 10:\n",
    "                model = BiLSTM_encoder_decoder(input_size = input_size, \n",
    "                                                  hidden_size = hidden_size,\n",
    "                                                  num_layers = num_layers, \n",
    "                                                  dropout = dropout,\n",
    "                                                  device = device).to(device)\n",
    "\n",
    "            elif num_model == 11:\n",
    "                model = BiGRU_encoder_decoder(input_size = input_size, \n",
    "                                                hidden_size = hidden_size,\n",
    "                                                num_layers = num_layers, \n",
    "                                                dropout = dropout,\n",
    "                                                device = device).to(device)            \n",
    "\n",
    "            optimizer = Adam(model.parameters(), lr = lr)\n",
    "\n",
    "            if num_model < 6:\n",
    "                loss_list, model, epoch = Trainer.Many_to_One(train_loader, \n",
    "                                                              test_loader, \n",
    "                                                              model, \n",
    "                                                              criterion, \n",
    "                                                              optimizer, \n",
    "                                                              num_epochs, \n",
    "                                                              patience,\n",
    "                                                              device)\n",
    "\n",
    "                label_y, predicted = predict_mto(model, df, x_ss, y_ms)\n",
    "                \n",
    "                if rmse_min > rmse(label_y[-7:], predicted[-7:]):\n",
    "                    rmse_min = rmse(label_y[-7:], predicted[-7:])\n",
    "                    best_model[models_list[num_model]] = [rmse_min, model, loss_list, epoch, lr, patience, \n",
    "                                                          num_layers,hidden_size, dropout]\n",
    "                \n",
    "                \n",
    "            else:\n",
    "                loss_list, model, epoch = Trainer.Many_to_Many(train_loader, \n",
    "                                                               test_loader, \n",
    "                                                               model, \n",
    "                                                               criterion, \n",
    "                                                               optimizer, \n",
    "                                                               num_epochs, \n",
    "                                                               patience,\n",
    "                                                               7,\n",
    "                                                               device)        \n",
    "                \n",
    "                label_y, predicted, first_label_y, first_predicted, all_predicted = predict_mtm(model, df, x_ss, y_ms, \n",
    "                                                                                                7, 0.5, device)\n",
    "    \n",
    "                if rmse_min > rmse(label_y[-7:], predicted[-7:]):\n",
    "                    rmse_min = rmse(label_y[-7:], predicted[-7:])\n",
    "                    best_model[models_list[num_model]] = [rmse_min, model, loss_list, epoch, lr, patience, \n",
    "                                                          num_layers, hidden_size, dropout, criterion]\n",
    "            \n",
    "        \n",
    "            \n",
    "    trained_data[city] = best_model"
   ]
  },
  {
   "cell_type": "code",
   "execution_count": 30,
   "id": "3f549f94",
   "metadata": {
    "ExecuteTime": {
     "end_time": "2023-06-14T12:51:14.299296Z",
     "start_time": "2023-06-14T12:51:13.597759Z"
    }
   },
   "outputs": [],
   "source": [
    "for city in trained_data:\n",
    "    for name, values in trained_data[city].items():\n",
    "        save_model(values[1].state_dict(), f\"model/Infected/alpha/{city}/{name}.pth\")\n",
    "        save_hyperparameter(values[3:], f\"hyperparameter/Infected/alpha/{city}/{name}.pkl\")"
   ]
  },
  {
   "cell_type": "code",
   "execution_count": null,
   "id": "a656f203",
   "metadata": {},
   "outputs": [],
   "source": []
  }
 ],
 "metadata": {
  "kernelspec": {
   "display_name": "KDA_DA",
   "language": "python",
   "name": "kda_da"
  },
  "language_info": {
   "codemirror_mode": {
    "name": "ipython",
    "version": 3
   },
   "file_extension": ".py",
   "mimetype": "text/x-python",
   "name": "python",
   "nbconvert_exporter": "python",
   "pygments_lexer": "ipython3",
   "version": "3.10.8"
  },
  "toc": {
   "base_numbering": 1,
   "nav_menu": {},
   "number_sections": true,
   "sideBar": true,
   "skip_h1_title": false,
   "title_cell": "Table of Contents",
   "title_sidebar": "Contents",
   "toc_cell": false,
   "toc_position": {},
   "toc_section_display": true,
   "toc_window_display": false
  }
 },
 "nbformat": 4,
 "nbformat_minor": 5
}
