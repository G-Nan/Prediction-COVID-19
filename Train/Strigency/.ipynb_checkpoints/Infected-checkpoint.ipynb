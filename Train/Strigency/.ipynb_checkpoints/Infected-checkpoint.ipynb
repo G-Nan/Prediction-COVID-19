{
 "cells": [
  {
   "cell_type": "code",
   "execution_count": 2,
   "id": "f7ef393f",
   "metadata": {
    "ExecuteTime": {
     "end_time": "2023-06-27T15:21:53.916902Z",
     "start_time": "2023-06-27T15:21:51.445327Z"
    }
   },
   "outputs": [],
   "source": [
    "import os\n",
    "os.chdir('D:\\\\Gnan\\\\DA\\\\KMU\\\\Prediction-COVID-19')\n",
    "from utils import *\n",
    "from model import *\n",
    "from trainer import *\n",
    "\n",
    "from tqdm.notebook import tqdm\n",
    "from torch.optim.adam import Adam\n",
    "device = torch.device('cuda:0' if torch.cuda.is_available() else 'cpu')\n",
    "\n",
    "import warnings\n",
    "warnings.filterwarnings('ignore')"
   ]
  },
  {
   "cell_type": "code",
   "execution_count": 10,
   "id": "0c62bad3",
   "metadata": {
    "ExecuteTime": {
     "end_time": "2023-06-27T15:24:56.069191Z",
     "start_time": "2023-06-27T15:24:55.999377Z"
    }
   },
   "outputs": [
    {
     "data": {
      "text/plain": [
       "torch.Size([7, 60, 3])"
      ]
     },
     "execution_count": 10,
     "metadata": {},
     "output_type": "execute_result"
    }
   ],
   "source": [
    "key = 'Infected'\n",
    "var_list = ['up1', 'up2', 'down1', 'down2']\n",
    "city_list = ['강원', '경기', '경남', '경북', '광주', '대구', '대전', '부산', \n",
    "             '서울', '세종', '울산', '인천', '전남', '전북', '제주', '충남', '충북']\n",
    "models_list = ['RNN', 'LSTM', 'GRU', 'BiRNN', 'BiLSTM', 'BiGRU', \n",
    "               'seq2seq_RNN', 'seq2seq_LSTM', 'seq2seq_GRU', 'seq2seq_BiRNN', 'seq2seq_BiLSTM', 'seq2seq_BiGRU']\n",
    "\n",
    "lr = 1e-3\n",
    "batch_size = 64\n",
    "patience = 50\n",
    "num_layers = 1\n",
    "hidden_size = 16\n",
    "dropout = 0.25\n",
    "criterion = nn.MSELoss()\n",
    "var = 'up1'\n",
    "city = '강원'\n",
    "\n",
    "path = f'Data/Stricgency/{key}/{var}/*.csv'\n",
    "dic_files = Load_files.load_files(path, -17, -15)\n",
    "\n",
    "\n",
    "data = dic_files[city]\n",
    "input_size = 3\n",
    "sequence_length = 60\n",
    "num_epochs = 10000\n",
    "\n",
    "df = Prepare_df.processing(data, 'stdDay', 'defCnt')\n",
    "\n",
    "x = df.iloc[:, 0:]\n",
    "y = df.iloc[:,:1]\n",
    "\n",
    "ms = MinMaxScaler()\n",
    "ss = StandardScaler()\n",
    "\n",
    "ss.fit(x)\n",
    "ms.fit(y)\n",
    "\n",
    "\n",
    "x, y, x_ss, y_ms, train_loader, test_loader = Prepare_df.split_data(df, 138, 60, 1, batch_size, 'mto')\n",
    "x_ss[138:].shape"
   ]
  },
  {
   "cell_type": "code",
   "execution_count": 2,
   "id": "aaeb1bf7",
   "metadata": {
    "ExecuteTime": {
     "end_time": "2023-06-27T11:31:12.922794Z",
     "start_time": "2023-06-27T06:43:43.011618Z"
    }
   },
   "outputs": [
    {
     "data": {
      "application/vnd.jupyter.widget-view+json": {
       "model_id": "2a5c5e7bc32f40378ac82e3680d5d709",
       "version_major": 2,
       "version_minor": 0
      },
      "text/plain": [
       "  0%|          | 0/4 [00:00<?, ?it/s]"
      ]
     },
     "metadata": {},
     "output_type": "display_data"
    },
    {
     "data": {
      "application/vnd.jupyter.widget-view+json": {
       "model_id": "62103b664973423b916bd7817d3f7232",
       "version_major": 2,
       "version_minor": 0
      },
      "text/plain": [
       "  0%|          | 0/17 [00:00<?, ?it/s]"
      ]
     },
     "metadata": {},
     "output_type": "display_data"
    },
    {
     "data": {
      "application/vnd.jupyter.widget-view+json": {
       "model_id": "6e95797fc5454e4c8faea9cd1dd507b4",
       "version_major": 2,
       "version_minor": 0
      },
      "text/plain": [
       "  0%|          | 0/17 [00:00<?, ?it/s]"
      ]
     },
     "metadata": {},
     "output_type": "display_data"
    },
    {
     "data": {
      "application/vnd.jupyter.widget-view+json": {
       "model_id": "2be3e262c4d742f992ba5628bda1bd71",
       "version_major": 2,
       "version_minor": 0
      },
      "text/plain": [
       "  0%|          | 0/17 [00:00<?, ?it/s]"
      ]
     },
     "metadata": {},
     "output_type": "display_data"
    },
    {
     "data": {
      "application/vnd.jupyter.widget-view+json": {
       "model_id": "1d4c4e6709ea43e2b1a9c5732c300ad6",
       "version_major": 2,
       "version_minor": 0
      },
      "text/plain": [
       "  0%|          | 0/17 [00:00<?, ?it/s]"
      ]
     },
     "metadata": {},
     "output_type": "display_data"
    }
   ],
   "source": [
    "key = 'Infected'\n",
    "var_list = ['up1', 'up2', 'down1', 'down2']\n",
    "city_list = ['강원', '경기', '경남', '경북', '광주', '대구', '대전', '부산', \n",
    "             '서울', '세종', '울산', '인천', '전남', '전북', '제주', '충남', '충북']\n",
    "models_list = ['RNN', 'LSTM', 'GRU', 'BiRNN', 'BiLSTM', 'BiGRU', \n",
    "               'seq2seq_RNN', 'seq2seq_LSTM', 'seq2seq_GRU', 'seq2seq_BiRNN', 'seq2seq_BiLSTM', 'seq2seq_BiGRU']\n",
    "\n",
    "lr = 1e-3\n",
    "batch_size = 64\n",
    "patience = 50\n",
    "num_layers = 1\n",
    "hidden_size = 16\n",
    "dropout = 0.25\n",
    "criterion = nn.MSELoss()\n",
    "var_iterator = tqdm(var_list, position = 0)\n",
    "\n",
    "trained_var = {}\n",
    "var_num = 0\n",
    "for var in var_iterator:\n",
    "    var_iterator.set_description(f\"var : {var}, ({var_num+1}/4)\")\n",
    "    path = f'Data/Stricgency/{key}/{var}/*.csv'\n",
    "    dic_files = Load_files.load_files(path, -17, -15)\n",
    "    \n",
    "    trained_data = {}\n",
    "\n",
    "    city_iterator = tqdm(city_list, position = 1)\n",
    "    for city in city_iterator:\n",
    "        \n",
    "        data = dic_files[city]\n",
    "        trained_model = {}\n",
    "\n",
    "        input_size = 3\n",
    "        sequence_length = 60\n",
    "        num_epochs = 10000\n",
    "\n",
    "        df = Prepare_df.processing(data, 'stdDay', 'defCnt')\n",
    "\n",
    "        x = df.iloc[:, 0:]\n",
    "        y = df.iloc[:,:1]\n",
    "\n",
    "        ms = MinMaxScaler()\n",
    "        ss = StandardScaler()\n",
    "\n",
    "        ss.fit(x)\n",
    "        ms.fit(y)\n",
    "\n",
    "        for num_model in range(12):\n",
    "            city_iterator.set_description(f\"{var} - {city}, ({num_model+1}/12)\")\n",
    "            model_name = models_list[num_model]\n",
    "\n",
    "\n",
    "            if num_model < 6:\n",
    "                x, y, x_ss, y_ms, train_loader, test_loader = Prepare_df.split_data(df, 138, 60, 1, batch_size, 'mto')\n",
    "            else:\n",
    "                x, y, x_ss, y_ms, train_loader, test_loader = Prepare_df.split_data(df, 132, 60, 7, batch_size, 'mtm')\n",
    "\n",
    "            if num_model == 0:\n",
    "                model = RNN(input_size = input_size,\n",
    "                            hidden_size = hidden_size,\n",
    "                            sequence_length = sequence_length,\n",
    "                            num_layers = num_layers, \n",
    "                            dropout = dropout, \n",
    "                            device = device).to(device)\n",
    "\n",
    "            elif num_model == 1:\n",
    "                model = LSTM(input_size = input_size,\n",
    "                             hidden_size = hidden_size,\n",
    "                             sequence_length = sequence_length,\n",
    "                             num_layers = num_layers, \n",
    "                             dropout = dropout, \n",
    "                             device = device).to(device)\n",
    "\n",
    "            elif num_model == 2:\n",
    "                model = GRU(input_size = input_size,\n",
    "                            hidden_size = hidden_size,\n",
    "                            sequence_length = sequence_length,\n",
    "                            num_layers = num_layers, \n",
    "                            dropout = dropout, \n",
    "                            device = device).to(device)\n",
    "\n",
    "            elif num_model == 3:\n",
    "                model = BiRNN(input_size = input_size,\n",
    "                              hidden_size = hidden_size,\n",
    "                              sequence_length = sequence_length,\n",
    "                              num_layers = num_layers, \n",
    "                              dropout = dropout, \n",
    "                              device = device).to(device)\n",
    "\n",
    "            elif num_model == 4:\n",
    "                model = BiLSTM(input_size = input_size,\n",
    "                               hidden_size = hidden_size,\n",
    "                               sequence_length = sequence_length,\n",
    "                               num_layers = num_layers, \n",
    "                               dropout = dropout, \n",
    "                               device = device).to(device)\n",
    "\n",
    "            elif num_model == 5:\n",
    "                model = BiGRU(input_size = input_size,\n",
    "                              hidden_size = hidden_size,\n",
    "                              sequence_length = sequence_length,\n",
    "                              num_layers = num_layers, \n",
    "                              dropout = dropout, \n",
    "                              device = device).to(device)\n",
    "\n",
    "            elif num_model == 6:\n",
    "                model = RNN_encoder_decoder(input_size = input_size, \n",
    "                                            hidden_size = hidden_size,\n",
    "                                            num_layers = num_layers, \n",
    "                                            dropout = dropout,\n",
    "                                            device = device).to(device)\n",
    "\n",
    "            elif num_model == 7:\n",
    "                model = LSTM_encoder_decoder(input_size = input_size, \n",
    "                                             hidden_size = hidden_size,\n",
    "                                             num_layers = num_layers, \n",
    "                                             dropout = dropout,\n",
    "                                             device = device).to(device)\n",
    "\n",
    "            elif num_model == 8:\n",
    "                model = GRU_encoder_decoder(input_size = input_size, \n",
    "                                            hidden_size = hidden_size,\n",
    "                                            num_layers = num_layers, \n",
    "                                            dropout = dropout,\n",
    "                                            device = device).to(device)\n",
    "\n",
    "            elif num_model == 9:\n",
    "                model = BiRNN_encoder_decoder(input_size = input_size, \n",
    "                                                hidden_size = hidden_size,\n",
    "                                                num_layers = num_layers, \n",
    "                                                dropout = dropout,\n",
    "                                                device = device).to(device)\n",
    "\n",
    "            elif num_model == 10:\n",
    "                model = BiLSTM_encoder_decoder(input_size = input_size, \n",
    "                                                  hidden_size = hidden_size,\n",
    "                                                  num_layers = num_layers, \n",
    "                                                  dropout = dropout,\n",
    "                                                  device = device).to(device)\n",
    "\n",
    "            elif num_model == 11:\n",
    "                model = BiGRU_encoder_decoder(input_size = input_size, \n",
    "                                                hidden_size = hidden_size,\n",
    "                                                num_layers = num_layers, \n",
    "                                                dropout = dropout,\n",
    "                                                device = device).to(device)            \n",
    "\n",
    "            optimizer = Adam(model.parameters(), lr = lr)\n",
    "\n",
    "            if num_model < 6:\n",
    "                loss_list, model, epoch = Trainer.Many_to_One(train_loader, \n",
    "                                                              test_loader, \n",
    "                                                              model, \n",
    "                                                              criterion, \n",
    "                                                              optimizer, \n",
    "                                                              num_epochs, \n",
    "                                                              patience,\n",
    "                                                              device)\n",
    "\n",
    "                label_y, predicted = predict_mto(model, df, x_ss, y_ms)\n",
    "\n",
    "                rmse_val = rmse(label_y[-7:], predicted[-7:])\n",
    "                trained_model[models_list[num_model]] = [model, rmse_val, epoch, lr, patience, \n",
    "                                                         num_layers,hidden_size, dropout]\n",
    "\n",
    "\n",
    "            else:\n",
    "                loss_list, model, epoch = Trainer.Many_to_Many(train_loader, \n",
    "                                                               test_loader, \n",
    "                                                               model, \n",
    "                                                               criterion, \n",
    "                                                               optimizer, \n",
    "                                                               num_epochs, \n",
    "                                                               patience,\n",
    "                                                               7,\n",
    "                                                               device)        \n",
    "\n",
    "                label_y, predicted, first_label_y, first_predicted, all_predicted = predict_mtm(model, df, x_ss, y_ms, \n",
    "                                                                                                7, 0.5, device)\n",
    "\n",
    "                rmse_val = rmse(label_y[-7:], predicted[-7:])\n",
    "                trained_model[models_list[num_model]] = [model, rmse_val, epoch, lr, patience, \n",
    "                                                         num_layers, hidden_size, dropout, criterion]\n",
    "\n",
    "        trained_data[city] = trained_model\n",
    "        \n",
    "    trained_var[var] = trained_data\n",
    "    \n",
    "    var_num += 1\n"
   ]
  },
  {
   "cell_type": "code",
   "execution_count": 4,
   "id": "3705498b",
   "metadata": {
    "ExecuteTime": {
     "end_time": "2023-06-27T11:49:38.105792Z",
     "start_time": "2023-06-27T11:49:35.830948Z"
    }
   },
   "outputs": [],
   "source": [
    "for var in trained_var:\n",
    "    for city in trained_var[var]:\n",
    "        for name, values in trained_var[var][city].items():\n",
    "            save_model(values[0].state_dict(), f\"model/Stricgency/{key}/{var}/{city}/{var}_{city}_{name}.pth\")\n",
    "            save_hyperparameter(values[1:], f\"hyperparameter/Stricgency/{key}/{var}/{city}/{var}_{city}_{name}.pkl\")"
   ]
  },
  {
   "cell_type": "code",
   "execution_count": null,
   "id": "b0d8bd2c",
   "metadata": {},
   "outputs": [],
   "source": []
  }
 ],
 "metadata": {
  "kernelspec": {
   "display_name": "KDA_DA",
   "language": "python",
   "name": "kda_da"
  },
  "language_info": {
   "codemirror_mode": {
    "name": "ipython",
    "version": 3
   },
   "file_extension": ".py",
   "mimetype": "text/x-python",
   "name": "python",
   "nbconvert_exporter": "python",
   "pygments_lexer": "ipython3",
   "version": "3.10.8"
  },
  "toc": {
   "base_numbering": 1,
   "nav_menu": {},
   "number_sections": true,
   "sideBar": true,
   "skip_h1_title": false,
   "title_cell": "Table of Contents",
   "title_sidebar": "Contents",
   "toc_cell": false,
   "toc_position": {},
   "toc_section_display": true,
   "toc_window_display": false
  }
 },
 "nbformat": 4,
 "nbformat_minor": 5
}
