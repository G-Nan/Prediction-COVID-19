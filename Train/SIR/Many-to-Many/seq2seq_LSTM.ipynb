{
 "cells": [
  {
   "cell_type": "code",
   "execution_count": 1,
   "id": "7ef1b38b",
   "metadata": {
    "ExecuteTime": {
     "end_time": "2023-06-04T11:25:11.586182Z",
     "start_time": "2023-06-04T11:25:08.966089Z"
    }
   },
   "outputs": [],
   "source": [
    "import os\n",
    "os.chdir('D:\\\\Gnan\\\\DA\\\\KMU\\\\Prediction-COVID-19')\n",
    "from utils import *\n",
    "from model import *\n",
    "from trainer import *\n",
    "\n",
    "from tqdm.notebook import tqdm\n",
    "from torch.optim.adam import Adam\n",
    "device = torch.device('cuda:0' if torch.cuda.is_available() else 'cpu')\n",
    "\n",
    "import warnings\n",
    "warnings.filterwarnings('ignore')"
   ]
  },
  {
   "cell_type": "code",
   "execution_count": 2,
   "id": "90d1bf81",
   "metadata": {
    "ExecuteTime": {
     "end_time": "2023-06-04T11:25:11.804570Z",
     "start_time": "2023-06-04T11:25:11.589146Z"
    }
   },
   "outputs": [
    {
     "data": {
      "text/html": [
       "<div>\n",
       "<style scoped>\n",
       "    .dataframe tbody tr th:only-of-type {\n",
       "        vertical-align: middle;\n",
       "    }\n",
       "\n",
       "    .dataframe tbody tr th {\n",
       "        vertical-align: top;\n",
       "    }\n",
       "\n",
       "    .dataframe thead th {\n",
       "        text-align: right;\n",
       "    }\n",
       "</style>\n",
       "<table border=\"1\" class=\"dataframe\">\n",
       "  <thead>\n",
       "    <tr style=\"text-align: right;\">\n",
       "      <th></th>\n",
       "      <th>Date</th>\n",
       "      <th>City</th>\n",
       "      <th>Susceptible</th>\n",
       "      <th>Infected</th>\n",
       "      <th>Dead</th>\n",
       "      <th>Recovered</th>\n",
       "      <th>alpha</th>\n",
       "      <th>beta</th>\n",
       "      <th>gamma</th>\n",
       "    </tr>\n",
       "  </thead>\n",
       "  <tbody>\n",
       "    <tr>\n",
       "      <th>0</th>\n",
       "      <td>2020-01-20</td>\n",
       "      <td>서울</td>\n",
       "      <td>9535432</td>\n",
       "      <td>0</td>\n",
       "      <td>0</td>\n",
       "      <td>0</td>\n",
       "      <td>0.000000</td>\n",
       "      <td>0.000000</td>\n",
       "      <td>0.000000</td>\n",
       "    </tr>\n",
       "    <tr>\n",
       "      <th>1</th>\n",
       "      <td>2020-01-21</td>\n",
       "      <td>서울</td>\n",
       "      <td>9535432</td>\n",
       "      <td>0</td>\n",
       "      <td>0</td>\n",
       "      <td>0</td>\n",
       "      <td>0.000000</td>\n",
       "      <td>0.000000</td>\n",
       "      <td>0.000000</td>\n",
       "    </tr>\n",
       "    <tr>\n",
       "      <th>2</th>\n",
       "      <td>2020-01-22</td>\n",
       "      <td>서울</td>\n",
       "      <td>9535432</td>\n",
       "      <td>0</td>\n",
       "      <td>0</td>\n",
       "      <td>0</td>\n",
       "      <td>0.000000</td>\n",
       "      <td>0.000000</td>\n",
       "      <td>0.000000</td>\n",
       "    </tr>\n",
       "    <tr>\n",
       "      <th>3</th>\n",
       "      <td>2020-01-23</td>\n",
       "      <td>서울</td>\n",
       "      <td>9535432</td>\n",
       "      <td>0</td>\n",
       "      <td>0</td>\n",
       "      <td>0</td>\n",
       "      <td>0.000000</td>\n",
       "      <td>0.000000</td>\n",
       "      <td>0.000000</td>\n",
       "    </tr>\n",
       "    <tr>\n",
       "      <th>4</th>\n",
       "      <td>2020-01-24</td>\n",
       "      <td>서울</td>\n",
       "      <td>9535431</td>\n",
       "      <td>1</td>\n",
       "      <td>0</td>\n",
       "      <td>0</td>\n",
       "      <td>0.000000</td>\n",
       "      <td>0.000000</td>\n",
       "      <td>0.000000</td>\n",
       "    </tr>\n",
       "    <tr>\n",
       "      <th>...</th>\n",
       "      <td>...</td>\n",
       "      <td>...</td>\n",
       "      <td>...</td>\n",
       "      <td>...</td>\n",
       "      <td>...</td>\n",
       "      <td>...</td>\n",
       "      <td>...</td>\n",
       "      <td>...</td>\n",
       "      <td>...</td>\n",
       "    </tr>\n",
       "    <tr>\n",
       "      <th>1214</th>\n",
       "      <td>2023-05-20</td>\n",
       "      <td>서울</td>\n",
       "      <td>3372946</td>\n",
       "      <td>63591</td>\n",
       "      <td>6471</td>\n",
       "      <td>6092424</td>\n",
       "      <td>0.186540</td>\n",
       "      <td>0.169175</td>\n",
       "      <td>0.000031</td>\n",
       "    </tr>\n",
       "    <tr>\n",
       "      <th>1215</th>\n",
       "      <td>2023-05-21</td>\n",
       "      <td>서울</td>\n",
       "      <td>3368750</td>\n",
       "      <td>57027</td>\n",
       "      <td>6473</td>\n",
       "      <td>6103182</td>\n",
       "      <td>0.063087</td>\n",
       "      <td>0.028793</td>\n",
       "      <td>0.000053</td>\n",
       "    </tr>\n",
       "    <tr>\n",
       "      <th>1216</th>\n",
       "      <td>2023-05-22</td>\n",
       "      <td>서울</td>\n",
       "      <td>3367479</td>\n",
       "      <td>56653</td>\n",
       "      <td>6476</td>\n",
       "      <td>6104824</td>\n",
       "      <td>0.268003</td>\n",
       "      <td>0.101407</td>\n",
       "      <td>0.000018</td>\n",
       "    </tr>\n",
       "    <tr>\n",
       "      <th>1217</th>\n",
       "      <td>2023-05-23</td>\n",
       "      <td>서울</td>\n",
       "      <td>3362117</td>\n",
       "      <td>56269</td>\n",
       "      <td>6477</td>\n",
       "      <td>6110569</td>\n",
       "      <td>0.267742</td>\n",
       "      <td>0.099895</td>\n",
       "      <td>0.000036</td>\n",
       "    </tr>\n",
       "    <tr>\n",
       "      <th>1218</th>\n",
       "      <td>2023-05-24</td>\n",
       "      <td>서울</td>\n",
       "      <td>3356805</td>\n",
       "      <td>55958</td>\n",
       "      <td>6479</td>\n",
       "      <td>6116190</td>\n",
       "      <td>0.000000</td>\n",
       "      <td>0.000000</td>\n",
       "      <td>0.000000</td>\n",
       "    </tr>\n",
       "  </tbody>\n",
       "</table>\n",
       "<p>1219 rows × 9 columns</p>\n",
       "</div>"
      ],
      "text/plain": [
       "            Date City  Susceptible  Infected  Dead  Recovered     alpha  \\\n",
       "0     2020-01-20   서울      9535432         0     0          0  0.000000   \n",
       "1     2020-01-21   서울      9535432         0     0          0  0.000000   \n",
       "2     2020-01-22   서울      9535432         0     0          0  0.000000   \n",
       "3     2020-01-23   서울      9535432         0     0          0  0.000000   \n",
       "4     2020-01-24   서울      9535431         1     0          0  0.000000   \n",
       "...          ...  ...          ...       ...   ...        ...       ...   \n",
       "1214  2023-05-20   서울      3372946     63591  6471    6092424  0.186540   \n",
       "1215  2023-05-21   서울      3368750     57027  6473    6103182  0.063087   \n",
       "1216  2023-05-22   서울      3367479     56653  6476    6104824  0.268003   \n",
       "1217  2023-05-23   서울      3362117     56269  6477    6110569  0.267742   \n",
       "1218  2023-05-24   서울      3356805     55958  6479    6116190  0.000000   \n",
       "\n",
       "          beta     gamma  \n",
       "0     0.000000  0.000000  \n",
       "1     0.000000  0.000000  \n",
       "2     0.000000  0.000000  \n",
       "3     0.000000  0.000000  \n",
       "4     0.000000  0.000000  \n",
       "...        ...       ...  \n",
       "1214  0.169175  0.000031  \n",
       "1215  0.028793  0.000053  \n",
       "1216  0.101407  0.000018  \n",
       "1217  0.099895  0.000036  \n",
       "1218  0.000000  0.000000  \n",
       "\n",
       "[1219 rows x 9 columns]"
      ]
     },
     "execution_count": 2,
     "metadata": {},
     "output_type": "execute_result"
    }
   ],
   "source": [
    "path = 'Data/SIR_Origin/*.csv'\n",
    "dic_files = Load_files.load_files(path, -17, -15)\n",
    "data = dic_files['서울']\n",
    "data"
   ]
  },
  {
   "cell_type": "code",
   "execution_count": 3,
   "id": "f810fedc",
   "metadata": {
    "ExecuteTime": {
     "end_time": "2023-06-04T11:25:11.820528Z",
     "start_time": "2023-06-04T11:25:11.806567Z"
    }
   },
   "outputs": [
    {
     "name": "stdout",
     "output_type": "stream",
     "text": [
      "648\n"
     ]
    }
   ],
   "source": [
    "learning_rates_list = [1e-3, 1e-4]\n",
    "patiences_list = [20, 50]\n",
    "num_layers_list = [1, 2, 4]\n",
    "batch_sizes_list = [32, 64, 128]\n",
    "hidden_sizes_list = [8, 16, 32]\n",
    "dropout_list = [0.25, 0.5]\n",
    "criterions_list = [nn.MSELoss(), criterion2, criterion3]\n",
    "\n",
    "hyperparameter_dict = {}\n",
    "i = 0\n",
    "\n",
    "for lr in learning_rates_list:\n",
    "    for patience in patiences_list:\n",
    "        for num_layers in num_layers_list:\n",
    "            for batch_sizes in batch_sizes_list:\n",
    "                for hidden_size in hidden_sizes_list:    \n",
    "                    for dropout in dropout_list:\n",
    "                        for criterion in criterions_list:\n",
    "                            hyperparameter_dict[i] = [lr, patience, num_layers, batch_sizes, hidden_size, dropout, criterion]\n",
    "                            i += 1\n",
    "                        \n",
    "print(i)"
   ]
  },
  {
   "cell_type": "code",
   "execution_count": 4,
   "id": "2255fe66",
   "metadata": {
    "ExecuteTime": {
     "end_time": "2023-06-05T17:46:47.670053Z",
     "start_time": "2023-06-04T11:25:11.824517Z"
    }
   },
   "outputs": [
    {
     "data": {
      "application/vnd.jupyter.widget-view+json": {
       "model_id": "0fdd314804b243149d79d721ef3ffdf8",
       "version_major": 2,
       "version_minor": 0
      },
      "text/plain": [
       "서울_seq2seq_LSTM:   0%|          | 0/648 [00:00<?, ?it/s]"
      ]
     },
     "metadata": {},
     "output_type": "display_data"
    },
    {
     "name": "stdout",
     "output_type": "stream",
     "text": [
      "----------------------------------------------------------------------------------------------------------\n",
      "lr: 0.001  patience: 20  num_layers: 1  batch_size: 32  hidden_size: 8  dropout: 0.25 criterion: MSELoss()\n"
     ]
    },
    {
     "data": {
      "application/vnd.jupyter.widget-view+json": {
       "model_id": "79325cf005224b88b1c4b638d55d56a8",
       "version_major": 2,
       "version_minor": 0
      },
      "text/plain": [
       "  0%|          | 0/10000 [00:00<?, ?it/s]"
      ]
     },
     "metadata": {},
     "output_type": "display_data"
    },
    {
     "name": "stdout",
     "output_type": "stream",
     "text": [
      "\n",
      " Early Stopping / epoch: 218 loss: 0.000478\n",
      "----------------------------------------------------------------------------------------------------------\n",
      "lr: 0.001  patience: 20  num_layers: 1  batch_size: 32  hidden_size: 8  dropout: 0.25 criterion: <function criterion2 at 0x000001F4A9CA77F0>\n"
     ]
    },
    {
     "data": {
      "application/vnd.jupyter.widget-view+json": {
       "model_id": "92ed836e71384f2cad7a949b2d405484",
       "version_major": 2,
       "version_minor": 0
      },
      "text/plain": [
       "  0%|          | 0/10000 [00:00<?, ?it/s]"
      ]
     },
     "metadata": {},
     "output_type": "display_data"
    },
    {
     "name": "stdout",
     "output_type": "stream",
     "text": [
      "\n",
      " Early Stopping / epoch: 185 loss: 0.008583\n",
      "----------------------------------------------------------------------------------------------------------\n",
      "lr: 0.001  patience: 20  num_layers: 1  batch_size: 32  hidden_size: 8  dropout: 0.25 criterion: <function criterion3 at 0x000001F4A9CA7880>\n"
     ]
    },
    {
     "data": {
      "application/vnd.jupyter.widget-view+json": {
       "model_id": "f2a477bb4cad4cf6bd3f77ec8ecdd611",
       "version_major": 2,
       "version_minor": 0
      },
      "text/plain": [
       "  0%|          | 0/10000 [00:00<?, ?it/s]"
      ]
     },
     "metadata": {},
     "output_type": "display_data"
    },
    {
     "name": "stdout",
     "output_type": "stream",
     "text": [
      "\n",
      " Early Stopping / epoch: 288 loss: 0.002061\n",
      "----------------------------------------------------------------------------------------------------------\n",
      "lr: 0.001  patience: 20  num_layers: 1  batch_size: 32  hidden_size: 8  dropout: 0.5 criterion: MSELoss()\n"
     ]
    },
    {
     "data": {
      "application/vnd.jupyter.widget-view+json": {
       "model_id": "2ae231cdd16e4c34985578b9629edb30",
       "version_major": 2,
       "version_minor": 0
      },
      "text/plain": [
       "  0%|          | 0/10000 [00:00<?, ?it/s]"
      ]
     },
     "metadata": {},
     "output_type": "display_data"
    },
    {
     "name": "stdout",
     "output_type": "stream",
     "text": [
      "\n",
      " Early Stopping / epoch: 544 loss: 0.000150\n",
      "----------------------------------------------------------------------------------------------------------\n",
      "lr: 0.001  patience: 20  num_layers: 1  batch_size: 32  hidden_size: 8  dropout: 0.5 criterion: <function criterion2 at 0x000001F4A9CA77F0>\n"
     ]
    },
    {
     "data": {
      "application/vnd.jupyter.widget-view+json": {
       "model_id": "1bf6bf749ac34d81b5700c964d8e64cd",
       "version_major": 2,
       "version_minor": 0
      },
      "text/plain": [
       "  0%|          | 0/10000 [00:00<?, ?it/s]"
      ]
     },
     "metadata": {},
     "output_type": "display_data"
    },
    {
     "name": "stdout",
     "output_type": "stream",
     "text": [
      "\n",
      " Early Stopping / epoch: 262 loss: 0.008027\n",
      "----------------------------------------------------------------------------------------------------------\n",
      "lr: 0.001  patience: 20  num_layers: 1  batch_size: 32  hidden_size: 8  dropout: 0.5 criterion: <function criterion3 at 0x000001F4A9CA7880>\n"
     ]
    },
    {
     "data": {
      "application/vnd.jupyter.widget-view+json": {
       "model_id": "760c4eaa13374eb9b9695373e7e6ec9a",
       "version_major": 2,
       "version_minor": 0
      },
      "text/plain": [
       "  0%|          | 0/10000 [00:00<?, ?it/s]"
      ]
     },
     "metadata": {},
     "output_type": "display_data"
    },
    {
     "name": "stdout",
     "output_type": "stream",
     "text": [
      "\n",
      " Early Stopping / epoch: 156 loss: 0.002421\n",
      "----------------------------------------------------------------------------------------------------------\n",
      "lr: 0.001  patience: 20  num_layers: 1  batch_size: 32  hidden_size: 16  dropout: 0.25 criterion: MSELoss()\n"
     ]
    },
    {
     "data": {
      "application/vnd.jupyter.widget-view+json": {
       "model_id": "74c85ccb42424dac818121897ae2959f",
       "version_major": 2,
       "version_minor": 0
      },
      "text/plain": [
       "  0%|          | 0/10000 [00:00<?, ?it/s]"
      ]
     },
     "metadata": {},
     "output_type": "display_data"
    },
    {
     "name": "stdout",
     "output_type": "stream",
     "text": [
      "\n",
      " Early Stopping / epoch: 276 loss: 0.000143\n",
      "----------------------------------------------------------------------------------------------------------\n",
      "lr: 0.001  patience: 20  num_layers: 1  batch_size: 32  hidden_size: 16  dropout: 0.25 criterion: <function criterion2 at 0x000001F4A9CA77F0>\n"
     ]
    },
    {
     "data": {
      "application/vnd.jupyter.widget-view+json": {
       "model_id": "41f2d4f915c841329d5341bd7a2a5533",
       "version_major": 2,
       "version_minor": 0
      },
      "text/plain": [
       "  0%|          | 0/10000 [00:00<?, ?it/s]"
      ]
     },
     "metadata": {},
     "output_type": "display_data"
    },
    {
     "name": "stdout",
     "output_type": "stream",
     "text": [
      "\n",
      " Early Stopping / epoch: 170 loss: 0.009816\n",
      "----------------------------------------------------------------------------------------------------------\n",
      "lr: 0.001  patience: 20  num_layers: 1  batch_size: 32  hidden_size: 16  dropout: 0.25 criterion: <function criterion3 at 0x000001F4A9CA7880>\n"
     ]
    },
    {
     "data": {
      "application/vnd.jupyter.widget-view+json": {
       "model_id": "5022ece1911547f59d7d95731533131e",
       "version_major": 2,
       "version_minor": 0
      },
      "text/plain": [
       "  0%|          | 0/10000 [00:00<?, ?it/s]"
      ]
     },
     "metadata": {},
     "output_type": "display_data"
    },
    {
     "name": "stdout",
     "output_type": "stream",
     "text": [
      "\n",
      " Early Stopping / epoch: 237 loss: 0.001838\n",
      "----------------------------------------------------------------------------------------------------------\n",
      "lr: 0.001  patience: 20  num_layers: 1  batch_size: 32  hidden_size: 16  dropout: 0.5 criterion: MSELoss()\n"
     ]
    },
    {
     "data": {
      "application/vnd.jupyter.widget-view+json": {
       "model_id": "902a656a85d441a0b8dcc7a829615295",
       "version_major": 2,
       "version_minor": 0
      },
      "text/plain": [
       "  0%|          | 0/10000 [00:00<?, ?it/s]"
      ]
     },
     "metadata": {},
     "output_type": "display_data"
    },
    {
     "name": "stdout",
     "output_type": "stream",
     "text": [
      "\n",
      " Early Stopping / epoch: 410 loss: 0.000144\n",
      "----------------------------------------------------------------------------------------------------------\n",
      "lr: 0.001  patience: 20  num_layers: 1  batch_size: 32  hidden_size: 16  dropout: 0.5 criterion: <function criterion2 at 0x000001F4A9CA77F0>\n"
     ]
    },
    {
     "data": {
      "application/vnd.jupyter.widget-view+json": {
       "model_id": "258a54ad7e3647c5a597860f61417fe5",
       "version_major": 2,
       "version_minor": 0
      },
      "text/plain": [
       "  0%|          | 0/10000 [00:00<?, ?it/s]"
      ]
     },
     "metadata": {},
     "output_type": "display_data"
    },
    {
     "name": "stdout",
     "output_type": "stream",
     "text": [
      "\n",
      " Early Stopping / epoch: 308 loss: 0.007691\n",
      "----------------------------------------------------------------------------------------------------------\n",
      "lr: 0.001  patience: 20  num_layers: 1  batch_size: 32  hidden_size: 16  dropout: 0.5 criterion: <function criterion3 at 0x000001F4A9CA7880>\n"
     ]
    },
    {
     "data": {
      "application/vnd.jupyter.widget-view+json": {
       "model_id": "6dc7dcecef4449a5a8beec3335e76b95",
       "version_major": 2,
       "version_minor": 0
      },
      "text/plain": [
       "  0%|          | 0/10000 [00:00<?, ?it/s]"
      ]
     },
     "metadata": {},
     "output_type": "display_data"
    },
    {
     "name": "stdout",
     "output_type": "stream",
     "text": [
      "\n",
      " Early Stopping / epoch: 284 loss: 0.001658\n",
      "----------------------------------------------------------------------------------------------------------\n",
      "lr: 0.001  patience: 20  num_layers: 1  batch_size: 32  hidden_size: 32  dropout: 0.25 criterion: MSELoss()\n"
     ]
    },
    {
     "data": {
      "application/vnd.jupyter.widget-view+json": {
       "model_id": "d7b59904f15a4bd79d5c4cbc73f0d2b3",
       "version_major": 2,
       "version_minor": 0
      },
      "text/plain": [
       "  0%|          | 0/10000 [00:00<?, ?it/s]"
      ]
     },
     "metadata": {},
     "output_type": "display_data"
    },
    {
     "name": "stdout",
     "output_type": "stream",
     "text": [
      "\n",
      " Early Stopping / epoch: 227 loss: 0.000113\n",
      "----------------------------------------------------------------------------------------------------------\n",
      "lr: 0.001  patience: 20  num_layers: 1  batch_size: 32  hidden_size: 32  dropout: 0.25 criterion: <function criterion2 at 0x000001F4A9CA77F0>\n"
     ]
    },
    {
     "data": {
      "application/vnd.jupyter.widget-view+json": {
       "model_id": "133f041c208b4be39b70b2436138bbd3",
       "version_major": 2,
       "version_minor": 0
      },
      "text/plain": [
       "  0%|          | 0/10000 [00:00<?, ?it/s]"
      ]
     },
     "metadata": {},
     "output_type": "display_data"
    },
    {
     "name": "stdout",
     "output_type": "stream",
     "text": [
      "\n",
      " Early Stopping / epoch: 165 loss: 0.007320\n",
      "----------------------------------------------------------------------------------------------------------\n",
      "lr: 0.001  patience: 20  num_layers: 1  batch_size: 32  hidden_size: 32  dropout: 0.25 criterion: <function criterion3 at 0x000001F4A9CA7880>\n"
     ]
    },
    {
     "data": {
      "application/vnd.jupyter.widget-view+json": {
       "model_id": "06e8165798144f73ac57405253f83f80",
       "version_major": 2,
       "version_minor": 0
      },
      "text/plain": [
       "  0%|          | 0/10000 [00:00<?, ?it/s]"
      ]
     },
     "metadata": {},
     "output_type": "display_data"
    },
    {
     "name": "stdout",
     "output_type": "stream",
     "text": [
      "\n",
      " Early Stopping / epoch: 269 loss: 0.001438\n",
      "----------------------------------------------------------------------------------------------------------\n",
      "lr: 0.001  patience: 20  num_layers: 1  batch_size: 32  hidden_size: 32  dropout: 0.5 criterion: MSELoss()\n"
     ]
    },
    {
     "data": {
      "application/vnd.jupyter.widget-view+json": {
       "model_id": "5e0704e20a0541078430cc6d4984bb2c",
       "version_major": 2,
       "version_minor": 0
      },
      "text/plain": [
       "  0%|          | 0/10000 [00:00<?, ?it/s]"
      ]
     },
     "metadata": {},
     "output_type": "display_data"
    },
    {
     "name": "stdout",
     "output_type": "stream",
     "text": [
      "\n",
      " Early Stopping / epoch: 249 loss: 0.000116\n",
      "----------------------------------------------------------------------------------------------------------\n",
      "lr: 0.001  patience: 20  num_layers: 1  batch_size: 32  hidden_size: 32  dropout: 0.5 criterion: <function criterion2 at 0x000001F4A9CA77F0>\n"
     ]
    },
    {
     "data": {
      "application/vnd.jupyter.widget-view+json": {
       "model_id": "512d642ec4c8405e9150adad3d10255f",
       "version_major": 2,
       "version_minor": 0
      },
      "text/plain": [
       "  0%|          | 0/10000 [00:00<?, ?it/s]"
      ]
     },
     "metadata": {},
     "output_type": "display_data"
    },
    {
     "name": "stdout",
     "output_type": "stream",
     "text": [
      "\n",
      " Early Stopping / epoch: 207 loss: 0.006968\n",
      "----------------------------------------------------------------------------------------------------------\n",
      "lr: 0.001  patience: 20  num_layers: 1  batch_size: 32  hidden_size: 32  dropout: 0.5 criterion: <function criterion3 at 0x000001F4A9CA7880>\n"
     ]
    },
    {
     "data": {
      "application/vnd.jupyter.widget-view+json": {
       "model_id": "162b93635ad948b48ca957ce8cc882bb",
       "version_major": 2,
       "version_minor": 0
      },
      "text/plain": [
       "  0%|          | 0/10000 [00:00<?, ?it/s]"
      ]
     },
     "metadata": {},
     "output_type": "display_data"
    },
    {
     "name": "stdout",
     "output_type": "stream",
     "text": [
      "\n",
      " Early Stopping / epoch: 300 loss: 0.001487\n",
      "----------------------------------------------------------------------------------------------------------\n",
      "lr: 0.001  patience: 20  num_layers: 1  batch_size: 64  hidden_size: 8  dropout: 0.25 criterion: MSELoss()\n"
     ]
    },
    {
     "data": {
      "application/vnd.jupyter.widget-view+json": {
       "model_id": "b5eb9794aed140bd9c2e500e94dbce20",
       "version_major": 2,
       "version_minor": 0
      },
      "text/plain": [
       "  0%|          | 0/10000 [00:00<?, ?it/s]"
      ]
     },
     "metadata": {},
     "output_type": "display_data"
    },
    {
     "name": "stdout",
     "output_type": "stream",
     "text": [
      "\n",
      " Early Stopping / epoch: 776 loss: 0.000109\n",
      "----------------------------------------------------------------------------------------------------------\n",
      "lr: 0.001  patience: 20  num_layers: 1  batch_size: 64  hidden_size: 8  dropout: 0.25 criterion: <function criterion2 at 0x000001F4A9CA77F0>\n"
     ]
    },
    {
     "data": {
      "application/vnd.jupyter.widget-view+json": {
       "model_id": "cf87aefc73054b0e9e6bafd38780064e",
       "version_major": 2,
       "version_minor": 0
      },
      "text/plain": [
       "  0%|          | 0/10000 [00:00<?, ?it/s]"
      ]
     },
     "metadata": {},
     "output_type": "display_data"
    },
    {
     "name": "stdout",
     "output_type": "stream",
     "text": [
      "\n",
      " Early Stopping / epoch: 221 loss: 0.008395\n",
      "----------------------------------------------------------------------------------------------------------\n",
      "lr: 0.001  patience: 20  num_layers: 1  batch_size: 64  hidden_size: 8  dropout: 0.25 criterion: <function criterion3 at 0x000001F4A9CA7880>\n"
     ]
    },
    {
     "data": {
      "application/vnd.jupyter.widget-view+json": {
       "model_id": "2a7bf0a3859444eeae8ecc29355d1a60",
       "version_major": 2,
       "version_minor": 0
      },
      "text/plain": [
       "  0%|          | 0/10000 [00:00<?, ?it/s]"
      ]
     },
     "metadata": {},
     "output_type": "display_data"
    },
    {
     "name": "stdout",
     "output_type": "stream",
     "text": [
      "\n",
      " Early Stopping / epoch: 162 loss: 0.001996\n",
      "----------------------------------------------------------------------------------------------------------\n",
      "lr: 0.001  patience: 20  num_layers: 1  batch_size: 64  hidden_size: 8  dropout: 0.5 criterion: MSELoss()\n"
     ]
    },
    {
     "data": {
      "application/vnd.jupyter.widget-view+json": {
       "model_id": "428ab27498a74771a1d6bf747562e6a7",
       "version_major": 2,
       "version_minor": 0
      },
      "text/plain": [
       "  0%|          | 0/10000 [00:00<?, ?it/s]"
      ]
     },
     "metadata": {},
     "output_type": "display_data"
    },
    {
     "name": "stdout",
     "output_type": "stream",
     "text": [
      "\n",
      " Early Stopping / epoch: 569 loss: 0.000266\n",
      "----------------------------------------------------------------------------------------------------------\n",
      "lr: 0.001  patience: 20  num_layers: 1  batch_size: 64  hidden_size: 8  dropout: 0.5 criterion: <function criterion2 at 0x000001F4A9CA77F0>\n"
     ]
    },
    {
     "data": {
      "application/vnd.jupyter.widget-view+json": {
       "model_id": "a78bf6aa0ff74466a1484f32a9a80e46",
       "version_major": 2,
       "version_minor": 0
      },
      "text/plain": [
       "  0%|          | 0/10000 [00:00<?, ?it/s]"
      ]
     },
     "metadata": {},
     "output_type": "display_data"
    },
    {
     "name": "stdout",
     "output_type": "stream",
     "text": [
      "\n",
      " Early Stopping / epoch: 289 loss: 0.008406\n",
      "----------------------------------------------------------------------------------------------------------\n",
      "lr: 0.001  patience: 20  num_layers: 1  batch_size: 64  hidden_size: 8  dropout: 0.5 criterion: <function criterion3 at 0x000001F4A9CA7880>\n"
     ]
    },
    {
     "data": {
      "application/vnd.jupyter.widget-view+json": {
       "model_id": "2c990a3170114eb3a94045d6948b7ffe",
       "version_major": 2,
       "version_minor": 0
      },
      "text/plain": [
       "  0%|          | 0/10000 [00:00<?, ?it/s]"
      ]
     },
     "metadata": {},
     "output_type": "display_data"
    },
    {
     "name": "stdout",
     "output_type": "stream",
     "text": [
      "\n",
      " Early Stopping / epoch: 186 loss: 0.001971\n",
      "----------------------------------------------------------------------------------------------------------\n",
      "lr: 0.001  patience: 20  num_layers: 1  batch_size: 64  hidden_size: 16  dropout: 0.25 criterion: MSELoss()\n"
     ]
    },
    {
     "data": {
      "application/vnd.jupyter.widget-view+json": {
       "model_id": "704aa5b0e333434fb65d5865e0d39ba8",
       "version_major": 2,
       "version_minor": 0
      },
      "text/plain": [
       "  0%|          | 0/10000 [00:00<?, ?it/s]"
      ]
     },
     "metadata": {},
     "output_type": "display_data"
    },
    {
     "name": "stdout",
     "output_type": "stream",
     "text": [
      "\n",
      " Early Stopping / epoch: 268 loss: 0.000119\n",
      "----------------------------------------------------------------------------------------------------------\n",
      "lr: 0.001  patience: 20  num_layers: 1  batch_size: 64  hidden_size: 16  dropout: 0.25 criterion: <function criterion2 at 0x000001F4A9CA77F0>\n"
     ]
    },
    {
     "data": {
      "application/vnd.jupyter.widget-view+json": {
       "model_id": "186727f0ac8946c2bd5e60186f78b0db",
       "version_major": 2,
       "version_minor": 0
      },
      "text/plain": [
       "  0%|          | 0/10000 [00:00<?, ?it/s]"
      ]
     },
     "metadata": {},
     "output_type": "display_data"
    },
    {
     "name": "stdout",
     "output_type": "stream",
     "text": [
      "\n",
      " Early Stopping / epoch: 213 loss: 0.007741\n",
      "----------------------------------------------------------------------------------------------------------\n",
      "lr: 0.001  patience: 20  num_layers: 1  batch_size: 64  hidden_size: 16  dropout: 0.25 criterion: <function criterion3 at 0x000001F4A9CA7880>\n"
     ]
    },
    {
     "data": {
      "application/vnd.jupyter.widget-view+json": {
       "model_id": "b6d4277dc1bb4282b8dbef40e60b218e",
       "version_major": 2,
       "version_minor": 0
      },
      "text/plain": [
       "  0%|          | 0/10000 [00:00<?, ?it/s]"
      ]
     },
     "metadata": {},
     "output_type": "display_data"
    },
    {
     "name": "stdout",
     "output_type": "stream",
     "text": [
      "\n",
      " Early Stopping / epoch: 394 loss: 0.001238\n",
      "----------------------------------------------------------------------------------------------------------\n",
      "lr: 0.001  patience: 20  num_layers: 1  batch_size: 64  hidden_size: 16  dropout: 0.5 criterion: MSELoss()\n"
     ]
    },
    {
     "data": {
      "application/vnd.jupyter.widget-view+json": {
       "model_id": "bbdcd2c4ca5e430ea409a27303d3e13a",
       "version_major": 2,
       "version_minor": 0
      },
      "text/plain": [
       "  0%|          | 0/10000 [00:00<?, ?it/s]"
      ]
     },
     "metadata": {},
     "output_type": "display_data"
    },
    {
     "name": "stdout",
     "output_type": "stream",
     "text": [
      "\n",
      " Early Stopping / epoch: 318 loss: 0.000104\n",
      "----------------------------------------------------------------------------------------------------------\n",
      "lr: 0.001  patience: 20  num_layers: 1  batch_size: 64  hidden_size: 16  dropout: 0.5 criterion: <function criterion2 at 0x000001F4A9CA77F0>\n"
     ]
    },
    {
     "data": {
      "application/vnd.jupyter.widget-view+json": {
       "model_id": "3bdc597c178d4e2db6a572408db48e4f",
       "version_major": 2,
       "version_minor": 0
      },
      "text/plain": [
       "  0%|          | 0/10000 [00:00<?, ?it/s]"
      ]
     },
     "metadata": {},
     "output_type": "display_data"
    },
    {
     "name": "stdout",
     "output_type": "stream",
     "text": [
      "\n",
      " Early Stopping / epoch: 255 loss: 0.007746\n",
      "----------------------------------------------------------------------------------------------------------\n",
      "lr: 0.001  patience: 20  num_layers: 1  batch_size: 64  hidden_size: 16  dropout: 0.5 criterion: <function criterion3 at 0x000001F4A9CA7880>\n"
     ]
    },
    {
     "data": {
      "application/vnd.jupyter.widget-view+json": {
       "model_id": "f748bf7e7c9f4063b7da84349a103faa",
       "version_major": 2,
       "version_minor": 0
      },
      "text/plain": [
       "  0%|          | 0/10000 [00:00<?, ?it/s]"
      ]
     },
     "metadata": {},
     "output_type": "display_data"
    },
    {
     "name": "stdout",
     "output_type": "stream",
     "text": [
      "\n",
      " Early Stopping / epoch: 360 loss: 0.001316\n",
      "----------------------------------------------------------------------------------------------------------\n",
      "lr: 0.001  patience: 20  num_layers: 1  batch_size: 64  hidden_size: 32  dropout: 0.25 criterion: MSELoss()\n"
     ]
    },
    {
     "data": {
      "application/vnd.jupyter.widget-view+json": {
       "model_id": "f451bf77079842a0ad91f017a6292537",
       "version_major": 2,
       "version_minor": 0
      },
      "text/plain": [
       "  0%|          | 0/10000 [00:00<?, ?it/s]"
      ]
     },
     "metadata": {},
     "output_type": "display_data"
    },
    {
     "name": "stdout",
     "output_type": "stream",
     "text": [
      "\n",
      " Early Stopping / epoch: 245 loss: 0.000102\n",
      "----------------------------------------------------------------------------------------------------------\n",
      "lr: 0.001  patience: 20  num_layers: 1  batch_size: 64  hidden_size: 32  dropout: 0.25 criterion: <function criterion2 at 0x000001F4A9CA77F0>\n"
     ]
    },
    {
     "data": {
      "application/vnd.jupyter.widget-view+json": {
       "model_id": "a5920e19b5db41d7bcf380c6f2d50a1f",
       "version_major": 2,
       "version_minor": 0
      },
      "text/plain": [
       "  0%|          | 0/10000 [00:00<?, ?it/s]"
      ]
     },
     "metadata": {},
     "output_type": "display_data"
    },
    {
     "name": "stdout",
     "output_type": "stream",
     "text": [
      "\n",
      " Early Stopping / epoch: 297 loss: 0.008214\n",
      "----------------------------------------------------------------------------------------------------------\n",
      "lr: 0.001  patience: 20  num_layers: 1  batch_size: 64  hidden_size: 32  dropout: 0.25 criterion: <function criterion3 at 0x000001F4A9CA7880>\n"
     ]
    },
    {
     "data": {
      "application/vnd.jupyter.widget-view+json": {
       "model_id": "58bac576a58240d9b9012dc75a6329ed",
       "version_major": 2,
       "version_minor": 0
      },
      "text/plain": [
       "  0%|          | 0/10000 [00:00<?, ?it/s]"
      ]
     },
     "metadata": {},
     "output_type": "display_data"
    },
    {
     "name": "stdout",
     "output_type": "stream",
     "text": [
      "\n",
      " Early Stopping / epoch: 128 loss: 0.001521\n",
      "----------------------------------------------------------------------------------------------------------\n",
      "lr: 0.001  patience: 20  num_layers: 1  batch_size: 64  hidden_size: 32  dropout: 0.5 criterion: MSELoss()\n"
     ]
    },
    {
     "data": {
      "application/vnd.jupyter.widget-view+json": {
       "model_id": "c938182fbccd44deb5d48965e217313b",
       "version_major": 2,
       "version_minor": 0
      },
      "text/plain": [
       "  0%|          | 0/10000 [00:00<?, ?it/s]"
      ]
     },
     "metadata": {},
     "output_type": "display_data"
    },
    {
     "name": "stdout",
     "output_type": "stream",
     "text": [
      "\n",
      " Early Stopping / epoch: 379 loss: 0.000104\n",
      "----------------------------------------------------------------------------------------------------------\n",
      "lr: 0.001  patience: 20  num_layers: 1  batch_size: 64  hidden_size: 32  dropout: 0.5 criterion: <function criterion2 at 0x000001F4A9CA77F0>\n"
     ]
    },
    {
     "data": {
      "application/vnd.jupyter.widget-view+json": {
       "model_id": "f198145d85854e259fd7393a4d1f19db",
       "version_major": 2,
       "version_minor": 0
      },
      "text/plain": [
       "  0%|          | 0/10000 [00:00<?, ?it/s]"
      ]
     },
     "metadata": {},
     "output_type": "display_data"
    },
    {
     "name": "stdout",
     "output_type": "stream",
     "text": [
      "\n",
      " Early Stopping / epoch: 186 loss: 0.007593\n",
      "----------------------------------------------------------------------------------------------------------\n",
      "lr: 0.001  patience: 20  num_layers: 1  batch_size: 64  hidden_size: 32  dropout: 0.5 criterion: <function criterion3 at 0x000001F4A9CA7880>\n"
     ]
    },
    {
     "data": {
      "application/vnd.jupyter.widget-view+json": {
       "model_id": "e4bd8a722c964e6eadee68c0a3e9a5da",
       "version_major": 2,
       "version_minor": 0
      },
      "text/plain": [
       "  0%|          | 0/10000 [00:00<?, ?it/s]"
      ]
     },
     "metadata": {},
     "output_type": "display_data"
    },
    {
     "name": "stdout",
     "output_type": "stream",
     "text": [
      "\n",
      " Early Stopping / epoch: 302 loss: 0.001215\n",
      "----------------------------------------------------------------------------------------------------------\n",
      "lr: 0.001  patience: 20  num_layers: 1  batch_size: 128  hidden_size: 8  dropout: 0.25 criterion: MSELoss()\n"
     ]
    },
    {
     "data": {
      "application/vnd.jupyter.widget-view+json": {
       "model_id": "1ce71c8e028b439e85d219688252afc5",
       "version_major": 2,
       "version_minor": 0
      },
      "text/plain": [
       "  0%|          | 0/10000 [00:00<?, ?it/s]"
      ]
     },
     "metadata": {},
     "output_type": "display_data"
    },
    {
     "name": "stdout",
     "output_type": "stream",
     "text": [
      "\n",
      " Early Stopping / epoch: 752 loss: 0.000148\n",
      "----------------------------------------------------------------------------------------------------------\n",
      "lr: 0.001  patience: 20  num_layers: 1  batch_size: 128  hidden_size: 8  dropout: 0.25 criterion: <function criterion2 at 0x000001F4A9CA77F0>\n"
     ]
    },
    {
     "data": {
      "application/vnd.jupyter.widget-view+json": {
       "model_id": "3e61db31c0514dadab0f49304ec350b7",
       "version_major": 2,
       "version_minor": 0
      },
      "text/plain": [
       "  0%|          | 0/10000 [00:00<?, ?it/s]"
      ]
     },
     "metadata": {},
     "output_type": "display_data"
    },
    {
     "name": "stdout",
     "output_type": "stream",
     "text": [
      "\n",
      " Early Stopping / epoch: 223 loss: 0.008770\n",
      "----------------------------------------------------------------------------------------------------------\n",
      "lr: 0.001  patience: 20  num_layers: 1  batch_size: 128  hidden_size: 8  dropout: 0.25 criterion: <function criterion3 at 0x000001F4A9CA7880>\n"
     ]
    },
    {
     "data": {
      "application/vnd.jupyter.widget-view+json": {
       "model_id": "24944355fea8469a98abcd678498e78b",
       "version_major": 2,
       "version_minor": 0
      },
      "text/plain": [
       "  0%|          | 0/10000 [00:00<?, ?it/s]"
      ]
     },
     "metadata": {},
     "output_type": "display_data"
    },
    {
     "name": "stdout",
     "output_type": "stream",
     "text": [
      "\n",
      " Early Stopping / epoch: 389 loss: 0.001215\n",
      "----------------------------------------------------------------------------------------------------------\n",
      "lr: 0.001  patience: 20  num_layers: 1  batch_size: 128  hidden_size: 8  dropout: 0.5 criterion: MSELoss()\n"
     ]
    },
    {
     "data": {
      "application/vnd.jupyter.widget-view+json": {
       "model_id": "ac9684edf728481daa45d5124bcbdacf",
       "version_major": 2,
       "version_minor": 0
      },
      "text/plain": [
       "  0%|          | 0/10000 [00:00<?, ?it/s]"
      ]
     },
     "metadata": {},
     "output_type": "display_data"
    },
    {
     "name": "stdout",
     "output_type": "stream",
     "text": [
      "\n",
      " Early Stopping / epoch: 146 loss: 0.000617\n",
      "----------------------------------------------------------------------------------------------------------\n",
      "lr: 0.001  patience: 20  num_layers: 1  batch_size: 128  hidden_size: 8  dropout: 0.5 criterion: <function criterion2 at 0x000001F4A9CA77F0>\n"
     ]
    },
    {
     "data": {
      "application/vnd.jupyter.widget-view+json": {
       "model_id": "787cc48ebdcf42998f284f331eeac2c3",
       "version_major": 2,
       "version_minor": 0
      },
      "text/plain": [
       "  0%|          | 0/10000 [00:00<?, ?it/s]"
      ]
     },
     "metadata": {},
     "output_type": "display_data"
    },
    {
     "name": "stdout",
     "output_type": "stream",
     "text": [
      "\n",
      " Early Stopping / epoch: 182 loss: 0.008584\n",
      "----------------------------------------------------------------------------------------------------------\n",
      "lr: 0.001  patience: 20  num_layers: 1  batch_size: 128  hidden_size: 8  dropout: 0.5 criterion: <function criterion3 at 0x000001F4A9CA7880>\n"
     ]
    },
    {
     "data": {
      "application/vnd.jupyter.widget-view+json": {
       "model_id": "8b9006023f3941ccbf1e702ea8c193a0",
       "version_major": 2,
       "version_minor": 0
      },
      "text/plain": [
       "  0%|          | 0/10000 [00:00<?, ?it/s]"
      ]
     },
     "metadata": {},
     "output_type": "display_data"
    },
    {
     "name": "stdout",
     "output_type": "stream",
     "text": [
      "\n",
      " Early Stopping / epoch: 234 loss: 0.001484\n",
      "----------------------------------------------------------------------------------------------------------\n",
      "lr: 0.001  patience: 20  num_layers: 1  batch_size: 128  hidden_size: 16  dropout: 0.25 criterion: MSELoss()\n"
     ]
    },
    {
     "data": {
      "application/vnd.jupyter.widget-view+json": {
       "model_id": "d8bac12e19d44241bdfc7825bdcf8ef3",
       "version_major": 2,
       "version_minor": 0
      },
      "text/plain": [
       "  0%|          | 0/10000 [00:00<?, ?it/s]"
      ]
     },
     "metadata": {},
     "output_type": "display_data"
    },
    {
     "name": "stdout",
     "output_type": "stream",
     "text": [
      "\n",
      " Early Stopping / epoch: 538 loss: 0.000096\n",
      "----------------------------------------------------------------------------------------------------------\n",
      "lr: 0.001  patience: 20  num_layers: 1  batch_size: 128  hidden_size: 16  dropout: 0.25 criterion: <function criterion2 at 0x000001F4A9CA77F0>\n"
     ]
    },
    {
     "data": {
      "application/vnd.jupyter.widget-view+json": {
       "model_id": "58e54f1b06ef42bfbeda22978a56f2eb",
       "version_major": 2,
       "version_minor": 0
      },
      "text/plain": [
       "  0%|          | 0/10000 [00:00<?, ?it/s]"
      ]
     },
     "metadata": {},
     "output_type": "display_data"
    },
    {
     "name": "stdout",
     "output_type": "stream",
     "text": [
      "\n",
      " Early Stopping / epoch: 159 loss: 0.008251\n",
      "----------------------------------------------------------------------------------------------------------\n",
      "lr: 0.001  patience: 20  num_layers: 1  batch_size: 128  hidden_size: 16  dropout: 0.25 criterion: <function criterion3 at 0x000001F4A9CA7880>\n"
     ]
    },
    {
     "data": {
      "application/vnd.jupyter.widget-view+json": {
       "model_id": "5cd8c12589d14ac4a72c186c49207fda",
       "version_major": 2,
       "version_minor": 0
      },
      "text/plain": [
       "  0%|          | 0/10000 [00:00<?, ?it/s]"
      ]
     },
     "metadata": {},
     "output_type": "display_data"
    },
    {
     "name": "stdout",
     "output_type": "stream",
     "text": [
      "\n",
      " Early Stopping / epoch: 476 loss: 0.001155\n",
      "----------------------------------------------------------------------------------------------------------\n",
      "lr: 0.001  patience: 20  num_layers: 1  batch_size: 128  hidden_size: 16  dropout: 0.5 criterion: MSELoss()\n"
     ]
    },
    {
     "data": {
      "application/vnd.jupyter.widget-view+json": {
       "model_id": "4337e36245f243a382d3d2b52b9a43d2",
       "version_major": 2,
       "version_minor": 0
      },
      "text/plain": [
       "  0%|          | 0/10000 [00:00<?, ?it/s]"
      ]
     },
     "metadata": {},
     "output_type": "display_data"
    },
    {
     "name": "stdout",
     "output_type": "stream",
     "text": [
      "\n",
      " Early Stopping / epoch: 583 loss: 0.000102\n",
      "----------------------------------------------------------------------------------------------------------\n",
      "lr: 0.001  patience: 20  num_layers: 1  batch_size: 128  hidden_size: 16  dropout: 0.5 criterion: <function criterion2 at 0x000001F4A9CA77F0>\n"
     ]
    },
    {
     "data": {
      "application/vnd.jupyter.widget-view+json": {
       "model_id": "ffcd79c891a747c2aaa3646298a330ba",
       "version_major": 2,
       "version_minor": 0
      },
      "text/plain": [
       "  0%|          | 0/10000 [00:00<?, ?it/s]"
      ]
     },
     "metadata": {},
     "output_type": "display_data"
    },
    {
     "name": "stdout",
     "output_type": "stream",
     "text": [
      "\n",
      " Early Stopping / epoch: 329 loss: 0.008023\n",
      "----------------------------------------------------------------------------------------------------------\n",
      "lr: 0.001  patience: 20  num_layers: 1  batch_size: 128  hidden_size: 16  dropout: 0.5 criterion: <function criterion3 at 0x000001F4A9CA7880>\n"
     ]
    },
    {
     "data": {
      "application/vnd.jupyter.widget-view+json": {
       "model_id": "dbe23145dc274c29b758fff2d7b88df4",
       "version_major": 2,
       "version_minor": 0
      },
      "text/plain": [
       "  0%|          | 0/10000 [00:00<?, ?it/s]"
      ]
     },
     "metadata": {},
     "output_type": "display_data"
    },
    {
     "name": "stdout",
     "output_type": "stream",
     "text": [
      "\n",
      " Early Stopping / epoch: 347 loss: 0.001189\n",
      "----------------------------------------------------------------------------------------------------------\n",
      "lr: 0.001  patience: 20  num_layers: 1  batch_size: 128  hidden_size: 32  dropout: 0.25 criterion: MSELoss()\n"
     ]
    },
    {
     "data": {
      "application/vnd.jupyter.widget-view+json": {
       "model_id": "fcb44a6aea004e7b808c6f944a3e7229",
       "version_major": 2,
       "version_minor": 0
      },
      "text/plain": [
       "  0%|          | 0/10000 [00:00<?, ?it/s]"
      ]
     },
     "metadata": {},
     "output_type": "display_data"
    },
    {
     "name": "stdout",
     "output_type": "stream",
     "text": [
      "\n",
      " Early Stopping / epoch: 379 loss: 0.000097\n",
      "----------------------------------------------------------------------------------------------------------\n",
      "lr: 0.001  patience: 20  num_layers: 1  batch_size: 128  hidden_size: 32  dropout: 0.25 criterion: <function criterion2 at 0x000001F4A9CA77F0>\n"
     ]
    },
    {
     "data": {
      "application/vnd.jupyter.widget-view+json": {
       "model_id": "24a3faa6c4c345aabebfb635b2c5567a",
       "version_major": 2,
       "version_minor": 0
      },
      "text/plain": [
       "  0%|          | 0/10000 [00:00<?, ?it/s]"
      ]
     },
     "metadata": {},
     "output_type": "display_data"
    },
    {
     "name": "stdout",
     "output_type": "stream",
     "text": [
      "\n",
      " Early Stopping / epoch: 344 loss: 0.007807\n",
      "----------------------------------------------------------------------------------------------------------\n",
      "lr: 0.001  patience: 20  num_layers: 1  batch_size: 128  hidden_size: 32  dropout: 0.25 criterion: <function criterion3 at 0x000001F4A9CA7880>\n"
     ]
    },
    {
     "data": {
      "application/vnd.jupyter.widget-view+json": {
       "model_id": "9faae28df6ac46ce96faf34c6addea4e",
       "version_major": 2,
       "version_minor": 0
      },
      "text/plain": [
       "  0%|          | 0/10000 [00:00<?, ?it/s]"
      ]
     },
     "metadata": {},
     "output_type": "display_data"
    },
    {
     "name": "stdout",
     "output_type": "stream",
     "text": [
      "\n",
      " Early Stopping / epoch: 399 loss: 0.000874\n",
      "----------------------------------------------------------------------------------------------------------\n",
      "lr: 0.001  patience: 20  num_layers: 1  batch_size: 128  hidden_size: 32  dropout: 0.5 criterion: MSELoss()\n"
     ]
    },
    {
     "data": {
      "application/vnd.jupyter.widget-view+json": {
       "model_id": "ee3ffb026c904f409f7dd54ffb3666ff",
       "version_major": 2,
       "version_minor": 0
      },
      "text/plain": [
       "  0%|          | 0/10000 [00:00<?, ?it/s]"
      ]
     },
     "metadata": {},
     "output_type": "display_data"
    },
    {
     "name": "stdout",
     "output_type": "stream",
     "text": [
      "\n",
      " Early Stopping / epoch: 426 loss: 0.000095\n",
      "----------------------------------------------------------------------------------------------------------\n",
      "lr: 0.001  patience: 20  num_layers: 1  batch_size: 128  hidden_size: 32  dropout: 0.5 criterion: <function criterion2 at 0x000001F4A9CA77F0>\n"
     ]
    },
    {
     "data": {
      "application/vnd.jupyter.widget-view+json": {
       "model_id": "39d2d29916f648c1a0107d1bdfdd7027",
       "version_major": 2,
       "version_minor": 0
      },
      "text/plain": [
       "  0%|          | 0/10000 [00:00<?, ?it/s]"
      ]
     },
     "metadata": {},
     "output_type": "display_data"
    },
    {
     "name": "stdout",
     "output_type": "stream",
     "text": [
      "\n",
      " Early Stopping / epoch: 148 loss: 0.008821\n",
      "----------------------------------------------------------------------------------------------------------\n",
      "lr: 0.001  patience: 20  num_layers: 1  batch_size: 128  hidden_size: 32  dropout: 0.5 criterion: <function criterion3 at 0x000001F4A9CA7880>\n"
     ]
    },
    {
     "data": {
      "application/vnd.jupyter.widget-view+json": {
       "model_id": "be3e6dc43d1449acaa1dfdd8931ce91b",
       "version_major": 2,
       "version_minor": 0
      },
      "text/plain": [
       "  0%|          | 0/10000 [00:00<?, ?it/s]"
      ]
     },
     "metadata": {},
     "output_type": "display_data"
    },
    {
     "name": "stdout",
     "output_type": "stream",
     "text": [
      "\n",
      " Early Stopping / epoch: 459 loss: 0.000884\n",
      "----------------------------------------------------------------------------------------------------------\n",
      "lr: 0.001  patience: 20  num_layers: 2  batch_size: 32  hidden_size: 8  dropout: 0.25 criterion: MSELoss()\n"
     ]
    },
    {
     "data": {
      "application/vnd.jupyter.widget-view+json": {
       "model_id": "29d4b6e858134199a25be4a144adb366",
       "version_major": 2,
       "version_minor": 0
      },
      "text/plain": [
       "  0%|          | 0/10000 [00:00<?, ?it/s]"
      ]
     },
     "metadata": {},
     "output_type": "display_data"
    },
    {
     "name": "stdout",
     "output_type": "stream",
     "text": [
      "\n",
      " Early Stopping / epoch: 249 loss: 0.000341\n",
      "----------------------------------------------------------------------------------------------------------\n",
      "lr: 0.001  patience: 20  num_layers: 2  batch_size: 32  hidden_size: 8  dropout: 0.25 criterion: <function criterion2 at 0x000001F4A9CA77F0>\n"
     ]
    },
    {
     "data": {
      "application/vnd.jupyter.widget-view+json": {
       "model_id": "54f20a1f24df415e90b667a3c7abc12f",
       "version_major": 2,
       "version_minor": 0
      },
      "text/plain": [
       "  0%|          | 0/10000 [00:00<?, ?it/s]"
      ]
     },
     "metadata": {},
     "output_type": "display_data"
    },
    {
     "name": "stdout",
     "output_type": "stream",
     "text": [
      "\n",
      " Early Stopping / epoch: 492 loss: 0.006980\n",
      "----------------------------------------------------------------------------------------------------------\n",
      "lr: 0.001  patience: 20  num_layers: 2  batch_size: 32  hidden_size: 8  dropout: 0.25 criterion: <function criterion3 at 0x000001F4A9CA7880>\n"
     ]
    },
    {
     "data": {
      "application/vnd.jupyter.widget-view+json": {
       "model_id": "71ed1da244ad405c9e0bd77c476f76c8",
       "version_major": 2,
       "version_minor": 0
      },
      "text/plain": [
       "  0%|          | 0/10000 [00:00<?, ?it/s]"
      ]
     },
     "metadata": {},
     "output_type": "display_data"
    },
    {
     "name": "stdout",
     "output_type": "stream",
     "text": [
      "\n",
      " Early Stopping / epoch: 380 loss: 0.001947\n",
      "----------------------------------------------------------------------------------------------------------\n",
      "lr: 0.001  patience: 20  num_layers: 2  batch_size: 32  hidden_size: 8  dropout: 0.5 criterion: MSELoss()\n"
     ]
    },
    {
     "data": {
      "application/vnd.jupyter.widget-view+json": {
       "model_id": "0e2510606b864c8bbe1abf28a22f735d",
       "version_major": 2,
       "version_minor": 0
      },
      "text/plain": [
       "  0%|          | 0/10000 [00:00<?, ?it/s]"
      ]
     },
     "metadata": {},
     "output_type": "display_data"
    },
    {
     "name": "stdout",
     "output_type": "stream",
     "text": [
      "\n",
      " Early Stopping / epoch: 244 loss: 0.000490\n",
      "----------------------------------------------------------------------------------------------------------\n",
      "lr: 0.001  patience: 20  num_layers: 2  batch_size: 32  hidden_size: 8  dropout: 0.5 criterion: <function criterion2 at 0x000001F4A9CA77F0>\n"
     ]
    },
    {
     "data": {
      "application/vnd.jupyter.widget-view+json": {
       "model_id": "669687159d464a70b0dbbcd54fe00a5e",
       "version_major": 2,
       "version_minor": 0
      },
      "text/plain": [
       "  0%|          | 0/10000 [00:00<?, ?it/s]"
      ]
     },
     "metadata": {},
     "output_type": "display_data"
    },
    {
     "name": "stdout",
     "output_type": "stream",
     "text": [
      "\n",
      " Early Stopping / epoch: 282 loss: 0.007864\n",
      "----------------------------------------------------------------------------------------------------------\n",
      "lr: 0.001  patience: 20  num_layers: 2  batch_size: 32  hidden_size: 8  dropout: 0.5 criterion: <function criterion3 at 0x000001F4A9CA7880>\n"
     ]
    },
    {
     "data": {
      "application/vnd.jupyter.widget-view+json": {
       "model_id": "e88a7dac4e39480e9a07e0601b67be70",
       "version_major": 2,
       "version_minor": 0
      },
      "text/plain": [
       "  0%|          | 0/10000 [00:00<?, ?it/s]"
      ]
     },
     "metadata": {},
     "output_type": "display_data"
    },
    {
     "name": "stdout",
     "output_type": "stream",
     "text": [
      "\n",
      " Early Stopping / epoch: 377 loss: 0.001941\n",
      "----------------------------------------------------------------------------------------------------------\n",
      "lr: 0.001  patience: 20  num_layers: 2  batch_size: 32  hidden_size: 16  dropout: 0.25 criterion: MSELoss()\n"
     ]
    },
    {
     "data": {
      "application/vnd.jupyter.widget-view+json": {
       "model_id": "eff3c7d2beaf41248cc2c1ef0a058887",
       "version_major": 2,
       "version_minor": 0
      },
      "text/plain": [
       "  0%|          | 0/10000 [00:00<?, ?it/s]"
      ]
     },
     "metadata": {},
     "output_type": "display_data"
    },
    {
     "name": "stdout",
     "output_type": "stream",
     "text": [
      "\n",
      " Early Stopping / epoch: 170 loss: 0.000205\n",
      "----------------------------------------------------------------------------------------------------------\n",
      "lr: 0.001  patience: 20  num_layers: 2  batch_size: 32  hidden_size: 16  dropout: 0.25 criterion: <function criterion2 at 0x000001F4A9CA77F0>\n"
     ]
    },
    {
     "data": {
      "application/vnd.jupyter.widget-view+json": {
       "model_id": "20397cbc76f34431ab01c8a532809487",
       "version_major": 2,
       "version_minor": 0
      },
      "text/plain": [
       "  0%|          | 0/10000 [00:00<?, ?it/s]"
      ]
     },
     "metadata": {},
     "output_type": "display_data"
    },
    {
     "name": "stdout",
     "output_type": "stream",
     "text": [
      "\n",
      " Early Stopping / epoch: 267 loss: 0.007061\n",
      "----------------------------------------------------------------------------------------------------------\n",
      "lr: 0.001  patience: 20  num_layers: 2  batch_size: 32  hidden_size: 16  dropout: 0.25 criterion: <function criterion3 at 0x000001F4A9CA7880>\n"
     ]
    },
    {
     "data": {
      "application/vnd.jupyter.widget-view+json": {
       "model_id": "adb4178062534d3197a3dddc55dfdf67",
       "version_major": 2,
       "version_minor": 0
      },
      "text/plain": [
       "  0%|          | 0/10000 [00:00<?, ?it/s]"
      ]
     },
     "metadata": {},
     "output_type": "display_data"
    },
    {
     "name": "stdout",
     "output_type": "stream",
     "text": [
      "\n",
      " Early Stopping / epoch: 169 loss: 0.002051\n",
      "----------------------------------------------------------------------------------------------------------\n",
      "lr: 0.001  patience: 20  num_layers: 2  batch_size: 32  hidden_size: 16  dropout: 0.5 criterion: MSELoss()\n"
     ]
    },
    {
     "data": {
      "application/vnd.jupyter.widget-view+json": {
       "model_id": "0f0647290251446ba469e44274893f9a",
       "version_major": 2,
       "version_minor": 0
      },
      "text/plain": [
       "  0%|          | 0/10000 [00:00<?, ?it/s]"
      ]
     },
     "metadata": {},
     "output_type": "display_data"
    },
    {
     "name": "stdout",
     "output_type": "stream",
     "text": [
      "\n",
      " Early Stopping / epoch: 209 loss: 0.000360\n",
      "----------------------------------------------------------------------------------------------------------\n",
      "lr: 0.001  patience: 20  num_layers: 2  batch_size: 32  hidden_size: 16  dropout: 0.5 criterion: <function criterion2 at 0x000001F4A9CA77F0>\n"
     ]
    },
    {
     "data": {
      "application/vnd.jupyter.widget-view+json": {
       "model_id": "abc3e7e6f8364668b602bec218147fd3",
       "version_major": 2,
       "version_minor": 0
      },
      "text/plain": [
       "  0%|          | 0/10000 [00:00<?, ?it/s]"
      ]
     },
     "metadata": {},
     "output_type": "display_data"
    },
    {
     "name": "stdout",
     "output_type": "stream",
     "text": [
      "\n",
      " Early Stopping / epoch: 120 loss: 0.009169\n",
      "----------------------------------------------------------------------------------------------------------\n",
      "lr: 0.001  patience: 20  num_layers: 2  batch_size: 32  hidden_size: 16  dropout: 0.5 criterion: <function criterion3 at 0x000001F4A9CA7880>\n"
     ]
    },
    {
     "data": {
      "application/vnd.jupyter.widget-view+json": {
       "model_id": "32fd182a7df4411aac0803fa4f063d02",
       "version_major": 2,
       "version_minor": 0
      },
      "text/plain": [
       "  0%|          | 0/10000 [00:00<?, ?it/s]"
      ]
     },
     "metadata": {},
     "output_type": "display_data"
    },
    {
     "name": "stdout",
     "output_type": "stream",
     "text": [
      "\n",
      " Early Stopping / epoch: 254 loss: 0.001852\n",
      "----------------------------------------------------------------------------------------------------------\n",
      "lr: 0.001  patience: 20  num_layers: 2  batch_size: 32  hidden_size: 32  dropout: 0.25 criterion: MSELoss()\n"
     ]
    },
    {
     "data": {
      "application/vnd.jupyter.widget-view+json": {
       "model_id": "b1f6285e5ca948aebbe4bb9f80d9b85e",
       "version_major": 2,
       "version_minor": 0
      },
      "text/plain": [
       "  0%|          | 0/10000 [00:00<?, ?it/s]"
      ]
     },
     "metadata": {},
     "output_type": "display_data"
    },
    {
     "name": "stdout",
     "output_type": "stream",
     "text": [
      "\n",
      " Early Stopping / epoch: 194 loss: 0.000145\n",
      "----------------------------------------------------------------------------------------------------------\n",
      "lr: 0.001  patience: 20  num_layers: 2  batch_size: 32  hidden_size: 32  dropout: 0.25 criterion: <function criterion2 at 0x000001F4A9CA77F0>\n"
     ]
    },
    {
     "data": {
      "application/vnd.jupyter.widget-view+json": {
       "model_id": "361e7acdc6204aabad3d75b481ccd5f9",
       "version_major": 2,
       "version_minor": 0
      },
      "text/plain": [
       "  0%|          | 0/10000 [00:00<?, ?it/s]"
      ]
     },
     "metadata": {},
     "output_type": "display_data"
    },
    {
     "name": "stdout",
     "output_type": "stream",
     "text": [
      "\n",
      " Early Stopping / epoch: 213 loss: 0.006244\n",
      "----------------------------------------------------------------------------------------------------------\n",
      "lr: 0.001  patience: 20  num_layers: 2  batch_size: 32  hidden_size: 32  dropout: 0.25 criterion: <function criterion3 at 0x000001F4A9CA7880>\n"
     ]
    },
    {
     "data": {
      "application/vnd.jupyter.widget-view+json": {
       "model_id": "236b096dfab349dcb4326676f5aa0d28",
       "version_major": 2,
       "version_minor": 0
      },
      "text/plain": [
       "  0%|          | 0/10000 [00:00<?, ?it/s]"
      ]
     },
     "metadata": {},
     "output_type": "display_data"
    },
    {
     "name": "stdout",
     "output_type": "stream",
     "text": [
      "\n",
      " Early Stopping / epoch: 203 loss: 0.001878\n",
      "----------------------------------------------------------------------------------------------------------\n",
      "lr: 0.001  patience: 20  num_layers: 2  batch_size: 32  hidden_size: 32  dropout: 0.5 criterion: MSELoss()\n"
     ]
    },
    {
     "data": {
      "application/vnd.jupyter.widget-view+json": {
       "model_id": "6cdeea9ea9914cb385f8216452ce6681",
       "version_major": 2,
       "version_minor": 0
      },
      "text/plain": [
       "  0%|          | 0/10000 [00:00<?, ?it/s]"
      ]
     },
     "metadata": {},
     "output_type": "display_data"
    },
    {
     "name": "stdout",
     "output_type": "stream",
     "text": [
      "\n",
      " Early Stopping / epoch: 211 loss: 0.000125\n",
      "----------------------------------------------------------------------------------------------------------\n",
      "lr: 0.001  patience: 20  num_layers: 2  batch_size: 32  hidden_size: 32  dropout: 0.5 criterion: <function criterion2 at 0x000001F4A9CA77F0>\n"
     ]
    },
    {
     "data": {
      "application/vnd.jupyter.widget-view+json": {
       "model_id": "430e4d803751484190811dda9d5fafb2",
       "version_major": 2,
       "version_minor": 0
      },
      "text/plain": [
       "  0%|          | 0/10000 [00:00<?, ?it/s]"
      ]
     },
     "metadata": {},
     "output_type": "display_data"
    },
    {
     "name": "stdout",
     "output_type": "stream",
     "text": [
      "\n",
      " Early Stopping / epoch: 291 loss: 0.007664\n",
      "----------------------------------------------------------------------------------------------------------\n",
      "lr: 0.001  patience: 20  num_layers: 2  batch_size: 32  hidden_size: 32  dropout: 0.5 criterion: <function criterion3 at 0x000001F4A9CA7880>\n"
     ]
    },
    {
     "data": {
      "application/vnd.jupyter.widget-view+json": {
       "model_id": "f591128a00304ac49dba780ea6c2bb69",
       "version_major": 2,
       "version_minor": 0
      },
      "text/plain": [
       "  0%|          | 0/10000 [00:00<?, ?it/s]"
      ]
     },
     "metadata": {},
     "output_type": "display_data"
    },
    {
     "name": "stdout",
     "output_type": "stream",
     "text": [
      "\n",
      " Early Stopping / epoch: 143 loss: 0.002106\n",
      "----------------------------------------------------------------------------------------------------------\n",
      "lr: 0.001  patience: 20  num_layers: 2  batch_size: 64  hidden_size: 8  dropout: 0.25 criterion: MSELoss()\n"
     ]
    },
    {
     "data": {
      "application/vnd.jupyter.widget-view+json": {
       "model_id": "a73baa0636794a7ebbaa0bf64832b4fd",
       "version_major": 2,
       "version_minor": 0
      },
      "text/plain": [
       "  0%|          | 0/10000 [00:00<?, ?it/s]"
      ]
     },
     "metadata": {},
     "output_type": "display_data"
    },
    {
     "name": "stdout",
     "output_type": "stream",
     "text": [
      "\n",
      " Early Stopping / epoch: 329 loss: 0.000268\n",
      "----------------------------------------------------------------------------------------------------------\n",
      "lr: 0.001  patience: 20  num_layers: 2  batch_size: 64  hidden_size: 8  dropout: 0.25 criterion: <function criterion2 at 0x000001F4A9CA77F0>\n"
     ]
    },
    {
     "data": {
      "application/vnd.jupyter.widget-view+json": {
       "model_id": "744ba7f9db8e4b4690e900713485e69f",
       "version_major": 2,
       "version_minor": 0
      },
      "text/plain": [
       "  0%|          | 0/10000 [00:00<?, ?it/s]"
      ]
     },
     "metadata": {},
     "output_type": "display_data"
    },
    {
     "name": "stdout",
     "output_type": "stream",
     "text": [
      "\n",
      " Early Stopping / epoch: 151 loss: 0.009203\n",
      "----------------------------------------------------------------------------------------------------------\n",
      "lr: 0.001  patience: 20  num_layers: 2  batch_size: 64  hidden_size: 8  dropout: 0.25 criterion: <function criterion3 at 0x000001F4A9CA7880>\n"
     ]
    },
    {
     "data": {
      "application/vnd.jupyter.widget-view+json": {
       "model_id": "2bc534ddb0b3449998428f69ef5a80c7",
       "version_major": 2,
       "version_minor": 0
      },
      "text/plain": [
       "  0%|          | 0/10000 [00:00<?, ?it/s]"
      ]
     },
     "metadata": {},
     "output_type": "display_data"
    },
    {
     "name": "stdout",
     "output_type": "stream",
     "text": [
      "\n",
      " Early Stopping / epoch: 163 loss: 0.002002\n",
      "----------------------------------------------------------------------------------------------------------\n",
      "lr: 0.001  patience: 20  num_layers: 2  batch_size: 64  hidden_size: 8  dropout: 0.5 criterion: MSELoss()\n"
     ]
    },
    {
     "data": {
      "application/vnd.jupyter.widget-view+json": {
       "model_id": "224edd641ec141e5b3ef14edf094dd25",
       "version_major": 2,
       "version_minor": 0
      },
      "text/plain": [
       "  0%|          | 0/10000 [00:00<?, ?it/s]"
      ]
     },
     "metadata": {},
     "output_type": "display_data"
    },
    {
     "name": "stdout",
     "output_type": "stream",
     "text": [
      "\n",
      " Early Stopping / epoch: 495 loss: 0.000331\n",
      "----------------------------------------------------------------------------------------------------------\n",
      "lr: 0.001  patience: 20  num_layers: 2  batch_size: 64  hidden_size: 8  dropout: 0.5 criterion: <function criterion2 at 0x000001F4A9CA77F0>\n"
     ]
    },
    {
     "data": {
      "application/vnd.jupyter.widget-view+json": {
       "model_id": "95e462ab43764bf58b3addecbef19ca5",
       "version_major": 2,
       "version_minor": 0
      },
      "text/plain": [
       "  0%|          | 0/10000 [00:00<?, ?it/s]"
      ]
     },
     "metadata": {},
     "output_type": "display_data"
    },
    {
     "name": "stdout",
     "output_type": "stream",
     "text": [
      "\n",
      " Early Stopping / epoch: 304 loss: 0.008941\n",
      "----------------------------------------------------------------------------------------------------------\n",
      "lr: 0.001  patience: 20  num_layers: 2  batch_size: 64  hidden_size: 8  dropout: 0.5 criterion: <function criterion3 at 0x000001F4A9CA7880>\n"
     ]
    },
    {
     "data": {
      "application/vnd.jupyter.widget-view+json": {
       "model_id": "92612a6d7b5d4717bc538d57c10c9022",
       "version_major": 2,
       "version_minor": 0
      },
      "text/plain": [
       "  0%|          | 0/10000 [00:00<?, ?it/s]"
      ]
     },
     "metadata": {},
     "output_type": "display_data"
    },
    {
     "name": "stdout",
     "output_type": "stream",
     "text": [
      "\n",
      " Early Stopping / epoch: 434 loss: 0.001481\n",
      "----------------------------------------------------------------------------------------------------------\n",
      "lr: 0.001  patience: 20  num_layers: 2  batch_size: 64  hidden_size: 16  dropout: 0.25 criterion: MSELoss()\n"
     ]
    },
    {
     "data": {
      "application/vnd.jupyter.widget-view+json": {
       "model_id": "c53f1bed8f63489f9f0a79daee6a3281",
       "version_major": 2,
       "version_minor": 0
      },
      "text/plain": [
       "  0%|          | 0/10000 [00:00<?, ?it/s]"
      ]
     },
     "metadata": {},
     "output_type": "display_data"
    },
    {
     "name": "stdout",
     "output_type": "stream",
     "text": [
      "\n",
      " Early Stopping / epoch: 313 loss: 0.000169\n",
      "----------------------------------------------------------------------------------------------------------\n",
      "lr: 0.001  patience: 20  num_layers: 2  batch_size: 64  hidden_size: 16  dropout: 0.25 criterion: <function criterion2 at 0x000001F4A9CA77F0>\n"
     ]
    },
    {
     "data": {
      "application/vnd.jupyter.widget-view+json": {
       "model_id": "a13a4c19e72247ec8d41173e403175a9",
       "version_major": 2,
       "version_minor": 0
      },
      "text/plain": [
       "  0%|          | 0/10000 [00:00<?, ?it/s]"
      ]
     },
     "metadata": {},
     "output_type": "display_data"
    },
    {
     "name": "stdout",
     "output_type": "stream",
     "text": [
      "\n",
      " Early Stopping / epoch: 480 loss: 0.006295\n",
      "----------------------------------------------------------------------------------------------------------\n",
      "lr: 0.001  patience: 20  num_layers: 2  batch_size: 64  hidden_size: 16  dropout: 0.25 criterion: <function criterion3 at 0x000001F4A9CA7880>\n"
     ]
    },
    {
     "data": {
      "application/vnd.jupyter.widget-view+json": {
       "model_id": "07dbaeac6482462aa8a7056d78dec113",
       "version_major": 2,
       "version_minor": 0
      },
      "text/plain": [
       "  0%|          | 0/10000 [00:00<?, ?it/s]"
      ]
     },
     "metadata": {},
     "output_type": "display_data"
    },
    {
     "name": "stdout",
     "output_type": "stream",
     "text": [
      "\n",
      " Early Stopping / epoch: 246 loss: 0.001413\n",
      "----------------------------------------------------------------------------------------------------------\n",
      "lr: 0.001  patience: 20  num_layers: 2  batch_size: 64  hidden_size: 16  dropout: 0.5 criterion: MSELoss()\n"
     ]
    },
    {
     "data": {
      "application/vnd.jupyter.widget-view+json": {
       "model_id": "05cff67c4b84460eb506d6fc20c57aee",
       "version_major": 2,
       "version_minor": 0
      },
      "text/plain": [
       "  0%|          | 0/10000 [00:00<?, ?it/s]"
      ]
     },
     "metadata": {},
     "output_type": "display_data"
    },
    {
     "name": "stdout",
     "output_type": "stream",
     "text": [
      "\n",
      " Early Stopping / epoch: 248 loss: 0.000142\n",
      "----------------------------------------------------------------------------------------------------------\n",
      "lr: 0.001  patience: 20  num_layers: 2  batch_size: 64  hidden_size: 16  dropout: 0.5 criterion: <function criterion2 at 0x000001F4A9CA77F0>\n"
     ]
    },
    {
     "data": {
      "application/vnd.jupyter.widget-view+json": {
       "model_id": "cdd695744b83409aaa9f064394c05e63",
       "version_major": 2,
       "version_minor": 0
      },
      "text/plain": [
       "  0%|          | 0/10000 [00:00<?, ?it/s]"
      ]
     },
     "metadata": {},
     "output_type": "display_data"
    },
    {
     "name": "stdout",
     "output_type": "stream",
     "text": [
      "\n",
      " Early Stopping / epoch: 208 loss: 0.008161\n",
      "----------------------------------------------------------------------------------------------------------\n",
      "lr: 0.001  patience: 20  num_layers: 2  batch_size: 64  hidden_size: 16  dropout: 0.5 criterion: <function criterion3 at 0x000001F4A9CA7880>\n"
     ]
    },
    {
     "data": {
      "application/vnd.jupyter.widget-view+json": {
       "model_id": "e0638e4474d1400a961d0aa902cdcce0",
       "version_major": 2,
       "version_minor": 0
      },
      "text/plain": [
       "  0%|          | 0/10000 [00:00<?, ?it/s]"
      ]
     },
     "metadata": {},
     "output_type": "display_data"
    },
    {
     "name": "stdout",
     "output_type": "stream",
     "text": [
      "\n",
      " Early Stopping / epoch: 248 loss: 0.001424\n",
      "----------------------------------------------------------------------------------------------------------\n",
      "lr: 0.001  patience: 20  num_layers: 2  batch_size: 64  hidden_size: 32  dropout: 0.25 criterion: MSELoss()\n"
     ]
    },
    {
     "data": {
      "application/vnd.jupyter.widget-view+json": {
       "model_id": "7b5285d6522f41b6a2fb58b6764e91a4",
       "version_major": 2,
       "version_minor": 0
      },
      "text/plain": [
       "  0%|          | 0/10000 [00:00<?, ?it/s]"
      ]
     },
     "metadata": {},
     "output_type": "display_data"
    },
    {
     "name": "stdout",
     "output_type": "stream",
     "text": [
      "\n",
      " Early Stopping / epoch: 218 loss: 0.000128\n",
      "----------------------------------------------------------------------------------------------------------\n",
      "lr: 0.001  patience: 20  num_layers: 2  batch_size: 64  hidden_size: 32  dropout: 0.25 criterion: <function criterion2 at 0x000001F4A9CA77F0>\n"
     ]
    },
    {
     "data": {
      "application/vnd.jupyter.widget-view+json": {
       "model_id": "df41ad351aea45b0b3616cd79f5ed562",
       "version_major": 2,
       "version_minor": 0
      },
      "text/plain": [
       "  0%|          | 0/10000 [00:00<?, ?it/s]"
      ]
     },
     "metadata": {},
     "output_type": "display_data"
    },
    {
     "name": "stdout",
     "output_type": "stream",
     "text": [
      "\n",
      " Early Stopping / epoch: 239 loss: 0.007864\n",
      "----------------------------------------------------------------------------------------------------------\n",
      "lr: 0.001  patience: 20  num_layers: 2  batch_size: 64  hidden_size: 32  dropout: 0.25 criterion: <function criterion3 at 0x000001F4A9CA7880>\n"
     ]
    },
    {
     "data": {
      "application/vnd.jupyter.widget-view+json": {
       "model_id": "ebd27215ab0f407f853e0813fdde2d66",
       "version_major": 2,
       "version_minor": 0
      },
      "text/plain": [
       "  0%|          | 0/10000 [00:00<?, ?it/s]"
      ]
     },
     "metadata": {},
     "output_type": "display_data"
    },
    {
     "name": "stdout",
     "output_type": "stream",
     "text": [
      "\n",
      " Early Stopping / epoch: 206 loss: 0.001305\n",
      "----------------------------------------------------------------------------------------------------------\n",
      "lr: 0.001  patience: 20  num_layers: 2  batch_size: 64  hidden_size: 32  dropout: 0.5 criterion: MSELoss()\n"
     ]
    },
    {
     "data": {
      "application/vnd.jupyter.widget-view+json": {
       "model_id": "c550d245cc4e4111b3397a9ec1ac4a06",
       "version_major": 2,
       "version_minor": 0
      },
      "text/plain": [
       "  0%|          | 0/10000 [00:00<?, ?it/s]"
      ]
     },
     "metadata": {},
     "output_type": "display_data"
    },
    {
     "name": "stdout",
     "output_type": "stream",
     "text": [
      "\n",
      " Early Stopping / epoch: 179 loss: 0.000132\n",
      "----------------------------------------------------------------------------------------------------------\n",
      "lr: 0.001  patience: 20  num_layers: 2  batch_size: 64  hidden_size: 32  dropout: 0.5 criterion: <function criterion2 at 0x000001F4A9CA77F0>\n"
     ]
    },
    {
     "data": {
      "application/vnd.jupyter.widget-view+json": {
       "model_id": "d9e0adaeccbf42b2be2c978490f8901d",
       "version_major": 2,
       "version_minor": 0
      },
      "text/plain": [
       "  0%|          | 0/10000 [00:00<?, ?it/s]"
      ]
     },
     "metadata": {},
     "output_type": "display_data"
    },
    {
     "name": "stdout",
     "output_type": "stream",
     "text": [
      "\n",
      " Early Stopping / epoch: 256 loss: 0.006319\n",
      "----------------------------------------------------------------------------------------------------------\n",
      "lr: 0.001  patience: 20  num_layers: 2  batch_size: 64  hidden_size: 32  dropout: 0.5 criterion: <function criterion3 at 0x000001F4A9CA7880>\n"
     ]
    },
    {
     "data": {
      "application/vnd.jupyter.widget-view+json": {
       "model_id": "84505539f4a9463fae23de7cc6918327",
       "version_major": 2,
       "version_minor": 0
      },
      "text/plain": [
       "  0%|          | 0/10000 [00:00<?, ?it/s]"
      ]
     },
     "metadata": {},
     "output_type": "display_data"
    },
    {
     "name": "stdout",
     "output_type": "stream",
     "text": [
      "\n",
      " Early Stopping / epoch: 294 loss: 0.001371\n",
      "----------------------------------------------------------------------------------------------------------\n",
      "lr: 0.001  patience: 20  num_layers: 2  batch_size: 128  hidden_size: 8  dropout: 0.25 criterion: MSELoss()\n"
     ]
    },
    {
     "data": {
      "application/vnd.jupyter.widget-view+json": {
       "model_id": "c15faa22c484478194068e00856ed548",
       "version_major": 2,
       "version_minor": 0
      },
      "text/plain": [
       "  0%|          | 0/10000 [00:00<?, ?it/s]"
      ]
     },
     "metadata": {},
     "output_type": "display_data"
    },
    {
     "name": "stdout",
     "output_type": "stream",
     "text": [
      "\n",
      " Early Stopping / epoch: 606 loss: 0.000326\n",
      "----------------------------------------------------------------------------------------------------------\n",
      "lr: 0.001  patience: 20  num_layers: 2  batch_size: 128  hidden_size: 8  dropout: 0.25 criterion: <function criterion2 at 0x000001F4A9CA77F0>\n"
     ]
    },
    {
     "data": {
      "application/vnd.jupyter.widget-view+json": {
       "model_id": "c9eb4dcb5d1846a9bad5ed61df93c293",
       "version_major": 2,
       "version_minor": 0
      },
      "text/plain": [
       "  0%|          | 0/10000 [00:00<?, ?it/s]"
      ]
     },
     "metadata": {},
     "output_type": "display_data"
    },
    {
     "name": "stdout",
     "output_type": "stream",
     "text": [
      "\n",
      " Early Stopping / epoch: 243 loss: 0.008698\n",
      "----------------------------------------------------------------------------------------------------------\n",
      "lr: 0.001  patience: 20  num_layers: 2  batch_size: 128  hidden_size: 8  dropout: 0.25 criterion: <function criterion3 at 0x000001F4A9CA7880>\n"
     ]
    },
    {
     "data": {
      "application/vnd.jupyter.widget-view+json": {
       "model_id": "b3a537f72f204208ad18ccc7ebfe3d78",
       "version_major": 2,
       "version_minor": 0
      },
      "text/plain": [
       "  0%|          | 0/10000 [00:00<?, ?it/s]"
      ]
     },
     "metadata": {},
     "output_type": "display_data"
    },
    {
     "name": "stdout",
     "output_type": "stream",
     "text": [
      "\n",
      " Early Stopping / epoch: 171 loss: 0.001666\n",
      "----------------------------------------------------------------------------------------------------------\n",
      "lr: 0.001  patience: 20  num_layers: 2  batch_size: 128  hidden_size: 8  dropout: 0.5 criterion: MSELoss()\n"
     ]
    },
    {
     "data": {
      "application/vnd.jupyter.widget-view+json": {
       "model_id": "19356745c4c84944978846f5a9ad01eb",
       "version_major": 2,
       "version_minor": 0
      },
      "text/plain": [
       "  0%|          | 0/10000 [00:00<?, ?it/s]"
      ]
     },
     "metadata": {},
     "output_type": "display_data"
    },
    {
     "name": "stdout",
     "output_type": "stream",
     "text": [
      "\n",
      " Early Stopping / epoch: 628 loss: 0.000246\n",
      "----------------------------------------------------------------------------------------------------------\n",
      "lr: 0.001  patience: 20  num_layers: 2  batch_size: 128  hidden_size: 8  dropout: 0.5 criterion: <function criterion2 at 0x000001F4A9CA77F0>\n"
     ]
    },
    {
     "data": {
      "application/vnd.jupyter.widget-view+json": {
       "model_id": "7660c5e702bb458ea4b3ba95d16d52f9",
       "version_major": 2,
       "version_minor": 0
      },
      "text/plain": [
       "  0%|          | 0/10000 [00:00<?, ?it/s]"
      ]
     },
     "metadata": {},
     "output_type": "display_data"
    },
    {
     "name": "stdout",
     "output_type": "stream",
     "text": [
      "\n",
      " Early Stopping / epoch: 133 loss: 0.009475\n",
      "----------------------------------------------------------------------------------------------------------\n",
      "lr: 0.001  patience: 20  num_layers: 2  batch_size: 128  hidden_size: 8  dropout: 0.5 criterion: <function criterion3 at 0x000001F4A9CA7880>\n"
     ]
    },
    {
     "data": {
      "application/vnd.jupyter.widget-view+json": {
       "model_id": "6922451684b240ae82c3da87cc01158e",
       "version_major": 2,
       "version_minor": 0
      },
      "text/plain": [
       "  0%|          | 0/10000 [00:00<?, ?it/s]"
      ]
     },
     "metadata": {},
     "output_type": "display_data"
    },
    {
     "name": "stdout",
     "output_type": "stream",
     "text": [
      "\n",
      " Early Stopping / epoch: 332 loss: 0.001208\n",
      "----------------------------------------------------------------------------------------------------------\n",
      "lr: 0.001  patience: 20  num_layers: 2  batch_size: 128  hidden_size: 16  dropout: 0.25 criterion: MSELoss()\n"
     ]
    },
    {
     "data": {
      "application/vnd.jupyter.widget-view+json": {
       "model_id": "ef297547951645b7a9effd622f6129ed",
       "version_major": 2,
       "version_minor": 0
      },
      "text/plain": [
       "  0%|          | 0/10000 [00:00<?, ?it/s]"
      ]
     },
     "metadata": {},
     "output_type": "display_data"
    },
    {
     "name": "stdout",
     "output_type": "stream",
     "text": [
      "\n",
      " Early Stopping / epoch: 307 loss: 0.000125\n",
      "----------------------------------------------------------------------------------------------------------\n",
      "lr: 0.001  patience: 20  num_layers: 2  batch_size: 128  hidden_size: 16  dropout: 0.25 criterion: <function criterion2 at 0x000001F4A9CA77F0>\n"
     ]
    },
    {
     "data": {
      "application/vnd.jupyter.widget-view+json": {
       "model_id": "e9937a85cdd24a1ebffa853e07f2c187",
       "version_major": 2,
       "version_minor": 0
      },
      "text/plain": [
       "  0%|          | 0/10000 [00:00<?, ?it/s]"
      ]
     },
     "metadata": {},
     "output_type": "display_data"
    },
    {
     "name": "stdout",
     "output_type": "stream",
     "text": [
      "\n",
      " Early Stopping / epoch: 354 loss: 0.008001\n",
      "----------------------------------------------------------------------------------------------------------\n",
      "lr: 0.001  patience: 20  num_layers: 2  batch_size: 128  hidden_size: 16  dropout: 0.25 criterion: <function criterion3 at 0x000001F4A9CA7880>\n"
     ]
    },
    {
     "data": {
      "application/vnd.jupyter.widget-view+json": {
       "model_id": "6b1f873da15d424383abc90a1394006f",
       "version_major": 2,
       "version_minor": 0
      },
      "text/plain": [
       "  0%|          | 0/10000 [00:00<?, ?it/s]"
      ]
     },
     "metadata": {},
     "output_type": "display_data"
    },
    {
     "name": "stdout",
     "output_type": "stream",
     "text": [
      "\n",
      " Early Stopping / epoch: 296 loss: 0.001096\n",
      "----------------------------------------------------------------------------------------------------------\n",
      "lr: 0.001  patience: 20  num_layers: 2  batch_size: 128  hidden_size: 16  dropout: 0.5 criterion: MSELoss()\n"
     ]
    },
    {
     "data": {
      "application/vnd.jupyter.widget-view+json": {
       "model_id": "aba71331f09e4947a7f7683874a56378",
       "version_major": 2,
       "version_minor": 0
      },
      "text/plain": [
       "  0%|          | 0/10000 [00:00<?, ?it/s]"
      ]
     },
     "metadata": {},
     "output_type": "display_data"
    },
    {
     "name": "stdout",
     "output_type": "stream",
     "text": [
      "\n",
      " Early Stopping / epoch: 549 loss: 0.000127\n",
      "----------------------------------------------------------------------------------------------------------\n",
      "lr: 0.001  patience: 20  num_layers: 2  batch_size: 128  hidden_size: 16  dropout: 0.5 criterion: <function criterion2 at 0x000001F4A9CA77F0>\n"
     ]
    },
    {
     "data": {
      "application/vnd.jupyter.widget-view+json": {
       "model_id": "3db2257d43d248c19478bbdc59d4d338",
       "version_major": 2,
       "version_minor": 0
      },
      "text/plain": [
       "  0%|          | 0/10000 [00:00<?, ?it/s]"
      ]
     },
     "metadata": {},
     "output_type": "display_data"
    },
    {
     "name": "stdout",
     "output_type": "stream",
     "text": [
      "\n",
      " Early Stopping / epoch: 347 loss: 0.007949\n",
      "----------------------------------------------------------------------------------------------------------\n",
      "lr: 0.001  patience: 20  num_layers: 2  batch_size: 128  hidden_size: 16  dropout: 0.5 criterion: <function criterion3 at 0x000001F4A9CA7880>\n"
     ]
    },
    {
     "data": {
      "application/vnd.jupyter.widget-view+json": {
       "model_id": "748fcdf905b44e7c8fb5dc7b27f2dd21",
       "version_major": 2,
       "version_minor": 0
      },
      "text/plain": [
       "  0%|          | 0/10000 [00:00<?, ?it/s]"
      ]
     },
     "metadata": {},
     "output_type": "display_data"
    },
    {
     "name": "stdout",
     "output_type": "stream",
     "text": [
      "\n",
      " Early Stopping / epoch: 182 loss: 0.001270\n",
      "----------------------------------------------------------------------------------------------------------\n",
      "lr: 0.001  patience: 20  num_layers: 2  batch_size: 128  hidden_size: 32  dropout: 0.25 criterion: MSELoss()\n"
     ]
    },
    {
     "data": {
      "application/vnd.jupyter.widget-view+json": {
       "model_id": "9445177251ea49c49339e9d5ffd0facc",
       "version_major": 2,
       "version_minor": 0
      },
      "text/plain": [
       "  0%|          | 0/10000 [00:00<?, ?it/s]"
      ]
     },
     "metadata": {},
     "output_type": "display_data"
    },
    {
     "name": "stdout",
     "output_type": "stream",
     "text": [
      "\n",
      " Early Stopping / epoch: 380 loss: 0.000163\n",
      "----------------------------------------------------------------------------------------------------------\n",
      "lr: 0.001  patience: 20  num_layers: 2  batch_size: 128  hidden_size: 32  dropout: 0.25 criterion: <function criterion2 at 0x000001F4A9CA77F0>\n"
     ]
    },
    {
     "data": {
      "application/vnd.jupyter.widget-view+json": {
       "model_id": "5d0a617f55a94ce3b5110938c37e252b",
       "version_major": 2,
       "version_minor": 0
      },
      "text/plain": [
       "  0%|          | 0/10000 [00:00<?, ?it/s]"
      ]
     },
     "metadata": {},
     "output_type": "display_data"
    },
    {
     "name": "stdout",
     "output_type": "stream",
     "text": [
      "\n",
      " Early Stopping / epoch: 234 loss: 0.007836\n",
      "----------------------------------------------------------------------------------------------------------\n",
      "lr: 0.001  patience: 20  num_layers: 2  batch_size: 128  hidden_size: 32  dropout: 0.25 criterion: <function criterion3 at 0x000001F4A9CA7880>\n"
     ]
    },
    {
     "data": {
      "application/vnd.jupyter.widget-view+json": {
       "model_id": "e4cdd0815dd04372982c9ef60a47d610",
       "version_major": 2,
       "version_minor": 0
      },
      "text/plain": [
       "  0%|          | 0/10000 [00:00<?, ?it/s]"
      ]
     },
     "metadata": {},
     "output_type": "display_data"
    },
    {
     "name": "stdout",
     "output_type": "stream",
     "text": [
      "\n",
      " Early Stopping / epoch: 291 loss: 0.000967\n",
      "----------------------------------------------------------------------------------------------------------\n",
      "lr: 0.001  patience: 20  num_layers: 2  batch_size: 128  hidden_size: 32  dropout: 0.5 criterion: MSELoss()\n"
     ]
    },
    {
     "data": {
      "application/vnd.jupyter.widget-view+json": {
       "model_id": "33df40bfab6243068b970f4ab608c94c",
       "version_major": 2,
       "version_minor": 0
      },
      "text/plain": [
       "  0%|          | 0/10000 [00:00<?, ?it/s]"
      ]
     },
     "metadata": {},
     "output_type": "display_data"
    },
    {
     "name": "stdout",
     "output_type": "stream",
     "text": [
      "\n",
      " Early Stopping / epoch: 365 loss: 0.000117\n",
      "----------------------------------------------------------------------------------------------------------\n",
      "lr: 0.001  patience: 20  num_layers: 2  batch_size: 128  hidden_size: 32  dropout: 0.5 criterion: <function criterion2 at 0x000001F4A9CA77F0>\n"
     ]
    },
    {
     "data": {
      "application/vnd.jupyter.widget-view+json": {
       "model_id": "e1242e8c756746bf8eef336a18c038ff",
       "version_major": 2,
       "version_minor": 0
      },
      "text/plain": [
       "  0%|          | 0/10000 [00:00<?, ?it/s]"
      ]
     },
     "metadata": {},
     "output_type": "display_data"
    },
    {
     "name": "stdout",
     "output_type": "stream",
     "text": [
      "\n",
      " Early Stopping / epoch: 238 loss: 0.007486\n",
      "----------------------------------------------------------------------------------------------------------\n",
      "lr: 0.001  patience: 20  num_layers: 2  batch_size: 128  hidden_size: 32  dropout: 0.5 criterion: <function criterion3 at 0x000001F4A9CA7880>\n"
     ]
    },
    {
     "data": {
      "application/vnd.jupyter.widget-view+json": {
       "model_id": "3866e8393673483b949243eaaa29d9d2",
       "version_major": 2,
       "version_minor": 0
      },
      "text/plain": [
       "  0%|          | 0/10000 [00:00<?, ?it/s]"
      ]
     },
     "metadata": {},
     "output_type": "display_data"
    },
    {
     "name": "stdout",
     "output_type": "stream",
     "text": [
      "\n",
      " Early Stopping / epoch: 263 loss: 0.001046\n",
      "----------------------------------------------------------------------------------------------------------\n",
      "lr: 0.001  patience: 20  num_layers: 4  batch_size: 32  hidden_size: 8  dropout: 0.25 criterion: MSELoss()\n"
     ]
    },
    {
     "data": {
      "application/vnd.jupyter.widget-view+json": {
       "model_id": "fd2f4a110cbf4aa2bcd390188506b7b0",
       "version_major": 2,
       "version_minor": 0
      },
      "text/plain": [
       "  0%|          | 0/10000 [00:00<?, ?it/s]"
      ]
     },
     "metadata": {},
     "output_type": "display_data"
    },
    {
     "name": "stdout",
     "output_type": "stream",
     "text": [
      "\n",
      " Early Stopping / epoch: 198 loss: 0.000339\n",
      "----------------------------------------------------------------------------------------------------------\n",
      "lr: 0.001  patience: 20  num_layers: 4  batch_size: 32  hidden_size: 8  dropout: 0.25 criterion: <function criterion2 at 0x000001F4A9CA77F0>\n"
     ]
    },
    {
     "data": {
      "application/vnd.jupyter.widget-view+json": {
       "model_id": "1b7b87367c7b4c84b88a71a60c56616f",
       "version_major": 2,
       "version_minor": 0
      },
      "text/plain": [
       "  0%|          | 0/10000 [00:00<?, ?it/s]"
      ]
     },
     "metadata": {},
     "output_type": "display_data"
    },
    {
     "name": "stdout",
     "output_type": "stream",
     "text": [
      "\n",
      " Early Stopping / epoch: 276 loss: 0.008632\n",
      "----------------------------------------------------------------------------------------------------------\n",
      "lr: 0.001  patience: 20  num_layers: 4  batch_size: 32  hidden_size: 8  dropout: 0.25 criterion: <function criterion3 at 0x000001F4A9CA7880>\n"
     ]
    },
    {
     "data": {
      "application/vnd.jupyter.widget-view+json": {
       "model_id": "fc360669149c4f0fb4002c43c94c12f6",
       "version_major": 2,
       "version_minor": 0
      },
      "text/plain": [
       "  0%|          | 0/10000 [00:00<?, ?it/s]"
      ]
     },
     "metadata": {},
     "output_type": "display_data"
    },
    {
     "name": "stdout",
     "output_type": "stream",
     "text": [
      "\n",
      " Early Stopping / epoch: 159 loss: 0.002242\n",
      "----------------------------------------------------------------------------------------------------------\n",
      "lr: 0.001  patience: 20  num_layers: 4  batch_size: 32  hidden_size: 8  dropout: 0.5 criterion: MSELoss()\n"
     ]
    },
    {
     "data": {
      "application/vnd.jupyter.widget-view+json": {
       "model_id": "ba9006fe8f324df99e5c8527707222fc",
       "version_major": 2,
       "version_minor": 0
      },
      "text/plain": [
       "  0%|          | 0/10000 [00:00<?, ?it/s]"
      ]
     },
     "metadata": {},
     "output_type": "display_data"
    },
    {
     "name": "stdout",
     "output_type": "stream",
     "text": [
      "\n",
      " Early Stopping / epoch: 196 loss: 0.000317\n",
      "----------------------------------------------------------------------------------------------------------\n",
      "lr: 0.001  patience: 20  num_layers: 4  batch_size: 32  hidden_size: 8  dropout: 0.5 criterion: <function criterion2 at 0x000001F4A9CA77F0>\n"
     ]
    },
    {
     "data": {
      "application/vnd.jupyter.widget-view+json": {
       "model_id": "2b3bbd9a406f436fafcf103177e1a468",
       "version_major": 2,
       "version_minor": 0
      },
      "text/plain": [
       "  0%|          | 0/10000 [00:00<?, ?it/s]"
      ]
     },
     "metadata": {},
     "output_type": "display_data"
    },
    {
     "name": "stdout",
     "output_type": "stream",
     "text": [
      "\n",
      " Early Stopping / epoch: 172 loss: 0.009271\n",
      "----------------------------------------------------------------------------------------------------------\n",
      "lr: 0.001  patience: 20  num_layers: 4  batch_size: 32  hidden_size: 8  dropout: 0.5 criterion: <function criterion3 at 0x000001F4A9CA7880>\n"
     ]
    },
    {
     "data": {
      "application/vnd.jupyter.widget-view+json": {
       "model_id": "2dd7bc164b1a4619a08dd9efa99531de",
       "version_major": 2,
       "version_minor": 0
      },
      "text/plain": [
       "  0%|          | 0/10000 [00:00<?, ?it/s]"
      ]
     },
     "metadata": {},
     "output_type": "display_data"
    },
    {
     "name": "stdout",
     "output_type": "stream",
     "text": [
      "\n",
      " Early Stopping / epoch: 176 loss: 0.002849\n",
      "----------------------------------------------------------------------------------------------------------\n",
      "lr: 0.001  patience: 20  num_layers: 4  batch_size: 32  hidden_size: 16  dropout: 0.25 criterion: MSELoss()\n"
     ]
    },
    {
     "data": {
      "application/vnd.jupyter.widget-view+json": {
       "model_id": "08a00e54200647749029321e8dbfeb62",
       "version_major": 2,
       "version_minor": 0
      },
      "text/plain": [
       "  0%|          | 0/10000 [00:00<?, ?it/s]"
      ]
     },
     "metadata": {},
     "output_type": "display_data"
    },
    {
     "name": "stdout",
     "output_type": "stream",
     "text": [
      "\n",
      " Early Stopping / epoch: 166 loss: 0.000298\n",
      "----------------------------------------------------------------------------------------------------------\n",
      "lr: 0.001  patience: 20  num_layers: 4  batch_size: 32  hidden_size: 16  dropout: 0.25 criterion: <function criterion2 at 0x000001F4A9CA77F0>\n"
     ]
    },
    {
     "data": {
      "application/vnd.jupyter.widget-view+json": {
       "model_id": "25dfbf4c1f874327b0d8bff8aa11a7ff",
       "version_major": 2,
       "version_minor": 0
      },
      "text/plain": [
       "  0%|          | 0/10000 [00:00<?, ?it/s]"
      ]
     },
     "metadata": {},
     "output_type": "display_data"
    },
    {
     "name": "stdout",
     "output_type": "stream",
     "text": [
      "\n",
      " Early Stopping / epoch: 114 loss: 0.009061\n",
      "----------------------------------------------------------------------------------------------------------\n",
      "lr: 0.001  patience: 20  num_layers: 4  batch_size: 32  hidden_size: 16  dropout: 0.25 criterion: <function criterion3 at 0x000001F4A9CA7880>\n"
     ]
    },
    {
     "data": {
      "application/vnd.jupyter.widget-view+json": {
       "model_id": "f2029542bd8943f680f2163178c284c5",
       "version_major": 2,
       "version_minor": 0
      },
      "text/plain": [
       "  0%|          | 0/10000 [00:00<?, ?it/s]"
      ]
     },
     "metadata": {},
     "output_type": "display_data"
    },
    {
     "name": "stdout",
     "output_type": "stream",
     "text": [
      "\n",
      " Early Stopping / epoch: 227 loss: 0.001924\n",
      "----------------------------------------------------------------------------------------------------------\n",
      "lr: 0.001  patience: 20  num_layers: 4  batch_size: 32  hidden_size: 16  dropout: 0.5 criterion: MSELoss()\n"
     ]
    },
    {
     "data": {
      "application/vnd.jupyter.widget-view+json": {
       "model_id": "4ce46c4df4a543f8858f7a7aadd17189",
       "version_major": 2,
       "version_minor": 0
      },
      "text/plain": [
       "  0%|          | 0/10000 [00:00<?, ?it/s]"
      ]
     },
     "metadata": {},
     "output_type": "display_data"
    },
    {
     "name": "stdout",
     "output_type": "stream",
     "text": [
      "\n",
      " Early Stopping / epoch: 169 loss: 0.000254\n",
      "----------------------------------------------------------------------------------------------------------\n",
      "lr: 0.001  patience: 20  num_layers: 4  batch_size: 32  hidden_size: 16  dropout: 0.5 criterion: <function criterion2 at 0x000001F4A9CA77F0>\n"
     ]
    },
    {
     "data": {
      "application/vnd.jupyter.widget-view+json": {
       "model_id": "cd0f3bf7e07646ffb8197afa06075b04",
       "version_major": 2,
       "version_minor": 0
      },
      "text/plain": [
       "  0%|          | 0/10000 [00:00<?, ?it/s]"
      ]
     },
     "metadata": {},
     "output_type": "display_data"
    },
    {
     "name": "stdout",
     "output_type": "stream",
     "text": [
      "\n",
      " Early Stopping / epoch: 212 loss: 0.011033\n",
      "----------------------------------------------------------------------------------------------------------\n",
      "lr: 0.001  patience: 20  num_layers: 4  batch_size: 32  hidden_size: 16  dropout: 0.5 criterion: <function criterion3 at 0x000001F4A9CA7880>\n"
     ]
    },
    {
     "data": {
      "application/vnd.jupyter.widget-view+json": {
       "model_id": "8eb52d15a6dc45c9bbb9adea47506960",
       "version_major": 2,
       "version_minor": 0
      },
      "text/plain": [
       "  0%|          | 0/10000 [00:00<?, ?it/s]"
      ]
     },
     "metadata": {},
     "output_type": "display_data"
    },
    {
     "name": "stdout",
     "output_type": "stream",
     "text": [
      "\n",
      " Early Stopping / epoch: 188 loss: 0.002069\n",
      "----------------------------------------------------------------------------------------------------------\n",
      "lr: 0.001  patience: 20  num_layers: 4  batch_size: 32  hidden_size: 32  dropout: 0.25 criterion: MSELoss()\n"
     ]
    },
    {
     "data": {
      "application/vnd.jupyter.widget-view+json": {
       "model_id": "60de4610b9644017a4446010a888ab54",
       "version_major": 2,
       "version_minor": 0
      },
      "text/plain": [
       "  0%|          | 0/10000 [00:00<?, ?it/s]"
      ]
     },
     "metadata": {},
     "output_type": "display_data"
    },
    {
     "name": "stdout",
     "output_type": "stream",
     "text": [
      "\n",
      " Early Stopping / epoch: 108 loss: 0.000343\n",
      "----------------------------------------------------------------------------------------------------------\n",
      "lr: 0.001  patience: 20  num_layers: 4  batch_size: 32  hidden_size: 32  dropout: 0.25 criterion: <function criterion2 at 0x000001F4A9CA77F0>\n"
     ]
    },
    {
     "data": {
      "application/vnd.jupyter.widget-view+json": {
       "model_id": "eaa19f0ce794489182f2838d317482be",
       "version_major": 2,
       "version_minor": 0
      },
      "text/plain": [
       "  0%|          | 0/10000 [00:00<?, ?it/s]"
      ]
     },
     "metadata": {},
     "output_type": "display_data"
    },
    {
     "name": "stdout",
     "output_type": "stream",
     "text": [
      "\n",
      " Early Stopping / epoch: 260 loss: 0.006821\n",
      "----------------------------------------------------------------------------------------------------------\n",
      "lr: 0.001  patience: 20  num_layers: 4  batch_size: 32  hidden_size: 32  dropout: 0.25 criterion: <function criterion3 at 0x000001F4A9CA7880>\n"
     ]
    },
    {
     "data": {
      "application/vnd.jupyter.widget-view+json": {
       "model_id": "56ab74c336a94e87830b544808db6b49",
       "version_major": 2,
       "version_minor": 0
      },
      "text/plain": [
       "  0%|          | 0/10000 [00:00<?, ?it/s]"
      ]
     },
     "metadata": {},
     "output_type": "display_data"
    },
    {
     "name": "stdout",
     "output_type": "stream",
     "text": [
      "\n",
      " Early Stopping / epoch: 124 loss: 0.002199\n",
      "----------------------------------------------------------------------------------------------------------\n",
      "lr: 0.001  patience: 20  num_layers: 4  batch_size: 32  hidden_size: 32  dropout: 0.5 criterion: MSELoss()\n"
     ]
    },
    {
     "data": {
      "application/vnd.jupyter.widget-view+json": {
       "model_id": "5f60f65d438a40e1ab912340254d973a",
       "version_major": 2,
       "version_minor": 0
      },
      "text/plain": [
       "  0%|          | 0/10000 [00:00<?, ?it/s]"
      ]
     },
     "metadata": {},
     "output_type": "display_data"
    },
    {
     "name": "stdout",
     "output_type": "stream",
     "text": [
      "\n",
      " Early Stopping / epoch: 113 loss: 0.000285\n",
      "----------------------------------------------------------------------------------------------------------\n",
      "lr: 0.001  patience: 20  num_layers: 4  batch_size: 32  hidden_size: 32  dropout: 0.5 criterion: <function criterion2 at 0x000001F4A9CA77F0>\n"
     ]
    },
    {
     "data": {
      "application/vnd.jupyter.widget-view+json": {
       "model_id": "5fd6a6a43cfb412da14349b57d14aafb",
       "version_major": 2,
       "version_minor": 0
      },
      "text/plain": [
       "  0%|          | 0/10000 [00:00<?, ?it/s]"
      ]
     },
     "metadata": {},
     "output_type": "display_data"
    },
    {
     "name": "stdout",
     "output_type": "stream",
     "text": [
      "\n",
      " Early Stopping / epoch: 191 loss: 0.007264\n",
      "----------------------------------------------------------------------------------------------------------\n",
      "lr: 0.001  patience: 20  num_layers: 4  batch_size: 32  hidden_size: 32  dropout: 0.5 criterion: <function criterion3 at 0x000001F4A9CA7880>\n"
     ]
    },
    {
     "data": {
      "application/vnd.jupyter.widget-view+json": {
       "model_id": "0fa15d44c021485d82c889edd8081b4a",
       "version_major": 2,
       "version_minor": 0
      },
      "text/plain": [
       "  0%|          | 0/10000 [00:00<?, ?it/s]"
      ]
     },
     "metadata": {},
     "output_type": "display_data"
    },
    {
     "name": "stdout",
     "output_type": "stream",
     "text": [
      "\n",
      " Early Stopping / epoch: 143 loss: 0.002077\n",
      "----------------------------------------------------------------------------------------------------------\n",
      "lr: 0.001  patience: 20  num_layers: 4  batch_size: 64  hidden_size: 8  dropout: 0.25 criterion: MSELoss()\n"
     ]
    },
    {
     "data": {
      "application/vnd.jupyter.widget-view+json": {
       "model_id": "0a7cd7b18eaa481e9a5a1cdce069b64c",
       "version_major": 2,
       "version_minor": 0
      },
      "text/plain": [
       "  0%|          | 0/10000 [00:00<?, ?it/s]"
      ]
     },
     "metadata": {},
     "output_type": "display_data"
    },
    {
     "name": "stdout",
     "output_type": "stream",
     "text": [
      "\n",
      " Early Stopping / epoch: 196 loss: 0.000328\n",
      "----------------------------------------------------------------------------------------------------------\n",
      "lr: 0.001  patience: 20  num_layers: 4  batch_size: 64  hidden_size: 8  dropout: 0.25 criterion: <function criterion2 at 0x000001F4A9CA77F0>\n"
     ]
    },
    {
     "data": {
      "application/vnd.jupyter.widget-view+json": {
       "model_id": "90a3d0523c5f40c4b274f9fe9c7ce75f",
       "version_major": 2,
       "version_minor": 0
      },
      "text/plain": [
       "  0%|          | 0/10000 [00:00<?, ?it/s]"
      ]
     },
     "metadata": {},
     "output_type": "display_data"
    },
    {
     "name": "stdout",
     "output_type": "stream",
     "text": [
      "\n",
      " Early Stopping / epoch: 166 loss: 0.009328\n",
      "----------------------------------------------------------------------------------------------------------\n",
      "lr: 0.001  patience: 20  num_layers: 4  batch_size: 64  hidden_size: 8  dropout: 0.25 criterion: <function criterion3 at 0x000001F4A9CA7880>\n"
     ]
    },
    {
     "data": {
      "application/vnd.jupyter.widget-view+json": {
       "model_id": "4f0cf28bdc874000a2915711578094f0",
       "version_major": 2,
       "version_minor": 0
      },
      "text/plain": [
       "  0%|          | 0/10000 [00:00<?, ?it/s]"
      ]
     },
     "metadata": {},
     "output_type": "display_data"
    },
    {
     "name": "stdout",
     "output_type": "stream",
     "text": [
      "\n",
      " Early Stopping / epoch: 221 loss: 0.001591\n",
      "----------------------------------------------------------------------------------------------------------\n",
      "lr: 0.001  patience: 20  num_layers: 4  batch_size: 64  hidden_size: 8  dropout: 0.5 criterion: MSELoss()\n"
     ]
    },
    {
     "data": {
      "application/vnd.jupyter.widget-view+json": {
       "model_id": "f6a5646e14a24f0dad484b917647b1b0",
       "version_major": 2,
       "version_minor": 0
      },
      "text/plain": [
       "  0%|          | 0/10000 [00:00<?, ?it/s]"
      ]
     },
     "metadata": {},
     "output_type": "display_data"
    },
    {
     "name": "stdout",
     "output_type": "stream",
     "text": [
      "\n",
      " Early Stopping / epoch: 168 loss: 0.000396\n",
      "----------------------------------------------------------------------------------------------------------\n",
      "lr: 0.001  patience: 20  num_layers: 4  batch_size: 64  hidden_size: 8  dropout: 0.5 criterion: <function criterion2 at 0x000001F4A9CA77F0>\n"
     ]
    },
    {
     "data": {
      "application/vnd.jupyter.widget-view+json": {
       "model_id": "43582c597aef432591ea95aae8b89489",
       "version_major": 2,
       "version_minor": 0
      },
      "text/plain": [
       "  0%|          | 0/10000 [00:00<?, ?it/s]"
      ]
     },
     "metadata": {},
     "output_type": "display_data"
    },
    {
     "name": "stdout",
     "output_type": "stream",
     "text": [
      "\n",
      " Early Stopping / epoch: 83 loss: 0.009892\n",
      "----------------------------------------------------------------------------------------------------------\n",
      "lr: 0.001  patience: 20  num_layers: 4  batch_size: 64  hidden_size: 8  dropout: 0.5 criterion: <function criterion3 at 0x000001F4A9CA7880>\n"
     ]
    },
    {
     "data": {
      "application/vnd.jupyter.widget-view+json": {
       "model_id": "01daf188b9184c808705304bb91593cf",
       "version_major": 2,
       "version_minor": 0
      },
      "text/plain": [
       "  0%|          | 0/10000 [00:00<?, ?it/s]"
      ]
     },
     "metadata": {},
     "output_type": "display_data"
    },
    {
     "name": "stdout",
     "output_type": "stream",
     "text": [
      "\n",
      " Early Stopping / epoch: 195 loss: 0.001803\n",
      "----------------------------------------------------------------------------------------------------------\n",
      "lr: 0.001  patience: 20  num_layers: 4  batch_size: 64  hidden_size: 16  dropout: 0.25 criterion: MSELoss()\n"
     ]
    },
    {
     "data": {
      "application/vnd.jupyter.widget-view+json": {
       "model_id": "51bcbb9057c244e181826b3a25b02d23",
       "version_major": 2,
       "version_minor": 0
      },
      "text/plain": [
       "  0%|          | 0/10000 [00:00<?, ?it/s]"
      ]
     },
     "metadata": {},
     "output_type": "display_data"
    },
    {
     "name": "stdout",
     "output_type": "stream",
     "text": [
      "\n",
      " Early Stopping / epoch: 195 loss: 0.000323\n",
      "----------------------------------------------------------------------------------------------------------\n",
      "lr: 0.001  patience: 20  num_layers: 4  batch_size: 64  hidden_size: 16  dropout: 0.25 criterion: <function criterion2 at 0x000001F4A9CA77F0>\n"
     ]
    },
    {
     "data": {
      "application/vnd.jupyter.widget-view+json": {
       "model_id": "36f04cfa06854143bf6bc38a9f9862e0",
       "version_major": 2,
       "version_minor": 0
      },
      "text/plain": [
       "  0%|          | 0/10000 [00:00<?, ?it/s]"
      ]
     },
     "metadata": {},
     "output_type": "display_data"
    },
    {
     "name": "stdout",
     "output_type": "stream",
     "text": [
      "\n",
      " Early Stopping / epoch: 158 loss: 0.008956\n",
      "----------------------------------------------------------------------------------------------------------\n",
      "lr: 0.001  patience: 20  num_layers: 4  batch_size: 64  hidden_size: 16  dropout: 0.25 criterion: <function criterion3 at 0x000001F4A9CA7880>\n"
     ]
    },
    {
     "data": {
      "application/vnd.jupyter.widget-view+json": {
       "model_id": "c2e879a999254e62bf6229fc27794ea4",
       "version_major": 2,
       "version_minor": 0
      },
      "text/plain": [
       "  0%|          | 0/10000 [00:00<?, ?it/s]"
      ]
     },
     "metadata": {},
     "output_type": "display_data"
    },
    {
     "name": "stdout",
     "output_type": "stream",
     "text": [
      "\n",
      " Early Stopping / epoch: 140 loss: 0.001634\n",
      "----------------------------------------------------------------------------------------------------------\n",
      "lr: 0.001  patience: 20  num_layers: 4  batch_size: 64  hidden_size: 16  dropout: 0.5 criterion: MSELoss()\n"
     ]
    },
    {
     "data": {
      "application/vnd.jupyter.widget-view+json": {
       "model_id": "7311eac682a14ac4a2a4cdcfae84c50f",
       "version_major": 2,
       "version_minor": 0
      },
      "text/plain": [
       "  0%|          | 0/10000 [00:00<?, ?it/s]"
      ]
     },
     "metadata": {},
     "output_type": "display_data"
    },
    {
     "name": "stdout",
     "output_type": "stream",
     "text": [
      "\n",
      " Early Stopping / epoch: 208 loss: 0.000225\n",
      "----------------------------------------------------------------------------------------------------------\n",
      "lr: 0.001  patience: 20  num_layers: 4  batch_size: 64  hidden_size: 16  dropout: 0.5 criterion: <function criterion2 at 0x000001F4A9CA77F0>\n"
     ]
    },
    {
     "data": {
      "application/vnd.jupyter.widget-view+json": {
       "model_id": "6502d7be7c814bfda7c57c4ce21db879",
       "version_major": 2,
       "version_minor": 0
      },
      "text/plain": [
       "  0%|          | 0/10000 [00:00<?, ?it/s]"
      ]
     },
     "metadata": {},
     "output_type": "display_data"
    },
    {
     "name": "stdout",
     "output_type": "stream",
     "text": [
      "\n",
      " Early Stopping / epoch: 290 loss: 0.007618\n",
      "----------------------------------------------------------------------------------------------------------\n",
      "lr: 0.001  patience: 20  num_layers: 4  batch_size: 64  hidden_size: 16  dropout: 0.5 criterion: <function criterion3 at 0x000001F4A9CA7880>\n"
     ]
    },
    {
     "data": {
      "application/vnd.jupyter.widget-view+json": {
       "model_id": "b9b0615edb1641b8b652d9a540261330",
       "version_major": 2,
       "version_minor": 0
      },
      "text/plain": [
       "  0%|          | 0/10000 [00:00<?, ?it/s]"
      ]
     },
     "metadata": {},
     "output_type": "display_data"
    },
    {
     "name": "stdout",
     "output_type": "stream",
     "text": [
      "\n",
      " Early Stopping / epoch: 208 loss: 0.001575\n",
      "----------------------------------------------------------------------------------------------------------\n",
      "lr: 0.001  patience: 20  num_layers: 4  batch_size: 64  hidden_size: 32  dropout: 0.25 criterion: MSELoss()\n"
     ]
    },
    {
     "data": {
      "application/vnd.jupyter.widget-view+json": {
       "model_id": "09a9f9afe2ae4bf8af1c643d48dee42f",
       "version_major": 2,
       "version_minor": 0
      },
      "text/plain": [
       "  0%|          | 0/10000 [00:00<?, ?it/s]"
      ]
     },
     "metadata": {},
     "output_type": "display_data"
    },
    {
     "name": "stdout",
     "output_type": "stream",
     "text": [
      "\n",
      " Early Stopping / epoch: 132 loss: 0.000249\n",
      "----------------------------------------------------------------------------------------------------------\n",
      "lr: 0.001  patience: 20  num_layers: 4  batch_size: 64  hidden_size: 32  dropout: 0.25 criterion: <function criterion2 at 0x000001F4A9CA77F0>\n"
     ]
    },
    {
     "data": {
      "application/vnd.jupyter.widget-view+json": {
       "model_id": "6cb414c35981464ba7eafe24429a0a32",
       "version_major": 2,
       "version_minor": 0
      },
      "text/plain": [
       "  0%|          | 0/10000 [00:00<?, ?it/s]"
      ]
     },
     "metadata": {},
     "output_type": "display_data"
    },
    {
     "name": "stdout",
     "output_type": "stream",
     "text": [
      "\n",
      " Early Stopping / epoch: 164 loss: 0.007526\n",
      "----------------------------------------------------------------------------------------------------------\n",
      "lr: 0.001  patience: 20  num_layers: 4  batch_size: 64  hidden_size: 32  dropout: 0.25 criterion: <function criterion3 at 0x000001F4A9CA7880>\n"
     ]
    },
    {
     "data": {
      "application/vnd.jupyter.widget-view+json": {
       "model_id": "5976b0c7c4a248d8ab61f66dcd60a26b",
       "version_major": 2,
       "version_minor": 0
      },
      "text/plain": [
       "  0%|          | 0/10000 [00:00<?, ?it/s]"
      ]
     },
     "metadata": {},
     "output_type": "display_data"
    },
    {
     "name": "stdout",
     "output_type": "stream",
     "text": [
      "\n",
      " Early Stopping / epoch: 227 loss: 0.001246\n",
      "----------------------------------------------------------------------------------------------------------\n",
      "lr: 0.001  patience: 20  num_layers: 4  batch_size: 64  hidden_size: 32  dropout: 0.5 criterion: MSELoss()\n"
     ]
    },
    {
     "data": {
      "application/vnd.jupyter.widget-view+json": {
       "model_id": "e199917678764adcb441ccf695136f76",
       "version_major": 2,
       "version_minor": 0
      },
      "text/plain": [
       "  0%|          | 0/10000 [00:00<?, ?it/s]"
      ]
     },
     "metadata": {},
     "output_type": "display_data"
    },
    {
     "name": "stdout",
     "output_type": "stream",
     "text": [
      "\n",
      " Early Stopping / epoch: 185 loss: 0.000210\n",
      "----------------------------------------------------------------------------------------------------------\n",
      "lr: 0.001  patience: 20  num_layers: 4  batch_size: 64  hidden_size: 32  dropout: 0.5 criterion: <function criterion2 at 0x000001F4A9CA77F0>\n"
     ]
    },
    {
     "data": {
      "application/vnd.jupyter.widget-view+json": {
       "model_id": "3c0ebe3f5f2b4ad991a6f8a15d80ef92",
       "version_major": 2,
       "version_minor": 0
      },
      "text/plain": [
       "  0%|          | 0/10000 [00:00<?, ?it/s]"
      ]
     },
     "metadata": {},
     "output_type": "display_data"
    },
    {
     "name": "stdout",
     "output_type": "stream",
     "text": [
      "\n",
      " Early Stopping / epoch: 133 loss: 0.007814\n",
      "----------------------------------------------------------------------------------------------------------\n",
      "lr: 0.001  patience: 20  num_layers: 4  batch_size: 64  hidden_size: 32  dropout: 0.5 criterion: <function criterion3 at 0x000001F4A9CA7880>\n"
     ]
    },
    {
     "data": {
      "application/vnd.jupyter.widget-view+json": {
       "model_id": "664a215232ea463a9ee83deba6e900c6",
       "version_major": 2,
       "version_minor": 0
      },
      "text/plain": [
       "  0%|          | 0/10000 [00:00<?, ?it/s]"
      ]
     },
     "metadata": {},
     "output_type": "display_data"
    },
    {
     "name": "stdout",
     "output_type": "stream",
     "text": [
      "\n",
      " Early Stopping / epoch: 178 loss: 0.001525\n",
      "----------------------------------------------------------------------------------------------------------\n",
      "lr: 0.001  patience: 20  num_layers: 4  batch_size: 128  hidden_size: 8  dropout: 0.25 criterion: MSELoss()\n"
     ]
    },
    {
     "data": {
      "application/vnd.jupyter.widget-view+json": {
       "model_id": "175a1f8e68b14473aa3d88a827fcce55",
       "version_major": 2,
       "version_minor": 0
      },
      "text/plain": [
       "  0%|          | 0/10000 [00:00<?, ?it/s]"
      ]
     },
     "metadata": {},
     "output_type": "display_data"
    },
    {
     "name": "stdout",
     "output_type": "stream",
     "text": [
      "\n",
      " Early Stopping / epoch: 222 loss: 0.000292\n",
      "----------------------------------------------------------------------------------------------------------\n",
      "lr: 0.001  patience: 20  num_layers: 4  batch_size: 128  hidden_size: 8  dropout: 0.25 criterion: <function criterion2 at 0x000001F4A9CA77F0>\n"
     ]
    },
    {
     "data": {
      "application/vnd.jupyter.widget-view+json": {
       "model_id": "b3b61f94dc0b4731b6620af554236ebe",
       "version_major": 2,
       "version_minor": 0
      },
      "text/plain": [
       "  0%|          | 0/10000 [00:00<?, ?it/s]"
      ]
     },
     "metadata": {},
     "output_type": "display_data"
    },
    {
     "name": "stdout",
     "output_type": "stream",
     "text": [
      "\n",
      " Early Stopping / epoch: 262 loss: 0.008919\n",
      "----------------------------------------------------------------------------------------------------------\n",
      "lr: 0.001  patience: 20  num_layers: 4  batch_size: 128  hidden_size: 8  dropout: 0.25 criterion: <function criterion3 at 0x000001F4A9CA7880>\n"
     ]
    },
    {
     "data": {
      "application/vnd.jupyter.widget-view+json": {
       "model_id": "2696232d3e3a4ec59bc79c40b69c08c4",
       "version_major": 2,
       "version_minor": 0
      },
      "text/plain": [
       "  0%|          | 0/10000 [00:00<?, ?it/s]"
      ]
     },
     "metadata": {},
     "output_type": "display_data"
    },
    {
     "name": "stdout",
     "output_type": "stream",
     "text": [
      "\n",
      " Early Stopping / epoch: 144 loss: 0.001783\n",
      "----------------------------------------------------------------------------------------------------------\n",
      "lr: 0.001  patience: 20  num_layers: 4  batch_size: 128  hidden_size: 8  dropout: 0.5 criterion: MSELoss()\n"
     ]
    },
    {
     "data": {
      "application/vnd.jupyter.widget-view+json": {
       "model_id": "ffa2c40bf998411cb19519fcb13f2bd7",
       "version_major": 2,
       "version_minor": 0
      },
      "text/plain": [
       "  0%|          | 0/10000 [00:00<?, ?it/s]"
      ]
     },
     "metadata": {},
     "output_type": "display_data"
    },
    {
     "name": "stdout",
     "output_type": "stream",
     "text": [
      "\n",
      " Early Stopping / epoch: 408 loss: 0.000344\n",
      "----------------------------------------------------------------------------------------------------------\n",
      "lr: 0.001  patience: 20  num_layers: 4  batch_size: 128  hidden_size: 8  dropout: 0.5 criterion: <function criterion2 at 0x000001F4A9CA77F0>\n"
     ]
    },
    {
     "data": {
      "application/vnd.jupyter.widget-view+json": {
       "model_id": "d8854707074c4050b060ac0a1a01085c",
       "version_major": 2,
       "version_minor": 0
      },
      "text/plain": [
       "  0%|          | 0/10000 [00:00<?, ?it/s]"
      ]
     },
     "metadata": {},
     "output_type": "display_data"
    },
    {
     "name": "stdout",
     "output_type": "stream",
     "text": [
      "\n",
      " Early Stopping / epoch: 173 loss: 0.009108\n",
      "----------------------------------------------------------------------------------------------------------\n",
      "lr: 0.001  patience: 20  num_layers: 4  batch_size: 128  hidden_size: 8  dropout: 0.5 criterion: <function criterion3 at 0x000001F4A9CA7880>\n"
     ]
    },
    {
     "data": {
      "application/vnd.jupyter.widget-view+json": {
       "model_id": "4be79239d0cf41ff8ab1ce506abacfa5",
       "version_major": 2,
       "version_minor": 0
      },
      "text/plain": [
       "  0%|          | 0/10000 [00:00<?, ?it/s]"
      ]
     },
     "metadata": {},
     "output_type": "display_data"
    },
    {
     "name": "stdout",
     "output_type": "stream",
     "text": [
      "\n",
      " Early Stopping / epoch: 249 loss: 0.001330\n",
      "----------------------------------------------------------------------------------------------------------\n",
      "lr: 0.001  patience: 20  num_layers: 4  batch_size: 128  hidden_size: 16  dropout: 0.25 criterion: MSELoss()\n"
     ]
    },
    {
     "data": {
      "application/vnd.jupyter.widget-view+json": {
       "model_id": "7964510786ab48ba941577253bc003d8",
       "version_major": 2,
       "version_minor": 0
      },
      "text/plain": [
       "  0%|          | 0/10000 [00:00<?, ?it/s]"
      ]
     },
     "metadata": {},
     "output_type": "display_data"
    },
    {
     "name": "stdout",
     "output_type": "stream",
     "text": [
      "\n",
      " Early Stopping / epoch: 271 loss: 0.000195\n",
      "----------------------------------------------------------------------------------------------------------\n",
      "lr: 0.001  patience: 20  num_layers: 4  batch_size: 128  hidden_size: 16  dropout: 0.25 criterion: <function criterion2 at 0x000001F4A9CA77F0>\n"
     ]
    },
    {
     "data": {
      "application/vnd.jupyter.widget-view+json": {
       "model_id": "c92f79d4468f419391d54dbe38590d05",
       "version_major": 2,
       "version_minor": 0
      },
      "text/plain": [
       "  0%|          | 0/10000 [00:00<?, ?it/s]"
      ]
     },
     "metadata": {},
     "output_type": "display_data"
    },
    {
     "name": "stdout",
     "output_type": "stream",
     "text": [
      "\n",
      " Early Stopping / epoch: 279 loss: 0.008114\n",
      "----------------------------------------------------------------------------------------------------------\n",
      "lr: 0.001  patience: 20  num_layers: 4  batch_size: 128  hidden_size: 16  dropout: 0.25 criterion: <function criterion3 at 0x000001F4A9CA7880>\n"
     ]
    },
    {
     "data": {
      "application/vnd.jupyter.widget-view+json": {
       "model_id": "d7a0bd5bbfba436d86bed5892f5e3198",
       "version_major": 2,
       "version_minor": 0
      },
      "text/plain": [
       "  0%|          | 0/10000 [00:00<?, ?it/s]"
      ]
     },
     "metadata": {},
     "output_type": "display_data"
    },
    {
     "name": "stdout",
     "output_type": "stream",
     "text": [
      "\n",
      " Early Stopping / epoch: 153 loss: 0.001283\n",
      "----------------------------------------------------------------------------------------------------------\n",
      "lr: 0.001  patience: 20  num_layers: 4  batch_size: 128  hidden_size: 16  dropout: 0.5 criterion: MSELoss()\n"
     ]
    },
    {
     "data": {
      "application/vnd.jupyter.widget-view+json": {
       "model_id": "944b8c60de8b4d8593d9359c2a933f14",
       "version_major": 2,
       "version_minor": 0
      },
      "text/plain": [
       "  0%|          | 0/10000 [00:00<?, ?it/s]"
      ]
     },
     "metadata": {},
     "output_type": "display_data"
    },
    {
     "name": "stdout",
     "output_type": "stream",
     "text": [
      "\n",
      " Early Stopping / epoch: 315 loss: 0.000204\n",
      "----------------------------------------------------------------------------------------------------------\n",
      "lr: 0.001  patience: 20  num_layers: 4  batch_size: 128  hidden_size: 16  dropout: 0.5 criterion: <function criterion2 at 0x000001F4A9CA77F0>\n"
     ]
    },
    {
     "data": {
      "application/vnd.jupyter.widget-view+json": {
       "model_id": "ed09a6ad03f14340b972ce65fe452de4",
       "version_major": 2,
       "version_minor": 0
      },
      "text/plain": [
       "  0%|          | 0/10000 [00:00<?, ?it/s]"
      ]
     },
     "metadata": {},
     "output_type": "display_data"
    },
    {
     "name": "stdout",
     "output_type": "stream",
     "text": [
      "\n",
      " Early Stopping / epoch: 452 loss: 0.007715\n",
      "----------------------------------------------------------------------------------------------------------\n",
      "lr: 0.001  patience: 20  num_layers: 4  batch_size: 128  hidden_size: 16  dropout: 0.5 criterion: <function criterion3 at 0x000001F4A9CA7880>\n"
     ]
    },
    {
     "data": {
      "application/vnd.jupyter.widget-view+json": {
       "model_id": "a7adfbdfc0c74da5b78aefea49f830c0",
       "version_major": 2,
       "version_minor": 0
      },
      "text/plain": [
       "  0%|          | 0/10000 [00:00<?, ?it/s]"
      ]
     },
     "metadata": {},
     "output_type": "display_data"
    },
    {
     "name": "stdout",
     "output_type": "stream",
     "text": [
      "\n",
      " Early Stopping / epoch: 162 loss: 0.001332\n",
      "----------------------------------------------------------------------------------------------------------\n",
      "lr: 0.001  patience: 20  num_layers: 4  batch_size: 128  hidden_size: 32  dropout: 0.25 criterion: MSELoss()\n"
     ]
    },
    {
     "data": {
      "application/vnd.jupyter.widget-view+json": {
       "model_id": "12695b9bf1aa487e875b2d8882911eb4",
       "version_major": 2,
       "version_minor": 0
      },
      "text/plain": [
       "  0%|          | 0/10000 [00:00<?, ?it/s]"
      ]
     },
     "metadata": {},
     "output_type": "display_data"
    },
    {
     "name": "stdout",
     "output_type": "stream",
     "text": [
      "\n",
      " Early Stopping / epoch: 266 loss: 0.000156\n",
      "----------------------------------------------------------------------------------------------------------\n",
      "lr: 0.001  patience: 20  num_layers: 4  batch_size: 128  hidden_size: 32  dropout: 0.25 criterion: <function criterion2 at 0x000001F4A9CA77F0>\n"
     ]
    },
    {
     "data": {
      "application/vnd.jupyter.widget-view+json": {
       "model_id": "d364f4a99f06409cbcbd203177462ec7",
       "version_major": 2,
       "version_minor": 0
      },
      "text/plain": [
       "  0%|          | 0/10000 [00:00<?, ?it/s]"
      ]
     },
     "metadata": {},
     "output_type": "display_data"
    },
    {
     "name": "stdout",
     "output_type": "stream",
     "text": [
      "\n",
      " Early Stopping / epoch: 168 loss: 0.008602\n",
      "----------------------------------------------------------------------------------------------------------\n",
      "lr: 0.001  patience: 20  num_layers: 4  batch_size: 128  hidden_size: 32  dropout: 0.25 criterion: <function criterion3 at 0x000001F4A9CA7880>\n"
     ]
    },
    {
     "data": {
      "application/vnd.jupyter.widget-view+json": {
       "model_id": "a0b8b9460953419ab923864de90049ae",
       "version_major": 2,
       "version_minor": 0
      },
      "text/plain": [
       "  0%|          | 0/10000 [00:00<?, ?it/s]"
      ]
     },
     "metadata": {},
     "output_type": "display_data"
    },
    {
     "name": "stdout",
     "output_type": "stream",
     "text": [
      "\n",
      " Early Stopping / epoch: 173 loss: 0.001101\n",
      "----------------------------------------------------------------------------------------------------------\n",
      "lr: 0.001  patience: 20  num_layers: 4  batch_size: 128  hidden_size: 32  dropout: 0.5 criterion: MSELoss()\n"
     ]
    },
    {
     "data": {
      "application/vnd.jupyter.widget-view+json": {
       "model_id": "4ea1846af6a84faab4459d37b8b7e9ab",
       "version_major": 2,
       "version_minor": 0
      },
      "text/plain": [
       "  0%|          | 0/10000 [00:00<?, ?it/s]"
      ]
     },
     "metadata": {},
     "output_type": "display_data"
    },
    {
     "name": "stdout",
     "output_type": "stream",
     "text": [
      "\n",
      " Early Stopping / epoch: 196 loss: 0.000205\n",
      "----------------------------------------------------------------------------------------------------------\n",
      "lr: 0.001  patience: 20  num_layers: 4  batch_size: 128  hidden_size: 32  dropout: 0.5 criterion: <function criterion2 at 0x000001F4A9CA77F0>\n"
     ]
    },
    {
     "data": {
      "application/vnd.jupyter.widget-view+json": {
       "model_id": "0b5b1e7b27bc467a890beec148bc76b8",
       "version_major": 2,
       "version_minor": 0
      },
      "text/plain": [
       "  0%|          | 0/10000 [00:00<?, ?it/s]"
      ]
     },
     "metadata": {},
     "output_type": "display_data"
    },
    {
     "name": "stdout",
     "output_type": "stream",
     "text": [
      "\n",
      " Early Stopping / epoch: 258 loss: 0.006864\n",
      "----------------------------------------------------------------------------------------------------------\n",
      "lr: 0.001  patience: 20  num_layers: 4  batch_size: 128  hidden_size: 32  dropout: 0.5 criterion: <function criterion3 at 0x000001F4A9CA7880>\n"
     ]
    },
    {
     "data": {
      "application/vnd.jupyter.widget-view+json": {
       "model_id": "2467f413449d4ddfa98e5ac7e6936bd8",
       "version_major": 2,
       "version_minor": 0
      },
      "text/plain": [
       "  0%|          | 0/10000 [00:00<?, ?it/s]"
      ]
     },
     "metadata": {},
     "output_type": "display_data"
    },
    {
     "name": "stdout",
     "output_type": "stream",
     "text": [
      "\n",
      " Early Stopping / epoch: 192 loss: 0.001180\n",
      "----------------------------------------------------------------------------------------------------------\n",
      "lr: 0.001  patience: 50  num_layers: 1  batch_size: 32  hidden_size: 8  dropout: 0.25 criterion: MSELoss()\n"
     ]
    },
    {
     "data": {
      "application/vnd.jupyter.widget-view+json": {
       "model_id": "64cca4eb0dbf4be3b51ac8b2ccae7f91",
       "version_major": 2,
       "version_minor": 0
      },
      "text/plain": [
       "  0%|          | 0/10000 [00:00<?, ?it/s]"
      ]
     },
     "metadata": {},
     "output_type": "display_data"
    },
    {
     "name": "stdout",
     "output_type": "stream",
     "text": [
      "\n",
      " Early Stopping / epoch: 697 loss: 0.000110\n",
      "----------------------------------------------------------------------------------------------------------\n",
      "lr: 0.001  patience: 50  num_layers: 1  batch_size: 32  hidden_size: 8  dropout: 0.25 criterion: <function criterion2 at 0x000001F4A9CA77F0>\n"
     ]
    },
    {
     "data": {
      "application/vnd.jupyter.widget-view+json": {
       "model_id": "34da375bdbdd4a8f87652c6cfd6f06d5",
       "version_major": 2,
       "version_minor": 0
      },
      "text/plain": [
       "  0%|          | 0/10000 [00:00<?, ?it/s]"
      ]
     },
     "metadata": {},
     "output_type": "display_data"
    },
    {
     "name": "stdout",
     "output_type": "stream",
     "text": [
      "\n",
      " Early Stopping / epoch: 261 loss: 0.007994\n",
      "----------------------------------------------------------------------------------------------------------\n",
      "lr: 0.001  patience: 50  num_layers: 1  batch_size: 32  hidden_size: 8  dropout: 0.25 criterion: <function criterion3 at 0x000001F4A9CA7880>\n"
     ]
    },
    {
     "data": {
      "application/vnd.jupyter.widget-view+json": {
       "model_id": "0c923332b02a408aafc1085fca97c447",
       "version_major": 2,
       "version_minor": 0
      },
      "text/plain": [
       "  0%|          | 0/10000 [00:00<?, ?it/s]"
      ]
     },
     "metadata": {},
     "output_type": "display_data"
    },
    {
     "name": "stdout",
     "output_type": "stream",
     "text": [
      "\n",
      " Early Stopping / epoch: 752 loss: 0.001791\n",
      "----------------------------------------------------------------------------------------------------------\n",
      "lr: 0.001  patience: 50  num_layers: 1  batch_size: 32  hidden_size: 8  dropout: 0.5 criterion: MSELoss()\n"
     ]
    },
    {
     "data": {
      "application/vnd.jupyter.widget-view+json": {
       "model_id": "85e00faa53ac42eb85ff6c10046ab087",
       "version_major": 2,
       "version_minor": 0
      },
      "text/plain": [
       "  0%|          | 0/10000 [00:00<?, ?it/s]"
      ]
     },
     "metadata": {},
     "output_type": "display_data"
    },
    {
     "name": "stdout",
     "output_type": "stream",
     "text": [
      "\n",
      " Early Stopping / epoch: 722 loss: 0.000132\n",
      "----------------------------------------------------------------------------------------------------------\n",
      "lr: 0.001  patience: 50  num_layers: 1  batch_size: 32  hidden_size: 8  dropout: 0.5 criterion: <function criterion2 at 0x000001F4A9CA77F0>\n"
     ]
    },
    {
     "data": {
      "application/vnd.jupyter.widget-view+json": {
       "model_id": "006cb5699686403ea4033ae51515e9b9",
       "version_major": 2,
       "version_minor": 0
      },
      "text/plain": [
       "  0%|          | 0/10000 [00:00<?, ?it/s]"
      ]
     },
     "metadata": {},
     "output_type": "display_data"
    },
    {
     "name": "stdout",
     "output_type": "stream",
     "text": [
      "\n",
      " Early Stopping / epoch: 485 loss: 0.008123\n",
      "----------------------------------------------------------------------------------------------------------\n",
      "lr: 0.001  patience: 50  num_layers: 1  batch_size: 32  hidden_size: 8  dropout: 0.5 criterion: <function criterion3 at 0x000001F4A9CA7880>\n"
     ]
    },
    {
     "data": {
      "application/vnd.jupyter.widget-view+json": {
       "model_id": "ed1e0498756a48faa633374af14e2618",
       "version_major": 2,
       "version_minor": 0
      },
      "text/plain": [
       "  0%|          | 0/10000 [00:00<?, ?it/s]"
      ]
     },
     "metadata": {},
     "output_type": "display_data"
    },
    {
     "name": "stdout",
     "output_type": "stream",
     "text": [
      "\n",
      " Early Stopping / epoch: 468 loss: 0.002239\n",
      "----------------------------------------------------------------------------------------------------------\n",
      "lr: 0.001  patience: 50  num_layers: 1  batch_size: 32  hidden_size: 16  dropout: 0.25 criterion: MSELoss()\n"
     ]
    },
    {
     "data": {
      "application/vnd.jupyter.widget-view+json": {
       "model_id": "c9325493d00c4928a7e1bf0d7d468115",
       "version_major": 2,
       "version_minor": 0
      },
      "text/plain": [
       "  0%|          | 0/10000 [00:00<?, ?it/s]"
      ]
     },
     "metadata": {},
     "output_type": "display_data"
    },
    {
     "name": "stdout",
     "output_type": "stream",
     "text": [
      "\n",
      " Early Stopping / epoch: 578 loss: 0.000106\n",
      "----------------------------------------------------------------------------------------------------------\n",
      "lr: 0.001  patience: 50  num_layers: 1  batch_size: 32  hidden_size: 16  dropout: 0.25 criterion: <function criterion2 at 0x000001F4A9CA77F0>\n"
     ]
    },
    {
     "data": {
      "application/vnd.jupyter.widget-view+json": {
       "model_id": "be8a2ba194d6463ea55a3ef734f41f95",
       "version_major": 2,
       "version_minor": 0
      },
      "text/plain": [
       "  0%|          | 0/10000 [00:00<?, ?it/s]"
      ]
     },
     "metadata": {},
     "output_type": "display_data"
    },
    {
     "name": "stdout",
     "output_type": "stream",
     "text": [
      "\n",
      " Early Stopping / epoch: 636 loss: 0.006680\n",
      "----------------------------------------------------------------------------------------------------------\n",
      "lr: 0.001  patience: 50  num_layers: 1  batch_size: 32  hidden_size: 16  dropout: 0.25 criterion: <function criterion3 at 0x000001F4A9CA7880>\n"
     ]
    },
    {
     "data": {
      "application/vnd.jupyter.widget-view+json": {
       "model_id": "6761654128bd4b279bb1ce331b5001a5",
       "version_major": 2,
       "version_minor": 0
      },
      "text/plain": [
       "  0%|          | 0/10000 [00:00<?, ?it/s]"
      ]
     },
     "metadata": {},
     "output_type": "display_data"
    },
    {
     "name": "stdout",
     "output_type": "stream",
     "text": [
      "\n",
      " Early Stopping / epoch: 472 loss: 0.001488\n",
      "----------------------------------------------------------------------------------------------------------\n",
      "lr: 0.001  patience: 50  num_layers: 1  batch_size: 32  hidden_size: 16  dropout: 0.5 criterion: MSELoss()\n"
     ]
    },
    {
     "data": {
      "application/vnd.jupyter.widget-view+json": {
       "model_id": "a6eb8dca0f974a91a94135a79908417c",
       "version_major": 2,
       "version_minor": 0
      },
      "text/plain": [
       "  0%|          | 0/10000 [00:00<?, ?it/s]"
      ]
     },
     "metadata": {},
     "output_type": "display_data"
    },
    {
     "name": "stdout",
     "output_type": "stream",
     "text": [
      "\n",
      " Early Stopping / epoch: 826 loss: 0.000104\n",
      "----------------------------------------------------------------------------------------------------------\n",
      "lr: 0.001  patience: 50  num_layers: 1  batch_size: 32  hidden_size: 16  dropout: 0.5 criterion: <function criterion2 at 0x000001F4A9CA77F0>\n"
     ]
    },
    {
     "data": {
      "application/vnd.jupyter.widget-view+json": {
       "model_id": "df6b520402144fcb8ebe6e5977e4da90",
       "version_major": 2,
       "version_minor": 0
      },
      "text/plain": [
       "  0%|          | 0/10000 [00:00<?, ?it/s]"
      ]
     },
     "metadata": {},
     "output_type": "display_data"
    },
    {
     "name": "stdout",
     "output_type": "stream",
     "text": [
      "\n",
      " Early Stopping / epoch: 719 loss: 0.006348\n",
      "----------------------------------------------------------------------------------------------------------\n",
      "lr: 0.001  patience: 50  num_layers: 1  batch_size: 32  hidden_size: 16  dropout: 0.5 criterion: <function criterion3 at 0x000001F4A9CA7880>\n"
     ]
    },
    {
     "data": {
      "application/vnd.jupyter.widget-view+json": {
       "model_id": "2e2bbc7d554449429f06ebf743358ab0",
       "version_major": 2,
       "version_minor": 0
      },
      "text/plain": [
       "  0%|          | 0/10000 [00:00<?, ?it/s]"
      ]
     },
     "metadata": {},
     "output_type": "display_data"
    },
    {
     "name": "stdout",
     "output_type": "stream",
     "text": [
      "\n",
      " Early Stopping / epoch: 1135 loss: 0.001181\n",
      "----------------------------------------------------------------------------------------------------------\n",
      "lr: 0.001  patience: 50  num_layers: 1  batch_size: 32  hidden_size: 32  dropout: 0.25 criterion: MSELoss()\n"
     ]
    },
    {
     "data": {
      "application/vnd.jupyter.widget-view+json": {
       "model_id": "2582becb094d461683d92039f4040546",
       "version_major": 2,
       "version_minor": 0
      },
      "text/plain": [
       "  0%|          | 0/10000 [00:00<?, ?it/s]"
      ]
     },
     "metadata": {},
     "output_type": "display_data"
    },
    {
     "name": "stdout",
     "output_type": "stream",
     "text": [
      "\n",
      " Early Stopping / epoch: 359 loss: 0.000107\n",
      "----------------------------------------------------------------------------------------------------------\n",
      "lr: 0.001  patience: 50  num_layers: 1  batch_size: 32  hidden_size: 32  dropout: 0.25 criterion: <function criterion2 at 0x000001F4A9CA77F0>\n"
     ]
    },
    {
     "data": {
      "application/vnd.jupyter.widget-view+json": {
       "model_id": "84116607231045bd810dd9d16989f55e",
       "version_major": 2,
       "version_minor": 0
      },
      "text/plain": [
       "  0%|          | 0/10000 [00:00<?, ?it/s]"
      ]
     },
     "metadata": {},
     "output_type": "display_data"
    },
    {
     "name": "stdout",
     "output_type": "stream",
     "text": [
      "\n",
      " Early Stopping / epoch: 508 loss: 0.005659\n",
      "----------------------------------------------------------------------------------------------------------\n",
      "lr: 0.001  patience: 50  num_layers: 1  batch_size: 32  hidden_size: 32  dropout: 0.25 criterion: <function criterion3 at 0x000001F4A9CA7880>\n"
     ]
    },
    {
     "data": {
      "application/vnd.jupyter.widget-view+json": {
       "model_id": "a0c921fa890d4710b3615cc66c77732e",
       "version_major": 2,
       "version_minor": 0
      },
      "text/plain": [
       "  0%|          | 0/10000 [00:00<?, ?it/s]"
      ]
     },
     "metadata": {},
     "output_type": "display_data"
    },
    {
     "name": "stdout",
     "output_type": "stream",
     "text": [
      "\n",
      " Early Stopping / epoch: 621 loss: 0.001319\n",
      "----------------------------------------------------------------------------------------------------------\n",
      "lr: 0.001  patience: 50  num_layers: 1  batch_size: 32  hidden_size: 32  dropout: 0.5 criterion: MSELoss()\n"
     ]
    },
    {
     "data": {
      "application/vnd.jupyter.widget-view+json": {
       "model_id": "c38eb8eaa7e04de48c565ff028bd8f1e",
       "version_major": 2,
       "version_minor": 0
      },
      "text/plain": [
       "  0%|          | 0/10000 [00:00<?, ?it/s]"
      ]
     },
     "metadata": {},
     "output_type": "display_data"
    },
    {
     "name": "stdout",
     "output_type": "stream",
     "text": [
      "\n",
      " Early Stopping / epoch: 495 loss: 0.000084\n",
      "----------------------------------------------------------------------------------------------------------\n",
      "lr: 0.001  patience: 50  num_layers: 1  batch_size: 32  hidden_size: 32  dropout: 0.5 criterion: <function criterion2 at 0x000001F4A9CA77F0>\n"
     ]
    },
    {
     "data": {
      "application/vnd.jupyter.widget-view+json": {
       "model_id": "2fdf64f26694450eaf06da803acc2acf",
       "version_major": 2,
       "version_minor": 0
      },
      "text/plain": [
       "  0%|          | 0/10000 [00:00<?, ?it/s]"
      ]
     },
     "metadata": {},
     "output_type": "display_data"
    },
    {
     "name": "stdout",
     "output_type": "stream",
     "text": [
      "\n",
      " Early Stopping / epoch: 515 loss: 0.006264\n",
      "----------------------------------------------------------------------------------------------------------\n",
      "lr: 0.001  patience: 50  num_layers: 1  batch_size: 32  hidden_size: 32  dropout: 0.5 criterion: <function criterion3 at 0x000001F4A9CA7880>\n"
     ]
    },
    {
     "data": {
      "application/vnd.jupyter.widget-view+json": {
       "model_id": "968766655dc043dd9616f40a23de31b3",
       "version_major": 2,
       "version_minor": 0
      },
      "text/plain": [
       "  0%|          | 0/10000 [00:00<?, ?it/s]"
      ]
     },
     "metadata": {},
     "output_type": "display_data"
    },
    {
     "name": "stdout",
     "output_type": "stream",
     "text": [
      "\n",
      " Early Stopping / epoch: 320 loss: 0.001547\n",
      "----------------------------------------------------------------------------------------------------------\n",
      "lr: 0.001  patience: 50  num_layers: 1  batch_size: 64  hidden_size: 8  dropout: 0.25 criterion: MSELoss()\n"
     ]
    },
    {
     "data": {
      "application/vnd.jupyter.widget-view+json": {
       "model_id": "7c7d9931a062469bb2560e858aea499b",
       "version_major": 2,
       "version_minor": 0
      },
      "text/plain": [
       "  0%|          | 0/10000 [00:00<?, ?it/s]"
      ]
     },
     "metadata": {},
     "output_type": "display_data"
    },
    {
     "name": "stdout",
     "output_type": "stream",
     "text": [
      "\n",
      " Early Stopping / epoch: 1032 loss: 0.000117\n",
      "----------------------------------------------------------------------------------------------------------\n",
      "lr: 0.001  patience: 50  num_layers: 1  batch_size: 64  hidden_size: 8  dropout: 0.25 criterion: <function criterion2 at 0x000001F4A9CA77F0>\n"
     ]
    },
    {
     "data": {
      "application/vnd.jupyter.widget-view+json": {
       "model_id": "34c0cc35da1d45d7ab4849cc911b8f35",
       "version_major": 2,
       "version_minor": 0
      },
      "text/plain": [
       "  0%|          | 0/10000 [00:00<?, ?it/s]"
      ]
     },
     "metadata": {},
     "output_type": "display_data"
    },
    {
     "name": "stdout",
     "output_type": "stream",
     "text": [
      "\n",
      " Early Stopping / epoch: 656 loss: 0.007462\n",
      "----------------------------------------------------------------------------------------------------------\n",
      "lr: 0.001  patience: 50  num_layers: 1  batch_size: 64  hidden_size: 8  dropout: 0.25 criterion: <function criterion3 at 0x000001F4A9CA7880>\n"
     ]
    },
    {
     "data": {
      "application/vnd.jupyter.widget-view+json": {
       "model_id": "b8affd99da484e4198e02cbb74978d4c",
       "version_major": 2,
       "version_minor": 0
      },
      "text/plain": [
       "  0%|          | 0/10000 [00:00<?, ?it/s]"
      ]
     },
     "metadata": {},
     "output_type": "display_data"
    },
    {
     "name": "stdout",
     "output_type": "stream",
     "text": [
      "\n",
      " Early Stopping / epoch: 1134 loss: 0.001209\n",
      "----------------------------------------------------------------------------------------------------------\n",
      "lr: 0.001  patience: 50  num_layers: 1  batch_size: 64  hidden_size: 8  dropout: 0.5 criterion: MSELoss()\n"
     ]
    },
    {
     "data": {
      "application/vnd.jupyter.widget-view+json": {
       "model_id": "28d5b5643cbe4427983147e6e4168712",
       "version_major": 2,
       "version_minor": 0
      },
      "text/plain": [
       "  0%|          | 0/10000 [00:00<?, ?it/s]"
      ]
     },
     "metadata": {},
     "output_type": "display_data"
    },
    {
     "name": "stdout",
     "output_type": "stream",
     "text": [
      "\n",
      " Early Stopping / epoch: 1425 loss: 0.000129\n",
      "----------------------------------------------------------------------------------------------------------\n",
      "lr: 0.001  patience: 50  num_layers: 1  batch_size: 64  hidden_size: 8  dropout: 0.5 criterion: <function criterion2 at 0x000001F4A9CA77F0>\n"
     ]
    },
    {
     "data": {
      "application/vnd.jupyter.widget-view+json": {
       "model_id": "e67800a4e4d04e7ebe71a6a963b2fdb4",
       "version_major": 2,
       "version_minor": 0
      },
      "text/plain": [
       "  0%|          | 0/10000 [00:00<?, ?it/s]"
      ]
     },
     "metadata": {},
     "output_type": "display_data"
    },
    {
     "name": "stdout",
     "output_type": "stream",
     "text": [
      "\n",
      " Early Stopping / epoch: 487 loss: 0.008030\n",
      "----------------------------------------------------------------------------------------------------------\n",
      "lr: 0.001  patience: 50  num_layers: 1  batch_size: 64  hidden_size: 8  dropout: 0.5 criterion: <function criterion3 at 0x000001F4A9CA7880>\n"
     ]
    },
    {
     "data": {
      "application/vnd.jupyter.widget-view+json": {
       "model_id": "7fdea2af33014e94b97492ef491a273a",
       "version_major": 2,
       "version_minor": 0
      },
      "text/plain": [
       "  0%|          | 0/10000 [00:00<?, ?it/s]"
      ]
     },
     "metadata": {},
     "output_type": "display_data"
    },
    {
     "name": "stdout",
     "output_type": "stream",
     "text": [
      "\n",
      " Early Stopping / epoch: 1006 loss: 0.001304\n",
      "----------------------------------------------------------------------------------------------------------\n",
      "lr: 0.001  patience: 50  num_layers: 1  batch_size: 64  hidden_size: 16  dropout: 0.25 criterion: MSELoss()\n"
     ]
    },
    {
     "data": {
      "application/vnd.jupyter.widget-view+json": {
       "model_id": "246198f565554c3884581e167a0c6aee",
       "version_major": 2,
       "version_minor": 0
      },
      "text/plain": [
       "  0%|          | 0/10000 [00:00<?, ?it/s]"
      ]
     },
     "metadata": {},
     "output_type": "display_data"
    },
    {
     "name": "stdout",
     "output_type": "stream",
     "text": [
      "\n",
      " Early Stopping / epoch: 641 loss: 0.000385\n",
      "----------------------------------------------------------------------------------------------------------\n",
      "lr: 0.001  patience: 50  num_layers: 1  batch_size: 64  hidden_size: 16  dropout: 0.25 criterion: <function criterion2 at 0x000001F4A9CA77F0>\n"
     ]
    },
    {
     "data": {
      "application/vnd.jupyter.widget-view+json": {
       "model_id": "4b56298a1728436bbebb5017ecff0c98",
       "version_major": 2,
       "version_minor": 0
      },
      "text/plain": [
       "  0%|          | 0/10000 [00:00<?, ?it/s]"
      ]
     },
     "metadata": {},
     "output_type": "display_data"
    },
    {
     "name": "stdout",
     "output_type": "stream",
     "text": [
      "\n",
      " Early Stopping / epoch: 491 loss: 0.007739\n",
      "----------------------------------------------------------------------------------------------------------\n",
      "lr: 0.001  patience: 50  num_layers: 1  batch_size: 64  hidden_size: 16  dropout: 0.25 criterion: <function criterion3 at 0x000001F4A9CA7880>\n"
     ]
    },
    {
     "data": {
      "application/vnd.jupyter.widget-view+json": {
       "model_id": "7d0a2dca7b3f4db7895a3eb8c1a3ee3d",
       "version_major": 2,
       "version_minor": 0
      },
      "text/plain": [
       "  0%|          | 0/10000 [00:00<?, ?it/s]"
      ]
     },
     "metadata": {},
     "output_type": "display_data"
    },
    {
     "name": "stdout",
     "output_type": "stream",
     "text": [
      "\n",
      " Early Stopping / epoch: 616 loss: 0.001108\n",
      "----------------------------------------------------------------------------------------------------------\n",
      "lr: 0.001  patience: 50  num_layers: 1  batch_size: 64  hidden_size: 16  dropout: 0.5 criterion: MSELoss()\n"
     ]
    },
    {
     "data": {
      "application/vnd.jupyter.widget-view+json": {
       "model_id": "654f305e915c4a76971a06109ac05fe8",
       "version_major": 2,
       "version_minor": 0
      },
      "text/plain": [
       "  0%|          | 0/10000 [00:00<?, ?it/s]"
      ]
     },
     "metadata": {},
     "output_type": "display_data"
    },
    {
     "name": "stdout",
     "output_type": "stream",
     "text": [
      "\n",
      " Early Stopping / epoch: 771 loss: 0.000110\n",
      "----------------------------------------------------------------------------------------------------------\n",
      "lr: 0.001  patience: 50  num_layers: 1  batch_size: 64  hidden_size: 16  dropout: 0.5 criterion: <function criterion2 at 0x000001F4A9CA77F0>\n"
     ]
    },
    {
     "data": {
      "application/vnd.jupyter.widget-view+json": {
       "model_id": "02ac7d3e6f4449e3934a6bc38cd5f4f3",
       "version_major": 2,
       "version_minor": 0
      },
      "text/plain": [
       "  0%|          | 0/10000 [00:00<?, ?it/s]"
      ]
     },
     "metadata": {},
     "output_type": "display_data"
    },
    {
     "name": "stdout",
     "output_type": "stream",
     "text": [
      "\n",
      " Early Stopping / epoch: 508 loss: 0.007380\n",
      "----------------------------------------------------------------------------------------------------------\n",
      "lr: 0.001  patience: 50  num_layers: 1  batch_size: 64  hidden_size: 16  dropout: 0.5 criterion: <function criterion3 at 0x000001F4A9CA7880>\n"
     ]
    },
    {
     "data": {
      "application/vnd.jupyter.widget-view+json": {
       "model_id": "e311506f6470411788116ac7fb1b72e0",
       "version_major": 2,
       "version_minor": 0
      },
      "text/plain": [
       "  0%|          | 0/10000 [00:00<?, ?it/s]"
      ]
     },
     "metadata": {},
     "output_type": "display_data"
    },
    {
     "name": "stdout",
     "output_type": "stream",
     "text": [
      "\n",
      " Early Stopping / epoch: 572 loss: 0.001180\n",
      "----------------------------------------------------------------------------------------------------------\n",
      "lr: 0.001  patience: 50  num_layers: 1  batch_size: 64  hidden_size: 32  dropout: 0.25 criterion: MSELoss()\n"
     ]
    },
    {
     "data": {
      "application/vnd.jupyter.widget-view+json": {
       "model_id": "2de60a6e392b4505ae35289ce91b94c9",
       "version_major": 2,
       "version_minor": 0
      },
      "text/plain": [
       "  0%|          | 0/10000 [00:00<?, ?it/s]"
      ]
     },
     "metadata": {},
     "output_type": "display_data"
    },
    {
     "name": "stdout",
     "output_type": "stream",
     "text": [
      "\n",
      " Early Stopping / epoch: 769 loss: 0.000098\n",
      "----------------------------------------------------------------------------------------------------------\n",
      "lr: 0.001  patience: 50  num_layers: 1  batch_size: 64  hidden_size: 32  dropout: 0.25 criterion: <function criterion2 at 0x000001F4A9CA77F0>\n"
     ]
    },
    {
     "data": {
      "application/vnd.jupyter.widget-view+json": {
       "model_id": "a3a2688ceedf40d3b39e97340b890366",
       "version_major": 2,
       "version_minor": 0
      },
      "text/plain": [
       "  0%|          | 0/10000 [00:00<?, ?it/s]"
      ]
     },
     "metadata": {},
     "output_type": "display_data"
    },
    {
     "name": "stdout",
     "output_type": "stream",
     "text": [
      "\n",
      " Early Stopping / epoch: 255 loss: 0.007345\n",
      "----------------------------------------------------------------------------------------------------------\n",
      "lr: 0.001  patience: 50  num_layers: 1  batch_size: 64  hidden_size: 32  dropout: 0.25 criterion: <function criterion3 at 0x000001F4A9CA7880>\n"
     ]
    },
    {
     "data": {
      "application/vnd.jupyter.widget-view+json": {
       "model_id": "1985d63175a743b6a8c2b8dfa89c5cf9",
       "version_major": 2,
       "version_minor": 0
      },
      "text/plain": [
       "  0%|          | 0/10000 [00:00<?, ?it/s]"
      ]
     },
     "metadata": {},
     "output_type": "display_data"
    },
    {
     "name": "stdout",
     "output_type": "stream",
     "text": [
      "\n",
      " Early Stopping / epoch: 1162 loss: 0.000764\n",
      "----------------------------------------------------------------------------------------------------------\n",
      "lr: 0.001  patience: 50  num_layers: 1  batch_size: 64  hidden_size: 32  dropout: 0.5 criterion: MSELoss()\n"
     ]
    },
    {
     "data": {
      "application/vnd.jupyter.widget-view+json": {
       "model_id": "0fb8ad761bce4d2989762c936d897332",
       "version_major": 2,
       "version_minor": 0
      },
      "text/plain": [
       "  0%|          | 0/10000 [00:00<?, ?it/s]"
      ]
     },
     "metadata": {},
     "output_type": "display_data"
    },
    {
     "name": "stdout",
     "output_type": "stream",
     "text": [
      "\n",
      " Early Stopping / epoch: 394 loss: 0.000088\n",
      "----------------------------------------------------------------------------------------------------------\n",
      "lr: 0.001  patience: 50  num_layers: 1  batch_size: 64  hidden_size: 32  dropout: 0.5 criterion: <function criterion2 at 0x000001F4A9CA77F0>\n"
     ]
    },
    {
     "data": {
      "application/vnd.jupyter.widget-view+json": {
       "model_id": "044196b3b1e34933a5e47ac15494e21b",
       "version_major": 2,
       "version_minor": 0
      },
      "text/plain": [
       "  0%|          | 0/10000 [00:00<?, ?it/s]"
      ]
     },
     "metadata": {},
     "output_type": "display_data"
    },
    {
     "name": "stdout",
     "output_type": "stream",
     "text": [
      "\n",
      " Early Stopping / epoch: 913 loss: 0.004652\n",
      "----------------------------------------------------------------------------------------------------------\n",
      "lr: 0.001  patience: 50  num_layers: 1  batch_size: 64  hidden_size: 32  dropout: 0.5 criterion: <function criterion3 at 0x000001F4A9CA7880>\n"
     ]
    },
    {
     "data": {
      "application/vnd.jupyter.widget-view+json": {
       "model_id": "0acee8a7667c444a92c434935dcc227b",
       "version_major": 2,
       "version_minor": 0
      },
      "text/plain": [
       "  0%|          | 0/10000 [00:00<?, ?it/s]"
      ]
     },
     "metadata": {},
     "output_type": "display_data"
    },
    {
     "name": "stdout",
     "output_type": "stream",
     "text": [
      "\n",
      " Early Stopping / epoch: 402 loss: 0.001237\n",
      "----------------------------------------------------------------------------------------------------------\n",
      "lr: 0.001  patience: 50  num_layers: 1  batch_size: 128  hidden_size: 8  dropout: 0.25 criterion: MSELoss()\n"
     ]
    },
    {
     "data": {
      "application/vnd.jupyter.widget-view+json": {
       "model_id": "93f1649fd6ab4b2cb1a4a13b5f35a3a8",
       "version_major": 2,
       "version_minor": 0
      },
      "text/plain": [
       "  0%|          | 0/10000 [00:00<?, ?it/s]"
      ]
     },
     "metadata": {},
     "output_type": "display_data"
    },
    {
     "name": "stdout",
     "output_type": "stream",
     "text": [
      "\n",
      " Early Stopping / epoch: 1004 loss: 0.000286\n",
      "----------------------------------------------------------------------------------------------------------\n",
      "lr: 0.001  patience: 50  num_layers: 1  batch_size: 128  hidden_size: 8  dropout: 0.25 criterion: <function criterion2 at 0x000001F4A9CA77F0>\n"
     ]
    },
    {
     "data": {
      "application/vnd.jupyter.widget-view+json": {
       "model_id": "f08c973a624346bb96eea72276a8312f",
       "version_major": 2,
       "version_minor": 0
      },
      "text/plain": [
       "  0%|          | 0/10000 [00:00<?, ?it/s]"
      ]
     },
     "metadata": {},
     "output_type": "display_data"
    },
    {
     "name": "stdout",
     "output_type": "stream",
     "text": [
      "\n",
      " Early Stopping / epoch: 492 loss: 0.007893\n",
      "----------------------------------------------------------------------------------------------------------\n",
      "lr: 0.001  patience: 50  num_layers: 1  batch_size: 128  hidden_size: 8  dropout: 0.25 criterion: <function criterion3 at 0x000001F4A9CA7880>\n"
     ]
    },
    {
     "data": {
      "application/vnd.jupyter.widget-view+json": {
       "model_id": "c4d36e8e983f4055b2ee4e06ae498fe1",
       "version_major": 2,
       "version_minor": 0
      },
      "text/plain": [
       "  0%|          | 0/10000 [00:00<?, ?it/s]"
      ]
     },
     "metadata": {},
     "output_type": "display_data"
    },
    {
     "name": "stdout",
     "output_type": "stream",
     "text": [
      "\n",
      " Early Stopping / epoch: 1556 loss: 0.000919\n",
      "----------------------------------------------------------------------------------------------------------\n",
      "lr: 0.001  patience: 50  num_layers: 1  batch_size: 128  hidden_size: 8  dropout: 0.5 criterion: MSELoss()\n"
     ]
    },
    {
     "data": {
      "application/vnd.jupyter.widget-view+json": {
       "model_id": "edcfb5ab3bda4e2ca93925c51f6fb672",
       "version_major": 2,
       "version_minor": 0
      },
      "text/plain": [
       "  0%|          | 0/10000 [00:00<?, ?it/s]"
      ]
     },
     "metadata": {},
     "output_type": "display_data"
    },
    {
     "name": "stdout",
     "output_type": "stream",
     "text": [
      "\n",
      " Early Stopping / epoch: 1277 loss: 0.000090\n",
      "----------------------------------------------------------------------------------------------------------\n",
      "lr: 0.001  patience: 50  num_layers: 1  batch_size: 128  hidden_size: 8  dropout: 0.5 criterion: <function criterion2 at 0x000001F4A9CA77F0>\n"
     ]
    },
    {
     "data": {
      "application/vnd.jupyter.widget-view+json": {
       "model_id": "15d66abda1374faa9990183cc472888b",
       "version_major": 2,
       "version_minor": 0
      },
      "text/plain": [
       "  0%|          | 0/10000 [00:00<?, ?it/s]"
      ]
     },
     "metadata": {},
     "output_type": "display_data"
    },
    {
     "name": "stdout",
     "output_type": "stream",
     "text": [
      "\n",
      " Early Stopping / epoch: 483 loss: 0.008353\n",
      "----------------------------------------------------------------------------------------------------------\n",
      "lr: 0.001  patience: 50  num_layers: 1  batch_size: 128  hidden_size: 8  dropout: 0.5 criterion: <function criterion3 at 0x000001F4A9CA7880>\n"
     ]
    },
    {
     "data": {
      "application/vnd.jupyter.widget-view+json": {
       "model_id": "14e45290edd9492fbe52e033d2f1bb54",
       "version_major": 2,
       "version_minor": 0
      },
      "text/plain": [
       "  0%|          | 0/10000 [00:00<?, ?it/s]"
      ]
     },
     "metadata": {},
     "output_type": "display_data"
    },
    {
     "name": "stdout",
     "output_type": "stream",
     "text": [
      "\n",
      " Early Stopping / epoch: 951 loss: 0.001250\n",
      "----------------------------------------------------------------------------------------------------------\n",
      "lr: 0.001  patience: 50  num_layers: 1  batch_size: 128  hidden_size: 16  dropout: 0.25 criterion: MSELoss()\n"
     ]
    },
    {
     "data": {
      "application/vnd.jupyter.widget-view+json": {
       "model_id": "dbf8a1547d0c46c0b2fe9b4b521ca229",
       "version_major": 2,
       "version_minor": 0
      },
      "text/plain": [
       "  0%|          | 0/10000 [00:00<?, ?it/s]"
      ]
     },
     "metadata": {},
     "output_type": "display_data"
    },
    {
     "name": "stdout",
     "output_type": "stream",
     "text": [
      "\n",
      " Early Stopping / epoch: 988 loss: 0.000087\n",
      "----------------------------------------------------------------------------------------------------------\n",
      "lr: 0.001  patience: 50  num_layers: 1  batch_size: 128  hidden_size: 16  dropout: 0.25 criterion: <function criterion2 at 0x000001F4A9CA77F0>\n"
     ]
    },
    {
     "data": {
      "application/vnd.jupyter.widget-view+json": {
       "model_id": "6755b459c82a4c3bb1578bb3f0394b29",
       "version_major": 2,
       "version_minor": 0
      },
      "text/plain": [
       "  0%|          | 0/10000 [00:00<?, ?it/s]"
      ]
     },
     "metadata": {},
     "output_type": "display_data"
    },
    {
     "name": "stdout",
     "output_type": "stream",
     "text": [
      "\n",
      " Early Stopping / epoch: 474 loss: 0.007863\n",
      "----------------------------------------------------------------------------------------------------------\n",
      "lr: 0.001  patience: 50  num_layers: 1  batch_size: 128  hidden_size: 16  dropout: 0.25 criterion: <function criterion3 at 0x000001F4A9CA7880>\n"
     ]
    },
    {
     "data": {
      "application/vnd.jupyter.widget-view+json": {
       "model_id": "9787eb675d654cf2864287e45ce84c84",
       "version_major": 2,
       "version_minor": 0
      },
      "text/plain": [
       "  0%|          | 0/10000 [00:00<?, ?it/s]"
      ]
     },
     "metadata": {},
     "output_type": "display_data"
    },
    {
     "name": "stdout",
     "output_type": "stream",
     "text": [
      "\n",
      " Early Stopping / epoch: 492 loss: 0.001406\n",
      "----------------------------------------------------------------------------------------------------------\n",
      "lr: 0.001  patience: 50  num_layers: 1  batch_size: 128  hidden_size: 16  dropout: 0.5 criterion: MSELoss()\n"
     ]
    },
    {
     "data": {
      "application/vnd.jupyter.widget-view+json": {
       "model_id": "fab2912d19b64c5facd110d3d567eb7b",
       "version_major": 2,
       "version_minor": 0
      },
      "text/plain": [
       "  0%|          | 0/10000 [00:00<?, ?it/s]"
      ]
     },
     "metadata": {},
     "output_type": "display_data"
    },
    {
     "name": "stdout",
     "output_type": "stream",
     "text": [
      "\n",
      " Early Stopping / epoch: 687 loss: 0.000152\n",
      "----------------------------------------------------------------------------------------------------------\n",
      "lr: 0.001  patience: 50  num_layers: 1  batch_size: 128  hidden_size: 16  dropout: 0.5 criterion: <function criterion2 at 0x000001F4A9CA77F0>\n"
     ]
    },
    {
     "data": {
      "application/vnd.jupyter.widget-view+json": {
       "model_id": "ad2262be66704840a817237e7b4edf8f",
       "version_major": 2,
       "version_minor": 0
      },
      "text/plain": [
       "  0%|          | 0/10000 [00:00<?, ?it/s]"
      ]
     },
     "metadata": {},
     "output_type": "display_data"
    },
    {
     "name": "stdout",
     "output_type": "stream",
     "text": [
      "\n",
      " Early Stopping / epoch: 623 loss: 0.007769\n",
      "----------------------------------------------------------------------------------------------------------\n",
      "lr: 0.001  patience: 50  num_layers: 1  batch_size: 128  hidden_size: 16  dropout: 0.5 criterion: <function criterion3 at 0x000001F4A9CA7880>\n"
     ]
    },
    {
     "data": {
      "application/vnd.jupyter.widget-view+json": {
       "model_id": "88eee37cb3f04b8495ac703d679f94a0",
       "version_major": 2,
       "version_minor": 0
      },
      "text/plain": [
       "  0%|          | 0/10000 [00:00<?, ?it/s]"
      ]
     },
     "metadata": {},
     "output_type": "display_data"
    },
    {
     "name": "stdout",
     "output_type": "stream",
     "text": [
      "\n",
      " Early Stopping / epoch: 774 loss: 0.000864\n",
      "----------------------------------------------------------------------------------------------------------\n",
      "lr: 0.001  patience: 50  num_layers: 1  batch_size: 128  hidden_size: 32  dropout: 0.25 criterion: MSELoss()\n"
     ]
    },
    {
     "data": {
      "application/vnd.jupyter.widget-view+json": {
       "model_id": "fa5e0e6949fd4c9d8e849466883a7360",
       "version_major": 2,
       "version_minor": 0
      },
      "text/plain": [
       "  0%|          | 0/10000 [00:00<?, ?it/s]"
      ]
     },
     "metadata": {},
     "output_type": "display_data"
    },
    {
     "name": "stdout",
     "output_type": "stream",
     "text": [
      "\n",
      " Early Stopping / epoch: 845 loss: 0.000094\n",
      "----------------------------------------------------------------------------------------------------------\n",
      "lr: 0.001  patience: 50  num_layers: 1  batch_size: 128  hidden_size: 32  dropout: 0.25 criterion: <function criterion2 at 0x000001F4A9CA77F0>\n"
     ]
    },
    {
     "data": {
      "application/vnd.jupyter.widget-view+json": {
       "model_id": "b275154ec81442c7aa77999e291df10e",
       "version_major": 2,
       "version_minor": 0
      },
      "text/plain": [
       "  0%|          | 0/10000 [00:00<?, ?it/s]"
      ]
     },
     "metadata": {},
     "output_type": "display_data"
    },
    {
     "name": "stdout",
     "output_type": "stream",
     "text": [
      "\n",
      " Early Stopping / epoch: 800 loss: 0.005086\n",
      "----------------------------------------------------------------------------------------------------------\n",
      "lr: 0.001  patience: 50  num_layers: 1  batch_size: 128  hidden_size: 32  dropout: 0.25 criterion: <function criterion3 at 0x000001F4A9CA7880>\n"
     ]
    },
    {
     "data": {
      "application/vnd.jupyter.widget-view+json": {
       "model_id": "3c34f0ca33854d1194af5121371db3fb",
       "version_major": 2,
       "version_minor": 0
      },
      "text/plain": [
       "  0%|          | 0/10000 [00:00<?, ?it/s]"
      ]
     },
     "metadata": {},
     "output_type": "display_data"
    },
    {
     "name": "stdout",
     "output_type": "stream",
     "text": [
      "\n",
      " Early Stopping / epoch: 758 loss: 0.000783\n",
      "----------------------------------------------------------------------------------------------------------\n",
      "lr: 0.001  patience: 50  num_layers: 1  batch_size: 128  hidden_size: 32  dropout: 0.5 criterion: MSELoss()\n"
     ]
    },
    {
     "data": {
      "application/vnd.jupyter.widget-view+json": {
       "model_id": "7268b1e64c9642e587e8ebac8d65b2ae",
       "version_major": 2,
       "version_minor": 0
      },
      "text/plain": [
       "  0%|          | 0/10000 [00:00<?, ?it/s]"
      ]
     },
     "metadata": {},
     "output_type": "display_data"
    },
    {
     "name": "stdout",
     "output_type": "stream",
     "text": [
      "\n",
      " Early Stopping / epoch: 884 loss: 0.000103\n",
      "----------------------------------------------------------------------------------------------------------\n",
      "lr: 0.001  patience: 50  num_layers: 1  batch_size: 128  hidden_size: 32  dropout: 0.5 criterion: <function criterion2 at 0x000001F4A9CA77F0>\n"
     ]
    },
    {
     "data": {
      "application/vnd.jupyter.widget-view+json": {
       "model_id": "ef1a7dbb5a224496b6d2379148fc64f9",
       "version_major": 2,
       "version_minor": 0
      },
      "text/plain": [
       "  0%|          | 0/10000 [00:00<?, ?it/s]"
      ]
     },
     "metadata": {},
     "output_type": "display_data"
    },
    {
     "name": "stdout",
     "output_type": "stream",
     "text": [
      "\n",
      " Early Stopping / epoch: 985 loss: 0.004445\n",
      "----------------------------------------------------------------------------------------------------------\n",
      "lr: 0.001  patience: 50  num_layers: 1  batch_size: 128  hidden_size: 32  dropout: 0.5 criterion: <function criterion3 at 0x000001F4A9CA7880>\n"
     ]
    },
    {
     "data": {
      "application/vnd.jupyter.widget-view+json": {
       "model_id": "3dd2ba96fa4b47dda9900fdb70eec758",
       "version_major": 2,
       "version_minor": 0
      },
      "text/plain": [
       "  0%|          | 0/10000 [00:00<?, ?it/s]"
      ]
     },
     "metadata": {},
     "output_type": "display_data"
    },
    {
     "name": "stdout",
     "output_type": "stream",
     "text": [
      "\n",
      " Early Stopping / epoch: 580 loss: 0.000847\n",
      "----------------------------------------------------------------------------------------------------------\n",
      "lr: 0.001  patience: 50  num_layers: 2  batch_size: 32  hidden_size: 8  dropout: 0.25 criterion: MSELoss()\n"
     ]
    },
    {
     "data": {
      "application/vnd.jupyter.widget-view+json": {
       "model_id": "c81f606b541346bea696e6b4a1ebf332",
       "version_major": 2,
       "version_minor": 0
      },
      "text/plain": [
       "  0%|          | 0/10000 [00:00<?, ?it/s]"
      ]
     },
     "metadata": {},
     "output_type": "display_data"
    },
    {
     "name": "stdout",
     "output_type": "stream",
     "text": [
      "\n",
      " Early Stopping / epoch: 658 loss: 0.000120\n",
      "----------------------------------------------------------------------------------------------------------\n",
      "lr: 0.001  patience: 50  num_layers: 2  batch_size: 32  hidden_size: 8  dropout: 0.25 criterion: <function criterion2 at 0x000001F4A9CA77F0>\n"
     ]
    },
    {
     "data": {
      "application/vnd.jupyter.widget-view+json": {
       "model_id": "153f6201f4fb4a8d9f2b79dd155fc823",
       "version_major": 2,
       "version_minor": 0
      },
      "text/plain": [
       "  0%|          | 0/10000 [00:00<?, ?it/s]"
      ]
     },
     "metadata": {},
     "output_type": "display_data"
    },
    {
     "name": "stdout",
     "output_type": "stream",
     "text": [
      "\n",
      " Early Stopping / epoch: 871 loss: 0.006642\n",
      "----------------------------------------------------------------------------------------------------------\n",
      "lr: 0.001  patience: 50  num_layers: 2  batch_size: 32  hidden_size: 8  dropout: 0.25 criterion: <function criterion3 at 0x000001F4A9CA7880>\n"
     ]
    },
    {
     "data": {
      "application/vnd.jupyter.widget-view+json": {
       "model_id": "4ab591afae6f49ff943e61fb06371ba3",
       "version_major": 2,
       "version_minor": 0
      },
      "text/plain": [
       "  0%|          | 0/10000 [00:00<?, ?it/s]"
      ]
     },
     "metadata": {},
     "output_type": "display_data"
    },
    {
     "name": "stdout",
     "output_type": "stream",
     "text": [
      "\n",
      " Early Stopping / epoch: 557 loss: 0.002314\n",
      "----------------------------------------------------------------------------------------------------------\n",
      "lr: 0.001  patience: 50  num_layers: 2  batch_size: 32  hidden_size: 8  dropout: 0.5 criterion: MSELoss()\n"
     ]
    },
    {
     "data": {
      "application/vnd.jupyter.widget-view+json": {
       "model_id": "19cd7d52f387485b89417904feb28594",
       "version_major": 2,
       "version_minor": 0
      },
      "text/plain": [
       "  0%|          | 0/10000 [00:00<?, ?it/s]"
      ]
     },
     "metadata": {},
     "output_type": "display_data"
    },
    {
     "name": "stdout",
     "output_type": "stream",
     "text": [
      "\n",
      " Early Stopping / epoch: 410 loss: 0.000144\n",
      "----------------------------------------------------------------------------------------------------------\n",
      "lr: 0.001  patience: 50  num_layers: 2  batch_size: 32  hidden_size: 8  dropout: 0.5 criterion: <function criterion2 at 0x000001F4A9CA77F0>\n"
     ]
    },
    {
     "data": {
      "application/vnd.jupyter.widget-view+json": {
       "model_id": "437a9ba8cbc84fa3a8d6b3fe3336c6bd",
       "version_major": 2,
       "version_minor": 0
      },
      "text/plain": [
       "  0%|          | 0/10000 [00:00<?, ?it/s]"
      ]
     },
     "metadata": {},
     "output_type": "display_data"
    },
    {
     "name": "stdout",
     "output_type": "stream",
     "text": [
      "\n",
      " Early Stopping / epoch: 865 loss: 0.007520\n",
      "----------------------------------------------------------------------------------------------------------\n",
      "lr: 0.001  patience: 50  num_layers: 2  batch_size: 32  hidden_size: 8  dropout: 0.5 criterion: <function criterion3 at 0x000001F4A9CA7880>\n"
     ]
    },
    {
     "data": {
      "application/vnd.jupyter.widget-view+json": {
       "model_id": "00e0d33b38b14e0daba670aabed66f9c",
       "version_major": 2,
       "version_minor": 0
      },
      "text/plain": [
       "  0%|          | 0/10000 [00:00<?, ?it/s]"
      ]
     },
     "metadata": {},
     "output_type": "display_data"
    },
    {
     "name": "stdout",
     "output_type": "stream",
     "text": [
      "\n",
      " Early Stopping / epoch: 313 loss: 0.001975\n",
      "----------------------------------------------------------------------------------------------------------\n",
      "lr: 0.001  patience: 50  num_layers: 2  batch_size: 32  hidden_size: 16  dropout: 0.25 criterion: MSELoss()\n"
     ]
    },
    {
     "data": {
      "application/vnd.jupyter.widget-view+json": {
       "model_id": "9b74c6cdc0f546f7bf64928921b6b465",
       "version_major": 2,
       "version_minor": 0
      },
      "text/plain": [
       "  0%|          | 0/10000 [00:00<?, ?it/s]"
      ]
     },
     "metadata": {},
     "output_type": "display_data"
    },
    {
     "name": "stdout",
     "output_type": "stream",
     "text": [
      "\n",
      " Early Stopping / epoch: 658 loss: 0.000100\n",
      "----------------------------------------------------------------------------------------------------------\n",
      "lr: 0.001  patience: 50  num_layers: 2  batch_size: 32  hidden_size: 16  dropout: 0.25 criterion: <function criterion2 at 0x000001F4A9CA77F0>\n"
     ]
    },
    {
     "data": {
      "application/vnd.jupyter.widget-view+json": {
       "model_id": "3547682c56d64ac19b18955a5f9b27bb",
       "version_major": 2,
       "version_minor": 0
      },
      "text/plain": [
       "  0%|          | 0/10000 [00:00<?, ?it/s]"
      ]
     },
     "metadata": {},
     "output_type": "display_data"
    },
    {
     "name": "stdout",
     "output_type": "stream",
     "text": [
      "\n",
      " Early Stopping / epoch: 825 loss: 0.008050\n",
      "----------------------------------------------------------------------------------------------------------\n",
      "lr: 0.001  patience: 50  num_layers: 2  batch_size: 32  hidden_size: 16  dropout: 0.25 criterion: <function criterion3 at 0x000001F4A9CA7880>\n"
     ]
    },
    {
     "data": {
      "application/vnd.jupyter.widget-view+json": {
       "model_id": "44497d5d752d4b89ac7e5e83720c8b32",
       "version_major": 2,
       "version_minor": 0
      },
      "text/plain": [
       "  0%|          | 0/10000 [00:00<?, ?it/s]"
      ]
     },
     "metadata": {},
     "output_type": "display_data"
    },
    {
     "name": "stdout",
     "output_type": "stream",
     "text": [
      "\n",
      " Early Stopping / epoch: 257 loss: 0.002130\n",
      "----------------------------------------------------------------------------------------------------------\n",
      "lr: 0.001  patience: 50  num_layers: 2  batch_size: 32  hidden_size: 16  dropout: 0.5 criterion: MSELoss()\n"
     ]
    },
    {
     "data": {
      "application/vnd.jupyter.widget-view+json": {
       "model_id": "539d2f35b59e438bbfa7ce3990409206",
       "version_major": 2,
       "version_minor": 0
      },
      "text/plain": [
       "  0%|          | 0/10000 [00:00<?, ?it/s]"
      ]
     },
     "metadata": {},
     "output_type": "display_data"
    },
    {
     "name": "stdout",
     "output_type": "stream",
     "text": [
      "\n",
      " Early Stopping / epoch: 285 loss: 0.000198\n",
      "----------------------------------------------------------------------------------------------------------\n",
      "lr: 0.001  patience: 50  num_layers: 2  batch_size: 32  hidden_size: 16  dropout: 0.5 criterion: <function criterion2 at 0x000001F4A9CA77F0>\n"
     ]
    },
    {
     "data": {
      "application/vnd.jupyter.widget-view+json": {
       "model_id": "047ab70623e14b649d69ccbf51a12c45",
       "version_major": 2,
       "version_minor": 0
      },
      "text/plain": [
       "  0%|          | 0/10000 [00:00<?, ?it/s]"
      ]
     },
     "metadata": {},
     "output_type": "display_data"
    },
    {
     "name": "stdout",
     "output_type": "stream",
     "text": [
      "\n",
      " Early Stopping / epoch: 495 loss: 0.007701\n",
      "----------------------------------------------------------------------------------------------------------\n",
      "lr: 0.001  patience: 50  num_layers: 2  batch_size: 32  hidden_size: 16  dropout: 0.5 criterion: <function criterion3 at 0x000001F4A9CA7880>\n"
     ]
    },
    {
     "data": {
      "application/vnd.jupyter.widget-view+json": {
       "model_id": "b6bb54401319482581670de5e942ae46",
       "version_major": 2,
       "version_minor": 0
      },
      "text/plain": [
       "  0%|          | 0/10000 [00:00<?, ?it/s]"
      ]
     },
     "metadata": {},
     "output_type": "display_data"
    },
    {
     "name": "stdout",
     "output_type": "stream",
     "text": [
      "\n",
      " Early Stopping / epoch: 419 loss: 0.002010\n",
      "----------------------------------------------------------------------------------------------------------\n",
      "lr: 0.001  patience: 50  num_layers: 2  batch_size: 32  hidden_size: 32  dropout: 0.25 criterion: MSELoss()\n"
     ]
    },
    {
     "data": {
      "application/vnd.jupyter.widget-view+json": {
       "model_id": "b4aa057c5fe9436c8f717685a0446163",
       "version_major": 2,
       "version_minor": 0
      },
      "text/plain": [
       "  0%|          | 0/10000 [00:00<?, ?it/s]"
      ]
     },
     "metadata": {},
     "output_type": "display_data"
    },
    {
     "name": "stdout",
     "output_type": "stream",
     "text": [
      "\n",
      " Early Stopping / epoch: 347 loss: 0.000129\n",
      "----------------------------------------------------------------------------------------------------------\n",
      "lr: 0.001  patience: 50  num_layers: 2  batch_size: 32  hidden_size: 32  dropout: 0.25 criterion: <function criterion2 at 0x000001F4A9CA77F0>\n"
     ]
    },
    {
     "data": {
      "application/vnd.jupyter.widget-view+json": {
       "model_id": "7363f43c72a447b682ea339ca2deda38",
       "version_major": 2,
       "version_minor": 0
      },
      "text/plain": [
       "  0%|          | 0/10000 [00:00<?, ?it/s]"
      ]
     },
     "metadata": {},
     "output_type": "display_data"
    },
    {
     "name": "stdout",
     "output_type": "stream",
     "text": [
      "\n",
      " Early Stopping / epoch: 428 loss: 0.006226\n",
      "----------------------------------------------------------------------------------------------------------\n",
      "lr: 0.001  patience: 50  num_layers: 2  batch_size: 32  hidden_size: 32  dropout: 0.25 criterion: <function criterion3 at 0x000001F4A9CA7880>\n"
     ]
    },
    {
     "data": {
      "application/vnd.jupyter.widget-view+json": {
       "model_id": "b72cbe5d8f4a4f75ad048cee4e0251a3",
       "version_major": 2,
       "version_minor": 0
      },
      "text/plain": [
       "  0%|          | 0/10000 [00:00<?, ?it/s]"
      ]
     },
     "metadata": {},
     "output_type": "display_data"
    },
    {
     "name": "stdout",
     "output_type": "stream",
     "text": [
      "\n",
      " Early Stopping / epoch: 230 loss: 0.001848\n",
      "----------------------------------------------------------------------------------------------------------\n",
      "lr: 0.001  patience: 50  num_layers: 2  batch_size: 32  hidden_size: 32  dropout: 0.5 criterion: MSELoss()\n"
     ]
    },
    {
     "data": {
      "application/vnd.jupyter.widget-view+json": {
       "model_id": "70d4d0f90cf540d98bdc20efb92a838a",
       "version_major": 2,
       "version_minor": 0
      },
      "text/plain": [
       "  0%|          | 0/10000 [00:00<?, ?it/s]"
      ]
     },
     "metadata": {},
     "output_type": "display_data"
    },
    {
     "name": "stdout",
     "output_type": "stream",
     "text": [
      "\n",
      " Early Stopping / epoch: 425 loss: 0.000239\n",
      "----------------------------------------------------------------------------------------------------------\n",
      "lr: 0.001  patience: 50  num_layers: 2  batch_size: 32  hidden_size: 32  dropout: 0.5 criterion: <function criterion2 at 0x000001F4A9CA77F0>\n"
     ]
    },
    {
     "data": {
      "application/vnd.jupyter.widget-view+json": {
       "model_id": "1e7fdfb1fd8b4fafa81fcb2a9c148ddb",
       "version_major": 2,
       "version_minor": 0
      },
      "text/plain": [
       "  0%|          | 0/10000 [00:00<?, ?it/s]"
      ]
     },
     "metadata": {},
     "output_type": "display_data"
    },
    {
     "name": "stdout",
     "output_type": "stream",
     "text": [
      "\n",
      " Early Stopping / epoch: 777 loss: 0.004534\n",
      "----------------------------------------------------------------------------------------------------------\n",
      "lr: 0.001  patience: 50  num_layers: 2  batch_size: 32  hidden_size: 32  dropout: 0.5 criterion: <function criterion3 at 0x000001F4A9CA7880>\n"
     ]
    },
    {
     "data": {
      "application/vnd.jupyter.widget-view+json": {
       "model_id": "9fc63dc68e454df1878b4471320e814c",
       "version_major": 2,
       "version_minor": 0
      },
      "text/plain": [
       "  0%|          | 0/10000 [00:00<?, ?it/s]"
      ]
     },
     "metadata": {},
     "output_type": "display_data"
    },
    {
     "name": "stdout",
     "output_type": "stream",
     "text": [
      "\n",
      " Early Stopping / epoch: 414 loss: 0.001799\n",
      "----------------------------------------------------------------------------------------------------------\n",
      "lr: 0.001  patience: 50  num_layers: 2  batch_size: 64  hidden_size: 8  dropout: 0.25 criterion: MSELoss()\n"
     ]
    },
    {
     "data": {
      "application/vnd.jupyter.widget-view+json": {
       "model_id": "40d100b887ea4c4789c68761deccd906",
       "version_major": 2,
       "version_minor": 0
      },
      "text/plain": [
       "  0%|          | 0/10000 [00:00<?, ?it/s]"
      ]
     },
     "metadata": {},
     "output_type": "display_data"
    },
    {
     "name": "stdout",
     "output_type": "stream",
     "text": [
      "\n",
      " Early Stopping / epoch: 611 loss: 0.000135\n",
      "----------------------------------------------------------------------------------------------------------\n",
      "lr: 0.001  patience: 50  num_layers: 2  batch_size: 64  hidden_size: 8  dropout: 0.25 criterion: <function criterion2 at 0x000001F4A9CA77F0>\n"
     ]
    },
    {
     "data": {
      "application/vnd.jupyter.widget-view+json": {
       "model_id": "b861f3f1cc28428d8cef3738932a611f",
       "version_major": 2,
       "version_minor": 0
      },
      "text/plain": [
       "  0%|          | 0/10000 [00:00<?, ?it/s]"
      ]
     },
     "metadata": {},
     "output_type": "display_data"
    },
    {
     "name": "stdout",
     "output_type": "stream",
     "text": [
      "\n",
      " Early Stopping / epoch: 827 loss: 0.006612\n",
      "----------------------------------------------------------------------------------------------------------\n",
      "lr: 0.001  patience: 50  num_layers: 2  batch_size: 64  hidden_size: 8  dropout: 0.25 criterion: <function criterion3 at 0x000001F4A9CA7880>\n"
     ]
    },
    {
     "data": {
      "application/vnd.jupyter.widget-view+json": {
       "model_id": "ad2977fc794f48eb86767d4ac51456b6",
       "version_major": 2,
       "version_minor": 0
      },
      "text/plain": [
       "  0%|          | 0/10000 [00:00<?, ?it/s]"
      ]
     },
     "metadata": {},
     "output_type": "display_data"
    },
    {
     "name": "stdout",
     "output_type": "stream",
     "text": [
      "\n",
      " Early Stopping / epoch: 805 loss: 0.001273\n",
      "----------------------------------------------------------------------------------------------------------\n",
      "lr: 0.001  patience: 50  num_layers: 2  batch_size: 64  hidden_size: 8  dropout: 0.5 criterion: MSELoss()\n"
     ]
    },
    {
     "data": {
      "application/vnd.jupyter.widget-view+json": {
       "model_id": "65992d78ec4549308b32369456af7f52",
       "version_major": 2,
       "version_minor": 0
      },
      "text/plain": [
       "  0%|          | 0/10000 [00:00<?, ?it/s]"
      ]
     },
     "metadata": {},
     "output_type": "display_data"
    },
    {
     "name": "stdout",
     "output_type": "stream",
     "text": [
      "\n",
      " Early Stopping / epoch: 728 loss: 0.000163\n",
      "----------------------------------------------------------------------------------------------------------\n",
      "lr: 0.001  patience: 50  num_layers: 2  batch_size: 64  hidden_size: 8  dropout: 0.5 criterion: <function criterion2 at 0x000001F4A9CA77F0>\n"
     ]
    },
    {
     "data": {
      "application/vnd.jupyter.widget-view+json": {
       "model_id": "84213bde038045de80f2318347c0749a",
       "version_major": 2,
       "version_minor": 0
      },
      "text/plain": [
       "  0%|          | 0/10000 [00:00<?, ?it/s]"
      ]
     },
     "metadata": {},
     "output_type": "display_data"
    },
    {
     "name": "stdout",
     "output_type": "stream",
     "text": [
      "\n",
      " Early Stopping / epoch: 337 loss: 0.008631\n",
      "----------------------------------------------------------------------------------------------------------\n",
      "lr: 0.001  patience: 50  num_layers: 2  batch_size: 64  hidden_size: 8  dropout: 0.5 criterion: <function criterion3 at 0x000001F4A9CA7880>\n"
     ]
    },
    {
     "data": {
      "application/vnd.jupyter.widget-view+json": {
       "model_id": "fe7c3dc4944a4bc6a048b402ce28dc3c",
       "version_major": 2,
       "version_minor": 0
      },
      "text/plain": [
       "  0%|          | 0/10000 [00:00<?, ?it/s]"
      ]
     },
     "metadata": {},
     "output_type": "display_data"
    },
    {
     "name": "stdout",
     "output_type": "stream",
     "text": [
      "\n",
      " Early Stopping / epoch: 882 loss: 0.001237\n",
      "----------------------------------------------------------------------------------------------------------\n",
      "lr: 0.001  patience: 50  num_layers: 2  batch_size: 64  hidden_size: 16  dropout: 0.25 criterion: MSELoss()\n"
     ]
    },
    {
     "data": {
      "application/vnd.jupyter.widget-view+json": {
       "model_id": "1cdc216e96e04515b99ebc9bcb2d009d",
       "version_major": 2,
       "version_minor": 0
      },
      "text/plain": [
       "  0%|          | 0/10000 [00:00<?, ?it/s]"
      ]
     },
     "metadata": {},
     "output_type": "display_data"
    },
    {
     "name": "stdout",
     "output_type": "stream",
     "text": [
      "\n",
      " Early Stopping / epoch: 629 loss: 0.000501\n",
      "----------------------------------------------------------------------------------------------------------\n",
      "lr: 0.001  patience: 50  num_layers: 2  batch_size: 64  hidden_size: 16  dropout: 0.25 criterion: <function criterion2 at 0x000001F4A9CA77F0>\n"
     ]
    },
    {
     "data": {
      "application/vnd.jupyter.widget-view+json": {
       "model_id": "466b9f4672aa4bf5ba7bb8bd81ba3b51",
       "version_major": 2,
       "version_minor": 0
      },
      "text/plain": [
       "  0%|          | 0/10000 [00:00<?, ?it/s]"
      ]
     },
     "metadata": {},
     "output_type": "display_data"
    },
    {
     "name": "stdout",
     "output_type": "stream",
     "text": [
      "\n",
      " Early Stopping / epoch: 703 loss: 0.005953\n",
      "----------------------------------------------------------------------------------------------------------\n",
      "lr: 0.001  patience: 50  num_layers: 2  batch_size: 64  hidden_size: 16  dropout: 0.25 criterion: <function criterion3 at 0x000001F4A9CA7880>\n"
     ]
    },
    {
     "data": {
      "application/vnd.jupyter.widget-view+json": {
       "model_id": "3083ae212a8d4d13a87a1b5a6abe358f",
       "version_major": 2,
       "version_minor": 0
      },
      "text/plain": [
       "  0%|          | 0/10000 [00:00<?, ?it/s]"
      ]
     },
     "metadata": {},
     "output_type": "display_data"
    },
    {
     "name": "stdout",
     "output_type": "stream",
     "text": [
      "\n",
      " Early Stopping / epoch: 443 loss: 0.001166\n",
      "----------------------------------------------------------------------------------------------------------\n",
      "lr: 0.001  patience: 50  num_layers: 2  batch_size: 64  hidden_size: 16  dropout: 0.5 criterion: MSELoss()\n"
     ]
    },
    {
     "data": {
      "application/vnd.jupyter.widget-view+json": {
       "model_id": "aaac2813a4394193bf4dbe96ac5fa311",
       "version_major": 2,
       "version_minor": 0
      },
      "text/plain": [
       "  0%|          | 0/10000 [00:00<?, ?it/s]"
      ]
     },
     "metadata": {},
     "output_type": "display_data"
    },
    {
     "name": "stdout",
     "output_type": "stream",
     "text": [
      "\n",
      " Early Stopping / epoch: 562 loss: 0.000107\n",
      "----------------------------------------------------------------------------------------------------------\n",
      "lr: 0.001  patience: 50  num_layers: 2  batch_size: 64  hidden_size: 16  dropout: 0.5 criterion: <function criterion2 at 0x000001F4A9CA77F0>\n"
     ]
    },
    {
     "data": {
      "application/vnd.jupyter.widget-view+json": {
       "model_id": "7575f2e0649a4c09874e0e3daf1ace3d",
       "version_major": 2,
       "version_minor": 0
      },
      "text/plain": [
       "  0%|          | 0/10000 [00:00<?, ?it/s]"
      ]
     },
     "metadata": {},
     "output_type": "display_data"
    },
    {
     "name": "stdout",
     "output_type": "stream",
     "text": [
      "\n",
      " Early Stopping / epoch: 717 loss: 0.005786\n",
      "----------------------------------------------------------------------------------------------------------\n",
      "lr: 0.001  patience: 50  num_layers: 2  batch_size: 64  hidden_size: 16  dropout: 0.5 criterion: <function criterion3 at 0x000001F4A9CA7880>\n"
     ]
    },
    {
     "data": {
      "application/vnd.jupyter.widget-view+json": {
       "model_id": "eddc798ea7754c9dac06fdfffd2f94dc",
       "version_major": 2,
       "version_minor": 0
      },
      "text/plain": [
       "  0%|          | 0/10000 [00:00<?, ?it/s]"
      ]
     },
     "metadata": {},
     "output_type": "display_data"
    },
    {
     "name": "stdout",
     "output_type": "stream",
     "text": [
      "\n",
      " Early Stopping / epoch: 625 loss: 0.001130\n",
      "----------------------------------------------------------------------------------------------------------\n",
      "lr: 0.001  patience: 50  num_layers: 2  batch_size: 64  hidden_size: 32  dropout: 0.25 criterion: MSELoss()\n"
     ]
    },
    {
     "data": {
      "application/vnd.jupyter.widget-view+json": {
       "model_id": "b0adbcbaf72f41b290820f2c6d72da1e",
       "version_major": 2,
       "version_minor": 0
      },
      "text/plain": [
       "  0%|          | 0/10000 [00:00<?, ?it/s]"
      ]
     },
     "metadata": {},
     "output_type": "display_data"
    },
    {
     "name": "stdout",
     "output_type": "stream",
     "text": [
      "\n",
      " Early Stopping / epoch: 985 loss: 0.000060\n",
      "----------------------------------------------------------------------------------------------------------\n",
      "lr: 0.001  patience: 50  num_layers: 2  batch_size: 64  hidden_size: 32  dropout: 0.25 criterion: <function criterion2 at 0x000001F4A9CA77F0>\n"
     ]
    },
    {
     "data": {
      "application/vnd.jupyter.widget-view+json": {
       "model_id": "f6de923e76f348b0ac08b628a153d0e1",
       "version_major": 2,
       "version_minor": 0
      },
      "text/plain": [
       "  0%|          | 0/10000 [00:00<?, ?it/s]"
      ]
     },
     "metadata": {},
     "output_type": "display_data"
    },
    {
     "name": "stdout",
     "output_type": "stream",
     "text": [
      "\n",
      " Early Stopping / epoch: 1083 loss: 0.003616\n",
      "----------------------------------------------------------------------------------------------------------\n",
      "lr: 0.001  patience: 50  num_layers: 2  batch_size: 64  hidden_size: 32  dropout: 0.25 criterion: <function criterion3 at 0x000001F4A9CA7880>\n"
     ]
    },
    {
     "data": {
      "application/vnd.jupyter.widget-view+json": {
       "model_id": "6c1a62b70e514a79a480b18d33566b84",
       "version_major": 2,
       "version_minor": 0
      },
      "text/plain": [
       "  0%|          | 0/10000 [00:00<?, ?it/s]"
      ]
     },
     "metadata": {},
     "output_type": "display_data"
    },
    {
     "name": "stdout",
     "output_type": "stream",
     "text": [
      "\n",
      " Early Stopping / epoch: 803 loss: 0.000799\n",
      "----------------------------------------------------------------------------------------------------------\n",
      "lr: 0.001  patience: 50  num_layers: 2  batch_size: 64  hidden_size: 32  dropout: 0.5 criterion: MSELoss()\n"
     ]
    },
    {
     "data": {
      "application/vnd.jupyter.widget-view+json": {
       "model_id": "cccb8d0f0ca04ed08b2d3b0b3288194f",
       "version_major": 2,
       "version_minor": 0
      },
      "text/plain": [
       "  0%|          | 0/10000 [00:00<?, ?it/s]"
      ]
     },
     "metadata": {},
     "output_type": "display_data"
    },
    {
     "name": "stdout",
     "output_type": "stream",
     "text": [
      "\n",
      " Early Stopping / epoch: 566 loss: 0.000173\n",
      "----------------------------------------------------------------------------------------------------------\n",
      "lr: 0.001  patience: 50  num_layers: 2  batch_size: 64  hidden_size: 32  dropout: 0.5 criterion: <function criterion2 at 0x000001F4A9CA77F0>\n"
     ]
    },
    {
     "data": {
      "application/vnd.jupyter.widget-view+json": {
       "model_id": "0f50a45be87f448281654283fb798b4c",
       "version_major": 2,
       "version_minor": 0
      },
      "text/plain": [
       "  0%|          | 0/10000 [00:00<?, ?it/s]"
      ]
     },
     "metadata": {},
     "output_type": "display_data"
    },
    {
     "name": "stdout",
     "output_type": "stream",
     "text": [
      "\n",
      " Early Stopping / epoch: 552 loss: 0.005424\n",
      "----------------------------------------------------------------------------------------------------------\n",
      "lr: 0.001  patience: 50  num_layers: 2  batch_size: 64  hidden_size: 32  dropout: 0.5 criterion: <function criterion3 at 0x000001F4A9CA7880>\n"
     ]
    },
    {
     "data": {
      "application/vnd.jupyter.widget-view+json": {
       "model_id": "1e8c9a7347264cbfba0ec288aaac2d5b",
       "version_major": 2,
       "version_minor": 0
      },
      "text/plain": [
       "  0%|          | 0/10000 [00:00<?, ?it/s]"
      ]
     },
     "metadata": {},
     "output_type": "display_data"
    },
    {
     "name": "stdout",
     "output_type": "stream",
     "text": [
      "\n",
      " Early Stopping / epoch: 905 loss: 0.000760\n",
      "----------------------------------------------------------------------------------------------------------\n",
      "lr: 0.001  patience: 50  num_layers: 2  batch_size: 128  hidden_size: 8  dropout: 0.25 criterion: MSELoss()\n"
     ]
    },
    {
     "data": {
      "application/vnd.jupyter.widget-view+json": {
       "model_id": "2b6b05802382470e97514440f7cb0dd8",
       "version_major": 2,
       "version_minor": 0
      },
      "text/plain": [
       "  0%|          | 0/10000 [00:00<?, ?it/s]"
      ]
     },
     "metadata": {},
     "output_type": "display_data"
    },
    {
     "name": "stdout",
     "output_type": "stream",
     "text": [
      "\n",
      " Early Stopping / epoch: 714 loss: 0.000216\n",
      "----------------------------------------------------------------------------------------------------------\n",
      "lr: 0.001  patience: 50  num_layers: 2  batch_size: 128  hidden_size: 8  dropout: 0.25 criterion: <function criterion2 at 0x000001F4A9CA77F0>\n"
     ]
    },
    {
     "data": {
      "application/vnd.jupyter.widget-view+json": {
       "model_id": "a5f0b321e8c34f4dbe70ec96270004bd",
       "version_major": 2,
       "version_minor": 0
      },
      "text/plain": [
       "  0%|          | 0/10000 [00:00<?, ?it/s]"
      ]
     },
     "metadata": {},
     "output_type": "display_data"
    },
    {
     "name": "stdout",
     "output_type": "stream",
     "text": [
      "\n",
      " Early Stopping / epoch: 991 loss: 0.007319\n",
      "----------------------------------------------------------------------------------------------------------\n",
      "lr: 0.001  patience: 50  num_layers: 2  batch_size: 128  hidden_size: 8  dropout: 0.25 criterion: <function criterion3 at 0x000001F4A9CA7880>\n"
     ]
    },
    {
     "data": {
      "application/vnd.jupyter.widget-view+json": {
       "model_id": "4f2245e3eb514d4d8dcb63badc1ad5b2",
       "version_major": 2,
       "version_minor": 0
      },
      "text/plain": [
       "  0%|          | 0/10000 [00:00<?, ?it/s]"
      ]
     },
     "metadata": {},
     "output_type": "display_data"
    },
    {
     "name": "stdout",
     "output_type": "stream",
     "text": [
      "\n",
      " Early Stopping / epoch: 505 loss: 0.001164\n",
      "----------------------------------------------------------------------------------------------------------\n",
      "lr: 0.001  patience: 50  num_layers: 2  batch_size: 128  hidden_size: 8  dropout: 0.5 criterion: MSELoss()\n"
     ]
    },
    {
     "data": {
      "application/vnd.jupyter.widget-view+json": {
       "model_id": "703f7ee748614200bacb2782d6855f36",
       "version_major": 2,
       "version_minor": 0
      },
      "text/plain": [
       "  0%|          | 0/10000 [00:00<?, ?it/s]"
      ]
     },
     "metadata": {},
     "output_type": "display_data"
    },
    {
     "name": "stdout",
     "output_type": "stream",
     "text": [
      "\n",
      " Early Stopping / epoch: 539 loss: 0.000136\n",
      "----------------------------------------------------------------------------------------------------------\n",
      "lr: 0.001  patience: 50  num_layers: 2  batch_size: 128  hidden_size: 8  dropout: 0.5 criterion: <function criterion2 at 0x000001F4A9CA77F0>\n"
     ]
    },
    {
     "data": {
      "application/vnd.jupyter.widget-view+json": {
       "model_id": "8d7c37e7dba04ce19a75ae707cfcf317",
       "version_major": 2,
       "version_minor": 0
      },
      "text/plain": [
       "  0%|          | 0/10000 [00:00<?, ?it/s]"
      ]
     },
     "metadata": {},
     "output_type": "display_data"
    },
    {
     "name": "stdout",
     "output_type": "stream",
     "text": [
      "\n",
      " Early Stopping / epoch: 791 loss: 0.007836\n",
      "----------------------------------------------------------------------------------------------------------\n",
      "lr: 0.001  patience: 50  num_layers: 2  batch_size: 128  hidden_size: 8  dropout: 0.5 criterion: <function criterion3 at 0x000001F4A9CA7880>\n"
     ]
    },
    {
     "data": {
      "application/vnd.jupyter.widget-view+json": {
       "model_id": "f91075bc7e59496e86f1f24164e5390a",
       "version_major": 2,
       "version_minor": 0
      },
      "text/plain": [
       "  0%|          | 0/10000 [00:00<?, ?it/s]"
      ]
     },
     "metadata": {},
     "output_type": "display_data"
    },
    {
     "name": "stdout",
     "output_type": "stream",
     "text": [
      "\n",
      " Early Stopping / epoch: 436 loss: 0.001180\n",
      "----------------------------------------------------------------------------------------------------------\n",
      "lr: 0.001  patience: 50  num_layers: 2  batch_size: 128  hidden_size: 16  dropout: 0.25 criterion: MSELoss()\n"
     ]
    },
    {
     "data": {
      "application/vnd.jupyter.widget-view+json": {
       "model_id": "7aaad1bfccbd4a5b91ce21e12d74198f",
       "version_major": 2,
       "version_minor": 0
      },
      "text/plain": [
       "  0%|          | 0/10000 [00:00<?, ?it/s]"
      ]
     },
     "metadata": {},
     "output_type": "display_data"
    },
    {
     "name": "stdout",
     "output_type": "stream",
     "text": [
      "\n",
      " Early Stopping / epoch: 559 loss: 0.000124\n",
      "----------------------------------------------------------------------------------------------------------\n",
      "lr: 0.001  patience: 50  num_layers: 2  batch_size: 128  hidden_size: 16  dropout: 0.25 criterion: <function criterion2 at 0x000001F4A9CA77F0>\n"
     ]
    },
    {
     "data": {
      "application/vnd.jupyter.widget-view+json": {
       "model_id": "7f9f75c4a6d54a559903aa4ce5e178b0",
       "version_major": 2,
       "version_minor": 0
      },
      "text/plain": [
       "  0%|          | 0/10000 [00:00<?, ?it/s]"
      ]
     },
     "metadata": {},
     "output_type": "display_data"
    },
    {
     "name": "stdout",
     "output_type": "stream",
     "text": [
      "\n",
      " Early Stopping / epoch: 903 loss: 0.006292\n",
      "----------------------------------------------------------------------------------------------------------\n",
      "lr: 0.001  patience: 50  num_layers: 2  batch_size: 128  hidden_size: 16  dropout: 0.25 criterion: <function criterion3 at 0x000001F4A9CA7880>\n"
     ]
    },
    {
     "data": {
      "application/vnd.jupyter.widget-view+json": {
       "model_id": "68fcc45af9144eecb6f1499872e57ad1",
       "version_major": 2,
       "version_minor": 0
      },
      "text/plain": [
       "  0%|          | 0/10000 [00:00<?, ?it/s]"
      ]
     },
     "metadata": {},
     "output_type": "display_data"
    },
    {
     "name": "stdout",
     "output_type": "stream",
     "text": [
      "\n",
      " Early Stopping / epoch: 763 loss: 0.000823\n",
      "----------------------------------------------------------------------------------------------------------\n",
      "lr: 0.001  patience: 50  num_layers: 2  batch_size: 128  hidden_size: 16  dropout: 0.5 criterion: MSELoss()\n"
     ]
    },
    {
     "data": {
      "application/vnd.jupyter.widget-view+json": {
       "model_id": "27938b516316471181e394fcb1151e2f",
       "version_major": 2,
       "version_minor": 0
      },
      "text/plain": [
       "  0%|          | 0/10000 [00:00<?, ?it/s]"
      ]
     },
     "metadata": {},
     "output_type": "display_data"
    },
    {
     "name": "stdout",
     "output_type": "stream",
     "text": [
      "\n",
      " Early Stopping / epoch: 626 loss: 0.000114\n",
      "----------------------------------------------------------------------------------------------------------\n",
      "lr: 0.001  patience: 50  num_layers: 2  batch_size: 128  hidden_size: 16  dropout: 0.5 criterion: <function criterion2 at 0x000001F4A9CA77F0>\n"
     ]
    },
    {
     "data": {
      "application/vnd.jupyter.widget-view+json": {
       "model_id": "25d4e0973f3b4367a514263a19fb2841",
       "version_major": 2,
       "version_minor": 0
      },
      "text/plain": [
       "  0%|          | 0/10000 [00:00<?, ?it/s]"
      ]
     },
     "metadata": {},
     "output_type": "display_data"
    },
    {
     "name": "stdout",
     "output_type": "stream",
     "text": [
      "\n",
      " Early Stopping / epoch: 527 loss: 0.007137\n",
      "----------------------------------------------------------------------------------------------------------\n",
      "lr: 0.001  patience: 50  num_layers: 2  batch_size: 128  hidden_size: 16  dropout: 0.5 criterion: <function criterion3 at 0x000001F4A9CA7880>\n"
     ]
    },
    {
     "data": {
      "application/vnd.jupyter.widget-view+json": {
       "model_id": "27162743f8154cb487fcb6db95832f3e",
       "version_major": 2,
       "version_minor": 0
      },
      "text/plain": [
       "  0%|          | 0/10000 [00:00<?, ?it/s]"
      ]
     },
     "metadata": {},
     "output_type": "display_data"
    },
    {
     "name": "stdout",
     "output_type": "stream",
     "text": [
      "\n",
      " Early Stopping / epoch: 811 loss: 0.000964\n",
      "----------------------------------------------------------------------------------------------------------\n",
      "lr: 0.001  patience: 50  num_layers: 2  batch_size: 128  hidden_size: 32  dropout: 0.25 criterion: MSELoss()\n"
     ]
    },
    {
     "data": {
      "application/vnd.jupyter.widget-view+json": {
       "model_id": "41f4a637438342d0b7c1c4a38e90baae",
       "version_major": 2,
       "version_minor": 0
      },
      "text/plain": [
       "  0%|          | 0/10000 [00:00<?, ?it/s]"
      ]
     },
     "metadata": {},
     "output_type": "display_data"
    },
    {
     "name": "stdout",
     "output_type": "stream",
     "text": [
      "\n",
      " Early Stopping / epoch: 366 loss: 0.000148\n",
      "----------------------------------------------------------------------------------------------------------\n",
      "lr: 0.001  patience: 50  num_layers: 2  batch_size: 128  hidden_size: 32  dropout: 0.25 criterion: <function criterion2 at 0x000001F4A9CA77F0>\n"
     ]
    },
    {
     "data": {
      "application/vnd.jupyter.widget-view+json": {
       "model_id": "c0e143320b874e19b65bb7d19b694238",
       "version_major": 2,
       "version_minor": 0
      },
      "text/plain": [
       "  0%|          | 0/10000 [00:00<?, ?it/s]"
      ]
     },
     "metadata": {},
     "output_type": "display_data"
    },
    {
     "name": "stdout",
     "output_type": "stream",
     "text": [
      "\n",
      " Early Stopping / epoch: 1062 loss: 0.003688\n",
      "----------------------------------------------------------------------------------------------------------\n",
      "lr: 0.001  patience: 50  num_layers: 2  batch_size: 128  hidden_size: 32  dropout: 0.25 criterion: <function criterion3 at 0x000001F4A9CA7880>\n"
     ]
    },
    {
     "data": {
      "application/vnd.jupyter.widget-view+json": {
       "model_id": "4aead10ccb65403b94077481e6029aac",
       "version_major": 2,
       "version_minor": 0
      },
      "text/plain": [
       "  0%|          | 0/10000 [00:00<?, ?it/s]"
      ]
     },
     "metadata": {},
     "output_type": "display_data"
    },
    {
     "name": "stdout",
     "output_type": "stream",
     "text": [
      "\n",
      " Early Stopping / epoch: 466 loss: 0.001015\n",
      "----------------------------------------------------------------------------------------------------------\n",
      "lr: 0.001  patience: 50  num_layers: 2  batch_size: 128  hidden_size: 32  dropout: 0.5 criterion: MSELoss()\n"
     ]
    },
    {
     "data": {
      "application/vnd.jupyter.widget-view+json": {
       "model_id": "0cfc6c82fd354ac1a0e1b00fea5a2442",
       "version_major": 2,
       "version_minor": 0
      },
      "text/plain": [
       "  0%|          | 0/10000 [00:00<?, ?it/s]"
      ]
     },
     "metadata": {},
     "output_type": "display_data"
    },
    {
     "name": "stdout",
     "output_type": "stream",
     "text": [
      "\n",
      " Early Stopping / epoch: 517 loss: 0.000133\n",
      "----------------------------------------------------------------------------------------------------------\n",
      "lr: 0.001  patience: 50  num_layers: 2  batch_size: 128  hidden_size: 32  dropout: 0.5 criterion: <function criterion2 at 0x000001F4A9CA77F0>\n"
     ]
    },
    {
     "data": {
      "application/vnd.jupyter.widget-view+json": {
       "model_id": "eea73d10a7e0438abc40f183194b4f99",
       "version_major": 2,
       "version_minor": 0
      },
      "text/plain": [
       "  0%|          | 0/10000 [00:00<?, ?it/s]"
      ]
     },
     "metadata": {},
     "output_type": "display_data"
    },
    {
     "name": "stdout",
     "output_type": "stream",
     "text": [
      "\n",
      " Early Stopping / epoch: 1376 loss: 0.003822\n",
      "----------------------------------------------------------------------------------------------------------\n",
      "lr: 0.001  patience: 50  num_layers: 2  batch_size: 128  hidden_size: 32  dropout: 0.5 criterion: <function criterion3 at 0x000001F4A9CA7880>\n"
     ]
    },
    {
     "data": {
      "application/vnd.jupyter.widget-view+json": {
       "model_id": "9d321336f38948778a15790c5ffe199d",
       "version_major": 2,
       "version_minor": 0
      },
      "text/plain": [
       "  0%|          | 0/10000 [00:00<?, ?it/s]"
      ]
     },
     "metadata": {},
     "output_type": "display_data"
    },
    {
     "name": "stdout",
     "output_type": "stream",
     "text": [
      "\n",
      " Early Stopping / epoch: 761 loss: 0.000764\n",
      "----------------------------------------------------------------------------------------------------------\n",
      "lr: 0.001  patience: 50  num_layers: 4  batch_size: 32  hidden_size: 8  dropout: 0.25 criterion: MSELoss()\n"
     ]
    },
    {
     "data": {
      "application/vnd.jupyter.widget-view+json": {
       "model_id": "492c5d88ed354a0bab2879d3797720c0",
       "version_major": 2,
       "version_minor": 0
      },
      "text/plain": [
       "  0%|          | 0/10000 [00:00<?, ?it/s]"
      ]
     },
     "metadata": {},
     "output_type": "display_data"
    },
    {
     "name": "stdout",
     "output_type": "stream",
     "text": [
      "\n",
      " Early Stopping / epoch: 375 loss: 0.000202\n",
      "----------------------------------------------------------------------------------------------------------\n",
      "lr: 0.001  patience: 50  num_layers: 4  batch_size: 32  hidden_size: 8  dropout: 0.25 criterion: <function criterion2 at 0x000001F4A9CA77F0>\n"
     ]
    },
    {
     "data": {
      "application/vnd.jupyter.widget-view+json": {
       "model_id": "a988de493c0e480ab39929785db125a7",
       "version_major": 2,
       "version_minor": 0
      },
      "text/plain": [
       "  0%|          | 0/10000 [00:00<?, ?it/s]"
      ]
     },
     "metadata": {},
     "output_type": "display_data"
    },
    {
     "name": "stdout",
     "output_type": "stream",
     "text": [
      "\n",
      " Early Stopping / epoch: 218 loss: 0.010157\n",
      "----------------------------------------------------------------------------------------------------------\n",
      "lr: 0.001  patience: 50  num_layers: 4  batch_size: 32  hidden_size: 8  dropout: 0.25 criterion: <function criterion3 at 0x000001F4A9CA7880>\n"
     ]
    },
    {
     "data": {
      "application/vnd.jupyter.widget-view+json": {
       "model_id": "7345e26c59ac433ca42e139ba2a5d532",
       "version_major": 2,
       "version_minor": 0
      },
      "text/plain": [
       "  0%|          | 0/10000 [00:00<?, ?it/s]"
      ]
     },
     "metadata": {},
     "output_type": "display_data"
    },
    {
     "name": "stdout",
     "output_type": "stream",
     "text": [
      "\n",
      " Early Stopping / epoch: 213 loss: 0.002380\n",
      "----------------------------------------------------------------------------------------------------------\n",
      "lr: 0.001  patience: 50  num_layers: 4  batch_size: 32  hidden_size: 8  dropout: 0.5 criterion: MSELoss()\n"
     ]
    },
    {
     "data": {
      "application/vnd.jupyter.widget-view+json": {
       "model_id": "0df0d22f315742de877aeb94c87df6ad",
       "version_major": 2,
       "version_minor": 0
      },
      "text/plain": [
       "  0%|          | 0/10000 [00:00<?, ?it/s]"
      ]
     },
     "metadata": {},
     "output_type": "display_data"
    },
    {
     "name": "stdout",
     "output_type": "stream",
     "text": [
      "\n",
      " Early Stopping / epoch: 257 loss: 0.000297\n",
      "----------------------------------------------------------------------------------------------------------\n",
      "lr: 0.001  patience: 50  num_layers: 4  batch_size: 32  hidden_size: 8  dropout: 0.5 criterion: <function criterion2 at 0x000001F4A9CA77F0>\n"
     ]
    },
    {
     "data": {
      "application/vnd.jupyter.widget-view+json": {
       "model_id": "c588c342d3ba45b2816b5b6b96a4b5eb",
       "version_major": 2,
       "version_minor": 0
      },
      "text/plain": [
       "  0%|          | 0/10000 [00:00<?, ?it/s]"
      ]
     },
     "metadata": {},
     "output_type": "display_data"
    },
    {
     "name": "stdout",
     "output_type": "stream",
     "text": [
      "\n",
      " Early Stopping / epoch: 170 loss: 0.009914\n",
      "----------------------------------------------------------------------------------------------------------\n",
      "lr: 0.001  patience: 50  num_layers: 4  batch_size: 32  hidden_size: 8  dropout: 0.5 criterion: <function criterion3 at 0x000001F4A9CA7880>\n"
     ]
    },
    {
     "data": {
      "application/vnd.jupyter.widget-view+json": {
       "model_id": "a043e872e4334a70827fbefe1725f673",
       "version_major": 2,
       "version_minor": 0
      },
      "text/plain": [
       "  0%|          | 0/10000 [00:00<?, ?it/s]"
      ]
     },
     "metadata": {},
     "output_type": "display_data"
    },
    {
     "name": "stdout",
     "output_type": "stream",
     "text": [
      "\n",
      " Early Stopping / epoch: 882 loss: 0.001618\n",
      "----------------------------------------------------------------------------------------------------------\n",
      "lr: 0.001  patience: 50  num_layers: 4  batch_size: 32  hidden_size: 16  dropout: 0.25 criterion: MSELoss()\n"
     ]
    },
    {
     "data": {
      "application/vnd.jupyter.widget-view+json": {
       "model_id": "505fd68a2c7d433cb4ddd9b7b6ed12e5",
       "version_major": 2,
       "version_minor": 0
      },
      "text/plain": [
       "  0%|          | 0/10000 [00:00<?, ?it/s]"
      ]
     },
     "metadata": {},
     "output_type": "display_data"
    },
    {
     "name": "stdout",
     "output_type": "stream",
     "text": [
      "\n",
      " Early Stopping / epoch: 613 loss: 0.000180\n",
      "----------------------------------------------------------------------------------------------------------\n",
      "lr: 0.001  patience: 50  num_layers: 4  batch_size: 32  hidden_size: 16  dropout: 0.25 criterion: <function criterion2 at 0x000001F4A9CA77F0>\n"
     ]
    },
    {
     "data": {
      "application/vnd.jupyter.widget-view+json": {
       "model_id": "a97610f2d80c4930abf6252786021099",
       "version_major": 2,
       "version_minor": 0
      },
      "text/plain": [
       "  0%|          | 0/10000 [00:00<?, ?it/s]"
      ]
     },
     "metadata": {},
     "output_type": "display_data"
    },
    {
     "name": "stdout",
     "output_type": "stream",
     "text": [
      "\n",
      " Early Stopping / epoch: 541 loss: 0.006091\n",
      "----------------------------------------------------------------------------------------------------------\n",
      "lr: 0.001  patience: 50  num_layers: 4  batch_size: 32  hidden_size: 16  dropout: 0.25 criterion: <function criterion3 at 0x000001F4A9CA7880>\n"
     ]
    },
    {
     "data": {
      "application/vnd.jupyter.widget-view+json": {
       "model_id": "51c2850f901f428e99c7324c4a8caa9b",
       "version_major": 2,
       "version_minor": 0
      },
      "text/plain": [
       "  0%|          | 0/10000 [00:00<?, ?it/s]"
      ]
     },
     "metadata": {},
     "output_type": "display_data"
    },
    {
     "name": "stdout",
     "output_type": "stream",
     "text": [
      "\n",
      " Early Stopping / epoch: 155 loss: 0.002224\n",
      "----------------------------------------------------------------------------------------------------------\n",
      "lr: 0.001  patience: 50  num_layers: 4  batch_size: 32  hidden_size: 16  dropout: 0.5 criterion: MSELoss()\n"
     ]
    },
    {
     "data": {
      "application/vnd.jupyter.widget-view+json": {
       "model_id": "76c73d82a32a4d67b324a03a8d37dad9",
       "version_major": 2,
       "version_minor": 0
      },
      "text/plain": [
       "  0%|          | 0/10000 [00:00<?, ?it/s]"
      ]
     },
     "metadata": {},
     "output_type": "display_data"
    },
    {
     "name": "stdout",
     "output_type": "stream",
     "text": [
      "\n",
      " Early Stopping / epoch: 428 loss: 0.000158\n",
      "----------------------------------------------------------------------------------------------------------\n",
      "lr: 0.001  patience: 50  num_layers: 4  batch_size: 32  hidden_size: 16  dropout: 0.5 criterion: <function criterion2 at 0x000001F4A9CA77F0>\n"
     ]
    },
    {
     "data": {
      "application/vnd.jupyter.widget-view+json": {
       "model_id": "e366a13087d6467da57189cad27552e7",
       "version_major": 2,
       "version_minor": 0
      },
      "text/plain": [
       "  0%|          | 0/10000 [00:00<?, ?it/s]"
      ]
     },
     "metadata": {},
     "output_type": "display_data"
    },
    {
     "name": "stdout",
     "output_type": "stream",
     "text": [
      "\n",
      " Early Stopping / epoch: 482 loss: 0.007383\n",
      "----------------------------------------------------------------------------------------------------------\n",
      "lr: 0.001  patience: 50  num_layers: 4  batch_size: 32  hidden_size: 16  dropout: 0.5 criterion: <function criterion3 at 0x000001F4A9CA7880>\n"
     ]
    },
    {
     "data": {
      "application/vnd.jupyter.widget-view+json": {
       "model_id": "d0fae82b163449bfbba6c3abd030fcaf",
       "version_major": 2,
       "version_minor": 0
      },
      "text/plain": [
       "  0%|          | 0/10000 [00:00<?, ?it/s]"
      ]
     },
     "metadata": {},
     "output_type": "display_data"
    },
    {
     "name": "stdout",
     "output_type": "stream",
     "text": [
      "\n",
      " Early Stopping / epoch: 193 loss: 0.002175\n",
      "----------------------------------------------------------------------------------------------------------\n",
      "lr: 0.001  patience: 50  num_layers: 4  batch_size: 32  hidden_size: 32  dropout: 0.25 criterion: MSELoss()\n"
     ]
    },
    {
     "data": {
      "application/vnd.jupyter.widget-view+json": {
       "model_id": "725720962a8946b3bac25e41a4f22056",
       "version_major": 2,
       "version_minor": 0
      },
      "text/plain": [
       "  0%|          | 0/10000 [00:00<?, ?it/s]"
      ]
     },
     "metadata": {},
     "output_type": "display_data"
    },
    {
     "name": "stdout",
     "output_type": "stream",
     "text": [
      "\n",
      " Early Stopping / epoch: 400 loss: 0.000143\n",
      "----------------------------------------------------------------------------------------------------------\n",
      "lr: 0.001  patience: 50  num_layers: 4  batch_size: 32  hidden_size: 32  dropout: 0.25 criterion: <function criterion2 at 0x000001F4A9CA77F0>\n"
     ]
    },
    {
     "data": {
      "application/vnd.jupyter.widget-view+json": {
       "model_id": "95ab04c25bf7461cb7c961aa64f9e57a",
       "version_major": 2,
       "version_minor": 0
      },
      "text/plain": [
       "  0%|          | 0/10000 [00:00<?, ?it/s]"
      ]
     },
     "metadata": {},
     "output_type": "display_data"
    },
    {
     "name": "stdout",
     "output_type": "stream",
     "text": [
      "\n",
      " Early Stopping / epoch: 573 loss: 0.004947\n",
      "----------------------------------------------------------------------------------------------------------\n",
      "lr: 0.001  patience: 50  num_layers: 4  batch_size: 32  hidden_size: 32  dropout: 0.25 criterion: <function criterion3 at 0x000001F4A9CA7880>\n"
     ]
    },
    {
     "data": {
      "application/vnd.jupyter.widget-view+json": {
       "model_id": "39bdcb88a41f4a3599f9a86e9db95749",
       "version_major": 2,
       "version_minor": 0
      },
      "text/plain": [
       "  0%|          | 0/10000 [00:00<?, ?it/s]"
      ]
     },
     "metadata": {},
     "output_type": "display_data"
    },
    {
     "name": "stdout",
     "output_type": "stream",
     "text": [
      "\n",
      " Early Stopping / epoch: 338 loss: 0.001658\n",
      "----------------------------------------------------------------------------------------------------------\n",
      "lr: 0.001  patience: 50  num_layers: 4  batch_size: 32  hidden_size: 32  dropout: 0.5 criterion: MSELoss()\n"
     ]
    },
    {
     "data": {
      "application/vnd.jupyter.widget-view+json": {
       "model_id": "8fbc39fdef914fd1bf2e89d36d8cf82f",
       "version_major": 2,
       "version_minor": 0
      },
      "text/plain": [
       "  0%|          | 0/10000 [00:00<?, ?it/s]"
      ]
     },
     "metadata": {},
     "output_type": "display_data"
    },
    {
     "name": "stdout",
     "output_type": "stream",
     "text": [
      "\n",
      " Early Stopping / epoch: 264 loss: 0.000136\n",
      "----------------------------------------------------------------------------------------------------------\n",
      "lr: 0.001  patience: 50  num_layers: 4  batch_size: 32  hidden_size: 32  dropout: 0.5 criterion: <function criterion2 at 0x000001F4A9CA77F0>\n"
     ]
    },
    {
     "data": {
      "application/vnd.jupyter.widget-view+json": {
       "model_id": "5d696b5b61e644c98fab763d30da3322",
       "version_major": 2,
       "version_minor": 0
      },
      "text/plain": [
       "  0%|          | 0/10000 [00:00<?, ?it/s]"
      ]
     },
     "metadata": {},
     "output_type": "display_data"
    },
    {
     "name": "stdout",
     "output_type": "stream",
     "text": [
      "\n",
      " Early Stopping / epoch: 634 loss: 0.004800\n",
      "----------------------------------------------------------------------------------------------------------\n",
      "lr: 0.001  patience: 50  num_layers: 4  batch_size: 32  hidden_size: 32  dropout: 0.5 criterion: <function criterion3 at 0x000001F4A9CA7880>\n"
     ]
    },
    {
     "data": {
      "application/vnd.jupyter.widget-view+json": {
       "model_id": "55eb2c9a1ee3471eae7ce9c5137c771f",
       "version_major": 2,
       "version_minor": 0
      },
      "text/plain": [
       "  0%|          | 0/10000 [00:00<?, ?it/s]"
      ]
     },
     "metadata": {},
     "output_type": "display_data"
    },
    {
     "name": "stdout",
     "output_type": "stream",
     "text": [
      "\n",
      " Early Stopping / epoch: 167 loss: 0.002155\n",
      "----------------------------------------------------------------------------------------------------------\n",
      "lr: 0.001  patience: 50  num_layers: 4  batch_size: 64  hidden_size: 8  dropout: 0.25 criterion: MSELoss()\n"
     ]
    },
    {
     "data": {
      "application/vnd.jupyter.widget-view+json": {
       "model_id": "4f5b11706e6e45e4981717d0faf1bd67",
       "version_major": 2,
       "version_minor": 0
      },
      "text/plain": [
       "  0%|          | 0/10000 [00:00<?, ?it/s]"
      ]
     },
     "metadata": {},
     "output_type": "display_data"
    },
    {
     "name": "stdout",
     "output_type": "stream",
     "text": [
      "\n",
      " Early Stopping / epoch: 501 loss: 0.000154\n",
      "----------------------------------------------------------------------------------------------------------\n",
      "lr: 0.001  patience: 50  num_layers: 4  batch_size: 64  hidden_size: 8  dropout: 0.25 criterion: <function criterion2 at 0x000001F4A9CA77F0>\n"
     ]
    },
    {
     "data": {
      "application/vnd.jupyter.widget-view+json": {
       "model_id": "b015f778202c4dfeb264a80384e2ef70",
       "version_major": 2,
       "version_minor": 0
      },
      "text/plain": [
       "  0%|          | 0/10000 [00:00<?, ?it/s]"
      ]
     },
     "metadata": {},
     "output_type": "display_data"
    },
    {
     "name": "stdout",
     "output_type": "stream",
     "text": [
      "\n",
      " Early Stopping / epoch: 647 loss: 0.008173\n",
      "----------------------------------------------------------------------------------------------------------\n",
      "lr: 0.001  patience: 50  num_layers: 4  batch_size: 64  hidden_size: 8  dropout: 0.25 criterion: <function criterion3 at 0x000001F4A9CA7880>\n"
     ]
    },
    {
     "data": {
      "application/vnd.jupyter.widget-view+json": {
       "model_id": "9ea89aab875f44af8f3d4b2c6154382c",
       "version_major": 2,
       "version_minor": 0
      },
      "text/plain": [
       "  0%|          | 0/10000 [00:00<?, ?it/s]"
      ]
     },
     "metadata": {},
     "output_type": "display_data"
    },
    {
     "name": "stdout",
     "output_type": "stream",
     "text": [
      "\n",
      " Early Stopping / epoch: 488 loss: 0.001525\n",
      "----------------------------------------------------------------------------------------------------------\n",
      "lr: 0.001  patience: 50  num_layers: 4  batch_size: 64  hidden_size: 8  dropout: 0.5 criterion: MSELoss()\n"
     ]
    },
    {
     "data": {
      "application/vnd.jupyter.widget-view+json": {
       "model_id": "5be93b5d0fb24bb2ba2dd37b909fafad",
       "version_major": 2,
       "version_minor": 0
      },
      "text/plain": [
       "  0%|          | 0/10000 [00:00<?, ?it/s]"
      ]
     },
     "metadata": {},
     "output_type": "display_data"
    },
    {
     "name": "stdout",
     "output_type": "stream",
     "text": [
      "\n",
      " Early Stopping / epoch: 380 loss: 0.000309\n",
      "----------------------------------------------------------------------------------------------------------\n",
      "lr: 0.001  patience: 50  num_layers: 4  batch_size: 64  hidden_size: 8  dropout: 0.5 criterion: <function criterion2 at 0x000001F4A9CA77F0>\n"
     ]
    },
    {
     "data": {
      "application/vnd.jupyter.widget-view+json": {
       "model_id": "f47b0a14a1b54790bfdec12151e615e9",
       "version_major": 2,
       "version_minor": 0
      },
      "text/plain": [
       "  0%|          | 0/10000 [00:00<?, ?it/s]"
      ]
     },
     "metadata": {},
     "output_type": "display_data"
    },
    {
     "name": "stdout",
     "output_type": "stream",
     "text": [
      "\n",
      " Early Stopping / epoch: 785 loss: 0.007631\n",
      "----------------------------------------------------------------------------------------------------------\n",
      "lr: 0.001  patience: 50  num_layers: 4  batch_size: 64  hidden_size: 8  dropout: 0.5 criterion: <function criterion3 at 0x000001F4A9CA7880>\n"
     ]
    },
    {
     "data": {
      "application/vnd.jupyter.widget-view+json": {
       "model_id": "904c14f3859c4be3917b7bb058835fbe",
       "version_major": 2,
       "version_minor": 0
      },
      "text/plain": [
       "  0%|          | 0/10000 [00:00<?, ?it/s]"
      ]
     },
     "metadata": {},
     "output_type": "display_data"
    },
    {
     "name": "stdout",
     "output_type": "stream",
     "text": [
      "\n",
      " Early Stopping / epoch: 558 loss: 0.001474\n",
      "----------------------------------------------------------------------------------------------------------\n",
      "lr: 0.001  patience: 50  num_layers: 4  batch_size: 64  hidden_size: 16  dropout: 0.25 criterion: MSELoss()\n"
     ]
    },
    {
     "data": {
      "application/vnd.jupyter.widget-view+json": {
       "model_id": "2e0334313adb49fd815e39f79974fa20",
       "version_major": 2,
       "version_minor": 0
      },
      "text/plain": [
       "  0%|          | 0/10000 [00:00<?, ?it/s]"
      ]
     },
     "metadata": {},
     "output_type": "display_data"
    },
    {
     "name": "stdout",
     "output_type": "stream",
     "text": [
      "\n",
      " Early Stopping / epoch: 471 loss: 0.000132\n",
      "----------------------------------------------------------------------------------------------------------\n",
      "lr: 0.001  patience: 50  num_layers: 4  batch_size: 64  hidden_size: 16  dropout: 0.25 criterion: <function criterion2 at 0x000001F4A9CA77F0>\n"
     ]
    },
    {
     "data": {
      "application/vnd.jupyter.widget-view+json": {
       "model_id": "8fe42a61a2a54e8280b1f2ec0e3a27d9",
       "version_major": 2,
       "version_minor": 0
      },
      "text/plain": [
       "  0%|          | 0/10000 [00:00<?, ?it/s]"
      ]
     },
     "metadata": {},
     "output_type": "display_data"
    },
    {
     "name": "stdout",
     "output_type": "stream",
     "text": [
      "\n",
      " Early Stopping / epoch: 754 loss: 0.006214\n",
      "----------------------------------------------------------------------------------------------------------\n",
      "lr: 0.001  patience: 50  num_layers: 4  batch_size: 64  hidden_size: 16  dropout: 0.25 criterion: <function criterion3 at 0x000001F4A9CA7880>\n"
     ]
    },
    {
     "data": {
      "application/vnd.jupyter.widget-view+json": {
       "model_id": "d8fa5b61b0b845a5b759b64d6157f853",
       "version_major": 2,
       "version_minor": 0
      },
      "text/plain": [
       "  0%|          | 0/10000 [00:00<?, ?it/s]"
      ]
     },
     "metadata": {},
     "output_type": "display_data"
    },
    {
     "name": "stdout",
     "output_type": "stream",
     "text": [
      "\n",
      " Early Stopping / epoch: 850 loss: 0.001062\n",
      "----------------------------------------------------------------------------------------------------------\n",
      "lr: 0.001  patience: 50  num_layers: 4  batch_size: 64  hidden_size: 16  dropout: 0.5 criterion: MSELoss()\n"
     ]
    },
    {
     "data": {
      "application/vnd.jupyter.widget-view+json": {
       "model_id": "530aa95278134db29bdb12241bfdaf7c",
       "version_major": 2,
       "version_minor": 0
      },
      "text/plain": [
       "  0%|          | 0/10000 [00:00<?, ?it/s]"
      ]
     },
     "metadata": {},
     "output_type": "display_data"
    },
    {
     "name": "stdout",
     "output_type": "stream",
     "text": [
      "\n",
      " Early Stopping / epoch: 467 loss: 0.000173\n",
      "----------------------------------------------------------------------------------------------------------\n",
      "lr: 0.001  patience: 50  num_layers: 4  batch_size: 64  hidden_size: 16  dropout: 0.5 criterion: <function criterion2 at 0x000001F4A9CA77F0>\n"
     ]
    },
    {
     "data": {
      "application/vnd.jupyter.widget-view+json": {
       "model_id": "8287a6a8e58949778a330ef2d7d25908",
       "version_major": 2,
       "version_minor": 0
      },
      "text/plain": [
       "  0%|          | 0/10000 [00:00<?, ?it/s]"
      ]
     },
     "metadata": {},
     "output_type": "display_data"
    },
    {
     "name": "stdout",
     "output_type": "stream",
     "text": [
      "\n",
      " Early Stopping / epoch: 590 loss: 0.005978\n",
      "----------------------------------------------------------------------------------------------------------\n",
      "lr: 0.001  patience: 50  num_layers: 4  batch_size: 64  hidden_size: 16  dropout: 0.5 criterion: <function criterion3 at 0x000001F4A9CA7880>\n"
     ]
    },
    {
     "data": {
      "application/vnd.jupyter.widget-view+json": {
       "model_id": "34057f4ba60940c5b9d8ab7baf51a074",
       "version_major": 2,
       "version_minor": 0
      },
      "text/plain": [
       "  0%|          | 0/10000 [00:00<?, ?it/s]"
      ]
     },
     "metadata": {},
     "output_type": "display_data"
    },
    {
     "name": "stdout",
     "output_type": "stream",
     "text": [
      "\n",
      " Early Stopping / epoch: 642 loss: 0.001189\n",
      "----------------------------------------------------------------------------------------------------------\n",
      "lr: 0.001  patience: 50  num_layers: 4  batch_size: 64  hidden_size: 32  dropout: 0.25 criterion: MSELoss()\n"
     ]
    },
    {
     "data": {
      "application/vnd.jupyter.widget-view+json": {
       "model_id": "14ab3cf68bcd4f56be50d7e5f8e6ac04",
       "version_major": 2,
       "version_minor": 0
      },
      "text/plain": [
       "  0%|          | 0/10000 [00:00<?, ?it/s]"
      ]
     },
     "metadata": {},
     "output_type": "display_data"
    },
    {
     "name": "stdout",
     "output_type": "stream",
     "text": [
      "\n",
      " Early Stopping / epoch: 394 loss: 0.000247\n",
      "----------------------------------------------------------------------------------------------------------\n",
      "lr: 0.001  patience: 50  num_layers: 4  batch_size: 64  hidden_size: 32  dropout: 0.25 criterion: <function criterion2 at 0x000001F4A9CA77F0>\n"
     ]
    },
    {
     "data": {
      "application/vnd.jupyter.widget-view+json": {
       "model_id": "45d6cd1838ca444bb08b32d6d6378de5",
       "version_major": 2,
       "version_minor": 0
      },
      "text/plain": [
       "  0%|          | 0/10000 [00:00<?, ?it/s]"
      ]
     },
     "metadata": {},
     "output_type": "display_data"
    },
    {
     "name": "stdout",
     "output_type": "stream",
     "text": [
      "\n",
      " Early Stopping / epoch: 852 loss: 0.004317\n",
      "----------------------------------------------------------------------------------------------------------\n",
      "lr: 0.001  patience: 50  num_layers: 4  batch_size: 64  hidden_size: 32  dropout: 0.25 criterion: <function criterion3 at 0x000001F4A9CA7880>\n"
     ]
    },
    {
     "data": {
      "application/vnd.jupyter.widget-view+json": {
       "model_id": "6fd36c87996144f6a979a33c26a51875",
       "version_major": 2,
       "version_minor": 0
      },
      "text/plain": [
       "  0%|          | 0/10000 [00:00<?, ?it/s]"
      ]
     },
     "metadata": {},
     "output_type": "display_data"
    },
    {
     "name": "stdout",
     "output_type": "stream",
     "text": [
      "\n",
      " Early Stopping / epoch: 340 loss: 0.001578\n",
      "----------------------------------------------------------------------------------------------------------\n",
      "lr: 0.001  patience: 50  num_layers: 4  batch_size: 64  hidden_size: 32  dropout: 0.5 criterion: MSELoss()\n"
     ]
    },
    {
     "data": {
      "application/vnd.jupyter.widget-view+json": {
       "model_id": "55504eecfd1045b89c1c10ae1485189a",
       "version_major": 2,
       "version_minor": 0
      },
      "text/plain": [
       "  0%|          | 0/10000 [00:00<?, ?it/s]"
      ]
     },
     "metadata": {},
     "output_type": "display_data"
    },
    {
     "name": "stdout",
     "output_type": "stream",
     "text": [
      "\n",
      " Early Stopping / epoch: 696 loss: 0.000128\n",
      "----------------------------------------------------------------------------------------------------------\n",
      "lr: 0.001  patience: 50  num_layers: 4  batch_size: 64  hidden_size: 32  dropout: 0.5 criterion: <function criterion2 at 0x000001F4A9CA77F0>\n"
     ]
    },
    {
     "data": {
      "application/vnd.jupyter.widget-view+json": {
       "model_id": "602472b46a354461b49147ec39390e66",
       "version_major": 2,
       "version_minor": 0
      },
      "text/plain": [
       "  0%|          | 0/10000 [00:00<?, ?it/s]"
      ]
     },
     "metadata": {},
     "output_type": "display_data"
    },
    {
     "name": "stdout",
     "output_type": "stream",
     "text": [
      "\n",
      " Early Stopping / epoch: 739 loss: 0.005335\n",
      "----------------------------------------------------------------------------------------------------------\n",
      "lr: 0.001  patience: 50  num_layers: 4  batch_size: 64  hidden_size: 32  dropout: 0.5 criterion: <function criterion3 at 0x000001F4A9CA7880>\n"
     ]
    },
    {
     "data": {
      "application/vnd.jupyter.widget-view+json": {
       "model_id": "dc200d9fe4b4435d922a11d9313aac1c",
       "version_major": 2,
       "version_minor": 0
      },
      "text/plain": [
       "  0%|          | 0/10000 [00:00<?, ?it/s]"
      ]
     },
     "metadata": {},
     "output_type": "display_data"
    },
    {
     "name": "stdout",
     "output_type": "stream",
     "text": [
      "\n",
      " Early Stopping / epoch: 395 loss: 0.001343\n",
      "----------------------------------------------------------------------------------------------------------\n",
      "lr: 0.001  patience: 50  num_layers: 4  batch_size: 128  hidden_size: 8  dropout: 0.25 criterion: MSELoss()\n"
     ]
    },
    {
     "data": {
      "application/vnd.jupyter.widget-view+json": {
       "model_id": "9de72f1d3b44454fadd068fbb93aa627",
       "version_major": 2,
       "version_minor": 0
      },
      "text/plain": [
       "  0%|          | 0/10000 [00:00<?, ?it/s]"
      ]
     },
     "metadata": {},
     "output_type": "display_data"
    },
    {
     "name": "stdout",
     "output_type": "stream",
     "text": [
      "\n",
      " Early Stopping / epoch: 937 loss: 0.000217\n",
      "----------------------------------------------------------------------------------------------------------\n",
      "lr: 0.001  patience: 50  num_layers: 4  batch_size: 128  hidden_size: 8  dropout: 0.25 criterion: <function criterion2 at 0x000001F4A9CA77F0>\n"
     ]
    },
    {
     "data": {
      "application/vnd.jupyter.widget-view+json": {
       "model_id": "ed34b63e00a245ac8717a3feed4c7305",
       "version_major": 2,
       "version_minor": 0
      },
      "text/plain": [
       "  0%|          | 0/10000 [00:00<?, ?it/s]"
      ]
     },
     "metadata": {},
     "output_type": "display_data"
    },
    {
     "name": "stdout",
     "output_type": "stream",
     "text": [
      "\n",
      " Early Stopping / epoch: 1027 loss: 0.007296\n",
      "----------------------------------------------------------------------------------------------------------\n",
      "lr: 0.001  patience: 50  num_layers: 4  batch_size: 128  hidden_size: 8  dropout: 0.25 criterion: <function criterion3 at 0x000001F4A9CA7880>\n"
     ]
    },
    {
     "data": {
      "application/vnd.jupyter.widget-view+json": {
       "model_id": "89ff0ca6e54d4bafa91f8a9a4199bd21",
       "version_major": 2,
       "version_minor": 0
      },
      "text/plain": [
       "  0%|          | 0/10000 [00:00<?, ?it/s]"
      ]
     },
     "metadata": {},
     "output_type": "display_data"
    },
    {
     "name": "stdout",
     "output_type": "stream",
     "text": [
      "\n",
      " Early Stopping / epoch: 411 loss: 0.001302\n",
      "----------------------------------------------------------------------------------------------------------\n",
      "lr: 0.001  patience: 50  num_layers: 4  batch_size: 128  hidden_size: 8  dropout: 0.5 criterion: MSELoss()\n"
     ]
    },
    {
     "data": {
      "application/vnd.jupyter.widget-view+json": {
       "model_id": "610d3b14e8f949f883ad9e0b854a63f9",
       "version_major": 2,
       "version_minor": 0
      },
      "text/plain": [
       "  0%|          | 0/10000 [00:00<?, ?it/s]"
      ]
     },
     "metadata": {},
     "output_type": "display_data"
    },
    {
     "name": "stdout",
     "output_type": "stream",
     "text": [
      "\n",
      " Early Stopping / epoch: 641 loss: 0.000281\n",
      "----------------------------------------------------------------------------------------------------------\n",
      "lr: 0.001  patience: 50  num_layers: 4  batch_size: 128  hidden_size: 8  dropout: 0.5 criterion: <function criterion2 at 0x000001F4A9CA77F0>\n"
     ]
    },
    {
     "data": {
      "application/vnd.jupyter.widget-view+json": {
       "model_id": "14438cef6fef41ce8f5d081a8fd25087",
       "version_major": 2,
       "version_minor": 0
      },
      "text/plain": [
       "  0%|          | 0/10000 [00:00<?, ?it/s]"
      ]
     },
     "metadata": {},
     "output_type": "display_data"
    },
    {
     "name": "stdout",
     "output_type": "stream",
     "text": [
      "\n",
      " Early Stopping / epoch: 601 loss: 0.007754\n",
      "----------------------------------------------------------------------------------------------------------\n",
      "lr: 0.001  patience: 50  num_layers: 4  batch_size: 128  hidden_size: 8  dropout: 0.5 criterion: <function criterion3 at 0x000001F4A9CA7880>\n"
     ]
    },
    {
     "data": {
      "application/vnd.jupyter.widget-view+json": {
       "model_id": "d0b52123eedd4872aff34be05600be4c",
       "version_major": 2,
       "version_minor": 0
      },
      "text/plain": [
       "  0%|          | 0/10000 [00:00<?, ?it/s]"
      ]
     },
     "metadata": {},
     "output_type": "display_data"
    },
    {
     "name": "stdout",
     "output_type": "stream",
     "text": [
      "\n",
      " Early Stopping / epoch: 467 loss: 0.001209\n",
      "----------------------------------------------------------------------------------------------------------\n",
      "lr: 0.001  patience: 50  num_layers: 4  batch_size: 128  hidden_size: 16  dropout: 0.25 criterion: MSELoss()\n"
     ]
    },
    {
     "data": {
      "application/vnd.jupyter.widget-view+json": {
       "model_id": "7004471cfa53427bb469018abb1d5428",
       "version_major": 2,
       "version_minor": 0
      },
      "text/plain": [
       "  0%|          | 0/10000 [00:00<?, ?it/s]"
      ]
     },
     "metadata": {},
     "output_type": "display_data"
    },
    {
     "name": "stdout",
     "output_type": "stream",
     "text": [
      "\n",
      " Early Stopping / epoch: 299 loss: 0.000205\n",
      "----------------------------------------------------------------------------------------------------------\n",
      "lr: 0.001  patience: 50  num_layers: 4  batch_size: 128  hidden_size: 16  dropout: 0.25 criterion: <function criterion2 at 0x000001F4A9CA77F0>\n"
     ]
    },
    {
     "data": {
      "application/vnd.jupyter.widget-view+json": {
       "model_id": "d319d72b39d24a29923e9078813278b6",
       "version_major": 2,
       "version_minor": 0
      },
      "text/plain": [
       "  0%|          | 0/10000 [00:00<?, ?it/s]"
      ]
     },
     "metadata": {},
     "output_type": "display_data"
    },
    {
     "name": "stdout",
     "output_type": "stream",
     "text": [
      "\n",
      " Early Stopping / epoch: 638 loss: 0.006304\n",
      "----------------------------------------------------------------------------------------------------------\n",
      "lr: 0.001  patience: 50  num_layers: 4  batch_size: 128  hidden_size: 16  dropout: 0.25 criterion: <function criterion3 at 0x000001F4A9CA7880>\n"
     ]
    },
    {
     "data": {
      "application/vnd.jupyter.widget-view+json": {
       "model_id": "88d28b7a4b0d4945b525ad19fac26b42",
       "version_major": 2,
       "version_minor": 0
      },
      "text/plain": [
       "  0%|          | 0/10000 [00:00<?, ?it/s]"
      ]
     },
     "metadata": {},
     "output_type": "display_data"
    },
    {
     "name": "stdout",
     "output_type": "stream",
     "text": [
      "\n",
      " Early Stopping / epoch: 509 loss: 0.000965\n",
      "----------------------------------------------------------------------------------------------------------\n",
      "lr: 0.001  patience: 50  num_layers: 4  batch_size: 128  hidden_size: 16  dropout: 0.5 criterion: MSELoss()\n"
     ]
    },
    {
     "data": {
      "application/vnd.jupyter.widget-view+json": {
       "model_id": "9781537a1dc9432f933186e6eb362897",
       "version_major": 2,
       "version_minor": 0
      },
      "text/plain": [
       "  0%|          | 0/10000 [00:00<?, ?it/s]"
      ]
     },
     "metadata": {},
     "output_type": "display_data"
    },
    {
     "name": "stdout",
     "output_type": "stream",
     "text": [
      "\n",
      " Early Stopping / epoch: 326 loss: 0.000213\n",
      "----------------------------------------------------------------------------------------------------------\n",
      "lr: 0.001  patience: 50  num_layers: 4  batch_size: 128  hidden_size: 16  dropout: 0.5 criterion: <function criterion2 at 0x000001F4A9CA77F0>\n"
     ]
    },
    {
     "data": {
      "application/vnd.jupyter.widget-view+json": {
       "model_id": "dc29d8c5d7f54e31a3070b9a309e06aa",
       "version_major": 2,
       "version_minor": 0
      },
      "text/plain": [
       "  0%|          | 0/10000 [00:00<?, ?it/s]"
      ]
     },
     "metadata": {},
     "output_type": "display_data"
    },
    {
     "name": "stdout",
     "output_type": "stream",
     "text": [
      "\n",
      " Early Stopping / epoch: 778 loss: 0.006459\n",
      "----------------------------------------------------------------------------------------------------------\n",
      "lr: 0.001  patience: 50  num_layers: 4  batch_size: 128  hidden_size: 16  dropout: 0.5 criterion: <function criterion3 at 0x000001F4A9CA7880>\n"
     ]
    },
    {
     "data": {
      "application/vnd.jupyter.widget-view+json": {
       "model_id": "d7f0b74926ce4dc2acb9c47e8bdf00e3",
       "version_major": 2,
       "version_minor": 0
      },
      "text/plain": [
       "  0%|          | 0/10000 [00:00<?, ?it/s]"
      ]
     },
     "metadata": {},
     "output_type": "display_data"
    },
    {
     "name": "stdout",
     "output_type": "stream",
     "text": [
      "\n",
      " Early Stopping / epoch: 669 loss: 0.000934\n",
      "----------------------------------------------------------------------------------------------------------\n",
      "lr: 0.001  patience: 50  num_layers: 4  batch_size: 128  hidden_size: 32  dropout: 0.25 criterion: MSELoss()\n"
     ]
    },
    {
     "data": {
      "application/vnd.jupyter.widget-view+json": {
       "model_id": "9cb10b848dc642bd8c7ed636d65ae70a",
       "version_major": 2,
       "version_minor": 0
      },
      "text/plain": [
       "  0%|          | 0/10000 [00:00<?, ?it/s]"
      ]
     },
     "metadata": {},
     "output_type": "display_data"
    },
    {
     "name": "stdout",
     "output_type": "stream",
     "text": [
      "\n",
      " Early Stopping / epoch: 639 loss: 0.000136\n",
      "----------------------------------------------------------------------------------------------------------\n",
      "lr: 0.001  patience: 50  num_layers: 4  batch_size: 128  hidden_size: 32  dropout: 0.25 criterion: <function criterion2 at 0x000001F4A9CA77F0>\n"
     ]
    },
    {
     "data": {
      "application/vnd.jupyter.widget-view+json": {
       "model_id": "c5441d55b42f4ccabf09f2900a961995",
       "version_major": 2,
       "version_minor": 0
      },
      "text/plain": [
       "  0%|          | 0/10000 [00:00<?, ?it/s]"
      ]
     },
     "metadata": {},
     "output_type": "display_data"
    },
    {
     "name": "stdout",
     "output_type": "stream",
     "text": [
      "\n",
      " Early Stopping / epoch: 587 loss: 0.005572\n",
      "----------------------------------------------------------------------------------------------------------\n",
      "lr: 0.001  patience: 50  num_layers: 4  batch_size: 128  hidden_size: 32  dropout: 0.25 criterion: <function criterion3 at 0x000001F4A9CA7880>\n"
     ]
    },
    {
     "data": {
      "application/vnd.jupyter.widget-view+json": {
       "model_id": "e3cdf4ff20224631a27757b98b85801d",
       "version_major": 2,
       "version_minor": 0
      },
      "text/plain": [
       "  0%|          | 0/10000 [00:00<?, ?it/s]"
      ]
     },
     "metadata": {},
     "output_type": "display_data"
    },
    {
     "name": "stdout",
     "output_type": "stream",
     "text": [
      "\n",
      " Early Stopping / epoch: 969 loss: 0.000746\n",
      "----------------------------------------------------------------------------------------------------------\n",
      "lr: 0.001  patience: 50  num_layers: 4  batch_size: 128  hidden_size: 32  dropout: 0.5 criterion: MSELoss()\n"
     ]
    },
    {
     "data": {
      "application/vnd.jupyter.widget-view+json": {
       "model_id": "27e2bff7bfe3462cbbec9e28e8fc4eeb",
       "version_major": 2,
       "version_minor": 0
      },
      "text/plain": [
       "  0%|          | 0/10000 [00:00<?, ?it/s]"
      ]
     },
     "metadata": {},
     "output_type": "display_data"
    },
    {
     "name": "stdout",
     "output_type": "stream",
     "text": [
      "\n",
      " Early Stopping / epoch: 544 loss: 0.000123\n",
      "----------------------------------------------------------------------------------------------------------\n",
      "lr: 0.001  patience: 50  num_layers: 4  batch_size: 128  hidden_size: 32  dropout: 0.5 criterion: <function criterion2 at 0x000001F4A9CA77F0>\n"
     ]
    },
    {
     "data": {
      "application/vnd.jupyter.widget-view+json": {
       "model_id": "49844a2fbd06410fa8174fee78608624",
       "version_major": 2,
       "version_minor": 0
      },
      "text/plain": [
       "  0%|          | 0/10000 [00:00<?, ?it/s]"
      ]
     },
     "metadata": {},
     "output_type": "display_data"
    },
    {
     "name": "stdout",
     "output_type": "stream",
     "text": [
      "\n",
      " Early Stopping / epoch: 718 loss: 0.005071\n",
      "----------------------------------------------------------------------------------------------------------\n",
      "lr: 0.001  patience: 50  num_layers: 4  batch_size: 128  hidden_size: 32  dropout: 0.5 criterion: <function criterion3 at 0x000001F4A9CA7880>\n"
     ]
    },
    {
     "data": {
      "application/vnd.jupyter.widget-view+json": {
       "model_id": "8c4ee8f1a2474f8eb2ca14b451abacd6",
       "version_major": 2,
       "version_minor": 0
      },
      "text/plain": [
       "  0%|          | 0/10000 [00:00<?, ?it/s]"
      ]
     },
     "metadata": {},
     "output_type": "display_data"
    },
    {
     "name": "stdout",
     "output_type": "stream",
     "text": [
      "\n",
      " Early Stopping / epoch: 418 loss: 0.001033\n",
      "----------------------------------------------------------------------------------------------------------\n",
      "lr: 0.0001  patience: 20  num_layers: 1  batch_size: 32  hidden_size: 8  dropout: 0.25 criterion: MSELoss()\n"
     ]
    },
    {
     "data": {
      "application/vnd.jupyter.widget-view+json": {
       "model_id": "08402be8ae86472cb10deb7b9c0f2c22",
       "version_major": 2,
       "version_minor": 0
      },
      "text/plain": [
       "  0%|          | 0/10000 [00:00<?, ?it/s]"
      ]
     },
     "metadata": {},
     "output_type": "display_data"
    },
    {
     "name": "stdout",
     "output_type": "stream",
     "text": [
      "\n",
      " Early Stopping / epoch: 314 loss: 0.000643\n",
      "----------------------------------------------------------------------------------------------------------\n",
      "lr: 0.0001  patience: 20  num_layers: 1  batch_size: 32  hidden_size: 8  dropout: 0.25 criterion: <function criterion2 at 0x000001F4A9CA77F0>\n"
     ]
    },
    {
     "data": {
      "application/vnd.jupyter.widget-view+json": {
       "model_id": "db4e0e5f8ebe4802bbe08971ef2133e3",
       "version_major": 2,
       "version_minor": 0
      },
      "text/plain": [
       "  0%|          | 0/10000 [00:00<?, ?it/s]"
      ]
     },
     "metadata": {},
     "output_type": "display_data"
    },
    {
     "name": "stdout",
     "output_type": "stream",
     "text": [
      "\n",
      " Early Stopping / epoch: 408 loss: 0.009011\n",
      "----------------------------------------------------------------------------------------------------------\n",
      "lr: 0.0001  patience: 20  num_layers: 1  batch_size: 32  hidden_size: 8  dropout: 0.25 criterion: <function criterion3 at 0x000001F4A9CA7880>\n"
     ]
    },
    {
     "data": {
      "application/vnd.jupyter.widget-view+json": {
       "model_id": "be7d1a29e7ce4094ab943e1d70576429",
       "version_major": 2,
       "version_minor": 0
      },
      "text/plain": [
       "  0%|          | 0/10000 [00:00<?, ?it/s]"
      ]
     },
     "metadata": {},
     "output_type": "display_data"
    },
    {
     "name": "stdout",
     "output_type": "stream",
     "text": [
      "\n",
      " Early Stopping / epoch: 379 loss: 0.002521\n",
      "----------------------------------------------------------------------------------------------------------\n",
      "lr: 0.0001  patience: 20  num_layers: 1  batch_size: 32  hidden_size: 8  dropout: 0.5 criterion: MSELoss()\n"
     ]
    },
    {
     "data": {
      "application/vnd.jupyter.widget-view+json": {
       "model_id": "abc0872e4a4f453591ff7cc5eed13644",
       "version_major": 2,
       "version_minor": 0
      },
      "text/plain": [
       "  0%|          | 0/10000 [00:00<?, ?it/s]"
      ]
     },
     "metadata": {},
     "output_type": "display_data"
    },
    {
     "name": "stdout",
     "output_type": "stream",
     "text": [
      "\n",
      " Early Stopping / epoch: 206 loss: 0.000655\n",
      "----------------------------------------------------------------------------------------------------------\n",
      "lr: 0.0001  patience: 20  num_layers: 1  batch_size: 32  hidden_size: 8  dropout: 0.5 criterion: <function criterion2 at 0x000001F4A9CA77F0>\n"
     ]
    },
    {
     "data": {
      "application/vnd.jupyter.widget-view+json": {
       "model_id": "2eabc79d1bda46dc9edbc4d91f356c9a",
       "version_major": 2,
       "version_minor": 0
      },
      "text/plain": [
       "  0%|          | 0/10000 [00:00<?, ?it/s]"
      ]
     },
     "metadata": {},
     "output_type": "display_data"
    },
    {
     "name": "stdout",
     "output_type": "stream",
     "text": [
      "\n",
      " Early Stopping / epoch: 285 loss: 0.009207\n",
      "----------------------------------------------------------------------------------------------------------\n",
      "lr: 0.0001  patience: 20  num_layers: 1  batch_size: 32  hidden_size: 8  dropout: 0.5 criterion: <function criterion3 at 0x000001F4A9CA7880>\n"
     ]
    },
    {
     "data": {
      "application/vnd.jupyter.widget-view+json": {
       "model_id": "9a4ec9b346ae446daab2d911e91d45ef",
       "version_major": 2,
       "version_minor": 0
      },
      "text/plain": [
       "  0%|          | 0/10000 [00:00<?, ?it/s]"
      ]
     },
     "metadata": {},
     "output_type": "display_data"
    },
    {
     "name": "stdout",
     "output_type": "stream",
     "text": [
      "\n",
      " Early Stopping / epoch: 473 loss: 0.002509\n",
      "----------------------------------------------------------------------------------------------------------\n",
      "lr: 0.0001  patience: 20  num_layers: 1  batch_size: 32  hidden_size: 16  dropout: 0.25 criterion: MSELoss()\n"
     ]
    },
    {
     "data": {
      "application/vnd.jupyter.widget-view+json": {
       "model_id": "4284d824a540440e8364cd5098feb706",
       "version_major": 2,
       "version_minor": 0
      },
      "text/plain": [
       "  0%|          | 0/10000 [00:00<?, ?it/s]"
      ]
     },
     "metadata": {},
     "output_type": "display_data"
    },
    {
     "name": "stdout",
     "output_type": "stream",
     "text": [
      "\n",
      " Early Stopping / epoch: 230 loss: 0.000642\n",
      "----------------------------------------------------------------------------------------------------------\n",
      "lr: 0.0001  patience: 20  num_layers: 1  batch_size: 32  hidden_size: 16  dropout: 0.25 criterion: <function criterion2 at 0x000001F4A9CA77F0>\n"
     ]
    },
    {
     "data": {
      "application/vnd.jupyter.widget-view+json": {
       "model_id": "b8ff4dea1aeb4ae4b49eaf0982782d40",
       "version_major": 2,
       "version_minor": 0
      },
      "text/plain": [
       "  0%|          | 0/10000 [00:00<?, ?it/s]"
      ]
     },
     "metadata": {},
     "output_type": "display_data"
    },
    {
     "name": "stdout",
     "output_type": "stream",
     "text": [
      "\n",
      " Early Stopping / epoch: 365 loss: 0.008803\n",
      "----------------------------------------------------------------------------------------------------------\n",
      "lr: 0.0001  patience: 20  num_layers: 1  batch_size: 32  hidden_size: 16  dropout: 0.25 criterion: <function criterion3 at 0x000001F4A9CA7880>\n"
     ]
    },
    {
     "data": {
      "application/vnd.jupyter.widget-view+json": {
       "model_id": "b3f8ce0efb0f42588d4c4993c03861f4",
       "version_major": 2,
       "version_minor": 0
      },
      "text/plain": [
       "  0%|          | 0/10000 [00:00<?, ?it/s]"
      ]
     },
     "metadata": {},
     "output_type": "display_data"
    },
    {
     "name": "stdout",
     "output_type": "stream",
     "text": [
      "\n",
      " Early Stopping / epoch: 318 loss: 0.002491\n",
      "----------------------------------------------------------------------------------------------------------\n",
      "lr: 0.0001  patience: 20  num_layers: 1  batch_size: 32  hidden_size: 16  dropout: 0.5 criterion: MSELoss()\n"
     ]
    },
    {
     "data": {
      "application/vnd.jupyter.widget-view+json": {
       "model_id": "d87ad3fe80904de08a18af2edb29ad78",
       "version_major": 2,
       "version_minor": 0
      },
      "text/plain": [
       "  0%|          | 0/10000 [00:00<?, ?it/s]"
      ]
     },
     "metadata": {},
     "output_type": "display_data"
    },
    {
     "name": "stdout",
     "output_type": "stream",
     "text": [
      "\n",
      " Early Stopping / epoch: 627 loss: 0.000551\n",
      "----------------------------------------------------------------------------------------------------------\n",
      "lr: 0.0001  patience: 20  num_layers: 1  batch_size: 32  hidden_size: 16  dropout: 0.5 criterion: <function criterion2 at 0x000001F4A9CA77F0>\n"
     ]
    },
    {
     "data": {
      "application/vnd.jupyter.widget-view+json": {
       "model_id": "704573e01785480ca501d3b89c76a335",
       "version_major": 2,
       "version_minor": 0
      },
      "text/plain": [
       "  0%|          | 0/10000 [00:00<?, ?it/s]"
      ]
     },
     "metadata": {},
     "output_type": "display_data"
    },
    {
     "name": "stdout",
     "output_type": "stream",
     "text": [
      "\n",
      " Early Stopping / epoch: 279 loss: 0.008867\n",
      "----------------------------------------------------------------------------------------------------------\n",
      "lr: 0.0001  patience: 20  num_layers: 1  batch_size: 32  hidden_size: 16  dropout: 0.5 criterion: <function criterion3 at 0x000001F4A9CA7880>\n"
     ]
    },
    {
     "data": {
      "application/vnd.jupyter.widget-view+json": {
       "model_id": "2000747f50384ebd838381cae7f29d54",
       "version_major": 2,
       "version_minor": 0
      },
      "text/plain": [
       "  0%|          | 0/10000 [00:00<?, ?it/s]"
      ]
     },
     "metadata": {},
     "output_type": "display_data"
    },
    {
     "name": "stdout",
     "output_type": "stream",
     "text": [
      "\n",
      " Early Stopping / epoch: 348 loss: 0.002400\n",
      "----------------------------------------------------------------------------------------------------------\n",
      "lr: 0.0001  patience: 20  num_layers: 1  batch_size: 32  hidden_size: 32  dropout: 0.25 criterion: MSELoss()\n"
     ]
    },
    {
     "data": {
      "application/vnd.jupyter.widget-view+json": {
       "model_id": "29f531f2df6246bab8df8f82e03fc7c6",
       "version_major": 2,
       "version_minor": 0
      },
      "text/plain": [
       "  0%|          | 0/10000 [00:00<?, ?it/s]"
      ]
     },
     "metadata": {},
     "output_type": "display_data"
    },
    {
     "name": "stdout",
     "output_type": "stream",
     "text": [
      "\n",
      " Early Stopping / epoch: 1207 loss: 0.000130\n",
      "----------------------------------------------------------------------------------------------------------\n",
      "lr: 0.0001  patience: 20  num_layers: 1  batch_size: 32  hidden_size: 32  dropout: 0.25 criterion: <function criterion2 at 0x000001F4A9CA77F0>\n"
     ]
    },
    {
     "data": {
      "application/vnd.jupyter.widget-view+json": {
       "model_id": "c2e92f1613e84d9c8ab98ed164b3070b",
       "version_major": 2,
       "version_minor": 0
      },
      "text/plain": [
       "  0%|          | 0/10000 [00:00<?, ?it/s]"
      ]
     },
     "metadata": {},
     "output_type": "display_data"
    },
    {
     "name": "stdout",
     "output_type": "stream",
     "text": [
      "\n",
      " Early Stopping / epoch: 236 loss: 0.008781\n",
      "----------------------------------------------------------------------------------------------------------\n",
      "lr: 0.0001  patience: 20  num_layers: 1  batch_size: 32  hidden_size: 32  dropout: 0.25 criterion: <function criterion3 at 0x000001F4A9CA7880>\n"
     ]
    },
    {
     "data": {
      "application/vnd.jupyter.widget-view+json": {
       "model_id": "d97eda65aae24afd9fa2ef40f396a896",
       "version_major": 2,
       "version_minor": 0
      },
      "text/plain": [
       "  0%|          | 0/10000 [00:00<?, ?it/s]"
      ]
     },
     "metadata": {},
     "output_type": "display_data"
    },
    {
     "name": "stdout",
     "output_type": "stream",
     "text": [
      "\n",
      " Early Stopping / epoch: 258 loss: 0.002448\n",
      "----------------------------------------------------------------------------------------------------------\n",
      "lr: 0.0001  patience: 20  num_layers: 1  batch_size: 32  hidden_size: 32  dropout: 0.5 criterion: MSELoss()\n"
     ]
    },
    {
     "data": {
      "application/vnd.jupyter.widget-view+json": {
       "model_id": "3df139d37b8c4cf1992c2d4891e88136",
       "version_major": 2,
       "version_minor": 0
      },
      "text/plain": [
       "  0%|          | 0/10000 [00:00<?, ?it/s]"
      ]
     },
     "metadata": {},
     "output_type": "display_data"
    },
    {
     "name": "stdout",
     "output_type": "stream",
     "text": [
      "\n",
      " Early Stopping / epoch: 778 loss: 0.000202\n",
      "----------------------------------------------------------------------------------------------------------\n",
      "lr: 0.0001  patience: 20  num_layers: 1  batch_size: 32  hidden_size: 32  dropout: 0.5 criterion: <function criterion2 at 0x000001F4A9CA77F0>\n"
     ]
    },
    {
     "data": {
      "application/vnd.jupyter.widget-view+json": {
       "model_id": "085e1a2f698548abab42e53039113372",
       "version_major": 2,
       "version_minor": 0
      },
      "text/plain": [
       "  0%|          | 0/10000 [00:00<?, ?it/s]"
      ]
     },
     "metadata": {},
     "output_type": "display_data"
    },
    {
     "name": "stdout",
     "output_type": "stream",
     "text": [
      "\n",
      " Early Stopping / epoch: 460 loss: 0.008366\n",
      "----------------------------------------------------------------------------------------------------------\n",
      "lr: 0.0001  patience: 20  num_layers: 1  batch_size: 32  hidden_size: 32  dropout: 0.5 criterion: <function criterion3 at 0x000001F4A9CA7880>\n"
     ]
    },
    {
     "data": {
      "application/vnd.jupyter.widget-view+json": {
       "model_id": "59341e21bf0440f0834d578616a6be5c",
       "version_major": 2,
       "version_minor": 0
      },
      "text/plain": [
       "  0%|          | 0/10000 [00:00<?, ?it/s]"
      ]
     },
     "metadata": {},
     "output_type": "display_data"
    },
    {
     "name": "stdout",
     "output_type": "stream",
     "text": [
      "\n",
      " Early Stopping / epoch: 465 loss: 0.002144\n",
      "----------------------------------------------------------------------------------------------------------\n",
      "lr: 0.0001  patience: 20  num_layers: 1  batch_size: 64  hidden_size: 8  dropout: 0.25 criterion: MSELoss()\n"
     ]
    },
    {
     "data": {
      "application/vnd.jupyter.widget-view+json": {
       "model_id": "4010a702336f4ecb85884dc0f66557b9",
       "version_major": 2,
       "version_minor": 0
      },
      "text/plain": [
       "  0%|          | 0/10000 [00:00<?, ?it/s]"
      ]
     },
     "metadata": {},
     "output_type": "display_data"
    },
    {
     "name": "stdout",
     "output_type": "stream",
     "text": [
      "\n",
      " Early Stopping / epoch: 405 loss: 0.000625\n",
      "----------------------------------------------------------------------------------------------------------\n",
      "lr: 0.0001  patience: 20  num_layers: 1  batch_size: 64  hidden_size: 8  dropout: 0.25 criterion: <function criterion2 at 0x000001F4A9CA77F0>\n"
     ]
    },
    {
     "data": {
      "application/vnd.jupyter.widget-view+json": {
       "model_id": "a96059bd5b5f45d4bd91c4a3bcbc3957",
       "version_major": 2,
       "version_minor": 0
      },
      "text/plain": [
       "  0%|          | 0/10000 [00:00<?, ?it/s]"
      ]
     },
     "metadata": {},
     "output_type": "display_data"
    },
    {
     "name": "stdout",
     "output_type": "stream",
     "text": [
      "\n",
      " Early Stopping / epoch: 688 loss: 0.009176\n",
      "----------------------------------------------------------------------------------------------------------\n",
      "lr: 0.0001  patience: 20  num_layers: 1  batch_size: 64  hidden_size: 8  dropout: 0.25 criterion: <function criterion3 at 0x000001F4A9CA7880>\n"
     ]
    },
    {
     "data": {
      "application/vnd.jupyter.widget-view+json": {
       "model_id": "1c74c28b76e642ffb446dfc1076aad8f",
       "version_major": 2,
       "version_minor": 0
      },
      "text/plain": [
       "  0%|          | 0/10000 [00:00<?, ?it/s]"
      ]
     },
     "metadata": {},
     "output_type": "display_data"
    },
    {
     "name": "stdout",
     "output_type": "stream",
     "text": [
      "\n",
      " Early Stopping / epoch: 486 loss: 0.002043\n",
      "----------------------------------------------------------------------------------------------------------\n",
      "lr: 0.0001  patience: 20  num_layers: 1  batch_size: 64  hidden_size: 8  dropout: 0.5 criterion: MSELoss()\n"
     ]
    },
    {
     "data": {
      "application/vnd.jupyter.widget-view+json": {
       "model_id": "17966978825d43e6965b1458a9695f5c",
       "version_major": 2,
       "version_minor": 0
      },
      "text/plain": [
       "  0%|          | 0/10000 [00:00<?, ?it/s]"
      ]
     },
     "metadata": {},
     "output_type": "display_data"
    },
    {
     "name": "stdout",
     "output_type": "stream",
     "text": [
      "\n",
      " Early Stopping / epoch: 591 loss: 0.000630\n",
      "----------------------------------------------------------------------------------------------------------\n",
      "lr: 0.0001  patience: 20  num_layers: 1  batch_size: 64  hidden_size: 8  dropout: 0.5 criterion: <function criterion2 at 0x000001F4A9CA77F0>\n"
     ]
    },
    {
     "data": {
      "application/vnd.jupyter.widget-view+json": {
       "model_id": "6ca1186d3a3d47909a3a1836bc5729cd",
       "version_major": 2,
       "version_minor": 0
      },
      "text/plain": [
       "  0%|          | 0/10000 [00:00<?, ?it/s]"
      ]
     },
     "metadata": {},
     "output_type": "display_data"
    },
    {
     "name": "stdout",
     "output_type": "stream",
     "text": [
      "\n",
      " Early Stopping / epoch: 507 loss: 0.009069\n",
      "----------------------------------------------------------------------------------------------------------\n",
      "lr: 0.0001  patience: 20  num_layers: 1  batch_size: 64  hidden_size: 8  dropout: 0.5 criterion: <function criterion3 at 0x000001F4A9CA7880>\n"
     ]
    },
    {
     "data": {
      "application/vnd.jupyter.widget-view+json": {
       "model_id": "f11348102852443f9bd37fd369543361",
       "version_major": 2,
       "version_minor": 0
      },
      "text/plain": [
       "  0%|          | 0/10000 [00:00<?, ?it/s]"
      ]
     },
     "metadata": {},
     "output_type": "display_data"
    },
    {
     "name": "stdout",
     "output_type": "stream",
     "text": [
      "\n",
      " Early Stopping / epoch: 343 loss: 0.002014\n",
      "----------------------------------------------------------------------------------------------------------\n",
      "lr: 0.0001  patience: 20  num_layers: 1  batch_size: 64  hidden_size: 16  dropout: 0.25 criterion: MSELoss()\n"
     ]
    },
    {
     "data": {
      "application/vnd.jupyter.widget-view+json": {
       "model_id": "98679cece68d416da7f1b257d8e2fab3",
       "version_major": 2,
       "version_minor": 0
      },
      "text/plain": [
       "  0%|          | 0/10000 [00:00<?, ?it/s]"
      ]
     },
     "metadata": {},
     "output_type": "display_data"
    },
    {
     "name": "stdout",
     "output_type": "stream",
     "text": [
      "\n",
      " Early Stopping / epoch: 291 loss: 0.000621\n",
      "----------------------------------------------------------------------------------------------------------\n",
      "lr: 0.0001  patience: 20  num_layers: 1  batch_size: 64  hidden_size: 16  dropout: 0.25 criterion: <function criterion2 at 0x000001F4A9CA77F0>\n"
     ]
    },
    {
     "data": {
      "application/vnd.jupyter.widget-view+json": {
       "model_id": "392591a3b197468393ed85c1fa6fe99a",
       "version_major": 2,
       "version_minor": 0
      },
      "text/plain": [
       "  0%|          | 0/10000 [00:00<?, ?it/s]"
      ]
     },
     "metadata": {},
     "output_type": "display_data"
    },
    {
     "name": "stdout",
     "output_type": "stream",
     "text": [
      "\n",
      " Early Stopping / epoch: 416 loss: 0.009138\n",
      "----------------------------------------------------------------------------------------------------------\n",
      "lr: 0.0001  patience: 20  num_layers: 1  batch_size: 64  hidden_size: 16  dropout: 0.25 criterion: <function criterion3 at 0x000001F4A9CA7880>\n"
     ]
    },
    {
     "data": {
      "application/vnd.jupyter.widget-view+json": {
       "model_id": "632afd4115dc4a3c8921a86640ccdd47",
       "version_major": 2,
       "version_minor": 0
      },
      "text/plain": [
       "  0%|          | 0/10000 [00:00<?, ?it/s]"
      ]
     },
     "metadata": {},
     "output_type": "display_data"
    },
    {
     "name": "stdout",
     "output_type": "stream",
     "text": [
      "\n",
      " Early Stopping / epoch: 173 loss: 0.002057\n",
      "----------------------------------------------------------------------------------------------------------\n",
      "lr: 0.0001  patience: 20  num_layers: 1  batch_size: 64  hidden_size: 16  dropout: 0.5 criterion: MSELoss()\n"
     ]
    },
    {
     "data": {
      "application/vnd.jupyter.widget-view+json": {
       "model_id": "155ea50903db4ae1b8fa961226e9ec2c",
       "version_major": 2,
       "version_minor": 0
      },
      "text/plain": [
       "  0%|          | 0/10000 [00:00<?, ?it/s]"
      ]
     },
     "metadata": {},
     "output_type": "display_data"
    },
    {
     "name": "stdout",
     "output_type": "stream",
     "text": [
      "\n",
      " Early Stopping / epoch: 209 loss: 0.000642\n",
      "----------------------------------------------------------------------------------------------------------\n",
      "lr: 0.0001  patience: 20  num_layers: 1  batch_size: 64  hidden_size: 16  dropout: 0.5 criterion: <function criterion2 at 0x000001F4A9CA77F0>\n"
     ]
    },
    {
     "data": {
      "application/vnd.jupyter.widget-view+json": {
       "model_id": "e062f1019702401994da4f61387d8e78",
       "version_major": 2,
       "version_minor": 0
      },
      "text/plain": [
       "  0%|          | 0/10000 [00:00<?, ?it/s]"
      ]
     },
     "metadata": {},
     "output_type": "display_data"
    },
    {
     "name": "stdout",
     "output_type": "stream",
     "text": [
      "\n",
      " Early Stopping / epoch: 297 loss: 0.009036\n",
      "----------------------------------------------------------------------------------------------------------\n",
      "lr: 0.0001  patience: 20  num_layers: 1  batch_size: 64  hidden_size: 16  dropout: 0.5 criterion: <function criterion3 at 0x000001F4A9CA7880>\n"
     ]
    },
    {
     "data": {
      "application/vnd.jupyter.widget-view+json": {
       "model_id": "9a37780c29a7461fa5898bc4f8da9811",
       "version_major": 2,
       "version_minor": 0
      },
      "text/plain": [
       "  0%|          | 0/10000 [00:00<?, ?it/s]"
      ]
     },
     "metadata": {},
     "output_type": "display_data"
    },
    {
     "name": "stdout",
     "output_type": "stream",
     "text": [
      "\n",
      " Early Stopping / epoch: 178 loss: 0.002060\n",
      "----------------------------------------------------------------------------------------------------------\n",
      "lr: 0.0001  patience: 20  num_layers: 1  batch_size: 64  hidden_size: 32  dropout: 0.25 criterion: MSELoss()\n"
     ]
    },
    {
     "data": {
      "application/vnd.jupyter.widget-view+json": {
       "model_id": "1c79fb0ce3314e45bb2a203c471e618d",
       "version_major": 2,
       "version_minor": 0
      },
      "text/plain": [
       "  0%|          | 0/10000 [00:00<?, ?it/s]"
      ]
     },
     "metadata": {},
     "output_type": "display_data"
    },
    {
     "name": "stdout",
     "output_type": "stream",
     "text": [
      "\n",
      " Early Stopping / epoch: 281 loss: 0.000589\n",
      "----------------------------------------------------------------------------------------------------------\n",
      "lr: 0.0001  patience: 20  num_layers: 1  batch_size: 64  hidden_size: 32  dropout: 0.25 criterion: <function criterion2 at 0x000001F4A9CA77F0>\n"
     ]
    },
    {
     "data": {
      "application/vnd.jupyter.widget-view+json": {
       "model_id": "aa1cb82547614bb4afd88dfba643c726",
       "version_major": 2,
       "version_minor": 0
      },
      "text/plain": [
       "  0%|          | 0/10000 [00:00<?, ?it/s]"
      ]
     },
     "metadata": {},
     "output_type": "display_data"
    },
    {
     "name": "stdout",
     "output_type": "stream",
     "text": [
      "\n",
      " Early Stopping / epoch: 249 loss: 0.008762\n",
      "----------------------------------------------------------------------------------------------------------\n",
      "lr: 0.0001  patience: 20  num_layers: 1  batch_size: 64  hidden_size: 32  dropout: 0.25 criterion: <function criterion3 at 0x000001F4A9CA7880>\n"
     ]
    },
    {
     "data": {
      "application/vnd.jupyter.widget-view+json": {
       "model_id": "3a62989f11f440798bfcc43c01115a06",
       "version_major": 2,
       "version_minor": 0
      },
      "text/plain": [
       "  0%|          | 0/10000 [00:00<?, ?it/s]"
      ]
     },
     "metadata": {},
     "output_type": "display_data"
    },
    {
     "name": "stdout",
     "output_type": "stream",
     "text": [
      "\n",
      " Early Stopping / epoch: 552 loss: 0.001835\n",
      "----------------------------------------------------------------------------------------------------------\n",
      "lr: 0.0001  patience: 20  num_layers: 1  batch_size: 64  hidden_size: 32  dropout: 0.5 criterion: MSELoss()\n"
     ]
    },
    {
     "data": {
      "application/vnd.jupyter.widget-view+json": {
       "model_id": "40678787fe554f079c69bcdc58fc8012",
       "version_major": 2,
       "version_minor": 0
      },
      "text/plain": [
       "  0%|          | 0/10000 [00:00<?, ?it/s]"
      ]
     },
     "metadata": {},
     "output_type": "display_data"
    },
    {
     "name": "stdout",
     "output_type": "stream",
     "text": [
      "\n",
      " Early Stopping / epoch: 339 loss: 0.000621\n",
      "----------------------------------------------------------------------------------------------------------\n",
      "lr: 0.0001  patience: 20  num_layers: 1  batch_size: 64  hidden_size: 32  dropout: 0.5 criterion: <function criterion2 at 0x000001F4A9CA77F0>\n"
     ]
    },
    {
     "data": {
      "application/vnd.jupyter.widget-view+json": {
       "model_id": "b2b66ec4fe3f406896209d1490817aa0",
       "version_major": 2,
       "version_minor": 0
      },
      "text/plain": [
       "  0%|          | 0/10000 [00:00<?, ?it/s]"
      ]
     },
     "metadata": {},
     "output_type": "display_data"
    },
    {
     "name": "stdout",
     "output_type": "stream",
     "text": [
      "\n",
      " Early Stopping / epoch: 267 loss: 0.009011\n",
      "----------------------------------------------------------------------------------------------------------\n",
      "lr: 0.0001  patience: 20  num_layers: 1  batch_size: 64  hidden_size: 32  dropout: 0.5 criterion: <function criterion3 at 0x000001F4A9CA7880>\n"
     ]
    },
    {
     "data": {
      "application/vnd.jupyter.widget-view+json": {
       "model_id": "a155c3b81ebf4c2281a0174b96d7b21e",
       "version_major": 2,
       "version_minor": 0
      },
      "text/plain": [
       "  0%|          | 0/10000 [00:00<?, ?it/s]"
      ]
     },
     "metadata": {},
     "output_type": "display_data"
    },
    {
     "name": "stdout",
     "output_type": "stream",
     "text": [
      "\n",
      " Early Stopping / epoch: 167 loss: 0.002018\n",
      "----------------------------------------------------------------------------------------------------------\n",
      "lr: 0.0001  patience: 20  num_layers: 1  batch_size: 128  hidden_size: 8  dropout: 0.25 criterion: MSELoss()\n"
     ]
    },
    {
     "data": {
      "application/vnd.jupyter.widget-view+json": {
       "model_id": "83284e30c233496eb73e5dbed985dcb3",
       "version_major": 2,
       "version_minor": 0
      },
      "text/plain": [
       "  0%|          | 0/10000 [00:00<?, ?it/s]"
      ]
     },
     "metadata": {},
     "output_type": "display_data"
    },
    {
     "name": "stdout",
     "output_type": "stream",
     "text": [
      "\n",
      " Early Stopping / epoch: 239 loss: 0.000672\n",
      "----------------------------------------------------------------------------------------------------------\n",
      "lr: 0.0001  patience: 20  num_layers: 1  batch_size: 128  hidden_size: 8  dropout: 0.25 criterion: <function criterion2 at 0x000001F4A9CA77F0>\n"
     ]
    },
    {
     "data": {
      "application/vnd.jupyter.widget-view+json": {
       "model_id": "309cae562c514cd499f34f97b69d6b03",
       "version_major": 2,
       "version_minor": 0
      },
      "text/plain": [
       "  0%|          | 0/10000 [00:00<?, ?it/s]"
      ]
     },
     "metadata": {},
     "output_type": "display_data"
    },
    {
     "name": "stdout",
     "output_type": "stream",
     "text": [
      "\n",
      " Early Stopping / epoch: 552 loss: 0.009327\n",
      "----------------------------------------------------------------------------------------------------------\n",
      "lr: 0.0001  patience: 20  num_layers: 1  batch_size: 128  hidden_size: 8  dropout: 0.25 criterion: <function criterion3 at 0x000001F4A9CA7880>\n"
     ]
    },
    {
     "data": {
      "application/vnd.jupyter.widget-view+json": {
       "model_id": "60c593a48f0e46888e8780421622eaeb",
       "version_major": 2,
       "version_minor": 0
      },
      "text/plain": [
       "  0%|          | 0/10000 [00:00<?, ?it/s]"
      ]
     },
     "metadata": {},
     "output_type": "display_data"
    },
    {
     "name": "stdout",
     "output_type": "stream",
     "text": [
      "\n",
      " Early Stopping / epoch: 366 loss: 0.001685\n",
      "----------------------------------------------------------------------------------------------------------\n",
      "lr: 0.0001  patience: 20  num_layers: 1  batch_size: 128  hidden_size: 8  dropout: 0.5 criterion: MSELoss()\n"
     ]
    },
    {
     "data": {
      "application/vnd.jupyter.widget-view+json": {
       "model_id": "e454c1304f1a46e78e780a7e329dde2c",
       "version_major": 2,
       "version_minor": 0
      },
      "text/plain": [
       "  0%|          | 0/10000 [00:00<?, ?it/s]"
      ]
     },
     "metadata": {},
     "output_type": "display_data"
    },
    {
     "name": "stdout",
     "output_type": "stream",
     "text": [
      "\n",
      " Early Stopping / epoch: 547 loss: 0.000595\n",
      "----------------------------------------------------------------------------------------------------------\n",
      "lr: 0.0001  patience: 20  num_layers: 1  batch_size: 128  hidden_size: 8  dropout: 0.5 criterion: <function criterion2 at 0x000001F4A9CA77F0>\n"
     ]
    },
    {
     "data": {
      "application/vnd.jupyter.widget-view+json": {
       "model_id": "b2ddb4568be6424c808ca0a7ab170620",
       "version_major": 2,
       "version_minor": 0
      },
      "text/plain": [
       "  0%|          | 0/10000 [00:00<?, ?it/s]"
      ]
     },
     "metadata": {},
     "output_type": "display_data"
    },
    {
     "name": "stdout",
     "output_type": "stream",
     "text": [
      "\n",
      " Early Stopping / epoch: 484 loss: 0.009497\n",
      "----------------------------------------------------------------------------------------------------------\n",
      "lr: 0.0001  patience: 20  num_layers: 1  batch_size: 128  hidden_size: 8  dropout: 0.5 criterion: <function criterion3 at 0x000001F4A9CA7880>\n"
     ]
    },
    {
     "data": {
      "application/vnd.jupyter.widget-view+json": {
       "model_id": "5cef822f34d8413d8542ce4347192b31",
       "version_major": 2,
       "version_minor": 0
      },
      "text/plain": [
       "  0%|          | 0/10000 [00:00<?, ?it/s]"
      ]
     },
     "metadata": {},
     "output_type": "display_data"
    },
    {
     "name": "stdout",
     "output_type": "stream",
     "text": [
      "\n",
      " Early Stopping / epoch: 451 loss: 0.001668\n",
      "----------------------------------------------------------------------------------------------------------\n",
      "lr: 0.0001  patience: 20  num_layers: 1  batch_size: 128  hidden_size: 16  dropout: 0.25 criterion: MSELoss()\n"
     ]
    },
    {
     "data": {
      "application/vnd.jupyter.widget-view+json": {
       "model_id": "b0f27afc4abd47669f09fdb273da6613",
       "version_major": 2,
       "version_minor": 0
      },
      "text/plain": [
       "  0%|          | 0/10000 [00:00<?, ?it/s]"
      ]
     },
     "metadata": {},
     "output_type": "display_data"
    },
    {
     "name": "stdout",
     "output_type": "stream",
     "text": [
      "\n",
      " Early Stopping / epoch: 262 loss: 0.000602\n",
      "----------------------------------------------------------------------------------------------------------\n",
      "lr: 0.0001  patience: 20  num_layers: 1  batch_size: 128  hidden_size: 16  dropout: 0.25 criterion: <function criterion2 at 0x000001F4A9CA77F0>\n"
     ]
    },
    {
     "data": {
      "application/vnd.jupyter.widget-view+json": {
       "model_id": "4b1c0b17e79d43cc8c9a78d507e5c97c",
       "version_major": 2,
       "version_minor": 0
      },
      "text/plain": [
       "  0%|          | 0/10000 [00:00<?, ?it/s]"
      ]
     },
     "metadata": {},
     "output_type": "display_data"
    },
    {
     "name": "stdout",
     "output_type": "stream",
     "text": [
      "\n",
      " Early Stopping / epoch: 455 loss: 0.009050\n",
      "----------------------------------------------------------------------------------------------------------\n",
      "lr: 0.0001  patience: 20  num_layers: 1  batch_size: 128  hidden_size: 16  dropout: 0.25 criterion: <function criterion3 at 0x000001F4A9CA7880>\n"
     ]
    },
    {
     "data": {
      "application/vnd.jupyter.widget-view+json": {
       "model_id": "26705e786e2e41e4b4c057f7d1090b87",
       "version_major": 2,
       "version_minor": 0
      },
      "text/plain": [
       "  0%|          | 0/10000 [00:00<?, ?it/s]"
      ]
     },
     "metadata": {},
     "output_type": "display_data"
    },
    {
     "name": "stdout",
     "output_type": "stream",
     "text": [
      "\n",
      " Early Stopping / epoch: 394 loss: 0.001601\n",
      "----------------------------------------------------------------------------------------------------------\n",
      "lr: 0.0001  patience: 20  num_layers: 1  batch_size: 128  hidden_size: 16  dropout: 0.5 criterion: MSELoss()\n"
     ]
    },
    {
     "data": {
      "application/vnd.jupyter.widget-view+json": {
       "model_id": "8fff9adabbda4b5e9cf94ba334c6e0c8",
       "version_major": 2,
       "version_minor": 0
      },
      "text/plain": [
       "  0%|          | 0/10000 [00:00<?, ?it/s]"
      ]
     },
     "metadata": {},
     "output_type": "display_data"
    },
    {
     "name": "stdout",
     "output_type": "stream",
     "text": [
      "\n",
      " Early Stopping / epoch: 1278 loss: 0.000486\n",
      "----------------------------------------------------------------------------------------------------------\n",
      "lr: 0.0001  patience: 20  num_layers: 1  batch_size: 128  hidden_size: 16  dropout: 0.5 criterion: <function criterion2 at 0x000001F4A9CA77F0>\n"
     ]
    },
    {
     "data": {
      "application/vnd.jupyter.widget-view+json": {
       "model_id": "9541614c2f8e4fb58057ed8b88455df4",
       "version_major": 2,
       "version_minor": 0
      },
      "text/plain": [
       "  0%|          | 0/10000 [00:00<?, ?it/s]"
      ]
     },
     "metadata": {},
     "output_type": "display_data"
    },
    {
     "name": "stdout",
     "output_type": "stream",
     "text": [
      "\n",
      " Early Stopping / epoch: 588 loss: 0.008807\n",
      "----------------------------------------------------------------------------------------------------------\n",
      "lr: 0.0001  patience: 20  num_layers: 1  batch_size: 128  hidden_size: 16  dropout: 0.5 criterion: <function criterion3 at 0x000001F4A9CA7880>\n"
     ]
    },
    {
     "data": {
      "application/vnd.jupyter.widget-view+json": {
       "model_id": "d5d5f3bb0d5441e8a69a5c69b108b90b",
       "version_major": 2,
       "version_minor": 0
      },
      "text/plain": [
       "  0%|          | 0/10000 [00:00<?, ?it/s]"
      ]
     },
     "metadata": {},
     "output_type": "display_data"
    },
    {
     "name": "stdout",
     "output_type": "stream",
     "text": [
      "\n",
      " Early Stopping / epoch: 311 loss: 0.001672\n",
      "----------------------------------------------------------------------------------------------------------\n",
      "lr: 0.0001  patience: 20  num_layers: 1  batch_size: 128  hidden_size: 32  dropout: 0.25 criterion: MSELoss()\n"
     ]
    },
    {
     "data": {
      "application/vnd.jupyter.widget-view+json": {
       "model_id": "03ddf473e8f3403584a802b65683e9fa",
       "version_major": 2,
       "version_minor": 0
      },
      "text/plain": [
       "  0%|          | 0/10000 [00:00<?, ?it/s]"
      ]
     },
     "metadata": {},
     "output_type": "display_data"
    },
    {
     "name": "stdout",
     "output_type": "stream",
     "text": [
      "\n",
      " Early Stopping / epoch: 159 loss: 0.000588\n",
      "----------------------------------------------------------------------------------------------------------\n",
      "lr: 0.0001  patience: 20  num_layers: 1  batch_size: 128  hidden_size: 32  dropout: 0.25 criterion: <function criterion2 at 0x000001F4A9CA77F0>\n"
     ]
    },
    {
     "data": {
      "application/vnd.jupyter.widget-view+json": {
       "model_id": "ab697056f2644c91963ce0d14f86eb88",
       "version_major": 2,
       "version_minor": 0
      },
      "text/plain": [
       "  0%|          | 0/10000 [00:00<?, ?it/s]"
      ]
     },
     "metadata": {},
     "output_type": "display_data"
    },
    {
     "name": "stdout",
     "output_type": "stream",
     "text": [
      "\n",
      " Early Stopping / epoch: 386 loss: 0.008990\n",
      "----------------------------------------------------------------------------------------------------------\n",
      "lr: 0.0001  patience: 20  num_layers: 1  batch_size: 128  hidden_size: 32  dropout: 0.25 criterion: <function criterion3 at 0x000001F4A9CA7880>\n"
     ]
    },
    {
     "data": {
      "application/vnd.jupyter.widget-view+json": {
       "model_id": "b2f46287a601427cba5204c39a6fb796",
       "version_major": 2,
       "version_minor": 0
      },
      "text/plain": [
       "  0%|          | 0/10000 [00:00<?, ?it/s]"
      ]
     },
     "metadata": {},
     "output_type": "display_data"
    },
    {
     "name": "stdout",
     "output_type": "stream",
     "text": [
      "\n",
      " Early Stopping / epoch: 374 loss: 0.001564\n",
      "----------------------------------------------------------------------------------------------------------\n",
      "lr: 0.0001  patience: 20  num_layers: 1  batch_size: 128  hidden_size: 32  dropout: 0.5 criterion: MSELoss()\n"
     ]
    },
    {
     "data": {
      "application/vnd.jupyter.widget-view+json": {
       "model_id": "1050817a8732487687e02ff8ee05a7fd",
       "version_major": 2,
       "version_minor": 0
      },
      "text/plain": [
       "  0%|          | 0/10000 [00:00<?, ?it/s]"
      ]
     },
     "metadata": {},
     "output_type": "display_data"
    },
    {
     "name": "stdout",
     "output_type": "stream",
     "text": [
      "\n",
      " Early Stopping / epoch: 231 loss: 0.000589\n",
      "----------------------------------------------------------------------------------------------------------\n",
      "lr: 0.0001  patience: 20  num_layers: 1  batch_size: 128  hidden_size: 32  dropout: 0.5 criterion: <function criterion2 at 0x000001F4A9CA77F0>\n"
     ]
    },
    {
     "data": {
      "application/vnd.jupyter.widget-view+json": {
       "model_id": "4e47203bb5554cda918a45df90590f7c",
       "version_major": 2,
       "version_minor": 0
      },
      "text/plain": [
       "  0%|          | 0/10000 [00:00<?, ?it/s]"
      ]
     },
     "metadata": {},
     "output_type": "display_data"
    },
    {
     "name": "stdout",
     "output_type": "stream",
     "text": [
      "\n",
      " Early Stopping / epoch: 552 loss: 0.008749\n",
      "----------------------------------------------------------------------------------------------------------\n",
      "lr: 0.0001  patience: 20  num_layers: 1  batch_size: 128  hidden_size: 32  dropout: 0.5 criterion: <function criterion3 at 0x000001F4A9CA7880>\n"
     ]
    },
    {
     "data": {
      "application/vnd.jupyter.widget-view+json": {
       "model_id": "3e75877a735b47029cf13c68475cca4d",
       "version_major": 2,
       "version_minor": 0
      },
      "text/plain": [
       "  0%|          | 0/10000 [00:00<?, ?it/s]"
      ]
     },
     "metadata": {},
     "output_type": "display_data"
    },
    {
     "name": "stdout",
     "output_type": "stream",
     "text": [
      "\n",
      " Early Stopping / epoch: 113 loss: 0.001692\n",
      "----------------------------------------------------------------------------------------------------------\n",
      "lr: 0.0001  patience: 20  num_layers: 2  batch_size: 32  hidden_size: 8  dropout: 0.25 criterion: MSELoss()\n"
     ]
    },
    {
     "data": {
      "application/vnd.jupyter.widget-view+json": {
       "model_id": "49cbdb64317040ccbe5c09f4509a0a34",
       "version_major": 2,
       "version_minor": 0
      },
      "text/plain": [
       "  0%|          | 0/10000 [00:00<?, ?it/s]"
      ]
     },
     "metadata": {},
     "output_type": "display_data"
    },
    {
     "name": "stdout",
     "output_type": "stream",
     "text": [
      "\n",
      " Early Stopping / epoch: 67 loss: 0.000702\n",
      "----------------------------------------------------------------------------------------------------------\n",
      "lr: 0.0001  patience: 20  num_layers: 2  batch_size: 32  hidden_size: 8  dropout: 0.25 criterion: <function criterion2 at 0x000001F4A9CA77F0>\n"
     ]
    },
    {
     "data": {
      "application/vnd.jupyter.widget-view+json": {
       "model_id": "ca76b4c3be0f4ea292f9a3159c4c8886",
       "version_major": 2,
       "version_minor": 0
      },
      "text/plain": [
       "  0%|          | 0/10000 [00:00<?, ?it/s]"
      ]
     },
     "metadata": {},
     "output_type": "display_data"
    },
    {
     "name": "stdout",
     "output_type": "stream",
     "text": [
      "\n",
      " Early Stopping / epoch: 302 loss: 0.009672\n",
      "----------------------------------------------------------------------------------------------------------\n",
      "lr: 0.0001  patience: 20  num_layers: 2  batch_size: 32  hidden_size: 8  dropout: 0.25 criterion: <function criterion3 at 0x000001F4A9CA7880>\n"
     ]
    },
    {
     "data": {
      "application/vnd.jupyter.widget-view+json": {
       "model_id": "60efb553e48b415a89d92f0d91c353cb",
       "version_major": 2,
       "version_minor": 0
      },
      "text/plain": [
       "  0%|          | 0/10000 [00:00<?, ?it/s]"
      ]
     },
     "metadata": {},
     "output_type": "display_data"
    },
    {
     "name": "stdout",
     "output_type": "stream",
     "text": [
      "\n",
      " Early Stopping / epoch: 306 loss: 0.002675\n",
      "----------------------------------------------------------------------------------------------------------\n",
      "lr: 0.0001  patience: 20  num_layers: 2  batch_size: 32  hidden_size: 8  dropout: 0.5 criterion: MSELoss()\n"
     ]
    },
    {
     "data": {
      "application/vnd.jupyter.widget-view+json": {
       "model_id": "b4278ab4d6604f22bf411bd89bc2d618",
       "version_major": 2,
       "version_minor": 0
      },
      "text/plain": [
       "  0%|          | 0/10000 [00:00<?, ?it/s]"
      ]
     },
     "metadata": {},
     "output_type": "display_data"
    },
    {
     "name": "stdout",
     "output_type": "stream",
     "text": [
      "\n",
      " Early Stopping / epoch: 242 loss: 0.000686\n",
      "----------------------------------------------------------------------------------------------------------\n",
      "lr: 0.0001  patience: 20  num_layers: 2  batch_size: 32  hidden_size: 8  dropout: 0.5 criterion: <function criterion2 at 0x000001F4A9CA77F0>\n"
     ]
    },
    {
     "data": {
      "application/vnd.jupyter.widget-view+json": {
       "model_id": "6b0ee9dc24b249bcac393f90b438db1b",
       "version_major": 2,
       "version_minor": 0
      },
      "text/plain": [
       "  0%|          | 0/10000 [00:00<?, ?it/s]"
      ]
     },
     "metadata": {},
     "output_type": "display_data"
    },
    {
     "name": "stdout",
     "output_type": "stream",
     "text": [
      "\n",
      " Early Stopping / epoch: 247 loss: 0.010154\n",
      "----------------------------------------------------------------------------------------------------------\n",
      "lr: 0.0001  patience: 20  num_layers: 2  batch_size: 32  hidden_size: 8  dropout: 0.5 criterion: <function criterion3 at 0x000001F4A9CA7880>\n"
     ]
    },
    {
     "data": {
      "application/vnd.jupyter.widget-view+json": {
       "model_id": "09b64ec0f7a14afa8b3435b3c83bb72a",
       "version_major": 2,
       "version_minor": 0
      },
      "text/plain": [
       "  0%|          | 0/10000 [00:00<?, ?it/s]"
      ]
     },
     "metadata": {},
     "output_type": "display_data"
    },
    {
     "name": "stdout",
     "output_type": "stream",
     "text": [
      "\n",
      " Early Stopping / epoch: 277 loss: 0.002624\n",
      "----------------------------------------------------------------------------------------------------------\n",
      "lr: 0.0001  patience: 20  num_layers: 2  batch_size: 32  hidden_size: 16  dropout: 0.25 criterion: MSELoss()\n"
     ]
    },
    {
     "data": {
      "application/vnd.jupyter.widget-view+json": {
       "model_id": "d9a5ae361a2444d3b653d8b99e1830be",
       "version_major": 2,
       "version_minor": 0
      },
      "text/plain": [
       "  0%|          | 0/10000 [00:00<?, ?it/s]"
      ]
     },
     "metadata": {},
     "output_type": "display_data"
    },
    {
     "name": "stdout",
     "output_type": "stream",
     "text": [
      "\n",
      " Early Stopping / epoch: 164 loss: 0.000688\n",
      "----------------------------------------------------------------------------------------------------------\n",
      "lr: 0.0001  patience: 20  num_layers: 2  batch_size: 32  hidden_size: 16  dropout: 0.25 criterion: <function criterion2 at 0x000001F4A9CA77F0>\n"
     ]
    },
    {
     "data": {
      "application/vnd.jupyter.widget-view+json": {
       "model_id": "d264dc2306cc450c91898e7d17b8501a",
       "version_major": 2,
       "version_minor": 0
      },
      "text/plain": [
       "  0%|          | 0/10000 [00:00<?, ?it/s]"
      ]
     },
     "metadata": {},
     "output_type": "display_data"
    },
    {
     "name": "stdout",
     "output_type": "stream",
     "text": [
      "\n",
      " Early Stopping / epoch: 408 loss: 0.009059\n",
      "----------------------------------------------------------------------------------------------------------\n",
      "lr: 0.0001  patience: 20  num_layers: 2  batch_size: 32  hidden_size: 16  dropout: 0.25 criterion: <function criterion3 at 0x000001F4A9CA7880>\n"
     ]
    },
    {
     "data": {
      "application/vnd.jupyter.widget-view+json": {
       "model_id": "82e6a9706c634ea481f2555aaaf65765",
       "version_major": 2,
       "version_minor": 0
      },
      "text/plain": [
       "  0%|          | 0/10000 [00:00<?, ?it/s]"
      ]
     },
     "metadata": {},
     "output_type": "display_data"
    },
    {
     "name": "stdout",
     "output_type": "stream",
     "text": [
      "\n",
      " Early Stopping / epoch: 790 loss: 0.002307\n",
      "----------------------------------------------------------------------------------------------------------\n",
      "lr: 0.0001  patience: 20  num_layers: 2  batch_size: 32  hidden_size: 16  dropout: 0.5 criterion: MSELoss()\n"
     ]
    },
    {
     "data": {
      "application/vnd.jupyter.widget-view+json": {
       "model_id": "08e35d10b6e647888142f500819f164f",
       "version_major": 2,
       "version_minor": 0
      },
      "text/plain": [
       "  0%|          | 0/10000 [00:00<?, ?it/s]"
      ]
     },
     "metadata": {},
     "output_type": "display_data"
    },
    {
     "name": "stdout",
     "output_type": "stream",
     "text": [
      "\n",
      " Early Stopping / epoch: 139 loss: 0.000669\n",
      "----------------------------------------------------------------------------------------------------------\n",
      "lr: 0.0001  patience: 20  num_layers: 2  batch_size: 32  hidden_size: 16  dropout: 0.5 criterion: <function criterion2 at 0x000001F4A9CA77F0>\n"
     ]
    },
    {
     "data": {
      "application/vnd.jupyter.widget-view+json": {
       "model_id": "ef09409ab364437abc23e89ea5141d2d",
       "version_major": 2,
       "version_minor": 0
      },
      "text/plain": [
       "  0%|          | 0/10000 [00:00<?, ?it/s]"
      ]
     },
     "metadata": {},
     "output_type": "display_data"
    },
    {
     "name": "stdout",
     "output_type": "stream",
     "text": [
      "\n",
      " Early Stopping / epoch: 367 loss: 0.009316\n",
      "----------------------------------------------------------------------------------------------------------\n",
      "lr: 0.0001  patience: 20  num_layers: 2  batch_size: 32  hidden_size: 16  dropout: 0.5 criterion: <function criterion3 at 0x000001F4A9CA7880>\n"
     ]
    },
    {
     "data": {
      "application/vnd.jupyter.widget-view+json": {
       "model_id": "dc8921d2ad344bdda10e6c25b43a56d3",
       "version_major": 2,
       "version_minor": 0
      },
      "text/plain": [
       "  0%|          | 0/10000 [00:00<?, ?it/s]"
      ]
     },
     "metadata": {},
     "output_type": "display_data"
    },
    {
     "name": "stdout",
     "output_type": "stream",
     "text": [
      "\n",
      " Early Stopping / epoch: 494 loss: 0.002466\n",
      "----------------------------------------------------------------------------------------------------------\n",
      "lr: 0.0001  patience: 20  num_layers: 2  batch_size: 32  hidden_size: 32  dropout: 0.25 criterion: MSELoss()\n"
     ]
    },
    {
     "data": {
      "application/vnd.jupyter.widget-view+json": {
       "model_id": "ad2b792081994c62ae21c7a7fbfb7c26",
       "version_major": 2,
       "version_minor": 0
      },
      "text/plain": [
       "  0%|          | 0/10000 [00:00<?, ?it/s]"
      ]
     },
     "metadata": {},
     "output_type": "display_data"
    },
    {
     "name": "stdout",
     "output_type": "stream",
     "text": [
      "\n",
      " Early Stopping / epoch: 106 loss: 0.000667\n",
      "----------------------------------------------------------------------------------------------------------\n",
      "lr: 0.0001  patience: 20  num_layers: 2  batch_size: 32  hidden_size: 32  dropout: 0.25 criterion: <function criterion2 at 0x000001F4A9CA77F0>\n"
     ]
    },
    {
     "data": {
      "application/vnd.jupyter.widget-view+json": {
       "model_id": "07ae1eba14d8421b8fbfa8fcbdc9ad65",
       "version_major": 2,
       "version_minor": 0
      },
      "text/plain": [
       "  0%|          | 0/10000 [00:00<?, ?it/s]"
      ]
     },
     "metadata": {},
     "output_type": "display_data"
    },
    {
     "name": "stdout",
     "output_type": "stream",
     "text": [
      "\n",
      " Early Stopping / epoch: 345 loss: 0.008831\n",
      "----------------------------------------------------------------------------------------------------------\n",
      "lr: 0.0001  patience: 20  num_layers: 2  batch_size: 32  hidden_size: 32  dropout: 0.25 criterion: <function criterion3 at 0x000001F4A9CA7880>\n"
     ]
    },
    {
     "data": {
      "application/vnd.jupyter.widget-view+json": {
       "model_id": "7e7e428de33843bb92c0f1bf0d884237",
       "version_major": 2,
       "version_minor": 0
      },
      "text/plain": [
       "  0%|          | 0/10000 [00:00<?, ?it/s]"
      ]
     },
     "metadata": {},
     "output_type": "display_data"
    },
    {
     "name": "stdout",
     "output_type": "stream",
     "text": [
      "\n",
      " Early Stopping / epoch: 1253 loss: 0.001546\n",
      "----------------------------------------------------------------------------------------------------------\n",
      "lr: 0.0001  patience: 20  num_layers: 2  batch_size: 32  hidden_size: 32  dropout: 0.5 criterion: MSELoss()\n"
     ]
    },
    {
     "data": {
      "application/vnd.jupyter.widget-view+json": {
       "model_id": "e738d8f98cef476dad518b0ef63f1733",
       "version_major": 2,
       "version_minor": 0
      },
      "text/plain": [
       "  0%|          | 0/10000 [00:00<?, ?it/s]"
      ]
     },
     "metadata": {},
     "output_type": "display_data"
    },
    {
     "name": "stdout",
     "output_type": "stream",
     "text": [
      "\n",
      " Early Stopping / epoch: 154 loss: 0.000663\n",
      "----------------------------------------------------------------------------------------------------------\n",
      "lr: 0.0001  patience: 20  num_layers: 2  batch_size: 32  hidden_size: 32  dropout: 0.5 criterion: <function criterion2 at 0x000001F4A9CA77F0>\n"
     ]
    },
    {
     "data": {
      "application/vnd.jupyter.widget-view+json": {
       "model_id": "6bfb72297fa84c76b91e96a1199d150a",
       "version_major": 2,
       "version_minor": 0
      },
      "text/plain": [
       "  0%|          | 0/10000 [00:00<?, ?it/s]"
      ]
     },
     "metadata": {},
     "output_type": "display_data"
    },
    {
     "name": "stdout",
     "output_type": "stream",
     "text": [
      "\n",
      " Early Stopping / epoch: 375 loss: 0.008813\n",
      "----------------------------------------------------------------------------------------------------------\n",
      "lr: 0.0001  patience: 20  num_layers: 2  batch_size: 32  hidden_size: 32  dropout: 0.5 criterion: <function criterion3 at 0x000001F4A9CA7880>\n"
     ]
    },
    {
     "data": {
      "application/vnd.jupyter.widget-view+json": {
       "model_id": "d3a0161a9b774431adf58719119bfc2b",
       "version_major": 2,
       "version_minor": 0
      },
      "text/plain": [
       "  0%|          | 0/10000 [00:00<?, ?it/s]"
      ]
     },
     "metadata": {},
     "output_type": "display_data"
    },
    {
     "name": "stdout",
     "output_type": "stream",
     "text": [
      "\n",
      " Early Stopping / epoch: 670 loss: 0.002107\n",
      "----------------------------------------------------------------------------------------------------------\n",
      "lr: 0.0001  patience: 20  num_layers: 2  batch_size: 64  hidden_size: 8  dropout: 0.25 criterion: MSELoss()\n"
     ]
    },
    {
     "data": {
      "application/vnd.jupyter.widget-view+json": {
       "model_id": "304ebb3c66764bb9936ce1a3a4e4b8d0",
       "version_major": 2,
       "version_minor": 0
      },
      "text/plain": [
       "  0%|          | 0/10000 [00:00<?, ?it/s]"
      ]
     },
     "metadata": {},
     "output_type": "display_data"
    },
    {
     "name": "stdout",
     "output_type": "stream",
     "text": [
      "\n",
      " Early Stopping / epoch: 207 loss: 0.000722\n",
      "----------------------------------------------------------------------------------------------------------\n",
      "lr: 0.0001  patience: 20  num_layers: 2  batch_size: 64  hidden_size: 8  dropout: 0.25 criterion: <function criterion2 at 0x000001F4A9CA77F0>\n"
     ]
    },
    {
     "data": {
      "application/vnd.jupyter.widget-view+json": {
       "model_id": "96a57f169e1b4a13b8f91e2e9f3f069e",
       "version_major": 2,
       "version_minor": 0
      },
      "text/plain": [
       "  0%|          | 0/10000 [00:00<?, ?it/s]"
      ]
     },
     "metadata": {},
     "output_type": "display_data"
    },
    {
     "name": "stdout",
     "output_type": "stream",
     "text": [
      "\n",
      " Early Stopping / epoch: 302 loss: 0.009825\n",
      "----------------------------------------------------------------------------------------------------------\n",
      "lr: 0.0001  patience: 20  num_layers: 2  batch_size: 64  hidden_size: 8  dropout: 0.25 criterion: <function criterion3 at 0x000001F4A9CA7880>\n"
     ]
    },
    {
     "data": {
      "application/vnd.jupyter.widget-view+json": {
       "model_id": "dccbb9dad7e44ebdbaa003635ef3c472",
       "version_major": 2,
       "version_minor": 0
      },
      "text/plain": [
       "  0%|          | 0/10000 [00:00<?, ?it/s]"
      ]
     },
     "metadata": {},
     "output_type": "display_data"
    },
    {
     "name": "stdout",
     "output_type": "stream",
     "text": [
      "\n",
      " Early Stopping / epoch: 434 loss: 0.002076\n",
      "----------------------------------------------------------------------------------------------------------\n",
      "lr: 0.0001  patience: 20  num_layers: 2  batch_size: 64  hidden_size: 8  dropout: 0.5 criterion: MSELoss()\n"
     ]
    },
    {
     "data": {
      "application/vnd.jupyter.widget-view+json": {
       "model_id": "c604442e3a3c4e999f62a131fb976a79",
       "version_major": 2,
       "version_minor": 0
      },
      "text/plain": [
       "  0%|          | 0/10000 [00:00<?, ?it/s]"
      ]
     },
     "metadata": {},
     "output_type": "display_data"
    },
    {
     "name": "stdout",
     "output_type": "stream",
     "text": [
      "\n",
      " Early Stopping / epoch: 319 loss: 0.000665\n",
      "----------------------------------------------------------------------------------------------------------\n",
      "lr: 0.0001  patience: 20  num_layers: 2  batch_size: 64  hidden_size: 8  dropout: 0.5 criterion: <function criterion2 at 0x000001F4A9CA77F0>\n"
     ]
    },
    {
     "data": {
      "application/vnd.jupyter.widget-view+json": {
       "model_id": "208e29c7a9c846dba3a4eb4b54c9fcbc",
       "version_major": 2,
       "version_minor": 0
      },
      "text/plain": [
       "  0%|          | 0/10000 [00:00<?, ?it/s]"
      ]
     },
     "metadata": {},
     "output_type": "display_data"
    },
    {
     "name": "stdout",
     "output_type": "stream",
     "text": [
      "\n",
      " Early Stopping / epoch: 185 loss: 0.011028\n",
      "----------------------------------------------------------------------------------------------------------\n",
      "lr: 0.0001  patience: 20  num_layers: 2  batch_size: 64  hidden_size: 8  dropout: 0.5 criterion: <function criterion3 at 0x000001F4A9CA7880>\n"
     ]
    },
    {
     "data": {
      "application/vnd.jupyter.widget-view+json": {
       "model_id": "a1f82569acd648e7a66a0e1baac9e496",
       "version_major": 2,
       "version_minor": 0
      },
      "text/plain": [
       "  0%|          | 0/10000 [00:00<?, ?it/s]"
      ]
     },
     "metadata": {},
     "output_type": "display_data"
    },
    {
     "name": "stdout",
     "output_type": "stream",
     "text": [
      "\n",
      " Early Stopping / epoch: 318 loss: 0.002091\n",
      "----------------------------------------------------------------------------------------------------------\n",
      "lr: 0.0001  patience: 20  num_layers: 2  batch_size: 64  hidden_size: 16  dropout: 0.25 criterion: MSELoss()\n"
     ]
    },
    {
     "data": {
      "application/vnd.jupyter.widget-view+json": {
       "model_id": "f80ff715d125433c996f821392a41e32",
       "version_major": 2,
       "version_minor": 0
      },
      "text/plain": [
       "  0%|          | 0/10000 [00:00<?, ?it/s]"
      ]
     },
     "metadata": {},
     "output_type": "display_data"
    },
    {
     "name": "stdout",
     "output_type": "stream",
     "text": [
      "\n",
      " Early Stopping / epoch: 118 loss: 0.000653\n",
      "----------------------------------------------------------------------------------------------------------\n",
      "lr: 0.0001  patience: 20  num_layers: 2  batch_size: 64  hidden_size: 16  dropout: 0.25 criterion: <function criterion2 at 0x000001F4A9CA77F0>\n"
     ]
    },
    {
     "data": {
      "application/vnd.jupyter.widget-view+json": {
       "model_id": "b9fd6d099e9a45cbab2793ab54c6983c",
       "version_major": 2,
       "version_minor": 0
      },
      "text/plain": [
       "  0%|          | 0/10000 [00:00<?, ?it/s]"
      ]
     },
     "metadata": {},
     "output_type": "display_data"
    },
    {
     "name": "stdout",
     "output_type": "stream",
     "text": [
      "\n",
      " Early Stopping / epoch: 361 loss: 0.009376\n",
      "----------------------------------------------------------------------------------------------------------\n",
      "lr: 0.0001  patience: 20  num_layers: 2  batch_size: 64  hidden_size: 16  dropout: 0.25 criterion: <function criterion3 at 0x000001F4A9CA7880>\n"
     ]
    },
    {
     "data": {
      "application/vnd.jupyter.widget-view+json": {
       "model_id": "30e52fe528ae442f8668a84f9604ba17",
       "version_major": 2,
       "version_minor": 0
      },
      "text/plain": [
       "  0%|          | 0/10000 [00:00<?, ?it/s]"
      ]
     },
     "metadata": {},
     "output_type": "display_data"
    },
    {
     "name": "stdout",
     "output_type": "stream",
     "text": [
      "\n",
      " Early Stopping / epoch: 368 loss: 0.002001\n",
      "----------------------------------------------------------------------------------------------------------\n",
      "lr: 0.0001  patience: 20  num_layers: 2  batch_size: 64  hidden_size: 16  dropout: 0.5 criterion: MSELoss()\n"
     ]
    },
    {
     "data": {
      "application/vnd.jupyter.widget-view+json": {
       "model_id": "90c45b9d900c481c956848c1e5c47f6f",
       "version_major": 2,
       "version_minor": 0
      },
      "text/plain": [
       "  0%|          | 0/10000 [00:00<?, ?it/s]"
      ]
     },
     "metadata": {},
     "output_type": "display_data"
    },
    {
     "name": "stdout",
     "output_type": "stream",
     "text": [
      "\n",
      " Early Stopping / epoch: 157 loss: 0.000648\n",
      "----------------------------------------------------------------------------------------------------------\n",
      "lr: 0.0001  patience: 20  num_layers: 2  batch_size: 64  hidden_size: 16  dropout: 0.5 criterion: <function criterion2 at 0x000001F4A9CA77F0>\n"
     ]
    },
    {
     "data": {
      "application/vnd.jupyter.widget-view+json": {
       "model_id": "0a32e878eea7474690361eee25972fb2",
       "version_major": 2,
       "version_minor": 0
      },
      "text/plain": [
       "  0%|          | 0/10000 [00:00<?, ?it/s]"
      ]
     },
     "metadata": {},
     "output_type": "display_data"
    },
    {
     "name": "stdout",
     "output_type": "stream",
     "text": [
      "\n",
      " Early Stopping / epoch: 246 loss: 0.009628\n",
      "----------------------------------------------------------------------------------------------------------\n",
      "lr: 0.0001  patience: 20  num_layers: 2  batch_size: 64  hidden_size: 16  dropout: 0.5 criterion: <function criterion3 at 0x000001F4A9CA7880>\n"
     ]
    },
    {
     "data": {
      "application/vnd.jupyter.widget-view+json": {
       "model_id": "9263ad4a927548c695bede8fee0b7ebb",
       "version_major": 2,
       "version_minor": 0
      },
      "text/plain": [
       "  0%|          | 0/10000 [00:00<?, ?it/s]"
      ]
     },
     "metadata": {},
     "output_type": "display_data"
    },
    {
     "name": "stdout",
     "output_type": "stream",
     "text": [
      "\n",
      " Early Stopping / epoch: 820 loss: 0.001755\n",
      "----------------------------------------------------------------------------------------------------------\n",
      "lr: 0.0001  patience: 20  num_layers: 2  batch_size: 64  hidden_size: 32  dropout: 0.25 criterion: MSELoss()\n"
     ]
    },
    {
     "data": {
      "application/vnd.jupyter.widget-view+json": {
       "model_id": "14c39381b40f4811aa6a0741c504aa40",
       "version_major": 2,
       "version_minor": 0
      },
      "text/plain": [
       "  0%|          | 0/10000 [00:00<?, ?it/s]"
      ]
     },
     "metadata": {},
     "output_type": "display_data"
    },
    {
     "name": "stdout",
     "output_type": "stream",
     "text": [
      "\n",
      " Early Stopping / epoch: 128 loss: 0.000695\n",
      "----------------------------------------------------------------------------------------------------------\n",
      "lr: 0.0001  patience: 20  num_layers: 2  batch_size: 64  hidden_size: 32  dropout: 0.25 criterion: <function criterion2 at 0x000001F4A9CA77F0>\n"
     ]
    },
    {
     "data": {
      "application/vnd.jupyter.widget-view+json": {
       "model_id": "a8733a3708184326b1247a59bc2a8acc",
       "version_major": 2,
       "version_minor": 0
      },
      "text/plain": [
       "  0%|          | 0/10000 [00:00<?, ?it/s]"
      ]
     },
     "metadata": {},
     "output_type": "display_data"
    },
    {
     "name": "stdout",
     "output_type": "stream",
     "text": [
      "\n",
      " Early Stopping / epoch: 623 loss: 0.008497\n",
      "----------------------------------------------------------------------------------------------------------\n",
      "lr: 0.0001  patience: 20  num_layers: 2  batch_size: 64  hidden_size: 32  dropout: 0.25 criterion: <function criterion3 at 0x000001F4A9CA7880>\n"
     ]
    },
    {
     "data": {
      "application/vnd.jupyter.widget-view+json": {
       "model_id": "410eafad44e34ce1806a6c85bc6c6c4a",
       "version_major": 2,
       "version_minor": 0
      },
      "text/plain": [
       "  0%|          | 0/10000 [00:00<?, ?it/s]"
      ]
     },
     "metadata": {},
     "output_type": "display_data"
    },
    {
     "name": "stdout",
     "output_type": "stream",
     "text": [
      "\n",
      " Early Stopping / epoch: 560 loss: 0.001697\n",
      "----------------------------------------------------------------------------------------------------------\n",
      "lr: 0.0001  patience: 20  num_layers: 2  batch_size: 64  hidden_size: 32  dropout: 0.5 criterion: MSELoss()\n"
     ]
    },
    {
     "data": {
      "application/vnd.jupyter.widget-view+json": {
       "model_id": "85d8ef5b2d6a4af9ab811dd2b75be5a1",
       "version_major": 2,
       "version_minor": 0
      },
      "text/plain": [
       "  0%|          | 0/10000 [00:00<?, ?it/s]"
      ]
     },
     "metadata": {},
     "output_type": "display_data"
    },
    {
     "name": "stdout",
     "output_type": "stream",
     "text": [
      "\n",
      " Early Stopping / epoch: 112 loss: 0.000714\n",
      "----------------------------------------------------------------------------------------------------------\n",
      "lr: 0.0001  patience: 20  num_layers: 2  batch_size: 64  hidden_size: 32  dropout: 0.5 criterion: <function criterion2 at 0x000001F4A9CA77F0>\n"
     ]
    },
    {
     "data": {
      "application/vnd.jupyter.widget-view+json": {
       "model_id": "557c2826640d4078944ec2b5850ffb69",
       "version_major": 2,
       "version_minor": 0
      },
      "text/plain": [
       "  0%|          | 0/10000 [00:00<?, ?it/s]"
      ]
     },
     "metadata": {},
     "output_type": "display_data"
    },
    {
     "name": "stdout",
     "output_type": "stream",
     "text": [
      "\n",
      " Early Stopping / epoch: 768 loss: 0.007827\n",
      "----------------------------------------------------------------------------------------------------------\n",
      "lr: 0.0001  patience: 20  num_layers: 2  batch_size: 64  hidden_size: 32  dropout: 0.5 criterion: <function criterion3 at 0x000001F4A9CA7880>\n"
     ]
    },
    {
     "data": {
      "application/vnd.jupyter.widget-view+json": {
       "model_id": "6e7c9bc27e0547ad8c1a921587267ae0",
       "version_major": 2,
       "version_minor": 0
      },
      "text/plain": [
       "  0%|          | 0/10000 [00:00<?, ?it/s]"
      ]
     },
     "metadata": {},
     "output_type": "display_data"
    },
    {
     "name": "stdout",
     "output_type": "stream",
     "text": [
      "\n",
      " Early Stopping / epoch: 169 loss: 0.002072\n",
      "----------------------------------------------------------------------------------------------------------\n",
      "lr: 0.0001  patience: 20  num_layers: 2  batch_size: 128  hidden_size: 8  dropout: 0.25 criterion: MSELoss()\n"
     ]
    },
    {
     "data": {
      "application/vnd.jupyter.widget-view+json": {
       "model_id": "29e8a45235df4503a78fc1b3d703e56a",
       "version_major": 2,
       "version_minor": 0
      },
      "text/plain": [
       "  0%|          | 0/10000 [00:00<?, ?it/s]"
      ]
     },
     "metadata": {},
     "output_type": "display_data"
    },
    {
     "name": "stdout",
     "output_type": "stream",
     "text": [
      "\n",
      " Early Stopping / epoch: 207 loss: 0.000672\n",
      "----------------------------------------------------------------------------------------------------------\n",
      "lr: 0.0001  patience: 20  num_layers: 2  batch_size: 128  hidden_size: 8  dropout: 0.25 criterion: <function criterion2 at 0x000001F4A9CA77F0>\n"
     ]
    },
    {
     "data": {
      "application/vnd.jupyter.widget-view+json": {
       "model_id": "7bfec3fd0f534da69d9a94373856a60f",
       "version_major": 2,
       "version_minor": 0
      },
      "text/plain": [
       "  0%|          | 0/10000 [00:00<?, ?it/s]"
      ]
     },
     "metadata": {},
     "output_type": "display_data"
    },
    {
     "name": "stdout",
     "output_type": "stream",
     "text": [
      "\n",
      " Early Stopping / epoch: 427 loss: 0.009847\n",
      "----------------------------------------------------------------------------------------------------------\n",
      "lr: 0.0001  patience: 20  num_layers: 2  batch_size: 128  hidden_size: 8  dropout: 0.25 criterion: <function criterion3 at 0x000001F4A9CA7880>\n"
     ]
    },
    {
     "data": {
      "application/vnd.jupyter.widget-view+json": {
       "model_id": "ff0acfdef3d549bdbfc53cc6e9854f34",
       "version_major": 2,
       "version_minor": 0
      },
      "text/plain": [
       "  0%|          | 0/10000 [00:00<?, ?it/s]"
      ]
     },
     "metadata": {},
     "output_type": "display_data"
    },
    {
     "name": "stdout",
     "output_type": "stream",
     "text": [
      "\n",
      " Early Stopping / epoch: 207 loss: 0.001808\n",
      "----------------------------------------------------------------------------------------------------------\n",
      "lr: 0.0001  patience: 20  num_layers: 2  batch_size: 128  hidden_size: 8  dropout: 0.5 criterion: MSELoss()\n"
     ]
    },
    {
     "data": {
      "application/vnd.jupyter.widget-view+json": {
       "model_id": "94abc613992a44bd8821d6096261994d",
       "version_major": 2,
       "version_minor": 0
      },
      "text/plain": [
       "  0%|          | 0/10000 [00:00<?, ?it/s]"
      ]
     },
     "metadata": {},
     "output_type": "display_data"
    },
    {
     "name": "stdout",
     "output_type": "stream",
     "text": [
      "\n",
      " Early Stopping / epoch: 242 loss: 0.000830\n",
      "----------------------------------------------------------------------------------------------------------\n",
      "lr: 0.0001  patience: 20  num_layers: 2  batch_size: 128  hidden_size: 8  dropout: 0.5 criterion: <function criterion2 at 0x000001F4A9CA77F0>\n"
     ]
    },
    {
     "data": {
      "application/vnd.jupyter.widget-view+json": {
       "model_id": "edc4b6977bd240f1b14c551a4aff2494",
       "version_major": 2,
       "version_minor": 0
      },
      "text/plain": [
       "  0%|          | 0/10000 [00:00<?, ?it/s]"
      ]
     },
     "metadata": {},
     "output_type": "display_data"
    },
    {
     "name": "stdout",
     "output_type": "stream",
     "text": [
      "\n",
      " Early Stopping / epoch: 487 loss: 0.010237\n",
      "----------------------------------------------------------------------------------------------------------\n",
      "lr: 0.0001  patience: 20  num_layers: 2  batch_size: 128  hidden_size: 8  dropout: 0.5 criterion: <function criterion3 at 0x000001F4A9CA7880>\n"
     ]
    },
    {
     "data": {
      "application/vnd.jupyter.widget-view+json": {
       "model_id": "32b6e9531ca6421a95485c1354776cd2",
       "version_major": 2,
       "version_minor": 0
      },
      "text/plain": [
       "  0%|          | 0/10000 [00:00<?, ?it/s]"
      ]
     },
     "metadata": {},
     "output_type": "display_data"
    },
    {
     "name": "stdout",
     "output_type": "stream",
     "text": [
      "\n",
      " Early Stopping / epoch: 431 loss: 0.001790\n",
      "----------------------------------------------------------------------------------------------------------\n",
      "lr: 0.0001  patience: 20  num_layers: 2  batch_size: 128  hidden_size: 16  dropout: 0.25 criterion: MSELoss()\n"
     ]
    },
    {
     "data": {
      "application/vnd.jupyter.widget-view+json": {
       "model_id": "c166ebdede374d8e91b289aa28b5c323",
       "version_major": 2,
       "version_minor": 0
      },
      "text/plain": [
       "  0%|          | 0/10000 [00:00<?, ?it/s]"
      ]
     },
     "metadata": {},
     "output_type": "display_data"
    },
    {
     "name": "stdout",
     "output_type": "stream",
     "text": [
      "\n",
      " Early Stopping / epoch: 238 loss: 0.000724\n",
      "----------------------------------------------------------------------------------------------------------\n",
      "lr: 0.0001  patience: 20  num_layers: 2  batch_size: 128  hidden_size: 16  dropout: 0.25 criterion: <function criterion2 at 0x000001F4A9CA77F0>\n"
     ]
    },
    {
     "data": {
      "application/vnd.jupyter.widget-view+json": {
       "model_id": "a83840c245d54cfebd41478b6ed911b4",
       "version_major": 2,
       "version_minor": 0
      },
      "text/plain": [
       "  0%|          | 0/10000 [00:00<?, ?it/s]"
      ]
     },
     "metadata": {},
     "output_type": "display_data"
    },
    {
     "name": "stdout",
     "output_type": "stream",
     "text": [
      "\n",
      " Early Stopping / epoch: 274 loss: 0.009454\n",
      "----------------------------------------------------------------------------------------------------------\n",
      "lr: 0.0001  patience: 20  num_layers: 2  batch_size: 128  hidden_size: 16  dropout: 0.25 criterion: <function criterion3 at 0x000001F4A9CA7880>\n"
     ]
    },
    {
     "data": {
      "application/vnd.jupyter.widget-view+json": {
       "model_id": "c3195cdcd6b8430cbd4722c628be6d05",
       "version_major": 2,
       "version_minor": 0
      },
      "text/plain": [
       "  0%|          | 0/10000 [00:00<?, ?it/s]"
      ]
     },
     "metadata": {},
     "output_type": "display_data"
    },
    {
     "name": "stdout",
     "output_type": "stream",
     "text": [
      "\n",
      " Early Stopping / epoch: 325 loss: 0.001669\n",
      "----------------------------------------------------------------------------------------------------------\n",
      "lr: 0.0001  patience: 20  num_layers: 2  batch_size: 128  hidden_size: 16  dropout: 0.5 criterion: MSELoss()\n"
     ]
    },
    {
     "data": {
      "application/vnd.jupyter.widget-view+json": {
       "model_id": "ded7628d3bb8491185401f2b7465f728",
       "version_major": 2,
       "version_minor": 0
      },
      "text/plain": [
       "  0%|          | 0/10000 [00:00<?, ?it/s]"
      ]
     },
     "metadata": {},
     "output_type": "display_data"
    },
    {
     "name": "stdout",
     "output_type": "stream",
     "text": [
      "\n",
      " Early Stopping / epoch: 278 loss: 0.000612\n",
      "----------------------------------------------------------------------------------------------------------\n",
      "lr: 0.0001  patience: 20  num_layers: 2  batch_size: 128  hidden_size: 16  dropout: 0.5 criterion: <function criterion2 at 0x000001F4A9CA77F0>\n"
     ]
    },
    {
     "data": {
      "application/vnd.jupyter.widget-view+json": {
       "model_id": "9b7b5ad5ad4e4decaae1be3663350b85",
       "version_major": 2,
       "version_minor": 0
      },
      "text/plain": [
       "  0%|          | 0/10000 [00:00<?, ?it/s]"
      ]
     },
     "metadata": {},
     "output_type": "display_data"
    },
    {
     "name": "stdout",
     "output_type": "stream",
     "text": [
      "\n",
      " Early Stopping / epoch: 319 loss: 0.009717\n",
      "----------------------------------------------------------------------------------------------------------\n",
      "lr: 0.0001  patience: 20  num_layers: 2  batch_size: 128  hidden_size: 16  dropout: 0.5 criterion: <function criterion3 at 0x000001F4A9CA7880>\n"
     ]
    },
    {
     "data": {
      "application/vnd.jupyter.widget-view+json": {
       "model_id": "3368ac1c0dd345e6b851f9b90c122b7f",
       "version_major": 2,
       "version_minor": 0
      },
      "text/plain": [
       "  0%|          | 0/10000 [00:00<?, ?it/s]"
      ]
     },
     "metadata": {},
     "output_type": "display_data"
    },
    {
     "name": "stdout",
     "output_type": "stream",
     "text": [
      "\n",
      " Early Stopping / epoch: 192 loss: 0.001736\n",
      "----------------------------------------------------------------------------------------------------------\n",
      "lr: 0.0001  patience: 20  num_layers: 2  batch_size: 128  hidden_size: 32  dropout: 0.25 criterion: MSELoss()\n"
     ]
    },
    {
     "data": {
      "application/vnd.jupyter.widget-view+json": {
       "model_id": "4f509e9c557e413fa6163fab592768e6",
       "version_major": 2,
       "version_minor": 0
      },
      "text/plain": [
       "  0%|          | 0/10000 [00:00<?, ?it/s]"
      ]
     },
     "metadata": {},
     "output_type": "display_data"
    },
    {
     "name": "stdout",
     "output_type": "stream",
     "text": [
      "\n",
      " Early Stopping / epoch: 117 loss: 0.000629\n",
      "----------------------------------------------------------------------------------------------------------\n",
      "lr: 0.0001  patience: 20  num_layers: 2  batch_size: 128  hidden_size: 32  dropout: 0.25 criterion: <function criterion2 at 0x000001F4A9CA77F0>\n"
     ]
    },
    {
     "data": {
      "application/vnd.jupyter.widget-view+json": {
       "model_id": "7c70304b27404c4aa27ed138e0a50e59",
       "version_major": 2,
       "version_minor": 0
      },
      "text/plain": [
       "  0%|          | 0/10000 [00:00<?, ?it/s]"
      ]
     },
     "metadata": {},
     "output_type": "display_data"
    },
    {
     "name": "stdout",
     "output_type": "stream",
     "text": [
      "\n",
      " Early Stopping / epoch: 137 loss: 0.010227\n",
      "----------------------------------------------------------------------------------------------------------\n",
      "lr: 0.0001  patience: 20  num_layers: 2  batch_size: 128  hidden_size: 32  dropout: 0.25 criterion: <function criterion3 at 0x000001F4A9CA7880>\n"
     ]
    },
    {
     "data": {
      "application/vnd.jupyter.widget-view+json": {
       "model_id": "98af64b167f14ade96b3b9072f3bbbfa",
       "version_major": 2,
       "version_minor": 0
      },
      "text/plain": [
       "  0%|          | 0/10000 [00:00<?, ?it/s]"
      ]
     },
     "metadata": {},
     "output_type": "display_data"
    },
    {
     "name": "stdout",
     "output_type": "stream",
     "text": [
      "\n",
      " Early Stopping / epoch: 213 loss: 0.001651\n",
      "----------------------------------------------------------------------------------------------------------\n",
      "lr: 0.0001  patience: 20  num_layers: 2  batch_size: 128  hidden_size: 32  dropout: 0.5 criterion: MSELoss()\n"
     ]
    },
    {
     "data": {
      "application/vnd.jupyter.widget-view+json": {
       "model_id": "16b76fdfacfd4d9e8e356d5408d104a8",
       "version_major": 2,
       "version_minor": 0
      },
      "text/plain": [
       "  0%|          | 0/10000 [00:00<?, ?it/s]"
      ]
     },
     "metadata": {},
     "output_type": "display_data"
    },
    {
     "name": "stdout",
     "output_type": "stream",
     "text": [
      "\n",
      " Early Stopping / epoch: 128 loss: 0.000611\n",
      "----------------------------------------------------------------------------------------------------------\n",
      "lr: 0.0001  patience: 20  num_layers: 2  batch_size: 128  hidden_size: 32  dropout: 0.5 criterion: <function criterion2 at 0x000001F4A9CA77F0>\n"
     ]
    },
    {
     "data": {
      "application/vnd.jupyter.widget-view+json": {
       "model_id": "ead8acc9016a451880caf1f634ee0252",
       "version_major": 2,
       "version_minor": 0
      },
      "text/plain": [
       "  0%|          | 0/10000 [00:00<?, ?it/s]"
      ]
     },
     "metadata": {},
     "output_type": "display_data"
    },
    {
     "name": "stdout",
     "output_type": "stream",
     "text": [
      "\n",
      " Early Stopping / epoch: 252 loss: 0.009346\n",
      "----------------------------------------------------------------------------------------------------------\n",
      "lr: 0.0001  patience: 20  num_layers: 2  batch_size: 128  hidden_size: 32  dropout: 0.5 criterion: <function criterion3 at 0x000001F4A9CA7880>\n"
     ]
    },
    {
     "data": {
      "application/vnd.jupyter.widget-view+json": {
       "model_id": "aa0fd03842504a1392f742acfdd0afa4",
       "version_major": 2,
       "version_minor": 0
      },
      "text/plain": [
       "  0%|          | 0/10000 [00:00<?, ?it/s]"
      ]
     },
     "metadata": {},
     "output_type": "display_data"
    },
    {
     "name": "stdout",
     "output_type": "stream",
     "text": [
      "\n",
      " Early Stopping / epoch: 604 loss: 0.001429\n",
      "----------------------------------------------------------------------------------------------------------\n",
      "lr: 0.0001  patience: 20  num_layers: 4  batch_size: 32  hidden_size: 8  dropout: 0.25 criterion: MSELoss()\n"
     ]
    },
    {
     "data": {
      "application/vnd.jupyter.widget-view+json": {
       "model_id": "b791613dc934448a8a8955d985a77df2",
       "version_major": 2,
       "version_minor": 0
      },
      "text/plain": [
       "  0%|          | 0/10000 [00:00<?, ?it/s]"
      ]
     },
     "metadata": {},
     "output_type": "display_data"
    },
    {
     "name": "stdout",
     "output_type": "stream",
     "text": [
      "\n",
      " Early Stopping / epoch: 246 loss: 0.000726\n",
      "----------------------------------------------------------------------------------------------------------\n",
      "lr: 0.0001  patience: 20  num_layers: 4  batch_size: 32  hidden_size: 8  dropout: 0.25 criterion: <function criterion2 at 0x000001F4A9CA77F0>\n"
     ]
    },
    {
     "data": {
      "application/vnd.jupyter.widget-view+json": {
       "model_id": "62e5587ee0a3431695d14f862f281c58",
       "version_major": 2,
       "version_minor": 0
      },
      "text/plain": [
       "  0%|          | 0/10000 [00:00<?, ?it/s]"
      ]
     },
     "metadata": {},
     "output_type": "display_data"
    },
    {
     "name": "stdout",
     "output_type": "stream",
     "text": [
      "\n",
      " Early Stopping / epoch: 257 loss: 0.010047\n",
      "----------------------------------------------------------------------------------------------------------\n",
      "lr: 0.0001  patience: 20  num_layers: 4  batch_size: 32  hidden_size: 8  dropout: 0.25 criterion: <function criterion3 at 0x000001F4A9CA7880>\n"
     ]
    },
    {
     "data": {
      "application/vnd.jupyter.widget-view+json": {
       "model_id": "f5c7e9fa66a9469aa856e71f231e1d19",
       "version_major": 2,
       "version_minor": 0
      },
      "text/plain": [
       "  0%|          | 0/10000 [00:00<?, ?it/s]"
      ]
     },
     "metadata": {},
     "output_type": "display_data"
    },
    {
     "name": "stdout",
     "output_type": "stream",
     "text": [
      "\n",
      " Early Stopping / epoch: 280 loss: 0.002671\n",
      "----------------------------------------------------------------------------------------------------------\n",
      "lr: 0.0001  patience: 20  num_layers: 4  batch_size: 32  hidden_size: 8  dropout: 0.5 criterion: MSELoss()\n"
     ]
    },
    {
     "data": {
      "application/vnd.jupyter.widget-view+json": {
       "model_id": "8cc5c2639f22462da3d9e3e69e8c6f50",
       "version_major": 2,
       "version_minor": 0
      },
      "text/plain": [
       "  0%|          | 0/10000 [00:00<?, ?it/s]"
      ]
     },
     "metadata": {},
     "output_type": "display_data"
    },
    {
     "name": "stdout",
     "output_type": "stream",
     "text": [
      "\n",
      " Early Stopping / epoch: 252 loss: 0.000734\n",
      "----------------------------------------------------------------------------------------------------------\n",
      "lr: 0.0001  patience: 20  num_layers: 4  batch_size: 32  hidden_size: 8  dropout: 0.5 criterion: <function criterion2 at 0x000001F4A9CA77F0>\n"
     ]
    },
    {
     "data": {
      "application/vnd.jupyter.widget-view+json": {
       "model_id": "1471025c1dfc499e9c9167a835887d2b",
       "version_major": 2,
       "version_minor": 0
      },
      "text/plain": [
       "  0%|          | 0/10000 [00:00<?, ?it/s]"
      ]
     },
     "metadata": {},
     "output_type": "display_data"
    },
    {
     "name": "stdout",
     "output_type": "stream",
     "text": [
      "\n",
      " Early Stopping / epoch: 287 loss: 0.009997\n",
      "----------------------------------------------------------------------------------------------------------\n",
      "lr: 0.0001  patience: 20  num_layers: 4  batch_size: 32  hidden_size: 8  dropout: 0.5 criterion: <function criterion3 at 0x000001F4A9CA7880>\n"
     ]
    },
    {
     "data": {
      "application/vnd.jupyter.widget-view+json": {
       "model_id": "5b941f8da9de40dcb9f522305e05415f",
       "version_major": 2,
       "version_minor": 0
      },
      "text/plain": [
       "  0%|          | 0/10000 [00:00<?, ?it/s]"
      ]
     },
     "metadata": {},
     "output_type": "display_data"
    },
    {
     "name": "stdout",
     "output_type": "stream",
     "text": [
      "\n",
      " Early Stopping / epoch: 310 loss: 0.002653\n",
      "----------------------------------------------------------------------------------------------------------\n",
      "lr: 0.0001  patience: 20  num_layers: 4  batch_size: 32  hidden_size: 16  dropout: 0.25 criterion: MSELoss()\n"
     ]
    },
    {
     "data": {
      "application/vnd.jupyter.widget-view+json": {
       "model_id": "3fee8fa9e68948baae4af6dd7f6f176b",
       "version_major": 2,
       "version_minor": 0
      },
      "text/plain": [
       "  0%|          | 0/10000 [00:00<?, ?it/s]"
      ]
     },
     "metadata": {},
     "output_type": "display_data"
    },
    {
     "name": "stdout",
     "output_type": "stream",
     "text": [
      "\n",
      " Early Stopping / epoch: 619 loss: 0.000379\n",
      "----------------------------------------------------------------------------------------------------------\n",
      "lr: 0.0001  patience: 20  num_layers: 4  batch_size: 32  hidden_size: 16  dropout: 0.25 criterion: <function criterion2 at 0x000001F4A9CA77F0>\n"
     ]
    },
    {
     "data": {
      "application/vnd.jupyter.widget-view+json": {
       "model_id": "9cae62d8bfd240df904b1240e3f22850",
       "version_major": 2,
       "version_minor": 0
      },
      "text/plain": [
       "  0%|          | 0/10000 [00:00<?, ?it/s]"
      ]
     },
     "metadata": {},
     "output_type": "display_data"
    },
    {
     "name": "stdout",
     "output_type": "stream",
     "text": [
      "\n",
      " Early Stopping / epoch: 426 loss: 0.009354\n",
      "----------------------------------------------------------------------------------------------------------\n",
      "lr: 0.0001  patience: 20  num_layers: 4  batch_size: 32  hidden_size: 16  dropout: 0.25 criterion: <function criterion3 at 0x000001F4A9CA7880>\n"
     ]
    },
    {
     "data": {
      "application/vnd.jupyter.widget-view+json": {
       "model_id": "536e3f6cb63a4915b8f3197944f8e3a8",
       "version_major": 2,
       "version_minor": 0
      },
      "text/plain": [
       "  0%|          | 0/10000 [00:00<?, ?it/s]"
      ]
     },
     "metadata": {},
     "output_type": "display_data"
    },
    {
     "name": "stdout",
     "output_type": "stream",
     "text": [
      "\n",
      " Early Stopping / epoch: 217 loss: 0.002563\n",
      "----------------------------------------------------------------------------------------------------------\n",
      "lr: 0.0001  patience: 20  num_layers: 4  batch_size: 32  hidden_size: 16  dropout: 0.5 criterion: MSELoss()\n"
     ]
    },
    {
     "data": {
      "application/vnd.jupyter.widget-view+json": {
       "model_id": "f5d5daf56d954307b1f3e4bfed5486ef",
       "version_major": 2,
       "version_minor": 0
      },
      "text/plain": [
       "  0%|          | 0/10000 [00:00<?, ?it/s]"
      ]
     },
     "metadata": {},
     "output_type": "display_data"
    },
    {
     "name": "stdout",
     "output_type": "stream",
     "text": [
      "\n",
      " Early Stopping / epoch: 334 loss: 0.000478\n",
      "----------------------------------------------------------------------------------------------------------\n",
      "lr: 0.0001  patience: 20  num_layers: 4  batch_size: 32  hidden_size: 16  dropout: 0.5 criterion: <function criterion2 at 0x000001F4A9CA77F0>\n"
     ]
    },
    {
     "data": {
      "application/vnd.jupyter.widget-view+json": {
       "model_id": "2c3af48b2a3e4b829cbd93d5f09da12b",
       "version_major": 2,
       "version_minor": 0
      },
      "text/plain": [
       "  0%|          | 0/10000 [00:00<?, ?it/s]"
      ]
     },
     "metadata": {},
     "output_type": "display_data"
    },
    {
     "name": "stdout",
     "output_type": "stream",
     "text": [
      "\n",
      " Early Stopping / epoch: 276 loss: 0.009376\n",
      "----------------------------------------------------------------------------------------------------------\n",
      "lr: 0.0001  patience: 20  num_layers: 4  batch_size: 32  hidden_size: 16  dropout: 0.5 criterion: <function criterion3 at 0x000001F4A9CA7880>\n"
     ]
    },
    {
     "data": {
      "application/vnd.jupyter.widget-view+json": {
       "model_id": "7aa42f5529ca4dddb9b52247c04f8903",
       "version_major": 2,
       "version_minor": 0
      },
      "text/plain": [
       "  0%|          | 0/10000 [00:00<?, ?it/s]"
      ]
     },
     "metadata": {},
     "output_type": "display_data"
    },
    {
     "name": "stdout",
     "output_type": "stream",
     "text": [
      "\n",
      " Early Stopping / epoch: 195 loss: 0.002606\n",
      "----------------------------------------------------------------------------------------------------------\n",
      "lr: 0.0001  patience: 20  num_layers: 4  batch_size: 32  hidden_size: 32  dropout: 0.25 criterion: MSELoss()\n"
     ]
    },
    {
     "data": {
      "application/vnd.jupyter.widget-view+json": {
       "model_id": "43ea773821f4480f9f5b5febec4bc820",
       "version_major": 2,
       "version_minor": 0
      },
      "text/plain": [
       "  0%|          | 0/10000 [00:00<?, ?it/s]"
      ]
     },
     "metadata": {},
     "output_type": "display_data"
    },
    {
     "name": "stdout",
     "output_type": "stream",
     "text": [
      "\n",
      " Early Stopping / epoch: 272 loss: 0.000356\n",
      "----------------------------------------------------------------------------------------------------------\n",
      "lr: 0.0001  patience: 20  num_layers: 4  batch_size: 32  hidden_size: 32  dropout: 0.25 criterion: <function criterion2 at 0x000001F4A9CA77F0>\n"
     ]
    },
    {
     "data": {
      "application/vnd.jupyter.widget-view+json": {
       "model_id": "b229d731ef164209938a8cb8709d7e0f",
       "version_major": 2,
       "version_minor": 0
      },
      "text/plain": [
       "  0%|          | 0/10000 [00:00<?, ?it/s]"
      ]
     },
     "metadata": {},
     "output_type": "display_data"
    },
    {
     "name": "stdout",
     "output_type": "stream",
     "text": [
      "\n",
      " Early Stopping / epoch: 650 loss: 0.007250\n",
      "----------------------------------------------------------------------------------------------------------\n",
      "lr: 0.0001  patience: 20  num_layers: 4  batch_size: 32  hidden_size: 32  dropout: 0.25 criterion: <function criterion3 at 0x000001F4A9CA7880>\n"
     ]
    },
    {
     "data": {
      "application/vnd.jupyter.widget-view+json": {
       "model_id": "095a9afc91f241b2873a16e4f48de505",
       "version_major": 2,
       "version_minor": 0
      },
      "text/plain": [
       "  0%|          | 0/10000 [00:00<?, ?it/s]"
      ]
     },
     "metadata": {},
     "output_type": "display_data"
    },
    {
     "name": "stdout",
     "output_type": "stream",
     "text": [
      "\n",
      " Early Stopping / epoch: 368 loss: 0.002110\n",
      "----------------------------------------------------------------------------------------------------------\n",
      "lr: 0.0001  patience: 20  num_layers: 4  batch_size: 32  hidden_size: 32  dropout: 0.5 criterion: MSELoss()\n"
     ]
    },
    {
     "data": {
      "application/vnd.jupyter.widget-view+json": {
       "model_id": "28f6cb2d911345bd8ce3ffbbb1bd9706",
       "version_major": 2,
       "version_minor": 0
      },
      "text/plain": [
       "  0%|          | 0/10000 [00:00<?, ?it/s]"
      ]
     },
     "metadata": {},
     "output_type": "display_data"
    },
    {
     "name": "stdout",
     "output_type": "stream",
     "text": [
      "\n",
      " Early Stopping / epoch: 146 loss: 0.000691\n",
      "----------------------------------------------------------------------------------------------------------\n",
      "lr: 0.0001  patience: 20  num_layers: 4  batch_size: 32  hidden_size: 32  dropout: 0.5 criterion: <function criterion2 at 0x000001F4A9CA77F0>\n"
     ]
    },
    {
     "data": {
      "application/vnd.jupyter.widget-view+json": {
       "model_id": "048c7a2ea90f46de8f97ca779079aa4c",
       "version_major": 2,
       "version_minor": 0
      },
      "text/plain": [
       "  0%|          | 0/10000 [00:00<?, ?it/s]"
      ]
     },
     "metadata": {},
     "output_type": "display_data"
    },
    {
     "name": "stdout",
     "output_type": "stream",
     "text": [
      "\n",
      " Early Stopping / epoch: 207 loss: 0.009355\n",
      "----------------------------------------------------------------------------------------------------------\n",
      "lr: 0.0001  patience: 20  num_layers: 4  batch_size: 32  hidden_size: 32  dropout: 0.5 criterion: <function criterion3 at 0x000001F4A9CA7880>\n"
     ]
    },
    {
     "data": {
      "application/vnd.jupyter.widget-view+json": {
       "model_id": "73a730cf6e534fd69bab936ebcb40302",
       "version_major": 2,
       "version_minor": 0
      },
      "text/plain": [
       "  0%|          | 0/10000 [00:00<?, ?it/s]"
      ]
     },
     "metadata": {},
     "output_type": "display_data"
    },
    {
     "name": "stdout",
     "output_type": "stream",
     "text": [
      "\n",
      " Early Stopping / epoch: 393 loss: 0.002123\n",
      "----------------------------------------------------------------------------------------------------------\n",
      "lr: 0.0001  patience: 20  num_layers: 4  batch_size: 64  hidden_size: 8  dropout: 0.25 criterion: MSELoss()\n"
     ]
    },
    {
     "data": {
      "application/vnd.jupyter.widget-view+json": {
       "model_id": "612d66718a2a43baa72116a1cb1458b4",
       "version_major": 2,
       "version_minor": 0
      },
      "text/plain": [
       "  0%|          | 0/10000 [00:00<?, ?it/s]"
      ]
     },
     "metadata": {},
     "output_type": "display_data"
    },
    {
     "name": "stdout",
     "output_type": "stream",
     "text": [
      "\n",
      " Early Stopping / epoch: 168 loss: 0.000805\n",
      "----------------------------------------------------------------------------------------------------------\n",
      "lr: 0.0001  patience: 20  num_layers: 4  batch_size: 64  hidden_size: 8  dropout: 0.25 criterion: <function criterion2 at 0x000001F4A9CA77F0>\n"
     ]
    },
    {
     "data": {
      "application/vnd.jupyter.widget-view+json": {
       "model_id": "e7b9505f8c184db4a0b50c67596a4bce",
       "version_major": 2,
       "version_minor": 0
      },
      "text/plain": [
       "  0%|          | 0/10000 [00:00<?, ?it/s]"
      ]
     },
     "metadata": {},
     "output_type": "display_data"
    },
    {
     "name": "stdout",
     "output_type": "stream",
     "text": [
      "\n",
      " Early Stopping / epoch: 380 loss: 0.009543\n",
      "----------------------------------------------------------------------------------------------------------\n",
      "lr: 0.0001  patience: 20  num_layers: 4  batch_size: 64  hidden_size: 8  dropout: 0.25 criterion: <function criterion3 at 0x000001F4A9CA7880>\n"
     ]
    },
    {
     "data": {
      "application/vnd.jupyter.widget-view+json": {
       "model_id": "b1d7a834c1cf4fe7a529e98a7a8902ba",
       "version_major": 2,
       "version_minor": 0
      },
      "text/plain": [
       "  0%|          | 0/10000 [00:00<?, ?it/s]"
      ]
     },
     "metadata": {},
     "output_type": "display_data"
    },
    {
     "name": "stdout",
     "output_type": "stream",
     "text": [
      "\n",
      " Early Stopping / epoch: 122 loss: 0.002249\n",
      "----------------------------------------------------------------------------------------------------------\n",
      "lr: 0.0001  patience: 20  num_layers: 4  batch_size: 64  hidden_size: 8  dropout: 0.5 criterion: MSELoss()\n"
     ]
    },
    {
     "data": {
      "application/vnd.jupyter.widget-view+json": {
       "model_id": "fce4fbdd4a1447208584e2e3fa903610",
       "version_major": 2,
       "version_minor": 0
      },
      "text/plain": [
       "  0%|          | 0/10000 [00:00<?, ?it/s]"
      ]
     },
     "metadata": {},
     "output_type": "display_data"
    },
    {
     "name": "stdout",
     "output_type": "stream",
     "text": [
      "\n",
      " Early Stopping / epoch: 495 loss: 0.000683\n",
      "----------------------------------------------------------------------------------------------------------\n",
      "lr: 0.0001  patience: 20  num_layers: 4  batch_size: 64  hidden_size: 8  dropout: 0.5 criterion: <function criterion2 at 0x000001F4A9CA77F0>\n"
     ]
    },
    {
     "data": {
      "application/vnd.jupyter.widget-view+json": {
       "model_id": "436ae37c254743408336c801779cac1b",
       "version_major": 2,
       "version_minor": 0
      },
      "text/plain": [
       "  0%|          | 0/10000 [00:00<?, ?it/s]"
      ]
     },
     "metadata": {},
     "output_type": "display_data"
    },
    {
     "name": "stdout",
     "output_type": "stream",
     "text": [
      "\n",
      " Early Stopping / epoch: 349 loss: 0.009615\n",
      "----------------------------------------------------------------------------------------------------------\n",
      "lr: 0.0001  patience: 20  num_layers: 4  batch_size: 64  hidden_size: 8  dropout: 0.5 criterion: <function criterion3 at 0x000001F4A9CA7880>\n"
     ]
    },
    {
     "data": {
      "application/vnd.jupyter.widget-view+json": {
       "model_id": "13b3f9823f0842c7a8e15c03105bd132",
       "version_major": 2,
       "version_minor": 0
      },
      "text/plain": [
       "  0%|          | 0/10000 [00:00<?, ?it/s]"
      ]
     },
     "metadata": {},
     "output_type": "display_data"
    },
    {
     "name": "stdout",
     "output_type": "stream",
     "text": [
      "\n",
      " Early Stopping / epoch: 357 loss: 0.002113\n",
      "----------------------------------------------------------------------------------------------------------\n",
      "lr: 0.0001  patience: 20  num_layers: 4  batch_size: 64  hidden_size: 16  dropout: 0.25 criterion: MSELoss()\n"
     ]
    },
    {
     "data": {
      "application/vnd.jupyter.widget-view+json": {
       "model_id": "7b295bdcf69b47c5a0f3ad3cdd4f3af1",
       "version_major": 2,
       "version_minor": 0
      },
      "text/plain": [
       "  0%|          | 0/10000 [00:00<?, ?it/s]"
      ]
     },
     "metadata": {},
     "output_type": "display_data"
    },
    {
     "name": "stdout",
     "output_type": "stream",
     "text": [
      "\n",
      " Early Stopping / epoch: 483 loss: 0.000334\n",
      "----------------------------------------------------------------------------------------------------------\n",
      "lr: 0.0001  patience: 20  num_layers: 4  batch_size: 64  hidden_size: 16  dropout: 0.25 criterion: <function criterion2 at 0x000001F4A9CA77F0>\n"
     ]
    },
    {
     "data": {
      "application/vnd.jupyter.widget-view+json": {
       "model_id": "8bf77929328545918c65a014d6f4c9b0",
       "version_major": 2,
       "version_minor": 0
      },
      "text/plain": [
       "  0%|          | 0/10000 [00:00<?, ?it/s]"
      ]
     },
     "metadata": {},
     "output_type": "display_data"
    },
    {
     "name": "stdout",
     "output_type": "stream",
     "text": [
      "\n",
      " Early Stopping / epoch: 360 loss: 0.009508\n",
      "----------------------------------------------------------------------------------------------------------\n",
      "lr: 0.0001  patience: 20  num_layers: 4  batch_size: 64  hidden_size: 16  dropout: 0.25 criterion: <function criterion3 at 0x000001F4A9CA7880>\n"
     ]
    },
    {
     "data": {
      "application/vnd.jupyter.widget-view+json": {
       "model_id": "d0ffd50fbf0e4e82a95da0ceb15294b2",
       "version_major": 2,
       "version_minor": 0
      },
      "text/plain": [
       "  0%|          | 0/10000 [00:00<?, ?it/s]"
      ]
     },
     "metadata": {},
     "output_type": "display_data"
    },
    {
     "name": "stdout",
     "output_type": "stream",
     "text": [
      "\n",
      " Early Stopping / epoch: 724 loss: 0.001697\n",
      "----------------------------------------------------------------------------------------------------------\n",
      "lr: 0.0001  patience: 20  num_layers: 4  batch_size: 64  hidden_size: 16  dropout: 0.5 criterion: MSELoss()\n"
     ]
    },
    {
     "data": {
      "application/vnd.jupyter.widget-view+json": {
       "model_id": "fc2a750676e64fcd88d920b52e206fd8",
       "version_major": 2,
       "version_minor": 0
      },
      "text/plain": [
       "  0%|          | 0/10000 [00:00<?, ?it/s]"
      ]
     },
     "metadata": {},
     "output_type": "display_data"
    },
    {
     "name": "stdout",
     "output_type": "stream",
     "text": [
      "\n",
      " Early Stopping / epoch: 423 loss: 0.000474\n",
      "----------------------------------------------------------------------------------------------------------\n",
      "lr: 0.0001  patience: 20  num_layers: 4  batch_size: 64  hidden_size: 16  dropout: 0.5 criterion: <function criterion2 at 0x000001F4A9CA77F0>\n"
     ]
    },
    {
     "data": {
      "application/vnd.jupyter.widget-view+json": {
       "model_id": "94a7a130789c4cd7911f2c92b2db54b0",
       "version_major": 2,
       "version_minor": 0
      },
      "text/plain": [
       "  0%|          | 0/10000 [00:00<?, ?it/s]"
      ]
     },
     "metadata": {},
     "output_type": "display_data"
    },
    {
     "name": "stdout",
     "output_type": "stream",
     "text": [
      "\n",
      " Early Stopping / epoch: 141 loss: 0.009954\n",
      "----------------------------------------------------------------------------------------------------------\n",
      "lr: 0.0001  patience: 20  num_layers: 4  batch_size: 64  hidden_size: 16  dropout: 0.5 criterion: <function criterion3 at 0x000001F4A9CA7880>\n"
     ]
    },
    {
     "data": {
      "application/vnd.jupyter.widget-view+json": {
       "model_id": "ce062fdac6ad408f91bedce730d6ee69",
       "version_major": 2,
       "version_minor": 0
      },
      "text/plain": [
       "  0%|          | 0/10000 [00:00<?, ?it/s]"
      ]
     },
     "metadata": {},
     "output_type": "display_data"
    },
    {
     "name": "stdout",
     "output_type": "stream",
     "text": [
      "\n",
      " Early Stopping / epoch: 164 loss: 0.002092\n",
      "----------------------------------------------------------------------------------------------------------\n",
      "lr: 0.0001  patience: 20  num_layers: 4  batch_size: 64  hidden_size: 32  dropout: 0.25 criterion: MSELoss()\n"
     ]
    },
    {
     "data": {
      "application/vnd.jupyter.widget-view+json": {
       "model_id": "b3dced8afac5420ca03c222e2292f730",
       "version_major": 2,
       "version_minor": 0
      },
      "text/plain": [
       "  0%|          | 0/10000 [00:00<?, ?it/s]"
      ]
     },
     "metadata": {},
     "output_type": "display_data"
    },
    {
     "name": "stdout",
     "output_type": "stream",
     "text": [
      "\n",
      " Early Stopping / epoch: 601 loss: 0.000342\n",
      "----------------------------------------------------------------------------------------------------------\n",
      "lr: 0.0001  patience: 20  num_layers: 4  batch_size: 64  hidden_size: 32  dropout: 0.25 criterion: <function criterion2 at 0x000001F4A9CA77F0>\n"
     ]
    },
    {
     "data": {
      "application/vnd.jupyter.widget-view+json": {
       "model_id": "62df9b60fe79483ba3be4b2bddf81979",
       "version_major": 2,
       "version_minor": 0
      },
      "text/plain": [
       "  0%|          | 0/10000 [00:00<?, ?it/s]"
      ]
     },
     "metadata": {},
     "output_type": "display_data"
    },
    {
     "name": "stdout",
     "output_type": "stream",
     "text": [
      "\n",
      " Early Stopping / epoch: 441 loss: 0.008758\n",
      "----------------------------------------------------------------------------------------------------------\n",
      "lr: 0.0001  patience: 20  num_layers: 4  batch_size: 64  hidden_size: 32  dropout: 0.25 criterion: <function criterion3 at 0x000001F4A9CA7880>\n"
     ]
    },
    {
     "data": {
      "application/vnd.jupyter.widget-view+json": {
       "model_id": "2918df08efe644909300998e1f9d4b5a",
       "version_major": 2,
       "version_minor": 0
      },
      "text/plain": [
       "  0%|          | 0/10000 [00:00<?, ?it/s]"
      ]
     },
     "metadata": {},
     "output_type": "display_data"
    },
    {
     "name": "stdout",
     "output_type": "stream",
     "text": [
      "\n",
      " Early Stopping / epoch: 119 loss: 0.002098\n",
      "----------------------------------------------------------------------------------------------------------\n",
      "lr: 0.0001  patience: 20  num_layers: 4  batch_size: 64  hidden_size: 32  dropout: 0.5 criterion: MSELoss()\n"
     ]
    },
    {
     "data": {
      "application/vnd.jupyter.widget-view+json": {
       "model_id": "13824db53e23473da8f206c3643c115c",
       "version_major": 2,
       "version_minor": 0
      },
      "text/plain": [
       "  0%|          | 0/10000 [00:00<?, ?it/s]"
      ]
     },
     "metadata": {},
     "output_type": "display_data"
    },
    {
     "name": "stdout",
     "output_type": "stream",
     "text": [
      "\n",
      " Early Stopping / epoch: 406 loss: 0.000344\n",
      "----------------------------------------------------------------------------------------------------------\n",
      "lr: 0.0001  patience: 20  num_layers: 4  batch_size: 64  hidden_size: 32  dropout: 0.5 criterion: <function criterion2 at 0x000001F4A9CA77F0>\n"
     ]
    },
    {
     "data": {
      "application/vnd.jupyter.widget-view+json": {
       "model_id": "fb32ed7760f74a37bb15b631751009fc",
       "version_major": 2,
       "version_minor": 0
      },
      "text/plain": [
       "  0%|          | 0/10000 [00:00<?, ?it/s]"
      ]
     },
     "metadata": {},
     "output_type": "display_data"
    },
    {
     "name": "stdout",
     "output_type": "stream",
     "text": [
      "\n",
      " Early Stopping / epoch: 169 loss: 0.009402\n",
      "----------------------------------------------------------------------------------------------------------\n",
      "lr: 0.0001  patience: 20  num_layers: 4  batch_size: 64  hidden_size: 32  dropout: 0.5 criterion: <function criterion3 at 0x000001F4A9CA7880>\n"
     ]
    },
    {
     "data": {
      "application/vnd.jupyter.widget-view+json": {
       "model_id": "a96d37feff4b4b37aad4946f8e2e8a01",
       "version_major": 2,
       "version_minor": 0
      },
      "text/plain": [
       "  0%|          | 0/10000 [00:00<?, ?it/s]"
      ]
     },
     "metadata": {},
     "output_type": "display_data"
    },
    {
     "name": "stdout",
     "output_type": "stream",
     "text": [
      "\n",
      " Early Stopping / epoch: 330 loss: 0.001863\n",
      "----------------------------------------------------------------------------------------------------------\n",
      "lr: 0.0001  patience: 20  num_layers: 4  batch_size: 128  hidden_size: 8  dropout: 0.25 criterion: MSELoss()\n"
     ]
    },
    {
     "data": {
      "application/vnd.jupyter.widget-view+json": {
       "model_id": "b911e600f3ef4e24b96449f1808d09fb",
       "version_major": 2,
       "version_minor": 0
      },
      "text/plain": [
       "  0%|          | 0/10000 [00:00<?, ?it/s]"
      ]
     },
     "metadata": {},
     "output_type": "display_data"
    },
    {
     "name": "stdout",
     "output_type": "stream",
     "text": [
      "\n",
      " Early Stopping / epoch: 290 loss: 0.001040\n",
      "----------------------------------------------------------------------------------------------------------\n",
      "lr: 0.0001  patience: 20  num_layers: 4  batch_size: 128  hidden_size: 8  dropout: 0.25 criterion: <function criterion2 at 0x000001F4A9CA77F0>\n"
     ]
    },
    {
     "data": {
      "application/vnd.jupyter.widget-view+json": {
       "model_id": "85c49474528e43599228fb7a42fe0ada",
       "version_major": 2,
       "version_minor": 0
      },
      "text/plain": [
       "  0%|          | 0/10000 [00:00<?, ?it/s]"
      ]
     },
     "metadata": {},
     "output_type": "display_data"
    },
    {
     "name": "stdout",
     "output_type": "stream",
     "text": [
      "\n",
      " Early Stopping / epoch: 323 loss: 0.011416\n",
      "----------------------------------------------------------------------------------------------------------\n",
      "lr: 0.0001  patience: 20  num_layers: 4  batch_size: 128  hidden_size: 8  dropout: 0.25 criterion: <function criterion3 at 0x000001F4A9CA7880>\n"
     ]
    },
    {
     "data": {
      "application/vnd.jupyter.widget-view+json": {
       "model_id": "933ad75b27c04614b6145435edd641ec",
       "version_major": 2,
       "version_minor": 0
      },
      "text/plain": [
       "  0%|          | 0/10000 [00:00<?, ?it/s]"
      ]
     },
     "metadata": {},
     "output_type": "display_data"
    },
    {
     "name": "stdout",
     "output_type": "stream",
     "text": [
      "\n",
      " Early Stopping / epoch: 327 loss: 0.001745\n",
      "----------------------------------------------------------------------------------------------------------\n",
      "lr: 0.0001  patience: 20  num_layers: 4  batch_size: 128  hidden_size: 8  dropout: 0.5 criterion: MSELoss()\n"
     ]
    },
    {
     "data": {
      "application/vnd.jupyter.widget-view+json": {
       "model_id": "fd6efd908cfe405983dc297ef0384603",
       "version_major": 2,
       "version_minor": 0
      },
      "text/plain": [
       "  0%|          | 0/10000 [00:00<?, ?it/s]"
      ]
     },
     "metadata": {},
     "output_type": "display_data"
    },
    {
     "name": "stdout",
     "output_type": "stream",
     "text": [
      "\n",
      " Early Stopping / epoch: 154 loss: 0.001101\n",
      "----------------------------------------------------------------------------------------------------------\n",
      "lr: 0.0001  patience: 20  num_layers: 4  batch_size: 128  hidden_size: 8  dropout: 0.5 criterion: <function criterion2 at 0x000001F4A9CA77F0>\n"
     ]
    },
    {
     "data": {
      "application/vnd.jupyter.widget-view+json": {
       "model_id": "631bf5da19024dd889bcb80415823ca9",
       "version_major": 2,
       "version_minor": 0
      },
      "text/plain": [
       "  0%|          | 0/10000 [00:00<?, ?it/s]"
      ]
     },
     "metadata": {},
     "output_type": "display_data"
    },
    {
     "name": "stdout",
     "output_type": "stream",
     "text": [
      "\n",
      " Early Stopping / epoch: 220 loss: 0.011324\n",
      "----------------------------------------------------------------------------------------------------------\n",
      "lr: 0.0001  patience: 20  num_layers: 4  batch_size: 128  hidden_size: 8  dropout: 0.5 criterion: <function criterion3 at 0x000001F4A9CA7880>\n"
     ]
    },
    {
     "data": {
      "application/vnd.jupyter.widget-view+json": {
       "model_id": "e12481df5a7248fba7351e3f7111c6aa",
       "version_major": 2,
       "version_minor": 0
      },
      "text/plain": [
       "  0%|          | 0/10000 [00:00<?, ?it/s]"
      ]
     },
     "metadata": {},
     "output_type": "display_data"
    },
    {
     "name": "stdout",
     "output_type": "stream",
     "text": [
      "\n",
      " Early Stopping / epoch: 319 loss: 0.001745\n",
      "----------------------------------------------------------------------------------------------------------\n",
      "lr: 0.0001  patience: 20  num_layers: 4  batch_size: 128  hidden_size: 16  dropout: 0.25 criterion: MSELoss()\n"
     ]
    },
    {
     "data": {
      "application/vnd.jupyter.widget-view+json": {
       "model_id": "6c566260866a484aab04d865fa7dd477",
       "version_major": 2,
       "version_minor": 0
      },
      "text/plain": [
       "  0%|          | 0/10000 [00:00<?, ?it/s]"
      ]
     },
     "metadata": {},
     "output_type": "display_data"
    },
    {
     "name": "stdout",
     "output_type": "stream",
     "text": [
      "\n",
      " Early Stopping / epoch: 114 loss: 0.000829\n",
      "----------------------------------------------------------------------------------------------------------\n",
      "lr: 0.0001  patience: 20  num_layers: 4  batch_size: 128  hidden_size: 16  dropout: 0.25 criterion: <function criterion2 at 0x000001F4A9CA77F0>\n"
     ]
    },
    {
     "data": {
      "application/vnd.jupyter.widget-view+json": {
       "model_id": "e19a577e2c7b44aaa973fd00e0028d1f",
       "version_major": 2,
       "version_minor": 0
      },
      "text/plain": [
       "  0%|          | 0/10000 [00:00<?, ?it/s]"
      ]
     },
     "metadata": {},
     "output_type": "display_data"
    },
    {
     "name": "stdout",
     "output_type": "stream",
     "text": [
      "\n",
      " Early Stopping / epoch: 299 loss: 0.009351\n",
      "----------------------------------------------------------------------------------------------------------\n",
      "lr: 0.0001  patience: 20  num_layers: 4  batch_size: 128  hidden_size: 16  dropout: 0.25 criterion: <function criterion3 at 0x000001F4A9CA7880>\n"
     ]
    },
    {
     "data": {
      "application/vnd.jupyter.widget-view+json": {
       "model_id": "ef057641d94b4bf5a91e353db3ee5e29",
       "version_major": 2,
       "version_minor": 0
      },
      "text/plain": [
       "  0%|          | 0/10000 [00:00<?, ?it/s]"
      ]
     },
     "metadata": {},
     "output_type": "display_data"
    },
    {
     "name": "stdout",
     "output_type": "stream",
     "text": [
      "\n",
      " Early Stopping / epoch: 256 loss: 0.001683\n",
      "----------------------------------------------------------------------------------------------------------\n",
      "lr: 0.0001  patience: 20  num_layers: 4  batch_size: 128  hidden_size: 16  dropout: 0.5 criterion: MSELoss()\n"
     ]
    },
    {
     "data": {
      "application/vnd.jupyter.widget-view+json": {
       "model_id": "489b592fa0a14198ab6d12d1c35a121e",
       "version_major": 2,
       "version_minor": 0
      },
      "text/plain": [
       "  0%|          | 0/10000 [00:00<?, ?it/s]"
      ]
     },
     "metadata": {},
     "output_type": "display_data"
    },
    {
     "name": "stdout",
     "output_type": "stream",
     "text": [
      "\n",
      " Early Stopping / epoch: 121 loss: 0.000668\n",
      "----------------------------------------------------------------------------------------------------------\n",
      "lr: 0.0001  patience: 20  num_layers: 4  batch_size: 128  hidden_size: 16  dropout: 0.5 criterion: <function criterion2 at 0x000001F4A9CA77F0>\n"
     ]
    },
    {
     "data": {
      "application/vnd.jupyter.widget-view+json": {
       "model_id": "20c43cb0266b455bb271d4ac14d6c899",
       "version_major": 2,
       "version_minor": 0
      },
      "text/plain": [
       "  0%|          | 0/10000 [00:00<?, ?it/s]"
      ]
     },
     "metadata": {},
     "output_type": "display_data"
    },
    {
     "name": "stdout",
     "output_type": "stream",
     "text": [
      "\n",
      " Early Stopping / epoch: 335 loss: 0.009724\n",
      "----------------------------------------------------------------------------------------------------------\n",
      "lr: 0.0001  patience: 20  num_layers: 4  batch_size: 128  hidden_size: 16  dropout: 0.5 criterion: <function criterion3 at 0x000001F4A9CA7880>\n"
     ]
    },
    {
     "data": {
      "application/vnd.jupyter.widget-view+json": {
       "model_id": "fb7a81f55d8e49f49facfbe6f9da7333",
       "version_major": 2,
       "version_minor": 0
      },
      "text/plain": [
       "  0%|          | 0/10000 [00:00<?, ?it/s]"
      ]
     },
     "metadata": {},
     "output_type": "display_data"
    },
    {
     "name": "stdout",
     "output_type": "stream",
     "text": [
      "\n",
      " Early Stopping / epoch: 352 loss: 0.001670\n",
      "----------------------------------------------------------------------------------------------------------\n",
      "lr: 0.0001  patience: 20  num_layers: 4  batch_size: 128  hidden_size: 32  dropout: 0.25 criterion: MSELoss()\n"
     ]
    },
    {
     "data": {
      "application/vnd.jupyter.widget-view+json": {
       "model_id": "e098af4ad7e747729c93a4d0fdd69edd",
       "version_major": 2,
       "version_minor": 0
      },
      "text/plain": [
       "  0%|          | 0/10000 [00:00<?, ?it/s]"
      ]
     },
     "metadata": {},
     "output_type": "display_data"
    },
    {
     "name": "stdout",
     "output_type": "stream",
     "text": [
      "\n",
      " Early Stopping / epoch: 110 loss: 0.000681\n",
      "----------------------------------------------------------------------------------------------------------\n",
      "lr: 0.0001  patience: 20  num_layers: 4  batch_size: 128  hidden_size: 32  dropout: 0.25 criterion: <function criterion2 at 0x000001F4A9CA77F0>\n"
     ]
    },
    {
     "data": {
      "application/vnd.jupyter.widget-view+json": {
       "model_id": "cf65f6613b2443d188442c903dc658a8",
       "version_major": 2,
       "version_minor": 0
      },
      "text/plain": [
       "  0%|          | 0/10000 [00:00<?, ?it/s]"
      ]
     },
     "metadata": {},
     "output_type": "display_data"
    },
    {
     "name": "stdout",
     "output_type": "stream",
     "text": [
      "\n",
      " Early Stopping / epoch: 268 loss: 0.009191\n",
      "----------------------------------------------------------------------------------------------------------\n",
      "lr: 0.0001  patience: 20  num_layers: 4  batch_size: 128  hidden_size: 32  dropout: 0.25 criterion: <function criterion3 at 0x000001F4A9CA7880>\n"
     ]
    },
    {
     "data": {
      "application/vnd.jupyter.widget-view+json": {
       "model_id": "090f623fb07841a5a87245a97fbbbe41",
       "version_major": 2,
       "version_minor": 0
      },
      "text/plain": [
       "  0%|          | 0/10000 [00:00<?, ?it/s]"
      ]
     },
     "metadata": {},
     "output_type": "display_data"
    },
    {
     "name": "stdout",
     "output_type": "stream",
     "text": [
      "\n",
      " Early Stopping / epoch: 220 loss: 0.001659\n",
      "----------------------------------------------------------------------------------------------------------\n",
      "lr: 0.0001  patience: 20  num_layers: 4  batch_size: 128  hidden_size: 32  dropout: 0.5 criterion: MSELoss()\n"
     ]
    },
    {
     "data": {
      "application/vnd.jupyter.widget-view+json": {
       "model_id": "9624355785a847b59ad824624e95e955",
       "version_major": 2,
       "version_minor": 0
      },
      "text/plain": [
       "  0%|          | 0/10000 [00:00<?, ?it/s]"
      ]
     },
     "metadata": {},
     "output_type": "display_data"
    },
    {
     "name": "stdout",
     "output_type": "stream",
     "text": [
      "\n",
      " Early Stopping / epoch: 151 loss: 0.000728\n",
      "----------------------------------------------------------------------------------------------------------\n",
      "lr: 0.0001  patience: 20  num_layers: 4  batch_size: 128  hidden_size: 32  dropout: 0.5 criterion: <function criterion2 at 0x000001F4A9CA77F0>\n"
     ]
    },
    {
     "data": {
      "application/vnd.jupyter.widget-view+json": {
       "model_id": "6cc78875fce74c128057a2a687fc07bc",
       "version_major": 2,
       "version_minor": 0
      },
      "text/plain": [
       "  0%|          | 0/10000 [00:00<?, ?it/s]"
      ]
     },
     "metadata": {},
     "output_type": "display_data"
    },
    {
     "name": "stdout",
     "output_type": "stream",
     "text": [
      "\n",
      " Early Stopping / epoch: 351 loss: 0.009187\n",
      "----------------------------------------------------------------------------------------------------------\n",
      "lr: 0.0001  patience: 20  num_layers: 4  batch_size: 128  hidden_size: 32  dropout: 0.5 criterion: <function criterion3 at 0x000001F4A9CA7880>\n"
     ]
    },
    {
     "data": {
      "application/vnd.jupyter.widget-view+json": {
       "model_id": "4fe7ba989e4445939aeb6d97f046ec75",
       "version_major": 2,
       "version_minor": 0
      },
      "text/plain": [
       "  0%|          | 0/10000 [00:00<?, ?it/s]"
      ]
     },
     "metadata": {},
     "output_type": "display_data"
    },
    {
     "name": "stdout",
     "output_type": "stream",
     "text": [
      "\n",
      " Early Stopping / epoch: 188 loss: 0.001706\n",
      "----------------------------------------------------------------------------------------------------------\n",
      "lr: 0.0001  patience: 50  num_layers: 1  batch_size: 32  hidden_size: 8  dropout: 0.25 criterion: MSELoss()\n"
     ]
    },
    {
     "data": {
      "application/vnd.jupyter.widget-view+json": {
       "model_id": "59015bc2b4a0446f870823c04f262030",
       "version_major": 2,
       "version_minor": 0
      },
      "text/plain": [
       "  0%|          | 0/10000 [00:00<?, ?it/s]"
      ]
     },
     "metadata": {},
     "output_type": "display_data"
    },
    {
     "name": "stdout",
     "output_type": "stream",
     "text": [
      "\n",
      " Early Stopping / epoch: 1521 loss: 0.000449\n",
      "----------------------------------------------------------------------------------------------------------\n",
      "lr: 0.0001  patience: 50  num_layers: 1  batch_size: 32  hidden_size: 8  dropout: 0.25 criterion: <function criterion2 at 0x000001F4A9CA77F0>\n"
     ]
    },
    {
     "data": {
      "application/vnd.jupyter.widget-view+json": {
       "model_id": "60047d1c4caf43389cd872fdc991864a",
       "version_major": 2,
       "version_minor": 0
      },
      "text/plain": [
       "  0%|          | 0/10000 [00:00<?, ?it/s]"
      ]
     },
     "metadata": {},
     "output_type": "display_data"
    },
    {
     "name": "stdout",
     "output_type": "stream",
     "text": [
      "\n",
      " Early Stopping / epoch: 573 loss: 0.008784\n",
      "----------------------------------------------------------------------------------------------------------\n",
      "lr: 0.0001  patience: 50  num_layers: 1  batch_size: 32  hidden_size: 8  dropout: 0.25 criterion: <function criterion3 at 0x000001F4A9CA7880>\n"
     ]
    },
    {
     "data": {
      "application/vnd.jupyter.widget-view+json": {
       "model_id": "b1841ef0c99744f9a2897d58341d4f97",
       "version_major": 2,
       "version_minor": 0
      },
      "text/plain": [
       "  0%|          | 0/10000 [00:00<?, ?it/s]"
      ]
     },
     "metadata": {},
     "output_type": "display_data"
    },
    {
     "name": "stdout",
     "output_type": "stream",
     "text": [
      "\n",
      " Early Stopping / epoch: 373 loss: 0.002485\n",
      "----------------------------------------------------------------------------------------------------------\n",
      "lr: 0.0001  patience: 50  num_layers: 1  batch_size: 32  hidden_size: 8  dropout: 0.5 criterion: MSELoss()\n"
     ]
    },
    {
     "data": {
      "application/vnd.jupyter.widget-view+json": {
       "model_id": "04c18760e3ae461fb94ae87944dee9dd",
       "version_major": 2,
       "version_minor": 0
      },
      "text/plain": [
       "  0%|          | 0/10000 [00:00<?, ?it/s]"
      ]
     },
     "metadata": {},
     "output_type": "display_data"
    },
    {
     "name": "stdout",
     "output_type": "stream",
     "text": [
      "\n",
      " Early Stopping / epoch: 1257 loss: 0.000435\n",
      "----------------------------------------------------------------------------------------------------------\n",
      "lr: 0.0001  patience: 50  num_layers: 1  batch_size: 32  hidden_size: 8  dropout: 0.5 criterion: <function criterion2 at 0x000001F4A9CA77F0>\n"
     ]
    },
    {
     "data": {
      "application/vnd.jupyter.widget-view+json": {
       "model_id": "02f3c0dd04c84a468351ab01d2876907",
       "version_major": 2,
       "version_minor": 0
      },
      "text/plain": [
       "  0%|          | 0/10000 [00:00<?, ?it/s]"
      ]
     },
     "metadata": {},
     "output_type": "display_data"
    },
    {
     "name": "stdout",
     "output_type": "stream",
     "text": [
      "\n",
      " Early Stopping / epoch: 711 loss: 0.008810\n",
      "----------------------------------------------------------------------------------------------------------\n",
      "lr: 0.0001  patience: 50  num_layers: 1  batch_size: 32  hidden_size: 8  dropout: 0.5 criterion: <function criterion3 at 0x000001F4A9CA7880>\n"
     ]
    },
    {
     "data": {
      "application/vnd.jupyter.widget-view+json": {
       "model_id": "a3e5cb594ed34121b9c0ec6b7366da33",
       "version_major": 2,
       "version_minor": 0
      },
      "text/plain": [
       "  0%|          | 0/10000 [00:00<?, ?it/s]"
      ]
     },
     "metadata": {},
     "output_type": "display_data"
    },
    {
     "name": "stdout",
     "output_type": "stream",
     "text": [
      "\n",
      " Early Stopping / epoch: 515 loss: 0.002452\n",
      "----------------------------------------------------------------------------------------------------------\n",
      "lr: 0.0001  patience: 50  num_layers: 1  batch_size: 32  hidden_size: 16  dropout: 0.25 criterion: MSELoss()\n"
     ]
    },
    {
     "data": {
      "application/vnd.jupyter.widget-view+json": {
       "model_id": "53ab5a2f191c4011a105154ed0d6037b",
       "version_major": 2,
       "version_minor": 0
      },
      "text/plain": [
       "  0%|          | 0/10000 [00:00<?, ?it/s]"
      ]
     },
     "metadata": {},
     "output_type": "display_data"
    },
    {
     "name": "stdout",
     "output_type": "stream",
     "text": [
      "\n",
      " Early Stopping / epoch: 1926 loss: 0.000155\n",
      "----------------------------------------------------------------------------------------------------------\n",
      "lr: 0.0001  patience: 50  num_layers: 1  batch_size: 32  hidden_size: 16  dropout: 0.25 criterion: <function criterion2 at 0x000001F4A9CA77F0>\n"
     ]
    },
    {
     "data": {
      "application/vnd.jupyter.widget-view+json": {
       "model_id": "de1d75e7758c4210b51e8d52ea32f570",
       "version_major": 2,
       "version_minor": 0
      },
      "text/plain": [
       "  0%|          | 0/10000 [00:00<?, ?it/s]"
      ]
     },
     "metadata": {},
     "output_type": "display_data"
    },
    {
     "name": "stdout",
     "output_type": "stream",
     "text": [
      "\n",
      " Early Stopping / epoch: 566 loss: 0.008490\n",
      "----------------------------------------------------------------------------------------------------------\n",
      "lr: 0.0001  patience: 50  num_layers: 1  batch_size: 32  hidden_size: 16  dropout: 0.25 criterion: <function criterion3 at 0x000001F4A9CA7880>\n"
     ]
    },
    {
     "data": {
      "application/vnd.jupyter.widget-view+json": {
       "model_id": "7f4932f7f3f14e389ab34d801f0bb01f",
       "version_major": 2,
       "version_minor": 0
      },
      "text/plain": [
       "  0%|          | 0/10000 [00:00<?, ?it/s]"
      ]
     },
     "metadata": {},
     "output_type": "display_data"
    },
    {
     "name": "stdout",
     "output_type": "stream",
     "text": [
      "\n",
      " Early Stopping / epoch: 507 loss: 0.002342\n",
      "----------------------------------------------------------------------------------------------------------\n",
      "lr: 0.0001  patience: 50  num_layers: 1  batch_size: 32  hidden_size: 16  dropout: 0.5 criterion: MSELoss()\n"
     ]
    },
    {
     "data": {
      "application/vnd.jupyter.widget-view+json": {
       "model_id": "8c7ae9544e0743249d4ee397504a9bf5",
       "version_major": 2,
       "version_minor": 0
      },
      "text/plain": [
       "  0%|          | 0/10000 [00:00<?, ?it/s]"
      ]
     },
     "metadata": {},
     "output_type": "display_data"
    },
    {
     "name": "stdout",
     "output_type": "stream",
     "text": [
      "\n",
      " Early Stopping / epoch: 2428 loss: 0.000125\n",
      "----------------------------------------------------------------------------------------------------------\n",
      "lr: 0.0001  patience: 50  num_layers: 1  batch_size: 32  hidden_size: 16  dropout: 0.5 criterion: <function criterion2 at 0x000001F4A9CA77F0>\n"
     ]
    },
    {
     "data": {
      "application/vnd.jupyter.widget-view+json": {
       "model_id": "54b36184003941f0b62791a5a9ef7704",
       "version_major": 2,
       "version_minor": 0
      },
      "text/plain": [
       "  0%|          | 0/10000 [00:00<?, ?it/s]"
      ]
     },
     "metadata": {},
     "output_type": "display_data"
    },
    {
     "name": "stdout",
     "output_type": "stream",
     "text": [
      "\n",
      " Early Stopping / epoch: 709 loss: 0.008188\n",
      "----------------------------------------------------------------------------------------------------------\n",
      "lr: 0.0001  patience: 50  num_layers: 1  batch_size: 32  hidden_size: 16  dropout: 0.5 criterion: <function criterion3 at 0x000001F4A9CA7880>\n"
     ]
    },
    {
     "data": {
      "application/vnd.jupyter.widget-view+json": {
       "model_id": "a654c09030864d1199fcf6954a665ba0",
       "version_major": 2,
       "version_minor": 0
      },
      "text/plain": [
       "  0%|          | 0/10000 [00:00<?, ?it/s]"
      ]
     },
     "metadata": {},
     "output_type": "display_data"
    },
    {
     "name": "stdout",
     "output_type": "stream",
     "text": [
      "\n",
      " Early Stopping / epoch: 690 loss: 0.002375\n",
      "----------------------------------------------------------------------------------------------------------\n",
      "lr: 0.0001  patience: 50  num_layers: 1  batch_size: 32  hidden_size: 32  dropout: 0.25 criterion: MSELoss()\n"
     ]
    },
    {
     "data": {
      "application/vnd.jupyter.widget-view+json": {
       "model_id": "d22c5e876ace4b37bd5208fcc3c69ee5",
       "version_major": 2,
       "version_minor": 0
      },
      "text/plain": [
       "  0%|          | 0/10000 [00:00<?, ?it/s]"
      ]
     },
     "metadata": {},
     "output_type": "display_data"
    },
    {
     "name": "stdout",
     "output_type": "stream",
     "text": [
      "\n",
      " Early Stopping / epoch: 1284 loss: 0.000147\n",
      "----------------------------------------------------------------------------------------------------------\n",
      "lr: 0.0001  patience: 50  num_layers: 1  batch_size: 32  hidden_size: 32  dropout: 0.25 criterion: <function criterion2 at 0x000001F4A9CA77F0>\n"
     ]
    },
    {
     "data": {
      "application/vnd.jupyter.widget-view+json": {
       "model_id": "36b8d0b5994a47d5b6b81e279aba1c72",
       "version_major": 2,
       "version_minor": 0
      },
      "text/plain": [
       "  0%|          | 0/10000 [00:00<?, ?it/s]"
      ]
     },
     "metadata": {},
     "output_type": "display_data"
    },
    {
     "name": "stdout",
     "output_type": "stream",
     "text": [
      "\n",
      " Early Stopping / epoch: 509 loss: 0.008251\n",
      "----------------------------------------------------------------------------------------------------------\n",
      "lr: 0.0001  patience: 50  num_layers: 1  batch_size: 32  hidden_size: 32  dropout: 0.25 criterion: <function criterion3 at 0x000001F4A9CA7880>\n"
     ]
    },
    {
     "data": {
      "application/vnd.jupyter.widget-view+json": {
       "model_id": "37433ba4d76145409a28b2575ea63d7a",
       "version_major": 2,
       "version_minor": 0
      },
      "text/plain": [
       "  0%|          | 0/10000 [00:00<?, ?it/s]"
      ]
     },
     "metadata": {},
     "output_type": "display_data"
    },
    {
     "name": "stdout",
     "output_type": "stream",
     "text": [
      "\n",
      " Early Stopping / epoch: 1284 loss: 0.001895\n",
      "----------------------------------------------------------------------------------------------------------\n",
      "lr: 0.0001  patience: 50  num_layers: 1  batch_size: 32  hidden_size: 32  dropout: 0.5 criterion: MSELoss()\n"
     ]
    },
    {
     "data": {
      "application/vnd.jupyter.widget-view+json": {
       "model_id": "e41334431a9048bcb4f70f76908a281f",
       "version_major": 2,
       "version_minor": 0
      },
      "text/plain": [
       "  0%|          | 0/10000 [00:00<?, ?it/s]"
      ]
     },
     "metadata": {},
     "output_type": "display_data"
    },
    {
     "name": "stdout",
     "output_type": "stream",
     "text": [
      "\n",
      " Early Stopping / epoch: 1792 loss: 0.000108\n",
      "----------------------------------------------------------------------------------------------------------\n",
      "lr: 0.0001  patience: 50  num_layers: 1  batch_size: 32  hidden_size: 32  dropout: 0.5 criterion: <function criterion2 at 0x000001F4A9CA77F0>\n"
     ]
    },
    {
     "data": {
      "application/vnd.jupyter.widget-view+json": {
       "model_id": "a98750eb97bd40fbbe73d1b2fec13fdc",
       "version_major": 2,
       "version_minor": 0
      },
      "text/plain": [
       "  0%|          | 0/10000 [00:00<?, ?it/s]"
      ]
     },
     "metadata": {},
     "output_type": "display_data"
    },
    {
     "name": "stdout",
     "output_type": "stream",
     "text": [
      "\n",
      " Early Stopping / epoch: 472 loss: 0.008306\n",
      "----------------------------------------------------------------------------------------------------------\n",
      "lr: 0.0001  patience: 50  num_layers: 1  batch_size: 32  hidden_size: 32  dropout: 0.5 criterion: <function criterion3 at 0x000001F4A9CA7880>\n"
     ]
    },
    {
     "data": {
      "application/vnd.jupyter.widget-view+json": {
       "model_id": "720dab98f9ba4b88861e41d329ace064",
       "version_major": 2,
       "version_minor": 0
      },
      "text/plain": [
       "  0%|          | 0/10000 [00:00<?, ?it/s]"
      ]
     },
     "metadata": {},
     "output_type": "display_data"
    },
    {
     "name": "stdout",
     "output_type": "stream",
     "text": [
      "\n",
      " Early Stopping / epoch: 618 loss: 0.002114\n",
      "----------------------------------------------------------------------------------------------------------\n",
      "lr: 0.0001  patience: 50  num_layers: 1  batch_size: 64  hidden_size: 8  dropout: 0.25 criterion: MSELoss()\n"
     ]
    },
    {
     "data": {
      "application/vnd.jupyter.widget-view+json": {
       "model_id": "260895bdd7e7437f88c7dffa69e74904",
       "version_major": 2,
       "version_minor": 0
      },
      "text/plain": [
       "  0%|          | 0/10000 [00:00<?, ?it/s]"
      ]
     },
     "metadata": {},
     "output_type": "display_data"
    },
    {
     "name": "stdout",
     "output_type": "stream",
     "text": [
      "\n",
      " Early Stopping / epoch: 1353 loss: 0.000546\n",
      "----------------------------------------------------------------------------------------------------------\n",
      "lr: 0.0001  patience: 50  num_layers: 1  batch_size: 64  hidden_size: 8  dropout: 0.25 criterion: <function criterion2 at 0x000001F4A9CA77F0>\n"
     ]
    },
    {
     "data": {
      "application/vnd.jupyter.widget-view+json": {
       "model_id": "8b07763280e749d18b2743f388ce96a9",
       "version_major": 2,
       "version_minor": 0
      },
      "text/plain": [
       "  0%|          | 0/10000 [00:00<?, ?it/s]"
      ]
     },
     "metadata": {},
     "output_type": "display_data"
    },
    {
     "name": "stdout",
     "output_type": "stream",
     "text": [
      "\n",
      " Early Stopping / epoch: 723 loss: 0.008653\n",
      "----------------------------------------------------------------------------------------------------------\n",
      "lr: 0.0001  patience: 50  num_layers: 1  batch_size: 64  hidden_size: 8  dropout: 0.25 criterion: <function criterion3 at 0x000001F4A9CA7880>\n"
     ]
    },
    {
     "data": {
      "application/vnd.jupyter.widget-view+json": {
       "model_id": "8fa3e2656da040f1a8ce609e2f670f76",
       "version_major": 2,
       "version_minor": 0
      },
      "text/plain": [
       "  0%|          | 0/10000 [00:00<?, ?it/s]"
      ]
     },
     "metadata": {},
     "output_type": "display_data"
    },
    {
     "name": "stdout",
     "output_type": "stream",
     "text": [
      "\n",
      " Early Stopping / epoch: 640 loss: 0.001950\n",
      "----------------------------------------------------------------------------------------------------------\n",
      "lr: 0.0001  patience: 50  num_layers: 1  batch_size: 64  hidden_size: 8  dropout: 0.5 criterion: MSELoss()\n"
     ]
    },
    {
     "data": {
      "application/vnd.jupyter.widget-view+json": {
       "model_id": "2ad1a96cb8d141eeaaa87bcb7777de9b",
       "version_major": 2,
       "version_minor": 0
      },
      "text/plain": [
       "  0%|          | 0/10000 [00:00<?, ?it/s]"
      ]
     },
     "metadata": {},
     "output_type": "display_data"
    },
    {
     "name": "stdout",
     "output_type": "stream",
     "text": [
      "\n",
      " Early Stopping / epoch: 1427 loss: 0.000490\n",
      "----------------------------------------------------------------------------------------------------------\n",
      "lr: 0.0001  patience: 50  num_layers: 1  batch_size: 64  hidden_size: 8  dropout: 0.5 criterion: <function criterion2 at 0x000001F4A9CA77F0>\n"
     ]
    },
    {
     "data": {
      "application/vnd.jupyter.widget-view+json": {
       "model_id": "5ca8ef2c66a941068dc25f07a7de3fc0",
       "version_major": 2,
       "version_minor": 0
      },
      "text/plain": [
       "  0%|          | 0/10000 [00:00<?, ?it/s]"
      ]
     },
     "metadata": {},
     "output_type": "display_data"
    },
    {
     "name": "stdout",
     "output_type": "stream",
     "text": [
      "\n",
      " Early Stopping / epoch: 700 loss: 0.009025\n",
      "----------------------------------------------------------------------------------------------------------\n",
      "lr: 0.0001  patience: 50  num_layers: 1  batch_size: 64  hidden_size: 8  dropout: 0.5 criterion: <function criterion3 at 0x000001F4A9CA7880>\n"
     ]
    },
    {
     "data": {
      "application/vnd.jupyter.widget-view+json": {
       "model_id": "5e7ebc2f144c4b5daf2ba050cd70f1f1",
       "version_major": 2,
       "version_minor": 0
      },
      "text/plain": [
       "  0%|          | 0/10000 [00:00<?, ?it/s]"
      ]
     },
     "metadata": {},
     "output_type": "display_data"
    },
    {
     "name": "stdout",
     "output_type": "stream",
     "text": [
      "\n",
      " Early Stopping / epoch: 1720 loss: 0.001680\n",
      "----------------------------------------------------------------------------------------------------------\n",
      "lr: 0.0001  patience: 50  num_layers: 1  batch_size: 64  hidden_size: 16  dropout: 0.25 criterion: MSELoss()\n"
     ]
    },
    {
     "data": {
      "application/vnd.jupyter.widget-view+json": {
       "model_id": "84015e9a31ab4936981f65f5dc166bbf",
       "version_major": 2,
       "version_minor": 0
      },
      "text/plain": [
       "  0%|          | 0/10000 [00:00<?, ?it/s]"
      ]
     },
     "metadata": {},
     "output_type": "display_data"
    },
    {
     "name": "stdout",
     "output_type": "stream",
     "text": [
      "\n",
      " Early Stopping / epoch: 802 loss: 0.000558\n",
      "----------------------------------------------------------------------------------------------------------\n",
      "lr: 0.0001  patience: 50  num_layers: 1  batch_size: 64  hidden_size: 16  dropout: 0.25 criterion: <function criterion2 at 0x000001F4A9CA77F0>\n"
     ]
    },
    {
     "data": {
      "application/vnd.jupyter.widget-view+json": {
       "model_id": "c1c14b9ddcbc46e9a2638f5669b56c99",
       "version_major": 2,
       "version_minor": 0
      },
      "text/plain": [
       "  0%|          | 0/10000 [00:00<?, ?it/s]"
      ]
     },
     "metadata": {},
     "output_type": "display_data"
    },
    {
     "name": "stdout",
     "output_type": "stream",
     "text": [
      "\n",
      " Early Stopping / epoch: 701 loss: 0.008342\n",
      "----------------------------------------------------------------------------------------------------------\n",
      "lr: 0.0001  patience: 50  num_layers: 1  batch_size: 64  hidden_size: 16  dropout: 0.25 criterion: <function criterion3 at 0x000001F4A9CA7880>\n"
     ]
    },
    {
     "data": {
      "application/vnd.jupyter.widget-view+json": {
       "model_id": "a40c8f83bb03488b9e698ae6ab9ec670",
       "version_major": 2,
       "version_minor": 0
      },
      "text/plain": [
       "  0%|          | 0/10000 [00:00<?, ?it/s]"
      ]
     },
     "metadata": {},
     "output_type": "display_data"
    },
    {
     "name": "stdout",
     "output_type": "stream",
     "text": [
      "\n",
      " Early Stopping / epoch: 820 loss: 0.001853\n",
      "----------------------------------------------------------------------------------------------------------\n",
      "lr: 0.0001  patience: 50  num_layers: 1  batch_size: 64  hidden_size: 16  dropout: 0.5 criterion: MSELoss()\n"
     ]
    },
    {
     "data": {
      "application/vnd.jupyter.widget-view+json": {
       "model_id": "04b4152185c34a3eb3eda26aece2e8dc",
       "version_major": 2,
       "version_minor": 0
      },
      "text/plain": [
       "  0%|          | 0/10000 [00:00<?, ?it/s]"
      ]
     },
     "metadata": {},
     "output_type": "display_data"
    },
    {
     "name": "stdout",
     "output_type": "stream",
     "text": [
      "\n",
      " Early Stopping / epoch: 1148 loss: 0.000519\n",
      "----------------------------------------------------------------------------------------------------------\n",
      "lr: 0.0001  patience: 50  num_layers: 1  batch_size: 64  hidden_size: 16  dropout: 0.5 criterion: <function criterion2 at 0x000001F4A9CA77F0>\n"
     ]
    },
    {
     "data": {
      "application/vnd.jupyter.widget-view+json": {
       "model_id": "0edf46998b3e414aae43c5c83f27ca5d",
       "version_major": 2,
       "version_minor": 0
      },
      "text/plain": [
       "  0%|          | 0/10000 [00:00<?, ?it/s]"
      ]
     },
     "metadata": {},
     "output_type": "display_data"
    },
    {
     "name": "stdout",
     "output_type": "stream",
     "text": [
      "\n",
      " Early Stopping / epoch: 690 loss: 0.008305\n",
      "----------------------------------------------------------------------------------------------------------\n",
      "lr: 0.0001  patience: 50  num_layers: 1  batch_size: 64  hidden_size: 16  dropout: 0.5 criterion: <function criterion3 at 0x000001F4A9CA7880>\n"
     ]
    },
    {
     "data": {
      "application/vnd.jupyter.widget-view+json": {
       "model_id": "ca3490e69faf4e86b06f57db1c8022ce",
       "version_major": 2,
       "version_minor": 0
      },
      "text/plain": [
       "  0%|          | 0/10000 [00:00<?, ?it/s]"
      ]
     },
     "metadata": {},
     "output_type": "display_data"
    },
    {
     "name": "stdout",
     "output_type": "stream",
     "text": [
      "\n",
      " Early Stopping / epoch: 740 loss: 0.001897\n",
      "----------------------------------------------------------------------------------------------------------\n",
      "lr: 0.0001  patience: 50  num_layers: 1  batch_size: 64  hidden_size: 32  dropout: 0.25 criterion: MSELoss()\n"
     ]
    },
    {
     "data": {
      "application/vnd.jupyter.widget-view+json": {
       "model_id": "30ea382a0242493798430ce2612266d6",
       "version_major": 2,
       "version_minor": 0
      },
      "text/plain": [
       "  0%|          | 0/10000 [00:00<?, ?it/s]"
      ]
     },
     "metadata": {},
     "output_type": "display_data"
    },
    {
     "name": "stdout",
     "output_type": "stream",
     "text": [
      "\n",
      " Early Stopping / epoch: 2749 loss: 0.000098\n",
      "----------------------------------------------------------------------------------------------------------\n",
      "lr: 0.0001  patience: 50  num_layers: 1  batch_size: 64  hidden_size: 32  dropout: 0.25 criterion: <function criterion2 at 0x000001F4A9CA77F0>\n"
     ]
    },
    {
     "data": {
      "application/vnd.jupyter.widget-view+json": {
       "model_id": "e19daee3cb524ae5b6e42cc48ea46727",
       "version_major": 2,
       "version_minor": 0
      },
      "text/plain": [
       "  0%|          | 0/10000 [00:00<?, ?it/s]"
      ]
     },
     "metadata": {},
     "output_type": "display_data"
    },
    {
     "name": "stdout",
     "output_type": "stream",
     "text": [
      "\n",
      " Early Stopping / epoch: 603 loss: 0.008727\n",
      "----------------------------------------------------------------------------------------------------------\n",
      "lr: 0.0001  patience: 50  num_layers: 1  batch_size: 64  hidden_size: 32  dropout: 0.25 criterion: <function criterion3 at 0x000001F4A9CA7880>\n"
     ]
    },
    {
     "data": {
      "application/vnd.jupyter.widget-view+json": {
       "model_id": "d626704603e74991b3f15a9c94700218",
       "version_major": 2,
       "version_minor": 0
      },
      "text/plain": [
       "  0%|          | 0/10000 [00:00<?, ?it/s]"
      ]
     },
     "metadata": {},
     "output_type": "display_data"
    },
    {
     "name": "stdout",
     "output_type": "stream",
     "text": [
      "\n",
      " Early Stopping / epoch: 1423 loss: 0.001403\n",
      "----------------------------------------------------------------------------------------------------------\n",
      "lr: 0.0001  patience: 50  num_layers: 1  batch_size: 64  hidden_size: 32  dropout: 0.5 criterion: MSELoss()\n"
     ]
    },
    {
     "data": {
      "application/vnd.jupyter.widget-view+json": {
       "model_id": "d48b6f57f731414a9b3b37c8b8bc95c0",
       "version_major": 2,
       "version_minor": 0
      },
      "text/plain": [
       "  0%|          | 0/10000 [00:00<?, ?it/s]"
      ]
     },
     "metadata": {},
     "output_type": "display_data"
    },
    {
     "name": "stdout",
     "output_type": "stream",
     "text": [
      "\n",
      " Early Stopping / epoch: 1898 loss: 0.000096\n",
      "----------------------------------------------------------------------------------------------------------\n",
      "lr: 0.0001  patience: 50  num_layers: 1  batch_size: 64  hidden_size: 32  dropout: 0.5 criterion: <function criterion2 at 0x000001F4A9CA77F0>\n"
     ]
    },
    {
     "data": {
      "application/vnd.jupyter.widget-view+json": {
       "model_id": "9580037cf40f43178bc5eb79a49d5f26",
       "version_major": 2,
       "version_minor": 0
      },
      "text/plain": [
       "  0%|          | 0/10000 [00:00<?, ?it/s]"
      ]
     },
     "metadata": {},
     "output_type": "display_data"
    },
    {
     "name": "stdout",
     "output_type": "stream",
     "text": [
      "\n",
      " Early Stopping / epoch: 718 loss: 0.008001\n",
      "----------------------------------------------------------------------------------------------------------\n",
      "lr: 0.0001  patience: 50  num_layers: 1  batch_size: 64  hidden_size: 32  dropout: 0.5 criterion: <function criterion3 at 0x000001F4A9CA7880>\n"
     ]
    },
    {
     "data": {
      "application/vnd.jupyter.widget-view+json": {
       "model_id": "8faac5324dd6410682443145f52f1692",
       "version_major": 2,
       "version_minor": 0
      },
      "text/plain": [
       "  0%|          | 0/10000 [00:00<?, ?it/s]"
      ]
     },
     "metadata": {},
     "output_type": "display_data"
    },
    {
     "name": "stdout",
     "output_type": "stream",
     "text": [
      "\n",
      " Early Stopping / epoch: 1210 loss: 0.001504\n",
      "----------------------------------------------------------------------------------------------------------\n",
      "lr: 0.0001  patience: 50  num_layers: 1  batch_size: 128  hidden_size: 8  dropout: 0.25 criterion: MSELoss()\n"
     ]
    },
    {
     "data": {
      "application/vnd.jupyter.widget-view+json": {
       "model_id": "e76fb476735c43e08aa47098eafb3c1c",
       "version_major": 2,
       "version_minor": 0
      },
      "text/plain": [
       "  0%|          | 0/10000 [00:00<?, ?it/s]"
      ]
     },
     "metadata": {},
     "output_type": "display_data"
    },
    {
     "name": "stdout",
     "output_type": "stream",
     "text": [
      "\n",
      " Early Stopping / epoch: 1596 loss: 0.000525\n",
      "----------------------------------------------------------------------------------------------------------\n",
      "lr: 0.0001  patience: 50  num_layers: 1  batch_size: 128  hidden_size: 8  dropout: 0.25 criterion: <function criterion2 at 0x000001F4A9CA77F0>\n"
     ]
    },
    {
     "data": {
      "application/vnd.jupyter.widget-view+json": {
       "model_id": "b74907011d8f4d0ab5b0396d23164284",
       "version_major": 2,
       "version_minor": 0
      },
      "text/plain": [
       "  0%|          | 0/10000 [00:00<?, ?it/s]"
      ]
     },
     "metadata": {},
     "output_type": "display_data"
    },
    {
     "name": "stdout",
     "output_type": "stream",
     "text": [
      "\n",
      " Early Stopping / epoch: 890 loss: 0.008688\n",
      "----------------------------------------------------------------------------------------------------------\n",
      "lr: 0.0001  patience: 50  num_layers: 1  batch_size: 128  hidden_size: 8  dropout: 0.25 criterion: <function criterion3 at 0x000001F4A9CA7880>\n"
     ]
    },
    {
     "data": {
      "application/vnd.jupyter.widget-view+json": {
       "model_id": "a7001b6cb8ea4740ab21c8753c489f48",
       "version_major": 2,
       "version_minor": 0
      },
      "text/plain": [
       "  0%|          | 0/10000 [00:00<?, ?it/s]"
      ]
     },
     "metadata": {},
     "output_type": "display_data"
    },
    {
     "name": "stdout",
     "output_type": "stream",
     "text": [
      "\n",
      " Early Stopping / epoch: 1365 loss: 0.001549\n",
      "----------------------------------------------------------------------------------------------------------\n",
      "lr: 0.0001  patience: 50  num_layers: 1  batch_size: 128  hidden_size: 8  dropout: 0.5 criterion: MSELoss()\n"
     ]
    },
    {
     "data": {
      "application/vnd.jupyter.widget-view+json": {
       "model_id": "d78c1e63a1934135b58675d8d47bf461",
       "version_major": 2,
       "version_minor": 0
      },
      "text/plain": [
       "  0%|          | 0/10000 [00:00<?, ?it/s]"
      ]
     },
     "metadata": {},
     "output_type": "display_data"
    },
    {
     "name": "stdout",
     "output_type": "stream",
     "text": [
      "\n",
      " Early Stopping / epoch: 866 loss: 0.000638\n",
      "----------------------------------------------------------------------------------------------------------\n",
      "lr: 0.0001  patience: 50  num_layers: 1  batch_size: 128  hidden_size: 8  dropout: 0.5 criterion: <function criterion2 at 0x000001F4A9CA77F0>\n"
     ]
    },
    {
     "data": {
      "application/vnd.jupyter.widget-view+json": {
       "model_id": "de1adbf36e224b72acd8fc862c5accfd",
       "version_major": 2,
       "version_minor": 0
      },
      "text/plain": [
       "  0%|          | 0/10000 [00:00<?, ?it/s]"
      ]
     },
     "metadata": {},
     "output_type": "display_data"
    },
    {
     "name": "stdout",
     "output_type": "stream",
     "text": [
      "\n",
      " Early Stopping / epoch: 1216 loss: 0.008914\n",
      "----------------------------------------------------------------------------------------------------------\n",
      "lr: 0.0001  patience: 50  num_layers: 1  batch_size: 128  hidden_size: 8  dropout: 0.5 criterion: <function criterion3 at 0x000001F4A9CA7880>\n"
     ]
    },
    {
     "data": {
      "application/vnd.jupyter.widget-view+json": {
       "model_id": "3a71b5d7a40049c2b467ee98f9e8988a",
       "version_major": 2,
       "version_minor": 0
      },
      "text/plain": [
       "  0%|          | 0/10000 [00:00<?, ?it/s]"
      ]
     },
     "metadata": {},
     "output_type": "display_data"
    },
    {
     "name": "stdout",
     "output_type": "stream",
     "text": [
      "\n",
      " Early Stopping / epoch: 1305 loss: 0.001513\n",
      "----------------------------------------------------------------------------------------------------------\n",
      "lr: 0.0001  patience: 50  num_layers: 1  batch_size: 128  hidden_size: 16  dropout: 0.25 criterion: MSELoss()\n"
     ]
    },
    {
     "data": {
      "application/vnd.jupyter.widget-view+json": {
       "model_id": "5bc8b4f7ea544453ac9213379975ed8d",
       "version_major": 2,
       "version_minor": 0
      },
      "text/plain": [
       "  0%|          | 0/10000 [00:00<?, ?it/s]"
      ]
     },
     "metadata": {},
     "output_type": "display_data"
    },
    {
     "name": "stdout",
     "output_type": "stream",
     "text": [
      "\n",
      " Early Stopping / epoch: 586 loss: 0.000559\n",
      "----------------------------------------------------------------------------------------------------------\n",
      "lr: 0.0001  patience: 50  num_layers: 1  batch_size: 128  hidden_size: 16  dropout: 0.25 criterion: <function criterion2 at 0x000001F4A9CA77F0>\n"
     ]
    },
    {
     "data": {
      "application/vnd.jupyter.widget-view+json": {
       "model_id": "f76826bd734545f5b12921e0769b5ff6",
       "version_major": 2,
       "version_minor": 0
      },
      "text/plain": [
       "  0%|          | 0/10000 [00:00<?, ?it/s]"
      ]
     },
     "metadata": {},
     "output_type": "display_data"
    },
    {
     "name": "stdout",
     "output_type": "stream",
     "text": [
      "\n",
      " Early Stopping / epoch: 851 loss: 0.008782\n",
      "----------------------------------------------------------------------------------------------------------\n",
      "lr: 0.0001  patience: 50  num_layers: 1  batch_size: 128  hidden_size: 16  dropout: 0.25 criterion: <function criterion3 at 0x000001F4A9CA7880>\n"
     ]
    },
    {
     "data": {
      "application/vnd.jupyter.widget-view+json": {
       "model_id": "7dd269a9a086463498dc053e7380eaa0",
       "version_major": 2,
       "version_minor": 0
      },
      "text/plain": [
       "  0%|          | 0/10000 [00:00<?, ?it/s]"
      ]
     },
     "metadata": {},
     "output_type": "display_data"
    },
    {
     "name": "stdout",
     "output_type": "stream",
     "text": [
      "\n",
      " Early Stopping / epoch: 483 loss: 0.001572\n",
      "----------------------------------------------------------------------------------------------------------\n",
      "lr: 0.0001  patience: 50  num_layers: 1  batch_size: 128  hidden_size: 16  dropout: 0.5 criterion: MSELoss()\n"
     ]
    },
    {
     "data": {
      "application/vnd.jupyter.widget-view+json": {
       "model_id": "b39b70f671c94f5cb80fb85232746afd",
       "version_major": 2,
       "version_minor": 0
      },
      "text/plain": [
       "  0%|          | 0/10000 [00:00<?, ?it/s]"
      ]
     },
     "metadata": {},
     "output_type": "display_data"
    },
    {
     "name": "stdout",
     "output_type": "stream",
     "text": [
      "\n",
      " Early Stopping / epoch: 4366 loss: 0.000101\n",
      "----------------------------------------------------------------------------------------------------------\n",
      "lr: 0.0001  patience: 50  num_layers: 1  batch_size: 128  hidden_size: 16  dropout: 0.5 criterion: <function criterion2 at 0x000001F4A9CA77F0>\n"
     ]
    },
    {
     "data": {
      "application/vnd.jupyter.widget-view+json": {
       "model_id": "f5dab452673b4a41a7b2d342ab8d1425",
       "version_major": 2,
       "version_minor": 0
      },
      "text/plain": [
       "  0%|          | 0/10000 [00:00<?, ?it/s]"
      ]
     },
     "metadata": {},
     "output_type": "display_data"
    },
    {
     "name": "stdout",
     "output_type": "stream",
     "text": [
      "\n",
      " Early Stopping / epoch: 764 loss: 0.008841\n",
      "----------------------------------------------------------------------------------------------------------\n",
      "lr: 0.0001  patience: 50  num_layers: 1  batch_size: 128  hidden_size: 16  dropout: 0.5 criterion: <function criterion3 at 0x000001F4A9CA7880>\n"
     ]
    },
    {
     "data": {
      "application/vnd.jupyter.widget-view+json": {
       "model_id": "86ebfaa6ff614f2fabc1325746c4ac87",
       "version_major": 2,
       "version_minor": 0
      },
      "text/plain": [
       "  0%|          | 0/10000 [00:00<?, ?it/s]"
      ]
     },
     "metadata": {},
     "output_type": "display_data"
    },
    {
     "name": "stdout",
     "output_type": "stream",
     "text": [
      "\n",
      " Early Stopping / epoch: 1748 loss: 0.001435\n",
      "----------------------------------------------------------------------------------------------------------\n",
      "lr: 0.0001  patience: 50  num_layers: 1  batch_size: 128  hidden_size: 32  dropout: 0.25 criterion: MSELoss()\n"
     ]
    },
    {
     "data": {
      "application/vnd.jupyter.widget-view+json": {
       "model_id": "c4e3ce267dfa432088c64e95f15d5cb9",
       "version_major": 2,
       "version_minor": 0
      },
      "text/plain": [
       "  0%|          | 0/10000 [00:00<?, ?it/s]"
      ]
     },
     "metadata": {},
     "output_type": "display_data"
    },
    {
     "name": "stdout",
     "output_type": "stream",
     "text": [
      "\n",
      " Early Stopping / epoch: 2022 loss: 0.000140\n",
      "----------------------------------------------------------------------------------------------------------\n",
      "lr: 0.0001  patience: 50  num_layers: 1  batch_size: 128  hidden_size: 32  dropout: 0.25 criterion: <function criterion2 at 0x000001F4A9CA77F0>\n"
     ]
    },
    {
     "data": {
      "application/vnd.jupyter.widget-view+json": {
       "model_id": "8918ade06a9042cfa7f036c2feda33c4",
       "version_major": 2,
       "version_minor": 0
      },
      "text/plain": [
       "  0%|          | 0/10000 [00:00<?, ?it/s]"
      ]
     },
     "metadata": {},
     "output_type": "display_data"
    },
    {
     "name": "stdout",
     "output_type": "stream",
     "text": [
      "\n",
      " Early Stopping / epoch: 604 loss: 0.008658\n",
      "----------------------------------------------------------------------------------------------------------\n",
      "lr: 0.0001  patience: 50  num_layers: 1  batch_size: 128  hidden_size: 32  dropout: 0.25 criterion: <function criterion3 at 0x000001F4A9CA7880>\n"
     ]
    },
    {
     "data": {
      "application/vnd.jupyter.widget-view+json": {
       "model_id": "3b97a858ffea401294200fbb89335a5f",
       "version_major": 2,
       "version_minor": 0
      },
      "text/plain": [
       "  0%|          | 0/10000 [00:00<?, ?it/s]"
      ]
     },
     "metadata": {},
     "output_type": "display_data"
    },
    {
     "name": "stdout",
     "output_type": "stream",
     "text": [
      "\n",
      " Early Stopping / epoch: 1654 loss: 0.000967\n",
      "----------------------------------------------------------------------------------------------------------\n",
      "lr: 0.0001  patience: 50  num_layers: 1  batch_size: 128  hidden_size: 32  dropout: 0.5 criterion: MSELoss()\n"
     ]
    },
    {
     "data": {
      "application/vnd.jupyter.widget-view+json": {
       "model_id": "68d36805e8d54261adfd13623d7c9c3e",
       "version_major": 2,
       "version_minor": 0
      },
      "text/plain": [
       "  0%|          | 0/10000 [00:00<?, ?it/s]"
      ]
     },
     "metadata": {},
     "output_type": "display_data"
    },
    {
     "name": "stdout",
     "output_type": "stream",
     "text": [
      "\n",
      " Early Stopping / epoch: 1836 loss: 0.000293\n",
      "----------------------------------------------------------------------------------------------------------\n",
      "lr: 0.0001  patience: 50  num_layers: 1  batch_size: 128  hidden_size: 32  dropout: 0.5 criterion: <function criterion2 at 0x000001F4A9CA77F0>\n"
     ]
    },
    {
     "data": {
      "application/vnd.jupyter.widget-view+json": {
       "model_id": "62a5b887e2494d4bb229f8a4bc39bf54",
       "version_major": 2,
       "version_minor": 0
      },
      "text/plain": [
       "  0%|          | 0/10000 [00:00<?, ?it/s]"
      ]
     },
     "metadata": {},
     "output_type": "display_data"
    },
    {
     "name": "stdout",
     "output_type": "stream",
     "text": [
      "\n",
      " Early Stopping / epoch: 648 loss: 0.008467\n",
      "----------------------------------------------------------------------------------------------------------\n",
      "lr: 0.0001  patience: 50  num_layers: 1  batch_size: 128  hidden_size: 32  dropout: 0.5 criterion: <function criterion3 at 0x000001F4A9CA7880>\n"
     ]
    },
    {
     "data": {
      "application/vnd.jupyter.widget-view+json": {
       "model_id": "a7a2df62be8c42b1907d437d9a9dcd6a",
       "version_major": 2,
       "version_minor": 0
      },
      "text/plain": [
       "  0%|          | 0/10000 [00:00<?, ?it/s]"
      ]
     },
     "metadata": {},
     "output_type": "display_data"
    },
    {
     "name": "stdout",
     "output_type": "stream",
     "text": [
      "\n",
      " Early Stopping / epoch: 2090 loss: 0.000980\n",
      "----------------------------------------------------------------------------------------------------------\n",
      "lr: 0.0001  patience: 50  num_layers: 2  batch_size: 32  hidden_size: 8  dropout: 0.25 criterion: MSELoss()\n"
     ]
    },
    {
     "data": {
      "application/vnd.jupyter.widget-view+json": {
       "model_id": "977ef55d5ecb4b2e9b197e630b659c20",
       "version_major": 2,
       "version_minor": 0
      },
      "text/plain": [
       "  0%|          | 0/10000 [00:00<?, ?it/s]"
      ]
     },
     "metadata": {},
     "output_type": "display_data"
    },
    {
     "name": "stdout",
     "output_type": "stream",
     "text": [
      "\n",
      " Early Stopping / epoch: 1624 loss: 0.000334\n",
      "----------------------------------------------------------------------------------------------------------\n",
      "lr: 0.0001  patience: 50  num_layers: 2  batch_size: 32  hidden_size: 8  dropout: 0.25 criterion: <function criterion2 at 0x000001F4A9CA77F0>\n"
     ]
    },
    {
     "data": {
      "application/vnd.jupyter.widget-view+json": {
       "model_id": "934492d5ab454f21bec67a51080237a7",
       "version_major": 2,
       "version_minor": 0
      },
      "text/plain": [
       "  0%|          | 0/10000 [00:00<?, ?it/s]"
      ]
     },
     "metadata": {},
     "output_type": "display_data"
    },
    {
     "name": "stdout",
     "output_type": "stream",
     "text": [
      "\n",
      " Early Stopping / epoch: 562 loss: 0.009490\n",
      "----------------------------------------------------------------------------------------------------------\n",
      "lr: 0.0001  patience: 50  num_layers: 2  batch_size: 32  hidden_size: 8  dropout: 0.25 criterion: <function criterion3 at 0x000001F4A9CA7880>\n"
     ]
    },
    {
     "data": {
      "application/vnd.jupyter.widget-view+json": {
       "model_id": "a385f43f60fd43f486841419e9afa49c",
       "version_major": 2,
       "version_minor": 0
      },
      "text/plain": [
       "  0%|          | 0/10000 [00:00<?, ?it/s]"
      ]
     },
     "metadata": {},
     "output_type": "display_data"
    },
    {
     "name": "stdout",
     "output_type": "stream",
     "text": [
      "\n",
      " Early Stopping / epoch: 1586 loss: 0.002319\n",
      "----------------------------------------------------------------------------------------------------------\n",
      "lr: 0.0001  patience: 50  num_layers: 2  batch_size: 32  hidden_size: 8  dropout: 0.5 criterion: MSELoss()\n"
     ]
    },
    {
     "data": {
      "application/vnd.jupyter.widget-view+json": {
       "model_id": "088b74d27b5946188d6f3d035d03ec34",
       "version_major": 2,
       "version_minor": 0
      },
      "text/plain": [
       "  0%|          | 0/10000 [00:00<?, ?it/s]"
      ]
     },
     "metadata": {},
     "output_type": "display_data"
    },
    {
     "name": "stdout",
     "output_type": "stream",
     "text": [
      "\n",
      " Early Stopping / epoch: 542 loss: 0.000660\n",
      "----------------------------------------------------------------------------------------------------------\n",
      "lr: 0.0001  patience: 50  num_layers: 2  batch_size: 32  hidden_size: 8  dropout: 0.5 criterion: <function criterion2 at 0x000001F4A9CA77F0>\n"
     ]
    },
    {
     "data": {
      "application/vnd.jupyter.widget-view+json": {
       "model_id": "6f67bb20bcbd4d42bd804f0e7f991f05",
       "version_major": 2,
       "version_minor": 0
      },
      "text/plain": [
       "  0%|          | 0/10000 [00:00<?, ?it/s]"
      ]
     },
     "metadata": {},
     "output_type": "display_data"
    },
    {
     "name": "stdout",
     "output_type": "stream",
     "text": [
      "\n",
      " Early Stopping / epoch: 1002 loss: 0.008541\n",
      "----------------------------------------------------------------------------------------------------------\n",
      "lr: 0.0001  patience: 50  num_layers: 2  batch_size: 32  hidden_size: 8  dropout: 0.5 criterion: <function criterion3 at 0x000001F4A9CA7880>\n"
     ]
    },
    {
     "data": {
      "application/vnd.jupyter.widget-view+json": {
       "model_id": "689391464db6477c8bf43ff9e8db291c",
       "version_major": 2,
       "version_minor": 0
      },
      "text/plain": [
       "  0%|          | 0/10000 [00:00<?, ?it/s]"
      ]
     },
     "metadata": {},
     "output_type": "display_data"
    },
    {
     "name": "stdout",
     "output_type": "stream",
     "text": [
      "\n",
      " Early Stopping / epoch: 1140 loss: 0.002463\n",
      "----------------------------------------------------------------------------------------------------------\n",
      "lr: 0.0001  patience: 50  num_layers: 2  batch_size: 32  hidden_size: 16  dropout: 0.25 criterion: MSELoss()\n"
     ]
    },
    {
     "data": {
      "application/vnd.jupyter.widget-view+json": {
       "model_id": "a80b697036f44a1abbbdb8abc9707ad6",
       "version_major": 2,
       "version_minor": 0
      },
      "text/plain": [
       "  0%|          | 0/10000 [00:00<?, ?it/s]"
      ]
     },
     "metadata": {},
     "output_type": "display_data"
    },
    {
     "name": "stdout",
     "output_type": "stream",
     "text": [
      "\n",
      " Early Stopping / epoch: 1027 loss: 0.000418\n",
      "----------------------------------------------------------------------------------------------------------\n",
      "lr: 0.0001  patience: 50  num_layers: 2  batch_size: 32  hidden_size: 16  dropout: 0.25 criterion: <function criterion2 at 0x000001F4A9CA77F0>\n"
     ]
    },
    {
     "data": {
      "application/vnd.jupyter.widget-view+json": {
       "model_id": "ba1587629f2b4876b5c4be69ccd04b74",
       "version_major": 2,
       "version_minor": 0
      },
      "text/plain": [
       "  0%|          | 0/10000 [00:00<?, ?it/s]"
      ]
     },
     "metadata": {},
     "output_type": "display_data"
    },
    {
     "name": "stdout",
     "output_type": "stream",
     "text": [
      "\n",
      " Early Stopping / epoch: 1209 loss: 0.007592\n",
      "----------------------------------------------------------------------------------------------------------\n",
      "lr: 0.0001  patience: 50  num_layers: 2  batch_size: 32  hidden_size: 16  dropout: 0.25 criterion: <function criterion3 at 0x000001F4A9CA7880>\n"
     ]
    },
    {
     "data": {
      "application/vnd.jupyter.widget-view+json": {
       "model_id": "5c923f0f273b4d429e3dd7c96cd2333f",
       "version_major": 2,
       "version_minor": 0
      },
      "text/plain": [
       "  0%|          | 0/10000 [00:00<?, ?it/s]"
      ]
     },
     "metadata": {},
     "output_type": "display_data"
    },
    {
     "name": "stdout",
     "output_type": "stream",
     "text": [
      "\n",
      " Early Stopping / epoch: 1100 loss: 0.002051\n",
      "----------------------------------------------------------------------------------------------------------\n",
      "lr: 0.0001  patience: 50  num_layers: 2  batch_size: 32  hidden_size: 16  dropout: 0.5 criterion: MSELoss()\n"
     ]
    },
    {
     "data": {
      "application/vnd.jupyter.widget-view+json": {
       "model_id": "289ee7ad0c254db8ba18ee5de82742f4",
       "version_major": 2,
       "version_minor": 0
      },
      "text/plain": [
       "  0%|          | 0/10000 [00:00<?, ?it/s]"
      ]
     },
     "metadata": {},
     "output_type": "display_data"
    },
    {
     "name": "stdout",
     "output_type": "stream",
     "text": [
      "\n",
      " Early Stopping / epoch: 1020 loss: 0.000263\n",
      "----------------------------------------------------------------------------------------------------------\n",
      "lr: 0.0001  patience: 50  num_layers: 2  batch_size: 32  hidden_size: 16  dropout: 0.5 criterion: <function criterion2 at 0x000001F4A9CA77F0>\n"
     ]
    },
    {
     "data": {
      "application/vnd.jupyter.widget-view+json": {
       "model_id": "8e02b3c60e4e414a86d28f4ac09fc585",
       "version_major": 2,
       "version_minor": 0
      },
      "text/plain": [
       "  0%|          | 0/10000 [00:00<?, ?it/s]"
      ]
     },
     "metadata": {},
     "output_type": "display_data"
    },
    {
     "name": "stdout",
     "output_type": "stream",
     "text": [
      "\n",
      " Early Stopping / epoch: 1486 loss: 0.007098\n",
      "----------------------------------------------------------------------------------------------------------\n",
      "lr: 0.0001  patience: 50  num_layers: 2  batch_size: 32  hidden_size: 16  dropout: 0.5 criterion: <function criterion3 at 0x000001F4A9CA7880>\n"
     ]
    },
    {
     "data": {
      "application/vnd.jupyter.widget-view+json": {
       "model_id": "20cc6b39d5d643d48d0150014ff2c549",
       "version_major": 2,
       "version_minor": 0
      },
      "text/plain": [
       "  0%|          | 0/10000 [00:00<?, ?it/s]"
      ]
     },
     "metadata": {},
     "output_type": "display_data"
    },
    {
     "name": "stdout",
     "output_type": "stream",
     "text": [
      "\n",
      " Early Stopping / epoch: 922 loss: 0.002172\n",
      "----------------------------------------------------------------------------------------------------------\n",
      "lr: 0.0001  patience: 50  num_layers: 2  batch_size: 32  hidden_size: 32  dropout: 0.25 criterion: MSELoss()\n"
     ]
    },
    {
     "data": {
      "application/vnd.jupyter.widget-view+json": {
       "model_id": "dd3df4d6182445aa9085449b83f32eb3",
       "version_major": 2,
       "version_minor": 0
      },
      "text/plain": [
       "  0%|          | 0/10000 [00:00<?, ?it/s]"
      ]
     },
     "metadata": {},
     "output_type": "display_data"
    },
    {
     "name": "stdout",
     "output_type": "stream",
     "text": [
      "\n",
      " Early Stopping / epoch: 1819 loss: 0.000095\n",
      "----------------------------------------------------------------------------------------------------------\n",
      "lr: 0.0001  patience: 50  num_layers: 2  batch_size: 32  hidden_size: 32  dropout: 0.25 criterion: <function criterion2 at 0x000001F4A9CA77F0>\n"
     ]
    },
    {
     "data": {
      "application/vnd.jupyter.widget-view+json": {
       "model_id": "ad2a0748edce4c2b9714a6fd6d4a20ce",
       "version_major": 2,
       "version_minor": 0
      },
      "text/plain": [
       "  0%|          | 0/10000 [00:00<?, ?it/s]"
      ]
     },
     "metadata": {},
     "output_type": "display_data"
    },
    {
     "name": "stdout",
     "output_type": "stream",
     "text": [
      "\n",
      " Early Stopping / epoch: 1302 loss: 0.006958\n",
      "----------------------------------------------------------------------------------------------------------\n",
      "lr: 0.0001  patience: 50  num_layers: 2  batch_size: 32  hidden_size: 32  dropout: 0.25 criterion: <function criterion3 at 0x000001F4A9CA7880>\n"
     ]
    },
    {
     "data": {
      "application/vnd.jupyter.widget-view+json": {
       "model_id": "20fef7f842544c67a28fea9c5a1f8acb",
       "version_major": 2,
       "version_minor": 0
      },
      "text/plain": [
       "  0%|          | 0/10000 [00:00<?, ?it/s]"
      ]
     },
     "metadata": {},
     "output_type": "display_data"
    },
    {
     "name": "stdout",
     "output_type": "stream",
     "text": [
      "\n",
      " Early Stopping / epoch: 1386 loss: 0.001541\n",
      "----------------------------------------------------------------------------------------------------------\n",
      "lr: 0.0001  patience: 50  num_layers: 2  batch_size: 32  hidden_size: 32  dropout: 0.5 criterion: MSELoss()\n"
     ]
    },
    {
     "data": {
      "application/vnd.jupyter.widget-view+json": {
       "model_id": "945f4880c8cb40d0acdc6ffdc07dab83",
       "version_major": 2,
       "version_minor": 0
      },
      "text/plain": [
       "  0%|          | 0/10000 [00:00<?, ?it/s]"
      ]
     },
     "metadata": {},
     "output_type": "display_data"
    },
    {
     "name": "stdout",
     "output_type": "stream",
     "text": [
      "\n",
      " Early Stopping / epoch: 1482 loss: 0.000118\n",
      "----------------------------------------------------------------------------------------------------------\n",
      "lr: 0.0001  patience: 50  num_layers: 2  batch_size: 32  hidden_size: 32  dropout: 0.5 criterion: <function criterion2 at 0x000001F4A9CA77F0>\n"
     ]
    },
    {
     "data": {
      "application/vnd.jupyter.widget-view+json": {
       "model_id": "6b2e0af4001e4ea0871aed8995207fc2",
       "version_major": 2,
       "version_minor": 0
      },
      "text/plain": [
       "  0%|          | 0/10000 [00:00<?, ?it/s]"
      ]
     },
     "metadata": {},
     "output_type": "display_data"
    },
    {
     "name": "stdout",
     "output_type": "stream",
     "text": [
      "\n",
      " Early Stopping / epoch: 1560 loss: 0.006503\n",
      "----------------------------------------------------------------------------------------------------------\n",
      "lr: 0.0001  patience: 50  num_layers: 2  batch_size: 32  hidden_size: 32  dropout: 0.5 criterion: <function criterion3 at 0x000001F4A9CA7880>\n"
     ]
    },
    {
     "data": {
      "application/vnd.jupyter.widget-view+json": {
       "model_id": "18b4ce29b0494633ba605701eb6266ea",
       "version_major": 2,
       "version_minor": 0
      },
      "text/plain": [
       "  0%|          | 0/10000 [00:00<?, ?it/s]"
      ]
     },
     "metadata": {},
     "output_type": "display_data"
    },
    {
     "name": "stdout",
     "output_type": "stream",
     "text": [
      "\n",
      " Early Stopping / epoch: 734 loss: 0.002048\n",
      "----------------------------------------------------------------------------------------------------------\n",
      "lr: 0.0001  patience: 50  num_layers: 2  batch_size: 64  hidden_size: 8  dropout: 0.25 criterion: MSELoss()\n"
     ]
    },
    {
     "data": {
      "application/vnd.jupyter.widget-view+json": {
       "model_id": "28104701ffd84a8c91ddbe2d6e713bcd",
       "version_major": 2,
       "version_minor": 0
      },
      "text/plain": [
       "  0%|          | 0/10000 [00:00<?, ?it/s]"
      ]
     },
     "metadata": {},
     "output_type": "display_data"
    },
    {
     "name": "stdout",
     "output_type": "stream",
     "text": [
      "\n",
      " Early Stopping / epoch: 436 loss: 0.000663\n",
      "----------------------------------------------------------------------------------------------------------\n",
      "lr: 0.0001  patience: 50  num_layers: 2  batch_size: 64  hidden_size: 8  dropout: 0.25 criterion: <function criterion2 at 0x000001F4A9CA77F0>\n"
     ]
    },
    {
     "data": {
      "application/vnd.jupyter.widget-view+json": {
       "model_id": "aa08c500d88c414d8a476493449afda5",
       "version_major": 2,
       "version_minor": 0
      },
      "text/plain": [
       "  0%|          | 0/10000 [00:00<?, ?it/s]"
      ]
     },
     "metadata": {},
     "output_type": "display_data"
    },
    {
     "name": "stdout",
     "output_type": "stream",
     "text": [
      "\n",
      " Early Stopping / epoch: 781 loss: 0.009447\n",
      "----------------------------------------------------------------------------------------------------------\n",
      "lr: 0.0001  patience: 50  num_layers: 2  batch_size: 64  hidden_size: 8  dropout: 0.25 criterion: <function criterion3 at 0x000001F4A9CA7880>\n"
     ]
    },
    {
     "data": {
      "application/vnd.jupyter.widget-view+json": {
       "model_id": "7a238a9256f540c3ae633c1cc4c3dacf",
       "version_major": 2,
       "version_minor": 0
      },
      "text/plain": [
       "  0%|          | 0/10000 [00:00<?, ?it/s]"
      ]
     },
     "metadata": {},
     "output_type": "display_data"
    },
    {
     "name": "stdout",
     "output_type": "stream",
     "text": [
      "\n",
      " Early Stopping / epoch: 1227 loss: 0.001816\n",
      "----------------------------------------------------------------------------------------------------------\n",
      "lr: 0.0001  patience: 50  num_layers: 2  batch_size: 64  hidden_size: 8  dropout: 0.5 criterion: MSELoss()\n"
     ]
    },
    {
     "data": {
      "application/vnd.jupyter.widget-view+json": {
       "model_id": "e376436f3de14240b433d44878acf22b",
       "version_major": 2,
       "version_minor": 0
      },
      "text/plain": [
       "  0%|          | 0/10000 [00:00<?, ?it/s]"
      ]
     },
     "metadata": {},
     "output_type": "display_data"
    },
    {
     "name": "stdout",
     "output_type": "stream",
     "text": [
      "\n",
      " Early Stopping / epoch: 1445 loss: 0.000370\n",
      "----------------------------------------------------------------------------------------------------------\n",
      "lr: 0.0001  patience: 50  num_layers: 2  batch_size: 64  hidden_size: 8  dropout: 0.5 criterion: <function criterion2 at 0x000001F4A9CA77F0>\n"
     ]
    },
    {
     "data": {
      "application/vnd.jupyter.widget-view+json": {
       "model_id": "6055f15ad421467c9491298a8ef54c44",
       "version_major": 2,
       "version_minor": 0
      },
      "text/plain": [
       "  0%|          | 0/10000 [00:00<?, ?it/s]"
      ]
     },
     "metadata": {},
     "output_type": "display_data"
    },
    {
     "name": "stdout",
     "output_type": "stream",
     "text": [
      "\n",
      " Early Stopping / epoch: 615 loss: 0.009426\n",
      "----------------------------------------------------------------------------------------------------------\n",
      "lr: 0.0001  patience: 50  num_layers: 2  batch_size: 64  hidden_size: 8  dropout: 0.5 criterion: <function criterion3 at 0x000001F4A9CA7880>\n"
     ]
    },
    {
     "data": {
      "application/vnd.jupyter.widget-view+json": {
       "model_id": "11f11c10b94e4dd89e36945fd9b9fb2e",
       "version_major": 2,
       "version_minor": 0
      },
      "text/plain": [
       "  0%|          | 0/10000 [00:00<?, ?it/s]"
      ]
     },
     "metadata": {},
     "output_type": "display_data"
    },
    {
     "name": "stdout",
     "output_type": "stream",
     "text": [
      "\n",
      " Early Stopping / epoch: 1165 loss: 0.002015\n",
      "----------------------------------------------------------------------------------------------------------\n",
      "lr: 0.0001  patience: 50  num_layers: 2  batch_size: 64  hidden_size: 16  dropout: 0.25 criterion: MSELoss()\n"
     ]
    },
    {
     "data": {
      "application/vnd.jupyter.widget-view+json": {
       "model_id": "6443cea94b4746259088c83595ded1d9",
       "version_major": 2,
       "version_minor": 0
      },
      "text/plain": [
       "  0%|          | 0/10000 [00:00<?, ?it/s]"
      ]
     },
     "metadata": {},
     "output_type": "display_data"
    },
    {
     "name": "stdout",
     "output_type": "stream",
     "text": [
      "\n",
      " Early Stopping / epoch: 1556 loss: 0.000229\n",
      "----------------------------------------------------------------------------------------------------------\n",
      "lr: 0.0001  patience: 50  num_layers: 2  batch_size: 64  hidden_size: 16  dropout: 0.25 criterion: <function criterion2 at 0x000001F4A9CA77F0>\n"
     ]
    },
    {
     "data": {
      "application/vnd.jupyter.widget-view+json": {
       "model_id": "75a8ebf411d94a6c964c6eb5aef2e62c",
       "version_major": 2,
       "version_minor": 0
      },
      "text/plain": [
       "  0%|          | 0/10000 [00:00<?, ?it/s]"
      ]
     },
     "metadata": {},
     "output_type": "display_data"
    },
    {
     "name": "stdout",
     "output_type": "stream",
     "text": [
      "\n",
      " Early Stopping / epoch: 2010 loss: 0.007949\n",
      "----------------------------------------------------------------------------------------------------------\n",
      "lr: 0.0001  patience: 50  num_layers: 2  batch_size: 64  hidden_size: 16  dropout: 0.25 criterion: <function criterion3 at 0x000001F4A9CA7880>\n"
     ]
    },
    {
     "data": {
      "application/vnd.jupyter.widget-view+json": {
       "model_id": "b4bc8b4ecd324f4593df05125178560d",
       "version_major": 2,
       "version_minor": 0
      },
      "text/plain": [
       "  0%|          | 0/10000 [00:00<?, ?it/s]"
      ]
     },
     "metadata": {},
     "output_type": "display_data"
    },
    {
     "name": "stdout",
     "output_type": "stream",
     "text": [
      "\n",
      " Early Stopping / epoch: 1060 loss: 0.001745\n",
      "----------------------------------------------------------------------------------------------------------\n",
      "lr: 0.0001  patience: 50  num_layers: 2  batch_size: 64  hidden_size: 16  dropout: 0.5 criterion: MSELoss()\n"
     ]
    },
    {
     "data": {
      "application/vnd.jupyter.widget-view+json": {
       "model_id": "4919dda37fed43a49ff0ffe04064f905",
       "version_major": 2,
       "version_minor": 0
      },
      "text/plain": [
       "  0%|          | 0/10000 [00:00<?, ?it/s]"
      ]
     },
     "metadata": {},
     "output_type": "display_data"
    },
    {
     "name": "stdout",
     "output_type": "stream",
     "text": [
      "\n",
      " Early Stopping / epoch: 1644 loss: 0.000166\n",
      "----------------------------------------------------------------------------------------------------------\n",
      "lr: 0.0001  patience: 50  num_layers: 2  batch_size: 64  hidden_size: 16  dropout: 0.5 criterion: <function criterion2 at 0x000001F4A9CA77F0>\n"
     ]
    },
    {
     "data": {
      "application/vnd.jupyter.widget-view+json": {
       "model_id": "9b98118000454d4f81b7689efa808835",
       "version_major": 2,
       "version_minor": 0
      },
      "text/plain": [
       "  0%|          | 0/10000 [00:00<?, ?it/s]"
      ]
     },
     "metadata": {},
     "output_type": "display_data"
    },
    {
     "name": "stdout",
     "output_type": "stream",
     "text": [
      "\n",
      " Early Stopping / epoch: 1007 loss: 0.008313\n",
      "----------------------------------------------------------------------------------------------------------\n",
      "lr: 0.0001  patience: 50  num_layers: 2  batch_size: 64  hidden_size: 16  dropout: 0.5 criterion: <function criterion3 at 0x000001F4A9CA7880>\n"
     ]
    },
    {
     "data": {
      "application/vnd.jupyter.widget-view+json": {
       "model_id": "8555aeb04f2d43ee94e3c86b316557da",
       "version_major": 2,
       "version_minor": 0
      },
      "text/plain": [
       "  0%|          | 0/10000 [00:00<?, ?it/s]"
      ]
     },
     "metadata": {},
     "output_type": "display_data"
    },
    {
     "name": "stdout",
     "output_type": "stream",
     "text": [
      "\n",
      " Early Stopping / epoch: 946 loss: 0.001653\n",
      "----------------------------------------------------------------------------------------------------------\n",
      "lr: 0.0001  patience: 50  num_layers: 2  batch_size: 64  hidden_size: 32  dropout: 0.25 criterion: MSELoss()\n"
     ]
    },
    {
     "data": {
      "application/vnd.jupyter.widget-view+json": {
       "model_id": "41fcea41f1be41c6a913292cccbde67b",
       "version_major": 2,
       "version_minor": 0
      },
      "text/plain": [
       "  0%|          | 0/10000 [00:00<?, ?it/s]"
      ]
     },
     "metadata": {},
     "output_type": "display_data"
    },
    {
     "name": "stdout",
     "output_type": "stream",
     "text": [
      "\n",
      " Early Stopping / epoch: 1189 loss: 0.000259\n",
      "----------------------------------------------------------------------------------------------------------\n",
      "lr: 0.0001  patience: 50  num_layers: 2  batch_size: 64  hidden_size: 32  dropout: 0.25 criterion: <function criterion2 at 0x000001F4A9CA77F0>\n"
     ]
    },
    {
     "data": {
      "application/vnd.jupyter.widget-view+json": {
       "model_id": "241e53d3ac934946a947a887a32bd88f",
       "version_major": 2,
       "version_minor": 0
      },
      "text/plain": [
       "  0%|          | 0/10000 [00:00<?, ?it/s]"
      ]
     },
     "metadata": {},
     "output_type": "display_data"
    },
    {
     "name": "stdout",
     "output_type": "stream",
     "text": [
      "\n",
      " Early Stopping / epoch: 1585 loss: 0.006878\n",
      "----------------------------------------------------------------------------------------------------------\n",
      "lr: 0.0001  patience: 50  num_layers: 2  batch_size: 64  hidden_size: 32  dropout: 0.25 criterion: <function criterion3 at 0x000001F4A9CA7880>\n"
     ]
    },
    {
     "data": {
      "application/vnd.jupyter.widget-view+json": {
       "model_id": "4c592b4fc773437aa8ede1ce8474534f",
       "version_major": 2,
       "version_minor": 0
      },
      "text/plain": [
       "  0%|          | 0/10000 [00:00<?, ?it/s]"
      ]
     },
     "metadata": {},
     "output_type": "display_data"
    },
    {
     "name": "stdout",
     "output_type": "stream",
     "text": [
      "\n",
      " Early Stopping / epoch: 1585 loss: 0.001268\n",
      "----------------------------------------------------------------------------------------------------------\n",
      "lr: 0.0001  patience: 50  num_layers: 2  batch_size: 64  hidden_size: 32  dropout: 0.5 criterion: MSELoss()\n"
     ]
    },
    {
     "data": {
      "application/vnd.jupyter.widget-view+json": {
       "model_id": "759c366de97b4a84b84d66c491ce394f",
       "version_major": 2,
       "version_minor": 0
      },
      "text/plain": [
       "  0%|          | 0/10000 [00:00<?, ?it/s]"
      ]
     },
     "metadata": {},
     "output_type": "display_data"
    },
    {
     "name": "stdout",
     "output_type": "stream",
     "text": [
      "\n",
      " Early Stopping / epoch: 1293 loss: 0.000182\n",
      "----------------------------------------------------------------------------------------------------------\n",
      "lr: 0.0001  patience: 50  num_layers: 2  batch_size: 64  hidden_size: 32  dropout: 0.5 criterion: <function criterion2 at 0x000001F4A9CA77F0>\n"
     ]
    },
    {
     "data": {
      "application/vnd.jupyter.widget-view+json": {
       "model_id": "37f4c6bfb57e41479be35c715343d900",
       "version_major": 2,
       "version_minor": 0
      },
      "text/plain": [
       "  0%|          | 0/10000 [00:00<?, ?it/s]"
      ]
     },
     "metadata": {},
     "output_type": "display_data"
    },
    {
     "name": "stdout",
     "output_type": "stream",
     "text": [
      "\n",
      " Early Stopping / epoch: 1246 loss: 0.007244\n",
      "----------------------------------------------------------------------------------------------------------\n",
      "lr: 0.0001  patience: 50  num_layers: 2  batch_size: 64  hidden_size: 32  dropout: 0.5 criterion: <function criterion3 at 0x000001F4A9CA7880>\n"
     ]
    },
    {
     "data": {
      "application/vnd.jupyter.widget-view+json": {
       "model_id": "65ef8396ba484e04b9e35efcdd2c1921",
       "version_major": 2,
       "version_minor": 0
      },
      "text/plain": [
       "  0%|          | 0/10000 [00:00<?, ?it/s]"
      ]
     },
     "metadata": {},
     "output_type": "display_data"
    },
    {
     "name": "stdout",
     "output_type": "stream",
     "text": [
      "\n",
      " Early Stopping / epoch: 1077 loss: 0.001470\n",
      "----------------------------------------------------------------------------------------------------------\n",
      "lr: 0.0001  patience: 50  num_layers: 2  batch_size: 128  hidden_size: 8  dropout: 0.25 criterion: MSELoss()\n"
     ]
    },
    {
     "data": {
      "application/vnd.jupyter.widget-view+json": {
       "model_id": "f2358bb16aaa4386bc22b062de087dfe",
       "version_major": 2,
       "version_minor": 0
      },
      "text/plain": [
       "  0%|          | 0/10000 [00:00<?, ?it/s]"
      ]
     },
     "metadata": {},
     "output_type": "display_data"
    },
    {
     "name": "stdout",
     "output_type": "stream",
     "text": [
      "\n",
      " Early Stopping / epoch: 1602 loss: 0.000397\n",
      "----------------------------------------------------------------------------------------------------------\n",
      "lr: 0.0001  patience: 50  num_layers: 2  batch_size: 128  hidden_size: 8  dropout: 0.25 criterion: <function criterion2 at 0x000001F4A9CA77F0>\n"
     ]
    },
    {
     "data": {
      "application/vnd.jupyter.widget-view+json": {
       "model_id": "9f38b9cecb824e8180f52f119a65de1b",
       "version_major": 2,
       "version_minor": 0
      },
      "text/plain": [
       "  0%|          | 0/10000 [00:00<?, ?it/s]"
      ]
     },
     "metadata": {},
     "output_type": "display_data"
    },
    {
     "name": "stdout",
     "output_type": "stream",
     "text": [
      "\n",
      " Early Stopping / epoch: 1100 loss: 0.009832\n",
      "----------------------------------------------------------------------------------------------------------\n",
      "lr: 0.0001  patience: 50  num_layers: 2  batch_size: 128  hidden_size: 8  dropout: 0.25 criterion: <function criterion3 at 0x000001F4A9CA7880>\n"
     ]
    },
    {
     "data": {
      "application/vnd.jupyter.widget-view+json": {
       "model_id": "8df446853a63423a8d6b0eef92500e8a",
       "version_major": 2,
       "version_minor": 0
      },
      "text/plain": [
       "  0%|          | 0/10000 [00:00<?, ?it/s]"
      ]
     },
     "metadata": {},
     "output_type": "display_data"
    },
    {
     "name": "stdout",
     "output_type": "stream",
     "text": [
      "\n",
      " Early Stopping / epoch: 2193 loss: 0.001373\n",
      "----------------------------------------------------------------------------------------------------------\n",
      "lr: 0.0001  patience: 50  num_layers: 2  batch_size: 128  hidden_size: 8  dropout: 0.5 criterion: MSELoss()\n"
     ]
    },
    {
     "data": {
      "application/vnd.jupyter.widget-view+json": {
       "model_id": "7891af4afcb041199ad35fc3f013f373",
       "version_major": 2,
       "version_minor": 0
      },
      "text/plain": [
       "  0%|          | 0/10000 [00:00<?, ?it/s]"
      ]
     },
     "metadata": {},
     "output_type": "display_data"
    },
    {
     "name": "stdout",
     "output_type": "stream",
     "text": [
      "\n",
      " Early Stopping / epoch: 885 loss: 0.000615\n",
      "----------------------------------------------------------------------------------------------------------\n",
      "lr: 0.0001  patience: 50  num_layers: 2  batch_size: 128  hidden_size: 8  dropout: 0.5 criterion: <function criterion2 at 0x000001F4A9CA77F0>\n"
     ]
    },
    {
     "data": {
      "application/vnd.jupyter.widget-view+json": {
       "model_id": "b01453eab88e4793a8a068fbaeebf767",
       "version_major": 2,
       "version_minor": 0
      },
      "text/plain": [
       "  0%|          | 0/10000 [00:00<?, ?it/s]"
      ]
     },
     "metadata": {},
     "output_type": "display_data"
    },
    {
     "name": "stdout",
     "output_type": "stream",
     "text": [
      "\n",
      " Early Stopping / epoch: 1391 loss: 0.009047\n",
      "----------------------------------------------------------------------------------------------------------\n",
      "lr: 0.0001  patience: 50  num_layers: 2  batch_size: 128  hidden_size: 8  dropout: 0.5 criterion: <function criterion3 at 0x000001F4A9CA7880>\n"
     ]
    },
    {
     "data": {
      "application/vnd.jupyter.widget-view+json": {
       "model_id": "7a4cff00406b486bafe05c1ddf9c66aa",
       "version_major": 2,
       "version_minor": 0
      },
      "text/plain": [
       "  0%|          | 0/10000 [00:00<?, ?it/s]"
      ]
     },
     "metadata": {},
     "output_type": "display_data"
    },
    {
     "name": "stdout",
     "output_type": "stream",
     "text": [
      "\n",
      " Early Stopping / epoch: 1480 loss: 0.001483\n",
      "----------------------------------------------------------------------------------------------------------\n",
      "lr: 0.0001  patience: 50  num_layers: 2  batch_size: 128  hidden_size: 16  dropout: 0.25 criterion: MSELoss()\n"
     ]
    },
    {
     "data": {
      "application/vnd.jupyter.widget-view+json": {
       "model_id": "fe55164dadaa4bf095f3b6636c5838e6",
       "version_major": 2,
       "version_minor": 0
      },
      "text/plain": [
       "  0%|          | 0/10000 [00:00<?, ?it/s]"
      ]
     },
     "metadata": {},
     "output_type": "display_data"
    },
    {
     "name": "stdout",
     "output_type": "stream",
     "text": [
      "\n",
      " Early Stopping / epoch: 1909 loss: 0.000216\n",
      "----------------------------------------------------------------------------------------------------------\n",
      "lr: 0.0001  patience: 50  num_layers: 2  batch_size: 128  hidden_size: 16  dropout: 0.25 criterion: <function criterion2 at 0x000001F4A9CA77F0>\n"
     ]
    },
    {
     "data": {
      "application/vnd.jupyter.widget-view+json": {
       "model_id": "05109806ef3e4fc7903e1ddf84ae240e",
       "version_major": 2,
       "version_minor": 0
      },
      "text/plain": [
       "  0%|          | 0/10000 [00:00<?, ?it/s]"
      ]
     },
     "metadata": {},
     "output_type": "display_data"
    },
    {
     "name": "stdout",
     "output_type": "stream",
     "text": [
      "\n",
      " Early Stopping / epoch: 1597 loss: 0.008434\n",
      "----------------------------------------------------------------------------------------------------------\n",
      "lr: 0.0001  patience: 50  num_layers: 2  batch_size: 128  hidden_size: 16  dropout: 0.25 criterion: <function criterion3 at 0x000001F4A9CA7880>\n"
     ]
    },
    {
     "data": {
      "application/vnd.jupyter.widget-view+json": {
       "model_id": "2f125a63b5d441e8b92eb46684bd1e3c",
       "version_major": 2,
       "version_minor": 0
      },
      "text/plain": [
       "  0%|          | 0/10000 [00:00<?, ?it/s]"
      ]
     },
     "metadata": {},
     "output_type": "display_data"
    },
    {
     "name": "stdout",
     "output_type": "stream",
     "text": [
      "\n",
      " Early Stopping / epoch: 535 loss: 0.001673\n",
      "----------------------------------------------------------------------------------------------------------\n",
      "lr: 0.0001  patience: 50  num_layers: 2  batch_size: 128  hidden_size: 16  dropout: 0.5 criterion: MSELoss()\n"
     ]
    },
    {
     "data": {
      "application/vnd.jupyter.widget-view+json": {
       "model_id": "c5a020ad592442ee942b40bf0e3f063e",
       "version_major": 2,
       "version_minor": 0
      },
      "text/plain": [
       "  0%|          | 0/10000 [00:00<?, ?it/s]"
      ]
     },
     "metadata": {},
     "output_type": "display_data"
    },
    {
     "name": "stdout",
     "output_type": "stream",
     "text": [
      "\n",
      " Early Stopping / epoch: 478 loss: 0.000624\n",
      "----------------------------------------------------------------------------------------------------------\n",
      "lr: 0.0001  patience: 50  num_layers: 2  batch_size: 128  hidden_size: 16  dropout: 0.5 criterion: <function criterion2 at 0x000001F4A9CA77F0>\n"
     ]
    },
    {
     "data": {
      "application/vnd.jupyter.widget-view+json": {
       "model_id": "1d00704e8ecb4da2a3bb54dcdea4b41d",
       "version_major": 2,
       "version_minor": 0
      },
      "text/plain": [
       "  0%|          | 0/10000 [00:00<?, ?it/s]"
      ]
     },
     "metadata": {},
     "output_type": "display_data"
    },
    {
     "name": "stdout",
     "output_type": "stream",
     "text": [
      "\n",
      " Early Stopping / epoch: 1096 loss: 0.008631\n",
      "----------------------------------------------------------------------------------------------------------\n",
      "lr: 0.0001  patience: 50  num_layers: 2  batch_size: 128  hidden_size: 16  dropout: 0.5 criterion: <function criterion3 at 0x000001F4A9CA7880>\n"
     ]
    },
    {
     "data": {
      "application/vnd.jupyter.widget-view+json": {
       "model_id": "e57723b349c04f47b2f02a437702684a",
       "version_major": 2,
       "version_minor": 0
      },
      "text/plain": [
       "  0%|          | 0/10000 [00:00<?, ?it/s]"
      ]
     },
     "metadata": {},
     "output_type": "display_data"
    },
    {
     "name": "stdout",
     "output_type": "stream",
     "text": [
      "\n",
      " Early Stopping / epoch: 1315 loss: 0.001293\n",
      "----------------------------------------------------------------------------------------------------------\n",
      "lr: 0.0001  patience: 50  num_layers: 2  batch_size: 128  hidden_size: 32  dropout: 0.25 criterion: MSELoss()\n"
     ]
    },
    {
     "data": {
      "application/vnd.jupyter.widget-view+json": {
       "model_id": "0cb18feb87ec427abca614548d71a1d1",
       "version_major": 2,
       "version_minor": 0
      },
      "text/plain": [
       "  0%|          | 0/10000 [00:00<?, ?it/s]"
      ]
     },
     "metadata": {},
     "output_type": "display_data"
    },
    {
     "name": "stdout",
     "output_type": "stream",
     "text": [
      "\n",
      " Early Stopping / epoch: 1777 loss: 0.000108\n",
      "----------------------------------------------------------------------------------------------------------\n",
      "lr: 0.0001  patience: 50  num_layers: 2  batch_size: 128  hidden_size: 32  dropout: 0.25 criterion: <function criterion2 at 0x000001F4A9CA77F0>\n"
     ]
    },
    {
     "data": {
      "application/vnd.jupyter.widget-view+json": {
       "model_id": "3e4ea028b6bd4a0cb73fad70d2c4a751",
       "version_major": 2,
       "version_minor": 0
      },
      "text/plain": [
       "  0%|          | 0/10000 [00:00<?, ?it/s]"
      ]
     },
     "metadata": {},
     "output_type": "display_data"
    },
    {
     "name": "stdout",
     "output_type": "stream",
     "text": [
      "\n",
      " Early Stopping / epoch: 1578 loss: 0.007533\n",
      "----------------------------------------------------------------------------------------------------------\n",
      "lr: 0.0001  patience: 50  num_layers: 2  batch_size: 128  hidden_size: 32  dropout: 0.25 criterion: <function criterion3 at 0x000001F4A9CA7880>\n"
     ]
    },
    {
     "data": {
      "application/vnd.jupyter.widget-view+json": {
       "model_id": "4eaf3825ec474e03a02ec7c7241c85b9",
       "version_major": 2,
       "version_minor": 0
      },
      "text/plain": [
       "  0%|          | 0/10000 [00:00<?, ?it/s]"
      ]
     },
     "metadata": {},
     "output_type": "display_data"
    },
    {
     "name": "stdout",
     "output_type": "stream",
     "text": [
      "\n",
      " Early Stopping / epoch: 1201 loss: 0.001120\n",
      "----------------------------------------------------------------------------------------------------------\n",
      "lr: 0.0001  patience: 50  num_layers: 2  batch_size: 128  hidden_size: 32  dropout: 0.5 criterion: MSELoss()\n"
     ]
    },
    {
     "data": {
      "application/vnd.jupyter.widget-view+json": {
       "model_id": "b13ad350f1d8463ca4c972d739ed8514",
       "version_major": 2,
       "version_minor": 0
      },
      "text/plain": [
       "  0%|          | 0/10000 [00:00<?, ?it/s]"
      ]
     },
     "metadata": {},
     "output_type": "display_data"
    },
    {
     "name": "stdout",
     "output_type": "stream",
     "text": [
      "\n",
      " Early Stopping / epoch: 1709 loss: 0.000161\n",
      "----------------------------------------------------------------------------------------------------------\n",
      "lr: 0.0001  patience: 50  num_layers: 2  batch_size: 128  hidden_size: 32  dropout: 0.5 criterion: <function criterion2 at 0x000001F4A9CA77F0>\n"
     ]
    },
    {
     "data": {
      "application/vnd.jupyter.widget-view+json": {
       "model_id": "5554effc0b35489ab0aa0b037432c1cb",
       "version_major": 2,
       "version_minor": 0
      },
      "text/plain": [
       "  0%|          | 0/10000 [00:00<?, ?it/s]"
      ]
     },
     "metadata": {},
     "output_type": "display_data"
    },
    {
     "name": "stdout",
     "output_type": "stream",
     "text": [
      "\n",
      " Early Stopping / epoch: 1929 loss: 0.006872\n",
      "----------------------------------------------------------------------------------------------------------\n",
      "lr: 0.0001  patience: 50  num_layers: 2  batch_size: 128  hidden_size: 32  dropout: 0.5 criterion: <function criterion3 at 0x000001F4A9CA7880>\n"
     ]
    },
    {
     "data": {
      "application/vnd.jupyter.widget-view+json": {
       "model_id": "761050ac2de7466e944be2aa48e1161a",
       "version_major": 2,
       "version_minor": 0
      },
      "text/plain": [
       "  0%|          | 0/10000 [00:00<?, ?it/s]"
      ]
     },
     "metadata": {},
     "output_type": "display_data"
    },
    {
     "name": "stdout",
     "output_type": "stream",
     "text": [
      "\n",
      " Early Stopping / epoch: 1096 loss: 0.001181\n",
      "----------------------------------------------------------------------------------------------------------\n",
      "lr: 0.0001  patience: 50  num_layers: 4  batch_size: 32  hidden_size: 8  dropout: 0.25 criterion: MSELoss()\n"
     ]
    },
    {
     "data": {
      "application/vnd.jupyter.widget-view+json": {
       "model_id": "ab8b00b0a9d44c18bbc6cfe9fed5b575",
       "version_major": 2,
       "version_minor": 0
      },
      "text/plain": [
       "  0%|          | 0/10000 [00:00<?, ?it/s]"
      ]
     },
     "metadata": {},
     "output_type": "display_data"
    },
    {
     "name": "stdout",
     "output_type": "stream",
     "text": [
      "\n",
      " Early Stopping / epoch: 1282 loss: 0.000298\n",
      "----------------------------------------------------------------------------------------------------------\n",
      "lr: 0.0001  patience: 50  num_layers: 4  batch_size: 32  hidden_size: 8  dropout: 0.25 criterion: <function criterion2 at 0x000001F4A9CA77F0>\n"
     ]
    },
    {
     "data": {
      "application/vnd.jupyter.widget-view+json": {
       "model_id": "c9a298547bb0478abc458fb1345f1d27",
       "version_major": 2,
       "version_minor": 0
      },
      "text/plain": [
       "  0%|          | 0/10000 [00:00<?, ?it/s]"
      ]
     },
     "metadata": {},
     "output_type": "display_data"
    },
    {
     "name": "stdout",
     "output_type": "stream",
     "text": [
      "\n",
      " Early Stopping / epoch: 717 loss: 0.009270\n",
      "----------------------------------------------------------------------------------------------------------\n",
      "lr: 0.0001  patience: 50  num_layers: 4  batch_size: 32  hidden_size: 8  dropout: 0.25 criterion: <function criterion3 at 0x000001F4A9CA7880>\n"
     ]
    },
    {
     "data": {
      "application/vnd.jupyter.widget-view+json": {
       "model_id": "4d842935cd294f94a6d39a7e91127a73",
       "version_major": 2,
       "version_minor": 0
      },
      "text/plain": [
       "  0%|          | 0/10000 [00:00<?, ?it/s]"
      ]
     },
     "metadata": {},
     "output_type": "display_data"
    },
    {
     "name": "stdout",
     "output_type": "stream",
     "text": [
      "\n",
      " Early Stopping / epoch: 757 loss: 0.002493\n",
      "----------------------------------------------------------------------------------------------------------\n",
      "lr: 0.0001  patience: 50  num_layers: 4  batch_size: 32  hidden_size: 8  dropout: 0.5 criterion: MSELoss()\n"
     ]
    },
    {
     "data": {
      "application/vnd.jupyter.widget-view+json": {
       "model_id": "8da0d896a5264156b1a17d8a97b4eb40",
       "version_major": 2,
       "version_minor": 0
      },
      "text/plain": [
       "  0%|          | 0/10000 [00:00<?, ?it/s]"
      ]
     },
     "metadata": {},
     "output_type": "display_data"
    },
    {
     "name": "stdout",
     "output_type": "stream",
     "text": [
      "\n",
      " Early Stopping / epoch: 1220 loss: 0.000378\n",
      "----------------------------------------------------------------------------------------------------------\n",
      "lr: 0.0001  patience: 50  num_layers: 4  batch_size: 32  hidden_size: 8  dropout: 0.5 criterion: <function criterion2 at 0x000001F4A9CA77F0>\n"
     ]
    },
    {
     "data": {
      "application/vnd.jupyter.widget-view+json": {
       "model_id": "97eb7146b5364d4fa91bdab6a2804bb9",
       "version_major": 2,
       "version_minor": 0
      },
      "text/plain": [
       "  0%|          | 0/10000 [00:00<?, ?it/s]"
      ]
     },
     "metadata": {},
     "output_type": "display_data"
    },
    {
     "name": "stdout",
     "output_type": "stream",
     "text": [
      "\n",
      " Early Stopping / epoch: 873 loss: 0.009123\n",
      "----------------------------------------------------------------------------------------------------------\n",
      "lr: 0.0001  patience: 50  num_layers: 4  batch_size: 32  hidden_size: 8  dropout: 0.5 criterion: <function criterion3 at 0x000001F4A9CA7880>\n"
     ]
    },
    {
     "data": {
      "application/vnd.jupyter.widget-view+json": {
       "model_id": "3374929d2afb48f49da6c32409620f00",
       "version_major": 2,
       "version_minor": 0
      },
      "text/plain": [
       "  0%|          | 0/10000 [00:00<?, ?it/s]"
      ]
     },
     "metadata": {},
     "output_type": "display_data"
    },
    {
     "name": "stdout",
     "output_type": "stream",
     "text": [
      "\n",
      " Early Stopping / epoch: 509 loss: 0.002574\n",
      "----------------------------------------------------------------------------------------------------------\n",
      "lr: 0.0001  patience: 50  num_layers: 4  batch_size: 32  hidden_size: 16  dropout: 0.25 criterion: MSELoss()\n"
     ]
    },
    {
     "data": {
      "application/vnd.jupyter.widget-view+json": {
       "model_id": "9a98aa5289cf4501a8c6e4578e486570",
       "version_major": 2,
       "version_minor": 0
      },
      "text/plain": [
       "  0%|          | 0/10000 [00:00<?, ?it/s]"
      ]
     },
     "metadata": {},
     "output_type": "display_data"
    },
    {
     "name": "stdout",
     "output_type": "stream",
     "text": [
      "\n",
      " Early Stopping / epoch: 951 loss: 0.000311\n",
      "----------------------------------------------------------------------------------------------------------\n",
      "lr: 0.0001  patience: 50  num_layers: 4  batch_size: 32  hidden_size: 16  dropout: 0.25 criterion: <function criterion2 at 0x000001F4A9CA77F0>\n"
     ]
    },
    {
     "data": {
      "application/vnd.jupyter.widget-view+json": {
       "model_id": "5d3ba1674dd14596a4e122ac12c0d314",
       "version_major": 2,
       "version_minor": 0
      },
      "text/plain": [
       "  0%|          | 0/10000 [00:00<?, ?it/s]"
      ]
     },
     "metadata": {},
     "output_type": "display_data"
    },
    {
     "name": "stdout",
     "output_type": "stream",
     "text": [
      "\n",
      " Early Stopping / epoch: 397 loss: 0.009316\n",
      "----------------------------------------------------------------------------------------------------------\n",
      "lr: 0.0001  patience: 50  num_layers: 4  batch_size: 32  hidden_size: 16  dropout: 0.25 criterion: <function criterion3 at 0x000001F4A9CA7880>\n"
     ]
    },
    {
     "data": {
      "application/vnd.jupyter.widget-view+json": {
       "model_id": "cdc3a87020a24b06a2e6141e9e41a14e",
       "version_major": 2,
       "version_minor": 0
      },
      "text/plain": [
       "  0%|          | 0/10000 [00:00<?, ?it/s]"
      ]
     },
     "metadata": {},
     "output_type": "display_data"
    },
    {
     "name": "stdout",
     "output_type": "stream",
     "text": [
      "\n",
      " Early Stopping / epoch: 1183 loss: 0.001969\n",
      "----------------------------------------------------------------------------------------------------------\n",
      "lr: 0.0001  patience: 50  num_layers: 4  batch_size: 32  hidden_size: 16  dropout: 0.5 criterion: MSELoss()\n"
     ]
    },
    {
     "data": {
      "application/vnd.jupyter.widget-view+json": {
       "model_id": "91ae4cf8512d4ab9b03b771a77fa5f80",
       "version_major": 2,
       "version_minor": 0
      },
      "text/plain": [
       "  0%|          | 0/10000 [00:00<?, ?it/s]"
      ]
     },
     "metadata": {},
     "output_type": "display_data"
    },
    {
     "name": "stdout",
     "output_type": "stream",
     "text": [
      "\n",
      " Early Stopping / epoch: 837 loss: 0.000351\n",
      "----------------------------------------------------------------------------------------------------------\n",
      "lr: 0.0001  patience: 50  num_layers: 4  batch_size: 32  hidden_size: 16  dropout: 0.5 criterion: <function criterion2 at 0x000001F4A9CA77F0>\n"
     ]
    },
    {
     "data": {
      "application/vnd.jupyter.widget-view+json": {
       "model_id": "5dceb52eda944b79a229a62788e5f1d9",
       "version_major": 2,
       "version_minor": 0
      },
      "text/plain": [
       "  0%|          | 0/10000 [00:00<?, ?it/s]"
      ]
     },
     "metadata": {},
     "output_type": "display_data"
    },
    {
     "name": "stdout",
     "output_type": "stream",
     "text": [
      "\n",
      " Early Stopping / epoch: 934 loss: 0.008662\n",
      "----------------------------------------------------------------------------------------------------------\n",
      "lr: 0.0001  patience: 50  num_layers: 4  batch_size: 32  hidden_size: 16  dropout: 0.5 criterion: <function criterion3 at 0x000001F4A9CA7880>\n"
     ]
    },
    {
     "data": {
      "application/vnd.jupyter.widget-view+json": {
       "model_id": "ce7f4cc77fa14bc494a19c95188932f2",
       "version_major": 2,
       "version_minor": 0
      },
      "text/plain": [
       "  0%|          | 0/10000 [00:00<?, ?it/s]"
      ]
     },
     "metadata": {},
     "output_type": "display_data"
    },
    {
     "name": "stdout",
     "output_type": "stream",
     "text": [
      "\n",
      " Early Stopping / epoch: 987 loss: 0.002130\n",
      "----------------------------------------------------------------------------------------------------------\n",
      "lr: 0.0001  patience: 50  num_layers: 4  batch_size: 32  hidden_size: 32  dropout: 0.25 criterion: MSELoss()\n"
     ]
    },
    {
     "data": {
      "application/vnd.jupyter.widget-view+json": {
       "model_id": "408775a44ff04f4895ea574b4bb09f77",
       "version_major": 2,
       "version_minor": 0
      },
      "text/plain": [
       "  0%|          | 0/10000 [00:00<?, ?it/s]"
      ]
     },
     "metadata": {},
     "output_type": "display_data"
    },
    {
     "name": "stdout",
     "output_type": "stream",
     "text": [
      "\n",
      " Early Stopping / epoch: 388 loss: 0.000303\n",
      "----------------------------------------------------------------------------------------------------------\n",
      "lr: 0.0001  patience: 50  num_layers: 4  batch_size: 32  hidden_size: 32  dropout: 0.25 criterion: <function criterion2 at 0x000001F4A9CA77F0>\n"
     ]
    },
    {
     "data": {
      "application/vnd.jupyter.widget-view+json": {
       "model_id": "4cc49a32c83d42b388c165677f94db57",
       "version_major": 2,
       "version_minor": 0
      },
      "text/plain": [
       "  0%|          | 0/10000 [00:00<?, ?it/s]"
      ]
     },
     "metadata": {},
     "output_type": "display_data"
    },
    {
     "name": "stdout",
     "output_type": "stream",
     "text": [
      "\n",
      " Early Stopping / epoch: 1460 loss: 0.006173\n",
      "----------------------------------------------------------------------------------------------------------\n",
      "lr: 0.0001  patience: 50  num_layers: 4  batch_size: 32  hidden_size: 32  dropout: 0.25 criterion: <function criterion3 at 0x000001F4A9CA7880>\n"
     ]
    },
    {
     "data": {
      "application/vnd.jupyter.widget-view+json": {
       "model_id": "6037d84a44414d088ce9487ae9de5d12",
       "version_major": 2,
       "version_minor": 0
      },
      "text/plain": [
       "  0%|          | 0/10000 [00:00<?, ?it/s]"
      ]
     },
     "metadata": {},
     "output_type": "display_data"
    },
    {
     "name": "stdout",
     "output_type": "stream",
     "text": [
      "\n",
      " Early Stopping / epoch: 1067 loss: 0.001704\n",
      "----------------------------------------------------------------------------------------------------------\n",
      "lr: 0.0001  patience: 50  num_layers: 4  batch_size: 32  hidden_size: 32  dropout: 0.5 criterion: MSELoss()\n"
     ]
    },
    {
     "data": {
      "application/vnd.jupyter.widget-view+json": {
       "model_id": "b9d2f35e0daa4ce5bc558bdcc78ab144",
       "version_major": 2,
       "version_minor": 0
      },
      "text/plain": [
       "  0%|          | 0/10000 [00:00<?, ?it/s]"
      ]
     },
     "metadata": {},
     "output_type": "display_data"
    },
    {
     "name": "stdout",
     "output_type": "stream",
     "text": [
      "\n",
      " Early Stopping / epoch: 499 loss: 0.000300\n",
      "----------------------------------------------------------------------------------------------------------\n",
      "lr: 0.0001  patience: 50  num_layers: 4  batch_size: 32  hidden_size: 32  dropout: 0.5 criterion: <function criterion2 at 0x000001F4A9CA77F0>\n"
     ]
    },
    {
     "data": {
      "application/vnd.jupyter.widget-view+json": {
       "model_id": "7ed221a5dccc48fcafafc6763752d050",
       "version_major": 2,
       "version_minor": 0
      },
      "text/plain": [
       "  0%|          | 0/10000 [00:00<?, ?it/s]"
      ]
     },
     "metadata": {},
     "output_type": "display_data"
    },
    {
     "name": "stdout",
     "output_type": "stream",
     "text": [
      "\n",
      " Early Stopping / epoch: 1470 loss: 0.006267\n",
      "----------------------------------------------------------------------------------------------------------\n",
      "lr: 0.0001  patience: 50  num_layers: 4  batch_size: 32  hidden_size: 32  dropout: 0.5 criterion: <function criterion3 at 0x000001F4A9CA7880>\n"
     ]
    },
    {
     "data": {
      "application/vnd.jupyter.widget-view+json": {
       "model_id": "053faf29f8c4478d84a67976a19b8036",
       "version_major": 2,
       "version_minor": 0
      },
      "text/plain": [
       "  0%|          | 0/10000 [00:00<?, ?it/s]"
      ]
     },
     "metadata": {},
     "output_type": "display_data"
    },
    {
     "name": "stdout",
     "output_type": "stream",
     "text": [
      "\n",
      " Early Stopping / epoch: 987 loss: 0.001729\n",
      "----------------------------------------------------------------------------------------------------------\n",
      "lr: 0.0001  patience: 50  num_layers: 4  batch_size: 64  hidden_size: 8  dropout: 0.25 criterion: MSELoss()\n"
     ]
    },
    {
     "data": {
      "application/vnd.jupyter.widget-view+json": {
       "model_id": "cd33fff804404fdb897c577a7cf9de56",
       "version_major": 2,
       "version_minor": 0
      },
      "text/plain": [
       "  0%|          | 0/10000 [00:00<?, ?it/s]"
      ]
     },
     "metadata": {},
     "output_type": "display_data"
    },
    {
     "name": "stdout",
     "output_type": "stream",
     "text": [
      "\n",
      " Early Stopping / epoch: 512 loss: 0.000704\n",
      "----------------------------------------------------------------------------------------------------------\n",
      "lr: 0.0001  patience: 50  num_layers: 4  batch_size: 64  hidden_size: 8  dropout: 0.25 criterion: <function criterion2 at 0x000001F4A9CA77F0>\n"
     ]
    },
    {
     "data": {
      "application/vnd.jupyter.widget-view+json": {
       "model_id": "6684fe59bd044c15bee0f642f1d0fcb7",
       "version_major": 2,
       "version_minor": 0
      },
      "text/plain": [
       "  0%|          | 0/10000 [00:00<?, ?it/s]"
      ]
     },
     "metadata": {},
     "output_type": "display_data"
    },
    {
     "name": "stdout",
     "output_type": "stream",
     "text": [
      "\n",
      " Early Stopping / epoch: 779 loss: 0.009369\n",
      "----------------------------------------------------------------------------------------------------------\n",
      "lr: 0.0001  patience: 50  num_layers: 4  batch_size: 64  hidden_size: 8  dropout: 0.25 criterion: <function criterion3 at 0x000001F4A9CA7880>\n"
     ]
    },
    {
     "data": {
      "application/vnd.jupyter.widget-view+json": {
       "model_id": "1d5ce7b3f8164048b5d4ef0e12d9f4de",
       "version_major": 2,
       "version_minor": 0
      },
      "text/plain": [
       "  0%|          | 0/10000 [00:00<?, ?it/s]"
      ]
     },
     "metadata": {},
     "output_type": "display_data"
    },
    {
     "name": "stdout",
     "output_type": "stream",
     "text": [
      "\n",
      " Early Stopping / epoch: 732 loss: 0.002020\n",
      "----------------------------------------------------------------------------------------------------------\n",
      "lr: 0.0001  patience: 50  num_layers: 4  batch_size: 64  hidden_size: 8  dropout: 0.5 criterion: MSELoss()\n"
     ]
    },
    {
     "data": {
      "application/vnd.jupyter.widget-view+json": {
       "model_id": "c181a68fc0734005a74c56f91f7316da",
       "version_major": 2,
       "version_minor": 0
      },
      "text/plain": [
       "  0%|          | 0/10000 [00:00<?, ?it/s]"
      ]
     },
     "metadata": {},
     "output_type": "display_data"
    },
    {
     "name": "stdout",
     "output_type": "stream",
     "text": [
      "\n",
      " Early Stopping / epoch: 645 loss: 0.000656\n",
      "----------------------------------------------------------------------------------------------------------\n",
      "lr: 0.0001  patience: 50  num_layers: 4  batch_size: 64  hidden_size: 8  dropout: 0.5 criterion: <function criterion2 at 0x000001F4A9CA77F0>\n"
     ]
    },
    {
     "data": {
      "application/vnd.jupyter.widget-view+json": {
       "model_id": "b6c096164c804f3996901188b903cc43",
       "version_major": 2,
       "version_minor": 0
      },
      "text/plain": [
       "  0%|          | 0/10000 [00:00<?, ?it/s]"
      ]
     },
     "metadata": {},
     "output_type": "display_data"
    },
    {
     "name": "stdout",
     "output_type": "stream",
     "text": [
      "\n",
      " Early Stopping / epoch: 943 loss: 0.009294\n",
      "----------------------------------------------------------------------------------------------------------\n",
      "lr: 0.0001  patience: 50  num_layers: 4  batch_size: 64  hidden_size: 8  dropout: 0.5 criterion: <function criterion3 at 0x000001F4A9CA7880>\n"
     ]
    },
    {
     "data": {
      "application/vnd.jupyter.widget-view+json": {
       "model_id": "4cf5991312404690a170c72d2a5029df",
       "version_major": 2,
       "version_minor": 0
      },
      "text/plain": [
       "  0%|          | 0/10000 [00:00<?, ?it/s]"
      ]
     },
     "metadata": {},
     "output_type": "display_data"
    },
    {
     "name": "stdout",
     "output_type": "stream",
     "text": [
      "\n",
      " Early Stopping / epoch: 963 loss: 0.002007\n",
      "----------------------------------------------------------------------------------------------------------\n",
      "lr: 0.0001  patience: 50  num_layers: 4  batch_size: 64  hidden_size: 16  dropout: 0.25 criterion: MSELoss()\n"
     ]
    },
    {
     "data": {
      "application/vnd.jupyter.widget-view+json": {
       "model_id": "beb76c5051e345abaccd9c74448cd069",
       "version_major": 2,
       "version_minor": 0
      },
      "text/plain": [
       "  0%|          | 0/10000 [00:00<?, ?it/s]"
      ]
     },
     "metadata": {},
     "output_type": "display_data"
    },
    {
     "name": "stdout",
     "output_type": "stream",
     "text": [
      "\n",
      " Early Stopping / epoch: 891 loss: 0.000249\n",
      "----------------------------------------------------------------------------------------------------------\n",
      "lr: 0.0001  patience: 50  num_layers: 4  batch_size: 64  hidden_size: 16  dropout: 0.25 criterion: <function criterion2 at 0x000001F4A9CA77F0>\n"
     ]
    },
    {
     "data": {
      "application/vnd.jupyter.widget-view+json": {
       "model_id": "05ccfad532a34467ac2123cb63408433",
       "version_major": 2,
       "version_minor": 0
      },
      "text/plain": [
       "  0%|          | 0/10000 [00:00<?, ?it/s]"
      ]
     },
     "metadata": {},
     "output_type": "display_data"
    },
    {
     "name": "stdout",
     "output_type": "stream",
     "text": [
      "\n",
      " Early Stopping / epoch: 450 loss: 0.009446\n",
      "----------------------------------------------------------------------------------------------------------\n",
      "lr: 0.0001  patience: 50  num_layers: 4  batch_size: 64  hidden_size: 16  dropout: 0.25 criterion: <function criterion3 at 0x000001F4A9CA7880>\n"
     ]
    },
    {
     "data": {
      "application/vnd.jupyter.widget-view+json": {
       "model_id": "b4eb7e3c2e98443cadfa21286b904a08",
       "version_major": 2,
       "version_minor": 0
      },
      "text/plain": [
       "  0%|          | 0/10000 [00:00<?, ?it/s]"
      ]
     },
     "metadata": {},
     "output_type": "display_data"
    },
    {
     "name": "stdout",
     "output_type": "stream",
     "text": [
      "\n",
      " Early Stopping / epoch: 500 loss: 0.002042\n",
      "----------------------------------------------------------------------------------------------------------\n",
      "lr: 0.0001  patience: 50  num_layers: 4  batch_size: 64  hidden_size: 16  dropout: 0.5 criterion: MSELoss()\n"
     ]
    },
    {
     "data": {
      "application/vnd.jupyter.widget-view+json": {
       "model_id": "ebd3fe3a7f384d33ab313151b79f6fd3",
       "version_major": 2,
       "version_minor": 0
      },
      "text/plain": [
       "  0%|          | 0/10000 [00:00<?, ?it/s]"
      ]
     },
     "metadata": {},
     "output_type": "display_data"
    },
    {
     "name": "stdout",
     "output_type": "stream",
     "text": [
      "\n",
      " Early Stopping / epoch: 739 loss: 0.000345\n",
      "----------------------------------------------------------------------------------------------------------\n",
      "lr: 0.0001  patience: 50  num_layers: 4  batch_size: 64  hidden_size: 16  dropout: 0.5 criterion: <function criterion2 at 0x000001F4A9CA77F0>\n"
     ]
    },
    {
     "data": {
      "application/vnd.jupyter.widget-view+json": {
       "model_id": "a62f07efd2874bb2b7142c5663ba4b07",
       "version_major": 2,
       "version_minor": 0
      },
      "text/plain": [
       "  0%|          | 0/10000 [00:00<?, ?it/s]"
      ]
     },
     "metadata": {},
     "output_type": "display_data"
    },
    {
     "name": "stdout",
     "output_type": "stream",
     "text": [
      "\n",
      " Early Stopping / epoch: 437 loss: 0.009361\n",
      "----------------------------------------------------------------------------------------------------------\n",
      "lr: 0.0001  patience: 50  num_layers: 4  batch_size: 64  hidden_size: 16  dropout: 0.5 criterion: <function criterion3 at 0x000001F4A9CA7880>\n"
     ]
    },
    {
     "data": {
      "application/vnd.jupyter.widget-view+json": {
       "model_id": "79b1312af3834a6fa40c257d2f257e94",
       "version_major": 2,
       "version_minor": 0
      },
      "text/plain": [
       "  0%|          | 0/10000 [00:00<?, ?it/s]"
      ]
     },
     "metadata": {},
     "output_type": "display_data"
    },
    {
     "name": "stdout",
     "output_type": "stream",
     "text": [
      "\n",
      " Early Stopping / epoch: 1078 loss: 0.001626\n",
      "----------------------------------------------------------------------------------------------------------\n",
      "lr: 0.0001  patience: 50  num_layers: 4  batch_size: 64  hidden_size: 32  dropout: 0.25 criterion: MSELoss()\n"
     ]
    },
    {
     "data": {
      "application/vnd.jupyter.widget-view+json": {
       "model_id": "031af233cd924b509e35103cb9618889",
       "version_major": 2,
       "version_minor": 0
      },
      "text/plain": [
       "  0%|          | 0/10000 [00:00<?, ?it/s]"
      ]
     },
     "metadata": {},
     "output_type": "display_data"
    },
    {
     "name": "stdout",
     "output_type": "stream",
     "text": [
      "\n",
      " Early Stopping / epoch: 618 loss: 0.000303\n",
      "----------------------------------------------------------------------------------------------------------\n",
      "lr: 0.0001  patience: 50  num_layers: 4  batch_size: 64  hidden_size: 32  dropout: 0.25 criterion: <function criterion2 at 0x000001F4A9CA77F0>\n"
     ]
    },
    {
     "data": {
      "application/vnd.jupyter.widget-view+json": {
       "model_id": "01371559b3744a6ca355e98c6e5d8777",
       "version_major": 2,
       "version_minor": 0
      },
      "text/plain": [
       "  0%|          | 0/10000 [00:00<?, ?it/s]"
      ]
     },
     "metadata": {},
     "output_type": "display_data"
    },
    {
     "name": "stdout",
     "output_type": "stream",
     "text": [
      "\n",
      " Early Stopping / epoch: 1426 loss: 0.006643\n",
      "----------------------------------------------------------------------------------------------------------\n",
      "lr: 0.0001  patience: 50  num_layers: 4  batch_size: 64  hidden_size: 32  dropout: 0.25 criterion: <function criterion3 at 0x000001F4A9CA7880>\n"
     ]
    },
    {
     "data": {
      "application/vnd.jupyter.widget-view+json": {
       "model_id": "ba12f88294a94865af3bbe3db9fae543",
       "version_major": 2,
       "version_minor": 0
      },
      "text/plain": [
       "  0%|          | 0/10000 [00:00<?, ?it/s]"
      ]
     },
     "metadata": {},
     "output_type": "display_data"
    },
    {
     "name": "stdout",
     "output_type": "stream",
     "text": [
      "\n",
      " Early Stopping / epoch: 947 loss: 0.001451\n",
      "----------------------------------------------------------------------------------------------------------\n",
      "lr: 0.0001  patience: 50  num_layers: 4  batch_size: 64  hidden_size: 32  dropout: 0.5 criterion: MSELoss()\n"
     ]
    },
    {
     "data": {
      "application/vnd.jupyter.widget-view+json": {
       "model_id": "607c9a3e02924e9896d2d02f8932a051",
       "version_major": 2,
       "version_minor": 0
      },
      "text/plain": [
       "  0%|          | 0/10000 [00:00<?, ?it/s]"
      ]
     },
     "metadata": {},
     "output_type": "display_data"
    },
    {
     "name": "stdout",
     "output_type": "stream",
     "text": [
      "\n",
      " Early Stopping / epoch: 641 loss: 0.000276\n",
      "----------------------------------------------------------------------------------------------------------\n",
      "lr: 0.0001  patience: 50  num_layers: 4  batch_size: 64  hidden_size: 32  dropout: 0.5 criterion: <function criterion2 at 0x000001F4A9CA77F0>\n"
     ]
    },
    {
     "data": {
      "application/vnd.jupyter.widget-view+json": {
       "model_id": "0aebef52b9ed49c1938dd13a7c2152dc",
       "version_major": 2,
       "version_minor": 0
      },
      "text/plain": [
       "  0%|          | 0/10000 [00:00<?, ?it/s]"
      ]
     },
     "metadata": {},
     "output_type": "display_data"
    },
    {
     "name": "stdout",
     "output_type": "stream",
     "text": [
      "\n",
      " Early Stopping / epoch: 1435 loss: 0.006586\n",
      "----------------------------------------------------------------------------------------------------------\n",
      "lr: 0.0001  patience: 50  num_layers: 4  batch_size: 64  hidden_size: 32  dropout: 0.5 criterion: <function criterion3 at 0x000001F4A9CA7880>\n"
     ]
    },
    {
     "data": {
      "application/vnd.jupyter.widget-view+json": {
       "model_id": "032eaf4fccaa40ea91f8bbd7deffdb58",
       "version_major": 2,
       "version_minor": 0
      },
      "text/plain": [
       "  0%|          | 0/10000 [00:00<?, ?it/s]"
      ]
     },
     "metadata": {},
     "output_type": "display_data"
    },
    {
     "name": "stdout",
     "output_type": "stream",
     "text": [
      "\n",
      " Early Stopping / epoch: 635 loss: 0.001624\n",
      "----------------------------------------------------------------------------------------------------------\n",
      "lr: 0.0001  patience: 50  num_layers: 4  batch_size: 128  hidden_size: 8  dropout: 0.25 criterion: MSELoss()\n"
     ]
    },
    {
     "data": {
      "application/vnd.jupyter.widget-view+json": {
       "model_id": "19be4e1b65de402ca2a1f915c411ffef",
       "version_major": 2,
       "version_minor": 0
      },
      "text/plain": [
       "  0%|          | 0/10000 [00:00<?, ?it/s]"
      ]
     },
     "metadata": {},
     "output_type": "display_data"
    },
    {
     "name": "stdout",
     "output_type": "stream",
     "text": [
      "\n",
      " Early Stopping / epoch: 627 loss: 0.000656\n",
      "----------------------------------------------------------------------------------------------------------\n",
      "lr: 0.0001  patience: 50  num_layers: 4  batch_size: 128  hidden_size: 8  dropout: 0.25 criterion: <function criterion2 at 0x000001F4A9CA77F0>\n"
     ]
    },
    {
     "data": {
      "application/vnd.jupyter.widget-view+json": {
       "model_id": "88c4a7e69733410b824bf3632dcf45a8",
       "version_major": 2,
       "version_minor": 0
      },
      "text/plain": [
       "  0%|          | 0/10000 [00:00<?, ?it/s]"
      ]
     },
     "metadata": {},
     "output_type": "display_data"
    },
    {
     "name": "stdout",
     "output_type": "stream",
     "text": [
      "\n",
      " Early Stopping / epoch: 634 loss: 0.010942\n",
      "----------------------------------------------------------------------------------------------------------\n",
      "lr: 0.0001  patience: 50  num_layers: 4  batch_size: 128  hidden_size: 8  dropout: 0.25 criterion: <function criterion3 at 0x000001F4A9CA7880>\n"
     ]
    },
    {
     "data": {
      "application/vnd.jupyter.widget-view+json": {
       "model_id": "cb97d893b7024f3cb3e5f0b539851691",
       "version_major": 2,
       "version_minor": 0
      },
      "text/plain": [
       "  0%|          | 0/10000 [00:00<?, ?it/s]"
      ]
     },
     "metadata": {},
     "output_type": "display_data"
    },
    {
     "name": "stdout",
     "output_type": "stream",
     "text": [
      "\n",
      " Early Stopping / epoch: 623 loss: 0.001674\n",
      "----------------------------------------------------------------------------------------------------------\n",
      "lr: 0.0001  patience: 50  num_layers: 4  batch_size: 128  hidden_size: 8  dropout: 0.5 criterion: MSELoss()\n"
     ]
    },
    {
     "data": {
      "application/vnd.jupyter.widget-view+json": {
       "model_id": "8b243edcbbf447af845c0f3f0377ecf2",
       "version_major": 2,
       "version_minor": 0
      },
      "text/plain": [
       "  0%|          | 0/10000 [00:00<?, ?it/s]"
      ]
     },
     "metadata": {},
     "output_type": "display_data"
    },
    {
     "name": "stdout",
     "output_type": "stream",
     "text": [
      "\n",
      " Early Stopping / epoch: 1067 loss: 0.000652\n",
      "----------------------------------------------------------------------------------------------------------\n",
      "lr: 0.0001  patience: 50  num_layers: 4  batch_size: 128  hidden_size: 8  dropout: 0.5 criterion: <function criterion2 at 0x000001F4A9CA77F0>\n"
     ]
    },
    {
     "data": {
      "application/vnd.jupyter.widget-view+json": {
       "model_id": "fa64f151afdb4847b4c1af7f2e2327a2",
       "version_major": 2,
       "version_minor": 0
      },
      "text/plain": [
       "  0%|          | 0/10000 [00:00<?, ?it/s]"
      ]
     },
     "metadata": {},
     "output_type": "display_data"
    },
    {
     "name": "stdout",
     "output_type": "stream",
     "text": [
      "\n",
      " Early Stopping / epoch: 617 loss: 0.009666\n",
      "----------------------------------------------------------------------------------------------------------\n",
      "lr: 0.0001  patience: 50  num_layers: 4  batch_size: 128  hidden_size: 8  dropout: 0.5 criterion: <function criterion3 at 0x000001F4A9CA7880>\n"
     ]
    },
    {
     "data": {
      "application/vnd.jupyter.widget-view+json": {
       "model_id": "c053246223b14cf093f49d8147d8ab39",
       "version_major": 2,
       "version_minor": 0
      },
      "text/plain": [
       "  0%|          | 0/10000 [00:00<?, ?it/s]"
      ]
     },
     "metadata": {},
     "output_type": "display_data"
    },
    {
     "name": "stdout",
     "output_type": "stream",
     "text": [
      "\n",
      " Early Stopping / epoch: 618 loss: 0.001702\n",
      "----------------------------------------------------------------------------------------------------------\n",
      "lr: 0.0001  patience: 50  num_layers: 4  batch_size: 128  hidden_size: 16  dropout: 0.25 criterion: MSELoss()\n"
     ]
    },
    {
     "data": {
      "application/vnd.jupyter.widget-view+json": {
       "model_id": "9af15429a9164577b40a4d5b926ede47",
       "version_major": 2,
       "version_minor": 0
      },
      "text/plain": [
       "  0%|          | 0/10000 [00:00<?, ?it/s]"
      ]
     },
     "metadata": {},
     "output_type": "display_data"
    },
    {
     "name": "stdout",
     "output_type": "stream",
     "text": [
      "\n",
      " Early Stopping / epoch: 1278 loss: 0.000315\n",
      "----------------------------------------------------------------------------------------------------------\n",
      "lr: 0.0001  patience: 50  num_layers: 4  batch_size: 128  hidden_size: 16  dropout: 0.25 criterion: <function criterion2 at 0x000001F4A9CA77F0>\n"
     ]
    },
    {
     "data": {
      "application/vnd.jupyter.widget-view+json": {
       "model_id": "50777bf5958e40269332858a9eeb573e",
       "version_major": 2,
       "version_minor": 0
      },
      "text/plain": [
       "  0%|          | 0/10000 [00:00<?, ?it/s]"
      ]
     },
     "metadata": {},
     "output_type": "display_data"
    },
    {
     "name": "stdout",
     "output_type": "stream",
     "text": [
      "\n",
      " Early Stopping / epoch: 519 loss: 0.009190\n",
      "----------------------------------------------------------------------------------------------------------\n",
      "lr: 0.0001  patience: 50  num_layers: 4  batch_size: 128  hidden_size: 16  dropout: 0.25 criterion: <function criterion3 at 0x000001F4A9CA7880>\n"
     ]
    },
    {
     "data": {
      "application/vnd.jupyter.widget-view+json": {
       "model_id": "af7df40b85ec465cb0d001a525a95828",
       "version_major": 2,
       "version_minor": 0
      },
      "text/plain": [
       "  0%|          | 0/10000 [00:00<?, ?it/s]"
      ]
     },
     "metadata": {},
     "output_type": "display_data"
    },
    {
     "name": "stdout",
     "output_type": "stream",
     "text": [
      "\n",
      " Early Stopping / epoch: 1087 loss: 0.001335\n",
      "----------------------------------------------------------------------------------------------------------\n",
      "lr: 0.0001  patience: 50  num_layers: 4  batch_size: 128  hidden_size: 16  dropout: 0.5 criterion: MSELoss()\n"
     ]
    },
    {
     "data": {
      "application/vnd.jupyter.widget-view+json": {
       "model_id": "6c1b9ad63c7c46ccafbbca9cf7912e0f",
       "version_major": 2,
       "version_minor": 0
      },
      "text/plain": [
       "  0%|          | 0/10000 [00:00<?, ?it/s]"
      ]
     },
     "metadata": {},
     "output_type": "display_data"
    },
    {
     "name": "stdout",
     "output_type": "stream",
     "text": [
      "\n",
      " Early Stopping / epoch: 1127 loss: 0.000337\n",
      "----------------------------------------------------------------------------------------------------------\n",
      "lr: 0.0001  patience: 50  num_layers: 4  batch_size: 128  hidden_size: 16  dropout: 0.5 criterion: <function criterion2 at 0x000001F4A9CA77F0>\n"
     ]
    },
    {
     "data": {
      "application/vnd.jupyter.widget-view+json": {
       "model_id": "ea282b29c1364b4ebfec7dd89824fbdf",
       "version_major": 2,
       "version_minor": 0
      },
      "text/plain": [
       "  0%|          | 0/10000 [00:00<?, ?it/s]"
      ]
     },
     "metadata": {},
     "output_type": "display_data"
    },
    {
     "name": "stdout",
     "output_type": "stream",
     "text": [
      "\n",
      " Early Stopping / epoch: 910 loss: 0.008932\n",
      "----------------------------------------------------------------------------------------------------------\n",
      "lr: 0.0001  patience: 50  num_layers: 4  batch_size: 128  hidden_size: 16  dropout: 0.5 criterion: <function criterion3 at 0x000001F4A9CA7880>\n"
     ]
    },
    {
     "data": {
      "application/vnd.jupyter.widget-view+json": {
       "model_id": "5213e8978d3a4ec797b37fea0718802b",
       "version_major": 2,
       "version_minor": 0
      },
      "text/plain": [
       "  0%|          | 0/10000 [00:00<?, ?it/s]"
      ]
     },
     "metadata": {},
     "output_type": "display_data"
    },
    {
     "name": "stdout",
     "output_type": "stream",
     "text": [
      "\n",
      " Early Stopping / epoch: 1107 loss: 0.001381\n",
      "----------------------------------------------------------------------------------------------------------\n",
      "lr: 0.0001  patience: 50  num_layers: 4  batch_size: 128  hidden_size: 32  dropout: 0.25 criterion: MSELoss()\n"
     ]
    },
    {
     "data": {
      "application/vnd.jupyter.widget-view+json": {
       "model_id": "406a97a346bc4f6c85dc8695adc18e79",
       "version_major": 2,
       "version_minor": 0
      },
      "text/plain": [
       "  0%|          | 0/10000 [00:00<?, ?it/s]"
      ]
     },
     "metadata": {},
     "output_type": "display_data"
    },
    {
     "name": "stdout",
     "output_type": "stream",
     "text": [
      "\n",
      " Early Stopping / epoch: 584 loss: 0.000252\n",
      "----------------------------------------------------------------------------------------------------------\n",
      "lr: 0.0001  patience: 50  num_layers: 4  batch_size: 128  hidden_size: 32  dropout: 0.25 criterion: <function criterion2 at 0x000001F4A9CA77F0>\n"
     ]
    },
    {
     "data": {
      "application/vnd.jupyter.widget-view+json": {
       "model_id": "04921810fb824968b3f2a7ec5942718b",
       "version_major": 2,
       "version_minor": 0
      },
      "text/plain": [
       "  0%|          | 0/10000 [00:00<?, ?it/s]"
      ]
     },
     "metadata": {},
     "output_type": "display_data"
    },
    {
     "name": "stdout",
     "output_type": "stream",
     "text": [
      "\n",
      " Early Stopping / epoch: 1988 loss: 0.006014\n",
      "----------------------------------------------------------------------------------------------------------\n",
      "lr: 0.0001  patience: 50  num_layers: 4  batch_size: 128  hidden_size: 32  dropout: 0.25 criterion: <function criterion3 at 0x000001F4A9CA7880>\n"
     ]
    },
    {
     "data": {
      "application/vnd.jupyter.widget-view+json": {
       "model_id": "96b814088e0c4aed9f01c3d77f1e9759",
       "version_major": 2,
       "version_minor": 0
      },
      "text/plain": [
       "  0%|          | 0/10000 [00:00<?, ?it/s]"
      ]
     },
     "metadata": {},
     "output_type": "display_data"
    },
    {
     "name": "stdout",
     "output_type": "stream",
     "text": [
      "\n",
      " Early Stopping / epoch: 784 loss: 0.001215\n",
      "----------------------------------------------------------------------------------------------------------\n",
      "lr: 0.0001  patience: 50  num_layers: 4  batch_size: 128  hidden_size: 32  dropout: 0.5 criterion: MSELoss()\n"
     ]
    },
    {
     "data": {
      "application/vnd.jupyter.widget-view+json": {
       "model_id": "9adb027114794750873f805574846e15",
       "version_major": 2,
       "version_minor": 0
      },
      "text/plain": [
       "  0%|          | 0/10000 [00:00<?, ?it/s]"
      ]
     },
     "metadata": {},
     "output_type": "display_data"
    },
    {
     "name": "stdout",
     "output_type": "stream",
     "text": [
      "\n",
      " Early Stopping / epoch: 1014 loss: 0.000246\n",
      "----------------------------------------------------------------------------------------------------------\n",
      "lr: 0.0001  patience: 50  num_layers: 4  batch_size: 128  hidden_size: 32  dropout: 0.5 criterion: <function criterion2 at 0x000001F4A9CA77F0>\n"
     ]
    },
    {
     "data": {
      "application/vnd.jupyter.widget-view+json": {
       "model_id": "3aa4c61f9e8141feb20d63f0e1c30a26",
       "version_major": 2,
       "version_minor": 0
      },
      "text/plain": [
       "  0%|          | 0/10000 [00:00<?, ?it/s]"
      ]
     },
     "metadata": {},
     "output_type": "display_data"
    },
    {
     "name": "stdout",
     "output_type": "stream",
     "text": [
      "\n",
      " Early Stopping / epoch: 1496 loss: 0.007394\n",
      "----------------------------------------------------------------------------------------------------------\n",
      "lr: 0.0001  patience: 50  num_layers: 4  batch_size: 128  hidden_size: 32  dropout: 0.5 criterion: <function criterion3 at 0x000001F4A9CA7880>\n"
     ]
    },
    {
     "data": {
      "application/vnd.jupyter.widget-view+json": {
       "model_id": "8eb082c0fcad4877ab0298b846bd85be",
       "version_major": 2,
       "version_minor": 0
      },
      "text/plain": [
       "  0%|          | 0/10000 [00:00<?, ?it/s]"
      ]
     },
     "metadata": {},
     "output_type": "display_data"
    },
    {
     "name": "stdout",
     "output_type": "stream",
     "text": [
      "\n",
      " Early Stopping / epoch: 640 loss: 0.001309\n"
     ]
    }
   ],
   "source": [
    "input_size = 3\n",
    "sequence_length = 60\n",
    "num_epochs = 10000\n",
    "\n",
    "df = Prepare_df.processing(data, 'Date', 'alpha')\n",
    "\n",
    "x = df.iloc[:, 0:]\n",
    "y = df.iloc[:,:1]\n",
    "\n",
    "ms = MinMaxScaler()\n",
    "ss = StandardScaler()\n",
    "\n",
    "ss.fit(x)\n",
    "ms.fit(y)\n",
    "\n",
    "mape_min = np.inf\n",
    "best_model = {}\n",
    "\n",
    "for hyperparameter in tqdm(hyperparameter_dict.values(), desc = '서울_seq2seq_LSTM', position = 0):\n",
    "    lr = hyperparameter[0]\n",
    "    patience = hyperparameter[1]\n",
    "    num_layers = hyperparameter[2]\n",
    "    batch_size = hyperparameter[3]\n",
    "    hidden_size = hyperparameter[4]\n",
    "    dropout = hyperparameter[5]\n",
    "    criterion = hyperparameter[6]\n",
    "    print('----------------------------------------------------------------------------------------------------------')\n",
    "    print('lr:', lr, ' patience:', patience, ' num_layers:', num_layers, \n",
    "          ' batch_size:', batch_size, ' hidden_size:', hidden_size, ' dropout:', dropout, 'criterion:', criterion)\n",
    "    \n",
    "    x, y, x_ss, y_ms, train_loader, test_loader = Prepare_df.split_data(df, 800, 60, 7, batch_size, 'mtm')\n",
    "    \n",
    "\n",
    "    model = LSTM_encoder_decoder(input_size = input_size,\n",
    "                                hidden_size = hidden_size,\n",
    "                                num_layers = num_layers, \n",
    "                                dropout = dropout, \n",
    "                                device = device).to(device)\n",
    "\n",
    "    optimizer = Adam(model.parameters(), lr = lr)\n",
    "    \n",
    "    loss_list, model, epoch = Trainer.Many_to_Many(train_loader, \n",
    "                                                   test_loader, \n",
    "                                                   model, \n",
    "                                                   criterion, \n",
    "                                                   optimizer, \n",
    "                                                   num_epochs, \n",
    "                                                   patience,\n",
    "                                                   device)\n",
    "    \n",
    "    label_y, predicted, first_label_y, first_predicted = predict_mtm(model, df, x_ss, y_ms, 1151, 7, 0.5, device)\n",
    "    \n",
    "    if mape_min > mape(label_y+1, predicted):\n",
    "        mape_min = mape(label_y+1, predicted)\n",
    "        best_model['seq2seq_LSTM'] = [mape_min, model, loss_list, epoch, lr, patience, \n",
    "                                     num_layers, batch_size, hidden_size, dropout, criterion]"
   ]
  },
  {
   "cell_type": "code",
   "execution_count": 5,
   "id": "d65cd5c0",
   "metadata": {
    "ExecuteTime": {
     "end_time": "2023-06-05T17:46:47.685011Z",
     "start_time": "2023-06-05T17:46:47.673044Z"
    }
   },
   "outputs": [
    {
     "data": {
      "text/plain": [
       "{'seq2seq_LSTM': [95.55460810661316,\n",
       "  LSTM_encoder_decoder(\n",
       "    (LSTM_encoder): LSTM_encoder(\n",
       "      (lstm): LSTM(3, 8, num_layers=2, batch_first=True, dropout=0.25)\n",
       "    )\n",
       "    (LSTM_decoder): LSTM_decoder(\n",
       "      (lstm): LSTM(3, 8, num_layers=2, batch_first=True, dropout=0.3)\n",
       "      (linear): Linear(in_features=8, out_features=1, bias=True)\n",
       "    )\n",
       "  ),\n",
       "  [0.02421842034906149,\n",
       "   0.012720298524945974,\n",
       "   0.012243352420628071,\n",
       "   0.012110255379229783,\n",
       "   0.01183558689430356,\n",
       "   0.011407324951142073,\n",
       "   0.0113295578956604,\n",
       "   0.010941446665674448,\n",
       "   0.01102881196886301,\n",
       "   0.010899833496659994,\n",
       "   0.010765688121318817,\n",
       "   0.010567587576806545,\n",
       "   0.010495956055819988,\n",
       "   0.010450729932636023,\n",
       "   0.010470484998077154,\n",
       "   0.010230245292186737,\n",
       "   0.010298568233847618,\n",
       "   0.010214339010417461,\n",
       "   0.010247012060135603,\n",
       "   0.010238491147756577,\n",
       "   0.010092495270073413,\n",
       "   0.010147862285375595,\n",
       "   0.010082901753485203,\n",
       "   0.010008432976901531,\n",
       "   0.009929812829941511,\n",
       "   0.009995110630989075,\n",
       "   0.009907472897320985,\n",
       "   0.009930900316685438,\n",
       "   0.009993466194719075,\n",
       "   0.009841379355639219,\n",
       "   0.009882195442914963,\n",
       "   0.00984096499159932,\n",
       "   0.009834464136511088,\n",
       "   0.009781780168414116,\n",
       "   0.009821590837091207,\n",
       "   0.009763643760234118,\n",
       "   0.009823671402409672,\n",
       "   0.00971896355971694,\n",
       "   0.009693051837384701,\n",
       "   0.00974299455061555,\n",
       "   0.009630229864269495,\n",
       "   0.00964332077652216,\n",
       "   0.009612981155514717,\n",
       "   0.00971729662269354,\n",
       "   0.009649639008566737,\n",
       "   0.009594127666205168,\n",
       "   0.009587850803509355,\n",
       "   0.009558630250394344,\n",
       "   0.009570867028087378,\n",
       "   0.009560132678598166,\n",
       "   0.009515255512669683,\n",
       "   0.009514482393860817,\n",
       "   0.00957533836364746,\n",
       "   0.009526329543441535,\n",
       "   0.009565405175089836,\n",
       "   0.009446204584091901,\n",
       "   0.0093946317397058,\n",
       "   0.009452694468200207,\n",
       "   0.009433265775442123,\n",
       "   0.009480669759213925,\n",
       "   0.00946503970772028,\n",
       "   0.009433259675279259,\n",
       "   0.009392456961795687,\n",
       "   0.0094066178239882,\n",
       "   0.009369319453835488,\n",
       "   0.009454343151301146,\n",
       "   0.009357440704479813,\n",
       "   0.009360983911901712,\n",
       "   0.009429966583848,\n",
       "   0.00948970640078187,\n",
       "   0.009334373818710447,\n",
       "   0.009351729126647114,\n",
       "   0.009375348398461937,\n",
       "   0.009326312663033605,\n",
       "   0.009429290089756251,\n",
       "   0.009364746790379287,\n",
       "   0.009394504781812429,\n",
       "   0.009296141257509589,\n",
       "   0.009311148524284362,\n",
       "   0.009344313768669963,\n",
       "   0.009261384587734938,\n",
       "   0.00935902314260602,\n",
       "   0.009285783963277935,\n",
       "   0.009292614609003068,\n",
       "   0.009232804346829653,\n",
       "   0.009323749728500842,\n",
       "   0.009251264054328204,\n",
       "   0.009208665974438191,\n",
       "   0.009343584347516299,\n",
       "   0.009205692326650023,\n",
       "   0.009216253263875842,\n",
       "   0.009346476029604674,\n",
       "   0.00928603439591825,\n",
       "   0.00921397790312767,\n",
       "   0.009297653371468186,\n",
       "   0.009100805558264256,\n",
       "   0.00929273311048746,\n",
       "   0.009178610555827617,\n",
       "   0.009175248891115189,\n",
       "   0.009196746032685041,\n",
       "   0.009173367712646723,\n",
       "   0.009233204387128354,\n",
       "   0.009207659494131803,\n",
       "   0.009155180575326084,\n",
       "   0.009212053902447224,\n",
       "   0.009183910991996527,\n",
       "   0.009175413362681866,\n",
       "   0.00923055773600936,\n",
       "   0.009133370863273739,\n",
       "   0.009178723115473986,\n",
       "   0.00910475431010127,\n",
       "   0.009209600500762463,\n",
       "   0.009123937273398042,\n",
       "   0.009128682408481836,\n",
       "   0.009173629833385348,\n",
       "   0.009112190920859575,\n",
       "   0.009080040361732244,\n",
       "   0.009117157822474837,\n",
       "   0.009159780303016306,\n",
       "   0.009050487643107771,\n",
       "   0.009140364024788142,\n",
       "   0.009093890497460962,\n",
       "   0.009087025783956051,\n",
       "   0.009162473678588866,\n",
       "   0.009119433155283331,\n",
       "   0.009019275614991783,\n",
       "   0.009018942965194583,\n",
       "   0.009064978202804923,\n",
       "   0.009029596652835608,\n",
       "   0.009040260147303343,\n",
       "   0.009062216263264417,\n",
       "   0.00900123368948698,\n",
       "   0.008992845816537738,\n",
       "   0.009026610925793647,\n",
       "   0.00893232438713312,\n",
       "   0.009024210907518863,\n",
       "   0.009022721368819476,\n",
       "   0.008970692381262779,\n",
       "   0.008973199781030417,\n",
       "   0.00907770399004221,\n",
       "   0.009004290271550417,\n",
       "   0.008986986335366964,\n",
       "   0.009023440014570951,\n",
       "   0.008934983965009451,\n",
       "   0.008956440724432468,\n",
       "   0.008931770175695419,\n",
       "   0.008999453242868185,\n",
       "   0.008971496503800153,\n",
       "   0.008910702243447303,\n",
       "   0.008880413845181465,\n",
       "   0.008942379681393504,\n",
       "   0.008924397146329284,\n",
       "   0.008942306116223335,\n",
       "   0.008912808736786246,\n",
       "   0.00894409374333918,\n",
       "   0.009034226825460791,\n",
       "   0.008951937155798078,\n",
       "   0.008932430194690824,\n",
       "   0.00891164330765605,\n",
       "   0.008863821709528565,\n",
       "   0.008895386680960656,\n",
       "   0.008844826631247997,\n",
       "   0.008872689194977284,\n",
       "   0.008820035448297858,\n",
       "   0.008874504240229725,\n",
       "   0.008885305654257537,\n",
       "   0.008852033382281662,\n",
       "   0.008798876143991947,\n",
       "   0.0088257353939116,\n",
       "   0.008822415303438903,\n",
       "   0.00881376190111041,\n",
       "   0.008789946343749761,\n",
       "   0.008842326663434506,\n",
       "   0.008806111132726073,\n",
       "   0.008833729317411781,\n",
       "   0.008808630593121052,\n",
       "   0.008822112381458282,\n",
       "   0.008789635067805647,\n",
       "   0.008752505872398614,\n",
       "   0.008796194838359951,\n",
       "   0.00885743297636509,\n",
       "   0.008697625398635864,\n",
       "   0.008866106262430548,\n",
       "   0.008799312356859445,\n",
       "   0.008783463491126894,\n",
       "   0.008672013683244585,\n",
       "   0.008765816492959856,\n",
       "   0.008714051805436612,\n",
       "   0.008776715621352196,\n",
       "   0.008829226326197386,\n",
       "   0.008816419057548047,\n",
       "   0.008640700737014412,\n",
       "   0.008715910324826836,\n",
       "   0.008729879409074784,\n",
       "   0.008712009601294994,\n",
       "   0.00860218271613121,\n",
       "   0.008706320878118276,\n",
       "   0.008672807328402997,\n",
       "   0.00865685067139566,\n",
       "   0.00870868558064103,\n",
       "   0.00869998510926962,\n",
       "   0.008703676033765078,\n",
       "   0.0086737874802202,\n",
       "   0.008655435796827078,\n",
       "   0.008663096763193608,\n",
       "   0.008639875566586852,\n",
       "   0.00867195136845112,\n",
       "   0.008724866304546594,\n",
       "   0.008619202943518757,\n",
       "   0.0085391138587147,\n",
       "   0.008639494823291897,\n",
       "   0.008638019487261773,\n",
       "   0.008547212844714523,\n",
       "   0.008579968977719545,\n",
       "   0.008488139025866986,\n",
       "   0.008547319006174803,\n",
       "   0.008551122853532434,\n",
       "   0.008549945736303926,\n",
       "   0.00848038530908525,\n",
       "   0.008532711043953896,\n",
       "   0.00848144176416099,\n",
       "   0.008498379988595843,\n",
       "   0.008508476670831442,\n",
       "   0.008439191915094853,\n",
       "   0.008584814807400108,\n",
       "   0.008450816292315722,\n",
       "   0.008375816643238068,\n",
       "   0.008521571541205048,\n",
       "   0.00846251828595996,\n",
       "   0.008503052294254304,\n",
       "   0.008422128846868873,\n",
       "   0.00833213645964861,\n",
       "   0.008414765428751707,\n",
       "   0.008362234309315682,\n",
       "   0.008347352892160416,\n",
       "   0.008379207151010632,\n",
       "   0.008350776005536319,\n",
       "   0.00838023773394525,\n",
       "   0.008427011845633388,\n",
       "   0.00830027611926198,\n",
       "   0.008281614230945707,\n",
       "   0.008239519270136952,\n",
       "   0.008284763498231769,\n",
       "   0.008233605092391372,\n",
       "   0.008227249942719936,\n",
       "   0.008163970010355116,\n",
       "   0.008183414172381163,\n",
       "   0.00820209958590567,\n",
       "   0.008394708260893821,\n",
       "   0.008273317189887166,\n",
       "   0.008138596378266812,\n",
       "   0.008220998635515571,\n",
       "   0.00811820974573493,\n",
       "   0.00823079789057374,\n",
       "   0.008196395859122275,\n",
       "   0.008153802836313844,\n",
       "   0.008080097548663616,\n",
       "   0.008005194002762436,\n",
       "   0.00815172703936696,\n",
       "   0.008012735266238451,\n",
       "   0.007961201341822743,\n",
       "   0.008085793405771256,\n",
       "   0.007928836066275835,\n",
       "   0.008065979043021799,\n",
       "   0.007963554533198476,\n",
       "   0.008087870823219418,\n",
       "   0.007991477698087692,\n",
       "   0.007946742558851838,\n",
       "   0.007915258118882775,\n",
       "   0.007904908750206233,\n",
       "   0.007856749556958675,\n",
       "   0.007948638657107949,\n",
       "   0.007797617157921195,\n",
       "   0.007829942554235459,\n",
       "   0.008111751526594163,\n",
       "   0.00802155677229166,\n",
       "   0.007922606216743589,\n",
       "   0.007857770500704646,\n",
       "   0.008062529247254133,\n",
       "   0.0078045014385133985,\n",
       "   0.007777037853375077,\n",
       "   0.007884602602571249,\n",
       "   0.008050831342115998,\n",
       "   0.0077769066207110885,\n",
       "   0.0077917998563498255,\n",
       "   0.007831384763121604,\n",
       "   0.007989691803231835,\n",
       "   0.007740219216793775,\n",
       "   0.007687629079446197,\n",
       "   0.00766035788692534,\n",
       "   0.00789060533978045,\n",
       "   0.007777650598436594,\n",
       "   0.007677201945334673,\n",
       "   0.008033740352839231,\n",
       "   0.007850025529041887,\n",
       "   0.007598454710096121,\n",
       "   0.007726939609274269,\n",
       "   0.00780999238602817,\n",
       "   0.007771967863664031,\n",
       "   0.007811117563396692,\n",
       "   0.007631293125450611,\n",
       "   0.00788610647432506,\n",
       "   0.007853701515123247,\n",
       "   0.007827758640050888,\n",
       "   0.007565863858908415,\n",
       "   0.007634778888896108,\n",
       "   0.007712967824190855,\n",
       "   0.007618280770257116,\n",
       "   0.00759368316270411,\n",
       "   0.007837022533640265,\n",
       "   0.007633980922400951,\n",
       "   0.007601031176745892,\n",
       "   0.007563927099108696,\n",
       "   0.007672248529270291,\n",
       "   0.007646601125597954,\n",
       "   0.007527672490105033,\n",
       "   0.00756438884884119,\n",
       "   0.007628319226205349,\n",
       "   0.007696469509974122,\n",
       "   0.007808022387325764,\n",
       "   0.0075307111069560055,\n",
       "   0.007733383271843195,\n",
       "   0.0075738335121423,\n",
       "   0.007529876846820116,\n",
       "   0.007581242853775621,\n",
       "   0.007626138683408498,\n",
       "   0.007415437595918775,\n",
       "   0.007621950916945935,\n",
       "   0.007488686302676797,\n",
       "   0.007576591549441219,\n",
       "   0.00767977125942707,\n",
       "   0.007598457420244813,\n",
       "   0.007501710616052151,\n",
       "   0.007561517972499132,\n",
       "   0.007539438595995307,\n",
       "   0.007816783217713237,\n",
       "   0.00750612991861999,\n",
       "   0.007375894179567695,\n",
       "   0.007344037294387817,\n",
       "   0.007530210372060538,\n",
       "   0.007495054546743631,\n",
       "   0.0074795076902955775,\n",
       "   0.007429435737431049,\n",
       "   0.007544245515018702,\n",
       "   0.007419217778369784,\n",
       "   0.007574010007083416,\n",
       "   0.007476307321339846,\n",
       "   0.007366564916446805,\n",
       "   0.0075433088187128305,\n",
       "   0.0076332250796258445,\n",
       "   0.007676776461303234,\n",
       "   0.0072745959181338546,\n",
       "   0.0075778619106858965,\n",
       "   0.007480178195983171,\n",
       "   0.007702789353206754,\n",
       "   0.007313778139650822,\n",
       "   0.007310184463858604,\n",
       "   0.0073449757136404515,\n",
       "   0.007583061680197716,\n",
       "   0.007420788714662194,\n",
       "   0.007543170964345336,\n",
       "   0.0072739527374506,\n",
       "   0.0075908262096345425,\n",
       "   0.007290773475542665,\n",
       "   0.007388188736513257,\n",
       "   0.0074005322251468894,\n",
       "   0.007491837842389941,\n",
       "   0.007677505724132061,\n",
       "   0.007407698556780815,\n",
       "   0.0074315916653722525,\n",
       "   0.00729477996006608,\n",
       "   0.007452157894149423,\n",
       "   0.0072432127874344585,\n",
       "   0.007419048491865397,\n",
       "   0.007300143782049418,\n",
       "   0.007537428168579936,\n",
       "   0.0073253006581217054,\n",
       "   0.007322903582826256,\n",
       "   0.007362817907705903,\n",
       "   0.007454437697306276,\n",
       "   0.007299027256667614,\n",
       "   0.007496193004772067,\n",
       "   0.007263300083577633,\n",
       "   0.007319371867924929,\n",
       "   0.007523468844592571,\n",
       "   0.007374477526172996,\n",
       "   0.007207286302000284,\n",
       "   0.007209373600780964,\n",
       "   0.007471182495355606,\n",
       "   0.007366463206708431,\n",
       "   0.007317484291270375,\n",
       "   0.007326645152643323,\n",
       "   0.007254688469693064,\n",
       "   0.007396203018724918,\n",
       "   0.007370557049289346,\n",
       "   0.007264677928760648,\n",
       "   0.007161241490393877,\n",
       "   0.007259236108511686,\n",
       "   0.007214489597827196,\n",
       "   0.00723960354924202,\n",
       "   0.007228129887953401,\n",
       "   0.00740900949575007,\n",
       "   0.007404504586011171,\n",
       "   0.007261714283376932,\n",
       "   0.0072014389093965295,\n",
       "   0.007297288589179516,\n",
       "   0.00749085727147758,\n",
       "   0.007407514303922653,\n",
       "   0.00731192602775991,\n",
       "   0.007149097891524434,\n",
       "   0.0073345537763088945,\n",
       "   0.007220923574641347,\n",
       "   0.007265047384425998,\n",
       "   0.007192592862993479,\n",
       "   0.0073439368698745965,\n",
       "   0.00748556406237185,\n",
       "   0.007190533000975847,\n",
       "   0.007306563463062048,\n",
       "   0.007140787625685334,\n",
       "   0.007176071936264634,\n",
       "   0.007248458378016949,\n",
       "   0.007231206987053156,\n",
       "   0.007163415513932705,\n",
       "   0.007335290191695094,\n",
       "   0.007131919004023075,\n",
       "   0.007559609934687615,\n",
       "   0.0071967511344701056,\n",
       "   0.00706058788113296,\n",
       "   0.007078447472304105,\n",
       "   0.007364601120352745,\n",
       "   0.0074176417943090205,\n",
       "   0.007097683968022466,\n",
       "   0.007169807041063905,\n",
       "   0.007141453055664897,\n",
       "   0.00727455229498446,\n",
       "   0.007200576867908239,\n",
       "   0.007396643627434969,\n",
       "   0.007153339283540845,\n",
       "   0.007253562640398741,\n",
       "   0.007398917637765408,\n",
       "   0.007090353798121214,\n",
       "   0.007242174288257956,\n",
       "   0.007075023930519819,\n",
       "   0.007084987526759505,\n",
       "   0.00725970153696835,\n",
       "   0.007164927199482918,\n",
       "   0.007153542470186949,\n",
       "   0.007039851918816567,\n",
       "   0.007155196098610758,\n",
       "   0.007043478721752763,\n",
       "   0.007237706296145916,\n",
       "   0.007232731450349092,\n",
       "   0.007415816830471158,\n",
       "   0.007216706620529294,\n",
       "   0.007114733839407563,\n",
       "   0.00732328693382442,\n",
       "   0.0071071585454046725,\n",
       "   0.007072527715936303,\n",
       "   0.007010782454162836,\n",
       "   0.0071132770460098985,\n",
       "   0.00714106010273099,\n",
       "   0.007115357043221593,\n",
       "   0.007071874085813761,\n",
       "   0.007157903723418712,\n",
       "   0.0071258316468447444,\n",
       "   0.007431044299155473,\n",
       "   0.007003143327310681,\n",
       "   0.007095036106184125,\n",
       "   0.007397073404863477,\n",
       "   0.007022735876962543,\n",
       "   0.006950588412582875,\n",
       "   0.007051351824775338,\n",
       "   0.007060006679967046,\n",
       "   0.007113769119605422,\n",
       "   0.0070763111859560015,\n",
       "   0.0069974697660654785,\n",
       "   0.00721530344337225,\n",
       "   0.007259086286649108,\n",
       "   0.007216854616999626,\n",
       "   0.007052988326177001,\n",
       "   0.007162817539647221,\n",
       "   0.006985244601964951,\n",
       "   0.007048507332801819,\n",
       "   0.0069647708535194395,\n",
       "   0.007238158350810408,\n",
       "   0.007155742198228836,\n",
       "   0.007020998587831855,\n",
       "   0.007166286651045084,\n",
       "   0.007076436625793576,\n",
       "   0.007088769404217601,\n",
       "   0.007014766484498978,\n",
       "   0.006980490079149604],\n",
       "  491,\n",
       "  0.001,\n",
       "  20,\n",
       "  2,\n",
       "  32,\n",
       "  8,\n",
       "  0.25,\n",
       "  <function utils.criterion2(actual, predict)>]}"
      ]
     },
     "execution_count": 5,
     "metadata": {},
     "output_type": "execute_result"
    }
   ],
   "source": [
    "best_model"
   ]
  },
  {
   "cell_type": "code",
   "execution_count": 6,
   "id": "71f9397e",
   "metadata": {
    "ExecuteTime": {
     "end_time": "2023-06-05T17:46:47.700969Z",
     "start_time": "2023-06-05T17:46:47.687006Z"
    }
   },
   "outputs": [],
   "source": [
    "save_model(best_model['seq2seq_LSTM'][1].state_dict(), \"model/SIR/seq2seq_LSTM.pth\")\n",
    "save_hyperparameter(best_model['seq2seq_LSTM'][3:], \"hyperparameter/SIR/seq2seq_LSTM.pkl\")"
   ]
  },
  {
   "cell_type": "code",
   "execution_count": 7,
   "id": "cc212753",
   "metadata": {
    "ExecuteTime": {
     "end_time": "2023-06-05T17:46:47.906223Z",
     "start_time": "2023-06-05T17:46:47.703961Z"
    }
   },
   "outputs": [
    {
     "data": {
      "text/plain": [
       "[<matplotlib.lines.Line2D at 0x1f551263f10>]"
      ]
     },
     "execution_count": 7,
     "metadata": {},
     "output_type": "execute_result"
    },
    {
     "data": {
      "image/png": "[encoded data removed]",
      "text/plain": [
       "<Figure size 640x480 with 1 Axes>"
      ]
     },
     "metadata": {},
     "output_type": "display_data"
    }
   ],
   "source": [
    "plt.plot(best_model['seq2seq_LSTM'][2])"
   ]
  },
  {
   "cell_type": "code",
   "execution_count": 8,
   "id": "34a084bd",
   "metadata": {
    "ExecuteTime": {
     "end_time": "2023-06-05T17:46:47.937175Z",
     "start_time": "2023-06-05T17:46:47.909218Z"
    }
   },
   "outputs": [],
   "source": [
    "label_y, predicted, first_label_y, first_predicted = predict_mtm(best_model['seq2seq_LSTM'][1], df, x_ss, y_ms, 1151, 7, 0.5, device)"
   ]
  },
  {
   "cell_type": "code",
   "execution_count": 10,
   "id": "ae1e2beb",
   "metadata": {
    "ExecuteTime": {
     "end_time": "2023-06-05T17:46:48.301201Z",
     "start_time": "2023-06-05T17:46:48.128664Z"
    }
   },
   "outputs": [
    {
     "name": "stdout",
     "output_type": "stream",
     "text": [
      "87.57179975509644\n"
     ]
    },
    {
     "data": {
      "image/png": "[encoded data removed]",
      "text/plain": [
       "<Figure size 1000x600 with 1 Axes>"
      ]
     },
     "metadata": {},
     "output_type": "display_data"
    }
   ],
   "source": [
    "print(mape(first_label_y+1, first_predicted))\n",
    "plotting(first_label_y, first_predicted, 800)"
   ]
  },
  {
   "cell_type": "code",
   "execution_count": 11,
   "id": "b379d651",
   "metadata": {
    "ExecuteTime": {
     "end_time": "2023-06-05T17:46:48.443163Z",
     "start_time": "2023-06-05T17:46:48.303196Z"
    }
   },
   "outputs": [
    {
     "data": {
      "text/html": [
       "<div>\n",
       "<style scoped>\n",
       "    .dataframe tbody tr th:only-of-type {\n",
       "        vertical-align: middle;\n",
       "    }\n",
       "\n",
       "    .dataframe tbody tr th {\n",
       "        vertical-align: top;\n",
       "    }\n",
       "\n",
       "    .dataframe thead th {\n",
       "        text-align: right;\n",
       "    }\n",
       "</style>\n",
       "<table border=\"1\" class=\"dataframe\">\n",
       "  <thead>\n",
       "    <tr style=\"text-align: right;\">\n",
       "      <th></th>\n",
       "      <th>Date</th>\n",
       "      <th>City</th>\n",
       "      <th>Susceptible</th>\n",
       "      <th>Infected</th>\n",
       "      <th>Dead</th>\n",
       "      <th>Recovered</th>\n",
       "      <th>alpha</th>\n",
       "      <th>beta</th>\n",
       "      <th>gamma</th>\n",
       "      <th>predicted_alpha</th>\n",
       "      <th>predicted_Infected</th>\n",
       "    </tr>\n",
       "  </thead>\n",
       "  <tbody>\n",
       "    <tr>\n",
       "      <th>0</th>\n",
       "      <td>2020-01-20</td>\n",
       "      <td>서울</td>\n",
       "      <td>9535432</td>\n",
       "      <td>0</td>\n",
       "      <td>0</td>\n",
       "      <td>0</td>\n",
       "      <td>0.000000</td>\n",
       "      <td>0.000000</td>\n",
       "      <td>0.000000</td>\n",
       "      <td>0.000000</td>\n",
       "      <td>0.000000e+00</td>\n",
       "    </tr>\n",
       "    <tr>\n",
       "      <th>1</th>\n",
       "      <td>2020-01-21</td>\n",
       "      <td>서울</td>\n",
       "      <td>9535432</td>\n",
       "      <td>0</td>\n",
       "      <td>0</td>\n",
       "      <td>0</td>\n",
       "      <td>0.000000</td>\n",
       "      <td>0.000000</td>\n",
       "      <td>0.000000</td>\n",
       "      <td>0.000000</td>\n",
       "      <td>0.000000e+00</td>\n",
       "    </tr>\n",
       "    <tr>\n",
       "      <th>2</th>\n",
       "      <td>2020-01-22</td>\n",
       "      <td>서울</td>\n",
       "      <td>9535432</td>\n",
       "      <td>0</td>\n",
       "      <td>0</td>\n",
       "      <td>0</td>\n",
       "      <td>0.000000</td>\n",
       "      <td>0.000000</td>\n",
       "      <td>0.000000</td>\n",
       "      <td>0.000000</td>\n",
       "      <td>0.000000e+00</td>\n",
       "    </tr>\n",
       "    <tr>\n",
       "      <th>3</th>\n",
       "      <td>2020-01-23</td>\n",
       "      <td>서울</td>\n",
       "      <td>9535432</td>\n",
       "      <td>0</td>\n",
       "      <td>0</td>\n",
       "      <td>0</td>\n",
       "      <td>0.000000</td>\n",
       "      <td>0.000000</td>\n",
       "      <td>0.000000</td>\n",
       "      <td>0.000000</td>\n",
       "      <td>0.000000e+00</td>\n",
       "    </tr>\n",
       "    <tr>\n",
       "      <th>4</th>\n",
       "      <td>2020-01-24</td>\n",
       "      <td>서울</td>\n",
       "      <td>9535431</td>\n",
       "      <td>1</td>\n",
       "      <td>0</td>\n",
       "      <td>0</td>\n",
       "      <td>0.000000</td>\n",
       "      <td>0.000000</td>\n",
       "      <td>0.000000</td>\n",
       "      <td>0.000000</td>\n",
       "      <td>1.000000e+00</td>\n",
       "    </tr>\n",
       "    <tr>\n",
       "      <th>...</th>\n",
       "      <td>...</td>\n",
       "      <td>...</td>\n",
       "      <td>...</td>\n",
       "      <td>...</td>\n",
       "      <td>...</td>\n",
       "      <td>...</td>\n",
       "      <td>...</td>\n",
       "      <td>...</td>\n",
       "      <td>...</td>\n",
       "      <td>...</td>\n",
       "      <td>...</td>\n",
       "    </tr>\n",
       "    <tr>\n",
       "      <th>1214</th>\n",
       "      <td>2023-05-20</td>\n",
       "      <td>서울</td>\n",
       "      <td>3372946</td>\n",
       "      <td>63591</td>\n",
       "      <td>6471</td>\n",
       "      <td>6092424</td>\n",
       "      <td>0.186540</td>\n",
       "      <td>0.169175</td>\n",
       "      <td>0.000031</td>\n",
       "      <td>0.331193</td>\n",
       "      <td>7.770006e+09</td>\n",
       "    </tr>\n",
       "    <tr>\n",
       "      <th>1215</th>\n",
       "      <td>2023-05-21</td>\n",
       "      <td>서울</td>\n",
       "      <td>3368750</td>\n",
       "      <td>57027</td>\n",
       "      <td>6473</td>\n",
       "      <td>6103182</td>\n",
       "      <td>0.063087</td>\n",
       "      <td>0.028793</td>\n",
       "      <td>0.000053</td>\n",
       "      <td>0.420536</td>\n",
       "      <td>7.365544e+09</td>\n",
       "    </tr>\n",
       "    <tr>\n",
       "      <th>1216</th>\n",
       "      <td>2023-05-22</td>\n",
       "      <td>서울</td>\n",
       "      <td>3367479</td>\n",
       "      <td>56653</td>\n",
       "      <td>6476</td>\n",
       "      <td>6104824</td>\n",
       "      <td>0.268003</td>\n",
       "      <td>0.101407</td>\n",
       "      <td>0.000018</td>\n",
       "      <td>0.288907</td>\n",
       "      <td>8.247378e+09</td>\n",
       "    </tr>\n",
       "    <tr>\n",
       "      <th>1217</th>\n",
       "      <td>2023-05-23</td>\n",
       "      <td>서울</td>\n",
       "      <td>3362117</td>\n",
       "      <td>56269</td>\n",
       "      <td>6477</td>\n",
       "      <td>6110569</td>\n",
       "      <td>0.267742</td>\n",
       "      <td>0.099895</td>\n",
       "      <td>0.000036</td>\n",
       "      <td>0.556385</td>\n",
       "      <td>8.252361e+09</td>\n",
       "    </tr>\n",
       "    <tr>\n",
       "      <th>1218</th>\n",
       "      <td>2023-05-24</td>\n",
       "      <td>서울</td>\n",
       "      <td>3356805</td>\n",
       "      <td>55958</td>\n",
       "      <td>6479</td>\n",
       "      <td>6116190</td>\n",
       "      <td>0.000000</td>\n",
       "      <td>0.000000</td>\n",
       "      <td>0.000000</td>\n",
       "      <td>0.531497</td>\n",
       "      <td>9.046620e+09</td>\n",
       "    </tr>\n",
       "  </tbody>\n",
       "</table>\n",
       "<p>1219 rows × 11 columns</p>\n",
       "</div>"
      ],
      "text/plain": [
       "            Date City  Susceptible  Infected  Dead  Recovered     alpha  \\\n",
       "0     2020-01-20   서울      9535432         0     0          0  0.000000   \n",
       "1     2020-01-21   서울      9535432         0     0          0  0.000000   \n",
       "2     2020-01-22   서울      9535432         0     0          0  0.000000   \n",
       "3     2020-01-23   서울      9535432         0     0          0  0.000000   \n",
       "4     2020-01-24   서울      9535431         1     0          0  0.000000   \n",
       "...          ...  ...          ...       ...   ...        ...       ...   \n",
       "1214  2023-05-20   서울      3372946     63591  6471    6092424  0.186540   \n",
       "1215  2023-05-21   서울      3368750     57027  6473    6103182  0.063087   \n",
       "1216  2023-05-22   서울      3367479     56653  6476    6104824  0.268003   \n",
       "1217  2023-05-23   서울      3362117     56269  6477    6110569  0.267742   \n",
       "1218  2023-05-24   서울      3356805     55958  6479    6116190  0.000000   \n",
       "\n",
       "          beta     gamma  predicted_alpha  predicted_Infected  \n",
       "0     0.000000  0.000000         0.000000        0.000000e+00  \n",
       "1     0.000000  0.000000         0.000000        0.000000e+00  \n",
       "2     0.000000  0.000000         0.000000        0.000000e+00  \n",
       "3     0.000000  0.000000         0.000000        0.000000e+00  \n",
       "4     0.000000  0.000000         0.000000        1.000000e+00  \n",
       "...        ...       ...              ...                 ...  \n",
       "1214  0.169175  0.000031         0.331193        7.770006e+09  \n",
       "1215  0.028793  0.000053         0.420536        7.365544e+09  \n",
       "1216  0.101407  0.000018         0.288907        8.247378e+09  \n",
       "1217  0.099895  0.000036         0.556385        8.252361e+09  \n",
       "1218  0.000000  0.000000         0.531497        9.046620e+09  \n",
       "\n",
       "[1219 rows x 11 columns]"
      ]
     },
     "execution_count": 11,
     "metadata": {},
     "output_type": "execute_result"
    }
   ],
   "source": [
    "data_predicted = data.copy()\n",
    "data_predicted['predicted_alpha'] = 0\n",
    "data_predicted.iloc[68:, -1] = first_predicted\n",
    "data_predicted['predicted_Infected'] = data_predicted['Infected']\n",
    "for i in range(801, len(data_predicted)):\n",
    "    data_predicted.iloc[i, -1] = (data_predicted.iloc[i-1, -1]\n",
    "                                  *(1-data_predicted.iloc[i-1, 7] - data_predicted.iloc[i-1, 8]\n",
    "                                    +(data_predicted.iloc[i-1, 2]*data_predicted.iloc[i-1, 9]\n",
    "                                      /data_predicted.iloc[0, 2])))\n",
    "data_predicted"
   ]
  },
  {
   "cell_type": "code",
   "execution_count": 12,
   "id": "ea357fc1",
   "metadata": {
    "ExecuteTime": {
     "end_time": "2023-06-05T17:46:48.600333Z",
     "start_time": "2023-06-05T17:46:48.445130Z"
    }
   },
   "outputs": [
    {
     "data": {
      "image/png": "[encoded data removed]",
      "text/plain": [
       "<Figure size 1000x600 with 1 Axes>"
      ]
     },
     "metadata": {},
     "output_type": "display_data"
    }
   ],
   "source": [
    "plotting(data_predicted['Infected'], data_predicted['predicted_Infected'], 800)"
   ]
  },
  {
   "cell_type": "code",
   "execution_count": null,
   "id": "94e1cfc4",
   "metadata": {},
   "outputs": [],
   "source": []
  },
  {
   "cell_type": "code",
   "execution_count": null,
   "id": "186e0b3e",
   "metadata": {},
   "outputs": [],
   "source": []
  }
 ],
 "metadata": {
  "kernelspec": {
   "display_name": "KDA_DA",
   "language": "python",
   "name": "kda_da"
  },
  "language_info": {
   "codemirror_mode": {
    "name": "ipython",
    "version": 3
   },
   "file_extension": ".py",
   "mimetype": "text/x-python",
   "name": "python",
   "nbconvert_exporter": "python",
   "pygments_lexer": "ipython3",
   "version": "3.10.8"
  },
  "toc": {
   "base_numbering": 1,
   "nav_menu": {},
   "number_sections": true,
   "sideBar": true,
   "skip_h1_title": false,
   "title_cell": "Table of Contents",
   "title_sidebar": "Contents",
   "toc_cell": false,
   "toc_position": {},
   "toc_section_display": true,
   "toc_window_display": false
  }
 },
 "nbformat": 4,
 "nbformat_minor": 5
}
