{
 "cells": [
  {
   "cell_type": "code",
   "execution_count": 1,
   "id": "7ef1b38b",
   "metadata": {
    "ExecuteTime": {
     "end_time": "2023-06-02T21:15:53.754401Z",
     "start_time": "2023-06-02T21:15:51.289843Z"
    }
   },
   "outputs": [],
   "source": [
    "import os\n",
    "os.chdir('D:\\\\Gnan\\\\DA\\\\KMU\\\\Prediction-COVID-19')\n",
    "from utils import *\n",
    "from model import *\n",
    "from trainer import *\n",
    "\n",
    "from tqdm.notebook import tqdm\n",
    "from torch.optim.adam import Adam\n",
    "device = torch.device('cuda:0' if torch.cuda.is_available() else 'cpu')\n",
    "\n",
    "import warnings\n",
    "warnings.filterwarnings('ignore')"
   ]
  },
  {
   "cell_type": "code",
   "execution_count": 2,
   "id": "90d1bf81",
   "metadata": {
    "ExecuteTime": {
     "end_time": "2023-06-02T21:15:53.833606Z",
     "start_time": "2023-06-02T21:15:53.757366Z"
    }
   },
   "outputs": [
    {
     "data": {
      "text/html": [
       "<div>\n",
       "<style scoped>\n",
       "    .dataframe tbody tr th:only-of-type {\n",
       "        vertical-align: middle;\n",
       "    }\n",
       "\n",
       "    .dataframe tbody tr th {\n",
       "        vertical-align: top;\n",
       "    }\n",
       "\n",
       "    .dataframe thead th {\n",
       "        text-align: right;\n",
       "    }\n",
       "</style>\n",
       "<table border=\"1\" class=\"dataframe\">\n",
       "  <thead>\n",
       "    <tr style=\"text-align: right;\">\n",
       "      <th></th>\n",
       "      <th>Date</th>\n",
       "      <th>City</th>\n",
       "      <th>Susceptible</th>\n",
       "      <th>Infected</th>\n",
       "      <th>Dead</th>\n",
       "      <th>Recovered</th>\n",
       "      <th>alpha</th>\n",
       "      <th>beta</th>\n",
       "      <th>gamma</th>\n",
       "    </tr>\n",
       "  </thead>\n",
       "  <tbody>\n",
       "    <tr>\n",
       "      <th>0</th>\n",
       "      <td>2020-01-20</td>\n",
       "      <td>서울</td>\n",
       "      <td>9535432</td>\n",
       "      <td>0</td>\n",
       "      <td>0</td>\n",
       "      <td>0</td>\n",
       "      <td>0.000000</td>\n",
       "      <td>0.000000</td>\n",
       "      <td>0.000000</td>\n",
       "    </tr>\n",
       "    <tr>\n",
       "      <th>1</th>\n",
       "      <td>2020-01-21</td>\n",
       "      <td>서울</td>\n",
       "      <td>9535432</td>\n",
       "      <td>0</td>\n",
       "      <td>0</td>\n",
       "      <td>0</td>\n",
       "      <td>0.000000</td>\n",
       "      <td>0.000000</td>\n",
       "      <td>0.000000</td>\n",
       "    </tr>\n",
       "    <tr>\n",
       "      <th>2</th>\n",
       "      <td>2020-01-22</td>\n",
       "      <td>서울</td>\n",
       "      <td>9535432</td>\n",
       "      <td>0</td>\n",
       "      <td>0</td>\n",
       "      <td>0</td>\n",
       "      <td>0.000000</td>\n",
       "      <td>0.000000</td>\n",
       "      <td>0.000000</td>\n",
       "    </tr>\n",
       "    <tr>\n",
       "      <th>3</th>\n",
       "      <td>2020-01-23</td>\n",
       "      <td>서울</td>\n",
       "      <td>9535432</td>\n",
       "      <td>0</td>\n",
       "      <td>0</td>\n",
       "      <td>0</td>\n",
       "      <td>0.000000</td>\n",
       "      <td>0.000000</td>\n",
       "      <td>0.000000</td>\n",
       "    </tr>\n",
       "    <tr>\n",
       "      <th>4</th>\n",
       "      <td>2020-01-24</td>\n",
       "      <td>서울</td>\n",
       "      <td>9535431</td>\n",
       "      <td>1</td>\n",
       "      <td>0</td>\n",
       "      <td>0</td>\n",
       "      <td>0.000000</td>\n",
       "      <td>0.000000</td>\n",
       "      <td>0.000000</td>\n",
       "    </tr>\n",
       "    <tr>\n",
       "      <th>...</th>\n",
       "      <td>...</td>\n",
       "      <td>...</td>\n",
       "      <td>...</td>\n",
       "      <td>...</td>\n",
       "      <td>...</td>\n",
       "      <td>...</td>\n",
       "      <td>...</td>\n",
       "      <td>...</td>\n",
       "      <td>...</td>\n",
       "    </tr>\n",
       "    <tr>\n",
       "      <th>1214</th>\n",
       "      <td>2023-05-20</td>\n",
       "      <td>서울</td>\n",
       "      <td>3372946</td>\n",
       "      <td>63591</td>\n",
       "      <td>6471</td>\n",
       "      <td>6092424</td>\n",
       "      <td>0.186540</td>\n",
       "      <td>0.169175</td>\n",
       "      <td>0.000031</td>\n",
       "    </tr>\n",
       "    <tr>\n",
       "      <th>1215</th>\n",
       "      <td>2023-05-21</td>\n",
       "      <td>서울</td>\n",
       "      <td>3368750</td>\n",
       "      <td>57027</td>\n",
       "      <td>6473</td>\n",
       "      <td>6103182</td>\n",
       "      <td>0.063087</td>\n",
       "      <td>0.028793</td>\n",
       "      <td>0.000053</td>\n",
       "    </tr>\n",
       "    <tr>\n",
       "      <th>1216</th>\n",
       "      <td>2023-05-22</td>\n",
       "      <td>서울</td>\n",
       "      <td>3367479</td>\n",
       "      <td>56653</td>\n",
       "      <td>6476</td>\n",
       "      <td>6104824</td>\n",
       "      <td>0.268003</td>\n",
       "      <td>0.101407</td>\n",
       "      <td>0.000018</td>\n",
       "    </tr>\n",
       "    <tr>\n",
       "      <th>1217</th>\n",
       "      <td>2023-05-23</td>\n",
       "      <td>서울</td>\n",
       "      <td>3362117</td>\n",
       "      <td>56269</td>\n",
       "      <td>6477</td>\n",
       "      <td>6110569</td>\n",
       "      <td>0.267742</td>\n",
       "      <td>0.099895</td>\n",
       "      <td>0.000036</td>\n",
       "    </tr>\n",
       "    <tr>\n",
       "      <th>1218</th>\n",
       "      <td>2023-05-24</td>\n",
       "      <td>서울</td>\n",
       "      <td>3356805</td>\n",
       "      <td>55958</td>\n",
       "      <td>6479</td>\n",
       "      <td>6116190</td>\n",
       "      <td>0.000000</td>\n",
       "      <td>0.000000</td>\n",
       "      <td>0.000000</td>\n",
       "    </tr>\n",
       "  </tbody>\n",
       "</table>\n",
       "<p>1219 rows × 9 columns</p>\n",
       "</div>"
      ],
      "text/plain": [
       "            Date City  Susceptible  Infected  Dead  Recovered     alpha  \\\n",
       "0     2020-01-20   서울      9535432         0     0          0  0.000000   \n",
       "1     2020-01-21   서울      9535432         0     0          0  0.000000   \n",
       "2     2020-01-22   서울      9535432         0     0          0  0.000000   \n",
       "3     2020-01-23   서울      9535432         0     0          0  0.000000   \n",
       "4     2020-01-24   서울      9535431         1     0          0  0.000000   \n",
       "...          ...  ...          ...       ...   ...        ...       ...   \n",
       "1214  2023-05-20   서울      3372946     63591  6471    6092424  0.186540   \n",
       "1215  2023-05-21   서울      3368750     57027  6473    6103182  0.063087   \n",
       "1216  2023-05-22   서울      3367479     56653  6476    6104824  0.268003   \n",
       "1217  2023-05-23   서울      3362117     56269  6477    6110569  0.267742   \n",
       "1218  2023-05-24   서울      3356805     55958  6479    6116190  0.000000   \n",
       "\n",
       "          beta     gamma  \n",
       "0     0.000000  0.000000  \n",
       "1     0.000000  0.000000  \n",
       "2     0.000000  0.000000  \n",
       "3     0.000000  0.000000  \n",
       "4     0.000000  0.000000  \n",
       "...        ...       ...  \n",
       "1214  0.169175  0.000031  \n",
       "1215  0.028793  0.000053  \n",
       "1216  0.101407  0.000018  \n",
       "1217  0.099895  0.000036  \n",
       "1218  0.000000  0.000000  \n",
       "\n",
       "[1219 rows x 9 columns]"
      ]
     },
     "execution_count": 2,
     "metadata": {},
     "output_type": "execute_result"
    }
   ],
   "source": [
    "path = 'Data/SIR_Origin/*.csv'\n",
    "dic_files = Load_files.load_files(path, -17, -15)\n",
    "data = dic_files['서울']\n",
    "data"
   ]
  },
  {
   "cell_type": "code",
   "execution_count": 3,
   "id": "069fbcf7",
   "metadata": {
    "ExecuteTime": {
     "end_time": "2023-06-02T21:15:53.849681Z",
     "start_time": "2023-06-02T21:15:53.835601Z"
    }
   },
   "outputs": [
    {
     "name": "stdout",
     "output_type": "stream",
     "text": [
      "648\n"
     ]
    }
   ],
   "source": [
    "learning_rates_list = [1e-3, 1e-4]\n",
    "patiences_list = [20, 50]\n",
    "num_layers_list = [1, 2, 4]\n",
    "batch_sizes_list = [32, 64, 128]\n",
    "hidden_sizes_list = [8, 16, 32]\n",
    "dropout_list = [0.25, 0.5]\n",
    "criterions_list = [nn.MSELoss(), criterion2, criterion3]\n",
    "\n",
    "hyperparameter_dict = {}\n",
    "i = 0\n",
    "\n",
    "for lr in learning_rates_list:\n",
    "    for patience in patiences_list:\n",
    "        for num_layers in num_layers_list:\n",
    "            for batch_sizes in batch_sizes_list:\n",
    "                for hidden_size in hidden_sizes_list:    \n",
    "                    for dropout in dropout_list:\n",
    "                        for criterion in criterions_list:\n",
    "                            hyperparameter_dict[i] = [lr, patience, num_layers, batch_sizes, hidden_size, dropout, criterion]\n",
    "                            i += 1\n",
    "                        \n",
    "print(i)"
   ]
  },
  {
   "cell_type": "code",
   "execution_count": 4,
   "id": "cb2b2e51",
   "metadata": {
    "ExecuteTime": {
     "end_time": "2023-06-04T07:25:06.840361Z",
     "start_time": "2023-06-02T21:15:53.851648Z"
    }
   },
   "outputs": [
    {
     "data": {
      "application/vnd.jupyter.widget-view+json": {
       "model_id": "e8e50127b36d411da1b195b0a9d437a4",
       "version_major": 2,
       "version_minor": 0
      },
      "text/plain": [
       "서울_seq2seqq_RNN:   0%|          | 0/648 [00:00<?, ?it/s]"
      ]
     },
     "metadata": {},
     "output_type": "display_data"
    },
    {
     "name": "stdout",
     "output_type": "stream",
     "text": [
      "----------------------------------------------------------------------------------------------------------\n",
      "lr: 0.001  patience: 20  num_layers: 2  batch_size: 32  hidden_size: 8  dropout: 0.25 criterion: MSELoss()\n"
     ]
    },
    {
     "data": {
      "application/vnd.jupyter.widget-view+json": {
       "model_id": "71f6a6c9c29b4cd1a9c41cc094c02b89",
       "version_major": 2,
       "version_minor": 0
      },
      "text/plain": [
       "  0%|          | 0/10000 [00:00<?, ?it/s]"
      ]
     },
     "metadata": {},
     "output_type": "display_data"
    },
    {
     "name": "stdout",
     "output_type": "stream",
     "text": [
      "\n",
      " Early Stopping / epoch: 83 loss: 0.000684\n",
      "----------------------------------------------------------------------------------------------------------\n",
      "lr: 0.001  patience: 20  num_layers: 2  batch_size: 32  hidden_size: 8  dropout: 0.25 criterion: <function criterion2 at 0x0000017347E337F0>\n"
     ]
    },
    {
     "data": {
      "application/vnd.jupyter.widget-view+json": {
       "model_id": "effc53179e784685abf5a2e14ef1b116",
       "version_major": 2,
       "version_minor": 0
      },
      "text/plain": [
       "  0%|          | 0/10000 [00:00<?, ?it/s]"
      ]
     },
     "metadata": {},
     "output_type": "display_data"
    },
    {
     "name": "stdout",
     "output_type": "stream",
     "text": [
      "\n",
      " Early Stopping / epoch: 161 loss: 0.009483\n",
      "----------------------------------------------------------------------------------------------------------\n",
      "lr: 0.001  patience: 20  num_layers: 2  batch_size: 32  hidden_size: 8  dropout: 0.25 criterion: <function criterion3 at 0x0000017347E33880>\n"
     ]
    },
    {
     "data": {
      "application/vnd.jupyter.widget-view+json": {
       "model_id": "7f68d8434ad64a64a347d616b4392212",
       "version_major": 2,
       "version_minor": 0
      },
      "text/plain": [
       "  0%|          | 0/10000 [00:00<?, ?it/s]"
      ]
     },
     "metadata": {},
     "output_type": "display_data"
    },
    {
     "name": "stdout",
     "output_type": "stream",
     "text": [
      "\n",
      " Early Stopping / epoch: 196 loss: 0.002546\n",
      "----------------------------------------------------------------------------------------------------------\n",
      "lr: 0.001  patience: 20  num_layers: 2  batch_size: 32  hidden_size: 8  dropout: 0.5 criterion: MSELoss()\n"
     ]
    },
    {
     "data": {
      "application/vnd.jupyter.widget-view+json": {
       "model_id": "61a5d072bb5b48bba5bfa0b75b337eca",
       "version_major": 2,
       "version_minor": 0
      },
      "text/plain": [
       "  0%|          | 0/10000 [00:00<?, ?it/s]"
      ]
     },
     "metadata": {},
     "output_type": "display_data"
    },
    {
     "name": "stdout",
     "output_type": "stream",
     "text": [
      "\n",
      " Early Stopping / epoch: 162 loss: 0.000663\n",
      "----------------------------------------------------------------------------------------------------------\n",
      "lr: 0.001  patience: 20  num_layers: 2  batch_size: 32  hidden_size: 8  dropout: 0.5 criterion: <function criterion2 at 0x0000017347E337F0>\n"
     ]
    },
    {
     "data": {
      "application/vnd.jupyter.widget-view+json": {
       "model_id": "e64d07e334f94c88922c4c47768a2b3b",
       "version_major": 2,
       "version_minor": 0
      },
      "text/plain": [
       "  0%|          | 0/10000 [00:00<?, ?it/s]"
      ]
     },
     "metadata": {},
     "output_type": "display_data"
    },
    {
     "name": "stdout",
     "output_type": "stream",
     "text": [
      "\n",
      " Early Stopping / epoch: 270 loss: 0.009402\n",
      "----------------------------------------------------------------------------------------------------------\n",
      "lr: 0.001  patience: 20  num_layers: 2  batch_size: 32  hidden_size: 8  dropout: 0.5 criterion: <function criterion3 at 0x0000017347E33880>\n"
     ]
    },
    {
     "data": {
      "application/vnd.jupyter.widget-view+json": {
       "model_id": "6236ac4b5a0a4f2aa555870ccd4293ae",
       "version_major": 2,
       "version_minor": 0
      },
      "text/plain": [
       "  0%|          | 0/10000 [00:00<?, ?it/s]"
      ]
     },
     "metadata": {},
     "output_type": "display_data"
    },
    {
     "name": "stdout",
     "output_type": "stream",
     "text": [
      "\n",
      " Early Stopping / epoch: 264 loss: 0.002500\n",
      "----------------------------------------------------------------------------------------------------------\n",
      "lr: 0.001  patience: 20  num_layers: 2  batch_size: 32  hidden_size: 16  dropout: 0.25 criterion: MSELoss()\n"
     ]
    },
    {
     "data": {
      "application/vnd.jupyter.widget-view+json": {
       "model_id": "a73443cbbf5c483f9005df5dd8339ee0",
       "version_major": 2,
       "version_minor": 0
      },
      "text/plain": [
       "  0%|          | 0/10000 [00:00<?, ?it/s]"
      ]
     },
     "metadata": {},
     "output_type": "display_data"
    },
    {
     "name": "stdout",
     "output_type": "stream",
     "text": [
      "\n",
      " Early Stopping / epoch: 282 loss: 0.000210\n",
      "----------------------------------------------------------------------------------------------------------\n",
      "lr: 0.001  patience: 20  num_layers: 2  batch_size: 32  hidden_size: 16  dropout: 0.25 criterion: <function criterion2 at 0x0000017347E337F0>\n"
     ]
    },
    {
     "data": {
      "application/vnd.jupyter.widget-view+json": {
       "model_id": "b39ad9291d90496c86970eab477745a4",
       "version_major": 2,
       "version_minor": 0
      },
      "text/plain": [
       "  0%|          | 0/10000 [00:00<?, ?it/s]"
      ]
     },
     "metadata": {},
     "output_type": "display_data"
    },
    {
     "name": "stdout",
     "output_type": "stream",
     "text": [
      "\n",
      " Early Stopping / epoch: 199 loss: 0.009355\n",
      "----------------------------------------------------------------------------------------------------------\n",
      "lr: 0.001  patience: 20  num_layers: 2  batch_size: 32  hidden_size: 16  dropout: 0.25 criterion: <function criterion3 at 0x0000017347E33880>\n"
     ]
    },
    {
     "data": {
      "application/vnd.jupyter.widget-view+json": {
       "model_id": "1c6521fd6b0841a688a3dbacad34407c",
       "version_major": 2,
       "version_minor": 0
      },
      "text/plain": [
       "  0%|          | 0/10000 [00:00<?, ?it/s]"
      ]
     },
     "metadata": {},
     "output_type": "display_data"
    },
    {
     "name": "stdout",
     "output_type": "stream",
     "text": [
      "\n",
      " Early Stopping / epoch: 203 loss: 0.002298\n",
      "----------------------------------------------------------------------------------------------------------\n",
      "lr: 0.001  patience: 20  num_layers: 2  batch_size: 32  hidden_size: 16  dropout: 0.5 criterion: MSELoss()\n"
     ]
    },
    {
     "data": {
      "application/vnd.jupyter.widget-view+json": {
       "model_id": "78e4de98fe524d03b2b0642cefa1611f",
       "version_major": 2,
       "version_minor": 0
      },
      "text/plain": [
       "  0%|          | 0/10000 [00:00<?, ?it/s]"
      ]
     },
     "metadata": {},
     "output_type": "display_data"
    },
    {
     "name": "stdout",
     "output_type": "stream",
     "text": [
      "\n",
      " Early Stopping / epoch: 392 loss: 0.000168\n",
      "----------------------------------------------------------------------------------------------------------\n",
      "lr: 0.001  patience: 20  num_layers: 2  batch_size: 32  hidden_size: 16  dropout: 0.5 criterion: <function criterion2 at 0x0000017347E337F0>\n"
     ]
    },
    {
     "data": {
      "application/vnd.jupyter.widget-view+json": {
       "model_id": "27243f5f6c4243bba80f4e06c053d806",
       "version_major": 2,
       "version_minor": 0
      },
      "text/plain": [
       "  0%|          | 0/10000 [00:00<?, ?it/s]"
      ]
     },
     "metadata": {},
     "output_type": "display_data"
    },
    {
     "name": "stdout",
     "output_type": "stream",
     "text": [
      "\n",
      " Early Stopping / epoch: 223 loss: 0.008769\n",
      "----------------------------------------------------------------------------------------------------------\n",
      "lr: 0.001  patience: 20  num_layers: 2  batch_size: 32  hidden_size: 16  dropout: 0.5 criterion: <function criterion3 at 0x0000017347E33880>\n"
     ]
    },
    {
     "data": {
      "application/vnd.jupyter.widget-view+json": {
       "model_id": "d8b0772c2b9b4f9b9ffaf86ce94a3b20",
       "version_major": 2,
       "version_minor": 0
      },
      "text/plain": [
       "  0%|          | 0/10000 [00:00<?, ?it/s]"
      ]
     },
     "metadata": {},
     "output_type": "display_data"
    },
    {
     "name": "stdout",
     "output_type": "stream",
     "text": [
      "\n",
      " Early Stopping / epoch: 154 loss: 0.002523\n",
      "----------------------------------------------------------------------------------------------------------\n",
      "lr: 0.001  patience: 20  num_layers: 2  batch_size: 32  hidden_size: 32  dropout: 0.25 criterion: MSELoss()\n"
     ]
    },
    {
     "data": {
      "application/vnd.jupyter.widget-view+json": {
       "model_id": "f7a00ec06df04a0699cc47fd6e956376",
       "version_major": 2,
       "version_minor": 0
      },
      "text/plain": [
       "  0%|          | 0/10000 [00:00<?, ?it/s]"
      ]
     },
     "metadata": {},
     "output_type": "display_data"
    },
    {
     "name": "stdout",
     "output_type": "stream",
     "text": [
      "\n",
      " Early Stopping / epoch: 245 loss: 0.000157\n",
      "----------------------------------------------------------------------------------------------------------\n",
      "lr: 0.001  patience: 20  num_layers: 2  batch_size: 32  hidden_size: 32  dropout: 0.25 criterion: <function criterion2 at 0x0000017347E337F0>\n"
     ]
    },
    {
     "data": {
      "application/vnd.jupyter.widget-view+json": {
       "model_id": "c463805deb594b8ba646af4a35e7b553",
       "version_major": 2,
       "version_minor": 0
      },
      "text/plain": [
       "  0%|          | 0/10000 [00:00<?, ?it/s]"
      ]
     },
     "metadata": {},
     "output_type": "display_data"
    },
    {
     "name": "stdout",
     "output_type": "stream",
     "text": [
      "\n",
      " Early Stopping / epoch: 276 loss: 0.007502\n",
      "----------------------------------------------------------------------------------------------------------\n",
      "lr: 0.001  patience: 20  num_layers: 2  batch_size: 32  hidden_size: 32  dropout: 0.25 criterion: <function criterion3 at 0x0000017347E33880>\n"
     ]
    },
    {
     "data": {
      "application/vnd.jupyter.widget-view+json": {
       "model_id": "904e205ef46b4c6f8deafb0dfd975c77",
       "version_major": 2,
       "version_minor": 0
      },
      "text/plain": [
       "  0%|          | 0/10000 [00:00<?, ?it/s]"
      ]
     },
     "metadata": {},
     "output_type": "display_data"
    },
    {
     "name": "stdout",
     "output_type": "stream",
     "text": [
      "\n",
      " Early Stopping / epoch: 163 loss: 0.002310\n",
      "----------------------------------------------------------------------------------------------------------\n",
      "lr: 0.001  patience: 20  num_layers: 2  batch_size: 32  hidden_size: 32  dropout: 0.5 criterion: MSELoss()\n"
     ]
    },
    {
     "data": {
      "application/vnd.jupyter.widget-view+json": {
       "model_id": "b83654d6763545748718bc5985f4f9c8",
       "version_major": 2,
       "version_minor": 0
      },
      "text/plain": [
       "  0%|          | 0/10000 [00:00<?, ?it/s]"
      ]
     },
     "metadata": {},
     "output_type": "display_data"
    },
    {
     "name": "stdout",
     "output_type": "stream",
     "text": [
      "\n",
      " Early Stopping / epoch: 214 loss: 0.000216\n",
      "----------------------------------------------------------------------------------------------------------\n",
      "lr: 0.001  patience: 20  num_layers: 2  batch_size: 32  hidden_size: 32  dropout: 0.5 criterion: <function criterion2 at 0x0000017347E337F0>\n"
     ]
    },
    {
     "data": {
      "application/vnd.jupyter.widget-view+json": {
       "model_id": "34f3e6eab0e54f3ab9340dc924462e22",
       "version_major": 2,
       "version_minor": 0
      },
      "text/plain": [
       "  0%|          | 0/10000 [00:00<?, ?it/s]"
      ]
     },
     "metadata": {},
     "output_type": "display_data"
    },
    {
     "name": "stdout",
     "output_type": "stream",
     "text": [
      "\n",
      " Early Stopping / epoch: 173 loss: 0.008767\n",
      "----------------------------------------------------------------------------------------------------------\n",
      "lr: 0.001  patience: 20  num_layers: 2  batch_size: 32  hidden_size: 32  dropout: 0.5 criterion: <function criterion3 at 0x0000017347E33880>\n"
     ]
    },
    {
     "data": {
      "application/vnd.jupyter.widget-view+json": {
       "model_id": "7816f7f066a647a9bfce1394e6c22723",
       "version_major": 2,
       "version_minor": 0
      },
      "text/plain": [
       "  0%|          | 0/10000 [00:00<?, ?it/s]"
      ]
     },
     "metadata": {},
     "output_type": "display_data"
    },
    {
     "name": "stdout",
     "output_type": "stream",
     "text": [
      "\n",
      " Early Stopping / epoch: 110 loss: 0.002560\n",
      "----------------------------------------------------------------------------------------------------------\n",
      "lr: 0.001  patience: 20  num_layers: 2  batch_size: 64  hidden_size: 8  dropout: 0.25 criterion: MSELoss()\n"
     ]
    },
    {
     "data": {
      "application/vnd.jupyter.widget-view+json": {
       "model_id": "5eb3c6e0e3384f67af42aba478ea7253",
       "version_major": 2,
       "version_minor": 0
      },
      "text/plain": [
       "  0%|          | 0/10000 [00:00<?, ?it/s]"
      ]
     },
     "metadata": {},
     "output_type": "display_data"
    },
    {
     "name": "stdout",
     "output_type": "stream",
     "text": [
      "\n",
      " Early Stopping / epoch: 145 loss: 0.000673\n",
      "----------------------------------------------------------------------------------------------------------\n",
      "lr: 0.001  patience: 20  num_layers: 2  batch_size: 64  hidden_size: 8  dropout: 0.25 criterion: <function criterion2 at 0x0000017347E337F0>\n"
     ]
    },
    {
     "data": {
      "application/vnd.jupyter.widget-view+json": {
       "model_id": "1503fe2f08a94566b78036cffaea8870",
       "version_major": 2,
       "version_minor": 0
      },
      "text/plain": [
       "  0%|          | 0/10000 [00:00<?, ?it/s]"
      ]
     },
     "metadata": {},
     "output_type": "display_data"
    },
    {
     "name": "stdout",
     "output_type": "stream",
     "text": [
      "\n",
      " Early Stopping / epoch: 377 loss: 0.008735\n",
      "----------------------------------------------------------------------------------------------------------\n",
      "lr: 0.001  patience: 20  num_layers: 2  batch_size: 64  hidden_size: 8  dropout: 0.25 criterion: <function criterion3 at 0x0000017347E33880>\n"
     ]
    },
    {
     "data": {
      "application/vnd.jupyter.widget-view+json": {
       "model_id": "945b0877321740988dff64149a69d453",
       "version_major": 2,
       "version_minor": 0
      },
      "text/plain": [
       "  0%|          | 0/10000 [00:00<?, ?it/s]"
      ]
     },
     "metadata": {},
     "output_type": "display_data"
    },
    {
     "name": "stdout",
     "output_type": "stream",
     "text": [
      "\n",
      " Early Stopping / epoch: 186 loss: 0.001930\n",
      "----------------------------------------------------------------------------------------------------------\n",
      "lr: 0.001  patience: 20  num_layers: 2  batch_size: 64  hidden_size: 8  dropout: 0.5 criterion: MSELoss()\n"
     ]
    },
    {
     "data": {
      "application/vnd.jupyter.widget-view+json": {
       "model_id": "5a15c521e1e5437a85ae65e8bad75e3a",
       "version_major": 2,
       "version_minor": 0
      },
      "text/plain": [
       "  0%|          | 0/10000 [00:00<?, ?it/s]"
      ]
     },
     "metadata": {},
     "output_type": "display_data"
    },
    {
     "name": "stdout",
     "output_type": "stream",
     "text": [
      "\n",
      " Early Stopping / epoch: 149 loss: 0.000668\n",
      "----------------------------------------------------------------------------------------------------------\n",
      "lr: 0.001  patience: 20  num_layers: 2  batch_size: 64  hidden_size: 8  dropout: 0.5 criterion: <function criterion2 at 0x0000017347E337F0>\n"
     ]
    },
    {
     "data": {
      "application/vnd.jupyter.widget-view+json": {
       "model_id": "19170be802a649899809704751b1e87b",
       "version_major": 2,
       "version_minor": 0
      },
      "text/plain": [
       "  0%|          | 0/10000 [00:00<?, ?it/s]"
      ]
     },
     "metadata": {},
     "output_type": "display_data"
    },
    {
     "name": "stdout",
     "output_type": "stream",
     "text": [
      "\n",
      " Early Stopping / epoch: 371 loss: 0.009031\n",
      "----------------------------------------------------------------------------------------------------------\n",
      "lr: 0.001  patience: 20  num_layers: 2  batch_size: 64  hidden_size: 8  dropout: 0.5 criterion: <function criterion3 at 0x0000017347E33880>\n"
     ]
    },
    {
     "data": {
      "application/vnd.jupyter.widget-view+json": {
       "model_id": "b2d2215ad56145f4bb54eef680a20cf8",
       "version_major": 2,
       "version_minor": 0
      },
      "text/plain": [
       "  0%|          | 0/10000 [00:00<?, ?it/s]"
      ]
     },
     "metadata": {},
     "output_type": "display_data"
    },
    {
     "name": "stdout",
     "output_type": "stream",
     "text": [
      "\n",
      " Early Stopping / epoch: 243 loss: 0.001999\n",
      "----------------------------------------------------------------------------------------------------------\n",
      "lr: 0.001  patience: 20  num_layers: 2  batch_size: 64  hidden_size: 16  dropout: 0.25 criterion: MSELoss()\n"
     ]
    },
    {
     "data": {
      "application/vnd.jupyter.widget-view+json": {
       "model_id": "ec146a66423b43c59d883845e4ec411a",
       "version_major": 2,
       "version_minor": 0
      },
      "text/plain": [
       "  0%|          | 0/10000 [00:00<?, ?it/s]"
      ]
     },
     "metadata": {},
     "output_type": "display_data"
    },
    {
     "name": "stdout",
     "output_type": "stream",
     "text": [
      "\n",
      " Early Stopping / epoch: 108 loss: 0.000655\n",
      "----------------------------------------------------------------------------------------------------------\n",
      "lr: 0.001  patience: 20  num_layers: 2  batch_size: 64  hidden_size: 16  dropout: 0.25 criterion: <function criterion2 at 0x0000017347E337F0>\n"
     ]
    },
    {
     "data": {
      "application/vnd.jupyter.widget-view+json": {
       "model_id": "b80a696db31248dc9e2774b58060e7b6",
       "version_major": 2,
       "version_minor": 0
      },
      "text/plain": [
       "  0%|          | 0/10000 [00:00<?, ?it/s]"
      ]
     },
     "metadata": {},
     "output_type": "display_data"
    },
    {
     "name": "stdout",
     "output_type": "stream",
     "text": [
      "\n",
      " Early Stopping / epoch: 173 loss: 0.008935\n",
      "----------------------------------------------------------------------------------------------------------\n",
      "lr: 0.001  patience: 20  num_layers: 2  batch_size: 64  hidden_size: 16  dropout: 0.25 criterion: <function criterion3 at 0x0000017347E33880>\n"
     ]
    },
    {
     "data": {
      "application/vnd.jupyter.widget-view+json": {
       "model_id": "0bdea3675c5049719a99d962561e3d92",
       "version_major": 2,
       "version_minor": 0
      },
      "text/plain": [
       "  0%|          | 0/10000 [00:00<?, ?it/s]"
      ]
     },
     "metadata": {},
     "output_type": "display_data"
    },
    {
     "name": "stdout",
     "output_type": "stream",
     "text": [
      "\n",
      " Early Stopping / epoch: 160 loss: 0.001903\n",
      "----------------------------------------------------------------------------------------------------------\n",
      "lr: 0.001  patience: 20  num_layers: 2  batch_size: 64  hidden_size: 16  dropout: 0.5 criterion: MSELoss()\n"
     ]
    },
    {
     "data": {
      "application/vnd.jupyter.widget-view+json": {
       "model_id": "24217d18c1b64c2c80c506f26839dbeb",
       "version_major": 2,
       "version_minor": 0
      },
      "text/plain": [
       "  0%|          | 0/10000 [00:00<?, ?it/s]"
      ]
     },
     "metadata": {},
     "output_type": "display_data"
    },
    {
     "name": "stdout",
     "output_type": "stream",
     "text": [
      "\n",
      " Early Stopping / epoch: 97 loss: 0.000673\n",
      "----------------------------------------------------------------------------------------------------------\n",
      "lr: 0.001  patience: 20  num_layers: 2  batch_size: 64  hidden_size: 16  dropout: 0.5 criterion: <function criterion2 at 0x0000017347E337F0>\n"
     ]
    },
    {
     "data": {
      "application/vnd.jupyter.widget-view+json": {
       "model_id": "400013da29ee4921b87e9e5ae283e7ed",
       "version_major": 2,
       "version_minor": 0
      },
      "text/plain": [
       "  0%|          | 0/10000 [00:00<?, ?it/s]"
      ]
     },
     "metadata": {},
     "output_type": "display_data"
    },
    {
     "name": "stdout",
     "output_type": "stream",
     "text": [
      "\n",
      " Early Stopping / epoch: 105 loss: 0.009336\n",
      "----------------------------------------------------------------------------------------------------------\n",
      "lr: 0.001  patience: 20  num_layers: 2  batch_size: 64  hidden_size: 16  dropout: 0.5 criterion: <function criterion3 at 0x0000017347E33880>\n"
     ]
    },
    {
     "data": {
      "application/vnd.jupyter.widget-view+json": {
       "model_id": "39523cca3584443998d6d4bfbb243ac0",
       "version_major": 2,
       "version_minor": 0
      },
      "text/plain": [
       "  0%|          | 0/10000 [00:00<?, ?it/s]"
      ]
     },
     "metadata": {},
     "output_type": "display_data"
    },
    {
     "name": "stdout",
     "output_type": "stream",
     "text": [
      "\n",
      " Early Stopping / epoch: 93 loss: 0.001944\n",
      "----------------------------------------------------------------------------------------------------------\n",
      "lr: 0.001  patience: 20  num_layers: 2  batch_size: 64  hidden_size: 32  dropout: 0.25 criterion: MSELoss()\n"
     ]
    },
    {
     "data": {
      "application/vnd.jupyter.widget-view+json": {
       "model_id": "0d84bab44dfb4956bfa0939bef8bfbf5",
       "version_major": 2,
       "version_minor": 0
      },
      "text/plain": [
       "  0%|          | 0/10000 [00:00<?, ?it/s]"
      ]
     },
     "metadata": {},
     "output_type": "display_data"
    },
    {
     "name": "stdout",
     "output_type": "stream",
     "text": [
      "\n",
      " Early Stopping / epoch: 296 loss: 0.000140\n",
      "----------------------------------------------------------------------------------------------------------\n",
      "lr: 0.001  patience: 20  num_layers: 2  batch_size: 64  hidden_size: 32  dropout: 0.25 criterion: <function criterion2 at 0x0000017347E337F0>\n"
     ]
    },
    {
     "data": {
      "application/vnd.jupyter.widget-view+json": {
       "model_id": "263a27553b1447bfac32e131237378cf",
       "version_major": 2,
       "version_minor": 0
      },
      "text/plain": [
       "  0%|          | 0/10000 [00:00<?, ?it/s]"
      ]
     },
     "metadata": {},
     "output_type": "display_data"
    },
    {
     "name": "stdout",
     "output_type": "stream",
     "text": [
      "\n",
      " Early Stopping / epoch: 232 loss: 0.011505\n",
      "----------------------------------------------------------------------------------------------------------\n",
      "lr: 0.001  patience: 20  num_layers: 2  batch_size: 64  hidden_size: 32  dropout: 0.25 criterion: <function criterion3 at 0x0000017347E33880>\n"
     ]
    },
    {
     "data": {
      "application/vnd.jupyter.widget-view+json": {
       "model_id": "6cffc2e3c49840d399411f519ae5d3f1",
       "version_major": 2,
       "version_minor": 0
      },
      "text/plain": [
       "  0%|          | 0/10000 [00:00<?, ?it/s]"
      ]
     },
     "metadata": {},
     "output_type": "display_data"
    },
    {
     "name": "stdout",
     "output_type": "stream",
     "text": [
      "\n",
      " Early Stopping / epoch: 150 loss: 0.001954\n",
      "----------------------------------------------------------------------------------------------------------\n",
      "lr: 0.001  patience: 20  num_layers: 2  batch_size: 64  hidden_size: 32  dropout: 0.5 criterion: MSELoss()\n"
     ]
    },
    {
     "data": {
      "application/vnd.jupyter.widget-view+json": {
       "model_id": "3182c1b4e54846749b1e218e78d2d4ce",
       "version_major": 2,
       "version_minor": 0
      },
      "text/plain": [
       "  0%|          | 0/10000 [00:00<?, ?it/s]"
      ]
     },
     "metadata": {},
     "output_type": "display_data"
    },
    {
     "name": "stdout",
     "output_type": "stream",
     "text": [
      "\n",
      " Early Stopping / epoch: 187 loss: 0.000202\n",
      "----------------------------------------------------------------------------------------------------------\n",
      "lr: 0.001  patience: 20  num_layers: 2  batch_size: 64  hidden_size: 32  dropout: 0.5 criterion: <function criterion2 at 0x0000017347E337F0>\n"
     ]
    },
    {
     "data": {
      "application/vnd.jupyter.widget-view+json": {
       "model_id": "4d478b4c19da4010a347adfe2a0721bd",
       "version_major": 2,
       "version_minor": 0
      },
      "text/plain": [
       "  0%|          | 0/10000 [00:00<?, ?it/s]"
      ]
     },
     "metadata": {},
     "output_type": "display_data"
    },
    {
     "name": "stdout",
     "output_type": "stream",
     "text": [
      "\n",
      " Early Stopping / epoch: 317 loss: 0.007959\n",
      "----------------------------------------------------------------------------------------------------------\n",
      "lr: 0.001  patience: 20  num_layers: 2  batch_size: 64  hidden_size: 32  dropout: 0.5 criterion: <function criterion3 at 0x0000017347E33880>\n"
     ]
    },
    {
     "data": {
      "application/vnd.jupyter.widget-view+json": {
       "model_id": "5bc05a0f27f049c7af61dd7e4cb731f1",
       "version_major": 2,
       "version_minor": 0
      },
      "text/plain": [
       "  0%|          | 0/10000 [00:00<?, ?it/s]"
      ]
     },
     "metadata": {},
     "output_type": "display_data"
    },
    {
     "name": "stdout",
     "output_type": "stream",
     "text": [
      "\n",
      " Early Stopping / epoch: 213 loss: 0.001763\n",
      "----------------------------------------------------------------------------------------------------------\n",
      "lr: 0.001  patience: 20  num_layers: 2  batch_size: 128  hidden_size: 8  dropout: 0.25 criterion: MSELoss()\n"
     ]
    },
    {
     "data": {
      "application/vnd.jupyter.widget-view+json": {
       "model_id": "ba136a4dd2c44f3bbae6f65026ee7023",
       "version_major": 2,
       "version_minor": 0
      },
      "text/plain": [
       "  0%|          | 0/10000 [00:00<?, ?it/s]"
      ]
     },
     "metadata": {},
     "output_type": "display_data"
    },
    {
     "name": "stdout",
     "output_type": "stream",
     "text": [
      "\n",
      " Early Stopping / epoch: 123 loss: 0.000618\n",
      "----------------------------------------------------------------------------------------------------------\n",
      "lr: 0.001  patience: 20  num_layers: 2  batch_size: 128  hidden_size: 8  dropout: 0.25 criterion: <function criterion2 at 0x0000017347E337F0>\n"
     ]
    },
    {
     "data": {
      "application/vnd.jupyter.widget-view+json": {
       "model_id": "8551ed9e46d1457599eac21c3f10a414",
       "version_major": 2,
       "version_minor": 0
      },
      "text/plain": [
       "  0%|          | 0/10000 [00:00<?, ?it/s]"
      ]
     },
     "metadata": {},
     "output_type": "display_data"
    },
    {
     "name": "stdout",
     "output_type": "stream",
     "text": [
      "\n",
      " Early Stopping / epoch: 222 loss: 0.009644\n",
      "----------------------------------------------------------------------------------------------------------\n",
      "lr: 0.001  patience: 20  num_layers: 2  batch_size: 128  hidden_size: 8  dropout: 0.25 criterion: <function criterion3 at 0x0000017347E33880>\n"
     ]
    },
    {
     "data": {
      "application/vnd.jupyter.widget-view+json": {
       "model_id": "c8dd4f7340b14a91bd90bc34bcd49d6d",
       "version_major": 2,
       "version_minor": 0
      },
      "text/plain": [
       "  0%|          | 0/10000 [00:00<?, ?it/s]"
      ]
     },
     "metadata": {},
     "output_type": "display_data"
    },
    {
     "name": "stdout",
     "output_type": "stream",
     "text": [
      "\n",
      " Early Stopping / epoch: 334 loss: 0.001623\n",
      "----------------------------------------------------------------------------------------------------------\n",
      "lr: 0.001  patience: 20  num_layers: 2  batch_size: 128  hidden_size: 8  dropout: 0.5 criterion: MSELoss()\n"
     ]
    },
    {
     "data": {
      "application/vnd.jupyter.widget-view+json": {
       "model_id": "77b8f87197344e529ee9456d67430cce",
       "version_major": 2,
       "version_minor": 0
      },
      "text/plain": [
       "  0%|          | 0/10000 [00:00<?, ?it/s]"
      ]
     },
     "metadata": {},
     "output_type": "display_data"
    },
    {
     "name": "stdout",
     "output_type": "stream",
     "text": [
      "\n",
      " Early Stopping / epoch: 137 loss: 0.000638\n",
      "----------------------------------------------------------------------------------------------------------\n",
      "lr: 0.001  patience: 20  num_layers: 2  batch_size: 128  hidden_size: 8  dropout: 0.5 criterion: <function criterion2 at 0x0000017347E337F0>\n"
     ]
    },
    {
     "data": {
      "application/vnd.jupyter.widget-view+json": {
       "model_id": "00bfb550a64a4e86b9da569481d4efbe",
       "version_major": 2,
       "version_minor": 0
      },
      "text/plain": [
       "  0%|          | 0/10000 [00:00<?, ?it/s]"
      ]
     },
     "metadata": {},
     "output_type": "display_data"
    },
    {
     "name": "stdout",
     "output_type": "stream",
     "text": [
      "\n",
      " Early Stopping / epoch: 191 loss: 0.010015\n",
      "----------------------------------------------------------------------------------------------------------\n",
      "lr: 0.001  patience: 20  num_layers: 2  batch_size: 128  hidden_size: 8  dropout: 0.5 criterion: <function criterion3 at 0x0000017347E33880>\n"
     ]
    },
    {
     "data": {
      "application/vnd.jupyter.widget-view+json": {
       "model_id": "3695ec30b1644cc9b59ad7176cb7ec14",
       "version_major": 2,
       "version_minor": 0
      },
      "text/plain": [
       "  0%|          | 0/10000 [00:00<?, ?it/s]"
      ]
     },
     "metadata": {},
     "output_type": "display_data"
    },
    {
     "name": "stdout",
     "output_type": "stream",
     "text": [
      "\n",
      " Early Stopping / epoch: 215 loss: 0.001686\n",
      "----------------------------------------------------------------------------------------------------------\n",
      "lr: 0.001  patience: 20  num_layers: 2  batch_size: 128  hidden_size: 16  dropout: 0.25 criterion: MSELoss()\n"
     ]
    },
    {
     "data": {
      "application/vnd.jupyter.widget-view+json": {
       "model_id": "20a9b0560cba4af3bbf3035b901b1fb5",
       "version_major": 2,
       "version_minor": 0
      },
      "text/plain": [
       "  0%|          | 0/10000 [00:00<?, ?it/s]"
      ]
     },
     "metadata": {},
     "output_type": "display_data"
    },
    {
     "name": "stdout",
     "output_type": "stream",
     "text": [
      "\n",
      " Early Stopping / epoch: 231 loss: 0.000591\n",
      "----------------------------------------------------------------------------------------------------------\n",
      "lr: 0.001  patience: 20  num_layers: 2  batch_size: 128  hidden_size: 16  dropout: 0.25 criterion: <function criterion2 at 0x0000017347E337F0>\n"
     ]
    },
    {
     "data": {
      "application/vnd.jupyter.widget-view+json": {
       "model_id": "c69db0433daf45118e3f3a9bf4cb8739",
       "version_major": 2,
       "version_minor": 0
      },
      "text/plain": [
       "  0%|          | 0/10000 [00:00<?, ?it/s]"
      ]
     },
     "metadata": {},
     "output_type": "display_data"
    },
    {
     "name": "stdout",
     "output_type": "stream",
     "text": [
      "\n",
      " Early Stopping / epoch: 343 loss: 0.008262\n",
      "----------------------------------------------------------------------------------------------------------\n",
      "lr: 0.001  patience: 20  num_layers: 2  batch_size: 128  hidden_size: 16  dropout: 0.25 criterion: <function criterion3 at 0x0000017347E33880>\n"
     ]
    },
    {
     "data": {
      "application/vnd.jupyter.widget-view+json": {
       "model_id": "2556c25314454fa79ac452aaf473e423",
       "version_major": 2,
       "version_minor": 0
      },
      "text/plain": [
       "  0%|          | 0/10000 [00:00<?, ?it/s]"
      ]
     },
     "metadata": {},
     "output_type": "display_data"
    },
    {
     "name": "stdout",
     "output_type": "stream",
     "text": [
      "\n",
      " Early Stopping / epoch: 324 loss: 0.001456\n",
      "----------------------------------------------------------------------------------------------------------\n",
      "lr: 0.001  patience: 20  num_layers: 2  batch_size: 128  hidden_size: 16  dropout: 0.5 criterion: MSELoss()\n"
     ]
    },
    {
     "data": {
      "application/vnd.jupyter.widget-view+json": {
       "model_id": "9000f8d7c95742dda23793e940d6099d",
       "version_major": 2,
       "version_minor": 0
      },
      "text/plain": [
       "  0%|          | 0/10000 [00:00<?, ?it/s]"
      ]
     },
     "metadata": {},
     "output_type": "display_data"
    },
    {
     "name": "stdout",
     "output_type": "stream",
     "text": [
      "\n",
      " Early Stopping / epoch: 175 loss: 0.000575\n",
      "----------------------------------------------------------------------------------------------------------\n",
      "lr: 0.001  patience: 20  num_layers: 2  batch_size: 128  hidden_size: 16  dropout: 0.5 criterion: <function criterion2 at 0x0000017347E337F0>\n"
     ]
    },
    {
     "data": {
      "application/vnd.jupyter.widget-view+json": {
       "model_id": "1725b403733e4397ab2d7e590c95fea7",
       "version_major": 2,
       "version_minor": 0
      },
      "text/plain": [
       "  0%|          | 0/10000 [00:00<?, ?it/s]"
      ]
     },
     "metadata": {},
     "output_type": "display_data"
    },
    {
     "name": "stdout",
     "output_type": "stream",
     "text": [
      "\n",
      " Early Stopping / epoch: 229 loss: 0.009175\n",
      "----------------------------------------------------------------------------------------------------------\n",
      "lr: 0.001  patience: 20  num_layers: 2  batch_size: 128  hidden_size: 16  dropout: 0.5 criterion: <function criterion3 at 0x0000017347E33880>\n"
     ]
    },
    {
     "data": {
      "application/vnd.jupyter.widget-view+json": {
       "model_id": "d9909f99a0ae4d65adad48878c9af26d",
       "version_major": 2,
       "version_minor": 0
      },
      "text/plain": [
       "  0%|          | 0/10000 [00:00<?, ?it/s]"
      ]
     },
     "metadata": {},
     "output_type": "display_data"
    },
    {
     "name": "stdout",
     "output_type": "stream",
     "text": [
      "\n",
      " Early Stopping / epoch: 153 loss: 0.001666\n",
      "----------------------------------------------------------------------------------------------------------\n",
      "lr: 0.001  patience: 20  num_layers: 2  batch_size: 128  hidden_size: 32  dropout: 0.25 criterion: MSELoss()\n"
     ]
    },
    {
     "data": {
      "application/vnd.jupyter.widget-view+json": {
       "model_id": "c7f181f2abec4da08ff4701254a0d905",
       "version_major": 2,
       "version_minor": 0
      },
      "text/plain": [
       "  0%|          | 0/10000 [00:00<?, ?it/s]"
      ]
     },
     "metadata": {},
     "output_type": "display_data"
    },
    {
     "name": "stdout",
     "output_type": "stream",
     "text": [
      "\n",
      " Early Stopping / epoch: 315 loss: 0.000487\n",
      "----------------------------------------------------------------------------------------------------------\n",
      "lr: 0.001  patience: 20  num_layers: 2  batch_size: 128  hidden_size: 32  dropout: 0.25 criterion: <function criterion2 at 0x0000017347E337F0>\n"
     ]
    },
    {
     "data": {
      "application/vnd.jupyter.widget-view+json": {
       "model_id": "9d3fb4b7ad0f4db3b8a711253ced233a",
       "version_major": 2,
       "version_minor": 0
      },
      "text/plain": [
       "  0%|          | 0/10000 [00:00<?, ?it/s]"
      ]
     },
     "metadata": {},
     "output_type": "display_data"
    },
    {
     "name": "stdout",
     "output_type": "stream",
     "text": [
      "\n",
      " Early Stopping / epoch: 128 loss: 0.008492\n",
      "----------------------------------------------------------------------------------------------------------\n",
      "lr: 0.001  patience: 20  num_layers: 2  batch_size: 128  hidden_size: 32  dropout: 0.25 criterion: <function criterion3 at 0x0000017347E33880>\n"
     ]
    },
    {
     "data": {
      "application/vnd.jupyter.widget-view+json": {
       "model_id": "796c7158c4764261a0c39ba8ad08c6e3",
       "version_major": 2,
       "version_minor": 0
      },
      "text/plain": [
       "  0%|          | 0/10000 [00:00<?, ?it/s]"
      ]
     },
     "metadata": {},
     "output_type": "display_data"
    },
    {
     "name": "stdout",
     "output_type": "stream",
     "text": [
      "\n",
      " Early Stopping / epoch: 166 loss: 0.001494\n",
      "----------------------------------------------------------------------------------------------------------\n",
      "lr: 0.001  patience: 20  num_layers: 2  batch_size: 128  hidden_size: 32  dropout: 0.5 criterion: MSELoss()\n"
     ]
    },
    {
     "data": {
      "application/vnd.jupyter.widget-view+json": {
       "model_id": "4d7e1179f1c540f9bea964416dca6cd8",
       "version_major": 2,
       "version_minor": 0
      },
      "text/plain": [
       "  0%|          | 0/10000 [00:00<?, ?it/s]"
      ]
     },
     "metadata": {},
     "output_type": "display_data"
    },
    {
     "name": "stdout",
     "output_type": "stream",
     "text": [
      "\n",
      " Early Stopping / epoch: 178 loss: 0.000594\n",
      "----------------------------------------------------------------------------------------------------------\n",
      "lr: 0.001  patience: 20  num_layers: 2  batch_size: 128  hidden_size: 32  dropout: 0.5 criterion: <function criterion2 at 0x0000017347E337F0>\n"
     ]
    },
    {
     "data": {
      "application/vnd.jupyter.widget-view+json": {
       "model_id": "e977369519514e4bbf137066b074f827",
       "version_major": 2,
       "version_minor": 0
      },
      "text/plain": [
       "  0%|          | 0/10000 [00:00<?, ?it/s]"
      ]
     },
     "metadata": {},
     "output_type": "display_data"
    },
    {
     "name": "stdout",
     "output_type": "stream",
     "text": [
      "\n",
      " Early Stopping / epoch: 159 loss: 0.008524\n",
      "----------------------------------------------------------------------------------------------------------\n",
      "lr: 0.001  patience: 20  num_layers: 2  batch_size: 128  hidden_size: 32  dropout: 0.5 criterion: <function criterion3 at 0x0000017347E33880>\n"
     ]
    },
    {
     "data": {
      "application/vnd.jupyter.widget-view+json": {
       "model_id": "36a6758ad1984f2096b0fc4d652da079",
       "version_major": 2,
       "version_minor": 0
      },
      "text/plain": [
       "  0%|          | 0/10000 [00:00<?, ?it/s]"
      ]
     },
     "metadata": {},
     "output_type": "display_data"
    },
    {
     "name": "stdout",
     "output_type": "stream",
     "text": [
      "\n",
      " Early Stopping / epoch: 203 loss: 0.001458\n",
      "----------------------------------------------------------------------------------------------------------\n",
      "lr: 0.001  patience: 20  num_layers: 4  batch_size: 32  hidden_size: 8  dropout: 0.25 criterion: MSELoss()\n"
     ]
    },
    {
     "data": {
      "application/vnd.jupyter.widget-view+json": {
       "model_id": "c004d8efb8bd4fb8a392c0fa42e7c6b1",
       "version_major": 2,
       "version_minor": 0
      },
      "text/plain": [
       "  0%|          | 0/10000 [00:00<?, ?it/s]"
      ]
     },
     "metadata": {},
     "output_type": "display_data"
    },
    {
     "name": "stdout",
     "output_type": "stream",
     "text": [
      "\n",
      " Early Stopping / epoch: 334 loss: 0.000281\n",
      "----------------------------------------------------------------------------------------------------------\n",
      "lr: 0.001  patience: 20  num_layers: 4  batch_size: 32  hidden_size: 8  dropout: 0.25 criterion: <function criterion2 at 0x0000017347E337F0>\n"
     ]
    },
    {
     "data": {
      "application/vnd.jupyter.widget-view+json": {
       "model_id": "ce8f3d38dbd042ccb6699b870b1aba9a",
       "version_major": 2,
       "version_minor": 0
      },
      "text/plain": [
       "  0%|          | 0/10000 [00:00<?, ?it/s]"
      ]
     },
     "metadata": {},
     "output_type": "display_data"
    },
    {
     "name": "stdout",
     "output_type": "stream",
     "text": [
      "\n",
      " Early Stopping / epoch: 297 loss: 0.009057\n",
      "----------------------------------------------------------------------------------------------------------\n",
      "lr: 0.001  patience: 20  num_layers: 4  batch_size: 32  hidden_size: 8  dropout: 0.25 criterion: <function criterion3 at 0x0000017347E33880>\n"
     ]
    },
    {
     "data": {
      "application/vnd.jupyter.widget-view+json": {
       "model_id": "b6ce75d3461e4a939d1df06dd622cfc1",
       "version_major": 2,
       "version_minor": 0
      },
      "text/plain": [
       "  0%|          | 0/10000 [00:00<?, ?it/s]"
      ]
     },
     "metadata": {},
     "output_type": "display_data"
    },
    {
     "name": "stdout",
     "output_type": "stream",
     "text": [
      "\n",
      " Early Stopping / epoch: 134 loss: 0.002663\n",
      "----------------------------------------------------------------------------------------------------------\n",
      "lr: 0.001  patience: 20  num_layers: 4  batch_size: 32  hidden_size: 8  dropout: 0.5 criterion: MSELoss()\n"
     ]
    },
    {
     "data": {
      "application/vnd.jupyter.widget-view+json": {
       "model_id": "1d66f020d5ab4462b125d63056b3af28",
       "version_major": 2,
       "version_minor": 0
      },
      "text/plain": [
       "  0%|          | 0/10000 [00:00<?, ?it/s]"
      ]
     },
     "metadata": {},
     "output_type": "display_data"
    },
    {
     "name": "stdout",
     "output_type": "stream",
     "text": [
      "\n",
      " Early Stopping / epoch: 473 loss: 0.000408\n",
      "----------------------------------------------------------------------------------------------------------\n",
      "lr: 0.001  patience: 20  num_layers: 4  batch_size: 32  hidden_size: 8  dropout: 0.5 criterion: <function criterion2 at 0x0000017347E337F0>\n"
     ]
    },
    {
     "data": {
      "application/vnd.jupyter.widget-view+json": {
       "model_id": "9bd0f8dab5c6406eadb670231219906f",
       "version_major": 2,
       "version_minor": 0
      },
      "text/plain": [
       "  0%|          | 0/10000 [00:00<?, ?it/s]"
      ]
     },
     "metadata": {},
     "output_type": "display_data"
    },
    {
     "name": "stdout",
     "output_type": "stream",
     "text": [
      "\n",
      " Early Stopping / epoch: 166 loss: 0.009884\n",
      "----------------------------------------------------------------------------------------------------------\n",
      "lr: 0.001  patience: 20  num_layers: 4  batch_size: 32  hidden_size: 8  dropout: 0.5 criterion: <function criterion3 at 0x0000017347E33880>\n"
     ]
    },
    {
     "data": {
      "application/vnd.jupyter.widget-view+json": {
       "model_id": "95916654e2c64926a9273a00732f0177",
       "version_major": 2,
       "version_minor": 0
      },
      "text/plain": [
       "  0%|          | 0/10000 [00:00<?, ?it/s]"
      ]
     },
     "metadata": {},
     "output_type": "display_data"
    },
    {
     "name": "stdout",
     "output_type": "stream",
     "text": [
      "\n",
      " Early Stopping / epoch: 214 loss: 0.002637\n",
      "----------------------------------------------------------------------------------------------------------\n",
      "lr: 0.001  patience: 20  num_layers: 4  batch_size: 32  hidden_size: 16  dropout: 0.25 criterion: MSELoss()\n"
     ]
    },
    {
     "data": {
      "application/vnd.jupyter.widget-view+json": {
       "model_id": "8083bd14f746493b8899710a49917416",
       "version_major": 2,
       "version_minor": 0
      },
      "text/plain": [
       "  0%|          | 0/10000 [00:00<?, ?it/s]"
      ]
     },
     "metadata": {},
     "output_type": "display_data"
    },
    {
     "name": "stdout",
     "output_type": "stream",
     "text": [
      "\n",
      " Early Stopping / epoch: 404 loss: 0.000184\n",
      "----------------------------------------------------------------------------------------------------------\n",
      "lr: 0.001  patience: 20  num_layers: 4  batch_size: 32  hidden_size: 16  dropout: 0.25 criterion: <function criterion2 at 0x0000017347E337F0>\n"
     ]
    },
    {
     "data": {
      "application/vnd.jupyter.widget-view+json": {
       "model_id": "3175f71fcf494112855f4d17563c886a",
       "version_major": 2,
       "version_minor": 0
      },
      "text/plain": [
       "  0%|          | 0/10000 [00:00<?, ?it/s]"
      ]
     },
     "metadata": {},
     "output_type": "display_data"
    },
    {
     "name": "stdout",
     "output_type": "stream",
     "text": [
      "\n",
      " Early Stopping / epoch: 65 loss: 0.010615\n",
      "----------------------------------------------------------------------------------------------------------\n",
      "lr: 0.001  patience: 20  num_layers: 4  batch_size: 32  hidden_size: 16  dropout: 0.25 criterion: <function criterion3 at 0x0000017347E33880>\n"
     ]
    },
    {
     "data": {
      "application/vnd.jupyter.widget-view+json": {
       "model_id": "bed0b06ccd3746fd8cc8991546bb0470",
       "version_major": 2,
       "version_minor": 0
      },
      "text/plain": [
       "  0%|          | 0/10000 [00:00<?, ?it/s]"
      ]
     },
     "metadata": {},
     "output_type": "display_data"
    },
    {
     "name": "stdout",
     "output_type": "stream",
     "text": [
      "\n",
      " Early Stopping / epoch: 73 loss: 0.002650\n",
      "----------------------------------------------------------------------------------------------------------\n",
      "lr: 0.001  patience: 20  num_layers: 4  batch_size: 32  hidden_size: 16  dropout: 0.5 criterion: MSELoss()\n"
     ]
    },
    {
     "data": {
      "application/vnd.jupyter.widget-view+json": {
       "model_id": "4e0004fc48a04b13bfec6bfacdc826ec",
       "version_major": 2,
       "version_minor": 0
      },
      "text/plain": [
       "  0%|          | 0/10000 [00:00<?, ?it/s]"
      ]
     },
     "metadata": {},
     "output_type": "display_data"
    },
    {
     "name": "stdout",
     "output_type": "stream",
     "text": [
      "\n",
      " Early Stopping / epoch: 82 loss: 0.000687\n",
      "----------------------------------------------------------------------------------------------------------\n",
      "lr: 0.001  patience: 20  num_layers: 4  batch_size: 32  hidden_size: 16  dropout: 0.5 criterion: <function criterion2 at 0x0000017347E337F0>\n"
     ]
    },
    {
     "data": {
      "application/vnd.jupyter.widget-view+json": {
       "model_id": "0e6aeb83cf33474c8952ca3f76ba45f9",
       "version_major": 2,
       "version_minor": 0
      },
      "text/plain": [
       "  0%|          | 0/10000 [00:00<?, ?it/s]"
      ]
     },
     "metadata": {},
     "output_type": "display_data"
    },
    {
     "name": "stdout",
     "output_type": "stream",
     "text": [
      "\n",
      " Early Stopping / epoch: 244 loss: 0.009326\n",
      "----------------------------------------------------------------------------------------------------------\n",
      "lr: 0.001  patience: 20  num_layers: 4  batch_size: 32  hidden_size: 16  dropout: 0.5 criterion: <function criterion3 at 0x0000017347E33880>\n"
     ]
    },
    {
     "data": {
      "application/vnd.jupyter.widget-view+json": {
       "model_id": "ae5c0240b11f4d6c94587f9fab31c793",
       "version_major": 2,
       "version_minor": 0
      },
      "text/plain": [
       "  0%|          | 0/10000 [00:00<?, ?it/s]"
      ]
     },
     "metadata": {},
     "output_type": "display_data"
    },
    {
     "name": "stdout",
     "output_type": "stream",
     "text": [
      "\n",
      " Early Stopping / epoch: 352 loss: 0.002380\n",
      "----------------------------------------------------------------------------------------------------------\n",
      "lr: 0.001  patience: 20  num_layers: 4  batch_size: 32  hidden_size: 32  dropout: 0.25 criterion: MSELoss()\n"
     ]
    },
    {
     "data": {
      "application/vnd.jupyter.widget-view+json": {
       "model_id": "cd58119659e141cbbf355424a8e083d5",
       "version_major": 2,
       "version_minor": 0
      },
      "text/plain": [
       "  0%|          | 0/10000 [00:00<?, ?it/s]"
      ]
     },
     "metadata": {},
     "output_type": "display_data"
    },
    {
     "name": "stdout",
     "output_type": "stream",
     "text": [
      "\n",
      " Early Stopping / epoch: 160 loss: 0.000244\n",
      "----------------------------------------------------------------------------------------------------------\n",
      "lr: 0.001  patience: 20  num_layers: 4  batch_size: 32  hidden_size: 32  dropout: 0.25 criterion: <function criterion2 at 0x0000017347E337F0>\n"
     ]
    },
    {
     "data": {
      "application/vnd.jupyter.widget-view+json": {
       "model_id": "8b6282bcb9444b5395dfb78328abb0c6",
       "version_major": 2,
       "version_minor": 0
      },
      "text/plain": [
       "  0%|          | 0/10000 [00:00<?, ?it/s]"
      ]
     },
     "metadata": {},
     "output_type": "display_data"
    },
    {
     "name": "stdout",
     "output_type": "stream",
     "text": [
      "\n",
      " Early Stopping / epoch: 53 loss: 0.009883\n",
      "----------------------------------------------------------------------------------------------------------\n",
      "lr: 0.001  patience: 20  num_layers: 4  batch_size: 32  hidden_size: 32  dropout: 0.25 criterion: <function criterion3 at 0x0000017347E33880>\n"
     ]
    },
    {
     "data": {
      "application/vnd.jupyter.widget-view+json": {
       "model_id": "f965d3b8bb9a47eeaa1326a0b00dbdd1",
       "version_major": 2,
       "version_minor": 0
      },
      "text/plain": [
       "  0%|          | 0/10000 [00:00<?, ?it/s]"
      ]
     },
     "metadata": {},
     "output_type": "display_data"
    },
    {
     "name": "stdout",
     "output_type": "stream",
     "text": [
      "\n",
      " Early Stopping / epoch: 77 loss: 0.002661\n",
      "----------------------------------------------------------------------------------------------------------\n",
      "lr: 0.001  patience: 20  num_layers: 4  batch_size: 32  hidden_size: 32  dropout: 0.5 criterion: MSELoss()\n"
     ]
    },
    {
     "data": {
      "application/vnd.jupyter.widget-view+json": {
       "model_id": "2a66d901d7f841099ed9d1d56414d0cc",
       "version_major": 2,
       "version_minor": 0
      },
      "text/plain": [
       "  0%|          | 0/10000 [00:00<?, ?it/s]"
      ]
     },
     "metadata": {},
     "output_type": "display_data"
    },
    {
     "name": "stdout",
     "output_type": "stream",
     "text": [
      "\n",
      " Early Stopping / epoch: 266 loss: 0.000238\n",
      "----------------------------------------------------------------------------------------------------------\n",
      "lr: 0.001  patience: 20  num_layers: 4  batch_size: 32  hidden_size: 32  dropout: 0.5 criterion: <function criterion2 at 0x0000017347E337F0>\n"
     ]
    },
    {
     "data": {
      "application/vnd.jupyter.widget-view+json": {
       "model_id": "6a8419de83f64ded972191eb59b1f3c7",
       "version_major": 2,
       "version_minor": 0
      },
      "text/plain": [
       "  0%|          | 0/10000 [00:00<?, ?it/s]"
      ]
     },
     "metadata": {},
     "output_type": "display_data"
    },
    {
     "name": "stdout",
     "output_type": "stream",
     "text": [
      "\n",
      " Early Stopping / epoch: 173 loss: 0.008899\n",
      "----------------------------------------------------------------------------------------------------------\n",
      "lr: 0.001  patience: 20  num_layers: 4  batch_size: 32  hidden_size: 32  dropout: 0.5 criterion: <function criterion3 at 0x0000017347E33880>\n"
     ]
    },
    {
     "data": {
      "application/vnd.jupyter.widget-view+json": {
       "model_id": "c39ffe3e63614788be087340c71d10ce",
       "version_major": 2,
       "version_minor": 0
      },
      "text/plain": [
       "  0%|          | 0/10000 [00:00<?, ?it/s]"
      ]
     },
     "metadata": {},
     "output_type": "display_data"
    },
    {
     "name": "stdout",
     "output_type": "stream",
     "text": [
      "\n",
      " Early Stopping / epoch: 64 loss: 0.002700\n",
      "----------------------------------------------------------------------------------------------------------\n",
      "lr: 0.001  patience: 20  num_layers: 4  batch_size: 64  hidden_size: 8  dropout: 0.25 criterion: MSELoss()\n"
     ]
    },
    {
     "data": {
      "application/vnd.jupyter.widget-view+json": {
       "model_id": "2ad0fde5231f4644a06519a9c9b97981",
       "version_major": 2,
       "version_minor": 0
      },
      "text/plain": [
       "  0%|          | 0/10000 [00:00<?, ?it/s]"
      ]
     },
     "metadata": {},
     "output_type": "display_data"
    },
    {
     "name": "stdout",
     "output_type": "stream",
     "text": [
      "\n",
      " Early Stopping / epoch: 110 loss: 0.000656\n",
      "----------------------------------------------------------------------------------------------------------\n",
      "lr: 0.001  patience: 20  num_layers: 4  batch_size: 64  hidden_size: 8  dropout: 0.25 criterion: <function criterion2 at 0x0000017347E337F0>\n"
     ]
    },
    {
     "data": {
      "application/vnd.jupyter.widget-view+json": {
       "model_id": "2aa642884cf64e068f8b1b7cdc24d23f",
       "version_major": 2,
       "version_minor": 0
      },
      "text/plain": [
       "  0%|          | 0/10000 [00:00<?, ?it/s]"
      ]
     },
     "metadata": {},
     "output_type": "display_data"
    },
    {
     "name": "stdout",
     "output_type": "stream",
     "text": [
      "\n",
      " Early Stopping / epoch: 218 loss: 0.009268\n",
      "----------------------------------------------------------------------------------------------------------\n",
      "lr: 0.001  patience: 20  num_layers: 4  batch_size: 64  hidden_size: 8  dropout: 0.25 criterion: <function criterion3 at 0x0000017347E33880>\n"
     ]
    },
    {
     "data": {
      "application/vnd.jupyter.widget-view+json": {
       "model_id": "9bc6f1a4c1644b66bbb9d606e8e95dc9",
       "version_major": 2,
       "version_minor": 0
      },
      "text/plain": [
       "  0%|          | 0/10000 [00:00<?, ?it/s]"
      ]
     },
     "metadata": {},
     "output_type": "display_data"
    },
    {
     "name": "stdout",
     "output_type": "stream",
     "text": [
      "\n",
      " Early Stopping / epoch: 216 loss: 0.001988\n",
      "----------------------------------------------------------------------------------------------------------\n",
      "lr: 0.001  patience: 20  num_layers: 4  batch_size: 64  hidden_size: 8  dropout: 0.5 criterion: MSELoss()\n"
     ]
    },
    {
     "data": {
      "application/vnd.jupyter.widget-view+json": {
       "model_id": "5e927184e3d64ac99faea12e80f62548",
       "version_major": 2,
       "version_minor": 0
      },
      "text/plain": [
       "  0%|          | 0/10000 [00:00<?, ?it/s]"
      ]
     },
     "metadata": {},
     "output_type": "display_data"
    },
    {
     "name": "stdout",
     "output_type": "stream",
     "text": [
      "\n",
      " Early Stopping / epoch: 88 loss: 0.000702\n",
      "----------------------------------------------------------------------------------------------------------\n",
      "lr: 0.001  patience: 20  num_layers: 4  batch_size: 64  hidden_size: 8  dropout: 0.5 criterion: <function criterion2 at 0x0000017347E337F0>\n"
     ]
    },
    {
     "data": {
      "application/vnd.jupyter.widget-view+json": {
       "model_id": "ce9f026799d7408dbcb6cd908436d49c",
       "version_major": 2,
       "version_minor": 0
      },
      "text/plain": [
       "  0%|          | 0/10000 [00:00<?, ?it/s]"
      ]
     },
     "metadata": {},
     "output_type": "display_data"
    },
    {
     "name": "stdout",
     "output_type": "stream",
     "text": [
      "\n",
      " Early Stopping / epoch: 259 loss: 0.009327\n",
      "----------------------------------------------------------------------------------------------------------\n",
      "lr: 0.001  patience: 20  num_layers: 4  batch_size: 64  hidden_size: 8  dropout: 0.5 criterion: <function criterion3 at 0x0000017347E33880>\n"
     ]
    },
    {
     "data": {
      "application/vnd.jupyter.widget-view+json": {
       "model_id": "e449655bd1dc48f8808d6db709789b6c",
       "version_major": 2,
       "version_minor": 0
      },
      "text/plain": [
       "  0%|          | 0/10000 [00:00<?, ?it/s]"
      ]
     },
     "metadata": {},
     "output_type": "display_data"
    },
    {
     "name": "stdout",
     "output_type": "stream",
     "text": [
      "\n",
      " Early Stopping / epoch: 121 loss: 0.002290\n",
      "----------------------------------------------------------------------------------------------------------\n",
      "lr: 0.001  patience: 20  num_layers: 4  batch_size: 64  hidden_size: 16  dropout: 0.25 criterion: MSELoss()\n"
     ]
    },
    {
     "data": {
      "application/vnd.jupyter.widget-view+json": {
       "model_id": "2208bb8fdace4b319cf9d487c48876c5",
       "version_major": 2,
       "version_minor": 0
      },
      "text/plain": [
       "  0%|          | 0/10000 [00:00<?, ?it/s]"
      ]
     },
     "metadata": {},
     "output_type": "display_data"
    },
    {
     "name": "stdout",
     "output_type": "stream",
     "text": [
      "\n",
      " Early Stopping / epoch: 167 loss: 0.000583\n",
      "----------------------------------------------------------------------------------------------------------\n",
      "lr: 0.001  patience: 20  num_layers: 4  batch_size: 64  hidden_size: 16  dropout: 0.25 criterion: <function criterion2 at 0x0000017347E337F0>\n"
     ]
    },
    {
     "data": {
      "application/vnd.jupyter.widget-view+json": {
       "model_id": "418f32d0dafc4333b379f4ccf8c38f9d",
       "version_major": 2,
       "version_minor": 0
      },
      "text/plain": [
       "  0%|          | 0/10000 [00:00<?, ?it/s]"
      ]
     },
     "metadata": {},
     "output_type": "display_data"
    },
    {
     "name": "stdout",
     "output_type": "stream",
     "text": [
      "\n",
      " Early Stopping / epoch: 255 loss: 0.008741\n",
      "----------------------------------------------------------------------------------------------------------\n",
      "lr: 0.001  patience: 20  num_layers: 4  batch_size: 64  hidden_size: 16  dropout: 0.25 criterion: <function criterion3 at 0x0000017347E33880>\n"
     ]
    },
    {
     "data": {
      "application/vnd.jupyter.widget-view+json": {
       "model_id": "39720160df3a4283bf31b589bcab46ab",
       "version_major": 2,
       "version_minor": 0
      },
      "text/plain": [
       "  0%|          | 0/10000 [00:00<?, ?it/s]"
      ]
     },
     "metadata": {},
     "output_type": "display_data"
    },
    {
     "name": "stdout",
     "output_type": "stream",
     "text": [
      "\n",
      " Early Stopping / epoch: 217 loss: 0.002354\n",
      "----------------------------------------------------------------------------------------------------------\n",
      "lr: 0.001  patience: 20  num_layers: 4  batch_size: 64  hidden_size: 16  dropout: 0.5 criterion: MSELoss()\n"
     ]
    },
    {
     "data": {
      "application/vnd.jupyter.widget-view+json": {
       "model_id": "6d3bbb523495456eaf5e78bf12e313bc",
       "version_major": 2,
       "version_minor": 0
      },
      "text/plain": [
       "  0%|          | 0/10000 [00:00<?, ?it/s]"
      ]
     },
     "metadata": {},
     "output_type": "display_data"
    },
    {
     "name": "stdout",
     "output_type": "stream",
     "text": [
      "\n",
      " Early Stopping / epoch: 436 loss: 0.000244\n",
      "----------------------------------------------------------------------------------------------------------\n",
      "lr: 0.001  patience: 20  num_layers: 4  batch_size: 64  hidden_size: 16  dropout: 0.5 criterion: <function criterion2 at 0x0000017347E337F0>\n"
     ]
    },
    {
     "data": {
      "application/vnd.jupyter.widget-view+json": {
       "model_id": "0e88700bcc4043e4977ca6a5803502a2",
       "version_major": 2,
       "version_minor": 0
      },
      "text/plain": [
       "  0%|          | 0/10000 [00:00<?, ?it/s]"
      ]
     },
     "metadata": {},
     "output_type": "display_data"
    },
    {
     "name": "stdout",
     "output_type": "stream",
     "text": [
      "\n",
      " Early Stopping / epoch: 175 loss: 0.009219\n",
      "----------------------------------------------------------------------------------------------------------\n",
      "lr: 0.001  patience: 20  num_layers: 4  batch_size: 64  hidden_size: 16  dropout: 0.5 criterion: <function criterion3 at 0x0000017347E33880>\n"
     ]
    },
    {
     "data": {
      "application/vnd.jupyter.widget-view+json": {
       "model_id": "60b95c68f20c4041a965f39beeddc376",
       "version_major": 2,
       "version_minor": 0
      },
      "text/plain": [
       "  0%|          | 0/10000 [00:00<?, ?it/s]"
      ]
     },
     "metadata": {},
     "output_type": "display_data"
    },
    {
     "name": "stdout",
     "output_type": "stream",
     "text": [
      "\n",
      " Early Stopping / epoch: 259 loss: 0.002027\n",
      "----------------------------------------------------------------------------------------------------------\n",
      "lr: 0.001  patience: 20  num_layers: 4  batch_size: 64  hidden_size: 32  dropout: 0.25 criterion: MSELoss()\n"
     ]
    },
    {
     "data": {
      "application/vnd.jupyter.widget-view+json": {
       "model_id": "116d05749397464d89fa7b6be74f69a2",
       "version_major": 2,
       "version_minor": 0
      },
      "text/plain": [
       "  0%|          | 0/10000 [00:00<?, ?it/s]"
      ]
     },
     "metadata": {},
     "output_type": "display_data"
    },
    {
     "name": "stdout",
     "output_type": "stream",
     "text": [
      "\n",
      " Early Stopping / epoch: 256 loss: 0.000310\n",
      "----------------------------------------------------------------------------------------------------------\n",
      "lr: 0.001  patience: 20  num_layers: 4  batch_size: 64  hidden_size: 32  dropout: 0.25 criterion: <function criterion2 at 0x0000017347E337F0>\n"
     ]
    },
    {
     "data": {
      "application/vnd.jupyter.widget-view+json": {
       "model_id": "4e3f6f93028d42f19e6375214bb36c58",
       "version_major": 2,
       "version_minor": 0
      },
      "text/plain": [
       "  0%|          | 0/10000 [00:00<?, ?it/s]"
      ]
     },
     "metadata": {},
     "output_type": "display_data"
    },
    {
     "name": "stdout",
     "output_type": "stream",
     "text": [
      "\n",
      " Early Stopping / epoch: 236 loss: 0.008666\n",
      "----------------------------------------------------------------------------------------------------------\n",
      "lr: 0.001  patience: 20  num_layers: 4  batch_size: 64  hidden_size: 32  dropout: 0.25 criterion: <function criterion3 at 0x0000017347E33880>\n"
     ]
    },
    {
     "data": {
      "application/vnd.jupyter.widget-view+json": {
       "model_id": "06fe061e5d0c4cc39dfee0770ac9bda8",
       "version_major": 2,
       "version_minor": 0
      },
      "text/plain": [
       "  0%|          | 0/10000 [00:00<?, ?it/s]"
      ]
     },
     "metadata": {},
     "output_type": "display_data"
    },
    {
     "name": "stdout",
     "output_type": "stream",
     "text": [
      "\n",
      " Early Stopping / epoch: 178 loss: 0.001882\n",
      "----------------------------------------------------------------------------------------------------------\n",
      "lr: 0.001  patience: 20  num_layers: 4  batch_size: 64  hidden_size: 32  dropout: 0.5 criterion: MSELoss()\n"
     ]
    },
    {
     "data": {
      "application/vnd.jupyter.widget-view+json": {
       "model_id": "973faab37575452d83680f826fd4e0f0",
       "version_major": 2,
       "version_minor": 0
      },
      "text/plain": [
       "  0%|          | 0/10000 [00:00<?, ?it/s]"
      ]
     },
     "metadata": {},
     "output_type": "display_data"
    },
    {
     "name": "stdout",
     "output_type": "stream",
     "text": [
      "\n",
      " Early Stopping / epoch: 395 loss: 0.000207\n",
      "----------------------------------------------------------------------------------------------------------\n",
      "lr: 0.001  patience: 20  num_layers: 4  batch_size: 64  hidden_size: 32  dropout: 0.5 criterion: <function criterion2 at 0x0000017347E337F0>\n"
     ]
    },
    {
     "data": {
      "application/vnd.jupyter.widget-view+json": {
       "model_id": "ffd7cad8c3dc49a2bc5c315d2fa0bf4e",
       "version_major": 2,
       "version_minor": 0
      },
      "text/plain": [
       "  0%|          | 0/10000 [00:00<?, ?it/s]"
      ]
     },
     "metadata": {},
     "output_type": "display_data"
    },
    {
     "name": "stdout",
     "output_type": "stream",
     "text": [
      "\n",
      " Early Stopping / epoch: 122 loss: 0.009160\n",
      "----------------------------------------------------------------------------------------------------------\n",
      "lr: 0.001  patience: 20  num_layers: 4  batch_size: 64  hidden_size: 32  dropout: 0.5 criterion: <function criterion3 at 0x0000017347E33880>\n"
     ]
    },
    {
     "data": {
      "application/vnd.jupyter.widget-view+json": {
       "model_id": "a541c07905e247e491392e047532a7ef",
       "version_major": 2,
       "version_minor": 0
      },
      "text/plain": [
       "  0%|          | 0/10000 [00:00<?, ?it/s]"
      ]
     },
     "metadata": {},
     "output_type": "display_data"
    },
    {
     "name": "stdout",
     "output_type": "stream",
     "text": [
      "\n",
      " Early Stopping / epoch: 185 loss: 0.001962\n",
      "----------------------------------------------------------------------------------------------------------\n",
      "lr: 0.001  patience: 20  num_layers: 4  batch_size: 128  hidden_size: 8  dropout: 0.25 criterion: MSELoss()\n"
     ]
    },
    {
     "data": {
      "application/vnd.jupyter.widget-view+json": {
       "model_id": "d453ec88dccb44c88e3c2dd3b078548c",
       "version_major": 2,
       "version_minor": 0
      },
      "text/plain": [
       "  0%|          | 0/10000 [00:00<?, ?it/s]"
      ]
     },
     "metadata": {},
     "output_type": "display_data"
    },
    {
     "name": "stdout",
     "output_type": "stream",
     "text": [
      "\n",
      " Early Stopping / epoch: 97 loss: 0.000652\n",
      "----------------------------------------------------------------------------------------------------------\n",
      "lr: 0.001  patience: 20  num_layers: 4  batch_size: 128  hidden_size: 8  dropout: 0.25 criterion: <function criterion2 at 0x0000017347E337F0>\n"
     ]
    },
    {
     "data": {
      "application/vnd.jupyter.widget-view+json": {
       "model_id": "51cb673fb02c4c5091ac8b7f7a9d176e",
       "version_major": 2,
       "version_minor": 0
      },
      "text/plain": [
       "  0%|          | 0/10000 [00:00<?, ?it/s]"
      ]
     },
     "metadata": {},
     "output_type": "display_data"
    },
    {
     "name": "stdout",
     "output_type": "stream",
     "text": [
      "\n",
      " Early Stopping / epoch: 274 loss: 0.008922\n",
      "----------------------------------------------------------------------------------------------------------\n",
      "lr: 0.001  patience: 20  num_layers: 4  batch_size: 128  hidden_size: 8  dropout: 0.25 criterion: <function criterion3 at 0x0000017347E33880>\n"
     ]
    },
    {
     "data": {
      "application/vnd.jupyter.widget-view+json": {
       "model_id": "43c4f02eb6ce404b89c19f882eebf38b",
       "version_major": 2,
       "version_minor": 0
      },
      "text/plain": [
       "  0%|          | 0/10000 [00:00<?, ?it/s]"
      ]
     },
     "metadata": {},
     "output_type": "display_data"
    },
    {
     "name": "stdout",
     "output_type": "stream",
     "text": [
      "\n",
      " Early Stopping / epoch: 287 loss: 0.001575\n",
      "----------------------------------------------------------------------------------------------------------\n",
      "lr: 0.001  patience: 20  num_layers: 4  batch_size: 128  hidden_size: 8  dropout: 0.5 criterion: MSELoss()\n"
     ]
    },
    {
     "data": {
      "application/vnd.jupyter.widget-view+json": {
       "model_id": "2546c95078cd4797b29f527fb4f13b95",
       "version_major": 2,
       "version_minor": 0
      },
      "text/plain": [
       "  0%|          | 0/10000 [00:00<?, ?it/s]"
      ]
     },
     "metadata": {},
     "output_type": "display_data"
    },
    {
     "name": "stdout",
     "output_type": "stream",
     "text": [
      "\n",
      " Early Stopping / epoch: 186 loss: 0.000653\n",
      "----------------------------------------------------------------------------------------------------------\n",
      "lr: 0.001  patience: 20  num_layers: 4  batch_size: 128  hidden_size: 8  dropout: 0.5 criterion: <function criterion2 at 0x0000017347E337F0>\n"
     ]
    },
    {
     "data": {
      "application/vnd.jupyter.widget-view+json": {
       "model_id": "051fdd52d09d4d83af05c64ef1c53b29",
       "version_major": 2,
       "version_minor": 0
      },
      "text/plain": [
       "  0%|          | 0/10000 [00:00<?, ?it/s]"
      ]
     },
     "metadata": {},
     "output_type": "display_data"
    },
    {
     "name": "stdout",
     "output_type": "stream",
     "text": [
      "\n",
      " Early Stopping / epoch: 277 loss: 0.009223\n",
      "----------------------------------------------------------------------------------------------------------\n",
      "lr: 0.001  patience: 20  num_layers: 4  batch_size: 128  hidden_size: 8  dropout: 0.5 criterion: <function criterion3 at 0x0000017347E33880>\n"
     ]
    },
    {
     "data": {
      "application/vnd.jupyter.widget-view+json": {
       "model_id": "b1620c63f5394ab4984329dc6c165910",
       "version_major": 2,
       "version_minor": 0
      },
      "text/plain": [
       "  0%|          | 0/10000 [00:00<?, ?it/s]"
      ]
     },
     "metadata": {},
     "output_type": "display_data"
    },
    {
     "name": "stdout",
     "output_type": "stream",
     "text": [
      "\n",
      " Early Stopping / epoch: 100 loss: 0.001800\n",
      "----------------------------------------------------------------------------------------------------------\n",
      "lr: 0.001  patience: 20  num_layers: 4  batch_size: 128  hidden_size: 16  dropout: 0.25 criterion: MSELoss()\n"
     ]
    },
    {
     "data": {
      "application/vnd.jupyter.widget-view+json": {
       "model_id": "487689744a87457ea63b880ef3dc7c58",
       "version_major": 2,
       "version_minor": 0
      },
      "text/plain": [
       "  0%|          | 0/10000 [00:00<?, ?it/s]"
      ]
     },
     "metadata": {},
     "output_type": "display_data"
    },
    {
     "name": "stdout",
     "output_type": "stream",
     "text": [
      "\n",
      " Early Stopping / epoch: 326 loss: 0.000255\n",
      "----------------------------------------------------------------------------------------------------------\n",
      "lr: 0.001  patience: 20  num_layers: 4  batch_size: 128  hidden_size: 16  dropout: 0.25 criterion: <function criterion2 at 0x0000017347E337F0>\n"
     ]
    },
    {
     "data": {
      "application/vnd.jupyter.widget-view+json": {
       "model_id": "c2c401fa9f9242748a70aeef045e1104",
       "version_major": 2,
       "version_minor": 0
      },
      "text/plain": [
       "  0%|          | 0/10000 [00:00<?, ?it/s]"
      ]
     },
     "metadata": {},
     "output_type": "display_data"
    },
    {
     "name": "stdout",
     "output_type": "stream",
     "text": [
      "\n",
      " Early Stopping / epoch: 311 loss: 0.008584\n",
      "----------------------------------------------------------------------------------------------------------\n",
      "lr: 0.001  patience: 20  num_layers: 4  batch_size: 128  hidden_size: 16  dropout: 0.25 criterion: <function criterion3 at 0x0000017347E33880>\n"
     ]
    },
    {
     "data": {
      "application/vnd.jupyter.widget-view+json": {
       "model_id": "60d1922e46b943519cad29265eb5a107",
       "version_major": 2,
       "version_minor": 0
      },
      "text/plain": [
       "  0%|          | 0/10000 [00:00<?, ?it/s]"
      ]
     },
     "metadata": {},
     "output_type": "display_data"
    },
    {
     "name": "stdout",
     "output_type": "stream",
     "text": [
      "\n",
      " Early Stopping / epoch: 223 loss: 0.001600\n",
      "----------------------------------------------------------------------------------------------------------\n",
      "lr: 0.001  patience: 20  num_layers: 4  batch_size: 128  hidden_size: 16  dropout: 0.5 criterion: MSELoss()\n"
     ]
    },
    {
     "data": {
      "application/vnd.jupyter.widget-view+json": {
       "model_id": "cf5e7c846e2341b0afef1de050c3adc4",
       "version_major": 2,
       "version_minor": 0
      },
      "text/plain": [
       "  0%|          | 0/10000 [00:00<?, ?it/s]"
      ]
     },
     "metadata": {},
     "output_type": "display_data"
    },
    {
     "name": "stdout",
     "output_type": "stream",
     "text": [
      "\n",
      " Early Stopping / epoch: 166 loss: 0.000675\n",
      "----------------------------------------------------------------------------------------------------------\n",
      "lr: 0.001  patience: 20  num_layers: 4  batch_size: 128  hidden_size: 16  dropout: 0.5 criterion: <function criterion2 at 0x0000017347E337F0>\n"
     ]
    },
    {
     "data": {
      "application/vnd.jupyter.widget-view+json": {
       "model_id": "45aba3aa51464f298194e928fc105580",
       "version_major": 2,
       "version_minor": 0
      },
      "text/plain": [
       "  0%|          | 0/10000 [00:00<?, ?it/s]"
      ]
     },
     "metadata": {},
     "output_type": "display_data"
    },
    {
     "name": "stdout",
     "output_type": "stream",
     "text": [
      "\n",
      " Early Stopping / epoch: 108 loss: 0.009380\n",
      "----------------------------------------------------------------------------------------------------------\n",
      "lr: 0.001  patience: 20  num_layers: 4  batch_size: 128  hidden_size: 16  dropout: 0.5 criterion: <function criterion3 at 0x0000017347E33880>\n"
     ]
    },
    {
     "data": {
      "application/vnd.jupyter.widget-view+json": {
       "model_id": "327fbe346a49445ab41212e459cac548",
       "version_major": 2,
       "version_minor": 0
      },
      "text/plain": [
       "  0%|          | 0/10000 [00:00<?, ?it/s]"
      ]
     },
     "metadata": {},
     "output_type": "display_data"
    },
    {
     "name": "stdout",
     "output_type": "stream",
     "text": [
      "\n",
      " Early Stopping / epoch: 165 loss: 0.001604\n",
      "----------------------------------------------------------------------------------------------------------\n",
      "lr: 0.001  patience: 20  num_layers: 4  batch_size: 128  hidden_size: 32  dropout: 0.25 criterion: MSELoss()\n"
     ]
    },
    {
     "data": {
      "application/vnd.jupyter.widget-view+json": {
       "model_id": "63ed49762d4048c2b537e01b107b33d5",
       "version_major": 2,
       "version_minor": 0
      },
      "text/plain": [
       "  0%|          | 0/10000 [00:00<?, ?it/s]"
      ]
     },
     "metadata": {},
     "output_type": "display_data"
    },
    {
     "name": "stdout",
     "output_type": "stream",
     "text": [
      "\n",
      " Early Stopping / epoch: 435 loss: 0.000143\n",
      "----------------------------------------------------------------------------------------------------------\n",
      "lr: 0.001  patience: 20  num_layers: 4  batch_size: 128  hidden_size: 32  dropout: 0.25 criterion: <function criterion2 at 0x0000017347E337F0>\n"
     ]
    },
    {
     "data": {
      "application/vnd.jupyter.widget-view+json": {
       "model_id": "848edf9503194d8cbaffb6b67e382ee5",
       "version_major": 2,
       "version_minor": 0
      },
      "text/plain": [
       "  0%|          | 0/10000 [00:00<?, ?it/s]"
      ]
     },
     "metadata": {},
     "output_type": "display_data"
    },
    {
     "name": "stdout",
     "output_type": "stream",
     "text": [
      "\n",
      " Early Stopping / epoch: 177 loss: 0.008353\n",
      "----------------------------------------------------------------------------------------------------------\n",
      "lr: 0.001  patience: 20  num_layers: 4  batch_size: 128  hidden_size: 32  dropout: 0.25 criterion: <function criterion3 at 0x0000017347E33880>\n"
     ]
    },
    {
     "data": {
      "application/vnd.jupyter.widget-view+json": {
       "model_id": "4790b41173e74139876212811c7ab6db",
       "version_major": 2,
       "version_minor": 0
      },
      "text/plain": [
       "  0%|          | 0/10000 [00:00<?, ?it/s]"
      ]
     },
     "metadata": {},
     "output_type": "display_data"
    },
    {
     "name": "stdout",
     "output_type": "stream",
     "text": [
      "\n",
      " Early Stopping / epoch: 141 loss: 0.001660\n",
      "----------------------------------------------------------------------------------------------------------\n",
      "lr: 0.001  patience: 20  num_layers: 4  batch_size: 128  hidden_size: 32  dropout: 0.5 criterion: MSELoss()\n"
     ]
    },
    {
     "data": {
      "application/vnd.jupyter.widget-view+json": {
       "model_id": "7993d2bd9f6f4f7894e1eff9678d4dae",
       "version_major": 2,
       "version_minor": 0
      },
      "text/plain": [
       "  0%|          | 0/10000 [00:00<?, ?it/s]"
      ]
     },
     "metadata": {},
     "output_type": "display_data"
    },
    {
     "name": "stdout",
     "output_type": "stream",
     "text": [
      "\n",
      " Early Stopping / epoch: 231 loss: 0.000582\n",
      "----------------------------------------------------------------------------------------------------------\n",
      "lr: 0.001  patience: 20  num_layers: 4  batch_size: 128  hidden_size: 32  dropout: 0.5 criterion: <function criterion2 at 0x0000017347E337F0>\n"
     ]
    },
    {
     "data": {
      "application/vnd.jupyter.widget-view+json": {
       "model_id": "39db3bb98c8d48a19db20f3a1ad533b2",
       "version_major": 2,
       "version_minor": 0
      },
      "text/plain": [
       "  0%|          | 0/10000 [00:00<?, ?it/s]"
      ]
     },
     "metadata": {},
     "output_type": "display_data"
    },
    {
     "name": "stdout",
     "output_type": "stream",
     "text": [
      "\n",
      " Early Stopping / epoch: 225 loss: 0.008442\n",
      "----------------------------------------------------------------------------------------------------------\n",
      "lr: 0.001  patience: 20  num_layers: 4  batch_size: 128  hidden_size: 32  dropout: 0.5 criterion: <function criterion3 at 0x0000017347E33880>\n"
     ]
    },
    {
     "data": {
      "application/vnd.jupyter.widget-view+json": {
       "model_id": "833b2a7f59dc415eb4569ea3ccd65cbb",
       "version_major": 2,
       "version_minor": 0
      },
      "text/plain": [
       "  0%|          | 0/10000 [00:00<?, ?it/s]"
      ]
     },
     "metadata": {},
     "output_type": "display_data"
    },
    {
     "name": "stdout",
     "output_type": "stream",
     "text": [
      "\n",
      " Early Stopping / epoch: 324 loss: 0.001398\n",
      "----------------------------------------------------------------------------------------------------------\n",
      "lr: 0.001  patience: 50  num_layers: 2  batch_size: 32  hidden_size: 8  dropout: 0.25 criterion: MSELoss()\n"
     ]
    },
    {
     "data": {
      "application/vnd.jupyter.widget-view+json": {
       "model_id": "b8b1618f70194c51a773090358b04ea0",
       "version_major": 2,
       "version_minor": 0
      },
      "text/plain": [
       "  0%|          | 0/10000 [00:00<?, ?it/s]"
      ]
     },
     "metadata": {},
     "output_type": "display_data"
    },
    {
     "name": "stdout",
     "output_type": "stream",
     "text": [
      "\n",
      " Early Stopping / epoch: 771 loss: 0.000172\n",
      "----------------------------------------------------------------------------------------------------------\n",
      "lr: 0.001  patience: 50  num_layers: 2  batch_size: 32  hidden_size: 8  dropout: 0.25 criterion: <function criterion2 at 0x0000017347E337F0>\n"
     ]
    },
    {
     "data": {
      "application/vnd.jupyter.widget-view+json": {
       "model_id": "8826eb05efff40c8ab282242ec56515b",
       "version_major": 2,
       "version_minor": 0
      },
      "text/plain": [
       "  0%|          | 0/10000 [00:00<?, ?it/s]"
      ]
     },
     "metadata": {},
     "output_type": "display_data"
    },
    {
     "name": "stdout",
     "output_type": "stream",
     "text": [
      "\n",
      " Early Stopping / epoch: 384 loss: 0.008731\n",
      "----------------------------------------------------------------------------------------------------------\n",
      "lr: 0.001  patience: 50  num_layers: 2  batch_size: 32  hidden_size: 8  dropout: 0.25 criterion: <function criterion3 at 0x0000017347E33880>\n"
     ]
    },
    {
     "data": {
      "application/vnd.jupyter.widget-view+json": {
       "model_id": "f128b9baada64ff68c10d28ec9ee9af8",
       "version_major": 2,
       "version_minor": 0
      },
      "text/plain": [
       "  0%|          | 0/10000 [00:00<?, ?it/s]"
      ]
     },
     "metadata": {},
     "output_type": "display_data"
    },
    {
     "name": "stdout",
     "output_type": "stream",
     "text": [
      "\n",
      " Early Stopping / epoch: 469 loss: 0.002398\n",
      "----------------------------------------------------------------------------------------------------------\n",
      "lr: 0.001  patience: 50  num_layers: 2  batch_size: 32  hidden_size: 8  dropout: 0.5 criterion: MSELoss()\n"
     ]
    },
    {
     "data": {
      "application/vnd.jupyter.widget-view+json": {
       "model_id": "3a1eeed5346f47e48a477a358a1095ee",
       "version_major": 2,
       "version_minor": 0
      },
      "text/plain": [
       "  0%|          | 0/10000 [00:00<?, ?it/s]"
      ]
     },
     "metadata": {},
     "output_type": "display_data"
    },
    {
     "name": "stdout",
     "output_type": "stream",
     "text": [
      "\n",
      " Early Stopping / epoch: 691 loss: 0.000308\n",
      "----------------------------------------------------------------------------------------------------------\n",
      "lr: 0.001  patience: 50  num_layers: 2  batch_size: 32  hidden_size: 8  dropout: 0.5 criterion: <function criterion2 at 0x0000017347E337F0>\n"
     ]
    },
    {
     "data": {
      "application/vnd.jupyter.widget-view+json": {
       "model_id": "4cad1b4d649b463895d3732405a714eb",
       "version_major": 2,
       "version_minor": 0
      },
      "text/plain": [
       "  0%|          | 0/10000 [00:00<?, ?it/s]"
      ]
     },
     "metadata": {},
     "output_type": "display_data"
    },
    {
     "name": "stdout",
     "output_type": "stream",
     "text": [
      "\n",
      " Early Stopping / epoch: 355 loss: 0.009270\n",
      "----------------------------------------------------------------------------------------------------------\n",
      "lr: 0.001  patience: 50  num_layers: 2  batch_size: 32  hidden_size: 8  dropout: 0.5 criterion: <function criterion3 at 0x0000017347E33880>\n"
     ]
    },
    {
     "data": {
      "application/vnd.jupyter.widget-view+json": {
       "model_id": "62d93ebf6b8a4b339d3301211fed19ba",
       "version_major": 2,
       "version_minor": 0
      },
      "text/plain": [
       "  0%|          | 0/10000 [00:00<?, ?it/s]"
      ]
     },
     "metadata": {},
     "output_type": "display_data"
    },
    {
     "name": "stdout",
     "output_type": "stream",
     "text": [
      "\n",
      " Early Stopping / epoch: 378 loss: 0.002484\n",
      "----------------------------------------------------------------------------------------------------------\n",
      "lr: 0.001  patience: 50  num_layers: 2  batch_size: 32  hidden_size: 16  dropout: 0.25 criterion: MSELoss()\n"
     ]
    },
    {
     "data": {
      "application/vnd.jupyter.widget-view+json": {
       "model_id": "ec4bcc6640c044e1b9f83b98e4a93e2a",
       "version_major": 2,
       "version_minor": 0
      },
      "text/plain": [
       "  0%|          | 0/10000 [00:00<?, ?it/s]"
      ]
     },
     "metadata": {},
     "output_type": "display_data"
    },
    {
     "name": "stdout",
     "output_type": "stream",
     "text": [
      "\n",
      " Early Stopping / epoch: 1016 loss: 0.000089\n",
      "----------------------------------------------------------------------------------------------------------\n",
      "lr: 0.001  patience: 50  num_layers: 2  batch_size: 32  hidden_size: 16  dropout: 0.25 criterion: <function criterion2 at 0x0000017347E337F0>\n"
     ]
    },
    {
     "data": {
      "application/vnd.jupyter.widget-view+json": {
       "model_id": "05dc1674a59c4b448c27dbf037c9e510",
       "version_major": 2,
       "version_minor": 0
      },
      "text/plain": [
       "  0%|          | 0/10000 [00:00<?, ?it/s]"
      ]
     },
     "metadata": {},
     "output_type": "display_data"
    },
    {
     "name": "stdout",
     "output_type": "stream",
     "text": [
      "\n",
      " Early Stopping / epoch: 559 loss: 0.008315\n",
      "----------------------------------------------------------------------------------------------------------\n",
      "lr: 0.001  patience: 50  num_layers: 2  batch_size: 32  hidden_size: 16  dropout: 0.25 criterion: <function criterion3 at 0x0000017347E33880>\n"
     ]
    },
    {
     "data": {
      "application/vnd.jupyter.widget-view+json": {
       "model_id": "0d882e0380db4fb29678317058c847b8",
       "version_major": 2,
       "version_minor": 0
      },
      "text/plain": [
       "  0%|          | 0/10000 [00:00<?, ?it/s]"
      ]
     },
     "metadata": {},
     "output_type": "display_data"
    },
    {
     "name": "stdout",
     "output_type": "stream",
     "text": [
      "\n",
      " Early Stopping / epoch: 298 loss: 0.002271\n",
      "----------------------------------------------------------------------------------------------------------\n",
      "lr: 0.001  patience: 50  num_layers: 2  batch_size: 32  hidden_size: 16  dropout: 0.5 criterion: MSELoss()\n"
     ]
    },
    {
     "data": {
      "application/vnd.jupyter.widget-view+json": {
       "model_id": "fbaddde81b964c83907f4a1d444876ce",
       "version_major": 2,
       "version_minor": 0
      },
      "text/plain": [
       "  0%|          | 0/10000 [00:00<?, ?it/s]"
      ]
     },
     "metadata": {},
     "output_type": "display_data"
    },
    {
     "name": "stdout",
     "output_type": "stream",
     "text": [
      "\n",
      " Early Stopping / epoch: 547 loss: 0.000164\n",
      "----------------------------------------------------------------------------------------------------------\n",
      "lr: 0.001  patience: 50  num_layers: 2  batch_size: 32  hidden_size: 16  dropout: 0.5 criterion: <function criterion2 at 0x0000017347E337F0>\n"
     ]
    },
    {
     "data": {
      "application/vnd.jupyter.widget-view+json": {
       "model_id": "91c2e607c2624e2db02892172e7d208c",
       "version_major": 2,
       "version_minor": 0
      },
      "text/plain": [
       "  0%|          | 0/10000 [00:00<?, ?it/s]"
      ]
     },
     "metadata": {},
     "output_type": "display_data"
    },
    {
     "name": "stdout",
     "output_type": "stream",
     "text": [
      "\n",
      " Early Stopping / epoch: 840 loss: 0.007203\n",
      "----------------------------------------------------------------------------------------------------------\n",
      "lr: 0.001  patience: 50  num_layers: 2  batch_size: 32  hidden_size: 16  dropout: 0.5 criterion: <function criterion3 at 0x0000017347E33880>\n"
     ]
    },
    {
     "data": {
      "application/vnd.jupyter.widget-view+json": {
       "model_id": "324ce4a7a74849e1a6f8e60ff65cc046",
       "version_major": 2,
       "version_minor": 0
      },
      "text/plain": [
       "  0%|          | 0/10000 [00:00<?, ?it/s]"
      ]
     },
     "metadata": {},
     "output_type": "display_data"
    },
    {
     "name": "stdout",
     "output_type": "stream",
     "text": [
      "\n",
      " Early Stopping / epoch: 493 loss: 0.002164\n",
      "----------------------------------------------------------------------------------------------------------\n",
      "lr: 0.001  patience: 50  num_layers: 2  batch_size: 32  hidden_size: 32  dropout: 0.25 criterion: MSELoss()\n"
     ]
    },
    {
     "data": {
      "application/vnd.jupyter.widget-view+json": {
       "model_id": "af699318a9504688bcbf25ec66c4c42e",
       "version_major": 2,
       "version_minor": 0
      },
      "text/plain": [
       "  0%|          | 0/10000 [00:00<?, ?it/s]"
      ]
     },
     "metadata": {},
     "output_type": "display_data"
    },
    {
     "name": "stdout",
     "output_type": "stream",
     "text": [
      "\n",
      " Early Stopping / epoch: 391 loss: 0.000106\n",
      "----------------------------------------------------------------------------------------------------------\n",
      "lr: 0.001  patience: 50  num_layers: 2  batch_size: 32  hidden_size: 32  dropout: 0.25 criterion: <function criterion2 at 0x0000017347E337F0>\n"
     ]
    },
    {
     "data": {
      "application/vnd.jupyter.widget-view+json": {
       "model_id": "e89c9aac1127418e9b5c30ce95e07cdf",
       "version_major": 2,
       "version_minor": 0
      },
      "text/plain": [
       "  0%|          | 0/10000 [00:00<?, ?it/s]"
      ]
     },
     "metadata": {},
     "output_type": "display_data"
    },
    {
     "name": "stdout",
     "output_type": "stream",
     "text": [
      "\n",
      " Early Stopping / epoch: 381 loss: 0.006887\n",
      "----------------------------------------------------------------------------------------------------------\n",
      "lr: 0.001  patience: 50  num_layers: 2  batch_size: 32  hidden_size: 32  dropout: 0.25 criterion: <function criterion3 at 0x0000017347E33880>\n"
     ]
    },
    {
     "data": {
      "application/vnd.jupyter.widget-view+json": {
       "model_id": "3668276481fe4c61bf1bca3d32c22b13",
       "version_major": 2,
       "version_minor": 0
      },
      "text/plain": [
       "  0%|          | 0/10000 [00:00<?, ?it/s]"
      ]
     },
     "metadata": {},
     "output_type": "display_data"
    },
    {
     "name": "stdout",
     "output_type": "stream",
     "text": [
      "\n",
      " Early Stopping / epoch: 361 loss: 0.002156\n",
      "----------------------------------------------------------------------------------------------------------\n",
      "lr: 0.001  patience: 50  num_layers: 2  batch_size: 32  hidden_size: 32  dropout: 0.5 criterion: MSELoss()\n"
     ]
    },
    {
     "data": {
      "application/vnd.jupyter.widget-view+json": {
       "model_id": "ee1b2a3dd5a4421faa78a01efd03138b",
       "version_major": 2,
       "version_minor": 0
      },
      "text/plain": [
       "  0%|          | 0/10000 [00:00<?, ?it/s]"
      ]
     },
     "metadata": {},
     "output_type": "display_data"
    },
    {
     "name": "stdout",
     "output_type": "stream",
     "text": [
      "\n",
      " Early Stopping / epoch: 764 loss: 0.000221\n",
      "----------------------------------------------------------------------------------------------------------\n",
      "lr: 0.001  patience: 50  num_layers: 2  batch_size: 32  hidden_size: 32  dropout: 0.5 criterion: <function criterion2 at 0x0000017347E337F0>\n"
     ]
    },
    {
     "data": {
      "application/vnd.jupyter.widget-view+json": {
       "model_id": "b301b4ca247f4dd7b2b38aaf46958ebd",
       "version_major": 2,
       "version_minor": 0
      },
      "text/plain": [
       "  0%|          | 0/10000 [00:00<?, ?it/s]"
      ]
     },
     "metadata": {},
     "output_type": "display_data"
    },
    {
     "name": "stdout",
     "output_type": "stream",
     "text": [
      "\n",
      " Early Stopping / epoch: 386 loss: 0.008356\n",
      "----------------------------------------------------------------------------------------------------------\n",
      "lr: 0.001  patience: 50  num_layers: 2  batch_size: 32  hidden_size: 32  dropout: 0.5 criterion: <function criterion3 at 0x0000017347E33880>\n"
     ]
    },
    {
     "data": {
      "application/vnd.jupyter.widget-view+json": {
       "model_id": "bb77523664454a568e589a472f84de18",
       "version_major": 2,
       "version_minor": 0
      },
      "text/plain": [
       "  0%|          | 0/10000 [00:00<?, ?it/s]"
      ]
     },
     "metadata": {},
     "output_type": "display_data"
    },
    {
     "name": "stdout",
     "output_type": "stream",
     "text": [
      "\n",
      " Early Stopping / epoch: 644 loss: 0.001589\n",
      "----------------------------------------------------------------------------------------------------------\n",
      "lr: 0.001  patience: 50  num_layers: 2  batch_size: 64  hidden_size: 8  dropout: 0.25 criterion: MSELoss()\n"
     ]
    },
    {
     "data": {
      "application/vnd.jupyter.widget-view+json": {
       "model_id": "e27a58345a8949069677a84d38c2d6f0",
       "version_major": 2,
       "version_minor": 0
      },
      "text/plain": [
       "  0%|          | 0/10000 [00:00<?, ?it/s]"
      ]
     },
     "metadata": {},
     "output_type": "display_data"
    },
    {
     "name": "stdout",
     "output_type": "stream",
     "text": [
      "\n",
      " Early Stopping / epoch: 1377 loss: 0.000229\n",
      "----------------------------------------------------------------------------------------------------------\n",
      "lr: 0.001  patience: 50  num_layers: 2  batch_size: 64  hidden_size: 8  dropout: 0.25 criterion: <function criterion2 at 0x0000017347E337F0>\n"
     ]
    },
    {
     "data": {
      "application/vnd.jupyter.widget-view+json": {
       "model_id": "e43a30a853d2489e9a387472aec05c59",
       "version_major": 2,
       "version_minor": 0
      },
      "text/plain": [
       "  0%|          | 0/10000 [00:00<?, ?it/s]"
      ]
     },
     "metadata": {},
     "output_type": "display_data"
    },
    {
     "name": "stdout",
     "output_type": "stream",
     "text": [
      "\n",
      " Early Stopping / epoch: 627 loss: 0.008524\n",
      "----------------------------------------------------------------------------------------------------------\n",
      "lr: 0.001  patience: 50  num_layers: 2  batch_size: 64  hidden_size: 8  dropout: 0.25 criterion: <function criterion3 at 0x0000017347E33880>\n"
     ]
    },
    {
     "data": {
      "application/vnd.jupyter.widget-view+json": {
       "model_id": "b1bf265d4a9b4733a900f70ef6749c52",
       "version_major": 2,
       "version_minor": 0
      },
      "text/plain": [
       "  0%|          | 0/10000 [00:00<?, ?it/s]"
      ]
     },
     "metadata": {},
     "output_type": "display_data"
    },
    {
     "name": "stdout",
     "output_type": "stream",
     "text": [
      "\n",
      " Early Stopping / epoch: 832 loss: 0.001828\n",
      "----------------------------------------------------------------------------------------------------------\n",
      "lr: 0.001  patience: 50  num_layers: 2  batch_size: 64  hidden_size: 8  dropout: 0.5 criterion: MSELoss()\n"
     ]
    },
    {
     "data": {
      "application/vnd.jupyter.widget-view+json": {
       "model_id": "8578f5b631314c12a634474f61e71023",
       "version_major": 2,
       "version_minor": 0
      },
      "text/plain": [
       "  0%|          | 0/10000 [00:00<?, ?it/s]"
      ]
     },
     "metadata": {},
     "output_type": "display_data"
    },
    {
     "name": "stdout",
     "output_type": "stream",
     "text": [
      "\n",
      " Early Stopping / epoch: 550 loss: 0.000624\n",
      "----------------------------------------------------------------------------------------------------------\n",
      "lr: 0.001  patience: 50  num_layers: 2  batch_size: 64  hidden_size: 8  dropout: 0.5 criterion: <function criterion2 at 0x0000017347E337F0>\n"
     ]
    },
    {
     "data": {
      "application/vnd.jupyter.widget-view+json": {
       "model_id": "866bb2bebc564fa295d6b0d22348a9cf",
       "version_major": 2,
       "version_minor": 0
      },
      "text/plain": [
       "  0%|          | 0/10000 [00:00<?, ?it/s]"
      ]
     },
     "metadata": {},
     "output_type": "display_data"
    },
    {
     "name": "stdout",
     "output_type": "stream",
     "text": [
      "\n",
      " Early Stopping / epoch: 574 loss: 0.008862\n",
      "----------------------------------------------------------------------------------------------------------\n",
      "lr: 0.001  patience: 50  num_layers: 2  batch_size: 64  hidden_size: 8  dropout: 0.5 criterion: <function criterion3 at 0x0000017347E33880>\n"
     ]
    },
    {
     "data": {
      "application/vnd.jupyter.widget-view+json": {
       "model_id": "d89921a628364d7aa2e00d0521b70607",
       "version_major": 2,
       "version_minor": 0
      },
      "text/plain": [
       "  0%|          | 0/10000 [00:00<?, ?it/s]"
      ]
     },
     "metadata": {},
     "output_type": "display_data"
    },
    {
     "name": "stdout",
     "output_type": "stream",
     "text": [
      "\n",
      " Early Stopping / epoch: 285 loss: 0.001963\n",
      "----------------------------------------------------------------------------------------------------------\n",
      "lr: 0.001  patience: 50  num_layers: 2  batch_size: 64  hidden_size: 16  dropout: 0.25 criterion: MSELoss()\n"
     ]
    },
    {
     "data": {
      "application/vnd.jupyter.widget-view+json": {
       "model_id": "09cbb8293a6a4553a149a437cb938a19",
       "version_major": 2,
       "version_minor": 0
      },
      "text/plain": [
       "  0%|          | 0/10000 [00:00<?, ?it/s]"
      ]
     },
     "metadata": {},
     "output_type": "display_data"
    },
    {
     "name": "stdout",
     "output_type": "stream",
     "text": [
      "\n",
      " Early Stopping / epoch: 1101 loss: 0.000110\n",
      "----------------------------------------------------------------------------------------------------------\n",
      "lr: 0.001  patience: 50  num_layers: 2  batch_size: 64  hidden_size: 16  dropout: 0.25 criterion: <function criterion2 at 0x0000017347E337F0>\n"
     ]
    },
    {
     "data": {
      "application/vnd.jupyter.widget-view+json": {
       "model_id": "ddbf776d441a4570af76fdc9184f68eb",
       "version_major": 2,
       "version_minor": 0
      },
      "text/plain": [
       "  0%|          | 0/10000 [00:00<?, ?it/s]"
      ]
     },
     "metadata": {},
     "output_type": "display_data"
    },
    {
     "name": "stdout",
     "output_type": "stream",
     "text": [
      "\n",
      " Early Stopping / epoch: 374 loss: 0.008256\n",
      "----------------------------------------------------------------------------------------------------------\n",
      "lr: 0.001  patience: 50  num_layers: 2  batch_size: 64  hidden_size: 16  dropout: 0.25 criterion: <function criterion3 at 0x0000017347E33880>\n"
     ]
    },
    {
     "data": {
      "application/vnd.jupyter.widget-view+json": {
       "model_id": "06b2168a4fd445f4a52aec6404db6985",
       "version_major": 2,
       "version_minor": 0
      },
      "text/plain": [
       "  0%|          | 0/10000 [00:00<?, ?it/s]"
      ]
     },
     "metadata": {},
     "output_type": "display_data"
    },
    {
     "name": "stdout",
     "output_type": "stream",
     "text": [
      "\n",
      " Early Stopping / epoch: 279 loss: 0.001830\n",
      "----------------------------------------------------------------------------------------------------------\n",
      "lr: 0.001  patience: 50  num_layers: 2  batch_size: 64  hidden_size: 16  dropout: 0.5 criterion: MSELoss()\n"
     ]
    },
    {
     "data": {
      "application/vnd.jupyter.widget-view+json": {
       "model_id": "ec11dee15d484d949c5072efc0f8c082",
       "version_major": 2,
       "version_minor": 0
      },
      "text/plain": [
       "  0%|          | 0/10000 [00:00<?, ?it/s]"
      ]
     },
     "metadata": {},
     "output_type": "display_data"
    },
    {
     "name": "stdout",
     "output_type": "stream",
     "text": [
      "\n",
      " Early Stopping / epoch: 125 loss: 0.000680\n",
      "----------------------------------------------------------------------------------------------------------\n",
      "lr: 0.001  patience: 50  num_layers: 2  batch_size: 64  hidden_size: 16  dropout: 0.5 criterion: <function criterion2 at 0x0000017347E337F0>\n"
     ]
    },
    {
     "data": {
      "application/vnd.jupyter.widget-view+json": {
       "model_id": "79a1fe3143c54ad6b9c561a4a0c8a3ed",
       "version_major": 2,
       "version_minor": 0
      },
      "text/plain": [
       "  0%|          | 0/10000 [00:00<?, ?it/s]"
      ]
     },
     "metadata": {},
     "output_type": "display_data"
    },
    {
     "name": "stdout",
     "output_type": "stream",
     "text": [
      "\n",
      " Early Stopping / epoch: 733 loss: 0.007749\n",
      "----------------------------------------------------------------------------------------------------------\n",
      "lr: 0.001  patience: 50  num_layers: 2  batch_size: 64  hidden_size: 16  dropout: 0.5 criterion: <function criterion3 at 0x0000017347E33880>\n"
     ]
    },
    {
     "data": {
      "application/vnd.jupyter.widget-view+json": {
       "model_id": "f4044e0770fa4ae9a6664afa0f6843d2",
       "version_major": 2,
       "version_minor": 0
      },
      "text/plain": [
       "  0%|          | 0/10000 [00:00<?, ?it/s]"
      ]
     },
     "metadata": {},
     "output_type": "display_data"
    },
    {
     "name": "stdout",
     "output_type": "stream",
     "text": [
      "\n",
      " Early Stopping / epoch: 321 loss: 0.001851\n",
      "----------------------------------------------------------------------------------------------------------\n",
      "lr: 0.001  patience: 50  num_layers: 2  batch_size: 64  hidden_size: 32  dropout: 0.25 criterion: MSELoss()\n"
     ]
    },
    {
     "data": {
      "application/vnd.jupyter.widget-view+json": {
       "model_id": "39c78e4c8f8b44bc9f90f3e0df78e321",
       "version_major": 2,
       "version_minor": 0
      },
      "text/plain": [
       "  0%|          | 0/10000 [00:00<?, ?it/s]"
      ]
     },
     "metadata": {},
     "output_type": "display_data"
    },
    {
     "name": "stdout",
     "output_type": "stream",
     "text": [
      "\n",
      " Early Stopping / epoch: 387 loss: 0.000106\n",
      "----------------------------------------------------------------------------------------------------------\n",
      "lr: 0.001  patience: 50  num_layers: 2  batch_size: 64  hidden_size: 32  dropout: 0.25 criterion: <function criterion2 at 0x0000017347E337F0>\n"
     ]
    },
    {
     "data": {
      "application/vnd.jupyter.widget-view+json": {
       "model_id": "e858e6a4573e43e9b06685b793d98e5d",
       "version_major": 2,
       "version_minor": 0
      },
      "text/plain": [
       "  0%|          | 0/10000 [00:00<?, ?it/s]"
      ]
     },
     "metadata": {},
     "output_type": "display_data"
    },
    {
     "name": "stdout",
     "output_type": "stream",
     "text": [
      "\n",
      " Early Stopping / epoch: 383 loss: 0.007360\n",
      "----------------------------------------------------------------------------------------------------------\n",
      "lr: 0.001  patience: 50  num_layers: 2  batch_size: 64  hidden_size: 32  dropout: 0.25 criterion: <function criterion3 at 0x0000017347E33880>\n"
     ]
    },
    {
     "data": {
      "application/vnd.jupyter.widget-view+json": {
       "model_id": "ad183b130e3e4f29ab381e1102d9011f",
       "version_major": 2,
       "version_minor": 0
      },
      "text/plain": [
       "  0%|          | 0/10000 [00:00<?, ?it/s]"
      ]
     },
     "metadata": {},
     "output_type": "display_data"
    },
    {
     "name": "stdout",
     "output_type": "stream",
     "text": [
      "\n",
      " Early Stopping / epoch: 686 loss: 0.001134\n",
      "----------------------------------------------------------------------------------------------------------\n",
      "lr: 0.001  patience: 50  num_layers: 2  batch_size: 64  hidden_size: 32  dropout: 0.5 criterion: MSELoss()\n"
     ]
    },
    {
     "data": {
      "application/vnd.jupyter.widget-view+json": {
       "model_id": "ca02d44389dc443087e03ba859dabf96",
       "version_major": 2,
       "version_minor": 0
      },
      "text/plain": [
       "  0%|          | 0/10000 [00:00<?, ?it/s]"
      ]
     },
     "metadata": {},
     "output_type": "display_data"
    },
    {
     "name": "stdout",
     "output_type": "stream",
     "text": [
      "\n",
      " Early Stopping / epoch: 489 loss: 0.000131\n",
      "----------------------------------------------------------------------------------------------------------\n",
      "lr: 0.001  patience: 50  num_layers: 2  batch_size: 64  hidden_size: 32  dropout: 0.5 criterion: <function criterion2 at 0x0000017347E337F0>\n"
     ]
    },
    {
     "data": {
      "application/vnd.jupyter.widget-view+json": {
       "model_id": "77de2ef4163a4a48a07c390c3fd8e3f4",
       "version_major": 2,
       "version_minor": 0
      },
      "text/plain": [
       "  0%|          | 0/10000 [00:00<?, ?it/s]"
      ]
     },
     "metadata": {},
     "output_type": "display_data"
    },
    {
     "name": "stdout",
     "output_type": "stream",
     "text": [
      "\n",
      " Early Stopping / epoch: 551 loss: 0.008014\n",
      "----------------------------------------------------------------------------------------------------------\n",
      "lr: 0.001  patience: 50  num_layers: 2  batch_size: 64  hidden_size: 32  dropout: 0.5 criterion: <function criterion3 at 0x0000017347E33880>\n"
     ]
    },
    {
     "data": {
      "application/vnd.jupyter.widget-view+json": {
       "model_id": "35e8bd7db68b474e8cc30f11fa87db55",
       "version_major": 2,
       "version_minor": 0
      },
      "text/plain": [
       "  0%|          | 0/10000 [00:00<?, ?it/s]"
      ]
     },
     "metadata": {},
     "output_type": "display_data"
    },
    {
     "name": "stdout",
     "output_type": "stream",
     "text": [
      "\n",
      " Early Stopping / epoch: 672 loss: 0.000983\n",
      "----------------------------------------------------------------------------------------------------------\n",
      "lr: 0.001  patience: 50  num_layers: 2  batch_size: 128  hidden_size: 8  dropout: 0.25 criterion: MSELoss()\n"
     ]
    },
    {
     "data": {
      "application/vnd.jupyter.widget-view+json": {
       "model_id": "97b5f10d67b3421abcd9ea80e005c134",
       "version_major": 2,
       "version_minor": 0
      },
      "text/plain": [
       "  0%|          | 0/10000 [00:00<?, ?it/s]"
      ]
     },
     "metadata": {},
     "output_type": "display_data"
    },
    {
     "name": "stdout",
     "output_type": "stream",
     "text": [
      "\n",
      " Early Stopping / epoch: 592 loss: 0.000590\n",
      "----------------------------------------------------------------------------------------------------------\n",
      "lr: 0.001  patience: 50  num_layers: 2  batch_size: 128  hidden_size: 8  dropout: 0.25 criterion: <function criterion2 at 0x0000017347E337F0>\n"
     ]
    },
    {
     "data": {
      "application/vnd.jupyter.widget-view+json": {
       "model_id": "b2a387c32ded464587d989e284b4b909",
       "version_major": 2,
       "version_minor": 0
      },
      "text/plain": [
       "  0%|          | 0/10000 [00:00<?, ?it/s]"
      ]
     },
     "metadata": {},
     "output_type": "display_data"
    },
    {
     "name": "stdout",
     "output_type": "stream",
     "text": [
      "\n",
      " Early Stopping / epoch: 878 loss: 0.007783\n",
      "----------------------------------------------------------------------------------------------------------\n",
      "lr: 0.001  patience: 50  num_layers: 2  batch_size: 128  hidden_size: 8  dropout: 0.25 criterion: <function criterion3 at 0x0000017347E33880>\n"
     ]
    },
    {
     "data": {
      "application/vnd.jupyter.widget-view+json": {
       "model_id": "1615ed60ea7340d19f797627b899c1d3",
       "version_major": 2,
       "version_minor": 0
      },
      "text/plain": [
       "  0%|          | 0/10000 [00:00<?, ?it/s]"
      ]
     },
     "metadata": {},
     "output_type": "display_data"
    },
    {
     "name": "stdout",
     "output_type": "stream",
     "text": [
      "\n",
      " Early Stopping / epoch: 612 loss: 0.001487\n",
      "----------------------------------------------------------------------------------------------------------\n",
      "lr: 0.001  patience: 50  num_layers: 2  batch_size: 128  hidden_size: 8  dropout: 0.5 criterion: MSELoss()\n"
     ]
    },
    {
     "data": {
      "application/vnd.jupyter.widget-view+json": {
       "model_id": "3e9cbcebe9f24e34953ac289ecde53d2",
       "version_major": 2,
       "version_minor": 0
      },
      "text/plain": [
       "  0%|          | 0/10000 [00:00<?, ?it/s]"
      ]
     },
     "metadata": {},
     "output_type": "display_data"
    },
    {
     "name": "stdout",
     "output_type": "stream",
     "text": [
      "\n",
      " Early Stopping / epoch: 406 loss: 0.000619\n",
      "----------------------------------------------------------------------------------------------------------\n",
      "lr: 0.001  patience: 50  num_layers: 2  batch_size: 128  hidden_size: 8  dropout: 0.5 criterion: <function criterion2 at 0x0000017347E337F0>\n"
     ]
    },
    {
     "data": {
      "application/vnd.jupyter.widget-view+json": {
       "model_id": "7296b19c754f475cb22c429ec35cebf5",
       "version_major": 2,
       "version_minor": 0
      },
      "text/plain": [
       "  0%|          | 0/10000 [00:00<?, ?it/s]"
      ]
     },
     "metadata": {},
     "output_type": "display_data"
    },
    {
     "name": "stdout",
     "output_type": "stream",
     "text": [
      "\n",
      " Early Stopping / epoch: 450 loss: 0.008664\n",
      "----------------------------------------------------------------------------------------------------------\n",
      "lr: 0.001  patience: 50  num_layers: 2  batch_size: 128  hidden_size: 8  dropout: 0.5 criterion: <function criterion3 at 0x0000017347E33880>\n"
     ]
    },
    {
     "data": {
      "application/vnd.jupyter.widget-view+json": {
       "model_id": "c52400441ded4e57866bf0481a51b727",
       "version_major": 2,
       "version_minor": 0
      },
      "text/plain": [
       "  0%|          | 0/10000 [00:00<?, ?it/s]"
      ]
     },
     "metadata": {},
     "output_type": "display_data"
    },
    {
     "name": "stdout",
     "output_type": "stream",
     "text": [
      "\n",
      " Early Stopping / epoch: 632 loss: 0.001426\n",
      "----------------------------------------------------------------------------------------------------------\n",
      "lr: 0.001  patience: 50  num_layers: 2  batch_size: 128  hidden_size: 16  dropout: 0.25 criterion: MSELoss()\n"
     ]
    },
    {
     "data": {
      "application/vnd.jupyter.widget-view+json": {
       "model_id": "138172afc08a4e9ebc4fff8281b31f21",
       "version_major": 2,
       "version_minor": 0
      },
      "text/plain": [
       "  0%|          | 0/10000 [00:00<?, ?it/s]"
      ]
     },
     "metadata": {},
     "output_type": "display_data"
    },
    {
     "name": "stdout",
     "output_type": "stream",
     "text": [
      "\n",
      " Early Stopping / epoch: 1019 loss: 0.000125\n",
      "----------------------------------------------------------------------------------------------------------\n",
      "lr: 0.001  patience: 50  num_layers: 2  batch_size: 128  hidden_size: 16  dropout: 0.25 criterion: <function criterion2 at 0x0000017347E337F0>\n"
     ]
    },
    {
     "data": {
      "application/vnd.jupyter.widget-view+json": {
       "model_id": "3357f4704e5a4596bb919255865a0433",
       "version_major": 2,
       "version_minor": 0
      },
      "text/plain": [
       "  0%|          | 0/10000 [00:00<?, ?it/s]"
      ]
     },
     "metadata": {},
     "output_type": "display_data"
    },
    {
     "name": "stdout",
     "output_type": "stream",
     "text": [
      "\n",
      " Early Stopping / epoch: 495 loss: 0.008505\n",
      "----------------------------------------------------------------------------------------------------------\n",
      "lr: 0.001  patience: 50  num_layers: 2  batch_size: 128  hidden_size: 16  dropout: 0.25 criterion: <function criterion3 at 0x0000017347E33880>\n"
     ]
    },
    {
     "data": {
      "application/vnd.jupyter.widget-view+json": {
       "model_id": "dbaffeb746a74eb1b119d03e0ea47655",
       "version_major": 2,
       "version_minor": 0
      },
      "text/plain": [
       "  0%|          | 0/10000 [00:00<?, ?it/s]"
      ]
     },
     "metadata": {},
     "output_type": "display_data"
    },
    {
     "name": "stdout",
     "output_type": "stream",
     "text": [
      "\n",
      " Early Stopping / epoch: 589 loss: 0.001428\n",
      "----------------------------------------------------------------------------------------------------------\n",
      "lr: 0.001  patience: 50  num_layers: 2  batch_size: 128  hidden_size: 16  dropout: 0.5 criterion: MSELoss()\n"
     ]
    },
    {
     "data": {
      "application/vnd.jupyter.widget-view+json": {
       "model_id": "55b18ed735e34b0fbf85ac613ca8b748",
       "version_major": 2,
       "version_minor": 0
      },
      "text/plain": [
       "  0%|          | 0/10000 [00:00<?, ?it/s]"
      ]
     },
     "metadata": {},
     "output_type": "display_data"
    },
    {
     "name": "stdout",
     "output_type": "stream",
     "text": [
      "\n",
      " Early Stopping / epoch: 926 loss: 0.000149\n",
      "----------------------------------------------------------------------------------------------------------\n",
      "lr: 0.001  patience: 50  num_layers: 2  batch_size: 128  hidden_size: 16  dropout: 0.5 criterion: <function criterion2 at 0x0000017347E337F0>\n"
     ]
    },
    {
     "data": {
      "application/vnd.jupyter.widget-view+json": {
       "model_id": "ec2129c46793442db6f7d90be7788fc7",
       "version_major": 2,
       "version_minor": 0
      },
      "text/plain": [
       "  0%|          | 0/10000 [00:00<?, ?it/s]"
      ]
     },
     "metadata": {},
     "output_type": "display_data"
    },
    {
     "name": "stdout",
     "output_type": "stream",
     "text": [
      "\n",
      " Early Stopping / epoch: 647 loss: 0.008058\n",
      "----------------------------------------------------------------------------------------------------------\n",
      "lr: 0.001  patience: 50  num_layers: 2  batch_size: 128  hidden_size: 16  dropout: 0.5 criterion: <function criterion3 at 0x0000017347E33880>\n"
     ]
    },
    {
     "data": {
      "application/vnd.jupyter.widget-view+json": {
       "model_id": "e0b8a0edb522422a825a79830f5d6ac6",
       "version_major": 2,
       "version_minor": 0
      },
      "text/plain": [
       "  0%|          | 0/10000 [00:00<?, ?it/s]"
      ]
     },
     "metadata": {},
     "output_type": "display_data"
    },
    {
     "name": "stdout",
     "output_type": "stream",
     "text": [
      "\n",
      " Early Stopping / epoch: 404 loss: 0.001467\n",
      "----------------------------------------------------------------------------------------------------------\n",
      "lr: 0.001  patience: 50  num_layers: 2  batch_size: 128  hidden_size: 32  dropout: 0.25 criterion: MSELoss()\n"
     ]
    },
    {
     "data": {
      "application/vnd.jupyter.widget-view+json": {
       "model_id": "ec1e2cb1a5ef494aa55b4955ec7839d4",
       "version_major": 2,
       "version_minor": 0
      },
      "text/plain": [
       "  0%|          | 0/10000 [00:00<?, ?it/s]"
      ]
     },
     "metadata": {},
     "output_type": "display_data"
    },
    {
     "name": "stdout",
     "output_type": "stream",
     "text": [
      "\n",
      " Early Stopping / epoch: 961 loss: 0.000064\n",
      "----------------------------------------------------------------------------------------------------------\n",
      "lr: 0.001  patience: 50  num_layers: 2  batch_size: 128  hidden_size: 32  dropout: 0.25 criterion: <function criterion2 at 0x0000017347E337F0>\n"
     ]
    },
    {
     "data": {
      "application/vnd.jupyter.widget-view+json": {
       "model_id": "5ae8629579f04e78aa069e292c6daaa1",
       "version_major": 2,
       "version_minor": 0
      },
      "text/plain": [
       "  0%|          | 0/10000 [00:00<?, ?it/s]"
      ]
     },
     "metadata": {},
     "output_type": "display_data"
    },
    {
     "name": "stdout",
     "output_type": "stream",
     "text": [
      "\n",
      " Early Stopping / epoch: 510 loss: 0.007618\n",
      "----------------------------------------------------------------------------------------------------------\n",
      "lr: 0.001  patience: 50  num_layers: 2  batch_size: 128  hidden_size: 32  dropout: 0.25 criterion: <function criterion3 at 0x0000017347E33880>\n"
     ]
    },
    {
     "data": {
      "application/vnd.jupyter.widget-view+json": {
       "model_id": "f54de10f7718491e936343fdf05a093f",
       "version_major": 2,
       "version_minor": 0
      },
      "text/plain": [
       "  0%|          | 0/10000 [00:00<?, ?it/s]"
      ]
     },
     "metadata": {},
     "output_type": "display_data"
    },
    {
     "name": "stdout",
     "output_type": "stream",
     "text": [
      "\n",
      " Early Stopping / epoch: 700 loss: 0.000787\n",
      "----------------------------------------------------------------------------------------------------------\n",
      "lr: 0.001  patience: 50  num_layers: 2  batch_size: 128  hidden_size: 32  dropout: 0.5 criterion: MSELoss()\n"
     ]
    },
    {
     "data": {
      "application/vnd.jupyter.widget-view+json": {
       "model_id": "92ada44a25624cd38d5b081020e0a4da",
       "version_major": 2,
       "version_minor": 0
      },
      "text/plain": [
       "  0%|          | 0/10000 [00:00<?, ?it/s]"
      ]
     },
     "metadata": {},
     "output_type": "display_data"
    },
    {
     "name": "stdout",
     "output_type": "stream",
     "text": [
      "\n",
      " Early Stopping / epoch: 446 loss: 0.000140\n",
      "----------------------------------------------------------------------------------------------------------\n",
      "lr: 0.001  patience: 50  num_layers: 2  batch_size: 128  hidden_size: 32  dropout: 0.5 criterion: <function criterion2 at 0x0000017347E337F0>\n"
     ]
    },
    {
     "data": {
      "application/vnd.jupyter.widget-view+json": {
       "model_id": "cae769f23ac048e0a5420cde11e726a7",
       "version_major": 2,
       "version_minor": 0
      },
      "text/plain": [
       "  0%|          | 0/10000 [00:00<?, ?it/s]"
      ]
     },
     "metadata": {},
     "output_type": "display_data"
    },
    {
     "name": "stdout",
     "output_type": "stream",
     "text": [
      "\n",
      " Early Stopping / epoch: 425 loss: 0.009246\n",
      "----------------------------------------------------------------------------------------------------------\n",
      "lr: 0.001  patience: 50  num_layers: 2  batch_size: 128  hidden_size: 32  dropout: 0.5 criterion: <function criterion3 at 0x0000017347E33880>\n"
     ]
    },
    {
     "data": {
      "application/vnd.jupyter.widget-view+json": {
       "model_id": "c0d0876e09b34304a3a70ef8a4ce92eb",
       "version_major": 2,
       "version_minor": 0
      },
      "text/plain": [
       "  0%|          | 0/10000 [00:00<?, ?it/s]"
      ]
     },
     "metadata": {},
     "output_type": "display_data"
    },
    {
     "name": "stdout",
     "output_type": "stream",
     "text": [
      "\n",
      " Early Stopping / epoch: 710 loss: 0.000887\n",
      "----------------------------------------------------------------------------------------------------------\n",
      "lr: 0.001  patience: 50  num_layers: 4  batch_size: 32  hidden_size: 8  dropout: 0.25 criterion: MSELoss()\n"
     ]
    },
    {
     "data": {
      "application/vnd.jupyter.widget-view+json": {
       "model_id": "a7a41f6bd9e14a80af6c5aaaaaab1da4",
       "version_major": 2,
       "version_minor": 0
      },
      "text/plain": [
       "  0%|          | 0/10000 [00:00<?, ?it/s]"
      ]
     },
     "metadata": {},
     "output_type": "display_data"
    },
    {
     "name": "stdout",
     "output_type": "stream",
     "text": [
      "\n",
      " Early Stopping / epoch: 664 loss: 0.000244\n",
      "----------------------------------------------------------------------------------------------------------\n",
      "lr: 0.001  patience: 50  num_layers: 4  batch_size: 32  hidden_size: 8  dropout: 0.25 criterion: <function criterion2 at 0x0000017347E337F0>\n"
     ]
    },
    {
     "data": {
      "application/vnd.jupyter.widget-view+json": {
       "model_id": "e2b8e6b137ec4394b8465908f2453629",
       "version_major": 2,
       "version_minor": 0
      },
      "text/plain": [
       "  0%|          | 0/10000 [00:00<?, ?it/s]"
      ]
     },
     "metadata": {},
     "output_type": "display_data"
    },
    {
     "name": "stdout",
     "output_type": "stream",
     "text": [
      "\n",
      " Early Stopping / epoch: 379 loss: 0.008914\n",
      "----------------------------------------------------------------------------------------------------------\n",
      "lr: 0.001  patience: 50  num_layers: 4  batch_size: 32  hidden_size: 8  dropout: 0.25 criterion: <function criterion3 at 0x0000017347E33880>\n"
     ]
    },
    {
     "data": {
      "application/vnd.jupyter.widget-view+json": {
       "model_id": "9c7b0b1670fb4867b2c21be27ce53e0d",
       "version_major": 2,
       "version_minor": 0
      },
      "text/plain": [
       "  0%|          | 0/10000 [00:00<?, ?it/s]"
      ]
     },
     "metadata": {},
     "output_type": "display_data"
    },
    {
     "name": "stdout",
     "output_type": "stream",
     "text": [
      "\n",
      " Early Stopping / epoch: 301 loss: 0.002523\n",
      "----------------------------------------------------------------------------------------------------------\n",
      "lr: 0.001  patience: 50  num_layers: 4  batch_size: 32  hidden_size: 8  dropout: 0.5 criterion: MSELoss()\n"
     ]
    },
    {
     "data": {
      "application/vnd.jupyter.widget-view+json": {
       "model_id": "8af8a8277304406bbd4a0879fdc090cf",
       "version_major": 2,
       "version_minor": 0
      },
      "text/plain": [
       "  0%|          | 0/10000 [00:00<?, ?it/s]"
      ]
     },
     "metadata": {},
     "output_type": "display_data"
    },
    {
     "name": "stdout",
     "output_type": "stream",
     "text": [
      "\n",
      " Early Stopping / epoch: 615 loss: 0.000366\n",
      "----------------------------------------------------------------------------------------------------------\n",
      "lr: 0.001  patience: 50  num_layers: 4  batch_size: 32  hidden_size: 8  dropout: 0.5 criterion: <function criterion2 at 0x0000017347E337F0>\n"
     ]
    },
    {
     "data": {
      "application/vnd.jupyter.widget-view+json": {
       "model_id": "aa53c2e840234f38960f5ec75bf3c5d4",
       "version_major": 2,
       "version_minor": 0
      },
      "text/plain": [
       "  0%|          | 0/10000 [00:00<?, ?it/s]"
      ]
     },
     "metadata": {},
     "output_type": "display_data"
    },
    {
     "name": "stdout",
     "output_type": "stream",
     "text": [
      "\n",
      " Early Stopping / epoch: 256 loss: 0.009578\n",
      "----------------------------------------------------------------------------------------------------------\n",
      "lr: 0.001  patience: 50  num_layers: 4  batch_size: 32  hidden_size: 8  dropout: 0.5 criterion: <function criterion3 at 0x0000017347E33880>\n"
     ]
    },
    {
     "data": {
      "application/vnd.jupyter.widget-view+json": {
       "model_id": "6b802a356fe54d6590a2cb835c01d33c",
       "version_major": 2,
       "version_minor": 0
      },
      "text/plain": [
       "  0%|          | 0/10000 [00:00<?, ?it/s]"
      ]
     },
     "metadata": {},
     "output_type": "display_data"
    },
    {
     "name": "stdout",
     "output_type": "stream",
     "text": [
      "\n",
      " Early Stopping / epoch: 462 loss: 0.002484\n",
      "----------------------------------------------------------------------------------------------------------\n",
      "lr: 0.001  patience: 50  num_layers: 4  batch_size: 32  hidden_size: 16  dropout: 0.25 criterion: MSELoss()\n"
     ]
    },
    {
     "data": {
      "application/vnd.jupyter.widget-view+json": {
       "model_id": "2add319016854434a25d8531bc80d659",
       "version_major": 2,
       "version_minor": 0
      },
      "text/plain": [
       "  0%|          | 0/10000 [00:00<?, ?it/s]"
      ]
     },
     "metadata": {},
     "output_type": "display_data"
    },
    {
     "name": "stdout",
     "output_type": "stream",
     "text": [
      "\n",
      " Early Stopping / epoch: 452 loss: 0.000151\n",
      "----------------------------------------------------------------------------------------------------------\n",
      "lr: 0.001  patience: 50  num_layers: 4  batch_size: 32  hidden_size: 16  dropout: 0.25 criterion: <function criterion2 at 0x0000017347E337F0>\n"
     ]
    },
    {
     "data": {
      "application/vnd.jupyter.widget-view+json": {
       "model_id": "b618710ea46a4fa198412e556033699f",
       "version_major": 2,
       "version_minor": 0
      },
      "text/plain": [
       "  0%|          | 0/10000 [00:00<?, ?it/s]"
      ]
     },
     "metadata": {},
     "output_type": "display_data"
    },
    {
     "name": "stdout",
     "output_type": "stream",
     "text": [
      "\n",
      " Early Stopping / epoch: 534 loss: 0.007818\n",
      "----------------------------------------------------------------------------------------------------------\n",
      "lr: 0.001  patience: 50  num_layers: 4  batch_size: 32  hidden_size: 16  dropout: 0.25 criterion: <function criterion3 at 0x0000017347E33880>\n"
     ]
    },
    {
     "data": {
      "application/vnd.jupyter.widget-view+json": {
       "model_id": "0d29b5c8314144d89f14b020a0d05ebb",
       "version_major": 2,
       "version_minor": 0
      },
      "text/plain": [
       "  0%|          | 0/10000 [00:00<?, ?it/s]"
      ]
     },
     "metadata": {},
     "output_type": "display_data"
    },
    {
     "name": "stdout",
     "output_type": "stream",
     "text": [
      "\n",
      " Early Stopping / epoch: 313 loss: 0.002411\n",
      "----------------------------------------------------------------------------------------------------------\n",
      "lr: 0.001  patience: 50  num_layers: 4  batch_size: 32  hidden_size: 16  dropout: 0.5 criterion: MSELoss()\n"
     ]
    },
    {
     "data": {
      "application/vnd.jupyter.widget-view+json": {
       "model_id": "c6eb3f13ccb74500bfc3c1e4ad0f27df",
       "version_major": 2,
       "version_minor": 0
      },
      "text/plain": [
       "  0%|          | 0/10000 [00:00<?, ?it/s]"
      ]
     },
     "metadata": {},
     "output_type": "display_data"
    },
    {
     "name": "stdout",
     "output_type": "stream",
     "text": [
      "\n",
      " Early Stopping / epoch: 510 loss: 0.000591\n",
      "----------------------------------------------------------------------------------------------------------\n",
      "lr: 0.001  patience: 50  num_layers: 4  batch_size: 32  hidden_size: 16  dropout: 0.5 criterion: <function criterion2 at 0x0000017347E337F0>\n"
     ]
    },
    {
     "data": {
      "application/vnd.jupyter.widget-view+json": {
       "model_id": "654aea2408984806b307f907ac61fe4b",
       "version_major": 2,
       "version_minor": 0
      },
      "text/plain": [
       "  0%|          | 0/10000 [00:00<?, ?it/s]"
      ]
     },
     "metadata": {},
     "output_type": "display_data"
    },
    {
     "name": "stdout",
     "output_type": "stream",
     "text": [
      "\n",
      " Early Stopping / epoch: 433 loss: 0.008790\n",
      "----------------------------------------------------------------------------------------------------------\n",
      "lr: 0.001  patience: 50  num_layers: 4  batch_size: 32  hidden_size: 16  dropout: 0.5 criterion: <function criterion3 at 0x0000017347E33880>\n"
     ]
    },
    {
     "data": {
      "application/vnd.jupyter.widget-view+json": {
       "model_id": "a403abfa073a44cda27cf0d7fe999611",
       "version_major": 2,
       "version_minor": 0
      },
      "text/plain": [
       "  0%|          | 0/10000 [00:00<?, ?it/s]"
      ]
     },
     "metadata": {},
     "output_type": "display_data"
    },
    {
     "name": "stdout",
     "output_type": "stream",
     "text": [
      "\n",
      " Early Stopping / epoch: 870 loss: 0.002261\n",
      "----------------------------------------------------------------------------------------------------------\n",
      "lr: 0.001  patience: 50  num_layers: 4  batch_size: 32  hidden_size: 32  dropout: 0.25 criterion: MSELoss()\n"
     ]
    },
    {
     "data": {
      "application/vnd.jupyter.widget-view+json": {
       "model_id": "1689e8c890394d75983db59390d16a07",
       "version_major": 2,
       "version_minor": 0
      },
      "text/plain": [
       "  0%|          | 0/10000 [00:00<?, ?it/s]"
      ]
     },
     "metadata": {},
     "output_type": "display_data"
    },
    {
     "name": "stdout",
     "output_type": "stream",
     "text": [
      "\n",
      " Early Stopping / epoch: 467 loss: 0.000177\n",
      "----------------------------------------------------------------------------------------------------------\n",
      "lr: 0.001  patience: 50  num_layers: 4  batch_size: 32  hidden_size: 32  dropout: 0.25 criterion: <function criterion2 at 0x0000017347E337F0>\n"
     ]
    },
    {
     "data": {
      "application/vnd.jupyter.widget-view+json": {
       "model_id": "b8370afd568748699ae60950938eb9ec",
       "version_major": 2,
       "version_minor": 0
      },
      "text/plain": [
       "  0%|          | 0/10000 [00:00<?, ?it/s]"
      ]
     },
     "metadata": {},
     "output_type": "display_data"
    },
    {
     "name": "stdout",
     "output_type": "stream",
     "text": [
      "\n",
      " Early Stopping / epoch: 358 loss: 0.008586\n",
      "----------------------------------------------------------------------------------------------------------\n",
      "lr: 0.001  patience: 50  num_layers: 4  batch_size: 32  hidden_size: 32  dropout: 0.25 criterion: <function criterion3 at 0x0000017347E33880>\n"
     ]
    },
    {
     "data": {
      "application/vnd.jupyter.widget-view+json": {
       "model_id": "3a51c86a33c349f8a3395c5b3039b803",
       "version_major": 2,
       "version_minor": 0
      },
      "text/plain": [
       "  0%|          | 0/10000 [00:00<?, ?it/s]"
      ]
     },
     "metadata": {},
     "output_type": "display_data"
    },
    {
     "name": "stdout",
     "output_type": "stream",
     "text": [
      "\n",
      " Early Stopping / epoch: 850 loss: 0.001217\n",
      "----------------------------------------------------------------------------------------------------------\n",
      "lr: 0.001  patience: 50  num_layers: 4  batch_size: 32  hidden_size: 32  dropout: 0.5 criterion: MSELoss()\n"
     ]
    },
    {
     "data": {
      "application/vnd.jupyter.widget-view+json": {
       "model_id": "9da3af2ade0542a3a9fbca9faab8c7c7",
       "version_major": 2,
       "version_minor": 0
      },
      "text/plain": [
       "  0%|          | 0/10000 [00:00<?, ?it/s]"
      ]
     },
     "metadata": {},
     "output_type": "display_data"
    },
    {
     "name": "stdout",
     "output_type": "stream",
     "text": [
      "\n",
      " Early Stopping / epoch: 353 loss: 0.000181\n",
      "----------------------------------------------------------------------------------------------------------\n",
      "lr: 0.001  patience: 50  num_layers: 4  batch_size: 32  hidden_size: 32  dropout: 0.5 criterion: <function criterion2 at 0x0000017347E337F0>\n"
     ]
    },
    {
     "data": {
      "application/vnd.jupyter.widget-view+json": {
       "model_id": "2131aa27269b4d62b6a35c4996b78f15",
       "version_major": 2,
       "version_minor": 0
      },
      "text/plain": [
       "  0%|          | 0/10000 [00:00<?, ?it/s]"
      ]
     },
     "metadata": {},
     "output_type": "display_data"
    },
    {
     "name": "stdout",
     "output_type": "stream",
     "text": [
      "\n",
      " Early Stopping / epoch: 335 loss: 0.008616\n",
      "----------------------------------------------------------------------------------------------------------\n",
      "lr: 0.001  patience: 50  num_layers: 4  batch_size: 32  hidden_size: 32  dropout: 0.5 criterion: <function criterion3 at 0x0000017347E33880>\n"
     ]
    },
    {
     "data": {
      "application/vnd.jupyter.widget-view+json": {
       "model_id": "e2ae3b6e0ef14495971e144fc5948c78",
       "version_major": 2,
       "version_minor": 0
      },
      "text/plain": [
       "  0%|          | 0/10000 [00:00<?, ?it/s]"
      ]
     },
     "metadata": {},
     "output_type": "display_data"
    },
    {
     "name": "stdout",
     "output_type": "stream",
     "text": [
      "\n",
      " Early Stopping / epoch: 139 loss: 0.002589\n",
      "----------------------------------------------------------------------------------------------------------\n",
      "lr: 0.001  patience: 50  num_layers: 4  batch_size: 64  hidden_size: 8  dropout: 0.25 criterion: MSELoss()\n"
     ]
    },
    {
     "data": {
      "application/vnd.jupyter.widget-view+json": {
       "model_id": "6f8f67ef15904cc5bc3e97e7aa28f5a3",
       "version_major": 2,
       "version_minor": 0
      },
      "text/plain": [
       "  0%|          | 0/10000 [00:00<?, ?it/s]"
      ]
     },
     "metadata": {},
     "output_type": "display_data"
    },
    {
     "name": "stdout",
     "output_type": "stream",
     "text": [
      "\n",
      " Early Stopping / epoch: 920 loss: 0.000222\n",
      "----------------------------------------------------------------------------------------------------------\n",
      "lr: 0.001  patience: 50  num_layers: 4  batch_size: 64  hidden_size: 8  dropout: 0.25 criterion: <function criterion2 at 0x0000017347E337F0>\n"
     ]
    },
    {
     "data": {
      "application/vnd.jupyter.widget-view+json": {
       "model_id": "8b5d054c0b1147d9b19f1a46fc268ba3",
       "version_major": 2,
       "version_minor": 0
      },
      "text/plain": [
       "  0%|          | 0/10000 [00:00<?, ?it/s]"
      ]
     },
     "metadata": {},
     "output_type": "display_data"
    },
    {
     "name": "stdout",
     "output_type": "stream",
     "text": [
      "\n",
      " Early Stopping / epoch: 447 loss: 0.009369\n",
      "----------------------------------------------------------------------------------------------------------\n",
      "lr: 0.001  patience: 50  num_layers: 4  batch_size: 64  hidden_size: 8  dropout: 0.25 criterion: <function criterion3 at 0x0000017347E33880>\n"
     ]
    },
    {
     "data": {
      "application/vnd.jupyter.widget-view+json": {
       "model_id": "efe958045a0b4b449e97f83b28a50a4d",
       "version_major": 2,
       "version_minor": 0
      },
      "text/plain": [
       "  0%|          | 0/10000 [00:00<?, ?it/s]"
      ]
     },
     "metadata": {},
     "output_type": "display_data"
    },
    {
     "name": "stdout",
     "output_type": "stream",
     "text": [
      "\n",
      " Early Stopping / epoch: 525 loss: 0.001663\n",
      "----------------------------------------------------------------------------------------------------------\n",
      "lr: 0.001  patience: 50  num_layers: 4  batch_size: 64  hidden_size: 8  dropout: 0.5 criterion: MSELoss()\n"
     ]
    },
    {
     "data": {
      "application/vnd.jupyter.widget-view+json": {
       "model_id": "052e01145ce9480ea3ff4076e77fbc48",
       "version_major": 2,
       "version_minor": 0
      },
      "text/plain": [
       "  0%|          | 0/10000 [00:00<?, ?it/s]"
      ]
     },
     "metadata": {},
     "output_type": "display_data"
    },
    {
     "name": "stdout",
     "output_type": "stream",
     "text": [
      "\n",
      " Early Stopping / epoch: 909 loss: 0.000460\n",
      "----------------------------------------------------------------------------------------------------------\n",
      "lr: 0.001  patience: 50  num_layers: 4  batch_size: 64  hidden_size: 8  dropout: 0.5 criterion: <function criterion2 at 0x0000017347E337F0>\n"
     ]
    },
    {
     "data": {
      "application/vnd.jupyter.widget-view+json": {
       "model_id": "3af3fe2ab1cd454e8c1d4b74be643c6c",
       "version_major": 2,
       "version_minor": 0
      },
      "text/plain": [
       "  0%|          | 0/10000 [00:00<?, ?it/s]"
      ]
     },
     "metadata": {},
     "output_type": "display_data"
    },
    {
     "name": "stdout",
     "output_type": "stream",
     "text": [
      "\n",
      " Early Stopping / epoch: 427 loss: 0.009066\n",
      "----------------------------------------------------------------------------------------------------------\n",
      "lr: 0.001  patience: 50  num_layers: 4  batch_size: 64  hidden_size: 8  dropout: 0.5 criterion: <function criterion3 at 0x0000017347E33880>\n"
     ]
    },
    {
     "data": {
      "application/vnd.jupyter.widget-view+json": {
       "model_id": "f974e97e750a40d8a90ef1727cdd6319",
       "version_major": 2,
       "version_minor": 0
      },
      "text/plain": [
       "  0%|          | 0/10000 [00:00<?, ?it/s]"
      ]
     },
     "metadata": {},
     "output_type": "display_data"
    },
    {
     "name": "stdout",
     "output_type": "stream",
     "text": [
      "\n",
      " Early Stopping / epoch: 525 loss: 0.001971\n",
      "----------------------------------------------------------------------------------------------------------\n",
      "lr: 0.001  patience: 50  num_layers: 4  batch_size: 64  hidden_size: 16  dropout: 0.25 criterion: MSELoss()\n"
     ]
    },
    {
     "data": {
      "application/vnd.jupyter.widget-view+json": {
       "model_id": "5ec8debd60dc4caf96b230723e4fa12f",
       "version_major": 2,
       "version_minor": 0
      },
      "text/plain": [
       "  0%|          | 0/10000 [00:00<?, ?it/s]"
      ]
     },
     "metadata": {},
     "output_type": "display_data"
    },
    {
     "name": "stdout",
     "output_type": "stream",
     "text": [
      "\n",
      " Early Stopping / epoch: 923 loss: 0.000115\n",
      "----------------------------------------------------------------------------------------------------------\n",
      "lr: 0.001  patience: 50  num_layers: 4  batch_size: 64  hidden_size: 16  dropout: 0.25 criterion: <function criterion2 at 0x0000017347E337F0>\n"
     ]
    },
    {
     "data": {
      "application/vnd.jupyter.widget-view+json": {
       "model_id": "ef795f92dfaa436796a0bdf74ce3eff6",
       "version_major": 2,
       "version_minor": 0
      },
      "text/plain": [
       "  0%|          | 0/10000 [00:00<?, ?it/s]"
      ]
     },
     "metadata": {},
     "output_type": "display_data"
    },
    {
     "name": "stdout",
     "output_type": "stream",
     "text": [
      "\n",
      " Early Stopping / epoch: 463 loss: 0.008915\n",
      "----------------------------------------------------------------------------------------------------------\n",
      "lr: 0.001  patience: 50  num_layers: 4  batch_size: 64  hidden_size: 16  dropout: 0.25 criterion: <function criterion3 at 0x0000017347E33880>\n"
     ]
    },
    {
     "data": {
      "application/vnd.jupyter.widget-view+json": {
       "model_id": "649de192b0f247fd8c25dbfba85fa922",
       "version_major": 2,
       "version_minor": 0
      },
      "text/plain": [
       "  0%|          | 0/10000 [00:00<?, ?it/s]"
      ]
     },
     "metadata": {},
     "output_type": "display_data"
    },
    {
     "name": "stdout",
     "output_type": "stream",
     "text": [
      "\n",
      " Early Stopping / epoch: 204 loss: 0.002001\n",
      "----------------------------------------------------------------------------------------------------------\n",
      "lr: 0.001  patience: 50  num_layers: 4  batch_size: 64  hidden_size: 16  dropout: 0.5 criterion: MSELoss()\n"
     ]
    },
    {
     "data": {
      "application/vnd.jupyter.widget-view+json": {
       "model_id": "c6e689efdb804322a94171ba463f3fee",
       "version_major": 2,
       "version_minor": 0
      },
      "text/plain": [
       "  0%|          | 0/10000 [00:00<?, ?it/s]"
      ]
     },
     "metadata": {},
     "output_type": "display_data"
    },
    {
     "name": "stdout",
     "output_type": "stream",
     "text": [
      "\n",
      " Early Stopping / epoch: 616 loss: 0.000233\n",
      "----------------------------------------------------------------------------------------------------------\n",
      "lr: 0.001  patience: 50  num_layers: 4  batch_size: 64  hidden_size: 16  dropout: 0.5 criterion: <function criterion2 at 0x0000017347E337F0>\n"
     ]
    },
    {
     "data": {
      "application/vnd.jupyter.widget-view+json": {
       "model_id": "81772e80238b4d40bd44765fabde7365",
       "version_major": 2,
       "version_minor": 0
      },
      "text/plain": [
       "  0%|          | 0/10000 [00:00<?, ?it/s]"
      ]
     },
     "metadata": {},
     "output_type": "display_data"
    },
    {
     "name": "stdout",
     "output_type": "stream",
     "text": [
      "\n",
      " Early Stopping / epoch: 541 loss: 0.011054\n",
      "----------------------------------------------------------------------------------------------------------\n",
      "lr: 0.001  patience: 50  num_layers: 4  batch_size: 64  hidden_size: 16  dropout: 0.5 criterion: <function criterion3 at 0x0000017347E33880>\n"
     ]
    },
    {
     "data": {
      "application/vnd.jupyter.widget-view+json": {
       "model_id": "4be66f534bff40d1a7309bea968a7a43",
       "version_major": 2,
       "version_minor": 0
      },
      "text/plain": [
       "  0%|          | 0/10000 [00:00<?, ?it/s]"
      ]
     },
     "metadata": {},
     "output_type": "display_data"
    },
    {
     "name": "stdout",
     "output_type": "stream",
     "text": [
      "\n",
      " Early Stopping / epoch: 876 loss: 0.001609\n",
      "----------------------------------------------------------------------------------------------------------\n",
      "lr: 0.001  patience: 50  num_layers: 4  batch_size: 64  hidden_size: 32  dropout: 0.25 criterion: MSELoss()\n"
     ]
    },
    {
     "data": {
      "application/vnd.jupyter.widget-view+json": {
       "model_id": "1290e3cc775f4290945d711030fa706d",
       "version_major": 2,
       "version_minor": 0
      },
      "text/plain": [
       "  0%|          | 0/10000 [00:00<?, ?it/s]"
      ]
     },
     "metadata": {},
     "output_type": "display_data"
    },
    {
     "name": "stdout",
     "output_type": "stream",
     "text": [
      "\n",
      " Early Stopping / epoch: 654 loss: 0.000077\n",
      "----------------------------------------------------------------------------------------------------------\n",
      "lr: 0.001  patience: 50  num_layers: 4  batch_size: 64  hidden_size: 32  dropout: 0.25 criterion: <function criterion2 at 0x0000017347E337F0>\n"
     ]
    },
    {
     "data": {
      "application/vnd.jupyter.widget-view+json": {
       "model_id": "660e76d66c2d46579f33bbb5490a1637",
       "version_major": 2,
       "version_minor": 0
      },
      "text/plain": [
       "  0%|          | 0/10000 [00:00<?, ?it/s]"
      ]
     },
     "metadata": {},
     "output_type": "display_data"
    },
    {
     "name": "stdout",
     "output_type": "stream",
     "text": [
      "\n",
      " Early Stopping / epoch: 236 loss: 0.008536\n",
      "----------------------------------------------------------------------------------------------------------\n",
      "lr: 0.001  patience: 50  num_layers: 4  batch_size: 64  hidden_size: 32  dropout: 0.25 criterion: <function criterion3 at 0x0000017347E33880>\n"
     ]
    },
    {
     "data": {
      "application/vnd.jupyter.widget-view+json": {
       "model_id": "0679641735dc497eb317ecb2633d7a5a",
       "version_major": 2,
       "version_minor": 0
      },
      "text/plain": [
       "  0%|          | 0/10000 [00:00<?, ?it/s]"
      ]
     },
     "metadata": {},
     "output_type": "display_data"
    },
    {
     "name": "stdout",
     "output_type": "stream",
     "text": [
      "\n",
      " Early Stopping / epoch: 680 loss: 0.001178\n",
      "----------------------------------------------------------------------------------------------------------\n",
      "lr: 0.001  patience: 50  num_layers: 4  batch_size: 64  hidden_size: 32  dropout: 0.5 criterion: MSELoss()\n"
     ]
    },
    {
     "data": {
      "application/vnd.jupyter.widget-view+json": {
       "model_id": "01927e93f0a042279f85a778e70beb3c",
       "version_major": 2,
       "version_minor": 0
      },
      "text/plain": [
       "  0%|          | 0/10000 [00:00<?, ?it/s]"
      ]
     },
     "metadata": {},
     "output_type": "display_data"
    },
    {
     "name": "stdout",
     "output_type": "stream",
     "text": [
      "\n",
      " Early Stopping / epoch: 465 loss: 0.000133\n",
      "----------------------------------------------------------------------------------------------------------\n",
      "lr: 0.001  patience: 50  num_layers: 4  batch_size: 64  hidden_size: 32  dropout: 0.5 criterion: <function criterion2 at 0x0000017347E337F0>\n"
     ]
    },
    {
     "data": {
      "application/vnd.jupyter.widget-view+json": {
       "model_id": "ccedcc05e9cb46eda0d7a163a6b3ee1b",
       "version_major": 2,
       "version_minor": 0
      },
      "text/plain": [
       "  0%|          | 0/10000 [00:00<?, ?it/s]"
      ]
     },
     "metadata": {},
     "output_type": "display_data"
    },
    {
     "name": "stdout",
     "output_type": "stream",
     "text": [
      "\n",
      " Early Stopping / epoch: 355 loss: 0.008767\n",
      "----------------------------------------------------------------------------------------------------------\n",
      "lr: 0.001  patience: 50  num_layers: 4  batch_size: 64  hidden_size: 32  dropout: 0.5 criterion: <function criterion3 at 0x0000017347E33880>\n"
     ]
    },
    {
     "data": {
      "application/vnd.jupyter.widget-view+json": {
       "model_id": "e90b606c4777428ea4e19eff98510446",
       "version_major": 2,
       "version_minor": 0
      },
      "text/plain": [
       "  0%|          | 0/10000 [00:00<?, ?it/s]"
      ]
     },
     "metadata": {},
     "output_type": "display_data"
    },
    {
     "name": "stdout",
     "output_type": "stream",
     "text": [
      "\n",
      " Early Stopping / epoch: 674 loss: 0.001444\n",
      "----------------------------------------------------------------------------------------------------------\n",
      "lr: 0.001  patience: 50  num_layers: 4  batch_size: 128  hidden_size: 8  dropout: 0.25 criterion: MSELoss()\n"
     ]
    },
    {
     "data": {
      "application/vnd.jupyter.widget-view+json": {
       "model_id": "3712fb7b68e8484987cfca3735b5afce",
       "version_major": 2,
       "version_minor": 0
      },
      "text/plain": [
       "  0%|          | 0/10000 [00:00<?, ?it/s]"
      ]
     },
     "metadata": {},
     "output_type": "display_data"
    },
    {
     "name": "stdout",
     "output_type": "stream",
     "text": [
      "\n",
      " Early Stopping / epoch: 420 loss: 0.000634\n",
      "----------------------------------------------------------------------------------------------------------\n",
      "lr: 0.001  patience: 50  num_layers: 4  batch_size: 128  hidden_size: 8  dropout: 0.25 criterion: <function criterion2 at 0x0000017347E337F0>\n"
     ]
    },
    {
     "data": {
      "application/vnd.jupyter.widget-view+json": {
       "model_id": "4ff473be0d424db3ad91a6010fbe8fe3",
       "version_major": 2,
       "version_minor": 0
      },
      "text/plain": [
       "  0%|          | 0/10000 [00:00<?, ?it/s]"
      ]
     },
     "metadata": {},
     "output_type": "display_data"
    },
    {
     "name": "stdout",
     "output_type": "stream",
     "text": [
      "\n",
      " Early Stopping / epoch: 585 loss: 0.008807\n",
      "----------------------------------------------------------------------------------------------------------\n",
      "lr: 0.001  patience: 50  num_layers: 4  batch_size: 128  hidden_size: 8  dropout: 0.25 criterion: <function criterion3 at 0x0000017347E33880>\n"
     ]
    },
    {
     "data": {
      "application/vnd.jupyter.widget-view+json": {
       "model_id": "de00e3f481334c62b2eeba508d41054d",
       "version_major": 2,
       "version_minor": 0
      },
      "text/plain": [
       "  0%|          | 0/10000 [00:00<?, ?it/s]"
      ]
     },
     "metadata": {},
     "output_type": "display_data"
    },
    {
     "name": "stdout",
     "output_type": "stream",
     "text": [
      "\n",
      " Early Stopping / epoch: 711 loss: 0.001219\n",
      "----------------------------------------------------------------------------------------------------------\n",
      "lr: 0.001  patience: 50  num_layers: 4  batch_size: 128  hidden_size: 8  dropout: 0.5 criterion: MSELoss()\n"
     ]
    },
    {
     "data": {
      "application/vnd.jupyter.widget-view+json": {
       "model_id": "ab53349aa2194f9d88402bbd7343d0df",
       "version_major": 2,
       "version_minor": 0
      },
      "text/plain": [
       "  0%|          | 0/10000 [00:00<?, ?it/s]"
      ]
     },
     "metadata": {},
     "output_type": "display_data"
    },
    {
     "name": "stdout",
     "output_type": "stream",
     "text": [
      "\n",
      " Early Stopping / epoch: 414 loss: 0.000662\n",
      "----------------------------------------------------------------------------------------------------------\n",
      "lr: 0.001  patience: 50  num_layers: 4  batch_size: 128  hidden_size: 8  dropout: 0.5 criterion: <function criterion2 at 0x0000017347E337F0>\n"
     ]
    },
    {
     "data": {
      "application/vnd.jupyter.widget-view+json": {
       "model_id": "a31925073d474ad7b36220a7e9754ddf",
       "version_major": 2,
       "version_minor": 0
      },
      "text/plain": [
       "  0%|          | 0/10000 [00:00<?, ?it/s]"
      ]
     },
     "metadata": {},
     "output_type": "display_data"
    },
    {
     "name": "stdout",
     "output_type": "stream",
     "text": [
      "\n",
      " Early Stopping / epoch: 774 loss: 0.008675\n",
      "----------------------------------------------------------------------------------------------------------\n",
      "lr: 0.001  patience: 50  num_layers: 4  batch_size: 128  hidden_size: 8  dropout: 0.5 criterion: <function criterion3 at 0x0000017347E33880>\n"
     ]
    },
    {
     "data": {
      "application/vnd.jupyter.widget-view+json": {
       "model_id": "1f927c1f7def410c991406e1e7175ebd",
       "version_major": 2,
       "version_minor": 0
      },
      "text/plain": [
       "  0%|          | 0/10000 [00:00<?, ?it/s]"
      ]
     },
     "metadata": {},
     "output_type": "display_data"
    },
    {
     "name": "stdout",
     "output_type": "stream",
     "text": [
      "\n",
      " Early Stopping / epoch: 866 loss: 0.001517\n",
      "----------------------------------------------------------------------------------------------------------\n",
      "lr: 0.001  patience: 50  num_layers: 4  batch_size: 128  hidden_size: 16  dropout: 0.25 criterion: MSELoss()\n"
     ]
    },
    {
     "data": {
      "application/vnd.jupyter.widget-view+json": {
       "model_id": "7a10a544aaa64f4ba4abb8ce0f642475",
       "version_major": 2,
       "version_minor": 0
      },
      "text/plain": [
       "  0%|          | 0/10000 [00:00<?, ?it/s]"
      ]
     },
     "metadata": {},
     "output_type": "display_data"
    },
    {
     "name": "stdout",
     "output_type": "stream",
     "text": [
      "\n",
      " Early Stopping / epoch: 1041 loss: 0.000103\n",
      "----------------------------------------------------------------------------------------------------------\n",
      "lr: 0.001  patience: 50  num_layers: 4  batch_size: 128  hidden_size: 16  dropout: 0.25 criterion: <function criterion2 at 0x0000017347E337F0>\n"
     ]
    },
    {
     "data": {
      "application/vnd.jupyter.widget-view+json": {
       "model_id": "517d98e0d5a944a4a798cafb748a0f3b",
       "version_major": 2,
       "version_minor": 0
      },
      "text/plain": [
       "  0%|          | 0/10000 [00:00<?, ?it/s]"
      ]
     },
     "metadata": {},
     "output_type": "display_data"
    },
    {
     "name": "stdout",
     "output_type": "stream",
     "text": [
      "\n",
      " Early Stopping / epoch: 778 loss: 0.007721\n",
      "----------------------------------------------------------------------------------------------------------\n",
      "lr: 0.001  patience: 50  num_layers: 4  batch_size: 128  hidden_size: 16  dropout: 0.25 criterion: <function criterion3 at 0x0000017347E33880>\n"
     ]
    },
    {
     "data": {
      "application/vnd.jupyter.widget-view+json": {
       "model_id": "b4befd79343640868b9a670af7526935",
       "version_major": 2,
       "version_minor": 0
      },
      "text/plain": [
       "  0%|          | 0/10000 [00:00<?, ?it/s]"
      ]
     },
     "metadata": {},
     "output_type": "display_data"
    },
    {
     "name": "stdout",
     "output_type": "stream",
     "text": [
      "\n",
      " Early Stopping / epoch: 810 loss: 0.000922\n",
      "----------------------------------------------------------------------------------------------------------\n",
      "lr: 0.001  patience: 50  num_layers: 4  batch_size: 128  hidden_size: 16  dropout: 0.5 criterion: MSELoss()\n"
     ]
    },
    {
     "data": {
      "application/vnd.jupyter.widget-view+json": {
       "model_id": "3d20d4e7ee3e4079b363dd05344f5569",
       "version_major": 2,
       "version_minor": 0
      },
      "text/plain": [
       "  0%|          | 0/10000 [00:00<?, ?it/s]"
      ]
     },
     "metadata": {},
     "output_type": "display_data"
    },
    {
     "name": "stdout",
     "output_type": "stream",
     "text": [
      "\n",
      " Early Stopping / epoch: 815 loss: 0.000233\n",
      "----------------------------------------------------------------------------------------------------------\n",
      "lr: 0.001  patience: 50  num_layers: 4  batch_size: 128  hidden_size: 16  dropout: 0.5 criterion: <function criterion2 at 0x0000017347E337F0>\n"
     ]
    },
    {
     "data": {
      "application/vnd.jupyter.widget-view+json": {
       "model_id": "fe7693c1285249a5ab09a61840b77c80",
       "version_major": 2,
       "version_minor": 0
      },
      "text/plain": [
       "  0%|          | 0/10000 [00:00<?, ?it/s]"
      ]
     },
     "metadata": {},
     "output_type": "display_data"
    },
    {
     "name": "stdout",
     "output_type": "stream",
     "text": [
      "\n",
      " Early Stopping / epoch: 924 loss: 0.007661\n",
      "----------------------------------------------------------------------------------------------------------\n",
      "lr: 0.001  patience: 50  num_layers: 4  batch_size: 128  hidden_size: 16  dropout: 0.5 criterion: <function criterion3 at 0x0000017347E33880>\n"
     ]
    },
    {
     "data": {
      "application/vnd.jupyter.widget-view+json": {
       "model_id": "ae0ceeba10a14733a1fc1e325d39e312",
       "version_major": 2,
       "version_minor": 0
      },
      "text/plain": [
       "  0%|          | 0/10000 [00:00<?, ?it/s]"
      ]
     },
     "metadata": {},
     "output_type": "display_data"
    },
    {
     "name": "stdout",
     "output_type": "stream",
     "text": [
      "\n",
      " Early Stopping / epoch: 910 loss: 0.001195\n",
      "----------------------------------------------------------------------------------------------------------\n",
      "lr: 0.001  patience: 50  num_layers: 4  batch_size: 128  hidden_size: 32  dropout: 0.25 criterion: MSELoss()\n"
     ]
    },
    {
     "data": {
      "application/vnd.jupyter.widget-view+json": {
       "model_id": "9409a4679ebd419f8ef4174924b35c12",
       "version_major": 2,
       "version_minor": 0
      },
      "text/plain": [
       "  0%|          | 0/10000 [00:00<?, ?it/s]"
      ]
     },
     "metadata": {},
     "output_type": "display_data"
    },
    {
     "name": "stdout",
     "output_type": "stream",
     "text": [
      "\n",
      " Early Stopping / epoch: 620 loss: 0.000116\n",
      "----------------------------------------------------------------------------------------------------------\n",
      "lr: 0.001  patience: 50  num_layers: 4  batch_size: 128  hidden_size: 32  dropout: 0.25 criterion: <function criterion2 at 0x0000017347E337F0>\n"
     ]
    },
    {
     "data": {
      "application/vnd.jupyter.widget-view+json": {
       "model_id": "a03c6266c7a14dd3918102383084e7c1",
       "version_major": 2,
       "version_minor": 0
      },
      "text/plain": [
       "  0%|          | 0/10000 [00:00<?, ?it/s]"
      ]
     },
     "metadata": {},
     "output_type": "display_data"
    },
    {
     "name": "stdout",
     "output_type": "stream",
     "text": [
      "\n",
      " Early Stopping / epoch: 652 loss: 0.006603\n",
      "----------------------------------------------------------------------------------------------------------\n",
      "lr: 0.001  patience: 50  num_layers: 4  batch_size: 128  hidden_size: 32  dropout: 0.25 criterion: <function criterion3 at 0x0000017347E33880>\n"
     ]
    },
    {
     "data": {
      "application/vnd.jupyter.widget-view+json": {
       "model_id": "6a088fec90454f5e8a09e9795c447785",
       "version_major": 2,
       "version_minor": 0
      },
      "text/plain": [
       "  0%|          | 0/10000 [00:00<?, ?it/s]"
      ]
     },
     "metadata": {},
     "output_type": "display_data"
    },
    {
     "name": "stdout",
     "output_type": "stream",
     "text": [
      "\n",
      " Early Stopping / epoch: 673 loss: 0.000813\n",
      "----------------------------------------------------------------------------------------------------------\n",
      "lr: 0.001  patience: 50  num_layers: 4  batch_size: 128  hidden_size: 32  dropout: 0.5 criterion: MSELoss()\n"
     ]
    },
    {
     "data": {
      "application/vnd.jupyter.widget-view+json": {
       "model_id": "f5e8f3a2c7614ed5b7a75d214b735a21",
       "version_major": 2,
       "version_minor": 0
      },
      "text/plain": [
       "  0%|          | 0/10000 [00:00<?, ?it/s]"
      ]
     },
     "metadata": {},
     "output_type": "display_data"
    },
    {
     "name": "stdout",
     "output_type": "stream",
     "text": [
      "\n",
      " Early Stopping / epoch: 499 loss: 0.000154\n",
      "----------------------------------------------------------------------------------------------------------\n",
      "lr: 0.001  patience: 50  num_layers: 4  batch_size: 128  hidden_size: 32  dropout: 0.5 criterion: <function criterion2 at 0x0000017347E337F0>\n"
     ]
    },
    {
     "data": {
      "application/vnd.jupyter.widget-view+json": {
       "model_id": "f1c6be7085dd4067badd77bcbeb82005",
       "version_major": 2,
       "version_minor": 0
      },
      "text/plain": [
       "  0%|          | 0/10000 [00:00<?, ?it/s]"
      ]
     },
     "metadata": {},
     "output_type": "display_data"
    },
    {
     "name": "stdout",
     "output_type": "stream",
     "text": [
      "\n",
      " Early Stopping / epoch: 363 loss: 0.008171\n",
      "----------------------------------------------------------------------------------------------------------\n",
      "lr: 0.001  patience: 50  num_layers: 4  batch_size: 128  hidden_size: 32  dropout: 0.5 criterion: <function criterion3 at 0x0000017347E33880>\n"
     ]
    },
    {
     "data": {
      "application/vnd.jupyter.widget-view+json": {
       "model_id": "9676c75fa79a412d88a5104f1a80fcbb",
       "version_major": 2,
       "version_minor": 0
      },
      "text/plain": [
       "  0%|          | 0/10000 [00:00<?, ?it/s]"
      ]
     },
     "metadata": {},
     "output_type": "display_data"
    },
    {
     "name": "stdout",
     "output_type": "stream",
     "text": [
      "\n",
      " Early Stopping / epoch: 681 loss: 0.000893\n",
      "----------------------------------------------------------------------------------------------------------\n",
      "lr: 0.0001  patience: 20  num_layers: 2  batch_size: 32  hidden_size: 8  dropout: 0.25 criterion: MSELoss()\n"
     ]
    },
    {
     "data": {
      "application/vnd.jupyter.widget-view+json": {
       "model_id": "a70e5c9084d94c75a19d32a99f414d95",
       "version_major": 2,
       "version_minor": 0
      },
      "text/plain": [
       "  0%|          | 0/10000 [00:00<?, ?it/s]"
      ]
     },
     "metadata": {},
     "output_type": "display_data"
    },
    {
     "name": "stdout",
     "output_type": "stream",
     "text": [
      "\n",
      " Early Stopping / epoch: 319 loss: 0.000679\n",
      "----------------------------------------------------------------------------------------------------------\n",
      "lr: 0.0001  patience: 20  num_layers: 2  batch_size: 32  hidden_size: 8  dropout: 0.25 criterion: <function criterion2 at 0x0000017347E337F0>\n"
     ]
    },
    {
     "data": {
      "application/vnd.jupyter.widget-view+json": {
       "model_id": "ee94d2dcfdd847a392c16c661a1fd914",
       "version_major": 2,
       "version_minor": 0
      },
      "text/plain": [
       "  0%|          | 0/10000 [00:00<?, ?it/s]"
      ]
     },
     "metadata": {},
     "output_type": "display_data"
    },
    {
     "name": "stdout",
     "output_type": "stream",
     "text": [
      "\n",
      " Early Stopping / epoch: 228 loss: 0.009882\n",
      "----------------------------------------------------------------------------------------------------------\n",
      "lr: 0.0001  patience: 20  num_layers: 2  batch_size: 32  hidden_size: 8  dropout: 0.25 criterion: <function criterion3 at 0x0000017347E33880>\n"
     ]
    },
    {
     "data": {
      "application/vnd.jupyter.widget-view+json": {
       "model_id": "be2e103ba57f419b919e3ba9786b944d",
       "version_major": 2,
       "version_minor": 0
      },
      "text/plain": [
       "  0%|          | 0/10000 [00:00<?, ?it/s]"
      ]
     },
     "metadata": {},
     "output_type": "display_data"
    },
    {
     "name": "stdout",
     "output_type": "stream",
     "text": [
      "\n",
      " Early Stopping / epoch: 278 loss: 0.002555\n",
      "----------------------------------------------------------------------------------------------------------\n",
      "lr: 0.0001  patience: 20  num_layers: 2  batch_size: 32  hidden_size: 8  dropout: 0.5 criterion: MSELoss()\n"
     ]
    },
    {
     "data": {
      "application/vnd.jupyter.widget-view+json": {
       "model_id": "21757834ae33481ebf4fcc4a5b868b25",
       "version_major": 2,
       "version_minor": 0
      },
      "text/plain": [
       "  0%|          | 0/10000 [00:00<?, ?it/s]"
      ]
     },
     "metadata": {},
     "output_type": "display_data"
    },
    {
     "name": "stdout",
     "output_type": "stream",
     "text": [
      "\n",
      " Early Stopping / epoch: 151 loss: 0.000736\n",
      "----------------------------------------------------------------------------------------------------------\n",
      "lr: 0.0001  patience: 20  num_layers: 2  batch_size: 32  hidden_size: 8  dropout: 0.5 criterion: <function criterion2 at 0x0000017347E337F0>\n"
     ]
    },
    {
     "data": {
      "application/vnd.jupyter.widget-view+json": {
       "model_id": "bb5894f031674ae7941cf81b714d2586",
       "version_major": 2,
       "version_minor": 0
      },
      "text/plain": [
       "  0%|          | 0/10000 [00:00<?, ?it/s]"
      ]
     },
     "metadata": {},
     "output_type": "display_data"
    },
    {
     "name": "stdout",
     "output_type": "stream",
     "text": [
      "\n",
      " Early Stopping / epoch: 208 loss: 0.009941\n",
      "----------------------------------------------------------------------------------------------------------\n",
      "lr: 0.0001  patience: 20  num_layers: 2  batch_size: 32  hidden_size: 8  dropout: 0.5 criterion: <function criterion3 at 0x0000017347E33880>\n"
     ]
    },
    {
     "data": {
      "application/vnd.jupyter.widget-view+json": {
       "model_id": "ed772e05487b4f8db51f28dd51e179e0",
       "version_major": 2,
       "version_minor": 0
      },
      "text/plain": [
       "  0%|          | 0/10000 [00:00<?, ?it/s]"
      ]
     },
     "metadata": {},
     "output_type": "display_data"
    },
    {
     "name": "stdout",
     "output_type": "stream",
     "text": [
      "\n",
      " Early Stopping / epoch: 339 loss: 0.002576\n",
      "----------------------------------------------------------------------------------------------------------\n",
      "lr: 0.0001  patience: 20  num_layers: 2  batch_size: 32  hidden_size: 16  dropout: 0.25 criterion: MSELoss()\n"
     ]
    },
    {
     "data": {
      "application/vnd.jupyter.widget-view+json": {
       "model_id": "b16dd8fdaa864fce99eac62fce04fe5f",
       "version_major": 2,
       "version_minor": 0
      },
      "text/plain": [
       "  0%|          | 0/10000 [00:00<?, ?it/s]"
      ]
     },
     "metadata": {},
     "output_type": "display_data"
    },
    {
     "name": "stdout",
     "output_type": "stream",
     "text": [
      "\n",
      " Early Stopping / epoch: 226 loss: 0.000683\n",
      "----------------------------------------------------------------------------------------------------------\n",
      "lr: 0.0001  patience: 20  num_layers: 2  batch_size: 32  hidden_size: 16  dropout: 0.25 criterion: <function criterion2 at 0x0000017347E337F0>\n"
     ]
    },
    {
     "data": {
      "application/vnd.jupyter.widget-view+json": {
       "model_id": "78102be0e3e64aafa4c98bb0e4846404",
       "version_major": 2,
       "version_minor": 0
      },
      "text/plain": [
       "  0%|          | 0/10000 [00:00<?, ?it/s]"
      ]
     },
     "metadata": {},
     "output_type": "display_data"
    },
    {
     "name": "stdout",
     "output_type": "stream",
     "text": [
      "\n",
      " Early Stopping / epoch: 328 loss: 0.009272\n",
      "----------------------------------------------------------------------------------------------------------\n",
      "lr: 0.0001  patience: 20  num_layers: 2  batch_size: 32  hidden_size: 16  dropout: 0.25 criterion: <function criterion3 at 0x0000017347E33880>\n"
     ]
    },
    {
     "data": {
      "application/vnd.jupyter.widget-view+json": {
       "model_id": "383b1e5611fc4e1e9b13e559840ce290",
       "version_major": 2,
       "version_minor": 0
      },
      "text/plain": [
       "  0%|          | 0/10000 [00:00<?, ?it/s]"
      ]
     },
     "metadata": {},
     "output_type": "display_data"
    },
    {
     "name": "stdout",
     "output_type": "stream",
     "text": [
      "\n",
      " Early Stopping / epoch: 268 loss: 0.002513\n",
      "----------------------------------------------------------------------------------------------------------\n",
      "lr: 0.0001  patience: 20  num_layers: 2  batch_size: 32  hidden_size: 16  dropout: 0.5 criterion: MSELoss()\n"
     ]
    },
    {
     "data": {
      "application/vnd.jupyter.widget-view+json": {
       "model_id": "1f97db60ebf4436996981296b146f9e4",
       "version_major": 2,
       "version_minor": 0
      },
      "text/plain": [
       "  0%|          | 0/10000 [00:00<?, ?it/s]"
      ]
     },
     "metadata": {},
     "output_type": "display_data"
    },
    {
     "name": "stdout",
     "output_type": "stream",
     "text": [
      "\n",
      " Early Stopping / epoch: 230 loss: 0.000696\n",
      "----------------------------------------------------------------------------------------------------------\n",
      "lr: 0.0001  patience: 20  num_layers: 2  batch_size: 32  hidden_size: 16  dropout: 0.5 criterion: <function criterion2 at 0x0000017347E337F0>\n"
     ]
    },
    {
     "data": {
      "application/vnd.jupyter.widget-view+json": {
       "model_id": "eaef2c0d0a3b4526952cb9c689dddcf3",
       "version_major": 2,
       "version_minor": 0
      },
      "text/plain": [
       "  0%|          | 0/10000 [00:00<?, ?it/s]"
      ]
     },
     "metadata": {},
     "output_type": "display_data"
    },
    {
     "name": "stdout",
     "output_type": "stream",
     "text": [
      "\n",
      " Early Stopping / epoch: 248 loss: 0.009581\n",
      "----------------------------------------------------------------------------------------------------------\n",
      "lr: 0.0001  patience: 20  num_layers: 2  batch_size: 32  hidden_size: 16  dropout: 0.5 criterion: <function criterion3 at 0x0000017347E33880>\n"
     ]
    },
    {
     "data": {
      "application/vnd.jupyter.widget-view+json": {
       "model_id": "c9f48ece2c43468886d733e79c8e6b36",
       "version_major": 2,
       "version_minor": 0
      },
      "text/plain": [
       "  0%|          | 0/10000 [00:00<?, ?it/s]"
      ]
     },
     "metadata": {},
     "output_type": "display_data"
    },
    {
     "name": "stdout",
     "output_type": "stream",
     "text": [
      "\n",
      " Early Stopping / epoch: 309 loss: 0.002541\n",
      "----------------------------------------------------------------------------------------------------------\n",
      "lr: 0.0001  patience: 20  num_layers: 2  batch_size: 32  hidden_size: 32  dropout: 0.25 criterion: MSELoss()\n"
     ]
    },
    {
     "data": {
      "application/vnd.jupyter.widget-view+json": {
       "model_id": "7b776f5ad3044c35a7fe18275d67c238",
       "version_major": 2,
       "version_minor": 0
      },
      "text/plain": [
       "  0%|          | 0/10000 [00:00<?, ?it/s]"
      ]
     },
     "metadata": {},
     "output_type": "display_data"
    },
    {
     "name": "stdout",
     "output_type": "stream",
     "text": [
      "\n",
      " Early Stopping / epoch: 277 loss: 0.000610\n",
      "----------------------------------------------------------------------------------------------------------\n",
      "lr: 0.0001  patience: 20  num_layers: 2  batch_size: 32  hidden_size: 32  dropout: 0.25 criterion: <function criterion2 at 0x0000017347E337F0>\n"
     ]
    },
    {
     "data": {
      "application/vnd.jupyter.widget-view+json": {
       "model_id": "9f32ba1137be403d82a8f2f903420d1f",
       "version_major": 2,
       "version_minor": 0
      },
      "text/plain": [
       "  0%|          | 0/10000 [00:00<?, ?it/s]"
      ]
     },
     "metadata": {},
     "output_type": "display_data"
    },
    {
     "name": "stdout",
     "output_type": "stream",
     "text": [
      "\n",
      " Early Stopping / epoch: 332 loss: 0.008631\n",
      "----------------------------------------------------------------------------------------------------------\n",
      "lr: 0.0001  patience: 20  num_layers: 2  batch_size: 32  hidden_size: 32  dropout: 0.25 criterion: <function criterion3 at 0x0000017347E33880>\n"
     ]
    },
    {
     "data": {
      "application/vnd.jupyter.widget-view+json": {
       "model_id": "fc2f242844d046888394df23ee6da52a",
       "version_major": 2,
       "version_minor": 0
      },
      "text/plain": [
       "  0%|          | 0/10000 [00:00<?, ?it/s]"
      ]
     },
     "metadata": {},
     "output_type": "display_data"
    },
    {
     "name": "stdout",
     "output_type": "stream",
     "text": [
      "\n",
      " Early Stopping / epoch: 287 loss: 0.002365\n",
      "----------------------------------------------------------------------------------------------------------\n",
      "lr: 0.0001  patience: 20  num_layers: 2  batch_size: 32  hidden_size: 32  dropout: 0.5 criterion: MSELoss()\n"
     ]
    },
    {
     "data": {
      "application/vnd.jupyter.widget-view+json": {
       "model_id": "56782dde76474502b36ce72ac8aeed68",
       "version_major": 2,
       "version_minor": 0
      },
      "text/plain": [
       "  0%|          | 0/10000 [00:00<?, ?it/s]"
      ]
     },
     "metadata": {},
     "output_type": "display_data"
    },
    {
     "name": "stdout",
     "output_type": "stream",
     "text": [
      "\n",
      " Early Stopping / epoch: 175 loss: 0.000667\n",
      "----------------------------------------------------------------------------------------------------------\n",
      "lr: 0.0001  patience: 20  num_layers: 2  batch_size: 32  hidden_size: 32  dropout: 0.5 criterion: <function criterion2 at 0x0000017347E337F0>\n"
     ]
    },
    {
     "data": {
      "application/vnd.jupyter.widget-view+json": {
       "model_id": "86daa724687f412786578a53733b8efe",
       "version_major": 2,
       "version_minor": 0
      },
      "text/plain": [
       "  0%|          | 0/10000 [00:00<?, ?it/s]"
      ]
     },
     "metadata": {},
     "output_type": "display_data"
    },
    {
     "name": "stdout",
     "output_type": "stream",
     "text": [
      "\n",
      " Early Stopping / epoch: 198 loss: 0.009091\n",
      "----------------------------------------------------------------------------------------------------------\n",
      "lr: 0.0001  patience: 20  num_layers: 2  batch_size: 32  hidden_size: 32  dropout: 0.5 criterion: <function criterion3 at 0x0000017347E33880>\n"
     ]
    },
    {
     "data": {
      "application/vnd.jupyter.widget-view+json": {
       "model_id": "8715f748758b4e159f02ad5845215267",
       "version_major": 2,
       "version_minor": 0
      },
      "text/plain": [
       "  0%|          | 0/10000 [00:00<?, ?it/s]"
      ]
     },
     "metadata": {},
     "output_type": "display_data"
    },
    {
     "name": "stdout",
     "output_type": "stream",
     "text": [
      "\n",
      " Early Stopping / epoch: 268 loss: 0.002458\n",
      "----------------------------------------------------------------------------------------------------------\n",
      "lr: 0.0001  patience: 20  num_layers: 2  batch_size: 64  hidden_size: 8  dropout: 0.25 criterion: MSELoss()\n"
     ]
    },
    {
     "data": {
      "application/vnd.jupyter.widget-view+json": {
       "model_id": "e81475c2455b4aa48f9156386060baa8",
       "version_major": 2,
       "version_minor": 0
      },
      "text/plain": [
       "  0%|          | 0/10000 [00:00<?, ?it/s]"
      ]
     },
     "metadata": {},
     "output_type": "display_data"
    },
    {
     "name": "stdout",
     "output_type": "stream",
     "text": [
      "\n",
      " Early Stopping / epoch: 267 loss: 0.000664\n",
      "----------------------------------------------------------------------------------------------------------\n",
      "lr: 0.0001  patience: 20  num_layers: 2  batch_size: 64  hidden_size: 8  dropout: 0.25 criterion: <function criterion2 at 0x0000017347E337F0>\n"
     ]
    },
    {
     "data": {
      "application/vnd.jupyter.widget-view+json": {
       "model_id": "0da8225ce6af48c2b60c62aa822d76a9",
       "version_major": 2,
       "version_minor": 0
      },
      "text/plain": [
       "  0%|          | 0/10000 [00:00<?, ?it/s]"
      ]
     },
     "metadata": {},
     "output_type": "display_data"
    },
    {
     "name": "stdout",
     "output_type": "stream",
     "text": [
      "\n",
      " Early Stopping / epoch: 379 loss: 0.011770\n",
      "----------------------------------------------------------------------------------------------------------\n",
      "lr: 0.0001  patience: 20  num_layers: 2  batch_size: 64  hidden_size: 8  dropout: 0.25 criterion: <function criterion3 at 0x0000017347E33880>\n"
     ]
    },
    {
     "data": {
      "application/vnd.jupyter.widget-view+json": {
       "model_id": "24bfcd7fd0ee48cb82d97e271ced6d59",
       "version_major": 2,
       "version_minor": 0
      },
      "text/plain": [
       "  0%|          | 0/10000 [00:00<?, ?it/s]"
      ]
     },
     "metadata": {},
     "output_type": "display_data"
    },
    {
     "name": "stdout",
     "output_type": "stream",
     "text": [
      "\n",
      " Early Stopping / epoch: 655 loss: 0.002008\n",
      "----------------------------------------------------------------------------------------------------------\n",
      "lr: 0.0001  patience: 20  num_layers: 2  batch_size: 64  hidden_size: 8  dropout: 0.5 criterion: MSELoss()\n"
     ]
    },
    {
     "data": {
      "application/vnd.jupyter.widget-view+json": {
       "model_id": "52124f4528ae4a09a5b819477e44dacd",
       "version_major": 2,
       "version_minor": 0
      },
      "text/plain": [
       "  0%|          | 0/10000 [00:00<?, ?it/s]"
      ]
     },
     "metadata": {},
     "output_type": "display_data"
    },
    {
     "name": "stdout",
     "output_type": "stream",
     "text": [
      "\n",
      " Early Stopping / epoch: 290 loss: 0.000697\n",
      "----------------------------------------------------------------------------------------------------------\n",
      "lr: 0.0001  patience: 20  num_layers: 2  batch_size: 64  hidden_size: 8  dropout: 0.5 criterion: <function criterion2 at 0x0000017347E337F0>\n"
     ]
    },
    {
     "data": {
      "application/vnd.jupyter.widget-view+json": {
       "model_id": "d6d854455f3f4df0a2f8dc66033d92a0",
       "version_major": 2,
       "version_minor": 0
      },
      "text/plain": [
       "  0%|          | 0/10000 [00:00<?, ?it/s]"
      ]
     },
     "metadata": {},
     "output_type": "display_data"
    },
    {
     "name": "stdout",
     "output_type": "stream",
     "text": [
      "\n",
      " Early Stopping / epoch: 434 loss: 0.009876\n",
      "----------------------------------------------------------------------------------------------------------\n",
      "lr: 0.0001  patience: 20  num_layers: 2  batch_size: 64  hidden_size: 8  dropout: 0.5 criterion: <function criterion3 at 0x0000017347E33880>\n"
     ]
    },
    {
     "data": {
      "application/vnd.jupyter.widget-view+json": {
       "model_id": "f68c9f8841764930aaff45450e3927f5",
       "version_major": 2,
       "version_minor": 0
      },
      "text/plain": [
       "  0%|          | 0/10000 [00:00<?, ?it/s]"
      ]
     },
     "metadata": {},
     "output_type": "display_data"
    },
    {
     "name": "stdout",
     "output_type": "stream",
     "text": [
      "\n",
      " Early Stopping / epoch: 396 loss: 0.002133\n",
      "----------------------------------------------------------------------------------------------------------\n",
      "lr: 0.0001  patience: 20  num_layers: 2  batch_size: 64  hidden_size: 16  dropout: 0.25 criterion: MSELoss()\n"
     ]
    },
    {
     "data": {
      "application/vnd.jupyter.widget-view+json": {
       "model_id": "60313e16f6a043e8bca128e398b3f5ab",
       "version_major": 2,
       "version_minor": 0
      },
      "text/plain": [
       "  0%|          | 0/10000 [00:00<?, ?it/s]"
      ]
     },
     "metadata": {},
     "output_type": "display_data"
    },
    {
     "name": "stdout",
     "output_type": "stream",
     "text": [
      "\n",
      " Early Stopping / epoch: 292 loss: 0.000660\n",
      "----------------------------------------------------------------------------------------------------------\n",
      "lr: 0.0001  patience: 20  num_layers: 2  batch_size: 64  hidden_size: 16  dropout: 0.25 criterion: <function criterion2 at 0x0000017347E337F0>\n"
     ]
    },
    {
     "data": {
      "application/vnd.jupyter.widget-view+json": {
       "model_id": "f12716ecad0e41329cc320ff0803654b",
       "version_major": 2,
       "version_minor": 0
      },
      "text/plain": [
       "  0%|          | 0/10000 [00:00<?, ?it/s]"
      ]
     },
     "metadata": {},
     "output_type": "display_data"
    },
    {
     "name": "stdout",
     "output_type": "stream",
     "text": [
      "\n",
      " Early Stopping / epoch: 453 loss: 0.009179\n",
      "----------------------------------------------------------------------------------------------------------\n",
      "lr: 0.0001  patience: 20  num_layers: 2  batch_size: 64  hidden_size: 16  dropout: 0.25 criterion: <function criterion3 at 0x0000017347E33880>\n"
     ]
    },
    {
     "data": {
      "application/vnd.jupyter.widget-view+json": {
       "model_id": "5aae9fc5c366432fb62607c003f31f77",
       "version_major": 2,
       "version_minor": 0
      },
      "text/plain": [
       "  0%|          | 0/10000 [00:00<?, ?it/s]"
      ]
     },
     "metadata": {},
     "output_type": "display_data"
    },
    {
     "name": "stdout",
     "output_type": "stream",
     "text": [
      "\n",
      " Early Stopping / epoch: 396 loss: 0.002002\n",
      "----------------------------------------------------------------------------------------------------------\n",
      "lr: 0.0001  patience: 20  num_layers: 2  batch_size: 64  hidden_size: 16  dropout: 0.5 criterion: MSELoss()\n"
     ]
    },
    {
     "data": {
      "application/vnd.jupyter.widget-view+json": {
       "model_id": "6a188ca21d654ce798c0f7d5fe6be10c",
       "version_major": 2,
       "version_minor": 0
      },
      "text/plain": [
       "  0%|          | 0/10000 [00:00<?, ?it/s]"
      ]
     },
     "metadata": {},
     "output_type": "display_data"
    },
    {
     "name": "stdout",
     "output_type": "stream",
     "text": [
      "\n",
      " Early Stopping / epoch: 283 loss: 0.000690\n",
      "----------------------------------------------------------------------------------------------------------\n",
      "lr: 0.0001  patience: 20  num_layers: 2  batch_size: 64  hidden_size: 16  dropout: 0.5 criterion: <function criterion2 at 0x0000017347E337F0>\n"
     ]
    },
    {
     "data": {
      "application/vnd.jupyter.widget-view+json": {
       "model_id": "5231b903316648859f776b10446b2bb2",
       "version_major": 2,
       "version_minor": 0
      },
      "text/plain": [
       "  0%|          | 0/10000 [00:00<?, ?it/s]"
      ]
     },
     "metadata": {},
     "output_type": "display_data"
    },
    {
     "name": "stdout",
     "output_type": "stream",
     "text": [
      "\n",
      " Early Stopping / epoch: 292 loss: 0.009960\n",
      "----------------------------------------------------------------------------------------------------------\n",
      "lr: 0.0001  patience: 20  num_layers: 2  batch_size: 64  hidden_size: 16  dropout: 0.5 criterion: <function criterion3 at 0x0000017347E33880>\n"
     ]
    },
    {
     "data": {
      "application/vnd.jupyter.widget-view+json": {
       "model_id": "7ec94b27020745afa7cf3fa1aa89b41f",
       "version_major": 2,
       "version_minor": 0
      },
      "text/plain": [
       "  0%|          | 0/10000 [00:00<?, ?it/s]"
      ]
     },
     "metadata": {},
     "output_type": "display_data"
    },
    {
     "name": "stdout",
     "output_type": "stream",
     "text": [
      "\n",
      " Early Stopping / epoch: 246 loss: 0.002072\n",
      "----------------------------------------------------------------------------------------------------------\n",
      "lr: 0.0001  patience: 20  num_layers: 2  batch_size: 64  hidden_size: 32  dropout: 0.25 criterion: MSELoss()\n"
     ]
    },
    {
     "data": {
      "application/vnd.jupyter.widget-view+json": {
       "model_id": "ea54bd13597245aab196b874b504ae0e",
       "version_major": 2,
       "version_minor": 0
      },
      "text/plain": [
       "  0%|          | 0/10000 [00:00<?, ?it/s]"
      ]
     },
     "metadata": {},
     "output_type": "display_data"
    },
    {
     "name": "stdout",
     "output_type": "stream",
     "text": [
      "\n",
      " Early Stopping / epoch: 143 loss: 0.000640\n",
      "----------------------------------------------------------------------------------------------------------\n",
      "lr: 0.0001  patience: 20  num_layers: 2  batch_size: 64  hidden_size: 32  dropout: 0.25 criterion: <function criterion2 at 0x0000017347E337F0>\n"
     ]
    },
    {
     "data": {
      "application/vnd.jupyter.widget-view+json": {
       "model_id": "47083627044248d39b03a247d6bdc140",
       "version_major": 2,
       "version_minor": 0
      },
      "text/plain": [
       "  0%|          | 0/10000 [00:00<?, ?it/s]"
      ]
     },
     "metadata": {},
     "output_type": "display_data"
    },
    {
     "name": "stdout",
     "output_type": "stream",
     "text": [
      "\n",
      " Early Stopping / epoch: 231 loss: 0.009019\n",
      "----------------------------------------------------------------------------------------------------------\n",
      "lr: 0.0001  patience: 20  num_layers: 2  batch_size: 64  hidden_size: 32  dropout: 0.25 criterion: <function criterion3 at 0x0000017347E33880>\n"
     ]
    },
    {
     "data": {
      "application/vnd.jupyter.widget-view+json": {
       "model_id": "cee6181a5c7748bfb5ece2b5d9d97cd7",
       "version_major": 2,
       "version_minor": 0
      },
      "text/plain": [
       "  0%|          | 0/10000 [00:00<?, ?it/s]"
      ]
     },
     "metadata": {},
     "output_type": "display_data"
    },
    {
     "name": "stdout",
     "output_type": "stream",
     "text": [
      "\n",
      " Early Stopping / epoch: 174 loss: 0.002006\n",
      "----------------------------------------------------------------------------------------------------------\n",
      "lr: 0.0001  patience: 20  num_layers: 2  batch_size: 64  hidden_size: 32  dropout: 0.5 criterion: MSELoss()\n"
     ]
    },
    {
     "data": {
      "application/vnd.jupyter.widget-view+json": {
       "model_id": "c26ff2b2e1d64dfb80f76ed8eb52c77a",
       "version_major": 2,
       "version_minor": 0
      },
      "text/plain": [
       "  0%|          | 0/10000 [00:00<?, ?it/s]"
      ]
     },
     "metadata": {},
     "output_type": "display_data"
    },
    {
     "name": "stdout",
     "output_type": "stream",
     "text": [
      "\n",
      " Early Stopping / epoch: 269 loss: 0.000636\n",
      "----------------------------------------------------------------------------------------------------------\n",
      "lr: 0.0001  patience: 20  num_layers: 2  batch_size: 64  hidden_size: 32  dropout: 0.5 criterion: <function criterion2 at 0x0000017347E337F0>\n"
     ]
    },
    {
     "data": {
      "application/vnd.jupyter.widget-view+json": {
       "model_id": "14416839ab8b464cb14d66100c3d62ed",
       "version_major": 2,
       "version_minor": 0
      },
      "text/plain": [
       "  0%|          | 0/10000 [00:00<?, ?it/s]"
      ]
     },
     "metadata": {},
     "output_type": "display_data"
    },
    {
     "name": "stdout",
     "output_type": "stream",
     "text": [
      "\n",
      " Early Stopping / epoch: 476 loss: 0.008798\n",
      "----------------------------------------------------------------------------------------------------------\n",
      "lr: 0.0001  patience: 20  num_layers: 2  batch_size: 64  hidden_size: 32  dropout: 0.5 criterion: <function criterion3 at 0x0000017347E33880>\n"
     ]
    },
    {
     "data": {
      "application/vnd.jupyter.widget-view+json": {
       "model_id": "ac6418e8806f4736be4a2a34e691d6f4",
       "version_major": 2,
       "version_minor": 0
      },
      "text/plain": [
       "  0%|          | 0/10000 [00:00<?, ?it/s]"
      ]
     },
     "metadata": {},
     "output_type": "display_data"
    },
    {
     "name": "stdout",
     "output_type": "stream",
     "text": [
      "\n",
      " Early Stopping / epoch: 232 loss: 0.002044\n",
      "----------------------------------------------------------------------------------------------------------\n",
      "lr: 0.0001  patience: 20  num_layers: 2  batch_size: 128  hidden_size: 8  dropout: 0.25 criterion: MSELoss()\n"
     ]
    },
    {
     "data": {
      "application/vnd.jupyter.widget-view+json": {
       "model_id": "519b596e3f704c0d8e73bbb63df1c9ad",
       "version_major": 2,
       "version_minor": 0
      },
      "text/plain": [
       "  0%|          | 0/10000 [00:00<?, ?it/s]"
      ]
     },
     "metadata": {},
     "output_type": "display_data"
    },
    {
     "name": "stdout",
     "output_type": "stream",
     "text": [
      "\n",
      " Early Stopping / epoch: 362 loss: 0.000734\n",
      "----------------------------------------------------------------------------------------------------------\n",
      "lr: 0.0001  patience: 20  num_layers: 2  batch_size: 128  hidden_size: 8  dropout: 0.25 criterion: <function criterion2 at 0x0000017347E337F0>\n"
     ]
    },
    {
     "data": {
      "application/vnd.jupyter.widget-view+json": {
       "model_id": "e85d3bfe10324cf2beec19aa79203240",
       "version_major": 2,
       "version_minor": 0
      },
      "text/plain": [
       "  0%|          | 0/10000 [00:00<?, ?it/s]"
      ]
     },
     "metadata": {},
     "output_type": "display_data"
    },
    {
     "name": "stdout",
     "output_type": "stream",
     "text": [
      "\n",
      " Early Stopping / epoch: 673 loss: 0.009947\n",
      "----------------------------------------------------------------------------------------------------------\n",
      "lr: 0.0001  patience: 20  num_layers: 2  batch_size: 128  hidden_size: 8  dropout: 0.25 criterion: <function criterion3 at 0x0000017347E33880>\n"
     ]
    },
    {
     "data": {
      "application/vnd.jupyter.widget-view+json": {
       "model_id": "f722e4109b8a4cdc84be5d7bc7c45608",
       "version_major": 2,
       "version_minor": 0
      },
      "text/plain": [
       "  0%|          | 0/10000 [00:00<?, ?it/s]"
      ]
     },
     "metadata": {},
     "output_type": "display_data"
    },
    {
     "name": "stdout",
     "output_type": "stream",
     "text": [
      "\n",
      " Early Stopping / epoch: 481 loss: 0.001757\n",
      "----------------------------------------------------------------------------------------------------------\n",
      "lr: 0.0001  patience: 20  num_layers: 2  batch_size: 128  hidden_size: 8  dropout: 0.5 criterion: MSELoss()\n"
     ]
    },
    {
     "data": {
      "application/vnd.jupyter.widget-view+json": {
       "model_id": "8c0d0eb665fc4ae783b22673bb7e56e9",
       "version_major": 2,
       "version_minor": 0
      },
      "text/plain": [
       "  0%|          | 0/10000 [00:00<?, ?it/s]"
      ]
     },
     "metadata": {},
     "output_type": "display_data"
    },
    {
     "name": "stdout",
     "output_type": "stream",
     "text": [
      "\n",
      " Early Stopping / epoch: 297 loss: 0.000675\n",
      "----------------------------------------------------------------------------------------------------------\n",
      "lr: 0.0001  patience: 20  num_layers: 2  batch_size: 128  hidden_size: 8  dropout: 0.5 criterion: <function criterion2 at 0x0000017347E337F0>\n"
     ]
    },
    {
     "data": {
      "application/vnd.jupyter.widget-view+json": {
       "model_id": "34940dec1b774c2e9eb345c4dac4f712",
       "version_major": 2,
       "version_minor": 0
      },
      "text/plain": [
       "  0%|          | 0/10000 [00:00<?, ?it/s]"
      ]
     },
     "metadata": {},
     "output_type": "display_data"
    },
    {
     "name": "stdout",
     "output_type": "stream",
     "text": [
      "\n",
      " Early Stopping / epoch: 373 loss: 0.011071\n",
      "----------------------------------------------------------------------------------------------------------\n",
      "lr: 0.0001  patience: 20  num_layers: 2  batch_size: 128  hidden_size: 8  dropout: 0.5 criterion: <function criterion3 at 0x0000017347E33880>\n"
     ]
    },
    {
     "data": {
      "application/vnd.jupyter.widget-view+json": {
       "model_id": "7aec3d80c0e847f7a6974026cdf3f229",
       "version_major": 2,
       "version_minor": 0
      },
      "text/plain": [
       "  0%|          | 0/10000 [00:00<?, ?it/s]"
      ]
     },
     "metadata": {},
     "output_type": "display_data"
    },
    {
     "name": "stdout",
     "output_type": "stream",
     "text": [
      "\n",
      " Early Stopping / epoch: 298 loss: 0.001890\n",
      "----------------------------------------------------------------------------------------------------------\n",
      "lr: 0.0001  patience: 20  num_layers: 2  batch_size: 128  hidden_size: 16  dropout: 0.25 criterion: MSELoss()\n"
     ]
    },
    {
     "data": {
      "application/vnd.jupyter.widget-view+json": {
       "model_id": "9335be3de4cd48db9cd5cda93a0c8298",
       "version_major": 2,
       "version_minor": 0
      },
      "text/plain": [
       "  0%|          | 0/10000 [00:00<?, ?it/s]"
      ]
     },
     "metadata": {},
     "output_type": "display_data"
    },
    {
     "name": "stdout",
     "output_type": "stream",
     "text": [
      "\n",
      " Early Stopping / epoch: 403 loss: 0.000688\n",
      "----------------------------------------------------------------------------------------------------------\n",
      "lr: 0.0001  patience: 20  num_layers: 2  batch_size: 128  hidden_size: 16  dropout: 0.25 criterion: <function criterion2 at 0x0000017347E337F0>\n"
     ]
    },
    {
     "data": {
      "application/vnd.jupyter.widget-view+json": {
       "model_id": "558e514d4b7b444299d7f7470d637665",
       "version_major": 2,
       "version_minor": 0
      },
      "text/plain": [
       "  0%|          | 0/10000 [00:00<?, ?it/s]"
      ]
     },
     "metadata": {},
     "output_type": "display_data"
    },
    {
     "name": "stdout",
     "output_type": "stream",
     "text": [
      "\n",
      " Early Stopping / epoch: 430 loss: 0.009486\n",
      "----------------------------------------------------------------------------------------------------------\n",
      "lr: 0.0001  patience: 20  num_layers: 2  batch_size: 128  hidden_size: 16  dropout: 0.25 criterion: <function criterion3 at 0x0000017347E33880>\n"
     ]
    },
    {
     "data": {
      "application/vnd.jupyter.widget-view+json": {
       "model_id": "0e37f94ff9894deda2b19b573062ff32",
       "version_major": 2,
       "version_minor": 0
      },
      "text/plain": [
       "  0%|          | 0/10000 [00:00<?, ?it/s]"
      ]
     },
     "metadata": {},
     "output_type": "display_data"
    },
    {
     "name": "stdout",
     "output_type": "stream",
     "text": [
      "\n",
      " Early Stopping / epoch: 822 loss: 0.001592\n",
      "----------------------------------------------------------------------------------------------------------\n",
      "lr: 0.0001  patience: 20  num_layers: 2  batch_size: 128  hidden_size: 16  dropout: 0.5 criterion: MSELoss()\n"
     ]
    },
    {
     "data": {
      "application/vnd.jupyter.widget-view+json": {
       "model_id": "5b02526e92404a9cb7136384b41559f9",
       "version_major": 2,
       "version_minor": 0
      },
      "text/plain": [
       "  0%|          | 0/10000 [00:00<?, ?it/s]"
      ]
     },
     "metadata": {},
     "output_type": "display_data"
    },
    {
     "name": "stdout",
     "output_type": "stream",
     "text": [
      "\n",
      " Early Stopping / epoch: 425 loss: 0.000758\n",
      "----------------------------------------------------------------------------------------------------------\n",
      "lr: 0.0001  patience: 20  num_layers: 2  batch_size: 128  hidden_size: 16  dropout: 0.5 criterion: <function criterion2 at 0x0000017347E337F0>\n"
     ]
    },
    {
     "data": {
      "application/vnd.jupyter.widget-view+json": {
       "model_id": "1578d5d2fb1f4cfcbc794f287631e213",
       "version_major": 2,
       "version_minor": 0
      },
      "text/plain": [
       "  0%|          | 0/10000 [00:00<?, ?it/s]"
      ]
     },
     "metadata": {},
     "output_type": "display_data"
    },
    {
     "name": "stdout",
     "output_type": "stream",
     "text": [
      "\n",
      " Early Stopping / epoch: 399 loss: 0.011412\n",
      "----------------------------------------------------------------------------------------------------------\n",
      "lr: 0.0001  patience: 20  num_layers: 2  batch_size: 128  hidden_size: 16  dropout: 0.5 criterion: <function criterion3 at 0x0000017347E33880>\n"
     ]
    },
    {
     "data": {
      "application/vnd.jupyter.widget-view+json": {
       "model_id": "2cf7139e007f4b93834798d07030f7c6",
       "version_major": 2,
       "version_minor": 0
      },
      "text/plain": [
       "  0%|          | 0/10000 [00:00<?, ?it/s]"
      ]
     },
     "metadata": {},
     "output_type": "display_data"
    },
    {
     "name": "stdout",
     "output_type": "stream",
     "text": [
      "\n",
      " Early Stopping / epoch: 389 loss: 0.001690\n",
      "----------------------------------------------------------------------------------------------------------\n",
      "lr: 0.0001  patience: 20  num_layers: 2  batch_size: 128  hidden_size: 32  dropout: 0.25 criterion: MSELoss()\n"
     ]
    },
    {
     "data": {
      "application/vnd.jupyter.widget-view+json": {
       "model_id": "a960949cde9c43c99ce20d43f170ef46",
       "version_major": 2,
       "version_minor": 0
      },
      "text/plain": [
       "  0%|          | 0/10000 [00:00<?, ?it/s]"
      ]
     },
     "metadata": {},
     "output_type": "display_data"
    },
    {
     "name": "stdout",
     "output_type": "stream",
     "text": [
      "\n",
      " Early Stopping / epoch: 166 loss: 0.000623\n",
      "----------------------------------------------------------------------------------------------------------\n",
      "lr: 0.0001  patience: 20  num_layers: 2  batch_size: 128  hidden_size: 32  dropout: 0.25 criterion: <function criterion2 at 0x0000017347E337F0>\n"
     ]
    },
    {
     "data": {
      "application/vnd.jupyter.widget-view+json": {
       "model_id": "281ef04c102b4788a6f48739663488b2",
       "version_major": 2,
       "version_minor": 0
      },
      "text/plain": [
       "  0%|          | 0/10000 [00:00<?, ?it/s]"
      ]
     },
     "metadata": {},
     "output_type": "display_data"
    },
    {
     "name": "stdout",
     "output_type": "stream",
     "text": [
      "\n",
      " Early Stopping / epoch: 291 loss: 0.009514\n",
      "----------------------------------------------------------------------------------------------------------\n",
      "lr: 0.0001  patience: 20  num_layers: 2  batch_size: 128  hidden_size: 32  dropout: 0.25 criterion: <function criterion3 at 0x0000017347E33880>\n"
     ]
    },
    {
     "data": {
      "application/vnd.jupyter.widget-view+json": {
       "model_id": "8d32949354214df394560d235f56d2ae",
       "version_major": 2,
       "version_minor": 0
      },
      "text/plain": [
       "  0%|          | 0/10000 [00:00<?, ?it/s]"
      ]
     },
     "metadata": {},
     "output_type": "display_data"
    },
    {
     "name": "stdout",
     "output_type": "stream",
     "text": [
      "\n",
      " Early Stopping / epoch: 222 loss: 0.001560\n",
      "----------------------------------------------------------------------------------------------------------\n",
      "lr: 0.0001  patience: 20  num_layers: 2  batch_size: 128  hidden_size: 32  dropout: 0.5 criterion: MSELoss()\n"
     ]
    },
    {
     "data": {
      "application/vnd.jupyter.widget-view+json": {
       "model_id": "b54ed029d58a4043963a5036b93796bc",
       "version_major": 2,
       "version_minor": 0
      },
      "text/plain": [
       "  0%|          | 0/10000 [00:00<?, ?it/s]"
      ]
     },
     "metadata": {},
     "output_type": "display_data"
    },
    {
     "name": "stdout",
     "output_type": "stream",
     "text": [
      "\n",
      " Early Stopping / epoch: 345 loss: 0.000644\n",
      "----------------------------------------------------------------------------------------------------------\n",
      "lr: 0.0001  patience: 20  num_layers: 2  batch_size: 128  hidden_size: 32  dropout: 0.5 criterion: <function criterion2 at 0x0000017347E337F0>\n"
     ]
    },
    {
     "data": {
      "application/vnd.jupyter.widget-view+json": {
       "model_id": "9acdfbdcd18b4bd39d26ff50240fd731",
       "version_major": 2,
       "version_minor": 0
      },
      "text/plain": [
       "  0%|          | 0/10000 [00:00<?, ?it/s]"
      ]
     },
     "metadata": {},
     "output_type": "display_data"
    },
    {
     "name": "stdout",
     "output_type": "stream",
     "text": [
      "\n",
      " Early Stopping / epoch: 279 loss: 0.009464\n",
      "----------------------------------------------------------------------------------------------------------\n",
      "lr: 0.0001  patience: 20  num_layers: 2  batch_size: 128  hidden_size: 32  dropout: 0.5 criterion: <function criterion3 at 0x0000017347E33880>\n"
     ]
    },
    {
     "data": {
      "application/vnd.jupyter.widget-view+json": {
       "model_id": "26695f5197a748dc84a76c3ae94d118c",
       "version_major": 2,
       "version_minor": 0
      },
      "text/plain": [
       "  0%|          | 0/10000 [00:00<?, ?it/s]"
      ]
     },
     "metadata": {},
     "output_type": "display_data"
    },
    {
     "name": "stdout",
     "output_type": "stream",
     "text": [
      "\n",
      " Early Stopping / epoch: 281 loss: 0.001593\n",
      "----------------------------------------------------------------------------------------------------------\n",
      "lr: 0.0001  patience: 20  num_layers: 4  batch_size: 32  hidden_size: 8  dropout: 0.25 criterion: MSELoss()\n"
     ]
    },
    {
     "data": {
      "application/vnd.jupyter.widget-view+json": {
       "model_id": "023813f079c94ec0a32048269cd25993",
       "version_major": 2,
       "version_minor": 0
      },
      "text/plain": [
       "  0%|          | 0/10000 [00:00<?, ?it/s]"
      ]
     },
     "metadata": {},
     "output_type": "display_data"
    },
    {
     "name": "stdout",
     "output_type": "stream",
     "text": [
      "\n",
      " Early Stopping / epoch: 202 loss: 0.000725\n",
      "----------------------------------------------------------------------------------------------------------\n",
      "lr: 0.0001  patience: 20  num_layers: 4  batch_size: 32  hidden_size: 8  dropout: 0.25 criterion: <function criterion2 at 0x0000017347E337F0>\n"
     ]
    },
    {
     "data": {
      "application/vnd.jupyter.widget-view+json": {
       "model_id": "0a6a94b07ad64311993afa24400009aa",
       "version_major": 2,
       "version_minor": 0
      },
      "text/plain": [
       "  0%|          | 0/10000 [00:00<?, ?it/s]"
      ]
     },
     "metadata": {},
     "output_type": "display_data"
    },
    {
     "name": "stdout",
     "output_type": "stream",
     "text": [
      "\n",
      " Early Stopping / epoch: 626 loss: 0.009516\n",
      "----------------------------------------------------------------------------------------------------------\n",
      "lr: 0.0001  patience: 20  num_layers: 4  batch_size: 32  hidden_size: 8  dropout: 0.25 criterion: <function criterion3 at 0x0000017347E33880>\n"
     ]
    },
    {
     "data": {
      "application/vnd.jupyter.widget-view+json": {
       "model_id": "14c5dd91ac454182b68009ad09490cbc",
       "version_major": 2,
       "version_minor": 0
      },
      "text/plain": [
       "  0%|          | 0/10000 [00:00<?, ?it/s]"
      ]
     },
     "metadata": {},
     "output_type": "display_data"
    },
    {
     "name": "stdout",
     "output_type": "stream",
     "text": [
      "\n",
      " Early Stopping / epoch: 306 loss: 0.002637\n",
      "----------------------------------------------------------------------------------------------------------\n",
      "lr: 0.0001  patience: 20  num_layers: 4  batch_size: 32  hidden_size: 8  dropout: 0.5 criterion: MSELoss()\n"
     ]
    },
    {
     "data": {
      "application/vnd.jupyter.widget-view+json": {
       "model_id": "44424620fb6f48999c5f99be7e790e09",
       "version_major": 2,
       "version_minor": 0
      },
      "text/plain": [
       "  0%|          | 0/10000 [00:00<?, ?it/s]"
      ]
     },
     "metadata": {},
     "output_type": "display_data"
    },
    {
     "name": "stdout",
     "output_type": "stream",
     "text": [
      "\n",
      " Early Stopping / epoch: 263 loss: 0.000751\n",
      "----------------------------------------------------------------------------------------------------------\n",
      "lr: 0.0001  patience: 20  num_layers: 4  batch_size: 32  hidden_size: 8  dropout: 0.5 criterion: <function criterion2 at 0x0000017347E337F0>\n"
     ]
    },
    {
     "data": {
      "application/vnd.jupyter.widget-view+json": {
       "model_id": "9cd40ca731a64a678ce9985267e17736",
       "version_major": 2,
       "version_minor": 0
      },
      "text/plain": [
       "  0%|          | 0/10000 [00:00<?, ?it/s]"
      ]
     },
     "metadata": {},
     "output_type": "display_data"
    },
    {
     "name": "stdout",
     "output_type": "stream",
     "text": [
      "\n",
      " Early Stopping / epoch: 460 loss: 0.010089\n",
      "----------------------------------------------------------------------------------------------------------\n",
      "lr: 0.0001  patience: 20  num_layers: 4  batch_size: 32  hidden_size: 8  dropout: 0.5 criterion: <function criterion3 at 0x0000017347E33880>\n"
     ]
    },
    {
     "data": {
      "application/vnd.jupyter.widget-view+json": {
       "model_id": "262fc627aaec4a10bae90c94ede9292b",
       "version_major": 2,
       "version_minor": 0
      },
      "text/plain": [
       "  0%|          | 0/10000 [00:00<?, ?it/s]"
      ]
     },
     "metadata": {},
     "output_type": "display_data"
    },
    {
     "name": "stdout",
     "output_type": "stream",
     "text": [
      "\n",
      " Early Stopping / epoch: 287 loss: 0.002713\n",
      "----------------------------------------------------------------------------------------------------------\n",
      "lr: 0.0001  patience: 20  num_layers: 4  batch_size: 32  hidden_size: 16  dropout: 0.25 criterion: MSELoss()\n"
     ]
    },
    {
     "data": {
      "application/vnd.jupyter.widget-view+json": {
       "model_id": "9dcff946e2004b1fb8989d3f4b1dddd6",
       "version_major": 2,
       "version_minor": 0
      },
      "text/plain": [
       "  0%|          | 0/10000 [00:00<?, ?it/s]"
      ]
     },
     "metadata": {},
     "output_type": "display_data"
    },
    {
     "name": "stdout",
     "output_type": "stream",
     "text": [
      "\n",
      " Early Stopping / epoch: 319 loss: 0.000698\n",
      "----------------------------------------------------------------------------------------------------------\n",
      "lr: 0.0001  patience: 20  num_layers: 4  batch_size: 32  hidden_size: 16  dropout: 0.25 criterion: <function criterion2 at 0x0000017347E337F0>\n"
     ]
    },
    {
     "data": {
      "application/vnd.jupyter.widget-view+json": {
       "model_id": "52a8c88040c0484e98cd33ca27e03d26",
       "version_major": 2,
       "version_minor": 0
      },
      "text/plain": [
       "  0%|          | 0/10000 [00:00<?, ?it/s]"
      ]
     },
     "metadata": {},
     "output_type": "display_data"
    },
    {
     "name": "stdout",
     "output_type": "stream",
     "text": [
      "\n",
      " Early Stopping / epoch: 324 loss: 0.009462\n",
      "----------------------------------------------------------------------------------------------------------\n",
      "lr: 0.0001  patience: 20  num_layers: 4  batch_size: 32  hidden_size: 16  dropout: 0.25 criterion: <function criterion3 at 0x0000017347E33880>\n"
     ]
    },
    {
     "data": {
      "application/vnd.jupyter.widget-view+json": {
       "model_id": "e314399a452047cfa77787091ec47f76",
       "version_major": 2,
       "version_minor": 0
      },
      "text/plain": [
       "  0%|          | 0/10000 [00:00<?, ?it/s]"
      ]
     },
     "metadata": {},
     "output_type": "display_data"
    },
    {
     "name": "stdout",
     "output_type": "stream",
     "text": [
      "\n",
      " Early Stopping / epoch: 244 loss: 0.002514\n",
      "----------------------------------------------------------------------------------------------------------\n",
      "lr: 0.0001  patience: 20  num_layers: 4  batch_size: 32  hidden_size: 16  dropout: 0.5 criterion: MSELoss()\n"
     ]
    },
    {
     "data": {
      "application/vnd.jupyter.widget-view+json": {
       "model_id": "011fffbad9b44cbc85fcfe14dc18c7ea",
       "version_major": 2,
       "version_minor": 0
      },
      "text/plain": [
       "  0%|          | 0/10000 [00:00<?, ?it/s]"
      ]
     },
     "metadata": {},
     "output_type": "display_data"
    },
    {
     "name": "stdout",
     "output_type": "stream",
     "text": [
      "\n",
      " Early Stopping / epoch: 201 loss: 0.000737\n",
      "----------------------------------------------------------------------------------------------------------\n",
      "lr: 0.0001  patience: 20  num_layers: 4  batch_size: 32  hidden_size: 16  dropout: 0.5 criterion: <function criterion2 at 0x0000017347E337F0>\n"
     ]
    },
    {
     "data": {
      "application/vnd.jupyter.widget-view+json": {
       "model_id": "b21ee4f525c24d9a99e3b57fb39e594a",
       "version_major": 2,
       "version_minor": 0
      },
      "text/plain": [
       "  0%|          | 0/10000 [00:00<?, ?it/s]"
      ]
     },
     "metadata": {},
     "output_type": "display_data"
    },
    {
     "name": "stdout",
     "output_type": "stream",
     "text": [
      "\n",
      " Early Stopping / epoch: 252 loss: 0.009566\n",
      "----------------------------------------------------------------------------------------------------------\n",
      "lr: 0.0001  patience: 20  num_layers: 4  batch_size: 32  hidden_size: 16  dropout: 0.5 criterion: <function criterion3 at 0x0000017347E33880>\n"
     ]
    },
    {
     "data": {
      "application/vnd.jupyter.widget-view+json": {
       "model_id": "74a21de6b16145f08fbf0f54fa0eab85",
       "version_major": 2,
       "version_minor": 0
      },
      "text/plain": [
       "  0%|          | 0/10000 [00:00<?, ?it/s]"
      ]
     },
     "metadata": {},
     "output_type": "display_data"
    },
    {
     "name": "stdout",
     "output_type": "stream",
     "text": [
      "\n",
      " Early Stopping / epoch: 299 loss: 0.002582\n",
      "----------------------------------------------------------------------------------------------------------\n",
      "lr: 0.0001  patience: 20  num_layers: 4  batch_size: 32  hidden_size: 32  dropout: 0.25 criterion: MSELoss()\n"
     ]
    },
    {
     "data": {
      "application/vnd.jupyter.widget-view+json": {
       "model_id": "20aba1b7719b4ef19e4894059e52423f",
       "version_major": 2,
       "version_minor": 0
      },
      "text/plain": [
       "  0%|          | 0/10000 [00:00<?, ?it/s]"
      ]
     },
     "metadata": {},
     "output_type": "display_data"
    },
    {
     "name": "stdout",
     "output_type": "stream",
     "text": [
      "\n",
      " Early Stopping / epoch: 222 loss: 0.000636\n",
      "----------------------------------------------------------------------------------------------------------\n",
      "lr: 0.0001  patience: 20  num_layers: 4  batch_size: 32  hidden_size: 32  dropout: 0.25 criterion: <function criterion2 at 0x0000017347E337F0>\n"
     ]
    },
    {
     "data": {
      "application/vnd.jupyter.widget-view+json": {
       "model_id": "4b9d622326b641b588128a1d89e36ed1",
       "version_major": 2,
       "version_minor": 0
      },
      "text/plain": [
       "  0%|          | 0/10000 [00:00<?, ?it/s]"
      ]
     },
     "metadata": {},
     "output_type": "display_data"
    },
    {
     "name": "stdout",
     "output_type": "stream",
     "text": [
      "\n",
      " Early Stopping / epoch: 370 loss: 0.008937\n",
      "----------------------------------------------------------------------------------------------------------\n",
      "lr: 0.0001  patience: 20  num_layers: 4  batch_size: 32  hidden_size: 32  dropout: 0.25 criterion: <function criterion3 at 0x0000017347E33880>\n"
     ]
    },
    {
     "data": {
      "application/vnd.jupyter.widget-view+json": {
       "model_id": "d03fbcdef7864b03bb59e0d6212dfb49",
       "version_major": 2,
       "version_minor": 0
      },
      "text/plain": [
       "  0%|          | 0/10000 [00:00<?, ?it/s]"
      ]
     },
     "metadata": {},
     "output_type": "display_data"
    },
    {
     "name": "stdout",
     "output_type": "stream",
     "text": [
      "\n",
      " Early Stopping / epoch: 216 loss: 0.002618\n",
      "----------------------------------------------------------------------------------------------------------\n",
      "lr: 0.0001  patience: 20  num_layers: 4  batch_size: 32  hidden_size: 32  dropout: 0.5 criterion: MSELoss()\n"
     ]
    },
    {
     "data": {
      "application/vnd.jupyter.widget-view+json": {
       "model_id": "96c609a66aa342c38a24acfbf4ccf357",
       "version_major": 2,
       "version_minor": 0
      },
      "text/plain": [
       "  0%|          | 0/10000 [00:00<?, ?it/s]"
      ]
     },
     "metadata": {},
     "output_type": "display_data"
    },
    {
     "name": "stdout",
     "output_type": "stream",
     "text": [
      "\n",
      " Early Stopping / epoch: 171 loss: 0.000744\n",
      "----------------------------------------------------------------------------------------------------------\n",
      "lr: 0.0001  patience: 20  num_layers: 4  batch_size: 32  hidden_size: 32  dropout: 0.5 criterion: <function criterion2 at 0x0000017347E337F0>\n"
     ]
    },
    {
     "data": {
      "application/vnd.jupyter.widget-view+json": {
       "model_id": "02012b9b938e40d28b17662321ca9fb3",
       "version_major": 2,
       "version_minor": 0
      },
      "text/plain": [
       "  0%|          | 0/10000 [00:00<?, ?it/s]"
      ]
     },
     "metadata": {},
     "output_type": "display_data"
    },
    {
     "name": "stdout",
     "output_type": "stream",
     "text": [
      "\n",
      " Early Stopping / epoch: 280 loss: 0.009297\n",
      "----------------------------------------------------------------------------------------------------------\n",
      "lr: 0.0001  patience: 20  num_layers: 4  batch_size: 32  hidden_size: 32  dropout: 0.5 criterion: <function criterion3 at 0x0000017347E33880>\n"
     ]
    },
    {
     "data": {
      "application/vnd.jupyter.widget-view+json": {
       "model_id": "a54c79481fa34cfaaf6272423d0fcee2",
       "version_major": 2,
       "version_minor": 0
      },
      "text/plain": [
       "  0%|          | 0/10000 [00:00<?, ?it/s]"
      ]
     },
     "metadata": {},
     "output_type": "display_data"
    },
    {
     "name": "stdout",
     "output_type": "stream",
     "text": [
      "\n",
      " Early Stopping / epoch: 200 loss: 0.002575\n",
      "----------------------------------------------------------------------------------------------------------\n",
      "lr: 0.0001  patience: 20  num_layers: 4  batch_size: 64  hidden_size: 8  dropout: 0.25 criterion: MSELoss()\n"
     ]
    },
    {
     "data": {
      "application/vnd.jupyter.widget-view+json": {
       "model_id": "bca455221b214d2999b93a6ddbfde9c9",
       "version_major": 2,
       "version_minor": 0
      },
      "text/plain": [
       "  0%|          | 0/10000 [00:00<?, ?it/s]"
      ]
     },
     "metadata": {},
     "output_type": "display_data"
    },
    {
     "name": "stdout",
     "output_type": "stream",
     "text": [
      "\n",
      " Early Stopping / epoch: 624 loss: 0.000689\n",
      "----------------------------------------------------------------------------------------------------------\n",
      "lr: 0.0001  patience: 20  num_layers: 4  batch_size: 64  hidden_size: 8  dropout: 0.25 criterion: <function criterion2 at 0x0000017347E337F0>\n"
     ]
    },
    {
     "data": {
      "application/vnd.jupyter.widget-view+json": {
       "model_id": "d58f69a16a3c4063901e30b1eeb55daa",
       "version_major": 2,
       "version_minor": 0
      },
      "text/plain": [
       "  0%|          | 0/10000 [00:00<?, ?it/s]"
      ]
     },
     "metadata": {},
     "output_type": "display_data"
    },
    {
     "name": "stdout",
     "output_type": "stream",
     "text": [
      "\n",
      " Early Stopping / epoch: 271 loss: 0.011199\n",
      "----------------------------------------------------------------------------------------------------------\n",
      "lr: 0.0001  patience: 20  num_layers: 4  batch_size: 64  hidden_size: 8  dropout: 0.25 criterion: <function criterion3 at 0x0000017347E33880>\n"
     ]
    },
    {
     "data": {
      "application/vnd.jupyter.widget-view+json": {
       "model_id": "ec5eac3b88e744638473b8b09d673723",
       "version_major": 2,
       "version_minor": 0
      },
      "text/plain": [
       "  0%|          | 0/10000 [00:00<?, ?it/s]"
      ]
     },
     "metadata": {},
     "output_type": "display_data"
    },
    {
     "name": "stdout",
     "output_type": "stream",
     "text": [
      "\n",
      " Early Stopping / epoch: 513 loss: 0.002100\n",
      "----------------------------------------------------------------------------------------------------------\n",
      "lr: 0.0001  patience: 20  num_layers: 4  batch_size: 64  hidden_size: 8  dropout: 0.5 criterion: MSELoss()\n"
     ]
    },
    {
     "data": {
      "application/vnd.jupyter.widget-view+json": {
       "model_id": "8ac79e832ceb4307af5aad0c03b0a23e",
       "version_major": 2,
       "version_minor": 0
      },
      "text/plain": [
       "  0%|          | 0/10000 [00:00<?, ?it/s]"
      ]
     },
     "metadata": {},
     "output_type": "display_data"
    },
    {
     "name": "stdout",
     "output_type": "stream",
     "text": [
      "\n",
      " Early Stopping / epoch: 578 loss: 0.000747\n",
      "----------------------------------------------------------------------------------------------------------\n",
      "lr: 0.0001  patience: 20  num_layers: 4  batch_size: 64  hidden_size: 8  dropout: 0.5 criterion: <function criterion2 at 0x0000017347E337F0>\n"
     ]
    },
    {
     "data": {
      "application/vnd.jupyter.widget-view+json": {
       "model_id": "1a4e4ccd27794d9da00f463bb36b4578",
       "version_major": 2,
       "version_minor": 0
      },
      "text/plain": [
       "  0%|          | 0/10000 [00:00<?, ?it/s]"
      ]
     },
     "metadata": {},
     "output_type": "display_data"
    },
    {
     "name": "stdout",
     "output_type": "stream",
     "text": [
      "\n",
      " Early Stopping / epoch: 630 loss: 0.010047\n",
      "----------------------------------------------------------------------------------------------------------\n",
      "lr: 0.0001  patience: 20  num_layers: 4  batch_size: 64  hidden_size: 8  dropout: 0.5 criterion: <function criterion3 at 0x0000017347E33880>\n"
     ]
    },
    {
     "data": {
      "application/vnd.jupyter.widget-view+json": {
       "model_id": "5cd84072cad74643b05d2d226f910524",
       "version_major": 2,
       "version_minor": 0
      },
      "text/plain": [
       "  0%|          | 0/10000 [00:00<?, ?it/s]"
      ]
     },
     "metadata": {},
     "output_type": "display_data"
    },
    {
     "name": "stdout",
     "output_type": "stream",
     "text": [
      "\n",
      " Early Stopping / epoch: 365 loss: 0.002281\n",
      "----------------------------------------------------------------------------------------------------------\n",
      "lr: 0.0001  patience: 20  num_layers: 4  batch_size: 64  hidden_size: 16  dropout: 0.25 criterion: MSELoss()\n"
     ]
    },
    {
     "data": {
      "application/vnd.jupyter.widget-view+json": {
       "model_id": "966878863992430ebaac58f308eea75a",
       "version_major": 2,
       "version_minor": 0
      },
      "text/plain": [
       "  0%|          | 0/10000 [00:00<?, ?it/s]"
      ]
     },
     "metadata": {},
     "output_type": "display_data"
    },
    {
     "name": "stdout",
     "output_type": "stream",
     "text": [
      "\n",
      " Early Stopping / epoch: 302 loss: 0.000745\n",
      "----------------------------------------------------------------------------------------------------------\n",
      "lr: 0.0001  patience: 20  num_layers: 4  batch_size: 64  hidden_size: 16  dropout: 0.25 criterion: <function criterion2 at 0x0000017347E337F0>\n"
     ]
    },
    {
     "data": {
      "application/vnd.jupyter.widget-view+json": {
       "model_id": "b14ee19b9a7f40299537e13c23008643",
       "version_major": 2,
       "version_minor": 0
      },
      "text/plain": [
       "  0%|          | 0/10000 [00:00<?, ?it/s]"
      ]
     },
     "metadata": {},
     "output_type": "display_data"
    },
    {
     "name": "stdout",
     "output_type": "stream",
     "text": [
      "\n",
      " Early Stopping / epoch: 337 loss: 0.009298\n",
      "----------------------------------------------------------------------------------------------------------\n",
      "lr: 0.0001  patience: 20  num_layers: 4  batch_size: 64  hidden_size: 16  dropout: 0.25 criterion: <function criterion3 at 0x0000017347E33880>\n"
     ]
    },
    {
     "data": {
      "application/vnd.jupyter.widget-view+json": {
       "model_id": "fc568369cb8540559738e108d9a9cede",
       "version_major": 2,
       "version_minor": 0
      },
      "text/plain": [
       "  0%|          | 0/10000 [00:00<?, ?it/s]"
      ]
     },
     "metadata": {},
     "output_type": "display_data"
    },
    {
     "name": "stdout",
     "output_type": "stream",
     "text": [
      "\n",
      " Early Stopping / epoch: 379 loss: 0.002019\n",
      "----------------------------------------------------------------------------------------------------------\n",
      "lr: 0.0001  patience: 20  num_layers: 4  batch_size: 64  hidden_size: 16  dropout: 0.5 criterion: MSELoss()\n"
     ]
    },
    {
     "data": {
      "application/vnd.jupyter.widget-view+json": {
       "model_id": "20112e305c2c4674a10ed1efb4fc793b",
       "version_major": 2,
       "version_minor": 0
      },
      "text/plain": [
       "  0%|          | 0/10000 [00:00<?, ?it/s]"
      ]
     },
     "metadata": {},
     "output_type": "display_data"
    },
    {
     "name": "stdout",
     "output_type": "stream",
     "text": [
      "\n",
      " Early Stopping / epoch: 296 loss: 0.000719\n",
      "----------------------------------------------------------------------------------------------------------\n",
      "lr: 0.0001  patience: 20  num_layers: 4  batch_size: 64  hidden_size: 16  dropout: 0.5 criterion: <function criterion2 at 0x0000017347E337F0>\n"
     ]
    },
    {
     "data": {
      "application/vnd.jupyter.widget-view+json": {
       "model_id": "505a88343659450883016221c9fcc830",
       "version_major": 2,
       "version_minor": 0
      },
      "text/plain": [
       "  0%|          | 0/10000 [00:00<?, ?it/s]"
      ]
     },
     "metadata": {},
     "output_type": "display_data"
    },
    {
     "name": "stdout",
     "output_type": "stream",
     "text": [
      "\n",
      " Early Stopping / epoch: 368 loss: 0.009879\n",
      "----------------------------------------------------------------------------------------------------------\n",
      "lr: 0.0001  patience: 20  num_layers: 4  batch_size: 64  hidden_size: 16  dropout: 0.5 criterion: <function criterion3 at 0x0000017347E33880>\n"
     ]
    },
    {
     "data": {
      "application/vnd.jupyter.widget-view+json": {
       "model_id": "89781f77ea684a04bf14454731ae1d17",
       "version_major": 2,
       "version_minor": 0
      },
      "text/plain": [
       "  0%|          | 0/10000 [00:00<?, ?it/s]"
      ]
     },
     "metadata": {},
     "output_type": "display_data"
    },
    {
     "name": "stdout",
     "output_type": "stream",
     "text": [
      "\n",
      " Early Stopping / epoch: 467 loss: 0.002056\n",
      "----------------------------------------------------------------------------------------------------------\n",
      "lr: 0.0001  patience: 20  num_layers: 4  batch_size: 64  hidden_size: 32  dropout: 0.25 criterion: MSELoss()\n"
     ]
    },
    {
     "data": {
      "application/vnd.jupyter.widget-view+json": {
       "model_id": "049a459cb6a5482fa5ab9db1edaed717",
       "version_major": 2,
       "version_minor": 0
      },
      "text/plain": [
       "  0%|          | 0/10000 [00:00<?, ?it/s]"
      ]
     },
     "metadata": {},
     "output_type": "display_data"
    },
    {
     "name": "stdout",
     "output_type": "stream",
     "text": [
      "\n",
      " Early Stopping / epoch: 228 loss: 0.000617\n",
      "----------------------------------------------------------------------------------------------------------\n",
      "lr: 0.0001  patience: 20  num_layers: 4  batch_size: 64  hidden_size: 32  dropout: 0.25 criterion: <function criterion2 at 0x0000017347E337F0>\n"
     ]
    },
    {
     "data": {
      "application/vnd.jupyter.widget-view+json": {
       "model_id": "fb6686c5fce54b238792ad85fdb1e1da",
       "version_major": 2,
       "version_minor": 0
      },
      "text/plain": [
       "  0%|          | 0/10000 [00:00<?, ?it/s]"
      ]
     },
     "metadata": {},
     "output_type": "display_data"
    },
    {
     "name": "stdout",
     "output_type": "stream",
     "text": [
      "\n",
      " Early Stopping / epoch: 491 loss: 0.008799\n",
      "----------------------------------------------------------------------------------------------------------\n",
      "lr: 0.0001  patience: 20  num_layers: 4  batch_size: 64  hidden_size: 32  dropout: 0.25 criterion: <function criterion3 at 0x0000017347E33880>\n"
     ]
    },
    {
     "data": {
      "application/vnd.jupyter.widget-view+json": {
       "model_id": "5626e328db774883b0bcca76ad42e69b",
       "version_major": 2,
       "version_minor": 0
      },
      "text/plain": [
       "  0%|          | 0/10000 [00:00<?, ?it/s]"
      ]
     },
     "metadata": {},
     "output_type": "display_data"
    },
    {
     "name": "stdout",
     "output_type": "stream",
     "text": [
      "\n",
      " Early Stopping / epoch: 190 loss: 0.002063\n",
      "----------------------------------------------------------------------------------------------------------\n",
      "lr: 0.0001  patience: 20  num_layers: 4  batch_size: 64  hidden_size: 32  dropout: 0.5 criterion: MSELoss()\n"
     ]
    },
    {
     "data": {
      "application/vnd.jupyter.widget-view+json": {
       "model_id": "26e1da8b001747c0b7e9c976e031edea",
       "version_major": 2,
       "version_minor": 0
      },
      "text/plain": [
       "  0%|          | 0/10000 [00:00<?, ?it/s]"
      ]
     },
     "metadata": {},
     "output_type": "display_data"
    },
    {
     "name": "stdout",
     "output_type": "stream",
     "text": [
      "\n",
      " Early Stopping / epoch: 337 loss: 0.000686\n",
      "----------------------------------------------------------------------------------------------------------\n",
      "lr: 0.0001  patience: 20  num_layers: 4  batch_size: 64  hidden_size: 32  dropout: 0.5 criterion: <function criterion2 at 0x0000017347E337F0>\n"
     ]
    },
    {
     "data": {
      "application/vnd.jupyter.widget-view+json": {
       "model_id": "846ab2389e8846c59fdfb5014d669caf",
       "version_major": 2,
       "version_minor": 0
      },
      "text/plain": [
       "  0%|          | 0/10000 [00:00<?, ?it/s]"
      ]
     },
     "metadata": {},
     "output_type": "display_data"
    },
    {
     "name": "stdout",
     "output_type": "stream",
     "text": [
      "\n",
      " Early Stopping / epoch: 196 loss: 0.009536\n",
      "----------------------------------------------------------------------------------------------------------\n",
      "lr: 0.0001  patience: 20  num_layers: 4  batch_size: 64  hidden_size: 32  dropout: 0.5 criterion: <function criterion3 at 0x0000017347E33880>\n"
     ]
    },
    {
     "data": {
      "application/vnd.jupyter.widget-view+json": {
       "model_id": "92ee185310f747d999556b36808e0387",
       "version_major": 2,
       "version_minor": 0
      },
      "text/plain": [
       "  0%|          | 0/10000 [00:00<?, ?it/s]"
      ]
     },
     "metadata": {},
     "output_type": "display_data"
    },
    {
     "name": "stdout",
     "output_type": "stream",
     "text": [
      "\n",
      " Early Stopping / epoch: 323 loss: 0.002110\n",
      "----------------------------------------------------------------------------------------------------------\n",
      "lr: 0.0001  patience: 20  num_layers: 4  batch_size: 128  hidden_size: 8  dropout: 0.25 criterion: MSELoss()\n"
     ]
    },
    {
     "data": {
      "application/vnd.jupyter.widget-view+json": {
       "model_id": "fd5e7ac07f794618acd77e143e54c4a9",
       "version_major": 2,
       "version_minor": 0
      },
      "text/plain": [
       "  0%|          | 0/10000 [00:00<?, ?it/s]"
      ]
     },
     "metadata": {},
     "output_type": "display_data"
    },
    {
     "name": "stdout",
     "output_type": "stream",
     "text": [
      "\n",
      " Early Stopping / epoch: 311 loss: 0.000677\n",
      "----------------------------------------------------------------------------------------------------------\n",
      "lr: 0.0001  patience: 20  num_layers: 4  batch_size: 128  hidden_size: 8  dropout: 0.25 criterion: <function criterion2 at 0x0000017347E337F0>\n"
     ]
    },
    {
     "data": {
      "application/vnd.jupyter.widget-view+json": {
       "model_id": "7f70a2114e9b46eda627ba089d27fd4e",
       "version_major": 2,
       "version_minor": 0
      },
      "text/plain": [
       "  0%|          | 0/10000 [00:00<?, ?it/s]"
      ]
     },
     "metadata": {},
     "output_type": "display_data"
    },
    {
     "name": "stdout",
     "output_type": "stream",
     "text": [
      "\n",
      " Early Stopping / epoch: 419 loss: 0.011161\n",
      "----------------------------------------------------------------------------------------------------------\n",
      "lr: 0.0001  patience: 20  num_layers: 4  batch_size: 128  hidden_size: 8  dropout: 0.25 criterion: <function criterion3 at 0x0000017347E33880>\n"
     ]
    },
    {
     "data": {
      "application/vnd.jupyter.widget-view+json": {
       "model_id": "3d9c2e21b4e044b882a753822a7e7843",
       "version_major": 2,
       "version_minor": 0
      },
      "text/plain": [
       "  0%|          | 0/10000 [00:00<?, ?it/s]"
      ]
     },
     "metadata": {},
     "output_type": "display_data"
    },
    {
     "name": "stdout",
     "output_type": "stream",
     "text": [
      "\n",
      " Early Stopping / epoch: 437 loss: 0.001867\n",
      "----------------------------------------------------------------------------------------------------------\n",
      "lr: 0.0001  patience: 20  num_layers: 4  batch_size: 128  hidden_size: 8  dropout: 0.5 criterion: MSELoss()\n"
     ]
    },
    {
     "data": {
      "application/vnd.jupyter.widget-view+json": {
       "model_id": "8e774579bd6c44e7afe08b6ff99ed8f6",
       "version_major": 2,
       "version_minor": 0
      },
      "text/plain": [
       "  0%|          | 0/10000 [00:00<?, ?it/s]"
      ]
     },
     "metadata": {},
     "output_type": "display_data"
    },
    {
     "name": "stdout",
     "output_type": "stream",
     "text": [
      "\n",
      " Early Stopping / epoch: 898 loss: 0.000732\n",
      "----------------------------------------------------------------------------------------------------------\n",
      "lr: 0.0001  patience: 20  num_layers: 4  batch_size: 128  hidden_size: 8  dropout: 0.5 criterion: <function criterion2 at 0x0000017347E337F0>\n"
     ]
    },
    {
     "data": {
      "application/vnd.jupyter.widget-view+json": {
       "model_id": "7f54dacb719442cbbed686c914cc664e",
       "version_major": 2,
       "version_minor": 0
      },
      "text/plain": [
       "  0%|          | 0/10000 [00:00<?, ?it/s]"
      ]
     },
     "metadata": {},
     "output_type": "display_data"
    },
    {
     "name": "stdout",
     "output_type": "stream",
     "text": [
      "\n",
      " Early Stopping / epoch: 497 loss: 0.011093\n",
      "----------------------------------------------------------------------------------------------------------\n",
      "lr: 0.0001  patience: 20  num_layers: 4  batch_size: 128  hidden_size: 8  dropout: 0.5 criterion: <function criterion3 at 0x0000017347E33880>\n"
     ]
    },
    {
     "data": {
      "application/vnd.jupyter.widget-view+json": {
       "model_id": "960796bbee714c94b9243a28a483a6e1",
       "version_major": 2,
       "version_minor": 0
      },
      "text/plain": [
       "  0%|          | 0/10000 [00:00<?, ?it/s]"
      ]
     },
     "metadata": {},
     "output_type": "display_data"
    },
    {
     "name": "stdout",
     "output_type": "stream",
     "text": [
      "\n",
      " Early Stopping / epoch: 354 loss: 0.001816\n",
      "----------------------------------------------------------------------------------------------------------\n",
      "lr: 0.0001  patience: 20  num_layers: 4  batch_size: 128  hidden_size: 16  dropout: 0.25 criterion: MSELoss()\n"
     ]
    },
    {
     "data": {
      "application/vnd.jupyter.widget-view+json": {
       "model_id": "eef0eb1b3d6f4403ab04488342e4d218",
       "version_major": 2,
       "version_minor": 0
      },
      "text/plain": [
       "  0%|          | 0/10000 [00:00<?, ?it/s]"
      ]
     },
     "metadata": {},
     "output_type": "display_data"
    },
    {
     "name": "stdout",
     "output_type": "stream",
     "text": [
      "\n",
      " Early Stopping / epoch: 317 loss: 0.000678\n",
      "----------------------------------------------------------------------------------------------------------\n",
      "lr: 0.0001  patience: 20  num_layers: 4  batch_size: 128  hidden_size: 16  dropout: 0.25 criterion: <function criterion2 at 0x0000017347E337F0>\n"
     ]
    },
    {
     "data": {
      "application/vnd.jupyter.widget-view+json": {
       "model_id": "46681c09476b4e0fbf7b7872b25fd390",
       "version_major": 2,
       "version_minor": 0
      },
      "text/plain": [
       "  0%|          | 0/10000 [00:00<?, ?it/s]"
      ]
     },
     "metadata": {},
     "output_type": "display_data"
    },
    {
     "name": "stdout",
     "output_type": "stream",
     "text": [
      "\n",
      " Early Stopping / epoch: 598 loss: 0.009538\n",
      "----------------------------------------------------------------------------------------------------------\n",
      "lr: 0.0001  patience: 20  num_layers: 4  batch_size: 128  hidden_size: 16  dropout: 0.25 criterion: <function criterion3 at 0x0000017347E33880>\n"
     ]
    },
    {
     "data": {
      "application/vnd.jupyter.widget-view+json": {
       "model_id": "8b1421226ddd43bfbb36e69777cc03f5",
       "version_major": 2,
       "version_minor": 0
      },
      "text/plain": [
       "  0%|          | 0/10000 [00:00<?, ?it/s]"
      ]
     },
     "metadata": {},
     "output_type": "display_data"
    },
    {
     "name": "stdout",
     "output_type": "stream",
     "text": [
      "\n",
      " Early Stopping / epoch: 471 loss: 0.001645\n",
      "----------------------------------------------------------------------------------------------------------\n",
      "lr: 0.0001  patience: 20  num_layers: 4  batch_size: 128  hidden_size: 16  dropout: 0.5 criterion: MSELoss()\n"
     ]
    },
    {
     "data": {
      "application/vnd.jupyter.widget-view+json": {
       "model_id": "3a7c043ec23445d6b645649e54092af3",
       "version_major": 2,
       "version_minor": 0
      },
      "text/plain": [
       "  0%|          | 0/10000 [00:00<?, ?it/s]"
      ]
     },
     "metadata": {},
     "output_type": "display_data"
    },
    {
     "name": "stdout",
     "output_type": "stream",
     "text": [
      "\n",
      " Early Stopping / epoch: 270 loss: 0.000698\n",
      "----------------------------------------------------------------------------------------------------------\n",
      "lr: 0.0001  patience: 20  num_layers: 4  batch_size: 128  hidden_size: 16  dropout: 0.5 criterion: <function criterion2 at 0x0000017347E337F0>\n"
     ]
    },
    {
     "data": {
      "application/vnd.jupyter.widget-view+json": {
       "model_id": "cf4c022421a54e16a18addf790288866",
       "version_major": 2,
       "version_minor": 0
      },
      "text/plain": [
       "  0%|          | 0/10000 [00:00<?, ?it/s]"
      ]
     },
     "metadata": {},
     "output_type": "display_data"
    },
    {
     "name": "stdout",
     "output_type": "stream",
     "text": [
      "\n",
      " Early Stopping / epoch: 350 loss: 0.009873\n",
      "----------------------------------------------------------------------------------------------------------\n",
      "lr: 0.0001  patience: 20  num_layers: 4  batch_size: 128  hidden_size: 16  dropout: 0.5 criterion: <function criterion3 at 0x0000017347E33880>\n"
     ]
    },
    {
     "data": {
      "application/vnd.jupyter.widget-view+json": {
       "model_id": "07ba289db0484e47af364569d7f98f01",
       "version_major": 2,
       "version_minor": 0
      },
      "text/plain": [
       "  0%|          | 0/10000 [00:00<?, ?it/s]"
      ]
     },
     "metadata": {},
     "output_type": "display_data"
    },
    {
     "name": "stdout",
     "output_type": "stream",
     "text": [
      "\n",
      " Early Stopping / epoch: 503 loss: 0.001684\n",
      "----------------------------------------------------------------------------------------------------------\n",
      "lr: 0.0001  patience: 20  num_layers: 4  batch_size: 128  hidden_size: 32  dropout: 0.25 criterion: MSELoss()\n"
     ]
    },
    {
     "data": {
      "application/vnd.jupyter.widget-view+json": {
       "model_id": "bc7c4da2f9c74f9baba00692a91966e2",
       "version_major": 2,
       "version_minor": 0
      },
      "text/plain": [
       "  0%|          | 0/10000 [00:00<?, ?it/s]"
      ]
     },
     "metadata": {},
     "output_type": "display_data"
    },
    {
     "name": "stdout",
     "output_type": "stream",
     "text": [
      "\n",
      " Early Stopping / epoch: 298 loss: 0.000719\n",
      "----------------------------------------------------------------------------------------------------------\n",
      "lr: 0.0001  patience: 20  num_layers: 4  batch_size: 128  hidden_size: 32  dropout: 0.25 criterion: <function criterion2 at 0x0000017347E337F0>\n"
     ]
    },
    {
     "data": {
      "application/vnd.jupyter.widget-view+json": {
       "model_id": "43dbc780b57f4bf6a939d87ea5bd11f5",
       "version_major": 2,
       "version_minor": 0
      },
      "text/plain": [
       "  0%|          | 0/10000 [00:00<?, ?it/s]"
      ]
     },
     "metadata": {},
     "output_type": "display_data"
    },
    {
     "name": "stdout",
     "output_type": "stream",
     "text": [
      "\n",
      " Early Stopping / epoch: 258 loss: 0.009747\n",
      "----------------------------------------------------------------------------------------------------------\n",
      "lr: 0.0001  patience: 20  num_layers: 4  batch_size: 128  hidden_size: 32  dropout: 0.25 criterion: <function criterion3 at 0x0000017347E33880>\n"
     ]
    },
    {
     "data": {
      "application/vnd.jupyter.widget-view+json": {
       "model_id": "ad58b997a3314f109edf9541779f01af",
       "version_major": 2,
       "version_minor": 0
      },
      "text/plain": [
       "  0%|          | 0/10000 [00:00<?, ?it/s]"
      ]
     },
     "metadata": {},
     "output_type": "display_data"
    },
    {
     "name": "stdout",
     "output_type": "stream",
     "text": [
      "\n",
      " Early Stopping / epoch: 251 loss: 0.001623\n",
      "----------------------------------------------------------------------------------------------------------\n",
      "lr: 0.0001  patience: 20  num_layers: 4  batch_size: 128  hidden_size: 32  dropout: 0.5 criterion: MSELoss()\n"
     ]
    },
    {
     "data": {
      "application/vnd.jupyter.widget-view+json": {
       "model_id": "e79670ac8e1641afab13ce8e2e061ba9",
       "version_major": 2,
       "version_minor": 0
      },
      "text/plain": [
       "  0%|          | 0/10000 [00:00<?, ?it/s]"
      ]
     },
     "metadata": {},
     "output_type": "display_data"
    },
    {
     "name": "stdout",
     "output_type": "stream",
     "text": [
      "\n",
      " Early Stopping / epoch: 292 loss: 0.000654\n",
      "----------------------------------------------------------------------------------------------------------\n",
      "lr: 0.0001  patience: 20  num_layers: 4  batch_size: 128  hidden_size: 32  dropout: 0.5 criterion: <function criterion2 at 0x0000017347E337F0>\n"
     ]
    },
    {
     "data": {
      "application/vnd.jupyter.widget-view+json": {
       "model_id": "3d2121a21ca342c6ad87a6aa98182e13",
       "version_major": 2,
       "version_minor": 0
      },
      "text/plain": [
       "  0%|          | 0/10000 [00:00<?, ?it/s]"
      ]
     },
     "metadata": {},
     "output_type": "display_data"
    },
    {
     "name": "stdout",
     "output_type": "stream",
     "text": [
      "\n",
      " Early Stopping / epoch: 395 loss: 0.009816\n",
      "----------------------------------------------------------------------------------------------------------\n",
      "lr: 0.0001  patience: 20  num_layers: 4  batch_size: 128  hidden_size: 32  dropout: 0.5 criterion: <function criterion3 at 0x0000017347E33880>\n"
     ]
    },
    {
     "data": {
      "application/vnd.jupyter.widget-view+json": {
       "model_id": "8297b5fa95a84870941ce2333c2b7d71",
       "version_major": 2,
       "version_minor": 0
      },
      "text/plain": [
       "  0%|          | 0/10000 [00:00<?, ?it/s]"
      ]
     },
     "metadata": {},
     "output_type": "display_data"
    },
    {
     "name": "stdout",
     "output_type": "stream",
     "text": [
      "\n",
      " Early Stopping / epoch: 227 loss: 0.001687\n",
      "----------------------------------------------------------------------------------------------------------\n",
      "lr: 0.0001  patience: 50  num_layers: 2  batch_size: 32  hidden_size: 8  dropout: 0.25 criterion: MSELoss()\n"
     ]
    },
    {
     "data": {
      "application/vnd.jupyter.widget-view+json": {
       "model_id": "e5eba9d556ca4815848fbf90643e2133",
       "version_major": 2,
       "version_minor": 0
      },
      "text/plain": [
       "  0%|          | 0/10000 [00:00<?, ?it/s]"
      ]
     },
     "metadata": {},
     "output_type": "display_data"
    },
    {
     "name": "stdout",
     "output_type": "stream",
     "text": [
      "\n",
      " Early Stopping / epoch: 513 loss: 0.000679\n",
      "----------------------------------------------------------------------------------------------------------\n",
      "lr: 0.0001  patience: 50  num_layers: 2  batch_size: 32  hidden_size: 8  dropout: 0.25 criterion: <function criterion2 at 0x0000017347E337F0>\n"
     ]
    },
    {
     "data": {
      "application/vnd.jupyter.widget-view+json": {
       "model_id": "31b5eb18f2fc4e42825387d2d92b8308",
       "version_major": 2,
       "version_minor": 0
      },
      "text/plain": [
       "  0%|          | 0/10000 [00:00<?, ?it/s]"
      ]
     },
     "metadata": {},
     "output_type": "display_data"
    },
    {
     "name": "stdout",
     "output_type": "stream",
     "text": [
      "\n",
      " Early Stopping / epoch: 667 loss: 0.009326\n",
      "----------------------------------------------------------------------------------------------------------\n",
      "lr: 0.0001  patience: 50  num_layers: 2  batch_size: 32  hidden_size: 8  dropout: 0.25 criterion: <function criterion3 at 0x0000017347E33880>\n"
     ]
    },
    {
     "data": {
      "application/vnd.jupyter.widget-view+json": {
       "model_id": "ee96f6cf084744a68b37da1bcf6b2a2d",
       "version_major": 2,
       "version_minor": 0
      },
      "text/plain": [
       "  0%|          | 0/10000 [00:00<?, ?it/s]"
      ]
     },
     "metadata": {},
     "output_type": "display_data"
    },
    {
     "name": "stdout",
     "output_type": "stream",
     "text": [
      "\n",
      " Early Stopping / epoch: 853 loss: 0.002423\n",
      "----------------------------------------------------------------------------------------------------------\n",
      "lr: 0.0001  patience: 50  num_layers: 2  batch_size: 32  hidden_size: 8  dropout: 0.5 criterion: MSELoss()\n"
     ]
    },
    {
     "data": {
      "application/vnd.jupyter.widget-view+json": {
       "model_id": "8bf6fcf2ac8e41b387409ac0e695c564",
       "version_major": 2,
       "version_minor": 0
      },
      "text/plain": [
       "  0%|          | 0/10000 [00:00<?, ?it/s]"
      ]
     },
     "metadata": {},
     "output_type": "display_data"
    },
    {
     "name": "stdout",
     "output_type": "stream",
     "text": [
      "\n",
      " Early Stopping / epoch: 491 loss: 0.000701\n",
      "----------------------------------------------------------------------------------------------------------\n",
      "lr: 0.0001  patience: 50  num_layers: 2  batch_size: 32  hidden_size: 8  dropout: 0.5 criterion: <function criterion2 at 0x0000017347E337F0>\n"
     ]
    },
    {
     "data": {
      "application/vnd.jupyter.widget-view+json": {
       "model_id": "b918231ca3254ebd9743d0acdacb5836",
       "version_major": 2,
       "version_minor": 0
      },
      "text/plain": [
       "  0%|          | 0/10000 [00:00<?, ?it/s]"
      ]
     },
     "metadata": {},
     "output_type": "display_data"
    },
    {
     "name": "stdout",
     "output_type": "stream",
     "text": [
      "\n",
      " Early Stopping / epoch: 551 loss: 0.009599\n",
      "----------------------------------------------------------------------------------------------------------\n",
      "lr: 0.0001  patience: 50  num_layers: 2  batch_size: 32  hidden_size: 8  dropout: 0.5 criterion: <function criterion3 at 0x0000017347E33880>\n"
     ]
    },
    {
     "data": {
      "application/vnd.jupyter.widget-view+json": {
       "model_id": "b3d8b9f3252f4545b62c7855eedba4b9",
       "version_major": 2,
       "version_minor": 0
      },
      "text/plain": [
       "  0%|          | 0/10000 [00:00<?, ?it/s]"
      ]
     },
     "metadata": {},
     "output_type": "display_data"
    },
    {
     "name": "stdout",
     "output_type": "stream",
     "text": [
      "\n",
      " Early Stopping / epoch: 539 loss: 0.002553\n",
      "----------------------------------------------------------------------------------------------------------\n",
      "lr: 0.0001  patience: 50  num_layers: 2  batch_size: 32  hidden_size: 16  dropout: 0.25 criterion: MSELoss()\n"
     ]
    },
    {
     "data": {
      "application/vnd.jupyter.widget-view+json": {
       "model_id": "009ca845e25d42818d3e9d5c698f9358",
       "version_major": 2,
       "version_minor": 0
      },
      "text/plain": [
       "  0%|          | 0/10000 [00:00<?, ?it/s]"
      ]
     },
     "metadata": {},
     "output_type": "display_data"
    },
    {
     "name": "stdout",
     "output_type": "stream",
     "text": [
      "\n",
      " Early Stopping / epoch: 1579 loss: 0.000173\n",
      "----------------------------------------------------------------------------------------------------------\n",
      "lr: 0.0001  patience: 50  num_layers: 2  batch_size: 32  hidden_size: 16  dropout: 0.25 criterion: <function criterion2 at 0x0000017347E337F0>\n"
     ]
    },
    {
     "data": {
      "application/vnd.jupyter.widget-view+json": {
       "model_id": "3956da66f41149c4a59db53e4525edc9",
       "version_major": 2,
       "version_minor": 0
      },
      "text/plain": [
       "  0%|          | 0/10000 [00:00<?, ?it/s]"
      ]
     },
     "metadata": {},
     "output_type": "display_data"
    },
    {
     "name": "stdout",
     "output_type": "stream",
     "text": [
      "\n",
      " Early Stopping / epoch: 1044 loss: 0.008491\n",
      "----------------------------------------------------------------------------------------------------------\n",
      "lr: 0.0001  patience: 50  num_layers: 2  batch_size: 32  hidden_size: 16  dropout: 0.25 criterion: <function criterion3 at 0x0000017347E33880>\n"
     ]
    },
    {
     "data": {
      "application/vnd.jupyter.widget-view+json": {
       "model_id": "ef657004caac47a6b7c5595978e5f1ec",
       "version_major": 2,
       "version_minor": 0
      },
      "text/plain": [
       "  0%|          | 0/10000 [00:00<?, ?it/s]"
      ]
     },
     "metadata": {},
     "output_type": "display_data"
    },
    {
     "name": "stdout",
     "output_type": "stream",
     "text": [
      "\n",
      " Early Stopping / epoch: 701 loss: 0.002408\n",
      "----------------------------------------------------------------------------------------------------------\n",
      "lr: 0.0001  patience: 50  num_layers: 2  batch_size: 32  hidden_size: 16  dropout: 0.5 criterion: MSELoss()\n"
     ]
    },
    {
     "data": {
      "application/vnd.jupyter.widget-view+json": {
       "model_id": "61cff41701ab42619f4c3588aa9ae3e9",
       "version_major": 2,
       "version_minor": 0
      },
      "text/plain": [
       "  0%|          | 0/10000 [00:00<?, ?it/s]"
      ]
     },
     "metadata": {},
     "output_type": "display_data"
    },
    {
     "name": "stdout",
     "output_type": "stream",
     "text": [
      "\n",
      " Early Stopping / epoch: 923 loss: 0.000500\n",
      "----------------------------------------------------------------------------------------------------------\n",
      "lr: 0.0001  patience: 50  num_layers: 2  batch_size: 32  hidden_size: 16  dropout: 0.5 criterion: <function criterion2 at 0x0000017347E337F0>\n"
     ]
    },
    {
     "data": {
      "application/vnd.jupyter.widget-view+json": {
       "model_id": "fbbbcf584dce48919c02eec95f84e24c",
       "version_major": 2,
       "version_minor": 0
      },
      "text/plain": [
       "  0%|          | 0/10000 [00:00<?, ?it/s]"
      ]
     },
     "metadata": {},
     "output_type": "display_data"
    },
    {
     "name": "stdout",
     "output_type": "stream",
     "text": [
      "\n",
      " Early Stopping / epoch: 483 loss: 0.009087\n",
      "----------------------------------------------------------------------------------------------------------\n",
      "lr: 0.0001  patience: 50  num_layers: 2  batch_size: 32  hidden_size: 16  dropout: 0.5 criterion: <function criterion3 at 0x0000017347E33880>\n"
     ]
    },
    {
     "data": {
      "application/vnd.jupyter.widget-view+json": {
       "model_id": "fbbc393518e74256aa844e31b03b2933",
       "version_major": 2,
       "version_minor": 0
      },
      "text/plain": [
       "  0%|          | 0/10000 [00:00<?, ?it/s]"
      ]
     },
     "metadata": {},
     "output_type": "display_data"
    },
    {
     "name": "stdout",
     "output_type": "stream",
     "text": [
      "\n",
      " Early Stopping / epoch: 348 loss: 0.002516\n",
      "----------------------------------------------------------------------------------------------------------\n",
      "lr: 0.0001  patience: 50  num_layers: 2  batch_size: 32  hidden_size: 32  dropout: 0.25 criterion: MSELoss()\n"
     ]
    },
    {
     "data": {
      "application/vnd.jupyter.widget-view+json": {
       "model_id": "b3fd9412b5a6409c95493e4686408f43",
       "version_major": 2,
       "version_minor": 0
      },
      "text/plain": [
       "  0%|          | 0/10000 [00:00<?, ?it/s]"
      ]
     },
     "metadata": {},
     "output_type": "display_data"
    },
    {
     "name": "stdout",
     "output_type": "stream",
     "text": [
      "\n",
      " Early Stopping / epoch: 1166 loss: 0.000108\n",
      "----------------------------------------------------------------------------------------------------------\n",
      "lr: 0.0001  patience: 50  num_layers: 2  batch_size: 32  hidden_size: 32  dropout: 0.25 criterion: <function criterion2 at 0x0000017347E337F0>\n"
     ]
    },
    {
     "data": {
      "application/vnd.jupyter.widget-view+json": {
       "model_id": "31b0a58d04d0416c8c769a2de1a5b74d",
       "version_major": 2,
       "version_minor": 0
      },
      "text/plain": [
       "  0%|          | 0/10000 [00:00<?, ?it/s]"
      ]
     },
     "metadata": {},
     "output_type": "display_data"
    },
    {
     "name": "stdout",
     "output_type": "stream",
     "text": [
      "\n",
      " Early Stopping / epoch: 605 loss: 0.008100\n",
      "----------------------------------------------------------------------------------------------------------\n",
      "lr: 0.0001  patience: 50  num_layers: 2  batch_size: 32  hidden_size: 32  dropout: 0.25 criterion: <function criterion3 at 0x0000017347E33880>\n"
     ]
    },
    {
     "data": {
      "application/vnd.jupyter.widget-view+json": {
       "model_id": "1dfaab9848bf4e7ba28ae9c68bead9ec",
       "version_major": 2,
       "version_minor": 0
      },
      "text/plain": [
       "  0%|          | 0/10000 [00:00<?, ?it/s]"
      ]
     },
     "metadata": {},
     "output_type": "display_data"
    },
    {
     "name": "stdout",
     "output_type": "stream",
     "text": [
      "\n",
      " Early Stopping / epoch: 457 loss: 0.002389\n",
      "----------------------------------------------------------------------------------------------------------\n",
      "lr: 0.0001  patience: 50  num_layers: 2  batch_size: 32  hidden_size: 32  dropout: 0.5 criterion: MSELoss()\n"
     ]
    },
    {
     "data": {
      "application/vnd.jupyter.widget-view+json": {
       "model_id": "b2768ca78bf14cf2b1efb2eabea990c9",
       "version_major": 2,
       "version_minor": 0
      },
      "text/plain": [
       "  0%|          | 0/10000 [00:00<?, ?it/s]"
      ]
     },
     "metadata": {},
     "output_type": "display_data"
    },
    {
     "name": "stdout",
     "output_type": "stream",
     "text": [
      "\n",
      " Early Stopping / epoch: 456 loss: 0.000596\n",
      "----------------------------------------------------------------------------------------------------------\n",
      "lr: 0.0001  patience: 50  num_layers: 2  batch_size: 32  hidden_size: 32  dropout: 0.5 criterion: <function criterion2 at 0x0000017347E337F0>\n"
     ]
    },
    {
     "data": {
      "application/vnd.jupyter.widget-view+json": {
       "model_id": "e58cda620d354bc996c844f4f4a56a3a",
       "version_major": 2,
       "version_minor": 0
      },
      "text/plain": [
       "  0%|          | 0/10000 [00:00<?, ?it/s]"
      ]
     },
     "metadata": {},
     "output_type": "display_data"
    },
    {
     "name": "stdout",
     "output_type": "stream",
     "text": [
      "\n",
      " Early Stopping / epoch: 797 loss: 0.008112\n",
      "----------------------------------------------------------------------------------------------------------\n",
      "lr: 0.0001  patience: 50  num_layers: 2  batch_size: 32  hidden_size: 32  dropout: 0.5 criterion: <function criterion3 at 0x0000017347E33880>\n"
     ]
    },
    {
     "data": {
      "application/vnd.jupyter.widget-view+json": {
       "model_id": "3e34161b5ee4443d880e55d57b4ab64e",
       "version_major": 2,
       "version_minor": 0
      },
      "text/plain": [
       "  0%|          | 0/10000 [00:00<?, ?it/s]"
      ]
     },
     "metadata": {},
     "output_type": "display_data"
    },
    {
     "name": "stdout",
     "output_type": "stream",
     "text": [
      "\n",
      " Early Stopping / epoch: 257 loss: 0.002429\n",
      "----------------------------------------------------------------------------------------------------------\n",
      "lr: 0.0001  patience: 50  num_layers: 2  batch_size: 64  hidden_size: 8  dropout: 0.25 criterion: MSELoss()\n"
     ]
    },
    {
     "data": {
      "application/vnd.jupyter.widget-view+json": {
       "model_id": "c8a32dca99c44eae844acbfbe19660a4",
       "version_major": 2,
       "version_minor": 0
      },
      "text/plain": [
       "  0%|          | 0/10000 [00:00<?, ?it/s]"
      ]
     },
     "metadata": {},
     "output_type": "display_data"
    },
    {
     "name": "stdout",
     "output_type": "stream",
     "text": [
      "\n",
      " Early Stopping / epoch: 423 loss: 0.000655\n",
      "----------------------------------------------------------------------------------------------------------\n",
      "lr: 0.0001  patience: 50  num_layers: 2  batch_size: 64  hidden_size: 8  dropout: 0.25 criterion: <function criterion2 at 0x0000017347E337F0>\n"
     ]
    },
    {
     "data": {
      "application/vnd.jupyter.widget-view+json": {
       "model_id": "eba0ad8105cd46d98e451c3a24fa0665",
       "version_major": 2,
       "version_minor": 0
      },
      "text/plain": [
       "  0%|          | 0/10000 [00:00<?, ?it/s]"
      ]
     },
     "metadata": {},
     "output_type": "display_data"
    },
    {
     "name": "stdout",
     "output_type": "stream",
     "text": [
      "\n",
      " Early Stopping / epoch: 1336 loss: 0.009248\n",
      "----------------------------------------------------------------------------------------------------------\n",
      "lr: 0.0001  patience: 50  num_layers: 2  batch_size: 64  hidden_size: 8  dropout: 0.25 criterion: <function criterion3 at 0x0000017347E33880>\n"
     ]
    },
    {
     "data": {
      "application/vnd.jupyter.widget-view+json": {
       "model_id": "65b34ff8817542469dee6d998d9bbe6b",
       "version_major": 2,
       "version_minor": 0
      },
      "text/plain": [
       "  0%|          | 0/10000 [00:00<?, ?it/s]"
      ]
     },
     "metadata": {},
     "output_type": "display_data"
    },
    {
     "name": "stdout",
     "output_type": "stream",
     "text": [
      "\n",
      " Early Stopping / epoch: 745 loss: 0.002056\n",
      "----------------------------------------------------------------------------------------------------------\n",
      "lr: 0.0001  patience: 50  num_layers: 2  batch_size: 64  hidden_size: 8  dropout: 0.5 criterion: MSELoss()\n"
     ]
    },
    {
     "data": {
      "application/vnd.jupyter.widget-view+json": {
       "model_id": "429b231ef1ae4140b50db4f84b0e18c5",
       "version_major": 2,
       "version_minor": 0
      },
      "text/plain": [
       "  0%|          | 0/10000 [00:00<?, ?it/s]"
      ]
     },
     "metadata": {},
     "output_type": "display_data"
    },
    {
     "name": "stdout",
     "output_type": "stream",
     "text": [
      "\n",
      " Early Stopping / epoch: 508 loss: 0.000676\n",
      "----------------------------------------------------------------------------------------------------------\n",
      "lr: 0.0001  patience: 50  num_layers: 2  batch_size: 64  hidden_size: 8  dropout: 0.5 criterion: <function criterion2 at 0x0000017347E337F0>\n"
     ]
    },
    {
     "data": {
      "application/vnd.jupyter.widget-view+json": {
       "model_id": "86907a220975453e9ba54ff5053fe0b2",
       "version_major": 2,
       "version_minor": 0
      },
      "text/plain": [
       "  0%|          | 0/10000 [00:00<?, ?it/s]"
      ]
     },
     "metadata": {},
     "output_type": "display_data"
    },
    {
     "name": "stdout",
     "output_type": "stream",
     "text": [
      "\n",
      " Early Stopping / epoch: 619 loss: 0.009779\n",
      "----------------------------------------------------------------------------------------------------------\n",
      "lr: 0.0001  patience: 50  num_layers: 2  batch_size: 64  hidden_size: 8  dropout: 0.5 criterion: <function criterion3 at 0x0000017347E33880>\n"
     ]
    },
    {
     "data": {
      "application/vnd.jupyter.widget-view+json": {
       "model_id": "72090e7c88f74c7abe604fc6ecaa352e",
       "version_major": 2,
       "version_minor": 0
      },
      "text/plain": [
       "  0%|          | 0/10000 [00:00<?, ?it/s]"
      ]
     },
     "metadata": {},
     "output_type": "display_data"
    },
    {
     "name": "stdout",
     "output_type": "stream",
     "text": [
      "\n",
      " Early Stopping / epoch: 610 loss: 0.002040\n",
      "----------------------------------------------------------------------------------------------------------\n",
      "lr: 0.0001  patience: 50  num_layers: 2  batch_size: 64  hidden_size: 16  dropout: 0.25 criterion: MSELoss()\n"
     ]
    },
    {
     "data": {
      "application/vnd.jupyter.widget-view+json": {
       "model_id": "5f91eeb10d84467d993a645c5e997961",
       "version_major": 2,
       "version_minor": 0
      },
      "text/plain": [
       "  0%|          | 0/10000 [00:00<?, ?it/s]"
      ]
     },
     "metadata": {},
     "output_type": "display_data"
    },
    {
     "name": "stdout",
     "output_type": "stream",
     "text": [
      "\n",
      " Early Stopping / epoch: 2094 loss: 0.000162\n",
      "----------------------------------------------------------------------------------------------------------\n",
      "lr: 0.0001  patience: 50  num_layers: 2  batch_size: 64  hidden_size: 16  dropout: 0.25 criterion: <function criterion2 at 0x0000017347E337F0>\n"
     ]
    },
    {
     "data": {
      "application/vnd.jupyter.widget-view+json": {
       "model_id": "80b52936c0f440f7ac76077ef619ab19",
       "version_major": 2,
       "version_minor": 0
      },
      "text/plain": [
       "  0%|          | 0/10000 [00:00<?, ?it/s]"
      ]
     },
     "metadata": {},
     "output_type": "display_data"
    },
    {
     "name": "stdout",
     "output_type": "stream",
     "text": [
      "\n",
      " Early Stopping / epoch: 793 loss: 0.008704\n",
      "----------------------------------------------------------------------------------------------------------\n",
      "lr: 0.0001  patience: 50  num_layers: 2  batch_size: 64  hidden_size: 16  dropout: 0.25 criterion: <function criterion3 at 0x0000017347E33880>\n"
     ]
    },
    {
     "data": {
      "application/vnd.jupyter.widget-view+json": {
       "model_id": "1061ad4c377842559376b8bc5f34c19c",
       "version_major": 2,
       "version_minor": 0
      },
      "text/plain": [
       "  0%|          | 0/10000 [00:00<?, ?it/s]"
      ]
     },
     "metadata": {},
     "output_type": "display_data"
    },
    {
     "name": "stdout",
     "output_type": "stream",
     "text": [
      "\n",
      " Early Stopping / epoch: 817 loss: 0.001926\n",
      "----------------------------------------------------------------------------------------------------------\n",
      "lr: 0.0001  patience: 50  num_layers: 2  batch_size: 64  hidden_size: 16  dropout: 0.5 criterion: MSELoss()\n"
     ]
    },
    {
     "data": {
      "application/vnd.jupyter.widget-view+json": {
       "model_id": "42253d6f898442d68ff70ea086d962da",
       "version_major": 2,
       "version_minor": 0
      },
      "text/plain": [
       "  0%|          | 0/10000 [00:00<?, ?it/s]"
      ]
     },
     "metadata": {},
     "output_type": "display_data"
    },
    {
     "name": "stdout",
     "output_type": "stream",
     "text": [
      "\n",
      " Early Stopping / epoch: 451 loss: 0.000640\n",
      "----------------------------------------------------------------------------------------------------------\n",
      "lr: 0.0001  patience: 50  num_layers: 2  batch_size: 64  hidden_size: 16  dropout: 0.5 criterion: <function criterion2 at 0x0000017347E337F0>\n"
     ]
    },
    {
     "data": {
      "application/vnd.jupyter.widget-view+json": {
       "model_id": "bf0396c07e78419bad516d9e94a0c76b",
       "version_major": 2,
       "version_minor": 0
      },
      "text/plain": [
       "  0%|          | 0/10000 [00:00<?, ?it/s]"
      ]
     },
     "metadata": {},
     "output_type": "display_data"
    },
    {
     "name": "stdout",
     "output_type": "stream",
     "text": [
      "\n",
      " Early Stopping / epoch: 901 loss: 0.009107\n",
      "----------------------------------------------------------------------------------------------------------\n",
      "lr: 0.0001  patience: 50  num_layers: 2  batch_size: 64  hidden_size: 16  dropout: 0.5 criterion: <function criterion3 at 0x0000017347E33880>\n"
     ]
    },
    {
     "data": {
      "application/vnd.jupyter.widget-view+json": {
       "model_id": "88d168c250964d628af8b4e945f2dae4",
       "version_major": 2,
       "version_minor": 0
      },
      "text/plain": [
       "  0%|          | 0/10000 [00:00<?, ?it/s]"
      ]
     },
     "metadata": {},
     "output_type": "display_data"
    },
    {
     "name": "stdout",
     "output_type": "stream",
     "text": [
      "\n",
      " Early Stopping / epoch: 531 loss: 0.001963\n",
      "----------------------------------------------------------------------------------------------------------\n",
      "lr: 0.0001  patience: 50  num_layers: 2  batch_size: 64  hidden_size: 32  dropout: 0.25 criterion: MSELoss()\n"
     ]
    },
    {
     "data": {
      "application/vnd.jupyter.widget-view+json": {
       "model_id": "1d944a18086c4ebcadd22369c6557a3a",
       "version_major": 2,
       "version_minor": 0
      },
      "text/plain": [
       "  0%|          | 0/10000 [00:00<?, ?it/s]"
      ]
     },
     "metadata": {},
     "output_type": "display_data"
    },
    {
     "name": "stdout",
     "output_type": "stream",
     "text": [
      "\n",
      " Early Stopping / epoch: 1706 loss: 0.000123\n",
      "----------------------------------------------------------------------------------------------------------\n",
      "lr: 0.0001  patience: 50  num_layers: 2  batch_size: 64  hidden_size: 32  dropout: 0.25 criterion: <function criterion2 at 0x0000017347E337F0>\n"
     ]
    },
    {
     "data": {
      "application/vnd.jupyter.widget-view+json": {
       "model_id": "2a0c30b6ccef44839d805de4d89277e4",
       "version_major": 2,
       "version_minor": 0
      },
      "text/plain": [
       "  0%|          | 0/10000 [00:00<?, ?it/s]"
      ]
     },
     "metadata": {},
     "output_type": "display_data"
    },
    {
     "name": "stdout",
     "output_type": "stream",
     "text": [
      "\n",
      " Early Stopping / epoch: 670 loss: 0.008257\n",
      "----------------------------------------------------------------------------------------------------------\n",
      "lr: 0.0001  patience: 50  num_layers: 2  batch_size: 64  hidden_size: 32  dropout: 0.25 criterion: <function criterion3 at 0x0000017347E33880>\n"
     ]
    },
    {
     "data": {
      "application/vnd.jupyter.widget-view+json": {
       "model_id": "75ebc51f738b4f12beeb5eb1d7350ac0",
       "version_major": 2,
       "version_minor": 0
      },
      "text/plain": [
       "  0%|          | 0/10000 [00:00<?, ?it/s]"
      ]
     },
     "metadata": {},
     "output_type": "display_data"
    },
    {
     "name": "stdout",
     "output_type": "stream",
     "text": [
      "\n",
      " Early Stopping / epoch: 568 loss: 0.001852\n",
      "----------------------------------------------------------------------------------------------------------\n",
      "lr: 0.0001  patience: 50  num_layers: 2  batch_size: 64  hidden_size: 32  dropout: 0.5 criterion: MSELoss()\n"
     ]
    },
    {
     "data": {
      "application/vnd.jupyter.widget-view+json": {
       "model_id": "1acd74629a614588bec4fbef10e3b3f7",
       "version_major": 2,
       "version_minor": 0
      },
      "text/plain": [
       "  0%|          | 0/10000 [00:00<?, ?it/s]"
      ]
     },
     "metadata": {},
     "output_type": "display_data"
    },
    {
     "name": "stdout",
     "output_type": "stream",
     "text": [
      "\n",
      " Early Stopping / epoch: 1463 loss: 0.000181\n",
      "----------------------------------------------------------------------------------------------------------\n",
      "lr: 0.0001  patience: 50  num_layers: 2  batch_size: 64  hidden_size: 32  dropout: 0.5 criterion: <function criterion2 at 0x0000017347E337F0>\n"
     ]
    },
    {
     "data": {
      "application/vnd.jupyter.widget-view+json": {
       "model_id": "fd938e6cb2c940e8ab932f54e08e9abe",
       "version_major": 2,
       "version_minor": 0
      },
      "text/plain": [
       "  0%|          | 0/10000 [00:00<?, ?it/s]"
      ]
     },
     "metadata": {},
     "output_type": "display_data"
    },
    {
     "name": "stdout",
     "output_type": "stream",
     "text": [
      "\n",
      " Early Stopping / epoch: 734 loss: 0.008362\n",
      "----------------------------------------------------------------------------------------------------------\n",
      "lr: 0.0001  patience: 50  num_layers: 2  batch_size: 64  hidden_size: 32  dropout: 0.5 criterion: <function criterion3 at 0x0000017347E33880>\n"
     ]
    },
    {
     "data": {
      "application/vnd.jupyter.widget-view+json": {
       "model_id": "5b5d5162e3e24970aa4a4e386e598b21",
       "version_major": 2,
       "version_minor": 0
      },
      "text/plain": [
       "  0%|          | 0/10000 [00:00<?, ?it/s]"
      ]
     },
     "metadata": {},
     "output_type": "display_data"
    },
    {
     "name": "stdout",
     "output_type": "stream",
     "text": [
      "\n",
      " Early Stopping / epoch: 280 loss: 0.001965\n",
      "----------------------------------------------------------------------------------------------------------\n",
      "lr: 0.0001  patience: 50  num_layers: 2  batch_size: 128  hidden_size: 8  dropout: 0.25 criterion: MSELoss()\n"
     ]
    },
    {
     "data": {
      "application/vnd.jupyter.widget-view+json": {
       "model_id": "29c39d44103b4fc987c1ca9b2301d058",
       "version_major": 2,
       "version_minor": 0
      },
      "text/plain": [
       "  0%|          | 0/10000 [00:00<?, ?it/s]"
      ]
     },
     "metadata": {},
     "output_type": "display_data"
    },
    {
     "name": "stdout",
     "output_type": "stream",
     "text": [
      "\n",
      " Early Stopping / epoch: 980 loss: 0.000617\n",
      "----------------------------------------------------------------------------------------------------------\n",
      "lr: 0.0001  patience: 50  num_layers: 2  batch_size: 128  hidden_size: 8  dropout: 0.25 criterion: <function criterion2 at 0x0000017347E337F0>\n"
     ]
    },
    {
     "data": {
      "application/vnd.jupyter.widget-view+json": {
       "model_id": "cea071faee8043c0a4332aff8eca61a9",
       "version_major": 2,
       "version_minor": 0
      },
      "text/plain": [
       "  0%|          | 0/10000 [00:00<?, ?it/s]"
      ]
     },
     "metadata": {},
     "output_type": "display_data"
    },
    {
     "name": "stdout",
     "output_type": "stream",
     "text": [
      "\n",
      " Early Stopping / epoch: 973 loss: 0.009248\n",
      "----------------------------------------------------------------------------------------------------------\n",
      "lr: 0.0001  patience: 50  num_layers: 2  batch_size: 128  hidden_size: 8  dropout: 0.25 criterion: <function criterion3 at 0x0000017347E33880>\n"
     ]
    },
    {
     "data": {
      "application/vnd.jupyter.widget-view+json": {
       "model_id": "9a7234550df44c9ab515d99db94e7c55",
       "version_major": 2,
       "version_minor": 0
      },
      "text/plain": [
       "  0%|          | 0/10000 [00:00<?, ?it/s]"
      ]
     },
     "metadata": {},
     "output_type": "display_data"
    },
    {
     "name": "stdout",
     "output_type": "stream",
     "text": [
      "\n",
      " Early Stopping / epoch: 871 loss: 0.001603\n",
      "----------------------------------------------------------------------------------------------------------\n",
      "lr: 0.0001  patience: 50  num_layers: 2  batch_size: 128  hidden_size: 8  dropout: 0.5 criterion: MSELoss()\n"
     ]
    },
    {
     "data": {
      "application/vnd.jupyter.widget-view+json": {
       "model_id": "1c724aa2a1e14295bdf22690ad84a137",
       "version_major": 2,
       "version_minor": 0
      },
      "text/plain": [
       "  0%|          | 0/10000 [00:00<?, ?it/s]"
      ]
     },
     "metadata": {},
     "output_type": "display_data"
    },
    {
     "name": "stdout",
     "output_type": "stream",
     "text": [
      "\n",
      " Early Stopping / epoch: 804 loss: 0.000660\n",
      "----------------------------------------------------------------------------------------------------------\n",
      "lr: 0.0001  patience: 50  num_layers: 2  batch_size: 128  hidden_size: 8  dropout: 0.5 criterion: <function criterion2 at 0x0000017347E337F0>\n"
     ]
    },
    {
     "data": {
      "application/vnd.jupyter.widget-view+json": {
       "model_id": "a15fb9ac7bbd4b4b86747e674bab42f1",
       "version_major": 2,
       "version_minor": 0
      },
      "text/plain": [
       "  0%|          | 0/10000 [00:00<?, ?it/s]"
      ]
     },
     "metadata": {},
     "output_type": "display_data"
    },
    {
     "name": "stdout",
     "output_type": "stream",
     "text": [
      "\n",
      " Early Stopping / epoch: 602 loss: 0.009911\n",
      "----------------------------------------------------------------------------------------------------------\n",
      "lr: 0.0001  patience: 50  num_layers: 2  batch_size: 128  hidden_size: 8  dropout: 0.5 criterion: <function criterion3 at 0x0000017347E33880>\n"
     ]
    },
    {
     "data": {
      "application/vnd.jupyter.widget-view+json": {
       "model_id": "5752bc183475474c8ab0530b87b16b44",
       "version_major": 2,
       "version_minor": 0
      },
      "text/plain": [
       "  0%|          | 0/10000 [00:00<?, ?it/s]"
      ]
     },
     "metadata": {},
     "output_type": "display_data"
    },
    {
     "name": "stdout",
     "output_type": "stream",
     "text": [
      "\n",
      " Early Stopping / epoch: 458 loss: 0.001798\n",
      "----------------------------------------------------------------------------------------------------------\n",
      "lr: 0.0001  patience: 50  num_layers: 2  batch_size: 128  hidden_size: 16  dropout: 0.25 criterion: MSELoss()\n"
     ]
    },
    {
     "data": {
      "application/vnd.jupyter.widget-view+json": {
       "model_id": "a80364bd0b014ed9a68d0f0f03e33860",
       "version_major": 2,
       "version_minor": 0
      },
      "text/plain": [
       "  0%|          | 0/10000 [00:00<?, ?it/s]"
      ]
     },
     "metadata": {},
     "output_type": "display_data"
    },
    {
     "name": "stdout",
     "output_type": "stream",
     "text": [
      "\n",
      " Early Stopping / epoch: 1228 loss: 0.000567\n",
      "----------------------------------------------------------------------------------------------------------\n",
      "lr: 0.0001  patience: 50  num_layers: 2  batch_size: 128  hidden_size: 16  dropout: 0.25 criterion: <function criterion2 at 0x0000017347E337F0>\n"
     ]
    },
    {
     "data": {
      "application/vnd.jupyter.widget-view+json": {
       "model_id": "8314d947f9524d0396c0b32ac18b7b88",
       "version_major": 2,
       "version_minor": 0
      },
      "text/plain": [
       "  0%|          | 0/10000 [00:00<?, ?it/s]"
      ]
     },
     "metadata": {},
     "output_type": "display_data"
    },
    {
     "name": "stdout",
     "output_type": "stream",
     "text": [
      "\n",
      " Early Stopping / epoch: 898 loss: 0.008823\n",
      "----------------------------------------------------------------------------------------------------------\n",
      "lr: 0.0001  patience: 50  num_layers: 2  batch_size: 128  hidden_size: 16  dropout: 0.25 criterion: <function criterion3 at 0x0000017347E33880>\n"
     ]
    },
    {
     "data": {
      "application/vnd.jupyter.widget-view+json": {
       "model_id": "fdba3c7fac04473198fd91211be58089",
       "version_major": 2,
       "version_minor": 0
      },
      "text/plain": [
       "  0%|          | 0/10000 [00:00<?, ?it/s]"
      ]
     },
     "metadata": {},
     "output_type": "display_data"
    },
    {
     "name": "stdout",
     "output_type": "stream",
     "text": [
      "\n",
      " Early Stopping / epoch: 685 loss: 0.001569\n",
      "----------------------------------------------------------------------------------------------------------\n",
      "lr: 0.0001  patience: 50  num_layers: 2  batch_size: 128  hidden_size: 16  dropout: 0.5 criterion: MSELoss()\n"
     ]
    },
    {
     "data": {
      "application/vnd.jupyter.widget-view+json": {
       "model_id": "ef9099e293074a2ab1a44146d99c087e",
       "version_major": 2,
       "version_minor": 0
      },
      "text/plain": [
       "  0%|          | 0/10000 [00:00<?, ?it/s]"
      ]
     },
     "metadata": {},
     "output_type": "display_data"
    },
    {
     "name": "stdout",
     "output_type": "stream",
     "text": [
      "\n",
      " Early Stopping / epoch: 398 loss: 0.000634\n",
      "----------------------------------------------------------------------------------------------------------\n",
      "lr: 0.0001  patience: 50  num_layers: 2  batch_size: 128  hidden_size: 16  dropout: 0.5 criterion: <function criterion2 at 0x0000017347E337F0>\n"
     ]
    },
    {
     "data": {
      "application/vnd.jupyter.widget-view+json": {
       "model_id": "15eb563c3c614feb85453e0d84abd974",
       "version_major": 2,
       "version_minor": 0
      },
      "text/plain": [
       "  0%|          | 0/10000 [00:00<?, ?it/s]"
      ]
     },
     "metadata": {},
     "output_type": "display_data"
    },
    {
     "name": "stdout",
     "output_type": "stream",
     "text": [
      "\n",
      " Early Stopping / epoch: 1180 loss: 0.008576\n",
      "----------------------------------------------------------------------------------------------------------\n",
      "lr: 0.0001  patience: 50  num_layers: 2  batch_size: 128  hidden_size: 16  dropout: 0.5 criterion: <function criterion3 at 0x0000017347E33880>\n"
     ]
    },
    {
     "data": {
      "application/vnd.jupyter.widget-view+json": {
       "model_id": "c1e5bc51530345e79f15436f232c2dcc",
       "version_major": 2,
       "version_minor": 0
      },
      "text/plain": [
       "  0%|          | 0/10000 [00:00<?, ?it/s]"
      ]
     },
     "metadata": {},
     "output_type": "display_data"
    },
    {
     "name": "stdout",
     "output_type": "stream",
     "text": [
      "\n",
      " Early Stopping / epoch: 1037 loss: 0.001521\n",
      "----------------------------------------------------------------------------------------------------------\n",
      "lr: 0.0001  patience: 50  num_layers: 2  batch_size: 128  hidden_size: 32  dropout: 0.25 criterion: MSELoss()\n"
     ]
    },
    {
     "data": {
      "application/vnd.jupyter.widget-view+json": {
       "model_id": "4f4ebaaa2398474db9342ca094c3e43f",
       "version_major": 2,
       "version_minor": 0
      },
      "text/plain": [
       "  0%|          | 0/10000 [00:00<?, ?it/s]"
      ]
     },
     "metadata": {},
     "output_type": "display_data"
    },
    {
     "name": "stdout",
     "output_type": "stream",
     "text": [
      "\n",
      " Early Stopping / epoch: 1290 loss: 0.000306\n",
      "----------------------------------------------------------------------------------------------------------\n",
      "lr: 0.0001  patience: 50  num_layers: 2  batch_size: 128  hidden_size: 32  dropout: 0.25 criterion: <function criterion2 at 0x0000017347E337F0>\n"
     ]
    },
    {
     "data": {
      "application/vnd.jupyter.widget-view+json": {
       "model_id": "f3968a7b4e844cdf880cfee05697cd59",
       "version_major": 2,
       "version_minor": 0
      },
      "text/plain": [
       "  0%|          | 0/10000 [00:00<?, ?it/s]"
      ]
     },
     "metadata": {},
     "output_type": "display_data"
    },
    {
     "name": "stdout",
     "output_type": "stream",
     "text": [
      "\n",
      " Early Stopping / epoch: 517 loss: 0.008837\n",
      "----------------------------------------------------------------------------------------------------------\n",
      "lr: 0.0001  patience: 50  num_layers: 2  batch_size: 128  hidden_size: 32  dropout: 0.25 criterion: <function criterion3 at 0x0000017347E33880>\n"
     ]
    },
    {
     "data": {
      "application/vnd.jupyter.widget-view+json": {
       "model_id": "7cf43cba4f8540c3b1664f75671c2b4e",
       "version_major": 2,
       "version_minor": 0
      },
      "text/plain": [
       "  0%|          | 0/10000 [00:00<?, ?it/s]"
      ]
     },
     "metadata": {},
     "output_type": "display_data"
    },
    {
     "name": "stdout",
     "output_type": "stream",
     "text": [
      "\n",
      " Early Stopping / epoch: 529 loss: 0.001500\n",
      "----------------------------------------------------------------------------------------------------------\n",
      "lr: 0.0001  patience: 50  num_layers: 2  batch_size: 128  hidden_size: 32  dropout: 0.5 criterion: MSELoss()\n"
     ]
    },
    {
     "data": {
      "application/vnd.jupyter.widget-view+json": {
       "model_id": "bb773725d8ae41829e0545169eb7b8db",
       "version_major": 2,
       "version_minor": 0
      },
      "text/plain": [
       "  0%|          | 0/10000 [00:00<?, ?it/s]"
      ]
     },
     "metadata": {},
     "output_type": "display_data"
    },
    {
     "name": "stdout",
     "output_type": "stream",
     "text": [
      "\n",
      " Early Stopping / epoch: 725 loss: 0.000542\n",
      "----------------------------------------------------------------------------------------------------------\n",
      "lr: 0.0001  patience: 50  num_layers: 2  batch_size: 128  hidden_size: 32  dropout: 0.5 criterion: <function criterion2 at 0x0000017347E337F0>\n"
     ]
    },
    {
     "data": {
      "application/vnd.jupyter.widget-view+json": {
       "model_id": "41c15e02125745308e36643d2380152b",
       "version_major": 2,
       "version_minor": 0
      },
      "text/plain": [
       "  0%|          | 0/10000 [00:00<?, ?it/s]"
      ]
     },
     "metadata": {},
     "output_type": "display_data"
    },
    {
     "name": "stdout",
     "output_type": "stream",
     "text": [
      "\n",
      " Early Stopping / epoch: 1081 loss: 0.008209\n",
      "----------------------------------------------------------------------------------------------------------\n",
      "lr: 0.0001  patience: 50  num_layers: 2  batch_size: 128  hidden_size: 32  dropout: 0.5 criterion: <function criterion3 at 0x0000017347E33880>\n"
     ]
    },
    {
     "data": {
      "application/vnd.jupyter.widget-view+json": {
       "model_id": "08c1783ae7f245c59be2bbd38afeb108",
       "version_major": 2,
       "version_minor": 0
      },
      "text/plain": [
       "  0%|          | 0/10000 [00:00<?, ?it/s]"
      ]
     },
     "metadata": {},
     "output_type": "display_data"
    },
    {
     "name": "stdout",
     "output_type": "stream",
     "text": [
      "\n",
      " Early Stopping / epoch: 1112 loss: 0.001402\n",
      "----------------------------------------------------------------------------------------------------------\n",
      "lr: 0.0001  patience: 50  num_layers: 4  batch_size: 32  hidden_size: 8  dropout: 0.25 criterion: MSELoss()\n"
     ]
    },
    {
     "data": {
      "application/vnd.jupyter.widget-view+json": {
       "model_id": "7d93c20bc16c4f29a5307d5b223f463e",
       "version_major": 2,
       "version_minor": 0
      },
      "text/plain": [
       "  0%|          | 0/10000 [00:00<?, ?it/s]"
      ]
     },
     "metadata": {},
     "output_type": "display_data"
    },
    {
     "name": "stdout",
     "output_type": "stream",
     "text": [
      "\n",
      " Early Stopping / epoch: 832 loss: 0.000657\n",
      "----------------------------------------------------------------------------------------------------------\n",
      "lr: 0.0001  patience: 50  num_layers: 4  batch_size: 32  hidden_size: 8  dropout: 0.25 criterion: <function criterion2 at 0x0000017347E337F0>\n"
     ]
    },
    {
     "data": {
      "application/vnd.jupyter.widget-view+json": {
       "model_id": "d9ad49dd60524e19af22b3d72fd1c7b9",
       "version_major": 2,
       "version_minor": 0
      },
      "text/plain": [
       "  0%|          | 0/10000 [00:00<?, ?it/s]"
      ]
     },
     "metadata": {},
     "output_type": "display_data"
    },
    {
     "name": "stdout",
     "output_type": "stream",
     "text": [
      "\n",
      " Early Stopping / epoch: 582 loss: 0.009255\n",
      "----------------------------------------------------------------------------------------------------------\n",
      "lr: 0.0001  patience: 50  num_layers: 4  batch_size: 32  hidden_size: 8  dropout: 0.25 criterion: <function criterion3 at 0x0000017347E33880>\n"
     ]
    },
    {
     "data": {
      "application/vnd.jupyter.widget-view+json": {
       "model_id": "953d21ea573a4968a02f5bdde5a1a043",
       "version_major": 2,
       "version_minor": 0
      },
      "text/plain": [
       "  0%|          | 0/10000 [00:00<?, ?it/s]"
      ]
     },
     "metadata": {},
     "output_type": "display_data"
    },
    {
     "name": "stdout",
     "output_type": "stream",
     "text": [
      "\n",
      " Early Stopping / epoch: 637 loss: 0.002551\n",
      "----------------------------------------------------------------------------------------------------------\n",
      "lr: 0.0001  patience: 50  num_layers: 4  batch_size: 32  hidden_size: 8  dropout: 0.5 criterion: MSELoss()\n"
     ]
    },
    {
     "data": {
      "application/vnd.jupyter.widget-view+json": {
       "model_id": "dcb866f6d01f4434bad1be0e998788f1",
       "version_major": 2,
       "version_minor": 0
      },
      "text/plain": [
       "  0%|          | 0/10000 [00:00<?, ?it/s]"
      ]
     },
     "metadata": {},
     "output_type": "display_data"
    },
    {
     "name": "stdout",
     "output_type": "stream",
     "text": [
      "\n",
      " Early Stopping / epoch: 743 loss: 0.000677\n",
      "----------------------------------------------------------------------------------------------------------\n",
      "lr: 0.0001  patience: 50  num_layers: 4  batch_size: 32  hidden_size: 8  dropout: 0.5 criterion: <function criterion2 at 0x0000017347E337F0>\n"
     ]
    },
    {
     "data": {
      "application/vnd.jupyter.widget-view+json": {
       "model_id": "d651bc53e8c340c3b1c139ee360c83f2",
       "version_major": 2,
       "version_minor": 0
      },
      "text/plain": [
       "  0%|          | 0/10000 [00:00<?, ?it/s]"
      ]
     },
     "metadata": {},
     "output_type": "display_data"
    },
    {
     "name": "stdout",
     "output_type": "stream",
     "text": [
      "\n",
      " Early Stopping / epoch: 783 loss: 0.009765\n",
      "----------------------------------------------------------------------------------------------------------\n",
      "lr: 0.0001  patience: 50  num_layers: 4  batch_size: 32  hidden_size: 8  dropout: 0.5 criterion: <function criterion3 at 0x0000017347E33880>\n"
     ]
    },
    {
     "data": {
      "application/vnd.jupyter.widget-view+json": {
       "model_id": "720c737e9d524df787540f3b8d2c04e1",
       "version_major": 2,
       "version_minor": 0
      },
      "text/plain": [
       "  0%|          | 0/10000 [00:00<?, ?it/s]"
      ]
     },
     "metadata": {},
     "output_type": "display_data"
    },
    {
     "name": "stdout",
     "output_type": "stream",
     "text": [
      "\n",
      " Early Stopping / epoch: 584 loss: 0.002616\n",
      "----------------------------------------------------------------------------------------------------------\n",
      "lr: 0.0001  patience: 50  num_layers: 4  batch_size: 32  hidden_size: 16  dropout: 0.25 criterion: MSELoss()\n"
     ]
    },
    {
     "data": {
      "application/vnd.jupyter.widget-view+json": {
       "model_id": "8256cfcbd2b74c93b068381b1240d9cd",
       "version_major": 2,
       "version_minor": 0
      },
      "text/plain": [
       "  0%|          | 0/10000 [00:00<?, ?it/s]"
      ]
     },
     "metadata": {},
     "output_type": "display_data"
    },
    {
     "name": "stdout",
     "output_type": "stream",
     "text": [
      "\n",
      " Early Stopping / epoch: 1431 loss: 0.000164\n",
      "----------------------------------------------------------------------------------------------------------\n",
      "lr: 0.0001  patience: 50  num_layers: 4  batch_size: 32  hidden_size: 16  dropout: 0.25 criterion: <function criterion2 at 0x0000017347E337F0>\n"
     ]
    },
    {
     "data": {
      "application/vnd.jupyter.widget-view+json": {
       "model_id": "dc4d4ab28d6848fa8e4ec8ef38858022",
       "version_major": 2,
       "version_minor": 0
      },
      "text/plain": [
       "  0%|          | 0/10000 [00:00<?, ?it/s]"
      ]
     },
     "metadata": {},
     "output_type": "display_data"
    },
    {
     "name": "stdout",
     "output_type": "stream",
     "text": [
      "\n",
      " Early Stopping / epoch: 408 loss: 0.009184\n",
      "----------------------------------------------------------------------------------------------------------\n",
      "lr: 0.0001  patience: 50  num_layers: 4  batch_size: 32  hidden_size: 16  dropout: 0.25 criterion: <function criterion3 at 0x0000017347E33880>\n"
     ]
    },
    {
     "data": {
      "application/vnd.jupyter.widget-view+json": {
       "model_id": "8d1404f8df8247a8a1be7be3b86dfe2b",
       "version_major": 2,
       "version_minor": 0
      },
      "text/plain": [
       "  0%|          | 0/10000 [00:00<?, ?it/s]"
      ]
     },
     "metadata": {},
     "output_type": "display_data"
    },
    {
     "name": "stdout",
     "output_type": "stream",
     "text": [
      "\n",
      " Early Stopping / epoch: 826 loss: 0.002572\n",
      "----------------------------------------------------------------------------------------------------------\n",
      "lr: 0.0001  patience: 50  num_layers: 4  batch_size: 32  hidden_size: 16  dropout: 0.5 criterion: MSELoss()\n"
     ]
    },
    {
     "data": {
      "application/vnd.jupyter.widget-view+json": {
       "model_id": "38d16a7a60fa47c385b1b2e960c8cff6",
       "version_major": 2,
       "version_minor": 0
      },
      "text/plain": [
       "  0%|          | 0/10000 [00:00<?, ?it/s]"
      ]
     },
     "metadata": {},
     "output_type": "display_data"
    },
    {
     "name": "stdout",
     "output_type": "stream",
     "text": [
      "\n",
      " Early Stopping / epoch: 683 loss: 0.000670\n",
      "----------------------------------------------------------------------------------------------------------\n",
      "lr: 0.0001  patience: 50  num_layers: 4  batch_size: 32  hidden_size: 16  dropout: 0.5 criterion: <function criterion2 at 0x0000017347E337F0>\n"
     ]
    },
    {
     "data": {
      "application/vnd.jupyter.widget-view+json": {
       "model_id": "e72531f526694801ae63ccc9adebd88e",
       "version_major": 2,
       "version_minor": 0
      },
      "text/plain": [
       "  0%|          | 0/10000 [00:00<?, ?it/s]"
      ]
     },
     "metadata": {},
     "output_type": "display_data"
    },
    {
     "name": "stdout",
     "output_type": "stream",
     "text": [
      "\n",
      " Early Stopping / epoch: 363 loss: 0.009588\n",
      "----------------------------------------------------------------------------------------------------------\n",
      "lr: 0.0001  patience: 50  num_layers: 4  batch_size: 32  hidden_size: 16  dropout: 0.5 criterion: <function criterion3 at 0x0000017347E33880>\n"
     ]
    },
    {
     "data": {
      "application/vnd.jupyter.widget-view+json": {
       "model_id": "d2a83413404f4f0f89bde0fa78e3d7dd",
       "version_major": 2,
       "version_minor": 0
      },
      "text/plain": [
       "  0%|          | 0/10000 [00:00<?, ?it/s]"
      ]
     },
     "metadata": {},
     "output_type": "display_data"
    },
    {
     "name": "stdout",
     "output_type": "stream",
     "text": [
      "\n",
      " Early Stopping / epoch: 361 loss: 0.002583\n",
      "----------------------------------------------------------------------------------------------------------\n",
      "lr: 0.0001  patience: 50  num_layers: 4  batch_size: 32  hidden_size: 32  dropout: 0.25 criterion: MSELoss()\n"
     ]
    },
    {
     "data": {
      "application/vnd.jupyter.widget-view+json": {
       "model_id": "c75c49e4c05d4c29a8a64b5029490974",
       "version_major": 2,
       "version_minor": 0
      },
      "text/plain": [
       "  0%|          | 0/10000 [00:00<?, ?it/s]"
      ]
     },
     "metadata": {},
     "output_type": "display_data"
    },
    {
     "name": "stdout",
     "output_type": "stream",
     "text": [
      "\n",
      " Early Stopping / epoch: 896 loss: 0.000132\n",
      "----------------------------------------------------------------------------------------------------------\n",
      "lr: 0.0001  patience: 50  num_layers: 4  batch_size: 32  hidden_size: 32  dropout: 0.25 criterion: <function criterion2 at 0x0000017347E337F0>\n"
     ]
    },
    {
     "data": {
      "application/vnd.jupyter.widget-view+json": {
       "model_id": "22650c9e7f29425182a082fff28f4325",
       "version_major": 2,
       "version_minor": 0
      },
      "text/plain": [
       "  0%|          | 0/10000 [00:00<?, ?it/s]"
      ]
     },
     "metadata": {},
     "output_type": "display_data"
    },
    {
     "name": "stdout",
     "output_type": "stream",
     "text": [
      "\n",
      " Early Stopping / epoch: 843 loss: 0.008305\n",
      "----------------------------------------------------------------------------------------------------------\n",
      "lr: 0.0001  patience: 50  num_layers: 4  batch_size: 32  hidden_size: 32  dropout: 0.25 criterion: <function criterion3 at 0x0000017347E33880>\n"
     ]
    },
    {
     "data": {
      "application/vnd.jupyter.widget-view+json": {
       "model_id": "cda6d81d4c6e43f4b3ca5f03451f9c39",
       "version_major": 2,
       "version_minor": 0
      },
      "text/plain": [
       "  0%|          | 0/10000 [00:00<?, ?it/s]"
      ]
     },
     "metadata": {},
     "output_type": "display_data"
    },
    {
     "name": "stdout",
     "output_type": "stream",
     "text": [
      "\n",
      " Early Stopping / epoch: 392 loss: 0.002480\n",
      "----------------------------------------------------------------------------------------------------------\n",
      "lr: 0.0001  patience: 50  num_layers: 4  batch_size: 32  hidden_size: 32  dropout: 0.5 criterion: MSELoss()\n"
     ]
    },
    {
     "data": {
      "application/vnd.jupyter.widget-view+json": {
       "model_id": "334f2e94687346f4b8721519d381b26c",
       "version_major": 2,
       "version_minor": 0
      },
      "text/plain": [
       "  0%|          | 0/10000 [00:00<?, ?it/s]"
      ]
     },
     "metadata": {},
     "output_type": "display_data"
    },
    {
     "name": "stdout",
     "output_type": "stream",
     "text": [
      "\n",
      " Early Stopping / epoch: 839 loss: 0.000222\n",
      "----------------------------------------------------------------------------------------------------------\n",
      "lr: 0.0001  patience: 50  num_layers: 4  batch_size: 32  hidden_size: 32  dropout: 0.5 criterion: <function criterion2 at 0x0000017347E337F0>\n"
     ]
    },
    {
     "data": {
      "application/vnd.jupyter.widget-view+json": {
       "model_id": "d072995f0ac0436ea5d57f5eae3b6786",
       "version_major": 2,
       "version_minor": 0
      },
      "text/plain": [
       "  0%|          | 0/10000 [00:00<?, ?it/s]"
      ]
     },
     "metadata": {},
     "output_type": "display_data"
    },
    {
     "name": "stdout",
     "output_type": "stream",
     "text": [
      "\n",
      " Early Stopping / epoch: 525 loss: 0.009091\n",
      "----------------------------------------------------------------------------------------------------------\n",
      "lr: 0.0001  patience: 50  num_layers: 4  batch_size: 32  hidden_size: 32  dropout: 0.5 criterion: <function criterion3 at 0x0000017347E33880>\n"
     ]
    },
    {
     "data": {
      "application/vnd.jupyter.widget-view+json": {
       "model_id": "e0c040011de949cf9c10fb2bc7952144",
       "version_major": 2,
       "version_minor": 0
      },
      "text/plain": [
       "  0%|          | 0/10000 [00:00<?, ?it/s]"
      ]
     },
     "metadata": {},
     "output_type": "display_data"
    },
    {
     "name": "stdout",
     "output_type": "stream",
     "text": [
      "\n",
      " Early Stopping / epoch: 554 loss: 0.002457\n",
      "----------------------------------------------------------------------------------------------------------\n",
      "lr: 0.0001  patience: 50  num_layers: 4  batch_size: 64  hidden_size: 8  dropout: 0.25 criterion: MSELoss()\n"
     ]
    },
    {
     "data": {
      "application/vnd.jupyter.widget-view+json": {
       "model_id": "7945f1b0a69746a1a6aefb4def2a8769",
       "version_major": 2,
       "version_minor": 0
      },
      "text/plain": [
       "  0%|          | 0/10000 [00:00<?, ?it/s]"
      ]
     },
     "metadata": {},
     "output_type": "display_data"
    },
    {
     "name": "stdout",
     "output_type": "stream",
     "text": [
      "\n",
      " Early Stopping / epoch: 482 loss: 0.000713\n",
      "----------------------------------------------------------------------------------------------------------\n",
      "lr: 0.0001  patience: 50  num_layers: 4  batch_size: 64  hidden_size: 8  dropout: 0.25 criterion: <function criterion2 at 0x0000017347E337F0>\n"
     ]
    },
    {
     "data": {
      "application/vnd.jupyter.widget-view+json": {
       "model_id": "278ccf60bcb8427596b25afdd36b2ddd",
       "version_major": 2,
       "version_minor": 0
      },
      "text/plain": [
       "  0%|          | 0/10000 [00:00<?, ?it/s]"
      ]
     },
     "metadata": {},
     "output_type": "display_data"
    },
    {
     "name": "stdout",
     "output_type": "stream",
     "text": [
      "\n",
      " Early Stopping / epoch: 736 loss: 0.009335\n",
      "----------------------------------------------------------------------------------------------------------\n",
      "lr: 0.0001  patience: 50  num_layers: 4  batch_size: 64  hidden_size: 8  dropout: 0.25 criterion: <function criterion3 at 0x0000017347E33880>\n"
     ]
    },
    {
     "data": {
      "application/vnd.jupyter.widget-view+json": {
       "model_id": "6bebfc4572b34a9cb24c7764ce549d84",
       "version_major": 2,
       "version_minor": 0
      },
      "text/plain": [
       "  0%|          | 0/10000 [00:00<?, ?it/s]"
      ]
     },
     "metadata": {},
     "output_type": "display_data"
    },
    {
     "name": "stdout",
     "output_type": "stream",
     "text": [
      "\n",
      " Early Stopping / epoch: 920 loss: 0.002041\n",
      "----------------------------------------------------------------------------------------------------------\n",
      "lr: 0.0001  patience: 50  num_layers: 4  batch_size: 64  hidden_size: 8  dropout: 0.5 criterion: MSELoss()\n"
     ]
    },
    {
     "data": {
      "application/vnd.jupyter.widget-view+json": {
       "model_id": "979cba5740dd4f688dd42980eeefcaa6",
       "version_major": 2,
       "version_minor": 0
      },
      "text/plain": [
       "  0%|          | 0/10000 [00:00<?, ?it/s]"
      ]
     },
     "metadata": {},
     "output_type": "display_data"
    },
    {
     "name": "stdout",
     "output_type": "stream",
     "text": [
      "\n",
      " Early Stopping / epoch: 638 loss: 0.000721\n",
      "----------------------------------------------------------------------------------------------------------\n",
      "lr: 0.0001  patience: 50  num_layers: 4  batch_size: 64  hidden_size: 8  dropout: 0.5 criterion: <function criterion2 at 0x0000017347E337F0>\n"
     ]
    },
    {
     "data": {
      "application/vnd.jupyter.widget-view+json": {
       "model_id": "e6e9b052cb5c479992a55e8d73e1d1a2",
       "version_major": 2,
       "version_minor": 0
      },
      "text/plain": [
       "  0%|          | 0/10000 [00:00<?, ?it/s]"
      ]
     },
     "metadata": {},
     "output_type": "display_data"
    },
    {
     "name": "stdout",
     "output_type": "stream",
     "text": [
      "\n",
      " Early Stopping / epoch: 1030 loss: 0.009405\n",
      "----------------------------------------------------------------------------------------------------------\n",
      "lr: 0.0001  patience: 50  num_layers: 4  batch_size: 64  hidden_size: 8  dropout: 0.5 criterion: <function criterion3 at 0x0000017347E33880>\n"
     ]
    },
    {
     "data": {
      "application/vnd.jupyter.widget-view+json": {
       "model_id": "00fda433599a4edeaf0baa26c6c14101",
       "version_major": 2,
       "version_minor": 0
      },
      "text/plain": [
       "  0%|          | 0/10000 [00:00<?, ?it/s]"
      ]
     },
     "metadata": {},
     "output_type": "display_data"
    },
    {
     "name": "stdout",
     "output_type": "stream",
     "text": [
      "\n",
      " Early Stopping / epoch: 652 loss: 0.002112\n",
      "----------------------------------------------------------------------------------------------------------\n",
      "lr: 0.0001  patience: 50  num_layers: 4  batch_size: 64  hidden_size: 16  dropout: 0.25 criterion: MSELoss()\n"
     ]
    },
    {
     "data": {
      "application/vnd.jupyter.widget-view+json": {
       "model_id": "516ee6348d124aa5a5f03f12678d4f34",
       "version_major": 2,
       "version_minor": 0
      },
      "text/plain": [
       "  0%|          | 0/10000 [00:00<?, ?it/s]"
      ]
     },
     "metadata": {},
     "output_type": "display_data"
    },
    {
     "name": "stdout",
     "output_type": "stream",
     "text": [
      "\n",
      " Early Stopping / epoch: 1353 loss: 0.000219\n",
      "----------------------------------------------------------------------------------------------------------\n",
      "lr: 0.0001  patience: 50  num_layers: 4  batch_size: 64  hidden_size: 16  dropout: 0.25 criterion: <function criterion2 at 0x0000017347E337F0>\n"
     ]
    },
    {
     "data": {
      "application/vnd.jupyter.widget-view+json": {
       "model_id": "2bdcbf94381345748b5e386c0b0043e9",
       "version_major": 2,
       "version_minor": 0
      },
      "text/plain": [
       "  0%|          | 0/10000 [00:00<?, ?it/s]"
      ]
     },
     "metadata": {},
     "output_type": "display_data"
    },
    {
     "name": "stdout",
     "output_type": "stream",
     "text": [
      "\n",
      " Early Stopping / epoch: 767 loss: 0.009113\n",
      "----------------------------------------------------------------------------------------------------------\n",
      "lr: 0.0001  patience: 50  num_layers: 4  batch_size: 64  hidden_size: 16  dropout: 0.25 criterion: <function criterion3 at 0x0000017347E33880>\n"
     ]
    },
    {
     "data": {
      "application/vnd.jupyter.widget-view+json": {
       "model_id": "524c4af48d124972b59fb05aaf0fc978",
       "version_major": 2,
       "version_minor": 0
      },
      "text/plain": [
       "  0%|          | 0/10000 [00:00<?, ?it/s]"
      ]
     },
     "metadata": {},
     "output_type": "display_data"
    },
    {
     "name": "stdout",
     "output_type": "stream",
     "text": [
      "\n",
      " Early Stopping / epoch: 662 loss: 0.001971\n",
      "----------------------------------------------------------------------------------------------------------\n",
      "lr: 0.0001  patience: 50  num_layers: 4  batch_size: 64  hidden_size: 16  dropout: 0.5 criterion: MSELoss()\n"
     ]
    },
    {
     "data": {
      "application/vnd.jupyter.widget-view+json": {
       "model_id": "5deed9eb7d884297a68061890a2dc5c5",
       "version_major": 2,
       "version_minor": 0
      },
      "text/plain": [
       "  0%|          | 0/10000 [00:00<?, ?it/s]"
      ]
     },
     "metadata": {},
     "output_type": "display_data"
    },
    {
     "name": "stdout",
     "output_type": "stream",
     "text": [
      "\n",
      " Early Stopping / epoch: 636 loss: 0.000686\n",
      "----------------------------------------------------------------------------------------------------------\n",
      "lr: 0.0001  patience: 50  num_layers: 4  batch_size: 64  hidden_size: 16  dropout: 0.5 criterion: <function criterion2 at 0x0000017347E337F0>\n"
     ]
    },
    {
     "data": {
      "application/vnd.jupyter.widget-view+json": {
       "model_id": "2957cb43e9b44c609d18c86a946f4214",
       "version_major": 2,
       "version_minor": 0
      },
      "text/plain": [
       "  0%|          | 0/10000 [00:00<?, ?it/s]"
      ]
     },
     "metadata": {},
     "output_type": "display_data"
    },
    {
     "name": "stdout",
     "output_type": "stream",
     "text": [
      "\n",
      " Early Stopping / epoch: 741 loss: 0.009308\n",
      "----------------------------------------------------------------------------------------------------------\n",
      "lr: 0.0001  patience: 50  num_layers: 4  batch_size: 64  hidden_size: 16  dropout: 0.5 criterion: <function criterion3 at 0x0000017347E33880>\n"
     ]
    },
    {
     "data": {
      "application/vnd.jupyter.widget-view+json": {
       "model_id": "2fe466498555423db488567f305db51c",
       "version_major": 2,
       "version_minor": 0
      },
      "text/plain": [
       "  0%|          | 0/10000 [00:00<?, ?it/s]"
      ]
     },
     "metadata": {},
     "output_type": "display_data"
    },
    {
     "name": "stdout",
     "output_type": "stream",
     "text": [
      "\n",
      " Early Stopping / epoch: 646 loss: 0.001993\n",
      "----------------------------------------------------------------------------------------------------------\n",
      "lr: 0.0001  patience: 50  num_layers: 4  batch_size: 64  hidden_size: 32  dropout: 0.25 criterion: MSELoss()\n"
     ]
    },
    {
     "data": {
      "application/vnd.jupyter.widget-view+json": {
       "model_id": "f8f11fb4e90d4c58a0af87767ef6ce91",
       "version_major": 2,
       "version_minor": 0
      },
      "text/plain": [
       "  0%|          | 0/10000 [00:00<?, ?it/s]"
      ]
     },
     "metadata": {},
     "output_type": "display_data"
    },
    {
     "name": "stdout",
     "output_type": "stream",
     "text": [
      "\n",
      " Early Stopping / epoch: 1205 loss: 0.000147\n",
      "----------------------------------------------------------------------------------------------------------\n",
      "lr: 0.0001  patience: 50  num_layers: 4  batch_size: 64  hidden_size: 32  dropout: 0.25 criterion: <function criterion2 at 0x0000017347E337F0>\n"
     ]
    },
    {
     "data": {
      "application/vnd.jupyter.widget-view+json": {
       "model_id": "fe6ece071417452b8a00343fcf36ab55",
       "version_major": 2,
       "version_minor": 0
      },
      "text/plain": [
       "  0%|          | 0/10000 [00:00<?, ?it/s]"
      ]
     },
     "metadata": {},
     "output_type": "display_data"
    },
    {
     "name": "stdout",
     "output_type": "stream",
     "text": [
      "\n",
      " Early Stopping / epoch: 613 loss: 0.008705\n",
      "----------------------------------------------------------------------------------------------------------\n",
      "lr: 0.0001  patience: 50  num_layers: 4  batch_size: 64  hidden_size: 32  dropout: 0.25 criterion: <function criterion3 at 0x0000017347E33880>\n"
     ]
    },
    {
     "data": {
      "application/vnd.jupyter.widget-view+json": {
       "model_id": "e1d39eb220a2470aa671a8556ea8f3b3",
       "version_major": 2,
       "version_minor": 0
      },
      "text/plain": [
       "  0%|          | 0/10000 [00:00<?, ?it/s]"
      ]
     },
     "metadata": {},
     "output_type": "display_data"
    },
    {
     "name": "stdout",
     "output_type": "stream",
     "text": [
      "\n",
      " Early Stopping / epoch: 414 loss: 0.001967\n",
      "----------------------------------------------------------------------------------------------------------\n",
      "lr: 0.0001  patience: 50  num_layers: 4  batch_size: 64  hidden_size: 32  dropout: 0.5 criterion: MSELoss()\n"
     ]
    },
    {
     "data": {
      "application/vnd.jupyter.widget-view+json": {
       "model_id": "67d6cefd074d443180205ff9c5f327f3",
       "version_major": 2,
       "version_minor": 0
      },
      "text/plain": [
       "  0%|          | 0/10000 [00:00<?, ?it/s]"
      ]
     },
     "metadata": {},
     "output_type": "display_data"
    },
    {
     "name": "stdout",
     "output_type": "stream",
     "text": [
      "\n",
      " Early Stopping / epoch: 1294 loss: 0.000229\n",
      "----------------------------------------------------------------------------------------------------------\n",
      "lr: 0.0001  patience: 50  num_layers: 4  batch_size: 64  hidden_size: 32  dropout: 0.5 criterion: <function criterion2 at 0x0000017347E337F0>\n"
     ]
    },
    {
     "data": {
      "application/vnd.jupyter.widget-view+json": {
       "model_id": "6dd66a5936ed4738b90dd92459cbf47b",
       "version_major": 2,
       "version_minor": 0
      },
      "text/plain": [
       "  0%|          | 0/10000 [00:00<?, ?it/s]"
      ]
     },
     "metadata": {},
     "output_type": "display_data"
    },
    {
     "name": "stdout",
     "output_type": "stream",
     "text": [
      "\n",
      " Early Stopping / epoch: 843 loss: 0.008671\n",
      "----------------------------------------------------------------------------------------------------------\n",
      "lr: 0.0001  patience: 50  num_layers: 4  batch_size: 64  hidden_size: 32  dropout: 0.5 criterion: <function criterion3 at 0x0000017347E33880>\n"
     ]
    },
    {
     "data": {
      "application/vnd.jupyter.widget-view+json": {
       "model_id": "bfe22b3934c04570b7dfc5055ff5268e",
       "version_major": 2,
       "version_minor": 0
      },
      "text/plain": [
       "  0%|          | 0/10000 [00:00<?, ?it/s]"
      ]
     },
     "metadata": {},
     "output_type": "display_data"
    },
    {
     "name": "stdout",
     "output_type": "stream",
     "text": [
      "\n",
      " Early Stopping / epoch: 447 loss: 0.001997\n",
      "----------------------------------------------------------------------------------------------------------\n",
      "lr: 0.0001  patience: 50  num_layers: 4  batch_size: 128  hidden_size: 8  dropout: 0.25 criterion: MSELoss()\n"
     ]
    },
    {
     "data": {
      "application/vnd.jupyter.widget-view+json": {
       "model_id": "028d943f3e9f4299bc75babd1a2df64c",
       "version_major": 2,
       "version_minor": 0
      },
      "text/plain": [
       "  0%|          | 0/10000 [00:00<?, ?it/s]"
      ]
     },
     "metadata": {},
     "output_type": "display_data"
    },
    {
     "name": "stdout",
     "output_type": "stream",
     "text": [
      "\n",
      " Early Stopping / epoch: 1070 loss: 0.000628\n",
      "----------------------------------------------------------------------------------------------------------\n",
      "lr: 0.0001  patience: 50  num_layers: 4  batch_size: 128  hidden_size: 8  dropout: 0.25 criterion: <function criterion2 at 0x0000017347E337F0>\n"
     ]
    },
    {
     "data": {
      "application/vnd.jupyter.widget-view+json": {
       "model_id": "5472b25f2e90425a9c18dbce35fc37f5",
       "version_major": 2,
       "version_minor": 0
      },
      "text/plain": [
       "  0%|          | 0/10000 [00:00<?, ?it/s]"
      ]
     },
     "metadata": {},
     "output_type": "display_data"
    },
    {
     "name": "stdout",
     "output_type": "stream",
     "text": [
      "\n",
      " Early Stopping / epoch: 1006 loss: 0.009193\n",
      "----------------------------------------------------------------------------------------------------------\n",
      "lr: 0.0001  patience: 50  num_layers: 4  batch_size: 128  hidden_size: 8  dropout: 0.25 criterion: <function criterion3 at 0x0000017347E33880>\n"
     ]
    },
    {
     "data": {
      "application/vnd.jupyter.widget-view+json": {
       "model_id": "aaf812c10bab471ea4d7036159a9fc7d",
       "version_major": 2,
       "version_minor": 0
      },
      "text/plain": [
       "  0%|          | 0/10000 [00:00<?, ?it/s]"
      ]
     },
     "metadata": {},
     "output_type": "display_data"
    },
    {
     "name": "stdout",
     "output_type": "stream",
     "text": [
      "\n",
      " Early Stopping / epoch: 975 loss: 0.001612\n",
      "----------------------------------------------------------------------------------------------------------\n",
      "lr: 0.0001  patience: 50  num_layers: 4  batch_size: 128  hidden_size: 8  dropout: 0.5 criterion: MSELoss()\n"
     ]
    },
    {
     "data": {
      "application/vnd.jupyter.widget-view+json": {
       "model_id": "c0cbb4e7964d41c1864508a50c43df9c",
       "version_major": 2,
       "version_minor": 0
      },
      "text/plain": [
       "  0%|          | 0/10000 [00:00<?, ?it/s]"
      ]
     },
     "metadata": {},
     "output_type": "display_data"
    },
    {
     "name": "stdout",
     "output_type": "stream",
     "text": [
      "\n",
      " Early Stopping / epoch: 980 loss: 0.000686\n",
      "----------------------------------------------------------------------------------------------------------\n",
      "lr: 0.0001  patience: 50  num_layers: 4  batch_size: 128  hidden_size: 8  dropout: 0.5 criterion: <function criterion2 at 0x0000017347E337F0>\n"
     ]
    },
    {
     "data": {
      "application/vnd.jupyter.widget-view+json": {
       "model_id": "9bbd7f486c424a27b75f0e6741ca2939",
       "version_major": 2,
       "version_minor": 0
      },
      "text/plain": [
       "  0%|          | 0/10000 [00:00<?, ?it/s]"
      ]
     },
     "metadata": {},
     "output_type": "display_data"
    },
    {
     "name": "stdout",
     "output_type": "stream",
     "text": [
      "\n",
      " Early Stopping / epoch: 866 loss: 0.009901\n",
      "----------------------------------------------------------------------------------------------------------\n",
      "lr: 0.0001  patience: 50  num_layers: 4  batch_size: 128  hidden_size: 8  dropout: 0.5 criterion: <function criterion3 at 0x0000017347E33880>\n"
     ]
    },
    {
     "data": {
      "application/vnd.jupyter.widget-view+json": {
       "model_id": "43380f86935f4147a7da50c92094ec91",
       "version_major": 2,
       "version_minor": 0
      },
      "text/plain": [
       "  0%|          | 0/10000 [00:00<?, ?it/s]"
      ]
     },
     "metadata": {},
     "output_type": "display_data"
    },
    {
     "name": "stdout",
     "output_type": "stream",
     "text": [
      "\n",
      " Early Stopping / epoch: 1339 loss: 0.001622\n",
      "----------------------------------------------------------------------------------------------------------\n",
      "lr: 0.0001  patience: 50  num_layers: 4  batch_size: 128  hidden_size: 16  dropout: 0.25 criterion: MSELoss()\n"
     ]
    },
    {
     "data": {
      "application/vnd.jupyter.widget-view+json": {
       "model_id": "aeb9aaae52a84fa19f7070e6f9a74108",
       "version_major": 2,
       "version_minor": 0
      },
      "text/plain": [
       "  0%|          | 0/10000 [00:00<?, ?it/s]"
      ]
     },
     "metadata": {},
     "output_type": "display_data"
    },
    {
     "name": "stdout",
     "output_type": "stream",
     "text": [
      "\n",
      " Early Stopping / epoch: 425 loss: 0.000636\n",
      "----------------------------------------------------------------------------------------------------------\n",
      "lr: 0.0001  patience: 50  num_layers: 4  batch_size: 128  hidden_size: 16  dropout: 0.25 criterion: <function criterion2 at 0x0000017347E337F0>\n"
     ]
    },
    {
     "data": {
      "application/vnd.jupyter.widget-view+json": {
       "model_id": "7bec25646ce643acbfb319c1d6b52c56",
       "version_major": 2,
       "version_minor": 0
      },
      "text/plain": [
       "  0%|          | 0/10000 [00:00<?, ?it/s]"
      ]
     },
     "metadata": {},
     "output_type": "display_data"
    },
    {
     "name": "stdout",
     "output_type": "stream",
     "text": [
      "\n",
      " Early Stopping / epoch: 870 loss: 0.009063\n",
      "----------------------------------------------------------------------------------------------------------\n",
      "lr: 0.0001  patience: 50  num_layers: 4  batch_size: 128  hidden_size: 16  dropout: 0.25 criterion: <function criterion3 at 0x0000017347E33880>\n"
     ]
    },
    {
     "data": {
      "application/vnd.jupyter.widget-view+json": {
       "model_id": "83285d5b82784f78b719c78559115af2",
       "version_major": 2,
       "version_minor": 0
      },
      "text/plain": [
       "  0%|          | 0/10000 [00:00<?, ?it/s]"
      ]
     },
     "metadata": {},
     "output_type": "display_data"
    },
    {
     "name": "stdout",
     "output_type": "stream",
     "text": [
      "\n",
      " Early Stopping / epoch: 765 loss: 0.001588\n",
      "----------------------------------------------------------------------------------------------------------\n",
      "lr: 0.0001  patience: 50  num_layers: 4  batch_size: 128  hidden_size: 16  dropout: 0.5 criterion: MSELoss()\n"
     ]
    },
    {
     "data": {
      "application/vnd.jupyter.widget-view+json": {
       "model_id": "981f5ce48c34486fb57dee7fb4036176",
       "version_major": 2,
       "version_minor": 0
      },
      "text/plain": [
       "  0%|          | 0/10000 [00:00<?, ?it/s]"
      ]
     },
     "metadata": {},
     "output_type": "display_data"
    },
    {
     "name": "stdout",
     "output_type": "stream",
     "text": [
      "\n",
      " Early Stopping / epoch: 770 loss: 0.000650\n",
      "----------------------------------------------------------------------------------------------------------\n",
      "lr: 0.0001  patience: 50  num_layers: 4  batch_size: 128  hidden_size: 16  dropout: 0.5 criterion: <function criterion2 at 0x0000017347E337F0>\n"
     ]
    },
    {
     "data": {
      "application/vnd.jupyter.widget-view+json": {
       "model_id": "ce33a81a76a44e218240c5dfbb94700b",
       "version_major": 2,
       "version_minor": 0
      },
      "text/plain": [
       "  0%|          | 0/10000 [00:00<?, ?it/s]"
      ]
     },
     "metadata": {},
     "output_type": "display_data"
    },
    {
     "name": "stdout",
     "output_type": "stream",
     "text": [
      "\n",
      " Early Stopping / epoch: 888 loss: 0.009241\n",
      "----------------------------------------------------------------------------------------------------------\n",
      "lr: 0.0001  patience: 50  num_layers: 4  batch_size: 128  hidden_size: 16  dropout: 0.5 criterion: <function criterion3 at 0x0000017347E33880>\n"
     ]
    },
    {
     "data": {
      "application/vnd.jupyter.widget-view+json": {
       "model_id": "caff28163e7a49bbb963db4bfea9370c",
       "version_major": 2,
       "version_minor": 0
      },
      "text/plain": [
       "  0%|          | 0/10000 [00:00<?, ?it/s]"
      ]
     },
     "metadata": {},
     "output_type": "display_data"
    },
    {
     "name": "stdout",
     "output_type": "stream",
     "text": [
      "\n",
      " Early Stopping / epoch: 1051 loss: 0.001614\n",
      "----------------------------------------------------------------------------------------------------------\n",
      "lr: 0.0001  patience: 50  num_layers: 4  batch_size: 128  hidden_size: 32  dropout: 0.25 criterion: MSELoss()\n"
     ]
    },
    {
     "data": {
      "application/vnd.jupyter.widget-view+json": {
       "model_id": "a2c72af9d6ef46fea046f4ffa77545fc",
       "version_major": 2,
       "version_minor": 0
      },
      "text/plain": [
       "  0%|          | 0/10000 [00:00<?, ?it/s]"
      ]
     },
     "metadata": {},
     "output_type": "display_data"
    },
    {
     "name": "stdout",
     "output_type": "stream",
     "text": [
      "\n",
      " Early Stopping / epoch: 1528 loss: 0.000126\n",
      "----------------------------------------------------------------------------------------------------------\n",
      "lr: 0.0001  patience: 50  num_layers: 4  batch_size: 128  hidden_size: 32  dropout: 0.25 criterion: <function criterion2 at 0x0000017347E337F0>\n"
     ]
    },
    {
     "data": {
      "application/vnd.jupyter.widget-view+json": {
       "model_id": "bf104dc7e95549378cebcc5b0c076936",
       "version_major": 2,
       "version_minor": 0
      },
      "text/plain": [
       "  0%|          | 0/10000 [00:00<?, ?it/s]"
      ]
     },
     "metadata": {},
     "output_type": "display_data"
    },
    {
     "name": "stdout",
     "output_type": "stream",
     "text": [
      "\n",
      " Early Stopping / epoch: 504 loss: 0.008607\n",
      "----------------------------------------------------------------------------------------------------------\n",
      "lr: 0.0001  patience: 50  num_layers: 4  batch_size: 128  hidden_size: 32  dropout: 0.25 criterion: <function criterion3 at 0x0000017347E33880>\n"
     ]
    },
    {
     "data": {
      "application/vnd.jupyter.widget-view+json": {
       "model_id": "d124ceb335714ad9a32e403effdf1ca4",
       "version_major": 2,
       "version_minor": 0
      },
      "text/plain": [
       "  0%|          | 0/10000 [00:00<?, ?it/s]"
      ]
     },
     "metadata": {},
     "output_type": "display_data"
    },
    {
     "name": "stdout",
     "output_type": "stream",
     "text": [
      "\n",
      " Early Stopping / epoch: 1031 loss: 0.001412\n",
      "----------------------------------------------------------------------------------------------------------\n",
      "lr: 0.0001  patience: 50  num_layers: 4  batch_size: 128  hidden_size: 32  dropout: 0.5 criterion: MSELoss()\n"
     ]
    },
    {
     "data": {
      "application/vnd.jupyter.widget-view+json": {
       "model_id": "b7123ca056a248729765e008a53ca0b4",
       "version_major": 2,
       "version_minor": 0
      },
      "text/plain": [
       "  0%|          | 0/10000 [00:00<?, ?it/s]"
      ]
     },
     "metadata": {},
     "output_type": "display_data"
    },
    {
     "name": "stdout",
     "output_type": "stream",
     "text": [
      "\n",
      " Early Stopping / epoch: 489 loss: 0.000680\n",
      "----------------------------------------------------------------------------------------------------------\n",
      "lr: 0.0001  patience: 50  num_layers: 4  batch_size: 128  hidden_size: 32  dropout: 0.5 criterion: <function criterion2 at 0x0000017347E337F0>\n"
     ]
    },
    {
     "data": {
      "application/vnd.jupyter.widget-view+json": {
       "model_id": "9b48be339f1540ca9d8849af4aa66c2c",
       "version_major": 2,
       "version_minor": 0
      },
      "text/plain": [
       "  0%|          | 0/10000 [00:00<?, ?it/s]"
      ]
     },
     "metadata": {},
     "output_type": "display_data"
    },
    {
     "name": "stdout",
     "output_type": "stream",
     "text": [
      "\n",
      " Early Stopping / epoch: 668 loss: 0.009023\n",
      "----------------------------------------------------------------------------------------------------------\n",
      "lr: 0.0001  patience: 50  num_layers: 4  batch_size: 128  hidden_size: 32  dropout: 0.5 criterion: <function criterion3 at 0x0000017347E33880>\n"
     ]
    },
    {
     "data": {
      "application/vnd.jupyter.widget-view+json": {
       "model_id": "8e9be246e6c74e9ebc25a3265c9c6754",
       "version_major": 2,
       "version_minor": 0
      },
      "text/plain": [
       "  0%|          | 0/10000 [00:00<?, ?it/s]"
      ]
     },
     "metadata": {},
     "output_type": "display_data"
    },
    {
     "name": "stdout",
     "output_type": "stream",
     "text": [
      "\n",
      " Early Stopping / epoch: 588 loss: 0.001550\n",
      "----------------------------------------------------------------------------------------------------------\n",
      "lr: 1e-05  patience: 20  num_layers: 2  batch_size: 32  hidden_size: 8  dropout: 0.25 criterion: MSELoss()\n"
     ]
    },
    {
     "data": {
      "application/vnd.jupyter.widget-view+json": {
       "model_id": "2dce33dc83e54cdd952e75bd4b31eded",
       "version_major": 2,
       "version_minor": 0
      },
      "text/plain": [
       "  0%|          | 0/10000 [00:00<?, ?it/s]"
      ]
     },
     "metadata": {},
     "output_type": "display_data"
    },
    {
     "name": "stdout",
     "output_type": "stream",
     "text": [
      "\n",
      " Early Stopping / epoch: 847 loss: 0.000850\n",
      "----------------------------------------------------------------------------------------------------------\n",
      "lr: 1e-05  patience: 20  num_layers: 2  batch_size: 32  hidden_size: 8  dropout: 0.25 criterion: <function criterion2 at 0x0000017347E337F0>\n"
     ]
    },
    {
     "data": {
      "application/vnd.jupyter.widget-view+json": {
       "model_id": "d29daf6bc67f4dfaa91998c8e535680b",
       "version_major": 2,
       "version_minor": 0
      },
      "text/plain": [
       "  0%|          | 0/10000 [00:00<?, ?it/s]"
      ]
     },
     "metadata": {},
     "output_type": "display_data"
    },
    {
     "name": "stdout",
     "output_type": "stream",
     "text": [
      "\n",
      " Early Stopping / epoch: 745 loss: 0.011079\n",
      "----------------------------------------------------------------------------------------------------------\n",
      "lr: 1e-05  patience: 20  num_layers: 2  batch_size: 32  hidden_size: 8  dropout: 0.25 criterion: <function criterion3 at 0x0000017347E33880>\n"
     ]
    },
    {
     "data": {
      "application/vnd.jupyter.widget-view+json": {
       "model_id": "ec09ea68ff3d4d5085670152e35dedfb",
       "version_major": 2,
       "version_minor": 0
      },
      "text/plain": [
       "  0%|          | 0/10000 [00:00<?, ?it/s]"
      ]
     },
     "metadata": {},
     "output_type": "display_data"
    },
    {
     "name": "stdout",
     "output_type": "stream",
     "text": [
      "\n",
      " Early Stopping / epoch: 711 loss: 0.002968\n",
      "----------------------------------------------------------------------------------------------------------\n",
      "lr: 1e-05  patience: 20  num_layers: 2  batch_size: 32  hidden_size: 8  dropout: 0.5 criterion: MSELoss()\n"
     ]
    },
    {
     "data": {
      "application/vnd.jupyter.widget-view+json": {
       "model_id": "a70dfcd0874b4360a23368a35ffcee16",
       "version_major": 2,
       "version_minor": 0
      },
      "text/plain": [
       "  0%|          | 0/10000 [00:00<?, ?it/s]"
      ]
     },
     "metadata": {},
     "output_type": "display_data"
    },
    {
     "name": "stdout",
     "output_type": "stream",
     "text": [
      "\n",
      " Early Stopping / epoch: 449 loss: 0.000768\n",
      "----------------------------------------------------------------------------------------------------------\n",
      "lr: 1e-05  patience: 20  num_layers: 2  batch_size: 32  hidden_size: 8  dropout: 0.5 criterion: <function criterion2 at 0x0000017347E337F0>\n"
     ]
    },
    {
     "data": {
      "application/vnd.jupyter.widget-view+json": {
       "model_id": "260d2275941a40b9b9c4316d93980338",
       "version_major": 2,
       "version_minor": 0
      },
      "text/plain": [
       "  0%|          | 0/10000 [00:00<?, ?it/s]"
      ]
     },
     "metadata": {},
     "output_type": "display_data"
    },
    {
     "name": "stdout",
     "output_type": "stream",
     "text": [
      "\n",
      " Early Stopping / epoch: 417 loss: 0.012832\n",
      "----------------------------------------------------------------------------------------------------------\n",
      "lr: 1e-05  patience: 20  num_layers: 2  batch_size: 32  hidden_size: 8  dropout: 0.5 criterion: <function criterion3 at 0x0000017347E33880>\n"
     ]
    },
    {
     "data": {
      "application/vnd.jupyter.widget-view+json": {
       "model_id": "4f7c5ce7c08548628cd785bcb2ce51ff",
       "version_major": 2,
       "version_minor": 0
      },
      "text/plain": [
       "  0%|          | 0/10000 [00:00<?, ?it/s]"
      ]
     },
     "metadata": {},
     "output_type": "display_data"
    },
    {
     "name": "stdout",
     "output_type": "stream",
     "text": [
      "\n",
      " Early Stopping / epoch: 665 loss: 0.003064\n",
      "----------------------------------------------------------------------------------------------------------\n",
      "lr: 1e-05  patience: 20  num_layers: 2  batch_size: 32  hidden_size: 16  dropout: 0.25 criterion: MSELoss()\n"
     ]
    },
    {
     "data": {
      "application/vnd.jupyter.widget-view+json": {
       "model_id": "5ccfa1f156a04d12bffddc634f631d8a",
       "version_major": 2,
       "version_minor": 0
      },
      "text/plain": [
       "  0%|          | 0/10000 [00:00<?, ?it/s]"
      ]
     },
     "metadata": {},
     "output_type": "display_data"
    },
    {
     "name": "stdout",
     "output_type": "stream",
     "text": [
      "\n",
      " Early Stopping / epoch: 529 loss: 0.000741\n",
      "----------------------------------------------------------------------------------------------------------\n",
      "lr: 1e-05  patience: 20  num_layers: 2  batch_size: 32  hidden_size: 16  dropout: 0.25 criterion: <function criterion2 at 0x0000017347E337F0>\n"
     ]
    },
    {
     "data": {
      "application/vnd.jupyter.widget-view+json": {
       "model_id": "34aa97ff1f644bd38dc0357108fff71a",
       "version_major": 2,
       "version_minor": 0
      },
      "text/plain": [
       "  0%|          | 0/10000 [00:00<?, ?it/s]"
      ]
     },
     "metadata": {},
     "output_type": "display_data"
    },
    {
     "name": "stdout",
     "output_type": "stream",
     "text": [
      "\n",
      " Early Stopping / epoch: 556 loss: 0.011234\n",
      "----------------------------------------------------------------------------------------------------------\n",
      "lr: 1e-05  patience: 20  num_layers: 2  batch_size: 32  hidden_size: 16  dropout: 0.25 criterion: <function criterion3 at 0x0000017347E33880>\n"
     ]
    },
    {
     "data": {
      "application/vnd.jupyter.widget-view+json": {
       "model_id": "e18c409b3cdc40b597ca5262fcd047c2",
       "version_major": 2,
       "version_minor": 0
      },
      "text/plain": [
       "  0%|          | 0/10000 [00:00<?, ?it/s]"
      ]
     },
     "metadata": {},
     "output_type": "display_data"
    },
    {
     "name": "stdout",
     "output_type": "stream",
     "text": [
      "\n",
      " Early Stopping / epoch: 553 loss: 0.002955\n",
      "----------------------------------------------------------------------------------------------------------\n",
      "lr: 1e-05  patience: 20  num_layers: 2  batch_size: 32  hidden_size: 16  dropout: 0.5 criterion: MSELoss()\n"
     ]
    },
    {
     "data": {
      "application/vnd.jupyter.widget-view+json": {
       "model_id": "ec1823a540a5401f8a4ec58a02e15d29",
       "version_major": 2,
       "version_minor": 0
      },
      "text/plain": [
       "  0%|          | 0/10000 [00:00<?, ?it/s]"
      ]
     },
     "metadata": {},
     "output_type": "display_data"
    },
    {
     "name": "stdout",
     "output_type": "stream",
     "text": [
      "\n",
      " Early Stopping / epoch: 413 loss: 0.000836\n",
      "----------------------------------------------------------------------------------------------------------\n",
      "lr: 1e-05  patience: 20  num_layers: 2  batch_size: 32  hidden_size: 16  dropout: 0.5 criterion: <function criterion2 at 0x0000017347E337F0>\n"
     ]
    },
    {
     "data": {
      "application/vnd.jupyter.widget-view+json": {
       "model_id": "344585cabf6c483b94efe5dd86bca567",
       "version_major": 2,
       "version_minor": 0
      },
      "text/plain": [
       "  0%|          | 0/10000 [00:00<?, ?it/s]"
      ]
     },
     "metadata": {},
     "output_type": "display_data"
    },
    {
     "name": "stdout",
     "output_type": "stream",
     "text": [
      "\n",
      " Early Stopping / epoch: 572 loss: 0.010556\n",
      "----------------------------------------------------------------------------------------------------------\n",
      "lr: 1e-05  patience: 20  num_layers: 2  batch_size: 32  hidden_size: 16  dropout: 0.5 criterion: <function criterion3 at 0x0000017347E33880>\n"
     ]
    },
    {
     "data": {
      "application/vnd.jupyter.widget-view+json": {
       "model_id": "5c743a76a62a473a84470f1e82200c60",
       "version_major": 2,
       "version_minor": 0
      },
      "text/plain": [
       "  0%|          | 0/10000 [00:00<?, ?it/s]"
      ]
     },
     "metadata": {},
     "output_type": "display_data"
    },
    {
     "name": "stdout",
     "output_type": "stream",
     "text": [
      "\n",
      " Early Stopping / epoch: 826 loss: 0.002683\n",
      "----------------------------------------------------------------------------------------------------------\n",
      "lr: 1e-05  patience: 20  num_layers: 2  batch_size: 32  hidden_size: 32  dropout: 0.25 criterion: MSELoss()\n"
     ]
    },
    {
     "data": {
      "application/vnd.jupyter.widget-view+json": {
       "model_id": "fb7ffbb982034c16ae66b1a89c91ce51",
       "version_major": 2,
       "version_minor": 0
      },
      "text/plain": [
       "  0%|          | 0/10000 [00:00<?, ?it/s]"
      ]
     },
     "metadata": {},
     "output_type": "display_data"
    },
    {
     "name": "stdout",
     "output_type": "stream",
     "text": [
      "\n",
      " Early Stopping / epoch: 410 loss: 0.000716\n",
      "----------------------------------------------------------------------------------------------------------\n",
      "lr: 1e-05  patience: 20  num_layers: 2  batch_size: 32  hidden_size: 32  dropout: 0.25 criterion: <function criterion2 at 0x0000017347E337F0>\n"
     ]
    },
    {
     "data": {
      "application/vnd.jupyter.widget-view+json": {
       "model_id": "d6b9836f5533414393f818559c4a42cb",
       "version_major": 2,
       "version_minor": 0
      },
      "text/plain": [
       "  0%|          | 0/10000 [00:00<?, ?it/s]"
      ]
     },
     "metadata": {},
     "output_type": "display_data"
    },
    {
     "name": "stdout",
     "output_type": "stream",
     "text": [
      "\n",
      " Early Stopping / epoch: 570 loss: 0.009403\n",
      "----------------------------------------------------------------------------------------------------------\n",
      "lr: 1e-05  patience: 20  num_layers: 2  batch_size: 32  hidden_size: 32  dropout: 0.25 criterion: <function criterion3 at 0x0000017347E33880>\n"
     ]
    },
    {
     "data": {
      "application/vnd.jupyter.widget-view+json": {
       "model_id": "6bee94d91d3a4438b2bb9fda75114e9e",
       "version_major": 2,
       "version_minor": 0
      },
      "text/plain": [
       "  0%|          | 0/10000 [00:00<?, ?it/s]"
      ]
     },
     "metadata": {},
     "output_type": "display_data"
    },
    {
     "name": "stdout",
     "output_type": "stream",
     "text": [
      "\n",
      " Early Stopping / epoch: 588 loss: 0.002633\n",
      "----------------------------------------------------------------------------------------------------------\n",
      "lr: 1e-05  patience: 20  num_layers: 2  batch_size: 32  hidden_size: 32  dropout: 0.5 criterion: MSELoss()\n"
     ]
    },
    {
     "data": {
      "application/vnd.jupyter.widget-view+json": {
       "model_id": "f9169c3b908544e28c3b71cc24a0b739",
       "version_major": 2,
       "version_minor": 0
      },
      "text/plain": [
       "  0%|          | 0/10000 [00:00<?, ?it/s]"
      ]
     },
     "metadata": {},
     "output_type": "display_data"
    },
    {
     "name": "stdout",
     "output_type": "stream",
     "text": [
      "\n",
      " Early Stopping / epoch: 289 loss: 0.000787\n",
      "----------------------------------------------------------------------------------------------------------\n",
      "lr: 1e-05  patience: 20  num_layers: 2  batch_size: 32  hidden_size: 32  dropout: 0.5 criterion: <function criterion2 at 0x0000017347E337F0>\n"
     ]
    },
    {
     "data": {
      "application/vnd.jupyter.widget-view+json": {
       "model_id": "a07270b65ad84c1bb0cfa7f600f2929d",
       "version_major": 2,
       "version_minor": 0
      },
      "text/plain": [
       "  0%|          | 0/10000 [00:00<?, ?it/s]"
      ]
     },
     "metadata": {},
     "output_type": "display_data"
    },
    {
     "name": "stdout",
     "output_type": "stream",
     "text": [
      "\n",
      " Early Stopping / epoch: 538 loss: 0.009951\n",
      "----------------------------------------------------------------------------------------------------------\n",
      "lr: 1e-05  patience: 20  num_layers: 2  batch_size: 32  hidden_size: 32  dropout: 0.5 criterion: <function criterion3 at 0x0000017347E33880>\n"
     ]
    },
    {
     "data": {
      "application/vnd.jupyter.widget-view+json": {
       "model_id": "5a7de2d6e6824a07b1ce1eeedc38b482",
       "version_major": 2,
       "version_minor": 0
      },
      "text/plain": [
       "  0%|          | 0/10000 [00:00<?, ?it/s]"
      ]
     },
     "metadata": {},
     "output_type": "display_data"
    },
    {
     "name": "stdout",
     "output_type": "stream",
     "text": [
      "\n",
      " Early Stopping / epoch: 519 loss: 0.002648\n",
      "----------------------------------------------------------------------------------------------------------\n",
      "lr: 1e-05  patience: 20  num_layers: 2  batch_size: 64  hidden_size: 8  dropout: 0.25 criterion: MSELoss()\n"
     ]
    },
    {
     "data": {
      "application/vnd.jupyter.widget-view+json": {
       "model_id": "c53f659ef20b484abb153bae73be0d8a",
       "version_major": 2,
       "version_minor": 0
      },
      "text/plain": [
       "  0%|          | 0/10000 [00:00<?, ?it/s]"
      ]
     },
     "metadata": {},
     "output_type": "display_data"
    },
    {
     "name": "stdout",
     "output_type": "stream",
     "text": [
      "\n",
      " Early Stopping / epoch: 1223 loss: 0.000788\n",
      "----------------------------------------------------------------------------------------------------------\n",
      "lr: 1e-05  patience: 20  num_layers: 2  batch_size: 64  hidden_size: 8  dropout: 0.25 criterion: <function criterion2 at 0x0000017347E337F0>\n"
     ]
    },
    {
     "data": {
      "application/vnd.jupyter.widget-view+json": {
       "model_id": "27c1ea7b8b9b4ceeb2fa6d7ea479c9a0",
       "version_major": 2,
       "version_minor": 0
      },
      "text/plain": [
       "  0%|          | 0/10000 [00:00<?, ?it/s]"
      ]
     },
     "metadata": {},
     "output_type": "display_data"
    },
    {
     "name": "stdout",
     "output_type": "stream",
     "text": [
      "\n",
      " Early Stopping / epoch: 741 loss: 0.012798\n",
      "----------------------------------------------------------------------------------------------------------\n",
      "lr: 1e-05  patience: 20  num_layers: 2  batch_size: 64  hidden_size: 8  dropout: 0.25 criterion: <function criterion3 at 0x0000017347E33880>\n"
     ]
    },
    {
     "data": {
      "application/vnd.jupyter.widget-view+json": {
       "model_id": "2f676eed763645c1b345a0341648f358",
       "version_major": 2,
       "version_minor": 0
      },
      "text/plain": [
       "  0%|          | 0/10000 [00:00<?, ?it/s]"
      ]
     },
     "metadata": {},
     "output_type": "display_data"
    },
    {
     "name": "stdout",
     "output_type": "stream",
     "text": [
      "\n",
      " Early Stopping / epoch: 865 loss: 0.002620\n",
      "----------------------------------------------------------------------------------------------------------\n",
      "lr: 1e-05  patience: 20  num_layers: 2  batch_size: 64  hidden_size: 8  dropout: 0.5 criterion: MSELoss()\n"
     ]
    },
    {
     "data": {
      "application/vnd.jupyter.widget-view+json": {
       "model_id": "b511ddbc09ca44ce83a86065fa6177a9",
       "version_major": 2,
       "version_minor": 0
      },
      "text/plain": [
       "  0%|          | 0/10000 [00:00<?, ?it/s]"
      ]
     },
     "metadata": {},
     "output_type": "display_data"
    },
    {
     "name": "stdout",
     "output_type": "stream",
     "text": [
      "\n",
      " Early Stopping / epoch: 1137 loss: 0.000774\n",
      "----------------------------------------------------------------------------------------------------------\n",
      "lr: 1e-05  patience: 20  num_layers: 2  batch_size: 64  hidden_size: 8  dropout: 0.5 criterion: <function criterion2 at 0x0000017347E337F0>\n"
     ]
    },
    {
     "data": {
      "application/vnd.jupyter.widget-view+json": {
       "model_id": "e56d512072ff473dbc2d2332ac634037",
       "version_major": 2,
       "version_minor": 0
      },
      "text/plain": [
       "  0%|          | 0/10000 [00:00<?, ?it/s]"
      ]
     },
     "metadata": {},
     "output_type": "display_data"
    },
    {
     "name": "stdout",
     "output_type": "stream",
     "text": [
      "\n",
      " Early Stopping / epoch: 850 loss: 0.012854\n",
      "----------------------------------------------------------------------------------------------------------\n",
      "lr: 1e-05  patience: 20  num_layers: 2  batch_size: 64  hidden_size: 8  dropout: 0.5 criterion: <function criterion3 at 0x0000017347E33880>\n"
     ]
    },
    {
     "data": {
      "application/vnd.jupyter.widget-view+json": {
       "model_id": "b94a3a2bffe74dfd8a766edb8fe9810b",
       "version_major": 2,
       "version_minor": 0
      },
      "text/plain": [
       "  0%|          | 0/10000 [00:00<?, ?it/s]"
      ]
     },
     "metadata": {},
     "output_type": "display_data"
    },
    {
     "name": "stdout",
     "output_type": "stream",
     "text": [
      "\n",
      " Early Stopping / epoch: 725 loss: 0.002419\n",
      "----------------------------------------------------------------------------------------------------------\n",
      "lr: 1e-05  patience: 20  num_layers: 2  batch_size: 64  hidden_size: 16  dropout: 0.25 criterion: MSELoss()\n"
     ]
    },
    {
     "data": {
      "application/vnd.jupyter.widget-view+json": {
       "model_id": "1166eb558c2848a1b4ed989eccbc499a",
       "version_major": 2,
       "version_minor": 0
      },
      "text/plain": [
       "  0%|          | 0/10000 [00:00<?, ?it/s]"
      ]
     },
     "metadata": {},
     "output_type": "display_data"
    },
    {
     "name": "stdout",
     "output_type": "stream",
     "text": [
      "\n",
      " Early Stopping / epoch: 363 loss: 0.000876\n",
      "----------------------------------------------------------------------------------------------------------\n",
      "lr: 1e-05  patience: 20  num_layers: 2  batch_size: 64  hidden_size: 16  dropout: 0.25 criterion: <function criterion2 at 0x0000017347E337F0>\n"
     ]
    },
    {
     "data": {
      "application/vnd.jupyter.widget-view+json": {
       "model_id": "e71d7b6903e6432a966a7833b3b0ad43",
       "version_major": 2,
       "version_minor": 0
      },
      "text/plain": [
       "  0%|          | 0/10000 [00:00<?, ?it/s]"
      ]
     },
     "metadata": {},
     "output_type": "display_data"
    },
    {
     "name": "stdout",
     "output_type": "stream",
     "text": [
      "\n",
      " Early Stopping / epoch: 568 loss: 0.012452\n",
      "----------------------------------------------------------------------------------------------------------\n",
      "lr: 1e-05  patience: 20  num_layers: 2  batch_size: 64  hidden_size: 16  dropout: 0.25 criterion: <function criterion3 at 0x0000017347E33880>\n"
     ]
    },
    {
     "data": {
      "application/vnd.jupyter.widget-view+json": {
       "model_id": "2b7b913ed8d045e7b3d97c9c3f8f9ad1",
       "version_major": 2,
       "version_minor": 0
      },
      "text/plain": [
       "  0%|          | 0/10000 [00:00<?, ?it/s]"
      ]
     },
     "metadata": {},
     "output_type": "display_data"
    },
    {
     "name": "stdout",
     "output_type": "stream",
     "text": [
      "\n",
      " Early Stopping / epoch: 626 loss: 0.002339\n",
      "----------------------------------------------------------------------------------------------------------\n",
      "lr: 1e-05  patience: 20  num_layers: 2  batch_size: 64  hidden_size: 16  dropout: 0.5 criterion: MSELoss()\n"
     ]
    },
    {
     "data": {
      "application/vnd.jupyter.widget-view+json": {
       "model_id": "eeb6503c203c40e597b8995abb39accf",
       "version_major": 2,
       "version_minor": 0
      },
      "text/plain": [
       "  0%|          | 0/10000 [00:00<?, ?it/s]"
      ]
     },
     "metadata": {},
     "output_type": "display_data"
    },
    {
     "name": "stdout",
     "output_type": "stream",
     "text": [
      "\n",
      " Early Stopping / epoch: 500 loss: 0.000945\n",
      "----------------------------------------------------------------------------------------------------------\n",
      "lr: 1e-05  patience: 20  num_layers: 2  batch_size: 64  hidden_size: 16  dropout: 0.5 criterion: <function criterion2 at 0x0000017347E337F0>\n"
     ]
    },
    {
     "data": {
      "application/vnd.jupyter.widget-view+json": {
       "model_id": "6c2c3102549c41f6b9abf992351b41ff",
       "version_major": 2,
       "version_minor": 0
      },
      "text/plain": [
       "  0%|          | 0/10000 [00:00<?, ?it/s]"
      ]
     },
     "metadata": {},
     "output_type": "display_data"
    },
    {
     "name": "stdout",
     "output_type": "stream",
     "text": [
      "\n",
      " Early Stopping / epoch: 791 loss: 0.011225\n",
      "----------------------------------------------------------------------------------------------------------\n",
      "lr: 1e-05  patience: 20  num_layers: 2  batch_size: 64  hidden_size: 16  dropout: 0.5 criterion: <function criterion3 at 0x0000017347E33880>\n"
     ]
    },
    {
     "data": {
      "application/vnd.jupyter.widget-view+json": {
       "model_id": "29a2ff1508e0492cae48a08d02158ce7",
       "version_major": 2,
       "version_minor": 0
      },
      "text/plain": [
       "  0%|          | 0/10000 [00:00<?, ?it/s]"
      ]
     },
     "metadata": {},
     "output_type": "display_data"
    },
    {
     "name": "stdout",
     "output_type": "stream",
     "text": [
      "\n",
      " Early Stopping / epoch: 656 loss: 0.002396\n",
      "----------------------------------------------------------------------------------------------------------\n",
      "lr: 1e-05  patience: 20  num_layers: 2  batch_size: 64  hidden_size: 32  dropout: 0.25 criterion: MSELoss()\n"
     ]
    },
    {
     "data": {
      "application/vnd.jupyter.widget-view+json": {
       "model_id": "119c12626dc0442099e44c8ec23c6a2a",
       "version_major": 2,
       "version_minor": 0
      },
      "text/plain": [
       "  0%|          | 0/10000 [00:00<?, ?it/s]"
      ]
     },
     "metadata": {},
     "output_type": "display_data"
    },
    {
     "name": "stdout",
     "output_type": "stream",
     "text": [
      "\n",
      " Early Stopping / epoch: 581 loss: 0.000818\n",
      "----------------------------------------------------------------------------------------------------------\n",
      "lr: 1e-05  patience: 20  num_layers: 2  batch_size: 64  hidden_size: 32  dropout: 0.25 criterion: <function criterion2 at 0x0000017347E337F0>\n"
     ]
    },
    {
     "data": {
      "application/vnd.jupyter.widget-view+json": {
       "model_id": "f1c9aafeb4094411b312f4d6a3ceb5b5",
       "version_major": 2,
       "version_minor": 0
      },
      "text/plain": [
       "  0%|          | 0/10000 [00:00<?, ?it/s]"
      ]
     },
     "metadata": {},
     "output_type": "display_data"
    },
    {
     "name": "stdout",
     "output_type": "stream",
     "text": [
      "\n",
      " Early Stopping / epoch: 613 loss: 0.010525\n",
      "----------------------------------------------------------------------------------------------------------\n",
      "lr: 1e-05  patience: 20  num_layers: 2  batch_size: 64  hidden_size: 32  dropout: 0.25 criterion: <function criterion3 at 0x0000017347E33880>\n"
     ]
    },
    {
     "data": {
      "application/vnd.jupyter.widget-view+json": {
       "model_id": "bccaa8ae6b994b33a95e5029d7fe68ec",
       "version_major": 2,
       "version_minor": 0
      },
      "text/plain": [
       "  0%|          | 0/10000 [00:00<?, ?it/s]"
      ]
     },
     "metadata": {},
     "output_type": "display_data"
    },
    {
     "name": "stdout",
     "output_type": "stream",
     "text": [
      "\n",
      " Early Stopping / epoch: 421 loss: 0.002210\n",
      "----------------------------------------------------------------------------------------------------------\n",
      "lr: 1e-05  patience: 20  num_layers: 2  batch_size: 64  hidden_size: 32  dropout: 0.5 criterion: MSELoss()\n"
     ]
    },
    {
     "data": {
      "application/vnd.jupyter.widget-view+json": {
       "model_id": "49a48b3889d244a0a0bf0f1e397d46bb",
       "version_major": 2,
       "version_minor": 0
      },
      "text/plain": [
       "  0%|          | 0/10000 [00:00<?, ?it/s]"
      ]
     },
     "metadata": {},
     "output_type": "display_data"
    },
    {
     "name": "stdout",
     "output_type": "stream",
     "text": [
      "\n",
      " Early Stopping / epoch: 553 loss: 0.000783\n",
      "----------------------------------------------------------------------------------------------------------\n",
      "lr: 1e-05  patience: 20  num_layers: 2  batch_size: 64  hidden_size: 32  dropout: 0.5 criterion: <function criterion2 at 0x0000017347E337F0>\n"
     ]
    },
    {
     "data": {
      "application/vnd.jupyter.widget-view+json": {
       "model_id": "3c26554fcc7744b1867b7bdeddd9d3fd",
       "version_major": 2,
       "version_minor": 0
      },
      "text/plain": [
       "  0%|          | 0/10000 [00:00<?, ?it/s]"
      ]
     },
     "metadata": {},
     "output_type": "display_data"
    },
    {
     "name": "stdout",
     "output_type": "stream",
     "text": [
      "\n",
      " Early Stopping / epoch: 713 loss: 0.010777\n",
      "----------------------------------------------------------------------------------------------------------\n",
      "lr: 1e-05  patience: 20  num_layers: 2  batch_size: 64  hidden_size: 32  dropout: 0.5 criterion: <function criterion3 at 0x0000017347E33880>\n"
     ]
    },
    {
     "data": {
      "application/vnd.jupyter.widget-view+json": {
       "model_id": "131848dc60cd4dceb483d63a5055eacf",
       "version_major": 2,
       "version_minor": 0
      },
      "text/plain": [
       "  0%|          | 0/10000 [00:00<?, ?it/s]"
      ]
     },
     "metadata": {},
     "output_type": "display_data"
    },
    {
     "name": "stdout",
     "output_type": "stream",
     "text": [
      "\n",
      " Early Stopping / epoch: 407 loss: 0.002281\n",
      "----------------------------------------------------------------------------------------------------------\n",
      "lr: 1e-05  patience: 20  num_layers: 2  batch_size: 128  hidden_size: 8  dropout: 0.25 criterion: MSELoss()\n"
     ]
    },
    {
     "data": {
      "application/vnd.jupyter.widget-view+json": {
       "model_id": "e6b6236cc02b4a128d32a4f1097a0f64",
       "version_major": 2,
       "version_minor": 0
      },
      "text/plain": [
       "  0%|          | 0/10000 [00:00<?, ?it/s]"
      ]
     },
     "metadata": {},
     "output_type": "display_data"
    },
    {
     "name": "stdout",
     "output_type": "stream",
     "text": [
      "\n",
      " Early Stopping / epoch: 813 loss: 0.002514\n",
      "----------------------------------------------------------------------------------------------------------\n",
      "lr: 1e-05  patience: 20  num_layers: 2  batch_size: 128  hidden_size: 8  dropout: 0.25 criterion: <function criterion2 at 0x0000017347E337F0>\n"
     ]
    },
    {
     "data": {
      "application/vnd.jupyter.widget-view+json": {
       "model_id": "8b22f24c6650492db9dd2908c1a5c048",
       "version_major": 2,
       "version_minor": 0
      },
      "text/plain": [
       "  0%|          | 0/10000 [00:00<?, ?it/s]"
      ]
     },
     "metadata": {},
     "output_type": "display_data"
    },
    {
     "name": "stdout",
     "output_type": "stream",
     "text": [
      "\n",
      " Early Stopping / epoch: 713 loss: 0.031707\n",
      "----------------------------------------------------------------------------------------------------------\n",
      "lr: 1e-05  patience: 20  num_layers: 2  batch_size: 128  hidden_size: 8  dropout: 0.25 criterion: <function criterion3 at 0x0000017347E33880>\n"
     ]
    },
    {
     "data": {
      "application/vnd.jupyter.widget-view+json": {
       "model_id": "b5c71beba164486da5cce222aae2d5cd",
       "version_major": 2,
       "version_minor": 0
      },
      "text/plain": [
       "  0%|          | 0/10000 [00:00<?, ?it/s]"
      ]
     },
     "metadata": {},
     "output_type": "display_data"
    },
    {
     "name": "stdout",
     "output_type": "stream",
     "text": [
      "\n",
      " Early Stopping / epoch: 239 loss: 0.007821\n",
      "----------------------------------------------------------------------------------------------------------\n",
      "lr: 1e-05  patience: 20  num_layers: 2  batch_size: 128  hidden_size: 8  dropout: 0.5 criterion: MSELoss()\n"
     ]
    },
    {
     "data": {
      "application/vnd.jupyter.widget-view+json": {
       "model_id": "363922c45c7d492b9d9962307d10ff6c",
       "version_major": 2,
       "version_minor": 0
      },
      "text/plain": [
       "  0%|          | 0/10000 [00:00<?, ?it/s]"
      ]
     },
     "metadata": {},
     "output_type": "display_data"
    },
    {
     "name": "stdout",
     "output_type": "stream",
     "text": [
      "\n",
      " Early Stopping / epoch: 399 loss: 0.001255\n",
      "----------------------------------------------------------------------------------------------------------\n",
      "lr: 1e-05  patience: 20  num_layers: 2  batch_size: 128  hidden_size: 8  dropout: 0.5 criterion: <function criterion2 at 0x0000017347E337F0>\n"
     ]
    },
    {
     "data": {
      "application/vnd.jupyter.widget-view+json": {
       "model_id": "60728b47c96546e994a8f7817f3d507d",
       "version_major": 2,
       "version_minor": 0
      },
      "text/plain": [
       "  0%|          | 0/10000 [00:00<?, ?it/s]"
      ]
     },
     "metadata": {},
     "output_type": "display_data"
    },
    {
     "name": "stdout",
     "output_type": "stream",
     "text": [
      "\n",
      " Early Stopping / epoch: 1482 loss: 0.013128\n",
      "----------------------------------------------------------------------------------------------------------\n",
      "lr: 1e-05  patience: 20  num_layers: 2  batch_size: 128  hidden_size: 8  dropout: 0.5 criterion: <function criterion3 at 0x0000017347E33880>\n"
     ]
    },
    {
     "data": {
      "application/vnd.jupyter.widget-view+json": {
       "model_id": "450c52acff2d4b1495478ae382fd646a",
       "version_major": 2,
       "version_minor": 0
      },
      "text/plain": [
       "  0%|          | 0/10000 [00:00<?, ?it/s]"
      ]
     },
     "metadata": {},
     "output_type": "display_data"
    },
    {
     "name": "stdout",
     "output_type": "stream",
     "text": [
      "\n",
      " Early Stopping / epoch: 784 loss: 0.007070\n",
      "----------------------------------------------------------------------------------------------------------\n",
      "lr: 1e-05  patience: 20  num_layers: 2  batch_size: 128  hidden_size: 16  dropout: 0.25 criterion: MSELoss()\n"
     ]
    },
    {
     "data": {
      "application/vnd.jupyter.widget-view+json": {
       "model_id": "7b7a95a3783946aaa38c4b763edb0726",
       "version_major": 2,
       "version_minor": 0
      },
      "text/plain": [
       "  0%|          | 0/10000 [00:00<?, ?it/s]"
      ]
     },
     "metadata": {},
     "output_type": "display_data"
    },
    {
     "name": "stdout",
     "output_type": "stream",
     "text": [
      "\n",
      " Early Stopping / epoch: 119 loss: 0.004069\n",
      "----------------------------------------------------------------------------------------------------------\n",
      "lr: 1e-05  patience: 20  num_layers: 2  batch_size: 128  hidden_size: 16  dropout: 0.25 criterion: <function criterion2 at 0x0000017347E337F0>\n"
     ]
    },
    {
     "data": {
      "application/vnd.jupyter.widget-view+json": {
       "model_id": "b7be936ffae742bd8f60f8b8101230a1",
       "version_major": 2,
       "version_minor": 0
      },
      "text/plain": [
       "  0%|          | 0/10000 [00:00<?, ?it/s]"
      ]
     },
     "metadata": {},
     "output_type": "display_data"
    },
    {
     "name": "stdout",
     "output_type": "stream",
     "text": [
      "\n",
      " Early Stopping / epoch: 1141 loss: 0.012095\n",
      "----------------------------------------------------------------------------------------------------------\n",
      "lr: 1e-05  patience: 20  num_layers: 2  batch_size: 128  hidden_size: 16  dropout: 0.25 criterion: <function criterion3 at 0x0000017347E33880>\n"
     ]
    },
    {
     "data": {
      "application/vnd.jupyter.widget-view+json": {
       "model_id": "3351720d05574a81a9b04a38b4b1a012",
       "version_major": 2,
       "version_minor": 0
      },
      "text/plain": [
       "  0%|          | 0/10000 [00:00<?, ?it/s]"
      ]
     },
     "metadata": {},
     "output_type": "display_data"
    },
    {
     "name": "stdout",
     "output_type": "stream",
     "text": [
      "\n",
      " Early Stopping / epoch: 398 loss: 0.002413\n",
      "----------------------------------------------------------------------------------------------------------\n",
      "lr: 1e-05  patience: 20  num_layers: 2  batch_size: 128  hidden_size: 16  dropout: 0.5 criterion: MSELoss()\n"
     ]
    },
    {
     "data": {
      "application/vnd.jupyter.widget-view+json": {
       "model_id": "4fce937306774c9f89fcb958538191a1",
       "version_major": 2,
       "version_minor": 0
      },
      "text/plain": [
       "  0%|          | 0/10000 [00:00<?, ?it/s]"
      ]
     },
     "metadata": {},
     "output_type": "display_data"
    },
    {
     "name": "stdout",
     "output_type": "stream",
     "text": [
      "\n",
      " Early Stopping / epoch: 1051 loss: 0.001057\n",
      "----------------------------------------------------------------------------------------------------------\n",
      "lr: 1e-05  patience: 20  num_layers: 2  batch_size: 128  hidden_size: 16  dropout: 0.5 criterion: <function criterion2 at 0x0000017347E337F0>\n"
     ]
    },
    {
     "data": {
      "application/vnd.jupyter.widget-view+json": {
       "model_id": "8a45de1329f64037ab05b42fd5ee90c8",
       "version_major": 2,
       "version_minor": 0
      },
      "text/plain": [
       "  0%|          | 0/10000 [00:00<?, ?it/s]"
      ]
     },
     "metadata": {},
     "output_type": "display_data"
    },
    {
     "name": "stdout",
     "output_type": "stream",
     "text": [
      "\n",
      " Early Stopping / epoch: 1001 loss: 0.012260\n",
      "----------------------------------------------------------------------------------------------------------\n",
      "lr: 1e-05  patience: 20  num_layers: 2  batch_size: 128  hidden_size: 16  dropout: 0.5 criterion: <function criterion3 at 0x0000017347E33880>\n"
     ]
    },
    {
     "data": {
      "application/vnd.jupyter.widget-view+json": {
       "model_id": "c3750f67a3b440b58a67f488e7b3c20c",
       "version_major": 2,
       "version_minor": 0
      },
      "text/plain": [
       "  0%|          | 0/10000 [00:00<?, ?it/s]"
      ]
     },
     "metadata": {},
     "output_type": "display_data"
    },
    {
     "name": "stdout",
     "output_type": "stream",
     "text": [
      "\n",
      " Early Stopping / epoch: 756 loss: 0.002221\n",
      "----------------------------------------------------------------------------------------------------------\n",
      "lr: 1e-05  patience: 20  num_layers: 2  batch_size: 128  hidden_size: 32  dropout: 0.25 criterion: MSELoss()\n"
     ]
    },
    {
     "data": {
      "application/vnd.jupyter.widget-view+json": {
       "model_id": "0749d6c5631c4709b9135ff7a6c81869",
       "version_major": 2,
       "version_minor": 0
      },
      "text/plain": [
       "  0%|          | 0/10000 [00:00<?, ?it/s]"
      ]
     },
     "metadata": {},
     "output_type": "display_data"
    },
    {
     "name": "stdout",
     "output_type": "stream",
     "text": [
      "\n",
      " Early Stopping / epoch: 785 loss: 0.001025\n",
      "----------------------------------------------------------------------------------------------------------\n",
      "lr: 1e-05  patience: 20  num_layers: 2  batch_size: 128  hidden_size: 32  dropout: 0.25 criterion: <function criterion2 at 0x0000017347E337F0>\n"
     ]
    },
    {
     "data": {
      "application/vnd.jupyter.widget-view+json": {
       "model_id": "87fa51e3c8af46cea36371268464094c",
       "version_major": 2,
       "version_minor": 0
      },
      "text/plain": [
       "  0%|          | 0/10000 [00:00<?, ?it/s]"
      ]
     },
     "metadata": {},
     "output_type": "display_data"
    },
    {
     "name": "stdout",
     "output_type": "stream",
     "text": [
      "\n",
      " Early Stopping / epoch: 458 loss: 0.011477\n",
      "----------------------------------------------------------------------------------------------------------\n",
      "lr: 1e-05  patience: 20  num_layers: 2  batch_size: 128  hidden_size: 32  dropout: 0.25 criterion: <function criterion3 at 0x0000017347E33880>\n"
     ]
    },
    {
     "data": {
      "application/vnd.jupyter.widget-view+json": {
       "model_id": "d88f18c0282744aaaa80a82c29d718b1",
       "version_major": 2,
       "version_minor": 0
      },
      "text/plain": [
       "  0%|          | 0/10000 [00:00<?, ?it/s]"
      ]
     },
     "metadata": {},
     "output_type": "display_data"
    },
    {
     "name": "stdout",
     "output_type": "stream",
     "text": [
      "\n",
      " Early Stopping / epoch: 487 loss: 0.001860\n",
      "----------------------------------------------------------------------------------------------------------\n",
      "lr: 1e-05  patience: 20  num_layers: 2  batch_size: 128  hidden_size: 32  dropout: 0.5 criterion: MSELoss()\n"
     ]
    },
    {
     "data": {
      "application/vnd.jupyter.widget-view+json": {
       "model_id": "962175d5445545c4a82d510833c514aa",
       "version_major": 2,
       "version_minor": 0
      },
      "text/plain": [
       "  0%|          | 0/10000 [00:00<?, ?it/s]"
      ]
     },
     "metadata": {},
     "output_type": "display_data"
    },
    {
     "name": "stdout",
     "output_type": "stream",
     "text": [
      "\n",
      " Early Stopping / epoch: 507 loss: 0.000979\n",
      "----------------------------------------------------------------------------------------------------------\n",
      "lr: 1e-05  patience: 20  num_layers: 2  batch_size: 128  hidden_size: 32  dropout: 0.5 criterion: <function criterion2 at 0x0000017347E337F0>\n"
     ]
    },
    {
     "data": {
      "application/vnd.jupyter.widget-view+json": {
       "model_id": "d4f90d4e486d47ada89377d193d43b5b",
       "version_major": 2,
       "version_minor": 0
      },
      "text/plain": [
       "  0%|          | 0/10000 [00:00<?, ?it/s]"
      ]
     },
     "metadata": {},
     "output_type": "display_data"
    },
    {
     "name": "stdout",
     "output_type": "stream",
     "text": [
      "\n",
      " Early Stopping / epoch: 833 loss: 0.012169\n",
      "----------------------------------------------------------------------------------------------------------\n",
      "lr: 1e-05  patience: 20  num_layers: 2  batch_size: 128  hidden_size: 32  dropout: 0.5 criterion: <function criterion3 at 0x0000017347E33880>\n"
     ]
    },
    {
     "data": {
      "application/vnd.jupyter.widget-view+json": {
       "model_id": "06b33aac4ed34d0f8b46822af9099faa",
       "version_major": 2,
       "version_minor": 0
      },
      "text/plain": [
       "  0%|          | 0/10000 [00:00<?, ?it/s]"
      ]
     },
     "metadata": {},
     "output_type": "display_data"
    },
    {
     "name": "stdout",
     "output_type": "stream",
     "text": [
      "\n",
      " Early Stopping / epoch: 486 loss: 0.001910\n",
      "----------------------------------------------------------------------------------------------------------\n",
      "lr: 1e-05  patience: 20  num_layers: 4  batch_size: 32  hidden_size: 8  dropout: 0.25 criterion: MSELoss()\n"
     ]
    },
    {
     "data": {
      "application/vnd.jupyter.widget-view+json": {
       "model_id": "452822c238c54c4d9096fa72b2ed4740",
       "version_major": 2,
       "version_minor": 0
      },
      "text/plain": [
       "  0%|          | 0/10000 [00:00<?, ?it/s]"
      ]
     },
     "metadata": {},
     "output_type": "display_data"
    },
    {
     "name": "stdout",
     "output_type": "stream",
     "text": [
      "\n",
      " Early Stopping / epoch: 818 loss: 0.000799\n",
      "----------------------------------------------------------------------------------------------------------\n",
      "lr: 1e-05  patience: 20  num_layers: 4  batch_size: 32  hidden_size: 8  dropout: 0.25 criterion: <function criterion2 at 0x0000017347E337F0>\n"
     ]
    },
    {
     "data": {
      "application/vnd.jupyter.widget-view+json": {
       "model_id": "9c7c8e365dd94ebdb0213b1f33315601",
       "version_major": 2,
       "version_minor": 0
      },
      "text/plain": [
       "  0%|          | 0/10000 [00:00<?, ?it/s]"
      ]
     },
     "metadata": {},
     "output_type": "display_data"
    },
    {
     "name": "stdout",
     "output_type": "stream",
     "text": [
      "\n",
      " Early Stopping / epoch: 587 loss: 0.012883\n",
      "----------------------------------------------------------------------------------------------------------\n",
      "lr: 1e-05  patience: 20  num_layers: 4  batch_size: 32  hidden_size: 8  dropout: 0.25 criterion: <function criterion3 at 0x0000017347E33880>\n"
     ]
    },
    {
     "data": {
      "application/vnd.jupyter.widget-view+json": {
       "model_id": "f75dc618c97a4ab686272ad8c7ff996b",
       "version_major": 2,
       "version_minor": 0
      },
      "text/plain": [
       "  0%|          | 0/10000 [00:00<?, ?it/s]"
      ]
     },
     "metadata": {},
     "output_type": "display_data"
    },
    {
     "name": "stdout",
     "output_type": "stream",
     "text": [
      "\n",
      " Early Stopping / epoch: 409 loss: 0.003173\n",
      "----------------------------------------------------------------------------------------------------------\n",
      "lr: 1e-05  patience: 20  num_layers: 4  batch_size: 32  hidden_size: 8  dropout: 0.5 criterion: MSELoss()\n"
     ]
    },
    {
     "data": {
      "application/vnd.jupyter.widget-view+json": {
       "model_id": "d9179e37d41c41548fa60a398707bee3",
       "version_major": 2,
       "version_minor": 0
      },
      "text/plain": [
       "  0%|          | 0/10000 [00:00<?, ?it/s]"
      ]
     },
     "metadata": {},
     "output_type": "display_data"
    },
    {
     "name": "stdout",
     "output_type": "stream",
     "text": [
      "\n",
      " Early Stopping / epoch: 608 loss: 0.000779\n",
      "----------------------------------------------------------------------------------------------------------\n",
      "lr: 1e-05  patience: 20  num_layers: 4  batch_size: 32  hidden_size: 8  dropout: 0.5 criterion: <function criterion2 at 0x0000017347E337F0>\n"
     ]
    },
    {
     "data": {
      "application/vnd.jupyter.widget-view+json": {
       "model_id": "b96bd5b51f8b442b82e5523e8adfa8e5",
       "version_major": 2,
       "version_minor": 0
      },
      "text/plain": [
       "  0%|          | 0/10000 [00:00<?, ?it/s]"
      ]
     },
     "metadata": {},
     "output_type": "display_data"
    },
    {
     "name": "stdout",
     "output_type": "stream",
     "text": [
      "\n",
      " Early Stopping / epoch: 617 loss: 0.012748\n",
      "----------------------------------------------------------------------------------------------------------\n",
      "lr: 1e-05  patience: 20  num_layers: 4  batch_size: 32  hidden_size: 8  dropout: 0.5 criterion: <function criterion3 at 0x0000017347E33880>\n"
     ]
    },
    {
     "data": {
      "application/vnd.jupyter.widget-view+json": {
       "model_id": "d2eccaa42e7245a49bb2fcb0f2cd6d69",
       "version_major": 2,
       "version_minor": 0
      },
      "text/plain": [
       "  0%|          | 0/10000 [00:00<?, ?it/s]"
      ]
     },
     "metadata": {},
     "output_type": "display_data"
    },
    {
     "name": "stdout",
     "output_type": "stream",
     "text": [
      "\n",
      " Early Stopping / epoch: 425 loss: 0.003079\n",
      "----------------------------------------------------------------------------------------------------------\n",
      "lr: 1e-05  patience: 20  num_layers: 4  batch_size: 32  hidden_size: 16  dropout: 0.25 criterion: MSELoss()\n"
     ]
    },
    {
     "data": {
      "application/vnd.jupyter.widget-view+json": {
       "model_id": "23c0434f18654ec29bcb9fb722cd5d30",
       "version_major": 2,
       "version_minor": 0
      },
      "text/plain": [
       "  0%|          | 0/10000 [00:00<?, ?it/s]"
      ]
     },
     "metadata": {},
     "output_type": "display_data"
    },
    {
     "name": "stdout",
     "output_type": "stream",
     "text": [
      "\n",
      " Early Stopping / epoch: 487 loss: 0.000783\n",
      "----------------------------------------------------------------------------------------------------------\n",
      "lr: 1e-05  patience: 20  num_layers: 4  batch_size: 32  hidden_size: 16  dropout: 0.25 criterion: <function criterion2 at 0x0000017347E337F0>\n"
     ]
    },
    {
     "data": {
      "application/vnd.jupyter.widget-view+json": {
       "model_id": "3c5c1dc3d0984c6b8e586774846de3ce",
       "version_major": 2,
       "version_minor": 0
      },
      "text/plain": [
       "  0%|          | 0/10000 [00:00<?, ?it/s]"
      ]
     },
     "metadata": {},
     "output_type": "display_data"
    },
    {
     "name": "stdout",
     "output_type": "stream",
     "text": [
      "\n",
      " Early Stopping / epoch: 671 loss: 0.010447\n",
      "----------------------------------------------------------------------------------------------------------\n",
      "lr: 1e-05  patience: 20  num_layers: 4  batch_size: 32  hidden_size: 16  dropout: 0.25 criterion: <function criterion3 at 0x0000017347E33880>\n"
     ]
    },
    {
     "data": {
      "application/vnd.jupyter.widget-view+json": {
       "model_id": "248f864557df44d793da260df92fcc27",
       "version_major": 2,
       "version_minor": 0
      },
      "text/plain": [
       "  0%|          | 0/10000 [00:00<?, ?it/s]"
      ]
     },
     "metadata": {},
     "output_type": "display_data"
    },
    {
     "name": "stdout",
     "output_type": "stream",
     "text": [
      "\n",
      " Early Stopping / epoch: 650 loss: 0.002724\n",
      "----------------------------------------------------------------------------------------------------------\n",
      "lr: 1e-05  patience: 20  num_layers: 4  batch_size: 32  hidden_size: 16  dropout: 0.5 criterion: MSELoss()\n"
     ]
    },
    {
     "data": {
      "application/vnd.jupyter.widget-view+json": {
       "model_id": "feae2e506bec4da78af3a9da1e9f70ec",
       "version_major": 2,
       "version_minor": 0
      },
      "text/plain": [
       "  0%|          | 0/10000 [00:00<?, ?it/s]"
      ]
     },
     "metadata": {},
     "output_type": "display_data"
    },
    {
     "name": "stdout",
     "output_type": "stream",
     "text": [
      "\n",
      " Early Stopping / epoch: 525 loss: 0.000761\n",
      "----------------------------------------------------------------------------------------------------------\n",
      "lr: 1e-05  patience: 20  num_layers: 4  batch_size: 32  hidden_size: 16  dropout: 0.5 criterion: <function criterion2 at 0x0000017347E337F0>\n"
     ]
    },
    {
     "data": {
      "application/vnd.jupyter.widget-view+json": {
       "model_id": "a7696a4f41564f04928efb20e80938e5",
       "version_major": 2,
       "version_minor": 0
      },
      "text/plain": [
       "  0%|          | 0/10000 [00:00<?, ?it/s]"
      ]
     },
     "metadata": {},
     "output_type": "display_data"
    },
    {
     "name": "stdout",
     "output_type": "stream",
     "text": [
      "\n",
      " Early Stopping / epoch: 532 loss: 0.011408\n",
      "----------------------------------------------------------------------------------------------------------\n",
      "lr: 1e-05  patience: 20  num_layers: 4  batch_size: 32  hidden_size: 16  dropout: 0.5 criterion: <function criterion3 at 0x0000017347E33880>\n"
     ]
    },
    {
     "data": {
      "application/vnd.jupyter.widget-view+json": {
       "model_id": "ee410830d98f44658f34b9983a87d20c",
       "version_major": 2,
       "version_minor": 0
      },
      "text/plain": [
       "  0%|          | 0/10000 [00:00<?, ?it/s]"
      ]
     },
     "metadata": {},
     "output_type": "display_data"
    },
    {
     "name": "stdout",
     "output_type": "stream",
     "text": [
      "\n",
      " Early Stopping / epoch: 454 loss: 0.003067\n",
      "----------------------------------------------------------------------------------------------------------\n",
      "lr: 1e-05  patience: 20  num_layers: 4  batch_size: 32  hidden_size: 32  dropout: 0.25 criterion: MSELoss()\n"
     ]
    },
    {
     "data": {
      "application/vnd.jupyter.widget-view+json": {
       "model_id": "f1ff310b107a4acb9ebebc03449e8342",
       "version_major": 2,
       "version_minor": 0
      },
      "text/plain": [
       "  0%|          | 0/10000 [00:00<?, ?it/s]"
      ]
     },
     "metadata": {},
     "output_type": "display_data"
    },
    {
     "name": "stdout",
     "output_type": "stream",
     "text": [
      "\n",
      " Early Stopping / epoch: 379 loss: 0.000770\n",
      "----------------------------------------------------------------------------------------------------------\n",
      "lr: 1e-05  patience: 20  num_layers: 4  batch_size: 32  hidden_size: 32  dropout: 0.25 criterion: <function criterion2 at 0x0000017347E337F0>\n"
     ]
    },
    {
     "data": {
      "application/vnd.jupyter.widget-view+json": {
       "model_id": "28cba281a4d841e580e28a160430c762",
       "version_major": 2,
       "version_minor": 0
      },
      "text/plain": [
       "  0%|          | 0/10000 [00:00<?, ?it/s]"
      ]
     },
     "metadata": {},
     "output_type": "display_data"
    },
    {
     "name": "stdout",
     "output_type": "stream",
     "text": [
      "\n",
      " Early Stopping / epoch: 448 loss: 0.010124\n",
      "----------------------------------------------------------------------------------------------------------\n",
      "lr: 1e-05  patience: 20  num_layers: 4  batch_size: 32  hidden_size: 32  dropout: 0.25 criterion: <function criterion3 at 0x0000017347E33880>\n"
     ]
    },
    {
     "data": {
      "application/vnd.jupyter.widget-view+json": {
       "model_id": "115bdad5aa4143deac9cecf9299d8399",
       "version_major": 2,
       "version_minor": 0
      },
      "text/plain": [
       "  0%|          | 0/10000 [00:00<?, ?it/s]"
      ]
     },
     "metadata": {},
     "output_type": "display_data"
    },
    {
     "name": "stdout",
     "output_type": "stream",
     "text": [
      "\n",
      " Early Stopping / epoch: 453 loss: 0.002653\n",
      "----------------------------------------------------------------------------------------------------------\n",
      "lr: 1e-05  patience: 20  num_layers: 4  batch_size: 32  hidden_size: 32  dropout: 0.5 criterion: MSELoss()\n"
     ]
    },
    {
     "data": {
      "application/vnd.jupyter.widget-view+json": {
       "model_id": "93c64ec5164d4f83862a0f8203478481",
       "version_major": 2,
       "version_minor": 0
      },
      "text/plain": [
       "  0%|          | 0/10000 [00:00<?, ?it/s]"
      ]
     },
     "metadata": {},
     "output_type": "display_data"
    },
    {
     "name": "stdout",
     "output_type": "stream",
     "text": [
      "\n",
      " Early Stopping / epoch: 310 loss: 0.000813\n",
      "----------------------------------------------------------------------------------------------------------\n",
      "lr: 1e-05  patience: 20  num_layers: 4  batch_size: 32  hidden_size: 32  dropout: 0.5 criterion: <function criterion2 at 0x0000017347E337F0>\n"
     ]
    },
    {
     "data": {
      "application/vnd.jupyter.widget-view+json": {
       "model_id": "b28c84029e284401b86513f1edbe8ac6",
       "version_major": 2,
       "version_minor": 0
      },
      "text/plain": [
       "  0%|          | 0/10000 [00:00<?, ?it/s]"
      ]
     },
     "metadata": {},
     "output_type": "display_data"
    },
    {
     "name": "stdout",
     "output_type": "stream",
     "text": [
      "\n",
      " Early Stopping / epoch: 530 loss: 0.010250\n",
      "----------------------------------------------------------------------------------------------------------\n",
      "lr: 1e-05  patience: 20  num_layers: 4  batch_size: 32  hidden_size: 32  dropout: 0.5 criterion: <function criterion3 at 0x0000017347E33880>\n"
     ]
    },
    {
     "data": {
      "application/vnd.jupyter.widget-view+json": {
       "model_id": "90b6fa4825054cf781ad33fd08dd4a7c",
       "version_major": 2,
       "version_minor": 0
      },
      "text/plain": [
       "  0%|          | 0/10000 [00:00<?, ?it/s]"
      ]
     },
     "metadata": {},
     "output_type": "display_data"
    },
    {
     "name": "stdout",
     "output_type": "stream",
     "text": [
      "\n",
      " Early Stopping / epoch: 489 loss: 0.002764\n",
      "----------------------------------------------------------------------------------------------------------\n",
      "lr: 1e-05  patience: 20  num_layers: 4  batch_size: 64  hidden_size: 8  dropout: 0.25 criterion: MSELoss()\n"
     ]
    },
    {
     "data": {
      "application/vnd.jupyter.widget-view+json": {
       "model_id": "98de48b3cfc246ebb71196b3f109dc6d",
       "version_major": 2,
       "version_minor": 0
      },
      "text/plain": [
       "  0%|          | 0/10000 [00:00<?, ?it/s]"
      ]
     },
     "metadata": {},
     "output_type": "display_data"
    },
    {
     "name": "stdout",
     "output_type": "stream",
     "text": [
      "\n",
      " Early Stopping / epoch: 338 loss: 0.001106\n",
      "----------------------------------------------------------------------------------------------------------\n",
      "lr: 1e-05  patience: 20  num_layers: 4  batch_size: 64  hidden_size: 8  dropout: 0.25 criterion: <function criterion2 at 0x0000017347E337F0>\n"
     ]
    },
    {
     "data": {
      "application/vnd.jupyter.widget-view+json": {
       "model_id": "c5a770bfdaad4c15b89f8d2e61ae073b",
       "version_major": 2,
       "version_minor": 0
      },
      "text/plain": [
       "  0%|          | 0/10000 [00:00<?, ?it/s]"
      ]
     },
     "metadata": {},
     "output_type": "display_data"
    },
    {
     "name": "stdout",
     "output_type": "stream",
     "text": [
      "\n",
      " Early Stopping / epoch: 683 loss: 0.013301\n",
      "----------------------------------------------------------------------------------------------------------\n",
      "lr: 1e-05  patience: 20  num_layers: 4  batch_size: 64  hidden_size: 8  dropout: 0.25 criterion: <function criterion3 at 0x0000017347E33880>\n"
     ]
    },
    {
     "data": {
      "application/vnd.jupyter.widget-view+json": {
       "model_id": "2c03063e6de941b79d8a54478e814221",
       "version_major": 2,
       "version_minor": 0
      },
      "text/plain": [
       "  0%|          | 0/10000 [00:00<?, ?it/s]"
      ]
     },
     "metadata": {},
     "output_type": "display_data"
    },
    {
     "name": "stdout",
     "output_type": "stream",
     "text": [
      "\n",
      " Early Stopping / epoch: 837 loss: 0.003208\n",
      "----------------------------------------------------------------------------------------------------------\n",
      "lr: 1e-05  patience: 20  num_layers: 4  batch_size: 64  hidden_size: 8  dropout: 0.5 criterion: MSELoss()\n"
     ]
    },
    {
     "data": {
      "application/vnd.jupyter.widget-view+json": {
       "model_id": "1ff70f75e4cf4cd7839d6fb8ad7b9615",
       "version_major": 2,
       "version_minor": 0
      },
      "text/plain": [
       "  0%|          | 0/10000 [00:00<?, ?it/s]"
      ]
     },
     "metadata": {},
     "output_type": "display_data"
    },
    {
     "name": "stdout",
     "output_type": "stream",
     "text": [
      "\n",
      " Early Stopping / epoch: 828 loss: 0.000856\n",
      "----------------------------------------------------------------------------------------------------------\n",
      "lr: 1e-05  patience: 20  num_layers: 4  batch_size: 64  hidden_size: 8  dropout: 0.5 criterion: <function criterion2 at 0x0000017347E337F0>\n"
     ]
    },
    {
     "data": {
      "application/vnd.jupyter.widget-view+json": {
       "model_id": "c5583a69535a4a6288e3a880028a06cf",
       "version_major": 2,
       "version_minor": 0
      },
      "text/plain": [
       "  0%|          | 0/10000 [00:00<?, ?it/s]"
      ]
     },
     "metadata": {},
     "output_type": "display_data"
    },
    {
     "name": "stdout",
     "output_type": "stream",
     "text": [
      "\n",
      " Early Stopping / epoch: 1050 loss: 0.013177\n",
      "----------------------------------------------------------------------------------------------------------\n",
      "lr: 1e-05  patience: 20  num_layers: 4  batch_size: 64  hidden_size: 8  dropout: 0.5 criterion: <function criterion3 at 0x0000017347E33880>\n"
     ]
    },
    {
     "data": {
      "application/vnd.jupyter.widget-view+json": {
       "model_id": "226621c23bad483a8102b5fc3249a969",
       "version_major": 2,
       "version_minor": 0
      },
      "text/plain": [
       "  0%|          | 0/10000 [00:00<?, ?it/s]"
      ]
     },
     "metadata": {},
     "output_type": "display_data"
    },
    {
     "name": "stdout",
     "output_type": "stream",
     "text": [
      "\n",
      " Early Stopping / epoch: 964 loss: 0.002458\n",
      "----------------------------------------------------------------------------------------------------------\n",
      "lr: 1e-05  patience: 20  num_layers: 4  batch_size: 64  hidden_size: 16  dropout: 0.25 criterion: MSELoss()\n"
     ]
    },
    {
     "data": {
      "application/vnd.jupyter.widget-view+json": {
       "model_id": "b89ba15ca39644c99319469a2365856f",
       "version_major": 2,
       "version_minor": 0
      },
      "text/plain": [
       "  0%|          | 0/10000 [00:00<?, ?it/s]"
      ]
     },
     "metadata": {},
     "output_type": "display_data"
    },
    {
     "name": "stdout",
     "output_type": "stream",
     "text": [
      "\n",
      " Early Stopping / epoch: 472 loss: 0.000898\n",
      "----------------------------------------------------------------------------------------------------------\n",
      "lr: 1e-05  patience: 20  num_layers: 4  batch_size: 64  hidden_size: 16  dropout: 0.25 criterion: <function criterion2 at 0x0000017347E337F0>\n"
     ]
    },
    {
     "data": {
      "application/vnd.jupyter.widget-view+json": {
       "model_id": "7a6b991113554ac8b3910669cf4838e3",
       "version_major": 2,
       "version_minor": 0
      },
      "text/plain": [
       "  0%|          | 0/10000 [00:00<?, ?it/s]"
      ]
     },
     "metadata": {},
     "output_type": "display_data"
    },
    {
     "name": "stdout",
     "output_type": "stream",
     "text": [
      "\n",
      " Early Stopping / epoch: 701 loss: 0.011651\n",
      "----------------------------------------------------------------------------------------------------------\n",
      "lr: 1e-05  patience: 20  num_layers: 4  batch_size: 64  hidden_size: 16  dropout: 0.25 criterion: <function criterion3 at 0x0000017347E33880>\n"
     ]
    },
    {
     "data": {
      "application/vnd.jupyter.widget-view+json": {
       "model_id": "d6935681c7434f79bd1f0092fa6287ca",
       "version_major": 2,
       "version_minor": 0
      },
      "text/plain": [
       "  0%|          | 0/10000 [00:00<?, ?it/s]"
      ]
     },
     "metadata": {},
     "output_type": "display_data"
    },
    {
     "name": "stdout",
     "output_type": "stream",
     "text": [
      "\n",
      " Early Stopping / epoch: 668 loss: 0.002352\n",
      "----------------------------------------------------------------------------------------------------------\n",
      "lr: 1e-05  patience: 20  num_layers: 4  batch_size: 64  hidden_size: 16  dropout: 0.5 criterion: MSELoss()\n"
     ]
    },
    {
     "data": {
      "application/vnd.jupyter.widget-view+json": {
       "model_id": "6da1ed04eb614237b2d3612382f1bad5",
       "version_major": 2,
       "version_minor": 0
      },
      "text/plain": [
       "  0%|          | 0/10000 [00:00<?, ?it/s]"
      ]
     },
     "metadata": {},
     "output_type": "display_data"
    },
    {
     "name": "stdout",
     "output_type": "stream",
     "text": [
      "\n",
      " Early Stopping / epoch: 653 loss: 0.000804\n",
      "----------------------------------------------------------------------------------------------------------\n",
      "lr: 1e-05  patience: 20  num_layers: 4  batch_size: 64  hidden_size: 16  dropout: 0.5 criterion: <function criterion2 at 0x0000017347E337F0>\n"
     ]
    },
    {
     "data": {
      "application/vnd.jupyter.widget-view+json": {
       "model_id": "2b80d4e5799046a3968816e3a542f86f",
       "version_major": 2,
       "version_minor": 0
      },
      "text/plain": [
       "  0%|          | 0/10000 [00:00<?, ?it/s]"
      ]
     },
     "metadata": {},
     "output_type": "display_data"
    },
    {
     "name": "stdout",
     "output_type": "stream",
     "text": [
      "\n",
      " Early Stopping / epoch: 845 loss: 0.012668\n",
      "----------------------------------------------------------------------------------------------------------\n",
      "lr: 1e-05  patience: 20  num_layers: 4  batch_size: 64  hidden_size: 16  dropout: 0.5 criterion: <function criterion3 at 0x0000017347E33880>\n"
     ]
    },
    {
     "data": {
      "application/vnd.jupyter.widget-view+json": {
       "model_id": "662b422511fa45db9c66a7fecde5521d",
       "version_major": 2,
       "version_minor": 0
      },
      "text/plain": [
       "  0%|          | 0/10000 [00:00<?, ?it/s]"
      ]
     },
     "metadata": {},
     "output_type": "display_data"
    },
    {
     "name": "stdout",
     "output_type": "stream",
     "text": [
      "\n",
      " Early Stopping / epoch: 658 loss: 0.002292\n",
      "----------------------------------------------------------------------------------------------------------\n",
      "lr: 1e-05  patience: 20  num_layers: 4  batch_size: 64  hidden_size: 32  dropout: 0.25 criterion: MSELoss()\n"
     ]
    },
    {
     "data": {
      "application/vnd.jupyter.widget-view+json": {
       "model_id": "f069546ab1334f849d50da851b681f1f",
       "version_major": 2,
       "version_minor": 0
      },
      "text/plain": [
       "  0%|          | 0/10000 [00:00<?, ?it/s]"
      ]
     },
     "metadata": {},
     "output_type": "display_data"
    },
    {
     "name": "stdout",
     "output_type": "stream",
     "text": [
      "\n",
      " Early Stopping / epoch: 465 loss: 0.000693\n",
      "----------------------------------------------------------------------------------------------------------\n",
      "lr: 1e-05  patience: 20  num_layers: 4  batch_size: 64  hidden_size: 32  dropout: 0.25 criterion: <function criterion2 at 0x0000017347E337F0>\n"
     ]
    },
    {
     "data": {
      "application/vnd.jupyter.widget-view+json": {
       "model_id": "495a4af4825944ada680b3b7eafda5d0",
       "version_major": 2,
       "version_minor": 0
      },
      "text/plain": [
       "  0%|          | 0/10000 [00:00<?, ?it/s]"
      ]
     },
     "metadata": {},
     "output_type": "display_data"
    },
    {
     "name": "stdout",
     "output_type": "stream",
     "text": [
      "\n",
      " Early Stopping / epoch: 567 loss: 0.010555\n",
      "----------------------------------------------------------------------------------------------------------\n",
      "lr: 1e-05  patience: 20  num_layers: 4  batch_size: 64  hidden_size: 32  dropout: 0.25 criterion: <function criterion3 at 0x0000017347E33880>\n"
     ]
    },
    {
     "data": {
      "application/vnd.jupyter.widget-view+json": {
       "model_id": "a67bfa0011e04eebbd94e8ee5ded0052",
       "version_major": 2,
       "version_minor": 0
      },
      "text/plain": [
       "  0%|          | 0/10000 [00:00<?, ?it/s]"
      ]
     },
     "metadata": {},
     "output_type": "display_data"
    },
    {
     "name": "stdout",
     "output_type": "stream",
     "text": [
      "\n",
      " Early Stopping / epoch: 546 loss: 0.002162\n",
      "----------------------------------------------------------------------------------------------------------\n",
      "lr: 1e-05  patience: 20  num_layers: 4  batch_size: 64  hidden_size: 32  dropout: 0.5 criterion: MSELoss()\n"
     ]
    },
    {
     "data": {
      "application/vnd.jupyter.widget-view+json": {
       "model_id": "4e3a6c08ebe64b8f9ca19c3c349cc876",
       "version_major": 2,
       "version_minor": 0
      },
      "text/plain": [
       "  0%|          | 0/10000 [00:00<?, ?it/s]"
      ]
     },
     "metadata": {},
     "output_type": "display_data"
    },
    {
     "name": "stdout",
     "output_type": "stream",
     "text": [
      "\n",
      " Early Stopping / epoch: 506 loss: 0.000716\n",
      "----------------------------------------------------------------------------------------------------------\n",
      "lr: 1e-05  patience: 20  num_layers: 4  batch_size: 64  hidden_size: 32  dropout: 0.5 criterion: <function criterion2 at 0x0000017347E337F0>\n"
     ]
    },
    {
     "data": {
      "application/vnd.jupyter.widget-view+json": {
       "model_id": "f3f832a9c7d240f79278a81eef690147",
       "version_major": 2,
       "version_minor": 0
      },
      "text/plain": [
       "  0%|          | 0/10000 [00:00<?, ?it/s]"
      ]
     },
     "metadata": {},
     "output_type": "display_data"
    },
    {
     "name": "stdout",
     "output_type": "stream",
     "text": [
      "\n",
      " Early Stopping / epoch: 601 loss: 0.011138\n",
      "----------------------------------------------------------------------------------------------------------\n",
      "lr: 1e-05  patience: 20  num_layers: 4  batch_size: 64  hidden_size: 32  dropout: 0.5 criterion: <function criterion3 at 0x0000017347E33880>\n"
     ]
    },
    {
     "data": {
      "application/vnd.jupyter.widget-view+json": {
       "model_id": "f788efa5a94d4032b99b0ecfaac77b91",
       "version_major": 2,
       "version_minor": 0
      },
      "text/plain": [
       "  0%|          | 0/10000 [00:00<?, ?it/s]"
      ]
     },
     "metadata": {},
     "output_type": "display_data"
    },
    {
     "name": "stdout",
     "output_type": "stream",
     "text": [
      "\n",
      " Early Stopping / epoch: 518 loss: 0.002320\n",
      "----------------------------------------------------------------------------------------------------------\n",
      "lr: 1e-05  patience: 20  num_layers: 4  batch_size: 128  hidden_size: 8  dropout: 0.25 criterion: MSELoss()\n"
     ]
    },
    {
     "data": {
      "application/vnd.jupyter.widget-view+json": {
       "model_id": "dc866f6af65f46e8baf134136326763d",
       "version_major": 2,
       "version_minor": 0
      },
      "text/plain": [
       "  0%|          | 0/10000 [00:00<?, ?it/s]"
      ]
     },
     "metadata": {},
     "output_type": "display_data"
    },
    {
     "name": "stdout",
     "output_type": "stream",
     "text": [
      "\n",
      " Early Stopping / epoch: 399 loss: 0.009402\n",
      "----------------------------------------------------------------------------------------------------------\n",
      "lr: 1e-05  patience: 20  num_layers: 4  batch_size: 128  hidden_size: 8  dropout: 0.25 criterion: <function criterion2 at 0x0000017347E337F0>\n"
     ]
    },
    {
     "data": {
      "application/vnd.jupyter.widget-view+json": {
       "model_id": "d1ff58b59c0944549c55d93b9017573d",
       "version_major": 2,
       "version_minor": 0
      },
      "text/plain": [
       "  0%|          | 0/10000 [00:00<?, ?it/s]"
      ]
     },
     "metadata": {},
     "output_type": "display_data"
    },
    {
     "name": "stdout",
     "output_type": "stream",
     "text": [
      "\n",
      " Early Stopping / epoch: 876 loss: 0.011934\n",
      "----------------------------------------------------------------------------------------------------------\n",
      "lr: 1e-05  patience: 20  num_layers: 4  batch_size: 128  hidden_size: 8  dropout: 0.25 criterion: <function criterion3 at 0x0000017347E33880>\n"
     ]
    },
    {
     "data": {
      "application/vnd.jupyter.widget-view+json": {
       "model_id": "3f1065b45d114e828d50f170c92d38e1",
       "version_major": 2,
       "version_minor": 0
      },
      "text/plain": [
       "  0%|          | 0/10000 [00:00<?, ?it/s]"
      ]
     },
     "metadata": {},
     "output_type": "display_data"
    },
    {
     "name": "stdout",
     "output_type": "stream",
     "text": [
      "\n",
      " Early Stopping / epoch: 993 loss: 0.002125\n",
      "----------------------------------------------------------------------------------------------------------\n",
      "lr: 1e-05  patience: 20  num_layers: 4  batch_size: 128  hidden_size: 8  dropout: 0.5 criterion: MSELoss()\n"
     ]
    },
    {
     "data": {
      "application/vnd.jupyter.widget-view+json": {
       "model_id": "db24dc6deaf54d83aca73f69ab1af41c",
       "version_major": 2,
       "version_minor": 0
      },
      "text/plain": [
       "  0%|          | 0/10000 [00:00<?, ?it/s]"
      ]
     },
     "metadata": {},
     "output_type": "display_data"
    },
    {
     "name": "stdout",
     "output_type": "stream",
     "text": [
      "\n",
      " Early Stopping / epoch: 1657 loss: 0.001250\n",
      "----------------------------------------------------------------------------------------------------------\n",
      "lr: 1e-05  patience: 20  num_layers: 4  batch_size: 128  hidden_size: 8  dropout: 0.5 criterion: <function criterion2 at 0x0000017347E337F0>\n"
     ]
    },
    {
     "data": {
      "application/vnd.jupyter.widget-view+json": {
       "model_id": "b3907f7e116f4aeead9f8eee27de17f3",
       "version_major": 2,
       "version_minor": 0
      },
      "text/plain": [
       "  0%|          | 0/10000 [00:00<?, ?it/s]"
      ]
     },
     "metadata": {},
     "output_type": "display_data"
    },
    {
     "name": "stdout",
     "output_type": "stream",
     "text": [
      "\n",
      " Early Stopping / epoch: 1148 loss: 0.021555\n",
      "----------------------------------------------------------------------------------------------------------\n",
      "lr: 1e-05  patience: 20  num_layers: 4  batch_size: 128  hidden_size: 8  dropout: 0.5 criterion: <function criterion3 at 0x0000017347E33880>\n"
     ]
    },
    {
     "data": {
      "application/vnd.jupyter.widget-view+json": {
       "model_id": "0b30113f093c4af2966e0761c6a000cc",
       "version_major": 2,
       "version_minor": 0
      },
      "text/plain": [
       "  0%|          | 0/10000 [00:00<?, ?it/s]"
      ]
     },
     "metadata": {},
     "output_type": "display_data"
    },
    {
     "name": "stdout",
     "output_type": "stream",
     "text": [
      "\n",
      " Early Stopping / epoch: 978 loss: 0.003629\n",
      "----------------------------------------------------------------------------------------------------------\n",
      "lr: 1e-05  patience: 20  num_layers: 4  batch_size: 128  hidden_size: 16  dropout: 0.25 criterion: MSELoss()\n"
     ]
    },
    {
     "data": {
      "application/vnd.jupyter.widget-view+json": {
       "model_id": "eee65554bcc54255825000b21fc6b789",
       "version_major": 2,
       "version_minor": 0
      },
      "text/plain": [
       "  0%|          | 0/10000 [00:00<?, ?it/s]"
      ]
     },
     "metadata": {},
     "output_type": "display_data"
    },
    {
     "name": "stdout",
     "output_type": "stream",
     "text": [
      "\n",
      " Early Stopping / epoch: 863 loss: 0.000973\n",
      "----------------------------------------------------------------------------------------------------------\n",
      "lr: 1e-05  patience: 20  num_layers: 4  batch_size: 128  hidden_size: 16  dropout: 0.25 criterion: <function criterion2 at 0x0000017347E337F0>\n"
     ]
    },
    {
     "data": {
      "application/vnd.jupyter.widget-view+json": {
       "model_id": "7b3e64bd77394a8aa5294098d1d684b2",
       "version_major": 2,
       "version_minor": 0
      },
      "text/plain": [
       "  0%|          | 0/10000 [00:00<?, ?it/s]"
      ]
     },
     "metadata": {},
     "output_type": "display_data"
    },
    {
     "name": "stdout",
     "output_type": "stream",
     "text": [
      "\n",
      " Early Stopping / epoch: 1275 loss: 0.012375\n",
      "----------------------------------------------------------------------------------------------------------\n",
      "lr: 1e-05  patience: 20  num_layers: 4  batch_size: 128  hidden_size: 16  dropout: 0.25 criterion: <function criterion3 at 0x0000017347E33880>\n"
     ]
    },
    {
     "data": {
      "application/vnd.jupyter.widget-view+json": {
       "model_id": "4ab7bdd39fe64c9f84925f738b6a9b8c",
       "version_major": 2,
       "version_minor": 0
      },
      "text/plain": [
       "  0%|          | 0/10000 [00:00<?, ?it/s]"
      ]
     },
     "metadata": {},
     "output_type": "display_data"
    },
    {
     "name": "stdout",
     "output_type": "stream",
     "text": [
      "\n",
      " Early Stopping / epoch: 917 loss: 0.001922\n",
      "----------------------------------------------------------------------------------------------------------\n",
      "lr: 1e-05  patience: 20  num_layers: 4  batch_size: 128  hidden_size: 16  dropout: 0.5 criterion: MSELoss()\n"
     ]
    },
    {
     "data": {
      "application/vnd.jupyter.widget-view+json": {
       "model_id": "4cbc9230ac0447868fe2935a82a35200",
       "version_major": 2,
       "version_minor": 0
      },
      "text/plain": [
       "  0%|          | 0/10000 [00:00<?, ?it/s]"
      ]
     },
     "metadata": {},
     "output_type": "display_data"
    },
    {
     "name": "stdout",
     "output_type": "stream",
     "text": [
      "\n",
      " Early Stopping / epoch: 804 loss: 0.001701\n",
      "----------------------------------------------------------------------------------------------------------\n",
      "lr: 1e-05  patience: 20  num_layers: 4  batch_size: 128  hidden_size: 16  dropout: 0.5 criterion: <function criterion2 at 0x0000017347E337F0>\n"
     ]
    },
    {
     "data": {
      "application/vnd.jupyter.widget-view+json": {
       "model_id": "4c5ece822b3f4b6a9fea8ed6ce086749",
       "version_major": 2,
       "version_minor": 0
      },
      "text/plain": [
       "  0%|          | 0/10000 [00:00<?, ?it/s]"
      ]
     },
     "metadata": {},
     "output_type": "display_data"
    },
    {
     "name": "stdout",
     "output_type": "stream",
     "text": [
      "\n",
      " Early Stopping / epoch: 949 loss: 0.012137\n",
      "----------------------------------------------------------------------------------------------------------\n",
      "lr: 1e-05  patience: 20  num_layers: 4  batch_size: 128  hidden_size: 16  dropout: 0.5 criterion: <function criterion3 at 0x0000017347E33880>\n"
     ]
    },
    {
     "data": {
      "application/vnd.jupyter.widget-view+json": {
       "model_id": "681ca490c0114769b6936bb9937836d5",
       "version_major": 2,
       "version_minor": 0
      },
      "text/plain": [
       "  0%|          | 0/10000 [00:00<?, ?it/s]"
      ]
     },
     "metadata": {},
     "output_type": "display_data"
    },
    {
     "name": "stdout",
     "output_type": "stream",
     "text": [
      "\n",
      " Early Stopping / epoch: 781 loss: 0.002850\n",
      "----------------------------------------------------------------------------------------------------------\n",
      "lr: 1e-05  patience: 20  num_layers: 4  batch_size: 128  hidden_size: 32  dropout: 0.25 criterion: MSELoss()\n"
     ]
    },
    {
     "data": {
      "application/vnd.jupyter.widget-view+json": {
       "model_id": "9e0b692bce634aafababff0bd399af0f",
       "version_major": 2,
       "version_minor": 0
      },
      "text/plain": [
       "  0%|          | 0/10000 [00:00<?, ?it/s]"
      ]
     },
     "metadata": {},
     "output_type": "display_data"
    },
    {
     "name": "stdout",
     "output_type": "stream",
     "text": [
      "\n",
      " Early Stopping / epoch: 504 loss: 0.000861\n",
      "----------------------------------------------------------------------------------------------------------\n",
      "lr: 1e-05  patience: 20  num_layers: 4  batch_size: 128  hidden_size: 32  dropout: 0.25 criterion: <function criterion2 at 0x0000017347E337F0>\n"
     ]
    },
    {
     "data": {
      "application/vnd.jupyter.widget-view+json": {
       "model_id": "265206421f1f4bcaa5b71988e03d939a",
       "version_major": 2,
       "version_minor": 0
      },
      "text/plain": [
       "  0%|          | 0/10000 [00:00<?, ?it/s]"
      ]
     },
     "metadata": {},
     "output_type": "display_data"
    },
    {
     "name": "stdout",
     "output_type": "stream",
     "text": [
      "\n",
      " Early Stopping / epoch: 572 loss: 0.011325\n",
      "----------------------------------------------------------------------------------------------------------\n",
      "lr: 1e-05  patience: 20  num_layers: 4  batch_size: 128  hidden_size: 32  dropout: 0.25 criterion: <function criterion3 at 0x0000017347E33880>\n"
     ]
    },
    {
     "data": {
      "application/vnd.jupyter.widget-view+json": {
       "model_id": "b5409e1e44a248d39b68e27c4be1a51b",
       "version_major": 2,
       "version_minor": 0
      },
      "text/plain": [
       "  0%|          | 0/10000 [00:00<?, ?it/s]"
      ]
     },
     "metadata": {},
     "output_type": "display_data"
    },
    {
     "name": "stdout",
     "output_type": "stream",
     "text": [
      "\n",
      " Early Stopping / epoch: 577 loss: 0.001965\n",
      "----------------------------------------------------------------------------------------------------------\n",
      "lr: 1e-05  patience: 20  num_layers: 4  batch_size: 128  hidden_size: 32  dropout: 0.5 criterion: MSELoss()\n"
     ]
    },
    {
     "data": {
      "application/vnd.jupyter.widget-view+json": {
       "model_id": "93e7531eca164e579641f27d358e4a3d",
       "version_major": 2,
       "version_minor": 0
      },
      "text/plain": [
       "  0%|          | 0/10000 [00:00<?, ?it/s]"
      ]
     },
     "metadata": {},
     "output_type": "display_data"
    },
    {
     "name": "stdout",
     "output_type": "stream",
     "text": [
      "\n",
      " Early Stopping / epoch: 774 loss: 0.000812\n",
      "----------------------------------------------------------------------------------------------------------\n",
      "lr: 1e-05  patience: 20  num_layers: 4  batch_size: 128  hidden_size: 32  dropout: 0.5 criterion: <function criterion2 at 0x0000017347E337F0>\n"
     ]
    },
    {
     "data": {
      "application/vnd.jupyter.widget-view+json": {
       "model_id": "3e786f5a812e4aaaad3d5a26f82523b2",
       "version_major": 2,
       "version_minor": 0
      },
      "text/plain": [
       "  0%|          | 0/10000 [00:00<?, ?it/s]"
      ]
     },
     "metadata": {},
     "output_type": "display_data"
    },
    {
     "name": "stdout",
     "output_type": "stream",
     "text": [
      "\n",
      " Early Stopping / epoch: 785 loss: 0.011449\n",
      "----------------------------------------------------------------------------------------------------------\n",
      "lr: 1e-05  patience: 20  num_layers: 4  batch_size: 128  hidden_size: 32  dropout: 0.5 criterion: <function criterion3 at 0x0000017347E33880>\n"
     ]
    },
    {
     "data": {
      "application/vnd.jupyter.widget-view+json": {
       "model_id": "8ad86cddf8ae4e6483c7c6a707772ce0",
       "version_major": 2,
       "version_minor": 0
      },
      "text/plain": [
       "  0%|          | 0/10000 [00:00<?, ?it/s]"
      ]
     },
     "metadata": {},
     "output_type": "display_data"
    },
    {
     "name": "stdout",
     "output_type": "stream",
     "text": [
      "\n",
      " Early Stopping / epoch: 741 loss: 0.001955\n",
      "----------------------------------------------------------------------------------------------------------\n",
      "lr: 1e-05  patience: 50  num_layers: 2  batch_size: 32  hidden_size: 8  dropout: 0.25 criterion: MSELoss()\n"
     ]
    },
    {
     "data": {
      "application/vnd.jupyter.widget-view+json": {
       "model_id": "d339af19cde940ac9a5fd16fbd62afb5",
       "version_major": 2,
       "version_minor": 0
      },
      "text/plain": [
       "  0%|          | 0/10000 [00:00<?, ?it/s]"
      ]
     },
     "metadata": {},
     "output_type": "display_data"
    },
    {
     "name": "stdout",
     "output_type": "stream",
     "text": [
      "\n",
      " Early Stopping / epoch: 902 loss: 0.000721\n",
      "----------------------------------------------------------------------------------------------------------\n",
      "lr: 1e-05  patience: 50  num_layers: 2  batch_size: 32  hidden_size: 8  dropout: 0.25 criterion: <function criterion2 at 0x0000017347E337F0>\n"
     ]
    },
    {
     "data": {
      "application/vnd.jupyter.widget-view+json": {
       "model_id": "d04b146aa46b489cb6e41d538602085e",
       "version_major": 2,
       "version_minor": 0
      },
      "text/plain": [
       "  0%|          | 0/10000 [00:00<?, ?it/s]"
      ]
     },
     "metadata": {},
     "output_type": "display_data"
    },
    {
     "name": "stdout",
     "output_type": "stream",
     "text": [
      "\n",
      " Early Stopping / epoch: 1025 loss: 0.011026\n",
      "----------------------------------------------------------------------------------------------------------\n",
      "lr: 1e-05  patience: 50  num_layers: 2  batch_size: 32  hidden_size: 8  dropout: 0.25 criterion: <function criterion3 at 0x0000017347E33880>\n"
     ]
    },
    {
     "data": {
      "application/vnd.jupyter.widget-view+json": {
       "model_id": "aaaf0b10d73f40b3b3e085e4db91f6a7",
       "version_major": 2,
       "version_minor": 0
      },
      "text/plain": [
       "  0%|          | 0/10000 [00:00<?, ?it/s]"
      ]
     },
     "metadata": {},
     "output_type": "display_data"
    },
    {
     "name": "stdout",
     "output_type": "stream",
     "text": [
      "\n",
      " Early Stopping / epoch: 1427 loss: 0.002756\n",
      "----------------------------------------------------------------------------------------------------------\n",
      "lr: 1e-05  patience: 50  num_layers: 2  batch_size: 32  hidden_size: 8  dropout: 0.5 criterion: MSELoss()\n"
     ]
    },
    {
     "data": {
      "application/vnd.jupyter.widget-view+json": {
       "model_id": "9917c16d687943529db14afdc3aaec0f",
       "version_major": 2,
       "version_minor": 0
      },
      "text/plain": [
       "  0%|          | 0/10000 [00:00<?, ?it/s]"
      ]
     },
     "metadata": {},
     "output_type": "display_data"
    },
    {
     "name": "stdout",
     "output_type": "stream",
     "text": [
      "\n",
      " Early Stopping / epoch: 1012 loss: 0.000712\n",
      "----------------------------------------------------------------------------------------------------------\n",
      "lr: 1e-05  patience: 50  num_layers: 2  batch_size: 32  hidden_size: 8  dropout: 0.5 criterion: <function criterion2 at 0x0000017347E337F0>\n"
     ]
    },
    {
     "data": {
      "application/vnd.jupyter.widget-view+json": {
       "model_id": "7a4dd086605d457b8fa792c2e3e384b1",
       "version_major": 2,
       "version_minor": 0
      },
      "text/plain": [
       "  0%|          | 0/10000 [00:00<?, ?it/s]"
      ]
     },
     "metadata": {},
     "output_type": "display_data"
    },
    {
     "name": "stdout",
     "output_type": "stream",
     "text": [
      "\n",
      " Early Stopping / epoch: 1389 loss: 0.011302\n",
      "----------------------------------------------------------------------------------------------------------\n",
      "lr: 1e-05  patience: 50  num_layers: 2  batch_size: 32  hidden_size: 8  dropout: 0.5 criterion: <function criterion3 at 0x0000017347E33880>\n"
     ]
    },
    {
     "data": {
      "application/vnd.jupyter.widget-view+json": {
       "model_id": "b32715da7c4a40688f03586405e4b548",
       "version_major": 2,
       "version_minor": 0
      },
      "text/plain": [
       "  0%|          | 0/10000 [00:00<?, ?it/s]"
      ]
     },
     "metadata": {},
     "output_type": "display_data"
    },
    {
     "name": "stdout",
     "output_type": "stream",
     "text": [
      "\n",
      " Early Stopping / epoch: 995 loss: 0.002909\n",
      "----------------------------------------------------------------------------------------------------------\n",
      "lr: 1e-05  patience: 50  num_layers: 2  batch_size: 32  hidden_size: 16  dropout: 0.25 criterion: MSELoss()\n"
     ]
    },
    {
     "data": {
      "application/vnd.jupyter.widget-view+json": {
       "model_id": "0d32518cc2dd4f3aa58fd60378f899eb",
       "version_major": 2,
       "version_minor": 0
      },
      "text/plain": [
       "  0%|          | 0/10000 [00:00<?, ?it/s]"
      ]
     },
     "metadata": {},
     "output_type": "display_data"
    },
    {
     "name": "stdout",
     "output_type": "stream",
     "text": [
      "\n",
      " Early Stopping / epoch: 1096 loss: 0.000714\n",
      "----------------------------------------------------------------------------------------------------------\n",
      "lr: 1e-05  patience: 50  num_layers: 2  batch_size: 32  hidden_size: 16  dropout: 0.25 criterion: <function criterion2 at 0x0000017347E337F0>\n"
     ]
    },
    {
     "data": {
      "application/vnd.jupyter.widget-view+json": {
       "model_id": "5d1ba91e1efa4dc29cf458886088adad",
       "version_major": 2,
       "version_minor": 0
      },
      "text/plain": [
       "  0%|          | 0/10000 [00:00<?, ?it/s]"
      ]
     },
     "metadata": {},
     "output_type": "display_data"
    },
    {
     "name": "stdout",
     "output_type": "stream",
     "text": [
      "\n",
      " Early Stopping / epoch: 1214 loss: 0.009957\n",
      "----------------------------------------------------------------------------------------------------------\n",
      "lr: 1e-05  patience: 50  num_layers: 2  batch_size: 32  hidden_size: 16  dropout: 0.25 criterion: <function criterion3 at 0x0000017347E33880>\n"
     ]
    },
    {
     "data": {
      "application/vnd.jupyter.widget-view+json": {
       "model_id": "b9d7616ab4514100906dba8fa170859a",
       "version_major": 2,
       "version_minor": 0
      },
      "text/plain": [
       "  0%|          | 0/10000 [00:00<?, ?it/s]"
      ]
     },
     "metadata": {},
     "output_type": "display_data"
    },
    {
     "name": "stdout",
     "output_type": "stream",
     "text": [
      "\n",
      " Early Stopping / epoch: 847 loss: 0.002654\n",
      "----------------------------------------------------------------------------------------------------------\n",
      "lr: 1e-05  patience: 50  num_layers: 2  batch_size: 32  hidden_size: 16  dropout: 0.5 criterion: MSELoss()\n"
     ]
    },
    {
     "data": {
      "application/vnd.jupyter.widget-view+json": {
       "model_id": "9a715abc70734efdb0707922afca62c6",
       "version_major": 2,
       "version_minor": 0
      },
      "text/plain": [
       "  0%|          | 0/10000 [00:00<?, ?it/s]"
      ]
     },
     "metadata": {},
     "output_type": "display_data"
    },
    {
     "name": "stdout",
     "output_type": "stream",
     "text": [
      "\n",
      " Early Stopping / epoch: 681 loss: 0.000729\n",
      "----------------------------------------------------------------------------------------------------------\n",
      "lr: 1e-05  patience: 50  num_layers: 2  batch_size: 32  hidden_size: 16  dropout: 0.5 criterion: <function criterion2 at 0x0000017347E337F0>\n"
     ]
    },
    {
     "data": {
      "application/vnd.jupyter.widget-view+json": {
       "model_id": "3c8cb2292b7d476fa05645369244e4bd",
       "version_major": 2,
       "version_minor": 0
      },
      "text/plain": [
       "  0%|          | 0/10000 [00:00<?, ?it/s]"
      ]
     },
     "metadata": {},
     "output_type": "display_data"
    },
    {
     "name": "stdout",
     "output_type": "stream",
     "text": [
      "\n",
      " Early Stopping / epoch: 920 loss: 0.010047\n",
      "----------------------------------------------------------------------------------------------------------\n",
      "lr: 1e-05  patience: 50  num_layers: 2  batch_size: 32  hidden_size: 16  dropout: 0.5 criterion: <function criterion3 at 0x0000017347E33880>\n"
     ]
    },
    {
     "data": {
      "application/vnd.jupyter.widget-view+json": {
       "model_id": "8a5eec93f3ba4a15b455edc39d9f587a",
       "version_major": 2,
       "version_minor": 0
      },
      "text/plain": [
       "  0%|          | 0/10000 [00:00<?, ?it/s]"
      ]
     },
     "metadata": {},
     "output_type": "display_data"
    },
    {
     "name": "stdout",
     "output_type": "stream",
     "text": [
      "\n",
      " Early Stopping / epoch: 836 loss: 0.002691\n",
      "----------------------------------------------------------------------------------------------------------\n",
      "lr: 1e-05  patience: 50  num_layers: 2  batch_size: 32  hidden_size: 32  dropout: 0.25 criterion: MSELoss()\n"
     ]
    },
    {
     "data": {
      "application/vnd.jupyter.widget-view+json": {
       "model_id": "086197dfe25e4f3aa0b89da97e87ba04",
       "version_major": 2,
       "version_minor": 0
      },
      "text/plain": [
       "  0%|          | 0/10000 [00:00<?, ?it/s]"
      ]
     },
     "metadata": {},
     "output_type": "display_data"
    },
    {
     "name": "stdout",
     "output_type": "stream",
     "text": [
      "\n",
      " Early Stopping / epoch: 852 loss: 0.000642\n",
      "----------------------------------------------------------------------------------------------------------\n",
      "lr: 1e-05  patience: 50  num_layers: 2  batch_size: 32  hidden_size: 32  dropout: 0.25 criterion: <function criterion2 at 0x0000017347E337F0>\n"
     ]
    },
    {
     "data": {
      "application/vnd.jupyter.widget-view+json": {
       "model_id": "f7f1810fa72b462ea6d998f064491fd5",
       "version_major": 2,
       "version_minor": 0
      },
      "text/plain": [
       "  0%|          | 0/10000 [00:00<?, ?it/s]"
      ]
     },
     "metadata": {},
     "output_type": "display_data"
    },
    {
     "name": "stdout",
     "output_type": "stream",
     "text": [
      "\n",
      " Early Stopping / epoch: 1125 loss: 0.009084\n",
      "----------------------------------------------------------------------------------------------------------\n",
      "lr: 1e-05  patience: 50  num_layers: 2  batch_size: 32  hidden_size: 32  dropout: 0.25 criterion: <function criterion3 at 0x0000017347E33880>\n"
     ]
    },
    {
     "data": {
      "application/vnd.jupyter.widget-view+json": {
       "model_id": "5ab09a4058fe4e4e9143b89e277ad91a",
       "version_major": 2,
       "version_minor": 0
      },
      "text/plain": [
       "  0%|          | 0/10000 [00:00<?, ?it/s]"
      ]
     },
     "metadata": {},
     "output_type": "display_data"
    },
    {
     "name": "stdout",
     "output_type": "stream",
     "text": [
      "\n",
      " Early Stopping / epoch: 672 loss: 0.002545\n",
      "----------------------------------------------------------------------------------------------------------\n",
      "lr: 1e-05  patience: 50  num_layers: 2  batch_size: 32  hidden_size: 32  dropout: 0.5 criterion: MSELoss()\n"
     ]
    },
    {
     "data": {
      "application/vnd.jupyter.widget-view+json": {
       "model_id": "f748fd940a034cd9a636010b7985334c",
       "version_major": 2,
       "version_minor": 0
      },
      "text/plain": [
       "  0%|          | 0/10000 [00:00<?, ?it/s]"
      ]
     },
     "metadata": {},
     "output_type": "display_data"
    },
    {
     "name": "stdout",
     "output_type": "stream",
     "text": [
      "\n",
      " Early Stopping / epoch: 531 loss: 0.000684\n",
      "----------------------------------------------------------------------------------------------------------\n",
      "lr: 1e-05  patience: 50  num_layers: 2  batch_size: 32  hidden_size: 32  dropout: 0.5 criterion: <function criterion2 at 0x0000017347E337F0>\n"
     ]
    },
    {
     "data": {
      "application/vnd.jupyter.widget-view+json": {
       "model_id": "52ccd6777bff4f54b8d7077b194e1f4a",
       "version_major": 2,
       "version_minor": 0
      },
      "text/plain": [
       "  0%|          | 0/10000 [00:00<?, ?it/s]"
      ]
     },
     "metadata": {},
     "output_type": "display_data"
    },
    {
     "name": "stdout",
     "output_type": "stream",
     "text": [
      "\n",
      " Early Stopping / epoch: 1132 loss: 0.009271\n",
      "----------------------------------------------------------------------------------------------------------\n",
      "lr: 1e-05  patience: 50  num_layers: 2  batch_size: 32  hidden_size: 32  dropout: 0.5 criterion: <function criterion3 at 0x0000017347E33880>\n"
     ]
    },
    {
     "data": {
      "application/vnd.jupyter.widget-view+json": {
       "model_id": "db7a299501854f58a73b544ddcaefb1a",
       "version_major": 2,
       "version_minor": 0
      },
      "text/plain": [
       "  0%|          | 0/10000 [00:00<?, ?it/s]"
      ]
     },
     "metadata": {},
     "output_type": "display_data"
    },
    {
     "name": "stdout",
     "output_type": "stream",
     "text": [
      "\n",
      " Early Stopping / epoch: 1041 loss: 0.002511\n",
      "----------------------------------------------------------------------------------------------------------\n",
      "lr: 1e-05  patience: 50  num_layers: 2  batch_size: 64  hidden_size: 8  dropout: 0.25 criterion: MSELoss()\n"
     ]
    },
    {
     "data": {
      "application/vnd.jupyter.widget-view+json": {
       "model_id": "6d772be1e92a40af863182a272787658",
       "version_major": 2,
       "version_minor": 0
      },
      "text/plain": [
       "  0%|          | 0/10000 [00:00<?, ?it/s]"
      ]
     },
     "metadata": {},
     "output_type": "display_data"
    },
    {
     "name": "stdout",
     "output_type": "stream",
     "text": [
      "\n",
      " Early Stopping / epoch: 1236 loss: 0.000779\n",
      "----------------------------------------------------------------------------------------------------------\n",
      "lr: 1e-05  patience: 50  num_layers: 2  batch_size: 64  hidden_size: 8  dropout: 0.25 criterion: <function criterion2 at 0x0000017347E337F0>\n"
     ]
    },
    {
     "data": {
      "application/vnd.jupyter.widget-view+json": {
       "model_id": "2fa6b3f54c3b495c8aacf52d19ae65ec",
       "version_major": 2,
       "version_minor": 0
      },
      "text/plain": [
       "  0%|          | 0/10000 [00:00<?, ?it/s]"
      ]
     },
     "metadata": {},
     "output_type": "display_data"
    },
    {
     "name": "stdout",
     "output_type": "stream",
     "text": [
      "\n",
      " Early Stopping / epoch: 1632 loss: 0.010685\n",
      "----------------------------------------------------------------------------------------------------------\n",
      "lr: 1e-05  patience: 50  num_layers: 2  batch_size: 64  hidden_size: 8  dropout: 0.25 criterion: <function criterion3 at 0x0000017347E33880>\n"
     ]
    },
    {
     "data": {
      "application/vnd.jupyter.widget-view+json": {
       "model_id": "2f12443feb704a60b5445b339645067d",
       "version_major": 2,
       "version_minor": 0
      },
      "text/plain": [
       "  0%|          | 0/10000 [00:00<?, ?it/s]"
      ]
     },
     "metadata": {},
     "output_type": "display_data"
    },
    {
     "name": "stdout",
     "output_type": "stream",
     "text": [
      "\n",
      " Early Stopping / epoch: 1318 loss: 0.002289\n",
      "----------------------------------------------------------------------------------------------------------\n",
      "lr: 1e-05  patience: 50  num_layers: 2  batch_size: 64  hidden_size: 8  dropout: 0.5 criterion: MSELoss()\n"
     ]
    },
    {
     "data": {
      "application/vnd.jupyter.widget-view+json": {
       "model_id": "8623fb8eec204ba28d56503cd0c85591",
       "version_major": 2,
       "version_minor": 0
      },
      "text/plain": [
       "  0%|          | 0/10000 [00:00<?, ?it/s]"
      ]
     },
     "metadata": {},
     "output_type": "display_data"
    },
    {
     "name": "stdout",
     "output_type": "stream",
     "text": [
      "\n",
      " Early Stopping / epoch: 1068 loss: 0.000709\n",
      "----------------------------------------------------------------------------------------------------------\n",
      "lr: 1e-05  patience: 50  num_layers: 2  batch_size: 64  hidden_size: 8  dropout: 0.5 criterion: <function criterion2 at 0x0000017347E337F0>\n"
     ]
    },
    {
     "data": {
      "application/vnd.jupyter.widget-view+json": {
       "model_id": "5af5670110da431fa6b14722ea36c0ed",
       "version_major": 2,
       "version_minor": 0
      },
      "text/plain": [
       "  0%|          | 0/10000 [00:00<?, ?it/s]"
      ]
     },
     "metadata": {},
     "output_type": "display_data"
    },
    {
     "name": "stdout",
     "output_type": "stream",
     "text": [
      "\n",
      " Early Stopping / epoch: 1264 loss: 0.010923\n",
      "----------------------------------------------------------------------------------------------------------\n",
      "lr: 1e-05  patience: 50  num_layers: 2  batch_size: 64  hidden_size: 8  dropout: 0.5 criterion: <function criterion3 at 0x0000017347E33880>\n"
     ]
    },
    {
     "data": {
      "application/vnd.jupyter.widget-view+json": {
       "model_id": "04487286b2d54e6b8a21f4b340354fa6",
       "version_major": 2,
       "version_minor": 0
      },
      "text/plain": [
       "  0%|          | 0/10000 [00:00<?, ?it/s]"
      ]
     },
     "metadata": {},
     "output_type": "display_data"
    },
    {
     "name": "stdout",
     "output_type": "stream",
     "text": [
      "\n",
      " Early Stopping / epoch: 1576 loss: 0.002235\n",
      "----------------------------------------------------------------------------------------------------------\n",
      "lr: 1e-05  patience: 50  num_layers: 2  batch_size: 64  hidden_size: 16  dropout: 0.25 criterion: MSELoss()\n"
     ]
    },
    {
     "data": {
      "application/vnd.jupyter.widget-view+json": {
       "model_id": "b264a5ee79e447e19c6a3694684c8115",
       "version_major": 2,
       "version_minor": 0
      },
      "text/plain": [
       "  0%|          | 0/10000 [00:00<?, ?it/s]"
      ]
     },
     "metadata": {},
     "output_type": "display_data"
    },
    {
     "name": "stdout",
     "output_type": "stream",
     "text": [
      "\n",
      " Early Stopping / epoch: 782 loss: 0.000671\n",
      "----------------------------------------------------------------------------------------------------------\n",
      "lr: 1e-05  patience: 50  num_layers: 2  batch_size: 64  hidden_size: 16  dropout: 0.25 criterion: <function criterion2 at 0x0000017347E337F0>\n"
     ]
    },
    {
     "data": {
      "application/vnd.jupyter.widget-view+json": {
       "model_id": "0d03a8194d0a46f098e6105310123002",
       "version_major": 2,
       "version_minor": 0
      },
      "text/plain": [
       "  0%|          | 0/10000 [00:00<?, ?it/s]"
      ]
     },
     "metadata": {},
     "output_type": "display_data"
    },
    {
     "name": "stdout",
     "output_type": "stream",
     "text": [
      "\n",
      " Early Stopping / epoch: 1143 loss: 0.010418\n",
      "----------------------------------------------------------------------------------------------------------\n",
      "lr: 1e-05  patience: 50  num_layers: 2  batch_size: 64  hidden_size: 16  dropout: 0.25 criterion: <function criterion3 at 0x0000017347E33880>\n"
     ]
    },
    {
     "data": {
      "application/vnd.jupyter.widget-view+json": {
       "model_id": "fd017317558b49be80c1cd18e5008dd2",
       "version_major": 2,
       "version_minor": 0
      },
      "text/plain": [
       "  0%|          | 0/10000 [00:00<?, ?it/s]"
      ]
     },
     "metadata": {},
     "output_type": "display_data"
    },
    {
     "name": "stdout",
     "output_type": "stream",
     "text": [
      "\n",
      " Early Stopping / epoch: 1192 loss: 0.002201\n",
      "----------------------------------------------------------------------------------------------------------\n",
      "lr: 1e-05  patience: 50  num_layers: 2  batch_size: 64  hidden_size: 16  dropout: 0.5 criterion: MSELoss()\n"
     ]
    },
    {
     "data": {
      "application/vnd.jupyter.widget-view+json": {
       "model_id": "0171948189374b5cb65b25231e68c1ce",
       "version_major": 2,
       "version_minor": 0
      },
      "text/plain": [
       "  0%|          | 0/10000 [00:00<?, ?it/s]"
      ]
     },
     "metadata": {},
     "output_type": "display_data"
    },
    {
     "name": "stdout",
     "output_type": "stream",
     "text": [
      "\n",
      " Early Stopping / epoch: 1290 loss: 0.000698\n",
      "----------------------------------------------------------------------------------------------------------\n",
      "lr: 1e-05  patience: 50  num_layers: 2  batch_size: 64  hidden_size: 16  dropout: 0.5 criterion: <function criterion2 at 0x0000017347E337F0>\n"
     ]
    },
    {
     "data": {
      "application/vnd.jupyter.widget-view+json": {
       "model_id": "36a939927ca74a2f941e6e318e70b26b",
       "version_major": 2,
       "version_minor": 0
      },
      "text/plain": [
       "  0%|          | 0/10000 [00:00<?, ?it/s]"
      ]
     },
     "metadata": {},
     "output_type": "display_data"
    },
    {
     "name": "stdout",
     "output_type": "stream",
     "text": [
      "\n",
      " Early Stopping / epoch: 1394 loss: 0.010428\n",
      "----------------------------------------------------------------------------------------------------------\n",
      "lr: 1e-05  patience: 50  num_layers: 2  batch_size: 64  hidden_size: 16  dropout: 0.5 criterion: <function criterion3 at 0x0000017347E33880>\n"
     ]
    },
    {
     "data": {
      "application/vnd.jupyter.widget-view+json": {
       "model_id": "b6effe51b9ec44a0be28259598604e32",
       "version_major": 2,
       "version_minor": 0
      },
      "text/plain": [
       "  0%|          | 0/10000 [00:00<?, ?it/s]"
      ]
     },
     "metadata": {},
     "output_type": "display_data"
    },
    {
     "name": "stdout",
     "output_type": "stream",
     "text": [
      "\n",
      " Early Stopping / epoch: 1175 loss: 0.002144\n",
      "----------------------------------------------------------------------------------------------------------\n",
      "lr: 1e-05  patience: 50  num_layers: 2  batch_size: 64  hidden_size: 32  dropout: 0.25 criterion: MSELoss()\n"
     ]
    },
    {
     "data": {
      "application/vnd.jupyter.widget-view+json": {
       "model_id": "4dac99c89cad4bc080e7bc1a989f0a30",
       "version_major": 2,
       "version_minor": 0
      },
      "text/plain": [
       "  0%|          | 0/10000 [00:00<?, ?it/s]"
      ]
     },
     "metadata": {},
     "output_type": "display_data"
    },
    {
     "name": "stdout",
     "output_type": "stream",
     "text": [
      "\n",
      " Early Stopping / epoch: 665 loss: 0.000704\n",
      "----------------------------------------------------------------------------------------------------------\n",
      "lr: 1e-05  patience: 50  num_layers: 2  batch_size: 64  hidden_size: 32  dropout: 0.25 criterion: <function criterion2 at 0x0000017347E337F0>\n"
     ]
    },
    {
     "data": {
      "application/vnd.jupyter.widget-view+json": {
       "model_id": "69cd19b3fa194098a153faf98ab2fad8",
       "version_major": 2,
       "version_minor": 0
      },
      "text/plain": [
       "  0%|          | 0/10000 [00:00<?, ?it/s]"
      ]
     },
     "metadata": {},
     "output_type": "display_data"
    },
    {
     "name": "stdout",
     "output_type": "stream",
     "text": [
      "\n",
      " Early Stopping / epoch: 1114 loss: 0.009504\n",
      "----------------------------------------------------------------------------------------------------------\n",
      "lr: 1e-05  patience: 50  num_layers: 2  batch_size: 64  hidden_size: 32  dropout: 0.25 criterion: <function criterion3 at 0x0000017347E33880>\n"
     ]
    },
    {
     "data": {
      "application/vnd.jupyter.widget-view+json": {
       "model_id": "b4e61bb09c9244d985da346676e18c07",
       "version_major": 2,
       "version_minor": 0
      },
      "text/plain": [
       "  0%|          | 0/10000 [00:00<?, ?it/s]"
      ]
     },
     "metadata": {},
     "output_type": "display_data"
    },
    {
     "name": "stdout",
     "output_type": "stream",
     "text": [
      "\n",
      " Early Stopping / epoch: 837 loss: 0.002016\n",
      "----------------------------------------------------------------------------------------------------------\n",
      "lr: 1e-05  patience: 50  num_layers: 2  batch_size: 64  hidden_size: 32  dropout: 0.5 criterion: MSELoss()\n"
     ]
    },
    {
     "data": {
      "application/vnd.jupyter.widget-view+json": {
       "model_id": "a3cb1c4345244841bbfb6b551a6b41a1",
       "version_major": 2,
       "version_minor": 0
      },
      "text/plain": [
       "  0%|          | 0/10000 [00:00<?, ?it/s]"
      ]
     },
     "metadata": {},
     "output_type": "display_data"
    },
    {
     "name": "stdout",
     "output_type": "stream",
     "text": [
      "\n",
      " Early Stopping / epoch: 529 loss: 0.000694\n",
      "----------------------------------------------------------------------------------------------------------\n",
      "lr: 1e-05  patience: 50  num_layers: 2  batch_size: 64  hidden_size: 32  dropout: 0.5 criterion: <function criterion2 at 0x0000017347E337F0>\n"
     ]
    },
    {
     "data": {
      "application/vnd.jupyter.widget-view+json": {
       "model_id": "8f8c386066b54505b369471d3dcd2a12",
       "version_major": 2,
       "version_minor": 0
      },
      "text/plain": [
       "  0%|          | 0/10000 [00:00<?, ?it/s]"
      ]
     },
     "metadata": {},
     "output_type": "display_data"
    },
    {
     "name": "stdout",
     "output_type": "stream",
     "text": [
      "\n",
      " Early Stopping / epoch: 734 loss: 0.009988\n",
      "----------------------------------------------------------------------------------------------------------\n",
      "lr: 1e-05  patience: 50  num_layers: 2  batch_size: 64  hidden_size: 32  dropout: 0.5 criterion: <function criterion3 at 0x0000017347E33880>\n"
     ]
    },
    {
     "data": {
      "application/vnd.jupyter.widget-view+json": {
       "model_id": "cc7cf1ce97bb407782235e85a36f9000",
       "version_major": 2,
       "version_minor": 0
      },
      "text/plain": [
       "  0%|          | 0/10000 [00:00<?, ?it/s]"
      ]
     },
     "metadata": {},
     "output_type": "display_data"
    },
    {
     "name": "stdout",
     "output_type": "stream",
     "text": [
      "\n",
      " Early Stopping / epoch: 1299 loss: 0.002039\n",
      "----------------------------------------------------------------------------------------------------------\n",
      "lr: 1e-05  patience: 50  num_layers: 2  batch_size: 128  hidden_size: 8  dropout: 0.25 criterion: MSELoss()\n"
     ]
    },
    {
     "data": {
      "application/vnd.jupyter.widget-view+json": {
       "model_id": "ae54b60cc3064d8d99d6ec2060c28b2a",
       "version_major": 2,
       "version_minor": 0
      },
      "text/plain": [
       "  0%|          | 0/10000 [00:00<?, ?it/s]"
      ]
     },
     "metadata": {},
     "output_type": "display_data"
    },
    {
     "name": "stdout",
     "output_type": "stream",
     "text": [
      "\n",
      " Early Stopping / epoch: 1797 loss: 0.000664\n",
      "----------------------------------------------------------------------------------------------------------\n",
      "lr: 1e-05  patience: 50  num_layers: 2  batch_size: 128  hidden_size: 8  dropout: 0.25 criterion: <function criterion2 at 0x0000017347E337F0>\n"
     ]
    },
    {
     "data": {
      "application/vnd.jupyter.widget-view+json": {
       "model_id": "15fa82839e864572a45d714b105e5e2b",
       "version_major": 2,
       "version_minor": 0
      },
      "text/plain": [
       "  0%|          | 0/10000 [00:00<?, ?it/s]"
      ]
     },
     "metadata": {},
     "output_type": "display_data"
    },
    {
     "name": "stdout",
     "output_type": "stream",
     "text": [
      "\n",
      " Early Stopping / epoch: 1551 loss: 0.012134\n",
      "----------------------------------------------------------------------------------------------------------\n",
      "lr: 1e-05  patience: 50  num_layers: 2  batch_size: 128  hidden_size: 8  dropout: 0.25 criterion: <function criterion3 at 0x0000017347E33880>\n"
     ]
    },
    {
     "data": {
      "application/vnd.jupyter.widget-view+json": {
       "model_id": "4d83b8b9753e4ed5bc28cad915c579bc",
       "version_major": 2,
       "version_minor": 0
      },
      "text/plain": [
       "  0%|          | 0/10000 [00:00<?, ?it/s]"
      ]
     },
     "metadata": {},
     "output_type": "display_data"
    },
    {
     "name": "stdout",
     "output_type": "stream",
     "text": [
      "\n",
      " Early Stopping / epoch: 2529 loss: 0.001814\n",
      "----------------------------------------------------------------------------------------------------------\n",
      "lr: 1e-05  patience: 50  num_layers: 2  batch_size: 128  hidden_size: 8  dropout: 0.5 criterion: MSELoss()\n"
     ]
    },
    {
     "data": {
      "application/vnd.jupyter.widget-view+json": {
       "model_id": "862a4ba7bded478fb6a919c7d8361eeb",
       "version_major": 2,
       "version_minor": 0
      },
      "text/plain": [
       "  0%|          | 0/10000 [00:00<?, ?it/s]"
      ]
     },
     "metadata": {},
     "output_type": "display_data"
    },
    {
     "name": "stdout",
     "output_type": "stream",
     "text": [
      "\n",
      " Early Stopping / epoch: 1726 loss: 0.000722\n",
      "----------------------------------------------------------------------------------------------------------\n",
      "lr: 1e-05  patience: 50  num_layers: 2  batch_size: 128  hidden_size: 8  dropout: 0.5 criterion: <function criterion2 at 0x0000017347E337F0>\n"
     ]
    },
    {
     "data": {
      "application/vnd.jupyter.widget-view+json": {
       "model_id": "908f8068cc75432a8357747dd224752f",
       "version_major": 2,
       "version_minor": 0
      },
      "text/plain": [
       "  0%|          | 0/10000 [00:00<?, ?it/s]"
      ]
     },
     "metadata": {},
     "output_type": "display_data"
    },
    {
     "name": "stdout",
     "output_type": "stream",
     "text": [
      "\n",
      " Early Stopping / epoch: 1859 loss: 0.014331\n",
      "----------------------------------------------------------------------------------------------------------\n",
      "lr: 1e-05  patience: 50  num_layers: 2  batch_size: 128  hidden_size: 8  dropout: 0.5 criterion: <function criterion3 at 0x0000017347E33880>\n"
     ]
    },
    {
     "data": {
      "application/vnd.jupyter.widget-view+json": {
       "model_id": "c166d5afa79d45938ee44ea144ccd1db",
       "version_major": 2,
       "version_minor": 0
      },
      "text/plain": [
       "  0%|          | 0/10000 [00:00<?, ?it/s]"
      ]
     },
     "metadata": {},
     "output_type": "display_data"
    },
    {
     "name": "stdout",
     "output_type": "stream",
     "text": [
      "\n",
      " Early Stopping / epoch: 2134 loss: 0.001842\n",
      "----------------------------------------------------------------------------------------------------------\n",
      "lr: 1e-05  patience: 50  num_layers: 2  batch_size: 128  hidden_size: 16  dropout: 0.25 criterion: MSELoss()\n"
     ]
    },
    {
     "data": {
      "application/vnd.jupyter.widget-view+json": {
       "model_id": "ad2b0332f700412c97bcbda0296a6b18",
       "version_major": 2,
       "version_minor": 0
      },
      "text/plain": [
       "  0%|          | 0/10000 [00:00<?, ?it/s]"
      ]
     },
     "metadata": {},
     "output_type": "display_data"
    },
    {
     "name": "stdout",
     "output_type": "stream",
     "text": [
      "\n",
      " Early Stopping / epoch: 1812 loss: 0.000666\n",
      "----------------------------------------------------------------------------------------------------------\n",
      "lr: 1e-05  patience: 50  num_layers: 2  batch_size: 128  hidden_size: 16  dropout: 0.25 criterion: <function criterion2 at 0x0000017347E337F0>\n"
     ]
    },
    {
     "data": {
      "application/vnd.jupyter.widget-view+json": {
       "model_id": "2eb5d8d6f5bc42a3b19efdb773b1409c",
       "version_major": 2,
       "version_minor": 0
      },
      "text/plain": [
       "  0%|          | 0/10000 [00:00<?, ?it/s]"
      ]
     },
     "metadata": {},
     "output_type": "display_data"
    },
    {
     "name": "stdout",
     "output_type": "stream",
     "text": [
      "\n",
      " Early Stopping / epoch: 1422 loss: 0.010693\n",
      "----------------------------------------------------------------------------------------------------------\n",
      "lr: 1e-05  patience: 50  num_layers: 2  batch_size: 128  hidden_size: 16  dropout: 0.25 criterion: <function criterion3 at 0x0000017347E33880>\n"
     ]
    },
    {
     "data": {
      "application/vnd.jupyter.widget-view+json": {
       "model_id": "a62259672aaf46d092c43da97b19f9cb",
       "version_major": 2,
       "version_minor": 0
      },
      "text/plain": [
       "  0%|          | 0/10000 [00:00<?, ?it/s]"
      ]
     },
     "metadata": {},
     "output_type": "display_data"
    },
    {
     "name": "stdout",
     "output_type": "stream",
     "text": [
      "\n",
      " Early Stopping / epoch: 1685 loss: 0.001842\n",
      "----------------------------------------------------------------------------------------------------------\n",
      "lr: 1e-05  patience: 50  num_layers: 2  batch_size: 128  hidden_size: 16  dropout: 0.5 criterion: MSELoss()\n"
     ]
    },
    {
     "data": {
      "application/vnd.jupyter.widget-view+json": {
       "model_id": "eaca5a51a5cb449aa855e6fcacac6f18",
       "version_major": 2,
       "version_minor": 0
      },
      "text/plain": [
       "  0%|          | 0/10000 [00:00<?, ?it/s]"
      ]
     },
     "metadata": {},
     "output_type": "display_data"
    },
    {
     "name": "stdout",
     "output_type": "stream",
     "text": [
      "\n",
      " Early Stopping / epoch: 1310 loss: 0.000706\n",
      "----------------------------------------------------------------------------------------------------------\n",
      "lr: 1e-05  patience: 50  num_layers: 2  batch_size: 128  hidden_size: 16  dropout: 0.5 criterion: <function criterion2 at 0x0000017347E337F0>\n"
     ]
    },
    {
     "data": {
      "application/vnd.jupyter.widget-view+json": {
       "model_id": "80e9259c43154c309cf12ac524d278d7",
       "version_major": 2,
       "version_minor": 0
      },
      "text/plain": [
       "  0%|          | 0/10000 [00:00<?, ?it/s]"
      ]
     },
     "metadata": {},
     "output_type": "display_data"
    },
    {
     "name": "stdout",
     "output_type": "stream",
     "text": [
      "\n",
      " Early Stopping / epoch: 2925 loss: 0.009753\n",
      "----------------------------------------------------------------------------------------------------------\n",
      "lr: 1e-05  patience: 50  num_layers: 2  batch_size: 128  hidden_size: 16  dropout: 0.5 criterion: <function criterion3 at 0x0000017347E33880>\n"
     ]
    },
    {
     "data": {
      "application/vnd.jupyter.widget-view+json": {
       "model_id": "7f59a7d140ee4c7188b4f464f83dd679",
       "version_major": 2,
       "version_minor": 0
      },
      "text/plain": [
       "  0%|          | 0/10000 [00:00<?, ?it/s]"
      ]
     },
     "metadata": {},
     "output_type": "display_data"
    },
    {
     "name": "stdout",
     "output_type": "stream",
     "text": [
      "\n",
      " Early Stopping / epoch: 1767 loss: 0.001815\n",
      "----------------------------------------------------------------------------------------------------------\n",
      "lr: 1e-05  patience: 50  num_layers: 2  batch_size: 128  hidden_size: 32  dropout: 0.25 criterion: MSELoss()\n"
     ]
    },
    {
     "data": {
      "application/vnd.jupyter.widget-view+json": {
       "model_id": "bc3a198becb34b208eeee638f601767e",
       "version_major": 2,
       "version_minor": 0
      },
      "text/plain": [
       "  0%|          | 0/10000 [00:00<?, ?it/s]"
      ]
     },
     "metadata": {},
     "output_type": "display_data"
    },
    {
     "name": "stdout",
     "output_type": "stream",
     "text": [
      "\n",
      " Early Stopping / epoch: 969 loss: 0.000626\n",
      "----------------------------------------------------------------------------------------------------------\n",
      "lr: 1e-05  patience: 50  num_layers: 2  batch_size: 128  hidden_size: 32  dropout: 0.25 criterion: <function criterion2 at 0x0000017347E337F0>\n"
     ]
    },
    {
     "data": {
      "application/vnd.jupyter.widget-view+json": {
       "model_id": "322e82ed6e8f4747af9f4617d59e8ebc",
       "version_major": 2,
       "version_minor": 0
      },
      "text/plain": [
       "  0%|          | 0/10000 [00:00<?, ?it/s]"
      ]
     },
     "metadata": {},
     "output_type": "display_data"
    },
    {
     "name": "stdout",
     "output_type": "stream",
     "text": [
      "\n",
      " Early Stopping / epoch: 1609 loss: 0.009638\n",
      "----------------------------------------------------------------------------------------------------------\n",
      "lr: 1e-05  patience: 50  num_layers: 2  batch_size: 128  hidden_size: 32  dropout: 0.25 criterion: <function criterion3 at 0x0000017347E33880>\n"
     ]
    },
    {
     "data": {
      "application/vnd.jupyter.widget-view+json": {
       "model_id": "cef9936438d24d8cba19c1ea5148bc16",
       "version_major": 2,
       "version_minor": 0
      },
      "text/plain": [
       "  0%|          | 0/10000 [00:00<?, ?it/s]"
      ]
     },
     "metadata": {},
     "output_type": "display_data"
    },
    {
     "name": "stdout",
     "output_type": "stream",
     "text": [
      "\n",
      " Early Stopping / epoch: 601 loss: 0.001791\n",
      "----------------------------------------------------------------------------------------------------------\n",
      "lr: 1e-05  patience: 50  num_layers: 2  batch_size: 128  hidden_size: 32  dropout: 0.5 criterion: MSELoss()\n"
     ]
    },
    {
     "data": {
      "application/vnd.jupyter.widget-view+json": {
       "model_id": "99ffce3475ae4021914c75b461b721aa",
       "version_major": 2,
       "version_minor": 0
      },
      "text/plain": [
       "  0%|          | 0/10000 [00:00<?, ?it/s]"
      ]
     },
     "metadata": {},
     "output_type": "display_data"
    },
    {
     "name": "stdout",
     "output_type": "stream",
     "text": [
      "\n",
      " Early Stopping / epoch: 1157 loss: 0.000662\n",
      "----------------------------------------------------------------------------------------------------------\n",
      "lr: 1e-05  patience: 50  num_layers: 2  batch_size: 128  hidden_size: 32  dropout: 0.5 criterion: <function criterion2 at 0x0000017347E337F0>\n"
     ]
    },
    {
     "data": {
      "application/vnd.jupyter.widget-view+json": {
       "model_id": "00e49c97432e4ef7b3e431616c5fcb32",
       "version_major": 2,
       "version_minor": 0
      },
      "text/plain": [
       "  0%|          | 0/10000 [00:00<?, ?it/s]"
      ]
     },
     "metadata": {},
     "output_type": "display_data"
    },
    {
     "name": "stdout",
     "output_type": "stream",
     "text": [
      "\n",
      " Early Stopping / epoch: 994 loss: 0.010147\n",
      "----------------------------------------------------------------------------------------------------------\n",
      "lr: 1e-05  patience: 50  num_layers: 2  batch_size: 128  hidden_size: 32  dropout: 0.5 criterion: <function criterion3 at 0x0000017347E33880>\n"
     ]
    },
    {
     "data": {
      "application/vnd.jupyter.widget-view+json": {
       "model_id": "27886f80290340c5a0d4ee394c405d09",
       "version_major": 2,
       "version_minor": 0
      },
      "text/plain": [
       "  0%|          | 0/10000 [00:00<?, ?it/s]"
      ]
     },
     "metadata": {},
     "output_type": "display_data"
    },
    {
     "name": "stdout",
     "output_type": "stream",
     "text": [
      "\n",
      " Early Stopping / epoch: 1071 loss: 0.001762\n",
      "----------------------------------------------------------------------------------------------------------\n",
      "lr: 1e-05  patience: 50  num_layers: 4  batch_size: 32  hidden_size: 8  dropout: 0.25 criterion: MSELoss()\n"
     ]
    },
    {
     "data": {
      "application/vnd.jupyter.widget-view+json": {
       "model_id": "857e3f2d8f6d4ebaba66af9b11f559fb",
       "version_major": 2,
       "version_minor": 0
      },
      "text/plain": [
       "  0%|          | 0/10000 [00:00<?, ?it/s]"
      ]
     },
     "metadata": {},
     "output_type": "display_data"
    },
    {
     "name": "stdout",
     "output_type": "stream",
     "text": [
      "\n",
      " Early Stopping / epoch: 954 loss: 0.000716\n",
      "----------------------------------------------------------------------------------------------------------\n",
      "lr: 1e-05  patience: 50  num_layers: 4  batch_size: 32  hidden_size: 8  dropout: 0.25 criterion: <function criterion2 at 0x0000017347E337F0>\n"
     ]
    },
    {
     "data": {
      "application/vnd.jupyter.widget-view+json": {
       "model_id": "86f2bae5759a4fada24f4995c0f46d3e",
       "version_major": 2,
       "version_minor": 0
      },
      "text/plain": [
       "  0%|          | 0/10000 [00:00<?, ?it/s]"
      ]
     },
     "metadata": {},
     "output_type": "display_data"
    },
    {
     "name": "stdout",
     "output_type": "stream",
     "text": [
      "\n",
      " Early Stopping / epoch: 1371 loss: 0.010372\n",
      "----------------------------------------------------------------------------------------------------------\n",
      "lr: 1e-05  patience: 50  num_layers: 4  batch_size: 32  hidden_size: 8  dropout: 0.25 criterion: <function criterion3 at 0x0000017347E33880>\n"
     ]
    },
    {
     "data": {
      "application/vnd.jupyter.widget-view+json": {
       "model_id": "21766aa781174207a66101ceeae897f5",
       "version_major": 2,
       "version_minor": 0
      },
      "text/plain": [
       "  0%|          | 0/10000 [00:00<?, ?it/s]"
      ]
     },
     "metadata": {},
     "output_type": "display_data"
    },
    {
     "name": "stdout",
     "output_type": "stream",
     "text": [
      "\n",
      " Early Stopping / epoch: 1170 loss: 0.002813\n",
      "----------------------------------------------------------------------------------------------------------\n",
      "lr: 1e-05  patience: 50  num_layers: 4  batch_size: 32  hidden_size: 8  dropout: 0.5 criterion: MSELoss()\n"
     ]
    },
    {
     "data": {
      "application/vnd.jupyter.widget-view+json": {
       "model_id": "ecdb1ef27ca6437e9d5362ce95727e5c",
       "version_major": 2,
       "version_minor": 0
      },
      "text/plain": [
       "  0%|          | 0/10000 [00:00<?, ?it/s]"
      ]
     },
     "metadata": {},
     "output_type": "display_data"
    },
    {
     "name": "stdout",
     "output_type": "stream",
     "text": [
      "\n",
      " Early Stopping / epoch: 1127 loss: 0.000738\n",
      "----------------------------------------------------------------------------------------------------------\n",
      "lr: 1e-05  patience: 50  num_layers: 4  batch_size: 32  hidden_size: 8  dropout: 0.5 criterion: <function criterion2 at 0x0000017347E337F0>\n"
     ]
    },
    {
     "data": {
      "application/vnd.jupyter.widget-view+json": {
       "model_id": "8786e9e6ba9042979af4e7326153a82b",
       "version_major": 2,
       "version_minor": 0
      },
      "text/plain": [
       "  0%|          | 0/10000 [00:00<?, ?it/s]"
      ]
     },
     "metadata": {},
     "output_type": "display_data"
    },
    {
     "name": "stdout",
     "output_type": "stream",
     "text": [
      "\n",
      " Early Stopping / epoch: 1099 loss: 0.011441\n",
      "----------------------------------------------------------------------------------------------------------\n",
      "lr: 1e-05  patience: 50  num_layers: 4  batch_size: 32  hidden_size: 8  dropout: 0.5 criterion: <function criterion3 at 0x0000017347E33880>\n"
     ]
    },
    {
     "data": {
      "application/vnd.jupyter.widget-view+json": {
       "model_id": "4afd473f14234a12a64a78e32c1f4403",
       "version_major": 2,
       "version_minor": 0
      },
      "text/plain": [
       "  0%|          | 0/10000 [00:00<?, ?it/s]"
      ]
     },
     "metadata": {},
     "output_type": "display_data"
    },
    {
     "name": "stdout",
     "output_type": "stream",
     "text": [
      "\n",
      " Early Stopping / epoch: 1149 loss: 0.002928\n",
      "----------------------------------------------------------------------------------------------------------\n",
      "lr: 1e-05  patience: 50  num_layers: 4  batch_size: 32  hidden_size: 16  dropout: 0.25 criterion: MSELoss()\n"
     ]
    },
    {
     "data": {
      "application/vnd.jupyter.widget-view+json": {
       "model_id": "379c6295793547d889b8a940d0d3546a",
       "version_major": 2,
       "version_minor": 0
      },
      "text/plain": [
       "  0%|          | 0/10000 [00:00<?, ?it/s]"
      ]
     },
     "metadata": {},
     "output_type": "display_data"
    },
    {
     "name": "stdout",
     "output_type": "stream",
     "text": [
      "\n",
      " Early Stopping / epoch: 884 loss: 0.000687\n",
      "----------------------------------------------------------------------------------------------------------\n",
      "lr: 1e-05  patience: 50  num_layers: 4  batch_size: 32  hidden_size: 16  dropout: 0.25 criterion: <function criterion2 at 0x0000017347E337F0>\n"
     ]
    },
    {
     "data": {
      "application/vnd.jupyter.widget-view+json": {
       "model_id": "d2b9e2cecd4f4e0aaab2b123a12219f4",
       "version_major": 2,
       "version_minor": 0
      },
      "text/plain": [
       "  0%|          | 0/10000 [00:00<?, ?it/s]"
      ]
     },
     "metadata": {},
     "output_type": "display_data"
    },
    {
     "name": "stdout",
     "output_type": "stream",
     "text": [
      "\n",
      " Early Stopping / epoch: 816 loss: 0.010408\n",
      "----------------------------------------------------------------------------------------------------------\n",
      "lr: 1e-05  patience: 50  num_layers: 4  batch_size: 32  hidden_size: 16  dropout: 0.25 criterion: <function criterion3 at 0x0000017347E33880>\n"
     ]
    },
    {
     "data": {
      "application/vnd.jupyter.widget-view+json": {
       "model_id": "530fd99183ef4f7495691d237547d1be",
       "version_major": 2,
       "version_minor": 0
      },
      "text/plain": [
       "  0%|          | 0/10000 [00:00<?, ?it/s]"
      ]
     },
     "metadata": {},
     "output_type": "display_data"
    },
    {
     "name": "stdout",
     "output_type": "stream",
     "text": [
      "\n",
      " Early Stopping / epoch: 1085 loss: 0.002574\n",
      "----------------------------------------------------------------------------------------------------------\n",
      "lr: 1e-05  patience: 50  num_layers: 4  batch_size: 32  hidden_size: 16  dropout: 0.5 criterion: MSELoss()\n"
     ]
    },
    {
     "data": {
      "application/vnd.jupyter.widget-view+json": {
       "model_id": "995c34b747cd4032ad6d0655b4324e09",
       "version_major": 2,
       "version_minor": 0
      },
      "text/plain": [
       "  0%|          | 0/10000 [00:00<?, ?it/s]"
      ]
     },
     "metadata": {},
     "output_type": "display_data"
    },
    {
     "name": "stdout",
     "output_type": "stream",
     "text": [
      "\n",
      " Early Stopping / epoch: 787 loss: 0.000746\n",
      "----------------------------------------------------------------------------------------------------------\n",
      "lr: 1e-05  patience: 50  num_layers: 4  batch_size: 32  hidden_size: 16  dropout: 0.5 criterion: <function criterion2 at 0x0000017347E337F0>\n"
     ]
    },
    {
     "data": {
      "application/vnd.jupyter.widget-view+json": {
       "model_id": "1dc2a486e3bd4266993dfb82f8a45525",
       "version_major": 2,
       "version_minor": 0
      },
      "text/plain": [
       "  0%|          | 0/10000 [00:00<?, ?it/s]"
      ]
     },
     "metadata": {},
     "output_type": "display_data"
    },
    {
     "name": "stdout",
     "output_type": "stream",
     "text": [
      "\n",
      " Early Stopping / epoch: 1025 loss: 0.010207\n",
      "----------------------------------------------------------------------------------------------------------\n",
      "lr: 1e-05  patience: 50  num_layers: 4  batch_size: 32  hidden_size: 16  dropout: 0.5 criterion: <function criterion3 at 0x0000017347E33880>\n"
     ]
    },
    {
     "data": {
      "application/vnd.jupyter.widget-view+json": {
       "model_id": "201b82eca76148498d9389d8ec1dd073",
       "version_major": 2,
       "version_minor": 0
      },
      "text/plain": [
       "  0%|          | 0/10000 [00:00<?, ?it/s]"
      ]
     },
     "metadata": {},
     "output_type": "display_data"
    },
    {
     "name": "stdout",
     "output_type": "stream",
     "text": [
      "\n",
      " Early Stopping / epoch: 1194 loss: 0.002686\n",
      "----------------------------------------------------------------------------------------------------------\n",
      "lr: 1e-05  patience: 50  num_layers: 4  batch_size: 32  hidden_size: 32  dropout: 0.25 criterion: MSELoss()\n"
     ]
    },
    {
     "data": {
      "application/vnd.jupyter.widget-view+json": {
       "model_id": "966f57bfbb024e3baad609ba274e0dac",
       "version_major": 2,
       "version_minor": 0
      },
      "text/plain": [
       "  0%|          | 0/10000 [00:00<?, ?it/s]"
      ]
     },
     "metadata": {},
     "output_type": "display_data"
    },
    {
     "name": "stdout",
     "output_type": "stream",
     "text": [
      "\n",
      " Early Stopping / epoch: 876 loss: 0.000674\n",
      "----------------------------------------------------------------------------------------------------------\n",
      "lr: 1e-05  patience: 50  num_layers: 4  batch_size: 32  hidden_size: 32  dropout: 0.25 criterion: <function criterion2 at 0x0000017347E337F0>\n"
     ]
    },
    {
     "data": {
      "application/vnd.jupyter.widget-view+json": {
       "model_id": "55c0b51d00ce41a7a7d8277188fba7bf",
       "version_major": 2,
       "version_minor": 0
      },
      "text/plain": [
       "  0%|          | 0/10000 [00:00<?, ?it/s]"
      ]
     },
     "metadata": {},
     "output_type": "display_data"
    },
    {
     "name": "stdout",
     "output_type": "stream",
     "text": [
      "\n",
      " Early Stopping / epoch: 955 loss: 0.009203\n",
      "----------------------------------------------------------------------------------------------------------\n",
      "lr: 1e-05  patience: 50  num_layers: 4  batch_size: 32  hidden_size: 32  dropout: 0.25 criterion: <function criterion3 at 0x0000017347E33880>\n"
     ]
    },
    {
     "data": {
      "application/vnd.jupyter.widget-view+json": {
       "model_id": "e9b1ed368e344142b7b891454f53c643",
       "version_major": 2,
       "version_minor": 0
      },
      "text/plain": [
       "  0%|          | 0/10000 [00:00<?, ?it/s]"
      ]
     },
     "metadata": {},
     "output_type": "display_data"
    },
    {
     "name": "stdout",
     "output_type": "stream",
     "text": [
      "\n",
      " Early Stopping / epoch: 744 loss: 0.002569\n",
      "----------------------------------------------------------------------------------------------------------\n",
      "lr: 1e-05  patience: 50  num_layers: 4  batch_size: 32  hidden_size: 32  dropout: 0.5 criterion: MSELoss()\n"
     ]
    },
    {
     "data": {
      "application/vnd.jupyter.widget-view+json": {
       "model_id": "7caca91f927a49a7bf5464989a27583d",
       "version_major": 2,
       "version_minor": 0
      },
      "text/plain": [
       "  0%|          | 0/10000 [00:00<?, ?it/s]"
      ]
     },
     "metadata": {},
     "output_type": "display_data"
    },
    {
     "name": "stdout",
     "output_type": "stream",
     "text": [
      "\n",
      " Early Stopping / epoch: 678 loss: 0.000699\n",
      "----------------------------------------------------------------------------------------------------------\n",
      "lr: 1e-05  patience: 50  num_layers: 4  batch_size: 32  hidden_size: 32  dropout: 0.5 criterion: <function criterion2 at 0x0000017347E337F0>\n"
     ]
    },
    {
     "data": {
      "application/vnd.jupyter.widget-view+json": {
       "model_id": "cb4c21f9178045a1bc7569f295e85a1b",
       "version_major": 2,
       "version_minor": 0
      },
      "text/plain": [
       "  0%|          | 0/10000 [00:00<?, ?it/s]"
      ]
     },
     "metadata": {},
     "output_type": "display_data"
    },
    {
     "name": "stdout",
     "output_type": "stream",
     "text": [
      "\n",
      " Early Stopping / epoch: 880 loss: 0.009698\n",
      "----------------------------------------------------------------------------------------------------------\n",
      "lr: 1e-05  patience: 50  num_layers: 4  batch_size: 32  hidden_size: 32  dropout: 0.5 criterion: <function criterion3 at 0x0000017347E33880>\n"
     ]
    },
    {
     "data": {
      "application/vnd.jupyter.widget-view+json": {
       "model_id": "8c6f23c358344237aedb7f25081b1d61",
       "version_major": 2,
       "version_minor": 0
      },
      "text/plain": [
       "  0%|          | 0/10000 [00:00<?, ?it/s]"
      ]
     },
     "metadata": {},
     "output_type": "display_data"
    },
    {
     "name": "stdout",
     "output_type": "stream",
     "text": [
      "\n",
      " Early Stopping / epoch: 931 loss: 0.002651\n",
      "----------------------------------------------------------------------------------------------------------\n",
      "lr: 1e-05  patience: 50  num_layers: 4  batch_size: 64  hidden_size: 8  dropout: 0.25 criterion: MSELoss()\n"
     ]
    },
    {
     "data": {
      "application/vnd.jupyter.widget-view+json": {
       "model_id": "4004742278be4ce393c10e833290c238",
       "version_major": 2,
       "version_minor": 0
      },
      "text/plain": [
       "  0%|          | 0/10000 [00:00<?, ?it/s]"
      ]
     },
     "metadata": {},
     "output_type": "display_data"
    },
    {
     "name": "stdout",
     "output_type": "stream",
     "text": [
      "\n",
      " Early Stopping / epoch: 1315 loss: 0.000717\n",
      "----------------------------------------------------------------------------------------------------------\n",
      "lr: 1e-05  patience: 50  num_layers: 4  batch_size: 64  hidden_size: 8  dropout: 0.25 criterion: <function criterion2 at 0x0000017347E337F0>\n"
     ]
    },
    {
     "data": {
      "application/vnd.jupyter.widget-view+json": {
       "model_id": "bfcf7e496aed442499ab2f3482d3cf9c",
       "version_major": 2,
       "version_minor": 0
      },
      "text/plain": [
       "  0%|          | 0/10000 [00:00<?, ?it/s]"
      ]
     },
     "metadata": {},
     "output_type": "display_data"
    },
    {
     "name": "stdout",
     "output_type": "stream",
     "text": [
      "\n",
      " Early Stopping / epoch: 1857 loss: 0.010957\n",
      "----------------------------------------------------------------------------------------------------------\n",
      "lr: 1e-05  patience: 50  num_layers: 4  batch_size: 64  hidden_size: 8  dropout: 0.25 criterion: <function criterion3 at 0x0000017347E33880>\n"
     ]
    },
    {
     "data": {
      "application/vnd.jupyter.widget-view+json": {
       "model_id": "a1fc67770c884b9b86e721f103eb1fbc",
       "version_major": 2,
       "version_minor": 0
      },
      "text/plain": [
       "  0%|          | 0/10000 [00:00<?, ?it/s]"
      ]
     },
     "metadata": {},
     "output_type": "display_data"
    },
    {
     "name": "stdout",
     "output_type": "stream",
     "text": [
      "\n",
      " Early Stopping / epoch: 1729 loss: 0.002247\n",
      "----------------------------------------------------------------------------------------------------------\n",
      "lr: 1e-05  patience: 50  num_layers: 4  batch_size: 64  hidden_size: 8  dropout: 0.5 criterion: MSELoss()\n"
     ]
    },
    {
     "data": {
      "application/vnd.jupyter.widget-view+json": {
       "model_id": "cee87581bdab481eb5283a358c8ee1ec",
       "version_major": 2,
       "version_minor": 0
      },
      "text/plain": [
       "  0%|          | 0/10000 [00:00<?, ?it/s]"
      ]
     },
     "metadata": {},
     "output_type": "display_data"
    },
    {
     "name": "stdout",
     "output_type": "stream",
     "text": [
      "\n",
      " Early Stopping / epoch: 1533 loss: 0.000732\n",
      "----------------------------------------------------------------------------------------------------------\n",
      "lr: 1e-05  patience: 50  num_layers: 4  batch_size: 64  hidden_size: 8  dropout: 0.5 criterion: <function criterion2 at 0x0000017347E337F0>\n"
     ]
    },
    {
     "data": {
      "application/vnd.jupyter.widget-view+json": {
       "model_id": "70427af41f124405b04b3e9e930aa0ba",
       "version_major": 2,
       "version_minor": 0
      },
      "text/plain": [
       "  0%|          | 0/10000 [00:00<?, ?it/s]"
      ]
     },
     "metadata": {},
     "output_type": "display_data"
    },
    {
     "name": "stdout",
     "output_type": "stream",
     "text": [
      "\n",
      " Early Stopping / epoch: 1402 loss: 0.011415\n",
      "----------------------------------------------------------------------------------------------------------\n",
      "lr: 1e-05  patience: 50  num_layers: 4  batch_size: 64  hidden_size: 8  dropout: 0.5 criterion: <function criterion3 at 0x0000017347E33880>\n"
     ]
    },
    {
     "data": {
      "application/vnd.jupyter.widget-view+json": {
       "model_id": "3dc0d165603f41909a0ca5eef70ec918",
       "version_major": 2,
       "version_minor": 0
      },
      "text/plain": [
       "  0%|          | 0/10000 [00:00<?, ?it/s]"
      ]
     },
     "metadata": {},
     "output_type": "display_data"
    },
    {
     "name": "stdout",
     "output_type": "stream",
     "text": [
      "\n",
      " Early Stopping / epoch: 1691 loss: 0.002307\n",
      "----------------------------------------------------------------------------------------------------------\n",
      "lr: 1e-05  patience: 50  num_layers: 4  batch_size: 64  hidden_size: 16  dropout: 0.25 criterion: MSELoss()\n"
     ]
    },
    {
     "data": {
      "application/vnd.jupyter.widget-view+json": {
       "model_id": "dc3ca49eb5f0460ea685c9132c36c777",
       "version_major": 2,
       "version_minor": 0
      },
      "text/plain": [
       "  0%|          | 0/10000 [00:00<?, ?it/s]"
      ]
     },
     "metadata": {},
     "output_type": "display_data"
    },
    {
     "name": "stdout",
     "output_type": "stream",
     "text": [
      "\n",
      " Early Stopping / epoch: 1207 loss: 0.000690\n",
      "----------------------------------------------------------------------------------------------------------\n",
      "lr: 1e-05  patience: 50  num_layers: 4  batch_size: 64  hidden_size: 16  dropout: 0.25 criterion: <function criterion2 at 0x0000017347E337F0>\n"
     ]
    },
    {
     "data": {
      "application/vnd.jupyter.widget-view+json": {
       "model_id": "1965976ba5144231b86efe2c209ecf27",
       "version_major": 2,
       "version_minor": 0
      },
      "text/plain": [
       "  0%|          | 0/10000 [00:00<?, ?it/s]"
      ]
     },
     "metadata": {},
     "output_type": "display_data"
    },
    {
     "name": "stdout",
     "output_type": "stream",
     "text": [
      "\n",
      " Early Stopping / epoch: 1497 loss: 0.010133\n",
      "----------------------------------------------------------------------------------------------------------\n",
      "lr: 1e-05  patience: 50  num_layers: 4  batch_size: 64  hidden_size: 16  dropout: 0.25 criterion: <function criterion3 at 0x0000017347E33880>\n"
     ]
    },
    {
     "data": {
      "application/vnd.jupyter.widget-view+json": {
       "model_id": "d74d087a1a644253a4fc48dc91fed070",
       "version_major": 2,
       "version_minor": 0
      },
      "text/plain": [
       "  0%|          | 0/10000 [00:00<?, ?it/s]"
      ]
     },
     "metadata": {},
     "output_type": "display_data"
    },
    {
     "name": "stdout",
     "output_type": "stream",
     "text": [
      "\n",
      " Early Stopping / epoch: 1684 loss: 0.002043\n",
      "----------------------------------------------------------------------------------------------------------\n",
      "lr: 1e-05  patience: 50  num_layers: 4  batch_size: 64  hidden_size: 16  dropout: 0.5 criterion: MSELoss()\n"
     ]
    },
    {
     "data": {
      "application/vnd.jupyter.widget-view+json": {
       "model_id": "3d62bd7884b6407eaba512789c6d0526",
       "version_major": 2,
       "version_minor": 0
      },
      "text/plain": [
       "  0%|          | 0/10000 [00:00<?, ?it/s]"
      ]
     },
     "metadata": {},
     "output_type": "display_data"
    },
    {
     "name": "stdout",
     "output_type": "stream",
     "text": [
      "\n",
      " Early Stopping / epoch: 1049 loss: 0.000742\n",
      "----------------------------------------------------------------------------------------------------------\n",
      "lr: 1e-05  patience: 50  num_layers: 4  batch_size: 64  hidden_size: 16  dropout: 0.5 criterion: <function criterion2 at 0x0000017347E337F0>\n"
     ]
    },
    {
     "data": {
      "application/vnd.jupyter.widget-view+json": {
       "model_id": "1ab9a16f0d4242c4b1a61bf295a9d595",
       "version_major": 2,
       "version_minor": 0
      },
      "text/plain": [
       "  0%|          | 0/10000 [00:00<?, ?it/s]"
      ]
     },
     "metadata": {},
     "output_type": "display_data"
    },
    {
     "name": "stdout",
     "output_type": "stream",
     "text": [
      "\n",
      " Early Stopping / epoch: 1365 loss: 0.010714\n",
      "----------------------------------------------------------------------------------------------------------\n",
      "lr: 1e-05  patience: 50  num_layers: 4  batch_size: 64  hidden_size: 16  dropout: 0.5 criterion: <function criterion3 at 0x0000017347E33880>\n"
     ]
    },
    {
     "data": {
      "application/vnd.jupyter.widget-view+json": {
       "model_id": "c4889c12fed640fbb103bc99b14ffcca",
       "version_major": 2,
       "version_minor": 0
      },
      "text/plain": [
       "  0%|          | 0/10000 [00:00<?, ?it/s]"
      ]
     },
     "metadata": {},
     "output_type": "display_data"
    },
    {
     "name": "stdout",
     "output_type": "stream",
     "text": [
      "\n",
      " Early Stopping / epoch: 1414 loss: 0.002154\n",
      "----------------------------------------------------------------------------------------------------------\n",
      "lr: 1e-05  patience: 50  num_layers: 4  batch_size: 64  hidden_size: 32  dropout: 0.25 criterion: MSELoss()\n"
     ]
    },
    {
     "data": {
      "application/vnd.jupyter.widget-view+json": {
       "model_id": "0bbb8891d304493ca1ed0f2cb362ec7d",
       "version_major": 2,
       "version_minor": 0
      },
      "text/plain": [
       "  0%|          | 0/10000 [00:00<?, ?it/s]"
      ]
     },
     "metadata": {},
     "output_type": "display_data"
    },
    {
     "name": "stdout",
     "output_type": "stream",
     "text": [
      "\n",
      " Early Stopping / epoch: 664 loss: 0.000673\n",
      "----------------------------------------------------------------------------------------------------------\n",
      "lr: 1e-05  patience: 50  num_layers: 4  batch_size: 64  hidden_size: 32  dropout: 0.25 criterion: <function criterion2 at 0x0000017347E337F0>\n"
     ]
    },
    {
     "data": {
      "application/vnd.jupyter.widget-view+json": {
       "model_id": "b99c3f323e3047c8b28b37f74882af91",
       "version_major": 2,
       "version_minor": 0
      },
      "text/plain": [
       "  0%|          | 0/10000 [00:00<?, ?it/s]"
      ]
     },
     "metadata": {},
     "output_type": "display_data"
    },
    {
     "name": "stdout",
     "output_type": "stream",
     "text": [
      "\n",
      " Early Stopping / epoch: 1460 loss: 0.009169\n",
      "----------------------------------------------------------------------------------------------------------\n",
      "lr: 1e-05  patience: 50  num_layers: 4  batch_size: 64  hidden_size: 32  dropout: 0.25 criterion: <function criterion3 at 0x0000017347E33880>\n"
     ]
    },
    {
     "data": {
      "application/vnd.jupyter.widget-view+json": {
       "model_id": "77d3b68bf6074b38946d31a8e102b7e7",
       "version_major": 2,
       "version_minor": 0
      },
      "text/plain": [
       "  0%|          | 0/10000 [00:00<?, ?it/s]"
      ]
     },
     "metadata": {},
     "output_type": "display_data"
    },
    {
     "name": "stdout",
     "output_type": "stream",
     "text": [
      "\n",
      " Early Stopping / epoch: 964 loss: 0.002038\n",
      "----------------------------------------------------------------------------------------------------------\n",
      "lr: 1e-05  patience: 50  num_layers: 4  batch_size: 64  hidden_size: 32  dropout: 0.5 criterion: MSELoss()\n"
     ]
    },
    {
     "data": {
      "application/vnd.jupyter.widget-view+json": {
       "model_id": "5d3be3a768494dc8b23e4491d7611c8d",
       "version_major": 2,
       "version_minor": 0
      },
      "text/plain": [
       "  0%|          | 0/10000 [00:00<?, ?it/s]"
      ]
     },
     "metadata": {},
     "output_type": "display_data"
    },
    {
     "name": "stdout",
     "output_type": "stream",
     "text": [
      "\n",
      " Early Stopping / epoch: 917 loss: 0.000722\n",
      "----------------------------------------------------------------------------------------------------------\n",
      "lr: 1e-05  patience: 50  num_layers: 4  batch_size: 64  hidden_size: 32  dropout: 0.5 criterion: <function criterion2 at 0x0000017347E337F0>\n"
     ]
    },
    {
     "data": {
      "application/vnd.jupyter.widget-view+json": {
       "model_id": "f78e2107a74746e390e46889890eff70",
       "version_major": 2,
       "version_minor": 0
      },
      "text/plain": [
       "  0%|          | 0/10000 [00:00<?, ?it/s]"
      ]
     },
     "metadata": {},
     "output_type": "display_data"
    },
    {
     "name": "stdout",
     "output_type": "stream",
     "text": [
      "\n",
      " Early Stopping / epoch: 1539 loss: 0.009571\n",
      "----------------------------------------------------------------------------------------------------------\n",
      "lr: 1e-05  patience: 50  num_layers: 4  batch_size: 64  hidden_size: 32  dropout: 0.5 criterion: <function criterion3 at 0x0000017347E33880>\n"
     ]
    },
    {
     "data": {
      "application/vnd.jupyter.widget-view+json": {
       "model_id": "80e5b049667543aeb23eb6fa4801e184",
       "version_major": 2,
       "version_minor": 0
      },
      "text/plain": [
       "  0%|          | 0/10000 [00:00<?, ?it/s]"
      ]
     },
     "metadata": {},
     "output_type": "display_data"
    },
    {
     "name": "stdout",
     "output_type": "stream",
     "text": [
      "\n",
      " Early Stopping / epoch: 908 loss: 0.002183\n",
      "----------------------------------------------------------------------------------------------------------\n",
      "lr: 1e-05  patience: 50  num_layers: 4  batch_size: 128  hidden_size: 8  dropout: 0.25 criterion: MSELoss()\n"
     ]
    },
    {
     "data": {
      "application/vnd.jupyter.widget-view+json": {
       "model_id": "4abb2eae38ae4a4a94225532575ccb52",
       "version_major": 2,
       "version_minor": 0
      },
      "text/plain": [
       "  0%|          | 0/10000 [00:00<?, ?it/s]"
      ]
     },
     "metadata": {},
     "output_type": "display_data"
    },
    {
     "name": "stdout",
     "output_type": "stream",
     "text": [
      "\n",
      " Early Stopping / epoch: 2067 loss: 0.000707\n",
      "----------------------------------------------------------------------------------------------------------\n",
      "lr: 1e-05  patience: 50  num_layers: 4  batch_size: 128  hidden_size: 8  dropout: 0.25 criterion: <function criterion2 at 0x0000017347E337F0>\n"
     ]
    },
    {
     "data": {
      "application/vnd.jupyter.widget-view+json": {
       "model_id": "a03ec154ca33422dbac93bb24e1c9dd6",
       "version_major": 2,
       "version_minor": 0
      },
      "text/plain": [
       "  0%|          | 0/10000 [00:00<?, ?it/s]"
      ]
     },
     "metadata": {},
     "output_type": "display_data"
    },
    {
     "name": "stdout",
     "output_type": "stream",
     "text": [
      "\n",
      " Early Stopping / epoch: 2020 loss: 0.011934\n",
      "----------------------------------------------------------------------------------------------------------\n",
      "lr: 1e-05  patience: 50  num_layers: 4  batch_size: 128  hidden_size: 8  dropout: 0.25 criterion: <function criterion3 at 0x0000017347E33880>\n"
     ]
    },
    {
     "data": {
      "application/vnd.jupyter.widget-view+json": {
       "model_id": "9a8dd66eb0694b6c92f8c6b2a4b850a0",
       "version_major": 2,
       "version_minor": 0
      },
      "text/plain": [
       "  0%|          | 0/10000 [00:00<?, ?it/s]"
      ]
     },
     "metadata": {},
     "output_type": "display_data"
    },
    {
     "name": "stdout",
     "output_type": "stream",
     "text": [
      "\n",
      " Early Stopping / epoch: 1608 loss: 0.001854\n",
      "----------------------------------------------------------------------------------------------------------\n",
      "lr: 1e-05  patience: 50  num_layers: 4  batch_size: 128  hidden_size: 8  dropout: 0.5 criterion: MSELoss()\n"
     ]
    },
    {
     "data": {
      "application/vnd.jupyter.widget-view+json": {
       "model_id": "8b720ef282bf460bbea1657adf5e9552",
       "version_major": 2,
       "version_minor": 0
      },
      "text/plain": [
       "  0%|          | 0/10000 [00:00<?, ?it/s]"
      ]
     },
     "metadata": {},
     "output_type": "display_data"
    },
    {
     "name": "stdout",
     "output_type": "stream",
     "text": [
      "\n",
      " Early Stopping / epoch: 3006 loss: 0.000682\n",
      "----------------------------------------------------------------------------------------------------------\n",
      "lr: 1e-05  patience: 50  num_layers: 4  batch_size: 128  hidden_size: 8  dropout: 0.5 criterion: <function criterion2 at 0x0000017347E337F0>\n"
     ]
    },
    {
     "data": {
      "application/vnd.jupyter.widget-view+json": {
       "model_id": "fd7c1c22a4954a04bba7c3b1cff744a0",
       "version_major": 2,
       "version_minor": 0
      },
      "text/plain": [
       "  0%|          | 0/10000 [00:00<?, ?it/s]"
      ]
     },
     "metadata": {},
     "output_type": "display_data"
    },
    {
     "name": "stdout",
     "output_type": "stream",
     "text": [
      "\n",
      " Early Stopping / epoch: 2107 loss: 0.011726\n",
      "----------------------------------------------------------------------------------------------------------\n",
      "lr: 1e-05  patience: 50  num_layers: 4  batch_size: 128  hidden_size: 8  dropout: 0.5 criterion: <function criterion3 at 0x0000017347E33880>\n"
     ]
    },
    {
     "data": {
      "application/vnd.jupyter.widget-view+json": {
       "model_id": "a5ed1224cc7e4869939a8d235efe6bae",
       "version_major": 2,
       "version_minor": 0
      },
      "text/plain": [
       "  0%|          | 0/10000 [00:00<?, ?it/s]"
      ]
     },
     "metadata": {},
     "output_type": "display_data"
    },
    {
     "name": "stdout",
     "output_type": "stream",
     "text": [
      "\n",
      " Early Stopping / epoch: 1822 loss: 0.002059\n",
      "----------------------------------------------------------------------------------------------------------\n",
      "lr: 1e-05  patience: 50  num_layers: 4  batch_size: 128  hidden_size: 16  dropout: 0.25 criterion: MSELoss()\n"
     ]
    },
    {
     "data": {
      "application/vnd.jupyter.widget-view+json": {
       "model_id": "dee936f350fb469890bc4c7144010a2b",
       "version_major": 2,
       "version_minor": 0
      },
      "text/plain": [
       "  0%|          | 0/10000 [00:00<?, ?it/s]"
      ]
     },
     "metadata": {},
     "output_type": "display_data"
    },
    {
     "name": "stdout",
     "output_type": "stream",
     "text": [
      "\n",
      " Early Stopping / epoch: 1326 loss: 0.000656\n",
      "----------------------------------------------------------------------------------------------------------\n",
      "lr: 1e-05  patience: 50  num_layers: 4  batch_size: 128  hidden_size: 16  dropout: 0.25 criterion: <function criterion2 at 0x0000017347E337F0>\n"
     ]
    },
    {
     "data": {
      "application/vnd.jupyter.widget-view+json": {
       "model_id": "5c641f7f3296413988dcebeb1a76c1dc",
       "version_major": 2,
       "version_minor": 0
      },
      "text/plain": [
       "  0%|          | 0/10000 [00:00<?, ?it/s]"
      ]
     },
     "metadata": {},
     "output_type": "display_data"
    },
    {
     "name": "stdout",
     "output_type": "stream",
     "text": [
      "\n",
      " Early Stopping / epoch: 1379 loss: 0.010087\n",
      "----------------------------------------------------------------------------------------------------------\n",
      "lr: 1e-05  patience: 50  num_layers: 4  batch_size: 128  hidden_size: 16  dropout: 0.25 criterion: <function criterion3 at 0x0000017347E33880>\n"
     ]
    },
    {
     "data": {
      "application/vnd.jupyter.widget-view+json": {
       "model_id": "b022b1b1ecf244c0823abaa2eb7f758b",
       "version_major": 2,
       "version_minor": 0
      },
      "text/plain": [
       "  0%|          | 0/10000 [00:00<?, ?it/s]"
      ]
     },
     "metadata": {},
     "output_type": "display_data"
    },
    {
     "name": "stdout",
     "output_type": "stream",
     "text": [
      "\n",
      " Early Stopping / epoch: 2005 loss: 0.001673\n",
      "----------------------------------------------------------------------------------------------------------\n",
      "lr: 1e-05  patience: 50  num_layers: 4  batch_size: 128  hidden_size: 16  dropout: 0.5 criterion: MSELoss()\n"
     ]
    },
    {
     "data": {
      "application/vnd.jupyter.widget-view+json": {
       "model_id": "e67e83c801b74e1fb662be67cc1f4a3c",
       "version_major": 2,
       "version_minor": 0
      },
      "text/plain": [
       "  0%|          | 0/10000 [00:00<?, ?it/s]"
      ]
     },
     "metadata": {},
     "output_type": "display_data"
    },
    {
     "name": "stdout",
     "output_type": "stream",
     "text": [
      "\n",
      " Early Stopping / epoch: 2209 loss: 0.000686\n",
      "----------------------------------------------------------------------------------------------------------\n",
      "lr: 1e-05  patience: 50  num_layers: 4  batch_size: 128  hidden_size: 16  dropout: 0.5 criterion: <function criterion2 at 0x0000017347E337F0>\n"
     ]
    },
    {
     "data": {
      "application/vnd.jupyter.widget-view+json": {
       "model_id": "0a177f8cfcee4853bd63db3f301ce941",
       "version_major": 2,
       "version_minor": 0
      },
      "text/plain": [
       "  0%|          | 0/10000 [00:00<?, ?it/s]"
      ]
     },
     "metadata": {},
     "output_type": "display_data"
    },
    {
     "name": "stdout",
     "output_type": "stream",
     "text": [
      "\n",
      " Early Stopping / epoch: 1560 loss: 0.011055\n",
      "----------------------------------------------------------------------------------------------------------\n",
      "lr: 1e-05  patience: 50  num_layers: 4  batch_size: 128  hidden_size: 16  dropout: 0.5 criterion: <function criterion3 at 0x0000017347E33880>\n"
     ]
    },
    {
     "data": {
      "application/vnd.jupyter.widget-view+json": {
       "model_id": "e04657bd25354f86889ab2697f9cf989",
       "version_major": 2,
       "version_minor": 0
      },
      "text/plain": [
       "  0%|          | 0/10000 [00:00<?, ?it/s]"
      ]
     },
     "metadata": {},
     "output_type": "display_data"
    },
    {
     "name": "stdout",
     "output_type": "stream",
     "text": [
      "\n",
      " Early Stopping / epoch: 1670 loss: 0.001858\n",
      "----------------------------------------------------------------------------------------------------------\n",
      "lr: 1e-05  patience: 50  num_layers: 4  batch_size: 128  hidden_size: 32  dropout: 0.25 criterion: MSELoss()\n"
     ]
    },
    {
     "data": {
      "application/vnd.jupyter.widget-view+json": {
       "model_id": "9627d2e3225d48ec998f2a7e727a64fa",
       "version_major": 2,
       "version_minor": 0
      },
      "text/plain": [
       "  0%|          | 0/10000 [00:00<?, ?it/s]"
      ]
     },
     "metadata": {},
     "output_type": "display_data"
    },
    {
     "name": "stdout",
     "output_type": "stream",
     "text": [
      "\n",
      " Early Stopping / epoch: 1003 loss: 0.000636\n",
      "----------------------------------------------------------------------------------------------------------\n",
      "lr: 1e-05  patience: 50  num_layers: 4  batch_size: 128  hidden_size: 32  dropout: 0.25 criterion: <function criterion2 at 0x0000017347E337F0>\n"
     ]
    },
    {
     "data": {
      "application/vnd.jupyter.widget-view+json": {
       "model_id": "24ba4c01ed314f4a82f5416a70741b46",
       "version_major": 2,
       "version_minor": 0
      },
      "text/plain": [
       "  0%|          | 0/10000 [00:00<?, ?it/s]"
      ]
     },
     "metadata": {},
     "output_type": "display_data"
    },
    {
     "name": "stdout",
     "output_type": "stream",
     "text": [
      "\n",
      " Early Stopping / epoch: 1477 loss: 0.009343\n",
      "----------------------------------------------------------------------------------------------------------\n",
      "lr: 1e-05  patience: 50  num_layers: 4  batch_size: 128  hidden_size: 32  dropout: 0.25 criterion: <function criterion3 at 0x0000017347E33880>\n"
     ]
    },
    {
     "data": {
      "application/vnd.jupyter.widget-view+json": {
       "model_id": "c1b4f1f5fad84e158bf7e043bbdc9f03",
       "version_major": 2,
       "version_minor": 0
      },
      "text/plain": [
       "  0%|          | 0/10000 [00:00<?, ?it/s]"
      ]
     },
     "metadata": {},
     "output_type": "display_data"
    },
    {
     "name": "stdout",
     "output_type": "stream",
     "text": [
      "\n",
      " Early Stopping / epoch: 1444 loss: 0.001635\n",
      "----------------------------------------------------------------------------------------------------------\n",
      "lr: 1e-05  patience: 50  num_layers: 4  batch_size: 128  hidden_size: 32  dropout: 0.5 criterion: MSELoss()\n"
     ]
    },
    {
     "data": {
      "application/vnd.jupyter.widget-view+json": {
       "model_id": "bd9bb0aa2d82466493e7e3db2e63674f",
       "version_major": 2,
       "version_minor": 0
      },
      "text/plain": [
       "  0%|          | 0/10000 [00:00<?, ?it/s]"
      ]
     },
     "metadata": {},
     "output_type": "display_data"
    },
    {
     "name": "stdout",
     "output_type": "stream",
     "text": [
      "\n",
      " Early Stopping / epoch: 1259 loss: 0.000654\n",
      "----------------------------------------------------------------------------------------------------------\n",
      "lr: 1e-05  patience: 50  num_layers: 4  batch_size: 128  hidden_size: 32  dropout: 0.5 criterion: <function criterion2 at 0x0000017347E337F0>\n"
     ]
    },
    {
     "data": {
      "application/vnd.jupyter.widget-view+json": {
       "model_id": "e381fb39afe54e6fbf66b69b88204e86",
       "version_major": 2,
       "version_minor": 0
      },
      "text/plain": [
       "  0%|          | 0/10000 [00:00<?, ?it/s]"
      ]
     },
     "metadata": {},
     "output_type": "display_data"
    },
    {
     "name": "stdout",
     "output_type": "stream",
     "text": [
      "\n",
      " Early Stopping / epoch: 1269 loss: 0.010319\n",
      "----------------------------------------------------------------------------------------------------------\n",
      "lr: 1e-05  patience: 50  num_layers: 4  batch_size: 128  hidden_size: 32  dropout: 0.5 criterion: <function criterion3 at 0x0000017347E33880>\n"
     ]
    },
    {
     "data": {
      "application/vnd.jupyter.widget-view+json": {
       "model_id": "20a5f03e2e494b03879293e3b78663df",
       "version_major": 2,
       "version_minor": 0
      },
      "text/plain": [
       "  0%|          | 0/10000 [00:00<?, ?it/s]"
      ]
     },
     "metadata": {},
     "output_type": "display_data"
    },
    {
     "name": "stdout",
     "output_type": "stream",
     "text": [
      "\n",
      " Early Stopping / epoch: 797 loss: 0.001816\n"
     ]
    }
   ],
   "source": [
    "input_size = 3\n",
    "sequence_length = 60\n",
    "num_epochs = 10000\n",
    "\n",
    "df = Prepare_df.processing(data, 'Date', 'alpha')\n",
    "\n",
    "x = df.iloc[:, 0:]\n",
    "y = df.iloc[:,:1]\n",
    "\n",
    "ms = MinMaxScaler()\n",
    "ss = StandardScaler()\n",
    "\n",
    "ss.fit(x)\n",
    "ms.fit(y)\n",
    "\n",
    "mape_min = np.inf\n",
    "best_model = {}\n",
    "\n",
    "for hyperparameter in tqdm(hyperparameter_dict.values(), desc = '서울_seq2seq_RNN', position = 0):\n",
    "    lr = hyperparameter[0]\n",
    "    patience = hyperparameter[1]\n",
    "    num_layers = hyperparameter[2]\n",
    "    batch_size = hyperparameter[3]\n",
    "    hidden_size = hyperparameter[4]\n",
    "    dropout = hyperparameter[5]\n",
    "    criterion = hyperparameter[6]\n",
    "    print('----------------------------------------------------------------------------------------------------------')\n",
    "    print('lr:', lr, ' patience:', patience, ' num_layers:', num_layers, \n",
    "          ' batch_size:', batch_size, ' hidden_size:', hidden_size, ' dropout:', dropout, 'criterion:', criterion)\n",
    "    \n",
    "    x, y, x_ss, y_ms, train_loader, test_loader = Prepare_df.split_data(df, 800, 60, 7, batch_size, 'mtm')\n",
    "    \n",
    "\n",
    "    model = RNN_encoder_decoder(input_size = input_size,\n",
    "                                hidden_size = hidden_size,\n",
    "                                num_layers = num_layers, \n",
    "                                dropout = dropout, \n",
    "                                device = device).to(device)\n",
    "\n",
    "    optimizer = Adam(model.parameters(), lr = lr)\n",
    "    \n",
    "    loss_list, model, epoch = Trainer.Many_to_Many(train_loader, \n",
    "                                                   test_loader, \n",
    "                                                   model, \n",
    "                                                   criterion, \n",
    "                                                   optimizer, \n",
    "                                                   num_epochs, \n",
    "                                                   patience,\n",
    "                                                   device)\n",
    "    \n",
    "    label_y, predicted, first_label_y, first_predicted = predict_mtm(model, df, x_ss, y_ms, 1151, 7, 0.5, device)\n",
    "    \n",
    "    if mape_min > mape(label_y+1, predicted):\n",
    "        mape_min = mape(label_y+1, predicted)\n",
    "        best_model['seq2seq_RNN'] = [mape_min, model, loss_list, epoch, lr, patience, \n",
    "                                     num_layers, batch_size, hidden_size, dropout, criterion]"
   ]
  },
  {
   "cell_type": "code",
   "execution_count": 5,
   "id": "b3def9be",
   "metadata": {
    "ExecuteTime": {
     "end_time": "2023-06-04T07:25:06.856318Z",
     "start_time": "2023-06-04T07:25:06.842356Z"
    }
   },
   "outputs": [
    {
     "data": {
      "text/plain": [
       "{'seq2seq_RNN': [95.46855688095093,\n",
       "  RNN_encoder_decoder(\n",
       "    (RNN_encoder): RNN_encoder(\n",
       "      (rnn): RNN(3, 8, num_layers=4, batch_first=True, dropout=0.25)\n",
       "    )\n",
       "    (RNN_decoder): RNN_decoder(\n",
       "      (rnn): RNN(3, 8, num_layers=4, batch_first=True, dropout=0.25)\n",
       "      (linear): Linear(in_features=8, out_features=1, bias=True)\n",
       "    )\n",
       "  ),\n",
       "  [0.20147600982870376,\n",
       "   0.19804940479142324,\n",
       "   0.1921416414635522,\n",
       "   0.19642817548343114,\n",
       "   0.19155011858258927,\n",
       "   0.19104415391172683,\n",
       "   0.1900159525019782,\n",
       "   0.19084051038537705,\n",
       "   0.18951299147946493,\n",
       "   0.18559993377753667,\n",
       "   0.18702297125543868,\n",
       "   0.18088103830814362,\n",
       "   0.1816053624664034,\n",
       "   0.17863293843609945,\n",
       "   0.18036448316914694,\n",
       "   0.1769539096525737,\n",
       "   0.17561760544776917,\n",
       "   0.1754122248717717,\n",
       "   0.1732626450913293,\n",
       "   0.17322013420718058,\n",
       "   0.1708019013915743,\n",
       "   0.17052944004535675,\n",
       "   0.17254026447023665,\n",
       "   0.16791677262101853,\n",
       "   0.17054449660437448,\n",
       "   0.16439105357442582,\n",
       "   0.16249456788812364,\n",
       "   0.16237692534923553,\n",
       "   0.16283751598426274,\n",
       "   0.15870388277939387,\n",
       "   0.16062481914247786,\n",
       "   0.15741102184568131,\n",
       "   0.15510401555470057,\n",
       "   0.15452814740794046,\n",
       "   0.1562964426619666,\n",
       "   0.15385899160589492,\n",
       "   0.15289627015590668,\n",
       "   0.15233407701764787,\n",
       "   0.1485812749181475,\n",
       "   0.14873364780630385,\n",
       "   0.1474016500370843,\n",
       "   0.14699931016990117,\n",
       "   0.1431379701410021,\n",
       "   0.14407822063991002,\n",
       "   0.14446049077170237,\n",
       "   0.141104234116418,\n",
       "   0.13965620951993124,\n",
       "   0.13816863085542405,\n",
       "   0.137343915445464,\n",
       "   0.1363455546753747,\n",
       "   0.1372814987386976,\n",
       "   0.13228334273610795,\n",
       "   0.1339395365544728,\n",
       "   0.1309314583029066,\n",
       "   0.13341851851769856,\n",
       "   0.131831950375012,\n",
       "   0.12913061252662114,\n",
       "   0.12904587175164903,\n",
       "   0.12467992305755615,\n",
       "   0.12604246394974844,\n",
       "   0.12660527974367142,\n",
       "   0.12166102762733187,\n",
       "   0.1221670891557421,\n",
       "   0.12085864160742078,\n",
       "   0.12418293314320701,\n",
       "   0.11861864583832878,\n",
       "   0.11705668696335383,\n",
       "   0.1145535483956337,\n",
       "   0.11657751564468656,\n",
       "   0.11534593999385834,\n",
       "   0.11641992947884969,\n",
       "   0.11269338428974152,\n",
       "   0.11320535732167107,\n",
       "   0.1115632142339434,\n",
       "   0.1108413775052343,\n",
       "   0.10982775262423924,\n",
       "   0.1092091788138662,\n",
       "   0.107889039175851,\n",
       "   0.10743947327136993,\n",
       "   0.1057283559015819,\n",
       "   0.10600364421095167,\n",
       "   0.1030499626483236,\n",
       "   0.10233759773629052,\n",
       "   0.10198662323611123,\n",
       "   0.10126325062343053,\n",
       "   0.09883536185537066,\n",
       "   0.10097992313759667,\n",
       "   0.09610129360641752,\n",
       "   0.09637266184602465,\n",
       "   0.09453344770840236,\n",
       "   0.09531348943710327,\n",
       "   0.09581375334944044,\n",
       "   0.09266571274825505,\n",
       "   0.09302580888782229,\n",
       "   0.09012617702995028,\n",
       "   0.08950744995049068,\n",
       "   0.08867051984582629,\n",
       "   0.08762221783399582,\n",
       "   0.0887923932501248,\n",
       "   0.08662478838648115,\n",
       "   0.08796978954757963,\n",
       "   0.08719492384365626,\n",
       "   0.0838728855763163,\n",
       "   0.08559627405234746,\n",
       "   0.08292905454124723,\n",
       "   0.0808210191982133,\n",
       "   0.08201009460857936,\n",
       "   0.08115702441760472,\n",
       "   0.08303780215127128,\n",
       "   0.07969798679862704,\n",
       "   0.07888818000044141,\n",
       "   0.07840270123311452,\n",
       "   0.07860147846596581,\n",
       "   0.0760706290602684,\n",
       "   0.07757217649902616,\n",
       "   0.07594283138002668,\n",
       "   0.07394081034830638,\n",
       "   0.07377807370253972,\n",
       "   0.07306449115276337,\n",
       "   0.07055910783154624,\n",
       "   0.07111041460718427,\n",
       "   0.07208691537380219,\n",
       "   0.06931810400315694,\n",
       "   0.06997366462435041,\n",
       "   0.07031950248139245,\n",
       "   0.0667666420340538,\n",
       "   0.0653879355107035,\n",
       "   0.06709887938840049,\n",
       "   0.06725740219865527,\n",
       "   0.06453830642359597,\n",
       "   0.06455332040786743,\n",
       "   0.06557634153536387,\n",
       "   0.06193359249404499,\n",
       "   0.06306215269224984,\n",
       "   0.06143955513834953,\n",
       "   0.06248452301536288,\n",
       "   0.06163253794823374,\n",
       "   0.0594758258334228,\n",
       "   0.05855788343719074,\n",
       "   0.05694530372108732,\n",
       "   0.05564600069608007,\n",
       "   0.05780230781861714,\n",
       "   0.05807540512510708,\n",
       "   0.05523719106401716,\n",
       "   0.05774375743099621,\n",
       "   0.055281263909169605,\n",
       "   0.0544058909373624,\n",
       "   0.05334492080977985,\n",
       "   0.05381357137645994,\n",
       "   0.05458749138883182,\n",
       "   0.052609561277287345,\n",
       "   0.050399866487298696,\n",
       "   0.04957258967416627,\n",
       "   0.049040506460836956,\n",
       "   0.04955667470182691,\n",
       "   0.049026262547288625,\n",
       "   0.04798482518110957,\n",
       "   0.04832072449581964,\n",
       "   0.04880911910108158,\n",
       "   0.046350739896297455,\n",
       "   0.04641190064804895,\n",
       "   0.046211368803467066,\n",
       "   0.046988104070935933,\n",
       "   0.045398062361138206,\n",
       "   0.04425290918775967,\n",
       "   0.0446207443518298,\n",
       "   0.042290503957441876,\n",
       "   0.04479945717113359,\n",
       "   0.04426828346082142,\n",
       "   0.04256186953612736,\n",
       "   0.04321173046316419,\n",
       "   0.04202030226588249,\n",
       "   0.03937534083213125,\n",
       "   0.04001945789371218,\n",
       "   0.03920604820762362,\n",
       "   0.039515507008348195,\n",
       "   0.03881295451096126,\n",
       "   0.04032028785773686,\n",
       "   0.037766615727118084,\n",
       "   0.03840778448751995,\n",
       "   0.03662961455328124,\n",
       "   0.036625511412109645,\n",
       "   0.03651815812502589,\n",
       "   0.03695548378995487,\n",
       "   0.034609953207629066,\n",
       "   0.03531510968293462,\n",
       "   0.03555691561528614,\n",
       "   0.03404063758041177,\n",
       "   0.03497445210814476,\n",
       "   0.03312942013144493,\n",
       "   0.03240258166832583,\n",
       "   0.03312804629760129,\n",
       "   0.03155207793627467,\n",
       "   0.03237491713038513,\n",
       "   0.03161534374313695,\n",
       "   0.031285506806203296,\n",
       "   0.030642849526235034,\n",
       "   0.03082365702305521,\n",
       "   0.031089227912681445,\n",
       "   0.030900284914033755,\n",
       "   0.03016457413988454,\n",
       "   0.02975471956389291,\n",
       "   0.02942956584904875,\n",
       "   0.029595347653542246,\n",
       "   0.029791881729449545,\n",
       "   0.028624398367745534,\n",
       "   0.027013338303991725,\n",
       "   0.02854459865817002,\n",
       "   0.026533637728009905,\n",
       "   0.02791364145066057,\n",
       "   0.026945112805281366,\n",
       "   0.026986181203808104,\n",
       "   0.026329214019434794,\n",
       "   0.025111960247159004,\n",
       "   0.02528019329266889,\n",
       "   0.026339706033468246,\n",
       "   0.026297756869878088,\n",
       "   0.02503967923777444,\n",
       "   0.024102118398462023,\n",
       "   0.02456207200884819,\n",
       "   0.023716729134321213,\n",
       "   0.025813080104334012,\n",
       "   0.024678115067737445,\n",
       "   0.024498095735907555,\n",
       "   0.022124180304152623,\n",
       "   0.02145940437912941,\n",
       "   0.022696593510253087,\n",
       "   0.023056734885488237,\n",
       "   0.022319492218749865,\n",
       "   0.022092548332044055,\n",
       "   0.02138355134853295,\n",
       "   0.02132368353860719,\n",
       "   0.022160852061850683,\n",
       "   0.0216421868119921,\n",
       "   0.021022703232509748,\n",
       "   0.019627224653959274,\n",
       "   0.020795849284955432,\n",
       "   0.020350608974695206,\n",
       "   0.02030141997550215,\n",
       "   0.020418820636613027,\n",
       "   0.02038035249071462,\n",
       "   0.018601890121187483,\n",
       "   0.018881959707609246,\n",
       "   0.01962480028825147,\n",
       "   0.01929271700126784,\n",
       "   0.019673900412661687,\n",
       "   0.019518656922238215,\n",
       "   0.01869338484747069,\n",
       "   0.019149863560284888,\n",
       "   0.017499931954911778,\n",
       "   0.01751111208328179,\n",
       "   0.01781777585191386,\n",
       "   0.017191918433776925,\n",
       "   0.017487116158008575,\n",
       "   0.01804252341389656,\n",
       "   0.018143678616200174,\n",
       "   0.01756430390690054,\n",
       "   0.017317101625459536,\n",
       "   0.01655215211212635,\n",
       "   0.01689004951289722,\n",
       "   0.017172811419836113,\n",
       "   0.016962116983320032,\n",
       "   0.016655166101242815,\n",
       "   0.016267187228160247,\n",
       "   0.01566522249153682,\n",
       "   0.016673949813204154,\n",
       "   0.016573582642844746,\n",
       "   0.016781182560537542,\n",
       "   0.01614425823624645,\n",
       "   0.01534130730267082,\n",
       "   0.015580087501023496,\n",
       "   0.016192479990422726,\n",
       "   0.015643898397684097,\n",
       "   0.014240585932774203,\n",
       "   0.014662996333624636,\n",
       "   0.014879375962274415,\n",
       "   0.015587103686162404,\n",
       "   0.015099860328648771,\n",
       "   0.014586200006306171,\n",
       "   0.014662979170680046,\n",
       "   0.014652289982352937,\n",
       "   0.014575062053544181,\n",
       "   0.014548357043947493,\n",
       "   0.014457499475351401,\n",
       "   0.013644396992666381,\n",
       "   0.014824897050857544,\n",
       "   0.014400560674922807,\n",
       "   0.014469446082200323,\n",
       "   0.01400447849716459,\n",
       "   0.01330959131675107,\n",
       "   0.013479938464505332,\n",
       "   0.013389627316168376,\n",
       "   0.013637630801115717,\n",
       "   0.013022512197494507,\n",
       "   0.013546692340501718,\n",
       "   0.013688062051577228,\n",
       "   0.013127217734498637,\n",
       "   0.013204127284032958,\n",
       "   0.013384682392435414,\n",
       "   0.013986141287854739,\n",
       "   0.012744457993124212,\n",
       "   0.012758323124476842,\n",
       "   0.012225522925811154,\n",
       "   0.012498263801847185,\n",
       "   0.012947486048298222,\n",
       "   0.012299703301063605,\n",
       "   0.012374599198145526,\n",
       "   0.012674120121768542,\n",
       "   0.01230223969157253,\n",
       "   0.012305356695183687,\n",
       "   0.011882019761417593,\n",
       "   0.012662041799298354,\n",
       "   0.012384591491094657,\n",
       "   0.011974642186292581,\n",
       "   0.011961557636303561,\n",
       "   0.012363892846873828,\n",
       "   0.011853301365460669,\n",
       "   0.011872638815215655,\n",
       "   0.011652484935309206,\n",
       "   0.011510473942118031,\n",
       "   0.011464550159871578,\n",
       "   0.01193062894578491,\n",
       "   0.012243997305631638,\n",
       "   0.012283920177391596,\n",
       "   0.011658091763300555,\n",
       "   0.011360061088843005,\n",
       "   0.011160473472305707,\n",
       "   0.011150779468672616,\n",
       "   0.01126023568212986,\n",
       "   0.011944407597184181,\n",
       "   0.011879959542836462,\n",
       "   0.011689532548189163,\n",
       "   0.011733846472842353,\n",
       "   0.011448441472436701,\n",
       "   0.011036780928926808,\n",
       "   0.011219962100897516,\n",
       "   0.011188729267035211,\n",
       "   0.010857364029756613,\n",
       "   0.010675478992717606,\n",
       "   0.011273109487124853,\n",
       "   0.011226145683654718,\n",
       "   0.010382765704499823,\n",
       "   0.01154486701956817,\n",
       "   0.011285093746015004,\n",
       "   0.010702608419316155,\n",
       "   0.01093800166355712,\n",
       "   0.010930454624550683,\n",
       "   0.010696236975491047,\n",
       "   0.010741757228970528,\n",
       "   0.010956699294703347,\n",
       "   0.010798813642135687,\n",
       "   0.01080738300723689,\n",
       "   0.011066508346370288,\n",
       "   0.010184298469019788,\n",
       "   0.010710518541080611,\n",
       "   0.01034911030105182,\n",
       "   0.010933327488601208,\n",
       "   0.010595947770135743,\n",
       "   0.00994255074432918,\n",
       "   0.010335210976856095,\n",
       "   0.010037147573062353,\n",
       "   0.010455291452152389,\n",
       "   0.010594425589910575,\n",
       "   0.010270440950989723,\n",
       "   0.01033873057791165,\n",
       "   0.010633211582899094,\n",
       "   0.010318750914718424,\n",
       "   0.010418999807110854,\n",
       "   0.010195474273392133,\n",
       "   0.010772177550409521,\n",
       "   0.010288068625543798,\n",
       "   0.010269822818892342,\n",
       "   0.009947504981287889,\n",
       "   0.010116098315588065,\n",
       "   0.010186688043177128,\n",
       "   0.00989215515021767,\n",
       "   0.010328457823821477,\n",
       "   0.00930027969713722,\n",
       "   0.010126073046454362,\n",
       "   0.009987441290702139,\n",
       "   0.009859188725905759,\n",
       "   0.010378368331917695,\n",
       "   0.009941241703927517,\n",
       "   0.009771493396588735,\n",
       "   0.01002900701548372,\n",
       "   0.009717582858034543,\n",
       "   0.010197136018957411,\n",
       "   0.009875212662986346,\n",
       "   0.009808229548590524,\n",
       "   0.010011647561831134,\n",
       "   0.009842169604131154,\n",
       "   0.009974769848798002,\n",
       "   0.00945493086640324,\n",
       "   0.009570229665509291,\n",
       "   0.009679863761578287,\n",
       "   0.009892189343060766,\n",
       "   0.009971874499959605,\n",
       "   0.0097336954038058,\n",
       "   0.009402498469821044],\n",
       "  398,\n",
       "  1e-05,\n",
       "  20,\n",
       "  4,\n",
       "  128,\n",
       "  8,\n",
       "  0.25,\n",
       "  MSELoss()]}"
      ]
     },
     "execution_count": 5,
     "metadata": {},
     "output_type": "execute_result"
    }
   ],
   "source": [
    "best_model"
   ]
  },
  {
   "cell_type": "code",
   "execution_count": 6,
   "id": "68715739",
   "metadata": {
    "ExecuteTime": {
     "end_time": "2023-06-04T07:25:06.872276Z",
     "start_time": "2023-06-04T07:25:06.858313Z"
    }
   },
   "outputs": [],
   "source": [
    "save_model(best_model['seq2seq_RNN'][1].state_dict(), \"model/SIR/seq2seq_RNN.pth\")\n",
    "save_hyperparameter(best_model['seq2seq_RNN'][3:], \"hyperparameter/SIR/seq2seq_RNN.pkl\")"
   ]
  },
  {
   "cell_type": "code",
   "execution_count": 7,
   "id": "0436859c",
   "metadata": {
    "ExecuteTime": {
     "end_time": "2023-06-04T07:25:07.089456Z",
     "start_time": "2023-06-04T07:25:06.874271Z"
    }
   },
   "outputs": [
    {
     "data": {
      "text/plain": [
       "[<matplotlib.lines.Line2D at 0x173b8a39360>]"
      ]
     },
     "execution_count": 7,
     "metadata": {},
     "output_type": "execute_result"
    },
    {
     "data": {
      "image/png": "[encoded data removed]",
      "text/plain": [
       "<Figure size 640x480 with 1 Axes>"
      ]
     },
     "metadata": {},
     "output_type": "display_data"
    }
   ],
   "source": [
    "plt.plot(best_model['seq2seq_RNN'][2])"
   ]
  },
  {
   "cell_type": "code",
   "execution_count": 8,
   "id": "849ecf76",
   "metadata": {
    "ExecuteTime": {
     "end_time": "2023-06-04T07:25:07.121370Z",
     "start_time": "2023-06-04T07:25:07.092448Z"
    }
   },
   "outputs": [],
   "source": [
    "label_y, predicted, first_label_y, first_predicted = predict_mtm(best_model['seq2seq_RNN'][1], df, x_ss, y_ms, 1151, 7, 0.5, device)"
   ]
  },
  {
   "cell_type": "code",
   "execution_count": 9,
   "id": "d05958f5",
   "metadata": {
    "ExecuteTime": {
     "end_time": "2023-06-04T07:25:07.326820Z",
     "start_time": "2023-06-04T07:25:07.123365Z"
    }
   },
   "outputs": [
    {
     "name": "stdout",
     "output_type": "stream",
     "text": [
      "95.60433030128479\n"
     ]
    },
    {
     "data": {
      "image/png": "[encoded data removed]",
      "text/plain": [
       "<Figure size 1000x600 with 1 Axes>"
      ]
     },
     "metadata": {},
     "output_type": "display_data"
    }
   ],
   "source": [
    "print(mape(label_y + 1, predicted))\n",
    "plotting(first_label_y, first_predicted, 800)"
   ]
  },
  {
   "cell_type": "code",
   "execution_count": 10,
   "id": "46779d81",
   "metadata": {
    "ExecuteTime": {
     "end_time": "2023-06-04T07:25:07.502059Z",
     "start_time": "2023-06-04T07:25:07.329813Z"
    }
   },
   "outputs": [
    {
     "name": "stdout",
     "output_type": "stream",
     "text": [
      "84.66064929962158\n"
     ]
    },
    {
     "data": {
      "image/png": "[encoded data removed]",
      "text/plain": [
       "<Figure size 1000x600 with 1 Axes>"
      ]
     },
     "metadata": {},
     "output_type": "display_data"
    }
   ],
   "source": [
    "print(mape(first_label_y+1, first_predicted))\n",
    "plotting(first_label_y, first_predicted, 800)"
   ]
  },
  {
   "cell_type": "code",
   "execution_count": 11,
   "id": "bd2c61fa",
   "metadata": {
    "ExecuteTime": {
     "end_time": "2023-06-04T07:25:07.663629Z",
     "start_time": "2023-06-04T07:25:07.504056Z"
    }
   },
   "outputs": [
    {
     "data": {
      "text/html": [
       "<div>\n",
       "<style scoped>\n",
       "    .dataframe tbody tr th:only-of-type {\n",
       "        vertical-align: middle;\n",
       "    }\n",
       "\n",
       "    .dataframe tbody tr th {\n",
       "        vertical-align: top;\n",
       "    }\n",
       "\n",
       "    .dataframe thead th {\n",
       "        text-align: right;\n",
       "    }\n",
       "</style>\n",
       "<table border=\"1\" class=\"dataframe\">\n",
       "  <thead>\n",
       "    <tr style=\"text-align: right;\">\n",
       "      <th></th>\n",
       "      <th>Date</th>\n",
       "      <th>City</th>\n",
       "      <th>Susceptible</th>\n",
       "      <th>Infected</th>\n",
       "      <th>Dead</th>\n",
       "      <th>Recovered</th>\n",
       "      <th>alpha</th>\n",
       "      <th>beta</th>\n",
       "      <th>gamma</th>\n",
       "      <th>predicted_alpha</th>\n",
       "      <th>predicted_Infected</th>\n",
       "    </tr>\n",
       "  </thead>\n",
       "  <tbody>\n",
       "    <tr>\n",
       "      <th>0</th>\n",
       "      <td>2020-01-20</td>\n",
       "      <td>서울</td>\n",
       "      <td>9535432</td>\n",
       "      <td>0</td>\n",
       "      <td>0</td>\n",
       "      <td>0</td>\n",
       "      <td>0.000000</td>\n",
       "      <td>0.000000</td>\n",
       "      <td>0.000000</td>\n",
       "      <td>0.000000</td>\n",
       "      <td>0.000000</td>\n",
       "    </tr>\n",
       "    <tr>\n",
       "      <th>1</th>\n",
       "      <td>2020-01-21</td>\n",
       "      <td>서울</td>\n",
       "      <td>9535432</td>\n",
       "      <td>0</td>\n",
       "      <td>0</td>\n",
       "      <td>0</td>\n",
       "      <td>0.000000</td>\n",
       "      <td>0.000000</td>\n",
       "      <td>0.000000</td>\n",
       "      <td>0.000000</td>\n",
       "      <td>0.000000</td>\n",
       "    </tr>\n",
       "    <tr>\n",
       "      <th>2</th>\n",
       "      <td>2020-01-22</td>\n",
       "      <td>서울</td>\n",
       "      <td>9535432</td>\n",
       "      <td>0</td>\n",
       "      <td>0</td>\n",
       "      <td>0</td>\n",
       "      <td>0.000000</td>\n",
       "      <td>0.000000</td>\n",
       "      <td>0.000000</td>\n",
       "      <td>0.000000</td>\n",
       "      <td>0.000000</td>\n",
       "    </tr>\n",
       "    <tr>\n",
       "      <th>3</th>\n",
       "      <td>2020-01-23</td>\n",
       "      <td>서울</td>\n",
       "      <td>9535432</td>\n",
       "      <td>0</td>\n",
       "      <td>0</td>\n",
       "      <td>0</td>\n",
       "      <td>0.000000</td>\n",
       "      <td>0.000000</td>\n",
       "      <td>0.000000</td>\n",
       "      <td>0.000000</td>\n",
       "      <td>0.000000</td>\n",
       "    </tr>\n",
       "    <tr>\n",
       "      <th>4</th>\n",
       "      <td>2020-01-24</td>\n",
       "      <td>서울</td>\n",
       "      <td>9535431</td>\n",
       "      <td>1</td>\n",
       "      <td>0</td>\n",
       "      <td>0</td>\n",
       "      <td>0.000000</td>\n",
       "      <td>0.000000</td>\n",
       "      <td>0.000000</td>\n",
       "      <td>0.000000</td>\n",
       "      <td>1.000000</td>\n",
       "    </tr>\n",
       "    <tr>\n",
       "      <th>...</th>\n",
       "      <td>...</td>\n",
       "      <td>...</td>\n",
       "      <td>...</td>\n",
       "      <td>...</td>\n",
       "      <td>...</td>\n",
       "      <td>...</td>\n",
       "      <td>...</td>\n",
       "      <td>...</td>\n",
       "      <td>...</td>\n",
       "      <td>...</td>\n",
       "      <td>...</td>\n",
       "    </tr>\n",
       "    <tr>\n",
       "      <th>1214</th>\n",
       "      <td>2023-05-20</td>\n",
       "      <td>서울</td>\n",
       "      <td>3372946</td>\n",
       "      <td>63591</td>\n",
       "      <td>6471</td>\n",
       "      <td>6092424</td>\n",
       "      <td>0.186540</td>\n",
       "      <td>0.169175</td>\n",
       "      <td>0.000031</td>\n",
       "      <td>0.427850</td>\n",
       "      <td>44.768523</td>\n",
       "    </tr>\n",
       "    <tr>\n",
       "      <th>1215</th>\n",
       "      <td>2023-05-21</td>\n",
       "      <td>서울</td>\n",
       "      <td>3368750</td>\n",
       "      <td>57027</td>\n",
       "      <td>6473</td>\n",
       "      <td>6103182</td>\n",
       "      <td>0.063087</td>\n",
       "      <td>0.028793</td>\n",
       "      <td>0.000053</td>\n",
       "      <td>0.010365</td>\n",
       "      <td>43.968780</td>\n",
       "    </tr>\n",
       "    <tr>\n",
       "      <th>1216</th>\n",
       "      <td>2023-05-22</td>\n",
       "      <td>서울</td>\n",
       "      <td>3367479</td>\n",
       "      <td>56653</td>\n",
       "      <td>6476</td>\n",
       "      <td>6104824</td>\n",
       "      <td>0.268003</td>\n",
       "      <td>0.101407</td>\n",
       "      <td>0.000018</td>\n",
       "      <td>0.680732</td>\n",
       "      <td>42.861468</td>\n",
       "    </tr>\n",
       "    <tr>\n",
       "      <th>1217</th>\n",
       "      <td>2023-05-23</td>\n",
       "      <td>서울</td>\n",
       "      <td>3362117</td>\n",
       "      <td>56269</td>\n",
       "      <td>6477</td>\n",
       "      <td>6110569</td>\n",
       "      <td>0.267742</td>\n",
       "      <td>0.099895</td>\n",
       "      <td>0.000036</td>\n",
       "      <td>-0.357264</td>\n",
       "      <td>48.818308</td>\n",
       "    </tr>\n",
       "    <tr>\n",
       "      <th>1218</th>\n",
       "      <td>2023-05-24</td>\n",
       "      <td>서울</td>\n",
       "      <td>3356805</td>\n",
       "      <td>55958</td>\n",
       "      <td>6479</td>\n",
       "      <td>6116190</td>\n",
       "      <td>0.000000</td>\n",
       "      <td>0.000000</td>\n",
       "      <td>0.000000</td>\n",
       "      <td>0.668629</td>\n",
       "      <td>37.790295</td>\n",
       "    </tr>\n",
       "  </tbody>\n",
       "</table>\n",
       "<p>1219 rows × 11 columns</p>\n",
       "</div>"
      ],
      "text/plain": [
       "            Date City  Susceptible  Infected  Dead  Recovered     alpha  \\\n",
       "0     2020-01-20   서울      9535432         0     0          0  0.000000   \n",
       "1     2020-01-21   서울      9535432         0     0          0  0.000000   \n",
       "2     2020-01-22   서울      9535432         0     0          0  0.000000   \n",
       "3     2020-01-23   서울      9535432         0     0          0  0.000000   \n",
       "4     2020-01-24   서울      9535431         1     0          0  0.000000   \n",
       "...          ...  ...          ...       ...   ...        ...       ...   \n",
       "1214  2023-05-20   서울      3372946     63591  6471    6092424  0.186540   \n",
       "1215  2023-05-21   서울      3368750     57027  6473    6103182  0.063087   \n",
       "1216  2023-05-22   서울      3367479     56653  6476    6104824  0.268003   \n",
       "1217  2023-05-23   서울      3362117     56269  6477    6110569  0.267742   \n",
       "1218  2023-05-24   서울      3356805     55958  6479    6116190  0.000000   \n",
       "\n",
       "          beta     gamma  predicted_alpha  predicted_Infected  \n",
       "0     0.000000  0.000000         0.000000            0.000000  \n",
       "1     0.000000  0.000000         0.000000            0.000000  \n",
       "2     0.000000  0.000000         0.000000            0.000000  \n",
       "3     0.000000  0.000000         0.000000            0.000000  \n",
       "4     0.000000  0.000000         0.000000            1.000000  \n",
       "...        ...       ...              ...                 ...  \n",
       "1214  0.169175  0.000031         0.427850           44.768523  \n",
       "1215  0.028793  0.000053         0.010365           43.968780  \n",
       "1216  0.101407  0.000018         0.680732           42.861468  \n",
       "1217  0.099895  0.000036        -0.357264           48.818308  \n",
       "1218  0.000000  0.000000         0.668629           37.790295  \n",
       "\n",
       "[1219 rows x 11 columns]"
      ]
     },
     "execution_count": 11,
     "metadata": {},
     "output_type": "execute_result"
    }
   ],
   "source": [
    "data_predicted = data.copy()\n",
    "data_predicted['predicted_alpha'] = 0\n",
    "data_predicted.iloc[68:, -1] = first_predicted\n",
    "data_predicted['predicted_Infected'] = data_predicted['Infected']\n",
    "for i in range(801, len(data_predicted)):\n",
    "    data_predicted.iloc[i, -1] = (data_predicted.iloc[i-1, -1]\n",
    "                                  *(1-data_predicted.iloc[i-1, 7] - data_predicted.iloc[i-1, 8]\n",
    "                                    +(data_predicted.iloc[i-1, 2]*data_predicted.iloc[i-1, 9]\n",
    "                                      /data_predicted.iloc[0, 2])))\n",
    "data_predicted"
   ]
  },
  {
   "cell_type": "code",
   "execution_count": 12,
   "id": "2039587f",
   "metadata": {
    "ExecuteTime": {
     "end_time": "2023-06-04T07:25:07.830653Z",
     "start_time": "2023-06-04T07:25:07.666621Z"
    }
   },
   "outputs": [
    {
     "data": {
      "image/png": "[encoded data removed]",
      "text/plain": [
       "<Figure size 1000x600 with 1 Axes>"
      ]
     },
     "metadata": {},
     "output_type": "display_data"
    }
   ],
   "source": [
    "plotting(data_predicted['Infected'], data_predicted['predicted_Infected'], 800)"
   ]
  },
  {
   "cell_type": "code",
   "execution_count": null,
   "id": "c8177294",
   "metadata": {},
   "outputs": [],
   "source": []
  }
 ],
 "metadata": {
  "kernelspec": {
   "display_name": "KDA_DA",
   "language": "python",
   "name": "kda_da"
  },
  "language_info": {
   "codemirror_mode": {
    "name": "ipython",
    "version": 3
   },
   "file_extension": ".py",
   "mimetype": "text/x-python",
   "name": "python",
   "nbconvert_exporter": "python",
   "pygments_lexer": "ipython3",
   "version": "3.10.8"
  },
  "toc": {
   "base_numbering": 1,
   "nav_menu": {},
   "number_sections": true,
   "sideBar": true,
   "skip_h1_title": false,
   "title_cell": "Table of Contents",
   "title_sidebar": "Contents",
   "toc_cell": false,
   "toc_position": {},
   "toc_section_display": true,
   "toc_window_display": false
  }
 },
 "nbformat": 4,
 "nbformat_minor": 5
}
