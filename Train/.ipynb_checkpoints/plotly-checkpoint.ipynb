{
 "cells": [
  {
   "cell_type": "code",
   "execution_count": 1,
   "metadata": {
    "ExecuteTime": {
     "end_time": "2023-06-28T06:24:16.385135Z",
     "start_time": "2023-06-28T06:24:15.475566Z"
    }
   },
   "outputs": [],
   "source": [
    "import pandas as pd\n",
    "import glob\n",
    "import plotly.graph_objects as go\n",
    "from plotly.subplots import make_subplots"
   ]
  },
  {
   "cell_type": "code",
   "execution_count": 3,
   "metadata": {},
   "outputs": [
    {
     "name": "stdout",
     "output_type": "stream",
     "text": [
      "{'경기': 'Gyeonggi', '경남': 'Gyeongnam', '광주': 'Gwangju', '대구': 'Daegu', '세종': 'Sejong'}\n"
     ]
    },
    {
     "ename": "IndexError",
     "evalue": "list index out of range",
     "output_type": "error",
     "traceback": [
      "\u001b[1;31m---------------------------------------------------------------------------\u001b[0m",
      "\u001b[1;31mIndexError\u001b[0m                                Traceback (most recent call last)",
      "\u001b[1;32mc:\\Users\\SMK\\OneDrive - 계명대학교\\4학년 1학기\\통계청논문\\plotly.ipynb 셀 2\u001b[0m in \u001b[0;36m1\n\u001b[0;32m      <a href='vscode-notebook-cell:/c%3A/Users/SMK/OneDrive%20-%20%EA%B3%84%EB%AA%85%EB%8C%80%ED%95%99%EA%B5%90/4%ED%95%99%EB%85%84%201%ED%95%99%EA%B8%B0/%ED%86%B5%EA%B3%84%EC%B2%AD%EB%85%BC%EB%AC%B8/plotly.ipynb#W1sZmlsZQ%3D%3D?line=8'>9</a>\u001b[0m alpha_dic \u001b[39m=\u001b[39m {}\n\u001b[0;32m     <a href='vscode-notebook-cell:/c%3A/Users/SMK/OneDrive%20-%20%EA%B3%84%EB%AA%85%EB%8C%80%ED%95%99%EA%B5%90/4%ED%95%99%EB%85%84%201%ED%95%99%EA%B8%B0/%ED%86%B5%EA%B3%84%EC%B2%AD%EB%85%BC%EB%AC%B8/plotly.ipynb#W1sZmlsZQ%3D%3D?line=9'>10</a>\u001b[0m \u001b[39mfor\u001b[39;00m i \u001b[39min\u001b[39;00m \u001b[39mrange\u001b[39m(\u001b[39m5\u001b[39m):\n\u001b[1;32m---> <a href='vscode-notebook-cell:/c%3A/Users/SMK/OneDrive%20-%20%EA%B3%84%EB%AA%85%EB%8C%80%ED%95%99%EA%B5%90/4%ED%95%99%EB%85%84%201%ED%95%99%EA%B8%B0/%ED%86%B5%EA%B3%84%EC%B2%AD%EB%85%BC%EB%AC%B8/plotly.ipynb#W1sZmlsZQ%3D%3D?line=10'>11</a>\u001b[0m     data \u001b[39m=\u001b[39m pd\u001b[39m.\u001b[39mread_csv(alpha_file_list[i])\n\u001b[0;32m     <a href='vscode-notebook-cell:/c%3A/Users/SMK/OneDrive%20-%20%EA%B3%84%EB%AA%85%EB%8C%80%ED%95%99%EA%B5%90/4%ED%95%99%EB%85%84%201%ED%95%99%EA%B8%B0/%ED%86%B5%EA%B3%84%EC%B2%AD%EB%85%BC%EB%AC%B8/plotly.ipynb#W1sZmlsZQ%3D%3D?line=11'>12</a>\u001b[0m     df \u001b[39m=\u001b[39m pd\u001b[39m.\u001b[39mDataFrame(data)\n\u001b[0;32m     <a href='vscode-notebook-cell:/c%3A/Users/SMK/OneDrive%20-%20%EA%B3%84%EB%AA%85%EB%8C%80%ED%95%99%EA%B5%90/4%ED%95%99%EB%85%84%201%ED%95%99%EA%B8%B0/%ED%86%B5%EA%B3%84%EC%B2%AD%EB%85%BC%EB%AC%B8/plotly.ipynb#W1sZmlsZQ%3D%3D?line=12'>13</a>\u001b[0m     alpha_dic[keys[i]] \u001b[39m=\u001b[39m df\n",
      "\u001b[1;31mIndexError\u001b[0m: list index out of range"
     ]
    }
   ],
   "source": [
    "keys = ['경기','경남','광주','대구','세종']\n",
    "values = ['Gyeonggi', 'Gyeongnam', 'Gwangju', 'Daegu', 'Sejong']\n",
    "eng = dict(zip(keys, values))\n",
    "print(eng)\n",
    "\n",
    "# alpha\n",
    "alpha_file_list = glob.glob('./Capstone/Capstone/Dataset/Infected/alpha/*.csv')\n",
    "\n",
    "alpha_dic = {}\n",
    "for i in range(5):\n",
    "    data = pd.read_csv(alpha_file_list[i])\n",
    "    df = pd.DataFrame(data)\n",
    "    alpha_dic[keys[i]] = df\n",
    "\n",
    "# delta\n",
    "delta_file_list = glob.glob('./Capstone/Capstone/Dataset/Infected/delta/*.csv')\n",
    "\n",
    "delta_dic = {}\n",
    "for i in range(5):\n",
    "    data = pd.read_csv(delta_file_list[i])\n",
    "    df = pd.DataFrame(data)\n",
    "    delta_dic[keys[i]] = df\n",
    "\n",
    "\n",
    "# 지역 선정\n",
    "region = '세종' \n",
    "print(alpha_dic[region], delta_dic[region], sep='\\n')\n"
   ]
  },
  {
   "cell_type": "code",
   "execution_count": null,
   "metadata": {},
   "outputs": [
    {
     "data": {
      "application/vnd.plotly.v1+json": {
       "config": {
        "plotlyServerURL": "https://plot.ly"
       },
       "data": [
        {
         "line": {
          "color": "black",
          "dash": "dot",
          "width": 4
         },
         "mode": "lines",
         "name": "Actual Data(alpha)",
         "type": "scatter",
         "x": [
          "2021-06-13",
          "2021-06-14",
          "2021-06-15",
          "2021-06-16",
          "2021-06-17",
          "2021-06-18",
          "2021-06-19",
          "2021-06-20",
          "2021-06-21",
          "2021-06-22",
          "2021-06-23",
          "2021-06-24",
          "2021-06-25",
          "2021-06-26",
          "2021-06-27",
          "2021-06-28",
          "2021-06-29",
          "2021-06-30",
          "2021-07-01",
          "2021-07-02",
          "2021-07-03",
          "2021-07-04",
          "2021-07-05",
          "2021-07-06",
          "2021-07-07",
          "2021-07-08",
          "2021-07-09",
          "2021-07-10",
          "2021-07-11",
          "2021-07-12",
          "2021-07-13",
          "2021-07-14",
          "2021-07-15",
          "2021-07-16",
          "2021-07-17",
          "2021-07-18",
          "2021-07-19",
          "2021-07-20",
          "2021-07-21",
          "2021-07-22",
          "2021-07-23",
          "2021-07-24",
          "2021-07-25",
          "2021-07-26",
          "2021-07-27",
          "2021-07-28",
          "2021-07-29",
          "2021-07-30",
          "2021-07-31",
          "2021-08-01",
          "2021-08-02",
          "2021-08-03",
          "2021-08-04",
          "2021-08-05",
          "2021-08-06",
          "2021-08-07",
          "2021-08-08",
          "2021-08-09",
          "2021-08-10",
          "2021-08-11",
          "2021-08-12",
          "2021-08-13",
          "2021-08-14",
          "2021-08-15"
         ],
         "y": [
          0.12,
          0.12,
          0.96,
          0.48,
          0.24,
          0.12,
          0.24,
          0.35999998,
          0.24,
          0.71999997,
          0.96,
          0.12,
          0.24,
          0.24,
          0.96,
          0,
          0.35999998,
          0.35999998,
          0.6,
          0.24,
          0.35999998,
          0.48,
          0.24,
          0.3,
          0.3,
          0.3,
          0.06,
          0,
          0.17999999,
          0.35999998,
          0.48,
          0.35999998,
          0.12,
          0.42000002,
          0.12,
          0.3,
          0.24,
          0.39,
          0.17999999,
          0.3,
          0.24,
          0.17999999,
          0.27,
          0.15,
          0.17999999,
          0.33,
          0.15,
          0.12,
          0.35999998,
          0.27,
          0.03,
          0.07,
          0.08,
          0.15,
          0.19999999,
          0.17999999,
          0.07,
          0.01,
          0.04,
          0.08,
          0.11,
          0.07,
          0.099999994,
          0.049999997
         ]
        },
        {
         "line": {
          "color": "red",
          "width": 2
         },
         "mode": "lines",
         "name": "Predicted Data(alpha)",
         "type": "scatter",
         "x": [
          "2021-06-13",
          "2021-06-14",
          "2021-06-15",
          "2021-06-16",
          "2021-06-17",
          "2021-06-18",
          "2021-06-19",
          "2021-06-20",
          "2021-06-21",
          "2021-06-22",
          "2021-06-23",
          "2021-06-24",
          "2021-06-25",
          "2021-06-26",
          "2021-06-27",
          "2021-06-28",
          "2021-06-29",
          "2021-06-30",
          "2021-07-01",
          "2021-07-02",
          "2021-07-03",
          "2021-07-04",
          "2021-07-05",
          "2021-07-06",
          "2021-07-07",
          "2021-07-08",
          "2021-07-09",
          "2021-07-10",
          "2021-07-11",
          "2021-07-12",
          "2021-07-13",
          "2021-07-14",
          "2021-07-15",
          "2021-07-16",
          "2021-07-17",
          "2021-07-18",
          "2021-07-19",
          "2021-07-20",
          "2021-07-21",
          "2021-07-22",
          "2021-07-23",
          "2021-07-24",
          "2021-07-25",
          "2021-07-26",
          "2021-07-27",
          "2021-07-28",
          "2021-07-29",
          "2021-07-30",
          "2021-07-31",
          "2021-08-01",
          "2021-08-02",
          "2021-08-03",
          "2021-08-04",
          "2021-08-05",
          "2021-08-06",
          "2021-08-07",
          "2021-08-08",
          "2021-08-09",
          "2021-08-10",
          "2021-08-11",
          "2021-08-12",
          "2021-08-13",
          "2021-08-14",
          "2021-08-15"
         ],
         "y": [
          0.1222295,
          0.12178172,
          0.9616066,
          0.48296243,
          0.2426236,
          0.12185424,
          0.24282739,
          0.36324903,
          0.24249871,
          0.72287285,
          0.96267056,
          0.12280829,
          0.24258848,
          0.24281959,
          0.9632419,
          0.001896803,
          0.36286122,
          0.36277887,
          0.6027117,
          0.24251832,
          0.36273733,
          0.48252544,
          0.24255118,
          0.30276698,
          0.30241075,
          0.30224308,
          0.061726436,
          0.001494538,
          0.18174079,
          0.36249593,
          0.48267356,
          0.36249647,
          0.12197182,
          0.42175588,
          0.12162318,
          0.30220777,
          0.24231993,
          0.3922367,
          0.18236467,
          0.3004727,
          0.2418822,
          0.18245593,
          0.27162042,
          0.15177436,
          0.18243262,
          0.33126566,
          0.15209843,
          0.12168708,
          0.36044556,
          0.2716326,
          0.031639084,
          0.072016254,
          0.08307414,
          0.15132125,
          0.20116015,
          0.18185909,
          0.07247234,
          0.17815343,
          0.05273177,
          0.2694201,
          0.21240492,
          0.06261082,
          0.034498807,
          0.1648607
         ]
        },
        {
         "line": {
          "color": "gray",
          "dash": "dot",
          "width": 4
         },
         "mode": "lines",
         "name": "Actual Data(delta)",
         "type": "scatter",
         "x": [
          "2021-06-13",
          "2021-06-14",
          "2021-06-15",
          "2021-06-16",
          "2021-06-17",
          "2021-06-18",
          "2021-06-19",
          "2021-06-20",
          "2021-06-21",
          "2021-06-22",
          "2021-06-23",
          "2021-06-24",
          "2021-06-25",
          "2021-06-26",
          "2021-06-27",
          "2021-06-28",
          "2021-06-29",
          "2021-06-30",
          "2021-07-01",
          "2021-07-02",
          "2021-07-03",
          "2021-07-04",
          "2021-07-05",
          "2021-07-06",
          "2021-07-07",
          "2021-07-08",
          "2021-07-09",
          "2021-07-10",
          "2021-07-11",
          "2021-07-12",
          "2021-07-13",
          "2021-07-14",
          "2021-07-15",
          "2021-07-16",
          "2021-07-17",
          "2021-07-18",
          "2021-07-19",
          "2021-07-20",
          "2021-07-21",
          "2021-07-22",
          "2021-07-23",
          "2021-07-24",
          "2021-07-25",
          "2021-07-26",
          "2021-07-27",
          "2021-07-28",
          "2021-07-29",
          "2021-07-30",
          "2021-07-31",
          "2021-08-01",
          "2021-08-02",
          "2021-08-03",
          "2021-08-04",
          "2021-08-05",
          "2021-08-06",
          "2021-08-07",
          "2021-08-08",
          "2021-08-09",
          "2021-08-10",
          "2021-08-11",
          "2021-08-12",
          "2021-08-13",
          "2021-08-14",
          "2021-08-15"
         ],
         "y": [
          0.14,
          0.14,
          1.12,
          0.56,
          0.28,
          0.14,
          0.28,
          0.42000002,
          0.78000003,
          2.34,
          3.1200001,
          0.39000002,
          0.78000003,
          0.78000003,
          3.1200001,
          0,
          1.17,
          1.17,
          1.9499999,
          0.78000003,
          1.17,
          1.5600001,
          2.3600001,
          2.95,
          2.95,
          2.95,
          0.59000003,
          0,
          1.77,
          3.54,
          4.7200003,
          3.54,
          1.1800001,
          4.13,
          1.1800001,
          2.95,
          6.16,
          10.01,
          4.62,
          7.7,
          6.16,
          4.62,
          6.9300003,
          3.85,
          4.62,
          8.47,
          3.85,
          3.08,
          9.24,
          6.9300003,
          2.8500001,
          6.65,
          7.6,
          14.25,
          19,
          17.1,
          6.65,
          0.95,
          3.8,
          7.6,
          10.45,
          6.65,
          9.5,
          4.75
         ]
        },
        {
         "line": {
          "color": "blue",
          "width": 2
         },
         "mode": "lines",
         "name": "Predicted Data(delta)",
         "type": "scatter",
         "x": [
          "2021-06-13",
          "2021-06-14",
          "2021-06-15",
          "2021-06-16",
          "2021-06-17",
          "2021-06-18",
          "2021-06-19",
          "2021-06-20",
          "2021-06-21",
          "2021-06-22",
          "2021-06-23",
          "2021-06-24",
          "2021-06-25",
          "2021-06-26",
          "2021-06-27",
          "2021-06-28",
          "2021-06-29",
          "2021-06-30",
          "2021-07-01",
          "2021-07-02",
          "2021-07-03",
          "2021-07-04",
          "2021-07-05",
          "2021-07-06",
          "2021-07-07",
          "2021-07-08",
          "2021-07-09",
          "2021-07-10",
          "2021-07-11",
          "2021-07-12",
          "2021-07-13",
          "2021-07-14",
          "2021-07-15",
          "2021-07-16",
          "2021-07-17",
          "2021-07-18",
          "2021-07-19",
          "2021-07-20",
          "2021-07-21",
          "2021-07-22",
          "2021-07-23",
          "2021-07-24",
          "2021-07-25",
          "2021-07-26",
          "2021-07-27",
          "2021-07-28",
          "2021-07-29",
          "2021-07-30",
          "2021-07-31",
          "2021-08-01",
          "2021-08-02",
          "2021-08-03",
          "2021-08-04",
          "2021-08-05",
          "2021-08-06",
          "2021-08-07",
          "2021-08-08",
          "2021-08-09",
          "2021-08-10",
          "2021-08-11",
          "2021-08-12",
          "2021-08-13",
          "2021-08-14",
          "2021-08-15"
         ],
         "y": [
          0.28668296,
          0.049804922,
          0.8790863,
          0.83453125,
          0.5608516,
          0.14008561,
          0.52550423,
          0.5196307,
          0.7396733,
          2.1314783,
          2.984618,
          0.4022,
          0.8066001,
          0.83463895,
          3.1003125,
          0.14264652,
          1.1837659,
          1.2270205,
          2.056596,
          0.81850255,
          1.2041467,
          1.6623869,
          2.4127784,
          3.0153387,
          2.987299,
          2.9808695,
          0.59676516,
          0.05571991,
          1.8125417,
          3.6131885,
          4.7665257,
          3.579485,
          1.1933105,
          4.155801,
          1.1668983,
          3.0188365,
          6.2144547,
          10.056592,
          4.655733,
          7.733937,
          6.207853,
          4.6418123,
          6.969795,
          3.8680756,
          4.6575775,
          8.490026,
          3.8521647,
          3.1112714,
          9.259328,
          6.967274,
          2.8528507,
          6.6867332,
          7.640845,
          14.271435,
          19.005386,
          17.121841,
          6.6751842,
          7.4119873,
          2.9178126,
          8.782574,
          18.930014,
          15.938531,
          11.8568735,
          10.911157
         ]
        }
       ],
       "layout": {
        "annotations": [
         {
          "font": {
           "color": "red",
           "size": 20
          },
          "showarrow": false,
          "text": "Training Data",
          "x": "2021-08-06",
          "y": 100
         },
         {
          "font": {
           "color": "red",
           "size": 20
          },
          "showarrow": false,
          "text": "Prediction",
          "x": "2021-08-11",
          "y": 100
         }
        ],
        "legend": {
         "bordercolor": "Black",
         "borderwidth": 0.5,
         "orientation": "h",
         "x": 0.95,
         "xanchor": "right",
         "y": 1.08
        },
        "plot_bgcolor": "white",
        "shapes": [
         {
          "line": {
           "color": "red",
           "dash": "dash",
           "width": 2
          },
          "type": "line",
          "x0": "2021-08-09",
          "x1": "2021-08-09",
          "xref": "x",
          "y0": 0,
          "y1": 1,
          "yref": "y domain"
         }
        ],
        "template": {
         "data": {
          "bar": [
           {
            "error_x": {
             "color": "#2a3f5f"
            },
            "error_y": {
             "color": "#2a3f5f"
            },
            "marker": {
             "line": {
              "color": "#E5ECF6",
              "width": 0.5
             },
             "pattern": {
              "fillmode": "overlay",
              "size": 10,
              "solidity": 0.2
             }
            },
            "type": "bar"
           }
          ],
          "barpolar": [
           {
            "marker": {
             "line": {
              "color": "#E5ECF6",
              "width": 0.5
             },
             "pattern": {
              "fillmode": "overlay",
              "size": 10,
              "solidity": 0.2
             }
            },
            "type": "barpolar"
           }
          ],
          "carpet": [
           {
            "aaxis": {
             "endlinecolor": "#2a3f5f",
             "gridcolor": "white",
             "linecolor": "white",
             "minorgridcolor": "white",
             "startlinecolor": "#2a3f5f"
            },
            "baxis": {
             "endlinecolor": "#2a3f5f",
             "gridcolor": "white",
             "linecolor": "white",
             "minorgridcolor": "white",
             "startlinecolor": "#2a3f5f"
            },
            "type": "carpet"
           }
          ],
          "choropleth": [
           {
            "colorbar": {
             "outlinewidth": 0,
             "ticks": ""
            },
            "type": "choropleth"
           }
          ],
          "contour": [
           {
            "colorbar": {
             "outlinewidth": 0,
             "ticks": ""
            },
            "colorscale": [
             [
              0,
              "#0d0887"
             ],
             [
              0.1111111111111111,
              "#46039f"
             ],
             [
              0.2222222222222222,
              "#7201a8"
             ],
             [
              0.3333333333333333,
              "#9c179e"
             ],
             [
              0.4444444444444444,
              "#bd3786"
             ],
             [
              0.5555555555555556,
              "#d8576b"
             ],
             [
              0.6666666666666666,
              "#ed7953"
             ],
             [
              0.7777777777777778,
              "#fb9f3a"
             ],
             [
              0.8888888888888888,
              "#fdca26"
             ],
             [
              1,
              "#f0f921"
             ]
            ],
            "type": "contour"
           }
          ],
          "contourcarpet": [
           {
            "colorbar": {
             "outlinewidth": 0,
             "ticks": ""
            },
            "type": "contourcarpet"
           }
          ],
          "heatmap": [
           {
            "colorbar": {
             "outlinewidth": 0,
             "ticks": ""
            },
            "colorscale": [
             [
              0,
              "#0d0887"
             ],
             [
              0.1111111111111111,
              "#46039f"
             ],
             [
              0.2222222222222222,
              "#7201a8"
             ],
             [
              0.3333333333333333,
              "#9c179e"
             ],
             [
              0.4444444444444444,
              "#bd3786"
             ],
             [
              0.5555555555555556,
              "#d8576b"
             ],
             [
              0.6666666666666666,
              "#ed7953"
             ],
             [
              0.7777777777777778,
              "#fb9f3a"
             ],
             [
              0.8888888888888888,
              "#fdca26"
             ],
             [
              1,
              "#f0f921"
             ]
            ],
            "type": "heatmap"
           }
          ],
          "heatmapgl": [
           {
            "colorbar": {
             "outlinewidth": 0,
             "ticks": ""
            },
            "colorscale": [
             [
              0,
              "#0d0887"
             ],
             [
              0.1111111111111111,
              "#46039f"
             ],
             [
              0.2222222222222222,
              "#7201a8"
             ],
             [
              0.3333333333333333,
              "#9c179e"
             ],
             [
              0.4444444444444444,
              "#bd3786"
             ],
             [
              0.5555555555555556,
              "#d8576b"
             ],
             [
              0.6666666666666666,
              "#ed7953"
             ],
             [
              0.7777777777777778,
              "#fb9f3a"
             ],
             [
              0.8888888888888888,
              "#fdca26"
             ],
             [
              1,
              "#f0f921"
             ]
            ],
            "type": "heatmapgl"
           }
          ],
          "histogram": [
           {
            "marker": {
             "pattern": {
              "fillmode": "overlay",
              "size": 10,
              "solidity": 0.2
             }
            },
            "type": "histogram"
           }
          ],
          "histogram2d": [
           {
            "colorbar": {
             "outlinewidth": 0,
             "ticks": ""
            },
            "colorscale": [
             [
              0,
              "#0d0887"
             ],
             [
              0.1111111111111111,
              "#46039f"
             ],
             [
              0.2222222222222222,
              "#7201a8"
             ],
             [
              0.3333333333333333,
              "#9c179e"
             ],
             [
              0.4444444444444444,
              "#bd3786"
             ],
             [
              0.5555555555555556,
              "#d8576b"
             ],
             [
              0.6666666666666666,
              "#ed7953"
             ],
             [
              0.7777777777777778,
              "#fb9f3a"
             ],
             [
              0.8888888888888888,
              "#fdca26"
             ],
             [
              1,
              "#f0f921"
             ]
            ],
            "type": "histogram2d"
           }
          ],
          "histogram2dcontour": [
           {
            "colorbar": {
             "outlinewidth": 0,
             "ticks": ""
            },
            "colorscale": [
             [
              0,
              "#0d0887"
             ],
             [
              0.1111111111111111,
              "#46039f"
             ],
             [
              0.2222222222222222,
              "#7201a8"
             ],
             [
              0.3333333333333333,
              "#9c179e"
             ],
             [
              0.4444444444444444,
              "#bd3786"
             ],
             [
              0.5555555555555556,
              "#d8576b"
             ],
             [
              0.6666666666666666,
              "#ed7953"
             ],
             [
              0.7777777777777778,
              "#fb9f3a"
             ],
             [
              0.8888888888888888,
              "#fdca26"
             ],
             [
              1,
              "#f0f921"
             ]
            ],
            "type": "histogram2dcontour"
           }
          ],
          "mesh3d": [
           {
            "colorbar": {
             "outlinewidth": 0,
             "ticks": ""
            },
            "type": "mesh3d"
           }
          ],
          "parcoords": [
           {
            "line": {
             "colorbar": {
              "outlinewidth": 0,
              "ticks": ""
             }
            },
            "type": "parcoords"
           }
          ],
          "pie": [
           {
            "automargin": true,
            "type": "pie"
           }
          ],
          "scatter": [
           {
            "fillpattern": {
             "fillmode": "overlay",
             "size": 10,
             "solidity": 0.2
            },
            "type": "scatter"
           }
          ],
          "scatter3d": [
           {
            "line": {
             "colorbar": {
              "outlinewidth": 0,
              "ticks": ""
             }
            },
            "marker": {
             "colorbar": {
              "outlinewidth": 0,
              "ticks": ""
             }
            },
            "type": "scatter3d"
           }
          ],
          "scattercarpet": [
           {
            "marker": {
             "colorbar": {
              "outlinewidth": 0,
              "ticks": ""
             }
            },
            "type": "scattercarpet"
           }
          ],
          "scattergeo": [
           {
            "marker": {
             "colorbar": {
              "outlinewidth": 0,
              "ticks": ""
             }
            },
            "type": "scattergeo"
           }
          ],
          "scattergl": [
           {
            "marker": {
             "colorbar": {
              "outlinewidth": 0,
              "ticks": ""
             }
            },
            "type": "scattergl"
           }
          ],
          "scattermapbox": [
           {
            "marker": {
             "colorbar": {
              "outlinewidth": 0,
              "ticks": ""
             }
            },
            "type": "scattermapbox"
           }
          ],
          "scatterpolar": [
           {
            "marker": {
             "colorbar": {
              "outlinewidth": 0,
              "ticks": ""
             }
            },
            "type": "scatterpolar"
           }
          ],
          "scatterpolargl": [
           {
            "marker": {
             "colorbar": {
              "outlinewidth": 0,
              "ticks": ""
             }
            },
            "type": "scatterpolargl"
           }
          ],
          "scatterternary": [
           {
            "marker": {
             "colorbar": {
              "outlinewidth": 0,
              "ticks": ""
             }
            },
            "type": "scatterternary"
           }
          ],
          "surface": [
           {
            "colorbar": {
             "outlinewidth": 0,
             "ticks": ""
            },
            "colorscale": [
             [
              0,
              "#0d0887"
             ],
             [
              0.1111111111111111,
              "#46039f"
             ],
             [
              0.2222222222222222,
              "#7201a8"
             ],
             [
              0.3333333333333333,
              "#9c179e"
             ],
             [
              0.4444444444444444,
              "#bd3786"
             ],
             [
              0.5555555555555556,
              "#d8576b"
             ],
             [
              0.6666666666666666,
              "#ed7953"
             ],
             [
              0.7777777777777778,
              "#fb9f3a"
             ],
             [
              0.8888888888888888,
              "#fdca26"
             ],
             [
              1,
              "#f0f921"
             ]
            ],
            "type": "surface"
           }
          ],
          "table": [
           {
            "cells": {
             "fill": {
              "color": "#EBF0F8"
             },
             "line": {
              "color": "white"
             }
            },
            "header": {
             "fill": {
              "color": "#C8D4E3"
             },
             "line": {
              "color": "white"
             }
            },
            "type": "table"
           }
          ]
         },
         "layout": {
          "annotationdefaults": {
           "arrowcolor": "#2a3f5f",
           "arrowhead": 0,
           "arrowwidth": 1
          },
          "autotypenumbers": "strict",
          "coloraxis": {
           "colorbar": {
            "outlinewidth": 0,
            "ticks": ""
           }
          },
          "colorscale": {
           "diverging": [
            [
             0,
             "#8e0152"
            ],
            [
             0.1,
             "#c51b7d"
            ],
            [
             0.2,
             "#de77ae"
            ],
            [
             0.3,
             "#f1b6da"
            ],
            [
             0.4,
             "#fde0ef"
            ],
            [
             0.5,
             "#f7f7f7"
            ],
            [
             0.6,
             "#e6f5d0"
            ],
            [
             0.7,
             "#b8e186"
            ],
            [
             0.8,
             "#7fbc41"
            ],
            [
             0.9,
             "#4d9221"
            ],
            [
             1,
             "#276419"
            ]
           ],
           "sequential": [
            [
             0,
             "#0d0887"
            ],
            [
             0.1111111111111111,
             "#46039f"
            ],
            [
             0.2222222222222222,
             "#7201a8"
            ],
            [
             0.3333333333333333,
             "#9c179e"
            ],
            [
             0.4444444444444444,
             "#bd3786"
            ],
            [
             0.5555555555555556,
             "#d8576b"
            ],
            [
             0.6666666666666666,
             "#ed7953"
            ],
            [
             0.7777777777777778,
             "#fb9f3a"
            ],
            [
             0.8888888888888888,
             "#fdca26"
            ],
            [
             1,
             "#f0f921"
            ]
           ],
           "sequentialminus": [
            [
             0,
             "#0d0887"
            ],
            [
             0.1111111111111111,
             "#46039f"
            ],
            [
             0.2222222222222222,
             "#7201a8"
            ],
            [
             0.3333333333333333,
             "#9c179e"
            ],
            [
             0.4444444444444444,
             "#bd3786"
            ],
            [
             0.5555555555555556,
             "#d8576b"
            ],
            [
             0.6666666666666666,
             "#ed7953"
            ],
            [
             0.7777777777777778,
             "#fb9f3a"
            ],
            [
             0.8888888888888888,
             "#fdca26"
            ],
            [
             1,
             "#f0f921"
            ]
           ]
          },
          "colorway": [
           "#636efa",
           "#EF553B",
           "#00cc96",
           "#ab63fa",
           "#FFA15A",
           "#19d3f3",
           "#FF6692",
           "#B6E880",
           "#FF97FF",
           "#FECB52"
          ],
          "font": {
           "color": "#2a3f5f"
          },
          "geo": {
           "bgcolor": "white",
           "lakecolor": "white",
           "landcolor": "#E5ECF6",
           "showlakes": true,
           "showland": true,
           "subunitcolor": "white"
          },
          "hoverlabel": {
           "align": "left"
          },
          "hovermode": "closest",
          "mapbox": {
           "style": "light"
          },
          "paper_bgcolor": "white",
          "plot_bgcolor": "#E5ECF6",
          "polar": {
           "angularaxis": {
            "gridcolor": "white",
            "linecolor": "white",
            "ticks": ""
           },
           "bgcolor": "#E5ECF6",
           "radialaxis": {
            "gridcolor": "white",
            "linecolor": "white",
            "ticks": ""
           }
          },
          "scene": {
           "xaxis": {
            "backgroundcolor": "#E5ECF6",
            "gridcolor": "white",
            "gridwidth": 2,
            "linecolor": "white",
            "showbackground": true,
            "ticks": "",
            "zerolinecolor": "white"
           },
           "yaxis": {
            "backgroundcolor": "#E5ECF6",
            "gridcolor": "white",
            "gridwidth": 2,
            "linecolor": "white",
            "showbackground": true,
            "ticks": "",
            "zerolinecolor": "white"
           },
           "zaxis": {
            "backgroundcolor": "#E5ECF6",
            "gridcolor": "white",
            "gridwidth": 2,
            "linecolor": "white",
            "showbackground": true,
            "ticks": "",
            "zerolinecolor": "white"
           }
          },
          "shapedefaults": {
           "line": {
            "color": "#2a3f5f"
           }
          },
          "ternary": {
           "aaxis": {
            "gridcolor": "white",
            "linecolor": "white",
            "ticks": ""
           },
           "baxis": {
            "gridcolor": "white",
            "linecolor": "white",
            "ticks": ""
           },
           "bgcolor": "#E5ECF6",
           "caxis": {
            "gridcolor": "white",
            "linecolor": "white",
            "ticks": ""
           }
          },
          "title": {
           "x": 0.05
          },
          "xaxis": {
           "automargin": true,
           "gridcolor": "white",
           "linecolor": "white",
           "ticks": "",
           "title": {
            "standoff": 15
           },
           "zerolinecolor": "white",
           "zerolinewidth": 2
          },
          "yaxis": {
           "automargin": true,
           "gridcolor": "white",
           "linecolor": "white",
           "ticks": "",
           "title": {
            "standoff": 15
           },
           "zerolinecolor": "white",
           "zerolinewidth": 2
          }
         }
        },
        "title": {
         "font": {
          "color": "#000000",
          "family": "Arial",
          "size": 30
         },
         "text": "<b>Short term prediction by using BiLSTM for Sejong</b>",
         "x": 0.5,
         "xanchor": "center",
         "y": 0.95,
         "yanchor": "bottom"
        },
        "xaxis": {
         "gridcolor": "lightgray",
         "linecolor": "gray",
         "mirror": true,
         "title": {
          "text": "Date"
         }
        },
        "yaxis": {
         "gridcolor": "lightgray",
         "linecolor": "gray",
         "mirror": true,
         "title": {
          "text": "Number"
         }
        }
       }
      }
     },
     "metadata": {},
     "output_type": "display_data"
    }
   ],
   "source": [
    "# 단기\n",
    "\n",
    "fig = go.Figure()\n",
    "\n",
    "fig.add_trace(go.Scatter(x=alpha_dic[region]['stdDay'], y=alpha_dic[region]['Alpha_origin'], name='Actual Data(alpha)',\n",
    "                         mode='lines', line=dict(dash='dot', color='black', width=4)))\n",
    "fig.add_trace(go.Scatter(x=alpha_dic[region]['stdDay'], y=alpha_dic[region]['Alpha_Predicted'], name='Predicted Data(alpha)',\n",
    "                         mode='lines', line=dict(width=2, color='red')))\n",
    "fig.add_trace(go.Scatter(x=delta_dic[region]['stdDay'], y=delta_dic[region]['Delta_origin'], name='Actual Data(delta)',\n",
    "                         mode='lines', line=dict(dash='dot', color='gray', width=4)))\n",
    "fig.add_trace(go.Scatter(x=delta_dic[region]['stdDay'], y=delta_dic[region]['Delta_Predicted'], name='Predicted Data(delta)',\n",
    "                         mode='lines', line=dict(width=2, color='blue')))\n",
    "fig.add_annotation(x='2021-08-06', y=100, text='Training Data', font_color='red', showarrow=False)\n",
    "fig.add_annotation(x='2021-08-11', y=100, text='Prediction', font_color='red', showarrow=False)\n",
    "fig.add_vline(x=alpha_dic[region]['stdDay'][57], line_width=2, line_dash=\"dash\", line_color=\"red\")\n",
    "\n",
    "\n",
    "\n",
    "fig.update_layout(\n",
    "    title_text = 'Number of Infected cases of alpha and delta mutations',\n",
    "    xaxis1_title = 'Date',\n",
    "    yaxis1_title = 'Number',\n",
    "    plot_bgcolor ='white', # 차트 안쪽 배경색\n",
    "    title=dict(text=f'<b>Short term prediction by using BiLSTM for {eng[region]}</b>',\n",
    "               xanchor='center', yanchor='bottom',\n",
    "               x=0.5, y=0.95,\n",
    "               font=dict(\n",
    "                family=\"Arial\",\n",
    "                size=30,\n",
    "                color=\"#000000\"\n",
    "                )),\n",
    "    legend=dict(orientation ='h', \n",
    "                xanchor='right', x=0.95, y=1.08,\n",
    "                bordercolor=\"Black\",\n",
    "                borderwidth=0.5),\n",
    ")\n",
    "fig.update_annotations(font_size=20)\n",
    "fig.update_xaxes(linecolor='gray', gridcolor='lightgray',mirror=True)\n",
    "fig.update_yaxes(linecolor='gray', gridcolor='lightgray',mirror=True)\n",
    "fig.show()\n",
    "fig.write_image(f\"./image/alpha&delta_{eng[region]}_Short_term.png\", width=1920, height=708)"
   ]
  },
  {
   "cell_type": "code",
   "execution_count": null,
   "metadata": {},
   "outputs": [
    {
     "name": "stdout",
     "output_type": "stream",
     "text": [
      "        stdDay  Delta_alpha  predicted_Delta_alpha  Delta_Infected  \\\n",
      "0   2021-06-13     0.073398               0.158654            1.91   \n",
      "1   2021-06-14     0.572209               0.171397            1.96   \n",
      "2   2021-06-15     0.187551               0.205748            2.99   \n",
      "3   2021-06-16     0.081038               0.054961            3.46   \n",
      "4   2021-06-17     0.037789               0.109272            3.71   \n",
      "..         ...          ...                    ...             ...   \n",
      "59  2021-08-11     0.095606               0.101373          109.55   \n",
      "60  2021-08-12     0.057385               0.098054          116.15   \n",
      "61  2021-08-13     0.079535               0.095990          119.72   \n",
      "62  2021-08-14     0.039682               0.094555          119.98   \n",
      "63  2021-08-15     0.000000               0.096277          117.80   \n",
      "\n",
      "    predicted_Delta_Infected  \n",
      "0                   2.001047  \n",
      "1                   2.913724  \n",
      "2                   2.268094  \n",
      "3                   3.206040  \n",
      "4                   3.506631  \n",
      "..                       ...  \n",
      "59                113.321875  \n",
      "60                115.392387  \n",
      "61                118.858009  \n",
      "62                105.363672  \n",
      "63                 95.818018  \n",
      "\n",
      "[64 rows x 5 columns]\n"
     ]
    }
   ],
   "source": [
    "# alpha\n",
    "alpha_file_list = glob.glob('./Capstone/Capstone/Dataset/SIR/alpha/*.csv')\n",
    "\n",
    "alpha_dic = {}\n",
    "for i in range(5):\n",
    "    data = pd.read_csv(alpha_file_list[i])\n",
    "    df = pd.DataFrame(data)\n",
    "    alpha_dic[keys[i]] = df\n",
    "\n",
    "# delta\n",
    "delta_file_list = glob.glob('./Capstone/Capstone/Dataset/SIR/delta/*.csv')\n",
    "\n",
    "delta_dic = {}\n",
    "for i in range(5):\n",
    "    data = pd.read_csv(delta_file_list[i])\n",
    "    df = pd.DataFrame(data)\n",
    "    delta_dic[keys[i]] = df\n",
    "\n",
    "print(delta_dic[region], sep='\\n')"
   ]
  },
  {
   "cell_type": "code",
   "execution_count": null,
   "metadata": {},
   "outputs": [
    {
     "data": {
      "application/vnd.plotly.v1+json": {
       "config": {
        "plotlyServerURL": "https://plot.ly"
       },
       "data": [
        {
         "line": {
          "color": "black",
          "dash": "dot",
          "width": 2
         },
         "mode": "lines",
         "name": "Alpha(Actual Data)",
         "type": "scatter",
         "x": [
          "2021-06-13",
          "2021-06-14",
          "2021-06-15",
          "2021-06-16",
          "2021-06-17",
          "2021-06-18",
          "2021-06-19",
          "2021-06-20",
          "2021-06-21",
          "2021-06-22",
          "2021-06-23",
          "2021-06-24",
          "2021-06-25",
          "2021-06-26",
          "2021-06-27",
          "2021-06-28",
          "2021-06-29",
          "2021-06-30",
          "2021-07-01",
          "2021-07-02",
          "2021-07-03",
          "2021-07-04",
          "2021-07-05",
          "2021-07-06",
          "2021-07-07",
          "2021-07-08",
          "2021-07-09",
          "2021-07-10",
          "2021-07-11",
          "2021-07-12",
          "2021-07-13",
          "2021-07-14",
          "2021-07-15",
          "2021-07-16",
          "2021-07-17",
          "2021-07-18",
          "2021-07-19",
          "2021-07-20",
          "2021-07-21",
          "2021-07-22",
          "2021-07-23",
          "2021-07-24",
          "2021-07-25",
          "2021-07-26",
          "2021-07-27",
          "2021-07-28",
          "2021-07-29",
          "2021-07-30",
          "2021-07-31",
          "2021-08-01",
          "2021-08-02",
          "2021-08-03",
          "2021-08-04",
          "2021-08-05",
          "2021-08-06",
          "2021-08-07",
          "2021-08-08",
          "2021-08-09",
          "2021-08-10",
          "2021-08-11",
          "2021-08-12",
          "2021-08-13",
          "2021-08-14",
          "2021-08-15"
         ],
         "xaxis": "x",
         "y": [
          0.058616336,
          0.475896289,
          0.169846518,
          0.076055513,
          0.035871152,
          0.072390774,
          0.107294049,
          0.064607693,
          0.182077211,
          0.205423776,
          0.022760513,
          0.047688823,
          0.04768908,
          0.186321135,
          0,
          0.06131619,
          0.068284492,
          0.116455117,
          0.043544676,
          0.063927636,
          0.083461757,
          0.04087967,
          0.05110014,
          0.055031664,
          0.062599364,
          0.01206751,
          0,
          0.039537082,
          0.095391829,
          0.116131067,
          0.084646658,
          0.02821601,
          0.111297087,
          0.030354326,
          0.08078211,
          0.067912658,
          0.110360457,
          0.049674476,
          0.085622637,
          0.068499962,
          0.048869933,
          0.069896503,
          0.037949783,
          0.048090615,
          0.095834302,
          0.043944468,
          0.034850345,
          0.114509516,
          0.079804576,
          0.008946564,
          0.022267185,
          0.028326284,
          0.05505846,
          0.07768253,
          0.071019131,
          0.027619896,
          0.00428302,
          0.018222352,
          0.038921949,
          0.060910943,
          0.039638655,
          0.058273878,
          0.034326638,
          0
         ],
         "yaxis": "y"
        },
        {
         "line": {
          "color": "red",
          "width": 2
         },
         "mode": "lines",
         "name": "Alpha(Predicted Data)",
         "type": "scatter",
         "x": [
          "2021-06-13",
          "2021-06-14",
          "2021-06-15",
          "2021-06-16",
          "2021-06-17",
          "2021-06-18",
          "2021-06-19",
          "2021-06-20",
          "2021-06-21",
          "2021-06-22",
          "2021-06-23",
          "2021-06-24",
          "2021-06-25",
          "2021-06-26",
          "2021-06-27",
          "2021-06-28",
          "2021-06-29",
          "2021-06-30",
          "2021-07-01",
          "2021-07-02",
          "2021-07-03",
          "2021-07-04",
          "2021-07-05",
          "2021-07-06",
          "2021-07-07",
          "2021-07-08",
          "2021-07-09",
          "2021-07-10",
          "2021-07-11",
          "2021-07-12",
          "2021-07-13",
          "2021-07-14",
          "2021-07-15",
          "2021-07-16",
          "2021-07-17",
          "2021-07-18",
          "2021-07-19",
          "2021-07-20",
          "2021-07-21",
          "2021-07-22",
          "2021-07-23",
          "2021-07-24",
          "2021-07-25",
          "2021-07-26",
          "2021-07-27",
          "2021-07-28",
          "2021-07-29",
          "2021-07-30",
          "2021-07-31",
          "2021-08-01",
          "2021-08-02",
          "2021-08-03",
          "2021-08-04",
          "2021-08-05",
          "2021-08-06",
          "2021-08-07",
          "2021-08-08",
          "2021-08-09",
          "2021-08-10",
          "2021-08-11",
          "2021-08-12",
          "2021-08-13",
          "2021-08-14",
          "2021-08-15"
         ],
         "xaxis": "x",
         "y": [
          0.104284532,
          0.078415267,
          0.08378613,
          0.116750076,
          0.12597537,
          0.125017464,
          0.128543839,
          0.112424821,
          0.095071577,
          0.129253536,
          0.1294934,
          0.130913913,
          0.11780256,
          0.095199972,
          0.096364439,
          0.140184507,
          0.122988649,
          0.093743794,
          0.124308728,
          0.102618039,
          0.080897667,
          0.08159519,
          0.066464342,
          0.069413148,
          0.054298084,
          0.075975552,
          0.057967119,
          0.054625224,
          0.070592023,
          0.049333382,
          0.074383825,
          0.077072099,
          0.057071205,
          0.06410215,
          0.066564873,
          0.070517533,
          0.072568201,
          0.07998573,
          0.070716918,
          0.057070881,
          0.076314434,
          0.093895085,
          0.069085382,
          0.057835106,
          0.067989022,
          0.065947831,
          0.079534017,
          0.068643346,
          0.066680491,
          0.070781507,
          0.09721566,
          0.073165469,
          0.078241058,
          0.058412362,
          0.073827662,
          0.083051585,
          0.071970165,
          0.031934407,
          0.05906114,
          0.057316188,
          0.047172148,
          0.04817557,
          0.070811927,
          0.057041422
         ],
         "yaxis": "y"
        },
        {
         "line": {
          "color": "gray",
          "dash": "dot",
          "width": 2
         },
         "mode": "lines",
         "name": "Delta(Actual Data)",
         "type": "scatter",
         "x": [
          "2021-06-13",
          "2021-06-14",
          "2021-06-15",
          "2021-06-16",
          "2021-06-17",
          "2021-06-18",
          "2021-06-19",
          "2021-06-20",
          "2021-06-21",
          "2021-06-22",
          "2021-06-23",
          "2021-06-24",
          "2021-06-25",
          "2021-06-26",
          "2021-06-27",
          "2021-06-28",
          "2021-06-29",
          "2021-06-30",
          "2021-07-01",
          "2021-07-02",
          "2021-07-03",
          "2021-07-04",
          "2021-07-05",
          "2021-07-06",
          "2021-07-07",
          "2021-07-08",
          "2021-07-09",
          "2021-07-10",
          "2021-07-11",
          "2021-07-12",
          "2021-07-13",
          "2021-07-14",
          "2021-07-15",
          "2021-07-16",
          "2021-07-17",
          "2021-07-18",
          "2021-07-19",
          "2021-07-20",
          "2021-07-21",
          "2021-07-22",
          "2021-07-23",
          "2021-07-24",
          "2021-07-25",
          "2021-07-26",
          "2021-07-27",
          "2021-07-28",
          "2021-07-29",
          "2021-07-30",
          "2021-07-31",
          "2021-08-01",
          "2021-08-02",
          "2021-08-03",
          "2021-08-04",
          "2021-08-05",
          "2021-08-06",
          "2021-08-07",
          "2021-08-08",
          "2021-08-09",
          "2021-08-10",
          "2021-08-11",
          "2021-08-12",
          "2021-08-13",
          "2021-08-14",
          "2021-08-15"
         ],
         "xaxis": "x",
         "y": [
          0.073398291,
          0.572208633,
          0.187550698,
          0.081037955,
          0.037788793,
          0.074572766,
          0.107294049,
          0.179978575,
          0.457682366,
          0.418833194,
          0.038441969,
          0.077111837,
          0.073485149,
          0.277249817,
          0,
          0.083044109,
          0.082751546,
          0.13222426,
          0.04751773,
          0.068606181,
          0.086945136,
          0.123687207,
          0.142803775,
          0.138715965,
          0.139833885,
          0.024944955,
          0,
          0.078030051,
          0.165920181,
          0.189791077,
          0.124590601,
          0.038338264,
          0.137621848,
          0.035378553,
          0.088420395,
          0.177263548,
          0.259708654,
          0.101339411,
          0.162943459,
          0.118471138,
          0.080271788,
          0.111477515,
          0.057194779,
          0.068320615,
          0.125441647,
          0.053147498,
          0.041009941,
          0.124772161,
          0.084412791,
          0.033113906,
          0.080350356,
          0.09570845,
          0.172978941,
          0.213692346,
          0.168107871,
          0.058247517,
          0.008341645,
          0.034236529,
          0.068982299,
          0.095605995,
          0.05738476,
          0.079535179,
          0.039682486,
          0
         ],
         "yaxis": "y"
        },
        {
         "line": {
          "color": "blue",
          "width": 2
         },
         "mode": "lines",
         "name": "Delta(Predicted Data)",
         "type": "scatter",
         "x": [
          "2021-06-13",
          "2021-06-14",
          "2021-06-15",
          "2021-06-16",
          "2021-06-17",
          "2021-06-18",
          "2021-06-19",
          "2021-06-20",
          "2021-06-21",
          "2021-06-22",
          "2021-06-23",
          "2021-06-24",
          "2021-06-25",
          "2021-06-26",
          "2021-06-27",
          "2021-06-28",
          "2021-06-29",
          "2021-06-30",
          "2021-07-01",
          "2021-07-02",
          "2021-07-03",
          "2021-07-04",
          "2021-07-05",
          "2021-07-06",
          "2021-07-07",
          "2021-07-08",
          "2021-07-09",
          "2021-07-10",
          "2021-07-11",
          "2021-07-12",
          "2021-07-13",
          "2021-07-14",
          "2021-07-15",
          "2021-07-16",
          "2021-07-17",
          "2021-07-18",
          "2021-07-19",
          "2021-07-20",
          "2021-07-21",
          "2021-07-22",
          "2021-07-23",
          "2021-07-24",
          "2021-07-25",
          "2021-07-26",
          "2021-07-27",
          "2021-07-28",
          "2021-07-29",
          "2021-07-30",
          "2021-07-31",
          "2021-08-01",
          "2021-08-02",
          "2021-08-03",
          "2021-08-04",
          "2021-08-05",
          "2021-08-06",
          "2021-08-07",
          "2021-08-08",
          "2021-08-09",
          "2021-08-10",
          "2021-08-11",
          "2021-08-12",
          "2021-08-13",
          "2021-08-14",
          "2021-08-15"
         ],
         "xaxis": "x",
         "y": [
          0.158654213,
          0.171396762,
          0.205747604,
          0.054961257,
          0.109271921,
          0.17098482,
          0.186878815,
          0.174479336,
          0.154755771,
          0.193009481,
          0.101424828,
          -0.018521929,
          0.124097824,
          0.154738396,
          0.159963861,
          0.083180912,
          0.145948529,
          0.156721517,
          0.15386495,
          0.149266526,
          0.174420461,
          0.174884796,
          0.163380533,
          0.148991719,
          0.141136676,
          0.142792851,
          0.149726346,
          0.193042278,
          0.190418914,
          0.160258248,
          0.129914656,
          0.114440851,
          0.147415444,
          0.165953174,
          0.148137093,
          0.168329,
          0.153776705,
          0.137352556,
          0.078131743,
          0.139083624,
          0.126246765,
          0.148800999,
          0.164231911,
          0.163452804,
          0.179298148,
          0.170055166,
          0.158163697,
          0.18225649,
          0.174489945,
          0.152899057,
          0.172315389,
          0.159820318,
          0.170197934,
          0.142613962,
          0.125165731,
          0.11490427,
          0.108187102,
          0.107637733,
          0.102570601,
          0.101372771,
          0.098054178,
          0.095990367,
          0.094554834,
          0.096276745
         ],
         "yaxis": "y"
        },
        {
         "line": {
          "color": "black",
          "dash": "dot",
          "width": 4
         },
         "mode": "lines",
         "name": "Alpha(Actual Data)",
         "showlegend": false,
         "type": "scatter",
         "x": [
          "2021-06-13",
          "2021-06-14",
          "2021-06-15",
          "2021-06-16",
          "2021-06-17",
          "2021-06-18",
          "2021-06-19",
          "2021-06-20",
          "2021-06-21",
          "2021-06-22",
          "2021-06-23",
          "2021-06-24",
          "2021-06-25",
          "2021-06-26",
          "2021-06-27",
          "2021-06-28",
          "2021-06-29",
          "2021-06-30",
          "2021-07-01",
          "2021-07-02",
          "2021-07-03",
          "2021-07-04",
          "2021-07-05",
          "2021-07-06",
          "2021-07-07",
          "2021-07-08",
          "2021-07-09",
          "2021-07-10",
          "2021-07-11",
          "2021-07-12",
          "2021-07-13",
          "2021-07-14",
          "2021-07-15",
          "2021-07-16",
          "2021-07-17",
          "2021-07-18",
          "2021-07-19",
          "2021-07-20",
          "2021-07-21",
          "2021-07-22",
          "2021-07-23",
          "2021-07-24",
          "2021-07-25",
          "2021-07-26",
          "2021-07-27",
          "2021-07-28",
          "2021-07-29",
          "2021-07-30",
          "2021-07-31",
          "2021-08-01",
          "2021-08-02",
          "2021-08-03",
          "2021-08-04",
          "2021-08-05",
          "2021-08-06",
          "2021-08-07",
          "2021-08-08",
          "2021-08-09",
          "2021-08-10",
          "2021-08-11",
          "2021-08-12",
          "2021-08-13",
          "2021-08-14",
          "2021-08-15"
         ],
         "xaxis": "x2",
         "y": [
          2.05,
          2.02,
          2.83,
          3.16,
          3.35,
          3.32,
          3.36,
          3.72,
          3.96,
          4.68,
          5.28,
          5.04,
          5.04,
          5.16,
          6,
          5.88,
          5.28,
          5.16,
          5.52,
          5.64,
          5.76,
          5.88,
          5.88,
          5.46,
          4.8,
          4.98,
          4.8,
          4.56,
          3.78,
          4.14,
          4.26,
          4.26,
          3.78,
          3.96,
          3.72,
          3.54,
          3.54,
          3.63,
          3.51,
          3.51,
          3.69,
          3.87,
          3.96,
          3.75,
          3.45,
          3.42,
          3.45,
          3.15,
          3.39,
          3.36,
          3.15,
          2.83,
          2.73,
          2.58,
          2.54,
          2.54,
          2.34,
          2.2,
          2.06,
          1.81,
          1.77,
          1.72,
          1.46,
          1.24
         ],
         "yaxis": "y2"
        },
        {
         "line": {
          "color": "red"
         },
         "mode": "lines",
         "name": "Alpha(Predicted Data)",
         "showlegend": false,
         "type": "scatter",
         "x": [
          "2021-06-13",
          "2021-06-14",
          "2021-06-15",
          "2021-06-16",
          "2021-06-17",
          "2021-06-18",
          "2021-06-19",
          "2021-06-20",
          "2021-06-21",
          "2021-06-22",
          "2021-06-23",
          "2021-06-24",
          "2021-06-25",
          "2021-06-26",
          "2021-06-27",
          "2021-06-28",
          "2021-06-29",
          "2021-06-30",
          "2021-07-01",
          "2021-07-02",
          "2021-07-03",
          "2021-07-04",
          "2021-07-05",
          "2021-07-06",
          "2021-07-07",
          "2021-07-08",
          "2021-07-09",
          "2021-07-10",
          "2021-07-11",
          "2021-07-12",
          "2021-07-13",
          "2021-07-14",
          "2021-07-15",
          "2021-07-16",
          "2021-07-17",
          "2021-07-18",
          "2021-07-19",
          "2021-07-20",
          "2021-07-21",
          "2021-07-22",
          "2021-07-23",
          "2021-07-24",
          "2021-07-25",
          "2021-07-26",
          "2021-07-27",
          "2021-07-28",
          "2021-07-29",
          "2021-07-30",
          "2021-07-31",
          "2021-08-01",
          "2021-08-02",
          "2021-08-03",
          "2021-08-04",
          "2021-08-05",
          "2021-08-06",
          "2021-08-07",
          "2021-08-08",
          "2021-08-09",
          "2021-08-10",
          "2021-08-11",
          "2021-08-12",
          "2021-08-13",
          "2021-08-14",
          "2021-08-15"
         ],
         "xaxis": "x2",
         "y": [
          1.053820726,
          1.086459574,
          2.255547703,
          3.000158228,
          3.131701493,
          3.390361446,
          3.675714286,
          3.576774194,
          4.396363636,
          4.467692308,
          4.467272727,
          5.28,
          5.16,
          5.860465116,
          5.0568,
          5.387755102,
          5.746363636,
          5.648372093,
          5.272173913,
          5.637446809,
          5.7575,
          5.76,
          5.46,
          5.169230769,
          5.66475,
          4.626506024,
          4.731,
          3.978947368,
          4.994285714,
          3.889565217,
          4.14,
          3.78,
          4.462857143,
          3.550909091,
          3.768387097,
          3.72,
          3.63,
          3.422975207,
          3.63,
          3.69,
          3.681219512,
          3.775813953,
          3.664772727,
          3.6432,
          3.717391304,
          3.480263158,
          3.122608696,
          3.712857143,
          3.122123894,
          3.178125,
          3.018666667,
          3.03869258,
          2.674505495,
          2.687674419,
          2.58,
          2.34,
          2.388034188,
          2.191090909,
          1.933009709,
          2.014475138,
          1.758870056,
          1.50244186,
          1.460821918,
          1.46
         ],
         "yaxis": "y2"
        },
        {
         "line": {
          "color": "gray",
          "dash": "dot",
          "width": 4
         },
         "mode": "lines",
         "name": "Delta(Actual Data)",
         "showlegend": false,
         "type": "scatter",
         "x": [
          "2021-06-13",
          "2021-06-14",
          "2021-06-15",
          "2021-06-16",
          "2021-06-17",
          "2021-06-18",
          "2021-06-19",
          "2021-06-20",
          "2021-06-21",
          "2021-06-22",
          "2021-06-23",
          "2021-06-24",
          "2021-06-25",
          "2021-06-26",
          "2021-06-27",
          "2021-06-28",
          "2021-06-29",
          "2021-06-30",
          "2021-07-01",
          "2021-07-02",
          "2021-07-03",
          "2021-07-04",
          "2021-07-05",
          "2021-07-06",
          "2021-07-07",
          "2021-07-08",
          "2021-07-09",
          "2021-07-10",
          "2021-07-11",
          "2021-07-12",
          "2021-07-13",
          "2021-07-14",
          "2021-07-15",
          "2021-07-16",
          "2021-07-17",
          "2021-07-18",
          "2021-07-19",
          "2021-07-20",
          "2021-07-21",
          "2021-07-22",
          "2021-07-23",
          "2021-07-24",
          "2021-07-25",
          "2021-07-26",
          "2021-07-27",
          "2021-07-28",
          "2021-07-29",
          "2021-07-30",
          "2021-07-31",
          "2021-08-01",
          "2021-08-02",
          "2021-08-03",
          "2021-08-04",
          "2021-08-05",
          "2021-08-06",
          "2021-08-07",
          "2021-08-08",
          "2021-08-09",
          "2021-08-10",
          "2021-08-11",
          "2021-08-12",
          "2021-08-13",
          "2021-08-14",
          "2021-08-15"
         ],
         "xaxis": "x2",
         "y": [
          1.91,
          1.96,
          2.99,
          3.46,
          3.71,
          3.76,
          3.92,
          4.34,
          5.12,
          7.46,
          10.16,
          10.13,
          10.63,
          11.27,
          14.25,
          14.11,
          14.16,
          14.77,
          16.44,
          17.08,
          17.97,
          19.11,
          20.69,
          21.3,
          21.13,
          23.69,
          23.5,
          22.72,
          21.37,
          24.91,
          28.46,
          30.83,
          30.06,
          33.41,
          33.42,
          34.81,
          38.61,
          45.67,
          47.34,
          52.09,
          57.66,
          62.28,
          67.44,
          67.75,
          67.65,
          72.58,
          75.25,
          74.2,
          82.26,
          86.24,
          82.93,
          79.57,
          82.55,
          89.1,
          101.94,
          114.42,
          114.14,
          111.24,
          110.42,
          109.55,
          116.15,
          119.72,
          119.98,
          117.8
         ],
         "yaxis": "y2"
        },
        {
         "line": {
          "color": "blue"
         },
         "mode": "lines",
         "name": "Delta(Predicted Data)",
         "showlegend": false,
         "type": "scatter",
         "x": [
          "2021-06-13",
          "2021-06-14",
          "2021-06-15",
          "2021-06-16",
          "2021-06-17",
          "2021-06-18",
          "2021-06-19",
          "2021-06-20",
          "2021-06-21",
          "2021-06-22",
          "2021-06-23",
          "2021-06-24",
          "2021-06-25",
          "2021-06-26",
          "2021-06-27",
          "2021-06-28",
          "2021-06-29",
          "2021-06-30",
          "2021-07-01",
          "2021-07-02",
          "2021-07-03",
          "2021-07-04",
          "2021-07-05",
          "2021-07-06",
          "2021-07-07",
          "2021-07-08",
          "2021-07-09",
          "2021-07-10",
          "2021-07-11",
          "2021-07-12",
          "2021-07-13",
          "2021-07-14",
          "2021-07-15",
          "2021-07-16",
          "2021-07-17",
          "2021-07-18",
          "2021-07-19",
          "2021-07-20",
          "2021-07-21",
          "2021-07-22",
          "2021-07-23",
          "2021-07-24",
          "2021-07-25",
          "2021-07-26",
          "2021-07-27",
          "2021-07-28",
          "2021-07-29",
          "2021-07-30",
          "2021-07-31",
          "2021-08-01",
          "2021-08-02",
          "2021-08-03",
          "2021-08-04",
          "2021-08-05",
          "2021-08-06",
          "2021-08-07",
          "2021-08-08",
          "2021-08-09",
          "2021-08-10",
          "2021-08-11",
          "2021-08-12",
          "2021-08-13",
          "2021-08-14",
          "2021-08-15"
         ],
         "xaxis": "x2",
         "y": [
          2.00104712,
          2.91372449,
          2.268093645,
          3.206040462,
          3.506630728,
          3.86787234,
          4.162857143,
          4.624516129,
          6.323515625,
          6.97308311,
          7.437972441,
          10.66148075,
          10.73989652,
          13.44077196,
          11.15927719,
          14.3004961,
          14.71784605,
          15.76102911,
          15.34498783,
          17.29665105,
          18.16353923,
          19.45574568,
          19.67341711,
          20.52486854,
          23.88059631,
          20.96053187,
          22.90369362,
          22.10365317,
          26.48363126,
          24.41550381,
          26.98437456,
          27.74919235,
          34.26581171,
          30.06899731,
          34.79958408,
          37.06826199,
          41.17515411,
          40.02183928,
          50.25243557,
          52.40208101,
          56.26370447,
          62.43722543,
          62.56628114,
          67.34045756,
          72.68728751,
          70.13864012,
          71.56725581,
          83.4240566,
          77.79003161,
          79.10275742,
          82.74589172,
          86.73076187,
          95.04740451,
          100.7461869,
          105.712086,
          111.4237054,
          112.3543103,
          117.2803929,
          120.2804398,
          113.321875,
          115.3923865,
          118.8580086,
          105.3636724,
          95.8180177
         ],
         "yaxis": "y2"
        }
       ],
       "layout": {
        "annotations": [
         {
          "font": {
           "size": 25
          },
          "showarrow": false,
          "text": "Predicted Transmission Rate For Alpha & Delta",
          "x": 0.225,
          "xanchor": "center",
          "xref": "paper",
          "y": 1,
          "yanchor": "bottom",
          "yref": "paper"
         },
         {
          "font": {
           "size": 25
          },
          "showarrow": false,
          "text": "Predicted Infected using Predicted Transmission Rate",
          "x": 0.775,
          "xanchor": "center",
          "xref": "paper",
          "y": 1,
          "yanchor": "bottom",
          "yref": "paper"
         },
         {
          "font": {
           "color": "red",
           "size": 20
          },
          "showarrow": false,
          "text": "Training Data",
          "x": "2021-07-25",
          "xref": "x",
          "y": 0.2,
          "yref": "y"
         },
         {
          "font": {
           "color": "red",
           "size": 20
          },
          "showarrow": false,
          "text": "Prediction",
          "x": "2021-08-07",
          "xref": "x",
          "y": 0.2,
          "yref": "y"
         },
         {
          "font": {
           "color": "red",
           "size": 20
          },
          "showarrow": false,
          "text": "Training Data",
          "x": "2021-07-25",
          "xref": "x2",
          "y": 1500,
          "yref": "y2"
         },
         {
          "font": {
           "color": "red",
           "size": 20
          },
          "showarrow": false,
          "text": "Prediction",
          "x": "2021-08-07",
          "xref": "x2",
          "y": 1500,
          "yref": "y2"
         }
        ],
        "height": 800,
        "legend": {
         "bordercolor": "Black",
         "borderwidth": 0.5,
         "orientation": "h",
         "x": 0.95,
         "xanchor": "right",
         "y": 1.08
        },
        "margin": {
         "t": 200
        },
        "plot_bgcolor": "white",
        "shapes": [
         {
          "line": {
           "color": "red",
           "dash": "dash",
           "width": 2
          },
          "type": "line",
          "x0": "2021-08-01",
          "x1": "2021-08-01",
          "xref": "x",
          "y0": 0,
          "y1": 1,
          "yref": "y domain"
         },
         {
          "line": {
           "color": "red",
           "dash": "dash",
           "width": 2
          },
          "type": "line",
          "x0": "2021-08-01",
          "x1": "2021-08-01",
          "xref": "x2",
          "y0": 0,
          "y1": 1,
          "yref": "y2 domain"
         }
        ],
        "template": {
         "data": {
          "bar": [
           {
            "error_x": {
             "color": "#2a3f5f"
            },
            "error_y": {
             "color": "#2a3f5f"
            },
            "marker": {
             "line": {
              "color": "#E5ECF6",
              "width": 0.5
             },
             "pattern": {
              "fillmode": "overlay",
              "size": 10,
              "solidity": 0.2
             }
            },
            "type": "bar"
           }
          ],
          "barpolar": [
           {
            "marker": {
             "line": {
              "color": "#E5ECF6",
              "width": 0.5
             },
             "pattern": {
              "fillmode": "overlay",
              "size": 10,
              "solidity": 0.2
             }
            },
            "type": "barpolar"
           }
          ],
          "carpet": [
           {
            "aaxis": {
             "endlinecolor": "#2a3f5f",
             "gridcolor": "white",
             "linecolor": "white",
             "minorgridcolor": "white",
             "startlinecolor": "#2a3f5f"
            },
            "baxis": {
             "endlinecolor": "#2a3f5f",
             "gridcolor": "white",
             "linecolor": "white",
             "minorgridcolor": "white",
             "startlinecolor": "#2a3f5f"
            },
            "type": "carpet"
           }
          ],
          "choropleth": [
           {
            "colorbar": {
             "outlinewidth": 0,
             "ticks": ""
            },
            "type": "choropleth"
           }
          ],
          "contour": [
           {
            "colorbar": {
             "outlinewidth": 0,
             "ticks": ""
            },
            "colorscale": [
             [
              0,
              "#0d0887"
             ],
             [
              0.1111111111111111,
              "#46039f"
             ],
             [
              0.2222222222222222,
              "#7201a8"
             ],
             [
              0.3333333333333333,
              "#9c179e"
             ],
             [
              0.4444444444444444,
              "#bd3786"
             ],
             [
              0.5555555555555556,
              "#d8576b"
             ],
             [
              0.6666666666666666,
              "#ed7953"
             ],
             [
              0.7777777777777778,
              "#fb9f3a"
             ],
             [
              0.8888888888888888,
              "#fdca26"
             ],
             [
              1,
              "#f0f921"
             ]
            ],
            "type": "contour"
           }
          ],
          "contourcarpet": [
           {
            "colorbar": {
             "outlinewidth": 0,
             "ticks": ""
            },
            "type": "contourcarpet"
           }
          ],
          "heatmap": [
           {
            "colorbar": {
             "outlinewidth": 0,
             "ticks": ""
            },
            "colorscale": [
             [
              0,
              "#0d0887"
             ],
             [
              0.1111111111111111,
              "#46039f"
             ],
             [
              0.2222222222222222,
              "#7201a8"
             ],
             [
              0.3333333333333333,
              "#9c179e"
             ],
             [
              0.4444444444444444,
              "#bd3786"
             ],
             [
              0.5555555555555556,
              "#d8576b"
             ],
             [
              0.6666666666666666,
              "#ed7953"
             ],
             [
              0.7777777777777778,
              "#fb9f3a"
             ],
             [
              0.8888888888888888,
              "#fdca26"
             ],
             [
              1,
              "#f0f921"
             ]
            ],
            "type": "heatmap"
           }
          ],
          "heatmapgl": [
           {
            "colorbar": {
             "outlinewidth": 0,
             "ticks": ""
            },
            "colorscale": [
             [
              0,
              "#0d0887"
             ],
             [
              0.1111111111111111,
              "#46039f"
             ],
             [
              0.2222222222222222,
              "#7201a8"
             ],
             [
              0.3333333333333333,
              "#9c179e"
             ],
             [
              0.4444444444444444,
              "#bd3786"
             ],
             [
              0.5555555555555556,
              "#d8576b"
             ],
             [
              0.6666666666666666,
              "#ed7953"
             ],
             [
              0.7777777777777778,
              "#fb9f3a"
             ],
             [
              0.8888888888888888,
              "#fdca26"
             ],
             [
              1,
              "#f0f921"
             ]
            ],
            "type": "heatmapgl"
           }
          ],
          "histogram": [
           {
            "marker": {
             "pattern": {
              "fillmode": "overlay",
              "size": 10,
              "solidity": 0.2
             }
            },
            "type": "histogram"
           }
          ],
          "histogram2d": [
           {
            "colorbar": {
             "outlinewidth": 0,
             "ticks": ""
            },
            "colorscale": [
             [
              0,
              "#0d0887"
             ],
             [
              0.1111111111111111,
              "#46039f"
             ],
             [
              0.2222222222222222,
              "#7201a8"
             ],
             [
              0.3333333333333333,
              "#9c179e"
             ],
             [
              0.4444444444444444,
              "#bd3786"
             ],
             [
              0.5555555555555556,
              "#d8576b"
             ],
             [
              0.6666666666666666,
              "#ed7953"
             ],
             [
              0.7777777777777778,
              "#fb9f3a"
             ],
             [
              0.8888888888888888,
              "#fdca26"
             ],
             [
              1,
              "#f0f921"
             ]
            ],
            "type": "histogram2d"
           }
          ],
          "histogram2dcontour": [
           {
            "colorbar": {
             "outlinewidth": 0,
             "ticks": ""
            },
            "colorscale": [
             [
              0,
              "#0d0887"
             ],
             [
              0.1111111111111111,
              "#46039f"
             ],
             [
              0.2222222222222222,
              "#7201a8"
             ],
             [
              0.3333333333333333,
              "#9c179e"
             ],
             [
              0.4444444444444444,
              "#bd3786"
             ],
             [
              0.5555555555555556,
              "#d8576b"
             ],
             [
              0.6666666666666666,
              "#ed7953"
             ],
             [
              0.7777777777777778,
              "#fb9f3a"
             ],
             [
              0.8888888888888888,
              "#fdca26"
             ],
             [
              1,
              "#f0f921"
             ]
            ],
            "type": "histogram2dcontour"
           }
          ],
          "mesh3d": [
           {
            "colorbar": {
             "outlinewidth": 0,
             "ticks": ""
            },
            "type": "mesh3d"
           }
          ],
          "parcoords": [
           {
            "line": {
             "colorbar": {
              "outlinewidth": 0,
              "ticks": ""
             }
            },
            "type": "parcoords"
           }
          ],
          "pie": [
           {
            "automargin": true,
            "type": "pie"
           }
          ],
          "scatter": [
           {
            "fillpattern": {
             "fillmode": "overlay",
             "size": 10,
             "solidity": 0.2
            },
            "type": "scatter"
           }
          ],
          "scatter3d": [
           {
            "line": {
             "colorbar": {
              "outlinewidth": 0,
              "ticks": ""
             }
            },
            "marker": {
             "colorbar": {
              "outlinewidth": 0,
              "ticks": ""
             }
            },
            "type": "scatter3d"
           }
          ],
          "scattercarpet": [
           {
            "marker": {
             "colorbar": {
              "outlinewidth": 0,
              "ticks": ""
             }
            },
            "type": "scattercarpet"
           }
          ],
          "scattergeo": [
           {
            "marker": {
             "colorbar": {
              "outlinewidth": 0,
              "ticks": ""
             }
            },
            "type": "scattergeo"
           }
          ],
          "scattergl": [
           {
            "marker": {
             "colorbar": {
              "outlinewidth": 0,
              "ticks": ""
             }
            },
            "type": "scattergl"
           }
          ],
          "scattermapbox": [
           {
            "marker": {
             "colorbar": {
              "outlinewidth": 0,
              "ticks": ""
             }
            },
            "type": "scattermapbox"
           }
          ],
          "scatterpolar": [
           {
            "marker": {
             "colorbar": {
              "outlinewidth": 0,
              "ticks": ""
             }
            },
            "type": "scatterpolar"
           }
          ],
          "scatterpolargl": [
           {
            "marker": {
             "colorbar": {
              "outlinewidth": 0,
              "ticks": ""
             }
            },
            "type": "scatterpolargl"
           }
          ],
          "scatterternary": [
           {
            "marker": {
             "colorbar": {
              "outlinewidth": 0,
              "ticks": ""
             }
            },
            "type": "scatterternary"
           }
          ],
          "surface": [
           {
            "colorbar": {
             "outlinewidth": 0,
             "ticks": ""
            },
            "colorscale": [
             [
              0,
              "#0d0887"
             ],
             [
              0.1111111111111111,
              "#46039f"
             ],
             [
              0.2222222222222222,
              "#7201a8"
             ],
             [
              0.3333333333333333,
              "#9c179e"
             ],
             [
              0.4444444444444444,
              "#bd3786"
             ],
             [
              0.5555555555555556,
              "#d8576b"
             ],
             [
              0.6666666666666666,
              "#ed7953"
             ],
             [
              0.7777777777777778,
              "#fb9f3a"
             ],
             [
              0.8888888888888888,
              "#fdca26"
             ],
             [
              1,
              "#f0f921"
             ]
            ],
            "type": "surface"
           }
          ],
          "table": [
           {
            "cells": {
             "fill": {
              "color": "#EBF0F8"
             },
             "line": {
              "color": "white"
             }
            },
            "header": {
             "fill": {
              "color": "#C8D4E3"
             },
             "line": {
              "color": "white"
             }
            },
            "type": "table"
           }
          ]
         },
         "layout": {
          "annotationdefaults": {
           "arrowcolor": "#2a3f5f",
           "arrowhead": 0,
           "arrowwidth": 1
          },
          "autotypenumbers": "strict",
          "coloraxis": {
           "colorbar": {
            "outlinewidth": 0,
            "ticks": ""
           }
          },
          "colorscale": {
           "diverging": [
            [
             0,
             "#8e0152"
            ],
            [
             0.1,
             "#c51b7d"
            ],
            [
             0.2,
             "#de77ae"
            ],
            [
             0.3,
             "#f1b6da"
            ],
            [
             0.4,
             "#fde0ef"
            ],
            [
             0.5,
             "#f7f7f7"
            ],
            [
             0.6,
             "#e6f5d0"
            ],
            [
             0.7,
             "#b8e186"
            ],
            [
             0.8,
             "#7fbc41"
            ],
            [
             0.9,
             "#4d9221"
            ],
            [
             1,
             "#276419"
            ]
           ],
           "sequential": [
            [
             0,
             "#0d0887"
            ],
            [
             0.1111111111111111,
             "#46039f"
            ],
            [
             0.2222222222222222,
             "#7201a8"
            ],
            [
             0.3333333333333333,
             "#9c179e"
            ],
            [
             0.4444444444444444,
             "#bd3786"
            ],
            [
             0.5555555555555556,
             "#d8576b"
            ],
            [
             0.6666666666666666,
             "#ed7953"
            ],
            [
             0.7777777777777778,
             "#fb9f3a"
            ],
            [
             0.8888888888888888,
             "#fdca26"
            ],
            [
             1,
             "#f0f921"
            ]
           ],
           "sequentialminus": [
            [
             0,
             "#0d0887"
            ],
            [
             0.1111111111111111,
             "#46039f"
            ],
            [
             0.2222222222222222,
             "#7201a8"
            ],
            [
             0.3333333333333333,
             "#9c179e"
            ],
            [
             0.4444444444444444,
             "#bd3786"
            ],
            [
             0.5555555555555556,
             "#d8576b"
            ],
            [
             0.6666666666666666,
             "#ed7953"
            ],
            [
             0.7777777777777778,
             "#fb9f3a"
            ],
            [
             0.8888888888888888,
             "#fdca26"
            ],
            [
             1,
             "#f0f921"
            ]
           ]
          },
          "colorway": [
           "#636efa",
           "#EF553B",
           "#00cc96",
           "#ab63fa",
           "#FFA15A",
           "#19d3f3",
           "#FF6692",
           "#B6E880",
           "#FF97FF",
           "#FECB52"
          ],
          "font": {
           "color": "#2a3f5f"
          },
          "geo": {
           "bgcolor": "white",
           "lakecolor": "white",
           "landcolor": "#E5ECF6",
           "showlakes": true,
           "showland": true,
           "subunitcolor": "white"
          },
          "hoverlabel": {
           "align": "left"
          },
          "hovermode": "closest",
          "mapbox": {
           "style": "light"
          },
          "paper_bgcolor": "white",
          "plot_bgcolor": "#E5ECF6",
          "polar": {
           "angularaxis": {
            "gridcolor": "white",
            "linecolor": "white",
            "ticks": ""
           },
           "bgcolor": "#E5ECF6",
           "radialaxis": {
            "gridcolor": "white",
            "linecolor": "white",
            "ticks": ""
           }
          },
          "scene": {
           "xaxis": {
            "backgroundcolor": "#E5ECF6",
            "gridcolor": "white",
            "gridwidth": 2,
            "linecolor": "white",
            "showbackground": true,
            "ticks": "",
            "zerolinecolor": "white"
           },
           "yaxis": {
            "backgroundcolor": "#E5ECF6",
            "gridcolor": "white",
            "gridwidth": 2,
            "linecolor": "white",
            "showbackground": true,
            "ticks": "",
            "zerolinecolor": "white"
           },
           "zaxis": {
            "backgroundcolor": "#E5ECF6",
            "gridcolor": "white",
            "gridwidth": 2,
            "linecolor": "white",
            "showbackground": true,
            "ticks": "",
            "zerolinecolor": "white"
           }
          },
          "shapedefaults": {
           "line": {
            "color": "#2a3f5f"
           }
          },
          "ternary": {
           "aaxis": {
            "gridcolor": "white",
            "linecolor": "white",
            "ticks": ""
           },
           "baxis": {
            "gridcolor": "white",
            "linecolor": "white",
            "ticks": ""
           },
           "bgcolor": "#E5ECF6",
           "caxis": {
            "gridcolor": "white",
            "linecolor": "white",
            "ticks": ""
           }
          },
          "title": {
           "x": 0.05
          },
          "xaxis": {
           "automargin": true,
           "gridcolor": "white",
           "linecolor": "white",
           "ticks": "",
           "title": {
            "standoff": 15
           },
           "zerolinecolor": "white",
           "zerolinewidth": 2
          },
          "yaxis": {
           "automargin": true,
           "gridcolor": "white",
           "linecolor": "white",
           "ticks": "",
           "title": {
            "standoff": 15
           },
           "zerolinecolor": "white",
           "zerolinewidth": 2
          }
         }
        },
        "title": {
         "font": {
          "color": "#000000",
          "family": "Arial",
          "size": 30
         },
         "text": "<b>Medium term prediction by using BiLSTM for Sejong</b><br><sub>Alpha / Delta</sub>",
         "x": 0.5,
         "xanchor": "center",
         "y": 0.95,
         "yanchor": "bottom"
        },
        "width": 1200,
        "xaxis": {
         "anchor": "y",
         "domain": [
          0,
          0.45
         ],
         "gridcolor": "lightgray",
         "linecolor": "gray",
         "mirror": true,
         "title": {
          "text": "Date"
         }
        },
        "xaxis2": {
         "anchor": "y2",
         "domain": [
          0.55,
          1
         ],
         "gridcolor": "lightgray",
         "linecolor": "gray",
         "mirror": true,
         "title": {
          "text": "Date"
         }
        },
        "yaxis": {
         "anchor": "x",
         "domain": [
          0,
          1
         ],
         "gridcolor": "lightgray",
         "linecolor": "gray",
         "mirror": true,
         "title": {
          "text": "Number"
         }
        },
        "yaxis2": {
         "anchor": "x2",
         "domain": [
          0,
          1
         ],
         "gridcolor": "lightgray",
         "linecolor": "gray",
         "mirror": true,
         "title": {
          "text": "Number"
         }
        }
       }
      }
     },
     "metadata": {},
     "output_type": "display_data"
    }
   ],
   "source": [
    "# 중기\n",
    "\n",
    "fig = make_subplots(rows=1, cols=2, \n",
    "                    horizontal_spacing=0.1, # 너비 간격을 설정할 수 있음 \n",
    "                    subplot_titles=('Predicted Transmission Rate For Alpha & Delta', 'Predicted Infected using Predicted Transmission Rate')\n",
    "                    )\n",
    "fig.update_annotations(font_size=25)\n",
    "# alpha\n",
    "fig.add_trace(go.Scatter(x=alpha_dic[region]['stdDay'], y=alpha_dic[region]['Alpha_alpha'], name='Alpha(Actual Data)', \n",
    "                         mode='lines', line=dict(color='black', width=2, dash='dot')), row=1, col=1)\n",
    "fig.add_trace(go.Scatter(x=alpha_dic[region]['stdDay'], y=alpha_dic[region]['predicted_Alpha_alpha'], name='Alpha(Predicted Data)', \n",
    "                         mode='lines', line=dict(color='red', width=2)), row=1, col=1)\n",
    "fig.add_trace(go.Scatter(x=delta_dic[region]['stdDay'], y=delta_dic[region]['Delta_alpha'], name='Delta(Actual Data)', \n",
    "                         mode='lines', line=dict(color='gray', width=2, dash='dot')), row=1, col=1)\n",
    "fig.add_trace(go.Scatter(x=delta_dic[region]['stdDay'], y=delta_dic[region]['predicted_Delta_alpha'], name='Delta(Predicted Data)', \n",
    "                         mode='lines', line=dict(color='blue', width=2)), row=1, col=1)\n",
    "\n",
    "# Infected\n",
    "fig.add_trace(go.Scatter(x=alpha_dic[region]['stdDay'], y=alpha_dic[region]['Alpha_Infected'], name='Alpha(Actual Data)', showlegend=False,\n",
    "                         mode='lines', line=dict(color='black', width=4, dash='dot')), row=1, col=2)\n",
    "fig.add_trace(go.Scatter(x=alpha_dic[region]['stdDay'], y=alpha_dic[region]['predicted_Alpha_Infected'], name='Alpha(Predicted Data)', showlegend=False,\n",
    "                         mode='lines', line=dict(color='red')), row=1, col=2)\n",
    "fig.add_trace(go.Scatter(x=delta_dic[region]['stdDay'], y=delta_dic[region]['Delta_Infected'], name='Delta(Actual Data)', showlegend=False,\n",
    "                         mode='lines', line=dict(color='gray', width=4, dash='dot')), row=1, col=2)\n",
    "fig.add_trace(go.Scatter(x=delta_dic[region]['stdDay'], y=delta_dic[region]['predicted_Delta_Infected'], name='Delta(Predicted Data)', showlegend=False,\n",
    "                         mode='lines', line=dict(color='blue')), row=1, col=2)\n",
    "fig.add_vline(x=alpha_dic[region]['stdDay'][49], line_width=2, line_dash=\"dash\", line_color=\"red\")\n",
    "\n",
    "fig.add_annotation(x='2021-07-25', y=0.20, text='Training Data', font_size=20, font_color='red', showarrow=False, row=1, col=1)\n",
    "fig.add_annotation(x='2021-08-07', y=0.20, text='Prediction', font_size=20, font_color='red', showarrow=False, row=1, col=1)\n",
    "fig.add_annotation(x='2021-07-25', y=1500, text='Training Data', font_size=20, font_color='red', showarrow=False, row=1, col=2)\n",
    "fig.add_annotation(x='2021-08-07', y=1500, text='Prediction', font_size=20, font_color='red', showarrow=False, row=1, col=2)\n",
    "                \n",
    "fig.update_layout(\n",
    "    height=800, \n",
    "    width=1200, \n",
    "\n",
    "    xaxis1_title = 'Date',\n",
    "    yaxis1_title = 'Number',\n",
    "    xaxis2_title = 'Date',\n",
    "    yaxis2_title = 'Number',\n",
    "    plot_bgcolor ='white', # 차트 안쪽 배경색\n",
    "    margin_t=200,\n",
    "    title=dict(text=f'<b>Medium term prediction by using BiLSTM for {eng[region]}</b><br><sub>Alpha / Delta</sub>',\n",
    "               xanchor='center', yanchor='bottom', \n",
    "               x=0.5, y=0.95,\n",
    "               font=dict(\n",
    "                family=\"Arial\",\n",
    "                size=30,\n",
    "                color=\"#000000\"\n",
    "                )),\n",
    "    legend=dict(orientation ='h',\n",
    "                xanchor='right', x=0.95, y=1.08,\n",
    "                bordercolor=\"Black\",\n",
    "                borderwidth=0.5),\n",
    "\n",
    ")\n",
    "\n",
    "fig.update_xaxes(linecolor='gray', gridcolor='lightgray',mirror=True)\n",
    "fig.update_yaxes(linecolor='gray', gridcolor='lightgray',mirror=True)\n",
    "fig.show()\n",
    "fig.write_image(f\"./image/alpha&delta_{eng[region]}_Medium_term.png\", width=1920, height=1280)"
   ]
  },
  {
   "cell_type": "code",
   "execution_count": null,
   "metadata": {},
   "outputs": [
    {
     "name": "stdout",
     "output_type": "stream",
     "text": [
      "        stdDay  23A_alpha  predicted_23A_alpha  23A_Infected  \\\n",
      "0   2023-02-19   0.214845             0.501372         50.08   \n",
      "1   2023-02-20   0.425580             0.423295         51.12   \n",
      "2   2023-02-21   0.462355             0.528977         48.08   \n",
      "3   2023-02-22   0.451867             0.494507         45.68   \n",
      "4   2023-02-23   0.414832             0.536425         45.92   \n",
      "..         ...        ...                  ...           ...   \n",
      "70  2023-04-30   0.209447             0.368859        425.60   \n",
      "71  2023-05-01   0.555617             0.431893        432.64   \n",
      "72  2023-05-02   0.698299             0.461437        422.40   \n",
      "73  2023-05-03   0.588720             0.431192        442.24   \n",
      "74  2023-05-04   0.000000             0.438027        466.56   \n",
      "\n",
      "    predicted_23A_Infected  \n",
      "0                46.710288  \n",
      "1                47.101847  \n",
      "2                48.568253  \n",
      "3                48.332609  \n",
      "4                45.441254  \n",
      "..                     ...  \n",
      "70              369.476643  \n",
      "71              395.040577  \n",
      "72              369.554511  \n",
      "73              358.043405  \n",
      "74              359.154692  \n",
      "\n",
      "[75 rows x 5 columns]\n"
     ]
    }
   ],
   "source": [
    "# alpha\n",
    "D22_file_list = glob.glob('./Capstone/Capstone/Dataset/SIR/22D/*.csv')\n",
    "\n",
    "dic_22D = {}\n",
    "for i in range(5):\n",
    "    data = pd.read_csv(D22_file_list[i])\n",
    "    df = pd.DataFrame(data)\n",
    "    dic_22D[keys[i]] = df\n",
    "\n",
    "# delta\n",
    "A23_file_list = glob.glob('./Capstone/Capstone/Dataset/SIR/23A/*.csv')\n",
    "\n",
    "dic_23A = {}\n",
    "for i in range(5):\n",
    "    data = pd.read_csv(A23_file_list[i])\n",
    "    df = pd.DataFrame(data)\n",
    "    dic_23A[keys[i]] = df\n",
    "\n",
    "print(dic_23A[region], sep='\\n')"
   ]
  },
  {
   "cell_type": "code",
   "execution_count": null,
   "metadata": {},
   "outputs": [
    {
     "data": {
      "application/vnd.plotly.v1+json": {
       "config": {
        "plotlyServerURL": "https://plot.ly"
       },
       "data": [
        {
         "line": {
          "color": "black",
          "dash": "dot",
          "width": 2
         },
         "mode": "lines",
         "name": "22D(Actual Data)",
         "type": "scatter",
         "x": [
          "2023-02-19",
          "2023-02-20",
          "2023-02-21",
          "2023-02-22",
          "2023-02-23",
          "2023-02-24",
          "2023-02-25",
          "2023-02-26",
          "2023-02-27",
          "2023-02-28",
          "2023-03-01",
          "2023-03-02",
          "2023-03-03",
          "2023-03-04",
          "2023-03-05",
          "2023-03-06",
          "2023-03-07",
          "2023-03-08",
          "2023-03-09",
          "2023-03-10",
          "2023-03-11",
          "2023-03-12",
          "2023-03-13",
          "2023-03-14",
          "2023-03-15",
          "2023-03-16",
          "2023-03-17",
          "2023-03-18",
          "2023-03-19",
          "2023-03-20",
          "2023-03-21",
          "2023-03-22",
          "2023-03-23",
          "2023-03-24",
          "2023-03-25",
          "2023-03-26",
          "2023-03-27",
          "2023-03-28",
          "2023-03-29",
          "2023-03-30",
          "2023-03-31",
          "2023-04-01",
          "2023-04-02",
          "2023-04-03",
          "2023-04-04",
          "2023-04-05",
          "2023-04-06",
          "2023-04-07",
          "2023-04-08",
          "2023-04-09",
          "2023-04-10",
          "2023-04-11",
          "2023-04-12",
          "2023-04-13",
          "2023-04-14",
          "2023-04-15",
          "2023-04-16",
          "2023-04-17",
          "2023-04-18",
          "2023-04-19",
          "2023-04-20",
          "2023-04-21",
          "2023-04-22",
          "2023-04-23",
          "2023-04-24",
          "2023-04-25",
          "2023-04-26",
          "2023-04-27",
          "2023-04-28",
          "2023-04-29",
          "2023-04-30",
          "2023-05-01",
          "2023-05-02",
          "2023-05-03",
          "2023-05-04"
         ],
         "xaxis": "x",
         "y": [
          0.214844754,
          0.425580461,
          0.462354551,
          0.451866528,
          0.414832304,
          0.387115209,
          0.364036741,
          0.133246179,
          0.291700754,
          0.560936863,
          0.315004842,
          0.493925854,
          0.456936976,
          0.379042265,
          0,
          1.050751981,
          0.558065047,
          0.509257743,
          0.42772826,
          0.521611955,
          0.479139657,
          0.168776004,
          0.431131241,
          0.462903459,
          0.320512446,
          0.334650303,
          0.436393702,
          0.408734297,
          0.128815934,
          0.669585839,
          0.582243271,
          0.505962172,
          0.56201478,
          0.419478804,
          0.406645783,
          0.167741091,
          0.401429798,
          0.388374345,
          0.332350579,
          0.399053869,
          0.339947859,
          0.425405735,
          0.148741839,
          0.603606616,
          0.499556285,
          0.429194151,
          0.410535943,
          0.388169865,
          0.346106163,
          0.079887142,
          0.333432858,
          0.367891849,
          0.291583395,
          0.338570315,
          0.427078844,
          0.42835561,
          0.219887161,
          0.64213167,
          0.578943681,
          0.456524204,
          0.455099431,
          0.429411847,
          0.406982544,
          0.092689517,
          0.38351978,
          0.357037435,
          0.308127138,
          0.352707946,
          0.280404526,
          0.402135765,
          0.209446817,
          0.555617465,
          0.698298513,
          0.588720114,
          0
         ],
         "yaxis": "y"
        },
        {
         "line": {
          "color": "red",
          "width": 2
         },
         "mode": "lines",
         "name": "22D(Predicted Data)",
         "type": "scatter",
         "x": [
          "2023-02-19",
          "2023-02-20",
          "2023-02-21",
          "2023-02-22",
          "2023-02-23",
          "2023-02-24",
          "2023-02-25",
          "2023-02-26",
          "2023-02-27",
          "2023-02-28",
          "2023-03-01",
          "2023-03-02",
          "2023-03-03",
          "2023-03-04",
          "2023-03-05",
          "2023-03-06",
          "2023-03-07",
          "2023-03-08",
          "2023-03-09",
          "2023-03-10",
          "2023-03-11",
          "2023-03-12",
          "2023-03-13",
          "2023-03-14",
          "2023-03-15",
          "2023-03-16",
          "2023-03-17",
          "2023-03-18",
          "2023-03-19",
          "2023-03-20",
          "2023-03-21",
          "2023-03-22",
          "2023-03-23",
          "2023-03-24",
          "2023-03-25",
          "2023-03-26",
          "2023-03-27",
          "2023-03-28",
          "2023-03-29",
          "2023-03-30",
          "2023-03-31",
          "2023-04-01",
          "2023-04-02",
          "2023-04-03",
          "2023-04-04",
          "2023-04-05",
          "2023-04-06",
          "2023-04-07",
          "2023-04-08",
          "2023-04-09",
          "2023-04-10",
          "2023-04-11",
          "2023-04-12",
          "2023-04-13",
          "2023-04-14",
          "2023-04-15",
          "2023-04-16",
          "2023-04-17",
          "2023-04-18",
          "2023-04-19",
          "2023-04-20",
          "2023-04-21",
          "2023-04-22",
          "2023-04-23",
          "2023-04-24",
          "2023-04-25",
          "2023-04-26",
          "2023-04-27",
          "2023-04-28",
          "2023-04-29",
          "2023-04-30",
          "2023-05-01",
          "2023-05-02",
          "2023-05-03",
          "2023-05-04"
         ],
         "xaxis": "x",
         "y": [
          0.222175613,
          0.403701514,
          0.430818081,
          0.27180475,
          0.358513743,
          0.34520936,
          0.241874561,
          0.281138927,
          0.144101962,
          0.288808107,
          0.439318985,
          0.447494477,
          0.277780771,
          0.363055259,
          0.378998131,
          0.444395959,
          0.46285823,
          0.274952233,
          0.41352722,
          0.375130743,
          0.401333183,
          0.423704773,
          0.338999003,
          0.414936125,
          0.468154579,
          0.285089165,
          0.368347079,
          0.307531565,
          0.487931669,
          0.360163897,
          0.392347038,
          0.285690337,
          0.396031886,
          0.333511442,
          0.447836936,
          0.452765226,
          0.311655074,
          0.285148263,
          0.473337203,
          0.419020206,
          0.261624366,
          0.438043892,
          0.371205807,
          0.340601176,
          0.445895106,
          0.411158293,
          0.358988553,
          0.385457128,
          0.380745709,
          0.385886848,
          0.336717218,
          0.480779678,
          0.240774825,
          0.338644296,
          0.339025795,
          0.383166134,
          0.419327021,
          0.195974737,
          0.531808496,
          0.509439647,
          0.392269194,
          0.3206155,
          0.364994824,
          0.377444685,
          0.377838761,
          0.384721726,
          0.478263825,
          0.424508065,
          0.422463477,
          0.340063065,
          0.3815476,
          0.396240294,
          0.407581598,
          0.416457087,
          0.44561559
         ],
         "yaxis": "y"
        },
        {
         "line": {
          "color": "gray",
          "dash": "dot",
          "width": 2
         },
         "mode": "lines",
         "name": "23A(Actual Data)",
         "type": "scatter",
         "x": [
          "2023-02-19",
          "2023-02-20",
          "2023-02-21",
          "2023-02-22",
          "2023-02-23",
          "2023-02-24",
          "2023-02-25",
          "2023-02-26",
          "2023-02-27",
          "2023-02-28",
          "2023-03-01",
          "2023-03-02",
          "2023-03-03",
          "2023-03-04",
          "2023-03-05",
          "2023-03-06",
          "2023-03-07",
          "2023-03-08",
          "2023-03-09",
          "2023-03-10",
          "2023-03-11",
          "2023-03-12",
          "2023-03-13",
          "2023-03-14",
          "2023-03-15",
          "2023-03-16",
          "2023-03-17",
          "2023-03-18",
          "2023-03-19",
          "2023-03-20",
          "2023-03-21",
          "2023-03-22",
          "2023-03-23",
          "2023-03-24",
          "2023-03-25",
          "2023-03-26",
          "2023-03-27",
          "2023-03-28",
          "2023-03-29",
          "2023-03-30",
          "2023-03-31",
          "2023-04-01",
          "2023-04-02",
          "2023-04-03",
          "2023-04-04",
          "2023-04-05",
          "2023-04-06",
          "2023-04-07",
          "2023-04-08",
          "2023-04-09",
          "2023-04-10",
          "2023-04-11",
          "2023-04-12",
          "2023-04-13",
          "2023-04-14",
          "2023-04-15",
          "2023-04-16",
          "2023-04-17",
          "2023-04-18",
          "2023-04-19",
          "2023-04-20",
          "2023-04-21",
          "2023-04-22",
          "2023-04-23",
          "2023-04-24",
          "2023-04-25",
          "2023-04-26",
          "2023-04-27",
          "2023-04-28",
          "2023-04-29",
          "2023-04-30",
          "2023-05-01",
          "2023-05-02",
          "2023-05-03",
          "2023-05-04"
         ],
         "xaxis": "x",
         "y": [
          0.214844754,
          0.425580461,
          0.462354551,
          0.451866528,
          0.414832304,
          0.387115209,
          0.364036741,
          0.268481106,
          0.56036695,
          0.970985828,
          0.466198354,
          0.659926787,
          0.54590713,
          0.411964975,
          0,
          1.050751981,
          0.558065047,
          0.509257743,
          0.42772826,
          0.521611955,
          0.479139657,
          0.390394971,
          0.930080436,
          0.829156444,
          0.493140573,
          0.461779456,
          0.545434845,
          0.454687742,
          0.128815934,
          0.669585839,
          0.582243271,
          0.505962172,
          0.56201478,
          0.419478804,
          0.406645783,
          0.382052211,
          0.853202824,
          0.702645247,
          0.523067402,
          0.560323991,
          0.418778018,
          0.471746706,
          0.148741839,
          0.603606616,
          0.499556285,
          0.429194151,
          0.410535943,
          0.388169865,
          0.346106163,
          0.145880867,
          0.595302763,
          0.594982883,
          0.425401861,
          0.452395295,
          0.518116593,
          0.469860628,
          0.219887161,
          0.64213167,
          0.578943681,
          0.456524204,
          0.455099431,
          0.429411847,
          0.406982544,
          0.144958042,
          0.589214755,
          0.509207814,
          0.409252155,
          0.440221947,
          0.326175434,
          0.435454044,
          0.209446817,
          0.555617465,
          0.698298513,
          0.588720114,
          0
         ],
         "yaxis": "y"
        },
        {
         "line": {
          "color": "blue",
          "width": 2
         },
         "mode": "lines",
         "name": "23A(Predicted Data)",
         "type": "scatter",
         "x": [
          "2023-02-19",
          "2023-02-20",
          "2023-02-21",
          "2023-02-22",
          "2023-02-23",
          "2023-02-24",
          "2023-02-25",
          "2023-02-26",
          "2023-02-27",
          "2023-02-28",
          "2023-03-01",
          "2023-03-02",
          "2023-03-03",
          "2023-03-04",
          "2023-03-05",
          "2023-03-06",
          "2023-03-07",
          "2023-03-08",
          "2023-03-09",
          "2023-03-10",
          "2023-03-11",
          "2023-03-12",
          "2023-03-13",
          "2023-03-14",
          "2023-03-15",
          "2023-03-16",
          "2023-03-17",
          "2023-03-18",
          "2023-03-19",
          "2023-03-20",
          "2023-03-21",
          "2023-03-22",
          "2023-03-23",
          "2023-03-24",
          "2023-03-25",
          "2023-03-26",
          "2023-03-27",
          "2023-03-28",
          "2023-03-29",
          "2023-03-30",
          "2023-03-31",
          "2023-04-01",
          "2023-04-02",
          "2023-04-03",
          "2023-04-04",
          "2023-04-05",
          "2023-04-06",
          "2023-04-07",
          "2023-04-08",
          "2023-04-09",
          "2023-04-10",
          "2023-04-11",
          "2023-04-12",
          "2023-04-13",
          "2023-04-14",
          "2023-04-15",
          "2023-04-16",
          "2023-04-17",
          "2023-04-18",
          "2023-04-19",
          "2023-04-20",
          "2023-04-21",
          "2023-04-22",
          "2023-04-23",
          "2023-04-24",
          "2023-04-25",
          "2023-04-26",
          "2023-04-27",
          "2023-04-28",
          "2023-04-29",
          "2023-04-30",
          "2023-05-01",
          "2023-05-02",
          "2023-05-03",
          "2023-05-04"
         ],
         "xaxis": "x",
         "y": [
          0.501371741,
          0.423295319,
          0.528976917,
          0.494506925,
          0.536424935,
          0.467652708,
          0.530452251,
          0.524223804,
          0.514499366,
          0.592428565,
          0.565701604,
          0.529265463,
          0.510208368,
          0.487753481,
          0.543393195,
          0.516487718,
          0.598877847,
          0.548141599,
          0.538581371,
          0.526172042,
          0.475019097,
          0.545396686,
          0.553906202,
          0.572398603,
          0.549541116,
          0.56175822,
          0.49719435,
          0.517706633,
          0.554858565,
          0.535565376,
          0.537856102,
          0.559825063,
          0.613984227,
          0.50848043,
          0.4877415,
          0.402763158,
          0.489041001,
          0.473310769,
          0.52381283,
          0.481576115,
          0.388373643,
          0.439356983,
          0.445908338,
          0.514138162,
          0.492512703,
          0.48311469,
          0.507519364,
          0.512706518,
          0.544459283,
          0.494282514,
          0.497942299,
          0.472556561,
          0.474355787,
          0.478160888,
          0.252063662,
          0.385345936,
          0.48138845,
          0.497731894,
          0.508012652,
          0.504924595,
          0.489476174,
          0.521390736,
          0.464175254,
          0.441759229,
          0.430416077,
          0.45859611,
          0.464889586,
          0.42815423,
          0.398596078,
          0.376243144,
          0.368858933,
          0.4318932,
          0.461437136,
          0.431192279,
          0.438027352
         ],
         "yaxis": "y"
        },
        {
         "line": {
          "color": "black",
          "dash": "dot",
          "width": 4
         },
         "mode": "lines",
         "name": "22D(Actual Data)",
         "showlegend": false,
         "type": "scatter",
         "x": [
          "2023-02-19",
          "2023-02-20",
          "2023-02-21",
          "2023-02-22",
          "2023-02-23",
          "2023-02-24",
          "2023-02-25",
          "2023-02-26",
          "2023-02-27",
          "2023-02-28",
          "2023-03-01",
          "2023-03-02",
          "2023-03-03",
          "2023-03-04",
          "2023-03-05",
          "2023-03-06",
          "2023-03-07",
          "2023-03-08",
          "2023-03-09",
          "2023-03-10",
          "2023-03-11",
          "2023-03-12",
          "2023-03-13",
          "2023-03-14",
          "2023-03-15",
          "2023-03-16",
          "2023-03-17",
          "2023-03-18",
          "2023-03-19",
          "2023-03-20",
          "2023-03-21",
          "2023-03-22",
          "2023-03-23",
          "2023-03-24",
          "2023-03-25",
          "2023-03-26",
          "2023-03-27",
          "2023-03-28",
          "2023-03-29",
          "2023-03-30",
          "2023-03-31",
          "2023-04-01",
          "2023-04-02",
          "2023-04-03",
          "2023-04-04",
          "2023-04-05",
          "2023-04-06",
          "2023-04-07",
          "2023-04-08",
          "2023-04-09",
          "2023-04-10",
          "2023-04-11",
          "2023-04-12",
          "2023-04-13",
          "2023-04-14",
          "2023-04-15",
          "2023-04-16",
          "2023-04-17",
          "2023-04-18",
          "2023-04-19",
          "2023-04-20",
          "2023-04-21",
          "2023-04-22",
          "2023-04-23",
          "2023-04-24",
          "2023-04-25",
          "2023-04-26",
          "2023-04-27",
          "2023-04-28",
          "2023-04-29",
          "2023-04-30",
          "2023-05-01",
          "2023-05-02",
          "2023-05-03",
          "2023-05-04"
         ],
         "xaxis": "x2",
         "y": [
          450.72,
          460.08,
          432.72,
          411.12,
          413.28,
          411.12,
          414.72,
          404.64,
          389.56,
          360.69,
          361.2,
          335.93,
          333.79,
          331.28,
          322.27,
          303.51,
          374.53,
          376.54,
          403.34,
          405.35,
          425.45,
          452.25,
          478.57,
          439.14,
          436.78,
          418.61,
          407.14,
          395.15,
          380.24,
          370.72,
          384.72,
          391.44,
          411.04,
          441.84,
          444.08,
          450.24,
          459.18,
          436.85,
          417.85,
          397.28,
          372.14,
          351.76,
          340.86,
          332.28,
          337.35,
          336.57,
          338.13,
          331.11,
          331.5,
          319.41,
          310.83,
          277.81,
          255.19,
          231.4,
          210.86,
          197.73,
          187.46,
          192.66,
          199.16,
          203.32,
          209.3,
          214.76,
          215.28,
          216.06,
          208.93,
          194.19,
          178.7,
          166,
          153.66,
          137.23,
          126.35,
          128.44,
          125.4,
          131.29,
          138.51
         ],
         "yaxis": "y2"
        },
        {
         "line": {
          "color": "red"
         },
         "mode": "lines",
         "name": "22D(Predicted Data)",
         "showlegend": false,
         "type": "scatter",
         "x": [
          "2023-02-19",
          "2023-02-20",
          "2023-02-21",
          "2023-02-22",
          "2023-02-23",
          "2023-02-24",
          "2023-02-25",
          "2023-02-26",
          "2023-02-27",
          "2023-02-28",
          "2023-03-01",
          "2023-03-02",
          "2023-03-03",
          "2023-03-04",
          "2023-03-05",
          "2023-03-06",
          "2023-03-07",
          "2023-03-08",
          "2023-03-09",
          "2023-03-10",
          "2023-03-11",
          "2023-03-12",
          "2023-03-13",
          "2023-03-14",
          "2023-03-15",
          "2023-03-16",
          "2023-03-17",
          "2023-03-18",
          "2023-03-19",
          "2023-03-20",
          "2023-03-21",
          "2023-03-22",
          "2023-03-23",
          "2023-03-24",
          "2023-03-25",
          "2023-03-26",
          "2023-03-27",
          "2023-03-28",
          "2023-03-29",
          "2023-03-30",
          "2023-03-31",
          "2023-04-01",
          "2023-04-02",
          "2023-04-03",
          "2023-04-04",
          "2023-04-05",
          "2023-04-06",
          "2023-04-07",
          "2023-04-08",
          "2023-04-09",
          "2023-04-10",
          "2023-04-11",
          "2023-04-12",
          "2023-04-13",
          "2023-04-14",
          "2023-04-15",
          "2023-04-16",
          "2023-04-17",
          "2023-04-18",
          "2023-04-19",
          "2023-04-20",
          "2023-04-21",
          "2023-04-22",
          "2023-04-23",
          "2023-04-24",
          "2023-04-25",
          "2023-04-26",
          "2023-04-27",
          "2023-04-28",
          "2023-04-29",
          "2023-04-30",
          "2023-05-01",
          "2023-05-02",
          "2023-05-03",
          "2023-05-04"
         ],
         "xaxis": "x2",
         "y": [
          462.6115016,
          423.9166197,
          437.1142762,
          434.9934851,
          408.9712892,
          416.8989142,
          401.1275,
          399.2643416,
          374.6524325,
          390.1108209,
          335.4556802,
          358.8990206,
          333.4039078,
          324.7117342,
          311.9955094,
          397.6797572,
          305.1388551,
          401.1869395,
          378.4164452,
          423.3403306,
          430.8838583,
          450.2102963,
          414.9885388,
          475.9980976,
          420.8718243,
          424.8121383,
          406.2822162,
          391.7775872,
          385.256701,
          394.5995166,
          377.1954585,
          403.9835193,
          420.7713351,
          413.123853,
          447.9689281,
          452.8976866,
          428.3447537,
          439.2087971,
          415.3446644,
          391.4083241,
          375.5232246,
          360.6084842,
          342.9056293,
          346.0609155,
          331.5117225,
          338.9136153,
          329.5823875,
          338.5282686,
          319.0342235,
          322.5952381,
          285.478532,
          285.5214272,
          251.9112583,
          232.5383034,
          216.9909988,
          199.9080342,
          203.2148821,
          193.7845614,
          196.6842298,
          205.0176471,
          208.624,
          209.8067797,
          202.7209407,
          200.6264378,
          212.9761442,
          197.5490366,
          183.6045501,
          180.9038781,
          171.75532,
          161.4600113,
          145.3463868,
          156.011934,
          144.1104803,
          137.0619672,
          136.8221184
         ],
         "yaxis": "y2"
        },
        {
         "line": {
          "color": "gray",
          "dash": "dot",
          "width": 4
         },
         "mode": "lines",
         "name": "23A(Actual Data)",
         "showlegend": false,
         "type": "scatter",
         "x": [
          "2023-02-19",
          "2023-02-20",
          "2023-02-21",
          "2023-02-22",
          "2023-02-23",
          "2023-02-24",
          "2023-02-25",
          "2023-02-26",
          "2023-02-27",
          "2023-02-28",
          "2023-03-01",
          "2023-03-02",
          "2023-03-03",
          "2023-03-04",
          "2023-03-05",
          "2023-03-06",
          "2023-03-07",
          "2023-03-08",
          "2023-03-09",
          "2023-03-10",
          "2023-03-11",
          "2023-03-12",
          "2023-03-13",
          "2023-03-14",
          "2023-03-15",
          "2023-03-16",
          "2023-03-17",
          "2023-03-18",
          "2023-03-19",
          "2023-03-20",
          "2023-03-21",
          "2023-03-22",
          "2023-03-23",
          "2023-03-24",
          "2023-03-25",
          "2023-03-26",
          "2023-03-27",
          "2023-03-28",
          "2023-03-29",
          "2023-03-30",
          "2023-03-31",
          "2023-04-01",
          "2023-04-02",
          "2023-04-03",
          "2023-04-04",
          "2023-04-05",
          "2023-04-06",
          "2023-04-07",
          "2023-04-08",
          "2023-04-09",
          "2023-04-10",
          "2023-04-11",
          "2023-04-12",
          "2023-04-13",
          "2023-04-14",
          "2023-04-15",
          "2023-04-16",
          "2023-04-17",
          "2023-04-18",
          "2023-04-19",
          "2023-04-20",
          "2023-04-21",
          "2023-04-22",
          "2023-04-23",
          "2023-04-24",
          "2023-04-25",
          "2023-04-26",
          "2023-04-27",
          "2023-04-28",
          "2023-04-29",
          "2023-04-30",
          "2023-05-01",
          "2023-05-02",
          "2023-05-03",
          "2023-05-04"
         ],
         "xaxis": "x2",
         "y": [
          50.08,
          51.12,
          48.08,
          45.68,
          45.92,
          45.68,
          46.08,
          44.96,
          45.4,
          46.65,
          54.64,
          56.29,
          62.55,
          68.24,
          72.15,
          67.95,
          83.85,
          84.3,
          90.3,
          90.75,
          95.25,
          101.25,
          114.88,
          126.96,
          147.01,
          157.1,
          168.69,
          183.95,
          196.91,
          191.98,
          199.23,
          202.71,
          212.86,
          228.81,
          229.97,
          233.16,
          254.82,
          284.8,
          313.15,
          333.72,
          356.31,
          374.14,
          402.04,
          391.92,
          397.9,
          396.98,
          398.82,
          390.54,
          391,
          376.74,
          374.98,
          369.98,
          376.74,
          373,
          374.36,
          388.26,
          403.76,
          414.96,
          428.96,
          437.92,
          450.8,
          462.56,
          463.68,
          465.36,
          458.08,
          458.64,
          453.2,
          448,
          444.96,
          426.88,
          425.6,
          432.64,
          422.4,
          442.24,
          466.56
         ],
         "yaxis": "y2"
        },
        {
         "line": {
          "color": "blue"
         },
         "mode": "lines",
         "name": "23A(Predicted Data)",
         "showlegend": false,
         "type": "scatter",
         "x": [
          "2023-02-19",
          "2023-02-20",
          "2023-02-21",
          "2023-02-22",
          "2023-02-23",
          "2023-02-24",
          "2023-02-25",
          "2023-02-26",
          "2023-02-27",
          "2023-02-28",
          "2023-03-01",
          "2023-03-02",
          "2023-03-03",
          "2023-03-04",
          "2023-03-05",
          "2023-03-06",
          "2023-03-07",
          "2023-03-08",
          "2023-03-09",
          "2023-03-10",
          "2023-03-11",
          "2023-03-12",
          "2023-03-13",
          "2023-03-14",
          "2023-03-15",
          "2023-03-16",
          "2023-03-17",
          "2023-03-18",
          "2023-03-19",
          "2023-03-20",
          "2023-03-21",
          "2023-03-22",
          "2023-03-23",
          "2023-03-24",
          "2023-03-25",
          "2023-03-26",
          "2023-03-27",
          "2023-03-28",
          "2023-03-29",
          "2023-03-30",
          "2023-03-31",
          "2023-04-01",
          "2023-04-02",
          "2023-04-03",
          "2023-04-04",
          "2023-04-05",
          "2023-04-06",
          "2023-04-07",
          "2023-04-08",
          "2023-04-09",
          "2023-04-10",
          "2023-04-11",
          "2023-04-12",
          "2023-04-13",
          "2023-04-14",
          "2023-04-15",
          "2023-04-16",
          "2023-04-17",
          "2023-04-18",
          "2023-04-19",
          "2023-04-20",
          "2023-04-21",
          "2023-04-22",
          "2023-04-23",
          "2023-04-24",
          "2023-04-25",
          "2023-04-26",
          "2023-04-27",
          "2023-04-28",
          "2023-04-29",
          "2023-04-30",
          "2023-05-01",
          "2023-05-02",
          "2023-05-03",
          "2023-05-04"
         ],
         "xaxis": "x2",
         "y": [
          46.71028754,
          47.10184664,
          48.56825291,
          48.33260946,
          45.44125436,
          46.32210158,
          44.56972222,
          46.53096085,
          46.19788546,
          53.17590568,
          48.05872072,
          60.71650382,
          61.41054516,
          66.13397567,
          64.26760915,
          89.03278146,
          68.31466905,
          89.81797153,
          84.72009967,
          94.77768595,
          96.46653543,
          108.0722963,
          111.8967618,
          133.022281,
          135.6738725,
          157.8556136,
          171.3115478,
          180.5748731,
          179.3444772,
          204.3461782,
          195.3333624,
          209.2057511,
          217.8994414,
          213.9391381,
          231.9839092,
          251.3336567,
          260.5916647,
          280.1856847,
          303.5077631,
          334.3475863,
          350.4195807,
          382.8803988,
          364.7222883,
          408.1744131,
          391.0138266,
          399.7442642,
          388.7382007,
          399.2897527,
          376.2967765,
          389.1733822,
          371.7165321,
          381.8313563,
          366.3071084,
          378.1136365,
          386.8495032,
          389.3050883,
          399.0300416,
          417.3821323,
          423.6275718,
          441.5764706,
          449.344,
          451.8915254,
          466.8134049,
          477.3782771,
          516.9586744,
          488.5352587,
          466.0178699,
          457.098501,
          434.5340673,
          405.0573193,
          369.476643,
          395.040577,
          369.5545114,
          358.0434045,
          359.1546919
         ],
         "yaxis": "y2"
        }
       ],
       "layout": {
        "annotations": [
         {
          "font": {
           "size": 25
          },
          "showarrow": false,
          "text": "Predicted Transmission Rate For Alpha & Delta",
          "x": 0.225,
          "xanchor": "center",
          "xref": "paper",
          "y": 1,
          "yanchor": "bottom",
          "yref": "paper"
         },
         {
          "font": {
           "size": 25
          },
          "showarrow": false,
          "text": "Predicted Infected using Predicted Transmission Rate",
          "x": 0.775,
          "xanchor": "center",
          "xref": "paper",
          "y": 1,
          "yanchor": "bottom",
          "yref": "paper"
         },
         {
          "font": {
           "color": "red",
           "size": 20
          },
          "showarrow": false,
          "text": "Training Data",
          "x": "2023-04-13",
          "xref": "x",
          "y": 0.8,
          "yref": "y"
         },
         {
          "font": {
           "color": "red",
           "size": 20
          },
          "showarrow": false,
          "text": "Prediction",
          "x": "2023-04-26",
          "xref": "x",
          "y": 0.8,
          "yref": "y"
         },
         {
          "font": {
           "color": "red",
           "size": 20
          },
          "showarrow": false,
          "text": "Training Data",
          "x": "2023-04-13",
          "xref": "x2",
          "y": 1500,
          "yref": "y2"
         },
         {
          "font": {
           "color": "red",
           "size": 20
          },
          "showarrow": false,
          "text": "Prediction",
          "x": "2023-04-26",
          "xref": "x2",
          "y": 1500,
          "yref": "y2"
         }
        ],
        "height": 800,
        "legend": {
         "bordercolor": "Black",
         "borderwidth": 0.5,
         "orientation": "h",
         "x": 0.95,
         "xanchor": "right",
         "y": 1.08
        },
        "margin": {
         "t": 200
        },
        "plot_bgcolor": "white",
        "shapes": [
         {
          "line": {
           "color": "red",
           "dash": "dash",
           "width": 2
          },
          "type": "line",
          "x0": "2023-04-20",
          "x1": "2023-04-20",
          "xref": "x",
          "y0": 0,
          "y1": 1,
          "yref": "y domain"
         },
         {
          "line": {
           "color": "red",
           "dash": "dash",
           "width": 2
          },
          "type": "line",
          "x0": "2023-04-20",
          "x1": "2023-04-20",
          "xref": "x2",
          "y0": 0,
          "y1": 1,
          "yref": "y2 domain"
         }
        ],
        "template": {
         "data": {
          "bar": [
           {
            "error_x": {
             "color": "#2a3f5f"
            },
            "error_y": {
             "color": "#2a3f5f"
            },
            "marker": {
             "line": {
              "color": "#E5ECF6",
              "width": 0.5
             },
             "pattern": {
              "fillmode": "overlay",
              "size": 10,
              "solidity": 0.2
             }
            },
            "type": "bar"
           }
          ],
          "barpolar": [
           {
            "marker": {
             "line": {
              "color": "#E5ECF6",
              "width": 0.5
             },
             "pattern": {
              "fillmode": "overlay",
              "size": 10,
              "solidity": 0.2
             }
            },
            "type": "barpolar"
           }
          ],
          "carpet": [
           {
            "aaxis": {
             "endlinecolor": "#2a3f5f",
             "gridcolor": "white",
             "linecolor": "white",
             "minorgridcolor": "white",
             "startlinecolor": "#2a3f5f"
            },
            "baxis": {
             "endlinecolor": "#2a3f5f",
             "gridcolor": "white",
             "linecolor": "white",
             "minorgridcolor": "white",
             "startlinecolor": "#2a3f5f"
            },
            "type": "carpet"
           }
          ],
          "choropleth": [
           {
            "colorbar": {
             "outlinewidth": 0,
             "ticks": ""
            },
            "type": "choropleth"
           }
          ],
          "contour": [
           {
            "colorbar": {
             "outlinewidth": 0,
             "ticks": ""
            },
            "colorscale": [
             [
              0,
              "#0d0887"
             ],
             [
              0.1111111111111111,
              "#46039f"
             ],
             [
              0.2222222222222222,
              "#7201a8"
             ],
             [
              0.3333333333333333,
              "#9c179e"
             ],
             [
              0.4444444444444444,
              "#bd3786"
             ],
             [
              0.5555555555555556,
              "#d8576b"
             ],
             [
              0.6666666666666666,
              "#ed7953"
             ],
             [
              0.7777777777777778,
              "#fb9f3a"
             ],
             [
              0.8888888888888888,
              "#fdca26"
             ],
             [
              1,
              "#f0f921"
             ]
            ],
            "type": "contour"
           }
          ],
          "contourcarpet": [
           {
            "colorbar": {
             "outlinewidth": 0,
             "ticks": ""
            },
            "type": "contourcarpet"
           }
          ],
          "heatmap": [
           {
            "colorbar": {
             "outlinewidth": 0,
             "ticks": ""
            },
            "colorscale": [
             [
              0,
              "#0d0887"
             ],
             [
              0.1111111111111111,
              "#46039f"
             ],
             [
              0.2222222222222222,
              "#7201a8"
             ],
             [
              0.3333333333333333,
              "#9c179e"
             ],
             [
              0.4444444444444444,
              "#bd3786"
             ],
             [
              0.5555555555555556,
              "#d8576b"
             ],
             [
              0.6666666666666666,
              "#ed7953"
             ],
             [
              0.7777777777777778,
              "#fb9f3a"
             ],
             [
              0.8888888888888888,
              "#fdca26"
             ],
             [
              1,
              "#f0f921"
             ]
            ],
            "type": "heatmap"
           }
          ],
          "heatmapgl": [
           {
            "colorbar": {
             "outlinewidth": 0,
             "ticks": ""
            },
            "colorscale": [
             [
              0,
              "#0d0887"
             ],
             [
              0.1111111111111111,
              "#46039f"
             ],
             [
              0.2222222222222222,
              "#7201a8"
             ],
             [
              0.3333333333333333,
              "#9c179e"
             ],
             [
              0.4444444444444444,
              "#bd3786"
             ],
             [
              0.5555555555555556,
              "#d8576b"
             ],
             [
              0.6666666666666666,
              "#ed7953"
             ],
             [
              0.7777777777777778,
              "#fb9f3a"
             ],
             [
              0.8888888888888888,
              "#fdca26"
             ],
             [
              1,
              "#f0f921"
             ]
            ],
            "type": "heatmapgl"
           }
          ],
          "histogram": [
           {
            "marker": {
             "pattern": {
              "fillmode": "overlay",
              "size": 10,
              "solidity": 0.2
             }
            },
            "type": "histogram"
           }
          ],
          "histogram2d": [
           {
            "colorbar": {
             "outlinewidth": 0,
             "ticks": ""
            },
            "colorscale": [
             [
              0,
              "#0d0887"
             ],
             [
              0.1111111111111111,
              "#46039f"
             ],
             [
              0.2222222222222222,
              "#7201a8"
             ],
             [
              0.3333333333333333,
              "#9c179e"
             ],
             [
              0.4444444444444444,
              "#bd3786"
             ],
             [
              0.5555555555555556,
              "#d8576b"
             ],
             [
              0.6666666666666666,
              "#ed7953"
             ],
             [
              0.7777777777777778,
              "#fb9f3a"
             ],
             [
              0.8888888888888888,
              "#fdca26"
             ],
             [
              1,
              "#f0f921"
             ]
            ],
            "type": "histogram2d"
           }
          ],
          "histogram2dcontour": [
           {
            "colorbar": {
             "outlinewidth": 0,
             "ticks": ""
            },
            "colorscale": [
             [
              0,
              "#0d0887"
             ],
             [
              0.1111111111111111,
              "#46039f"
             ],
             [
              0.2222222222222222,
              "#7201a8"
             ],
             [
              0.3333333333333333,
              "#9c179e"
             ],
             [
              0.4444444444444444,
              "#bd3786"
             ],
             [
              0.5555555555555556,
              "#d8576b"
             ],
             [
              0.6666666666666666,
              "#ed7953"
             ],
             [
              0.7777777777777778,
              "#fb9f3a"
             ],
             [
              0.8888888888888888,
              "#fdca26"
             ],
             [
              1,
              "#f0f921"
             ]
            ],
            "type": "histogram2dcontour"
           }
          ],
          "mesh3d": [
           {
            "colorbar": {
             "outlinewidth": 0,
             "ticks": ""
            },
            "type": "mesh3d"
           }
          ],
          "parcoords": [
           {
            "line": {
             "colorbar": {
              "outlinewidth": 0,
              "ticks": ""
             }
            },
            "type": "parcoords"
           }
          ],
          "pie": [
           {
            "automargin": true,
            "type": "pie"
           }
          ],
          "scatter": [
           {
            "fillpattern": {
             "fillmode": "overlay",
             "size": 10,
             "solidity": 0.2
            },
            "type": "scatter"
           }
          ],
          "scatter3d": [
           {
            "line": {
             "colorbar": {
              "outlinewidth": 0,
              "ticks": ""
             }
            },
            "marker": {
             "colorbar": {
              "outlinewidth": 0,
              "ticks": ""
             }
            },
            "type": "scatter3d"
           }
          ],
          "scattercarpet": [
           {
            "marker": {
             "colorbar": {
              "outlinewidth": 0,
              "ticks": ""
             }
            },
            "type": "scattercarpet"
           }
          ],
          "scattergeo": [
           {
            "marker": {
             "colorbar": {
              "outlinewidth": 0,
              "ticks": ""
             }
            },
            "type": "scattergeo"
           }
          ],
          "scattergl": [
           {
            "marker": {
             "colorbar": {
              "outlinewidth": 0,
              "ticks": ""
             }
            },
            "type": "scattergl"
           }
          ],
          "scattermapbox": [
           {
            "marker": {
             "colorbar": {
              "outlinewidth": 0,
              "ticks": ""
             }
            },
            "type": "scattermapbox"
           }
          ],
          "scatterpolar": [
           {
            "marker": {
             "colorbar": {
              "outlinewidth": 0,
              "ticks": ""
             }
            },
            "type": "scatterpolar"
           }
          ],
          "scatterpolargl": [
           {
            "marker": {
             "colorbar": {
              "outlinewidth": 0,
              "ticks": ""
             }
            },
            "type": "scatterpolargl"
           }
          ],
          "scatterternary": [
           {
            "marker": {
             "colorbar": {
              "outlinewidth": 0,
              "ticks": ""
             }
            },
            "type": "scatterternary"
           }
          ],
          "surface": [
           {
            "colorbar": {
             "outlinewidth": 0,
             "ticks": ""
            },
            "colorscale": [
             [
              0,
              "#0d0887"
             ],
             [
              0.1111111111111111,
              "#46039f"
             ],
             [
              0.2222222222222222,
              "#7201a8"
             ],
             [
              0.3333333333333333,
              "#9c179e"
             ],
             [
              0.4444444444444444,
              "#bd3786"
             ],
             [
              0.5555555555555556,
              "#d8576b"
             ],
             [
              0.6666666666666666,
              "#ed7953"
             ],
             [
              0.7777777777777778,
              "#fb9f3a"
             ],
             [
              0.8888888888888888,
              "#fdca26"
             ],
             [
              1,
              "#f0f921"
             ]
            ],
            "type": "surface"
           }
          ],
          "table": [
           {
            "cells": {
             "fill": {
              "color": "#EBF0F8"
             },
             "line": {
              "color": "white"
             }
            },
            "header": {
             "fill": {
              "color": "#C8D4E3"
             },
             "line": {
              "color": "white"
             }
            },
            "type": "table"
           }
          ]
         },
         "layout": {
          "annotationdefaults": {
           "arrowcolor": "#2a3f5f",
           "arrowhead": 0,
           "arrowwidth": 1
          },
          "autotypenumbers": "strict",
          "coloraxis": {
           "colorbar": {
            "outlinewidth": 0,
            "ticks": ""
           }
          },
          "colorscale": {
           "diverging": [
            [
             0,
             "#8e0152"
            ],
            [
             0.1,
             "#c51b7d"
            ],
            [
             0.2,
             "#de77ae"
            ],
            [
             0.3,
             "#f1b6da"
            ],
            [
             0.4,
             "#fde0ef"
            ],
            [
             0.5,
             "#f7f7f7"
            ],
            [
             0.6,
             "#e6f5d0"
            ],
            [
             0.7,
             "#b8e186"
            ],
            [
             0.8,
             "#7fbc41"
            ],
            [
             0.9,
             "#4d9221"
            ],
            [
             1,
             "#276419"
            ]
           ],
           "sequential": [
            [
             0,
             "#0d0887"
            ],
            [
             0.1111111111111111,
             "#46039f"
            ],
            [
             0.2222222222222222,
             "#7201a8"
            ],
            [
             0.3333333333333333,
             "#9c179e"
            ],
            [
             0.4444444444444444,
             "#bd3786"
            ],
            [
             0.5555555555555556,
             "#d8576b"
            ],
            [
             0.6666666666666666,
             "#ed7953"
            ],
            [
             0.7777777777777778,
             "#fb9f3a"
            ],
            [
             0.8888888888888888,
             "#fdca26"
            ],
            [
             1,
             "#f0f921"
            ]
           ],
           "sequentialminus": [
            [
             0,
             "#0d0887"
            ],
            [
             0.1111111111111111,
             "#46039f"
            ],
            [
             0.2222222222222222,
             "#7201a8"
            ],
            [
             0.3333333333333333,
             "#9c179e"
            ],
            [
             0.4444444444444444,
             "#bd3786"
            ],
            [
             0.5555555555555556,
             "#d8576b"
            ],
            [
             0.6666666666666666,
             "#ed7953"
            ],
            [
             0.7777777777777778,
             "#fb9f3a"
            ],
            [
             0.8888888888888888,
             "#fdca26"
            ],
            [
             1,
             "#f0f921"
            ]
           ]
          },
          "colorway": [
           "#636efa",
           "#EF553B",
           "#00cc96",
           "#ab63fa",
           "#FFA15A",
           "#19d3f3",
           "#FF6692",
           "#B6E880",
           "#FF97FF",
           "#FECB52"
          ],
          "font": {
           "color": "#2a3f5f"
          },
          "geo": {
           "bgcolor": "white",
           "lakecolor": "white",
           "landcolor": "#E5ECF6",
           "showlakes": true,
           "showland": true,
           "subunitcolor": "white"
          },
          "hoverlabel": {
           "align": "left"
          },
          "hovermode": "closest",
          "mapbox": {
           "style": "light"
          },
          "paper_bgcolor": "white",
          "plot_bgcolor": "#E5ECF6",
          "polar": {
           "angularaxis": {
            "gridcolor": "white",
            "linecolor": "white",
            "ticks": ""
           },
           "bgcolor": "#E5ECF6",
           "radialaxis": {
            "gridcolor": "white",
            "linecolor": "white",
            "ticks": ""
           }
          },
          "scene": {
           "xaxis": {
            "backgroundcolor": "#E5ECF6",
            "gridcolor": "white",
            "gridwidth": 2,
            "linecolor": "white",
            "showbackground": true,
            "ticks": "",
            "zerolinecolor": "white"
           },
           "yaxis": {
            "backgroundcolor": "#E5ECF6",
            "gridcolor": "white",
            "gridwidth": 2,
            "linecolor": "white",
            "showbackground": true,
            "ticks": "",
            "zerolinecolor": "white"
           },
           "zaxis": {
            "backgroundcolor": "#E5ECF6",
            "gridcolor": "white",
            "gridwidth": 2,
            "linecolor": "white",
            "showbackground": true,
            "ticks": "",
            "zerolinecolor": "white"
           }
          },
          "shapedefaults": {
           "line": {
            "color": "#2a3f5f"
           }
          },
          "ternary": {
           "aaxis": {
            "gridcolor": "white",
            "linecolor": "white",
            "ticks": ""
           },
           "baxis": {
            "gridcolor": "white",
            "linecolor": "white",
            "ticks": ""
           },
           "bgcolor": "#E5ECF6",
           "caxis": {
            "gridcolor": "white",
            "linecolor": "white",
            "ticks": ""
           }
          },
          "title": {
           "x": 0.05
          },
          "xaxis": {
           "automargin": true,
           "gridcolor": "white",
           "linecolor": "white",
           "ticks": "",
           "title": {
            "standoff": 15
           },
           "zerolinecolor": "white",
           "zerolinewidth": 2
          },
          "yaxis": {
           "automargin": true,
           "gridcolor": "white",
           "linecolor": "white",
           "ticks": "",
           "title": {
            "standoff": 15
           },
           "zerolinecolor": "white",
           "zerolinewidth": 2
          }
         }
        },
        "title": {
         "font": {
          "color": "#000000",
          "family": "Arial",
          "size": 30
         },
         "text": "<b>Medium term prediction by using BiLSTM for Sejong</b><br><sub>Omicron 22D / 23A</sub>",
         "x": 0.5,
         "xanchor": "center",
         "y": 0.95,
         "yanchor": "bottom"
        },
        "width": 1200,
        "xaxis": {
         "anchor": "y",
         "domain": [
          0,
          0.45
         ],
         "gridcolor": "lightgray",
         "linecolor": "gray",
         "mirror": true,
         "title": {
          "text": "Date"
         }
        },
        "xaxis2": {
         "anchor": "y2",
         "domain": [
          0.55,
          1
         ],
         "gridcolor": "lightgray",
         "linecolor": "gray",
         "mirror": true,
         "title": {
          "text": "Date"
         }
        },
        "yaxis": {
         "anchor": "x",
         "domain": [
          0,
          1
         ],
         "gridcolor": "lightgray",
         "linecolor": "gray",
         "mirror": true,
         "title": {
          "text": "Number"
         }
        },
        "yaxis2": {
         "anchor": "x2",
         "domain": [
          0,
          1
         ],
         "gridcolor": "lightgray",
         "linecolor": "gray",
         "mirror": true,
         "title": {
          "text": "Number"
         }
        }
       }
      }
     },
     "metadata": {},
     "output_type": "display_data"
    }
   ],
   "source": [
    "# 중기\n",
    "\n",
    "fig = make_subplots(rows=1, cols=2, \n",
    "                    horizontal_spacing=0.1, # 너비 간격을 설정할 수 있음 \n",
    "                    subplot_titles=('Predicted Transmission Rate For Alpha & Delta', 'Predicted Infected using Predicted Transmission Rate')\n",
    "                    )\n",
    "fig.update_annotations(font_size=25)\n",
    "# alpha\n",
    "fig.add_trace(go.Scatter(x=dic_22D[region]['stdDay'], y=dic_22D[region]['22D_alpha'], name='22D(Actual Data)', \n",
    "                         mode='lines', line=dict(color='black', width=2, dash='dot')), row=1, col=1)\n",
    "fig.add_trace(go.Scatter(x=dic_22D[region]['stdDay'], y=dic_22D[region]['predicted_22D_alpha'], name='22D(Predicted Data)', \n",
    "                         mode='lines', line=dict(color='red', width=2)), row=1, col=1)\n",
    "fig.add_trace(go.Scatter(x=dic_23A[region]['stdDay'], y=dic_23A[region]['23A_alpha'], name='23A(Actual Data)', \n",
    "                         mode='lines', line=dict(color='gray', width=2, dash='dot')), row=1, col=1)\n",
    "fig.add_trace(go.Scatter(x=dic_23A[region]['stdDay'], y=dic_23A[region]['predicted_23A_alpha'], name='23A(Predicted Data)', \n",
    "                         mode='lines', line=dict(color='blue', width=2)), row=1, col=1)\n",
    "\n",
    "# Infected\n",
    "fig.add_trace(go.Scatter(x=dic_22D[region]['stdDay'], y=dic_22D[region]['22D_Infected'], name='22D(Actual Data)', showlegend=False,\n",
    "                         mode='lines', line=dict(color='black', width=4, dash='dot')), row=1, col=2)\n",
    "fig.add_trace(go.Scatter(x=dic_22D[region]['stdDay'], y=dic_22D[region]['predicted_22D_Infected'], name='22D(Predicted Data)', showlegend=False,\n",
    "                         mode='lines', line=dict(color='red')), row=1, col=2)\n",
    "fig.add_trace(go.Scatter(x=dic_23A[region]['stdDay'], y=dic_23A[region]['23A_Infected'], name='23A(Actual Data)', showlegend=False,\n",
    "                         mode='lines', line=dict(color='gray', width=4, dash='dot')), row=1, col=2)\n",
    "fig.add_trace(go.Scatter(x=dic_23A[region]['stdDay'], y=dic_23A[region]['predicted_23A_Infected'], name='23A(Predicted Data)', showlegend=False,\n",
    "                         mode='lines', line=dict(color='blue')), row=1, col=2)\n",
    "fig.add_vline(x=dic_22D[region]['stdDay'][60], line_width=2, line_dash=\"dash\", line_color=\"red\")\n",
    "\n",
    "fig.add_annotation(x='2023-04-13', y=0.80, text='Training Data', font_size=20, font_color='red', showarrow=False, row=1, col=1)\n",
    "fig.add_annotation(x='2023-04-26', y=0.80, text='Prediction', font_size=20, font_color='red', showarrow=False, row=1, col=1)\n",
    "fig.add_annotation(x='2023-04-13', y=1500, text='Training Data', font_size=20, font_color='red', showarrow=False, row=1, col=2)\n",
    "fig.add_annotation(x='2023-04-26', y=1500, text='Prediction', font_size=20, font_color='red', showarrow=False, row=1, col=2)\n",
    "                \n",
    "fig.update_layout(\n",
    "    height=800, \n",
    "    width=1200, \n",
    "\n",
    "    xaxis1_title = 'Date',\n",
    "    yaxis1_title = 'Number',\n",
    "    xaxis2_title = 'Date',\n",
    "    yaxis2_title = 'Number',\n",
    "    plot_bgcolor ='white', # 차트 안쪽 배경색\n",
    "    margin_t=200,\n",
    "    title=dict(text=f'<b>Medium term prediction by using BiLSTM for {eng[region]}</b><br><sub>Omicron 22D / 23A</sub>',\n",
    "               xanchor='center', yanchor='bottom', \n",
    "               x=0.5, y=0.95,\n",
    "               font=dict(\n",
    "                family=\"Arial\",\n",
    "                size=30,\n",
    "                color=\"#000000\"\n",
    "                )),\n",
    "    legend=dict(orientation ='h',\n",
    "                xanchor='right', x=0.95, y=1.08,\n",
    "                bordercolor=\"Black\",\n",
    "                borderwidth=0.5),\n",
    "\n",
    ")\n",
    "\n",
    "fig.update_xaxes(linecolor='gray', gridcolor='lightgray',mirror=True)\n",
    "fig.update_yaxes(linecolor='gray', gridcolor='lightgray',mirror=True)\n",
    "fig.show()\n",
    "fig.write_image(f\"./image/Omicron_{eng[region]}_Medium_term.png\", width=1920, height=1280)"
   ]
  },
  {
   "cell_type": "code",
   "execution_count": 56,
   "metadata": {},
   "outputs": [
    {
     "name": "stdout",
     "output_type": "stream",
     "text": [
      "{'경기': 'Gyeonggi', '강원': 'Gangwon', '경북': 'Gyeongbuk', '경남': 'Gyeongnam', '전북': 'Jeonbuk', '전남': 'Jeonnam', '충북': 'Chungbuk', '충남': 'Chungnam', '서울': 'Seoul', '대전': 'Daejeon', '광주': 'Gwangju', '대구': 'Daegu', '울산': 'Ulsan', '부산': 'Busan', '인천': 'Incheon', '세종': 'Sejong', '제주': 'Jeju'}\n",
      "                S_pred    I1_pred    I2_pred     R1_pred     D1_pred  \\\n",
      "2021-07-21  13475764.0  2160.8047 -35.263367   3726.5999    9.846026   \n",
      "2021-07-28  13472890.0  2125.2980   4.406009   5636.1150   19.578133   \n",
      "2021-08-04  13469938.0  2498.0325  -1.275837   7880.7524   21.870188   \n",
      "2021-08-11  13466385.0  3192.7250   0.254959  10501.8920   32.085490   \n",
      "2021-08-18  13463382.0  3356.2495  -0.087311  13774.9090   49.509100   \n",
      "2021-08-25  13459057.0  3669.2336  -0.026016  16759.8830   65.572670   \n",
      "2021-09-01  13455283.0  3613.9902   0.270569  20211.7810   80.891846   \n",
      "2021-09-08  13451865.0  3505.0686   0.220930  24208.4220   96.130356   \n",
      "2021-09-15  13448079.0  3877.1846  -0.114263  28257.3400  109.145645   \n",
      "2021-09-22  13443583.0  4552.3270  -0.498159  32229.1370  120.919350   \n",
      "\n",
      "              R2_pred   D2_pred     Recovered        Dead  \n",
      "2021-07-21   3.240403 -0.009494   3729.840303    9.836532  \n",
      "2021-07-28   0.012512  0.014542   5636.127512   19.592675  \n",
      "2021-08-04  -1.143525  0.027602   7879.608875   21.897790  \n",
      "2021-08-11  -5.302705 -0.054084  10496.589295   32.031406  \n",
      "2021-08-18   7.009011  0.087945  13781.918011   49.597045  \n",
      "2021-08-25 -10.262341 -0.179901  16749.620658   65.392769  \n",
      "2021-09-01  -3.040782 -0.096981  20208.740218   80.794865  \n",
      "2021-09-08  21.642769  0.271486  24230.064769   96.401842  \n",
      "2021-09-15  19.737827  0.319845  28277.077827  109.465490  \n",
      "2021-09-22 -11.306082 -0.043811  32217.830918  120.875539  \n",
      "            Susceptible  Delta_Infected  Delta_Recovered  Delta_Dead  \\\n",
      "2021-07-21     13475758         1928.38          3754.62        9.92   \n",
      "2021-07-28     13472907         2195.27          5673.66       19.26   \n",
      "2021-08-04     13469929         2506.18          7865.08       23.11   \n",
      "2021-08-11     13466511         3247.10         10361.71       32.66   \n",
      "2021-08-18     13463017         3358.18         13595.51       45.96   \n",
      "2021-08-25     13459143         3796.52         16934.42       65.23   \n",
      "2021-09-01     13455579         3507.52         20711.34       84.83   \n",
      "2021-09-08     13451750         3790.71         24208.04       95.65   \n",
      "2021-09-15     13447881         3845.84         27984.89      109.51   \n",
      "2021-09-22     13443809         4072.00         31819.82      120.42   \n",
      "\n",
      "            Omicron_Infected  Omicron_Recovered  Omicron_Dead  Recovered  \\\n",
      "2021-07-21               0.0                0.0           0.0    3754.62   \n",
      "2021-07-28               0.0                0.0           0.0    5673.66   \n",
      "2021-08-04               0.0                0.0           0.0    7865.08   \n",
      "2021-08-11               0.0                0.0           0.0   10361.71   \n",
      "2021-08-18               0.0                0.0           0.0   13595.51   \n",
      "2021-08-25               0.0                0.0           0.0   16934.42   \n",
      "2021-09-01               0.0                0.0           0.0   20711.34   \n",
      "2021-09-08               0.0                0.0           0.0   24208.04   \n",
      "2021-09-15               0.0                0.0           0.0   27984.89   \n",
      "2021-09-22               0.0                0.0           0.0   31819.82   \n",
      "\n",
      "              Dead  \n",
      "2021-07-21    9.92  \n",
      "2021-07-28   19.26  \n",
      "2021-08-04   23.11  \n",
      "2021-08-11   32.66  \n",
      "2021-08-18   45.96  \n",
      "2021-08-25   65.23  \n",
      "2021-09-01   84.83  \n",
      "2021-09-08   95.65  \n",
      "2021-09-15  109.51  \n",
      "2021-09-22  120.42  \n"
     ]
    }
   ],
   "source": [
    "import pandas as pd\n",
    "import plotly.express as px\n",
    "import plotly.graph_objects as go\n",
    "from plotly.subplots import make_subplots\n",
    "\n",
    "# city\n",
    "keys = ['경기','강원','경북','경남','전북','전남','충북','충남',\n",
    "        '서울','대전','광주','대구','울산','부산','인천','세종','제주']\n",
    "values = ['Gyeonggi','Gangwon','Gyeongbuk','Gyeongnam','Jeonbuk','Jeonnam','Chungbuk','Chungnam',\n",
    "          'Seoul','Daejeon','Gwangju','Daegu','Ulsan','Busan','Incheon','Sejong','Jeju']\n",
    "eng = dict(zip(keys, values))\n",
    "print(eng)\n",
    "\n",
    "city = '경기'\n",
    "dinn = pd.read_csv(f'./DINN/csv/DINN_{eng[city]}.csv', index_col=0)\n",
    "dinn['Recovered'] = dinn['R1_pred'] + dinn['R2_pred']\n",
    "dinn['Dead'] = dinn['D1_pred'] + dinn['D2_pred']\n",
    "actual = pd.read_csv(f'./data/Variants/SIR/delta_omicron/{city}_delta_omicron.csv', \n",
    "                     usecols=['Susceptible','Delta_Infected','Delta_Recovered','Delta_Dead',\n",
    "                              'Omicron_Infected','Omicron_Recovered','Omicron_Dead','stdDay'],\n",
    "                     index_col=0)\n",
    "actual['Recovered'] = actual['Delta_Recovered'] + actual['Omicron_Recovered']\n",
    "actual['Dead'] = actual['Delta_Dead'] + actual['Omicron_Dead']\n",
    "actual = actual.loc[dinn.index].copy()\n",
    "print(dinn.head(10), actual.head(10), sep='\\n')\n",
    "# actual"
   ]
  },
  {
   "cell_type": "code",
   "execution_count": 57,
   "metadata": {},
   "outputs": [
    {
     "data": {
      "application/vnd.plotly.v1+json": {
       "config": {
        "plotlyServerURL": "https://plot.ly"
       },
       "data": [
        {
         "line": {
          "color": "orange"
         },
         "mode": "lines",
         "name": "Delta",
         "type": "scatter",
         "x": [
          "2021-07-21",
          "2021-07-28",
          "2021-08-04",
          "2021-08-11",
          "2021-08-18",
          "2021-08-25",
          "2021-09-01",
          "2021-09-08",
          "2021-09-15",
          "2021-09-22",
          "2021-09-29",
          "2021-10-06",
          "2021-10-13",
          "2021-10-20",
          "2021-10-27",
          "2021-11-03",
          "2021-11-10",
          "2021-11-17",
          "2021-11-24",
          "2021-12-01",
          "2021-12-08",
          "2021-12-15",
          "2021-12-22",
          "2021-12-29",
          "2022-01-05",
          "2022-01-12",
          "2022-01-19"
         ],
         "y": [
          1928.38,
          2195.2699999999995,
          2506.180000000001,
          3247.0999999999985,
          3358.180000000002,
          3796.519999999997,
          3507.5200000000004,
          3790.7100000000023,
          3845.84,
          4071.999999999997,
          5755,
          4862,
          4081,
          3733,
          3654,
          4852,
          4927.620000000003,
          5231.160000000004,
          6482.479999999996,
          7662.619999999995,
          10702.520000000004,
          12870.72,
          11946.619999999995,
          8979.770000000004,
          5985.380000000005,
          3546,
          3233.2999999999884
         ]
        },
        {
         "line": {
          "color": "teal"
         },
         "mode": "lines",
         "name": "Omicron",
         "type": "scatter",
         "x": [
          "2021-07-21",
          "2021-07-28",
          "2021-08-04",
          "2021-08-11",
          "2021-08-18",
          "2021-08-25",
          "2021-09-01",
          "2021-09-08",
          "2021-09-15",
          "2021-09-22",
          "2021-09-29",
          "2021-10-06",
          "2021-10-13",
          "2021-10-20",
          "2021-10-27",
          "2021-11-03",
          "2021-11-10",
          "2021-11-17",
          "2021-11-24",
          "2021-12-01",
          "2021-12-08",
          "2021-12-15",
          "2021-12-22",
          "2021-12-29",
          "2022-01-05",
          "2022-01-12",
          "2022-01-19"
         ],
         "y": [
          0,
          0,
          0,
          0,
          0,
          0,
          0,
          0,
          0,
          0,
          0,
          0,
          0,
          0,
          0,
          0,
          0,
          0,
          55.52,
          211.9,
          474.86,
          854.7600000000001,
          1714.66,
          3017.6100000000006,
          4790.85,
          8270.619999999999,
          13967.37
         ]
        }
       ],
       "layout": {
        "template": {
         "data": {
          "bar": [
           {
            "error_x": {
             "color": "#2a3f5f"
            },
            "error_y": {
             "color": "#2a3f5f"
            },
            "marker": {
             "line": {
              "color": "#E5ECF6",
              "width": 0.5
             },
             "pattern": {
              "fillmode": "overlay",
              "size": 10,
              "solidity": 0.2
             }
            },
            "type": "bar"
           }
          ],
          "barpolar": [
           {
            "marker": {
             "line": {
              "color": "#E5ECF6",
              "width": 0.5
             },
             "pattern": {
              "fillmode": "overlay",
              "size": 10,
              "solidity": 0.2
             }
            },
            "type": "barpolar"
           }
          ],
          "carpet": [
           {
            "aaxis": {
             "endlinecolor": "#2a3f5f",
             "gridcolor": "white",
             "linecolor": "white",
             "minorgridcolor": "white",
             "startlinecolor": "#2a3f5f"
            },
            "baxis": {
             "endlinecolor": "#2a3f5f",
             "gridcolor": "white",
             "linecolor": "white",
             "minorgridcolor": "white",
             "startlinecolor": "#2a3f5f"
            },
            "type": "carpet"
           }
          ],
          "choropleth": [
           {
            "colorbar": {
             "outlinewidth": 0,
             "ticks": ""
            },
            "type": "choropleth"
           }
          ],
          "contour": [
           {
            "colorbar": {
             "outlinewidth": 0,
             "ticks": ""
            },
            "colorscale": [
             [
              0,
              "#0d0887"
             ],
             [
              0.1111111111111111,
              "#46039f"
             ],
             [
              0.2222222222222222,
              "#7201a8"
             ],
             [
              0.3333333333333333,
              "#9c179e"
             ],
             [
              0.4444444444444444,
              "#bd3786"
             ],
             [
              0.5555555555555556,
              "#d8576b"
             ],
             [
              0.6666666666666666,
              "#ed7953"
             ],
             [
              0.7777777777777778,
              "#fb9f3a"
             ],
             [
              0.8888888888888888,
              "#fdca26"
             ],
             [
              1,
              "#f0f921"
             ]
            ],
            "type": "contour"
           }
          ],
          "contourcarpet": [
           {
            "colorbar": {
             "outlinewidth": 0,
             "ticks": ""
            },
            "type": "contourcarpet"
           }
          ],
          "heatmap": [
           {
            "colorbar": {
             "outlinewidth": 0,
             "ticks": ""
            },
            "colorscale": [
             [
              0,
              "#0d0887"
             ],
             [
              0.1111111111111111,
              "#46039f"
             ],
             [
              0.2222222222222222,
              "#7201a8"
             ],
             [
              0.3333333333333333,
              "#9c179e"
             ],
             [
              0.4444444444444444,
              "#bd3786"
             ],
             [
              0.5555555555555556,
              "#d8576b"
             ],
             [
              0.6666666666666666,
              "#ed7953"
             ],
             [
              0.7777777777777778,
              "#fb9f3a"
             ],
             [
              0.8888888888888888,
              "#fdca26"
             ],
             [
              1,
              "#f0f921"
             ]
            ],
            "type": "heatmap"
           }
          ],
          "heatmapgl": [
           {
            "colorbar": {
             "outlinewidth": 0,
             "ticks": ""
            },
            "colorscale": [
             [
              0,
              "#0d0887"
             ],
             [
              0.1111111111111111,
              "#46039f"
             ],
             [
              0.2222222222222222,
              "#7201a8"
             ],
             [
              0.3333333333333333,
              "#9c179e"
             ],
             [
              0.4444444444444444,
              "#bd3786"
             ],
             [
              0.5555555555555556,
              "#d8576b"
             ],
             [
              0.6666666666666666,
              "#ed7953"
             ],
             [
              0.7777777777777778,
              "#fb9f3a"
             ],
             [
              0.8888888888888888,
              "#fdca26"
             ],
             [
              1,
              "#f0f921"
             ]
            ],
            "type": "heatmapgl"
           }
          ],
          "histogram": [
           {
            "marker": {
             "pattern": {
              "fillmode": "overlay",
              "size": 10,
              "solidity": 0.2
             }
            },
            "type": "histogram"
           }
          ],
          "histogram2d": [
           {
            "colorbar": {
             "outlinewidth": 0,
             "ticks": ""
            },
            "colorscale": [
             [
              0,
              "#0d0887"
             ],
             [
              0.1111111111111111,
              "#46039f"
             ],
             [
              0.2222222222222222,
              "#7201a8"
             ],
             [
              0.3333333333333333,
              "#9c179e"
             ],
             [
              0.4444444444444444,
              "#bd3786"
             ],
             [
              0.5555555555555556,
              "#d8576b"
             ],
             [
              0.6666666666666666,
              "#ed7953"
             ],
             [
              0.7777777777777778,
              "#fb9f3a"
             ],
             [
              0.8888888888888888,
              "#fdca26"
             ],
             [
              1,
              "#f0f921"
             ]
            ],
            "type": "histogram2d"
           }
          ],
          "histogram2dcontour": [
           {
            "colorbar": {
             "outlinewidth": 0,
             "ticks": ""
            },
            "colorscale": [
             [
              0,
              "#0d0887"
             ],
             [
              0.1111111111111111,
              "#46039f"
             ],
             [
              0.2222222222222222,
              "#7201a8"
             ],
             [
              0.3333333333333333,
              "#9c179e"
             ],
             [
              0.4444444444444444,
              "#bd3786"
             ],
             [
              0.5555555555555556,
              "#d8576b"
             ],
             [
              0.6666666666666666,
              "#ed7953"
             ],
             [
              0.7777777777777778,
              "#fb9f3a"
             ],
             [
              0.8888888888888888,
              "#fdca26"
             ],
             [
              1,
              "#f0f921"
             ]
            ],
            "type": "histogram2dcontour"
           }
          ],
          "mesh3d": [
           {
            "colorbar": {
             "outlinewidth": 0,
             "ticks": ""
            },
            "type": "mesh3d"
           }
          ],
          "parcoords": [
           {
            "line": {
             "colorbar": {
              "outlinewidth": 0,
              "ticks": ""
             }
            },
            "type": "parcoords"
           }
          ],
          "pie": [
           {
            "automargin": true,
            "type": "pie"
           }
          ],
          "scatter": [
           {
            "fillpattern": {
             "fillmode": "overlay",
             "size": 10,
             "solidity": 0.2
            },
            "type": "scatter"
           }
          ],
          "scatter3d": [
           {
            "line": {
             "colorbar": {
              "outlinewidth": 0,
              "ticks": ""
             }
            },
            "marker": {
             "colorbar": {
              "outlinewidth": 0,
              "ticks": ""
             }
            },
            "type": "scatter3d"
           }
          ],
          "scattercarpet": [
           {
            "marker": {
             "colorbar": {
              "outlinewidth": 0,
              "ticks": ""
             }
            },
            "type": "scattercarpet"
           }
          ],
          "scattergeo": [
           {
            "marker": {
             "colorbar": {
              "outlinewidth": 0,
              "ticks": ""
             }
            },
            "type": "scattergeo"
           }
          ],
          "scattergl": [
           {
            "marker": {
             "colorbar": {
              "outlinewidth": 0,
              "ticks": ""
             }
            },
            "type": "scattergl"
           }
          ],
          "scattermapbox": [
           {
            "marker": {
             "colorbar": {
              "outlinewidth": 0,
              "ticks": ""
             }
            },
            "type": "scattermapbox"
           }
          ],
          "scatterpolar": [
           {
            "marker": {
             "colorbar": {
              "outlinewidth": 0,
              "ticks": ""
             }
            },
            "type": "scatterpolar"
           }
          ],
          "scatterpolargl": [
           {
            "marker": {
             "colorbar": {
              "outlinewidth": 0,
              "ticks": ""
             }
            },
            "type": "scatterpolargl"
           }
          ],
          "scatterternary": [
           {
            "marker": {
             "colorbar": {
              "outlinewidth": 0,
              "ticks": ""
             }
            },
            "type": "scatterternary"
           }
          ],
          "surface": [
           {
            "colorbar": {
             "outlinewidth": 0,
             "ticks": ""
            },
            "colorscale": [
             [
              0,
              "#0d0887"
             ],
             [
              0.1111111111111111,
              "#46039f"
             ],
             [
              0.2222222222222222,
              "#7201a8"
             ],
             [
              0.3333333333333333,
              "#9c179e"
             ],
             [
              0.4444444444444444,
              "#bd3786"
             ],
             [
              0.5555555555555556,
              "#d8576b"
             ],
             [
              0.6666666666666666,
              "#ed7953"
             ],
             [
              0.7777777777777778,
              "#fb9f3a"
             ],
             [
              0.8888888888888888,
              "#fdca26"
             ],
             [
              1,
              "#f0f921"
             ]
            ],
            "type": "surface"
           }
          ],
          "table": [
           {
            "cells": {
             "fill": {
              "color": "#EBF0F8"
             },
             "line": {
              "color": "white"
             }
            },
            "header": {
             "fill": {
              "color": "#C8D4E3"
             },
             "line": {
              "color": "white"
             }
            },
            "type": "table"
           }
          ]
         },
         "layout": {
          "annotationdefaults": {
           "arrowcolor": "#2a3f5f",
           "arrowhead": 0,
           "arrowwidth": 1
          },
          "autotypenumbers": "strict",
          "coloraxis": {
           "colorbar": {
            "outlinewidth": 0,
            "ticks": ""
           }
          },
          "colorscale": {
           "diverging": [
            [
             0,
             "#8e0152"
            ],
            [
             0.1,
             "#c51b7d"
            ],
            [
             0.2,
             "#de77ae"
            ],
            [
             0.3,
             "#f1b6da"
            ],
            [
             0.4,
             "#fde0ef"
            ],
            [
             0.5,
             "#f7f7f7"
            ],
            [
             0.6,
             "#e6f5d0"
            ],
            [
             0.7,
             "#b8e186"
            ],
            [
             0.8,
             "#7fbc41"
            ],
            [
             0.9,
             "#4d9221"
            ],
            [
             1,
             "#276419"
            ]
           ],
           "sequential": [
            [
             0,
             "#0d0887"
            ],
            [
             0.1111111111111111,
             "#46039f"
            ],
            [
             0.2222222222222222,
             "#7201a8"
            ],
            [
             0.3333333333333333,
             "#9c179e"
            ],
            [
             0.4444444444444444,
             "#bd3786"
            ],
            [
             0.5555555555555556,
             "#d8576b"
            ],
            [
             0.6666666666666666,
             "#ed7953"
            ],
            [
             0.7777777777777778,
             "#fb9f3a"
            ],
            [
             0.8888888888888888,
             "#fdca26"
            ],
            [
             1,
             "#f0f921"
            ]
           ],
           "sequentialminus": [
            [
             0,
             "#0d0887"
            ],
            [
             0.1111111111111111,
             "#46039f"
            ],
            [
             0.2222222222222222,
             "#7201a8"
            ],
            [
             0.3333333333333333,
             "#9c179e"
            ],
            [
             0.4444444444444444,
             "#bd3786"
            ],
            [
             0.5555555555555556,
             "#d8576b"
            ],
            [
             0.6666666666666666,
             "#ed7953"
            ],
            [
             0.7777777777777778,
             "#fb9f3a"
            ],
            [
             0.8888888888888888,
             "#fdca26"
            ],
            [
             1,
             "#f0f921"
            ]
           ]
          },
          "colorway": [
           "#636efa",
           "#EF553B",
           "#00cc96",
           "#ab63fa",
           "#FFA15A",
           "#19d3f3",
           "#FF6692",
           "#B6E880",
           "#FF97FF",
           "#FECB52"
          ],
          "font": {
           "color": "#2a3f5f"
          },
          "geo": {
           "bgcolor": "white",
           "lakecolor": "white",
           "landcolor": "#E5ECF6",
           "showlakes": true,
           "showland": true,
           "subunitcolor": "white"
          },
          "hoverlabel": {
           "align": "left"
          },
          "hovermode": "closest",
          "mapbox": {
           "style": "light"
          },
          "paper_bgcolor": "white",
          "plot_bgcolor": "#E5ECF6",
          "polar": {
           "angularaxis": {
            "gridcolor": "white",
            "linecolor": "white",
            "ticks": ""
           },
           "bgcolor": "#E5ECF6",
           "radialaxis": {
            "gridcolor": "white",
            "linecolor": "white",
            "ticks": ""
           }
          },
          "scene": {
           "xaxis": {
            "backgroundcolor": "#E5ECF6",
            "gridcolor": "white",
            "gridwidth": 2,
            "linecolor": "white",
            "showbackground": true,
            "ticks": "",
            "zerolinecolor": "white"
           },
           "yaxis": {
            "backgroundcolor": "#E5ECF6",
            "gridcolor": "white",
            "gridwidth": 2,
            "linecolor": "white",
            "showbackground": true,
            "ticks": "",
            "zerolinecolor": "white"
           },
           "zaxis": {
            "backgroundcolor": "#E5ECF6",
            "gridcolor": "white",
            "gridwidth": 2,
            "linecolor": "white",
            "showbackground": true,
            "ticks": "",
            "zerolinecolor": "white"
           }
          },
          "shapedefaults": {
           "line": {
            "color": "#2a3f5f"
           }
          },
          "ternary": {
           "aaxis": {
            "gridcolor": "white",
            "linecolor": "white",
            "ticks": ""
           },
           "baxis": {
            "gridcolor": "white",
            "linecolor": "white",
            "ticks": ""
           },
           "bgcolor": "#E5ECF6",
           "caxis": {
            "gridcolor": "white",
            "linecolor": "white",
            "ticks": ""
           }
          },
          "title": {
           "x": 0.05
          },
          "xaxis": {
           "automargin": true,
           "gridcolor": "white",
           "linecolor": "white",
           "ticks": "",
           "title": {
            "standoff": 15
           },
           "zerolinecolor": "white",
           "zerolinewidth": 2
          },
          "yaxis": {
           "automargin": true,
           "gridcolor": "white",
           "linecolor": "white",
           "ticks": "",
           "title": {
            "standoff": 15
           },
           "zerolinecolor": "white",
           "zerolinewidth": 2
          }
         }
        }
       }
      }
     },
     "metadata": {},
     "output_type": "display_data"
    }
   ],
   "source": [
    "fig = go.Figure()\n",
    "\n",
    "fig.add_trace(go.Scatter(x=actual.index, y=actual['Delta_Infected'], mode='lines', line=dict(color='orange'), name='Delta'))\n",
    "fig.add_trace(go.Scatter(x=actual.index, y=actual['Omicron_Infected'], mode='lines', line=dict(color='teal'), name='Omicron'))\n",
    "\n",
    "fig.show()"
   ]
  },
  {
   "cell_type": "code",
   "execution_count": 58,
   "metadata": {},
   "outputs": [
    {
     "data": {
      "application/vnd.plotly.v1+json": {
       "config": {
        "plotlyServerURL": "https://plot.ly"
       },
       "data": [
        {
         "marker": {
          "color": "gray",
          "size": 8
         },
         "mode": "markers",
         "name": "Training Data",
         "type": "scatter",
         "x": [
          "2021-07-21",
          "2021-07-28",
          "2021-08-04",
          "2021-08-11",
          "2021-08-18",
          "2021-08-25",
          "2021-09-01",
          "2021-09-08",
          "2021-09-15",
          "2021-09-22",
          "2021-09-29",
          "2021-10-06",
          "2021-10-13",
          "2021-10-20",
          "2021-10-27",
          "2021-11-03",
          "2021-11-10",
          "2021-11-17",
          "2021-11-24",
          "2021-12-01",
          "2021-12-08",
          "2021-12-15",
          "2021-12-22",
          "2021-12-29",
          "2022-01-05",
          "2022-01-12",
          "2022-01-19"
         ],
         "xaxis": "x",
         "y": [
          1928.38,
          2195.2699999999995,
          2506.180000000001,
          3247.0999999999985,
          3358.180000000002,
          3796.519999999997,
          3507.5200000000004,
          3790.7100000000023,
          3845.84,
          4071.999999999997,
          5755,
          4862,
          4081,
          3733,
          3654,
          4852,
          4927.620000000003,
          5231.160000000004,
          6482.479999999996,
          7662.619999999995,
          10702.520000000004,
          12870.72,
          11946.619999999995,
          8979.770000000004
         ],
         "yaxis": "y"
        },
        {
         "line": {
          "color": "gold",
          "dash": "dot",
          "width": 8
         },
         "mode": "lines",
         "name": "Actual Data",
         "type": "scatter",
         "x": [
          "2022-01-05",
          "2022-01-12",
          "2022-01-19"
         ],
         "xaxis": "x",
         "y": [
          5985.380000000005,
          3546,
          3233.2999999999884
         ],
         "yaxis": "y"
        },
        {
         "line": {
          "color": "blue",
          "dash": "dash",
          "width": 2
         },
         "mode": "lines",
         "name": "Predicted Data",
         "type": "scatter",
         "x": [
          "2021-07-21",
          "2021-07-28",
          "2021-08-04",
          "2021-08-11",
          "2021-08-18",
          "2021-08-25",
          "2021-09-01",
          "2021-09-08",
          "2021-09-15",
          "2021-09-22",
          "2021-09-29",
          "2021-10-06",
          "2021-10-13",
          "2021-10-20",
          "2021-10-27",
          "2021-11-03",
          "2021-11-10",
          "2021-11-17",
          "2021-11-24",
          "2021-12-01",
          "2021-12-08",
          "2021-12-15",
          "2021-12-22",
          "2021-12-29",
          "2022-01-05",
          "2022-01-12",
          "2022-01-19"
         ],
         "xaxis": "x",
         "y": [
          2160.8047,
          2125.298,
          2498.0325,
          3192.725,
          3356.2495,
          3669.2336,
          3613.9902,
          3505.0686,
          3877.1846,
          4552.327,
          4943.749,
          4818.3545,
          4372.686,
          3921.9785,
          3719.5684,
          3929.63,
          4628.733,
          5776.7573,
          7193.115,
          8606.946,
          9773.983,
          10564.078,
          10963.782,
          11027.148,
          10828.323,
          10436.171,
          9905.8955
         ],
         "yaxis": "y"
        },
        {
         "marker": {
          "color": "gray",
          "size": 6
         },
         "mode": "markers",
         "showlegend": false,
         "type": "scatter",
         "x": [
          "2021-07-21",
          "2021-07-28",
          "2021-08-04",
          "2021-08-11",
          "2021-08-18",
          "2021-08-25",
          "2021-09-01",
          "2021-09-08",
          "2021-09-15",
          "2021-09-22",
          "2021-09-29",
          "2021-10-06",
          "2021-10-13",
          "2021-10-20",
          "2021-10-27",
          "2021-11-03",
          "2021-11-10",
          "2021-11-17",
          "2021-11-24",
          "2021-12-01",
          "2021-12-08",
          "2021-12-15",
          "2021-12-22",
          "2021-12-29",
          "2022-01-05",
          "2022-01-12",
          "2022-01-19"
         ],
         "xaxis": "x2",
         "y": [
          0,
          0,
          0,
          0,
          0,
          0,
          0,
          0,
          0,
          0,
          0,
          0,
          0,
          0,
          0,
          0,
          0,
          0,
          55.52,
          211.9,
          474.86,
          854.7600000000001,
          1714.66,
          3017.6100000000006
         ],
         "yaxis": "y2"
        },
        {
         "line": {
          "color": "gold",
          "dash": "dot",
          "width": 8
         },
         "mode": "lines",
         "showlegend": false,
         "type": "scatter",
         "x": [
          "2022-01-05",
          "2022-01-12",
          "2022-01-19"
         ],
         "xaxis": "x2",
         "y": [
          4790.85,
          8270.619999999999,
          13967.37
         ],
         "yaxis": "y2"
        },
        {
         "line": {
          "color": "lightblue",
          "dash": "dash",
          "width": 2
         },
         "mode": "lines",
         "showlegend": false,
         "type": "scatter",
         "x": [
          "2021-07-21",
          "2021-07-28",
          "2021-08-04",
          "2021-08-11",
          "2021-08-18",
          "2021-08-25",
          "2021-09-01",
          "2021-09-08",
          "2021-09-15",
          "2021-09-22",
          "2021-09-29",
          "2021-10-06",
          "2021-10-13",
          "2021-10-20",
          "2021-10-27",
          "2021-11-03",
          "2021-11-10",
          "2021-11-17",
          "2021-11-24",
          "2021-12-01",
          "2021-12-08",
          "2021-12-15",
          "2021-12-22",
          "2021-12-29",
          "2022-01-05",
          "2022-01-12",
          "2022-01-19"
         ],
         "xaxis": "x2",
         "y": [
          -35.263367,
          4.4060087,
          -1.2758371,
          0.2549593,
          -0.08731055,
          -0.026016254,
          0.27056906,
          0.22093002,
          -0.114263386,
          -0.49815923,
          -0.62282914,
          -0.1659837,
          0.6788161,
          1.2176647,
          0.9004746,
          -0.193665,
          -1.3377558,
          -1.6666013,
          -0.69005513,
          1.5348549,
          4.409547,
          7.009507,
          8.254541,
          7.1331367,
          2.8111084,
          -5.28182,
          -17.46825
         ],
         "yaxis": "y2"
        },
        {
         "marker": {
          "color": "gray",
          "size": 6
         },
         "mode": "markers",
         "showlegend": false,
         "type": "scatter",
         "x": [
          "2021-07-21",
          "2021-07-28",
          "2021-08-04",
          "2021-08-11",
          "2021-08-18",
          "2021-08-25",
          "2021-09-01",
          "2021-09-08",
          "2021-09-15",
          "2021-09-22",
          "2021-09-29",
          "2021-10-06",
          "2021-10-13",
          "2021-10-20",
          "2021-10-27",
          "2021-11-03",
          "2021-11-10",
          "2021-11-17",
          "2021-11-24",
          "2021-12-01",
          "2021-12-08",
          "2021-12-15",
          "2021-12-22",
          "2021-12-29",
          "2022-01-05",
          "2022-01-12",
          "2022-01-19"
         ],
         "xaxis": "x3",
         "y": [
          13475758,
          13472907,
          13469929,
          13466511,
          13463017,
          13459143,
          13455579,
          13451750,
          13447881,
          13443809,
          13438054,
          13433192,
          13429111,
          13425378,
          13421724,
          13416872,
          13411925,
          13406641,
          13400065,
          13392246,
          13381225,
          13367818,
          13354693,
          13343874
         ],
         "yaxis": "y3"
        },
        {
         "line": {
          "color": "gold",
          "dash": "dot",
          "width": 8
         },
         "mode": "lines",
         "showlegend": false,
         "type": "scatter",
         "x": [
          "2022-01-05",
          "2022-01-12",
          "2022-01-19"
         ],
         "xaxis": "x3",
         "y": [
          13334937,
          13326072,
          13314139
         ],
         "yaxis": "y3"
        },
        {
         "line": {
          "color": "orange",
          "dash": "dash",
          "width": 2
         },
         "mode": "lines",
         "showlegend": false,
         "type": "scatter",
         "x": [
          "2021-07-21",
          "2021-07-28",
          "2021-08-04",
          "2021-08-11",
          "2021-08-18",
          "2021-08-25",
          "2021-09-01",
          "2021-09-08",
          "2021-09-15",
          "2021-09-22",
          "2021-09-29",
          "2021-10-06",
          "2021-10-13",
          "2021-10-20",
          "2021-10-27",
          "2021-11-03",
          "2021-11-10",
          "2021-11-17",
          "2021-11-24",
          "2021-12-01",
          "2021-12-08",
          "2021-12-15",
          "2021-12-22",
          "2021-12-29",
          "2022-01-05",
          "2022-01-12",
          "2022-01-19"
         ],
         "xaxis": "x3",
         "y": [
          13475764,
          13472890,
          13469938,
          13466385,
          13463382,
          13459057,
          13455283,
          13451865,
          13448079,
          13443583,
          13438523,
          13433402,
          13428688,
          13424556,
          13420865,
          13417214,
          13413010,
          13407568,
          13400315,
          13391081,
          13380190,
          13368240,
          13355795,
          13343234,
          13330766,
          13318496,
          13306470
         ],
         "yaxis": "y3"
        },
        {
         "marker": {
          "color": "gray",
          "size": 6
         },
         "mode": "markers",
         "showlegend": false,
         "type": "scatter",
         "x": [
          "2021-07-21",
          "2021-07-28",
          "2021-08-04",
          "2021-08-11",
          "2021-08-18",
          "2021-08-25",
          "2021-09-01",
          "2021-09-08",
          "2021-09-15",
          "2021-09-22",
          "2021-09-29",
          "2021-10-06",
          "2021-10-13",
          "2021-10-20",
          "2021-10-27",
          "2021-11-03",
          "2021-11-10",
          "2021-11-17",
          "2021-11-24",
          "2021-12-01",
          "2021-12-08",
          "2021-12-15",
          "2021-12-22",
          "2021-12-29",
          "2022-01-05",
          "2022-01-12",
          "2022-01-19"
         ],
         "xaxis": "x4",
         "y": [
          3754.62,
          5673.66,
          7865.08,
          10361.71,
          13595.51,
          16934.420000000002,
          20711.34,
          24208.04,
          27984.890000000003,
          31819.820000000003,
          35877.82,
          41611.82,
          46449.82,
          50498.82,
          54197.82,
          57823.82,
          62625.82,
          67499.64,
          72673.38,
          79056.22,
          86647.68,
          97365.76000000001,
          110419.62,
          122749.81
         ],
         "yaxis": "y4"
        },
        {
         "line": {
          "color": "gold",
          "dash": "dot",
          "width": 8
         },
         "mode": "lines",
         "showlegend": false,
         "type": "scatter",
         "x": [
          "2022-01-05",
          "2022-01-12",
          "2022-01-19"
         ],
         "xaxis": "x4",
         "y": [
          132801.4,
          140556.78,
          146991.32
         ],
         "yaxis": "y4"
        },
        {
         "line": {
          "color": "green",
          "dash": "dash",
          "width": 2
         },
         "mode": "lines",
         "showlegend": false,
         "type": "scatter",
         "x": [
          "2021-07-21",
          "2021-07-28",
          "2021-08-04",
          "2021-08-11",
          "2021-08-18",
          "2021-08-25",
          "2021-09-01",
          "2021-09-08",
          "2021-09-15",
          "2021-09-22",
          "2021-09-29",
          "2021-10-06",
          "2021-10-13",
          "2021-10-20",
          "2021-10-27",
          "2021-11-03",
          "2021-11-10",
          "2021-11-17",
          "2021-11-24",
          "2021-12-01",
          "2021-12-08",
          "2021-12-15",
          "2021-12-22",
          "2021-12-29",
          "2022-01-05",
          "2022-01-12",
          "2022-01-19"
         ],
         "xaxis": "x4",
         "y": [
          3729.8403034000003,
          5636.127512010999,
          7879.6088749,
          10496.589295,
          13781.918011,
          16749.6206585,
          20208.740217799997,
          24230.064768999997,
          28277.077827,
          32217.830918,
          36410.14427,
          40983.299215,
          45707.441604759995,
          50309.195550000004,
          54643.6381,
          58706.770954,
          62658.978775,
          66905.022025,
          72087.04098,
          78842.477835,
          87486.0137,
          97922.25388,
          109804.73066,
          122734.3097,
          136366.5201,
          150438.9003,
          164761.67070000002
         ],
         "yaxis": "y4"
        },
        {
         "marker": {
          "color": "gray",
          "size": 6
         },
         "mode": "markers",
         "showlegend": false,
         "type": "scatter",
         "x": [
          "2021-07-21",
          "2021-07-28",
          "2021-08-04",
          "2021-08-11",
          "2021-08-18",
          "2021-08-25",
          "2021-09-01",
          "2021-09-08",
          "2021-09-15",
          "2021-09-22",
          "2021-09-29",
          "2021-10-06",
          "2021-10-13",
          "2021-10-20",
          "2021-10-27",
          "2021-11-03",
          "2021-11-10",
          "2021-11-17",
          "2021-11-24",
          "2021-12-01",
          "2021-12-08",
          "2021-12-15",
          "2021-12-22",
          "2021-12-29",
          "2022-01-05",
          "2022-01-12",
          "2022-01-19"
         ],
         "xaxis": "x5",
         "y": [
          9.92,
          19.26,
          23.11,
          32.66,
          45.96,
          65.23,
          84.83,
          95.65,
          109.51,
          120.42,
          134.42,
          155.42,
          179.42,
          211.42,
          245.42,
          273.42,
          323.42,
          377.22,
          434.64,
          534.28,
          660.96,
          801.78,
          937.12,
          1089.8300000000002
         ],
         "yaxis": "y5"
        },
        {
         "line": {
          "color": "gold",
          "dash": "dot",
          "width": 8
         },
         "mode": "lines",
         "showlegend": false,
         "type": "scatter",
         "x": [
          "2022-01-05",
          "2022-01-12",
          "2022-01-19"
         ],
         "xaxis": "x5",
         "y": [
          1196.3899999999999,
          1265.6200000000001,
          1328.7
         ],
         "yaxis": "y5"
        },
        {
         "line": {
          "color": "red",
          "dash": "dash",
          "width": 2
         },
         "mode": "lines",
         "showlegend": false,
         "type": "scatter",
         "x": [
          "2021-07-21",
          "2021-07-28",
          "2021-08-04",
          "2021-08-11",
          "2021-08-18",
          "2021-08-25",
          "2021-09-01",
          "2021-09-08",
          "2021-09-15",
          "2021-09-22",
          "2021-09-29",
          "2021-10-06",
          "2021-10-13",
          "2021-10-20",
          "2021-10-27",
          "2021-11-03",
          "2021-11-10",
          "2021-11-17",
          "2021-11-24",
          "2021-12-01",
          "2021-12-08",
          "2021-12-15",
          "2021-12-22",
          "2021-12-29",
          "2022-01-05",
          "2022-01-12",
          "2022-01-19"
         ],
         "xaxis": "x5",
         "y": [
          9.836531788,
          19.59267466,
          21.897789697,
          32.031406448,
          49.597044589999996,
          65.39276885,
          80.794864884,
          96.40184222,
          109.46549047,
          120.875539148,
          135.56406468,
          155.90166253,
          180.99709977,
          209.57464916,
          241.3762633,
          277.35708952,
          320.028993332,
          374.04799943999996,
          445.5517985,
          539.220670768,
          655.3935427,
          790.2976733,
          938.588658,
          1095.4694195,
          1257.3798040000001,
          1421.901671,
          1587.420271
         ],
         "yaxis": "y5"
        }
       ],
       "layout": {
        "annotations": [
         {
          "font": {
           "size": 16
          },
          "showarrow": false,
          "text": "<b>Predictions for Infected by Delta</b>",
          "x": 0.225,
          "xanchor": "center",
          "xref": "paper",
          "y": 1,
          "yanchor": "bottom",
          "yref": "paper"
         },
         {
          "font": {
           "size": 16
          },
          "showarrow": false,
          "text": "<b>Predictions for Infected by Omicron</b>",
          "x": 0.775,
          "xanchor": "center",
          "xref": "paper",
          "y": 1,
          "yanchor": "bottom",
          "yref": "paper"
         },
         {
          "font": {
           "size": 16
          },
          "showarrow": false,
          "text": "<b>Predictions for Susceptible</b>",
          "x": 0.13333333333333333,
          "xanchor": "center",
          "xref": "paper",
          "y": 0.425,
          "yanchor": "bottom",
          "yref": "paper"
         },
         {
          "font": {
           "size": 16
          },
          "showarrow": false,
          "text": "<b>Predictions for Recovered by Omicron</b>",
          "x": 0.5,
          "xanchor": "center",
          "xref": "paper",
          "y": 0.425,
          "yanchor": "bottom",
          "yref": "paper"
         },
         {
          "font": {
           "size": 16
          },
          "showarrow": false,
          "text": "<b>Predictions for Dead by Omicron</b>",
          "x": 0.8666666666666667,
          "xanchor": "center",
          "xref": "paper",
          "y": 0.425,
          "yanchor": "bottom",
          "yref": "paper"
         }
        ],
        "height": 800,
        "legend": {
         "bordercolor": "Black",
         "borderwidth": 0.5,
         "orientation": "h",
         "x": 1,
         "xanchor": "right",
         "y": 1.1
        },
        "margin": {
         "t": 150
        },
        "plot_bgcolor": "white",
        "shapes": [
         {
          "line": {
           "color": "red",
           "dash": "dash",
           "width": 2
          },
          "type": "line",
          "x0": "2022-01-05",
          "x1": "2022-01-05",
          "xref": "x",
          "y0": 0,
          "y1": 1,
          "yref": "y domain"
         },
         {
          "line": {
           "color": "red",
           "dash": "dash",
           "width": 2
          },
          "type": "line",
          "x0": "2022-01-05",
          "x1": "2022-01-05",
          "xref": "x2",
          "y0": 0,
          "y1": 1,
          "yref": "y2 domain"
         },
         {
          "line": {
           "color": "red",
           "dash": "dash",
           "width": 2
          },
          "type": "line",
          "x0": "2022-01-05",
          "x1": "2022-01-05",
          "xref": "x3",
          "y0": 0,
          "y1": 1,
          "yref": "y3 domain"
         },
         {
          "line": {
           "color": "red",
           "dash": "dash",
           "width": 2
          },
          "type": "line",
          "x0": "2022-01-05",
          "x1": "2022-01-05",
          "xref": "x4",
          "y0": 0,
          "y1": 1,
          "yref": "y4 domain"
         },
         {
          "line": {
           "color": "red",
           "dash": "dash",
           "width": 2
          },
          "type": "line",
          "x0": "2022-01-05",
          "x1": "2022-01-05",
          "xref": "x5",
          "y0": 0,
          "y1": 1,
          "yref": "y5 domain"
         }
        ],
        "template": {
         "data": {
          "bar": [
           {
            "error_x": {
             "color": "#2a3f5f"
            },
            "error_y": {
             "color": "#2a3f5f"
            },
            "marker": {
             "line": {
              "color": "#E5ECF6",
              "width": 0.5
             },
             "pattern": {
              "fillmode": "overlay",
              "size": 10,
              "solidity": 0.2
             }
            },
            "type": "bar"
           }
          ],
          "barpolar": [
           {
            "marker": {
             "line": {
              "color": "#E5ECF6",
              "width": 0.5
             },
             "pattern": {
              "fillmode": "overlay",
              "size": 10,
              "solidity": 0.2
             }
            },
            "type": "barpolar"
           }
          ],
          "carpet": [
           {
            "aaxis": {
             "endlinecolor": "#2a3f5f",
             "gridcolor": "white",
             "linecolor": "white",
             "minorgridcolor": "white",
             "startlinecolor": "#2a3f5f"
            },
            "baxis": {
             "endlinecolor": "#2a3f5f",
             "gridcolor": "white",
             "linecolor": "white",
             "minorgridcolor": "white",
             "startlinecolor": "#2a3f5f"
            },
            "type": "carpet"
           }
          ],
          "choropleth": [
           {
            "colorbar": {
             "outlinewidth": 0,
             "ticks": ""
            },
            "type": "choropleth"
           }
          ],
          "contour": [
           {
            "colorbar": {
             "outlinewidth": 0,
             "ticks": ""
            },
            "colorscale": [
             [
              0,
              "#0d0887"
             ],
             [
              0.1111111111111111,
              "#46039f"
             ],
             [
              0.2222222222222222,
              "#7201a8"
             ],
             [
              0.3333333333333333,
              "#9c179e"
             ],
             [
              0.4444444444444444,
              "#bd3786"
             ],
             [
              0.5555555555555556,
              "#d8576b"
             ],
             [
              0.6666666666666666,
              "#ed7953"
             ],
             [
              0.7777777777777778,
              "#fb9f3a"
             ],
             [
              0.8888888888888888,
              "#fdca26"
             ],
             [
              1,
              "#f0f921"
             ]
            ],
            "type": "contour"
           }
          ],
          "contourcarpet": [
           {
            "colorbar": {
             "outlinewidth": 0,
             "ticks": ""
            },
            "type": "contourcarpet"
           }
          ],
          "heatmap": [
           {
            "colorbar": {
             "outlinewidth": 0,
             "ticks": ""
            },
            "colorscale": [
             [
              0,
              "#0d0887"
             ],
             [
              0.1111111111111111,
              "#46039f"
             ],
             [
              0.2222222222222222,
              "#7201a8"
             ],
             [
              0.3333333333333333,
              "#9c179e"
             ],
             [
              0.4444444444444444,
              "#bd3786"
             ],
             [
              0.5555555555555556,
              "#d8576b"
             ],
             [
              0.6666666666666666,
              "#ed7953"
             ],
             [
              0.7777777777777778,
              "#fb9f3a"
             ],
             [
              0.8888888888888888,
              "#fdca26"
             ],
             [
              1,
              "#f0f921"
             ]
            ],
            "type": "heatmap"
           }
          ],
          "heatmapgl": [
           {
            "colorbar": {
             "outlinewidth": 0,
             "ticks": ""
            },
            "colorscale": [
             [
              0,
              "#0d0887"
             ],
             [
              0.1111111111111111,
              "#46039f"
             ],
             [
              0.2222222222222222,
              "#7201a8"
             ],
             [
              0.3333333333333333,
              "#9c179e"
             ],
             [
              0.4444444444444444,
              "#bd3786"
             ],
             [
              0.5555555555555556,
              "#d8576b"
             ],
             [
              0.6666666666666666,
              "#ed7953"
             ],
             [
              0.7777777777777778,
              "#fb9f3a"
             ],
             [
              0.8888888888888888,
              "#fdca26"
             ],
             [
              1,
              "#f0f921"
             ]
            ],
            "type": "heatmapgl"
           }
          ],
          "histogram": [
           {
            "marker": {
             "pattern": {
              "fillmode": "overlay",
              "size": 10,
              "solidity": 0.2
             }
            },
            "type": "histogram"
           }
          ],
          "histogram2d": [
           {
            "colorbar": {
             "outlinewidth": 0,
             "ticks": ""
            },
            "colorscale": [
             [
              0,
              "#0d0887"
             ],
             [
              0.1111111111111111,
              "#46039f"
             ],
             [
              0.2222222222222222,
              "#7201a8"
             ],
             [
              0.3333333333333333,
              "#9c179e"
             ],
             [
              0.4444444444444444,
              "#bd3786"
             ],
             [
              0.5555555555555556,
              "#d8576b"
             ],
             [
              0.6666666666666666,
              "#ed7953"
             ],
             [
              0.7777777777777778,
              "#fb9f3a"
             ],
             [
              0.8888888888888888,
              "#fdca26"
             ],
             [
              1,
              "#f0f921"
             ]
            ],
            "type": "histogram2d"
           }
          ],
          "histogram2dcontour": [
           {
            "colorbar": {
             "outlinewidth": 0,
             "ticks": ""
            },
            "colorscale": [
             [
              0,
              "#0d0887"
             ],
             [
              0.1111111111111111,
              "#46039f"
             ],
             [
              0.2222222222222222,
              "#7201a8"
             ],
             [
              0.3333333333333333,
              "#9c179e"
             ],
             [
              0.4444444444444444,
              "#bd3786"
             ],
             [
              0.5555555555555556,
              "#d8576b"
             ],
             [
              0.6666666666666666,
              "#ed7953"
             ],
             [
              0.7777777777777778,
              "#fb9f3a"
             ],
             [
              0.8888888888888888,
              "#fdca26"
             ],
             [
              1,
              "#f0f921"
             ]
            ],
            "type": "histogram2dcontour"
           }
          ],
          "mesh3d": [
           {
            "colorbar": {
             "outlinewidth": 0,
             "ticks": ""
            },
            "type": "mesh3d"
           }
          ],
          "parcoords": [
           {
            "line": {
             "colorbar": {
              "outlinewidth": 0,
              "ticks": ""
             }
            },
            "type": "parcoords"
           }
          ],
          "pie": [
           {
            "automargin": true,
            "type": "pie"
           }
          ],
          "scatter": [
           {
            "fillpattern": {
             "fillmode": "overlay",
             "size": 10,
             "solidity": 0.2
            },
            "type": "scatter"
           }
          ],
          "scatter3d": [
           {
            "line": {
             "colorbar": {
              "outlinewidth": 0,
              "ticks": ""
             }
            },
            "marker": {
             "colorbar": {
              "outlinewidth": 0,
              "ticks": ""
             }
            },
            "type": "scatter3d"
           }
          ],
          "scattercarpet": [
           {
            "marker": {
             "colorbar": {
              "outlinewidth": 0,
              "ticks": ""
             }
            },
            "type": "scattercarpet"
           }
          ],
          "scattergeo": [
           {
            "marker": {
             "colorbar": {
              "outlinewidth": 0,
              "ticks": ""
             }
            },
            "type": "scattergeo"
           }
          ],
          "scattergl": [
           {
            "marker": {
             "colorbar": {
              "outlinewidth": 0,
              "ticks": ""
             }
            },
            "type": "scattergl"
           }
          ],
          "scattermapbox": [
           {
            "marker": {
             "colorbar": {
              "outlinewidth": 0,
              "ticks": ""
             }
            },
            "type": "scattermapbox"
           }
          ],
          "scatterpolar": [
           {
            "marker": {
             "colorbar": {
              "outlinewidth": 0,
              "ticks": ""
             }
            },
            "type": "scatterpolar"
           }
          ],
          "scatterpolargl": [
           {
            "marker": {
             "colorbar": {
              "outlinewidth": 0,
              "ticks": ""
             }
            },
            "type": "scatterpolargl"
           }
          ],
          "scatterternary": [
           {
            "marker": {
             "colorbar": {
              "outlinewidth": 0,
              "ticks": ""
             }
            },
            "type": "scatterternary"
           }
          ],
          "surface": [
           {
            "colorbar": {
             "outlinewidth": 0,
             "ticks": ""
            },
            "colorscale": [
             [
              0,
              "#0d0887"
             ],
             [
              0.1111111111111111,
              "#46039f"
             ],
             [
              0.2222222222222222,
              "#7201a8"
             ],
             [
              0.3333333333333333,
              "#9c179e"
             ],
             [
              0.4444444444444444,
              "#bd3786"
             ],
             [
              0.5555555555555556,
              "#d8576b"
             ],
             [
              0.6666666666666666,
              "#ed7953"
             ],
             [
              0.7777777777777778,
              "#fb9f3a"
             ],
             [
              0.8888888888888888,
              "#fdca26"
             ],
             [
              1,
              "#f0f921"
             ]
            ],
            "type": "surface"
           }
          ],
          "table": [
           {
            "cells": {
             "fill": {
              "color": "#EBF0F8"
             },
             "line": {
              "color": "white"
             }
            },
            "header": {
             "fill": {
              "color": "#C8D4E3"
             },
             "line": {
              "color": "white"
             }
            },
            "type": "table"
           }
          ]
         },
         "layout": {
          "annotationdefaults": {
           "arrowcolor": "#2a3f5f",
           "arrowhead": 0,
           "arrowwidth": 1
          },
          "autotypenumbers": "strict",
          "coloraxis": {
           "colorbar": {
            "outlinewidth": 0,
            "ticks": ""
           }
          },
          "colorscale": {
           "diverging": [
            [
             0,
             "#8e0152"
            ],
            [
             0.1,
             "#c51b7d"
            ],
            [
             0.2,
             "#de77ae"
            ],
            [
             0.3,
             "#f1b6da"
            ],
            [
             0.4,
             "#fde0ef"
            ],
            [
             0.5,
             "#f7f7f7"
            ],
            [
             0.6,
             "#e6f5d0"
            ],
            [
             0.7,
             "#b8e186"
            ],
            [
             0.8,
             "#7fbc41"
            ],
            [
             0.9,
             "#4d9221"
            ],
            [
             1,
             "#276419"
            ]
           ],
           "sequential": [
            [
             0,
             "#0d0887"
            ],
            [
             0.1111111111111111,
             "#46039f"
            ],
            [
             0.2222222222222222,
             "#7201a8"
            ],
            [
             0.3333333333333333,
             "#9c179e"
            ],
            [
             0.4444444444444444,
             "#bd3786"
            ],
            [
             0.5555555555555556,
             "#d8576b"
            ],
            [
             0.6666666666666666,
             "#ed7953"
            ],
            [
             0.7777777777777778,
             "#fb9f3a"
            ],
            [
             0.8888888888888888,
             "#fdca26"
            ],
            [
             1,
             "#f0f921"
            ]
           ],
           "sequentialminus": [
            [
             0,
             "#0d0887"
            ],
            [
             0.1111111111111111,
             "#46039f"
            ],
            [
             0.2222222222222222,
             "#7201a8"
            ],
            [
             0.3333333333333333,
             "#9c179e"
            ],
            [
             0.4444444444444444,
             "#bd3786"
            ],
            [
             0.5555555555555556,
             "#d8576b"
            ],
            [
             0.6666666666666666,
             "#ed7953"
            ],
            [
             0.7777777777777778,
             "#fb9f3a"
            ],
            [
             0.8888888888888888,
             "#fdca26"
            ],
            [
             1,
             "#f0f921"
            ]
           ]
          },
          "colorway": [
           "#636efa",
           "#EF553B",
           "#00cc96",
           "#ab63fa",
           "#FFA15A",
           "#19d3f3",
           "#FF6692",
           "#B6E880",
           "#FF97FF",
           "#FECB52"
          ],
          "font": {
           "color": "#2a3f5f"
          },
          "geo": {
           "bgcolor": "white",
           "lakecolor": "white",
           "landcolor": "#E5ECF6",
           "showlakes": true,
           "showland": true,
           "subunitcolor": "white"
          },
          "hoverlabel": {
           "align": "left"
          },
          "hovermode": "closest",
          "mapbox": {
           "style": "light"
          },
          "paper_bgcolor": "white",
          "plot_bgcolor": "#E5ECF6",
          "polar": {
           "angularaxis": {
            "gridcolor": "white",
            "linecolor": "white",
            "ticks": ""
           },
           "bgcolor": "#E5ECF6",
           "radialaxis": {
            "gridcolor": "white",
            "linecolor": "white",
            "ticks": ""
           }
          },
          "scene": {
           "xaxis": {
            "backgroundcolor": "#E5ECF6",
            "gridcolor": "white",
            "gridwidth": 2,
            "linecolor": "white",
            "showbackground": true,
            "ticks": "",
            "zerolinecolor": "white"
           },
           "yaxis": {
            "backgroundcolor": "#E5ECF6",
            "gridcolor": "white",
            "gridwidth": 2,
            "linecolor": "white",
            "showbackground": true,
            "ticks": "",
            "zerolinecolor": "white"
           },
           "zaxis": {
            "backgroundcolor": "#E5ECF6",
            "gridcolor": "white",
            "gridwidth": 2,
            "linecolor": "white",
            "showbackground": true,
            "ticks": "",
            "zerolinecolor": "white"
           }
          },
          "shapedefaults": {
           "line": {
            "color": "#2a3f5f"
           }
          },
          "ternary": {
           "aaxis": {
            "gridcolor": "white",
            "linecolor": "white",
            "ticks": ""
           },
           "baxis": {
            "gridcolor": "white",
            "linecolor": "white",
            "ticks": ""
           },
           "bgcolor": "#E5ECF6",
           "caxis": {
            "gridcolor": "white",
            "linecolor": "white",
            "ticks": ""
           }
          },
          "title": {
           "x": 0.05
          },
          "xaxis": {
           "automargin": true,
           "gridcolor": "white",
           "linecolor": "white",
           "ticks": "",
           "title": {
            "standoff": 15
           },
           "zerolinecolor": "white",
           "zerolinewidth": 2
          },
          "yaxis": {
           "automargin": true,
           "gridcolor": "white",
           "linecolor": "white",
           "ticks": "",
           "title": {
            "standoff": 15
           },
           "zerolinecolor": "white",
           "zerolinewidth": 2
          }
         }
        },
        "title": {
         "font": {
          "color": "#000000",
          "family": "Arial",
          "size": 30
         },
         "text": "<b>4 weeks prediction by using PINNs for Gyeonggi</b>",
         "x": 0.5,
         "xanchor": "center",
         "y": 0.95,
         "yanchor": "bottom"
        },
        "width": 1200,
        "xaxis": {
         "anchor": "y",
         "domain": [
          0,
          0.45
         ],
         "gridcolor": "lightgray",
         "linecolor": "gray",
         "mirror": true,
         "title": {
          "text": "<b>Date</b>"
         }
        },
        "xaxis2": {
         "anchor": "y2",
         "domain": [
          0.55,
          1
         ],
         "gridcolor": "lightgray",
         "linecolor": "gray",
         "mirror": true,
         "title": {
          "text": "Date"
         }
        },
        "xaxis3": {
         "anchor": "y3",
         "domain": [
          0,
          0.26666666666666666
         ],
         "gridcolor": "lightgray",
         "linecolor": "gray",
         "mirror": true,
         "title": {
          "text": "<b>Date</b>"
         }
        },
        "xaxis4": {
         "anchor": "y4",
         "domain": [
          0.3666666666666667,
          0.6333333333333334
         ],
         "gridcolor": "lightgray",
         "linecolor": "gray",
         "mirror": true,
         "title": {
          "text": "<b>Date</b>"
         }
        },
        "xaxis5": {
         "anchor": "y5",
         "domain": [
          0.7333333333333334,
          1
         ],
         "gridcolor": "lightgray",
         "linecolor": "gray",
         "mirror": true,
         "title": {
          "text": "<b>Date</b>"
         }
        },
        "yaxis": {
         "anchor": "x",
         "domain": [
          0.575,
          1
         ],
         "gridcolor": "lightgray",
         "linecolor": "gray",
         "mirror": true,
         "title": {
          "text": "<b>인구수</b>"
         }
        },
        "yaxis2": {
         "anchor": "x2",
         "domain": [
          0.575,
          1
         ],
         "gridcolor": "lightgray",
         "linecolor": "gray",
         "mirror": true,
         "title": {
          "text": "<b>인구수</b>"
         }
        },
        "yaxis3": {
         "anchor": "x3",
         "domain": [
          0,
          0.425
         ],
         "gridcolor": "lightgray",
         "linecolor": "gray",
         "mirror": true,
         "title": {
          "text": "<b>인구수</b>"
         }
        },
        "yaxis4": {
         "anchor": "x4",
         "domain": [
          0,
          0.425
         ],
         "gridcolor": "lightgray",
         "linecolor": "gray",
         "mirror": true,
         "title": {
          "text": "<b>인구수</b>"
         }
        },
        "yaxis5": {
         "anchor": "x5",
         "domain": [
          0,
          0.425
         ],
         "gridcolor": "lightgray",
         "linecolor": "gray",
         "mirror": true,
         "title": {
          "text": "<b>인구수</b>"
         }
        }
       }
      }
     },
     "metadata": {},
     "output_type": "display_data"
    }
   ],
   "source": [
    "fig = make_subplots(rows=2, cols=6,\n",
    "                    horizontal_spacing = 0.1, vertical_spacing=0.15,\n",
    "                    specs=[[{\"type\": \"scatter\", 'colspan': 3}, None, None, {\"type\": \"scatter\", 'colspan': 3}, None, None, ],\n",
    "                           [{\"type\": \"scatter\", 'colspan': 2}, None, {\"type\": \"scatter\", 'colspan': 2}, None, {\"type\": \"scatter\", 'colspan': 2}, None]],\n",
    "                    subplot_titles=('<b>Predictions for Infected by Delta</b>','<b>Predictions for Infected by Omicron</b>',\n",
    "                                    '<b>Predictions for Susceptible</b>','<b>Predictions for Recovered by Omicron</b>','<b>Predictions for Dead by Omicron</b>')\n",
    "                    )     \n",
    "\n",
    "\n",
    "Ds = 24\n",
    "####################################################################################\n",
    "fig.add_trace(go.Scatter(x=dinn.index, y=actual['Delta_Infected'][:Ds], mode='markers', name='Training Data',\n",
    "                        marker=dict(color='gray', size=8)), row=1, col=1)\n",
    "fig.add_trace(go.Scatter(x=dinn.index[Ds:], y=actual['Delta_Infected'][Ds:], mode='lines', name='Actual Data',\n",
    "                        line=dict(color='gold', width=8, dash='dot')), row=1, col=1)\n",
    "fig.add_trace(go.Scatter(x=dinn.index, y=dinn['I1_pred'], mode='lines', name='Predicted Data',\n",
    "                        line=dict(color='blue', width=2, dash='dash')), row=1, col=1)\n",
    "fig.add_vline(x=dinn.index[Ds], line_width=2, line_dash=\"dash\", line_color=\"red\", row=1, col=1)\n",
    "####################################################################################\n",
    "fig.add_trace(go.Scatter(x=dinn.index, y=actual['Omicron_Infected'][:Ds], mode='markers', showlegend=False,\n",
    "                        marker=dict(color='gray', size=6)), row=1, col=4)\n",
    "fig.add_trace(go.Scatter(x=dinn.index[Ds:], y=actual['Omicron_Infected'][Ds:], mode='lines', showlegend=False,\n",
    "                        line=dict(color='gold', width=8, dash='dot')), row=1, col=4)\n",
    "fig.add_trace(go.Scatter(x=dinn.index, y=dinn['I2_pred'], mode='lines', showlegend=False,\n",
    "                        line=dict(color='lightblue', width=2, dash='dash')), row=1, col=4)\n",
    "fig.add_vline(x=dinn.index[Ds], line_width=2, line_dash=\"dash\", line_color=\"red\", row=1, col=4)\n",
    "####################################################################################\n",
    "fig.add_trace(go.Scatter(x=dinn.index, y=actual['Susceptible'][:Ds], mode='markers', showlegend=False,\n",
    "                        marker=dict(color='gray', size=6)), row=2, col=1)\n",
    "fig.add_trace(go.Scatter(x=dinn.index[Ds:], y=actual['Susceptible'][Ds:], mode='lines', showlegend=False,\n",
    "                        line=dict(color='gold', width=8, dash='dot')), row=2, col=1)\n",
    "fig.add_trace(go.Scatter(x=dinn.index, y=dinn['S_pred'], mode='lines', showlegend=False,\n",
    "                        line=dict(color='orange', width=2, dash='dash')), row=2, col=1)\n",
    "fig.add_vline(x=dinn.index[Ds], line_width=2, line_dash=\"dash\", line_color=\"red\", row=2, col=1)\n",
    "####################################################################################\n",
    "fig.add_trace(go.Scatter(x=dinn.index, y=actual['Recovered'][:Ds], mode='markers', showlegend=False,\n",
    "                        marker=dict(color='gray', size=6)), row=2, col=3)\n",
    "fig.add_trace(go.Scatter(x=dinn.index[Ds:], y=actual['Recovered'][Ds:], mode='lines', showlegend=False,\n",
    "                        line=dict(color='gold', width=8, dash='dot')), row=2, col=3)\n",
    "fig.add_trace(go.Scatter(x=dinn.index, y=dinn['Recovered'], mode='lines', showlegend=False,\n",
    "                        line=dict(color='green', width=2, dash='dash')), row=2, col=3)\n",
    "fig.add_vline(x=dinn.index[Ds], line_width=2, line_dash=\"dash\", line_color=\"red\", row=2, col=3)\n",
    "####################################################################################\n",
    "fig.add_trace(go.Scatter(x=dinn.index, y=actual['Dead'][:Ds], mode='markers', showlegend=False,\n",
    "                        marker=dict(color='gray', size=6)), row=2, col=5)\n",
    "fig.add_trace(go.Scatter(x=dinn.index[Ds:], y=actual['Dead'][Ds:], mode='lines', showlegend=False,\n",
    "                        line=dict(color='gold', width=8, dash='dot')), row=2, col=5)\n",
    "fig.add_trace(go.Scatter(x=dinn.index, y=dinn['Dead'], mode='lines', showlegend=False,\n",
    "                        line=dict(color='red', width=2, dash='dash')), row=2, col=5)\n",
    "fig.add_vline(x=dinn.index[Ds], line_width=2, line_dash=\"dash\", line_color=\"red\", row=2, col=5)\n",
    "####################################################################################\n",
    "\n",
    "fig.update_layout(\n",
    "    height=800, \n",
    "    width=1200, \n",
    "    margin_t=150,\n",
    "    \n",
    "    xaxis1_title = '<b>Date</b>',\n",
    "    yaxis1_title = '<b>인구수</b>',\n",
    "    xaxis2_title = 'Date',\n",
    "    yaxis2_title = '<b>인구수</b>',\n",
    "    xaxis3_title = '<b>Date</b>',\n",
    "    yaxis3_title = '<b>인구수</b>',\n",
    "    xaxis4_title = '<b>Date</b>',\n",
    "    yaxis4_title = '<b>인구수</b>',\n",
    "    xaxis5_title = '<b>Date</b>',\n",
    "    yaxis5_title = '<b>인구수</b>',\n",
    "    plot_bgcolor ='white', # 차트 안쪽 배경색\n",
    "    title=dict(text=f'<b>4 weeks prediction by using PINNs for {eng[city]}</b>',\n",
    "               xanchor='center', yanchor='bottom', \n",
    "               x=0.5, y=0.95,\n",
    "               font=dict(\n",
    "                family=\"Arial\",\n",
    "                size=30,\n",
    "                color=\"#000000\"\n",
    "                )),\n",
    "    legend=dict(orientation ='h',\n",
    "                xanchor='right', x=1, y=1.1,\n",
    "                bordercolor=\"Black\",\n",
    "                borderwidth=0.5)\n",
    ")\n",
    "fig.update_xaxes(linecolor='gray', gridcolor='lightgray',mirror=True)\n",
    "fig.update_yaxes(linecolor='gray', gridcolor='lightgray',mirror=True)\n",
    "fig.show()\n",
    "# fig.write_image('./images/')"
   ]
  },
  {
   "cell_type": "code",
   "execution_count": 16,
   "metadata": {},
   "outputs": [
    {
     "data": {
      "text/plain": [
       "1429.557145504"
      ]
     },
     "execution_count": 16,
     "metadata": {},
     "output_type": "execute_result"
    }
   ],
   "source": [
    "sum(abs(actual['Omicron_Infected'].values - dinn['I2_pred'].values))"
   ]
  },
  {
   "cell_type": "code",
   "execution_count": 103,
   "metadata": {},
   "outputs": [
    {
     "name": "stdout",
     "output_type": "stream",
     "text": [
      "         date  stringency\n",
      "0  2020-01-03         0.0\n",
      "1  2020-01-04         0.0\n",
      "2  2020-01-05         0.0\n",
      "3  2020-01-06         0.0\n",
      "4  2020-01-07         0.0\n",
      "         Date  alpha\n",
      "0  2020-01-20    0.0\n",
      "1  2020-01-21    0.0\n",
      "2  2020-01-22    0.0\n",
      "3  2020-01-23    1.0\n",
      "4  2020-01-24    0.0\n"
     ]
    }
   ],
   "source": [
    "df = pd.read_csv('./data/stringency_index.csv')\n",
    "a_df = pd.read_csv('./data/all_SIR_Origin.csv', encoding='cp949', usecols=['Date', 'alpha'])\n",
    "print(df.head(5), a_df.head(5), sep='\\n')"
   ]
  },
  {
   "cell_type": "code",
   "execution_count": 136,
   "metadata": {},
   "outputs": [
    {
     "data": {
      "application/vnd.plotly.v1+json": {
       "config": {
        "plotlyServerURL": "https://plot.ly"
       },
       "data": [
        {
         "line": {
          "color": "red"
         },
         "mode": "lines",
         "name": "엄격도 지수",
         "type": "scatter",
         "x": [
          "2020-01-03",
          "2020-01-04",
          "2020-01-05",
          "2020-01-06",
          "2020-01-07",
          "2020-01-08",
          "2020-01-09",
          "2020-01-10",
          "2020-01-11",
          "2020-01-12",
          "2020-01-13",
          "2020-01-14",
          "2020-01-15",
          "2020-01-16",
          "2020-01-17",
          "2020-01-18",
          "2020-01-19",
          "2020-01-20",
          "2020-01-21",
          "2020-01-22",
          "2020-01-23",
          "2020-01-24",
          "2020-01-25",
          "2020-01-26",
          "2020-01-27",
          "2020-01-28",
          "2020-01-29",
          "2020-01-30",
          "2020-01-31",
          "2020-02-01",
          "2020-02-02",
          "2020-02-03",
          "2020-02-04",
          "2020-02-05",
          "2020-02-06",
          "2020-02-07",
          "2020-02-08",
          "2020-02-09",
          "2020-02-10",
          "2020-02-11",
          "2020-02-12",
          "2020-02-13",
          "2020-02-14",
          "2020-02-15",
          "2020-02-16",
          "2020-02-17",
          "2020-02-18",
          "2020-02-19",
          "2020-02-20",
          "2020-02-21",
          "2020-02-22",
          "2020-02-23",
          "2020-02-24",
          "2020-02-25",
          "2020-02-26",
          "2020-02-27",
          "2020-02-28",
          "2020-02-29",
          "2020-03-01",
          "2020-03-02",
          "2020-03-03",
          "2020-03-04",
          "2020-03-05",
          "2020-03-06",
          "2020-03-07",
          "2020-03-08",
          "2020-03-09",
          "2020-03-10",
          "2020-03-11",
          "2020-03-12",
          "2020-03-13",
          "2020-03-14",
          "2020-03-15",
          "2020-03-16",
          "2020-03-17",
          "2020-03-18",
          "2020-03-19",
          "2020-03-20",
          "2020-03-21",
          "2020-03-22",
          "2020-03-23",
          "2020-03-24",
          "2020-03-25",
          "2020-03-26",
          "2020-03-27",
          "2020-03-28",
          "2020-03-29",
          "2020-03-30",
          "2020-03-31",
          "2020-04-01",
          "2020-04-02",
          "2020-04-03",
          "2020-04-04",
          "2020-04-05",
          "2020-04-06",
          "2020-04-07",
          "2020-04-08",
          "2020-04-09",
          "2020-04-10",
          "2020-04-11",
          "2020-04-12",
          "2020-04-13",
          "2020-04-14",
          "2020-04-15",
          "2020-04-16",
          "2020-04-17",
          "2020-04-18",
          "2020-04-19",
          "2020-04-20",
          "2020-04-21",
          "2020-04-22",
          "2020-04-23",
          "2020-04-24",
          "2020-04-25",
          "2020-04-26",
          "2020-04-27",
          "2020-04-28",
          "2020-04-29",
          "2020-04-30",
          "2020-05-01",
          "2020-05-02",
          "2020-05-03",
          "2020-05-04",
          "2020-05-05",
          "2020-05-06",
          "2020-05-07",
          "2020-05-08",
          "2020-05-09",
          "2020-05-10",
          "2020-05-11",
          "2020-05-12",
          "2020-05-13",
          "2020-05-14",
          "2020-05-15",
          "2020-05-16",
          "2020-05-17",
          "2020-05-18",
          "2020-05-19",
          "2020-05-20",
          "2020-05-21",
          "2020-05-22",
          "2020-05-23",
          "2020-05-24",
          "2020-05-25",
          "2020-05-26",
          "2020-05-27",
          "2020-05-28",
          "2020-05-29",
          "2020-05-30",
          "2020-05-31",
          "2020-06-01",
          "2020-06-02",
          "2020-06-03",
          "2020-06-04",
          "2020-06-05",
          "2020-06-06",
          "2020-06-07",
          "2020-06-08",
          "2020-06-09",
          "2020-06-10",
          "2020-06-11",
          "2020-06-12",
          "2020-06-13",
          "2020-06-14",
          "2020-06-15",
          "2020-06-16",
          "2020-06-17",
          "2020-06-18",
          "2020-06-19",
          "2020-06-20",
          "2020-06-21",
          "2020-06-22",
          "2020-06-23",
          "2020-06-24",
          "2020-06-25",
          "2020-06-26",
          "2020-06-27",
          "2020-06-28",
          "2020-06-29",
          "2020-06-30",
          "2020-07-01",
          "2020-07-02",
          "2020-07-03",
          "2020-07-04",
          "2020-07-05",
          "2020-07-06",
          "2020-07-07",
          "2020-07-08",
          "2020-07-09",
          "2020-07-10",
          "2020-07-11",
          "2020-07-12",
          "2020-07-13",
          "2020-07-14",
          "2020-07-15",
          "2020-07-16",
          "2020-07-17",
          "2020-07-18",
          "2020-07-19",
          "2020-07-20",
          "2020-07-21",
          "2020-07-22",
          "2020-07-23",
          "2020-07-24",
          "2020-07-25",
          "2020-07-26",
          "2020-07-27",
          "2020-07-28",
          "2020-07-29",
          "2020-07-30",
          "2020-07-31",
          "2020-08-01",
          "2020-08-02",
          "2020-08-03",
          "2020-08-04",
          "2020-08-05",
          "2020-08-06",
          "2020-08-07",
          "2020-08-08",
          "2020-08-09",
          "2020-08-10",
          "2020-08-11",
          "2020-08-12",
          "2020-08-13",
          "2020-08-14",
          "2020-08-15",
          "2020-08-16",
          "2020-08-17",
          "2020-08-18",
          "2020-08-19",
          "2020-08-20",
          "2020-08-21",
          "2020-08-22",
          "2020-08-23",
          "2020-08-24",
          "2020-08-25",
          "2020-08-26",
          "2020-08-27",
          "2020-08-28",
          "2020-08-29",
          "2020-08-30",
          "2020-08-31",
          "2020-09-01",
          "2020-09-02",
          "2020-09-03",
          "2020-09-04",
          "2020-09-05",
          "2020-09-06",
          "2020-09-07",
          "2020-09-08",
          "2020-09-09",
          "2020-09-10",
          "2020-09-11",
          "2020-09-12",
          "2020-09-13",
          "2020-09-14",
          "2020-09-15",
          "2020-09-16",
          "2020-09-17",
          "2020-09-18",
          "2020-09-19",
          "2020-09-20",
          "2020-09-21",
          "2020-09-22",
          "2020-09-23",
          "2020-09-24",
          "2020-09-25",
          "2020-09-26",
          "2020-09-27",
          "2020-09-28",
          "2020-09-29",
          "2020-09-30",
          "2020-10-01",
          "2020-10-02",
          "2020-10-03",
          "2020-10-04",
          "2020-10-05",
          "2020-10-06",
          "2020-10-07",
          "2020-10-08",
          "2020-10-09",
          "2020-10-10",
          "2020-10-11",
          "2020-10-12",
          "2020-10-13",
          "2020-10-14",
          "2020-10-15",
          "2020-10-16",
          "2020-10-17",
          "2020-10-18",
          "2020-10-19",
          "2020-10-20",
          "2020-10-21",
          "2020-10-22",
          "2020-10-23",
          "2020-10-24",
          "2020-10-25",
          "2020-10-26",
          "2020-10-27",
          "2020-10-28",
          "2020-10-29",
          "2020-10-30",
          "2020-10-31",
          "2020-11-01",
          "2020-11-02",
          "2020-11-03",
          "2020-11-04",
          "2020-11-05",
          "2020-11-06",
          "2020-11-07",
          "2020-11-08",
          "2020-11-09",
          "2020-11-10",
          "2020-11-11",
          "2020-11-12",
          "2020-11-13",
          "2020-11-14",
          "2020-11-15",
          "2020-11-16",
          "2020-11-17",
          "2020-11-18",
          "2020-11-19",
          "2020-11-20",
          "2020-11-21",
          "2020-11-22",
          "2020-11-23",
          "2020-11-24",
          "2020-11-25",
          "2020-11-26",
          "2020-11-27",
          "2020-11-28",
          "2020-11-29",
          "2020-11-30",
          "2020-12-01",
          "2020-12-02",
          "2020-12-03",
          "2020-12-04",
          "2020-12-05",
          "2020-12-06",
          "2020-12-07",
          "2020-12-08",
          "2020-12-09",
          "2020-12-10",
          "2020-12-11",
          "2020-12-12",
          "2020-12-13",
          "2020-12-14",
          "2020-12-15",
          "2020-12-16",
          "2020-12-17",
          "2020-12-18",
          "2020-12-19",
          "2020-12-20",
          "2020-12-21",
          "2020-12-22",
          "2020-12-23",
          "2020-12-24",
          "2020-12-25",
          "2020-12-26",
          "2020-12-27",
          "2020-12-28",
          "2020-12-29",
          "2020-12-30",
          "2020-12-31",
          "2021-01-01",
          "2021-01-02",
          "2021-01-03",
          "2021-01-04",
          "2021-01-05",
          "2021-01-06",
          "2021-01-07",
          "2021-01-08",
          "2021-01-09",
          "2021-01-10",
          "2021-01-11",
          "2021-01-12",
          "2021-01-13",
          "2021-01-14",
          "2021-01-15",
          "2021-01-16",
          "2021-01-17",
          "2021-01-18",
          "2021-01-19",
          "2021-01-20",
          "2021-01-21",
          "2021-01-22",
          "2021-01-23",
          "2021-01-24",
          "2021-01-25",
          "2021-01-26",
          "2021-01-27",
          "2021-01-28",
          "2021-01-29",
          "2021-01-30",
          "2021-01-31",
          "2021-02-01",
          "2021-02-02",
          "2021-02-03",
          "2021-02-04",
          "2021-02-05",
          "2021-02-06",
          "2021-02-07",
          "2021-02-08",
          "2021-02-09",
          "2021-02-10",
          "2021-02-11",
          "2021-02-12",
          "2021-02-13",
          "2021-02-14",
          "2021-02-15",
          "2021-02-16",
          "2021-02-17",
          "2021-02-18",
          "2021-02-19",
          "2021-02-20",
          "2021-02-21",
          "2021-02-22",
          "2021-02-23",
          "2021-02-24",
          "2021-02-25",
          "2021-02-26",
          "2021-02-27",
          "2021-02-28",
          "2021-03-01",
          "2021-03-02",
          "2021-03-03",
          "2021-03-04",
          "2021-03-05",
          "2021-03-06",
          "2021-03-07",
          "2021-03-08",
          "2021-03-09",
          "2021-03-10",
          "2021-03-11",
          "2021-03-12",
          "2021-03-13",
          "2021-03-14",
          "2021-03-15",
          "2021-03-16",
          "2021-03-17",
          "2021-03-18",
          "2021-03-19",
          "2021-03-20",
          "2021-03-21",
          "2021-03-22",
          "2021-03-23",
          "2021-03-24",
          "2021-03-25",
          "2021-03-26",
          "2021-03-27",
          "2021-03-28",
          "2021-03-29",
          "2021-03-30",
          "2021-03-31",
          "2021-04-01",
          "2021-04-02",
          "2021-04-03",
          "2021-04-04",
          "2021-04-05",
          "2021-04-06",
          "2021-04-07",
          "2021-04-08",
          "2021-04-09",
          "2021-04-10",
          "2021-04-11",
          "2021-04-12",
          "2021-04-13",
          "2021-04-14",
          "2021-04-15",
          "2021-04-16",
          "2021-04-17",
          "2021-04-18",
          "2021-04-19",
          "2021-04-20",
          "2021-04-21",
          "2021-04-22",
          "2021-04-23",
          "2021-04-24",
          "2021-04-25",
          "2021-04-26",
          "2021-04-27",
          "2021-04-28",
          "2021-04-29",
          "2021-04-30",
          "2021-05-01",
          "2021-05-02",
          "2021-05-03",
          "2021-05-04",
          "2021-05-05",
          "2021-05-06",
          "2021-05-07",
          "2021-05-08",
          "2021-05-09",
          "2021-05-10",
          "2021-05-11",
          "2021-05-12",
          "2021-05-13",
          "2021-05-14",
          "2021-05-15",
          "2021-05-16",
          "2021-05-17",
          "2021-05-18",
          "2021-05-19",
          "2021-05-20",
          "2021-05-21",
          "2021-05-22",
          "2021-05-23",
          "2021-05-24",
          "2021-05-25",
          "2021-05-26",
          "2021-05-27",
          "2021-05-28",
          "2021-05-29",
          "2021-05-30",
          "2021-05-31",
          "2021-06-01",
          "2021-06-02",
          "2021-06-03",
          "2021-06-04",
          "2021-06-05",
          "2021-06-06",
          "2021-06-07",
          "2021-06-08",
          "2021-06-09",
          "2021-06-10",
          "2021-06-11",
          "2021-06-12",
          "2021-06-13",
          "2021-06-14",
          "2021-06-15",
          "2021-06-16",
          "2021-06-17",
          "2021-06-18",
          "2021-06-19",
          "2021-06-20",
          "2021-06-21",
          "2021-06-22",
          "2021-06-23",
          "2021-06-24",
          "2021-06-25",
          "2021-06-26",
          "2021-06-27",
          "2021-06-28",
          "2021-06-29",
          "2021-06-30",
          "2021-07-01",
          "2021-07-02",
          "2021-07-03",
          "2021-07-04",
          "2021-07-05",
          "2021-07-06",
          "2021-07-07",
          "2021-07-08",
          "2021-07-09",
          "2021-07-10",
          "2021-07-11",
          "2021-07-12",
          "2021-07-13",
          "2021-07-14",
          "2021-07-15",
          "2021-07-16",
          "2021-07-17",
          "2021-07-18",
          "2021-07-19",
          "2021-07-20",
          "2021-07-21",
          "2021-07-22",
          "2021-07-23",
          "2021-07-24",
          "2021-07-25",
          "2021-07-26",
          "2021-07-27",
          "2021-07-28",
          "2021-07-29",
          "2021-07-30",
          "2021-07-31",
          "2021-08-01",
          "2021-08-02",
          "2021-08-03",
          "2021-08-04",
          "2021-08-05",
          "2021-08-06",
          "2021-08-07",
          "2021-08-08",
          "2021-08-09",
          "2021-08-10",
          "2021-08-11",
          "2021-08-12",
          "2021-08-13",
          "2021-08-14",
          "2021-08-15",
          "2021-08-16",
          "2021-08-17",
          "2021-08-18",
          "2021-08-19",
          "2021-08-20",
          "2021-08-21",
          "2021-08-22",
          "2021-08-23",
          "2021-08-24",
          "2021-08-25",
          "2021-08-26",
          "2021-08-27",
          "2021-08-28",
          "2021-08-29",
          "2021-08-30",
          "2021-08-31",
          "2021-09-01",
          "2021-09-02",
          "2021-09-03",
          "2021-09-04",
          "2021-09-05",
          "2021-09-06",
          "2021-09-07",
          "2021-09-08",
          "2021-09-09",
          "2021-09-10",
          "2021-09-11",
          "2021-09-12",
          "2021-09-13",
          "2021-09-14",
          "2021-09-15",
          "2021-09-16",
          "2021-09-17",
          "2021-09-18",
          "2021-09-19",
          "2021-09-20",
          "2021-09-21",
          "2021-09-22",
          "2021-09-23",
          "2021-09-24",
          "2021-09-25",
          "2021-09-26",
          "2021-09-27",
          "2021-09-28",
          "2021-09-29",
          "2021-09-30",
          "2021-10-01",
          "2021-10-02",
          "2021-10-03",
          "2021-10-04",
          "2021-10-05",
          "2021-10-06",
          "2021-10-07",
          "2021-10-08",
          "2021-10-09",
          "2021-10-10",
          "2021-10-11",
          "2021-10-12",
          "2021-10-13",
          "2021-10-14",
          "2021-10-15",
          "2021-10-16",
          "2021-10-17",
          "2021-10-18",
          "2021-10-19",
          "2021-10-20",
          "2021-10-21",
          "2021-10-22",
          "2021-10-23",
          "2021-10-24",
          "2021-10-25",
          "2021-10-26",
          "2021-10-27",
          "2021-10-28",
          "2021-10-29",
          "2021-10-30",
          "2021-10-31",
          "2021-11-01",
          "2021-11-02",
          "2021-11-03",
          "2021-11-04",
          "2021-11-05",
          "2021-11-06",
          "2021-11-07",
          "2021-11-08",
          "2021-11-09",
          "2021-11-10",
          "2021-11-11",
          "2021-11-12",
          "2021-11-13",
          "2021-11-14",
          "2021-11-15",
          "2021-11-16",
          "2021-11-17",
          "2021-11-18",
          "2021-11-19",
          "2021-11-20",
          "2021-11-21",
          "2021-11-22",
          "2021-11-23",
          "2021-11-24",
          "2021-11-25",
          "2021-11-26",
          "2021-11-27",
          "2021-11-28",
          "2021-11-29",
          "2021-11-30",
          "2021-12-01",
          "2021-12-02",
          "2021-12-03",
          "2021-12-04",
          "2021-12-05",
          "2021-12-06",
          "2021-12-07",
          "2021-12-08",
          "2021-12-09",
          "2021-12-10",
          "2021-12-11",
          "2021-12-12",
          "2021-12-13",
          "2021-12-14",
          "2021-12-15",
          "2021-12-16",
          "2021-12-17",
          "2021-12-18",
          "2021-12-19",
          "2021-12-20",
          "2021-12-21",
          "2021-12-22",
          "2021-12-23",
          "2021-12-24",
          "2021-12-25",
          "2021-12-26",
          "2021-12-27",
          "2021-12-28",
          "2021-12-29",
          "2021-12-30",
          "2021-12-31",
          "2022-01-01",
          "2022-01-02",
          "2022-01-03",
          "2022-01-04",
          "2022-01-05",
          "2022-01-06",
          "2022-01-07",
          "2022-01-08",
          "2022-01-09",
          "2022-01-10",
          "2022-01-11",
          "2022-01-12",
          "2022-01-13",
          "2022-01-14",
          "2022-01-15",
          "2022-01-16",
          "2022-01-17",
          "2022-01-18",
          "2022-01-19",
          "2022-01-20",
          "2022-01-21",
          "2022-01-22",
          "2022-01-23",
          "2022-01-24",
          "2022-01-25",
          "2022-01-26",
          "2022-01-27",
          "2022-01-28",
          "2022-01-29",
          "2022-01-30",
          "2022-01-31",
          "2022-02-01",
          "2022-02-02",
          "2022-02-03",
          "2022-02-04",
          "2022-02-05",
          "2022-02-06",
          "2022-02-07",
          "2022-02-08",
          "2022-02-09",
          "2022-02-10",
          "2022-02-11",
          "2022-02-12",
          "2022-02-13",
          "2022-02-14",
          "2022-02-15",
          "2022-02-16",
          "2022-02-17",
          "2022-02-18",
          "2022-02-19",
          "2022-02-20",
          "2022-02-21",
          "2022-02-22",
          "2022-02-23",
          "2022-02-24",
          "2022-02-25",
          "2022-02-26",
          "2022-02-27",
          "2022-02-28",
          "2022-03-01",
          "2022-03-02",
          "2022-03-03",
          "2022-03-04",
          "2022-03-05",
          "2022-03-06",
          "2022-03-07",
          "2022-03-08",
          "2022-03-09",
          "2022-03-10",
          "2022-03-11",
          "2022-03-12",
          "2022-03-13",
          "2022-03-14",
          "2022-03-15",
          "2022-03-16",
          "2022-03-17",
          "2022-03-18",
          "2022-03-19",
          "2022-03-20",
          "2022-03-21",
          "2022-03-22",
          "2022-03-23",
          "2022-03-24",
          "2022-03-25",
          "2022-03-26",
          "2022-03-27",
          "2022-03-28",
          "2022-03-29",
          "2022-03-30",
          "2022-03-31",
          "2022-04-01",
          "2022-04-02",
          "2022-04-03",
          "2022-04-04",
          "2022-04-05",
          "2022-04-06",
          "2022-04-07",
          "2022-04-08",
          "2022-04-09",
          "2022-04-10",
          "2022-04-11",
          "2022-04-12",
          "2022-04-13",
          "2022-04-14",
          "2022-04-15",
          "2022-04-16",
          "2022-04-17",
          "2022-04-18",
          "2022-04-19",
          "2022-04-20",
          "2022-04-21",
          "2022-04-22",
          "2022-04-23",
          "2022-04-24",
          "2022-04-25",
          "2022-04-26",
          "2022-04-27",
          "2022-04-28",
          "2022-04-29",
          "2022-04-30",
          "2022-05-01",
          "2022-05-02",
          "2022-05-03",
          "2022-05-04",
          "2022-05-05",
          "2022-05-06",
          "2022-05-07",
          "2022-05-08",
          "2022-05-09",
          "2022-05-10",
          "2022-05-11",
          "2022-05-12",
          "2022-05-13",
          "2022-05-14",
          "2022-05-15",
          "2022-05-16",
          "2022-05-17",
          "2022-05-18",
          "2022-05-19",
          "2022-05-20",
          "2022-05-21",
          "2022-05-22",
          "2022-05-23",
          "2022-05-24",
          "2022-05-25",
          "2022-05-26",
          "2022-05-27",
          "2022-05-28",
          "2022-05-29",
          "2022-05-30",
          "2022-05-31",
          "2022-06-01",
          "2022-06-02",
          "2022-06-03",
          "2022-06-04",
          "2022-06-05",
          "2022-06-06",
          "2022-06-07",
          "2022-06-08",
          "2022-06-09",
          "2022-06-10",
          "2022-06-11",
          "2022-06-12",
          "2022-06-13",
          "2022-06-14",
          "2022-06-15",
          "2022-06-16",
          "2022-06-17",
          "2022-06-18",
          "2022-06-19",
          "2022-06-20",
          "2022-06-21",
          "2022-06-22",
          "2022-06-23",
          "2022-06-24",
          "2022-06-25",
          "2022-06-26",
          "2022-06-27",
          "2022-06-28",
          "2022-06-29",
          "2022-06-30",
          "2022-07-01",
          "2022-07-02",
          "2022-07-03",
          "2022-07-04",
          "2022-07-05",
          "2022-07-06",
          "2022-07-07",
          "2022-07-08",
          "2022-07-09",
          "2022-07-10",
          "2022-07-11",
          "2022-07-12",
          "2022-07-13",
          "2022-07-14",
          "2022-07-15",
          "2022-07-16",
          "2022-07-17",
          "2022-07-18",
          "2022-07-19",
          "2022-07-20",
          "2022-07-21",
          "2022-07-22",
          "2022-07-23",
          "2022-07-24",
          "2022-07-25",
          "2022-07-26",
          "2022-07-27",
          "2022-07-28",
          "2022-07-29",
          "2022-07-30",
          "2022-07-31",
          "2022-08-01",
          "2022-08-02",
          "2022-08-03",
          "2022-08-04",
          "2022-08-05",
          "2022-08-06",
          "2022-08-07",
          "2022-08-08",
          "2022-08-09",
          "2022-08-10",
          "2022-08-11",
          "2022-08-12",
          "2022-08-13",
          "2022-08-14",
          "2022-08-15",
          "2022-08-16",
          "2022-08-17",
          "2022-08-18",
          "2022-08-19",
          "2022-08-20",
          "2022-08-21",
          "2022-08-22",
          "2022-08-23",
          "2022-08-24",
          "2022-08-25",
          "2022-08-26",
          "2022-08-27",
          "2022-08-28",
          "2022-08-29",
          "2022-08-30",
          "2022-08-31",
          "2022-09-01",
          "2022-09-02",
          "2022-09-03",
          "2022-09-04",
          "2022-09-05",
          "2022-09-06",
          "2022-09-07",
          "2022-09-08",
          "2022-09-09",
          "2022-09-10",
          "2022-09-11",
          "2022-09-12",
          "2022-09-13",
          "2022-09-14",
          "2022-09-15",
          "2022-09-16",
          "2022-09-17",
          "2022-09-18",
          "2022-09-19",
          "2022-09-20",
          "2022-09-21",
          "2022-09-22",
          "2022-09-23",
          "2022-09-24",
          "2022-09-25",
          "2022-09-26",
          "2022-09-27",
          "2022-09-28",
          "2022-09-29",
          "2022-09-30",
          "2022-10-01",
          "2022-10-02",
          "2022-10-03",
          "2022-10-04",
          "2022-10-05",
          "2022-10-06",
          "2022-10-07",
          "2022-10-08",
          "2022-10-09",
          "2022-10-10",
          "2022-10-11",
          "2022-10-12",
          "2022-10-13",
          "2022-10-14",
          "2022-10-15",
          "2022-10-16",
          "2022-10-17",
          "2022-10-18",
          "2022-10-19",
          "2022-10-20",
          "2022-10-21",
          "2022-10-22",
          "2022-10-23",
          "2022-10-24",
          "2022-10-25",
          "2022-10-26",
          "2022-10-27",
          "2022-10-28",
          "2022-10-29",
          "2022-10-30",
          "2022-10-31",
          "2022-11-01",
          "2022-11-02",
          "2022-11-03",
          "2022-11-04",
          "2022-11-05",
          "2022-11-06",
          "2022-11-07",
          "2022-11-08",
          "2022-11-09",
          "2022-11-10",
          "2022-11-11",
          "2022-11-12",
          "2022-11-13",
          "2022-11-14",
          "2022-11-15",
          "2022-11-16",
          "2022-11-17",
          "2022-11-18",
          "2022-11-19",
          "2022-11-20",
          "2022-11-21",
          "2022-11-22",
          "2022-11-23",
          "2022-11-24",
          "2022-11-25",
          "2022-11-26",
          "2022-11-27",
          "2022-11-28",
          "2022-11-29",
          "2022-11-30",
          "2022-12-01",
          "2022-12-02",
          "2022-12-03",
          "2022-12-04",
          "2022-12-05",
          "2022-12-06",
          "2022-12-07",
          "2022-12-08",
          "2022-12-09",
          "2022-12-10",
          "2022-12-11",
          "2022-12-12",
          "2022-12-13",
          "2022-12-14",
          "2022-12-15",
          "2022-12-16",
          "2022-12-17",
          "2022-12-18",
          "2022-12-19",
          "2022-12-20",
          "2022-12-21",
          "2022-12-22",
          "2022-12-23",
          "2022-12-24",
          "2022-12-25",
          "2022-12-26",
          "2022-12-27",
          "2022-12-28",
          "2022-12-29",
          "2022-12-30",
          "2022-12-31"
         ],
         "xaxis": "x",
         "y": [
          0,
          0,
          0,
          0,
          0,
          0,
          0,
          0,
          0,
          0,
          0,
          0,
          0,
          0,
          0,
          0,
          0,
          0,
          0,
          0,
          0,
          0,
          0,
          0,
          0,
          0,
          0,
          0,
          2.78,
          13.89,
          13.89,
          23.15,
          31.48,
          31.48,
          31.48,
          31.48,
          31.48,
          31.48,
          31.48,
          31.48,
          31.48,
          31.48,
          31.48,
          31.48,
          31.48,
          31.48,
          31.48,
          31.48,
          31.48,
          45.37,
          45.37,
          50,
          55.56,
          55.56,
          55.56,
          55.56,
          55.56,
          55.56,
          55.56,
          55.56,
          55.56,
          55.56,
          55.56,
          55.56,
          55.56,
          55.56,
          55.56,
          55.56,
          55.56,
          55.56,
          55.56,
          55.56,
          55.56,
          55.56,
          55.56,
          55.56,
          55.56,
          55.56,
          69.44,
          75.93,
          75.93,
          75.93,
          75.93,
          75.93,
          75.93,
          75.93,
          75.93,
          75.93,
          75.93,
          75.93,
          75.93,
          75.93,
          78.7,
          78.7,
          82.41,
          82.41,
          82.41,
          82.41,
          82.41,
          82.41,
          82.41,
          82.41,
          82.41,
          82.41,
          82.41,
          82.41,
          73.15,
          73.15,
          43.52,
          43.52,
          43.52,
          43.52,
          43.52,
          43.52,
          43.52,
          43.52,
          43.52,
          43.52,
          43.52,
          43.52,
          43.52,
          43.52,
          43.52,
          43.52,
          43.52,
          43.52,
          43.52,
          43.52,
          43.52,
          43.52,
          43.52,
          43.52,
          43.52,
          43.52,
          43.52,
          43.52,
          43.52,
          43.52,
          39.81,
          39.81,
          39.81,
          39.81,
          39.81,
          39.81,
          39.81,
          39.81,
          39.81,
          55.09,
          55.09,
          55.09,
          55.09,
          55.09,
          55.09,
          55.09,
          55.09,
          55.09,
          55.09,
          53.24,
          53.24,
          53.24,
          53.24,
          53.24,
          53.24,
          53.24,
          53.24,
          53.24,
          53.24,
          53.24,
          53.24,
          53.24,
          53.24,
          53.24,
          53.24,
          53.24,
          53.24,
          53.24,
          53.24,
          53.24,
          53.24,
          53.24,
          53.24,
          56.94,
          56.94,
          53.24,
          53.24,
          53.24,
          53.24,
          53.24,
          53.24,
          53.24,
          53.24,
          53.24,
          53.24,
          53.24,
          53.24,
          53.24,
          53.24,
          53.24,
          53.24,
          53.24,
          53.24,
          53.24,
          53.24,
          53.24,
          53.24,
          53.24,
          53.24,
          53.24,
          53.24,
          53.24,
          53.24,
          53.24,
          53.24,
          53.24,
          53.24,
          53.24,
          53.24,
          53.24,
          53.24,
          53.24,
          53.24,
          53.24,
          53.24,
          53.24,
          53.24,
          53.24,
          53.24,
          53.24,
          53.24,
          53.24,
          53.24,
          53.24,
          53.24,
          53.24,
          53.24,
          53.24,
          53.24,
          53.24,
          53.24,
          53.24,
          53.24,
          53.24,
          53.24,
          50.46,
          50.46,
          50.46,
          50.46,
          50.46,
          50.46,
          50.46,
          50.46,
          50.46,
          50.46,
          50.46,
          50.46,
          50.46,
          50.46,
          50.46,
          50.46,
          50.46,
          50.46,
          50.46,
          48.61,
          48.61,
          48.61,
          48.61,
          48.61,
          48.61,
          48.61,
          60.19,
          60.19,
          60.19,
          60.19,
          60.19,
          62.96,
          60.19,
          65.74,
          65.74,
          65.74,
          65.74,
          60.19,
          60.19,
          60.19,
          56.94,
          56.94,
          56.94,
          56.94,
          56.94,
          56.94,
          56.94,
          56.94,
          56.94,
          56.94,
          56.94,
          56.94,
          56.94,
          51.39,
          51.39,
          51.39,
          51.39,
          51.39,
          51.39,
          51.39,
          51.39,
          51.39,
          51.39,
          51.39,
          51.39,
          51.39,
          51.39,
          51.39,
          51.39,
          51.39,
          51.39,
          51.39,
          51.39,
          51.39,
          51.39,
          51.39,
          51.39,
          51.39,
          51.39,
          51.39,
          51.39,
          51.39,
          56.94,
          54.17,
          54.17,
          57.87,
          57.87,
          57.87,
          57.87,
          57.87,
          60.65,
          60.65,
          60.65,
          60.65,
          60.65,
          60.65,
          60.65,
          57.87,
          57.87,
          57.87,
          57.87,
          57.87,
          57.87,
          57.87,
          57.87,
          57.87,
          57.87,
          57.87,
          57.87,
          57.87,
          57.87,
          61.57,
          67.13,
          68.98,
          68.98,
          68.98,
          68.98,
          68.98,
          68.98,
          68.98,
          68.98,
          60.65,
          62.04,
          62.04,
          62.04,
          67.59,
          67.59,
          63.89,
          63.89,
          63.89,
          63.89,
          63.89,
          63.89,
          63.89,
          63.89,
          63.89,
          63.89,
          63.89,
          63.89,
          63.89,
          63.89,
          63.89,
          63.89,
          63.89,
          63.89,
          63.89,
          63.89,
          63.89,
          63.89,
          63.89,
          63.89,
          63.89,
          63.89,
          63.89,
          63.89,
          63.89,
          63.89,
          63.89,
          63.89,
          63.89,
          63.89,
          63.89,
          63.89,
          63.89,
          63.89,
          63.89,
          58.33,
          58.33,
          58.33,
          58.33,
          58.33,
          58.33,
          58.33,
          58.33,
          58.33,
          58.33,
          58.33,
          58.33,
          58.33,
          58.33,
          58.33,
          58.33,
          58.33,
          58.33,
          58.33,
          58.33,
          58.33,
          58.33,
          58.33,
          58.33,
          58.33,
          58.33,
          58.33,
          58.33,
          58.33,
          58.33,
          58.33,
          58.33,
          58.33,
          58.33,
          58.33,
          58.33,
          58.33,
          58.33,
          58.33,
          58.33,
          58.33,
          58.33,
          58.33,
          58.33,
          58.33,
          58.33,
          58.33,
          58.33,
          58.33,
          58.33,
          58.33,
          58.33,
          58.33,
          58.33,
          58.33,
          58.33,
          58.33,
          58.33,
          58.33,
          58.33,
          58.33,
          58.33,
          58.33,
          58.33,
          58.33,
          58.33,
          58.33,
          58.33,
          58.33,
          58.33,
          58.33,
          58.33,
          58.33,
          58.33,
          58.33,
          58.33,
          58.33,
          52.78,
          52.78,
          52.78,
          50,
          50,
          50,
          50,
          50,
          50,
          50,
          50,
          50,
          50,
          50,
          50,
          50,
          50,
          50,
          50,
          50,
          50,
          50,
          50,
          50,
          50,
          50,
          50,
          50,
          50,
          50,
          50,
          50,
          50,
          50,
          50,
          50,
          50,
          50,
          50,
          50,
          50,
          50,
          50,
          50,
          50,
          50,
          50,
          50,
          50,
          50,
          50,
          50,
          50,
          50,
          50,
          50,
          50,
          50,
          50,
          36.57,
          36.57,
          36.57,
          36.57,
          36.57,
          36.57,
          36.57,
          36.57,
          36.57,
          36.57,
          36.57,
          45.37,
          45.37,
          45.37,
          49.07,
          49.07,
          49.07,
          49.07,
          49.07,
          49.07,
          49.07,
          49.07,
          49.07,
          49.07,
          49.07,
          49.07,
          49.07,
          49.07,
          49.07,
          49.07,
          49.07,
          49.07,
          49.07,
          49.07,
          49.07,
          49.07,
          50.93,
          50.93,
          50.93,
          50.93,
          50.93,
          50.93,
          50.93,
          50.93,
          50.93,
          50.93,
          50.93,
          50.93,
          50.93,
          50.93,
          50.93,
          50.93,
          50.93,
          49.61,
          49.55,
          49.5,
          49.45,
          49.39,
          49.37,
          49.36,
          49.3,
          49.24,
          49.19,
          49.13,
          49.06,
          49.03,
          49.03,
          45.25,
          45.21,
          45.18,
          45.15,
          45.1,
          45.08,
          45.07,
          45.03,
          45.01,
          44.96,
          44.93,
          44.88,
          44.86,
          44.85,
          44.85,
          44.85,
          44.85,
          44.81,
          44.77,
          44.74,
          44.74,
          44.66,
          44.59,
          44.53,
          44.47,
          44.38,
          44.34,
          44.34,
          44.31,
          44.23,
          44.18,
          44.1,
          43.98,
          43.97,
          43.97,
          43.95,
          43.89,
          43.84,
          43.79,
          43.72,
          43.68,
          43.68,
          43.61,
          43.56,
          43.53,
          43.48,
          43.42,
          43.38,
          43.38,
          43.33,
          43.3,
          43.27,
          43.21,
          43.13,
          43.09,
          43.09,
          42.61,
          42.6,
          42.59,
          42.58,
          42.56,
          42.55,
          42.55,
          42.54,
          42.52,
          42.51,
          42.5,
          42.48,
          42.47,
          42.47,
          42.46,
          42.46,
          42.45,
          42.44,
          42.44,
          42.43,
          42.43,
          40.57,
          40.57,
          40.56,
          40.55,
          40.54,
          40.54,
          43.32,
          43.31,
          43.3,
          43.3,
          43.29,
          43.28,
          43.27,
          43.27,
          44.65,
          44.65,
          44.64,
          44.64,
          44.63,
          44.63,
          44.63,
          44.62,
          44.61,
          44.61,
          44.6,
          44.59,
          44.59,
          44.59,
          46.43,
          46.43,
          46.43,
          46.42,
          46.42,
          46.42,
          46.42,
          46.41,
          46.41,
          46.4,
          46.4,
          46.39,
          46.39,
          46.39,
          46.38,
          46.37,
          46.37,
          46.36,
          46.35,
          46.34,
          46.34,
          46.33,
          46.32,
          46.31,
          46.3,
          46.29,
          46.29,
          46.29,
          46.28,
          46.27,
          46.27,
          46.27,
          46.26,
          46.26,
          46.26,
          46.25,
          46.25,
          46.25,
          46.24,
          46.24,
          46.24,
          46.24,
          46.24,
          46.24,
          46.24,
          46.23,
          43.45,
          43.45,
          43.45,
          41.59,
          41.59,
          41.59,
          41.59,
          41.59,
          41.59,
          41.59,
          41.58,
          41.58,
          41.58,
          41.58,
          41.58,
          41.58,
          41.58,
          41.58,
          41.58,
          41.58,
          41.58,
          41.57,
          41.57,
          41.57,
          41.57,
          40.74,
          40.74,
          40.74,
          40.74,
          40.74,
          40.74,
          40.74,
          40.74,
          40.74,
          40.74,
          40.74,
          40.74,
          40.74,
          40.74,
          40.74,
          40.74,
          40.74,
          40.74,
          40.74,
          40.74,
          40.74,
          40.74,
          40.74,
          40.74,
          40.74,
          40.74,
          40.74,
          40.74,
          40.74,
          40.74,
          40.74,
          37.96,
          37.96,
          37.96,
          37.96,
          37.96,
          37.96,
          37.96,
          37.96,
          37.96,
          37.96,
          37.96,
          37.96,
          37.96,
          37.96,
          37.96,
          37.96,
          37.96,
          13.89,
          13.89,
          13.89,
          13.89,
          13.89,
          13.89,
          13.89,
          13.89,
          13.89,
          13.89,
          13.89,
          13.89,
          13.89,
          13.89,
          13.89,
          13.89,
          13.89,
          13.89,
          13.89,
          13.89,
          13.89,
          13.89,
          13.89,
          13.89,
          13.89,
          13.89,
          13.89,
          13.89,
          13.89,
          13.89,
          13.89,
          13.89,
          13.89,
          13.89,
          13.89,
          13.89,
          13.89,
          13.89,
          13.89,
          13.89,
          13.89,
          13.89,
          13.89,
          13.89,
          13.89,
          13.89,
          13.89,
          13.89,
          13.89,
          13.89,
          13.89,
          13.89,
          13.89,
          13.89,
          13.89,
          13.89,
          13.89,
          13.89,
          13.89,
          13.89,
          13.89,
          13.89,
          13.89,
          13.89,
          13.89,
          13.89,
          13.89,
          13.89,
          13.89,
          13.89,
          13.89,
          13.89,
          13.89,
          13.89,
          13.89,
          13.89,
          13.89,
          13.89,
          13.89,
          13.89,
          13.89,
          13.89,
          13.89,
          13.89,
          13.89,
          13.89,
          13.89,
          13.89,
          13.89,
          13.89,
          13.89,
          13.89,
          13.89,
          13.89,
          13.89,
          13.89,
          13.89,
          13.89,
          13.89,
          13.89,
          13.89,
          13.89,
          13.89,
          13.89,
          13.89,
          13.89,
          13.89,
          13.89,
          13.89,
          13.89,
          13.89,
          13.89,
          13.89,
          13.89,
          13.89,
          13.89,
          13.89,
          13.89,
          13.89,
          13.89,
          13.89,
          13.89,
          13.89,
          13.89,
          13.89,
          13.89,
          13.89,
          13.89,
          13.89,
          13.89,
          13.89,
          13.89,
          13.89,
          13.89,
          13.89,
          13.89,
          13.89,
          13.89,
          13.89,
          13.89,
          13.89,
          13.89,
          13.89,
          13.89,
          13.89,
          13.89,
          13.89,
          13.89,
          13.89,
          13.89,
          13.89,
          13.89,
          13.89,
          13.89,
          13.89,
          13.89,
          13.89,
          13.89,
          13.89,
          13.89,
          13.89,
          13.89,
          13.89,
          13.89,
          13.89,
          13.89,
          11.11,
          11.11,
          11.11,
          11.11,
          11.11,
          11.11,
          11.11,
          11.11,
          11.11,
          11.11,
          11.11,
          11.11,
          11.11,
          11.11,
          11.11,
          11.11,
          11.11,
          11.11,
          11.11,
          11.11,
          11.11,
          11.11,
          11.11,
          11.11,
          11.11,
          11.11,
          11.11,
          11.11,
          11.11,
          11.11,
          11.11,
          11.11,
          11.11,
          11.11,
          11.11,
          11.11,
          11.11,
          11.11,
          11.11,
          11.11,
          11.11,
          11.11,
          11.11,
          11.11,
          11.11,
          11.11,
          11.11,
          11.11,
          11.11,
          11.11,
          11.11,
          11.11,
          11.11,
          11.11,
          11.11,
          11.11,
          11.11,
          11.11,
          11.11,
          11.11,
          11.11,
          11.11,
          11.11,
          11.11,
          11.11,
          11.11,
          11.11,
          11.11,
          11.11,
          11.11,
          11.11,
          11.11,
          11.11,
          11.11,
          11.11,
          11.11,
          11.11,
          11.11,
          11.11,
          11.11,
          11.11,
          11.11,
          11.11,
          11.11,
          11.11,
          11.11,
          11.11,
          11.11,
          11.11,
          11.11,
          11.11,
          11.11
         ],
         "yaxis": "y"
        },
        {
         "line": {
          "color": "blue"
         },
         "mode": "lines",
         "name": "전파율",
         "type": "scatter",
         "x": [
          "2020-01-03",
          "2020-01-04",
          "2020-01-05",
          "2020-01-06",
          "2020-01-07",
          "2020-01-08",
          "2020-01-09",
          "2020-01-10",
          "2020-01-11",
          "2020-01-12",
          "2020-01-13",
          "2020-01-14",
          "2020-01-15",
          "2020-01-16",
          "2020-01-17",
          "2020-01-18",
          "2020-01-19",
          "2020-01-20",
          "2020-01-21",
          "2020-01-22",
          "2020-01-23",
          "2020-01-24",
          "2020-01-25",
          "2020-01-26",
          "2020-01-27",
          "2020-01-28",
          "2020-01-29",
          "2020-01-30",
          "2020-01-31",
          "2020-02-01",
          "2020-02-02",
          "2020-02-03",
          "2020-02-04",
          "2020-02-05",
          "2020-02-06",
          "2020-02-07",
          "2020-02-08",
          "2020-02-09",
          "2020-02-10",
          "2020-02-11",
          "2020-02-12",
          "2020-02-13",
          "2020-02-14",
          "2020-02-15",
          "2020-02-16",
          "2020-02-17",
          "2020-02-18",
          "2020-02-19",
          "2020-02-20",
          "2020-02-21",
          "2020-02-22",
          "2020-02-23",
          "2020-02-24",
          "2020-02-25",
          "2020-02-26",
          "2020-02-27",
          "2020-02-28",
          "2020-02-29",
          "2020-03-01",
          "2020-03-02",
          "2020-03-03",
          "2020-03-04",
          "2020-03-05",
          "2020-03-06",
          "2020-03-07",
          "2020-03-08",
          "2020-03-09",
          "2020-03-10",
          "2020-03-11",
          "2020-03-12",
          "2020-03-13",
          "2020-03-14",
          "2020-03-15",
          "2020-03-16",
          "2020-03-17",
          "2020-03-18",
          "2020-03-19",
          "2020-03-20",
          "2020-03-21",
          "2020-03-22",
          "2020-03-23",
          "2020-03-24",
          "2020-03-25",
          "2020-03-26",
          "2020-03-27",
          "2020-03-28",
          "2020-03-29",
          "2020-03-30",
          "2020-03-31",
          "2020-04-01",
          "2020-04-02",
          "2020-04-03",
          "2020-04-04",
          "2020-04-05",
          "2020-04-06",
          "2020-04-07",
          "2020-04-08",
          "2020-04-09",
          "2020-04-10",
          "2020-04-11",
          "2020-04-12",
          "2020-04-13",
          "2020-04-14",
          "2020-04-15",
          "2020-04-16",
          "2020-04-17",
          "2020-04-18",
          "2020-04-19",
          "2020-04-20",
          "2020-04-21",
          "2020-04-22",
          "2020-04-23",
          "2020-04-24",
          "2020-04-25",
          "2020-04-26",
          "2020-04-27",
          "2020-04-28",
          "2020-04-29",
          "2020-04-30",
          "2020-05-01",
          "2020-05-02",
          "2020-05-03",
          "2020-05-04",
          "2020-05-05",
          "2020-05-06",
          "2020-05-07",
          "2020-05-08",
          "2020-05-09",
          "2020-05-10",
          "2020-05-11",
          "2020-05-12",
          "2020-05-13",
          "2020-05-14",
          "2020-05-15",
          "2020-05-16",
          "2020-05-17",
          "2020-05-18",
          "2020-05-19",
          "2020-05-20",
          "2020-05-21",
          "2020-05-22",
          "2020-05-23",
          "2020-05-24",
          "2020-05-25",
          "2020-05-26",
          "2020-05-27",
          "2020-05-28",
          "2020-05-29",
          "2020-05-30",
          "2020-05-31",
          "2020-06-01",
          "2020-06-02",
          "2020-06-03",
          "2020-06-04",
          "2020-06-05",
          "2020-06-06",
          "2020-06-07",
          "2020-06-08",
          "2020-06-09",
          "2020-06-10",
          "2020-06-11",
          "2020-06-12",
          "2020-06-13",
          "2020-06-14",
          "2020-06-15",
          "2020-06-16",
          "2020-06-17",
          "2020-06-18",
          "2020-06-19",
          "2020-06-20",
          "2020-06-21",
          "2020-06-22",
          "2020-06-23",
          "2020-06-24",
          "2020-06-25",
          "2020-06-26",
          "2020-06-27",
          "2020-06-28",
          "2020-06-29",
          "2020-06-30",
          "2020-07-01",
          "2020-07-02",
          "2020-07-03",
          "2020-07-04",
          "2020-07-05",
          "2020-07-06",
          "2020-07-07",
          "2020-07-08",
          "2020-07-09",
          "2020-07-10",
          "2020-07-11",
          "2020-07-12",
          "2020-07-13",
          "2020-07-14",
          "2020-07-15",
          "2020-07-16",
          "2020-07-17",
          "2020-07-18",
          "2020-07-19",
          "2020-07-20",
          "2020-07-21",
          "2020-07-22",
          "2020-07-23",
          "2020-07-24",
          "2020-07-25",
          "2020-07-26",
          "2020-07-27",
          "2020-07-28",
          "2020-07-29",
          "2020-07-30",
          "2020-07-31",
          "2020-08-01",
          "2020-08-02",
          "2020-08-03",
          "2020-08-04",
          "2020-08-05",
          "2020-08-06",
          "2020-08-07",
          "2020-08-08",
          "2020-08-09",
          "2020-08-10",
          "2020-08-11",
          "2020-08-12",
          "2020-08-13",
          "2020-08-14",
          "2020-08-15",
          "2020-08-16",
          "2020-08-17",
          "2020-08-18",
          "2020-08-19",
          "2020-08-20",
          "2020-08-21",
          "2020-08-22",
          "2020-08-23",
          "2020-08-24",
          "2020-08-25",
          "2020-08-26",
          "2020-08-27",
          "2020-08-28",
          "2020-08-29",
          "2020-08-30",
          "2020-08-31",
          "2020-09-01",
          "2020-09-02",
          "2020-09-03",
          "2020-09-04",
          "2020-09-05",
          "2020-09-06",
          "2020-09-07",
          "2020-09-08",
          "2020-09-09",
          "2020-09-10",
          "2020-09-11",
          "2020-09-12",
          "2020-09-13",
          "2020-09-14",
          "2020-09-15",
          "2020-09-16",
          "2020-09-17",
          "2020-09-18",
          "2020-09-19",
          "2020-09-20",
          "2020-09-21",
          "2020-09-22",
          "2020-09-23",
          "2020-09-24",
          "2020-09-25",
          "2020-09-26",
          "2020-09-27",
          "2020-09-28",
          "2020-09-29",
          "2020-09-30",
          "2020-10-01",
          "2020-10-02",
          "2020-10-03",
          "2020-10-04",
          "2020-10-05",
          "2020-10-06",
          "2020-10-07",
          "2020-10-08",
          "2020-10-09",
          "2020-10-10",
          "2020-10-11",
          "2020-10-12",
          "2020-10-13",
          "2020-10-14",
          "2020-10-15",
          "2020-10-16",
          "2020-10-17",
          "2020-10-18",
          "2020-10-19",
          "2020-10-20",
          "2020-10-21",
          "2020-10-22",
          "2020-10-23",
          "2020-10-24",
          "2020-10-25",
          "2020-10-26",
          "2020-10-27",
          "2020-10-28",
          "2020-10-29",
          "2020-10-30",
          "2020-10-31",
          "2020-11-01",
          "2020-11-02",
          "2020-11-03",
          "2020-11-04",
          "2020-11-05",
          "2020-11-06",
          "2020-11-07",
          "2020-11-08",
          "2020-11-09",
          "2020-11-10",
          "2020-11-11",
          "2020-11-12",
          "2020-11-13",
          "2020-11-14",
          "2020-11-15",
          "2020-11-16",
          "2020-11-17",
          "2020-11-18",
          "2020-11-19",
          "2020-11-20",
          "2020-11-21",
          "2020-11-22",
          "2020-11-23",
          "2020-11-24",
          "2020-11-25",
          "2020-11-26",
          "2020-11-27",
          "2020-11-28",
          "2020-11-29",
          "2020-11-30",
          "2020-12-01",
          "2020-12-02",
          "2020-12-03",
          "2020-12-04",
          "2020-12-05",
          "2020-12-06",
          "2020-12-07",
          "2020-12-08",
          "2020-12-09",
          "2020-12-10",
          "2020-12-11",
          "2020-12-12",
          "2020-12-13",
          "2020-12-14",
          "2020-12-15",
          "2020-12-16",
          "2020-12-17",
          "2020-12-18",
          "2020-12-19",
          "2020-12-20",
          "2020-12-21",
          "2020-12-22",
          "2020-12-23",
          "2020-12-24",
          "2020-12-25",
          "2020-12-26",
          "2020-12-27",
          "2020-12-28",
          "2020-12-29",
          "2020-12-30",
          "2020-12-31",
          "2021-01-01",
          "2021-01-02",
          "2021-01-03",
          "2021-01-04",
          "2021-01-05",
          "2021-01-06",
          "2021-01-07",
          "2021-01-08",
          "2021-01-09",
          "2021-01-10",
          "2021-01-11",
          "2021-01-12",
          "2021-01-13",
          "2021-01-14",
          "2021-01-15",
          "2021-01-16",
          "2021-01-17",
          "2021-01-18",
          "2021-01-19",
          "2021-01-20",
          "2021-01-21",
          "2021-01-22",
          "2021-01-23",
          "2021-01-24",
          "2021-01-25",
          "2021-01-26",
          "2021-01-27",
          "2021-01-28",
          "2021-01-29",
          "2021-01-30",
          "2021-01-31",
          "2021-02-01",
          "2021-02-02",
          "2021-02-03",
          "2021-02-04",
          "2021-02-05",
          "2021-02-06",
          "2021-02-07",
          "2021-02-08",
          "2021-02-09",
          "2021-02-10",
          "2021-02-11",
          "2021-02-12",
          "2021-02-13",
          "2021-02-14",
          "2021-02-15",
          "2021-02-16",
          "2021-02-17",
          "2021-02-18",
          "2021-02-19",
          "2021-02-20",
          "2021-02-21",
          "2021-02-22",
          "2021-02-23",
          "2021-02-24",
          "2021-02-25",
          "2021-02-26",
          "2021-02-27",
          "2021-02-28",
          "2021-03-01",
          "2021-03-02",
          "2021-03-03",
          "2021-03-04",
          "2021-03-05",
          "2021-03-06",
          "2021-03-07",
          "2021-03-08",
          "2021-03-09",
          "2021-03-10",
          "2021-03-11",
          "2021-03-12",
          "2021-03-13",
          "2021-03-14",
          "2021-03-15",
          "2021-03-16",
          "2021-03-17",
          "2021-03-18",
          "2021-03-19",
          "2021-03-20",
          "2021-03-21",
          "2021-03-22",
          "2021-03-23",
          "2021-03-24",
          "2021-03-25",
          "2021-03-26",
          "2021-03-27",
          "2021-03-28",
          "2021-03-29",
          "2021-03-30",
          "2021-03-31",
          "2021-04-01",
          "2021-04-02",
          "2021-04-03",
          "2021-04-04",
          "2021-04-05",
          "2021-04-06",
          "2021-04-07",
          "2021-04-08",
          "2021-04-09",
          "2021-04-10",
          "2021-04-11",
          "2021-04-12",
          "2021-04-13",
          "2021-04-14",
          "2021-04-15",
          "2021-04-16",
          "2021-04-17",
          "2021-04-18",
          "2021-04-19",
          "2021-04-20",
          "2021-04-21",
          "2021-04-22",
          "2021-04-23",
          "2021-04-24",
          "2021-04-25",
          "2021-04-26",
          "2021-04-27",
          "2021-04-28",
          "2021-04-29",
          "2021-04-30",
          "2021-05-01",
          "2021-05-02",
          "2021-05-03",
          "2021-05-04",
          "2021-05-05",
          "2021-05-06",
          "2021-05-07",
          "2021-05-08",
          "2021-05-09",
          "2021-05-10",
          "2021-05-11",
          "2021-05-12",
          "2021-05-13",
          "2021-05-14",
          "2021-05-15",
          "2021-05-16",
          "2021-05-17",
          "2021-05-18",
          "2021-05-19",
          "2021-05-20",
          "2021-05-21",
          "2021-05-22",
          "2021-05-23",
          "2021-05-24",
          "2021-05-25",
          "2021-05-26",
          "2021-05-27",
          "2021-05-28",
          "2021-05-29",
          "2021-05-30",
          "2021-05-31",
          "2021-06-01",
          "2021-06-02",
          "2021-06-03",
          "2021-06-04",
          "2021-06-05",
          "2021-06-06",
          "2021-06-07",
          "2021-06-08",
          "2021-06-09",
          "2021-06-10",
          "2021-06-11",
          "2021-06-12",
          "2021-06-13",
          "2021-06-14",
          "2021-06-15",
          "2021-06-16",
          "2021-06-17",
          "2021-06-18",
          "2021-06-19",
          "2021-06-20",
          "2021-06-21",
          "2021-06-22",
          "2021-06-23",
          "2021-06-24",
          "2021-06-25",
          "2021-06-26",
          "2021-06-27",
          "2021-06-28",
          "2021-06-29",
          "2021-06-30",
          "2021-07-01",
          "2021-07-02",
          "2021-07-03",
          "2021-07-04",
          "2021-07-05",
          "2021-07-06",
          "2021-07-07",
          "2021-07-08",
          "2021-07-09",
          "2021-07-10",
          "2021-07-11",
          "2021-07-12",
          "2021-07-13",
          "2021-07-14",
          "2021-07-15",
          "2021-07-16",
          "2021-07-17",
          "2021-07-18",
          "2021-07-19",
          "2021-07-20",
          "2021-07-21",
          "2021-07-22",
          "2021-07-23",
          "2021-07-24",
          "2021-07-25",
          "2021-07-26",
          "2021-07-27",
          "2021-07-28",
          "2021-07-29",
          "2021-07-30",
          "2021-07-31",
          "2021-08-01",
          "2021-08-02",
          "2021-08-03",
          "2021-08-04",
          "2021-08-05",
          "2021-08-06",
          "2021-08-07",
          "2021-08-08",
          "2021-08-09",
          "2021-08-10",
          "2021-08-11",
          "2021-08-12",
          "2021-08-13",
          "2021-08-14",
          "2021-08-15",
          "2021-08-16",
          "2021-08-17",
          "2021-08-18",
          "2021-08-19",
          "2021-08-20",
          "2021-08-21",
          "2021-08-22",
          "2021-08-23",
          "2021-08-24",
          "2021-08-25",
          "2021-08-26",
          "2021-08-27",
          "2021-08-28",
          "2021-08-29",
          "2021-08-30",
          "2021-08-31",
          "2021-09-01",
          "2021-09-02",
          "2021-09-03",
          "2021-09-04",
          "2021-09-05",
          "2021-09-06",
          "2021-09-07",
          "2021-09-08",
          "2021-09-09",
          "2021-09-10",
          "2021-09-11",
          "2021-09-12",
          "2021-09-13",
          "2021-09-14",
          "2021-09-15",
          "2021-09-16",
          "2021-09-17",
          "2021-09-18",
          "2021-09-19",
          "2021-09-20",
          "2021-09-21",
          "2021-09-22",
          "2021-09-23",
          "2021-09-24",
          "2021-09-25",
          "2021-09-26",
          "2021-09-27",
          "2021-09-28",
          "2021-09-29",
          "2021-09-30",
          "2021-10-01",
          "2021-10-02",
          "2021-10-03",
          "2021-10-04",
          "2021-10-05",
          "2021-10-06",
          "2021-10-07",
          "2021-10-08",
          "2021-10-09",
          "2021-10-10",
          "2021-10-11",
          "2021-10-12",
          "2021-10-13",
          "2021-10-14",
          "2021-10-15",
          "2021-10-16",
          "2021-10-17",
          "2021-10-18",
          "2021-10-19",
          "2021-10-20",
          "2021-10-21",
          "2021-10-22",
          "2021-10-23",
          "2021-10-24",
          "2021-10-25",
          "2021-10-26",
          "2021-10-27",
          "2021-10-28",
          "2021-10-29",
          "2021-10-30",
          "2021-10-31",
          "2021-11-01",
          "2021-11-02",
          "2021-11-03",
          "2021-11-04",
          "2021-11-05",
          "2021-11-06",
          "2021-11-07",
          "2021-11-08",
          "2021-11-09",
          "2021-11-10",
          "2021-11-11",
          "2021-11-12",
          "2021-11-13",
          "2021-11-14",
          "2021-11-15",
          "2021-11-16",
          "2021-11-17",
          "2021-11-18",
          "2021-11-19",
          "2021-11-20",
          "2021-11-21",
          "2021-11-22",
          "2021-11-23",
          "2021-11-24",
          "2021-11-25",
          "2021-11-26",
          "2021-11-27",
          "2021-11-28",
          "2021-11-29",
          "2021-11-30",
          "2021-12-01",
          "2021-12-02",
          "2021-12-03",
          "2021-12-04",
          "2021-12-05",
          "2021-12-06",
          "2021-12-07",
          "2021-12-08",
          "2021-12-09",
          "2021-12-10",
          "2021-12-11",
          "2021-12-12",
          "2021-12-13",
          "2021-12-14",
          "2021-12-15",
          "2021-12-16",
          "2021-12-17",
          "2021-12-18",
          "2021-12-19",
          "2021-12-20",
          "2021-12-21",
          "2021-12-22",
          "2021-12-23",
          "2021-12-24",
          "2021-12-25",
          "2021-12-26",
          "2021-12-27",
          "2021-12-28",
          "2021-12-29",
          "2021-12-30",
          "2021-12-31",
          "2022-01-01",
          "2022-01-02",
          "2022-01-03",
          "2022-01-04",
          "2022-01-05",
          "2022-01-06",
          "2022-01-07",
          "2022-01-08",
          "2022-01-09",
          "2022-01-10",
          "2022-01-11",
          "2022-01-12",
          "2022-01-13",
          "2022-01-14",
          "2022-01-15",
          "2022-01-16",
          "2022-01-17",
          "2022-01-18",
          "2022-01-19",
          "2022-01-20",
          "2022-01-21",
          "2022-01-22",
          "2022-01-23",
          "2022-01-24",
          "2022-01-25",
          "2022-01-26",
          "2022-01-27",
          "2022-01-28",
          "2022-01-29",
          "2022-01-30",
          "2022-01-31",
          "2022-02-01",
          "2022-02-02",
          "2022-02-03",
          "2022-02-04",
          "2022-02-05",
          "2022-02-06",
          "2022-02-07",
          "2022-02-08",
          "2022-02-09",
          "2022-02-10",
          "2022-02-11",
          "2022-02-12",
          "2022-02-13",
          "2022-02-14",
          "2022-02-15",
          "2022-02-16",
          "2022-02-17",
          "2022-02-18",
          "2022-02-19",
          "2022-02-20",
          "2022-02-21",
          "2022-02-22",
          "2022-02-23",
          "2022-02-24",
          "2022-02-25",
          "2022-02-26",
          "2022-02-27",
          "2022-02-28",
          "2022-03-01",
          "2022-03-02",
          "2022-03-03",
          "2022-03-04",
          "2022-03-05",
          "2022-03-06",
          "2022-03-07",
          "2022-03-08",
          "2022-03-09",
          "2022-03-10",
          "2022-03-11",
          "2022-03-12",
          "2022-03-13",
          "2022-03-14",
          "2022-03-15",
          "2022-03-16",
          "2022-03-17",
          "2022-03-18",
          "2022-03-19",
          "2022-03-20",
          "2022-03-21",
          "2022-03-22",
          "2022-03-23",
          "2022-03-24",
          "2022-03-25",
          "2022-03-26",
          "2022-03-27",
          "2022-03-28",
          "2022-03-29",
          "2022-03-30",
          "2022-03-31",
          "2022-04-01",
          "2022-04-02",
          "2022-04-03",
          "2022-04-04",
          "2022-04-05",
          "2022-04-06",
          "2022-04-07",
          "2022-04-08",
          "2022-04-09",
          "2022-04-10",
          "2022-04-11",
          "2022-04-12",
          "2022-04-13",
          "2022-04-14",
          "2022-04-15",
          "2022-04-16",
          "2022-04-17",
          "2022-04-18",
          "2022-04-19",
          "2022-04-20",
          "2022-04-21",
          "2022-04-22",
          "2022-04-23",
          "2022-04-24",
          "2022-04-25",
          "2022-04-26",
          "2022-04-27",
          "2022-04-28",
          "2022-04-29",
          "2022-04-30",
          "2022-05-01",
          "2022-05-02",
          "2022-05-03",
          "2022-05-04",
          "2022-05-05",
          "2022-05-06",
          "2022-05-07",
          "2022-05-08",
          "2022-05-09",
          "2022-05-10",
          "2022-05-11",
          "2022-05-12",
          "2022-05-13",
          "2022-05-14",
          "2022-05-15",
          "2022-05-16",
          "2022-05-17",
          "2022-05-18",
          "2022-05-19",
          "2022-05-20",
          "2022-05-21",
          "2022-05-22",
          "2022-05-23",
          "2022-05-24",
          "2022-05-25",
          "2022-05-26",
          "2022-05-27",
          "2022-05-28",
          "2022-05-29",
          "2022-05-30",
          "2022-05-31",
          "2022-06-01",
          "2022-06-02",
          "2022-06-03",
          "2022-06-04",
          "2022-06-05",
          "2022-06-06",
          "2022-06-07",
          "2022-06-08",
          "2022-06-09",
          "2022-06-10",
          "2022-06-11",
          "2022-06-12",
          "2022-06-13",
          "2022-06-14",
          "2022-06-15",
          "2022-06-16",
          "2022-06-17",
          "2022-06-18",
          "2022-06-19",
          "2022-06-20",
          "2022-06-21",
          "2022-06-22",
          "2022-06-23",
          "2022-06-24",
          "2022-06-25",
          "2022-06-26",
          "2022-06-27",
          "2022-06-28",
          "2022-06-29",
          "2022-06-30",
          "2022-07-01",
          "2022-07-02",
          "2022-07-03",
          "2022-07-04",
          "2022-07-05",
          "2022-07-06",
          "2022-07-07",
          "2022-07-08",
          "2022-07-09",
          "2022-07-10",
          "2022-07-11",
          "2022-07-12",
          "2022-07-13",
          "2022-07-14",
          "2022-07-15",
          "2022-07-16",
          "2022-07-17",
          "2022-07-18",
          "2022-07-19",
          "2022-07-20",
          "2022-07-21",
          "2022-07-22",
          "2022-07-23",
          "2022-07-24",
          "2022-07-25",
          "2022-07-26",
          "2022-07-27",
          "2022-07-28",
          "2022-07-29",
          "2022-07-30",
          "2022-07-31",
          "2022-08-01",
          "2022-08-02",
          "2022-08-03",
          "2022-08-04",
          "2022-08-05",
          "2022-08-06",
          "2022-08-07",
          "2022-08-08",
          "2022-08-09",
          "2022-08-10",
          "2022-08-11",
          "2022-08-12",
          "2022-08-13",
          "2022-08-14",
          "2022-08-15",
          "2022-08-16",
          "2022-08-17",
          "2022-08-18",
          "2022-08-19",
          "2022-08-20",
          "2022-08-21",
          "2022-08-22",
          "2022-08-23",
          "2022-08-24",
          "2022-08-25",
          "2022-08-26",
          "2022-08-27",
          "2022-08-28",
          "2022-08-29",
          "2022-08-30",
          "2022-08-31",
          "2022-09-01",
          "2022-09-02",
          "2022-09-03",
          "2022-09-04",
          "2022-09-05",
          "2022-09-06",
          "2022-09-07",
          "2022-09-08",
          "2022-09-09",
          "2022-09-10",
          "2022-09-11",
          "2022-09-12",
          "2022-09-13",
          "2022-09-14",
          "2022-09-15",
          "2022-09-16",
          "2022-09-17",
          "2022-09-18",
          "2022-09-19",
          "2022-09-20",
          "2022-09-21",
          "2022-09-22",
          "2022-09-23",
          "2022-09-24",
          "2022-09-25",
          "2022-09-26",
          "2022-09-27",
          "2022-09-28",
          "2022-09-29",
          "2022-09-30",
          "2022-10-01",
          "2022-10-02",
          "2022-10-03",
          "2022-10-04",
          "2022-10-05",
          "2022-10-06",
          "2022-10-07",
          "2022-10-08",
          "2022-10-09",
          "2022-10-10",
          "2022-10-11",
          "2022-10-12",
          "2022-10-13",
          "2022-10-14",
          "2022-10-15",
          "2022-10-16",
          "2022-10-17",
          "2022-10-18",
          "2022-10-19",
          "2022-10-20",
          "2022-10-21",
          "2022-10-22",
          "2022-10-23",
          "2022-10-24",
          "2022-10-25",
          "2022-10-26",
          "2022-10-27",
          "2022-10-28",
          "2022-10-29",
          "2022-10-30",
          "2022-10-31",
          "2022-11-01",
          "2022-11-02",
          "2022-11-03",
          "2022-11-04",
          "2022-11-05",
          "2022-11-06",
          "2022-11-07",
          "2022-11-08",
          "2022-11-09",
          "2022-11-10",
          "2022-11-11",
          "2022-11-12",
          "2022-11-13",
          "2022-11-14",
          "2022-11-15",
          "2022-11-16",
          "2022-11-17",
          "2022-11-18",
          "2022-11-19",
          "2022-11-20",
          "2022-11-21",
          "2022-11-22",
          "2022-11-23",
          "2022-11-24",
          "2022-11-25",
          "2022-11-26",
          "2022-11-27",
          "2022-11-28",
          "2022-11-29",
          "2022-11-30",
          "2022-12-01",
          "2022-12-02",
          "2022-12-03",
          "2022-12-04",
          "2022-12-05",
          "2022-12-06",
          "2022-12-07",
          "2022-12-08",
          "2022-12-09",
          "2022-12-10",
          "2022-12-11",
          "2022-12-12",
          "2022-12-13",
          "2022-12-14",
          "2022-12-15",
          "2022-12-16",
          "2022-12-17",
          "2022-12-18",
          "2022-12-19",
          "2022-12-20",
          "2022-12-21",
          "2022-12-22",
          "2022-12-23",
          "2022-12-24",
          "2022-12-25",
          "2022-12-26",
          "2022-12-27",
          "2022-12-28",
          "2022-12-29",
          "2022-12-30",
          "2022-12-31"
         ],
         "xaxis": "x",
         "y": [
          0,
          0,
          0,
          1.0000000193664749,
          0,
          0.5000000193664753,
          0.333333352699809,
          0,
          0,
          0.7500000580994283,
          0.5714286488944803,
          0.0909091102755696,
          0.2500000580994372,
          0,
          0.0714285921783716,
          0.3333334366212298,
          0.1500000610044197,
          0,
          0,
          0.1363636997448553,
          0.0416666884539619,
          0,
          0,
          0,
          0,
          0,
          0.1250000677826978,
          0,
          0.1333334107992766,
          2.125001316921088,
          0.3555560100227401,
          1.2758640951026623,
          1.4393982880609166,
          0.6521782831598533,
          0.3913085613427108,
          0.176873361889796,
          0.2924906075420908,
          0.4016189314115697,
          0.2725036312925686,
          0.4558854548322464,
          0.2049720206626783,
          0.1962376566146922,
          0.1434837271514245,
          0.1079598517328799,
          0.0832469022250938,
          0.0911431826203101,
          0.0788281311579325,
          0.0571636976686825,
          0.0377066385711646,
          0.0197943391557856,
          0.0365612109066879,
          0.0172517966244476,
          0.0175353468252767,
          0.0179648374586402,
          0.0145512602595548,
          0.0153206522782262,
          0.020401262417813,
          0.0251325446642819,
          0.0478282118768041,
          0.0309070215095296,
          0.0599845101252493,
          0.043312488327175,
          0.0295018828230763,
          0.0365598362294088,
          0.0453064291917357,
          0.0577774800397288,
          0.06286362921664,
          0.1009278018544681,
          0.0686398268701104,
          0.0527265429966032,
          0.0896659774369696,
          0.0741173209158781,
          0.0571535516512851,
          0.0540186220453041,
          0.0679406649266929,
          0.0517810219783259,
          0.037355459330654,
          0.0311380901431018,
          0.0376157759664459,
          0.0287184586241838,
          0.0238388482612658,
          0.0263787850790141,
          0.0172447597567253,
          0.025611496503255,
          0.0287412846331831,
          0.0379612757961825,
          0.0335887233018422,
          0.0228260928581227,
          0.0326404974414945,
          0.0164867863419174,
          0.0287597009229765,
          0.0212808225962155,
          0.0353011333506057,
          0.0266719720702603,
          0.0247574026950461,
          0.0326151901875262,
          0.0542276719154434,
          0.0310620949181283,
          0.0748448645277702,
          0.0434869463630888,
          0,
          0.0485533923590454,
          0.0309340199835288,
          0.0930418639618696,
          0.0454636451174504,
          0.0120506056636245,
          0,
          0.043486969106742,
          0.1363909564878776,
          0.2571944199289504,
          0.3415320046232581,
          0.3168954972393987,
          0.2031660379813778,
          0.1748605833690845,
          0.1790486889855105,
          0.1361533673310173,
          0.0518973818632595,
          0.0409174486338032,
          0.036206496807491,
          0.0577896008041228,
          0.1266082128062539,
          0.0412069666158158,
          0.0472824501155329,
          0.0716993496335983,
          0.0747485146350016,
          0.0547558424311227,
          0.066161553346715,
          0.1572906706746001,
          0.2748663473584073,
          0.1902037723063235,
          0.1009114568099424,
          0.0750158456074442,
          0.0873200775928714,
          0.0918309185561576,
          0.1147785586685158,
          0.0829774032030082,
          0.0805257694342364,
          0.0925752829031316,
          0.1051852861003077,
          0.0610545699409844,
          0.0659866155265555,
          0.0737179765014205,
          0.0714442686384609,
          0.0802969412337278,
          0.0837975219426377,
          0.0575040750281219,
          0.0517356742407962,
          0.0433372450856079,
          0.063731093158162,
          0.0996600795567604,
          0.0666817242731172,
          0.0859843919604118,
          0.0768063039943101,
          0.0302560192853703,
          0.0367056415280046,
          0.0740207507526643,
          0.0459875804498483,
          0.0636329440822915,
          0.0818184834197644,
          0.0954578004188952,
          0.0747648629606838,
          0.0577824042762643,
          0.090930354989031,
          0.1007988554264493,
          0.1111373115206024,
          0.0846065053840903,
          0.0985082662122638,
          0.0615818656506675,
          0.050736782525812,
          0.0910932829328472,
          0.0786902851277608,
          0.0691566863591593,
          0.0448613801437712,
          0.0543425818455774,
          0.0765403926147165,
          0.0360913007095703,
          0.0278813944685815,
          0.0753861374992882,
          0.0656822037236553,
          0.0528506141822231,
          0.0547802798625826,
          0.0341965078789556,
          0.0598818192192297,
          0.0978020939995158,
          0.1219265806405612,
          0.0840918635503488,
          0.0712873994682635,
          0.035251169826544,
          0.0411062570074534,
          0.0437003564251713,
          0.0660313684293924,
          0.0238155589179296,
          0.0617123085850499,
          0.0317540994713479,
          0.0358217816975853,
          0.0257945316899744,
          0.0789674835902169,
          0.0789675248924469,
          0.1138752800715657,
          0.0487137932821374,
          0.1333675794719336,
          0.1203058947836626,
          0.070986070101453,
          0.0987516537926721,
          0.1407092575652792,
          0.1532190447288029,
          0.2468510944791276,
          0.3558419583715848,
          0.4552598401150159,
          0.2219032670308462,
          0.2254141810423854,
          0.2308940714233067,
          0.1850464019682931,
          0.1788821834327265,
          0.1561625887105833,
          0.1639979649212814,
          0.0953717669573977,
          0.0927334988732195,
          0.0980525849582342,
          0.1250053372391774,
          0.0933476043333102,
          0.076523760293462,
          0.0677573966433276,
          0.0566806391156343,
          0.0528310937732242,
          0.0605031551831776,
          0.0443172585697704,
          0.0457718066295502,
          0.0398886145305599,
          0.0412919757902002,
          0.0309258371985396,
          0.0369579988367921,
          0.0443579449698688,
          0.0462945423880435,
          0.0561377157071178,
          0.0453417571898255,
          0.044067076271562,
          0.0431708812297444,
          0.0445309920222434,
          0.0519144833403914,
          0.0760632677378745,
          0.0637794288849942,
          0.0581573776578144,
          0.0417756014609258,
          0.0346364867492476,
          0.0351756155892651,
          0.0648246902657792,
          0.0771037776201031,
          0.0708032600136181,
          0.0354615872964071,
          0.0603272527740029,
          0.0315615763099722,
          0.0222829897857528,
          0.0878426311254148,
          0.0578897116441828,
          0.0497163956457688,
          0.0565060249464253,
          0.0533177952839228,
          0.0702581720907853,
          0.0685231619676052,
          0.1036273270164841,
          0.0637346962453866,
          0.0489014847215068,
          0.0727003632949689,
          0.0587240989570536,
          0.0980613536826747,
          0.0849436892247257,
          0.0696137798990167,
          0.107486451980479,
          0.0439759489324697,
          0.0688571366351851,
          0.0784276288641397,
          0.0628970700945052,
          0.0544264855566976,
          0.069308894704692,
          0.1169640276907543,
          0.1464820353202262,
          0.0643998442474962,
          0.0469957192763502,
          0.092434503776289,
          0.0743410675415159,
          0.0903016861493172,
          0.1009172880519144,
          0.0938483774195872,
          0.083169276725823,
          0.0872741791036272,
          0.0696390894806633,
          0.0477865426860047,
          0.080672077624416,
          0.0872219109583441,
          0.0977153913722788,
          0.0596319455092401,
          0.0942758290407286,
          0.0795691522381564,
          0.0630882799246076,
          0.0940524160334296,
          0.0890812669532704,
          0.1162766677615711,
          0.1157093215440034,
          0.1136265739566477,
          0.113578207756522,
          0.1192885675285346,
          0.130201752174981,
          0.1397155554058227,
          0.1440227797726179,
          0.1468863222900401,
          0.1082996066283501,
          0.0874047726297009,
          0.1061294647191265,
          0.1089783289179943,
          0.1547082603521921,
          0.1308176308131013,
          0.1117733577263203,
          0.0904135800222661,
          0.0850570893636277,
          0.0830683112366266,
          0.092228167692799,
          0.0921756949125952,
          0.1028595447444,
          0.0919353017653981,
          0.0966479204458635,
          0.090118244135664,
          0.0822451532814826,
          0.0906368743588399,
          0.0876158418885885,
          0.0888787993636344,
          0.1199923946972238,
          0.1230816171016468,
          0.0793249749798243,
          0.095721851522825,
          0.1123192958179712,
          0.0995989589097568,
          0.0996228515244365,
          0.0943504420724401,
          0.0944996249303,
          0.0764409757446819,
          0.0690580852586637,
          0.0861556318220111,
          0.0751172816705175,
          0.0929508139881439,
          0.0810734906776096,
          0.0685250713510764,
          0.0571908977918117,
          0.073950442868608,
          0.0730841716342902,
          0.0672625116521564,
          0.0723989849926912,
          0.0571720862661744,
          0.0468157968166087,
          0.0759021305246242,
          0.0509284145987372,
          0.0622297780288789,
          0.0651632396242928,
          0.0513774029886318,
          0.0507382898681341,
          0.05382178124643,
          0.0378328876347569,
          0.0469285525751039,
          0.0518442723672384,
          0.049890516263546,
          0.0515139459442549,
          0.0613300629551856,
          0.056308321981897,
          0.0423185225530293,
          0.0454507612866063,
          0.0503368952173158,
          0.0521274439255133,
          0.0473436996923894,
          0.0617304687210108,
          0.0582437521662566,
          0.067446380090168,
          0.0544263367321547,
          0.0894328944480209,
          0.0802585494509401,
          0.0756299859981549,
          0.0730706206431171,
          0.0574148449156249,
          0.052166839763281,
          0.0573279391450209,
          0.080389606019421,
          0.0788361297954565,
          0.0637457554252575,
          0.0662539024724065,
          0.0605587326213257,
          0.0496325684287486,
          0.0531329527180059,
          0.0804452855461001,
          0.0916448540604125,
          0.0744175085574706,
          0.0677185158443334,
          0.0614890361821206,
          0.0652100398290327,
          0.0862495792808009,
          0.1153720603372118,
          0.1108228977498291,
          0.0973682852936198,
          0.0754289266624808,
          0.0690540768599798,
          0.0549205646617852,
          0.0583042383398997,
          0.0717222316422099,
          0.0633540495421719,
          0.0634512822244842,
          0.0691847150612309,
          0.0575713571238728,
          0.0579772818381036,
          0.0553738737527998,
          0.0744616936616406,
          0.0725293848183142,
          0.0707048460452187,
          0.0760752843514768,
          0.0762991083810034,
          0.0632694554160476,
          0.0818126385350833,
          0.0846472945517796,
          0.0823934683782802,
          0.0861928670904335,
          0.0849886963269376,
          0.0785545539834761,
          0.0633358532085452,
          0.0603863860791719,
          0.077751430496913,
          0.0734723599829094,
          0.0766113414265218,
          0.0736620075389757,
          0.0739472904156806,
          0.0670972380506899,
          0.0549812120096782,
          0.0694937590447299,
          0.0708481734920512,
          0.0814240812465976,
          0.0840492822820538,
          0.0789571123594318,
          0.0628899343984693,
          0.0737977302790592,
          0.0817466734650062,
          0.0893687147565645,
          0.0872789487063507,
          0.0841533068008614,
          0.0828113348261593,
          0.0709896187566107,
          0.0717661966320198,
          0.0989481546209409,
          0.0996547520673513,
          0.0919492692225012,
          0.0909592434401276,
          0.0800584297974421,
          0.0751742191683103,
          0.0679522683842324,
          0.0899274941637143,
          0.0831430484806123,
          0.0792969508449291,
          0.0769138691284574,
          0.0771502728040987,
          0.060165780484268,
          0.0614591745329648,
          0.0812510162727641,
          0.0821094557618966,
          0.086699719841487,
          0.0856480122203457,
          0.0671946894931309,
          0.0523754847734329,
          0.0540591953866212,
          0.0846886666843676,
          0.0738902797372871,
          0.0726841750801413,
          0.0678548870088949,
          0.0668134331111901,
          0.0534857141747671,
          0.0601941355149443,
          0.0748910258773147,
          0.0642289288221079,
          0.0602415268122212,
          0.0814670550736556,
          0.0641694344441891,
          0.0547096273539402,
          0.0607595584318317,
          0.0756842634943734,
          0.0869254293279965,
          0.091142693176756,
          0.0821628793703423,
          0.0716139247234702,
          0.0741321227084031,
          0.0617141984923576,
          0.077549259502305,
          0.0756663857394099,
          0.0656753101108601,
          0.0766070302369038,
          0.0686109477749597,
          0.0616214953355522,
          0.0581784024577509,
          0.0815359644309154,
          0.0731500323325268,
          0.0679017428221173,
          0.0621306522235811,
          0.0579195634325738,
          0.0525483376501134,
          0.0578647804893101,
          0.0856163084356144,
          0.0866664700917613,
          0.0872839471307105,
          0.0923012506091173,
          0.0680244997847576,
          0.0588162359102281,
          0.0555275650518315,
          0.0747735332925092,
          0.0763061073795475,
          0.0701821238617376,
          0.0709072171729719,
          0.055202766932745,
          0.0488390888271503,
          0.0466539109352137,
          0.0696377707013661,
          0.0701789523216805,
          0.0668464102556613,
          0.0648685599674111,
          0.0587635114906107,
          0.0504646773996623,
          0.0544224547149578,
          0.0953821915783958,
          0.0887281758898929,
          0.0933869953755321,
          0.0948132828131784,
          0.0853047932108537,
          0.0705680865137867,
          0.0821245274785506,
          0.1069576601005208,
          0.0972848563787783,
          0.1028432211102487,
          0.0964347590860779,
          0.0835441121083325,
          0.0799808432232503,
          0.0802969047739003,
          0.1285245170999998,
          0.1272421844679544,
          0.1218452041832029,
          0.1218766582926588,
          0.1107018652156452,
          0.0858435143578662,
          0.0851248839409193,
          0.1162751599346526,
          0.108174813436089,
          0.0977175680340447,
          0.0886921680218431,
          0.0859542982151652,
          0.0708508025097282,
          0.0705799697765522,
          0.0948244793205345,
          0.081089486468037,
          0.0828254469652984,
          0.0813904085763855,
          0.0727777147154343,
          0.0643702943060688,
          0.0647196427238481,
          0.0905132420597329,
          0.0794686957141796,
          0.080970568967202,
          0.0717080937614335,
          0.0671654698558809,
          0.0563481441156715,
          0.0562770329276445,
          0.0805399800996154,
          0.0830314389606921,
          0.0791703048657928,
          0.0846691343506409,
          0.0799099731546886,
          0.0681785346954062,
          0.0697226641727855,
          0.0994445373718431,
          0.0880175978976125,
          0.0867570461537376,
          0.0828472006535004,
          0.0766776095345934,
          0.0642030163114659,
          0.0564279459069089,
          0.0738227259426121,
          0.0879288717534557,
          0.0824004541420547,
          0.0740455134676686,
          0.0643274800062968,
          0.0557870904334611,
          0.0598950672126851,
          0.0859180807278849,
          0.0747248877424302,
          0.0737718666596659,
          0.0722921285624323,
          0.0655970645435244,
          0.0598852853815929,
          0.0559708017067087,
          0.0832400127780225,
          0.0798934256906208,
          0.0698754848899631,
          0.0750409994099539,
          0.0620018973768108,
          0.0576412614190838,
          0.0669424920836351,
          0.0856231373328126,
          0.0859544617352636,
          0.0788700911219287,
          0.0770573200388227,
          0.0727703771226125,
          0.0589344235296752,
          0.0617535256471431,
          0.0855518987917523,
          0.0796795671663126,
          0.0820512626774178,
          0.0844119269432272,
          0.0765159168545037,
          0.0632588001566346,
          0.0672466121232729,
          0.0669198453705207,
          0.0676983021515665,
          0.0970611797523644,
          0.1279686089650257,
          0.1025763309365209,
          0.084908024726306,
          0.0792297132004191,
          0.0968833383283573,
          0.0839149869336041,
          0.079778674391335,
          0.0710456826768139,
          0.0655988325651004,
          0.0520894164074064,
          0.0490778399164908,
          0.0634325443379801,
          0.0750919028394772,
          0.0659101872340033,
          0.0598908707468225,
          0.0507369422353844,
          0.0429909170103702,
          0.0464141788787853,
          0.0563528198271165,
          0.0723789747785062,
          0.0643611304693283,
          0.063569706816145,
          0.0570854401483845,
          0.0436456017891352,
          0.045588435332584,
          0.0684669386742014,
          0.0639925026420262,
          0.0668128991417694,
          0.0722423219921513,
          0.0695367619471445,
          0.0585238753662346,
          0.0626239783728735,
          0.0971891191383072,
          0.1030740191073167,
          0.103088491025171,
          0.1001563982413867,
          0.0959332569815874,
          0.0761196992982395,
          0.0698795462209149,
          0.1144448036858252,
          0.1015870085896045,
          0.0923564058897883,
          0.0854335602629981,
          0.082412613477596,
          0.0632483352206754,
          0.0603199986789624,
          0.0841752573731216,
          0.0857576116620567,
          0.0797648666607716,
          0.0776055190670707,
          0.0802355016783787,
          0.0657082874326001,
          0.0690301434525835,
          0.1015628928106564,
          0.103187528276749,
          0.0926382307104956,
          0.0962841690917891,
          0.0907642017496486,
          0.0802676047754437,
          0.0745294215510445,
          0.1105036116123407,
          0.1012731726939244,
          0.0967776309280443,
          0.09726499617634,
          0.0900951617821226,
          0.0733973459609433,
          0.0653257698569876,
          0.1081698772487746,
          0.107181209768449,
          0.0967068446333665,
          0.1011199041934573,
          0.093100558081184,
          0.0757632148514987,
          0.084603312040806,
          0.1180792931221797,
          0.111363298438065,
          0.1049316403004371,
          0.0997521204325421,
          0.0917740550221715,
          0.0769286675154727,
          0.0711411816685445,
          0.0973875789854251,
          0.0915840341825069,
          0.0868371812485936,
          0.0830267822575007,
          0.0692815089425967,
          0.0582996918192924,
          0.0564582981363925,
          0.080769454923288,
          0.0747208439290917,
          0.0674667534652616,
          0.0636777513163575,
          0.0599475074245631,
          0.0470949809107049,
          0.0440593768320773,
          0.0627449997383361,
          0.0599603177820129,
          0.0600462863367056,
          0.0561755160170033,
          0.0504898400105233,
          0.0422872790770008,
          0.0423585236203131,
          0.0641757908887387,
          0.0619407084591675,
          0.058728360427553,
          0.0574442352814974,
          0.0574891597880839,
          0.0525516091843092,
          0.0555406318389164,
          0.0792245012720065,
          0.0775057216972953,
          0.0851014757457915,
          0.0845640816117768,
          0.0803304485173352,
          0.0739517901587259,
          0.076655179850913,
          0.1080965454933115,
          0.1205534497517967,
          0.1183782143803582,
          0.115566193418404,
          0.1195861102224688,
          0.1102117464710806,
          0.1187937664659182,
          0.1675620096147655,
          0.1684335204825262,
          0.1669930161923591,
          0.16275673410361,
          0.1450769949282009,
          0.1274683957771973,
          0.1247096388530059,
          0.1261044646898841,
          0.1309749642206638,
          0.1436922712431581,
          0.1721849890920428,
          0.1613259975032691,
          0.119761600869995,
          0.1346609006083718,
          0.1527593053158424,
          0.1504399256194495,
          0.1354162379850678,
          0.1262720829497187,
          0.1198749596525308,
          0.1074676836988146,
          0.1050299221261583,
          0.1555895681583994,
          0.1436610025366079,
          0.1536025516907725,
          0.1288542123162198,
          0.1226282304441733,
          0.1039887164002797,
          0.1020418002666982,
          0.1662838534509238,
          0.148609792331322,
          0.1326929028090226,
          0.122924934743666,
          0.1125780151763528,
          0.0901264924232974,
          0.0855653083732969,
          0.1292421828619908,
          0.1099116421396586,
          0.1404793427710333,
          0.1250387390622627,
          0.1126349584301785,
          0.0924681559739695,
          0.0854092003571433,
          0.139398903888775,
          0.126347412179432,
          0.1042296095247323,
          0.136919321356244,
          0.1179148249133262,
          0.0996029624977355,
          0.1119630094301702,
          0.1177791758181196,
          0.1762126487133193,
          0.1062333946762954,
          0.0974668963601377,
          0.0840511376850966,
          0.0519577816393393,
          0.0883309271798274,
          0.1198979535012099,
          0.0950227461595885,
          0.0812591820662843,
          0.0801327941598681,
          0.0773256439560429,
          0.0461461162748738,
          0.0880828127358491,
          0.1089161702971365,
          0.0827862014197444,
          0.0774545577797518,
          0.0755142899331131,
          0.0691884612852888,
          0.0386344688753825,
          0.0825759702644612,
          0.0913067248036611,
          0.0758262542006858,
          0.0726886153284131,
          0.0683616290932415,
          0.0634160670521502,
          0.0367541291499189,
          0.0877746749481751,
          0.0852793165846509,
          0.0700199222002431,
          0.0631675226839801,
          0.0574314321476473,
          0.0526726030479849,
          0.0286862230094921,
          0.0736763022475313,
          0.0741037218992868,
          0.0658895091082545,
          0.0630984531783007,
          0.0630001744009773,
          0.0577823640654175,
          0.0326979006823369,
          0.0793593840896641,
          0.0832463820859176,
          0.0683171654829717,
          0.0649399475067823,
          0.0595010463661073,
          0.0552910233631531,
          0.0311015548345867,
          0.0813862095005011,
          0.0843897788932409,
          0.0784303596981239,
          0.0527809453508167,
          0.0841843346095991,
          0.0899208730700692,
          0.0480365659936796,
          0.1189797742619499,
          0.1100954675273985,
          0.0952813420281677,
          0.0895206990878859,
          0.0844589338890362,
          0.074698314396599,
          0.0400119058871398,
          0.1070735645482499,
          0.0988620299184882,
          0.0921937527991198,
          0.0849914304849068,
          0.0797105588289857,
          0.0681034367360993,
          0.0369906073732482,
          0.1001971318061814,
          0.0968959212048644,
          0.0803665528916929,
          0.0743928460945166,
          0.0677622087858724,
          0.0625316246760894,
          0.0316485501288936,
          0.0907625581648834,
          0.0889084176703704,
          0.0591496730788407,
          0.0805333418651859,
          0.0816290309519862,
          0.0703860481528732,
          0.0376069400404103,
          0.0473412618219612,
          0.1135908174762746,
          0.1100819432850635,
          0.0877859818772242,
          0.0832536764458633,
          0.0757941643506985,
          0.0407405414643785,
          0.1056962801684997,
          0.1075462207887563,
          0.0955491455398416,
          0.0874284389496493,
          0.0865744016482806,
          0.0805398542976683,
          0.0484726403062178,
          0.1290141495373649,
          0.1213203490443225,
          0.1046541153082116,
          0.1057905029987268,
          0.101577843212706,
          0.0950503103988676,
          0.0526315943943972,
          0.1527553242103295,
          0.1613654395442076,
          0.1467666277056103,
          0.1434943979505026,
          0.1576811096770112,
          0.1430639779632879,
          0.0858336476267116,
          0.2432702896235437,
          0.2415387347251926,
          0.2132060554497154,
          0.2056478040403073,
          0.1994453025268388,
          0.1852196560851378,
          0.1063423682229936,
          0.2983781096469918,
          0.2823629702405493,
          0.2426199064674696,
          0.215652558865023,
          0.2077094110989791,
          0.185017486755766,
          0.1108957293623033,
          0.294725758077093,
          0.268858176740873,
          0.2225120654911566,
          0.1947407050587617,
          0.1791193828221029,
          0.1588228416046884,
          0.0815641213474681,
          0.2188925833646278,
          0.2040841773279394,
          0.1676173976317418,
          0.1533782159149803,
          0.1405250899198475,
          0.1212509602740561,
          0.0713624006346362,
          0.1754949350373815,
          0.1822742597350014,
          0.1581689914418267,
          0.1607820609701694,
          0.1522797360046072,
          0.1408242685637551,
          0.0716869581813415,
          0.1917908218543798,
          0.1878594437142834,
          0.1644037961573302,
          0.1496420652546325,
          0.141215157219439,
          0.1323980022536652,
          0.0669730332046051,
          0.0899428592662188,
          0.1971602622575858,
          0.1886382167375432,
          0.1413825948748409,
          0.1304185654744882,
          0.1111821205442736,
          0.0591732221490731,
          0.1505062848029028,
          0.1402298254215676,
          0.1155137948076032,
          0.1048878710810108,
          0.1011300466704664,
          0.0921579037435579,
          0.0477248206232447,
          0.1295347040129422,
          0.1147692090830717,
          0.094758111715492,
          0.1113140135335612,
          0.102752103536738,
          0.096739695282358,
          0.0518561636494683,
          0.1404653648124309,
          0.1256901554215709,
          0.1118429807693672,
          0.1109191239770721,
          0.0703615586572044,
          0.0487925176626975,
          0.0675129028640325,
          0.1055473673530938,
          0.1840181512651029,
          0.1418850654196765,
          0.104348123080248,
          0.0912146224433805,
          0.0762111035582634,
          0.0444513577316032,
          0.1124587128251634,
          0.1036888289403609,
          0.0882064909582239,
          0.0824548437713648,
          0.0885253852800745,
          0.0796567232357551,
          0.0439170277098538,
          0.1269567198135161,
          0.1203955625243097,
          0.1144131334845382,
          0.1147237515818762,
          0.1141307899906726,
          0.1040210684698265,
          0.0548542720804447,
          0.0754689289521385,
          0.1731468332753753,
          0.1452591814668308,
          0.1145070300335723,
          0.1015649339412068,
          0.0951389343967851,
          0.049424473781171,
          0.0864875472372844,
          0.1838369843564278,
          0.1653703670168176,
          0.1466779230790204,
          0.1440409803333089,
          0.1377050118566803,
          0.0711944235779657,
          0.2157516907089128,
          0.1817259548318539,
          0.1591071003612652,
          0.1567745876186702,
          0.1690994070433932,
          0.1616702980135453,
          0.0857585154088355,
          0.2584163101895111,
          0.2226083101262073,
          0.1856571913684379,
          0.1868134044921798,
          0.1882996187138722,
          0.1682039644363582,
          0.0721680881164985,
          0.2884212118536124,
          0.2408208895107579,
          0.1956678486717865,
          0.1737533923058668,
          0.1578081177278612,
          0.1380306605033668,
          0.068931978264677,
          0.2287075664682886,
          0.2224494151700357,
          0.1902527649548207,
          0.1814073787646287,
          0.1754104126658294,
          0.1529180173038609,
          0.0734726915630158,
          0.2229628110218518,
          0.2008286467838388,
          0.1647564139418089,
          0.1453251781557342,
          0.1473919181545503,
          0.1328535743930821,
          0.0658353286010036,
          0.2070624634274724,
          0.1975376792868426,
          0.0922054734267342,
          0.2293190760507957,
          0.1468304203854514,
          0.1316266059924271,
          0.062699686195578,
          0.201504180979202,
          0.1909729619632975,
          0.1619801888849183,
          0.1503571061215786,
          0.1492214286804857,
          0.1316112757599955,
          0.0654228294378827,
          0.2198999708125529,
          0.2111014107914198,
          0.1838411394743965,
          0.1700234007738676,
          0.1738303593606657,
          0.1492600097812472,
          0.0699481196945082,
          0.2363248172575011,
          0.2265748025010389,
          0.1847337446003756,
          0.1739651191490284,
          0.1711583989436782,
          0.1488617632301405,
          0.066494314768342,
          0.2183460511238307,
          0.2182242436729755,
          0.1853824854355109,
          0.1654244289558872,
          0.1598420643335778,
          0.1412993458711736,
          0.0615726160268838,
          0.2116618011469374,
          0.2121587032738409,
          0.1731758676792769,
          0.1584252461298614,
          0.1535922197187073,
          0.1412727435723499,
          0.056064156514505,
          0.2010849195418225,
          0.1970727911293934,
          0.1630110876516272,
          0.1471359467613253,
          0.1406010412529729,
          0.1246877381526886,
          0.0517060029737725,
          0.1640112761046347,
          0.1537948893084835,
          0.1298942825173274,
          0.1218332475948049,
          0.1161532516449778,
          0.1075271976320475,
          0.048417012824412,
          0.139501432828008,
          0.1365231248231518,
          0.1181498289541078,
          0.1153556258980574,
          0.1224263546806776,
          0.0778060525769298,
          0.0458963838023688,
          0.0623573349698183,
          0.1107215325230647,
          0.2170715539391313,
          0.2010289271947183,
          0.1515516881621426,
          0.1270315872838514,
          0.0519458318329232,
          0.1403553250189727,
          0.1556753275090027,
          0.135720106710689,
          0.1260302750821954,
          0.1278174316337825,
          0.1297317316007655,
          0.05469526308735,
          0.1528404562706792,
          0.1677082591426867,
          0.1381000325066859,
          0.1381652796400298,
          0.1405642568794766,
          0.1407225255727201,
          0.0624949801575444,
          0.1756103547889048,
          0.1879137675685876,
          0.1619871247656114,
          0.1515590636548055,
          0.1438767711576423,
          0.142036777927501,
          0.0610077546607907,
          0.1694019532380758,
          0.1914757040193291,
          0.1635600808508591,
          0.1553008526404228,
          0.1567615887600868,
          0.1483045102228781,
          0.0660481605676203,
          0.1790088956006995,
          0.2085460692050181,
          0.1307507763621711,
          0.1866636395869977,
          0.2010346891289796,
          0.1768579333967682,
          0.0587164003798967,
          0.2431106258832331,
          0.2311245011743732,
          0.1972183286656266,
          0.187193035802232,
          0.1784010446496144,
          0.169060088216487,
          0.0758248814344603,
          0.2059942581954522,
          0.2140460399860652,
          0.1794252935846535,
          0.1610074745566981,
          0.1613785789183316,
          0.1605760664793369,
          0.0592262236709624,
          0.233706198699341,
          0.2417637329136098,
          0.2103841382125209,
          0.1890696535921773,
          0.1869748039226353,
          0.1719330010327761,
          0.0772318154240201,
          0.2230439098674879,
          0.2403114584253887,
          0.2003368814843954,
          0.1866126286135665,
          0.1730490936126226,
          0.1726305110212526,
          0.0766884593113214,
          0.2343404441623143,
          0.252465360915688,
          0.2089722047960267,
          0.1849129538139371,
          0.1708313211390235,
          0.1644137518067417,
          0.0688339318083137,
          0.2142684411039284,
          0.2395900351791571,
          0.1984396219885136,
          0.1990113437527353,
          0.1905278295408601,
          0.1705327290207012,
          0.0824781782555656,
          0.2525751284372315,
          0.2715806859344849,
          0.2290342067059735,
          0.2181923532152231,
          0.209236410610724,
          0.182871710948565,
          0.0765911195985674,
          0.2246995017351165,
          0.2452354749480677,
          0.2107770252126916,
          0.2005226945832125,
          0.2071433581944398,
          0.1923471435693731,
          0.0799291889440846,
          0.2173754155723305,
          0.2783200555880422,
          0.2725509605275846,
          0.5898688821699428,
          0.0921253881059024,
          0.2508242294615073,
          0.260692548482435,
          0.2111677042755549,
          0.2007903923951029,
          0.188517983460319,
          0.1695342846617153,
          0.0687682021755315,
          0.2341794244852779,
          0.2492266143266942,
          0.1933126291380505,
          0.1701952613073947,
          0.1569042678676188,
          0.1477463012469908,
          0.0661082053147442,
          0.2094864552357814,
          0.2254959136577225,
          0
         ],
         "yaxis": "y2"
        }
       ],
       "layout": {
        "legend": {
         "bordercolor": "Black",
         "borderwidth": 1,
         "x": 0.94,
         "xanchor": "right",
         "y": 1,
         "yanchor": "top"
        },
        "margin": {
         "b": 15,
         "r": 10,
         "t": 15
        },
        "plot_bgcolor": "white",
        "shapes": [
         {
          "fillcolor": "lightseagreen",
          "line": {
           "width": 0
          },
          "opacity": 0.25,
          "type": "rect",
          "x0": "2020-12-10",
          "x1": "2020-12-31",
          "xref": "x",
          "y0": 0,
          "y1": 1,
          "yref": "y domain"
         },
         {
          "fillcolor": "lightseagreen",
          "line": {
           "width": 0
          },
          "opacity": 0.25,
          "type": "rect",
          "x0": "2021-02-01",
          "x1": "2021-02-22",
          "xref": "x",
          "y0": 0,
          "y1": 1,
          "yref": "y domain"
         },
         {
          "fillcolor": "lightseagreen",
          "line": {
           "width": 0
          },
          "opacity": 0.25,
          "type": "rect",
          "x0": "2021-06-28",
          "x1": "2021-07-19",
          "xref": "x",
          "y0": 0,
          "y1": 1,
          "yref": "y domain"
         },
         {
          "fillcolor": "lightseagreen",
          "line": {
           "width": 0
          },
          "opacity": 0.25,
          "type": "rect",
          "x0": "2022-04-04",
          "x1": "2022-04-25",
          "xref": "x",
          "y0": 0,
          "y1": 1,
          "yref": "y domain"
         },
         {
          "fillcolor": "pink",
          "line": {
           "width": 0
          },
          "opacity": 0.4,
          "type": "rect",
          "x0": "2022-01-05",
          "x1": "2022-02-01",
          "xref": "x",
          "y0": 0,
          "y1": 1,
          "yref": "y domain"
         }
        ],
        "template": {
         "data": {
          "bar": [
           {
            "error_x": {
             "color": "#2a3f5f"
            },
            "error_y": {
             "color": "#2a3f5f"
            },
            "marker": {
             "line": {
              "color": "#E5ECF6",
              "width": 0.5
             },
             "pattern": {
              "fillmode": "overlay",
              "size": 10,
              "solidity": 0.2
             }
            },
            "type": "bar"
           }
          ],
          "barpolar": [
           {
            "marker": {
             "line": {
              "color": "#E5ECF6",
              "width": 0.5
             },
             "pattern": {
              "fillmode": "overlay",
              "size": 10,
              "solidity": 0.2
             }
            },
            "type": "barpolar"
           }
          ],
          "carpet": [
           {
            "aaxis": {
             "endlinecolor": "#2a3f5f",
             "gridcolor": "white",
             "linecolor": "white",
             "minorgridcolor": "white",
             "startlinecolor": "#2a3f5f"
            },
            "baxis": {
             "endlinecolor": "#2a3f5f",
             "gridcolor": "white",
             "linecolor": "white",
             "minorgridcolor": "white",
             "startlinecolor": "#2a3f5f"
            },
            "type": "carpet"
           }
          ],
          "choropleth": [
           {
            "colorbar": {
             "outlinewidth": 0,
             "ticks": ""
            },
            "type": "choropleth"
           }
          ],
          "contour": [
           {
            "colorbar": {
             "outlinewidth": 0,
             "ticks": ""
            },
            "colorscale": [
             [
              0,
              "#0d0887"
             ],
             [
              0.1111111111111111,
              "#46039f"
             ],
             [
              0.2222222222222222,
              "#7201a8"
             ],
             [
              0.3333333333333333,
              "#9c179e"
             ],
             [
              0.4444444444444444,
              "#bd3786"
             ],
             [
              0.5555555555555556,
              "#d8576b"
             ],
             [
              0.6666666666666666,
              "#ed7953"
             ],
             [
              0.7777777777777778,
              "#fb9f3a"
             ],
             [
              0.8888888888888888,
              "#fdca26"
             ],
             [
              1,
              "#f0f921"
             ]
            ],
            "type": "contour"
           }
          ],
          "contourcarpet": [
           {
            "colorbar": {
             "outlinewidth": 0,
             "ticks": ""
            },
            "type": "contourcarpet"
           }
          ],
          "heatmap": [
           {
            "colorbar": {
             "outlinewidth": 0,
             "ticks": ""
            },
            "colorscale": [
             [
              0,
              "#0d0887"
             ],
             [
              0.1111111111111111,
              "#46039f"
             ],
             [
              0.2222222222222222,
              "#7201a8"
             ],
             [
              0.3333333333333333,
              "#9c179e"
             ],
             [
              0.4444444444444444,
              "#bd3786"
             ],
             [
              0.5555555555555556,
              "#d8576b"
             ],
             [
              0.6666666666666666,
              "#ed7953"
             ],
             [
              0.7777777777777778,
              "#fb9f3a"
             ],
             [
              0.8888888888888888,
              "#fdca26"
             ],
             [
              1,
              "#f0f921"
             ]
            ],
            "type": "heatmap"
           }
          ],
          "heatmapgl": [
           {
            "colorbar": {
             "outlinewidth": 0,
             "ticks": ""
            },
            "colorscale": [
             [
              0,
              "#0d0887"
             ],
             [
              0.1111111111111111,
              "#46039f"
             ],
             [
              0.2222222222222222,
              "#7201a8"
             ],
             [
              0.3333333333333333,
              "#9c179e"
             ],
             [
              0.4444444444444444,
              "#bd3786"
             ],
             [
              0.5555555555555556,
              "#d8576b"
             ],
             [
              0.6666666666666666,
              "#ed7953"
             ],
             [
              0.7777777777777778,
              "#fb9f3a"
             ],
             [
              0.8888888888888888,
              "#fdca26"
             ],
             [
              1,
              "#f0f921"
             ]
            ],
            "type": "heatmapgl"
           }
          ],
          "histogram": [
           {
            "marker": {
             "pattern": {
              "fillmode": "overlay",
              "size": 10,
              "solidity": 0.2
             }
            },
            "type": "histogram"
           }
          ],
          "histogram2d": [
           {
            "colorbar": {
             "outlinewidth": 0,
             "ticks": ""
            },
            "colorscale": [
             [
              0,
              "#0d0887"
             ],
             [
              0.1111111111111111,
              "#46039f"
             ],
             [
              0.2222222222222222,
              "#7201a8"
             ],
             [
              0.3333333333333333,
              "#9c179e"
             ],
             [
              0.4444444444444444,
              "#bd3786"
             ],
             [
              0.5555555555555556,
              "#d8576b"
             ],
             [
              0.6666666666666666,
              "#ed7953"
             ],
             [
              0.7777777777777778,
              "#fb9f3a"
             ],
             [
              0.8888888888888888,
              "#fdca26"
             ],
             [
              1,
              "#f0f921"
             ]
            ],
            "type": "histogram2d"
           }
          ],
          "histogram2dcontour": [
           {
            "colorbar": {
             "outlinewidth": 0,
             "ticks": ""
            },
            "colorscale": [
             [
              0,
              "#0d0887"
             ],
             [
              0.1111111111111111,
              "#46039f"
             ],
             [
              0.2222222222222222,
              "#7201a8"
             ],
             [
              0.3333333333333333,
              "#9c179e"
             ],
             [
              0.4444444444444444,
              "#bd3786"
             ],
             [
              0.5555555555555556,
              "#d8576b"
             ],
             [
              0.6666666666666666,
              "#ed7953"
             ],
             [
              0.7777777777777778,
              "#fb9f3a"
             ],
             [
              0.8888888888888888,
              "#fdca26"
             ],
             [
              1,
              "#f0f921"
             ]
            ],
            "type": "histogram2dcontour"
           }
          ],
          "mesh3d": [
           {
            "colorbar": {
             "outlinewidth": 0,
             "ticks": ""
            },
            "type": "mesh3d"
           }
          ],
          "parcoords": [
           {
            "line": {
             "colorbar": {
              "outlinewidth": 0,
              "ticks": ""
             }
            },
            "type": "parcoords"
           }
          ],
          "pie": [
           {
            "automargin": true,
            "type": "pie"
           }
          ],
          "scatter": [
           {
            "fillpattern": {
             "fillmode": "overlay",
             "size": 10,
             "solidity": 0.2
            },
            "type": "scatter"
           }
          ],
          "scatter3d": [
           {
            "line": {
             "colorbar": {
              "outlinewidth": 0,
              "ticks": ""
             }
            },
            "marker": {
             "colorbar": {
              "outlinewidth": 0,
              "ticks": ""
             }
            },
            "type": "scatter3d"
           }
          ],
          "scattercarpet": [
           {
            "marker": {
             "colorbar": {
              "outlinewidth": 0,
              "ticks": ""
             }
            },
            "type": "scattercarpet"
           }
          ],
          "scattergeo": [
           {
            "marker": {
             "colorbar": {
              "outlinewidth": 0,
              "ticks": ""
             }
            },
            "type": "scattergeo"
           }
          ],
          "scattergl": [
           {
            "marker": {
             "colorbar": {
              "outlinewidth": 0,
              "ticks": ""
             }
            },
            "type": "scattergl"
           }
          ],
          "scattermapbox": [
           {
            "marker": {
             "colorbar": {
              "outlinewidth": 0,
              "ticks": ""
             }
            },
            "type": "scattermapbox"
           }
          ],
          "scatterpolar": [
           {
            "marker": {
             "colorbar": {
              "outlinewidth": 0,
              "ticks": ""
             }
            },
            "type": "scatterpolar"
           }
          ],
          "scatterpolargl": [
           {
            "marker": {
             "colorbar": {
              "outlinewidth": 0,
              "ticks": ""
             }
            },
            "type": "scatterpolargl"
           }
          ],
          "scatterternary": [
           {
            "marker": {
             "colorbar": {
              "outlinewidth": 0,
              "ticks": ""
             }
            },
            "type": "scatterternary"
           }
          ],
          "surface": [
           {
            "colorbar": {
             "outlinewidth": 0,
             "ticks": ""
            },
            "colorscale": [
             [
              0,
              "#0d0887"
             ],
             [
              0.1111111111111111,
              "#46039f"
             ],
             [
              0.2222222222222222,
              "#7201a8"
             ],
             [
              0.3333333333333333,
              "#9c179e"
             ],
             [
              0.4444444444444444,
              "#bd3786"
             ],
             [
              0.5555555555555556,
              "#d8576b"
             ],
             [
              0.6666666666666666,
              "#ed7953"
             ],
             [
              0.7777777777777778,
              "#fb9f3a"
             ],
             [
              0.8888888888888888,
              "#fdca26"
             ],
             [
              1,
              "#f0f921"
             ]
            ],
            "type": "surface"
           }
          ],
          "table": [
           {
            "cells": {
             "fill": {
              "color": "#EBF0F8"
             },
             "line": {
              "color": "white"
             }
            },
            "header": {
             "fill": {
              "color": "#C8D4E3"
             },
             "line": {
              "color": "white"
             }
            },
            "type": "table"
           }
          ]
         },
         "layout": {
          "annotationdefaults": {
           "arrowcolor": "#2a3f5f",
           "arrowhead": 0,
           "arrowwidth": 1
          },
          "autotypenumbers": "strict",
          "coloraxis": {
           "colorbar": {
            "outlinewidth": 0,
            "ticks": ""
           }
          },
          "colorscale": {
           "diverging": [
            [
             0,
             "#8e0152"
            ],
            [
             0.1,
             "#c51b7d"
            ],
            [
             0.2,
             "#de77ae"
            ],
            [
             0.3,
             "#f1b6da"
            ],
            [
             0.4,
             "#fde0ef"
            ],
            [
             0.5,
             "#f7f7f7"
            ],
            [
             0.6,
             "#e6f5d0"
            ],
            [
             0.7,
             "#b8e186"
            ],
            [
             0.8,
             "#7fbc41"
            ],
            [
             0.9,
             "#4d9221"
            ],
            [
             1,
             "#276419"
            ]
           ],
           "sequential": [
            [
             0,
             "#0d0887"
            ],
            [
             0.1111111111111111,
             "#46039f"
            ],
            [
             0.2222222222222222,
             "#7201a8"
            ],
            [
             0.3333333333333333,
             "#9c179e"
            ],
            [
             0.4444444444444444,
             "#bd3786"
            ],
            [
             0.5555555555555556,
             "#d8576b"
            ],
            [
             0.6666666666666666,
             "#ed7953"
            ],
            [
             0.7777777777777778,
             "#fb9f3a"
            ],
            [
             0.8888888888888888,
             "#fdca26"
            ],
            [
             1,
             "#f0f921"
            ]
           ],
           "sequentialminus": [
            [
             0,
             "#0d0887"
            ],
            [
             0.1111111111111111,
             "#46039f"
            ],
            [
             0.2222222222222222,
             "#7201a8"
            ],
            [
             0.3333333333333333,
             "#9c179e"
            ],
            [
             0.4444444444444444,
             "#bd3786"
            ],
            [
             0.5555555555555556,
             "#d8576b"
            ],
            [
             0.6666666666666666,
             "#ed7953"
            ],
            [
             0.7777777777777778,
             "#fb9f3a"
            ],
            [
             0.8888888888888888,
             "#fdca26"
            ],
            [
             1,
             "#f0f921"
            ]
           ]
          },
          "colorway": [
           "#636efa",
           "#EF553B",
           "#00cc96",
           "#ab63fa",
           "#FFA15A",
           "#19d3f3",
           "#FF6692",
           "#B6E880",
           "#FF97FF",
           "#FECB52"
          ],
          "font": {
           "color": "#2a3f5f"
          },
          "geo": {
           "bgcolor": "white",
           "lakecolor": "white",
           "landcolor": "#E5ECF6",
           "showlakes": true,
           "showland": true,
           "subunitcolor": "white"
          },
          "hoverlabel": {
           "align": "left"
          },
          "hovermode": "closest",
          "mapbox": {
           "style": "light"
          },
          "paper_bgcolor": "white",
          "plot_bgcolor": "#E5ECF6",
          "polar": {
           "angularaxis": {
            "gridcolor": "white",
            "linecolor": "white",
            "ticks": ""
           },
           "bgcolor": "#E5ECF6",
           "radialaxis": {
            "gridcolor": "white",
            "linecolor": "white",
            "ticks": ""
           }
          },
          "scene": {
           "xaxis": {
            "backgroundcolor": "#E5ECF6",
            "gridcolor": "white",
            "gridwidth": 2,
            "linecolor": "white",
            "showbackground": true,
            "ticks": "",
            "zerolinecolor": "white"
           },
           "yaxis": {
            "backgroundcolor": "#E5ECF6",
            "gridcolor": "white",
            "gridwidth": 2,
            "linecolor": "white",
            "showbackground": true,
            "ticks": "",
            "zerolinecolor": "white"
           },
           "zaxis": {
            "backgroundcolor": "#E5ECF6",
            "gridcolor": "white",
            "gridwidth": 2,
            "linecolor": "white",
            "showbackground": true,
            "ticks": "",
            "zerolinecolor": "white"
           }
          },
          "shapedefaults": {
           "line": {
            "color": "#2a3f5f"
           }
          },
          "ternary": {
           "aaxis": {
            "gridcolor": "white",
            "linecolor": "white",
            "ticks": ""
           },
           "baxis": {
            "gridcolor": "white",
            "linecolor": "white",
            "ticks": ""
           },
           "bgcolor": "#E5ECF6",
           "caxis": {
            "gridcolor": "white",
            "linecolor": "white",
            "ticks": ""
           }
          },
          "title": {
           "x": 0.05
          },
          "xaxis": {
           "automargin": true,
           "gridcolor": "white",
           "linecolor": "white",
           "ticks": "",
           "title": {
            "standoff": 15
           },
           "zerolinecolor": "white",
           "zerolinewidth": 2
          },
          "yaxis": {
           "automargin": true,
           "gridcolor": "white",
           "linecolor": "white",
           "ticks": "",
           "title": {
            "standoff": 15
           },
           "zerolinecolor": "white",
           "zerolinewidth": 2
          }
         }
        },
        "xaxis": {
         "anchor": "y",
         "domain": [
          0,
          0.94
         ],
         "gridcolor": "lightgray",
         "linecolor": "gray",
         "mirror": true,
         "title": {
          "text": "<b>Date</b>"
         }
        },
        "yaxis": {
         "anchor": "x",
         "domain": [
          0,
          1
         ],
         "gridcolor": "lightgray",
         "linecolor": "gray",
         "mirror": true,
         "title": {
          "text": "<b>엄격도 지수</b>"
         }
        },
        "yaxis2": {
         "anchor": "x",
         "overlaying": "y",
         "side": "right",
         "title": {
          "text": "<b>전파율</b>"
         }
        }
       }
      }
     },
     "metadata": {},
     "output_type": "display_data"
    }
   ],
   "source": [
    "fig = fig = make_subplots(specs=[[{\"secondary_y\": True}]])\n",
    "\n",
    "\n",
    "fig.add_trace(go.Scatter(x=df['date'], y=df['stringency'], mode='lines', line=dict(color='red'), name=\"엄격도 지수\"), secondary_y=False)\n",
    "fig.add_trace(go.Scatter(x=df['date'], y=a_df['alpha'], mode='lines', line=dict(color='blue'), name=\"전파율\"), secondary_y=True)\n",
    "\n",
    "# add vrect\n",
    "fig.add_vrect(x0='2020-12-10', x1='2020-12-31', fillcolor='lightseagreen', opacity=0.25, line_width=0) # 2020-12-24\n",
    "fig.add_vrect(x0='2021-02-01', x1='2021-02-22', fillcolor='lightseagreen', opacity=0.25, line_width=0) # 2021-02-15 down\n",
    "fig.add_vrect(x0='2021-06-28', x1='2021-07-19', fillcolor='lightseagreen', opacity=0.25, line_width=0) # 2021-07-12 up\n",
    "fig.add_vrect(x0='2022-04-04', x1='2022-04-25', fillcolor='lightseagreen', opacity=0.25, line_width=0) # 2022-04-18 down\n",
    "fig.add_vrect(x0='2022-01-05', x1='2022-02-01', fillcolor='pink', opacity=0.4, line_width=0) # Dinn\n",
    "\n",
    "fig.update_layout(plot_bgcolor ='white',\n",
    "                  margin_t=15,\n",
    "                  margin_b=15,\n",
    "                  margin_r=10,\n",
    "                  legend=dict(x=0.94, y=1,\n",
    "                              xanchor='right', \n",
    "                              yanchor='top',\n",
    "                              bordercolor=\"Black\",\n",
    "                              borderwidth=1))\n",
    "fig.update_xaxes(linecolor='gray', gridcolor='lightgray', mirror=True,\n",
    "                 title_text=\"<b>Date</b>\")\n",
    "fig.update_yaxes(linecolor='gray', gridcolor='lightgray', mirror=True, \n",
    "                 title_text=\"<b>엄격도 지수</b>\", secondary_y=False)\n",
    "fig.update_yaxes(title_text=\"<b>전파율</b>\", secondary_y=True)\n",
    "fig.show()\n",
    "fig.write_image(f'./images/Stringency.png', scale=9, width=1595, height=450)"
   ]
  },
  {
   "cell_type": "code",
   "execution_count": null,
   "metadata": {},
   "outputs": [],
   "source": []
  }
 ],
 "metadata": {
  "kernelspec": {
   "display_name": "Python 3 (ipykernel)",
   "language": "python",
   "name": "python3"
  },
  "language_info": {
   "codemirror_mode": {
    "name": "ipython",
    "version": 3
   },
   "file_extension": ".py",
   "mimetype": "text/x-python",
   "name": "python",
   "nbconvert_exporter": "python",
   "pygments_lexer": "ipython3",
   "version": "3.9.13"
  },
  "toc": {
   "base_numbering": 1,
   "nav_menu": {},
   "number_sections": true,
   "sideBar": true,
   "skip_h1_title": false,
   "title_cell": "Table of Contents",
   "title_sidebar": "Contents",
   "toc_cell": false,
   "toc_position": {},
   "toc_section_display": true,
   "toc_window_display": false
  }
 },
 "nbformat": 4,
 "nbformat_minor": 2
}
