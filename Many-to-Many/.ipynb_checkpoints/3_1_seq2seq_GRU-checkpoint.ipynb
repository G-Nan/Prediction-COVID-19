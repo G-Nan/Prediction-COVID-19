{
 "cells": [
  {
   "cell_type": "markdown",
   "id": "25be5931",
   "metadata": {},
   "source": [
    "# Packages & Functions"
   ]
  },
  {
   "cell_type": "markdown",
   "id": "d2cea53c",
   "metadata": {},
   "source": [
    "## Packages"
   ]
  },
  {
   "cell_type": "code",
   "execution_count": 1,
   "id": "0fdd13a7",
   "metadata": {
    "ExecuteTime": {
     "end_time": "2023-03-14T12:35:21.379112Z",
     "start_time": "2023-03-14T12:35:19.153406Z"
    }
   },
   "outputs": [],
   "source": [
    "import random\n",
    "\n",
    "import os\n",
    "import time\n",
    "import warnings\n",
    "\n",
    "import numpy as np\n",
    "import pandas as pd\n",
    "import matplotlib.pyplot as plt\n",
    "\n",
    "import torch\n",
    "import torch.nn as nn\n",
    "from torch.optim.adam import Adam\n",
    "from torch.utils.data import TensorDataset, DataLoader\n",
    "from torch.autograd import Variable\n",
    "from tqdm import tqdm_notebook\n",
    "from sklearn.preprocessing import StandardScaler, MinMaxScaler\n",
    "from sklearn.model_selection import train_test_split\n",
    "\n",
    "warnings.filterwarnings('ignore')\n",
    "device = torch.device('cuda:0' if torch.cuda.is_available() else 'cpu')"
   ]
  },
  {
   "cell_type": "markdown",
   "id": "ccd12db2",
   "metadata": {},
   "source": [
    "## Functions"
   ]
  },
  {
   "cell_type": "code",
   "execution_count": 2,
   "id": "8e1e4198",
   "metadata": {
    "ExecuteTime": {
     "end_time": "2023-03-14T12:35:21.390083Z",
     "start_time": "2023-03-14T12:35:21.386095Z"
    }
   },
   "outputs": [],
   "source": [
    "def outlier(df, col, z):\n",
    "    return df[abs(df[col] - np.mean(df[col]))/np.std(df[col])>z]"
   ]
  },
  {
   "cell_type": "code",
   "execution_count": 3,
   "id": "8bc253a3",
   "metadata": {
    "ExecuteTime": {
     "end_time": "2023-03-14T12:35:21.398063Z",
     "start_time": "2023-03-14T12:35:21.393076Z"
    }
   },
   "outputs": [],
   "source": [
    "def scailing(x, y):\n",
    "\n",
    "    ms = MinMaxScaler()\n",
    "    ss = StandardScaler()\n",
    "\n",
    "    x_ss = ss.fit_transform(x)\n",
    "    y_ms = ms.fit_transform(y)\n",
    "\n",
    "    return x_ss, y_ms"
   ]
  },
  {
   "cell_type": "code",
   "execution_count": 4,
   "id": "79d65a47",
   "metadata": {
    "ExecuteTime": {
     "end_time": "2023-03-14T12:35:21.406040Z",
     "start_time": "2023-03-14T12:35:21.400057Z"
    }
   },
   "outputs": [],
   "source": [
    "def window_sliding(x, y, iw, ow):\n",
    "    \n",
    "    x_ws, y_ws = list(), list()\n",
    "    for i in range(len(df)):\n",
    "        x_end = i + iw\n",
    "        y_end = x_end + ow\n",
    "        \n",
    "        if y_end > len(df):\n",
    "            break\n",
    "        \n",
    "        tx = x[i:x_end, :]\n",
    "        ty = y[x_end:y_end, :]\n",
    "        \n",
    "        x_ws.append(tx)\n",
    "        y_ws.append(ty)\n",
    "    \n",
    "    return torch.FloatTensor(x_ws).to(device), torch.FloatTensor(y_ws).to(device)"
   ]
  },
  {
   "cell_type": "code",
   "execution_count": 5,
   "id": "f263b9ad",
   "metadata": {
    "ExecuteTime": {
     "end_time": "2023-03-14T12:35:21.416014Z",
     "start_time": "2023-03-14T12:35:21.408035Z"
    }
   },
   "outputs": [],
   "source": [
    "from torch.utils.data import DataLoader, Dataset\n",
    "\n",
    "class windowDataset(Dataset):\n",
    "    def __init__(self, y, input_window, output_window, stride=1):\n",
    "        #총 데이터의 개수\n",
    "        L = y.shape[0]\n",
    "        #stride씩 움직일 때 생기는 총 sample의 개수\n",
    "        num_samples = (L - input_window - output_window) // stride + 1\n",
    "\n",
    "        #input과 output : shape = (window 크기, sample 개수)\n",
    "        X = np.zeros([input_window, num_samples])\n",
    "        Y = np.zeros([output_window, num_samples])\n",
    "\n",
    "        for i in np.arange(num_samples):\n",
    "            start_x = stride*i\n",
    "            end_x = start_x + input_window\n",
    "            X[:,i] = y[start_x:end_x]\n",
    "\n",
    "            start_y = stride*i + input_window\n",
    "            end_y = start_y + output_window\n",
    "            Y[:,i] = y[start_y:end_y]\n",
    "\n",
    "        X = X.reshape(X.shape[0], X.shape[1], 1).transpose((1,0,2))\n",
    "        Y = Y.reshape(Y.shape[0], Y.shape[1], 1).transpose((1,0,2))\n",
    "        self.x = X\n",
    "        self.y = Y\n",
    "        \n",
    "        self.len = len(X)\n",
    "    def __getitem__(self, i):\n",
    "        return self.x[i], self.y[i]\n",
    "    def __len__(self):\n",
    "        return self.len"
   ]
  },
  {
   "cell_type": "code",
   "execution_count": 6,
   "id": "5faa1ede",
   "metadata": {
    "ExecuteTime": {
     "end_time": "2023-03-14T12:35:21.424990Z",
     "start_time": "2023-03-14T12:35:21.418009Z"
    }
   },
   "outputs": [],
   "source": [
    "def plotting(train_loader, test_loader, actual):\n",
    "    with torch.no_grad():\n",
    "        train_pred = []\n",
    "        test_pred = []\n",
    "\n",
    "        for data in train_loader:\n",
    "            seq, target = data\n",
    "            out = model(seq)\n",
    "            train_pred += out.cpu().numpy().tolist()\n",
    "\n",
    "        for data in test_loader:\n",
    "            seq, target = data\n",
    "            out = model(seq)\n",
    "            test_pred += out.cpu().numpy().tolist()\n",
    "      \n",
    "    total = train_pred + test_pred\n",
    "    plt.figure(figsize=(20,10))\n",
    "    plt.plot(np.ones(100)*len(train_pred), np.linspace(0,1,100), '--', linewidth=0.6)\n",
    "    plt.plot(actual, '--')\n",
    "    plt.plot(total, 'b', linewidth=0.6)\n",
    "\n",
    "    plt.legend(['train boundary', 'actual', 'prediction'])\n",
    "    plt.show()\n"
   ]
  },
  {
   "cell_type": "markdown",
   "id": "f4046409",
   "metadata": {},
   "source": [
    "# Data Processing"
   ]
  },
  {
   "cell_type": "markdown",
   "id": "44dfbdb5",
   "metadata": {},
   "source": [
    "## Load Data"
   ]
  },
  {
   "cell_type": "code",
   "execution_count": 7,
   "id": "b5a9cfe9",
   "metadata": {
    "ExecuteTime": {
     "end_time": "2023-03-14T12:35:21.439950Z",
     "start_time": "2023-03-14T12:35:21.426985Z"
    }
   },
   "outputs": [
    {
     "name": "stdout",
     "output_type": "stream",
     "text": [
      "date          object\n",
      "시도명           object\n",
      "def_Acc        int64\n",
      "daily_Acc    float64\n",
      "DAC          float64\n",
      "DDAC         float64\n",
      "dtype: object\n"
     ]
    }
   ],
   "source": [
    "data = pd.read_csv('../Data/서울_data.csv')\n",
    "print(data.dtypes)"
   ]
  },
  {
   "cell_type": "markdown",
   "id": "ac0f1b6b",
   "metadata": {},
   "source": [
    "## Index & Col"
   ]
  },
  {
   "cell_type": "code",
   "execution_count": 8,
   "id": "60fa9388",
   "metadata": {
    "ExecuteTime": {
     "end_time": "2023-03-14T12:35:21.453913Z",
     "start_time": "2023-03-14T12:35:21.441946Z"
    }
   },
   "outputs": [],
   "source": [
    "df = data.loc[:, ['date', 'def_Acc']]\n",
    "df.rename(columns = {'def_Acc':'AC', 'date':'Date'}, inplace = True)\n",
    "df['DAC'] = df['AC'] - df['AC'].shift(1)\n",
    "df['DDAC'] = df['DAC'] - df['DAC'].shift(1)\n",
    "df['DDDAC'] = df['DDAC'] - df['DDAC'].shift(1)\n",
    "df['Date'] = pd.to_datetime(df['Date'])\n",
    "df.set_index('Date', inplace = True)\n",
    "df = df.loc[:, ['DAC', 'DDAC', 'DDDAC']]"
   ]
  },
  {
   "cell_type": "code",
   "execution_count": 9,
   "id": "eb314a1f",
   "metadata": {
    "ExecuteTime": {
     "end_time": "2023-03-14T12:35:21.471865Z",
     "start_time": "2023-03-14T12:35:21.456906Z"
    }
   },
   "outputs": [
    {
     "data": {
      "text/html": [
       "<div>\n",
       "<style scoped>\n",
       "    .dataframe tbody tr th:only-of-type {\n",
       "        vertical-align: middle;\n",
       "    }\n",
       "\n",
       "    .dataframe tbody tr th {\n",
       "        vertical-align: top;\n",
       "    }\n",
       "\n",
       "    .dataframe thead th {\n",
       "        text-align: right;\n",
       "    }\n",
       "</style>\n",
       "<table border=\"1\" class=\"dataframe\">\n",
       "  <thead>\n",
       "    <tr style=\"text-align: right;\">\n",
       "      <th></th>\n",
       "      <th>DAC</th>\n",
       "      <th>DDAC</th>\n",
       "      <th>DDDAC</th>\n",
       "    </tr>\n",
       "    <tr>\n",
       "      <th>Date</th>\n",
       "      <th></th>\n",
       "      <th></th>\n",
       "      <th></th>\n",
       "    </tr>\n",
       "  </thead>\n",
       "  <tbody>\n",
       "    <tr>\n",
       "      <th>2020-07-29</th>\n",
       "      <td>NaN</td>\n",
       "      <td>NaN</td>\n",
       "      <td>NaN</td>\n",
       "    </tr>\n",
       "    <tr>\n",
       "      <th>2020-07-30</th>\n",
       "      <td>3.0</td>\n",
       "      <td>NaN</td>\n",
       "      <td>NaN</td>\n",
       "    </tr>\n",
       "    <tr>\n",
       "      <th>2020-07-31</th>\n",
       "      <td>8.0</td>\n",
       "      <td>5.0</td>\n",
       "      <td>NaN</td>\n",
       "    </tr>\n",
       "    <tr>\n",
       "      <th>2020-08-01</th>\n",
       "      <td>2.0</td>\n",
       "      <td>-6.0</td>\n",
       "      <td>-11.0</td>\n",
       "    </tr>\n",
       "    <tr>\n",
       "      <th>2020-08-02</th>\n",
       "      <td>5.0</td>\n",
       "      <td>3.0</td>\n",
       "      <td>9.0</td>\n",
       "    </tr>\n",
       "  </tbody>\n",
       "</table>\n",
       "</div>"
      ],
      "text/plain": [
       "            DAC  DDAC  DDDAC\n",
       "Date                        \n",
       "2020-07-29  NaN   NaN    NaN\n",
       "2020-07-30  3.0   NaN    NaN\n",
       "2020-07-31  8.0   5.0    NaN\n",
       "2020-08-01  2.0  -6.0  -11.0\n",
       "2020-08-02  5.0   3.0    9.0"
      ]
     },
     "execution_count": 9,
     "metadata": {},
     "output_type": "execute_result"
    }
   ],
   "source": [
    "df.head()"
   ]
  },
  {
   "cell_type": "code",
   "execution_count": 10,
   "id": "f2dd5b47",
   "metadata": {
    "ExecuteTime": {
     "end_time": "2023-03-14T12:35:21.646134Z",
     "start_time": "2023-03-14T12:35:21.473861Z"
    }
   },
   "outputs": [
    {
     "data": {
      "text/html": [
       "<div>\n",
       "<style scoped>\n",
       "    .dataframe tbody tr th:only-of-type {\n",
       "        vertical-align: middle;\n",
       "    }\n",
       "\n",
       "    .dataframe tbody tr th {\n",
       "        vertical-align: top;\n",
       "    }\n",
       "\n",
       "    .dataframe thead th {\n",
       "        text-align: right;\n",
       "    }\n",
       "</style>\n",
       "<table border=\"1\" class=\"dataframe\">\n",
       "  <thead>\n",
       "    <tr style=\"text-align: right;\">\n",
       "      <th></th>\n",
       "      <th>date</th>\n",
       "      <th>시도명</th>\n",
       "      <th>def_Acc</th>\n",
       "      <th>daily_Acc</th>\n",
       "      <th>DAC</th>\n",
       "      <th>DDAC</th>\n",
       "    </tr>\n",
       "  </thead>\n",
       "  <tbody>\n",
       "    <tr>\n",
       "      <th>0</th>\n",
       "      <td>2020-07-29</td>\n",
       "      <td>서울</td>\n",
       "      <td>1589</td>\n",
       "      <td>NaN</td>\n",
       "      <td>NaN</td>\n",
       "      <td>NaN</td>\n",
       "    </tr>\n",
       "    <tr>\n",
       "      <th>1</th>\n",
       "      <td>2020-07-30</td>\n",
       "      <td>서울</td>\n",
       "      <td>1592</td>\n",
       "      <td>3.0</td>\n",
       "      <td>NaN</td>\n",
       "      <td>NaN</td>\n",
       "    </tr>\n",
       "    <tr>\n",
       "      <th>2</th>\n",
       "      <td>2020-07-31</td>\n",
       "      <td>서울</td>\n",
       "      <td>1600</td>\n",
       "      <td>8.0</td>\n",
       "      <td>5.0</td>\n",
       "      <td>NaN</td>\n",
       "    </tr>\n",
       "    <tr>\n",
       "      <th>3</th>\n",
       "      <td>2020-08-01</td>\n",
       "      <td>서울</td>\n",
       "      <td>1602</td>\n",
       "      <td>2.0</td>\n",
       "      <td>-6.0</td>\n",
       "      <td>-11.0</td>\n",
       "    </tr>\n",
       "    <tr>\n",
       "      <th>4</th>\n",
       "      <td>2020-08-02</td>\n",
       "      <td>서울</td>\n",
       "      <td>1607</td>\n",
       "      <td>5.0</td>\n",
       "      <td>3.0</td>\n",
       "      <td>9.0</td>\n",
       "    </tr>\n",
       "  </tbody>\n",
       "</table>\n",
       "</div>"
      ],
      "text/plain": [
       "         date 시도명  def_Acc  daily_Acc  DAC  DDAC\n",
       "0  2020-07-29  서울     1589        NaN  NaN   NaN\n",
       "1  2020-07-30  서울     1592        3.0  NaN   NaN\n",
       "2  2020-07-31  서울     1600        8.0  5.0   NaN\n",
       "3  2020-08-01  서울     1602        2.0 -6.0 -11.0\n",
       "4  2020-08-02  서울     1607        5.0  3.0   9.0"
      ]
     },
     "execution_count": 10,
     "metadata": {},
     "output_type": "execute_result"
    },
    {
     "data": {
      "image/png": "[encoded data removed]",
      "text/plain": [
       "<Figure size 2000x500 with 1 Axes>"
      ]
     },
     "metadata": {},
     "output_type": "display_data"
    }
   ],
   "source": [
    "plt.figure(figsize=(20,5))\n",
    "plt.plot(range(len(df)), df[\"DAC\"])\n",
    "data.head()"
   ]
  },
  {
   "cell_type": "markdown",
   "id": "1be04235",
   "metadata": {},
   "source": [
    "## Outlier Values"
   ]
  },
  {
   "cell_type": "code",
   "execution_count": 11,
   "id": "10470cb2",
   "metadata": {
    "ExecuteTime": {
     "end_time": "2023-03-14T12:35:21.664086Z",
     "start_time": "2023-03-14T12:35:21.648130Z"
    }
   },
   "outputs": [
    {
     "data": {
      "text/html": [
       "<div>\n",
       "<style scoped>\n",
       "    .dataframe tbody tr th:only-of-type {\n",
       "        vertical-align: middle;\n",
       "    }\n",
       "\n",
       "    .dataframe tbody tr th {\n",
       "        vertical-align: top;\n",
       "    }\n",
       "\n",
       "    .dataframe thead th {\n",
       "        text-align: right;\n",
       "    }\n",
       "</style>\n",
       "<table border=\"1\" class=\"dataframe\">\n",
       "  <thead>\n",
       "    <tr style=\"text-align: right;\">\n",
       "      <th></th>\n",
       "      <th>DAC</th>\n",
       "      <th>DDAC</th>\n",
       "      <th>DDDAC</th>\n",
       "    </tr>\n",
       "  </thead>\n",
       "  <tbody>\n",
       "    <tr>\n",
       "      <th>count</th>\n",
       "      <td>9.490000e+02</td>\n",
       "      <td>9.480000e+02</td>\n",
       "      <td>9.470000e+02</td>\n",
       "    </tr>\n",
       "    <tr>\n",
       "      <th>mean</th>\n",
       "      <td>6.251764e+03</td>\n",
       "      <td>2.114979e+00</td>\n",
       "      <td>-1.478353e-01</td>\n",
       "    </tr>\n",
       "    <tr>\n",
       "      <th>std</th>\n",
       "      <td>1.240460e+05</td>\n",
       "      <td>2.139547e+05</td>\n",
       "      <td>3.910851e+05</td>\n",
       "    </tr>\n",
       "    <tr>\n",
       "      <th>min</th>\n",
       "      <td>-2.613846e+06</td>\n",
       "      <td>-2.704101e+06</td>\n",
       "      <td>-8.073727e+06</td>\n",
       "    </tr>\n",
       "    <tr>\n",
       "      <th>25%</th>\n",
       "      <td>1.830000e+02</td>\n",
       "      <td>-4.177500e+02</td>\n",
       "      <td>-1.290000e+02</td>\n",
       "    </tr>\n",
       "    <tr>\n",
       "      <th>50%</th>\n",
       "      <td>8.590000e+02</td>\n",
       "      <td>-2.150000e+01</td>\n",
       "      <td>3.000000e+00</td>\n",
       "    </tr>\n",
       "    <tr>\n",
       "      <th>75%</th>\n",
       "      <td>5.967000e+03</td>\n",
       "      <td>1.900000e+01</td>\n",
       "      <td>1.390000e+02</td>\n",
       "    </tr>\n",
       "    <tr>\n",
       "      <th>max</th>\n",
       "      <td>2.755780e+06</td>\n",
       "      <td>5.369626e+06</td>\n",
       "      <td>8.049505e+06</td>\n",
       "    </tr>\n",
       "  </tbody>\n",
       "</table>\n",
       "</div>"
      ],
      "text/plain": [
       "                DAC          DDAC         DDDAC\n",
       "count  9.490000e+02  9.480000e+02  9.470000e+02\n",
       "mean   6.251764e+03  2.114979e+00 -1.478353e-01\n",
       "std    1.240460e+05  2.139547e+05  3.910851e+05\n",
       "min   -2.613846e+06 -2.704101e+06 -8.073727e+06\n",
       "25%    1.830000e+02 -4.177500e+02 -1.290000e+02\n",
       "50%    8.590000e+02 -2.150000e+01  3.000000e+00\n",
       "75%    5.967000e+03  1.900000e+01  1.390000e+02\n",
       "max    2.755780e+06  5.369626e+06  8.049505e+06"
      ]
     },
     "execution_count": 11,
     "metadata": {},
     "output_type": "execute_result"
    }
   ],
   "source": [
    "df.describe()"
   ]
  },
  {
   "cell_type": "code",
   "execution_count": 12,
   "id": "b5c228c4",
   "metadata": {
    "ExecuteTime": {
     "end_time": "2023-03-14T12:35:21.681041Z",
     "start_time": "2023-03-14T12:35:21.668093Z"
    }
   },
   "outputs": [
    {
     "data": {
      "text/html": [
       "<div>\n",
       "<style scoped>\n",
       "    .dataframe tbody tr th:only-of-type {\n",
       "        vertical-align: middle;\n",
       "    }\n",
       "\n",
       "    .dataframe tbody tr th {\n",
       "        vertical-align: top;\n",
       "    }\n",
       "\n",
       "    .dataframe thead th {\n",
       "        text-align: right;\n",
       "    }\n",
       "</style>\n",
       "<table border=\"1\" class=\"dataframe\">\n",
       "  <thead>\n",
       "    <tr style=\"text-align: right;\">\n",
       "      <th></th>\n",
       "      <th>DAC</th>\n",
       "      <th>DDAC</th>\n",
       "      <th>DDDAC</th>\n",
       "    </tr>\n",
       "    <tr>\n",
       "      <th>Date</th>\n",
       "      <th></th>\n",
       "      <th></th>\n",
       "      <th></th>\n",
       "    </tr>\n",
       "  </thead>\n",
       "  <tbody>\n",
       "    <tr>\n",
       "      <th>2022-03-30</th>\n",
       "      <td>-2613846.0</td>\n",
       "      <td>-2679879.0</td>\n",
       "      <td>-2711722.0</td>\n",
       "    </tr>\n",
       "    <tr>\n",
       "      <th>2022-03-31</th>\n",
       "      <td>2755780.0</td>\n",
       "      <td>5369626.0</td>\n",
       "      <td>8049505.0</td>\n",
       "    </tr>\n",
       "  </tbody>\n",
       "</table>\n",
       "</div>"
      ],
      "text/plain": [
       "                  DAC       DDAC      DDDAC\n",
       "Date                                       \n",
       "2022-03-30 -2613846.0 -2679879.0 -2711722.0\n",
       "2022-03-31  2755780.0  5369626.0  8049505.0"
      ]
     },
     "execution_count": 12,
     "metadata": {},
     "output_type": "execute_result"
    }
   ],
   "source": [
    "outlier_list = outlier(df, 'DAC', 1.58)\n",
    "\n",
    "outlier_list"
   ]
  },
  {
   "cell_type": "code",
   "execution_count": 13,
   "id": "f4a60638",
   "metadata": {
    "ExecuteTime": {
     "end_time": "2023-03-14T12:35:21.697000Z",
     "start_time": "2023-03-14T12:35:21.683036Z"
    }
   },
   "outputs": [],
   "source": [
    "data = data.copy()\n",
    "data['def_Acc'][609] = 2699163\n",
    "df = data.loc[:, ['date', 'def_Acc']]\n",
    "df.rename(columns = {'def_Acc':'AC', 'date':'Date'}, inplace = True)\n",
    "df['DAC'] = df['AC'] - df['AC'].shift(1)\n",
    "df['DDAC'] = df['DAC'] - df['DAC'].shift(1)\n",
    "df['DDDAC'] = df['DDAC'] - df['DDAC'].shift(1)\n",
    "df['Date'] = pd.to_datetime(df['Date'])\n",
    "df.set_index('Date', inplace = True)\n",
    "df = df.loc[:, ['DAC', 'DDAC', 'DDDAC']]"
   ]
  },
  {
   "cell_type": "code",
   "execution_count": 14,
   "id": "b561c127",
   "metadata": {
    "ExecuteTime": {
     "end_time": "2023-03-14T12:35:21.718939Z",
     "start_time": "2023-03-14T12:35:21.698993Z"
    }
   },
   "outputs": [
    {
     "data": {
      "text/html": [
       "<div>\n",
       "<style scoped>\n",
       "    .dataframe tbody tr th:only-of-type {\n",
       "        vertical-align: middle;\n",
       "    }\n",
       "\n",
       "    .dataframe tbody tr th {\n",
       "        vertical-align: top;\n",
       "    }\n",
       "\n",
       "    .dataframe thead th {\n",
       "        text-align: right;\n",
       "    }\n",
       "</style>\n",
       "<table border=\"1\" class=\"dataframe\">\n",
       "  <thead>\n",
       "    <tr style=\"text-align: right;\">\n",
       "      <th></th>\n",
       "      <th>DAC</th>\n",
       "      <th>DDAC</th>\n",
       "      <th>DDDAC</th>\n",
       "    </tr>\n",
       "  </thead>\n",
       "  <tbody>\n",
       "    <tr>\n",
       "      <th>count</th>\n",
       "      <td>949.000000</td>\n",
       "      <td>948.000000</td>\n",
       "      <td>947.000000</td>\n",
       "    </tr>\n",
       "    <tr>\n",
       "      <th>mean</th>\n",
       "      <td>6251.763962</td>\n",
       "      <td>2.114979</td>\n",
       "      <td>-0.147835</td>\n",
       "    </tr>\n",
       "    <tr>\n",
       "      <th>std</th>\n",
       "      <td>13432.845603</td>\n",
       "      <td>5081.627059</td>\n",
       "      <td>8056.829294</td>\n",
       "    </tr>\n",
       "    <tr>\n",
       "      <th>min</th>\n",
       "      <td>0.000000</td>\n",
       "      <td>-46374.000000</td>\n",
       "      <td>-93354.000000</td>\n",
       "    </tr>\n",
       "    <tr>\n",
       "      <th>25%</th>\n",
       "      <td>184.000000</td>\n",
       "      <td>-417.750000</td>\n",
       "      <td>-129.000000</td>\n",
       "    </tr>\n",
       "    <tr>\n",
       "      <th>50%</th>\n",
       "      <td>905.000000</td>\n",
       "      <td>-21.500000</td>\n",
       "      <td>3.000000</td>\n",
       "    </tr>\n",
       "    <tr>\n",
       "      <th>75%</th>\n",
       "      <td>5970.000000</td>\n",
       "      <td>19.000000</td>\n",
       "      <td>139.000000</td>\n",
       "    </tr>\n",
       "    <tr>\n",
       "      <th>max</th>\n",
       "      <td>128371.000000</td>\n",
       "      <td>46980.000000</td>\n",
       "      <td>56804.000000</td>\n",
       "    </tr>\n",
       "  </tbody>\n",
       "</table>\n",
       "</div>"
      ],
      "text/plain": [
       "                 DAC          DDAC         DDDAC\n",
       "count     949.000000    948.000000    947.000000\n",
       "mean     6251.763962      2.114979     -0.147835\n",
       "std     13432.845603   5081.627059   8056.829294\n",
       "min         0.000000 -46374.000000 -93354.000000\n",
       "25%       184.000000   -417.750000   -129.000000\n",
       "50%       905.000000    -21.500000      3.000000\n",
       "75%      5970.000000     19.000000    139.000000\n",
       "max    128371.000000  46980.000000  56804.000000"
      ]
     },
     "execution_count": 14,
     "metadata": {},
     "output_type": "execute_result"
    }
   ],
   "source": [
    "df.describe()"
   ]
  },
  {
   "cell_type": "markdown",
   "id": "ac03c266",
   "metadata": {},
   "source": [
    "## Null Values"
   ]
  },
  {
   "cell_type": "code",
   "execution_count": 15,
   "id": "760a2c4d",
   "metadata": {
    "ExecuteTime": {
     "end_time": "2023-03-14T12:35:21.727916Z",
     "start_time": "2023-03-14T12:35:21.720936Z"
    }
   },
   "outputs": [
    {
     "data": {
      "text/plain": [
       "DAC      1\n",
       "DDAC     2\n",
       "DDDAC    3\n",
       "dtype: int64"
      ]
     },
     "execution_count": 15,
     "metadata": {},
     "output_type": "execute_result"
    }
   ],
   "source": [
    "df.isnull().sum()"
   ]
  },
  {
   "cell_type": "code",
   "execution_count": 16,
   "id": "9e0b1c7d",
   "metadata": {
    "ExecuteTime": {
     "end_time": "2023-03-14T12:35:21.740881Z",
     "start_time": "2023-03-14T12:35:21.729910Z"
    }
   },
   "outputs": [
    {
     "data": {
      "text/html": [
       "<div>\n",
       "<style scoped>\n",
       "    .dataframe tbody tr th:only-of-type {\n",
       "        vertical-align: middle;\n",
       "    }\n",
       "\n",
       "    .dataframe tbody tr th {\n",
       "        vertical-align: top;\n",
       "    }\n",
       "\n",
       "    .dataframe thead th {\n",
       "        text-align: right;\n",
       "    }\n",
       "</style>\n",
       "<table border=\"1\" class=\"dataframe\">\n",
       "  <thead>\n",
       "    <tr style=\"text-align: right;\">\n",
       "      <th></th>\n",
       "      <th>DAC</th>\n",
       "      <th>DDAC</th>\n",
       "      <th>DDDAC</th>\n",
       "    </tr>\n",
       "    <tr>\n",
       "      <th>Date</th>\n",
       "      <th></th>\n",
       "      <th></th>\n",
       "      <th></th>\n",
       "    </tr>\n",
       "  </thead>\n",
       "  <tbody>\n",
       "    <tr>\n",
       "      <th>2020-08-01</th>\n",
       "      <td>2.0</td>\n",
       "      <td>-6.0</td>\n",
       "      <td>-11.0</td>\n",
       "    </tr>\n",
       "    <tr>\n",
       "      <th>2020-08-02</th>\n",
       "      <td>5.0</td>\n",
       "      <td>3.0</td>\n",
       "      <td>9.0</td>\n",
       "    </tr>\n",
       "    <tr>\n",
       "      <th>2020-08-03</th>\n",
       "      <td>5.0</td>\n",
       "      <td>0.0</td>\n",
       "      <td>-3.0</td>\n",
       "    </tr>\n",
       "    <tr>\n",
       "      <th>2020-08-04</th>\n",
       "      <td>9.0</td>\n",
       "      <td>4.0</td>\n",
       "      <td>4.0</td>\n",
       "    </tr>\n",
       "    <tr>\n",
       "      <th>2020-08-05</th>\n",
       "      <td>6.0</td>\n",
       "      <td>-3.0</td>\n",
       "      <td>-7.0</td>\n",
       "    </tr>\n",
       "  </tbody>\n",
       "</table>\n",
       "</div>"
      ],
      "text/plain": [
       "            DAC  DDAC  DDDAC\n",
       "Date                        \n",
       "2020-08-01  2.0  -6.0  -11.0\n",
       "2020-08-02  5.0   3.0    9.0\n",
       "2020-08-03  5.0   0.0   -3.0\n",
       "2020-08-04  9.0   4.0    4.0\n",
       "2020-08-05  6.0  -3.0   -7.0"
      ]
     },
     "execution_count": 16,
     "metadata": {},
     "output_type": "execute_result"
    }
   ],
   "source": [
    "df.dropna(inplace = True)\n",
    "df.head()"
   ]
  },
  {
   "cell_type": "code",
   "execution_count": 17,
   "id": "431e76ca",
   "metadata": {
    "ExecuteTime": {
     "end_time": "2023-03-14T12:35:21.891505Z",
     "start_time": "2023-03-14T12:35:21.742876Z"
    }
   },
   "outputs": [
    {
     "data": {
      "text/html": [
       "<div>\n",
       "<style scoped>\n",
       "    .dataframe tbody tr th:only-of-type {\n",
       "        vertical-align: middle;\n",
       "    }\n",
       "\n",
       "    .dataframe tbody tr th {\n",
       "        vertical-align: top;\n",
       "    }\n",
       "\n",
       "    .dataframe thead th {\n",
       "        text-align: right;\n",
       "    }\n",
       "</style>\n",
       "<table border=\"1\" class=\"dataframe\">\n",
       "  <thead>\n",
       "    <tr style=\"text-align: right;\">\n",
       "      <th></th>\n",
       "      <th>DAC</th>\n",
       "      <th>DDAC</th>\n",
       "      <th>DDDAC</th>\n",
       "    </tr>\n",
       "    <tr>\n",
       "      <th>Date</th>\n",
       "      <th></th>\n",
       "      <th></th>\n",
       "      <th></th>\n",
       "    </tr>\n",
       "  </thead>\n",
       "  <tbody>\n",
       "    <tr>\n",
       "      <th>2020-08-01</th>\n",
       "      <td>2.0</td>\n",
       "      <td>-6.0</td>\n",
       "      <td>-11.0</td>\n",
       "    </tr>\n",
       "    <tr>\n",
       "      <th>2020-08-02</th>\n",
       "      <td>5.0</td>\n",
       "      <td>3.0</td>\n",
       "      <td>9.0</td>\n",
       "    </tr>\n",
       "    <tr>\n",
       "      <th>2020-08-03</th>\n",
       "      <td>5.0</td>\n",
       "      <td>0.0</td>\n",
       "      <td>-3.0</td>\n",
       "    </tr>\n",
       "    <tr>\n",
       "      <th>2020-08-04</th>\n",
       "      <td>9.0</td>\n",
       "      <td>4.0</td>\n",
       "      <td>4.0</td>\n",
       "    </tr>\n",
       "    <tr>\n",
       "      <th>2020-08-05</th>\n",
       "      <td>6.0</td>\n",
       "      <td>-3.0</td>\n",
       "      <td>-7.0</td>\n",
       "    </tr>\n",
       "  </tbody>\n",
       "</table>\n",
       "</div>"
      ],
      "text/plain": [
       "            DAC  DDAC  DDDAC\n",
       "Date                        \n",
       "2020-08-01  2.0  -6.0  -11.0\n",
       "2020-08-02  5.0   3.0    9.0\n",
       "2020-08-03  5.0   0.0   -3.0\n",
       "2020-08-04  9.0   4.0    4.0\n",
       "2020-08-05  6.0  -3.0   -7.0"
      ]
     },
     "execution_count": 17,
     "metadata": {},
     "output_type": "execute_result"
    },
    {
     "data": {
      "image/png": "[encoded data removed]",
      "text/plain": [
       "<Figure size 2000x500 with 1 Axes>"
      ]
     },
     "metadata": {},
     "output_type": "display_data"
    }
   ],
   "source": [
    "plt.figure(figsize=(20,5))\n",
    "plt.plot(range(len(df)), df[\"DAC\"])\n",
    "df.head()"
   ]
  },
  {
   "cell_type": "markdown",
   "id": "f2774878",
   "metadata": {},
   "source": [
    "## Split Target"
   ]
  },
  {
   "cell_type": "code",
   "execution_count": 18,
   "id": "1eca2e51",
   "metadata": {
    "ExecuteTime": {
     "end_time": "2023-03-14T12:35:21.901453Z",
     "start_time": "2023-03-14T12:35:21.893474Z"
    }
   },
   "outputs": [
    {
     "name": "stdout",
     "output_type": "stream",
     "text": [
      "            DAC  DDAC  DDDAC\n",
      "Date                        \n",
      "2020-08-01  2.0  -6.0  -11.0\n",
      "2020-08-02  5.0   3.0    9.0\n",
      "2020-08-03  5.0   0.0   -3.0\n",
      "2020-08-04  9.0   4.0    4.0\n",
      "2020-08-05  6.0  -3.0   -7.0\n",
      "            DAC\n",
      "Date           \n",
      "2020-08-01  2.0\n",
      "2020-08-02  5.0\n",
      "2020-08-03  5.0\n",
      "2020-08-04  9.0\n",
      "2020-08-05  6.0\n"
     ]
    }
   ],
   "source": [
    "x = df.iloc[:, 0:]\n",
    "y = df.iloc[:,:1]\n",
    "print(x.head())\n",
    "print(y.head())"
   ]
  },
  {
   "cell_type": "markdown",
   "id": "a85d2754",
   "metadata": {},
   "source": [
    "## Scailing"
   ]
  },
  {
   "cell_type": "code",
   "execution_count": 19,
   "id": "b8ac1538",
   "metadata": {
    "ExecuteTime": {
     "end_time": "2023-03-14T12:35:21.914417Z",
     "start_time": "2023-03-14T12:35:21.905471Z"
    }
   },
   "outputs": [],
   "source": [
    "ms = MinMaxScaler()\n",
    "ss = StandardScaler()\n",
    "\n",
    "x_ss = ss.fit_transform(x)\n",
    "y_ms = ms.fit_transform(y)"
   ]
  },
  {
   "cell_type": "code",
   "execution_count": 20,
   "id": "09af1179",
   "metadata": {
    "ExecuteTime": {
     "end_time": "2023-03-14T12:35:21.921398Z",
     "start_time": "2023-03-14T12:35:21.916411Z"
    }
   },
   "outputs": [
    {
     "name": "stdout",
     "output_type": "stream",
     "text": [
      "[[-4.66102489e-01 -1.59632581e-03 -1.34766403e-03]\n",
      " [-4.65879223e-01  1.74760480e-04  1.13601377e-03]\n",
      " [-4.65879223e-01 -4.15601616e-04 -3.54192911e-04]\n",
      " [-4.65581534e-01  3.71547845e-04  5.15094318e-04]\n",
      " [-4.65804800e-01 -1.00596371e-03 -8.50928470e-04]]\n",
      "\n",
      "[[1.55798428e-05]\n",
      " [3.89496070e-05]\n",
      " [3.89496070e-05]\n",
      " [7.01092926e-05]\n",
      " [4.67395284e-05]]\n"
     ]
    }
   ],
   "source": [
    "print(x_ss[:5])\n",
    "print()\n",
    "print(y_ms[:5])"
   ]
  },
  {
   "cell_type": "markdown",
   "id": "4bd2a1de",
   "metadata": {},
   "source": [
    "## Window Slide"
   ]
  },
  {
   "cell_type": "code",
   "execution_count": 21,
   "id": "87af9284",
   "metadata": {
    "ExecuteTime": {
     "end_time": "2023-03-14T12:35:22.635304Z",
     "start_time": "2023-03-14T12:35:22.458668Z"
    }
   },
   "outputs": [],
   "source": [
    "x = x.to_numpy()\n",
    "y = y.to_numpy()\n",
    "x, y = window_sliding(x, y, 60, 7)\n",
    "x_ss, y_ms = window_sliding(x_ss, y_ms, 60, 7)"
   ]
  },
  {
   "cell_type": "markdown",
   "id": "43d60ed2",
   "metadata": {},
   "source": [
    "## Split Train & Test"
   ]
  },
  {
   "cell_type": "code",
   "execution_count": 22,
   "id": "994beb7e",
   "metadata": {
    "ExecuteTime": {
     "end_time": "2023-03-14T12:35:22.933424Z",
     "start_time": "2023-03-14T12:35:22.928465Z"
    }
   },
   "outputs": [
    {
     "name": "stdout",
     "output_type": "stream",
     "text": [
      "torch.Size([600, 60, 3])\n",
      "torch.Size([600, 7, 1])\n",
      "torch.Size([281, 60, 3])\n",
      "torch.Size([281, 7, 1])\n"
     ]
    }
   ],
   "source": [
    "x_train = x_ss[:600]\n",
    "y_train = y_ms[:600]\n",
    "x_test = x_ss[600:]\n",
    "y_test = y_ms[600:]\n",
    "print(x_train.shape)\n",
    "print(y_train.shape)\n",
    "print(x_test.shape)\n",
    "print(y_test.shape)"
   ]
  },
  {
   "cell_type": "markdown",
   "id": "b05fd77e",
   "metadata": {},
   "source": [
    "## Data Loader"
   ]
  },
  {
   "cell_type": "code",
   "execution_count": 23,
   "id": "794ebfe4",
   "metadata": {
    "ExecuteTime": {
     "end_time": "2023-03-14T12:35:23.357490Z",
     "start_time": "2023-03-14T12:35:23.352503Z"
    }
   },
   "outputs": [],
   "source": [
    "train = torch.utils.data.TensorDataset(x_train, y_train)\n",
    "test = torch.utils.data.TensorDataset(x_test, y_test)\n",
    "\n",
    "batch_size = 64\n",
    "train_loader = torch.utils.data.DataLoader(dataset = train, batch_size = batch_size, shuffle = False)\n",
    "test_loader = torch.utils.data.DataLoader(dataset = test, batch_size = batch_size, shuffle = False)"
   ]
  },
  {
   "cell_type": "markdown",
   "id": "745eaa69",
   "metadata": {},
   "source": [
    "# Model"
   ]
  },
  {
   "cell_type": "markdown",
   "id": "9686b2b8",
   "metadata": {},
   "source": [
    "## Define Model1"
   ]
  },
  {
   "cell_type": "code",
   "execution_count": 24,
   "id": "2ec52865",
   "metadata": {
    "ExecuteTime": {
     "end_time": "2023-03-14T12:37:52.760185Z",
     "start_time": "2023-03-14T12:37:52.752206Z"
    }
   },
   "outputs": [],
   "source": [
    "class encoder(nn.Module):\n",
    "    def __init__(self, input_size, hidden_size, num_layers, dropout, device):\n",
    "        super(encoder, self).__init__()\n",
    "        self.device = device\n",
    "        self.input_size = input_size\n",
    "        self.hidden_size = hidden_size\n",
    "        self.num_layers = num_layers\n",
    "        self.gru = nn.GRU(input_size = input_size, \n",
    "                          hidden_size = hidden_size, \n",
    "                          num_layers = num_layers, \n",
    "                          batch_first=True, \n",
    "                          dropout = 0.3)\n",
    "        \n",
    "    def forward(self, x):\n",
    "        #print('Encoder')\n",
    "        h0 = torch.zeros(self.num_layers, x.size()[0], self.hidden_size).to(self.device)\n",
    "        #print(\"input_size: \", x.shape)\n",
    "        out, hn = self.gru(x, h0)\n",
    "        #print(\"out_size: \", out.shape)\n",
    "        #print(\"hidden_size: \", hn[0].shape)\n",
    "        \n",
    "        return out, hn"
   ]
  },
  {
   "cell_type": "code",
   "execution_count": 25,
   "id": "dcfa15f9",
   "metadata": {
    "ExecuteTime": {
     "end_time": "2023-03-14T12:38:03.264941Z",
     "start_time": "2023-03-14T12:38:03.258945Z"
    }
   },
   "outputs": [],
   "source": [
    "class decoder(nn.Module):\n",
    "    def __init__(self, output_size, hidden_size, num_layers, dropout, device):\n",
    "        super(decoder, self).__init__()\n",
    "        self.device = device\n",
    "        self.output_size = output_size\n",
    "        self.hidden_size = hidden_size\n",
    "        self.num_layers = num_layers\n",
    "        \n",
    "        self.gru = nn.GRU(input_size = output_size,\n",
    "                          hidden_size = hidden_size,\n",
    "                          num_layers = num_layers,\n",
    "                          batch_first = True,\n",
    "                          dropout = 0.3)\n",
    "        self.linear = nn.Linear(hidden_size, 1)\n",
    "        \n",
    "    def forward(self, x, hn):\n",
    "        #print('Decoder')\n",
    "        #print(\"x_size: \", x.shape)\n",
    "        x = x.unsqueeze(-1)\n",
    "        #print(\"x_input_size: \", x_input.shape)\n",
    "        out, hn = self.gru(x, hn)\n",
    "        #print(\"out_size: \", out.shape)\n",
    "        #print(\"hn_size: \", hn[0].shape)\n",
    "        out = self.linear(out)\n",
    "        #print(\"out_size: \", out.shape)\n",
    "        \n",
    "        return out, hn"
   ]
  },
  {
   "cell_type": "code",
   "execution_count": 26,
   "id": "cd674256",
   "metadata": {
    "ExecuteTime": {
     "end_time": "2023-03-14T12:38:05.779985Z",
     "start_time": "2023-03-14T12:38:05.771010Z"
    }
   },
   "outputs": [],
   "source": [
    "class encoder_decoder(nn.Module):\n",
    "    def __init__(self, input_size, output_size, hidden_size, dropout, device):\n",
    "        super(encoder_decoder, self).__init__()\n",
    "        self.device = device\n",
    "        self.input_size = input_size\n",
    "        self.output_size = output_size\n",
    "        self.hidden_size = hidden_size\n",
    "\n",
    "        self.encoder = encoder(input_size = input_size, \n",
    "                               hidden_size = hidden_size,\n",
    "                               num_layers = num_layers,\n",
    "                               dropout = 0.3,\n",
    "                               device = device)\n",
    "        \n",
    "        self.decoder = decoder(output_size = output_size, \n",
    "                               hidden_size = hidden_size,\n",
    "                               num_layers = num_layers,\n",
    "                               dropout = 0.3,\n",
    "                               device = device)\n",
    "\n",
    "    def forward(self, x, y, target_len, teacher_forcing_ratio):\n",
    "        batch_size = x.shape[0]\n",
    "        input_size = x.shape[2]\n",
    "        #print(\"x_size: \", x.shape)\n",
    "        outputs = torch.zeros(batch_size, target_len, 1)\n",
    "        #print(\"y_size: \", y.shape)\n",
    "        #print('')\n",
    "        \n",
    "        #print(\"Encoding\")\n",
    "        _, hn = self.encoder(x)\n",
    "        #print(\"_ size: \", _.shape)\n",
    "        #print(\"hidden_size: \", hn[0].shape)\n",
    "        decoder_input = x[:,-1, 0].unsqueeze(-1)\n",
    "        #print(\"decoder_input_size: \", decoder_input.shape)\n",
    "        #print('')\n",
    "        \n",
    "        #print('Decoding')\n",
    "        #원하는 길이가 될 때까지 decoder를 실행한다.\n",
    "        for t in range(target_len): \n",
    "            out, hn = self.decoder(decoder_input, hn)\n",
    "            #print(\"out_size: \", out.shape)\n",
    "            out =  out.squeeze(1)\n",
    "            #print(\"out_size: \", out.shape)\n",
    "            \n",
    "            # teacher forcing을 구현한다.\n",
    "            # teacher forcing에 해당하면 다음 인풋값으로는 예측한 값이 아니라 실제 값을 사용한다.\n",
    "            if random.random() < teacher_forcing_ratio:\n",
    "                decoder_input = y[:, t, :]\n",
    "            else:\n",
    "                decoder_input = out\n",
    "            #print(\"out_size: \", out.shape)\n",
    "            outputs[:,t,:] = out\n",
    "\n",
    "        return outputs"
   ]
  },
  {
   "cell_type": "code",
   "execution_count": 27,
   "id": "2e2a09e5",
   "metadata": {
    "ExecuteTime": {
     "end_time": "2023-03-14T12:38:07.844064Z",
     "start_time": "2023-03-14T12:38:06.148506Z"
    }
   },
   "outputs": [],
   "source": [
    "input_size = 3\n",
    "output_size = 1\n",
    "hidden_size = 16\n",
    "num_layers = 1\n",
    "\n",
    "\n",
    "model = encoder_decoder(input_size = input_size, \n",
    "                        output_size = output_size, \n",
    "                        hidden_size = hidden_size,\n",
    "                        dropout = 0.25,\n",
    "                        device = device).to(device)\n",
    "\n",
    "\n",
    "criterion = nn.MSELoss()\n",
    "lr = 1e-3\n",
    "num_epochs = 10000\n",
    "optimizer = Adam(model.parameters(), lr = lr)\n",
    "patience = 10"
   ]
  },
  {
   "cell_type": "code",
   "execution_count": 28,
   "id": "e4800056",
   "metadata": {
    "ExecuteTime": {
     "end_time": "2023-03-14T12:38:20.996364Z",
     "start_time": "2023-03-14T12:38:07.845966Z"
    }
   },
   "outputs": [
    {
     "name": "stdout",
     "output_type": "stream",
     "text": [
      "epoch: 100 loss: 0.0011\n",
      "\n",
      " Early Stopping / epoch: 121 loss: 0.0011\n"
     ]
    }
   ],
   "source": [
    "loss_list = []\n",
    "n = len(train_loader)\n",
    "\n",
    "for epoch in range(num_epochs):\n",
    "    running_loss = 0.0\n",
    "    \n",
    "    for data in train_loader:\n",
    "        seq, target = data\n",
    "        out = model(seq, target, 7, 0.5).to(device)\n",
    "        loss = criterion(out, target)\n",
    "        optimizer.zero_grad()\n",
    "        loss.backward()\n",
    "        optimizer.step()\n",
    "        running_loss += loss.item()\n",
    "    loss_list.append(running_loss/n)\n",
    "    if (epoch+1) % 100 == 0:\n",
    "        print('epoch: %d loss: %.4f'%(epoch+1, running_loss/n))\n",
    "        \n",
    "    if (epoch % patience == 0) & (epoch != 0):\n",
    "            \n",
    "            if loss_list[epoch-patience] < loss_list[epoch]:\n",
    "                print('\\n Early Stopping / epoch: %d loss: %.4f'%(epoch+1, running_loss/n))\n",
    "                \n",
    "                break"
   ]
  },
  {
   "cell_type": "markdown",
   "id": "ee7c0e3c",
   "metadata": {},
   "source": [
    "## Visualize Loss Graph"
   ]
  },
  {
   "cell_type": "markdown",
   "id": "09909394",
   "metadata": {},
   "source": [
    "**Loss**가 파도처럼 물결침 ->  **patience**를 늘려 **early stop** 간격을 조금 더 길게 두고 본다. <br>\n",
    "**RNN**이기 때문에 **LSTM**으로 변환 시 달라질 수도 있다."
   ]
  },
  {
   "cell_type": "code",
   "execution_count": 29,
   "id": "14a24cd3",
   "metadata": {
    "ExecuteTime": {
     "end_time": "2023-03-14T12:38:23.374569Z",
     "start_time": "2023-03-14T12:38:23.217989Z"
    }
   },
   "outputs": [
    {
     "data": {
      "image/png": "[encoded data removed]",
      "text/plain": [
       "<Figure size 2000x1000 with 1 Axes>"
      ]
     },
     "metadata": {},
     "output_type": "display_data"
    }
   ],
   "source": [
    "plt.figure(figsize = (20, 10))\n",
    "plt.plot(loss_list)\n",
    "plt.show()"
   ]
  },
  {
   "cell_type": "markdown",
   "id": "2f8cfa9d",
   "metadata": {},
   "source": [
    "## Model Save and Load"
   ]
  },
  {
   "cell_type": "code",
   "execution_count": 30,
   "id": "e0baf500",
   "metadata": {
    "ExecuteTime": {
     "end_time": "2023-03-14T12:38:23.962755Z",
     "start_time": "2023-03-14T12:38:23.956780Z"
    }
   },
   "outputs": [],
   "source": [
    "PATH = \"../model/GRU_seq2seq1.pth\"\n",
    "torch.save(model.state_dict(), PATH)"
   ]
  },
  {
   "cell_type": "code",
   "execution_count": 31,
   "id": "debbf3d4",
   "metadata": {
    "ExecuteTime": {
     "end_time": "2023-03-14T12:38:24.297925Z",
     "start_time": "2023-03-14T12:38:24.279974Z"
    }
   },
   "outputs": [
    {
     "data": {
      "text/plain": [
       "encoder_decoder(\n",
       "  (encoder): encoder(\n",
       "    (gru): GRU(3, 16, batch_first=True, dropout=0.3)\n",
       "  )\n",
       "  (decoder): decoder(\n",
       "    (gru): GRU(1, 16, batch_first=True, dropout=0.3)\n",
       "    (linear): Linear(in_features=16, out_features=1, bias=True)\n",
       "  )\n",
       ")"
      ]
     },
     "execution_count": 31,
     "metadata": {},
     "output_type": "execute_result"
    }
   ],
   "source": [
    "PATH = \"../model/GRU_seq2seq1.pth\"\n",
    "model = encoder_decoder(input_size = input_size, \n",
    "                             output_size = output_size, \n",
    "                             hidden_size = hidden_size,\n",
    "                             dropout = 0.25,\n",
    "                             device = device).to(device)\n",
    "model.load_state_dict(torch.load(PATH), strict=False)\n",
    "model.eval()"
   ]
  },
  {
   "cell_type": "markdown",
   "id": "e8a196bd",
   "metadata": {},
   "source": [
    "## Visualize and Compare predicted values with actual values"
   ]
  },
  {
   "cell_type": "code",
   "execution_count": 32,
   "id": "d98e7a51",
   "metadata": {
    "ExecuteTime": {
     "end_time": "2023-03-14T12:38:25.123525Z",
     "start_time": "2023-03-14T12:38:24.881068Z"
    }
   },
   "outputs": [
    {
     "data": {
      "image/png": "[encoded data removed]",
      "text/plain": [
       "<Figure size 1000x600 with 1 Axes>"
      ]
     },
     "metadata": {},
     "output_type": "display_data"
    }
   ],
   "source": [
    "train_predict = model(x_ss, y_ms, 7, 0.5)\n",
    "predicted = train_predict.cpu().data.numpy()\n",
    "label_y = y_ms.cpu().data.numpy()\n",
    "\n",
    "# 시각화를 위해 첫 날 예측값만을 가져옴\n",
    "# 더 나은 방법이 있다면 수용할 필요가 있음\n",
    "first_predicted = predicted[:, 0, :].reshape(881, 1)\n",
    "first_label_y = label_y[:, 0, :].reshape(881, 1)\n",
    "\n",
    "first_predicted = ms.inverse_transform(first_predicted)\n",
    "first_label_y = ms.inverse_transform(first_label_y)\n",
    "\n",
    "plt.figure(figsize = (10, 6))\n",
    "plt.axvline(x = 600, c = 'r', linestyle = '--')\n",
    "\n",
    "plt.plot(first_label_y, label = 'Actual Data')\n",
    "plt.plot(first_predicted, label = 'Predicted Data')\n",
    "plt.title('Time-Series Prediction')\n",
    "plt.legend()\n",
    "plt.show()"
   ]
  },
  {
   "cell_type": "markdown",
   "id": "dd6b8cb5",
   "metadata": {},
   "source": [
    "## Caculate MAE, RMSE, MAPE"
   ]
  },
  {
   "cell_type": "code",
   "execution_count": 33,
   "id": "2b3e6fe7",
   "metadata": {
    "ExecuteTime": {
     "end_time": "2023-03-14T12:38:26.261045Z",
     "start_time": "2023-03-14T12:38:26.254063Z"
    }
   },
   "outputs": [
    {
     "name": "stdout",
     "output_type": "stream",
     "text": [
      "MAE SCORE :  0.014588372\n",
      "RMSE SCORE :  0.033057124995031384\n",
      "MAPE SCORE :  47.16619551181793\n"
     ]
    }
   ],
   "source": [
    "def MAE(true, pred):\n",
    "    return np.mean(np.abs(true-pred))\n",
    "def RMSE(true, pred):\n",
    "    return np.mean((true-pred)**2)**(1/2)\n",
    "def MAPE(true, pred):\n",
    "    return 100 * np.mean(np.abs((true-pred)/true))\n",
    "\n",
    "print('MAE SCORE : ', MAE(predicted, label_y))\n",
    "print('RMSE SCORE : ', RMSE(predicted, label_y))\n",
    "print('MAPE SCORE : ', MAPE(predicted, label_y))"
   ]
  },
  {
   "cell_type": "markdown",
   "id": "de8e8f86",
   "metadata": {},
   "source": [
    "# Predict"
   ]
  },
  {
   "cell_type": "code",
   "execution_count": 34,
   "id": "7cef6a05",
   "metadata": {
    "ExecuteTime": {
     "end_time": "2023-03-14T12:38:27.080530Z",
     "start_time": "2023-03-14T12:38:27.074546Z"
    }
   },
   "outputs": [
    {
     "data": {
      "text/plain": [
       "723"
      ]
     },
     "execution_count": 34,
     "metadata": {},
     "output_type": "execute_result"
    }
   ],
   "source": [
    "ran = random.randrange(600, 881)\n",
    "ran"
   ]
  },
  {
   "cell_type": "code",
   "execution_count": 35,
   "id": "7536f155",
   "metadata": {
    "ExecuteTime": {
     "end_time": "2023-03-14T12:38:27.458143Z",
     "start_time": "2023-03-14T12:38:27.452160Z"
    }
   },
   "outputs": [],
   "source": [
    "pre7 = ms.inverse_transform(predicted.reshape(881, 7))\n",
    "lab7 = ms.inverse_transform(label_y.reshape(881, 7))\n",
    "\n",
    "predicted_final = np.vstack((first_predicted[:ran], pre7[ran].reshape(7, 1)))\n",
    "label_y_final = np.vstack((first_label_y[:ran], lab7[ran].reshape(7, 1)))"
   ]
  },
  {
   "cell_type": "code",
   "execution_count": 36,
   "id": "fd168d26",
   "metadata": {
    "ExecuteTime": {
     "end_time": "2023-03-14T12:38:28.094525Z",
     "start_time": "2023-03-14T12:38:27.942908Z"
    }
   },
   "outputs": [
    {
     "data": {
      "image/png": "[encoded data removed]",
      "text/plain": [
       "<Figure size 1000x600 with 1 Axes>"
      ]
     },
     "metadata": {},
     "output_type": "display_data"
    }
   ],
   "source": [
    "plt.figure(figsize = (10, 6)) \n",
    "plt.axvline(x = 42, c = 'g', linestyle = '--')\n",
    "\n",
    "plt.plot(label_y_final[-50:], label = 'Actual Data')\n",
    "plt.plot(predicted_final[-50:], label = 'Predicted Data')\n",
    "plt.title('Time-Series Prediction')\n",
    "plt.legend()\n",
    "plt.show()"
   ]
  },
  {
   "cell_type": "code",
   "execution_count": 37,
   "id": "08e678b2",
   "metadata": {
    "ExecuteTime": {
     "end_time": "2023-03-14T12:38:28.612133Z",
     "start_time": "2023-03-14T12:38:28.514394Z"
    }
   },
   "outputs": [
    {
     "data": {
      "image/png": "[encoded data removed]",
      "text/plain": [
       "<Figure size 640x480 with 1 Axes>"
      ]
     },
     "metadata": {},
     "output_type": "display_data"
    }
   ],
   "source": [
    "plt.plot(lab7[ran], label = 'Actual Data')\n",
    "plt.plot(pre7[ran], label = 'Predicted Data')\n",
    "plt.show()"
   ]
  },
  {
   "cell_type": "code",
   "execution_count": null,
   "id": "fb3ae36f",
   "metadata": {},
   "outputs": [],
   "source": []
  }
 ],
 "metadata": {
  "kernelspec": {
   "display_name": "KDA_DA",
   "language": "python",
   "name": "kda_da"
  },
  "language_info": {
   "codemirror_mode": {
    "name": "ipython",
    "version": 3
   },
   "file_extension": ".py",
   "mimetype": "text/x-python",
   "name": "python",
   "nbconvert_exporter": "python",
   "pygments_lexer": "ipython3",
   "version": "3.10.8"
  },
  "toc": {
   "base_numbering": 1,
   "nav_menu": {},
   "number_sections": true,
   "sideBar": true,
   "skip_h1_title": false,
   "title_cell": "Table of Contents",
   "title_sidebar": "Contents",
   "toc_cell": false,
   "toc_position": {},
   "toc_section_display": true,
   "toc_window_display": false
  }
 },
 "nbformat": 4,
 "nbformat_minor": 5
}
