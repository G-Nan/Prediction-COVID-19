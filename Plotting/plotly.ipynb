{
 "cells": [
  {
   "cell_type": "code",
   "execution_count": 201,
   "metadata": {},
   "outputs": [],
   "source": [
    "import pandas as pd\n",
    "import glob\n",
    "import plotly.graph_objects as go\n",
    "from plotly.subplots import make_subplots"
   ]
  },
  {
   "cell_type": "code",
   "execution_count": 202,
   "metadata": {},
   "outputs": [
    {
     "name": "stdout",
     "output_type": "stream",
     "text": [
      "{'경기': 'Gyeonggi', '경남': 'Gyeongnam', '광주': 'Gwangju', '대구': 'Daegu', '세종': 'Sejong'}\n",
      "        stdDay  Alpha_origin  Alpha_Predicted\n",
      "0   2021-06-13     17.880000        17.845783\n",
      "1   2021-06-14     14.640001        14.603018\n",
      "2   2021-06-15     14.400000        14.359916\n",
      "3   2021-06-16     22.800001        22.771496\n",
      "4   2021-06-17     21.960001        21.924856\n",
      "..         ...           ...              ...\n",
      "59  2021-08-11      6.660000        11.422062\n",
      "60  2021-08-12      5.750000        11.079985\n",
      "61  2021-08-13      5.400000        10.049582\n",
      "62  2021-08-14      5.730000         9.496059\n",
      "63  2021-08-15      5.100000         5.775887\n",
      "\n",
      "[64 rows x 3 columns]\n",
      "        stdDay  Delta_origin  Delta_Predicted\n",
      "0   2021-06-13     20.860000        20.673618\n",
      "1   2021-06-14     17.080000        13.675085\n",
      "2   2021-06-15     16.800001        15.136892\n",
      "3   2021-06-16     26.600000        20.434277\n",
      "4   2021-06-17     25.620000        23.206467\n",
      "..         ...           ...              ...\n",
      "59  2021-08-11    632.700000       576.293150\n",
      "60  2021-08-12    546.250000       436.761800\n",
      "61  2021-08-13    513.000000       516.010400\n",
      "62  2021-08-14    544.350000       408.911300\n",
      "63  2021-08-15    484.500000       366.139920\n",
      "\n",
      "[64 rows x 3 columns]\n"
     ]
    }
   ],
   "source": [
    "keys = ['경기','경남','광주','대구','세종']\n",
    "values = ['Gyeonggi', 'Gyeongnam', 'Gwangju', 'Daegu', 'Sejong']\n",
    "eng = dict(zip(keys, values))\n",
    "print(eng)\n",
    "\n",
    "# alpha\n",
    "alpha_file_list = glob.glob('./Capstone/Capstone/Dataset/Infected/alpha/*.csv')\n",
    "\n",
    "alpha_dic = {}\n",
    "for i in range(5):\n",
    "    data = pd.read_csv(alpha_file_list[i])\n",
    "    df = pd.DataFrame(data)\n",
    "    alpha_dic[keys[i]] = df\n",
    "\n",
    "# delta\n",
    "delta_file_list = glob.glob('./Capstone/Capstone/Dataset/Infected/delta/*.csv')\n",
    "\n",
    "delta_dic = {}\n",
    "for i in range(5):\n",
    "    data = pd.read_csv(delta_file_list[i])\n",
    "    df = pd.DataFrame(data)\n",
    "    delta_dic[keys[i]] = df\n",
    "\n",
    "\n",
    "# 지역 선정\n",
    "region = '경기' \n",
    "print(alpha_dic[region], delta_dic[region], sep='\\n')\n"
   ]
  },
  {
   "cell_type": "code",
   "execution_count": 203,
   "metadata": {},
   "outputs": [
    {
     "data": {
      "application/vnd.plotly.v1+json": {
       "config": {
        "plotlyServerURL": "https://plot.ly"
       },
       "data": [
        {
         "line": {
          "color": "black",
          "dash": "dot",
          "width": 4
         },
         "mode": "lines",
         "name": "Actual Data(alpha)",
         "type": "scatter",
         "x": [
          "2021-06-13",
          "2021-06-14",
          "2021-06-15",
          "2021-06-16",
          "2021-06-17",
          "2021-06-18",
          "2021-06-19",
          "2021-06-20",
          "2021-06-21",
          "2021-06-22",
          "2021-06-23",
          "2021-06-24",
          "2021-06-25",
          "2021-06-26",
          "2021-06-27",
          "2021-06-28",
          "2021-06-29",
          "2021-06-30",
          "2021-07-01",
          "2021-07-02",
          "2021-07-03",
          "2021-07-04",
          "2021-07-05",
          "2021-07-06",
          "2021-07-07",
          "2021-07-08",
          "2021-07-09",
          "2021-07-10",
          "2021-07-11",
          "2021-07-12",
          "2021-07-13",
          "2021-07-14",
          "2021-07-15",
          "2021-07-16",
          "2021-07-17",
          "2021-07-18",
          "2021-07-19",
          "2021-07-20",
          "2021-07-21",
          "2021-07-22",
          "2021-07-23",
          "2021-07-24",
          "2021-07-25",
          "2021-07-26",
          "2021-07-27",
          "2021-07-28",
          "2021-07-29",
          "2021-07-30",
          "2021-07-31",
          "2021-08-01",
          "2021-08-02",
          "2021-08-03",
          "2021-08-04",
          "2021-08-05",
          "2021-08-06",
          "2021-08-07",
          "2021-08-08",
          "2021-08-09",
          "2021-08-10",
          "2021-08-11",
          "2021-08-12",
          "2021-08-13",
          "2021-08-14",
          "2021-08-15"
         ],
         "y": [
          17.88,
          14.640001,
          14.4,
          22.800001,
          21.960001,
          18.36,
          17.400002,
          13.56,
          10.92,
          11.040001,
          22.92,
          22.199999,
          21.960001,
          22.56,
          20.759998,
          19.439999,
          27.6,
          28.8,
          29.880001,
          31.68,
          30.24,
          27.720001,
          13.200001,
          13.74,
          22.02,
          23.52,
          24.3,
          27.060001,
          24.42,
          19.62,
          19.08,
          27.84,
          29.76,
          27.36,
          23.580002,
          22.38,
          10.2,
          11.49,
          13.95,
          11.19,
          12.450001,
          13.920001,
          9.6,
          10.5,
          11.19,
          16.68,
          14.07,
          15.72,
          11.849999,
          12.179999,
          3.3700001,
          3.6,
          4.87,
          4.8599997,
          4.62,
          5.14,
          4.62,
          4.08,
          4.2,
          6.66,
          5.7499995,
          5.4,
          5.73,
          5.1
         ]
        },
        {
         "line": {
          "color": "red",
          "width": 2
         },
         "mode": "lines",
         "name": "Predicted Data(alpha)",
         "type": "scatter",
         "x": [
          "2021-06-13",
          "2021-06-14",
          "2021-06-15",
          "2021-06-16",
          "2021-06-17",
          "2021-06-18",
          "2021-06-19",
          "2021-06-20",
          "2021-06-21",
          "2021-06-22",
          "2021-06-23",
          "2021-06-24",
          "2021-06-25",
          "2021-06-26",
          "2021-06-27",
          "2021-06-28",
          "2021-06-29",
          "2021-06-30",
          "2021-07-01",
          "2021-07-02",
          "2021-07-03",
          "2021-07-04",
          "2021-07-05",
          "2021-07-06",
          "2021-07-07",
          "2021-07-08",
          "2021-07-09",
          "2021-07-10",
          "2021-07-11",
          "2021-07-12",
          "2021-07-13",
          "2021-07-14",
          "2021-07-15",
          "2021-07-16",
          "2021-07-17",
          "2021-07-18",
          "2021-07-19",
          "2021-07-20",
          "2021-07-21",
          "2021-07-22",
          "2021-07-23",
          "2021-07-24",
          "2021-07-25",
          "2021-07-26",
          "2021-07-27",
          "2021-07-28",
          "2021-07-29",
          "2021-07-30",
          "2021-07-31",
          "2021-08-01",
          "2021-08-02",
          "2021-08-03",
          "2021-08-04",
          "2021-08-05",
          "2021-08-06",
          "2021-08-07",
          "2021-08-08",
          "2021-08-09",
          "2021-08-10",
          "2021-08-11",
          "2021-08-12",
          "2021-08-13",
          "2021-08-14",
          "2021-08-15"
         ],
         "y": [
          17.845783,
          14.603018,
          14.359916,
          22.771496,
          21.924856,
          18.315018,
          17.359037,
          13.518086,
          10.880292,
          10.988538,
          22.873642,
          22.146181,
          21.908283,
          22.507156,
          20.714104,
          19.390106,
          27.562159,
          28.770105,
          29.84997,
          31.656408,
          30.206505,
          27.681602,
          13.175801,
          13.699452,
          21.989271,
          23.490107,
          24.26387,
          27.028364,
          24.391678,
          19.5886,
          19.04941,
          27.808495,
          29.73034,
          27.333483,
          23.563828,
          22.352482,
          10.181697,
          11.458233,
          13.923024,
          11.163034,
          12.420544,
          13.894222,
          9.5792675,
          10.477092,
          11.161916,
          16.65435,
          14.049108,
          15.697648,
          11.831428,
          12.138005,
          3.352113,
          3.5824144,
          4.8461156,
          4.8360176,
          4.594152,
          5.111373,
          4.5961,
          3.4365964,
          6.2165084,
          11.422062,
          11.079985,
          10.0495825,
          9.496059,
          5.7758865
         ]
        },
        {
         "line": {
          "color": "gray",
          "dash": "dot",
          "width": 4
         },
         "mode": "lines",
         "name": "Actual Data(delta)",
         "type": "scatter",
         "x": [
          "2021-06-13",
          "2021-06-14",
          "2021-06-15",
          "2021-06-16",
          "2021-06-17",
          "2021-06-18",
          "2021-06-19",
          "2021-06-20",
          "2021-06-21",
          "2021-06-22",
          "2021-06-23",
          "2021-06-24",
          "2021-06-25",
          "2021-06-26",
          "2021-06-27",
          "2021-06-28",
          "2021-06-29",
          "2021-06-30",
          "2021-07-01",
          "2021-07-02",
          "2021-07-03",
          "2021-07-04",
          "2021-07-05",
          "2021-07-06",
          "2021-07-07",
          "2021-07-08",
          "2021-07-09",
          "2021-07-10",
          "2021-07-11",
          "2021-07-12",
          "2021-07-13",
          "2021-07-14",
          "2021-07-15",
          "2021-07-16",
          "2021-07-17",
          "2021-07-18",
          "2021-07-19",
          "2021-07-20",
          "2021-07-21",
          "2021-07-22",
          "2021-07-23",
          "2021-07-24",
          "2021-07-25",
          "2021-07-26",
          "2021-07-27",
          "2021-07-28",
          "2021-07-29",
          "2021-07-30",
          "2021-07-31",
          "2021-08-01",
          "2021-08-02",
          "2021-08-03",
          "2021-08-04",
          "2021-08-05",
          "2021-08-06",
          "2021-08-07",
          "2021-08-08",
          "2021-08-09",
          "2021-08-10",
          "2021-08-11",
          "2021-08-12",
          "2021-08-13",
          "2021-08-14",
          "2021-08-15"
         ],
         "y": [
          20.86,
          17.08,
          16.800001,
          26.6,
          25.62,
          21.42,
          20.300001,
          15.82,
          35.49,
          35.88,
          74.49,
          72.15,
          71.37,
          73.32,
          67.47,
          63.18,
          89.700005,
          93.6,
          97.11,
          102.96,
          98.28,
          90.090004,
          129.8,
          135.11,
          216.52998,
          231.27998,
          238.95,
          266.09,
          240.12999,
          192.92998,
          187.62,
          273.75998,
          292.63998,
          269.03998,
          231.86998,
          220.06999,
          261.8,
          294.91,
          358.05,
          287.21,
          319.55,
          357.28,
          246.4,
          269.5,
          287.21,
          428.12,
          361.12997,
          403.47998,
          304.15,
          312.62,
          320.15,
          342,
          462.65,
          461.69998,
          438.9,
          488.3,
          438.9,
          387.6,
          399,
          632.7,
          546.25,
          513,
          544.35,
          484.5
         ]
        },
        {
         "line": {
          "color": "blue",
          "width": 2
         },
         "mode": "lines",
         "name": "Predicted Data(delta)",
         "type": "scatter",
         "x": [
          "2021-06-13",
          "2021-06-14",
          "2021-06-15",
          "2021-06-16",
          "2021-06-17",
          "2021-06-18",
          "2021-06-19",
          "2021-06-20",
          "2021-06-21",
          "2021-06-22",
          "2021-06-23",
          "2021-06-24",
          "2021-06-25",
          "2021-06-26",
          "2021-06-27",
          "2021-06-28",
          "2021-06-29",
          "2021-06-30",
          "2021-07-01",
          "2021-07-02",
          "2021-07-03",
          "2021-07-04",
          "2021-07-05",
          "2021-07-06",
          "2021-07-07",
          "2021-07-08",
          "2021-07-09",
          "2021-07-10",
          "2021-07-11",
          "2021-07-12",
          "2021-07-13",
          "2021-07-14",
          "2021-07-15",
          "2021-07-16",
          "2021-07-17",
          "2021-07-18",
          "2021-07-19",
          "2021-07-20",
          "2021-07-21",
          "2021-07-22",
          "2021-07-23",
          "2021-07-24",
          "2021-07-25",
          "2021-07-26",
          "2021-07-27",
          "2021-07-28",
          "2021-07-29",
          "2021-07-30",
          "2021-07-31",
          "2021-08-01",
          "2021-08-02",
          "2021-08-03",
          "2021-08-04",
          "2021-08-05",
          "2021-08-06",
          "2021-08-07",
          "2021-08-08",
          "2021-08-09",
          "2021-08-10",
          "2021-08-11",
          "2021-08-12",
          "2021-08-13",
          "2021-08-14",
          "2021-08-15"
         ],
         "y": [
          20.673618,
          13.675085,
          15.136892,
          20.434277,
          23.206467,
          24.213194,
          21.253736,
          16.720861,
          34.100925,
          32.67627,
          58.792225,
          73.387924,
          67.969444,
          71.904,
          67.64772,
          63.744743,
          82.471504,
          91.343636,
          97.021164,
          102.546646,
          91.7648,
          86.35786,
          129.1521,
          132.97026,
          215.94461,
          228.9096,
          239.16737,
          259.85938,
          238.18748,
          191.26094,
          185.69783,
          271.54272,
          291.4444,
          267.39795,
          230.19415,
          217.98463,
          260.06168,
          293.6236,
          357.8698,
          285.8944,
          318.35654,
          357.08188,
          245.17012,
          268.49908,
          286.2911,
          427.2668,
          360.3684,
          402.92563,
          303.3064,
          311.876,
          319.2069,
          341.20663,
          462.19577,
          461.30905,
          438.559,
          487.9188,
          438.44168,
          417.08984,
          327.04358,
          576.29315,
          436.7618,
          516.0104,
          408.9113,
          366.13992
         ]
        }
       ],
       "layout": {
        "annotations": [
         {
          "font": {
           "color": "red",
           "size": 20
          },
          "showarrow": false,
          "text": "Training Data",
          "x": "2021-08-06",
          "y": 100
         },
         {
          "font": {
           "color": "red",
           "size": 20
          },
          "showarrow": false,
          "text": "Prediction",
          "x": "2021-08-11",
          "y": 100
         }
        ],
        "legend": {
         "bordercolor": "Black",
         "borderwidth": 0.5,
         "orientation": "h",
         "x": 1,
         "xanchor": "right",
         "y": 1.08
        },
        "plot_bgcolor": "white",
        "shapes": [
         {
          "line": {
           "color": "red",
           "dash": "dash",
           "width": 2
          },
          "type": "line",
          "x0": "2021-08-09",
          "x1": "2021-08-09",
          "xref": "x",
          "y0": 0,
          "y1": 1,
          "yref": "y domain"
         }
        ],
        "template": {
         "data": {
          "bar": [
           {
            "error_x": {
             "color": "#2a3f5f"
            },
            "error_y": {
             "color": "#2a3f5f"
            },
            "marker": {
             "line": {
              "color": "#E5ECF6",
              "width": 0.5
             },
             "pattern": {
              "fillmode": "overlay",
              "size": 10,
              "solidity": 0.2
             }
            },
            "type": "bar"
           }
          ],
          "barpolar": [
           {
            "marker": {
             "line": {
              "color": "#E5ECF6",
              "width": 0.5
             },
             "pattern": {
              "fillmode": "overlay",
              "size": 10,
              "solidity": 0.2
             }
            },
            "type": "barpolar"
           }
          ],
          "carpet": [
           {
            "aaxis": {
             "endlinecolor": "#2a3f5f",
             "gridcolor": "white",
             "linecolor": "white",
             "minorgridcolor": "white",
             "startlinecolor": "#2a3f5f"
            },
            "baxis": {
             "endlinecolor": "#2a3f5f",
             "gridcolor": "white",
             "linecolor": "white",
             "minorgridcolor": "white",
             "startlinecolor": "#2a3f5f"
            },
            "type": "carpet"
           }
          ],
          "choropleth": [
           {
            "colorbar": {
             "outlinewidth": 0,
             "ticks": ""
            },
            "type": "choropleth"
           }
          ],
          "contour": [
           {
            "colorbar": {
             "outlinewidth": 0,
             "ticks": ""
            },
            "colorscale": [
             [
              0,
              "#0d0887"
             ],
             [
              0.1111111111111111,
              "#46039f"
             ],
             [
              0.2222222222222222,
              "#7201a8"
             ],
             [
              0.3333333333333333,
              "#9c179e"
             ],
             [
              0.4444444444444444,
              "#bd3786"
             ],
             [
              0.5555555555555556,
              "#d8576b"
             ],
             [
              0.6666666666666666,
              "#ed7953"
             ],
             [
              0.7777777777777778,
              "#fb9f3a"
             ],
             [
              0.8888888888888888,
              "#fdca26"
             ],
             [
              1,
              "#f0f921"
             ]
            ],
            "type": "contour"
           }
          ],
          "contourcarpet": [
           {
            "colorbar": {
             "outlinewidth": 0,
             "ticks": ""
            },
            "type": "contourcarpet"
           }
          ],
          "heatmap": [
           {
            "colorbar": {
             "outlinewidth": 0,
             "ticks": ""
            },
            "colorscale": [
             [
              0,
              "#0d0887"
             ],
             [
              0.1111111111111111,
              "#46039f"
             ],
             [
              0.2222222222222222,
              "#7201a8"
             ],
             [
              0.3333333333333333,
              "#9c179e"
             ],
             [
              0.4444444444444444,
              "#bd3786"
             ],
             [
              0.5555555555555556,
              "#d8576b"
             ],
             [
              0.6666666666666666,
              "#ed7953"
             ],
             [
              0.7777777777777778,
              "#fb9f3a"
             ],
             [
              0.8888888888888888,
              "#fdca26"
             ],
             [
              1,
              "#f0f921"
             ]
            ],
            "type": "heatmap"
           }
          ],
          "heatmapgl": [
           {
            "colorbar": {
             "outlinewidth": 0,
             "ticks": ""
            },
            "colorscale": [
             [
              0,
              "#0d0887"
             ],
             [
              0.1111111111111111,
              "#46039f"
             ],
             [
              0.2222222222222222,
              "#7201a8"
             ],
             [
              0.3333333333333333,
              "#9c179e"
             ],
             [
              0.4444444444444444,
              "#bd3786"
             ],
             [
              0.5555555555555556,
              "#d8576b"
             ],
             [
              0.6666666666666666,
              "#ed7953"
             ],
             [
              0.7777777777777778,
              "#fb9f3a"
             ],
             [
              0.8888888888888888,
              "#fdca26"
             ],
             [
              1,
              "#f0f921"
             ]
            ],
            "type": "heatmapgl"
           }
          ],
          "histogram": [
           {
            "marker": {
             "pattern": {
              "fillmode": "overlay",
              "size": 10,
              "solidity": 0.2
             }
            },
            "type": "histogram"
           }
          ],
          "histogram2d": [
           {
            "colorbar": {
             "outlinewidth": 0,
             "ticks": ""
            },
            "colorscale": [
             [
              0,
              "#0d0887"
             ],
             [
              0.1111111111111111,
              "#46039f"
             ],
             [
              0.2222222222222222,
              "#7201a8"
             ],
             [
              0.3333333333333333,
              "#9c179e"
             ],
             [
              0.4444444444444444,
              "#bd3786"
             ],
             [
              0.5555555555555556,
              "#d8576b"
             ],
             [
              0.6666666666666666,
              "#ed7953"
             ],
             [
              0.7777777777777778,
              "#fb9f3a"
             ],
             [
              0.8888888888888888,
              "#fdca26"
             ],
             [
              1,
              "#f0f921"
             ]
            ],
            "type": "histogram2d"
           }
          ],
          "histogram2dcontour": [
           {
            "colorbar": {
             "outlinewidth": 0,
             "ticks": ""
            },
            "colorscale": [
             [
              0,
              "#0d0887"
             ],
             [
              0.1111111111111111,
              "#46039f"
             ],
             [
              0.2222222222222222,
              "#7201a8"
             ],
             [
              0.3333333333333333,
              "#9c179e"
             ],
             [
              0.4444444444444444,
              "#bd3786"
             ],
             [
              0.5555555555555556,
              "#d8576b"
             ],
             [
              0.6666666666666666,
              "#ed7953"
             ],
             [
              0.7777777777777778,
              "#fb9f3a"
             ],
             [
              0.8888888888888888,
              "#fdca26"
             ],
             [
              1,
              "#f0f921"
             ]
            ],
            "type": "histogram2dcontour"
           }
          ],
          "mesh3d": [
           {
            "colorbar": {
             "outlinewidth": 0,
             "ticks": ""
            },
            "type": "mesh3d"
           }
          ],
          "parcoords": [
           {
            "line": {
             "colorbar": {
              "outlinewidth": 0,
              "ticks": ""
             }
            },
            "type": "parcoords"
           }
          ],
          "pie": [
           {
            "automargin": true,
            "type": "pie"
           }
          ],
          "scatter": [
           {
            "fillpattern": {
             "fillmode": "overlay",
             "size": 10,
             "solidity": 0.2
            },
            "type": "scatter"
           }
          ],
          "scatter3d": [
           {
            "line": {
             "colorbar": {
              "outlinewidth": 0,
              "ticks": ""
             }
            },
            "marker": {
             "colorbar": {
              "outlinewidth": 0,
              "ticks": ""
             }
            },
            "type": "scatter3d"
           }
          ],
          "scattercarpet": [
           {
            "marker": {
             "colorbar": {
              "outlinewidth": 0,
              "ticks": ""
             }
            },
            "type": "scattercarpet"
           }
          ],
          "scattergeo": [
           {
            "marker": {
             "colorbar": {
              "outlinewidth": 0,
              "ticks": ""
             }
            },
            "type": "scattergeo"
           }
          ],
          "scattergl": [
           {
            "marker": {
             "colorbar": {
              "outlinewidth": 0,
              "ticks": ""
             }
            },
            "type": "scattergl"
           }
          ],
          "scattermapbox": [
           {
            "marker": {
             "colorbar": {
              "outlinewidth": 0,
              "ticks": ""
             }
            },
            "type": "scattermapbox"
           }
          ],
          "scatterpolar": [
           {
            "marker": {
             "colorbar": {
              "outlinewidth": 0,
              "ticks": ""
             }
            },
            "type": "scatterpolar"
           }
          ],
          "scatterpolargl": [
           {
            "marker": {
             "colorbar": {
              "outlinewidth": 0,
              "ticks": ""
             }
            },
            "type": "scatterpolargl"
           }
          ],
          "scatterternary": [
           {
            "marker": {
             "colorbar": {
              "outlinewidth": 0,
              "ticks": ""
             }
            },
            "type": "scatterternary"
           }
          ],
          "surface": [
           {
            "colorbar": {
             "outlinewidth": 0,
             "ticks": ""
            },
            "colorscale": [
             [
              0,
              "#0d0887"
             ],
             [
              0.1111111111111111,
              "#46039f"
             ],
             [
              0.2222222222222222,
              "#7201a8"
             ],
             [
              0.3333333333333333,
              "#9c179e"
             ],
             [
              0.4444444444444444,
              "#bd3786"
             ],
             [
              0.5555555555555556,
              "#d8576b"
             ],
             [
              0.6666666666666666,
              "#ed7953"
             ],
             [
              0.7777777777777778,
              "#fb9f3a"
             ],
             [
              0.8888888888888888,
              "#fdca26"
             ],
             [
              1,
              "#f0f921"
             ]
            ],
            "type": "surface"
           }
          ],
          "table": [
           {
            "cells": {
             "fill": {
              "color": "#EBF0F8"
             },
             "line": {
              "color": "white"
             }
            },
            "header": {
             "fill": {
              "color": "#C8D4E3"
             },
             "line": {
              "color": "white"
             }
            },
            "type": "table"
           }
          ]
         },
         "layout": {
          "annotationdefaults": {
           "arrowcolor": "#2a3f5f",
           "arrowhead": 0,
           "arrowwidth": 1
          },
          "autotypenumbers": "strict",
          "coloraxis": {
           "colorbar": {
            "outlinewidth": 0,
            "ticks": ""
           }
          },
          "colorscale": {
           "diverging": [
            [
             0,
             "#8e0152"
            ],
            [
             0.1,
             "#c51b7d"
            ],
            [
             0.2,
             "#de77ae"
            ],
            [
             0.3,
             "#f1b6da"
            ],
            [
             0.4,
             "#fde0ef"
            ],
            [
             0.5,
             "#f7f7f7"
            ],
            [
             0.6,
             "#e6f5d0"
            ],
            [
             0.7,
             "#b8e186"
            ],
            [
             0.8,
             "#7fbc41"
            ],
            [
             0.9,
             "#4d9221"
            ],
            [
             1,
             "#276419"
            ]
           ],
           "sequential": [
            [
             0,
             "#0d0887"
            ],
            [
             0.1111111111111111,
             "#46039f"
            ],
            [
             0.2222222222222222,
             "#7201a8"
            ],
            [
             0.3333333333333333,
             "#9c179e"
            ],
            [
             0.4444444444444444,
             "#bd3786"
            ],
            [
             0.5555555555555556,
             "#d8576b"
            ],
            [
             0.6666666666666666,
             "#ed7953"
            ],
            [
             0.7777777777777778,
             "#fb9f3a"
            ],
            [
             0.8888888888888888,
             "#fdca26"
            ],
            [
             1,
             "#f0f921"
            ]
           ],
           "sequentialminus": [
            [
             0,
             "#0d0887"
            ],
            [
             0.1111111111111111,
             "#46039f"
            ],
            [
             0.2222222222222222,
             "#7201a8"
            ],
            [
             0.3333333333333333,
             "#9c179e"
            ],
            [
             0.4444444444444444,
             "#bd3786"
            ],
            [
             0.5555555555555556,
             "#d8576b"
            ],
            [
             0.6666666666666666,
             "#ed7953"
            ],
            [
             0.7777777777777778,
             "#fb9f3a"
            ],
            [
             0.8888888888888888,
             "#fdca26"
            ],
            [
             1,
             "#f0f921"
            ]
           ]
          },
          "colorway": [
           "#636efa",
           "#EF553B",
           "#00cc96",
           "#ab63fa",
           "#FFA15A",
           "#19d3f3",
           "#FF6692",
           "#B6E880",
           "#FF97FF",
           "#FECB52"
          ],
          "font": {
           "color": "#2a3f5f"
          },
          "geo": {
           "bgcolor": "white",
           "lakecolor": "white",
           "landcolor": "#E5ECF6",
           "showlakes": true,
           "showland": true,
           "subunitcolor": "white"
          },
          "hoverlabel": {
           "align": "left"
          },
          "hovermode": "closest",
          "mapbox": {
           "style": "light"
          },
          "paper_bgcolor": "white",
          "plot_bgcolor": "#E5ECF6",
          "polar": {
           "angularaxis": {
            "gridcolor": "white",
            "linecolor": "white",
            "ticks": ""
           },
           "bgcolor": "#E5ECF6",
           "radialaxis": {
            "gridcolor": "white",
            "linecolor": "white",
            "ticks": ""
           }
          },
          "scene": {
           "xaxis": {
            "backgroundcolor": "#E5ECF6",
            "gridcolor": "white",
            "gridwidth": 2,
            "linecolor": "white",
            "showbackground": true,
            "ticks": "",
            "zerolinecolor": "white"
           },
           "yaxis": {
            "backgroundcolor": "#E5ECF6",
            "gridcolor": "white",
            "gridwidth": 2,
            "linecolor": "white",
            "showbackground": true,
            "ticks": "",
            "zerolinecolor": "white"
           },
           "zaxis": {
            "backgroundcolor": "#E5ECF6",
            "gridcolor": "white",
            "gridwidth": 2,
            "linecolor": "white",
            "showbackground": true,
            "ticks": "",
            "zerolinecolor": "white"
           }
          },
          "shapedefaults": {
           "line": {
            "color": "#2a3f5f"
           }
          },
          "ternary": {
           "aaxis": {
            "gridcolor": "white",
            "linecolor": "white",
            "ticks": ""
           },
           "baxis": {
            "gridcolor": "white",
            "linecolor": "white",
            "ticks": ""
           },
           "bgcolor": "#E5ECF6",
           "caxis": {
            "gridcolor": "white",
            "linecolor": "white",
            "ticks": ""
           }
          },
          "title": {
           "x": 0.05
          },
          "xaxis": {
           "automargin": true,
           "gridcolor": "white",
           "linecolor": "white",
           "ticks": "",
           "title": {
            "standoff": 15
           },
           "zerolinecolor": "white",
           "zerolinewidth": 2
          },
          "yaxis": {
           "automargin": true,
           "gridcolor": "white",
           "linecolor": "white",
           "ticks": "",
           "title": {
            "standoff": 15
           },
           "zerolinecolor": "white",
           "zerolinewidth": 2
          }
         }
        },
        "title": {
         "font": {
          "color": "#000000",
          "family": "Arial",
          "size": 30
         },
         "text": "<b>Short term prediction by using BiLSTM for Geonggi</b>",
         "x": 0.5,
         "xanchor": "center",
         "y": 0.95,
         "yanchor": "bottom"
        },
        "xaxis": {
         "gridcolor": "lightgray",
         "linecolor": "gray",
         "mirror": true,
         "title": {
          "text": "Date"
         }
        },
        "yaxis": {
         "gridcolor": "lightgray",
         "linecolor": "gray",
         "mirror": true,
         "title": {
          "text": "Number"
         }
        }
       }
      }
     },
     "metadata": {},
     "output_type": "display_data"
    }
   ],
   "source": [
    "# 단기\n",
    "\n",
    "fig = go.Figure()\n",
    "\n",
    "fig.add_trace(go.Scatter(x=alpha_dic[region]['stdDay'], y=alpha_dic[region]['Alpha_origin'], name='Actual Data(alpha)',\n",
    "                         mode='lines', line=dict(dash='dot', color='black', width=4)))\n",
    "fig.add_trace(go.Scatter(x=alpha_dic[region]['stdDay'], y=alpha_dic[region]['Alpha_Predicted'], name='Predicted Data(alpha)',\n",
    "                         mode='lines', line=dict(width=2, color='red')))\n",
    "fig.add_trace(go.Scatter(x=delta_dic[region]['stdDay'], y=delta_dic[region]['Delta_origin'], name='Actual Data(delta)',\n",
    "                         mode='lines', line=dict(dash='dot', color='gray', width=4)))\n",
    "fig.add_trace(go.Scatter(x=delta_dic[region]['stdDay'], y=delta_dic[region]['Delta_Predicted'], name='Predicted Data(delta)',\n",
    "                         mode='lines', line=dict(width=2, color='blue')))\n",
    "fig.add_annotation(x='2021-08-06', y=100, text='Training Data', font_color='red', showarrow=False)\n",
    "fig.add_annotation(x='2021-08-11', y=100, text='Prediction', font_color='red', showarrow=False)\n",
    "fig.add_vline(x=alpha_dic['경기']['stdDay'][57], line_width=2, line_dash=\"dash\", line_color=\"red\")\n",
    "\n",
    "\n",
    "\n",
    "fig.update_layout(\n",
    "    title_text = 'Number of Infected cases of alpha and delta mutations',\n",
    "    xaxis1_title = 'Date',\n",
    "    yaxis1_title = 'Number',\n",
    "    plot_bgcolor ='white', # 차트 안쪽 배경색\n",
    "    title=dict(text='<b>Short term prediction by using BiLSTM for Geonggi</b>',\n",
    "               xanchor='center', yanchor='bottom',\n",
    "               x=0.5, y=0.95,\n",
    "               font=dict(\n",
    "                family=\"Arial\",\n",
    "                size=30,\n",
    "                color=\"#000000\"\n",
    "                )),\n",
    "    legend=dict(orientation ='h', \n",
    "                xanchor='right', x=1, y=1.08,\n",
    "                bordercolor=\"Black\",\n",
    "                borderwidth=0.5),\n",
    ")\n",
    "fig.update_annotations(font_size=20)\n",
    "fig.update_xaxes(linecolor='gray', gridcolor='lightgray',mirror=True)\n",
    "fig.update_yaxes(linecolor='gray', gridcolor='lightgray',mirror=True)\n",
    "fig.show()\n",
    "fig.write_image(f\"./image/alpha&delta_{eng[region]}_Short_term.png\", scale=9, width=1920, height=708)"
   ]
  },
  {
   "cell_type": "code",
   "execution_count": 204,
   "metadata": {},
   "outputs": [
    {
     "name": "stdout",
     "output_type": "stream",
     "text": [
      "        stdDay  Delta_alpha  predicted_Delta_alpha  Delta_Infected  \\\n",
      "0   2021-06-13     0.088589               0.116022          193.39   \n",
      "1   2021-06-14     0.081578               0.154140          206.57   \n",
      "2   2021-06-15     0.121342               0.112214          219.89   \n",
      "3   2021-06-16     0.106756               0.114380          240.73   \n",
      "4   2021-06-17     0.082634               0.136389          260.02   \n",
      "..         ...          ...                    ...             ...   \n",
      "59  2021-08-11     0.095374               0.123586         5753.28   \n",
      "60  2021-08-12     0.086781               0.134784         5938.40   \n",
      "61  2021-08-13     0.090420               0.120841         6047.92   \n",
      "62  2021-08-14     0.077408               0.127591         6288.12   \n",
      "63  2021-08-15     0.000000               0.126915         6460.00   \n",
      "\n",
      "    predicted_Delta_Infected  \n",
      "0                 189.415472  \n",
      "1                 205.860130  \n",
      "2                 226.147602  \n",
      "3                 237.510064  \n",
      "4                 254.756073  \n",
      "..                       ...  \n",
      "59               6583.645378  \n",
      "60               6465.834808  \n",
      "61               6222.766601  \n",
      "62               6063.165111  \n",
      "63               5849.587768  \n",
      "\n",
      "[64 rows x 5 columns]\n"
     ]
    }
   ],
   "source": [
    "# alpha\n",
    "alpha_file_list = glob.glob('./Capstone/Capstone/Dataset/SIR/alpha/*.csv')\n",
    "\n",
    "alpha_dic = {}\n",
    "for i in range(5):\n",
    "    data = pd.read_csv(alpha_file_list[i])\n",
    "    df = pd.DataFrame(data)\n",
    "    alpha_dic[keys[i]] = df\n",
    "\n",
    "# delta\n",
    "delta_file_list = glob.glob('./Capstone/Capstone/Dataset/SIR/delta/*.csv')\n",
    "\n",
    "delta_dic = {}\n",
    "for i in range(5):\n",
    "    data = pd.read_csv(delta_file_list[i])\n",
    "    df = pd.DataFrame(data)\n",
    "    delta_dic[keys[i]] = df\n",
    "\n",
    "print(delta_dic[region], sep='\\n')"
   ]
  },
  {
   "cell_type": "code",
   "execution_count": 207,
   "metadata": {},
   "outputs": [
    {
     "data": {
      "application/vnd.plotly.v1+json": {
       "config": {
        "plotlyServerURL": "https://plot.ly"
       },
       "data": [
        {
         "line": {
          "color": "black",
          "dash": "dot",
          "width": 2
         },
         "mode": "lines",
         "name": "Alpha(Actual Data)",
         "type": "scatter",
         "x": [
          "2021-06-13",
          "2021-06-14",
          "2021-06-15",
          "2021-06-16",
          "2021-06-17",
          "2021-06-18",
          "2021-06-19",
          "2021-06-20",
          "2021-06-21",
          "2021-06-22",
          "2021-06-23",
          "2021-06-24",
          "2021-06-25",
          "2021-06-26",
          "2021-06-27",
          "2021-06-28",
          "2021-06-29",
          "2021-06-30",
          "2021-07-01",
          "2021-07-02",
          "2021-07-03",
          "2021-07-04",
          "2021-07-05",
          "2021-07-06",
          "2021-07-07",
          "2021-07-08",
          "2021-07-09",
          "2021-07-10",
          "2021-07-11",
          "2021-07-12",
          "2021-07-13",
          "2021-07-14",
          "2021-07-15",
          "2021-07-16",
          "2021-07-17",
          "2021-07-18",
          "2021-07-19",
          "2021-07-20",
          "2021-07-21",
          "2021-07-22",
          "2021-07-23",
          "2021-07-24",
          "2021-07-25",
          "2021-07-26",
          "2021-07-27",
          "2021-07-28",
          "2021-07-29",
          "2021-07-30",
          "2021-07-31",
          "2021-08-01",
          "2021-08-02",
          "2021-08-03",
          "2021-08-04",
          "2021-08-05",
          "2021-08-06",
          "2021-08-07",
          "2021-08-08",
          "2021-08-09",
          "2021-08-10",
          "2021-08-11",
          "2021-08-12",
          "2021-08-13",
          "2021-08-14",
          "2021-08-15"
         ],
         "xaxis": "x",
         "y": [
          0.07507199,
          0.070891915,
          0.107700638,
          0.097663283,
          0.077722246,
          0.071279772,
          0.054038001,
          0.042577245,
          0.044284729,
          0.093647152,
          0.089395852,
          0.088218152,
          0.090196287,
          0.082448906,
          0.076337129,
          0.106382446,
          0.105651584,
          0.107262196,
          0.110591883,
          0.100891092,
          0.088698043,
          0.040412888,
          0.041776186,
          0.066409144,
          0.071127268,
          0.073197018,
          0.080944607,
          0.072083064,
          0.057299269,
          0.055694402,
          0.083331822,
          0.089337709,
          0.08216557,
          0.071743529,
          0.069497541,
          0.032207467,
          0.036627351,
          0.044790556,
          0.036882055,
          0.042767559,
          0.049839708,
          0.036063511,
          0.041761308,
          0.046175096,
          0.07113822,
          0.062995775,
          0.075680923,
          0.060424117,
          0.066042618,
          0.019338567,
          0.021498011,
          0.030514538,
          0.032281892,
          0.032029853,
          0.037672445,
          0.036180747,
          0.033243794,
          0.036102855,
          0.06089325,
          0.057852119,
          0.05927237,
          0.07089091,
          0.068242724,
          0
         ],
         "yaxis": "y"
        },
        {
         "line": {
          "color": "red",
          "width": 2
         },
         "mode": "lines",
         "name": "Alpha(Predicted Data)",
         "type": "scatter",
         "x": [
          "2021-06-13",
          "2021-06-14",
          "2021-06-15",
          "2021-06-16",
          "2021-06-17",
          "2021-06-18",
          "2021-06-19",
          "2021-06-20",
          "2021-06-21",
          "2021-06-22",
          "2021-06-23",
          "2021-06-24",
          "2021-06-25",
          "2021-06-26",
          "2021-06-27",
          "2021-06-28",
          "2021-06-29",
          "2021-06-30",
          "2021-07-01",
          "2021-07-02",
          "2021-07-03",
          "2021-07-04",
          "2021-07-05",
          "2021-07-06",
          "2021-07-07",
          "2021-07-08",
          "2021-07-09",
          "2021-07-10",
          "2021-07-11",
          "2021-07-12",
          "2021-07-13",
          "2021-07-14",
          "2021-07-15",
          "2021-07-16",
          "2021-07-17",
          "2021-07-18",
          "2021-07-19",
          "2021-07-20",
          "2021-07-21",
          "2021-07-22",
          "2021-07-23",
          "2021-07-24",
          "2021-07-25",
          "2021-07-26",
          "2021-07-27",
          "2021-07-28",
          "2021-07-29",
          "2021-07-30",
          "2021-07-31",
          "2021-08-01",
          "2021-08-02",
          "2021-08-03",
          "2021-08-04",
          "2021-08-05",
          "2021-08-06",
          "2021-08-07",
          "2021-08-08",
          "2021-08-09",
          "2021-08-10",
          "2021-08-11",
          "2021-08-12",
          "2021-08-13",
          "2021-08-14",
          "2021-08-15"
         ],
         "xaxis": "x",
         "y": [
          0.098299973,
          0.097586073,
          0.09193822,
          0.110991098,
          0.098433234,
          0.086942978,
          0.088256434,
          0.082672819,
          0.08578968,
          0.080895066,
          0.095196746,
          0.070284717,
          0.095684886,
          0.092483275,
          0.087167524,
          0.088968165,
          0.090383984,
          0.076664038,
          0.099028029,
          0.105979323,
          0.091817595,
          0.093076527,
          0.077015966,
          0.079283603,
          0.083229363,
          0.08453887,
          0.073513113,
          0.07704775,
          0.075106367,
          0.079161882,
          0.071882233,
          0.086036496,
          0.078726523,
          0.074539453,
          0.077574849,
          0.076626815,
          0.06838093,
          0.078164063,
          0.077037089,
          0.066790335,
          0.070319466,
          0.070861541,
          0.050440643,
          0.059099477,
          0.06589748,
          0.076656945,
          0.058881328,
          0.07254266,
          0.063874051,
          0.074462228,
          0.051593445,
          0.050063979,
          0.056930389,
          0.05470854,
          0.057843007,
          0.059789732,
          0.059230484,
          0.058548547,
          0.051207878,
          0.050619941,
          0.044982001,
          0.056559019,
          0.060035951,
          0.067462079
         ],
         "yaxis": "y"
        },
        {
         "line": {
          "color": "gray",
          "dash": "dot",
          "width": 2
         },
         "mode": "lines",
         "name": "Delta(Actual Data)",
         "type": "scatter",
         "x": [
          "2021-06-13",
          "2021-06-14",
          "2021-06-15",
          "2021-06-16",
          "2021-06-17",
          "2021-06-18",
          "2021-06-19",
          "2021-06-20",
          "2021-06-21",
          "2021-06-22",
          "2021-06-23",
          "2021-06-24",
          "2021-06-25",
          "2021-06-26",
          "2021-06-27",
          "2021-06-28",
          "2021-06-29",
          "2021-06-30",
          "2021-07-01",
          "2021-07-02",
          "2021-07-03",
          "2021-07-04",
          "2021-07-05",
          "2021-07-06",
          "2021-07-07",
          "2021-07-08",
          "2021-07-09",
          "2021-07-10",
          "2021-07-11",
          "2021-07-12",
          "2021-07-13",
          "2021-07-14",
          "2021-07-15",
          "2021-07-16",
          "2021-07-17",
          "2021-07-18",
          "2021-07-19",
          "2021-07-20",
          "2021-07-21",
          "2021-07-22",
          "2021-07-23",
          "2021-07-24",
          "2021-07-25",
          "2021-07-26",
          "2021-07-27",
          "2021-07-28",
          "2021-07-29",
          "2021-07-30",
          "2021-07-31",
          "2021-08-01",
          "2021-08-02",
          "2021-08-03",
          "2021-08-04",
          "2021-08-05",
          "2021-08-06",
          "2021-08-07",
          "2021-08-08",
          "2021-08-09",
          "2021-08-10",
          "2021-08-11",
          "2021-08-12",
          "2021-08-13",
          "2021-08-14",
          "2021-08-15"
         ],
         "xaxis": "x",
         "y": [
          0.088589399,
          0.081578152,
          0.121342197,
          0.106755614,
          0.082634313,
          0.074002704,
          0.054885245,
          0.118608039,
          0.114441054,
          0.224945991,
          0.188416873,
          0.166083579,
          0.153801794,
          0.128388524,
          0.110460747,
          0.145166193,
          0.135541034,
          0.128225905,
          0.124261216,
          0.108019916,
          0.091226978,
          0.122274893,
          0.116925757,
          0.172616922,
          0.165682807,
          0.15371843,
          0.154575811,
          0.125495069,
          0.092512086,
          0.084715852,
          0.118397206,
          0.117448306,
          0.100149735,
          0.081307745,
          0.073730947,
          0.084066947,
          0.090864234,
          0.105162961,
          0.081005102,
          0.0887344,
          0.097050729,
          0.065322033,
          0.071329568,
          0.074514723,
          0.10828905,
          0.087928881,
          0.096638711,
          0.070587024,
          0.071362678,
          0.071577811,
          0.075484206,
          0.101070012,
          0.098622007,
          0.090400052,
          0.098175329,
          0.085991127,
          0.073194275,
          0.0737126,
          0.114535762,
          0.095374426,
          0.086780563,
          0.090419926,
          0.077407564,
          0
         ],
         "yaxis": "y"
        },
        {
         "line": {
          "color": "blue",
          "width": 2
         },
         "mode": "lines",
         "name": "Delta(Predicted Data)",
         "type": "scatter",
         "x": [
          "2021-06-13",
          "2021-06-14",
          "2021-06-15",
          "2021-06-16",
          "2021-06-17",
          "2021-06-18",
          "2021-06-19",
          "2021-06-20",
          "2021-06-21",
          "2021-06-22",
          "2021-06-23",
          "2021-06-24",
          "2021-06-25",
          "2021-06-26",
          "2021-06-27",
          "2021-06-28",
          "2021-06-29",
          "2021-06-30",
          "2021-07-01",
          "2021-07-02",
          "2021-07-03",
          "2021-07-04",
          "2021-07-05",
          "2021-07-06",
          "2021-07-07",
          "2021-07-08",
          "2021-07-09",
          "2021-07-10",
          "2021-07-11",
          "2021-07-12",
          "2021-07-13",
          "2021-07-14",
          "2021-07-15",
          "2021-07-16",
          "2021-07-17",
          "2021-07-18",
          "2021-07-19",
          "2021-07-20",
          "2021-07-21",
          "2021-07-22",
          "2021-07-23",
          "2021-07-24",
          "2021-07-25",
          "2021-07-26",
          "2021-07-27",
          "2021-07-28",
          "2021-07-29",
          "2021-07-30",
          "2021-07-31",
          "2021-08-01",
          "2021-08-02",
          "2021-08-03",
          "2021-08-04",
          "2021-08-05",
          "2021-08-06",
          "2021-08-07",
          "2021-08-08",
          "2021-08-09",
          "2021-08-10",
          "2021-08-11",
          "2021-08-12",
          "2021-08-13",
          "2021-08-14",
          "2021-08-15"
         ],
         "xaxis": "x",
         "y": [
          0.116021603,
          0.15414013,
          0.112213612,
          0.114380464,
          0.136388823,
          0.126559258,
          0.117986202,
          0.107436016,
          0.132963002,
          0.116206944,
          0.124782436,
          0.111493759,
          0.134132966,
          0.108964629,
          0.121195003,
          0.122590519,
          0.110988028,
          0.116677843,
          0.146147892,
          0.133170962,
          0.120849736,
          0.125555933,
          0.126672402,
          0.111706704,
          0.154710576,
          0.135344595,
          0.1030543,
          0.131593913,
          0.110973991,
          0.114293985,
          0.113658302,
          0.128684431,
          0.129329532,
          0.137477249,
          0.103294298,
          0.104105182,
          0.123024821,
          0.131478205,
          0.143568039,
          0.140877709,
          0.123787194,
          0.096826658,
          0.125331506,
          0.13388367,
          0.126706511,
          0.114663668,
          0.153951257,
          0.132082179,
          0.107194453,
          0.128264904,
          0.141764298,
          0.1515598,
          0.144535482,
          0.13412714,
          0.130480796,
          0.138258755,
          0.137482226,
          0.12136849,
          0.114844888,
          0.123586416,
          0.134784445,
          0.120840952,
          0.12759085,
          0.126915246
         ],
         "yaxis": "y"
        },
        {
         "line": {
          "color": "black",
          "dash": "dot",
          "width": 4
         },
         "mode": "lines",
         "name": "Alpha(Actual Data)",
         "showlegend": false,
         "type": "scatter",
         "x": [
          "2021-06-13",
          "2021-06-14",
          "2021-06-15",
          "2021-06-16",
          "2021-06-17",
          "2021-06-18",
          "2021-06-19",
          "2021-06-20",
          "2021-06-21",
          "2021-06-22",
          "2021-06-23",
          "2021-06-24",
          "2021-06-25",
          "2021-06-26",
          "2021-06-27",
          "2021-06-28",
          "2021-06-29",
          "2021-06-30",
          "2021-07-01",
          "2021-07-02",
          "2021-07-03",
          "2021-07-04",
          "2021-07-05",
          "2021-07-06",
          "2021-07-07",
          "2021-07-08",
          "2021-07-09",
          "2021-07-10",
          "2021-07-11",
          "2021-07-12",
          "2021-07-13",
          "2021-07-14",
          "2021-07-15",
          "2021-07-16",
          "2021-07-17",
          "2021-07-18",
          "2021-07-19",
          "2021-07-20",
          "2021-07-21",
          "2021-07-22",
          "2021-07-23",
          "2021-07-24",
          "2021-07-25",
          "2021-07-26",
          "2021-07-27",
          "2021-07-28",
          "2021-07-29",
          "2021-07-30",
          "2021-07-31",
          "2021-08-01",
          "2021-08-02",
          "2021-08-03",
          "2021-08-04",
          "2021-08-05",
          "2021-08-06",
          "2021-08-07",
          "2021-08-08",
          "2021-08-09",
          "2021-08-10",
          "2021-08-11",
          "2021-08-12",
          "2021-08-13",
          "2021-08-14",
          "2021-08-15"
         ],
         "xaxis": "x2",
         "y": [
          195.61,
          203.75,
          212.35,
          225.55,
          236.96,
          244.87,
          251.72,
          257.28,
          250.08,
          245.52,
          249.12,
          249.72,
          250.92,
          252.6,
          255.48,
          260.28,
          273.48,
          279.48,
          287.4,
          300.72,
          313.56,
          327.72,
          330,
          332.7,
          331.8,
          333.12,
          335.46,
          339.96,
          343.62,
          343.8,
          335.28,
          334.32,
          334.2,
          329.88,
          323.22,
          317.88,
          314.88,
          312.63,
          304.56,
          292.23,
          280.38,
          267.24,
          252.42,
          243.3,
          235.41,
          224.25,
          208.56,
          196.92,
          185.19,
          174.99,
          168.16,
          160.27,
          151.19,
          144.86,
          137.03,
          128.25,
          123.27,
          116.85,
          109.86,
          99.84,
          91.52,
          81.2,
          75.08,
          68
         ],
         "yaxis": "y2"
        },
        {
         "line": {
          "color": "red"
         },
         "mode": "lines",
         "name": "Alpha(Predicted Data)",
         "showlegend": false,
         "type": "scatter",
         "x": [
          "2021-06-13",
          "2021-06-14",
          "2021-06-15",
          "2021-06-16",
          "2021-06-17",
          "2021-06-18",
          "2021-06-19",
          "2021-06-20",
          "2021-06-21",
          "2021-06-22",
          "2021-06-23",
          "2021-06-24",
          "2021-06-25",
          "2021-06-26",
          "2021-06-27",
          "2021-06-28",
          "2021-06-29",
          "2021-06-30",
          "2021-07-01",
          "2021-07-02",
          "2021-07-03",
          "2021-07-04",
          "2021-07-05",
          "2021-07-06",
          "2021-07-07",
          "2021-07-08",
          "2021-07-09",
          "2021-07-10",
          "2021-07-11",
          "2021-07-12",
          "2021-07-13",
          "2021-07-14",
          "2021-07-15",
          "2021-07-16",
          "2021-07-17",
          "2021-07-18",
          "2021-07-19",
          "2021-07-20",
          "2021-07-21",
          "2021-07-22",
          "2021-07-23",
          "2021-07-24",
          "2021-07-25",
          "2021-07-26",
          "2021-07-27",
          "2021-07-28",
          "2021-07-29",
          "2021-07-30",
          "2021-07-31",
          "2021-08-01",
          "2021-08-02",
          "2021-08-03",
          "2021-08-04",
          "2021-08-05",
          "2021-08-06",
          "2021-08-07",
          "2021-08-08",
          "2021-08-09",
          "2021-08-10",
          "2021-08-11",
          "2021-08-12",
          "2021-08-13",
          "2021-08-14",
          "2021-08-15"
         ],
         "xaxis": "x2",
         "y": [
          57.54806003,
          61.27547573,
          216.4154109,
          223.0922456,
          233.0791209,
          243.5887254,
          250.278697,
          244.675597,
          252.588714,
          253.7468622,
          246.1113295,
          250.3171168,
          251.3919656,
          253.7808456,
          257.3458901,
          268.4365698,
          265.9903993,
          281.2299699,
          292.4329353,
          299.671269,
          314.3001607,
          315.7414866,
          330.4013455,
          329.1073039,
          334.0235805,
          334.1307277,
          337.5886103,
          339.0715531,
          340.1380828,
          335.1044607,
          342.8156049,
          335.1596554,
          329.9984488,
          327.4527828,
          324.4299684,
          320.1696036,
          315.6085633,
          306.7519202,
          299.973289,
          292.2100154,
          278.5346501,
          264.8313112,
          257.5845496,
          244.2342466,
          231.7659615,
          218.9391732,
          211.7343211,
          196.1366362,
          186.0739284,
          177.9618858,
          166.7795391,
          158.6329968,
          153.5598399,
          143.0178496,
          135.578304,
          131.709069,
          121.5706376,
          115.8959538,
          106.1924631,
          100.705,
          88.58181818,
          84.62218719,
          73.54288759,
          75.08
         ],
         "yaxis": "y2"
        },
        {
         "line": {
          "color": "gray",
          "dash": "dot",
          "width": 4
         },
         "mode": "lines",
         "name": "Delta(Actual Data)",
         "showlegend": false,
         "type": "scatter",
         "x": [
          "2021-06-13",
          "2021-06-14",
          "2021-06-15",
          "2021-06-16",
          "2021-06-17",
          "2021-06-18",
          "2021-06-19",
          "2021-06-20",
          "2021-06-21",
          "2021-06-22",
          "2021-06-23",
          "2021-06-24",
          "2021-06-25",
          "2021-06-26",
          "2021-06-27",
          "2021-06-28",
          "2021-06-29",
          "2021-06-30",
          "2021-07-01",
          "2021-07-02",
          "2021-07-03",
          "2021-07-04",
          "2021-07-05",
          "2021-07-06",
          "2021-07-07",
          "2021-07-08",
          "2021-07-09",
          "2021-07-10",
          "2021-07-11",
          "2021-07-12",
          "2021-07-13",
          "2021-07-14",
          "2021-07-15",
          "2021-07-16",
          "2021-07-17",
          "2021-07-18",
          "2021-07-19",
          "2021-07-20",
          "2021-07-21",
          "2021-07-22",
          "2021-07-23",
          "2021-07-24",
          "2021-07-25",
          "2021-07-26",
          "2021-07-27",
          "2021-07-28",
          "2021-07-29",
          "2021-07-30",
          "2021-07-31",
          "2021-08-01",
          "2021-08-02",
          "2021-08-03",
          "2021-08-04",
          "2021-08-05",
          "2021-08-06",
          "2021-08-07",
          "2021-08-08",
          "2021-08-09",
          "2021-08-10",
          "2021-08-11",
          "2021-08-12",
          "2021-08-13",
          "2021-08-14",
          "2021-08-15"
         ],
         "xaxis": "x2",
         "y": [
          193.39,
          206.57,
          219.89,
          240.73,
          260.02,
          275.17,
          289.14,
          300.16,
          314.51,
          332.19,
          384.14,
          431.09,
          478.24,
          527.2,
          573.81,
          619.91,
          692.81,
          759.81,
          831.3,
          912.84,
          990.82,
          1065.09,
          1159.4,
          1258.63,
          1400.67,
          1559.8,
          1727.38,
          1920.15,
          2092.81,
          2222.56,
          2320.48,
          2500.64,
          2696.17,
          2862.25,
          2995.84,
          3125.82,
          3257.82,
          3417.62,
          3559.14,
          3615.07,
          3695.67,
          3786.86,
          3793.13,
          3869.7,
          3969.29,
          4123.65,
          4192.14,
          4326.58,
          4398.86,
          4491.41,
          4549.76,
          4596.85,
          4701.45,
          4875.94,
          4995.29,
          5126.31,
          5318.81,
          5436.91,
          5548.7,
          5753.28,
          5938.4,
          6047.92,
          6288.12,
          6460
         ],
         "yaxis": "y2"
        },
        {
         "line": {
          "color": "blue"
         },
         "mode": "lines",
         "name": "Delta(Predicted Data)",
         "showlegend": false,
         "type": "scatter",
         "x": [
          "2021-06-13",
          "2021-06-14",
          "2021-06-15",
          "2021-06-16",
          "2021-06-17",
          "2021-06-18",
          "2021-06-19",
          "2021-06-20",
          "2021-06-21",
          "2021-06-22",
          "2021-06-23",
          "2021-06-24",
          "2021-06-25",
          "2021-06-26",
          "2021-06-27",
          "2021-06-28",
          "2021-06-29",
          "2021-06-30",
          "2021-07-01",
          "2021-07-02",
          "2021-07-03",
          "2021-07-04",
          "2021-07-05",
          "2021-07-06",
          "2021-07-07",
          "2021-07-08",
          "2021-07-09",
          "2021-07-10",
          "2021-07-11",
          "2021-07-12",
          "2021-07-13",
          "2021-07-14",
          "2021-07-15",
          "2021-07-16",
          "2021-07-17",
          "2021-07-18",
          "2021-07-19",
          "2021-07-20",
          "2021-07-21",
          "2021-07-22",
          "2021-07-23",
          "2021-07-24",
          "2021-07-25",
          "2021-07-26",
          "2021-07-27",
          "2021-07-28",
          "2021-07-29",
          "2021-07-30",
          "2021-07-31",
          "2021-08-01",
          "2021-08-02",
          "2021-08-03",
          "2021-08-04",
          "2021-08-05",
          "2021-08-06",
          "2021-08-07",
          "2021-08-08",
          "2021-08-09",
          "2021-08-10",
          "2021-08-11",
          "2021-08-12",
          "2021-08-13",
          "2021-08-14",
          "2021-08-15"
         ],
         "xaxis": "x2",
         "y": [
          189.4154718,
          205.8601302,
          226.1476015,
          237.5100644,
          254.756073,
          273.2208555,
          285.657561,
          302.9631576,
          317.0333229,
          363.6950884,
          372.7906157,
          426.1548948,
          475.223001,
          520.5214234,
          569.5553441,
          641.2887453,
          679.8600152,
          757.9960161,
          834.3377366,
          902.3143881,
          981.2647662,
          1078.553651,
          1156.248255,
          1290.24161,
          1401.622848,
          1551.153574,
          1733.868616,
          1882.70611,
          2039.195428,
          2185.013565,
          2395.117578,
          2501.922932,
          2654.675647,
          2822.008536,
          2986.433953,
          3122.351085,
          3279.145241,
          3392.722852,
          3471.326088,
          3638.493009,
          3704.271209,
          3701.789014,
          3863.303431,
          3890.749406,
          4020.187088,
          4035.216224,
          4255.893557,
          4262.174041,
          4417.609262,
          4456.00764,
          4537.896078,
          4868.455312,
          5179.461313,
          5541.555732,
          5805.380502,
          5969.874107,
          6344.803983,
          6672.834958,
          6840.116506,
          6583.645378,
          6465.834808,
          6222.766601,
          6063.165111,
          5849.587768
         ],
         "yaxis": "y2"
        }
       ],
       "layout": {
        "annotations": [
         {
          "font": {
           "size": 25
          },
          "showarrow": false,
          "text": "Predicted Transmission Rate For Alpha & Delta",
          "x": 0.225,
          "xanchor": "center",
          "xref": "paper",
          "y": 1,
          "yanchor": "bottom",
          "yref": "paper"
         },
         {
          "font": {
           "size": 25
          },
          "showarrow": false,
          "text": "Predicted Infected using Predicted Transmission Rate",
          "x": 0.775,
          "xanchor": "center",
          "xref": "paper",
          "y": 1,
          "yanchor": "bottom",
          "yref": "paper"
         },
         {
          "font": {
           "color": "red"
          },
          "showarrow": false,
          "text": "Training Data",
          "x": "2021-07-25",
          "xref": "x",
          "y": 0.2,
          "yref": "y"
         },
         {
          "font": {
           "color": "red"
          },
          "showarrow": false,
          "text": "Prediction",
          "x": "2021-08-07",
          "xref": "x",
          "y": 0.2,
          "yref": "y"
         },
         {
          "font": {
           "color": "red"
          },
          "showarrow": false,
          "text": "Training Data",
          "x": "2021-07-25",
          "xref": "x2",
          "y": 1500,
          "yref": "y2"
         },
         {
          "font": {
           "color": "red"
          },
          "showarrow": false,
          "text": "Prediction",
          "x": "2021-08-07",
          "xref": "x2",
          "y": 1500,
          "yref": "y2"
         }
        ],
        "height": 800,
        "legend": {
         "bordercolor": "Black",
         "borderwidth": 0.5,
         "orientation": "h",
         "x": 1,
         "xanchor": "right",
         "y": 1.08
        },
        "margin": {
         "t": 200
        },
        "plot_bgcolor": "white",
        "shapes": [
         {
          "line": {
           "color": "red",
           "dash": "dash",
           "width": 2
          },
          "type": "line",
          "x0": "2021-08-01",
          "x1": "2021-08-01",
          "xref": "x",
          "y0": 0,
          "y1": 1,
          "yref": "y domain"
         },
         {
          "line": {
           "color": "red",
           "dash": "dash",
           "width": 2
          },
          "type": "line",
          "x0": "2021-08-01",
          "x1": "2021-08-01",
          "xref": "x2",
          "y0": 0,
          "y1": 1,
          "yref": "y2 domain"
         }
        ],
        "template": {
         "data": {
          "bar": [
           {
            "error_x": {
             "color": "#2a3f5f"
            },
            "error_y": {
             "color": "#2a3f5f"
            },
            "marker": {
             "line": {
              "color": "#E5ECF6",
              "width": 0.5
             },
             "pattern": {
              "fillmode": "overlay",
              "size": 10,
              "solidity": 0.2
             }
            },
            "type": "bar"
           }
          ],
          "barpolar": [
           {
            "marker": {
             "line": {
              "color": "#E5ECF6",
              "width": 0.5
             },
             "pattern": {
              "fillmode": "overlay",
              "size": 10,
              "solidity": 0.2
             }
            },
            "type": "barpolar"
           }
          ],
          "carpet": [
           {
            "aaxis": {
             "endlinecolor": "#2a3f5f",
             "gridcolor": "white",
             "linecolor": "white",
             "minorgridcolor": "white",
             "startlinecolor": "#2a3f5f"
            },
            "baxis": {
             "endlinecolor": "#2a3f5f",
             "gridcolor": "white",
             "linecolor": "white",
             "minorgridcolor": "white",
             "startlinecolor": "#2a3f5f"
            },
            "type": "carpet"
           }
          ],
          "choropleth": [
           {
            "colorbar": {
             "outlinewidth": 0,
             "ticks": ""
            },
            "type": "choropleth"
           }
          ],
          "contour": [
           {
            "colorbar": {
             "outlinewidth": 0,
             "ticks": ""
            },
            "colorscale": [
             [
              0,
              "#0d0887"
             ],
             [
              0.1111111111111111,
              "#46039f"
             ],
             [
              0.2222222222222222,
              "#7201a8"
             ],
             [
              0.3333333333333333,
              "#9c179e"
             ],
             [
              0.4444444444444444,
              "#bd3786"
             ],
             [
              0.5555555555555556,
              "#d8576b"
             ],
             [
              0.6666666666666666,
              "#ed7953"
             ],
             [
              0.7777777777777778,
              "#fb9f3a"
             ],
             [
              0.8888888888888888,
              "#fdca26"
             ],
             [
              1,
              "#f0f921"
             ]
            ],
            "type": "contour"
           }
          ],
          "contourcarpet": [
           {
            "colorbar": {
             "outlinewidth": 0,
             "ticks": ""
            },
            "type": "contourcarpet"
           }
          ],
          "heatmap": [
           {
            "colorbar": {
             "outlinewidth": 0,
             "ticks": ""
            },
            "colorscale": [
             [
              0,
              "#0d0887"
             ],
             [
              0.1111111111111111,
              "#46039f"
             ],
             [
              0.2222222222222222,
              "#7201a8"
             ],
             [
              0.3333333333333333,
              "#9c179e"
             ],
             [
              0.4444444444444444,
              "#bd3786"
             ],
             [
              0.5555555555555556,
              "#d8576b"
             ],
             [
              0.6666666666666666,
              "#ed7953"
             ],
             [
              0.7777777777777778,
              "#fb9f3a"
             ],
             [
              0.8888888888888888,
              "#fdca26"
             ],
             [
              1,
              "#f0f921"
             ]
            ],
            "type": "heatmap"
           }
          ],
          "heatmapgl": [
           {
            "colorbar": {
             "outlinewidth": 0,
             "ticks": ""
            },
            "colorscale": [
             [
              0,
              "#0d0887"
             ],
             [
              0.1111111111111111,
              "#46039f"
             ],
             [
              0.2222222222222222,
              "#7201a8"
             ],
             [
              0.3333333333333333,
              "#9c179e"
             ],
             [
              0.4444444444444444,
              "#bd3786"
             ],
             [
              0.5555555555555556,
              "#d8576b"
             ],
             [
              0.6666666666666666,
              "#ed7953"
             ],
             [
              0.7777777777777778,
              "#fb9f3a"
             ],
             [
              0.8888888888888888,
              "#fdca26"
             ],
             [
              1,
              "#f0f921"
             ]
            ],
            "type": "heatmapgl"
           }
          ],
          "histogram": [
           {
            "marker": {
             "pattern": {
              "fillmode": "overlay",
              "size": 10,
              "solidity": 0.2
             }
            },
            "type": "histogram"
           }
          ],
          "histogram2d": [
           {
            "colorbar": {
             "outlinewidth": 0,
             "ticks": ""
            },
            "colorscale": [
             [
              0,
              "#0d0887"
             ],
             [
              0.1111111111111111,
              "#46039f"
             ],
             [
              0.2222222222222222,
              "#7201a8"
             ],
             [
              0.3333333333333333,
              "#9c179e"
             ],
             [
              0.4444444444444444,
              "#bd3786"
             ],
             [
              0.5555555555555556,
              "#d8576b"
             ],
             [
              0.6666666666666666,
              "#ed7953"
             ],
             [
              0.7777777777777778,
              "#fb9f3a"
             ],
             [
              0.8888888888888888,
              "#fdca26"
             ],
             [
              1,
              "#f0f921"
             ]
            ],
            "type": "histogram2d"
           }
          ],
          "histogram2dcontour": [
           {
            "colorbar": {
             "outlinewidth": 0,
             "ticks": ""
            },
            "colorscale": [
             [
              0,
              "#0d0887"
             ],
             [
              0.1111111111111111,
              "#46039f"
             ],
             [
              0.2222222222222222,
              "#7201a8"
             ],
             [
              0.3333333333333333,
              "#9c179e"
             ],
             [
              0.4444444444444444,
              "#bd3786"
             ],
             [
              0.5555555555555556,
              "#d8576b"
             ],
             [
              0.6666666666666666,
              "#ed7953"
             ],
             [
              0.7777777777777778,
              "#fb9f3a"
             ],
             [
              0.8888888888888888,
              "#fdca26"
             ],
             [
              1,
              "#f0f921"
             ]
            ],
            "type": "histogram2dcontour"
           }
          ],
          "mesh3d": [
           {
            "colorbar": {
             "outlinewidth": 0,
             "ticks": ""
            },
            "type": "mesh3d"
           }
          ],
          "parcoords": [
           {
            "line": {
             "colorbar": {
              "outlinewidth": 0,
              "ticks": ""
             }
            },
            "type": "parcoords"
           }
          ],
          "pie": [
           {
            "automargin": true,
            "type": "pie"
           }
          ],
          "scatter": [
           {
            "fillpattern": {
             "fillmode": "overlay",
             "size": 10,
             "solidity": 0.2
            },
            "type": "scatter"
           }
          ],
          "scatter3d": [
           {
            "line": {
             "colorbar": {
              "outlinewidth": 0,
              "ticks": ""
             }
            },
            "marker": {
             "colorbar": {
              "outlinewidth": 0,
              "ticks": ""
             }
            },
            "type": "scatter3d"
           }
          ],
          "scattercarpet": [
           {
            "marker": {
             "colorbar": {
              "outlinewidth": 0,
              "ticks": ""
             }
            },
            "type": "scattercarpet"
           }
          ],
          "scattergeo": [
           {
            "marker": {
             "colorbar": {
              "outlinewidth": 0,
              "ticks": ""
             }
            },
            "type": "scattergeo"
           }
          ],
          "scattergl": [
           {
            "marker": {
             "colorbar": {
              "outlinewidth": 0,
              "ticks": ""
             }
            },
            "type": "scattergl"
           }
          ],
          "scattermapbox": [
           {
            "marker": {
             "colorbar": {
              "outlinewidth": 0,
              "ticks": ""
             }
            },
            "type": "scattermapbox"
           }
          ],
          "scatterpolar": [
           {
            "marker": {
             "colorbar": {
              "outlinewidth": 0,
              "ticks": ""
             }
            },
            "type": "scatterpolar"
           }
          ],
          "scatterpolargl": [
           {
            "marker": {
             "colorbar": {
              "outlinewidth": 0,
              "ticks": ""
             }
            },
            "type": "scatterpolargl"
           }
          ],
          "scatterternary": [
           {
            "marker": {
             "colorbar": {
              "outlinewidth": 0,
              "ticks": ""
             }
            },
            "type": "scatterternary"
           }
          ],
          "surface": [
           {
            "colorbar": {
             "outlinewidth": 0,
             "ticks": ""
            },
            "colorscale": [
             [
              0,
              "#0d0887"
             ],
             [
              0.1111111111111111,
              "#46039f"
             ],
             [
              0.2222222222222222,
              "#7201a8"
             ],
             [
              0.3333333333333333,
              "#9c179e"
             ],
             [
              0.4444444444444444,
              "#bd3786"
             ],
             [
              0.5555555555555556,
              "#d8576b"
             ],
             [
              0.6666666666666666,
              "#ed7953"
             ],
             [
              0.7777777777777778,
              "#fb9f3a"
             ],
             [
              0.8888888888888888,
              "#fdca26"
             ],
             [
              1,
              "#f0f921"
             ]
            ],
            "type": "surface"
           }
          ],
          "table": [
           {
            "cells": {
             "fill": {
              "color": "#EBF0F8"
             },
             "line": {
              "color": "white"
             }
            },
            "header": {
             "fill": {
              "color": "#C8D4E3"
             },
             "line": {
              "color": "white"
             }
            },
            "type": "table"
           }
          ]
         },
         "layout": {
          "annotationdefaults": {
           "arrowcolor": "#2a3f5f",
           "arrowhead": 0,
           "arrowwidth": 1
          },
          "autotypenumbers": "strict",
          "coloraxis": {
           "colorbar": {
            "outlinewidth": 0,
            "ticks": ""
           }
          },
          "colorscale": {
           "diverging": [
            [
             0,
             "#8e0152"
            ],
            [
             0.1,
             "#c51b7d"
            ],
            [
             0.2,
             "#de77ae"
            ],
            [
             0.3,
             "#f1b6da"
            ],
            [
             0.4,
             "#fde0ef"
            ],
            [
             0.5,
             "#f7f7f7"
            ],
            [
             0.6,
             "#e6f5d0"
            ],
            [
             0.7,
             "#b8e186"
            ],
            [
             0.8,
             "#7fbc41"
            ],
            [
             0.9,
             "#4d9221"
            ],
            [
             1,
             "#276419"
            ]
           ],
           "sequential": [
            [
             0,
             "#0d0887"
            ],
            [
             0.1111111111111111,
             "#46039f"
            ],
            [
             0.2222222222222222,
             "#7201a8"
            ],
            [
             0.3333333333333333,
             "#9c179e"
            ],
            [
             0.4444444444444444,
             "#bd3786"
            ],
            [
             0.5555555555555556,
             "#d8576b"
            ],
            [
             0.6666666666666666,
             "#ed7953"
            ],
            [
             0.7777777777777778,
             "#fb9f3a"
            ],
            [
             0.8888888888888888,
             "#fdca26"
            ],
            [
             1,
             "#f0f921"
            ]
           ],
           "sequentialminus": [
            [
             0,
             "#0d0887"
            ],
            [
             0.1111111111111111,
             "#46039f"
            ],
            [
             0.2222222222222222,
             "#7201a8"
            ],
            [
             0.3333333333333333,
             "#9c179e"
            ],
            [
             0.4444444444444444,
             "#bd3786"
            ],
            [
             0.5555555555555556,
             "#d8576b"
            ],
            [
             0.6666666666666666,
             "#ed7953"
            ],
            [
             0.7777777777777778,
             "#fb9f3a"
            ],
            [
             0.8888888888888888,
             "#fdca26"
            ],
            [
             1,
             "#f0f921"
            ]
           ]
          },
          "colorway": [
           "#636efa",
           "#EF553B",
           "#00cc96",
           "#ab63fa",
           "#FFA15A",
           "#19d3f3",
           "#FF6692",
           "#B6E880",
           "#FF97FF",
           "#FECB52"
          ],
          "font": {
           "color": "#2a3f5f"
          },
          "geo": {
           "bgcolor": "white",
           "lakecolor": "white",
           "landcolor": "#E5ECF6",
           "showlakes": true,
           "showland": true,
           "subunitcolor": "white"
          },
          "hoverlabel": {
           "align": "left"
          },
          "hovermode": "closest",
          "mapbox": {
           "style": "light"
          },
          "paper_bgcolor": "white",
          "plot_bgcolor": "#E5ECF6",
          "polar": {
           "angularaxis": {
            "gridcolor": "white",
            "linecolor": "white",
            "ticks": ""
           },
           "bgcolor": "#E5ECF6",
           "radialaxis": {
            "gridcolor": "white",
            "linecolor": "white",
            "ticks": ""
           }
          },
          "scene": {
           "xaxis": {
            "backgroundcolor": "#E5ECF6",
            "gridcolor": "white",
            "gridwidth": 2,
            "linecolor": "white",
            "showbackground": true,
            "ticks": "",
            "zerolinecolor": "white"
           },
           "yaxis": {
            "backgroundcolor": "#E5ECF6",
            "gridcolor": "white",
            "gridwidth": 2,
            "linecolor": "white",
            "showbackground": true,
            "ticks": "",
            "zerolinecolor": "white"
           },
           "zaxis": {
            "backgroundcolor": "#E5ECF6",
            "gridcolor": "white",
            "gridwidth": 2,
            "linecolor": "white",
            "showbackground": true,
            "ticks": "",
            "zerolinecolor": "white"
           }
          },
          "shapedefaults": {
           "line": {
            "color": "#2a3f5f"
           }
          },
          "ternary": {
           "aaxis": {
            "gridcolor": "white",
            "linecolor": "white",
            "ticks": ""
           },
           "baxis": {
            "gridcolor": "white",
            "linecolor": "white",
            "ticks": ""
           },
           "bgcolor": "#E5ECF6",
           "caxis": {
            "gridcolor": "white",
            "linecolor": "white",
            "ticks": ""
           }
          },
          "title": {
           "x": 0.05
          },
          "xaxis": {
           "automargin": true,
           "gridcolor": "white",
           "linecolor": "white",
           "ticks": "",
           "title": {
            "standoff": 15
           },
           "zerolinecolor": "white",
           "zerolinewidth": 2
          },
          "yaxis": {
           "automargin": true,
           "gridcolor": "white",
           "linecolor": "white",
           "ticks": "",
           "title": {
            "standoff": 15
           },
           "zerolinecolor": "white",
           "zerolinewidth": 2
          }
         }
        },
        "title": {
         "font": {
          "color": "#000000",
          "family": "Arial",
          "size": 30
         },
         "text": "<b>Medium term prediction by using BiLSTM for Geonggi</b>",
         "x": 0.5,
         "xanchor": "center",
         "y": 0.95,
         "yanchor": "bottom"
        },
        "width": 1200,
        "xaxis": {
         "anchor": "y",
         "domain": [
          0,
          0.45
         ],
         "gridcolor": "lightgray",
         "linecolor": "gray",
         "mirror": true,
         "title": {
          "text": "Date"
         }
        },
        "xaxis2": {
         "anchor": "y2",
         "domain": [
          0.55,
          1
         ],
         "gridcolor": "lightgray",
         "linecolor": "gray",
         "mirror": true,
         "title": {
          "text": "Date"
         }
        },
        "yaxis": {
         "anchor": "x",
         "domain": [
          0,
          1
         ],
         "gridcolor": "lightgray",
         "linecolor": "gray",
         "mirror": true,
         "title": {
          "text": "Number"
         }
        },
        "yaxis2": {
         "anchor": "x2",
         "domain": [
          0,
          1
         ],
         "gridcolor": "lightgray",
         "linecolor": "gray",
         "mirror": true,
         "title": {
          "text": "Number"
         }
        }
       }
      }
     },
     "metadata": {},
     "output_type": "display_data"
    }
   ],
   "source": [
    "# 중기\n",
    "\n",
    "fig = make_subplots(rows=1, cols=2, \n",
    "                    horizontal_spacing=0.1, # 너비 간격을 설정할 수 있음 \n",
    "                    subplot_titles=('Predicted Transmission Rate For Alpha & Delta', 'Predicted Infected using Predicted Transmission Rate')\n",
    "                    )\n",
    "fig.update_annotations(font_size=25)\n",
    "# alpha\n",
    "fig.add_trace(go.Scatter(x=alpha_dic[region]['stdDay'], y=alpha_dic[region]['Alpha_alpha'], name='Alpha(Actual Data)', \n",
    "                         mode='lines', line=dict(color='black', width=2, dash='dot')), row=1, col=1)\n",
    "fig.add_trace(go.Scatter(x=alpha_dic[region]['stdDay'], y=alpha_dic[region]['predicted_Alpha_alpha'], name='Alpha(Predicted Data)', \n",
    "                         mode='lines', line=dict(color='red', width=2)), row=1, col=1)\n",
    "fig.add_trace(go.Scatter(x=delta_dic[region]['stdDay'], y=delta_dic[region]['Delta_alpha'], name='Delta(Actual Data)', \n",
    "                         mode='lines', line=dict(color='gray', width=2, dash='dot')), row=1, col=1)\n",
    "fig.add_trace(go.Scatter(x=delta_dic[region]['stdDay'], y=delta_dic[region]['predicted_Delta_alpha'], name='Delta(Predicted Data)', \n",
    "                         mode='lines', line=dict(color='blue', width=2)), row=1, col=1)\n",
    "\n",
    "# Infected\n",
    "fig.add_trace(go.Scatter(x=alpha_dic[region]['stdDay'], y=alpha_dic[region]['Alpha_Infected'], name='Alpha(Actual Data)', showlegend=False,\n",
    "                         mode='lines', line=dict(color='black', width=4, dash='dot')), row=1, col=2)\n",
    "fig.add_trace(go.Scatter(x=alpha_dic[region]['stdDay'], y=alpha_dic[region]['predicted_Alpha_Infected'], name='Alpha(Predicted Data)', showlegend=False,\n",
    "                         mode='lines', line=dict(color='red')), row=1, col=2)\n",
    "fig.add_trace(go.Scatter(x=delta_dic[region]['stdDay'], y=delta_dic[region]['Delta_Infected'], name='Delta(Actual Data)', showlegend=False,\n",
    "                         mode='lines', line=dict(color='gray', width=4, dash='dot')), row=1, col=2)\n",
    "fig.add_trace(go.Scatter(x=delta_dic[region]['stdDay'], y=delta_dic[region]['predicted_Delta_Infected'], name='Delta(Predicted Data)', showlegend=False,\n",
    "                         mode='lines', line=dict(color='blue')), row=1, col=2)\n",
    "fig.add_vline(x=alpha_dic['경기']['stdDay'][49], line_width=2, line_dash=\"dash\", line_color=\"red\")\n",
    "\n",
    "fig.add_annotation(x='2021-07-25', y=0.20, text='Training Data', font_color='red', showarrow=False, row=1, col=1)\n",
    "fig.add_annotation(x='2021-08-07', y=0.20, text='Prediction', font_color='red', showarrow=False, row=1, col=1)\n",
    "fig.add_annotation(x='2021-07-25', y=1500, text='Training Data', font_color='red', showarrow=False, row=1, col=2)\n",
    "fig.add_annotation(x='2021-08-07', y=1500, text='Prediction', font_color='red', showarrow=False, row=1, col=2)\n",
    "                \n",
    "fig.update_layout(\n",
    "    height=800, \n",
    "    width=1200, \n",
    "\n",
    "    xaxis1_title = 'Date',\n",
    "    yaxis1_title = 'Number',\n",
    "    xaxis2_title = 'Date',\n",
    "    yaxis2_title = 'Number',\n",
    "    plot_bgcolor ='white', # 차트 안쪽 배경색\n",
    "    margin_t=200,\n",
    "    title=dict(text='<b>Medium term prediction by using BiLSTM for Geonggi</b>',\n",
    "               xanchor='center', yanchor='bottom', \n",
    "               x=0.5, y=0.95,\n",
    "               font=dict(\n",
    "                family=\"Arial\",\n",
    "                size=30,\n",
    "                color=\"#000000\"\n",
    "                )),\n",
    "    legend=dict(orientation ='h',\n",
    "                xanchor='right', x=1, y=1.08,\n",
    "                bordercolor=\"Black\",\n",
    "                borderwidth=0.5),\n",
    "\n",
    ")\n",
    "\n",
    "fig.update_xaxes(linecolor='gray', gridcolor='lightgray',mirror=True)\n",
    "fig.update_yaxes(linecolor='gray', gridcolor='lightgray',mirror=True)\n",
    "fig.show()\n",
    "fig.write_image(f\"./image/alpha&delta_{eng[region]}_Medium_term.png\", scale=9, width=1920, height=1280)"
   ]
  },
  {
   "attachments": {},
   "cell_type": "markdown",
   "metadata": {},
   "source": [
    "pip install networkx"
   ]
  },
  {
   "attachments": {},
   "cell_type": "markdown",
   "metadata": {},
   "source": [
    "graph = {\n",
    "    1: [(2, 0), (4, 0), (5, 0), (6, 0), (7, 0), (8, 0)],\n",
    "    2: [(1, 0), (5, 0)],\n",
    "    3: [(5, 0), (6, 0)],\n",
    "    4: [(1, 0), (5, 0), (6, 0)],\n",
    "    5: [(1, 0), (2, 0), (3, 0), (4, 0), (6, 0), (7, 0)],\n",
    "    6: [(1, 0), (3, 0), (4, 0), (5, 0), (7, 0), (8, 0)],\n",
    "    7: [(1, 0), (5, 0), (6, 0)],\n",
    "    8: [(1, 0), (6, 0)]\n",
    "}\n",
    "\n",
    "# graph를 바탕으로 그래프를 그려보겠습니다.\n",
    "\n",
    "import networkx as nx\n",
    "import matplotlib.pyplot as plt\n",
    "\n",
    "G = nx.Graph()\n",
    "\n",
    "for v, edges in graph.items():\n",
    "    for e in edges:\n",
    "        G.add_edge(v, e[0], weight=e[1])\n",
    "\n",
    "pos = nx.spring_layout(G)\n",
    "nx.draw(G, pos, with_labels=True)\n",
    "edge_labels = nx.get_edge_attributes(G,'weight')\n",
    "nx.draw_networkx_edge_labels(G, pos, edge_labels=edge_labels)\n",
    "plt.show()\n"
   ]
  }
 ],
 "metadata": {
  "kernelspec": {
   "display_name": "base",
   "language": "python",
   "name": "python3"
  },
  "language_info": {
   "codemirror_mode": {
    "name": "ipython",
    "version": 3
   },
   "file_extension": ".py",
   "mimetype": "text/x-python",
   "name": "python",
   "nbconvert_exporter": "python",
   "pygments_lexer": "ipython3",
   "version": "3.8.13"
  },
  "orig_nbformat": 4
 },
 "nbformat": 4,
 "nbformat_minor": 2
}
