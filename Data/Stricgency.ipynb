{
 "cells": [
  {
   "cell_type": "code",
   "execution_count": 2,
   "id": "cdc25815",
   "metadata": {
    "ExecuteTime": {
     "end_time": "2023-06-27T15:19:09.796205Z",
     "start_time": "2023-06-27T15:19:07.420907Z"
    }
   },
   "outputs": [],
   "source": [
    "import os\n",
    "os.chdir('D:\\\\Gnan\\\\DA\\\\KMU\\\\Prediction-COVID-19')\n",
    "from utils import *\n",
    "from model import *\n",
    "from trainer import *\n",
    "\n",
    "from tqdm.notebook import tqdm\n",
    "from torch.optim.adam import Adam\n",
    "device = torch.device('cuda:0' if torch.cuda.is_available() else 'cpu')\n",
    "\n",
    "import warnings\n",
    "warnings.filterwarnings('ignore')"
   ]
  },
  {
   "cell_type": "code",
   "execution_count": 3,
   "id": "e2687eb9",
   "metadata": {
    "ExecuteTime": {
     "end_time": "2023-06-27T15:19:09.939245Z",
     "start_time": "2023-06-27T15:19:09.798199Z"
    }
   },
   "outputs": [],
   "source": [
    "path = 'Data/Cleaned_deathCnt/*.csv'\n",
    "dic_files = Load_files.load_files(path, -14, -12)\n",
    "path = 'Data/SIR_Origin/*.csv'\n",
    "dic_SIRs = Load_files.load_files(path, -17, -15)"
   ]
  },
  {
   "cell_type": "code",
   "execution_count": 4,
   "id": "8fe7f7f4",
   "metadata": {
    "ExecuteTime": {
     "end_time": "2023-06-27T15:19:09.970738Z",
     "start_time": "2023-06-27T15:19:09.941242Z"
    }
   },
   "outputs": [],
   "source": [
    "cities = ['강원', '경기', '경남', '경북', '광주', '대구', '대전', '부산', \n",
    "          '서울', '세종', '울산', '인천', '전남', '전북', '제주', '충남', '충북']\n",
    "\n",
    "dic_split = {}\n",
    "dic_index = {'up1' : [147, 347], 'up2' : [347, 547], 'down1' : [200, 400], 'down2' : [627, 827]}\n",
    "\n",
    "for pre in [7, 14]:\n",
    "    dic_stricgency = {}\n",
    "    for name, values in dic_index.items():\n",
    "        dic_city = {}\n",
    "        for city in cities:\n",
    "            if pre == 7:\n",
    "                dic_city[city] = dic_files[city][values[0]:values[1]+pre].reset_index(drop = True)\n",
    "            else:\n",
    "                dic_city[city] = dic_SIRs[city][values[0]-100:values[1]+pre].reset_index(drop = True)\n",
    "                \n",
    "        dic_stricgency[name] = dic_city\n",
    "        \n",
    "    if pre == 7:\n",
    "        dic_split['Infected'] = dic_stricgency\n",
    "    else:\n",
    "        dic_split['SIR'] = dic_stricgency"
   ]
  },
  {
   "cell_type": "code",
   "execution_count": 5,
   "id": "c6528ca7",
   "metadata": {
    "ExecuteTime": {
     "end_time": "2023-06-27T15:19:12.756496Z",
     "start_time": "2023-06-27T15:19:12.464847Z"
    }
   },
   "outputs": [],
   "source": [
    "for name1, values1 in dic_split.items():\n",
    "    for name2, values2 in values1.items():\n",
    "        for name3, values3 in values2.items():\n",
    "            values3.to_csv(f'Data/Stricgency/{name1}/{name2}/{name3}_stricgency.csv', encoding = 'cp949')"
   ]
  },
  {
   "cell_type": "code",
   "execution_count": null,
   "id": "e5a8a39e",
   "metadata": {},
   "outputs": [],
   "source": []
  }
 ],
 "metadata": {
  "kernelspec": {
   "display_name": "KDA_DA",
   "language": "python",
   "name": "kda_da"
  },
  "language_info": {
   "codemirror_mode": {
    "name": "ipython",
    "version": 3
   },
   "file_extension": ".py",
   "mimetype": "text/x-python",
   "name": "python",
   "nbconvert_exporter": "python",
   "pygments_lexer": "ipython3",
   "version": "3.10.8"
  },
  "toc": {
   "base_numbering": 1,
   "nav_menu": {},
   "number_sections": true,
   "sideBar": true,
   "skip_h1_title": false,
   "title_cell": "Table of Contents",
   "title_sidebar": "Contents",
   "toc_cell": false,
   "toc_position": {},
   "toc_section_display": true,
   "toc_window_display": false
  }
 },
 "nbformat": 4,
 "nbformat_minor": 5
}
