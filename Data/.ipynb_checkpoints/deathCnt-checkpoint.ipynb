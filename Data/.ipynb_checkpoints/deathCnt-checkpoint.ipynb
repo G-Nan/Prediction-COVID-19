{
 "cells": [
  {
   "cell_type": "code",
   "execution_count": 1,
   "id": "0ad9c49f",
   "metadata": {
    "ExecuteTime": {
     "end_time": "2023-05-16T04:53:01.097872Z",
     "start_time": "2023-05-16T04:52:58.693305Z"
    }
   },
   "outputs": [],
   "source": [
    "import os\n",
    "os.chdir('D:\\\\Gnan\\\\DA\\\\KMU\\\\Prediction-COVID-19')\n",
    "from utils import *\n",
    "#from train import train\n"
   ]
  },
  {
   "cell_type": "code",
   "execution_count": 20,
   "id": "0b9aea2e",
   "metadata": {
    "ExecuteTime": {
     "end_time": "2023-05-15T14:35:38.900839Z",
     "start_time": "2023-05-15T14:35:38.840971Z"
    }
   },
   "outputs": [],
   "source": [
    "path = 'Data/Cleaned_defCnt/*.csv'\n",
    "dic_files = Load_files.load_files(path)"
   ]
  },
  {
   "cell_type": "code",
   "execution_count": 21,
   "id": "c7e46e96",
   "metadata": {
    "ExecuteTime": {
     "end_time": "2023-05-15T14:35:39.315702Z",
     "start_time": "2023-05-15T14:35:39.173083Z"
    }
   },
   "outputs": [
    {
     "name": "stdout",
     "output_type": "stream",
     "text": [
      "강원 0\n",
      "경기 0\n",
      "경남 0\n",
      "경북 0\n",
      "광주 0\n",
      "대구 0\n",
      "대전 0\n",
      "부산 0\n",
      "서울 0\n",
      "세종 0\n",
      "울산 0\n",
      "인천 0\n",
      "전남 0\n",
      "전북 0\n",
      "제주 0\n",
      "충남 0\n",
      "충북 0\n"
     ]
    }
   ],
   "source": [
    "for key, file in dic_files.items():\n",
    "    repair_index = list(file[file['deathCnt'].diff() < 0].index)\n",
    "    \n",
    "    for j in repair_index:\n",
    "        k = j + 1\n",
    "        \n",
    "        while file.iloc[j, 0] >= file.iloc[k, 0]:   \n",
    "            k += 1\n",
    "            if k == len(file):\n",
    "                file.iloc[j:, 0] = int(file.iloc[j-1, 0])\n",
    "                break\n",
    "                \n",
    "        if k < len(file):\n",
    "            file.iloc[j:k, 0] = int((file.iloc[j-1, 0] + file.iloc[k, 0])/2)\n",
    "                \n",
    "        \n",
    "    \n",
    "    print(key, len(list(file[file['deathCnt'].diff() < 0].index)))\n",
    "    \n",
    "    cleaned_df = file.copy()\n",
    "    cleaned_df.to_csv(f'Data/Cleaned_deathCnt/{key}_Cleaned.csv', index = False)"
   ]
  },
  {
   "cell_type": "code",
   "execution_count": null,
   "id": "6d8a95e2",
   "metadata": {},
   "outputs": [],
   "source": []
  }
 ],
 "metadata": {
  "kernelspec": {
   "display_name": "KDA_DA",
   "language": "python",
   "name": "kda_da"
  },
  "language_info": {
   "codemirror_mode": {
    "name": "ipython",
    "version": 3
   },
   "file_extension": ".py",
   "mimetype": "text/x-python",
   "name": "python",
   "nbconvert_exporter": "python",
   "pygments_lexer": "ipython3",
   "version": "3.10.8"
  },
  "toc": {
   "base_numbering": 1,
   "nav_menu": {},
   "number_sections": true,
   "sideBar": true,
   "skip_h1_title": false,
   "title_cell": "Table of Contents",
   "title_sidebar": "Contents",
   "toc_cell": false,
   "toc_position": {},
   "toc_section_display": true,
   "toc_window_display": false
  }
 },
 "nbformat": 4,
 "nbformat_minor": 5
}
