{
 "cells": [
  {
   "cell_type": "code",
   "execution_count": 1,
   "id": "680ba149",
   "metadata": {
    "ExecuteTime": {
     "end_time": "2023-06-28T15:07:50.145845Z",
     "start_time": "2023-06-28T15:07:47.751010Z"
    }
   },
   "outputs": [],
   "source": [
    "import os\n",
    "os.chdir('D:\\\\Gnan\\\\DA\\\\KMU\\\\Prediction-COVID-19')\n",
    "from utils import *\n",
    "from model import *\n",
    "from trainer import *\n",
    "\n",
    "from tqdm.notebook import tqdm\n",
    "from torch.optim.adam import Adam\n",
    "device = torch.device('cuda:0' if torch.cuda.is_available() else 'cpu')\n",
    "\n",
    "import warnings\n",
    "warnings.filterwarnings('ignore')"
   ]
  },
  {
   "cell_type": "code",
   "execution_count": 2,
   "id": "805bb7ec",
   "metadata": {
    "ExecuteTime": {
     "end_time": "2023-06-28T15:07:50.224781Z",
     "start_time": "2023-06-28T15:07:50.148693Z"
    }
   },
   "outputs": [],
   "source": [
    "path = 'Data/SIR_Origin/*.csv'\n",
    "dic_SIRs = Load_files.load_files(path, -17, -15)"
   ]
  },
  {
   "cell_type": "code",
   "execution_count": 3,
   "id": "f65d4f6d",
   "metadata": {
    "ExecuteTime": {
     "end_time": "2023-06-28T15:07:50.240018Z",
     "start_time": "2023-06-28T15:07:50.226779Z"
    }
   },
   "outputs": [],
   "source": [
    "key = 'SIR'\n",
    "var_list = ['up1', 'up2', 'down1', 'down2']\n",
    "cities = ['강원', '경기', '경남', '경북', '광주', '대구', \n",
    "          '대전', '부산', '서울', '세종', '울산', '인천',\n",
    "          '전남', '전북', '제주', '충남', '충북']\n",
    "models = ['RNN', 'LSTM', 'GRU', 'BiRNN', 'BiLSTM', 'BiGRU', \n",
    "          'seq2seq_RNN', 'seq2seq_LSTM', 'seq2seq_GRU', \n",
    "          'seq2seq_BiRNN', 'seq2seq_BiLSTM', 'seq2seq_BiGRU']"
   ]
  },
  {
   "cell_type": "code",
   "execution_count": 4,
   "id": "79ee052d",
   "metadata": {
    "ExecuteTime": {
     "end_time": "2023-06-28T15:08:18.036015Z",
     "start_time": "2023-06-28T15:07:50.243012Z"
    }
   },
   "outputs": [],
   "source": [
    "var_num = 0\n",
    "dic_total_model_final = {}\n",
    "dic_model_rank = {}\n",
    "dic_city_model_rank = {}\n",
    "\n",
    "for name in models:\n",
    "    dic_model_rank[name] = 0\n",
    "\n",
    "dic_model_no_rank = dic_model_rank.copy()\n",
    "\n",
    "for var in var_list:\n",
    "    \n",
    "    path = f'Data/Stricgency/{key}/{var}/*.csv'\n",
    "    dic_files = Load_files.load_files(path, -17, -15)\n",
    "\n",
    "    dic_hyperparameter = {}\n",
    "    for city in cities:\n",
    "        path = f'hyperparameter/Stricgency/{key}/{var}/{city}/*.pkl'\n",
    "        files = glob.glob(path)\n",
    "        hyperparameter = {}\n",
    "        for file in files:\n",
    "            if var_num < 2:\n",
    "                hyperparameter[file[44:-4]] = load_hyperparameter(file)\n",
    "            else:\n",
    "                hyperparameter[file[48:-4]] = load_hyperparameter(file)\n",
    "                \n",
    "        dic_hyperparameter[city] = hyperparameter\n",
    "        \n",
    "    city_predicted = {}\n",
    "\n",
    "    for city in cities:\n",
    "\n",
    "        dic_model = load_model_multiple(dic_hyperparameter, 'Stricgency', key, var, city)\n",
    "        data = dic_files[city]\n",
    "        df = Prepare_df.processing(data, 'Date', 'alpha')\n",
    "\n",
    "        x = df.iloc[:, 0:]\n",
    "        y = df.iloc[:,:1]\n",
    "\n",
    "        ms = MinMaxScaler()\n",
    "        ss = StandardScaler()\n",
    "\n",
    "        ss.fit(x)\n",
    "        ms.fit(y)\n",
    "\n",
    "        predicted_values = {}\n",
    "        num_model = 0\n",
    "        for name, state in dic_model.items():\n",
    "            batch_size = 64\n",
    "            if num_model < 6:\n",
    "                x, y, x_ss, y_ms, train_loader, test_loader = Prepare_df.split_data(df, 238, 60, 1, batch_size, 'mto')\n",
    "                label_y, predicted = predict_mto(state, df, x_ss, y_ms)\n",
    "                predicted_values[name] = [label_y, predicted]\n",
    "                \n",
    "                data_predicted = data[['Date']].copy()\n",
    "\n",
    "                data_predicted['alpha'] = data['alpha']\n",
    "\n",
    "                data_predicted['predicted_alpha'] = 0\n",
    "                data_predicted.iloc[-1*len(predicted):, -1] = predicted\n",
    "\n",
    "                data_predicted['Infected'] = data['Infected']\n",
    "\n",
    "                data_predicted['predicted_Infected'] = 0\n",
    "                data_predicted['predicted_Infected'] = (data['Infected'].shift().fillna(0) \n",
    "                                                              * (1 + data['alpha']*data['Susceptible']/dic_SIRs[city].iloc[0, 2] \n",
    "                                                                - data['beta'] - data['gamma']))\n",
    "            \n",
    "                for i in range(len(data_predicted)-13, len(data_predicted)):\n",
    "\n",
    "                    data_predicted.iloc[i, -1] = (data_predicted.iloc[i-1, -1]\n",
    "                                                  * (1 + data_predicted.iloc[i-1, 2]*data.iloc[i-1, 3]/dic_SIRs[city].iloc[0, 2]\n",
    "                                                    - data.iloc[i-1, 8] - data.iloc[i-1, 9]))\n",
    "\n",
    "                data_predicted = data_predicted[62:].reset_index(drop = True)\n",
    "                actual_Infected = data_predicted['Infected']\n",
    "                predicted_Infected = data_predicted['predicted_Infected']\n",
    "\n",
    "                predicted_values[name] = [actual_Infected, predicted_Infected]\n",
    "            \n",
    "            else:\n",
    "                x, y, x_ss, y_ms, train_loader, test_loader = Prepare_df.split_data(df, 225, 60, 14, batch_size, 'mtm')\n",
    "                label_y, predicted, first_label_y, first_predicted, all_predicted = predict_mtm(state, df, x_ss, y_ms, 14, 0.5, device)\n",
    "                predicted_values[name] = [label_y, predicted, first_label_y, first_predicted, all_predicted]\n",
    "\n",
    "                data_predicted = data[['Date']].copy()\n",
    "\n",
    "                data_predicted['alpha'] = data['alpha']\n",
    "\n",
    "                data_predicted['predicted_alpha'] = 0\n",
    "                data_predicted.iloc[-1*len(all_predicted):, -1] = all_predicted\n",
    "\n",
    "                data_predicted['Infected'] = data['Infected']\n",
    "\n",
    "                data_predicted['predicted_Infected'] = 0\n",
    "                data_predicted['predicted_Infected'] = (data['Infected'].shift().fillna(0) \n",
    "                                                        * (1 + data['alpha']*data['Susceptible']/dic_SIRs[city].iloc[0, 2] \n",
    "                                                            - data['beta'] - data['gamma']))\n",
    "\n",
    "                for i in range(len(data_predicted)-13, len(data_predicted)):\n",
    "\n",
    "                    data_predicted.iloc[i, -1] = (data_predicted.iloc[i-1, -1]\n",
    "                                                  * (1 + data_predicted.iloc[i-1, 2]*data.iloc[i-1, 3]/dic_SIRs[city].iloc[0, 2]\n",
    "                                                    - data.iloc[i-1, 8] - data.iloc[i-1, 9]))\n",
    "\n",
    "                data_predicted = data_predicted[62:].reset_index(drop = True)\n",
    "                actual_Infected = data_predicted['Infected']\n",
    "                predicted_Infected = data_predicted['predicted_Infected']\n",
    "\n",
    "                predicted_values[name] = [actual_Infected, predicted_Infected]\n",
    "         \n",
    "            num_model += 1\n",
    "\n",
    "        city_predicted[city] = predicted_values\n",
    "\n",
    "    dic_best_model = {}\n",
    "    dic_total_model = {}\n",
    "\n",
    "    for city in cities:\n",
    "\n",
    "        actual_data = city_predicted[city]['RNN'][0]\n",
    "        num_model = 0\n",
    "        dic_model = {}\n",
    "\n",
    "        for name, file in city_predicted[city].items():\n",
    "            predicted_data = file[1]\n",
    "\n",
    "            rmse_val = rmse(actual_data[-14:], predicted_data[-14:])\n",
    "            mape_val = mape(actual_data[-14:], predicted_data[-14:])\n",
    "            dic_model[name] = [rmse_val, mape_val, actual_data, predicted_data]\n",
    "\n",
    "            num_model += 1\n",
    "\n",
    "        dic_total_model[city] = dic_model\n",
    "    dic_total_model_final[var] = dic_total_model\n",
    "    var_num += 1\n",
    "    \n",
    "    dic_var_model_rank = {}\n",
    "    for city in cities:\n",
    "        dic_model_rank_sub = dic_model_no_rank.copy()\n",
    "        rmse_rank = list(dict(sorted(dic_total_model[city].items(), key = lambda x:x[1][0])).keys())\n",
    "        for m in rmse_rank:\n",
    "            dic_model_rank[m] += rmse_rank.index(m)\n",
    "            dic_model_rank_sub[m] += rmse_rank.index(m)\n",
    "        mape_rank = list(dict(sorted(dic_total_model[city].items(), key = lambda x:x[1][1])).keys())\n",
    "        for m in mape_rank:\n",
    "            dic_model_rank[m] += mape_rank.index(m)\n",
    "            dic_model_rank_sub[m] += mape_rank.index(m)\n",
    "        dic_var_model_rank[city] = list(dict(list(sorted(dic_model_rank_sub.items(), key = lambda x:x[1]))).keys())\n",
    "    dic_city_model_rank[var] = dic_var_model_rank"
   ]
  },
  {
   "cell_type": "code",
   "execution_count": 5,
   "id": "ca436fa8",
   "metadata": {
    "ExecuteTime": {
     "end_time": "2023-06-28T15:08:18.051973Z",
     "start_time": "2023-06-28T15:08:18.038010Z"
    }
   },
   "outputs": [
    {
     "data": {
      "text/plain": [
       "['RNN',\n",
       " 'seq2seq_RNN',\n",
       " 'seq2seq_BiRNN',\n",
       " 'BiRNN',\n",
       " 'seq2seq_LSTM',\n",
       " 'LSTM',\n",
       " 'seq2seq_GRU',\n",
       " 'GRU',\n",
       " 'BiGRU',\n",
       " 'BiLSTM',\n",
       " 'seq2seq_BiGRU',\n",
       " 'seq2seq_BiLSTM']"
      ]
     },
     "execution_count": 5,
     "metadata": {},
     "output_type": "execute_result"
    }
   ],
   "source": [
    "dic_city_model_rank['up1']['서울']"
   ]
  },
  {
   "cell_type": "code",
   "execution_count": 6,
   "id": "9f17e95a",
   "metadata": {
    "ExecuteTime": {
     "end_time": "2023-06-28T15:08:18.067930Z",
     "start_time": "2023-06-28T15:08:18.053989Z"
    }
   },
   "outputs": [
    {
     "data": {
      "text/plain": [
       "{'BiRNN': 578,\n",
       " 'seq2seq_RNN': 608,\n",
       " 'BiLSTM': 667,\n",
       " 'BiGRU': 680,\n",
       " 'LSTM': 686,\n",
       " 'RNN': 695,\n",
       " 'seq2seq_LSTM': 709,\n",
       " 'GRU': 727,\n",
       " 'seq2seq_BiRNN': 729,\n",
       " 'seq2seq_BiLSTM': 934,\n",
       " 'seq2seq_GRU': 962,\n",
       " 'seq2seq_BiGRU': 1001}"
      ]
     },
     "execution_count": 6,
     "metadata": {},
     "output_type": "execute_result"
    }
   ],
   "source": [
    "dict(sorted(dic_model_rank.items(), key = lambda x:x[1]))"
   ]
  },
  {
   "cell_type": "code",
   "execution_count": 7,
   "id": "6749a50a",
   "metadata": {
    "ExecuteTime": {
     "end_time": "2023-06-28T15:08:18.083888Z",
     "start_time": "2023-06-28T15:08:18.069926Z"
    }
   },
   "outputs": [
    {
     "data": {
      "text/plain": [
       "['BiRNN',\n",
       " 'seq2seq_RNN',\n",
       " 'BiLSTM',\n",
       " 'BiGRU',\n",
       " 'LSTM',\n",
       " 'RNN',\n",
       " 'seq2seq_LSTM',\n",
       " 'GRU',\n",
       " 'seq2seq_BiRNN',\n",
       " 'seq2seq_BiLSTM',\n",
       " 'seq2seq_GRU',\n",
       " 'seq2seq_BiGRU']"
      ]
     },
     "execution_count": 7,
     "metadata": {},
     "output_type": "execute_result"
    }
   ],
   "source": [
    "model_rank_list = list(dict(sorted(dic_model_rank.items(), key = lambda x:(x[1]))).keys())\n",
    "model_rank_list"
   ]
  },
  {
   "cell_type": "code",
   "execution_count": 8,
   "id": "ccbff12b",
   "metadata": {
    "ExecuteTime": {
     "end_time": "2023-06-28T15:08:18.099505Z",
     "start_time": "2023-06-28T15:08:18.085543Z"
    }
   },
   "outputs": [
    {
     "data": {
      "text/plain": [
       "['BiRNN', 'seq2seq_RNN', 'BiLSTM', 'BiGRU', 'LSTM', 'RNN']"
      ]
     },
     "execution_count": 8,
     "metadata": {},
     "output_type": "execute_result"
    }
   ],
   "source": [
    "top_model = model_rank_list[:6]\n",
    "top_model"
   ]
  },
  {
   "cell_type": "code",
   "execution_count": 9,
   "id": "f47da97e",
   "metadata": {
    "ExecuteTime": {
     "end_time": "2023-06-28T15:08:19.773855Z",
     "start_time": "2023-06-28T15:08:18.100503Z"
    },
    "scrolled": false
   },
   "outputs": [
    {
     "name": "stdout",
     "output_type": "stream",
     "text": [
      "up1 강원\n",
      "BiLSTM 7.913389705385747 7.913389705385747 -107.86460861136203\n",
      "up1 경기\n",
      "BiLSTM 2.311527099216429 2.311527099216429 1035.8666066080855\n",
      "up1 경남\n",
      "BiLSTM 2.7879857156269954 2.7879857156269954 -94.10239249760372\n",
      "up1 경북\n",
      "BiLSTM 10.505640163198612 10.505640163198612 337.4739251659069\n",
      "up1 광주\n",
      "seq2seq_RNN 11.047536995257069 11.047536995257069 357.0378989067804\n",
      "up1 대구\n",
      "BiRNN 8.804370878020569 8.804370878020569 371.95149666596336\n",
      "up1 대전\n",
      "BiRNN 8.915546660346456 8.915546660346456 -116.11515772026698\n",
      "up1 부산\n",
      "RNN 26.51017394285938 26.51017394285938 -1545.8374047494913\n",
      "up1 서울\n",
      "RNN 9.583444528406652 9.583444528406652 -5136.886216297078\n",
      "up1 세종\n",
      "seq2seq_RNN 11.91849148073559 11.91849148073559 -0.21862617266256557\n",
      "up1 울산\n",
      "BiRNN 7.953669146446367 7.953669146446367 210.10110852133107\n",
      "up1 인천\n",
      "BiRNN 2.3719281889087553 2.3719281889087553 -22.37372191451709\n",
      "up1 전남\n",
      "BiGRU 9.043966146569158 9.043966146569158 78.0602152939291\n",
      "up1 전북\n",
      "seq2seq_RNN 22.28662434796942 22.28662434796942 -493.5630918848162\n",
      "up1 제주\n",
      "BiGRU 5.885410135404199 5.885410135404199 8.93126428233198\n",
      "up1 충남\n",
      "LSTM 3.5726081979604696 3.5726081979604696 -107.24344169173406\n",
      "up1 충북\n",
      "BiRNN 9.307486758396065 9.307486758396065 -87.17555298720964\n",
      "up2 강원\n",
      "LSTM 4.807230879469758 4.807230879469758 71.64567694501267\n",
      "up2 경기\n",
      "seq2seq_RNN 1.6959327032352973 1.6959327032352973 -1232.5740578650684\n",
      "up2 경남\n",
      "seq2seq_RNN 4.733611648821112 4.733611648821112 716.5633181801445\n",
      "up2 경북\n",
      "seq2seq_RNN 6.93390917212829 6.93390917212829 261.09047033466095\n",
      "up2 광주\n",
      "BiGRU 5.351601270301516 5.351601270301516 -99.5960952834684\n",
      "up2 대구\n",
      "BiLSTM 4.694366907887583 4.694366907887583 423.0121852333141\n",
      "up2 대전\n",
      "BiGRU 2.523810680385122 2.523810680385122 95.12321116832118\n",
      "up2 부산\n",
      "RNN 6.654859429356332 6.654859429356332 884.4586036145162\n",
      "up2 서울\n",
      "LSTM 1.3220211820487064 1.3220211820487064 -1023.5988087405576\n",
      "up2 세종\n",
      "BiLSTM 31.469162383975313 31.469162383975313 425.50836108345425\n",
      "up2 울산\n",
      "BiRNN 4.778748465727425 4.778748465727425 76.58041315709937\n",
      "up2 인천\n",
      "BiLSTM 2.3126193877755234 2.3126193877755234 92.40323408690347\n",
      "up2 전남\n",
      "seq2seq_RNN 8.20006661020069 8.20006661020069 213.53711442609415\n",
      "up2 전북\n",
      "LSTM 18.903600017706108 18.903600017706108 610.9492645183267\n",
      "up2 제주\n",
      "seq2seq_RNN 10.897365361826582 10.897365361826582 345.2242815748456\n",
      "up2 충남\n",
      "LSTM 4.537617499053258 4.537617499053258 -223.87986225612065\n",
      "up2 충북\n",
      "BiLSTM 19.453852228812583 19.453852228812583 833.6102324441842\n",
      "down1 강원\n",
      "seq2seq_RNN 10.433097876599914 10.433097876599914 138.41668642160127\n",
      "down1 경기\n",
      "RNN 1.5372432789732018 1.5372432789732018 -200.5456092303432\n",
      "down1 경남\n",
      "BiRNN 5.763858030554676 5.763858030554676 -56.73525527158213\n",
      "down1 경북\n",
      "BiRNN 7.989509278516229 7.989509278516229 -165.94641151314622\n",
      "down1 광주\n",
      "seq2seq_RNN 10.79310251982599 10.79310251982599 69.41296812040578\n",
      "down1 대구\n",
      "RNN 2.7231840251304793 2.7231840251304793 40.48739869586586\n",
      "down1 대전\n",
      "BiLSTM 10.189528837770458 10.189528837770458 -9.224720166613707\n",
      "down1 부산\n",
      "BiRNN 7.7430001939040745 7.7430001939040745 -187.8482451056554\n",
      "down1 서울\n",
      "BiRNN 1.4143573439308026 1.4143573439308026 221.82142178306913\n",
      "down1 세종\n",
      "LSTM 13.871164681295625 13.871164681295625 3.101802812312634\n",
      "down1 울산\n",
      "BiLSTM 16.065526188185643 16.065526188185643 58.267786641643454\n",
      "down1 인천\n",
      "BiLSTM 3.3324537948858763 3.3324537948858763 -31.769268479570826\n",
      "down1 전남\n",
      "seq2seq_RNN 8.09174388736501 8.09174388736501 -4.715734081491782\n",
      "down1 전북\n",
      "BiLSTM 8.41990899768977 8.41990899768977 -83.98090648998372\n",
      "down1 제주\n",
      "seq2seq_RNN 10.79249524972031 10.79249524972031 -20.31274077173396\n",
      "down1 충남\n",
      "RNN 44.13839851103672 44.13839851103672 -926.347418417977\n",
      "down1 충북\n",
      "LSTM 7.638420151008941 7.638420151008941 -0.5747596993122244\n",
      "down2 강원\n",
      "seq2seq_RNN 1.1095788026259017 1.1095788026259017 3668.20464137234\n",
      "down2 경기\n",
      "BiRNN 0.6443422714239272 0.6443422714239272 -1364.034204183874\n",
      "down2 경남\n",
      "RNN 1.0491907805692249 1.0491907805692249 5246.515802331705\n",
      "down2 경북\n",
      "BiRNN 1.2118975871652737 1.2118975871652737 -1365.04966891808\n",
      "down2 광주\n",
      "seq2seq_RNN 1.7240388561241942 1.7240388561241942 7756.499273494363\n",
      "down2 대구\n",
      "seq2seq_RNN 4.741347258280837 4.741347258280837 -29170.41926194985\n",
      "down2 대전\n",
      "RNN 0.9989385184860934 0.9989385184860934 555.263854808858\n",
      "down2 부산\n",
      "LSTM 2.052293633462409 2.052293633462409 -9968.210854792404\n",
      "down2 서울\n",
      "BiGRU 0.8693780057659669 0.8693780057659669 -3505.8480520830635\n",
      "down2 세종\n",
      "LSTM 1.769749327324183 1.769749327324183 -891.6050596311252\n",
      "down2 울산\n",
      "seq2seq_RNN 0.7109339747896947 0.7109339747896947 433.2624280071286\n",
      "down2 인천\n",
      "BiGRU 2.041427976359215 2.041427976359215 -12568.826269346322\n",
      "down2 전남\n",
      "RNN 1.87628830267331 1.87628830267331 8563.893890162046\n",
      "down2 전북\n",
      "BiLSTM 1.1561313686195678 1.1561313686195678 5472.0321139407715\n",
      "down2 제주\n",
      "seq2seq_RNN 8.509284610717383 8.509284610717383 15332.071910532579\n",
      "down2 충남\n",
      "BiRNN 1.9825790998229316 1.9825790998229316 -11772.088971725298\n",
      "down2 충북\n",
      "BiGRU 0.6936204679941671 0.6936204679941671 -86.30488963424796\n"
     ]
    }
   ],
   "source": [
    "dic_var_diff = {}\n",
    "\n",
    "for var in dic_total_model_final:\n",
    "    path = f'Data/Stricgency/{key}/{var}/*.csv'\n",
    "    dic_files = Load_files.load_files(path, -17, -15)\n",
    "    dic_city_diff = {}\n",
    "    for city in cities:\n",
    "        data = dic_files[city]\n",
    "        index_min = np.inf\n",
    "        dic_model_diff = {}\n",
    "        print(var, city)\n",
    "        for name in top_model:\n",
    "            rmse_val =  rmse(dic_total_model_final[var][city][name][2][-14:], dic_total_model_final[var][city][name][3][-14:])\n",
    "            rmse_val =  mape(dic_total_model_final[var][city][name][2][-14:], dic_total_model_final[var][city][name][3][-14:])\n",
    "            diff_val = float(sum(dic_total_model_final[var][city][name][2][-14:] - dic_total_model_final[var][city][name][3][-14:]))\n",
    "            index_val = dic_city_model_rank[var][city].index(name)\n",
    "            dic_model_diff[name] = [rmse_val, mape_val, diff_val]\n",
    "            #plotting(dic_total_model[city][t][1], dic_total_model[city][t][2], 132)\n",
    "            if index_min > index_val:\n",
    "                index_min = index_val\n",
    "                best_rmse = rmse_val\n",
    "                best_mape = mape_val\n",
    "                best_diff = diff_val\n",
    "                best_model = name\n",
    "                best_predicted = dic_total_model_final[var][city][name][3]\n",
    "                \n",
    "            df = pd.concat([dic_total_model_final[var][city][name][2], dic_total_model_final[var][city][name][3]], axis = 1)\n",
    "            df.index = list(data['Date'][-1*len(actual_data):])\n",
    "            df.to_csv(f\"Data/Predicted/Stricgency/{key}/{var}/{city}/{name}.csv\", encoding = 'cp949')\n",
    "        dic_model_diff['best_model'] = [best_model, best_rmse, best_mape, best_diff]\n",
    "        dic_city_diff[city] = dic_model_diff\n",
    "        \n",
    "        df_best = pd.concat([dic_total_model_final[var][city][name][2], best_predicted], axis = 1)\n",
    "        df_best.index = list(data['Date'][-1*len(actual_data):])\n",
    "        df_best.to_csv(f\"Data/Predicted/Stricgency/{key}/{var}/{city}/best_{best_model}.csv\", encoding = 'cp949')\n",
    "        print(best_model, best_rmse, best_rmse, best_diff)\n",
    "    dic_var_diff[var] = dic_city_diff\n",
    "    \n",
    "with open(f'Data/Predicted/Stricgency/{key}/valid_score.pkl', 'wb') as f:\n",
    "    pickle.dump(dic_var_diff, f)"
   ]
  },
  {
   "cell_type": "code",
   "execution_count": null,
   "id": "418dd0ac",
   "metadata": {},
   "outputs": [],
   "source": []
  }
 ],
 "metadata": {
  "kernelspec": {
   "display_name": "KDA_DA",
   "language": "python",
   "name": "kda_da"
  },
  "language_info": {
   "codemirror_mode": {
    "name": "ipython",
    "version": 3
   },
   "file_extension": ".py",
   "mimetype": "text/x-python",
   "name": "python",
   "nbconvert_exporter": "python",
   "pygments_lexer": "ipython3",
   "version": "3.10.8"
  },
  "toc": {
   "base_numbering": 1,
   "nav_menu": {},
   "number_sections": true,
   "sideBar": true,
   "skip_h1_title": false,
   "title_cell": "Table of Contents",
   "title_sidebar": "Contents",
   "toc_cell": false,
   "toc_position": {},
   "toc_section_display": true,
   "toc_window_display": false
  }
 },
 "nbformat": 4,
 "nbformat_minor": 5
}
