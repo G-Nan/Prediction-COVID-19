{
 "cells": [
  {
   "cell_type": "code",
   "execution_count": 4,
   "id": "0aef8e81",
   "metadata": {
    "ExecuteTime": {
     "end_time": "2023-06-29T08:31:35.173568Z",
     "start_time": "2023-06-29T08:31:35.158608Z"
    }
   },
   "outputs": [],
   "source": [
    "import os\n",
    "os.chdir('D:\\\\Gnan\\\\DA\\\\KMU\\\\Prediction-COVID-19')\n",
    "from utils import *\n",
    "from model import *\n",
    "\n",
    "import warnings\n",
    "warnings.filterwarnings('ignore')"
   ]
  },
  {
   "cell_type": "code",
   "execution_count": 5,
   "id": "d60598da",
   "metadata": {
    "ExecuteTime": {
     "end_time": "2023-06-29T08:31:35.344980Z",
     "start_time": "2023-06-29T08:31:35.329021Z"
    }
   },
   "outputs": [],
   "source": [
    "key = 'Infected'\n",
    "var_list = ['up1', 'up2', 'down1', 'down2']\n",
    "cities = ['강원', '경기', '경남', '경북', '광주', '대구', \n",
    "          '대전', '부산', '서울', '세종', '울산', '인천',\n",
    "          '전남', '전북', '제주', '충남', '충북']\n",
    "models = ['RNN', 'LSTM', 'GRU', 'BiRNN', 'BiLSTM', 'BiGRU', \n",
    "          'seq2seq_RNN', 'seq2seq_LSTM', 'seq2seq_GRU', \n",
    "          'seq2seq_BiRNN', 'seq2seq_BiLSTM', 'seq2seq_BiGRU']"
   ]
  },
  {
   "cell_type": "code",
   "execution_count": 8,
   "id": "95376e1f",
   "metadata": {
    "ExecuteTime": {
     "end_time": "2023-06-29T08:32:13.425458Z",
     "start_time": "2023-06-29T08:31:47.041465Z"
    }
   },
   "outputs": [],
   "source": [
    "var_num = 0\n",
    "dic_total_model_final = {}\n",
    "dic_model_rank = {}\n",
    "dic_city_model_rank = {}\n",
    "\n",
    "for name in models:\n",
    "    dic_model_rank[name] = 0\n",
    "    \n",
    "dic_model_no_rank = dic_model_rank.copy()\n",
    "\n",
    "for var in var_list:\n",
    "    \n",
    "    path = f'Data/Stricgency/{key}/{var}/*.csv'\n",
    "    dic_files = Load_files.load_files(path, -17, -15)\n",
    "\n",
    "    dic_hyperparameter = {}\n",
    "    for city in cities:\n",
    "        path = f'hyperparameter/Stricgency/{key}/{var}/{city}/*.pkl'\n",
    "        files = glob.glob(path)\n",
    "        hyperparameter = {}\n",
    "        for file in files:\n",
    "            if var_num < 2:\n",
    "                hyperparameter[file[49:-4]] = load_hyperparameter(file)\n",
    "            else:\n",
    "                hyperparameter[file[53:-4]] = load_hyperparameter(file)\n",
    "                \n",
    "        dic_hyperparameter[city] = hyperparameter\n",
    "        \n",
    "    city_predicted = {}\n",
    "\n",
    "    for city in cities:\n",
    "\n",
    "        dic_model = load_model_multiple(dic_hyperparameter, 'Stricgency', key, var, city)\n",
    "        data = dic_files[city]\n",
    "        df = Prepare_df.processing(data, 'stdDay', 'defCnt')\n",
    "\n",
    "        x = df.iloc[:, 0:]\n",
    "        y = df.iloc[:,:1]\n",
    "\n",
    "        ms = MinMaxScaler()\n",
    "        ss = StandardScaler()\n",
    "\n",
    "        ss.fit(x)\n",
    "        ms.fit(y)\n",
    "\n",
    "        predicted_values = {}\n",
    "        num_model = 0\n",
    "        for name, state in dic_model.items():\n",
    "            batch_size = 64\n",
    "            if num_model < 6:\n",
    "                x, y, x_ss, y_ms, train_loader, test_loader = Prepare_df.split_data(df, 138, 60, 1, batch_size, 'mto')\n",
    "                label_y, predicted = predict_mto(state, df, x_ss, y_ms)\n",
    "                predicted_values[name] = [label_y, predicted]\n",
    "            else:\n",
    "                x, y, x_ss, y_ms, train_loader, test_loader = Prepare_df.split_data(df, 132, 60, 7, batch_size, 'mtm')\n",
    "                label_y, predicted, first_label_y, first_predicted, all_predicted = predict_mtm(state, df, x_ss, y_ms, 7, 0.5, device)\n",
    "                predicted_values[name] = [label_y, predicted, first_label_y, first_predicted, all_predicted]\n",
    "\n",
    "            num_model += 1\n",
    "\n",
    "        city_predicted[city] = predicted_values\n",
    "\n",
    "    dic_best_model = {}\n",
    "    dic_total_model = {}\n",
    "\n",
    "    for city in cities:\n",
    "\n",
    "        actual_data = city_predicted[city]['RNN'][0]\n",
    "        num_model = 0\n",
    "        dic_model = {}\n",
    "\n",
    "        for name, file in city_predicted[city].items():\n",
    "            if num_model < 6:\n",
    "                predicted_data = file[1]\n",
    "            else:\n",
    "                predicted_data = file[4]\n",
    "\n",
    "            rmse_val = rmse(actual_data[-7:], predicted_data[-7:])\n",
    "            mape_val = mape(actual_data[-7:], predicted_data[-7:])\n",
    "            dic_model[name] = [rmse_val, mape_val, actual_data, predicted_data]\n",
    "\n",
    "            num_model += 1\n",
    "\n",
    "        dic_total_model[city] = dic_model\n",
    "    dic_total_model_final[var] = dic_total_model\n",
    "    var_num += 1\n",
    "    \n",
    "    dic_var_model_rank = {}\n",
    "    for city in cities:\n",
    "        dic_model_rank_sub = dic_model_no_rank.copy()\n",
    "        rmse_rank = list(dict(sorted(dic_total_model[city].items(), key = lambda x:x[1][0])).keys())\n",
    "        for m in rmse_rank:\n",
    "            dic_model_rank[m] += rmse_rank.index(m)\n",
    "            dic_model_rank_sub[m] += rmse_rank.index(m)\n",
    "#         mape_rank = list(dict(sorted(dic_total_model[city].items(), key = lambda x:x[1][1])).keys())\n",
    "#         for m in mape_rank:\n",
    "#             dic_model_rank[m] += mape_rank.index(m)\n",
    "#             dic_model_rank_sub[m] += mape_rank.index(m)\n",
    "#         dic_var_model_rank[city] = list(dict(list(sorted(dic_model_rank_sub.items(), key = lambda x:x[1]))).keys())\n",
    "    dic_city_model_rank[var] = dic_var_model_rank"
   ]
  },
  {
   "cell_type": "code",
   "execution_count": 10,
   "id": "1a629f57",
   "metadata": {
    "ExecuteTime": {
     "end_time": "2023-06-29T08:32:22.140839Z",
     "start_time": "2023-06-29T08:32:22.125876Z"
    },
    "scrolled": true
   },
   "outputs": [
    {
     "data": {
      "text/plain": [
       "{}"
      ]
     },
     "execution_count": 10,
     "metadata": {},
     "output_type": "execute_result"
    }
   ],
   "source": [
    "dic_city_model_rank['up1']"
   ]
  },
  {
   "cell_type": "code",
   "execution_count": 5,
   "id": "aa20ccd9",
   "metadata": {
    "ExecuteTime": {
     "end_time": "2023-06-28T15:39:19.971938Z",
     "start_time": "2023-06-28T15:39:19.958975Z"
    }
   },
   "outputs": [
    {
     "data": {
      "text/plain": [
       "{'seq2seq_RNN': 492,\n",
       " 'seq2seq_GRU': 520,\n",
       " 'seq2seq_LSTM': 654,\n",
       " 'LSTM': 668,\n",
       " 'GRU': 701,\n",
       " 'BiLSTM': 715,\n",
       " 'BiGRU': 722,\n",
       " 'BiRNN': 777,\n",
       " 'RNN': 835,\n",
       " 'seq2seq_BiGRU': 921,\n",
       " 'seq2seq_BiLSTM': 976,\n",
       " 'seq2seq_BiRNN': 995}"
      ]
     },
     "execution_count": 5,
     "metadata": {},
     "output_type": "execute_result"
    }
   ],
   "source": [
    "dict(sorted(dic_model_rank.items(), key = lambda x:x[1]))"
   ]
  },
  {
   "cell_type": "code",
   "execution_count": 6,
   "id": "2ecebcef",
   "metadata": {
    "ExecuteTime": {
     "end_time": "2023-06-28T15:39:19.987062Z",
     "start_time": "2023-06-28T15:39:19.973935Z"
    }
   },
   "outputs": [
    {
     "data": {
      "text/plain": [
       "['seq2seq_RNN',\n",
       " 'seq2seq_GRU',\n",
       " 'seq2seq_LSTM',\n",
       " 'LSTM',\n",
       " 'GRU',\n",
       " 'BiLSTM',\n",
       " 'BiGRU',\n",
       " 'BiRNN',\n",
       " 'RNN',\n",
       " 'seq2seq_BiGRU',\n",
       " 'seq2seq_BiLSTM',\n",
       " 'seq2seq_BiRNN']"
      ]
     },
     "execution_count": 6,
     "metadata": {},
     "output_type": "execute_result"
    }
   ],
   "source": [
    "model_rank_list = list(dict(sorted(dic_model_rank.items(), key = lambda x:x[1])).keys())\n",
    "model_rank_list"
   ]
  },
  {
   "cell_type": "code",
   "execution_count": 7,
   "id": "87f65e72",
   "metadata": {
    "ExecuteTime": {
     "end_time": "2023-06-28T15:39:20.002021Z",
     "start_time": "2023-06-28T15:39:19.990054Z"
    }
   },
   "outputs": [
    {
     "data": {
      "text/plain": [
       "['seq2seq_RNN', 'seq2seq_GRU', 'seq2seq_LSTM', 'LSTM', 'GRU', 'BiLSTM']"
      ]
     },
     "execution_count": 7,
     "metadata": {},
     "output_type": "execute_result"
    }
   ],
   "source": [
    "top_model = model_rank_list[:6]\n",
    "top_model"
   ]
  },
  {
   "cell_type": "code",
   "execution_count": 8,
   "id": "ede64566",
   "metadata": {
    "ExecuteTime": {
     "end_time": "2023-06-28T15:39:20.860744Z",
     "start_time": "2023-06-28T15:39:20.005014Z"
    },
    "collapsed": true
   },
   "outputs": [
    {
     "name": "stdout",
     "output_type": "stream",
     "text": [
      "up1 강원\n",
      "GRU 45.06713741741314 45.06713741741314 312.3153076171875\n",
      "up1 경기\n",
      "GRU 351.3210559801391 351.3210559801391 2228.193359375\n",
      "up1 경남\n",
      "LSTM 58.437548044766345 58.437548044766345 401.843994140625\n",
      "up1 경북\n",
      "LSTM 9.569617720316119 9.569617720316119 0.81201171875\n",
      "up1 광주\n",
      "GRU 58.50046115269627 58.50046115269627 337.67822265625\n",
      "up1 대구\n",
      "GRU 27.58558238407792 27.58558238407792 178.4189453125\n",
      "up1 대전\n",
      "seq2seq_RNN 8.880706671699585 8.880706671699585 -4.31781005859375\n",
      "up1 부산\n",
      "BiLSTM 68.2367024305377 68.2367024305377 472.886474609375\n",
      "up1 서울\n",
      "BiLSTM 180.07044519958015 180.07044519958015 -757.8046875\n",
      "up1 세종\n",
      "LSTM 1.7781242249927944 1.7781242249927944 -1.42987060546875\n",
      "up1 울산\n",
      "LSTM 64.16902347876855 64.16902347876855 446.37091064453125\n",
      "up1 인천\n",
      "LSTM 49.71137152588304 49.71137152588304 321.66015625\n",
      "up1 전남\n",
      "GRU 19.354937792288545 19.354937792288545 124.4854736328125\n",
      "up1 전북\n",
      "seq2seq_RNN 26.29151641593194 26.29151641593194 171.398681640625\n",
      "up1 제주\n",
      "GRU 8.319891604671094 8.319891604671094 -24.5614013671875\n",
      "up1 충남\n",
      "LSTM 26.658556785811637 26.658556785811637 -9.0029296875\n",
      "up1 충북\n",
      "GRU 43.05091008765088 43.05091008765088 263.2686767578125\n",
      "up2 강원\n",
      "GRU 55.227815204529186 55.227815204529186 370.272705078125\n",
      "up2 경기\n",
      "GRU 94.12466280650094 94.12466280650094 352.71484375\n",
      "up2 경남\n",
      "LSTM 105.0573922390162 105.0573922390162 667.86083984375\n",
      "up2 경북\n",
      "GRU 13.901557867995463 13.901557867995463 83.74365234375\n",
      "up2 광주\n",
      "seq2seq_GRU 11.74690043372313 11.74690043372313 38.70068359375\n",
      "up2 대구\n",
      "GRU 41.088879523635256 41.088879523635256 278.0576171875\n",
      "up2 대전\n",
      "seq2seq_RNN 91.2801266620369 91.2801266620369 567.00732421875\n",
      "up2 부산\n",
      "GRU 137.13172983713505 137.13172983713505 853.47998046875\n",
      "up2 서울\n",
      "BiLSTM 332.3327704462802 332.3327704462802 2160.109375\n",
      "up2 세종\n",
      "BiLSTM 11.898879926524991 11.898879926524991 74.22918701171875\n",
      "up2 울산\n",
      "GRU 9.626320091976144 9.626320091976144 32.005126953125\n",
      "up2 인천\n",
      "GRU 151.91866656207853 151.91866656207853 1017.7529296875\n",
      "up2 전남\n",
      "GRU 10.990126947393476 10.990126947393476 53.1173095703125\n",
      "up2 전북\n",
      "seq2seq_RNN 27.412732183096736 27.412732183096736 -64.246826171875\n",
      "up2 제주\n",
      "LSTM 63.009239851315655 63.009239851315655 410.7222900390625\n",
      "up2 충남\n",
      "seq2seq_LSTM 51.2077355263282 51.2077355263282 336.271484375\n",
      "up2 충북\n",
      "GRU 71.5454639929657 71.5454639929657 469.911865234375\n",
      "down1 강원\n",
      "seq2seq_GRU 19.640998685038983 19.640998685038983 107.8917236328125\n",
      "down1 경기\n",
      "seq2seq_LSTM 264.2179054540021 264.2179054540021 1814.314453125\n",
      "down1 경남\n",
      "seq2seq_GRU 8.561506004833541 8.561506004833541 -42.343505859375\n",
      "down1 경북\n",
      "seq2seq_GRU 19.36990781747352 19.36990781747352 -132.149169921875\n",
      "down1 광주\n",
      "seq2seq_GRU 15.18627271677683 15.18627271677683 -88.0489501953125\n",
      "down1 대구\n",
      "seq2seq_GRU 8.405278826916042 8.405278826916042 -19.005859375\n",
      "down1 대전\n",
      "seq2seq_RNN 5.095825147063365 5.095825147063365 19.3070068359375\n",
      "down1 부산\n",
      "seq2seq_GRU 17.177035166447528 17.177035166447528 85.80126953125\n",
      "down1 서울\n",
      "seq2seq_GRU 49.978945762503336 49.978945762503336 -22.28125\n",
      "down1 세종\n",
      "seq2seq_GRU 2.7462480265662803 2.7462480265662803 1.4897613525390625\n",
      "down1 울산\n",
      "seq2seq_GRU 9.34616455724766 9.34616455724766 53.528076171875\n",
      "down1 인천\n",
      "LSTM 10.435167246101116 10.435167246101116 -23.75146484375\n",
      "down1 전남\n",
      "GRU 3.271136146345371 3.271136146345371 -6.5980224609375\n",
      "down1 전북\n",
      "LSTM 24.988348114749527 24.988348114749527 159.40771484375\n",
      "down1 제주\n",
      "seq2seq_GRU 4.953300978365376 4.953300978365376 -31.40374755859375\n",
      "down1 충남\n",
      "seq2seq_RNN 87.70236086652685 87.70236086652685 540.691162109375\n",
      "down1 충북\n",
      "seq2seq_GRU 8.512174078573894 8.512174078573894 -56.8438720703125\n",
      "down2 강원\n",
      "seq2seq_RNN 4891.69704703797 4891.69704703797 32750.21875\n",
      "down2 경기\n",
      "seq2seq_RNN 18437.44190499322 18437.44190499322 89462.0\n",
      "down2 경남\n",
      "seq2seq_GRU 4810.184403949604 4810.184403949604 27046.125\n",
      "down2 경북\n",
      "seq2seq_LSTM 8821.094716643735 8821.094716643735 60775.125\n",
      "down2 광주\n",
      "seq2seq_RNN 3803.225999069737 3803.225999069737 3784.4375\n",
      "down2 대구\n",
      "seq2seq_RNN 9600.136249033136 9600.136249033136 64770.0\n",
      "down2 대전\n",
      "seq2seq_LSTM 8708.05328417322 8708.05328417322 59816.875\n",
      "down2 부산\n",
      "seq2seq_LSTM 3947.5116212621842 3947.5116212621842 26689.875\n",
      "down2 서울\n",
      "seq2seq_LSTM 16421.002161865763 16421.002161865763 88753.75\n",
      "down2 세종\n",
      "LSTM 1479.564125004388 1479.564125004388 8449.5703125\n",
      "down2 울산\n",
      "seq2seq_LSTM 3038.220367254489 3038.220367254489 20140.53125\n",
      "down2 인천\n",
      "seq2seq_GRU 5682.3384270914385 5682.3384270914385 39647.9375\n",
      "down2 전남\n",
      "seq2seq_LSTM 9888.049757156363 9888.049757156363 68954.4375\n",
      "down2 전북\n",
      "seq2seq_LSTM 3457.236902498873 3457.236902498873 23860.625\n",
      "down2 제주\n",
      "seq2seq_LSTM 2247.371019658303 2247.371019658303 15344.25\n",
      "down2 충남\n",
      "seq2seq_GRU 7617.086582151997 7617.086582151997 47516.5\n",
      "down2 충북\n",
      "seq2seq_RNN 4867.358626606427 4867.358626606427 29008.6875\n"
     ]
    }
   ],
   "source": [
    "dic_var_diff = {}\n",
    "\n",
    "for var in var_list:\n",
    "    path = f'Data/Stricgency/{key}/{var}/*.csv'\n",
    "    dic_files = Load_files.load_files(path, -17, -15)\n",
    "    dic_city_diff = {}\n",
    "    for city in cities:\n",
    "        data = dic_files[city]\n",
    "        index_min = np.inf\n",
    "        dic_model_diff = {}\n",
    "        print(var, city)\n",
    "        for name in top_model:\n",
    "            rmse_val = rmse(dic_total_model_final[var][city][name][2][-7:], dic_total_model_final[var][city][name][3][-7:])\n",
    "            mape_val = mape(dic_total_model_final[var][city][name][2][-7:], dic_total_model_final[var][city][name][3][-7:])\n",
    "            diff_val = float(sum(dic_total_model_final[var][city][name][2][-7:] - dic_total_model_final[var][city][name][3][-7:]))\n",
    "            index_val = dic_city_model_rank[var][city].index(name)\n",
    "            dic_model_diff[name] = [rmse_val, mape_val, diff_val]\n",
    "            if index_min > index_val:\n",
    "                index_min = index_val\n",
    "                best_rmse = rmse_val\n",
    "                best_mape = mape_val\n",
    "                best_diff = diff_val\n",
    "                best_model = name\n",
    "                best_predicted = dic_total_model_final[var][city][name][3]\n",
    "                \n",
    "            df = pd.DataFrame(np.concatenate([dic_total_model_final[var][city][name][2], \n",
    "                                              dic_total_model_final[var][city][name][3]], \n",
    "                                             axis = 1), \n",
    "                              columns = ['Actual_data', 'Predicted_data'])\n",
    "            df.index = list(data['stdDay'][-1*len(actual_data):])\n",
    "            df.to_csv(f\"Data/Predicted/Stricgency/{key}/{var}/{city}/{name}.csv\", encoding = 'cp949')\n",
    "        dic_model_diff['best_model'] = [best_model, best_rmse, best_mape, best_diff]\n",
    "        dic_city_diff[city] = dic_model_diff\n",
    "        df_best = pd.DataFrame(np.concatenate([dic_total_model_final[var][city][name][2], \n",
    "                                               best_predicted], \n",
    "                                              axis = 1), \n",
    "                              columns = ['Actual_data', 'Predicted_data'])\n",
    "        df_best.index = list(data['stdDay'][-1*len(actual_data):])\n",
    "        df_best.to_csv(f\"Data/Predicted/Stricgency/{key}/{var}/{city}/best_{best_model}.csv\", encoding = 'cp949')\n",
    "        print(best_model, best_rmse, best_rmse, best_diff)\n",
    "    dic_var_diff[var] = dic_city_diff\n",
    "    \n",
    "with open(f'Data/Predicted/Stricgency/{key}/valid_score.pkl', 'wb') as f:\n",
    "    pickle.dump(dic_var_diff, f)"
   ]
  },
  {
   "cell_type": "code",
   "execution_count": null,
   "id": "92ccd0f0",
   "metadata": {},
   "outputs": [],
   "source": []
  }
 ],
 "metadata": {
  "kernelspec": {
   "display_name": "KDA_DA",
   "language": "python",
   "name": "kda_da"
  },
  "language_info": {
   "codemirror_mode": {
    "name": "ipython",
    "version": 3
   },
   "file_extension": ".py",
   "mimetype": "text/x-python",
   "name": "python",
   "nbconvert_exporter": "python",
   "pygments_lexer": "ipython3",
   "version": "3.10.8"
  },
  "toc": {
   "base_numbering": 1,
   "nav_menu": {},
   "number_sections": true,
   "sideBar": true,
   "skip_h1_title": false,
   "title_cell": "Table of Contents",
   "title_sidebar": "Contents",
   "toc_cell": false,
   "toc_position": {},
   "toc_section_display": true,
   "toc_window_display": false
  }
 },
 "nbformat": 4,
 "nbformat_minor": 5
}
