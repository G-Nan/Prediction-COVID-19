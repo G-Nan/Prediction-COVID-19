{
 "cells": [
  {
   "cell_type": "code",
   "execution_count": 1,
   "id": "7a052397",
   "metadata": {
    "ExecuteTime": {
     "end_time": "2023-05-24T08:00:16.821367Z",
     "start_time": "2023-05-24T08:00:16.304706Z"
    }
   },
   "outputs": [],
   "source": [
    "import os\n",
    "os.chdir('D:\\\\Gnan\\\\DA\\\\KMU\\\\Prediction-COVID-19')\n",
    "from API_to_csv import *"
   ]
  },
  {
   "cell_type": "code",
   "execution_count": 2,
   "id": "8d667547",
   "metadata": {
    "ExecuteTime": {
     "end_time": "2023-05-24T08:00:16.837321Z",
     "start_time": "2023-05-24T08:00:16.823354Z"
    }
   },
   "outputs": [],
   "source": [
    "url_base = \"http://apis.data.go.kr/1352000/ODMS_COVID_04/callCovid04Api\"\n",
    "url_serviceKey = \"vh1TU%2B6gkd3lndqMovQxTWu1mREkKj1aEAZyioG4LKCqrp3HiBs30H56eBWWna7m6IlqjyDZHvmJNtII6G27Qw%3D%3D\"\n",
    "cities = ['서울', '부산', '대구', '인천', '광주', '대전', \n",
    "          '울산', '세종', '경기', '강원', '충북', '충남', \n",
    "          '전북', '전남', '경북', '경남', '제주']"
   ]
  },
  {
   "cell_type": "code",
   "execution_count": 3,
   "id": "839e9e44",
   "metadata": {
    "ExecuteTime": {
     "end_time": "2023-05-24T08:04:36.863461Z",
     "start_time": "2023-05-24T08:00:17.024780Z"
    }
   },
   "outputs": [
    {
     "name": "stdout",
     "output_type": "stream",
     "text": [
      "서울 - OK\n",
      "부산 - OK\n",
      "대구 - OK\n",
      "인천 - OK\n",
      "광주 - OK\n",
      "대전 - OK\n",
      "울산 - OK\n",
      "세종 - OK\n",
      "경기 - OK\n",
      "강원 - OK\n",
      "충북 - OK\n",
      "충남 - OK\n",
      "전북 - OK\n",
      "전남 - OK\n",
      "경북 - OK\n",
      "경남 - OK\n",
      "제주 - OK\n"
     ]
    }
   ],
   "source": [
    "api_to_csv(cities, url_base, url_serviceKey)"
   ]
  },
  {
   "cell_type": "code",
   "execution_count": null,
   "id": "5f08593c",
   "metadata": {},
   "outputs": [],
   "source": []
  }
 ],
 "metadata": {
  "kernelspec": {
   "display_name": "KDA_DA",
   "language": "python",
   "name": "kda_da"
  },
  "language_info": {
   "codemirror_mode": {
    "name": "ipython",
    "version": 3
   },
   "file_extension": ".py",
   "mimetype": "text/x-python",
   "name": "python",
   "nbconvert_exporter": "python",
   "pygments_lexer": "ipython3",
   "version": "3.10.8"
  },
  "toc": {
   "base_numbering": 1,
   "nav_menu": {},
   "number_sections": true,
   "sideBar": true,
   "skip_h1_title": false,
   "title_cell": "Table of Contents",
   "title_sidebar": "Contents",
   "toc_cell": false,
   "toc_position": {},
   "toc_section_display": true,
   "toc_window_display": false
  }
 },
 "nbformat": 4,
 "nbformat_minor": 5
}
