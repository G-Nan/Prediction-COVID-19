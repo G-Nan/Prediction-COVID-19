{
 "cells": [
  {
   "cell_type": "markdown",
   "metadata": {
    "id": "CrdlqnZ_N5ig"
   },
   "source": [
    "https://doheon.github.io/%EC%BD%94%EB%93%9C%EA%B5%AC%ED%98%84/time-series/ci-4.transformer-post/"
   ]
  },
  {
   "cell_type": "code",
   "execution_count": null,
   "metadata": {
    "colab": {
     "base_uri": "https://localhost:8080/"
    },
    "executionInfo": {
     "elapsed": 33098,
     "status": "ok",
     "timestamp": 1679631952995,
     "user": {
      "displayName": "서민경",
      "userId": "09611163852089986535"
     },
     "user_tz": -540
    },
    "id": "4X7fDZgX-qdN",
    "outputId": "078d8b8d-4d2b-45c1-808f-2ea51adc9bc5"
   },
   "outputs": [
    {
     "name": "stdout",
     "output_type": "stream",
     "text": [
      "Mounted at /content/drive\n"
     ]
    }
   ],
   "source": [
    "from google.colab import drive\n",
    "drive.mount('/content/drive')"
   ]
  },
  {
   "cell_type": "code",
   "execution_count": null,
   "metadata": {
    "id": "VNSlr8SN-jYn"
   },
   "outputs": [],
   "source": [
    "import numpy as np \n",
    "import pandas as pd \n",
    "import matplotlib.pyplot as plt"
   ]
  },
  {
   "cell_type": "code",
   "execution_count": null,
   "metadata": {
    "colab": {
     "base_uri": "https://localhost:8080/",
     "height": 509
    },
    "executionInfo": {
     "elapsed": 3149,
     "status": "ok",
     "timestamp": 1679631972718,
     "user": {
      "displayName": "서민경",
      "userId": "09611163852089986535"
     },
     "user_tz": -540
    },
    "id": "uF44lNS1-jYq",
    "outputId": "c2fd310e-3e3e-46bd-964a-c5eceafb206d"
   },
   "outputs": [
    {
     "data": {
      "text/html": [
       "\n",
       "  <div id=\"df-27830d36-cccd-461b-bca2-3f395c03c0d4\">\n",
       "    <div class=\"colab-df-container\">\n",
       "      <div>\n",
       "<style scoped>\n",
       "    .dataframe tbody tr th:only-of-type {\n",
       "        vertical-align: middle;\n",
       "    }\n",
       "\n",
       "    .dataframe tbody tr th {\n",
       "        vertical-align: top;\n",
       "    }\n",
       "\n",
       "    .dataframe thead th {\n",
       "        text-align: right;\n",
       "    }\n",
       "</style>\n",
       "<table border=\"1\" class=\"dataframe\">\n",
       "  <thead>\n",
       "    <tr style=\"text-align: right;\">\n",
       "      <th></th>\n",
       "      <th>date</th>\n",
       "      <th>시도명</th>\n",
       "      <th>def_Acc</th>\n",
       "      <th>daily_Acc</th>\n",
       "      <th>DAC</th>\n",
       "      <th>DDAC</th>\n",
       "    </tr>\n",
       "  </thead>\n",
       "  <tbody>\n",
       "    <tr>\n",
       "      <th>0</th>\n",
       "      <td>2020-08-01</td>\n",
       "      <td>서울</td>\n",
       "      <td>1602</td>\n",
       "      <td>2.0</td>\n",
       "      <td>-6.0</td>\n",
       "      <td>-11.0</td>\n",
       "    </tr>\n",
       "    <tr>\n",
       "      <th>1</th>\n",
       "      <td>2020-08-02</td>\n",
       "      <td>서울</td>\n",
       "      <td>1607</td>\n",
       "      <td>5.0</td>\n",
       "      <td>3.0</td>\n",
       "      <td>9.0</td>\n",
       "    </tr>\n",
       "    <tr>\n",
       "      <th>2</th>\n",
       "      <td>2020-08-03</td>\n",
       "      <td>서울</td>\n",
       "      <td>1612</td>\n",
       "      <td>5.0</td>\n",
       "      <td>0.0</td>\n",
       "      <td>-3.0</td>\n",
       "    </tr>\n",
       "    <tr>\n",
       "      <th>3</th>\n",
       "      <td>2020-08-04</td>\n",
       "      <td>서울</td>\n",
       "      <td>1621</td>\n",
       "      <td>9.0</td>\n",
       "      <td>4.0</td>\n",
       "      <td>4.0</td>\n",
       "    </tr>\n",
       "    <tr>\n",
       "      <th>4</th>\n",
       "      <td>2020-08-05</td>\n",
       "      <td>서울</td>\n",
       "      <td>1627</td>\n",
       "      <td>6.0</td>\n",
       "      <td>-3.0</td>\n",
       "      <td>-7.0</td>\n",
       "    </tr>\n",
       "  </tbody>\n",
       "</table>\n",
       "</div>\n",
       "      <button class=\"colab-df-convert\" onclick=\"convertToInteractive('df-27830d36-cccd-461b-bca2-3f395c03c0d4')\"\n",
       "              title=\"Convert this dataframe to an interactive table.\"\n",
       "              style=\"display:none;\">\n",
       "        \n",
       "  <svg xmlns=\"http://www.w3.org/2000/svg\" height=\"24px\"viewBox=\"0 0 24 24\"\n",
       "       width=\"24px\">\n",
       "    <path d=\"M0 0h24v24H0V0z\" fill=\"none\"/>\n",
       "    <path d=\"M18.56 5.44l.94 2.06.94-2.06 2.06-.94-2.06-.94-.94-2.06-.94 2.06-2.06.94zm-11 1L8.5 8.5l.94-2.06 2.06-.94-2.06-.94L8.5 2.5l-.94 2.06-2.06.94zm10 10l.94 2.06.94-2.06 2.06-.94-2.06-.94-.94-2.06-.94 2.06-2.06.94z\"/><path d=\"M17.41 7.96l-1.37-1.37c-.4-.4-.92-.59-1.43-.59-.52 0-1.04.2-1.43.59L10.3 9.45l-7.72 7.72c-.78.78-.78 2.05 0 2.83L4 21.41c.39.39.9.59 1.41.59.51 0 1.02-.2 1.41-.59l7.78-7.78 2.81-2.81c.8-.78.8-2.07 0-2.86zM5.41 20L4 18.59l7.72-7.72 1.47 1.35L5.41 20z\"/>\n",
       "  </svg>\n",
       "      </button>\n",
       "      \n",
       "  <style>\n",
       "    .colab-df-container {\n",
       "      display:flex;\n",
       "      flex-wrap:wrap;\n",
       "      gap: 12px;\n",
       "    }\n",
       "\n",
       "    .colab-df-convert {\n",
       "      background-color: #E8F0FE;\n",
       "      border: none;\n",
       "      border-radius: 50%;\n",
       "      cursor: pointer;\n",
       "      display: none;\n",
       "      fill: #1967D2;\n",
       "      height: 32px;\n",
       "      padding: 0 0 0 0;\n",
       "      width: 32px;\n",
       "    }\n",
       "\n",
       "    .colab-df-convert:hover {\n",
       "      background-color: #E2EBFA;\n",
       "      box-shadow: 0px 1px 2px rgba(60, 64, 67, 0.3), 0px 1px 3px 1px rgba(60, 64, 67, 0.15);\n",
       "      fill: #174EA6;\n",
       "    }\n",
       "\n",
       "    [theme=dark] .colab-df-convert {\n",
       "      background-color: #3B4455;\n",
       "      fill: #D2E3FC;\n",
       "    }\n",
       "\n",
       "    [theme=dark] .colab-df-convert:hover {\n",
       "      background-color: #434B5C;\n",
       "      box-shadow: 0px 1px 3px 1px rgba(0, 0, 0, 0.15);\n",
       "      filter: drop-shadow(0px 1px 2px rgba(0, 0, 0, 0.3));\n",
       "      fill: #FFFFFF;\n",
       "    }\n",
       "  </style>\n",
       "\n",
       "      <script>\n",
       "        const buttonEl =\n",
       "          document.querySelector('#df-27830d36-cccd-461b-bca2-3f395c03c0d4 button.colab-df-convert');\n",
       "        buttonEl.style.display =\n",
       "          google.colab.kernel.accessAllowed ? 'block' : 'none';\n",
       "\n",
       "        async function convertToInteractive(key) {\n",
       "          const element = document.querySelector('#df-27830d36-cccd-461b-bca2-3f395c03c0d4');\n",
       "          const dataTable =\n",
       "            await google.colab.kernel.invokeFunction('convertToInteractive',\n",
       "                                                     [key], {});\n",
       "          if (!dataTable) return;\n",
       "\n",
       "          const docLinkHtml = 'Like what you see? Visit the ' +\n",
       "            '<a target=\"_blank\" href=https://colab.research.google.com/notebooks/data_table.ipynb>data table notebook</a>'\n",
       "            + ' to learn more about interactive tables.';\n",
       "          element.innerHTML = '';\n",
       "          dataTable['output_type'] = 'display_data';\n",
       "          await google.colab.output.renderOutput(dataTable, element);\n",
       "          const docLink = document.createElement('div');\n",
       "          docLink.innerHTML = docLinkHtml;\n",
       "          element.appendChild(docLink);\n",
       "        }\n",
       "      </script>\n",
       "    </div>\n",
       "  </div>\n",
       "  "
      ],
      "text/plain": [
       "         date 시도명  def_Acc  daily_Acc  DAC  DDAC\n",
       "0  2020-08-01  서울     1602        2.0 -6.0 -11.0\n",
       "1  2020-08-02  서울     1607        5.0  3.0   9.0\n",
       "2  2020-08-03  서울     1612        5.0  0.0  -3.0\n",
       "3  2020-08-04  서울     1621        9.0  4.0   4.0\n",
       "4  2020-08-05  서울     1627        6.0 -3.0  -7.0"
      ]
     },
     "execution_count": 3,
     "metadata": {},
     "output_type": "execute_result"
    },
    {
     "data": {
      "image/png": "[encoded data removed]",
      "text/plain": [
       "<Figure size 1440x360 with 1 Axes>"
      ]
     },
     "metadata": {
      "needs_background": "light"
     },
     "output_type": "display_data"
    }
   ],
   "source": [
    "rawdata = pd.read_csv(\"./drive/MyDrive/Colab Notebooks/캡스톤/daily_data/서울_data.csv\")\n",
    "rawdata.dropna(inplace=True)\n",
    "rawdata.reset_index(drop=True, inplace=True)\n",
    "\n",
    "# 데이터 확인하기\n",
    "plt.figure(figsize=(20,5))\n",
    "plt.plot(range(len(rawdata)), rawdata[\"daily_Acc\"])\n",
    "rawdata.head()"
   ]
  },
  {
   "cell_type": "code",
   "execution_count": null,
   "metadata": {
    "id": "wS5I-_HN-jYr"
   },
   "outputs": [],
   "source": [
    "# MinMaxScaler를 사용하여 데이터를 0~1로 변환\n",
    "from sklearn.preprocessing import MinMaxScaler\n",
    "min_max_scaler = MinMaxScaler()\n",
    "rawdata[\"daily_Acc\"] = min_max_scaler.fit_transform(rawdata[\"daily_Acc\"].to_numpy().reshape(-1,1))"
   ]
  },
  {
   "cell_type": "code",
   "execution_count": null,
   "metadata": {
    "id": "u6J43_lv-jYr"
   },
   "outputs": [],
   "source": [
    "# train과 test 나누기\n",
    "train = rawdata[:-100]\n",
    "data_train = train[\"daily_Acc\"].to_numpy()\n",
    "\n",
    "test = rawdata[-100:]\n",
    "data_test = test[\"daily_Acc\"].to_numpy()"
   ]
  },
  {
   "cell_type": "code",
   "execution_count": null,
   "metadata": {
    "id": "rQhu1zCE-jYr"
   },
   "outputs": [],
   "source": [
    "import torch\n",
    "import torch.nn as nn\n",
    "import numpy as np\n",
    "import math"
   ]
  },
  {
   "cell_type": "markdown",
   "metadata": {
    "id": "xAgABeWr-jYs"
   },
   "source": [
    "# Transformer Encoder, Decoder\n",
    "\n",
    "\n",
    "*   transformer에 사용할 수 있도록 dataset 생성, torch의 nn.transformer를 사용하여 모델링을 진행.\n",
    "\n"
   ]
  },
  {
   "cell_type": "markdown",
   "metadata": {
    "id": "omD-_eU_L9YD"
   },
   "source": [
    "### Sliding Window Dataset\n",
    "\n",
    "학습을 위한 input_data, output_data 필요. <br>\n",
    "<br>\n",
    "<br>\n",
    "시계열 예측을 위해 데이터의 일정한 길이의 input window, output window를 설정하고, 데이터의 첫 부분부터 끝 부분까지 sliding 시켜서 dataset을 생성.\n",
    "<br>\n",
    "<br>\n",
    "<br>\n",
    "input window를 모델의 input으로, output window를 모델의 output으로 사용."
   ]
  },
  {
   "cell_type": "markdown",
   "metadata": {
    "id": "amTm8e4zNbNg"
   },
   "source": [
    "#### torch의 Dataset 클래스를 사용하여 window dataset을 생성하는 클래스를 선언하였다.\n",
    "\n",
    "\n",
    "*   input, output, stride을 입력받은 후 iw+ow만큼의 길이를 stride간격으로 sliding 하면서 dataset을 생성.\n",
    "*   transformer의 input, decoder input, output으로 활용하기 위해 세 가지의 값을 return 하도록 만듬.\n",
    "*   1. input window<br>\n",
    "    2. output window,   <br>\n",
    "    3. output window - 첫 번째 값\n",
    "\n"
   ]
  },
  {
   "cell_type": "code",
   "execution_count": null,
   "metadata": {
    "id": "jBGPvpWB-jYt"
   },
   "outputs": [],
   "source": [
    "from torch.utils.data import DataLoader, Dataset\n",
    "\n",
    "class windowDataset(Dataset):\n",
    "    # input window, output window, stride을 입력받음.\n",
    "    def __init__(self, y, input_window=80, output_window=20, stride=5):\n",
    "        #총 데이터의 개수\n",
    "        L = y.shape[0]\n",
    "        #stride씩 움직일 때 생기는 총 sample의 개수\n",
    "        num_samples = (L - input_window - output_window) // stride + 1\n",
    "\n",
    "        #input과 output\n",
    "        X = np.zeros([input_window, num_samples])\n",
    "        Y = np.zeros([output_window, num_samples])\n",
    "\n",
    "        for i in np.arange(num_samples):\n",
    "            start_x = stride*i\n",
    "            end_x = start_x + input_window\n",
    "            X[:,i] = y[start_x:end_x]\n",
    "\n",
    "            start_y = stride*i + input_window\n",
    "            end_y = start_y + output_window\n",
    "            Y[:,i] = y[start_y:end_y]\n",
    "\n",
    "        X = X.reshape(X.shape[0], X.shape[1], 1).transpose((1,0,2))\n",
    "        Y = Y.reshape(Y.shape[0], Y.shape[1], 1).transpose((1,0,2))\n",
    "        self.x = X\n",
    "        self.y = Y\n",
    "        \n",
    "        self.len = len(X)\n",
    "    def __getitem__(self, i):\n",
    "        # input, decoder input, output return\n",
    "        return self.x[i], self.y[i, :-1], self.y[i,1:]\n",
    "    def __len__(self):\n",
    "        return self.len"
   ]
  },
  {
   "cell_type": "code",
   "execution_count": null,
   "metadata": {
    "id": "L6VTImCR-jYt"
   },
   "outputs": [],
   "source": [
    "iw = 200 # input window size\n",
    "ow = 100 # output window size\n",
    "\n",
    "train_dataset = windowDataset(data_train, input_window=iw, output_window=ow, stride=1)\n",
    "train_loader = DataLoader(train_dataset, batch_size=64)"
   ]
  },
  {
   "cell_type": "markdown",
   "metadata": {
    "id": "0neEtF96PkSp"
   },
   "source": [
    "# Modeling\n",
    "<br>\n",
    "input size와 output size의 크기가 imbeding size와 vocab size 였던 것이 모두 1이 됨."
   ]
  },
  {
   "cell_type": "code",
   "execution_count": null,
   "metadata": {
    "id": "NHxszdaX-jYu"
   },
   "outputs": [],
   "source": [
    "from torch.nn import Transformer\n",
    "from torch import nn\n",
    "import torch\n",
    "import math\n",
    "\n",
    "class TFModel(nn.Module):\n",
    "    def __init__(self,d_model, nhead, nhid, nlayers, dropout=0.5):\n",
    "        super(TFModel, self).__init__()\n",
    "        self.transformer = Transformer(d_model=d_model, nhead=nhead, dim_feedforward=nhid, num_encoder_layers=nlayers, num_decoder_layers=nlayers,dropout=dropout)\n",
    "        self.pos_encoder = PositionalEncoding(d_model, dropout)\n",
    "        self.pos_encoder_d = PositionalEncoding(d_model, dropout)\n",
    "        self.linear = nn.Linear(d_model, 1)\n",
    "        self.encoder = nn.Linear(1, d_model)\n",
    "        self.encoder_d = nn.Linear(1, d_model)\n",
    "\n",
    "    def generate_square_subsequent_mask(self, sz):\n",
    "        mask = (torch.triu(torch.ones(sz, sz)) == 1).transpose(0, 1)\n",
    "        mask = mask.float().masked_fill(mask == 0, float('-inf')).masked_fill(mask == 1, float(0.0))\n",
    "        return mask\n",
    "\n",
    "    def forward(self, src, tgt, srcmask, tgtmask):\n",
    "        src = self.encoder(src)\n",
    "        src = self.pos_encoder(src)\n",
    "\n",
    "        tgt = self.encoder_d(tgt)\n",
    "        tgt = self.pos_encoder_d(tgt)\n",
    "        output = self.transformer(src.transpose(0,1), tgt.transpose(0,1), srcmask, tgtmask)\n",
    "        output = self.linear(output)\n",
    "        return output\n",
    "\n",
    "class PositionalEncoding(nn.Module):\n",
    "    def __init__(self, d_model, dropout=0.1, max_len=5000):\n",
    "        super(PositionalEncoding, self).__init__()\n",
    "        self.dropout = nn.Dropout(p=dropout)\n",
    "\n",
    "        pe = torch.zeros(max_len, d_model)\n",
    "        position = torch.arange(0, max_len, dtype=torch.float).unsqueeze(1)\n",
    "        div_term = torch.exp(torch.arange(0, d_model, 2).float() * (-math.log(10000.0) / d_model))\n",
    "        pe[:, 0::2] = torch.sin(position * div_term)\n",
    "        pe[:, 1::2] = torch.cos(position * div_term)\n",
    "        pe = pe.unsqueeze(0).transpose(0, 1)\n",
    "        self.register_buffer('pe', pe)\n",
    "\n",
    "    def forward(self, x):\n",
    "        x = x + self.pe[:x.size(0), :]\n",
    "        return self.dropout(x)\n",
    "\n",
    "def gen_attention_mask(x):\n",
    "    mask = torch.eq(x, 0)\n",
    "    return mask"
   ]
  },
  {
   "cell_type": "markdown",
   "metadata": {
    "id": "rIfBpPBxQBSO"
   },
   "source": [
    "\n",
    "\n",
    "*   data가 univariate time series이므로 input과 output의 차원이 모두 1차원.\n",
    "*   input data의 1차원 벡터를 d_model의 차원으로 linear layer와 positional encoding을 거쳐 transformer를 통과할 수 있도록 만듬.\n",
    "*   출력의 차원을 1차원으로 만들어서 최종 output이 나오도록 함.\n",
    "*   padding mask는 생략.\n",
    "\n"
   ]
  },
  {
   "cell_type": "code",
   "execution_count": null,
   "metadata": {
    "id": "Wvot_E-i-jYu"
   },
   "outputs": [],
   "source": [
    "\n",
    "device = torch.device(\"cuda\")\n",
    "\n",
    "lr = 1e-3\n",
    "model = TFModel(256, 8, 256, 2, 0.1).to(device)\n",
    "criterion = nn.MSELoss()\n",
    "optimizer = torch.optim.Adam(model.parameters(), lr=lr)"
   ]
  },
  {
   "cell_type": "code",
   "execution_count": null,
   "metadata": {
    "colab": {
     "base_uri": "https://localhost:8080/"
    },
    "executionInfo": {
     "elapsed": 1516730,
     "status": "ok",
     "timestamp": 1679633527781,
     "user": {
      "displayName": "서민경",
      "userId": "09611163852089986535"
     },
     "user_tz": -540
    },
    "id": "sEnJ096e-jYv",
    "outputId": "1ab23a3f-dcf8-4438-b142-eb225f02b575"
   },
   "outputs": [
    {
     "name": "stderr",
     "output_type": "stream",
     "text": [
      "0.00135: 100%|██████████| 2000/2000 [25:16<00:00,  1.32it/s]\n"
     ]
    }
   ],
   "source": [
    "epoch = 2000\n",
    "from tqdm import tqdm\n",
    "\n",
    "model.train()\n",
    "progress = tqdm(range(epoch))\n",
    "for i in progress:\n",
    "    batchloss = 0.0\n",
    "    \n",
    "    for (inputs, dec_inputs, outputs) in train_loader:\n",
    "        optimizer.zero_grad()\n",
    "        src_mask = model.generate_square_subsequent_mask(inputs.shape[1]).to(device)\n",
    "        tgt_mask = model.generate_square_subsequent_mask(dec_inputs.shape[1]).to(device)\n",
    "\n",
    "        result = model(inputs.float().to(device), dec_inputs.float().to(device), src_mask, tgt_mask)\n",
    "        loss = criterion(result.permute(1,0,2), outputs.float().to(device))\n",
    "        \n",
    "        loss.backward()\n",
    "        optimizer.step()\n",
    "        batchloss += loss\n",
    "    progress.set_description(\"{:0.5f}\".format(batchloss.cpu().item() / len(train_loader)))"
   ]
  },
  {
   "cell_type": "markdown",
   "metadata": {
    "id": "jrEjYr4JQ3JO"
   },
   "source": [
    "*   다음 값을 예측하는 과정을 예측할 길이만큼 반복하면서 output을 update함.\n",
    "*   원하는 길이만큼 예측을 완료하면 return."
   ]
  },
  {
   "cell_type": "code",
   "execution_count": null,
   "metadata": {
    "id": "cc7iXb6o-jYv"
   },
   "outputs": [],
   "source": [
    "def evaluate(length):\n",
    "    input = torch.tensor(data_train[-200:]).reshape(1,-1,1).to(device).float().to(device)\n",
    "    output = torch.tensor(data_train[-1].reshape(1,-1,1)).float().to(device)\n",
    "    model.eval()\n",
    "    for i in range(length):\n",
    "        src_mask = model.generate_square_subsequent_mask(input.shape[1]).to(device)\n",
    "        tgt_mask = model.generate_square_subsequent_mask(output.shape[1]).to(device)\n",
    "\n",
    "        predictions = model(input, output, src_mask, tgt_mask).transpose(0,1)\n",
    "        predictions = predictions[:, -1:, :]\n",
    "        output = torch.cat([output, predictions.to(device)], axis=1)\n",
    "    return torch.squeeze(output, axis=0).detach().cpu().numpy()[1:]"
   ]
  },
  {
   "cell_type": "code",
   "execution_count": null,
   "metadata": {
    "id": "DB7iMIlo-jYv"
   },
   "outputs": [],
   "source": [
    "result = evaluate(100)\n",
    "result = min_max_scaler.inverse_transform(result)\n",
    "real = rawdata[\"daily_Acc\"].to_numpy()\n",
    "real = min_max_scaler.inverse_transform(real.reshape(-1,1))"
   ]
  },
  {
   "cell_type": "code",
   "execution_count": null,
   "metadata": {
    "colab": {
     "base_uri": "https://localhost:8080/"
    },
    "executionInfo": {
     "elapsed": 9,
     "status": "ok",
     "timestamp": 1679548583779,
     "user": {
      "displayName": "서민경",
      "userId": "09611163852089986535"
     },
     "user_tz": -540
    },
    "id": "K7reE9e56Ju9",
    "outputId": "b3e5aa0a-c2b9-4cee-86cd-2d5efa8f59d7"
   },
   "outputs": [
    {
     "name": "stdout",
     "output_type": "stream",
     "text": [
      "(947, 1) (60, 1)\n"
     ]
    }
   ],
   "source": [
    "print(real.shape, result.shape)"
   ]
  },
  {
   "cell_type": "code",
   "execution_count": null,
   "metadata": {
    "colab": {
     "base_uri": "https://localhost:8080/",
     "height": 320
    },
    "executionInfo": {
     "elapsed": 6,
     "status": "ok",
     "timestamp": 1679633733482,
     "user": {
      "displayName": "서민경",
      "userId": "09611163852089986535"
     },
     "user_tz": -540
    },
    "id": "rXW7J0sZ-jYw",
    "outputId": "89465e2d-0d88-4ab6-8fce-a8e9632c16b1"
   },
   "outputs": [
    {
     "data": {
      "image/png": "[encoded data removed]",
      "text/plain": [
       "<Figure size 1440x360 with 1 Axes>"
      ]
     },
     "metadata": {
      "needs_background": "light"
     },
     "output_type": "display_data"
    }
   ],
   "source": [
    "plt.figure(figsize=(20,5))\n",
    "plt.plot(range(500,947),real[500:], label=\"real\")\n",
    "plt.plot(range(947-100,947),result, label=\"predict\")\n",
    "plt.legend()\n",
    "plt.show()"
   ]
  },
  {
   "cell_type": "markdown",
   "metadata": {
    "id": "uG9q4jZTRL20"
   },
   "source": [
    "input의 많은 step의 예측을 반복적으로 디코더에서 한개의 값씩 결과를 예측할 만큼 충분한 정보를 학습하지 못한 것이라 생각."
   ]
  },
  {
   "cell_type": "markdown",
   "metadata": {
    "id": "X1v3zOyp-jYw"
   },
   "source": [
    "# FC Layer decoder\n",
    "\n",
    "*  decoder에서 결과를 반복적으로 1step씩 예측하는 것이 아닌 한번에 예측하는 모델로 다시 모델링."
   ]
  },
  {
   "cell_type": "code",
   "execution_count": null,
   "metadata": {
    "id": "c-VADv_K-jYw"
   },
   "outputs": [],
   "source": [
    "from torch.utils.data import DataLoader, Dataset\n",
    "class windowDataset(Dataset):\n",
    "    def __init__(self, y, input_window=80, output_window=20, stride=5):\n",
    "        #총 데이터의 개수\n",
    "        L = y.shape[0]\n",
    "        #stride씩 움직일 때 생기는 총 sample의 개수\n",
    "        num_samples = (L - input_window - output_window) // stride + 1\n",
    "\n",
    "        #input과 output\n",
    "        X = np.zeros([input_window, num_samples])\n",
    "        Y = np.zeros([output_window, num_samples])\n",
    "\n",
    "        for i in np.arange(num_samples):\n",
    "            start_x = stride*i\n",
    "            end_x = start_x + input_window\n",
    "            X[:,i] = y[start_x:end_x]\n",
    "\n",
    "            start_y = stride*i + input_window\n",
    "            end_y = start_y + output_window\n",
    "            Y[:,i] = y[start_y:end_y]\n",
    "\n",
    "        X = X.reshape(X.shape[0], X.shape[1], 1).transpose((1,0,2))\n",
    "        Y = Y.reshape(Y.shape[0], Y.shape[1], 1).transpose((1,0,2))\n",
    "        self.x = X\n",
    "        self.y = Y\n",
    "        \n",
    "        self.len = len(X)\n",
    "    def __getitem__(self, i):\n",
    "        # input window size의 input data, output window size의 output data.\n",
    "        return self.x[i], self.y[i]\n",
    "    def __len__(self):\n",
    "        return self.len"
   ]
  },
  {
   "cell_type": "markdown",
   "metadata": {
    "id": "H-knEMd8Rtth"
   },
   "source": [
    "*  return 값이 input, output 두개라는 점이 다름.\n",
    "------------------------------"
   ]
  },
  {
   "cell_type": "code",
   "execution_count": null,
   "metadata": {
    "id": "H9xZYDaj-jYw"
   },
   "outputs": [],
   "source": [
    "iw = 200\n",
    "ow = 100\n",
    "\n",
    "train_dataset = windowDataset(data_train, input_window=iw, output_window=ow, stride=1)\n",
    "train_loader = DataLoader(train_dataset, batch_size=64)"
   ]
  },
  {
   "cell_type": "markdown",
   "metadata": {
    "id": "_M_lbSTYS5lf"
   },
   "source": [
    "# Modeling\n",
    "transformer decoder를 사용하지 않고 transformer encoder의 output에 FC Layer를 연결해서 결과를 바로 예측한다."
   ]
  },
  {
   "cell_type": "code",
   "execution_count": null,
   "metadata": {
    "id": "W0Yr2khj-jYx"
   },
   "outputs": [],
   "source": [
    "class TFModel(nn.Module):\n",
    "    def __init__(self,iw, ow, d_model, nhead, nlayers, dropout=0.5):\n",
    "        super(TFModel, self).__init__()\n",
    "        self.encoder_layer = nn.TransformerEncoderLayer(d_model=d_model, nhead=nhead, dropout=dropout)\n",
    "        self.transformer_encoder = nn.TransformerEncoder(self.encoder_layer, num_layers=nlayers) \n",
    "        self.pos_encoder = PositionalEncoding(d_model, dropout)\n",
    "\n",
    "        self.encoder = nn.Sequential(\n",
    "            nn.Linear(1, d_model//2),\n",
    "            nn.ReLU(),\n",
    "            nn.Linear(d_model//2, d_model)\n",
    "        )\n",
    "        \n",
    "        self.linear =  nn.Sequential(\n",
    "            nn.Linear(d_model, d_model//2),\n",
    "            nn.ReLU(),\n",
    "            nn.Linear(d_model//2, 1)\n",
    "        )\n",
    "\n",
    "        self.linear2 = nn.Sequential(\n",
    "            nn.Linear(iw, (iw+ow)//2),\n",
    "            nn.ReLU(),\n",
    "            nn.Linear((iw+ow)//2, ow)\n",
    "        ) \n",
    "\n",
    "    def generate_square_subsequent_mask(self, sz):\n",
    "        mask = (torch.triu(torch.ones(sz, sz)) == 1).transpose(0, 1)\n",
    "        mask = mask.float().masked_fill(mask == 0, float('-inf')).masked_fill(mask == 1, float(0.0))\n",
    "        return mask\n",
    "\n",
    "    def forward(self, src, srcmask):\n",
    "        src = self.encoder(src)\n",
    "        src = self.pos_encoder(src)\n",
    "        output = self.transformer_encoder(src.transpose(0,1), srcmask).transpose(0,1)\n",
    "        output = self.linear(output)[:,:,0]\n",
    "        output = self.linear2(output)\n",
    "        return output\n",
    "\n",
    "class PositionalEncoding(nn.Module):\n",
    "    def __init__(self, d_model, dropout=0.1, max_len=5000):\n",
    "        super(PositionalEncoding, self).__init__()\n",
    "        self.dropout = nn.Dropout(p=dropout)\n",
    "\n",
    "        pe = torch.zeros(max_len, d_model)\n",
    "        position = torch.arange(0, max_len, dtype=torch.float).unsqueeze(1)\n",
    "        div_term = torch.exp(torch.arange(0, d_model, 2).float() * (-math.log(10000.0) / d_model))\n",
    "        pe[:, 0::2] = torch.sin(position * div_term)\n",
    "        pe[:, 1::2] = torch.cos(position * div_term)\n",
    "        pe = pe.unsqueeze(0).transpose(0, 1)\n",
    "        self.register_buffer('pe', pe)\n",
    "\n",
    "    def forward(self, x):\n",
    "        x = x + self.pe[:x.size(0), :]\n",
    "        return self.dropout(x)\n",
    "\n",
    "def gen_attention_mask(x):\n",
    "    mask = torch.eq(x, 0)\n",
    "    return mask"
   ]
  },
  {
   "cell_type": "markdown",
   "metadata": {
    "id": "18xnqXUTTt9l"
   },
   "source": [
    "**다음과 같은 순서로 진행되도록 모델링 했다.**\n",
    "\n",
    "1. 1차원 벡터를 d_model 차원으로 바꿔준다.\n",
    "(batch, input_window, 1) => (batch, input_window, d_model)\n",
    "\n",
    "2. transformer encoder를 통과한다.\n",
    "(batch, input_window, d_model) => (batch, input_window, d_model)\n",
    "\n",
    "3. 결과의 d_model차원을 1차원으로 바꿔준다.\n",
    "(batch, input_window, d_model) => (batch, input_window, 1)\n",
    "\n",
    "4. 1차원인 부분을 없앤다.\n",
    "(batch, input_window, 1) => (batch, input_window)\n",
    "\n",
    "5. input_window차원을 output_window차원으로 바꿔준다.\n",
    "(batch, input_window) => (batch, output_window)\n",
    "\n",
    "input window의 attention의 조합으로 output window를 바로 예측할 수 있다는 가정으로 모델을 만들었다.\n",
    "\n",
    "linear layer들은 두 개씩 쌓아줬다."
   ]
  },
  {
   "cell_type": "code",
   "execution_count": null,
   "metadata": {
    "id": "SNssVOaZ-jYx"
   },
   "outputs": [],
   "source": [
    "device = torch.device(\"cuda\")\n",
    "lr = 1e-4\n",
    "model = TFModel(200, 100, 512, 8, 4, 0.1).to(device)\n",
    "criterion = nn.MSELoss()\n",
    "optimizer = torch.optim.Adam(model.parameters(), lr=lr)"
   ]
  },
  {
   "cell_type": "code",
   "execution_count": null,
   "metadata": {
    "colab": {
     "base_uri": "https://localhost:8080/"
    },
    "executionInfo": {
     "elapsed": 2918334,
     "status": "ok",
     "timestamp": 1679636664908,
     "user": {
      "displayName": "서민경",
      "userId": "09611163852089986535"
     },
     "user_tz": -540
    },
    "id": "OjmLTuJX-jYx",
    "outputId": "e761449d-5f41-4249-9640-b1017f31ff09"
   },
   "outputs": [
    {
     "name": "stderr",
     "output_type": "stream",
     "text": [
      "loss: 0.001753: 100%|██████████| 1000/1000 [48:38<00:00,  2.92s/it]\n"
     ]
    }
   ],
   "source": [
    "from tqdm import tqdm\n",
    "\n",
    "epoch = 1000\n",
    "model.train()\n",
    "progress = tqdm(range(epoch))\n",
    "for i in progress:\n",
    "    batchloss = 0.0\n",
    "    for (inputs, outputs) in train_loader:\n",
    "        optimizer.zero_grad()\n",
    "        src_mask = model.generate_square_subsequent_mask(inputs.shape[1]).to(device)\n",
    "        result = model(inputs.float().to(device),  src_mask)\n",
    "        loss = criterion(result, outputs[:,:,0].float().to(device))\n",
    "        loss.backward()\n",
    "        optimizer.step()\n",
    "        batchloss += loss\n",
    "    progress.set_description(\"loss: {:0.6f}\".format(batchloss.cpu().item() / len(train_loader)))"
   ]
  },
  {
   "cell_type": "code",
   "execution_count": null,
   "metadata": {
    "id": "9h_GlLyU-jYx"
   },
   "outputs": [],
   "source": [
    "def evaluate():\n",
    "    input = torch.tensor(data_train[-200:]).reshape(1,-1,1).to(device).float().to(device)\n",
    "    model.eval()\n",
    "    \n",
    "    src_mask = model.generate_square_subsequent_mask(input.shape[1]).to(device)\n",
    "    predictions = model(input, src_mask)\n",
    "    return predictions.detach().cpu().numpy()"
   ]
  },
  {
   "cell_type": "code",
   "execution_count": null,
   "metadata": {
    "id": "5xmZoY2V-jYx"
   },
   "outputs": [],
   "source": [
    "result = evaluate()\n",
    "result = min_max_scaler.inverse_transform(result)[0]\n",
    "real = rawdata[\"daily_Acc\"].to_numpy()\n",
    "real = min_max_scaler.inverse_transform(real.reshape(-1,1))[:,0]"
   ]
  },
  {
   "cell_type": "code",
   "execution_count": null,
   "metadata": {
    "colab": {
     "base_uri": "https://localhost:8080/",
     "height": 320
    },
    "executionInfo": {
     "elapsed": 14,
     "status": "ok",
     "timestamp": 1679636722700,
     "user": {
      "displayName": "서민경",
      "userId": "09611163852089986535"
     },
     "user_tz": -540
    },
    "id": "UQLaolv4GukW",
    "outputId": "f20be3f5-2362-475e-fb76-8c9dcef1a625"
   },
   "outputs": [
    {
     "data": {
      "image/png": "[encoded data removed]",
      "text/plain": [
       "<Figure size 1440x360 with 1 Axes>"
      ]
     },
     "metadata": {
      "needs_background": "light"
     },
     "output_type": "display_data"
    }
   ],
   "source": [
    "plt.figure(figsize=(20,5))\n",
    "plt.plot(range(500,947),real[500:], label=\"real\")\n",
    "plt.plot(range(947-100,947),result, label=\"predict\")\n",
    "plt.legend()\n",
    "plt.show()"
   ]
  },
  {
   "cell_type": "code",
   "execution_count": null,
   "metadata": {
    "colab": {
     "base_uri": "https://localhost:8080/"
    },
    "executionInfo": {
     "elapsed": 717,
     "status": "ok",
     "timestamp": 1679636742163,
     "user": {
      "displayName": "서민경",
      "userId": "09611163852089986535"
     },
     "user_tz": -540
    },
    "id": "6i_5NtPl-jYy",
    "outputId": "1d3a501f-11c9-472c-c159-ee73be4e5e7f"
   },
   "outputs": [
    {
     "data": {
      "text/plain": [
       "390.95102864179603"
      ]
     },
     "execution_count": 23,
     "metadata": {},
     "output_type": "execute_result"
    }
   ],
   "source": [
    "def MAPEval(y_pred, y_true):\n",
    "    return np.mean(np.abs((y_true - y_pred) / y_true)) * 100\n",
    "\n",
    "MAPEval(result, real[-100:])"
   ]
  },
  {
   "cell_type": "code",
   "execution_count": null,
   "metadata": {
    "id": "GhLUR9q--jYy"
   },
   "outputs": [],
   "source": [
    "torch.save(model.state_dict(), \"model.pth\")"
   ]
  }
 ],
 "metadata": {
  "accelerator": "GPU",
  "colab": {
   "provenance": []
  },
  "gpuClass": "standard",
  "interpreter": {
   "hash": "849767edceeeddf53965c2c22dc0d6f4cc62af5f2af22e684245cca2d0b8102d"
  },
  "kernelspec": {
   "display_name": "Python 3 (ipykernel)",
   "language": "python",
   "name": "python3"
  },
  "language_info": {
   "codemirror_mode": {
    "name": "ipython",
    "version": 3
   },
   "file_extension": ".py",
   "mimetype": "text/x-python",
   "name": "python",
   "nbconvert_exporter": "python",
   "pygments_lexer": "ipython3",
   "version": "3.9.13"
  },
  "metadata": {
   "interpreter": {
    "hash": "849767edceeeddf53965c2c22dc0d6f4cc62af5f2af22e684245cca2d0b8102d"
   }
  },
  "toc": {
   "base_numbering": 1,
   "nav_menu": {},
   "number_sections": true,
   "sideBar": true,
   "skip_h1_title": false,
   "title_cell": "Table of Contents",
   "title_sidebar": "Contents",
   "toc_cell": false,
   "toc_position": {},
   "toc_section_display": true,
   "toc_window_display": false
  }
 },
 "nbformat": 4,
 "nbformat_minor": 1
}
