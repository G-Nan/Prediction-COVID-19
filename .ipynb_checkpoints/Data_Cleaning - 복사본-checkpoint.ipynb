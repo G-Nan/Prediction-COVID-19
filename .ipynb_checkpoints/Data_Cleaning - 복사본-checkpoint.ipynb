{
 "cells": [
  {
   "cell_type": "code",
   "execution_count": 5,
   "id": "136562e7",
   "metadata": {
    "ExecuteTime": {
     "end_time": "2023-04-27T06:04:40.404045Z",
     "start_time": "2023-04-27T06:04:39.059718Z"
    }
   },
   "outputs": [],
   "source": [
    "import random\n",
    "import pandas as pd\n",
    "import numpy as np\n",
    "import matplotlib.pyplot as plt"
   ]
  },
  {
   "cell_type": "markdown",
   "id": "78d363aa",
   "metadata": {},
   "source": [
    "# 서울"
   ]
  },
  {
   "cell_type": "code",
   "execution_count": 6,
   "id": "769498ea",
   "metadata": {
    "ExecuteTime": {
     "end_time": "2023-04-27T06:04:40.450831Z",
     "start_time": "2023-04-27T06:04:40.406013Z"
    }
   },
   "outputs": [
    {
     "data": {
      "text/html": [
       "<div>\n",
       "<style scoped>\n",
       "    .dataframe tbody tr th:only-of-type {\n",
       "        vertical-align: middle;\n",
       "    }\n",
       "\n",
       "    .dataframe tbody tr th {\n",
       "        vertical-align: top;\n",
       "    }\n",
       "\n",
       "    .dataframe thead th {\n",
       "        text-align: right;\n",
       "    }\n",
       "</style>\n",
       "<table border=\"1\" class=\"dataframe\">\n",
       "  <thead>\n",
       "    <tr style=\"text-align: right;\">\n",
       "      <th></th>\n",
       "      <th>deathCnt</th>\n",
       "      <th>defCnt</th>\n",
       "      <th>gubun</th>\n",
       "      <th>gubunEn</th>\n",
       "      <th>incDec</th>\n",
       "      <th>isolClearCnt</th>\n",
       "      <th>isolIngCnt</th>\n",
       "      <th>localOccCnt</th>\n",
       "      <th>overFlowCnt</th>\n",
       "      <th>qurRate</th>\n",
       "      <th>stdDay</th>\n",
       "    </tr>\n",
       "  </thead>\n",
       "  <tbody>\n",
       "    <tr>\n",
       "      <th>0</th>\n",
       "      <td>0</td>\n",
       "      <td>0</td>\n",
       "      <td>서울</td>\n",
       "      <td>Seoul</td>\n",
       "      <td>0</td>\n",
       "      <td>0</td>\n",
       "      <td>0</td>\n",
       "      <td>0</td>\n",
       "      <td>0</td>\n",
       "      <td>0.0</td>\n",
       "      <td>2020-01-20</td>\n",
       "    </tr>\n",
       "    <tr>\n",
       "      <th>1</th>\n",
       "      <td>0</td>\n",
       "      <td>0</td>\n",
       "      <td>서울</td>\n",
       "      <td>Seoul</td>\n",
       "      <td>0</td>\n",
       "      <td>0</td>\n",
       "      <td>0</td>\n",
       "      <td>0</td>\n",
       "      <td>0</td>\n",
       "      <td>0.0</td>\n",
       "      <td>2020-01-21</td>\n",
       "    </tr>\n",
       "    <tr>\n",
       "      <th>2</th>\n",
       "      <td>0</td>\n",
       "      <td>0</td>\n",
       "      <td>서울</td>\n",
       "      <td>Seoul</td>\n",
       "      <td>0</td>\n",
       "      <td>0</td>\n",
       "      <td>0</td>\n",
       "      <td>0</td>\n",
       "      <td>0</td>\n",
       "      <td>0.0</td>\n",
       "      <td>2020-01-22</td>\n",
       "    </tr>\n",
       "    <tr>\n",
       "      <th>3</th>\n",
       "      <td>0</td>\n",
       "      <td>0</td>\n",
       "      <td>서울</td>\n",
       "      <td>Seoul</td>\n",
       "      <td>0</td>\n",
       "      <td>0</td>\n",
       "      <td>0</td>\n",
       "      <td>0</td>\n",
       "      <td>0</td>\n",
       "      <td>0.0</td>\n",
       "      <td>2020-01-23</td>\n",
       "    </tr>\n",
       "    <tr>\n",
       "      <th>4</th>\n",
       "      <td>0</td>\n",
       "      <td>1</td>\n",
       "      <td>서울</td>\n",
       "      <td>Seoul</td>\n",
       "      <td>1</td>\n",
       "      <td>0</td>\n",
       "      <td>1</td>\n",
       "      <td>0</td>\n",
       "      <td>1</td>\n",
       "      <td>0.0</td>\n",
       "      <td>2020-01-24</td>\n",
       "    </tr>\n",
       "  </tbody>\n",
       "</table>\n",
       "</div>"
      ],
      "text/plain": [
       "   deathCnt  defCnt gubun gubunEn  incDec  isolClearCnt  isolIngCnt  \\\n",
       "0         0       0    서울   Seoul       0             0           0   \n",
       "1         0       0    서울   Seoul       0             0           0   \n",
       "2         0       0    서울   Seoul       0             0           0   \n",
       "3         0       0    서울   Seoul       0             0           0   \n",
       "4         0       1    서울   Seoul       1             0           1   \n",
       "\n",
       "   localOccCnt  overFlowCnt  qurRate      stdDay  \n",
       "0            0            0      0.0  2020-01-20  \n",
       "1            0            0      0.0  2020-01-21  \n",
       "2            0            0      0.0  2020-01-22  \n",
       "3            0            0      0.0  2020-01-23  \n",
       "4            0            1      0.0  2020-01-24  "
      ]
     },
     "execution_count": 6,
     "metadata": {},
     "output_type": "execute_result"
    }
   ],
   "source": [
    "city = '서울'\n",
    "# '서울', '부산', '대구', '인천', '광주', '대전', '울산', '세종', '경기', \n",
    "# '강원', '충북', '충남', '전북', '전남', '경북', '경남', '제주'\n",
    "\n",
    "\n",
    "df = pd.read_csv(f'Data/Rawdata/{city}_Raw.csv', encoding = 'cp949')\n",
    "df.head()"
   ]
  },
  {
   "cell_type": "markdown",
   "id": "f57627a2",
   "metadata": {},
   "source": [
    "## 결측치 확인"
   ]
  },
  {
   "cell_type": "code",
   "execution_count": 22,
   "id": "a2bc2169",
   "metadata": {
    "ExecuteTime": {
     "end_time": "2023-04-27T06:06:37.112439Z",
     "start_time": "2023-04-27T06:06:37.098454Z"
    }
   },
   "outputs": [
    {
     "data": {
      "text/plain": [
       "deathCnt        0\n",
       "defCnt          0\n",
       "gubun           0\n",
       "gubunEn         0\n",
       "incDec          0\n",
       "isolClearCnt    0\n",
       "isolIngCnt      0\n",
       "localOccCnt     0\n",
       "overFlowCnt     0\n",
       "qurRate         0\n",
       "stdDay          0\n",
       "dtype: int64"
      ]
     },
     "execution_count": 22,
     "metadata": {},
     "output_type": "execute_result"
    }
   ],
   "source": [
    "df.isnull().sum()"
   ]
  },
  {
   "cell_type": "markdown",
   "id": "fff2fcb2",
   "metadata": {},
   "source": [
    "## 이상치 확인"
   ]
  },
  {
   "cell_type": "code",
   "execution_count": 23,
   "id": "958df9ac",
   "metadata": {
    "ExecuteTime": {
     "end_time": "2023-04-27T06:06:42.197104Z",
     "start_time": "2023-04-27T06:06:42.066044Z"
    }
   },
   "outputs": [
    {
     "data": {
      "text/plain": [
       "[<matplotlib.lines.Line2D at 0x235ad507eb0>]"
      ]
     },
     "execution_count": 23,
     "metadata": {},
     "output_type": "execute_result"
    },
    {
     "data": {
      "image/png": "[encoded data removed]",
      "text/plain": [
       "<Figure size 640x480 with 1 Axes>"
      ]
     },
     "metadata": {},
     "output_type": "display_data"
    }
   ],
   "source": [
    "plt.plot(df['defCnt'])"
   ]
  },
  {
   "cell_type": "markdown",
   "id": "c2154359",
   "metadata": {},
   "source": [
    "## stdDay가 같은 데이터 추출"
   ]
  },
  {
   "cell_type": "code",
   "execution_count": 9,
   "id": "80cacff2",
   "metadata": {
    "ExecuteTime": {
     "end_time": "2023-04-27T06:04:52.222551Z",
     "start_time": "2023-04-27T06:04:52.206592Z"
    }
   },
   "outputs": [
    {
     "data": {
      "text/html": [
       "<div>\n",
       "<style scoped>\n",
       "    .dataframe tbody tr th:only-of-type {\n",
       "        vertical-align: middle;\n",
       "    }\n",
       "\n",
       "    .dataframe tbody tr th {\n",
       "        vertical-align: top;\n",
       "    }\n",
       "\n",
       "    .dataframe thead th {\n",
       "        text-align: right;\n",
       "    }\n",
       "</style>\n",
       "<table border=\"1\" class=\"dataframe\">\n",
       "  <thead>\n",
       "    <tr style=\"text-align: right;\">\n",
       "      <th></th>\n",
       "      <th>deathCnt</th>\n",
       "      <th>defCnt</th>\n",
       "      <th>gubun</th>\n",
       "      <th>gubunEn</th>\n",
       "      <th>incDec</th>\n",
       "      <th>isolClearCnt</th>\n",
       "      <th>isolIngCnt</th>\n",
       "      <th>localOccCnt</th>\n",
       "      <th>overFlowCnt</th>\n",
       "      <th>qurRate</th>\n",
       "      <th>stdDay</th>\n",
       "    </tr>\n",
       "  </thead>\n",
       "  <tbody>\n",
       "    <tr>\n",
       "      <th>350</th>\n",
       "      <td>193</td>\n",
       "      <td>20138</td>\n",
       "      <td>서울</td>\n",
       "      <td>Seoul</td>\n",
       "      <td>329</td>\n",
       "      <td>11721</td>\n",
       "      <td>8224</td>\n",
       "      <td>324</td>\n",
       "      <td>5</td>\n",
       "      <td>206.89</td>\n",
       "      <td>2021-01-04</td>\n",
       "    </tr>\n",
       "    <tr>\n",
       "      <th>351</th>\n",
       "      <td>193</td>\n",
       "      <td>20129</td>\n",
       "      <td>서울</td>\n",
       "      <td>Seoul</td>\n",
       "      <td>329</td>\n",
       "      <td>11710</td>\n",
       "      <td>8226</td>\n",
       "      <td>325</td>\n",
       "      <td>4</td>\n",
       "      <td>206.80</td>\n",
       "      <td>2021-01-04</td>\n",
       "    </tr>\n",
       "    <tr>\n",
       "      <th>654</th>\n",
       "      <td>802</td>\n",
       "      <td>121843</td>\n",
       "      <td>서울</td>\n",
       "      <td>Seoul</td>\n",
       "      <td>1004</td>\n",
       "      <td>108509</td>\n",
       "      <td>11529</td>\n",
       "      <td>997</td>\n",
       "      <td>7</td>\n",
       "      <td>1260.00</td>\n",
       "      <td>2021-11-03</td>\n",
       "    </tr>\n",
       "    <tr>\n",
       "      <th>655</th>\n",
       "      <td>807</td>\n",
       "      <td>121843</td>\n",
       "      <td>서울</td>\n",
       "      <td>Seoul</td>\n",
       "      <td>1004</td>\n",
       "      <td>109151</td>\n",
       "      <td>11885</td>\n",
       "      <td>997</td>\n",
       "      <td>7</td>\n",
       "      <td>1260.00</td>\n",
       "      <td>2021-11-03</td>\n",
       "    </tr>\n",
       "    <tr>\n",
       "      <th>751</th>\n",
       "      <td>2205</td>\n",
       "      <td>320343</td>\n",
       "      <td>서울</td>\n",
       "      <td>Seoul</td>\n",
       "      <td>6888</td>\n",
       "      <td>224002</td>\n",
       "      <td>0</td>\n",
       "      <td>6873</td>\n",
       "      <td>15</td>\n",
       "      <td>3369.00</td>\n",
       "      <td>2022-02-07</td>\n",
       "    </tr>\n",
       "    <tr>\n",
       "      <th>752</th>\n",
       "      <td>2205</td>\n",
       "      <td>313462</td>\n",
       "      <td>서울</td>\n",
       "      <td>Seoul</td>\n",
       "      <td>6888</td>\n",
       "      <td>320343</td>\n",
       "      <td>0</td>\n",
       "      <td>6873</td>\n",
       "      <td>15</td>\n",
       "      <td>3296.00</td>\n",
       "      <td>2022-02-07</td>\n",
       "    </tr>\n",
       "    <tr>\n",
       "      <th>753</th>\n",
       "      <td>2205</td>\n",
       "      <td>320343</td>\n",
       "      <td>서울</td>\n",
       "      <td>Seoul</td>\n",
       "      <td>6888</td>\n",
       "      <td>320343</td>\n",
       "      <td>0</td>\n",
       "      <td>6873</td>\n",
       "      <td>15</td>\n",
       "      <td>3369.00</td>\n",
       "      <td>2022-02-07</td>\n",
       "    </tr>\n",
       "    <tr>\n",
       "      <th>785</th>\n",
       "      <td>2661</td>\n",
       "      <td>1331263</td>\n",
       "      <td>서울</td>\n",
       "      <td>Seoul</td>\n",
       "      <td>56603</td>\n",
       "      <td>353601</td>\n",
       "      <td>0</td>\n",
       "      <td>56600</td>\n",
       "      <td>3</td>\n",
       "      <td>13999.00</td>\n",
       "      <td>2022-03-11</td>\n",
       "    </tr>\n",
       "    <tr>\n",
       "      <th>786</th>\n",
       "      <td>2693</td>\n",
       "      <td>1331263</td>\n",
       "      <td>서울</td>\n",
       "      <td>Seoul</td>\n",
       "      <td>56603</td>\n",
       "      <td>353601</td>\n",
       "      <td>0</td>\n",
       "      <td>56600</td>\n",
       "      <td>3</td>\n",
       "      <td>13999.00</td>\n",
       "      <td>2022-03-11</td>\n",
       "    </tr>\n",
       "    <tr>\n",
       "      <th>797</th>\n",
       "      <td>3144</td>\n",
       "      <td>2148186</td>\n",
       "      <td>서울</td>\n",
       "      <td>Seoul</td>\n",
       "      <td>65033</td>\n",
       "      <td>480318</td>\n",
       "      <td>0</td>\n",
       "      <td>65033</td>\n",
       "      <td>0</td>\n",
       "      <td>22590.00</td>\n",
       "      <td>2022-03-22</td>\n",
       "    </tr>\n",
       "  </tbody>\n",
       "</table>\n",
       "</div>"
      ],
      "text/plain": [
       "     deathCnt   defCnt gubun gubunEn  incDec  isolClearCnt  isolIngCnt  \\\n",
       "350       193    20138    서울   Seoul     329         11721        8224   \n",
       "351       193    20129    서울   Seoul     329         11710        8226   \n",
       "654       802   121843    서울   Seoul    1004        108509       11529   \n",
       "655       807   121843    서울   Seoul    1004        109151       11885   \n",
       "751      2205   320343    서울   Seoul    6888        224002           0   \n",
       "752      2205   313462    서울   Seoul    6888        320343           0   \n",
       "753      2205   320343    서울   Seoul    6888        320343           0   \n",
       "785      2661  1331263    서울   Seoul   56603        353601           0   \n",
       "786      2693  1331263    서울   Seoul   56603        353601           0   \n",
       "797      3144  2148186    서울   Seoul   65033        480318           0   \n",
       "\n",
       "     localOccCnt  overFlowCnt   qurRate      stdDay  \n",
       "350          324            5    206.89  2021-01-04  \n",
       "351          325            4    206.80  2021-01-04  \n",
       "654          997            7   1260.00  2021-11-03  \n",
       "655          997            7   1260.00  2021-11-03  \n",
       "751         6873           15   3369.00  2022-02-07  \n",
       "752         6873           15   3296.00  2022-02-07  \n",
       "753         6873           15   3369.00  2022-02-07  \n",
       "785        56600            3  13999.00  2022-03-11  \n",
       "786        56600            3  13999.00  2022-03-11  \n",
       "797        65033            0  22590.00  2022-03-22  "
      ]
     },
     "execution_count": 9,
     "metadata": {},
     "output_type": "execute_result"
    }
   ],
   "source": [
    "df[df.duplicated(['stdDay'], keep = False)].head(10)"
   ]
  },
  {
   "cell_type": "markdown",
   "id": "ea1d8c3d",
   "metadata": {},
   "source": [
    "## 완전히 같은 데이터 추출"
   ]
  },
  {
   "cell_type": "code",
   "execution_count": 11,
   "id": "25ea75d2",
   "metadata": {
    "ExecuteTime": {
     "end_time": "2023-04-27T06:04:58.381510Z",
     "start_time": "2023-04-27T06:04:58.361547Z"
    }
   },
   "outputs": [
    {
     "name": "stdout",
     "output_type": "stream",
     "text": [
      "모든 행이 동일한 데이터 개수 : 44개\n"
     ]
    },
    {
     "data": {
      "text/html": [
       "<div>\n",
       "<style scoped>\n",
       "    .dataframe tbody tr th:only-of-type {\n",
       "        vertical-align: middle;\n",
       "    }\n",
       "\n",
       "    .dataframe tbody tr th {\n",
       "        vertical-align: top;\n",
       "    }\n",
       "\n",
       "    .dataframe thead th {\n",
       "        text-align: right;\n",
       "    }\n",
       "</style>\n",
       "<table border=\"1\" class=\"dataframe\">\n",
       "  <thead>\n",
       "    <tr style=\"text-align: right;\">\n",
       "      <th></th>\n",
       "      <th>deathCnt</th>\n",
       "      <th>defCnt</th>\n",
       "      <th>gubun</th>\n",
       "      <th>gubunEn</th>\n",
       "      <th>incDec</th>\n",
       "      <th>isolClearCnt</th>\n",
       "      <th>isolIngCnt</th>\n",
       "      <th>localOccCnt</th>\n",
       "      <th>overFlowCnt</th>\n",
       "      <th>qurRate</th>\n",
       "      <th>stdDay</th>\n",
       "    </tr>\n",
       "  </thead>\n",
       "  <tbody>\n",
       "    <tr>\n",
       "      <th>813</th>\n",
       "      <td>3742</td>\n",
       "      <td>2922636</td>\n",
       "      <td>서울</td>\n",
       "      <td>Seoul</td>\n",
       "      <td>20894</td>\n",
       "      <td>0</td>\n",
       "      <td>0</td>\n",
       "      <td>20894</td>\n",
       "      <td>0</td>\n",
       "      <td>30734.0</td>\n",
       "      <td>2022-04-04</td>\n",
       "    </tr>\n",
       "    <tr>\n",
       "      <th>814</th>\n",
       "      <td>3742</td>\n",
       "      <td>2922636</td>\n",
       "      <td>서울</td>\n",
       "      <td>Seoul</td>\n",
       "      <td>20894</td>\n",
       "      <td>0</td>\n",
       "      <td>0</td>\n",
       "      <td>20894</td>\n",
       "      <td>0</td>\n",
       "      <td>30734.0</td>\n",
       "      <td>2022-04-04</td>\n",
       "    </tr>\n",
       "    <tr>\n",
       "      <th>862</th>\n",
       "      <td>4788</td>\n",
       "      <td>3590173</td>\n",
       "      <td>서울</td>\n",
       "      <td>Seoul</td>\n",
       "      <td>3589</td>\n",
       "      <td>0</td>\n",
       "      <td>0</td>\n",
       "      <td>3589</td>\n",
       "      <td>0</td>\n",
       "      <td>37754.0</td>\n",
       "      <td>2022-05-21</td>\n",
       "    </tr>\n",
       "    <tr>\n",
       "      <th>863</th>\n",
       "      <td>4788</td>\n",
       "      <td>3590173</td>\n",
       "      <td>서울</td>\n",
       "      <td>Seoul</td>\n",
       "      <td>3589</td>\n",
       "      <td>0</td>\n",
       "      <td>0</td>\n",
       "      <td>3589</td>\n",
       "      <td>0</td>\n",
       "      <td>37754.0</td>\n",
       "      <td>2022-05-21</td>\n",
       "    </tr>\n",
       "    <tr>\n",
       "      <th>893</th>\n",
       "      <td>4868</td>\n",
       "      <td>3648259</td>\n",
       "      <td>서울</td>\n",
       "      <td>Seoul</td>\n",
       "      <td>719</td>\n",
       "      <td>0</td>\n",
       "      <td>0</td>\n",
       "      <td>717</td>\n",
       "      <td>2</td>\n",
       "      <td>38365.0</td>\n",
       "      <td>2022-06-20</td>\n",
       "    </tr>\n",
       "    <tr>\n",
       "      <th>894</th>\n",
       "      <td>4868</td>\n",
       "      <td>3648259</td>\n",
       "      <td>서울</td>\n",
       "      <td>Seoul</td>\n",
       "      <td>719</td>\n",
       "      <td>0</td>\n",
       "      <td>0</td>\n",
       "      <td>717</td>\n",
       "      <td>2</td>\n",
       "      <td>38365.0</td>\n",
       "      <td>2022-06-20</td>\n",
       "    </tr>\n",
       "    <tr>\n",
       "      <th>960</th>\n",
       "      <td>5165</td>\n",
       "      <td>4475520</td>\n",
       "      <td>서울</td>\n",
       "      <td>Seoul</td>\n",
       "      <td>17722</td>\n",
       "      <td>0</td>\n",
       "      <td>0</td>\n",
       "      <td>17707</td>\n",
       "      <td>15</td>\n",
       "      <td>47064.0</td>\n",
       "      <td>2022-08-25</td>\n",
       "    </tr>\n",
       "    <tr>\n",
       "      <th>961</th>\n",
       "      <td>5165</td>\n",
       "      <td>4475520</td>\n",
       "      <td>서울</td>\n",
       "      <td>Seoul</td>\n",
       "      <td>17722</td>\n",
       "      <td>0</td>\n",
       "      <td>0</td>\n",
       "      <td>17707</td>\n",
       "      <td>15</td>\n",
       "      <td>47064.0</td>\n",
       "      <td>2022-08-25</td>\n",
       "    </tr>\n",
       "    <tr>\n",
       "      <th>981</th>\n",
       "      <td>5368</td>\n",
       "      <td>4723634</td>\n",
       "      <td>서울</td>\n",
       "      <td>Seoul</td>\n",
       "      <td>17384</td>\n",
       "      <td>0</td>\n",
       "      <td>0</td>\n",
       "      <td>17368</td>\n",
       "      <td>16</td>\n",
       "      <td>49673.0</td>\n",
       "      <td>2022-09-14</td>\n",
       "    </tr>\n",
       "    <tr>\n",
       "      <th>982</th>\n",
       "      <td>5368</td>\n",
       "      <td>4723634</td>\n",
       "      <td>서울</td>\n",
       "      <td>Seoul</td>\n",
       "      <td>17384</td>\n",
       "      <td>0</td>\n",
       "      <td>0</td>\n",
       "      <td>17368</td>\n",
       "      <td>16</td>\n",
       "      <td>49673.0</td>\n",
       "      <td>2022-09-14</td>\n",
       "    </tr>\n",
       "  </tbody>\n",
       "</table>\n",
       "</div>"
      ],
      "text/plain": [
       "     deathCnt   defCnt gubun gubunEn  incDec  isolClearCnt  isolIngCnt  \\\n",
       "813      3742  2922636    서울   Seoul   20894             0           0   \n",
       "814      3742  2922636    서울   Seoul   20894             0           0   \n",
       "862      4788  3590173    서울   Seoul    3589             0           0   \n",
       "863      4788  3590173    서울   Seoul    3589             0           0   \n",
       "893      4868  3648259    서울   Seoul     719             0           0   \n",
       "894      4868  3648259    서울   Seoul     719             0           0   \n",
       "960      5165  4475520    서울   Seoul   17722             0           0   \n",
       "961      5165  4475520    서울   Seoul   17722             0           0   \n",
       "981      5368  4723634    서울   Seoul   17384             0           0   \n",
       "982      5368  4723634    서울   Seoul   17384             0           0   \n",
       "\n",
       "     localOccCnt  overFlowCnt  qurRate      stdDay  \n",
       "813        20894            0  30734.0  2022-04-04  \n",
       "814        20894            0  30734.0  2022-04-04  \n",
       "862         3589            0  37754.0  2022-05-21  \n",
       "863         3589            0  37754.0  2022-05-21  \n",
       "893          717            2  38365.0  2022-06-20  \n",
       "894          717            2  38365.0  2022-06-20  \n",
       "960        17707           15  47064.0  2022-08-25  \n",
       "961        17707           15  47064.0  2022-08-25  \n",
       "981        17368           16  49673.0  2022-09-14  \n",
       "982        17368           16  49673.0  2022-09-14  "
      ]
     },
     "execution_count": 11,
     "metadata": {},
     "output_type": "execute_result"
    }
   ],
   "source": [
    "print('모든 행이 동일한 데이터 개수 : ' + str(df.duplicated(keep = False).sum()) + '개')\n",
    "df[df.duplicated(keep = False)].head(10)"
   ]
  },
  {
   "cell_type": "markdown",
   "id": "15866696",
   "metadata": {},
   "source": [
    "## 수정해야하는 데이터만 추출"
   ]
  },
  {
   "cell_type": "code",
   "execution_count": 12,
   "id": "9da76985",
   "metadata": {
    "ExecuteTime": {
     "end_time": "2023-04-27T06:05:05.117435Z",
     "start_time": "2023-04-27T06:05:05.097517Z"
    }
   },
   "outputs": [
    {
     "name": "stdout",
     "output_type": "stream",
     "text": [
      "수정해야하는 데이터 개수 : 27개\n"
     ]
    },
    {
     "data": {
      "text/html": [
       "<div>\n",
       "<style scoped>\n",
       "    .dataframe tbody tr th:only-of-type {\n",
       "        vertical-align: middle;\n",
       "    }\n",
       "\n",
       "    .dataframe tbody tr th {\n",
       "        vertical-align: top;\n",
       "    }\n",
       "\n",
       "    .dataframe thead th {\n",
       "        text-align: right;\n",
       "    }\n",
       "</style>\n",
       "<table border=\"1\" class=\"dataframe\">\n",
       "  <thead>\n",
       "    <tr style=\"text-align: right;\">\n",
       "      <th></th>\n",
       "      <th>deathCnt</th>\n",
       "      <th>defCnt</th>\n",
       "      <th>gubun</th>\n",
       "      <th>gubunEn</th>\n",
       "      <th>incDec</th>\n",
       "      <th>isolClearCnt</th>\n",
       "      <th>isolIngCnt</th>\n",
       "      <th>localOccCnt</th>\n",
       "      <th>overFlowCnt</th>\n",
       "      <th>qurRate</th>\n",
       "      <th>stdDay</th>\n",
       "    </tr>\n",
       "  </thead>\n",
       "  <tbody>\n",
       "    <tr>\n",
       "      <th>350</th>\n",
       "      <td>193</td>\n",
       "      <td>20138</td>\n",
       "      <td>서울</td>\n",
       "      <td>Seoul</td>\n",
       "      <td>329</td>\n",
       "      <td>11721</td>\n",
       "      <td>8224</td>\n",
       "      <td>324</td>\n",
       "      <td>5</td>\n",
       "      <td>206.89</td>\n",
       "      <td>2021-01-04</td>\n",
       "    </tr>\n",
       "    <tr>\n",
       "      <th>351</th>\n",
       "      <td>193</td>\n",
       "      <td>20129</td>\n",
       "      <td>서울</td>\n",
       "      <td>Seoul</td>\n",
       "      <td>329</td>\n",
       "      <td>11710</td>\n",
       "      <td>8226</td>\n",
       "      <td>325</td>\n",
       "      <td>4</td>\n",
       "      <td>206.80</td>\n",
       "      <td>2021-01-04</td>\n",
       "    </tr>\n",
       "    <tr>\n",
       "      <th>654</th>\n",
       "      <td>802</td>\n",
       "      <td>121843</td>\n",
       "      <td>서울</td>\n",
       "      <td>Seoul</td>\n",
       "      <td>1004</td>\n",
       "      <td>108509</td>\n",
       "      <td>11529</td>\n",
       "      <td>997</td>\n",
       "      <td>7</td>\n",
       "      <td>1260.00</td>\n",
       "      <td>2021-11-03</td>\n",
       "    </tr>\n",
       "    <tr>\n",
       "      <th>655</th>\n",
       "      <td>807</td>\n",
       "      <td>121843</td>\n",
       "      <td>서울</td>\n",
       "      <td>Seoul</td>\n",
       "      <td>1004</td>\n",
       "      <td>109151</td>\n",
       "      <td>11885</td>\n",
       "      <td>997</td>\n",
       "      <td>7</td>\n",
       "      <td>1260.00</td>\n",
       "      <td>2021-11-03</td>\n",
       "    </tr>\n",
       "    <tr>\n",
       "      <th>751</th>\n",
       "      <td>2205</td>\n",
       "      <td>320343</td>\n",
       "      <td>서울</td>\n",
       "      <td>Seoul</td>\n",
       "      <td>6888</td>\n",
       "      <td>224002</td>\n",
       "      <td>0</td>\n",
       "      <td>6873</td>\n",
       "      <td>15</td>\n",
       "      <td>3369.00</td>\n",
       "      <td>2022-02-07</td>\n",
       "    </tr>\n",
       "    <tr>\n",
       "      <th>752</th>\n",
       "      <td>2205</td>\n",
       "      <td>313462</td>\n",
       "      <td>서울</td>\n",
       "      <td>Seoul</td>\n",
       "      <td>6888</td>\n",
       "      <td>320343</td>\n",
       "      <td>0</td>\n",
       "      <td>6873</td>\n",
       "      <td>15</td>\n",
       "      <td>3296.00</td>\n",
       "      <td>2022-02-07</td>\n",
       "    </tr>\n",
       "    <tr>\n",
       "      <th>753</th>\n",
       "      <td>2205</td>\n",
       "      <td>320343</td>\n",
       "      <td>서울</td>\n",
       "      <td>Seoul</td>\n",
       "      <td>6888</td>\n",
       "      <td>320343</td>\n",
       "      <td>0</td>\n",
       "      <td>6873</td>\n",
       "      <td>15</td>\n",
       "      <td>3369.00</td>\n",
       "      <td>2022-02-07</td>\n",
       "    </tr>\n",
       "    <tr>\n",
       "      <th>785</th>\n",
       "      <td>2661</td>\n",
       "      <td>1331263</td>\n",
       "      <td>서울</td>\n",
       "      <td>Seoul</td>\n",
       "      <td>56603</td>\n",
       "      <td>353601</td>\n",
       "      <td>0</td>\n",
       "      <td>56600</td>\n",
       "      <td>3</td>\n",
       "      <td>13999.00</td>\n",
       "      <td>2022-03-11</td>\n",
       "    </tr>\n",
       "    <tr>\n",
       "      <th>786</th>\n",
       "      <td>2693</td>\n",
       "      <td>1331263</td>\n",
       "      <td>서울</td>\n",
       "      <td>Seoul</td>\n",
       "      <td>56603</td>\n",
       "      <td>353601</td>\n",
       "      <td>0</td>\n",
       "      <td>56600</td>\n",
       "      <td>3</td>\n",
       "      <td>13999.00</td>\n",
       "      <td>2022-03-11</td>\n",
       "    </tr>\n",
       "    <tr>\n",
       "      <th>797</th>\n",
       "      <td>3144</td>\n",
       "      <td>2148186</td>\n",
       "      <td>서울</td>\n",
       "      <td>Seoul</td>\n",
       "      <td>65033</td>\n",
       "      <td>480318</td>\n",
       "      <td>0</td>\n",
       "      <td>65033</td>\n",
       "      <td>0</td>\n",
       "      <td>22590.00</td>\n",
       "      <td>2022-03-22</td>\n",
       "    </tr>\n",
       "  </tbody>\n",
       "</table>\n",
       "</div>"
      ],
      "text/plain": [
       "     deathCnt   defCnt gubun gubunEn  incDec  isolClearCnt  isolIngCnt  \\\n",
       "350       193    20138    서울   Seoul     329         11721        8224   \n",
       "351       193    20129    서울   Seoul     329         11710        8226   \n",
       "654       802   121843    서울   Seoul    1004        108509       11529   \n",
       "655       807   121843    서울   Seoul    1004        109151       11885   \n",
       "751      2205   320343    서울   Seoul    6888        224002           0   \n",
       "752      2205   313462    서울   Seoul    6888        320343           0   \n",
       "753      2205   320343    서울   Seoul    6888        320343           0   \n",
       "785      2661  1331263    서울   Seoul   56603        353601           0   \n",
       "786      2693  1331263    서울   Seoul   56603        353601           0   \n",
       "797      3144  2148186    서울   Seoul   65033        480318           0   \n",
       "\n",
       "     localOccCnt  overFlowCnt   qurRate      stdDay  \n",
       "350          324            5    206.89  2021-01-04  \n",
       "351          325            4    206.80  2021-01-04  \n",
       "654          997            7   1260.00  2021-11-03  \n",
       "655          997            7   1260.00  2021-11-03  \n",
       "751         6873           15   3369.00  2022-02-07  \n",
       "752         6873           15   3296.00  2022-02-07  \n",
       "753         6873           15   3369.00  2022-02-07  \n",
       "785        56600            3  13999.00  2022-03-11  \n",
       "786        56600            3  13999.00  2022-03-11  \n",
       "797        65033            0  22590.00  2022-03-22  "
      ]
     },
     "execution_count": 12,
     "metadata": {},
     "output_type": "execute_result"
    }
   ],
   "source": [
    "df2 = df.drop_duplicates()\n",
    "print('수정해야하는 데이터 개수 : ' + str(df2.duplicated(['stdDay'], keep = False).sum()) + '개')\n",
    "df2[df2.duplicated(['stdDay'], keep = False)].head(10)"
   ]
  },
  {
   "cell_type": "markdown",
   "id": "57694515",
   "metadata": {},
   "source": [
    "## 데이터 수정"
   ]
  },
  {
   "cell_type": "code",
   "execution_count": 13,
   "id": "93d54bb7",
   "metadata": {
    "ExecuteTime": {
     "end_time": "2023-04-27T06:05:08.140104Z",
     "start_time": "2023-04-27T06:05:08.115143Z"
    },
    "scrolled": false
   },
   "outputs": [
    {
     "data": {
      "text/html": [
       "<div>\n",
       "<style scoped>\n",
       "    .dataframe tbody tr th:only-of-type {\n",
       "        vertical-align: middle;\n",
       "    }\n",
       "\n",
       "    .dataframe tbody tr th {\n",
       "        vertical-align: top;\n",
       "    }\n",
       "\n",
       "    .dataframe thead th {\n",
       "        text-align: right;\n",
       "    }\n",
       "</style>\n",
       "<table border=\"1\" class=\"dataframe\">\n",
       "  <thead>\n",
       "    <tr style=\"text-align: right;\">\n",
       "      <th></th>\n",
       "      <th>deathCnt</th>\n",
       "      <th>defCnt</th>\n",
       "      <th>gubun</th>\n",
       "      <th>gubunEn</th>\n",
       "      <th>incDec</th>\n",
       "      <th>isolClearCnt</th>\n",
       "      <th>isolIngCnt</th>\n",
       "      <th>localOccCnt</th>\n",
       "      <th>overFlowCnt</th>\n",
       "      <th>qurRate</th>\n",
       "      <th>stdDay</th>\n",
       "    </tr>\n",
       "  </thead>\n",
       "  <tbody>\n",
       "    <tr>\n",
       "      <th>1185</th>\n",
       "      <td>6363</td>\n",
       "      <td>5953904</td>\n",
       "      <td>서울</td>\n",
       "      <td>Seoul</td>\n",
       "      <td>2312</td>\n",
       "      <td>0</td>\n",
       "      <td>0</td>\n",
       "      <td>2306</td>\n",
       "      <td>6</td>\n",
       "      <td>63149.0</td>\n",
       "      <td>2023-03-15</td>\n",
       "    </tr>\n",
       "    <tr>\n",
       "      <th>1186</th>\n",
       "      <td>6364</td>\n",
       "      <td>5955883</td>\n",
       "      <td>서울</td>\n",
       "      <td>Seoul</td>\n",
       "      <td>1979</td>\n",
       "      <td>0</td>\n",
       "      <td>0</td>\n",
       "      <td>1979</td>\n",
       "      <td>0</td>\n",
       "      <td>63170.0</td>\n",
       "      <td>2023-03-16</td>\n",
       "    </tr>\n",
       "    <tr>\n",
       "      <th>1187</th>\n",
       "      <td>6364</td>\n",
       "      <td>5957871</td>\n",
       "      <td>서울</td>\n",
       "      <td>Seoul</td>\n",
       "      <td>1988</td>\n",
       "      <td>0</td>\n",
       "      <td>0</td>\n",
       "      <td>1987</td>\n",
       "      <td>1</td>\n",
       "      <td>63191.0</td>\n",
       "      <td>2023-03-17</td>\n",
       "    </tr>\n",
       "    <tr>\n",
       "      <th>1188</th>\n",
       "      <td>6365</td>\n",
       "      <td>5959761</td>\n",
       "      <td>서울</td>\n",
       "      <td>Seoul</td>\n",
       "      <td>1927</td>\n",
       "      <td>0</td>\n",
       "      <td>0</td>\n",
       "      <td>1927</td>\n",
       "      <td>0</td>\n",
       "      <td>63211.0</td>\n",
       "      <td>2023-03-18</td>\n",
       "    </tr>\n",
       "    <tr>\n",
       "      <th>1189</th>\n",
       "      <td>0</td>\n",
       "      <td>5961631</td>\n",
       "      <td>서울</td>\n",
       "      <td>Seoul</td>\n",
       "      <td>1870</td>\n",
       "      <td>0</td>\n",
       "      <td>0</td>\n",
       "      <td>1870</td>\n",
       "      <td>0</td>\n",
       "      <td>63231.0</td>\n",
       "      <td>2023-03-19</td>\n",
       "    </tr>\n",
       "    <tr>\n",
       "      <th>1190</th>\n",
       "      <td>6366</td>\n",
       "      <td>5961631</td>\n",
       "      <td>서울</td>\n",
       "      <td>Seoul</td>\n",
       "      <td>1870</td>\n",
       "      <td>0</td>\n",
       "      <td>0</td>\n",
       "      <td>1870</td>\n",
       "      <td>0</td>\n",
       "      <td>63231.0</td>\n",
       "      <td>2023-03-20</td>\n",
       "    </tr>\n",
       "    <tr>\n",
       "      <th>1191</th>\n",
       "      <td>6366</td>\n",
       "      <td>5962320</td>\n",
       "      <td>서울</td>\n",
       "      <td>Seoul</td>\n",
       "      <td>689</td>\n",
       "      <td>0</td>\n",
       "      <td>0</td>\n",
       "      <td>689</td>\n",
       "      <td>0</td>\n",
       "      <td>63238.0</td>\n",
       "      <td>2023-03-20</td>\n",
       "    </tr>\n",
       "    <tr>\n",
       "      <th>1192</th>\n",
       "      <td>6366</td>\n",
       "      <td>5962320</td>\n",
       "      <td>서울</td>\n",
       "      <td>Seoul</td>\n",
       "      <td>689</td>\n",
       "      <td>0</td>\n",
       "      <td>0</td>\n",
       "      <td>689</td>\n",
       "      <td>0</td>\n",
       "      <td>63238.0</td>\n",
       "      <td>2023-03-20</td>\n",
       "    </tr>\n",
       "    <tr>\n",
       "      <th>1193</th>\n",
       "      <td>6367</td>\n",
       "      <td>5965162</td>\n",
       "      <td>서울</td>\n",
       "      <td>Seoul</td>\n",
       "      <td>2842</td>\n",
       "      <td>0</td>\n",
       "      <td>0</td>\n",
       "      <td>2840</td>\n",
       "      <td>2</td>\n",
       "      <td>63268.0</td>\n",
       "      <td>2023-03-21</td>\n",
       "    </tr>\n",
       "    <tr>\n",
       "      <th>1194</th>\n",
       "      <td>6369</td>\n",
       "      <td>5967885</td>\n",
       "      <td>서울</td>\n",
       "      <td>Seoul</td>\n",
       "      <td>2723</td>\n",
       "      <td>0</td>\n",
       "      <td>0</td>\n",
       "      <td>2723</td>\n",
       "      <td>0</td>\n",
       "      <td>63297.0</td>\n",
       "      <td>2023-03-22</td>\n",
       "    </tr>\n",
       "  </tbody>\n",
       "</table>\n",
       "</div>"
      ],
      "text/plain": [
       "      deathCnt   defCnt gubun gubunEn  incDec  isolClearCnt  isolIngCnt  \\\n",
       "1185      6363  5953904    서울   Seoul    2312             0           0   \n",
       "1186      6364  5955883    서울   Seoul    1979             0           0   \n",
       "1187      6364  5957871    서울   Seoul    1988             0           0   \n",
       "1188      6365  5959761    서울   Seoul    1927             0           0   \n",
       "1189         0  5961631    서울   Seoul    1870             0           0   \n",
       "1190      6366  5961631    서울   Seoul    1870             0           0   \n",
       "1191      6366  5962320    서울   Seoul     689             0           0   \n",
       "1192      6366  5962320    서울   Seoul     689             0           0   \n",
       "1193      6367  5965162    서울   Seoul    2842             0           0   \n",
       "1194      6369  5967885    서울   Seoul    2723             0           0   \n",
       "\n",
       "      localOccCnt  overFlowCnt  qurRate      stdDay  \n",
       "1185         2306            6  63149.0  2023-03-15  \n",
       "1186         1979            0  63170.0  2023-03-16  \n",
       "1187         1987            1  63191.0  2023-03-17  \n",
       "1188         1927            0  63211.0  2023-03-18  \n",
       "1189         1870            0  63231.0  2023-03-19  \n",
       "1190         1870            0  63231.0  2023-03-20  \n",
       "1191          689            0  63238.0  2023-03-20  \n",
       "1192          689            0  63238.0  2023-03-20  \n",
       "1193         2840            2  63268.0  2023-03-21  \n",
       "1194         2723            0  63297.0  2023-03-22  "
      ]
     },
     "execution_count": 13,
     "metadata": {},
     "output_type": "execute_result"
    }
   ],
   "source": [
    "df.iloc[1185:1195]"
   ]
  },
  {
   "cell_type": "code",
   "execution_count": 14,
   "id": "099ce680",
   "metadata": {
    "ExecuteTime": {
     "end_time": "2023-04-27T06:05:15.376589Z",
     "start_time": "2023-04-27T06:05:15.344713Z"
    },
    "scrolled": true
   },
   "outputs": [
    {
     "data": {
      "text/html": [
       "<div>\n",
       "<style scoped>\n",
       "    .dataframe tbody tr th:only-of-type {\n",
       "        vertical-align: middle;\n",
       "    }\n",
       "\n",
       "    .dataframe tbody tr th {\n",
       "        vertical-align: top;\n",
       "    }\n",
       "\n",
       "    .dataframe thead th {\n",
       "        text-align: right;\n",
       "    }\n",
       "</style>\n",
       "<table border=\"1\" class=\"dataframe\">\n",
       "  <thead>\n",
       "    <tr style=\"text-align: right;\">\n",
       "      <th></th>\n",
       "      <th>deathCnt</th>\n",
       "      <th>defCnt</th>\n",
       "      <th>gubun</th>\n",
       "      <th>gubunEn</th>\n",
       "      <th>incDec</th>\n",
       "      <th>isolClearCnt</th>\n",
       "      <th>isolIngCnt</th>\n",
       "      <th>localOccCnt</th>\n",
       "      <th>overFlowCnt</th>\n",
       "      <th>qurRate</th>\n",
       "      <th>stdDay</th>\n",
       "    </tr>\n",
       "  </thead>\n",
       "  <tbody>\n",
       "    <tr>\n",
       "      <th>0</th>\n",
       "      <td>0</td>\n",
       "      <td>0</td>\n",
       "      <td>서울</td>\n",
       "      <td>Seoul</td>\n",
       "      <td>0</td>\n",
       "      <td>0</td>\n",
       "      <td>0</td>\n",
       "      <td>0</td>\n",
       "      <td>0</td>\n",
       "      <td>0.0</td>\n",
       "      <td>2020-01-20</td>\n",
       "    </tr>\n",
       "    <tr>\n",
       "      <th>1</th>\n",
       "      <td>0</td>\n",
       "      <td>0</td>\n",
       "      <td>서울</td>\n",
       "      <td>Seoul</td>\n",
       "      <td>0</td>\n",
       "      <td>0</td>\n",
       "      <td>0</td>\n",
       "      <td>0</td>\n",
       "      <td>0</td>\n",
       "      <td>0.0</td>\n",
       "      <td>2020-01-21</td>\n",
       "    </tr>\n",
       "    <tr>\n",
       "      <th>2</th>\n",
       "      <td>0</td>\n",
       "      <td>0</td>\n",
       "      <td>서울</td>\n",
       "      <td>Seoul</td>\n",
       "      <td>0</td>\n",
       "      <td>0</td>\n",
       "      <td>0</td>\n",
       "      <td>0</td>\n",
       "      <td>0</td>\n",
       "      <td>0.0</td>\n",
       "      <td>2020-01-22</td>\n",
       "    </tr>\n",
       "    <tr>\n",
       "      <th>3</th>\n",
       "      <td>0</td>\n",
       "      <td>0</td>\n",
       "      <td>서울</td>\n",
       "      <td>Seoul</td>\n",
       "      <td>0</td>\n",
       "      <td>0</td>\n",
       "      <td>0</td>\n",
       "      <td>0</td>\n",
       "      <td>0</td>\n",
       "      <td>0.0</td>\n",
       "      <td>2020-01-23</td>\n",
       "    </tr>\n",
       "    <tr>\n",
       "      <th>4</th>\n",
       "      <td>0</td>\n",
       "      <td>1</td>\n",
       "      <td>서울</td>\n",
       "      <td>Seoul</td>\n",
       "      <td>1</td>\n",
       "      <td>0</td>\n",
       "      <td>1</td>\n",
       "      <td>0</td>\n",
       "      <td>1</td>\n",
       "      <td>0.0</td>\n",
       "      <td>2020-01-24</td>\n",
       "    </tr>\n",
       "    <tr>\n",
       "      <th>5</th>\n",
       "      <td>0</td>\n",
       "      <td>1</td>\n",
       "      <td>서울</td>\n",
       "      <td>Seoul</td>\n",
       "      <td>0</td>\n",
       "      <td>0</td>\n",
       "      <td>1</td>\n",
       "      <td>0</td>\n",
       "      <td>0</td>\n",
       "      <td>0.0</td>\n",
       "      <td>2020-01-25</td>\n",
       "    </tr>\n",
       "    <tr>\n",
       "      <th>6</th>\n",
       "      <td>0</td>\n",
       "      <td>1</td>\n",
       "      <td>서울</td>\n",
       "      <td>Seoul</td>\n",
       "      <td>0</td>\n",
       "      <td>0</td>\n",
       "      <td>1</td>\n",
       "      <td>0</td>\n",
       "      <td>0</td>\n",
       "      <td>0.0</td>\n",
       "      <td>2020-01-26</td>\n",
       "    </tr>\n",
       "    <tr>\n",
       "      <th>7</th>\n",
       "      <td>0</td>\n",
       "      <td>1</td>\n",
       "      <td>서울</td>\n",
       "      <td>Seoul</td>\n",
       "      <td>0</td>\n",
       "      <td>0</td>\n",
       "      <td>1</td>\n",
       "      <td>0</td>\n",
       "      <td>0</td>\n",
       "      <td>0.0</td>\n",
       "      <td>2020-01-27</td>\n",
       "    </tr>\n",
       "    <tr>\n",
       "      <th>8</th>\n",
       "      <td>0</td>\n",
       "      <td>1</td>\n",
       "      <td>서울</td>\n",
       "      <td>Seoul</td>\n",
       "      <td>0</td>\n",
       "      <td>0</td>\n",
       "      <td>1</td>\n",
       "      <td>0</td>\n",
       "      <td>0</td>\n",
       "      <td>0.0</td>\n",
       "      <td>2020-01-28</td>\n",
       "    </tr>\n",
       "    <tr>\n",
       "      <th>9</th>\n",
       "      <td>0</td>\n",
       "      <td>1</td>\n",
       "      <td>서울</td>\n",
       "      <td>Seoul</td>\n",
       "      <td>0</td>\n",
       "      <td>0</td>\n",
       "      <td>1</td>\n",
       "      <td>0</td>\n",
       "      <td>0</td>\n",
       "      <td>0.0</td>\n",
       "      <td>2020-01-29</td>\n",
       "    </tr>\n",
       "  </tbody>\n",
       "</table>\n",
       "</div>"
      ],
      "text/plain": [
       "   deathCnt  defCnt gubun gubunEn  incDec  isolClearCnt  isolIngCnt  \\\n",
       "0         0       0    서울   Seoul       0             0           0   \n",
       "1         0       0    서울   Seoul       0             0           0   \n",
       "2         0       0    서울   Seoul       0             0           0   \n",
       "3         0       0    서울   Seoul       0             0           0   \n",
       "4         0       1    서울   Seoul       1             0           1   \n",
       "5         0       1    서울   Seoul       0             0           1   \n",
       "6         0       1    서울   Seoul       0             0           1   \n",
       "7         0       1    서울   Seoul       0             0           1   \n",
       "8         0       1    서울   Seoul       0             0           1   \n",
       "9         0       1    서울   Seoul       0             0           1   \n",
       "\n",
       "   localOccCnt  overFlowCnt  qurRate      stdDay  \n",
       "0            0            0      0.0  2020-01-20  \n",
       "1            0            0      0.0  2020-01-21  \n",
       "2            0            0      0.0  2020-01-22  \n",
       "3            0            0      0.0  2020-01-23  \n",
       "4            0            1      0.0  2020-01-24  \n",
       "5            0            0      0.0  2020-01-25  \n",
       "6            0            0      0.0  2020-01-26  \n",
       "7            0            0      0.0  2020-01-27  \n",
       "8            0            0      0.0  2020-01-28  \n",
       "9            0            0      0.0  2020-01-29  "
      ]
     },
     "execution_count": 14,
     "metadata": {},
     "output_type": "execute_result"
    }
   ],
   "source": [
    "del_index = [350, 654, 751, 752, 785, 798, 802, 807, 836, 1038, 1066, 1107, 1174, 1190]\n",
    "df_final = df2.drop(index = del_index)\n",
    "df_final.reset_index(drop = True, inplace = True)\n",
    "df_final.head(10)"
   ]
  },
  {
   "cell_type": "markdown",
   "id": "370bab88",
   "metadata": {},
   "source": [
    "## 최종 확인"
   ]
  },
  {
   "cell_type": "markdown",
   "id": "03efb2db",
   "metadata": {},
   "source": [
    "### 누적 확진자 수가 감소하는지 확인"
   ]
  },
  {
   "cell_type": "code",
   "execution_count": 30,
   "id": "f357eb3c",
   "metadata": {
    "ExecuteTime": {
     "end_time": "2023-04-27T06:08:18.934830Z",
     "start_time": "2023-04-27T06:08:18.911894Z"
    }
   },
   "outputs": [
    {
     "data": {
      "text/html": [
       "<div>\n",
       "<style scoped>\n",
       "    .dataframe tbody tr th:only-of-type {\n",
       "        vertical-align: middle;\n",
       "    }\n",
       "\n",
       "    .dataframe tbody tr th {\n",
       "        vertical-align: top;\n",
       "    }\n",
       "\n",
       "    .dataframe thead th {\n",
       "        text-align: right;\n",
       "    }\n",
       "</style>\n",
       "<table border=\"1\" class=\"dataframe\">\n",
       "  <thead>\n",
       "    <tr style=\"text-align: right;\">\n",
       "      <th></th>\n",
       "      <th>deathCnt</th>\n",
       "      <th>defCnt</th>\n",
       "      <th>gubun</th>\n",
       "      <th>gubunEn</th>\n",
       "      <th>incDec</th>\n",
       "      <th>isolClearCnt</th>\n",
       "      <th>isolIngCnt</th>\n",
       "      <th>localOccCnt</th>\n",
       "      <th>overFlowCnt</th>\n",
       "      <th>qurRate</th>\n",
       "      <th>stdDay</th>\n",
       "    </tr>\n",
       "  </thead>\n",
       "  <tbody>\n",
       "  </tbody>\n",
       "</table>\n",
       "</div>"
      ],
      "text/plain": [
       "Empty DataFrame\n",
       "Columns: [deathCnt, defCnt, gubun, gubunEn, incDec, isolClearCnt, isolIngCnt, localOccCnt, overFlowCnt, qurRate, stdDay]\n",
       "Index: []"
      ]
     },
     "execution_count": 30,
     "metadata": {},
     "output_type": "execute_result"
    }
   ],
   "source": [
    "df_final[df_final['defCnt'].diff() < 0]"
   ]
  },
  {
   "cell_type": "code",
   "execution_count": 24,
   "id": "379c0222",
   "metadata": {
    "ExecuteTime": {
     "end_time": "2023-04-27T06:07:18.443210Z",
     "start_time": "2023-04-27T06:07:18.305230Z"
    }
   },
   "outputs": [
    {
     "data": {
      "text/plain": [
       "[<matplotlib.lines.Line2D at 0x235add5e710>]"
      ]
     },
     "execution_count": 24,
     "metadata": {},
     "output_type": "execute_result"
    },
    {
     "data": {
      "image/png": "[encoded data removed]",
      "text/plain": [
       "<Figure size 640x480 with 1 Axes>"
      ]
     },
     "metadata": {},
     "output_type": "display_data"
    }
   ],
   "source": [
    "plt.plot(df_final['defCnt'])"
   ]
  },
  {
   "cell_type": "code",
   "execution_count": 31,
   "id": "042055c7",
   "metadata": {
    "ExecuteTime": {
     "end_time": "2023-04-27T06:08:20.786990Z",
     "start_time": "2023-04-27T06:08:20.763054Z"
    }
   },
   "outputs": [
    {
     "data": {
      "text/html": [
       "<div>\n",
       "<style scoped>\n",
       "    .dataframe tbody tr th:only-of-type {\n",
       "        vertical-align: middle;\n",
       "    }\n",
       "\n",
       "    .dataframe tbody tr th {\n",
       "        vertical-align: top;\n",
       "    }\n",
       "\n",
       "    .dataframe thead th {\n",
       "        text-align: right;\n",
       "    }\n",
       "</style>\n",
       "<table border=\"1\" class=\"dataframe\">\n",
       "  <thead>\n",
       "    <tr style=\"text-align: right;\">\n",
       "      <th></th>\n",
       "      <th>deathCnt</th>\n",
       "      <th>defCnt</th>\n",
       "      <th>gubun</th>\n",
       "      <th>gubunEn</th>\n",
       "      <th>incDec</th>\n",
       "      <th>isolClearCnt</th>\n",
       "      <th>isolIngCnt</th>\n",
       "      <th>localOccCnt</th>\n",
       "      <th>overFlowCnt</th>\n",
       "      <th>qurRate</th>\n",
       "      <th>stdDay</th>\n",
       "    </tr>\n",
       "  </thead>\n",
       "  <tbody>\n",
       "    <tr>\n",
       "      <th>626</th>\n",
       "      <td>669</td>\n",
       "      <td>105549</td>\n",
       "      <td>서울</td>\n",
       "      <td>Seoul</td>\n",
       "      <td>834</td>\n",
       "      <td>90316</td>\n",
       "      <td>14584</td>\n",
       "      <td>830</td>\n",
       "      <td>4</td>\n",
       "      <td>32.4</td>\n",
       "      <td>2021-10-07</td>\n",
       "    </tr>\n",
       "    <tr>\n",
       "      <th>733</th>\n",
       "      <td>2135</td>\n",
       "      <td>249065</td>\n",
       "      <td>서울</td>\n",
       "      <td>Seoul</td>\n",
       "      <td>1591</td>\n",
       "      <td>202559</td>\n",
       "      <td>0</td>\n",
       "      <td>1535</td>\n",
       "      <td>56</td>\n",
       "      <td>2576.0</td>\n",
       "      <td>2022-01-22</td>\n",
       "    </tr>\n",
       "    <tr>\n",
       "      <th>836</th>\n",
       "      <td>4643</td>\n",
       "      <td>3512421</td>\n",
       "      <td>서울</td>\n",
       "      <td>Seoul</td>\n",
       "      <td>6645</td>\n",
       "      <td>0</td>\n",
       "      <td>0</td>\n",
       "      <td>6645</td>\n",
       "      <td>0</td>\n",
       "      <td>36329.0</td>\n",
       "      <td>2022-05-05</td>\n",
       "    </tr>\n",
       "    <tr>\n",
       "      <th>838</th>\n",
       "      <td>4676</td>\n",
       "      <td>3522657</td>\n",
       "      <td>서울</td>\n",
       "      <td>Seoul</td>\n",
       "      <td>6641</td>\n",
       "      <td>0</td>\n",
       "      <td>0</td>\n",
       "      <td>6639</td>\n",
       "      <td>2</td>\n",
       "      <td>36435.0</td>\n",
       "      <td>2022-05-07</td>\n",
       "    </tr>\n",
       "    <tr>\n",
       "      <th>880</th>\n",
       "      <td>4864</td>\n",
       "      <td>3646432</td>\n",
       "      <td>서울</td>\n",
       "      <td>Seoul</td>\n",
       "      <td>1245</td>\n",
       "      <td>0</td>\n",
       "      <td>0</td>\n",
       "      <td>1245</td>\n",
       "      <td>0</td>\n",
       "      <td>37715.0</td>\n",
       "      <td>2022-06-18</td>\n",
       "    </tr>\n",
       "    <tr>\n",
       "      <th>908</th>\n",
       "      <td>4916</td>\n",
       "      <td>3752951</td>\n",
       "      <td>서울</td>\n",
       "      <td>Seoul</td>\n",
       "      <td>9457</td>\n",
       "      <td>0</td>\n",
       "      <td>0</td>\n",
       "      <td>9449</td>\n",
       "      <td>8</td>\n",
       "      <td>38816.0</td>\n",
       "      <td>2022-07-16</td>\n",
       "    </tr>\n",
       "    <tr>\n",
       "      <th>950</th>\n",
       "      <td>5191</td>\n",
       "      <td>4505836</td>\n",
       "      <td>서울</td>\n",
       "      <td>Seoul</td>\n",
       "      <td>14599</td>\n",
       "      <td>0</td>\n",
       "      <td>0</td>\n",
       "      <td>14578</td>\n",
       "      <td>21</td>\n",
       "      <td>46603.0</td>\n",
       "      <td>2022-08-27</td>\n",
       "    </tr>\n",
       "    <tr>\n",
       "      <th>965</th>\n",
       "      <td>5352</td>\n",
       "      <td>4690417</td>\n",
       "      <td>서울</td>\n",
       "      <td>Seoul</td>\n",
       "      <td>4807</td>\n",
       "      <td>0</td>\n",
       "      <td>0</td>\n",
       "      <td>4800</td>\n",
       "      <td>7</td>\n",
       "      <td>48513.0</td>\n",
       "      <td>2022-09-11</td>\n",
       "    </tr>\n",
       "    <tr>\n",
       "      <th>1098</th>\n",
       "      <td>6225</td>\n",
       "      <td>5834396</td>\n",
       "      <td>서울</td>\n",
       "      <td>Seoul</td>\n",
       "      <td>2315</td>\n",
       "      <td>0</td>\n",
       "      <td>0</td>\n",
       "      <td>2297</td>\n",
       "      <td>18</td>\n",
       "      <td>61354.0</td>\n",
       "      <td>2023-01-22</td>\n",
       "    </tr>\n",
       "  </tbody>\n",
       "</table>\n",
       "</div>"
      ],
      "text/plain": [
       "      deathCnt   defCnt gubun gubunEn  incDec  isolClearCnt  isolIngCnt  \\\n",
       "626        669   105549    서울   Seoul     834         90316       14584   \n",
       "733       2135   249065    서울   Seoul    1591        202559           0   \n",
       "836       4643  3512421    서울   Seoul    6645             0           0   \n",
       "838       4676  3522657    서울   Seoul    6641             0           0   \n",
       "880       4864  3646432    서울   Seoul    1245             0           0   \n",
       "908       4916  3752951    서울   Seoul    9457             0           0   \n",
       "950       5191  4505836    서울   Seoul   14599             0           0   \n",
       "965       5352  4690417    서울   Seoul    4807             0           0   \n",
       "1098      6225  5834396    서울   Seoul    2315             0           0   \n",
       "\n",
       "      localOccCnt  overFlowCnt  qurRate      stdDay  \n",
       "626           830            4     32.4  2021-10-07  \n",
       "733          1535           56   2576.0  2022-01-22  \n",
       "836          6645            0  36329.0  2022-05-05  \n",
       "838          6639            2  36435.0  2022-05-07  \n",
       "880          1245            0  37715.0  2022-06-18  \n",
       "908          9449            8  38816.0  2022-07-16  \n",
       "950         14578           21  46603.0  2022-08-27  \n",
       "965          4800            7  48513.0  2022-09-11  \n",
       "1098         2297           18  61354.0  2023-01-22  "
      ]
     },
     "execution_count": 31,
     "metadata": {},
     "output_type": "execute_result"
    }
   ],
   "source": [
    "df_final[df_final['qurRate'].diff() < 0]"
   ]
  },
  {
   "cell_type": "markdown",
   "id": "f1b5087e",
   "metadata": {},
   "source": [
    "## 수정 후 데이터 저장"
   ]
  },
  {
   "cell_type": "code",
   "execution_count": 18,
   "id": "c0638956",
   "metadata": {
    "ExecuteTime": {
     "end_time": "2023-04-18T12:51:28.484123Z",
     "start_time": "2023-04-18T12:51:28.464842Z"
    }
   },
   "outputs": [],
   "source": [
    "cleaned_df = df.copy()\n",
    "cleaned_df.to_csv(f'Data/CleanedData/{city}_Cleaned.csv')"
   ]
  },
  {
   "cell_type": "code",
   "execution_count": 17,
   "id": "6f1174c6",
   "metadata": {
    "ExecuteTime": {
     "end_time": "2023-04-18T12:51:26.559779Z",
     "start_time": "2023-04-18T12:51:26.552797Z"
    }
   },
   "outputs": [],
   "source": [
    "df = df_final"
   ]
  },
  {
   "cell_type": "markdown",
   "id": "85a73ece",
   "metadata": {},
   "source": [
    "# 부산"
   ]
  },
  {
   "cell_type": "code",
   "execution_count": 32,
   "id": "e4f56ae5",
   "metadata": {
    "ExecuteTime": {
     "end_time": "2023-04-27T06:10:43.928198Z",
     "start_time": "2023-04-27T06:10:43.894824Z"
    }
   },
   "outputs": [
    {
     "data": {
      "text/html": [
       "<div>\n",
       "<style scoped>\n",
       "    .dataframe tbody tr th:only-of-type {\n",
       "        vertical-align: middle;\n",
       "    }\n",
       "\n",
       "    .dataframe tbody tr th {\n",
       "        vertical-align: top;\n",
       "    }\n",
       "\n",
       "    .dataframe thead th {\n",
       "        text-align: right;\n",
       "    }\n",
       "</style>\n",
       "<table border=\"1\" class=\"dataframe\">\n",
       "  <thead>\n",
       "    <tr style=\"text-align: right;\">\n",
       "      <th></th>\n",
       "      <th>deathCnt</th>\n",
       "      <th>defCnt</th>\n",
       "      <th>gubun</th>\n",
       "      <th>gubunEn</th>\n",
       "      <th>incDec</th>\n",
       "      <th>isolClearCnt</th>\n",
       "      <th>isolIngCnt</th>\n",
       "      <th>localOccCnt</th>\n",
       "      <th>overFlowCnt</th>\n",
       "      <th>qurRate</th>\n",
       "      <th>stdDay</th>\n",
       "    </tr>\n",
       "  </thead>\n",
       "  <tbody>\n",
       "    <tr>\n",
       "      <th>0</th>\n",
       "      <td>0</td>\n",
       "      <td>0</td>\n",
       "      <td>부산</td>\n",
       "      <td>Busan</td>\n",
       "      <td>0</td>\n",
       "      <td>0</td>\n",
       "      <td>0</td>\n",
       "      <td>0</td>\n",
       "      <td>0</td>\n",
       "      <td>0.0</td>\n",
       "      <td>2020-01-20</td>\n",
       "    </tr>\n",
       "    <tr>\n",
       "      <th>1</th>\n",
       "      <td>0</td>\n",
       "      <td>0</td>\n",
       "      <td>부산</td>\n",
       "      <td>Busan</td>\n",
       "      <td>0</td>\n",
       "      <td>0</td>\n",
       "      <td>0</td>\n",
       "      <td>0</td>\n",
       "      <td>0</td>\n",
       "      <td>0.0</td>\n",
       "      <td>2020-01-21</td>\n",
       "    </tr>\n",
       "    <tr>\n",
       "      <th>2</th>\n",
       "      <td>0</td>\n",
       "      <td>0</td>\n",
       "      <td>부산</td>\n",
       "      <td>Busan</td>\n",
       "      <td>0</td>\n",
       "      <td>0</td>\n",
       "      <td>0</td>\n",
       "      <td>0</td>\n",
       "      <td>0</td>\n",
       "      <td>0.0</td>\n",
       "      <td>2020-01-22</td>\n",
       "    </tr>\n",
       "    <tr>\n",
       "      <th>3</th>\n",
       "      <td>0</td>\n",
       "      <td>0</td>\n",
       "      <td>부산</td>\n",
       "      <td>Busan</td>\n",
       "      <td>0</td>\n",
       "      <td>0</td>\n",
       "      <td>0</td>\n",
       "      <td>0</td>\n",
       "      <td>0</td>\n",
       "      <td>0.0</td>\n",
       "      <td>2020-01-23</td>\n",
       "    </tr>\n",
       "    <tr>\n",
       "      <th>4</th>\n",
       "      <td>0</td>\n",
       "      <td>0</td>\n",
       "      <td>부산</td>\n",
       "      <td>Busan</td>\n",
       "      <td>0</td>\n",
       "      <td>0</td>\n",
       "      <td>0</td>\n",
       "      <td>0</td>\n",
       "      <td>0</td>\n",
       "      <td>0.0</td>\n",
       "      <td>2020-01-24</td>\n",
       "    </tr>\n",
       "  </tbody>\n",
       "</table>\n",
       "</div>"
      ],
      "text/plain": [
       "   deathCnt  defCnt gubun gubunEn  incDec  isolClearCnt  isolIngCnt  \\\n",
       "0         0       0    부산   Busan       0             0           0   \n",
       "1         0       0    부산   Busan       0             0           0   \n",
       "2         0       0    부산   Busan       0             0           0   \n",
       "3         0       0    부산   Busan       0             0           0   \n",
       "4         0       0    부산   Busan       0             0           0   \n",
       "\n",
       "   localOccCnt  overFlowCnt  qurRate      stdDay  \n",
       "0            0            0      0.0  2020-01-20  \n",
       "1            0            0      0.0  2020-01-21  \n",
       "2            0            0      0.0  2020-01-22  \n",
       "3            0            0      0.0  2020-01-23  \n",
       "4            0            0      0.0  2020-01-24  "
      ]
     },
     "execution_count": 32,
     "metadata": {},
     "output_type": "execute_result"
    }
   ],
   "source": [
    "city = '부산'\n",
    "# '서울', '부산', '대구', '인천', '광주', '대전', '울산', '세종', '경기', \n",
    "# '강원', '충북', '충남', '전북', '전남', '경북', '경남', '제주'\n",
    "\n",
    "\n",
    "df = pd.read_csv(f'Data/Rawdata/{city}_Raw.csv', encoding = 'cp949')\n",
    "df.head()"
   ]
  },
  {
   "cell_type": "markdown",
   "id": "ea2f1248",
   "metadata": {},
   "source": [
    "## 결측치 확인"
   ]
  },
  {
   "cell_type": "code",
   "execution_count": 33,
   "id": "a344b564",
   "metadata": {
    "ExecuteTime": {
     "end_time": "2023-04-27T06:10:57.681176Z",
     "start_time": "2023-04-27T06:10:57.667239Z"
    }
   },
   "outputs": [
    {
     "data": {
      "text/plain": [
       "deathCnt        0\n",
       "defCnt          0\n",
       "gubun           0\n",
       "gubunEn         0\n",
       "incDec          0\n",
       "isolClearCnt    0\n",
       "isolIngCnt      0\n",
       "localOccCnt     0\n",
       "overFlowCnt     0\n",
       "qurRate         0\n",
       "stdDay          0\n",
       "dtype: int64"
      ]
     },
     "execution_count": 33,
     "metadata": {},
     "output_type": "execute_result"
    }
   ],
   "source": [
    "df.isnull().sum()"
   ]
  },
  {
   "cell_type": "markdown",
   "id": "15342be4",
   "metadata": {},
   "source": [
    "## 이상치 확인"
   ]
  },
  {
   "cell_type": "code",
   "execution_count": 34,
   "id": "cf115112",
   "metadata": {
    "ExecuteTime": {
     "end_time": "2023-04-27T06:11:07.166741Z",
     "start_time": "2023-04-27T06:11:07.018139Z"
    }
   },
   "outputs": [
    {
     "data": {
      "text/plain": [
       "[<matplotlib.lines.Line2D at 0x235ae10fa30>]"
      ]
     },
     "execution_count": 34,
     "metadata": {},
     "output_type": "execute_result"
    },
    {
     "data": {
      "image/png": "[encoded data removed]",
      "text/plain": [
       "<Figure size 640x480 with 1 Axes>"
      ]
     },
     "metadata": {},
     "output_type": "display_data"
    }
   ],
   "source": [
    "plt.plot(df['defCnt'])"
   ]
  },
  {
   "cell_type": "code",
   "execution_count": 35,
   "id": "5ae92b4d",
   "metadata": {
    "ExecuteTime": {
     "end_time": "2023-04-27T06:11:23.083023Z",
     "start_time": "2023-04-27T06:11:23.076046Z"
    }
   },
   "outputs": [],
   "source": [
    "## stdDay가 같은 데이터 추출"
   ]
  },
  {
   "cell_type": "code",
   "execution_count": 36,
   "id": "580aaf3d",
   "metadata": {
    "ExecuteTime": {
     "end_time": "2023-04-27T06:11:26.898169Z",
     "start_time": "2023-04-27T06:11:26.874234Z"
    }
   },
   "outputs": [
    {
     "data": {
      "text/html": [
       "<div>\n",
       "<style scoped>\n",
       "    .dataframe tbody tr th:only-of-type {\n",
       "        vertical-align: middle;\n",
       "    }\n",
       "\n",
       "    .dataframe tbody tr th {\n",
       "        vertical-align: top;\n",
       "    }\n",
       "\n",
       "    .dataframe thead th {\n",
       "        text-align: right;\n",
       "    }\n",
       "</style>\n",
       "<table border=\"1\" class=\"dataframe\">\n",
       "  <thead>\n",
       "    <tr style=\"text-align: right;\">\n",
       "      <th></th>\n",
       "      <th>deathCnt</th>\n",
       "      <th>defCnt</th>\n",
       "      <th>gubun</th>\n",
       "      <th>gubunEn</th>\n",
       "      <th>incDec</th>\n",
       "      <th>isolClearCnt</th>\n",
       "      <th>isolIngCnt</th>\n",
       "      <th>localOccCnt</th>\n",
       "      <th>overFlowCnt</th>\n",
       "      <th>qurRate</th>\n",
       "      <th>stdDay</th>\n",
       "    </tr>\n",
       "  </thead>\n",
       "  <tbody>\n",
       "    <tr>\n",
       "      <th>350</th>\n",
       "      <td>58</td>\n",
       "      <td>2006</td>\n",
       "      <td>부산</td>\n",
       "      <td>Busan</td>\n",
       "      <td>37</td>\n",
       "      <td>1446</td>\n",
       "      <td>502</td>\n",
       "      <td>34</td>\n",
       "      <td>3</td>\n",
       "      <td>58.80</td>\n",
       "      <td>2021-01-04</td>\n",
       "    </tr>\n",
       "    <tr>\n",
       "      <th>351</th>\n",
       "      <td>58</td>\n",
       "      <td>2007</td>\n",
       "      <td>부산</td>\n",
       "      <td>Busan</td>\n",
       "      <td>37</td>\n",
       "      <td>1447</td>\n",
       "      <td>502</td>\n",
       "      <td>34</td>\n",
       "      <td>3</td>\n",
       "      <td>58.82</td>\n",
       "      <td>2021-01-04</td>\n",
       "    </tr>\n",
       "    <tr>\n",
       "      <th>654</th>\n",
       "      <td>165</td>\n",
       "      <td>14074</td>\n",
       "      <td>부산</td>\n",
       "      <td>Busan</td>\n",
       "      <td>80</td>\n",
       "      <td>13413</td>\n",
       "      <td>496</td>\n",
       "      <td>77</td>\n",
       "      <td>3</td>\n",
       "      <td>415.00</td>\n",
       "      <td>2021-11-03</td>\n",
       "    </tr>\n",
       "    <tr>\n",
       "      <th>655</th>\n",
       "      <td>164</td>\n",
       "      <td>14074</td>\n",
       "      <td>부산</td>\n",
       "      <td>Busan</td>\n",
       "      <td>80</td>\n",
       "      <td>13375</td>\n",
       "      <td>455</td>\n",
       "      <td>77</td>\n",
       "      <td>3</td>\n",
       "      <td>415.00</td>\n",
       "      <td>2021-11-03</td>\n",
       "    </tr>\n",
       "    <tr>\n",
       "      <th>751</th>\n",
       "      <td>364</td>\n",
       "      <td>45718</td>\n",
       "      <td>부산</td>\n",
       "      <td>Busan</td>\n",
       "      <td>1927</td>\n",
       "      <td>45718</td>\n",
       "      <td>0</td>\n",
       "      <td>1916</td>\n",
       "      <td>11</td>\n",
       "      <td>1365.00</td>\n",
       "      <td>2022-02-07</td>\n",
       "    </tr>\n",
       "    <tr>\n",
       "      <th>752</th>\n",
       "      <td>364</td>\n",
       "      <td>43791</td>\n",
       "      <td>부산</td>\n",
       "      <td>Busan</td>\n",
       "      <td>1927</td>\n",
       "      <td>45718</td>\n",
       "      <td>0</td>\n",
       "      <td>1916</td>\n",
       "      <td>11</td>\n",
       "      <td>1307.00</td>\n",
       "      <td>2022-02-07</td>\n",
       "    </tr>\n",
       "    <tr>\n",
       "      <th>753</th>\n",
       "      <td>364</td>\n",
       "      <td>45718</td>\n",
       "      <td>부산</td>\n",
       "      <td>Busan</td>\n",
       "      <td>1927</td>\n",
       "      <td>31126</td>\n",
       "      <td>0</td>\n",
       "      <td>1916</td>\n",
       "      <td>11</td>\n",
       "      <td>1365.00</td>\n",
       "      <td>2022-02-07</td>\n",
       "    </tr>\n",
       "    <tr>\n",
       "      <th>785</th>\n",
       "      <td>691</td>\n",
       "      <td>436820</td>\n",
       "      <td>부산</td>\n",
       "      <td>Busan</td>\n",
       "      <td>22920</td>\n",
       "      <td>68841</td>\n",
       "      <td>0</td>\n",
       "      <td>22917</td>\n",
       "      <td>3</td>\n",
       "      <td>13038.00</td>\n",
       "      <td>2022-03-11</td>\n",
       "    </tr>\n",
       "    <tr>\n",
       "      <th>786</th>\n",
       "      <td>651</td>\n",
       "      <td>436820</td>\n",
       "      <td>부산</td>\n",
       "      <td>Busan</td>\n",
       "      <td>22920</td>\n",
       "      <td>68472</td>\n",
       "      <td>0</td>\n",
       "      <td>22917</td>\n",
       "      <td>3</td>\n",
       "      <td>13038.00</td>\n",
       "      <td>2022-03-11</td>\n",
       "    </tr>\n",
       "    <tr>\n",
       "      <th>797</th>\n",
       "      <td>1158</td>\n",
       "      <td>742457</td>\n",
       "      <td>부산</td>\n",
       "      <td>Busan</td>\n",
       "      <td>24707</td>\n",
       "      <td>282459</td>\n",
       "      <td>0</td>\n",
       "      <td>24707</td>\n",
       "      <td>0</td>\n",
       "      <td>22160.00</td>\n",
       "      <td>2022-03-22</td>\n",
       "    </tr>\n",
       "  </tbody>\n",
       "</table>\n",
       "</div>"
      ],
      "text/plain": [
       "     deathCnt  defCnt gubun gubunEn  incDec  isolClearCnt  isolIngCnt  \\\n",
       "350        58    2006    부산   Busan      37          1446         502   \n",
       "351        58    2007    부산   Busan      37          1447         502   \n",
       "654       165   14074    부산   Busan      80         13413         496   \n",
       "655       164   14074    부산   Busan      80         13375         455   \n",
       "751       364   45718    부산   Busan    1927         45718           0   \n",
       "752       364   43791    부산   Busan    1927         45718           0   \n",
       "753       364   45718    부산   Busan    1927         31126           0   \n",
       "785       691  436820    부산   Busan   22920         68841           0   \n",
       "786       651  436820    부산   Busan   22920         68472           0   \n",
       "797      1158  742457    부산   Busan   24707        282459           0   \n",
       "\n",
       "     localOccCnt  overFlowCnt   qurRate      stdDay  \n",
       "350           34            3     58.80  2021-01-04  \n",
       "351           34            3     58.82  2021-01-04  \n",
       "654           77            3    415.00  2021-11-03  \n",
       "655           77            3    415.00  2021-11-03  \n",
       "751         1916           11   1365.00  2022-02-07  \n",
       "752         1916           11   1307.00  2022-02-07  \n",
       "753         1916           11   1365.00  2022-02-07  \n",
       "785        22917            3  13038.00  2022-03-11  \n",
       "786        22917            3  13038.00  2022-03-11  \n",
       "797        24707            0  22160.00  2022-03-22  "
      ]
     },
     "execution_count": 36,
     "metadata": {},
     "output_type": "execute_result"
    }
   ],
   "source": [
    "df[df.duplicated(['stdDay'], keep = False)].head(10)"
   ]
  },
  {
   "cell_type": "code",
   "execution_count": 37,
   "id": "1eac6fc6",
   "metadata": {
    "ExecuteTime": {
     "end_time": "2023-04-27T06:11:31.974297Z",
     "start_time": "2023-04-27T06:11:31.966321Z"
    }
   },
   "outputs": [],
   "source": [
    "## 완전히 같은 데이터 추출"
   ]
  },
  {
   "cell_type": "code",
   "execution_count": 38,
   "id": "e1fc3bf2",
   "metadata": {
    "ExecuteTime": {
     "end_time": "2023-04-27T06:11:34.341385Z",
     "start_time": "2023-04-27T06:11:34.318448Z"
    }
   },
   "outputs": [
    {
     "name": "stdout",
     "output_type": "stream",
     "text": [
      "모든 행이 동일한 데이터 개수 : 44개\n"
     ]
    },
    {
     "data": {
      "text/html": [
       "<div>\n",
       "<style scoped>\n",
       "    .dataframe tbody tr th:only-of-type {\n",
       "        vertical-align: middle;\n",
       "    }\n",
       "\n",
       "    .dataframe tbody tr th {\n",
       "        vertical-align: top;\n",
       "    }\n",
       "\n",
       "    .dataframe thead th {\n",
       "        text-align: right;\n",
       "    }\n",
       "</style>\n",
       "<table border=\"1\" class=\"dataframe\">\n",
       "  <thead>\n",
       "    <tr style=\"text-align: right;\">\n",
       "      <th></th>\n",
       "      <th>deathCnt</th>\n",
       "      <th>defCnt</th>\n",
       "      <th>gubun</th>\n",
       "      <th>gubunEn</th>\n",
       "      <th>incDec</th>\n",
       "      <th>isolClearCnt</th>\n",
       "      <th>isolIngCnt</th>\n",
       "      <th>localOccCnt</th>\n",
       "      <th>overFlowCnt</th>\n",
       "      <th>qurRate</th>\n",
       "      <th>stdDay</th>\n",
       "    </tr>\n",
       "  </thead>\n",
       "  <tbody>\n",
       "    <tr>\n",
       "      <th>813</th>\n",
       "      <td>1646</td>\n",
       "      <td>926469</td>\n",
       "      <td>부산</td>\n",
       "      <td>Busan</td>\n",
       "      <td>4080</td>\n",
       "      <td>0</td>\n",
       "      <td>0</td>\n",
       "      <td>4080</td>\n",
       "      <td>0</td>\n",
       "      <td>27653.0</td>\n",
       "      <td>2022-04-04</td>\n",
       "    </tr>\n",
       "    <tr>\n",
       "      <th>814</th>\n",
       "      <td>1646</td>\n",
       "      <td>926469</td>\n",
       "      <td>부산</td>\n",
       "      <td>Busan</td>\n",
       "      <td>4080</td>\n",
       "      <td>0</td>\n",
       "      <td>0</td>\n",
       "      <td>4080</td>\n",
       "      <td>0</td>\n",
       "      <td>27653.0</td>\n",
       "      <td>2022-04-04</td>\n",
       "    </tr>\n",
       "    <tr>\n",
       "      <th>862</th>\n",
       "      <td>2118</td>\n",
       "      <td>1084656</td>\n",
       "      <td>부산</td>\n",
       "      <td>Busan</td>\n",
       "      <td>1094</td>\n",
       "      <td>0</td>\n",
       "      <td>0</td>\n",
       "      <td>1094</td>\n",
       "      <td>0</td>\n",
       "      <td>32374.0</td>\n",
       "      <td>2022-05-21</td>\n",
       "    </tr>\n",
       "    <tr>\n",
       "      <th>863</th>\n",
       "      <td>2118</td>\n",
       "      <td>1084656</td>\n",
       "      <td>부산</td>\n",
       "      <td>Busan</td>\n",
       "      <td>1094</td>\n",
       "      <td>0</td>\n",
       "      <td>0</td>\n",
       "      <td>1094</td>\n",
       "      <td>0</td>\n",
       "      <td>32374.0</td>\n",
       "      <td>2022-05-21</td>\n",
       "    </tr>\n",
       "    <tr>\n",
       "      <th>893</th>\n",
       "      <td>2170</td>\n",
       "      <td>1101815</td>\n",
       "      <td>부산</td>\n",
       "      <td>Busan</td>\n",
       "      <td>149</td>\n",
       "      <td>0</td>\n",
       "      <td>0</td>\n",
       "      <td>148</td>\n",
       "      <td>1</td>\n",
       "      <td>32886.0</td>\n",
       "      <td>2022-06-20</td>\n",
       "    </tr>\n",
       "    <tr>\n",
       "      <th>894</th>\n",
       "      <td>2170</td>\n",
       "      <td>1101815</td>\n",
       "      <td>부산</td>\n",
       "      <td>Busan</td>\n",
       "      <td>149</td>\n",
       "      <td>0</td>\n",
       "      <td>0</td>\n",
       "      <td>148</td>\n",
       "      <td>1</td>\n",
       "      <td>32886.0</td>\n",
       "      <td>2022-06-20</td>\n",
       "    </tr>\n",
       "    <tr>\n",
       "      <th>960</th>\n",
       "      <td>2331</td>\n",
       "      <td>1366157</td>\n",
       "      <td>부산</td>\n",
       "      <td>Busan</td>\n",
       "      <td>7164</td>\n",
       "      <td>0</td>\n",
       "      <td>0</td>\n",
       "      <td>7163</td>\n",
       "      <td>1</td>\n",
       "      <td>40776.0</td>\n",
       "      <td>2022-08-25</td>\n",
       "    </tr>\n",
       "    <tr>\n",
       "      <th>961</th>\n",
       "      <td>2331</td>\n",
       "      <td>1366157</td>\n",
       "      <td>부산</td>\n",
       "      <td>Busan</td>\n",
       "      <td>7164</td>\n",
       "      <td>0</td>\n",
       "      <td>0</td>\n",
       "      <td>7163</td>\n",
       "      <td>1</td>\n",
       "      <td>40776.0</td>\n",
       "      <td>2022-08-25</td>\n",
       "    </tr>\n",
       "    <tr>\n",
       "      <th>981</th>\n",
       "      <td>2406</td>\n",
       "      <td>1446689</td>\n",
       "      <td>부산</td>\n",
       "      <td>Busan</td>\n",
       "      <td>4982</td>\n",
       "      <td>0</td>\n",
       "      <td>0</td>\n",
       "      <td>4975</td>\n",
       "      <td>7</td>\n",
       "      <td>43180.0</td>\n",
       "      <td>2022-09-14</td>\n",
       "    </tr>\n",
       "    <tr>\n",
       "      <th>982</th>\n",
       "      <td>2406</td>\n",
       "      <td>1446689</td>\n",
       "      <td>부산</td>\n",
       "      <td>Busan</td>\n",
       "      <td>4982</td>\n",
       "      <td>0</td>\n",
       "      <td>0</td>\n",
       "      <td>4975</td>\n",
       "      <td>7</td>\n",
       "      <td>43180.0</td>\n",
       "      <td>2022-09-14</td>\n",
       "    </tr>\n",
       "  </tbody>\n",
       "</table>\n",
       "</div>"
      ],
      "text/plain": [
       "     deathCnt   defCnt gubun gubunEn  incDec  isolClearCnt  isolIngCnt  \\\n",
       "813      1646   926469    부산   Busan    4080             0           0   \n",
       "814      1646   926469    부산   Busan    4080             0           0   \n",
       "862      2118  1084656    부산   Busan    1094             0           0   \n",
       "863      2118  1084656    부산   Busan    1094             0           0   \n",
       "893      2170  1101815    부산   Busan     149             0           0   \n",
       "894      2170  1101815    부산   Busan     149             0           0   \n",
       "960      2331  1366157    부산   Busan    7164             0           0   \n",
       "961      2331  1366157    부산   Busan    7164             0           0   \n",
       "981      2406  1446689    부산   Busan    4982             0           0   \n",
       "982      2406  1446689    부산   Busan    4982             0           0   \n",
       "\n",
       "     localOccCnt  overFlowCnt  qurRate      stdDay  \n",
       "813         4080            0  27653.0  2022-04-04  \n",
       "814         4080            0  27653.0  2022-04-04  \n",
       "862         1094            0  32374.0  2022-05-21  \n",
       "863         1094            0  32374.0  2022-05-21  \n",
       "893          148            1  32886.0  2022-06-20  \n",
       "894          148            1  32886.0  2022-06-20  \n",
       "960         7163            1  40776.0  2022-08-25  \n",
       "961         7163            1  40776.0  2022-08-25  \n",
       "981         4975            7  43180.0  2022-09-14  \n",
       "982         4975            7  43180.0  2022-09-14  "
      ]
     },
     "execution_count": 38,
     "metadata": {},
     "output_type": "execute_result"
    }
   ],
   "source": [
    "print('모든 행이 동일한 데이터 개수 : ' + str(df.duplicated(keep = False).sum()) + '개')\n",
    "df[df.duplicated(keep = False)].head(10)"
   ]
  },
  {
   "cell_type": "code",
   "execution_count": null,
   "id": "623307da",
   "metadata": {},
   "outputs": [],
   "source": [
    "## 수정해야하는 데이터만 추출"
   ]
  },
  {
   "cell_type": "code",
   "execution_count": null,
   "id": "43540289",
   "metadata": {},
   "outputs": [],
   "source": [
    "df2 = df.drop_duplicates()\n",
    "print('수정해야하는 데이터 개수 : ' + str(df2.duplicated(['stdDay'], keep = False).sum()) + '개')\n",
    "df2[df2.duplicated(['stdDay'], keep = False)].head(10)"
   ]
  },
  {
   "cell_type": "code",
   "execution_count": null,
   "id": "44f213eb",
   "metadata": {},
   "outputs": [],
   "source": [
    "## 데이터 수정"
   ]
  },
  {
   "cell_type": "code",
   "execution_count": null,
   "id": "a87d930e",
   "metadata": {},
   "outputs": [],
   "source": [
    "df.iloc[1185:1195]"
   ]
  },
  {
   "cell_type": "code",
   "execution_count": null,
   "id": "d9b37072",
   "metadata": {},
   "outputs": [],
   "source": [
    "del_index = [350, 654, 751, 752, 785, 798, 802, 807, 836, 1038, 1066, 1107, 1174, 1190]\n",
    "df_final = df2.drop(index = del_index)\n",
    "df_final.reset_index(drop = True, inplace = True)\n",
    "df_final.head(10)"
   ]
  },
  {
   "cell_type": "code",
   "execution_count": null,
   "id": "814b9822",
   "metadata": {},
   "outputs": [],
   "source": [
    "## 최종 확인"
   ]
  },
  {
   "cell_type": "code",
   "execution_count": null,
   "id": "eb07ef8b",
   "metadata": {},
   "outputs": [],
   "source": [
    "### 누적 확진자 수가 감소하는지 check"
   ]
  },
  {
   "cell_type": "code",
   "execution_count": null,
   "id": "ba22c7df",
   "metadata": {},
   "outputs": [],
   "source": [
    "df_final[df_final['defCnt'].diff() < 0]"
   ]
  },
  {
   "cell_type": "code",
   "execution_count": null,
   "id": "509c9b75",
   "metadata": {},
   "outputs": [],
   "source": [
    "plt.plot(df_final['defCnt'])"
   ]
  },
  {
   "cell_type": "code",
   "execution_count": null,
   "id": "08d40e81",
   "metadata": {},
   "outputs": [],
   "source": [
    "## 수정 후 데이터 저장"
   ]
  },
  {
   "cell_type": "code",
   "execution_count": null,
   "id": "ca36a619",
   "metadata": {},
   "outputs": [],
   "source": [
    "cleaned_df = df_final.copy()\n",
    "cleaned_df.to_csv(f'Data/CleanedData/{city}_Cleaned.csv')"
   ]
  },
  {
   "cell_type": "code",
   "execution_count": null,
   "id": "99a32e00",
   "metadata": {},
   "outputs": [],
   "source": [
    "# 대구"
   ]
  },
  {
   "cell_type": "code",
   "execution_count": null,
   "id": "9ffc2330",
   "metadata": {},
   "outputs": [],
   "source": [
    "city = '서울'\n",
    "# '서울', '부산', '대구', '인천', '광주', '대전', '울산', '세종', '경기', \n",
    "# '강원', '충북', '충남', '전북', '전남', '경북', '경남', '제주'\n",
    "\n",
    "\n",
    "df = pd.read_csv(f'Data/Rawdata/{city}_Raw.csv', encoding = 'cp949')\n",
    "df.head()"
   ]
  },
  {
   "cell_type": "code",
   "execution_count": null,
   "id": "9ed990f3",
   "metadata": {},
   "outputs": [],
   "source": [
    "## 결측치 확인"
   ]
  },
  {
   "cell_type": "code",
   "execution_count": null,
   "id": "6b4d7865",
   "metadata": {},
   "outputs": [],
   "source": [
    "df.isnull().sum()"
   ]
  },
  {
   "cell_type": "code",
   "execution_count": null,
   "id": "7627676f",
   "metadata": {},
   "outputs": [],
   "source": [
    "## 이상치 확인"
   ]
  },
  {
   "cell_type": "code",
   "execution_count": null,
   "id": "eae9ee62",
   "metadata": {},
   "outputs": [],
   "source": [
    "plt.plot(df['defCnt'])"
   ]
  },
  {
   "cell_type": "code",
   "execution_count": null,
   "id": "eec946ab",
   "metadata": {},
   "outputs": [],
   "source": [
    "## stdDay가 같은 데이터 추출"
   ]
  },
  {
   "cell_type": "code",
   "execution_count": null,
   "id": "085dae7c",
   "metadata": {},
   "outputs": [],
   "source": [
    "df[df.duplicated(['stdDay'], keep = False)].head(10)"
   ]
  },
  {
   "cell_type": "code",
   "execution_count": null,
   "id": "c55efa2f",
   "metadata": {},
   "outputs": [],
   "source": [
    "## 완전히 같은 데이터 추출"
   ]
  },
  {
   "cell_type": "code",
   "execution_count": null,
   "id": "35100ef0",
   "metadata": {},
   "outputs": [],
   "source": [
    "print('모든 행이 동일한 데이터 개수 : ' + str(df.duplicated(keep = False).sum()) + '개')\n",
    "df[df.duplicated(keep = False)].head(10)"
   ]
  },
  {
   "cell_type": "code",
   "execution_count": null,
   "id": "09b509a7",
   "metadata": {},
   "outputs": [],
   "source": [
    "## 수정해야하는 데이터만 추출"
   ]
  },
  {
   "cell_type": "code",
   "execution_count": null,
   "id": "b7344d45",
   "metadata": {},
   "outputs": [],
   "source": [
    "df2 = df.drop_duplicates()\n",
    "print('수정해야하는 데이터 개수 : ' + str(df2.duplicated(['stdDay'], keep = False).sum()) + '개')\n",
    "df2[df2.duplicated(['stdDay'], keep = False)].head(10)"
   ]
  },
  {
   "cell_type": "code",
   "execution_count": null,
   "id": "767f8c14",
   "metadata": {},
   "outputs": [],
   "source": [
    "## 데이터 수정"
   ]
  },
  {
   "cell_type": "code",
   "execution_count": null,
   "id": "3f822289",
   "metadata": {},
   "outputs": [],
   "source": [
    "df.iloc[1185:1195]"
   ]
  },
  {
   "cell_type": "code",
   "execution_count": null,
   "id": "c2bb67d3",
   "metadata": {},
   "outputs": [],
   "source": [
    "del_index = [350, 654, 751, 752, 785, 798, 802, 807, 836, 1038, 1066, 1107, 1174, 1190]\n",
    "df_final = df2.drop(index = del_index)\n",
    "df_final.reset_index(drop = True, inplace = True)\n",
    "df_final.head(10)"
   ]
  },
  {
   "cell_type": "code",
   "execution_count": null,
   "id": "e71b6f8e",
   "metadata": {},
   "outputs": [],
   "source": [
    "## 최종 확인"
   ]
  },
  {
   "cell_type": "code",
   "execution_count": null,
   "id": "9b487a98",
   "metadata": {},
   "outputs": [],
   "source": [
    "### 누적 확진자 수가 감소하는지 check"
   ]
  },
  {
   "cell_type": "code",
   "execution_count": null,
   "id": "33288c80",
   "metadata": {},
   "outputs": [],
   "source": [
    "df_final[df_final['defCnt'].diff() < 0]"
   ]
  },
  {
   "cell_type": "code",
   "execution_count": null,
   "id": "79876eb0",
   "metadata": {},
   "outputs": [],
   "source": [
    "plt.plot(df_final['defCnt'])"
   ]
  },
  {
   "cell_type": "code",
   "execution_count": null,
   "id": "897b57a1",
   "metadata": {},
   "outputs": [],
   "source": [
    "## 수정 후 데이터 저장"
   ]
  },
  {
   "cell_type": "code",
   "execution_count": null,
   "id": "edeaff21",
   "metadata": {},
   "outputs": [],
   "source": [
    "cleaned_df = df_final.copy()\n",
    "cleaned_df.to_csv(f'Data/CleanedData/{city}_Cleaned.csv')"
   ]
  },
  {
   "cell_type": "code",
   "execution_count": null,
   "id": "888e3110",
   "metadata": {},
   "outputs": [],
   "source": [
    "# 인천"
   ]
  },
  {
   "cell_type": "code",
   "execution_count": null,
   "id": "d326994f",
   "metadata": {},
   "outputs": [],
   "source": [
    "city = '서울'\n",
    "# '서울', '부산', '대구', '인천', '광주', '대전', '울산', '세종', '경기', \n",
    "# '강원', '충북', '충남', '전북', '전남', '경북', '경남', '제주'\n",
    "\n",
    "\n",
    "df = pd.read_csv(f'Data/Rawdata/{city}_Raw.csv', encoding = 'cp949')\n",
    "df.head()"
   ]
  },
  {
   "cell_type": "code",
   "execution_count": null,
   "id": "f67303f8",
   "metadata": {},
   "outputs": [],
   "source": []
  },
  {
   "cell_type": "code",
   "execution_count": null,
   "id": "7545a611",
   "metadata": {},
   "outputs": [],
   "source": []
  },
  {
   "cell_type": "code",
   "execution_count": null,
   "id": "4e6f51d9",
   "metadata": {},
   "outputs": [],
   "source": []
  },
  {
   "cell_type": "code",
   "execution_count": null,
   "id": "c8d3cb35",
   "metadata": {},
   "outputs": [],
   "source": []
  },
  {
   "cell_type": "code",
   "execution_count": null,
   "id": "7b00af9a",
   "metadata": {},
   "outputs": [],
   "source": []
  },
  {
   "cell_type": "code",
   "execution_count": null,
   "id": "53c2c40f",
   "metadata": {},
   "outputs": [],
   "source": []
  },
  {
   "cell_type": "code",
   "execution_count": null,
   "id": "de164506",
   "metadata": {},
   "outputs": [],
   "source": []
  },
  {
   "cell_type": "code",
   "execution_count": null,
   "id": "405dff0e",
   "metadata": {},
   "outputs": [],
   "source": []
  },
  {
   "cell_type": "code",
   "execution_count": null,
   "id": "3d373d1a",
   "metadata": {},
   "outputs": [],
   "source": []
  },
  {
   "cell_type": "code",
   "execution_count": null,
   "id": "692bbcd6",
   "metadata": {},
   "outputs": [],
   "source": []
  },
  {
   "cell_type": "code",
   "execution_count": null,
   "id": "bf73f11f",
   "metadata": {},
   "outputs": [],
   "source": []
  },
  {
   "cell_type": "code",
   "execution_count": null,
   "id": "7228bfee",
   "metadata": {},
   "outputs": [],
   "source": []
  },
  {
   "cell_type": "code",
   "execution_count": 39,
   "id": "26584042",
   "metadata": {
    "ExecuteTime": {
     "end_time": "2023-04-27T06:15:16.015886Z",
     "start_time": "2023-04-27T06:15:15.999901Z"
    }
   },
   "outputs": [],
   "source": [
    "# 광주"
   ]
  },
  {
   "cell_type": "code",
   "execution_count": 40,
   "id": "8ce290cf",
   "metadata": {
    "ExecuteTime": {
     "end_time": "2023-04-27T06:15:17.627686Z",
     "start_time": "2023-04-27T06:15:17.596741Z"
    }
   },
   "outputs": [
    {
     "data": {
      "text/html": [
       "<div>\n",
       "<style scoped>\n",
       "    .dataframe tbody tr th:only-of-type {\n",
       "        vertical-align: middle;\n",
       "    }\n",
       "\n",
       "    .dataframe tbody tr th {\n",
       "        vertical-align: top;\n",
       "    }\n",
       "\n",
       "    .dataframe thead th {\n",
       "        text-align: right;\n",
       "    }\n",
       "</style>\n",
       "<table border=\"1\" class=\"dataframe\">\n",
       "  <thead>\n",
       "    <tr style=\"text-align: right;\">\n",
       "      <th></th>\n",
       "      <th>deathCnt</th>\n",
       "      <th>defCnt</th>\n",
       "      <th>gubun</th>\n",
       "      <th>gubunEn</th>\n",
       "      <th>incDec</th>\n",
       "      <th>isolClearCnt</th>\n",
       "      <th>isolIngCnt</th>\n",
       "      <th>localOccCnt</th>\n",
       "      <th>overFlowCnt</th>\n",
       "      <th>qurRate</th>\n",
       "      <th>stdDay</th>\n",
       "    </tr>\n",
       "  </thead>\n",
       "  <tbody>\n",
       "    <tr>\n",
       "      <th>0</th>\n",
       "      <td>0</td>\n",
       "      <td>0</td>\n",
       "      <td>서울</td>\n",
       "      <td>Seoul</td>\n",
       "      <td>0</td>\n",
       "      <td>0</td>\n",
       "      <td>0</td>\n",
       "      <td>0</td>\n",
       "      <td>0</td>\n",
       "      <td>0.0</td>\n",
       "      <td>2020-01-20</td>\n",
       "    </tr>\n",
       "    <tr>\n",
       "      <th>1</th>\n",
       "      <td>0</td>\n",
       "      <td>0</td>\n",
       "      <td>서울</td>\n",
       "      <td>Seoul</td>\n",
       "      <td>0</td>\n",
       "      <td>0</td>\n",
       "      <td>0</td>\n",
       "      <td>0</td>\n",
       "      <td>0</td>\n",
       "      <td>0.0</td>\n",
       "      <td>2020-01-21</td>\n",
       "    </tr>\n",
       "    <tr>\n",
       "      <th>2</th>\n",
       "      <td>0</td>\n",
       "      <td>0</td>\n",
       "      <td>서울</td>\n",
       "      <td>Seoul</td>\n",
       "      <td>0</td>\n",
       "      <td>0</td>\n",
       "      <td>0</td>\n",
       "      <td>0</td>\n",
       "      <td>0</td>\n",
       "      <td>0.0</td>\n",
       "      <td>2020-01-22</td>\n",
       "    </tr>\n",
       "    <tr>\n",
       "      <th>3</th>\n",
       "      <td>0</td>\n",
       "      <td>0</td>\n",
       "      <td>서울</td>\n",
       "      <td>Seoul</td>\n",
       "      <td>0</td>\n",
       "      <td>0</td>\n",
       "      <td>0</td>\n",
       "      <td>0</td>\n",
       "      <td>0</td>\n",
       "      <td>0.0</td>\n",
       "      <td>2020-01-23</td>\n",
       "    </tr>\n",
       "    <tr>\n",
       "      <th>4</th>\n",
       "      <td>0</td>\n",
       "      <td>1</td>\n",
       "      <td>서울</td>\n",
       "      <td>Seoul</td>\n",
       "      <td>1</td>\n",
       "      <td>0</td>\n",
       "      <td>1</td>\n",
       "      <td>0</td>\n",
       "      <td>1</td>\n",
       "      <td>0.0</td>\n",
       "      <td>2020-01-24</td>\n",
       "    </tr>\n",
       "  </tbody>\n",
       "</table>\n",
       "</div>"
      ],
      "text/plain": [
       "   deathCnt  defCnt gubun gubunEn  incDec  isolClearCnt  isolIngCnt  \\\n",
       "0         0       0    서울   Seoul       0             0           0   \n",
       "1         0       0    서울   Seoul       0             0           0   \n",
       "2         0       0    서울   Seoul       0             0           0   \n",
       "3         0       0    서울   Seoul       0             0           0   \n",
       "4         0       1    서울   Seoul       1             0           1   \n",
       "\n",
       "   localOccCnt  overFlowCnt  qurRate      stdDay  \n",
       "0            0            0      0.0  2020-01-20  \n",
       "1            0            0      0.0  2020-01-21  \n",
       "2            0            0      0.0  2020-01-22  \n",
       "3            0            0      0.0  2020-01-23  \n",
       "4            0            1      0.0  2020-01-24  "
      ]
     },
     "execution_count": 40,
     "metadata": {},
     "output_type": "execute_result"
    }
   ],
   "source": [
    "city = '서울'\n",
    "# '서울', '부산', '대구', '인천', '광주', '대전', '울산', '세종', '경기', \n",
    "# '강원', '충북', '충남', '전북', '전남', '경북', '경남', '제주'\n",
    "\n",
    "\n",
    "df = pd.read_csv(f'Data/Rawdata/{city}_Raw.csv', encoding = 'cp949')\n",
    "df.head()"
   ]
  },
  {
   "cell_type": "code",
   "execution_count": null,
   "id": "68d9c15f",
   "metadata": {},
   "outputs": [],
   "source": []
  },
  {
   "cell_type": "code",
   "execution_count": null,
   "id": "80f30365",
   "metadata": {},
   "outputs": [],
   "source": []
  },
  {
   "cell_type": "code",
   "execution_count": null,
   "id": "77d9fdf6",
   "metadata": {},
   "outputs": [],
   "source": [
    "# 대전"
   ]
  },
  {
   "cell_type": "code",
   "execution_count": null,
   "id": "18b25228",
   "metadata": {},
   "outputs": [],
   "source": [
    "# 울산"
   ]
  },
  {
   "cell_type": "code",
   "execution_count": null,
   "id": "f2aca7a4",
   "metadata": {},
   "outputs": [],
   "source": [
    "city = '서울'\n",
    "# '서울', '부산', '대구', '인천', '광주', '대전', '울산', '세종', '경기', \n",
    "# '강원', '충북', '충남', '전북', '전남', '경북', '경남', '제주'\n",
    "\n",
    "\n",
    "df = pd.read_csv(f'Data/Rawdata/{city}_Raw.csv', encoding = 'cp949')\n",
    "df.head()"
   ]
  },
  {
   "cell_type": "code",
   "execution_count": null,
   "id": "bd9b8ebe",
   "metadata": {},
   "outputs": [],
   "source": [
    "# 세종"
   ]
  },
  {
   "cell_type": "code",
   "execution_count": null,
   "id": "f3179c42",
   "metadata": {},
   "outputs": [],
   "source": [
    "city = '서울'\n",
    "# '서울', '부산', '대구', '인천', '광주', '대전', '울산', '세종', '경기', \n",
    "# '강원', '충북', '충남', '전북', '전남', '경북', '경남', '제주'\n",
    "\n",
    "\n",
    "df = pd.read_csv(f'Data/Rawdata/{city}_Raw.csv', encoding = 'cp949')\n",
    "df.head()"
   ]
  },
  {
   "cell_type": "code",
   "execution_count": null,
   "id": "1a0a3948",
   "metadata": {},
   "outputs": [],
   "source": [
    "# 경기"
   ]
  },
  {
   "cell_type": "code",
   "execution_count": null,
   "id": "9e52319b",
   "metadata": {},
   "outputs": [],
   "source": [
    "city = '서울'\n",
    "# '서울', '부산', '대구', '인천', '광주', '대전', '울산', '세종', '경기', \n",
    "# '강원', '충북', '충남', '전북', '전남', '경북', '경남', '제주'\n",
    "\n",
    "\n",
    "df = pd.read_csv(f'Data/Rawdata/{city}_Raw.csv', encoding = 'cp949')\n",
    "df.head()"
   ]
  },
  {
   "cell_type": "code",
   "execution_count": 41,
   "id": "17e112a7",
   "metadata": {
    "ExecuteTime": {
     "end_time": "2023-04-27T06:15:37.693265Z",
     "start_time": "2023-04-27T06:15:37.684288Z"
    }
   },
   "outputs": [],
   "source": [
    "# 강원"
   ]
  },
  {
   "cell_type": "code",
   "execution_count": null,
   "id": "1ee9d252",
   "metadata": {},
   "outputs": [],
   "source": [
    "city = '서울'\n",
    "# '서울', '부산', '대구', '인천', '광주', '대전', '울산', '세종', '경기', \n",
    "# '강원', '충북', '충남', '전북', '전남', '경북', '경남', '제주'\n",
    "\n",
    "\n",
    "df = pd.read_csv(f'Data/Rawdata/{city}_Raw.csv', encoding = 'cp949')\n",
    "df.head()"
   ]
  },
  {
   "cell_type": "code",
   "execution_count": 42,
   "id": "424ae584",
   "metadata": {
    "ExecuteTime": {
     "end_time": "2023-04-27T06:15:40.342148Z",
     "start_time": "2023-04-27T06:15:40.328158Z"
    }
   },
   "outputs": [],
   "source": [
    "# 충북"
   ]
  },
  {
   "cell_type": "code",
   "execution_count": null,
   "id": "805026a2",
   "metadata": {},
   "outputs": [],
   "source": [
    "city = '서울'\n",
    "# '서울', '부산', '대구', '인천', '광주', '대전', '울산', '세종', '경기', \n",
    "# '강원', '충북', '충남', '전북', '전남', '경북', '경남', '제주'\n",
    "\n",
    "\n",
    "df = pd.read_csv(f'Data/Rawdata/{city}_Raw.csv', encoding = 'cp949')\n",
    "df.head()"
   ]
  },
  {
   "cell_type": "code",
   "execution_count": 43,
   "id": "52c76737",
   "metadata": {
    "ExecuteTime": {
     "end_time": "2023-04-27T06:15:42.796341Z",
     "start_time": "2023-04-27T06:15:42.780384Z"
    }
   },
   "outputs": [],
   "source": [
    "# 충남"
   ]
  },
  {
   "cell_type": "code",
   "execution_count": null,
   "id": "a8ef212d",
   "metadata": {},
   "outputs": [],
   "source": [
    "city = '서울'\n",
    "# '서울', '부산', '대구', '인천', '광주', '대전', '울산', '세종', '경기', \n",
    "# '강원', '충북', '충남', '전북', '전남', '경북', '경남', '제주'\n",
    "\n",
    "\n",
    "df = pd.read_csv(f'Data/Rawdata/{city}_Raw.csv', encoding = 'cp949')\n",
    "df.head()"
   ]
  },
  {
   "cell_type": "code",
   "execution_count": 44,
   "id": "d138371f",
   "metadata": {
    "ExecuteTime": {
     "end_time": "2023-04-27T06:15:44.343780Z",
     "start_time": "2023-04-27T06:15:44.326797Z"
    }
   },
   "outputs": [],
   "source": [
    "# 전북"
   ]
  },
  {
   "cell_type": "code",
   "execution_count": null,
   "id": "5948ae00",
   "metadata": {},
   "outputs": [],
   "source": [
    "city = '서울'\n",
    "# '서울', '부산', '대구', '인천', '광주', '대전', '울산', '세종', '경기', \n",
    "# '강원', '충북', '충남', '전북', '전남', '경북', '경남', '제주'\n",
    "\n",
    "\n",
    "df = pd.read_csv(f'Data/Rawdata/{city}_Raw.csv', encoding = 'cp949')\n",
    "df.head()"
   ]
  },
  {
   "cell_type": "code",
   "execution_count": 45,
   "id": "b0c2b2fe",
   "metadata": {
    "ExecuteTime": {
     "end_time": "2023-04-27T06:15:46.037335Z",
     "start_time": "2023-04-27T06:15:46.027362Z"
    }
   },
   "outputs": [],
   "source": [
    "# 전남"
   ]
  },
  {
   "cell_type": "code",
   "execution_count": null,
   "id": "c916171b",
   "metadata": {},
   "outputs": [],
   "source": [
    "city = '서울'\n",
    "# '서울', '부산', '대구', '인천', '광주', '대전', '울산', '세종', '경기', \n",
    "# '강원', '충북', '충남', '전북', '전남', '경북', '경남', '제주'\n",
    "\n",
    "\n",
    "df = pd.read_csv(f'Data/Rawdata/{city}_Raw.csv', encoding = 'cp949')\n",
    "df.head()"
   ]
  },
  {
   "cell_type": "code",
   "execution_count": 46,
   "id": "5c4f6286",
   "metadata": {
    "ExecuteTime": {
     "end_time": "2023-04-27T06:15:47.514794Z",
     "start_time": "2023-04-27T06:15:47.510806Z"
    }
   },
   "outputs": [],
   "source": [
    "# 경북"
   ]
  },
  {
   "cell_type": "code",
   "execution_count": null,
   "id": "7cb958ec",
   "metadata": {},
   "outputs": [],
   "source": [
    "city = '서울'\n",
    "# '서울', '부산', '대구', '인천', '광주', '대전', '울산', '세종', '경기', \n",
    "# '강원', '충북', '충남', '전북', '전남', '경북', '경남', '제주'\n",
    "\n",
    "\n",
    "df = pd.read_csv(f'Data/Rawdata/{city}_Raw.csv', encoding = 'cp949')\n",
    "df.head()"
   ]
  },
  {
   "cell_type": "code",
   "execution_count": 47,
   "id": "17252e79",
   "metadata": {
    "ExecuteTime": {
     "end_time": "2023-04-27T06:15:49.258365Z",
     "start_time": "2023-04-27T06:15:49.255371Z"
    }
   },
   "outputs": [],
   "source": [
    "# 경남"
   ]
  },
  {
   "cell_type": "code",
   "execution_count": null,
   "id": "71358f3b",
   "metadata": {},
   "outputs": [],
   "source": [
    "city = '서울'\n",
    "# '서울', '부산', '대구', '인천', '광주', '대전', '울산', '세종', '경기', \n",
    "# '강원', '충북', '충남', '전북', '전남', '경북', '경남', '제주'\n",
    "\n",
    "\n",
    "df = pd.read_csv(f'Data/Rawdata/{city}_Raw.csv', encoding = 'cp949')\n",
    "df.head()"
   ]
  },
  {
   "cell_type": "code",
   "execution_count": null,
   "id": "dec21eff",
   "metadata": {},
   "outputs": [],
   "source": [
    "# 제주"
   ]
  },
  {
   "cell_type": "code",
   "execution_count": null,
   "id": "fc1aa990",
   "metadata": {},
   "outputs": [],
   "source": [
    "city = '서울'\n",
    "# '서울', '부산', '대구', '인천', '광주', '대전', '울산', '세종', '경기', \n",
    "# '강원', '충북', '충남', '전북', '전남', '경북', '경남', '제주'\n",
    "\n",
    "\n",
    "df = pd.read_csv(f'Data/Rawdata/{city}_Raw.csv', encoding = 'cp949')\n",
    "df.head()"
   ]
  },
  {
   "cell_type": "code",
   "execution_count": null,
   "id": "fe123eb3",
   "metadata": {},
   "outputs": [],
   "source": []
  },
  {
   "cell_type": "code",
   "execution_count": null,
   "id": "0ff9b0a2",
   "metadata": {},
   "outputs": [],
   "source": []
  },
  {
   "cell_type": "code",
   "execution_count": null,
   "id": "b9bfdae3",
   "metadata": {},
   "outputs": [],
   "source": []
  },
  {
   "cell_type": "code",
   "execution_count": null,
   "id": "7a611475",
   "metadata": {},
   "outputs": [],
   "source": []
  },
  {
   "cell_type": "code",
   "execution_count": null,
   "id": "fb1553c6",
   "metadata": {},
   "outputs": [],
   "source": []
  },
  {
   "cell_type": "code",
   "execution_count": null,
   "id": "38482cf7",
   "metadata": {},
   "outputs": [],
   "source": []
  },
  {
   "cell_type": "code",
   "execution_count": null,
   "id": "a6fd248c",
   "metadata": {},
   "outputs": [],
   "source": []
  },
  {
   "cell_type": "code",
   "execution_count": null,
   "id": "16e46e5f",
   "metadata": {},
   "outputs": [],
   "source": []
  },
  {
   "cell_type": "code",
   "execution_count": null,
   "id": "260be76f",
   "metadata": {},
   "outputs": [],
   "source": []
  },
  {
   "cell_type": "code",
   "execution_count": null,
   "id": "7138d38d",
   "metadata": {},
   "outputs": [],
   "source": []
  },
  {
   "cell_type": "code",
   "execution_count": null,
   "id": "9b9ff906",
   "metadata": {},
   "outputs": [],
   "source": []
  },
  {
   "cell_type": "code",
   "execution_count": null,
   "id": "57d2426c",
   "metadata": {},
   "outputs": [],
   "source": []
  },
  {
   "cell_type": "code",
   "execution_count": null,
   "id": "859aad71",
   "metadata": {},
   "outputs": [],
   "source": []
  },
  {
   "cell_type": "code",
   "execution_count": null,
   "id": "013ab718",
   "metadata": {},
   "outputs": [],
   "source": []
  },
  {
   "cell_type": "code",
   "execution_count": null,
   "id": "08ea6ec4",
   "metadata": {},
   "outputs": [],
   "source": []
  },
  {
   "cell_type": "code",
   "execution_count": null,
   "id": "3f9ce932",
   "metadata": {},
   "outputs": [],
   "source": []
  },
  {
   "cell_type": "code",
   "execution_count": null,
   "id": "c4129106",
   "metadata": {},
   "outputs": [],
   "source": []
  },
  {
   "cell_type": "code",
   "execution_count": null,
   "id": "e467916e",
   "metadata": {},
   "outputs": [],
   "source": []
  },
  {
   "cell_type": "code",
   "execution_count": null,
   "id": "72d299a1",
   "metadata": {},
   "outputs": [],
   "source": []
  },
  {
   "cell_type": "code",
   "execution_count": null,
   "id": "81703190",
   "metadata": {},
   "outputs": [],
   "source": []
  },
  {
   "cell_type": "code",
   "execution_count": null,
   "id": "61202809",
   "metadata": {},
   "outputs": [],
   "source": []
  },
  {
   "cell_type": "code",
   "execution_count": null,
   "id": "12580419",
   "metadata": {},
   "outputs": [],
   "source": []
  },
  {
   "cell_type": "code",
   "execution_count": null,
   "id": "7a8a61b5",
   "metadata": {},
   "outputs": [],
   "source": []
  },
  {
   "cell_type": "code",
   "execution_count": null,
   "id": "ffa469df",
   "metadata": {},
   "outputs": [],
   "source": []
  },
  {
   "cell_type": "code",
   "execution_count": null,
   "id": "e7b6eb2a",
   "metadata": {},
   "outputs": [],
   "source": []
  },
  {
   "cell_type": "code",
   "execution_count": null,
   "id": "3d91bd45",
   "metadata": {},
   "outputs": [],
   "source": []
  },
  {
   "cell_type": "code",
   "execution_count": null,
   "id": "4a29b0a5",
   "metadata": {},
   "outputs": [],
   "source": []
  },
  {
   "cell_type": "code",
   "execution_count": null,
   "id": "9da21101",
   "metadata": {},
   "outputs": [],
   "source": []
  },
  {
   "cell_type": "code",
   "execution_count": null,
   "id": "7b971448",
   "metadata": {},
   "outputs": [],
   "source": []
  },
  {
   "cell_type": "code",
   "execution_count": null,
   "id": "e2beb254",
   "metadata": {},
   "outputs": [],
   "source": []
  },
  {
   "cell_type": "code",
   "execution_count": null,
   "id": "db1ee0f2",
   "metadata": {},
   "outputs": [],
   "source": []
  },
  {
   "cell_type": "code",
   "execution_count": null,
   "id": "196e57a8",
   "metadata": {},
   "outputs": [],
   "source": []
  },
  {
   "cell_type": "code",
   "execution_count": null,
   "id": "8ce9de70",
   "metadata": {},
   "outputs": [],
   "source": []
  },
  {
   "cell_type": "code",
   "execution_count": null,
   "id": "43d8723e",
   "metadata": {},
   "outputs": [],
   "source": []
  },
  {
   "cell_type": "code",
   "execution_count": null,
   "id": "da6eb3bb",
   "metadata": {},
   "outputs": [],
   "source": []
  },
  {
   "cell_type": "code",
   "execution_count": null,
   "id": "0812fb80",
   "metadata": {},
   "outputs": [],
   "source": []
  },
  {
   "cell_type": "code",
   "execution_count": null,
   "id": "c7659693",
   "metadata": {},
   "outputs": [],
   "source": []
  },
  {
   "cell_type": "code",
   "execution_count": null,
   "id": "c68cc18b",
   "metadata": {},
   "outputs": [],
   "source": []
  },
  {
   "cell_type": "code",
   "execution_count": null,
   "id": "d31aca4c",
   "metadata": {},
   "outputs": [],
   "source": []
  },
  {
   "cell_type": "code",
   "execution_count": null,
   "id": "0c70875c",
   "metadata": {},
   "outputs": [],
   "source": []
  }
 ],
 "metadata": {
  "kernelspec": {
   "display_name": "KDA_DA",
   "language": "python",
   "name": "kda_da"
  },
  "language_info": {
   "codemirror_mode": {
    "name": "ipython",
    "version": 3
   },
   "file_extension": ".py",
   "mimetype": "text/x-python",
   "name": "python",
   "nbconvert_exporter": "python",
   "pygments_lexer": "ipython3",
   "version": "3.10.8"
  },
  "toc": {
   "base_numbering": 1,
   "nav_menu": {},
   "number_sections": true,
   "sideBar": true,
   "skip_h1_title": false,
   "title_cell": "Table of Contents",
   "title_sidebar": "Contents",
   "toc_cell": false,
   "toc_position": {},
   "toc_section_display": true,
   "toc_window_display": false
  }
 },
 "nbformat": 4,
 "nbformat_minor": 5
}
