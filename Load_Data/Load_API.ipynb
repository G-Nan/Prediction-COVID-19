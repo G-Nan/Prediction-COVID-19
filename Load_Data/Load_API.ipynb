{
 "cells": [
  {
   "cell_type": "code",
   "execution_count": 9,
   "metadata": {
    "ExecuteTime": {
     "end_time": "2023-04-05T13:41:47.007481Z",
     "start_time": "2023-04-05T13:41:45.002680Z"
    },
    "executionInfo": {
     "elapsed": 544,
     "status": "ok",
     "timestamp": 1679389234357,
     "user": {
      "displayName": "서민경",
      "userId": "09611163852089986535"
     },
     "user_tz": -540
    },
    "id": "Ckdvv2z4lTKr"
   },
   "outputs": [],
   "source": [
    "import xmltodict\n",
    "import requests\n",
    "import pandas as pd"
   ]
  },
  {
   "cell_type": "code",
   "execution_count": 25,
   "metadata": {
    "ExecuteTime": {
     "end_time": "2023-04-05T13:50:31.593712Z",
     "start_time": "2023-04-05T13:50:31.580748Z"
    }
   },
   "outputs": [
    {
     "data": {
      "text/plain": [
       "'http://apis.data.go.kr/1352000/ODMS_COVID_04/callCovid04Api?serviceKey=vh1TU%2B6gkd3lndqMovQxTWu1mREkKj1aEAZyioG4LKCqrp3HiBs30H56eBWWna7m6IlqjyDZHvmJNtII6G27Qw%3D%3D&pageNo=1&gubun=부산'"
      ]
     },
     "execution_count": 25,
     "metadata": {},
     "output_type": "execute_result"
    }
   ],
   "source": [
    "url_base = \"http://apis.data.go.kr/1352000/ODMS_COVID_04/callCovid04Api\"\n",
    "url_serviceKey = \"vh1TU%2B6gkd3lndqMovQxTWu1mREkKj1aEAZyioG4LKCqrp3HiBs30H56eBWWna7m6IlqjyDZHvmJNtII6G27Qw%3D%3D\"\n",
    "cities = ['서울', '부산', '대구', '인천', '광주', '대전', \n",
    "          '울산', '세종', '경기', '강원', '충북', '충남', \n",
    "          '전북', '전남', '경북', '경남', '제주']"
   ]
  },
  {
   "cell_type": "code",
   "execution_count": 37,
   "metadata": {
    "ExecuteTime": {
     "end_time": "2023-04-05T14:00:22.243892Z",
     "start_time": "2023-04-05T13:56:37.292108Z"
    },
    "scrolled": true
   },
   "outputs": [
    {
     "name": "stdout",
     "output_type": "stream",
     "text": [
      "서울\n",
      "부산\n",
      "대구\n",
      "인천\n",
      "광주\n",
      "대전\n",
      "울산\n",
      "세종\n",
      "경기\n",
      "강원\n",
      "충북\n",
      "충남\n",
      "전북\n",
      "전남\n",
      "경북\n",
      "경남\n",
      "제주\n"
     ]
    }
   ],
   "source": [
    "for url_city in cities:\n",
    "    df_list = []\n",
    "    \n",
    "    for page_num in range(1, 4):\n",
    "        url = url_base + '?serviceKey=' + url_serviceKey + '&pageNo=' + str(page_num) + '&gubun=' + url_city\n",
    "        req = requests.get(url).content\n",
    "        xmlObject = xmltodict.parse(req)\n",
    "        df_sub = pd.DataFrame(xmlObject['response']['body']['items']['item'])\n",
    "        df_list.append(df_sub)\n",
    "    \n",
    "    df = pd.concat(df_list)\n",
    "    df.drop('gubunCn', axis = 1, inplace = True)\n",
    "    df.sort_values(by = 'stdDay', inplace = True)   \n",
    "    df.reset_index(drop = True, inplace = True)\n",
    "    df.to_csv(f\"../Data/Rawdata/{url_city}_Rawdata.csv\", encoding = 'cp949')\n",
    "    print(url_city)"
   ]
  }
 ],
 "metadata": {
  "colab": {
   "authorship_tag": "ABX9TyNtFetfpxihd/Qwmm1NSg+j",
   "mount_file_id": "17tZiIxKVIg3wbNhQjhjHeYChQ-undvjg",
   "provenance": []
  },
  "kernelspec": {
   "display_name": "Python 3 (ipykernel)",
   "language": "python",
   "name": "python3"
  },
  "language_info": {
   "codemirror_mode": {
    "name": "ipython",
    "version": 3
   },
   "file_extension": ".py",
   "mimetype": "text/x-python",
   "name": "python",
   "nbconvert_exporter": "python",
   "pygments_lexer": "ipython3",
   "version": "3.9.13"
  },
  "toc": {
   "base_numbering": 1,
   "nav_menu": {},
   "number_sections": true,
   "sideBar": true,
   "skip_h1_title": false,
   "title_cell": "Table of Contents",
   "title_sidebar": "Contents",
   "toc_cell": false,
   "toc_position": {},
   "toc_section_display": true,
   "toc_window_display": false
  }
 },
 "nbformat": 4,
 "nbformat_minor": 1
}
